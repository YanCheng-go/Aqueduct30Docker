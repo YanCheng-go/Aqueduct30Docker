{
 "cells": [
  {
   "cell_type": "code",
   "execution_count": 1,
   "metadata": {
    "collapsed": true
   },
   "outputs": [],
   "source": [
    "import pandas as pd\n",
    "import numpy as np\n",
    "from sqlalchemy import *\n",
    "\n",
    "\n",
    "d = {'integer_with_nan' : [21, 45, 45, np.NaN],\n",
    "     'integer_without_nan' : [21, 45, 45, 0],\n",
    "     'float_with_nan' : [20.2, 40.3, np.NaN, 1000],\n",
    "     'float_without_nan' : [20.2, 40.3, 66.7, 1000],\n",
    "     'string_without_nan' : [\"foo\",\"bar\",\"fooz\",\"bars\"],\n",
    "     'string_with_nan' : [np.NaN,\"bar\",\"fooz\",\"bars\"]}\n"
   ]
  },
  {
   "cell_type": "code",
   "execution_count": 2,
   "metadata": {
    "collapsed": true
   },
   "outputs": [],
   "source": [
    "df_raw = pd.DataFrame(d)"
   ]
  },
  {
   "cell_type": "code",
   "execution_count": null,
   "metadata": {
    "collapsed": true
   },
   "outputs": [],
   "source": [
    "df_raw[\"valid_integer\"] = df_raw[\"integer_with_nan\"]"
   ]
  }
 ],
 "metadata": {
  "kernelspec": {
   "display_name": "Python 35",
   "language": "python",
   "name": "python35"
  },
  "language_info": {
   "codemirror_mode": {
    "name": "ipython",
    "version": 3
   },
   "file_extension": ".py",
   "mimetype": "text/x-python",
   "name": "python",
   "nbconvert_exporter": "python",
   "pygments_lexer": "ipython3",
   "version": "3.5.4"
  }
 },
 "nbformat": 4,
 "nbformat_minor": 2
}
