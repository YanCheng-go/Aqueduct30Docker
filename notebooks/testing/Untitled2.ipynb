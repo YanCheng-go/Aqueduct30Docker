{
 "cells": [
  {
   "cell_type": "code",
   "execution_count": 1,
   "metadata": {
    "collapsed": true
   },
   "outputs": [],
   "source": [
    "# Database settings\n",
    "DATABASE_IDENTIFIER = \"aqueduct30v01\"\n",
    "DATABASE_NAME = \"database01\""
   ]
  },
  {
   "cell_type": "code",
   "execution_count": 2,
   "metadata": {
    "collapsed": true
   },
   "outputs": [],
   "source": [
    "import os\n",
    "import pandas as pd\n",
    "import geopandas as gpd\n",
    "from ast import literal_eval\n",
    "import boto3\n",
    "import botocore\n",
    "from sqlalchemy import *\n",
    "from geoalchemy2 import Geometry, WKTElement\n",
    "from shapely.geometry.multipolygon import MultiPolygon"
   ]
  },
  {
   "cell_type": "code",
   "execution_count": 3,
   "metadata": {
    "collapsed": true
   },
   "outputs": [],
   "source": [
    "# RDS Connection\n",
    "def rdsConnect(database_identifier,database_name):\n",
    "    rds = boto3.client('rds')\n",
    "    F = open(\".password\",\"r\")\n",
    "    password = F.read().splitlines()[0]\n",
    "    F.close()\n",
    "    response = rds.describe_db_instances(DBInstanceIdentifier=\"%s\"%(database_identifier))\n",
    "    status = response[\"DBInstances\"][0][\"DBInstanceStatus\"]\n",
    "    print(\"Status:\",status)\n",
    "    endpoint = response[\"DBInstances\"][0][\"Endpoint\"][\"Address\"]\n",
    "    print(\"Endpoint:\",endpoint)\n",
    "    engine = create_engine('postgresql://rutgerhofste:%s@%s:5432/%s' %(password,endpoint,database_name))\n",
    "    connection = engine.connect()\n",
    "    return engine, connection"
   ]
  },
  {
   "cell_type": "code",
   "execution_count": 5,
   "metadata": {},
   "outputs": [
    {
     "name": "stdout",
     "output_type": "stream",
     "text": [
      "Status: available\n",
      "Endpoint: aqueduct30v01.cgpnumwmfcqc.eu-central-1.rds.amazonaws.com\n"
     ]
    }
   ],
   "source": [
    "engine, connection = rdsConnect(DATABASE_IDENTIFIER,DATABASE_NAME)"
   ]
  },
  {
   "cell_type": "code",
   "execution_count": 6,
   "metadata": {
    "collapsed": true
   },
   "outputs": [],
   "source": [
    "sql = \"SELECT * FROM fao_minor_v04\""
   ]
  },
  {
   "cell_type": "code",
   "execution_count": 7,
   "metadata": {
    "collapsed": true
   },
   "outputs": [],
   "source": [
    "gdfMinor =gpd.GeoDataFrame.from_postgis(sql,connection,geom_col='geom' )"
   ]
  },
  {
   "cell_type": "code",
   "execution_count": 8,
   "metadata": {},
   "outputs": [
    {
     "data": {
      "text/html": [
       "<div>\n",
       "<style>\n",
       "    .dataframe thead tr:only-child th {\n",
       "        text-align: right;\n",
       "    }\n",
       "\n",
       "    .dataframe thead th {\n",
       "        text-align: left;\n",
       "    }\n",
       "\n",
       "    .dataframe tbody tr th {\n",
       "        vertical-align: top;\n",
       "    }\n",
       "</style>\n",
       "<table border=\"1\" class=\"dataframe\">\n",
       "  <thead>\n",
       "    <tr style=\"text-align: right;\">\n",
       "      <th></th>\n",
       "      <th>sub_bas</th>\n",
       "      <th>to_bas</th>\n",
       "      <th>maj_bas</th>\n",
       "      <th>sub_name</th>\n",
       "      <th>sub_area</th>\n",
       "      <th>faoid</th>\n",
       "      <th>geom</th>\n",
       "    </tr>\n",
       "  </thead>\n",
       "  <tbody>\n",
       "    <tr>\n",
       "      <th>0</th>\n",
       "      <td>1001</td>\n",
       "      <td>-999</td>\n",
       "      <td>2001</td>\n",
       "      <td>Bravo / Matamoros / Reynosa</td>\n",
       "      <td>9533</td>\n",
       "      <td>MAJ_BAS_2001_SUB_BAS_0001001</td>\n",
       "      <td>(POLYGON ((-97.42500000000054 25.3583333333327...</td>\n",
       "    </tr>\n",
       "    <tr>\n",
       "      <th>1</th>\n",
       "      <td>1001</td>\n",
       "      <td>-999</td>\n",
       "      <td>3001</td>\n",
       "      <td>Panama Canal</td>\n",
       "      <td>5575</td>\n",
       "      <td>MAJ_BAS_3001_SUB_BAS_0001001</td>\n",
       "      <td>(POLYGON ((-79.40416666583354 9.01666666183348...</td>\n",
       "    </tr>\n",
       "    <tr>\n",
       "      <th>2</th>\n",
       "      <td>1001</td>\n",
       "      <td>-999</td>\n",
       "      <td>4001</td>\n",
       "      <td>Northern Spain Coast</td>\n",
       "      <td>29194</td>\n",
       "      <td>MAJ_BAS_4001_SUB_BAS_0001001</td>\n",
       "      <td>(POLYGON ((-7.245833333094279 43.5666666664764...</td>\n",
       "    </tr>\n",
       "    <tr>\n",
       "      <th>3</th>\n",
       "      <td>1001</td>\n",
       "      <td>-999</td>\n",
       "      <td>4001</td>\n",
       "      <td>Northern Spain Coast</td>\n",
       "      <td>29194</td>\n",
       "      <td>MAJ_BAS_4001_SUB_BAS_0001001</td>\n",
       "      <td>(POLYGON ((-8.837500000004475 43.3499999999882...</td>\n",
       "    </tr>\n",
       "    <tr>\n",
       "      <th>4</th>\n",
       "      <td>1001</td>\n",
       "      <td>-999</td>\n",
       "      <td>4001</td>\n",
       "      <td>Northern Spain Coast</td>\n",
       "      <td>29194</td>\n",
       "      <td>MAJ_BAS_4001_SUB_BAS_0001001</td>\n",
       "      <td>(POLYGON ((-7.862500000000175 43.7791666666661...</td>\n",
       "    </tr>\n",
       "  </tbody>\n",
       "</table>\n",
       "</div>"
      ],
      "text/plain": [
       "   sub_bas  to_bas  maj_bas                     sub_name  sub_area  \\\n",
       "0     1001    -999     2001  Bravo / Matamoros / Reynosa      9533   \n",
       "1     1001    -999     3001                 Panama Canal      5575   \n",
       "2     1001    -999     4001         Northern Spain Coast     29194   \n",
       "3     1001    -999     4001         Northern Spain Coast     29194   \n",
       "4     1001    -999     4001         Northern Spain Coast     29194   \n",
       "\n",
       "                          faoid  \\\n",
       "0  MAJ_BAS_2001_SUB_BAS_0001001   \n",
       "1  MAJ_BAS_3001_SUB_BAS_0001001   \n",
       "2  MAJ_BAS_4001_SUB_BAS_0001001   \n",
       "3  MAJ_BAS_4001_SUB_BAS_0001001   \n",
       "4  MAJ_BAS_4001_SUB_BAS_0001001   \n",
       "\n",
       "                                                geom  \n",
       "0  (POLYGON ((-97.42500000000054 25.3583333333327...  \n",
       "1  (POLYGON ((-79.40416666583354 9.01666666183348...  \n",
       "2  (POLYGON ((-7.245833333094279 43.5666666664764...  \n",
       "3  (POLYGON ((-8.837500000004475 43.3499999999882...  \n",
       "4  (POLYGON ((-7.862500000000175 43.7791666666661...  "
      ]
     },
     "execution_count": 8,
     "metadata": {},
     "output_type": "execute_result"
    }
   ],
   "source": [
    "gdfMinor.head()"
   ]
  },
  {
   "cell_type": "code",
   "execution_count": null,
   "metadata": {
    "collapsed": true
   },
   "outputs": [],
   "source": [
    "gdfMinor"
   ]
  }
 ],
 "metadata": {
  "kernelspec": {
   "display_name": "Python 35",
   "language": "python",
   "name": "python35"
  },
  "language_info": {
   "codemirror_mode": {
    "name": "ipython",
    "version": 3
   },
   "file_extension": ".py",
   "mimetype": "text/x-python",
   "name": "python",
   "nbconvert_exporter": "python",
   "pygments_lexer": "ipython3",
   "version": "3.5.4"
  }
 },
 "nbformat": 4,
 "nbformat_minor": 2
}
