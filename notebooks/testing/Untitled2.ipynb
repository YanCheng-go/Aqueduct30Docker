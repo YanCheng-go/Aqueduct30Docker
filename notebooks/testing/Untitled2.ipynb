{
 "cells": [
  {
   "cell_type": "code",
   "execution_count": 1,
   "metadata": {
    "collapsed": true
   },
   "outputs": [],
   "source": [
    "import ee"
   ]
  },
  {
   "cell_type": "code",
   "execution_count": 2,
   "metadata": {
    "collapsed": true
   },
   "outputs": [],
   "source": [
    "ee.Initialize()"
   ]
  },
  {
   "cell_type": "code",
   "execution_count": 8,
   "metadata": {},
   "outputs": [],
   "source": [
    "def add_image_property_prefix(image,prefix):\n",
    "    \"\"\" Add prefix to properties\n",
    "    \n",
    "    Args:\n",
    "        image (ee.Image) : image with properties.\n",
    "        prefix (string) : prefix string.\n",
    "    \n",
    "    Returns:\n",
    "        dummy_image (ee.Image) : Null image with renamed properties\n",
    "    \n",
    "    \"\"\"\n",
    "    image = ee.Image(image)\n",
    "    original_keys = image.propertyNames()\n",
    "    values = original_keys.map(lambda x: ee.String(image.get(x)))\n",
    "    prefixed_keys = original_keys.map(lambda x: ee.String(prefix).cat(x))\n",
    "    prefixed_properties = ee.Dictionary.fromLists(prefixed_keys,values)\n",
    "    dummy_image = ee.Image(None).setMulti(prefixed_properties)\n",
    "    return dummy_image"
   ]
  },
  {
   "cell_type": "code",
   "execution_count": 9,
   "metadata": {
    "collapsed": true
   },
   "outputs": [],
   "source": [
    "def zonal_stats_image_propertes(i_zones,i_values,i_result,extra_properties={},zones_prefix=\"zones_\",values_prefix=\"values_\"):\n",
    "    \"\"\" Copy the properties of the zonal image and value image to the result image\n",
    "    -------------------------------------------------------------------------------\n",
    "    \n",
    "    Args:\n",
    "        i_zones (ee.Image) : Zones image.\n",
    "        i_values (ee.Image) : Values image.\n",
    "        i_result (ee.Image) : Result image from raster zonal stats.\n",
    "        extra_properties (dict) : Dictionary with extra properties.\n",
    "        zones_prefix (string) : Prefix for zones image. Defaults to 'zones_'\n",
    "        values_prefix (string) : Prefix for values image. Defaults to 'values_'\n",
    "        \n",
    "    \n",
    "    TODO:\n",
    "        Add option to include weigth image.\n",
    " \n",
    "    \"\"\"\n",
    "    \n",
    "    i_dummy_zones_prefixed = add_image_property_prefix(i_zones,zones_prefix)\n",
    "    i_dummy_values_prefixed = add_image_property_prefix(i_values,values_prefix)   \n",
    "    i_result = i_result.copyProperties(i_dummy_zones_prefixed).copyProperties(i_dummy_values_prefixed)\n",
    "    return ee.Image(i_result)"
   ]
  },
  {
   "cell_type": "code",
   "execution_count": 10,
   "metadata": {},
   "outputs": [],
   "source": [
    "i_values = ee.Image(\"projects/WRI-Aquaduct/Y2017M09D05_RH_Create_Area_Image_EE_V01/output_V07/global_area_m2_5min_V07\")"
   ]
  },
  {
   "cell_type": "code",
   "execution_count": 11,
   "metadata": {
    "collapsed": true
   },
   "outputs": [],
   "source": [
    "i_zones = ee.Image(\"projects/WRI-Aquaduct/Y2018M04D20_RH_Ingest_HydroBasins_GCS_EE_V01/output_V02/hybas_lev06_v1c_merged_fiona_30s_V04\")"
   ]
  },
  {
   "cell_type": "code",
   "execution_count": 14,
   "metadata": {},
   "outputs": [],
   "source": [
    "i_result = ee.Image(1)"
   ]
  },
  {
   "cell_type": "code",
   "execution_count": 15,
   "metadata": {
    "collapsed": true
   },
   "outputs": [],
   "source": [
    "i_result = zonal_stats_image_propertes(i_zones,i_values,i_result)"
   ]
  },
  {
   "cell_type": "code",
   "execution_count": 16,
   "metadata": {},
   "outputs": [
    {
     "data": {
      "text/plain": [
       "{'bands': [{'crs': 'EPSG:4326',\n",
       "   'crs_transform': [1.0, 0.0, 0.0, 0.0, 1.0, 0.0],\n",
       "   'data_type': {'max': 1, 'min': 1, 'precision': 'int', 'type': 'PixelType'},\n",
       "   'id': 'constant'}],\n",
       " 'properties': {'values_exportdescription': 'global_area_m2_5min',\n",
       "  'values_indicator': 'area',\n",
       "  'values_ingested_by': 'RutgerHofste',\n",
       "  'values_output_version': 7.0,\n",
       "  'values_script_used': 'Y2017M09D05_RH_Create_Area_Image_EE_V01',\n",
       "  'values_spatial_resolution': '5min',\n",
       "  'values_system:asset_size': 264069,\n",
       "  'values_system:band_names': ['area'],\n",
       "  'values_system:bands': {'area': {'crs': 'EPSG:4326',\n",
       "    'crs_transform': [0.08333333333333333,\n",
       "     0.0,\n",
       "     -180.0,\n",
       "     0.0,\n",
       "     -0.08333333333333333,\n",
       "     90.0],\n",
       "    'data_type': {'precision': 'float', 'type': 'PixelType'},\n",
       "    'dimensions': [4320, 2160]}},\n",
       "  'values_system:footprint': {'coordinates': [[-180.0, -90.0],\n",
       "    [180.0, -90.0],\n",
       "    [180.0, 90.0],\n",
       "    [-180.0, 90.0],\n",
       "    [-180.0, -90.0]],\n",
       "   'type': 'LinearRing'},\n",
       "  'values_system:id': 'projects/WRI-Aquaduct/Y2017M09D05_RH_Create_Area_Image_EE_V01/output_V07/global_area_m2_5min_V07',\n",
       "  'values_system:version': 1525345753601665,\n",
       "  'values_unit': 'm2',\n",
       "  'zones_WWF_lakes': 'standard_no_lakes',\n",
       "  'zones_WWF_version': 'v1c',\n",
       "  'zones_algorithm_used_for_merge': 'fiona',\n",
       "  'zones_exportdescription': 'hybas_lev06_v1c_merged_fiona_30s_V04',\n",
       "  'zones_extension': 'tif',\n",
       "  'zones_file_name': 'hybas_lev06_v1c_merged_fiona_30s_V04',\n",
       "  'zones_geographic_range': 'merged',\n",
       "  'zones_indicator': 'hybas',\n",
       "  'zones_ingested_by': 'RutgerHofste',\n",
       "  'zones_output_version': 2.0,\n",
       "  'zones_parameter': 'hybas_lev06_v1c_merged_fiona_30s_V04',\n",
       "  'zones_pfafstetter_level': 'lev06',\n",
       "  'zones_script_used': 'Y2018M04D20_RH_Ingest_HydroBasins_GCS_EE_V01',\n",
       "  'zones_spatial_resolution': '30s',\n",
       "  'zones_system:asset_size': 26172151,\n",
       "  'zones_system:band_names': ['b1'],\n",
       "  'zones_system:bands': {'b1': {'crs': 'EPSG:4326',\n",
       "    'crs_transform': [0.008333333333333333,\n",
       "     0.0,\n",
       "     -180.0,\n",
       "     0.0,\n",
       "     -0.008333333333333333,\n",
       "     90.0],\n",
       "    'data_type': {'precision': 'double', 'type': 'PixelType'},\n",
       "    'dimensions': [43200, 21600]}},\n",
       "  'zones_system:footprint': {'coordinates': [[-180.0, -90.0],\n",
       "    [180.0, -90.0],\n",
       "    [180.0, 90.0],\n",
       "    [-180.0, 90.0],\n",
       "    [-180.0, -90.0]],\n",
       "   'type': 'LinearRing'},\n",
       "  'zones_system:id': 'projects/WRI-Aquaduct/Y2018M04D20_RH_Ingest_HydroBasins_GCS_EE_V01/output_V02/hybas_lev06_v1c_merged_fiona_30s_V04',\n",
       "  'zones_system:version': 1525336418820106},\n",
       " 'type': 'Image'}"
      ]
     },
     "execution_count": 16,
     "metadata": {},
     "output_type": "execute_result"
    }
   ],
   "source": [
    "i_result.getInfo()"
   ]
  },
  {
   "cell_type": "code",
   "execution_count": null,
   "metadata": {
    "collapsed": true
   },
   "outputs": [],
   "source": []
  }
 ],
 "metadata": {
  "kernelspec": {
   "display_name": "Python 35",
   "language": "python",
   "name": "python35"
  },
  "language_info": {
   "codemirror_mode": {
    "name": "ipython",
    "version": 3
   },
   "file_extension": ".py",
   "mimetype": "text/x-python",
   "name": "python",
   "nbconvert_exporter": "python",
   "pygments_lexer": "ipython3",
   "version": "3.5.4"
  }
 },
 "nbformat": 4,
 "nbformat_minor": 2
}
