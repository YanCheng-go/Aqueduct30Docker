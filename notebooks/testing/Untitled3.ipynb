{
 "cells": [
  {
   "cell_type": "code",
   "execution_count": 1,
   "metadata": {
    "collapsed": true
   },
   "outputs": [],
   "source": [
    "import pandas as pd\n",
    "import numpy as np\n",
    "from sqlalchemy import *\n",
    "\n",
    "d = {'integer_with_nan' : [21, 45, 45, np.NaN],\n",
    "     'integer_without_nan' : [21, 45, 45, 0],\n",
    "     'float_with_nan' : [20.2, 40.3, np.NaN, 1000],\n",
    "     'float_without_nan' : [20.2, 40.3, 66.7, 1000],\n",
    "     'string_without_nan' : [\"foo\",\"bar\",\"fooz\",\"bars\"],\n",
    "     'string_with_nan' : [np.NaN,\"bar\",\"fooz\",\"bars\"]}"
   ]
  },
  {
   "cell_type": "code",
   "execution_count": 2,
   "metadata": {
    "collapsed": true
   },
   "outputs": [],
   "source": [
    "df_raw = pd.DataFrame(d)"
   ]
  },
  {
   "cell_type": "code",
   "execution_count": 10,
   "metadata": {},
   "outputs": [],
   "source": [
    "import datetime"
   ]
  },
  {
   "cell_type": "code",
   "execution_count": 7,
   "metadata": {},
   "outputs": [],
   "source": [
    "df_raw[\"test\"] = pd.to_datetime('today')"
   ]
  },
  {
   "cell_type": "code",
   "execution_count": 8,
   "metadata": {},
   "outputs": [
    {
     "data": {
      "text/html": [
       "<div>\n",
       "<style scoped>\n",
       "    .dataframe tbody tr th:only-of-type {\n",
       "        vertical-align: middle;\n",
       "    }\n",
       "\n",
       "    .dataframe tbody tr th {\n",
       "        vertical-align: top;\n",
       "    }\n",
       "\n",
       "    .dataframe thead th {\n",
       "        text-align: right;\n",
       "    }\n",
       "</style>\n",
       "<table border=\"1\" class=\"dataframe\">\n",
       "  <thead>\n",
       "    <tr style=\"text-align: right;\">\n",
       "      <th></th>\n",
       "      <th>float_with_nan</th>\n",
       "      <th>float_without_nan</th>\n",
       "      <th>integer_with_nan</th>\n",
       "      <th>integer_without_nan</th>\n",
       "      <th>string_with_nan</th>\n",
       "      <th>string_without_nan</th>\n",
       "      <th>test</th>\n",
       "    </tr>\n",
       "  </thead>\n",
       "  <tbody>\n",
       "    <tr>\n",
       "      <th>0</th>\n",
       "      <td>20.2</td>\n",
       "      <td>20.2</td>\n",
       "      <td>21.0</td>\n",
       "      <td>21</td>\n",
       "      <td>NaN</td>\n",
       "      <td>foo</td>\n",
       "      <td>2018-05-31</td>\n",
       "    </tr>\n",
       "    <tr>\n",
       "      <th>1</th>\n",
       "      <td>40.3</td>\n",
       "      <td>40.3</td>\n",
       "      <td>45.0</td>\n",
       "      <td>45</td>\n",
       "      <td>bar</td>\n",
       "      <td>bar</td>\n",
       "      <td>2018-05-31</td>\n",
       "    </tr>\n",
       "    <tr>\n",
       "      <th>2</th>\n",
       "      <td>NaN</td>\n",
       "      <td>66.7</td>\n",
       "      <td>45.0</td>\n",
       "      <td>45</td>\n",
       "      <td>fooz</td>\n",
       "      <td>fooz</td>\n",
       "      <td>2018-05-31</td>\n",
       "    </tr>\n",
       "    <tr>\n",
       "      <th>3</th>\n",
       "      <td>1000.0</td>\n",
       "      <td>1000.0</td>\n",
       "      <td>NaN</td>\n",
       "      <td>0</td>\n",
       "      <td>bars</td>\n",
       "      <td>bars</td>\n",
       "      <td>2018-05-31</td>\n",
       "    </tr>\n",
       "  </tbody>\n",
       "</table>\n",
       "</div>"
      ],
      "text/plain": [
       "   float_with_nan  float_without_nan  integer_with_nan  integer_without_nan  \\\n",
       "0            20.2               20.2              21.0                   21   \n",
       "1            40.3               40.3              45.0                   45   \n",
       "2             NaN               66.7              45.0                   45   \n",
       "3          1000.0             1000.0               NaN                    0   \n",
       "\n",
       "  string_with_nan string_without_nan       test  \n",
       "0             NaN                foo 2018-05-31  \n",
       "1             bar                bar 2018-05-31  \n",
       "2            fooz               fooz 2018-05-31  \n",
       "3            bars               bars 2018-05-31  "
      ]
     },
     "execution_count": 8,
     "metadata": {},
     "output_type": "execute_result"
    }
   ],
   "source": [
    "df_raw"
   ]
  },
  {
   "cell_type": "code",
   "execution_count": 11,
   "metadata": {
    "collapsed": true
   },
   "outputs": [],
   "source": [
    "start = datetime.datetime.now()"
   ]
  },
  {
   "cell_type": "code",
   "execution_count": 13,
   "metadata": {},
   "outputs": [
    {
     "name": "stdout",
     "output_type": "stream",
     "text": [
      "2018-05-31 15:33:28.637124\n"
     ]
    }
   ],
   "source": []
  },
  {
   "cell_type": "code",
   "execution_count": null,
   "metadata": {
    "collapsed": true
   },
   "outputs": [],
   "source": [
    "df_raw[\"timestampe\"] = "
   ]
  }
 ],
 "metadata": {
  "kernelspec": {
   "display_name": "Python 35",
   "language": "python",
   "name": "python35"
  },
  "language_info": {
   "codemirror_mode": {
    "name": "ipython",
    "version": 3
   },
   "file_extension": ".py",
   "mimetype": "text/x-python",
   "name": "python",
   "nbconvert_exporter": "python",
   "pygments_lexer": "ipython3",
   "version": "3.5.4"
  }
 },
 "nbformat": 4,
 "nbformat_minor": 2
}
