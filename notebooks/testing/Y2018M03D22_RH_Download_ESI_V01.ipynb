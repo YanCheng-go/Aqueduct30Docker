{
 "cells": [
  {
   "cell_type": "markdown",
   "metadata": {},
   "source": [
    "### Download PcrGlobWB data to instance\n",
    "\n",
    "* Purpose of script: Download ESI (Evaporative Stress Index) to Instance and Amazon S3\n",
    "* Author: Rutger Hofste\n",
    "* Kernel used: python36\n",
    "* Date created: 20180322\n",
    "\n"
   ]
  },
  {
   "cell_type": "code",
   "execution_count": null,
   "metadata": {},
   "outputs": [],
   "source": [
    "from bs4 import BeautifulSoup\n",
    "import requests\n",
    "from lxml import html\n",
    "import pandas as pd"
   ]
  },
  {
   "cell_type": "code",
   "execution_count": null,
   "metadata": {
    "collapsed": true
   },
   "outputs": [],
   "source": [
    "URL = [\"https://gis1.servirglobal.net/data/esi/\"]\n",
    "URL_BASE = \"https://gis1.servirglobal.net\"\n",
    "url_child = \"https://gis1.servirglobal.net/data/esi/12WK/2001/DFPPM_12WK_2001008.tif\"\n",
    "\n",
    "YEAR_MIN = 2001\n",
    "YEAR_MAX = 2018\n",
    "\n",
    "SCRIPT_NAME = \"Y2018M03D22_RH_Download_ESI_V01\"\n",
    "\n",
    "EC2_OUTPUT_PATH = \"/volumes/data/{}\".format(SCRIPT_NAME)\n",
    "\n",
    "BATCH_SIZE = 10\n"
   ]
  },
  {
   "cell_type": "code",
   "execution_count": null,
   "metadata": {
    "collapsed": true
   },
   "outputs": [],
   "source": [
    "!mkdir -p {EC2_OUTPUT_PATH}"
   ]
  },
  {
   "cell_type": "code",
   "execution_count": null,
   "metadata": {
    "collapsed": true
   },
   "outputs": [],
   "source": [
    "def get_links(url):\n",
    "    page = requests.get(url)\n",
    "    tree = html.fromstring(page.content)\n",
    "    webpage = html.fromstring(page.content)\n",
    "    links = webpage.xpath('//a/@href')\n",
    "    return links\n",
    "\n",
    "def add_prefix(string):\n",
    "    full_url = \"{}{}\".format(URL_BASE,string)\n",
    "    return full_url"
   ]
  },
  {
   "cell_type": "code",
   "execution_count": null,
   "metadata": {},
   "outputs": [],
   "source": [
    "result_level01 = []\n",
    "for url in URL:\n",
    "    level01_links = get_links(url)\n",
    "    level01_links = list(map(add_prefix,level01_links[1:]))\n",
    "    result_level01 = result_level01 + level01_links"
   ]
  },
  {
   "cell_type": "code",
   "execution_count": null,
   "metadata": {},
   "outputs": [],
   "source": [
    "result_level02 = []\n",
    "for url in result_level01:\n",
    "    level02_links = get_links(url)\n",
    "    level02_links = list(map(add_prefix,level02_links[1:]))\n",
    "    result_level02 = result_level02 + level02_links"
   ]
  },
  {
   "cell_type": "code",
   "execution_count": null,
   "metadata": {},
   "outputs": [],
   "source": [
    "result_level03 = []\n",
    "for url in result_level02:\n",
    "    level03_links = get_links(url)\n",
    "    level03_links = list(map(add_prefix,level03_links[1:]))\n",
    "    result_level03 = result_level03 + level03_links"
   ]
  },
  {
   "cell_type": "code",
   "execution_count": null,
   "metadata": {},
   "outputs": [],
   "source": [
    "for url in result_level03:\n",
    "    print(url)  \n",
    "    file_name = url.split(\"/\")[-1]\n",
    "    print(file_name)\n",
    "    output_path = EC2_OUTPUT_PATH + \"/\" + file_name\n",
    "    print(output_path)\n",
    "    #response = requests.get(url, stream=True)\n",
    "    #if response.status_code == 200:\n",
    "        #with open(output_path, 'wb') as f:\n",
    "            #f.write(response.content)"
   ]
  },
  {
   "cell_type": "code",
   "execution_count": null,
   "metadata": {
    "collapsed": true
   },
   "outputs": [],
   "source": []
  }
 ],
 "metadata": {
  "kernelspec": {
   "display_name": "Python 35",
   "language": "python",
   "name": "python35"
  },
  "language_info": {
   "codemirror_mode": {
    "name": "ipython",
    "version": 3
   },
   "file_extension": ".py",
   "mimetype": "text/x-python",
   "name": "python",
   "nbconvert_exporter": "python",
   "pygments_lexer": "ipython3",
   "version": "3.5.4"
  }
 },
 "nbformat": 4,
 "nbformat_minor": 2
}
