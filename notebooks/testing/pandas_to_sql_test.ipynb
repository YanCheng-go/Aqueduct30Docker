{
 "cells": [
  {
   "cell_type": "code",
   "execution_count": 41,
   "metadata": {},
   "outputs": [
    {
     "name": "stdout",
     "output_type": "stream",
     "text": [
      "df_raw datatypes: \n",
      " float_with_nan         float64\n",
      "float_without_nan      float64\n",
      "integer_with_nan       float64\n",
      "integer_without_nan      int64\n",
      "string_with_nan         object\n",
      "string_without_nan      object\n",
      "dtype: object\n",
      "\n",
      " \n",
      " df_modified datatypes: \n",
      " float_with_nan         float64\n",
      "float_without_nan      float64\n",
      "integer_with_nan         int64\n",
      "integer_without_nan      int64\n",
      "string_with_nan         object\n",
      "string_without_nan      object\n",
      "dtype: object\n"
     ]
    }
   ],
   "source": [
    "import pandas as pd\n",
    "import numpy as np\n",
    "from sqlalchemy import *\n",
    "\n",
    "\n",
    "DATABASE_ENDPOINT = \"aqueduct30v05.cgpnumwmfcqc.eu-central-1.rds.amazonaws.com\"\n",
    "DATABASE_NAME = \"database01\"\n",
    "TABLE_NAME_RAW = \"test01_raw\"\n",
    "TABLE_NAME_MODIFIED = \"test01_modified\"\n",
    "\n",
    "NODATA_VALUE = -9999\n",
    "\n",
    "d = {'integer_with_nan' : [21, 45, 45, np.NaN],\n",
    "     'integer_without_nan' : [21, 45, 45, 0],\n",
    "     'float_with_nan' : [20.2, 40.3, np.NaN, 1000],\n",
    "     'float_without_nan' : [20.2, 40.3, 66.7, 1000],\n",
    "     'string_without_nan' : [\"foo\",\"bar\",\"fooz\",\"bars\"],\n",
    "     'string_with_nan' : [np.NaN,\"bar\",\"fooz\",\"bars\"]}\n",
    "\n",
    "F = open(\"/.password\",\"r\")\n",
    "password = F.read().splitlines()[0]\n",
    "F.close()\n",
    "\n",
    "engine = create_engine(\"postgresql://rutgerhofste:{}@{}:5432/{}\".format(password,DATABASE_ENDPOINT,DATABASE_NAME))\n",
    "connection = engine.connect()\n",
    "\n",
    "sql = \"DROP TABLE IF EXISTS {}\".format(TABLE_NAME_RAW)\n",
    "result = engine.execute(sql)\n",
    "sql = \"DROP TABLE IF EXISTS {}\".format(TABLE_NAME_MODIFIED)\n",
    "result = engine.execute(sql)\n",
    "\n",
    "\n",
    "df_raw = pd.DataFrame(d)\n",
    "df_raw.to_sql(TABLE_NAME_RAW,connection)\n",
    "df_modified = df_raw.fillna(NODATA_VALUE)\n",
    "df_modified[\"integer_with_nan\"] = df_modified[\"integer_with_nan\"].astype(np.int64)\n",
    "df_modified.to_sql(TABLE_NAME_MODIFIED,connection)\n",
    "\n",
    "print(\"df_raw datatypes: \\n\", df_raw.dtypes)\n",
    "\n",
    "print(\"\\n \\n df_modified datatypes: \\n\",df_modified.dtypes)"
   ]
  }
 ],
 "metadata": {
  "kernelspec": {
   "display_name": "Python 35",
   "language": "python",
   "name": "python35"
  },
  "language_info": {
   "codemirror_mode": {
    "name": "ipython",
    "version": 3
   },
   "file_extension": ".py",
   "mimetype": "text/x-python",
   "name": "python",
   "nbconvert_exporter": "python",
   "pygments_lexer": "ipython3",
   "version": "3.5.4"
  }
 },
 "nbformat": 4,
 "nbformat_minor": 2
}
