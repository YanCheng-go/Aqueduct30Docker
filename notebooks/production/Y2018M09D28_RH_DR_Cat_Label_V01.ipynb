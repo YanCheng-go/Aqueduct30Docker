{
 "cells": [
  {
   "cell_type": "code",
   "execution_count": 1,
   "metadata": {},
   "outputs": [
    {
     "name": "stdout",
     "output_type": "stream",
     "text": [
      "GCS_INPUT_PATH:  gs://aqueduct30_v01/Y2018M09D28_RH_DR_Zonal_Stats_EE_V01/output_V01/ \n",
      "ec2_input_path:  /volumes/data/Y2018M09D28_RH_DR_Cat_Label_V01/output_V02 \n",
      "BQ_OUTPUT_DATASET_NAME:  aqueduct30v01 \n",
      "BQ_OUTPUT_TABLE_NAME:  y2018m09d28_rh_dr_cat_label_v01_v02\n"
     ]
    }
   ],
   "source": [
    "\"\"\" Merge, cleanup, add category and label for drought risk.\n",
    "-------------------------------------------------------------------------------\n",
    "\n",
    "Author: Rutger Hofste\n",
    "Date: 201809028\n",
    "Kernel: python35\n",
    "Docker: rutgerhofste/gisdocker:ubuntu16.04\n",
    "\n",
    "Args:\n",
    "\n",
    "Result:\n",
    "    Table on Google Bigquery.\n",
    "\n",
    "\n",
    "\"\"\"\n",
    "\n",
    "SCRIPT_NAME = \"Y2018M09D28_RH_DR_Cat_Label_V01\"\n",
    "OUTPUT_VERSION = 2\n",
    "\n",
    "GCS_INPUT_PATH = \"gs://aqueduct30_v01/Y2018M09D28_RH_DR_Zonal_Stats_EE_V01/output_V01/\"\n",
    "\n",
    "BQ_PROJECT_ID = \"aqueduct30\"\n",
    "BQ_OUTPUT_DATASET_NAME = \"aqueduct30v01\"\n",
    "BQ_OUTPUT_TABLE_NAME = \"{}_v{:02.0f}\".format(SCRIPT_NAME,OUTPUT_VERSION).lower()\n",
    "\n",
    "ec2_input_path = \"/volumes/data/{}/output_V{:02.0f}\".format(SCRIPT_NAME,OUTPUT_VERSION) \n",
    "\n",
    "print(\"GCS_INPUT_PATH: \",GCS_INPUT_PATH,\n",
    "      \"\\nec2_input_path: \",ec2_input_path,\n",
    "      \"\\nBQ_OUTPUT_DATASET_NAME: \", BQ_OUTPUT_DATASET_NAME,\n",
    "      \"\\nBQ_OUTPUT_TABLE_NAME: \",BQ_OUTPUT_TABLE_NAME\n",
    "      )"
   ]
  },
  {
   "cell_type": "code",
   "execution_count": 2,
   "metadata": {},
   "outputs": [
    {
     "name": "stdout",
     "output_type": "stream",
     "text": [
      "Y2018M10D01 UTC 10:28\n"
     ]
    },
    {
     "data": {
      "text/plain": [
       "'3.5.4 |Anaconda, Inc.| (default, Nov 20 2017, 18:44:38) \\n[GCC 7.2.0]'"
      ]
     },
     "execution_count": 2,
     "metadata": {},
     "output_type": "execute_result"
    }
   ],
   "source": [
    "import time, datetime, sys\n",
    "dateString = time.strftime(\"Y%YM%mD%d\")\n",
    "timeString = time.strftime(\"UTC %H:%M\")\n",
    "start = datetime.datetime.now()\n",
    "print(dateString,timeString)\n",
    "sys.version"
   ]
  },
  {
   "cell_type": "code",
   "execution_count": 3,
   "metadata": {},
   "outputs": [
    {
     "name": "stdout",
     "output_type": "stream",
     "text": [
      "rm: cannot remove '/volumes/data/Y2018M09D28_RH_DR_Cat_Label_V01/output_V02': No such file or directory\r\n"
     ]
    }
   ],
   "source": [
    "!rm -r {ec2_input_path}\n",
    "!mkdir -p {ec2_input_path}"
   ]
  },
  {
   "cell_type": "code",
   "execution_count": 4,
   "metadata": {},
   "outputs": [
    {
     "name": "stdout",
     "output_type": "stream",
     "text": [
      "Copying gs://aqueduct30_v01/Y2018M09D28_RH_DR_Zonal_Stats_EE_V01/output_V01/exposureee_export.csv...\n",
      "Copying gs://aqueduct30_v01/Y2018M09D28_RH_DR_Zonal_Stats_EE_V01/output_V01/hazardee_export.csv...\n",
      "Copying gs://aqueduct30_v01/Y2018M09D28_RH_DR_Zonal_Stats_EE_V01/output_V01/riskee_export.csv...\n",
      "Copying gs://aqueduct30_v01/Y2018M09D28_RH_DR_Zonal_Stats_EE_V01/output_V01/vulnerabilityee_export.csv...\n",
      "- [4/4 files][  7.9 MiB/  7.9 MiB] 100% Done                                    \n",
      "Operation completed over 4 objects/7.9 MiB.                                      \n"
     ]
    }
   ],
   "source": [
    "!gsutil -m cp {GCS_INPUT_PATH}* {ec2_input_path}"
   ]
  },
  {
   "cell_type": "code",
   "execution_count": 5,
   "metadata": {
    "collapsed": true
   },
   "outputs": [],
   "source": [
    "import os\n",
    "import pandas as pd\n",
    "import numpy as np\n",
    "from google.cloud import bigquery\n",
    "\n",
    "os.environ[\"GOOGLE_APPLICATION_CREDENTIALS\"] = \"/.google.json\"\n",
    "os.environ[\"GOOGLE_CLOUD_PROJECT\"] = \"aqueduct30\"\n",
    "client = bigquery.Client(project=BQ_PROJECT_ID)"
   ]
  },
  {
   "cell_type": "code",
   "execution_count": 6,
   "metadata": {
    "collapsed": true
   },
   "outputs": [],
   "source": [
    "files = os.listdir(ec2_input_path)"
   ]
  },
  {
   "cell_type": "code",
   "execution_count": 7,
   "metadata": {},
   "outputs": [
    {
     "data": {
      "text/plain": [
       "['hazardee_export.csv',\n",
       " 'riskee_export.csv',\n",
       " 'exposureee_export.csv',\n",
       " 'vulnerabilityee_export.csv']"
      ]
     },
     "execution_count": 7,
     "metadata": {},
     "output_type": "execute_result"
    }
   ],
   "source": [
    "files"
   ]
  },
  {
   "cell_type": "code",
   "execution_count": 8,
   "metadata": {
    "collapsed": true
   },
   "outputs": [],
   "source": [
    "def raw_value_to_score(x):\n",
    "    \"\"\" input is already [0-1]\n",
    "    mapping to [0-5]\n",
    "    \n",
    "    \"\"\"\n",
    "    if x == -9999:\n",
    "        y = -9999\n",
    "    else:\n",
    "        y = 5 * x\n",
    "    return y\n",
    "\n",
    "\n",
    "def raw_value_to_score_vulnerability(x):\n",
    "    \"\"\" Applying quantile approach as suggested by email from Gustavo Naumann\n",
    "    \n",
    "    \"\"\"\n",
    "    if x == -9999:\n",
    "        y = -9999\n",
    "    elif x<0.45:\n",
    "        y = max(x/0.16-(0.29/0.16),0)\n",
    "    elif (x >= 0.45) and ( x < 0.72):\n",
    "        y = (1/0.27)*x - (2/3)\n",
    "    elif (x >= 0.72) and ( x < 0.75):\n",
    "        y = (1/0.03)*x -22 \n",
    "    elif (x >= 0.75) and ( x < 0.84):\n",
    "        y = (1/0.09)*x -(16/3)\n",
    "    elif (x >= 0.84):\n",
    "        y = min(5, (1/0.16)*x-(10/8)) \n",
    "    return y\n",
    "\n",
    "\n",
    "def score_to_category(score):\n",
    "    if score != 5:\n",
    "        cat = int(np.floor(score))\n",
    "    else:\n",
    "        cat = 4\n",
    "    return cat\n",
    "\n",
    "def category_to_label(cat):\n",
    "    if cat == -9999:\n",
    "        label = \"NoData\"\n",
    "    elif cat == 0:\n",
    "        label = \"Low\"\n",
    "    elif cat == 1:\n",
    "        label = \"Low - Medium\"\n",
    "    elif cat == 2:\n",
    "        label = \"Medium\"\n",
    "    elif cat == 3:\n",
    "        label = \"Medium - High\"\n",
    "    elif cat == 4: \n",
    "        label = \"High\"\n",
    "    else:\n",
    "        label = \"Error\"\n",
    "    return label"
   ]
  },
  {
   "cell_type": "code",
   "execution_count": 9,
   "metadata": {},
   "outputs": [
    {
     "name": "stdout",
     "output_type": "stream",
     "text": [
      "hazardee_export.csv\n",
      "riskee_export.csv\n",
      "exposureee_export.csv\n",
      "vulnerabilityee_export.csv\n",
      "0.0    0.298089\n",
      "0.2    0.449033\n",
      "0.4    0.721990\n",
      "0.6    0.751741\n",
      "0.8    0.843906\n",
      "1.0    1.000000\n",
      "Name: droughtvulnerability_dimensionless, dtype: float64\n"
     ]
    }
   ],
   "source": [
    "d_out = {}\n",
    "df_merge = pd.DataFrame(columns=['PFAF_ID']) \n",
    "for one_file in files:\n",
    "    print(one_file)\n",
    "    file_name, extension = one_file.split(\".\")\n",
    "    parameter = file_name[:-9] # remove ee_export\n",
    "    \n",
    "    \n",
    "    input_file_path = \"{}/{}\".format(ec2_input_path,one_file)\n",
    "    df = pd.read_csv(input_file_path)\n",
    "    df.drop_duplicates(subset=\"PFAF_ID\",\n",
    "                       keep=\"first\",\n",
    "                       inplace=True)\n",
    "    df = df.fillna(-9999)\n",
    "    df_out = df[[\"PFAF_ID\",\"mean\",\"count\"]]\n",
    "    df_out = df_out.rename(columns={\"mean\":\"drought{}_dimensionless\".format(parameter),\n",
    "                           \"count\":\"drought{}_count\".format(parameter)})\n",
    "    if one_file == \"vulnerabilityee_export.csv\":\n",
    "        df_out_valid = df_out.loc[df_out[\"drought{}_dimensionless\".format(parameter)]>=0]\n",
    "        q = df_out_valid[\"drought{}_dimensionless\".format(parameter)].quantile(q=[0,0.2,0.4,0.6,0.8,1])\n",
    "        df_out[\"drought{}_score\".format(parameter)] = df_out[\"drought{}_dimensionless\".format(parameter)].apply(raw_value_to_score_vulnerability)\n",
    "        print(q)\n",
    "    else:\n",
    "        df_out[\"drought{}_score\".format(parameter)] = df_out[\"drought{}_dimensionless\".format(parameter)].apply(raw_value_to_score)\n",
    "    \n",
    "    df_out[\"drought{}_cat\".format(parameter)] = df_out[\"drought{}_score\".format(parameter)].apply(score_to_category)\n",
    "    df_out[\"drought{}_label\".format(parameter)] = df_out[\"drought{}_cat\".format(parameter)].apply(category_to_label)\n",
    "    \n",
    "    df_merge = df_merge.merge(right=df_out,how=\"outer\",on=\"PFAF_ID\")\n"
   ]
  },
  {
   "cell_type": "code",
   "execution_count": 10,
   "metadata": {},
   "outputs": [
    {
     "data": {
      "text/plain": [
       "0.0    0.298089\n",
       "0.2    0.449033\n",
       "0.4    0.721990\n",
       "0.6    0.751741\n",
       "0.8    0.843906\n",
       "1.0    1.000000\n",
       "Name: droughtvulnerability_dimensionless, dtype: float64"
      ]
     },
     "execution_count": 10,
     "metadata": {},
     "output_type": "execute_result"
    }
   ],
   "source": [
    "q"
   ]
  },
  {
   "cell_type": "code",
   "execution_count": 11,
   "metadata": {},
   "outputs": [
    {
     "data": {
      "text/html": [
       "<div>\n",
       "<style scoped>\n",
       "    .dataframe tbody tr th:only-of-type {\n",
       "        vertical-align: middle;\n",
       "    }\n",
       "\n",
       "    .dataframe tbody tr th {\n",
       "        vertical-align: top;\n",
       "    }\n",
       "\n",
       "    .dataframe thead th {\n",
       "        text-align: right;\n",
       "    }\n",
       "</style>\n",
       "<table border=\"1\" class=\"dataframe\">\n",
       "  <thead>\n",
       "    <tr style=\"text-align: right;\">\n",
       "      <th></th>\n",
       "      <th>PFAF_ID</th>\n",
       "      <th>droughthazard_dimensionless</th>\n",
       "      <th>droughthazard_count</th>\n",
       "      <th>droughthazard_score</th>\n",
       "      <th>droughthazard_cat</th>\n",
       "      <th>droughthazard_label</th>\n",
       "      <th>droughtrisk_dimensionless</th>\n",
       "      <th>droughtrisk_count</th>\n",
       "      <th>droughtrisk_score</th>\n",
       "      <th>droughtrisk_cat</th>\n",
       "      <th>...</th>\n",
       "      <th>droughtexposure_dimensionless</th>\n",
       "      <th>droughtexposure_count</th>\n",
       "      <th>droughtexposure_score</th>\n",
       "      <th>droughtexposure_cat</th>\n",
       "      <th>droughtexposure_label</th>\n",
       "      <th>droughtvulnerability_dimensionless</th>\n",
       "      <th>droughtvulnerability_count</th>\n",
       "      <th>droughtvulnerability_score</th>\n",
       "      <th>droughtvulnerability_cat</th>\n",
       "      <th>droughtvulnerability_label</th>\n",
       "    </tr>\n",
       "  </thead>\n",
       "  <tbody>\n",
       "    <tr>\n",
       "      <th>0</th>\n",
       "      <td>635900</td>\n",
       "      <td>0.356721</td>\n",
       "      <td>408</td>\n",
       "      <td>1.783604</td>\n",
       "      <td>1</td>\n",
       "      <td>Low - Medium</td>\n",
       "      <td>0.459320</td>\n",
       "      <td>320</td>\n",
       "      <td>2.296601</td>\n",
       "      <td>2</td>\n",
       "      <td>...</td>\n",
       "      <td>0.127156</td>\n",
       "      <td>320</td>\n",
       "      <td>0.635780</td>\n",
       "      <td>0</td>\n",
       "      <td>Low</td>\n",
       "      <td>0.732170</td>\n",
       "      <td>320</td>\n",
       "      <td>2.405674</td>\n",
       "      <td>2</td>\n",
       "      <td>Medium</td>\n",
       "    </tr>\n",
       "    <tr>\n",
       "      <th>1</th>\n",
       "      <td>635804</td>\n",
       "      <td>0.347130</td>\n",
       "      <td>58</td>\n",
       "      <td>1.735648</td>\n",
       "      <td>1</td>\n",
       "      <td>Low - Medium</td>\n",
       "      <td>0.447877</td>\n",
       "      <td>58</td>\n",
       "      <td>2.239387</td>\n",
       "      <td>2</td>\n",
       "      <td>...</td>\n",
       "      <td>0.113867</td>\n",
       "      <td>58</td>\n",
       "      <td>0.569333</td>\n",
       "      <td>0</td>\n",
       "      <td>Low</td>\n",
       "      <td>0.733205</td>\n",
       "      <td>58</td>\n",
       "      <td>2.440163</td>\n",
       "      <td>2</td>\n",
       "      <td>Medium</td>\n",
       "    </tr>\n",
       "    <tr>\n",
       "      <th>2</th>\n",
       "      <td>635807</td>\n",
       "      <td>0.359986</td>\n",
       "      <td>76</td>\n",
       "      <td>1.799929</td>\n",
       "      <td>1</td>\n",
       "      <td>Low - Medium</td>\n",
       "      <td>0.440631</td>\n",
       "      <td>76</td>\n",
       "      <td>2.203156</td>\n",
       "      <td>2</td>\n",
       "      <td>...</td>\n",
       "      <td>0.103049</td>\n",
       "      <td>76</td>\n",
       "      <td>0.515246</td>\n",
       "      <td>0</td>\n",
       "      <td>Low</td>\n",
       "      <td>0.736576</td>\n",
       "      <td>76</td>\n",
       "      <td>2.552544</td>\n",
       "      <td>2</td>\n",
       "      <td>Medium</td>\n",
       "    </tr>\n",
       "    <tr>\n",
       "      <th>3</th>\n",
       "      <td>635809</td>\n",
       "      <td>0.299776</td>\n",
       "      <td>341</td>\n",
       "      <td>1.498881</td>\n",
       "      <td>1</td>\n",
       "      <td>Low - Medium</td>\n",
       "      <td>0.492612</td>\n",
       "      <td>341</td>\n",
       "      <td>2.463059</td>\n",
       "      <td>2</td>\n",
       "      <td>...</td>\n",
       "      <td>0.199020</td>\n",
       "      <td>341</td>\n",
       "      <td>0.995099</td>\n",
       "      <td>0</td>\n",
       "      <td>Low</td>\n",
       "      <td>0.726616</td>\n",
       "      <td>341</td>\n",
       "      <td>2.220544</td>\n",
       "      <td>2</td>\n",
       "      <td>Medium</td>\n",
       "    </tr>\n",
       "    <tr>\n",
       "      <th>4</th>\n",
       "      <td>635808</td>\n",
       "      <td>0.305777</td>\n",
       "      <td>138</td>\n",
       "      <td>1.528887</td>\n",
       "      <td>1</td>\n",
       "      <td>Low - Medium</td>\n",
       "      <td>0.412117</td>\n",
       "      <td>138</td>\n",
       "      <td>2.060587</td>\n",
       "      <td>2</td>\n",
       "      <td>...</td>\n",
       "      <td>0.094684</td>\n",
       "      <td>138</td>\n",
       "      <td>0.473421</td>\n",
       "      <td>0</td>\n",
       "      <td>Low</td>\n",
       "      <td>0.739183</td>\n",
       "      <td>138</td>\n",
       "      <td>2.639447</td>\n",
       "      <td>2</td>\n",
       "      <td>Medium</td>\n",
       "    </tr>\n",
       "  </tbody>\n",
       "</table>\n",
       "<p>5 rows × 21 columns</p>\n",
       "</div>"
      ],
      "text/plain": [
       "   PFAF_ID  droughthazard_dimensionless  droughthazard_count  \\\n",
       "0   635900                     0.356721                  408   \n",
       "1   635804                     0.347130                   58   \n",
       "2   635807                     0.359986                   76   \n",
       "3   635809                     0.299776                  341   \n",
       "4   635808                     0.305777                  138   \n",
       "\n",
       "   droughthazard_score  droughthazard_cat droughthazard_label  \\\n",
       "0             1.783604                  1        Low - Medium   \n",
       "1             1.735648                  1        Low - Medium   \n",
       "2             1.799929                  1        Low - Medium   \n",
       "3             1.498881                  1        Low - Medium   \n",
       "4             1.528887                  1        Low - Medium   \n",
       "\n",
       "   droughtrisk_dimensionless  droughtrisk_count  droughtrisk_score  \\\n",
       "0                   0.459320                320           2.296601   \n",
       "1                   0.447877                 58           2.239387   \n",
       "2                   0.440631                 76           2.203156   \n",
       "3                   0.492612                341           2.463059   \n",
       "4                   0.412117                138           2.060587   \n",
       "\n",
       "   droughtrisk_cat             ...             droughtexposure_dimensionless  \\\n",
       "0                2             ...                                  0.127156   \n",
       "1                2             ...                                  0.113867   \n",
       "2                2             ...                                  0.103049   \n",
       "3                2             ...                                  0.199020   \n",
       "4                2             ...                                  0.094684   \n",
       "\n",
       "   droughtexposure_count  droughtexposure_score  droughtexposure_cat  \\\n",
       "0                    320               0.635780                    0   \n",
       "1                     58               0.569333                    0   \n",
       "2                     76               0.515246                    0   \n",
       "3                    341               0.995099                    0   \n",
       "4                    138               0.473421                    0   \n",
       "\n",
       "   droughtexposure_label droughtvulnerability_dimensionless  \\\n",
       "0                    Low                           0.732170   \n",
       "1                    Low                           0.733205   \n",
       "2                    Low                           0.736576   \n",
       "3                    Low                           0.726616   \n",
       "4                    Low                           0.739183   \n",
       "\n",
       "   droughtvulnerability_count  droughtvulnerability_score  \\\n",
       "0                         320                    2.405674   \n",
       "1                          58                    2.440163   \n",
       "2                          76                    2.552544   \n",
       "3                         341                    2.220544   \n",
       "4                         138                    2.639447   \n",
       "\n",
       "   droughtvulnerability_cat  droughtvulnerability_label  \n",
       "0                         2                      Medium  \n",
       "1                         2                      Medium  \n",
       "2                         2                      Medium  \n",
       "3                         2                      Medium  \n",
       "4                         2                      Medium  \n",
       "\n",
       "[5 rows x 21 columns]"
      ]
     },
     "execution_count": 11,
     "metadata": {},
     "output_type": "execute_result"
    }
   ],
   "source": [
    "df_merge.head()"
   ]
  },
  {
   "cell_type": "code",
   "execution_count": 12,
   "metadata": {
    "collapsed": true
   },
   "outputs": [],
   "source": [
    "destination_table = \"{}.{}\".format(BQ_OUTPUT_DATASET_NAME,BQ_OUTPUT_TABLE_NAME)"
   ]
  },
  {
   "cell_type": "code",
   "execution_count": 13,
   "metadata": {},
   "outputs": [
    {
     "data": {
      "text/plain": [
       "'aqueduct30v01.y2018m09d28_rh_dr_cat_label_v01_v02'"
      ]
     },
     "execution_count": 13,
     "metadata": {},
     "output_type": "execute_result"
    }
   ],
   "source": [
    "destination_table"
   ]
  },
  {
   "cell_type": "code",
   "execution_count": 14,
   "metadata": {},
   "outputs": [
    {
     "name": "stderr",
     "output_type": "stream",
     "text": [
      "2it [00:06,  3.46s/it]\n"
     ]
    }
   ],
   "source": [
    "df_merge.to_gbq(destination_table=destination_table,\n",
    "                 project_id=BQ_PROJECT_ID,\n",
    "                 chunksize=10000,\n",
    "                 if_exists=\"replace\")"
   ]
  },
  {
   "cell_type": "code",
   "execution_count": 15,
   "metadata": {},
   "outputs": [
    {
     "name": "stdout",
     "output_type": "stream",
     "text": [
      "0:00:21.379444\n"
     ]
    }
   ],
   "source": [
    "end = datetime.datetime.now()\n",
    "elapsed = end - start\n",
    "print(elapsed)"
   ]
  },
  {
   "cell_type": "markdown",
   "metadata": {},
   "source": [
    "Previous runs:  \n",
    "0:00:23.124523\n"
   ]
  },
  {
   "cell_type": "code",
   "execution_count": null,
   "metadata": {
    "collapsed": true
   },
   "outputs": [],
   "source": []
  }
 ],
 "metadata": {
  "kernelspec": {
   "display_name": "Python 35",
   "language": "python",
   "name": "python35"
  },
  "language_info": {
   "codemirror_mode": {
    "name": "ipython",
    "version": 3
   },
   "file_extension": ".py",
   "mimetype": "text/x-python",
   "name": "python",
   "nbconvert_exporter": "python",
   "pygments_lexer": "ipython3",
   "version": "3.5.4"
  }
 },
 "nbformat": 4,
 "nbformat_minor": 2
}
