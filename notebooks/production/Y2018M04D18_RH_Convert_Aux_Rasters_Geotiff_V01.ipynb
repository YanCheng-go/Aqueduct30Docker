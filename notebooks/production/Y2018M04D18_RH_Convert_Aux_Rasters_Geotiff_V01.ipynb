{
 "cells": [
  {
   "cell_type": "code",
   "execution_count": 1,
   "metadata": {},
   "outputs": [
    {
     "name": "stdout",
     "output_type": "stream",
     "text": [
      "Input s3: s3://wri-projects/Aqueduct30/rawData/Utrecht/additionalFiles/flowNetwork/topo_pcrglobwb_05min\n",
      "Input ec2: /volumes/data/Y2018M04D18_RH_Convert_Aux_Rasters_Geotiff_V01/input_V01/\n",
      "Output ec2: /volumes/data/Y2018M04D18_RH_Convert_Aux_Rasters_Geotiff_V01/output_V04/\n",
      "Output S3: s3://wri-projects/Aqueduct30/processData/Y2018M04D18_RH_Convert_Aux_Rasters_Geotiff_V01/output_V04/\n",
      "Output GCS: gs://aqueduct30_v01/Y2018M04D18_RH_Convert_Aux_Rasters_Geotiff_V01/output_V04/\n"
     ]
    }
   ],
   "source": [
    "\"\"\" Convert auxiliary files like DEM, LDD etc. to geotiff. Store on GCS.\n",
    "-------------------------------------------------------------------------------\n",
    "\n",
    "In addition to the time-series and non-time-series data from PCRGLOBWB \n",
    "auxilirary data files were shared that contain crucial information such as \n",
    "digital elevation model (DEM), local drainage direction (ldd) etc.\n",
    "\n",
    "The files are renamed, converted to geotiffs and uploaded to GCS.\n",
    "\n",
    "\n",
    "Author: Rutger Hofste\n",
    "Date: 20180418\n",
    "Kernel: python35\n",
    "Docker: rutgerhofste/gisdocker:ubuntu16.04\n",
    "\n",
    "Args:\n",
    "    SCRIPT_NAME (string) : Script Name.\n",
    "    S3_INPUT_PATH (string) : Amazon S3 input location.\n",
    "    INPUT_VERSION (integer) : Input version.\n",
    "    OUTPUT_VERSION (integer) : Output version.\n",
    "    X_DIMENSION_5MIN (integer) : horizontal or longitudinal dimension of \n",
    "        raster.\n",
    "    Y_DIMENSION_5MIN (integer) : vertical or latitudinal dimension of \n",
    "        raster.\n",
    "    RENAME_DICT (dictionary) : Old and new names.\n",
    "    \n",
    "    \n",
    "\"\"\"\n",
    "\n",
    "SCRIPT_NAME = \"Y2018M04D18_RH_Convert_Aux_Rasters_Geotiff_V01\"\n",
    "S3_INPUT_PATH = \"s3://wri-projects/Aqueduct30/rawData/Utrecht/additionalFiles/flowNetwork/topo_pcrglobwb_05min\"\n",
    "INPUT_VERSION = 1\n",
    "OUTPUT_VERSION = 4\n",
    "\n",
    "X_DIMENSION_5MIN = 4320\n",
    "Y_DIMENSION_5MIN = 2160\n",
    "\n",
    "RENAME_DICT = {\n",
    "    \"accumulated_drainage_area_05min_sqkm.map\":\n",
    "    \"global_accumulateddrainagearea_km2_05min.map\",\n",
    "    \"cellsize05min.correct.map\":\n",
    "    \"global_cellsize_m2_05min.map\",\n",
    "    \"gtopo05min.map\":\n",
    "    \"global_gtopo_m_05min.map\",\n",
    "    \"lddsound_05min.map\":\n",
    "    \"global_lddsound_numpad_05min.map\"   \n",
    "}\n",
    "\n",
    "# ETL\n",
    "ec2_input_path = \"/volumes/data/{}/input_V{:02.0f}/\".format(SCRIPT_NAME,INPUT_VERSION)\n",
    "ec2_output_path = \"/volumes/data/{}/output_V{:02.0f}/\".format(SCRIPT_NAME,OUTPUT_VERSION)\n",
    "s3_output_path = \"s3://wri-projects/Aqueduct30/processData/{}/output_V{:02.0f}/\".format(SCRIPT_NAME,OUTPUT_VERSION)\n",
    "gcs_output_path = \"gs://aqueduct30_v01/{}/output_V{:02.0f}/\".format(SCRIPT_NAME,OUTPUT_VERSION)\n",
    "\n",
    "print(\"Input s3: \" + S3_INPUT_PATH +\n",
    "      \"\\nInput ec2: \" + ec2_input_path +\n",
    "      \"\\nOutput ec2: \" + ec2_output_path +\n",
    "      \"\\nOutput S3: \" + s3_output_path +\n",
    "      \"\\nOutput GCS: \" +  gcs_output_path)\n"
   ]
  },
  {
   "cell_type": "code",
   "execution_count": 2,
   "metadata": {},
   "outputs": [
    {
     "name": "stdout",
     "output_type": "stream",
     "text": [
      "Y2018M04D18 UTC 11:28\n"
     ]
    },
    {
     "data": {
      "text/plain": [
       "'3.5.4 |Anaconda, Inc.| (default, Nov 20 2017, 18:44:38) \\n[GCC 7.2.0]'"
      ]
     },
     "execution_count": 2,
     "metadata": {},
     "output_type": "execute_result"
    }
   ],
   "source": [
    "import time, datetime, sys\n",
    "dateString = time.strftime(\"Y%YM%mD%d\")\n",
    "timeString = time.strftime(\"UTC %H:%M\")\n",
    "start = datetime.datetime.now()\n",
    "print(dateString,timeString)\n",
    "sys.version"
   ]
  },
  {
   "cell_type": "code",
   "execution_count": 3,
   "metadata": {
    "collapsed": true
   },
   "outputs": [],
   "source": [
    "# imports\n",
    "import os\n",
    "import numpy as np\n",
    "from osgeo import gdal\n",
    "import aqueduct3"
   ]
  },
  {
   "cell_type": "code",
   "execution_count": 4,
   "metadata": {},
   "outputs": [
    {
     "name": "stdout",
     "output_type": "stream",
     "text": [
      "rm: cannot remove '/volumes/data/Y2018M04D18_RH_Convert_Aux_Rasters_Geotiff_V01/output_V04/': No such file or directory\r\n"
     ]
    }
   ],
   "source": [
    "!rm -r {ec2_input_path}\n",
    "!rm -r {ec2_output_path}\n",
    "!mkdir -p {ec2_input_path}\n",
    "!mkdir -p {ec2_output_path}"
   ]
  },
  {
   "cell_type": "code",
   "execution_count": 5,
   "metadata": {},
   "outputs": [
    {
     "name": "stdout",
     "output_type": "stream",
     "text": [
      "download: s3://wri-projects/Aqueduct30/rawData/Utrecht/additionalFiles/flowNetwork/topo_pcrglobwb_05min/lddsound_05min.map to ../../../../data/Y2018M04D18_RH_Convert_Aux_Rasters_Geotiff_V01/input_V01/lddsound_05min.map\n",
      "download: s3://wri-projects/Aqueduct30/rawData/Utrecht/additionalFiles/flowNetwork/topo_pcrglobwb_05min/cellsize05min.correct.map to ../../../../data/Y2018M04D18_RH_Convert_Aux_Rasters_Geotiff_V01/input_V01/cellsize05min.correct.map\n",
      "download: s3://wri-projects/Aqueduct30/rawData/Utrecht/additionalFiles/flowNetwork/topo_pcrglobwb_05min/accumulated_drainage_area_05min_sqkm.map to ../../../../data/Y2018M04D18_RH_Convert_Aux_Rasters_Geotiff_V01/input_V01/accumulated_drainage_area_05min_sqkm.map\n",
      "download: s3://wri-projects/Aqueduct30/rawData/Utrecht/additionalFiles/flowNetwork/topo_pcrglobwb_05min/gtopo05min.map to ../../../../data/Y2018M04D18_RH_Convert_Aux_Rasters_Geotiff_V01/input_V01/gtopo05min.map\n"
     ]
    }
   ],
   "source": [
    "!aws s3 cp {S3_INPUT_PATH} {ec2_input_path} --recursive --exclude=\"*\" --include=\"*.map\""
   ]
  },
  {
   "cell_type": "markdown",
   "metadata": {},
   "source": [
    "renaming the files with a structured name using schema: `<geographic_range>_<indicator>_<spatial_resolution>_<unit>.map`\n",
    "\n",
    "copy from readme.txt file on S3\n",
    "\n",
    "\n",
    "Data received from Rens van Beek on Feb 24 2017. Rutger Hofste\n",
    "topo_pcrglobwb_05min.zip  \n",
    "\n",
    "|Archive Length |   Date |   Time |    Name | Units | newName | \n",
    "|---:|---:|---:|---:| ---:| ---:|\n",
    "|37325056|  02-24-2017| 15:46 |  accumulated_drainage_area_05min_sqkm.map| $$km^2$$ |global_accumulateddrainagearea_km2_05min.map |\n",
    "|37325056|  02-24-2017 |15:45 |  cellsize05min.correct.map| $$m^2$$ |global_cellsize_m2_05min.map |\n",
    "|37325056| 02-24-2017| 15:44 |  gtopo05min.map| $$m$$ |global_gtopo_km2_05min.map|\n",
    "|9331456|  02-24-2017| 15:45 |   lddsound_05min.map| numpad |global_lddsound_numpad_05min.map |\n",
    "|121306624| | |               4 files| | |\n",
    "\n",
    "All files are 5 arc minute maps in PCRaster format and WGS84 projection (implicit).\n",
    "The gtopo05min.map is the DEM from the gtopo30 dataset that we use for downscaling meteo data occasionally. This is consistent with the CRU climate data sets and the hydro1k drainage dataset. Elevation is in **metres**. The cellsize05.correct.map is the surface area of a geographic cell in **m2** per 5 arc minute cell. The lddsound_05min.map is identical to the LDD we sent you earlier with the **8-point pour algorithm**.(numpad e.g. 7 is NW 6 is E etc.) The accumulated_drainage_area_05min_sqkm.map is the accumulated drainage area in **km2** per cell along the LDD.\n"
   ]
  },
  {
   "cell_type": "code",
   "execution_count": 6,
   "metadata": {},
   "outputs": [
    {
     "name": "stdout",
     "output_type": "stream",
     "text": [
      "accumulated_drainage_area_05min_sqkm.map  gtopo05min.map\r\n",
      "cellsize05min.correct.map\t\t  lddsound_05min.map\r\n"
     ]
    }
   ],
   "source": [
    "!ls {ec2_input_path}"
   ]
  },
  {
   "cell_type": "code",
   "execution_count": 7,
   "metadata": {
    "collapsed": true
   },
   "outputs": [],
   "source": [
    "for old_name, new_name in RENAME_DICT.items():\n",
    "    !mv {ec2_input_path}{old_name} {ec2_input_path}{new_name}\n",
    "    assert len(new_name)<100, \"new key should not exceed 100 characters\""
   ]
  },
  {
   "cell_type": "code",
   "execution_count": 8,
   "metadata": {},
   "outputs": [
    {
     "name": "stdout",
     "output_type": "stream",
     "text": [
      "global_accumulateddrainagearea_km2_05min.map  global_gtopo_m_05min.map\r\n",
      "global_cellsize_m2_05min.map\t\t      global_lddsound_numpad_05min.map\r\n"
     ]
    }
   ],
   "source": [
    "!ls {ec2_input_path}"
   ]
  },
  {
   "cell_type": "code",
   "execution_count": 9,
   "metadata": {},
   "outputs": [
    {
     "name": "stdout",
     "output_type": "stream",
     "text": [
      "global_gtopo_m_05min.map\n",
      "global_accumulateddrainagearea_km2_05min.map\n",
      "global_lddsound_numpad_05min.map\n",
      "global_cellsize_m2_05min.map\n"
     ]
    }
   ],
   "source": [
    "# Convert the ascii files in the ec2_input_directory into geotiffs in the ec2_output_directory\n",
    "\n",
    "default_geotransform, default_geoprojection = aqueduct3.get_global_georeference(np.ones([Y_DIMENSION_5MIN,X_DIMENSION_5MIN]))\n",
    "for root, dirs, file_names in os.walk(ec2_input_path):\n",
    "    for file_name in file_names:\n",
    "        print(file_name)\n",
    "        base , extension = file_name.split(\".\")\n",
    "        output_path = ec2_output_path  + base + \".tif\"\n",
    "        input_path = os.path.join(root, file_name)     \n",
    "        xsize,ysize,geotransform,geoproj,Z = aqueduct3.read_gdal_file(input_path)\n",
    "        Z[Z<-9990]= -9999\n",
    "        Z[Z>1e19] = -9999\n",
    "        \n",
    "        if file_name == \"global_lddsound_numpad_05min.map\":\n",
    "            nodata_value= 255\n",
    "            datatype=gdal.GDT_Int32 # Could probably use byte type as well.\n",
    "            \n",
    "        else:            \n",
    "            nodata_value=-9999\n",
    "            datatype=gdal.GDT_Float32\n",
    "        \n",
    "        \n",
    "        aqueduct3.write_geotiff(output_path,default_geotransform,default_geoprojection,Z,nodata_value,datatype)         \n",
    "\n"
   ]
  },
  {
   "cell_type": "code",
   "execution_count": 10,
   "metadata": {},
   "outputs": [
    {
     "name": "stdout",
     "output_type": "stream",
     "text": [
      "Copying file:///volumes/data/Y2018M04D18_RH_Convert_Aux_Rasters_Geotiff_V01/output_V04//global_accumulateddrainagearea_km2_05min.tif [Content-Type=image/tiff]...\n",
      "Copying file:///volumes/data/Y2018M04D18_RH_Convert_Aux_Rasters_Geotiff_V01/output_V04//global_gtopo_m_05min.tif [Content-Type=image/tiff]...\n",
      "Copying file:///volumes/data/Y2018M04D18_RH_Convert_Aux_Rasters_Geotiff_V01/output_V04//global_cellsize_m2_05min.tif [Content-Type=image/tiff]...\n",
      "Copying file:///volumes/data/Y2018M04D18_RH_Convert_Aux_Rasters_Geotiff_V01/output_V04//global_lddsound_numpad_05min.tif [Content-Type=image/tiff]...\n",
      "- [4/4 files][ 15.9 MiB/ 15.9 MiB] 100% Done                                    \n",
      "Operation completed over 4 objects/15.9 MiB.                                     \n"
     ]
    }
   ],
   "source": [
    "!gsutil -m cp \\\n",
    "{ec2_output_path}/*.tif \\\n",
    "{gcs_output_path}"
   ]
  },
  {
   "cell_type": "code",
   "execution_count": 11,
   "metadata": {},
   "outputs": [
    {
     "name": "stdout",
     "output_type": "stream",
     "text": [
      "upload: ../../../../data/Y2018M04D18_RH_Convert_Aux_Rasters_Geotiff_V01/output_V04/global_lddsound_numpad_05min.tif to s3://wri-projects/Aqueduct30/processData/Y2018M04D18_RH_Convert_Aux_Rasters_Geotiff_V01/output_V04/global_lddsound_numpad_05min.tif\n",
      "upload: ../../../../data/Y2018M04D18_RH_Convert_Aux_Rasters_Geotiff_V01/output_V04/global_cellsize_m2_05min.tif to s3://wri-projects/Aqueduct30/processData/Y2018M04D18_RH_Convert_Aux_Rasters_Geotiff_V01/output_V04/global_cellsize_m2_05min.tif\n",
      "upload: ../../../../data/Y2018M04D18_RH_Convert_Aux_Rasters_Geotiff_V01/output_V04/global_accumulateddrainagearea_km2_05min.tif to s3://wri-projects/Aqueduct30/processData/Y2018M04D18_RH_Convert_Aux_Rasters_Geotiff_V01/output_V04/global_accumulateddrainagearea_km2_05min.tif\n",
      "upload: ../../../../data/Y2018M04D18_RH_Convert_Aux_Rasters_Geotiff_V01/output_V04/global_gtopo_m_05min.tif to s3://wri-projects/Aqueduct30/processData/Y2018M04D18_RH_Convert_Aux_Rasters_Geotiff_V01/output_V04/global_gtopo_m_05min.tif\n"
     ]
    }
   ],
   "source": [
    "!aws s3 cp {ec2_output_path} {s3_output_path} --recursive"
   ]
  },
  {
   "cell_type": "code",
   "execution_count": 12,
   "metadata": {},
   "outputs": [
    {
     "name": "stdout",
     "output_type": "stream",
     "text": [
      "0:00:26.804686\n"
     ]
    }
   ],
   "source": [
    "end = datetime.datetime.now()\n",
    "elapsed = end - start\n",
    "print(elapsed)"
   ]
  },
  {
   "cell_type": "markdown",
   "metadata": {},
   "source": [
    "Previous Runs:  \n",
    "0:00:39.741528"
   ]
  }
 ],
 "metadata": {
  "kernelspec": {
   "display_name": "Python 35",
   "language": "python",
   "name": "python35"
  },
  "language_info": {
   "codemirror_mode": {
    "name": "ipython",
    "version": 3
   },
   "file_extension": ".py",
   "mimetype": "text/x-python",
   "name": "python",
   "nbconvert_exporter": "python",
   "pygments_lexer": "ipython3",
   "version": "3.5.4"
  }
 },
 "nbformat": 4,
 "nbformat_minor": 2
}
