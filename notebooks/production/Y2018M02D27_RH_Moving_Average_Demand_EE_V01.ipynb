{
 "cells": [
  {
   "cell_type": "markdown",
   "metadata": {},
   "source": [
    "# Y2018M02D27_RH_Moving_Average_Demand_EE_V01\n",
    "\n",
    "* Purpose of script: Moving average for demand at basin resolution. The script will calculate the volumetric and flux 10 year moving average at a Pfaf6 basin level for total demand. (potentially also per sector demand)\n",
    "\n",
    "* Script exports to: \n",
    "* projects/WRI-Aquaduct/PCRGlobWB20V07/global_historical_PTotWW_month_m_pfaf06_1960_2014_movingaverage_10y_V01\n",
    "* projects/WRI-Aquaduct/PCRGlobWB20V07/global_historical_PTotWN_month_m_pfaf06_1960_2014_movingaverage_10y_V01\n",
    "* Kernel used: python35\n",
    "* Date created: 20170227"
   ]
  },
  {
   "cell_type": "code",
   "execution_count": 1,
   "metadata": {},
   "outputs": [
    {
     "name": "stdout",
     "output_type": "stream",
     "text": [
      "Y2018M02D28 UTC 10:39\n"
     ]
    },
    {
     "data": {
      "text/plain": [
       "'3.5.4 |Continuum Analytics, Inc.| (default, Aug 14 2017, 13:26:58) \\n[GCC 4.4.7 20120313 (Red Hat 4.4.7-1)]'"
      ]
     },
     "execution_count": 1,
     "metadata": {},
     "output_type": "execute_result"
    }
   ],
   "source": [
    "import time, datetime, sys\n",
    "dateString = time.strftime(\"Y%YM%mD%d\")\n",
    "timeString = time.strftime(\"UTC %H:%M\")\n",
    "start = datetime.datetime.now()\n",
    "print(dateString,timeString)\n",
    "sys.version"
   ]
  },
  {
   "cell_type": "code",
   "execution_count": 2,
   "metadata": {
    "collapsed": true
   },
   "outputs": [],
   "source": [
    "SCRIPT_NAME = \"Y2018M02D27_RH_Moving_Average_Demand_EE_V01\"\n",
    "\n",
    "OUTPUT_VERSION = 1\n",
    "\n",
    "CRS = \"EPSG:4326\"\n",
    "\n",
    "EE_PATH = \"projects/WRI-Aquaduct/PCRGlobWB20V07\"\n",
    "\n",
    "OUTPUT_VERSION = 1\n",
    "\n",
    "DIMENSION30S = {}\n",
    "DIMENSION30S[\"x\"] = 43200\n",
    "DIMENSION30S[\"y\"] = 21600\n",
    "\n",
    "\n",
    "MA_WINDOW_LENGTH = 10 # Moving average window length. "
   ]
  },
  {
   "cell_type": "code",
   "execution_count": 3,
   "metadata": {
    "collapsed": true
   },
   "outputs": [],
   "source": [
    "import ee\n",
    "import os\n",
    "import logging\n",
    "import pandas as pd\n",
    "import subprocess"
   ]
  },
  {
   "cell_type": "code",
   "execution_count": 4,
   "metadata": {
    "collapsed": true
   },
   "outputs": [],
   "source": [
    "ee.Initialize()"
   ]
  },
  {
   "cell_type": "code",
   "execution_count": 5,
   "metadata": {
    "collapsed": true
   },
   "outputs": [],
   "source": [
    "logger = logging.getLogger(__name__)\n",
    "logger.setLevel(logging.DEBUG)\n",
    "formatter = logging.Formatter('%(asctime)s:%(levelname)s:%(message)s')\n",
    "file_handler = logging.FileHandler(\"./logs/%sV%0.2d.log\" %(SCRIPT_NAME,OUTPUT_VERSION))\n",
    "file_handler.setFormatter(formatter)\n",
    "logger.addHandler(file_handler)"
   ]
  },
  {
   "cell_type": "code",
   "execution_count": 6,
   "metadata": {
    "collapsed": true
   },
   "outputs": [],
   "source": [
    "geometry = ee.Geometry.Polygon(coords=[[-180.0, -90.0], [180,  -90.0], [180, 90], [-180,90]], proj= ee.Projection('EPSG:4326'),geodesic=False )\n"
   ]
  },
  {
   "cell_type": "code",
   "execution_count": 7,
   "metadata": {
    "collapsed": true
   },
   "outputs": [],
   "source": [
    "crsTransform30sSmall = [\n",
    "    360.0 / DIMENSION30S[\"x\"], \n",
    "    0,\n",
    "    -180,\n",
    "    0,\n",
    "    -162.0 / (0.9* DIMENSION30S[\"y\"]),\n",
    "    81   \n",
    "]"
   ]
  },
  {
   "cell_type": "code",
   "execution_count": null,
   "metadata": {
    "collapsed": true
   },
   "outputs": [],
   "source": []
  },
  {
   "cell_type": "markdown",
   "metadata": {},
   "source": [
    "The images in the imagecollection have two bands: count and mean. "
   ]
  },
  {
   "cell_type": "code",
   "execution_count": 15,
   "metadata": {},
   "outputs": [],
   "source": [
    "def create_collection(assetid):\n",
    "    \"\"\" Create image collection in earth engine asset folder\n",
    "    \n",
    "    This function will only work if the folder in which the\n",
    "    new imageCollection will be created is valid\n",
    "    \n",
    "    \n",
    "    Args:\n",
    "        assetid (string) : asset id for the new image collection\n",
    "    \n",
    "    Returns: \n",
    "        result (string) : captured message from command line\n",
    "    \n",
    "    \"\"\"   \n",
    "    \n",
    "    command = \"earthengine create collection {}\".format(assetid) \n",
    "    result = subprocess.check_output(command,shell=True)\n",
    "    if result:\n",
    "        logger.error(result)\n",
    "    return result \n",
    "\n",
    "def moving_average_decade(year,ic):\n",
    "    \"\"\" Calculate a 10 year moving average\n",
    "    \n",
    "    This function is limited to one input paramater to allow mapping over a simple list. \n",
    "    Averages the 10 year up to the input year. (]\n",
    "    \n",
    "    Global variables required include an imageCollection with a year property.\n",
    "    \n",
    "    \n",
    "    Args:\n",
    "        year (integer) : final year of interest.\n",
    "        ic (ee.ImageCollection) : input imageCollection\n",
    "    \n",
    "    Returns: \n",
    "        image (ee.Image) : earth engine image with the mean of the last 10 years\n",
    "    \"\"\"\n",
    "    \n",
    "    min_year = year - MA_WINDOW_LENGTH\n",
    "    \n",
    "    ic_filtered = (ic.filter(ee.Filter.gt(\"year\",min_year))\n",
    "                     .filter(ee.Filter.lte(\"year\",year))\n",
    "                  )\n",
    "    \n",
    "    i_mean = ic_filtered.reduce(ee.Reducer.mean()) \n",
    "    \n",
    "    \n",
    "    i_mean = i_mean.copyProperties(source=ic_filtered.first(),\n",
    "                          exclude=[\"script_used\",\n",
    "                                   \"output_version\",\n",
    "                                   \"year\",\n",
    "                                   \"output_version\",\n",
    "                                   \"version\",\n",
    "                                   \"reducer\"])\n",
    "    \n",
    "    return ee.Image(i_mean)\n",
    "\n",
    "\n",
    "def set_properties(image):\n",
    "    \"\"\" Set properties to image based on rows in pandas dataframe\n",
    "    \n",
    "    Args:\n",
    "        image (ee.Image) : image without properties\n",
    "        \n",
    "    Returns:\n",
    "        image_out (ee.Image) : image with properties\n",
    "    \"\"\"\n",
    "    \n",
    "    properties ={}\n",
    "    properties[\"year\"] = row[\"year\"]\n",
    "    properties[\"moving_average_length\"] = MA_WINDOW_LENGTH\n",
    "    properties[\"moving_average_year_min\"] = row[\"year\"]- (MA_WINDOW_LENGTH+1)\n",
    "    properties[\"script_used\"] = SCRIPT_NAME\n",
    "    properties[\"indicator\"] = row[\"indicator\"]\n",
    "    properties[\"version\"] = OUTPUT_VERSION\n",
    "    properties[\"spatial_resolution\"] = \"30s\"\n",
    "    properties[\"exportdescription\"] = row[\"exportdescription\"]\n",
    "    \n",
    "    image_out = ee.Image(image).set(properties)\n",
    "    return image_out\n",
    "\n",
    "\n",
    "def export_asset(image):\n",
    "    \"\"\" Export a google earth engine image to an asset folder\n",
    "    \n",
    "    function will start a new task. To view the status of the task\n",
    "    check the javascript API or query tasks script. Function is used \n",
    "    as mapped function so other arguments need to be set globally. \n",
    "    \n",
    "    Args:\n",
    "        image (ee.Image) : Image to export\n",
    "        \n",
    "    Returns:\n",
    "        asset_id (string) : asset id of     \n",
    "    \"\"\"\n",
    "    \n",
    "    asset_id = row[\"output_i_assetid\"]\n",
    "    task = ee.batch.Export.image.toAsset(\n",
    "        image =  ee.Image(image),\n",
    "        description = row[\"exportdescription\"],\n",
    "        assetId = asset_id,\n",
    "        dimensions = DIMENSION30S,\n",
    "        crs = CRS,\n",
    "        crsTransform = crsTransform30sSmall,\n",
    "        maxPixels = 1e10     \n",
    "    )\n",
    "    print(asset_id)\n",
    "    #task.start()\n",
    "\n",
    "\n",
    "\n",
    "    "
   ]
  },
  {
   "cell_type": "code",
   "execution_count": 9,
   "metadata": {
    "collapsed": true
   },
   "outputs": [],
   "source": [
    "months = range(1,13)\n",
    "years = range(1960+9,2014+1)\n",
    "indicators = [\"PTotWW\",\"PTotWN\"]"
   ]
  },
  {
   "cell_type": "markdown",
   "metadata": {},
   "source": [
    "It is only possible to calculate a 10 year running mean starting in 1969"
   ]
  },
  {
   "cell_type": "code",
   "execution_count": null,
   "metadata": {
    "collapsed": true
   },
   "outputs": [],
   "source": []
  },
  {
   "cell_type": "code",
   "execution_count": 10,
   "metadata": {},
   "outputs": [],
   "source": [
    "df = pd.DataFrame()\n",
    "\n",
    "for indicator in indicators:\n",
    "    for month in months:\n",
    "        for year in years:\n",
    "            newRow = {}\n",
    "            newRow[\"month\"] = month\n",
    "            newRow[\"year\"] = year\n",
    "            newRow[\"output_ic_filename\"] = \"global_historical_{}_month_m_pfaf06_1960_2014_movingaverage_10y_V{:02.0f}\".format(indicator,OUTPUT_VERSION)\n",
    "            newRow[\"output_ic_assetid\"] = \"{}/{}\".format(EE_PATH,newRow[\"output_ic_filename\"])\n",
    "            newRow[\"output_i_filename\"] = \"global_historical_{}_month_m_pfaf06_Y{:04.0f}M{:02.0f}_movingaverage_10y_V{:02.0f}\".format(indicator,year,month,OUTPUT_VERSION)\n",
    "            newRow[\"output_i_assetid\"] = \"{}/{}\".format(newRow[\"output_ic_assetid\"],newRow[\"output_i_filename\"])\n",
    "            newRow[\"indicator\"] = indicator\n",
    "            newRow[\"exportdescription\"] = \"{}_month_Y{:04.0f}M{:02.0f}_movingaverage_10y\".format(indicator,year,month)\n",
    "            df= df.append(newRow,ignore_index=True)\n"
   ]
  },
  {
   "cell_type": "code",
   "execution_count": 11,
   "metadata": {},
   "outputs": [
    {
     "data": {
      "text/html": [
       "<div>\n",
       "<style>\n",
       "    .dataframe thead tr:only-child th {\n",
       "        text-align: right;\n",
       "    }\n",
       "\n",
       "    .dataframe thead th {\n",
       "        text-align: left;\n",
       "    }\n",
       "\n",
       "    .dataframe tbody tr th {\n",
       "        vertical-align: top;\n",
       "    }\n",
       "</style>\n",
       "<table border=\"1\" class=\"dataframe\">\n",
       "  <thead>\n",
       "    <tr style=\"text-align: right;\">\n",
       "      <th></th>\n",
       "      <th>exportdescription</th>\n",
       "      <th>indicator</th>\n",
       "      <th>month</th>\n",
       "      <th>output_i_assetid</th>\n",
       "      <th>output_i_filename</th>\n",
       "      <th>output_ic_assetid</th>\n",
       "      <th>output_ic_filename</th>\n",
       "      <th>year</th>\n",
       "    </tr>\n",
       "  </thead>\n",
       "  <tbody>\n",
       "    <tr>\n",
       "      <th>0</th>\n",
       "      <td>PTotWW_month_Y1969M01_movingaverage_10y</td>\n",
       "      <td>PTotWW</td>\n",
       "      <td>1.0</td>\n",
       "      <td>projects/WRI-Aquaduct/PCRGlobWB20V07/global_hi...</td>\n",
       "      <td>global_historical_PTotWW_month_m_pfaf06_Y1969M...</td>\n",
       "      <td>projects/WRI-Aquaduct/PCRGlobWB20V07/global_hi...</td>\n",
       "      <td>global_historical_PTotWW_month_m_pfaf06_1960_2...</td>\n",
       "      <td>1969.0</td>\n",
       "    </tr>\n",
       "    <tr>\n",
       "      <th>1</th>\n",
       "      <td>PTotWW_month_Y1970M01_movingaverage_10y</td>\n",
       "      <td>PTotWW</td>\n",
       "      <td>1.0</td>\n",
       "      <td>projects/WRI-Aquaduct/PCRGlobWB20V07/global_hi...</td>\n",
       "      <td>global_historical_PTotWW_month_m_pfaf06_Y1970M...</td>\n",
       "      <td>projects/WRI-Aquaduct/PCRGlobWB20V07/global_hi...</td>\n",
       "      <td>global_historical_PTotWW_month_m_pfaf06_1960_2...</td>\n",
       "      <td>1970.0</td>\n",
       "    </tr>\n",
       "    <tr>\n",
       "      <th>2</th>\n",
       "      <td>PTotWW_month_Y1971M01_movingaverage_10y</td>\n",
       "      <td>PTotWW</td>\n",
       "      <td>1.0</td>\n",
       "      <td>projects/WRI-Aquaduct/PCRGlobWB20V07/global_hi...</td>\n",
       "      <td>global_historical_PTotWW_month_m_pfaf06_Y1971M...</td>\n",
       "      <td>projects/WRI-Aquaduct/PCRGlobWB20V07/global_hi...</td>\n",
       "      <td>global_historical_PTotWW_month_m_pfaf06_1960_2...</td>\n",
       "      <td>1971.0</td>\n",
       "    </tr>\n",
       "    <tr>\n",
       "      <th>3</th>\n",
       "      <td>PTotWW_month_Y1972M01_movingaverage_10y</td>\n",
       "      <td>PTotWW</td>\n",
       "      <td>1.0</td>\n",
       "      <td>projects/WRI-Aquaduct/PCRGlobWB20V07/global_hi...</td>\n",
       "      <td>global_historical_PTotWW_month_m_pfaf06_Y1972M...</td>\n",
       "      <td>projects/WRI-Aquaduct/PCRGlobWB20V07/global_hi...</td>\n",
       "      <td>global_historical_PTotWW_month_m_pfaf06_1960_2...</td>\n",
       "      <td>1972.0</td>\n",
       "    </tr>\n",
       "    <tr>\n",
       "      <th>4</th>\n",
       "      <td>PTotWW_month_Y1973M01_movingaverage_10y</td>\n",
       "      <td>PTotWW</td>\n",
       "      <td>1.0</td>\n",
       "      <td>projects/WRI-Aquaduct/PCRGlobWB20V07/global_hi...</td>\n",
       "      <td>global_historical_PTotWW_month_m_pfaf06_Y1973M...</td>\n",
       "      <td>projects/WRI-Aquaduct/PCRGlobWB20V07/global_hi...</td>\n",
       "      <td>global_historical_PTotWW_month_m_pfaf06_1960_2...</td>\n",
       "      <td>1973.0</td>\n",
       "    </tr>\n",
       "  </tbody>\n",
       "</table>\n",
       "</div>"
      ],
      "text/plain": [
       "                         exportdescription indicator  month  \\\n",
       "0  PTotWW_month_Y1969M01_movingaverage_10y    PTotWW    1.0   \n",
       "1  PTotWW_month_Y1970M01_movingaverage_10y    PTotWW    1.0   \n",
       "2  PTotWW_month_Y1971M01_movingaverage_10y    PTotWW    1.0   \n",
       "3  PTotWW_month_Y1972M01_movingaverage_10y    PTotWW    1.0   \n",
       "4  PTotWW_month_Y1973M01_movingaverage_10y    PTotWW    1.0   \n",
       "\n",
       "                                    output_i_assetid  \\\n",
       "0  projects/WRI-Aquaduct/PCRGlobWB20V07/global_hi...   \n",
       "1  projects/WRI-Aquaduct/PCRGlobWB20V07/global_hi...   \n",
       "2  projects/WRI-Aquaduct/PCRGlobWB20V07/global_hi...   \n",
       "3  projects/WRI-Aquaduct/PCRGlobWB20V07/global_hi...   \n",
       "4  projects/WRI-Aquaduct/PCRGlobWB20V07/global_hi...   \n",
       "\n",
       "                                   output_i_filename  \\\n",
       "0  global_historical_PTotWW_month_m_pfaf06_Y1969M...   \n",
       "1  global_historical_PTotWW_month_m_pfaf06_Y1970M...   \n",
       "2  global_historical_PTotWW_month_m_pfaf06_Y1971M...   \n",
       "3  global_historical_PTotWW_month_m_pfaf06_Y1972M...   \n",
       "4  global_historical_PTotWW_month_m_pfaf06_Y1973M...   \n",
       "\n",
       "                                   output_ic_assetid  \\\n",
       "0  projects/WRI-Aquaduct/PCRGlobWB20V07/global_hi...   \n",
       "1  projects/WRI-Aquaduct/PCRGlobWB20V07/global_hi...   \n",
       "2  projects/WRI-Aquaduct/PCRGlobWB20V07/global_hi...   \n",
       "3  projects/WRI-Aquaduct/PCRGlobWB20V07/global_hi...   \n",
       "4  projects/WRI-Aquaduct/PCRGlobWB20V07/global_hi...   \n",
       "\n",
       "                                  output_ic_filename    year  \n",
       "0  global_historical_PTotWW_month_m_pfaf06_1960_2...  1969.0  \n",
       "1  global_historical_PTotWW_month_m_pfaf06_1960_2...  1970.0  \n",
       "2  global_historical_PTotWW_month_m_pfaf06_1960_2...  1971.0  \n",
       "3  global_historical_PTotWW_month_m_pfaf06_1960_2...  1972.0  \n",
       "4  global_historical_PTotWW_month_m_pfaf06_1960_2...  1973.0  "
      ]
     },
     "execution_count": 11,
     "metadata": {},
     "output_type": "execute_result"
    }
   ],
   "source": [
    "df.head()"
   ]
  },
  {
   "cell_type": "code",
   "execution_count": 12,
   "metadata": {},
   "outputs": [
    {
     "name": "stdout",
     "output_type": "stream",
     "text": [
      "b'Asset projects/WRI-Aquaduct/PCRGlobWB20V07/global_historical_PTotWW_month_m_pfaf06_1960_2014_movingaverage_10y_V01 already exists\\n'\n",
      "b'Asset projects/WRI-Aquaduct/PCRGlobWB20V07/global_historical_PTotWN_month_m_pfaf06_1960_2014_movingaverage_10y_V01 already exists\\n'\n"
     ]
    }
   ],
   "source": [
    "for output_ic_assetid in df[\"output_ic_assetid\"].unique():\n",
    "    result = create_collection(output_ic_assetid)\n",
    "    print(result)"
   ]
  },
  {
   "cell_type": "code",
   "execution_count": 16,
   "metadata": {},
   "outputs": [
    {
     "name": "stdout",
     "output_type": "stream",
     "text": [
      "1\n",
      "projects/WRI-Aquaduct/PCRGlobWB20V07/global_historical_PTotWW_month_m_pfaf06_1960_2014_movingaverage_10y_V01/global_historical_PTotWW_month_m_pfaf06_Y1970M01_movingaverage_10y_V01\n",
      "Processing image 1 month 12 of year 2014 runtime 0:00:00.618971\n"
     ]
    }
   ],
   "source": [
    "function_time_start = datetime.datetime.now()\n",
    "for index, row in df.iterrows():\n",
    "    print(index)\n",
    "    ic = ee.ImageCollection(\"{}/global_historical_{}_month_m_pfaf06_1960_2014\".format(EE_PATH,row[\"indicator\"]))\n",
    "    ic_month = ic.filter(ee.Filter.eq(\"month\",month))\n",
    "    i_mean = moving_average_decade(year,ic_month)\n",
    "    i_mean = set_properties(i_mean)\n",
    "    export_asset(i_mean)\n",
    "    elapsed = datetime.datetime.now() - function_time_start\n",
    "    print(\"Processing image {} month {} of year {} runtime {}\".format(index,month,year,elapsed))"
   ]
  },
  {
   "cell_type": "code",
   "execution_count": null,
   "metadata": {
    "collapsed": true
   },
   "outputs": [],
   "source": [
    "end = datetime.datetime.now()\n",
    "elapsed = end - start\n",
    "print(elapsed)"
   ]
  }
 ],
 "metadata": {
  "kernelspec": {
   "display_name": "Python 35",
   "language": "python",
   "name": "python35"
  },
  "language_info": {
   "codemirror_mode": {
    "name": "ipython",
    "version": 3
   },
   "file_extension": ".py",
   "mimetype": "text/x-python",
   "name": "python",
   "nbconvert_exporter": "python",
   "pygments_lexer": "ipython3",
   "version": "3.5.4"
  }
 },
 "nbformat": 4,
 "nbformat_minor": 2
}
