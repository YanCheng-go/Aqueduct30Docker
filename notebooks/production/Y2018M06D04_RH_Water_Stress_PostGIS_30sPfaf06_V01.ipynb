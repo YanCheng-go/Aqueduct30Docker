{
 "cells": [
  {
   "cell_type": "code",
   "execution_count": 1,
   "metadata": {},
   "outputs": [
    {
     "name": "stdout",
     "output_type": "stream",
     "text": [
      "Input Table:  y2018m06d04_rh_arid_lowwateruse_postgis_30spfaf06_v01_v04 \n",
      "Output Table:  y2018m06d04_rh_water_stress_postgis_30spfaf06_v01_v03\n"
     ]
    }
   ],
   "source": [
    "\"\"\" Calculate water stress at subbasin level.\n",
    "-------------------------------------------------------------------------------\n",
    "\n",
    "Author: Rutger Hofste\n",
    "Date: 20180604\n",
    "Kernel: python35\n",
    "Docker: rutgerhofste/gisdocker:ubuntu16.04\n",
    "\n",
    "Args:\n",
    "    TESTING (Boolean) : Toggle testing case.\n",
    "    SCRIPT_NAME (string) : Script name.\n",
    "    OUTPUT_VERSION (integer) : output version.\n",
    "    DATABASE_ENDPOINT (string) : RDS or postGreSQL endpoint.\n",
    "    DATABASE_NAME (string) : Database name.\n",
    "    TABLE_NAME_AREA_30SPFAF06 (string) : Table name used for areas. Must exist\n",
    "        on same database as used in rest of script.\n",
    "    S3_INPUT_PATH_RIVERDISCHARGE (string) : AWS S3 input path for \n",
    "        riverdischarge.    \n",
    "    S3_INPUT_PATH_DEMAND (string) : AWS S3 input path for \n",
    "        demand.     \n",
    "\n",
    "\"\"\"\n",
    "\n",
    "TESTING = 0\n",
    "OVERWRITE_OUTPUT = 1\n",
    "SCRIPT_NAME = 'Y2018M06D04_RH_Water_Stress_PostGIS_30sPfaf06_V01'\n",
    "OUTPUT_VERSION = 3\n",
    "\n",
    "DATABASE_ENDPOINT = \"aqueduct30v05.cgpnumwmfcqc.eu-central-1.rds.amazonaws.com\"\n",
    "DATABASE_NAME = \"database01\"\n",
    "INPUT_TABLE_NAME = 'y2018m06d04_rh_arid_lowwateruse_postgis_30spfaf06_v01_v04'\n",
    "OUTPUT_TABLE_NAME = SCRIPT_NAME.lower() + \"_v{:02.0f}\".format(OUTPUT_VERSION)\n",
    "\n",
    "print(\"Input Table: \" , INPUT_TABLE_NAME, \n",
    "      \"\\nOutput Table: \" , OUTPUT_TABLE_NAME)"
   ]
  },
  {
   "cell_type": "code",
   "execution_count": 2,
   "metadata": {},
   "outputs": [
    {
     "name": "stdout",
     "output_type": "stream",
     "text": [
      "Y2018M06D05 UTC 11:19\n"
     ]
    },
    {
     "data": {
      "text/plain": [
       "'3.5.4 |Anaconda, Inc.| (default, Nov 20 2017, 18:44:38) \\n[GCC 7.2.0]'"
      ]
     },
     "execution_count": 2,
     "metadata": {},
     "output_type": "execute_result"
    }
   ],
   "source": [
    "import time, datetime, sys\n",
    "dateString = time.strftime(\"Y%YM%mD%d\")\n",
    "timeString = time.strftime(\"UTC %H:%M\")\n",
    "start = datetime.datetime.now()\n",
    "print(dateString,timeString)\n",
    "sys.version"
   ]
  },
  {
   "cell_type": "code",
   "execution_count": 3,
   "metadata": {
    "collapsed": true
   },
   "outputs": [],
   "source": [
    "# imports\n",
    "import re\n",
    "import os\n",
    "import numpy as np\n",
    "import pandas as pd\n",
    "import aqueduct3\n",
    "from datetime import timedelta\n",
    "from sqlalchemy import *\n",
    "pd.set_option('display.max_columns', 500)"
   ]
  },
  {
   "cell_type": "code",
   "execution_count": 4,
   "metadata": {
    "collapsed": true
   },
   "outputs": [],
   "source": [
    "F = open(\"/.password\",\"r\")\n",
    "password = F.read().splitlines()[0]\n",
    "F.close()\n",
    "\n",
    "engine = create_engine(\"postgresql://rutgerhofste:{}@{}:5432/{}\".format(password,DATABASE_ENDPOINT,DATABASE_NAME))\n",
    "connection = engine.connect()\n",
    "\n",
    "sqls = []\n",
    "\n",
    "\n",
    "if OVERWRITE_OUTPUT:\n",
    "    sqls.append(\"DROP TABLE IF EXISTS {};\".format(OUTPUT_TABLE_NAME))"
   ]
  },
  {
   "cell_type": "markdown",
   "metadata": {},
   "source": [
    "Water Stress = ptotww / (riverdischarge + ptotwn)"
   ]
  },
  {
   "cell_type": "code",
   "execution_count": 5,
   "metadata": {
    "collapsed": true
   },
   "outputs": [],
   "source": [
    "if TESTING:\n",
    "    sqls.append(\"CREATE TABLE {} AS SELECT * FROM {} WHERE pfafid_30spfaf06 < 130000 ;\".format(OUTPUT_TABLE_NAME,INPUT_TABLE_NAME))\n",
    "else:\n",
    "    sqls.append(\"CREATE TABLE {} AS SELECT * FROM {};\".format(OUTPUT_TABLE_NAME,INPUT_TABLE_NAME))"
   ]
  },
  {
   "cell_type": "code",
   "execution_count": 6,
   "metadata": {
    "collapsed": true
   },
   "outputs": [],
   "source": [
    "sqls.append(\"ALTER TABLE {} ADD COLUMN waterstress_dimensionless_30spfaf06 double precision\".format(OUTPUT_TABLE_NAME))"
   ]
  },
  {
   "cell_type": "code",
   "execution_count": 7,
   "metadata": {
    "collapsed": true
   },
   "outputs": [],
   "source": [
    "sqls.append(\"UPDATE {} \\\n",
    "    SET waterstress_dimensionless_30spfaf06 = ma10_ptotww_m_30spfaf06 / (ma10_riverdischarge_m_30spfaf06 + ma10_ptotwn_m_30spfaf06) \\\n",
    "    WHERE aridandlowwateruse_boolean_30spfaf06 != 1;\".format(OUTPUT_TABLE_NAME))"
   ]
  },
  {
   "cell_type": "code",
   "execution_count": 8,
   "metadata": {},
   "outputs": [
    {
     "data": {
      "text/plain": [
       "['DROP TABLE IF EXISTS y2018m06d04_rh_water_stress_postgis_30spfaf06_v01_v03;',\n",
       " 'CREATE TABLE y2018m06d04_rh_water_stress_postgis_30spfaf06_v01_v03 AS SELECT * FROM y2018m06d04_rh_arid_lowwateruse_postgis_30spfaf06_v01_v04;',\n",
       " 'ALTER TABLE y2018m06d04_rh_water_stress_postgis_30spfaf06_v01_v03 ADD COLUMN waterstress_dimensionless_30spfaf06 double precision',\n",
       " 'UPDATE y2018m06d04_rh_water_stress_postgis_30spfaf06_v01_v03     SET waterstress_dimensionless_30spfaf06 = ma10_ptotww_m_30spfaf06 / (ma10_riverdischarge_m_30spfaf06 + ma10_ptotwn_m_30spfaf06)     WHERE aridandlowwateruse_boolean_30spfaf06 != 1;']"
      ]
     },
     "execution_count": 8,
     "metadata": {},
     "output_type": "execute_result"
    }
   ],
   "source": [
    "sqls"
   ]
  },
  {
   "cell_type": "code",
   "execution_count": 9,
   "metadata": {},
   "outputs": [
    {
     "name": "stdout",
     "output_type": "stream",
     "text": [
      "DROP TABLE IF EXISTS y2018m06d04_rh_water_stress_postgis_30spfaf06_v01_v03;\n",
      "CREATE TABLE y2018m06d04_rh_water_stress_postgis_30spfaf06_v01_v03 AS SELECT * FROM y2018m06d04_rh_arid_lowwateruse_postgis_30spfaf06_v01_v04;\n",
      "ALTER TABLE y2018m06d04_rh_water_stress_postgis_30spfaf06_v01_v03 ADD COLUMN waterstress_dimensionless_30spfaf06 double precision\n",
      "UPDATE y2018m06d04_rh_water_stress_postgis_30spfaf06_v01_v03     SET waterstress_dimensionless_30spfaf06 = ma10_ptotww_m_30spfaf06 / (ma10_riverdischarge_m_30spfaf06 + ma10_ptotwn_m_30spfaf06)     WHERE aridandlowwateruse_boolean_30spfaf06 != 1;\n"
     ]
    }
   ],
   "source": [
    "for sql in sqls:\n",
    "    print(sql)\n",
    "    result = engine.execute(sql)   "
   ]
  },
  {
   "cell_type": "code",
   "execution_count": 10,
   "metadata": {},
   "outputs": [
    {
     "name": "stdout",
     "output_type": "stream",
     "text": [
      "0:03:04.159543\n"
     ]
    }
   ],
   "source": [
    "end = datetime.datetime.now()\n",
    "elapsed = end - start\n",
    "print(elapsed)"
   ]
  },
  {
   "cell_type": "markdown",
   "metadata": {},
   "source": [
    "Previous runs:  \n",
    "0:02:51.356640  \n",
    "0:03:09.128359\n",
    "\n"
   ]
  },
  {
   "cell_type": "code",
   "execution_count": null,
   "metadata": {
    "collapsed": true
   },
   "outputs": [],
   "source": []
  }
 ],
 "metadata": {
  "kernelspec": {
   "display_name": "Python 35",
   "language": "python",
   "name": "python35"
  },
  "language_info": {
   "codemirror_mode": {
    "name": "ipython",
    "version": 3
   },
   "file_extension": ".py",
   "mimetype": "text/x-python",
   "name": "python",
   "nbconvert_exporter": "python",
   "pygments_lexer": "ipython3",
   "version": "3.5.4"
  }
 },
 "nbformat": 4,
 "nbformat_minor": 2
}
