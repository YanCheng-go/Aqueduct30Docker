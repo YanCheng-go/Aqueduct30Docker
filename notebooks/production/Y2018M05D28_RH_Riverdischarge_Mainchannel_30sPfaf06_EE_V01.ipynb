{
 "cells": [
  {
   "cell_type": "code",
   "execution_count": 1,
   "metadata": {},
   "outputs": [
    {
     "name": "stdout",
     "output_type": "stream",
     "text": [
      "Input ee zones: projects/WRI-Aquaduct/Y2018M04D20_RH_Ingest_HydroBasins_GCS_EE_V01/output_V02/hybas_lev06_v1c_merged_fiona_30s_V04\n",
      "Input ee mask: projects/WRI-Aquaduct/Y2018M05D03_RH_Mask_Discharge_Pixels_V01/output_V04/global_riverdischarge_mask_30sPfaf06\n",
      "Input ee riverdischarge month: projects/WRI-Aquaduct/PCRGlobWB20V09/ \n",
      "Output ec2: /volumes/data/Y2018M05D28_RH_Riverdischarge_Mainchannel_30sPfaf06_EE_V01/output_V02 \n",
      "Output s3: s3://wri-projects/Aqueduct30/processData/Y2018M05D28_RH_Riverdischarge_Mainchannel_30sPfaf06_EE_V01/output_V02\n"
     ]
    }
   ],
   "source": [
    "\"\"\" Apply the combined mask and calculate the max discharge per 30spfaf06 zone.\n",
    "-------------------------------------------------------------------------------\n",
    "\n",
    "The combined mask is composed of two components: 1) Subbasins need to be\n",
    "sufficiently large and 2) the number of maximum streamorder cells needs to be\n",
    "sufficient. Thresholds as of 20180528.\n",
    "\n",
    "Area > 1000 cells (30s)\n",
    "Streamorder > 150 cells (30s)\n",
    "\n",
    "The combined mask is applied to the zones and a zonal statistic (max) is \n",
    "calculted with volumetric riverdischarge as input.\n",
    "\n",
    "The output will be stored as table. Options include: \n",
    "1) dataframe on EC2\n",
    "2) CSV file on GCS\n",
    "3) fc on ee\n",
    "\n",
    "depending on performance, we will choose option 1,2 or 3.\n",
    "\n",
    "Author: Rutger Hofste\n",
    "Date: 20180528\n",
    "Kernel: python35\n",
    "Docker: rutgerhofste/gisdocker:ubuntu16.04\n",
    "\n",
    "Args:\n",
    "\n",
    "    TESTING (boolean) : Testing mode. Uses a smaller geography if enabled.\n",
    "    \n",
    "    SCRIPT_NAME (string) : Script name.\n",
    "    EE_INPUT_ZONES_PATH (string) : earthengine input path for zones.\n",
    "    EE_INPUT_VALUES_PATH (string) : earthengine input path for value images.\n",
    "    INPUT_VERSION_ZONES (integer) : input version for zones images.\n",
    "    INPUT_VERSION_VALUES (integer) : input version for value images.\n",
    "    OUTPUT_VERSION (integer) : output version. \n",
    "    EXTRA_PROPERTIES (dictionary) : Extra properties to store in the resulting\n",
    "        pandas dataframe. \n",
    "    \n",
    "\n",
    "Returns:\n",
    "\n",
    "\"\"\"\n",
    "\n",
    "TESTING = 0\n",
    "SCRIPT_NAME = \"Y2018M05D28_RH_Riverdischarge_Mainchannel_30sPfaf06_EE_V01\"\n",
    "OUTPUT_VERSION = 2\n",
    "\n",
    "EE_INPUT_ASSET_ID_30SPFAF06ZONES = \"projects/WRI-Aquaduct/Y2018M04D20_RH_Ingest_HydroBasins_GCS_EE_V01/output_V02/hybas_lev06_v1c_merged_fiona_30s_V04\"\n",
    "EE_INPUT_ASSET_ID_COMBINEDMASK = \"projects/WRI-Aquaduct/Y2018M05D03_RH_Mask_Discharge_Pixels_V01/output_V04/global_riverdischarge_mask_30sPfaf06\"\n",
    "EE_INPUT_RIVERDISCHARGE_PATH_ID = \"projects/WRI-Aquaduct/PCRGlobWB20V09/\"\n",
    "\n",
    "SEPARATOR = \"_|-\"\n",
    "SCHEMA =[\"geographic_range\",\n",
    "         \"temporal_range\",\n",
    "         \"indicator\",\n",
    "         \"temporal_resolution\",\n",
    "         \"unit\",\n",
    "         \"spatial_resolution\",\n",
    "         \"temporal_range_min\",\n",
    "         \"temporal_range_max\"]\n",
    "\n",
    "EXTRA_PROPERTIES = {\"output_version\":OUTPUT_VERSION,\n",
    "                    \"script_used\":SCRIPT_NAME,\n",
    "                   }\n",
    "\n",
    "ec2_output_path = \"/volumes/data/{}/output_V{:02.0f}\".format(SCRIPT_NAME,OUTPUT_VERSION)\n",
    "s3_output_path = \"s3://wri-projects/Aqueduct30/processData/{}/output_V{:02.0f}\".format(SCRIPT_NAME,OUTPUT_VERSION)\n",
    "\n",
    "\n",
    "print(\"Input ee zones: \" +  EE_INPUT_ASSET_ID_30SPFAF06ZONES +\n",
    "      \"\\nInput ee mask: \" + EE_INPUT_ASSET_ID_COMBINEDMASK  +\n",
    "      \"\\nInput ee riverdischarge month: \" + EE_INPUT_RIVERDISCHARGE_PATH_ID,\n",
    "      \"\\nOutput ec2: \" + ec2_output_path,\n",
    "      \"\\nOutput s3: \" + s3_output_path)\n",
    "\n",
    "\n"
   ]
  },
  {
   "cell_type": "code",
   "execution_count": 2,
   "metadata": {},
   "outputs": [
    {
     "name": "stdout",
     "output_type": "stream",
     "text": [
      "Y2018M05D29 UTC 09:14\n"
     ]
    },
    {
     "data": {
      "text/plain": [
       "'3.5.4 |Anaconda, Inc.| (default, Nov 20 2017, 18:44:38) \\n[GCC 7.2.0]'"
      ]
     },
     "execution_count": 2,
     "metadata": {},
     "output_type": "execute_result"
    }
   ],
   "source": [
    "import time, datetime, sys, logging\n",
    "dateString = time.strftime(\"Y%YM%mD%d\")\n",
    "timeString = time.strftime(\"UTC %H:%M\")\n",
    "start = datetime.datetime.now()\n",
    "print(dateString,timeString)\n",
    "sys.version"
   ]
  },
  {
   "cell_type": "code",
   "execution_count": 3,
   "metadata": {
    "collapsed": true
   },
   "outputs": [],
   "source": [
    "logger = logging.getLogger(__name__)\n",
    "logger.setLevel(logging.DEBUG)\n",
    "formatter = logging.Formatter('%(asctime)s:%(levelname)s:%(message)s')\n",
    "file_handler = logging.FileHandler(\"./logs/{}.log\".format(SCRIPT_NAME))\n",
    "file_handler.setFormatter(formatter)\n",
    "logger.addHandler(file_handler)"
   ]
  },
  {
   "cell_type": "code",
   "execution_count": 4,
   "metadata": {
    "collapsed": true
   },
   "outputs": [],
   "source": [
    "# Imports\n",
    "import pandas as pd\n",
    "import numpy as np\n",
    "from datetime import timedelta\n",
    "import os\n",
    "import ee\n",
    "import aqueduct3\n",
    "\n",
    "ee.Initialize()"
   ]
  },
  {
   "cell_type": "code",
   "execution_count": 5,
   "metadata": {},
   "outputs": [],
   "source": [
    "#!rm -r {ec2_output_path}\n",
    "#!mkdir -p {ec2_output_path}"
   ]
  },
  {
   "cell_type": "code",
   "execution_count": 6,
   "metadata": {
    "collapsed": true
   },
   "outputs": [],
   "source": [
    "def post_process_results(result_list,function_properties,extra_properties=EXTRA_PROPERTIES):\n",
    "    \"\"\"Client side function to convert results of reduceRegion to pandas dataframe.\n",
    "    -------------------------------------------------------------------------------\n",
    "    \n",
    "    Adds additional properties. The script is client side for convenience reasons.\n",
    "    A more robust and fast approach would be to add the extra_properties to the \n",
    "    server side dictionary.\n",
    "    \n",
    "    Args:\n",
    "        result_list (ee.List) : List of dictionaries. Result from reduceRegion\n",
    "        function_properties (dictionary) : Additional properties used in the \n",
    "            reduceRegion function call.\n",
    "        extra_properties (dictionary) : Additional properties set at global level. \n",
    "    \n",
    "    Returns:\n",
    "        df (pd.DataFrame) : Pandas dataframe with extra properties.\n",
    "    \n",
    "    \n",
    "    \"\"\"\n",
    "    extra_properties = {**function_properties, **EXTRA_PROPERTIES}\n",
    "    result_list_clientside = result_list.getInfo()\n",
    "    df = pd.DataFrame(result_list_clientside)\n",
    "    df = df.assign(**extra_properties)\n",
    "    df = df.apply(pd.to_numeric, errors='ignore')\n",
    "    return df  "
   ]
  },
  {
   "cell_type": "code",
   "execution_count": 7,
   "metadata": {
    "collapsed": true
   },
   "outputs": [],
   "source": [
    "def post_process_results_server_side(result_list,function_properties,extra_properties=EXTRA_PROPERTIES):\n",
    "    \"\"\" Convert list of dicts to featureCollection, Add properties and export as \n",
    "    CSV\n",
    "    -------------------------------------------------------------------------------\n",
    "    \n",
    "    Args:\n",
    "        result_list (ee.List) : List of dictionaries. Result from reduceRegion\n",
    "        function_properties (dictionary) : Additional properties used in the \n",
    "            reduceRegion function call.\n",
    "        extra_properties (dictionary) : Additional properties set at global level.   \n",
    "        \n",
    "        \n",
    "    TODO: Assess how bad the client side function performs. Convert List to FC, add properties, save as CSV. \n",
    "    \n",
    "    \"\"\"\n",
    "    \n",
    "    \n",
    "    \n",
    "    \n",
    "    \n",
    "    "
   ]
  },
  {
   "cell_type": "code",
   "execution_count": 8,
   "metadata": {
    "collapsed": true
   },
   "outputs": [],
   "source": [
    "i_zones = ee.Image(EE_INPUT_ASSET_ID_30SPFAF06ZONES)\n",
    "i_combined_mask = ee.Image(EE_INPUT_ASSET_ID_COMBINEDMASK)"
   ]
  },
  {
   "cell_type": "code",
   "execution_count": 9,
   "metadata": {
    "collapsed": true
   },
   "outputs": [],
   "source": [
    "temporal_resolutions = [\"month\",\"year\"]\n",
    "spatial_resolution = \"30s\"\n",
    "pfaf_level = 6\n",
    "indicator = \"riverdischarge\"\n",
    "reducer_name = \"max\"\n",
    "\n",
    "if TESTING:\n",
    "    temporal_resolution = [\"month\"]\n"
   ]
  },
  {
   "cell_type": "code",
   "execution_count": 10,
   "metadata": {
    "collapsed": true
   },
   "outputs": [],
   "source": [
    "# Apply mask\n",
    "i_maskedzones_30sPfaf06 = i_zones.mask(i_combined_mask)\n",
    "\n",
    "# Geospatial constants\n",
    "geometry_server_side = aqueduct3.earthengine.get_global_geometry(test=TESTING)\n",
    "geometry_client_side = geometry_server_side.getInfo()['coordinates']\n",
    "\n",
    "crs_transform = aqueduct3.earthengine.get_crs_transform(spatial_resolution)\n"
   ]
  },
  {
   "cell_type": "code",
   "execution_count": null,
   "metadata": {},
   "outputs": [
    {
     "name": "stdout",
     "output_type": "stream",
     "text": [
      "projects/WRI-Aquaduct/PCRGlobWB20V09/global_historical_riverdischarge_month_millionm3_5min_1960_2014\n",
      "Index 100.00, Processed: 101 Elapsed: 0:00:01.634605 Asset: projects/WRI-Aquaduct/PCRGlobWB20V09/global_historical_riverdischarge_month_millionm3_5min_1960_2014/global_historical_riverdischarge_month_millionm3_5min_1960_2014_I100Y1968M05\n",
      "Index 101.00, Processed: 102 Elapsed: 0:01:27.791724 Asset: projects/WRI-Aquaduct/PCRGlobWB20V09/global_historical_riverdischarge_month_millionm3_5min_1960_2014/global_historical_riverdischarge_month_millionm3_5min_1960_2014_I101Y1968M06\n",
      "Index 102.00, Processed: 103 Elapsed: 0:01:57.883412 Asset: projects/WRI-Aquaduct/PCRGlobWB20V09/global_historical_riverdischarge_month_millionm3_5min_1960_2014/global_historical_riverdischarge_month_millionm3_5min_1960_2014_I102Y1968M07\n",
      "Index 103.00, Processed: 104 Elapsed: 0:02:09.021656 Asset: projects/WRI-Aquaduct/PCRGlobWB20V09/global_historical_riverdischarge_month_millionm3_5min_1960_2014/global_historical_riverdischarge_month_millionm3_5min_1960_2014_I103Y1968M08\n",
      "Index 104.00, Processed: 105 Elapsed: 0:02:20.539608 Asset: projects/WRI-Aquaduct/PCRGlobWB20V09/global_historical_riverdischarge_month_millionm3_5min_1960_2014/global_historical_riverdischarge_month_millionm3_5min_1960_2014_I104Y1968M09\n",
      "Index 129.00, Processed: 130 Elapsed: 0:02:35.073384 Asset: projects/WRI-Aquaduct/PCRGlobWB20V09/global_historical_riverdischarge_month_millionm3_5min_1960_2014/global_historical_riverdischarge_month_millionm3_5min_1960_2014_I129Y1970M10\n",
      "Index 130.00, Processed: 131 Elapsed: 0:02:45.796168 Asset: projects/WRI-Aquaduct/PCRGlobWB20V09/global_historical_riverdischarge_month_millionm3_5min_1960_2014/global_historical_riverdischarge_month_millionm3_5min_1960_2014_I130Y1970M11\n",
      "Index 131.00, Processed: 132 Elapsed: 0:02:56.513575 Asset: projects/WRI-Aquaduct/PCRGlobWB20V09/global_historical_riverdischarge_month_millionm3_5min_1960_2014/global_historical_riverdischarge_month_millionm3_5min_1960_2014_I131Y1970M12\n",
      "Index 132.00, Processed: 133 Elapsed: 0:03:07.230836 Asset: projects/WRI-Aquaduct/PCRGlobWB20V09/global_historical_riverdischarge_month_millionm3_5min_1960_2014/global_historical_riverdischarge_month_millionm3_5min_1960_2014_I132Y1971M01\n",
      "Index 133.00, Processed: 134 Elapsed: 0:03:17.955796 Asset: projects/WRI-Aquaduct/PCRGlobWB20V09/global_historical_riverdischarge_month_millionm3_5min_1960_2014/global_historical_riverdischarge_month_millionm3_5min_1960_2014_I133Y1971M02\n",
      "Index 134.00, Processed: 135 Elapsed: 0:03:29.515728 Asset: projects/WRI-Aquaduct/PCRGlobWB20V09/global_historical_riverdischarge_month_millionm3_5min_1960_2014/global_historical_riverdischarge_month_millionm3_5min_1960_2014_I134Y1971M03\n",
      "Index 135.00, Processed: 136 Elapsed: 0:03:50.230955 Asset: projects/WRI-Aquaduct/PCRGlobWB20V09/global_historical_riverdischarge_month_millionm3_5min_1960_2014/global_historical_riverdischarge_month_millionm3_5min_1960_2014_I135Y1971M04\n",
      "Index 136.00, Processed: 137 Elapsed: 0:05:37.972132 Asset: projects/WRI-Aquaduct/PCRGlobWB20V09/global_historical_riverdischarge_month_millionm3_5min_1960_2014/global_historical_riverdischarge_month_millionm3_5min_1960_2014_I136Y1971M05\n",
      "Index 137.00, Processed: 138 Elapsed: 0:06:56.622186 Asset: projects/WRI-Aquaduct/PCRGlobWB20V09/global_historical_riverdischarge_month_millionm3_5min_1960_2014/global_historical_riverdischarge_month_millionm3_5min_1960_2014_I137Y1971M06\n",
      "Index 138.00, Processed: 139 Elapsed: 0:09:19.477721 Asset: projects/WRI-Aquaduct/PCRGlobWB20V09/global_historical_riverdischarge_month_millionm3_5min_1960_2014/global_historical_riverdischarge_month_millionm3_5min_1960_2014_I138Y1971M07\n",
      "Index 139.00, Processed: 140 Elapsed: 0:11:00.048375 Asset: projects/WRI-Aquaduct/PCRGlobWB20V09/global_historical_riverdischarge_month_millionm3_5min_1960_2014/global_historical_riverdischarge_month_millionm3_5min_1960_2014_I139Y1971M08\n",
      "Index 140.00, Processed: 141 Elapsed: 0:12:08.864707 Asset: projects/WRI-Aquaduct/PCRGlobWB20V09/global_historical_riverdischarge_month_millionm3_5min_1960_2014/global_historical_riverdischarge_month_millionm3_5min_1960_2014_I140Y1971M09\n",
      "Index 141.00, Processed: 142 Elapsed: 0:13:08.911644 Asset: projects/WRI-Aquaduct/PCRGlobWB20V09/global_historical_riverdischarge_month_millionm3_5min_1960_2014/global_historical_riverdischarge_month_millionm3_5min_1960_2014_I141Y1971M10\n",
      "Index 142.00, Processed: 143 Elapsed: 0:14:06.878077 Asset: projects/WRI-Aquaduct/PCRGlobWB20V09/global_historical_riverdischarge_month_millionm3_5min_1960_2014/global_historical_riverdischarge_month_millionm3_5min_1960_2014_I142Y1971M11\n",
      "Index 143.00, Processed: 144 Elapsed: 0:15:12.794617 Asset: projects/WRI-Aquaduct/PCRGlobWB20V09/global_historical_riverdischarge_month_millionm3_5min_1960_2014/global_historical_riverdischarge_month_millionm3_5min_1960_2014_I143Y1971M12\n",
      "Index 144.00, Processed: 145 Elapsed: 0:17:13.897438 Asset: projects/WRI-Aquaduct/PCRGlobWB20V09/global_historical_riverdischarge_month_millionm3_5min_1960_2014/global_historical_riverdischarge_month_millionm3_5min_1960_2014_I144Y1972M01\n",
      "Index 145.00, Processed: 146 Elapsed: 0:18:50.121734 Asset: projects/WRI-Aquaduct/PCRGlobWB20V09/global_historical_riverdischarge_month_millionm3_5min_1960_2014/global_historical_riverdischarge_month_millionm3_5min_1960_2014_I145Y1972M02\n",
      "Index 146.00, Processed: 147 Elapsed: 0:21:04.476604 Asset: projects/WRI-Aquaduct/PCRGlobWB20V09/global_historical_riverdischarge_month_millionm3_5min_1960_2014/global_historical_riverdischarge_month_millionm3_5min_1960_2014_I146Y1972M03\n",
      "Index 147.00, Processed: 148 Elapsed: 0:22:35.468827 Asset: projects/WRI-Aquaduct/PCRGlobWB20V09/global_historical_riverdischarge_month_millionm3_5min_1960_2014/global_historical_riverdischarge_month_millionm3_5min_1960_2014_I147Y1972M04\n",
      "Index 148.00, Processed: 149 Elapsed: 0:24:01.196519 Asset: projects/WRI-Aquaduct/PCRGlobWB20V09/global_historical_riverdischarge_month_millionm3_5min_1960_2014/global_historical_riverdischarge_month_millionm3_5min_1960_2014_I148Y1972M05\n",
      "Index 149.00, Processed: 150 Elapsed: 0:25:09.675835 Asset: projects/WRI-Aquaduct/PCRGlobWB20V09/global_historical_riverdischarge_month_millionm3_5min_1960_2014/global_historical_riverdischarge_month_millionm3_5min_1960_2014_I149Y1972M06\n",
      "Index 150.00, Processed: 151 Elapsed: 0:26:38.115753 Asset: projects/WRI-Aquaduct/PCRGlobWB20V09/global_historical_riverdischarge_month_millionm3_5min_1960_2014/global_historical_riverdischarge_month_millionm3_5min_1960_2014_I150Y1972M07\n",
      "Index 151.00, Processed: 152 Elapsed: 0:27:42.187177 Asset: projects/WRI-Aquaduct/PCRGlobWB20V09/global_historical_riverdischarge_month_millionm3_5min_1960_2014/global_historical_riverdischarge_month_millionm3_5min_1960_2014_I151Y1972M08\n",
      "Index 152.00, Processed: 153 Elapsed: 0:28:52.837087 Asset: projects/WRI-Aquaduct/PCRGlobWB20V09/global_historical_riverdischarge_month_millionm3_5min_1960_2014/global_historical_riverdischarge_month_millionm3_5min_1960_2014_I152Y1972M09\n",
      "Index 160.00, Processed: 161 Elapsed: 0:30:27.851329 Asset: projects/WRI-Aquaduct/PCRGlobWB20V09/global_historical_riverdischarge_month_millionm3_5min_1960_2014/global_historical_riverdischarge_month_millionm3_5min_1960_2014_I160Y1973M05\n",
      "Index 161.00, Processed: 162 Elapsed: 0:31:42.125118 Asset: projects/WRI-Aquaduct/PCRGlobWB20V09/global_historical_riverdischarge_month_millionm3_5min_1960_2014/global_historical_riverdischarge_month_millionm3_5min_1960_2014_I161Y1973M06\n",
      "Index 162.00, Processed: 163 Elapsed: 0:33:31.876976 Asset: projects/WRI-Aquaduct/PCRGlobWB20V09/global_historical_riverdischarge_month_millionm3_5min_1960_2014/global_historical_riverdischarge_month_millionm3_5min_1960_2014_I162Y1973M07\n",
      "Index 163.00, Processed: 164 Elapsed: 0:34:49.453826 Asset: projects/WRI-Aquaduct/PCRGlobWB20V09/global_historical_riverdischarge_month_millionm3_5min_1960_2014/global_historical_riverdischarge_month_millionm3_5min_1960_2014_I163Y1973M08\n",
      "Index 164.00, Processed: 165 Elapsed: 0:36:32.545800 Asset: projects/WRI-Aquaduct/PCRGlobWB20V09/global_historical_riverdischarge_month_millionm3_5min_1960_2014/global_historical_riverdischarge_month_millionm3_5min_1960_2014_I164Y1973M09\n"
     ]
    },
    {
     "name": "stdout",
     "output_type": "stream",
     "text": [
      "Index 165.00, Processed: 166 Elapsed: 0:37:53.684989 Asset: projects/WRI-Aquaduct/PCRGlobWB20V09/global_historical_riverdischarge_month_millionm3_5min_1960_2014/global_historical_riverdischarge_month_millionm3_5min_1960_2014_I165Y1973M10\n",
      "Index 166.00, Processed: 167 Elapsed: 0:39:44.843181 Asset: projects/WRI-Aquaduct/PCRGlobWB20V09/global_historical_riverdischarge_month_millionm3_5min_1960_2014/global_historical_riverdischarge_month_millionm3_5min_1960_2014_I166Y1973M11\n",
      "Index 167.00, Processed: 168 Elapsed: 0:41:15.539507 Asset: projects/WRI-Aquaduct/PCRGlobWB20V09/global_historical_riverdischarge_month_millionm3_5min_1960_2014/global_historical_riverdischarge_month_millionm3_5min_1960_2014_I167Y1973M12\n",
      "Index 168.00, Processed: 169 Elapsed: 0:42:35.963521 Asset: projects/WRI-Aquaduct/PCRGlobWB20V09/global_historical_riverdischarge_month_millionm3_5min_1960_2014/global_historical_riverdischarge_month_millionm3_5min_1960_2014_I168Y1974M01\n",
      "Index 169.00, Processed: 170 Elapsed: 0:44:07.080673 Asset: projects/WRI-Aquaduct/PCRGlobWB20V09/global_historical_riverdischarge_month_millionm3_5min_1960_2014/global_historical_riverdischarge_month_millionm3_5min_1960_2014_I169Y1974M02\n",
      "Index 170.00, Processed: 171 Elapsed: 0:45:21.689791 Asset: projects/WRI-Aquaduct/PCRGlobWB20V09/global_historical_riverdischarge_month_millionm3_5min_1960_2014/global_historical_riverdischarge_month_millionm3_5min_1960_2014_I170Y1974M03\n",
      "Index 171.00, Processed: 172 Elapsed: 0:47:00.766893 Asset: projects/WRI-Aquaduct/PCRGlobWB20V09/global_historical_riverdischarge_month_millionm3_5min_1960_2014/global_historical_riverdischarge_month_millionm3_5min_1960_2014_I171Y1974M04\n",
      "Index 172.00, Processed: 173 Elapsed: 0:48:12.025004 Asset: projects/WRI-Aquaduct/PCRGlobWB20V09/global_historical_riverdischarge_month_millionm3_5min_1960_2014/global_historical_riverdischarge_month_millionm3_5min_1960_2014_I172Y1974M05\n",
      "Index 173.00, Processed: 174 Elapsed: 0:49:23.703474 Asset: projects/WRI-Aquaduct/PCRGlobWB20V09/global_historical_riverdischarge_month_millionm3_5min_1960_2014/global_historical_riverdischarge_month_millionm3_5min_1960_2014_I173Y1974M06\n",
      "Index 189.00, Processed: 190 Elapsed: 0:50:54.633282 Asset: projects/WRI-Aquaduct/PCRGlobWB20V09/global_historical_riverdischarge_month_millionm3_5min_1960_2014/global_historical_riverdischarge_month_millionm3_5min_1960_2014_I189Y1975M10\n",
      "Index 190.00, Processed: 191 Elapsed: 0:52:24.384299 Asset: projects/WRI-Aquaduct/PCRGlobWB20V09/global_historical_riverdischarge_month_millionm3_5min_1960_2014/global_historical_riverdischarge_month_millionm3_5min_1960_2014_I190Y1975M11\n",
      "Index 191.00, Processed: 192 Elapsed: 0:53:42.241683 Asset: projects/WRI-Aquaduct/PCRGlobWB20V09/global_historical_riverdischarge_month_millionm3_5min_1960_2014/global_historical_riverdischarge_month_millionm3_5min_1960_2014_I191Y1975M12\n",
      "Index 192.00, Processed: 193 Elapsed: 0:55:16.918983 Asset: projects/WRI-Aquaduct/PCRGlobWB20V09/global_historical_riverdischarge_month_millionm3_5min_1960_2014/global_historical_riverdischarge_month_millionm3_5min_1960_2014_I192Y1976M01\n",
      "Index 193.00, Processed: 194 Elapsed: 0:57:28.975658 Asset: projects/WRI-Aquaduct/PCRGlobWB20V09/global_historical_riverdischarge_month_millionm3_5min_1960_2014/global_historical_riverdischarge_month_millionm3_5min_1960_2014_I193Y1976M02\n",
      "Index 194.00, Processed: 195 Elapsed: 0:58:37.919257 Asset: projects/WRI-Aquaduct/PCRGlobWB20V09/global_historical_riverdischarge_month_millionm3_5min_1960_2014/global_historical_riverdischarge_month_millionm3_5min_1960_2014_I194Y1976M03\n",
      "Index 195.00, Processed: 196 Elapsed: 1:00:07.317900 Asset: projects/WRI-Aquaduct/PCRGlobWB20V09/global_historical_riverdischarge_month_millionm3_5min_1960_2014/global_historical_riverdischarge_month_millionm3_5min_1960_2014_I195Y1976M04\n",
      "Index 196.00, Processed: 197 Elapsed: 1:01:54.559715 Asset: projects/WRI-Aquaduct/PCRGlobWB20V09/global_historical_riverdischarge_month_millionm3_5min_1960_2014/global_historical_riverdischarge_month_millionm3_5min_1960_2014_I196Y1976M05\n",
      "Index 197.00, Processed: 198 Elapsed: 1:03:25.150060 Asset: projects/WRI-Aquaduct/PCRGlobWB20V09/global_historical_riverdischarge_month_millionm3_5min_1960_2014/global_historical_riverdischarge_month_millionm3_5min_1960_2014_I197Y1976M06\n",
      "Index 198.00, Processed: 199 Elapsed: 1:04:31.847159 Asset: projects/WRI-Aquaduct/PCRGlobWB20V09/global_historical_riverdischarge_month_millionm3_5min_1960_2014/global_historical_riverdischarge_month_millionm3_5min_1960_2014_I198Y1976M07\n",
      "Index 199.00, Processed: 200 Elapsed: 1:05:46.837096 Asset: projects/WRI-Aquaduct/PCRGlobWB20V09/global_historical_riverdischarge_month_millionm3_5min_1960_2014/global_historical_riverdischarge_month_millionm3_5min_1960_2014_I199Y1976M08\n",
      "Index 200.00, Processed: 201 Elapsed: 1:07:09.986760 Asset: projects/WRI-Aquaduct/PCRGlobWB20V09/global_historical_riverdischarge_month_millionm3_5min_1960_2014/global_historical_riverdischarge_month_millionm3_5min_1960_2014_I200Y1976M09\n",
      "Index 201.00, Processed: 202 Elapsed: 1:08:40.525253 Asset: projects/WRI-Aquaduct/PCRGlobWB20V09/global_historical_riverdischarge_month_millionm3_5min_1960_2014/global_historical_riverdischarge_month_millionm3_5min_1960_2014_I201Y1976M10\n",
      "Index 202.00, Processed: 203 Elapsed: 1:10:27.491943 Asset: projects/WRI-Aquaduct/PCRGlobWB20V09/global_historical_riverdischarge_month_millionm3_5min_1960_2014/global_historical_riverdischarge_month_millionm3_5min_1960_2014_I202Y1976M11\n",
      "Index 203.00, Processed: 204 Elapsed: 1:12:01.775625 Asset: projects/WRI-Aquaduct/PCRGlobWB20V09/global_historical_riverdischarge_month_millionm3_5min_1960_2014/global_historical_riverdischarge_month_millionm3_5min_1960_2014_I203Y1976M12\n",
      "Index 204.00, Processed: 205 Elapsed: 1:12:59.206581 Asset: projects/WRI-Aquaduct/PCRGlobWB20V09/global_historical_riverdischarge_month_millionm3_5min_1960_2014/global_historical_riverdischarge_month_millionm3_5min_1960_2014_I204Y1977M01\n",
      "Index 205.00, Processed: 206 Elapsed: 1:14:14.017442 Asset: projects/WRI-Aquaduct/PCRGlobWB20V09/global_historical_riverdischarge_month_millionm3_5min_1960_2014/global_historical_riverdischarge_month_millionm3_5min_1960_2014_I205Y1977M02\n",
      "Index 206.00, Processed: 207 Elapsed: 1:15:24.576321 Asset: projects/WRI-Aquaduct/PCRGlobWB20V09/global_historical_riverdischarge_month_millionm3_5min_1960_2014/global_historical_riverdischarge_month_millionm3_5min_1960_2014_I206Y1977M03\n",
      "Index 207.00, Processed: 208 Elapsed: 1:16:56.900599 Asset: projects/WRI-Aquaduct/PCRGlobWB20V09/global_historical_riverdischarge_month_millionm3_5min_1960_2014/global_historical_riverdischarge_month_millionm3_5min_1960_2014_I207Y1977M04\n",
      "Index 208.00, Processed: 209 Elapsed: 1:18:17.361151 Asset: projects/WRI-Aquaduct/PCRGlobWB20V09/global_historical_riverdischarge_month_millionm3_5min_1960_2014/global_historical_riverdischarge_month_millionm3_5min_1960_2014_I208Y1977M05\n",
      "Index 209.00, Processed: 210 Elapsed: 1:19:45.289953 Asset: projects/WRI-Aquaduct/PCRGlobWB20V09/global_historical_riverdischarge_month_millionm3_5min_1960_2014/global_historical_riverdischarge_month_millionm3_5min_1960_2014_I209Y1977M06\n",
      "Index 210.00, Processed: 211 Elapsed: 1:21:20.994010 Asset: projects/WRI-Aquaduct/PCRGlobWB20V09/global_historical_riverdischarge_month_millionm3_5min_1960_2014/global_historical_riverdischarge_month_millionm3_5min_1960_2014_I210Y1977M07\n",
      "Index 211.00, Processed: 212 Elapsed: 1:23:09.512512 Asset: projects/WRI-Aquaduct/PCRGlobWB20V09/global_historical_riverdischarge_month_millionm3_5min_1960_2014/global_historical_riverdischarge_month_millionm3_5min_1960_2014_I211Y1977M08\n",
      "Index 212.00, Processed: 213 Elapsed: 1:24:34.179484 Asset: projects/WRI-Aquaduct/PCRGlobWB20V09/global_historical_riverdischarge_month_millionm3_5min_1960_2014/global_historical_riverdischarge_month_millionm3_5min_1960_2014_I212Y1977M09\n",
      "Index 213.00, Processed: 214 Elapsed: 1:26:07.788834 Asset: projects/WRI-Aquaduct/PCRGlobWB20V09/global_historical_riverdischarge_month_millionm3_5min_1960_2014/global_historical_riverdischarge_month_millionm3_5min_1960_2014_I213Y1977M10\n",
      "Index 214.00, Processed: 215 Elapsed: 1:27:22.911046 Asset: projects/WRI-Aquaduct/PCRGlobWB20V09/global_historical_riverdischarge_month_millionm3_5min_1960_2014/global_historical_riverdischarge_month_millionm3_5min_1960_2014_I214Y1977M11\n"
     ]
    },
    {
     "name": "stdout",
     "output_type": "stream",
     "text": [
      "Index 215.00, Processed: 216 Elapsed: 1:28:23.009470 Asset: projects/WRI-Aquaduct/PCRGlobWB20V09/global_historical_riverdischarge_month_millionm3_5min_1960_2014/global_historical_riverdischarge_month_millionm3_5min_1960_2014_I215Y1977M12\n",
      "Index 216.00, Processed: 217 Elapsed: 1:29:45.805292 Asset: projects/WRI-Aquaduct/PCRGlobWB20V09/global_historical_riverdischarge_month_millionm3_5min_1960_2014/global_historical_riverdischarge_month_millionm3_5min_1960_2014_I216Y1978M01\n",
      "Index 217.00, Processed: 218 Elapsed: 1:30:41.345929 Asset: projects/WRI-Aquaduct/PCRGlobWB20V09/global_historical_riverdischarge_month_millionm3_5min_1960_2014/global_historical_riverdischarge_month_millionm3_5min_1960_2014_I217Y1978M02\n",
      "Index 218.00, Processed: 219 Elapsed: 1:32:16.779974 Asset: projects/WRI-Aquaduct/PCRGlobWB20V09/global_historical_riverdischarge_month_millionm3_5min_1960_2014/global_historical_riverdischarge_month_millionm3_5min_1960_2014_I218Y1978M03\n",
      "Index 219.00, Processed: 220 Elapsed: 1:33:58.250332 Asset: projects/WRI-Aquaduct/PCRGlobWB20V09/global_historical_riverdischarge_month_millionm3_5min_1960_2014/global_historical_riverdischarge_month_millionm3_5min_1960_2014_I219Y1978M04\n",
      "Index 220.00, Processed: 221 Elapsed: 1:35:08.906396 Asset: projects/WRI-Aquaduct/PCRGlobWB20V09/global_historical_riverdischarge_month_millionm3_5min_1960_2014/global_historical_riverdischarge_month_millionm3_5min_1960_2014_I220Y1978M05\n",
      "Index 221.00, Processed: 222 Elapsed: 1:37:33.104205 Asset: projects/WRI-Aquaduct/PCRGlobWB20V09/global_historical_riverdischarge_month_millionm3_5min_1960_2014/global_historical_riverdischarge_month_millionm3_5min_1960_2014_I221Y1978M06\n",
      "Index 222.00, Processed: 223 Elapsed: 1:39:05.903823 Asset: projects/WRI-Aquaduct/PCRGlobWB20V09/global_historical_riverdischarge_month_millionm3_5min_1960_2014/global_historical_riverdischarge_month_millionm3_5min_1960_2014_I222Y1978M07\n",
      "Index 223.00, Processed: 224 Elapsed: 1:40:01.694299 Asset: projects/WRI-Aquaduct/PCRGlobWB20V09/global_historical_riverdischarge_month_millionm3_5min_1960_2014/global_historical_riverdischarge_month_millionm3_5min_1960_2014_I223Y1978M08\n",
      "Index 224.00, Processed: 225 Elapsed: 1:42:01.033694 Asset: projects/WRI-Aquaduct/PCRGlobWB20V09/global_historical_riverdischarge_month_millionm3_5min_1960_2014/global_historical_riverdischarge_month_millionm3_5min_1960_2014_I224Y1978M09\n",
      "Index 225.00, Processed: 226 Elapsed: 1:43:44.371942 Asset: projects/WRI-Aquaduct/PCRGlobWB20V09/global_historical_riverdischarge_month_millionm3_5min_1960_2014/global_historical_riverdischarge_month_millionm3_5min_1960_2014_I225Y1978M10\n",
      "Index 226.00, Processed: 227 Elapsed: 1:44:55.630135 Asset: projects/WRI-Aquaduct/PCRGlobWB20V09/global_historical_riverdischarge_month_millionm3_5min_1960_2014/global_historical_riverdischarge_month_millionm3_5min_1960_2014_I226Y1978M11\n",
      "Index 227.00, Processed: 228 Elapsed: 1:46:27.842053 Asset: projects/WRI-Aquaduct/PCRGlobWB20V09/global_historical_riverdischarge_month_millionm3_5min_1960_2014/global_historical_riverdischarge_month_millionm3_5min_1960_2014_I227Y1978M12\n",
      "Index 228.00, Processed: 229 Elapsed: 1:47:50.486509 Asset: projects/WRI-Aquaduct/PCRGlobWB20V09/global_historical_riverdischarge_month_millionm3_5min_1960_2014/global_historical_riverdischarge_month_millionm3_5min_1960_2014_I228Y1979M01\n",
      "Index 229.00, Processed: 230 Elapsed: 1:48:41.383707 Asset: projects/WRI-Aquaduct/PCRGlobWB20V09/global_historical_riverdischarge_month_millionm3_5min_1960_2014/global_historical_riverdischarge_month_millionm3_5min_1960_2014_I229Y1979M02\n",
      "Index 230.00, Processed: 231 Elapsed: 1:49:53.158540 Asset: projects/WRI-Aquaduct/PCRGlobWB20V09/global_historical_riverdischarge_month_millionm3_5min_1960_2014/global_historical_riverdischarge_month_millionm3_5min_1960_2014_I230Y1979M03\n",
      "Index 231.00, Processed: 232 Elapsed: 1:51:11.205947 Asset: projects/WRI-Aquaduct/PCRGlobWB20V09/global_historical_riverdischarge_month_millionm3_5min_1960_2014/global_historical_riverdischarge_month_millionm3_5min_1960_2014_I231Y1979M04\n",
      "Index 232.00, Processed: 233 Elapsed: 1:52:55.527409 Asset: projects/WRI-Aquaduct/PCRGlobWB20V09/global_historical_riverdischarge_month_millionm3_5min_1960_2014/global_historical_riverdischarge_month_millionm3_5min_1960_2014_I232Y1979M05\n",
      "Index 233.00, Processed: 234 Elapsed: 1:54:15.595866 Asset: projects/WRI-Aquaduct/PCRGlobWB20V09/global_historical_riverdischarge_month_millionm3_5min_1960_2014/global_historical_riverdischarge_month_millionm3_5min_1960_2014_I233Y1979M06\n",
      "Index 234.00, Processed: 235 Elapsed: 1:56:06.766420 Asset: projects/WRI-Aquaduct/PCRGlobWB20V09/global_historical_riverdischarge_month_millionm3_5min_1960_2014/global_historical_riverdischarge_month_millionm3_5min_1960_2014_I234Y1979M07\n",
      "Index 235.00, Processed: 236 Elapsed: 1:57:22.002098 Asset: projects/WRI-Aquaduct/PCRGlobWB20V09/global_historical_riverdischarge_month_millionm3_5min_1960_2014/global_historical_riverdischarge_month_millionm3_5min_1960_2014_I235Y1979M08\n",
      "Index 236.00, Processed: 237 Elapsed: 1:58:47.046679 Asset: projects/WRI-Aquaduct/PCRGlobWB20V09/global_historical_riverdischarge_month_millionm3_5min_1960_2014/global_historical_riverdischarge_month_millionm3_5min_1960_2014_I236Y1979M09\n",
      "Index 237.00, Processed: 238 Elapsed: 1:59:43.971897 Asset: projects/WRI-Aquaduct/PCRGlobWB20V09/global_historical_riverdischarge_month_millionm3_5min_1960_2014/global_historical_riverdischarge_month_millionm3_5min_1960_2014_I237Y1979M10\n",
      "Index 238.00, Processed: 239 Elapsed: 2:01:11.578625 Asset: projects/WRI-Aquaduct/PCRGlobWB20V09/global_historical_riverdischarge_month_millionm3_5min_1960_2014/global_historical_riverdischarge_month_millionm3_5min_1960_2014_I238Y1979M11\n",
      "Index 239.00, Processed: 240 Elapsed: 2:02:47.599080 Asset: projects/WRI-Aquaduct/PCRGlobWB20V09/global_historical_riverdischarge_month_millionm3_5min_1960_2014/global_historical_riverdischarge_month_millionm3_5min_1960_2014_I239Y1979M12\n",
      "Index 240.00, Processed: 241 Elapsed: 2:04:27.982949 Asset: projects/WRI-Aquaduct/PCRGlobWB20V09/global_historical_riverdischarge_month_millionm3_5min_1960_2014/global_historical_riverdischarge_month_millionm3_5min_1960_2014_I240Y1980M01\n",
      "Index 241.00, Processed: 242 Elapsed: 2:05:38.171355 Asset: projects/WRI-Aquaduct/PCRGlobWB20V09/global_historical_riverdischarge_month_millionm3_5min_1960_2014/global_historical_riverdischarge_month_millionm3_5min_1960_2014_I241Y1980M02\n",
      "Index 242.00, Processed: 243 Elapsed: 2:07:05.294601 Asset: projects/WRI-Aquaduct/PCRGlobWB20V09/global_historical_riverdischarge_month_millionm3_5min_1960_2014/global_historical_riverdischarge_month_millionm3_5min_1960_2014_I242Y1980M03\n",
      "Index 243.00, Processed: 244 Elapsed: 2:09:03.578488 Asset: projects/WRI-Aquaduct/PCRGlobWB20V09/global_historical_riverdischarge_month_millionm3_5min_1960_2014/global_historical_riverdischarge_month_millionm3_5min_1960_2014_I243Y1980M04\n",
      "Index 244.00, Processed: 245 Elapsed: 2:09:52.155530 Asset: projects/WRI-Aquaduct/PCRGlobWB20V09/global_historical_riverdischarge_month_millionm3_5min_1960_2014/global_historical_riverdischarge_month_millionm3_5min_1960_2014_I244Y1980M05\n",
      "Index 245.00, Processed: 246 Elapsed: 2:11:00.907912 Asset: projects/WRI-Aquaduct/PCRGlobWB20V09/global_historical_riverdischarge_month_millionm3_5min_1960_2014/global_historical_riverdischarge_month_millionm3_5min_1960_2014_I245Y1980M06\n",
      "Index 247.00, Processed: 248 Elapsed: 2:12:37.498400 Asset: projects/WRI-Aquaduct/PCRGlobWB20V09/global_historical_riverdischarge_month_millionm3_5min_1960_2014/global_historical_riverdischarge_month_millionm3_5min_1960_2014_I247Y1980M08\n",
      "Index 248.00, Processed: 249 Elapsed: 2:14:00.396317 Asset: projects/WRI-Aquaduct/PCRGlobWB20V09/global_historical_riverdischarge_month_millionm3_5min_1960_2014/global_historical_riverdischarge_month_millionm3_5min_1960_2014_I248Y1980M09\n",
      "Index 249.00, Processed: 250 Elapsed: 2:15:08.989424 Asset: projects/WRI-Aquaduct/PCRGlobWB20V09/global_historical_riverdischarge_month_millionm3_5min_1960_2014/global_historical_riverdischarge_month_millionm3_5min_1960_2014_I249Y1980M10\n",
      "Index 250.00, Processed: 251 Elapsed: 2:16:18.539795 Asset: projects/WRI-Aquaduct/PCRGlobWB20V09/global_historical_riverdischarge_month_millionm3_5min_1960_2014/global_historical_riverdischarge_month_millionm3_5min_1960_2014_I250Y1980M11\n"
     ]
    },
    {
     "name": "stdout",
     "output_type": "stream",
     "text": [
      "Index 251.00, Processed: 252 Elapsed: 2:17:54.821617 Asset: projects/WRI-Aquaduct/PCRGlobWB20V09/global_historical_riverdischarge_month_millionm3_5min_1960_2014/global_historical_riverdischarge_month_millionm3_5min_1960_2014_I251Y1980M12\n",
      "Index 252.00, Processed: 253 Elapsed: 2:18:07.794835 Asset: projects/WRI-Aquaduct/PCRGlobWB20V09/global_historical_riverdischarge_month_millionm3_5min_1960_2014/global_historical_riverdischarge_month_millionm3_5min_1960_2014_I252Y1981M01\n",
      "Index 253.00, Processed: 254 Elapsed: 2:19:10.154481 Asset: projects/WRI-Aquaduct/PCRGlobWB20V09/global_historical_riverdischarge_month_millionm3_5min_1960_2014/global_historical_riverdischarge_month_millionm3_5min_1960_2014_I253Y1981M02\n",
      "Index 254.00, Processed: 255 Elapsed: 2:19:23.590398 Asset: projects/WRI-Aquaduct/PCRGlobWB20V09/global_historical_riverdischarge_month_millionm3_5min_1960_2014/global_historical_riverdischarge_month_millionm3_5min_1960_2014_I254Y1981M03\n",
      "Index 255.00, Processed: 256 Elapsed: 2:19:34.372937 Asset: projects/WRI-Aquaduct/PCRGlobWB20V09/global_historical_riverdischarge_month_millionm3_5min_1960_2014/global_historical_riverdischarge_month_millionm3_5min_1960_2014_I255Y1981M04\n",
      "Index 256.00, Processed: 257 Elapsed: 2:19:45.523597 Asset: projects/WRI-Aquaduct/PCRGlobWB20V09/global_historical_riverdischarge_month_millionm3_5min_1960_2014/global_historical_riverdischarge_month_millionm3_5min_1960_2014_I256Y1981M05\n",
      "Index 257.00, Processed: 258 Elapsed: 2:19:55.781913 Asset: projects/WRI-Aquaduct/PCRGlobWB20V09/global_historical_riverdischarge_month_millionm3_5min_1960_2014/global_historical_riverdischarge_month_millionm3_5min_1960_2014_I257Y1981M06\n",
      "Index 367.00, Processed: 368 Elapsed: 2:20:07.437698 Asset: projects/WRI-Aquaduct/PCRGlobWB20V09/global_historical_riverdischarge_month_millionm3_5min_1960_2014/global_historical_riverdischarge_month_millionm3_5min_1960_2014_I367Y1990M08\n",
      "Index 368.00, Processed: 369 Elapsed: 2:20:18.663862 Asset: projects/WRI-Aquaduct/PCRGlobWB20V09/global_historical_riverdischarge_month_millionm3_5min_1960_2014/global_historical_riverdischarge_month_millionm3_5min_1960_2014_I368Y1990M09\n",
      "Index 369.00, Processed: 370 Elapsed: 2:21:58.806350 Asset: projects/WRI-Aquaduct/PCRGlobWB20V09/global_historical_riverdischarge_month_millionm3_5min_1960_2014/global_historical_riverdischarge_month_millionm3_5min_1960_2014_I369Y1990M10\n",
      "Index 370.00, Processed: 371 Elapsed: 2:23:05.095731 Asset: projects/WRI-Aquaduct/PCRGlobWB20V09/global_historical_riverdischarge_month_millionm3_5min_1960_2014/global_historical_riverdischarge_month_millionm3_5min_1960_2014_I370Y1990M11\n",
      "Index 371.00, Processed: 372 Elapsed: 2:24:13.967234 Asset: projects/WRI-Aquaduct/PCRGlobWB20V09/global_historical_riverdischarge_month_millionm3_5min_1960_2014/global_historical_riverdischarge_month_millionm3_5min_1960_2014_I371Y1990M12\n",
      "Index 372.00, Processed: 373 Elapsed: 2:25:09.550351 Asset: projects/WRI-Aquaduct/PCRGlobWB20V09/global_historical_riverdischarge_month_millionm3_5min_1960_2014/global_historical_riverdischarge_month_millionm3_5min_1960_2014_I372Y1991M01\n",
      "Index 373.00, Processed: 374 Elapsed: 2:26:20.709239 Asset: projects/WRI-Aquaduct/PCRGlobWB20V09/global_historical_riverdischarge_month_millionm3_5min_1960_2014/global_historical_riverdischarge_month_millionm3_5min_1960_2014_I373Y1991M02\n",
      "Index 374.00, Processed: 375 Elapsed: 2:27:31.147271 Asset: projects/WRI-Aquaduct/PCRGlobWB20V09/global_historical_riverdischarge_month_millionm3_5min_1960_2014/global_historical_riverdischarge_month_millionm3_5min_1960_2014_I374Y1991M03\n",
      "Index 375.00, Processed: 376 Elapsed: 2:28:55.542740 Asset: projects/WRI-Aquaduct/PCRGlobWB20V09/global_historical_riverdischarge_month_millionm3_5min_1960_2014/global_historical_riverdischarge_month_millionm3_5min_1960_2014_I375Y1991M04\n",
      "Index 376.00, Processed: 377 Elapsed: 2:30:03.707802 Asset: projects/WRI-Aquaduct/PCRGlobWB20V09/global_historical_riverdischarge_month_millionm3_5min_1960_2014/global_historical_riverdischarge_month_millionm3_5min_1960_2014_I376Y1991M05\n",
      "Index 377.00, Processed: 378 Elapsed: 2:31:31.034472 Asset: projects/WRI-Aquaduct/PCRGlobWB20V09/global_historical_riverdischarge_month_millionm3_5min_1960_2014/global_historical_riverdischarge_month_millionm3_5min_1960_2014_I377Y1991M06\n",
      "Index 378.00, Processed: 379 Elapsed: 2:33:12.301971 Asset: projects/WRI-Aquaduct/PCRGlobWB20V09/global_historical_riverdischarge_month_millionm3_5min_1960_2014/global_historical_riverdischarge_month_millionm3_5min_1960_2014_I378Y1991M07\n",
      "Index 379.00, Processed: 380 Elapsed: 2:34:25.650273 Asset: projects/WRI-Aquaduct/PCRGlobWB20V09/global_historical_riverdischarge_month_millionm3_5min_1960_2014/global_historical_riverdischarge_month_millionm3_5min_1960_2014_I379Y1991M08\n",
      "Index 380.00, Processed: 381 Elapsed: 2:35:36.624477 Asset: projects/WRI-Aquaduct/PCRGlobWB20V09/global_historical_riverdischarge_month_millionm3_5min_1960_2014/global_historical_riverdischarge_month_millionm3_5min_1960_2014_I380Y1991M09\n",
      "Index 381.00, Processed: 382 Elapsed: 2:36:50.447416 Asset: projects/WRI-Aquaduct/PCRGlobWB20V09/global_historical_riverdischarge_month_millionm3_5min_1960_2014/global_historical_riverdischarge_month_millionm3_5min_1960_2014_I381Y1991M10\n",
      "Index 382.00, Processed: 383 Elapsed: 2:38:32.129143 Asset: projects/WRI-Aquaduct/PCRGlobWB20V09/global_historical_riverdischarge_month_millionm3_5min_1960_2014/global_historical_riverdischarge_month_millionm3_5min_1960_2014_I382Y1991M11\n",
      "Index 383.00, Processed: 384 Elapsed: 2:39:42.395540 Asset: projects/WRI-Aquaduct/PCRGlobWB20V09/global_historical_riverdischarge_month_millionm3_5min_1960_2014/global_historical_riverdischarge_month_millionm3_5min_1960_2014_I383Y1991M12\n",
      "Index 384.00, Processed: 385 Elapsed: 2:41:06.494494 Asset: projects/WRI-Aquaduct/PCRGlobWB20V09/global_historical_riverdischarge_month_millionm3_5min_1960_2014/global_historical_riverdischarge_month_millionm3_5min_1960_2014_I384Y1992M01\n",
      "Index 385.00, Processed: 386 Elapsed: 2:42:14.050205 Asset: projects/WRI-Aquaduct/PCRGlobWB20V09/global_historical_riverdischarge_month_millionm3_5min_1960_2014/global_historical_riverdischarge_month_millionm3_5min_1960_2014_I385Y1992M02\n",
      "Index 386.00, Processed: 387 Elapsed: 2:43:38.591291 Asset: projects/WRI-Aquaduct/PCRGlobWB20V09/global_historical_riverdischarge_month_millionm3_5min_1960_2014/global_historical_riverdischarge_month_millionm3_5min_1960_2014_I386Y1992M03\n",
      "Index 387.00, Processed: 388 Elapsed: 2:44:48.055769 Asset: projects/WRI-Aquaduct/PCRGlobWB20V09/global_historical_riverdischarge_month_millionm3_5min_1960_2014/global_historical_riverdischarge_month_millionm3_5min_1960_2014_I387Y1992M04\n",
      "Index 507.00, Processed: 508 Elapsed: 2:46:36.195360 Asset: projects/WRI-Aquaduct/PCRGlobWB20V09/global_historical_riverdischarge_month_millionm3_5min_1960_2014/global_historical_riverdischarge_month_millionm3_5min_1960_2014_I507Y2002M04\n",
      "Index 508.00, Processed: 509 Elapsed: 2:48:07.815387 Asset: projects/WRI-Aquaduct/PCRGlobWB20V09/global_historical_riverdischarge_month_millionm3_5min_1960_2014/global_historical_riverdischarge_month_millionm3_5min_1960_2014_I508Y2002M05\n",
      "Index 509.00, Processed: 510 Elapsed: 2:49:15.924985 Asset: projects/WRI-Aquaduct/PCRGlobWB20V09/global_historical_riverdischarge_month_millionm3_5min_1960_2014/global_historical_riverdischarge_month_millionm3_5min_1960_2014_I509Y2002M06\n",
      "Index 510.00, Processed: 511 Elapsed: 2:50:44.337645 Asset: projects/WRI-Aquaduct/PCRGlobWB20V09/global_historical_riverdischarge_month_millionm3_5min_1960_2014/global_historical_riverdischarge_month_millionm3_5min_1960_2014_I510Y2002M07\n",
      "Index 511.00, Processed: 512 Elapsed: 2:52:04.901176 Asset: projects/WRI-Aquaduct/PCRGlobWB20V09/global_historical_riverdischarge_month_millionm3_5min_1960_2014/global_historical_riverdischarge_month_millionm3_5min_1960_2014_I511Y2002M08\n",
      "Index 512.00, Processed: 513 Elapsed: 2:53:36.997889 Asset: projects/WRI-Aquaduct/PCRGlobWB20V09/global_historical_riverdischarge_month_millionm3_5min_1960_2014/global_historical_riverdischarge_month_millionm3_5min_1960_2014_I512Y2002M09\n",
      "Index 513.00, Processed: 514 Elapsed: 2:55:01.468047 Asset: projects/WRI-Aquaduct/PCRGlobWB20V09/global_historical_riverdischarge_month_millionm3_5min_1960_2014/global_historical_riverdischarge_month_millionm3_5min_1960_2014_I513Y2002M10\n"
     ]
    },
    {
     "name": "stdout",
     "output_type": "stream",
     "text": [
      "Index 514.00, Processed: 515 Elapsed: 2:56:19.321014 Asset: projects/WRI-Aquaduct/PCRGlobWB20V09/global_historical_riverdischarge_month_millionm3_5min_1960_2014/global_historical_riverdischarge_month_millionm3_5min_1960_2014_I514Y2002M11\n",
      "Index 515.00, Processed: 516 Elapsed: 2:57:49.220531 Asset: projects/WRI-Aquaduct/PCRGlobWB20V09/global_historical_riverdischarge_month_millionm3_5min_1960_2014/global_historical_riverdischarge_month_millionm3_5min_1960_2014_I515Y2002M12\n",
      "Index 516.00, Processed: 517 Elapsed: 2:59:02.472859 Asset: projects/WRI-Aquaduct/PCRGlobWB20V09/global_historical_riverdischarge_month_millionm3_5min_1960_2014/global_historical_riverdischarge_month_millionm3_5min_1960_2014_I516Y2003M01\n",
      "Index 517.00, Processed: 518 Elapsed: 3:00:18.096146 Asset: projects/WRI-Aquaduct/PCRGlobWB20V09/global_historical_riverdischarge_month_millionm3_5min_1960_2014/global_historical_riverdischarge_month_millionm3_5min_1960_2014_I517Y2003M02\n",
      "Index 518.00, Processed: 519 Elapsed: 3:00:56.796144 Asset: projects/WRI-Aquaduct/PCRGlobWB20V09/global_historical_riverdischarge_month_millionm3_5min_1960_2014/global_historical_riverdischarge_month_millionm3_5min_1960_2014_I518Y2003M03\n",
      "Index 519.00, Processed: 520 Elapsed: 3:02:30.565979 Asset: projects/WRI-Aquaduct/PCRGlobWB20V09/global_historical_riverdischarge_month_millionm3_5min_1960_2014/global_historical_riverdischarge_month_millionm3_5min_1960_2014_I519Y2003M04\n",
      "Index 520.00, Processed: 521 Elapsed: 3:02:41.615688 Asset: projects/WRI-Aquaduct/PCRGlobWB20V09/global_historical_riverdischarge_month_millionm3_5min_1960_2014/global_historical_riverdischarge_month_millionm3_5min_1960_2014_I520Y2003M05\n",
      "Index 521.00, Processed: 522 Elapsed: 3:02:52.423582 Asset: projects/WRI-Aquaduct/PCRGlobWB20V09/global_historical_riverdischarge_month_millionm3_5min_1960_2014/global_historical_riverdischarge_month_millionm3_5min_1960_2014_I521Y2003M06\n",
      "Index 522.00, Processed: 523 Elapsed: 3:03:09.291564 Asset: projects/WRI-Aquaduct/PCRGlobWB20V09/global_historical_riverdischarge_month_millionm3_5min_1960_2014/global_historical_riverdischarge_month_millionm3_5min_1960_2014_I522Y2003M07\n",
      "Index 523.00, Processed: 524 Elapsed: 3:03:40.623727 Asset: projects/WRI-Aquaduct/PCRGlobWB20V09/global_historical_riverdischarge_month_millionm3_5min_1960_2014/global_historical_riverdischarge_month_millionm3_5min_1960_2014_I523Y2003M08\n",
      "Index 524.00, Processed: 525 Elapsed: 3:03:53.485369 Asset: projects/WRI-Aquaduct/PCRGlobWB20V09/global_historical_riverdischarge_month_millionm3_5min_1960_2014/global_historical_riverdischarge_month_millionm3_5min_1960_2014_I524Y2003M09\n",
      "Index 525.00, Processed: 526 Elapsed: 3:05:26.555019 Asset: projects/WRI-Aquaduct/PCRGlobWB20V09/global_historical_riverdischarge_month_millionm3_5min_1960_2014/global_historical_riverdischarge_month_millionm3_5min_1960_2014_I525Y2003M10\n"
     ]
    }
   ],
   "source": [
    "i_processed = 0\n",
    "start_time = time.time()\n",
    "\n",
    "\n",
    "for temporal_resolution in temporal_resolutions:\n",
    "    ic_values_input_asset_id = \"{}global_historical_{}_{}_millionm3_5min_1960_2014\".format(EE_INPUT_RIVERDISCHARGE_PATH_ID,indicator,temporal_resolution)\n",
    "    print(ic_values_input_asset_id)\n",
    "    df = aqueduct3.earthengine.get_df_from_ic(ic_values_input_asset_id)\n",
    "    if TESTING:\n",
    "        df = df[0:3]\n",
    "    else:\n",
    "        pass\n",
    "    \n",
    "    for index, row in df.iterrows():\n",
    "        i_processed = i_processed + 1\n",
    "        elapsed_time = time.time() - start_time\n",
    "        i_values_input_asset_id = row[\"input_image_asset_id\"]\n",
    "        # Add an artificial extension to allow the function to run. \n",
    "        # consider updating the split_key function to handle cases without an extension.\n",
    "        i_values_input_asset_id_extenstion = i_values_input_asset_id + \".ee_image\"\n",
    "        dictje = aqueduct3.split_key(i_values_input_asset_id_extenstion,SCHEMA,SEPARATOR)\n",
    "        \n",
    "        output_file_name = \"{}_reduced_{:02.0f}_{}_{}\".format(dictje[\"file_name\"],pfaf_level,spatial_resolution,reducer_name)\n",
    "        output_file_path_pkl = \"{}/{}.pkl\".format(ec2_output_path,output_file_name)\n",
    "        output_file_path_csv = \"{}/{}.csv\".format(ec2_output_path,output_file_name)\n",
    "        \n",
    "        if os.path.isfile(output_file_path_pkl):\n",
    "            message = \"Index {:02.2f}, Skipping: {} Elapsed: {} Asset: {}\".format(float(index),i_processed,str(timedelta(seconds=elapsed_time)),i_values_input_asset_id)\n",
    "            logger.debug(message)\n",
    "        else:\n",
    "            message = \"Index {:02.2f}, Processed: {} Elapsed: {} Asset: {}\".format(float(index),i_processed,str(timedelta(seconds=elapsed_time)),i_values_input_asset_id)\n",
    "            print(message)\n",
    "            logger.debug(message)\n",
    "\n",
    "            i_values = ee.Image(i_values_input_asset_id)\n",
    "            \n",
    "            \n",
    "            result_list = aqueduct3.earthengine.raster_zonal_stats(\n",
    "                                        i_zones = i_maskedzones_30sPfaf06,\n",
    "                                        i_values = i_values,\n",
    "                                        statistic_type = reducer_name,\n",
    "                                        geometry = geometry_server_side,\n",
    "                                        crs_transform = crs_transform,\n",
    "                                        crs=\"EPSG:4326\")\n",
    "            \n",
    "            function_properties = {\"zones_pfaf_level\":pfaf_level,\n",
    "                                   \"zones_spatial_resolution\":spatial_resolution,\n",
    "                                   \"reducer\":reducer_name,\n",
    "                                   \"zones_image_asset_id\":EE_INPUT_ASSET_ID_30SPFAF06ZONES,\n",
    "                                   \"mask_image_asset_id\" :EE_INPUT_ASSET_ID_COMBINEDMASK}\n",
    "\n",
    "            function_properties = {**function_properties, **dictje}\n",
    "            \n",
    "\n",
    "            try:\n",
    "                df = post_process_results(result_list,function_properties)\n",
    "                df.to_pickle(output_file_path_pkl)\n",
    "                if TESTING:\n",
    "                    df.to_csv(output_file_path_csv,encoding='utf-8')\n",
    "            except:\n",
    "                message = \"Index {:02.2f}, Error: {} Elapsed: {} Asset: {}\".format(float(index),i_processed,str(timedelta(seconds=elapsed_time)),i_values_input_asset_id)\n",
    "                time.sleep(10)\n",
    "                logger.debug(message)\n",
    "        "
   ]
  },
  {
   "cell_type": "code",
   "execution_count": null,
   "metadata": {},
   "outputs": [],
   "source": [
    "!aws s3 cp {ec2_output_path} {s3_output_path} --recursive"
   ]
  },
  {
   "cell_type": "code",
   "execution_count": null,
   "metadata": {},
   "outputs": [],
   "source": [
    "end = datetime.datetime.now()\n",
    "elapsed = end - start\n",
    "print(elapsed)"
   ]
  },
  {
   "cell_type": "markdown",
   "metadata": {},
   "source": [
    "Previous runs:  \n",
    "1:16:24.123932\n"
   ]
  },
  {
   "cell_type": "code",
   "execution_count": null,
   "metadata": {
    "collapsed": true
   },
   "outputs": [],
   "source": []
  }
 ],
 "metadata": {
  "kernelspec": {
   "display_name": "Python 35",
   "language": "python",
   "name": "python35"
  },
  "language_info": {
   "codemirror_mode": {
    "name": "ipython",
    "version": 3
   },
   "file_extension": ".py",
   "mimetype": "text/x-python",
   "name": "python",
   "nbconvert_exporter": "python",
   "pygments_lexer": "ipython3",
   "version": "3.5.4"
  }
 },
 "nbformat": 4,
 "nbformat_minor": 2
}
