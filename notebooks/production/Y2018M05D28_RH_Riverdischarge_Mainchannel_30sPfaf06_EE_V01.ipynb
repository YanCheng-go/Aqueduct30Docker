{
 "cells": [
  {
   "cell_type": "code",
   "execution_count": 1,
   "metadata": {},
   "outputs": [
    {
     "name": "stdout",
     "output_type": "stream",
     "text": [
      "Input ee zones: projects/WRI-Aquaduct/Y2018M04D20_RH_Ingest_HydroBasins_GCS_EE_V01/output_V02/hybas_lev06_v1c_merged_fiona_30s_V04\n",
      "Input ee mask: projects/WRI-Aquaduct/Y2018M05D03_RH_Mask_Discharge_Pixels_V01/output_V04/global_riverdischarge_mask_30sPfaf06\n",
      "Input ee riverdischarge month: projects/WRI-Aquaduct/PCRGlobWB20V09/ \n",
      "Output ec2: /volumes/data/Y2018M05D28_RH_Riverdischarge_Mainchannel_30sPfaf06_EE_V01/output_V02 \n",
      "Output s3: s3://wri-projects/Aqueduct30/processData/Y2018M05D28_RH_Riverdischarge_Mainchannel_30sPfaf06_EE_V01/output_V02\n"
     ]
    }
   ],
   "source": [
    "\"\"\" Apply the combined mask and calculate the max discharge per 30spfaf06 zone.\n",
    "-------------------------------------------------------------------------------\n",
    "\n",
    "The combined mask is composed of two components: 1) Subbasins need to be\n",
    "sufficiently large and 2) the number of maximum streamorder cells needs to be\n",
    "sufficient. Thresholds as of 20180528.\n",
    "\n",
    "Area > 1000 cells (30s)\n",
    "Streamorder > 150 cells (30s)\n",
    "\n",
    "The combined mask is applied to the zones and a zonal statistic (max) is \n",
    "calculted with volumetric riverdischarge as input.\n",
    "\n",
    "The output will be stored as table. Options include: \n",
    "1) dataframe on EC2\n",
    "2) CSV file on GCS\n",
    "3) fc on ee\n",
    "\n",
    "depending on performance, we will choose option 1,2 or 3.\n",
    "\n",
    "Author: Rutger Hofste\n",
    "Date: 20180528\n",
    "Kernel: python35\n",
    "Docker: rutgerhofste/gisdocker:ubuntu16.04\n",
    "\n",
    "Args:\n",
    "\n",
    "    TESTING (boolean) : Testing mode. Uses a smaller geography if enabled.\n",
    "    \n",
    "    SCRIPT_NAME (string) : Script name.\n",
    "    EE_INPUT_ZONES_PATH (string) : earthengine input path for zones.\n",
    "    EE_INPUT_VALUES_PATH (string) : earthengine input path for value images.\n",
    "    INPUT_VERSION_ZONES (integer) : input version for zones images.\n",
    "    INPUT_VERSION_VALUES (integer) : input version for value images.\n",
    "    OUTPUT_VERSION (integer) : output version. \n",
    "    EXTRA_PROPERTIES (dictionary) : Extra properties to store in the resulting\n",
    "        pandas dataframe. \n",
    "    \n",
    "\n",
    "Returns:\n",
    "\n",
    "\"\"\"\n",
    "\n",
    "TESTING = 0\n",
    "SCRIPT_NAME = \"Y2018M05D28_RH_Riverdischarge_Mainchannel_30sPfaf06_EE_V01\"\n",
    "OUTPUT_VERSION = 2\n",
    "\n",
    "EE_INPUT_ASSET_ID_30SPFAF06ZONES = \"projects/WRI-Aquaduct/Y2018M04D20_RH_Ingest_HydroBasins_GCS_EE_V01/output_V02/hybas_lev06_v1c_merged_fiona_30s_V04\"\n",
    "EE_INPUT_ASSET_ID_COMBINEDMASK = \"projects/WRI-Aquaduct/Y2018M05D03_RH_Mask_Discharge_Pixels_V01/output_V04/global_riverdischarge_mask_30sPfaf06\"\n",
    "EE_INPUT_RIVERDISCHARGE_PATH_ID = \"projects/WRI-Aquaduct/PCRGlobWB20V09/\"\n",
    "\n",
    "SEPARATOR = \"_|-\"\n",
    "SCHEMA =[\"geographic_range\",\n",
    "         \"temporal_range\",\n",
    "         \"indicator\",\n",
    "         \"temporal_resolution\",\n",
    "         \"unit\",\n",
    "         \"spatial_resolution\",\n",
    "         \"temporal_range_min\",\n",
    "         \"temporal_range_max\"]\n",
    "\n",
    "EXTRA_PROPERTIES = {\"output_version\":OUTPUT_VERSION,\n",
    "                    \"script_used\":SCRIPT_NAME,\n",
    "                   }\n",
    "\n",
    "ec2_output_path = \"/volumes/data/{}/output_V{:02.0f}\".format(SCRIPT_NAME,OUTPUT_VERSION)\n",
    "s3_output_path = \"s3://wri-projects/Aqueduct30/processData/{}/output_V{:02.0f}\".format(SCRIPT_NAME,OUTPUT_VERSION)\n",
    "\n",
    "\n",
    "print(\"Input ee zones: \" +  EE_INPUT_ASSET_ID_30SPFAF06ZONES +\n",
    "      \"\\nInput ee mask: \" + EE_INPUT_ASSET_ID_COMBINEDMASK  +\n",
    "      \"\\nInput ee riverdischarge month: \" + EE_INPUT_RIVERDISCHARGE_PATH_ID,\n",
    "      \"\\nOutput ec2: \" + ec2_output_path,\n",
    "      \"\\nOutput s3: \" + s3_output_path)\n",
    "\n",
    "\n"
   ]
  },
  {
   "cell_type": "code",
   "execution_count": 2,
   "metadata": {},
   "outputs": [
    {
     "name": "stdout",
     "output_type": "stream",
     "text": [
      "Y2018M05D28 UTC 15:08\n"
     ]
    },
    {
     "data": {
      "text/plain": [
       "'3.5.4 |Anaconda, Inc.| (default, Nov 20 2017, 18:44:38) \\n[GCC 7.2.0]'"
      ]
     },
     "execution_count": 2,
     "metadata": {},
     "output_type": "execute_result"
    }
   ],
   "source": [
    "import time, datetime, sys, logging\n",
    "dateString = time.strftime(\"Y%YM%mD%d\")\n",
    "timeString = time.strftime(\"UTC %H:%M\")\n",
    "start = datetime.datetime.now()\n",
    "print(dateString,timeString)\n",
    "sys.version"
   ]
  },
  {
   "cell_type": "code",
   "execution_count": 3,
   "metadata": {
    "collapsed": true
   },
   "outputs": [],
   "source": [
    "logger = logging.getLogger(__name__)\n",
    "logger.setLevel(logging.DEBUG)\n",
    "formatter = logging.Formatter('%(asctime)s:%(levelname)s:%(message)s')\n",
    "file_handler = logging.FileHandler(\"./logs/{}.log\".format(SCRIPT_NAME))\n",
    "file_handler.setFormatter(formatter)\n",
    "logger.addHandler(file_handler)"
   ]
  },
  {
   "cell_type": "code",
   "execution_count": 4,
   "metadata": {
    "collapsed": true
   },
   "outputs": [],
   "source": [
    "# Imports\n",
    "import pandas as pd\n",
    "import numpy as np\n",
    "from datetime import timedelta\n",
    "import os\n",
    "import ee\n",
    "import aqueduct3\n",
    "\n",
    "ee.Initialize()"
   ]
  },
  {
   "cell_type": "code",
   "execution_count": 5,
   "metadata": {},
   "outputs": [],
   "source": [
    "!rm -r {ec2_output_path}\n",
    "!mkdir -p {ec2_output_path}"
   ]
  },
  {
   "cell_type": "code",
   "execution_count": 6,
   "metadata": {
    "collapsed": true
   },
   "outputs": [],
   "source": [
    "def post_process_results(result_list,function_properties,extra_properties=EXTRA_PROPERTIES):\n",
    "    \"\"\"Client side function to convert results of reduceRegion to pandas dataframe.\n",
    "    -------------------------------------------------------------------------------\n",
    "    \n",
    "    Adds additional properties. The script is client side for convenience reasons.\n",
    "    A more robust and fast approach would be to add the extra_properties to the \n",
    "    server side dictionary.\n",
    "    \n",
    "    Args:\n",
    "        result_list (ee.List) : List of dictionaries. Result from reduceRegion\n",
    "        function_properties (dictionary) : Additional properties used in the \n",
    "            reduceRegion function call.\n",
    "        extra_properties (dictionary) : Additional properties set at global level. \n",
    "    \n",
    "    Returns:\n",
    "        df (pd.DataFrame) : Pandas dataframe with extra properties.\n",
    "    \n",
    "    \n",
    "    \"\"\"\n",
    "    extra_properties = {**function_properties, **EXTRA_PROPERTIES}\n",
    "    result_list_clientside = result_list.getInfo()\n",
    "    df = pd.DataFrame(result_list_clientside)\n",
    "    df = df.assign(**extra_properties)\n",
    "    df = df.apply(pd.to_numeric, errors='ignore')\n",
    "    return df  "
   ]
  },
  {
   "cell_type": "code",
   "execution_count": null,
   "metadata": {
    "collapsed": true
   },
   "outputs": [],
   "source": [
    "def post_process_results_server_side(result_list,function_properties,extra_properties=EXTRA_PROPERTIES):\n",
    "    \"\"\" Convert list of dicts to featureCollection, Add properties and export as \n",
    "    CSV\n",
    "    -------------------------------------------------------------------------------\n",
    "    \n",
    "    Args:\n",
    "        result_list (ee.List) : List of dictionaries. Result from reduceRegion\n",
    "        function_properties (dictionary) : Additional properties used in the \n",
    "            reduceRegion function call.\n",
    "        extra_properties (dictionary) : Additional properties set at global level.   \n",
    "        \n",
    "        \n",
    "    TODO: Assess how bad the client side function performs. Convert List to FC, add properties, save as CSV. \n",
    "    \n",
    "    \"\"\"\n",
    "    \n",
    "    \n",
    "    \n",
    "    \n",
    "    \n",
    "    "
   ]
  },
  {
   "cell_type": "code",
   "execution_count": 7,
   "metadata": {
    "collapsed": true
   },
   "outputs": [],
   "source": [
    "i_zones = ee.Image(EE_INPUT_ASSET_ID_30SPFAF06ZONES)\n",
    "i_combined_mask = ee.Image(EE_INPUT_ASSET_ID_COMBINEDMASK)"
   ]
  },
  {
   "cell_type": "code",
   "execution_count": 8,
   "metadata": {
    "collapsed": true
   },
   "outputs": [],
   "source": [
    "temporal_resolutions = [\"month\",\"year\"]\n",
    "spatial_resolution = \"30s\"\n",
    "pfaf_level = 6\n",
    "indicator = \"riverdischarge\"\n",
    "reducer_name = \"max\"\n",
    "\n",
    "if TESTING:\n",
    "    temporal_resolution = [\"month\"]\n"
   ]
  },
  {
   "cell_type": "code",
   "execution_count": 9,
   "metadata": {
    "collapsed": true
   },
   "outputs": [],
   "source": [
    "# Apply mask\n",
    "i_maskedzones_30sPfaf06 = i_zones.mask(i_combined_mask)\n",
    "\n",
    "# Geospatial constants\n",
    "geometry_server_side = aqueduct3.earthengine.get_global_geometry(test=TESTING)\n",
    "geometry_client_side = geometry_server_side.getInfo()['coordinates']\n",
    "\n",
    "crs_transform = aqueduct3.earthengine.get_crs_transform(spatial_resolution)\n"
   ]
  },
  {
   "cell_type": "code",
   "execution_count": null,
   "metadata": {},
   "outputs": [
    {
     "name": "stdout",
     "output_type": "stream",
     "text": [
      "projects/WRI-Aquaduct/PCRGlobWB20V09/global_historical_riverdischarge_month_millionm3_5min_1960_2014\n",
      "Index 0.00, Processed: 1 Elapsed: 0:00:02.071612 Asset: projects/WRI-Aquaduct/PCRGlobWB20V09/global_historical_riverdischarge_month_millionm3_5min_1960_2014/global_historical_riverdischarge_month_millionm3_5min_1960_2014_I000Y1960M01\n",
      "Index 1.00, Processed: 2 Elapsed: 0:00:03.403417 Asset: projects/WRI-Aquaduct/PCRGlobWB20V09/global_historical_riverdischarge_month_millionm3_5min_1960_2014/global_historical_riverdischarge_month_millionm3_5min_1960_2014_I001Y1960M02\n",
      "Index 2.00, Processed: 3 Elapsed: 0:00:04.680990 Asset: projects/WRI-Aquaduct/PCRGlobWB20V09/global_historical_riverdischarge_month_millionm3_5min_1960_2014/global_historical_riverdischarge_month_millionm3_5min_1960_2014_I002Y1960M03\n",
      "Index 3.00, Processed: 4 Elapsed: 0:01:22.606799 Asset: projects/WRI-Aquaduct/PCRGlobWB20V09/global_historical_riverdischarge_month_millionm3_5min_1960_2014/global_historical_riverdischarge_month_millionm3_5min_1960_2014_I003Y1960M04\n",
      "Index 4.00, Processed: 5 Elapsed: 0:02:45.906150 Asset: projects/WRI-Aquaduct/PCRGlobWB20V09/global_historical_riverdischarge_month_millionm3_5min_1960_2014/global_historical_riverdischarge_month_millionm3_5min_1960_2014_I004Y1960M05\n",
      "Index 5.00, Processed: 6 Elapsed: 0:04:28.054473 Asset: projects/WRI-Aquaduct/PCRGlobWB20V09/global_historical_riverdischarge_month_millionm3_5min_1960_2014/global_historical_riverdischarge_month_millionm3_5min_1960_2014_I005Y1960M06\n",
      "Index 6.00, Processed: 7 Elapsed: 0:04:50.346315 Asset: projects/WRI-Aquaduct/PCRGlobWB20V09/global_historical_riverdischarge_month_millionm3_5min_1960_2014/global_historical_riverdischarge_month_millionm3_5min_1960_2014_I006Y1960M07\n",
      "Index 7.00, Processed: 8 Elapsed: 0:05:00.449078 Asset: projects/WRI-Aquaduct/PCRGlobWB20V09/global_historical_riverdischarge_month_millionm3_5min_1960_2014/global_historical_riverdischarge_month_millionm3_5min_1960_2014_I007Y1960M08\n",
      "Index 8.00, Processed: 9 Elapsed: 0:05:13.101071 Asset: projects/WRI-Aquaduct/PCRGlobWB20V09/global_historical_riverdischarge_month_millionm3_5min_1960_2014/global_historical_riverdischarge_month_millionm3_5min_1960_2014_I008Y1960M09\n",
      "Index 9.00, Processed: 10 Elapsed: 0:05:13.826653 Asset: projects/WRI-Aquaduct/PCRGlobWB20V09/global_historical_riverdischarge_month_millionm3_5min_1960_2014/global_historical_riverdischarge_month_millionm3_5min_1960_2014_I009Y1960M10\n",
      "Index 10.00, Processed: 11 Elapsed: 0:05:16.090373 Asset: projects/WRI-Aquaduct/PCRGlobWB20V09/global_historical_riverdischarge_month_millionm3_5min_1960_2014/global_historical_riverdischarge_month_millionm3_5min_1960_2014_I010Y1960M11\n",
      "Index 11.00, Processed: 12 Elapsed: 0:05:16.899597 Asset: projects/WRI-Aquaduct/PCRGlobWB20V09/global_historical_riverdischarge_month_millionm3_5min_1960_2014/global_historical_riverdischarge_month_millionm3_5min_1960_2014_I011Y1960M12\n",
      "Index 12.00, Processed: 13 Elapsed: 0:05:19.318809 Asset: projects/WRI-Aquaduct/PCRGlobWB20V09/global_historical_riverdischarge_month_millionm3_5min_1960_2014/global_historical_riverdischarge_month_millionm3_5min_1960_2014_I012Y1961M01\n",
      "Index 13.00, Processed: 14 Elapsed: 0:05:20.282419 Asset: projects/WRI-Aquaduct/PCRGlobWB20V09/global_historical_riverdischarge_month_millionm3_5min_1960_2014/global_historical_riverdischarge_month_millionm3_5min_1960_2014_I013Y1961M02\n",
      "Index 14.00, Processed: 15 Elapsed: 0:05:24.396804 Asset: projects/WRI-Aquaduct/PCRGlobWB20V09/global_historical_riverdischarge_month_millionm3_5min_1960_2014/global_historical_riverdischarge_month_millionm3_5min_1960_2014_I014Y1961M03\n",
      "Index 15.00, Processed: 16 Elapsed: 0:05:25.183968 Asset: projects/WRI-Aquaduct/PCRGlobWB20V09/global_historical_riverdischarge_month_millionm3_5min_1960_2014/global_historical_riverdischarge_month_millionm3_5min_1960_2014_I015Y1961M04\n",
      "Index 16.00, Processed: 17 Elapsed: 0:05:29.857218 Asset: projects/WRI-Aquaduct/PCRGlobWB20V09/global_historical_riverdischarge_month_millionm3_5min_1960_2014/global_historical_riverdischarge_month_millionm3_5min_1960_2014_I016Y1961M05\n",
      "Index 17.00, Processed: 18 Elapsed: 0:05:34.509696 Asset: projects/WRI-Aquaduct/PCRGlobWB20V09/global_historical_riverdischarge_month_millionm3_5min_1960_2014/global_historical_riverdischarge_month_millionm3_5min_1960_2014_I017Y1961M06\n",
      "Index 18.00, Processed: 19 Elapsed: 0:05:44.580531 Asset: projects/WRI-Aquaduct/PCRGlobWB20V09/global_historical_riverdischarge_month_millionm3_5min_1960_2014/global_historical_riverdischarge_month_millionm3_5min_1960_2014_I018Y1961M07\n",
      "Index 19.00, Processed: 20 Elapsed: 0:05:46.007533 Asset: projects/WRI-Aquaduct/PCRGlobWB20V09/global_historical_riverdischarge_month_millionm3_5min_1960_2014/global_historical_riverdischarge_month_millionm3_5min_1960_2014_I019Y1961M08\n",
      "Index 20.00, Processed: 21 Elapsed: 0:05:46.813718 Asset: projects/WRI-Aquaduct/PCRGlobWB20V09/global_historical_riverdischarge_month_millionm3_5min_1960_2014/global_historical_riverdischarge_month_millionm3_5min_1960_2014_I020Y1961M09\n",
      "Index 21.00, Processed: 22 Elapsed: 0:06:09.192852 Asset: projects/WRI-Aquaduct/PCRGlobWB20V09/global_historical_riverdischarge_month_millionm3_5min_1960_2014/global_historical_riverdischarge_month_millionm3_5min_1960_2014_I021Y1961M10\n",
      "Index 22.00, Processed: 23 Elapsed: 0:06:13.632056 Asset: projects/WRI-Aquaduct/PCRGlobWB20V09/global_historical_riverdischarge_month_millionm3_5min_1960_2014/global_historical_riverdischarge_month_millionm3_5min_1960_2014_I022Y1961M11\n",
      "Index 23.00, Processed: 24 Elapsed: 0:06:22.557990 Asset: projects/WRI-Aquaduct/PCRGlobWB20V09/global_historical_riverdischarge_month_millionm3_5min_1960_2014/global_historical_riverdischarge_month_millionm3_5min_1960_2014_I023Y1961M12\n",
      "Index 24.00, Processed: 25 Elapsed: 0:06:30.402635 Asset: projects/WRI-Aquaduct/PCRGlobWB20V09/global_historical_riverdischarge_month_millionm3_5min_1960_2014/global_historical_riverdischarge_month_millionm3_5min_1960_2014_I024Y1962M01\n",
      "Index 25.00, Processed: 26 Elapsed: 0:06:31.612893 Asset: projects/WRI-Aquaduct/PCRGlobWB20V09/global_historical_riverdischarge_month_millionm3_5min_1960_2014/global_historical_riverdischarge_month_millionm3_5min_1960_2014_I025Y1962M02\n",
      "Index 26.00, Processed: 27 Elapsed: 0:06:39.381418 Asset: projects/WRI-Aquaduct/PCRGlobWB20V09/global_historical_riverdischarge_month_millionm3_5min_1960_2014/global_historical_riverdischarge_month_millionm3_5min_1960_2014_I026Y1962M03\n",
      "Index 27.00, Processed: 28 Elapsed: 0:06:40.939375 Asset: projects/WRI-Aquaduct/PCRGlobWB20V09/global_historical_riverdischarge_month_millionm3_5min_1960_2014/global_historical_riverdischarge_month_millionm3_5min_1960_2014_I027Y1962M04\n",
      "Index 28.00, Processed: 29 Elapsed: 0:06:47.409151 Asset: projects/WRI-Aquaduct/PCRGlobWB20V09/global_historical_riverdischarge_month_millionm3_5min_1960_2014/global_historical_riverdischarge_month_millionm3_5min_1960_2014_I028Y1962M05\n",
      "Index 29.00, Processed: 30 Elapsed: 0:06:49.256318 Asset: projects/WRI-Aquaduct/PCRGlobWB20V09/global_historical_riverdischarge_month_millionm3_5min_1960_2014/global_historical_riverdischarge_month_millionm3_5min_1960_2014_I029Y1962M06\n",
      "Index 30.00, Processed: 31 Elapsed: 0:06:51.132602 Asset: projects/WRI-Aquaduct/PCRGlobWB20V09/global_historical_riverdischarge_month_millionm3_5min_1960_2014/global_historical_riverdischarge_month_millionm3_5min_1960_2014_I030Y1962M07\n",
      "Index 31.00, Processed: 32 Elapsed: 0:06:53.346673 Asset: projects/WRI-Aquaduct/PCRGlobWB20V09/global_historical_riverdischarge_month_millionm3_5min_1960_2014/global_historical_riverdischarge_month_millionm3_5min_1960_2014_I031Y1962M08\n",
      "Index 32.00, Processed: 33 Elapsed: 0:06:55.284904 Asset: projects/WRI-Aquaduct/PCRGlobWB20V09/global_historical_riverdischarge_month_millionm3_5min_1960_2014/global_historical_riverdischarge_month_millionm3_5min_1960_2014_I032Y1962M09\n",
      "Index 33.00, Processed: 34 Elapsed: 0:06:56.849818 Asset: projects/WRI-Aquaduct/PCRGlobWB20V09/global_historical_riverdischarge_month_millionm3_5min_1960_2014/global_historical_riverdischarge_month_millionm3_5min_1960_2014_I033Y1962M10\n",
      "Index 34.00, Processed: 35 Elapsed: 0:06:58.060911 Asset: projects/WRI-Aquaduct/PCRGlobWB20V09/global_historical_riverdischarge_month_millionm3_5min_1960_2014/global_historical_riverdischarge_month_millionm3_5min_1960_2014_I034Y1962M11\n"
     ]
    },
    {
     "name": "stdout",
     "output_type": "stream",
     "text": [
      "Index 35.00, Processed: 36 Elapsed: 0:06:58.773024 Asset: projects/WRI-Aquaduct/PCRGlobWB20V09/global_historical_riverdischarge_month_millionm3_5min_1960_2014/global_historical_riverdischarge_month_millionm3_5min_1960_2014_I035Y1962M12\n",
      "Index 36.00, Processed: 37 Elapsed: 0:07:01.399384 Asset: projects/WRI-Aquaduct/PCRGlobWB20V09/global_historical_riverdischarge_month_millionm3_5min_1960_2014/global_historical_riverdischarge_month_millionm3_5min_1960_2014_I036Y1963M01\n",
      "Index 37.00, Processed: 38 Elapsed: 0:07:03.765462 Asset: projects/WRI-Aquaduct/PCRGlobWB20V09/global_historical_riverdischarge_month_millionm3_5min_1960_2014/global_historical_riverdischarge_month_millionm3_5min_1960_2014_I037Y1963M02\n",
      "Index 38.00, Processed: 39 Elapsed: 0:07:05.898091 Asset: projects/WRI-Aquaduct/PCRGlobWB20V09/global_historical_riverdischarge_month_millionm3_5min_1960_2014/global_historical_riverdischarge_month_millionm3_5min_1960_2014_I038Y1963M03\n",
      "Index 39.00, Processed: 40 Elapsed: 0:07:10.501390 Asset: projects/WRI-Aquaduct/PCRGlobWB20V09/global_historical_riverdischarge_month_millionm3_5min_1960_2014/global_historical_riverdischarge_month_millionm3_5min_1960_2014_I039Y1963M04\n",
      "Index 40.00, Processed: 41 Elapsed: 0:07:16.532799 Asset: projects/WRI-Aquaduct/PCRGlobWB20V09/global_historical_riverdischarge_month_millionm3_5min_1960_2014/global_historical_riverdischarge_month_millionm3_5min_1960_2014_I040Y1963M05\n",
      "Index 41.00, Processed: 42 Elapsed: 0:07:21.388818 Asset: projects/WRI-Aquaduct/PCRGlobWB20V09/global_historical_riverdischarge_month_millionm3_5min_1960_2014/global_historical_riverdischarge_month_millionm3_5min_1960_2014_I041Y1963M06\n",
      "Index 42.00, Processed: 43 Elapsed: 0:07:24.783311 Asset: projects/WRI-Aquaduct/PCRGlobWB20V09/global_historical_riverdischarge_month_millionm3_5min_1960_2014/global_historical_riverdischarge_month_millionm3_5min_1960_2014_I042Y1963M07\n",
      "Index 43.00, Processed: 44 Elapsed: 0:07:29.115330 Asset: projects/WRI-Aquaduct/PCRGlobWB20V09/global_historical_riverdischarge_month_millionm3_5min_1960_2014/global_historical_riverdischarge_month_millionm3_5min_1960_2014_I043Y1963M08\n",
      "Index 44.00, Processed: 45 Elapsed: 0:09:59.443253 Asset: projects/WRI-Aquaduct/PCRGlobWB20V09/global_historical_riverdischarge_month_millionm3_5min_1960_2014/global_historical_riverdischarge_month_millionm3_5min_1960_2014_I044Y1963M09\n",
      "Index 45.00, Processed: 46 Elapsed: 0:12:23.859194 Asset: projects/WRI-Aquaduct/PCRGlobWB20V09/global_historical_riverdischarge_month_millionm3_5min_1960_2014/global_historical_riverdischarge_month_millionm3_5min_1960_2014_I045Y1963M10\n"
     ]
    }
   ],
   "source": [
    "i_processed = 0\n",
    "start_time = time.time()\n",
    "\n",
    "\n",
    "for temporal_resolution in temporal_resolutions:\n",
    "    ic_values_input_asset_id = \"{}global_historical_{}_{}_millionm3_5min_1960_2014\".format(EE_INPUT_RIVERDISCHARGE_PATH_ID,indicator,temporal_resolution)\n",
    "    print(ic_values_input_asset_id)\n",
    "    df = aqueduct3.earthengine.get_df_from_ic(ic_values_input_asset_id)\n",
    "    if TESTING:\n",
    "        df = df[0:3]\n",
    "    else:\n",
    "        pass\n",
    "    \n",
    "    for index, row in df.iterrows():\n",
    "        i_processed = i_processed + 1\n",
    "        elapsed_time = time.time() - start_time\n",
    "        i_values_input_asset_id = row[\"input_image_asset_id\"]\n",
    "        # Add an artificial extension to allow the function to run. \n",
    "        # consider updating the split_key function to handle cases without an extension.\n",
    "        i_values_input_asset_id_extenstion = i_values_input_asset_id + \".ee_image\"\n",
    "        dictje = aqueduct3.split_key(i_values_input_asset_id_extenstion,SCHEMA,SEPARATOR)\n",
    "        \n",
    "        output_file_name = \"{}_reduced_{:02.0f}_{}_{}\".format(dictje[\"file_name\"],pfaf_level,spatial_resolution,reducer_name)\n",
    "        output_file_path_pkl = \"{}/{}.pkl\".format(ec2_output_path,output_file_name)\n",
    "        output_file_path_csv = \"{}/{}.csv\".format(ec2_output_path,output_file_name)\n",
    "        \n",
    "        if os.path.isfile(output_file_path_pkl):\n",
    "            message = \"Index {:02.2f}, Skipping: {} Elapsed: {} Asset: {}\".format(float(index),i_processed,str(timedelta(seconds=elapsed_time)),i_values_input_asset_id)\n",
    "            logger.debug(message)\n",
    "        else:\n",
    "            message = \"Index {:02.2f}, Processed: {} Elapsed: {} Asset: {}\".format(float(index),i_processed,str(timedelta(seconds=elapsed_time)),i_values_input_asset_id)\n",
    "            print(message)\n",
    "            logger.debug(message)\n",
    "\n",
    "            i_values = ee.Image(i_values_input_asset_id)\n",
    "            \n",
    "            \n",
    "            result_list = aqueduct3.earthengine.raster_zonal_stats(\n",
    "                                        i_zones = i_maskedzones_30sPfaf06,\n",
    "                                        i_values = i_values,\n",
    "                                        statistic_type = reducer_name,\n",
    "                                        geometry = geometry_server_side,\n",
    "                                        crs_transform = crs_transform,\n",
    "                                        crs=\"EPSG:4326\")\n",
    "            \n",
    "            function_properties = {\"zones_pfaf_level\":pfaf_level,\n",
    "                                   \"zones_spatial_resolution\":spatial_resolution,\n",
    "                                   \"reducer\":reducer_name,\n",
    "                                   \"zones_image_asset_id\":EE_INPUT_ASSET_ID_30SPFAF06ZONES,\n",
    "                                   \"mask_image_asset_id\" :EE_INPUT_ASSET_ID_COMBINEDMASK}\n",
    "\n",
    "            function_properties = {**function_properties, **dictje}\n",
    "            \n",
    "\n",
    "            try:\n",
    "                df = post_process_results(result_list,function_properties)\n",
    "                df.to_pickle(output_file_path_pkl)\n",
    "                if TESTING:\n",
    "                    df.to_csv(output_file_path_csv,encoding='utf-8')\n",
    "            except:\n",
    "                message = \"Index {:02.2f}, Error: {} Elapsed: {} Asset: {}\".format(float(index),i_processed,str(timedelta(seconds=elapsed_time)),i_values_input_asset_id)\n",
    "                logger.debug(message)\n",
    "        "
   ]
  },
  {
   "cell_type": "code",
   "execution_count": null,
   "metadata": {},
   "outputs": [],
   "source": [
    "!aws s3 cp {ec2_output_path} {s3_output_path} --recursive"
   ]
  },
  {
   "cell_type": "code",
   "execution_count": null,
   "metadata": {},
   "outputs": [],
   "source": [
    "end = datetime.datetime.now()\n",
    "elapsed = end - start\n",
    "print(elapsed)"
   ]
  },
  {
   "cell_type": "markdown",
   "metadata": {},
   "source": [
    "Previous runs:  "
   ]
  }
 ],
 "metadata": {
  "kernelspec": {
   "display_name": "Python 35",
   "language": "python",
   "name": "python35"
  },
  "language_info": {
   "codemirror_mode": {
    "name": "ipython",
    "version": 3
   },
   "file_extension": ".py",
   "mimetype": "text/x-python",
   "name": "python",
   "nbconvert_exporter": "python",
   "pygments_lexer": "ipython3",
   "version": "3.5.4"
  }
 },
 "nbformat": 4,
 "nbformat_minor": 2
}
