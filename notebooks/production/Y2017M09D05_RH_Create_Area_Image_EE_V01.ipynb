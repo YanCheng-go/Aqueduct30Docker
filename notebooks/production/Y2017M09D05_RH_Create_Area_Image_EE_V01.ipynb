{
 "cells": [
  {
   "cell_type": "code",
   "execution_count": 1,
   "metadata": {},
   "outputs": [
    {
     "name": "stdout",
     "output_type": "stream",
     "text": [
      "Input ee: projects/WRI-Aquaduct/PCRGlobWB20_Aux_V02\n",
      "Output ee: projects/WRI-Aquaduct/Y2017M09D05_RH_Create_Area_Image_EE_V01/output_V07\n"
     ]
    }
   ],
   "source": [
    "\"\"\" Create Area and ones Image EE\n",
    "-------------------------------------------------------------------------------\n",
    "create an area image (30s and 5min) in m2 to go from flux to volume and vice \n",
    "versa. Also creates ones images. \n",
    "\n",
    "Author: Rutger Hofste\n",
    "Date: 20170905\n",
    "Kernel: python35\n",
    "Docker: rutgerhofste/gisdocker:ubuntu16.04\n",
    "\n",
    "Args:\n",
    "\n",
    "    SCRIPT_NAME (string) : Script name.\n",
    "    INPUT_VERSION (string) : Input version.\n",
    "    OUTPUT_VERSION (string) : Output version.\n",
    "    DIMENSIONS_5MIN (string) : Dimensions for global 5 arc minute data\n",
    "      in string format: '1234x1234'.\n",
    "    DIMENSIONS_30S (string) : Dimensions for global 30 arc second data\n",
    "      in string format: '1234x1234'.\n",
    "    CRS (string) : Coordinate Reference System in string format using 'EPSG:'.\n",
    "    EXTRA_PROPERTIES (Dictionary) : Extra properties to add to assets. nodata_value,\n",
    "      script used are common properties.\n",
    "\n",
    "Returns:\n",
    "\n",
    "TODO:\n",
    "\n",
    "- remove the need to specify transform if dimension is specified.\n",
    "- remove some unnecessary iteration in dictionary specification.\n",
    "\n",
    "\n",
    "\"\"\"\n",
    "\n",
    "\n",
    "SCRIPT_NAME = \"Y2017M09D05_RH_Create_Area_Image_EE_V01\"\n",
    "INPUT_VERSION = 2\n",
    "OUTPUT_VERSION = 7 \n",
    "\n",
    "X_DIMENSION_5MIN = 4320\n",
    "Y_DIMENSION_5MIN = 2160\n",
    "X_DIMENSION_30S = 43200\n",
    "Y_DIMENSION_30S = 21600\n",
    "CRS = \"EPSG:4326\"\n",
    "\n",
    "\n",
    "EXTRA_PROPERTIES = {\n",
    "\"ingested_by\" : \"RutgerHofste\",\n",
    "\"script_used\": SCRIPT_NAME,\n",
    "\"output_version\":OUTPUT_VERSION   \n",
    "}\n",
    "\n",
    "CRS_TRANSFORM_5MIN = [\n",
    "    0.08333333333333333,\n",
    "    0,\n",
    "    -180,\n",
    "    0,\n",
    "    -0.08333333333333333,\n",
    "    90\n",
    "]\n",
    "\n",
    "CRS_TRANSFORM_30S = [\n",
    "    0.008333333333333333,\n",
    "    0,\n",
    "    -180,\n",
    "    0,\n",
    "    -0.008333333333333333,\n",
    "    90\n",
    "  ]\n",
    "\n",
    "\n",
    "ee_input_path = \"projects/WRI-Aquaduct/PCRGlobWB20_Aux_V{:02.0f}\".format(INPUT_VERSION)\n",
    "ee_output_path = \"projects/WRI-Aquaduct/{}/output_V{:02.0f}\".format(SCRIPT_NAME,OUTPUT_VERSION)\n",
    "\n",
    "print(\"Input ee: \" +  ee_input_path +\n",
    "      \"\\nOutput ee: \" + ee_output_path)\n"
   ]
  },
  {
   "cell_type": "code",
   "execution_count": 2,
   "metadata": {},
   "outputs": [
    {
     "name": "stdout",
     "output_type": "stream",
     "text": [
      "Y2018M05D03 UTC 11:06\n"
     ]
    },
    {
     "data": {
      "text/plain": [
       "'3.5.4 |Anaconda, Inc.| (default, Nov 20 2017, 18:44:38) \\n[GCC 7.2.0]'"
      ]
     },
     "execution_count": 2,
     "metadata": {},
     "output_type": "execute_result"
    }
   ],
   "source": [
    "import time, datetime, sys\n",
    "dateString = time.strftime(\"Y%YM%mD%d\")\n",
    "timeString = time.strftime(\"UTC %H:%M\")\n",
    "start = datetime.datetime.now()\n",
    "print(dateString,timeString)\n",
    "sys.version"
   ]
  },
  {
   "cell_type": "code",
   "execution_count": 3,
   "metadata": {
    "collapsed": true
   },
   "outputs": [],
   "source": [
    "# imports\n",
    "import ee\n",
    "import re\n",
    "import numpy as np\n",
    "import aqueduct3\n",
    "import subprocess\n",
    "\n",
    "ee.Initialize()"
   ]
  },
  {
   "cell_type": "code",
   "execution_count": 4,
   "metadata": {
    "collapsed": true
   },
   "outputs": [],
   "source": [
    "def exportToAsset(ee_output_path,d):\n",
    "    \"\"\" Export image to asset\n",
    "\n",
    "    Args:\n",
    "        ee_path (string) : earth engine folder.\n",
    "        d (dictionary) : dictionary with properties. Required:\n",
    "          'image'  and 'dimensions'\n",
    "    \n",
    "    Returns:\n",
    "        None\n",
    "    \n",
    "    \"\"\"\n",
    "    \n",
    "    \n",
    "    if d[\"spatial_resolution\"] == \"5min\":\n",
    "        crsTransform = CRS_TRANSFORM_5MIN\n",
    "    elif d[\"spatial_resolution\"] == \"30s\":\n",
    "        crsTransform = CRS_TRANSFORM_30S\n",
    "        \n",
    "    image = d[\"image\"]\n",
    "    dimensions = d[\"dimensions\"]\n",
    "    \n",
    "    metadata = d\n",
    "    \n",
    "    del metadata[\"image\"]\n",
    "    del metadata[\"dimensions\"]\n",
    "    \n",
    "    \n",
    "    image = image.set(metadata)    \n",
    "    assetId = ee_output_path + \"/\" + d[\"exportdescription\"] + \"_V{:02.0f}\".format(OUTPUT_VERSION)\n",
    "    \n",
    "    task = ee.batch.Export.image.toAsset(\n",
    "        image =  ee.Image(image),\n",
    "        description = d[\"exportdescription\"] + \"_V{:02.0f}\".format(OUTPUT_VERSION),\n",
    "        assetId = assetId,\n",
    "        dimensions = dimensions,\n",
    "        #region = geometry.bounds().getInfo()['coordinates'][0],\n",
    "        crs = CRS,\n",
    "        crsTransform = crsTransform,\n",
    "        maxPixels = 1e10\n",
    "        )\n",
    "    task.start()\n",
    "    \n",
    "    \n",
    "dimensions_5min = \"{}x{}\".format(X_DIMENSION_5MIN,Y_DIMENSION_5MIN)\n",
    "dimensions_30s = \"{}x{}\".format(X_DIMENSION_30S,Y_DIMENSION_30S)    \n",
    "\n",
    "\n",
    "ones_raster = ee.Image.constant(1)\n",
    "area_raster = ee.Image.pixelArea()"
   ]
  },
  {
   "cell_type": "code",
   "execution_count": 5,
   "metadata": {
    "collapsed": true
   },
   "outputs": [],
   "source": [
    "properties ={}"
   ]
  },
  {
   "cell_type": "code",
   "execution_count": 6,
   "metadata": {
    "collapsed": true
   },
   "outputs": [],
   "source": [
    "properties[\"global_ones_5min\"] = {\"image\":ones_raster,\n",
    "                           \"dimensions\":dimensions_5min,\n",
    "                           \"spatial_resolution\":\"5min\",\n",
    "                           \"ingested_by\":\"RutgerHofste\" ,\n",
    "                           \"exportdescription\": \"global_ones_5min\" ,\n",
    "                           \"unit\": \"dimensionless\" ,\n",
    "                           \"script_used\":SCRIPT_NAME,\n",
    "                           \"spatial_resolution\":\"5min\",\n",
    "                           \"output_version\":OUTPUT_VERSION,\n",
    "                           \"indicator\":\"ones\"\n",
    "                           }\n"
   ]
  },
  {
   "cell_type": "code",
   "execution_count": 7,
   "metadata": {
    "collapsed": true
   },
   "outputs": [],
   "source": [
    "properties[\"global_ones_30s\"] = {\"image\":ones_raster,\n",
    "                          \"dimensions\":dimensions_30s,\n",
    "                          \"spatial_resolution\":\"30s\",\n",
    "                          \"ingested_by\":\"RutgerHofste\",\n",
    "                          \"exportdescription\": \"global_ones_30s\" ,\n",
    "                          \"unit\": \"dimensionless\",\n",
    "                          \"script_used\":SCRIPT_NAME,\n",
    "                          \"spatial_resolution\":\"30s\",\n",
    "                          \"output_version\":OUTPUT_VERSION,\n",
    "                          \"indicator\":\"ones\"\n",
    "                          }"
   ]
  },
  {
   "cell_type": "code",
   "execution_count": 8,
   "metadata": {
    "collapsed": true
   },
   "outputs": [],
   "source": [
    "properties[\"global_area_m2_5min\"] = {\"image\":area_raster,\n",
    "                              \"dimensions\":dimensions_5min,\n",
    "                              \"spatial_resolution\":\"5min\",\n",
    "                              \"ingested_by\":\"RutgerHofste\" ,\n",
    "                              \"exportdescription\": \"global_area_m2_5min\" ,\n",
    "                              \"unit\": \"m2\",\n",
    "                              \"script_used\":SCRIPT_NAME,\n",
    "                              \"spatial_resolution\":\"5min\",\n",
    "                              \"output_version\":OUTPUT_VERSION,\n",
    "                              \"indicator\":\"area\"\n",
    "                             }"
   ]
  },
  {
   "cell_type": "code",
   "execution_count": 9,
   "metadata": {
    "collapsed": true
   },
   "outputs": [],
   "source": [
    "properties[\"global_area_m2_30s\"] = {\"image\":area_raster,\n",
    "                             \"dimensions\":dimensions_30s,\n",
    "                             \"spatial_resolution\":\"30s\",\n",
    "                             \"ingested_by\":\"RutgerHofste\" ,\n",
    "                             \"exportdescription\": \"global_area_m2_30s\" ,\n",
    "                             \"unit\": \"m2\",\n",
    "                             \"script_used\":SCRIPT_NAME,\n",
    "                             \"spatial_resolution\":\"30s\",\n",
    "                             \"output_version\":OUTPUT_VERSION,\n",
    "                             \"indicator\":\"area\"\n",
    "                             }"
   ]
  },
  {
   "cell_type": "code",
   "execution_count": 10,
   "metadata": {},
   "outputs": [
    {
     "name": "stdout",
     "output_type": "stream",
     "text": [
      "earthengine create folder projects/WRI-Aquaduct/Y2017M09D05_RH_Create_Area_Image_EE_V01 b''\n",
      "earthengine create folder projects/WRI-Aquaduct/Y2017M09D05_RH_Create_Area_Image_EE_V01/output_V07 b''\n"
     ]
    }
   ],
   "source": [
    "result = aqueduct3.earthengine.create_ee_folder_recursive(ee_output_path)\n",
    "        "
   ]
  },
  {
   "cell_type": "code",
   "execution_count": 11,
   "metadata": {},
   "outputs": [
    {
     "name": "stdout",
     "output_type": "stream",
     "text": [
      "global_area_m2_30s\n",
      "global_ones_30s\n",
      "global_ones_5min\n",
      "global_area_m2_5min\n"
     ]
    }
   ],
   "source": [
    "for key, value in properties.items():\n",
    "    exportToAsset(ee_output_path,value)\n",
    "    print(key)   "
   ]
  },
  {
   "cell_type": "code",
   "execution_count": 12,
   "metadata": {},
   "outputs": [
    {
     "name": "stdout",
     "output_type": "stream",
     "text": [
      "0:00:13.646075\n"
     ]
    }
   ],
   "source": [
    "end = datetime.datetime.now()\n",
    "elapsed = end - start\n",
    "print(elapsed)"
   ]
  },
  {
   "cell_type": "markdown",
   "metadata": {},
   "source": [
    "Previous Runs:  \n",
    "0:00:08.226092\n",
    "0:00:13.646075"
   ]
  },
  {
   "cell_type": "code",
   "execution_count": null,
   "metadata": {
    "collapsed": true
   },
   "outputs": [],
   "source": []
  }
 ],
 "metadata": {
  "kernelspec": {
   "display_name": "Python 35",
   "language": "python",
   "name": "python35"
  },
  "language_info": {
   "codemirror_mode": {
    "name": "ipython",
    "version": 3
   },
   "file_extension": ".py",
   "mimetype": "text/x-python",
   "name": "python",
   "nbconvert_exporter": "python",
   "pygments_lexer": "ipython3",
   "version": "3.5.4"
  }
 },
 "nbformat": 4,
 "nbformat_minor": 2
}
