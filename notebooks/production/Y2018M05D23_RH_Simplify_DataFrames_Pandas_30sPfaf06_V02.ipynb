{
 "cells": [
  {
   "cell_type": "code",
   "execution_count": 1,
   "metadata": {},
   "outputs": [
    {
     "name": "stdout",
     "output_type": "stream",
     "text": [
      "\n",
      "Input ec2: /volumes/data/Y2018M05D23_RH_Simplify_DataFrames_Pandas_30sPfaf06_V02/input_V03 \n",
      "Input postGIS table area: area_m2_30spfaf06 \n",
      "Input s3 riverdischarge: s3://wri-projects/Aqueduct30/processData/Y2018M05D16_RH_Final_Riverdischarge_30sPfaf06_V01/output_V03 \n",
      "Input s3 demand: s3://wri-projects/Aqueduct30/processData/Y2018M04D22_RH_Zonal_Stats_Demand_EE_V01/output_V01\n"
     ]
    }
   ],
   "source": [
    "\"\"\" Combine and simplify demand and riverdischarge dataframes.\n",
    "-------------------------------------------------------------------------------\n",
    "\n",
    "Combine the area, demand and riverdischarge dataframes and put them in a \n",
    "simplified and cleaned format. A community question has been posted at: \n",
    "https://stackoverflow.com/questions/50486168/is-it-ok-to-split-value-and-parameter-in-database/50488411#50488411\n",
    "\n",
    "Args:\n",
    "    TESTING (Boolean) : Toggle testing case.\n",
    "    SCRIPT_NAME (string) : Script name.\n",
    "    OUTPUT_VERSION (integer) : output version.\n",
    "\n",
    "\"\"\"\n",
    "\n",
    "TESTING = 1\n",
    "OVERWRITE = 0\n",
    "SCRIPT_NAME = \"Y2018M05D23_RH_Simplify_DataFrames_Pandas_30sPfaf06_V02\"\n",
    "OUTPUT_VERSION = 3\n",
    "\n",
    "DATABASE_ENDPOINT = \"aqueduct30v05.cgpnumwmfcqc.eu-central-1.rds.amazonaws.com\"\n",
    "DATABASE_NAME = \"database01\"\n",
    "\n",
    "# Area \n",
    "TABLE_NAME_AREA_30SPFAF06 = \"area_m2_30spfaf06\"\n",
    "\n",
    "# Riverdischarge\n",
    "S3_INPUT_PATH_RIVERDISCHARGE = \"s3://wri-projects/Aqueduct30/processData/Y2018M05D16_RH_Final_Riverdischarge_30sPfaf06_V01/output_V03\"\n",
    "\n",
    "# Demand\n",
    "S3_INPUT_PATH_DEMAND = \"s3://wri-projects/Aqueduct30/processData/Y2018M04D22_RH_Zonal_Stats_Demand_EE_V01/output_V01\"\n",
    "\n",
    "ec2_input_path = \"/volumes/data/{}/input_V{:02.0f}\".format(SCRIPT_NAME,OUTPUT_VERSION)\n",
    "\n",
    "print(\"\\nInput ec2: \" + ec2_input_path,\n",
    "      \"\\nInput postGIS table area: \" + TABLE_NAME_AREA_30SPFAF06 ,\n",
    "      \"\\nInput s3 riverdischarge: \" + S3_INPUT_PATH_RIVERDISCHARGE,\n",
    "      \"\\nInput s3 demand: \" + S3_INPUT_PATH_DEMAND)\n"
   ]
  },
  {
   "cell_type": "code",
   "execution_count": 2,
   "metadata": {},
   "outputs": [
    {
     "name": "stdout",
     "output_type": "stream",
     "text": [
      "Y2018M05D23 UTC 14:58\n"
     ]
    },
    {
     "data": {
      "text/plain": [
       "'3.5.4 |Anaconda, Inc.| (default, Nov 20 2017, 18:44:38) \\n[GCC 7.2.0]'"
      ]
     },
     "execution_count": 2,
     "metadata": {},
     "output_type": "execute_result"
    }
   ],
   "source": [
    "import time, datetime, sys\n",
    "dateString = time.strftime(\"Y%YM%mD%d\")\n",
    "timeString = time.strftime(\"UTC %H:%M\")\n",
    "start = datetime.datetime.now()\n",
    "print(dateString,timeString)\n",
    "sys.version"
   ]
  },
  {
   "cell_type": "code",
   "execution_count": 3,
   "metadata": {},
   "outputs": [],
   "source": [
    "if OVERWRITE:\n",
    "    !rm -r {ec2_input_path}\n",
    "    !mkdir -p {ec2_input_path}\n",
    "    !aws s3 cp {S3_INPUT_PATH_RIVERDISCHARGE} {ec2_input_path} --recursive --exclude=\"*\" --include=\"*.pkl\"\n",
    "    !aws s3 cp {S3_INPUT_PATH_DEMAND} {ec2_input_path} --recursive --exclude=\"*\" --include=\"*.pkl\""
   ]
  },
  {
   "cell_type": "code",
   "execution_count": 4,
   "metadata": {
    "collapsed": true
   },
   "outputs": [],
   "source": [
    "# imports\n",
    "import re\n",
    "import os\n",
    "import numpy as np\n",
    "import pandas as pd\n",
    "import aqueduct3\n",
    "from datetime import timedelta\n",
    "from sqlalchemy import *\n",
    "pd.set_option('display.max_columns', 500)"
   ]
  },
  {
   "cell_type": "code",
   "execution_count": 5,
   "metadata": {
    "collapsed": true
   },
   "outputs": [],
   "source": [
    "def get_area_df():\n",
    "    F = open(\"/.password\",\"r\")\n",
    "    password = F.read().splitlines()[0]\n",
    "    F.close()\n",
    "    \n",
    "    engine = create_engine(\"postgresql://rutgerhofste:{}@{}:5432/{}\".format(password,DATABASE_ENDPOINT,DATABASE_NAME))\n",
    "    connection = engine.connect()\n",
    "\n",
    "    if TESTING:\n",
    "        query = \"SELECT * FROM {} LIMIT 100\".format(TABLE_NAME_AREA_30SPFAF06)\n",
    "    else:\n",
    "        query = \"SELECT * FROM {}\".format(TABLE_NAME_AREA_30SPFAF06)\n",
    "    df_area = pd.read_sql(query,connection)\n",
    "    return df_area\n",
    "\n",
    "def pre_process_area(df):\n",
    "    df_out = df[[\"pfafid_30spfaf06\",\"area_m2_30spfaf06\",\"count\"]]\n",
    "    df_out.rename(columns={\"count\":\"area_count\"},inplace=True)\n",
    "    df_out.set_index(\"pfafid_30spfaf06\",inplace=True)\n",
    "    return df_out"
   ]
  },
  {
   "cell_type": "code",
   "execution_count": 6,
   "metadata": {},
   "outputs": [],
   "source": [
    "df_area = get_area_df()"
   ]
  },
  {
   "cell_type": "code",
   "execution_count": 7,
   "metadata": {},
   "outputs": [
    {
     "name": "stderr",
     "output_type": "stream",
     "text": [
      "/opt/anaconda3/envs/python35/lib/python3.5/site-packages/pandas/core/frame.py:3027: SettingWithCopyWarning: \n",
      "A value is trying to be set on a copy of a slice from a DataFrame\n",
      "\n",
      "See the caveats in the documentation: http://pandas.pydata.org/pandas-docs/stable/indexing.html#indexing-view-versus-copy\n",
      "  return super(DataFrame, self).rename(**kwargs)\n"
     ]
    }
   ],
   "source": [
    "df_area = pre_process_area(df_area)"
   ]
  },
  {
   "cell_type": "code",
   "execution_count": 8,
   "metadata": {},
   "outputs": [
    {
     "data": {
      "text/html": [
       "<div>\n",
       "<style scoped>\n",
       "    .dataframe tbody tr th:only-of-type {\n",
       "        vertical-align: middle;\n",
       "    }\n",
       "\n",
       "    .dataframe tbody tr th {\n",
       "        vertical-align: top;\n",
       "    }\n",
       "\n",
       "    .dataframe thead th {\n",
       "        text-align: right;\n",
       "    }\n",
       "</style>\n",
       "<table border=\"1\" class=\"dataframe\">\n",
       "  <thead>\n",
       "    <tr style=\"text-align: right;\">\n",
       "      <th></th>\n",
       "      <th>area_m2_30spfaf06</th>\n",
       "      <th>area_count</th>\n",
       "    </tr>\n",
       "    <tr>\n",
       "      <th>pfafid_30spfaf06</th>\n",
       "      <th></th>\n",
       "      <th></th>\n",
       "    </tr>\n",
       "  </thead>\n",
       "  <tbody>\n",
       "    <tr>\n",
       "      <th>111011</th>\n",
       "      <td>1.885917e+09</td>\n",
       "      <td>2536</td>\n",
       "    </tr>\n",
       "    <tr>\n",
       "      <th>111012</th>\n",
       "      <td>2.925797e+09</td>\n",
       "      <td>3921</td>\n",
       "    </tr>\n",
       "    <tr>\n",
       "      <th>111013</th>\n",
       "      <td>8.924229e+08</td>\n",
       "      <td>1194</td>\n",
       "    </tr>\n",
       "    <tr>\n",
       "      <th>111014</th>\n",
       "      <td>4.206268e+09</td>\n",
       "      <td>5605</td>\n",
       "    </tr>\n",
       "    <tr>\n",
       "      <th>111015</th>\n",
       "      <td>1.659706e+10</td>\n",
       "      <td>21873</td>\n",
       "    </tr>\n",
       "  </tbody>\n",
       "</table>\n",
       "</div>"
      ],
      "text/plain": [
       "                  area_m2_30spfaf06  area_count\n",
       "pfafid_30spfaf06                               \n",
       "111011                 1.885917e+09        2536\n",
       "111012                 2.925797e+09        3921\n",
       "111013                 8.924229e+08        1194\n",
       "111014                 4.206268e+09        5605\n",
       "111015                 1.659706e+10       21873"
      ]
     },
     "execution_count": 8,
     "metadata": {},
     "output_type": "execute_result"
    }
   ],
   "source": [
    "df_area.head()"
   ]
  },
  {
   "cell_type": "code",
   "execution_count": 9,
   "metadata": {
    "collapsed": true
   },
   "outputs": [],
   "source": [
    "file_names = os.listdir(ec2_input_path)"
   ]
  },
  {
   "cell_type": "code",
   "execution_count": 13,
   "metadata": {
    "collapsed": true
   },
   "outputs": [],
   "source": [
    "temporal_resolution = \"month\"\n",
    "year = 1973\n",
    "month = 3"
   ]
  },
  {
   "cell_type": "code",
   "execution_count": 14,
   "metadata": {},
   "outputs": [],
   "source": [
    "matches_riverdisharge = []\n",
    "matches_demand = []\n",
    "\n",
    "riverdischarge_pattern = \"global_historical_combinedriverdischarge_{}_millionm3_30sPfaf06_1960_2014_I\\d\\d\\dY{:04.0f}M{:02.0f}.pkl\".format(temporal_resolution,year,month)\n",
    "demand_pattern = \"global_historical_P....._{}_m_5min_1960_2014_I\\d\\d\\dY{:04.0f}M{:02.0f}_reduced_06_30s_mean.pkl\".format(temporal_resolution,year,month)\n",
    "\n",
    "for file_name in file_names:\n",
    "    if re.search(riverdischarge_pattern,file_name):\n",
    "        matches_riverdisharge.append(file_name)\n",
    "    elif re.search(demand_pattern,file_name):\n",
    "        matches_demand.append(file_name)\n",
    "        "
   ]
  },
  {
   "cell_type": "code",
   "execution_count": 17,
   "metadata": {},
   "outputs": [
    {
     "data": {
      "text/plain": [
       "['global_historical_combinedriverdischarge_month_millionm3_30sPfaf06_1960_2014_I158Y1973M03.pkl']"
      ]
     },
     "execution_count": 17,
     "metadata": {},
     "output_type": "execute_result"
    }
   ],
   "source": [
    "matches_riverdisharge"
   ]
  },
  {
   "cell_type": "code",
   "execution_count": 16,
   "metadata": {},
   "outputs": [
    {
     "data": {
      "text/plain": [
       "['global_historical_PIrrWN_month_m_5min_1960_2014_I158Y1973M03_reduced_06_30s_mean.pkl',\n",
       " 'global_historical_PIrrWW_month_m_5min_1960_2014_I158Y1973M03_reduced_06_30s_mean.pkl',\n",
       " 'global_historical_PDomWN_month_m_5min_1960_2014_I158Y1973M03_reduced_06_30s_mean.pkl',\n",
       " 'global_historical_PLivWW_month_m_5min_1960_2014_I158Y1973M03_reduced_06_30s_mean.pkl',\n",
       " 'global_historical_PLivWN_month_m_5min_1960_2014_I158Y1973M03_reduced_06_30s_mean.pkl',\n",
       " 'global_historical_PIndWW_month_m_5min_1960_2014_I158Y1973M03_reduced_06_30s_mean.pkl',\n",
       " 'global_historical_PIndWN_month_m_5min_1960_2014_I158Y1973M03_reduced_06_30s_mean.pkl',\n",
       " 'global_historical_PDomWW_month_m_5min_1960_2014_I158Y1973M03_reduced_06_30s_mean.pkl']"
      ]
     },
     "execution_count": 16,
     "metadata": {},
     "output_type": "execute_result"
    }
   ],
   "source": [
    "matches_demand"
   ]
  },
  {
   "cell_type": "code",
   "execution_count": 18,
   "metadata": {
    "collapsed": true
   },
   "outputs": [],
   "source": [
    "df_demand_test_path  = \"{}/{}\".format(ec2_input_path,matches_demand[0])\n",
    "\n",
    "\n"
   ]
  },
  {
   "cell_type": "code",
   "execution_count": 67,
   "metadata": {
    "collapsed": true
   },
   "outputs": [],
   "source": [
    "df_demand_test = pd.read_pickle(df_demand_test_path)"
   ]
  },
  {
   "cell_type": "code",
   "execution_count": 69,
   "metadata": {},
   "outputs": [],
   "source": [
    "def pre_process_demand_df(df):\n",
    "    \"\"\" rename dataframe column and drastically simplify dataframe.\n",
    "    -------------------------------------------------------------------------------\n",
    "    \n",
    "    The column name will be in format: \n",
    "    domww_m_30spfaf06    \n",
    "    {indicator}_{unit}_{spatial_aggregation}\n",
    "    \n",
    "    The temporal resolution is not added to the schema.   \n",
    "        \n",
    "    Args:\n",
    "        df (pd.DataFrame) : input dataframe.\n",
    "    \n",
    "    Returns:\n",
    "        df_out (pd.DataFrame) : \n",
    "    \n",
    "    \"\"\"\n",
    "    \n",
    "    df_in = df.copy()\n",
    "    \n",
    "    indicator = df_in.loc[0][\"indicator\"].lower()\n",
    "    indicator = indicator[1:] # remove p from start\n",
    "    unit = df_in.loc[0][\"unit\"].lower()\n",
    "    zones_spatial_resolution = df_in.loc[0][\"zones_spatial_resolution\"]\n",
    "    zones_pfaf_level = df_in.loc[0][\"zones_pfaf_level\"]    \n",
    "    \n",
    "    new_indicator_name = \"{}_{}_{}pfaf{:02.0f}\".format(indicator,unit,zones_spatial_resolution,zones_pfaf_level)\n",
    "    new_count_name = \"{}_count_{}pfaf{:02.0f}\".format(indicator,zones_spatial_resolution,zones_pfaf_level)\n",
    "    new_zones_name = \"pfafid_{}pfaf{:02.0f}\".format(zones_spatial_resolution,zones_pfaf_level)\n",
    "    \n",
    "    df_out = df_in[[\"zones\",\"count\",\"mean\",\"temporal_resolution\",\"year\",\"month\"]]\n",
    "    df_out.rename(columns={\"mean\":new_indicator_name,\n",
    "                           \"count\":new_count_name,\n",
    "                           \"zones\":new_zones_name},\n",
    "                  inplace=True)\n",
    "    \n",
    "    df_out[new_zones_name] = df_out[new_zones_name].astype(np.int64)\n",
    "    df_out.set_index(new_zones_name,inplace=True)\n",
    "    df_out.sort_index(axis=1, inplace=True)\n",
    "    return df_out"
   ]
  },
  {
   "cell_type": "code",
   "execution_count": 70,
   "metadata": {},
   "outputs": [
    {
     "name": "stderr",
     "output_type": "stream",
     "text": [
      "/opt/anaconda3/envs/python35/lib/python3.5/site-packages/pandas/core/frame.py:3027: SettingWithCopyWarning: \n",
      "A value is trying to be set on a copy of a slice from a DataFrame\n",
      "\n",
      "See the caveats in the documentation: http://pandas.pydata.org/pandas-docs/stable/indexing.html#indexing-view-versus-copy\n",
      "  return super(DataFrame, self).rename(**kwargs)\n",
      "/opt/anaconda3/envs/python35/lib/python3.5/site-packages/ipykernel_launcher.py:37: SettingWithCopyWarning: \n",
      "A value is trying to be set on a copy of a slice from a DataFrame.\n",
      "Try using .loc[row_indexer,col_indexer] = value instead\n",
      "\n",
      "See the caveats in the documentation: http://pandas.pydata.org/pandas-docs/stable/indexing.html#indexing-view-versus-copy\n",
      "/opt/anaconda3/envs/python35/lib/python3.5/site-packages/ipykernel_launcher.py:39: SettingWithCopyWarning: \n",
      "A value is trying to be set on a copy of a slice from a DataFrame\n",
      "\n",
      "See the caveats in the documentation: http://pandas.pydata.org/pandas-docs/stable/indexing.html#indexing-view-versus-copy\n"
     ]
    }
   ],
   "source": [
    "df2 = pre_process_demand_df(df_demand_test)"
   ]
  },
  {
   "cell_type": "code",
   "execution_count": 71,
   "metadata": {},
   "outputs": [
    {
     "data": {
      "text/html": [
       "<div>\n",
       "<style scoped>\n",
       "    .dataframe tbody tr th:only-of-type {\n",
       "        vertical-align: middle;\n",
       "    }\n",
       "\n",
       "    .dataframe tbody tr th {\n",
       "        vertical-align: top;\n",
       "    }\n",
       "\n",
       "    .dataframe thead th {\n",
       "        text-align: right;\n",
       "    }\n",
       "</style>\n",
       "<table border=\"1\" class=\"dataframe\">\n",
       "  <thead>\n",
       "    <tr style=\"text-align: right;\">\n",
       "      <th></th>\n",
       "      <th>irrwn_count_30spfaf06</th>\n",
       "      <th>irrwn_m_30spfaf06</th>\n",
       "      <th>month</th>\n",
       "      <th>temporal_resolution</th>\n",
       "      <th>year</th>\n",
       "    </tr>\n",
       "    <tr>\n",
       "      <th>pfafid_30spfaf06</th>\n",
       "      <th></th>\n",
       "      <th></th>\n",
       "      <th></th>\n",
       "      <th></th>\n",
       "      <th></th>\n",
       "    </tr>\n",
       "  </thead>\n",
       "  <tbody>\n",
       "    <tr>\n",
       "      <th>111011</th>\n",
       "      <td>2536</td>\n",
       "      <td>0.000016</td>\n",
       "      <td>3</td>\n",
       "      <td>month</td>\n",
       "      <td>1973</td>\n",
       "    </tr>\n",
       "    <tr>\n",
       "      <th>111012</th>\n",
       "      <td>3921</td>\n",
       "      <td>0.000000</td>\n",
       "      <td>3</td>\n",
       "      <td>month</td>\n",
       "      <td>1973</td>\n",
       "    </tr>\n",
       "    <tr>\n",
       "      <th>111013</th>\n",
       "      <td>1194</td>\n",
       "      <td>0.000000</td>\n",
       "      <td>3</td>\n",
       "      <td>month</td>\n",
       "      <td>1973</td>\n",
       "    </tr>\n",
       "    <tr>\n",
       "      <th>111014</th>\n",
       "      <td>5605</td>\n",
       "      <td>0.000000</td>\n",
       "      <td>3</td>\n",
       "      <td>month</td>\n",
       "      <td>1973</td>\n",
       "    </tr>\n",
       "    <tr>\n",
       "      <th>111015</th>\n",
       "      <td>21769</td>\n",
       "      <td>0.000000</td>\n",
       "      <td>3</td>\n",
       "      <td>month</td>\n",
       "      <td>1973</td>\n",
       "    </tr>\n",
       "  </tbody>\n",
       "</table>\n",
       "</div>"
      ],
      "text/plain": [
       "                  irrwn_count_30spfaf06  irrwn_m_30spfaf06  month  \\\n",
       "pfafid_30spfaf06                                                    \n",
       "111011                             2536           0.000016      3   \n",
       "111012                             3921           0.000000      3   \n",
       "111013                             1194           0.000000      3   \n",
       "111014                             5605           0.000000      3   \n",
       "111015                            21769           0.000000      3   \n",
       "\n",
       "                 temporal_resolution  year  \n",
       "pfafid_30spfaf06                            \n",
       "111011                         month  1973  \n",
       "111012                         month  1973  \n",
       "111013                         month  1973  \n",
       "111014                         month  1973  \n",
       "111015                         month  1973  "
      ]
     },
     "execution_count": 71,
     "metadata": {},
     "output_type": "execute_result"
    }
   ],
   "source": [
    "df2.head()"
   ]
  },
  {
   "cell_type": "code",
   "execution_count": 46,
   "metadata": {},
   "outputs": [
    {
     "data": {
      "text/html": [
       "<div>\n",
       "<style scoped>\n",
       "    .dataframe tbody tr th:only-of-type {\n",
       "        vertical-align: middle;\n",
       "    }\n",
       "\n",
       "    .dataframe tbody tr th {\n",
       "        vertical-align: top;\n",
       "    }\n",
       "\n",
       "    .dataframe thead th {\n",
       "        text-align: right;\n",
       "    }\n",
       "</style>\n",
       "<table border=\"1\" class=\"dataframe\">\n",
       "  <thead>\n",
       "    <tr style=\"text-align: right;\">\n",
       "      <th></th>\n",
       "      <th>count</th>\n",
       "      <th>mean</th>\n",
       "      <th>zones</th>\n",
       "      <th>extension</th>\n",
       "      <th>file_name</th>\n",
       "      <th>geographic_range</th>\n",
       "      <th>identifier</th>\n",
       "      <th>indicator</th>\n",
       "      <th>month</th>\n",
       "      <th>output_version</th>\n",
       "      <th>parameter</th>\n",
       "      <th>reducer</th>\n",
       "      <th>script_used</th>\n",
       "      <th>spatial_resolution</th>\n",
       "      <th>temporal_range</th>\n",
       "      <th>temporal_range_max</th>\n",
       "      <th>temporal_range_min</th>\n",
       "      <th>temporal_resolution</th>\n",
       "      <th>unit</th>\n",
       "      <th>year</th>\n",
       "      <th>zones_image_asset_id</th>\n",
       "      <th>zones_pfaf_level</th>\n",
       "      <th>zones_spatial_resolution</th>\n",
       "    </tr>\n",
       "  </thead>\n",
       "  <tbody>\n",
       "    <tr>\n",
       "      <th>0</th>\n",
       "      <td>2536</td>\n",
       "      <td>0.000016</td>\n",
       "      <td>111011.0</td>\n",
       "      <td>ee_image</td>\n",
       "      <td>global_historical_PIrrWN_month_m_5min_1960_201...</td>\n",
       "      <td>global</td>\n",
       "      <td>158</td>\n",
       "      <td>PIrrWN</td>\n",
       "      <td>3</td>\n",
       "      <td>1</td>\n",
       "      <td>global_historical_PIrrWN_month_m_5min_1960_2014</td>\n",
       "      <td>mean</td>\n",
       "      <td>Y2018M04D22_RH_Zonal_Stats_Demand_EE_V01</td>\n",
       "      <td>5min</td>\n",
       "      <td>historical</td>\n",
       "      <td>2014</td>\n",
       "      <td>1960</td>\n",
       "      <td>month</td>\n",
       "      <td>m</td>\n",
       "      <td>1973</td>\n",
       "      <td>projects/WRI-Aquaduct/Y2018M04D20_RH_Ingest_Hy...</td>\n",
       "      <td>6</td>\n",
       "      <td>30s</td>\n",
       "    </tr>\n",
       "    <tr>\n",
       "      <th>1</th>\n",
       "      <td>3921</td>\n",
       "      <td>0.000000</td>\n",
       "      <td>111012.0</td>\n",
       "      <td>ee_image</td>\n",
       "      <td>global_historical_PIrrWN_month_m_5min_1960_201...</td>\n",
       "      <td>global</td>\n",
       "      <td>158</td>\n",
       "      <td>PIrrWN</td>\n",
       "      <td>3</td>\n",
       "      <td>1</td>\n",
       "      <td>global_historical_PIrrWN_month_m_5min_1960_2014</td>\n",
       "      <td>mean</td>\n",
       "      <td>Y2018M04D22_RH_Zonal_Stats_Demand_EE_V01</td>\n",
       "      <td>5min</td>\n",
       "      <td>historical</td>\n",
       "      <td>2014</td>\n",
       "      <td>1960</td>\n",
       "      <td>month</td>\n",
       "      <td>m</td>\n",
       "      <td>1973</td>\n",
       "      <td>projects/WRI-Aquaduct/Y2018M04D20_RH_Ingest_Hy...</td>\n",
       "      <td>6</td>\n",
       "      <td>30s</td>\n",
       "    </tr>\n",
       "    <tr>\n",
       "      <th>2</th>\n",
       "      <td>1194</td>\n",
       "      <td>0.000000</td>\n",
       "      <td>111013.0</td>\n",
       "      <td>ee_image</td>\n",
       "      <td>global_historical_PIrrWN_month_m_5min_1960_201...</td>\n",
       "      <td>global</td>\n",
       "      <td>158</td>\n",
       "      <td>PIrrWN</td>\n",
       "      <td>3</td>\n",
       "      <td>1</td>\n",
       "      <td>global_historical_PIrrWN_month_m_5min_1960_2014</td>\n",
       "      <td>mean</td>\n",
       "      <td>Y2018M04D22_RH_Zonal_Stats_Demand_EE_V01</td>\n",
       "      <td>5min</td>\n",
       "      <td>historical</td>\n",
       "      <td>2014</td>\n",
       "      <td>1960</td>\n",
       "      <td>month</td>\n",
       "      <td>m</td>\n",
       "      <td>1973</td>\n",
       "      <td>projects/WRI-Aquaduct/Y2018M04D20_RH_Ingest_Hy...</td>\n",
       "      <td>6</td>\n",
       "      <td>30s</td>\n",
       "    </tr>\n",
       "    <tr>\n",
       "      <th>3</th>\n",
       "      <td>5605</td>\n",
       "      <td>0.000000</td>\n",
       "      <td>111014.0</td>\n",
       "      <td>ee_image</td>\n",
       "      <td>global_historical_PIrrWN_month_m_5min_1960_201...</td>\n",
       "      <td>global</td>\n",
       "      <td>158</td>\n",
       "      <td>PIrrWN</td>\n",
       "      <td>3</td>\n",
       "      <td>1</td>\n",
       "      <td>global_historical_PIrrWN_month_m_5min_1960_2014</td>\n",
       "      <td>mean</td>\n",
       "      <td>Y2018M04D22_RH_Zonal_Stats_Demand_EE_V01</td>\n",
       "      <td>5min</td>\n",
       "      <td>historical</td>\n",
       "      <td>2014</td>\n",
       "      <td>1960</td>\n",
       "      <td>month</td>\n",
       "      <td>m</td>\n",
       "      <td>1973</td>\n",
       "      <td>projects/WRI-Aquaduct/Y2018M04D20_RH_Ingest_Hy...</td>\n",
       "      <td>6</td>\n",
       "      <td>30s</td>\n",
       "    </tr>\n",
       "    <tr>\n",
       "      <th>4</th>\n",
       "      <td>21769</td>\n",
       "      <td>0.000000</td>\n",
       "      <td>111015.0</td>\n",
       "      <td>ee_image</td>\n",
       "      <td>global_historical_PIrrWN_month_m_5min_1960_201...</td>\n",
       "      <td>global</td>\n",
       "      <td>158</td>\n",
       "      <td>PIrrWN</td>\n",
       "      <td>3</td>\n",
       "      <td>1</td>\n",
       "      <td>global_historical_PIrrWN_month_m_5min_1960_2014</td>\n",
       "      <td>mean</td>\n",
       "      <td>Y2018M04D22_RH_Zonal_Stats_Demand_EE_V01</td>\n",
       "      <td>5min</td>\n",
       "      <td>historical</td>\n",
       "      <td>2014</td>\n",
       "      <td>1960</td>\n",
       "      <td>month</td>\n",
       "      <td>m</td>\n",
       "      <td>1973</td>\n",
       "      <td>projects/WRI-Aquaduct/Y2018M04D20_RH_Ingest_Hy...</td>\n",
       "      <td>6</td>\n",
       "      <td>30s</td>\n",
       "    </tr>\n",
       "  </tbody>\n",
       "</table>\n",
       "</div>"
      ],
      "text/plain": [
       "   count      mean     zones extension  \\\n",
       "0   2536  0.000016  111011.0  ee_image   \n",
       "1   3921  0.000000  111012.0  ee_image   \n",
       "2   1194  0.000000  111013.0  ee_image   \n",
       "3   5605  0.000000  111014.0  ee_image   \n",
       "4  21769  0.000000  111015.0  ee_image   \n",
       "\n",
       "                                           file_name geographic_range  \\\n",
       "0  global_historical_PIrrWN_month_m_5min_1960_201...           global   \n",
       "1  global_historical_PIrrWN_month_m_5min_1960_201...           global   \n",
       "2  global_historical_PIrrWN_month_m_5min_1960_201...           global   \n",
       "3  global_historical_PIrrWN_month_m_5min_1960_201...           global   \n",
       "4  global_historical_PIrrWN_month_m_5min_1960_201...           global   \n",
       "\n",
       "   identifier indicator  month  output_version  \\\n",
       "0         158    PIrrWN      3               1   \n",
       "1         158    PIrrWN      3               1   \n",
       "2         158    PIrrWN      3               1   \n",
       "3         158    PIrrWN      3               1   \n",
       "4         158    PIrrWN      3               1   \n",
       "\n",
       "                                         parameter reducer  \\\n",
       "0  global_historical_PIrrWN_month_m_5min_1960_2014    mean   \n",
       "1  global_historical_PIrrWN_month_m_5min_1960_2014    mean   \n",
       "2  global_historical_PIrrWN_month_m_5min_1960_2014    mean   \n",
       "3  global_historical_PIrrWN_month_m_5min_1960_2014    mean   \n",
       "4  global_historical_PIrrWN_month_m_5min_1960_2014    mean   \n",
       "\n",
       "                                script_used spatial_resolution temporal_range  \\\n",
       "0  Y2018M04D22_RH_Zonal_Stats_Demand_EE_V01               5min     historical   \n",
       "1  Y2018M04D22_RH_Zonal_Stats_Demand_EE_V01               5min     historical   \n",
       "2  Y2018M04D22_RH_Zonal_Stats_Demand_EE_V01               5min     historical   \n",
       "3  Y2018M04D22_RH_Zonal_Stats_Demand_EE_V01               5min     historical   \n",
       "4  Y2018M04D22_RH_Zonal_Stats_Demand_EE_V01               5min     historical   \n",
       "\n",
       "   temporal_range_max  temporal_range_min temporal_resolution unit  year  \\\n",
       "0                2014                1960               month    m  1973   \n",
       "1                2014                1960               month    m  1973   \n",
       "2                2014                1960               month    m  1973   \n",
       "3                2014                1960               month    m  1973   \n",
       "4                2014                1960               month    m  1973   \n",
       "\n",
       "                                zones_image_asset_id  zones_pfaf_level  \\\n",
       "0  projects/WRI-Aquaduct/Y2018M04D20_RH_Ingest_Hy...                 6   \n",
       "1  projects/WRI-Aquaduct/Y2018M04D20_RH_Ingest_Hy...                 6   \n",
       "2  projects/WRI-Aquaduct/Y2018M04D20_RH_Ingest_Hy...                 6   \n",
       "3  projects/WRI-Aquaduct/Y2018M04D20_RH_Ingest_Hy...                 6   \n",
       "4  projects/WRI-Aquaduct/Y2018M04D20_RH_Ingest_Hy...                 6   \n",
       "\n",
       "  zones_spatial_resolution  \n",
       "0                      30s  \n",
       "1                      30s  \n",
       "2                      30s  \n",
       "3                      30s  \n",
       "4                      30s  "
      ]
     },
     "execution_count": 46,
     "metadata": {},
     "output_type": "execute_result"
    }
   ],
   "source": [
    "df_demand_test.head()"
   ]
  },
  {
   "cell_type": "code",
   "execution_count": null,
   "metadata": {
    "collapsed": true
   },
   "outputs": [],
   "source": []
  },
  {
   "cell_type": "code",
   "execution_count": null,
   "metadata": {
    "collapsed": true
   },
   "outputs": [],
   "source": []
  },
  {
   "cell_type": "code",
   "execution_count": null,
   "metadata": {
    "collapsed": true
   },
   "outputs": [],
   "source": []
  },
  {
   "cell_type": "code",
   "execution_count": null,
   "metadata": {
    "collapsed": true
   },
   "outputs": [],
   "source": [
    "months = range(1,12+1)\n",
    "years = range(1960,2014+1)\n",
    "temporal_resolutions = [\"year\",\"month\"]\n",
    "\n",
    "if TESTING:\n",
    "    months = [3]\n",
    "    years = [1983]\n",
    "    temporal_resolutions = [\"year\",\"month\"]\n"
   ]
  },
  {
   "cell_type": "code",
   "execution_count": null,
   "metadata": {
    "collapsed": true
   },
   "outputs": [],
   "source": [
    "for temporal_resolution in temporal_resolutions:\n",
    "    for year in years:\n",
    "        for month in months:\n",
    "            riverdischarge_input_filename = \"global_historical_combinedriverdischarge_month_millionm3_30sPfaf06_1960_2014_I003Y1960M04.pkl\"\n",
    "            "
   ]
  },
  {
   "cell_type": "code",
   "execution_count": null,
   "metadata": {
    "collapsed": true
   },
   "outputs": [],
   "source": []
  }
 ],
 "metadata": {
  "kernelspec": {
   "display_name": "Python 35",
   "language": "python",
   "name": "python35"
  },
  "language_info": {
   "codemirror_mode": {
    "name": "ipython",
    "version": 3
   },
   "file_extension": ".py",
   "mimetype": "text/x-python",
   "name": "python",
   "nbconvert_exporter": "python",
   "pygments_lexer": "ipython3",
   "version": "3.5.4"
  }
 },
 "nbformat": 4,
 "nbformat_minor": 2
}
