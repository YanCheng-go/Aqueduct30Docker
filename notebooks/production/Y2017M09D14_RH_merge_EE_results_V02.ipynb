{
 "cells": [
  {
   "cell_type": "markdown",
   "metadata": {},
   "source": [
    "# Merge EE results and store them in a normalized postgresql database\n",
    "\n",
    "* Purpose of script: This script will join the csv tables from GCS into one file using pandas\n",
    "* Author: Rutger Hofste\n",
    "* Kernel used: python35\n",
    "* Date created: 20170914\n",
    "* Data revisited: 20171122 \n",
    "\n",
    "The script requires a file called .password to be stored in the current working directory with the password to the database.\n"
   ]
  },
  {
   "cell_type": "code",
   "execution_count": 1,
   "metadata": {},
   "outputs": [
    {
     "name": "stdout",
     "output_type": "stream",
     "text": [
      "Y2017M11D22 UTC 09:11\n"
     ]
    }
   ],
   "source": [
    "import time, datetime\n",
    "dateString = time.strftime(\"Y%YM%mD%d\")\n",
    "timeString = time.strftime(\"UTC %H:%M\")\n",
    "start = datetime.datetime.now()\n",
    "print(dateString,timeString)"
   ]
  },
  {
   "cell_type": "code",
   "execution_count": 11,
   "metadata": {
    "collapsed": true
   },
   "outputs": [],
   "source": [
    "x = 2"
   ]
  },
  {
   "cell_type": "code",
   "execution_count": 16,
   "metadata": {},
   "outputs": [
    {
     "data": {
      "text/plain": [
       "'02'"
      ]
     },
     "execution_count": 16,
     "metadata": {},
     "output_type": "execute_result"
    }
   ],
   "source": [
    "\"{:02.0f}\".format(x)"
   ]
  },
  {
   "cell_type": "code",
   "execution_count": null,
   "metadata": {
    "collapsed": true
   },
   "outputs": [],
   "source": []
  },
  {
   "cell_type": "code",
   "execution_count": 18,
   "metadata": {
    "collapsed": true
   },
   "outputs": [],
   "source": [
    "GCS_VERSION = 19\n",
    "OUTPUT_VERSION = 17\n",
    "\n",
    "SCRIPT_NAME = \"Y2017M09D14_RH_merge_EE_results_V02\"\n",
    "\n",
    "GCS_INPUT_PATH = \"gs://aqueduct30_v01/Y2017M09D11_RH_zonal_stats_EE_V%0.2d/\" %(GCS_VERSION)\n",
    "EC2_INPUT_PATH = \"/volumes/data/%s/input\" %(SCRIPT_NAME)\n",
    "EC2_OUTPUT_PATH = \"/volumes/data/%s/output\" %(SCRIPT_NAME)\n",
    "S3_OUTPUT_PATH = \"s3://wri-projects/Aqueduct30/processData/%s/output/\" %(SCRIPT_NAME)\n",
    "\n",
    "\n",
    "STRING_TRIM = \"V%0.2dee_export.csv\" %(GCS_VERSION)\n",
    "# e.g. IrrLinearWW_monthY2014M12V15ee_export.csv -> IrrLinearWW_monthY2014M12\n",
    "\n",
    "#Aux files, do not change order i.e. zones, area, extra\n",
    "AUXFILES = [\"Hybas06\",\n",
    "            \"area_30s_m2\",\n",
    "            \"ones_30s\"\n",
    "           ]\n",
    "\n",
    "DROP_COLUMNS = [\".geo\",\"system:index\"]\n",
    "\n",
    "OUTPUTFILENAME = \"mergedZonalStatsEE_V%0.2d\" %(OUTPUT_VERSION)\n",
    "\n",
    "# Database settings\n",
    "DATABASE_IDENTIFIER = \"aqueduct30v01\"\n",
    "DATABASE_NAME = \"database01\"\n",
    "TABLE_NAME = str.lower(SCRIPT_NAME)"
   ]
  },
  {
   "cell_type": "code",
   "execution_count": 3,
   "metadata": {
    "collapsed": true
   },
   "outputs": [],
   "source": [
    "!rm -r {EC2_INPUT_PATH}\n",
    "!rm -r {EC2_OUTPUT_PATH}"
   ]
  },
  {
   "cell_type": "code",
   "execution_count": 4,
   "metadata": {
    "collapsed": true
   },
   "outputs": [],
   "source": [
    "!mkdir -p {EC2_INPUT_PATH}\n",
    "!mkdir -p {EC2_OUTPUT_PATH}"
   ]
  },
  {
   "cell_type": "code",
   "execution_count": 5,
   "metadata": {},
   "outputs": [
    {
     "name": "stdout",
     "output_type": "stream",
     "text": [
      "\n",
      "\n",
      "Updates are available for some Cloud SDK components.  To install them,\n",
      "please run:\n",
      "  $ gcloud components update\n",
      "\n",
      "Copying gs://aqueduct30_v01/Y2017M09D11_RH_zonal_stats_EE_V19/Hybas06V19ee_export.csv...\n",
      "Copying gs://aqueduct30_v01/Y2017M09D11_RH_zonal_stats_EE_V19/IrrLinearWN_monthY2014M01V19ee_export.csv...\n",
      "Copying gs://aqueduct30_v01/Y2017M09D11_RH_zonal_stats_EE_V19/IrrLinearWN_monthY2014M02V19ee_export.csv...\n",
      "Copying gs://aqueduct30_v01/Y2017M09D11_RH_zonal_stats_EE_V19/IrrLinearWN_monthY2014M03V19ee_export.csv...\n",
      "\\ [4 files][  1.9 MiB/  1.9 MiB]                                                \n",
      "==> NOTE: You are performing a sequence of gsutil operations that may\n",
      "run significantly faster if you instead use gsutil -m -o ... Please\n",
      "see the -m section under \"gsutil help options\" for further information\n",
      "about when gsutil -m can be advantageous.\n",
      "\n",
      "Copying gs://aqueduct30_v01/Y2017M09D11_RH_zonal_stats_EE_V19/IrrLinearWN_monthY2014M04V19ee_export.csv...\n",
      "Copying gs://aqueduct30_v01/Y2017M09D11_RH_zonal_stats_EE_V19/IrrLinearWN_monthY2014M05V19ee_export.csv...\n",
      "Copying gs://aqueduct30_v01/Y2017M09D11_RH_zonal_stats_EE_V19/IrrLinearWN_monthY2014M06V19ee_export.csv...\n",
      "Copying gs://aqueduct30_v01/Y2017M09D11_RH_zonal_stats_EE_V19/IrrLinearWN_monthY2014M07V19ee_export.csv...\n",
      "Copying gs://aqueduct30_v01/Y2017M09D11_RH_zonal_stats_EE_V19/IrrLinearWN_monthY2014M08V19ee_export.csv...\n",
      "Copying gs://aqueduct30_v01/Y2017M09D11_RH_zonal_stats_EE_V19/IrrLinearWN_monthY2014M09V19ee_export.csv...\n",
      "Copying gs://aqueduct30_v01/Y2017M09D11_RH_zonal_stats_EE_V19/IrrLinearWN_monthY2014M10V19ee_export.csv...\n",
      "Copying gs://aqueduct30_v01/Y2017M09D11_RH_zonal_stats_EE_V19/IrrLinearWN_monthY2014M11V19ee_export.csv...\n",
      "Copying gs://aqueduct30_v01/Y2017M09D11_RH_zonal_stats_EE_V19/IrrLinearWN_monthY2014M12V19ee_export.csv...\n",
      "Copying gs://aqueduct30_v01/Y2017M09D11_RH_zonal_stats_EE_V19/IrrLinearWN_yearY2014V19ee_export.csv...\n",
      "Copying gs://aqueduct30_v01/Y2017M09D11_RH_zonal_stats_EE_V19/IrrLinearWW_monthY2014M01V19ee_export.csv...\n",
      "Copying gs://aqueduct30_v01/Y2017M09D11_RH_zonal_stats_EE_V19/IrrLinearWW_monthY2014M02V19ee_export.csv...\n",
      "Copying gs://aqueduct30_v01/Y2017M09D11_RH_zonal_stats_EE_V19/IrrLinearWW_monthY2014M03V19ee_export.csv...\n",
      "Copying gs://aqueduct30_v01/Y2017M09D11_RH_zonal_stats_EE_V19/IrrLinearWW_monthY2014M04V19ee_export.csv...\n",
      "Copying gs://aqueduct30_v01/Y2017M09D11_RH_zonal_stats_EE_V19/IrrLinearWW_monthY2014M05V19ee_export.csv...\n",
      "Copying gs://aqueduct30_v01/Y2017M09D11_RH_zonal_stats_EE_V19/IrrLinearWW_monthY2014M06V19ee_export.csv...\n",
      "Copying gs://aqueduct30_v01/Y2017M09D11_RH_zonal_stats_EE_V19/IrrLinearWW_monthY2014M07V19ee_export.csv...\n",
      "Copying gs://aqueduct30_v01/Y2017M09D11_RH_zonal_stats_EE_V19/IrrLinearWW_monthY2014M08V19ee_export.csv...\n",
      "Copying gs://aqueduct30_v01/Y2017M09D11_RH_zonal_stats_EE_V19/IrrLinearWW_monthY2014M09V19ee_export.csv...\n",
      "Copying gs://aqueduct30_v01/Y2017M09D11_RH_zonal_stats_EE_V19/IrrLinearWW_monthY2014M10V19ee_export.csv...\n",
      "Copying gs://aqueduct30_v01/Y2017M09D11_RH_zonal_stats_EE_V19/IrrLinearWW_monthY2014M11V19ee_export.csv...\n",
      "Copying gs://aqueduct30_v01/Y2017M09D11_RH_zonal_stats_EE_V19/IrrLinearWW_monthY2014M12V19ee_export.csv...\n",
      "Copying gs://aqueduct30_v01/Y2017M09D11_RH_zonal_stats_EE_V19/IrrLinearWW_yearY2014V19ee_export.csv...\n",
      "Copying gs://aqueduct30_v01/Y2017M09D11_RH_zonal_stats_EE_V19/PDomWN_monthY2014M01V19ee_export.csv...\n",
      "Copying gs://aqueduct30_v01/Y2017M09D11_RH_zonal_stats_EE_V19/PDomWN_monthY2014M02V19ee_export.csv...\n",
      "Copying gs://aqueduct30_v01/Y2017M09D11_RH_zonal_stats_EE_V19/PDomWN_monthY2014M03V19ee_export.csv...\n",
      "Copying gs://aqueduct30_v01/Y2017M09D11_RH_zonal_stats_EE_V19/PDomWN_monthY2014M04V19ee_export.csv...\n",
      "Copying gs://aqueduct30_v01/Y2017M09D11_RH_zonal_stats_EE_V19/PDomWN_monthY2014M05V19ee_export.csv...\n",
      "Copying gs://aqueduct30_v01/Y2017M09D11_RH_zonal_stats_EE_V19/PDomWN_monthY2014M06V19ee_export.csv...\n",
      "Copying gs://aqueduct30_v01/Y2017M09D11_RH_zonal_stats_EE_V19/PDomWN_monthY2014M07V19ee_export.csv...\n",
      "Copying gs://aqueduct30_v01/Y2017M09D11_RH_zonal_stats_EE_V19/PDomWN_monthY2014M08V19ee_export.csv...\n",
      "Copying gs://aqueduct30_v01/Y2017M09D11_RH_zonal_stats_EE_V19/PDomWN_monthY2014M09V19ee_export.csv...\n",
      "Copying gs://aqueduct30_v01/Y2017M09D11_RH_zonal_stats_EE_V19/PDomWN_monthY2014M10V19ee_export.csv...\n",
      "Copying gs://aqueduct30_v01/Y2017M09D11_RH_zonal_stats_EE_V19/PDomWN_monthY2014M11V19ee_export.csv...\n",
      "Copying gs://aqueduct30_v01/Y2017M09D11_RH_zonal_stats_EE_V19/PDomWN_monthY2014M12V19ee_export.csv...\n",
      "Copying gs://aqueduct30_v01/Y2017M09D11_RH_zonal_stats_EE_V19/PDomWN_yearY2014M12V19ee_export.csv...\n",
      "Copying gs://aqueduct30_v01/Y2017M09D11_RH_zonal_stats_EE_V19/PDomWW_monthY2014M01V19ee_export.csv...\n",
      "Copying gs://aqueduct30_v01/Y2017M09D11_RH_zonal_stats_EE_V19/PDomWW_monthY2014M02V19ee_export.csv...\n",
      "Copying gs://aqueduct30_v01/Y2017M09D11_RH_zonal_stats_EE_V19/PDomWW_monthY2014M03V19ee_export.csv...\n",
      "Copying gs://aqueduct30_v01/Y2017M09D11_RH_zonal_stats_EE_V19/PDomWW_monthY2014M04V19ee_export.csv...\n",
      "Copying gs://aqueduct30_v01/Y2017M09D11_RH_zonal_stats_EE_V19/PDomWW_monthY2014M05V19ee_export.csv...\n",
      "Copying gs://aqueduct30_v01/Y2017M09D11_RH_zonal_stats_EE_V19/PDomWW_monthY2014M06V19ee_export.csv...\n",
      "Copying gs://aqueduct30_v01/Y2017M09D11_RH_zonal_stats_EE_V19/PDomWW_monthY2014M07V19ee_export.csv...\n",
      "Copying gs://aqueduct30_v01/Y2017M09D11_RH_zonal_stats_EE_V19/PDomWW_monthY2014M08V19ee_export.csv...\n",
      "Copying gs://aqueduct30_v01/Y2017M09D11_RH_zonal_stats_EE_V19/PDomWW_monthY2014M09V19ee_export.csv...\n",
      "Copying gs://aqueduct30_v01/Y2017M09D11_RH_zonal_stats_EE_V19/PDomWW_monthY2014M10V19ee_export.csv...\n",
      "Copying gs://aqueduct30_v01/Y2017M09D11_RH_zonal_stats_EE_V19/PDomWW_monthY2014M11V19ee_export.csv...\n",
      "Copying gs://aqueduct30_v01/Y2017M09D11_RH_zonal_stats_EE_V19/PDomWW_monthY2014M12V19ee_export.csv...\n",
      "Copying gs://aqueduct30_v01/Y2017M09D11_RH_zonal_stats_EE_V19/PDomWW_yearY2014M12V19ee_export.csv...\n",
      "Copying gs://aqueduct30_v01/Y2017M09D11_RH_zonal_stats_EE_V19/PIndWN_monthY2014M01V19ee_export.csv...\n",
      "Copying gs://aqueduct30_v01/Y2017M09D11_RH_zonal_stats_EE_V19/PIndWN_monthY2014M02V19ee_export.csv...\n",
      "Copying gs://aqueduct30_v01/Y2017M09D11_RH_zonal_stats_EE_V19/PIndWN_monthY2014M03V19ee_export.csv...\n",
      "Copying gs://aqueduct30_v01/Y2017M09D11_RH_zonal_stats_EE_V19/PIndWN_monthY2014M04V19ee_export.csv...\n",
      "Copying gs://aqueduct30_v01/Y2017M09D11_RH_zonal_stats_EE_V19/PIndWN_monthY2014M05V19ee_export.csv...\n",
      "Copying gs://aqueduct30_v01/Y2017M09D11_RH_zonal_stats_EE_V19/PIndWN_monthY2014M06V19ee_export.csv...\n",
      "Copying gs://aqueduct30_v01/Y2017M09D11_RH_zonal_stats_EE_V19/PIndWN_monthY2014M07V19ee_export.csv...\n",
      "Copying gs://aqueduct30_v01/Y2017M09D11_RH_zonal_stats_EE_V19/PIndWN_monthY2014M08V19ee_export.csv...\n",
      "Copying gs://aqueduct30_v01/Y2017M09D11_RH_zonal_stats_EE_V19/PIndWN_monthY2014M09V19ee_export.csv...\n",
      "Copying gs://aqueduct30_v01/Y2017M09D11_RH_zonal_stats_EE_V19/PIndWN_monthY2014M10V19ee_export.csv...\n",
      "Copying gs://aqueduct30_v01/Y2017M09D11_RH_zonal_stats_EE_V19/PIndWN_monthY2014M11V19ee_export.csv...\n",
      "Copying gs://aqueduct30_v01/Y2017M09D11_RH_zonal_stats_EE_V19/PIndWN_monthY2014M12V19ee_export.csv...\n",
      "Copying gs://aqueduct30_v01/Y2017M09D11_RH_zonal_stats_EE_V19/PIndWN_yearY2014M12V19ee_export.csv...\n",
      "Copying gs://aqueduct30_v01/Y2017M09D11_RH_zonal_stats_EE_V19/PIndWW_monthY2014M01V19ee_export.csv...\n",
      "Copying gs://aqueduct30_v01/Y2017M09D11_RH_zonal_stats_EE_V19/PIndWW_monthY2014M02V19ee_export.csv...\n",
      "Copying gs://aqueduct30_v01/Y2017M09D11_RH_zonal_stats_EE_V19/PIndWW_monthY2014M03V19ee_export.csv...\n",
      "Copying gs://aqueduct30_v01/Y2017M09D11_RH_zonal_stats_EE_V19/PIndWW_monthY2014M04V19ee_export.csv...\n",
      "Copying gs://aqueduct30_v01/Y2017M09D11_RH_zonal_stats_EE_V19/PIndWW_monthY2014M05V19ee_export.csv...\n",
      "Copying gs://aqueduct30_v01/Y2017M09D11_RH_zonal_stats_EE_V19/PIndWW_monthY2014M06V19ee_export.csv...\n",
      "Copying gs://aqueduct30_v01/Y2017M09D11_RH_zonal_stats_EE_V19/PIndWW_monthY2014M07V19ee_export.csv...\n",
      "Copying gs://aqueduct30_v01/Y2017M09D11_RH_zonal_stats_EE_V19/PIndWW_monthY2014M08V19ee_export.csv...\n",
      "Copying gs://aqueduct30_v01/Y2017M09D11_RH_zonal_stats_EE_V19/PIndWW_monthY2014M09V19ee_export.csv...\n"
     ]
    },
    {
     "name": "stdout",
     "output_type": "stream",
     "text": [
      "Copying gs://aqueduct30_v01/Y2017M09D11_RH_zonal_stats_EE_V19/PIndWW_monthY2014M10V19ee_export.csv...\n",
      "Copying gs://aqueduct30_v01/Y2017M09D11_RH_zonal_stats_EE_V19/PIndWW_monthY2014M11V19ee_export.csv...\n",
      "Copying gs://aqueduct30_v01/Y2017M09D11_RH_zonal_stats_EE_V19/PIndWW_monthY2014M12V19ee_export.csv...\n",
      "Copying gs://aqueduct30_v01/Y2017M09D11_RH_zonal_stats_EE_V19/PIndWW_yearY2014M12V19ee_export.csv...\n",
      "Copying gs://aqueduct30_v01/Y2017M09D11_RH_zonal_stats_EE_V19/PIrrWN_monthY2014M01V19ee_export.csv...\n",
      "Copying gs://aqueduct30_v01/Y2017M09D11_RH_zonal_stats_EE_V19/PIrrWN_monthY2014M02V19ee_export.csv...\n",
      "Copying gs://aqueduct30_v01/Y2017M09D11_RH_zonal_stats_EE_V19/PIrrWN_monthY2014M03V19ee_export.csv...\n",
      "Copying gs://aqueduct30_v01/Y2017M09D11_RH_zonal_stats_EE_V19/PIrrWN_monthY2014M04V19ee_export.csv...\n",
      "Copying gs://aqueduct30_v01/Y2017M09D11_RH_zonal_stats_EE_V19/PIrrWN_monthY2014M05V19ee_export.csv...\n",
      "Copying gs://aqueduct30_v01/Y2017M09D11_RH_zonal_stats_EE_V19/PIrrWN_monthY2014M06V19ee_export.csv...\n",
      "Copying gs://aqueduct30_v01/Y2017M09D11_RH_zonal_stats_EE_V19/PIrrWN_monthY2014M07V19ee_export.csv...\n",
      "Copying gs://aqueduct30_v01/Y2017M09D11_RH_zonal_stats_EE_V19/PIrrWN_monthY2014M08V19ee_export.csv...\n",
      "Copying gs://aqueduct30_v01/Y2017M09D11_RH_zonal_stats_EE_V19/PIrrWN_monthY2014M09V19ee_export.csv...\n",
      "Copying gs://aqueduct30_v01/Y2017M09D11_RH_zonal_stats_EE_V19/PIrrWN_monthY2014M10V19ee_export.csv...\n",
      "Copying gs://aqueduct30_v01/Y2017M09D11_RH_zonal_stats_EE_V19/PIrrWN_monthY2014M11V19ee_export.csv...\n",
      "Copying gs://aqueduct30_v01/Y2017M09D11_RH_zonal_stats_EE_V19/PIrrWN_monthY2014M12V19ee_export.csv...\n",
      "Copying gs://aqueduct30_v01/Y2017M09D11_RH_zonal_stats_EE_V19/PIrrWN_yearY2014M12V19ee_export.csv...\n",
      "Copying gs://aqueduct30_v01/Y2017M09D11_RH_zonal_stats_EE_V19/PIrrWW_monthY2014M01V19ee_export.csv...\n",
      "Copying gs://aqueduct30_v01/Y2017M09D11_RH_zonal_stats_EE_V19/PIrrWW_monthY2014M02V19ee_export.csv...\n",
      "Copying gs://aqueduct30_v01/Y2017M09D11_RH_zonal_stats_EE_V19/PIrrWW_monthY2014M03V19ee_export.csv...\n",
      "Copying gs://aqueduct30_v01/Y2017M09D11_RH_zonal_stats_EE_V19/PIrrWW_monthY2014M04V19ee_export.csv...\n",
      "Copying gs://aqueduct30_v01/Y2017M09D11_RH_zonal_stats_EE_V19/PIrrWW_monthY2014M05V19ee_export.csv...\n",
      "Copying gs://aqueduct30_v01/Y2017M09D11_RH_zonal_stats_EE_V19/PIrrWW_monthY2014M06V19ee_export.csv...\n",
      "Copying gs://aqueduct30_v01/Y2017M09D11_RH_zonal_stats_EE_V19/PIrrWW_monthY2014M07V19ee_export.csv...\n",
      "Copying gs://aqueduct30_v01/Y2017M09D11_RH_zonal_stats_EE_V19/PIrrWW_monthY2014M08V19ee_export.csv...\n",
      "Copying gs://aqueduct30_v01/Y2017M09D11_RH_zonal_stats_EE_V19/PIrrWW_monthY2014M09V19ee_export.csv...\n",
      "Copying gs://aqueduct30_v01/Y2017M09D11_RH_zonal_stats_EE_V19/PIrrWW_monthY2014M10V19ee_export.csv...\n",
      "Copying gs://aqueduct30_v01/Y2017M09D11_RH_zonal_stats_EE_V19/PIrrWW_monthY2014M11V19ee_export.csv...\n",
      "Copying gs://aqueduct30_v01/Y2017M09D11_RH_zonal_stats_EE_V19/PIrrWW_monthY2014M12V19ee_export.csv...\n",
      "Copying gs://aqueduct30_v01/Y2017M09D11_RH_zonal_stats_EE_V19/PIrrWW_yearY2014M12V19ee_export.csv...\n",
      "Copying gs://aqueduct30_v01/Y2017M09D11_RH_zonal_stats_EE_V19/PLivWN_monthY2014M01V19ee_export.csv...\n",
      "Copying gs://aqueduct30_v01/Y2017M09D11_RH_zonal_stats_EE_V19/PLivWN_monthY2014M02V19ee_export.csv...\n",
      "Copying gs://aqueduct30_v01/Y2017M09D11_RH_zonal_stats_EE_V19/PLivWN_monthY2014M03V19ee_export.csv...\n",
      "Copying gs://aqueduct30_v01/Y2017M09D11_RH_zonal_stats_EE_V19/PLivWN_monthY2014M04V19ee_export.csv...\n",
      "Copying gs://aqueduct30_v01/Y2017M09D11_RH_zonal_stats_EE_V19/PLivWN_monthY2014M05V19ee_export.csv...\n",
      "Copying gs://aqueduct30_v01/Y2017M09D11_RH_zonal_stats_EE_V19/PLivWN_monthY2014M06V19ee_export.csv...\n",
      "Copying gs://aqueduct30_v01/Y2017M09D11_RH_zonal_stats_EE_V19/PLivWN_monthY2014M07V19ee_export.csv...\n",
      "Copying gs://aqueduct30_v01/Y2017M09D11_RH_zonal_stats_EE_V19/PLivWN_monthY2014M08V19ee_export.csv...\n",
      "Copying gs://aqueduct30_v01/Y2017M09D11_RH_zonal_stats_EE_V19/PLivWN_monthY2014M09V19ee_export.csv...\n",
      "Copying gs://aqueduct30_v01/Y2017M09D11_RH_zonal_stats_EE_V19/PLivWN_monthY2014M10V19ee_export.csv...\n",
      "Copying gs://aqueduct30_v01/Y2017M09D11_RH_zonal_stats_EE_V19/PLivWN_monthY2014M11V19ee_export.csv...\n",
      "Copying gs://aqueduct30_v01/Y2017M09D11_RH_zonal_stats_EE_V19/PLivWN_monthY2014M12V19ee_export.csv...\n",
      "Copying gs://aqueduct30_v01/Y2017M09D11_RH_zonal_stats_EE_V19/PLivWN_yearY2014M12V19ee_export.csv...\n",
      "Copying gs://aqueduct30_v01/Y2017M09D11_RH_zonal_stats_EE_V19/PLivWW_monthY2014M01V19ee_export.csv...\n",
      "Copying gs://aqueduct30_v01/Y2017M09D11_RH_zonal_stats_EE_V19/PLivWW_monthY2014M02V19ee_export.csv...\n",
      "Copying gs://aqueduct30_v01/Y2017M09D11_RH_zonal_stats_EE_V19/PLivWW_monthY2014M03V19ee_export.csv...\n",
      "Copying gs://aqueduct30_v01/Y2017M09D11_RH_zonal_stats_EE_V19/PLivWW_monthY2014M04V19ee_export.csv...\n",
      "Copying gs://aqueduct30_v01/Y2017M09D11_RH_zonal_stats_EE_V19/PLivWW_monthY2014M05V19ee_export.csv...\n",
      "Copying gs://aqueduct30_v01/Y2017M09D11_RH_zonal_stats_EE_V19/PLivWW_monthY2014M06V19ee_export.csv...\n",
      "Copying gs://aqueduct30_v01/Y2017M09D11_RH_zonal_stats_EE_V19/PLivWW_monthY2014M07V19ee_export.csv...\n",
      "Copying gs://aqueduct30_v01/Y2017M09D11_RH_zonal_stats_EE_V19/PLivWW_monthY2014M08V19ee_export.csv...\n",
      "Copying gs://aqueduct30_v01/Y2017M09D11_RH_zonal_stats_EE_V19/PLivWW_monthY2014M09V19ee_export.csv...\n",
      "Copying gs://aqueduct30_v01/Y2017M09D11_RH_zonal_stats_EE_V19/PLivWW_monthY2014M10V19ee_export.csv...\n",
      "Copying gs://aqueduct30_v01/Y2017M09D11_RH_zonal_stats_EE_V19/PLivWW_monthY2014M11V19ee_export.csv...\n",
      "Copying gs://aqueduct30_v01/Y2017M09D11_RH_zonal_stats_EE_V19/PLivWW_monthY2014M12V19ee_export.csv...\n",
      "Copying gs://aqueduct30_v01/Y2017M09D11_RH_zonal_stats_EE_V19/PLivWW_yearY2014M12V19ee_export.csv...\n",
      "Copying gs://aqueduct30_v01/Y2017M09D11_RH_zonal_stats_EE_V19/area_30s_m2V19ee_export.csv...\n",
      "Copying gs://aqueduct30_v01/Y2017M09D11_RH_zonal_stats_EE_V19/ones_30sV19ee_export.csv...\n",
      "Copying gs://aqueduct30_v01/Y2017M09D11_RH_zonal_stats_EE_V19/reducedmeanrunoff_month_Y1960Y2014M01V19ee_export.csv...\n",
      "Copying gs://aqueduct30_v01/Y2017M09D11_RH_zonal_stats_EE_V19/reducedmeanrunoff_month_Y1960Y2014M02V19ee_export.csv...\n",
      "Copying gs://aqueduct30_v01/Y2017M09D11_RH_zonal_stats_EE_V19/reducedmeanrunoff_month_Y1960Y2014M03V19ee_export.csv...\n",
      "Copying gs://aqueduct30_v01/Y2017M09D11_RH_zonal_stats_EE_V19/reducedmeanrunoff_month_Y1960Y2014M04V19ee_export.csv...\n",
      "Copying gs://aqueduct30_v01/Y2017M09D11_RH_zonal_stats_EE_V19/reducedmeanrunoff_month_Y1960Y2014M05V19ee_export.csv...\n",
      "Copying gs://aqueduct30_v01/Y2017M09D11_RH_zonal_stats_EE_V19/reducedmeanrunoff_month_Y1960Y2014M06V19ee_export.csv...\n",
      "Copying gs://aqueduct30_v01/Y2017M09D11_RH_zonal_stats_EE_V19/reducedmeanrunoff_month_Y1960Y2014M07V19ee_export.csv...\n",
      "Copying gs://aqueduct30_v01/Y2017M09D11_RH_zonal_stats_EE_V19/reducedmeanrunoff_month_Y1960Y2014M08V19ee_export.csv...\n",
      "Copying gs://aqueduct30_v01/Y2017M09D11_RH_zonal_stats_EE_V19/reducedmeanrunoff_month_Y1960Y2014M09V19ee_export.csv...\n",
      "Copying gs://aqueduct30_v01/Y2017M09D11_RH_zonal_stats_EE_V19/reducedmeanrunoff_month_Y1960Y2014M10V19ee_export.csv...\n",
      "Copying gs://aqueduct30_v01/Y2017M09D11_RH_zonal_stats_EE_V19/reducedmeanrunoff_month_Y1960Y2014M11V19ee_export.csv...\n",
      "Copying gs://aqueduct30_v01/Y2017M09D11_RH_zonal_stats_EE_V19/reducedmeanrunoff_month_Y1960Y2014M12V19ee_export.csv...\n",
      "Copying gs://aqueduct30_v01/Y2017M09D11_RH_zonal_stats_EE_V19/reducedmeanrunoff_year_Y1960Y2014V19ee_export.csv...\n",
      "Copying gs://aqueduct30_v01/Y2017M09D11_RH_zonal_stats_EE_V19/runoff_monthY2014M01V19ee_export.csv...\n",
      "Copying gs://aqueduct30_v01/Y2017M09D11_RH_zonal_stats_EE_V19/runoff_monthY2014M02V19ee_export.csv...\n",
      "Copying gs://aqueduct30_v01/Y2017M09D11_RH_zonal_stats_EE_V19/runoff_monthY2014M03V19ee_export.csv...\n",
      "Copying gs://aqueduct30_v01/Y2017M09D11_RH_zonal_stats_EE_V19/runoff_monthY2014M04V19ee_export.csv...\n",
      "Copying gs://aqueduct30_v01/Y2017M09D11_RH_zonal_stats_EE_V19/runoff_monthY2014M05V19ee_export.csv...\n",
      "Copying gs://aqueduct30_v01/Y2017M09D11_RH_zonal_stats_EE_V19/runoff_monthY2014M06V19ee_export.csv...\n",
      "Copying gs://aqueduct30_v01/Y2017M09D11_RH_zonal_stats_EE_V19/runoff_monthY2014M07V19ee_export.csv...\n",
      "Copying gs://aqueduct30_v01/Y2017M09D11_RH_zonal_stats_EE_V19/runoff_monthY2014M08V19ee_export.csv...\n",
      "Copying gs://aqueduct30_v01/Y2017M09D11_RH_zonal_stats_EE_V19/runoff_monthY2014M09V19ee_export.csv...\n",
      "Copying gs://aqueduct30_v01/Y2017M09D11_RH_zonal_stats_EE_V19/runoff_monthY2014M10V19ee_export.csv...\n",
      "Copying gs://aqueduct30_v01/Y2017M09D11_RH_zonal_stats_EE_V19/runoff_monthY2014M11V19ee_export.csv...\n",
      "Copying gs://aqueduct30_v01/Y2017M09D11_RH_zonal_stats_EE_V19/runoff_monthY2014M12V19ee_export.csv...\n",
      "Copying gs://aqueduct30_v01/Y2017M09D11_RH_zonal_stats_EE_V19/runoff_yearY2014M12V19ee_export.csv...\n",
      "\\ [159 files][ 88.1 MiB/ 88.1 MiB]    1.3 MiB/s                                 \n",
      "==> NOTE: You are performing a sequence of gsutil operations that may\n",
      "run significantly faster if you instead use gsutil -m -o ... Please\n",
      "see the -m section under \"gsutil help options\" for further information\n",
      "about when gsutil -m can be advantageous.\n",
      "\n",
      "\n",
      "Operation completed over 159 objects/88.1 MiB.                                   \n"
     ]
    }
   ],
   "source": [
    "!gsutil cp -r {GCS_INPUT_PATH} {EC2_INPUT_PATH} "
   ]
  },
  {
   "cell_type": "code",
   "execution_count": 25,
   "metadata": {
    "collapsed": true
   },
   "outputs": [],
   "source": [
    "import pandas as pd\n",
    "import os\n",
    "import re\n",
    "import boto3\n",
    "import botocore\n",
    "from sqlalchemy import *"
   ]
  },
  {
   "cell_type": "code",
   "execution_count": null,
   "metadata": {
    "collapsed": true
   },
   "outputs": [],
   "source": []
  },
  {
   "cell_type": "code",
   "execution_count": 28,
   "metadata": {
    "collapsed": true
   },
   "outputs": [],
   "source": [
    "# RDS Connection\n",
    "def rdsConnect(database_identifier,database_name):\n",
    "    rds = boto3.client('rds')\n",
    "    F = open(\".password\",\"r\")\n",
    "    password = F.read().splitlines()[0]\n",
    "    F.close()\n",
    "    response = rds.describe_db_instances(DBInstanceIdentifier=\"%s\"%(database_identifier))\n",
    "    status = response[\"DBInstances\"][0][\"DBInstanceStatus\"]\n",
    "    print(\"Status:\",status)\n",
    "    endpoint = response[\"DBInstances\"][0][\"Endpoint\"][\"Address\"]\n",
    "    print(\"Endpoint:\",endpoint)\n",
    "    engine = create_engine('postgresql://rutgerhofste:%s@%s:5432/%s' %(password,endpoint,database_name))\n",
    "    connection = engine.connect()\n",
    "    return engine, connection\n",
    "\n",
    "\n",
    "\n",
    "\n"
   ]
  },
  {
   "cell_type": "code",
   "execution_count": 29,
   "metadata": {},
   "outputs": [
    {
     "name": "stdout",
     "output_type": "stream",
     "text": [
      "Status: available\n",
      "Endpoint: aqueduct30v01.cgpnumwmfcqc.eu-central-1.rds.amazonaws.com\n"
     ]
    }
   ],
   "source": [
    "engine, connection = rdsConnect(DATABASE_IDENTIFIER,DATABASE_NAME)"
   ]
  },
  {
   "cell_type": "code",
   "execution_count": 15,
   "metadata": {
    "collapsed": true
   },
   "outputs": [],
   "source": [
    "folder = os.path.join(EC2_INPUT_PATH,\"Y2017M09D11_RH_zonal_stats_EE_V%0.2d/\" %(GCS_VERSION)) "
   ]
  },
  {
   "cell_type": "code",
   "execution_count": 16,
   "metadata": {
    "collapsed": true
   },
   "outputs": [],
   "source": [
    "files = os.listdir(folder)"
   ]
  },
  {
   "cell_type": "code",
   "execution_count": 31,
   "metadata": {
    "collapsed": true
   },
   "outputs": [],
   "source": [
    "oneFile = files[0]"
   ]
  },
  {
   "cell_type": "code",
   "execution_count": 34,
   "metadata": {
    "collapsed": true
   },
   "outputs": [],
   "source": [
    "df = pd.read_csv(os.path.join(folder,oneFile))"
   ]
  },
  {
   "cell_type": "code",
   "execution_count": 35,
   "metadata": {},
   "outputs": [
    {
     "data": {
      "text/html": [
       "<div>\n",
       "<style>\n",
       "    .dataframe thead tr:only-child th {\n",
       "        text-align: right;\n",
       "    }\n",
       "\n",
       "    .dataframe thead th {\n",
       "        text-align: left;\n",
       "    }\n",
       "\n",
       "    .dataframe tbody tr th {\n",
       "        vertical-align: top;\n",
       "    }\n",
       "</style>\n",
       "<table border=\"1\" class=\"dataframe\">\n",
       "  <thead>\n",
       "    <tr style=\"text-align: right;\">\n",
       "      <th></th>\n",
       "      <th>system:index</th>\n",
       "      <th>PfafID_PIndWN_monthY2014M03</th>\n",
       "      <th>count_PIndWN_monthY2014M03</th>\n",
       "      <th>mean_PIndWN_monthY2014M03</th>\n",
       "      <th>.geo</th>\n",
       "    </tr>\n",
       "  </thead>\n",
       "  <tbody>\n",
       "    <tr>\n",
       "      <th>0</th>\n",
       "      <td>0</td>\n",
       "      <td>111011</td>\n",
       "      <td>2536</td>\n",
       "      <td>0.000859</td>\n",
       "      <td>NaN</td>\n",
       "    </tr>\n",
       "    <tr>\n",
       "      <th>1</th>\n",
       "      <td>1</td>\n",
       "      <td>111012</td>\n",
       "      <td>3921</td>\n",
       "      <td>0.000091</td>\n",
       "      <td>NaN</td>\n",
       "    </tr>\n",
       "    <tr>\n",
       "      <th>2</th>\n",
       "      <td>2</td>\n",
       "      <td>111013</td>\n",
       "      <td>1194</td>\n",
       "      <td>0.000278</td>\n",
       "      <td>NaN</td>\n",
       "    </tr>\n",
       "    <tr>\n",
       "      <th>3</th>\n",
       "      <td>3</td>\n",
       "      <td>111014</td>\n",
       "      <td>5605</td>\n",
       "      <td>0.000007</td>\n",
       "      <td>NaN</td>\n",
       "    </tr>\n",
       "    <tr>\n",
       "      <th>4</th>\n",
       "      <td>4</td>\n",
       "      <td>111015</td>\n",
       "      <td>21769</td>\n",
       "      <td>0.000217</td>\n",
       "      <td>NaN</td>\n",
       "    </tr>\n",
       "  </tbody>\n",
       "</table>\n",
       "</div>"
      ],
      "text/plain": [
       "   system:index  PfafID_PIndWN_monthY2014M03  count_PIndWN_monthY2014M03  \\\n",
       "0             0                       111011                        2536   \n",
       "1             1                       111012                        3921   \n",
       "2             2                       111013                        1194   \n",
       "3             3                       111014                        5605   \n",
       "4             4                       111015                       21769   \n",
       "\n",
       "   mean_PIndWN_monthY2014M03  .geo  \n",
       "0                   0.000859   NaN  \n",
       "1                   0.000091   NaN  \n",
       "2                   0.000278   NaN  \n",
       "3                   0.000007   NaN  \n",
       "4                   0.000217   NaN  "
      ]
     },
     "execution_count": 35,
     "metadata": {},
     "output_type": "execute_result"
    }
   ],
   "source": [
    "df.head()"
   ]
  },
  {
   "cell_type": "code",
   "execution_count": null,
   "metadata": {
    "collapsed": true
   },
   "outputs": [],
   "source": []
  },
  {
   "cell_type": "code",
   "execution_count": null,
   "metadata": {
    "collapsed": true
   },
   "outputs": [],
   "source": []
  },
  {
   "cell_type": "code",
   "execution_count": null,
   "metadata": {
    "collapsed": true
   },
   "outputs": [],
   "source": []
  },
  {
   "cell_type": "code",
   "execution_count": null,
   "metadata": {
    "collapsed": true
   },
   "outputs": [],
   "source": []
  },
  {
   "cell_type": "code",
   "execution_count": 7,
   "metadata": {
    "collapsed": true
   },
   "outputs": [],
   "source": [
    "def createRegex(aList):\n",
    "    return '|'.join(aList)\n",
    "\n",
    "def prepareFile(oneFile):\n",
    "        trimFileName = oneFile[:-len(STRING_TRIM)]\n",
    "        d ={}\n",
    "        d[\"df\"] = pd.read_csv(os.path.join(folder,oneFile))\n",
    "        d[\"df\"] = prepareDf(d[\"df\"])\n",
    "        d[\"trimFileName\"] = trimFileName\n",
    "        return d         \n",
    "        \n",
    "\n",
    "def prepareDf(df):\n",
    "    for column in df.columns:\n",
    "        if re.search(\"PfafID\",column):\n",
    "            df2 = df.set_index(column)\n",
    "            df2 = df2.drop(DROP_COLUMNS,1)        \n",
    "            return df2\n",
    "        \n",
    "\n",
    "\n",
    "    \n",
    "    \n"
   ]
  },
  {
   "cell_type": "code",
   "execution_count": 8,
   "metadata": {
    "collapsed": true
   },
   "outputs": [],
   "source": [
    "folder = os.path.join(EC2_INPUT_PATH,\"Y2017M09D11_RH_zonal_stats_EE_V%0.2d/\" %(GCS_VERSION)) "
   ]
  },
  {
   "cell_type": "code",
   "execution_count": 9,
   "metadata": {
    "collapsed": true
   },
   "outputs": [],
   "source": [
    "files = os.listdir(folder)"
   ]
  },
  {
   "cell_type": "markdown",
   "metadata": {},
   "source": [
    "## Process Auxiliary Datasets (PfafID, Area, Ones)"
   ]
  },
  {
   "cell_type": "code",
   "execution_count": 10,
   "metadata": {
    "collapsed": true
   },
   "outputs": [],
   "source": [
    "dAux ={}\n",
    "for regex in AUXFILES:\n",
    "    r = re.compile(regex)\n",
    "    newList = filter(r.match, files)\n",
    "    oneFile = list(newList)[0]\n",
    "    dAux[regex] = prepareFile(oneFile)   "
   ]
  },
  {
   "cell_type": "code",
   "execution_count": 11,
   "metadata": {
    "collapsed": true
   },
   "outputs": [],
   "source": [
    "regex = createRegex(AUXFILES)"
   ]
  },
  {
   "cell_type": "code",
   "execution_count": 12,
   "metadata": {},
   "outputs": [
    {
     "name": "stdout",
     "output_type": "stream",
     "text": [
      "Hybas06|area_30s_m2|ones_30s\n"
     ]
    }
   ],
   "source": [
    "print(regex)"
   ]
  },
  {
   "cell_type": "code",
   "execution_count": 13,
   "metadata": {
    "collapsed": true
   },
   "outputs": [],
   "source": [
    "d ={}\n",
    "dAux ={}\n",
    "for oneFile in files: \n",
    "    trimFileName = oneFile[:-len(STRING_TRIM)]    \n",
    "    if not re.search(regex,oneFile):\n",
    "        d[trimFileName] = prepareFile(oneFile)\n",
    "        \n",
    "    elif re.search(regex,oneFile):\n",
    "        dAux[trimFileName] = prepareFile(oneFile)\n",
    "    \n",
    "    else:\n",
    "        print(\"Unrecognized file name, check STRING_TRIM variable\")\n",
    "        "
   ]
  },
  {
   "cell_type": "code",
   "execution_count": 14,
   "metadata": {
    "collapsed": true
   },
   "outputs": [],
   "source": [
    "dfLeft = dAux[AUXFILES[0]][\"df\"]"
   ]
  },
  {
   "cell_type": "markdown",
   "metadata": {},
   "source": [
    "# Adding area to shapes"
   ]
  },
  {
   "cell_type": "code",
   "execution_count": 15,
   "metadata": {
    "collapsed": true
   },
   "outputs": [],
   "source": [
    "dAux[AUXFILES[1]][\"df\"][\"total_%s\" %(AUXFILES[1])] = dAux[AUXFILES[1]][\"df\"][\"count_%s\" %(AUXFILES[1])] * dAux[AUXFILES[1]][\"df\"][\"mean_%s\" %(AUXFILES[1])]"
   ]
  },
  {
   "cell_type": "code",
   "execution_count": 16,
   "metadata": {
    "collapsed": true
   },
   "outputs": [],
   "source": [
    "dfMerge = dAux[AUXFILES[0]][\"df\"].merge(dAux[AUXFILES[1]][\"df\"],\n",
    "                       how=\"outer\",\n",
    "                       left_index=True,\n",
    "                       right_index=True,\n",
    "                       sort=True\n",
    "                      )"
   ]
  },
  {
   "cell_type": "code",
   "execution_count": 17,
   "metadata": {
    "collapsed": true
   },
   "outputs": [],
   "source": [
    "for key, value in d.items():\n",
    "    dfNew = value[\"df\"].copy()\n",
    "    # total new value = area in m^2 times mean flux \n",
    "    dfNew[\"total_volume_%s\" %(value[\"trimFileName\"])] = dAux[AUXFILES[1]][\"df\"][\"total_%s\" %(AUXFILES[1])] * value[\"df\"][\"mean_%s\" %(value[\"trimFileName\"])]\n",
    "    \n",
    "     \n",
    "    \n",
    "    dfMerge = dfMerge.merge(dfNew,\n",
    "                           how=\"outer\",\n",
    "                           left_index=True,\n",
    "                           right_index=True,\n",
    "                           sort=True                   \n",
    "                           )"
   ]
  },
  {
   "cell_type": "code",
   "execution_count": 18,
   "metadata": {},
   "outputs": [
    {
     "data": {
      "text/html": [
       "<div>\n",
       "<style>\n",
       "    .dataframe thead tr:only-child th {\n",
       "        text-align: right;\n",
       "    }\n",
       "\n",
       "    .dataframe thead th {\n",
       "        text-align: left;\n",
       "    }\n",
       "\n",
       "    .dataframe tbody tr th {\n",
       "        vertical-align: top;\n",
       "    }\n",
       "</style>\n",
       "<table border=\"1\" class=\"dataframe\">\n",
       "  <thead>\n",
       "    <tr style=\"text-align: right;\">\n",
       "      <th></th>\n",
       "      <th>count_Hybas06</th>\n",
       "      <th>mean_Hybas06</th>\n",
       "      <th>count_area_30s_m2</th>\n",
       "      <th>mean_area_30s_m2</th>\n",
       "      <th>total_area_30s_m2</th>\n",
       "      <th>count_PDomWN_monthY2014M09</th>\n",
       "      <th>mean_PDomWN_monthY2014M09</th>\n",
       "      <th>total_volume_PDomWN_monthY2014M09</th>\n",
       "      <th>count_reducedmeanrunoff_month_Y1960Y2014M04</th>\n",
       "      <th>mean_reducedmeanrunoff_month_Y1960Y2014M04</th>\n",
       "      <th>...</th>\n",
       "      <th>total_volume_PLivWN_monthY2014M09</th>\n",
       "      <th>count_PLivWW_monthY2014M01</th>\n",
       "      <th>mean_PLivWW_monthY2014M01</th>\n",
       "      <th>total_volume_PLivWW_monthY2014M01</th>\n",
       "      <th>count_runoff_monthY2014M07</th>\n",
       "      <th>mean_runoff_monthY2014M07</th>\n",
       "      <th>total_volume_runoff_monthY2014M07</th>\n",
       "      <th>count_IrrLinearWN_monthY2014M06</th>\n",
       "      <th>mean_IrrLinearWN_monthY2014M06</th>\n",
       "      <th>total_volume_IrrLinearWN_monthY2014M06</th>\n",
       "    </tr>\n",
       "    <tr>\n",
       "      <th>PfafID_Hybas06</th>\n",
       "      <th></th>\n",
       "      <th></th>\n",
       "      <th></th>\n",
       "      <th></th>\n",
       "      <th></th>\n",
       "      <th></th>\n",
       "      <th></th>\n",
       "      <th></th>\n",
       "      <th></th>\n",
       "      <th></th>\n",
       "      <th></th>\n",
       "      <th></th>\n",
       "      <th></th>\n",
       "      <th></th>\n",
       "      <th></th>\n",
       "      <th></th>\n",
       "      <th></th>\n",
       "      <th></th>\n",
       "      <th></th>\n",
       "      <th></th>\n",
       "      <th></th>\n",
       "    </tr>\n",
       "  </thead>\n",
       "  <tbody>\n",
       "    <tr>\n",
       "      <th>111011</th>\n",
       "      <td>2536</td>\n",
       "      <td>111011.0</td>\n",
       "      <td>2536</td>\n",
       "      <td>743658.186761</td>\n",
       "      <td>1.885917e+09</td>\n",
       "      <td>2536</td>\n",
       "      <td>0.000395</td>\n",
       "      <td>745809.175699</td>\n",
       "      <td>2479</td>\n",
       "      <td>3.098100e-05</td>\n",
       "      <td>...</td>\n",
       "      <td>257.785492</td>\n",
       "      <td>2536</td>\n",
       "      <td>1.137619e-07</td>\n",
       "      <td>214.545600</td>\n",
       "      <td>2479</td>\n",
       "      <td>-2.767351e-07</td>\n",
       "      <td>-521.899501</td>\n",
       "      <td>2536</td>\n",
       "      <td>0.000054</td>\n",
       "      <td>101765.706562</td>\n",
       "    </tr>\n",
       "    <tr>\n",
       "      <th>111012</th>\n",
       "      <td>3921</td>\n",
       "      <td>111012.0</td>\n",
       "      <td>3921</td>\n",
       "      <td>746186.462653</td>\n",
       "      <td>2.925797e+09</td>\n",
       "      <td>3921</td>\n",
       "      <td>0.000005</td>\n",
       "      <td>13455.826007</td>\n",
       "      <td>3914</td>\n",
       "      <td>8.585877e-06</td>\n",
       "      <td>...</td>\n",
       "      <td>1938.331951</td>\n",
       "      <td>3921</td>\n",
       "      <td>5.535384e-07</td>\n",
       "      <td>1619.541163</td>\n",
       "      <td>3914</td>\n",
       "      <td>-7.916655e-08</td>\n",
       "      <td>-231.625276</td>\n",
       "      <td>3921</td>\n",
       "      <td>0.000000</td>\n",
       "      <td>0.000000</td>\n",
       "    </tr>\n",
       "    <tr>\n",
       "      <th>111013</th>\n",
       "      <td>1194</td>\n",
       "      <td>111013.0</td>\n",
       "      <td>1194</td>\n",
       "      <td>747422.836265</td>\n",
       "      <td>8.924229e+08</td>\n",
       "      <td>1194</td>\n",
       "      <td>0.000013</td>\n",
       "      <td>11996.855094</td>\n",
       "      <td>1141</td>\n",
       "      <td>8.167370e-06</td>\n",
       "      <td>...</td>\n",
       "      <td>45.720323</td>\n",
       "      <td>1194</td>\n",
       "      <td>4.269330e-08</td>\n",
       "      <td>38.100481</td>\n",
       "      <td>1141</td>\n",
       "      <td>-7.598471e-08</td>\n",
       "      <td>-67.810494</td>\n",
       "      <td>1194</td>\n",
       "      <td>0.000000</td>\n",
       "      <td>0.000000</td>\n",
       "    </tr>\n",
       "    <tr>\n",
       "      <th>111014</th>\n",
       "      <td>5605</td>\n",
       "      <td>111014.0</td>\n",
       "      <td>5605</td>\n",
       "      <td>750449.270450</td>\n",
       "      <td>4.206268e+09</td>\n",
       "      <td>5605</td>\n",
       "      <td>0.000003</td>\n",
       "      <td>11148.519841</td>\n",
       "      <td>5605</td>\n",
       "      <td>3.193022e-06</td>\n",
       "      <td>...</td>\n",
       "      <td>888.152682</td>\n",
       "      <td>5605</td>\n",
       "      <td>1.771844e-07</td>\n",
       "      <td>745.284928</td>\n",
       "      <td>5605</td>\n",
       "      <td>0.000000e+00</td>\n",
       "      <td>0.000000</td>\n",
       "      <td>5605</td>\n",
       "      <td>0.000000</td>\n",
       "      <td>0.000000</td>\n",
       "    </tr>\n",
       "    <tr>\n",
       "      <th>111015</th>\n",
       "      <td>21873</td>\n",
       "      <td>111015.0</td>\n",
       "      <td>21873</td>\n",
       "      <td>758792.279231</td>\n",
       "      <td>1.659706e+10</td>\n",
       "      <td>21769</td>\n",
       "      <td>0.000018</td>\n",
       "      <td>306753.393803</td>\n",
       "      <td>21086</td>\n",
       "      <td>5.182050e-07</td>\n",
       "      <td>...</td>\n",
       "      <td>446.549220</td>\n",
       "      <td>21769</td>\n",
       "      <td>2.249575e-08</td>\n",
       "      <td>373.363372</td>\n",
       "      <td>21086</td>\n",
       "      <td>0.000000e+00</td>\n",
       "      <td>0.000000</td>\n",
       "      <td>21769</td>\n",
       "      <td>0.000000</td>\n",
       "      <td>0.000000</td>\n",
       "    </tr>\n",
       "  </tbody>\n",
       "</table>\n",
       "<p>5 rows × 473 columns</p>\n",
       "</div>"
      ],
      "text/plain": [
       "                count_Hybas06  mean_Hybas06  count_area_30s_m2  \\\n",
       "PfafID_Hybas06                                                   \n",
       "111011                   2536      111011.0               2536   \n",
       "111012                   3921      111012.0               3921   \n",
       "111013                   1194      111013.0               1194   \n",
       "111014                   5605      111014.0               5605   \n",
       "111015                  21873      111015.0              21873   \n",
       "\n",
       "                mean_area_30s_m2  total_area_30s_m2  \\\n",
       "PfafID_Hybas06                                        \n",
       "111011             743658.186761       1.885917e+09   \n",
       "111012             746186.462653       2.925797e+09   \n",
       "111013             747422.836265       8.924229e+08   \n",
       "111014             750449.270450       4.206268e+09   \n",
       "111015             758792.279231       1.659706e+10   \n",
       "\n",
       "                count_PDomWN_monthY2014M09  mean_PDomWN_monthY2014M09  \\\n",
       "PfafID_Hybas06                                                          \n",
       "111011                                2536                   0.000395   \n",
       "111012                                3921                   0.000005   \n",
       "111013                                1194                   0.000013   \n",
       "111014                                5605                   0.000003   \n",
       "111015                               21769                   0.000018   \n",
       "\n",
       "                total_volume_PDomWN_monthY2014M09  \\\n",
       "PfafID_Hybas06                                      \n",
       "111011                              745809.175699   \n",
       "111012                               13455.826007   \n",
       "111013                               11996.855094   \n",
       "111014                               11148.519841   \n",
       "111015                              306753.393803   \n",
       "\n",
       "                count_reducedmeanrunoff_month_Y1960Y2014M04  \\\n",
       "PfafID_Hybas06                                                \n",
       "111011                                                 2479   \n",
       "111012                                                 3914   \n",
       "111013                                                 1141   \n",
       "111014                                                 5605   \n",
       "111015                                                21086   \n",
       "\n",
       "                mean_reducedmeanrunoff_month_Y1960Y2014M04  \\\n",
       "PfafID_Hybas06                                               \n",
       "111011                                        3.098100e-05   \n",
       "111012                                        8.585877e-06   \n",
       "111013                                        8.167370e-06   \n",
       "111014                                        3.193022e-06   \n",
       "111015                                        5.182050e-07   \n",
       "\n",
       "                                 ...                    \\\n",
       "PfafID_Hybas06                   ...                     \n",
       "111011                           ...                     \n",
       "111012                           ...                     \n",
       "111013                           ...                     \n",
       "111014                           ...                     \n",
       "111015                           ...                     \n",
       "\n",
       "                total_volume_PLivWN_monthY2014M09  count_PLivWW_monthY2014M01  \\\n",
       "PfafID_Hybas06                                                                  \n",
       "111011                                 257.785492                        2536   \n",
       "111012                                1938.331951                        3921   \n",
       "111013                                  45.720323                        1194   \n",
       "111014                                 888.152682                        5605   \n",
       "111015                                 446.549220                       21769   \n",
       "\n",
       "                mean_PLivWW_monthY2014M01  total_volume_PLivWW_monthY2014M01  \\\n",
       "PfafID_Hybas06                                                                 \n",
       "111011                       1.137619e-07                         214.545600   \n",
       "111012                       5.535384e-07                        1619.541163   \n",
       "111013                       4.269330e-08                          38.100481   \n",
       "111014                       1.771844e-07                         745.284928   \n",
       "111015                       2.249575e-08                         373.363372   \n",
       "\n",
       "                count_runoff_monthY2014M07  mean_runoff_monthY2014M07  \\\n",
       "PfafID_Hybas06                                                          \n",
       "111011                                2479              -2.767351e-07   \n",
       "111012                                3914              -7.916655e-08   \n",
       "111013                                1141              -7.598471e-08   \n",
       "111014                                5605               0.000000e+00   \n",
       "111015                               21086               0.000000e+00   \n",
       "\n",
       "                total_volume_runoff_monthY2014M07  \\\n",
       "PfafID_Hybas06                                      \n",
       "111011                                -521.899501   \n",
       "111012                                -231.625276   \n",
       "111013                                 -67.810494   \n",
       "111014                                   0.000000   \n",
       "111015                                   0.000000   \n",
       "\n",
       "                count_IrrLinearWN_monthY2014M06  \\\n",
       "PfafID_Hybas06                                    \n",
       "111011                                     2536   \n",
       "111012                                     3921   \n",
       "111013                                     1194   \n",
       "111014                                     5605   \n",
       "111015                                    21769   \n",
       "\n",
       "                mean_IrrLinearWN_monthY2014M06  \\\n",
       "PfafID_Hybas06                                   \n",
       "111011                                0.000054   \n",
       "111012                                0.000000   \n",
       "111013                                0.000000   \n",
       "111014                                0.000000   \n",
       "111015                                0.000000   \n",
       "\n",
       "                total_volume_IrrLinearWN_monthY2014M06  \n",
       "PfafID_Hybas06                                          \n",
       "111011                                   101765.706562  \n",
       "111012                                        0.000000  \n",
       "111013                                        0.000000  \n",
       "111014                                        0.000000  \n",
       "111015                                        0.000000  \n",
       "\n",
       "[5 rows x 473 columns]"
      ]
     },
     "execution_count": 18,
     "metadata": {},
     "output_type": "execute_result"
    }
   ],
   "source": [
    "dfMerge.head()"
   ]
  },
  {
   "cell_type": "code",
   "execution_count": 19,
   "metadata": {
    "collapsed": true
   },
   "outputs": [],
   "source": [
    "dfMerge.to_csv(os.path.join(EC2_OUTPUT_PATH,OUTPUTFILENAME+\".csv\"))"
   ]
  },
  {
   "cell_type": "code",
   "execution_count": 20,
   "metadata": {
    "collapsed": true
   },
   "outputs": [],
   "source": [
    "dfMerge.to_pickle(os.path.join(EC2_OUTPUT_PATH,OUTPUTFILENAME+\".pkl\"))"
   ]
  },
  {
   "cell_type": "code",
   "execution_count": 21,
   "metadata": {
    "collapsed": true
   },
   "outputs": [],
   "source": [
    "outputLocation = os.path.join(S3_OUTPUT_PATH,OUTPUTFILENAME)"
   ]
  },
  {
   "cell_type": "code",
   "execution_count": 22,
   "metadata": {},
   "outputs": [
    {
     "name": "stdout",
     "output_type": "stream",
     "text": [
      "upload: ../../../../data/Y2017M09D14_RH_merge_EE_results_V01/output/mergedZonalStatsEE_V17.csv to s3://wri-projects/Aqueduct30/processData/Y2017M09D14_RH_merge_EE_results_V01/output/mergedZonalStatsEE_V17.csv\n",
      "upload: ../../../../data/Y2017M09D14_RH_merge_EE_results_V01/output/mergedZonalStatsEE_V17.pkl to s3://wri-projects/Aqueduct30/processData/Y2017M09D14_RH_merge_EE_results_V01/output/mergedZonalStatsEE_V17.pkl\n"
     ]
    }
   ],
   "source": [
    "!aws s3 cp --recursive {EC2_OUTPUT_PATH} {S3_OUTPUT_PATH}"
   ]
  },
  {
   "cell_type": "code",
   "execution_count": 23,
   "metadata": {},
   "outputs": [
    {
     "name": "stdout",
     "output_type": "stream",
     "text": [
      "0:01:54.615969\n"
     ]
    }
   ],
   "source": [
    "end = datetime.datetime.now()\n",
    "elapsed = end - start\n",
    "print(elapsed)"
   ]
  },
  {
   "cell_type": "code",
   "execution_count": null,
   "metadata": {
    "collapsed": true
   },
   "outputs": [],
   "source": []
  }
 ],
 "metadata": {
  "kernelspec": {
   "display_name": "Python 35",
   "language": "python",
   "name": "python35"
  },
  "language_info": {
   "codemirror_mode": {
    "name": "ipython",
    "version": 3
   },
   "file_extension": ".py",
   "mimetype": "text/x-python",
   "name": "python",
   "nbconvert_exporter": "python",
   "pygments_lexer": "ipython3",
   "version": "3.5.4"
  }
 },
 "nbformat": 4,
 "nbformat_minor": 2
}
