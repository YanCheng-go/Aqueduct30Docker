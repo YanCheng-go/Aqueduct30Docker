{
 "cells": [
  {
   "cell_type": "code",
   "execution_count": 1,
   "metadata": {},
   "outputs": [
    {
     "name": "stdout",
     "output_type": "stream",
     "text": [
      "Input ee zones: projects/WRI-Aquaduct/Y2018M04D20_RH_Ingest_HydroBasins_GCS_EE_V01/output_V02/hybas_lev06_v1c_merged_fiona_V04\n",
      "Input ee values: projects/WRI-Aquaduct/Y2018M09D28_RH_DR_Ingest_EE_V01/output_V03/\n",
      "Output gcs: gs://aqueduct30_v01/Y2018M98D28_RH_DR_Zonal_Stats_EE_V01/output_V02/\n"
     ]
    }
   ],
   "source": [
    "\"\"\" Drought Risk zonal stats in earthengine.\n",
    "-------------------------------------------------------------------------------\n",
    "\n",
    "\n",
    "\n",
    "Author: Rutger Hofste\n",
    "Date: 201809028\n",
    "Kernel: python27\n",
    "Docker: rutgerhofste/gisdocker:ubuntu16.04\n",
    "\n",
    "Args:\n",
    "\"\"\"\n",
    "\n",
    "SCRIPT_NAME = \"Y2018M98D28_RH_DR_Zonal_Stats_EE_V01\"\n",
    "EE_INPUT_ZONES_PATH = \"projects/WRI-Aquaduct/Y2018M04D20_RH_Ingest_HydroBasins_GCS_EE_V01/output_V02/hybas_lev06_v1c_merged_fiona_V04\"\n",
    "EE_INPUT_VALUES_PATH = \"projects/WRI-Aquaduct/Y2018M09D28_RH_DR_Ingest_EE_V01/output_V03/\"\n",
    "\n",
    "OUTPUT_VERSION = 2\n",
    "\n",
    "GCS_BUCKET= \"aqueduct30_v01\"\n",
    "\n",
    "print(\"Input ee zones: \" +  EE_INPUT_ZONES_PATH +\n",
    "      \"\\nInput ee values: \" + EE_INPUT_VALUES_PATH +\n",
    "      \"\\nGCS_BUCKET: \" + GCS_BUCKET)"
   ]
  },
  {
   "cell_type": "code",
   "execution_count": 2,
   "metadata": {},
   "outputs": [
    {
     "name": "stdout",
     "output_type": "stream",
     "text": [
      "Y2018M09D28 UTC 12:47\n"
     ]
    },
    {
     "data": {
      "text/plain": [
       "'3.5.4 |Anaconda, Inc.| (default, Nov 20 2017, 18:44:38) \\n[GCC 7.2.0]'"
      ]
     },
     "execution_count": 2,
     "metadata": {},
     "output_type": "execute_result"
    }
   ],
   "source": [
    "import time, datetime, sys\n",
    "dateString = time.strftime(\"Y%YM%mD%d\")\n",
    "timeString = time.strftime(\"UTC %H:%M\")\n",
    "start = datetime.datetime.now()\n",
    "print(dateString,timeString)\n",
    "sys.version"
   ]
  },
  {
   "cell_type": "code",
   "execution_count": 3,
   "metadata": {
    "collapsed": true
   },
   "outputs": [],
   "source": [
    "def dict_to_feature(dictje):\n",
    "    return ee.Feature(None,dictje)\n",
    "\n",
    "def feature_remove_geometry(feature):\n",
    "    feature_out = feature.setGeometry(None)\n",
    "    return feature_out"
   ]
  },
  {
   "cell_type": "code",
   "execution_count": 4,
   "metadata": {
    "collapsed": true
   },
   "outputs": [],
   "source": [
    "import ee\n",
    "import aqueduct3\n",
    "ee.Initialize()"
   ]
  },
  {
   "cell_type": "code",
   "execution_count": 5,
   "metadata": {},
   "outputs": [],
   "source": [
    "reducer = ee.Reducer.count().combine(\n",
    "  reducer2= ee.Reducer.mean(),\n",
    "  sharedInputs= True\n",
    ")"
   ]
  },
  {
   "cell_type": "code",
   "execution_count": 6,
   "metadata": {
    "collapsed": true
   },
   "outputs": [],
   "source": [
    "parameters = [\"desertcoldareamask\",\"hazard\",\"exposure\",\"vulnerability\",\"risk\"]"
   ]
  },
  {
   "cell_type": "code",
   "execution_count": 9,
   "metadata": {},
   "outputs": [
    {
     "name": "stdout",
     "output_type": "stream",
     "text": [
      "desertcoldareamask\n",
      "Y2018M98D28_RH_DR_Zonal_Stats_EE_V01/output_V02/desertcoldareamask.csv\n",
      "hazard\n",
      "Y2018M98D28_RH_DR_Zonal_Stats_EE_V01/output_V02/hazard.csv\n",
      "exposure\n",
      "Y2018M98D28_RH_DR_Zonal_Stats_EE_V01/output_V02/exposure.csv\n",
      "vulnerability\n",
      "Y2018M98D28_RH_DR_Zonal_Stats_EE_V01/output_V02/vulnerability.csv\n",
      "risk\n",
      "Y2018M98D28_RH_DR_Zonal_Stats_EE_V01/output_V02/risk.csv\n"
     ]
    }
   ],
   "source": [
    "fc_hydrobasins = ee.FeatureCollection(\"projects/WRI-Aquaduct/Y2018M04D20_RH_Ingest_HydroBasins_GCS_EE_V01/output_V02/hybas_lev06_v1c_merged_fiona_V04\");\n",
    "crs_transform = aqueduct3.earthengine.get_crs_transform(\"5min\")\n",
    "\n",
    "for parameter in parameters:\n",
    "    print(parameter)\n",
    "    input_image = ee.Image(\"projects/WRI-Aquaduct/Y2018M09D28_RH_DR_Ingest_EE_V01/output_V03/{}\".format(parameter))\n",
    "    fc_stats = input_image.reduceRegions(collection=fc_hydrobasins,\n",
    "                                  reducer=reducer,\n",
    "                                  crsTransform=crs_transform )\n",
    "    fc_stats_nogeom = fc_stats.map(feature_remove_geometry)\n",
    "    file_name_prefix = \"{}/output_V{:02.0f}/{}.csv\".format(SCRIPT_NAME,OUTPUT_VERSION,parameter)\n",
    "    print(file_name_prefix)\n",
    "    description = \"{}_V{:02.0f}\".format(parameter,OUTPUT_VERSION)\n",
    "    task = ee.batch.Export.table.toCloudStorage(collection = fc_stats_nogeom,\n",
    "                                                description=description,\n",
    "                                                bucket=GCS_BUCKET,\n",
    "                                                fileNamePrefix=file_name_prefix,\n",
    "                                                fileFormat=\"CSV\"\n",
    "                                                )\n",
    "    task.start()"
   ]
  },
  {
   "cell_type": "code",
   "execution_count": 8,
   "metadata": {},
   "outputs": [
    {
     "name": "stdout",
     "output_type": "stream",
     "text": [
      "0:00:05.421355\n"
     ]
    }
   ],
   "source": [
    "end = datetime.datetime.now()\n",
    "elapsed = end - start\n",
    "print(elapsed)"
   ]
  },
  {
   "cell_type": "markdown",
   "metadata": {},
   "source": [
    "Previous runs:  \n",
    "0:00:10.984084"
   ]
  },
  {
   "cell_type": "code",
   "execution_count": null,
   "metadata": {
    "collapsed": true
   },
   "outputs": [],
   "source": []
  }
 ],
 "metadata": {
  "kernelspec": {
   "display_name": "Python 35",
   "language": "python",
   "name": "python35"
  },
  "language_info": {
   "codemirror_mode": {
    "name": "ipython",
    "version": 3
   },
   "file_extension": ".py",
   "mimetype": "text/x-python",
   "name": "python",
   "nbconvert_exporter": "python",
   "pygments_lexer": "ipython3",
   "version": "3.5.4"
  }
 },
 "nbformat": 4,
 "nbformat_minor": 2
}
