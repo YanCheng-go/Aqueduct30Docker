{
 "cells": [
  {
   "cell_type": "code",
   "execution_count": 1,
   "metadata": {},
   "outputs": [
    {
     "name": "stdout",
     "output_type": "stream",
     "text": [
      "Input ec2: /volumes/data/Y2017M08D25_RH_spatial_join_FAONames_V01/input_V07 \n",
      "Input s3 FAO: s3://wri-projects/Aqueduct30/processData/Y2017M08D23_RH_Buffer_FAONames_V01/output_V02/ \n",
      "Input s3 Hybas: s3://wri-projects/Aqueduct30/processData/Y2017M08D02_RH_Merge_HydroBasins_V02/output_V04/ \n",
      "Output ec2: /volumes/data/Y2017M08D25_RH_spatial_join_FAONames_V01/output_V07 \n",
      "Output s3: s3://wri-projects/Aqueduct30/processData/Y2017M08D25_RH_spatial_join_FAONames_V01/output_V07/\n"
     ]
    }
   ],
   "source": [
    "\"\"\" Add the FAO Names to the HydroBasins shapefile.\n",
    "-------------------------------------------------------------------------------\n",
    "Spatially join FAO Names hydrobasins to the official HydroBasins level 6 \n",
    "polygons\n",
    "\n",
    "Author: Rutger Hofste\n",
    "Date: 20170825\n",
    "Kernel: python35\n",
    "Docker: rutgerhofste/gisdocker:ubuntu16.04\n",
    "\n",
    "Args:\n",
    "    TESTING (Boolean) : Toggle testing case.\n",
    "    SCRIPT_NAME (string) : Script name.\n",
    "    OUTPUT_VERSION (integer) : output version.\n",
    "    DATABASE_ENDPOINT (string) : RDS or postGreSQL endpoint.\n",
    "    DATABASE_NAME (string) : Database name.\n",
    "    TABLE_NAME_AREA_30SPFAF06 (string) : Table name used for areas. Must exist\n",
    "        on same database as used in rest of script.\n",
    "    S3_INPUT_PATH_RIVERDISCHARGE (string) : AWS S3 input path for \n",
    "        riverdischarge.    \n",
    "    S3_INPUT_PATH_DEMAND (string) : AWS S3 input path for \n",
    "        demand.    \n",
    "\n",
    "\"\"\"\n",
    "\n",
    "SCRIPT_NAME = \"Y2017M08D25_RH_spatial_join_FAONames_V01\"\n",
    "OUTPUT_VERSION = 7\n",
    "\n",
    "S3_INPUT_PATH_FAO = \"s3://wri-projects/Aqueduct30/processData/Y2017M08D23_RH_Buffer_FAONames_V01/output_V02/\"\n",
    "S3_INPUT_PATH_HYBAS = \"s3://wri-projects/Aqueduct30/processData/Y2017M08D02_RH_Merge_HydroBasins_V02/output_V04/\"\n",
    "\n",
    "INPUT_FILE_NAME_FAO = \"hydrobasins_fao_fiona_merged_buffered_v01.shp\"\n",
    "INPUT_FILE_NAME_HYBAS = \"hybas_lev06_v1c_merged_fiona_V04.shp\"\n",
    "\n",
    "OUTPUT_FILE_NAME = \"hybas_lev06_v1c_merged_fiona_withFAO_V%0.2d\" %(OUTPUT_VERSION)\n",
    "\n",
    "ec2_input_path = \"/volumes/data/{}/input_V{:02.0f}\".format(SCRIPT_NAME,OUTPUT_VERSION)\n",
    "ec2_output_path = \"/volumes/data/{}/output_V{:02.0f}\".format(SCRIPT_NAME,OUTPUT_VERSION)\n",
    "s3_output_path = \"s3://wri-projects/Aqueduct30/processData/{}/output_V{:02.0f}/\".format(SCRIPT_NAME,OUTPUT_VERSION)\n",
    "\n",
    "print(\"Input ec2: \" + ec2_input_path,\n",
    "      \"\\nInput s3 FAO: \" + S3_INPUT_PATH_FAO,\n",
    "      \"\\nInput s3 Hybas: \" + S3_INPUT_PATH_HYBAS,\n",
    "      \"\\nOutput ec2: \" + ec2_output_path,\n",
    "      \"\\nOutput s3: \" + s3_output_path)\n",
    "\n"
   ]
  },
  {
   "cell_type": "code",
   "execution_count": 2,
   "metadata": {},
   "outputs": [
    {
     "name": "stdout",
     "output_type": "stream",
     "text": [
      "Y2018M05D24 UTC 11:11\n"
     ]
    },
    {
     "data": {
      "text/plain": [
       "'3.5.4 |Anaconda, Inc.| (default, Nov 20 2017, 18:44:38) \\n[GCC 7.2.0]'"
      ]
     },
     "execution_count": 2,
     "metadata": {},
     "output_type": "execute_result"
    }
   ],
   "source": [
    "import time, datetime, sys\n",
    "dateString = time.strftime(\"Y%YM%mD%d\")\n",
    "timeString = time.strftime(\"UTC %H:%M\")\n",
    "start = datetime.datetime.now()\n",
    "print(dateString,timeString)\n",
    "sys.version"
   ]
  },
  {
   "cell_type": "code",
   "execution_count": 3,
   "metadata": {
    "collapsed": true
   },
   "outputs": [],
   "source": [
    "import os\n",
    "if 'GDAL_DATA' not in os.environ:\n",
    "    os.environ['GDAL_DATA'] = r'/usr/share/gdal/2.1'\n",
    "from osgeo import gdal,ogr,osr\n",
    "'GDAL_DATA' in os.environ\n",
    "# If false, the GDAL_DATA variable is set incorrectly. You need this variable to obtain the spatial reference\n",
    "import pandas as pd\n",
    "import geopandas as gpd\n",
    "import matplotlib.pyplot as plt\n",
    "import time\n",
    "%matplotlib notebook"
   ]
  },
  {
   "cell_type": "code",
   "execution_count": 4,
   "metadata": {},
   "outputs": [
    {
     "name": "stdout",
     "output_type": "stream",
     "text": [
      "rm: cannot remove '/volumes/data/Y2017M08D25_RH_spatial_join_FAONames_V01/input_V07': No such file or directory\n",
      "rm: cannot remove '/volumes/data/Y2017M08D25_RH_spatial_join_FAONames_V01/output_V07': No such file or directory\n"
     ]
    }
   ],
   "source": [
    "!rm -r {ec2_input_path}\n",
    "!rm -r {ec2_output_path}\n",
    "\n",
    "!mkdir -p {ec2_input_path}\n",
    "!mkdir -p {ec2_output_path}"
   ]
  },
  {
   "cell_type": "code",
   "execution_count": 5,
   "metadata": {},
   "outputs": [
    {
     "name": "stdout",
     "output_type": "stream",
     "text": [
      "download: s3://wri-projects/Aqueduct30/processData/Y2017M08D23_RH_Buffer_FAONames_V01/output_V02/hydrobasins_fao_fiona_merged_buffered_v01.cpg to ../../../../data/Y2017M08D25_RH_spatial_join_FAONames_V01/input_V07/hydrobasins_fao_fiona_merged_buffered_v01.cpg\n",
      "download: s3://wri-projects/Aqueduct30/processData/Y2017M08D23_RH_Buffer_FAONames_V01/output_V02/hydrobasins_fao_fiona_merged_buffered_v01.prj to ../../../../data/Y2017M08D25_RH_spatial_join_FAONames_V01/input_V07/hydrobasins_fao_fiona_merged_buffered_v01.prj\n",
      "download: s3://wri-projects/Aqueduct30/processData/Y2017M08D23_RH_Buffer_FAONames_V01/output_V02/hydrobasins_fao_fiona_merged_buffered_v01.shx to ../../../../data/Y2017M08D25_RH_spatial_join_FAONames_V01/input_V07/hydrobasins_fao_fiona_merged_buffered_v01.shx\n",
      "download: s3://wri-projects/Aqueduct30/processData/Y2017M08D23_RH_Buffer_FAONames_V01/output_V02/hydrobasins_fao_fiona_merged_buffered_v01.dbf to ../../../../data/Y2017M08D25_RH_spatial_join_FAONames_V01/input_V07/hydrobasins_fao_fiona_merged_buffered_v01.dbf\n",
      "download: s3://wri-projects/Aqueduct30/processData/Y2017M08D23_RH_Buffer_FAONames_V01/output_V02/hydrobasins_fao_fiona_merged_buffered_v01.shp to ../../../../data/Y2017M08D25_RH_spatial_join_FAONames_V01/input_V07/hydrobasins_fao_fiona_merged_buffered_v01.shp\n"
     ]
    }
   ],
   "source": [
    "!aws s3 cp {S3_INPUT_PATH_FAO} {ec2_input_path} --recursive "
   ]
  },
  {
   "cell_type": "code",
   "execution_count": 6,
   "metadata": {},
   "outputs": [
    {
     "name": "stdout",
     "output_type": "stream",
     "text": [
      "download: s3://wri-projects/Aqueduct30/processData/Y2017M08D02_RH_Merge_HydroBasins_V02/output_V04/hybas_lev00_v1c_merged_fiona_V04.cpg to ../../../../data/Y2017M08D25_RH_spatial_join_FAONames_V01/input_V07/hybas_lev00_v1c_merged_fiona_V04.cpg\n",
      "download: s3://wri-projects/Aqueduct30/processData/Y2017M08D02_RH_Merge_HydroBasins_V02/output_V04/hybas_lev06_v1c_merged_fiona_V04.prj to ../../../../data/Y2017M08D25_RH_spatial_join_FAONames_V01/input_V07/hybas_lev06_v1c_merged_fiona_V04.prj\n",
      "download: s3://wri-projects/Aqueduct30/processData/Y2017M08D02_RH_Merge_HydroBasins_V02/output_V04/hybas_lev00_v1c_merged_fiona_V04.prj to ../../../../data/Y2017M08D25_RH_spatial_join_FAONames_V01/input_V07/hybas_lev00_v1c_merged_fiona_V04.prj\n",
      "download: s3://wri-projects/Aqueduct30/processData/Y2017M08D02_RH_Merge_HydroBasins_V02/output_V04/hybas_lev06_v1c_merged_fiona_V04.cpg to ../../../../data/Y2017M08D25_RH_spatial_join_FAONames_V01/input_V07/hybas_lev06_v1c_merged_fiona_V04.cpg\n",
      "download: s3://wri-projects/Aqueduct30/processData/Y2017M08D02_RH_Merge_HydroBasins_V02/output_V04/hybas_lev06_v1c_merged_fiona_V04.shx to ../../../../data/Y2017M08D25_RH_spatial_join_FAONames_V01/input_V07/hybas_lev06_v1c_merged_fiona_V04.shx\n",
      "download: s3://wri-projects/Aqueduct30/processData/Y2017M08D02_RH_Merge_HydroBasins_V02/output_V04/hybas_lev06_v1c_merged_fiona_V04.dbf to ../../../../data/Y2017M08D25_RH_spatial_join_FAONames_V01/input_V07/hybas_lev06_v1c_merged_fiona_V04.dbf\n",
      "download: s3://wri-projects/Aqueduct30/processData/Y2017M08D02_RH_Merge_HydroBasins_V02/output_V04/hybas_lev00_v1c_merged_fiona_V04.shx to ../../../../data/Y2017M08D25_RH_spatial_join_FAONames_V01/input_V07/hybas_lev00_v1c_merged_fiona_V04.shx\n",
      "download: s3://wri-projects/Aqueduct30/processData/Y2017M08D02_RH_Merge_HydroBasins_V02/output_V04/hybas_lev06_v1c_merged_fiona_V04.shp to ../../../../data/Y2017M08D25_RH_spatial_join_FAONames_V01/input_V07/hybas_lev06_v1c_merged_fiona_V04.shp\n",
      "download: s3://wri-projects/Aqueduct30/processData/Y2017M08D02_RH_Merge_HydroBasins_V02/output_V04/hybas_lev00_v1c_merged_fiona_V04.dbf to ../../../../data/Y2017M08D25_RH_spatial_join_FAONames_V01/input_V07/hybas_lev00_v1c_merged_fiona_V04.dbf\n",
      "download: s3://wri-projects/Aqueduct30/processData/Y2017M08D02_RH_Merge_HydroBasins_V02/output_V04/hybas_lev00_v1c_merged_fiona_V04.shp to ../../../../data/Y2017M08D25_RH_spatial_join_FAONames_V01/input_V07/hybas_lev00_v1c_merged_fiona_V04.shp\n"
     ]
    }
   ],
   "source": [
    "!aws s3 cp {S3_INPUT_PATH_HYBAS} {ec2_input_path} --recursive --exclude *.tif"
   ]
  },
  {
   "cell_type": "code",
   "execution_count": 7,
   "metadata": {
    "collapsed": true
   },
   "outputs": [],
   "source": [
    "gdfFAO = gpd.read_file(os.path.join(ec2_input_path,INPUT_FILE_NAME_FAO))"
   ]
  },
  {
   "cell_type": "code",
   "execution_count": 8,
   "metadata": {},
   "outputs": [
    {
     "data": {
      "text/plain": [
       "['area',\n",
       " 'SUB_BAS',\n",
       " 'TO_BAS',\n",
       " 'MAJ_BAS',\n",
       " 'SUB_NAME',\n",
       " 'MAJ_NAME',\n",
       " 'SUB_AREA',\n",
       " 'MAJ_AREA',\n",
       " 'LEGEND',\n",
       " 'index1',\n",
       " 'geometry']"
      ]
     },
     "execution_count": 8,
     "metadata": {},
     "output_type": "execute_result"
    }
   ],
   "source": [
    "list(gdfFAO)"
   ]
  },
  {
   "cell_type": "code",
   "execution_count": 9,
   "metadata": {},
   "outputs": [],
   "source": [
    "gdfHybas = gpd.read_file(os.path.join(ec2_input_path,INPUT_FILE_NAME_HYBAS))"
   ]
  },
  {
   "cell_type": "code",
   "execution_count": 10,
   "metadata": {},
   "outputs": [
    {
     "data": {
      "text/plain": [
       "['HYBAS_ID',\n",
       " 'NEXT_DOWN',\n",
       " 'NEXT_SINK',\n",
       " 'MAIN_BAS',\n",
       " 'DIST_SINK',\n",
       " 'DIST_MAIN',\n",
       " 'SUB_AREA',\n",
       " 'UP_AREA',\n",
       " 'PFAF_ID',\n",
       " 'ENDO',\n",
       " 'COAST',\n",
       " 'ORDER',\n",
       " 'SORT',\n",
       " 'geometry']"
      ]
     },
     "execution_count": 10,
     "metadata": {},
     "output_type": "execute_result"
    }
   ],
   "source": [
    "list(gdfHybas)"
   ]
  },
  {
   "cell_type": "code",
   "execution_count": 11,
   "metadata": {},
   "outputs": [
    {
     "data": {
      "text/plain": [
       "HYBAS_ID       int64\n",
       "NEXT_DOWN      int64\n",
       "NEXT_SINK      int64\n",
       "MAIN_BAS       int64\n",
       "DIST_SINK    float64\n",
       "DIST_MAIN    float64\n",
       "SUB_AREA     float64\n",
       "UP_AREA      float64\n",
       "PFAF_ID        int64\n",
       "ENDO           int64\n",
       "COAST          int64\n",
       "ORDER          int64\n",
       "SORT           int64\n",
       "geometry      object\n",
       "dtype: object"
      ]
     },
     "execution_count": 11,
     "metadata": {},
     "output_type": "execute_result"
    }
   ],
   "source": [
    "gdfHybas.dtypes"
   ]
  },
  {
   "cell_type": "code",
   "execution_count": 12,
   "metadata": {},
   "outputs": [
    {
     "data": {
      "text/plain": [
       "area        float64\n",
       "SUB_BAS       int64\n",
       "TO_BAS        int64\n",
       "MAJ_BAS       int64\n",
       "SUB_NAME     object\n",
       "MAJ_NAME     object\n",
       "SUB_AREA      int64\n",
       "MAJ_AREA      int64\n",
       "LEGEND        int64\n",
       "index1        int64\n",
       "geometry     object\n",
       "dtype: object"
      ]
     },
     "execution_count": 12,
     "metadata": {},
     "output_type": "execute_result"
    }
   ],
   "source": [
    "gdfFAO.dtypes"
   ]
  },
  {
   "cell_type": "code",
   "execution_count": 13,
   "metadata": {
    "collapsed": true
   },
   "outputs": [],
   "source": [
    "gdfFAO['index1_copy'] = gdfFAO['index1']"
   ]
  },
  {
   "cell_type": "code",
   "execution_count": 14,
   "metadata": {
    "collapsed": true
   },
   "outputs": [],
   "source": [
    "gdfFAO = gdfFAO.set_index('index1')"
   ]
  },
  {
   "cell_type": "code",
   "execution_count": 15,
   "metadata": {},
   "outputs": [
    {
     "data": {
      "text/plain": [
       "'index1'"
      ]
     },
     "execution_count": 15,
     "metadata": {},
     "output_type": "execute_result"
    }
   ],
   "source": [
    "gdfFAO.index.name"
   ]
  },
  {
   "cell_type": "markdown",
   "metadata": {},
   "source": [
    "A spatial join was performed on the data. However the FAO polygons were stored as polygons and not as multi-polygons. The data also lacked a unique Identifier. The identifier consists of a combination of MAJ_BAS and SUB_BASE. The maximum length of MAJ_BAS is 4 and 6 for SUB_BAS (279252). We will store the identifier as a string with the format: MAJ_BASxxxxSUB_BASxxxxxxx (4,7)"
   ]
  },
  {
   "cell_type": "code",
   "execution_count": 16,
   "metadata": {
    "collapsed": true
   },
   "outputs": [],
   "source": [
    "gdfFAO['FAOid'] = gdfFAO.apply(lambda x:'MAJ_BAS_%0.4d_SUB_BAS_%0.7d' % (x['MAJ_BAS'],x['SUB_BAS']),axis=1)"
   ]
  },
  {
   "cell_type": "code",
   "execution_count": 17,
   "metadata": {},
   "outputs": [
    {
     "data": {
      "text/plain": [
       "'index1'"
      ]
     },
     "execution_count": 17,
     "metadata": {},
     "output_type": "execute_result"
    }
   ],
   "source": [
    "gdfFAO.index.name"
   ]
  },
  {
   "cell_type": "code",
   "execution_count": 18,
   "metadata": {
    "collapsed": true
   },
   "outputs": [],
   "source": [
    "dfFAO = gdfFAO.drop('geometry',1)"
   ]
  },
  {
   "cell_type": "code",
   "execution_count": 19,
   "metadata": {},
   "outputs": [
    {
     "data": {
      "text/html": [
       "<div>\n",
       "<style scoped>\n",
       "    .dataframe tbody tr th:only-of-type {\n",
       "        vertical-align: middle;\n",
       "    }\n",
       "\n",
       "    .dataframe tbody tr th {\n",
       "        vertical-align: top;\n",
       "    }\n",
       "\n",
       "    .dataframe thead th {\n",
       "        text-align: right;\n",
       "    }\n",
       "</style>\n",
       "<table border=\"1\" class=\"dataframe\">\n",
       "  <thead>\n",
       "    <tr style=\"text-align: right;\">\n",
       "      <th></th>\n",
       "      <th>area</th>\n",
       "      <th>SUB_BAS</th>\n",
       "      <th>TO_BAS</th>\n",
       "      <th>MAJ_BAS</th>\n",
       "      <th>SUB_NAME</th>\n",
       "      <th>MAJ_NAME</th>\n",
       "      <th>SUB_AREA</th>\n",
       "      <th>MAJ_AREA</th>\n",
       "      <th>LEGEND</th>\n",
       "      <th>index1_copy</th>\n",
       "      <th>FAOid</th>\n",
       "    </tr>\n",
       "    <tr>\n",
       "      <th>index1</th>\n",
       "      <th></th>\n",
       "      <th></th>\n",
       "      <th></th>\n",
       "      <th></th>\n",
       "      <th></th>\n",
       "      <th></th>\n",
       "      <th></th>\n",
       "      <th></th>\n",
       "      <th></th>\n",
       "      <th></th>\n",
       "      <th></th>\n",
       "    </tr>\n",
       "  </thead>\n",
       "  <tbody>\n",
       "    <tr>\n",
       "      <th>0</th>\n",
       "      <td>12.432765</td>\n",
       "      <td>1001</td>\n",
       "      <td>1019</td>\n",
       "      <td>5001</td>\n",
       "      <td>Herlen Gol /  Hulun Nur</td>\n",
       "      <td>Amur</td>\n",
       "      <td>104012</td>\n",
       "      <td>2086009</td>\n",
       "      <td>1</td>\n",
       "      <td>0</td>\n",
       "      <td>MAJ_BAS_5001_SUB_BAS_0001001</td>\n",
       "    </tr>\n",
       "    <tr>\n",
       "      <th>1</th>\n",
       "      <td>7.367752</td>\n",
       "      <td>1002</td>\n",
       "      <td>1006</td>\n",
       "      <td>5001</td>\n",
       "      <td>Onon</td>\n",
       "      <td>Amur</td>\n",
       "      <td>59873</td>\n",
       "      <td>2086009</td>\n",
       "      <td>1</td>\n",
       "      <td>1</td>\n",
       "      <td>MAJ_BAS_5001_SUB_BAS_0001002</td>\n",
       "    </tr>\n",
       "    <tr>\n",
       "      <th>2</th>\n",
       "      <td>6.239719</td>\n",
       "      <td>1003</td>\n",
       "      <td>-888</td>\n",
       "      <td>5001</td>\n",
       "      <td>Solonchak Zun Torey / Solonchak</td>\n",
       "      <td>Amur</td>\n",
       "      <td>50635</td>\n",
       "      <td>2086009</td>\n",
       "      <td>1</td>\n",
       "      <td>2</td>\n",
       "      <td>MAJ_BAS_5001_SUB_BAS_0001003</td>\n",
       "    </tr>\n",
       "    <tr>\n",
       "      <th>3</th>\n",
       "      <td>4.837981</td>\n",
       "      <td>1004</td>\n",
       "      <td>1011</td>\n",
       "      <td>5001</td>\n",
       "      <td>Ingoda</td>\n",
       "      <td>Amur</td>\n",
       "      <td>37746</td>\n",
       "      <td>2086009</td>\n",
       "      <td>1</td>\n",
       "      <td>3</td>\n",
       "      <td>MAJ_BAS_5001_SUB_BAS_0001004</td>\n",
       "    </tr>\n",
       "    <tr>\n",
       "      <th>4</th>\n",
       "      <td>1.094161</td>\n",
       "      <td>1005</td>\n",
       "      <td>1010</td>\n",
       "      <td>5001</td>\n",
       "      <td>Aga</td>\n",
       "      <td>Amur</td>\n",
       "      <td>8627</td>\n",
       "      <td>2086009</td>\n",
       "      <td>1</td>\n",
       "      <td>4</td>\n",
       "      <td>MAJ_BAS_5001_SUB_BAS_0001005</td>\n",
       "    </tr>\n",
       "  </tbody>\n",
       "</table>\n",
       "</div>"
      ],
      "text/plain": [
       "             area  SUB_BAS  TO_BAS  MAJ_BAS                         SUB_NAME  \\\n",
       "index1                                                                         \n",
       "0       12.432765     1001    1019     5001          Herlen Gol /  Hulun Nur   \n",
       "1        7.367752     1002    1006     5001                             Onon   \n",
       "2        6.239719     1003    -888     5001  Solonchak Zun Torey / Solonchak   \n",
       "3        4.837981     1004    1011     5001                           Ingoda   \n",
       "4        1.094161     1005    1010     5001                              Aga   \n",
       "\n",
       "       MAJ_NAME  SUB_AREA  MAJ_AREA  LEGEND  index1_copy  \\\n",
       "index1                                                     \n",
       "0          Amur    104012   2086009       1            0   \n",
       "1          Amur     59873   2086009       1            1   \n",
       "2          Amur     50635   2086009       1            2   \n",
       "3          Amur     37746   2086009       1            3   \n",
       "4          Amur      8627   2086009       1            4   \n",
       "\n",
       "                               FAOid  \n",
       "index1                                \n",
       "0       MAJ_BAS_5001_SUB_BAS_0001001  \n",
       "1       MAJ_BAS_5001_SUB_BAS_0001002  \n",
       "2       MAJ_BAS_5001_SUB_BAS_0001003  \n",
       "3       MAJ_BAS_5001_SUB_BAS_0001004  \n",
       "4       MAJ_BAS_5001_SUB_BAS_0001005  "
      ]
     },
     "execution_count": 19,
     "metadata": {},
     "output_type": "execute_result"
    }
   ],
   "source": [
    "dfFAO.head()"
   ]
  },
  {
   "cell_type": "code",
   "execution_count": 20,
   "metadata": {
    "collapsed": true
   },
   "outputs": [],
   "source": [
    "gdfFAO['FAOid_copy'] = gdfFAO['FAOid']"
   ]
  },
  {
   "cell_type": "code",
   "execution_count": 21,
   "metadata": {},
   "outputs": [
    {
     "data": {
      "text/plain": [
       "'index1'"
      ]
     },
     "execution_count": 21,
     "metadata": {},
     "output_type": "execute_result"
    }
   ],
   "source": [
    "gdfFAO.index.name"
   ]
  },
  {
   "cell_type": "code",
   "execution_count": 22,
   "metadata": {},
   "outputs": [
    {
     "data": {
      "text/plain": [
       "['area',\n",
       " 'SUB_BAS',\n",
       " 'TO_BAS',\n",
       " 'MAJ_BAS',\n",
       " 'SUB_NAME',\n",
       " 'MAJ_NAME',\n",
       " 'SUB_AREA',\n",
       " 'MAJ_AREA',\n",
       " 'LEGEND',\n",
       " 'geometry',\n",
       " 'index1_copy',\n",
       " 'FAOid',\n",
       " 'FAOid_copy']"
      ]
     },
     "execution_count": 22,
     "metadata": {},
     "output_type": "execute_result"
    }
   ],
   "source": [
    "list(gdfFAO)"
   ]
  },
  {
   "cell_type": "code",
   "execution_count": 23,
   "metadata": {
    "collapsed": true
   },
   "outputs": [],
   "source": [
    "gdfFAO = gdfFAO.dissolve(by='FAOid')"
   ]
  },
  {
   "cell_type": "code",
   "execution_count": 24,
   "metadata": {},
   "outputs": [
    {
     "data": {
      "text/plain": [
       "['geometry',\n",
       " 'area',\n",
       " 'SUB_BAS',\n",
       " 'TO_BAS',\n",
       " 'MAJ_BAS',\n",
       " 'SUB_NAME',\n",
       " 'MAJ_NAME',\n",
       " 'SUB_AREA',\n",
       " 'MAJ_AREA',\n",
       " 'LEGEND',\n",
       " 'index1_copy',\n",
       " 'FAOid_copy']"
      ]
     },
     "execution_count": 24,
     "metadata": {},
     "output_type": "execute_result"
    }
   ],
   "source": [
    "list(gdfFAO)"
   ]
  },
  {
   "cell_type": "code",
   "execution_count": 25,
   "metadata": {
    "collapsed": true
   },
   "outputs": [],
   "source": [
    "dfFAO = gdfFAO.drop('geometry',1)"
   ]
  },
  {
   "cell_type": "code",
   "execution_count": 26,
   "metadata": {},
   "outputs": [
    {
     "data": {
      "text/html": [
       "<div>\n",
       "<style scoped>\n",
       "    .dataframe tbody tr th:only-of-type {\n",
       "        vertical-align: middle;\n",
       "    }\n",
       "\n",
       "    .dataframe tbody tr th {\n",
       "        vertical-align: top;\n",
       "    }\n",
       "\n",
       "    .dataframe thead th {\n",
       "        text-align: right;\n",
       "    }\n",
       "</style>\n",
       "<table border=\"1\" class=\"dataframe\">\n",
       "  <thead>\n",
       "    <tr style=\"text-align: right;\">\n",
       "      <th></th>\n",
       "      <th>area</th>\n",
       "      <th>SUB_BAS</th>\n",
       "      <th>TO_BAS</th>\n",
       "      <th>MAJ_BAS</th>\n",
       "      <th>SUB_NAME</th>\n",
       "      <th>MAJ_NAME</th>\n",
       "      <th>SUB_AREA</th>\n",
       "      <th>MAJ_AREA</th>\n",
       "      <th>LEGEND</th>\n",
       "      <th>index1_copy</th>\n",
       "      <th>FAOid_copy</th>\n",
       "    </tr>\n",
       "    <tr>\n",
       "      <th>FAOid</th>\n",
       "      <th></th>\n",
       "      <th></th>\n",
       "      <th></th>\n",
       "      <th></th>\n",
       "      <th></th>\n",
       "      <th></th>\n",
       "      <th></th>\n",
       "      <th></th>\n",
       "      <th></th>\n",
       "      <th></th>\n",
       "      <th></th>\n",
       "    </tr>\n",
       "  </thead>\n",
       "  <tbody>\n",
       "    <tr>\n",
       "      <th>MAJ_BAS_1001_SUB_BAS_0001001</th>\n",
       "      <td>0.865953</td>\n",
       "      <td>1001</td>\n",
       "      <td>1005</td>\n",
       "      <td>1001</td>\n",
       "      <td>Upper Roanoke</td>\n",
       "      <td>Gulf of Mexico, North Atlantic Coast</td>\n",
       "      <td>8689</td>\n",
       "      <td>701385</td>\n",
       "      <td>1</td>\n",
       "      <td>21235</td>\n",
       "      <td>MAJ_BAS_1001_SUB_BAS_0001001</td>\n",
       "    </tr>\n",
       "    <tr>\n",
       "      <th>MAJ_BAS_1001_SUB_BAS_0001002</th>\n",
       "      <td>0.150201</td>\n",
       "      <td>1002</td>\n",
       "      <td>1004</td>\n",
       "      <td>1001</td>\n",
       "      <td>Banister</td>\n",
       "      <td>Gulf of Mexico, North Atlantic Coast</td>\n",
       "      <td>1540</td>\n",
       "      <td>701385</td>\n",
       "      <td>1</td>\n",
       "      <td>21236</td>\n",
       "      <td>MAJ_BAS_1001_SUB_BAS_0001002</td>\n",
       "    </tr>\n",
       "    <tr>\n",
       "      <th>MAJ_BAS_1001_SUB_BAS_0001003</th>\n",
       "      <td>0.435553</td>\n",
       "      <td>1003</td>\n",
       "      <td>1004</td>\n",
       "      <td>1001</td>\n",
       "      <td>Upper Dan</td>\n",
       "      <td>Gulf of Mexico, North Atlantic Coast</td>\n",
       "      <td>4403</td>\n",
       "      <td>701385</td>\n",
       "      <td>1</td>\n",
       "      <td>21237</td>\n",
       "      <td>MAJ_BAS_1001_SUB_BAS_0001003</td>\n",
       "    </tr>\n",
       "    <tr>\n",
       "      <th>MAJ_BAS_1001_SUB_BAS_0001004</th>\n",
       "      <td>0.414318</td>\n",
       "      <td>1004</td>\n",
       "      <td>1005</td>\n",
       "      <td>1001</td>\n",
       "      <td>Lower Dan</td>\n",
       "      <td>Gulf of Mexico, North Atlantic Coast</td>\n",
       "      <td>4204</td>\n",
       "      <td>701385</td>\n",
       "      <td>1</td>\n",
       "      <td>21238</td>\n",
       "      <td>MAJ_BAS_1001_SUB_BAS_0001004</td>\n",
       "    </tr>\n",
       "    <tr>\n",
       "      <th>MAJ_BAS_1001_SUB_BAS_0001005</th>\n",
       "      <td>0.634339</td>\n",
       "      <td>1005</td>\n",
       "      <td>-999</td>\n",
       "      <td>1001</td>\n",
       "      <td>Lower Roanoke</td>\n",
       "      <td>Gulf of Mexico, North Atlantic Coast</td>\n",
       "      <td>6496</td>\n",
       "      <td>701385</td>\n",
       "      <td>1</td>\n",
       "      <td>21239</td>\n",
       "      <td>MAJ_BAS_1001_SUB_BAS_0001005</td>\n",
       "    </tr>\n",
       "  </tbody>\n",
       "</table>\n",
       "</div>"
      ],
      "text/plain": [
       "                                  area  SUB_BAS  TO_BAS  MAJ_BAS  \\\n",
       "FAOid                                                              \n",
       "MAJ_BAS_1001_SUB_BAS_0001001  0.865953     1001    1005     1001   \n",
       "MAJ_BAS_1001_SUB_BAS_0001002  0.150201     1002    1004     1001   \n",
       "MAJ_BAS_1001_SUB_BAS_0001003  0.435553     1003    1004     1001   \n",
       "MAJ_BAS_1001_SUB_BAS_0001004  0.414318     1004    1005     1001   \n",
       "MAJ_BAS_1001_SUB_BAS_0001005  0.634339     1005    -999     1001   \n",
       "\n",
       "                                   SUB_NAME  \\\n",
       "FAOid                                         \n",
       "MAJ_BAS_1001_SUB_BAS_0001001  Upper Roanoke   \n",
       "MAJ_BAS_1001_SUB_BAS_0001002       Banister   \n",
       "MAJ_BAS_1001_SUB_BAS_0001003      Upper Dan   \n",
       "MAJ_BAS_1001_SUB_BAS_0001004      Lower Dan   \n",
       "MAJ_BAS_1001_SUB_BAS_0001005  Lower Roanoke   \n",
       "\n",
       "                                                          MAJ_NAME  SUB_AREA  \\\n",
       "FAOid                                                                          \n",
       "MAJ_BAS_1001_SUB_BAS_0001001  Gulf of Mexico, North Atlantic Coast      8689   \n",
       "MAJ_BAS_1001_SUB_BAS_0001002  Gulf of Mexico, North Atlantic Coast      1540   \n",
       "MAJ_BAS_1001_SUB_BAS_0001003  Gulf of Mexico, North Atlantic Coast      4403   \n",
       "MAJ_BAS_1001_SUB_BAS_0001004  Gulf of Mexico, North Atlantic Coast      4204   \n",
       "MAJ_BAS_1001_SUB_BAS_0001005  Gulf of Mexico, North Atlantic Coast      6496   \n",
       "\n",
       "                              MAJ_AREA  LEGEND  index1_copy  \\\n",
       "FAOid                                                         \n",
       "MAJ_BAS_1001_SUB_BAS_0001001    701385       1        21235   \n",
       "MAJ_BAS_1001_SUB_BAS_0001002    701385       1        21236   \n",
       "MAJ_BAS_1001_SUB_BAS_0001003    701385       1        21237   \n",
       "MAJ_BAS_1001_SUB_BAS_0001004    701385       1        21238   \n",
       "MAJ_BAS_1001_SUB_BAS_0001005    701385       1        21239   \n",
       "\n",
       "                                                FAOid_copy  \n",
       "FAOid                                                       \n",
       "MAJ_BAS_1001_SUB_BAS_0001001  MAJ_BAS_1001_SUB_BAS_0001001  \n",
       "MAJ_BAS_1001_SUB_BAS_0001002  MAJ_BAS_1001_SUB_BAS_0001002  \n",
       "MAJ_BAS_1001_SUB_BAS_0001003  MAJ_BAS_1001_SUB_BAS_0001003  \n",
       "MAJ_BAS_1001_SUB_BAS_0001004  MAJ_BAS_1001_SUB_BAS_0001004  \n",
       "MAJ_BAS_1001_SUB_BAS_0001005  MAJ_BAS_1001_SUB_BAS_0001005  "
      ]
     },
     "execution_count": 26,
     "metadata": {},
     "output_type": "execute_result"
    }
   ],
   "source": [
    "dfFAO.head()"
   ]
  },
  {
   "cell_type": "code",
   "execution_count": 27,
   "metadata": {
    "collapsed": true
   },
   "outputs": [],
   "source": [
    "validGeom = gdfFAO.geometry.is_valid"
   ]
  },
  {
   "cell_type": "code",
   "execution_count": 28,
   "metadata": {
    "collapsed": true
   },
   "outputs": [],
   "source": [
    "gdfFAO.crs = {'init': u'epsg:4326'}"
   ]
  },
  {
   "cell_type": "code",
   "execution_count": 29,
   "metadata": {
    "collapsed": true
   },
   "outputs": [],
   "source": [
    "gdfFAO = gdfFAO.set_index('index1_copy')"
   ]
  },
  {
   "cell_type": "code",
   "execution_count": 30,
   "metadata": {
    "collapsed": true
   },
   "outputs": [],
   "source": [
    "gdfJoined = gpd.sjoin(gdfHybas, gdfFAO ,how=\"left\", op='intersects')"
   ]
  },
  {
   "cell_type": "code",
   "execution_count": 31,
   "metadata": {},
   "outputs": [
    {
     "data": {
      "text/plain": [
       "(24078, 25)"
      ]
     },
     "execution_count": 31,
     "metadata": {},
     "output_type": "execute_result"
    }
   ],
   "source": [
    "gdfJoined.shape"
   ]
  },
  {
   "cell_type": "code",
   "execution_count": 32,
   "metadata": {
    "collapsed": true
   },
   "outputs": [],
   "source": [
    "series = gdfJoined.groupby('PFAF_ID')['SUB_NAME'].apply(list)\n",
    "series2 = gdfJoined.groupby('PFAF_ID')['MAJ_NAME'].apply(list)\n",
    "series3 = gdfJoined.groupby('PFAF_ID')['FAOid_copy'].apply(list)"
   ]
  },
  {
   "cell_type": "code",
   "execution_count": 33,
   "metadata": {
    "collapsed": true
   },
   "outputs": [],
   "source": [
    "df_new1 = series.to_frame()\n",
    "df_new2 = series2.to_frame()\n",
    "df_new3 = series3.to_frame()"
   ]
  },
  {
   "cell_type": "code",
   "execution_count": 34,
   "metadata": {},
   "outputs": [
    {
     "data": {
      "text/html": [
       "<div>\n",
       "<style scoped>\n",
       "    .dataframe tbody tr th:only-of-type {\n",
       "        vertical-align: middle;\n",
       "    }\n",
       "\n",
       "    .dataframe tbody tr th {\n",
       "        vertical-align: top;\n",
       "    }\n",
       "\n",
       "    .dataframe thead th {\n",
       "        text-align: right;\n",
       "    }\n",
       "</style>\n",
       "<table border=\"1\" class=\"dataframe\">\n",
       "  <thead>\n",
       "    <tr style=\"text-align: right;\">\n",
       "      <th></th>\n",
       "      <th>SUB_NAME</th>\n",
       "    </tr>\n",
       "    <tr>\n",
       "      <th>PFAF_ID</th>\n",
       "      <th></th>\n",
       "    </tr>\n",
       "  </thead>\n",
       "  <tbody>\n",
       "    <tr>\n",
       "      <th>111011</th>\n",
       "      <td>[Wadi El Naqa]</td>\n",
       "    </tr>\n",
       "    <tr>\n",
       "      <th>111012</th>\n",
       "      <td>[Egyptian east coast]</td>\n",
       "    </tr>\n",
       "    <tr>\n",
       "      <th>111013</th>\n",
       "      <td>[Egyptian east coast]</td>\n",
       "    </tr>\n",
       "    <tr>\n",
       "      <th>111014</th>\n",
       "      <td>[Egyptian east coast]</td>\n",
       "    </tr>\n",
       "    <tr>\n",
       "      <th>111015</th>\n",
       "      <td>[Egyptian east coast]</td>\n",
       "    </tr>\n",
       "  </tbody>\n",
       "</table>\n",
       "</div>"
      ],
      "text/plain": [
       "                      SUB_NAME\n",
       "PFAF_ID                       \n",
       "111011          [Wadi El Naqa]\n",
       "111012   [Egyptian east coast]\n",
       "111013   [Egyptian east coast]\n",
       "111014   [Egyptian east coast]\n",
       "111015   [Egyptian east coast]"
      ]
     },
     "execution_count": 34,
     "metadata": {},
     "output_type": "execute_result"
    }
   ],
   "source": [
    "df_new1.head()"
   ]
  },
  {
   "cell_type": "code",
   "execution_count": 35,
   "metadata": {
    "collapsed": true
   },
   "outputs": [],
   "source": [
    "df_out = df_new1.merge(right = df_new2, how = \"outer\", left_index = True, right_index = True )"
   ]
  },
  {
   "cell_type": "code",
   "execution_count": 36,
   "metadata": {
    "collapsed": true
   },
   "outputs": [],
   "source": [
    "df_out = df_out.merge(right = df_new3, how = \"outer\", left_index = True, right_index = True )"
   ]
  },
  {
   "cell_type": "code",
   "execution_count": 37,
   "metadata": {},
   "outputs": [
    {
     "data": {
      "text/plain": [
       "SUB_NAME      object\n",
       "MAJ_NAME      object\n",
       "FAOid_copy    object\n",
       "dtype: object"
      ]
     },
     "execution_count": 37,
     "metadata": {},
     "output_type": "execute_result"
    }
   ],
   "source": [
    "df_out.dtypes"
   ]
  },
  {
   "cell_type": "code",
   "execution_count": 38,
   "metadata": {
    "collapsed": true
   },
   "outputs": [],
   "source": [
    "df_out.to_csv(os.path.join(ec2_output_path,OUTPUT_FILE_NAME+\".csv\"),encoding=\"UTF-8\")"
   ]
  },
  {
   "cell_type": "code",
   "execution_count": 39,
   "metadata": {
    "collapsed": true
   },
   "outputs": [],
   "source": [
    "df_out.to_pickle(os.path.join(ec2_output_path,OUTPUT_FILE_NAME+\".pkl\"))"
   ]
  },
  {
   "cell_type": "markdown",
   "metadata": {},
   "source": [
    "## Linking table"
   ]
  },
  {
   "cell_type": "code",
   "execution_count": 40,
   "metadata": {
    "collapsed": true
   },
   "outputs": [],
   "source": [
    "df_link = gdfJoined[[\"PFAF_ID\",\"FAOid_copy\"]]"
   ]
  },
  {
   "cell_type": "code",
   "execution_count": 41,
   "metadata": {},
   "outputs": [
    {
     "name": "stdout",
     "output_type": "stream",
     "text": [
      "/volumes/data/Y2017M08D25_RH_spatial_join_FAONames_V01/output_V07/hybas_lev06_v1c_merged_fiona_withFAO_V07.csv\n"
     ]
    }
   ],
   "source": [
    "print(os.path.join(ec2_output_path,OUTPUT_FILE_NAME+\".csv\"))"
   ]
  },
  {
   "cell_type": "code",
   "execution_count": 42,
   "metadata": {
    "collapsed": true
   },
   "outputs": [],
   "source": [
    "df_link.to_csv(os.path.join(ec2_output_path,OUTPUT_FILE_NAME+\"_link.csv\"),encoding=\"UTF-8\")"
   ]
  },
  {
   "cell_type": "code",
   "execution_count": 43,
   "metadata": {
    "collapsed": true
   },
   "outputs": [],
   "source": [
    "df_link.to_pickle(os.path.join(ec2_output_path,OUTPUT_FILE_NAME+\"_link.pkl\"))"
   ]
  },
  {
   "cell_type": "code",
   "execution_count": 44,
   "metadata": {},
   "outputs": [
    {
     "data": {
      "text/html": [
       "<div>\n",
       "<style scoped>\n",
       "    .dataframe tbody tr th:only-of-type {\n",
       "        vertical-align: middle;\n",
       "    }\n",
       "\n",
       "    .dataframe tbody tr th {\n",
       "        vertical-align: top;\n",
       "    }\n",
       "\n",
       "    .dataframe thead th {\n",
       "        text-align: right;\n",
       "    }\n",
       "</style>\n",
       "<table border=\"1\" class=\"dataframe\">\n",
       "  <thead>\n",
       "    <tr style=\"text-align: right;\">\n",
       "      <th></th>\n",
       "      <th>PFAF_ID</th>\n",
       "      <th>FAOid_copy</th>\n",
       "    </tr>\n",
       "  </thead>\n",
       "  <tbody>\n",
       "    <tr>\n",
       "      <th>0</th>\n",
       "      <td>811101</td>\n",
       "      <td>MAJ_BAS_1010_SUB_BAS_0010075</td>\n",
       "    </tr>\n",
       "    <tr>\n",
       "      <th>1</th>\n",
       "      <td>811102</td>\n",
       "      <td>MAJ_BAS_1010_SUB_BAS_0010075</td>\n",
       "    </tr>\n",
       "    <tr>\n",
       "      <th>1</th>\n",
       "      <td>811102</td>\n",
       "      <td>MAJ_BAS_1010_SUB_BAS_0010085</td>\n",
       "    </tr>\n",
       "    <tr>\n",
       "      <th>1</th>\n",
       "      <td>811102</td>\n",
       "      <td>MAJ_BAS_1010_SUB_BAS_0010088</td>\n",
       "    </tr>\n",
       "    <tr>\n",
       "      <th>2</th>\n",
       "      <td>811103</td>\n",
       "      <td>MAJ_BAS_1010_SUB_BAS_0010075</td>\n",
       "    </tr>\n",
       "  </tbody>\n",
       "</table>\n",
       "</div>"
      ],
      "text/plain": [
       "   PFAF_ID                    FAOid_copy\n",
       "0   811101  MAJ_BAS_1010_SUB_BAS_0010075\n",
       "1   811102  MAJ_BAS_1010_SUB_BAS_0010075\n",
       "1   811102  MAJ_BAS_1010_SUB_BAS_0010085\n",
       "1   811102  MAJ_BAS_1010_SUB_BAS_0010088\n",
       "2   811103  MAJ_BAS_1010_SUB_BAS_0010075"
      ]
     },
     "execution_count": 44,
     "metadata": {},
     "output_type": "execute_result"
    }
   ],
   "source": [
    "df_link.head()"
   ]
  },
  {
   "cell_type": "code",
   "execution_count": 45,
   "metadata": {},
   "outputs": [
    {
     "name": "stdout",
     "output_type": "stream",
     "text": [
      "upload: ../../../../data/Y2017M08D25_RH_spatial_join_FAONames_V01/output_V07/hybas_lev06_v1c_merged_fiona_withFAO_V07_link.pkl to s3://wri-projects/Aqueduct30/processData/Y2017M08D25_RH_spatial_join_FAONames_V01/output_V07/hybas_lev06_v1c_merged_fiona_withFAO_V07_link.pkl\n",
      "upload: ../../../../data/Y2017M08D25_RH_spatial_join_FAONames_V01/output_V07/hybas_lev06_v1c_merged_fiona_withFAO_V07_link.csv to s3://wri-projects/Aqueduct30/processData/Y2017M08D25_RH_spatial_join_FAONames_V01/output_V07/hybas_lev06_v1c_merged_fiona_withFAO_V07_link.csv\n",
      "upload: ../../../../data/Y2017M08D25_RH_spatial_join_FAONames_V01/output_V07/hybas_lev06_v1c_merged_fiona_withFAO_V07.csv to s3://wri-projects/Aqueduct30/processData/Y2017M08D25_RH_spatial_join_FAONames_V01/output_V07/hybas_lev06_v1c_merged_fiona_withFAO_V07.csv\n",
      "upload: ../../../../data/Y2017M08D25_RH_spatial_join_FAONames_V01/output_V07/hybas_lev06_v1c_merged_fiona_withFAO_V07.pkl to s3://wri-projects/Aqueduct30/processData/Y2017M08D25_RH_spatial_join_FAONames_V01/output_V07/hybas_lev06_v1c_merged_fiona_withFAO_V07.pkl\n"
     ]
    }
   ],
   "source": [
    "!aws s3 cp {ec2_output_path} {s3_output_path} --recursive"
   ]
  },
  {
   "cell_type": "code",
   "execution_count": 46,
   "metadata": {},
   "outputs": [
    {
     "name": "stdout",
     "output_type": "stream",
     "text": [
      "0:06:58.588292\n"
     ]
    }
   ],
   "source": [
    "end = datetime.datetime.now()\n",
    "elapsed = end - start\n",
    "print(elapsed)"
   ]
  },
  {
   "cell_type": "markdown",
   "metadata": {
    "collapsed": true
   },
   "source": [
    "Previous Runs:  \n",
    "0:06:43.013521"
   ]
  },
  {
   "cell_type": "code",
   "execution_count": null,
   "metadata": {
    "collapsed": true
   },
   "outputs": [],
   "source": []
  }
 ],
 "metadata": {
  "kernelspec": {
   "display_name": "Python 35",
   "language": "python",
   "name": "python35"
  },
  "language_info": {
   "codemirror_mode": {
    "name": "ipython",
    "version": 3
   },
   "file_extension": ".py",
   "mimetype": "text/x-python",
   "name": "python",
   "nbconvert_exporter": "python",
   "pygments_lexer": "ipython3",
   "version": "3.5.4"
  }
 },
 "nbformat": 4,
 "nbformat_minor": 2
}
