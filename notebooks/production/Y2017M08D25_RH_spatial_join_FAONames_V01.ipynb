{
 "cells": [
  {
   "cell_type": "markdown",
   "metadata": {},
   "source": [
    "### Spatially Join FAO Names to hydrobasins level 6\n",
    "\n",
    "* Purpose of script: Spatially join FAO Names hydrobasins to the official HydroBasins level 6 polygons\n",
    "* Author: Rutger Hofste\n",
    "* Kernel used: python35\n",
    "* Date created: 20170825"
   ]
  },
  {
   "cell_type": "code",
   "execution_count": 1,
   "metadata": {
    "collapsed": true
   },
   "outputs": [],
   "source": [
    "S3_INPUT_PATH_FAO = \"s3://wri-projects/Aqueduct30/processData/Y2017M08D23_RH_Buffer_FAONames_V01/output/\"\n",
    "S3_INPUT_PATH_HYBAS = \"s3://wri-projects/Aqueduct30/processData/Y2017M08D02_RH_Merge_HydroBasins_V01/output/\"\n",
    "S3_OUTPUT_PATH = \"s3://wri-projects/Aqueduct30/processData/Y2017M08D25_RH_spatial_join_FAONames_V01/output/\"\n",
    "EC2_INPUT_PATH = \"/volumes/data/Y2017M08D25_RH_spatial_join_FAONames_V01/input/\"\n",
    "EC2_OUTPUT_PATH = \"/volumes/data/Y2017M08D25_RH_spatial_join_FAONames_V01/output/\"\n",
    "INPUT_FILE_NAME_FAO = \"hydrobasins_fao_fiona_merged_buffered_v01.shp\"\n",
    "INPUT_FILE_NAME_HYBAS = \"hybas_lev06_v1c_merged_fiona_V01.shp\"\n",
    "OUTPUT_FILE_NAME = \"hybas_lev06_v1c_merged_fiona_withFAO_V02.csv\""
   ]
  },
  {
   "cell_type": "code",
   "execution_count": 2,
   "metadata": {},
   "outputs": [
    {
     "name": "stdout",
     "output_type": "stream",
     "text": [
      "rm: cannot remove '/volumes/data/Y2017M08D25_RH_spatial_join_FAONames_V01/input/': No such file or directory\n",
      "rm: cannot remove '/volumes/data/Y2017M08D25_RH_spatial_join_FAONames_V01/output/': No such file or directory\n"
     ]
    }
   ],
   "source": [
    "!rm -r {EC2_INPUT_PATH}\n",
    "!rm -r {EC2_OUTPUT_PATH}\n",
    "\n",
    "!mkdir -p {EC2_INPUT_PATH}\n",
    "!mkdir -p {EC2_OUTPUT_PATH}"
   ]
  },
  {
   "cell_type": "code",
   "execution_count": 3,
   "metadata": {},
   "outputs": [
    {
     "name": "stdout",
     "output_type": "stream",
     "text": [
      "download: s3://wri-projects/Aqueduct30/processData/Y2017M08D23_RH_Buffer_FAONames_V01/output/hydrobasins_fao_fiona_merged_buffered_v01.cpg to ../../../../data/Y2017M08D25_RH_spatial_join_FAONames_V01/input/hydrobasins_fao_fiona_merged_buffered_v01.cpg\n",
      "download: s3://wri-projects/Aqueduct30/processData/Y2017M08D23_RH_Buffer_FAONames_V01/output/hydrobasins_fao_fiona_merged_buffered_v01.prj to ../../../../data/Y2017M08D25_RH_spatial_join_FAONames_V01/input/hydrobasins_fao_fiona_merged_buffered_v01.prj\n",
      "download: s3://wri-projects/Aqueduct30/processData/Y2017M08D23_RH_Buffer_FAONames_V01/output/hydrobasins_fao_fiona_merged_buffered_v01.shx to ../../../../data/Y2017M08D25_RH_spatial_join_FAONames_V01/input/hydrobasins_fao_fiona_merged_buffered_v01.shx\n",
      "download: s3://wri-projects/Aqueduct30/processData/Y2017M08D23_RH_Buffer_FAONames_V01/output/hydrobasins_fao_fiona_merged_buffered_v01.dbf to ../../../../data/Y2017M08D25_RH_spatial_join_FAONames_V01/input/hydrobasins_fao_fiona_merged_buffered_v01.dbf\n",
      "download: s3://wri-projects/Aqueduct30/processData/Y2017M08D23_RH_Buffer_FAONames_V01/output/hydrobasins_fao_fiona_merged_buffered_v01.shp to ../../../../data/Y2017M08D25_RH_spatial_join_FAONames_V01/input/hydrobasins_fao_fiona_merged_buffered_v01.shp\n"
     ]
    }
   ],
   "source": [
    "!aws s3 cp {S3_INPUT_PATH_FAO} {EC2_INPUT_PATH} --recursive "
   ]
  },
  {
   "cell_type": "code",
   "execution_count": 4,
   "metadata": {},
   "outputs": [
    {
     "name": "stdout",
     "output_type": "stream",
     "text": [
      "download: s3://wri-projects/Aqueduct30/processData/Y2017M08D02_RH_Merge_HydroBasins_V01/output/hybas_lev06_v1c_merged_fiona_V01.cpg to ../../../../data/Y2017M08D25_RH_spatial_join_FAONames_V01/input/hybas_lev06_v1c_merged_fiona_V01.cpg\n",
      "download: s3://wri-projects/Aqueduct30/processData/Y2017M08D02_RH_Merge_HydroBasins_V01/output/hybas_lev00_v1c_merged_fiona_V01.cpg to ../../../../data/Y2017M08D25_RH_spatial_join_FAONames_V01/input/hybas_lev00_v1c_merged_fiona_V01.cpg\n",
      "download: s3://wri-projects/Aqueduct30/processData/Y2017M08D02_RH_Merge_HydroBasins_V01/output/hybas_lev00_v1c_merged_fiona_V01.prj to ../../../../data/Y2017M08D25_RH_spatial_join_FAONames_V01/input/hybas_lev00_v1c_merged_fiona_V01.prj\n",
      "download: s3://wri-projects/Aqueduct30/processData/Y2017M08D02_RH_Merge_HydroBasins_V01/output/hybas_lev06_v1c_merged_fiona_V01.prj to ../../../../data/Y2017M08D25_RH_spatial_join_FAONames_V01/input/hybas_lev06_v1c_merged_fiona_V01.prj\n",
      "download: s3://wri-projects/Aqueduct30/processData/Y2017M08D02_RH_Merge_HydroBasins_V01/output/hybas_lev06_v1c_merged_fiona_V01.shx to ../../../../data/Y2017M08D25_RH_spatial_join_FAONames_V01/input/hybas_lev06_v1c_merged_fiona_V01.shx\n",
      "download: s3://wri-projects/Aqueduct30/processData/Y2017M08D02_RH_Merge_HydroBasins_V01/output/hybas_lev06_v1c_merged_fiona_V01.dbf to ../../../../data/Y2017M08D25_RH_spatial_join_FAONames_V01/input/hybas_lev06_v1c_merged_fiona_V01.dbf\n",
      "download: s3://wri-projects/Aqueduct30/processData/Y2017M08D02_RH_Merge_HydroBasins_V01/output/hybas_lev00_v1c_merged_fiona_V01.shx to ../../../../data/Y2017M08D25_RH_spatial_join_FAONames_V01/input/hybas_lev00_v1c_merged_fiona_V01.shx\n",
      "download: s3://wri-projects/Aqueduct30/processData/Y2017M08D02_RH_Merge_HydroBasins_V01/output/hybas_lev06_v1c_merged_fiona_V01.shp to ../../../../data/Y2017M08D25_RH_spatial_join_FAONames_V01/input/hybas_lev06_v1c_merged_fiona_V01.shp\n",
      "download: s3://wri-projects/Aqueduct30/processData/Y2017M08D02_RH_Merge_HydroBasins_V01/output/hybas_lev00_v1c_merged_fiona_V01.dbf to ../../../../data/Y2017M08D25_RH_spatial_join_FAONames_V01/input/hybas_lev00_v1c_merged_fiona_V01.dbf\n",
      "download: s3://wri-projects/Aqueduct30/processData/Y2017M08D02_RH_Merge_HydroBasins_V01/output/hybas_lev00_v1c_merged_fiona_V01.shp to ../../../../data/Y2017M08D25_RH_spatial_join_FAONames_V01/input/hybas_lev00_v1c_merged_fiona_V01.shp\n"
     ]
    }
   ],
   "source": [
    "!aws s3 cp {S3_INPUT_PATH_HYBAS} {EC2_INPUT_PATH} --recursive --exclude *.tif"
   ]
  },
  {
   "cell_type": "code",
   "execution_count": 5,
   "metadata": {
    "collapsed": true
   },
   "outputs": [],
   "source": [
    "import os\n",
    "if 'GDAL_DATA' not in os.environ:\n",
    "    os.environ['GDAL_DATA'] = r'/usr/share/gdal/2.1'\n",
    "from osgeo import gdal,ogr,osr\n",
    "'GDAL_DATA' in os.environ\n",
    "# If false, the GDAL_DATA variable is set incorrectly. You need this variable to obtain the spatial reference\n",
    "import pandas as pd\n",
    "import geopandas as gpd\n",
    "import matplotlib.pyplot as plt\n",
    "import time\n",
    "%matplotlib notebook\n"
   ]
  },
  {
   "cell_type": "code",
   "execution_count": 6,
   "metadata": {
    "collapsed": true
   },
   "outputs": [],
   "source": [
    "gdfFAO = gpd.read_file(os.path.join(EC2_INPUT_PATH,INPUT_FILE_NAME_FAO))"
   ]
  },
  {
   "cell_type": "code",
   "execution_count": 7,
   "metadata": {},
   "outputs": [
    {
     "data": {
      "text/plain": [
       "['area',\n",
       " 'LEGEND',\n",
       " 'MAJ_AREA',\n",
       " 'MAJ_BAS',\n",
       " 'MAJ_NAME',\n",
       " 'SUB_AREA',\n",
       " 'SUB_BAS',\n",
       " 'SUB_NAME',\n",
       " 'TO_BAS',\n",
       " 'index1',\n",
       " 'geometry']"
      ]
     },
     "execution_count": 7,
     "metadata": {},
     "output_type": "execute_result"
    }
   ],
   "source": [
    "list(gdfFAO)"
   ]
  },
  {
   "cell_type": "code",
   "execution_count": 8,
   "metadata": {
    "collapsed": true
   },
   "outputs": [],
   "source": [
    "gdfHybas = gpd.read_file(os.path.join(EC2_INPUT_PATH,INPUT_FILE_NAME_HYBAS))"
   ]
  },
  {
   "cell_type": "code",
   "execution_count": 9,
   "metadata": {},
   "outputs": [
    {
     "data": {
      "text/plain": [
       "['HYBAS_ID',\n",
       " 'NEXT_DOWN',\n",
       " 'NEXT_SINK',\n",
       " 'MAIN_BAS',\n",
       " 'DIST_SINK',\n",
       " 'DIST_MAIN',\n",
       " 'SUB_AREA',\n",
       " 'UP_AREA',\n",
       " 'PFAF_ID',\n",
       " 'ENDO',\n",
       " 'COAST',\n",
       " 'ORDER',\n",
       " 'SORT',\n",
       " 'geometry']"
      ]
     },
     "execution_count": 9,
     "metadata": {},
     "output_type": "execute_result"
    }
   ],
   "source": [
    "list(gdfHybas)"
   ]
  },
  {
   "cell_type": "code",
   "execution_count": 10,
   "metadata": {},
   "outputs": [
    {
     "data": {
      "text/plain": [
       "HYBAS_ID       int64\n",
       "NEXT_DOWN      int64\n",
       "NEXT_SINK      int64\n",
       "MAIN_BAS       int64\n",
       "DIST_SINK    float64\n",
       "DIST_MAIN    float64\n",
       "SUB_AREA     float64\n",
       "UP_AREA      float64\n",
       "PFAF_ID        int64\n",
       "ENDO           int64\n",
       "COAST          int64\n",
       "ORDER          int64\n",
       "SORT           int64\n",
       "geometry      object\n",
       "dtype: object"
      ]
     },
     "execution_count": 10,
     "metadata": {},
     "output_type": "execute_result"
    }
   ],
   "source": [
    "gdfHybas.dtypes"
   ]
  },
  {
   "cell_type": "code",
   "execution_count": 11,
   "metadata": {},
   "outputs": [
    {
     "data": {
      "text/plain": [
       "area        float64\n",
       "LEGEND        int64\n",
       "MAJ_AREA      int64\n",
       "MAJ_BAS       int64\n",
       "MAJ_NAME     object\n",
       "SUB_AREA      int64\n",
       "SUB_BAS       int64\n",
       "SUB_NAME     object\n",
       "TO_BAS        int64\n",
       "index1        int64\n",
       "geometry     object\n",
       "dtype: object"
      ]
     },
     "execution_count": 11,
     "metadata": {},
     "output_type": "execute_result"
    }
   ],
   "source": [
    "gdfFAO.dtypes"
   ]
  },
  {
   "cell_type": "code",
   "execution_count": 12,
   "metadata": {
    "collapsed": true
   },
   "outputs": [],
   "source": [
    "gdfFAO['index1_copy'] = gdfFAO['index1']"
   ]
  },
  {
   "cell_type": "code",
   "execution_count": 13,
   "metadata": {
    "collapsed": true
   },
   "outputs": [],
   "source": [
    "gdfFAO = gdfFAO.set_index('index1')"
   ]
  },
  {
   "cell_type": "code",
   "execution_count": 14,
   "metadata": {},
   "outputs": [
    {
     "data": {
      "text/plain": [
       "'index1'"
      ]
     },
     "execution_count": 14,
     "metadata": {},
     "output_type": "execute_result"
    }
   ],
   "source": [
    "gdfFAO.index.name"
   ]
  },
  {
   "cell_type": "markdown",
   "metadata": {},
   "source": [
    "A spatial join was performed on the data. However the FAO polygons were stored as polygons and not as multi-polygons. The data also lacked a unique Identifier. The identifier consists of a combination of MAJ_BAS and SUB_BASE. The maximum length of MAJ_BAS is 4 and 6 for SUB_BAS (279252). We will store the identifier as a string with the format: MAJ_BASxxxxSUB_BASExxxxxx"
   ]
  },
  {
   "cell_type": "code",
   "execution_count": 15,
   "metadata": {
    "collapsed": true
   },
   "outputs": [],
   "source": [
    "gdfFAO['FAOid'] = gdfFAO.apply(lambda x:'MAJ_BAS_%0.4d_SUB_BAS_%0.7d' % (x['MAJ_BAS'],x['SUB_BAS']),axis=1)"
   ]
  },
  {
   "cell_type": "code",
   "execution_count": 16,
   "metadata": {},
   "outputs": [
    {
     "data": {
      "text/plain": [
       "'index1'"
      ]
     },
     "execution_count": 16,
     "metadata": {},
     "output_type": "execute_result"
    }
   ],
   "source": [
    "gdfFAO.index.name"
   ]
  },
  {
   "cell_type": "code",
   "execution_count": 17,
   "metadata": {
    "collapsed": true
   },
   "outputs": [],
   "source": [
    "dfFAO = gdfFAO.drop('geometry',1)"
   ]
  },
  {
   "cell_type": "code",
   "execution_count": 18,
   "metadata": {},
   "outputs": [
    {
     "data": {
      "text/html": [
       "<div>\n",
       "<style>\n",
       "    .dataframe thead tr:only-child th {\n",
       "        text-align: right;\n",
       "    }\n",
       "\n",
       "    .dataframe thead th {\n",
       "        text-align: left;\n",
       "    }\n",
       "\n",
       "    .dataframe tbody tr th {\n",
       "        vertical-align: top;\n",
       "    }\n",
       "</style>\n",
       "<table border=\"1\" class=\"dataframe\">\n",
       "  <thead>\n",
       "    <tr style=\"text-align: right;\">\n",
       "      <th></th>\n",
       "      <th>area</th>\n",
       "      <th>LEGEND</th>\n",
       "      <th>MAJ_AREA</th>\n",
       "      <th>MAJ_BAS</th>\n",
       "      <th>MAJ_NAME</th>\n",
       "      <th>SUB_AREA</th>\n",
       "      <th>SUB_BAS</th>\n",
       "      <th>SUB_NAME</th>\n",
       "      <th>TO_BAS</th>\n",
       "      <th>index1_copy</th>\n",
       "      <th>FAOid</th>\n",
       "    </tr>\n",
       "    <tr>\n",
       "      <th>index1</th>\n",
       "      <th></th>\n",
       "      <th></th>\n",
       "      <th></th>\n",
       "      <th></th>\n",
       "      <th></th>\n",
       "      <th></th>\n",
       "      <th></th>\n",
       "      <th></th>\n",
       "      <th></th>\n",
       "      <th></th>\n",
       "      <th></th>\n",
       "    </tr>\n",
       "  </thead>\n",
       "  <tbody>\n",
       "    <tr>\n",
       "      <th>0</th>\n",
       "      <td>2.550863</td>\n",
       "      <td>1</td>\n",
       "      <td>318639</td>\n",
       "      <td>6001</td>\n",
       "      <td>Black Sea, South Coast</td>\n",
       "      <td>24573</td>\n",
       "      <td>1001</td>\n",
       "      <td>Bursa / Balikesir</td>\n",
       "      <td>-999</td>\n",
       "      <td>0</td>\n",
       "      <td>MAJ_BAS_6001_SUB_BAS_0001001</td>\n",
       "    </tr>\n",
       "    <tr>\n",
       "      <th>1</th>\n",
       "      <td>0.811355</td>\n",
       "      <td>1</td>\n",
       "      <td>318639</td>\n",
       "      <td>6001</td>\n",
       "      <td>Black Sea, South Coast</td>\n",
       "      <td>7803</td>\n",
       "      <td>1002</td>\n",
       "      <td>Kocaeli</td>\n",
       "      <td>-999</td>\n",
       "      <td>1</td>\n",
       "      <td>MAJ_BAS_6001_SUB_BAS_0001002</td>\n",
       "    </tr>\n",
       "    <tr>\n",
       "      <th>2</th>\n",
       "      <td>6.580240</td>\n",
       "      <td>1</td>\n",
       "      <td>318639</td>\n",
       "      <td>6001</td>\n",
       "      <td>Black Sea, South Coast</td>\n",
       "      <td>63081</td>\n",
       "      <td>1003</td>\n",
       "      <td>Sakarya River</td>\n",
       "      <td>-999</td>\n",
       "      <td>2</td>\n",
       "      <td>MAJ_BAS_6001_SUB_BAS_0001003</td>\n",
       "    </tr>\n",
       "    <tr>\n",
       "      <th>3</th>\n",
       "      <td>3.172792</td>\n",
       "      <td>1</td>\n",
       "      <td>318639</td>\n",
       "      <td>6001</td>\n",
       "      <td>Black Sea, South Coast</td>\n",
       "      <td>29866</td>\n",
       "      <td>1004</td>\n",
       "      <td>Duzce / Bolu / Zonguldak / Karabuk</td>\n",
       "      <td>-999</td>\n",
       "      <td>3</td>\n",
       "      <td>MAJ_BAS_6001_SUB_BAS_0001004</td>\n",
       "    </tr>\n",
       "    <tr>\n",
       "      <th>4</th>\n",
       "      <td>8.138718</td>\n",
       "      <td>1</td>\n",
       "      <td>318639</td>\n",
       "      <td>6001</td>\n",
       "      <td>Black Sea, South Coast</td>\n",
       "      <td>77771</td>\n",
       "      <td>1005</td>\n",
       "      <td>Kizilirmak River</td>\n",
       "      <td>-999</td>\n",
       "      <td>4</td>\n",
       "      <td>MAJ_BAS_6001_SUB_BAS_0001005</td>\n",
       "    </tr>\n",
       "  </tbody>\n",
       "</table>\n",
       "</div>"
      ],
      "text/plain": [
       "            area  LEGEND  MAJ_AREA  MAJ_BAS                MAJ_NAME  SUB_AREA  \\\n",
       "index1                                                                          \n",
       "0       2.550863       1    318639     6001  Black Sea, South Coast     24573   \n",
       "1       0.811355       1    318639     6001  Black Sea, South Coast      7803   \n",
       "2       6.580240       1    318639     6001  Black Sea, South Coast     63081   \n",
       "3       3.172792       1    318639     6001  Black Sea, South Coast     29866   \n",
       "4       8.138718       1    318639     6001  Black Sea, South Coast     77771   \n",
       "\n",
       "        SUB_BAS                            SUB_NAME  TO_BAS  index1_copy  \\\n",
       "index1                                                                     \n",
       "0          1001                   Bursa / Balikesir    -999            0   \n",
       "1          1002                             Kocaeli    -999            1   \n",
       "2          1003                       Sakarya River    -999            2   \n",
       "3          1004  Duzce / Bolu / Zonguldak / Karabuk    -999            3   \n",
       "4          1005                    Kizilirmak River    -999            4   \n",
       "\n",
       "                               FAOid  \n",
       "index1                                \n",
       "0       MAJ_BAS_6001_SUB_BAS_0001001  \n",
       "1       MAJ_BAS_6001_SUB_BAS_0001002  \n",
       "2       MAJ_BAS_6001_SUB_BAS_0001003  \n",
       "3       MAJ_BAS_6001_SUB_BAS_0001004  \n",
       "4       MAJ_BAS_6001_SUB_BAS_0001005  "
      ]
     },
     "execution_count": 18,
     "metadata": {},
     "output_type": "execute_result"
    }
   ],
   "source": [
    "dfFAO.head()"
   ]
  },
  {
   "cell_type": "code",
   "execution_count": 19,
   "metadata": {
    "collapsed": true
   },
   "outputs": [],
   "source": [
    "gdfFAO['FAOid_copy'] = gdfFAO['FAOid']"
   ]
  },
  {
   "cell_type": "code",
   "execution_count": 20,
   "metadata": {},
   "outputs": [
    {
     "data": {
      "text/plain": [
       "'index1'"
      ]
     },
     "execution_count": 20,
     "metadata": {},
     "output_type": "execute_result"
    }
   ],
   "source": [
    "gdfFAO.index.name"
   ]
  },
  {
   "cell_type": "code",
   "execution_count": 21,
   "metadata": {},
   "outputs": [
    {
     "data": {
      "text/plain": [
       "['area',\n",
       " 'LEGEND',\n",
       " 'MAJ_AREA',\n",
       " 'MAJ_BAS',\n",
       " 'MAJ_NAME',\n",
       " 'SUB_AREA',\n",
       " 'SUB_BAS',\n",
       " 'SUB_NAME',\n",
       " 'TO_BAS',\n",
       " 'geometry',\n",
       " 'index1_copy',\n",
       " 'FAOid',\n",
       " 'FAOid_copy']"
      ]
     },
     "execution_count": 21,
     "metadata": {},
     "output_type": "execute_result"
    }
   ],
   "source": [
    "list(gdfFAO)"
   ]
  },
  {
   "cell_type": "code",
   "execution_count": 22,
   "metadata": {
    "collapsed": true
   },
   "outputs": [],
   "source": [
    "gdfFAO = gdfFAO.dissolve(by='FAOid')"
   ]
  },
  {
   "cell_type": "code",
   "execution_count": 23,
   "metadata": {},
   "outputs": [
    {
     "data": {
      "text/plain": [
       "['geometry',\n",
       " 'area',\n",
       " 'LEGEND',\n",
       " 'MAJ_AREA',\n",
       " 'MAJ_BAS',\n",
       " 'MAJ_NAME',\n",
       " 'SUB_AREA',\n",
       " 'SUB_BAS',\n",
       " 'SUB_NAME',\n",
       " 'TO_BAS',\n",
       " 'index1_copy',\n",
       " 'FAOid_copy']"
      ]
     },
     "execution_count": 23,
     "metadata": {},
     "output_type": "execute_result"
    }
   ],
   "source": [
    "list(gdfFAO)"
   ]
  },
  {
   "cell_type": "code",
   "execution_count": 24,
   "metadata": {
    "collapsed": true
   },
   "outputs": [],
   "source": [
    "dfFAO = gdfFAO.drop('geometry',1)"
   ]
  },
  {
   "cell_type": "code",
   "execution_count": 25,
   "metadata": {},
   "outputs": [
    {
     "data": {
      "text/html": [
       "<div>\n",
       "<style>\n",
       "    .dataframe thead tr:only-child th {\n",
       "        text-align: right;\n",
       "    }\n",
       "\n",
       "    .dataframe thead th {\n",
       "        text-align: left;\n",
       "    }\n",
       "\n",
       "    .dataframe tbody tr th {\n",
       "        vertical-align: top;\n",
       "    }\n",
       "</style>\n",
       "<table border=\"1\" class=\"dataframe\">\n",
       "  <thead>\n",
       "    <tr style=\"text-align: right;\">\n",
       "      <th></th>\n",
       "      <th>area</th>\n",
       "      <th>LEGEND</th>\n",
       "      <th>MAJ_AREA</th>\n",
       "      <th>MAJ_BAS</th>\n",
       "      <th>MAJ_NAME</th>\n",
       "      <th>SUB_AREA</th>\n",
       "      <th>SUB_BAS</th>\n",
       "      <th>SUB_NAME</th>\n",
       "      <th>TO_BAS</th>\n",
       "      <th>index1_copy</th>\n",
       "      <th>FAOid_copy</th>\n",
       "    </tr>\n",
       "    <tr>\n",
       "      <th>FAOid</th>\n",
       "      <th></th>\n",
       "      <th></th>\n",
       "      <th></th>\n",
       "      <th></th>\n",
       "      <th></th>\n",
       "      <th></th>\n",
       "      <th></th>\n",
       "      <th></th>\n",
       "      <th></th>\n",
       "      <th></th>\n",
       "      <th></th>\n",
       "    </tr>\n",
       "  </thead>\n",
       "  <tbody>\n",
       "    <tr>\n",
       "      <th>MAJ_BAS_1001_SUB_BAS_0001001</th>\n",
       "      <td>0.865953</td>\n",
       "      <td>1</td>\n",
       "      <td>701385</td>\n",
       "      <td>1001</td>\n",
       "      <td>Gulf of Mexico, North Atlantic Coast</td>\n",
       "      <td>8689</td>\n",
       "      <td>1001</td>\n",
       "      <td>Upper Roanoke</td>\n",
       "      <td>1005</td>\n",
       "      <td>20147</td>\n",
       "      <td>MAJ_BAS_1001_SUB_BAS_0001001</td>\n",
       "    </tr>\n",
       "    <tr>\n",
       "      <th>MAJ_BAS_1001_SUB_BAS_0001002</th>\n",
       "      <td>0.150201</td>\n",
       "      <td>1</td>\n",
       "      <td>701385</td>\n",
       "      <td>1001</td>\n",
       "      <td>Gulf of Mexico, North Atlantic Coast</td>\n",
       "      <td>1540</td>\n",
       "      <td>1002</td>\n",
       "      <td>Banister</td>\n",
       "      <td>1004</td>\n",
       "      <td>20148</td>\n",
       "      <td>MAJ_BAS_1001_SUB_BAS_0001002</td>\n",
       "    </tr>\n",
       "    <tr>\n",
       "      <th>MAJ_BAS_1001_SUB_BAS_0001003</th>\n",
       "      <td>0.435553</td>\n",
       "      <td>1</td>\n",
       "      <td>701385</td>\n",
       "      <td>1001</td>\n",
       "      <td>Gulf of Mexico, North Atlantic Coast</td>\n",
       "      <td>4403</td>\n",
       "      <td>1003</td>\n",
       "      <td>Upper Dan</td>\n",
       "      <td>1004</td>\n",
       "      <td>20149</td>\n",
       "      <td>MAJ_BAS_1001_SUB_BAS_0001003</td>\n",
       "    </tr>\n",
       "    <tr>\n",
       "      <th>MAJ_BAS_1001_SUB_BAS_0001004</th>\n",
       "      <td>0.414318</td>\n",
       "      <td>1</td>\n",
       "      <td>701385</td>\n",
       "      <td>1001</td>\n",
       "      <td>Gulf of Mexico, North Atlantic Coast</td>\n",
       "      <td>4204</td>\n",
       "      <td>1004</td>\n",
       "      <td>Lower Dan</td>\n",
       "      <td>1005</td>\n",
       "      <td>20150</td>\n",
       "      <td>MAJ_BAS_1001_SUB_BAS_0001004</td>\n",
       "    </tr>\n",
       "    <tr>\n",
       "      <th>MAJ_BAS_1001_SUB_BAS_0001005</th>\n",
       "      <td>0.634339</td>\n",
       "      <td>1</td>\n",
       "      <td>701385</td>\n",
       "      <td>1001</td>\n",
       "      <td>Gulf of Mexico, North Atlantic Coast</td>\n",
       "      <td>6496</td>\n",
       "      <td>1005</td>\n",
       "      <td>Lower Roanoke</td>\n",
       "      <td>-999</td>\n",
       "      <td>20151</td>\n",
       "      <td>MAJ_BAS_1001_SUB_BAS_0001005</td>\n",
       "    </tr>\n",
       "  </tbody>\n",
       "</table>\n",
       "</div>"
      ],
      "text/plain": [
       "                                  area  LEGEND  MAJ_AREA  MAJ_BAS  \\\n",
       "FAOid                                                               \n",
       "MAJ_BAS_1001_SUB_BAS_0001001  0.865953       1    701385     1001   \n",
       "MAJ_BAS_1001_SUB_BAS_0001002  0.150201       1    701385     1001   \n",
       "MAJ_BAS_1001_SUB_BAS_0001003  0.435553       1    701385     1001   \n",
       "MAJ_BAS_1001_SUB_BAS_0001004  0.414318       1    701385     1001   \n",
       "MAJ_BAS_1001_SUB_BAS_0001005  0.634339       1    701385     1001   \n",
       "\n",
       "                                                          MAJ_NAME  SUB_AREA  \\\n",
       "FAOid                                                                          \n",
       "MAJ_BAS_1001_SUB_BAS_0001001  Gulf of Mexico, North Atlantic Coast      8689   \n",
       "MAJ_BAS_1001_SUB_BAS_0001002  Gulf of Mexico, North Atlantic Coast      1540   \n",
       "MAJ_BAS_1001_SUB_BAS_0001003  Gulf of Mexico, North Atlantic Coast      4403   \n",
       "MAJ_BAS_1001_SUB_BAS_0001004  Gulf of Mexico, North Atlantic Coast      4204   \n",
       "MAJ_BAS_1001_SUB_BAS_0001005  Gulf of Mexico, North Atlantic Coast      6496   \n",
       "\n",
       "                              SUB_BAS       SUB_NAME  TO_BAS  index1_copy  \\\n",
       "FAOid                                                                       \n",
       "MAJ_BAS_1001_SUB_BAS_0001001     1001  Upper Roanoke    1005        20147   \n",
       "MAJ_BAS_1001_SUB_BAS_0001002     1002       Banister    1004        20148   \n",
       "MAJ_BAS_1001_SUB_BAS_0001003     1003      Upper Dan    1004        20149   \n",
       "MAJ_BAS_1001_SUB_BAS_0001004     1004      Lower Dan    1005        20150   \n",
       "MAJ_BAS_1001_SUB_BAS_0001005     1005  Lower Roanoke    -999        20151   \n",
       "\n",
       "                                                FAOid_copy  \n",
       "FAOid                                                       \n",
       "MAJ_BAS_1001_SUB_BAS_0001001  MAJ_BAS_1001_SUB_BAS_0001001  \n",
       "MAJ_BAS_1001_SUB_BAS_0001002  MAJ_BAS_1001_SUB_BAS_0001002  \n",
       "MAJ_BAS_1001_SUB_BAS_0001003  MAJ_BAS_1001_SUB_BAS_0001003  \n",
       "MAJ_BAS_1001_SUB_BAS_0001004  MAJ_BAS_1001_SUB_BAS_0001004  \n",
       "MAJ_BAS_1001_SUB_BAS_0001005  MAJ_BAS_1001_SUB_BAS_0001005  "
      ]
     },
     "execution_count": 25,
     "metadata": {},
     "output_type": "execute_result"
    }
   ],
   "source": [
    "dfFAO.head()"
   ]
  },
  {
   "cell_type": "code",
   "execution_count": 26,
   "metadata": {},
   "outputs": [
    {
     "ename": "TypeError",
     "evalue": "cannot do slice indexing on <class 'pandas.core.indexes.base.Index'> with these indexers [100] of <class 'int'>",
     "output_type": "error",
     "traceback": [
      "\u001b[0;31m---------------------------------------------------------------------------\u001b[0m",
      "\u001b[0;31mTypeError\u001b[0m                                 Traceback (most recent call last)",
      "\u001b[0;32m<ipython-input-26-63f7ec9f1d3a>\u001b[0m in \u001b[0;36m<module>\u001b[0;34m()\u001b[0m\n\u001b[0;32m----> 1\u001b[0;31m \u001b[0mgdfFAOTest\u001b[0m \u001b[0;34m=\u001b[0m \u001b[0mgdfFAO\u001b[0m\u001b[0;34m.\u001b[0m\u001b[0mloc\u001b[0m\u001b[0;34m[\u001b[0m\u001b[0;36m100\u001b[0m\u001b[0;34m:\u001b[0m\u001b[0;36m200\u001b[0m\u001b[0;34m]\u001b[0m\u001b[0;34m\u001b[0m\u001b[0m\n\u001b[0m",
      "\u001b[0;32m/opt/anaconda3/envs/python35/lib/python3.5/site-packages/pandas/core/indexing.py\u001b[0m in \u001b[0;36m__getitem__\u001b[0;34m(self, key)\u001b[0m\n\u001b[1;32m   1326\u001b[0m         \u001b[0;32melse\u001b[0m\u001b[0;34m:\u001b[0m\u001b[0;34m\u001b[0m\u001b[0m\n\u001b[1;32m   1327\u001b[0m             \u001b[0mkey\u001b[0m \u001b[0;34m=\u001b[0m \u001b[0mcom\u001b[0m\u001b[0;34m.\u001b[0m\u001b[0m_apply_if_callable\u001b[0m\u001b[0;34m(\u001b[0m\u001b[0mkey\u001b[0m\u001b[0;34m,\u001b[0m \u001b[0mself\u001b[0m\u001b[0;34m.\u001b[0m\u001b[0mobj\u001b[0m\u001b[0;34m)\u001b[0m\u001b[0;34m\u001b[0m\u001b[0m\n\u001b[0;32m-> 1328\u001b[0;31m             \u001b[0;32mreturn\u001b[0m \u001b[0mself\u001b[0m\u001b[0;34m.\u001b[0m\u001b[0m_getitem_axis\u001b[0m\u001b[0;34m(\u001b[0m\u001b[0mkey\u001b[0m\u001b[0;34m,\u001b[0m \u001b[0maxis\u001b[0m\u001b[0;34m=\u001b[0m\u001b[0;36m0\u001b[0m\u001b[0;34m)\u001b[0m\u001b[0;34m\u001b[0m\u001b[0m\n\u001b[0m\u001b[1;32m   1329\u001b[0m \u001b[0;34m\u001b[0m\u001b[0m\n\u001b[1;32m   1330\u001b[0m     \u001b[0;32mdef\u001b[0m \u001b[0m_is_scalar_access\u001b[0m\u001b[0;34m(\u001b[0m\u001b[0mself\u001b[0m\u001b[0;34m,\u001b[0m \u001b[0mkey\u001b[0m\u001b[0;34m)\u001b[0m\u001b[0;34m:\u001b[0m\u001b[0;34m\u001b[0m\u001b[0m\n",
      "\u001b[0;32m/opt/anaconda3/envs/python35/lib/python3.5/site-packages/pandas/core/indexing.py\u001b[0m in \u001b[0;36m_getitem_axis\u001b[0;34m(self, key, axis)\u001b[0m\n\u001b[1;32m   1504\u001b[0m         \u001b[0;32mif\u001b[0m \u001b[0misinstance\u001b[0m\u001b[0;34m(\u001b[0m\u001b[0mkey\u001b[0m\u001b[0;34m,\u001b[0m \u001b[0mslice\u001b[0m\u001b[0;34m)\u001b[0m\u001b[0;34m:\u001b[0m\u001b[0;34m\u001b[0m\u001b[0m\n\u001b[1;32m   1505\u001b[0m             \u001b[0mself\u001b[0m\u001b[0;34m.\u001b[0m\u001b[0m_has_valid_type\u001b[0m\u001b[0;34m(\u001b[0m\u001b[0mkey\u001b[0m\u001b[0;34m,\u001b[0m \u001b[0maxis\u001b[0m\u001b[0;34m)\u001b[0m\u001b[0;34m\u001b[0m\u001b[0m\n\u001b[0;32m-> 1506\u001b[0;31m             \u001b[0;32mreturn\u001b[0m \u001b[0mself\u001b[0m\u001b[0;34m.\u001b[0m\u001b[0m_get_slice_axis\u001b[0m\u001b[0;34m(\u001b[0m\u001b[0mkey\u001b[0m\u001b[0;34m,\u001b[0m \u001b[0maxis\u001b[0m\u001b[0;34m=\u001b[0m\u001b[0maxis\u001b[0m\u001b[0;34m)\u001b[0m\u001b[0;34m\u001b[0m\u001b[0m\n\u001b[0m\u001b[1;32m   1507\u001b[0m         \u001b[0;32melif\u001b[0m \u001b[0mis_bool_indexer\u001b[0m\u001b[0;34m(\u001b[0m\u001b[0mkey\u001b[0m\u001b[0;34m)\u001b[0m\u001b[0;34m:\u001b[0m\u001b[0;34m\u001b[0m\u001b[0m\n\u001b[1;32m   1508\u001b[0m             \u001b[0;32mreturn\u001b[0m \u001b[0mself\u001b[0m\u001b[0;34m.\u001b[0m\u001b[0m_getbool_axis\u001b[0m\u001b[0;34m(\u001b[0m\u001b[0mkey\u001b[0m\u001b[0;34m,\u001b[0m \u001b[0maxis\u001b[0m\u001b[0;34m=\u001b[0m\u001b[0maxis\u001b[0m\u001b[0;34m)\u001b[0m\u001b[0;34m\u001b[0m\u001b[0m\n",
      "\u001b[0;32m/opt/anaconda3/envs/python35/lib/python3.5/site-packages/pandas/core/indexing.py\u001b[0m in \u001b[0;36m_get_slice_axis\u001b[0;34m(self, slice_obj, axis)\u001b[0m\n\u001b[1;32m   1354\u001b[0m         \u001b[0mlabels\u001b[0m \u001b[0;34m=\u001b[0m \u001b[0mobj\u001b[0m\u001b[0;34m.\u001b[0m\u001b[0m_get_axis\u001b[0m\u001b[0;34m(\u001b[0m\u001b[0maxis\u001b[0m\u001b[0;34m)\u001b[0m\u001b[0;34m\u001b[0m\u001b[0m\n\u001b[1;32m   1355\u001b[0m         indexer = labels.slice_indexer(slice_obj.start, slice_obj.stop,\n\u001b[0;32m-> 1356\u001b[0;31m                                        slice_obj.step, kind=self.name)\n\u001b[0m\u001b[1;32m   1357\u001b[0m \u001b[0;34m\u001b[0m\u001b[0m\n\u001b[1;32m   1358\u001b[0m         \u001b[0;32mif\u001b[0m \u001b[0misinstance\u001b[0m\u001b[0;34m(\u001b[0m\u001b[0mindexer\u001b[0m\u001b[0;34m,\u001b[0m \u001b[0mslice\u001b[0m\u001b[0;34m)\u001b[0m\u001b[0;34m:\u001b[0m\u001b[0;34m\u001b[0m\u001b[0m\n",
      "\u001b[0;32m/opt/anaconda3/envs/python35/lib/python3.5/site-packages/pandas/core/indexes/base.py\u001b[0m in \u001b[0;36mslice_indexer\u001b[0;34m(self, start, end, step, kind)\u001b[0m\n\u001b[1;32m   3348\u001b[0m         \"\"\"\n\u001b[1;32m   3349\u001b[0m         start_slice, end_slice = self.slice_locs(start, end, step=step,\n\u001b[0;32m-> 3350\u001b[0;31m                                                  kind=kind)\n\u001b[0m\u001b[1;32m   3351\u001b[0m \u001b[0;34m\u001b[0m\u001b[0m\n\u001b[1;32m   3352\u001b[0m         \u001b[0;31m# return a slice\u001b[0m\u001b[0;34m\u001b[0m\u001b[0;34m\u001b[0m\u001b[0m\n",
      "\u001b[0;32m/opt/anaconda3/envs/python35/lib/python3.5/site-packages/pandas/core/indexes/base.py\u001b[0m in \u001b[0;36mslice_locs\u001b[0;34m(self, start, end, step, kind)\u001b[0m\n\u001b[1;32m   3536\u001b[0m         \u001b[0mstart_slice\u001b[0m \u001b[0;34m=\u001b[0m \u001b[0;32mNone\u001b[0m\u001b[0;34m\u001b[0m\u001b[0m\n\u001b[1;32m   3537\u001b[0m         \u001b[0;32mif\u001b[0m \u001b[0mstart\u001b[0m \u001b[0;32mis\u001b[0m \u001b[0;32mnot\u001b[0m \u001b[0;32mNone\u001b[0m\u001b[0;34m:\u001b[0m\u001b[0;34m\u001b[0m\u001b[0m\n\u001b[0;32m-> 3538\u001b[0;31m             \u001b[0mstart_slice\u001b[0m \u001b[0;34m=\u001b[0m \u001b[0mself\u001b[0m\u001b[0;34m.\u001b[0m\u001b[0mget_slice_bound\u001b[0m\u001b[0;34m(\u001b[0m\u001b[0mstart\u001b[0m\u001b[0;34m,\u001b[0m \u001b[0;34m'left'\u001b[0m\u001b[0;34m,\u001b[0m \u001b[0mkind\u001b[0m\u001b[0;34m)\u001b[0m\u001b[0;34m\u001b[0m\u001b[0m\n\u001b[0m\u001b[1;32m   3539\u001b[0m         \u001b[0;32mif\u001b[0m \u001b[0mstart_slice\u001b[0m \u001b[0;32mis\u001b[0m \u001b[0;32mNone\u001b[0m\u001b[0;34m:\u001b[0m\u001b[0;34m\u001b[0m\u001b[0m\n\u001b[1;32m   3540\u001b[0m             \u001b[0mstart_slice\u001b[0m \u001b[0;34m=\u001b[0m \u001b[0;36m0\u001b[0m\u001b[0;34m\u001b[0m\u001b[0m\n",
      "\u001b[0;32m/opt/anaconda3/envs/python35/lib/python3.5/site-packages/pandas/core/indexes/base.py\u001b[0m in \u001b[0;36mget_slice_bound\u001b[0;34m(self, label, side, kind)\u001b[0m\n\u001b[1;32m   3475\u001b[0m         \u001b[0;31m# For datetime indices label may be a string that has to be converted\u001b[0m\u001b[0;34m\u001b[0m\u001b[0;34m\u001b[0m\u001b[0m\n\u001b[1;32m   3476\u001b[0m         \u001b[0;31m# to datetime boundary according to its resolution.\u001b[0m\u001b[0;34m\u001b[0m\u001b[0;34m\u001b[0m\u001b[0m\n\u001b[0;32m-> 3477\u001b[0;31m         \u001b[0mlabel\u001b[0m \u001b[0;34m=\u001b[0m \u001b[0mself\u001b[0m\u001b[0;34m.\u001b[0m\u001b[0m_maybe_cast_slice_bound\u001b[0m\u001b[0;34m(\u001b[0m\u001b[0mlabel\u001b[0m\u001b[0;34m,\u001b[0m \u001b[0mside\u001b[0m\u001b[0;34m,\u001b[0m \u001b[0mkind\u001b[0m\u001b[0;34m)\u001b[0m\u001b[0;34m\u001b[0m\u001b[0m\n\u001b[0m\u001b[1;32m   3478\u001b[0m \u001b[0;34m\u001b[0m\u001b[0m\n\u001b[1;32m   3479\u001b[0m         \u001b[0;31m# we need to look up the label\u001b[0m\u001b[0;34m\u001b[0m\u001b[0;34m\u001b[0m\u001b[0m\n",
      "\u001b[0;32m/opt/anaconda3/envs/python35/lib/python3.5/site-packages/pandas/core/indexes/base.py\u001b[0m in \u001b[0;36m_maybe_cast_slice_bound\u001b[0;34m(self, label, side, kind)\u001b[0m\n\u001b[1;32m   3426\u001b[0m         \u001b[0;31m# this is rejected (generally .loc gets you here)\u001b[0m\u001b[0;34m\u001b[0m\u001b[0;34m\u001b[0m\u001b[0m\n\u001b[1;32m   3427\u001b[0m         \u001b[0;32melif\u001b[0m \u001b[0mis_integer\u001b[0m\u001b[0;34m(\u001b[0m\u001b[0mlabel\u001b[0m\u001b[0;34m)\u001b[0m\u001b[0;34m:\u001b[0m\u001b[0;34m\u001b[0m\u001b[0m\n\u001b[0;32m-> 3428\u001b[0;31m             \u001b[0mself\u001b[0m\u001b[0;34m.\u001b[0m\u001b[0m_invalid_indexer\u001b[0m\u001b[0;34m(\u001b[0m\u001b[0;34m'slice'\u001b[0m\u001b[0;34m,\u001b[0m \u001b[0mlabel\u001b[0m\u001b[0;34m)\u001b[0m\u001b[0;34m\u001b[0m\u001b[0m\n\u001b[0m\u001b[1;32m   3429\u001b[0m \u001b[0;34m\u001b[0m\u001b[0m\n\u001b[1;32m   3430\u001b[0m         \u001b[0;32mreturn\u001b[0m \u001b[0mlabel\u001b[0m\u001b[0;34m\u001b[0m\u001b[0m\n",
      "\u001b[0;32m/opt/anaconda3/envs/python35/lib/python3.5/site-packages/pandas/core/indexes/base.py\u001b[0m in \u001b[0;36m_invalid_indexer\u001b[0;34m(self, form, key)\u001b[0m\n\u001b[1;32m   1517\u001b[0m                         \"indexers [{key}] of {kind}\".format(\n\u001b[1;32m   1518\u001b[0m                             \u001b[0mform\u001b[0m\u001b[0;34m=\u001b[0m\u001b[0mform\u001b[0m\u001b[0;34m,\u001b[0m \u001b[0mklass\u001b[0m\u001b[0;34m=\u001b[0m\u001b[0mtype\u001b[0m\u001b[0;34m(\u001b[0m\u001b[0mself\u001b[0m\u001b[0;34m)\u001b[0m\u001b[0;34m,\u001b[0m \u001b[0mkey\u001b[0m\u001b[0;34m=\u001b[0m\u001b[0mkey\u001b[0m\u001b[0;34m,\u001b[0m\u001b[0;34m\u001b[0m\u001b[0m\n\u001b[0;32m-> 1519\u001b[0;31m                             kind=type(key)))\n\u001b[0m\u001b[1;32m   1520\u001b[0m \u001b[0;34m\u001b[0m\u001b[0m\n\u001b[1;32m   1521\u001b[0m     \u001b[0;32mdef\u001b[0m \u001b[0mget_duplicates\u001b[0m\u001b[0;34m(\u001b[0m\u001b[0mself\u001b[0m\u001b[0;34m)\u001b[0m\u001b[0;34m:\u001b[0m\u001b[0;34m\u001b[0m\u001b[0m\n",
      "\u001b[0;31mTypeError\u001b[0m: cannot do slice indexing on <class 'pandas.core.indexes.base.Index'> with these indexers [100] of <class 'int'>"
     ]
    }
   ],
   "source": [
    "gdfFAOTest = gdfFAO.loc[100:200]"
   ]
  },
  {
   "cell_type": "code",
   "execution_count": null,
   "metadata": {
    "collapsed": true
   },
   "outputs": [],
   "source": [
    "validGeom = gdfFAO.geometry.is_valid"
   ]
  },
  {
   "cell_type": "code",
   "execution_count": null,
   "metadata": {
    "collapsed": true
   },
   "outputs": [],
   "source": [
    "gdfFAO.crs = {'init': u'epsg:4326'}"
   ]
  },
  {
   "cell_type": "code",
   "execution_count": null,
   "metadata": {
    "collapsed": true
   },
   "outputs": [],
   "source": [
    "gdfFAO = gdfFAO.set_index('index1_copy')"
   ]
  },
  {
   "cell_type": "code",
   "execution_count": null,
   "metadata": {
    "collapsed": true
   },
   "outputs": [],
   "source": [
    "gdfJoined = gpd.sjoin(gdfHybas, gdfFAO ,how=\"left\", op='intersects')"
   ]
  },
  {
   "cell_type": "code",
   "execution_count": null,
   "metadata": {},
   "outputs": [],
   "source": [
    "list(gdfJoined)"
   ]
  },
  {
   "cell_type": "code",
   "execution_count": null,
   "metadata": {},
   "outputs": [],
   "source": [
    "gdfJoined.shape"
   ]
  },
  {
   "cell_type": "code",
   "execution_count": null,
   "metadata": {
    "collapsed": true
   },
   "outputs": [],
   "source": [
    "series = gdfJoined.groupby('PFAF_ID')['SUB_NAME'].apply(list)\n",
    "series2 = gdfJoined.groupby('PFAF_ID')['MAJ_NAME'].apply(list)\n",
    "series3 = gdfJoined.groupby('PFAF_ID')['FAOid_copy'].apply(list)"
   ]
  },
  {
   "cell_type": "code",
   "execution_count": null,
   "metadata": {
    "collapsed": true
   },
   "outputs": [],
   "source": [
    "df_new1 = series.to_frame()\n",
    "df_new2 = series2.to_frame()\n",
    "df_new3 = series3.to_frame()"
   ]
  },
  {
   "cell_type": "code",
   "execution_count": null,
   "metadata": {},
   "outputs": [],
   "source": [
    "df_new1.head()"
   ]
  },
  {
   "cell_type": "code",
   "execution_count": null,
   "metadata": {
    "collapsed": true
   },
   "outputs": [],
   "source": [
    "df_out = df_new1.merge(right = df_new2, how = \"outer\", left_index = True, right_index = True )"
   ]
  },
  {
   "cell_type": "code",
   "execution_count": null,
   "metadata": {
    "collapsed": true
   },
   "outputs": [],
   "source": [
    "df_out = df_out.merge(right = df_new3, how = \"outer\", left_index = True, right_index = True )"
   ]
  },
  {
   "cell_type": "code",
   "execution_count": null,
   "metadata": {},
   "outputs": [],
   "source": [
    "df_out.dtypes"
   ]
  },
  {
   "cell_type": "code",
   "execution_count": null,
   "metadata": {
    "collapsed": true
   },
   "outputs": [],
   "source": [
    "df_out.to_csv(os.path.join(EC2_OUTPUT_PATH,OUTPUT_FILE_NAME),encoding=\"UTF-8\")"
   ]
  },
  {
   "cell_type": "code",
   "execution_count": null,
   "metadata": {},
   "outputs": [],
   "source": [
    "!aws s3 cp {EC2_OUTPUT_PATH} {S3_OUTPUT_PATH} --recursive"
   ]
  }
 ],
 "metadata": {
  "kernelspec": {
   "display_name": "Python 35",
   "language": "python",
   "name": "python35"
  },
  "language_info": {
   "codemirror_mode": {
    "name": "ipython",
    "version": 3
   },
   "file_extension": ".py",
   "mimetype": "text/x-python",
   "name": "python",
   "nbconvert_exporter": "python",
   "pygments_lexer": "ipython3",
   "version": "3.5.4"
  }
 },
 "nbformat": 4,
 "nbformat_minor": 2
}
