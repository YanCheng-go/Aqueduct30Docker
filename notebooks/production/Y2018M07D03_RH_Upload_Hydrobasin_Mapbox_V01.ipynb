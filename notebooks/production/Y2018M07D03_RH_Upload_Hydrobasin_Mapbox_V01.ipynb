{
 "cells": [
  {
   "cell_type": "code",
   "execution_count": 11,
   "metadata": {},
   "outputs": [
    {
     "name": "stdout",
     "output_type": "stream",
     "text": [
      "Input table: hybas06_v04\n",
      "Output table: hybas06_v04_V03\n"
     ]
    }
   ],
   "source": [
    "\"\"\" Upload simplified hydrobasins to mapbox for visualization purposes.\n",
    "-------------------------------------------------------------------------------\n",
    "\n",
    "Upload postgis table to mapbox via geopandas and geojson.\n",
    "\n",
    "Author: Rutger Hofste\n",
    "Date: 20180703\n",
    "Kernel: python35\n",
    "Docker: rutgerhofste/gisdocker:ubuntu16.04\n",
    "\n",
    "Args:\n",
    "\n",
    "    SCRIPT_NAME (string) : Script name.\n",
    "    PREVIOUS_SCRIPT_NAME (string) : Previous script name. \n",
    "    INPUT_VERSION (integer) : Input version.\n",
    "    OUTPUT_VERSION (integer) : Output version.  \n",
    "\n",
    "Returns:\n",
    "\n",
    "\n",
    "\"\"\"\n",
    "\n",
    "SCRIPT_NAME = \"Y2018M07D03_RH_Upload_Hydrobasin_Mapbox_V01\"\n",
    "INPUT_VERSION = 1\n",
    "OUTPUT_VERSION = 3\n",
    "\n",
    "EXCLUDE_BASIN = 353020\n",
    "\n",
    "DATABASE_ENDPOINT = \"aqueduct30v05.cgpnumwmfcqc.eu-central-1.rds.amazonaws.com\"\n",
    "DATABASE_NAME = \"database01\"\n",
    "INPUT_TABLE_NAME = \"hybas06_v04\"\n",
    "\n",
    "# ETL\n",
    "\n",
    "output_dataset_name = \"{}_V{:02.0f}\".format(INPUT_TABLE_NAME,OUTPUT_VERSION)\n",
    "ec2_output_path = \"/volumes/data/{}/output_V{:02.0f}\".format(SCRIPT_NAME,OUTPUT_VERSION)\n",
    "\n",
    "\n",
    "print(\"Input table: \" + INPUT_TABLE_NAME +\n",
    "      \"\\nOutput table: \" + output_dataset_name)"
   ]
  },
  {
   "cell_type": "code",
   "execution_count": 20,
   "metadata": {},
   "outputs": [
    {
     "data": {
      "text/plain": [
       "'hybas06_v04_V03'"
      ]
     },
     "execution_count": 20,
     "metadata": {},
     "output_type": "execute_result"
    }
   ],
   "source": []
  },
  {
   "cell_type": "code",
   "execution_count": 2,
   "metadata": {},
   "outputs": [
    {
     "name": "stdout",
     "output_type": "stream",
     "text": [
      "Y2018M07D04 UTC 09:53\n"
     ]
    },
    {
     "data": {
      "text/plain": [
       "'3.5.4 |Anaconda, Inc.| (default, Nov 20 2017, 18:44:38) \\n[GCC 7.2.0]'"
      ]
     },
     "execution_count": 2,
     "metadata": {},
     "output_type": "execute_result"
    }
   ],
   "source": [
    "import time, datetime, sys\n",
    "dateString = time.strftime(\"Y%YM%mD%d\")\n",
    "timeString = time.strftime(\"UTC %H:%M\")\n",
    "start = datetime.datetime.now()\n",
    "print(dateString,timeString)\n",
    "sys.version"
   ]
  },
  {
   "cell_type": "code",
   "execution_count": 24,
   "metadata": {
    "collapsed": true
   },
   "outputs": [],
   "source": [
    "import os\n",
    "import mapbox\n",
    "import geojson\n",
    "import sqlalchemy\n",
    "import time\n",
    "import geopandas as gpd"
   ]
  },
  {
   "cell_type": "code",
   "execution_count": 13,
   "metadata": {},
   "outputs": [],
   "source": [
    "!rm -r {ec2_output_path}\n",
    "!mkdir -p {ec2_output_path}"
   ]
  },
  {
   "cell_type": "code",
   "execution_count": 4,
   "metadata": {
    "collapsed": true
   },
   "outputs": [],
   "source": [
    "F = open(\"/.mapbox\",\"r\")\n",
    "token = F.read().splitlines()[0]\n",
    "F.close()\n",
    "os.environ[\"MAPBOX_ACCESS_TOKEN\"] = token\n",
    "\n",
    "F = open(\"/.password\",\"r\")\n",
    "password = F.read().splitlines()[0]\n",
    "F.close()\n",
    "\n",
    "engine = sqlalchemy.create_engine(\"postgresql://rutgerhofste:{}@{}:5432/{}\".format(password,DATABASE_ENDPOINT,DATABASE_NAME))\n",
    "#connection = engine.connect()"
   ]
  },
  {
   "cell_type": "code",
   "execution_count": 5,
   "metadata": {
    "collapsed": true
   },
   "outputs": [],
   "source": [
    "sql = \"select * from {}\".format(INPUT_TABLE_NAME)"
   ]
  },
  {
   "cell_type": "code",
   "execution_count": 6,
   "metadata": {
    "collapsed": true
   },
   "outputs": [],
   "source": [
    "# load geodataframe from postGIS\n",
    "gdf =gpd.GeoDataFrame.from_postgis(sql,engine,geom_col='geom' )"
   ]
  },
  {
   "cell_type": "code",
   "execution_count": 7,
   "metadata": {
    "collapsed": true
   },
   "outputs": [],
   "source": [
    "gdf_out = gdf[[\"pfaf_id\",\"geom\"]]"
   ]
  },
  {
   "cell_type": "code",
   "execution_count": 8,
   "metadata": {
    "collapsed": true
   },
   "outputs": [],
   "source": [
    "gdf_out_clean = gdf_out[gdf_out[\"pfaf_id\"] != EXCLUDE_BASIN]"
   ]
  },
  {
   "cell_type": "code",
   "execution_count": 9,
   "metadata": {
    "collapsed": true
   },
   "outputs": [],
   "source": [
    "assert gdf_out_clean.shape[0] == 16395"
   ]
  },
  {
   "cell_type": "code",
   "execution_count": 10,
   "metadata": {
    "collapsed": true
   },
   "outputs": [],
   "source": [
    "assert gdf_out.crs == None"
   ]
  },
  {
   "cell_type": "code",
   "execution_count": 16,
   "metadata": {
    "collapsed": true
   },
   "outputs": [],
   "source": [
    "output_file_path = \"{}/{}.geojson\".format(ec2_output_path,INPUT_TABLE_NAME)"
   ]
  },
  {
   "cell_type": "code",
   "execution_count": 17,
   "metadata": {},
   "outputs": [
    {
     "name": "stdout",
     "output_type": "stream",
     "text": [
      "/volumes/data/Y2018M07D03_RH_Upload_Hydrobasin_Mapbox_V01/output_V03/hybas06_v04.geojson\n"
     ]
    }
   ],
   "source": [
    "print(output_file_path)"
   ]
  },
  {
   "cell_type": "code",
   "execution_count": 18,
   "metadata": {
    "collapsed": true
   },
   "outputs": [],
   "source": [
    "gdf_out_clean.to_file(output_file_path,driver=\"GeoJSON\",encoding=\"UTF-8\")"
   ]
  },
  {
   "cell_type": "code",
   "execution_count": 19,
   "metadata": {
    "collapsed": true
   },
   "outputs": [],
   "source": [
    "service = mapbox.Uploader()"
   ]
  },
  {
   "cell_type": "code",
   "execution_count": 21,
   "metadata": {
    "collapsed": true
   },
   "outputs": [],
   "source": [
    "mapid = output_dataset_name"
   ]
  },
  {
   "cell_type": "code",
   "execution_count": 22,
   "metadata": {
    "collapsed": true
   },
   "outputs": [],
   "source": [
    "with open(output_file_path, 'rb') as src:\n",
    "    upload_resp = service.upload(src, mapid)"
   ]
  },
  {
   "cell_type": "code",
   "execution_count": 23,
   "metadata": {},
   "outputs": [
    {
     "data": {
      "text/plain": [
       "201"
      ]
     },
     "execution_count": 23,
     "metadata": {},
     "output_type": "execute_result"
    }
   ],
   "source": [
    "upload_resp.status_code"
   ]
  },
  {
   "cell_type": "code",
   "execution_count": 26,
   "metadata": {
    "collapsed": true
   },
   "outputs": [],
   "source": [
    "upload_id = upload_resp.json()['id']"
   ]
  },
  {
   "cell_type": "code",
   "execution_count": 27,
   "metadata": {},
   "outputs": [
    {
     "data": {
      "text/plain": [
       "'cjj6yegwo0jfb2qt9567bq9wj'"
      ]
     },
     "execution_count": 27,
     "metadata": {},
     "output_type": "execute_result"
    }
   ],
   "source": [
    "upload_id"
   ]
  },
  {
   "cell_type": "code",
   "execution_count": 29,
   "metadata": {},
   "outputs": [],
   "source": [
    "# Upload is processed on the server."
   ]
  },
  {
   "cell_type": "code",
   "execution_count": 30,
   "metadata": {
    "collapsed": true
   },
   "outputs": [],
   "source": [
    "engine.dispose()"
   ]
  },
  {
   "cell_type": "code",
   "execution_count": 31,
   "metadata": {},
   "outputs": [
    {
     "name": "stdout",
     "output_type": "stream",
     "text": [
      "0:13:59.563697\n"
     ]
    }
   ],
   "source": [
    "end = datetime.datetime.now()\n",
    "elapsed = end - start\n",
    "print(elapsed)"
   ]
  },
  {
   "cell_type": "markdown",
   "metadata": {},
   "source": [
    "Previous runs:  \n"
   ]
  }
 ],
 "metadata": {
  "kernelspec": {
   "display_name": "Python 35",
   "language": "python",
   "name": "python35"
  },
  "language_info": {
   "codemirror_mode": {
    "name": "ipython",
    "version": 3
   },
   "file_extension": ".py",
   "mimetype": "text/x-python",
   "name": "python",
   "nbconvert_exporter": "python",
   "pygments_lexer": "ipython3",
   "version": "3.5.4"
  }
 },
 "nbformat": 4,
 "nbformat_minor": 2
}
