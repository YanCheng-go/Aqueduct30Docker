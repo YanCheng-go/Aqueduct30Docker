{
 "cells": [
  {
   "cell_type": "code",
   "execution_count": 1,
   "metadata": {},
   "outputs": [
    {
     "name": "stdout",
     "output_type": "stream",
     "text": [
      "\n",
      "RDS_DATABASE_ENDPOINT:  aqueduct30v05.cgpnumwmfcqc.eu-central-1.rds.amazonaws.com \n",
      "RDS_DATABASE_NAME:  database01 \n",
      "RDS_INPUT_TABLE_LEFT:  hybas06_v04 \n",
      "RDS_INPUT_TABLE_RIGHT:  y2018m11d12_rh_gadm36_level1_to_rds_v01_v02 \n",
      "RDS_OUTPUT_TABLE_NAME:  y2018m11d15_rh_hybas_union_gadm_rds_v01_v01\n"
     ]
    }
   ],
   "source": [
    "\"\"\" Union of Hybas and GADM in Bigquey.\n",
    "-------------------------------------------------------------------------------\n",
    "\n",
    "Author: Rutger Hofste\n",
    "Date: 20181115\n",
    "Kernel: python35\n",
    "Docker: rutgerhofste/gisdocker:ubuntu16.04\n",
    "\n",
    "\"\"\"\n",
    "\n",
    "TESTING = 0\n",
    "SCRIPT_NAME = 'Y2018M11D15_RH_Hybas_Union_GADM_RDS_V01'\n",
    "OUTPUT_VERSION = 1\n",
    "\n",
    "RDS_DATABASE_ENDPOINT = \"aqueduct30v05.cgpnumwmfcqc.eu-central-1.rds.amazonaws.com\"\n",
    "RDS_DATABASE_NAME = \"database01\"\n",
    "\n",
    "RDS_INPUT_TABLE_LEFT = \"hybas06_v04\"\n",
    "RDS_INPUT_TABLE_RIGHT = \"y2018m11d12_rh_gadm36_level1_to_rds_v01_v02\"\n",
    "\n",
    "RDS_OUTPUT_TABLE_NAME = \"{}_v{:02.0f}\".format(SCRIPT_NAME,OUTPUT_VERSION).lower()\n",
    "\n",
    "print(\"\\nRDS_DATABASE_ENDPOINT: \", RDS_DATABASE_ENDPOINT,\n",
    "      \"\\nRDS_DATABASE_NAME: \", RDS_DATABASE_NAME,\n",
    "      \"\\nRDS_INPUT_TABLE_LEFT: \",RDS_INPUT_TABLE_LEFT,\n",
    "      \"\\nRDS_INPUT_TABLE_RIGHT: \",RDS_INPUT_TABLE_RIGHT,\n",
    "      \"\\nRDS_OUTPUT_TABLE_NAME: \", RDS_OUTPUT_TABLE_NAME)\n",
    "\n",
    "\n"
   ]
  },
  {
   "cell_type": "code",
   "execution_count": 2,
   "metadata": {},
   "outputs": [
    {
     "name": "stdout",
     "output_type": "stream",
     "text": [
      "Y2018M11D15 UTC 16:34\n"
     ]
    },
    {
     "data": {
      "text/plain": [
       "'3.5.4 |Anaconda, Inc.| (default, Nov 20 2017, 18:44:38) \\n[GCC 7.2.0]'"
      ]
     },
     "execution_count": 2,
     "metadata": {},
     "output_type": "execute_result"
    }
   ],
   "source": [
    "import time, datetime, sys\n",
    "dateString = time.strftime(\"Y%YM%mD%d\")\n",
    "timeString = time.strftime(\"UTC %H:%M\")\n",
    "start = datetime.datetime.now()\n",
    "print(dateString,timeString)\n",
    "sys.version"
   ]
  },
  {
   "cell_type": "code",
   "execution_count": 3,
   "metadata": {
    "collapsed": true
   },
   "outputs": [],
   "source": [
    "import os\n",
    "import sqlalchemy\n",
    "import pandas as pd\n",
    "import geopandas as gpd"
   ]
  },
  {
   "cell_type": "code",
   "execution_count": 4,
   "metadata": {
    "collapsed": true
   },
   "outputs": [],
   "source": [
    "F = open(\"/.password\",\"r\")\n",
    "password = F.read().splitlines()[0]\n",
    "F.close()\n",
    "\n",
    "engine = sqlalchemy.create_engine(\"postgresql://rutgerhofste:{}@{}:5432/{}\".format(password,RDS_DATABASE_ENDPOINT,RDS_DATABASE_NAME))\n"
   ]
  },
  {
   "cell_type": "code",
   "execution_count": 5,
   "metadata": {
    "collapsed": true
   },
   "outputs": [],
   "source": [
    "sql = \"\"\"\n",
    "CREATE TABLE {} AS\n",
    "-- input data\n",
    "with polys1 AS (\n",
    "  SELECT\n",
    "    t1.pfaf_id,\n",
    "    t1.geom\n",
    "  FROM \n",
    "    {} t1\n",
    "),\n",
    "polys2 AS (\n",
    "  SELECT\n",
    "    t1.gid_1,\n",
    "    t1.geom\n",
    "  FROM \n",
    "    {} t1\n",
    "),\n",
    "-- left and right unions\n",
    "union1 AS (\n",
    "  SELECT ST_UNION(geom) FROM polys1\n",
    "),\n",
    "union2 AS (\n",
    "  SELECT ST_UNION(geom) FROM polys2\n",
    "),\n",
    "-- various combinations of intersections\n",
    "pairs AS (\n",
    "  SELECT pfaf_id, gid_1, ST_INTERSECTION(a.geom, b.geom) geom FROM polys1 a, polys2 b WHERE ST_INTERSECTS(a.geom, b.geom) \n",
    "  UNION ALL\n",
    "  SELECT pfaf_id, NULL, ST_DIFFERENCE(geom, (SELECT * FROM union2)) geog FROM polys1\n",
    "  UNION ALL \n",
    "  SELECT NULL, gid_1, ST_DIFFERENCE(geom, (SELECT * FROM union1)) geog FROM polys2\n",
    ")\n",
    "SELECT * FROM pairs WHERE NOT ST_IsEmpty(geom)\n",
    "\"\"\".format(RDS_OUTPUT_TABLE_NAME,RDS_INPUT_TABLE_LEFT,RDS_INPUT_TABLE_RIGHT)"
   ]
  },
  {
   "cell_type": "code",
   "execution_count": null,
   "metadata": {
    "collapsed": true
   },
   "outputs": [],
   "source": [
    "result = engine.execute(sql)"
   ]
  },
  {
   "cell_type": "code",
   "execution_count": null,
   "metadata": {
    "collapsed": true
   },
   "outputs": [],
   "source": [
    "end = datetime.datetime.now()\n",
    "elapsed = end - start\n",
    "print(elapsed)"
   ]
  }
 ],
 "metadata": {
  "kernelspec": {
   "display_name": "Python 35",
   "language": "python",
   "name": "python35"
  },
  "language_info": {
   "codemirror_mode": {
    "name": "ipython",
    "version": 3
   },
   "file_extension": ".py",
   "mimetype": "text/x-python",
   "name": "python",
   "nbconvert_exporter": "python",
   "pygments_lexer": "ipython3",
   "version": "3.5.4"
  }
 },
 "nbformat": 4,
 "nbformat_minor": 2
}
