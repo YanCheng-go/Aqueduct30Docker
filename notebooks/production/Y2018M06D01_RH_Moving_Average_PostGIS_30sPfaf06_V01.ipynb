{
 "cells": [
  {
   "cell_type": "code",
   "execution_count": 1,
   "metadata": {},
   "outputs": [
    {
     "name": "stdout",
     "output_type": "stream",
     "text": [
      "Input Table:  y2018m05d29_rh_total_demand_postgis_30spfaf06_v01_v02 \n",
      "Output Table:  y2018m06d01_rh_moving_average_postgis_30spfaf06_v01_v03\n"
     ]
    }
   ],
   "source": [
    "\"\"\" Create total WW and total WN columns in simplified table.\n",
    "-------------------------------------------------------------------------------\n",
    "\n",
    "Author: Rutger Hofste\n",
    "Date: 20180601\n",
    "Kernel: python35\n",
    "Docker: rutgerhofste/gisdocker:ubuntu16.04\n",
    "\n",
    "Args:\n",
    "    TESTING (Boolean) : Toggle testing case.\n",
    "    SCRIPT_NAME (string) : Script name.\n",
    "    OUTPUT_VERSION (integer) : output version.\n",
    "    DATABASE_ENDPOINT (string) : RDS or postGreSQL endpoint.\n",
    "    DATABASE_NAME (string) : Database name.\n",
    "    TABLE_NAME_AREA_30SPFAF06 (string) : Table name used for areas. Must exist\n",
    "        on same database as used in rest of script.\n",
    "    S3_INPUT_PATH_RIVERDISCHARGE (string) : AWS S3 input path for \n",
    "        riverdischarge.    \n",
    "    S3_INPUT_PATH_DEMAND (string) : AWS S3 input path for \n",
    "        demand.     \n",
    "\n",
    "\"\"\"\n",
    "\n",
    "TESTING = 0\n",
    "OVERWRITE_OUTPUT = 1\n",
    "SCRIPT_NAME = 'Y2018M06D01_RH_Moving_Average_PostGIS_30sPfaf06_V01'\n",
    "OUTPUT_VERSION = 3\n",
    "\n",
    "DATABASE_ENDPOINT = \"aqueduct30v05.cgpnumwmfcqc.eu-central-1.rds.amazonaws.com\"\n",
    "DATABASE_NAME = \"database01\"\n",
    "INPUT_TABLE_NAME = 'y2018m05d29_rh_total_demand_postgis_30spfaf06_v01_v02'\n",
    "OUTPUT_TABLE_NAME = SCRIPT_NAME.lower() + \"_v{:02.0f}\".format(OUTPUT_VERSION)\n",
    "\n",
    "print(\"Input Table: \" , INPUT_TABLE_NAME, \n",
    "      \"\\nOutput Table: \" , OUTPUT_TABLE_NAME)\n"
   ]
  },
  {
   "cell_type": "code",
   "execution_count": 2,
   "metadata": {},
   "outputs": [
    {
     "name": "stdout",
     "output_type": "stream",
     "text": [
      "Y2018M06D05 UTC 10:58\n"
     ]
    },
    {
     "data": {
      "text/plain": [
       "'3.5.4 |Anaconda, Inc.| (default, Nov 20 2017, 18:44:38) \\n[GCC 7.2.0]'"
      ]
     },
     "execution_count": 2,
     "metadata": {},
     "output_type": "execute_result"
    }
   ],
   "source": [
    "import time, datetime, sys\n",
    "dateString = time.strftime(\"Y%YM%mD%d\")\n",
    "timeString = time.strftime(\"UTC %H:%M\")\n",
    "start = datetime.datetime.now()\n",
    "print(dateString,timeString)\n",
    "sys.version"
   ]
  },
  {
   "cell_type": "code",
   "execution_count": 3,
   "metadata": {
    "collapsed": true
   },
   "outputs": [],
   "source": [
    "# imports\n",
    "import re\n",
    "import os\n",
    "import numpy as np\n",
    "import pandas as pd\n",
    "import aqueduct3\n",
    "from datetime import timedelta\n",
    "from sqlalchemy import *\n",
    "pd.set_option('display.max_columns', 500)"
   ]
  },
  {
   "cell_type": "code",
   "execution_count": 4,
   "metadata": {
    "collapsed": true
   },
   "outputs": [],
   "source": [
    "F = open(\"/.password\",\"r\")\n",
    "password = F.read().splitlines()[0]\n",
    "F.close()\n",
    "\n",
    "engine = create_engine(\"postgresql://rutgerhofste:{}@{}:5432/{}\".format(password,DATABASE_ENDPOINT,DATABASE_NAME))\n",
    "connection = engine.connect()\n",
    "\n",
    "if OVERWRITE_OUTPUT:\n",
    "    sql = text(\"DROP TABLE IF EXISTS {};\".format(OUTPUT_TABLE_NAME))\n",
    "    result = engine.execute(sql)"
   ]
  },
  {
   "cell_type": "code",
   "execution_count": 5,
   "metadata": {},
   "outputs": [
    {
     "data": {
      "text/plain": [
       "['pdomww_m_30spfaf06',\n",
       " 'pdomwn_m_30spfaf06',\n",
       " 'pindww_m_30spfaf06',\n",
       " 'pindwn_m_30spfaf06',\n",
       " 'pirrww_m_30spfaf06',\n",
       " 'pirrwn_m_30spfaf06',\n",
       " 'plivww_m_30spfaf06',\n",
       " 'plivwn_m_30spfaf06',\n",
       " 'ptotww_m_30spfaf06',\n",
       " 'ptotwn_m_30spfaf06',\n",
       " 'riverdischarge_m_30spfaf06']"
      ]
     },
     "execution_count": 5,
     "metadata": {},
     "output_type": "execute_result"
    }
   ],
   "source": [
    "input_columns = [\"pfafid_30spfaf06\",\n",
    "                 \"temporal_resolution\",\n",
    "                 \"year\",\n",
    "                 \"month\",\n",
    "                 \"area_m2_30spfaf06\",\n",
    "                 \"area_count_30spfaf06\"]\n",
    "\n",
    "sectors = [\"dom\",\"ind\",\"irr\",\"liv\",\"tot\"]\n",
    "demand_types = [\"ww\",\"wn\"]\n",
    "supply = [\"riverdischarge\"]\n",
    "\n",
    "demand_column_names = []\n",
    "for sector in sectors:\n",
    "    for demand_type in demand_types:\n",
    "        demand_column_name = \"p{}{}_m_30spfaf06\".format(sector,demand_type)\n",
    "        demand_column_names.append(demand_column_name)\n",
    "supply_column_names = [\"{}_m_30spfaf06\".format(supply[0])]\n",
    "ma_columns = demand_column_names + supply_column_names\n",
    "ma_columns"
   ]
  },
  {
   "cell_type": "code",
   "execution_count": 6,
   "metadata": {
    "collapsed": true
   },
   "outputs": [],
   "source": [
    "def create_ma_query(ma_window,con,input_table_name,output_table_name,input_columns, ma_columns):\n",
    "    \"\"\" Applies a moving average and saves the result in a new table. \n",
    "    -------------------------------------------------------------------------------\n",
    "    \n",
    "    Designed to work with aqueduct table structure that includes a year, month and\n",
    "    temporal_resolution column. Will not work with other tables.     \n",
    "    \n",
    "    Args:\n",
    "        ma_window (integer) : Moving Average length e.g. 10 year.\n",
    "        con (sqlAlchemy) : Database Connection. \n",
    "        input_table_name (string) : Input table name.\n",
    "        output_table_name (string) : Output table name.\n",
    "        input_columns (list) : list of column names used in the query and saved to\n",
    "            output. e.g. year, month, pfafid etc. \n",
    "        ma_columns (list) : list of column names to apply the moving average to.\n",
    "            should be present in input table. \n",
    "    \n",
    "    \n",
    "    \"\"\"\n",
    "    sql = \"CREATE TABLE {} AS \".format(output_table_name)\n",
    "    sql = sql + \"SELECT\"    \n",
    "    for input_column in input_columns:\n",
    "        sql = sql + \" {},\".format(input_column)\n",
    "    for ma_column in ma_columns:\n",
    "        sql = sql + \" AVG({}) OVER(PARTITION BY pfafid_30spfaf06, month, temporal_resolution ORDER BY year ROWS BETWEEN {:01.0f} PRECEDING AND CURRENT ROW) AS ma{:02.0f}_{},\".format(ma_column,ma_window-1,ma_window,ma_column)\n",
    "    \n",
    "    sql = sql[:-1]\n",
    "    sql = sql + \" FROM {}\".format(input_table_name)\n",
    "    return sql\n",
    "    "
   ]
  },
  {
   "cell_type": "code",
   "execution_count": 7,
   "metadata": {
    "collapsed": true
   },
   "outputs": [],
   "source": [
    "sql = create_ma_query( 10 ,connection ,INPUT_TABLE_NAME,OUTPUT_TABLE_NAME,input_columns, ma_columns)"
   ]
  },
  {
   "cell_type": "code",
   "execution_count": 8,
   "metadata": {},
   "outputs": [
    {
     "name": "stdout",
     "output_type": "stream",
     "text": [
      "CREATE TABLE y2018m06d01_rh_moving_average_postgis_30spfaf06_v01_v03 AS SELECT pfafid_30spfaf06, temporal_resolution, year, month, area_m2_30spfaf06, area_count_30spfaf06, AVG(pdomww_m_30spfaf06) OVER(PARTITION BY pfafid_30spfaf06, month, temporal_resolution ORDER BY year ROWS BETWEEN 9 PRECEDING AND CURRENT ROW) AS ma10_pdomww_m_30spfaf06, AVG(pdomwn_m_30spfaf06) OVER(PARTITION BY pfafid_30spfaf06, month, temporal_resolution ORDER BY year ROWS BETWEEN 9 PRECEDING AND CURRENT ROW) AS ma10_pdomwn_m_30spfaf06, AVG(pindww_m_30spfaf06) OVER(PARTITION BY pfafid_30spfaf06, month, temporal_resolution ORDER BY year ROWS BETWEEN 9 PRECEDING AND CURRENT ROW) AS ma10_pindww_m_30spfaf06, AVG(pindwn_m_30spfaf06) OVER(PARTITION BY pfafid_30spfaf06, month, temporal_resolution ORDER BY year ROWS BETWEEN 9 PRECEDING AND CURRENT ROW) AS ma10_pindwn_m_30spfaf06, AVG(pirrww_m_30spfaf06) OVER(PARTITION BY pfafid_30spfaf06, month, temporal_resolution ORDER BY year ROWS BETWEEN 9 PRECEDING AND CURRENT ROW) AS ma10_pirrww_m_30spfaf06, AVG(pirrwn_m_30spfaf06) OVER(PARTITION BY pfafid_30spfaf06, month, temporal_resolution ORDER BY year ROWS BETWEEN 9 PRECEDING AND CURRENT ROW) AS ma10_pirrwn_m_30spfaf06, AVG(plivww_m_30spfaf06) OVER(PARTITION BY pfafid_30spfaf06, month, temporal_resolution ORDER BY year ROWS BETWEEN 9 PRECEDING AND CURRENT ROW) AS ma10_plivww_m_30spfaf06, AVG(plivwn_m_30spfaf06) OVER(PARTITION BY pfafid_30spfaf06, month, temporal_resolution ORDER BY year ROWS BETWEEN 9 PRECEDING AND CURRENT ROW) AS ma10_plivwn_m_30spfaf06, AVG(ptotww_m_30spfaf06) OVER(PARTITION BY pfafid_30spfaf06, month, temporal_resolution ORDER BY year ROWS BETWEEN 9 PRECEDING AND CURRENT ROW) AS ma10_ptotww_m_30spfaf06, AVG(ptotwn_m_30spfaf06) OVER(PARTITION BY pfafid_30spfaf06, month, temporal_resolution ORDER BY year ROWS BETWEEN 9 PRECEDING AND CURRENT ROW) AS ma10_ptotwn_m_30spfaf06, AVG(riverdischarge_m_30spfaf06) OVER(PARTITION BY pfafid_30spfaf06, month, temporal_resolution ORDER BY year ROWS BETWEEN 9 PRECEDING AND CURRENT ROW) AS ma10_riverdischarge_m_30spfaf06 FROM y2018m05d29_rh_total_demand_postgis_30spfaf06_v01_v02\n"
     ]
    }
   ],
   "source": [
    "print(sql)"
   ]
  },
  {
   "cell_type": "code",
   "execution_count": 9,
   "metadata": {
    "collapsed": true
   },
   "outputs": [],
   "source": [
    "result = engine.execute(sql)"
   ]
  },
  {
   "cell_type": "code",
   "execution_count": 10,
   "metadata": {},
   "outputs": [
    {
     "data": {
      "text/plain": [
       "'\\nCREATE TABLE test01 AS \\nSELECT year, month, ptotww_m_30spfaf06, ptotwn_m_30spfaf06, riverdischarge_m_30spfaf06,pdomww_m_30spfaf06, temporal_resolution, \\n    AVG(ptotww_m_30spfaf06) \\n        OVER(PARTITION BY month, temporal_resolution ORDER BY year ROWS BETWEEN 9 PRECEDING AND CURRENT ROW) AS ma10_ptotww_m_30spfaf06,\\n    AVG(ptotwn_m_30spfaf06) \\n        OVER(PARTITION BY month, temporal_resolution ORDER BY year ROWS BETWEEN 9 PRECEDING AND CURRENT ROW) AS ma10_ptotwn_m_30spfaf06,\\n    AVG(riverdischarge_m_30spfaf06) \\n        OVER(PARTITION BY month, temporal_resolution ORDER BY year ROWS BETWEEN 9 PRECEDING AND CURRENT ROW) AS ma10_riverdischarge_m_30spfaf06, \\n    AVG(pdomww_m_30spfaf06) \\n        OVER(PARTITION BY month, temporal_resolution ORDER BY year ROWS BETWEEN 9 PRECEDING AND CURRENT ROW) AS ma10_pdomww_m_30spfaf06    \\nFROM temp_table\\n'"
      ]
     },
     "execution_count": 10,
     "metadata": {},
     "output_type": "execute_result"
    }
   ],
   "source": [
    "# Based on https://www.compose.com/articles/metrics-maven-calculating-a-moving-average-in-postgresql/\n",
    "\n",
    "\"\"\"\n",
    "CREATE TABLE test01 AS \n",
    "SELECT year, month, ptotww_m_30spfaf06, ptotwn_m_30spfaf06, riverdischarge_m_30spfaf06,pdomww_m_30spfaf06, temporal_resolution, \n",
    "    AVG(ptotww_m_30spfaf06) \n",
    "        OVER(PARTITION BY month, temporal_resolution ORDER BY year ROWS BETWEEN 9 PRECEDING AND CURRENT ROW) AS ma10_ptotww_m_30spfaf06,\n",
    "    AVG(ptotwn_m_30spfaf06) \n",
    "        OVER(PARTITION BY month, temporal_resolution ORDER BY year ROWS BETWEEN 9 PRECEDING AND CURRENT ROW) AS ma10_ptotwn_m_30spfaf06,\n",
    "    AVG(riverdischarge_m_30spfaf06) \n",
    "        OVER(PARTITION BY month, temporal_resolution ORDER BY year ROWS BETWEEN 9 PRECEDING AND CURRENT ROW) AS ma10_riverdischarge_m_30spfaf06, \n",
    "    AVG(pdomww_m_30spfaf06) \n",
    "        OVER(PARTITION BY month, temporal_resolution ORDER BY year ROWS BETWEEN 9 PRECEDING AND CURRENT ROW) AS ma10_pdomww_m_30spfaf06    \n",
    "FROM temp_table\n",
    "\"\"\""
   ]
  },
  {
   "cell_type": "code",
   "execution_count": 11,
   "metadata": {
    "collapsed": true
   },
   "outputs": [],
   "source": [
    "engine.dispose()"
   ]
  },
  {
   "cell_type": "code",
   "execution_count": 12,
   "metadata": {},
   "outputs": [
    {
     "name": "stdout",
     "output_type": "stream",
     "text": [
      "0:03:44.809997\n"
     ]
    }
   ],
   "source": [
    "end = datetime.datetime.now()\n",
    "elapsed = end - start\n",
    "print(elapsed)"
   ]
  },
  {
   "cell_type": "markdown",
   "metadata": {},
   "source": [
    "Previous runs:  \n",
    "0:04:02.980766  \n",
    "0:06:26.539338  \n",
    "0:03:44.809997\n",
    "\n"
   ]
  },
  {
   "cell_type": "code",
   "execution_count": null,
   "metadata": {
    "collapsed": true
   },
   "outputs": [],
   "source": []
  }
 ],
 "metadata": {
  "kernelspec": {
   "display_name": "Python 35",
   "language": "python",
   "name": "python35"
  },
  "language_info": {
   "codemirror_mode": {
    "name": "ipython",
    "version": 3
   },
   "file_extension": ".py",
   "mimetype": "text/x-python",
   "name": "python",
   "nbconvert_exporter": "python",
   "pygments_lexer": "ipython3",
   "version": "3.5.4"
  }
 },
 "nbformat": 4,
 "nbformat_minor": 2
}
