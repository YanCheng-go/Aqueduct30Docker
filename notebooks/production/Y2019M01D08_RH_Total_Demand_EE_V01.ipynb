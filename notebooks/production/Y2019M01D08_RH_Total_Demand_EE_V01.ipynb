{
 "cells": [
  {
   "cell_type": "code",
   "execution_count": 1,
   "metadata": {},
   "outputs": [
    {
     "name": "stdout",
     "output_type": "stream",
     "text": [
      "ic_pdomww_path : projects/WRI-Aquaduct/PCRGlobWB20V09/global_historical_PDomWW_year_m_5min_1960_2014 \n",
      "ic_pindww_path : projects/WRI-Aquaduct/PCRGlobWB20V09/global_historical_PIndWW_year_m_5min_1960_2014 \n",
      "ic_pirrww_path : projects/WRI-Aquaduct/PCRGlobWB20V09/global_historical_PIrrWW_year_m_5min_1960_2014 \n",
      "ic_plivww_path : projects/WRI-Aquaduct/PCRGlobWB20V09/global_historical_PLivWW_year_m_5min_1960_2014\n"
     ]
    }
   ],
   "source": [
    "\"\"\" Total demand to be used as weights for spatial aggregation.\n",
    "-------------------------------------------------------------------------------\n",
    "\n",
    "Note that exporting global images including polar regions at a 5 arcminute \n",
    "resolution leads to internal errors. Using a maximum latitude of 89.5 which\n",
    "corresponds to 4320 x 2148 pixels\n",
    "\n",
    "Creates total demand images. Will create a simple mean image for now but can be\n",
    "extended to create imagecollections per sector etc. \n",
    "\n",
    "[ww,wn] -> ww\n",
    "[year,month] -> year\n",
    "[1960-2014] -> mean\n",
    "[dom,ind,irr,liv]  -> total\n",
    "\n",
    "\n",
    "Author: Rutger Hofste\n",
    "Date: 20190108\n",
    "Kernel: python35\n",
    "Docker: rutgerhofste/gisdocker:ubuntu16.04\n",
    "\n",
    "Args:\n",
    "\n",
    "\"\"\"\n",
    "\n",
    "\n",
    "TESTING = 0\n",
    "SCRIPT_NAME = \"Y2019M01D08_RH_Total_Demand_EE_V01\"\n",
    "OUTPUT_VERSION = 4\n",
    "\n",
    "X_DIMENSION_5MIN = 4320\n",
    "Y_DIMENSION_5MIN = 2160\n",
    "Y_DIMENSION_5MIN_NOPOLAR = 2148 # was (2160)\n",
    "\n",
    "X_DIMENSION_30S = 43200\n",
    "Y_DIMENSION_30S = 21600\n",
    "Y_DIMENSION_30S_NOPOLAR = 21480 # was (21600)\n",
    "\n",
    "CRS = \"EPSG:4326\"\n",
    "\n",
    "CRS_TRANSFORM_5MIN_NOPOLAR = \"\"\"[\n",
    "    0.08333333333333333,\n",
    "    0,\n",
    "    -180,\n",
    "    0,\n",
    "    -0.08333333333333333,\n",
    "    89.5\n",
    "]\"\"\"\n",
    "\n",
    "CRS_TRANSFORM_30S_NOPOLAR = \"\"\"[\n",
    "    0.008333333333333333,\n",
    "    0,\n",
    "    -180,\n",
    "    0,\n",
    "    -0.008333333333333333,\n",
    "    89.5\n",
    "]\"\"\"\n",
    "\n",
    "dimensions_5min_nopolar = \"{}x{}\".format(X_DIMENSION_5MIN,Y_DIMENSION_5MIN_NOPOLAR)\n",
    "dimensions_30s_nopolar = \"{}x{}\".format(X_DIMENSION_30S,Y_DIMENSION_30S_NOPOLAR)\n",
    "\n",
    "ic_paths ={}\n",
    "ic_paths[\"Dom\"] = \"projects/WRI-Aquaduct/PCRGlobWB20V09/global_historical_PDomWW_year_m_5min_1960_2014\"\n",
    "ic_paths[\"Ind\"] = \"projects/WRI-Aquaduct/PCRGlobWB20V09/global_historical_PIndWW_year_m_5min_1960_2014\"\n",
    "ic_paths[\"Irr\"] = \"projects/WRI-Aquaduct/PCRGlobWB20V09/global_historical_PIrrWW_year_m_5min_1960_2014\"\n",
    "ic_paths[\"Liv\"] = \"projects/WRI-Aquaduct/PCRGlobWB20V09/global_historical_PLivWW_year_m_5min_1960_2014\"\n",
    "\n",
    "print(\"ic_pdomww_path :\",ic_paths[\"Dom\"],\n",
    "      \"\\nic_pindww_path :\",ic_paths[\"Ind\"],\n",
    "      \"\\nic_pirrww_path :\",ic_paths[\"Irr\"],\n",
    "      \"\\nic_plivww_path :\",ic_paths[\"Liv\"])"
   ]
  },
  {
   "cell_type": "code",
   "execution_count": 2,
   "metadata": {},
   "outputs": [
    {
     "name": "stdout",
     "output_type": "stream",
     "text": [
      "Y2019M01D29 UTC 08:14\n"
     ]
    },
    {
     "data": {
      "text/plain": [
       "'3.5.4 |Anaconda, Inc.| (default, Nov 20 2017, 18:44:38) \\n[GCC 7.2.0]'"
      ]
     },
     "execution_count": 2,
     "metadata": {},
     "output_type": "execute_result"
    }
   ],
   "source": [
    "import time, datetime, sys\n",
    "dateString = time.strftime(\"Y%YM%mD%d\")\n",
    "timeString = time.strftime(\"UTC %H:%M\")\n",
    "start = datetime.datetime.now()\n",
    "print(dateString,timeString)\n",
    "sys.version"
   ]
  },
  {
   "cell_type": "code",
   "execution_count": 3,
   "metadata": {
    "collapsed": true
   },
   "outputs": [],
   "source": [
    "import ee\n",
    "import subprocess"
   ]
  },
  {
   "cell_type": "code",
   "execution_count": 4,
   "metadata": {
    "collapsed": true
   },
   "outputs": [],
   "source": [
    "ee.Initialize()"
   ]
  },
  {
   "cell_type": "code",
   "execution_count": 5,
   "metadata": {
    "collapsed": true
   },
   "outputs": [],
   "source": [
    "sectors = [\"Dom\",\"Ind\",\"Irr\",\"Liv\"]"
   ]
  },
  {
   "cell_type": "code",
   "execution_count": 6,
   "metadata": {
    "collapsed": true
   },
   "outputs": [],
   "source": [
    "reduced_image = {}\n",
    "for sector in sectors:\n",
    "    reduced_image[sector] = ee.ImageCollection(ic_paths[sector]).reduce(ee.Reducer.mean())\n"
   ]
  },
  {
   "cell_type": "code",
   "execution_count": 7,
   "metadata": {
    "collapsed": true
   },
   "outputs": [],
   "source": [
    "reduced_image[\"Tot\"] = reduced_image[\"Dom\"].add(reduced_image[\"Ind\"]).add(reduced_image[\"Ind\"]).add(reduced_image[\"Irr\"]).add(reduced_image[\"Liv\"])"
   ]
  },
  {
   "cell_type": "code",
   "execution_count": 8,
   "metadata": {
    "collapsed": true
   },
   "outputs": [],
   "source": [
    "sectors.append(\"Tot\")"
   ]
  },
  {
   "cell_type": "code",
   "execution_count": 9,
   "metadata": {
    "collapsed": true
   },
   "outputs": [],
   "source": [
    "def post_process(image):\n",
    "    image = image.select([\"b1_mean\"],[\"b1\"])\n",
    "    properties = {\"reducer\":\"mean\",\n",
    "                  \"year_min\":1960,\n",
    "                  \"year_max\":2014,\n",
    "                  \"unit\":\"m\",\n",
    "                  \"spatial_resolution\":\"5min\",\n",
    "                  \"script_used\":SCRIPT_NAME,\n",
    "                  \"output_version\":OUTPUT_VERSION     \n",
    "    }\n",
    "    image = image.set(properties)\n",
    "    return image"
   ]
  },
  {
   "cell_type": "code",
   "execution_count": 10,
   "metadata": {},
   "outputs": [
    {
     "name": "stdout",
     "output_type": "stream",
     "text": [
      "Dom\n",
      "Ind\n",
      "Irr\n",
      "Liv\n",
      "Tot\n"
     ]
    }
   ],
   "source": [
    "image_out = {}\n",
    "for sector in sectors:\n",
    "    print(sector)\n",
    "    image_out[sector] = post_process(reduced_image[sector])"
   ]
  },
  {
   "cell_type": "code",
   "execution_count": 11,
   "metadata": {
    "collapsed": true
   },
   "outputs": [],
   "source": [
    "command = \"earthengine create folder projects/WRI-Aquaduct/{}\".format(SCRIPT_NAME)\n",
    "response = subprocess.check_output(command,shell=True)"
   ]
  },
  {
   "cell_type": "code",
   "execution_count": 12,
   "metadata": {
    "collapsed": true
   },
   "outputs": [],
   "source": [
    "command = \"earthengine create folder projects/WRI-Aquaduct/{}/output_V{:02.0f}\".format(SCRIPT_NAME,OUTPUT_VERSION)\n",
    "response = subprocess.check_output(command,shell=True)"
   ]
  },
  {
   "cell_type": "code",
   "execution_count": 13,
   "metadata": {},
   "outputs": [
    {
     "name": "stdout",
     "output_type": "stream",
     "text": [
      "Dom\n",
      "Ind\n",
      "Irr\n",
      "Liv\n",
      "Tot\n"
     ]
    }
   ],
   "source": [
    "for sector in sectors:\n",
    "    print(sector)\n",
    "    description_5min = \"{}_{}_5min\".format(SCRIPT_NAME,sector)\n",
    "    asset_id_5min = 'projects/WRI-Aquaduct/{}/output_V{:02.0f}/global_historical_P{}WW_year_m_5min_1960_2014'.format(SCRIPT_NAME,OUTPUT_VERSION,sector)\n",
    "    description_30s = \"{}_{}_30s\".format(SCRIPT_NAME,sector)\n",
    "    asset_id_30s = 'projects/WRI-Aquaduct/{}/output_V{:02.0f}/global_historical_P{}WW_year_m_30s_1960_2014'.format(SCRIPT_NAME,OUTPUT_VERSION,sector)\n",
    "    \n",
    "    task_5min = ee.batch.Export.image.toAsset(\n",
    "        image =  ee.Image(image_out[sector]),\n",
    "        description = description_5min,\n",
    "        assetId = asset_id_5min,\n",
    "        dimensions = dimensions_5min_nopolar,\n",
    "        crs = CRS,\n",
    "        crsTransform = CRS_TRANSFORM_5MIN_NOPOLAR,\n",
    "        maxPixels = 1e10   \n",
    "    )\n",
    "    \n",
    "    task_5min.start()\n",
    "    \n",
    "    task_30s = ee.batch.Export.image.toAsset(\n",
    "        image =  ee.Image(image_out[sector]),\n",
    "        description = description_30s,\n",
    "        assetId = asset_id_30s,\n",
    "        dimensions = dimensions_30s_nopolar,\n",
    "        crs = CRS,\n",
    "        crsTransform = CRS_TRANSFORM_30S_NOPOLAR,\n",
    "        maxPixels = 1e10   \n",
    "    )\n",
    "    task_30s.start()\n"
   ]
  },
  {
   "cell_type": "code",
   "execution_count": 14,
   "metadata": {},
   "outputs": [
    {
     "name": "stdout",
     "output_type": "stream",
     "text": [
      "0:00:22.601835\n"
     ]
    }
   ],
   "source": [
    "end = datetime.datetime.now()\n",
    "elapsed = end - start\n",
    "print(elapsed)"
   ]
  },
  {
   "cell_type": "markdown",
   "metadata": {},
   "source": [
    "Previous runs:   \n",
    "0:00:22.601835\n"
   ]
  }
 ],
 "metadata": {
  "kernelspec": {
   "display_name": "Python 35",
   "language": "python",
   "name": "python35"
  },
  "language_info": {
   "codemirror_mode": {
    "name": "ipython",
    "version": 3
   },
   "file_extension": ".py",
   "mimetype": "text/x-python",
   "name": "python",
   "nbconvert_exporter": "python",
   "pygments_lexer": "ipython3",
   "version": "3.5.4"
  }
 },
 "nbformat": 4,
 "nbformat_minor": 2
}
