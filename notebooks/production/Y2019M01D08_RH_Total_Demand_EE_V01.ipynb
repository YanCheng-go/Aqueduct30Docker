{
 "cells": [
  {
   "cell_type": "code",
   "execution_count": 1,
   "metadata": {},
   "outputs": [
    {
     "name": "stdout",
     "output_type": "stream",
     "text": [
      "ic_pdomww_path : projects/WRI-Aquaduct/PCRGlobWB20V09/global_historical_PDomWW_year_m_5min_1960_2014 \n",
      "ic_pindww_path : projects/WRI-Aquaduct/PCRGlobWB20V09/global_historical_PIndWW_year_m_5min_1960_2014 \n",
      "ic_pirrww_path : projects/WRI-Aquaduct/PCRGlobWB20V09/global_historical_PIrrWW_year_m_5min_1960_2014 \n",
      "ic_plivww_path : projects/WRI-Aquaduct/PCRGlobWB20V09/global_historical_PLivWW_year_m_5min_1960_2014\n"
     ]
    }
   ],
   "source": [
    "\"\"\" Total demand to be used as weights for spatial aggregation.\n",
    "-------------------------------------------------------------------------------\n",
    "\n",
    "Creates total demand images. Will create a simple mean image for now but can be\n",
    "extended to create imagecollections per sector etc. \n",
    "\n",
    "[ww,wn] -> ww\n",
    "[year,month] -> year\n",
    "[1960-2014] -> mean\n",
    "[dom,ind,irr,liv]  -> total\n",
    "\n",
    "\n",
    "Author: Rutger Hofste\n",
    "Date: 20190108\n",
    "Kernel: python35\n",
    "Docker: rutgerhofste/gisdocker:ubuntu16.04\n",
    "\n",
    "Args:\n",
    "\n",
    "\"\"\"\n",
    "\n",
    "\n",
    "TESTING = 0\n",
    "SCRIPT_NAME = \"Y2019M01D08_RH_Total_Demand_EE_V01\"\n",
    "OUTPUT_VERSION = 1\n",
    "\n",
    "X_DIMENSION_5MIN = 4320\n",
    "Y_DIMENSION_5MIN = 2160\n",
    "\n",
    "CRS = \"EPSG:4326\"\n",
    "\n",
    "CRS_TRANSFORM_5MIN = \"\"\"[\n",
    "    0.08333333333333333,\n",
    "    0,\n",
    "    -180,\n",
    "    0,\n",
    "    -0.08333333333333333,\n",
    "    90\n",
    "]\"\"\"\n",
    "\n",
    "ic_pdomww_path = \"projects/WRI-Aquaduct/PCRGlobWB20V09/global_historical_PDomWW_year_m_5min_1960_2014\"\n",
    "ic_pindww_path = \"projects/WRI-Aquaduct/PCRGlobWB20V09/global_historical_PIndWW_year_m_5min_1960_2014\"\n",
    "ic_pirrww_path = \"projects/WRI-Aquaduct/PCRGlobWB20V09/global_historical_PIrrWW_year_m_5min_1960_2014\"\n",
    "ic_plivww_path = \"projects/WRI-Aquaduct/PCRGlobWB20V09/global_historical_PLivWW_year_m_5min_1960_2014\"\n",
    "\n",
    "\n",
    "print(\"ic_pdomww_path :\",ic_pdomww_path,\n",
    "      \"\\nic_pindww_path :\",ic_pindww_path,\n",
    "      \"\\nic_pirrww_path :\",ic_pirrww_path,\n",
    "      \"\\nic_plivww_path :\",ic_plivww_path)"
   ]
  },
  {
   "cell_type": "code",
   "execution_count": 2,
   "metadata": {},
   "outputs": [
    {
     "name": "stdout",
     "output_type": "stream",
     "text": [
      "Y2019M01D08 UTC 13:37\n"
     ]
    },
    {
     "data": {
      "text/plain": [
       "'3.5.4 |Anaconda, Inc.| (default, Nov 20 2017, 18:44:38) \\n[GCC 7.2.0]'"
      ]
     },
     "execution_count": 2,
     "metadata": {},
     "output_type": "execute_result"
    }
   ],
   "source": [
    "import time, datetime, sys\n",
    "dateString = time.strftime(\"Y%YM%mD%d\")\n",
    "timeString = time.strftime(\"UTC %H:%M\")\n",
    "start = datetime.datetime.now()\n",
    "print(dateString,timeString)\n",
    "sys.version"
   ]
  },
  {
   "cell_type": "code",
   "execution_count": 3,
   "metadata": {
    "collapsed": true
   },
   "outputs": [],
   "source": [
    "import ee\n",
    "import subprocess"
   ]
  },
  {
   "cell_type": "code",
   "execution_count": 4,
   "metadata": {
    "collapsed": true
   },
   "outputs": [],
   "source": [
    "ee.Initialize()"
   ]
  },
  {
   "cell_type": "code",
   "execution_count": 5,
   "metadata": {
    "collapsed": true
   },
   "outputs": [],
   "source": [
    "i_pdomww = ee.ImageCollection(ic_pdomww_path).reduce(ee.Reducer.mean())\n",
    "i_pindww = ee.ImageCollection(ic_pindww_path).reduce(ee.Reducer.mean())\n",
    "i_pirrww = ee.ImageCollection(ic_pirrww_path).reduce(ee.Reducer.mean())\n",
    "i_plivww = ee.ImageCollection(ic_plivww_path).reduce(ee.Reducer.mean())"
   ]
  },
  {
   "cell_type": "code",
   "execution_count": 6,
   "metadata": {},
   "outputs": [],
   "source": [
    "i_ptotww = i_pdomww.add(i_pindww).add(i_pirrww).add(i_plivww)"
   ]
  },
  {
   "cell_type": "code",
   "execution_count": 7,
   "metadata": {},
   "outputs": [],
   "source": [
    "def post_process(image):\n",
    "    image = image.select([\"b1_mean\"],[\"b1\"])\n",
    "    properties = {\"reducer\":\"mean\",\n",
    "                  \"year_min\":1960,\n",
    "                  \"year_max\":2014,\n",
    "                  \"unit\":\"m\",\n",
    "                  \"spatial_resolution\":\"5min\",\n",
    "                  \"script_used\":SCRIPT_NAME,\n",
    "                  \"output_version\":OUTPUT_VERSION     \n",
    "    }\n",
    "    image = image.set(properties)\n",
    "    return image"
   ]
  },
  {
   "cell_type": "code",
   "execution_count": 8,
   "metadata": {
    "collapsed": true
   },
   "outputs": [],
   "source": [
    "image_out = post_process(i_ptotww)"
   ]
  },
  {
   "cell_type": "code",
   "execution_count": 9,
   "metadata": {},
   "outputs": [],
   "source": [
    "command = \"earthengine create folder projects/WRI-Aquaduct/{}\".format(SCRIPT_NAME)\n",
    "response = subprocess.check_output(command,shell=True)"
   ]
  },
  {
   "cell_type": "code",
   "execution_count": 10,
   "metadata": {
    "collapsed": true
   },
   "outputs": [],
   "source": [
    "command = \"earthengine create folder projects/WRI-Aquaduct/{}/output_V{:02.0f}\".format(SCRIPT_NAME,OUTPUT_VERSION)\n",
    "response = subprocess.check_output(command,shell=True)"
   ]
  },
  {
   "cell_type": "code",
   "execution_count": 11,
   "metadata": {
    "collapsed": true
   },
   "outputs": [],
   "source": [
    "description = SCRIPT_NAME\n",
    "asset_id = 'projects/WRI-Aquaduct/{}/output_V{:02.0f}/global_historical_PTotWW_year_m_5min_1960_2014'.format(SCRIPT_NAME,OUTPUT_VERSION)"
   ]
  },
  {
   "cell_type": "code",
   "execution_count": 12,
   "metadata": {},
   "outputs": [
    {
     "data": {
      "text/plain": [
       "'projects/WRI-Aquaduct/Y2019M01D08_RH_Total_Demand_EE_V01/output_V01/global_historical_PTotWW_year_m_5min_1960_2014'"
      ]
     },
     "execution_count": 12,
     "metadata": {},
     "output_type": "execute_result"
    }
   ],
   "source": [
    "asset_id"
   ]
  },
  {
   "cell_type": "code",
   "execution_count": 13,
   "metadata": {
    "collapsed": true
   },
   "outputs": [],
   "source": [
    "dimensions_5min = \"{}x{}\".format(X_DIMENSION_5MIN,Y_DIMENSION_5MIN)"
   ]
  },
  {
   "cell_type": "code",
   "execution_count": 14,
   "metadata": {},
   "outputs": [],
   "source": [
    "task = ee.batch.Export.image.toAsset(\n",
    "    image =  ee.Image(image_out),\n",
    "    description = description,\n",
    "    assetId = asset_id,\n",
    "    dimensions = dimensions_5min,\n",
    "    crs = CRS,\n",
    "    crsTransform = CRS_TRANSFORM_5MIN,\n",
    "    maxPixels = 1e10   \n",
    ")"
   ]
  },
  {
   "cell_type": "code",
   "execution_count": 15,
   "metadata": {},
   "outputs": [],
   "source": [
    "task.start()"
   ]
  },
  {
   "cell_type": "code",
   "execution_count": 16,
   "metadata": {},
   "outputs": [
    {
     "name": "stdout",
     "output_type": "stream",
     "text": [
      "0:00:06.498301\n"
     ]
    }
   ],
   "source": [
    "end = datetime.datetime.now()\n",
    "elapsed = end - start\n",
    "print(elapsed)"
   ]
  },
  {
   "cell_type": "markdown",
   "metadata": {},
   "source": [
    "Previous runs:   \n",
    "0:00:07.542663\n"
   ]
  },
  {
   "cell_type": "code",
   "execution_count": null,
   "metadata": {
    "collapsed": true
   },
   "outputs": [],
   "source": []
  }
 ],
 "metadata": {
  "kernelspec": {
   "display_name": "Python 35",
   "language": "python",
   "name": "python35"
  },
  "language_info": {
   "codemirror_mode": {
    "name": "ipython",
    "version": 3
   },
   "file_extension": ".py",
   "mimetype": "text/x-python",
   "name": "python",
   "nbconvert_exporter": "python",
   "pygments_lexer": "ipython3",
   "version": "3.5.4"
  }
 },
 "nbformat": 4,
 "nbformat_minor": 2
}
