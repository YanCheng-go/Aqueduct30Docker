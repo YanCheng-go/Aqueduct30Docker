{
 "cells": [
  {
   "cell_type": "code",
   "execution_count": 1,
   "metadata": {},
   "outputs": [
    {
     "name": "stdout",
     "output_type": "stream",
     "text": [
      "S3_INPUT_PATH:  s3://wri-projects/Aqueduct30/processData/Y2018M12D07_RH_Weights_V01/output \n",
      "ec2_input_path:  /volumes/data/Y2018M12D06_RH_Process_Weights_BQ_V01/input_V01 \n",
      "ec2_output_path:  /volumes/data/Y2018M12D06_RH_Process_Weights_BQ_V01/output_V01 \n",
      "BQ_OUTPUT_DATASET_NAME:  aqueduct30v01 \n",
      "BQ_OUTPUT_TABLE_NAME:  y2018m12d06_rh_process_weights_bq_v01_v01\n"
     ]
    }
   ],
   "source": [
    "\"\"\" Process and upload industry weights to BigQuery.\n",
    "-------------------------------------------------------------------------------\n",
    "\n",
    "Author: Rutger Hofste\n",
    "Date: 20181206\n",
    "Kernel: python35\n",
    "Docker: rutgerhofste/gisdocker:ubuntu16.04\n",
    "\n",
    "\"\"\"\n",
    "\n",
    "SCRIPT_NAME = \"Y2018M12D06_RH_Process_Weights_BQ_V01\"\n",
    "OUTPUT_VERSION = 1\n",
    "\n",
    "S3_INPUT_PATH = \"s3://wri-projects/Aqueduct30/processData/Y2018M12D07_RH_Weights_V01/output\"\n",
    "INPUT_FILE_NAME = \"aq30_weights_enhanced.csv\"\n",
    "\n",
    "BQ_PROJECT_ID = \"aqueduct30\"\n",
    "BQ_OUTPUT_DATASET_NAME = \"aqueduct30v01\"\n",
    "BQ_OUTPUT_TABLE_NAME = \"{}_v{:02.0f}\".format(SCRIPT_NAME,OUTPUT_VERSION).lower()\n",
    "\n",
    "ec2_input_path = \"/volumes/data/{}/input_V{:02.0f}\".format(SCRIPT_NAME,OUTPUT_VERSION) \n",
    "ec2_output_path = \"/volumes/data/{}/output_V{:02.0f}\".format(SCRIPT_NAME,OUTPUT_VERSION) \n",
    "\n",
    "print(\"S3_INPUT_PATH: \",S3_INPUT_PATH,\n",
    "      \"\\nec2_input_path: \",ec2_input_path,\n",
    "      \"\\nec2_output_path: \",ec2_output_path,\n",
    "      \"\\nBQ_OUTPUT_DATASET_NAME: \", BQ_OUTPUT_DATASET_NAME,\n",
    "      \"\\nBQ_OUTPUT_TABLE_NAME: \",BQ_OUTPUT_TABLE_NAME\n",
    "      )"
   ]
  },
  {
   "cell_type": "code",
   "execution_count": 2,
   "metadata": {},
   "outputs": [
    {
     "name": "stdout",
     "output_type": "stream",
     "text": [
      "Y2018M12D07 UTC 15:23\n"
     ]
    },
    {
     "data": {
      "text/plain": [
       "'3.5.4 |Anaconda, Inc.| (default, Nov 20 2017, 18:44:38) \\n[GCC 7.2.0]'"
      ]
     },
     "execution_count": 2,
     "metadata": {},
     "output_type": "execute_result"
    }
   ],
   "source": [
    "import time, datetime, sys\n",
    "dateString = time.strftime(\"Y%YM%mD%d\")\n",
    "timeString = time.strftime(\"UTC %H:%M\")\n",
    "start = datetime.datetime.now()\n",
    "print(dateString,timeString)\n",
    "sys.version"
   ]
  },
  {
   "cell_type": "code",
   "execution_count": 3,
   "metadata": {},
   "outputs": [],
   "source": [
    "!rm -r {ec2_input_path}\n",
    "!rm -r {ec2_output_path}\n",
    "!mkdir -p {ec2_input_path}\n",
    "!mkdir -p {ec2_output_path}"
   ]
  },
  {
   "cell_type": "code",
   "execution_count": 4,
   "metadata": {},
   "outputs": [
    {
     "name": "stdout",
     "output_type": "stream",
     "text": [
      "Completed 18.2 KiB/18.2 KiB (38.2 KiB/s) with 1 file(s) remaining\r",
      "download: s3://wri-projects/Aqueduct30/processData/Y2018M12D07_RH_Weights_V01/output/aq30_weights_enhanced.csv to ../../../../data/Y2018M12D06_RH_Process_Weights_BQ_V01/input_V01/aq30_weights_enhanced.csv\r\n"
     ]
    }
   ],
   "source": [
    "!aws s3 cp {S3_INPUT_PATH} {ec2_input_path} --recursive "
   ]
  },
  {
   "cell_type": "code",
   "execution_count": 5,
   "metadata": {
    "collapsed": true
   },
   "outputs": [],
   "source": [
    "import os\n",
    "import pandas as pd\n",
    "import numpy as np\n",
    "from google.cloud import bigquery\n",
    "\n",
    "os.environ[\"GOOGLE_APPLICATION_CREDENTIALS\"] = \"/.google.json\"\n",
    "os.environ[\"GOOGLE_CLOUD_PROJECT\"] = \"aqueduct30\"\n",
    "client = bigquery.Client(project=BQ_PROJECT_ID)"
   ]
  },
  {
   "cell_type": "code",
   "execution_count": 6,
   "metadata": {
    "collapsed": true
   },
   "outputs": [],
   "source": [
    "input_path = \"{}/{}\".format(ec2_input_path,INPUT_FILE_NAME)"
   ]
  },
  {
   "cell_type": "code",
   "execution_count": 7,
   "metadata": {
    "collapsed": true
   },
   "outputs": [],
   "source": [
    "df = pd.read_csv(input_path)"
   ]
  },
  {
   "cell_type": "code",
   "execution_count": 8,
   "metadata": {},
   "outputs": [
    {
     "data": {
      "text/plain": [
       "id                         int64\n",
       "category_full_name        object\n",
       "category_short            object\n",
       "indicator_name_full       object\n",
       "indicator_short           object\n",
       "sector_full               object\n",
       "sector_short              object\n",
       "weight_abs               float64\n",
       "weight_label              object\n",
       "weight_interpretation     object\n",
       "weight_fraction          float64\n",
       "dtype: object"
      ]
     },
     "execution_count": 8,
     "metadata": {},
     "output_type": "execute_result"
    }
   ],
   "source": [
    "df.dtypes"
   ]
  },
  {
   "cell_type": "code",
   "execution_count": 9,
   "metadata": {},
   "outputs": [
    {
     "data": {
      "text/html": [
       "<div>\n",
       "<style scoped>\n",
       "    .dataframe tbody tr th:only-of-type {\n",
       "        vertical-align: middle;\n",
       "    }\n",
       "\n",
       "    .dataframe tbody tr th {\n",
       "        vertical-align: top;\n",
       "    }\n",
       "\n",
       "    .dataframe thead th {\n",
       "        text-align: right;\n",
       "    }\n",
       "</style>\n",
       "<table border=\"1\" class=\"dataframe\">\n",
       "  <thead>\n",
       "    <tr style=\"text-align: right;\">\n",
       "      <th></th>\n",
       "      <th>id</th>\n",
       "      <th>category_full_name</th>\n",
       "      <th>category_short</th>\n",
       "      <th>indicator_name_full</th>\n",
       "      <th>indicator_short</th>\n",
       "      <th>sector_full</th>\n",
       "      <th>sector_short</th>\n",
       "      <th>weight_abs</th>\n",
       "      <th>weight_label</th>\n",
       "      <th>weight_interpretation</th>\n",
       "      <th>weight_fraction</th>\n",
       "    </tr>\n",
       "  </thead>\n",
       "  <tbody>\n",
       "    <tr>\n",
       "      <th>0</th>\n",
       "      <td>1</td>\n",
       "      <td>Physical Risk Quantity</td>\n",
       "      <td>QAN</td>\n",
       "      <td>Baseline water stress</td>\n",
       "      <td>BWS</td>\n",
       "      <td>Default</td>\n",
       "      <td>DEF</td>\n",
       "      <td>4.0</td>\n",
       "      <td>Very High</td>\n",
       "      <td>Represents very high risk to the industry</td>\n",
       "      <td>0.163265</td>\n",
       "    </tr>\n",
       "    <tr>\n",
       "      <th>1</th>\n",
       "      <td>2</td>\n",
       "      <td>Physical Risk Quantity</td>\n",
       "      <td>QAN</td>\n",
       "      <td>Baseline water depletion</td>\n",
       "      <td>BWD</td>\n",
       "      <td>Default</td>\n",
       "      <td>DEF</td>\n",
       "      <td>4.0</td>\n",
       "      <td>Very High</td>\n",
       "      <td>Represents very high risk to the industry</td>\n",
       "      <td>0.163265</td>\n",
       "    </tr>\n",
       "    <tr>\n",
       "      <th>2</th>\n",
       "      <td>3</td>\n",
       "      <td>Physical Risk Quantity</td>\n",
       "      <td>QAN</td>\n",
       "      <td>Groundwater table decline</td>\n",
       "      <td>GTD</td>\n",
       "      <td>Default</td>\n",
       "      <td>DEF</td>\n",
       "      <td>4.0</td>\n",
       "      <td>Very High</td>\n",
       "      <td>Represents very high risk to the industry</td>\n",
       "      <td>0.163265</td>\n",
       "    </tr>\n",
       "    <tr>\n",
       "      <th>3</th>\n",
       "      <td>4</td>\n",
       "      <td>Physical Risk Quantity</td>\n",
       "      <td>QAN</td>\n",
       "      <td>Interannual variability</td>\n",
       "      <td>IAV</td>\n",
       "      <td>Default</td>\n",
       "      <td>DEF</td>\n",
       "      <td>0.5</td>\n",
       "      <td>Low</td>\n",
       "      <td>Represents low risk to the industry</td>\n",
       "      <td>0.020408</td>\n",
       "    </tr>\n",
       "    <tr>\n",
       "      <th>4</th>\n",
       "      <td>5</td>\n",
       "      <td>Physical Risk Quantity</td>\n",
       "      <td>QAN</td>\n",
       "      <td>Seasonal variability</td>\n",
       "      <td>SEV</td>\n",
       "      <td>Default</td>\n",
       "      <td>DEF</td>\n",
       "      <td>0.5</td>\n",
       "      <td>Low</td>\n",
       "      <td>Represents low risk to the industry</td>\n",
       "      <td>0.020408</td>\n",
       "    </tr>\n",
       "  </tbody>\n",
       "</table>\n",
       "</div>"
      ],
      "text/plain": [
       "   id       category_full_name category_short         indicator_name_full  \\\n",
       "0   1  Physical Risk Quantity             QAN       Baseline water stress   \n",
       "1   2  Physical Risk Quantity             QAN   Baseline water depletion    \n",
       "2   3  Physical Risk Quantity             QAN  Groundwater table decline    \n",
       "3   4  Physical Risk Quantity             QAN    Interannual variability    \n",
       "4   5  Physical Risk Quantity             QAN        Seasonal variability   \n",
       "\n",
       "  indicator_short sector_full sector_short  weight_abs weight_label  \\\n",
       "0             BWS     Default          DEF         4.0    Very High   \n",
       "1             BWD     Default          DEF         4.0    Very High   \n",
       "2             GTD     Default          DEF         4.0    Very High   \n",
       "3             IAV     Default          DEF         0.5          Low   \n",
       "4             SEV     Default          DEF         0.5          Low   \n",
       "\n",
       "                        weight_interpretation  weight_fraction  \n",
       "0  Represents very high risk to the industry          0.163265  \n",
       "1  Represents very high risk to the industry          0.163265  \n",
       "2  Represents very high risk to the industry          0.163265  \n",
       "3        Represents low risk to the industry          0.020408  \n",
       "4        Represents low risk to the industry          0.020408  "
      ]
     },
     "execution_count": 9,
     "metadata": {},
     "output_type": "execute_result"
    }
   ],
   "source": [
    "df.head()"
   ]
  },
  {
   "cell_type": "code",
   "execution_count": 10,
   "metadata": {
    "collapsed": true
   },
   "outputs": [],
   "source": [
    "destination_table = \"{}.{}\".format(BQ_OUTPUT_DATASET_NAME,BQ_OUTPUT_TABLE_NAME)"
   ]
  },
  {
   "cell_type": "code",
   "execution_count": 11,
   "metadata": {},
   "outputs": [
    {
     "name": "stderr",
     "output_type": "stream",
     "text": [
      "1it [00:03,  3.58s/it]\n"
     ]
    }
   ],
   "source": [
    "df.to_gbq(destination_table=destination_table,\n",
    "          project_id=BQ_PROJECT_ID,\n",
    "          chunksize=10000,\n",
    "          if_exists=\"replace\")"
   ]
  },
  {
   "cell_type": "code",
   "execution_count": 12,
   "metadata": {},
   "outputs": [
    {
     "name": "stdout",
     "output_type": "stream",
     "text": [
      "0:00:11.529102\n"
     ]
    }
   ],
   "source": [
    "end = datetime.datetime.now()\n",
    "elapsed = end - start\n",
    "print(elapsed)"
   ]
  },
  {
   "cell_type": "markdown",
   "metadata": {},
   "source": [
    "Previous runs:   \n",
    "0:00:11.529102\n"
   ]
  }
 ],
 "metadata": {
  "kernelspec": {
   "display_name": "Python 35",
   "language": "python",
   "name": "python35"
  },
  "language_info": {
   "codemirror_mode": {
    "name": "ipython",
    "version": 3
   },
   "file_extension": ".py",
   "mimetype": "text/x-python",
   "name": "python",
   "nbconvert_exporter": "python",
   "pygments_lexer": "ipython3",
   "version": "3.5.4"
  }
 },
 "nbformat": 4,
 "nbformat_minor": 2
}
