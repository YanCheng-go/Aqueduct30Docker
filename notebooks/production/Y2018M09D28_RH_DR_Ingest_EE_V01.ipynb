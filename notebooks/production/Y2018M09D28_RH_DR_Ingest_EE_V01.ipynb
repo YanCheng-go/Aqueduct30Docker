{
 "cells": [
  {
   "cell_type": "code",
   "execution_count": 1,
   "metadata": {},
   "outputs": [
    {
     "name": "stdout",
     "output_type": "stream",
     "text": [
      "S3_INPUT_PATH: s3://wri-projects/Aqueduct30/rawData/JRC/DroughtRisk/data/raw/\n",
      "ec2_output_path/volumes/data/Y2018M09D28_RH_DR_Ingest_EE_V01/output_V03\n",
      "GCS_OUTPUT_PATH: gs://aqueduct30_v01/Y2018M09D28_RH_DR_Ingest_EE_V01/\n",
      "ee_output_path: projects/WRI-Aquaduct/Y2018M09D28_RH_DR_Ingest_EE_V01/output_V03\n"
     ]
    }
   ],
   "source": [
    "\"\"\" Ingest drought risk data in earthengine.\n",
    "-------------------------------------------------------------------------------\n",
    "\n",
    "files have been manually renamed to \n",
    "hazard\n",
    "exposure\n",
    "vulnaribility\n",
    "risk\n",
    "desertcoldareamask\n",
    "\n",
    "\n",
    "Author: Rutger Hofste\n",
    "Date: 201809028\n",
    "Kernel: python27\n",
    "Docker: rutgerhofste/gisdocker:ubuntu16.04\n",
    "\n",
    "Args:\n",
    "    \n",
    "\n",
    "\n",
    "\n",
    "\"\"\"\n",
    "\n",
    "SCRIPT_NAME = \"Y2018M09D28_RH_DR_Ingest_EE_V01\"\n",
    "OUTPUT_VERSION = 3\n",
    "\n",
    "OUTPUT_FILE_NAME = \"df_errors.csv\"\n",
    "SEPARATOR = \"_|-\"\n",
    "\n",
    "NODATA_VALUE =-9999\n",
    "\n",
    "EXTRA_PROPERTIES = {\"nodata_value\":NODATA_VALUE ,\n",
    "                    \"ingested_by\" : \"RutgerHofste\",\n",
    "                    \"script_used\": SCRIPT_NAME,\n",
    "                    \"output_version\":OUTPUT_VERSION,\n",
    "                    \"doi\":\"https://doi.org/10.1016/j.gloenvcha.2016.04.012\"}\n",
    "\n",
    "\n",
    "S3_INPUT_PATH = \"s3://wri-projects/Aqueduct30/rawData/JRC/DroughtRisk/data/raw/\"\n",
    "GCS_OUTPUT_PATH = \"gs://aqueduct30_v01/{}/\".format(SCRIPT_NAME)\n",
    "\n",
    "\n",
    "ee_output_path = \"projects/WRI-Aquaduct/{}/output_V{:02.0f}\".format(SCRIPT_NAME,OUTPUT_VERSION)\n",
    "ec2_input_path = \"/volumes/data/{}/input_V{:02.0f}\".format(SCRIPT_NAME,OUTPUT_VERSION)\n",
    "ec2_output_path = \"/volumes/data/{}/output_V{:02.0f}\".format(SCRIPT_NAME,OUTPUT_VERSION)\n",
    "\n",
    "print(\"S3_INPUT_PATH: \" + S3_INPUT_PATH +\n",
    "      \"\\nec2_output_path\" + ec2_output_path +\n",
    "      \"\\nGCS_OUTPUT_PATH: \" + GCS_OUTPUT_PATH +\n",
    "      \"\\nee_output_path: \" + ee_output_path )\n"
   ]
  },
  {
   "cell_type": "code",
   "execution_count": 2,
   "metadata": {},
   "outputs": [
    {
     "name": "stdout",
     "output_type": "stream",
     "text": [
      "Y2018M09D28 UTC 11:10\n"
     ]
    },
    {
     "data": {
      "text/plain": [
       "'3.5.4 |Anaconda, Inc.| (default, Nov 20 2017, 18:44:38) \\n[GCC 7.2.0]'"
      ]
     },
     "execution_count": 2,
     "metadata": {},
     "output_type": "execute_result"
    }
   ],
   "source": [
    "import time, datetime, sys\n",
    "dateString = time.strftime(\"Y%YM%mD%d\")\n",
    "timeString = time.strftime(\"UTC %H:%M\")\n",
    "start = datetime.datetime.now()\n",
    "print(dateString,timeString)\n",
    "sys.version"
   ]
  },
  {
   "cell_type": "code",
   "execution_count": 3,
   "metadata": {
    "collapsed": true
   },
   "outputs": [],
   "source": [
    "#imports\n",
    "import subprocess\n",
    "import datetime\n",
    "import os\n",
    "import time\n",
    "import re\n",
    "import pandas as pd\n",
    "import numpy as np\n",
    "from datetime import timedelta\n",
    "from osgeo import gdal\n",
    "import aqueduct3"
   ]
  },
  {
   "cell_type": "code",
   "execution_count": 4,
   "metadata": {},
   "outputs": [],
   "source": [
    "!rm -r {ec2_input_path}\n",
    "!rm -r {ec2_output_path}\n",
    "!mkdir -p {ec2_input_path}\n",
    "!mkdir -p {ec2_output_path}"
   ]
  },
  {
   "cell_type": "code",
   "execution_count": 5,
   "metadata": {},
   "outputs": [
    {
     "name": "stdout",
     "output_type": "stream",
     "text": [
      "download: s3://wri-projects/Aqueduct30/rawData/JRC/DroughtRisk/data/raw/desertcoldareamask.tif to ../../../../data/Y2018M09D28_RH_DR_Ingest_EE_V01/input_V03/desertcoldareamask.tif\n",
      "download: s3://wri-projects/Aqueduct30/rawData/JRC/DroughtRisk/data/raw/risk.tif to ../../../../data/Y2018M09D28_RH_DR_Ingest_EE_V01/input_V03/risk.tif\n",
      "download: s3://wri-projects/Aqueduct30/rawData/JRC/DroughtRisk/data/raw/exposure.tif to ../../../../data/Y2018M09D28_RH_DR_Ingest_EE_V01/input_V03/exposure.tif\n",
      "download: s3://wri-projects/Aqueduct30/rawData/JRC/DroughtRisk/data/raw/hazard.tif to ../../../../data/Y2018M09D28_RH_DR_Ingest_EE_V01/input_V03/hazard.tif\n",
      "download: s3://wri-projects/Aqueduct30/rawData/JRC/DroughtRisk/data/raw/vulnerability.tif to ../../../../data/Y2018M09D28_RH_DR_Ingest_EE_V01/input_V03/vulnerability.tif\n"
     ]
    }
   ],
   "source": [
    "!aws s3 cp {S3_INPUT_PATH} {ec2_input_path} --recursive"
   ]
  },
  {
   "cell_type": "code",
   "execution_count": 6,
   "metadata": {
    "collapsed": true
   },
   "outputs": [],
   "source": [
    "files = os.listdir(ec2_input_path)"
   ]
  },
  {
   "cell_type": "code",
   "execution_count": 7,
   "metadata": {},
   "outputs": [],
   "source": [
    "# Convert geotiff to all Float64 and with -9999 as NoData value\n",
    "for one_file in files:\n",
    "    input_file_path = os.path.join(ec2_input_path,one_file)\n",
    "    output_file_path = os.path.join(ec2_output_path,one_file)\n",
    "    xsize,ysize,geotransform,geoproj,Z = aqueduct3.read_gdal_file(input_file_path)\n",
    "    \n",
    "    Z[Z<-9990]= NODATA_VALUE \n",
    "    datatype=gdal.GDT_Float64\n",
    "    \n",
    "    aqueduct3.write_geotiff(output_file_path,geotransform,geoproj,Z,NODATA_VALUE,datatype)\n",
    "    "
   ]
  },
  {
   "cell_type": "code",
   "execution_count": 8,
   "metadata": {},
   "outputs": [
    {
     "name": "stdout",
     "output_type": "stream",
     "text": [
      "Copying file:///volumes/data/Y2018M09D28_RH_DR_Ingest_EE_V01/output_V03/hazard.tif [Content-Type=image/tiff]...\n",
      "Copying file:///volumes/data/Y2018M09D28_RH_DR_Ingest_EE_V01/output_V03/exposure.tif [Content-Type=image/tiff]...\n",
      "Copying file:///volumes/data/Y2018M09D28_RH_DR_Ingest_EE_V01/output_V03/risk.tif [Content-Type=image/tiff]...\n",
      "Copying file:///volumes/data/Y2018M09D28_RH_DR_Ingest_EE_V01/output_V03/desertcoldareamask.tif [Content-Type=image/tiff]...\n",
      "/ [4 files][ 27.1 MiB/ 27.1 MiB]                                                \n",
      "==> NOTE: You are performing a sequence of gsutil operations that may\n",
      "run significantly faster if you instead use gsutil -m -o ... Please\n",
      "see the -m section under \"gsutil help options\" for further information\n",
      "about when gsutil -m can be advantageous.\n",
      "\n",
      "Copying file:///volumes/data/Y2018M09D28_RH_DR_Ingest_EE_V01/output_V03/vulnerability.tif [Content-Type=image/tiff]...\n",
      "- [5 files][ 32.7 MiB/ 32.7 MiB]                                                \n",
      "Operation completed over 5 objects/32.7 MiB.                                     \n"
     ]
    }
   ],
   "source": [
    "!gsutil cp -r {ec2_output_path} {GCS_OUTPUT_PATH}"
   ]
  },
  {
   "cell_type": "code",
   "execution_count": 9,
   "metadata": {},
   "outputs": [
    {
     "name": "stdout",
     "output_type": "stream",
     "text": [
      "earthengine create folder projects/WRI-Aquaduct/Y2018M09D28_RH_DR_Ingest_EE_V01 b'Asset projects/WRI-Aquaduct/Y2018M09D28_RH_DR_Ingest_EE_V01 already exists\\n'\n",
      "earthengine create folder projects/WRI-Aquaduct/Y2018M09D28_RH_DR_Ingest_EE_V01/output_V03 b'Asset projects/WRI-Aquaduct/Y2018M09D28_RH_DR_Ingest_EE_V01/output_V03 already exists\\n'\n"
     ]
    },
    {
     "data": {
      "text/plain": [
       "b'Asset projects/WRI-Aquaduct/Y2018M09D28_RH_DR_Ingest_EE_V01/output_V03 already exists\\n'"
      ]
     },
     "execution_count": 9,
     "metadata": {},
     "output_type": "execute_result"
    }
   ],
   "source": [
    "aqueduct3.earthengine.create_ee_folder_recursive(ee_output_path)"
   ]
  },
  {
   "cell_type": "code",
   "execution_count": 10,
   "metadata": {
    "collapsed": true
   },
   "outputs": [],
   "source": [
    "files = os.listdir(ec2_input_path)"
   ]
  },
  {
   "cell_type": "code",
   "execution_count": 11,
   "metadata": {},
   "outputs": [
    {
     "name": "stdout",
     "output_type": "stream",
     "text": [
      "/opt/anaconda3/bin/earthengine upload image --asset_id projects/WRI-Aquaduct/Y2018M09D28_RH_DR_Ingest_EE_V01/output_V03/hazard gs://aqueduct30_v01/Y2018M09D28_RH_DR_Ingest_EE_V01/output_V03/hazard.tif -p doi=https://doi.org/10.1016/j.gloenvcha.2016.04.012 -p ingested_by=RutgerHofste -p script_used=Y2018M09D28_RH_DR_Ingest_EE_V01 -p output_version=3 --nodata_value=-9999\n",
      "/opt/anaconda3/bin/earthengine upload image --asset_id projects/WRI-Aquaduct/Y2018M09D28_RH_DR_Ingest_EE_V01/output_V03/exposure gs://aqueduct30_v01/Y2018M09D28_RH_DR_Ingest_EE_V01/output_V03/exposure.tif -p doi=https://doi.org/10.1016/j.gloenvcha.2016.04.012 -p ingested_by=RutgerHofste -p script_used=Y2018M09D28_RH_DR_Ingest_EE_V01 -p output_version=3 --nodata_value=-9999\n",
      "/opt/anaconda3/bin/earthengine upload image --asset_id projects/WRI-Aquaduct/Y2018M09D28_RH_DR_Ingest_EE_V01/output_V03/risk gs://aqueduct30_v01/Y2018M09D28_RH_DR_Ingest_EE_V01/output_V03/risk.tif -p doi=https://doi.org/10.1016/j.gloenvcha.2016.04.012 -p ingested_by=RutgerHofste -p script_used=Y2018M09D28_RH_DR_Ingest_EE_V01 -p output_version=3 --nodata_value=-9999\n",
      "/opt/anaconda3/bin/earthengine upload image --asset_id projects/WRI-Aquaduct/Y2018M09D28_RH_DR_Ingest_EE_V01/output_V03/desertcoldareamask gs://aqueduct30_v01/Y2018M09D28_RH_DR_Ingest_EE_V01/output_V03/desertcoldareamask.tif -p doi=https://doi.org/10.1016/j.gloenvcha.2016.04.012 -p ingested_by=RutgerHofste -p script_used=Y2018M09D28_RH_DR_Ingest_EE_V01 -p output_version=3 --nodata_value=-9999\n",
      "/opt/anaconda3/bin/earthengine upload image --asset_id projects/WRI-Aquaduct/Y2018M09D28_RH_DR_Ingest_EE_V01/output_V03/vulnerability gs://aqueduct30_v01/Y2018M09D28_RH_DR_Ingest_EE_V01/output_V03/vulnerability.tif -p doi=https://doi.org/10.1016/j.gloenvcha.2016.04.012 -p ingested_by=RutgerHofste -p script_used=Y2018M09D28_RH_DR_Ingest_EE_V01 -p output_version=3 --nodata_value=-9999\n"
     ]
    }
   ],
   "source": [
    "for one_file in files:    \n",
    "    filename, extension = one_file.split(\".\")\n",
    "    geotiff_gcs_path = GCS_OUTPUT_PATH  + \"output_V{:02.0f}\".format(OUTPUT_VERSION) + \"/\" + one_file\n",
    "    output_ee_asset_id = ee_output_path + \"/\" + filename\n",
    "    metadata_command = aqueduct3.dictionary_to_EE_upload_command(EXTRA_PROPERTIES)\n",
    "    command = \"/opt/anaconda3/bin/earthengine upload image --asset_id {} {}\".format(output_ee_asset_id,geotiff_gcs_path)\n",
    "    command = command + metadata_command\n",
    "    print(command)\n",
    "    response = subprocess.check_output(command, shell=True)"
   ]
  },
  {
   "cell_type": "code",
   "execution_count": 12,
   "metadata": {},
   "outputs": [
    {
     "name": "stdout",
     "output_type": "stream",
     "text": [
      "0:00:46.053674\n"
     ]
    }
   ],
   "source": [
    "end = datetime.datetime.now()\n",
    "elapsed = end - start\n",
    "print(elapsed)"
   ]
  },
  {
   "cell_type": "markdown",
   "metadata": {},
   "source": [
    "Previous Runs:  \n",
    "0:00:38.999067"
   ]
  },
  {
   "cell_type": "code",
   "execution_count": null,
   "metadata": {
    "collapsed": true
   },
   "outputs": [],
   "source": []
  }
 ],
 "metadata": {
  "kernelspec": {
   "display_name": "Python 35",
   "language": "python",
   "name": "python35"
  },
  "language_info": {
   "codemirror_mode": {
    "name": "ipython",
    "version": 3
   },
   "file_extension": ".py",
   "mimetype": "text/x-python",
   "name": "python",
   "nbconvert_exporter": "python",
   "pygments_lexer": "ipython3",
   "version": "3.5.4"
  }
 },
 "nbformat": 4,
 "nbformat_minor": 2
}
