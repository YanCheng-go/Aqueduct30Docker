{
 "cells": [
  {
   "cell_type": "code",
   "execution_count": 1,
   "metadata": {},
   "outputs": [
    {
     "name": "stdout",
     "output_type": "stream",
     "text": [
      "\n",
      "BQ_DATASET_NAME:  geospatial_geog_v01 \n",
      "BQ_INPUT_TABLE:  y2018m11d14_rh_hybasgadm_union_whymap_bq_v01_v02 \n",
      "ec2_output_path: /volumes/data/Y2018M11D26_RH_Hybasgadmwhymap_Union_To_Gpkg_V01/output_V02/ \n",
      "s3_output_path: s3://wri-projects/Aqueduct30/processData/Y2018M11D26_RH_Hybasgadmwhymap_Union_To_Gpkg_V01/output_V02/\n"
     ]
    }
   ],
   "source": [
    "\"\"\" Convert union of hybas, gadm and whymap to geopackage.\n",
    "-------------------------------------------------------------------------------\n",
    "\n",
    "Performance has been significantly improved with the help of Google Experts on\n",
    "the Bigquery forum.\n",
    "\n",
    "Author: Rutger Hofste\n",
    "Date: 20181126\n",
    "Kernel: python35\n",
    "Docker: rutgerhofste/gisdocker:ubuntu16.04\n",
    "\n",
    "\"\"\"\n",
    "\n",
    "\n",
    "SCRIPT_NAME = 'Y2018M11D26_RH_Hybasgadmwhymap_Union_To_Gpkg_V01'\n",
    "OUTPUT_VERSION = 2\n",
    "\n",
    "BQ_PROJECT_ID = \"aqueduct30\"\n",
    "BQ_DATASET_NAME = \"geospatial_geog_v01\"\n",
    "\n",
    "BQ_INPUT_TABLE = \"y2018m11d14_rh_hybasgadm_union_whymap_bq_v01_v02\"\n",
    "\n",
    "ec2_output_path = \"/volumes/data/{}/output_V{:02.0f}/\".format(SCRIPT_NAME,OUTPUT_VERSION)\n",
    "s3_output_path = \"s3://wri-projects/Aqueduct30/processData/{}/output_V{:02.0f}/\".format(SCRIPT_NAME,OUTPUT_VERSION)\n",
    "\n",
    "print(\"\\nBQ_DATASET_NAME: \", BQ_DATASET_NAME,\n",
    "      \"\\nBQ_INPUT_TABLE: \",BQ_INPUT_TABLE,\n",
    "      \"\\nec2_output_path:\",ec2_output_path,\n",
    "      \"\\ns3_output_path:\",s3_output_path)\n"
   ]
  },
  {
   "cell_type": "code",
   "execution_count": 2,
   "metadata": {},
   "outputs": [
    {
     "name": "stdout",
     "output_type": "stream",
     "text": [
      "Y2018M11D26 UTC 13:34\n"
     ]
    },
    {
     "data": {
      "text/plain": [
       "'3.5.4 |Anaconda, Inc.| (default, Nov 20 2017, 18:44:38) \\n[GCC 7.2.0]'"
      ]
     },
     "execution_count": 2,
     "metadata": {},
     "output_type": "execute_result"
    }
   ],
   "source": [
    "import time, datetime, sys\n",
    "dateString = time.strftime(\"Y%YM%mD%d\")\n",
    "timeString = time.strftime(\"UTC %H:%M\")\n",
    "start = datetime.datetime.now()\n",
    "print(dateString,timeString)\n",
    "sys.version"
   ]
  },
  {
   "cell_type": "code",
   "execution_count": 3,
   "metadata": {},
   "outputs": [
    {
     "name": "stdout",
     "output_type": "stream",
     "text": [
      "rm: cannot remove '/volumes/data/Y2018M11D26_RH_Hybasgadmwhymap_Union_To_Gpkg_V01/output_V02/': No such file or directory\r\n"
     ]
    }
   ],
   "source": [
    "!rm -r {ec2_output_path}\n",
    "!mkdir -p {ec2_output_path}"
   ]
  },
  {
   "cell_type": "code",
   "execution_count": 4,
   "metadata": {},
   "outputs": [],
   "source": [
    "import os\n",
    "import sqlalchemy\n",
    "import geojson\n",
    "import pandas as pd\n",
    "import geopandas as gpd\n",
    "from google.cloud import bigquery\n",
    "from shapely.geometry import MultiPolygon, shape\n",
    "from shapely import wkt\n",
    "\n",
    "os.environ[\"GOOGLE_APPLICATION_CREDENTIALS\"] = \"/.google.json\"\n",
    "os.environ[\"GOOGLE_CLOUD_PROJECT\"] = \"aqueduct30\"\n",
    "client = bigquery.Client(project=BQ_PROJECT_ID)"
   ]
  },
  {
   "cell_type": "code",
   "execution_count": 5,
   "metadata": {},
   "outputs": [],
   "source": [
    "q = \"\"\"\n",
    "SELECT\n",
    "  id_pfafgadmwhymap,\n",
    "  id_pfafgadm,\n",
    "  aqid,\n",
    "  ST_AsTEXT(g) AS wkt\n",
    "FROM\n",
    "  `aqueduct30.{}.{}`\n",
    "WHERE NOT ST_IsEmpty(g)\n",
    "\"\"\".format(BQ_DATASET_NAME,BQ_INPUT_TABLE)"
   ]
  },
  {
   "cell_type": "code",
   "execution_count": null,
   "metadata": {},
   "outputs": [],
   "source": [
    "df = pd.read_gbq(query=q,dialect='standard')"
   ]
  },
  {
   "cell_type": "code",
   "execution_count": null,
   "metadata": {},
   "outputs": [],
   "source": [
    "df.head()"
   ]
  },
  {
   "cell_type": "code",
   "execution_count": null,
   "metadata": {
    "collapsed": true
   },
   "outputs": [],
   "source": [
    "df[\"geom\"] = df[\"wkt\"].apply(lambda x: MultiPolygon([wkt.loads(x)]))"
   ]
  },
  {
   "cell_type": "code",
   "execution_count": null,
   "metadata": {
    "collapsed": true
   },
   "outputs": [],
   "source": [
    "df = df.drop(columns=[\"wkt\"])"
   ]
  },
  {
   "cell_type": "code",
   "execution_count": null,
   "metadata": {
    "collapsed": true
   },
   "outputs": [],
   "source": [
    "gdf = gpd.GeoDataFrame(df, geometry=\"geom\")"
   ]
  },
  {
   "cell_type": "code",
   "execution_count": null,
   "metadata": {
    "collapsed": true
   },
   "outputs": [],
   "source": [
    "gdf.crs = \"+init=epsg:4326\""
   ]
  },
  {
   "cell_type": "code",
   "execution_count": null,
   "metadata": {},
   "outputs": [],
   "source": [
    "gdf.shape"
   ]
  },
  {
   "cell_type": "code",
   "execution_count": null,
   "metadata": {
    "collapsed": true
   },
   "outputs": [],
   "source": [
    "output_file_path = \"{}/{}.gpkg\".format(ec2_output_path,SCRIPT_NAME)"
   ]
  },
  {
   "cell_type": "code",
   "execution_count": null,
   "metadata": {
    "collapsed": true
   },
   "outputs": [],
   "source": [
    "gdf.to_file(filename=output_file_path,driver=\"GPKG\")\n"
   ]
  },
  {
   "cell_type": "code",
   "execution_count": null,
   "metadata": {},
   "outputs": [],
   "source": [
    "!aws s3 cp {ec2_output_path} {s3_output_path} --recursive\n"
   ]
  },
  {
   "cell_type": "code",
   "execution_count": null,
   "metadata": {},
   "outputs": [],
   "source": [
    "end = datetime.datetime.now()\n",
    "elapsed = end - start\n",
    "print(elapsed)"
   ]
  },
  {
   "cell_type": "markdown",
   "metadata": {},
   "source": [
    "Previous Runs:  \n"
   ]
  }
 ],
 "metadata": {
  "kernelspec": {
   "display_name": "Python 35",
   "language": "python",
   "name": "python35"
  },
  "language_info": {
   "codemirror_mode": {
    "name": "ipython",
    "version": 3
   },
   "file_extension": ".py",
   "mimetype": "text/x-python",
   "name": "python",
   "nbconvert_exporter": "python",
   "pygments_lexer": "ipython3",
   "version": "3.5.4"
  }
 },
 "nbformat": 4,
 "nbformat_minor": 2
}
