{
 "cells": [
  {
   "cell_type": "code",
   "execution_count": 1,
   "metadata": {},
   "outputs": [
    {
     "name": "stdout",
     "output_type": "stream",
     "text": [
      "\n",
      "RDS_DATABASE_ENDPOINT:  aqueduct30v05.cgpnumwmfcqc.eu-central-1.rds.amazonaws.com \n",
      "RDS_DATABASE_NAME:  database01 \n",
      "RDS_INPUT_TABLE_NAME:  y2018m11d12_rh_gadm36_level1_to_rds_v01_v02 \n",
      "BQ_OUTPUT_DATASET_NAME:  aqueduct30v01 \n",
      "BQ_OUTPUT_TABLE_NAME:  y2018m11d12_rh_gadm36_level1_rds_to_bq_v01_v01\n"
     ]
    }
   ],
   "source": [
    "\"\"\" Upload GADM 3.6 level 1 to bigquery.\n",
    "-------------------------------------------------------------------------------\n",
    "\n",
    "Author: Rutger Hofste\n",
    "Date: 20181112\n",
    "Kernel: python35\n",
    "Docker: rutgerhofste/gisdocker:ubuntu16.04\n",
    "\n",
    "\"\"\"\n",
    "\n",
    "TESTING = 0\n",
    "OVERWRITE_OUTPUT = 1\n",
    "SCRIPT_NAME = 'Y2018M11D12_RH_GADM36_Level1_RDS_to_BQ_V01'\n",
    "OUTPUT_VERSION = 1\n",
    "\n",
    "BQ_PROJECT_ID = \"aqueduct30\"\n",
    "BQ_OUTPUT_DATASET_NAME = \"aqueduct30v01\"\n",
    "\n",
    "RDS_DATABASE_ENDPOINT = \"aqueduct30v05.cgpnumwmfcqc.eu-central-1.rds.amazonaws.com\"\n",
    "RDS_DATABASE_NAME = \"database01\"\n",
    "RDS_INPUT_TABLE_NAME = \"y2018m11d12_rh_gadm36_level1_to_rds_v01_v02\"\n",
    "BQ_OUTPUT_TABLE_NAME = \"{}_v{:02.0f}\".format(SCRIPT_NAME,OUTPUT_VERSION).lower()\n",
    "\n",
    "print(\"\\nRDS_DATABASE_ENDPOINT: \", RDS_DATABASE_ENDPOINT,\n",
    "      \"\\nRDS_DATABASE_NAME: \", RDS_DATABASE_NAME,\n",
    "      \"\\nRDS_INPUT_TABLE_NAME: \",RDS_INPUT_TABLE_NAME,\n",
    "      \"\\nBQ_OUTPUT_DATASET_NAME: \", BQ_OUTPUT_DATASET_NAME,\n",
    "      \"\\nBQ_OUTPUT_TABLE_NAME: \", BQ_OUTPUT_TABLE_NAME)"
   ]
  },
  {
   "cell_type": "code",
   "execution_count": 2,
   "metadata": {},
   "outputs": [
    {
     "name": "stdout",
     "output_type": "stream",
     "text": [
      "Y2018M11D12 UTC 14:15\n"
     ]
    },
    {
     "data": {
      "text/plain": [
       "'3.5.4 |Anaconda, Inc.| (default, Nov 20 2017, 18:44:38) \\n[GCC 7.2.0]'"
      ]
     },
     "execution_count": 2,
     "metadata": {},
     "output_type": "execute_result"
    }
   ],
   "source": [
    "import time, datetime, sys\n",
    "dateString = time.strftime(\"Y%YM%mD%d\")\n",
    "timeString = time.strftime(\"UTC %H:%M\")\n",
    "start = datetime.datetime.now()\n",
    "print(dateString,timeString)\n",
    "sys.version"
   ]
  },
  {
   "cell_type": "code",
   "execution_count": 3,
   "metadata": {
    "collapsed": true
   },
   "outputs": [],
   "source": [
    "import os\n",
    "import sqlalchemy\n",
    "import pandas as pd\n",
    "import geopandas as gpd\n",
    "from google.cloud import bigquery\n",
    "\n",
    "os.environ[\"GOOGLE_APPLICATION_CREDENTIALS\"] = \"/.google.json\"\n",
    "os.environ[\"GOOGLE_CLOUD_PROJECT\"] = \"aqueduct30\"\n",
    "client = bigquery.Client(project=BQ_PROJECT_ID)"
   ]
  },
  {
   "cell_type": "code",
   "execution_count": 4,
   "metadata": {
    "collapsed": true
   },
   "outputs": [],
   "source": [
    "F = open(\"/.password\",\"r\")\n",
    "password = F.read().splitlines()[0]\n",
    "F.close()\n",
    "\n",
    "engine = sqlalchemy.create_engine(\"postgresql://rutgerhofste:{}@{}:5432/{}\".format(password,RDS_DATABASE_ENDPOINT,RDS_DATABASE_NAME))\n"
   ]
  },
  {
   "cell_type": "code",
   "execution_count": 5,
   "metadata": {
    "collapsed": true
   },
   "outputs": [],
   "source": [
    "sql = \"\"\"\n",
    "SELECT\n",
    "  gid_1,\n",
    "  name_1,\n",
    "  gid_0,\n",
    "  name_0,\n",
    "  varname_1,\n",
    "  nl_name_1,\n",
    "  type_1,\n",
    "  engtype_1,\n",
    "  cc_1,\n",
    "  hasc_1,\n",
    "  geom,\n",
    "  ST_AsText(geom) AS wkt\n",
    "FROM\n",
    "  {}\n",
    "\"\"\".format(RDS_INPUT_TABLE_NAME)"
   ]
  },
  {
   "cell_type": "code",
   "execution_count": 6,
   "metadata": {},
   "outputs": [],
   "source": [
    "gdf = gpd.read_postgis(sql=sql,\n",
    "                       con=engine)"
   ]
  },
  {
   "cell_type": "code",
   "execution_count": 7,
   "metadata": {},
   "outputs": [
    {
     "data": {
      "text/plain": [
       "(3610, 12)"
      ]
     },
     "execution_count": 7,
     "metadata": {},
     "output_type": "execute_result"
    }
   ],
   "source": [
    "gdf.shape"
   ]
  },
  {
   "cell_type": "code",
   "execution_count": 8,
   "metadata": {},
   "outputs": [
    {
     "data": {
      "text/html": [
       "<div>\n",
       "<style scoped>\n",
       "    .dataframe tbody tr th:only-of-type {\n",
       "        vertical-align: middle;\n",
       "    }\n",
       "\n",
       "    .dataframe tbody tr th {\n",
       "        vertical-align: top;\n",
       "    }\n",
       "\n",
       "    .dataframe thead th {\n",
       "        text-align: right;\n",
       "    }\n",
       "</style>\n",
       "<table border=\"1\" class=\"dataframe\">\n",
       "  <thead>\n",
       "    <tr style=\"text-align: right;\">\n",
       "      <th></th>\n",
       "      <th>gid_1</th>\n",
       "      <th>name_1</th>\n",
       "      <th>gid_0</th>\n",
       "      <th>name_0</th>\n",
       "      <th>varname_1</th>\n",
       "      <th>nl_name_1</th>\n",
       "      <th>type_1</th>\n",
       "      <th>engtype_1</th>\n",
       "      <th>cc_1</th>\n",
       "      <th>hasc_1</th>\n",
       "      <th>geom</th>\n",
       "      <th>wkt</th>\n",
       "    </tr>\n",
       "  </thead>\n",
       "  <tbody>\n",
       "    <tr>\n",
       "      <th>0</th>\n",
       "      <td>AFG.10_1</td>\n",
       "      <td>Ghor</td>\n",
       "      <td>AFG</td>\n",
       "      <td>Afghanistan</td>\n",
       "      <td>Gawr|Ghore|Ghour|Ghur</td>\n",
       "      <td></td>\n",
       "      <td>Velayat</td>\n",
       "      <td>Province</td>\n",
       "      <td></td>\n",
       "      <td>AF.GR</td>\n",
       "      <td>(POLYGON ((64.52828217 33.32641602, 64.5058975...</td>\n",
       "      <td>MULTIPOLYGON(((64.52828217 33.32641602,64.5058...</td>\n",
       "    </tr>\n",
       "    <tr>\n",
       "      <th>1</th>\n",
       "      <td>AFG.1_1</td>\n",
       "      <td>Badakhshan</td>\n",
       "      <td>AFG</td>\n",
       "      <td>Afghanistan</td>\n",
       "      <td>Badahšan</td>\n",
       "      <td></td>\n",
       "      <td>Velayat</td>\n",
       "      <td>Province</td>\n",
       "      <td></td>\n",
       "      <td>AF.BD</td>\n",
       "      <td>(POLYGON ((71.14804076999999 36.00123596, 71.1...</td>\n",
       "      <td>MULTIPOLYGON(((71.14804077 36.00123596,71.1422...</td>\n",
       "    </tr>\n",
       "    <tr>\n",
       "      <th>2</th>\n",
       "      <td>AFG.11_1</td>\n",
       "      <td>Hilmand</td>\n",
       "      <td>AFG</td>\n",
       "      <td>Afghanistan</td>\n",
       "      <td>Girishk|Hilmend</td>\n",
       "      <td></td>\n",
       "      <td>Velayat</td>\n",
       "      <td>Province</td>\n",
       "      <td></td>\n",
       "      <td>AF.HM</td>\n",
       "      <td>(POLYGON ((63.6648941 29.4764061, 63.66107941 ...</td>\n",
       "      <td>MULTIPOLYGON(((63.6648941 29.4764061,63.661079...</td>\n",
       "    </tr>\n",
       "    <tr>\n",
       "      <th>3</th>\n",
       "      <td>AFG.12_1</td>\n",
       "      <td>Hirat</td>\n",
       "      <td>AFG</td>\n",
       "      <td>Afghanistan</td>\n",
       "      <td></td>\n",
       "      <td></td>\n",
       "      <td>Velayat</td>\n",
       "      <td>Province</td>\n",
       "      <td></td>\n",
       "      <td>AF.HR</td>\n",
       "      <td>(POLYGON ((62.26362991 32.84782028, 62.2033577...</td>\n",
       "      <td>MULTIPOLYGON(((62.26362991 32.84782028,62.2033...</td>\n",
       "    </tr>\n",
       "    <tr>\n",
       "      <th>4</th>\n",
       "      <td>AFG.15_1</td>\n",
       "      <td>Kandahar</td>\n",
       "      <td>AFG</td>\n",
       "      <td>Afghanistan</td>\n",
       "      <td>Qandahar</td>\n",
       "      <td></td>\n",
       "      <td>Velayat</td>\n",
       "      <td>Province</td>\n",
       "      <td></td>\n",
       "      <td>AF.KD</td>\n",
       "      <td>(POLYGON ((66.19773102000001 31.86677933, 66.1...</td>\n",
       "      <td>MULTIPOLYGON(((66.19773102 31.86677933,66.1910...</td>\n",
       "    </tr>\n",
       "  </tbody>\n",
       "</table>\n",
       "</div>"
      ],
      "text/plain": [
       "      gid_1      name_1 gid_0       name_0              varname_1 nl_name_1  \\\n",
       "0  AFG.10_1        Ghor   AFG  Afghanistan  Gawr|Ghore|Ghour|Ghur             \n",
       "1   AFG.1_1  Badakhshan   AFG  Afghanistan               Badahšan             \n",
       "2  AFG.11_1     Hilmand   AFG  Afghanistan        Girishk|Hilmend             \n",
       "3  AFG.12_1       Hirat   AFG  Afghanistan                                    \n",
       "4  AFG.15_1    Kandahar   AFG  Afghanistan               Qandahar             \n",
       "\n",
       "    type_1 engtype_1 cc_1 hasc_1  \\\n",
       "0  Velayat  Province       AF.GR   \n",
       "1  Velayat  Province       AF.BD   \n",
       "2  Velayat  Province       AF.HM   \n",
       "3  Velayat  Province       AF.HR   \n",
       "4  Velayat  Province       AF.KD   \n",
       "\n",
       "                                                geom  \\\n",
       "0  (POLYGON ((64.52828217 33.32641602, 64.5058975...   \n",
       "1  (POLYGON ((71.14804076999999 36.00123596, 71.1...   \n",
       "2  (POLYGON ((63.6648941 29.4764061, 63.66107941 ...   \n",
       "3  (POLYGON ((62.26362991 32.84782028, 62.2033577...   \n",
       "4  (POLYGON ((66.19773102000001 31.86677933, 66.1...   \n",
       "\n",
       "                                                 wkt  \n",
       "0  MULTIPOLYGON(((64.52828217 33.32641602,64.5058...  \n",
       "1  MULTIPOLYGON(((71.14804077 36.00123596,71.1422...  \n",
       "2  MULTIPOLYGON(((63.6648941 29.4764061,63.661079...  \n",
       "3  MULTIPOLYGON(((62.26362991 32.84782028,62.2033...  \n",
       "4  MULTIPOLYGON(((66.19773102 31.86677933,66.1910...  "
      ]
     },
     "execution_count": 8,
     "metadata": {},
     "output_type": "execute_result"
    }
   ],
   "source": [
    "gdf.head()"
   ]
  },
  {
   "cell_type": "code",
   "execution_count": 9,
   "metadata": {
    "collapsed": true
   },
   "outputs": [],
   "source": [
    "destination_table = \"{}.{}\".format(BQ_OUTPUT_DATASET_NAME,BQ_OUTPUT_TABLE_NAME)"
   ]
  },
  {
   "cell_type": "code",
   "execution_count": 13,
   "metadata": {
    "collapsed": true
   },
   "outputs": [],
   "source": [
    "df = pd.DataFrame(gdf.drop(\"geom\",1))"
   ]
  },
  {
   "cell_type": "code",
   "execution_count": 11,
   "metadata": {
    "collapsed": true
   },
   "outputs": [],
   "source": [
    "if TESTING:\n",
    "    df = df.sample(1000)"
   ]
  },
  {
   "cell_type": "code",
   "execution_count": 15,
   "metadata": {},
   "outputs": [
    {
     "name": "stderr",
     "output_type": "stream",
     "text": [
      "\n",
      "0it [00:00, ?it/s]\u001b[A\n",
      "1it [00:00,  6.47it/s]\u001b[A\n",
      "2it [00:08,  4.38s/it]\u001b[A\n",
      "3it [00:29,  9.87s/it]\u001b[A\n",
      "4it [01:19, 19.99s/it]\u001b[A\n",
      "5it [01:58, 23.69s/it]\u001b[A\n",
      "6it [02:25, 24.26s/it]\u001b[A\n",
      "7it [02:37, 22.47s/it]\u001b[A\n",
      "8it [02:49, 21.17s/it]\u001b[A\n",
      "9it [03:05, 20.60s/it]\u001b[A\n",
      "10it [03:35, 21.57s/it]\u001b[A\n",
      "11it [03:59, 21.74s/it]\u001b[A\n",
      "12it [04:12, 21.02s/it]\u001b[A\n",
      "13it [04:34, 21.12s/it]\u001b[A\n",
      "14it [04:43, 20.25s/it]\u001b[A\n",
      "15it [05:11, 20.75s/it]\u001b[A\n",
      "16it [05:35, 20.94s/it]\u001b[A\n",
      "17it [05:50, 20.63s/it]\u001b[A\n",
      "18it [06:30, 21.71s/it]\u001b[A\n",
      "19it [06:39, 21.03s/it]\u001b[A\n",
      "20it [07:02, 21.15s/it]\u001b[A\n",
      "21it [07:11, 20.57s/it]\u001b[A\n",
      "22it [07:28, 20.39s/it]\u001b[A\n",
      "23it [07:38, 19.94s/it]\u001b[A\n",
      "24it [07:47, 19.49s/it]\u001b[A\n",
      "25it [07:58, 19.14s/it]\u001b[A\n",
      "26it [08:09, 18.83s/it]\u001b[A\n",
      "27it [08:29, 18.87s/it]\u001b[A\n",
      "28it [08:43, 18.69s/it]\u001b[A\n",
      "29it [08:59, 18.60s/it]\u001b[A\n",
      "30it [09:07, 18.25s/it]\u001b[A\n",
      "31it [09:20, 18.07s/it]\u001b[A\n",
      "32it [09:34, 17.95s/it]\u001b[A\n",
      "33it [09:51, 17.93s/it]\u001b[A\n",
      "34it [10:05, 17.80s/it]\u001b[A\n",
      "35it [10:16, 17.62s/it]\u001b[A\n",
      "36it [10:26, 17.42s/it]\u001b[A\n",
      "37it [10:43, 17.38s/it]\u001b[A\n",
      "\u001b[A"
     ]
    }
   ],
   "source": [
    "df.to_gbq(destination_table=destination_table,\n",
    "          project_id=BQ_PROJECT_ID,\n",
    "          chunksize=100,\n",
    "          if_exists=\"replace\")"
   ]
  },
  {
   "cell_type": "code",
   "execution_count": 16,
   "metadata": {
    "collapsed": true
   },
   "outputs": [],
   "source": [
    "engine.dispose()"
   ]
  },
  {
   "cell_type": "code",
   "execution_count": 17,
   "metadata": {},
   "outputs": [
    {
     "name": "stdout",
     "output_type": "stream",
     "text": [
      "0:14:59.092810\n"
     ]
    }
   ],
   "source": [
    "end = datetime.datetime.now()\n",
    "elapsed = end - start\n",
    "print(elapsed)"
   ]
  },
  {
   "cell_type": "markdown",
   "metadata": {},
   "source": [
    "previous runs:  \n",
    "0:14:59.092810"
   ]
  },
  {
   "cell_type": "code",
   "execution_count": null,
   "metadata": {
    "collapsed": true
   },
   "outputs": [],
   "source": []
  }
 ],
 "metadata": {
  "kernelspec": {
   "display_name": "Python 35",
   "language": "python",
   "name": "python35"
  },
  "language_info": {
   "codemirror_mode": {
    "name": "ipython",
    "version": 3
   },
   "file_extension": ".py",
   "mimetype": "text/x-python",
   "name": "python",
   "nbconvert_exporter": "python",
   "pygments_lexer": "ipython3",
   "version": "3.5.4"
  }
 },
 "nbformat": 4,
 "nbformat_minor": 2
}
