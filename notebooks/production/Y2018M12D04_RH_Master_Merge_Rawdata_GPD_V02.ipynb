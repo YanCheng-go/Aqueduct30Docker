{
 "cells": [
  {
   "cell_type": "code",
   "execution_count": 1,
   "metadata": {},
   "outputs": [
    {
     "name": "stdout",
     "output_type": "stream",
     "text": [
      "\n",
      "BQ_DATASET_NAME:  aqueduct30v01 \n",
      "BQ_OUTPUT_TABLE_NAME:  y2018m12d04_rh_master_merge_rawdata_gpd_v02_v03 \n",
      "s3_output_path:  s3://wri-projects/Aqueduct30/processData/Y2018M12D04_RH_Master_Merge_Rawdata_GPD_V02/output_V03/ \n",
      "ec2_output_path: /volumes/data/Y2018M12D04_RH_Master_Merge_Rawdata_GPD_V02/output_V03\n"
     ]
    }
   ],
   "source": [
    "\"\"\" Merge raw data into master table. \n",
    "-------------------------------------------------------------------------------\n",
    "\n",
    "version 1 of this script concatenated the results horizontally whereas \n",
    "a vertical approach was more useful when applying the weights. \n",
    "\n",
    "version 2 of the script creates a vertical output. \n",
    "\n",
    "Author: Rutger Hofste\n",
    "Date: 20181204\n",
    "Kernel: python35\n",
    "Docker: rutgerhofste/gisdocker:ubuntu16.04\n",
    "\n",
    "\"\"\"\n",
    "\n",
    "TESTING = 0\n",
    "SCRIPT_NAME = 'Y2018M12D04_RH_Master_Merge_Rawdata_GPD_V02'\n",
    "OUTPUT_VERSION = 3\n",
    "\n",
    "BQ_PROJECT_ID = \"aqueduct30\"\n",
    "BQ_DATASET_NAME = \"aqueduct30v01\"\n",
    "BQ_OUTPUT_TABLE_NAME = \"{}_v{:02.0f}\".format(SCRIPT_NAME,OUTPUT_VERSION).lower()\n",
    "\n",
    "\n",
    "BQ_IN = {}\n",
    "BQ_IN[\"Master\"] = \"y2018m12d06_rh_master_shape_v01_v01\"\n",
    "\n",
    "\n",
    "# GADM countries \n",
    "BQ_IN[\"GADM36L01\"] = \"y2018m11d12_rh_gadm36_level1_rds_to_bq_v01_v01\"\n",
    "\n",
    "INDICATORS = {\"bws\":\"pfaf_id\",\n",
    "              \"bwd\":\"pfaf_id\",\n",
    "              \"iav\":\"pfaf_id\",\n",
    "              \"sev\":\"pfaf_id\",\n",
    "              \"cfr\":\"pfaf_id\",\n",
    "              \"drr\":\"pfaf_id\",\n",
    "              \"gtd\":\"AqID_spatial_unit\",\n",
    "              \"ucw\":\"adm0_a3\",\n",
    "              \"cep\":\"pfaf_id\",\n",
    "              \"udw\":\"pfaf_id\",\n",
    "              \"usa\":\"pfaf_id\",\n",
    "              \"rri\":\"adm0_a3\"}\n",
    "\n",
    "IDENTIFIERS = {\"AqID_spatial_unit\":\"aqid\",\n",
    "               \"adm0_a3\":\"gid_0\",\n",
    "               \"pfaf_id\":\"pfaf_id\"}\n",
    "\n",
    "\n",
    "# Physical Risk Quantity | QAN   -------------\n",
    "\n",
    "# Baseline Water Stress | BWS\n",
    "BQ_IN[\"bws\"] = \"y2018m07d30_rh_gcs_to_bq_v01_v06\"\n",
    "\n",
    "# Baseline Water Depletion | BWD\n",
    "BQ_IN[\"bwd\"] = \"y2018m07d30_rh_gcs_to_bq_v01_v06\"\n",
    "\n",
    "# Interannual Variability | IAV\n",
    "BQ_IN[\"iav\"] = \"y2018m07d31_rh_inter_av_cat_label_v01_v02\"\n",
    "\n",
    "# Seasonal Variability | SEV\n",
    "BQ_IN[\"sev\"] = \"y2018m08d02_rh_intra_annual_variability_cat_label_v01_v02\"\n",
    "\n",
    "# Riverine Flood Risk | RFR\n",
    "BQ_IN[\"rfr\"] = \"y2018m12d04_rh_rfr_cfr_bq_v01_v01\"\n",
    "\n",
    "# Coastal Flood Risk | CFR\n",
    "BQ_IN[\"cfr\"] = \"y2018m12d04_rh_rfr_cfr_bq_v01_v01\"\n",
    "\n",
    "# Drought Risk | DRR\n",
    "BQ_IN[\"drr\"] = \"y2018m09d28_rh_dr_cat_label_v01_v02\"\n",
    "\n",
    "# Groundwater Table Decline | GTD\n",
    "BQ_IN[\"gtd\"] = \"y2018m09d03_rh_gws_cat_label_v01_v01\"\n",
    "\n",
    "\n",
    "# Physical Risk Quality | QAL -----------------\n",
    "\n",
    "# Untreated Collected Wastewater | UCW\n",
    "BQ_IN[\"ucw\"] = \"y2018m12d04_rh_ucw_bq_v01_v01\"\n",
    "\n",
    "# Coastal Eutrophication Potential | CEP\n",
    "BQ_IN[\"cep\"] = \"y2018m11d22_rh_icep_hybas6_cat_label_bq_v01_v03\"\n",
    "\n",
    "# Regulatory and Reputational Risk | RRR --------------\n",
    "\n",
    "# Unimproved/no drinking water | UDW\n",
    "BQ_IN[\"udw\"] = \"y2018m12d05_rh_udw_bq_v01_v01\"\n",
    "\n",
    "# Unimproved/no sanitation | USA\n",
    "BQ_IN[\"usa\"] = \"y2018m12d05_rh_usa_bq_v01_v01\"\n",
    "\n",
    "# RepRisk Index | RRI\n",
    "BQ_IN[\"rri\"] = \"y2018m12d05_rh_rri_bq_v01_v01\"\n",
    "\n",
    "\n",
    "ec2_output_path = \"/volumes/data/{}/output_V{:02.0f}\".format(SCRIPT_NAME,OUTPUT_VERSION) \n",
    "s3_output_path = \"s3://wri-projects/Aqueduct30/processData/{}/output_V{:02.0f}/\".format(SCRIPT_NAME,OUTPUT_VERSION)\n",
    "\n",
    "print(\"\\nBQ_DATASET_NAME: \", BQ_DATASET_NAME,\n",
    "      \"\\nBQ_OUTPUT_TABLE_NAME: \", BQ_OUTPUT_TABLE_NAME,\n",
    "      \"\\ns3_output_path: \", s3_output_path,\n",
    "      \"\\nec2_output_path:\" , ec2_output_path)"
   ]
  },
  {
   "cell_type": "code",
   "execution_count": 2,
   "metadata": {},
   "outputs": [
    {
     "data": {
      "text/plain": [
       "{'GADM36L01': 'y2018m11d12_rh_gadm36_level1_rds_to_bq_v01_v01',\n",
       " 'Master': 'y2018m12d06_rh_master_shape_v01_v01',\n",
       " 'bwd': 'y2018m07d30_rh_gcs_to_bq_v01_v06',\n",
       " 'bws': 'y2018m07d30_rh_gcs_to_bq_v01_v06',\n",
       " 'cep': 'y2018m11d22_rh_icep_hybas6_cat_label_bq_v01_v03',\n",
       " 'cfr': 'y2018m12d04_rh_rfr_cfr_bq_v01_v01',\n",
       " 'drr': 'y2018m09d28_rh_dr_cat_label_v01_v02',\n",
       " 'gtd': 'y2018m09d03_rh_gws_cat_label_v01_v01',\n",
       " 'iav': 'y2018m07d31_rh_inter_av_cat_label_v01_v02',\n",
       " 'rfr': 'y2018m12d04_rh_rfr_cfr_bq_v01_v01',\n",
       " 'rri': 'y2018m12d05_rh_rri_bq_v01_v01',\n",
       " 'sev': 'y2018m08d02_rh_intra_annual_variability_cat_label_v01_v02',\n",
       " 'ucw': 'y2018m12d04_rh_ucw_bq_v01_v01',\n",
       " 'udw': 'y2018m12d05_rh_udw_bq_v01_v01',\n",
       " 'usa': 'y2018m12d05_rh_usa_bq_v01_v01'}"
      ]
     },
     "execution_count": 2,
     "metadata": {},
     "output_type": "execute_result"
    }
   ],
   "source": [
    "BQ_IN"
   ]
  },
  {
   "cell_type": "code",
   "execution_count": 3,
   "metadata": {},
   "outputs": [
    {
     "name": "stdout",
     "output_type": "stream",
     "text": [
      "Y2018M12D14 UTC 21:30\n"
     ]
    },
    {
     "data": {
      "text/plain": [
       "'3.5.4 |Anaconda, Inc.| (default, Nov 20 2017, 18:44:38) \\n[GCC 7.2.0]'"
      ]
     },
     "execution_count": 3,
     "metadata": {},
     "output_type": "execute_result"
    }
   ],
   "source": [
    "import time, datetime, sys\n",
    "dateString = time.strftime(\"Y%YM%mD%d\")\n",
    "timeString = time.strftime(\"UTC %H:%M\")\n",
    "start = datetime.datetime.now()\n",
    "print(dateString,timeString)\n",
    "sys.version"
   ]
  },
  {
   "cell_type": "code",
   "execution_count": 4,
   "metadata": {},
   "outputs": [],
   "source": [
    "!rm -r {ec2_output_path}\n",
    "!mkdir -p {ec2_output_path}"
   ]
  },
  {
   "cell_type": "code",
   "execution_count": 5,
   "metadata": {
    "collapsed": true
   },
   "outputs": [],
   "source": [
    "import os\n",
    "import pandas as pd\n",
    "import numpy as np\n",
    "from google.cloud import bigquery\n",
    "\n",
    "os.environ[\"GOOGLE_APPLICATION_CREDENTIALS\"] = \"/.google.json\"\n",
    "os.environ[\"GOOGLE_CLOUD_PROJECT\"] = \"aqueduct30\"\n",
    "client = bigquery.Client(project=BQ_PROJECT_ID)\n",
    "\n",
    "pd.set_option('display.max_columns', 500)"
   ]
  },
  {
   "cell_type": "code",
   "execution_count": 6,
   "metadata": {
    "collapsed": true
   },
   "outputs": [],
   "source": [
    "# Master Table"
   ]
  },
  {
   "cell_type": "code",
   "execution_count": 7,
   "metadata": {
    "collapsed": true
   },
   "outputs": [],
   "source": [
    "sql_master = \"\"\"\n",
    "SELECT\n",
    "  string_id,\n",
    "  pfaf_id,\n",
    "  gid_1,\n",
    "  aqid\n",
    "FROM\n",
    "  `{}.{}.{}`\n",
    "ORDER BY\n",
    "  aq30_id\n",
    "\"\"\".format(BQ_PROJECT_ID,BQ_DATASET_NAME,BQ_IN[\"Master\"])"
   ]
  },
  {
   "cell_type": "code",
   "execution_count": 8,
   "metadata": {
    "collapsed": true
   },
   "outputs": [],
   "source": [
    "df_master = pd.read_gbq(query=sql_master,dialect=\"standard\")"
   ]
  },
  {
   "cell_type": "code",
   "execution_count": 9,
   "metadata": {},
   "outputs": [
    {
     "data": {
      "text/html": [
       "<div>\n",
       "<style scoped>\n",
       "    .dataframe tbody tr th:only-of-type {\n",
       "        vertical-align: middle;\n",
       "    }\n",
       "\n",
       "    .dataframe tbody tr th {\n",
       "        vertical-align: top;\n",
       "    }\n",
       "\n",
       "    .dataframe thead th {\n",
       "        text-align: right;\n",
       "    }\n",
       "</style>\n",
       "<table border=\"1\" class=\"dataframe\">\n",
       "  <thead>\n",
       "    <tr style=\"text-align: right;\">\n",
       "      <th></th>\n",
       "      <th>string_id</th>\n",
       "      <th>pfaf_id</th>\n",
       "      <th>gid_1</th>\n",
       "      <th>aqid</th>\n",
       "    </tr>\n",
       "  </thead>\n",
       "  <tbody>\n",
       "    <tr>\n",
       "      <th>0</th>\n",
       "      <td>111011-EGY.11_1-3365</td>\n",
       "      <td>111011</td>\n",
       "      <td>EGY.11_1</td>\n",
       "      <td>3365</td>\n",
       "    </tr>\n",
       "    <tr>\n",
       "      <th>1</th>\n",
       "      <td>111011-EGY.15_1-3365</td>\n",
       "      <td>111011</td>\n",
       "      <td>EGY.15_1</td>\n",
       "      <td>3365</td>\n",
       "    </tr>\n",
       "    <tr>\n",
       "      <th>2</th>\n",
       "      <td>111011-EGY.15_1-None</td>\n",
       "      <td>111011</td>\n",
       "      <td>EGY.15_1</td>\n",
       "      <td>-9999</td>\n",
       "    </tr>\n",
       "    <tr>\n",
       "      <th>3</th>\n",
       "      <td>111011-None-3365</td>\n",
       "      <td>111011</td>\n",
       "      <td>-9999</td>\n",
       "      <td>3365</td>\n",
       "    </tr>\n",
       "    <tr>\n",
       "      <th>4</th>\n",
       "      <td>111011-None-None</td>\n",
       "      <td>111011</td>\n",
       "      <td>-9999</td>\n",
       "      <td>-9999</td>\n",
       "    </tr>\n",
       "  </tbody>\n",
       "</table>\n",
       "</div>"
      ],
      "text/plain": [
       "              string_id  pfaf_id     gid_1  aqid\n",
       "0  111011-EGY.11_1-3365   111011  EGY.11_1  3365\n",
       "1  111011-EGY.15_1-3365   111011  EGY.15_1  3365\n",
       "2  111011-EGY.15_1-None   111011  EGY.15_1 -9999\n",
       "3      111011-None-3365   111011     -9999  3365\n",
       "4      111011-None-None   111011     -9999 -9999"
      ]
     },
     "execution_count": 9,
     "metadata": {},
     "output_type": "execute_result"
    }
   ],
   "source": [
    "df_master.head()"
   ]
  },
  {
   "cell_type": "code",
   "execution_count": 10,
   "metadata": {
    "collapsed": true
   },
   "outputs": [],
   "source": [
    "sql_gadm36l01 = \"\"\"\n",
    "SELECT\n",
    "  gid_1,\n",
    "  gid_0\n",
    "FROM\n",
    "  `{}.{}.{}`\n",
    "\"\"\".format(BQ_PROJECT_ID,BQ_DATASET_NAME,BQ_IN[\"GADM36L01\"])"
   ]
  },
  {
   "cell_type": "code",
   "execution_count": 11,
   "metadata": {
    "collapsed": true
   },
   "outputs": [],
   "source": [
    "df_gadm36l01 = pd.read_gbq(query=sql_gadm36l01,dialect=\"standard\")"
   ]
  },
  {
   "cell_type": "code",
   "execution_count": 12,
   "metadata": {},
   "outputs": [
    {
     "data": {
      "text/html": [
       "<div>\n",
       "<style scoped>\n",
       "    .dataframe tbody tr th:only-of-type {\n",
       "        vertical-align: middle;\n",
       "    }\n",
       "\n",
       "    .dataframe tbody tr th {\n",
       "        vertical-align: top;\n",
       "    }\n",
       "\n",
       "    .dataframe thead th {\n",
       "        text-align: right;\n",
       "    }\n",
       "</style>\n",
       "<table border=\"1\" class=\"dataframe\">\n",
       "  <thead>\n",
       "    <tr style=\"text-align: right;\">\n",
       "      <th></th>\n",
       "      <th>gid_1</th>\n",
       "      <th>gid_0</th>\n",
       "    </tr>\n",
       "  </thead>\n",
       "  <tbody>\n",
       "    <tr>\n",
       "      <th>0</th>\n",
       "      <td>ISR.1_1</td>\n",
       "      <td>ISR</td>\n",
       "    </tr>\n",
       "    <tr>\n",
       "      <th>1</th>\n",
       "      <td>ISR.2_1</td>\n",
       "      <td>ISR</td>\n",
       "    </tr>\n",
       "    <tr>\n",
       "      <th>2</th>\n",
       "      <td>ISR.3_1</td>\n",
       "      <td>ISR</td>\n",
       "    </tr>\n",
       "    <tr>\n",
       "      <th>3</th>\n",
       "      <td>ISR.5_1</td>\n",
       "      <td>ISR</td>\n",
       "    </tr>\n",
       "    <tr>\n",
       "      <th>4</th>\n",
       "      <td>ITA.10_1</td>\n",
       "      <td>ITA</td>\n",
       "    </tr>\n",
       "  </tbody>\n",
       "</table>\n",
       "</div>"
      ],
      "text/plain": [
       "      gid_1 gid_0\n",
       "0   ISR.1_1   ISR\n",
       "1   ISR.2_1   ISR\n",
       "2   ISR.3_1   ISR\n",
       "3   ISR.5_1   ISR\n",
       "4  ITA.10_1   ITA"
      ]
     },
     "execution_count": 12,
     "metadata": {},
     "output_type": "execute_result"
    }
   ],
   "source": [
    "df_gadm36l01.head()"
   ]
  },
  {
   "cell_type": "code",
   "execution_count": 13,
   "metadata": {
    "collapsed": true
   },
   "outputs": [],
   "source": [
    "def process_bws():\n",
    "    sql = \"\"\"\n",
    "    SELECT\n",
    "      pfafid_30spfaf06 as pfaf_id,\n",
    "      temporal_resolution,\n",
    "      delta_id,\n",
    "      year,\n",
    "      waterstress_raw_dimensionless_coalesced as raw,\n",
    "      waterstress_score_dimensionless_coalesced as score,\n",
    "      waterstress_category_dimensionless_coalesced as cat,\n",
    "      waterstress_label_dimensionless_coalesced as label\n",
    "    FROM\n",
    "      `{}.{}.{}`\n",
    "    WHERE\n",
    "      temporal_resolution = 'year'\n",
    "      AND year = 2014\n",
    "    \"\"\".format(BQ_PROJECT_ID,BQ_DATASET_NAME,BQ_IN[\"bws\"])\n",
    "    df = pd.read_gbq(query=sql,dialect=\"standard\")\n",
    "    # Setting arid and low water use score to 5\n",
    "    df.score.loc[df.score == -1] = 5\n",
    "    return df\n",
    "\n",
    "def process_bwd():\n",
    "    sql = \"\"\"\n",
    "    SELECT\n",
    "      pfafid_30spfaf06 as pfaf_id,\n",
    "      temporal_resolution,\n",
    "      delta_id,\n",
    "      year,\n",
    "      waterdepletion_raw_dimensionless_coalesced as raw,\n",
    "      waterdepletion_score_dimensionless_coalesced as score,\n",
    "      waterdepletion_category_dimensionless_coalesced as cat,\n",
    "      waterdepletion_label_dimensionless_coalesced as label\n",
    "    FROM\n",
    "      `{}.{}.{}`\n",
    "    WHERE\n",
    "      temporal_resolution = 'year'\n",
    "      AND year = 2014\n",
    "    \"\"\".format(BQ_PROJECT_ID,BQ_DATASET_NAME,BQ_IN[\"bwd\"])\n",
    "    df = pd.read_gbq(query=sql,dialect=\"standard\")\n",
    "    # Setting arid and low water use score to 5\n",
    "    df.score.loc[df.score == -1] = 5\n",
    "    return  df\n",
    "\n",
    "\n",
    "def process_iav():\n",
    "    sql = \"\"\"\n",
    "    SELECT\n",
    "      pfafid_30spfaf06 as pfaf_id,\n",
    "      temporal_resolution,\n",
    "      year,\n",
    "      delta_id,\n",
    "      iav_riverdischarge_m_coalesced as raw,\n",
    "      iav_riverdischarge_score_coalesced as score,\n",
    "      iav_riverdischarge_category_coalesced as cat,\n",
    "      iav_riverdischarge_label_coalesced as label\n",
    "    FROM\n",
    "      `{}.{}.{}`\n",
    "    WHERE\n",
    "      temporal_resolution = 'year'\n",
    "      AND year = 2014\n",
    "    \"\"\".format(BQ_PROJECT_ID,BQ_DATASET_NAME,BQ_IN[\"iav\"])\n",
    "    df = pd.read_gbq(query=sql,dialect=\"standard\")\n",
    "    return  df\n",
    "\n",
    "def process_sev():\n",
    "    sql = \"\"\"\n",
    "    SELECT\n",
    "      pfafid_30spfaf06 as pfaf_id,\n",
    "      sv_riverdischarge_m_coalesced as raw,\n",
    "      sv_riverdischarge_score_coalesced as score,\n",
    "      sv_riverdischarge_category_coalesced as cat,\n",
    "      sv_label_dimensionless_coalesced as label\n",
    "    FROM\n",
    "      `{}.{}.{}`\n",
    "    \"\"\".format(BQ_PROJECT_ID,BQ_DATASET_NAME,BQ_IN[\"sev\"])\n",
    "    df = pd.read_gbq(query=sql,dialect=\"standard\")\n",
    "    return df\n",
    "\n",
    "def process_drr():\n",
    "    sql = \"\"\"\n",
    "    SELECT\n",
    "      PFAF_ID as pfaf_id,\n",
    "      droughtrisk_score as raw,\n",
    "      droughtrisk_score as score,\n",
    "      droughtrisk_cat as cat,\n",
    "      droughtrisk_label as label\n",
    "    FROM\n",
    "      `{}.{}.{}`\n",
    "    \"\"\".format(BQ_PROJECT_ID,BQ_DATASET_NAME,BQ_IN[\"drr\"])\n",
    "    df = pd.read_gbq(query=sql,dialect=\"standard\")\n",
    "    return df\n",
    "\n",
    "def process_gtd():\n",
    "    sql = \"\"\"\n",
    "    SELECT\n",
    "      AqID_spatial_unit as aqid,\n",
    "      groundwatertabledecliningtrend_cmperyear as raw,\n",
    "      groundwatertabledecliningtrend_score as score,\n",
    "      groundwatertabledecliningtrend_cat as cat,\n",
    "      groundwatertabledecliningtrend_label as label\n",
    "    FROM\n",
    "      `{}.{}.{}`\n",
    "    \"\"\".format(BQ_PROJECT_ID,BQ_DATASET_NAME,BQ_IN[\"gtd\"])\n",
    "    df = pd.read_gbq(query=sql,dialect=\"standard\")\n",
    "    return df\n",
    "\n",
    "def process_standard(indicator,identifier):\n",
    "    sql = \"\"\"\n",
    "    SELECT\n",
    "      {} as {},\n",
    "      {}_raw as raw,\n",
    "      {}_score as score,\n",
    "      {}_cat as cat,\n",
    "      {}_label as label\n",
    "    FROM\n",
    "      `{}.{}.{}`\n",
    "    \"\"\".format(identifier,IDENTIFIERS[identifier],indicator,indicator,indicator,indicator,BQ_PROJECT_ID,BQ_DATASET_NAME,BQ_IN[indicator])\n",
    "    df = pd.read_gbq(query=sql,dialect=\"standard\")\n",
    "    return df\n",
    "\n",
    "\n",
    "def load_dataframe(indicator,identifier):\n",
    "    if indicator == \"bws\":\n",
    "        df = process_bws()\n",
    "    elif indicator == \"bwd\":\n",
    "        df = process_bwd()\n",
    "    elif indicator == \"iav\":\n",
    "        df = process_iav()\n",
    "    elif indicator == \"sev\":\n",
    "        df = process_sev()\n",
    "    elif indicator == \"drr\":\n",
    "        df = process_drr()\n",
    "    elif indicator == \"gtd\":\n",
    "        df = process_gtd()\n",
    "    else:\n",
    "        df = process_standard(indicator,identifier)\n",
    "    return df\n",
    "        "
   ]
  },
  {
   "cell_type": "code",
   "execution_count": 14,
   "metadata": {},
   "outputs": [
    {
     "name": "stdout",
     "output_type": "stream",
     "text": [
      "ucw adm0_a3\n",
      "udw pfaf_id\n",
      "sev pfaf_id\n",
      "bws pfaf_id\n"
     ]
    },
    {
     "name": "stderr",
     "output_type": "stream",
     "text": [
      "/opt/anaconda3/envs/python35/lib/python3.5/site-packages/pandas/core/indexing.py:194: SettingWithCopyWarning: \n",
      "A value is trying to be set on a copy of a slice from a DataFrame\n",
      "\n",
      "See the caveats in the documentation: http://pandas.pydata.org/pandas-docs/stable/indexing.html#indexing-view-versus-copy\n",
      "  self._setitem_with_indexer(indexer, value)\n"
     ]
    },
    {
     "name": "stdout",
     "output_type": "stream",
     "text": [
      "cfr pfaf_id\n",
      "iav pfaf_id\n",
      "cep pfaf_id\n",
      "bwd pfaf_id\n",
      "usa pfaf_id\n",
      "gtd AqID_spatial_unit\n",
      "rri adm0_a3\n",
      "drr pfaf_id\n"
     ]
    }
   ],
   "source": [
    "d_1_out = {}\n",
    "for indicator, identifier in INDICATORS.items():\n",
    "    print(indicator,identifier)\n",
    "    df = load_dataframe(indicator,identifier)\n",
    "    df[\"indicator\"] = indicator\n",
    "    d_2_out = {}\n",
    "    d_2_out[\"df\"] = df\n",
    "    d_2_out[\"indicator\"] = indicator\n",
    "    d_2_out[\"identifier1\"] = identifier\n",
    "    d_2_out[\"identifier2\"] = IDENTIFIERS[identifier]\n",
    "    d_1_out[indicator] = d_2_out"
   ]
  },
  {
   "cell_type": "markdown",
   "metadata": {},
   "source": [
    "# Join tables"
   ]
  },
  {
   "cell_type": "code",
   "execution_count": 15,
   "metadata": {
    "collapsed": true
   },
   "outputs": [],
   "source": [
    "df_master_merged = pd.merge(left=df_master,\n",
    "                     right=df_gadm36l01,\n",
    "                     how=\"left\",\n",
    "                     left_on=\"gid_1\",\n",
    "                     right_on=\"gid_1\",\n",
    "                     validate=\"many_to_one\")"
   ]
  },
  {
   "cell_type": "code",
   "execution_count": null,
   "metadata": {
    "collapsed": true
   },
   "outputs": [],
   "source": []
  },
  {
   "cell_type": "code",
   "execution_count": 16,
   "metadata": {
    "collapsed": true
   },
   "outputs": [],
   "source": [
    "df_merged = []\n",
    "for indicator, dictje in d_1_out.items():\n",
    "    identifier = dictje[\"identifier2\"]\n",
    "    df_in = dictje[\"df\"]\n",
    "    df_out = pd.merge(left=df_master_merged,\n",
    "                      right=df_in,\n",
    "                      how=\"left\",\n",
    "                      left_on= identifier,\n",
    "                      right_on= identifier,\n",
    "                      validate=\"many_to_one\")   \n",
    "    df_merged.append(df_out)\n",
    "\n",
    "df_result = pd.concat(df_merged, axis=0)\n",
    "df_result_nones = df_result.replace(to_replace=[-9999,-9998,-9999.0,-9998.0,\"-9999\",\"NoData\"],value= np.nan)"
   ]
  },
  {
   "cell_type": "code",
   "execution_count": 17,
   "metadata": {},
   "outputs": [
    {
     "data": {
      "text/html": [
       "<div>\n",
       "<style scoped>\n",
       "    .dataframe tbody tr th:only-of-type {\n",
       "        vertical-align: middle;\n",
       "    }\n",
       "\n",
       "    .dataframe tbody tr th {\n",
       "        vertical-align: top;\n",
       "    }\n",
       "\n",
       "    .dataframe thead th {\n",
       "        text-align: right;\n",
       "    }\n",
       "</style>\n",
       "<table border=\"1\" class=\"dataframe\">\n",
       "  <thead>\n",
       "    <tr style=\"text-align: right;\">\n",
       "      <th></th>\n",
       "      <th>aqid</th>\n",
       "      <th>cat</th>\n",
       "      <th>delta_id</th>\n",
       "      <th>gid_0</th>\n",
       "      <th>gid_1</th>\n",
       "      <th>indicator</th>\n",
       "      <th>label</th>\n",
       "      <th>pfaf_id</th>\n",
       "      <th>raw</th>\n",
       "      <th>score</th>\n",
       "      <th>string_id</th>\n",
       "      <th>temporal_resolution</th>\n",
       "      <th>year</th>\n",
       "    </tr>\n",
       "  </thead>\n",
       "  <tbody>\n",
       "    <tr>\n",
       "      <th>0</th>\n",
       "      <td>3365.0</td>\n",
       "      <td>2.0</td>\n",
       "      <td>NaN</td>\n",
       "      <td>EGY</td>\n",
       "      <td>EGY.11_1</td>\n",
       "      <td>ucw</td>\n",
       "      <td>Medium to high (0.6 to 90%)</td>\n",
       "      <td>111011.0</td>\n",
       "      <td>0.6139</td>\n",
       "      <td>2.046333</td>\n",
       "      <td>111011-EGY.11_1-3365</td>\n",
       "      <td>NaN</td>\n",
       "      <td>NaN</td>\n",
       "    </tr>\n",
       "    <tr>\n",
       "      <th>1</th>\n",
       "      <td>3365.0</td>\n",
       "      <td>2.0</td>\n",
       "      <td>NaN</td>\n",
       "      <td>EGY</td>\n",
       "      <td>EGY.15_1</td>\n",
       "      <td>ucw</td>\n",
       "      <td>Medium to high (0.6 to 90%)</td>\n",
       "      <td>111011.0</td>\n",
       "      <td>0.6139</td>\n",
       "      <td>2.046333</td>\n",
       "      <td>111011-EGY.15_1-3365</td>\n",
       "      <td>NaN</td>\n",
       "      <td>NaN</td>\n",
       "    </tr>\n",
       "    <tr>\n",
       "      <th>2</th>\n",
       "      <td>NaN</td>\n",
       "      <td>2.0</td>\n",
       "      <td>NaN</td>\n",
       "      <td>EGY</td>\n",
       "      <td>EGY.15_1</td>\n",
       "      <td>ucw</td>\n",
       "      <td>Medium to high (0.6 to 90%)</td>\n",
       "      <td>111011.0</td>\n",
       "      <td>0.6139</td>\n",
       "      <td>2.046333</td>\n",
       "      <td>111011-EGY.15_1-None</td>\n",
       "      <td>NaN</td>\n",
       "      <td>NaN</td>\n",
       "    </tr>\n",
       "    <tr>\n",
       "      <th>3</th>\n",
       "      <td>3365.0</td>\n",
       "      <td>NaN</td>\n",
       "      <td>NaN</td>\n",
       "      <td>NaN</td>\n",
       "      <td>NaN</td>\n",
       "      <td>NaN</td>\n",
       "      <td>NaN</td>\n",
       "      <td>111011.0</td>\n",
       "      <td>NaN</td>\n",
       "      <td>NaN</td>\n",
       "      <td>111011-None-3365</td>\n",
       "      <td>NaN</td>\n",
       "      <td>NaN</td>\n",
       "    </tr>\n",
       "    <tr>\n",
       "      <th>4</th>\n",
       "      <td>NaN</td>\n",
       "      <td>NaN</td>\n",
       "      <td>NaN</td>\n",
       "      <td>NaN</td>\n",
       "      <td>NaN</td>\n",
       "      <td>NaN</td>\n",
       "      <td>NaN</td>\n",
       "      <td>111011.0</td>\n",
       "      <td>NaN</td>\n",
       "      <td>NaN</td>\n",
       "      <td>111011-None-None</td>\n",
       "      <td>NaN</td>\n",
       "      <td>NaN</td>\n",
       "    </tr>\n",
       "  </tbody>\n",
       "</table>\n",
       "</div>"
      ],
      "text/plain": [
       "     aqid  cat  delta_id gid_0     gid_1 indicator  \\\n",
       "0  3365.0  2.0       NaN   EGY  EGY.11_1       ucw   \n",
       "1  3365.0  2.0       NaN   EGY  EGY.15_1       ucw   \n",
       "2     NaN  2.0       NaN   EGY  EGY.15_1       ucw   \n",
       "3  3365.0  NaN       NaN   NaN       NaN       NaN   \n",
       "4     NaN  NaN       NaN   NaN       NaN       NaN   \n",
       "\n",
       "                         label   pfaf_id     raw     score  \\\n",
       "0  Medium to high (0.6 to 90%)  111011.0  0.6139  2.046333   \n",
       "1  Medium to high (0.6 to 90%)  111011.0  0.6139  2.046333   \n",
       "2  Medium to high (0.6 to 90%)  111011.0  0.6139  2.046333   \n",
       "3                          NaN  111011.0     NaN       NaN   \n",
       "4                          NaN  111011.0     NaN       NaN   \n",
       "\n",
       "              string_id temporal_resolution  year  \n",
       "0  111011-EGY.11_1-3365                 NaN   NaN  \n",
       "1  111011-EGY.15_1-3365                 NaN   NaN  \n",
       "2  111011-EGY.15_1-None                 NaN   NaN  \n",
       "3      111011-None-3365                 NaN   NaN  \n",
       "4      111011-None-None                 NaN   NaN  "
      ]
     },
     "execution_count": 17,
     "metadata": {},
     "output_type": "execute_result"
    }
   ],
   "source": [
    "df_result_nones.head()"
   ]
  },
  {
   "cell_type": "code",
   "execution_count": 18,
   "metadata": {},
   "outputs": [
    {
     "data": {
      "text/plain": [
       "(822132, 13)"
      ]
     },
     "execution_count": 18,
     "metadata": {},
     "output_type": "execute_result"
    }
   ],
   "source": [
    "df_result_nones.shape"
   ]
  },
  {
   "cell_type": "code",
   "execution_count": 19,
   "metadata": {},
   "outputs": [
    {
     "name": "stdout",
     "output_type": "stream",
     "text": [
      "upload: ../../../../data/Y2018M12D04_RH_Master_Merge_Rawdata_GPD_V02/output_V03/Y2018M12D04_RH_Master_Merge_Rawdata_GPD_V02.pkl to s3://wri-projects/Aqueduct30/processData/Y2018M12D04_RH_Master_Merge_Rawdata_GPD_V02/output_V03/Y2018M12D04_RH_Master_Merge_Rawdata_GPD_V02.pkl\n"
     ]
    }
   ],
   "source": [
    "destination_path_s3 = \"{}/{}.pkl\".format(ec2_output_path,SCRIPT_NAME)\n",
    "df_result_nones.to_pickle(destination_path_s3)\n",
    "!aws s3 cp {ec2_output_path} {s3_output_path} --recursive"
   ]
  },
  {
   "cell_type": "code",
   "execution_count": 20,
   "metadata": {},
   "outputs": [
    {
     "name": "stdout",
     "output_type": "stream",
     "text": [
      "aqueduct30v01.y2018m12d04_rh_master_merge_rawdata_gpd_v02_v03\n"
     ]
    }
   ],
   "source": [
    "destination_table = \"{}.{}\".format(BQ_DATASET_NAME,BQ_OUTPUT_TABLE_NAME)\n",
    "print(destination_table)"
   ]
  },
  {
   "cell_type": "code",
   "execution_count": 21,
   "metadata": {},
   "outputs": [
    {
     "name": "stderr",
     "output_type": "stream",
     "text": [
      "9it [01:21,  9.06s/it]\n"
     ]
    }
   ],
   "source": [
    "df_result_nones.to_gbq(destination_table=destination_table,\n",
    "                       project_id=BQ_PROJECT_ID,\n",
    "                       chunksize=100000,\n",
    "                       if_exists=\"replace\")"
   ]
  },
  {
   "cell_type": "code",
   "execution_count": 22,
   "metadata": {},
   "outputs": [
    {
     "name": "stdout",
     "output_type": "stream",
     "text": [
      "0:02:31.706483\n"
     ]
    }
   ],
   "source": [
    "end = datetime.datetime.now()\n",
    "elapsed = end - start\n",
    "print(elapsed)"
   ]
  },
  {
   "cell_type": "markdown",
   "metadata": {},
   "source": [
    "Previous runs:   \n",
    "0:02:28.099761  \n",
    "0:03:18.624484\n"
   ]
  },
  {
   "cell_type": "code",
   "execution_count": null,
   "metadata": {
    "collapsed": true
   },
   "outputs": [],
   "source": []
  }
 ],
 "metadata": {
  "kernelspec": {
   "display_name": "Python 35",
   "language": "python",
   "name": "python35"
  },
  "language_info": {
   "codemirror_mode": {
    "name": "ipython",
    "version": 3
   },
   "file_extension": ".py",
   "mimetype": "text/x-python",
   "name": "python",
   "nbconvert_exporter": "python",
   "pygments_lexer": "ipython3",
   "version": "3.5.4"
  }
 },
 "nbformat": 4,
 "nbformat_minor": 2
}
