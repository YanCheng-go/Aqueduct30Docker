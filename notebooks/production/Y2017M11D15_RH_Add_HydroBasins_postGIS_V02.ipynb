{
 "cells": [
  {
   "cell_type": "code",
   "execution_count": 1,
   "metadata": {},
   "outputs": [
    {
     "name": "stdout",
     "output_type": "stream",
     "text": [
      "\n",
      "Input ec2: /volumes/data/Y2017M11D15_RH_Add_HydroBasins_postGIS_V01/input_V04 \n",
      "Input s3 : s3://wri-projects/Aqueduct30/processData/Y2017M08D02_RH_Merge_HydroBasins_V02/output_V04/ \n",
      "Output postGIS table : hybas06_v04\n"
     ]
    }
   ],
   "source": [
    "\"\"\" Add hydrobasins geometry and table to postGIS database. \n",
    "-------------------------------------------------------------------------------\n",
    "\n",
    "The script requires a file called .password to be stored in the current working\n",
    "directory with the password to the database.\n",
    "\n",
    "Please note that columns with uppercase should be referred to by using double \n",
    "quotes whereas strings need single quotes. Please note that the script will \n",
    "consolidate two polygons in Russia that spans two hemispheres into one.\n",
    "\n",
    "Author: Rutger Hofste\n",
    "Date: 20171115\n",
    "Kernel: python35\n",
    "Docker: rutgerhofste/gisdocker:ubuntu16.04\n",
    "\n",
    "Args:\n",
    "    TESTING (Boolean) : Toggle testing case.\n",
    "    SCRIPT_NAME (string) : Script name.\n",
    "    OUTPUT_VERSION (integer) : output version.\n",
    "    DATABASE_ENDPOINT (string) : RDS or postGreSQL endpoint.\n",
    "    DATABASE_NAME (string) : Database name.\n",
    "    TABLE_NAME_AREA_30SPFAF06 (string) : Table name used for areas. Must exist\n",
    "        on same database as used in rest of script.\n",
    "    S3_INPUT_PATH_RIVERDISCHARGE (string) : AWS S3 input path for \n",
    "        riverdischarge.    \n",
    "    S3_INPUT_PATH_DEMAND (string) : AWS S3 input path for \n",
    "        demand.    \n",
    "\n",
    "\"\"\"\n",
    "\n",
    "SCRIPT_NAME = \"Y2017M11D15_RH_Add_HydroBasins_postGIS_V01\"\n",
    "OUTPUT_VERSION= 4\n",
    "\n",
    "S3_INPUT_PATH = \"s3://wri-projects/Aqueduct30/processData/Y2017M08D02_RH_Merge_HydroBasins_V02/output_V04/\"\n",
    "INPUT_FILENAME = \"hybas_lev06_v1c_merged_fiona_V04\" \n",
    "\n",
    "# Database settings\n",
    "DATABASE_IDENTIFIER = \"aqueduct30v05\"\n",
    "DATABASE_NAME = \"database01\"\n",
    "OUTPUT_TABLE_NAME = \"hybas06_v{:02.0f}\".format(OUTPUT_VERSION)\n",
    "\n",
    "ec2_input_path = \"/volumes/data/{}/input_V{:02.0f}\".format(SCRIPT_NAME,OUTPUT_VERSION)\n",
    "ec2_output_path = \"/volumes/data/{}/output_V{:02.0f}\".format(SCRIPT_NAME,OUTPUT_VERSION)\n",
    "s3_output_path = \"s3://wri-projects/Aqueduct30/processData/{}/output_V{:02.0f}/\".format(SCRIPT_NAME,OUTPUT_VERSION)\n",
    "\n",
    "print(\"\\nInput ec2: \" + ec2_input_path,\n",
    "      \"\\nInput s3 : \" + S3_INPUT_PATH,\n",
    "      \"\\nOutput postGIS table : \" + OUTPUT_TABLE_NAME)\n"
   ]
  },
  {
   "cell_type": "code",
   "execution_count": 2,
   "metadata": {},
   "outputs": [
    {
     "name": "stdout",
     "output_type": "stream",
     "text": [
      "Y2018M05D24 UTC 12:12\n"
     ]
    },
    {
     "data": {
      "text/plain": [
       "'3.5.4 |Anaconda, Inc.| (default, Nov 20 2017, 18:44:38) \\n[GCC 7.2.0]'"
      ]
     },
     "execution_count": 2,
     "metadata": {},
     "output_type": "execute_result"
    }
   ],
   "source": [
    "import time, datetime, sys\n",
    "dateString = time.strftime(\"Y%YM%mD%d\")\n",
    "timeString = time.strftime(\"UTC %H:%M\")\n",
    "start = datetime.datetime.now()\n",
    "print(dateString,timeString)\n",
    "sys.version"
   ]
  },
  {
   "cell_type": "code",
   "execution_count": 3,
   "metadata": {},
   "outputs": [
    {
     "name": "stdout",
     "output_type": "stream",
     "text": [
      "rm: cannot remove '/volumes/data/Y2017M11D15_RH_Add_HydroBasins_postGIS_V01/input_V04': No such file or directory\n",
      "rm: cannot remove '/volumes/data/Y2017M11D15_RH_Add_HydroBasins_postGIS_V01/output_V04': No such file or directory\n"
     ]
    }
   ],
   "source": [
    "!rm -r {ec2_input_path}\n",
    "!rm -r {ec2_output_path}\n",
    "\n",
    "!mkdir -p {ec2_input_path}\n",
    "!mkdir -p {ec2_output_path}"
   ]
  },
  {
   "cell_type": "code",
   "execution_count": 4,
   "metadata": {
    "collapsed": true
   },
   "outputs": [],
   "source": [
    "!aws s3 cp {S3_INPUT_PATH} {ec2_input_path} --recursive --quiet"
   ]
  },
  {
   "cell_type": "code",
   "execution_count": 5,
   "metadata": {
    "collapsed": true
   },
   "outputs": [],
   "source": [
    "import os\n",
    "import boto3\n",
    "import botocore\n",
    "import pandas as pd\n",
    "import geopandas as gpd\n",
    "from sqlalchemy import *\n",
    "from shapely.geometry.multipolygon import MultiPolygon\n",
    "from geoalchemy2 import Geometry, WKTElement"
   ]
  },
  {
   "cell_type": "code",
   "execution_count": 6,
   "metadata": {
    "collapsed": true
   },
   "outputs": [],
   "source": [
    "def rdsConnect(database_identifier,database_name):\n",
    "    rds = boto3.client('rds')\n",
    "    F = open(\"/.password\",\"r\")\n",
    "    password = F.read().splitlines()[0]\n",
    "    F.close()\n",
    "    response = rds.describe_db_instances(DBInstanceIdentifier=\"%s\"%(database_identifier))\n",
    "    status = response[\"DBInstances\"][0][\"DBInstanceStatus\"]\n",
    "    print(\"Status:\",status)\n",
    "    endpoint = response[\"DBInstances\"][0][\"Endpoint\"][\"Address\"]\n",
    "    print(\"Endpoint:\",endpoint)\n",
    "    engine = create_engine('postgresql://rutgerhofste:%s@%s:5432/%s' %(password,endpoint,database_name))\n",
    "    connection = engine.connect()\n",
    "    return engine, connection\n",
    "\n",
    "def uploadGDFtoPostGIS(gdf,tableName,saveIndex):\n",
    "    # this function uploads a polygon shapefile to table in AWS RDS. \n",
    "    # It handles combined polygon/multipolygon geometry and stores it in valid multipolygon in epsg 4326.\n",
    "    \n",
    "    # gdf = input geoDataframe\n",
    "    # tableName = postGIS table name (string)\n",
    "    # saveIndex = save index column in separate column in postgresql, otherwise discarded. (Boolean)\n",
    "    \n",
    "    \n",
    "    gdf[\"type\"] = gdf.geometry.geom_type    \n",
    "    geomTypes = [\"Polygon\",\"MultiPolygon\"]\n",
    "    \n",
    "    for geomType in geomTypes:\n",
    "        gdfType = gdf.loc[gdf[\"type\"]== geomType]\n",
    "        geomTypeLower = str.lower(geomType)\n",
    "        gdfType['geom'] = gdfType['geometry'].apply(lambda x: WKTElement(x.wkt, srid=4326))\n",
    "        gdfType.drop([\"geometry\",\"type\"],1, inplace=True)      \n",
    "        print(\"Create table temp%s\" %(geomTypeLower)) \n",
    "        gdfType.to_sql(\n",
    "            name = \"temp%s\" %(geomTypeLower),\n",
    "            con = engine,\n",
    "            if_exists='replace',\n",
    "            index= saveIndex, \n",
    "            dtype={'geom': Geometry(str.upper(geomType), srid= 4326)}\n",
    "        )\n",
    "        \n",
    "    # Merge both tables and make valid\n",
    "    sql = []\n",
    "    sql.append(\"DROP TABLE IF EXISTS %s\"  %(tableName))\n",
    "    sql.append(\"ALTER TABLE temppolygon ALTER COLUMN geom type geometry(MultiPolygon, 4326) using ST_Multi(geom);\")\n",
    "    sql.append(\"CREATE TABLE %s AS (SELECT * FROM temppolygon UNION SELECT * FROM tempmultipolygon);\" %(tableName))\n",
    "    sql.append(\"UPDATE %s SET geom = st_makevalid(geom);\" %(tableName))\n",
    "    sql.append(\"DROP TABLE temppolygon,tempmultipolygon\")\n",
    "\n",
    "    for statement in sql:\n",
    "        print(statement)\n",
    "        result = connection.execute(statement)    \n",
    "    gdfFromSQL =gpd.GeoDataFrame.from_postgis(\"select * from %s\" %(tableName),connection,geom_col='geom' )\n",
    "    return gdfFromSQL\n"
   ]
  },
  {
   "cell_type": "code",
   "execution_count": 7,
   "metadata": {},
   "outputs": [
    {
     "name": "stdout",
     "output_type": "stream",
     "text": [
      "Status: available\n",
      "Endpoint: aqueduct30v05.cgpnumwmfcqc.eu-central-1.rds.amazonaws.com\n"
     ]
    }
   ],
   "source": [
    "engine, connection = rdsConnect(DATABASE_IDENTIFIER,DATABASE_NAME)"
   ]
  },
  {
   "cell_type": "code",
   "execution_count": 8,
   "metadata": {
    "collapsed": true
   },
   "outputs": [],
   "source": [
    "gdf = gpd.read_file(os.path.join(ec2_input_path,INPUT_FILENAME+\".shp\"))"
   ]
  },
  {
   "cell_type": "code",
   "execution_count": 9,
   "metadata": {},
   "outputs": [
    {
     "data": {
      "text/plain": [
       "(16397, 14)"
      ]
     },
     "execution_count": 9,
     "metadata": {},
     "output_type": "execute_result"
    }
   ],
   "source": [
    "gdf.shape"
   ]
  },
  {
   "cell_type": "code",
   "execution_count": 10,
   "metadata": {
    "collapsed": true
   },
   "outputs": [],
   "source": [
    "gdf.columns = map(str.lower, gdf.columns)"
   ]
  },
  {
   "cell_type": "code",
   "execution_count": 11,
   "metadata": {
    "collapsed": true
   },
   "outputs": [],
   "source": [
    "gdf = gdf.set_index(\"pfaf_id\", drop=False)"
   ]
  },
  {
   "cell_type": "code",
   "execution_count": 12,
   "metadata": {},
   "outputs": [
    {
     "data": {
      "text/html": [
       "<div>\n",
       "<style scoped>\n",
       "    .dataframe tbody tr th:only-of-type {\n",
       "        vertical-align: middle;\n",
       "    }\n",
       "\n",
       "    .dataframe tbody tr th {\n",
       "        vertical-align: top;\n",
       "    }\n",
       "\n",
       "    .dataframe thead th {\n",
       "        text-align: right;\n",
       "    }\n",
       "</style>\n",
       "<table border=\"1\" class=\"dataframe\">\n",
       "  <thead>\n",
       "    <tr style=\"text-align: right;\">\n",
       "      <th></th>\n",
       "      <th>hybas_id</th>\n",
       "      <th>next_down</th>\n",
       "      <th>next_sink</th>\n",
       "      <th>main_bas</th>\n",
       "      <th>dist_sink</th>\n",
       "      <th>dist_main</th>\n",
       "      <th>sub_area</th>\n",
       "      <th>up_area</th>\n",
       "      <th>pfaf_id</th>\n",
       "      <th>endo</th>\n",
       "      <th>coast</th>\n",
       "      <th>order</th>\n",
       "      <th>sort</th>\n",
       "      <th>geometry</th>\n",
       "    </tr>\n",
       "    <tr>\n",
       "      <th>pfaf_id</th>\n",
       "      <th></th>\n",
       "      <th></th>\n",
       "      <th></th>\n",
       "      <th></th>\n",
       "      <th></th>\n",
       "      <th></th>\n",
       "      <th></th>\n",
       "      <th></th>\n",
       "      <th></th>\n",
       "      <th></th>\n",
       "      <th></th>\n",
       "      <th></th>\n",
       "      <th></th>\n",
       "      <th></th>\n",
       "    </tr>\n",
       "  </thead>\n",
       "  <tbody>\n",
       "    <tr>\n",
       "      <th>811101</th>\n",
       "      <td>8060000010</td>\n",
       "      <td>0</td>\n",
       "      <td>8060000010</td>\n",
       "      <td>8060000010</td>\n",
       "      <td>0.0</td>\n",
       "      <td>0.0</td>\n",
       "      <td>928.6</td>\n",
       "      <td>928.6</td>\n",
       "      <td>811101</td>\n",
       "      <td>0</td>\n",
       "      <td>1</td>\n",
       "      <td>0</td>\n",
       "      <td>1</td>\n",
       "      <td>POLYGON ((-137.9333333333333 58.90416666666669...</td>\n",
       "    </tr>\n",
       "    <tr>\n",
       "      <th>811102</th>\n",
       "      <td>8060000060</td>\n",
       "      <td>0</td>\n",
       "      <td>8060000060</td>\n",
       "      <td>8060000060</td>\n",
       "      <td>0.0</td>\n",
       "      <td>0.0</td>\n",
       "      <td>28068.3</td>\n",
       "      <td>28068.3</td>\n",
       "      <td>811102</td>\n",
       "      <td>0</td>\n",
       "      <td>0</td>\n",
       "      <td>1</td>\n",
       "      <td>2</td>\n",
       "      <td>POLYGON ((-136.425 59.8416666666667, -136.4283...</td>\n",
       "    </tr>\n",
       "    <tr>\n",
       "      <th>811103</th>\n",
       "      <td>8060000070</td>\n",
       "      <td>0</td>\n",
       "      <td>8060000070</td>\n",
       "      <td>8060000070</td>\n",
       "      <td>0.0</td>\n",
       "      <td>0.0</td>\n",
       "      <td>4585.4</td>\n",
       "      <td>4585.4</td>\n",
       "      <td>811103</td>\n",
       "      <td>0</td>\n",
       "      <td>1</td>\n",
       "      <td>0</td>\n",
       "      <td>3</td>\n",
       "      <td>(POLYGON ((-139.6430555555555 59.6625000000000...</td>\n",
       "    </tr>\n",
       "    <tr>\n",
       "      <th>811104</th>\n",
       "      <td>8060000290</td>\n",
       "      <td>0</td>\n",
       "      <td>8060000290</td>\n",
       "      <td>8060000290</td>\n",
       "      <td>0.0</td>\n",
       "      <td>0.0</td>\n",
       "      <td>3774.6</td>\n",
       "      <td>3775.0</td>\n",
       "      <td>811104</td>\n",
       "      <td>0</td>\n",
       "      <td>0</td>\n",
       "      <td>1</td>\n",
       "      <td>4</td>\n",
       "      <td>POLYGON ((-139.6791666666666 60.74583333333334...</td>\n",
       "    </tr>\n",
       "    <tr>\n",
       "      <th>811105</th>\n",
       "      <td>8060000300</td>\n",
       "      <td>0</td>\n",
       "      <td>8060000300</td>\n",
       "      <td>8060000300</td>\n",
       "      <td>0.0</td>\n",
       "      <td>0.0</td>\n",
       "      <td>1351.1</td>\n",
       "      <td>1351.1</td>\n",
       "      <td>811105</td>\n",
       "      <td>0</td>\n",
       "      <td>1</td>\n",
       "      <td>0</td>\n",
       "      <td>5</td>\n",
       "      <td>POLYGON ((-139.9791666666667 59.7791666666667,...</td>\n",
       "    </tr>\n",
       "  </tbody>\n",
       "</table>\n",
       "</div>"
      ],
      "text/plain": [
       "           hybas_id  next_down   next_sink    main_bas  dist_sink  dist_main  \\\n",
       "pfaf_id                                                                        \n",
       "811101   8060000010          0  8060000010  8060000010        0.0        0.0   \n",
       "811102   8060000060          0  8060000060  8060000060        0.0        0.0   \n",
       "811103   8060000070          0  8060000070  8060000070        0.0        0.0   \n",
       "811104   8060000290          0  8060000290  8060000290        0.0        0.0   \n",
       "811105   8060000300          0  8060000300  8060000300        0.0        0.0   \n",
       "\n",
       "         sub_area  up_area  pfaf_id  endo  coast  order  sort  \\\n",
       "pfaf_id                                                         \n",
       "811101      928.6    928.6   811101     0      1      0     1   \n",
       "811102    28068.3  28068.3   811102     0      0      1     2   \n",
       "811103     4585.4   4585.4   811103     0      1      0     3   \n",
       "811104     3774.6   3775.0   811104     0      0      1     4   \n",
       "811105     1351.1   1351.1   811105     0      1      0     5   \n",
       "\n",
       "                                                  geometry  \n",
       "pfaf_id                                                     \n",
       "811101   POLYGON ((-137.9333333333333 58.90416666666669...  \n",
       "811102   POLYGON ((-136.425 59.8416666666667, -136.4283...  \n",
       "811103   (POLYGON ((-139.6430555555555 59.6625000000000...  \n",
       "811104   POLYGON ((-139.6791666666666 60.74583333333334...  \n",
       "811105   POLYGON ((-139.9791666666667 59.7791666666667,...  "
      ]
     },
     "execution_count": 12,
     "metadata": {},
     "output_type": "execute_result"
    }
   ],
   "source": [
    "gdf.head()"
   ]
  },
  {
   "cell_type": "markdown",
   "metadata": {},
   "source": [
    "Dissolve polygon in Siberia with pfaf_id 353020"
   ]
  },
  {
   "cell_type": "code",
   "execution_count": 13,
   "metadata": {},
   "outputs": [
    {
     "name": "stderr",
     "output_type": "stream",
     "text": [
      "/opt/anaconda3/envs/python35/lib/python3.5/site-packages/geopandas/geodataframe.py:500: FutureWarning: 'pfaf_id' is both a column name and an index level.\n",
      "Defaulting to column but this will raise an ambiguity error in a future version\n",
      "  aggregated_data = data.groupby(by=by).agg(aggfunc)\n",
      "/opt/anaconda3/envs/python35/lib/python3.5/site-packages/geopandas/geodataframe.py:508: FutureWarning: 'pfaf_id' is both a column name and an index level.\n",
      "Defaulting to column but this will raise an ambiguity error in a future version\n",
      "  g = self.groupby(by=by, group_keys=False)[self.geometry.name].agg(merge_geometries)\n"
     ]
    }
   ],
   "source": [
    "gdf = gdf.dissolve(by=\"pfaf_id\")"
   ]
  },
  {
   "cell_type": "code",
   "execution_count": 14,
   "metadata": {
    "collapsed": true
   },
   "outputs": [],
   "source": [
    "gdf[\"pfaf_id\"] = gdf.index"
   ]
  },
  {
   "cell_type": "code",
   "execution_count": 15,
   "metadata": {},
   "outputs": [
    {
     "name": "stderr",
     "output_type": "stream",
     "text": [
      "/opt/anaconda3/envs/python35/lib/python3.5/site-packages/ipykernel_launcher.py:30: SettingWithCopyWarning: \n",
      "A value is trying to be set on a copy of a slice from a DataFrame.\n",
      "Try using .loc[row_indexer,col_indexer] = value instead\n",
      "\n",
      "See the caveats in the documentation: http://pandas.pydata.org/pandas-docs/stable/indexing.html#indexing-view-versus-copy\n",
      "/opt/anaconda3/envs/python35/lib/python3.5/site-packages/ipykernel_launcher.py:31: SettingWithCopyWarning: \n",
      "A value is trying to be set on a copy of a slice from a DataFrame\n",
      "\n",
      "See the caveats in the documentation: http://pandas.pydata.org/pandas-docs/stable/indexing.html#indexing-view-versus-copy\n"
     ]
    },
    {
     "name": "stdout",
     "output_type": "stream",
     "text": [
      "Create table temppolygon\n",
      "Create table tempmultipolygon\n",
      "DROP TABLE IF EXISTS hybas06_v04\n",
      "ALTER TABLE temppolygon ALTER COLUMN geom type geometry(MultiPolygon, 4326) using ST_Multi(geom);\n",
      "CREATE TABLE hybas06_v04 AS (SELECT * FROM temppolygon UNION SELECT * FROM tempmultipolygon);\n",
      "UPDATE hybas06_v04 SET geom = st_makevalid(geom);\n",
      "DROP TABLE temppolygon,tempmultipolygon\n"
     ]
    }
   ],
   "source": [
    "gdfFromSQL = uploadGDFtoPostGIS(gdf,OUTPUT_TABLE_NAME,False)"
   ]
  },
  {
   "cell_type": "markdown",
   "metadata": {},
   "source": [
    "### Testing"
   ]
  },
  {
   "cell_type": "code",
   "execution_count": 16,
   "metadata": {},
   "outputs": [
    {
     "data": {
      "text/html": [
       "<div>\n",
       "<style scoped>\n",
       "    .dataframe tbody tr th:only-of-type {\n",
       "        vertical-align: middle;\n",
       "    }\n",
       "\n",
       "    .dataframe tbody tr th {\n",
       "        vertical-align: top;\n",
       "    }\n",
       "\n",
       "    .dataframe thead th {\n",
       "        text-align: right;\n",
       "    }\n",
       "</style>\n",
       "<table border=\"1\" class=\"dataframe\">\n",
       "  <thead>\n",
       "    <tr style=\"text-align: right;\">\n",
       "      <th></th>\n",
       "      <th>hybas_id</th>\n",
       "      <th>next_down</th>\n",
       "      <th>next_sink</th>\n",
       "      <th>main_bas</th>\n",
       "      <th>dist_sink</th>\n",
       "      <th>dist_main</th>\n",
       "      <th>sub_area</th>\n",
       "      <th>up_area</th>\n",
       "      <th>endo</th>\n",
       "      <th>coast</th>\n",
       "      <th>order</th>\n",
       "      <th>sort</th>\n",
       "      <th>pfaf_id</th>\n",
       "      <th>geom</th>\n",
       "    </tr>\n",
       "  </thead>\n",
       "  <tbody>\n",
       "    <tr>\n",
       "      <th>0</th>\n",
       "      <td>1060000160</td>\n",
       "      <td>0</td>\n",
       "      <td>1060000160</td>\n",
       "      <td>1060000160</td>\n",
       "      <td>0.0</td>\n",
       "      <td>0.0</td>\n",
       "      <td>16638.1</td>\n",
       "      <td>16638.1</td>\n",
       "      <td>0</td>\n",
       "      <td>1</td>\n",
       "      <td>0</td>\n",
       "      <td>5</td>\n",
       "      <td>111015</td>\n",
       "      <td>(POLYGON ((34.00000000000003 26.62500000000002...</td>\n",
       "    </tr>\n",
       "    <tr>\n",
       "      <th>1</th>\n",
       "      <td>1060001090</td>\n",
       "      <td>0</td>\n",
       "      <td>1060001090</td>\n",
       "      <td>1060001090</td>\n",
       "      <td>0.0</td>\n",
       "      <td>0.0</td>\n",
       "      <td>6566.3</td>\n",
       "      <td>6566.3</td>\n",
       "      <td>0</td>\n",
       "      <td>1</td>\n",
       "      <td>0</td>\n",
       "      <td>9</td>\n",
       "      <td>111019</td>\n",
       "      <td>(POLYGON ((36.24444444444446 23.55833333333337...</td>\n",
       "    </tr>\n",
       "    <tr>\n",
       "      <th>2</th>\n",
       "      <td>1060001370</td>\n",
       "      <td>0</td>\n",
       "      <td>1060001370</td>\n",
       "      <td>1060001370</td>\n",
       "      <td>0.0</td>\n",
       "      <td>0.0</td>\n",
       "      <td>11678.4</td>\n",
       "      <td>11678.5</td>\n",
       "      <td>0</td>\n",
       "      <td>0</td>\n",
       "      <td>1</td>\n",
       "      <td>10</td>\n",
       "      <td>111020</td>\n",
       "      <td>(POLYGON ((35.14166666666669 22.58333333333336...</td>\n",
       "    </tr>\n",
       "    <tr>\n",
       "      <th>3</th>\n",
       "      <td>1060001510</td>\n",
       "      <td>0</td>\n",
       "      <td>1060001510</td>\n",
       "      <td>1060001510</td>\n",
       "      <td>0.0</td>\n",
       "      <td>0.0</td>\n",
       "      <td>13728.7</td>\n",
       "      <td>42400.1</td>\n",
       "      <td>0</td>\n",
       "      <td>0</td>\n",
       "      <td>1</td>\n",
       "      <td>12</td>\n",
       "      <td>111041</td>\n",
       "      <td>(POLYGON ((36.52916666666668 21.25000000000003...</td>\n",
       "    </tr>\n",
       "    <tr>\n",
       "      <th>4</th>\n",
       "      <td>1060001520</td>\n",
       "      <td>0</td>\n",
       "      <td>1060001520</td>\n",
       "      <td>1060001520</td>\n",
       "      <td>0.0</td>\n",
       "      <td>0.0</td>\n",
       "      <td>16198.5</td>\n",
       "      <td>16198.5</td>\n",
       "      <td>0</td>\n",
       "      <td>1</td>\n",
       "      <td>0</td>\n",
       "      <td>21</td>\n",
       "      <td>111050</td>\n",
       "      <td>(POLYGON ((37.19583333333335 20.00416666666668...</td>\n",
       "    </tr>\n",
       "  </tbody>\n",
       "</table>\n",
       "</div>"
      ],
      "text/plain": [
       "     hybas_id  next_down   next_sink    main_bas  dist_sink  dist_main  \\\n",
       "0  1060000160          0  1060000160  1060000160        0.0        0.0   \n",
       "1  1060001090          0  1060001090  1060001090        0.0        0.0   \n",
       "2  1060001370          0  1060001370  1060001370        0.0        0.0   \n",
       "3  1060001510          0  1060001510  1060001510        0.0        0.0   \n",
       "4  1060001520          0  1060001520  1060001520        0.0        0.0   \n",
       "\n",
       "   sub_area  up_area  endo  coast  order  sort  pfaf_id  \\\n",
       "0   16638.1  16638.1     0      1      0     5   111015   \n",
       "1    6566.3   6566.3     0      1      0     9   111019   \n",
       "2   11678.4  11678.5     0      0      1    10   111020   \n",
       "3   13728.7  42400.1     0      0      1    12   111041   \n",
       "4   16198.5  16198.5     0      1      0    21   111050   \n",
       "\n",
       "                                                geom  \n",
       "0  (POLYGON ((34.00000000000003 26.62500000000002...  \n",
       "1  (POLYGON ((36.24444444444446 23.55833333333337...  \n",
       "2  (POLYGON ((35.14166666666669 22.58333333333336...  \n",
       "3  (POLYGON ((36.52916666666668 21.25000000000003...  \n",
       "4  (POLYGON ((37.19583333333335 20.00416666666668...  "
      ]
     },
     "execution_count": 16,
     "metadata": {},
     "output_type": "execute_result"
    }
   ],
   "source": [
    "gdfFromSQL.head()"
   ]
  },
  {
   "cell_type": "code",
   "execution_count": 17,
   "metadata": {},
   "outputs": [
    {
     "data": {
      "text/plain": [
       "(16396, 14)"
      ]
     },
     "execution_count": 17,
     "metadata": {},
     "output_type": "execute_result"
    }
   ],
   "source": [
    "gdfFromSQL.shape"
   ]
  },
  {
   "cell_type": "code",
   "execution_count": 18,
   "metadata": {
    "collapsed": true
   },
   "outputs": [],
   "source": [
    "connection.close()"
   ]
  },
  {
   "cell_type": "code",
   "execution_count": 19,
   "metadata": {},
   "outputs": [
    {
     "name": "stdout",
     "output_type": "stream",
     "text": [
      "0:05:42.930054\n"
     ]
    }
   ],
   "source": [
    "end = datetime.datetime.now()\n",
    "elapsed = end - start\n",
    "print(elapsed)"
   ]
  },
  {
   "cell_type": "markdown",
   "metadata": {},
   "source": [
    "Previous Runs:  \n",
    "0:05:42.930054\n"
   ]
  },
  {
   "cell_type": "code",
   "execution_count": null,
   "metadata": {
    "collapsed": true
   },
   "outputs": [],
   "source": []
  }
 ],
 "metadata": {
  "kernelspec": {
   "display_name": "Python 35",
   "language": "python",
   "name": "python35"
  },
  "language_info": {
   "codemirror_mode": {
    "name": "ipython",
    "version": 3
   },
   "file_extension": ".py",
   "mimetype": "text/x-python",
   "name": "python",
   "nbconvert_exporter": "python",
   "pygments_lexer": "ipython3",
   "version": "3.5.4"
  }
 },
 "nbformat": 4,
 "nbformat_minor": 2
}
