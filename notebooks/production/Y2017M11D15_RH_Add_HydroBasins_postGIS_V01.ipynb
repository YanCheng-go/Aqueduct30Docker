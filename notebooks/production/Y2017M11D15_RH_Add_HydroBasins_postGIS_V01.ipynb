{
 "cells": [
  {
   "cell_type": "markdown",
   "metadata": {},
   "source": [
    "### Add HydroBasin data to Postgis Database server\n",
    "\n",
    "* Purpose of script: Ingest Data from HydroBasins last step into a postGIS database\n",
    "* Author: Rutger Hofste\n",
    "* Kernel used: python35\n",
    "* Date created: 20171110\n",
    "\n",
    "The script requires a file called .password to be stored in the current working directory with the password to the database.\n",
    "\n",
    "Please note that columns with uppercase should be referred to by using double quotes whereas strings need single quotes. Please note that the script will consolidate two polygons in Russia that spans two hemispheres into one. "
   ]
  },
  {
   "cell_type": "code",
   "execution_count": 1,
   "metadata": {},
   "outputs": [
    {
     "name": "stdout",
     "output_type": "stream",
     "text": [
      "Y2017M11D17 UTC 11:16\n"
     ]
    },
    {
     "data": {
      "text/plain": [
       "'3.5.4 |Continuum Analytics, Inc.| (default, Aug 14 2017, 13:26:58) \\n[GCC 4.4.7 20120313 (Red Hat 4.4.7-1)]'"
      ]
     },
     "execution_count": 1,
     "metadata": {},
     "output_type": "execute_result"
    }
   ],
   "source": [
    "import time, datetime, sys\n",
    "dateString = time.strftime(\"Y%YM%mD%d\")\n",
    "timeString = time.strftime(\"UTC %H:%M\")\n",
    "start = datetime.datetime.now()\n",
    "print(dateString,timeString)\n",
    "sys.version"
   ]
  },
  {
   "cell_type": "code",
   "execution_count": 2,
   "metadata": {
    "collapsed": true
   },
   "outputs": [],
   "source": [
    "SCRIPT_NAME = \"Y2017M11D15_RH_Add_HydroBasins_postGIS_V01\"\n",
    "\n",
    "INPUT_VERSION = 3\n",
    "\n",
    "EC2_INPUT_PATH = \"/volumes/data/%s/input\" %(SCRIPT_NAME)\n",
    "EC2_OUTPUT_PATH = \"/volumes/data/%s/output\" %(SCRIPT_NAME)\n",
    "\n",
    "S3_INPUT_PATH = \"s3://wri-projects/Aqueduct30/processData/Y2017M08D29_RH_Merge_FAONames_Upstream_V01/output/\"\n",
    "\n",
    "INPUT_FILENAME = \"hybas_lev06_v1c_merged_fiona_upstream_downstream_FAO_V%0.2d\" %(INPUT_VERSION)\n",
    "\n",
    "# Database settings\n",
    "DATABASE_IDENTIFIER = \"aqueduct30v01\"\n",
    "DATABASE_NAME = \"database01\"\n",
    "TABLE_NAME = \"hybasvalid02\""
   ]
  },
  {
   "cell_type": "code",
   "execution_count": 3,
   "metadata": {
    "collapsed": true
   },
   "outputs": [],
   "source": [
    "import os\n",
    "import boto3\n",
    "import botocore\n",
    "from sqlalchemy import *\n",
    "import geopandas as gpd\n",
    "import pandas as pd\n",
    "from shapely.geometry.multipolygon import MultiPolygon\n",
    "from geoalchemy2 import Geometry, WKTElement"
   ]
  },
  {
   "cell_type": "code",
   "execution_count": 4,
   "metadata": {
    "collapsed": true
   },
   "outputs": [],
   "source": [
    "%matplotlib inline"
   ]
  },
  {
   "cell_type": "code",
   "execution_count": 5,
   "metadata": {
    "collapsed": true
   },
   "outputs": [],
   "source": [
    "rds = boto3.client('rds')"
   ]
  },
  {
   "cell_type": "code",
   "execution_count": 6,
   "metadata": {
    "collapsed": true
   },
   "outputs": [],
   "source": [
    "F = open(\".password\",\"r\")\n",
    "password = F.read().splitlines()[0]\n",
    "F.close()"
   ]
  },
  {
   "cell_type": "code",
   "execution_count": 7,
   "metadata": {
    "collapsed": true
   },
   "outputs": [],
   "source": [
    "response = rds.describe_db_instances(DBInstanceIdentifier=\"%s\"%(DATABASE_IDENTIFIER))"
   ]
  },
  {
   "cell_type": "code",
   "execution_count": 8,
   "metadata": {
    "collapsed": true
   },
   "outputs": [],
   "source": [
    "status = response[\"DBInstances\"][0][\"DBInstanceStatus\"]"
   ]
  },
  {
   "cell_type": "code",
   "execution_count": 9,
   "metadata": {},
   "outputs": [
    {
     "name": "stdout",
     "output_type": "stream",
     "text": [
      "available\n"
     ]
    }
   ],
   "source": [
    "print(status)"
   ]
  },
  {
   "cell_type": "code",
   "execution_count": 10,
   "metadata": {
    "collapsed": true
   },
   "outputs": [],
   "source": [
    "endpoint = response[\"DBInstances\"][0][\"Endpoint\"][\"Address\"]"
   ]
  },
  {
   "cell_type": "code",
   "execution_count": 11,
   "metadata": {},
   "outputs": [
    {
     "name": "stdout",
     "output_type": "stream",
     "text": [
      "aqueduct30v01.cgpnumwmfcqc.eu-central-1.rds.amazonaws.com\n"
     ]
    }
   ],
   "source": [
    "print(endpoint)"
   ]
  },
  {
   "cell_type": "code",
   "execution_count": 12,
   "metadata": {
    "collapsed": true
   },
   "outputs": [],
   "source": [
    "engine = create_engine('postgresql://rutgerhofste:%s@%s:5432/%s' %(password,endpoint,DATABASE_NAME))"
   ]
  },
  {
   "cell_type": "code",
   "execution_count": 13,
   "metadata": {
    "collapsed": true
   },
   "outputs": [],
   "source": [
    "connection = engine.connect()"
   ]
  },
  {
   "cell_type": "code",
   "execution_count": 14,
   "metadata": {
    "collapsed": true
   },
   "outputs": [],
   "source": [
    "!rm -r {EC2_INPUT_PATH}\n",
    "!rm -r {EC2_OUTPUT_PATH}\n",
    "\n",
    "!mkdir -p {EC2_INPUT_PATH}\n",
    "!mkdir -p {EC2_OUTPUT_PATH}"
   ]
  },
  {
   "cell_type": "code",
   "execution_count": 15,
   "metadata": {
    "collapsed": true
   },
   "outputs": [],
   "source": [
    "!aws s3 cp {S3_INPUT_PATH} {EC2_INPUT_PATH} --recursive --quiet"
   ]
  },
  {
   "cell_type": "code",
   "execution_count": 16,
   "metadata": {
    "collapsed": true
   },
   "outputs": [],
   "source": [
    "gdf = gpd.read_file(os.path.join(EC2_INPUT_PATH,INPUT_FILENAME+\".shp\"))"
   ]
  },
  {
   "cell_type": "code",
   "execution_count": 17,
   "metadata": {
    "collapsed": true
   },
   "outputs": [],
   "source": [
    "gdf.columns = map(str.lower, gdf.columns)"
   ]
  },
  {
   "cell_type": "code",
   "execution_count": 18,
   "metadata": {
    "collapsed": true
   },
   "outputs": [],
   "source": [
    "gdf = gdf.set_index(\"pfaf_id\", drop=False)"
   ]
  },
  {
   "cell_type": "markdown",
   "metadata": {},
   "source": [
    "for PostgreSQL its better to have non-duplicate tables whereas for Pandas having duplicate column names is better. Renaming.  "
   ]
  },
  {
   "cell_type": "code",
   "execution_count": 19,
   "metadata": {
    "collapsed": true
   },
   "outputs": [],
   "source": [
    "gdf.columns = ['pfaf_id2', 'geometry']"
   ]
  },
  {
   "cell_type": "code",
   "execution_count": 20,
   "metadata": {},
   "outputs": [
    {
     "data": {
      "text/html": [
       "<div>\n",
       "<style>\n",
       "    .dataframe thead tr:only-child th {\n",
       "        text-align: right;\n",
       "    }\n",
       "\n",
       "    .dataframe thead th {\n",
       "        text-align: left;\n",
       "    }\n",
       "\n",
       "    .dataframe tbody tr th {\n",
       "        vertical-align: top;\n",
       "    }\n",
       "</style>\n",
       "<table border=\"1\" class=\"dataframe\">\n",
       "  <thead>\n",
       "    <tr style=\"text-align: right;\">\n",
       "      <th></th>\n",
       "      <th>pfaf_id2</th>\n",
       "      <th>geometry</th>\n",
       "    </tr>\n",
       "    <tr>\n",
       "      <th>pfaf_id</th>\n",
       "      <th></th>\n",
       "      <th></th>\n",
       "    </tr>\n",
       "  </thead>\n",
       "  <tbody>\n",
       "    <tr>\n",
       "      <th>611001</th>\n",
       "      <td>611001</td>\n",
       "      <td>(POLYGON ((-78.99722222222219 9.45416666666669...</td>\n",
       "    </tr>\n",
       "    <tr>\n",
       "      <th>611002</th>\n",
       "      <td>611002</td>\n",
       "      <td>POLYGON ((-77.00416666666663 5.770833333333362...</td>\n",
       "    </tr>\n",
       "    <tr>\n",
       "      <th>611003</th>\n",
       "      <td>611003</td>\n",
       "      <td>POLYGON ((-76.88749999999997 7.679166666666696...</td>\n",
       "    </tr>\n",
       "    <tr>\n",
       "      <th>611004</th>\n",
       "      <td>611004</td>\n",
       "      <td>POLYGON ((-76.51249999999996 7.587500000000028...</td>\n",
       "    </tr>\n",
       "    <tr>\n",
       "      <th>611005</th>\n",
       "      <td>611005</td>\n",
       "      <td>(POLYGON ((-76.17638888888887 9.37500000000002...</td>\n",
       "    </tr>\n",
       "  </tbody>\n",
       "</table>\n",
       "</div>"
      ],
      "text/plain": [
       "         pfaf_id2                                           geometry\n",
       "pfaf_id                                                             \n",
       "611001     611001  (POLYGON ((-78.99722222222219 9.45416666666669...\n",
       "611002     611002  POLYGON ((-77.00416666666663 5.770833333333362...\n",
       "611003     611003  POLYGON ((-76.88749999999997 7.679166666666696...\n",
       "611004     611004  POLYGON ((-76.51249999999996 7.587500000000028...\n",
       "611005     611005  (POLYGON ((-76.17638888888887 9.37500000000002..."
      ]
     },
     "execution_count": 20,
     "metadata": {},
     "output_type": "execute_result"
    }
   ],
   "source": [
    "gdf.head()"
   ]
  },
  {
   "cell_type": "markdown",
   "metadata": {},
   "source": [
    "Dissolve polygon in Siberia with pfaf_id 353020"
   ]
  },
  {
   "cell_type": "code",
   "execution_count": 21,
   "metadata": {
    "collapsed": true
   },
   "outputs": [],
   "source": [
    "gdf = gdf.dissolve(by=gdf.index)"
   ]
  },
  {
   "cell_type": "code",
   "execution_count": 22,
   "metadata": {
    "collapsed": true
   },
   "outputs": [],
   "source": [
    "gdf2 = gdf.copy()\n",
    "gdf2[\"type\"] = gdf2.geometry.geom_type\n",
    "gdfPolygon = gdf2.loc[gdf2[\"type\"]==\"Polygon\"]\n",
    "gdfMultiPolygon = gdf2.loc[gdf2[\"type\"]==\"MultiPolygon\"]\n",
    "gdfPolygon2 = gdfPolygon.copy()\n",
    "gdfMultiPolygon2 = gdfMultiPolygon.copy()"
   ]
  },
  {
   "cell_type": "code",
   "execution_count": 23,
   "metadata": {
    "collapsed": true
   },
   "outputs": [],
   "source": [
    "gdfPolygon2['geom'] = gdfPolygon['geometry'].apply(lambda x: WKTElement(x.wkt, srid=4326))\n",
    "gdfMultiPolygon2['geom'] = gdfMultiPolygon['geometry'].apply(lambda x: WKTElement(x.wkt, srid=4326))"
   ]
  },
  {
   "cell_type": "code",
   "execution_count": 24,
   "metadata": {
    "collapsed": true
   },
   "outputs": [],
   "source": [
    "gdfPolygon2.drop(\"geometry\",1, inplace=True)\n",
    "gdfMultiPolygon2.drop(\"geometry\",1, inplace=True)"
   ]
  },
  {
   "cell_type": "code",
   "execution_count": 25,
   "metadata": {
    "collapsed": true
   },
   "outputs": [],
   "source": [
    "gdfPolygon2.drop(\"type\",1, inplace=True)\n",
    "gdfMultiPolygon2.drop(\"type\",1, inplace=True)"
   ]
  },
  {
   "cell_type": "code",
   "execution_count": 26,
   "metadata": {},
   "outputs": [
    {
     "data": {
      "text/html": [
       "<div>\n",
       "<style>\n",
       "    .dataframe thead tr:only-child th {\n",
       "        text-align: right;\n",
       "    }\n",
       "\n",
       "    .dataframe thead th {\n",
       "        text-align: left;\n",
       "    }\n",
       "\n",
       "    .dataframe tbody tr th {\n",
       "        vertical-align: top;\n",
       "    }\n",
       "</style>\n",
       "<table border=\"1\" class=\"dataframe\">\n",
       "  <thead>\n",
       "    <tr style=\"text-align: right;\">\n",
       "      <th></th>\n",
       "      <th>pfaf_id2</th>\n",
       "      <th>geom</th>\n",
       "    </tr>\n",
       "    <tr>\n",
       "      <th>pfaf_id</th>\n",
       "      <th></th>\n",
       "      <th></th>\n",
       "    </tr>\n",
       "  </thead>\n",
       "  <tbody>\n",
       "    <tr>\n",
       "      <th>111011</th>\n",
       "      <td>111011</td>\n",
       "      <td>POLYGON ((32.36666666666668 29.6791666666667, ...</td>\n",
       "    </tr>\n",
       "    <tr>\n",
       "      <th>111012</th>\n",
       "      <td>111012</td>\n",
       "      <td>POLYGON ((31.73333333333336 29.88333333333337,...</td>\n",
       "    </tr>\n",
       "    <tr>\n",
       "      <th>111013</th>\n",
       "      <td>111013</td>\n",
       "      <td>POLYGON ((32.38750000000002 29.38333333333336,...</td>\n",
       "    </tr>\n",
       "    <tr>\n",
       "      <th>111014</th>\n",
       "      <td>111014</td>\n",
       "      <td>POLYGON ((31.97500000000002 29.1666666666667, ...</td>\n",
       "    </tr>\n",
       "    <tr>\n",
       "      <th>111016</th>\n",
       "      <td>111016</td>\n",
       "      <td>POLYGON ((33.66250000000003 26.21250000000002,...</td>\n",
       "    </tr>\n",
       "  </tbody>\n",
       "</table>\n",
       "</div>"
      ],
      "text/plain": [
       "         pfaf_id2                                               geom\n",
       "pfaf_id                                                             \n",
       "111011     111011  POLYGON ((32.36666666666668 29.6791666666667, ...\n",
       "111012     111012  POLYGON ((31.73333333333336 29.88333333333337,...\n",
       "111013     111013  POLYGON ((32.38750000000002 29.38333333333336,...\n",
       "111014     111014  POLYGON ((31.97500000000002 29.1666666666667, ...\n",
       "111016     111016  POLYGON ((33.66250000000003 26.21250000000002,..."
      ]
     },
     "execution_count": 26,
     "metadata": {},
     "output_type": "execute_result"
    }
   ],
   "source": [
    "gdfPolygon2.head()"
   ]
  },
  {
   "cell_type": "code",
   "execution_count": 27,
   "metadata": {
    "collapsed": true
   },
   "outputs": [],
   "source": [
    "tableNamePolygon = TABLE_NAME+\"polygon\"\n",
    "tableNameMultiPolygon = TABLE_NAME+\"multipolygon\"\n",
    "tableNameGeometries = TABLE_NAME+\"geometries\"\n",
    "tableNameAttributes = TABLE_NAME+\"attributes\"\n",
    "tableNameOut = TABLE_NAME"
   ]
  },
  {
   "cell_type": "code",
   "execution_count": 28,
   "metadata": {
    "collapsed": true
   },
   "outputs": [],
   "source": [
    "gdfPolygon2.to_sql(tableNamePolygon, engine, if_exists='replace', index=False, \n",
    "                         dtype={'geom': Geometry('POLYGON', srid= 4326)})"
   ]
  },
  {
   "cell_type": "code",
   "execution_count": 29,
   "metadata": {
    "collapsed": true
   },
   "outputs": [],
   "source": [
    "gdfMultiPolygon2.to_sql(tableNameMultiPolygon, engine, if_exists='replace', index=False, \n",
    "                         dtype={'geom': Geometry('MULTIPOLYGON', srid= 4326)})"
   ]
  },
  {
   "cell_type": "code",
   "execution_count": 30,
   "metadata": {
    "collapsed": true
   },
   "outputs": [],
   "source": [
    "df = pd.read_csv(os.path.join(EC2_INPUT_PATH,INPUT_FILENAME+\".csv\"))"
   ]
  },
  {
   "cell_type": "code",
   "execution_count": 31,
   "metadata": {
    "collapsed": true
   },
   "outputs": [],
   "source": [
    "df.columns = map(str.lower, df.columns)"
   ]
  },
  {
   "cell_type": "code",
   "execution_count": 32,
   "metadata": {
    "collapsed": true
   },
   "outputs": [],
   "source": [
    "df = df.set_index(\"pfaf_id\", drop=False)"
   ]
  },
  {
   "cell_type": "code",
   "execution_count": 33,
   "metadata": {},
   "outputs": [
    {
     "data": {
      "text/html": [
       "<div>\n",
       "<style>\n",
       "    .dataframe thead tr:only-child th {\n",
       "        text-align: right;\n",
       "    }\n",
       "\n",
       "    .dataframe thead th {\n",
       "        text-align: left;\n",
       "    }\n",
       "\n",
       "    .dataframe tbody tr th {\n",
       "        vertical-align: top;\n",
       "    }\n",
       "</style>\n",
       "<table border=\"1\" class=\"dataframe\">\n",
       "  <thead>\n",
       "    <tr style=\"text-align: right;\">\n",
       "      <th></th>\n",
       "      <th>pfaf_id</th>\n",
       "      <th>hybas_id2</th>\n",
       "      <th>hybas_id</th>\n",
       "      <th>next_down</th>\n",
       "      <th>next_sink</th>\n",
       "      <th>main_bas</th>\n",
       "      <th>dist_sink</th>\n",
       "      <th>dist_main</th>\n",
       "      <th>sub_area</th>\n",
       "      <th>up_area</th>\n",
       "      <th>...</th>\n",
       "      <th>upstream_hybas_ids</th>\n",
       "      <th>upstream_pfaf_ids</th>\n",
       "      <th>downstream_hybas_ids</th>\n",
       "      <th>downstream_pfaf_ids</th>\n",
       "      <th>next_sink_pfaf</th>\n",
       "      <th>basin_hybas_ids</th>\n",
       "      <th>basin_pfaf_ids</th>\n",
       "      <th>sub_name</th>\n",
       "      <th>maj_name</th>\n",
       "      <th>faoid_copy</th>\n",
       "    </tr>\n",
       "    <tr>\n",
       "      <th>pfaf_id</th>\n",
       "      <th></th>\n",
       "      <th></th>\n",
       "      <th></th>\n",
       "      <th></th>\n",
       "      <th></th>\n",
       "      <th></th>\n",
       "      <th></th>\n",
       "      <th></th>\n",
       "      <th></th>\n",
       "      <th></th>\n",
       "      <th></th>\n",
       "      <th></th>\n",
       "      <th></th>\n",
       "      <th></th>\n",
       "      <th></th>\n",
       "      <th></th>\n",
       "      <th></th>\n",
       "      <th></th>\n",
       "      <th></th>\n",
       "      <th></th>\n",
       "      <th></th>\n",
       "    </tr>\n",
       "  </thead>\n",
       "  <tbody>\n",
       "    <tr>\n",
       "      <th>611001</th>\n",
       "      <td>611001</td>\n",
       "      <td>6060000010</td>\n",
       "      <td>6060000010</td>\n",
       "      <td>0</td>\n",
       "      <td>6060000010</td>\n",
       "      <td>6060000010</td>\n",
       "      <td>0.0</td>\n",
       "      <td>0.0</td>\n",
       "      <td>4317.4</td>\n",
       "      <td>4317.4</td>\n",
       "      <td>...</td>\n",
       "      <td>[]</td>\n",
       "      <td>[]</td>\n",
       "      <td>[]</td>\n",
       "      <td>[]</td>\n",
       "      <td>611001.0</td>\n",
       "      <td>[6060000010]</td>\n",
       "      <td>[611001]</td>\n",
       "      <td>['Archipielago de San Blas Coast', 'Altrato 1']</td>\n",
       "      <td>['Caribbean Coast', 'Caribbean Coast']</td>\n",
       "      <td>['MAJ_BAS_3001_SUB_BASE_0001002', 'MAJ_BAS_300...</td>\n",
       "    </tr>\n",
       "    <tr>\n",
       "      <th>611002</th>\n",
       "      <td>611002</td>\n",
       "      <td>6060000200</td>\n",
       "      <td>6060000200</td>\n",
       "      <td>0</td>\n",
       "      <td>6060000200</td>\n",
       "      <td>6060000200</td>\n",
       "      <td>0.0</td>\n",
       "      <td>0.0</td>\n",
       "      <td>35995.5</td>\n",
       "      <td>35996.7</td>\n",
       "      <td>...</td>\n",
       "      <td>[]</td>\n",
       "      <td>[]</td>\n",
       "      <td>[]</td>\n",
       "      <td>[]</td>\n",
       "      <td>611002.0</td>\n",
       "      <td>[6060000200]</td>\n",
       "      <td>[611002]</td>\n",
       "      <td>['Altrato 1', 'Sucio', 'Altrato 2']</td>\n",
       "      <td>['Caribbean Coast', 'Caribbean Coast', 'Caribb...</td>\n",
       "      <td>['MAJ_BAS_3001_SUB_BASE_0001003', 'MAJ_BAS_300...</td>\n",
       "    </tr>\n",
       "    <tr>\n",
       "      <th>611003</th>\n",
       "      <td>611003</td>\n",
       "      <td>6060000210</td>\n",
       "      <td>6060000210</td>\n",
       "      <td>0</td>\n",
       "      <td>6060000210</td>\n",
       "      <td>6060000210</td>\n",
       "      <td>0.0</td>\n",
       "      <td>0.0</td>\n",
       "      <td>443.9</td>\n",
       "      <td>443.9</td>\n",
       "      <td>...</td>\n",
       "      <td>[]</td>\n",
       "      <td>[]</td>\n",
       "      <td>[]</td>\n",
       "      <td>[]</td>\n",
       "      <td>611003.0</td>\n",
       "      <td>[6060000210]</td>\n",
       "      <td>[611003]</td>\n",
       "      <td>['Altrato 1', 'Golfo del Darien Coast']</td>\n",
       "      <td>['Caribbean Coast', 'Caribbean Coast']</td>\n",
       "      <td>['MAJ_BAS_3001_SUB_BASE_0001003', 'MAJ_BAS_300...</td>\n",
       "    </tr>\n",
       "    <tr>\n",
       "      <th>611004</th>\n",
       "      <td>611004</td>\n",
       "      <td>6060000240</td>\n",
       "      <td>6060000240</td>\n",
       "      <td>0</td>\n",
       "      <td>6060000240</td>\n",
       "      <td>6060000240</td>\n",
       "      <td>0.0</td>\n",
       "      <td>0.0</td>\n",
       "      <td>2186.3</td>\n",
       "      <td>2186.3</td>\n",
       "      <td>...</td>\n",
       "      <td>[]</td>\n",
       "      <td>[]</td>\n",
       "      <td>[]</td>\n",
       "      <td>[]</td>\n",
       "      <td>611004.0</td>\n",
       "      <td>[6060000240]</td>\n",
       "      <td>[611004]</td>\n",
       "      <td>['Golfo del Darien Coast']</td>\n",
       "      <td>['Caribbean Coast']</td>\n",
       "      <td>['MAJ_BAS_3001_SUB_BASE_0001006']</td>\n",
       "    </tr>\n",
       "    <tr>\n",
       "      <th>611005</th>\n",
       "      <td>611005</td>\n",
       "      <td>6060000250</td>\n",
       "      <td>6060000250</td>\n",
       "      <td>0</td>\n",
       "      <td>6060000250</td>\n",
       "      <td>6060000250</td>\n",
       "      <td>0.0</td>\n",
       "      <td>0.0</td>\n",
       "      <td>6533.8</td>\n",
       "      <td>6533.8</td>\n",
       "      <td>...</td>\n",
       "      <td>[]</td>\n",
       "      <td>[]</td>\n",
       "      <td>[]</td>\n",
       "      <td>[]</td>\n",
       "      <td>611005.0</td>\n",
       "      <td>[6060000250]</td>\n",
       "      <td>[611005]</td>\n",
       "      <td>['Golfo del Darien Coast', 'Sinu']</td>\n",
       "      <td>['Caribbean Coast', 'Caribbean Coast']</td>\n",
       "      <td>['MAJ_BAS_3001_SUB_BASE_0001006', 'MAJ_BAS_300...</td>\n",
       "    </tr>\n",
       "  </tbody>\n",
       "</table>\n",
       "<p>5 rows × 25 columns</p>\n",
       "</div>"
      ],
      "text/plain": [
       "         pfaf_id   hybas_id2    hybas_id  next_down   next_sink    main_bas  \\\n",
       "pfaf_id                                                                       \n",
       "611001    611001  6060000010  6060000010          0  6060000010  6060000010   \n",
       "611002    611002  6060000200  6060000200          0  6060000200  6060000200   \n",
       "611003    611003  6060000210  6060000210          0  6060000210  6060000210   \n",
       "611004    611004  6060000240  6060000240          0  6060000240  6060000240   \n",
       "611005    611005  6060000250  6060000250          0  6060000250  6060000250   \n",
       "\n",
       "         dist_sink  dist_main  sub_area  up_area  \\\n",
       "pfaf_id                                            \n",
       "611001         0.0        0.0    4317.4   4317.4   \n",
       "611002         0.0        0.0   35995.5  35996.7   \n",
       "611003         0.0        0.0     443.9    443.9   \n",
       "611004         0.0        0.0    2186.3   2186.3   \n",
       "611005         0.0        0.0    6533.8   6533.8   \n",
       "\n",
       "                               ...                          \\\n",
       "pfaf_id                        ...                           \n",
       "611001                         ...                           \n",
       "611002                         ...                           \n",
       "611003                         ...                           \n",
       "611004                         ...                           \n",
       "611005                         ...                           \n",
       "\n",
       "         upstream_hybas_ids  upstream_pfaf_ids  downstream_hybas_ids  \\\n",
       "pfaf_id                                                                \n",
       "611001                   []                 []                    []   \n",
       "611002                   []                 []                    []   \n",
       "611003                   []                 []                    []   \n",
       "611004                   []                 []                    []   \n",
       "611005                   []                 []                    []   \n",
       "\n",
       "         downstream_pfaf_ids  next_sink_pfaf basin_hybas_ids basin_pfaf_ids  \\\n",
       "pfaf_id                                                                       \n",
       "611001                    []        611001.0    [6060000010]       [611001]   \n",
       "611002                    []        611002.0    [6060000200]       [611002]   \n",
       "611003                    []        611003.0    [6060000210]       [611003]   \n",
       "611004                    []        611004.0    [6060000240]       [611004]   \n",
       "611005                    []        611005.0    [6060000250]       [611005]   \n",
       "\n",
       "                                                sub_name  \\\n",
       "pfaf_id                                                    \n",
       "611001   ['Archipielago de San Blas Coast', 'Altrato 1']   \n",
       "611002               ['Altrato 1', 'Sucio', 'Altrato 2']   \n",
       "611003           ['Altrato 1', 'Golfo del Darien Coast']   \n",
       "611004                        ['Golfo del Darien Coast']   \n",
       "611005                ['Golfo del Darien Coast', 'Sinu']   \n",
       "\n",
       "                                                  maj_name  \\\n",
       "pfaf_id                                                      \n",
       "611001              ['Caribbean Coast', 'Caribbean Coast']   \n",
       "611002   ['Caribbean Coast', 'Caribbean Coast', 'Caribb...   \n",
       "611003              ['Caribbean Coast', 'Caribbean Coast']   \n",
       "611004                                 ['Caribbean Coast']   \n",
       "611005              ['Caribbean Coast', 'Caribbean Coast']   \n",
       "\n",
       "                                                faoid_copy  \n",
       "pfaf_id                                                     \n",
       "611001   ['MAJ_BAS_3001_SUB_BASE_0001002', 'MAJ_BAS_300...  \n",
       "611002   ['MAJ_BAS_3001_SUB_BASE_0001003', 'MAJ_BAS_300...  \n",
       "611003   ['MAJ_BAS_3001_SUB_BASE_0001003', 'MAJ_BAS_300...  \n",
       "611004                   ['MAJ_BAS_3001_SUB_BASE_0001006']  \n",
       "611005   ['MAJ_BAS_3001_SUB_BASE_0001006', 'MAJ_BAS_300...  \n",
       "\n",
       "[5 rows x 25 columns]"
      ]
     },
     "execution_count": 33,
     "metadata": {},
     "output_type": "execute_result"
    }
   ],
   "source": [
    "df.head()"
   ]
  },
  {
   "cell_type": "code",
   "execution_count": 34,
   "metadata": {},
   "outputs": [
    {
     "data": {
      "text/plain": [
       "(16397, 25)"
      ]
     },
     "execution_count": 34,
     "metadata": {},
     "output_type": "execute_result"
    }
   ],
   "source": [
    "df.shape"
   ]
  },
  {
   "cell_type": "markdown",
   "metadata": {},
   "source": [
    "Dissolve polygon in Siberia with pfaf_id 353020"
   ]
  },
  {
   "cell_type": "code",
   "execution_count": 35,
   "metadata": {},
   "outputs": [],
   "source": [
    "df.drop_duplicates(subset=\"pfaf_id\",keep='first', inplace=True)"
   ]
  },
  {
   "cell_type": "code",
   "execution_count": 36,
   "metadata": {},
   "outputs": [
    {
     "data": {
      "text/plain": [
       "(16396, 25)"
      ]
     },
     "execution_count": 36,
     "metadata": {},
     "output_type": "execute_result"
    }
   ],
   "source": [
    "df.shape"
   ]
  },
  {
   "cell_type": "code",
   "execution_count": 37,
   "metadata": {
    "collapsed": true
   },
   "outputs": [],
   "source": [
    "df.to_sql(tableNameAttributes,engine,if_exists='replace', index=False)"
   ]
  },
  {
   "cell_type": "markdown",
   "metadata": {},
   "source": [
    "### Outer Join\n",
    "\n",
    "We now have three tables: Polygons, Multipolygons and Attributes. We will perform some operations and perform an outer join.   \n",
    "Convert polygons to multipolygon and make valid"
   ]
  },
  {
   "cell_type": "code",
   "execution_count": 38,
   "metadata": {
    "collapsed": true
   },
   "outputs": [],
   "source": [
    "sql = \"ALTER TABLE %s ALTER COLUMN geom type geometry(MultiPolygon, 4326) using ST_Multi(geom);\" %(tableNamePolygon)\n",
    "result = connection.execute(sql)"
   ]
  },
  {
   "cell_type": "code",
   "execution_count": 39,
   "metadata": {
    "collapsed": true
   },
   "outputs": [],
   "source": [
    "sql = \"CREATE TABLE %s AS (SELECT * FROM %s UNION SELECT * FROM %s);\" %(tableNameGeometries, tableNamePolygon,tableNameMultiPolygon)\n",
    "result = connection.execute(sql)"
   ]
  },
  {
   "cell_type": "code",
   "execution_count": 40,
   "metadata": {
    "collapsed": true
   },
   "outputs": [],
   "source": [
    "sql = \"update %s set geom = st_makevalid(geom);\" %(tableNameGeometries)\n",
    "result = connection.execute(sql)"
   ]
  },
  {
   "cell_type": "code",
   "execution_count": 41,
   "metadata": {},
   "outputs": [],
   "source": [
    "sql = \"CREATE TABLE %s AS SELECT * FROM %s l LEFT JOIN %s r ON l.pfaf_id2 = r.pfaf_id;\" %(tableNameOut,tableNameGeometries,tableNameAttributes)\n",
    "result = connection.execute(sql)"
   ]
  },
  {
   "cell_type": "code",
   "execution_count": 42,
   "metadata": {},
   "outputs": [],
   "source": [
    "sql = 'ALTER TABLE %s DROP COLUMN IF EXISTS pfaf_id2, DROP COLUMN IF EXISTS \"pfaf_id.1\", DROP COLUMN IF EXISTS hybas_id2' %(tableNameOut)\n",
    "result = connection.execute(sql)"
   ]
  },
  {
   "cell_type": "code",
   "execution_count": 43,
   "metadata": {
    "collapsed": true
   },
   "outputs": [],
   "source": [
    "sql = \"DROP TABLE %s,%s,%s,%s\" %(tableNamePolygon,tableNameMultiPolygon,tableNameAttributes,tableNameGeometries)\n",
    "result = connection.execute(sql)"
   ]
  },
  {
   "cell_type": "markdown",
   "metadata": {},
   "source": [
    "### Testing"
   ]
  },
  {
   "cell_type": "code",
   "execution_count": 44,
   "metadata": {
    "collapsed": true
   },
   "outputs": [],
   "source": [
    "sql = \"select * from %s\" %(tableNameOut)"
   ]
  },
  {
   "cell_type": "code",
   "execution_count": 45,
   "metadata": {
    "collapsed": true
   },
   "outputs": [],
   "source": [
    "gdfFromSQL =gpd.GeoDataFrame.from_postgis(sql,connection,geom_col='geom' ).set_index(\"pfaf_id\", drop=False)"
   ]
  },
  {
   "cell_type": "code",
   "execution_count": 46,
   "metadata": {},
   "outputs": [
    {
     "data": {
      "text/html": [
       "<div>\n",
       "<style>\n",
       "    .dataframe thead tr:only-child th {\n",
       "        text-align: right;\n",
       "    }\n",
       "\n",
       "    .dataframe thead th {\n",
       "        text-align: left;\n",
       "    }\n",
       "\n",
       "    .dataframe tbody tr th {\n",
       "        vertical-align: top;\n",
       "    }\n",
       "</style>\n",
       "<table border=\"1\" class=\"dataframe\">\n",
       "  <thead>\n",
       "    <tr style=\"text-align: right;\">\n",
       "      <th></th>\n",
       "      <th>geom</th>\n",
       "      <th>pfaf_id</th>\n",
       "      <th>hybas_id</th>\n",
       "      <th>next_down</th>\n",
       "      <th>next_sink</th>\n",
       "      <th>main_bas</th>\n",
       "      <th>dist_sink</th>\n",
       "      <th>dist_main</th>\n",
       "      <th>sub_area</th>\n",
       "      <th>up_area</th>\n",
       "      <th>...</th>\n",
       "      <th>upstream_hybas_ids</th>\n",
       "      <th>upstream_pfaf_ids</th>\n",
       "      <th>downstream_hybas_ids</th>\n",
       "      <th>downstream_pfaf_ids</th>\n",
       "      <th>next_sink_pfaf</th>\n",
       "      <th>basin_hybas_ids</th>\n",
       "      <th>basin_pfaf_ids</th>\n",
       "      <th>sub_name</th>\n",
       "      <th>maj_name</th>\n",
       "      <th>faoid_copy</th>\n",
       "    </tr>\n",
       "    <tr>\n",
       "      <th>pfaf_id</th>\n",
       "      <th></th>\n",
       "      <th></th>\n",
       "      <th></th>\n",
       "      <th></th>\n",
       "      <th></th>\n",
       "      <th></th>\n",
       "      <th></th>\n",
       "      <th></th>\n",
       "      <th></th>\n",
       "      <th></th>\n",
       "      <th></th>\n",
       "      <th></th>\n",
       "      <th></th>\n",
       "      <th></th>\n",
       "      <th></th>\n",
       "      <th></th>\n",
       "      <th></th>\n",
       "      <th></th>\n",
       "      <th></th>\n",
       "      <th></th>\n",
       "      <th></th>\n",
       "    </tr>\n",
       "  </thead>\n",
       "  <tbody>\n",
       "    <tr>\n",
       "      <th>111019</th>\n",
       "      <td>(POLYGON ((36.24444444444446 23.55833333333337...</td>\n",
       "      <td>111019</td>\n",
       "      <td>1060001090</td>\n",
       "      <td>0</td>\n",
       "      <td>1060001090</td>\n",
       "      <td>1060001090</td>\n",
       "      <td>0.0</td>\n",
       "      <td>0.0</td>\n",
       "      <td>6566.3</td>\n",
       "      <td>6566.3</td>\n",
       "      <td>...</td>\n",
       "      <td>[]</td>\n",
       "      <td>[]</td>\n",
       "      <td>[]</td>\n",
       "      <td>[]</td>\n",
       "      <td>111019.0</td>\n",
       "      <td>[1060001090]</td>\n",
       "      <td>[111019]</td>\n",
       "      <td>['Egyptian east coast']</td>\n",
       "      <td>['Africa, Red Sea - Gulf of Aden Coast']</td>\n",
       "      <td>['MAJ_BAS_7019_SUB_BASE_0190313']</td>\n",
       "    </tr>\n",
       "    <tr>\n",
       "      <th>111084</th>\n",
       "      <td>(POLYGON ((38.56250000000002 15.88750000000003...</td>\n",
       "      <td>111084</td>\n",
       "      <td>1060550700</td>\n",
       "      <td>1060525050</td>\n",
       "      <td>1060002760</td>\n",
       "      <td>1060002760</td>\n",
       "      <td>217.4</td>\n",
       "      <td>217.4</td>\n",
       "      <td>12507.3</td>\n",
       "      <td>12507.6</td>\n",
       "      <td>...</td>\n",
       "      <td>[]</td>\n",
       "      <td>[]</td>\n",
       "      <td>[1060525050, 1060002760]</td>\n",
       "      <td>[111083, 111081]</td>\n",
       "      <td>111081.0</td>\n",
       "      <td>[1060525050, 1060002760, 1060550700]</td>\n",
       "      <td>[111083, 111081, 111084]</td>\n",
       "      <td>['Nahr al Qash']</td>\n",
       "      <td>['Africa, Red Sea - Gulf of Aden Coast']</td>\n",
       "      <td>['MAJ_BAS_7019_SUB_BASE_0190318']</td>\n",
       "    </tr>\n",
       "    <tr>\n",
       "      <th>111087</th>\n",
       "      <td>(POLYGON ((38.22916666666669 16.00833333333337...</td>\n",
       "      <td>111087</td>\n",
       "      <td>1060581710</td>\n",
       "      <td>1060550940</td>\n",
       "      <td>1060002760</td>\n",
       "      <td>1060002760</td>\n",
       "      <td>326.1</td>\n",
       "      <td>326.1</td>\n",
       "      <td>11457.1</td>\n",
       "      <td>16392.8</td>\n",
       "      <td>...</td>\n",
       "      <td>[1060606710, 1060606390]</td>\n",
       "      <td>[111088, 111089]</td>\n",
       "      <td>[1060550940, 1060525050, 1060002760]</td>\n",
       "      <td>[111085, 111083, 111081]</td>\n",
       "      <td>111081.0</td>\n",
       "      <td>[1060550940, 1060525050, 1060002760, 106060671...</td>\n",
       "      <td>[111085, 111083, 111081, 111088, 111089, 111087]</td>\n",
       "      <td>['Nahr al Qash']</td>\n",
       "      <td>['Africa, Red Sea - Gulf of Aden Coast']</td>\n",
       "      <td>['MAJ_BAS_7019_SUB_BASE_0190318']</td>\n",
       "    </tr>\n",
       "    <tr>\n",
       "      <th>112012</th>\n",
       "      <td>(POLYGON ((47.55833333333336 8.212500000000016...</td>\n",
       "      <td>112012</td>\n",
       "      <td>1060965550</td>\n",
       "      <td>1060040270</td>\n",
       "      <td>1060040270</td>\n",
       "      <td>1060040270</td>\n",
       "      <td>0.2</td>\n",
       "      <td>0.2</td>\n",
       "      <td>18049.7</td>\n",
       "      <td>18050.3</td>\n",
       "      <td>...</td>\n",
       "      <td>[]</td>\n",
       "      <td>[]</td>\n",
       "      <td>[1060040270]</td>\n",
       "      <td>[112011]</td>\n",
       "      <td>112011.0</td>\n",
       "      <td>[1060040270, 1060965550]</td>\n",
       "      <td>[112011, 112012]</td>\n",
       "      <td>['Ogaden']</td>\n",
       "      <td>['Africa, Red Sea - Gulf of Aden Coast']</td>\n",
       "      <td>['MAJ_BAS_7019_SUB_BASE_0193491']</td>\n",
       "    </tr>\n",
       "    <tr>\n",
       "      <th>112046</th>\n",
       "      <td>(POLYGON ((46.65000000000002 4.733333333333354...</td>\n",
       "      <td>112046</td>\n",
       "      <td>1061028620</td>\n",
       "      <td>1061038600</td>\n",
       "      <td>1060040390</td>\n",
       "      <td>1060040390</td>\n",
       "      <td>88.7</td>\n",
       "      <td>88.7</td>\n",
       "      <td>15641.3</td>\n",
       "      <td>15641.3</td>\n",
       "      <td>...</td>\n",
       "      <td>[]</td>\n",
       "      <td>[]</td>\n",
       "      <td>[1061038600, 1061043750, 1060040390]</td>\n",
       "      <td>[112045, 112043, 112041]</td>\n",
       "      <td>112041.0</td>\n",
       "      <td>[1061038600, 1061043750, 1060040390, 1061028620]</td>\n",
       "      <td>[112045, 112043, 112041, 112046]</td>\n",
       "      <td>['Ogaden']</td>\n",
       "      <td>['Africa, Red Sea - Gulf of Aden Coast']</td>\n",
       "      <td>['MAJ_BAS_7019_SUB_BASE_0193491']</td>\n",
       "    </tr>\n",
       "  </tbody>\n",
       "</table>\n",
       "<p>5 rows × 24 columns</p>\n",
       "</div>"
      ],
      "text/plain": [
       "                                                      geom  pfaf_id  \\\n",
       "pfaf_id                                                               \n",
       "111019   (POLYGON ((36.24444444444446 23.55833333333337...   111019   \n",
       "111084   (POLYGON ((38.56250000000002 15.88750000000003...   111084   \n",
       "111087   (POLYGON ((38.22916666666669 16.00833333333337...   111087   \n",
       "112012   (POLYGON ((47.55833333333336 8.212500000000016...   112012   \n",
       "112046   (POLYGON ((46.65000000000002 4.733333333333354...   112046   \n",
       "\n",
       "           hybas_id   next_down   next_sink    main_bas  dist_sink  dist_main  \\\n",
       "pfaf_id                                                                         \n",
       "111019   1060001090           0  1060001090  1060001090        0.0        0.0   \n",
       "111084   1060550700  1060525050  1060002760  1060002760      217.4      217.4   \n",
       "111087   1060581710  1060550940  1060002760  1060002760      326.1      326.1   \n",
       "112012   1060965550  1060040270  1060040270  1060040270        0.2        0.2   \n",
       "112046   1061028620  1061038600  1060040390  1060040390       88.7       88.7   \n",
       "\n",
       "         sub_area  up_area                ...                  \\\n",
       "pfaf_id                                   ...                   \n",
       "111019     6566.3   6566.3                ...                   \n",
       "111084    12507.3  12507.6                ...                   \n",
       "111087    11457.1  16392.8                ...                   \n",
       "112012    18049.7  18050.3                ...                   \n",
       "112046    15641.3  15641.3                ...                   \n",
       "\n",
       "               upstream_hybas_ids  upstream_pfaf_ids  \\\n",
       "pfaf_id                                                \n",
       "111019                         []                 []   \n",
       "111084                         []                 []   \n",
       "111087   [1060606710, 1060606390]   [111088, 111089]   \n",
       "112012                         []                 []   \n",
       "112046                         []                 []   \n",
       "\n",
       "                         downstream_hybas_ids       downstream_pfaf_ids  \\\n",
       "pfaf_id                                                                   \n",
       "111019                                     []                        []   \n",
       "111084               [1060525050, 1060002760]          [111083, 111081]   \n",
       "111087   [1060550940, 1060525050, 1060002760]  [111085, 111083, 111081]   \n",
       "112012                           [1060040270]                  [112011]   \n",
       "112046   [1061038600, 1061043750, 1060040390]  [112045, 112043, 112041]   \n",
       "\n",
       "        next_sink_pfaf                                    basin_hybas_ids  \\\n",
       "pfaf_id                                                                     \n",
       "111019        111019.0                                       [1060001090]   \n",
       "111084        111081.0               [1060525050, 1060002760, 1060550700]   \n",
       "111087        111081.0  [1060550940, 1060525050, 1060002760, 106060671...   \n",
       "112012        112011.0                           [1060040270, 1060965550]   \n",
       "112046        112041.0   [1061038600, 1061043750, 1060040390, 1061028620]   \n",
       "\n",
       "                                           basin_pfaf_ids  \\\n",
       "pfaf_id                                                     \n",
       "111019                                           [111019]   \n",
       "111084                           [111083, 111081, 111084]   \n",
       "111087   [111085, 111083, 111081, 111088, 111089, 111087]   \n",
       "112012                                   [112011, 112012]   \n",
       "112046                   [112045, 112043, 112041, 112046]   \n",
       "\n",
       "                        sub_name                                  maj_name  \\\n",
       "pfaf_id                                                                      \n",
       "111019   ['Egyptian east coast']  ['Africa, Red Sea - Gulf of Aden Coast']   \n",
       "111084          ['Nahr al Qash']  ['Africa, Red Sea - Gulf of Aden Coast']   \n",
       "111087          ['Nahr al Qash']  ['Africa, Red Sea - Gulf of Aden Coast']   \n",
       "112012                ['Ogaden']  ['Africa, Red Sea - Gulf of Aden Coast']   \n",
       "112046                ['Ogaden']  ['Africa, Red Sea - Gulf of Aden Coast']   \n",
       "\n",
       "                                faoid_copy  \n",
       "pfaf_id                                     \n",
       "111019   ['MAJ_BAS_7019_SUB_BASE_0190313']  \n",
       "111084   ['MAJ_BAS_7019_SUB_BASE_0190318']  \n",
       "111087   ['MAJ_BAS_7019_SUB_BASE_0190318']  \n",
       "112012   ['MAJ_BAS_7019_SUB_BASE_0193491']  \n",
       "112046   ['MAJ_BAS_7019_SUB_BASE_0193491']  \n",
       "\n",
       "[5 rows x 24 columns]"
      ]
     },
     "execution_count": 46,
     "metadata": {},
     "output_type": "execute_result"
    }
   ],
   "source": [
    "gdfFromSQL.head()"
   ]
  },
  {
   "cell_type": "code",
   "execution_count": 47,
   "metadata": {},
   "outputs": [
    {
     "data": {
      "text/plain": [
       "(16396, 24)"
      ]
     },
     "execution_count": 47,
     "metadata": {},
     "output_type": "execute_result"
    }
   ],
   "source": [
    "gdfFromSQL.shape"
   ]
  },
  {
   "cell_type": "code",
   "execution_count": 48,
   "metadata": {
    "collapsed": true
   },
   "outputs": [],
   "source": [
    "connection.close()"
   ]
  },
  {
   "cell_type": "code",
   "execution_count": 49,
   "metadata": {},
   "outputs": [
    {
     "name": "stdout",
     "output_type": "stream",
     "text": [
      "0:05:11.968857\n"
     ]
    }
   ],
   "source": [
    "end = datetime.datetime.now()\n",
    "elapsed = end - start\n",
    "print(elapsed)"
   ]
  }
 ],
 "metadata": {
  "kernelspec": {
   "display_name": "Python 35",
   "language": "python",
   "name": "python35"
  },
  "language_info": {
   "codemirror_mode": {
    "name": "ipython",
    "version": 3
   },
   "file_extension": ".py",
   "mimetype": "text/x-python",
   "name": "python",
   "nbconvert_exporter": "python",
   "pygments_lexer": "ipython3",
   "version": "3.5.4"
  }
 },
 "nbformat": 4,
 "nbformat_minor": 2
}
