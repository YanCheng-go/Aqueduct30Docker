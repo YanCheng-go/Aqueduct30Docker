{
 "cells": [
  {
   "cell_type": "markdown",
   "metadata": {},
   "source": [
    "### Add HydroBasin data to Postgis Database server\n",
    "\n",
    "* Purpose of script: Ingest Data from HydroBasins to postgis. Data includes geometries and attribute data\n",
    "* Author: Rutger Hofste\n",
    "* Kernel used: python35\n",
    "* Date created: 20171110\n",
    "\n",
    "The script requires a file called .password to be stored in the current working directory with the password to the database.\n",
    "\n",
    "Please note that columns with uppercase should be referred to by using double quotes whereas strings need single quotes. Please note that the script will consolidate two polygons in Russia that spans two hemispheres into one. "
   ]
  },
  {
   "cell_type": "code",
   "execution_count": 1,
   "metadata": {},
   "outputs": [
    {
     "name": "stdout",
     "output_type": "stream",
     "text": [
      "Y2017M11D23 UTC 15:34\n"
     ]
    },
    {
     "data": {
      "text/plain": [
       "'3.5.4 |Continuum Analytics, Inc.| (default, Aug 14 2017, 13:26:58) \\n[GCC 4.4.7 20120313 (Red Hat 4.4.7-1)]'"
      ]
     },
     "execution_count": 1,
     "metadata": {},
     "output_type": "execute_result"
    }
   ],
   "source": [
    "%matplotlib inline\n",
    "import time, datetime, sys\n",
    "dateString = time.strftime(\"Y%YM%mD%d\")\n",
    "timeString = time.strftime(\"UTC %H:%M\")\n",
    "start = datetime.datetime.now()\n",
    "print(dateString,timeString)\n",
    "sys.version"
   ]
  },
  {
   "cell_type": "code",
   "execution_count": 2,
   "metadata": {
    "collapsed": true
   },
   "outputs": [],
   "source": [
    "SCRIPT_NAME = \"Y2017M11D15_RH_Add_HydroBasins_postGIS_V01\"\n",
    "\n",
    "INPUT_VERSION = 3\n",
    "OUTPUT_VERSION= 1\n",
    "\n",
    "EC2_INPUT_PATH = \"/volumes/data/%s/input\" %(SCRIPT_NAME)\n",
    "EC2_OUTPUT_PATH = \"/volumes/data/%s/output\" %(SCRIPT_NAME)\n",
    "\n",
    "S3_INPUT_PATH = \"s3://wri-projects/Aqueduct30/processData/Y2017M08D29_RH_Merge_FAONames_Upstream_V01/output/\"\n",
    "\n",
    "INPUT_FILENAME = \"hybas_lev06_v1c_merged_fiona_upstream_downstream_FAO_V%0.2d\" %(INPUT_VERSION)\n",
    "\n",
    "# Database settings\n",
    "DATABASE_IDENTIFIER = \"aqueduct30v02\"\n",
    "DATABASE_NAME = \"database01\"\n",
    "TABLE_NAME = \"hydrobasin6_v%0.2d\" %(OUTPUT_VERSION)"
   ]
  },
  {
   "cell_type": "code",
   "execution_count": 3,
   "metadata": {
    "collapsed": true
   },
   "outputs": [],
   "source": [
    "!rm -r {EC2_INPUT_PATH}\n",
    "!rm -r {EC2_OUTPUT_PATH}\n",
    "\n",
    "!mkdir -p {EC2_INPUT_PATH}\n",
    "!mkdir -p {EC2_OUTPUT_PATH}"
   ]
  },
  {
   "cell_type": "code",
   "execution_count": 4,
   "metadata": {
    "collapsed": true
   },
   "outputs": [],
   "source": [
    "!aws s3 cp {S3_INPUT_PATH} {EC2_INPUT_PATH} --recursive --quiet"
   ]
  },
  {
   "cell_type": "code",
   "execution_count": 5,
   "metadata": {
    "collapsed": true
   },
   "outputs": [],
   "source": [
    "import os\n",
    "import boto3\n",
    "import botocore\n",
    "from sqlalchemy import *\n",
    "import geopandas as gpd\n",
    "import pandas as pd\n",
    "from shapely.geometry.multipolygon import MultiPolygon\n",
    "from geoalchemy2 import Geometry, WKTElement"
   ]
  },
  {
   "cell_type": "code",
   "execution_count": 6,
   "metadata": {
    "collapsed": true
   },
   "outputs": [],
   "source": [
    "def rdsConnect(database_identifier,database_name):\n",
    "    rds = boto3.client('rds')\n",
    "    F = open(\".password\",\"r\")\n",
    "    password = F.read().splitlines()[0]\n",
    "    F.close()\n",
    "    response = rds.describe_db_instances(DBInstanceIdentifier=\"%s\"%(database_identifier))\n",
    "    status = response[\"DBInstances\"][0][\"DBInstanceStatus\"]\n",
    "    print(\"Status:\",status)\n",
    "    endpoint = response[\"DBInstances\"][0][\"Endpoint\"][\"Address\"]\n",
    "    print(\"Endpoint:\",endpoint)\n",
    "    engine = create_engine('postgresql://rutgerhofste:%s@%s:5432/%s' %(password,endpoint,database_name))\n",
    "    connection = engine.connect()\n",
    "    return engine, connection\n",
    "\n",
    "def uploadGDFtoPostGIS(gdf,tableName,saveIndex):\n",
    "    # this function uploads a polygon shapefile to table in AWS RDS. \n",
    "    # It handles combined polygon/multipolygon geometry and stores it in valid multipolygon in epsg 4326.\n",
    "    \n",
    "    # gdf = input geoDataframe\n",
    "    # tableName = postGIS table name (string)\n",
    "    # saveIndex = save index column in separate column in postgresql, otherwise discarded. (Boolean)\n",
    "    \n",
    "    \n",
    "    gdf[\"type\"] = gdf.geometry.geom_type    \n",
    "    geomTypes = [\"Polygon\",\"MultiPolygon\"]\n",
    "    \n",
    "    for geomType in geomTypes:\n",
    "        gdfType = gdf.loc[gdf[\"type\"]== geomType]\n",
    "        geomTypeLower = str.lower(geomType)\n",
    "        gdfType['geom'] = gdfType['geometry'].apply(lambda x: WKTElement(x.wkt, srid=4326))\n",
    "        gdfType.drop([\"geometry\",\"type\"],1, inplace=True)      \n",
    "        print(\"Create table temp%s\" %(geomTypeLower)) \n",
    "        gdfType.to_sql(\n",
    "            name = \"temp%s\" %(geomTypeLower),\n",
    "            con = engine,\n",
    "            if_exists='replace',\n",
    "            index= saveIndex, \n",
    "            dtype={'geom': Geometry(str.upper(geomType), srid= 4326)}\n",
    "        )\n",
    "        \n",
    "    # Merge both tables and make valid\n",
    "    sql = []\n",
    "    sql.append(\"DROP TABLE IF EXISTS %s\"  %(tableName))\n",
    "    sql.append(\"ALTER TABLE temppolygon ALTER COLUMN geom type geometry(MultiPolygon, 4326) using ST_Multi(geom);\")\n",
    "    sql.append(\"CREATE TABLE %s AS (SELECT * FROM temppolygon UNION SELECT * FROM tempmultipolygon);\" %(tableName))\n",
    "    sql.append(\"UPDATE %s SET geom = st_makevalid(geom);\" %(tableName))\n",
    "    sql.append(\"DROP TABLE temppolygon,tempmultipolygon\")\n",
    "\n",
    "    for statement in sql:\n",
    "        print(statement)\n",
    "        result = connection.execute(statement)    \n",
    "    gdfFromSQL =gpd.GeoDataFrame.from_postgis(\"select * from %s\" %(tableName),connection,geom_col='geom' )\n",
    "    return gdfFromSQL\n"
   ]
  },
  {
   "cell_type": "code",
   "execution_count": 7,
   "metadata": {},
   "outputs": [
    {
     "name": "stdout",
     "output_type": "stream",
     "text": [
      "Status: available\n",
      "Endpoint: aqueduct30v02.cgpnumwmfcqc.eu-central-1.rds.amazonaws.com\n"
     ]
    }
   ],
   "source": [
    "engine, connection = rdsConnect(DATABASE_IDENTIFIER,DATABASE_NAME)"
   ]
  },
  {
   "cell_type": "code",
   "execution_count": 8,
   "metadata": {
    "collapsed": true
   },
   "outputs": [],
   "source": [
    "gdf = gpd.read_file(os.path.join(EC2_INPUT_PATH,INPUT_FILENAME+\".shp\"))"
   ]
  },
  {
   "cell_type": "code",
   "execution_count": 9,
   "metadata": {},
   "outputs": [
    {
     "data": {
      "text/plain": [
       "(16397, 2)"
      ]
     },
     "execution_count": 9,
     "metadata": {},
     "output_type": "execute_result"
    }
   ],
   "source": [
    "gdf.shape"
   ]
  },
  {
   "cell_type": "code",
   "execution_count": 10,
   "metadata": {
    "collapsed": true
   },
   "outputs": [],
   "source": [
    "gdf.columns = map(str.lower, gdf.columns)"
   ]
  },
  {
   "cell_type": "code",
   "execution_count": 11,
   "metadata": {
    "collapsed": true
   },
   "outputs": [],
   "source": [
    "gdf = gdf.set_index(\"pfaf_id\", drop=False)"
   ]
  },
  {
   "cell_type": "code",
   "execution_count": 12,
   "metadata": {},
   "outputs": [
    {
     "data": {
      "text/html": [
       "<div>\n",
       "<style>\n",
       "    .dataframe thead tr:only-child th {\n",
       "        text-align: right;\n",
       "    }\n",
       "\n",
       "    .dataframe thead th {\n",
       "        text-align: left;\n",
       "    }\n",
       "\n",
       "    .dataframe tbody tr th {\n",
       "        vertical-align: top;\n",
       "    }\n",
       "</style>\n",
       "<table border=\"1\" class=\"dataframe\">\n",
       "  <thead>\n",
       "    <tr style=\"text-align: right;\">\n",
       "      <th></th>\n",
       "      <th>pfaf_id</th>\n",
       "      <th>geometry</th>\n",
       "    </tr>\n",
       "    <tr>\n",
       "      <th>pfaf_id</th>\n",
       "      <th></th>\n",
       "      <th></th>\n",
       "    </tr>\n",
       "  </thead>\n",
       "  <tbody>\n",
       "    <tr>\n",
       "      <th>611001</th>\n",
       "      <td>611001</td>\n",
       "      <td>(POLYGON ((-78.99722222222219 9.45416666666669...</td>\n",
       "    </tr>\n",
       "    <tr>\n",
       "      <th>611002</th>\n",
       "      <td>611002</td>\n",
       "      <td>POLYGON ((-77.00416666666663 5.770833333333362...</td>\n",
       "    </tr>\n",
       "    <tr>\n",
       "      <th>611003</th>\n",
       "      <td>611003</td>\n",
       "      <td>POLYGON ((-76.88749999999997 7.679166666666696...</td>\n",
       "    </tr>\n",
       "    <tr>\n",
       "      <th>611004</th>\n",
       "      <td>611004</td>\n",
       "      <td>POLYGON ((-76.51249999999996 7.587500000000028...</td>\n",
       "    </tr>\n",
       "    <tr>\n",
       "      <th>611005</th>\n",
       "      <td>611005</td>\n",
       "      <td>(POLYGON ((-76.17638888888887 9.37500000000002...</td>\n",
       "    </tr>\n",
       "  </tbody>\n",
       "</table>\n",
       "</div>"
      ],
      "text/plain": [
       "         pfaf_id                                           geometry\n",
       "pfaf_id                                                            \n",
       "611001    611001  (POLYGON ((-78.99722222222219 9.45416666666669...\n",
       "611002    611002  POLYGON ((-77.00416666666663 5.770833333333362...\n",
       "611003    611003  POLYGON ((-76.88749999999997 7.679166666666696...\n",
       "611004    611004  POLYGON ((-76.51249999999996 7.587500000000028...\n",
       "611005    611005  (POLYGON ((-76.17638888888887 9.37500000000002..."
      ]
     },
     "execution_count": 12,
     "metadata": {},
     "output_type": "execute_result"
    }
   ],
   "source": [
    "gdf.head()"
   ]
  },
  {
   "cell_type": "markdown",
   "metadata": {},
   "source": [
    "Dissolve polygon in Siberia with pfaf_id 353020"
   ]
  },
  {
   "cell_type": "code",
   "execution_count": 13,
   "metadata": {},
   "outputs": [
    {
     "name": "stderr",
     "output_type": "stream",
     "text": [
      "/opt/anaconda3/envs/python35/lib/python3.5/site-packages/geopandas/geodataframe.py:500: FutureWarning: 'pfaf_id' is both a column name and an index level.\n",
      "Defaulting to column but this will raise an ambiguity error in a future version\n",
      "  aggregated_data = data.groupby(by=by).agg(aggfunc)\n",
      "/opt/anaconda3/envs/python35/lib/python3.5/site-packages/geopandas/geodataframe.py:508: FutureWarning: 'pfaf_id' is both a column name and an index level.\n",
      "Defaulting to column but this will raise an ambiguity error in a future version\n",
      "  g = self.groupby(by=by, group_keys=False)[self.geometry.name].agg(merge_geometries)\n"
     ]
    }
   ],
   "source": [
    "gdf = gdf.dissolve(by=\"pfaf_id\")"
   ]
  },
  {
   "cell_type": "code",
   "execution_count": 14,
   "metadata": {
    "collapsed": true
   },
   "outputs": [],
   "source": [
    "gdf[\"pfaf_id\"] = gdf.index"
   ]
  },
  {
   "cell_type": "code",
   "execution_count": 15,
   "metadata": {},
   "outputs": [
    {
     "data": {
      "text/plain": [
       "(16396, 2)"
      ]
     },
     "execution_count": 15,
     "metadata": {},
     "output_type": "execute_result"
    }
   ],
   "source": [
    "gdf.shape"
   ]
  },
  {
   "cell_type": "code",
   "execution_count": 16,
   "metadata": {
    "collapsed": true
   },
   "outputs": [],
   "source": [
    "#gdf = gdf.drop_duplicates(subset=\"pfaf_id\",keep='first')"
   ]
  },
  {
   "cell_type": "code",
   "execution_count": 17,
   "metadata": {
    "collapsed": true
   },
   "outputs": [],
   "source": [
    "df = pd.read_csv(os.path.join(EC2_INPUT_PATH,INPUT_FILENAME+\".csv\"))"
   ]
  },
  {
   "cell_type": "code",
   "execution_count": 18,
   "metadata": {
    "collapsed": true
   },
   "outputs": [],
   "source": [
    "df.columns = map(str.lower, df.columns)"
   ]
  },
  {
   "cell_type": "code",
   "execution_count": 19,
   "metadata": {
    "collapsed": true
   },
   "outputs": [],
   "source": [
    "df = df.drop_duplicates(subset=\"pfaf_id\",keep='first')"
   ]
  },
  {
   "cell_type": "code",
   "execution_count": 20,
   "metadata": {},
   "outputs": [
    {
     "data": {
      "text/plain": [
       "pfaf_id                   int64\n",
       "hybas_id2                 int64\n",
       "hybas_id                  int64\n",
       "next_down                 int64\n",
       "next_sink                 int64\n",
       "main_bas                  int64\n",
       "dist_sink               float64\n",
       "dist_main               float64\n",
       "sub_area                float64\n",
       "up_area                 float64\n",
       "pfaf_id.1                 int64\n",
       "endo                      int64\n",
       "coast                     int64\n",
       "order                     int64\n",
       "sort                      int64\n",
       "upstream_hybas_ids       object\n",
       "upstream_pfaf_ids        object\n",
       "downstream_hybas_ids     object\n",
       "downstream_pfaf_ids      object\n",
       "next_sink_pfaf          float64\n",
       "basin_hybas_ids          object\n",
       "basin_pfaf_ids           object\n",
       "sub_name                 object\n",
       "maj_name                 object\n",
       "faoid_copy               object\n",
       "dtype: object"
      ]
     },
     "execution_count": 20,
     "metadata": {},
     "output_type": "execute_result"
    }
   ],
   "source": [
    "df.dtypes"
   ]
  },
  {
   "cell_type": "markdown",
   "metadata": {},
   "source": [
    "Select attributes that are NF 1-3 compliant"
   ]
  },
  {
   "cell_type": "code",
   "execution_count": 21,
   "metadata": {
    "collapsed": true
   },
   "outputs": [],
   "source": [
    "df2 = df[[\"pfaf_id\",\"hybas_id\",\"next_down\",\"next_sink\",\"main_bas\",\"dist_sink\",\"dist_main\",\"sub_area\",\"up_area\",\"endo\",\"coast\",\"order\",\"sort\"]]"
   ]
  },
  {
   "cell_type": "code",
   "execution_count": 22,
   "metadata": {
    "collapsed": true
   },
   "outputs": [],
   "source": [
    "gdf2 = gdf.merge(df2,on=\"pfaf_id\")"
   ]
  },
  {
   "cell_type": "code",
   "execution_count": 23,
   "metadata": {
    "collapsed": true
   },
   "outputs": [],
   "source": [
    "gdf2 = gdf2.set_index(\"pfaf_id\",drop=False)"
   ]
  },
  {
   "cell_type": "code",
   "execution_count": 24,
   "metadata": {},
   "outputs": [
    {
     "data": {
      "text/html": [
       "<div>\n",
       "<style>\n",
       "    .dataframe thead tr:only-child th {\n",
       "        text-align: right;\n",
       "    }\n",
       "\n",
       "    .dataframe thead th {\n",
       "        text-align: left;\n",
       "    }\n",
       "\n",
       "    .dataframe tbody tr th {\n",
       "        vertical-align: top;\n",
       "    }\n",
       "</style>\n",
       "<table border=\"1\" class=\"dataframe\">\n",
       "  <thead>\n",
       "    <tr style=\"text-align: right;\">\n",
       "      <th></th>\n",
       "      <th>geometry</th>\n",
       "      <th>pfaf_id</th>\n",
       "      <th>hybas_id</th>\n",
       "      <th>next_down</th>\n",
       "      <th>next_sink</th>\n",
       "      <th>main_bas</th>\n",
       "      <th>dist_sink</th>\n",
       "      <th>dist_main</th>\n",
       "      <th>sub_area</th>\n",
       "      <th>up_area</th>\n",
       "      <th>endo</th>\n",
       "      <th>coast</th>\n",
       "      <th>order</th>\n",
       "      <th>sort</th>\n",
       "    </tr>\n",
       "    <tr>\n",
       "      <th>pfaf_id</th>\n",
       "      <th></th>\n",
       "      <th></th>\n",
       "      <th></th>\n",
       "      <th></th>\n",
       "      <th></th>\n",
       "      <th></th>\n",
       "      <th></th>\n",
       "      <th></th>\n",
       "      <th></th>\n",
       "      <th></th>\n",
       "      <th></th>\n",
       "      <th></th>\n",
       "      <th></th>\n",
       "      <th></th>\n",
       "    </tr>\n",
       "  </thead>\n",
       "  <tbody>\n",
       "    <tr>\n",
       "      <th>111011</th>\n",
       "      <td>POLYGON ((32.36666666666668 29.6791666666667, ...</td>\n",
       "      <td>111011</td>\n",
       "      <td>1060000010</td>\n",
       "      <td>0</td>\n",
       "      <td>1060000010</td>\n",
       "      <td>1060000010</td>\n",
       "      <td>0.0</td>\n",
       "      <td>0.0</td>\n",
       "      <td>1890.8</td>\n",
       "      <td>1890.8</td>\n",
       "      <td>0</td>\n",
       "      <td>1</td>\n",
       "      <td>0</td>\n",
       "      <td>1</td>\n",
       "    </tr>\n",
       "    <tr>\n",
       "      <th>111012</th>\n",
       "      <td>POLYGON ((31.73333333333336 29.88333333333337,...</td>\n",
       "      <td>111012</td>\n",
       "      <td>1060000100</td>\n",
       "      <td>0</td>\n",
       "      <td>1060000100</td>\n",
       "      <td>1060000100</td>\n",
       "      <td>0.0</td>\n",
       "      <td>0.0</td>\n",
       "      <td>2925.9</td>\n",
       "      <td>2925.9</td>\n",
       "      <td>0</td>\n",
       "      <td>0</td>\n",
       "      <td>1</td>\n",
       "      <td>2</td>\n",
       "    </tr>\n",
       "    <tr>\n",
       "      <th>111013</th>\n",
       "      <td>POLYGON ((32.38750000000002 29.38333333333336,...</td>\n",
       "      <td>111013</td>\n",
       "      <td>1060000110</td>\n",
       "      <td>0</td>\n",
       "      <td>1060000110</td>\n",
       "      <td>1060000110</td>\n",
       "      <td>0.0</td>\n",
       "      <td>0.0</td>\n",
       "      <td>893.5</td>\n",
       "      <td>893.5</td>\n",
       "      <td>0</td>\n",
       "      <td>1</td>\n",
       "      <td>0</td>\n",
       "      <td>3</td>\n",
       "    </tr>\n",
       "    <tr>\n",
       "      <th>111014</th>\n",
       "      <td>POLYGON ((31.97500000000002 29.1666666666667, ...</td>\n",
       "      <td>111014</td>\n",
       "      <td>1060000150</td>\n",
       "      <td>0</td>\n",
       "      <td>1060000150</td>\n",
       "      <td>1060000150</td>\n",
       "      <td>0.0</td>\n",
       "      <td>0.0</td>\n",
       "      <td>4217.3</td>\n",
       "      <td>4217.4</td>\n",
       "      <td>0</td>\n",
       "      <td>0</td>\n",
       "      <td>1</td>\n",
       "      <td>4</td>\n",
       "    </tr>\n",
       "    <tr>\n",
       "      <th>111015</th>\n",
       "      <td>(POLYGON ((33.70694444444447 27.75000000000003...</td>\n",
       "      <td>111015</td>\n",
       "      <td>1060000160</td>\n",
       "      <td>0</td>\n",
       "      <td>1060000160</td>\n",
       "      <td>1060000160</td>\n",
       "      <td>0.0</td>\n",
       "      <td>0.0</td>\n",
       "      <td>16638.1</td>\n",
       "      <td>16638.1</td>\n",
       "      <td>0</td>\n",
       "      <td>1</td>\n",
       "      <td>0</td>\n",
       "      <td>5</td>\n",
       "    </tr>\n",
       "  </tbody>\n",
       "</table>\n",
       "</div>"
      ],
      "text/plain": [
       "                                                  geometry  pfaf_id  \\\n",
       "pfaf_id                                                               \n",
       "111011   POLYGON ((32.36666666666668 29.6791666666667, ...   111011   \n",
       "111012   POLYGON ((31.73333333333336 29.88333333333337,...   111012   \n",
       "111013   POLYGON ((32.38750000000002 29.38333333333336,...   111013   \n",
       "111014   POLYGON ((31.97500000000002 29.1666666666667, ...   111014   \n",
       "111015   (POLYGON ((33.70694444444447 27.75000000000003...   111015   \n",
       "\n",
       "           hybas_id  next_down   next_sink    main_bas  dist_sink  dist_main  \\\n",
       "pfaf_id                                                                        \n",
       "111011   1060000010          0  1060000010  1060000010        0.0        0.0   \n",
       "111012   1060000100          0  1060000100  1060000100        0.0        0.0   \n",
       "111013   1060000110          0  1060000110  1060000110        0.0        0.0   \n",
       "111014   1060000150          0  1060000150  1060000150        0.0        0.0   \n",
       "111015   1060000160          0  1060000160  1060000160        0.0        0.0   \n",
       "\n",
       "         sub_area  up_area  endo  coast  order  sort  \n",
       "pfaf_id                                               \n",
       "111011     1890.8   1890.8     0      1      0     1  \n",
       "111012     2925.9   2925.9     0      0      1     2  \n",
       "111013      893.5    893.5     0      1      0     3  \n",
       "111014     4217.3   4217.4     0      0      1     4  \n",
       "111015    16638.1  16638.1     0      1      0     5  "
      ]
     },
     "execution_count": 24,
     "metadata": {},
     "output_type": "execute_result"
    }
   ],
   "source": [
    "gdf2.head()"
   ]
  },
  {
   "cell_type": "code",
   "execution_count": 25,
   "metadata": {},
   "outputs": [
    {
     "data": {
      "text/plain": [
       "(16396, 14)"
      ]
     },
     "execution_count": 25,
     "metadata": {},
     "output_type": "execute_result"
    }
   ],
   "source": [
    "gdf2.shape"
   ]
  },
  {
   "cell_type": "code",
   "execution_count": 26,
   "metadata": {},
   "outputs": [
    {
     "name": "stderr",
     "output_type": "stream",
     "text": [
      "/opt/anaconda3/envs/python35/lib/python3.5/site-packages/ipykernel_launcher.py:30: SettingWithCopyWarning: \n",
      "A value is trying to be set on a copy of a slice from a DataFrame.\n",
      "Try using .loc[row_indexer,col_indexer] = value instead\n",
      "\n",
      "See the caveats in the documentation: http://pandas.pydata.org/pandas-docs/stable/indexing.html#indexing-view-versus-copy\n",
      "/opt/anaconda3/envs/python35/lib/python3.5/site-packages/ipykernel_launcher.py:31: SettingWithCopyWarning: \n",
      "A value is trying to be set on a copy of a slice from a DataFrame\n",
      "\n",
      "See the caveats in the documentation: http://pandas.pydata.org/pandas-docs/stable/indexing.html#indexing-view-versus-copy\n"
     ]
    },
    {
     "name": "stdout",
     "output_type": "stream",
     "text": [
      "Create table temppolygon\n",
      "Create table tempmultipolygon\n",
      "DROP TABLE IF EXISTS hydrobasin6_v01\n",
      "ALTER TABLE temppolygon ALTER COLUMN geom type geometry(MultiPolygon, 4326) using ST_Multi(geom);\n",
      "CREATE TABLE hydrobasin6_v01 AS (SELECT * FROM temppolygon UNION SELECT * FROM tempmultipolygon);\n",
      "UPDATE hydrobasin6_v01 SET geom = st_makevalid(geom);\n",
      "DROP TABLE temppolygon,tempmultipolygon\n"
     ]
    }
   ],
   "source": [
    "gdfFromSQL = uploadGDFtoPostGIS(gdf2,TABLE_NAME,False)"
   ]
  },
  {
   "cell_type": "markdown",
   "metadata": {},
   "source": [
    "### Testing"
   ]
  },
  {
   "cell_type": "code",
   "execution_count": 27,
   "metadata": {},
   "outputs": [
    {
     "data": {
      "text/html": [
       "<div>\n",
       "<style>\n",
       "    .dataframe thead tr:only-child th {\n",
       "        text-align: right;\n",
       "    }\n",
       "\n",
       "    .dataframe thead th {\n",
       "        text-align: left;\n",
       "    }\n",
       "\n",
       "    .dataframe tbody tr th {\n",
       "        vertical-align: top;\n",
       "    }\n",
       "</style>\n",
       "<table border=\"1\" class=\"dataframe\">\n",
       "  <thead>\n",
       "    <tr style=\"text-align: right;\">\n",
       "      <th></th>\n",
       "      <th>pfaf_id</th>\n",
       "      <th>hybas_id</th>\n",
       "      <th>next_down</th>\n",
       "      <th>next_sink</th>\n",
       "      <th>main_bas</th>\n",
       "      <th>dist_sink</th>\n",
       "      <th>dist_main</th>\n",
       "      <th>sub_area</th>\n",
       "      <th>up_area</th>\n",
       "      <th>endo</th>\n",
       "      <th>coast</th>\n",
       "      <th>order</th>\n",
       "      <th>sort</th>\n",
       "      <th>geom</th>\n",
       "    </tr>\n",
       "  </thead>\n",
       "  <tbody>\n",
       "    <tr>\n",
       "      <th>0</th>\n",
       "      <td>111015</td>\n",
       "      <td>1060000160</td>\n",
       "      <td>0</td>\n",
       "      <td>1060000160</td>\n",
       "      <td>1060000160</td>\n",
       "      <td>0.0</td>\n",
       "      <td>0.0</td>\n",
       "      <td>16638.1</td>\n",
       "      <td>16638.1</td>\n",
       "      <td>0</td>\n",
       "      <td>1</td>\n",
       "      <td>0</td>\n",
       "      <td>5</td>\n",
       "      <td>(POLYGON ((34.00000000000003 26.62500000000002...</td>\n",
       "    </tr>\n",
       "    <tr>\n",
       "      <th>1</th>\n",
       "      <td>111019</td>\n",
       "      <td>1060001090</td>\n",
       "      <td>0</td>\n",
       "      <td>1060001090</td>\n",
       "      <td>1060001090</td>\n",
       "      <td>0.0</td>\n",
       "      <td>0.0</td>\n",
       "      <td>6566.3</td>\n",
       "      <td>6566.3</td>\n",
       "      <td>0</td>\n",
       "      <td>1</td>\n",
       "      <td>0</td>\n",
       "      <td>9</td>\n",
       "      <td>(POLYGON ((36.24444444444446 23.55833333333337...</td>\n",
       "    </tr>\n",
       "    <tr>\n",
       "      <th>2</th>\n",
       "      <td>111020</td>\n",
       "      <td>1060001370</td>\n",
       "      <td>0</td>\n",
       "      <td>1060001370</td>\n",
       "      <td>1060001370</td>\n",
       "      <td>0.0</td>\n",
       "      <td>0.0</td>\n",
       "      <td>11678.4</td>\n",
       "      <td>11678.5</td>\n",
       "      <td>0</td>\n",
       "      <td>0</td>\n",
       "      <td>1</td>\n",
       "      <td>10</td>\n",
       "      <td>(POLYGON ((35.14166666666669 22.58333333333336...</td>\n",
       "    </tr>\n",
       "    <tr>\n",
       "      <th>3</th>\n",
       "      <td>111041</td>\n",
       "      <td>1060001510</td>\n",
       "      <td>0</td>\n",
       "      <td>1060001510</td>\n",
       "      <td>1060001510</td>\n",
       "      <td>0.0</td>\n",
       "      <td>0.0</td>\n",
       "      <td>13728.7</td>\n",
       "      <td>42400.1</td>\n",
       "      <td>0</td>\n",
       "      <td>0</td>\n",
       "      <td>1</td>\n",
       "      <td>12</td>\n",
       "      <td>(POLYGON ((36.52916666666668 21.25000000000003...</td>\n",
       "    </tr>\n",
       "    <tr>\n",
       "      <th>4</th>\n",
       "      <td>111050</td>\n",
       "      <td>1060001520</td>\n",
       "      <td>0</td>\n",
       "      <td>1060001520</td>\n",
       "      <td>1060001520</td>\n",
       "      <td>0.0</td>\n",
       "      <td>0.0</td>\n",
       "      <td>16198.5</td>\n",
       "      <td>16198.5</td>\n",
       "      <td>0</td>\n",
       "      <td>1</td>\n",
       "      <td>0</td>\n",
       "      <td>21</td>\n",
       "      <td>(POLYGON ((37.3402777777778 20.77916666666669,...</td>\n",
       "    </tr>\n",
       "  </tbody>\n",
       "</table>\n",
       "</div>"
      ],
      "text/plain": [
       "   pfaf_id    hybas_id  next_down   next_sink    main_bas  dist_sink  \\\n",
       "0   111015  1060000160          0  1060000160  1060000160        0.0   \n",
       "1   111019  1060001090          0  1060001090  1060001090        0.0   \n",
       "2   111020  1060001370          0  1060001370  1060001370        0.0   \n",
       "3   111041  1060001510          0  1060001510  1060001510        0.0   \n",
       "4   111050  1060001520          0  1060001520  1060001520        0.0   \n",
       "\n",
       "   dist_main  sub_area  up_area  endo  coast  order  sort  \\\n",
       "0        0.0   16638.1  16638.1     0      1      0     5   \n",
       "1        0.0    6566.3   6566.3     0      1      0     9   \n",
       "2        0.0   11678.4  11678.5     0      0      1    10   \n",
       "3        0.0   13728.7  42400.1     0      0      1    12   \n",
       "4        0.0   16198.5  16198.5     0      1      0    21   \n",
       "\n",
       "                                                geom  \n",
       "0  (POLYGON ((34.00000000000003 26.62500000000002...  \n",
       "1  (POLYGON ((36.24444444444446 23.55833333333337...  \n",
       "2  (POLYGON ((35.14166666666669 22.58333333333336...  \n",
       "3  (POLYGON ((36.52916666666668 21.25000000000003...  \n",
       "4  (POLYGON ((37.3402777777778 20.77916666666669,...  "
      ]
     },
     "execution_count": 27,
     "metadata": {},
     "output_type": "execute_result"
    }
   ],
   "source": [
    "gdfFromSQL.head()"
   ]
  },
  {
   "cell_type": "code",
   "execution_count": 28,
   "metadata": {},
   "outputs": [
    {
     "data": {
      "text/plain": [
       "(16396, 14)"
      ]
     },
     "execution_count": 28,
     "metadata": {},
     "output_type": "execute_result"
    }
   ],
   "source": [
    "gdfFromSQL.shape"
   ]
  },
  {
   "cell_type": "code",
   "execution_count": 29,
   "metadata": {
    "collapsed": true
   },
   "outputs": [],
   "source": [
    "connection.close()"
   ]
  },
  {
   "cell_type": "code",
   "execution_count": 30,
   "metadata": {},
   "outputs": [
    {
     "name": "stdout",
     "output_type": "stream",
     "text": [
      "0:04:21.254325\n"
     ]
    }
   ],
   "source": [
    "end = datetime.datetime.now()\n",
    "elapsed = end - start\n",
    "print(elapsed)"
   ]
  }
 ],
 "metadata": {
  "kernelspec": {
   "display_name": "Python 35",
   "language": "python",
   "name": "python35"
  },
  "language_info": {
   "codemirror_mode": {
    "name": "ipython",
    "version": 3
   },
   "file_extension": ".py",
   "mimetype": "text/x-python",
   "name": "python",
   "nbconvert_exporter": "python",
   "pygments_lexer": "ipython3",
   "version": "3.5.4"
  }
 },
 "nbformat": 4,
 "nbformat_minor": 2
}
