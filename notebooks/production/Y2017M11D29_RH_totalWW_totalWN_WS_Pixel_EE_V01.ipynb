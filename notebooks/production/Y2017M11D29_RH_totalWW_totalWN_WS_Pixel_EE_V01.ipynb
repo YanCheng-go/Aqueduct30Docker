{
 "cells": [
  {
   "cell_type": "markdown",
   "metadata": {},
   "source": [
    "# Y2017M11D29_RH_totalWW_totalWN_WS_Pixel_EE_V01\n",
    "\n",
    "* Purpose of script: calculate total demand WW WN and water stress at pixel level\n",
    "* Kernel used: python27\n",
    "* Date created: 20171129 "
   ]
  },
  {
   "cell_type": "code",
   "execution_count": 1,
   "metadata": {},
   "outputs": [
    {
     "name": "stdout",
     "output_type": "stream",
     "text": [
      "('Y2017M11D29', 'UTC 15:06')\n"
     ]
    },
    {
     "data": {
      "text/plain": [
       "'2.7.13 |Continuum Analytics, Inc.| (default, Dec 20 2016, 23:09:15) \\n[GCC 4.4.7 20120313 (Red Hat 4.4.7-1)]'"
      ]
     },
     "execution_count": 1,
     "metadata": {},
     "output_type": "execute_result"
    }
   ],
   "source": [
    "import time, datetime, sys\n",
    "dateString = time.strftime(\"Y%YM%mD%d\")\n",
    "timeString = time.strftime(\"UTC %H:%M\")\n",
    "start = datetime.datetime.now()\n",
    "print(dateString,timeString)\n",
    "sys.version"
   ]
  },
  {
   "cell_type": "code",
   "execution_count": 2,
   "metadata": {
    "collapsed": true
   },
   "outputs": [],
   "source": [
    "EE_PATH = \"projects/WRI-Aquaduct/PCRGlobWB20V07\"\n",
    "\n",
    "SCRIPT_NAME = \"Y2017M11D29_RH_totalWW_totalWN_WS_Pixel_EE_V01\"\n",
    "\n",
    "OUTPUT_VERSION = 1\n",
    "\n",
    "DIMENSION5MIN = {}\n",
    "DIMENSION5MIN[\"x\"] = 4320\n",
    "DIMENSION5MIN[\"y\"] = 2160\n",
    "CRS = \"EPSG:4326\"\n",
    "\n",
    "MAXPIXELS =1e10\n"
   ]
  },
  {
   "cell_type": "code",
   "execution_count": 3,
   "metadata": {
    "collapsed": true
   },
   "outputs": [],
   "source": [
    "import ee\n",
    "import subprocess"
   ]
  },
  {
   "cell_type": "code",
   "execution_count": 4,
   "metadata": {
    "collapsed": true
   },
   "outputs": [],
   "source": [
    "ee.Initialize()"
   ]
  },
  {
   "cell_type": "code",
   "execution_count": 5,
   "metadata": {
    "collapsed": true
   },
   "outputs": [],
   "source": [
    "sectors = [\"PDom\",\"PInd\",\"PIrr\",\"PLiv\"]\n",
    "demandTypes = [\"WW\",\"WN\"]\n",
    "temporalResolutions = [\"year\",\"month\"]"
   ]
  },
  {
   "cell_type": "code",
   "execution_count": 6,
   "metadata": {
    "collapsed": true
   },
   "outputs": [],
   "source": [
    "dimensions = \"%sx%s\" %(DIMENSION5MIN[\"x\"],DIMENSION5MIN[\"y\"])"
   ]
  },
  {
   "cell_type": "code",
   "execution_count": 7,
   "metadata": {
    "collapsed": true
   },
   "outputs": [],
   "source": [
    "crsTransform = [\n",
    "                0.0833333309780367,\n",
    "                0,\n",
    "                -179.99999491255934,\n",
    "                0,\n",
    "                -0.0833333309780367,\n",
    "                90.00000254430942\n",
    "              ]"
   ]
  },
  {
   "cell_type": "code",
   "execution_count": 9,
   "metadata": {
    "collapsed": true
   },
   "outputs": [],
   "source": [
    "def createCollections(demandType,temporalResolution):\n",
    "    icId = \"global_historical_PTot%s_%s_millionm3_5min_1960_2014\" %(demandType,temporalResolution)\n",
    "    command = \"earthengine create collection %s/%s\" %(EE_PATH,icId) \n",
    "    result = subprocess.check_output(command,shell=True)\n",
    "    print(command,result)\n",
    "\n",
    "\n",
    "def totalDemand(year,month,demandType,temporalResolution):\n",
    "    print(year,temporalResolution,demandType)\n",
    "    d = {}\n",
    "    keys = []\n",
    "    properties = {\"indicator\":\"PTot%s\" %(demandType) ,\n",
    "                  \"temporal_range_max\": 2014,\n",
    "                  \"ingested_by\":\"RutgerHofste\",\n",
    "                  \"units\":\"millionm3\",\n",
    "                  \"temporal_resolution\":temporalResolution,\n",
    "                  \"exportdescription\":\"PTot%s_%sY%0.4dM%0.2d\" %(demandType,temporalResolution,year,month),\n",
    "                  \"temporal_range_min\":1960,\n",
    "                  \"month\": month,\n",
    "                  \"script_used\": SCRIPT_NAME,\n",
    "                  \"version\": OUTPUT_VERSION\n",
    "                 }\n",
    "    \n",
    "    \n",
    "    for sector in sectors:\n",
    "        \n",
    "        key = \"%s%s\" %(sector,demandType)\n",
    "        keys.append(key)\n",
    "        ic = ee.ImageCollection(\"%s/global_historical_%s%s_%s_millionm3_5min_1960_2014\" %(EE_PATH,sector,demandType,temporalResolution))\n",
    "        \n",
    "        if temporalResolution == \"year\":\n",
    "            image = ee.Image(ic.filter(ee.Filter.eq(\"year\",year)).first())\n",
    "        elif temporalResolution == \"month\":\n",
    "            image = ee.Image(ic.filter(ee.Filter.eq(\"year\",year)).filter(ee.Filter.eq(\"month\",month)).first())\n",
    "        else:\n",
    "            image = -9999\n",
    "        d[key] = image\n",
    "    \n",
    "    \n",
    "    totalImage = ee.Image(d[keys[0]].add(d[keys[1]]).add(d[keys[2]]).add(d[keys[3]]))\n",
    "    totalImage = totalImage.set(properties)\n",
    "    \n",
    "    description = \"PTot%s_%sY%0.4dM%0.2dV%0.2d\" %(demandType,temporalResolution,year,month,OUTPUT_VERSION)\n",
    "    assetID = \"%s/global_historical_PTot%s_%s_millionm3_5min_1960_2014/global_historical_PTot%s_%s_millionm3_5min_1960_2014Y%0.4dM%0.2d\" %(EE_PATH,demandType,temporalResolution,demandType,temporalResolution,year,month)\n",
    "\n",
    "    print(assetID)\n",
    "    \n",
    "    task = ee.batch.Export.image.toAsset(\n",
    "        image =  ee.Image(totalImage),\n",
    "        description = description,\n",
    "        assetId = assetID,\n",
    "        dimensions = dimensions,\n",
    "        crs = CRS,\n",
    "        crsTransform = crsTransform,\n",
    "        maxPixels = MAXPIXELS     \n",
    "    )\n",
    "    #task.start() \n",
    "    \n",
    "    \n",
    "    return d, totalImage\n",
    "    \n",
    "    "
   ]
  },
  {
   "cell_type": "code",
   "execution_count": 10,
   "metadata": {
    "collapsed": true
   },
   "outputs": [],
   "source": [
    "demandType = \"WW\"\n",
    "temporalResolution = \"month\"\n",
    "year = 2014\n",
    "month = 3"
   ]
  },
  {
   "cell_type": "code",
   "execution_count": 11,
   "metadata": {},
   "outputs": [
    {
     "ename": "NameError",
     "evalue": "global name 'subprocess' is not defined",
     "output_type": "error",
     "traceback": [
      "\u001b[0;31m---------------------------------------------------------------------------\u001b[0m",
      "\u001b[0;31mNameError\u001b[0m                                 Traceback (most recent call last)",
      "\u001b[0;32m<ipython-input-11-491d3d928e02>\u001b[0m in \u001b[0;36m<module>\u001b[0;34m()\u001b[0m\n\u001b[0;32m----> 1\u001b[0;31m \u001b[0mcreateCollections\u001b[0m\u001b[0;34m(\u001b[0m\u001b[0mdemandType\u001b[0m\u001b[0;34m,\u001b[0m\u001b[0mtemporalResolution\u001b[0m\u001b[0;34m)\u001b[0m\u001b[0;34m\u001b[0m\u001b[0m\n\u001b[0m",
      "\u001b[0;32m<ipython-input-9-5788a37c7322>\u001b[0m in \u001b[0;36mcreateCollections\u001b[0;34m(demandType, temporalResolution)\u001b[0m\n\u001b[1;32m      2\u001b[0m     \u001b[0micId\u001b[0m \u001b[0;34m=\u001b[0m \u001b[0;34m\"global_historical_PTot%s_%s_millionm3_5min_1960_2014\"\u001b[0m \u001b[0;34m%\u001b[0m\u001b[0;34m(\u001b[0m\u001b[0mdemandType\u001b[0m\u001b[0;34m,\u001b[0m\u001b[0mtemporalResolution\u001b[0m\u001b[0;34m)\u001b[0m\u001b[0;34m\u001b[0m\u001b[0m\n\u001b[1;32m      3\u001b[0m     \u001b[0mcommand\u001b[0m \u001b[0;34m=\u001b[0m \u001b[0;34m\"earthengine create collection %s/%s\"\u001b[0m \u001b[0;34m%\u001b[0m\u001b[0;34m(\u001b[0m\u001b[0mEE_PATH\u001b[0m\u001b[0;34m,\u001b[0m\u001b[0micId\u001b[0m\u001b[0;34m)\u001b[0m\u001b[0;34m\u001b[0m\u001b[0m\n\u001b[0;32m----> 4\u001b[0;31m     \u001b[0mresult\u001b[0m \u001b[0;34m=\u001b[0m \u001b[0msubprocess\u001b[0m\u001b[0;34m.\u001b[0m\u001b[0mcheck_output\u001b[0m\u001b[0;34m(\u001b[0m\u001b[0mcommand\u001b[0m\u001b[0;34m,\u001b[0m\u001b[0mshell\u001b[0m\u001b[0;34m=\u001b[0m\u001b[0mTrue\u001b[0m\u001b[0;34m)\u001b[0m\u001b[0;34m\u001b[0m\u001b[0m\n\u001b[0m\u001b[1;32m      5\u001b[0m     \u001b[0;32mprint\u001b[0m\u001b[0;34m(\u001b[0m\u001b[0mcommand\u001b[0m\u001b[0;34m,\u001b[0m\u001b[0mresult\u001b[0m\u001b[0;34m)\u001b[0m\u001b[0;34m\u001b[0m\u001b[0m\n\u001b[1;32m      6\u001b[0m \u001b[0;34m\u001b[0m\u001b[0m\n",
      "\u001b[0;31mNameError\u001b[0m: global name 'subprocess' is not defined"
     ]
    }
   ],
   "source": [
    "createCollections(demandType,temporalResolution)"
   ]
  },
  {
   "cell_type": "code",
   "execution_count": null,
   "metadata": {},
   "outputs": [],
   "source": [
    "d, totalImage = totalDemand(year,month,demandType,temporalResolution)"
   ]
  },
  {
   "cell_type": "code",
   "execution_count": null,
   "metadata": {},
   "outputs": [],
   "source": [
    "print(totalImage.getInfo())"
   ]
  },
  {
   "cell_type": "code",
   "execution_count": null,
   "metadata": {
    "collapsed": true
   },
   "outputs": [],
   "source": []
  }
 ],
 "metadata": {
  "kernelspec": {
   "display_name": "Python 27",
   "language": "python",
   "name": "python27"
  },
  "language_info": {
   "codemirror_mode": {
    "name": "ipython",
    "version": 2
   },
   "file_extension": ".py",
   "mimetype": "text/x-python",
   "name": "python",
   "nbconvert_exporter": "python",
   "pygments_lexer": "ipython2",
   "version": "2.7.13"
  }
 },
 "nbformat": 4,
 "nbformat_minor": 2
}
