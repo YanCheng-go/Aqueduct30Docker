{
 "cells": [
  {
   "cell_type": "markdown",
   "metadata": {},
   "source": [
    "# Y2017M11D29_RH_totalWW_totalWN_WS_Pixel_EE_V01\n",
    "\n",
    "* Purpose of script: calculate total demand WW WN and water stress at pixel level\n",
    "* Kernel used: python27\n",
    "* Date created: 20171129 "
   ]
  },
  {
   "cell_type": "code",
   "execution_count": 1,
   "metadata": {},
   "outputs": [
    {
     "name": "stdout",
     "output_type": "stream",
     "text": [
      "('Y2017M12D04', 'UTC 13:54')\n"
     ]
    },
    {
     "data": {
      "text/plain": [
       "'2.7.13 |Continuum Analytics, Inc.| (default, Dec 20 2016, 23:09:15) \\n[GCC 4.4.7 20120313 (Red Hat 4.4.7-1)]'"
      ]
     },
     "execution_count": 1,
     "metadata": {},
     "output_type": "execute_result"
    }
   ],
   "source": [
    "import time, datetime, sys\n",
    "dateString = time.strftime(\"Y%YM%mD%d\")\n",
    "timeString = time.strftime(\"UTC %H:%M\")\n",
    "start = datetime.datetime.now()\n",
    "print(dateString,timeString)\n",
    "sys.version"
   ]
  },
  {
   "cell_type": "code",
   "execution_count": 2,
   "metadata": {
    "collapsed": true
   },
   "outputs": [],
   "source": [
    "EE_PATH = \"projects/WRI-Aquaduct/PCRGlobWB20V07\"\n",
    "\n",
    "SCRIPT_NAME = \"Y2017M11D29_RH_totalWW_totalWN_WS_Pixel_EE_V01\"\n",
    "\n",
    "OUTPUT_VERSION = 2\n",
    "\n",
    "DIMENSION5MIN = \"4320x2160\"\n",
    "DIMENSION30S = \"43200x21600\"\n",
    "CRS = \"EPSG:4326\"\n",
    "\n",
    "MAXPIXELS =1e10\n",
    "\n",
    "YEARMIN = 1960\n",
    "YEARMAX = 2014"
   ]
  },
  {
   "cell_type": "code",
   "execution_count": 3,
   "metadata": {
    "collapsed": true
   },
   "outputs": [],
   "source": [
    "import ee\n",
    "import subprocess\n",
    "import pandas as pd\n",
    "import logging"
   ]
  },
  {
   "cell_type": "code",
   "execution_count": 4,
   "metadata": {
    "collapsed": true
   },
   "outputs": [],
   "source": [
    "ee.Initialize()"
   ]
  },
  {
   "cell_type": "code",
   "execution_count": 5,
   "metadata": {
    "collapsed": true
   },
   "outputs": [],
   "source": [
    "logger = logging.getLogger(__name__)\n",
    "logger.setLevel(logging.DEBUG)\n",
    "formatter = logging.Formatter('%(asctime)s:%(levelname)s:%(message)s')\n",
    "file_handler = logging.FileHandler(\"./logs/%sV%0.2d.log\" %(SCRIPT_NAME,OUTPUT_VERSION))\n",
    "file_handler.setFormatter(formatter)\n",
    "logger.addHandler(file_handler)"
   ]
  },
  {
   "cell_type": "code",
   "execution_count": 6,
   "metadata": {
    "collapsed": true
   },
   "outputs": [],
   "source": [
    "sectors = [\"PDom\",\"PInd\",\"PIrr\",\"PLiv\"]\n",
    "demandTypes = [\"WW\",\"WN\"]\n",
    "temporalResolutions = [\"year\",\"month\"]"
   ]
  },
  {
   "cell_type": "code",
   "execution_count": 7,
   "metadata": {
    "collapsed": true
   },
   "outputs": [],
   "source": [
    "crsTransform = [\n",
    "                0.0833333309780367,\n",
    "                0,\n",
    "                -179.99999491255934,\n",
    "                0,\n",
    "                -0.0833333309780367,\n",
    "                90.00000254430942\n",
    "              ]"
   ]
  },
  {
   "cell_type": "code",
   "execution_count": 13,
   "metadata": {
    "collapsed": true
   },
   "outputs": [],
   "source": [
    "def createCollections(demandType,temporalResolution):\n",
    "    icId = \"global_historical_PTot%s_%s_millionm3_5min_1960_2014\" %(demandType,temporalResolution)\n",
    "    command = \"earthengine create collection %s/%s\" %(EE_PATH,icId) \n",
    "    result = subprocess.check_output(command,shell=True)\n",
    "    print(command,result)\n",
    "\n",
    "def createCollectionsWS(temporalResolution):\n",
    "    icId = \"global_historical_WS_%s_dimensionless_5min_1960_2014\" %(temporalResolution)\n",
    "    command = \"earthengine create collection %s/%s\" %(EE_PATH,icId) \n",
    "    result = subprocess.check_output(command,shell=True)\n",
    "    print(command,result)    \n",
    "\n",
    "def existing(year,month,temporalResolution,demandType):\n",
    "    icID = \"%s/global_historical_PTot%s_%s_millionm3_5min_1960_2014\" %(EE_PATH,demandType,temporalResolution)\n",
    "    \n",
    "    assetID = \"%s/global_historical_PTot%s_%s_millionm3_5min_1960_2014/global_historical_PTot%s_%s_millionm3_5min_1960_2014Y%0.4dM%0.2d\" %(EE_PATH,demandType,temporalResolution,demandType,temporalResolution,year,month)\n",
    "    image = ee.Image(assetID)\n",
    "    try:\n",
    "        if image.id().getInfo():\n",
    "            exists = True\n",
    "    except:\n",
    "        exists = False\n",
    "    return exists\n",
    "\n",
    "\n",
    "def existingWS(year,month,temporalResolution):\n",
    "    icID = \"%s/global_historical_WS_%s_dimensionless_5min_1960_2014\" %(EE_PATH,temporalResolution)\n",
    "    \n",
    "    assetID = \"%s/global_historical_WS_%s_dimensionless_5min_1960_2014/global_historical_WS_%s_dimensionless_5min_1960_2014Y%0.4dM%0.2d\" %(EE_PATH,temporalResolution,temporalResolution,year,month)\n",
    "    image = ee.Image(assetID)\n",
    "    try:\n",
    "        if image.id().getInfo():\n",
    "            exists = True\n",
    "    except:\n",
    "        exists = False\n",
    "    return exists\n",
    "\n",
    "\n",
    "    \n",
    "def totalDemand(year,month,demandType,temporalResolution):\n",
    "    elapsed = datetime.datetime.now() - startLoop\n",
    "    print(year,month,demandType,temporalResolution)\n",
    "    print(elapsed)\n",
    "    d = {}\n",
    "    keys = []\n",
    "    properties = {\"indicator\":\"PTot%s\" %(demandType) ,\n",
    "                  \"temporal_range_max\": 2014,\n",
    "                  \"ingested_by\":\"RutgerHofste\",\n",
    "                  \"units\":\"millionm3\",\n",
    "                  \"temporal_resolution\":temporalResolution,\n",
    "                  \"exportdescription\":\"PTot%s_%sY%0.4dM%0.2d\" %(demandType,temporalResolution,year,month),\n",
    "                  \"temporal_range_min\":1960,\n",
    "                  \"month\": month,\n",
    "                  \"year\": year,\n",
    "                  \"demandType\":demandType,\n",
    "                  \"script_used\": SCRIPT_NAME,\n",
    "                  \"version\": OUTPUT_VERSION\n",
    "                 }\n",
    "    \n",
    "    \n",
    "    for sector in sectors:\n",
    "        \n",
    "        key = \"%s%s\" %(sector,demandType)\n",
    "        keys.append(key)\n",
    "        ic = ee.ImageCollection(\"%s/global_historical_%s%s_%s_millionm3_5min_1960_2014\" %(EE_PATH,sector,demandType,temporalResolution))\n",
    "        \n",
    "        if temporalResolution == \"year\":\n",
    "            image = ee.Image(ic.filter(ee.Filter.eq(\"year\",year)).first())\n",
    "        elif temporalResolution == \"month\":\n",
    "            image = ee.Image(ic.filter(ee.Filter.eq(\"year\",year)).filter(ee.Filter.eq(\"month\",month)).first())\n",
    "        else:\n",
    "            image = -9999\n",
    "        d[key] = image\n",
    "    \n",
    "    \n",
    "    totalImage = ee.Image(d[keys[0]].add(d[keys[1]]).add(d[keys[2]]).add(d[keys[3]]))\n",
    "    totalImage = totalImage.set(properties)\n",
    "    \n",
    "    description = \"PTot%s_%sY%0.4dM%0.2dV%0.2d\" %(demandType,temporalResolution,year,month,OUTPUT_VERSION)\n",
    "    assetID = \"%s/global_historical_PTot%s_%s_millionm3_5min_1960_2014/global_historical_PTot%s_%s_millionm3_5min_1960_2014Y%0.4dM%0.2d\" %(EE_PATH,demandType,temporalResolution,demandType,temporalResolution,year,month)\n",
    "    \n",
    "    task = ee.batch.Export.image.toAsset(\n",
    "        image =  ee.Image(totalImage),\n",
    "        description = description,\n",
    "        assetId = assetID,\n",
    "        dimensions = DIMENSION5MIN,\n",
    "        crs = CRS,\n",
    "        crsTransform = crsTransform,\n",
    "        maxPixels = MAXPIXELS     \n",
    "    )\n",
    "    task.start() \n",
    "    \n",
    "    \n",
    "def waterStressUncapped(year,month,temporalResolution):\n",
    "    d = {}\n",
    "    keys = []\n",
    "    properties = {\"indicator\":\"WS5min\" ,\n",
    "                  \"temporal_range_max\": 2014,\n",
    "                  \"ingested_by\":\"RutgerHofste\",\n",
    "                  \"units\":\"dimensionless\",\n",
    "                  \"temporal_resolution\":temporalResolution,\n",
    "                  \"exportdescription\":\"WS5min_%sY%0.4dM%0.2d\" %(temporalResolution,year,month),\n",
    "                  \"temporal_range_min\":1960,\n",
    "                  \"month\": month,\n",
    "                  \"year\": year,\n",
    "                  \"script_used\": SCRIPT_NAME,\n",
    "                  \"version\": OUTPUT_VERSION\n",
    "                 }\n",
    "    \n",
    "    icWW = ee.ImageCollection(\"%s/global_historical_PTotWW_%s_millionm3_5min_1960_2014\" %(EE_PATH,temporalResolution))\n",
    "    icDischarge = ee.ImageCollection(\"%s/global_historical_riverdischarge_%s_millionm3_5min_1960_2014\" %(EE_PATH,temporalResolution))\n",
    "\n",
    "    if temporalResolution == \"year\":\n",
    "        imageWW = ee.Image(icWW.filter(ee.Filter.eq(\"year\",year)).first())\n",
    "        imageDischarge = ee.Image(icDischarge.filter(ee.Filter.eq(\"year\",year)).first())\n",
    "        image = imageWW.divide(imageDischarge)\n",
    "    elif temporalResolution == \"month\":\n",
    "        imageWW = ee.Image(icWW.filter(ee.Filter.eq(\"year\",year)).filter(ee.Filter.eq(\"month\",month)).first())\n",
    "        imageDischarge = ee.Image(icDischarge.filter(ee.Filter.eq(\"year\",year)).filter(ee.Filter.eq(\"month\",month)).first())\n",
    "        image = imageWW.divide(imageDischarge)\n",
    "    else:\n",
    "        image = -9999\n",
    "        \n",
    "    image = image.set(properties)\n",
    "    description = \"WS_%sY%0.4dM%0.2dV%0.2d\" %(temporalResolution,year,month,OUTPUT_VERSION)\n",
    "    assetID = \"%s/global_historical_WS_%s_dimensionless_5min_1960_2014/global_historical_WS_%s_dimensionless_5min_1960_2014Y%0.4dM%0.2d\" %(EE_PATH,temporalResolution,temporalResolution,year,month)\n",
    "\n",
    "    task = ee.batch.Export.image.toAsset(\n",
    "        image =  ee.Image(image),\n",
    "        description = description,\n",
    "        assetId = assetID,\n",
    "        dimensions = DIMENSION5MIN,\n",
    "        crs = CRS,\n",
    "        crsTransform = crsTransform,\n",
    "        maxPixels = MAXPIXELS     \n",
    "    )\n",
    "    task.start()"
   ]
  },
  {
   "cell_type": "code",
   "execution_count": null,
   "metadata": {
    "collapsed": true
   },
   "outputs": [],
   "source": [
    "for demandType in demandTypes:\n",
    "    for temporalResolution in temporalResolutions:\n",
    "        createCollections(demandType,temporalResolution)"
   ]
  },
  {
   "cell_type": "markdown",
   "metadata": {},
   "source": [
    "Earth Engine sometimes encounters internal server issues. Running this loop 2-3 times until the size of the imageCollections is the same as the input. "
   ]
  },
  {
   "cell_type": "code",
   "execution_count": null,
   "metadata": {
    "collapsed": true
   },
   "outputs": [],
   "source": [
    "startLoop = datetime.datetime.now()\n",
    "for demandType in demandTypes:\n",
    "    for temporalResolution in temporalResolutions:\n",
    "        try:            \n",
    "            if temporalResolution == \"year\":\n",
    "                month = 12\n",
    "                for year in range(YEARMIN,YEARMAX+1):\n",
    "                    if existing(year,month,temporalResolution,demandType):\n",
    "                        logger.debug(\"exists %0.4d %0.2d %s %s\" %(year,month,temporalResolution,demandType))\n",
    "                    else: \n",
    "                        logger.debug(\"exists %0.4d %0.2d %s %s\" %(year,month,temporalResolution,demandType))\n",
    "                        totalDemand(year,month,demandType,temporalResolution)\n",
    "            elif temporalResolution == \"month\":\n",
    "                for year in range(YEARMIN,YEARMAX+1): \n",
    "                    for month in range(1,13):\n",
    "                        if existing(year,month,temporalResolution,demandType):\n",
    "                            pass\n",
    "                            logger.debug(\"exists %0.4d %0.2d %s %s\" %(year,month,temporalResolution,demandType))\n",
    "                        else:\n",
    "                            logger.debug(\"exists %0.4d %0.2d %s %s\" %(year,month,temporalResolution,demandType))\n",
    "                            totalDemand(year,month,demandType,temporalResolution)\n",
    "        except:\n",
    "            logger.error(\"error\")"
   ]
  },
  {
   "cell_type": "markdown",
   "metadata": {},
   "source": [
    "### Water Stress at Pixel level"
   ]
  },
  {
   "cell_type": "code",
   "execution_count": 14,
   "metadata": {},
   "outputs": [
    {
     "name": "stdout",
     "output_type": "stream",
     "text": [
      "('earthengine create collection projects/WRI-Aquaduct/PCRGlobWB20V07/global_historical_WS5min_year_millionm3_5min_1960_2014', 'Asset projects/WRI-Aquaduct/PCRGlobWB20V07/global_historical_WS5min_year_millionm3_5min_1960_2014 already exists\\n')\n"
     ]
    }
   ],
   "source": [
    "for temporalResolution in temporalResolutions:\n",
    "    createCollectionsWS(temporalResolution)"
   ]
  },
  {
   "cell_type": "code",
   "execution_count": 16,
   "metadata": {
    "collapsed": true
   },
   "outputs": [],
   "source": [
    "startLoop = datetime.datetime.now()\n",
    "for temporalResolution in temporalResolutions:\n",
    "    try:\n",
    "        if temporalResolution == \"year\":\n",
    "            month = 12\n",
    "            for year in range(YEARMIN,YEARMAX+1):\n",
    "                if existingWS(year,month,temporalResolution):\n",
    "                    logger.debug(\"exists %0.4d %0.2d %s\" %(year,month,temporalResolution))\n",
    "\n",
    "                else:\n",
    "                    waterStressUncapped(year,month,temporalResolution)\n",
    "                    logger.debug(\"exists %0.4d %0.2d %s\" %(year,month,temporalResolution))\n",
    "        elif temporalResolution == \"month\":\n",
    "            for year in range(YEARMIN,YEARMAX+1): \n",
    "                for month in range(1,13):\n",
    "                    if existingWS(year,month,temporalResolution):\n",
    "                        logger.debug(\"exists %0.4d %0.2d %s\" %(year,month,temporalResolution))\n",
    "\n",
    "                    else:\n",
    "                        waterStressUncapped(year,month,temporalResolution)\n",
    "                        logger.debug(\"exists %0.4d %0.2d %s\" %(year,month,temporalResolution))\n",
    "    except:\n",
    "        logger.exception(\"error  %0.4d %0.2d %s\" %(year,month,temporalResolution))"
   ]
  },
  {
   "cell_type": "code",
   "execution_count": null,
   "metadata": {
    "collapsed": true
   },
   "outputs": [],
   "source": []
  },
  {
   "cell_type": "code",
   "execution_count": null,
   "metadata": {
    "collapsed": true
   },
   "outputs": [],
   "source": [
    "end = datetime.datetime.now()\n",
    "elapsed = end - start\n",
    "print(elapsed)"
   ]
  }
 ],
 "metadata": {
  "kernelspec": {
   "display_name": "Python 27",
   "language": "python",
   "name": "python27"
  },
  "language_info": {
   "codemirror_mode": {
    "name": "ipython",
    "version": 2
   },
   "file_extension": ".py",
   "mimetype": "text/x-python",
   "name": "python",
   "nbconvert_exporter": "python",
   "pygments_lexer": "ipython2",
   "version": "2.7.13"
  }
 },
 "nbformat": 4,
 "nbformat_minor": 2
}
