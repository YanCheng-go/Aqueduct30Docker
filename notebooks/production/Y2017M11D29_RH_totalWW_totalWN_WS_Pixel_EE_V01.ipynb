{
 "cells": [
  {
   "cell_type": "markdown",
   "metadata": {},
   "source": [
    "# Y2017M11D29_RH_totalWW_totalWN_WS_Pixel_EE_V01\n",
    "\n",
    "* Purpose of script: calculate total demand WW WN and water stress at pixel level\n",
    "* Kernel used: python27\n",
    "* Date created: 20171129 "
   ]
  },
  {
   "cell_type": "code",
   "execution_count": 1,
   "metadata": {},
   "outputs": [
    {
     "name": "stdout",
     "output_type": "stream",
     "text": [
      "('Y2017M11D29', 'UTC 13:13')\n"
     ]
    },
    {
     "data": {
      "text/plain": [
       "'2.7.13 |Continuum Analytics, Inc.| (default, Dec 20 2016, 23:09:15) \\n[GCC 4.4.7 20120313 (Red Hat 4.4.7-1)]'"
      ]
     },
     "execution_count": 1,
     "metadata": {},
     "output_type": "execute_result"
    }
   ],
   "source": [
    "import time, datetime, sys\n",
    "dateString = time.strftime(\"Y%YM%mD%d\")\n",
    "timeString = time.strftime(\"UTC %H:%M\")\n",
    "start = datetime.datetime.now()\n",
    "print(dateString,timeString)\n",
    "sys.version"
   ]
  },
  {
   "cell_type": "code",
   "execution_count": 80,
   "metadata": {
    "collapsed": true
   },
   "outputs": [],
   "source": [
    "EE_PATH = \"projects/WRI-Aquaduct/PCRGlobWB20V07\"\n",
    "\n",
    "SCRIPT_NAME = \"Y2017M11D29_RH_totalWW_totalWN_WS_Pixel_EE_V01\"\n",
    "\n",
    "OUTPUT_VERSION = 1"
   ]
  },
  {
   "cell_type": "code",
   "execution_count": 3,
   "metadata": {
    "collapsed": true
   },
   "outputs": [],
   "source": [
    "import ee"
   ]
  },
  {
   "cell_type": "code",
   "execution_count": 4,
   "metadata": {
    "collapsed": true
   },
   "outputs": [],
   "source": [
    "ee.Initialize()"
   ]
  },
  {
   "cell_type": "code",
   "execution_count": 71,
   "metadata": {
    "collapsed": true
   },
   "outputs": [],
   "source": [
    "sectors = [\"PDom\",\"PInd\",\"PIrr\",\"PLiv\"]\n",
    "demandTypes = [\"WW\",\"WN\"]\n",
    "temporalResolutions = [\"year\",\"month\"]"
   ]
  },
  {
   "cell_type": "code",
   "execution_count": 81,
   "metadata": {},
   "outputs": [],
   "source": [
    "\n",
    "def totalDemand(year,month,demandType,temporalResolution):\n",
    "    print(year,temporalResolution,demandType)\n",
    "    d = {}\n",
    "    keys = []\n",
    "    properties = {\"indicator\":\"PTot%s\" %(demandType) ,\n",
    "                  \"temporal_range_max\": 2014,\n",
    "                  \"ingested_by\":\"RutgerHofste\",\n",
    "                  \"units\":\"millionm3\",\n",
    "                  \"temporal_resolution\":temporalResolution,\n",
    "                  \"exportdescription\":\"PTot%s_%sY%0.4dM%0.2d\" %(demandType,temporalResolution,year,month),\n",
    "                  \"temporal_range_min\":1960,\n",
    "                  \"month\": month,\n",
    "                  \"script_used\": SCRIPT_NAME,\n",
    "                  \"version\": OUTPUT_VERSION\n",
    "                 }\n",
    "    \n",
    "    \n",
    "    for sector in sectors:\n",
    "        \n",
    "        key = \"%s%s\" %(sector,demandType)\n",
    "        keys.append(key)\n",
    "        ic = ee.ImageCollection(\"%s/global_historical_%s%s_%s_millionm3_5min_1960_2014\" %(EE_PATH,sector,demandType,temporalResolution))\n",
    "        \n",
    "        if temporalResolution == \"year\":\n",
    "            image = ee.Image(ic.filter(ee.Filter.eq(\"year\",year)).first())\n",
    "        elif temporalResolution == \"month\":\n",
    "            image = ee.Image(ic.filter(ee.Filter.eq(\"year\",year)).filter(ee.Filter.eq(\"month\",month)).first())\n",
    "        else:\n",
    "            image = -9999\n",
    "        d[key] = image\n",
    "    \n",
    "    \n",
    "    totalImage = ee.Image(d[keys[0]].add(d[keys[1]]).add(d[keys[2]]).add(d[keys[3]]))\n",
    "    totalImage = totalImage.set(properties)\n",
    "    \n",
    "    \n",
    "    \n",
    "    return d, totalImage\n",
    "    \n",
    "    "
   ]
  },
  {
   "cell_type": "code",
   "execution_count": 82,
   "metadata": {
    "collapsed": true
   },
   "outputs": [],
   "source": [
    "demandType = \"WW\"\n",
    "temporalResolution = \"month\"\n",
    "year = 2014\n",
    "month = 3"
   ]
  },
  {
   "cell_type": "code",
   "execution_count": 83,
   "metadata": {},
   "outputs": [
    {
     "name": "stdout",
     "output_type": "stream",
     "text": [
      "(2014, 'month', 'WW')\n"
     ]
    }
   ],
   "source": [
    "d, totalImage = totalDemand(year,month,demandType,temporalResolution)"
   ]
  },
  {
   "cell_type": "code",
   "execution_count": 84,
   "metadata": {},
   "outputs": [
    {
     "name": "stdout",
     "output_type": "stream",
     "text": [
      "{u'bands': [{u'crs': u'EPSG:4326', u'crs_transform': [0.0833333309780367, 0.0, -179.99999491255934, 0.0, -0.0833333309780367, 90.00000254430942], u'id': u'b1', u'data_type': {u'type': u'PixelType', u'precision': u'float'}}], u'type': u'Image', u'properties': {u'ingested_by': u'RutgerHofste', u'exportdescription': u'PTotWW_monthY2014M03', u'indicator': u'PTotWW', u'month': 3, u'script_used': u'Y2017M11D29_RH_totalWW_totalWN_WS_Pixel_EE_V01', u'temporal_resolution': u'month', u'version': 1, u'temporal_range_min': 1960, u'units': u'millionm3', u'temporal_range_max': 2014}}\n"
     ]
    }
   ],
   "source": [
    "print(totalImage.getInfo())"
   ]
  },
  {
   "cell_type": "code",
   "execution_count": null,
   "metadata": {
    "collapsed": true
   },
   "outputs": [],
   "source": []
  }
 ],
 "metadata": {
  "kernelspec": {
   "display_name": "Python 27",
   "language": "python",
   "name": "python27"
  },
  "language_info": {
   "codemirror_mode": {
    "name": "ipython",
    "version": 2
   },
   "file_extension": ".py",
   "mimetype": "text/x-python",
   "name": "python",
   "nbconvert_exporter": "python",
   "pygments_lexer": "ipython2",
   "version": "2.7.13"
  }
 },
 "nbformat": 4,
 "nbformat_minor": 2
}
