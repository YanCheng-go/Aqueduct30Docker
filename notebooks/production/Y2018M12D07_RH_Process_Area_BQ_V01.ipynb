{
 "cells": [
  {
   "cell_type": "code",
   "execution_count": 1,
   "metadata": {},
   "outputs": [
    {
     "name": "stdout",
     "output_type": "stream",
     "text": [
      "S3_INPUT_PATH:  s3://wri-projects/Aqueduct30/processData/Y2018M12D07_RH_Master_Area_V01/steps/step02_area \n",
      "ec2_input_path:  /volumes/data/Y2018M12D07_RH_Process_Area_BQ_V01/input_V01 \n",
      "ec2_output_path:  /volumes/data/Y2018M12D07_RH_Process_Area_BQ_V01/output_V01 \n",
      "BQ_OUTPUT_DATASET_NAME:  aqueduct30v01 \n",
      "BQ_OUTPUT_TABLE_NAME:  y2018m12d07_rh_process_area_bq_v01_v01\n"
     ]
    }
   ],
   "source": [
    "\"\"\" Process and upload areas of master shapefile to BigQuery.\n",
    "-------------------------------------------------------------------------------\n",
    "\n",
    "Areas in the previous step have been calculated in ArcMap in an Eckert IV\n",
    "projection. \n",
    "\n",
    "\n",
    "Author: Rutger Hofste\n",
    "Date: 20181206\n",
    "Kernel: python35\n",
    "Docker: rutgerhofste/gisdocker:ubuntu16.04\n",
    "\n",
    "\"\"\"\n",
    "SCRIPT_NAME = \"Y2018M12D07_RH_Process_Area_BQ_V01\"\n",
    "OUTPUT_VERSION = 1\n",
    "\n",
    "S3_INPUT_PATH = \"s3://wri-projects/Aqueduct30/processData/Y2018M12D07_RH_Master_Area_V01/steps/step02_area\"\n",
    "INPUT_FILE_NAME = \"Y2018M12D06_RH_Master_Shape_Eckert4_V01.csv\"\n",
    "\n",
    "BQ_PROJECT_ID = \"aqueduct30\"\n",
    "BQ_OUTPUT_DATASET_NAME = \"aqueduct30v01\"\n",
    "BQ_OUTPUT_TABLE_NAME = \"{}_v{:02.0f}\".format(SCRIPT_NAME,OUTPUT_VERSION).lower()\n",
    "\n",
    "ec2_input_path = \"/volumes/data/{}/input_V{:02.0f}\".format(SCRIPT_NAME,OUTPUT_VERSION) \n",
    "ec2_output_path = \"/volumes/data/{}/output_V{:02.0f}\".format(SCRIPT_NAME,OUTPUT_VERSION) \n",
    "\n",
    "print(\"S3_INPUT_PATH: \",S3_INPUT_PATH,\n",
    "      \"\\nec2_input_path: \",ec2_input_path,\n",
    "      \"\\nec2_output_path: \",ec2_output_path,\n",
    "      \"\\nBQ_OUTPUT_DATASET_NAME: \", BQ_OUTPUT_DATASET_NAME,\n",
    "      \"\\nBQ_OUTPUT_TABLE_NAME: \",BQ_OUTPUT_TABLE_NAME\n",
    "      )"
   ]
  },
  {
   "cell_type": "code",
   "execution_count": 2,
   "metadata": {},
   "outputs": [
    {
     "name": "stdout",
     "output_type": "stream",
     "text": [
      "Y2018M12D07 UTC 16:20\n"
     ]
    },
    {
     "data": {
      "text/plain": [
       "'3.5.4 |Anaconda, Inc.| (default, Nov 20 2017, 18:44:38) \\n[GCC 7.2.0]'"
      ]
     },
     "execution_count": 2,
     "metadata": {},
     "output_type": "execute_result"
    }
   ],
   "source": [
    "import time, datetime, sys\n",
    "dateString = time.strftime(\"Y%YM%mD%d\")\n",
    "timeString = time.strftime(\"UTC %H:%M\")\n",
    "start = datetime.datetime.now()\n",
    "print(dateString,timeString)\n",
    "sys.version"
   ]
  },
  {
   "cell_type": "code",
   "execution_count": 3,
   "metadata": {},
   "outputs": [
    {
     "name": "stdout",
     "output_type": "stream",
     "text": [
      "rm: cannot remove '/volumes/data/Y2018M12D07_RH_Process_Area_BQ_V01/input_V01': No such file or directory\n",
      "rm: cannot remove '/volumes/data/Y2018M12D07_RH_Process_Area_BQ_V01/output_V01': No such file or directory\n"
     ]
    }
   ],
   "source": [
    "!rm -r {ec2_input_path}\n",
    "!rm -r {ec2_output_path}\n",
    "!mkdir -p {ec2_input_path}\n",
    "!mkdir -p {ec2_output_path}"
   ]
  },
  {
   "cell_type": "code",
   "execution_count": 4,
   "metadata": {},
   "outputs": [
    {
     "name": "stdout",
     "output_type": "stream",
     "text": [
      "download: s3://wri-projects/Aqueduct30/processData/Y2018M12D07_RH_Master_Area_V01/steps/step02_area/Y2018M12D06_RH_Master_Shape_Eckert4_V01.cpg to ../../../../data/Y2018M12D07_RH_Process_Area_BQ_V01/input_V01/Y2018M12D06_RH_Master_Shape_Eckert4_V01.cpg\n",
      "download: s3://wri-projects/Aqueduct30/processData/Y2018M12D07_RH_Master_Area_V01/steps/step02_area/Y2018M12D06_RH_Master_Shape_Eckert4_V01.prj to ../../../../data/Y2018M12D07_RH_Process_Area_BQ_V01/input_V01/Y2018M12D06_RH_Master_Shape_Eckert4_V01.prj\n",
      "download: s3://wri-projects/Aqueduct30/processData/Y2018M12D07_RH_Master_Area_V01/steps/step02_area/Y2018M12D06_RH_Master_Shape_Eckert4_V01.shp.xml to ../../../../data/Y2018M12D07_RH_Process_Area_BQ_V01/input_V01/Y2018M12D06_RH_Master_Shape_Eckert4_V01.shp.xml\n",
      "download: s3://wri-projects/Aqueduct30/processData/Y2018M12D07_RH_Master_Area_V01/steps/step02_area/Y2018M12D06_RH_Master_Shape_Eckert4_V01.sbx to ../../../../data/Y2018M12D07_RH_Process_Area_BQ_V01/input_V01/Y2018M12D06_RH_Master_Shape_Eckert4_V01.sbx\n",
      "download: s3://wri-projects/Aqueduct30/processData/Y2018M12D07_RH_Master_Area_V01/steps/step02_area/Y2018M12D06_RH_Master_Shape_Eckert4_V01.shx to ../../../../data/Y2018M12D07_RH_Process_Area_BQ_V01/input_V01/Y2018M12D06_RH_Master_Shape_Eckert4_V01.shx\n",
      "download: s3://wri-projects/Aqueduct30/processData/Y2018M12D07_RH_Master_Area_V01/steps/step02_area/Y2018M12D06_RH_Master_Shape_Eckert4_V01.sbn to ../../../../data/Y2018M12D07_RH_Process_Area_BQ_V01/input_V01/Y2018M12D06_RH_Master_Shape_Eckert4_V01.sbn\n",
      "download: s3://wri-projects/Aqueduct30/processData/Y2018M12D07_RH_Master_Area_V01/steps/step02_area/Y2018M12D06_RH_Master_Shape_Eckert4_V01.dbf to ../../../../data/Y2018M12D07_RH_Process_Area_BQ_V01/input_V01/Y2018M12D06_RH_Master_Shape_Eckert4_V01.dbf\n",
      "download: s3://wri-projects/Aqueduct30/processData/Y2018M12D07_RH_Master_Area_V01/steps/step02_area/Y2018M12D06_RH_Master_Shape_Eckert4_V01.csv to ../../../../data/Y2018M12D07_RH_Process_Area_BQ_V01/input_V01/Y2018M12D06_RH_Master_Shape_Eckert4_V01.csv\n",
      "download: s3://wri-projects/Aqueduct30/processData/Y2018M12D07_RH_Master_Area_V01/steps/step02_area/Y2018M12D06_RH_Master_Shape_Eckert4_V01.shp to ../../../../data/Y2018M12D07_RH_Process_Area_BQ_V01/input_V01/Y2018M12D06_RH_Master_Shape_Eckert4_V01.shp\n"
     ]
    }
   ],
   "source": [
    "!aws s3 cp {S3_INPUT_PATH} {ec2_input_path} --recursive "
   ]
  },
  {
   "cell_type": "code",
   "execution_count": 5,
   "metadata": {
    "collapsed": true
   },
   "outputs": [],
   "source": [
    "import os\n",
    "import pandas as pd\n",
    "import numpy as np\n",
    "from google.cloud import bigquery\n",
    "\n",
    "os.environ[\"GOOGLE_APPLICATION_CREDENTIALS\"] = \"/.google.json\"\n",
    "os.environ[\"GOOGLE_CLOUD_PROJECT\"] = \"aqueduct30\"\n",
    "client = bigquery.Client(project=BQ_PROJECT_ID)"
   ]
  },
  {
   "cell_type": "code",
   "execution_count": 6,
   "metadata": {
    "collapsed": true
   },
   "outputs": [],
   "source": [
    "input_path = \"{}/{}\".format(ec2_input_path,INPUT_FILE_NAME)"
   ]
  },
  {
   "cell_type": "code",
   "execution_count": 7,
   "metadata": {
    "collapsed": true
   },
   "outputs": [],
   "source": [
    "df = pd.read_csv(input_path)"
   ]
  },
  {
   "cell_type": "code",
   "execution_count": 8,
   "metadata": {},
   "outputs": [
    {
     "data": {
      "text/plain": [
       "string_id     object\n",
       "area_km2     float64\n",
       "dtype: object"
      ]
     },
     "execution_count": 8,
     "metadata": {},
     "output_type": "execute_result"
    }
   ],
   "source": [
    "df.dtypes"
   ]
  },
  {
   "cell_type": "code",
   "execution_count": 9,
   "metadata": {},
   "outputs": [
    {
     "data": {
      "text/html": [
       "<div>\n",
       "<style scoped>\n",
       "    .dataframe tbody tr th:only-of-type {\n",
       "        vertical-align: middle;\n",
       "    }\n",
       "\n",
       "    .dataframe tbody tr th {\n",
       "        vertical-align: top;\n",
       "    }\n",
       "\n",
       "    .dataframe thead th {\n",
       "        text-align: right;\n",
       "    }\n",
       "</style>\n",
       "<table border=\"1\" class=\"dataframe\">\n",
       "  <thead>\n",
       "    <tr style=\"text-align: right;\">\n",
       "      <th></th>\n",
       "      <th>string_id</th>\n",
       "      <th>area_km2</th>\n",
       "    </tr>\n",
       "  </thead>\n",
       "  <tbody>\n",
       "    <tr>\n",
       "      <th>0</th>\n",
       "      <td>111011-EGY.11_1-3365</td>\n",
       "      <td>4.223754</td>\n",
       "    </tr>\n",
       "    <tr>\n",
       "      <th>1</th>\n",
       "      <td>111011-EGY.15_1-3365</td>\n",
       "      <td>1846.012343</td>\n",
       "    </tr>\n",
       "    <tr>\n",
       "      <th>2</th>\n",
       "      <td>111011-EGY.15_1-None</td>\n",
       "      <td>30.526067</td>\n",
       "    </tr>\n",
       "    <tr>\n",
       "      <th>3</th>\n",
       "      <td>111011-None-3365</td>\n",
       "      <td>0.742712</td>\n",
       "    </tr>\n",
       "    <tr>\n",
       "      <th>4</th>\n",
       "      <td>111011-None-None</td>\n",
       "      <td>13.430995</td>\n",
       "    </tr>\n",
       "  </tbody>\n",
       "</table>\n",
       "</div>"
      ],
      "text/plain": [
       "              string_id     area_km2\n",
       "0  111011-EGY.11_1-3365     4.223754\n",
       "1  111011-EGY.15_1-3365  1846.012343\n",
       "2  111011-EGY.15_1-None    30.526067\n",
       "3      111011-None-3365     0.742712\n",
       "4      111011-None-None    13.430995"
      ]
     },
     "execution_count": 9,
     "metadata": {},
     "output_type": "execute_result"
    }
   ],
   "source": [
    "df.head()"
   ]
  },
  {
   "cell_type": "code",
   "execution_count": 10,
   "metadata": {
    "collapsed": true
   },
   "outputs": [],
   "source": [
    "destination_table = \"{}.{}\".format(BQ_OUTPUT_DATASET_NAME,BQ_OUTPUT_TABLE_NAME)"
   ]
  },
  {
   "cell_type": "code",
   "execution_count": 11,
   "metadata": {},
   "outputs": [
    {
     "name": "stderr",
     "output_type": "stream",
     "text": [
      "7it [00:26,  3.80s/it]\n"
     ]
    }
   ],
   "source": [
    "df.to_gbq(destination_table=destination_table,\n",
    "          project_id=BQ_PROJECT_ID,\n",
    "          chunksize=10000,\n",
    "          if_exists=\"replace\")"
   ]
  },
  {
   "cell_type": "code",
   "execution_count": 12,
   "metadata": {},
   "outputs": [
    {
     "name": "stdout",
     "output_type": "stream",
     "text": [
      "0:01:40.075823\n"
     ]
    }
   ],
   "source": [
    "end = datetime.datetime.now()\n",
    "elapsed = end - start\n",
    "print(elapsed)"
   ]
  },
  {
   "cell_type": "markdown",
   "metadata": {},
   "source": [
    "Previous runs:   \n",
    "0:01:40.075823\n"
   ]
  },
  {
   "cell_type": "code",
   "execution_count": null,
   "metadata": {
    "collapsed": true
   },
   "outputs": [],
   "source": []
  }
 ],
 "metadata": {
  "kernelspec": {
   "display_name": "Python 35",
   "language": "python",
   "name": "python35"
  },
  "language_info": {
   "codemirror_mode": {
    "name": "ipython",
    "version": 3
   },
   "file_extension": ".py",
   "mimetype": "text/x-python",
   "name": "python",
   "nbconvert_exporter": "python",
   "pygments_lexer": "ipython3",
   "version": "3.5.4"
  }
 },
 "nbformat": 4,
 "nbformat_minor": 2
}
