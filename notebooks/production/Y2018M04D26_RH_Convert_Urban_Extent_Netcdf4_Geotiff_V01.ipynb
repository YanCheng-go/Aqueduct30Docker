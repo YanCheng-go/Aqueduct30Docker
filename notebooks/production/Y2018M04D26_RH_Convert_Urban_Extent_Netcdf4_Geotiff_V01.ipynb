{
 "cells": [
  {
   "cell_type": "code",
   "execution_count": 1,
   "metadata": {},
   "outputs": [
    {
     "name": "stdout",
     "output_type": "stream",
     "text": [
      "Input S3: s3://wri-projects/Aqueduct30/rawData/WRI/PBL_urban_extents/\n",
      "Input ec2: /volumes/data/Y2018M04D26_RH_Convert_Urban_Extent_Netcdf4_Geotiff_V01/input_V01/\n",
      "Output ec2: /volumes/data/Y2018M04D26_RH_Convert_Urban_Extent_Netcdf4_Geotiff_V01/output_V03/\n",
      "Output S3: s3://wri-projects/Aqueduct30/processData/Y2018M04D26_RH_Convert_Urban_Extent_Netcdf4_Geotiff_V01/output_V03/\n",
      "Outut file path: /volumes/data/Y2018M04D26_RH_Convert_Urban_Extent_Netcdf4_Geotiff_V01/output_V03//exposure_base_2010_urb_V03.tif\n"
     ]
    }
   ],
   "source": [
    "\"\"\" Convert PBL netcdf4 to geotiff.\n",
    "-------------------------------------------------------------------------------\n",
    "Converts a netcdf4 file without time band to geotiff. Does not copy metadata.\n",
    "Script written for Samantha Kuzma.\n",
    "\n",
    "Author: Rutger Hofste\n",
    "Date: 20180426\n",
    "Kernel: python35\n",
    "Docker: rutgerhofste/gisdocker:ubuntu16.04\n",
    "\n",
    "Args:\n",
    "    SCRIPT_NAME (string) : Script name.\n",
    "    S3_INPUT_PATH (string) : Amazon S3 input path. \n",
    "    INPUT_VERSION (integer) : Input version.\n",
    "    INPUT_FILE_NAME (string) : Input file name.\n",
    "    OUTPUT_FILE_NAME (string) : Output file name\n",
    "    OUTPUT_VERSION (integer) : Output version.     \n",
    "    EXPORT_VARIABLE (string) : Variable to export. Must be of type Geo2D.\n",
    "Returns:\n",
    "\n",
    "Todo:\n",
    "replace score with underscre in soil moisture time-series. \n",
    "\n",
    "\"\"\"\n",
    "\n",
    "SCRIPT_NAME = \"Y2018M04D26_RH_Convert_Urban_Extent_Netcdf4_Geotiff_V01\"\n",
    "S3_INPUT_PATH = \"s3://wri-projects/Aqueduct30/rawData/WRI/PBL_urban_extents/\"\n",
    "INPUT_VERSION = 1\n",
    "INPUT_FILE_NAME = \"exposure_base_2010_urb.nc\"\n",
    "OUTPUT_FILE_NAME = \"exposure_base_2010_urb\"\n",
    "OUTPUT_VERSION = 3\n",
    "# Hardcode\n",
    "EXPORT_VARIABLE = \"Urban Land Use\"\n",
    "\n",
    "ec2_input_path = \"/volumes/data/{}/input_V{:02.0f}/\".format(SCRIPT_NAME,INPUT_VERSION)\n",
    "ec2_output_path = \"/volumes/data/{}/output_V{:02.0f}/\".format(SCRIPT_NAME,OUTPUT_VERSION)\n",
    "s3_output_path = \"s3://wri-projects/Aqueduct30/processData/{}/output_V{:02.0f}/\".format(SCRIPT_NAME,OUTPUT_VERSION)\n",
    "output_file_path = \"{}/{}_V{:02.0f}.tif\".format(ec2_output_path,OUTPUT_FILE_NAME,OUTPUT_VERSION)\n",
    "\n",
    "print(\"Input S3: \" + S3_INPUT_PATH +\n",
    "      \"\\nInput ec2: \" + ec2_input_path +\n",
    "      \"\\nOutput ec2: \" + ec2_output_path +\n",
    "      \"\\nOutput S3: \" + s3_output_path +\n",
    "      \"\\nOutut file path: \" + output_file_path)"
   ]
  },
  {
   "cell_type": "code",
   "execution_count": 2,
   "metadata": {},
   "outputs": [
    {
     "name": "stdout",
     "output_type": "stream",
     "text": [
      "Y2018M04D26 UTC 09:43\n"
     ]
    },
    {
     "data": {
      "text/plain": [
       "'3.5.4 |Anaconda, Inc.| (default, Nov 20 2017, 18:44:38) \\n[GCC 7.2.0]'"
      ]
     },
     "execution_count": 2,
     "metadata": {},
     "output_type": "execute_result"
    }
   ],
   "source": [
    "import time, datetime, sys\n",
    "dateString = time.strftime(\"Y%YM%mD%d\")\n",
    "timeString = time.strftime(\"UTC %H:%M\")\n",
    "start = datetime.datetime.now()\n",
    "print(dateString,timeString)\n",
    "sys.version"
   ]
  },
  {
   "cell_type": "code",
   "execution_count": 3,
   "metadata": {},
   "outputs": [
    {
     "name": "stdout",
     "output_type": "stream",
     "text": [
      "rm: cannot remove '/volumes/data/Y2018M04D26_RH_Convert_Urban_Extent_Netcdf4_Geotiff_V01/output_V03/': No such file or directory\n",
      "download: s3://wri-projects/Aqueduct30/rawData/WRI/PBL_urban_extents/exposure_base_2010_urb.nc to ../../../../data/Y2018M04D26_RH_Convert_Urban_Extent_Netcdf4_Geotiff_V01/input_V01/exposure_base_2010_urb.nc\n",
      "['comment', 'title', 'Conventions', 'source', 'references', 'summary', 'resolution', 'institution', 'history'] ['lat', 'lon'] ['lat', 'lon', 'projection', 'Urban Land Use']\n",
      "upload: ../../../../data/Y2018M04D26_RH_Convert_Urban_Extent_Netcdf4_Geotiff_V01/output_V03/exposure_base_2010_urb_V03.tif to s3://wri-projects/Aqueduct30/processData/Y2018M04D26_RH_Convert_Urban_Extent_Netcdf4_Geotiff_V01/output_V03/exposure_base_2010_urb_V03.tif\n"
     ]
    }
   ],
   "source": [
    "import numpy as np\n",
    "import aqueduct3\n",
    "import netCDF4\n",
    "from osgeo import gdal\n",
    "\n",
    "def etl():\n",
    "    !rm -r {ec2_input_path}\n",
    "    !rm -r {ec2_output_path}\n",
    "    !mkdir -p {ec2_input_path}\n",
    "    !mkdir -p {ec2_output_path}\n",
    "    !aws s3 cp {S3_INPUT_PATH} {ec2_input_path} --recursive\n",
    "\n",
    "\n",
    "def main():\n",
    "    etl()\n",
    "    input_file_path = \"{}/{}\".format(ec2_input_path,INPUT_FILE_NAME)\n",
    "    nc_fid = netCDF4.Dataset(input_file_path, 'r')\n",
    "    nc_attrs, nc_dims, nc_vars = aqueduct3.ncdump(nc_fid)\n",
    "    print(nc_attrs, nc_dims, nc_vars)\n",
    "    y_dimension = nc_fid.variables[\"lat\"].shape[0]\n",
    "    x_dimension = nc_fid.variables[\"lon\"].shape[0]\n",
    "    default_geotransform, default_geoprojection = aqueduct3.get_global_georeference(np.ones([y_dimension,x_dimension]))\n",
    "    Z = nc_fid.variables[EXPORT_VARIABLE][:,:]\n",
    "    Z = np.flipud(Z)\n",
    "    aqueduct3.write_geotiff(output_file_path,default_geotransform,default_geoprojection,Z,nodata_value=-9999,datatype=gdal.GDT_Int32)\n",
    "    !aws s3 cp {ec2_output_path} {s3_output_path} --recursive\n",
    "\n",
    "if __name__ == \"__main__\":\n",
    "    main()\n"
   ]
  },
  {
   "cell_type": "code",
   "execution_count": 4,
   "metadata": {},
   "outputs": [
    {
     "name": "stdout",
     "output_type": "stream",
     "text": [
      "0:01:12.703571\n"
     ]
    }
   ],
   "source": [
    "end = datetime.datetime.now()\n",
    "elapsed = end - start\n",
    "print(elapsed)"
   ]
  },
  {
   "cell_type": "markdown",
   "metadata": {},
   "source": [
    "Previous runs:    \n",
    "0:01:25.589867"
   ]
  }
 ],
 "metadata": {
  "kernelspec": {
   "display_name": "Python 35",
   "language": "python",
   "name": "python35"
  },
  "language_info": {
   "codemirror_mode": {
    "name": "ipython",
    "version": 3
   },
   "file_extension": ".py",
   "mimetype": "text/x-python",
   "name": "python",
   "nbconvert_exporter": "python",
   "pygments_lexer": "ipython3",
   "version": "3.5.4"
  }
 },
 "nbformat": 4,
 "nbformat_minor": 2
}
