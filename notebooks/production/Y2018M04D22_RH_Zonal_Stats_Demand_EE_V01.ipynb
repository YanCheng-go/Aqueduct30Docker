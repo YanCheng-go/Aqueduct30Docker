{
 "cells": [
  {
   "cell_type": "code",
   "execution_count": 1,
   "metadata": {},
   "outputs": [
    {
     "name": "stdout",
     "output_type": "stream",
     "text": [
      "Input ee zones: projects/WRI-Aquaduct/Y2018M04D20_RH_Ingest_HydroBasins_GCS_EE_V01/output_V01\n",
      "Input ee values: projects/WRI-Aquaduct/PCRGlobWB20V09\n",
      "Output gcs: gs://aqueduct30_v01/Y2018M04D22_RH_Zonal_Stats_Demand_EE_V01/output_V01/\n"
     ]
    }
   ],
   "source": [
    "\"\"\" Zonal statistics for basin demand. Export in table format.\n",
    "-------------------------------------------------------------------------------\n",
    "\n",
    "\n",
    "Demand data is provided in volumes (millionm3) at 5min resolution. \n",
    "\n",
    "Steps:\n",
    "    - Convert to flux at 5min.\n",
    "    - (under the hood) Convert to flux at 30s.\n",
    "    - Zonal stats for flux at 30s.\n",
    "\n",
    "\n",
    "\n",
    "\n",
    "\n",
    "Author: Rutger Hofste\n",
    "Date: 20180422\n",
    "Kernel: python35\n",
    "Docker: rutgerhofste/gisdocker:ubuntu16.04\n",
    "\n",
    "Args:\n",
    "\n",
    "    TESTING (boolean) : Testing mode. Uses a smaller geography if enabled.\n",
    "    \n",
    "    SCRIPT_NAME (string) : Script name.\n",
    "    EE_INPUT_ZONES_PATH (string) : earthengine input path for zones.\n",
    "    EE_INPUT_VALUES_PATH (string) : earthengine input path for value images.\n",
    "    INPUT_VERSION_ZONES (integer) : input version for zones images.\n",
    "    INPUT_VERSION_VALUES (integer) : input version for value images.\n",
    "    OUTPUT_VERSION (integer) : output version. \n",
    "    EXTRA_PROPERTIES (dictionary) : Extra properties to store in the resulting\n",
    "        pandas dataframe. \n",
    "    \n",
    "\n",
    "Returns:\n",
    "\n",
    "\n",
    "\"\"\"\n",
    "\n",
    "# Input Parameters\n",
    "TESTING = 1\n",
    "SCRIPT_NAME = \"Y2018M04D22_RH_Zonal_Stats_Demand_EE_V01\"\n",
    "\n",
    "EE_INPUT_ZONES_PATH = \"projects/WRI-Aquaduct/Y2018M04D20_RH_Ingest_HydroBasins_GCS_EE_V01/output_V01\"\n",
    "EE_INPUT_VALUES_PATH = \"projects/WRI-Aquaduct/PCRGlobWB20V09\"\n",
    "INPUT_VERSION_ZONES = 4\n",
    "\n",
    "OUTPUT_VERSION = 1\n",
    "\n",
    "SEPARATOR = \"_|-\"\n",
    "SCHEMA = [\"geographic_range\",\n",
    "     \"temporal_range\",\n",
    "     \"indicator\",\n",
    "     \"temporal_resolution\",\n",
    "     \"unit\",\n",
    "     \"spatial_resolution\",\n",
    "     \"temporal_range_min\",\n",
    "     \"temporal_range_max\"]\n",
    "\n",
    "# Output Parameters\n",
    "gcs_output_path = \"gs://aqueduct30_v01/{}/output_V{:02.0f}/\".format(SCRIPT_NAME,OUTPUT_VERSION)\n",
    "ec2_output_path = \"/volumes/data/{}/output_V{:02.0f}\".format(SCRIPT_NAME,OUTPUT_VERSION)\n",
    "s3_output_path = \"s3://wri-projects/Aqueduct30/processData/{}/output_V{:02.0f}\".format(SCRIPT_NAME,OUTPUT_VERSION)\n",
    "\n",
    "\n",
    "print(\"Input ee zones: \" +  EE_INPUT_ZONES_PATH +\n",
    "      \"\\nInput ee values: \" + EE_INPUT_VALUES_PATH +\n",
    "      \"\\nOutput gcs: \" + gcs_output_path)\n"
   ]
  },
  {
   "cell_type": "code",
   "execution_count": 2,
   "metadata": {},
   "outputs": [
    {
     "name": "stdout",
     "output_type": "stream",
     "text": [
      "Y2018M04D22 UTC 14:25\n"
     ]
    },
    {
     "data": {
      "text/plain": [
       "'3.5.4 |Anaconda, Inc.| (default, Nov 20 2017, 18:44:38) \\n[GCC 7.2.0]'"
      ]
     },
     "execution_count": 2,
     "metadata": {},
     "output_type": "execute_result"
    }
   ],
   "source": [
    "import time, datetime, sys\n",
    "dateString = time.strftime(\"Y%YM%mD%d\")\n",
    "timeString = time.strftime(\"UTC %H:%M\")\n",
    "start = datetime.datetime.now()\n",
    "print(dateString,timeString)\n",
    "sys.version"
   ]
  },
  {
   "cell_type": "code",
   "execution_count": 3,
   "metadata": {
    "collapsed": true
   },
   "outputs": [],
   "source": [
    "# Imports\n",
    "import pandas as pd\n",
    "import ee\n",
    "import aqueduct3\n",
    "ee.Initialize()"
   ]
  },
  {
   "cell_type": "code",
   "execution_count": 4,
   "metadata": {},
   "outputs": [],
   "source": [
    "!rm -r {ec2_output_path}\n",
    "!mkdir -p {ec2_output_path}"
   ]
  },
  {
   "cell_type": "code",
   "execution_count": 5,
   "metadata": {},
   "outputs": [
    {
     "name": "stdout",
     "output_type": "stream",
     "text": [
      "mean 30s 6 PDom WW year\n"
     ]
    },
    {
     "ename": "ValueError",
     "evalue": "not enough values to unpack (expected 2, got 1)",
     "output_type": "error",
     "traceback": [
      "\u001b[0;31m---------------------------------------\u001b[0m",
      "\u001b[0;31mValueError\u001b[0mTraceback (most recent call last)",
      "\u001b[0;32m<ipython-input-5-ab4cae3ec49e>\u001b[0m in \u001b[0;36m<module>\u001b[0;34m()\u001b[0m\n\u001b[1;32m     37\u001b[0m \u001b[0;34m\u001b[0m\u001b[0m\n\u001b[1;32m     38\u001b[0m \u001b[0;34m\u001b[0m\u001b[0m\n\u001b[0;32m---> 39\u001b[0;31m                             \u001b[0mdictje\u001b[0m \u001b[0;34m=\u001b[0m \u001b[0maqueduct3\u001b[0m\u001b[0;34m.\u001b[0m\u001b[0msplit_key\u001b[0m\u001b[0;34m(\u001b[0m\u001b[0mi_values_input_asset_id\u001b[0m\u001b[0;34m,\u001b[0m\u001b[0mSCHEMA\u001b[0m\u001b[0;34m,\u001b[0m\u001b[0mSEPARATOR\u001b[0m\u001b[0;34m)\u001b[0m\u001b[0;34m\u001b[0m\u001b[0m\n\u001b[0m\u001b[1;32m     40\u001b[0m                             \"\"\"\n\u001b[1;32m     41\u001b[0m                             \u001b[0mi_values\u001b[0m \u001b[0;34m=\u001b[0m \u001b[0mee\u001b[0m\u001b[0;34m.\u001b[0m\u001b[0mImage\u001b[0m\u001b[0;34m(\u001b[0m\u001b[0mi_values_input_asset_id\u001b[0m\u001b[0;34m)\u001b[0m\u001b[0;34m\u001b[0m\u001b[0m\n",
      "\u001b[0;32m/volumes/repos/Aqueduct30Docker/notebooks/production/aqueduct3.py\u001b[0m in \u001b[0;36msplit_key\u001b[0;34m(key, schema, separator)\u001b[0m\n\u001b[1;32m    493\u001b[0m         \u001b[0mnewkey\u001b[0m \u001b[0;34m=\u001b[0m \u001b[0mkey\u001b[0m\u001b[0;34m\u001b[0m\u001b[0m\n\u001b[1;32m    494\u001b[0m \u001b[0;34m\u001b[0m\u001b[0m\n\u001b[0;32m--> 495\u001b[0;31m     \u001b[0mprefix\u001b[0m\u001b[0;34m,\u001b[0m \u001b[0mextension\u001b[0m \u001b[0;34m=\u001b[0m \u001b[0mkey\u001b[0m\u001b[0;34m.\u001b[0m\u001b[0msplit\u001b[0m\u001b[0;34m(\u001b[0m\u001b[0;34m\".\"\u001b[0m\u001b[0;34m)\u001b[0m\u001b[0;34m\u001b[0m\u001b[0m\n\u001b[0m\u001b[1;32m    496\u001b[0m     \u001b[0mfile_name\u001b[0m \u001b[0;34m=\u001b[0m \u001b[0mprefix\u001b[0m\u001b[0;34m.\u001b[0m\u001b[0msplit\u001b[0m\u001b[0;34m(\u001b[0m\u001b[0;34m\"/\"\u001b[0m\u001b[0;34m)\u001b[0m\u001b[0;34m[\u001b[0m\u001b[0;34m-\u001b[0m\u001b[0;36m1\u001b[0m\u001b[0;34m]\u001b[0m\u001b[0;34m\u001b[0m\u001b[0m\n\u001b[1;32m    497\u001b[0m     \u001b[0;31m# The parameter is defined as the filename without the pcrglobwb id and\u001b[0m\u001b[0;34m\u001b[0m\u001b[0;34m\u001b[0m\u001b[0m\n",
      "\u001b[0;31mValueError\u001b[0m: not enough values to unpack (expected 2, got 1)"
     ]
    }
   ],
   "source": [
    "sectors = [\"PDom\",\"PInd\",\"PIrr\",\"PLiv\"]\n",
    "demand_types = [\"WW\",\"WN\"]\n",
    "temporal_resolutions = [\"year\",\"month\"]\n",
    "\n",
    "#spatial_resolutions = [\"5min\",\"30s\"]\n",
    "#pfaf_levels = [6,0]\n",
    "\n",
    "spatial_resolutions = [\"30s\"]\n",
    "pfaf_levels = [6]\n",
    "\n",
    "if TESTING:\n",
    "    sectors = [\"PDom\"]\n",
    "    demand_types = [\"WW\"]\n",
    "    temporal_resolutions = [\"year\"]\n",
    "    \n",
    "\n",
    "reducer_names = [\"mean\"]\n",
    "\n",
    "for reducer_name in reducer_names:\n",
    "    reducer = aqueduct3.earthengine.get_grouped_reducer(reducer_name)\n",
    "    \n",
    "    for spatial_resolution in spatial_resolutions:\n",
    "        crs_transform = aqueduct3.earthengine.get_crs_transform(spatial_resolution)\n",
    "\n",
    "        for pfaf_level in pfaf_levels:\n",
    "            \n",
    "            for sector in sectors:\n",
    "                for demand_type in demand_types:\n",
    "                    for temporal_resolution in temporal_resolutions:\n",
    "                        print(reducer_name,spatial_resolution,pfaf_level,sector,demand_type,temporal_resolution)\n",
    "                        i_zones_asset_id = \"{}/hybas_lev{:02.0f}_v1c_merged_fiona_{}_V{:02.0f}\".format(EE_INPUT_ZONES_PATH,pfaf_level,spatial_resolution,INPUT_VERSION_ZONES)\n",
    "                        ic_values_input_asset_id = \"{}/global_historical_{}{}_{}_m_5min_1960_2014\".format(EE_INPUT_VALUES_PATH,sector,demand_type,temporal_resolution)\n",
    "                        df = aqueduct3.earthengine.get_df_from_ic(ic_values_input_asset_id)\n",
    "                        \n",
    "                        for index, row in df.iterrows():\n",
    "                            i_values_input_asset_id = row[\"input_image_asset_id\"]\n",
    "                            \n",
    "                                                        \n",
    "                            dictje = aqueduct3.split_key(i_values_input_asset_id,SCHEMA,SEPARATOR)\n",
    "                            \"\"\"\n",
    "                            i_values = ee.Image(i_values_input_asset_id)\n",
    "                            \n",
    "                            total_image = ee.Image(i_values_asset_id).addBands(ee.Image(i_zones_asset_id))\n",
    "                            \n",
    "                            result_list = total_image.reduceRegion(geometry = geometry,\n",
    "                                            reducer= reducer,\n",
    "                                            crsTransform = crs_transform,\n",
    "                                            maxPixels=1e10\n",
    "                                            ).get(\"groups\")\n",
    "                            \"\"\"\n",
    "                            \n",
    "                        "
   ]
  },
  {
   "cell_type": "code",
   "execution_count": null,
   "metadata": {
    "collapsed": true
   },
   "outputs": [],
   "source": []
  },
  {
   "cell_type": "code",
   "execution_count": null,
   "metadata": {},
   "outputs": [],
   "source": [
    "df.loc[0][\"input_image_asset_id\"]"
   ]
  },
  {
   "cell_type": "code",
   "execution_count": null,
   "metadata": {
    "collapsed": true
   },
   "outputs": [],
   "source": [
    "end = datetime.datetime.now()\n",
    "elapsed = end - start\n",
    "print(elapsed)"
   ]
  },
  {
   "cell_type": "code",
   "execution_count": null,
   "metadata": {
    "collapsed": true
   },
   "outputs": [],
   "source": [
    "Previous runs:  \n",
    "0:24:15.930678    "
   ]
  }
 ],
 "metadata": {
  "kernelspec": {
   "display_name": "Python 35",
   "language": "python",
   "name": "python35"
  },
  "language_info": {
   "codemirror_mode": {
    "name": "ipython",
    "version": 3
   },
   "file_extension": ".py",
   "mimetype": "text/x-python",
   "name": "python",
   "nbconvert_exporter": "python",
   "pygments_lexer": "ipython3",
   "version": "3.5.4"
  }
 },
 "nbformat": 4,
 "nbformat_minor": 2
}
