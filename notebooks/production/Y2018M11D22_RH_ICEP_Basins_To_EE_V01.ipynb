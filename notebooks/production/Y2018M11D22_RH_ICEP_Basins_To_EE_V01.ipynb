{
 "cells": [
  {
   "cell_type": "code",
   "execution_count": 1,
   "metadata": {},
   "outputs": [
    {
     "name": "stdout",
     "output_type": "stream",
     "text": [
      "\n",
      "Input ec2: /volumes/data/Y2018M11D22_RH_ICEP_Basins_To_EE_V01/input_V01 \n",
      "Input s3 : s3://wri-projects/Aqueduct30/finalData/ICEP \n",
      "Output S3: s3://wri-projects/Aqueduct30/processData/Y2018M11D22_RH_ICEP_Basins_To_EE_V01/output_V01\n",
      "ee_output_path : projects/WRI-Aquaduct/Y2018M11D22_RH_ICEP_Basins_To_EE_V01/output_V01\n"
     ]
    }
   ],
   "source": [
    "\"\"\" Rasterize and store shape and raste ICEP data in earthengine and S3.\n",
    "-------------------------------------------------------------------------------\n",
    "\n",
    "Author: Rutger Hofste\n",
    "Date: 20181122\n",
    "Kernel: python35\n",
    "Docker: rutgerhofste/gisdocker:ubuntu16.04\n",
    "\n",
    "Args:\n",
    "    TESTING (Boolean) : Toggle testing case.\n",
    "    SCRIPT_\n",
    "    NAME (string) : Script name.\n",
    "    OUTPUT_VERSION (integer) : output version.\n",
    "    DATABASE_ENDPOINT (string) : RDS or postGreSQL endpoint.\n",
    "    DATABASE_NAME (string) : Database name.\n",
    "    TABLE_NAME_AREA_30SPFAF06 (string) : Table name used for areas. Must exist\n",
    "        on same database as used in rest of script.\n",
    "    S3_INPUT_PATH_RIVERDISCHARGE (string) : AWS S3 input path for \n",
    "        riverdischarge.    \n",
    "    S3_INPUT_PATH_DEMAND (string) : AWS S3 input path for \n",
    "        demand.     \n",
    "\n",
    "\"\"\"\n",
    "\n",
    "OVERWRITE_OUTPUT = 1\n",
    "\n",
    "SCRIPT_NAME = \"Y2018M11D22_RH_ICEP_Basins_To_EE_V01\"\n",
    "OUTPUT_VERSION = 1\n",
    "\n",
    "S3_INPUT_PATH = \"s3://wri-projects/Aqueduct30/finalData/ICEP\"\n",
    "\n",
    "\n",
    "GCS_OUTPUT_PATH = \"gs://aqueduct30_v01/{}/\".format(SCRIPT_NAME) \n",
    "\n",
    "X_DIMENSION_30S = 43200\n",
    "Y_DIMENSION_30S = 21600\n",
    "\n",
    "\n",
    "ec2_input_path = \"/volumes/data/{}/input_V{:02.0f}\".format(SCRIPT_NAME,OUTPUT_VERSION)\n",
    "ec2_output_path = \"/volumes/data/{}/output_V{:02.0f}\".format(SCRIPT_NAME,OUTPUT_VERSION)\n",
    "ee_output_path = \"projects/WRI-Aquaduct/{}/output_V{:02.0f}\".format(SCRIPT_NAME,OUTPUT_VERSION)\n",
    "\n",
    "s3_output_path = \"s3://wri-projects/Aqueduct30/processData/{}/output_V{:02.0f}\".format(SCRIPT_NAME,OUTPUT_VERSION)\n",
    "\n",
    "print(\"\\nInput ec2: \" + ec2_input_path,\n",
    "      \"\\nInput s3 : \" + S3_INPUT_PATH,\n",
    "      \"\\nOutput S3: \" + s3_output_path +\n",
    "      \"\\nee_output_path : \" + ee_output_path)\n"
   ]
  },
  {
   "cell_type": "code",
   "execution_count": 2,
   "metadata": {},
   "outputs": [
    {
     "name": "stdout",
     "output_type": "stream",
     "text": [
      "Y2018M11D22 UTC 16:22\n"
     ]
    },
    {
     "data": {
      "text/plain": [
       "'3.5.4 |Anaconda, Inc.| (default, Nov 20 2017, 18:44:38) \\n[GCC 7.2.0]'"
      ]
     },
     "execution_count": 2,
     "metadata": {},
     "output_type": "execute_result"
    }
   ],
   "source": [
    "import time, datetime, sys\n",
    "dateString = time.strftime(\"Y%YM%mD%d\")\n",
    "timeString = time.strftime(\"UTC %H:%M\")\n",
    "start = datetime.datetime.now()\n",
    "print(dateString,timeString)\n",
    "sys.version"
   ]
  },
  {
   "cell_type": "code",
   "execution_count": 3,
   "metadata": {
    "collapsed": true
   },
   "outputs": [],
   "source": [
    "!rm -r {ec2_input_path}\n",
    "!rm -r {ec2_output_path}\n",
    "!mkdir -p {ec2_input_path}\n",
    "!mkdir -p {ec2_output_path}\n",
    "!aws s3 cp {S3_INPUT_PATH} {ec2_input_path} --recursive --quiet\n",
    "!aws s3 cp {S3_INPUT_PATH} {ec2_output_path} --recursive --quiet"
   ]
  },
  {
   "cell_type": "code",
   "execution_count": 4,
   "metadata": {
    "collapsed": true
   },
   "outputs": [],
   "source": [
    "import os\n",
    "import subprocess"
   ]
  },
  {
   "cell_type": "code",
   "execution_count": 5,
   "metadata": {
    "collapsed": true
   },
   "outputs": [],
   "source": [
    "files = os.listdir(ec2_input_path)"
   ]
  },
  {
   "cell_type": "code",
   "execution_count": 6,
   "metadata": {
    "collapsed": true
   },
   "outputs": [],
   "source": [
    "# Rasterize ICEPBasinid's"
   ]
  },
  {
   "cell_type": "code",
   "execution_count": 7,
   "metadata": {},
   "outputs": [
    {
     "data": {
      "text/plain": [
       "['icep.tif.ovr',\n",
       " 'icep_results.dbf',\n",
       " 'icep_results.csv',\n",
       " 'icep_results.shp.xml',\n",
       " 'icep.tif.xml',\n",
       " 'icep_results.shx',\n",
       " 'icep_results.sbx',\n",
       " 'icep_results.shp',\n",
       " 'icep_results.cpg',\n",
       " 'README.txt',\n",
       " 'wri_aqueduct3_ICEP.py',\n",
       " 'icep_results.prj',\n",
       " 'icep_results.sbn',\n",
       " 'icep.tif.aux.xml']"
      ]
     },
     "execution_count": 7,
     "metadata": {},
     "output_type": "execute_result"
    }
   ],
   "source": [
    "files"
   ]
  },
  {
   "cell_type": "code",
   "execution_count": 8,
   "metadata": {
    "collapsed": true
   },
   "outputs": [],
   "source": [
    "source = \"{}/icep_results.shp\".format(ec2_input_path)"
   ]
  },
  {
   "cell_type": "code",
   "execution_count": 9,
   "metadata": {
    "collapsed": true
   },
   "outputs": [],
   "source": [
    "destination = \"{}/icep_icepraw_30s.tif\".format(ec2_output_path)"
   ]
  },
  {
   "cell_type": "code",
   "execution_count": 10,
   "metadata": {
    "collapsed": true
   },
   "outputs": [],
   "source": [
    "command = \"/opt/anaconda3/envs/python35/bin/gdal_rasterize -a ICEP_raw -ot Float64 -of GTiff -te -180 -90 180 90 -ts {} {} -co COMPRESS=DEFLATE -co PREDICTOR=1 -co ZLEVEL=6 -l icep_results -a_nodata -9999 {} {}\".format(X_DIMENSION_30S,Y_DIMENSION_30S,source,destination)\n",
    "\n",
    "\n"
   ]
  },
  {
   "cell_type": "code",
   "execution_count": 11,
   "metadata": {},
   "outputs": [
    {
     "data": {
      "text/plain": [
       "b'0...10...20...30...40...50...60...70...80...90...100 - done.\\n'"
      ]
     },
     "execution_count": 11,
     "metadata": {},
     "output_type": "execute_result"
    }
   ],
   "source": [
    "subprocess.check_output(command,shell=True)"
   ]
  },
  {
   "cell_type": "code",
   "execution_count": 12,
   "metadata": {
    "collapsed": true
   },
   "outputs": [],
   "source": [
    "!gsutil -m -q cp -r {ec2_output_path} {GCS_OUTPUT_PATH}"
   ]
  },
  {
   "cell_type": "code",
   "execution_count": 13,
   "metadata": {
    "collapsed": true
   },
   "outputs": [],
   "source": [
    "# Upload Shapefile to EE"
   ]
  },
  {
   "cell_type": "code",
   "execution_count": 14,
   "metadata": {
    "collapsed": true
   },
   "outputs": [],
   "source": [
    "source = \"{}output_V01/icep_results.shp\".format(GCS_OUTPUT_PATH)"
   ]
  },
  {
   "cell_type": "code",
   "execution_count": 15,
   "metadata": {
    "collapsed": true
   },
   "outputs": [],
   "source": [
    "destination = \"{}/icep_results\".format(ee_output_path)"
   ]
  },
  {
   "cell_type": "code",
   "execution_count": 16,
   "metadata": {
    "collapsed": true
   },
   "outputs": [],
   "source": [
    "command = \"/opt/anaconda3/bin/earthengine upload table --asset_id={} {}\".format(destination,source)"
   ]
  },
  {
   "cell_type": "code",
   "execution_count": 17,
   "metadata": {},
   "outputs": [
    {
     "data": {
      "text/plain": [
       "'/opt/anaconda3/bin/earthengine upload table --asset_id=projects/WRI-Aquaduct/Y2018M11D22_RH_ICEP_Basins_To_EE_V01/output_V01/icep_results gs://aqueduct30_v01/Y2018M11D22_RH_ICEP_Basins_To_EE_V01/output_V01/icep_results.shp'"
      ]
     },
     "execution_count": 17,
     "metadata": {},
     "output_type": "execute_result"
    }
   ],
   "source": [
    "command"
   ]
  },
  {
   "cell_type": "code",
   "execution_count": 18,
   "metadata": {},
   "outputs": [
    {
     "data": {
      "text/plain": [
       "b'Started upload task with ID: SLN7FSC4REAIHUFKP4O656AC\\n'"
      ]
     },
     "execution_count": 18,
     "metadata": {},
     "output_type": "execute_result"
    }
   ],
   "source": [
    "subprocess.check_output(command,shell=True)"
   ]
  },
  {
   "cell_type": "code",
   "execution_count": 19,
   "metadata": {
    "collapsed": true
   },
   "outputs": [],
   "source": [
    "# Upload geotiff to EE"
   ]
  },
  {
   "cell_type": "code",
   "execution_count": 20,
   "metadata": {
    "collapsed": true
   },
   "outputs": [],
   "source": [
    "source = \"{}output_V01/icep_icepraw_30s.tif\".format(GCS_OUTPUT_PATH)"
   ]
  },
  {
   "cell_type": "code",
   "execution_count": 21,
   "metadata": {
    "collapsed": true
   },
   "outputs": [],
   "source": [
    "destination = \"{}/icep_icepraw_30s\".format(ee_output_path)"
   ]
  },
  {
   "cell_type": "code",
   "execution_count": 22,
   "metadata": {
    "collapsed": true
   },
   "outputs": [],
   "source": [
    "command = \"/opt/anaconda3/bin/earthengine upload image --asset_id={} {} --nodata_value=-9999 -p script_used={}\".format(destination,source,SCRIPT_NAME)"
   ]
  },
  {
   "cell_type": "code",
   "execution_count": 23,
   "metadata": {},
   "outputs": [
    {
     "data": {
      "text/plain": [
       "'/opt/anaconda3/bin/earthengine upload image --asset_id=projects/WRI-Aquaduct/Y2018M11D22_RH_ICEP_Basins_To_EE_V01/output_V01/icep_icepraw_30s gs://aqueduct30_v01/Y2018M11D22_RH_ICEP_Basins_To_EE_V01/output_V01/icep_icepraw_30s.tif --nodata_value=-9999 -p script_used=Y2018M11D22_RH_ICEP_Basins_To_EE_V01'"
      ]
     },
     "execution_count": 23,
     "metadata": {},
     "output_type": "execute_result"
    }
   ],
   "source": [
    "command"
   ]
  },
  {
   "cell_type": "code",
   "execution_count": 24,
   "metadata": {},
   "outputs": [
    {
     "data": {
      "text/plain": [
       "b'Started upload task with ID: U2DDOVETNGI56WJPKQB64WZW\\n'"
      ]
     },
     "execution_count": 24,
     "metadata": {},
     "output_type": "execute_result"
    }
   ],
   "source": [
    "subprocess.check_output(command,shell=True)"
   ]
  },
  {
   "cell_type": "code",
   "execution_count": 25,
   "metadata": {},
   "outputs": [
    {
     "name": "stdout",
     "output_type": "stream",
     "text": [
      "upload: ../../../../data/Y2018M11D22_RH_ICEP_Basins_To_EE_V01/output_V01/icep_results.prj to s3://wri-projects/Aqueduct30/processData/Y2018M11D22_RH_ICEP_Basins_To_EE_V01/output_V01/icep_results.prj\n",
      "upload: ../../../../data/Y2018M11D22_RH_ICEP_Basins_To_EE_V01/output_V01/icep_results.cpg to s3://wri-projects/Aqueduct30/processData/Y2018M11D22_RH_ICEP_Basins_To_EE_V01/output_V01/icep_results.cpg\n",
      "upload: ../../../../data/Y2018M11D22_RH_ICEP_Basins_To_EE_V01/output_V01/icep.tif.aux.xml to s3://wri-projects/Aqueduct30/processData/Y2018M11D22_RH_ICEP_Basins_To_EE_V01/output_V01/icep.tif.aux.xml\n",
      "upload: ../../../../data/Y2018M11D22_RH_ICEP_Basins_To_EE_V01/output_V01/README.txt to s3://wri-projects/Aqueduct30/processData/Y2018M11D22_RH_ICEP_Basins_To_EE_V01/output_V01/README.txt\n",
      "upload: ../../../../data/Y2018M11D22_RH_ICEP_Basins_To_EE_V01/output_V01/icep.tif.xml to s3://wri-projects/Aqueduct30/processData/Y2018M11D22_RH_ICEP_Basins_To_EE_V01/output_V01/icep.tif.xml\n",
      "upload: ../../../../data/Y2018M11D22_RH_ICEP_Basins_To_EE_V01/output_V01/icep_results.sbx to s3://wri-projects/Aqueduct30/processData/Y2018M11D22_RH_ICEP_Basins_To_EE_V01/output_V01/icep_results.sbx\n",
      "upload: ../../../../data/Y2018M11D22_RH_ICEP_Basins_To_EE_V01/output_V01/icep_results.csv to s3://wri-projects/Aqueduct30/processData/Y2018M11D22_RH_ICEP_Basins_To_EE_V01/output_V01/icep_results.csv\n",
      "upload: ../../../../data/Y2018M11D22_RH_ICEP_Basins_To_EE_V01/output_V01/icep_results.sbn to s3://wri-projects/Aqueduct30/processData/Y2018M11D22_RH_ICEP_Basins_To_EE_V01/output_V01/icep_results.sbn\n",
      "upload: ../../../../data/Y2018M11D22_RH_ICEP_Basins_To_EE_V01/output_V01/icep_results.shp.xml to s3://wri-projects/Aqueduct30/processData/Y2018M11D22_RH_ICEP_Basins_To_EE_V01/output_V01/icep_results.shp.xml\n",
      "upload: ../../../../data/Y2018M11D22_RH_ICEP_Basins_To_EE_V01/output_V01/icep_results.shx to s3://wri-projects/Aqueduct30/processData/Y2018M11D22_RH_ICEP_Basins_To_EE_V01/output_V01/icep_results.shx\n",
      "upload: ../../../../data/Y2018M11D22_RH_ICEP_Basins_To_EE_V01/output_V01/wri_aqueduct3_ICEP.py to s3://wri-projects/Aqueduct30/processData/Y2018M11D22_RH_ICEP_Basins_To_EE_V01/output_V01/wri_aqueduct3_ICEP.py\n",
      "upload: ../../../../data/Y2018M11D22_RH_ICEP_Basins_To_EE_V01/output_V01/icep.tif.ovr to s3://wri-projects/Aqueduct30/processData/Y2018M11D22_RH_ICEP_Basins_To_EE_V01/output_V01/icep.tif.ovr\n",
      "upload: ../../../../data/Y2018M11D22_RH_ICEP_Basins_To_EE_V01/output_V01/icep_results.shp to s3://wri-projects/Aqueduct30/processData/Y2018M11D22_RH_ICEP_Basins_To_EE_V01/output_V01/icep_results.shp\n",
      "upload: ../../../../data/Y2018M11D22_RH_ICEP_Basins_To_EE_V01/output_V01/icep_results.dbf to s3://wri-projects/Aqueduct30/processData/Y2018M11D22_RH_ICEP_Basins_To_EE_V01/output_V01/icep_results.dbf\n",
      "upload: ../../../../data/Y2018M11D22_RH_ICEP_Basins_To_EE_V01/output_V01/icep_icepraw_30s.tif to s3://wri-projects/Aqueduct30/processData/Y2018M11D22_RH_ICEP_Basins_To_EE_V01/output_V01/icep_icepraw_30s.tif\n"
     ]
    }
   ],
   "source": [
    "!aws s3 cp {ec2_output_path} {s3_output_path} --recursive "
   ]
  },
  {
   "cell_type": "code",
   "execution_count": 26,
   "metadata": {},
   "outputs": [
    {
     "name": "stdout",
     "output_type": "stream",
     "text": [
      "0:00:57.678735\n"
     ]
    }
   ],
   "source": [
    "end = datetime.datetime.now()\n",
    "elapsed = end - start\n",
    "print(elapsed)"
   ]
  },
  {
   "cell_type": "markdown",
   "metadata": {},
   "source": [
    "Previous Runs:  \n",
    "0:00:40.396891\n",
    "\n"
   ]
  },
  {
   "cell_type": "code",
   "execution_count": null,
   "metadata": {
    "collapsed": true
   },
   "outputs": [],
   "source": []
  }
 ],
 "metadata": {
  "kernelspec": {
   "display_name": "Python 35",
   "language": "python",
   "name": "python35"
  },
  "language_info": {
   "codemirror_mode": {
    "name": "ipython",
    "version": 3
   },
   "file_extension": ".py",
   "mimetype": "text/x-python",
   "name": "python",
   "nbconvert_exporter": "python",
   "pygments_lexer": "ipython3",
   "version": "3.5.4"
  }
 },
 "nbformat": 4,
 "nbformat_minor": 2
}
