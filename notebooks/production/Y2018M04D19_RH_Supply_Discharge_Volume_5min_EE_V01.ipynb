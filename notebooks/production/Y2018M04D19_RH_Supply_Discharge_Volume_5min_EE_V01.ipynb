{
 "cells": [
  {
   "cell_type": "code",
   "execution_count": 1,
   "metadata": {},
   "outputs": [
    {
     "name": "stdout",
     "output_type": "stream",
     "text": [
      "Input ee: projects/WRI-Aquaduct/PCRGlobWB20V09\n",
      "Output ee: projects/WRI-Aquaduct/PCRGlobWB20V09\n"
     ]
    }
   ],
   "source": [
    "\"\"\"Supply and discharge data is provided as m3second. Convert to millionm3.\n",
    "-------------------------------------------------------------------------------\n",
    "PCRGLOBWB Data for demand is provided in volumes with units m3second\n",
    "(implicit per pixel/per time step); converting to volumes (millionm3) and \n",
    "storing to \n",
    "earth engine asset. \n",
    "\n",
    "\n",
    "Author: Rutger Hofste\n",
    "Date: 20180419\n",
    "Kernel: python35\n",
    "Docker: rutgerhofste/gisdocker:ubuntu16.04\n",
    "\n",
    "Args:\n",
    "\n",
    "    SCRIPT_NAME (string) : Script name\n",
    "    EE_VERSION (integer) : Earth Engine path version.\n",
    "    OUTPUT_VERSION (integer) : Output version.\n",
    "    TESTING (boolean) : Testing.\n",
    "\n",
    "Returns:\n",
    "\n",
    "\"\"\"\n",
    "\n",
    "# Input Parameters\n",
    "\n",
    "SCRIPT_NAME = \"Y2018M04D19_RH_Supply_Discharge_Volume_5min_EE_V01\"\n",
    "EE_VERSION = 9\n",
    "\n",
    "OUTPUT_VERSION = 1 \n",
    "\n",
    "TESTING = 1\n",
    "\n",
    "ee_path = \"projects/WRI-Aquaduct/PCRGlobWB20V{:02.0f}\".format(EE_VERSION)\n",
    "\n",
    "\n",
    "print(\"Input ee: \" + ee_path +\n",
    "      \"\\nOutput ee: \" + ee_path )"
   ]
  },
  {
   "cell_type": "code",
   "execution_count": 2,
   "metadata": {},
   "outputs": [
    {
     "name": "stdout",
     "output_type": "stream",
     "text": [
      "Y2018M04D19 UTC 16:50\n"
     ]
    },
    {
     "data": {
      "text/plain": [
       "'3.5.4 |Anaconda, Inc.| (default, Nov 20 2017, 18:44:38) \\n[GCC 7.2.0]'"
      ]
     },
     "execution_count": 2,
     "metadata": {},
     "output_type": "execute_result"
    }
   ],
   "source": [
    "import time, datetime, sys\n",
    "dateString = time.strftime(\"Y%YM%mD%d\")\n",
    "timeString = time.strftime(\"UTC %H:%M\")\n",
    "start = datetime.datetime.now()\n",
    "print(dateString,timeString)\n",
    "sys.version"
   ]
  },
  {
   "cell_type": "code",
   "execution_count": 3,
   "metadata": {
    "collapsed": true
   },
   "outputs": [],
   "source": [
    "import subprocess\n",
    "import pandas as pd\n",
    "import ee\n",
    "import re\n",
    "from retrying import retry\n",
    "from datetime import timedelta\n",
    "import aqueduct3\n",
    "\n",
    "ee.Initialize()"
   ]
  },
  {
   "cell_type": "code",
   "execution_count": 19,
   "metadata": {
    "collapsed": true
   },
   "outputs": [],
   "source": [
    "def update_property_script_used(image):\n",
    "    image = image.set(\"script_used\",SCRIPT_NAME)\n",
    "    return image\n",
    "\n",
    "def update_property_output_version(image):\n",
    "    image = image.set(\"output_version\",OUTPUT_VERSION)\n",
    "    return image\n",
    "\n",
    "\n",
    "def ic_flux_to_volume_5min_m3second_millionm3(ic_input_asset_id,output_version,old_units,new_units):\n",
    "    \"\"\" Convert an imagecollection from volume to flux.\n",
    "    -------------------------------------------------------------------------------\n",
    "    The result is stored in an imagecollection with the same name as the input\n",
    "    imagecollection but with 'millionm3' replaced by 'm'\n",
    "    \n",
    "    Input ic:\n",
    "    global_historical_PDomWW_year_millionm3_5min_1960_2014\n",
    "    \n",
    "    Output ic:    \n",
    "    global_historical_PDomWW_year_m_5min_1960_2014\n",
    "    \n",
    "    Args:\n",
    "        ic_input_asset_id (string) : asset id of input imagecollection.\n",
    "\n",
    "    \"\"\"\n",
    "    start_time = time.time()\n",
    "    df_errors = pd.DataFrame()\n",
    "    \n",
    "    df = aqueduct3.earthengine.get_df_from_ic(ic_input_asset_id)\n",
    "    df = aqueduct3.earthengine.add_export_parameters_for_export(df,old_unit,new_unit,output_version)\n",
    "    \n",
    "    # Creating ImageCollection(s)\n",
    "    output_ic_asset_ids = list(df[\"output_ic_asset_id\"].unique())\n",
    "    for output_ic_asset_id in output_ic_asset_ids:\n",
    "        command, result = aqueduct3.earthengine.create_imageCollection(output_ic_asset_id)\n",
    "        print(command,result)\n",
    "    \n",
    "    \n",
    "    # Bacth Converting and uploading.     \n",
    "    for index, row in df.iterrows():\n",
    "        elapsed_time = time.time() - start_time \n",
    "        print(\"Index: {:04.0f} Elapsed: {}\".format(index, timedelta(seconds=elapsed_time)))\n",
    "    \n",
    "        description = row[\"description\"]\n",
    "        output_image_asset_id = row[\"output_image_asset_id\"]\n",
    "    \n",
    "    \n",
    "        if aqueduct3.earthengine.asset_exists(output_image_asset_id):\n",
    "            print(\"Asset exists, skipping: {}\".format(output_image_asset_id))\n",
    "        else:\n",
    "            i_flux_m3second_5min = ee.Image(row[\"input_image_asset_id\"])\n",
    "            i_volume_millionm3_5min = aqueduct3.earthengine.volume_to_flux_5min_millionm3_m2(i_flux_m3second_5min)\n",
    "            i_volume_millionm3_5min = update_property_script_used(i_volume_millionm3_5min)\n",
    "            i_volume_millionm3_5min = update_property_output_version(i_volume_millionm3_5min)\n",
    "            \n",
    "\n",
    "            #aqueduct3.earthengine.export_image_global_5min(i_flux_m_5min,description,output_image_asset_id)\n",
    "            print(output_image_asset_id)    \n",
    "\n",
    "    return df\n",
    "\n"
   ]
  },
  {
   "cell_type": "code",
   "execution_count": 16,
   "metadata": {
    "collapsed": true
   },
   "outputs": [],
   "source": [
    "old_unit = \"m3second\"\n",
    "new_unit = \"millionm3\"\n",
    "\n",
    "temporal_resolutions = [\"year\",\"month\"]\n",
    "indicators = [\"riverdischarge\"]"
   ]
  },
  {
   "cell_type": "code",
   "execution_count": 18,
   "metadata": {},
   "outputs": [
    {
     "name": "stdout",
     "output_type": "stream",
     "text": [
      "earthengine create collection projects/WRI-Aquaduct/PCRGlobWB20V09/global_historical_riverdischarge_year_millionm3_5min_1960_2014 b''\n",
      "earthengine create collection projects/WRI-Aquaduct/PCRGlobWB20V09/global_historical_riverdischarge_month_millionm3_5min_1960_2014 b'Asset projects/WRI-Aquaduct/PCRGlobWB20V09/global_historical_riverdischarge_month_millionm3_5min_1960_2014 already exists\\n'\n"
     ]
    }
   ],
   "source": [
    "df = pd.DataFrame()\n",
    "for indicator in indicators:\n",
    "    for temporal_resolution in temporal_resolutions:\n",
    "        ic_input_file_name = \"global_historical_{}_{}_m3second_5min_1960_2014\".format(indicator,temporal_resolution)\n",
    "        ic_input_asset_id = \"{}/{}\".format(ee_path,ic_input_file_name)\n",
    "        df = ic_flux_to_volume_5min_m3second_millionm3(ic_input_asset_id,OUTPUT_VERSION)"
   ]
  },
  {
   "cell_type": "code",
   "execution_count": null,
   "metadata": {
    "collapsed": true
   },
   "outputs": [],
   "source": []
  },
  {
   "cell_type": "code",
   "execution_count": null,
   "metadata": {
    "collapsed": true
   },
   "outputs": [],
   "source": []
  }
 ],
 "metadata": {
  "kernelspec": {
   "display_name": "Python 35",
   "language": "python",
   "name": "python35"
  },
  "language_info": {
   "codemirror_mode": {
    "name": "ipython",
    "version": 3
   },
   "file_extension": ".py",
   "mimetype": "text/x-python",
   "name": "python",
   "nbconvert_exporter": "python",
   "pygments_lexer": "ipython3",
   "version": "3.5.4"
  }
 },
 "nbformat": 4,
 "nbformat_minor": 2
}
