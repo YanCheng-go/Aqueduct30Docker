{
 "cells": [
  {
   "cell_type": "code",
   "execution_count": 84,
   "metadata": {
    "collapsed": true
   },
   "outputs": [],
   "source": [
    "\"\"\" Ingest additional rasters like DEM, LDD etc. \n",
    "-------------------------------------------------------------------------------\n",
    "This notebook will upload the geotiff files of auxiliary rasters \n",
    "from S3 to Google Cloud Storage and into the WRI/aqueduct earthengine bucket. \n",
    "\n",
    "Requirements:\n",
    "    Authorize earthengine by running in your terminal: earthengine \n",
    "                                                       authenticate\n",
    "\n",
    "    you need to have access to the WRI-Aquaduct (yep a Google employee made a\n",
    "    typo) bucket to ingest the data. Rutger can grant access to write to this \n",
    "    folder. \n",
    "\n",
    "    Have access to the Google Cloud Storage Bucket\n",
    "    \n",
    "    AWS CLI configured\n",
    "\n",
    "Make sure to set the project to Aqueduct30 by running\n",
    "`gcloud config set project aqueduct30`\n",
    "\n",
    "Code follows the Google for Python Styleguide. Exception are the scripts that \n",
    "use earth engine since this is camelCase instead of underscore.\n",
    "\n",
    "Author: Rutger Hofste\n",
    "Date: 20170802\n",
    "Kernel: python27\n",
    "Docker: rutgerhofste/gisdocker:ubuntu16.04\n",
    "\n",
    "Args:    \n",
    "    TESTING (Boolean) : Toggle Testing Mode.\n",
    "    OVERWRITE (Boolean) : Overwrite old folder !CAUTION!\n",
    "    SCRIPT_NAME (string) : Script name.  \n",
    "    S3_INPUT_PATH (string) : Amazon S3 location of data to be ingested.\n",
    "    X_DIMENSION_5MIN (integer) : horizontal or longitudinal dimension of \n",
    "                                 raster.\n",
    "    Y_DIMENSION_5MIN (integer) : vertical or latitudinal dimension of \n",
    "                                 raster.\n",
    "    GCS_BASE (string) : Google Cloud Storage output namespace.   \n",
    "    EE_BASE (string) : Earth Engine folder to store the assets.\n",
    "    \n",
    "    OUTPUT_FILE_NAME (string) : File Name for a csv file containing the failed tasks. \n",
    "    \n",
    "Returns:\n",
    "\n",
    "\n",
    "\"\"\"\n",
    "\n",
    "# Input Parameters\n",
    "TESTING = 0\n",
    "OVERWRITE = 0 # !CAUTION!\n",
    "SCRIPT_NAME = \"Y2017M08D02_RH_Ingest_Additional_Rasters_EE_V02\"\n",
    "S3_INPUT_PATH = \"s3://wri-projects/Aqueduct30/rawData/Utrecht/additionalFiles/flowNetwork/topo_pcrglobwb_05min\"\n",
    "X_DIMENSION_5MIN = 4320\n",
    "Y_DIMENSION_5MIN = 2160\n",
    "GCS_BASE = \"gs://aqueduct30_v01/{}/\".format(SCRIPT_NAME)\n",
    "EE_BASE = \"projects/WRI-Aquaduct/PCRGlobWB20V08\"\n",
    "OUTPUT_FILE_NAME = \"df_errorsV01.csv\"\n"
   ]
  },
  {
   "cell_type": "code",
   "execution_count": 33,
   "metadata": {},
   "outputs": [
    {
     "name": "stdout",
     "output_type": "stream",
     "text": [
      "('Y2018M04D13', 'UTC 10:28')\n"
     ]
    },
    {
     "data": {
      "text/plain": [
       "'2.7.14 |Anaconda, Inc.| (default, Dec  7 2017, 17:05:42) \\n[GCC 7.2.0]'"
      ]
     },
     "execution_count": 33,
     "metadata": {},
     "output_type": "execute_result"
    }
   ],
   "source": [
    "import time, datetime, sys\n",
    "dateString = time.strftime(\"Y%YM%mD%d\")\n",
    "timeString = time.strftime(\"UTC %H:%M\")\n",
    "start = datetime.datetime.now()\n",
    "print(dateString,timeString)\n",
    "sys.version"
   ]
  },
  {
   "cell_type": "code",
   "execution_count": 71,
   "metadata": {
    "collapsed": true
   },
   "outputs": [],
   "source": [
    "# imports\n",
    "import os\n",
    "import numpy as np\n",
    "import subprocess\n",
    "import warnings\n",
    "import pandas as pd\n",
    "from osgeo import gdal\n",
    "from datetime import timedelta\n",
    "\n",
    "import aqueduct3"
   ]
  },
  {
   "cell_type": "code",
   "execution_count": 53,
   "metadata": {},
   "outputs": [],
   "source": [
    "# ETL\n",
    "\n",
    "ec2_input_path = \"/volumes/data/{}/input\".format(SCRIPT_NAME)\n",
    "ec2_output_path = \"/volumes/data/{}/output\".format(SCRIPT_NAME)\n",
    "\n",
    "s3_output_path = \"s3://wri-projects/Aqueduct30/processData/{}/output/\".format(SCRIPT_NAME)"
   ]
  },
  {
   "cell_type": "code",
   "execution_count": 37,
   "metadata": {
    "collapsed": true
   },
   "outputs": [],
   "source": [
    "!mkdir -p {ec2_input_path}\n",
    "!mkdir -p {ec2_output_path}"
   ]
  },
  {
   "cell_type": "code",
   "execution_count": 36,
   "metadata": {},
   "outputs": [
    {
     "name": "stdout",
     "output_type": "stream",
     "text": [
      "download: s3://wri-projects/Aqueduct30/rawData/Utrecht/additionalFiles/flowNetwork/topo_pcrglobwb_05min/geotiff/cellsize05min.tif to ../../../../data/Y2017M08D02_RH_Ingest_Additional_Rasters_EE_V02/input/geotiff/cellsize05min.tif\n",
      "download: s3://wri-projects/Aqueduct30/rawData/Utrecht/additionalFiles/flowNetwork/topo_pcrglobwb_05min/geotiff/readme.txt to ../../../../data/Y2017M08D02_RH_Ingest_Additional_Rasters_EE_V02/input/geotiff/readme.txt\n",
      "download: s3://wri-projects/Aqueduct30/rawData/Utrecht/additionalFiles/flowNetwork/topo_pcrglobwb_05min/geotiff/lddsound_05min.tif to ../../../../data/Y2017M08D02_RH_Ingest_Additional_Rasters_EE_V02/input/geotiff/lddsound_05min.tif\n",
      "download: s3://wri-projects/Aqueduct30/rawData/Utrecht/additionalFiles/flowNetwork/topo_pcrglobwb_05min/geotiff/accumulated_drainage_area_05min_sqkm.tif to ../../../../data/Y2017M08D02_RH_Ingest_Additional_Rasters_EE_V02/input/geotiff/accumulated_drainage_area_05min_sqkm.tif\n",
      "download: s3://wri-projects/Aqueduct30/rawData/Utrecht/additionalFiles/flowNetwork/topo_pcrglobwb_05min/geotiff/gtopo05min.tif to ../../../../data/Y2017M08D02_RH_Ingest_Additional_Rasters_EE_V02/input/geotiff/gtopo05min.tif\n",
      "download: s3://wri-projects/Aqueduct30/rawData/Utrecht/additionalFiles/flowNetwork/topo_pcrglobwb_05min/readme.txt to ../../../../data/Y2017M08D02_RH_Ingest_Additional_Rasters_EE_V02/input/readme.txt\n",
      "download: s3://wri-projects/Aqueduct30/rawData/Utrecht/additionalFiles/flowNetwork/topo_pcrglobwb_05min/accumulated_drainage_area_05min_sqkm.map to ../../../../data/Y2017M08D02_RH_Ingest_Additional_Rasters_EE_V02/input/accumulated_drainage_area_05min_sqkm.map\n",
      "download: s3://wri-projects/Aqueduct30/rawData/Utrecht/additionalFiles/flowNetwork/topo_pcrglobwb_05min/lddsound_05min.map to ../../../../data/Y2017M08D02_RH_Ingest_Additional_Rasters_EE_V02/input/lddsound_05min.map\n",
      "download: s3://wri-projects/Aqueduct30/rawData/Utrecht/additionalFiles/flowNetwork/topo_pcrglobwb_05min/cellsize05min.correct.map to ../../../../data/Y2017M08D02_RH_Ingest_Additional_Rasters_EE_V02/input/cellsize05min.correct.map\n",
      "download: s3://wri-projects/Aqueduct30/rawData/Utrecht/additionalFiles/flowNetwork/topo_pcrglobwb_05min/gtopo05min.map to ../../../../data/Y2017M08D02_RH_Ingest_Additional_Rasters_EE_V02/input/gtopo05min.map\n"
     ]
    }
   ],
   "source": [
    "!aws s3 cp {S3_INPUT_PATH} {ec2_input_path} --recursive"
   ]
  },
  {
   "cell_type": "markdown",
   "metadata": {},
   "source": [
    "renaming the files with a structured name using schema: `<indicator>_<spatial_resolution>_<unit>.map`\n",
    "\n",
    "copy from readme.txt file on S3\n",
    "\n",
    "\n",
    "Data received from Rens van Beek on Feb 24 2017. Rutger Hofste\n",
    "topo_pcrglobwb_05min.zip  \n",
    "\n",
    "|Archive Length |   Date |   Time |    Name | Units | newName | \n",
    "|---:|---:|---:|---:| ---:| ---:|\n",
    "|37325056|  02-24-2017| 15:46 |  accumulated_drainage_area_05min_sqkm.map| $$km^2$$ |accumulateddrainagearea_05min_km2.map |\n",
    "|37325056|  02-24-2017 |15:45 |  cellsize05min.correct.map| $$m^2$$ |cellsize_05min_m2.map |\n",
    "|37325056| 02-24-2017| 15:44 |  gtopo05min.map| $$m$$ |gtopo_05min_km2.map|\n",
    "|9331456|  02-24-2017| 15:45 |   lddsound_05min.map| numpad |lddsound_05min_numpad.map |\n",
    "|121306624| | |               4 files| | |\n",
    "\n",
    "All files are 5 arc minute maps in PCRaster format and WGS84 projection (implicit).\n",
    "The gtopo05min.map is the DEM from the gtopo30 dataset that we use for downscaling meteo data occasionally. This is consistent with the CRU climate data sets and the hydro1k drainage dataset. Elevation is in **metres**. The cellsize05.correct.map is the surface area of a geographic cell in **m2** per 5 arc minute cell. The lddsound_05min.map is identical to the LDD we sent you earlier with the **8-point pour algorithm**.(numpad e.g. 7 is NW 6 is E etc.) The accumulated_drainage_area_05min_sqkm.map is the accumulated drainage area in **km2** per cell along the LDD.\n"
   ]
  },
  {
   "cell_type": "code",
   "execution_count": 38,
   "metadata": {
    "collapsed": true
   },
   "outputs": [],
   "source": [
    "!mv {ec2_input_path}/accumulated_drainage_area_05min_sqkm.map \\\n",
    "{ec2_input_path}/accumulateddrainagearea_05min_km2.map\n",
    "!mv {ec2_input_path}/cellsize05min.correct.map \\\n",
    "{ec2_input_path}/cellsize_05min_m2.map\n",
    "!mv {ec2_input_path}/gtopo05min.map \\\n",
    "{ec2_input_path}/gtopo_05min_m.map\n",
    "!mv {ec2_input_path}/lddsound_05min.map \\\n",
    "{ec2_input_path}/lddsound_05min_numpad.map"
   ]
  },
  {
   "cell_type": "code",
   "execution_count": 39,
   "metadata": {
    "collapsed": true
   },
   "outputs": [],
   "source": [
    "# Added on 20180413. Removing geotiff folder since the extent was generated by arcgis and is not\n",
    "# exactly 180 and 90 degrees respectively\n",
    "!rm -r {ec2_input_path}/geotiff"
   ]
  },
  {
   "cell_type": "code",
   "execution_count": 63,
   "metadata": {
    "collapsed": true
   },
   "outputs": [],
   "source": [
    "# Functions\n",
    "def get_GCS_keys(GCS_BASE):\n",
    "    \"\"\" get list of keys from Google Cloud Storage\n",
    "    -------------------------------------------------------------------------------\n",
    "    \n",
    "    Args:\n",
    "        GCS_BASE (string) : Google Cloud Storage namespace containing files.\n",
    "        \n",
    "    Returns:\n",
    "        df (pd.DataFrame) : DataFrame with properties useful to Aqueduct. \n",
    "    \n",
    "    \"\"\"\n",
    "    command = \"/opt/google-cloud-sdk/bin/gsutil ls {}\".format(GCS_BASE)\n",
    "    keys = subprocess.check_output(command,shell=True)\n",
    "    keys = keys.decode('UTF-8').splitlines()\n",
    "    \n",
    "    df = keys_to_df(keys)\n",
    "    \n",
    "    return df\n",
    "\n",
    "def keys_to_df(keys):\n",
    "    \"\"\" helper function for 'get_GCS_keys'\n",
    "    \n",
    "        \n",
    "    Args:\n",
    "        keys (list) : list of strings with keys.\n",
    "        \n",
    "    Returns:\n",
    "        df (pd.DataFrame) : Pandas DataFrame with all relvant properties for\n",
    "                            Aqueduct 3.0.\n",
    "    \"\"\"\n",
    "    \n",
    "    df = pd.DataFrame()\n",
    "    i = 0\n",
    "    for key in keys:\n",
    "        i = i+1\n",
    "        schema = [\"indicator\",\"spatial_resolution\",\"unit\"]\n",
    "        out_dict = aqueduct3.split_key(key,schema)\n",
    "        df2 = pd.DataFrame(out_dict,index=[i])\n",
    "        df = df.append(df2)    \n",
    "    return df\n"
   ]
  },
  {
   "cell_type": "code",
   "execution_count": 40,
   "metadata": {
    "collapsed": true
   },
   "outputs": [],
   "source": [
    "# Convert rasters to geotiff"
   ]
  },
  {
   "cell_type": "code",
   "execution_count": 41,
   "metadata": {},
   "outputs": [],
   "source": [
    "default_geotransform, default_geoprojection = aqueduct3.get_global_georeference(np.ones([Y_DIMENSION_5MIN,X_DIMENSION_5MIN]))"
   ]
  },
  {
   "cell_type": "code",
   "execution_count": 49,
   "metadata": {},
   "outputs": [
    {
     "name": "stdout",
     "output_type": "stream",
     "text": [
      "gtopo_05min_m.map\n",
      "readme.txt\n",
      "lddsound_05min_numpad.map\n"
     ]
    },
    {
     "name": "stderr",
     "output_type": "stream",
     "text": [
      "/opt/anaconda3/envs/python27/lib/python2.7/site-packages/ipykernel_launcher.py:14: UserWarning: File Not Converted: readme.txt\n",
      "  \n"
     ]
    },
    {
     "name": "stdout",
     "output_type": "stream",
     "text": [
      "accumulateddrainagearea_05min_km2.map\n",
      "cellsize_05min_m2.map\n"
     ]
    }
   ],
   "source": [
    "for root, dirs, file_names in os.walk(ec2_input_path):\n",
    "    for file_name in file_names:\n",
    "        print(file_name)\n",
    "        base , extension = file_name.split(\".\")\n",
    "        if extension == \"map\":\n",
    "            output_path = os.path.join(ec2_output_path,base + \".tif\")\n",
    "            input_path = os.path.join(root, file_name)     \n",
    "\n",
    "            xsize,ysize,geotransform,geoproj,Z = aqueduct3.read_gdal_file(input_path)\n",
    "            Z[Z<-9990]= -9999\n",
    "            Z[Z>1e19] = -9999\n",
    "            aqueduct3.write_geotiff(output_path,default_geotransform,default_geoprojection,Z,nodata_value=-9999,datatype=gdal.GDT_Float32)\n",
    "        else:\n",
    "            warnings.warn(\"File Not Converted: {}\".format(file_name), UserWarning)"
   ]
  },
  {
   "cell_type": "code",
   "execution_count": 51,
   "metadata": {},
   "outputs": [
    {
     "name": "stdout",
     "output_type": "stream",
     "text": [
      "Copying file:///volumes/data/Y2017M08D02_RH_Ingest_Additional_Rasters_EE_V02/output/cellsize_05min_m2.tif [Content-Type=image/tiff]...\n",
      "Copying file:///volumes/data/Y2017M08D02_RH_Ingest_Additional_Rasters_EE_V02/output/gtopo_05min_m.tif [Content-Type=image/tiff]...\n",
      "Copying file:///volumes/data/Y2017M08D02_RH_Ingest_Additional_Rasters_EE_V02/output/lddsound_05min_numpad.tif [Content-Type=image/tiff]...\n",
      "Copying file:///volumes/data/Y2017M08D02_RH_Ingest_Additional_Rasters_EE_V02/output/accumulateddrainagearea_05min_km2.tif [Content-Type=image/tiff]...\n",
      "| [4/4 files][ 16.0 MiB/ 16.0 MiB] 100% Done                                    \n",
      "Operation completed over 4 objects/16.0 MiB.                                     \n"
     ]
    }
   ],
   "source": [
    "!gsutil -m cp \\\n",
    "{ec2_output_path}/*.tif \\\n",
    "{GCS_BASE}"
   ]
  },
  {
   "cell_type": "code",
   "execution_count": 54,
   "metadata": {},
   "outputs": [
    {
     "name": "stdout",
     "output_type": "stream",
     "text": [
      "upload: ../../../../data/Y2017M08D02_RH_Ingest_Additional_Rasters_EE_V02/output/cellsize_05min_m2.tif to s3://wri-projects/Aqueduct30/processData/Y2017M08D02_RH_Ingest_Additional_Rasters_EE_V02/output/cellsize_05min_m2.tif\n",
      "upload: ../../../../data/Y2017M08D02_RH_Ingest_Additional_Rasters_EE_V02/output/lddsound_05min_numpad.tif to s3://wri-projects/Aqueduct30/processData/Y2017M08D02_RH_Ingest_Additional_Rasters_EE_V02/output/lddsound_05min_numpad.tif\n",
      "upload: ../../../../data/Y2017M08D02_RH_Ingest_Additional_Rasters_EE_V02/output/accumulateddrainagearea_05min_km2.tif to s3://wri-projects/Aqueduct30/processData/Y2017M08D02_RH_Ingest_Additional_Rasters_EE_V02/output/accumulateddrainagearea_05min_km2.tif\n",
      "upload: ../../../../data/Y2017M08D02_RH_Ingest_Additional_Rasters_EE_V02/output/gtopo_05min_m.tif to s3://wri-projects/Aqueduct30/processData/Y2017M08D02_RH_Ingest_Additional_Rasters_EE_V02/output/gtopo_05min_m.tif\n"
     ]
    }
   ],
   "source": [
    "!aws s3 cp {ec2_output_path} {s3_output_path} --recursive"
   ]
  },
  {
   "cell_type": "code",
   "execution_count": 64,
   "metadata": {},
   "outputs": [
    {
     "data": {
      "text/plain": [
       "(4, 5)"
      ]
     },
     "execution_count": 64,
     "metadata": {},
     "output_type": "execute_result"
    }
   ],
   "source": [
    "df = get_GCS_keys(GCS_BASE)\n",
    "df.shape"
   ]
  },
  {
   "cell_type": "code",
   "execution_count": 67,
   "metadata": {},
   "outputs": [],
   "source": [
    "df_complete = df.copy()"
   ]
  },
  {
   "cell_type": "code",
   "execution_count": 68,
   "metadata": {},
   "outputs": [],
   "source": [
    "df_complete[\"nodata_value\"] = -9999\n",
    "df_complete[\"ingested_by\"] =\"RutgerHofste\"\n",
    "df_complete[\"exportdescription\"] = df_complete[\"indicator\"]\n",
    "df_complete[\"script_used\"] = SCRIPT_NAME\n",
    "df_complete = df_complete.apply(pd.to_numeric, errors='ignore')"
   ]
  },
  {
   "cell_type": "code",
   "execution_count": 88,
   "metadata": {},
   "outputs": [
    {
     "name": "stdout",
     "output_type": "stream",
     "text": [
      "(1, '25.00elapsed: ', '0:00:00.000614')\n",
      "/opt/anaconda3/bin/earthengine upload image --asset_id projects/WRI-Aquaduct/PCRGlobWB20V08/accumulateddrainagearea_05min_km2 gs://aqueduct30_v01/Y2017M08D02_RH_Ingest_Additional_Rasters_EE_V02/accumulateddrainagearea_05min_km2.tif -p indicator=accumulateddrainagearea -p extension=tif -p file_name=accumulateddrainagearea_05min_km2 -p ingested_by=RutgerHofste -p script_used=Y2017M08D02_RH_Ingest_Additional_Rasters_EE_V02 -p exportdescription=accumulateddrainagearea -p spatial_resolution=05min -p unit=km2 --nodata_value=-9999\n",
      "(2, '50.00elapsed: ', '0:00:03.262118')\n",
      "/opt/anaconda3/bin/earthengine upload image --asset_id projects/WRI-Aquaduct/PCRGlobWB20V08/cellsize_05min_m2 gs://aqueduct30_v01/Y2017M08D02_RH_Ingest_Additional_Rasters_EE_V02/cellsize_05min_m2.tif -p indicator=cellsize -p extension=tif -p file_name=cellsize_05min_m2 -p ingested_by=RutgerHofste -p script_used=Y2017M08D02_RH_Ingest_Additional_Rasters_EE_V02 -p exportdescription=cellsize -p spatial_resolution=05min -p unit=m2 --nodata_value=-9999\n",
      "(3, '75.00elapsed: ', '0:00:06.297467')\n",
      "/opt/anaconda3/bin/earthengine upload image --asset_id projects/WRI-Aquaduct/PCRGlobWB20V08/gtopo_05min_m gs://aqueduct30_v01/Y2017M08D02_RH_Ingest_Additional_Rasters_EE_V02/gtopo_05min_m.tif -p indicator=gtopo -p extension=tif -p file_name=gtopo_05min_m -p ingested_by=RutgerHofste -p script_used=Y2017M08D02_RH_Ingest_Additional_Rasters_EE_V02 -p exportdescription=gtopo -p spatial_resolution=05min -p unit=m --nodata_value=-9999\n",
      "(4, '100.00elapsed: ', '0:00:09.412300')\n",
      "/opt/anaconda3/bin/earthengine upload image --asset_id projects/WRI-Aquaduct/PCRGlobWB20V08/lddsound_05min_numpad gs://aqueduct30_v01/Y2017M08D02_RH_Ingest_Additional_Rasters_EE_V02/lddsound_05min_numpad.tif -p indicator=lddsound -p extension=tif -p file_name=lddsound_05min_numpad -p ingested_by=RutgerHofste -p script_used=Y2017M08D02_RH_Ingest_Additional_Rasters_EE_V02 -p exportdescription=lddsound -p spatial_resolution=05min -p unit=numpad --nodata_value=-9999\n"
     ]
    }
   ],
   "source": [
    "df_errors = pd.DataFrame()\n",
    "start_time = time.time()\n",
    "for index, row in df_complete.iterrows():\n",
    "    elapsed_time = time.time() - start_time \n",
    "    print(index,\"{:02.2f}\".format((float(index)/df_complete.shape[0])*100) + \"elapsed: \", str(timedelta(seconds=elapsed_time)))\n",
    "    \n",
    "    geotiff_gcs_path = GCS_BASE + row.file_name + \".\" + row.extension\n",
    "    output_ee_asset_id = EE_BASE +\"/\"+ row.file_name\n",
    "    properties = row.to_dict()\n",
    "    \n",
    "    df_errors2 = aqueduct3.upload_geotiff_to_EE_imageCollection(geotiff_gcs_path, output_ee_asset_id, properties,index)\n",
    "    df_errors = df_errors.append(df_errors2)"
   ]
  },
  {
   "cell_type": "code",
   "execution_count": 89,
   "metadata": {
    "collapsed": true
   },
   "outputs": [],
   "source": [
    "df_errors.to_csv(\"{}/{}\".format(ec2_output_path,OUTPUT_FILE_NAME))"
   ]
  },
  {
   "cell_type": "code",
   "execution_count": 91,
   "metadata": {},
   "outputs": [
    {
     "data": {
      "text/html": [
       "<div>\n",
       "<style scoped>\n",
       "    .dataframe tbody tr th:only-of-type {\n",
       "        vertical-align: middle;\n",
       "    }\n",
       "\n",
       "    .dataframe tbody tr th {\n",
       "        vertical-align: top;\n",
       "    }\n",
       "\n",
       "    .dataframe thead th {\n",
       "        text-align: right;\n",
       "    }\n",
       "</style>\n",
       "<table border=\"1\" class=\"dataframe\">\n",
       "  <thead>\n",
       "    <tr style=\"text-align: right;\">\n",
       "      <th></th>\n",
       "      <th>command</th>\n",
       "      <th>error</th>\n",
       "      <th>response</th>\n",
       "    </tr>\n",
       "  </thead>\n",
       "  <tbody>\n",
       "    <tr>\n",
       "      <th>1</th>\n",
       "      <td>/opt/anaconda3/bin/earthengine upload image --...</td>\n",
       "      <td>0</td>\n",
       "      <td>Started upload task with ID: 76UC5LNKN6PAB44ZI...</td>\n",
       "    </tr>\n",
       "    <tr>\n",
       "      <th>2</th>\n",
       "      <td>/opt/anaconda3/bin/earthengine upload image --...</td>\n",
       "      <td>0</td>\n",
       "      <td>Started upload task with ID: K6M4PZQCLVZOTW3MR...</td>\n",
       "    </tr>\n",
       "    <tr>\n",
       "      <th>3</th>\n",
       "      <td>/opt/anaconda3/bin/earthengine upload image --...</td>\n",
       "      <td>0</td>\n",
       "      <td>Started upload task with ID: KIBMER3MLXH4BOQAQ...</td>\n",
       "    </tr>\n",
       "    <tr>\n",
       "      <th>4</th>\n",
       "      <td>/opt/anaconda3/bin/earthengine upload image --...</td>\n",
       "      <td>0</td>\n",
       "      <td>Started upload task with ID: PVXEAG5TVML2WYNVL...</td>\n",
       "    </tr>\n",
       "  </tbody>\n",
       "</table>\n",
       "</div>"
      ],
      "text/plain": [
       "                                             command  error  \\\n",
       "1  /opt/anaconda3/bin/earthengine upload image --...      0   \n",
       "2  /opt/anaconda3/bin/earthengine upload image --...      0   \n",
       "3  /opt/anaconda3/bin/earthengine upload image --...      0   \n",
       "4  /opt/anaconda3/bin/earthengine upload image --...      0   \n",
       "\n",
       "                                            response  \n",
       "1  Started upload task with ID: 76UC5LNKN6PAB44ZI...  \n",
       "2  Started upload task with ID: K6M4PZQCLVZOTW3MR...  \n",
       "3  Started upload task with ID: KIBMER3MLXH4BOQAQ...  \n",
       "4  Started upload task with ID: PVXEAG5TVML2WYNVL...  "
      ]
     },
     "execution_count": 91,
     "metadata": {},
     "output_type": "execute_result"
    }
   ],
   "source": [
    "df_errors"
   ]
  },
  {
   "cell_type": "code",
   "execution_count": null,
   "metadata": {
    "collapsed": true
   },
   "outputs": [],
   "source": [
    "end = datetime.datetime.now()\n",
    "elapsed = end - start\n",
    "print(elapsed)"
   ]
  }
 ],
 "metadata": {
  "kernelspec": {
   "display_name": "Python 27",
   "language": "python",
   "name": "python27"
  },
  "language_info": {
   "codemirror_mode": {
    "name": "ipython",
    "version": 2
   },
   "file_extension": ".py",
   "mimetype": "text/x-python",
   "name": "python",
   "nbconvert_exporter": "python",
   "pygments_lexer": "ipython2",
   "version": "2.7.14"
  }
 },
 "nbformat": 4,
 "nbformat_minor": 2
}
