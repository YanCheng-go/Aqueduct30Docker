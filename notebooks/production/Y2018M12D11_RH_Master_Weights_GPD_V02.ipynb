{
 "cells": [
  {
   "cell_type": "code",
   "execution_count": 1,
   "metadata": {},
   "outputs": [
    {
     "name": "stdout",
     "output_type": "stream",
     "text": [
      "\n",
      "BQ_OUTPUT_DATASET_NAME:  aqueduct30v01 \n",
      "BQ_OUTPUT_TABLE_NAME:  y2018m12d11_rh_master_weights_gpd_v02_v01 \n",
      "s3_output_path:  s3://wri-projects/Aqueduct30/processData/Y2018M12D11_RH_Master_Weights_GPD_V02/output_V01/ \n",
      "ec2_output_path: /volumes/data/Y2018M12D11_RH_Master_Weights_GPD_V02/output_V01\n"
     ]
    }
   ],
   "source": [
    "\"\"\" Apply industry weights on merged table.\n",
    "-------------------------------------------------------------------------------\n",
    "\n",
    "This script applies the industry weights to the framework. Overall Water Risk\n",
    "(OWR) is calculated for every industry. When scores are unavailable (nan),\n",
    "the weights have been set to Nan to exclude them from the weight sum. \n",
    "\n",
    "\n",
    "Grouped and overall water risks is calculated and stored as a separate \n",
    "indicator callend awr (aggregated water risk). \n",
    "\n",
    "Author: Rutger Hofste\n",
    "Date: 20181211\n",
    "Kernel: python35\n",
    "Docker: rutgerhofste/gisdocker:ubuntu16.04\n",
    "\n",
    "\"\"\"\n",
    "\n",
    "SCRIPT_NAME = 'Y2018M12D11_RH_Master_Weights_GPD_V02'\n",
    "OUTPUT_VERSION = 1\n",
    "\n",
    "BQ_IN = {}\n",
    "# Master Table\n",
    "BQ_IN[\"MASTER\"] = \"y2018m12d04_rh_master_merge_rawdata_gpd_v02_v02\"\n",
    "\n",
    "# Weights\n",
    "BQ_IN[\"WEIGHTS\"] =\"y2018m12d06_rh_process_weights_bq_v01_v01\"\n",
    "\n",
    "BQ_PROJECT_ID = \"aqueduct30\"\n",
    "BQ_OUTPUT_DATASET_NAME = \"aqueduct30v01\"\n",
    "BQ_OUTPUT_TABLE_NAME = \"{}_v{:02.0f}\".format(SCRIPT_NAME,OUTPUT_VERSION).lower()\n",
    "\n",
    "ec2_output_path = \"/volumes/data/{}/output_V{:02.0f}\".format(SCRIPT_NAME,OUTPUT_VERSION) \n",
    "s3_output_path = \"s3://wri-projects/Aqueduct30/processData/{}/output_V{:02.0f}/\".format(SCRIPT_NAME,OUTPUT_VERSION)\n",
    "\n",
    "print(\"\\nBQ_OUTPUT_DATASET_NAME: \", BQ_OUTPUT_DATASET_NAME,\n",
    "      \"\\nBQ_OUTPUT_TABLE_NAME: \", BQ_OUTPUT_TABLE_NAME,\n",
    "      \"\\ns3_output_path: \", s3_output_path,\n",
    "      \"\\nec2_output_path:\" , ec2_output_path)"
   ]
  },
  {
   "cell_type": "code",
   "execution_count": 2,
   "metadata": {},
   "outputs": [
    {
     "data": {
      "text/plain": [
       "{'MASTER': 'y2018m12d04_rh_master_merge_rawdata_gpd_v02_v02',\n",
       " 'WEIGHTS': 'y2018m12d06_rh_process_weights_bq_v01_v01'}"
      ]
     },
     "execution_count": 2,
     "metadata": {},
     "output_type": "execute_result"
    }
   ],
   "source": [
    "BQ_IN"
   ]
  },
  {
   "cell_type": "code",
   "execution_count": 3,
   "metadata": {},
   "outputs": [
    {
     "name": "stdout",
     "output_type": "stream",
     "text": [
      "Y2018M12D14 UTC 19:01\n"
     ]
    },
    {
     "data": {
      "text/plain": [
       "'3.5.4 |Anaconda, Inc.| (default, Nov 20 2017, 18:44:38) \\n[GCC 7.2.0]'"
      ]
     },
     "execution_count": 3,
     "metadata": {},
     "output_type": "execute_result"
    }
   ],
   "source": [
    "import time, datetime, sys\n",
    "dateString = time.strftime(\"Y%YM%mD%d\")\n",
    "timeString = time.strftime(\"UTC %H:%M\")\n",
    "start = datetime.datetime.now()\n",
    "print(dateString,timeString)\n",
    "sys.version"
   ]
  },
  {
   "cell_type": "code",
   "execution_count": 4,
   "metadata": {
    "collapsed": true
   },
   "outputs": [],
   "source": [
    "!rm -r {ec2_output_path}\n",
    "!mkdir -p {ec2_output_path}"
   ]
  },
  {
   "cell_type": "code",
   "execution_count": 5,
   "metadata": {
    "collapsed": true
   },
   "outputs": [],
   "source": [
    "import os\n",
    "import pandas as pd\n",
    "import numpy as np\n",
    "import scipy.interpolate\n",
    "from google.cloud import bigquery\n",
    "\n",
    "os.environ[\"GOOGLE_APPLICATION_CREDENTIALS\"] = \"/.google.json\"\n",
    "os.environ[\"GOOGLE_CLOUD_PROJECT\"] = \"aqueduct30\"\n",
    "client = bigquery.Client(project=BQ_PROJECT_ID)\n",
    "\n",
    "%matplotlib inline\n",
    "pd.set_option('display.max_columns', 500)\n"
   ]
  },
  {
   "cell_type": "code",
   "execution_count": 6,
   "metadata": {
    "collapsed": true
   },
   "outputs": [],
   "source": [
    "sql_master = \"\"\"\n",
    "SELECT\n",
    "  string_id,\n",
    "  indicator,\n",
    "  raw,\n",
    "  score,\n",
    "  cat,\n",
    "  label\n",
    "FROM\n",
    "  `{}.{}.{}`\n",
    "ORDER BY\n",
    "  string_id\n",
    "\"\"\".format(BQ_PROJECT_ID,BQ_OUTPUT_DATASET_NAME,BQ_IN[\"MASTER\"])"
   ]
  },
  {
   "cell_type": "code",
   "execution_count": 7,
   "metadata": {
    "collapsed": true
   },
   "outputs": [],
   "source": [
    "df_master = pd.read_gbq(query=sql_master,dialect=\"standard\")"
   ]
  },
  {
   "cell_type": "code",
   "execution_count": 8,
   "metadata": {},
   "outputs": [
    {
     "data": {
      "text/html": [
       "<div>\n",
       "<style scoped>\n",
       "    .dataframe tbody tr th:only-of-type {\n",
       "        vertical-align: middle;\n",
       "    }\n",
       "\n",
       "    .dataframe tbody tr th {\n",
       "        vertical-align: top;\n",
       "    }\n",
       "\n",
       "    .dataframe thead th {\n",
       "        text-align: right;\n",
       "    }\n",
       "</style>\n",
       "<table border=\"1\" class=\"dataframe\">\n",
       "  <thead>\n",
       "    <tr style=\"text-align: right;\">\n",
       "      <th></th>\n",
       "      <th>string_id</th>\n",
       "      <th>indicator</th>\n",
       "      <th>raw</th>\n",
       "      <th>score</th>\n",
       "      <th>cat</th>\n",
       "      <th>label</th>\n",
       "    </tr>\n",
       "  </thead>\n",
       "  <tbody>\n",
       "    <tr>\n",
       "      <th>0</th>\n",
       "      <td>111011-EGY.11_1-3365</td>\n",
       "      <td>bws</td>\n",
       "      <td>2.318042</td>\n",
       "      <td>5.000000</td>\n",
       "      <td>4.0</td>\n",
       "      <td>Extremely High</td>\n",
       "    </tr>\n",
       "    <tr>\n",
       "      <th>1</th>\n",
       "      <td>111011-EGY.11_1-3365</td>\n",
       "      <td>udw</td>\n",
       "      <td>0.011222</td>\n",
       "      <td>0.000000</td>\n",
       "      <td>0.0</td>\n",
       "      <td>Low (&lt; 2.5%)</td>\n",
       "    </tr>\n",
       "    <tr>\n",
       "      <th>2</th>\n",
       "      <td>111011-EGY.11_1-3365</td>\n",
       "      <td>drr</td>\n",
       "      <td>NaN</td>\n",
       "      <td>NaN</td>\n",
       "      <td>NaN</td>\n",
       "      <td>None</td>\n",
       "    </tr>\n",
       "    <tr>\n",
       "      <th>3</th>\n",
       "      <td>111011-EGY.11_1-3365</td>\n",
       "      <td>sev</td>\n",
       "      <td>0.962396</td>\n",
       "      <td>2.887187</td>\n",
       "      <td>2.0</td>\n",
       "      <td>Medium - High</td>\n",
       "    </tr>\n",
       "    <tr>\n",
       "      <th>4</th>\n",
       "      <td>111011-EGY.11_1-3365</td>\n",
       "      <td>bwd</td>\n",
       "      <td>0.987061</td>\n",
       "      <td>4.948243</td>\n",
       "      <td>4.0</td>\n",
       "      <td>Extremely High</td>\n",
       "    </tr>\n",
       "  </tbody>\n",
       "</table>\n",
       "</div>"
      ],
      "text/plain": [
       "              string_id indicator       raw     score  cat           label\n",
       "0  111011-EGY.11_1-3365       bws  2.318042  5.000000  4.0  Extremely High\n",
       "1  111011-EGY.11_1-3365       udw  0.011222  0.000000  0.0    Low (< 2.5%)\n",
       "2  111011-EGY.11_1-3365       drr       NaN       NaN  NaN            None\n",
       "3  111011-EGY.11_1-3365       sev  0.962396  2.887187  2.0   Medium - High\n",
       "4  111011-EGY.11_1-3365       bwd  0.987061  4.948243  4.0  Extremely High"
      ]
     },
     "execution_count": 8,
     "metadata": {},
     "output_type": "execute_result"
    }
   ],
   "source": [
    "df_master.head()"
   ]
  },
  {
   "cell_type": "code",
   "execution_count": 9,
   "metadata": {},
   "outputs": [
    {
     "data": {
      "text/plain": [
       "(822132, 6)"
      ]
     },
     "execution_count": 9,
     "metadata": {},
     "output_type": "execute_result"
    }
   ],
   "source": [
    "df_master.shape"
   ]
  },
  {
   "cell_type": "code",
   "execution_count": 10,
   "metadata": {
    "collapsed": true
   },
   "outputs": [],
   "source": [
    "df_in = df_master"
   ]
  },
  {
   "cell_type": "code",
   "execution_count": 11,
   "metadata": {
    "collapsed": true
   },
   "outputs": [],
   "source": [
    "sql_weights = \"\"\"\n",
    "SELECT\n",
    "  id,\n",
    "  group_full,\n",
    "  LOWER(group_short) AS group_short,\n",
    "  indicator_full,\n",
    "  LOWER(indicator_short) AS indicator_short,\n",
    "  industry_full,\n",
    "  LOWER(industry_short) AS industry_short,\n",
    "  weight_abs,\n",
    "  weight_label,\n",
    "  weight_interpretation,\n",
    "  weight_fraction\n",
    "FROM\n",
    "  `{}.{}.{}`\n",
    "\"\"\".format(BQ_PROJECT_ID,BQ_OUTPUT_DATASET_NAME,BQ_IN[\"WEIGHTS\"])"
   ]
  },
  {
   "cell_type": "code",
   "execution_count": 12,
   "metadata": {
    "collapsed": true
   },
   "outputs": [],
   "source": [
    "df_weights = pd.read_gbq(query=sql_weights,dialect=\"standard\")"
   ]
  },
  {
   "cell_type": "code",
   "execution_count": 13,
   "metadata": {},
   "outputs": [
    {
     "data": {
      "text/html": [
       "<div>\n",
       "<style scoped>\n",
       "    .dataframe tbody tr th:only-of-type {\n",
       "        vertical-align: middle;\n",
       "    }\n",
       "\n",
       "    .dataframe tbody tr th {\n",
       "        vertical-align: top;\n",
       "    }\n",
       "\n",
       "    .dataframe thead th {\n",
       "        text-align: right;\n",
       "    }\n",
       "</style>\n",
       "<table border=\"1\" class=\"dataframe\">\n",
       "  <thead>\n",
       "    <tr style=\"text-align: right;\">\n",
       "      <th></th>\n",
       "      <th>id</th>\n",
       "      <th>group_full</th>\n",
       "      <th>group_short</th>\n",
       "      <th>indicator_full</th>\n",
       "      <th>indicator_short</th>\n",
       "      <th>industry_full</th>\n",
       "      <th>industry_short</th>\n",
       "      <th>weight_abs</th>\n",
       "      <th>weight_label</th>\n",
       "      <th>weight_interpretation</th>\n",
       "      <th>weight_fraction</th>\n",
       "    </tr>\n",
       "  </thead>\n",
       "  <tbody>\n",
       "    <tr>\n",
       "      <th>0</th>\n",
       "      <td>88</td>\n",
       "      <td>Physical Risk Quality</td>\n",
       "      <td>qal</td>\n",
       "      <td>Coastal eutrophication potential</td>\n",
       "      <td>cep</td>\n",
       "      <td>Oil &amp; Gas</td>\n",
       "      <td>ong</td>\n",
       "      <td>0.0</td>\n",
       "      <td>No weight</td>\n",
       "      <td>Not relevant</td>\n",
       "      <td>0.000000</td>\n",
       "    </tr>\n",
       "    <tr>\n",
       "      <th>1</th>\n",
       "      <td>9</td>\n",
       "      <td>Physical Risk Quality</td>\n",
       "      <td>qal</td>\n",
       "      <td>Untreated collected wastewater</td>\n",
       "      <td>ucw</td>\n",
       "      <td>Default</td>\n",
       "      <td>def</td>\n",
       "      <td>2.0</td>\n",
       "      <td>High</td>\n",
       "      <td>Represents high risk to the industry</td>\n",
       "      <td>0.081633</td>\n",
       "    </tr>\n",
       "    <tr>\n",
       "      <th>2</th>\n",
       "      <td>35</td>\n",
       "      <td>Physical Risk Quality</td>\n",
       "      <td>qal</td>\n",
       "      <td>Untreated collected wastewater</td>\n",
       "      <td>ucw</td>\n",
       "      <td>Food &amp; Beverage</td>\n",
       "      <td>fnb</td>\n",
       "      <td>2.0</td>\n",
       "      <td>High</td>\n",
       "      <td>Represents high risk to the industry</td>\n",
       "      <td>0.081633</td>\n",
       "    </tr>\n",
       "    <tr>\n",
       "      <th>3</th>\n",
       "      <td>36</td>\n",
       "      <td>Physical Risk Quality</td>\n",
       "      <td>qal</td>\n",
       "      <td>Coastal eutrophication potential</td>\n",
       "      <td>cep</td>\n",
       "      <td>Food &amp; Beverage</td>\n",
       "      <td>fnb</td>\n",
       "      <td>2.0</td>\n",
       "      <td>High</td>\n",
       "      <td>Represents high risk to the industry</td>\n",
       "      <td>0.081633</td>\n",
       "    </tr>\n",
       "    <tr>\n",
       "      <th>4</th>\n",
       "      <td>48</td>\n",
       "      <td>Physical Risk Quality</td>\n",
       "      <td>qal</td>\n",
       "      <td>Untreated collected wastewater</td>\n",
       "      <td>ucw</td>\n",
       "      <td>Chemicals</td>\n",
       "      <td>che</td>\n",
       "      <td>2.0</td>\n",
       "      <td>High</td>\n",
       "      <td>Represents high risk to the industry</td>\n",
       "      <td>0.076190</td>\n",
       "    </tr>\n",
       "  </tbody>\n",
       "</table>\n",
       "</div>"
      ],
      "text/plain": [
       "   id              group_full group_short                    indicator_full  \\\n",
       "0  88  Physical Risk Quality          qal  Coastal eutrophication potential   \n",
       "1   9  Physical Risk Quality          qal    Untreated collected wastewater   \n",
       "2  35  Physical Risk Quality          qal    Untreated collected wastewater   \n",
       "3  36  Physical Risk Quality          qal  Coastal eutrophication potential   \n",
       "4  48  Physical Risk Quality          qal    Untreated collected wastewater   \n",
       "\n",
       "  indicator_short    industry_full industry_short  weight_abs weight_label  \\\n",
       "0             cep        Oil & Gas            ong         0.0   No weight    \n",
       "1             ucw          Default            def         2.0         High   \n",
       "2             ucw  Food & Beverage            fnb         2.0         High   \n",
       "3             cep  Food & Beverage            fnb         2.0         High   \n",
       "4             ucw        Chemicals            che         2.0         High   \n",
       "\n",
       "                   weight_interpretation  weight_fraction  \n",
       "0                          Not relevant          0.000000  \n",
       "1  Represents high risk to the industry          0.081633  \n",
       "2  Represents high risk to the industry          0.081633  \n",
       "3  Represents high risk to the industry          0.081633  \n",
       "4  Represents high risk to the industry          0.076190  "
      ]
     },
     "execution_count": 13,
     "metadata": {},
     "output_type": "execute_result"
    }
   ],
   "source": [
    "df_weights.head()"
   ]
  },
  {
   "cell_type": "code",
   "execution_count": 14,
   "metadata": {},
   "outputs": [
    {
     "data": {
      "text/plain": [
       "(130, 11)"
      ]
     },
     "execution_count": 14,
     "metadata": {},
     "output_type": "execute_result"
    }
   ],
   "source": [
    "df_weights.shape"
   ]
  },
  {
   "cell_type": "code",
   "execution_count": 15,
   "metadata": {
    "collapsed": true
   },
   "outputs": [],
   "source": [
    "df_groups = df_weights.loc[df_weights[\"industry_short\"] ==\"def\"][[\"indicator_short\",\"group_short\"]]"
   ]
  },
  {
   "cell_type": "code",
   "execution_count": 16,
   "metadata": {},
   "outputs": [
    {
     "data": {
      "text/html": [
       "<div>\n",
       "<style scoped>\n",
       "    .dataframe tbody tr th:only-of-type {\n",
       "        vertical-align: middle;\n",
       "    }\n",
       "\n",
       "    .dataframe tbody tr th {\n",
       "        vertical-align: top;\n",
       "    }\n",
       "\n",
       "    .dataframe thead th {\n",
       "        text-align: right;\n",
       "    }\n",
       "</style>\n",
       "<table border=\"1\" class=\"dataframe\">\n",
       "  <thead>\n",
       "    <tr style=\"text-align: right;\">\n",
       "      <th></th>\n",
       "      <th>indicator_short</th>\n",
       "      <th>group_short</th>\n",
       "    </tr>\n",
       "  </thead>\n",
       "  <tbody>\n",
       "    <tr>\n",
       "      <th>1</th>\n",
       "      <td>ucw</td>\n",
       "      <td>qal</td>\n",
       "    </tr>\n",
       "    <tr>\n",
       "      <th>15</th>\n",
       "      <td>cep</td>\n",
       "      <td>qal</td>\n",
       "    </tr>\n",
       "    <tr>\n",
       "      <th>20</th>\n",
       "      <td>drr</td>\n",
       "      <td>qan</td>\n",
       "    </tr>\n",
       "    <tr>\n",
       "      <th>42</th>\n",
       "      <td>bws</td>\n",
       "      <td>qan</td>\n",
       "    </tr>\n",
       "    <tr>\n",
       "      <th>43</th>\n",
       "      <td>bwd</td>\n",
       "      <td>qan</td>\n",
       "    </tr>\n",
       "    <tr>\n",
       "      <th>44</th>\n",
       "      <td>gtd</td>\n",
       "      <td>qan</td>\n",
       "    </tr>\n",
       "    <tr>\n",
       "      <th>62</th>\n",
       "      <td>iav</td>\n",
       "      <td>qan</td>\n",
       "    </tr>\n",
       "    <tr>\n",
       "      <th>63</th>\n",
       "      <td>sev</td>\n",
       "      <td>qan</td>\n",
       "    </tr>\n",
       "    <tr>\n",
       "      <th>75</th>\n",
       "      <td>rfr</td>\n",
       "      <td>qan</td>\n",
       "    </tr>\n",
       "    <tr>\n",
       "      <th>76</th>\n",
       "      <td>cfr</td>\n",
       "      <td>qan</td>\n",
       "    </tr>\n",
       "    <tr>\n",
       "      <th>100</th>\n",
       "      <td>udw</td>\n",
       "      <td>rrr</td>\n",
       "    </tr>\n",
       "    <tr>\n",
       "      <th>101</th>\n",
       "      <td>usa</td>\n",
       "      <td>rrr</td>\n",
       "    </tr>\n",
       "    <tr>\n",
       "      <th>122</th>\n",
       "      <td>rri</td>\n",
       "      <td>rrr</td>\n",
       "    </tr>\n",
       "  </tbody>\n",
       "</table>\n",
       "</div>"
      ],
      "text/plain": [
       "    indicator_short group_short\n",
       "1               ucw         qal\n",
       "15              cep         qal\n",
       "20              drr         qan\n",
       "42              bws         qan\n",
       "43              bwd         qan\n",
       "44              gtd         qan\n",
       "62              iav         qan\n",
       "63              sev         qan\n",
       "75              rfr         qan\n",
       "76              cfr         qan\n",
       "100             udw         rrr\n",
       "101             usa         rrr\n",
       "122             rri         rrr"
      ]
     },
     "execution_count": 16,
     "metadata": {},
     "output_type": "execute_result"
    }
   ],
   "source": [
    "df_groups"
   ]
  },
  {
   "cell_type": "code",
   "execution_count": 17,
   "metadata": {
    "collapsed": true
   },
   "outputs": [],
   "source": [
    "# Add group to dataframe\n",
    "df_in = pd.merge(left=df_in,\n",
    "                 right=df_groups,\n",
    "                 how=\"left\",\n",
    "                 left_on=\"indicator\",\n",
    "                 right_on=\"indicator_short\")\n",
    "df_in.drop(\"indicator_short\",axis=1,inplace=True)"
   ]
  },
  {
   "cell_type": "code",
   "execution_count": 18,
   "metadata": {
    "collapsed": true
   },
   "outputs": [],
   "source": [
    "df_industries = df_weights[[\"indicator_short\",\"industry_short\",\"weight_fraction\"]]"
   ]
  },
  {
   "cell_type": "code",
   "execution_count": 19,
   "metadata": {
    "collapsed": true
   },
   "outputs": [],
   "source": [
    "# Add industry to each indicator\n",
    "df_w = pd.merge(left=df_in,\n",
    "                right=df_industries,\n",
    "                left_on = \"indicator\",\n",
    "                right_on = \"indicator_short\",\n",
    "                how = \"right\")\n",
    "df_w.drop(\"indicator_short\",axis=1,inplace=True)"
   ]
  },
  {
   "cell_type": "code",
   "execution_count": 20,
   "metadata": {
    "collapsed": true
   },
   "outputs": [],
   "source": [
    "# mask out weights where score is None\n",
    "df_w[\"weight_fraction\"] = df_w[\"weight_fraction\"].mask(np.isnan(df_w[\"score\"]))\n"
   ]
  },
  {
   "cell_type": "code",
   "execution_count": 21,
   "metadata": {},
   "outputs": [],
   "source": [
    "df_w[\"weighted_score\"] = df_w[\"weight_fraction\"] * df_w[\"score\"]"
   ]
  },
  {
   "cell_type": "code",
   "execution_count": 22,
   "metadata": {},
   "outputs": [
    {
     "data": {
      "text/html": [
       "<div>\n",
       "<style scoped>\n",
       "    .dataframe tbody tr th:only-of-type {\n",
       "        vertical-align: middle;\n",
       "    }\n",
       "\n",
       "    .dataframe tbody tr th {\n",
       "        vertical-align: top;\n",
       "    }\n",
       "\n",
       "    .dataframe thead th {\n",
       "        text-align: right;\n",
       "    }\n",
       "</style>\n",
       "<table border=\"1\" class=\"dataframe\">\n",
       "  <thead>\n",
       "    <tr style=\"text-align: right;\">\n",
       "      <th></th>\n",
       "      <th>string_id</th>\n",
       "      <th>indicator</th>\n",
       "      <th>raw</th>\n",
       "      <th>score</th>\n",
       "      <th>cat</th>\n",
       "      <th>label</th>\n",
       "      <th>group_short</th>\n",
       "      <th>industry_short</th>\n",
       "      <th>weight_fraction</th>\n",
       "      <th>weighted_score</th>\n",
       "    </tr>\n",
       "  </thead>\n",
       "  <tbody>\n",
       "    <tr>\n",
       "      <th>0</th>\n",
       "      <td>111011-EGY.11_1-3365</td>\n",
       "      <td>bws</td>\n",
       "      <td>2.318042</td>\n",
       "      <td>5.0</td>\n",
       "      <td>4.0</td>\n",
       "      <td>Extremely High</td>\n",
       "      <td>qan</td>\n",
       "      <td>che</td>\n",
       "      <td>0.07619</td>\n",
       "      <td>0.380952</td>\n",
       "    </tr>\n",
       "    <tr>\n",
       "      <th>1</th>\n",
       "      <td>111011-EGY.15_1-3365</td>\n",
       "      <td>bws</td>\n",
       "      <td>2.318042</td>\n",
       "      <td>5.0</td>\n",
       "      <td>4.0</td>\n",
       "      <td>Extremely High</td>\n",
       "      <td>qan</td>\n",
       "      <td>che</td>\n",
       "      <td>0.07619</td>\n",
       "      <td>0.380952</td>\n",
       "    </tr>\n",
       "    <tr>\n",
       "      <th>2</th>\n",
       "      <td>111011-EGY.15_1-None</td>\n",
       "      <td>bws</td>\n",
       "      <td>2.318042</td>\n",
       "      <td>5.0</td>\n",
       "      <td>4.0</td>\n",
       "      <td>Extremely High</td>\n",
       "      <td>qan</td>\n",
       "      <td>che</td>\n",
       "      <td>0.07619</td>\n",
       "      <td>0.380952</td>\n",
       "    </tr>\n",
       "    <tr>\n",
       "      <th>3</th>\n",
       "      <td>111011-None-3365</td>\n",
       "      <td>bws</td>\n",
       "      <td>2.318042</td>\n",
       "      <td>5.0</td>\n",
       "      <td>4.0</td>\n",
       "      <td>Extremely High</td>\n",
       "      <td>qan</td>\n",
       "      <td>che</td>\n",
       "      <td>0.07619</td>\n",
       "      <td>0.380952</td>\n",
       "    </tr>\n",
       "    <tr>\n",
       "      <th>4</th>\n",
       "      <td>111011-None-None</td>\n",
       "      <td>bws</td>\n",
       "      <td>2.318042</td>\n",
       "      <td>5.0</td>\n",
       "      <td>4.0</td>\n",
       "      <td>Extremely High</td>\n",
       "      <td>qan</td>\n",
       "      <td>che</td>\n",
       "      <td>0.07619</td>\n",
       "      <td>0.380952</td>\n",
       "    </tr>\n",
       "  </tbody>\n",
       "</table>\n",
       "</div>"
      ],
      "text/plain": [
       "              string_id indicator       raw  score  cat           label  \\\n",
       "0  111011-EGY.11_1-3365       bws  2.318042    5.0  4.0  Extremely High   \n",
       "1  111011-EGY.15_1-3365       bws  2.318042    5.0  4.0  Extremely High   \n",
       "2  111011-EGY.15_1-None       bws  2.318042    5.0  4.0  Extremely High   \n",
       "3      111011-None-3365       bws  2.318042    5.0  4.0  Extremely High   \n",
       "4      111011-None-None       bws  2.318042    5.0  4.0  Extremely High   \n",
       "\n",
       "  group_short industry_short  weight_fraction  weighted_score  \n",
       "0         qan            che          0.07619        0.380952  \n",
       "1         qan            che          0.07619        0.380952  \n",
       "2         qan            che          0.07619        0.380952  \n",
       "3         qan            che          0.07619        0.380952  \n",
       "4         qan            che          0.07619        0.380952  "
      ]
     },
     "execution_count": 22,
     "metadata": {},
     "output_type": "execute_result"
    }
   ],
   "source": [
    "df_w.head()"
   ]
  },
  {
   "cell_type": "code",
   "execution_count": 23,
   "metadata": {
    "collapsed": true
   },
   "outputs": [],
   "source": [
    "def calculate_group_aggregate(df):\n",
    "    \"\"\" Calculates the weighted scores for each industry, group pair. \n",
    "    e.g. Quantity risk for Agriculture (qan,agr).\n",
    "    The dataframe will have an indicator called \"awr\" that stands for\n",
    "    aggregated water risk. \n",
    "    \n",
    "    \n",
    "    Args:\n",
    "        df (DataFrame) : Pandas Dataframe with Aqueduct values.\n",
    "    \n",
    "    Returns:\n",
    "        df_agg (DataFrame) : DataFrame with aggregated scores. \n",
    "    \n",
    "    \"\"\"\n",
    "    df_agg = df.groupby([\"string_id\",\"industry_short\",\"group_short\"])[\"weight_fraction\",\"weighted_score\"].agg(\"sum\").reset_index()\n",
    "    df_agg[\"indicator\"] = \"awr\" # Aggregated Water Risk\n",
    "    df_agg[\"raw\"] = df_agg[\"weighted_score\"] / df_agg[\"weight_fraction\"]\n",
    "    return df_agg\n",
    "\n",
    "def calculate_total_aggregate(df_group):\n",
    "    \"\"\" Calculates the weighted scores for each industry.\n",
    "    e.g. Total risk for Agriculture\n",
    "    The dataframe will have an indicator called \"awr\" that stands for\n",
    "    aggregated water risk and a 'group' tot that stands for total.\n",
    "    \n",
    "    \n",
    "    Args:\n",
    "        df_group (DataFrame) : Pandas Dataframe with Grouped \n",
    "            Aqueduct values.\n",
    "    \n",
    "    Returns:\n",
    "        df_totalagg (DataFrame) : DataFrame with aggregated scores. \n",
    "    \n",
    "    \"\"\"\n",
    "    df_totalagg = df_group.groupby([\"string_id\",\"industry_short\"])[\"weight_fraction\",\"weighted_score\"].agg(\"sum\").reset_index()\n",
    "    df_totalagg[\"group_short\"] = \"tot\"\n",
    "    df_totalagg[\"indicator\"] = \"awr\" \n",
    "    df_totalagg[\"raw\"] = df_totalagg[\"weighted_score\"] / df_totalagg[\"weight_fraction\"]\n",
    "    return df_totalagg\n",
    "\n",
    "def quantile_interp_function(s,q,y):\n",
    "    \"\"\" Get a interpolated function based on quantiles.\n",
    "    y and q should be the same length.\n",
    "    \n",
    "    Args:\n",
    "        s(pandas Series): Input y data that needs to \n",
    "            be remapped.\n",
    "        q(list): list with quantile x values.\n",
    "        y(list): list with y value to map to.\n",
    "        \n",
    "    Returns:\n",
    "        f(interp1d) : Scipy function object.\n",
    "        quantiles(Pandas Series): list of quantile y \n",
    "            values. \n",
    "        \n",
    "    Example:\n",
    "    \n",
    "        s = df[\"col\"]\n",
    "        q = [0,0.2,0.4,0.6,0.8,1]\n",
    "        y = [0,1,2,3,4,5]\n",
    "        f = quantile_interp_function(s,quantiles,y)\n",
    "        y_new = f(x)\n",
    "    \n",
    "    \"\"\"\n",
    "    quantiles = s.quantile(q=q)\n",
    "    f = scipy.interpolate.interp1d(quantiles,y)\n",
    "    return f, quantiles\n",
    "\n",
    "def calculate_group_remapped_scores(df_group):\n",
    "    \"\"\" remap scores based on quantiles and linear\n",
    "    interpolation. \n",
    "    \n",
    "    See other functions for more information.\n",
    "    \n",
    "    Quantiles are determined per-group. \n",
    "    \n",
    "    \n",
    "    \"\"\"\n",
    "    \n",
    "    groups = [\"qan\",\"qal\",\"rrr\"]\n",
    "    q = [0,0.2,0.4,0.6,0.8,1]\n",
    "    y = [0,1,2,3,4,5]\n",
    "\n",
    "    ss_out = pd.Series() \n",
    "    for group in groups:\n",
    "        s = df_group.loc[df_group[\"group_short\"] == group][\"raw\"]\n",
    "        f, quantiles = quantile_interp_function(s,q,y)\n",
    "        print(\"quantile values used for group: \",group, \"\\n\", quantiles)\n",
    "        s_out  = df_group.loc[df_group[\"group_short\"] == group][\"raw\"].apply(f)\n",
    "        ss_out = ss_out.append(s_out)\n",
    "\n",
    "    df_group[\"score\"] = ss_out\n",
    "    return df_group\n",
    "\n",
    "def calculate_remapped_scores(df):\n",
    "    q = [0,0.2,0.4,0.6,0.8,1]\n",
    "    y = [0,1,2,3,4,5]\n",
    "    s = df.loc[df[\"group_short\"] == \"tot\"][\"raw\"]\n",
    "    f, quantiles = quantile_interp_function(s,q,y)\n",
    "    print(\"quantiles used for aggregate total:\",quantiles)\n",
    "    df[\"score\"] = df[\"raw\"].apply(f)\n",
    "    return df\n",
    "\n",
    "def score_to_category(score):\n",
    "    if np.isnan(score):\n",
    "        cat = np.nan\n",
    "    elif score != 5:\n",
    "        cat = int(np.floor(score))\n",
    "    else:\n",
    "        cat = 4\n",
    "    return cat\n",
    "    \n",
    "\n",
    "def category_to_label(cat):\n",
    "    if np.isnan(cat):\n",
    "        label = \"NoData\"\n",
    "    elif cat == 0:\n",
    "        label = \"Low\"\n",
    "    elif cat == 1:\n",
    "        label = \"Low - Medium\"\n",
    "    elif cat == 2:\n",
    "        label = \"Medium\"\n",
    "    elif cat == 3:\n",
    "        label = \"Medium - High\"\n",
    "    elif cat == 4: \n",
    "        label = \"High\"\n",
    "    else:\n",
    "        label = \"Error\"\n",
    "    return label"
   ]
  },
  {
   "cell_type": "code",
   "execution_count": 24,
   "metadata": {
    "collapsed": true
   },
   "outputs": [],
   "source": [
    "df_group = calculate_group_aggregate(df_w)"
   ]
  },
  {
   "cell_type": "code",
   "execution_count": 25,
   "metadata": {},
   "outputs": [
    {
     "name": "stdout",
     "output_type": "stream",
     "text": [
      "quantile values used for group:  qan \n",
      " 0.0    0.000000\n",
      "0.2    0.544842\n",
      "0.4    0.886513\n",
      "0.6    1.499137\n",
      "0.8    2.383602\n",
      "1.0    5.000000\n",
      "Name: raw, dtype: float64\n",
      "quantile values used for group:  qal \n",
      " 0.0    0.000000\n",
      "0.2    1.147518\n",
      "0.4    2.012350\n",
      "0.6    2.850746\n",
      "0.8    3.661864\n",
      "1.0    5.000000\n",
      "Name: raw, dtype: float64\n",
      "quantile values used for group:  rrr \n",
      " 0.0    0.000000\n",
      "0.2    0.304000\n",
      "0.4    1.450219\n",
      "0.6    2.871838\n",
      "0.8    3.950681\n",
      "1.0    5.000000\n",
      "Name: raw, dtype: float64\n"
     ]
    }
   ],
   "source": [
    "df_group = calculate_group_remapped_scores(df_group)"
   ]
  },
  {
   "cell_type": "code",
   "execution_count": 26,
   "metadata": {
    "collapsed": true
   },
   "outputs": [],
   "source": [
    "df_total = calculate_total_aggregate(df_group)"
   ]
  },
  {
   "cell_type": "code",
   "execution_count": 27,
   "metadata": {},
   "outputs": [
    {
     "name": "stdout",
     "output_type": "stream",
     "text": [
      "quantiles used for aggregate total: 0.0    0.000000\n",
      "0.2    0.934748\n",
      "0.4    1.574611\n",
      "0.6    2.076583\n",
      "0.8    2.693158\n",
      "1.0    5.000000\n",
      "Name: raw, dtype: float64\n"
     ]
    }
   ],
   "source": [
    "df_total = calculate_remapped_scores(df_total)"
   ]
  },
  {
   "cell_type": "code",
   "execution_count": 33,
   "metadata": {},
   "outputs": [],
   "source": [
    "df_agg = pd.concat([df_group, df_total],axis=0)"
   ]
  },
  {
   "cell_type": "code",
   "execution_count": 36,
   "metadata": {},
   "outputs": [],
   "source": [
    "df_agg[\"cat\"] = df_agg[\"score\"].apply(score_to_category)\n",
    "df_agg[\"label\"] = df_agg[\"cat\"].apply(category_to_label)"
   ]
  },
  {
   "cell_type": "code",
   "execution_count": 37,
   "metadata": {
    "collapsed": true
   },
   "outputs": [],
   "source": [
    "df_agg_out = pd.concat([df_w,df_agg],axis=0)"
   ]
  },
  {
   "cell_type": "code",
   "execution_count": 41,
   "metadata": {},
   "outputs": [],
   "source": [
    "df_agg_out.sort_index(axis=1,inplace=True)"
   ]
  },
  {
   "cell_type": "code",
   "execution_count": 42,
   "metadata": {},
   "outputs": [
    {
     "data": {
      "text/html": [
       "<div>\n",
       "<style scoped>\n",
       "    .dataframe tbody tr th:only-of-type {\n",
       "        vertical-align: middle;\n",
       "    }\n",
       "\n",
       "    .dataframe tbody tr th {\n",
       "        vertical-align: top;\n",
       "    }\n",
       "\n",
       "    .dataframe thead th {\n",
       "        text-align: right;\n",
       "    }\n",
       "</style>\n",
       "<table border=\"1\" class=\"dataframe\">\n",
       "  <thead>\n",
       "    <tr style=\"text-align: right;\">\n",
       "      <th></th>\n",
       "      <th>cat</th>\n",
       "      <th>group_short</th>\n",
       "      <th>indicator</th>\n",
       "      <th>industry_short</th>\n",
       "      <th>label</th>\n",
       "      <th>raw</th>\n",
       "      <th>score</th>\n",
       "      <th>string_id</th>\n",
       "      <th>weight_fraction</th>\n",
       "      <th>weighted_score</th>\n",
       "    </tr>\n",
       "  </thead>\n",
       "  <tbody>\n",
       "    <tr>\n",
       "      <th>0</th>\n",
       "      <td>4.0</td>\n",
       "      <td>qan</td>\n",
       "      <td>bws</td>\n",
       "      <td>che</td>\n",
       "      <td>Extremely High</td>\n",
       "      <td>2.318042</td>\n",
       "      <td>5.0</td>\n",
       "      <td>111011-EGY.11_1-3365</td>\n",
       "      <td>0.07619</td>\n",
       "      <td>0.380952</td>\n",
       "    </tr>\n",
       "    <tr>\n",
       "      <th>1</th>\n",
       "      <td>4.0</td>\n",
       "      <td>qan</td>\n",
       "      <td>bws</td>\n",
       "      <td>che</td>\n",
       "      <td>Extremely High</td>\n",
       "      <td>2.318042</td>\n",
       "      <td>5.0</td>\n",
       "      <td>111011-EGY.15_1-3365</td>\n",
       "      <td>0.07619</td>\n",
       "      <td>0.380952</td>\n",
       "    </tr>\n",
       "    <tr>\n",
       "      <th>2</th>\n",
       "      <td>4.0</td>\n",
       "      <td>qan</td>\n",
       "      <td>bws</td>\n",
       "      <td>che</td>\n",
       "      <td>Extremely High</td>\n",
       "      <td>2.318042</td>\n",
       "      <td>5.0</td>\n",
       "      <td>111011-EGY.15_1-None</td>\n",
       "      <td>0.07619</td>\n",
       "      <td>0.380952</td>\n",
       "    </tr>\n",
       "    <tr>\n",
       "      <th>3</th>\n",
       "      <td>4.0</td>\n",
       "      <td>qan</td>\n",
       "      <td>bws</td>\n",
       "      <td>che</td>\n",
       "      <td>Extremely High</td>\n",
       "      <td>2.318042</td>\n",
       "      <td>5.0</td>\n",
       "      <td>111011-None-3365</td>\n",
       "      <td>0.07619</td>\n",
       "      <td>0.380952</td>\n",
       "    </tr>\n",
       "    <tr>\n",
       "      <th>4</th>\n",
       "      <td>4.0</td>\n",
       "      <td>qan</td>\n",
       "      <td>bws</td>\n",
       "      <td>che</td>\n",
       "      <td>Extremely High</td>\n",
       "      <td>2.318042</td>\n",
       "      <td>5.0</td>\n",
       "      <td>111011-None-None</td>\n",
       "      <td>0.07619</td>\n",
       "      <td>0.380952</td>\n",
       "    </tr>\n",
       "  </tbody>\n",
       "</table>\n",
       "</div>"
      ],
      "text/plain": [
       "   cat group_short indicator industry_short           label       raw  score  \\\n",
       "0  4.0         qan       bws            che  Extremely High  2.318042    5.0   \n",
       "1  4.0         qan       bws            che  Extremely High  2.318042    5.0   \n",
       "2  4.0         qan       bws            che  Extremely High  2.318042    5.0   \n",
       "3  4.0         qan       bws            che  Extremely High  2.318042    5.0   \n",
       "4  4.0         qan       bws            che  Extremely High  2.318042    5.0   \n",
       "\n",
       "              string_id  weight_fraction  weighted_score  \n",
       "0  111011-EGY.11_1-3365          0.07619        0.380952  \n",
       "1  111011-EGY.15_1-3365          0.07619        0.380952  \n",
       "2  111011-EGY.15_1-None          0.07619        0.380952  \n",
       "3      111011-None-3365          0.07619        0.380952  \n",
       "4      111011-None-None          0.07619        0.380952  "
      ]
     },
     "execution_count": 42,
     "metadata": {},
     "output_type": "execute_result"
    }
   ],
   "source": [
    "df_agg_out.head()"
   ]
  },
  {
   "cell_type": "code",
   "execution_count": 43,
   "metadata": {},
   "outputs": [],
   "source": [
    "destination_path_s3 = \"{}/{}.csv\".format(ec2_output_path,SCRIPT_NAME)"
   ]
  },
  {
   "cell_type": "code",
   "execution_count": 44,
   "metadata": {
    "collapsed": true
   },
   "outputs": [],
   "source": [
    "df_agg_out.to_csv(destination_path_s3)"
   ]
  },
  {
   "cell_type": "code",
   "execution_count": 46,
   "metadata": {},
   "outputs": [
    {
     "name": "stdout",
     "output_type": "stream",
     "text": [
      "upload: ../../../../data/Y2018M12D11_RH_Master_Weights_GPD_V02/output_V01/Y2018M12D11_RH_Master_Weights_GPD_V02.csv to s3://wri-projects/Aqueduct30/processData/Y2018M12D11_RH_Master_Weights_GPD_V02/output_V01/Y2018M12D11_RH_Master_Weights_GPD_V02.csv\n"
     ]
    }
   ],
   "source": [
    "!aws s3 cp {ec2_output_path} {s3_output_path} --recursive"
   ]
  },
  {
   "cell_type": "code",
   "execution_count": 47,
   "metadata": {
    "collapsed": true
   },
   "outputs": [],
   "source": [
    "destination_table = \"{}.{}\".format(BQ_OUTPUT_DATASET_NAME,BQ_OUTPUT_TABLE_NAME)"
   ]
  },
  {
   "cell_type": "code",
   "execution_count": 49,
   "metadata": {},
   "outputs": [
    {
     "name": "stderr",
     "output_type": "stream",
     "text": [
      "102it [18:40, 10.98s/it]\n"
     ]
    }
   ],
   "source": [
    "# This can be sped up by using csv files, storing to GCS and ingesting from there.\n",
    "df_agg_out.to_gbq(destination_table=destination_table,\n",
    "                         project_id=BQ_PROJECT_ID,\n",
    "                         chunksize=100000,\n",
    "                         if_exists=\"replace\")"
   ]
  },
  {
   "cell_type": "code",
   "execution_count": 50,
   "metadata": {},
   "outputs": [
    {
     "name": "stdout",
     "output_type": "stream",
     "text": [
      "0:28:11.269342\n"
     ]
    }
   ],
   "source": [
    "end = datetime.datetime.now()\n",
    "elapsed = end - start\n",
    "print(elapsed)"
   ]
  },
  {
   "cell_type": "markdown",
   "metadata": {},
   "source": [
    "Previous runs:   \n",
    "0:28:11.269342"
   ]
  }
 ],
 "metadata": {
  "kernelspec": {
   "display_name": "Python 35",
   "language": "python",
   "name": "python35"
  },
  "language_info": {
   "codemirror_mode": {
    "name": "ipython",
    "version": 3
   },
   "file_extension": ".py",
   "mimetype": "text/x-python",
   "name": "python",
   "nbconvert_exporter": "python",
   "pygments_lexer": "ipython3",
   "version": "3.5.4"
  }
 },
 "nbformat": 4,
 "nbformat_minor": 2
}
