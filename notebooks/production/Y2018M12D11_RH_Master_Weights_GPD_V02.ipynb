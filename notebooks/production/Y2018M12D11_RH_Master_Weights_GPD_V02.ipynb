{
 "cells": [
  {
   "cell_type": "code",
   "execution_count": 1,
   "metadata": {},
   "outputs": [
    {
     "name": "stdout",
     "output_type": "stream",
     "text": [
      "\n",
      "BQ_OUTPUT_DATASET_NAME:  aqueduct30v01 \n",
      "BQ_OUTPUT_TABLE_NAME:  y2018m12d11_rh_master_weights_gpd_v02_v01 \n",
      "s3_output_path:  s3://wri-projects/Aqueduct30/processData/Y2018M12D11_RH_Master_Weights_GPD_V02/output_V01/ \n",
      "ec2_output_path: /volumes/data/Y2018M12D11_RH_Master_Weights_GPD_V02/output_V01\n"
     ]
    }
   ],
   "source": [
    "\"\"\" Apply industry weights on merged table.\n",
    "-------------------------------------------------------------------------------\n",
    "\n",
    "This script applies the industry weights to the framework. Overall Water Risk\n",
    "(OWR) is calculated for every industry. When scores are unavailable (nan),\n",
    "the weights have been set to Nan to exclude them from the weight sum. \n",
    "\n",
    "Todo:\n",
    "overall water risk scores per category (e.g.) have not been calculated yet. \n",
    "\n",
    "\n",
    "Author: Rutger Hofste\n",
    "Date: 20181211\n",
    "Kernel: python35\n",
    "Docker: rutgerhofste/gisdocker:ubuntu16.04\n",
    "\n",
    "\"\"\"\n",
    "\n",
    "SCRIPT_NAME = 'Y2018M12D11_RH_Master_Weights_GPD_V02'\n",
    "OUTPUT_VERSION = 1\n",
    "\n",
    "BQ_IN = {}\n",
    "# Master Table\n",
    "BQ_IN[\"MASTER\"] = \"y2018m12d04_rh_master_merge_rawdata_gpd_v02_v02\"\n",
    "\n",
    "# Weights\n",
    "BQ_IN[\"WEIGHTS\"] =\"y2018m12d06_rh_process_weights_bq_v01_v01\"\n",
    "\n",
    "BQ_PROJECT_ID = \"aqueduct30\"\n",
    "BQ_OUTPUT_DATASET_NAME = \"aqueduct30v01\"\n",
    "BQ_OUTPUT_TABLE_NAME = \"{}_v{:02.0f}\".format(SCRIPT_NAME,OUTPUT_VERSION).lower()\n",
    "\n",
    "ec2_output_path = \"/volumes/data/{}/output_V{:02.0f}\".format(SCRIPT_NAME,OUTPUT_VERSION) \n",
    "s3_output_path = \"s3://wri-projects/Aqueduct30/processData/{}/output_V{:02.0f}/\".format(SCRIPT_NAME,OUTPUT_VERSION)\n",
    "\n",
    "print(\"\\nBQ_OUTPUT_DATASET_NAME: \", BQ_OUTPUT_DATASET_NAME,\n",
    "      \"\\nBQ_OUTPUT_TABLE_NAME: \", BQ_OUTPUT_TABLE_NAME,\n",
    "      \"\\ns3_output_path: \", s3_output_path,\n",
    "      \"\\nec2_output_path:\" , ec2_output_path)"
   ]
  },
  {
   "cell_type": "code",
   "execution_count": 2,
   "metadata": {},
   "outputs": [
    {
     "data": {
      "text/plain": [
       "{'MASTER': 'y2018m12d04_rh_master_merge_rawdata_gpd_v02_v02',\n",
       " 'WEIGHTS': 'y2018m12d06_rh_process_weights_bq_v01_v01'}"
      ]
     },
     "execution_count": 2,
     "metadata": {},
     "output_type": "execute_result"
    }
   ],
   "source": [
    "BQ_IN"
   ]
  },
  {
   "cell_type": "code",
   "execution_count": 3,
   "metadata": {},
   "outputs": [
    {
     "name": "stdout",
     "output_type": "stream",
     "text": [
      "Y2018M12D13 UTC 21:14\n"
     ]
    },
    {
     "data": {
      "text/plain": [
       "'3.5.4 |Anaconda, Inc.| (default, Nov 20 2017, 18:44:38) \\n[GCC 7.2.0]'"
      ]
     },
     "execution_count": 3,
     "metadata": {},
     "output_type": "execute_result"
    }
   ],
   "source": [
    "import time, datetime, sys\n",
    "dateString = time.strftime(\"Y%YM%mD%d\")\n",
    "timeString = time.strftime(\"UTC %H:%M\")\n",
    "start = datetime.datetime.now()\n",
    "print(dateString,timeString)\n",
    "sys.version"
   ]
  },
  {
   "cell_type": "code",
   "execution_count": 4,
   "metadata": {},
   "outputs": [],
   "source": [
    "!rm -r {ec2_output_path}\n",
    "!mkdir -p {ec2_output_path}"
   ]
  },
  {
   "cell_type": "code",
   "execution_count": 5,
   "metadata": {
    "collapsed": true
   },
   "outputs": [],
   "source": [
    "import os\n",
    "import pandas as pd\n",
    "import numpy as np\n",
    "from google.cloud import bigquery\n",
    "\n",
    "os.environ[\"GOOGLE_APPLICATION_CREDENTIALS\"] = \"/.google.json\"\n",
    "os.environ[\"GOOGLE_CLOUD_PROJECT\"] = \"aqueduct30\"\n",
    "client = bigquery.Client(project=BQ_PROJECT_ID)\n",
    "\n",
    "pd.set_option('display.max_columns', 500)"
   ]
  },
  {
   "cell_type": "code",
   "execution_count": 6,
   "metadata": {
    "collapsed": true
   },
   "outputs": [],
   "source": [
    "sql_master = \"\"\"\n",
    "SELECT\n",
    "  string_id,\n",
    "  pfaf_id,\n",
    "  gid_0,\n",
    "  gid_1,\n",
    "  aqid,\n",
    "  delta_id,\n",
    "  indicator,\n",
    "  raw,\n",
    "  score,\n",
    "  cat,\n",
    "  label\n",
    "FROM\n",
    "  `{}.{}.{}`\n",
    "ORDER BY\n",
    "  string_id\n",
    "\"\"\".format(BQ_PROJECT_ID,BQ_OUTPUT_DATASET_NAME,BQ_IN[\"MASTER\"])"
   ]
  },
  {
   "cell_type": "code",
   "execution_count": 7,
   "metadata": {
    "collapsed": true
   },
   "outputs": [],
   "source": [
    "df_master = pd.read_gbq(query=sql_master,dialect=\"standard\")"
   ]
  },
  {
   "cell_type": "code",
   "execution_count": 8,
   "metadata": {},
   "outputs": [
    {
     "data": {
      "text/html": [
       "<div>\n",
       "<style scoped>\n",
       "    .dataframe tbody tr th:only-of-type {\n",
       "        vertical-align: middle;\n",
       "    }\n",
       "\n",
       "    .dataframe tbody tr th {\n",
       "        vertical-align: top;\n",
       "    }\n",
       "\n",
       "    .dataframe thead th {\n",
       "        text-align: right;\n",
       "    }\n",
       "</style>\n",
       "<table border=\"1\" class=\"dataframe\">\n",
       "  <thead>\n",
       "    <tr style=\"text-align: right;\">\n",
       "      <th></th>\n",
       "      <th>string_id</th>\n",
       "      <th>pfaf_id</th>\n",
       "      <th>gid_0</th>\n",
       "      <th>gid_1</th>\n",
       "      <th>aqid</th>\n",
       "      <th>delta_id</th>\n",
       "      <th>indicator</th>\n",
       "      <th>raw</th>\n",
       "      <th>score</th>\n",
       "      <th>cat</th>\n",
       "      <th>label</th>\n",
       "    </tr>\n",
       "  </thead>\n",
       "  <tbody>\n",
       "    <tr>\n",
       "      <th>0</th>\n",
       "      <td>111011-EGY.11_1-3365</td>\n",
       "      <td>111011.0</td>\n",
       "      <td>EGY</td>\n",
       "      <td>EGY.11_1</td>\n",
       "      <td>3365.0</td>\n",
       "      <td>-1.0</td>\n",
       "      <td>bws</td>\n",
       "      <td>2.318042</td>\n",
       "      <td>5.000000</td>\n",
       "      <td>4.0</td>\n",
       "      <td>Extremely High</td>\n",
       "    </tr>\n",
       "    <tr>\n",
       "      <th>1</th>\n",
       "      <td>111011-EGY.11_1-3365</td>\n",
       "      <td>111011.0</td>\n",
       "      <td>EGY</td>\n",
       "      <td>EGY.11_1</td>\n",
       "      <td>3365.0</td>\n",
       "      <td>-1.0</td>\n",
       "      <td>iav</td>\n",
       "      <td>1.035414</td>\n",
       "      <td>4.141657</td>\n",
       "      <td>4.0</td>\n",
       "      <td>Extremely High</td>\n",
       "    </tr>\n",
       "    <tr>\n",
       "      <th>2</th>\n",
       "      <td>111011-EGY.11_1-3365</td>\n",
       "      <td>111011.0</td>\n",
       "      <td>EGY</td>\n",
       "      <td>EGY.11_1</td>\n",
       "      <td>3365.0</td>\n",
       "      <td>NaN</td>\n",
       "      <td>usa</td>\n",
       "      <td>0.025333</td>\n",
       "      <td>1.019067</td>\n",
       "      <td>1.0</td>\n",
       "      <td>Low to medium (2.5 to 5%)</td>\n",
       "    </tr>\n",
       "    <tr>\n",
       "      <th>3</th>\n",
       "      <td>111011-EGY.11_1-3365</td>\n",
       "      <td>111011.0</td>\n",
       "      <td>EGY</td>\n",
       "      <td>EGY.11_1</td>\n",
       "      <td>3365.0</td>\n",
       "      <td>NaN</td>\n",
       "      <td>gtd</td>\n",
       "      <td>0.843958</td>\n",
       "      <td>NaN</td>\n",
       "      <td>NaN</td>\n",
       "      <td>Insignificant Trend</td>\n",
       "    </tr>\n",
       "    <tr>\n",
       "      <th>4</th>\n",
       "      <td>111011-EGY.11_1-3365</td>\n",
       "      <td>111011.0</td>\n",
       "      <td>EGY</td>\n",
       "      <td>EGY.11_1</td>\n",
       "      <td>3365.0</td>\n",
       "      <td>NaN</td>\n",
       "      <td>cep</td>\n",
       "      <td>0.000000</td>\n",
       "      <td>1.250000</td>\n",
       "      <td>1.0</td>\n",
       "      <td>Low to medium (-5 to 0)</td>\n",
       "    </tr>\n",
       "  </tbody>\n",
       "</table>\n",
       "</div>"
      ],
      "text/plain": [
       "              string_id   pfaf_id gid_0     gid_1    aqid  delta_id indicator  \\\n",
       "0  111011-EGY.11_1-3365  111011.0   EGY  EGY.11_1  3365.0      -1.0       bws   \n",
       "1  111011-EGY.11_1-3365  111011.0   EGY  EGY.11_1  3365.0      -1.0       iav   \n",
       "2  111011-EGY.11_1-3365  111011.0   EGY  EGY.11_1  3365.0       NaN       usa   \n",
       "3  111011-EGY.11_1-3365  111011.0   EGY  EGY.11_1  3365.0       NaN       gtd   \n",
       "4  111011-EGY.11_1-3365  111011.0   EGY  EGY.11_1  3365.0       NaN       cep   \n",
       "\n",
       "        raw     score  cat                      label  \n",
       "0  2.318042  5.000000  4.0             Extremely High  \n",
       "1  1.035414  4.141657  4.0             Extremely High  \n",
       "2  0.025333  1.019067  1.0  Low to medium (2.5 to 5%)  \n",
       "3  0.843958       NaN  NaN        Insignificant Trend  \n",
       "4  0.000000  1.250000  1.0    Low to medium (-5 to 0)  "
      ]
     },
     "execution_count": 8,
     "metadata": {},
     "output_type": "execute_result"
    }
   ],
   "source": [
    "df_master.head()"
   ]
  },
  {
   "cell_type": "code",
   "execution_count": 9,
   "metadata": {},
   "outputs": [
    {
     "data": {
      "text/plain": [
       "(822132, 11)"
      ]
     },
     "execution_count": 9,
     "metadata": {},
     "output_type": "execute_result"
    }
   ],
   "source": [
    "df_master.shape"
   ]
  },
  {
   "cell_type": "code",
   "execution_count": 43,
   "metadata": {
    "collapsed": true
   },
   "outputs": [],
   "source": [
    "df_in = df_master"
   ]
  },
  {
   "cell_type": "code",
   "execution_count": 44,
   "metadata": {
    "collapsed": true
   },
   "outputs": [],
   "source": [
    "sql_weights = \"\"\"\n",
    "SELECT\n",
    "  id,\n",
    "  group_full,\n",
    "  group_short,\n",
    "  indicator_full,\n",
    "  indicator_short,\n",
    "  industry_full,\n",
    "  industry_short,\n",
    "  weight_abs,\n",
    "  weight_label,\n",
    "  weight_interpretation,\n",
    "  weight_fraction\n",
    "FROM\n",
    "  `{}.{}.{}`\n",
    "\"\"\".format(BQ_PROJECT_ID,BQ_OUTPUT_DATASET_NAME,BQ_IN[\"WEIGHTS\"])"
   ]
  },
  {
   "cell_type": "code",
   "execution_count": 45,
   "metadata": {},
   "outputs": [],
   "source": [
    "df_weights = pd.read_gbq(query=sql_weights,dialect=\"standard\")"
   ]
  },
  {
   "cell_type": "code",
   "execution_count": 46,
   "metadata": {},
   "outputs": [
    {
     "data": {
      "text/html": [
       "<div>\n",
       "<style scoped>\n",
       "    .dataframe tbody tr th:only-of-type {\n",
       "        vertical-align: middle;\n",
       "    }\n",
       "\n",
       "    .dataframe tbody tr th {\n",
       "        vertical-align: top;\n",
       "    }\n",
       "\n",
       "    .dataframe thead th {\n",
       "        text-align: right;\n",
       "    }\n",
       "</style>\n",
       "<table border=\"1\" class=\"dataframe\">\n",
       "  <thead>\n",
       "    <tr style=\"text-align: right;\">\n",
       "      <th></th>\n",
       "      <th>id</th>\n",
       "      <th>group_full</th>\n",
       "      <th>group_short</th>\n",
       "      <th>indicator_full</th>\n",
       "      <th>indicator_short</th>\n",
       "      <th>industry_full</th>\n",
       "      <th>industry_short</th>\n",
       "      <th>weight_abs</th>\n",
       "      <th>weight_label</th>\n",
       "      <th>weight_interpretation</th>\n",
       "      <th>weight_fraction</th>\n",
       "    </tr>\n",
       "  </thead>\n",
       "  <tbody>\n",
       "    <tr>\n",
       "      <th>0</th>\n",
       "      <td>88</td>\n",
       "      <td>Physical Risk Quality</td>\n",
       "      <td>QAL</td>\n",
       "      <td>Coastal eutrophication potential</td>\n",
       "      <td>CEP</td>\n",
       "      <td>Oil &amp; Gas</td>\n",
       "      <td>ONG</td>\n",
       "      <td>0.0</td>\n",
       "      <td>No weight</td>\n",
       "      <td>Not relevant</td>\n",
       "      <td>0.000000</td>\n",
       "    </tr>\n",
       "    <tr>\n",
       "      <th>1</th>\n",
       "      <td>9</td>\n",
       "      <td>Physical Risk Quality</td>\n",
       "      <td>QAL</td>\n",
       "      <td>Untreated collected wastewater</td>\n",
       "      <td>UCW</td>\n",
       "      <td>Default</td>\n",
       "      <td>DEF</td>\n",
       "      <td>2.0</td>\n",
       "      <td>High</td>\n",
       "      <td>Represents high risk to the industry</td>\n",
       "      <td>0.081633</td>\n",
       "    </tr>\n",
       "    <tr>\n",
       "      <th>2</th>\n",
       "      <td>35</td>\n",
       "      <td>Physical Risk Quality</td>\n",
       "      <td>QAL</td>\n",
       "      <td>Untreated collected wastewater</td>\n",
       "      <td>UCW</td>\n",
       "      <td>Food &amp; Beverage</td>\n",
       "      <td>FNB</td>\n",
       "      <td>2.0</td>\n",
       "      <td>High</td>\n",
       "      <td>Represents high risk to the industry</td>\n",
       "      <td>0.081633</td>\n",
       "    </tr>\n",
       "    <tr>\n",
       "      <th>3</th>\n",
       "      <td>36</td>\n",
       "      <td>Physical Risk Quality</td>\n",
       "      <td>QAL</td>\n",
       "      <td>Coastal eutrophication potential</td>\n",
       "      <td>CEP</td>\n",
       "      <td>Food &amp; Beverage</td>\n",
       "      <td>FNB</td>\n",
       "      <td>2.0</td>\n",
       "      <td>High</td>\n",
       "      <td>Represents high risk to the industry</td>\n",
       "      <td>0.081633</td>\n",
       "    </tr>\n",
       "    <tr>\n",
       "      <th>4</th>\n",
       "      <td>48</td>\n",
       "      <td>Physical Risk Quality</td>\n",
       "      <td>QAL</td>\n",
       "      <td>Untreated collected wastewater</td>\n",
       "      <td>UCW</td>\n",
       "      <td>Chemicals</td>\n",
       "      <td>CHE</td>\n",
       "      <td>2.0</td>\n",
       "      <td>High</td>\n",
       "      <td>Represents high risk to the industry</td>\n",
       "      <td>0.076190</td>\n",
       "    </tr>\n",
       "  </tbody>\n",
       "</table>\n",
       "</div>"
      ],
      "text/plain": [
       "   id              group_full group_short                    indicator_full  \\\n",
       "0  88  Physical Risk Quality          QAL  Coastal eutrophication potential   \n",
       "1   9  Physical Risk Quality          QAL    Untreated collected wastewater   \n",
       "2  35  Physical Risk Quality          QAL    Untreated collected wastewater   \n",
       "3  36  Physical Risk Quality          QAL  Coastal eutrophication potential   \n",
       "4  48  Physical Risk Quality          QAL    Untreated collected wastewater   \n",
       "\n",
       "  indicator_short    industry_full industry_short  weight_abs weight_label  \\\n",
       "0             CEP        Oil & Gas            ONG         0.0   No weight    \n",
       "1             UCW          Default            DEF         2.0         High   \n",
       "2             UCW  Food & Beverage            FNB         2.0         High   \n",
       "3             CEP  Food & Beverage            FNB         2.0         High   \n",
       "4             UCW        Chemicals            CHE         2.0         High   \n",
       "\n",
       "                   weight_interpretation  weight_fraction  \n",
       "0                          Not relevant          0.000000  \n",
       "1  Represents high risk to the industry          0.081633  \n",
       "2  Represents high risk to the industry          0.081633  \n",
       "3  Represents high risk to the industry          0.081633  \n",
       "4  Represents high risk to the industry          0.076190  "
      ]
     },
     "execution_count": 46,
     "metadata": {},
     "output_type": "execute_result"
    }
   ],
   "source": [
    "df_weights.head()"
   ]
  },
  {
   "cell_type": "code",
   "execution_count": 47,
   "metadata": {},
   "outputs": [
    {
     "data": {
      "text/plain": [
       "(130, 11)"
      ]
     },
     "execution_count": 47,
     "metadata": {},
     "output_type": "execute_result"
    }
   ],
   "source": [
    "df_weights.shape"
   ]
  },
  {
   "cell_type": "code",
   "execution_count": 48,
   "metadata": {},
   "outputs": [],
   "source": [
    "df_groups = df_weights.loc[df_weights[\"industry_short\"] ==\"DEF\"][[\"indicator_short\",\"group_short\"]]"
   ]
  },
  {
   "cell_type": "code",
   "execution_count": 49,
   "metadata": {},
   "outputs": [],
   "source": [
    "df_groups = df_groups.apply(lambda x: x.astype(str).str.lower())"
   ]
  },
  {
   "cell_type": "code",
   "execution_count": 50,
   "metadata": {},
   "outputs": [
    {
     "data": {
      "text/html": [
       "<div>\n",
       "<style scoped>\n",
       "    .dataframe tbody tr th:only-of-type {\n",
       "        vertical-align: middle;\n",
       "    }\n",
       "\n",
       "    .dataframe tbody tr th {\n",
       "        vertical-align: top;\n",
       "    }\n",
       "\n",
       "    .dataframe thead th {\n",
       "        text-align: right;\n",
       "    }\n",
       "</style>\n",
       "<table border=\"1\" class=\"dataframe\">\n",
       "  <thead>\n",
       "    <tr style=\"text-align: right;\">\n",
       "      <th></th>\n",
       "      <th>indicator_short</th>\n",
       "      <th>group_short</th>\n",
       "    </tr>\n",
       "  </thead>\n",
       "  <tbody>\n",
       "    <tr>\n",
       "      <th>1</th>\n",
       "      <td>ucw</td>\n",
       "      <td>qal</td>\n",
       "    </tr>\n",
       "    <tr>\n",
       "      <th>15</th>\n",
       "      <td>cep</td>\n",
       "      <td>qal</td>\n",
       "    </tr>\n",
       "    <tr>\n",
       "      <th>20</th>\n",
       "      <td>drr</td>\n",
       "      <td>qan</td>\n",
       "    </tr>\n",
       "    <tr>\n",
       "      <th>42</th>\n",
       "      <td>bws</td>\n",
       "      <td>qan</td>\n",
       "    </tr>\n",
       "    <tr>\n",
       "      <th>43</th>\n",
       "      <td>bwd</td>\n",
       "      <td>qan</td>\n",
       "    </tr>\n",
       "    <tr>\n",
       "      <th>44</th>\n",
       "      <td>gtd</td>\n",
       "      <td>qan</td>\n",
       "    </tr>\n",
       "    <tr>\n",
       "      <th>62</th>\n",
       "      <td>iav</td>\n",
       "      <td>qan</td>\n",
       "    </tr>\n",
       "    <tr>\n",
       "      <th>63</th>\n",
       "      <td>sev</td>\n",
       "      <td>qan</td>\n",
       "    </tr>\n",
       "    <tr>\n",
       "      <th>75</th>\n",
       "      <td>rfr</td>\n",
       "      <td>qan</td>\n",
       "    </tr>\n",
       "    <tr>\n",
       "      <th>76</th>\n",
       "      <td>cfr</td>\n",
       "      <td>qan</td>\n",
       "    </tr>\n",
       "    <tr>\n",
       "      <th>100</th>\n",
       "      <td>udw</td>\n",
       "      <td>rrr</td>\n",
       "    </tr>\n",
       "    <tr>\n",
       "      <th>101</th>\n",
       "      <td>usa</td>\n",
       "      <td>rrr</td>\n",
       "    </tr>\n",
       "    <tr>\n",
       "      <th>122</th>\n",
       "      <td>rri</td>\n",
       "      <td>rrr</td>\n",
       "    </tr>\n",
       "  </tbody>\n",
       "</table>\n",
       "</div>"
      ],
      "text/plain": [
       "    indicator_short group_short\n",
       "1               ucw         qal\n",
       "15              cep         qal\n",
       "20              drr         qan\n",
       "42              bws         qan\n",
       "43              bwd         qan\n",
       "44              gtd         qan\n",
       "62              iav         qan\n",
       "63              sev         qan\n",
       "75              rfr         qan\n",
       "76              cfr         qan\n",
       "100             udw         rrr\n",
       "101             usa         rrr\n",
       "122             rri         rrr"
      ]
     },
     "execution_count": 50,
     "metadata": {},
     "output_type": "execute_result"
    }
   ],
   "source": [
    "df_groups"
   ]
  },
  {
   "cell_type": "code",
   "execution_count": null,
   "metadata": {},
   "outputs": [],
   "source": []
  },
  {
   "cell_type": "code",
   "execution_count": null,
   "metadata": {
    "collapsed": true
   },
   "outputs": [],
   "source": []
  },
  {
   "cell_type": "code",
   "execution_count": 51,
   "metadata": {},
   "outputs": [],
   "source": [
    "# Add group to dataframe\n",
    "df_in = pd.merge(left=df_in,\n",
    "                 right=df_groups,\n",
    "                 how=\"left\",\n",
    "                 left_on=\"indicator\",\n",
    "                 right_on=\"indicator_short\")\n",
    "df_in.drop(\"indicator_short\",axis=1,inplace=True)"
   ]
  },
  {
   "cell_type": "code",
   "execution_count": 56,
   "metadata": {
    "collapsed": true
   },
   "outputs": [],
   "source": [
    "df_industries = df_weights[[\"indicator_short\",\"industry_short\",\"weight_fraction\"]]"
   ]
  },
  {
   "cell_type": "code",
   "execution_count": 57,
   "metadata": {
    "collapsed": true
   },
   "outputs": [],
   "source": [
    "df_industries = df_industries.apply(lambda x: x.astype(str).str.lower())"
   ]
  },
  {
   "cell_type": "code",
   "execution_count": null,
   "metadata": {
    "collapsed": true
   },
   "outputs": [],
   "source": []
  },
  {
   "cell_type": "code",
   "execution_count": 60,
   "metadata": {},
   "outputs": [],
   "source": [
    "# Add industry to each indicator\n",
    "df_w = pd.merge(left=df_in,\n",
    "                right=df_industries,\n",
    "                left_on = \"indicator\",\n",
    "                right_on = \"indicator_short\",\n",
    "                how = \"right\")"
   ]
  },
  {
   "cell_type": "code",
   "execution_count": 67,
   "metadata": {},
   "outputs": [],
   "source": [
    "# mask out weights where score is None\n",
    "df_w[\"weight_fraction\"] = df_w[\"weight_fraction\"].mask(np.isnan(df_w[\"score\"]))\n"
   ]
  },
  {
   "cell_type": "code",
   "execution_count": 78,
   "metadata": {},
   "outputs": [],
   "source": [
    "test = df_w.loc[(df_w[\"industry_short\"] == \"def\") & (df_w[\"string_id\"] == \"111011-EGY.11_1-3365\")]"
   ]
  },
  {
   "cell_type": "code",
   "execution_count": 83,
   "metadata": {},
   "outputs": [
    {
     "data": {
      "text/plain": [
       "string_id           object\n",
       "pfaf_id            float64\n",
       "gid_0               object\n",
       "gid_1               object\n",
       "aqid               float64\n",
       "delta_id           float64\n",
       "indicator           object\n",
       "raw                float64\n",
       "score              float64\n",
       "cat                float64\n",
       "label               object\n",
       "group_short         object\n",
       "indicator_short     object\n",
       "industry_short      object\n",
       "weight_fraction     object\n",
       "dtype: object"
      ]
     },
     "execution_count": 83,
     "metadata": {},
     "output_type": "execute_result"
    }
   ],
   "source": [
    "test.dtypes"
   ]
  },
  {
   "cell_type": "code",
   "execution_count": 96,
   "metadata": {},
   "outputs": [],
   "source": [
    "test2 = test[\"weight_fraction\"]"
   ]
  },
  {
   "cell_type": "code",
   "execution_count": 97,
   "metadata": {},
   "outputs": [
    {
     "data": {
      "text/plain": [
       "316690     0.163265306\n",
       "696718     0.020408163\n",
       "1266760    0.081632653\n",
       "2202865            NaN\n",
       "2949246    0.040816327\n",
       "3602412    0.020408163\n",
       "4034890    0.163265306\n",
       "4731674    0.040816327\n",
       "4985070    0.081632653\n",
       "5562100            NaN\n",
       "6258948    0.020408163\n",
       "6828990    0.081632653\n",
       "Name: weight_fraction, dtype: object"
      ]
     },
     "execution_count": 97,
     "metadata": {},
     "output_type": "execute_result"
    }
   ],
   "source": [
    "test2"
   ]
  },
  {
   "cell_type": "code",
   "execution_count": null,
   "metadata": {
    "collapsed": true
   },
   "outputs": [],
   "source": []
  },
  {
   "cell_type": "code",
   "execution_count": null,
   "metadata": {
    "collapsed": true
   },
   "outputs": [],
   "source": [
    "industries = list(df_weights.industry_short.unique())\n",
    "categories = list(df_weights.category_short.unique())\n",
    "indicators = list(df_weights.indicator_short.unique())\n",
    "\n"
   ]
  },
  {
   "cell_type": "code",
   "execution_count": null,
   "metadata": {
    "collapsed": true
   },
   "outputs": [],
   "source": [
    "# Calculate Overall Water Risks by using weights"
   ]
  },
  {
   "cell_type": "code",
   "execution_count": null,
   "metadata": {
    "collapsed": true
   },
   "outputs": [],
   "source": [
    "df_merged_weights = df_master.copy()"
   ]
  },
  {
   "cell_type": "code",
   "execution_count": null,
   "metadata": {
    "collapsed": true
   },
   "outputs": [],
   "source": [
    "for industry in industries:\n",
    "    for indicator in indicators:\n",
    "        column_name_weight = \"{}_{}_weight\".format(indicator.lower(),industry.lower())\n",
    "        column_name_score = \"{}_score\".format(indicator.lower())\n",
    "        column_name_weighted_score = \"{}_{}_weightedscore\".format(indicator.lower(),industry.lower())\n",
    "        weight = df_weights.loc[(df_weights.industry_short == industry) & (df_weights.indicator_short == indicator)].weight_fraction.iloc[0]\n",
    "        score = df_master[column_name_score]\n",
    "               \n",
    "        df_merged_weights[column_name_weight] = weight\n",
    "        df_merged_weights[column_name_weighted_score] = score * weight"
   ]
  },
  {
   "cell_type": "code",
   "execution_count": null,
   "metadata": {},
   "outputs": [],
   "source": [
    "df_merged_weights.head()"
   ]
  },
  {
   "cell_type": "code",
   "execution_count": null,
   "metadata": {},
   "outputs": [],
   "source": [
    "def mask_weights():\n",
    "    \"\"\"\n",
    "    Sets weights to np.nan when the score is np.nan\n",
    "    \n",
    "    this is required for later steps in which sums are \n",
    "    calculated.\n",
    "        \n",
    "    \"\"\"\n",
    "\n",
    "    for industry in industries:\n",
    "        for indicator in indicators:\n",
    "            weight_column_name = \"{}_{}_weight\".format(indicator.lower(),industry.lower())\n",
    "            score_column_name = \"{}_{}_weightedscore\".format(indicator.lower(),industry.lower())\n",
    "            df_merged_weights[weight_column_name] = df_merged_weights[weight_column_name].mask(np.isnan(df_merged_weights[score_column_name]))\n",
    "\n",
    "    return 1\n",
    "\n",
    "mask_weights()"
   ]
  },
  {
   "cell_type": "code",
   "execution_count": null,
   "metadata": {},
   "outputs": [],
   "source": [
    "df_master.head()"
   ]
  },
  {
   "cell_type": "code",
   "execution_count": null,
   "metadata": {
    "collapsed": true
   },
   "outputs": [],
   "source": [
    "for industry in industries:    \n",
    "    # weights    \n",
    "    regex_w = '^.*_{}_weight$|^string_id$'.format(industry.lower())\n",
    "    df_w = df_merged_weights.filter(regex=regex_w)\n",
    "    df_w = df_w.set_index(\"string_id\")\n",
    "    column_name_w = \"{}_weight_sum\".format(industry.lower())\n",
    "    df_merged_weights[column_name_w] = df_w.sum(axis=1).values\n",
    "        \n",
    "    # Overall scores\n",
    "    regex_s = '^.*_{}_weightedscore$|^string_id$'.format(industry.lower())\n",
    "    df_s = df_merged_weights.filter(regex=regex_s)\n",
    "    df_s = df_s.set_index(\"string_id\")\n",
    "    column_name_s = \"{}_weightedscore_sum\".format(industry.lower())\n",
    "    df_merged_weights[column_name_s] = df_s.sum(axis=1).values\n",
    "    df_merged_weights[\"owr_{}_raw\".format(industry.lower())] = df_merged_weights[column_name_s] / df_merged_weights[column_name_w]\n",
    "\n",
    "    \n",
    "    "
   ]
  },
  {
   "cell_type": "code",
   "execution_count": null,
   "metadata": {
    "collapsed": true
   },
   "outputs": [],
   "source": []
  },
  {
   "cell_type": "code",
   "execution_count": null,
   "metadata": {},
   "outputs": [],
   "source": [
    "df_merged_weights.head()"
   ]
  },
  {
   "cell_type": "code",
   "execution_count": null,
   "metadata": {
    "collapsed": true
   },
   "outputs": [],
   "source": [
    "destination_table = \"{}.{}\".format(BQ_OUTPUT_DATASET_NAME,BQ_OUTPUT_TABLE_NAME)"
   ]
  },
  {
   "cell_type": "code",
   "execution_count": null,
   "metadata": {},
   "outputs": [],
   "source": [
    "df_merged_weights.to_gbq(destination_table=destination_table,\n",
    "                         project_id=BQ_PROJECT_ID,\n",
    "                         chunksize=10000,\n",
    "                         if_exists=\"replace\")"
   ]
  },
  {
   "cell_type": "code",
   "execution_count": null,
   "metadata": {
    "collapsed": true
   },
   "outputs": [],
   "source": [
    "destination_path_s3 = \"{}/{}.csv\".format(ec2_output_path,SCRIPT_NAME)"
   ]
  },
  {
   "cell_type": "code",
   "execution_count": null,
   "metadata": {
    "collapsed": true
   },
   "outputs": [],
   "source": [
    "df_merged_weights.to_csv(destination_path_s3)"
   ]
  },
  {
   "cell_type": "code",
   "execution_count": null,
   "metadata": {},
   "outputs": [],
   "source": [
    "!aws s3 cp {ec2_output_path} {s3_output_path} --recursive"
   ]
  },
  {
   "cell_type": "code",
   "execution_count": null,
   "metadata": {},
   "outputs": [],
   "source": [
    "end = datetime.datetime.now()\n",
    "elapsed = end - start\n",
    "print(elapsed)"
   ]
  },
  {
   "cell_type": "code",
   "execution_count": null,
   "metadata": {
    "collapsed": true
   },
   "outputs": [],
   "source": []
  }
 ],
 "metadata": {
  "kernelspec": {
   "display_name": "Python 35",
   "language": "python",
   "name": "python35"
  },
  "language_info": {
   "codemirror_mode": {
    "name": "ipython",
    "version": 3
   },
   "file_extension": ".py",
   "mimetype": "text/x-python",
   "name": "python",
   "nbconvert_exporter": "python",
   "pygments_lexer": "ipython3",
   "version": "3.5.4"
  }
 },
 "nbformat": 4,
 "nbformat_minor": 2
}
