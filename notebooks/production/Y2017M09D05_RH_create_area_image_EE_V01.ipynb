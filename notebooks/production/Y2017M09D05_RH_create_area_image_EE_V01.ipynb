{
 "cells": [
  {
   "cell_type": "markdown",
   "metadata": {},
   "source": [
    "### Create Area and ones Image EE\n",
    "\n",
    "* Purpose of script: This notebooks create an area image (30s) in m2 to go from flux to volume and vice versa\n",
    "* Author: Rutger Hofste\n",
    "* Kernel used: python27\n",
    "* Date created: 20170905"
   ]
  },
  {
   "cell_type": "code",
   "execution_count": 1,
   "metadata": {},
   "outputs": [
    {
     "name": "stdout",
     "output_type": "stream",
     "text": [
      "('Y2017M09D08', 'UTC 21:16')\n"
     ]
    }
   ],
   "source": [
    "import time\n",
    "dateString = time.strftime(\"Y%YM%mD%d\")\n",
    "timeString = time.strftime(\"UTC %H:%M\")\n",
    "print(dateString,timeString)"
   ]
  },
  {
   "cell_type": "code",
   "execution_count": 2,
   "metadata": {
    "collapsed": true
   },
   "outputs": [],
   "source": [
    "import ee\n",
    "import numpy as np"
   ]
  },
  {
   "cell_type": "code",
   "execution_count": 3,
   "metadata": {
    "collapsed": true
   },
   "outputs": [],
   "source": [
    "EE_PATH = \"projects/WRI-Aquaduct/PCRGlobWB20V07/\"\n",
    "\n",
    "DIMENSION5MIN = \"4320x2160\"\n",
    "DIMENSION30S = \"43200x21600\"\n",
    "CRS = \"EPSG:4326\"\n",
    "\n",
    "VERSION = 11"
   ]
  },
  {
   "cell_type": "code",
   "execution_count": 4,
   "metadata": {
    "collapsed": true
   },
   "outputs": [],
   "source": [
    "crsTransform5min = [\n",
    "    0.08333333333333333,\n",
    "    0,\n",
    "    -180,\n",
    "    0,\n",
    "    -0.08333333333333333,\n",
    "    90\n",
    "]"
   ]
  },
  {
   "cell_type": "code",
   "execution_count": 5,
   "metadata": {
    "collapsed": true
   },
   "outputs": [],
   "source": [
    "crsTransform30s = [\n",
    "    0.008333333333333333,\n",
    "    0,\n",
    "    -180,\n",
    "    0,\n",
    "    -0.008333333333333333,\n",
    "    90\n",
    "  ]"
   ]
  },
  {
   "cell_type": "code",
   "execution_count": 6,
   "metadata": {
    "collapsed": true
   },
   "outputs": [],
   "source": [
    "ee.Initialize()"
   ]
  },
  {
   "cell_type": "markdown",
   "metadata": {},
   "source": [
    "These \"random\" images are used to set the scales. These images were used because they were created using GDAL which is the most reliable way to create the rasters. "
   ]
  },
  {
   "cell_type": "code",
   "execution_count": 8,
   "metadata": {
    "collapsed": true
   },
   "outputs": [],
   "source": [
    "hybas_lev06_v1c_merged_fiona_30s_V01 = ee.Image(\"projects/WRI-Aquaduct/PCRGlobWB20V07/hybas_lev06_v1c_merged_fiona_30s_V01\")\n",
    "hybas_lev06_v1c_merged_fiona_5min_V01 = ee.Image(\"projects/WRI-Aquaduct/PCRGlobWB20V07/hybas_lev06_v1c_merged_fiona_5min_V01\")"
   ]
  },
  {
   "cell_type": "code",
   "execution_count": 9,
   "metadata": {
    "collapsed": true
   },
   "outputs": [],
   "source": [
    "scale30s = hybas_lev06_v1c_merged_fiona_30s_V01.projection().nominalScale().getInfo()\n",
    "scale5min = hybas_lev06_v1c_merged_fiona_5min_V01.projection().nominalScale().getInfo()"
   ]
  },
  {
   "cell_type": "code",
   "execution_count": 10,
   "metadata": {
    "collapsed": true
   },
   "outputs": [],
   "source": [
    "onesRaster = ee.Image.constant(1)\n",
    "areaRaster = ee.Image.pixelArea()"
   ]
  },
  {
   "cell_type": "code",
   "execution_count": 11,
   "metadata": {
    "collapsed": true
   },
   "outputs": [],
   "source": [
    "def exportToAsset(eePath, geometry,d):\n",
    "    if d[\"spatial_resolution\"] == \"5min\":\n",
    "        crsTransform = crsTransform5min\n",
    "    elif d[\"spatial_resolution\"] == \"30s\":\n",
    "        crsTransform = crsTransform30s\n",
    "        \n",
    "    image = d[\"image\"]\n",
    "    dimensions = d[\"dimensions\"]\n",
    "    \n",
    "    metadata = d\n",
    "    \n",
    "    del metadata[\"image\"]\n",
    "    del metadata[\"dimensions\"]\n",
    "    \n",
    "    \n",
    "    image = image.set(metadata)    \n",
    "    assetId = eePath + d[\"exportdescription\"] + \"V%0.2d\" %(VERSION)\n",
    "    task = ee.batch.Export.image.toAsset(\n",
    "        image =  ee.Image(image),\n",
    "        description = d[\"exportdescription\"] + \"V%0.2d\" %(VERSION),\n",
    "        assetId = assetId,\n",
    "        dimensions = dimensions,\n",
    "        #region = geometry.bounds().getInfo()['coordinates'][0],\n",
    "        crs = CRS,\n",
    "        crsTransform = crsTransform,\n",
    "        maxPixels = 1e10\n",
    "        )\n",
    "    task.start()"
   ]
  },
  {
   "cell_type": "code",
   "execution_count": 12,
   "metadata": {
    "collapsed": true
   },
   "outputs": [],
   "source": [
    "properties ={}"
   ]
  },
  {
   "cell_type": "code",
   "execution_count": 13,
   "metadata": {
    "collapsed": true
   },
   "outputs": [],
   "source": [
    "properties[\"ones_5min\"] = {\"image\":onesRaster,\n",
    "                           \"dimensions\":DIMENSION5MIN,\n",
    "                           \"spatial_resolution\":\"5min\",\n",
    "                            \"ingested_by\":\"RutgerHofste\" ,\n",
    "                            \"exportdescription\": \"ones_5min\" ,\n",
    "                            \"units\": \"dimensionless\" ,\n",
    "                            \"script_used\":\"Y2017M09D05_RH_create_area_image_EE_V01\",\n",
    "                            \"spatial_resolution\":\"5min\"\n",
    "                            }"
   ]
  },
  {
   "cell_type": "code",
   "execution_count": 14,
   "metadata": {
    "collapsed": true
   },
   "outputs": [],
   "source": [
    "properties[\"ones_30s\"] = {\"image\":onesRaster,\n",
    "                          \"dimensions\":DIMENSION30S,\n",
    "                          \"spatial_resolution\":\"30s\",\n",
    "                          \"ingested_by\":\"RutgerHofste\",\n",
    "                          \"exportdescription\": \"ones_30s\" ,\n",
    "                          \"units\": \"dimensionless\",\n",
    "                          \"script_used\":\"Y2017M09D05_RH_create_area_image_EE_V01\",\n",
    "                          \"spatial_resolution\":\"30s\"\n",
    "                            }"
   ]
  },
  {
   "cell_type": "code",
   "execution_count": 15,
   "metadata": {
    "collapsed": true
   },
   "outputs": [],
   "source": [
    "properties[\"area_5min_m2\"] = {\"image\":areaRaster,\n",
    "                              \"dimensions\":DIMENSION5MIN,\n",
    "                              \"spatial_resolution\":\"5min\",\n",
    "                              \"ingested_by\":\"RutgerHofste\" ,\n",
    "                              \"exportdescription\": \"area_5min_m2\" ,\n",
    "                              \"units\": \"m2\",\n",
    "                              \"script_used\":\"Y2017M09D05_RH_create_area_image_EE_V01\",\n",
    "                              \"spatial_resolution\":\"5min\"\n",
    "                             }"
   ]
  },
  {
   "cell_type": "code",
   "execution_count": 16,
   "metadata": {
    "collapsed": true
   },
   "outputs": [],
   "source": [
    "properties[\"area_30s_m2\"] = {\"image\":areaRaster,\n",
    "                             \"dimensions\":DIMENSION30S,\n",
    "                             \"spatial_resolution\":\"30s\",\n",
    "                             \"ingested_by\":\"RutgerHofste\" ,\n",
    "                             \"exportdescription\": \"area_30s_m2\" ,\n",
    "                             \"units\": \"m2\",\n",
    "                             \"script_used\":\"Y2017M09D05_RH_create_area_image_EE_V01\",\n",
    "                             \"spatial_resolution\":\"30s\"\n",
    "                             }"
   ]
  },
  {
   "cell_type": "code",
   "execution_count": 17,
   "metadata": {},
   "outputs": [
    {
     "name": "stdout",
     "output_type": "stream",
     "text": [
      "ones_5min\n",
      "area_5min_m2\n",
      "area_30s_m2\n",
      "ones_30s\n"
     ]
    }
   ],
   "source": [
    "for key, value in properties.iteritems():\n",
    "    exportToAsset(EE_PATH, geometry,value)\n",
    "    print(key)   "
   ]
  }
 ],
 "metadata": {
  "kernelspec": {
   "display_name": "Python 27",
   "language": "python",
   "name": "python27"
  },
  "language_info": {
   "codemirror_mode": {
    "name": "ipython",
    "version": 2
   },
   "file_extension": ".py",
   "mimetype": "text/x-python",
   "name": "python",
   "nbconvert_exporter": "python",
   "pygments_lexer": "ipython2",
   "version": "2.7.14"
  }
 },
 "nbformat": 4,
 "nbformat_minor": 2
}
