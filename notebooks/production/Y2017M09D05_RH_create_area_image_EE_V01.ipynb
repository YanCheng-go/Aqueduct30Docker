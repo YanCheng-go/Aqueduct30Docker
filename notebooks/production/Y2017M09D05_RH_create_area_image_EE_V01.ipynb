{
 "cells": [
  {
   "cell_type": "code",
   "execution_count": 11,
   "metadata": {},
   "outputs": [
    {
     "name": "stdout",
     "output_type": "stream",
     "text": [
      "Input ee: projects/WRI-Aquaduct/PCRGlobWB20_Aux_V02\n",
      "Output ee: projects/WRI-Aquaduct/PCRGlobWB20_Aux_V02\n"
     ]
    }
   ],
   "source": [
    "\"\"\" Create Area and ones Image EE\n",
    "-------------------------------------------------------------------------------\n",
    "create an area image (30s and 5min) in m2 to go from flux to volume and vice \n",
    "versa. Also creates ones images. \n",
    "\n",
    "Author: Rutger Hofste\n",
    "Date: 20170905\n",
    "Kernel: python35\n",
    "Docker: rutgerhofste/gisdocker:ubuntu16.04\n",
    "\n",
    "Args:\n",
    "\n",
    "    SCRIPT_NAME (string) : Script name.\n",
    "    INPUT_VERSION (string) : Input version.\n",
    "    OUTPUT_VERSION (string) : Output version.\n",
    "    DIMENSIONS_5MIN (string) : Dimensions for global 5 arc minute data\n",
    "      in string format: '1234x1234'.\n",
    "    DIMENSIONS_30S (string) : Dimensions for global 30 arc second data\n",
    "      in string format: '1234x1234'.\n",
    "    CRS (string) : Coordinate Reference System in string format using 'EPSG:'.\n",
    "    EXTRA_PROPERTIES (Dictionary) : Extra properties to add to assets. nodata_value,\n",
    "      script used are common properties.\n",
    "\n",
    "Returns:\n",
    "\n",
    "TODO:\n",
    "\n",
    "- remove the need to specify transform if dimension is specified.\n",
    "- remove some unnecessary iteration in dictionary specification.\n",
    "\n",
    "\n",
    "\"\"\"\n",
    "\n",
    "\n",
    "SCRIPT_NAME = \"Y2017M09D05_RH_create_area_image_EE_V01\"\n",
    "INPUT_VERSION = 2\n",
    "OUTPUT_VERSION =1 \n",
    "\n",
    "X_DIMENSION_5MIN = 4320\n",
    "Y_DIMENSION_5MIN = 2160\n",
    "X_DIMENSION_30S = 43200\n",
    "Y_DIMENSION_30S = 21600\n",
    "CRS = \"EPSG:4326\"\n",
    "\n",
    "\n",
    "EXTRA_PROPERTIES = {\n",
    "\"ingested_by\" : \"RutgerHofste\",\n",
    "\"script_used\": SCRIPT_NAME,\n",
    "\"output_version\":OUTPUT_VERSION   \n",
    "}\n",
    "\n",
    "CRS_TRANSFORM_5MIN = [\n",
    "    0.08333333333333333,\n",
    "    0,\n",
    "    -180,\n",
    "    0,\n",
    "    -0.08333333333333333,\n",
    "    90\n",
    "]\n",
    "\n",
    "CRS_TRANSFORM_30S = [\n",
    "    0.008333333333333333,\n",
    "    0,\n",
    "    -180,\n",
    "    0,\n",
    "    -0.008333333333333333,\n",
    "    90\n",
    "  ]\n",
    "\n",
    "\n",
    "ee_path = \"projects/WRI-Aquaduct/PCRGlobWB20_Aux_V{:02.0f}\".format(INPUT_VERSION)\n",
    "\n",
    "print(\"Input ee: \" +  ee_path +\n",
    "      \"\\nOutput ee: \" + ee_path)\n"
   ]
  },
  {
   "cell_type": "code",
   "execution_count": 2,
   "metadata": {},
   "outputs": [],
   "source": [
    "import ee\n",
    "import numpy as np\n",
    "import aqueduct3\n",
    "\n",
    "ee.Initialize()"
   ]
  },
  {
   "cell_type": "code",
   "execution_count": 3,
   "metadata": {
    "collapsed": true
   },
   "outputs": [],
   "source": [
    "def exportToAsset(ee_path,d):\n",
    "    \"\"\" Export image to asset\n",
    "    \n",
    "    Args:\n",
    "        ee_path (string) : earth engine folder.\n",
    "        d (dictionary) : dictionary with properties. Required:\n",
    "          'image'  and 'dimensions'\n",
    "    \n",
    "    \n",
    "    \n",
    "    \n",
    "    \n",
    "    \"\"\"\n",
    "    \n",
    "    \n",
    "    if d[\"spatial_resolution\"] == \"5min\":\n",
    "        crsTransform = CRS_TRANSFORM_5MIN\n",
    "    elif d[\"spatial_resolution\"] == \"30s\":\n",
    "        crsTransform = CRS_TRANSFORM_30S\n",
    "        \n",
    "    image = d[\"image\"]\n",
    "    dimensions = d[\"dimensions\"]\n",
    "    \n",
    "    metadata = d\n",
    "    \n",
    "    del metadata[\"image\"]\n",
    "    del metadata[\"dimensions\"]\n",
    "    \n",
    "    \n",
    "    image = image.set(metadata)    \n",
    "    assetId = ee_path + d[\"exportdescription\"] + \"_V{:02.0f}\".format(OUTPUT_VERSION)\n",
    "    \n",
    "    task = ee.batch.Export.image.toAsset(\n",
    "        image =  ee.Image(image),\n",
    "        description = d[\"exportdescription\"] + \"_V{:02.0f}\".format(OUTPUT_VERSION),\n",
    "        assetId = assetId,\n",
    "        dimensions = dimensions,\n",
    "        #region = geometry.bounds().getInfo()['coordinates'][0],\n",
    "        crs = CRS,\n",
    "        crsTransform = crsTransform,\n",
    "        maxPixels = 1e10\n",
    "        )\n",
    "    task.start()\n",
    "    \n",
    "    \n",
    "dimensions_5min = \"{}x{}\".format(X_DIMENSION_5MIN,Y_DIMENSION_5MIN)\n",
    "dimensions_30s = \"{}x{}\".format(X_DIMENSION_30S,Y_DIMENSION_30S)    \n",
    "\n",
    "\n",
    "ones_raster = ee.Image.constant(1)\n",
    "area_raster = ee.Image.pixelArea()"
   ]
  },
  {
   "cell_type": "code",
   "execution_count": 4,
   "metadata": {
    "collapsed": true
   },
   "outputs": [],
   "source": [
    "properties ={}"
   ]
  },
  {
   "cell_type": "code",
   "execution_count": 5,
   "metadata": {},
   "outputs": [],
   "source": [
    "properties[\"ones_5min\"] = {\"image\":ones_raster,\n",
    "                           \"dimensions\":dimensions_5min,\n",
    "                           \"spatial_resolution\":\"5min\",\n",
    "                           \"ingested_by\":\"RutgerHofste\" ,\n",
    "                           \"exportdescription\": \"ones_5min\" ,\n",
    "                           \"units\": \"dimensionless\" ,\n",
    "                           \"script_used\":\"Y2017M09D05_RH_create_area_image_EE_V01\",\n",
    "                           \"spatial_resolution\":\"5min\",\n",
    "                           \"output_version\":OUTPUT_VERSION\n",
    "                           }\n"
   ]
  },
  {
   "cell_type": "code",
   "execution_count": 6,
   "metadata": {
    "collapsed": true
   },
   "outputs": [],
   "source": [
    "properties[\"ones_30s\"] = {\"image\":ones_raster,\n",
    "                          \"dimensions\":dimensions_30s,\n",
    "                          \"spatial_resolution\":\"30s\",\n",
    "                          \"ingested_by\":\"RutgerHofste\",\n",
    "                          \"exportdescription\": \"ones_30s\" ,\n",
    "                          \"units\": \"dimensionless\",\n",
    "                          \"script_used\":\"Y2017M09D05_RH_create_area_image_EE_V01\",\n",
    "                          \"spatial_resolution\":\"30s\",\n",
    "                          \"output_version\":OUTPUT_VERSION\n",
    "                          }"
   ]
  },
  {
   "cell_type": "code",
   "execution_count": 7,
   "metadata": {
    "collapsed": true
   },
   "outputs": [],
   "source": [
    "properties[\"area_5min_m2\"] = {\"image\":area_raster,\n",
    "                              \"dimensions\":dimensions_5min,\n",
    "                              \"spatial_resolution\":\"5min\",\n",
    "                              \"ingested_by\":\"RutgerHofste\" ,\n",
    "                              \"exportdescription\": \"area_5min_m2\" ,\n",
    "                              \"units\": \"m2\",\n",
    "                              \"script_used\":\"Y2017M09D05_RH_create_area_image_EE_V01\",\n",
    "                              \"spatial_resolution\":\"5min\",\n",
    "                              \"output_version\":OUTPUT_VERSION\n",
    "                             }"
   ]
  },
  {
   "cell_type": "code",
   "execution_count": 8,
   "metadata": {},
   "outputs": [],
   "source": [
    "properties[\"area_30s_m2\"] = {\"image\":area_raster,\n",
    "                             \"dimensions\":dimensions_30s,\n",
    "                             \"spatial_resolution\":\"30s\",\n",
    "                             \"ingested_by\":\"RutgerHofste\" ,\n",
    "                             \"exportdescription\": \"area_30s_m2\" ,\n",
    "                             \"units\": \"m2\",\n",
    "                             \"script_used\":\"Y2017M09D05_RH_create_area_image_EE_V01\",\n",
    "                             \"spatial_resolution\":\"30s\",\n",
    "                             \"output_version\":OUTPUT_VERSION\n",
    "                             }"
   ]
  },
  {
   "cell_type": "code",
   "execution_count": 9,
   "metadata": {},
   "outputs": [
    {
     "name": "stdout",
     "output_type": "stream",
     "text": [
      "ones_5min\n",
      "ones_30s\n",
      "area_5min_m2\n",
      "area_30s_m2\n"
     ]
    }
   ],
   "source": [
    "for key, value in properties.items():\n",
    "    exportToAsset(ee_path,value)\n",
    "    print(key)   "
   ]
  },
  {
   "cell_type": "code",
   "execution_count": null,
   "metadata": {
    "collapsed": true
   },
   "outputs": [],
   "source": [
    "end = datetime.datetime.now()\n",
    "elapsed = end - start\n",
    "print(elapsed)"
   ]
  },
  {
   "cell_type": "code",
   "execution_count": null,
   "metadata": {
    "collapsed": true
   },
   "outputs": [],
   "source": []
  }
 ],
 "metadata": {
  "kernelspec": {
   "display_name": "Python 35",
   "language": "python",
   "name": "python35"
  },
  "language_info": {
   "codemirror_mode": {
    "name": "ipython",
    "version": 3
   },
   "file_extension": ".py",
   "mimetype": "text/x-python",
   "name": "python",
   "nbconvert_exporter": "python",
   "pygments_lexer": "ipython3",
   "version": "3.5.4"
  }
 },
 "nbformat": 4,
 "nbformat_minor": 2
}
