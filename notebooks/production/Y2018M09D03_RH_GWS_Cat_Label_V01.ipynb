{
 "cells": [
  {
   "cell_type": "code",
   "execution_count": 1,
   "metadata": {},
   "outputs": [
    {
     "name": "stdout",
     "output_type": "stream",
     "text": [
      "BQ_OUTPUT_DATASET_NAME:  aqueduct30v01 \n",
      "BQ_INPUT_TABLE_NAME:  y2018m09d03_rh_gws_tables_to_bq_v01_v01_aquifer_table_sorted \n",
      "BQ_OUTPUT_TABLE_NAME:  y2018m09d03_rh_gws_cat_label_v01_v02\n"
     ]
    }
   ],
   "source": [
    "\"\"\" Add category and Label for groundwater stress and trend.\n",
    "-------------------------------------------------------------------------------\n",
    "\n",
    "Add category and label to groundwater stress data. Only aquifer data for now.\n",
    "\n",
    "Groundwater Stress Categories:\n",
    "\n",
    "<1 Low\n",
    "1-5 Low - Medium\n",
    "5-10 Medium - High\n",
    "10-20 High\n",
    "> 20 Extremely High\n",
    "\n",
    "Linear interpolation groundwater stress\n",
    "\n",
    "if x<1\n",
    "    y = max(x,0)\n",
    "elif 1 < x < 5\n",
    "    y = (1/4)x + 3/4\n",
    "elif 5 < x < 10\n",
    "    y = 1/5 x + 1\n",
    "elif 10 < x < 20 \n",
    "    y = 1/10x + 2\n",
    "elif x > 20\n",
    "    y = min(x,5)\n",
    "\n",
    "\n",
    "Groundwater Table Declining Trends Categories:\n",
    "unit = cm/year\n",
    "\n",
    "- 9999 NoData\n",
    "- 9998 Insignificant trend\n",
    "< 0 No Depletion\n",
    "0 - 2 Low Depletion\n",
    "2 - 8 Moderate Depletion\n",
    ">8 High Depletion\n",
    "\n",
    "however we need a 5 score category so. Names of categories TBD.\n",
    "\n",
    "-1 -0 Low Depletion Risk -> No Depletion\n",
    "0 - 2 Low-Medium Depletion Risk -> Moderate Depletion\n",
    "2 - 4 Medium-High Depletion Risk - > Moderate Depletion\n",
    "4 - 8 High Depletion Risk -> Moderate Depletion\n",
    ">8 Extremely High Depletion Risk -> Extremely High Depletion\n",
    "\n",
    "if x<0\n",
    "    y = max(0,x+1)\n",
    "elif 0 < x < 2\n",
    "    y = (1/2)x + 1\n",
    "elif 2 < x < 4\n",
    "    y = (1/2) x + 1\n",
    "elif 4 < x < 8 \n",
    "    y = (1/4)x + 2\n",
    "elif x > 8\n",
    "    y = min((1/4)x + 2,5)\n",
    "\n",
    "\n",
    "Author: Rutger Hofste\n",
    "Date: 20180903\n",
    "Kernel: python35\n",
    "Docker: rutgerhofste/gisdocker:ubuntu16.04\n",
    "\n",
    "Args:\n",
    "\n",
    "    SCRIPT_NAME (string) : Script name\n",
    "    INPUT_VERSION (integer) : input version, see readme and output number\n",
    "                              of previous script.\n",
    "    OUTPUT_VERSION (integer) : output version for ec2 and s3.\n",
    "    \n",
    "    \n",
    "Returns:\n",
    "\n",
    "Result:\n",
    "    Table on Google Bigquery.\n",
    "\n",
    "\"\"\"\n",
    "\n",
    "SCRIPT_NAME = \"Y2018M09D03_RH_GWS_Cat_Label_V01\"\n",
    "OUTPUT_VERSION = 2\n",
    "\n",
    "BQ_PROJECT_ID = \"aqueduct30\"\n",
    "BQ_OUTPUT_DATASET_NAME = \"aqueduct30v01\"\n",
    "BQ_INPUT_TABLE_NAME = \"y2018m09d03_rh_gws_tables_to_bq_v01_v01_aquifer_table_sorted\"\n",
    "BQ_OUTPUT_TABLE_NAME = \"{}_v{:02.0f}\".format(SCRIPT_NAME,OUTPUT_VERSION).lower()\n",
    "\n",
    "print(\"BQ_OUTPUT_DATASET_NAME: \", BQ_OUTPUT_DATASET_NAME,\n",
    "      \"\\nBQ_INPUT_TABLE_NAME: \",BQ_INPUT_TABLE_NAME,\n",
    "      \"\\nBQ_OUTPUT_TABLE_NAME: \",BQ_OUTPUT_TABLE_NAME\n",
    "      )\n"
   ]
  },
  {
   "cell_type": "code",
   "execution_count": 2,
   "metadata": {},
   "outputs": [
    {
     "name": "stdout",
     "output_type": "stream",
     "text": [
      "Y2019M04D05 UTC 09:30\n"
     ]
    },
    {
     "data": {
      "text/plain": [
       "'3.5.4 |Anaconda, Inc.| (default, Nov 20 2017, 18:44:38) \\n[GCC 7.2.0]'"
      ]
     },
     "execution_count": 2,
     "metadata": {},
     "output_type": "execute_result"
    }
   ],
   "source": [
    "import time, datetime, sys\n",
    "dateString = time.strftime(\"Y%YM%mD%d\")\n",
    "timeString = time.strftime(\"UTC %H:%M\")\n",
    "start = datetime.datetime.now()\n",
    "print(dateString,timeString)\n",
    "sys.version"
   ]
  },
  {
   "cell_type": "code",
   "execution_count": 3,
   "metadata": {
    "collapsed": true
   },
   "outputs": [],
   "source": [
    "import os\n",
    "import pandas as pd\n",
    "import numpy as np\n",
    "from google.cloud import bigquery\n",
    "\n",
    "os.environ[\"GOOGLE_APPLICATION_CREDENTIALS\"] = \"/.google.json\"\n",
    "os.environ[\"GOOGLE_CLOUD_PROJECT\"] = \"aqueduct30\"\n",
    "client = bigquery.Client(project=BQ_PROJECT_ID)"
   ]
  },
  {
   "cell_type": "code",
   "execution_count": null,
   "metadata": {
    "collapsed": true
   },
   "outputs": [],
   "source": []
  },
  {
   "cell_type": "code",
   "execution_count": 4,
   "metadata": {
    "collapsed": true
   },
   "outputs": [],
   "source": [
    "sql = \"SELECT * FROM {}.{}\".format(BQ_OUTPUT_DATASET_NAME,BQ_INPUT_TABLE_NAME)"
   ]
  },
  {
   "cell_type": "code",
   "execution_count": 5,
   "metadata": {},
   "outputs": [
    {
     "data": {
      "text/plain": [
       "'SELECT * FROM aqueduct30v01.y2018m09d03_rh_gws_tables_to_bq_v01_v01_aquifer_table_sorted'"
      ]
     },
     "execution_count": 5,
     "metadata": {},
     "output_type": "execute_result"
    }
   ],
   "source": [
    "sql"
   ]
  },
  {
   "cell_type": "code",
   "execution_count": 6,
   "metadata": {
    "collapsed": true
   },
   "outputs": [],
   "source": [
    "df = pd.read_gbq(query=sql,dialect=\"standard\")"
   ]
  },
  {
   "cell_type": "code",
   "execution_count": 7,
   "metadata": {},
   "outputs": [
    {
     "data": {
      "text/html": [
       "<div>\n",
       "<style scoped>\n",
       "    .dataframe tbody tr th:only-of-type {\n",
       "        vertical-align: middle;\n",
       "    }\n",
       "\n",
       "    .dataframe tbody tr th {\n",
       "        vertical-align: top;\n",
       "    }\n",
       "\n",
       "    .dataframe thead th {\n",
       "        text-align: right;\n",
       "    }\n",
       "</style>\n",
       "<table border=\"1\" class=\"dataframe\">\n",
       "  <thead>\n",
       "    <tr style=\"text-align: right;\">\n",
       "      <th></th>\n",
       "      <th>AqID_spatial_unit</th>\n",
       "      <th>groundwaterstress_dimensionless</th>\n",
       "      <th>groundwatertabledecliningtrend_cmperyear</th>\n",
       "      <th>p_value</th>\n",
       "      <th>r_squared</th>\n",
       "    </tr>\n",
       "  </thead>\n",
       "  <tbody>\n",
       "    <tr>\n",
       "      <th>0</th>\n",
       "      <td>101</td>\n",
       "      <td>7.165850e-08</td>\n",
       "      <td>-0.107602</td>\n",
       "      <td>3.761720e-06</td>\n",
       "      <td>0.069351</td>\n",
       "    </tr>\n",
       "    <tr>\n",
       "      <th>1</th>\n",
       "      <td>132</td>\n",
       "      <td>7.683810e-05</td>\n",
       "      <td>-0.016879</td>\n",
       "      <td>4.476020e-09</td>\n",
       "      <td>0.109208</td>\n",
       "    </tr>\n",
       "    <tr>\n",
       "      <th>2</th>\n",
       "      <td>137</td>\n",
       "      <td>1.686440e-05</td>\n",
       "      <td>-0.079363</td>\n",
       "      <td>1.112720e-04</td>\n",
       "      <td>0.048962</td>\n",
       "    </tr>\n",
       "    <tr>\n",
       "      <th>3</th>\n",
       "      <td>142</td>\n",
       "      <td>5.627460e-07</td>\n",
       "      <td>-0.383774</td>\n",
       "      <td>3.355360e-28</td>\n",
       "      <td>0.334733</td>\n",
       "    </tr>\n",
       "    <tr>\n",
       "      <th>4</th>\n",
       "      <td>143</td>\n",
       "      <td>2.905910e-05</td>\n",
       "      <td>-0.029865</td>\n",
       "      <td>1.097850e-05</td>\n",
       "      <td>0.062918</td>\n",
       "    </tr>\n",
       "  </tbody>\n",
       "</table>\n",
       "</div>"
      ],
      "text/plain": [
       "   AqID_spatial_unit  groundwaterstress_dimensionless  \\\n",
       "0                101                     7.165850e-08   \n",
       "1                132                     7.683810e-05   \n",
       "2                137                     1.686440e-05   \n",
       "3                142                     5.627460e-07   \n",
       "4                143                     2.905910e-05   \n",
       "\n",
       "   groundwatertabledecliningtrend_cmperyear       p_value  r_squared  \n",
       "0                                 -0.107602  3.761720e-06   0.069351  \n",
       "1                                 -0.016879  4.476020e-09   0.109208  \n",
       "2                                 -0.079363  1.112720e-04   0.048962  \n",
       "3                                 -0.383774  3.355360e-28   0.334733  \n",
       "4                                 -0.029865  1.097850e-05   0.062918  "
      ]
     },
     "execution_count": 7,
     "metadata": {},
     "output_type": "execute_result"
    }
   ],
   "source": [
    "df.head()"
   ]
  },
  {
   "cell_type": "code",
   "execution_count": 8,
   "metadata": {
    "collapsed": true
   },
   "outputs": [],
   "source": [
    "def raw_value_to_score_groundwater_stress(x):\n",
    "    \"\"\" Linear interpolation\n",
    "    \n",
    "    thresholds set by Deltares\n",
    "    \n",
    "    \n",
    "    \"\"\"\n",
    "    \n",
    "    \n",
    "    if x == -9999:\n",
    "        y = -9999\n",
    "    elif x<1:\n",
    "        y = max(x,0)\n",
    "    elif (x >= 1) and ( x < 5):\n",
    "        y = (1/4)*x + 3/4\n",
    "    elif (x >= 5) and (x < 10):\n",
    "        y = (1/5)*x + 1\n",
    "    elif (x >= 10) and (x < 20): \n",
    "        y = (1/10)*x + 2\n",
    "    elif x >= 20:\n",
    "        y = 4\n",
    "    return y\n",
    "\n",
    "\n",
    "def raw_value_to_score_gtdt(x):\n",
    "    \"\"\"\n",
    "    \n",
    "    thresholds set by Deltares\n",
    "\n",
    "    \"\"\"\n",
    "    if x == -9999:\n",
    "        y = -9999\n",
    "    elif x<0:\n",
    "        y = max(x+1,0)\n",
    "    elif (x >= 0) and ( x < 2):\n",
    "        y = x + 1\n",
    "    elif (x >= 2) and (x < 4):\n",
    "        y = (1/2)*x + 1\n",
    "    elif (x >= 4) and (x < 8): \n",
    "        y = (1/2)*x + 1\n",
    "    elif x >= 8:\n",
    "        y = min(5,(1/2)*x + 1)\n",
    "    return y\n",
    "\n",
    "    \n",
    "\n",
    "\n",
    "def score_to_category(score):\n",
    "    if score != 5:\n",
    "        cat = int(np.floor(score))\n",
    "    else:\n",
    "        cat = 4\n",
    "    return cat\n",
    "\n",
    "\n",
    "def category_to_label_groundwater_stress(cat):\n",
    "    if cat == -9999:\n",
    "        label = \"NoData\"\n",
    "    elif cat == 0:\n",
    "        label = \"Low\"\n",
    "    elif cat == 1:\n",
    "        label = \"Low - Medium\"\n",
    "    elif cat == 2:\n",
    "        label = \"Medium - High\"\n",
    "    elif cat == 3:\n",
    "        label = \"High\"\n",
    "    elif cat == 4: \n",
    "        label = \"Extremely High\"\n",
    "    else:\n",
    "        label = \"Error\"\n",
    "    return label\n",
    "\n",
    "\n",
    "def category_to_label_gtdt(cat):\n",
    "    if cat == -9999:\n",
    "        label = \"NoData\"\n",
    "    elif cat == -9998:\n",
    "        label = \"Insignificant Trend\"\n",
    "    elif cat == 0:\n",
    "        label = \"Low (<0 cm/y)\"\n",
    "    elif cat == 1:\n",
    "        label = \"Low - Medium (0-2 cm/y)\"\n",
    "    elif cat == 2:\n",
    "        label = \"Medium - High (2-4 cm/y)\"\n",
    "    elif cat == 3:\n",
    "        label = \"High (4-8 cm/y)\"\n",
    "    elif cat == 4: \n",
    "        label = \"Extremely High (>8 cm/y)\"\n",
    "    else:\n",
    "        label = \"Error\"\n",
    "    return label\n",
    "\n",
    "\n",
    "\n",
    "\n",
    "\n"
   ]
  },
  {
   "cell_type": "code",
   "execution_count": 9,
   "metadata": {
    "collapsed": true
   },
   "outputs": [],
   "source": [
    "df[\"groundwaterstress_score\"] = df[\"groundwaterstress_dimensionless\"].apply(raw_value_to_score_groundwater_stress)"
   ]
  },
  {
   "cell_type": "code",
   "execution_count": 10,
   "metadata": {
    "collapsed": true
   },
   "outputs": [],
   "source": [
    "df[\"groundwaterstress_cat\"] = df[\"groundwaterstress_score\"].apply(score_to_category)"
   ]
  },
  {
   "cell_type": "code",
   "execution_count": 11,
   "metadata": {
    "collapsed": true
   },
   "outputs": [],
   "source": [
    "df[\"groundwaterstress_label\"] = df[\"groundwaterstress_cat\"].apply(category_to_label_groundwater_stress)"
   ]
  },
  {
   "cell_type": "code",
   "execution_count": 12,
   "metadata": {
    "collapsed": true
   },
   "outputs": [],
   "source": [
    "df[\"groundwatertabledecliningtrend_score\"] = df[\"groundwatertabledecliningtrend_cmperyear\"].apply(raw_value_to_score_gtdt)"
   ]
  },
  {
   "cell_type": "code",
   "execution_count": 13,
   "metadata": {
    "collapsed": true
   },
   "outputs": [],
   "source": [
    "#df[\"groundwatertabledecliningtrend_score\"] = np.where(df[\"r_squared\"]>=0.9,df[\"groundwatertabledecliningtrend_score\"],-9998)\n",
    "# changed to 0.8 on 2019 04 05\n",
    "df[\"groundwatertabledecliningtrend_score\"] = np.where(df[\"r_squared\"]>=0.8,df[\"groundwatertabledecliningtrend_score\"],-9998)"
   ]
  },
  {
   "cell_type": "code",
   "execution_count": 14,
   "metadata": {
    "collapsed": true
   },
   "outputs": [],
   "source": [
    "df[\"groundwatertabledecliningtrend_cat\"] = df[\"groundwatertabledecliningtrend_score\"].apply(score_to_category)"
   ]
  },
  {
   "cell_type": "code",
   "execution_count": 15,
   "metadata": {
    "collapsed": true
   },
   "outputs": [],
   "source": [
    "df[\"groundwatertabledecliningtrend_label\"] = df[\"groundwatertabledecliningtrend_cat\"].apply(category_to_label_gtdt)"
   ]
  },
  {
   "cell_type": "code",
   "execution_count": 16,
   "metadata": {},
   "outputs": [
    {
     "data": {
      "text/html": [
       "<div>\n",
       "<style scoped>\n",
       "    .dataframe tbody tr th:only-of-type {\n",
       "        vertical-align: middle;\n",
       "    }\n",
       "\n",
       "    .dataframe tbody tr th {\n",
       "        vertical-align: top;\n",
       "    }\n",
       "\n",
       "    .dataframe thead th {\n",
       "        text-align: right;\n",
       "    }\n",
       "</style>\n",
       "<table border=\"1\" class=\"dataframe\">\n",
       "  <thead>\n",
       "    <tr style=\"text-align: right;\">\n",
       "      <th></th>\n",
       "      <th>AqID_spatial_unit</th>\n",
       "      <th>groundwaterstress_dimensionless</th>\n",
       "      <th>groundwatertabledecliningtrend_cmperyear</th>\n",
       "      <th>p_value</th>\n",
       "      <th>r_squared</th>\n",
       "      <th>groundwaterstress_score</th>\n",
       "      <th>groundwaterstress_cat</th>\n",
       "      <th>groundwaterstress_label</th>\n",
       "      <th>groundwatertabledecliningtrend_score</th>\n",
       "      <th>groundwatertabledecliningtrend_cat</th>\n",
       "      <th>groundwatertabledecliningtrend_label</th>\n",
       "    </tr>\n",
       "  </thead>\n",
       "  <tbody>\n",
       "    <tr>\n",
       "      <th>0</th>\n",
       "      <td>101</td>\n",
       "      <td>7.165850e-08</td>\n",
       "      <td>-0.107602</td>\n",
       "      <td>3.761720e-06</td>\n",
       "      <td>0.069351</td>\n",
       "      <td>7.165850e-08</td>\n",
       "      <td>0</td>\n",
       "      <td>Low</td>\n",
       "      <td>-9998.0</td>\n",
       "      <td>-9998</td>\n",
       "      <td>Insignificant Trend</td>\n",
       "    </tr>\n",
       "    <tr>\n",
       "      <th>1</th>\n",
       "      <td>132</td>\n",
       "      <td>7.683810e-05</td>\n",
       "      <td>-0.016879</td>\n",
       "      <td>4.476020e-09</td>\n",
       "      <td>0.109208</td>\n",
       "      <td>7.683810e-05</td>\n",
       "      <td>0</td>\n",
       "      <td>Low</td>\n",
       "      <td>-9998.0</td>\n",
       "      <td>-9998</td>\n",
       "      <td>Insignificant Trend</td>\n",
       "    </tr>\n",
       "    <tr>\n",
       "      <th>2</th>\n",
       "      <td>137</td>\n",
       "      <td>1.686440e-05</td>\n",
       "      <td>-0.079363</td>\n",
       "      <td>1.112720e-04</td>\n",
       "      <td>0.048962</td>\n",
       "      <td>1.686440e-05</td>\n",
       "      <td>0</td>\n",
       "      <td>Low</td>\n",
       "      <td>-9998.0</td>\n",
       "      <td>-9998</td>\n",
       "      <td>Insignificant Trend</td>\n",
       "    </tr>\n",
       "    <tr>\n",
       "      <th>3</th>\n",
       "      <td>142</td>\n",
       "      <td>5.627460e-07</td>\n",
       "      <td>-0.383774</td>\n",
       "      <td>3.355360e-28</td>\n",
       "      <td>0.334733</td>\n",
       "      <td>5.627460e-07</td>\n",
       "      <td>0</td>\n",
       "      <td>Low</td>\n",
       "      <td>-9998.0</td>\n",
       "      <td>-9998</td>\n",
       "      <td>Insignificant Trend</td>\n",
       "    </tr>\n",
       "    <tr>\n",
       "      <th>4</th>\n",
       "      <td>143</td>\n",
       "      <td>2.905910e-05</td>\n",
       "      <td>-0.029865</td>\n",
       "      <td>1.097850e-05</td>\n",
       "      <td>0.062918</td>\n",
       "      <td>2.905910e-05</td>\n",
       "      <td>0</td>\n",
       "      <td>Low</td>\n",
       "      <td>-9998.0</td>\n",
       "      <td>-9998</td>\n",
       "      <td>Insignificant Trend</td>\n",
       "    </tr>\n",
       "  </tbody>\n",
       "</table>\n",
       "</div>"
      ],
      "text/plain": [
       "   AqID_spatial_unit  groundwaterstress_dimensionless  \\\n",
       "0                101                     7.165850e-08   \n",
       "1                132                     7.683810e-05   \n",
       "2                137                     1.686440e-05   \n",
       "3                142                     5.627460e-07   \n",
       "4                143                     2.905910e-05   \n",
       "\n",
       "   groundwatertabledecliningtrend_cmperyear       p_value  r_squared  \\\n",
       "0                                 -0.107602  3.761720e-06   0.069351   \n",
       "1                                 -0.016879  4.476020e-09   0.109208   \n",
       "2                                 -0.079363  1.112720e-04   0.048962   \n",
       "3                                 -0.383774  3.355360e-28   0.334733   \n",
       "4                                 -0.029865  1.097850e-05   0.062918   \n",
       "\n",
       "   groundwaterstress_score  groundwaterstress_cat groundwaterstress_label  \\\n",
       "0             7.165850e-08                      0                     Low   \n",
       "1             7.683810e-05                      0                     Low   \n",
       "2             1.686440e-05                      0                     Low   \n",
       "3             5.627460e-07                      0                     Low   \n",
       "4             2.905910e-05                      0                     Low   \n",
       "\n",
       "   groundwatertabledecliningtrend_score  groundwatertabledecliningtrend_cat  \\\n",
       "0                               -9998.0                               -9998   \n",
       "1                               -9998.0                               -9998   \n",
       "2                               -9998.0                               -9998   \n",
       "3                               -9998.0                               -9998   \n",
       "4                               -9998.0                               -9998   \n",
       "\n",
       "  groundwatertabledecliningtrend_label  \n",
       "0                  Insignificant Trend  \n",
       "1                  Insignificant Trend  \n",
       "2                  Insignificant Trend  \n",
       "3                  Insignificant Trend  \n",
       "4                  Insignificant Trend  "
      ]
     },
     "execution_count": 16,
     "metadata": {},
     "output_type": "execute_result"
    }
   ],
   "source": [
    "df.head()"
   ]
  },
  {
   "cell_type": "code",
   "execution_count": 17,
   "metadata": {
    "collapsed": true
   },
   "outputs": [],
   "source": [
    "destination_table = \"{}.{}\".format(BQ_OUTPUT_DATASET_NAME,BQ_OUTPUT_TABLE_NAME)\n"
   ]
  },
  {
   "cell_type": "code",
   "execution_count": 18,
   "metadata": {},
   "outputs": [
    {
     "name": "stderr",
     "output_type": "stream",
     "text": [
      "1it [00:09,  9.87s/it]\n"
     ]
    }
   ],
   "source": [
    "df.to_gbq(destination_table=destination_table,\n",
    "    project_id=BQ_PROJECT_ID,\n",
    "    chunksize=10000,\n",
    "    if_exists=\"replace\")"
   ]
  },
  {
   "cell_type": "code",
   "execution_count": 19,
   "metadata": {},
   "outputs": [
    {
     "name": "stdout",
     "output_type": "stream",
     "text": [
      "0:00:18.936166\n"
     ]
    }
   ],
   "source": [
    "end = datetime.datetime.now()\n",
    "elapsed = end - start\n",
    "print(elapsed)"
   ]
  },
  {
   "cell_type": "markdown",
   "metadata": {},
   "source": [
    "Previous runs:  \n",
    "0:00:12.746715"
   ]
  },
  {
   "cell_type": "code",
   "execution_count": null,
   "metadata": {
    "collapsed": true
   },
   "outputs": [],
   "source": []
  }
 ],
 "metadata": {
  "kernelspec": {
   "display_name": "Python 35",
   "language": "python",
   "name": "python35"
  },
  "language_info": {
   "codemirror_mode": {
    "name": "ipython",
    "version": 3
   },
   "file_extension": ".py",
   "mimetype": "text/x-python",
   "name": "python",
   "nbconvert_exporter": "python",
   "pygments_lexer": "ipython3",
   "version": "3.5.4"
  }
 },
 "nbformat": 4,
 "nbformat_minor": 2
}
