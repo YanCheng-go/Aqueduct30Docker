{
 "cells": [
  {
   "cell_type": "code",
   "execution_count": 1,
   "metadata": {},
   "outputs": [
    {
     "name": "stdout",
     "output_type": "stream",
     "text": [
      "Input ec2: /volumes/data/Y2018M05D16_RH_Final_Riverdischarge_30sPfaf06_V01/input_V03 \n",
      "Output ec2: /volumes/data/Y2018M05D16_RH_Final_Riverdischarge_30sPfaf06_V01/output_V03 \n",
      "Output s3: s3://wri-projects/Aqueduct30/processData/Y2018M05D16_RH_Final_Riverdischarge_30sPfaf06_V01/output_V03\n"
     ]
    }
   ],
   "source": [
    "\"\"\" Combine riverdischarge in main channel and sinks. \n",
    "-------------------------------------------------------------------------------\n",
    "\n",
    "If a sub-basin contains one or more sinks (coastal and endorheic), the sum \n",
    "of riverdischarge at those sinks will be used. If a subbasin does not contain\n",
    "any sinks or is too small to be represented at 5min, the main channel \n",
    "riverdischarge (30s validfa_mask) will be used. \n",
    "\n",
    "Takes tabular result of main channel and sinks and combines them in one table.\n",
    "\n",
    "\n",
    "Args:\n",
    "    TESTING (Boolean) : Toggle testing case.\n",
    "    SCRIPT_NAME (string) : Script name.\n",
    "    OUTPUT_VERSION (integer) : output version.\n",
    "\n",
    "\"\"\"\n",
    "\n",
    "TESTING = 0\n",
    "SCRIPT_NAME = \"Y2018M05D16_RH_Final_Riverdischarge_30sPfaf06_V01\"\n",
    "OUTPUT_VERSION = 3\n",
    "\n",
    "EXTRA_PROPERTIES = {\"nodata_value\":-9999,\n",
    "                    \"ingested_by\" : \"RutgerHofste\",\n",
    "                    \"script_used\": SCRIPT_NAME,\n",
    "                    \"output_version\":OUTPUT_VERSION}\n",
    "\n",
    "S3_INPUT_PATH_MAINCHANNEL = \"s3://wri-projects/Aqueduct30/processData/Y2018M05D04_RH_Zonal_Stats_Supply_EE_V01/output_V03\"\n",
    "S3_INPUT_PATH_SINKS = \"s3://wri-projects/Aqueduct30/processData/Y2018M05D15_RH_Sum_Riverdischarge_Sinks_5min_EE_V01/output_V02\"\n",
    "\n",
    "#mainchannel_sample_file_name = \"global_historical_riverdischarge_month_millionm3_5min_1960_2014_I357Y1989M10_reduced_06_30s_first.pkl\"\n",
    "#sinks_sample_file_name = \"global_historical_riverdischarge_month_millionm3_5min_1960_2014_I357Y1989M10_reduced_06_5min_sum.pkl\"\n",
    "\n",
    "SEPARATOR = \"_|-\"\n",
    "SCHEMA =[\"geographic_range\",\n",
    "         \"temporal_range\",\n",
    "         \"indicator\",\n",
    "         \"temporal_resolution\",\n",
    "         \"unit\",\n",
    "         \"spatial_resolution\",\n",
    "         \"temporal_range_min\",\n",
    "         \"temporal_range_max\",\n",
    "         \"reduced\",\n",
    "         \"reduced_pfaf_level\",\n",
    "         \"reduced_spatial_resolution\",\n",
    "         \"reducer_type\"]\n",
    "\n",
    "\n",
    "ec2_input_path = \"/volumes/data/{}/input_V{:02.0f}\".format(SCRIPT_NAME,OUTPUT_VERSION)\n",
    "ec2_output_path = \"/volumes/data/{}/output_V{:02.0f}\".format(SCRIPT_NAME,OUTPUT_VERSION)\n",
    "s3_output_path = \"s3://wri-projects/Aqueduct30/processData/{}/output_V{:02.0f}\".format(SCRIPT_NAME,OUTPUT_VERSION)\n",
    "\n",
    "print(\"Input ec2: \" + ec2_input_path, \n",
    "      \"\\nOutput ec2: \" + ec2_output_path,\n",
    "      \"\\nOutput s3: \" + s3_output_path)\n"
   ]
  },
  {
   "cell_type": "code",
   "execution_count": 2,
   "metadata": {},
   "outputs": [
    {
     "name": "stdout",
     "output_type": "stream",
     "text": [
      "Y2018M05D18 UTC 15:40\n"
     ]
    },
    {
     "data": {
      "text/plain": [
       "'3.5.4 |Anaconda, Inc.| (default, Nov 20 2017, 18:44:38) \\n[GCC 7.2.0]'"
      ]
     },
     "execution_count": 2,
     "metadata": {},
     "output_type": "execute_result"
    }
   ],
   "source": [
    "import time, datetime, sys, logging\n",
    "dateString = time.strftime(\"Y%YM%mD%d\")\n",
    "timeString = time.strftime(\"UTC %H:%M\")\n",
    "start = datetime.datetime.now()\n",
    "print(dateString,timeString)\n",
    "sys.version"
   ]
  },
  {
   "cell_type": "code",
   "execution_count": 3,
   "metadata": {
    "collapsed": true
   },
   "outputs": [],
   "source": [
    "ec2_input_path_mainchannel = \"{}/mainchannel\".format(ec2_input_path)\n",
    "ec2_input_path_sinks = \"{}/sinks\".format(ec2_input_path)"
   ]
  },
  {
   "cell_type": "code",
   "execution_count": 4,
   "metadata": {},
   "outputs": [
    {
     "name": "stdout",
     "output_type": "stream",
     "text": [
      "/volumes/data/Y2018M05D16_RH_Final_Riverdischarge_30sPfaf06_V01/input_V03/sinks\n",
      "/volumes/data/Y2018M05D16_RH_Final_Riverdischarge_30sPfaf06_V01/input_V03/mainchannel\n"
     ]
    }
   ],
   "source": [
    "print(ec2_input_path_sinks)\n",
    "print(ec2_input_path_mainchannel)"
   ]
  },
  {
   "cell_type": "code",
   "execution_count": 5,
   "metadata": {},
   "outputs": [
    {
     "name": "stdout",
     "output_type": "stream",
     "text": [
      "rm: cannot remove '/volumes/data/Y2018M05D16_RH_Final_Riverdischarge_30sPfaf06_V01/input_V03': No such file or directory\n",
      "rm: cannot remove '/volumes/data/Y2018M05D16_RH_Final_Riverdischarge_30sPfaf06_V01/output_V03': No such file or directory\n"
     ]
    }
   ],
   "source": [
    "!rm -r {ec2_input_path}\n",
    "!rm -r {ec2_output_path}\n",
    "!mkdir -p {ec2_input_path_mainchannel}\n",
    "!mkdir -p {ec2_input_path_sinks}\n",
    "!mkdir -p {ec2_output_path}"
   ]
  },
  {
   "cell_type": "code",
   "execution_count": null,
   "metadata": {},
   "outputs": [
    {
     "name": "stdout",
     "output_type": "stream",
     "text": [
      "download: s3://wri-projects/Aqueduct30/processData/Y2018M05D04_RH_Zonal_Stats_Supply_EE_V01/output_V03/global_historical_riverdischarge_month_millionm3_5min_1960_2014_I001Y1960M02_reduced_06_30s_first.pkl to ../../../../data/Y2018M05D16_RH_Final_Riverdischarge_30sPfaf06_V01/input_V03/mainchannel/global_historical_riverdischarge_month_millionm3_5min_1960_2014_I001Y1960M02_reduced_06_30s_first.pkl\n",
      "download: s3://wri-projects/Aqueduct30/processData/Y2018M05D04_RH_Zonal_Stats_Supply_EE_V01/output_V03/global_historical_riverdischarge_month_millionm3_5min_1960_2014_I008Y1960M09_reduced_06_30s_first.pkl to ../../../../data/Y2018M05D16_RH_Final_Riverdischarge_30sPfaf06_V01/input_V03/mainchannel/global_historical_riverdischarge_month_millionm3_5min_1960_2014_I008Y1960M09_reduced_06_30s_first.pkl\n",
      "download: s3://wri-projects/Aqueduct30/processData/Y2018M05D04_RH_Zonal_Stats_Supply_EE_V01/output_V03/global_historical_riverdischarge_month_millionm3_5min_1960_2014_I004Y1960M05_reduced_06_30s_first.pkl to ../../../../data/Y2018M05D16_RH_Final_Riverdischarge_30sPfaf06_V01/input_V03/mainchannel/global_historical_riverdischarge_month_millionm3_5min_1960_2014_I004Y1960M05_reduced_06_30s_first.pkl\n",
      "download: s3://wri-projects/Aqueduct30/processData/Y2018M05D04_RH_Zonal_Stats_Supply_EE_V01/output_V03/global_historical_riverdischarge_month_millionm3_5min_1960_2014_I003Y1960M04_reduced_06_30s_first.pkl to ../../../../data/Y2018M05D16_RH_Final_Riverdischarge_30sPfaf06_V01/input_V03/mainchannel/global_historical_riverdischarge_month_millionm3_5min_1960_2014_I003Y1960M04_reduced_06_30s_first.pkl\n",
      "download: s3://wri-projects/Aqueduct30/processData/Y2018M05D04_RH_Zonal_Stats_Supply_EE_V01/output_V03/global_historical_riverdischarge_month_millionm3_5min_1960_2014_I006Y1960M07_reduced_06_30s_first.pkl to ../../../../data/Y2018M05D16_RH_Final_Riverdischarge_30sPfaf06_V01/input_V03/mainchannel/global_historical_riverdischarge_month_millionm3_5min_1960_2014_I006Y1960M07_reduced_06_30s_first.pkl\n",
      "download: s3://wri-projects/Aqueduct30/processData/Y2018M05D04_RH_Zonal_Stats_Supply_EE_V01/output_V03/global_historical_riverdischarge_month_millionm3_5min_1960_2014_I009Y1960M10_reduced_06_30s_first.pkl to ../../../../data/Y2018M05D16_RH_Final_Riverdischarge_30sPfaf06_V01/input_V03/mainchannel/global_historical_riverdischarge_month_millionm3_5min_1960_2014_I009Y1960M10_reduced_06_30s_first.pkl\n",
      "download: s3://wri-projects/Aqueduct30/processData/Y2018M05D04_RH_Zonal_Stats_Supply_EE_V01/output_V03/global_historical_riverdischarge_month_millionm3_5min_1960_2014_I000Y1960M01_reduced_06_30s_first.pkl to ../../../../data/Y2018M05D16_RH_Final_Riverdischarge_30sPfaf06_V01/input_V03/mainchannel/global_historical_riverdischarge_month_millionm3_5min_1960_2014_I000Y1960M01_reduced_06_30s_first.pkl\n",
      "download: s3://wri-projects/Aqueduct30/processData/Y2018M05D04_RH_Zonal_Stats_Supply_EE_V01/output_V03/global_historical_riverdischarge_month_millionm3_5min_1960_2014_I007Y1960M08_reduced_06_30s_first.pkl to ../../../../data/Y2018M05D16_RH_Final_Riverdischarge_30sPfaf06_V01/input_V03/mainchannel/global_historical_riverdischarge_month_millionm3_5min_1960_2014_I007Y1960M08_reduced_06_30s_first.pkl\n",
      "download: s3://wri-projects/Aqueduct30/processData/Y2018M05D04_RH_Zonal_Stats_Supply_EE_V01/output_V03/global_historical_riverdischarge_month_millionm3_5min_1960_2014_I005Y1960M06_reduced_06_30s_first.pkl to ../../../../data/Y2018M05D16_RH_Final_Riverdischarge_30sPfaf06_V01/input_V03/mainchannel/global_historical_riverdischarge_month_millionm3_5min_1960_2014_I005Y1960M06_reduced_06_30s_first.pkl\n",
      "download: s3://wri-projects/Aqueduct30/processData/Y2018M05D04_RH_Zonal_Stats_Supply_EE_V01/output_V03/global_historical_riverdischarge_month_millionm3_5min_1960_2014_I002Y1960M03_reduced_06_30s_first.pkl to ../../../../data/Y2018M05D16_RH_Final_Riverdischarge_30sPfaf06_V01/input_V03/mainchannel/global_historical_riverdischarge_month_millionm3_5min_1960_2014_I002Y1960M03_reduced_06_30s_first.pkl\n",
      "download: s3://wri-projects/Aqueduct30/processData/Y2018M05D04_RH_Zonal_Stats_Supply_EE_V01/output_V03/global_historical_riverdischarge_month_millionm3_5min_1960_2014_I012Y1961M01_reduced_06_30s_first.pkl to ../../../../data/Y2018M05D16_RH_Final_Riverdischarge_30sPfaf06_V01/input_V03/mainchannel/global_historical_riverdischarge_month_millionm3_5min_1960_2014_I012Y1961M01_reduced_06_30s_first.pkl\n",
      "download: s3://wri-projects/Aqueduct30/processData/Y2018M05D04_RH_Zonal_Stats_Supply_EE_V01/output_V03/global_historical_riverdischarge_month_millionm3_5min_1960_2014_I016Y1961M05_reduced_06_30s_first.pkl to ../../../../data/Y2018M05D16_RH_Final_Riverdischarge_30sPfaf06_V01/input_V03/mainchannel/global_historical_riverdischarge_month_millionm3_5min_1960_2014_I016Y1961M05_reduced_06_30s_first.pkl\n",
      "download: s3://wri-projects/Aqueduct30/processData/Y2018M05D04_RH_Zonal_Stats_Supply_EE_V01/output_V03/global_historical_riverdischarge_month_millionm3_5min_1960_2014_I013Y1961M02_reduced_06_30s_first.pkl to ../../../../data/Y2018M05D16_RH_Final_Riverdischarge_30sPfaf06_V01/input_V03/mainchannel/global_historical_riverdischarge_month_millionm3_5min_1960_2014_I013Y1961M02_reduced_06_30s_first.pkl\n",
      "download: s3://wri-projects/Aqueduct30/processData/Y2018M05D04_RH_Zonal_Stats_Supply_EE_V01/output_V03/global_historical_riverdischarge_month_millionm3_5min_1960_2014_I010Y1960M11_reduced_06_30s_first.pkl to ../../../../data/Y2018M05D16_RH_Final_Riverdischarge_30sPfaf06_V01/input_V03/mainchannel/global_historical_riverdischarge_month_millionm3_5min_1960_2014_I010Y1960M11_reduced_06_30s_first.pkl\n",
      "download: s3://wri-projects/Aqueduct30/processData/Y2018M05D04_RH_Zonal_Stats_Supply_EE_V01/output_V03/global_historical_riverdischarge_month_millionm3_5min_1960_2014_I019Y1961M08_reduced_06_30s_first.pkl to ../../../../data/Y2018M05D16_RH_Final_Riverdischarge_30sPfaf06_V01/input_V03/mainchannel/global_historical_riverdischarge_month_millionm3_5min_1960_2014_I019Y1961M08_reduced_06_30s_first.pkl\n",
      "download: s3://wri-projects/Aqueduct30/processData/Y2018M05D04_RH_Zonal_Stats_Supply_EE_V01/output_V03/global_historical_riverdischarge_month_millionm3_5min_1960_2014_I011Y1960M12_reduced_06_30s_first.pkl to ../../../../data/Y2018M05D16_RH_Final_Riverdischarge_30sPfaf06_V01/input_V03/mainchannel/global_historical_riverdischarge_month_millionm3_5min_1960_2014_I011Y1960M12_reduced_06_30s_first.pkl\n",
      "download: s3://wri-projects/Aqueduct30/processData/Y2018M05D04_RH_Zonal_Stats_Supply_EE_V01/output_V03/global_historical_riverdischarge_month_millionm3_5min_1960_2014_I015Y1961M04_reduced_06_30s_first.pkl to ../../../../data/Y2018M05D16_RH_Final_Riverdischarge_30sPfaf06_V01/input_V03/mainchannel/global_historical_riverdischarge_month_millionm3_5min_1960_2014_I015Y1961M04_reduced_06_30s_first.pkl\n",
      "download: s3://wri-projects/Aqueduct30/processData/Y2018M05D04_RH_Zonal_Stats_Supply_EE_V01/output_V03/global_historical_riverdischarge_month_millionm3_5min_1960_2014_I014Y1961M03_reduced_06_30s_first.pkl to ../../../../data/Y2018M05D16_RH_Final_Riverdischarge_30sPfaf06_V01/input_V03/mainchannel/global_historical_riverdischarge_month_millionm3_5min_1960_2014_I014Y1961M03_reduced_06_30s_first.pkl\n",
      "download: s3://wri-projects/Aqueduct30/processData/Y2018M05D04_RH_Zonal_Stats_Supply_EE_V01/output_V03/global_historical_riverdischarge_month_millionm3_5min_1960_2014_I018Y1961M07_reduced_06_30s_first.pkl to ../../../../data/Y2018M05D16_RH_Final_Riverdischarge_30sPfaf06_V01/input_V03/mainchannel/global_historical_riverdischarge_month_millionm3_5min_1960_2014_I018Y1961M07_reduced_06_30s_first.pkl\n",
      "download: s3://wri-projects/Aqueduct30/processData/Y2018M05D04_RH_Zonal_Stats_Supply_EE_V01/output_V03/global_historical_riverdischarge_month_millionm3_5min_1960_2014_I020Y1961M09_reduced_06_30s_first.pkl to ../../../../data/Y2018M05D16_RH_Final_Riverdischarge_30sPfaf06_V01/input_V03/mainchannel/global_historical_riverdischarge_month_millionm3_5min_1960_2014_I020Y1961M09_reduced_06_30s_first.pkl\n",
      "download: s3://wri-projects/Aqueduct30/processData/Y2018M05D04_RH_Zonal_Stats_Supply_EE_V01/output_V03/global_historical_riverdischarge_month_millionm3_5min_1960_2014_I025Y1962M02_reduced_06_30s_first.pkl to ../../../../data/Y2018M05D16_RH_Final_Riverdischarge_30sPfaf06_V01/input_V03/mainchannel/global_historical_riverdischarge_month_millionm3_5min_1960_2014_I025Y1962M02_reduced_06_30s_first.pkl\n"
     ]
    },
    {
     "name": "stdout",
     "output_type": "stream",
     "text": [
      "download: s3://wri-projects/Aqueduct30/processData/Y2018M05D04_RH_Zonal_Stats_Supply_EE_V01/output_V03/global_historical_riverdischarge_month_millionm3_5min_1960_2014_I022Y1961M11_reduced_06_30s_first.pkl to ../../../../data/Y2018M05D16_RH_Final_Riverdischarge_30sPfaf06_V01/input_V03/mainchannel/global_historical_riverdischarge_month_millionm3_5min_1960_2014_I022Y1961M11_reduced_06_30s_first.pkl\n",
      "download: s3://wri-projects/Aqueduct30/processData/Y2018M05D04_RH_Zonal_Stats_Supply_EE_V01/output_V03/global_historical_riverdischarge_month_millionm3_5min_1960_2014_I024Y1962M01_reduced_06_30s_first.pkl to ../../../../data/Y2018M05D16_RH_Final_Riverdischarge_30sPfaf06_V01/input_V03/mainchannel/global_historical_riverdischarge_month_millionm3_5min_1960_2014_I024Y1962M01_reduced_06_30s_first.pkl\n",
      "download: s3://wri-projects/Aqueduct30/processData/Y2018M05D04_RH_Zonal_Stats_Supply_EE_V01/output_V03/global_historical_riverdischarge_month_millionm3_5min_1960_2014_I026Y1962M03_reduced_06_30s_first.pkl to ../../../../data/Y2018M05D16_RH_Final_Riverdischarge_30sPfaf06_V01/input_V03/mainchannel/global_historical_riverdischarge_month_millionm3_5min_1960_2014_I026Y1962M03_reduced_06_30s_first.pkl\n",
      "download: s3://wri-projects/Aqueduct30/processData/Y2018M05D04_RH_Zonal_Stats_Supply_EE_V01/output_V03/global_historical_riverdischarge_month_millionm3_5min_1960_2014_I017Y1961M06_reduced_06_30s_first.pkl to ../../../../data/Y2018M05D16_RH_Final_Riverdischarge_30sPfaf06_V01/input_V03/mainchannel/global_historical_riverdischarge_month_millionm3_5min_1960_2014_I017Y1961M06_reduced_06_30s_first.pkl\n",
      "download: s3://wri-projects/Aqueduct30/processData/Y2018M05D04_RH_Zonal_Stats_Supply_EE_V01/output_V03/global_historical_riverdischarge_month_millionm3_5min_1960_2014_I029Y1962M06_reduced_06_30s_first.pkl to ../../../../data/Y2018M05D16_RH_Final_Riverdischarge_30sPfaf06_V01/input_V03/mainchannel/global_historical_riverdischarge_month_millionm3_5min_1960_2014_I029Y1962M06_reduced_06_30s_first.pkl\n",
      "download: s3://wri-projects/Aqueduct30/processData/Y2018M05D04_RH_Zonal_Stats_Supply_EE_V01/output_V03/global_historical_riverdischarge_month_millionm3_5min_1960_2014_I027Y1962M04_reduced_06_30s_first.pkl to ../../../../data/Y2018M05D16_RH_Final_Riverdischarge_30sPfaf06_V01/input_V03/mainchannel/global_historical_riverdischarge_month_millionm3_5min_1960_2014_I027Y1962M04_reduced_06_30s_first.pkl\n",
      "download: s3://wri-projects/Aqueduct30/processData/Y2018M05D04_RH_Zonal_Stats_Supply_EE_V01/output_V03/global_historical_riverdischarge_month_millionm3_5min_1960_2014_I030Y1962M07_reduced_06_30s_first.pkl to ../../../../data/Y2018M05D16_RH_Final_Riverdischarge_30sPfaf06_V01/input_V03/mainchannel/global_historical_riverdischarge_month_millionm3_5min_1960_2014_I030Y1962M07_reduced_06_30s_first.pkl\n",
      "download: s3://wri-projects/Aqueduct30/processData/Y2018M05D04_RH_Zonal_Stats_Supply_EE_V01/output_V03/global_historical_riverdischarge_month_millionm3_5min_1960_2014_I028Y1962M05_reduced_06_30s_first.pkl to ../../../../data/Y2018M05D16_RH_Final_Riverdischarge_30sPfaf06_V01/input_V03/mainchannel/global_historical_riverdischarge_month_millionm3_5min_1960_2014_I028Y1962M05_reduced_06_30s_first.pkl\n",
      "download: s3://wri-projects/Aqueduct30/processData/Y2018M05D04_RH_Zonal_Stats_Supply_EE_V01/output_V03/global_historical_riverdischarge_month_millionm3_5min_1960_2014_I032Y1962M09_reduced_06_30s_first.pkl to ../../../../data/Y2018M05D16_RH_Final_Riverdischarge_30sPfaf06_V01/input_V03/mainchannel/global_historical_riverdischarge_month_millionm3_5min_1960_2014_I032Y1962M09_reduced_06_30s_first.pkl\n",
      "Completed 51.9 MiB/1.1 GiB (13.5 MiB/s) with 685 file(s) remaining\r"
     ]
    }
   ],
   "source": [
    "!aws s3 cp {S3_INPUT_PATH_MAINCHANNEL} {ec2_input_path_mainchannel} --recursive --exclude=\"*\" --include=\"*.pkl\""
   ]
  },
  {
   "cell_type": "code",
   "execution_count": null,
   "metadata": {},
   "outputs": [],
   "source": [
    "!aws s3 cp {S3_INPUT_PATH_SINKS} {ec2_input_path_sinks} --recursive --exclude=\"*\" --include=\"*.pkl\""
   ]
  },
  {
   "cell_type": "code",
   "execution_count": null,
   "metadata": {
    "collapsed": true
   },
   "outputs": [],
   "source": [
    "# Open Mainchannel dataframe\n",
    "\n",
    "import pandas as pd\n",
    "pd.set_option('display.max_columns', 500)\n",
    "import os\n",
    "import numpy as np\n",
    "import aqueduct3\n",
    "\n",
    "months = range(1,12+1)\n",
    "years = range(1960,2014+1)\n",
    "temporal_resolutions = [\"year\",\"month\"]\n",
    "\n",
    "mainchannel_file_names = os.listdir(ec2_input_path_mainchannel)"
   ]
  },
  {
   "cell_type": "code",
   "execution_count": null,
   "metadata": {
    "collapsed": true
   },
   "outputs": [],
   "source": [
    "def read_mainchannel(mainchannel_path):\n",
    "    df_mainchannel = pd.read_pickle(mainchannel_path)\n",
    "    df_mainchannel[\"count\"] = df_mainchannel[\"count\"].astype(np.int64)\n",
    "    df_mainchannel[\"zones\"] = df_mainchannel[\"zones\"].astype(np.int64)\n",
    "    \n",
    "    return df_mainchannel\n",
    "\n",
    "def read_sinks(sinks_path):\n",
    "    df_sinks = pd.read_pickle(sinks_path)    \n",
    "    return df_sinks\n",
    "\n",
    "\n",
    "def combine_riverdischarge(df):\n",
    "    \"\"\" Cereate new column with mainchannel or sink riverdischarge\n",
    "    -------------------------------------------------------------------------------\n",
    "    \n",
    "    Use Sinks Discharge (5minPfaf06) if >0 sinks are present within a 5minPfaf06 \n",
    "    subbasin. Use mainchannel riverdischarge otherwise.    \n",
    "    \n",
    "    Args:\n",
    "        df (pd.Dataframe) : Merged pandas dataframe with mainchannel and sinks \n",
    "            supplies.\n",
    "    \n",
    "    Returns:\n",
    "        df_out (pd.Dataframe) : Merged Dataframe with additional column with final\n",
    "            riverdischarge.\n",
    "    \n",
    "    \"\"\"\n",
    "    \n",
    "    df_out = df.copy()\n",
    "    df_out['riverdischarge_millionm3'] = np.where(df_out['count_sinks']>0, df_out[\"sum\"], df[\"first\"])\n",
    "    df_out.sort_index(axis=1)\n",
    "    return df_out\n",
    "    \n",
    "    "
   ]
  },
  {
   "cell_type": "code",
   "execution_count": null,
   "metadata": {
    "collapsed": true
   },
   "outputs": [],
   "source": [
    "if TESTING:\n",
    "    mainchannel_file_names = mainchannel_file_names[0:10]"
   ]
  },
  {
   "cell_type": "code",
   "execution_count": null,
   "metadata": {},
   "outputs": [],
   "source": [
    "for mainchannel_file_name in mainchannel_file_names:\n",
    "    mainchannel_path = \"{}/{}\".format(ec2_input_path_mainchannel,mainchannel_file_name)\n",
    "    dictje = aqueduct3.split_key(key=mainchannel_file_name,\n",
    "                                 schema = SCHEMA,\n",
    "                                 separator = SEPARATOR)\n",
    "    year = int(dictje[\"year\"])\n",
    "    month = int(dictje[\"month\"])\n",
    "    identifier = int(dictje[\"identifier\"])\n",
    "    \n",
    "    df_mainchannel = read_mainchannel(mainchannel_path)\n",
    "    \n",
    "    sinks_file_name = \"global_historical_riverdischarge_{}_millionm3_5min_1960_2014_I{:03.0f}Y{:04.0f}M{:02.0f}_reduced_06_5min_sum.pkl\".format(dictje[\"temporal_resolution\"],identifier,year,month)\n",
    "    sinks_path = \"{}/{}\".format(ec2_input_path_sinks,sinks_file_name)\n",
    "    \n",
    "    df_sinks = read_sinks(sinks_path)\n",
    "    \n",
    "    df_merge = df_mainchannel.merge(right=df_sinks,\n",
    "                                    how=\"outer\",\n",
    "                                    left_on=\"zones\",\n",
    "                                    right_on=\"zones\",\n",
    "                                    suffixes=[\"_mainchannel\",\"_sinks\"])\n",
    "    df_out = combine_riverdischarge(df_merge)\n",
    "    \n",
    "    output_file_name = \"global_historical_combinedriverdischarge_{}_millionm3_30sPfaf06_1960_2014_I{:03.0f}Y{:04.0f}M{:02.0f}.pkl\".format(dictje[\"temporal_resolution\"],identifier,year,month)\n",
    "    print(output_file_name)\n",
    "    df_out.to_pickle(\"{}/{}\".format(ec2_output_path,output_file_name))\n",
    "    "
   ]
  },
  {
   "cell_type": "code",
   "execution_count": null,
   "metadata": {},
   "outputs": [],
   "source": [
    "!aws s3 cp {ec2_output_path} {s3_output_path} --recursive"
   ]
  },
  {
   "cell_type": "code",
   "execution_count": null,
   "metadata": {},
   "outputs": [],
   "source": [
    "end = datetime.datetime.now()\n",
    "elapsed = end - start\n",
    "print(elapsed)"
   ]
  },
  {
   "cell_type": "markdown",
   "metadata": {},
   "source": [
    "Previous Runs:  \n",
    "0:06:01.370454"
   ]
  }
 ],
 "metadata": {
  "kernelspec": {
   "display_name": "Python 35",
   "language": "python",
   "name": "python35"
  },
  "language_info": {
   "codemirror_mode": {
    "name": "ipython",
    "version": 3
   },
   "file_extension": ".py",
   "mimetype": "text/x-python",
   "name": "python",
   "nbconvert_exporter": "python",
   "pygments_lexer": "ipython3",
   "version": "3.5.4"
  }
 },
 "nbformat": 4,
 "nbformat_minor": 2
}
