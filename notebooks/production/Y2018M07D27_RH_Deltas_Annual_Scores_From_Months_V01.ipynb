{
 "cells": [
  {
   "cell_type": "code",
   "execution_count": 1,
   "metadata": {},
   "outputs": [
    {
     "name": "stdout",
     "output_type": "stream",
     "text": [
      "Input Table:  y2018m07d27_rh_deltas_apply_aridlowonce_mask_v01_v01 \n",
      "Output Table:  y2018m07d27_rh_deltas_annual_scores_from_months_v01_v01\n"
     ]
    }
   ],
   "source": [
    "\"\"\" Calculate Annual Scores by averaging monthly values for deltas.\n",
    "-------------------------------------------------------------------------------\n",
    "\n",
    "Author: Rutger Hofste\n",
    "Date: 20180727\n",
    "Kernel: python35\n",
    "Docker: rutgerhofste/gisdocker:ubuntu16.04\n",
    "\n",
    "Args:\n",
    "    TESTING (Boolean) : Toggle testing case.\n",
    "    SCRIPT_NAME (string) : Script name.\n",
    "    OUTPUT_VERSION (integer) : output version.\n",
    "    DATABASE_ENDPOINT (string) : RDS or postGreSQL endpoint.\n",
    "    DATABASE_NAME (string) : Database name.\n",
    "    TABLE_NAME_AREA_30SPFAF06 (string) : Table name used for areas. Must exist\n",
    "        on same database as used in rest of script.\n",
    "    S3_INPUT_PATH_RIVERDISCHARGE (string) : AWS S3 input path for \n",
    "        riverdischarge.    \n",
    "    S3_INPUT_PATH_DEMAND (string) : AWS S3 input path for \n",
    "        demand.     \n",
    "\n",
    "\"\"\"\n",
    "\n",
    "TESTING = 0\n",
    "OVERWRITE_OUTPUT = 1\n",
    "SCRIPT_NAME = 'Y2018M07D27_RH_Deltas_Annual_Scores_From_Months_V01'\n",
    "OUTPUT_VERSION = 1\n",
    "\n",
    "DATABASE_ENDPOINT = \"aqueduct30v05.cgpnumwmfcqc.eu-central-1.rds.amazonaws.com\"\n",
    "DATABASE_NAME = \"database01\"\n",
    "\n",
    "INPUT_TABLE_NAME = \"y2018m07d27_rh_deltas_apply_aridlowonce_mask_v01_v01\" \n",
    "OUTPUT_TABLE_NAME = SCRIPT_NAME.lower() + \"_v{:02.0f}\".format(OUTPUT_VERSION)\n",
    "\n",
    "print(\"Input Table: \" , INPUT_TABLE_NAME, \n",
    "      \"\\nOutput Table: \" , OUTPUT_TABLE_NAME)\n"
   ]
  },
  {
   "cell_type": "code",
   "execution_count": 2,
   "metadata": {},
   "outputs": [
    {
     "name": "stdout",
     "output_type": "stream",
     "text": [
      "Y2018M07D27 UTC 09:11\n"
     ]
    },
    {
     "data": {
      "text/plain": [
       "'3.5.4 |Anaconda, Inc.| (default, Nov 20 2017, 18:44:38) \\n[GCC 7.2.0]'"
      ]
     },
     "execution_count": 2,
     "metadata": {},
     "output_type": "execute_result"
    }
   ],
   "source": [
    "import time, datetime, sys\n",
    "dateString = time.strftime(\"Y%YM%mD%d\")\n",
    "timeString = time.strftime(\"UTC %H:%M\")\n",
    "start = datetime.datetime.now()\n",
    "print(dateString,timeString)\n",
    "sys.version"
   ]
  },
  {
   "cell_type": "code",
   "execution_count": 3,
   "metadata": {
    "collapsed": true
   },
   "outputs": [],
   "source": [
    "# imports\n",
    "import re\n",
    "import os\n",
    "import numpy as np\n",
    "import pandas as pd\n",
    "import aqueduct3\n",
    "from datetime import timedelta\n",
    "from sqlalchemy import *\n",
    "pd.set_option('display.max_columns', 500)"
   ]
  },
  {
   "cell_type": "code",
   "execution_count": 4,
   "metadata": {},
   "outputs": [
    {
     "name": "stdout",
     "output_type": "stream",
     "text": [
      "DROP TABLE IF EXISTS y2018m07d27_rh_deltas_annual_scores_from_months_v01_v01;\n"
     ]
    }
   ],
   "source": [
    "F = open(\"/.password\",\"r\")\n",
    "password = F.read().splitlines()[0]\n",
    "F.close()\n",
    "\n",
    "engine = create_engine(\"postgresql://rutgerhofste:{}@{}:5432/{}\".format(password,DATABASE_ENDPOINT,DATABASE_NAME))\n",
    "#connection = engine.connect()\n",
    "\n",
    "if OVERWRITE_OUTPUT:\n",
    "    sql = \"DROP TABLE IF EXISTS {};\".format(OUTPUT_TABLE_NAME)\n",
    "    print(sql)\n",
    "    result = engine.execute(sql)"
   ]
  },
  {
   "cell_type": "code",
   "execution_count": 5,
   "metadata": {
    "collapsed": true
   },
   "outputs": [],
   "source": [
    "selection_columns = [\"delta_id\",\n",
    "                     \"year\",\n",
    "                     \"temporal_resolution\"]\n",
    "aggregate_column = \"ols_ols10_waterstress_dimensionless_30spfaf06\""
   ]
  },
  {
   "cell_type": "code",
   "execution_count": 6,
   "metadata": {
    "collapsed": true
   },
   "outputs": [],
   "source": [
    "sql =  \"CREATE TABLE {} AS\".format(OUTPUT_TABLE_NAME)\n",
    "sql += \" SELECT \"\n",
    "for selection_column in selection_columns:\n",
    "    sql += \" {},\".format(selection_column)\n",
    "sql +=     \" AVG({}) AS avg1y_ols_ols10_waterstress_dimensionless_30spfaf06,\".format(aggregate_column)\n",
    "sql +=     \" CASE WHEN SUM (ols_ols10_ptotww_m_30spfaf06) >0 \"\n",
    "sql +=         \" THEN SUM(ols_ols10_waterstress_dimensionless_30spfaf06 * ols_ols10_ptotww_m_30spfaf06) / SUM (ols_ols10_ptotww_m_30spfaf06) \"\n",
    "sql +=     \" ELSE AVG(ols_ols10_waterstress_dimensionless_30spfaf06)\"\n",
    "sql +=     \" END\"\n",
    "sql +=     \" AS avg1y_ols_ols10_weighted_waterstress_dimensionless_30spfaf06\"\n",
    "sql += \" FROM {}\".format(INPUT_TABLE_NAME)\n",
    "sql += \" WHERE temporal_resolution = 'month'\" \n",
    "sql += \" GROUP BY delta_id, year, temporal_resolution\"\n",
    "sql += \" ORDER BY delta_id, year\""
   ]
  },
  {
   "cell_type": "code",
   "execution_count": 7,
   "metadata": {},
   "outputs": [
    {
     "data": {
      "text/plain": [
       "\"CREATE TABLE y2018m07d27_rh_deltas_annual_scores_from_months_v01_v01 AS SELECT  delta_id, year, temporal_resolution, AVG(ols_ols10_waterstress_dimensionless_30spfaf06) AS avg1y_ols_ols10_waterstress_dimensionless_30spfaf06, CASE WHEN SUM (ols_ols10_ptotww_m_30spfaf06) >0  THEN SUM(ols_ols10_waterstress_dimensionless_30spfaf06 * ols_ols10_ptotww_m_30spfaf06) / SUM (ols_ols10_ptotww_m_30spfaf06)  ELSE AVG(ols_ols10_waterstress_dimensionless_30spfaf06) END AS avg1y_ols_ols10_weighted_waterstress_dimensionless_30spfaf06 FROM y2018m07d27_rh_deltas_apply_aridlowonce_mask_v01_v01 WHERE temporal_resolution = 'month' GROUP BY delta_id, year, temporal_resolution ORDER BY delta_id, year\""
      ]
     },
     "execution_count": 7,
     "metadata": {},
     "output_type": "execute_result"
    }
   ],
   "source": [
    "sql"
   ]
  },
  {
   "cell_type": "code",
   "execution_count": 8,
   "metadata": {
    "collapsed": true
   },
   "outputs": [],
   "source": [
    "result = engine.execute(sql)"
   ]
  },
  {
   "cell_type": "code",
   "execution_count": 9,
   "metadata": {
    "collapsed": true
   },
   "outputs": [],
   "source": [
    "sql_index = \"CREATE INDEX {}delta_id ON {} ({})\".format(OUTPUT_TABLE_NAME,OUTPUT_TABLE_NAME,\"delta_id\")"
   ]
  },
  {
   "cell_type": "code",
   "execution_count": 10,
   "metadata": {},
   "outputs": [],
   "source": [
    "result = engine.execute(sql_index)"
   ]
  },
  {
   "cell_type": "code",
   "execution_count": 11,
   "metadata": {
    "collapsed": true
   },
   "outputs": [],
   "source": [
    "sql_index2 = \"CREATE INDEX {}year ON {} ({})\".format(OUTPUT_TABLE_NAME,OUTPUT_TABLE_NAME,\"year\")"
   ]
  },
  {
   "cell_type": "code",
   "execution_count": 12,
   "metadata": {
    "collapsed": true
   },
   "outputs": [],
   "source": [
    "result = engine.execute(sql_index2)"
   ]
  },
  {
   "cell_type": "code",
   "execution_count": 13,
   "metadata": {
    "collapsed": true
   },
   "outputs": [],
   "source": [
    "engine.dispose()"
   ]
  },
  {
   "cell_type": "code",
   "execution_count": 14,
   "metadata": {},
   "outputs": [
    {
     "name": "stdout",
     "output_type": "stream",
     "text": [
      "0:00:02.071149\n"
     ]
    }
   ],
   "source": [
    "end = datetime.datetime.now()\n",
    "elapsed = end - start\n",
    "print(elapsed)"
   ]
  },
  {
   "cell_type": "markdown",
   "metadata": {},
   "source": [
    "Previous runs:  \n",
    "0:00:02.071149\n"
   ]
  }
 ],
 "metadata": {
  "kernelspec": {
   "display_name": "Python 35",
   "language": "python",
   "name": "python35"
  },
  "language_info": {
   "codemirror_mode": {
    "name": "ipython",
    "version": 3
   },
   "file_extension": ".py",
   "mimetype": "text/x-python",
   "name": "python",
   "nbconvert_exporter": "python",
   "pygments_lexer": "ipython3",
   "version": "3.5.4"
  }
 },
 "nbformat": 4,
 "nbformat_minor": 2
}
