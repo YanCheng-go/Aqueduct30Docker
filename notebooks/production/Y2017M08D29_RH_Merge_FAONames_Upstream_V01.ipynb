{
 "cells": [
  {
   "cell_type": "markdown",
   "metadata": {},
   "source": [
    "### Merge Upstream Downstream with FAO names \n",
    "\n",
    "* Purpose of script: Create a shapefile and csv file with both the upstream / downstream relation and the FAO basin names\n",
    "* Author: Rutger Hofste\n",
    "* Kernel used: python35\n",
    "* Date created: 20170829"
   ]
  },
  {
   "cell_type": "code",
   "execution_count": 1,
   "metadata": {},
   "outputs": [
    {
     "name": "stdout",
     "output_type": "stream",
     "text": [
      "Y2017M11D16 UTC 11:56\n"
     ]
    },
    {
     "data": {
      "text/plain": [
       "'3.5.4 |Continuum Analytics, Inc.| (default, Aug 14 2017, 13:26:58) \\n[GCC 4.4.7 20120313 (Red Hat 4.4.7-1)]'"
      ]
     },
     "execution_count": 1,
     "metadata": {},
     "output_type": "execute_result"
    }
   ],
   "source": [
    "import time, datetime, sys\n",
    "dateString = time.strftime(\"Y%YM%mD%d\")\n",
    "timeString = time.strftime(\"UTC %H:%M\")\n",
    "start = datetime.datetime.now()\n",
    "print(dateString,timeString)\n",
    "sys.version"
   ]
  },
  {
   "cell_type": "code",
   "execution_count": 2,
   "metadata": {
    "collapsed": true
   },
   "outputs": [],
   "source": [
    "S3_INPUT_PATH_FAO =\"s3://wri-projects/Aqueduct30/processData/Y2017M08D25_RH_spatial_join_FAONames_V01/output/\"\n",
    "S3_INPUT_PATH_DOWNSTREAM = \"s3://wri-projects/Aqueduct30/processData/Y2017M08D23_RH_Downstream_V01/output/\"\n",
    "S3_INPUT_PATH_HYBAS = \"s3://wri-projects/Aqueduct30/processData/Y2017M08D02_RH_Merge_HydroBasins_V01/output/\"\n",
    "\n",
    "SCRIPT_NAME = \"Y2017M08D29_RH_Merge_FAONames_Upstream_V01\"\n",
    "\n",
    "OUTPUT_VERSION = 3\n",
    "\n",
    "INPUT_FILE_NAME_FAO = \"hybas_lev06_v1c_merged_fiona_withFAO_V01.csv\"\n",
    "INPUT_FILE_NAME_DOWNSTREAM = \"hybas_lev06_v1c_merged_fiona_upstream_downstream_V01.csv\"\n",
    "INPUT_FILE_NAME_HYBAS = \"hybas_lev06_v1c_merged_fiona_V01.shp\"\n",
    "\n",
    "EC2_INPUT_PATH = \"/volumes/data/%s/input/\" %(SCRIPT_NAME)\n",
    "EC2_OUTPUT_PATH = \"/volumes/data/%s/output/\" %(SCRIPT_NAME)\n",
    "\n",
    "OUTPUT_FILE_NAME = \"hybas_lev06_v1c_merged_fiona_upstream_downstream_FAO_V%0.2d\" %(OUTPUT_VERSION)\n",
    "\n",
    "S3_OUTPUT_PATH = \"s3://wri-projects/Aqueduct30/processData/%s/output/\" %(SCRIPT_NAME)"
   ]
  },
  {
   "cell_type": "code",
   "execution_count": 3,
   "metadata": {
    "collapsed": true
   },
   "outputs": [],
   "source": [
    "!rm -r {EC2_INPUT_PATH}\n",
    "!rm -r {EC2_OUTPUT_PATH}\n",
    "\n",
    "!mkdir -p {EC2_INPUT_PATH}\n",
    "!mkdir -p {EC2_OUTPUT_PATH}"
   ]
  },
  {
   "cell_type": "code",
   "execution_count": 4,
   "metadata": {},
   "outputs": [
    {
     "name": "stdout",
     "output_type": "stream",
     "text": [
      "download: s3://wri-projects/Aqueduct30/processData/Y2017M08D25_RH_spatial_join_FAONames_V01/output/hybas_lev06_v1c_merged_fiona_withFAO_V01.csv to ../../../../data/Y2017M08D29_RH_Merge_FAONames_Upstream_V01/input/hybas_lev06_v1c_merged_fiona_withFAO_V01.csv\n"
     ]
    }
   ],
   "source": [
    "!aws s3 cp {S3_INPUT_PATH_FAO} {EC2_INPUT_PATH} --recursive "
   ]
  },
  {
   "cell_type": "code",
   "execution_count": 5,
   "metadata": {},
   "outputs": [
    {
     "name": "stdout",
     "output_type": "stream",
     "text": [
      "download: s3://wri-projects/Aqueduct30/processData/Y2017M08D23_RH_Downstream_V01/output/hybas_lev06_v1c_merged_fiona_upstream_downstream_V01.csv to ../../../../data/Y2017M08D29_RH_Merge_FAONames_Upstream_V01/input/hybas_lev06_v1c_merged_fiona_upstream_downstream_V01.csv\n"
     ]
    }
   ],
   "source": [
    "!aws s3 cp {S3_INPUT_PATH_DOWNSTREAM} {EC2_INPUT_PATH} --recursive "
   ]
  },
  {
   "cell_type": "code",
   "execution_count": 6,
   "metadata": {
    "scrolled": true
   },
   "outputs": [
    {
     "name": "stdout",
     "output_type": "stream",
     "text": [
      "download: s3://wri-projects/Aqueduct30/processData/Y2017M08D02_RH_Merge_HydroBasins_V01/output/hybas_lev00_v1c_merged_fiona_V01.cpg to ../../../../data/Y2017M08D29_RH_Merge_FAONames_Upstream_V01/input/hybas_lev00_v1c_merged_fiona_V01.cpg\n",
      "download: s3://wri-projects/Aqueduct30/processData/Y2017M08D02_RH_Merge_HydroBasins_V01/output/hybas_lev06_v1c_merged_fiona_V01.cpg to ../../../../data/Y2017M08D29_RH_Merge_FAONames_Upstream_V01/input/hybas_lev06_v1c_merged_fiona_V01.cpg\n",
      "download: s3://wri-projects/Aqueduct30/processData/Y2017M08D02_RH_Merge_HydroBasins_V01/output/hybas_lev00_v1c_merged_fiona_V01.prj to ../../../../data/Y2017M08D29_RH_Merge_FAONames_Upstream_V01/input/hybas_lev00_v1c_merged_fiona_V01.prj\n",
      "download: s3://wri-projects/Aqueduct30/processData/Y2017M08D02_RH_Merge_HydroBasins_V01/output/hybas_lev06_v1c_merged_fiona_V01.prj to ../../../../data/Y2017M08D29_RH_Merge_FAONames_Upstream_V01/input/hybas_lev06_v1c_merged_fiona_V01.prj\n",
      "download: s3://wri-projects/Aqueduct30/processData/Y2017M08D02_RH_Merge_HydroBasins_V01/output/hybas_lev06_v1c_merged_fiona_V01.shx to ../../../../data/Y2017M08D29_RH_Merge_FAONames_Upstream_V01/input/hybas_lev06_v1c_merged_fiona_V01.shx\n",
      "download: s3://wri-projects/Aqueduct30/processData/Y2017M08D02_RH_Merge_HydroBasins_V01/output/hybas_lev06_v1c_merged_fiona_V01.dbf to ../../../../data/Y2017M08D29_RH_Merge_FAONames_Upstream_V01/input/hybas_lev06_v1c_merged_fiona_V01.dbf\n",
      "download: s3://wri-projects/Aqueduct30/processData/Y2017M08D02_RH_Merge_HydroBasins_V01/output/hybas_lev00_v1c_merged_fiona_V01.shx to ../../../../data/Y2017M08D29_RH_Merge_FAONames_Upstream_V01/input/hybas_lev00_v1c_merged_fiona_V01.shx\n",
      "download: s3://wri-projects/Aqueduct30/processData/Y2017M08D02_RH_Merge_HydroBasins_V01/output/hybas_lev06_v1c_merged_fiona_V01.shp to ../../../../data/Y2017M08D29_RH_Merge_FAONames_Upstream_V01/input/hybas_lev06_v1c_merged_fiona_V01.shp\n",
      "download: s3://wri-projects/Aqueduct30/processData/Y2017M08D02_RH_Merge_HydroBasins_V01/output/hybas_lev00_v1c_merged_fiona_V01.dbf to ../../../../data/Y2017M08D29_RH_Merge_FAONames_Upstream_V01/input/hybas_lev00_v1c_merged_fiona_V01.dbf\n",
      "download: s3://wri-projects/Aqueduct30/processData/Y2017M08D02_RH_Merge_HydroBasins_V01/output/hybas_lev00_v1c_merged_fiona_V01.shp to ../../../../data/Y2017M08D29_RH_Merge_FAONames_Upstream_V01/input/hybas_lev00_v1c_merged_fiona_V01.shp\n"
     ]
    }
   ],
   "source": [
    "!aws s3 cp {S3_INPUT_PATH_HYBAS} {EC2_INPUT_PATH} --recursive --exclude *.tif"
   ]
  },
  {
   "cell_type": "code",
   "execution_count": 7,
   "metadata": {
    "collapsed": true
   },
   "outputs": [],
   "source": [
    "import os\n",
    "if 'GDAL_DATA' not in os.environ:\n",
    "    os.environ['GDAL_DATA'] = r'/usr/share/gdal/2.1'\n",
    "from osgeo import gdal,ogr,osr\n",
    "'GDAL_DATA' in os.environ\n",
    "# If false, the GDAL_DATA variable is set incorrectly. You need this variable to obtain the spatial reference\n",
    "import pandas as pd\n",
    "import geopandas as gpd\n",
    "import matplotlib.pyplot as plt\n",
    "import time\n",
    "%matplotlib notebook"
   ]
  },
  {
   "cell_type": "code",
   "execution_count": 8,
   "metadata": {
    "collapsed": true
   },
   "outputs": [],
   "source": [
    "dfFAO = pd.read_csv(os.path.join(EC2_INPUT_PATH,INPUT_FILE_NAME_FAO))\n",
    "dfFAO = dfFAO.set_index(\"PFAF_ID\", drop=False)"
   ]
  },
  {
   "cell_type": "code",
   "execution_count": 9,
   "metadata": {},
   "outputs": [
    {
     "data": {
      "text/html": [
       "<div>\n",
       "<style>\n",
       "    .dataframe thead tr:only-child th {\n",
       "        text-align: right;\n",
       "    }\n",
       "\n",
       "    .dataframe thead th {\n",
       "        text-align: left;\n",
       "    }\n",
       "\n",
       "    .dataframe tbody tr th {\n",
       "        vertical-align: top;\n",
       "    }\n",
       "</style>\n",
       "<table border=\"1\" class=\"dataframe\">\n",
       "  <thead>\n",
       "    <tr style=\"text-align: right;\">\n",
       "      <th></th>\n",
       "      <th>PFAF_ID</th>\n",
       "      <th>SUB_NAME</th>\n",
       "      <th>MAJ_NAME</th>\n",
       "      <th>FAOid_copy</th>\n",
       "    </tr>\n",
       "    <tr>\n",
       "      <th>PFAF_ID</th>\n",
       "      <th></th>\n",
       "      <th></th>\n",
       "      <th></th>\n",
       "      <th></th>\n",
       "    </tr>\n",
       "  </thead>\n",
       "  <tbody>\n",
       "    <tr>\n",
       "      <th>111011</th>\n",
       "      <td>111011</td>\n",
       "      <td>['Wadi El Naqa']</td>\n",
       "      <td>['Africa, Red Sea - Gulf of Aden Coast']</td>\n",
       "      <td>['MAJ_BAS_7019_SUB_BASE_0190312']</td>\n",
       "    </tr>\n",
       "    <tr>\n",
       "      <th>111012</th>\n",
       "      <td>111012</td>\n",
       "      <td>['Egyptian east coast']</td>\n",
       "      <td>['Africa, Red Sea - Gulf of Aden Coast']</td>\n",
       "      <td>['MAJ_BAS_7019_SUB_BASE_0190313']</td>\n",
       "    </tr>\n",
       "    <tr>\n",
       "      <th>111013</th>\n",
       "      <td>111013</td>\n",
       "      <td>['Egyptian east coast']</td>\n",
       "      <td>['Africa, Red Sea - Gulf of Aden Coast']</td>\n",
       "      <td>['MAJ_BAS_7019_SUB_BASE_0190313']</td>\n",
       "    </tr>\n",
       "    <tr>\n",
       "      <th>111014</th>\n",
       "      <td>111014</td>\n",
       "      <td>['Egyptian east coast']</td>\n",
       "      <td>['Africa, Red Sea - Gulf of Aden Coast']</td>\n",
       "      <td>['MAJ_BAS_7019_SUB_BASE_0190313']</td>\n",
       "    </tr>\n",
       "    <tr>\n",
       "      <th>111015</th>\n",
       "      <td>111015</td>\n",
       "      <td>['Egyptian east coast']</td>\n",
       "      <td>['Africa, Red Sea - Gulf of Aden Coast']</td>\n",
       "      <td>['MAJ_BAS_7019_SUB_BASE_0190313']</td>\n",
       "    </tr>\n",
       "  </tbody>\n",
       "</table>\n",
       "</div>"
      ],
      "text/plain": [
       "         PFAF_ID                 SUB_NAME  \\\n",
       "PFAF_ID                                     \n",
       "111011    111011         ['Wadi El Naqa']   \n",
       "111012    111012  ['Egyptian east coast']   \n",
       "111013    111013  ['Egyptian east coast']   \n",
       "111014    111014  ['Egyptian east coast']   \n",
       "111015    111015  ['Egyptian east coast']   \n",
       "\n",
       "                                         MAJ_NAME  \\\n",
       "PFAF_ID                                             \n",
       "111011   ['Africa, Red Sea - Gulf of Aden Coast']   \n",
       "111012   ['Africa, Red Sea - Gulf of Aden Coast']   \n",
       "111013   ['Africa, Red Sea - Gulf of Aden Coast']   \n",
       "111014   ['Africa, Red Sea - Gulf of Aden Coast']   \n",
       "111015   ['Africa, Red Sea - Gulf of Aden Coast']   \n",
       "\n",
       "                                FAOid_copy  \n",
       "PFAF_ID                                     \n",
       "111011   ['MAJ_BAS_7019_SUB_BASE_0190312']  \n",
       "111012   ['MAJ_BAS_7019_SUB_BASE_0190313']  \n",
       "111013   ['MAJ_BAS_7019_SUB_BASE_0190313']  \n",
       "111014   ['MAJ_BAS_7019_SUB_BASE_0190313']  \n",
       "111015   ['MAJ_BAS_7019_SUB_BASE_0190313']  "
      ]
     },
     "execution_count": 9,
     "metadata": {},
     "output_type": "execute_result"
    }
   ],
   "source": [
    "dfFAO.head()"
   ]
  },
  {
   "cell_type": "code",
   "execution_count": 10,
   "metadata": {
    "collapsed": true
   },
   "outputs": [],
   "source": [
    "dfDownstream = pd.read_csv(os.path.join(EC2_INPUT_PATH,INPUT_FILE_NAME_DOWNSTREAM))\n",
    "dfDownstream = dfDownstream.set_index(\"PFAF_ID\", drop=False)"
   ]
  },
  {
   "cell_type": "code",
   "execution_count": 11,
   "metadata": {},
   "outputs": [
    {
     "data": {
      "text/html": [
       "<div>\n",
       "<style>\n",
       "    .dataframe thead tr:only-child th {\n",
       "        text-align: right;\n",
       "    }\n",
       "\n",
       "    .dataframe thead th {\n",
       "        text-align: left;\n",
       "    }\n",
       "\n",
       "    .dataframe tbody tr th {\n",
       "        vertical-align: top;\n",
       "    }\n",
       "</style>\n",
       "<table border=\"1\" class=\"dataframe\">\n",
       "  <thead>\n",
       "    <tr style=\"text-align: right;\">\n",
       "      <th></th>\n",
       "      <th>HYBAS_ID2</th>\n",
       "      <th>Unnamed: 0</th>\n",
       "      <th>HYBAS_ID</th>\n",
       "      <th>NEXT_DOWN</th>\n",
       "      <th>NEXT_SINK</th>\n",
       "      <th>MAIN_BAS</th>\n",
       "      <th>DIST_SINK</th>\n",
       "      <th>DIST_MAIN</th>\n",
       "      <th>SUB_AREA</th>\n",
       "      <th>UP_AREA</th>\n",
       "      <th>...</th>\n",
       "      <th>COAST</th>\n",
       "      <th>ORDER</th>\n",
       "      <th>SORT</th>\n",
       "      <th>Upstream_HYBAS_IDs</th>\n",
       "      <th>Upstream_PFAF_IDs</th>\n",
       "      <th>Downstream_HYBAS_IDs</th>\n",
       "      <th>Downstream_PFAF_IDs</th>\n",
       "      <th>NEXT_SINK_PFAF</th>\n",
       "      <th>Basin_HYBAS_IDs</th>\n",
       "      <th>Basin_PFAF_IDs</th>\n",
       "    </tr>\n",
       "    <tr>\n",
       "      <th>PFAF_ID</th>\n",
       "      <th></th>\n",
       "      <th></th>\n",
       "      <th></th>\n",
       "      <th></th>\n",
       "      <th></th>\n",
       "      <th></th>\n",
       "      <th></th>\n",
       "      <th></th>\n",
       "      <th></th>\n",
       "      <th></th>\n",
       "      <th></th>\n",
       "      <th></th>\n",
       "      <th></th>\n",
       "      <th></th>\n",
       "      <th></th>\n",
       "      <th></th>\n",
       "      <th></th>\n",
       "      <th></th>\n",
       "      <th></th>\n",
       "      <th></th>\n",
       "      <th></th>\n",
       "    </tr>\n",
       "  </thead>\n",
       "  <tbody>\n",
       "    <tr>\n",
       "      <th>611001</th>\n",
       "      <td>6060000010</td>\n",
       "      <td>0</td>\n",
       "      <td>6060000010</td>\n",
       "      <td>0</td>\n",
       "      <td>6060000010</td>\n",
       "      <td>6060000010</td>\n",
       "      <td>0.0</td>\n",
       "      <td>0.0</td>\n",
       "      <td>4317.4</td>\n",
       "      <td>4317.4</td>\n",
       "      <td>...</td>\n",
       "      <td>1</td>\n",
       "      <td>0</td>\n",
       "      <td>1</td>\n",
       "      <td>[]</td>\n",
       "      <td>[]</td>\n",
       "      <td>[]</td>\n",
       "      <td>[]</td>\n",
       "      <td>611001.0</td>\n",
       "      <td>[6060000010]</td>\n",
       "      <td>[611001]</td>\n",
       "    </tr>\n",
       "    <tr>\n",
       "      <th>611002</th>\n",
       "      <td>6060000200</td>\n",
       "      <td>1</td>\n",
       "      <td>6060000200</td>\n",
       "      <td>0</td>\n",
       "      <td>6060000200</td>\n",
       "      <td>6060000200</td>\n",
       "      <td>0.0</td>\n",
       "      <td>0.0</td>\n",
       "      <td>35995.5</td>\n",
       "      <td>35996.7</td>\n",
       "      <td>...</td>\n",
       "      <td>0</td>\n",
       "      <td>1</td>\n",
       "      <td>2</td>\n",
       "      <td>[]</td>\n",
       "      <td>[]</td>\n",
       "      <td>[]</td>\n",
       "      <td>[]</td>\n",
       "      <td>611002.0</td>\n",
       "      <td>[6060000200]</td>\n",
       "      <td>[611002]</td>\n",
       "    </tr>\n",
       "    <tr>\n",
       "      <th>611003</th>\n",
       "      <td>6060000210</td>\n",
       "      <td>2</td>\n",
       "      <td>6060000210</td>\n",
       "      <td>0</td>\n",
       "      <td>6060000210</td>\n",
       "      <td>6060000210</td>\n",
       "      <td>0.0</td>\n",
       "      <td>0.0</td>\n",
       "      <td>443.9</td>\n",
       "      <td>443.9</td>\n",
       "      <td>...</td>\n",
       "      <td>1</td>\n",
       "      <td>0</td>\n",
       "      <td>3</td>\n",
       "      <td>[]</td>\n",
       "      <td>[]</td>\n",
       "      <td>[]</td>\n",
       "      <td>[]</td>\n",
       "      <td>611003.0</td>\n",
       "      <td>[6060000210]</td>\n",
       "      <td>[611003]</td>\n",
       "    </tr>\n",
       "    <tr>\n",
       "      <th>611004</th>\n",
       "      <td>6060000240</td>\n",
       "      <td>3</td>\n",
       "      <td>6060000240</td>\n",
       "      <td>0</td>\n",
       "      <td>6060000240</td>\n",
       "      <td>6060000240</td>\n",
       "      <td>0.0</td>\n",
       "      <td>0.0</td>\n",
       "      <td>2186.3</td>\n",
       "      <td>2186.3</td>\n",
       "      <td>...</td>\n",
       "      <td>0</td>\n",
       "      <td>1</td>\n",
       "      <td>4</td>\n",
       "      <td>[]</td>\n",
       "      <td>[]</td>\n",
       "      <td>[]</td>\n",
       "      <td>[]</td>\n",
       "      <td>611004.0</td>\n",
       "      <td>[6060000240]</td>\n",
       "      <td>[611004]</td>\n",
       "    </tr>\n",
       "    <tr>\n",
       "      <th>611005</th>\n",
       "      <td>6060000250</td>\n",
       "      <td>4</td>\n",
       "      <td>6060000250</td>\n",
       "      <td>0</td>\n",
       "      <td>6060000250</td>\n",
       "      <td>6060000250</td>\n",
       "      <td>0.0</td>\n",
       "      <td>0.0</td>\n",
       "      <td>6533.8</td>\n",
       "      <td>6533.8</td>\n",
       "      <td>...</td>\n",
       "      <td>1</td>\n",
       "      <td>0</td>\n",
       "      <td>5</td>\n",
       "      <td>[]</td>\n",
       "      <td>[]</td>\n",
       "      <td>[]</td>\n",
       "      <td>[]</td>\n",
       "      <td>611005.0</td>\n",
       "      <td>[6060000250]</td>\n",
       "      <td>[611005]</td>\n",
       "    </tr>\n",
       "  </tbody>\n",
       "</table>\n",
       "<p>5 rows × 22 columns</p>\n",
       "</div>"
      ],
      "text/plain": [
       "          HYBAS_ID2  Unnamed: 0    HYBAS_ID  NEXT_DOWN   NEXT_SINK  \\\n",
       "PFAF_ID                                                              \n",
       "611001   6060000010           0  6060000010          0  6060000010   \n",
       "611002   6060000200           1  6060000200          0  6060000200   \n",
       "611003   6060000210           2  6060000210          0  6060000210   \n",
       "611004   6060000240           3  6060000240          0  6060000240   \n",
       "611005   6060000250           4  6060000250          0  6060000250   \n",
       "\n",
       "           MAIN_BAS  DIST_SINK  DIST_MAIN  SUB_AREA  UP_AREA       ...        \\\n",
       "PFAF_ID                                                            ...         \n",
       "611001   6060000010        0.0        0.0    4317.4   4317.4       ...         \n",
       "611002   6060000200        0.0        0.0   35995.5  35996.7       ...         \n",
       "611003   6060000210        0.0        0.0     443.9    443.9       ...         \n",
       "611004   6060000240        0.0        0.0    2186.3   2186.3       ...         \n",
       "611005   6060000250        0.0        0.0    6533.8   6533.8       ...         \n",
       "\n",
       "         COAST  ORDER  SORT  Upstream_HYBAS_IDs  Upstream_PFAF_IDs  \\\n",
       "PFAF_ID                                                              \n",
       "611001       1      0     1                  []                 []   \n",
       "611002       0      1     2                  []                 []   \n",
       "611003       1      0     3                  []                 []   \n",
       "611004       0      1     4                  []                 []   \n",
       "611005       1      0     5                  []                 []   \n",
       "\n",
       "        Downstream_HYBAS_IDs Downstream_PFAF_IDs NEXT_SINK_PFAF  \\\n",
       "PFAF_ID                                                           \n",
       "611001                    []                  []       611001.0   \n",
       "611002                    []                  []       611002.0   \n",
       "611003                    []                  []       611003.0   \n",
       "611004                    []                  []       611004.0   \n",
       "611005                    []                  []       611005.0   \n",
       "\n",
       "        Basin_HYBAS_IDs  Basin_PFAF_IDs  \n",
       "PFAF_ID                                  \n",
       "611001     [6060000010]        [611001]  \n",
       "611002     [6060000200]        [611002]  \n",
       "611003     [6060000210]        [611003]  \n",
       "611004     [6060000240]        [611004]  \n",
       "611005     [6060000250]        [611005]  \n",
       "\n",
       "[5 rows x 22 columns]"
      ]
     },
     "execution_count": 11,
     "metadata": {},
     "output_type": "execute_result"
    }
   ],
   "source": [
    "dfDownstream.head()"
   ]
  },
  {
   "cell_type": "code",
   "execution_count": 12,
   "metadata": {},
   "outputs": [],
   "source": [
    "dfDownstream.drop(\"Unnamed: 0\",1,inplace=True)"
   ]
  },
  {
   "cell_type": "code",
   "execution_count": 13,
   "metadata": {
    "collapsed": true
   },
   "outputs": [],
   "source": [
    "gdfHybas = gpd.read_file(os.path.join(EC2_INPUT_PATH,INPUT_FILE_NAME_HYBAS))\n",
    "gdfHybas = gdfHybas.set_index(\"PFAF_ID\", drop=False)"
   ]
  },
  {
   "cell_type": "code",
   "execution_count": 14,
   "metadata": {
    "collapsed": true
   },
   "outputs": [],
   "source": [
    "dfHybas = pd.DataFrame(gdfHybas[\"PFAF_ID\"])"
   ]
  },
  {
   "cell_type": "markdown",
   "metadata": {},
   "source": [
    "Merging the the downstream and FAO datasets, adding Hybas geometry and export both Excel sheet and dataset."
   ]
  },
  {
   "cell_type": "code",
   "execution_count": 15,
   "metadata": {
    "collapsed": true
   },
   "outputs": [],
   "source": [
    "dfOut = dfDownstream.merge(dfFAO,how=\"outer\")"
   ]
  },
  {
   "cell_type": "code",
   "execution_count": 16,
   "metadata": {
    "collapsed": true
   },
   "outputs": [],
   "source": [
    "dfOut = dfOut.set_index(\"PFAF_ID\",drop=False)"
   ]
  },
  {
   "cell_type": "code",
   "execution_count": 17,
   "metadata": {},
   "outputs": [
    {
     "data": {
      "text/plain": [
       "HYBAS_ID       int64\n",
       "NEXT_DOWN      int64\n",
       "NEXT_SINK      int64\n",
       "MAIN_BAS       int64\n",
       "DIST_SINK    float64\n",
       "DIST_MAIN    float64\n",
       "SUB_AREA     float64\n",
       "UP_AREA      float64\n",
       "PFAF_ID        int64\n",
       "ENDO           int64\n",
       "COAST          int64\n",
       "ORDER          int64\n",
       "SORT           int64\n",
       "geometry      object\n",
       "dtype: object"
      ]
     },
     "execution_count": 17,
     "metadata": {},
     "output_type": "execute_result"
    }
   ],
   "source": [
    "gdfHybas.dtypes"
   ]
  },
  {
   "cell_type": "code",
   "execution_count": null,
   "metadata": {
    "collapsed": true
   },
   "outputs": [],
   "source": [
    "gdfHybasSimple = gpd.GeoDataFrame(dfHybas, geometry=gdfHybas.geometry)"
   ]
  },
  {
   "cell_type": "code",
   "execution_count": null,
   "metadata": {
    "collapsed": true
   },
   "outputs": [],
   "source": [
    "gdfHybasSimple.to_file(os.path.join(EC2_OUTPUT_PATH,OUTPUT_FILE_NAME+\".shp\"))"
   ]
  },
  {
   "cell_type": "code",
   "execution_count": null,
   "metadata": {
    "collapsed": true
   },
   "outputs": [],
   "source": [
    "dfOut.to_csv(os.path.join(EC2_OUTPUT_PATH,OUTPUT_FILE_NAME+\".csv\"))"
   ]
  },
  {
   "cell_type": "code",
   "execution_count": null,
   "metadata": {
    "collapsed": true
   },
   "outputs": [],
   "source": [
    "dfOut.to_pickle(os.path.join(EC2_OUTPUT_PATH,OUTPUT_FILE_NAME+\".pkl\"))"
   ]
  },
  {
   "cell_type": "code",
   "execution_count": null,
   "metadata": {},
   "outputs": [],
   "source": [
    "!aws s3 cp {EC2_OUTPUT_PATH} {S3_OUTPUT_PATH} --recursive"
   ]
  },
  {
   "cell_type": "code",
   "execution_count": null,
   "metadata": {
    "collapsed": true
   },
   "outputs": [],
   "source": [
    "end = datetime.datetime.now()\n",
    "elapsed = end - start\n",
    "print(elapsed)"
   ]
  }
 ],
 "metadata": {
  "kernelspec": {
   "display_name": "Python 35",
   "language": "python",
   "name": "python35"
  },
  "language_info": {
   "codemirror_mode": {
    "name": "ipython",
    "version": 3
   },
   "file_extension": ".py",
   "mimetype": "text/x-python",
   "name": "python",
   "nbconvert_exporter": "python",
   "pygments_lexer": "ipython3",
   "version": "3.5.4"
  }
 },
 "nbformat": 4,
 "nbformat_minor": 2
}
