{
 "cells": [
  {
   "cell_type": "code",
   "execution_count": 12,
   "metadata": {},
   "outputs": [
    {
     "name": "stdout",
     "output_type": "stream",
     "text": [
      "Input ec2: /volumes/data/Y2017M08D29_RH_Merge_FAONames_Upstream_V01/input_V03 \n",
      "Output ec2: /volumes/data/Y2017M08D29_RH_Merge_FAONames_Upstream_V01/output_V03 \n",
      "Input s3 FAO: s3://wri-projects/Aqueduct30/processData/Y2017M08D25_RH_spatial_join_FAONames_V01/output_V07/ \n",
      "Input s3 Downstream: s3://wri-projects/Aqueduct30/processData/Y2017M08D23_RH_Downstream_V01/output_V02/ \n",
      "Input s3 Hybas: s3://wri-projects/Aqueduct30/processData/Y2017M08D02_RH_Merge_HydroBasins_V02/output_V04/ \n",
      "Output s3: s3://wri-projects/Aqueduct30/processData/Y2017M08D29_RH_Merge_FAONames_Upstream_V01/output_V03/\n"
     ]
    }
   ],
   "source": [
    "\"\"\" Create shapefile and csv table for hybas, fao and upstream/downstream\n",
    "-------------------------------------------------------------------------------\n",
    "\n",
    "This script needs a revision or needs to be archived. The database is based\n",
    "on stroing lists and is a non normalized version. violates N-1.\n",
    "\n",
    "\n",
    "Author: Rutger Hofste\n",
    "Date: 20170829\n",
    "Kernel: python35\n",
    "Docker: rutgerhofste/gisdocker:ubuntu16.04\n",
    "\n",
    "Args:\n",
    "    TESTING (Boolean) : Toggle testing case.\n",
    "    SCRIPT_NAME (string) : Script name.\n",
    "    OUTPUT_VERSION (integer) : output version.\n",
    "    DATABASE_ENDPOINT (string) : RDS or postGreSQL endpoint.\n",
    "    DATABASE_NAME (string) : Database name.\n",
    "    TABLE_NAME_AREA_30SPFAF06 (string) : Table name used for areas. Must exist\n",
    "        on same database as used in rest of script.\n",
    "    S3_INPUT_PATH_RIVERDISCHARGE (string) : AWS S3 input path for \n",
    "        riverdischarge.    \n",
    "    S3_INPUT_PATH_DEMAND (string) : AWS S3 input path for \n",
    "        demand.    \n",
    "\n",
    "\"\"\"\n",
    "\n",
    "S3_INPUT_PATH_FAO =\"s3://wri-projects/Aqueduct30/processData/Y2017M08D25_RH_spatial_join_FAONames_V01/output_V07/\"\n",
    "S3_INPUT_PATH_DOWNSTREAM = \"s3://wri-projects/Aqueduct30/processData/Y2017M08D23_RH_Downstream_V01/output_V02/\"\n",
    "S3_INPUT_PATH_HYBAS = \"s3://wri-projects/Aqueduct30/processData/Y2017M08D02_RH_Merge_HydroBasins_V02/output_V04/\"\n",
    "\n",
    "SCRIPT_NAME = \"Y2017M08D29_RH_Merge_FAONames_Upstream_V01\"\n",
    "OUTPUT_VERSION = 3\n",
    "\n",
    "INPUT_FILE_NAME_FAO = \"hybas_lev06_v1c_merged_fiona_withFAO_V07.pkl\"\n",
    "INPUT_FILE_NAME_DOWNSTREAM = \"hybas_lev06_v1c_merged_fiona_upstream_downstream_V01.pkl\"\n",
    "INPUT_FILE_NAME_HYBAS = \"hybas_lev06_v1c_merged_fiona_V04.shp\"\n",
    "\n",
    "OUTPUT_FILE_NAME = \"hybas_lev06_v1c_merged_fiona_upstream_downstream_FAO_V%0.2d\" %(OUTPUT_VERSION)\n",
    "\n",
    "ec2_input_path = \"/volumes/data/{}/input_V{:02.0f}\".format(SCRIPT_NAME,OUTPUT_VERSION)\n",
    "ec2_output_path = \"/volumes/data/{}/output_V{:02.0f}\".format(SCRIPT_NAME,OUTPUT_VERSION)\n",
    "s3_output_path = \"s3://wri-projects/Aqueduct30/processData/{}/output_V{:02.0f}/\".format(SCRIPT_NAME,OUTPUT_VERSION)\n",
    "\n",
    "print(\"Input ec2: \" + ec2_input_path,\n",
    "      \"\\nOutput ec2: \" + ec2_output_path,\n",
    "      \"\\nInput s3 FAO: \" + S3_INPUT_PATH_FAO,\n",
    "      \"\\nInput s3 Downstream: \" + S3_INPUT_PATH_DOWNSTREAM,\n",
    "      \"\\nInput s3 Hybas: \" + S3_INPUT_PATH_HYBAS,\n",
    "      \"\\nOutput s3: \" + s3_output_path)\n",
    "\n"
   ]
  },
  {
   "cell_type": "code",
   "execution_count": 5,
   "metadata": {},
   "outputs": [
    {
     "name": "stdout",
     "output_type": "stream",
     "text": [
      "Y2018M05D24 UTC 11:48\n"
     ]
    },
    {
     "data": {
      "text/plain": [
       "'3.5.4 |Anaconda, Inc.| (default, Nov 20 2017, 18:44:38) \\n[GCC 7.2.0]'"
      ]
     },
     "execution_count": 5,
     "metadata": {},
     "output_type": "execute_result"
    }
   ],
   "source": [
    "import time, datetime, sys\n",
    "dateString = time.strftime(\"Y%YM%mD%d\")\n",
    "timeString = time.strftime(\"UTC %H:%M\")\n",
    "start = datetime.datetime.now()\n",
    "print(dateString,timeString)\n",
    "sys.version"
   ]
  },
  {
   "cell_type": "code",
   "execution_count": 6,
   "metadata": {},
   "outputs": [
    {
     "name": "stdout",
     "output_type": "stream",
     "text": [
      "rm: cannot remove '/volumes/data/Y2017M08D29_RH_Merge_FAONames_Upstream_V01/input_V03': No such file or directory\n",
      "rm: cannot remove '/volumes/data/Y2017M08D29_RH_Merge_FAONames_Upstream_V01/output_V03': No such file or directory\n"
     ]
    }
   ],
   "source": [
    "!rm -r {ec2_input_path}\n",
    "!rm -r {ec2_output_path}\n",
    "\n",
    "!mkdir -p {ec2_input_path}\n",
    "!mkdir -p {ec2_output_path}"
   ]
  },
  {
   "cell_type": "code",
   "execution_count": 7,
   "metadata": {},
   "outputs": [
    {
     "name": "stdout",
     "output_type": "stream",
     "text": [
      "download: s3://wri-projects/Aqueduct30/processData/Y2017M08D25_RH_spatial_join_FAONames_V01/output_V07/hybas_lev06_v1c_merged_fiona_withFAO_V07_link.pkl to ../../../../data/Y2017M08D29_RH_Merge_FAONames_Upstream_V01/input_V03/hybas_lev06_v1c_merged_fiona_withFAO_V07_link.pkl\n",
      "download: s3://wri-projects/Aqueduct30/processData/Y2017M08D25_RH_spatial_join_FAONames_V01/output_V07/hybas_lev06_v1c_merged_fiona_withFAO_V07.pkl to ../../../../data/Y2017M08D29_RH_Merge_FAONames_Upstream_V01/input_V03/hybas_lev06_v1c_merged_fiona_withFAO_V07.pkl\n",
      "download: s3://wri-projects/Aqueduct30/processData/Y2017M08D25_RH_spatial_join_FAONames_V01/output_V07/hybas_lev06_v1c_merged_fiona_withFAO_V07_link.csv to ../../../../data/Y2017M08D29_RH_Merge_FAONames_Upstream_V01/input_V03/hybas_lev06_v1c_merged_fiona_withFAO_V07_link.csv\n",
      "download: s3://wri-projects/Aqueduct30/processData/Y2017M08D25_RH_spatial_join_FAONames_V01/output_V07/hybas_lev06_v1c_merged_fiona_withFAO_V07.csv to ../../../../data/Y2017M08D29_RH_Merge_FAONames_Upstream_V01/input_V03/hybas_lev06_v1c_merged_fiona_withFAO_V07.csv\n"
     ]
    }
   ],
   "source": [
    "!aws s3 cp {S3_INPUT_PATH_FAO} {ec2_input_path} --recursive "
   ]
  },
  {
   "cell_type": "code",
   "execution_count": 8,
   "metadata": {},
   "outputs": [
    {
     "name": "stdout",
     "output_type": "stream",
     "text": [
      "download: s3://wri-projects/Aqueduct30/processData/Y2017M08D23_RH_Downstream_V01/output_V02/hybas_lev06_v1c_merged_fiona_upstream_downstream_V01.csv to ../../../../data/Y2017M08D29_RH_Merge_FAONames_Upstream_V01/input_V03/hybas_lev06_v1c_merged_fiona_upstream_downstream_V01.csv\n",
      "download: s3://wri-projects/Aqueduct30/processData/Y2017M08D23_RH_Downstream_V01/output_V02/hybas_lev06_v1c_merged_fiona_upstream_downstream_V01.pkl to ../../../../data/Y2017M08D29_RH_Merge_FAONames_Upstream_V01/input_V03/hybas_lev06_v1c_merged_fiona_upstream_downstream_V01.pkl\n",
      "download: s3://wri-projects/Aqueduct30/processData/Y2017M08D23_RH_Downstream_V01/output_V02/hybas_lev06_v1c_merged_fiona_upstream_downstream_V01 to ../../../../data/Y2017M08D29_RH_Merge_FAONames_Upstream_V01/input_V03/hybas_lev06_v1c_merged_fiona_upstream_downstream_V01\n"
     ]
    }
   ],
   "source": [
    "!aws s3 cp {S3_INPUT_PATH_DOWNSTREAM} {ec2_input_path} --recursive "
   ]
  },
  {
   "cell_type": "code",
   "execution_count": 9,
   "metadata": {
    "scrolled": true
   },
   "outputs": [
    {
     "name": "stdout",
     "output_type": "stream",
     "text": [
      "download: s3://wri-projects/Aqueduct30/processData/Y2017M08D02_RH_Merge_HydroBasins_V02/output_V04/hybas_lev06_v1c_merged_fiona_V04.cpg to ../../../../data/Y2017M08D29_RH_Merge_FAONames_Upstream_V01/input_V03/hybas_lev06_v1c_merged_fiona_V04.cpg\n",
      "download: s3://wri-projects/Aqueduct30/processData/Y2017M08D02_RH_Merge_HydroBasins_V02/output_V04/hybas_lev00_v1c_merged_fiona_V04.cpg to ../../../../data/Y2017M08D29_RH_Merge_FAONames_Upstream_V01/input_V03/hybas_lev00_v1c_merged_fiona_V04.cpg\n",
      "download: s3://wri-projects/Aqueduct30/processData/Y2017M08D02_RH_Merge_HydroBasins_V02/output_V04/hybas_lev00_v1c_merged_fiona_V04.prj to ../../../../data/Y2017M08D29_RH_Merge_FAONames_Upstream_V01/input_V03/hybas_lev00_v1c_merged_fiona_V04.prj\n",
      "download: s3://wri-projects/Aqueduct30/processData/Y2017M08D02_RH_Merge_HydroBasins_V02/output_V04/hybas_lev06_v1c_merged_fiona_V04.prj to ../../../../data/Y2017M08D29_RH_Merge_FAONames_Upstream_V01/input_V03/hybas_lev06_v1c_merged_fiona_V04.prj\n",
      "download: s3://wri-projects/Aqueduct30/processData/Y2017M08D02_RH_Merge_HydroBasins_V02/output_V04/hybas_lev06_v1c_merged_fiona_V04.shx to ../../../../data/Y2017M08D29_RH_Merge_FAONames_Upstream_V01/input_V03/hybas_lev06_v1c_merged_fiona_V04.shx\n",
      "download: s3://wri-projects/Aqueduct30/processData/Y2017M08D02_RH_Merge_HydroBasins_V02/output_V04/hybas_lev00_v1c_merged_fiona_V04.shx to ../../../../data/Y2017M08D29_RH_Merge_FAONames_Upstream_V01/input_V03/hybas_lev00_v1c_merged_fiona_V04.shx\n",
      "download: s3://wri-projects/Aqueduct30/processData/Y2017M08D02_RH_Merge_HydroBasins_V02/output_V04/hybas_lev06_v1c_merged_fiona_V04.dbf to ../../../../data/Y2017M08D29_RH_Merge_FAONames_Upstream_V01/input_V03/hybas_lev06_v1c_merged_fiona_V04.dbf\n",
      "download: s3://wri-projects/Aqueduct30/processData/Y2017M08D02_RH_Merge_HydroBasins_V02/output_V04/hybas_lev06_v1c_merged_fiona_V04.shp to ../../../../data/Y2017M08D29_RH_Merge_FAONames_Upstream_V01/input_V03/hybas_lev06_v1c_merged_fiona_V04.shp\n",
      "download: s3://wri-projects/Aqueduct30/processData/Y2017M08D02_RH_Merge_HydroBasins_V02/output_V04/hybas_lev00_v1c_merged_fiona_V04.dbf to ../../../../data/Y2017M08D29_RH_Merge_FAONames_Upstream_V01/input_V03/hybas_lev00_v1c_merged_fiona_V04.dbf\n",
      "download: s3://wri-projects/Aqueduct30/processData/Y2017M08D02_RH_Merge_HydroBasins_V02/output_V04/hybas_lev00_v1c_merged_fiona_V04.shp to ../../../../data/Y2017M08D29_RH_Merge_FAONames_Upstream_V01/input_V03/hybas_lev00_v1c_merged_fiona_V04.shp\n"
     ]
    }
   ],
   "source": [
    "!aws s3 cp {S3_INPUT_PATH_HYBAS} {ec2_input_path} --recursive --exclude *.tif"
   ]
  },
  {
   "cell_type": "code",
   "execution_count": 10,
   "metadata": {
    "collapsed": true
   },
   "outputs": [],
   "source": [
    "import os\n",
    "if 'GDAL_DATA' not in os.environ:\n",
    "    os.environ['GDAL_DATA'] = r'/usr/share/gdal/2.1'\n",
    "from osgeo import gdal,ogr,osr\n",
    "'GDAL_DATA' in os.environ\n",
    "# If false, the GDAL_DATA variable is set incorrectly. You need this variable to obtain the spatial reference\n",
    "import pandas as pd\n",
    "import geopandas as gpd\n",
    "import matplotlib.pyplot as plt\n",
    "import time"
   ]
  },
  {
   "cell_type": "code",
   "execution_count": 14,
   "metadata": {},
   "outputs": [],
   "source": [
    "dfFAO = pd.read_pickle(os.path.join(ec2_input_path,INPUT_FILE_NAME_FAO))\n"
   ]
  },
  {
   "cell_type": "code",
   "execution_count": 17,
   "metadata": {},
   "outputs": [
    {
     "data": {
      "text/html": [
       "<div>\n",
       "<style scoped>\n",
       "    .dataframe tbody tr th:only-of-type {\n",
       "        vertical-align: middle;\n",
       "    }\n",
       "\n",
       "    .dataframe tbody tr th {\n",
       "        vertical-align: top;\n",
       "    }\n",
       "\n",
       "    .dataframe thead th {\n",
       "        text-align: right;\n",
       "    }\n",
       "</style>\n",
       "<table border=\"1\" class=\"dataframe\">\n",
       "  <thead>\n",
       "    <tr style=\"text-align: right;\">\n",
       "      <th></th>\n",
       "      <th>SUB_NAME</th>\n",
       "      <th>MAJ_NAME</th>\n",
       "      <th>FAOid_copy</th>\n",
       "    </tr>\n",
       "    <tr>\n",
       "      <th>PFAF_ID</th>\n",
       "      <th></th>\n",
       "      <th></th>\n",
       "      <th></th>\n",
       "    </tr>\n",
       "  </thead>\n",
       "  <tbody>\n",
       "    <tr>\n",
       "      <th>111011</th>\n",
       "      <td>[Wadi El Naqa]</td>\n",
       "      <td>[Africa, Red Sea - Gulf of Aden Coast]</td>\n",
       "      <td>[MAJ_BAS_7019_SUB_BAS_0190312]</td>\n",
       "    </tr>\n",
       "    <tr>\n",
       "      <th>111012</th>\n",
       "      <td>[Egyptian east coast]</td>\n",
       "      <td>[Africa, Red Sea - Gulf of Aden Coast]</td>\n",
       "      <td>[MAJ_BAS_7019_SUB_BAS_0190313]</td>\n",
       "    </tr>\n",
       "    <tr>\n",
       "      <th>111013</th>\n",
       "      <td>[Egyptian east coast]</td>\n",
       "      <td>[Africa, Red Sea - Gulf of Aden Coast]</td>\n",
       "      <td>[MAJ_BAS_7019_SUB_BAS_0190313]</td>\n",
       "    </tr>\n",
       "    <tr>\n",
       "      <th>111014</th>\n",
       "      <td>[Egyptian east coast]</td>\n",
       "      <td>[Africa, Red Sea - Gulf of Aden Coast]</td>\n",
       "      <td>[MAJ_BAS_7019_SUB_BAS_0190313]</td>\n",
       "    </tr>\n",
       "    <tr>\n",
       "      <th>111015</th>\n",
       "      <td>[Egyptian east coast]</td>\n",
       "      <td>[Africa, Red Sea - Gulf of Aden Coast]</td>\n",
       "      <td>[MAJ_BAS_7019_SUB_BAS_0190313]</td>\n",
       "    </tr>\n",
       "  </tbody>\n",
       "</table>\n",
       "</div>"
      ],
      "text/plain": [
       "                      SUB_NAME                                MAJ_NAME  \\\n",
       "PFAF_ID                                                                  \n",
       "111011          [Wadi El Naqa]  [Africa, Red Sea - Gulf of Aden Coast]   \n",
       "111012   [Egyptian east coast]  [Africa, Red Sea - Gulf of Aden Coast]   \n",
       "111013   [Egyptian east coast]  [Africa, Red Sea - Gulf of Aden Coast]   \n",
       "111014   [Egyptian east coast]  [Africa, Red Sea - Gulf of Aden Coast]   \n",
       "111015   [Egyptian east coast]  [Africa, Red Sea - Gulf of Aden Coast]   \n",
       "\n",
       "                             FAOid_copy  \n",
       "PFAF_ID                                  \n",
       "111011   [MAJ_BAS_7019_SUB_BAS_0190312]  \n",
       "111012   [MAJ_BAS_7019_SUB_BAS_0190313]  \n",
       "111013   [MAJ_BAS_7019_SUB_BAS_0190313]  \n",
       "111014   [MAJ_BAS_7019_SUB_BAS_0190313]  \n",
       "111015   [MAJ_BAS_7019_SUB_BAS_0190313]  "
      ]
     },
     "execution_count": 17,
     "metadata": {},
     "output_type": "execute_result"
    }
   ],
   "source": [
    "dfFAO.head()"
   ]
  },
  {
   "cell_type": "code",
   "execution_count": 18,
   "metadata": {
    "collapsed": true
   },
   "outputs": [],
   "source": [
    "dfDownstream = pd.read_pickle(os.path.join(ec2_input_path,INPUT_FILE_NAME_DOWNSTREAM))"
   ]
  },
  {
   "cell_type": "code",
   "execution_count": null,
   "metadata": {
    "collapsed": true
   },
   "outputs": [],
   "source": [
    "dfDownstream = dfDownstream.set_index(\"PFAF_ID\", drop=False)"
   ]
  },
  {
   "cell_type": "code",
   "execution_count": 19,
   "metadata": {},
   "outputs": [
    {
     "data": {
      "text/html": [
       "<div>\n",
       "<style scoped>\n",
       "    .dataframe tbody tr th:only-of-type {\n",
       "        vertical-align: middle;\n",
       "    }\n",
       "\n",
       "    .dataframe tbody tr th {\n",
       "        vertical-align: top;\n",
       "    }\n",
       "\n",
       "    .dataframe thead th {\n",
       "        text-align: right;\n",
       "    }\n",
       "</style>\n",
       "<table border=\"1\" class=\"dataframe\">\n",
       "  <thead>\n",
       "    <tr style=\"text-align: right;\">\n",
       "      <th></th>\n",
       "      <th>Unnamed: 0</th>\n",
       "      <th>HYBAS_ID</th>\n",
       "      <th>NEXT_DOWN</th>\n",
       "      <th>NEXT_SINK</th>\n",
       "      <th>MAIN_BAS</th>\n",
       "      <th>DIST_SINK</th>\n",
       "      <th>DIST_MAIN</th>\n",
       "      <th>SUB_AREA</th>\n",
       "      <th>UP_AREA</th>\n",
       "      <th>PFAF_ID</th>\n",
       "      <th>ENDO</th>\n",
       "      <th>COAST</th>\n",
       "      <th>ORDER</th>\n",
       "      <th>SORT</th>\n",
       "      <th>Upstream_HYBAS_IDs</th>\n",
       "      <th>Upstream_PFAF_IDs</th>\n",
       "      <th>Downstream_HYBAS_IDs</th>\n",
       "      <th>Downstream_PFAF_IDs</th>\n",
       "      <th>NEXT_SINK_PFAF</th>\n",
       "    </tr>\n",
       "    <tr>\n",
       "      <th>HYBAS_ID2</th>\n",
       "      <th></th>\n",
       "      <th></th>\n",
       "      <th></th>\n",
       "      <th></th>\n",
       "      <th></th>\n",
       "      <th></th>\n",
       "      <th></th>\n",
       "      <th></th>\n",
       "      <th></th>\n",
       "      <th></th>\n",
       "      <th></th>\n",
       "      <th></th>\n",
       "      <th></th>\n",
       "      <th></th>\n",
       "      <th></th>\n",
       "      <th></th>\n",
       "      <th></th>\n",
       "      <th></th>\n",
       "      <th></th>\n",
       "    </tr>\n",
       "  </thead>\n",
       "  <tbody>\n",
       "    <tr>\n",
       "      <th>6060000010</th>\n",
       "      <td>0</td>\n",
       "      <td>6060000010</td>\n",
       "      <td>0</td>\n",
       "      <td>6060000010</td>\n",
       "      <td>6060000010</td>\n",
       "      <td>0.0</td>\n",
       "      <td>0.0</td>\n",
       "      <td>4317.4</td>\n",
       "      <td>4317.4</td>\n",
       "      <td>611001</td>\n",
       "      <td>0</td>\n",
       "      <td>1</td>\n",
       "      <td>0</td>\n",
       "      <td>1</td>\n",
       "      <td>[]</td>\n",
       "      <td>[]</td>\n",
       "      <td>[]</td>\n",
       "      <td>[]</td>\n",
       "      <td>611001.0</td>\n",
       "    </tr>\n",
       "    <tr>\n",
       "      <th>6060000200</th>\n",
       "      <td>1</td>\n",
       "      <td>6060000200</td>\n",
       "      <td>0</td>\n",
       "      <td>6060000200</td>\n",
       "      <td>6060000200</td>\n",
       "      <td>0.0</td>\n",
       "      <td>0.0</td>\n",
       "      <td>35995.5</td>\n",
       "      <td>35996.7</td>\n",
       "      <td>611002</td>\n",
       "      <td>0</td>\n",
       "      <td>0</td>\n",
       "      <td>1</td>\n",
       "      <td>2</td>\n",
       "      <td>[]</td>\n",
       "      <td>[]</td>\n",
       "      <td>[]</td>\n",
       "      <td>[]</td>\n",
       "      <td>611002.0</td>\n",
       "    </tr>\n",
       "    <tr>\n",
       "      <th>6060000210</th>\n",
       "      <td>2</td>\n",
       "      <td>6060000210</td>\n",
       "      <td>0</td>\n",
       "      <td>6060000210</td>\n",
       "      <td>6060000210</td>\n",
       "      <td>0.0</td>\n",
       "      <td>0.0</td>\n",
       "      <td>443.9</td>\n",
       "      <td>443.9</td>\n",
       "      <td>611003</td>\n",
       "      <td>0</td>\n",
       "      <td>1</td>\n",
       "      <td>0</td>\n",
       "      <td>3</td>\n",
       "      <td>[]</td>\n",
       "      <td>[]</td>\n",
       "      <td>[]</td>\n",
       "      <td>[]</td>\n",
       "      <td>611003.0</td>\n",
       "    </tr>\n",
       "    <tr>\n",
       "      <th>6060000240</th>\n",
       "      <td>3</td>\n",
       "      <td>6060000240</td>\n",
       "      <td>0</td>\n",
       "      <td>6060000240</td>\n",
       "      <td>6060000240</td>\n",
       "      <td>0.0</td>\n",
       "      <td>0.0</td>\n",
       "      <td>2186.3</td>\n",
       "      <td>2186.3</td>\n",
       "      <td>611004</td>\n",
       "      <td>0</td>\n",
       "      <td>0</td>\n",
       "      <td>1</td>\n",
       "      <td>4</td>\n",
       "      <td>[]</td>\n",
       "      <td>[]</td>\n",
       "      <td>[]</td>\n",
       "      <td>[]</td>\n",
       "      <td>611004.0</td>\n",
       "    </tr>\n",
       "    <tr>\n",
       "      <th>6060000250</th>\n",
       "      <td>4</td>\n",
       "      <td>6060000250</td>\n",
       "      <td>0</td>\n",
       "      <td>6060000250</td>\n",
       "      <td>6060000250</td>\n",
       "      <td>0.0</td>\n",
       "      <td>0.0</td>\n",
       "      <td>6533.8</td>\n",
       "      <td>6533.8</td>\n",
       "      <td>611005</td>\n",
       "      <td>0</td>\n",
       "      <td>1</td>\n",
       "      <td>0</td>\n",
       "      <td>5</td>\n",
       "      <td>[]</td>\n",
       "      <td>[]</td>\n",
       "      <td>[]</td>\n",
       "      <td>[]</td>\n",
       "      <td>611005.0</td>\n",
       "    </tr>\n",
       "  </tbody>\n",
       "</table>\n",
       "</div>"
      ],
      "text/plain": [
       "            Unnamed: 0    HYBAS_ID  NEXT_DOWN   NEXT_SINK    MAIN_BAS  \\\n",
       "HYBAS_ID2                                                               \n",
       "6060000010           0  6060000010          0  6060000010  6060000010   \n",
       "6060000200           1  6060000200          0  6060000200  6060000200   \n",
       "6060000210           2  6060000210          0  6060000210  6060000210   \n",
       "6060000240           3  6060000240          0  6060000240  6060000240   \n",
       "6060000250           4  6060000250          0  6060000250  6060000250   \n",
       "\n",
       "            DIST_SINK  DIST_MAIN  SUB_AREA  UP_AREA  PFAF_ID  ENDO  COAST  \\\n",
       "HYBAS_ID2                                                                   \n",
       "6060000010        0.0        0.0    4317.4   4317.4   611001     0      1   \n",
       "6060000200        0.0        0.0   35995.5  35996.7   611002     0      0   \n",
       "6060000210        0.0        0.0     443.9    443.9   611003     0      1   \n",
       "6060000240        0.0        0.0    2186.3   2186.3   611004     0      0   \n",
       "6060000250        0.0        0.0    6533.8   6533.8   611005     0      1   \n",
       "\n",
       "            ORDER  SORT Upstream_HYBAS_IDs Upstream_PFAF_IDs  \\\n",
       "HYBAS_ID2                                                      \n",
       "6060000010      0     1                 []                []   \n",
       "6060000200      1     2                 []                []   \n",
       "6060000210      0     3                 []                []   \n",
       "6060000240      1     4                 []                []   \n",
       "6060000250      0     5                 []                []   \n",
       "\n",
       "           Downstream_HYBAS_IDs Downstream_PFAF_IDs  NEXT_SINK_PFAF  \n",
       "HYBAS_ID2                                                            \n",
       "6060000010                   []                  []        611001.0  \n",
       "6060000200                   []                  []        611002.0  \n",
       "6060000210                   []                  []        611003.0  \n",
       "6060000240                   []                  []        611004.0  \n",
       "6060000250                   []                  []        611005.0  "
      ]
     },
     "execution_count": 19,
     "metadata": {},
     "output_type": "execute_result"
    }
   ],
   "source": [
    "dfDownstream.head()"
   ]
  },
  {
   "cell_type": "code",
   "execution_count": 20,
   "metadata": {
    "collapsed": true
   },
   "outputs": [],
   "source": [
    "dfDownstream.drop(\"Unnamed: 0\",1,inplace=True)"
   ]
  },
  {
   "cell_type": "code",
   "execution_count": 21,
   "metadata": {
    "collapsed": true
   },
   "outputs": [],
   "source": [
    "gdfHybas = gpd.read_file(os.path.join(ec2_input_path,INPUT_FILE_NAME_HYBAS))\n",
    "gdfHybas = gdfHybas.set_index(\"PFAF_ID\", drop=False)"
   ]
  },
  {
   "cell_type": "code",
   "execution_count": 22,
   "metadata": {
    "collapsed": true
   },
   "outputs": [],
   "source": [
    "dfHybas = pd.DataFrame(gdfHybas[\"PFAF_ID\"])"
   ]
  },
  {
   "cell_type": "markdown",
   "metadata": {},
   "source": [
    "Merging the the downstream and FAO datasets, adding Hybas geometry and export both Excel sheet and dataset."
   ]
  },
  {
   "cell_type": "code",
   "execution_count": 23,
   "metadata": {},
   "outputs": [
    {
     "ename": "MergeError",
     "evalue": "No common columns to perform merge on",
     "output_type": "error",
     "traceback": [
      "\u001b[0;31m---------------------------------------\u001b[0m",
      "\u001b[0;31mMergeError\u001b[0mTraceback (most recent call last)",
      "\u001b[0;32m<ipython-input-23-2595620c6b45>\u001b[0m in \u001b[0;36m<module>\u001b[0;34m()\u001b[0m\n\u001b[0;32m----> 1\u001b[0;31m \u001b[0mdfOut\u001b[0m \u001b[0;34m=\u001b[0m \u001b[0mdfDownstream\u001b[0m\u001b[0;34m.\u001b[0m\u001b[0mmerge\u001b[0m\u001b[0;34m(\u001b[0m\u001b[0mdfFAO\u001b[0m\u001b[0;34m,\u001b[0m\u001b[0mhow\u001b[0m\u001b[0;34m=\u001b[0m\u001b[0;34m\"outer\"\u001b[0m\u001b[0;34m)\u001b[0m\u001b[0;34m\u001b[0m\u001b[0m\n\u001b[0m",
      "\u001b[0;32m/opt/anaconda3/envs/python35/lib/python3.5/site-packages/pandas/core/frame.py\u001b[0m in \u001b[0;36mmerge\u001b[0;34m(self, right, how, on, left_on, right_on, left_index, right_index, sort, suffixes, copy, indicator, validate)\u001b[0m\n\u001b[1;32m   5368\u001b[0m                      \u001b[0mright_on\u001b[0m\u001b[0;34m=\u001b[0m\u001b[0mright_on\u001b[0m\u001b[0;34m,\u001b[0m \u001b[0mleft_index\u001b[0m\u001b[0;34m=\u001b[0m\u001b[0mleft_index\u001b[0m\u001b[0;34m,\u001b[0m\u001b[0;34m\u001b[0m\u001b[0m\n\u001b[1;32m   5369\u001b[0m                      \u001b[0mright_index\u001b[0m\u001b[0;34m=\u001b[0m\u001b[0mright_index\u001b[0m\u001b[0;34m,\u001b[0m \u001b[0msort\u001b[0m\u001b[0;34m=\u001b[0m\u001b[0msort\u001b[0m\u001b[0;34m,\u001b[0m \u001b[0msuffixes\u001b[0m\u001b[0;34m=\u001b[0m\u001b[0msuffixes\u001b[0m\u001b[0;34m,\u001b[0m\u001b[0;34m\u001b[0m\u001b[0m\n\u001b[0;32m-> 5370\u001b[0;31m                      copy=copy, indicator=indicator, validate=validate)\n\u001b[0m\u001b[1;32m   5371\u001b[0m \u001b[0;34m\u001b[0m\u001b[0m\n\u001b[1;32m   5372\u001b[0m     \u001b[0;32mdef\u001b[0m \u001b[0mround\u001b[0m\u001b[0;34m(\u001b[0m\u001b[0mself\u001b[0m\u001b[0;34m,\u001b[0m \u001b[0mdecimals\u001b[0m\u001b[0;34m=\u001b[0m\u001b[0;36m0\u001b[0m\u001b[0;34m,\u001b[0m \u001b[0;34m*\u001b[0m\u001b[0margs\u001b[0m\u001b[0;34m,\u001b[0m \u001b[0;34m**\u001b[0m\u001b[0mkwargs\u001b[0m\u001b[0;34m)\u001b[0m\u001b[0;34m:\u001b[0m\u001b[0;34m\u001b[0m\u001b[0m\n",
      "\u001b[0;32m/opt/anaconda3/envs/python35/lib/python3.5/site-packages/pandas/core/reshape/merge.py\u001b[0m in \u001b[0;36mmerge\u001b[0;34m(left, right, how, on, left_on, right_on, left_index, right_index, sort, suffixes, copy, indicator, validate)\u001b[0m\n\u001b[1;32m     55\u001b[0m                          \u001b[0mright_index\u001b[0m\u001b[0;34m=\u001b[0m\u001b[0mright_index\u001b[0m\u001b[0;34m,\u001b[0m \u001b[0msort\u001b[0m\u001b[0;34m=\u001b[0m\u001b[0msort\u001b[0m\u001b[0;34m,\u001b[0m \u001b[0msuffixes\u001b[0m\u001b[0;34m=\u001b[0m\u001b[0msuffixes\u001b[0m\u001b[0;34m,\u001b[0m\u001b[0;34m\u001b[0m\u001b[0m\n\u001b[1;32m     56\u001b[0m                          \u001b[0mcopy\u001b[0m\u001b[0;34m=\u001b[0m\u001b[0mcopy\u001b[0m\u001b[0;34m,\u001b[0m \u001b[0mindicator\u001b[0m\u001b[0;34m=\u001b[0m\u001b[0mindicator\u001b[0m\u001b[0;34m,\u001b[0m\u001b[0;34m\u001b[0m\u001b[0m\n\u001b[0;32m---> 57\u001b[0;31m                          validate=validate)\n\u001b[0m\u001b[1;32m     58\u001b[0m     \u001b[0;32mreturn\u001b[0m \u001b[0mop\u001b[0m\u001b[0;34m.\u001b[0m\u001b[0mget_result\u001b[0m\u001b[0;34m(\u001b[0m\u001b[0;34m)\u001b[0m\u001b[0;34m\u001b[0m\u001b[0m\n\u001b[1;32m     59\u001b[0m \u001b[0;34m\u001b[0m\u001b[0m\n",
      "\u001b[0;32m/opt/anaconda3/envs/python35/lib/python3.5/site-packages/pandas/core/reshape/merge.py\u001b[0m in \u001b[0;36m__init__\u001b[0;34m(self, left, right, how, on, left_on, right_on, axis, left_index, right_index, sort, suffixes, copy, indicator, validate)\u001b[0m\n\u001b[1;32m    558\u001b[0m             \u001b[0mwarnings\u001b[0m\u001b[0;34m.\u001b[0m\u001b[0mwarn\u001b[0m\u001b[0;34m(\u001b[0m\u001b[0mmsg\u001b[0m\u001b[0;34m,\u001b[0m \u001b[0mUserWarning\u001b[0m\u001b[0;34m)\u001b[0m\u001b[0;34m\u001b[0m\u001b[0m\n\u001b[1;32m    559\u001b[0m \u001b[0;34m\u001b[0m\u001b[0m\n\u001b[0;32m--> 560\u001b[0;31m         \u001b[0mself\u001b[0m\u001b[0;34m.\u001b[0m\u001b[0m_validate_specification\u001b[0m\u001b[0;34m(\u001b[0m\u001b[0;34m)\u001b[0m\u001b[0;34m\u001b[0m\u001b[0m\n\u001b[0m\u001b[1;32m    561\u001b[0m \u001b[0;34m\u001b[0m\u001b[0m\n\u001b[1;32m    562\u001b[0m         \u001b[0;31m# note this function has side effects\u001b[0m\u001b[0;34m\u001b[0m\u001b[0;34m\u001b[0m\u001b[0m\n",
      "\u001b[0;32m/opt/anaconda3/envs/python35/lib/python3.5/site-packages/pandas/core/reshape/merge.py\u001b[0m in \u001b[0;36m_validate_specification\u001b[0;34m(self)\u001b[0m\n\u001b[1;32m    951\u001b[0m                     self.right.columns)\n\u001b[1;32m    952\u001b[0m                 \u001b[0;32mif\u001b[0m \u001b[0mlen\u001b[0m\u001b[0;34m(\u001b[0m\u001b[0mcommon_cols\u001b[0m\u001b[0;34m)\u001b[0m \u001b[0;34m==\u001b[0m \u001b[0;36m0\u001b[0m\u001b[0;34m:\u001b[0m\u001b[0;34m\u001b[0m\u001b[0m\n\u001b[0;32m--> 953\u001b[0;31m                     \u001b[0;32mraise\u001b[0m \u001b[0mMergeError\u001b[0m\u001b[0;34m(\u001b[0m\u001b[0;34m'No common columns to perform merge on'\u001b[0m\u001b[0;34m)\u001b[0m\u001b[0;34m\u001b[0m\u001b[0m\n\u001b[0m\u001b[1;32m    954\u001b[0m                 \u001b[0;32mif\u001b[0m \u001b[0;32mnot\u001b[0m \u001b[0mcommon_cols\u001b[0m\u001b[0;34m.\u001b[0m\u001b[0mis_unique\u001b[0m\u001b[0;34m:\u001b[0m\u001b[0;34m\u001b[0m\u001b[0m\n\u001b[1;32m    955\u001b[0m                     raise MergeError(\"Data columns not unique: {common!r}\"\n",
      "\u001b[0;31mMergeError\u001b[0m: No common columns to perform merge on"
     ]
    }
   ],
   "source": [
    "dfOut = dfDownstream.merge(dfFAO,how=\"outer\")"
   ]
  },
  {
   "cell_type": "code",
   "execution_count": 16,
   "metadata": {
    "collapsed": true
   },
   "outputs": [],
   "source": [
    "dfOut = dfOut.set_index(\"PFAF_ID\",drop=False)"
   ]
  },
  {
   "cell_type": "code",
   "execution_count": 17,
   "metadata": {},
   "outputs": [
    {
     "data": {
      "text/plain": [
       "HYBAS_ID       int64\n",
       "NEXT_DOWN      int64\n",
       "NEXT_SINK      int64\n",
       "MAIN_BAS       int64\n",
       "DIST_SINK    float64\n",
       "DIST_MAIN    float64\n",
       "SUB_AREA     float64\n",
       "UP_AREA      float64\n",
       "PFAF_ID        int64\n",
       "ENDO           int64\n",
       "COAST          int64\n",
       "ORDER          int64\n",
       "SORT           int64\n",
       "geometry      object\n",
       "dtype: object"
      ]
     },
     "execution_count": 17,
     "metadata": {},
     "output_type": "execute_result"
    }
   ],
   "source": [
    "gdfHybas.dtypes"
   ]
  },
  {
   "cell_type": "code",
   "execution_count": 18,
   "metadata": {
    "collapsed": true
   },
   "outputs": [],
   "source": [
    "gdfHybasSimple = gpd.GeoDataFrame(dfHybas, geometry=gdfHybas.geometry)"
   ]
  },
  {
   "cell_type": "code",
   "execution_count": 19,
   "metadata": {
    "collapsed": true
   },
   "outputs": [],
   "source": [
    "gdfHybasSimple.to_file(os.path.join(ec2_output_path,OUTPUT_FILE_NAME+\".shp\"))"
   ]
  },
  {
   "cell_type": "code",
   "execution_count": 20,
   "metadata": {
    "collapsed": true
   },
   "outputs": [],
   "source": [
    "dfOut.to_csv(os.path.join(ec2_output_path,OUTPUT_FILE_NAME+\".csv\"))"
   ]
  },
  {
   "cell_type": "code",
   "execution_count": 21,
   "metadata": {
    "collapsed": true
   },
   "outputs": [],
   "source": [
    "dfOut.to_pickle(os.path.join(ec2_output_path,OUTPUT_FILE_NAME+\".pkl\"))"
   ]
  },
  {
   "cell_type": "code",
   "execution_count": 22,
   "metadata": {},
   "outputs": [
    {
     "name": "stdout",
     "output_type": "stream",
     "text": [
      "upload: ../../../../data/Y2017M08D29_RH_Merge_FAONames_Upstream_V01/output/hybas_lev06_v1c_merged_fiona_upstream_downstream_FAO_V03.prj to s3://wri-projects/Aqueduct30/processData/Y2017M08D29_RH_Merge_FAONames_Upstream_V01/output/hybas_lev06_v1c_merged_fiona_upstream_downstream_FAO_V03.prj\n",
      "upload: ../../../../data/Y2017M08D29_RH_Merge_FAONames_Upstream_V01/output/hybas_lev06_v1c_merged_fiona_upstream_downstream_FAO_V03.cpg to s3://wri-projects/Aqueduct30/processData/Y2017M08D29_RH_Merge_FAONames_Upstream_V01/output/hybas_lev06_v1c_merged_fiona_upstream_downstream_FAO_V03.cpg\n",
      "upload: ../../../../data/Y2017M08D29_RH_Merge_FAONames_Upstream_V01/output/hybas_lev06_v1c_merged_fiona_upstream_downstream_FAO_V03.shx to s3://wri-projects/Aqueduct30/processData/Y2017M08D29_RH_Merge_FAONames_Upstream_V01/output/hybas_lev06_v1c_merged_fiona_upstream_downstream_FAO_V03.shx\n",
      "upload: ../../../../data/Y2017M08D29_RH_Merge_FAONames_Upstream_V01/output/hybas_lev06_v1c_merged_fiona_upstream_downstream_FAO_V03.dbf to s3://wri-projects/Aqueduct30/processData/Y2017M08D29_RH_Merge_FAONames_Upstream_V01/output/hybas_lev06_v1c_merged_fiona_upstream_downstream_FAO_V03.dbf\n",
      "upload: ../../../../data/Y2017M08D29_RH_Merge_FAONames_Upstream_V01/output/hybas_lev06_v1c_merged_fiona_upstream_downstream_FAO_V03.pkl to s3://wri-projects/Aqueduct30/processData/Y2017M08D29_RH_Merge_FAONames_Upstream_V01/output/hybas_lev06_v1c_merged_fiona_upstream_downstream_FAO_V03.pkl\n",
      "upload: ../../../../data/Y2017M08D29_RH_Merge_FAONames_Upstream_V01/output/hybas_lev06_v1c_merged_fiona_upstream_downstream_FAO_V03.csv to s3://wri-projects/Aqueduct30/processData/Y2017M08D29_RH_Merge_FAONames_Upstream_V01/output/hybas_lev06_v1c_merged_fiona_upstream_downstream_FAO_V03.csv\n",
      "upload: ../../../../data/Y2017M08D29_RH_Merge_FAONames_Upstream_V01/output/hybas_lev06_v1c_merged_fiona_upstream_downstream_FAO_V03.shp to s3://wri-projects/Aqueduct30/processData/Y2017M08D29_RH_Merge_FAONames_Upstream_V01/output/hybas_lev06_v1c_merged_fiona_upstream_downstream_FAO_V03.shp\n"
     ]
    }
   ],
   "source": [
    "!aws s3 cp {ec2_output_path} {s3_output_path} --recursive"
   ]
  },
  {
   "cell_type": "code",
   "execution_count": 23,
   "metadata": {},
   "outputs": [
    {
     "name": "stdout",
     "output_type": "stream",
     "text": [
      "0:02:27.045097\n"
     ]
    }
   ],
   "source": [
    "end = datetime.datetime.now()\n",
    "elapsed = end - start\n",
    "print(elapsed)"
   ]
  },
  {
   "cell_type": "markdown",
   "metadata": {},
   "source": [
    "Previous Runs:  \n",
    "0:02:27.045097"
   ]
  }
 ],
 "metadata": {
  "kernelspec": {
   "display_name": "Python 35",
   "language": "python",
   "name": "python35"
  },
  "language_info": {
   "codemirror_mode": {
    "name": "ipython",
    "version": 3
   },
   "file_extension": ".py",
   "mimetype": "text/x-python",
   "name": "python",
   "nbconvert_exporter": "python",
   "pygments_lexer": "ipython3",
   "version": "3.5.4"
  }
 },
 "nbformat": 4,
 "nbformat_minor": 2
}
