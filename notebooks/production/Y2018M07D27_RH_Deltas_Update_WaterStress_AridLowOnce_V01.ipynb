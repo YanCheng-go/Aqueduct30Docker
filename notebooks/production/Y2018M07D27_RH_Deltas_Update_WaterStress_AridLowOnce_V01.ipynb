{
 "cells": [
  {
   "cell_type": "code",
   "execution_count": 1,
   "metadata": {},
   "outputs": [
    {
     "name": "stdout",
     "output_type": "stream",
     "text": [
      "Input Table:  y2018m07d27_rh_deltas_merge_simplify_tables_v01_v02 \n",
      "Output Table:  y2018m07d27_rh_deltas_update_waterstress_aridlowonce_v01_v02\n"
     ]
    }
   ],
   "source": [
    "\"\"\" Apply the mask for arid and lowwater use subbasins based on ols_ols10 (once).\n",
    "-------------------------------------------------------------------------------\n",
    "\n",
    "Join the results of the arid and lowwater use mask based on annual values (ols)\n",
    "(ols_ols10_**) and the master table. \n",
    "\n",
    "The script uses the 2014 value for the right table. \n",
    "\n",
    "\n",
    "Water Depletion Scores\n",
    "\n",
    "\n",
    "if x < 0.05 \n",
    "\n",
    "y = max(20x,0)\n",
    "\n",
    "if 0.05 <= x < 0.25 \n",
    "\n",
    "y = 5x + 3/4\n",
    "\n",
    "if x >= 0.25\n",
    "\n",
    "y = min(5,4x+1)\n",
    "\n",
    "\n",
    "\n",
    "Author: Rutger Hofste\n",
    "Date: 20180727\n",
    "Kernel: python35\n",
    "Docker: rutgerhofste/gisdocker:ubuntu16.04\n",
    "\n",
    "Args:\n",
    "    TESTING (Boolean) : Toggle testing case.\n",
    "    SCRIPT_NAME (string) : Script name.\n",
    "    OUTPUT_VERSION (integer) : output version.\n",
    "    DATABASE_ENDPOINT (string) : RDS or postGreSQL endpoint.\n",
    "    DATABASE_NAME (string) : Database name.\n",
    "    TABLE_NAME_AREA_30SPFAF06 (string) : Table name used for areas. Must exist\n",
    "        on same database as used in rest of script.\n",
    "    S3_INPUT_PATH_RIVERDISCHARGE (string) : AWS S3 input path for \n",
    "        riverdischarge.    \n",
    "    S3_INPUT_PATH_DEMAND (string) : AWS S3 input path for \n",
    "        demand.     \n",
    "\n",
    "\"\"\"\n",
    "\n",
    "TESTING = 0\n",
    "OVERWRITE_OUTPUT = 1\n",
    "SCRIPT_NAME = 'Y2018M07D27_RH_Deltas_Update_WaterStress_AridLowOnce_V01'\n",
    "OUTPUT_VERSION = 2\n",
    "\n",
    "DATABASE_ENDPOINT = \"aqueduct30v05.cgpnumwmfcqc.eu-central-1.rds.amazonaws.com\"\n",
    "DATABASE_NAME = \"database01\"\n",
    "\n",
    "INPUT_TABLE_NAME = \"y2018m07d27_rh_deltas_merge_simplify_tables_v01_v02\"\n",
    "OUTPUT_TABLE_NAME = SCRIPT_NAME.lower() + \"_v{:02.0f}\".format(OUTPUT_VERSION)\n",
    "\n",
    "print(\"Input Table: \" , INPUT_TABLE_NAME, \n",
    "      \"\\nOutput Table: \" , OUTPUT_TABLE_NAME)\n"
   ]
  },
  {
   "cell_type": "code",
   "execution_count": 2,
   "metadata": {},
   "outputs": [
    {
     "name": "stdout",
     "output_type": "stream",
     "text": [
      "Y2018M08D23 UTC 14:15\n"
     ]
    },
    {
     "data": {
      "text/plain": [
       "'3.5.4 |Anaconda, Inc.| (default, Nov 20 2017, 18:44:38) \\n[GCC 7.2.0]'"
      ]
     },
     "execution_count": 2,
     "metadata": {},
     "output_type": "execute_result"
    }
   ],
   "source": [
    "import time, datetime, sys\n",
    "dateString = time.strftime(\"Y%YM%mD%d\")\n",
    "timeString = time.strftime(\"UTC %H:%M\")\n",
    "start = datetime.datetime.now()\n",
    "print(dateString,timeString)\n",
    "sys.version"
   ]
  },
  {
   "cell_type": "code",
   "execution_count": 3,
   "metadata": {
    "collapsed": true
   },
   "outputs": [],
   "source": [
    "# imports\n",
    "import re\n",
    "import os\n",
    "import numpy as np\n",
    "import pandas as pd\n",
    "import aqueduct3\n",
    "from datetime import timedelta\n",
    "from sqlalchemy import *\n",
    "pd.set_option('display.max_columns', 500)"
   ]
  },
  {
   "cell_type": "code",
   "execution_count": 4,
   "metadata": {},
   "outputs": [
    {
     "name": "stdout",
     "output_type": "stream",
     "text": [
      "DROP TABLE IF EXISTS y2018m07d27_rh_deltas_update_waterstress_aridlowonce_v01_v02;\n"
     ]
    }
   ],
   "source": [
    "F = open(\"/.password\",\"r\")\n",
    "password = F.read().splitlines()[0]\n",
    "F.close()\n",
    "\n",
    "engine = create_engine(\"postgresql://rutgerhofste:{}@{}:5432/{}\".format(password,DATABASE_ENDPOINT,DATABASE_NAME))\n",
    "#connection = engine.connect()\n",
    "\n",
    "if OVERWRITE_OUTPUT:\n",
    "    sql = \"DROP TABLE IF EXISTS {};\".format(OUTPUT_TABLE_NAME)\n",
    "    print(sql)\n",
    "    result = engine.execute(sql)"
   ]
  },
  {
   "cell_type": "code",
   "execution_count": 5,
   "metadata": {
    "collapsed": true
   },
   "outputs": [],
   "source": [
    "sql = \"CREATE TABLE {} AS\".format(OUTPUT_TABLE_NAME)\n",
    "\n",
    "sql += \" WITH cte AS ( \"\n",
    "sql += \" SELECT *,\"\n",
    "\n",
    "# Water Stress Raw\n",
    "sql += \" CASE\"\n",
    "sql +=     \" WHEN temporal_resolution = 'month'\"\n",
    "sql +=     \" THEN (\"\n",
    "sql +=         \" CASE\"\n",
    "sql +=         \" WHEN ols_ols10_aridandlowwateruse_boolean_30spfaf06 = 0\"\n",
    "sql +=             \" THEN ols_ols10_waterstress_dimensionless_30spfaf06\"        \n",
    "sql +=         \" ELSE 1\"\n",
    "sql +=         \" END )\"\n",
    "sql +=    \" WHEN temporal_resolution = 'year'\"\n",
    "sql +=    \" THEN ( \"\n",
    "sql +=         \" CASE\"\n",
    "sql +=         \" WHEN ols_ols10_aridandlowwateruse_boolean_30spfaf06 = 0\"\n",
    "sql +=             \" THEN avg1y_ols_ols10_weighted_waterstress_dimensionless_30spfaf06\"        \n",
    "sql +=         \" ELSE 1\"\n",
    "sql +=         \" END )\"\n",
    "sql +=    \" ELSE -9999\"\n",
    "sql +=    \" END\"\n",
    "sql +=    \" AS waterstress_raw_dimensionless_30spfaf06,\"\n",
    "\n",
    "# Water Depletion Raw\n",
    "sql += \" CASE\"\n",
    "sql +=     \" WHEN temporal_resolution = 'month'\"\n",
    "sql +=     \" THEN (\"\n",
    "sql +=         \" CASE\"\n",
    "sql +=         \" WHEN ols_ols10_aridandlowwateruse_boolean_30spfaf06 = 0\"\n",
    "sql +=             \" THEN ols_ols10_waterdepletion_dimensionless_30spfaf06\"        \n",
    "sql +=         \" ELSE 1\"\n",
    "sql +=         \" END )\"\n",
    "sql +=    \" WHEN temporal_resolution = 'year'\"\n",
    "sql +=    \" THEN ( \"\n",
    "sql +=         \" CASE\"\n",
    "sql +=         \" WHEN ols_ols10_aridandlowwateruse_boolean_30spfaf06 = 0\"\n",
    "sql +=             \" THEN avg1y_ols_ols10_weighted_waterdepletion_dimensionless_30spfaf06\"        \n",
    "sql +=         \" ELSE 1\"\n",
    "sql +=         \" END )\"\n",
    "sql +=    \" ELSE -9999\"\n",
    "sql +=    \" END\"\n",
    "sql +=    \" AS waterdepletion_raw_dimensionless_30spfaf06\"\n",
    "\n",
    "sql += \" FROM {}\".format(INPUT_TABLE_NAME)\n",
    "sql += \" )\"\n",
    "\n",
    "# Water Stress Scores\n",
    "sql += \" SELECT *,\"\n",
    "sql += \" CASE\"\n",
    "sql += \" WHEN ols_ols10_aridandlowwateruse_boolean_30spfaf06 = 0 AND waterstress_raw_dimensionless_30spfaf06 > 0\"\n",
    "sql +=     \" THEN GREATEST(0,LEAST(((LN(waterstress_raw_dimensionless_30spfaf06) - LN(0.1))/LN(2))+1,5))\" \n",
    "sql += \" WHEN ols_ols10_aridandlowwateruse_boolean_30spfaf06 = 0 AND waterstress_raw_dimensionless_30spfaf06 <= 0\"\n",
    "sql +=     \" THEN 0\"\n",
    "sql += \" WHEN ols_ols10_aridandlowwateruse_boolean_30spfaf06 = 1 \"\n",
    "sql +=     \" THEN -1\"\n",
    "sql += \" ELSE -9999 \"\n",
    "sql += \" END AS waterstress_score_dimensionless_30spfaf06,\"\n",
    "\n",
    "# Water Depletion Scores\n",
    "sql += \" CASE\"\n",
    "sql += \" WHEN ols_ols10_aridandlowwateruse_boolean_30spfaf06 = 0 AND waterdepletion_raw_dimensionless_30spfaf06 > 0 AND waterdepletion_raw_dimensionless_30spfaf06 < 0.05\"\n",
    "sql +=     \" THEN GREATEST(0,waterdepletion_raw_dimensionless_30spfaf06 *20)\"  \n",
    "sql += \" WHEN ols_ols10_aridandlowwateruse_boolean_30spfaf06 = 0 AND waterdepletion_raw_dimensionless_30spfaf06 >= 0.05 AND waterdepletion_raw_dimensionless_30spfaf06 < 0.25\"\n",
    "sql +=     \" THEN 5*waterdepletion_raw_dimensionless_30spfaf06 + 0.75\"  \n",
    "sql += \" WHEN ols_ols10_aridandlowwateruse_boolean_30spfaf06 = 0 AND waterdepletion_raw_dimensionless_30spfaf06 >= 0.25\"\n",
    "sql +=     \" THEN LEAST(5,4*waterdepletion_raw_dimensionless_30spfaf06 + 1)\"  \n",
    "sql += \" WHEN ols_ols10_aridandlowwateruse_boolean_30spfaf06 = 0 AND waterdepletion_raw_dimensionless_30spfaf06 <= 0\"\n",
    "sql +=     \" THEN 0\"\n",
    "sql += \" WHEN ols_ols10_aridandlowwateruse_boolean_30spfaf06 = 1 \"\n",
    "sql +=     \" THEN -1\"\n",
    "sql += \" ELSE -9999 \"\n",
    "sql += \" END AS waterdepletion_score_dimensionless_30spfaf06,\"\n",
    "\n",
    "sql = sql[:-1]\n",
    "sql += \" FROM cte\""
   ]
  },
  {
   "cell_type": "code",
   "execution_count": 6,
   "metadata": {},
   "outputs": [
    {
     "data": {
      "text/plain": [
       "\"CREATE TABLE y2018m07d27_rh_deltas_update_waterstress_aridlowonce_v01_v02 AS WITH cte AS (  SELECT *, CASE WHEN temporal_resolution = 'month' THEN ( CASE WHEN ols_ols10_aridandlowwateruse_boolean_30spfaf06 = 0 THEN ols_ols10_waterstress_dimensionless_30spfaf06 ELSE 1 END ) WHEN temporal_resolution = 'year' THEN (  CASE WHEN ols_ols10_aridandlowwateruse_boolean_30spfaf06 = 0 THEN avg1y_ols_ols10_weighted_waterstress_dimensionless_30spfaf06 ELSE 1 END ) ELSE -9999 END AS waterstress_raw_dimensionless_30spfaf06, CASE WHEN temporal_resolution = 'month' THEN ( CASE WHEN ols_ols10_aridandlowwateruse_boolean_30spfaf06 = 0 THEN ols_ols10_waterdepletion_dimensionless_30spfaf06 ELSE 1 END ) WHEN temporal_resolution = 'year' THEN (  CASE WHEN ols_ols10_aridandlowwateruse_boolean_30spfaf06 = 0 THEN avg1y_ols_ols10_weighted_waterdepletion_dimensionless_30spfaf06 ELSE 1 END ) ELSE -9999 END AS waterdepletion_raw_dimensionless_30spfaf06 FROM y2018m07d27_rh_deltas_merge_simplify_tables_v01_v02 ) SELECT *, CASE WHEN ols_ols10_aridandlowwateruse_boolean_30spfaf06 = 0 AND waterstress_raw_dimensionless_30spfaf06 > 0 THEN GREATEST(0,LEAST(((LN(waterstress_raw_dimensionless_30spfaf06) - LN(0.1))/LN(2))+1,5)) WHEN ols_ols10_aridandlowwateruse_boolean_30spfaf06 = 0 AND waterstress_raw_dimensionless_30spfaf06 <= 0 THEN 0 WHEN ols_ols10_aridandlowwateruse_boolean_30spfaf06 = 1  THEN -1 ELSE -9999  END AS waterstress_score_dimensionless_30spfaf06, CASE WHEN ols_ols10_aridandlowwateruse_boolean_30spfaf06 = 0 AND waterdepletion_raw_dimensionless_30spfaf06 > 0 AND waterdepletion_raw_dimensionless_30spfaf06 < 0.05 THEN GREATEST(0,waterdepletion_raw_dimensionless_30spfaf06 *20) WHEN ols_ols10_aridandlowwateruse_boolean_30spfaf06 = 0 AND waterdepletion_raw_dimensionless_30spfaf06 >= 0.05 AND waterdepletion_raw_dimensionless_30spfaf06 < 0.25 THEN 5*waterdepletion_raw_dimensionless_30spfaf06 + 0.75 WHEN ols_ols10_aridandlowwateruse_boolean_30spfaf06 = 0 AND waterdepletion_raw_dimensionless_30spfaf06 >= 0.25 THEN LEAST(5,4*waterdepletion_raw_dimensionless_30spfaf06 + 1) WHEN ols_ols10_aridandlowwateruse_boolean_30spfaf06 = 0 AND waterdepletion_raw_dimensionless_30spfaf06 <= 0 THEN 0 WHEN ols_ols10_aridandlowwateruse_boolean_30spfaf06 = 1  THEN -1 ELSE -9999  END AS waterdepletion_score_dimensionless_30spfaf06 FROM cte\""
      ]
     },
     "execution_count": 6,
     "metadata": {},
     "output_type": "execute_result"
    }
   ],
   "source": [
    "sql"
   ]
  },
  {
   "cell_type": "code",
   "execution_count": 7,
   "metadata": {},
   "outputs": [],
   "source": [
    "result = engine.execute(sql)"
   ]
  },
  {
   "cell_type": "code",
   "execution_count": 8,
   "metadata": {
    "collapsed": true
   },
   "outputs": [],
   "source": [
    "sql_index = \"CREATE INDEX {}delta_id ON {} ({})\".format(OUTPUT_TABLE_NAME,OUTPUT_TABLE_NAME,\"delta_id\")"
   ]
  },
  {
   "cell_type": "code",
   "execution_count": 9,
   "metadata": {
    "collapsed": true
   },
   "outputs": [],
   "source": [
    "result = engine.execute(sql_index)"
   ]
  },
  {
   "cell_type": "code",
   "execution_count": 10,
   "metadata": {
    "collapsed": true
   },
   "outputs": [],
   "source": [
    "sql_index2 = \"CREATE INDEX {}year ON {} ({})\".format(OUTPUT_TABLE_NAME,OUTPUT_TABLE_NAME,\"year\")"
   ]
  },
  {
   "cell_type": "code",
   "execution_count": 11,
   "metadata": {
    "collapsed": true
   },
   "outputs": [],
   "source": [
    "result = engine.execute(sql_index2)"
   ]
  },
  {
   "cell_type": "code",
   "execution_count": 12,
   "metadata": {
    "collapsed": true
   },
   "outputs": [],
   "source": [
    "sql_index3 = \"CREATE INDEX {}month ON {} ({})\".format(OUTPUT_TABLE_NAME,OUTPUT_TABLE_NAME,\"month\")"
   ]
  },
  {
   "cell_type": "code",
   "execution_count": 13,
   "metadata": {
    "collapsed": true
   },
   "outputs": [],
   "source": [
    "result = engine.execute(sql_index3)"
   ]
  },
  {
   "cell_type": "code",
   "execution_count": 14,
   "metadata": {
    "collapsed": true
   },
   "outputs": [],
   "source": [
    "engine.dispose()"
   ]
  },
  {
   "cell_type": "code",
   "execution_count": 15,
   "metadata": {},
   "outputs": [
    {
     "name": "stdout",
     "output_type": "stream",
     "text": [
      "0:00:02.665179\n"
     ]
    }
   ],
   "source": [
    "end = datetime.datetime.now()\n",
    "elapsed = end - start\n",
    "print(elapsed)"
   ]
  },
  {
   "cell_type": "markdown",
   "metadata": {},
   "source": [
    "Previous runs:  \n",
    "0:00:02.665179"
   ]
  },
  {
   "cell_type": "code",
   "execution_count": null,
   "metadata": {
    "collapsed": true
   },
   "outputs": [],
   "source": []
  },
  {
   "cell_type": "code",
   "execution_count": null,
   "metadata": {
    "collapsed": true
   },
   "outputs": [],
   "source": []
  }
 ],
 "metadata": {
  "kernelspec": {
   "display_name": "Python 35",
   "language": "python",
   "name": "python35"
  },
  "language_info": {
   "codemirror_mode": {
    "name": "ipython",
    "version": 3
   },
   "file_extension": ".py",
   "mimetype": "text/x-python",
   "name": "python",
   "nbconvert_exporter": "python",
   "pygments_lexer": "ipython3",
   "version": "3.5.4"
  }
 },
 "nbformat": 4,
 "nbformat_minor": 2
}
