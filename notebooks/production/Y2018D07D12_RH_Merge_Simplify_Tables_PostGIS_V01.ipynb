{
 "cells": [
  {
   "cell_type": "code",
   "execution_count": 1,
   "metadata": {},
   "outputs": [
    {
     "name": "stdout",
     "output_type": "stream",
     "text": [
      "Input Table Left:  y2018m07d09_rh_apply_aridlowonce_mask_postgis_v01_v01 Input Table Right:  y2018d07d12_rh_annual_scores_from_months_postgis_v01_v03 \n",
      "Output Table:  y2018d07d12_rh_merge_simplify_tables_postgis_v01_v01\n"
     ]
    }
   ],
   "source": [
    "\"\"\" Merge and simplify master table and annual scores based on months.\n",
    "-------------------------------------------------------------------------------\n",
    "\n",
    "Author: Rutger Hofste\n",
    "Date: 20180712\n",
    "Kernel: python35\n",
    "Docker: rutgerhofste/gisdocker:ubuntu16.04\n",
    "\n",
    "Args:\n",
    "    TESTING (Boolean) : Toggle testing case.\n",
    "    SCRIPT_NAME (string) : Script name.\n",
    "    OUTPUT_VERSION (integer) : output version.\n",
    "    DATABASE_ENDPOINT (string) : RDS or postGreSQL endpoint.\n",
    "    DATABASE_NAME (string) : Database name.\n",
    "    TABLE_NAME_AREA_30SPFAF06 (string) : Table name used for areas. Must exist\n",
    "        on same database as used in rest of script.\n",
    "    S3_INPUT_PATH_RIVERDISCHARGE (string) : AWS S3 input path for \n",
    "        riverdischarge.    \n",
    "    S3_INPUT_PATH_DEMAND (string) : AWS S3 input path for \n",
    "        demand.     \n",
    "\n",
    "\"\"\"\n",
    "\n",
    "TESTING = 0\n",
    "OVERWRITE_OUTPUT = 1\n",
    "SCRIPT_NAME = 'Y2018D07D12_RH_Merge_Simplify_Tables_PostGIS_V01'\n",
    "OUTPUT_VERSION = 1\n",
    "\n",
    "DATABASE_ENDPOINT = \"aqueduct30v05.cgpnumwmfcqc.eu-central-1.rds.amazonaws.com\"\n",
    "DATABASE_NAME = \"database01\"\n",
    "\n",
    "INPUT_TABLE_NAME_LEFT = \"y2018m07d09_rh_apply_aridlowonce_mask_postgis_v01_v01\"\n",
    "INPUT_TABLE_NAME_RIGHT = \"y2018d07d12_rh_annual_scores_from_months_postgis_v01_v03\"\n",
    "OUTPUT_TABLE_NAME = SCRIPT_NAME.lower() + \"_v{:02.0f}\".format(OUTPUT_VERSION)\n",
    "\n",
    "print(\"Input Table Left: \" , INPUT_TABLE_NAME_LEFT, \n",
    "      \"Input Table Right: \" , INPUT_TABLE_NAME_RIGHT, \n",
    "      \"\\nOutput Table: \" , OUTPUT_TABLE_NAME)"
   ]
  },
  {
   "cell_type": "code",
   "execution_count": 2,
   "metadata": {},
   "outputs": [
    {
     "name": "stdout",
     "output_type": "stream",
     "text": [
      "Y2018M07D12 UTC 15:09\n"
     ]
    },
    {
     "data": {
      "text/plain": [
       "'3.5.4 |Anaconda, Inc.| (default, Nov 20 2017, 18:44:38) \\n[GCC 7.2.0]'"
      ]
     },
     "execution_count": 2,
     "metadata": {},
     "output_type": "execute_result"
    }
   ],
   "source": [
    "import time, datetime, sys\n",
    "dateString = time.strftime(\"Y%YM%mD%d\")\n",
    "timeString = time.strftime(\"UTC %H:%M\")\n",
    "start = datetime.datetime.now()\n",
    "print(dateString,timeString)\n",
    "sys.version"
   ]
  },
  {
   "cell_type": "code",
   "execution_count": 3,
   "metadata": {
    "collapsed": true
   },
   "outputs": [],
   "source": [
    "# imports\n",
    "import re\n",
    "import os\n",
    "import numpy as np\n",
    "import pandas as pd\n",
    "import aqueduct3\n",
    "from datetime import timedelta\n",
    "from sqlalchemy import *\n",
    "pd.set_option('display.max_columns', 500)"
   ]
  },
  {
   "cell_type": "code",
   "execution_count": 4,
   "metadata": {},
   "outputs": [
    {
     "name": "stdout",
     "output_type": "stream",
     "text": [
      "DROP TABLE IF EXISTS y2018d07d12_rh_merge_simplify_tables_postgis_v01_v01;\n"
     ]
    }
   ],
   "source": [
    "F = open(\"/.password\",\"r\")\n",
    "password = F.read().splitlines()[0]\n",
    "F.close()\n",
    "\n",
    "engine = create_engine(\"postgresql://rutgerhofste:{}@{}:5432/{}\".format(password,DATABASE_ENDPOINT,DATABASE_NAME))\n",
    "#connection = engine.connect()\n",
    "\n",
    "if OVERWRITE_OUTPUT:\n",
    "    sql = \"DROP TABLE IF EXISTS {};\".format(OUTPUT_TABLE_NAME)\n",
    "    print(sql)\n",
    "    result = engine.execute(sql)"
   ]
  },
  {
   "cell_type": "code",
   "execution_count": 5,
   "metadata": {
    "collapsed": true
   },
   "outputs": [],
   "source": [
    "columns_to_keep_left = [\"pfafid_30spfaf06\",\n",
    "                        \"temporal_resolution\",\n",
    "                        \"year\",\n",
    "                        \"month\",\n",
    "                        \"area_m2_30spfaf06\",\n",
    "                        \"area_count_30spfaf06\"]"
   ]
  },
  {
   "cell_type": "code",
   "execution_count": 6,
   "metadata": {
    "collapsed": true
   },
   "outputs": [],
   "source": [
    "columns_to_keep_right = []"
   ]
  },
  {
   "cell_type": "markdown",
   "metadata": {},
   "source": [
    "## Raw Data and Decadal Statistics"
   ]
  },
  {
   "cell_type": "code",
   "execution_count": 7,
   "metadata": {
    "collapsed": true
   },
   "outputs": [],
   "source": [
    "sectors = [\"ptot\",\n",
    "           \"pdom\",\n",
    "           \"pind\",\n",
    "           \"pirr\",\n",
    "           \"pliv\"]\n",
    "use_types = [\"ww\",\"wn\"]"
   ]
  },
  {
   "cell_type": "code",
   "execution_count": 8,
   "metadata": {},
   "outputs": [],
   "source": [
    "decadal_indicators = []\n",
    "for sector in sectors:\n",
    "    for use_type in use_types:\n",
    "        decadal_indicators.append(\"{}{}\".format(sector,use_type))"
   ]
  },
  {
   "cell_type": "code",
   "execution_count": 9,
   "metadata": {},
   "outputs": [],
   "source": [
    "decadal_indicators.append(\"riverdischarge\")"
   ]
  },
  {
   "cell_type": "code",
   "execution_count": 10,
   "metadata": {},
   "outputs": [],
   "source": [
    "decadal_statistics = [\"\",\n",
    "                   \"ma10_\",\n",
    "                   \"min10_\",\n",
    "                   \"max10_\",\n",
    "                   \"slope10_\",\n",
    "                   \"intercept10_\",\n",
    "                   \"ols10_\",\n",
    "                   \"capped_ols10_\"]"
   ]
  },
  {
   "cell_type": "code",
   "execution_count": 11,
   "metadata": {},
   "outputs": [
    {
     "name": "stdout",
     "output_type": "stream",
     "text": [
      "ptotww_m_30spfaf06\n",
      "ptotwn_m_30spfaf06\n",
      "pdomww_m_30spfaf06\n",
      "pdomwn_m_30spfaf06\n",
      "pindww_m_30spfaf06\n",
      "pindwn_m_30spfaf06\n",
      "pirrww_m_30spfaf06\n",
      "pirrwn_m_30spfaf06\n",
      "plivww_m_30spfaf06\n",
      "plivwn_m_30spfaf06\n",
      "riverdischarge_m_30spfaf06\n",
      "ma10_ptotww_m_30spfaf06\n",
      "ma10_ptotwn_m_30spfaf06\n",
      "ma10_pdomww_m_30spfaf06\n",
      "ma10_pdomwn_m_30spfaf06\n",
      "ma10_pindww_m_30spfaf06\n",
      "ma10_pindwn_m_30spfaf06\n",
      "ma10_pirrww_m_30spfaf06\n",
      "ma10_pirrwn_m_30spfaf06\n",
      "ma10_plivww_m_30spfaf06\n",
      "ma10_plivwn_m_30spfaf06\n",
      "ma10_riverdischarge_m_30spfaf06\n",
      "min10_ptotww_m_30spfaf06\n",
      "min10_ptotwn_m_30spfaf06\n",
      "min10_pdomww_m_30spfaf06\n",
      "min10_pdomwn_m_30spfaf06\n",
      "min10_pindww_m_30spfaf06\n",
      "min10_pindwn_m_30spfaf06\n",
      "min10_pirrww_m_30spfaf06\n",
      "min10_pirrwn_m_30spfaf06\n",
      "min10_plivww_m_30spfaf06\n",
      "min10_plivwn_m_30spfaf06\n",
      "min10_riverdischarge_m_30spfaf06\n",
      "max10_ptotww_m_30spfaf06\n",
      "max10_ptotwn_m_30spfaf06\n",
      "max10_pdomww_m_30spfaf06\n",
      "max10_pdomwn_m_30spfaf06\n",
      "max10_pindww_m_30spfaf06\n",
      "max10_pindwn_m_30spfaf06\n",
      "max10_pirrww_m_30spfaf06\n",
      "max10_pirrwn_m_30spfaf06\n",
      "max10_plivww_m_30spfaf06\n",
      "max10_plivwn_m_30spfaf06\n",
      "max10_riverdischarge_m_30spfaf06\n",
      "slope10_ptotww_m_30spfaf06\n",
      "slope10_ptotwn_m_30spfaf06\n",
      "slope10_pdomww_m_30spfaf06\n",
      "slope10_pdomwn_m_30spfaf06\n",
      "slope10_pindww_m_30spfaf06\n",
      "slope10_pindwn_m_30spfaf06\n",
      "slope10_pirrww_m_30spfaf06\n",
      "slope10_pirrwn_m_30spfaf06\n",
      "slope10_plivww_m_30spfaf06\n",
      "slope10_plivwn_m_30spfaf06\n",
      "slope10_riverdischarge_m_30spfaf06\n",
      "intercept10_ptotww_m_30spfaf06\n",
      "intercept10_ptotwn_m_30spfaf06\n",
      "intercept10_pdomww_m_30spfaf06\n",
      "intercept10_pdomwn_m_30spfaf06\n",
      "intercept10_pindww_m_30spfaf06\n",
      "intercept10_pindwn_m_30spfaf06\n",
      "intercept10_pirrww_m_30spfaf06\n",
      "intercept10_pirrwn_m_30spfaf06\n",
      "intercept10_plivww_m_30spfaf06\n",
      "intercept10_plivwn_m_30spfaf06\n",
      "intercept10_riverdischarge_m_30spfaf06\n",
      "ols10_ptotww_m_30spfaf06\n",
      "ols10_ptotwn_m_30spfaf06\n",
      "ols10_pdomww_m_30spfaf06\n",
      "ols10_pdomwn_m_30spfaf06\n",
      "ols10_pindww_m_30spfaf06\n",
      "ols10_pindwn_m_30spfaf06\n",
      "ols10_pirrww_m_30spfaf06\n",
      "ols10_pirrwn_m_30spfaf06\n",
      "ols10_plivww_m_30spfaf06\n",
      "ols10_plivwn_m_30spfaf06\n",
      "ols10_riverdischarge_m_30spfaf06\n",
      "capped_ols10_ptotww_m_30spfaf06\n",
      "capped_ols10_ptotwn_m_30spfaf06\n",
      "capped_ols10_pdomww_m_30spfaf06\n",
      "capped_ols10_pdomwn_m_30spfaf06\n",
      "capped_ols10_pindww_m_30spfaf06\n",
      "capped_ols10_pindwn_m_30spfaf06\n",
      "capped_ols10_pirrww_m_30spfaf06\n",
      "capped_ols10_pirrwn_m_30spfaf06\n",
      "capped_ols10_plivww_m_30spfaf06\n",
      "capped_ols10_plivwn_m_30spfaf06\n",
      "capped_ols10_riverdischarge_m_30spfaf06\n"
     ]
    }
   ],
   "source": [
    "for decadal_statistic in decadal_statistics:\n",
    "    for decadal_indicator in decadal_indicators:\n",
    "        indicator = \"{}{}_m_30spfaf06\".format(decadal_statistic,decadal_indicator)\n",
    "        print(indicator)\n",
    "        columns_to_keep_left.append(indicator)"
   ]
  },
  {
   "cell_type": "markdown",
   "metadata": {},
   "source": [
    "## Statistics on Decadal Statistics"
   ]
  },
  {
   "cell_type": "code",
   "execution_count": 12,
   "metadata": {},
   "outputs": [
    {
     "name": "stdout",
     "output_type": "stream",
     "text": [
      "ols_ma10_ptotww_m_30spfaf06\n",
      "ols_ols10_ptotww_m_30spfaf06\n",
      "avg_ma10_ptotww_m_30spfaf06\n",
      "avg_ols10_ptotww_m_30spfaf06\n",
      "min_ma10_ptotww_m_30spfaf06\n",
      "min_ols10_ptotww_m_30spfaf06\n",
      "max_ma10_ptotww_m_30spfaf06\n",
      "max_ols10_ptotww_m_30spfaf06\n",
      "slope_ma10_ptotww_m_30spfaf06\n",
      "slope_ols10_ptotww_m_30spfaf06\n",
      "intercept_ma10_ptotww_m_30spfaf06\n",
      "intercept_ols10_ptotww_m_30spfaf06\n",
      "ols_ma10_ptotwn_m_30spfaf06\n",
      "ols_ols10_ptotwn_m_30spfaf06\n",
      "avg_ma10_ptotwn_m_30spfaf06\n",
      "avg_ols10_ptotwn_m_30spfaf06\n",
      "min_ma10_ptotwn_m_30spfaf06\n",
      "min_ols10_ptotwn_m_30spfaf06\n",
      "max_ma10_ptotwn_m_30spfaf06\n",
      "max_ols10_ptotwn_m_30spfaf06\n",
      "slope_ma10_ptotwn_m_30spfaf06\n",
      "slope_ols10_ptotwn_m_30spfaf06\n",
      "intercept_ma10_ptotwn_m_30spfaf06\n",
      "intercept_ols10_ptotwn_m_30spfaf06\n",
      "ols_ma10_riverdischarge_m_30spfaf06\n",
      "ols_ols10_riverdischarge_m_30spfaf06\n",
      "avg_ma10_riverdischarge_m_30spfaf06\n",
      "avg_ols10_riverdischarge_m_30spfaf06\n",
      "min_ma10_riverdischarge_m_30spfaf06\n",
      "min_ols10_riverdischarge_m_30spfaf06\n",
      "max_ma10_riverdischarge_m_30spfaf06\n",
      "max_ols10_riverdischarge_m_30spfaf06\n",
      "slope_ma10_riverdischarge_m_30spfaf06\n",
      "slope_ols10_riverdischarge_m_30spfaf06\n",
      "intercept_ma10_riverdischarge_m_30spfaf06\n",
      "intercept_ols10_riverdischarge_m_30spfaf06\n"
     ]
    }
   ],
   "source": [
    "tier2_decadal_indicators = [\"ptotww\",\n",
    "                            \"ptotwn\",\n",
    "                            \"riverdischarge\"]\n",
    "\n",
    "tier2_decadal_statistics_0 = [\"ols_\",\"avg_\",\"min_\",\"max_\",\"slope_\",\"intercept_\"]\n",
    "tier2_decadal_statistics_1 = [\"ma10_\",\"ols10_\"]\n",
    "\n",
    "for tier2_decadal_indicator in tier2_decadal_indicators:\n",
    "    for tier2_decadal_statistic_0 in tier2_decadal_statistics_0:\n",
    "        for tier2_decadal_statistic_1 in tier2_decadal_statistics_1:\n",
    "            indicator = \"{}{}{}_m_30spfaf06\".format(tier2_decadal_statistic_0,tier2_decadal_statistic_1,tier2_decadal_indicator)\n",
    "            print(indicator)\n",
    "            columns_to_keep_left.append(indicator)\n",
    "            \n",
    "    \n"
   ]
  },
  {
   "cell_type": "markdown",
   "metadata": {},
   "source": [
    "## Complete TimeSeries Statistics"
   ]
  },
  {
   "cell_type": "code",
   "execution_count": 13,
   "metadata": {},
   "outputs": [],
   "source": [
    "# for ptotww, ptotwn and riverdischarge, statistics based on full time series are available.\n",
    "complete_timeseries_statistics = [\"avg_\",\n",
    "                                  \"min_\",\n",
    "                                  \"max_\",\n",
    "                                  \"slope_\",\n",
    "                                  \"intercept_\",\n",
    "                                  \"ols_\"]\n",
    "\n",
    "complete_timeseries_indicators = [\"ptotww\",\n",
    "                                  \"ptotwn\",\n",
    "                                  \"riverdischarge\"\n",
    "                                  ] \n"
   ]
  },
  {
   "cell_type": "code",
   "execution_count": 14,
   "metadata": {},
   "outputs": [
    {
     "name": "stdout",
     "output_type": "stream",
     "text": [
      "avg_ptotww_m_30spfaf06\n",
      "avg_ptotwn_m_30spfaf06\n",
      "avg_riverdischarge_m_30spfaf06\n",
      "min_ptotww_m_30spfaf06\n",
      "min_ptotwn_m_30spfaf06\n",
      "min_riverdischarge_m_30spfaf06\n",
      "max_ptotww_m_30spfaf06\n",
      "max_ptotwn_m_30spfaf06\n",
      "max_riverdischarge_m_30spfaf06\n",
      "slope_ptotww_m_30spfaf06\n",
      "slope_ptotwn_m_30spfaf06\n",
      "slope_riverdischarge_m_30spfaf06\n",
      "intercept_ptotww_m_30spfaf06\n",
      "intercept_ptotwn_m_30spfaf06\n",
      "intercept_riverdischarge_m_30spfaf06\n",
      "ols_ptotww_m_30spfaf06\n",
      "ols_ptotwn_m_30spfaf06\n",
      "ols_riverdischarge_m_30spfaf06\n"
     ]
    }
   ],
   "source": [
    "for complete_timeseries_statistic in complete_timeseries_statistics:\n",
    "    for complete_timeseries_indicator in complete_timeseries_indicators:\n",
    "        indicator = \"{}{}_m_30spfaf06\".format(complete_timeseries_statistic,complete_timeseries_indicator)\n",
    "        print(indicator)\n",
    "        columns_to_keep_left.append(indicator)"
   ]
  },
  {
   "cell_type": "markdown",
   "metadata": {},
   "source": [
    "## Raw and Decadal Arid and Lowwater Use Columns"
   ]
  },
  {
   "cell_type": "code",
   "execution_count": 15,
   "metadata": {},
   "outputs": [
    {
     "name": "stdout",
     "output_type": "stream",
     "text": [
      "arid_boolean_30spfaf06\n",
      "lowwateruse_boolean_30spfaf06\n",
      "aridandlowwateruse_boolean_30spfaf06\n"
     ]
    }
   ],
   "source": [
    "arid_lowwateruse_indicators = [\"arid\",\n",
    "                               \"lowwateruse\",\n",
    "                               \"aridandlowwateruse\"]\n",
    "\n",
    "arid_lowwateruse_statistics_tier0 = [\"\",\n",
    "                                     \"ols10_\"]\n",
    "\n",
    "for arid_lowwateruse_indicator in arid_lowwateruse_indicators:\n",
    "    indicator = \"{}_boolean_30spfaf06\".format(arid_lowwateruse_indicator)\n",
    "    print(indicator)\n",
    "    columns_to_keep_left.append(indicator)\n",
    "\n"
   ]
  },
  {
   "cell_type": "markdown",
   "metadata": {},
   "source": [
    "## Statistics on Decadal Statistics Arid and Lowwater Use"
   ]
  },
  {
   "cell_type": "code",
   "execution_count": 16,
   "metadata": {},
   "outputs": [
    {
     "name": "stdout",
     "output_type": "stream",
     "text": [
      "ols_ols10_arid_boolean_30spfaf06\n",
      "ols_ols10_lowwateruse_boolean_30spfaf06\n",
      "ols_ols10_aridandlowwateruse_boolean_30spfaf06\n"
     ]
    }
   ],
   "source": [
    "lowarid_tier2_decadal_indicators = [\"arid\",\n",
    "                                    \"lowwateruse\",\n",
    "                                    \"aridandlowwateruse\"]\n",
    "\n",
    "lowarid_tier2_decadal_statistics_0 = [\"ols_\"]\n",
    "lowarid_tier2_decadal_statistics_1 = [\"ols10_\"]\n",
    "\n",
    "for lowarid_tier2_decadal_indicator in lowarid_tier2_decadal_indicators:\n",
    "    for lowarid_tier2_decadal_statistic_0 in lowarid_tier2_decadal_statistics_0:\n",
    "        for lowarid_tier2_decadal_statistic_1 in lowarid_tier2_decadal_statistics_1:\n",
    "            indicator = \"{}{}{}_boolean_30spfaf06\".format(lowarid_tier2_decadal_statistic_0,lowarid_tier2_decadal_statistic_1,lowarid_tier2_decadal_indicator)\n",
    "            print(indicator)\n",
    "            columns_to_keep_left.append(indicator)\n",
    "            \n",
    "\n"
   ]
  },
  {
   "cell_type": "code",
   "execution_count": null,
   "metadata": {
    "collapsed": true
   },
   "outputs": [],
   "source": []
  },
  {
   "cell_type": "code",
   "execution_count": null,
   "metadata": {
    "collapsed": true
   },
   "outputs": [],
   "source": []
  },
  {
   "cell_type": "markdown",
   "metadata": {},
   "source": [
    "## Water Stress Decadal"
   ]
  },
  {
   "cell_type": "code",
   "execution_count": 20,
   "metadata": {},
   "outputs": [
    {
     "name": "stdout",
     "output_type": "stream",
     "text": [
      "ma10_waterstress_boolean_30spfaf06\n",
      "ols10_waterstress_boolean_30spfaf06\n"
     ]
    }
   ],
   "source": [
    "waterstress_decadal_indicators = [\"waterstress\"]\n",
    "\n",
    "waterstress_decadal_statistics = [\"ma10_\",\n",
    "                                  \"ols10_\"]\n",
    "\n",
    "for waterstress_decadal_indicator in waterstress_decadal_indicators:\n",
    "    for waterstress_decadal_statistic in waterstress_decadal_statistics:\n",
    "        indicator = \"{}{}_boolean_30spfaf06\".format(waterstress_decadal_statistic,waterstress_decadal_indicator)\n",
    "        print(indicator)\n",
    "        columns_to_keep_left.append(indicator)\n"
   ]
  },
  {
   "cell_type": "markdown",
   "metadata": {},
   "source": [
    "## Water Stress Complete Timeseries"
   ]
  },
  {
   "cell_type": "code",
   "execution_count": 21,
   "metadata": {
    "collapsed": true
   },
   "outputs": [],
   "source": [
    "waterstress_complete_indicators = [\"waterstress\"]\n",
    "\n",
    "waterstress_complete_statistics = [\"min_\",\n",
    "                                   \"max_\",\n",
    "                                   \"avg_\",\n",
    "                                   \"slope_\",\n",
    "                                   \"intercept_\",\n",
    "                                   \"ols_\"]\n",
    "\n",
    "for waterstress_complete_indicator in waterstress_complete_indicators:\n",
    "    for waterstress_complete_statistic in waterstress_complete_statistics:\n",
    "        indicator = \"{}{}_boolean_30spfaf06\".format(waterstress_decadal_statistic,waterstress_decadal_indicator)\n",
    "        print(indicator)\n",
    "        columns_to_keep_left.append(indicator)\n",
    "\n"
   ]
  },
  {
   "cell_type": "code",
   "execution_count": null,
   "metadata": {
    "collapsed": true
   },
   "outputs": [],
   "source": []
  },
  {
   "cell_type": "code",
   "execution_count": null,
   "metadata": {
    "collapsed": true
   },
   "outputs": [],
   "source": []
  },
  {
   "cell_type": "code",
   "execution_count": 17,
   "metadata": {},
   "outputs": [],
   "source": [
    "sql = \"SELECT\"\n",
    "for column_to_keep_left in columns_to_keep_left:\n",
    "    sql += \" {},\".format(column_to_keep_left)\n",
    "sql = sql[:-1]\n",
    "sql += \" FROM {}\".format(INPUT_TABLE_NAME_LEFT)\n",
    "sql += \" LIMIT 100\""
   ]
  },
  {
   "cell_type": "code",
   "execution_count": 18,
   "metadata": {},
   "outputs": [
    {
     "data": {
      "text/plain": [
       "'SELECT pfafid_30spfaf06, temporal_resolution, year, month, area_m2_30spfaf06, area_count_30spfaf06, ptotww_m_30spfaf06, ptotwn_m_30spfaf06, pdomww_m_30spfaf06, pdomwn_m_30spfaf06, pindww_m_30spfaf06, pindwn_m_30spfaf06, pirrww_m_30spfaf06, pirrwn_m_30spfaf06, plivww_m_30spfaf06, plivwn_m_30spfaf06, riverdischarge_m_30spfaf06, ma10_ptotww_m_30spfaf06, ma10_ptotwn_m_30spfaf06, ma10_pdomww_m_30spfaf06, ma10_pdomwn_m_30spfaf06, ma10_pindww_m_30spfaf06, ma10_pindwn_m_30spfaf06, ma10_pirrww_m_30spfaf06, ma10_pirrwn_m_30spfaf06, ma10_plivww_m_30spfaf06, ma10_plivwn_m_30spfaf06, ma10_riverdischarge_m_30spfaf06, min10_ptotww_m_30spfaf06, min10_ptotwn_m_30spfaf06, min10_pdomww_m_30spfaf06, min10_pdomwn_m_30spfaf06, min10_pindww_m_30spfaf06, min10_pindwn_m_30spfaf06, min10_pirrww_m_30spfaf06, min10_pirrwn_m_30spfaf06, min10_plivww_m_30spfaf06, min10_plivwn_m_30spfaf06, min10_riverdischarge_m_30spfaf06, max10_ptotww_m_30spfaf06, max10_ptotwn_m_30spfaf06, max10_pdomww_m_30spfaf06, max10_pdomwn_m_30spfaf06, max10_pindww_m_30spfaf06, max10_pindwn_m_30spfaf06, max10_pirrww_m_30spfaf06, max10_pirrwn_m_30spfaf06, max10_plivww_m_30spfaf06, max10_plivwn_m_30spfaf06, max10_riverdischarge_m_30spfaf06, slope10_ptotww_m_30spfaf06, slope10_ptotwn_m_30spfaf06, slope10_pdomww_m_30spfaf06, slope10_pdomwn_m_30spfaf06, slope10_pindww_m_30spfaf06, slope10_pindwn_m_30spfaf06, slope10_pirrww_m_30spfaf06, slope10_pirrwn_m_30spfaf06, slope10_plivww_m_30spfaf06, slope10_plivwn_m_30spfaf06, slope10_riverdischarge_m_30spfaf06, intercept10_ptotww_m_30spfaf06, intercept10_ptotwn_m_30spfaf06, intercept10_pdomww_m_30spfaf06, intercept10_pdomwn_m_30spfaf06, intercept10_pindww_m_30spfaf06, intercept10_pindwn_m_30spfaf06, intercept10_pirrww_m_30spfaf06, intercept10_pirrwn_m_30spfaf06, intercept10_plivww_m_30spfaf06, intercept10_plivwn_m_30spfaf06, intercept10_riverdischarge_m_30spfaf06, ols10_ptotww_m_30spfaf06, ols10_ptotwn_m_30spfaf06, ols10_pdomww_m_30spfaf06, ols10_pdomwn_m_30spfaf06, ols10_pindww_m_30spfaf06, ols10_pindwn_m_30spfaf06, ols10_pirrww_m_30spfaf06, ols10_pirrwn_m_30spfaf06, ols10_plivww_m_30spfaf06, ols10_plivwn_m_30spfaf06, ols10_riverdischarge_m_30spfaf06, capped_ols10_ptotww_m_30spfaf06, capped_ols10_ptotwn_m_30spfaf06, capped_ols10_pdomww_m_30spfaf06, capped_ols10_pdomwn_m_30spfaf06, capped_ols10_pindww_m_30spfaf06, capped_ols10_pindwn_m_30spfaf06, capped_ols10_pirrww_m_30spfaf06, capped_ols10_pirrwn_m_30spfaf06, capped_ols10_plivww_m_30spfaf06, capped_ols10_plivwn_m_30spfaf06, capped_ols10_riverdischarge_m_30spfaf06, ols_ma10_ptotww_m_30spfaf06, ols_ols10_ptotww_m_30spfaf06, avg_ma10_ptotww_m_30spfaf06, avg_ols10_ptotww_m_30spfaf06, min_ma10_ptotww_m_30spfaf06, min_ols10_ptotww_m_30spfaf06, max_ma10_ptotww_m_30spfaf06, max_ols10_ptotww_m_30spfaf06, slope_ma10_ptotww_m_30spfaf06, slope_ols10_ptotww_m_30spfaf06, intercept_ma10_ptotww_m_30spfaf06, intercept_ols10_ptotww_m_30spfaf06, ols_ma10_ptotwn_m_30spfaf06, ols_ols10_ptotwn_m_30spfaf06, avg_ma10_ptotwn_m_30spfaf06, avg_ols10_ptotwn_m_30spfaf06, min_ma10_ptotwn_m_30spfaf06, min_ols10_ptotwn_m_30spfaf06, max_ma10_ptotwn_m_30spfaf06, max_ols10_ptotwn_m_30spfaf06, slope_ma10_ptotwn_m_30spfaf06, slope_ols10_ptotwn_m_30spfaf06, intercept_ma10_ptotwn_m_30spfaf06, intercept_ols10_ptotwn_m_30spfaf06, ols_ma10_riverdischarge_m_30spfaf06, ols_ols10_riverdischarge_m_30spfaf06, avg_ma10_riverdischarge_m_30spfaf06, avg_ols10_riverdischarge_m_30spfaf06, min_ma10_riverdischarge_m_30spfaf06, min_ols10_riverdischarge_m_30spfaf06, max_ma10_riverdischarge_m_30spfaf06, max_ols10_riverdischarge_m_30spfaf06, slope_ma10_riverdischarge_m_30spfaf06, slope_ols10_riverdischarge_m_30spfaf06, intercept_ma10_riverdischarge_m_30spfaf06, intercept_ols10_riverdischarge_m_30spfaf06, avg_ptotww_m_30spfaf06, avg_ptotwn_m_30spfaf06, avg_riverdischarge_m_30spfaf06, min_ptotww_m_30spfaf06, min_ptotwn_m_30spfaf06, min_riverdischarge_m_30spfaf06, max_ptotww_m_30spfaf06, max_ptotwn_m_30spfaf06, max_riverdischarge_m_30spfaf06, slope_ptotww_m_30spfaf06, slope_ptotwn_m_30spfaf06, slope_riverdischarge_m_30spfaf06, intercept_ptotww_m_30spfaf06, intercept_ptotwn_m_30spfaf06, intercept_riverdischarge_m_30spfaf06, ols_ptotww_m_30spfaf06, ols_ptotwn_m_30spfaf06, ols_riverdischarge_m_30spfaf06, arid_boolean_30spfaf06, lowwateruse_boolean_30spfaf06, aridandlowwateruse_boolean_30spfaf06, ols_ols10_arid_boolean_30spfaf06, ols_ols10_lowwateruse_boolean_30spfaf06, ols_ols10_aridandlowwateruse_boolean_30spfaf06 FROM y2018m07d09_rh_apply_aridlowonce_mask_postgis_v01_v01 LIMIT 100'"
      ]
     },
     "execution_count": 18,
     "metadata": {},
     "output_type": "execute_result"
    }
   ],
   "source": [
    "sql"
   ]
  },
  {
   "cell_type": "markdown",
   "metadata": {},
   "source": []
  },
  {
   "cell_type": "code",
   "execution_count": null,
   "metadata": {
    "collapsed": true
   },
   "outputs": [],
   "source": []
  },
  {
   "cell_type": "code",
   "execution_count": null,
   "metadata": {
    "collapsed": true
   },
   "outputs": [],
   "source": []
  },
  {
   "cell_type": "code",
   "execution_count": null,
   "metadata": {
    "collapsed": true
   },
   "outputs": [],
   "source": []
  },
  {
   "cell_type": "code",
   "execution_count": null,
   "metadata": {
    "collapsed": true
   },
   "outputs": [],
   "source": []
  },
  {
   "cell_type": "code",
   "execution_count": null,
   "metadata": {
    "collapsed": true
   },
   "outputs": [],
   "source": []
  },
  {
   "cell_type": "code",
   "execution_count": null,
   "metadata": {
    "collapsed": true
   },
   "outputs": [],
   "source": [
    "columns_to_keep_right = [\"avg1y_ols_ols10_waterstress_dimensionless_30spfaf06\"]\n",
    "\n"
   ]
  },
  {
   "cell_type": "code",
   "execution_count": null,
   "metadata": {},
   "outputs": [],
   "source": [
    "sql =  \"CREATE TABLE {} AS\".format(OUTPUT_TABLE_NAME)\n",
    "sql += \" SELECT l.*,\"\n",
    "for column_to_keep in columns_to_keep:\n",
    "    sql += \" r.{},\".format(column_to_keep)\n",
    "sql = sql[:-1]\n",
    "sql += \" FROM {} l\".format(INPUT_TABLE_NAME_LEFT)\n",
    "sql += \" INNER JOIN {} r ON\".format(INPUT_TABLE_NAME_RIGHT)\n",
    "sql += \" CONCAT(l.pfafid_30spfaf06,l.year) = CONCAT(r.pfafid_30spfaf06,r.year)\"\n",
    "    "
   ]
  },
  {
   "cell_type": "code",
   "execution_count": null,
   "metadata": {},
   "outputs": [],
   "source": [
    "sql"
   ]
  },
  {
   "cell_type": "code",
   "execution_count": null,
   "metadata": {},
   "outputs": [],
   "source": [
    "result = engine.execute(sql)"
   ]
  },
  {
   "cell_type": "code",
   "execution_count": null,
   "metadata": {
    "collapsed": true
   },
   "outputs": [],
   "source": [
    "sql_index = \"CREATE INDEX {}pfafid_30spfaf06 ON {} ({})\".format(OUTPUT_TABLE_NAME,OUTPUT_TABLE_NAME,\"pfafid_30spfaf06\")"
   ]
  },
  {
   "cell_type": "code",
   "execution_count": null,
   "metadata": {
    "collapsed": true
   },
   "outputs": [],
   "source": [
    "result = engine.execute(sql_index)"
   ]
  },
  {
   "cell_type": "code",
   "execution_count": null,
   "metadata": {
    "collapsed": true
   },
   "outputs": [],
   "source": [
    "sql_index2 = \"CREATE INDEX {}year ON {} ({})\".format(OUTPUT_TABLE_NAME,OUTPUT_TABLE_NAME,\"year\")"
   ]
  },
  {
   "cell_type": "code",
   "execution_count": null,
   "metadata": {
    "collapsed": true
   },
   "outputs": [],
   "source": [
    "result = engine.execute(sql_index2)"
   ]
  },
  {
   "cell_type": "code",
   "execution_count": null,
   "metadata": {
    "collapsed": true
   },
   "outputs": [],
   "source": [
    "sql_index3 = \"CREATE INDEX {}month ON {} ({})\".format(OUTPUT_TABLE_NAME,OUTPUT_TABLE_NAME,\"month\")"
   ]
  },
  {
   "cell_type": "code",
   "execution_count": null,
   "metadata": {
    "collapsed": true
   },
   "outputs": [],
   "source": [
    "result = engine.execute(sql_index3)"
   ]
  },
  {
   "cell_type": "code",
   "execution_count": null,
   "metadata": {
    "collapsed": true
   },
   "outputs": [],
   "source": [
    "engine.dispose()"
   ]
  },
  {
   "cell_type": "code",
   "execution_count": null,
   "metadata": {
    "collapsed": true
   },
   "outputs": [],
   "source": [
    "end = datetime.datetime.now()\n",
    "elapsed = end - start\n",
    "print(elapsed)"
   ]
  },
  {
   "cell_type": "markdown",
   "metadata": {},
   "source": [
    "Previous runs:  "
   ]
  }
 ],
 "metadata": {
  "kernelspec": {
   "display_name": "Python 35",
   "language": "python",
   "name": "python35"
  },
  "language_info": {
   "codemirror_mode": {
    "name": "ipython",
    "version": 3
   },
   "file_extension": ".py",
   "mimetype": "text/x-python",
   "name": "python",
   "nbconvert_exporter": "python",
   "pygments_lexer": "ipython3",
   "version": "3.5.4"
  }
 },
 "nbformat": 4,
 "nbformat_minor": 2
}
