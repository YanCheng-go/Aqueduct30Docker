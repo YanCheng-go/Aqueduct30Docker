{
 "cells": [
  {
   "cell_type": "code",
   "execution_count": 1,
   "metadata": {},
   "outputs": [
    {
     "name": "stdout",
     "output_type": "stream",
     "text": [
      "\n",
      "ec2_input_path: /volumes/data/Y2019M04D15_RH_GA_Aqueduct_Results_V01/input_V03\n",
      "ec2_output_path: /volumes/data/Y2019M04D15_RH_GA_Aqueduct_Results_V01/output_V03\n",
      "s3_output_path: s3://wri-projects/Aqueduct30/finalData/Y2019M04D15_RH_GA_Aqueduct_Results_V01/output_V03/\n"
     ]
    }
   ],
   "source": [
    "\"\"\"Share country aggregation results with external party in multiple formats. \n",
    "-------------------------------------------------------------------------------\n",
    "\n",
    "Merge country and province datasets into consistent database. \n",
    "\n",
    "Please note there is an inconsistency in GADM. Countries with one province\n",
    "disappear in level 1. \n",
    "\n",
    "We merge three data sources:\n",
    "\n",
    "Indicators based on PCR-GLOBWB 2: Baseline water stress, baseline water \n",
    "depletion, interannual variability and seasonal variability.\n",
    "\n",
    "drought risk\n",
    "\n",
    "riverine flood risk\n",
    "\n",
    "Author: Rutger Hofste\n",
    "Date: 20190415\n",
    "Kernel: python35\n",
    "Docker: rutgerhofste/gisdocker:ubuntu16.04\n",
    "\n",
    "\"\"\"\n",
    "\n",
    "SCRIPT_NAME = \"Y2019M04D15_RH_GA_Aqueduct_Results_V01\"\n",
    "OUTPUT_VERSION = 3\n",
    "\n",
    "\n",
    "BQ_PROJECT_ID = \"aqueduct30\"\n",
    "BQ_DATASET_NAME = \"aqueduct30v01\"\n",
    "\n",
    "BQ_INPUT_TABLE_NAME = {}\n",
    "BQ_INPUT_TABLE_NAME[\"country\"] = {}\n",
    "BQ_INPUT_TABLE_NAME[\"country\"][\"PCRGLOBWB\"] = \"y2019m01d28_rh_ga_zonal_stats_table_v01_country_v13\"\n",
    "BQ_INPUT_TABLE_NAME[\"country\"][\"drought\"] = \"y2019m04d11_rh_ga_drr_zonal_stats_table_v01_country_v06\"\n",
    "BQ_INPUT_TABLE_NAME[\"country\"][\"flood\"] = \"y2019m04d11_rh_ga_rfr_post_process_v01_country_v05\"\n",
    "\n",
    "\n",
    "BQ_INPUT_TABLE_NAME[\"province\"] = {}\n",
    "BQ_INPUT_TABLE_NAME[\"province\"][\"PCRGLOBWB\"]  = \"y2019m01d28_rh_ga_zonal_stats_table_v01_province_v13\"\n",
    "BQ_INPUT_TABLE_NAME[\"province\"][\"drought\"] = \"y2019m04d11_rh_ga_drr_zonal_stats_table_v01_province_v06\"\n",
    "BQ_INPUT_TABLE_NAME[\"province\"][\"flood\"] = \"y2019m04d11_rh_ga_rfr_post_process_v01_province_v05\"\n",
    "\n",
    "BQ_OUTPUT_TABLE_NAME = \"{}_v{:02.0f}\".format(SCRIPT_NAME,OUTPUT_VERSION).lower()\n",
    "\n",
    "ec2_input_path = \"/volumes/data/{}/input_V{:02.0f}\".format(SCRIPT_NAME,OUTPUT_VERSION) \n",
    "ec2_output_path = \"/volumes/data/{}/output_V{:02.0f}\".format(SCRIPT_NAME,OUTPUT_VERSION) \n",
    "\n",
    "s3_output_path = \"s3://wri-projects/Aqueduct30/finalData/{}/output_V{:02.0f}/\".format(SCRIPT_NAME,OUTPUT_VERSION)\n",
    "\n",
    "print(\"\\nec2_input_path: \" +  ec2_input_path + \n",
    "      \"\\nec2_output_path: \" + ec2_output_path + \n",
    "      \"\\ns3_output_path: \" + s3_output_path  )"
   ]
  },
  {
   "cell_type": "code",
   "execution_count": 2,
   "metadata": {},
   "outputs": [
    {
     "name": "stdout",
     "output_type": "stream",
     "text": [
      "Y2019M04D26 UTC 15:02\n"
     ]
    },
    {
     "data": {
      "text/plain": [
       "'3.5.4 |Anaconda, Inc.| (default, Nov 20 2017, 18:44:38) \\n[GCC 7.2.0]'"
      ]
     },
     "execution_count": 2,
     "metadata": {},
     "output_type": "execute_result"
    }
   ],
   "source": [
    "import time, datetime, sys\n",
    "dateString = time.strftime(\"Y%YM%mD%d\")\n",
    "timeString = time.strftime(\"UTC %H:%M\")\n",
    "start = datetime.datetime.now()\n",
    "print(dateString,timeString)\n",
    "sys.version"
   ]
  },
  {
   "cell_type": "code",
   "execution_count": 3,
   "metadata": {},
   "outputs": [],
   "source": [
    "!rm -r {ec2_input_path}\n",
    "!rm -r {ec2_output_path}\n",
    "!mkdir -p {ec2_input_path}\n",
    "!mkdir -p {ec2_output_path}"
   ]
  },
  {
   "cell_type": "code",
   "execution_count": 4,
   "metadata": {
    "collapsed": true
   },
   "outputs": [],
   "source": [
    "import os\n",
    "import numpy as np\n",
    "import pandas as pd\n",
    "from google.cloud import bigquery\n",
    "\n",
    "os.environ[\"GOOGLE_APPLICATION_CREDENTIALS\"] = \"/.google.json\"\n",
    "os.environ[\"GOOGLE_CLOUD_PROJECT\"] = \"aqueduct30\"\n",
    "client = bigquery.Client(project=BQ_PROJECT_ID)"
   ]
  },
  {
   "cell_type": "code",
   "execution_count": 5,
   "metadata": {},
   "outputs": [
    {
     "name": "stdout",
     "output_type": "stream",
     "text": [
      "province PCRGLOBWB y2019m01d28_rh_ga_zonal_stats_table_v01_province_v13\n",
      "province flood y2019m04d11_rh_ga_rfr_post_process_v01_province_v05\n",
      "province drought y2019m04d11_rh_ga_drr_zonal_stats_table_v01_province_v06\n"
     ]
    },
    {
     "name": "stderr",
     "output_type": "stream",
     "text": [
      "12it [01:13,  6.10s/it]\n"
     ]
    },
    {
     "name": "stdout",
     "output_type": "stream",
     "text": [
      "country PCRGLOBWB y2019m01d28_rh_ga_zonal_stats_table_v01_country_v13\n",
      "country flood y2019m04d11_rh_ga_rfr_post_process_v01_country_v05\n",
      "country drought y2019m04d11_rh_ga_drr_zonal_stats_table_v01_country_v06\n"
     ]
    },
    {
     "name": "stderr",
     "output_type": "stream",
     "text": [
      "1it [00:06,  6.79s/it]\n"
     ]
    }
   ],
   "source": [
    "for geographic_scale, dictje  in BQ_INPUT_TABLE_NAME.items():\n",
    "    df_out = pd.DataFrame()\n",
    "    for indicator_group, table_name in dictje.items():\n",
    "        print(geographic_scale,indicator_group,table_name)\n",
    "        if geographic_scale == \"country\":\n",
    "            sql = \"\"\"\n",
    "            SELECT\n",
    "              gid_0,\n",
    "              name_0,\n",
    "              indicator_name,\n",
    "              weight,\n",
    "              score,\n",
    "              score_ranked,\n",
    "              cat,\n",
    "              label,\n",
    "              sum_weights,\n",
    "              sum_weighted_indicator,\n",
    "              count_valid,\n",
    "              fraction_valid\n",
    "            FROM\n",
    "              `{}.{}.{}`\n",
    "            \"\"\".format(BQ_PROJECT_ID,BQ_DATASET_NAME,table_name)\n",
    "        elif geographic_scale == \"province\":\n",
    "            sql = \"\"\"\n",
    "            SELECT\n",
    "              gid_1,\n",
    "              name_1,\n",
    "              gid_0,\n",
    "              name_0,\n",
    "              indicator_name,\n",
    "              weight,\n",
    "              score,\n",
    "              score_ranked,\n",
    "              cat,\n",
    "              label,\n",
    "              sum_weights,\n",
    "              sum_weighted_indicator,\n",
    "              count_valid,\n",
    "              fraction_valid\n",
    "            FROM\n",
    "              `{}.{}.{}`\n",
    "            \"\"\".format(BQ_PROJECT_ID,BQ_DATASET_NAME,table_name)\n",
    "        df = pd.read_gbq(query=sql,\n",
    "                         project_id =BQ_PROJECT_ID,\n",
    "                         dialect=\"standard\")\n",
    "        \n",
    "        df_out = df_out.append(df)\n",
    "        \n",
    "    output_file_path_ec2 = \"{}/{}_{}_V{:02.0f}.csv\".format(ec2_output_path,SCRIPT_NAME,geographic_scale,OUTPUT_VERSION)\n",
    "    df_out.to_csv(path_or_buf=output_file_path_ec2,index=True)\n",
    "    destination_table = \"{}.{}_{}_V{:02.0f}\".format(BQ_DATASET_NAME,SCRIPT_NAME,geographic_scale,OUTPUT_VERSION).lower()\n",
    "\n",
    "    df_out.to_gbq(destination_table=destination_table,\n",
    "                  project_id=BQ_PROJECT_ID,\n",
    "                  if_exists=\"replace\")\n",
    "\n",
    "        "
   ]
  },
  {
   "cell_type": "code",
   "execution_count": 6,
   "metadata": {},
   "outputs": [
    {
     "name": "stdout",
     "output_type": "stream",
     "text": [
      "upload: ../../../../data/Y2019M04D15_RH_GA_Aqueduct_Results_V01/output_V03/Y2019M04D15_RH_GA_Aqueduct_Results_V01_country_V03.csv to s3://wri-projects/Aqueduct30/finalData/Y2019M04D15_RH_GA_Aqueduct_Results_V01/output_V03/Y2019M04D15_RH_GA_Aqueduct_Results_V01_country_V03.csv\n",
      "upload: ../../../../data/Y2019M04D15_RH_GA_Aqueduct_Results_V01/output_V03/Y2019M04D15_RH_GA_Aqueduct_Results_V01_province_V03.csv to s3://wri-projects/Aqueduct30/finalData/Y2019M04D15_RH_GA_Aqueduct_Results_V01/output_V03/Y2019M04D15_RH_GA_Aqueduct_Results_V01_province_V03.csv\n"
     ]
    }
   ],
   "source": [
    "!aws s3 cp {ec2_output_path} {s3_output_path} --recursive"
   ]
  },
  {
   "cell_type": "code",
   "execution_count": 7,
   "metadata": {},
   "outputs": [
    {
     "name": "stdout",
     "output_type": "stream",
     "text": [
      "0:02:19.014898\n"
     ]
    }
   ],
   "source": [
    "end = datetime.datetime.now()\n",
    "elapsed = end - start\n",
    "print(elapsed)"
   ]
  },
  {
   "cell_type": "markdown",
   "metadata": {},
   "source": [
    "Previous runs:  \n",
    "0:01:55.346004\n"
   ]
  }
 ],
 "metadata": {
  "kernelspec": {
   "display_name": "Python 35",
   "language": "python",
   "name": "python35"
  },
  "language_info": {
   "codemirror_mode": {
    "name": "ipython",
    "version": 3
   },
   "file_extension": ".py",
   "mimetype": "text/x-python",
   "name": "python",
   "nbconvert_exporter": "python",
   "pygments_lexer": "ipython3",
   "version": "3.5.4"
  }
 },
 "nbformat": 4,
 "nbformat_minor": 2
}
