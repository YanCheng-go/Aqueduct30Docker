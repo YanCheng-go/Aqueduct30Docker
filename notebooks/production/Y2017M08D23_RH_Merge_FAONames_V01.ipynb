{
 "cells": [
  {
   "cell_type": "code",
   "execution_count": 1,
   "metadata": {},
   "outputs": [
    {
     "name": "stdout",
     "output_type": "stream",
     "text": [
      "Input ec2: /volumes/data/Y2017M08D23_RH_Merge_FAONames_V01/input_V02 \n",
      "Input s3 raw: s3://wri-projects/Aqueduct30/rawData/FAO/namedHydrobasins/ \n",
      "Input s3: s3://wri-projects/Aqueduct30/processData/Y2017M08D23_RH_Merge_FAONames_V01/input_V02/ \n",
      "Output ec2: /volumes/data/Y2017M08D23_RH_Merge_FAONames_V01/output_V02 \n",
      "Output s3: s3://wri-projects/Aqueduct30/processData/Y2017M08D23_RH_Merge_FAONames_V01/output_V02/\n"
     ]
    }
   ],
   "source": [
    "\"\"\" Merge the FAO shapefiles into one Shapefile (UTF-8).\n",
    "-------------------------------------------------------------------------------\n",
    "\n",
    "Create a shapefile with the merged files of the FAO database with basin names.\n",
    "\n",
    "Author: Rutger Hofste\n",
    "Date: 20170823\n",
    "Kernel: python27 -> python35\n",
    "Docker: rutgerhofste/gisdocker:ubuntu16.04\n",
    "\n",
    "Args:\n",
    "    TESTING (Boolean) : Toggle testing case.\n",
    "    SCRIPT_NAME (string) : Script name.\n",
    "    OUTPUT_VERSION (integer) : output version.\n",
    "    DATABASE_ENDPOINT (string) : RDS or postGreSQL endpoint.\n",
    "    DATABASE_NAME (string) : Database name.\n",
    "    TABLE_NAME_AREA_30SPFAF06 (string) : Table name used for areas. Must exist\n",
    "        on same database as used in rest of script.\n",
    "    S3_INPUT_PATH_RIVERDISCHARGE (string) : AWS S3 input path for \n",
    "        riverdischarge.    \n",
    "    S3_INPUT_PATH_DEMAND (string) : AWS S3 input path for \n",
    "        demand.    \n",
    "\n",
    "\"\"\"\n",
    "\n",
    "SCRIPT_NAME = \"Y2017M08D23_RH_Merge_FAONames_V01\"\n",
    "OUTPUT_VERSION  = 2\n",
    "\n",
    "S3_RAW_INPUT_PATH = \"s3://wri-projects/Aqueduct30/rawData/FAO/namedHydrobasins/\"\n",
    "\n",
    "\n",
    "#S3_OUTPUT_PATH = \"s3://wri-projects/Aqueduct30/processData/Y2017M08D23_RH_Merge_FAONames_V01/output/\"\n",
    "#EC2_INPUT_PATH = \"/volumes/data/Y2017M08D23_RH_Merge_FAONames_V01/input/\"\n",
    "#EC2_OUTPUT_PATH = \"/volumes/data/Y2017M08D23_RH_Merge_FAONames_V01/output/\"\n",
    "\n",
    "ec2_input_path = \"/volumes/data/{}/input_V{:02.0f}\".format(SCRIPT_NAME,OUTPUT_VERSION)\n",
    "ec2_output_path = \"/volumes/data/{}/output_V{:02.0f}\".format(SCRIPT_NAME,OUTPUT_VERSION)\n",
    "s3_input_path = \"s3://wri-projects/Aqueduct30/processData/{}/input_V{:02.0f}/\".format(SCRIPT_NAME,OUTPUT_VERSION)\n",
    "s3_output_path = \"s3://wri-projects/Aqueduct30/processData/{}/output_V{:02.0f}/\".format(SCRIPT_NAME,OUTPUT_VERSION)\n",
    "\n",
    "print(\"Input ec2: \" + ec2_input_path,\n",
    "      \"\\nInput s3 raw: \" +  S3_RAW_INPUT_PATH,\n",
    "      \"\\nInput s3: \" + s3_input_path ,\n",
    "      \"\\nOutput ec2: \" + ec2_output_path,\n",
    "      \"\\nOutput s3: \" + s3_output_path)\n",
    "\n"
   ]
  },
  {
   "cell_type": "code",
   "execution_count": 2,
   "metadata": {},
   "outputs": [
    {
     "name": "stdout",
     "output_type": "stream",
     "text": [
      "Y2018M05D24 UTC 09:52\n"
     ]
    },
    {
     "data": {
      "text/plain": [
       "'3.5.4 |Anaconda, Inc.| (default, Nov 20 2017, 18:44:38) \\n[GCC 7.2.0]'"
      ]
     },
     "execution_count": 2,
     "metadata": {},
     "output_type": "execute_result"
    }
   ],
   "source": [
    "import time, datetime, sys\n",
    "dateString = time.strftime(\"Y%YM%mD%d\")\n",
    "timeString = time.strftime(\"UTC %H:%M\")\n",
    "start = datetime.datetime.now()\n",
    "print(dateString,timeString)\n",
    "sys.version"
   ]
  },
  {
   "cell_type": "markdown",
   "metadata": {},
   "source": [
    "Data URL's, as you can see there is an error with the North America file on FAO's server. The data was downloaded using DownThemAll and stored on S3 "
   ]
  },
  {
   "cell_type": "markdown",
   "metadata": {},
   "source": [
    "| Geography | URL |\n",
    "|:---|:---|\n",
    "|Southeast Asia | http://www.fao.org/geonetwork/srv/en/main.home?uuid=ee616dc4-3118-4d67-ba05-6e93dd3e962f |\n",
    "|Near East | http://www.fao.org/geonetwork/srv/en/main.home?uuid=7ae00a40-642b-4637-b1d3-ffacb13360db |\n",
    "|Australia & New Zealand | http://www.fao.org/geonetwork/srv/en/main.home?uuid=a1a0e9ee-5062-4950-a6b9-fdd2284b2607 |\n",
    "|Africa | http://www.fao.org/geonetwork/srv/en/main.home?uuid=e54e2014-d23b-402b-8e73-c827628d17f4 |\n",
    "|Europe | http://www.fao.org/geonetwork/srv/en/main.home?uuid=1849e279-67bd-4e6f-a789-9918925a11a1 |\n",
    "|South America | http://www.fao.org/geonetwork/srv/en/main.home?uuid=d47ba28e-31be-470d-81cf-ad3d5594fafd |\n",
    "|Central America | http://www.fao.org/geonetwork/srv/en/main.home?uuid=bc9139e6-ccc9-4ded-a0c4-93b91cb54dde |\n",
    "|North America | http://ref.data.fao.org/map?entryId=b06dc828-3166-461a-a17d-26f4dc9f9819 |"
   ]
  },
  {
   "cell_type": "code",
   "execution_count": 3,
   "metadata": {},
   "outputs": [
    {
     "name": "stdout",
     "output_type": "stream",
     "text": [
      "rm: cannot remove '/volumes/data/Y2017M08D23_RH_Merge_FAONames_V01/input_V02': No such file or directory\n",
      "rm: cannot remove '/volumes/data/Y2017M08D23_RH_Merge_FAONames_V01/output_V02': No such file or directory\n"
     ]
    }
   ],
   "source": [
    "!rm -r {ec2_input_path} \n",
    "!rm -r {ec2_output_path} \n",
    "!mkdir -p {ec2_input_path} \n",
    "!mkdir -p {ec2_output_path} "
   ]
  },
  {
   "cell_type": "code",
   "execution_count": 4,
   "metadata": {
    "collapsed": true
   },
   "outputs": [],
   "source": [
    "import os\n",
    "import fiona"
   ]
  },
  {
   "cell_type": "markdown",
   "metadata": {},
   "source": [
    "Copy to working file directory on S3 and EC2"
   ]
  },
  {
   "cell_type": "code",
   "execution_count": 5,
   "metadata": {},
   "outputs": [
    {
     "name": "stdout",
     "output_type": "stream",
     "text": [
      "copy: s3://wri-projects/Aqueduct30/rawData/FAO/namedHydrobasins/hydrobasins_africa.prj to s3://wri-projects/Aqueduct30/processData/Y2017M08D23_RH_Merge_FAONames_V01/input_V02/hydrobasins_africa.prj\n",
      "copy: s3://wri-projects/Aqueduct30/rawData/FAO/namedHydrobasins/hydrobasins_africa.sbn to s3://wri-projects/Aqueduct30/processData/Y2017M08D23_RH_Merge_FAONames_V01/input_V02/hydrobasins_africa.sbn\n",
      "copy: s3://wri-projects/Aqueduct30/rawData/FAO/namedHydrobasins/hydrobasins_africa.shp.xml to s3://wri-projects/Aqueduct30/processData/Y2017M08D23_RH_Merge_FAONames_V01/input_V02/hydrobasins_africa.shp.xml\n",
      "copy: s3://wri-projects/Aqueduct30/rawData/FAO/namedHydrobasins/hydrobasins_africa.shx to s3://wri-projects/Aqueduct30/processData/Y2017M08D23_RH_Merge_FAONames_V01/input_V02/hydrobasins_africa.shx\n",
      "copy: s3://wri-projects/Aqueduct30/rawData/FAO/namedHydrobasins/hydrobasins_africa.sbx to s3://wri-projects/Aqueduct30/processData/Y2017M08D23_RH_Merge_FAONames_V01/input_V02/hydrobasins_africa.sbx\n",
      "copy: s3://wri-projects/Aqueduct30/rawData/FAO/namedHydrobasins/hydrobasins_africa.lyr to s3://wri-projects/Aqueduct30/processData/Y2017M08D23_RH_Merge_FAONames_V01/input_V02/hydrobasins_africa.lyr\n",
      "copy: s3://wri-projects/Aqueduct30/rawData/FAO/namedHydrobasins/hydrobasins_africa.dbf to s3://wri-projects/Aqueduct30/processData/Y2017M08D23_RH_Merge_FAONames_V01/input_V02/hydrobasins_africa.dbf\n",
      "copy: s3://wri-projects/Aqueduct30/rawData/FAO/namedHydrobasins/hydrobasins_asia.prj to s3://wri-projects/Aqueduct30/processData/Y2017M08D23_RH_Merge_FAONames_V01/input_V02/hydrobasins_asia.prj\n",
      "copy: s3://wri-projects/Aqueduct30/rawData/FAO/namedHydrobasins/hydrobasins_asia.lyr to s3://wri-projects/Aqueduct30/processData/Y2017M08D23_RH_Merge_FAONames_V01/input_V02/hydrobasins_asia.lyr\n",
      "copy: s3://wri-projects/Aqueduct30/rawData/FAO/namedHydrobasins/hydrobasins_asia.sbx to s3://wri-projects/Aqueduct30/processData/Y2017M08D23_RH_Merge_FAONames_V01/input_V02/hydrobasins_asia.sbx\n",
      "copy: s3://wri-projects/Aqueduct30/rawData/FAO/namedHydrobasins/hydrobasins_asia.sbn to s3://wri-projects/Aqueduct30/processData/Y2017M08D23_RH_Merge_FAONames_V01/input_V02/hydrobasins_asia.sbn\n",
      "copy: s3://wri-projects/Aqueduct30/rawData/FAO/namedHydrobasins/hydrobasins_asia.dbf to s3://wri-projects/Aqueduct30/processData/Y2017M08D23_RH_Merge_FAONames_V01/input_V02/hydrobasins_asia.dbf\n",
      "copy: s3://wri-projects/Aqueduct30/rawData/FAO/namedHydrobasins/hydrobasins_asia.shp.xml to s3://wri-projects/Aqueduct30/processData/Y2017M08D23_RH_Merge_FAONames_V01/input_V02/hydrobasins_asia.shp.xml\n",
      "copy: s3://wri-projects/Aqueduct30/rawData/FAO/namedHydrobasins/hydrobasins_asia.shx to s3://wri-projects/Aqueduct30/processData/Y2017M08D23_RH_Merge_FAONames_V01/input_V02/hydrobasins_asia.shx\n",
      "copy: s3://wri-projects/Aqueduct30/rawData/FAO/namedHydrobasins/hydrobasins_austpacific.dbf to s3://wri-projects/Aqueduct30/processData/Y2017M08D23_RH_Merge_FAONames_V01/input_V02/hydrobasins_austpacific.dbf\n",
      "copy: s3://wri-projects/Aqueduct30/rawData/FAO/namedHydrobasins/hydrobasins_austpacific.prj to s3://wri-projects/Aqueduct30/processData/Y2017M08D23_RH_Merge_FAONames_V01/input_V02/hydrobasins_austpacific.prj\n",
      "copy: s3://wri-projects/Aqueduct30/rawData/FAO/namedHydrobasins/hydrobasins_austpacific.lyr to s3://wri-projects/Aqueduct30/processData/Y2017M08D23_RH_Merge_FAONames_V01/input_V02/hydrobasins_austpacific.lyr\n",
      "copy: s3://wri-projects/Aqueduct30/rawData/FAO/namedHydrobasins/hydrobasins_austpacific.sbx to s3://wri-projects/Aqueduct30/processData/Y2017M08D23_RH_Merge_FAONames_V01/input_V02/hydrobasins_austpacific.sbx\n",
      "copy: s3://wri-projects/Aqueduct30/rawData/FAO/namedHydrobasins/hydrobasins_austpacific.sbn to s3://wri-projects/Aqueduct30/processData/Y2017M08D23_RH_Merge_FAONames_V01/input_V02/hydrobasins_austpacific.sbn\n",
      "copy: s3://wri-projects/Aqueduct30/rawData/FAO/namedHydrobasins/hydrobasins_austpacific.shp.xml to s3://wri-projects/Aqueduct30/processData/Y2017M08D23_RH_Merge_FAONames_V01/input_V02/hydrobasins_austpacific.shp.xml\n",
      "copy: s3://wri-projects/Aqueduct30/rawData/FAO/namedHydrobasins/hydrobasins_austpacific.shx to s3://wri-projects/Aqueduct30/processData/Y2017M08D23_RH_Merge_FAONames_V01/input_V02/hydrobasins_austpacific.shx\n",
      "copy: s3://wri-projects/Aqueduct30/rawData/FAO/namedHydrobasins/hydrobasins_centralam.dbf to s3://wri-projects/Aqueduct30/processData/Y2017M08D23_RH_Merge_FAONames_V01/input_V02/hydrobasins_centralam.dbf\n",
      "copy: s3://wri-projects/Aqueduct30/rawData/FAO/namedHydrobasins/hydrobasins_centralam.prj to s3://wri-projects/Aqueduct30/processData/Y2017M08D23_RH_Merge_FAONames_V01/input_V02/hydrobasins_centralam.prj\n",
      "copy: s3://wri-projects/Aqueduct30/rawData/FAO/namedHydrobasins/hydrobasins_austpacific.shp to s3://wri-projects/Aqueduct30/processData/Y2017M08D23_RH_Merge_FAONames_V01/input_V02/hydrobasins_austpacific.shp\n",
      "copy: s3://wri-projects/Aqueduct30/rawData/FAO/namedHydrobasins/hydrobasins_centralam.sbn to s3://wri-projects/Aqueduct30/processData/Y2017M08D23_RH_Merge_FAONames_V01/input_V02/hydrobasins_centralam.sbn\n",
      "copy: s3://wri-projects/Aqueduct30/rawData/FAO/namedHydrobasins/hydrobasins_centralam.lyr to s3://wri-projects/Aqueduct30/processData/Y2017M08D23_RH_Merge_FAONames_V01/input_V02/hydrobasins_centralam.lyr\n",
      "copy: s3://wri-projects/Aqueduct30/rawData/FAO/namedHydrobasins/hydrobasins_centralam.sbx to s3://wri-projects/Aqueduct30/processData/Y2017M08D23_RH_Merge_FAONames_V01/input_V02/hydrobasins_centralam.sbx\n",
      "copy: s3://wri-projects/Aqueduct30/rawData/FAO/namedHydrobasins/hydrobasins_centralam.shp.xml to s3://wri-projects/Aqueduct30/processData/Y2017M08D23_RH_Merge_FAONames_V01/input_V02/hydrobasins_centralam.shp.xml\n",
      "copy: s3://wri-projects/Aqueduct30/rawData/FAO/namedHydrobasins/hydrobasins_centralam.shx to s3://wri-projects/Aqueduct30/processData/Y2017M08D23_RH_Merge_FAONames_V01/input_V02/hydrobasins_centralam.shx\n",
      "copy: s3://wri-projects/Aqueduct30/rawData/FAO/namedHydrobasins/hydrobasins_europe.dbf to s3://wri-projects/Aqueduct30/processData/Y2017M08D23_RH_Merge_FAONames_V01/input_V02/hydrobasins_europe.dbf\n",
      "copy: s3://wri-projects/Aqueduct30/rawData/FAO/namedHydrobasins/hydrobasins_europe.prj to s3://wri-projects/Aqueduct30/processData/Y2017M08D23_RH_Merge_FAONames_V01/input_V02/hydrobasins_europe.prj\n",
      "copy: s3://wri-projects/Aqueduct30/rawData/FAO/namedHydrobasins/hydrobasins_europe.lyr to s3://wri-projects/Aqueduct30/processData/Y2017M08D23_RH_Merge_FAONames_V01/input_V02/hydrobasins_europe.lyr\n",
      "copy: s3://wri-projects/Aqueduct30/rawData/FAO/namedHydrobasins/hydrobasins_europe.shp.xml to s3://wri-projects/Aqueduct30/processData/Y2017M08D23_RH_Merge_FAONames_V01/input_V02/hydrobasins_europe.shp.xml\n",
      "copy: s3://wri-projects/Aqueduct30/rawData/FAO/namedHydrobasins/hydrobasins_europe.shx to s3://wri-projects/Aqueduct30/processData/Y2017M08D23_RH_Merge_FAONames_V01/input_V02/hydrobasins_europe.shx\n",
      "copy: s3://wri-projects/Aqueduct30/rawData/FAO/namedHydrobasins/hydrobasins_neareast.lyr to s3://wri-projects/Aqueduct30/processData/Y2017M08D23_RH_Merge_FAONames_V01/input_V02/hydrobasins_neareast.lyr\n",
      "copy: s3://wri-projects/Aqueduct30/rawData/FAO/namedHydrobasins/hydrobasins_centralam.shp to s3://wri-projects/Aqueduct30/processData/Y2017M08D23_RH_Merge_FAONames_V01/input_V02/hydrobasins_centralam.shp\n",
      "copy: s3://wri-projects/Aqueduct30/rawData/FAO/namedHydrobasins/hydrobasins_neareast.dbf to s3://wri-projects/Aqueduct30/processData/Y2017M08D23_RH_Merge_FAONames_V01/input_V02/hydrobasins_neareast.dbf\n",
      "copy: s3://wri-projects/Aqueduct30/rawData/FAO/namedHydrobasins/hydrobasins_neareast.prj to s3://wri-projects/Aqueduct30/processData/Y2017M08D23_RH_Merge_FAONames_V01/input_V02/hydrobasins_neareast.prj\n",
      "copy: s3://wri-projects/Aqueduct30/rawData/FAO/namedHydrobasins/hydrobasins_neareast.sbn to s3://wri-projects/Aqueduct30/processData/Y2017M08D23_RH_Merge_FAONames_V01/input_V02/hydrobasins_neareast.sbn\n",
      "copy: s3://wri-projects/Aqueduct30/rawData/FAO/namedHydrobasins/hydrobasins_africa.shp to s3://wri-projects/Aqueduct30/processData/Y2017M08D23_RH_Merge_FAONames_V01/input_V02/hydrobasins_africa.shp\n",
      "copy: s3://wri-projects/Aqueduct30/rawData/FAO/namedHydrobasins/hydrobasins_neareast.shp.xml to s3://wri-projects/Aqueduct30/processData/Y2017M08D23_RH_Merge_FAONames_V01/input_V02/hydrobasins_neareast.shp.xml\n"
     ]
    },
    {
     "name": "stdout",
     "output_type": "stream",
     "text": [
      "copy: s3://wri-projects/Aqueduct30/rawData/FAO/namedHydrobasins/hydrobasins_neareast.sbx to s3://wri-projects/Aqueduct30/processData/Y2017M08D23_RH_Merge_FAONames_V01/input_V02/hydrobasins_neareast.sbx\n",
      "copy: s3://wri-projects/Aqueduct30/rawData/FAO/namedHydrobasins/hydrobasins_neareast.shx to s3://wri-projects/Aqueduct30/processData/Y2017M08D23_RH_Merge_FAONames_V01/input_V02/hydrobasins_neareast.shx\n",
      "copy: s3://wri-projects/Aqueduct30/rawData/FAO/namedHydrobasins/hydrobasins_asia.shp to s3://wri-projects/Aqueduct30/processData/Y2017M08D23_RH_Merge_FAONames_V01/input_V02/hydrobasins_asia.shp\n",
      "copy: s3://wri-projects/Aqueduct30/rawData/FAO/namedHydrobasins/hydrobasins_northam.lyr to s3://wri-projects/Aqueduct30/processData/Y2017M08D23_RH_Merge_FAONames_V01/input_V02/hydrobasins_northam.lyr\n",
      "copy: s3://wri-projects/Aqueduct30/rawData/FAO/namedHydrobasins/hydrobasins_northam.dbf to s3://wri-projects/Aqueduct30/processData/Y2017M08D23_RH_Merge_FAONames_V01/input_V02/hydrobasins_northam.dbf\n",
      "copy: s3://wri-projects/Aqueduct30/rawData/FAO/namedHydrobasins/hydrobasins_northam.prj to s3://wri-projects/Aqueduct30/processData/Y2017M08D23_RH_Merge_FAONames_V01/input_V02/hydrobasins_northam.prj\n",
      "copy: s3://wri-projects/Aqueduct30/rawData/FAO/namedHydrobasins/hydrobasins_northam.shp.xml to s3://wri-projects/Aqueduct30/processData/Y2017M08D23_RH_Merge_FAONames_V01/input_V02/hydrobasins_northam.shp.xml\n",
      "copy: s3://wri-projects/Aqueduct30/rawData/FAO/namedHydrobasins/hydrobasins_northam.shx to s3://wri-projects/Aqueduct30/processData/Y2017M08D23_RH_Merge_FAONames_V01/input_V02/hydrobasins_northam.shx\n",
      "copy: s3://wri-projects/Aqueduct30/rawData/FAO/namedHydrobasins/hydrobasins_southam.dbf to s3://wri-projects/Aqueduct30/processData/Y2017M08D23_RH_Merge_FAONames_V01/input_V02/hydrobasins_southam.dbf\n",
      "copy: s3://wri-projects/Aqueduct30/rawData/FAO/namedHydrobasins/hydrobasins_southam.lyr to s3://wri-projects/Aqueduct30/processData/Y2017M08D23_RH_Merge_FAONames_V01/input_V02/hydrobasins_southam.lyr\n",
      "copy: s3://wri-projects/Aqueduct30/rawData/FAO/namedHydrobasins/hydrobasins_europe.shp to s3://wri-projects/Aqueduct30/processData/Y2017M08D23_RH_Merge_FAONames_V01/input_V02/hydrobasins_europe.shp\n",
      "copy: s3://wri-projects/Aqueduct30/rawData/FAO/namedHydrobasins/hydrobasins_southam.prj to s3://wri-projects/Aqueduct30/processData/Y2017M08D23_RH_Merge_FAONames_V01/input_V02/hydrobasins_southam.prj\n",
      "copy: s3://wri-projects/Aqueduct30/rawData/FAO/namedHydrobasins/hydrobasins_southam.sbn to s3://wri-projects/Aqueduct30/processData/Y2017M08D23_RH_Merge_FAONames_V01/input_V02/hydrobasins_southam.sbn\n",
      "copy: s3://wri-projects/Aqueduct30/rawData/FAO/namedHydrobasins/hydrobasins_southam.sbx to s3://wri-projects/Aqueduct30/processData/Y2017M08D23_RH_Merge_FAONames_V01/input_V02/hydrobasins_southam.sbx\n",
      "copy: s3://wri-projects/Aqueduct30/rawData/FAO/namedHydrobasins/hydrobasins_southam.shp.xml to s3://wri-projects/Aqueduct30/processData/Y2017M08D23_RH_Merge_FAONames_V01/input_V02/hydrobasins_southam.shp.xml\n",
      "copy: s3://wri-projects/Aqueduct30/rawData/FAO/namedHydrobasins/hydrobasins_southam.shx to s3://wri-projects/Aqueduct30/processData/Y2017M08D23_RH_Merge_FAONames_V01/input_V02/hydrobasins_southam.shx\n",
      "copy: s3://wri-projects/Aqueduct30/rawData/FAO/namedHydrobasins/hydrobasins_neareast.shp to s3://wri-projects/Aqueduct30/processData/Y2017M08D23_RH_Merge_FAONames_V01/input_V02/hydrobasins_neareast.shp\n",
      "copy: s3://wri-projects/Aqueduct30/rawData/FAO/namedHydrobasins/hydrobasins_southam.shp to s3://wri-projects/Aqueduct30/processData/Y2017M08D23_RH_Merge_FAONames_V01/input_V02/hydrobasins_southam.shp\n",
      "copy: s3://wri-projects/Aqueduct30/rawData/FAO/namedHydrobasins/hydrobasins_northam.shp to s3://wri-projects/Aqueduct30/processData/Y2017M08D23_RH_Merge_FAONames_V01/input_V02/hydrobasins_northam.shp\n"
     ]
    }
   ],
   "source": [
    "!aws s3 cp {S3_RAW_INPUT_PATH} {s3_input_path} --recursive"
   ]
  },
  {
   "cell_type": "code",
   "execution_count": 6,
   "metadata": {},
   "outputs": [
    {
     "name": "stdout",
     "output_type": "stream",
     "text": [
      "download: s3://wri-projects/Aqueduct30/processData/Y2017M08D23_RH_Merge_FAONames_V01/input_V02/hydrobasins_africa.shx to ../../../../data/Y2017M08D23_RH_Merge_FAONames_V01/input_V02/hydrobasins_africa.shx\n",
      "download: s3://wri-projects/Aqueduct30/processData/Y2017M08D23_RH_Merge_FAONames_V01/input_V02/hydrobasins_africa.shp.xml to ../../../../data/Y2017M08D23_RH_Merge_FAONames_V01/input_V02/hydrobasins_africa.shp.xml\n",
      "download: s3://wri-projects/Aqueduct30/processData/Y2017M08D23_RH_Merge_FAONames_V01/input_V02/hydrobasins_africa.sbx to ../../../../data/Y2017M08D23_RH_Merge_FAONames_V01/input_V02/hydrobasins_africa.sbx\n",
      "download: s3://wri-projects/Aqueduct30/processData/Y2017M08D23_RH_Merge_FAONames_V01/input_V02/hydrobasins_africa.prj to ../../../../data/Y2017M08D23_RH_Merge_FAONames_V01/input_V02/hydrobasins_africa.prj\n",
      "download: s3://wri-projects/Aqueduct30/processData/Y2017M08D23_RH_Merge_FAONames_V01/input_V02/hydrobasins_africa.lyr to ../../../../data/Y2017M08D23_RH_Merge_FAONames_V01/input_V02/hydrobasins_africa.lyr\n",
      "download: s3://wri-projects/Aqueduct30/processData/Y2017M08D23_RH_Merge_FAONames_V01/input_V02/hydrobasins_asia.lyr to ../../../../data/Y2017M08D23_RH_Merge_FAONames_V01/input_V02/hydrobasins_asia.lyr\n",
      "download: s3://wri-projects/Aqueduct30/processData/Y2017M08D23_RH_Merge_FAONames_V01/input_V02/hydrobasins_asia.prj to ../../../../data/Y2017M08D23_RH_Merge_FAONames_V01/input_V02/hydrobasins_asia.prj\n",
      "download: s3://wri-projects/Aqueduct30/processData/Y2017M08D23_RH_Merge_FAONames_V01/input_V02/hydrobasins_africa.sbn to ../../../../data/Y2017M08D23_RH_Merge_FAONames_V01/input_V02/hydrobasins_africa.sbn\n",
      "download: s3://wri-projects/Aqueduct30/processData/Y2017M08D23_RH_Merge_FAONames_V01/input_V02/hydrobasins_asia.sbx to ../../../../data/Y2017M08D23_RH_Merge_FAONames_V01/input_V02/hydrobasins_asia.sbx\n",
      "download: s3://wri-projects/Aqueduct30/processData/Y2017M08D23_RH_Merge_FAONames_V01/input_V02/hydrobasins_asia.shp.xml to ../../../../data/Y2017M08D23_RH_Merge_FAONames_V01/input_V02/hydrobasins_asia.shp.xml\n",
      "download: s3://wri-projects/Aqueduct30/processData/Y2017M08D23_RH_Merge_FAONames_V01/input_V02/hydrobasins_asia.sbn to ../../../../data/Y2017M08D23_RH_Merge_FAONames_V01/input_V02/hydrobasins_asia.sbn\n",
      "download: s3://wri-projects/Aqueduct30/processData/Y2017M08D23_RH_Merge_FAONames_V01/input_V02/hydrobasins_asia.shx to ../../../../data/Y2017M08D23_RH_Merge_FAONames_V01/input_V02/hydrobasins_asia.shx\n",
      "download: s3://wri-projects/Aqueduct30/processData/Y2017M08D23_RH_Merge_FAONames_V01/input_V02/hydrobasins_austpacific.lyr to ../../../../data/Y2017M08D23_RH_Merge_FAONames_V01/input_V02/hydrobasins_austpacific.lyr\n",
      "download: s3://wri-projects/Aqueduct30/processData/Y2017M08D23_RH_Merge_FAONames_V01/input_V02/hydrobasins_austpacific.sbn to ../../../../data/Y2017M08D23_RH_Merge_FAONames_V01/input_V02/hydrobasins_austpacific.sbn\n",
      "download: s3://wri-projects/Aqueduct30/processData/Y2017M08D23_RH_Merge_FAONames_V01/input_V02/hydrobasins_africa.dbf to ../../../../data/Y2017M08D23_RH_Merge_FAONames_V01/input_V02/hydrobasins_africa.dbf\n",
      "download: s3://wri-projects/Aqueduct30/processData/Y2017M08D23_RH_Merge_FAONames_V01/input_V02/hydrobasins_austpacific.prj to ../../../../data/Y2017M08D23_RH_Merge_FAONames_V01/input_V02/hydrobasins_austpacific.prj\n",
      "download: s3://wri-projects/Aqueduct30/processData/Y2017M08D23_RH_Merge_FAONames_V01/input_V02/hydrobasins_austpacific.sbx to ../../../../data/Y2017M08D23_RH_Merge_FAONames_V01/input_V02/hydrobasins_austpacific.sbx\n",
      "download: s3://wri-projects/Aqueduct30/processData/Y2017M08D23_RH_Merge_FAONames_V01/input_V02/hydrobasins_austpacific.dbf to ../../../../data/Y2017M08D23_RH_Merge_FAONames_V01/input_V02/hydrobasins_austpacific.dbf\n",
      "download: s3://wri-projects/Aqueduct30/processData/Y2017M08D23_RH_Merge_FAONames_V01/input_V02/hydrobasins_austpacific.shp.xml to ../../../../data/Y2017M08D23_RH_Merge_FAONames_V01/input_V02/hydrobasins_austpacific.shp.xml\n",
      "download: s3://wri-projects/Aqueduct30/processData/Y2017M08D23_RH_Merge_FAONames_V01/input_V02/hydrobasins_austpacific.shx to ../../../../data/Y2017M08D23_RH_Merge_FAONames_V01/input_V02/hydrobasins_austpacific.shx\n",
      "download: s3://wri-projects/Aqueduct30/processData/Y2017M08D23_RH_Merge_FAONames_V01/input_V02/hydrobasins_asia.dbf to ../../../../data/Y2017M08D23_RH_Merge_FAONames_V01/input_V02/hydrobasins_asia.dbf\n",
      "download: s3://wri-projects/Aqueduct30/processData/Y2017M08D23_RH_Merge_FAONames_V01/input_V02/hydrobasins_centralam.lyr to ../../../../data/Y2017M08D23_RH_Merge_FAONames_V01/input_V02/hydrobasins_centralam.lyr\n",
      "download: s3://wri-projects/Aqueduct30/processData/Y2017M08D23_RH_Merge_FAONames_V01/input_V02/hydrobasins_centralam.dbf to ../../../../data/Y2017M08D23_RH_Merge_FAONames_V01/input_V02/hydrobasins_centralam.dbf\n",
      "download: s3://wri-projects/Aqueduct30/processData/Y2017M08D23_RH_Merge_FAONames_V01/input_V02/hydrobasins_centralam.sbn to ../../../../data/Y2017M08D23_RH_Merge_FAONames_V01/input_V02/hydrobasins_centralam.sbn\n",
      "download: s3://wri-projects/Aqueduct30/processData/Y2017M08D23_RH_Merge_FAONames_V01/input_V02/hydrobasins_centralam.prj to ../../../../data/Y2017M08D23_RH_Merge_FAONames_V01/input_V02/hydrobasins_centralam.prj\n",
      "download: s3://wri-projects/Aqueduct30/processData/Y2017M08D23_RH_Merge_FAONames_V01/input_V02/hydrobasins_centralam.sbx to ../../../../data/Y2017M08D23_RH_Merge_FAONames_V01/input_V02/hydrobasins_centralam.sbx\n",
      "download: s3://wri-projects/Aqueduct30/processData/Y2017M08D23_RH_Merge_FAONames_V01/input_V02/hydrobasins_centralam.shp.xml to ../../../../data/Y2017M08D23_RH_Merge_FAONames_V01/input_V02/hydrobasins_centralam.shp.xml\n",
      "download: s3://wri-projects/Aqueduct30/processData/Y2017M08D23_RH_Merge_FAONames_V01/input_V02/hydrobasins_centralam.shx to ../../../../data/Y2017M08D23_RH_Merge_FAONames_V01/input_V02/hydrobasins_centralam.shx\n",
      "download: s3://wri-projects/Aqueduct30/processData/Y2017M08D23_RH_Merge_FAONames_V01/input_V02/hydrobasins_africa.shp to ../../../../data/Y2017M08D23_RH_Merge_FAONames_V01/input_V02/hydrobasins_africa.shp\n",
      "download: s3://wri-projects/Aqueduct30/processData/Y2017M08D23_RH_Merge_FAONames_V01/input_V02/hydrobasins_europe.prj to ../../../../data/Y2017M08D23_RH_Merge_FAONames_V01/input_V02/hydrobasins_europe.prj\n",
      "download: s3://wri-projects/Aqueduct30/processData/Y2017M08D23_RH_Merge_FAONames_V01/input_V02/hydrobasins_europe.lyr to ../../../../data/Y2017M08D23_RH_Merge_FAONames_V01/input_V02/hydrobasins_europe.lyr\n",
      "download: s3://wri-projects/Aqueduct30/processData/Y2017M08D23_RH_Merge_FAONames_V01/input_V02/hydrobasins_europe.shp.xml to ../../../../data/Y2017M08D23_RH_Merge_FAONames_V01/input_V02/hydrobasins_europe.shp.xml\n",
      "download: s3://wri-projects/Aqueduct30/processData/Y2017M08D23_RH_Merge_FAONames_V01/input_V02/hydrobasins_europe.dbf to ../../../../data/Y2017M08D23_RH_Merge_FAONames_V01/input_V02/hydrobasins_europe.dbf\n",
      "download: s3://wri-projects/Aqueduct30/processData/Y2017M08D23_RH_Merge_FAONames_V01/input_V02/hydrobasins_europe.shx to ../../../../data/Y2017M08D23_RH_Merge_FAONames_V01/input_V02/hydrobasins_europe.shx\n",
      "download: s3://wri-projects/Aqueduct30/processData/Y2017M08D23_RH_Merge_FAONames_V01/input_V02/hydrobasins_neareast.lyr to ../../../../data/Y2017M08D23_RH_Merge_FAONames_V01/input_V02/hydrobasins_neareast.lyr\n",
      "download: s3://wri-projects/Aqueduct30/processData/Y2017M08D23_RH_Merge_FAONames_V01/input_V02/hydrobasins_neareast.dbf to ../../../../data/Y2017M08D23_RH_Merge_FAONames_V01/input_V02/hydrobasins_neareast.dbf\n",
      "download: s3://wri-projects/Aqueduct30/processData/Y2017M08D23_RH_Merge_FAONames_V01/input_V02/hydrobasins_neareast.prj to ../../../../data/Y2017M08D23_RH_Merge_FAONames_V01/input_V02/hydrobasins_neareast.prj\n",
      "download: s3://wri-projects/Aqueduct30/processData/Y2017M08D23_RH_Merge_FAONames_V01/input_V02/hydrobasins_neareast.sbn to ../../../../data/Y2017M08D23_RH_Merge_FAONames_V01/input_V02/hydrobasins_neareast.sbn\n",
      "download: s3://wri-projects/Aqueduct30/processData/Y2017M08D23_RH_Merge_FAONames_V01/input_V02/hydrobasins_neareast.sbx to ../../../../data/Y2017M08D23_RH_Merge_FAONames_V01/input_V02/hydrobasins_neareast.sbx\n",
      "download: s3://wri-projects/Aqueduct30/processData/Y2017M08D23_RH_Merge_FAONames_V01/input_V02/hydrobasins_centralam.shp to ../../../../data/Y2017M08D23_RH_Merge_FAONames_V01/input_V02/hydrobasins_centralam.shp\n"
     ]
    },
    {
     "name": "stdout",
     "output_type": "stream",
     "text": [
      "download: s3://wri-projects/Aqueduct30/processData/Y2017M08D23_RH_Merge_FAONames_V01/input_V02/hydrobasins_neareast.shx to ../../../../data/Y2017M08D23_RH_Merge_FAONames_V01/input_V02/hydrobasins_neareast.shx\n",
      "download: s3://wri-projects/Aqueduct30/processData/Y2017M08D23_RH_Merge_FAONames_V01/input_V02/hydrobasins_neareast.shp.xml to ../../../../data/Y2017M08D23_RH_Merge_FAONames_V01/input_V02/hydrobasins_neareast.shp.xml\n",
      "download: s3://wri-projects/Aqueduct30/processData/Y2017M08D23_RH_Merge_FAONames_V01/input_V02/hydrobasins_northam.lyr to ../../../../data/Y2017M08D23_RH_Merge_FAONames_V01/input_V02/hydrobasins_northam.lyr\n",
      "download: s3://wri-projects/Aqueduct30/processData/Y2017M08D23_RH_Merge_FAONames_V01/input_V02/hydrobasins_northam.dbf to ../../../../data/Y2017M08D23_RH_Merge_FAONames_V01/input_V02/hydrobasins_northam.dbf\n",
      "download: s3://wri-projects/Aqueduct30/processData/Y2017M08D23_RH_Merge_FAONames_V01/input_V02/hydrobasins_northam.prj to ../../../../data/Y2017M08D23_RH_Merge_FAONames_V01/input_V02/hydrobasins_northam.prj\n",
      "download: s3://wri-projects/Aqueduct30/processData/Y2017M08D23_RH_Merge_FAONames_V01/input_V02/hydrobasins_northam.shp.xml to ../../../../data/Y2017M08D23_RH_Merge_FAONames_V01/input_V02/hydrobasins_northam.shp.xml\n",
      "download: s3://wri-projects/Aqueduct30/processData/Y2017M08D23_RH_Merge_FAONames_V01/input_V02/hydrobasins_northam.shx to ../../../../data/Y2017M08D23_RH_Merge_FAONames_V01/input_V02/hydrobasins_northam.shx\n",
      "download: s3://wri-projects/Aqueduct30/processData/Y2017M08D23_RH_Merge_FAONames_V01/input_V02/hydrobasins_southam.dbf to ../../../../data/Y2017M08D23_RH_Merge_FAONames_V01/input_V02/hydrobasins_southam.dbf\n",
      "download: s3://wri-projects/Aqueduct30/processData/Y2017M08D23_RH_Merge_FAONames_V01/input_V02/hydrobasins_southam.prj to ../../../../data/Y2017M08D23_RH_Merge_FAONames_V01/input_V02/hydrobasins_southam.prj\n",
      "download: s3://wri-projects/Aqueduct30/processData/Y2017M08D23_RH_Merge_FAONames_V01/input_V02/hydrobasins_southam.lyr to ../../../../data/Y2017M08D23_RH_Merge_FAONames_V01/input_V02/hydrobasins_southam.lyr\n",
      "download: s3://wri-projects/Aqueduct30/processData/Y2017M08D23_RH_Merge_FAONames_V01/input_V02/hydrobasins_southam.sbn to ../../../../data/Y2017M08D23_RH_Merge_FAONames_V01/input_V02/hydrobasins_southam.sbn\n",
      "download: s3://wri-projects/Aqueduct30/processData/Y2017M08D23_RH_Merge_FAONames_V01/input_V02/hydrobasins_southam.sbx to ../../../../data/Y2017M08D23_RH_Merge_FAONames_V01/input_V02/hydrobasins_southam.sbx\n",
      "download: s3://wri-projects/Aqueduct30/processData/Y2017M08D23_RH_Merge_FAONames_V01/input_V02/hydrobasins_asia.shp to ../../../../data/Y2017M08D23_RH_Merge_FAONames_V01/input_V02/hydrobasins_asia.shp\n",
      "download: s3://wri-projects/Aqueduct30/processData/Y2017M08D23_RH_Merge_FAONames_V01/input_V02/hydrobasins_neareast.shp to ../../../../data/Y2017M08D23_RH_Merge_FAONames_V01/input_V02/hydrobasins_neareast.shp\n",
      "download: s3://wri-projects/Aqueduct30/processData/Y2017M08D23_RH_Merge_FAONames_V01/input_V02/hydrobasins_southam.shp.xml to ../../../../data/Y2017M08D23_RH_Merge_FAONames_V01/input_V02/hydrobasins_southam.shp.xml\n",
      "download: s3://wri-projects/Aqueduct30/processData/Y2017M08D23_RH_Merge_FAONames_V01/input_V02/hydrobasins_southam.shx to ../../../../data/Y2017M08D23_RH_Merge_FAONames_V01/input_V02/hydrobasins_southam.shx\n",
      "download: s3://wri-projects/Aqueduct30/processData/Y2017M08D23_RH_Merge_FAONames_V01/input_V02/hydrobasins_europe.shp to ../../../../data/Y2017M08D23_RH_Merge_FAONames_V01/input_V02/hydrobasins_europe.shp\n",
      "download: s3://wri-projects/Aqueduct30/processData/Y2017M08D23_RH_Merge_FAONames_V01/input_V02/hydrobasins_austpacific.shp to ../../../../data/Y2017M08D23_RH_Merge_FAONames_V01/input_V02/hydrobasins_austpacific.shp\n",
      "download: s3://wri-projects/Aqueduct30/processData/Y2017M08D23_RH_Merge_FAONames_V01/input_V02/hydrobasins_southam.shp to ../../../../data/Y2017M08D23_RH_Merge_FAONames_V01/input_V02/hydrobasins_southam.shp\n",
      "download: s3://wri-projects/Aqueduct30/processData/Y2017M08D23_RH_Merge_FAONames_V01/input_V02/hydrobasins_northam.shp to ../../../../data/Y2017M08D23_RH_Merge_FAONames_V01/input_V02/hydrobasins_northam.shp\n"
     ]
    }
   ],
   "source": [
    "!aws s3 cp {s3_input_path} {ec2_input_path} --recursive"
   ]
  },
  {
   "cell_type": "code",
   "execution_count": 7,
   "metadata": {
    "collapsed": true
   },
   "outputs": [],
   "source": [
    "os.chdir(ec2_input_path)\n",
    "files = os.listdir(ec2_input_path)"
   ]
  },
  {
   "cell_type": "code",
   "execution_count": 8,
   "metadata": {},
   "outputs": [
    {
     "name": "stdout",
     "output_type": "stream",
     "text": [
      "hydrobasins_asia.shp\n",
      "hydrobasins_africa.shp\n",
      "hydrobasins_europe.shp\n",
      "hydrobasins_austpacific.shp\n",
      "hydrobasins_southam.shp\n",
      "hydrobasins_northam.shp\n",
      "hydrobasins_neareast.shp\n",
      "hydrobasins_centralam.shp\n"
     ]
    }
   ],
   "source": [
    "meta = fiona.open('hydrobasins_africa.shp').meta\n",
    "with fiona.open(ec2_output_path+\"/hydrobasins_fao_fiona_merged_v01.shp\", 'w', **meta,encoding='UTF-8') as output:\n",
    "    for oneFile in files:    \n",
    "        if oneFile.endswith(\".shp\"):\n",
    "            print(oneFile)\n",
    "            for features in fiona.open(oneFile):\n",
    "                output.write(features)   "
   ]
  },
  {
   "cell_type": "code",
   "execution_count": 10,
   "metadata": {
    "collapsed": true
   },
   "outputs": [],
   "source": [
    "!aws s3 cp {ec2_output_path} {s3_output_path} --recursive --quiet"
   ]
  },
  {
   "cell_type": "code",
   "execution_count": 11,
   "metadata": {},
   "outputs": [
    {
     "name": "stdout",
     "output_type": "stream",
     "text": [
      "0:01:08.475027\n"
     ]
    }
   ],
   "source": [
    "end = datetime.datetime.now()\n",
    "elapsed = end - start\n",
    "print(elapsed)"
   ]
  },
  {
   "cell_type": "markdown",
   "metadata": {},
   "source": [
    "Previous Runs:  \n",
    "0:01:08.475027\n",
    "\n"
   ]
  },
  {
   "cell_type": "code",
   "execution_count": null,
   "metadata": {
    "collapsed": true
   },
   "outputs": [],
   "source": []
  }
 ],
 "metadata": {
  "kernelspec": {
   "display_name": "Python 35",
   "language": "python",
   "name": "python35"
  },
  "language_info": {
   "codemirror_mode": {
    "name": "ipython",
    "version": 3
   },
   "file_extension": ".py",
   "mimetype": "text/x-python",
   "name": "python",
   "nbconvert_exporter": "python",
   "pygments_lexer": "ipython3",
   "version": "3.5.4"
  }
 },
 "nbformat": 4,
 "nbformat_minor": 2
}
