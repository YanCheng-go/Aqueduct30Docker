{
 "cells": [
  {
   "cell_type": "code",
   "execution_count": 1,
   "metadata": {},
   "outputs": [
    {
     "name": "stdout",
     "output_type": "stream",
     "text": [
      "GCS_OUTPUT_PATH:  Y2018M09D05_RH_DS_Zonal_Stats_V01/output_V01\n"
     ]
    }
   ],
   "source": [
    "\"\"\" Zonal stats for drought severity soil moisture and streamflow.\n",
    "-------------------------------------------------------------------------------\n",
    "\n",
    "Hydrobasin level 6\n",
    "\n",
    "\n",
    "Author: Rutger Hofste\n",
    "Date: 20180905\n",
    "Kernel: python35\n",
    "Docker: rutgerhofste/gisdocker:ubuntu16.04\n",
    "\n",
    "Args:\n",
    "    TESTING (boolean) : Testing mode. Uses a smaller geography if enabled.\n",
    "    SCRIPT_NAME (string) : Script name.\n",
    "    EE_INPUT_ZONES_PATH (string) : earthengine input path for zones.\n",
    "    EE_INPUT_VALUES_PATH (string) : earthengine input path for value images.\n",
    "    INPUT_VERSION_ZONES (integer) : input version for zones images.\n",
    "    INPUT_VERSION_VALUES (integer) : input version for value images.\n",
    "    OUTPUT_VERSION (integer) : output version. \n",
    "    EXTRA_PROPERTIES (dictionary) : Extra properties to store in the resulting\n",
    "        pandas dataframe. \n",
    "    \n",
    "Returns:\n",
    "\n",
    "\n",
    "\"\"\"\n",
    "\n",
    "TESTING = 1\n",
    "SCRIPT_NAME = \"Y2018M09D05_RH_DS_Zonal_Stats_V01\"\n",
    "OUTPUT_VERSION = 1\n",
    "\n",
    "ZONES_EE_PATH = \"projects/WRI-Aquaduct/Y2018M04D20_RH_Ingest_HydroBasins_GCS_EE_V01/output_V02/hybas_lev06_v1c_merged_fiona_V04\"\n",
    "\n",
    "EE_PATH_SOIL = \"projects/WRI-Aquaduct/PCRGlobWB20V09/global_historical_droughtseveritystandardisedsoilmoisture_reduced_dimensionless_5min_1960_2014\"\n",
    "EE_PATH_STREAM = \"projects/WRI-Aquaduct/PCRGlobWB20V09/global_historical_droughtseveritystandardisedstreamflow_reduced_dimensionless_5min_1960_2014\"\n",
    "\n",
    "GCS_BUCKET= \"aqueduct30_v01\"\n",
    "GCS_OUTPUT_PATH = \"{}/output_V{:02.0f}\".format(SCRIPT_NAME,OUTPUT_VERSION)\n",
    "\n",
    "print(\"GCS_OUTPUT_PATH: \",GCS_OUTPUT_PATH)\n",
    "\n"
   ]
  },
  {
   "cell_type": "code",
   "execution_count": 2,
   "metadata": {},
   "outputs": [
    {
     "name": "stdout",
     "output_type": "stream",
     "text": [
      "Y2018M09D05 UTC 14:12\n"
     ]
    },
    {
     "data": {
      "text/plain": [
       "'3.5.4 |Anaconda, Inc.| (default, Nov 20 2017, 18:44:38) \\n[GCC 7.2.0]'"
      ]
     },
     "execution_count": 2,
     "metadata": {},
     "output_type": "execute_result"
    }
   ],
   "source": [
    "import time, datetime, sys\n",
    "dateString = time.strftime(\"Y%YM%mD%d\")\n",
    "timeString = time.strftime(\"UTC %H:%M\")\n",
    "start = datetime.datetime.now()\n",
    "print(dateString,timeString)\n",
    "sys.version"
   ]
  },
  {
   "cell_type": "code",
   "execution_count": 3,
   "metadata": {
    "collapsed": true
   },
   "outputs": [],
   "source": [
    "import pandas as pd\n",
    "import ee\n",
    "import aqueduct3\n",
    "ee.Initialize()"
   ]
  },
  {
   "cell_type": "code",
   "execution_count": 4,
   "metadata": {
    "collapsed": true
   },
   "outputs": [],
   "source": [
    "geometry = aqueduct3.earthengine.get_global_geometry(TESTING)"
   ]
  },
  {
   "cell_type": "code",
   "execution_count": 5,
   "metadata": {},
   "outputs": [],
   "source": [
    "def reduce_region_soilmoisture(feature):\n",
    "    i_value = ee.Image(EE_PATH_SOIL)\n",
    "    geometry= feature.geometry()\n",
    "    d = i_value.reduceRegion(reducer=ee.Reducer.mean(),\n",
    "                             geometry=geometry,\n",
    "                             scale = 1000,\n",
    "                             bestEffort=False,\n",
    "                             maxPixels=1e10,\n",
    "                             tileScale=1)\n",
    "    feature_out = ee.Feature(feature)\n",
    "    mean = d.get(\"b1\") \n",
    "    feature_out = feature_out.set(\"droughtseveritysoilmoisture\",mean)\n",
    "    return feature_out\n",
    "\n",
    "def reduce_region_streamflow(feature):\n",
    "    i_value = ee.Image(EE_PATH_STREAM)\n",
    "    geometry= feature.geometry()\n",
    "    d = i_value.reduceRegion(reducer=ee.Reducer.mean(),\n",
    "                             geometry=geometry,\n",
    "                             scale = 1000,\n",
    "                             bestEffort=False,\n",
    "                             maxPixels=1e10,\n",
    "                             tileScale=1)\n",
    "    feature_out = ee.Feature(feature)\n",
    "    mean = d.get(\"b1\") \n",
    "    feature_out = feature_out.set(\"droughtseveritystreamflow\",mean)\n",
    "    return feature_out\n"
   ]
  },
  {
   "cell_type": "code",
   "execution_count": 6,
   "metadata": {
    "collapsed": true
   },
   "outputs": [],
   "source": [
    "fc_zones = ee.FeatureCollection(ZONES_EE_PATH)"
   ]
  },
  {
   "cell_type": "code",
   "execution_count": 7,
   "metadata": {},
   "outputs": [],
   "source": [
    "fc_reduced_soil = fc_zones.map(reduce_region_soilmoisture)"
   ]
  },
  {
   "cell_type": "code",
   "execution_count": 8,
   "metadata": {
    "collapsed": true
   },
   "outputs": [],
   "source": [
    "fc_reduced_stream = fc_zones.map(reduce_region_streamflow)"
   ]
  },
  {
   "cell_type": "code",
   "execution_count": 9,
   "metadata": {},
   "outputs": [
    {
     "name": "stdout",
     "output_type": "stream",
     "text": [
      "Y2018M09D05_RH_DS_Zonal_Stats_V01/output_V01/droughtseveritysoilmoisture.csv\n"
     ]
    }
   ],
   "source": [
    "output_file_path_soil= \"{}/droughtseveritysoilmoisture.csv\".format(GCS_OUTPUT_PATH)\n",
    "print(output_file_path_soil)\n",
    "task_soil = ee.batch.Export.table.toCloudStorage(collection=fc_reduced_soil,\n",
    "                                                 description=\"droughtseveritysoilmoisture\",\n",
    "                                                 bucket=GCS_BUCKET,\n",
    "                                                 fileNamePrefix=output_file_path_soil,\n",
    "                                                 fileFormat=\"CSV\")\n",
    "                                              "
   ]
  },
  {
   "cell_type": "code",
   "execution_count": 10,
   "metadata": {},
   "outputs": [],
   "source": [
    "task_soil.start()"
   ]
  },
  {
   "cell_type": "code",
   "execution_count": 11,
   "metadata": {},
   "outputs": [
    {
     "name": "stdout",
     "output_type": "stream",
     "text": [
      "Y2018M09D05_RH_DS_Zonal_Stats_V01/output_V01/droughtseveritystreamflow.csv\n"
     ]
    }
   ],
   "source": [
    "output_file_path_stream= \"{}/droughtseveritystreamflow.csv\".format(GCS_OUTPUT_PATH)\n",
    "print(output_file_path_stream)\n",
    "task_stream = ee.batch.Export.table.toCloudStorage(collection=fc_reduced_stream,\n",
    "                                                 description=\"droughtseveritystreamflow\",\n",
    "                                                 bucket=GCS_BUCKET,\n",
    "                                                 fileNamePrefix=output_file_path_stream,\n",
    "                                                 fileFormat=\"CSV\")"
   ]
  },
  {
   "cell_type": "code",
   "execution_count": 12,
   "metadata": {},
   "outputs": [],
   "source": [
    "task_stream.start()"
   ]
  },
  {
   "cell_type": "code",
   "execution_count": 13,
   "metadata": {},
   "outputs": [
    {
     "name": "stdout",
     "output_type": "stream",
     "text": [
      "0:00:04.972070\n"
     ]
    }
   ],
   "source": [
    "end = datetime.datetime.now()\n",
    "elapsed = end - start\n",
    "print(elapsed)"
   ]
  },
  {
   "cell_type": "markdown",
   "metadata": {},
   "source": [
    "Previous runs:  \n"
   ]
  },
  {
   "cell_type": "code",
   "execution_count": null,
   "metadata": {
    "collapsed": true
   },
   "outputs": [],
   "source": []
  }
 ],
 "metadata": {
  "kernelspec": {
   "display_name": "Python 35",
   "language": "python",
   "name": "python35"
  },
  "language_info": {
   "codemirror_mode": {
    "name": "ipython",
    "version": 3
   },
   "file_extension": ".py",
   "mimetype": "text/x-python",
   "name": "python",
   "nbconvert_exporter": "python",
   "pygments_lexer": "ipython3",
   "version": "3.5.4"
  }
 },
 "nbformat": 4,
 "nbformat_minor": 2
}
