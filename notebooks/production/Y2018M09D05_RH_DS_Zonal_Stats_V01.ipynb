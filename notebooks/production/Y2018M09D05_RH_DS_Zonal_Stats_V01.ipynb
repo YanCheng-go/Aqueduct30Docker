{
 "cells": [
  {
   "cell_type": "code",
   "execution_count": 1,
   "metadata": {},
   "outputs": [
    {
     "name": "stdout",
     "output_type": "stream",
     "text": [
      "GCS_OUTPUT_PATH:  Y2018M09D05_RH_DS_Zonal_Stats_V01/output_V04\n"
     ]
    }
   ],
   "source": [
    "\"\"\" Zonal stats for drought severity soil moisture and streamflow.\n",
    "-------------------------------------------------------------------------------\n",
    "\n",
    "Hydrobasin level 6\n",
    "\n",
    "WARNING: replaces null values with zeros to avoid missing basins. Based on \n",
    "visual inspection this is fine. Areas in Norway and Argentinia would\n",
    "otherwise have null values.\n",
    "\n",
    "\n",
    "Author: Rutger Hofste\n",
    "Date: 20180905\n",
    "Kernel: python35\n",
    "Docker: rutgerhofste/gisdocker:ubuntu16.04\n",
    "\n",
    "Args:\n",
    "    TESTING (boolean) : Testing mode. Uses a smaller geography if enabled.\n",
    "    SCRIPT_NAME (string) : Script name.\n",
    "    EE_INPUT_ZONES_PATH (string) : earthengine input path for zones.\n",
    "    EE_INPUT_VALUES_PATH (string) : earthengine input path for value images.\n",
    "    INPUT_VERSION_ZONES (integer) : input version for zones images.\n",
    "    INPUT_VERSION_VALUES (integer) : input version for value images.\n",
    "    OUTPUT_VERSION (integer) : output version. \n",
    "    EXTRA_PROPERTIES (dictionary) : Extra properties to store in the resulting\n",
    "        pandas dataframe. \n",
    "    \n",
    "Returns:\n",
    "\n",
    "\n",
    "\"\"\"\n",
    "\n",
    "TESTING = 0\n",
    "SCRIPT_NAME = \"Y2018M09D05_RH_DS_Zonal_Stats_V01\"\n",
    "OUTPUT_VERSION = 4\n",
    "\n",
    "ZONES_EE_PATH = \"projects/WRI-Aquaduct/Y2018M04D20_RH_Ingest_HydroBasins_GCS_EE_V01/output_V02/hybas_lev06_v1c_merged_fiona_V04\"\n",
    "\n",
    "EE_PATH_SOIL = \"projects/WRI-Aquaduct/PCRGlobWB20V09/global_historical_droughtseveritystandardisedsoilmoisture_reduced_dimensionless_5min_1960_2014\"\n",
    "EE_PATH_STREAM = \"projects/WRI-Aquaduct/PCRGlobWB20V09/global_historical_droughtseveritystandardisedstreamflow_reduced_dimensionless_5min_1960_2014\"\n",
    "\n",
    "GCS_BUCKET= \"aqueduct30_v01\"\n",
    "GCS_OUTPUT_PATH = \"{}/output_V{:02.0f}\".format(SCRIPT_NAME,OUTPUT_VERSION)\n",
    "\n",
    "print(\"GCS_OUTPUT_PATH: \",GCS_OUTPUT_PATH)\n",
    "\n"
   ]
  },
  {
   "cell_type": "code",
   "execution_count": 2,
   "metadata": {},
   "outputs": [
    {
     "name": "stdout",
     "output_type": "stream",
     "text": [
      "Y2018M09D07 UTC 12:16\n"
     ]
    },
    {
     "data": {
      "text/plain": [
       "'3.5.4 |Anaconda, Inc.| (default, Nov 20 2017, 18:44:38) \\n[GCC 7.2.0]'"
      ]
     },
     "execution_count": 2,
     "metadata": {},
     "output_type": "execute_result"
    }
   ],
   "source": [
    "import time, datetime, sys\n",
    "dateString = time.strftime(\"Y%YM%mD%d\")\n",
    "timeString = time.strftime(\"UTC %H:%M\")\n",
    "start = datetime.datetime.now()\n",
    "print(dateString,timeString)\n",
    "sys.version"
   ]
  },
  {
   "cell_type": "code",
   "execution_count": 3,
   "metadata": {
    "collapsed": true
   },
   "outputs": [],
   "source": [
    "import pandas as pd\n",
    "import ee\n",
    "import aqueduct3\n",
    "ee.Initialize()"
   ]
  },
  {
   "cell_type": "code",
   "execution_count": 4,
   "metadata": {
    "collapsed": true
   },
   "outputs": [],
   "source": [
    "geometry = aqueduct3.earthengine.get_global_geometry(TESTING)"
   ]
  },
  {
   "cell_type": "code",
   "execution_count": 5,
   "metadata": {
    "collapsed": true
   },
   "outputs": [],
   "source": [
    "def reduce_region_soilmoisture(feature):\n",
    "    i_value = ee.Image(EE_PATH_SOIL)\n",
    "    i_value = i_value.unmask(0) \n",
    "    geometry= feature.geometry()\n",
    "    d = i_value.reduceRegion(reducer=ee.Reducer.mean(),\n",
    "                             geometry=geometry,\n",
    "                             scale = 1000,\n",
    "                             bestEffort=False,\n",
    "                             maxPixels=1e10,\n",
    "                             tileScale=1)\n",
    "    feature_out = ee.Feature(feature)\n",
    "    mean = d.get(\"b1\") \n",
    "    feature_out = feature_out.set(\"droughtseveritysoilmoisture_dimensionless\",mean)\n",
    "    return feature_out\n",
    "\n",
    "def reduce_region_streamflow(feature):\n",
    "    i_value = ee.Image(EE_PATH_STREAM)\n",
    "    i_value = i_value.unmask(0) \n",
    "    geometry= feature.geometry()\n",
    "    d = i_value.reduceRegion(reducer=ee.Reducer.mean(),\n",
    "                             geometry=geometry,\n",
    "                             scale = 1000,\n",
    "                             bestEffort=False,\n",
    "                             maxPixels=1e10,\n",
    "                             tileScale=1)\n",
    "    feature_out = ee.Feature(feature)\n",
    "    mean = d.get(\"b1\") \n",
    "    feature_out = feature_out.set(\"droughtseveritystreamflow_dimensionless\",mean)\n",
    "    return feature_out\n"
   ]
  },
  {
   "cell_type": "code",
   "execution_count": 6,
   "metadata": {
    "collapsed": true
   },
   "outputs": [],
   "source": [
    "fc_zones = ee.FeatureCollection(ZONES_EE_PATH)"
   ]
  },
  {
   "cell_type": "code",
   "execution_count": 7,
   "metadata": {
    "collapsed": true
   },
   "outputs": [],
   "source": [
    "fc_reduced_soil = fc_zones.map(reduce_region_soilmoisture)"
   ]
  },
  {
   "cell_type": "code",
   "execution_count": 8,
   "metadata": {
    "collapsed": true
   },
   "outputs": [],
   "source": [
    "fc_reduced_stream = fc_zones.map(reduce_region_streamflow)"
   ]
  },
  {
   "cell_type": "code",
   "execution_count": 9,
   "metadata": {},
   "outputs": [
    {
     "name": "stdout",
     "output_type": "stream",
     "text": [
      "16397\n"
     ]
    }
   ],
   "source": [
    "print(fc_zones.size().getInfo())"
   ]
  },
  {
   "cell_type": "code",
   "execution_count": 10,
   "metadata": {},
   "outputs": [
    {
     "name": "stdout",
     "output_type": "stream",
     "text": [
      "16397\n"
     ]
    }
   ],
   "source": [
    "print(fc_reduced_soil.size().getInfo())"
   ]
  },
  {
   "cell_type": "code",
   "execution_count": 11,
   "metadata": {},
   "outputs": [
    {
     "name": "stdout",
     "output_type": "stream",
     "text": [
      "16397\n"
     ]
    }
   ],
   "source": [
    "print(fc_reduced_stream.size().getInfo())"
   ]
  },
  {
   "cell_type": "code",
   "execution_count": 12,
   "metadata": {},
   "outputs": [
    {
     "name": "stdout",
     "output_type": "stream",
     "text": [
      "Y2018M09D05_RH_DS_Zonal_Stats_V01/output_V04/droughtseveritysoilmoisture\n"
     ]
    }
   ],
   "source": [
    "output_file_path_soil= \"{}/droughtseveritysoilmoisture\".format(GCS_OUTPUT_PATH)\n",
    "print(output_file_path_soil)\n",
    "task_soil = ee.batch.Export.table.toCloudStorage(collection=fc_reduced_soil,\n",
    "                                                 description=\"droughtseveritysoilmoisture\",\n",
    "                                                 bucket=GCS_BUCKET,\n",
    "                                                 fileNamePrefix=output_file_path_soil,\n",
    "                                                 fileFormat=\"CSV\",\n",
    "                                                 selectors=[\"droughtseveritysoilmoisture_dimensionless\",\"PFAF_ID\",\"SUB_AREA\"])\n",
    "                                              "
   ]
  },
  {
   "cell_type": "code",
   "execution_count": 13,
   "metadata": {
    "collapsed": true
   },
   "outputs": [],
   "source": [
    "task_soil.start()"
   ]
  },
  {
   "cell_type": "code",
   "execution_count": 14,
   "metadata": {},
   "outputs": [
    {
     "name": "stdout",
     "output_type": "stream",
     "text": [
      "Y2018M09D05_RH_DS_Zonal_Stats_V01/output_V04/droughtseveritystreamflow\n"
     ]
    }
   ],
   "source": [
    "output_file_path_stream= \"{}/droughtseveritystreamflow\".format(GCS_OUTPUT_PATH)\n",
    "print(output_file_path_stream)\n",
    "task_stream = ee.batch.Export.table.toCloudStorage(collection=fc_reduced_stream,\n",
    "                                                 description=\"droughtseveritystreamflow\",\n",
    "                                                 bucket=GCS_BUCKET,\n",
    "                                                 fileNamePrefix=output_file_path_stream,\n",
    "                                                 fileFormat=\"CSV\",\n",
    "                                                 selectors=[\"droughtseveritystreamflow_dimensionless\",\"PFAF_ID\",\"SUB_AREA\"])"
   ]
  },
  {
   "cell_type": "code",
   "execution_count": 15,
   "metadata": {
    "collapsed": true
   },
   "outputs": [],
   "source": [
    "task_stream.start()"
   ]
  },
  {
   "cell_type": "code",
   "execution_count": 16,
   "metadata": {},
   "outputs": [
    {
     "name": "stdout",
     "output_type": "stream",
     "text": [
      "0:00:07.535544\n"
     ]
    }
   ],
   "source": [
    "end = datetime.datetime.now()\n",
    "elapsed = end - start\n",
    "print(elapsed)"
   ]
  },
  {
   "cell_type": "markdown",
   "metadata": {},
   "source": [
    "Previous runs:  \n",
    "0:00:08.025985"
   ]
  },
  {
   "cell_type": "code",
   "execution_count": null,
   "metadata": {
    "collapsed": true
   },
   "outputs": [],
   "source": []
  }
 ],
 "metadata": {
  "kernelspec": {
   "display_name": "Python 35",
   "language": "python",
   "name": "python35"
  },
  "language_info": {
   "codemirror_mode": {
    "name": "ipython",
    "version": 3
   },
   "file_extension": ".py",
   "mimetype": "text/x-python",
   "name": "python",
   "nbconvert_exporter": "python",
   "pygments_lexer": "ipython3",
   "version": "3.5.4"
  }
 },
 "nbformat": 4,
 "nbformat_minor": 2
}
