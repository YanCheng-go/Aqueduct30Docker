{
 "cells": [
  {
   "cell_type": "code",
   "execution_count": 1,
   "metadata": {},
   "outputs": [
    {
     "name": "stdout",
     "output_type": "stream",
     "text": [
      "S3_INPUT_PATH:  s3://wri-projects/Aqueduct30/processData/Y2019M01D07_RH_GA_CEP_Zonal_Stats_GADM_EE_V01/output_V01/ \n",
      "ec2_input_path:  /volumes/data/Y2019M01D07_RH_GA_CEP_GADM_Cat_Label_BQ_V01/input_V01 \n",
      "BQ_OUTPUT_DATASET_NAME:  aqueduct30v01 \n",
      "BQ_OUTPUT_TABLE_NAME:  y2019m01d07_rh_ga_cep_gadm_cat_label_bq_v01_v01 \n",
      "s3_output_path: s3://wri-projects/Aqueduct30/processData/Y2019M01D07_RH_GA_CEP_GADM_Cat_Label_BQ_V01/output_V01/\n"
     ]
    }
   ],
   "source": [
    "\"\"\" Cleanup, add category and label for icep at gadm level 1.\n",
    "-------------------------------------------------------------------------------\n",
    "\n",
    "Author: Rutger Hofste\n",
    "Date: 20190107\n",
    "Kernel: python35\n",
    "Docker: rutgerhofste/gisdocker:ubuntu16.04\n",
    "\n",
    "Args:\n",
    "    TESTING (Boolean) : Toggle testing case.\n",
    "    SCRIPT_\n",
    "    NAME (string) : Script name.\n",
    "    OUTPUT_VERSION (integer) : output version.\n",
    "    DATABASE_ENDPOINT (string) : RDS or postGreSQL endpoint.\n",
    "    DATABASE_NAME (string) : Database name.\n",
    "    TABLE_NAME_AREA_30SPFAF06 (string) : Table name used for areas. Must exist\n",
    "        on same database as used in rest of script.\n",
    "    S3_INPUT_PATH_RIVERDISCHARGE (string) : AWS S3 input path for \n",
    "        riverdischarge.    \n",
    "    S3_INPUT_PATH_DEMAND (string) : AWS S3 input path for \n",
    "        demand.     \n",
    "\n",
    "\"\"\"\n",
    "\n",
    "TESTING = 0\n",
    "SCRIPT_NAME = \"Y2019M01D07_RH_GA_CEP_GADM_Cat_Label_BQ_V01\"\n",
    "OUTPUT_VERSION = 1\n",
    "\n",
    "COUNT_THRESHOLD = 1000 #(icepbasin cellsize 60km )\n",
    "\n",
    "NODATA_VALUE = -9999\n",
    "\n",
    "S3_INPUT_PATH = \"s3://wri-projects/Aqueduct30/processData/Y2019M01D07_RH_GA_CEP_Zonal_Stats_GADM_EE_V01/output_V01/\"\n",
    "\n",
    "BQ_PROJECT_ID = \"aqueduct30\"\n",
    "BQ_INPUT_LINK_TABLE_NAME = \"y2018m11d12_rh_gadm36_level1_to_rds_v01_v04\"\n",
    "BQ_OUTPUT_DATASET_NAME = \"aqueduct30v01\"\n",
    "BQ_OUTPUT_TABLE_NAME = \"{}_v{:02.0f}\".format(SCRIPT_NAME,OUTPUT_VERSION).lower()\n",
    "\n",
    "ec2_input_path = \"/volumes/data/{}/input_V{:02.0f}\".format(SCRIPT_NAME,OUTPUT_VERSION) \n",
    "ec2_output_path = \"/volumes/data/{}/output_V{:02.0f}\".format(SCRIPT_NAME,OUTPUT_VERSION) \n",
    "\n",
    "s3_output_path = \"s3://wri-projects/Aqueduct30/processData/{}/output_V{:02.0f}/\".format(SCRIPT_NAME,OUTPUT_VERSION)\n",
    "\n",
    "print(\"S3_INPUT_PATH: \",S3_INPUT_PATH,\n",
    "      \"\\nec2_input_path: \",ec2_input_path,\n",
    "      \"\\nBQ_OUTPUT_DATASET_NAME: \", BQ_OUTPUT_DATASET_NAME,\n",
    "      \"\\nBQ_OUTPUT_TABLE_NAME: \",BQ_OUTPUT_TABLE_NAME,\n",
    "      \"\\ns3_output_path:\",s3_output_path\n",
    "      )"
   ]
  },
  {
   "cell_type": "code",
   "execution_count": 2,
   "metadata": {},
   "outputs": [
    {
     "name": "stdout",
     "output_type": "stream",
     "text": [
      "Y2019M01D08 UTC 10:21\n"
     ]
    },
    {
     "data": {
      "text/plain": [
       "'3.5.4 |Anaconda, Inc.| (default, Nov 20 2017, 18:44:38) \\n[GCC 7.2.0]'"
      ]
     },
     "execution_count": 2,
     "metadata": {},
     "output_type": "execute_result"
    }
   ],
   "source": [
    "import time, datetime, sys\n",
    "dateString = time.strftime(\"Y%YM%mD%d\")\n",
    "timeString = time.strftime(\"UTC %H:%M\")\n",
    "start = datetime.datetime.now()\n",
    "print(dateString,timeString)\n",
    "sys.version"
   ]
  },
  {
   "cell_type": "code",
   "execution_count": 3,
   "metadata": {
    "collapsed": true
   },
   "outputs": [],
   "source": [
    "!rm -r {ec2_input_path}\n",
    "!rm -r {ec2_output_path}\n",
    "!mkdir -p {ec2_input_path}\n",
    "!mkdir -p {ec2_output_path}"
   ]
  },
  {
   "cell_type": "code",
   "execution_count": 4,
   "metadata": {},
   "outputs": [
    {
     "name": "stdout",
     "output_type": "stream",
     "text": [
      "download: s3://wri-projects/Aqueduct30/processData/Y2019M01D07_RH_GA_CEP_Zonal_Stats_GADM_EE_V01/output_V01/df_gadm36_l1_30s.pkl to ../../../../data/Y2019M01D07_RH_GA_CEP_GADM_Cat_Label_BQ_V01/input_V01/df_gadm36_l1_30s.pkl\n",
      "download: s3://wri-projects/Aqueduct30/processData/Y2019M01D07_RH_GA_CEP_Zonal_Stats_GADM_EE_V01/output_V01/df_gadm36_l1_30s.csv to ../../../../data/Y2019M01D07_RH_GA_CEP_GADM_Cat_Label_BQ_V01/input_V01/df_gadm36_l1_30s.csv\n"
     ]
    }
   ],
   "source": [
    "!aws s3 cp {S3_INPUT_PATH} {ec2_input_path} --recursive"
   ]
  },
  {
   "cell_type": "code",
   "execution_count": 5,
   "metadata": {
    "collapsed": true
   },
   "outputs": [],
   "source": [
    "import os\n",
    "import pandas as pd\n",
    "import numpy as np\n",
    "from google.cloud import bigquery\n",
    "\n",
    "os.environ[\"GOOGLE_APPLICATION_CREDENTIALS\"] = \"/.google.json\"\n",
    "os.environ[\"GOOGLE_CLOUD_PROJECT\"] = \"aqueduct30\"\n",
    "client = bigquery.Client(project=BQ_PROJECT_ID)"
   ]
  },
  {
   "cell_type": "code",
   "execution_count": 6,
   "metadata": {
    "collapsed": true
   },
   "outputs": [],
   "source": [
    "def normalize_score(row):\n",
    "    if row <= -5:\n",
    "        minV, maxV, addV = icep_min, -5, 0\n",
    "    elif row <= 0:\n",
    "        minV, maxV, addV = -5, -1, 0\n",
    "    elif row <= 1:\n",
    "        minV, maxV, addV = 0, 1, 2\n",
    "    elif row <= 5:\n",
    "        minV, maxV, addV = 1, 5, 3\n",
    "    else:\n",
    "        minV, maxV, addV = 5, icep_max, 4\n",
    "\n",
    "    # Normalize score base on class bounds\n",
    "    score = (row - minV) / (maxV - minV) + addV\n",
    "    # Fix scores less than 0 or great than 5\n",
    "    final_score = np.where(score < 0, 0, np.where(score > 5, 5, score))\n",
    "    return final_score\n",
    "\n",
    "def category_to_label(row):\n",
    "    if row < -9998:\n",
    "        cat = \"No Data\"\n",
    "    elif row < 1:\n",
    "        cat = \"Low (< -5)\"\n",
    "    elif row < 2:\n",
    "        cat = \"Low to medium (-5 to 0)\"\n",
    "    elif row < 3:\n",
    "        cat = \"Medium to high (0 to +1)\"\n",
    "    elif row < 4:\n",
    "        cat = \"High (+1 to +5)\"\n",
    "    elif row <= 5:\n",
    "        cat = \"Extremely High (> +5)\"\n",
    "    else:\n",
    "        cat = \"Error\"\n",
    "    return cat\n",
    "\n",
    "def label_to_category(row):\n",
    "    if row == \"Low (< -5)\":\n",
    "        cat = 0\n",
    "    elif row == \"Low to medium (-5 to 0)\":\n",
    "        cat = 1\n",
    "    elif row == \"Medium to high (0 to +1)\":\n",
    "        cat = 2\n",
    "    elif row == \"High (+1 to +5)\":\n",
    "        cat = 3\n",
    "    elif row == \"Extremely High (> +5)\":\n",
    "        cat = 4\n",
    "    else:\n",
    "        cat = -9999\n",
    "    return cat"
   ]
  },
  {
   "cell_type": "code",
   "execution_count": 7,
   "metadata": {
    "collapsed": true
   },
   "outputs": [],
   "source": [
    "files = os.listdir(ec2_input_path)"
   ]
  },
  {
   "cell_type": "code",
   "execution_count": 8,
   "metadata": {},
   "outputs": [
    {
     "data": {
      "text/plain": [
       "['df_gadm36_l1_30s.pkl', 'df_gadm36_l1_30s.csv']"
      ]
     },
     "execution_count": 8,
     "metadata": {},
     "output_type": "execute_result"
    }
   ],
   "source": [
    "files"
   ]
  },
  {
   "cell_type": "code",
   "execution_count": 9,
   "metadata": {
    "collapsed": true
   },
   "outputs": [],
   "source": [
    "input_file_path = \"{}/df_gadm36_l1_30s.pkl\".format(ec2_input_path)"
   ]
  },
  {
   "cell_type": "code",
   "execution_count": 10,
   "metadata": {
    "collapsed": true
   },
   "outputs": [],
   "source": [
    "df = pd.read_pickle(input_file_path)"
   ]
  },
  {
   "cell_type": "code",
   "execution_count": 11,
   "metadata": {},
   "outputs": [
    {
     "data": {
      "text/html": [
       "<div>\n",
       "<style scoped>\n",
       "    .dataframe tbody tr th:only-of-type {\n",
       "        vertical-align: middle;\n",
       "    }\n",
       "\n",
       "    .dataframe tbody tr th {\n",
       "        vertical-align: top;\n",
       "    }\n",
       "\n",
       "    .dataframe thead th {\n",
       "        text-align: right;\n",
       "    }\n",
       "</style>\n",
       "<table border=\"1\" class=\"dataframe\">\n",
       "  <thead>\n",
       "    <tr style=\"text-align: right;\">\n",
       "      <th></th>\n",
       "      <th>count</th>\n",
       "      <th>mean</th>\n",
       "      <th>zones</th>\n",
       "      <th>output_version</th>\n",
       "      <th>parameter</th>\n",
       "      <th>reducer</th>\n",
       "      <th>script_used</th>\n",
       "      <th>spatial_aggregation</th>\n",
       "      <th>spatial_resolution</th>\n",
       "      <th>unit</th>\n",
       "    </tr>\n",
       "  </thead>\n",
       "  <tbody>\n",
       "    <tr>\n",
       "      <th>0</th>\n",
       "      <td>65158</td>\n",
       "      <td>0.617027</td>\n",
       "      <td>0</td>\n",
       "      <td>1</td>\n",
       "      <td>icep_raw</td>\n",
       "      <td>mean</td>\n",
       "      <td>Y2019M01D07_RH_GA_CEP_Zonal_Stats_GADM_EE_V01</td>\n",
       "      <td>gadm_36_L01</td>\n",
       "      <td>30s</td>\n",
       "      <td>dimensionless</td>\n",
       "    </tr>\n",
       "    <tr>\n",
       "      <th>1</th>\n",
       "      <td>29861</td>\n",
       "      <td>-0.160649</td>\n",
       "      <td>1</td>\n",
       "      <td>1</td>\n",
       "      <td>icep_raw</td>\n",
       "      <td>mean</td>\n",
       "      <td>Y2019M01D07_RH_GA_CEP_Zonal_Stats_GADM_EE_V01</td>\n",
       "      <td>gadm_36_L01</td>\n",
       "      <td>30s</td>\n",
       "      <td>dimensionless</td>\n",
       "    </tr>\n",
       "    <tr>\n",
       "      <th>2</th>\n",
       "      <td>30924</td>\n",
       "      <td>0.685177</td>\n",
       "      <td>2</td>\n",
       "      <td>1</td>\n",
       "      <td>icep_raw</td>\n",
       "      <td>mean</td>\n",
       "      <td>Y2019M01D07_RH_GA_CEP_Zonal_Stats_GADM_EE_V01</td>\n",
       "      <td>gadm_36_L01</td>\n",
       "      <td>30s</td>\n",
       "      <td>dimensionless</td>\n",
       "    </tr>\n",
       "    <tr>\n",
       "      <th>3</th>\n",
       "      <td>25573</td>\n",
       "      <td>0.696274</td>\n",
       "      <td>3</td>\n",
       "      <td>1</td>\n",
       "      <td>icep_raw</td>\n",
       "      <td>mean</td>\n",
       "      <td>Y2019M01D07_RH_GA_CEP_Zonal_Stats_GADM_EE_V01</td>\n",
       "      <td>gadm_36_L01</td>\n",
       "      <td>30s</td>\n",
       "      <td>dimensionless</td>\n",
       "    </tr>\n",
       "    <tr>\n",
       "      <th>4</th>\n",
       "      <td>20405</td>\n",
       "      <td>0.424110</td>\n",
       "      <td>4</td>\n",
       "      <td>1</td>\n",
       "      <td>icep_raw</td>\n",
       "      <td>mean</td>\n",
       "      <td>Y2019M01D07_RH_GA_CEP_Zonal_Stats_GADM_EE_V01</td>\n",
       "      <td>gadm_36_L01</td>\n",
       "      <td>30s</td>\n",
       "      <td>dimensionless</td>\n",
       "    </tr>\n",
       "  </tbody>\n",
       "</table>\n",
       "</div>"
      ],
      "text/plain": [
       "   count      mean  zones  output_version parameter reducer  \\\n",
       "0  65158  0.617027      0               1  icep_raw    mean   \n",
       "1  29861 -0.160649      1               1  icep_raw    mean   \n",
       "2  30924  0.685177      2               1  icep_raw    mean   \n",
       "3  25573  0.696274      3               1  icep_raw    mean   \n",
       "4  20405  0.424110      4               1  icep_raw    mean   \n",
       "\n",
       "                                     script_used spatial_aggregation  \\\n",
       "0  Y2019M01D07_RH_GA_CEP_Zonal_Stats_GADM_EE_V01         gadm_36_L01   \n",
       "1  Y2019M01D07_RH_GA_CEP_Zonal_Stats_GADM_EE_V01         gadm_36_L01   \n",
       "2  Y2019M01D07_RH_GA_CEP_Zonal_Stats_GADM_EE_V01         gadm_36_L01   \n",
       "3  Y2019M01D07_RH_GA_CEP_Zonal_Stats_GADM_EE_V01         gadm_36_L01   \n",
       "4  Y2019M01D07_RH_GA_CEP_Zonal_Stats_GADM_EE_V01         gadm_36_L01   \n",
       "\n",
       "  spatial_resolution           unit  \n",
       "0                30s  dimensionless  \n",
       "1                30s  dimensionless  \n",
       "2                30s  dimensionless  \n",
       "3                30s  dimensionless  \n",
       "4                30s  dimensionless  "
      ]
     },
     "execution_count": 11,
     "metadata": {},
     "output_type": "execute_result"
    }
   ],
   "source": [
    "df.head()"
   ]
  },
  {
   "cell_type": "code",
   "execution_count": 12,
   "metadata": {
    "collapsed": true
   },
   "outputs": [],
   "source": [
    "df.zones = df.zones.astype(np.int64)"
   ]
  },
  {
   "cell_type": "code",
   "execution_count": 13,
   "metadata": {
    "collapsed": true
   },
   "outputs": [],
   "source": [
    "df = df.rename(columns={\"mean\":\"cep_raw\",\n",
    "                        \"zones\":\"gid_1_id\"})"
   ]
  },
  {
   "cell_type": "code",
   "execution_count": 14,
   "metadata": {
    "collapsed": true
   },
   "outputs": [],
   "source": [
    "sql = \"\"\"\n",
    "SELECT\n",
    "  gid_1_id,\n",
    "  gid_1\n",
    "FROM\n",
    "  `{}.{}.{}`\n",
    "\"\"\".format(BQ_PROJECT_ID,BQ_OUTPUT_DATASET_NAME,BQ_INPUT_LINK_TABLE_NAME)"
   ]
  },
  {
   "cell_type": "code",
   "execution_count": 15,
   "metadata": {
    "collapsed": true
   },
   "outputs": [],
   "source": [
    "df_link = pd.read_gbq(query=sql,\n",
    "                      dialect=\"standard\")"
   ]
  },
  {
   "cell_type": "code",
   "execution_count": 16,
   "metadata": {},
   "outputs": [
    {
     "data": {
      "text/html": [
       "<div>\n",
       "<style scoped>\n",
       "    .dataframe tbody tr th:only-of-type {\n",
       "        vertical-align: middle;\n",
       "    }\n",
       "\n",
       "    .dataframe tbody tr th {\n",
       "        vertical-align: top;\n",
       "    }\n",
       "\n",
       "    .dataframe thead th {\n",
       "        text-align: right;\n",
       "    }\n",
       "</style>\n",
       "<table border=\"1\" class=\"dataframe\">\n",
       "  <thead>\n",
       "    <tr style=\"text-align: right;\">\n",
       "      <th></th>\n",
       "      <th>gid_1_id</th>\n",
       "      <th>gid_1</th>\n",
       "    </tr>\n",
       "  </thead>\n",
       "  <tbody>\n",
       "    <tr>\n",
       "      <th>0</th>\n",
       "      <td>0</td>\n",
       "      <td>AFG.1_1</td>\n",
       "    </tr>\n",
       "    <tr>\n",
       "      <th>1</th>\n",
       "      <td>1</td>\n",
       "      <td>AFG.2_1</td>\n",
       "    </tr>\n",
       "    <tr>\n",
       "      <th>2</th>\n",
       "      <td>2</td>\n",
       "      <td>AFG.3_1</td>\n",
       "    </tr>\n",
       "    <tr>\n",
       "      <th>3</th>\n",
       "      <td>3</td>\n",
       "      <td>AFG.4_1</td>\n",
       "    </tr>\n",
       "    <tr>\n",
       "      <th>4</th>\n",
       "      <td>4</td>\n",
       "      <td>AFG.5_1</td>\n",
       "    </tr>\n",
       "  </tbody>\n",
       "</table>\n",
       "</div>"
      ],
      "text/plain": [
       "   gid_1_id    gid_1\n",
       "0         0  AFG.1_1\n",
       "1         1  AFG.2_1\n",
       "2         2  AFG.3_1\n",
       "3         3  AFG.4_1\n",
       "4         4  AFG.5_1"
      ]
     },
     "execution_count": 16,
     "metadata": {},
     "output_type": "execute_result"
    }
   ],
   "source": [
    "df_link.head()"
   ]
  },
  {
   "cell_type": "code",
   "execution_count": 17,
   "metadata": {},
   "outputs": [
    {
     "data": {
      "text/html": [
       "<div>\n",
       "<style scoped>\n",
       "    .dataframe tbody tr th:only-of-type {\n",
       "        vertical-align: middle;\n",
       "    }\n",
       "\n",
       "    .dataframe tbody tr th {\n",
       "        vertical-align: top;\n",
       "    }\n",
       "\n",
       "    .dataframe thead th {\n",
       "        text-align: right;\n",
       "    }\n",
       "</style>\n",
       "<table border=\"1\" class=\"dataframe\">\n",
       "  <thead>\n",
       "    <tr style=\"text-align: right;\">\n",
       "      <th></th>\n",
       "      <th>count</th>\n",
       "      <th>cep_raw</th>\n",
       "      <th>gid_1_id</th>\n",
       "      <th>output_version</th>\n",
       "      <th>parameter</th>\n",
       "      <th>reducer</th>\n",
       "      <th>script_used</th>\n",
       "      <th>spatial_aggregation</th>\n",
       "      <th>spatial_resolution</th>\n",
       "      <th>unit</th>\n",
       "    </tr>\n",
       "  </thead>\n",
       "  <tbody>\n",
       "    <tr>\n",
       "      <th>0</th>\n",
       "      <td>65158</td>\n",
       "      <td>0.617027</td>\n",
       "      <td>0</td>\n",
       "      <td>1</td>\n",
       "      <td>icep_raw</td>\n",
       "      <td>mean</td>\n",
       "      <td>Y2019M01D07_RH_GA_CEP_Zonal_Stats_GADM_EE_V01</td>\n",
       "      <td>gadm_36_L01</td>\n",
       "      <td>30s</td>\n",
       "      <td>dimensionless</td>\n",
       "    </tr>\n",
       "    <tr>\n",
       "      <th>1</th>\n",
       "      <td>29861</td>\n",
       "      <td>-0.160649</td>\n",
       "      <td>1</td>\n",
       "      <td>1</td>\n",
       "      <td>icep_raw</td>\n",
       "      <td>mean</td>\n",
       "      <td>Y2019M01D07_RH_GA_CEP_Zonal_Stats_GADM_EE_V01</td>\n",
       "      <td>gadm_36_L01</td>\n",
       "      <td>30s</td>\n",
       "      <td>dimensionless</td>\n",
       "    </tr>\n",
       "    <tr>\n",
       "      <th>2</th>\n",
       "      <td>30924</td>\n",
       "      <td>0.685177</td>\n",
       "      <td>2</td>\n",
       "      <td>1</td>\n",
       "      <td>icep_raw</td>\n",
       "      <td>mean</td>\n",
       "      <td>Y2019M01D07_RH_GA_CEP_Zonal_Stats_GADM_EE_V01</td>\n",
       "      <td>gadm_36_L01</td>\n",
       "      <td>30s</td>\n",
       "      <td>dimensionless</td>\n",
       "    </tr>\n",
       "    <tr>\n",
       "      <th>3</th>\n",
       "      <td>25573</td>\n",
       "      <td>0.696274</td>\n",
       "      <td>3</td>\n",
       "      <td>1</td>\n",
       "      <td>icep_raw</td>\n",
       "      <td>mean</td>\n",
       "      <td>Y2019M01D07_RH_GA_CEP_Zonal_Stats_GADM_EE_V01</td>\n",
       "      <td>gadm_36_L01</td>\n",
       "      <td>30s</td>\n",
       "      <td>dimensionless</td>\n",
       "    </tr>\n",
       "    <tr>\n",
       "      <th>4</th>\n",
       "      <td>20405</td>\n",
       "      <td>0.424110</td>\n",
       "      <td>4</td>\n",
       "      <td>1</td>\n",
       "      <td>icep_raw</td>\n",
       "      <td>mean</td>\n",
       "      <td>Y2019M01D07_RH_GA_CEP_Zonal_Stats_GADM_EE_V01</td>\n",
       "      <td>gadm_36_L01</td>\n",
       "      <td>30s</td>\n",
       "      <td>dimensionless</td>\n",
       "    </tr>\n",
       "  </tbody>\n",
       "</table>\n",
       "</div>"
      ],
      "text/plain": [
       "   count   cep_raw  gid_1_id  output_version parameter reducer  \\\n",
       "0  65158  0.617027         0               1  icep_raw    mean   \n",
       "1  29861 -0.160649         1               1  icep_raw    mean   \n",
       "2  30924  0.685177         2               1  icep_raw    mean   \n",
       "3  25573  0.696274         3               1  icep_raw    mean   \n",
       "4  20405  0.424110         4               1  icep_raw    mean   \n",
       "\n",
       "                                     script_used spatial_aggregation  \\\n",
       "0  Y2019M01D07_RH_GA_CEP_Zonal_Stats_GADM_EE_V01         gadm_36_L01   \n",
       "1  Y2019M01D07_RH_GA_CEP_Zonal_Stats_GADM_EE_V01         gadm_36_L01   \n",
       "2  Y2019M01D07_RH_GA_CEP_Zonal_Stats_GADM_EE_V01         gadm_36_L01   \n",
       "3  Y2019M01D07_RH_GA_CEP_Zonal_Stats_GADM_EE_V01         gadm_36_L01   \n",
       "4  Y2019M01D07_RH_GA_CEP_Zonal_Stats_GADM_EE_V01         gadm_36_L01   \n",
       "\n",
       "  spatial_resolution           unit  \n",
       "0                30s  dimensionless  \n",
       "1                30s  dimensionless  \n",
       "2                30s  dimensionless  \n",
       "3                30s  dimensionless  \n",
       "4                30s  dimensionless  "
      ]
     },
     "execution_count": 17,
     "metadata": {},
     "output_type": "execute_result"
    }
   ],
   "source": [
    "df.head()"
   ]
  },
  {
   "cell_type": "code",
   "execution_count": 18,
   "metadata": {},
   "outputs": [
    {
     "data": {
      "text/plain": [
       "(3610, 2)"
      ]
     },
     "execution_count": 18,
     "metadata": {},
     "output_type": "execute_result"
    }
   ],
   "source": [
    "df_link.shape"
   ]
  },
  {
   "cell_type": "code",
   "execution_count": 19,
   "metadata": {},
   "outputs": [
    {
     "data": {
      "text/plain": [
       "(3603, 10)"
      ]
     },
     "execution_count": 19,
     "metadata": {},
     "output_type": "execute_result"
    }
   ],
   "source": [
    "df.shape"
   ]
  },
  {
   "cell_type": "code",
   "execution_count": 20,
   "metadata": {
    "collapsed": true
   },
   "outputs": [],
   "source": [
    "df_merged = pd.merge(left=df,\n",
    "                     right=df_link,\n",
    "                     how=\"left\",\n",
    "                     left_on=\"gid_1_id\",\n",
    "                     right_on=\"gid_1_id\")"
   ]
  },
  {
   "cell_type": "code",
   "execution_count": 21,
   "metadata": {},
   "outputs": [],
   "source": [
    "df_merged.set_index(keys=[\"gid_1\"],\n",
    "                    drop = False,\n",
    "                    inplace = True)"
   ]
  },
  {
   "cell_type": "code",
   "execution_count": 22,
   "metadata": {},
   "outputs": [
    {
     "data": {
      "text/html": [
       "<div>\n",
       "<style scoped>\n",
       "    .dataframe tbody tr th:only-of-type {\n",
       "        vertical-align: middle;\n",
       "    }\n",
       "\n",
       "    .dataframe tbody tr th {\n",
       "        vertical-align: top;\n",
       "    }\n",
       "\n",
       "    .dataframe thead th {\n",
       "        text-align: right;\n",
       "    }\n",
       "</style>\n",
       "<table border=\"1\" class=\"dataframe\">\n",
       "  <thead>\n",
       "    <tr style=\"text-align: right;\">\n",
       "      <th></th>\n",
       "      <th>count</th>\n",
       "      <th>cep_raw</th>\n",
       "      <th>gid_1_id</th>\n",
       "      <th>output_version</th>\n",
       "      <th>parameter</th>\n",
       "      <th>reducer</th>\n",
       "      <th>script_used</th>\n",
       "      <th>spatial_aggregation</th>\n",
       "      <th>spatial_resolution</th>\n",
       "      <th>unit</th>\n",
       "      <th>gid_1</th>\n",
       "    </tr>\n",
       "    <tr>\n",
       "      <th>gid_1</th>\n",
       "      <th></th>\n",
       "      <th></th>\n",
       "      <th></th>\n",
       "      <th></th>\n",
       "      <th></th>\n",
       "      <th></th>\n",
       "      <th></th>\n",
       "      <th></th>\n",
       "      <th></th>\n",
       "      <th></th>\n",
       "      <th></th>\n",
       "    </tr>\n",
       "  </thead>\n",
       "  <tbody>\n",
       "    <tr>\n",
       "      <th>AFG.1_1</th>\n",
       "      <td>65158</td>\n",
       "      <td>0.617027</td>\n",
       "      <td>0</td>\n",
       "      <td>1</td>\n",
       "      <td>icep_raw</td>\n",
       "      <td>mean</td>\n",
       "      <td>Y2019M01D07_RH_GA_CEP_Zonal_Stats_GADM_EE_V01</td>\n",
       "      <td>gadm_36_L01</td>\n",
       "      <td>30s</td>\n",
       "      <td>dimensionless</td>\n",
       "      <td>AFG.1_1</td>\n",
       "    </tr>\n",
       "    <tr>\n",
       "      <th>AFG.2_1</th>\n",
       "      <td>29861</td>\n",
       "      <td>-0.160649</td>\n",
       "      <td>1</td>\n",
       "      <td>1</td>\n",
       "      <td>icep_raw</td>\n",
       "      <td>mean</td>\n",
       "      <td>Y2019M01D07_RH_GA_CEP_Zonal_Stats_GADM_EE_V01</td>\n",
       "      <td>gadm_36_L01</td>\n",
       "      <td>30s</td>\n",
       "      <td>dimensionless</td>\n",
       "      <td>AFG.2_1</td>\n",
       "    </tr>\n",
       "    <tr>\n",
       "      <th>AFG.3_1</th>\n",
       "      <td>30924</td>\n",
       "      <td>0.685177</td>\n",
       "      <td>2</td>\n",
       "      <td>1</td>\n",
       "      <td>icep_raw</td>\n",
       "      <td>mean</td>\n",
       "      <td>Y2019M01D07_RH_GA_CEP_Zonal_Stats_GADM_EE_V01</td>\n",
       "      <td>gadm_36_L01</td>\n",
       "      <td>30s</td>\n",
       "      <td>dimensionless</td>\n",
       "      <td>AFG.3_1</td>\n",
       "    </tr>\n",
       "    <tr>\n",
       "      <th>AFG.4_1</th>\n",
       "      <td>25573</td>\n",
       "      <td>0.696274</td>\n",
       "      <td>3</td>\n",
       "      <td>1</td>\n",
       "      <td>icep_raw</td>\n",
       "      <td>mean</td>\n",
       "      <td>Y2019M01D07_RH_GA_CEP_Zonal_Stats_GADM_EE_V01</td>\n",
       "      <td>gadm_36_L01</td>\n",
       "      <td>30s</td>\n",
       "      <td>dimensionless</td>\n",
       "      <td>AFG.4_1</td>\n",
       "    </tr>\n",
       "    <tr>\n",
       "      <th>AFG.5_1</th>\n",
       "      <td>20405</td>\n",
       "      <td>0.424110</td>\n",
       "      <td>4</td>\n",
       "      <td>1</td>\n",
       "      <td>icep_raw</td>\n",
       "      <td>mean</td>\n",
       "      <td>Y2019M01D07_RH_GA_CEP_Zonal_Stats_GADM_EE_V01</td>\n",
       "      <td>gadm_36_L01</td>\n",
       "      <td>30s</td>\n",
       "      <td>dimensionless</td>\n",
       "      <td>AFG.5_1</td>\n",
       "    </tr>\n",
       "  </tbody>\n",
       "</table>\n",
       "</div>"
      ],
      "text/plain": [
       "         count   cep_raw  gid_1_id  output_version parameter reducer  \\\n",
       "gid_1                                                                  \n",
       "AFG.1_1  65158  0.617027         0               1  icep_raw    mean   \n",
       "AFG.2_1  29861 -0.160649         1               1  icep_raw    mean   \n",
       "AFG.3_1  30924  0.685177         2               1  icep_raw    mean   \n",
       "AFG.4_1  25573  0.696274         3               1  icep_raw    mean   \n",
       "AFG.5_1  20405  0.424110         4               1  icep_raw    mean   \n",
       "\n",
       "                                           script_used spatial_aggregation  \\\n",
       "gid_1                                                                        \n",
       "AFG.1_1  Y2019M01D07_RH_GA_CEP_Zonal_Stats_GADM_EE_V01         gadm_36_L01   \n",
       "AFG.2_1  Y2019M01D07_RH_GA_CEP_Zonal_Stats_GADM_EE_V01         gadm_36_L01   \n",
       "AFG.3_1  Y2019M01D07_RH_GA_CEP_Zonal_Stats_GADM_EE_V01         gadm_36_L01   \n",
       "AFG.4_1  Y2019M01D07_RH_GA_CEP_Zonal_Stats_GADM_EE_V01         gadm_36_L01   \n",
       "AFG.5_1  Y2019M01D07_RH_GA_CEP_Zonal_Stats_GADM_EE_V01         gadm_36_L01   \n",
       "\n",
       "        spatial_resolution           unit    gid_1  \n",
       "gid_1                                               \n",
       "AFG.1_1                30s  dimensionless  AFG.1_1  \n",
       "AFG.2_1                30s  dimensionless  AFG.2_1  \n",
       "AFG.3_1                30s  dimensionless  AFG.3_1  \n",
       "AFG.4_1                30s  dimensionless  AFG.4_1  \n",
       "AFG.5_1                30s  dimensionless  AFG.5_1  "
      ]
     },
     "execution_count": 22,
     "metadata": {},
     "output_type": "execute_result"
    }
   ],
   "source": [
    "df_merged.head()"
   ]
  },
  {
   "cell_type": "code",
   "execution_count": 23,
   "metadata": {
    "collapsed": true
   },
   "outputs": [],
   "source": [
    "icep_min = df[\"cep_raw\"].min()\n",
    "icep_max = df[\"cep_raw\"].max()"
   ]
  },
  {
   "cell_type": "code",
   "execution_count": 24,
   "metadata": {},
   "outputs": [
    {
     "data": {
      "text/plain": [
       "-167.17104857680263"
      ]
     },
     "execution_count": 24,
     "metadata": {},
     "output_type": "execute_result"
    }
   ],
   "source": [
    "icep_min"
   ]
  },
  {
   "cell_type": "code",
   "execution_count": 25,
   "metadata": {},
   "outputs": [
    {
     "data": {
      "text/plain": [
       "93.858630351800002"
      ]
     },
     "execution_count": 25,
     "metadata": {},
     "output_type": "execute_result"
    }
   ],
   "source": [
    "icep_max"
   ]
  },
  {
   "cell_type": "code",
   "execution_count": 26,
   "metadata": {
    "collapsed": true
   },
   "outputs": [],
   "source": [
    "df_merged[\"cep_raw\"] = df_merged[\"cep_raw\"].fillna(-9999.0)"
   ]
  },
  {
   "cell_type": "code",
   "execution_count": 27,
   "metadata": {
    "collapsed": true
   },
   "outputs": [],
   "source": [
    "df_merged[\"cep_score\"] = df_merged[\"cep_raw\"].apply(lambda x: normalize_score(x))"
   ]
  },
  {
   "cell_type": "code",
   "execution_count": 28,
   "metadata": {},
   "outputs": [
    {
     "name": "stderr",
     "output_type": "stream",
     "text": [
      "/opt/anaconda3/envs/python35/lib/python3.5/site-packages/ipykernel_launcher.py:2: SettingWithCopyWarning: \n",
      "A value is trying to be set on a copy of a slice from a DataFrame\n",
      "\n",
      "See the caveats in the documentation: http://pandas.pydata.org/pandas-docs/stable/indexing.html#indexing-view-versus-copy\n",
      "  \n"
     ]
    }
   ],
   "source": [
    "# Replace nodata scores with NoData value\n",
    "df_merged[\"cep_score\"][df_merged[\"cep_raw\"] <-9998 ] = NODATA_VALUE"
   ]
  },
  {
   "cell_type": "code",
   "execution_count": 29,
   "metadata": {
    "collapsed": true
   },
   "outputs": [],
   "source": [
    "df_merged[\"cep_label\"] = df_merged[\"cep_score\"].apply(lambda x: category_to_label(x))"
   ]
  },
  {
   "cell_type": "code",
   "execution_count": 30,
   "metadata": {
    "collapsed": true
   },
   "outputs": [],
   "source": [
    "df_merged[\"cep_cat\"] = df_merged[\"cep_label\"].apply(lambda x: label_to_category(x))"
   ]
  },
  {
   "cell_type": "code",
   "execution_count": 31,
   "metadata": {
    "collapsed": true
   },
   "outputs": [],
   "source": [
    "df_merged = df_merged.drop(columns=[\"output_version\",\"reducer\",\"script_used\",\"spatial_aggregation\",\"spatial_resolution\",\"unit\",\"parameter\"])"
   ]
  },
  {
   "cell_type": "code",
   "execution_count": 32,
   "metadata": {
    "collapsed": true
   },
   "outputs": [],
   "source": [
    "df_merged.columns = df_merged.columns.str.lower()"
   ]
  },
  {
   "cell_type": "code",
   "execution_count": 33,
   "metadata": {},
   "outputs": [
    {
     "data": {
      "text/html": [
       "<div>\n",
       "<style scoped>\n",
       "    .dataframe tbody tr th:only-of-type {\n",
       "        vertical-align: middle;\n",
       "    }\n",
       "\n",
       "    .dataframe tbody tr th {\n",
       "        vertical-align: top;\n",
       "    }\n",
       "\n",
       "    .dataframe thead th {\n",
       "        text-align: right;\n",
       "    }\n",
       "</style>\n",
       "<table border=\"1\" class=\"dataframe\">\n",
       "  <thead>\n",
       "    <tr style=\"text-align: right;\">\n",
       "      <th></th>\n",
       "      <th>count</th>\n",
       "      <th>cep_raw</th>\n",
       "      <th>gid_1_id</th>\n",
       "      <th>gid_1</th>\n",
       "      <th>cep_score</th>\n",
       "      <th>cep_label</th>\n",
       "      <th>cep_cat</th>\n",
       "    </tr>\n",
       "    <tr>\n",
       "      <th>gid_1</th>\n",
       "      <th></th>\n",
       "      <th></th>\n",
       "      <th></th>\n",
       "      <th></th>\n",
       "      <th></th>\n",
       "      <th></th>\n",
       "      <th></th>\n",
       "    </tr>\n",
       "  </thead>\n",
       "  <tbody>\n",
       "    <tr>\n",
       "      <th>AFG.1_1</th>\n",
       "      <td>65158</td>\n",
       "      <td>0.617027</td>\n",
       "      <td>0</td>\n",
       "      <td>AFG.1_1</td>\n",
       "      <td>2.617027</td>\n",
       "      <td>Medium to high (0 to +1)</td>\n",
       "      <td>2</td>\n",
       "    </tr>\n",
       "    <tr>\n",
       "      <th>AFG.2_1</th>\n",
       "      <td>29861</td>\n",
       "      <td>-0.160649</td>\n",
       "      <td>1</td>\n",
       "      <td>AFG.2_1</td>\n",
       "      <td>1.209838</td>\n",
       "      <td>Low to medium (-5 to 0)</td>\n",
       "      <td>1</td>\n",
       "    </tr>\n",
       "    <tr>\n",
       "      <th>AFG.3_1</th>\n",
       "      <td>30924</td>\n",
       "      <td>0.685177</td>\n",
       "      <td>2</td>\n",
       "      <td>AFG.3_1</td>\n",
       "      <td>2.685177</td>\n",
       "      <td>Medium to high (0 to +1)</td>\n",
       "      <td>2</td>\n",
       "    </tr>\n",
       "    <tr>\n",
       "      <th>AFG.4_1</th>\n",
       "      <td>25573</td>\n",
       "      <td>0.696274</td>\n",
       "      <td>3</td>\n",
       "      <td>AFG.4_1</td>\n",
       "      <td>2.696274</td>\n",
       "      <td>Medium to high (0 to +1)</td>\n",
       "      <td>2</td>\n",
       "    </tr>\n",
       "    <tr>\n",
       "      <th>AFG.5_1</th>\n",
       "      <td>20405</td>\n",
       "      <td>0.424110</td>\n",
       "      <td>4</td>\n",
       "      <td>AFG.5_1</td>\n",
       "      <td>2.424110</td>\n",
       "      <td>Medium to high (0 to +1)</td>\n",
       "      <td>2</td>\n",
       "    </tr>\n",
       "  </tbody>\n",
       "</table>\n",
       "</div>"
      ],
      "text/plain": [
       "         count   cep_raw  gid_1_id    gid_1  cep_score  \\\n",
       "gid_1                                                    \n",
       "AFG.1_1  65158  0.617027         0  AFG.1_1   2.617027   \n",
       "AFG.2_1  29861 -0.160649         1  AFG.2_1   1.209838   \n",
       "AFG.3_1  30924  0.685177         2  AFG.3_1   2.685177   \n",
       "AFG.4_1  25573  0.696274         3  AFG.4_1   2.696274   \n",
       "AFG.5_1  20405  0.424110         4  AFG.5_1   2.424110   \n",
       "\n",
       "                        cep_label  cep_cat  \n",
       "gid_1                                       \n",
       "AFG.1_1  Medium to high (0 to +1)        2  \n",
       "AFG.2_1   Low to medium (-5 to 0)        1  \n",
       "AFG.3_1  Medium to high (0 to +1)        2  \n",
       "AFG.4_1  Medium to high (0 to +1)        2  \n",
       "AFG.5_1  Medium to high (0 to +1)        2  "
      ]
     },
     "execution_count": 33,
     "metadata": {},
     "output_type": "execute_result"
    }
   ],
   "source": [
    "df_merged.head()"
   ]
  },
  {
   "cell_type": "code",
   "execution_count": 34,
   "metadata": {},
   "outputs": [],
   "source": [
    "df_merged.sort_index(axis=1,\n",
    "                     inplace=True)"
   ]
  },
  {
   "cell_type": "code",
   "execution_count": 35,
   "metadata": {
    "collapsed": true
   },
   "outputs": [],
   "source": [
    "destination_table = \"{}.{}\".format(BQ_OUTPUT_DATASET_NAME,BQ_OUTPUT_TABLE_NAME)"
   ]
  },
  {
   "cell_type": "code",
   "execution_count": 36,
   "metadata": {},
   "outputs": [
    {
     "name": "stderr",
     "output_type": "stream",
     "text": [
      "1it [00:04,  4.70s/it]\n"
     ]
    }
   ],
   "source": [
    "df_merged.to_gbq(destination_table=destination_table,\n",
    "                 project_id=BQ_PROJECT_ID,\n",
    "                 chunksize=10000,\n",
    "                 if_exists=\"replace\")"
   ]
  },
  {
   "cell_type": "code",
   "execution_count": 37,
   "metadata": {
    "collapsed": true
   },
   "outputs": [],
   "source": [
    "output_file_path_pkl = \"{}/cep_cat_label.pkl\".format(ec2_output_path)\n",
    "output_file_path_csv = \"{}/cep_cat_label.csv\".format(ec2_output_path)\n",
    "df_merged.to_pickle(output_file_path_pkl)\n",
    "df_merged.to_csv(output_file_path_csv,encoding='utf-8')"
   ]
  },
  {
   "cell_type": "code",
   "execution_count": 38,
   "metadata": {},
   "outputs": [
    {
     "name": "stdout",
     "output_type": "stream",
     "text": [
      "upload: ../../../../data/Y2019M01D07_RH_GA_CEP_GADM_Cat_Label_BQ_V01/output_V01/cep_cat_label.csv to s3://wri-projects/Aqueduct30/processData/Y2019M01D07_RH_GA_CEP_GADM_Cat_Label_BQ_V01/output_V01/cep_cat_label.csv\n",
      "upload: ../../../../data/Y2019M01D07_RH_GA_CEP_GADM_Cat_Label_BQ_V01/output_V01/cep_cat_label.pkl to s3://wri-projects/Aqueduct30/processData/Y2019M01D07_RH_GA_CEP_GADM_Cat_Label_BQ_V01/output_V01/cep_cat_label.pkl\n"
     ]
    }
   ],
   "source": [
    "!aws s3 cp  {ec2_output_path} {s3_output_path} --recursive"
   ]
  },
  {
   "cell_type": "code",
   "execution_count": 39,
   "metadata": {},
   "outputs": [
    {
     "name": "stdout",
     "output_type": "stream",
     "text": [
      "0:00:19.170429\n"
     ]
    }
   ],
   "source": [
    "end = datetime.datetime.now()\n",
    "elapsed = end - start\n",
    "print(elapsed)"
   ]
  },
  {
   "cell_type": "markdown",
   "metadata": {},
   "source": [
    "Previous runs:  \n",
    "0:00:19.839925\n"
   ]
  }
 ],
 "metadata": {
  "kernelspec": {
   "display_name": "Python 35",
   "language": "python",
   "name": "python35"
  },
  "language_info": {
   "codemirror_mode": {
    "name": "ipython",
    "version": 3
   },
   "file_extension": ".py",
   "mimetype": "text/x-python",
   "name": "python",
   "nbconvert_exporter": "python",
   "pygments_lexer": "ipython3",
   "version": "3.5.4"
  }
 },
 "nbformat": 4,
 "nbformat_minor": 2
}
