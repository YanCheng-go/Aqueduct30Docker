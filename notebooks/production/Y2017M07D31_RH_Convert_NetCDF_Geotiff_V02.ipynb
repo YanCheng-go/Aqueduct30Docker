{
 "cells": [
  {
   "cell_type": "code",
   "execution_count": 1,
   "metadata": {
    "collapsed": true
   },
   "outputs": [],
   "source": [
    "\"\"\" convert netCDF4 to Geotiff.\n",
    "-------------------------------------------------------------------------------\n",
    "\n",
    "Convert individual images from a netCDF to geotiffs. Output is stored in \n",
    "Amazon S3 folder. \n",
    "\n",
    "\n",
    "Author: Rutger Hofste\n",
    "Date: 20180327\n",
    "Kernel: python36\n",
    "Docker: rutgerhofste/gisdocker:ubuntu16.04\n",
    "\n",
    "Args:\n",
    "\n",
    "    SCRIPT_NAME (string) : Script name\n",
    "    EC2_INPUT_PATH (string) : path to output of previous script. See Readme \n",
    "                              for more details. \n",
    "    PRINT_METADATA (boolean) : Print out metadata in Jupyter Notebook\n",
    "\n",
    "\n",
    "Returns:\n",
    "\n",
    "\"\"\"\n",
    "\n",
    "# Input Parameters\n",
    "\n",
    "SCRIPT_NAME = \"Y2017M07D31_RH_Convert_NetCDF_Geotiff_V02\"\n",
    "\n",
    "EC2_INPUT_PATH = \"/volumes/data/Y2017M07D31_RH_download_PCRGlobWB_data_V02/output/\"\n",
    "\n",
    "PRINT_METADATA = False\n",
    "\n",
    "X_DIMENSION_5MIN = 4320\n",
    "Y_DIMENSION_5MIN = 2160\n",
    "\n",
    "# Output Parameters\n"
   ]
  },
  {
   "cell_type": "code",
   "execution_count": 2,
   "metadata": {},
   "outputs": [
    {
     "name": "stdout",
     "output_type": "stream",
     "text": [
      "('Y2018M03D28', 'UTC 16:07')\n"
     ]
    },
    {
     "data": {
      "text/plain": [
       "'2.7.14 | packaged by conda-forge | (default, Dec 25 2017, 01:16:05) \\n[GCC 4.8.2 20140120 (Red Hat 4.8.2-15)]'"
      ]
     },
     "execution_count": 2,
     "metadata": {},
     "output_type": "execute_result"
    }
   ],
   "source": [
    "import time, datetime, sys\n",
    "dateString = time.strftime(\"Y%YM%mD%d\")\n",
    "timeString = time.strftime(\"UTC %H:%M\")\n",
    "start = datetime.datetime.now()\n",
    "print(dateString,timeString)\n",
    "sys.version"
   ]
  },
  {
   "cell_type": "code",
   "execution_count": 3,
   "metadata": {},
   "outputs": [],
   "source": [
    "# Imports\n",
    "import os\n",
    "import datetime\n",
    "import subprocess\n",
    "import numpy as np\n",
    "import pyproj\n",
    "import warnings\n",
    "import netCDF4\n",
    "\n",
    "try:\n",
    "    from osgeo import ogr, osr, gdal\n",
    "except:\n",
    "    sys.exit('ERROR: cannot find GDAL/OGR modules')\n",
    "\n",
    "if 'GDAL_DATA' not in os.environ:\n",
    "    os.environ['GDAL_DATA'] = r'/usr/share/gdal/2.1'"
   ]
  },
  {
   "cell_type": "code",
   "execution_count": 4,
   "metadata": {},
   "outputs": [],
   "source": [
    "# ETL\n",
    "\n",
    "ec2_output_path = \"/volumes/data/{}/output/\".format(SCRIPT_NAME)\n",
    "s3_output_path = \"s3://wri-projects/Aqueduct30/processData/{}/output/\".format(SCRIPT_NAME)"
   ]
  },
  {
   "cell_type": "code",
   "execution_count": 5,
   "metadata": {
    "collapsed": true
   },
   "outputs": [],
   "source": [
    "!rm -r {ec2_output_path}\n",
    "!mkdir -p {ec2_output_path}"
   ]
  },
  {
   "cell_type": "code",
   "execution_count": 6,
   "metadata": {},
   "outputs": [],
   "source": [
    "# Functions\n",
    "def read_gdal_file(input_path):\n",
    "    \"\"\" Reads file using GDAL\n",
    "    -------------------------------------------------------------------------------\n",
    "    \n",
    "    WARNING: This function only reads the first band. Data Stored in memory\n",
    "    \n",
    "    Args:\n",
    "        input_path (string) : path to input file\n",
    "    \n",
    "    Returns:\n",
    "        xsize (integer) : number of columns\n",
    "        ysize (integer) : number of rows\n",
    "        geotransform (tuple) : geotransform\n",
    "        geoproj (string) : geoprojection in osr format\n",
    "        Z (np.array) : array with values \n",
    "    \n",
    "    \"\"\"\n",
    "    \n",
    "    filehandle = gdal.Open(input_path)\n",
    "    band1 = filehandle.GetRasterBand(1)\n",
    "    geotransform = filehandle.GetGeoTransform()\n",
    "    geoproj = filehandle.GetProjection()\n",
    "    Z = band1.ReadAsArray()\n",
    "    xsize = filehandle.RasterXSize\n",
    "    ysize = filehandle.RasterYSize\n",
    "    filehandle = None\n",
    "    return xsize,ysize,geotransform,geoproj,Z\n",
    "\n",
    "\n",
    "\n",
    "def global_georeference(array):\n",
    "    \"\"\" Get the geotransform and projection for a numpy array\n",
    "    -------------------------------------------------------------------------------\n",
    "    \n",
    "    Returns a geotransform and projection for a global extent in epsg 4326 \n",
    "    projection.\n",
    "    \n",
    "    Args:\n",
    "        array (np.array) : numpy array\n",
    "    \n",
    "    Returns:\n",
    "        geotransform (tuple) : geotransform\n",
    "        geoprojection (string) : geoprojection in osr format    \n",
    "    \n",
    "    \"\"\"\n",
    "    \n",
    "    y_dimension = array.shape[0] #rows, lat\n",
    "    x_dimension = array.shape[1] #cols, lon\n",
    "    geotransform = (-180,360.0/x_dimension,0,90,0,-180.0/y_dimension)\n",
    "    \n",
    "    srs = osr.SpatialReference()\n",
    "    srs.ImportFromEPSG(4326)\n",
    "    geoprojection = srs.ExportToWkt()\n",
    "    \n",
    "    if len(geoprojection) == 0:\n",
    "        warnings.warn(\"GDAL_DATA path not set correctly. Assert os.environ \" \\\n",
    "                      \"contains GDAL_DATA \\n\" \\\n",
    "                      \"Code will execute without projection set\")\n",
    "\n",
    "    return geotransform, geoprojection\n",
    "\n",
    "\n",
    "def write_geotiff(output_path,geotransform,geoprojection,data,nodata_value=-9999,datatype=gdal.GDT_Float32):\n",
    "    \n",
    "    \"\"\" Write data to geotiff file\n",
    "    -------------------------------------------------------------------------------\n",
    "    \n",
    "    Args: \n",
    "        output_path (string) : output_path \n",
    "        geotransform (tuple) : geotransform\n",
    "        geoprojection (string) : geoprojection in osr format\n",
    "        data (np.array) : numpy array    \n",
    "        nodata_value (integer) : NoData value\n",
    "        datatype (GDAL datatype)\n",
    "    \n",
    "    \"\"\"  \n",
    "    \n",
    "    (x,y) = data.shape\n",
    "    format = \"GTiff\"\n",
    "    driver = gdal.GetDriverByName(format)\n",
    "    # you can change the dataformat but be sure to be able to store negative values including -9999\n",
    "    dst_ds = driver.Create(output_path,y,x,1,datatype, [ 'COMPRESS=LZW' ])\n",
    "    dst_ds.GetRasterBand(1).SetNoDataValue(nodata_value)\n",
    "    dst_ds.GetRasterBand(1).WriteArray(data)\n",
    "    dst_ds.SetGeoTransform(geotransform)\n",
    "    dst_ds.SetProjection(geoprojection)\n",
    "    dst_ds = None\n",
    "    return 1\n",
    "\n",
    "\n",
    "def netCDF4_to_geotiff(file_name,input_path,output_dir_path, output_geotransform, output_geoprojection):\n",
    "    \"\"\"Convert every image in a netCDF4 file to a geotiff\n",
    "    -------------------------------------------------------------------------------\n",
    "    \n",
    "    the output filenames will be appended with relevant metadata stored in the \n",
    "    netCDF file. \n",
    "    \n",
    "    \n",
    "    Args:\n",
    "        file_name (string) : filename including extension.\n",
    "        input_path (string) : input path to netCDF4 file (.nc or .nc4)\n",
    "        output_dir_path (string) : output path to directory (.tif or .tiff)\n",
    "        output_geotransform (tuple) : geotransform\n",
    "        output_geoprojection (string) : geoprojection in osr format\n",
    "        \n",
    "    Returns    \n",
    "    \n",
    "    \"\"\"\n",
    "    \n",
    "    netCDF_input_base_name = file_name.split('.')[0]\n",
    "    nc_fid = netCDF4.Dataset(input_path, 'r')\n",
    "    nc_attrs, nc_dims, nc_vars = ncdump(nc_fid, PRINT_METADATA)\n",
    "    parameter = nc_vars[3]\n",
    "    \n",
    "    lats = nc_fid.variables['latitude'][:]  # extract/copy the data\n",
    "    lons = nc_fid.variables['longitude'][:]\n",
    "    times = nc_fid.variables['time'][:]\n",
    "    time_unit = nc_fid.variables[\"time\"].getncattr(\"units\")\n",
    "    \n",
    "    standardized_time = standardize_time(time_unit,times)\n",
    "\n",
    "      \n",
    "    for i in range(0,len(timeNormal)):\n",
    "        Z = nc_fid.variables[parameter][i, :, :]\n",
    "        Z[Z<-9990]= -9999\n",
    "        Z[Z>1e19] = -9999\n",
    "        output_filename = netCDF_input_base_name + \"I{:03.0f}Y{:04.0f}M{:02.0f}.tif\".format(i,standardized_time[i].year,standardized_time[i].month)\n",
    "        output_path = os.path.join(output_dir_path,output_filename)\n",
    "        #writeFile(writefilename,geotransform,geoproj,Z)\n",
    "        print(output_path)\n",
    "        write_geotiff(output_path,output_geotransform,output_geoprojection,Z,nodata_value=-9999,datatype=gdal.GDT_Float32)\n",
    "    \n",
    "    return Z\n",
    "\n",
    "\n",
    "def standardize_time(time_unit,times):\n",
    "    \"\"\" Append standardize time to list\n",
    "    -------------------------------------------------------------------------------\n",
    "    \n",
    "    The netCDF results of the university of Utrecht consist of multiple time \n",
    "    formats. \n",
    "    \n",
    "    Args:\n",
    "        time_unit (string) : units as provided by the netCDF4 file. \n",
    "        times (list) : list of time in units provided in time_units (e.g. days).\n",
    "    \n",
    "    Returns:\n",
    "        standardized_time (list) : list of normalized times in datetime format.\n",
    "    \n",
    "    \"\"\"\n",
    "    \n",
    "    standardized_time =[]\n",
    "    for time in times:\n",
    "        if time_unit == (\"days since 1900-01-01 00:00:00\") or (time_unit ==\"Days since 1900-01-01\"):\n",
    "            standardized_time.append(datetime.datetime(1900,1,1) + datetime.timedelta(days=time))\n",
    "        elif time_unit == \"days since 1901-01-01 00:00:00\":\n",
    "            standardized_time.append(datetime.datetime(1901,1,1) + datetime.timedelta(days=time))\n",
    "        else:\n",
    "            raise(\"Error, unknown format:\",time_unit)\n",
    "            standardized_time.append(-9999)\n",
    "    return standardized_time\n",
    "    \n",
    "    \n",
    "def ncdump(nc_fid, verb=True):\n",
    "    '''ncdump outputs dimensions, variables and their attribute information.\n",
    "    -------------------------------------------------------------------------------\n",
    "    \n",
    "    The information is similar to that of NCAR's ncdump utility.\n",
    "    ncdump requires a valid instance of Dataset.\n",
    "\n",
    "    Args:\n",
    "        nc_fid (netCDF4.Dataset) : A netCDF4 dateset object\n",
    "        verb (boolean) : whether or not nc_attrs, nc_dims, and nc_vars are printed\n",
    "                         Defaults to True.\n",
    "\n",
    "    Returns:\n",
    "        nc_attrs (list) : A Python list of the NetCDF file global attributes\n",
    "        nc_dims (list) : A Python list of the NetCDF file dimensions\n",
    "        nc_vars (list) : A Python list of the NetCDF file variables\n",
    "    '''\n",
    "\n",
    "    nc_attrs = nc_fid.ncattrs()\n",
    "    nc_dims = [dim for dim in nc_fid.dimensions]  # list of nc dimensions\n",
    "    nc_vars = [var for var in nc_fid.variables]  # list of nc variables\n",
    "    return nc_attrs, nc_dims, nc_vars\n",
    "\n",
    "\n",
    "\n",
    "    \n",
    "\n",
    "\n",
    "    "
   ]
  },
  {
   "cell_type": "code",
   "execution_count": 7,
   "metadata": {},
   "outputs": [
    {
     "name": "stdout",
     "output_type": "stream",
     "text": [
      "global_historical_PLivWW_year_millionm3_5min_1960_2014.nc4\n"
     ]
    },
    {
     "ename": "NameError",
     "evalue": "global name 'timeNormal' is not defined",
     "output_type": "error",
     "traceback": [
      "\u001b[0;31m---------------------------------------------------------------------------\u001b[0m",
      "\u001b[0;31mNameError\u001b[0m                                 Traceback (most recent call last)",
      "\u001b[0;32m<ipython-input-7-792333818b2e>\u001b[0m in \u001b[0;36m<module>\u001b[0;34m()\u001b[0m\n\u001b[1;32m      8\u001b[0m             \u001b[0;32mprint\u001b[0m\u001b[0;34m(\u001b[0m\u001b[0mfile_name\u001b[0m\u001b[0;34m)\u001b[0m\u001b[0;34m\u001b[0m\u001b[0m\n\u001b[1;32m      9\u001b[0m             \u001b[0minput_path\u001b[0m \u001b[0;34m=\u001b[0m \u001b[0mos\u001b[0m\u001b[0;34m.\u001b[0m\u001b[0mpath\u001b[0m\u001b[0;34m.\u001b[0m\u001b[0mjoin\u001b[0m\u001b[0;34m(\u001b[0m\u001b[0mroot\u001b[0m\u001b[0;34m,\u001b[0m \u001b[0mfile_name\u001b[0m\u001b[0;34m)\u001b[0m\u001b[0;34m\u001b[0m\u001b[0m\n\u001b[0;32m---> 10\u001b[0;31m             \u001b[0mZ\u001b[0m \u001b[0;34m=\u001b[0m \u001b[0mnetCDF4_to_geotiff\u001b[0m\u001b[0;34m(\u001b[0m\u001b[0mfile_name\u001b[0m\u001b[0;34m,\u001b[0m\u001b[0minput_path\u001b[0m\u001b[0;34m,\u001b[0m\u001b[0mec2_output_path\u001b[0m\u001b[0;34m,\u001b[0m \u001b[0mdefault_geotransform\u001b[0m\u001b[0;34m,\u001b[0m \u001b[0mdefault_geoprojection\u001b[0m\u001b[0;34m)\u001b[0m\u001b[0;34m\u001b[0m\u001b[0m\n\u001b[0m\u001b[1;32m     11\u001b[0m \u001b[0;34m\u001b[0m\u001b[0m\n",
      "\u001b[0;32m<ipython-input-6-6e9801ecd813>\u001b[0m in \u001b[0;36mnetCDF4_to_geotiff\u001b[0;34m(file_name, input_path, output_dir_path, output_geotransform, output_geoprojection)\u001b[0m\n\u001b[1;32m    120\u001b[0m \u001b[0;34m\u001b[0m\u001b[0m\n\u001b[1;32m    121\u001b[0m \u001b[0;34m\u001b[0m\u001b[0m\n\u001b[0;32m--> 122\u001b[0;31m     \u001b[0;32mfor\u001b[0m \u001b[0mi\u001b[0m \u001b[0;32min\u001b[0m \u001b[0mrange\u001b[0m\u001b[0;34m(\u001b[0m\u001b[0;36m0\u001b[0m\u001b[0;34m,\u001b[0m\u001b[0mlen\u001b[0m\u001b[0;34m(\u001b[0m\u001b[0mtimeNormal\u001b[0m\u001b[0;34m)\u001b[0m\u001b[0;34m)\u001b[0m\u001b[0;34m:\u001b[0m\u001b[0;34m\u001b[0m\u001b[0m\n\u001b[0m\u001b[1;32m    123\u001b[0m         \u001b[0mZ\u001b[0m \u001b[0;34m=\u001b[0m \u001b[0mnc_fid\u001b[0m\u001b[0;34m.\u001b[0m\u001b[0mvariables\u001b[0m\u001b[0;34m[\u001b[0m\u001b[0mparameter\u001b[0m\u001b[0;34m]\u001b[0m\u001b[0;34m[\u001b[0m\u001b[0mi\u001b[0m\u001b[0;34m,\u001b[0m \u001b[0;34m:\u001b[0m\u001b[0;34m,\u001b[0m \u001b[0;34m:\u001b[0m\u001b[0;34m]\u001b[0m\u001b[0;34m\u001b[0m\u001b[0m\n\u001b[1;32m    124\u001b[0m         \u001b[0mZ\u001b[0m\u001b[0;34m[\u001b[0m\u001b[0mZ\u001b[0m\u001b[0;34m<\u001b[0m\u001b[0;34m-\u001b[0m\u001b[0;36m9990\u001b[0m\u001b[0;34m]\u001b[0m\u001b[0;34m=\u001b[0m \u001b[0;34m-\u001b[0m\u001b[0;36m9999\u001b[0m\u001b[0;34m\u001b[0m\u001b[0m\n",
      "\u001b[0;31mNameError\u001b[0m: global name 'timeNormal' is not defined"
     ]
    }
   ],
   "source": [
    "# Assume uniform dimensions specified in input dimensions. \n",
    "\n",
    "default_geotransform, default_geoprojection = global_georeference(np.ones([Y_DIMENSION_5MIN,X_DIMENSION_5MIN]))\n",
    "\n",
    "for root, dirs, file_names in os.walk(EC2_INPUT_PATH):\n",
    "    for file_name in file_names:\n",
    "        if file_name.endswith(\".nc4\") or file_name.endswith(\".nc\"):\n",
    "            print(file_name)\n",
    "            input_path = os.path.join(root, file_name) \n",
    "            Z = netCDF4_to_geotiff(file_name,input_path,ec2_output_path, default_geotransform, default_geoprojection)\n",
    "                "
   ]
  },
  {
   "cell_type": "code",
   "execution_count": null,
   "metadata": {
    "collapsed": true
   },
   "outputs": [],
   "source": [
    "files = os.listdir(ec2_output_path)\n",
    "print(\"Number of files: \" + str(len(files)))"
   ]
  },
  {
   "cell_type": "markdown",
   "metadata": {},
   "source": [
    "Some files from Utrecht contain double years, removing the erroneous ones (used Panoply/Qgis to inspect those files):\n",
    "\n",
    "global_historical_PDomWN_year_millionm3_5min_1960_2014I055Y1960M01.tif\n",
    "global_historical_PDomWN_month_millionm3_5min_1960_2014I660Y1960M01.tif\n",
    "global_historical_PDomWN_month_millionm3_5min_1960_2014I661Y1960M01.tif\n",
    "\n",
    "\n"
   ]
  },
  {
   "cell_type": "code",
   "execution_count": null,
   "metadata": {
    "collapsed": true
   },
   "outputs": [],
   "source": [
    "!mkdir /volumes/data/trash"
   ]
  },
  {
   "cell_type": "code",
   "execution_count": null,
   "metadata": {},
   "outputs": [],
   "source": [
    "!mv /volumes/data/Y2017M07D31_RH_Convert_NetCDF_Geotiff_V02/global_historical_PDomWN_year_millionm3_5min_1960_2014I055Y1960M01.tif /volumes/data/trash/global_historical_PDomWN_year_millionm3_5min_1960_2014I055Y1960M01.tif\n",
    "!mv /volumes/data/Y2017M07D31_RH_Convert_NetCDF_Geotiff_V02/global_historical_PDomWN_month_millionm3_5min_1960_2014I660Y1960M01.tif /volumes/data/trash/global_historical_PDomWN_month_millionm3_5min_1960_2014I660Y1960M01.tif\n",
    "!mv /volumes/data/Y2017M07D31_RH_Convert_NetCDF_Geotiff_V02/global_historical_PDomWN_month_millionm3_5min_1960_2014I661Y1960M01.tif /volumes/data/trash/global_historical_PDomWN_month_millionm3_5min_1960_2014I661Y1960M01.tif\n",
    "\n"
   ]
  },
  {
   "cell_type": "code",
   "execution_count": null,
   "metadata": {
    "collapsed": true
   },
   "outputs": [],
   "source": [
    "files = os.listdir(ec2_output_path)\n",
    "print(\"Number of files: \" + str(len(files)))"
   ]
  }
 ],
 "metadata": {
  "kernelspec": {
   "display_name": "Python 27",
   "language": "python",
   "name": "python27"
  },
  "language_info": {
   "codemirror_mode": {
    "name": "ipython",
    "version": 2
   },
   "file_extension": ".py",
   "mimetype": "text/x-python",
   "name": "python",
   "nbconvert_exporter": "python",
   "pygments_lexer": "ipython2",
   "version": "2.7.14"
  }
 },
 "nbformat": 4,
 "nbformat_minor": 1
}
