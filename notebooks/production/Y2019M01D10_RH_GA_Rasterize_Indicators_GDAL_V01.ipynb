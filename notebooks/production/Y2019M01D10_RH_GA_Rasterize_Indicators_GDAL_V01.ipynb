{
 "cells": [
  {
   "cell_type": "code",
   "execution_count": 1,
   "metadata": {},
   "outputs": [
    {
     "name": "stdout",
     "output_type": "stream",
     "text": [
      "RDS_INPUT_TABLE: y2018m12d06_rh_master_shape_v01_v02\n",
      "BQ_INPUT_TABLE_NAME: y2018m12d11_rh_master_weights_gpd_v02_v06\n",
      "s3_output_path: s3://wri-projects/Aqueduct30/processData/Y2019M01D10_RH_GA_Rasterize_Indicators_GDAL_V01/output_V02/ \n",
      "GCS_OUTPUT_PATH:gs://aqueduct30_v01/Y2019M01D10_RH_GA_Rasterize_Indicators_GDAL_V01\n"
     ]
    }
   ],
   "source": [
    "\"\"\" Rasterize indicators at 30s as input for aggregation.\n",
    "-------------------------------------------------------------------------------\n",
    "\n",
    "rasterize indicators at 30s resolution. Note that a simplified version of the\n",
    "geometry is used to speed up calculations. \n",
    "\n",
    "Added -at (all touch) to the rasterize command to avoid gaps.\n",
    "\n",
    "rasterizing is intesive and takes 20 minutes per indicator. \n",
    "\n",
    "Author: Rutger Hofste\n",
    "Date: 20190108\n",
    "Kernel: python35\n",
    "Docker: rutgerhofste/gisdocker:ubuntu16.04\n",
    "\n",
    "Args:\n",
    "\n",
    "\"\"\"\n",
    "\n",
    "TESTING = 0\n",
    "SCRIPT_NAME = \"Y2019M01D10_RH_GA_Rasterize_Indicators_GDAL_V01\"\n",
    "OUTPUT_VERSION = 2\n",
    "\n",
    "X_DIMENSION_5MIN = 4320\n",
    "Y_DIMENSION_5MIN = 2160\n",
    "\n",
    "X_DIMENSION_30S = 43200\n",
    "Y_DIMENSION_30S = 21600\n",
    "\n",
    "RDS_DATABASE_ENDPOINT = \"aqueduct30v05.cgpnumwmfcqc.eu-central-1.rds.amazonaws.com\"\n",
    "RDS_DATABASE_NAME = \"database01\"\n",
    "RDS_INPUT_TABLE =\"y2018m12d06_rh_master_shape_v01_v02\"\n",
    "\n",
    "BQ_PROJECT_ID = \"aqueduct30\"\n",
    "BQ_DATASET_NAME = \"aqueduct30v01\"\n",
    "BQ_INPUT_TABLE_NAME = \"y2018m12d11_rh_master_weights_gpd_v02_v06\"\n",
    "\n",
    "GDAL_RASTERIZE_PATH = \"/opt/anaconda3/envs/python35/bin/gdal_rasterize\"\n",
    "\n",
    "GCS_OUTPUT_PATH = \"gs://aqueduct30_v01/{}\".format(SCRIPT_NAME)\n",
    "\n",
    "ec2_input_path = \"/volumes/data/{}/input_V{:02.0f}/\".format(SCRIPT_NAME,OUTPUT_VERSION)\n",
    "ec2_output_path = \"/volumes/data/{}/output_V{:02.0f}/\".format(SCRIPT_NAME,OUTPUT_VERSION)\n",
    "\n",
    "s3_output_path = \"s3://wri-projects/Aqueduct30/processData/{}/output_V{:02.0f}/\".format(SCRIPT_NAME,OUTPUT_VERSION)\n",
    "\n",
    "print(\"RDS_INPUT_TABLE: \" + RDS_INPUT_TABLE +\n",
    "      \"\\nBQ_INPUT_TABLE_NAME: \" + BQ_INPUT_TABLE_NAME +\n",
    "      \"\\ns3_output_path: \" + s3_output_path,\n",
    "      \"\\nGCS_OUTPUT_PATH:\"+ GCS_OUTPUT_PATH)\n"
   ]
  },
  {
   "cell_type": "code",
   "execution_count": 2,
   "metadata": {},
   "outputs": [
    {
     "name": "stdout",
     "output_type": "stream",
     "text": [
      "Y2019M01D10 UTC 15:52\n"
     ]
    },
    {
     "data": {
      "text/plain": [
       "'3.5.4 |Anaconda, Inc.| (default, Nov 20 2017, 18:44:38) \\n[GCC 7.2.0]'"
      ]
     },
     "execution_count": 2,
     "metadata": {},
     "output_type": "execute_result"
    }
   ],
   "source": [
    "import time, datetime, sys\n",
    "dateString = time.strftime(\"Y%YM%mD%d\")\n",
    "timeString = time.strftime(\"UTC %H:%M\")\n",
    "start = datetime.datetime.now()\n",
    "print(dateString,timeString)\n",
    "sys.version"
   ]
  },
  {
   "cell_type": "code",
   "execution_count": 3,
   "metadata": {},
   "outputs": [
    {
     "name": "stdout",
     "output_type": "stream",
     "text": [
      "rm: cannot remove '/volumes/data/Y2019M01D10_RH_GA_Rasterize_Indicators_GDAL_V01/input_V02/': No such file or directory\n",
      "rm: cannot remove '/volumes/data/Y2019M01D10_RH_GA_Rasterize_Indicators_GDAL_V01/output_V02/': No such file or directory\n"
     ]
    }
   ],
   "source": [
    "!rm -r {ec2_input_path}\n",
    "!rm -r {ec2_output_path}\n",
    "!mkdir -p {ec2_input_path}\n",
    "!mkdir -p {ec2_output_path}"
   ]
  },
  {
   "cell_type": "code",
   "execution_count": 4,
   "metadata": {
    "collapsed": true
   },
   "outputs": [],
   "source": [
    "import os\n",
    "import subprocess\n",
    "import sqlalchemy\n",
    "import pandas as pd\n",
    "import geopandas as gpd\n",
    "from google.cloud import bigquery\n",
    "\n",
    "os.environ[\"GOOGLE_APPLICATION_CREDENTIALS\"] = \"/.google.json\"\n",
    "os.environ[\"GOOGLE_CLOUD_PROJECT\"] = \"aqueduct30\"\n",
    "client = bigquery.Client(project=BQ_PROJECT_ID)"
   ]
  },
  {
   "cell_type": "code",
   "execution_count": 5,
   "metadata": {
    "collapsed": true
   },
   "outputs": [],
   "source": [
    "F = open(\"/.password\",\"r\")\n",
    "password = F.read().splitlines()[0]\n",
    "F.close()\n",
    "\n",
    "engine = sqlalchemy.create_engine(\"postgresql://rutgerhofste:{}@{}:5432/{}\".format(password,RDS_DATABASE_ENDPOINT,RDS_DATABASE_NAME))\n",
    "connection = engine.connect()"
   ]
  },
  {
   "cell_type": "code",
   "execution_count": 6,
   "metadata": {},
   "outputs": [],
   "source": [
    "sql = \"\"\"\n",
    "SELECT\n",
    "  string_id,\n",
    "  pfaf_id,\n",
    "  gid_1,\n",
    "  aqid,\n",
    "  ST_SimplifyPreserveTopology(geom,0.00833333) as geom\n",
    "FROM\n",
    "  {}\n",
    "\"\"\".format(RDS_INPUT_TABLE)"
   ]
  },
  {
   "cell_type": "code",
   "execution_count": 7,
   "metadata": {},
   "outputs": [],
   "source": [
    "gdf = gpd.read_postgis(sql=sql,\n",
    "                       con=engine)"
   ]
  },
  {
   "cell_type": "code",
   "execution_count": 8,
   "metadata": {},
   "outputs": [
    {
     "data": {
      "text/plain": [
       "(68511, 5)"
      ]
     },
     "execution_count": 8,
     "metadata": {},
     "output_type": "execute_result"
    }
   ],
   "source": [
    "gdf.shape"
   ]
  },
  {
   "cell_type": "code",
   "execution_count": 9,
   "metadata": {},
   "outputs": [
    {
     "data": {
      "text/html": [
       "<div>\n",
       "<style scoped>\n",
       "    .dataframe tbody tr th:only-of-type {\n",
       "        vertical-align: middle;\n",
       "    }\n",
       "\n",
       "    .dataframe tbody tr th {\n",
       "        vertical-align: top;\n",
       "    }\n",
       "\n",
       "    .dataframe thead th {\n",
       "        text-align: right;\n",
       "    }\n",
       "</style>\n",
       "<table border=\"1\" class=\"dataframe\">\n",
       "  <thead>\n",
       "    <tr style=\"text-align: right;\">\n",
       "      <th></th>\n",
       "      <th>string_id</th>\n",
       "      <th>pfaf_id</th>\n",
       "      <th>gid_1</th>\n",
       "      <th>aqid</th>\n",
       "      <th>geom</th>\n",
       "    </tr>\n",
       "  </thead>\n",
       "  <tbody>\n",
       "    <tr>\n",
       "      <th>0</th>\n",
       "      <td>111011-EGY.11_1-3365</td>\n",
       "      <td>111011</td>\n",
       "      <td>EGY.11_1</td>\n",
       "      <td>3365</td>\n",
       "      <td>POLYGON ((31.90590570688292 29.85788703615783,...</td>\n",
       "    </tr>\n",
       "    <tr>\n",
       "      <th>1</th>\n",
       "      <td>111011-None-3365</td>\n",
       "      <td>111011</td>\n",
       "      <td>-9999</td>\n",
       "      <td>3365</td>\n",
       "      <td>(POLYGON ((32.46194054146073 29.89250514754305...</td>\n",
       "    </tr>\n",
       "    <tr>\n",
       "      <th>2</th>\n",
       "      <td>111012-EGY.11_1-3365</td>\n",
       "      <td>111012</td>\n",
       "      <td>EGY.11_1</td>\n",
       "      <td>3365</td>\n",
       "      <td>POLYGON ((31.88750000022489 29.85833333371637,...</td>\n",
       "    </tr>\n",
       "    <tr>\n",
       "      <th>3</th>\n",
       "      <td>111012-EGY.15_1-None</td>\n",
       "      <td>111012</td>\n",
       "      <td>EGY.15_1</td>\n",
       "      <td>-9999</td>\n",
       "      <td>POLYGON ((32.36609158210641 29.63378296420298,...</td>\n",
       "    </tr>\n",
       "    <tr>\n",
       "      <th>4</th>\n",
       "      <td>111012-EGY.8_1-3365</td>\n",
       "      <td>111012</td>\n",
       "      <td>EGY.8_1</td>\n",
       "      <td>3365</td>\n",
       "      <td>POLYGON ((31.89332770960627 29.73370743035362,...</td>\n",
       "    </tr>\n",
       "  </tbody>\n",
       "</table>\n",
       "</div>"
      ],
      "text/plain": [
       "              string_id  pfaf_id     gid_1  aqid  \\\n",
       "0  111011-EGY.11_1-3365   111011  EGY.11_1  3365   \n",
       "1      111011-None-3365   111011     -9999  3365   \n",
       "2  111012-EGY.11_1-3365   111012  EGY.11_1  3365   \n",
       "3  111012-EGY.15_1-None   111012  EGY.15_1 -9999   \n",
       "4   111012-EGY.8_1-3365   111012   EGY.8_1  3365   \n",
       "\n",
       "                                                geom  \n",
       "0  POLYGON ((31.90590570688292 29.85788703615783,...  \n",
       "1  (POLYGON ((32.46194054146073 29.89250514754305...  \n",
       "2  POLYGON ((31.88750000022489 29.85833333371637,...  \n",
       "3  POLYGON ((32.36609158210641 29.63378296420298,...  \n",
       "4  POLYGON ((31.89332770960627 29.73370743035362,...  "
      ]
     },
     "execution_count": 9,
     "metadata": {},
     "output_type": "execute_result"
    }
   ],
   "source": [
    "gdf.head()"
   ]
  },
  {
   "cell_type": "code",
   "execution_count": 10,
   "metadata": {
    "collapsed": true
   },
   "outputs": [],
   "source": [
    "indicators = [\"bws\",\"bwd\",\"iav\",\"sev\",\"gtd\",\"drr\",\"rfr\",\"cfr\",\"ucw\",\"cep\",\"udw\",\"usa\",\"rri\"]"
   ]
  },
  {
   "cell_type": "code",
   "execution_count": 11,
   "metadata": {
    "collapsed": true
   },
   "outputs": [],
   "source": [
    "def rasterize_indicator(indicator):\n",
    "    \"\"\" Rasterize Indicator Score at 30 arc seconds\n",
    "    resolution.\n",
    "    \n",
    "    \"\"\"\n",
    "    bq_sql = \"\"\"\n",
    "    SELECT\n",
    "      string_id,\n",
    "      score\n",
    "    FROM\n",
    "      `{}.{}.{}`\n",
    "    WHERE\n",
    "      industry_short ='def'\n",
    "      AND indicator = '{}'\n",
    "    \"\"\".format(BQ_PROJECT_ID,BQ_DATASET_NAME,BQ_INPUT_TABLE_NAME,indicator)\n",
    "    df = pd.read_gbq(query=bq_sql,\n",
    "                 dialect=\"standard\")\n",
    "    gdf_merged = gdf.merge(df,on=\"string_id\")\n",
    "    destination_path_shp = \"{}{}.shp\".format(ec2_input_path,indicator)\n",
    "    destination_path_tif = \"{}{}.tif\".format(ec2_output_path,indicator)\n",
    "    gdf_merged.to_file(filename=destination_path_shp,\n",
    "                   driver=\"ESRI Shapefile\")\n",
    "    command = \"{} -a {} -at -ot Integer64 -of GTiff -te -180 -90 180 90 -ts {} {} -co COMPRESS=DEFLATE -co PREDICTOR=1 -co ZLEVEL=6 -l {} -a_nodata -9999 {} {}\".format(GDAL_RASTERIZE_PATH,\"score\",X_DIMENSION_30S,Y_DIMENSION_30S,indicator,destination_path_shp,destination_path_tif)\n",
    "    response = subprocess.check_output(command,shell=True)"
   ]
  },
  {
   "cell_type": "code",
   "execution_count": null,
   "metadata": {},
   "outputs": [
    {
     "name": "stdout",
     "output_type": "stream",
     "text": [
      "bws\n",
      "bwd\n",
      "iav\n",
      "sev\n",
      "gtd\n",
      "drr\n",
      "rfr\n",
      "cfr\n",
      "ucw\n"
     ]
    }
   ],
   "source": [
    "for indicator in indicators:\n",
    "    print(indicator)\n",
    "    rasterize_indicator(indicator)"
   ]
  },
  {
   "cell_type": "code",
   "execution_count": null,
   "metadata": {},
   "outputs": [],
   "source": [
    "!gsutil -m cp -r {ec2_output_path} {GCS_OUTPUT_PATH}"
   ]
  },
  {
   "cell_type": "code",
   "execution_count": null,
   "metadata": {},
   "outputs": [],
   "source": [
    "!aws s3 cp {ec2_output_path} {s3_output_path} --recursive"
   ]
  },
  {
   "cell_type": "code",
   "execution_count": null,
   "metadata": {},
   "outputs": [],
   "source": [
    "end = datetime.datetime.now()\n",
    "elapsed = end - start\n",
    "print(elapsed)"
   ]
  },
  {
   "cell_type": "markdown",
   "metadata": {},
   "source": [
    "Previous runs:   \n",
    "\\> 2 uur\n"
   ]
  },
  {
   "cell_type": "code",
   "execution_count": null,
   "metadata": {
    "collapsed": true
   },
   "outputs": [],
   "source": []
  }
 ],
 "metadata": {
  "kernelspec": {
   "display_name": "Python 35",
   "language": "python",
   "name": "python35"
  },
  "language_info": {
   "codemirror_mode": {
    "name": "ipython",
    "version": 3
   },
   "file_extension": ".py",
   "mimetype": "text/x-python",
   "name": "python",
   "nbconvert_exporter": "python",
   "pygments_lexer": "ipython3",
   "version": "3.5.4"
  }
 },
 "nbformat": 4,
 "nbformat_minor": 2
}
