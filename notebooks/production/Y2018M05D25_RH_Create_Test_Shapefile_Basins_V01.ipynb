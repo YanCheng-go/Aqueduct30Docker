{
 "cells": [
  {
   "cell_type": "code",
   "execution_count": 1,
   "metadata": {},
   "outputs": [
    {
     "name": "stdout",
     "output_type": "stream",
     "text": [
      "Input ec2: /volumes/data/Y2018M05D25_RH_Create_Test_Shapefile_Basins_V01/input_V01 \n",
      "Output ec2: /volumes/data/Y2018M05D25_RH_Create_Test_Shapefile_Basins_V01/output_V01 \n",
      "Output s3: s3://wri-projects/Aqueduct30/processData/Y2018M05D25_RH_Create_Test_Shapefile_Basins_V01/output_V01/\n"
     ]
    }
   ],
   "source": [
    "\"\"\" Create shapefile and geodataframe from list of pfaf_ids for testing\n",
    "-------------------------------------------------------------------------------\n",
    "\n",
    "\n",
    "Author: Rutger Hofste\n",
    "Date: 20180327\n",
    "Kernel: python35\n",
    "Docker: rutgerhofste/gisdocker:ubuntu16.04\n",
    "\n",
    "\"\"\"\n",
    "\n",
    "SCRIPT_NAME = \"Y2018M05D25_RH_Create_Test_Shapefile_Basins_V01\"\n",
    "OUTPUT_VERSION = 1\n",
    "\n",
    "DICTJE = {172265:\"Large stream in only one cell. perpendicular contributing areas\",\n",
    "          172263: \"Large stream in a few cells, perpendicular contributing areas\",\n",
    "          172261: \"Tiny basin smaller than one 5min cell\",\n",
    "          172250: \"Large basin with main stream\",\n",
    "          172306: \"Large basin with main stream and other stream in most downstream cell\",\n",
    "          172521: \"Small basin with a confluence within basin. Stream_order increases in most downstream cell but is part of basin\",\n",
    "          172144: \"Basin with an endorheic basin in one of its upstream cells\"}\n",
    "\n",
    "\n",
    "DATABASE_ENDPOINT = \"aqueduct30v05.cgpnumwmfcqc.eu-central-1.rds.amazonaws.com\"\n",
    "DATABASE_NAME = \"database01\"\n",
    "\n",
    "INPUT_TABLE_NAME = \"hybas06_v04\"\n",
    "OUTPUT_FILE_NAME = \"hybas06_v04_Selection\"\n",
    "\n",
    "ec2_input_path = \"/volumes/data/{}/input_V{:02.0f}\".format(SCRIPT_NAME,OUTPUT_VERSION)\n",
    "ec2_output_path = \"/volumes/data/{}/output_V{:02.0f}\".format(SCRIPT_NAME,OUTPUT_VERSION)\n",
    "s3_output_path = \"s3://wri-projects/Aqueduct30/processData/{}/output_V{:02.0f}/\".format(SCRIPT_NAME,OUTPUT_VERSION)\n",
    "\n",
    "\n",
    "print(\"Input ec2: \" + ec2_input_path,\n",
    "      \"\\nOutput ec2: \" + ec2_output_path,\n",
    "      \"\\nOutput s3: \" + s3_output_path)"
   ]
  },
  {
   "cell_type": "code",
   "execution_count": 2,
   "metadata": {},
   "outputs": [
    {
     "name": "stdout",
     "output_type": "stream",
     "text": [
      "Y2018M05D25 UTC 08:30\n"
     ]
    },
    {
     "data": {
      "text/plain": [
       "'3.5.4 |Anaconda, Inc.| (default, Nov 20 2017, 18:44:38) \\n[GCC 7.2.0]'"
      ]
     },
     "execution_count": 2,
     "metadata": {},
     "output_type": "execute_result"
    }
   ],
   "source": [
    "import time, datetime, sys\n",
    "dateString = time.strftime(\"Y%YM%mD%d\")\n",
    "timeString = time.strftime(\"UTC %H:%M\")\n",
    "start = datetime.datetime.now()\n",
    "print(dateString,timeString)\n",
    "sys.version"
   ]
  },
  {
   "cell_type": "code",
   "execution_count": 3,
   "metadata": {},
   "outputs": [],
   "source": [
    "!rm -r {ec2_input_path}\n",
    "!rm -r {ec2_output_path}\n",
    "!mkdir -p {ec2_input_path}\n",
    "!mkdir -p {ec2_output_path}"
   ]
  },
  {
   "cell_type": "code",
   "execution_count": 4,
   "metadata": {
    "collapsed": true
   },
   "outputs": [],
   "source": [
    "# imports\n",
    "import re\n",
    "import os\n",
    "import numpy as np\n",
    "import pandas as pd\n",
    "import geopandas as gpd\n",
    "import aqueduct3\n",
    "from datetime import timedelta\n",
    "from sqlalchemy import *\n",
    "pd.set_option('display.max_columns', 500)"
   ]
  },
  {
   "cell_type": "code",
   "execution_count": 5,
   "metadata": {},
   "outputs": [],
   "source": [
    "def postGisToGdf(connection,tableName):\n",
    "    \"\"\"this function gets a geoDataFrame from a postGIS database instance\n",
    "    \n",
    "    \n",
    "    Args:\n",
    "        connection (sqlalchemy.engine.base.Connection) : postGIS enabled database connection \n",
    "        tableName (string) : table name\n",
    " \n",
    "    Returns:\n",
    "        gdf (geoPandas.GeoDataFrame) : the geodataframe from PostGIS\n",
    "        \n",
    "    todo:\n",
    "        allow for SQL filtering\n",
    "    \n",
    "    \n",
    "    \"\"\"   \n",
    "    gdf =gpd.GeoDataFrame.from_postgis(\"select * from %s\" %(tableName),connection,geom_col='geom' )\n",
    "    gdf.crs =  {'init' :'epsg:4326'}\n",
    "    return gdf"
   ]
  },
  {
   "cell_type": "code",
   "execution_count": 6,
   "metadata": {
    "collapsed": true
   },
   "outputs": [],
   "source": [
    "F = open(\"/.password\",\"r\")\n",
    "password = F.read().splitlines()[0]\n",
    "F.close()\n",
    "\n",
    "engine = create_engine(\"postgresql://rutgerhofste:{}@{}:5432/{}\".format(password,DATABASE_ENDPOINT,DATABASE_NAME))\n",
    "connection = engine.connect()"
   ]
  },
  {
   "cell_type": "code",
   "execution_count": 7,
   "metadata": {
    "collapsed": true
   },
   "outputs": [],
   "source": [
    "gdf = postGisToGdf(connection,INPUT_TABLE_NAME)"
   ]
  },
  {
   "cell_type": "code",
   "execution_count": 8,
   "metadata": {},
   "outputs": [],
   "source": [
    "gdf_selection = gdf[gdf[\"pfaf_id\"].isin(DICTJE.keys())]"
   ]
  },
  {
   "cell_type": "code",
   "execution_count": 9,
   "metadata": {},
   "outputs": [],
   "source": [
    "df = pd.DataFrame.from_dict(DICTJE,orient=\"index\")\n",
    "df.columns = [\"comment\"]\n",
    "df[\"pfaf_id\"] = df.index"
   ]
  },
  {
   "cell_type": "code",
   "execution_count": 10,
   "metadata": {},
   "outputs": [],
   "source": [
    "gdf_selection_merged = gdf_selection.merge(df,on=\"pfaf_id\")"
   ]
  },
  {
   "cell_type": "code",
   "execution_count": 11,
   "metadata": {},
   "outputs": [
    {
     "data": {
      "text/html": [
       "<div>\n",
       "<style scoped>\n",
       "    .dataframe tbody tr th:only-of-type {\n",
       "        vertical-align: middle;\n",
       "    }\n",
       "\n",
       "    .dataframe tbody tr th {\n",
       "        vertical-align: top;\n",
       "    }\n",
       "\n",
       "    .dataframe thead th {\n",
       "        text-align: right;\n",
       "    }\n",
       "</style>\n",
       "<table border=\"1\" class=\"dataframe\">\n",
       "  <thead>\n",
       "    <tr style=\"text-align: right;\">\n",
       "      <th></th>\n",
       "      <th>hybas_id</th>\n",
       "      <th>next_down</th>\n",
       "      <th>next_sink</th>\n",
       "      <th>main_bas</th>\n",
       "      <th>dist_sink</th>\n",
       "      <th>dist_main</th>\n",
       "      <th>sub_area</th>\n",
       "      <th>up_area</th>\n",
       "      <th>endo</th>\n",
       "      <th>coast</th>\n",
       "      <th>order</th>\n",
       "      <th>sort</th>\n",
       "      <th>pfaf_id</th>\n",
       "      <th>geom</th>\n",
       "      <th>comment</th>\n",
       "    </tr>\n",
       "  </thead>\n",
       "  <tbody>\n",
       "    <tr>\n",
       "      <th>0</th>\n",
       "      <td>1060535340</td>\n",
       "      <td>1060525270</td>\n",
       "      <td>1060034260</td>\n",
       "      <td>1060034260</td>\n",
       "      <td>2371.4</td>\n",
       "      <td>2371.4</td>\n",
       "      <td>25458.3</td>\n",
       "      <td>25458.3</td>\n",
       "      <td>0</td>\n",
       "      <td>0</td>\n",
       "      <td>3</td>\n",
       "      <td>2026</td>\n",
       "      <td>172144</td>\n",
       "      <td>(POLYGON ((27.14583333333336 16.18750000000002...</td>\n",
       "      <td>Basin with an endorheic basin in one of its up...</td>\n",
       "    </tr>\n",
       "    <tr>\n",
       "      <th>1</th>\n",
       "      <td>1060538700</td>\n",
       "      <td>1060531620</td>\n",
       "      <td>1060034260</td>\n",
       "      <td>1060034260</td>\n",
       "      <td>2919.4</td>\n",
       "      <td>2919.4</td>\n",
       "      <td>20388.9</td>\n",
       "      <td>117731.3</td>\n",
       "      <td>0</td>\n",
       "      <td>0</td>\n",
       "      <td>2</td>\n",
       "      <td>2061</td>\n",
       "      <td>172250</td>\n",
       "      <td>(POLYGON ((34.38750000000002 17.3541666666667,...</td>\n",
       "      <td>Large basin with main stream</td>\n",
       "    </tr>\n",
       "    <tr>\n",
       "      <th>2</th>\n",
       "      <td>1060648450</td>\n",
       "      <td>1060538700</td>\n",
       "      <td>1060034260</td>\n",
       "      <td>1060034260</td>\n",
       "      <td>3392.4</td>\n",
       "      <td>3392.4</td>\n",
       "      <td>12.4</td>\n",
       "      <td>30208.5</td>\n",
       "      <td>0</td>\n",
       "      <td>0</td>\n",
       "      <td>3</td>\n",
       "      <td>2080</td>\n",
       "      <td>172261</td>\n",
       "      <td>(POLYGON ((35.8541666666667 14.29166666666669,...</td>\n",
       "      <td>Tiny basin smaller than one 5min cell</td>\n",
       "    </tr>\n",
       "    <tr>\n",
       "      <th>3</th>\n",
       "      <td>1060658920</td>\n",
       "      <td>1060649730</td>\n",
       "      <td>1060034260</td>\n",
       "      <td>1060034260</td>\n",
       "      <td>3439.2</td>\n",
       "      <td>3439.2</td>\n",
       "      <td>798.6</td>\n",
       "      <td>25727.8</td>\n",
       "      <td>0</td>\n",
       "      <td>0</td>\n",
       "      <td>3</td>\n",
       "      <td>2089</td>\n",
       "      <td>172265</td>\n",
       "      <td>(POLYGON ((36.01250000000002 13.8041666666667,...</td>\n",
       "      <td>Large stream in only one cell. perpendicular c...</td>\n",
       "    </tr>\n",
       "    <tr>\n",
       "      <th>4</th>\n",
       "      <td>1060554260</td>\n",
       "      <td>1060542340</td>\n",
       "      <td>1060034260</td>\n",
       "      <td>1060034260</td>\n",
       "      <td>2950.2</td>\n",
       "      <td>2950.2</td>\n",
       "      <td>7665.8</td>\n",
       "      <td>7665.8</td>\n",
       "      <td>0</td>\n",
       "      <td>0</td>\n",
       "      <td>2</td>\n",
       "      <td>2065</td>\n",
       "      <td>172306</td>\n",
       "      <td>(POLYGON ((33.76666666666669 16.64166666666669...</td>\n",
       "      <td>Large basin with main stream and other stream ...</td>\n",
       "    </tr>\n",
       "    <tr>\n",
       "      <th>5</th>\n",
       "      <td>1060645140</td>\n",
       "      <td>1060601190</td>\n",
       "      <td>1060034260</td>\n",
       "      <td>1060034260</td>\n",
       "      <td>3346.6</td>\n",
       "      <td>3346.6</td>\n",
       "      <td>362.0</td>\n",
       "      <td>34940.0</td>\n",
       "      <td>0</td>\n",
       "      <td>0</td>\n",
       "      <td>2</td>\n",
       "      <td>2076</td>\n",
       "      <td>172521</td>\n",
       "      <td>(POLYGON ((32.06666666666668 14.52916666666669...</td>\n",
       "      <td>Small basin with a confluence within basin. St...</td>\n",
       "    </tr>\n",
       "    <tr>\n",
       "      <th>6</th>\n",
       "      <td>1060649730</td>\n",
       "      <td>1060648450</td>\n",
       "      <td>1060034260</td>\n",
       "      <td>1060034260</td>\n",
       "      <td>3397.2</td>\n",
       "      <td>3397.2</td>\n",
       "      <td>1755.1</td>\n",
       "      <td>28504.2</td>\n",
       "      <td>0</td>\n",
       "      <td>0</td>\n",
       "      <td>3</td>\n",
       "      <td>2082</td>\n",
       "      <td>172263</td>\n",
       "      <td>(POLYGON ((35.94166666666668 13.93750000000002...</td>\n",
       "      <td>Large stream in a few cells, perpendicular con...</td>\n",
       "    </tr>\n",
       "  </tbody>\n",
       "</table>\n",
       "</div>"
      ],
      "text/plain": [
       "     hybas_id   next_down   next_sink    main_bas  dist_sink  dist_main  \\\n",
       "0  1060535340  1060525270  1060034260  1060034260     2371.4     2371.4   \n",
       "1  1060538700  1060531620  1060034260  1060034260     2919.4     2919.4   \n",
       "2  1060648450  1060538700  1060034260  1060034260     3392.4     3392.4   \n",
       "3  1060658920  1060649730  1060034260  1060034260     3439.2     3439.2   \n",
       "4  1060554260  1060542340  1060034260  1060034260     2950.2     2950.2   \n",
       "5  1060645140  1060601190  1060034260  1060034260     3346.6     3346.6   \n",
       "6  1060649730  1060648450  1060034260  1060034260     3397.2     3397.2   \n",
       "\n",
       "   sub_area   up_area  endo  coast  order  sort  pfaf_id  \\\n",
       "0   25458.3   25458.3     0      0      3  2026   172144   \n",
       "1   20388.9  117731.3     0      0      2  2061   172250   \n",
       "2      12.4   30208.5     0      0      3  2080   172261   \n",
       "3     798.6   25727.8     0      0      3  2089   172265   \n",
       "4    7665.8    7665.8     0      0      2  2065   172306   \n",
       "5     362.0   34940.0     0      0      2  2076   172521   \n",
       "6    1755.1   28504.2     0      0      3  2082   172263   \n",
       "\n",
       "                                                geom  \\\n",
       "0  (POLYGON ((27.14583333333336 16.18750000000002...   \n",
       "1  (POLYGON ((34.38750000000002 17.3541666666667,...   \n",
       "2  (POLYGON ((35.8541666666667 14.29166666666669,...   \n",
       "3  (POLYGON ((36.01250000000002 13.8041666666667,...   \n",
       "4  (POLYGON ((33.76666666666669 16.64166666666669...   \n",
       "5  (POLYGON ((32.06666666666668 14.52916666666669...   \n",
       "6  (POLYGON ((35.94166666666668 13.93750000000002...   \n",
       "\n",
       "                                             comment  \n",
       "0  Basin with an endorheic basin in one of its up...  \n",
       "1                       Large basin with main stream  \n",
       "2              Tiny basin smaller than one 5min cell  \n",
       "3  Large stream in only one cell. perpendicular c...  \n",
       "4  Large basin with main stream and other stream ...  \n",
       "5  Small basin with a confluence within basin. St...  \n",
       "6  Large stream in a few cells, perpendicular con...  "
      ]
     },
     "execution_count": 11,
     "metadata": {},
     "output_type": "execute_result"
    }
   ],
   "source": [
    "gdf_selection_merged"
   ]
  },
  {
   "cell_type": "code",
   "execution_count": 12,
   "metadata": {
    "collapsed": true
   },
   "outputs": [],
   "source": [
    "output_file_path = \"{}/{}\".format(ec2_output_path,OUTPUT_FILE_NAME)"
   ]
  },
  {
   "cell_type": "code",
   "execution_count": 13,
   "metadata": {
    "collapsed": true
   },
   "outputs": [],
   "source": [
    "gdf_selection_merged.to_file(filename=output_file_path,driver=\"ESRI Shapefile\")"
   ]
  },
  {
   "cell_type": "code",
   "execution_count": 14,
   "metadata": {},
   "outputs": [
    {
     "name": "stdout",
     "output_type": "stream",
     "text": [
      "upload: ../../../../data/Y2018M05D25_RH_Create_Test_Shapefile_Basins_V01/output_V01/hybas06_v04_Selection/hybas06_v04_Selection.cpg to s3://wri-projects/Aqueduct30/processData/Y2018M05D25_RH_Create_Test_Shapefile_Basins_V01/output_V01/hybas06_v04_Selection/hybas06_v04_Selection.cpg\n",
      "upload: ../../../../data/Y2018M05D25_RH_Create_Test_Shapefile_Basins_V01/output_V01/hybas06_v04_Selection/hybas06_v04_Selection.dbf to s3://wri-projects/Aqueduct30/processData/Y2018M05D25_RH_Create_Test_Shapefile_Basins_V01/output_V01/hybas06_v04_Selection/hybas06_v04_Selection.dbf\n",
      "upload: ../../../../data/Y2018M05D25_RH_Create_Test_Shapefile_Basins_V01/output_V01/hybas06_v04_Selection/hybas06_v04_Selection.prj to s3://wri-projects/Aqueduct30/processData/Y2018M05D25_RH_Create_Test_Shapefile_Basins_V01/output_V01/hybas06_v04_Selection/hybas06_v04_Selection.prj\n",
      "upload: ../../../../data/Y2018M05D25_RH_Create_Test_Shapefile_Basins_V01/output_V01/hybas06_v04_Selection/hybas06_v04_Selection.shx to s3://wri-projects/Aqueduct30/processData/Y2018M05D25_RH_Create_Test_Shapefile_Basins_V01/output_V01/hybas06_v04_Selection/hybas06_v04_Selection.shx\n",
      "upload: ../../../../data/Y2018M05D25_RH_Create_Test_Shapefile_Basins_V01/output_V01/hybas06_v04_Selection/hybas06_v04_Selection.shp to s3://wri-projects/Aqueduct30/processData/Y2018M05D25_RH_Create_Test_Shapefile_Basins_V01/output_V01/hybas06_v04_Selection/hybas06_v04_Selection.shp\n"
     ]
    }
   ],
   "source": [
    "!aws s3 cp {ec2_output_path} {s3_output_path} --recursive"
   ]
  },
  {
   "cell_type": "markdown",
   "metadata": {},
   "source": [
    "File manually zipped and ingested on Earthengine"
   ]
  }
 ],
 "metadata": {
  "kernelspec": {
   "display_name": "Python 35",
   "language": "python",
   "name": "python35"
  },
  "language_info": {
   "codemirror_mode": {
    "name": "ipython",
    "version": 3
   },
   "file_extension": ".py",
   "mimetype": "text/x-python",
   "name": "python",
   "nbconvert_exporter": "python",
   "pygments_lexer": "ipython3",
   "version": "3.5.4"
  }
 },
 "nbformat": 4,
 "nbformat_minor": 2
}
