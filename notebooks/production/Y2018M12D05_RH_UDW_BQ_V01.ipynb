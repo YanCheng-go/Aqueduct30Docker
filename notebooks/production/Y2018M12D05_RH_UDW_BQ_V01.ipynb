{
 "cells": [
  {
   "cell_type": "code",
   "execution_count": 1,
   "metadata": {},
   "outputs": [
    {
     "name": "stdout",
     "output_type": "stream",
     "text": [
      "S3_INPUT_PATH:  s3://wri-projects/Aqueduct30/finalData/AccessToDW \n",
      "ec2_input_path:  /volumes/data/Y2018M12D05_RH_UDW_BQ_V01/input_V01 \n",
      "ec2_output_path:  /volumes/data/Y2018M12D05_RH_UDW_BQ_V01/output_V01 \n",
      "BQ_OUTPUT_DATASET_NAME:  aqueduct30v01 \n",
      "BQ_OUTPUT_TABLE_NAME:  y2018m12d05_rh_udw_bq_v01_v01\n"
     ]
    }
   ],
   "source": [
    "\"\"\" Process unimproved/no drinking water and store on BigQuery.\n",
    "-------------------------------------------------------------------------------\n",
    "\n",
    "Author: Rutger Hofste\n",
    "Date: 20181205\n",
    "Kernel: python35\n",
    "Docker: rutgerhofste/gisdocker:ubuntu16.04\n",
    "\n",
    "\"\"\"\n",
    "\n",
    "SCRIPT_NAME = \"Y2018M12D05_RH_UDW_BQ_V01\"\n",
    "OUTPUT_VERSION = 1\n",
    "\n",
    "NODATA_VALUE = -9999\n",
    "\n",
    "S3_INPUT_PATH = \"s3://wri-projects/Aqueduct30/finalData/AccessToDW\"\n",
    "INPUT_FILE_NAME = \"dw_results.csv\"\n",
    "\n",
    "BQ_PROJECT_ID = \"aqueduct30\"\n",
    "BQ_OUTPUT_DATASET_NAME = \"aqueduct30v01\"\n",
    "BQ_OUTPUT_TABLE_NAME = \"{}_v{:02.0f}\".format(SCRIPT_NAME,OUTPUT_VERSION).lower()\n",
    "\n",
    "ec2_input_path = \"/volumes/data/{}/input_V{:02.0f}\".format(SCRIPT_NAME,OUTPUT_VERSION) \n",
    "ec2_output_path = \"/volumes/data/{}/output_V{:02.0f}\".format(SCRIPT_NAME,OUTPUT_VERSION) \n",
    "\n",
    "print(\"S3_INPUT_PATH: \",S3_INPUT_PATH,\n",
    "      \"\\nec2_input_path: \",ec2_input_path,\n",
    "      \"\\nec2_output_path: \",ec2_output_path,\n",
    "      \"\\nBQ_OUTPUT_DATASET_NAME: \", BQ_OUTPUT_DATASET_NAME,\n",
    "      \"\\nBQ_OUTPUT_TABLE_NAME: \",BQ_OUTPUT_TABLE_NAME\n",
    "      )"
   ]
  },
  {
   "cell_type": "code",
   "execution_count": 2,
   "metadata": {},
   "outputs": [
    {
     "name": "stdout",
     "output_type": "stream",
     "text": [
      "Y2018M12D05 UTC 13:37\n"
     ]
    },
    {
     "data": {
      "text/plain": [
       "'3.5.4 |Anaconda, Inc.| (default, Nov 20 2017, 18:44:38) \\n[GCC 7.2.0]'"
      ]
     },
     "execution_count": 2,
     "metadata": {},
     "output_type": "execute_result"
    }
   ],
   "source": [
    "import time, datetime, sys\n",
    "dateString = time.strftime(\"Y%YM%mD%d\")\n",
    "timeString = time.strftime(\"UTC %H:%M\")\n",
    "start = datetime.datetime.now()\n",
    "print(dateString,timeString)\n",
    "sys.version"
   ]
  },
  {
   "cell_type": "code",
   "execution_count": 3,
   "metadata": {
    "collapsed": true
   },
   "outputs": [],
   "source": [
    "!rm -r {ec2_input_path}\n",
    "!rm -r {ec2_output_path}\n",
    "!mkdir -p {ec2_input_path}\n",
    "!mkdir -p {ec2_output_path}"
   ]
  },
  {
   "cell_type": "code",
   "execution_count": 4,
   "metadata": {},
   "outputs": [
    {
     "name": "stdout",
     "output_type": "stream",
     "text": [
      "download: s3://wri-projects/Aqueduct30/finalData/AccessToDW/dw_results.CPG to ../../../../data/Y2018M12D05_RH_UDW_BQ_V01/input_V01/dw_results.CPG\n",
      "download: s3://wri-projects/Aqueduct30/finalData/AccessToDW/dw_results.cpg to ../../../../data/Y2018M12D05_RH_UDW_BQ_V01/input_V01/dw_results.cpg\n",
      "download: s3://wri-projects/Aqueduct30/finalData/AccessToDW/README.txt to ../../../../data/Y2018M12D05_RH_UDW_BQ_V01/input_V01/README.txt\n",
      "download: s3://wri-projects/Aqueduct30/finalData/AccessToDW/dw_results.prj to ../../../../data/Y2018M12D05_RH_UDW_BQ_V01/input_V01/dw_results.prj\n",
      "download: s3://wri-projects/Aqueduct30/finalData/AccessToDW/dw_results.sbx to ../../../../data/Y2018M12D05_RH_UDW_BQ_V01/input_V01/dw_results.sbx\n",
      "download: s3://wri-projects/Aqueduct30/finalData/AccessToDW/dw_results.shp.xml to ../../../../data/Y2018M12D05_RH_UDW_BQ_V01/input_V01/dw_results.shp.xml\n",
      "download: s3://wri-projects/Aqueduct30/finalData/AccessToDW/wri_aqueduct3_drinkingwater.py to ../../../../data/Y2018M12D05_RH_UDW_BQ_V01/input_V01/wri_aqueduct3_drinkingwater.py\n",
      "download: s3://wri-projects/Aqueduct30/finalData/AccessToDW/dw_results.shx to ../../../../data/Y2018M12D05_RH_UDW_BQ_V01/input_V01/dw_results.shx\n",
      "download: s3://wri-projects/Aqueduct30/finalData/AccessToDW/dw_results.sbn to ../../../../data/Y2018M12D05_RH_UDW_BQ_V01/input_V01/dw_results.sbn\n",
      "download: s3://wri-projects/Aqueduct30/finalData/AccessToDW/dw_results.csv to ../../../../data/Y2018M12D05_RH_UDW_BQ_V01/input_V01/dw_results.csv\n",
      "download: s3://wri-projects/Aqueduct30/finalData/AccessToDW/dw_results.dbf to ../../../../data/Y2018M12D05_RH_UDW_BQ_V01/input_V01/dw_results.dbf\n",
      "download: s3://wri-projects/Aqueduct30/finalData/AccessToDW/dw_results.shp to ../../../../data/Y2018M12D05_RH_UDW_BQ_V01/input_V01/dw_results.shp\n"
     ]
    }
   ],
   "source": [
    "!aws s3 cp {S3_INPUT_PATH} {ec2_input_path} --recursive "
   ]
  },
  {
   "cell_type": "code",
   "execution_count": 5,
   "metadata": {
    "collapsed": true
   },
   "outputs": [],
   "source": [
    "import os\n",
    "import pandas as pd\n",
    "import numpy as np\n",
    "from google.cloud import bigquery\n",
    "\n",
    "os.environ[\"GOOGLE_APPLICATION_CREDENTIALS\"] = \"/.google.json\"\n",
    "os.environ[\"GOOGLE_CLOUD_PROJECT\"] = \"aqueduct30\"\n",
    "client = bigquery.Client(project=BQ_PROJECT_ID)"
   ]
  },
  {
   "cell_type": "code",
   "execution_count": 6,
   "metadata": {
    "collapsed": true
   },
   "outputs": [],
   "source": [
    "files = os.listdir(ec2_input_path)"
   ]
  },
  {
   "cell_type": "code",
   "execution_count": 7,
   "metadata": {
    "collapsed": true
   },
   "outputs": [],
   "source": [
    "input_path = \"{}/{}\".format(ec2_input_path,INPUT_FILE_NAME)"
   ]
  },
  {
   "cell_type": "code",
   "execution_count": 8,
   "metadata": {
    "collapsed": true
   },
   "outputs": [],
   "source": [
    "df = pd.read_csv(input_path)"
   ]
  },
  {
   "cell_type": "code",
   "execution_count": 9,
   "metadata": {},
   "outputs": [
    {
     "data": {
      "text/plain": [
       "PFAF_ID         int64\n",
       "DW_nat_raw    float64\n",
       "DW_rur_raw    float64\n",
       "DW_urb_raw    float64\n",
       "rur_pop       float64\n",
       "urb_pop       float64\n",
       "total_pop     float64\n",
       "DW_raw        float64\n",
       "DW_s          float64\n",
       "DW_cat         object\n",
       "dtype: object"
      ]
     },
     "execution_count": 9,
     "metadata": {},
     "output_type": "execute_result"
    }
   ],
   "source": [
    "df.dtypes"
   ]
  },
  {
   "cell_type": "code",
   "execution_count": 10,
   "metadata": {},
   "outputs": [
    {
     "data": {
      "text/html": [
       "<div>\n",
       "<style scoped>\n",
       "    .dataframe tbody tr th:only-of-type {\n",
       "        vertical-align: middle;\n",
       "    }\n",
       "\n",
       "    .dataframe tbody tr th {\n",
       "        vertical-align: top;\n",
       "    }\n",
       "\n",
       "    .dataframe thead th {\n",
       "        text-align: right;\n",
       "    }\n",
       "</style>\n",
       "<table border=\"1\" class=\"dataframe\">\n",
       "  <thead>\n",
       "    <tr style=\"text-align: right;\">\n",
       "      <th></th>\n",
       "      <th>PFAF_ID</th>\n",
       "      <th>DW_nat_raw</th>\n",
       "      <th>DW_rur_raw</th>\n",
       "      <th>DW_urb_raw</th>\n",
       "      <th>rur_pop</th>\n",
       "      <th>urb_pop</th>\n",
       "      <th>total_pop</th>\n",
       "      <th>DW_raw</th>\n",
       "      <th>DW_s</th>\n",
       "      <th>DW_cat</th>\n",
       "    </tr>\n",
       "  </thead>\n",
       "  <tbody>\n",
       "    <tr>\n",
       "      <th>0</th>\n",
       "      <td>111011</td>\n",
       "      <td>0.011696</td>\n",
       "      <td>0.016651</td>\n",
       "      <td>0.005164</td>\n",
       "      <td>67212.864470</td>\n",
       "      <td>60229.01666</td>\n",
       "      <td>127441.881100</td>\n",
       "      <td>0.011222</td>\n",
       "      <td>0.000000</td>\n",
       "      <td>Low (&lt; 2.5%)</td>\n",
       "    </tr>\n",
       "    <tr>\n",
       "      <th>1</th>\n",
       "      <td>111012</td>\n",
       "      <td>0.011696</td>\n",
       "      <td>0.016651</td>\n",
       "      <td>0.005164</td>\n",
       "      <td>31891.179690</td>\n",
       "      <td>0.00000</td>\n",
       "      <td>31891.179690</td>\n",
       "      <td>0.016651</td>\n",
       "      <td>0.413638</td>\n",
       "      <td>Low (&lt; 2.5%)</td>\n",
       "    </tr>\n",
       "    <tr>\n",
       "      <th>2</th>\n",
       "      <td>111013</td>\n",
       "      <td>0.011696</td>\n",
       "      <td>0.016651</td>\n",
       "      <td>0.005164</td>\n",
       "      <td>5741.101992</td>\n",
       "      <td>0.00000</td>\n",
       "      <td>5741.101992</td>\n",
       "      <td>0.016651</td>\n",
       "      <td>0.413638</td>\n",
       "      <td>Low (&lt; 2.5%)</td>\n",
       "    </tr>\n",
       "    <tr>\n",
       "      <th>3</th>\n",
       "      <td>111014</td>\n",
       "      <td>0.011696</td>\n",
       "      <td>0.016651</td>\n",
       "      <td>0.005164</td>\n",
       "      <td>6491.622601</td>\n",
       "      <td>0.00000</td>\n",
       "      <td>6491.622601</td>\n",
       "      <td>0.016651</td>\n",
       "      <td>0.413638</td>\n",
       "      <td>Low (&lt; 2.5%)</td>\n",
       "    </tr>\n",
       "    <tr>\n",
       "      <th>4</th>\n",
       "      <td>111015</td>\n",
       "      <td>0.011696</td>\n",
       "      <td>0.016651</td>\n",
       "      <td>0.005164</td>\n",
       "      <td>394618.164000</td>\n",
       "      <td>0.00000</td>\n",
       "      <td>394618.164000</td>\n",
       "      <td>0.016651</td>\n",
       "      <td>0.413638</td>\n",
       "      <td>Low (&lt; 2.5%)</td>\n",
       "    </tr>\n",
       "  </tbody>\n",
       "</table>\n",
       "</div>"
      ],
      "text/plain": [
       "   PFAF_ID  DW_nat_raw  DW_rur_raw  DW_urb_raw        rur_pop      urb_pop  \\\n",
       "0   111011    0.011696    0.016651    0.005164   67212.864470  60229.01666   \n",
       "1   111012    0.011696    0.016651    0.005164   31891.179690      0.00000   \n",
       "2   111013    0.011696    0.016651    0.005164    5741.101992      0.00000   \n",
       "3   111014    0.011696    0.016651    0.005164    6491.622601      0.00000   \n",
       "4   111015    0.011696    0.016651    0.005164  394618.164000      0.00000   \n",
       "\n",
       "       total_pop    DW_raw      DW_s        DW_cat  \n",
       "0  127441.881100  0.011222  0.000000  Low (< 2.5%)  \n",
       "1   31891.179690  0.016651  0.413638  Low (< 2.5%)  \n",
       "2    5741.101992  0.016651  0.413638  Low (< 2.5%)  \n",
       "3    6491.622601  0.016651  0.413638  Low (< 2.5%)  \n",
       "4  394618.164000  0.016651  0.413638  Low (< 2.5%)  "
      ]
     },
     "execution_count": 10,
     "metadata": {},
     "output_type": "execute_result"
    }
   ],
   "source": [
    "df.head()"
   ]
  },
  {
   "cell_type": "code",
   "execution_count": 11,
   "metadata": {
    "collapsed": true
   },
   "outputs": [],
   "source": [
    "# DW -> UDW\n",
    "\n",
    "\n",
    "# raw -> raw.\n",
    "# s -> score.\n",
    "# None -> cat.\n",
    "# cat -> label. "
   ]
  },
  {
   "cell_type": "code",
   "execution_count": 12,
   "metadata": {
    "collapsed": true
   },
   "outputs": [],
   "source": [
    "df_out = df.rename(columns={\"PFAF_ID\":\"pfaf_id\",\n",
    "                            \"DW_raw\":\"udw_raw\",\n",
    "                            \"DW_s\":\"udw_score\",\n",
    "                            \"DW_cat\":\"udw_label\"})"
   ]
  },
  {
   "cell_type": "code",
   "execution_count": 13,
   "metadata": {
    "collapsed": true
   },
   "outputs": [],
   "source": [
    "df_out.drop(columns=[\"DW_nat_raw\",\n",
    "                     \"DW_rur_raw\",\n",
    "                     \"DW_urb_raw\",\n",
    "                     \"rur_pop\",\n",
    "                     \"urb_pop\",\n",
    "                     \"total_pop\"],inplace=True)"
   ]
  },
  {
   "cell_type": "code",
   "execution_count": 14,
   "metadata": {
    "collapsed": true
   },
   "outputs": [],
   "source": [
    "df_out[\"udw_raw\"] = df_out[\"udw_raw\"].fillna(NODATA_VALUE)\n",
    "df_out[\"udw_score\"] = df_out[\"udw_score\"].fillna(NODATA_VALUE)\n",
    "df_out[\"udw_label\"] = df_out[\"udw_label\"].fillna(\"No Data\")"
   ]
  },
  {
   "cell_type": "code",
   "execution_count": 15,
   "metadata": {
    "collapsed": true
   },
   "outputs": [],
   "source": [
    "def score_to_category(score):\n",
    "    if score != 5:\n",
    "        cat = int(np.floor(score))\n",
    "    else:\n",
    "        cat = 4\n",
    "    return cat"
   ]
  },
  {
   "cell_type": "code",
   "execution_count": 16,
   "metadata": {
    "collapsed": true
   },
   "outputs": [],
   "source": [
    "df_out[\"udw_cat\"] = df_out[\"udw_score\"].apply(score_to_category)\n"
   ]
  },
  {
   "cell_type": "code",
   "execution_count": 17,
   "metadata": {
    "collapsed": true
   },
   "outputs": [],
   "source": [
    "df_out = df_out.reindex(sorted(df_out.columns), axis=1)"
   ]
  },
  {
   "cell_type": "code",
   "execution_count": 18,
   "metadata": {
    "collapsed": true
   },
   "outputs": [],
   "source": [
    "destination_table = \"{}.{}\".format(BQ_OUTPUT_DATASET_NAME,BQ_OUTPUT_TABLE_NAME)"
   ]
  },
  {
   "cell_type": "code",
   "execution_count": 19,
   "metadata": {},
   "outputs": [
    {
     "name": "stderr",
     "output_type": "stream",
     "text": [
      "2it [00:04,  2.05s/it]\n"
     ]
    }
   ],
   "source": [
    "df.to_gbq(destination_table=destination_table,\n",
    "          project_id=BQ_PROJECT_ID,\n",
    "          chunksize=10000,\n",
    "          if_exists=\"replace\")"
   ]
  },
  {
   "cell_type": "code",
   "execution_count": 20,
   "metadata": {},
   "outputs": [
    {
     "name": "stdout",
     "output_type": "stream",
     "text": [
      "0:00:18.328004\n"
     ]
    }
   ],
   "source": [
    "end = datetime.datetime.now()\n",
    "elapsed = end - start\n",
    "print(elapsed)"
   ]
  },
  {
   "cell_type": "markdown",
   "metadata": {},
   "source": [
    "Previous runs:  \n",
    "0:00:18.766466"
   ]
  }
 ],
 "metadata": {
  "kernelspec": {
   "display_name": "Python 35",
   "language": "python",
   "name": "python35"
  },
  "language_info": {
   "codemirror_mode": {
    "name": "ipython",
    "version": 3
   },
   "file_extension": ".py",
   "mimetype": "text/x-python",
   "name": "python",
   "nbconvert_exporter": "python",
   "pygments_lexer": "ipython3",
   "version": "3.5.4"
  }
 },
 "nbformat": 4,
 "nbformat_minor": 2
}
