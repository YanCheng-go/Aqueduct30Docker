{
 "cells": [
  {
   "cell_type": "code",
   "execution_count": 1,
   "metadata": {},
   "outputs": [
    {
     "name": "stdout",
     "output_type": "stream",
     "text": [
      "Input ee zones: projects/WRI-Aquaduct/Y2018M04D20_RH_Ingest_HydroBasins_GCS_EE_V01/output_V01\n",
      "Input ee values: projects/WRI-Aquaduct/PCRGlobWB20_Aux_V02\n",
      "Output gcs: gs://aqueduct30_v01/Y2018M04D20_RH_Zonal_Stats_Area_EE_V01/output_V01/\n"
     ]
    }
   ],
   "source": [
    "\"\"\" Zonal statistics for basin area. Export in table format.\n",
    "-------------------------------------------------------------------------------\n",
    "Calculate the total area per basin in m2 for 5min and 30s resolution and for\n",
    "level 00 and level 06 hydrobasins. Table is stored as csv and pickle on S3.\n",
    "\n",
    "\n",
    "Author: Rutger Hofste\n",
    "Date: 20180420\n",
    "Kernel: python35\n",
    "Docker: rutgerhofste/gisdocker:ubuntu16.04\n",
    "\n",
    "Args:\n",
    "    TESTING (boolean) : Testing mode. Uses a smaller geography if enabled.\n",
    "    SCRIPT_NAME (string) : Script name.\n",
    "    EE_INPUT_ZONES_PATH (string) : earthengine input path for zones.\n",
    "    EE_INPUT_VALUES_PATH (string) : earthengine input path for value images.\n",
    "    INPUT_VERSION_ZONES (integer) : input version for zones images.\n",
    "    INPUT_VERSION_VALUES (integer) : input version for value images.\n",
    "    OUTPUT_VERSION (integer) : output version. \n",
    "    EXTRA_PROPERTIES (dictionary) : Extra properties to store in the resulting\n",
    "        pandas dataframe. \n",
    "    \n",
    "\n",
    "Returns:\n",
    "\n",
    "\n",
    "\"\"\"\n",
    "\n",
    "# Input Parameters\n",
    "TESTING = 0\n",
    "SCRIPT_NAME = \"Y2018M04D20_RH_Zonal_Stats_Area_EE_V01\"\n",
    "EE_INPUT_ZONES_PATH = \"projects/WRI-Aquaduct/Y2018M04D20_RH_Ingest_HydroBasins_GCS_EE_V01/output_V01\"\n",
    "EE_INPUT_VALUES_PATH = \"projects/WRI-Aquaduct/PCRGlobWB20_Aux_V02\"\n",
    "INPUT_VERSION_ZONES = 4\n",
    "INPUT_VERSION_VALUES = 5\n",
    "OUTPUT_VERSION = 1\n",
    "\n",
    "EXTRA_PROPERTIES = {\"output_version\":OUTPUT_VERSION,\n",
    "                    \"script_used\":SCRIPT_NAME,\n",
    "                     \"spatial_aggregation\":\"hydrobasin\",\n",
    "                     \"parameter\":\"area\",\n",
    "                     \"unit\":\"m2\"}\n",
    "\n",
    "\n",
    "gcs_output_path = \"gs://aqueduct30_v01/{}/output_V{:02.0f}/\".format(SCRIPT_NAME,OUTPUT_VERSION)\n",
    "ec2_output_path = \"/volumes/data/{}/output_V{:02.0f}\".format(SCRIPT_NAME,OUTPUT_VERSION)\n",
    "s3_output_path = \"s3://wri-projects/Aqueduct30/processData/{}/output_V{:02.0f}\".format(SCRIPT_NAME,OUTPUT_VERSION)\n",
    "\n",
    "\n",
    "print(\"Input ee zones: \" +  EE_INPUT_ZONES_PATH +\n",
    "      \"\\nInput ee values: \" + EE_INPUT_VALUES_PATH +\n",
    "      \"\\nOutput gcs: \" + gcs_output_path)"
   ]
  },
  {
   "cell_type": "code",
   "execution_count": 2,
   "metadata": {},
   "outputs": [
    {
     "name": "stdout",
     "output_type": "stream",
     "text": [
      "Y2018M04D22 UTC 11:47\n"
     ]
    },
    {
     "data": {
      "text/plain": [
       "'3.5.4 |Anaconda, Inc.| (default, Nov 20 2017, 18:44:38) \\n[GCC 7.2.0]'"
      ]
     },
     "execution_count": 2,
     "metadata": {},
     "output_type": "execute_result"
    }
   ],
   "source": [
    "import time, datetime, sys\n",
    "dateString = time.strftime(\"Y%YM%mD%d\")\n",
    "timeString = time.strftime(\"UTC %H:%M\")\n",
    "start = datetime.datetime.now()\n",
    "print(dateString,timeString)\n",
    "sys.version"
   ]
  },
  {
   "cell_type": "code",
   "execution_count": 3,
   "metadata": {
    "collapsed": true
   },
   "outputs": [],
   "source": [
    "import pandas as pd\n",
    "import ee\n",
    "import aqueduct3\n",
    "ee.Initialize()"
   ]
  },
  {
   "cell_type": "code",
   "execution_count": 4,
   "metadata": {},
   "outputs": [],
   "source": [
    "def dict_to_feature(dictje):\n",
    "    return ee.Feature(None,dictje)\n",
    "\n",
    "def post_process_results(result_list,function_properties,extra_properties=EXTRA_PROPERTIES):\n",
    "    \"\"\"Client side function to convert results of reduceRegion to pandas dataframe.\n",
    "    -------------------------------------------------------------------------------\n",
    "    \n",
    "    Adds additional properties. The script is client side for convenienve reasons.\n",
    "    A more robust and fast approach would be to add the extra_properties to the \n",
    "    server side dictionary.\n",
    "    \n",
    "    Args:\n",
    "        result_list (ee.List) : List of dictionaries. Result from reduceRegion\n",
    "        function_properties (dictionary) : Additional properties used in the \n",
    "            reduceRegion function call.\n",
    "        extra_properties (dictionary) : Additional properties set at global level. \n",
    "    \n",
    "    Returns:\n",
    "        df (pd.DataFrame) : Pandas dataframe with extra properties.\n",
    "    \n",
    "    \n",
    "    \"\"\"\n",
    "    extra_properties = {**function_properties, **EXTRA_PROPERTIES}\n",
    "    result_list_clientside = result_list.getInfo()\n",
    "    df = pd.DataFrame(result_list_clientside)\n",
    "    df = df.assign(**extra_properties)\n",
    "    df = df.apply(pd.to_numeric, errors='ignore')\n",
    "    return df\n",
    "    \n",
    "    \n",
    "    "
   ]
  },
  {
   "cell_type": "code",
   "execution_count": 5,
   "metadata": {},
   "outputs": [],
   "source": []
  },
  {
   "cell_type": "code",
   "execution_count": 6,
   "metadata": {},
   "outputs": [
    {
     "name": "stdout",
     "output_type": "stream",
     "text": [
      "5min 6\n",
      "5min 0\n",
      "30s 6\n",
      "30s 0\n"
     ]
    }
   ],
   "source": [
    "spatial_resolutions = [\"5min\",\"30s\"]\n",
    "pfaf_levels = [6,0]\n",
    "reducer_names = [\"sum\"]\n",
    "\n",
    "geometry = aqueduct3.earthengine.get_global_geometry(TESTING)\n",
    "\n",
    "for reducer_name in reducer_names:\n",
    "    reducer = aqueduct3.earthengine.get_grouped_reducer(reducer_name)\n",
    "    \n",
    "    for spatial_resolution in spatial_resolutions:\n",
    "        crs_transform = aqueduct3.earthengine.get_crs_transform(spatial_resolution)\n",
    "\n",
    "        for pfaf_level in pfaf_levels:\n",
    "            print(spatial_resolution,pfaf_level)\n",
    "            \n",
    "            i_zones_asset_id = \"{}/hybas_lev{:02.0f}_v1c_merged_fiona_{}_V{:02.0f}\".format(EE_INPUT_ZONES_PATH,pfaf_level,spatial_resolution,INPUT_VERSION_ZONES)\n",
    "            i_values_asset_id = \"{}/global_area_m2_{}_V{:02.0f}\".format(EE_INPUT_VALUES_PATH,spatial_resolution,INPUT_VERSION_VALUES)\n",
    "            total_image = ee.Image(i_values_asset_id).addBands(ee.Image(i_zones_asset_id))\n",
    "            \n",
    "            result_list = total_image.reduceRegion(geometry = geometry,\n",
    "                                            reducer= reducer,\n",
    "                                            crsTransform = crs_transform,\n",
    "                                            maxPixels=1e10\n",
    "                                            ).get(\"groups\")\n",
    "\n",
    "            function_properties = {\"pfaf_level\":pfaf_level,\n",
    "                                   \"spatial_resolution\":spatial_resolution,\n",
    "                                   \"reducer\":reducer_name}\n",
    "            \n",
    "            df = post_process_results(result_list,function_properties)\n",
    "\n",
    "            output_file_path_pkl = \"{}/df_hybas_lev{:02.0f}_{}.pkl\".format(ec2_output_path,pfaf_level,spatial_resolution)\n",
    "            output_file_path_csv = \"{}/df_hybas_lev{:02.0f}_{}.csv\".format(ec2_output_path,pfaf_level,spatial_resolution)\n",
    "            df.to_pickle(output_file_path_pkl)\n",
    "            df.to_csv(output_file_path_csv)"
   ]
  },
  {
   "cell_type": "code",
   "execution_count": 7,
   "metadata": {},
   "outputs": [
    {
     "data": {
      "text/html": [
       "<div>\n",
       "<style scoped>\n",
       "    .dataframe tbody tr th:only-of-type {\n",
       "        vertical-align: middle;\n",
       "    }\n",
       "\n",
       "    .dataframe tbody tr th {\n",
       "        vertical-align: top;\n",
       "    }\n",
       "\n",
       "    .dataframe thead th {\n",
       "        text-align: right;\n",
       "    }\n",
       "</style>\n",
       "<table border=\"1\" class=\"dataframe\">\n",
       "  <thead>\n",
       "    <tr style=\"text-align: right;\">\n",
       "      <th></th>\n",
       "      <th>count</th>\n",
       "      <th>sum</th>\n",
       "      <th>zones</th>\n",
       "      <th>output_version</th>\n",
       "      <th>parameter</th>\n",
       "      <th>pfaf_level</th>\n",
       "      <th>reducer</th>\n",
       "      <th>script_used</th>\n",
       "      <th>spatial_aggregation</th>\n",
       "      <th>spatial_resolution</th>\n",
       "      <th>unit</th>\n",
       "    </tr>\n",
       "  </thead>\n",
       "  <tbody>\n",
       "    <tr>\n",
       "      <th>0</th>\n",
       "      <td>14</td>\n",
       "      <td>1.040163e+07</td>\n",
       "      <td>1.110110e+11</td>\n",
       "      <td>1</td>\n",
       "      <td>area</td>\n",
       "      <td>0</td>\n",
       "      <td>sum</td>\n",
       "      <td>Y2018M04D20_RH_Zonal_Stats_Area_EE_V01</td>\n",
       "      <td>hydrobasin</td>\n",
       "      <td>30s</td>\n",
       "      <td>m2</td>\n",
       "    </tr>\n",
       "    <tr>\n",
       "      <th>1</th>\n",
       "      <td>183</td>\n",
       "      <td>1.359256e+08</td>\n",
       "      <td>1.110110e+11</td>\n",
       "      <td>1</td>\n",
       "      <td>area</td>\n",
       "      <td>0</td>\n",
       "      <td>sum</td>\n",
       "      <td>Y2018M04D20_RH_Zonal_Stats_Area_EE_V01</td>\n",
       "      <td>hydrobasin</td>\n",
       "      <td>30s</td>\n",
       "      <td>m2</td>\n",
       "    </tr>\n",
       "    <tr>\n",
       "      <th>2</th>\n",
       "      <td>182</td>\n",
       "      <td>1.351152e+08</td>\n",
       "      <td>1.110110e+11</td>\n",
       "      <td>1</td>\n",
       "      <td>area</td>\n",
       "      <td>0</td>\n",
       "      <td>sum</td>\n",
       "      <td>Y2018M04D20_RH_Zonal_Stats_Area_EE_V01</td>\n",
       "      <td>hydrobasin</td>\n",
       "      <td>30s</td>\n",
       "      <td>m2</td>\n",
       "    </tr>\n",
       "    <tr>\n",
       "      <th>3</th>\n",
       "      <td>198</td>\n",
       "      <td>1.469701e+08</td>\n",
       "      <td>1.110110e+11</td>\n",
       "      <td>1</td>\n",
       "      <td>area</td>\n",
       "      <td>0</td>\n",
       "      <td>sum</td>\n",
       "      <td>Y2018M04D20_RH_Zonal_Stats_Area_EE_V01</td>\n",
       "      <td>hydrobasin</td>\n",
       "      <td>30s</td>\n",
       "      <td>m2</td>\n",
       "    </tr>\n",
       "    <tr>\n",
       "      <th>4</th>\n",
       "      <td>254</td>\n",
       "      <td>1.889049e+08</td>\n",
       "      <td>1.110110e+11</td>\n",
       "      <td>1</td>\n",
       "      <td>area</td>\n",
       "      <td>0</td>\n",
       "      <td>sum</td>\n",
       "      <td>Y2018M04D20_RH_Zonal_Stats_Area_EE_V01</td>\n",
       "      <td>hydrobasin</td>\n",
       "      <td>30s</td>\n",
       "      <td>m2</td>\n",
       "    </tr>\n",
       "  </tbody>\n",
       "</table>\n",
       "</div>"
      ],
      "text/plain": [
       "   count           sum         zones  output_version parameter  pfaf_level  \\\n",
       "0     14  1.040163e+07  1.110110e+11               1      area           0   \n",
       "1    183  1.359256e+08  1.110110e+11               1      area           0   \n",
       "2    182  1.351152e+08  1.110110e+11               1      area           0   \n",
       "3    198  1.469701e+08  1.110110e+11               1      area           0   \n",
       "4    254  1.889049e+08  1.110110e+11               1      area           0   \n",
       "\n",
       "  reducer                             script_used spatial_aggregation  \\\n",
       "0     sum  Y2018M04D20_RH_Zonal_Stats_Area_EE_V01          hydrobasin   \n",
       "1     sum  Y2018M04D20_RH_Zonal_Stats_Area_EE_V01          hydrobasin   \n",
       "2     sum  Y2018M04D20_RH_Zonal_Stats_Area_EE_V01          hydrobasin   \n",
       "3     sum  Y2018M04D20_RH_Zonal_Stats_Area_EE_V01          hydrobasin   \n",
       "4     sum  Y2018M04D20_RH_Zonal_Stats_Area_EE_V01          hydrobasin   \n",
       "\n",
       "  spatial_resolution unit  \n",
       "0                30s   m2  \n",
       "1                30s   m2  \n",
       "2                30s   m2  \n",
       "3                30s   m2  \n",
       "4                30s   m2  "
      ]
     },
     "execution_count": 7,
     "metadata": {},
     "output_type": "execute_result"
    }
   ],
   "source": [
    "df.head()"
   ]
  },
  {
   "cell_type": "code",
   "execution_count": 8,
   "metadata": {},
   "outputs": [
    {
     "name": "stdout",
     "output_type": "stream",
     "text": [
      "upload: ../../../../data/Y2018M04D20_RH_Zonal_Stats_Area_EE_V01/output_V01/df_hybas_lev06_30s.pkl to s3://wri-projects/Aqueduct30/processData/Y2018M04D20_RH_Zonal_Stats_Area_EE_V01/output_V01/df_hybas_lev06_30s.pkl\n",
      "upload: ../../../../data/Y2018M04D20_RH_Zonal_Stats_Area_EE_V01/output_V01/df_hybas_lev06_5min.csv to s3://wri-projects/Aqueduct30/processData/Y2018M04D20_RH_Zonal_Stats_Area_EE_V01/output_V01/df_hybas_lev06_5min.csv\n",
      "upload: ../../../../data/Y2018M04D20_RH_Zonal_Stats_Area_EE_V01/output_V01/df_hybas_lev06_30s.csv to s3://wri-projects/Aqueduct30/processData/Y2018M04D20_RH_Zonal_Stats_Area_EE_V01/output_V01/df_hybas_lev06_30s.csv\n",
      "upload: ../../../../data/Y2018M04D20_RH_Zonal_Stats_Area_EE_V01/output_V01/df_hybas_lev06_5min.pkl to s3://wri-projects/Aqueduct30/processData/Y2018M04D20_RH_Zonal_Stats_Area_EE_V01/output_V01/df_hybas_lev06_5min.pkl\n",
      "upload: ../../../../data/Y2018M04D20_RH_Zonal_Stats_Area_EE_V01/output_V01/df_hybas_lev00_30s.pkl to s3://wri-projects/Aqueduct30/processData/Y2018M04D20_RH_Zonal_Stats_Area_EE_V01/output_V01/df_hybas_lev00_30s.pkl\n",
      "upload: ../../../../data/Y2018M04D20_RH_Zonal_Stats_Area_EE_V01/output_V01/df_hybas_lev00_5min.pkl to s3://wri-projects/Aqueduct30/processData/Y2018M04D20_RH_Zonal_Stats_Area_EE_V01/output_V01/df_hybas_lev00_5min.pkl\n",
      "upload: ../../../../data/Y2018M04D20_RH_Zonal_Stats_Area_EE_V01/output_V01/df_hybas_lev00_5min.csv to s3://wri-projects/Aqueduct30/processData/Y2018M04D20_RH_Zonal_Stats_Area_EE_V01/output_V01/df_hybas_lev00_5min.csv\n",
      "upload: ../../../../data/Y2018M04D20_RH_Zonal_Stats_Area_EE_V01/output_V01/df_hybas_lev00_30s.csv to s3://wri-projects/Aqueduct30/processData/Y2018M04D20_RH_Zonal_Stats_Area_EE_V01/output_V01/df_hybas_lev00_30s.csv\n"
     ]
    }
   ],
   "source": [
    "!aws s3 cp  {ec2_output_path} {s3_output_path} --recursive"
   ]
  },
  {
   "cell_type": "code",
   "execution_count": 9,
   "metadata": {},
   "outputs": [
    {
     "name": "stdout",
     "output_type": "stream",
     "text": [
      "0:01:51.905157\n"
     ]
    }
   ],
   "source": [
    "end = datetime.datetime.now()\n",
    "elapsed = end - start\n",
    "print(elapsed)"
   ]
  },
  {
   "cell_type": "markdown",
   "metadata": {
    "collapsed": true
   },
   "source": [
    "Previous runs:\n",
    "0:00:09.043456\n"
   ]
  },
  {
   "cell_type": "code",
   "execution_count": null,
   "metadata": {
    "collapsed": true
   },
   "outputs": [],
   "source": []
  }
 ],
 "metadata": {
  "kernelspec": {
   "display_name": "Python 35",
   "language": "python",
   "name": "python35"
  },
  "language_info": {
   "codemirror_mode": {
    "name": "ipython",
    "version": 3
   },
   "file_extension": ".py",
   "mimetype": "text/x-python",
   "name": "python",
   "nbconvert_exporter": "python",
   "pygments_lexer": "ipython3",
   "version": "3.5.4"
  }
 },
 "nbformat": 4,
 "nbformat_minor": 2
}
