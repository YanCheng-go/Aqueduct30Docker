{
 "cells": [
  {
   "cell_type": "markdown",
   "metadata": {},
   "source": [
    "# Store FAO related files on PostgreSQL RDS database\n",
    "\n",
    "* Purpose of script: This script will process the hydrobasin related data into multiple tables according to the database ERD\n",
    "* Author: Rutger Hofste\n",
    "* Kernel used: python35\n",
    "* Date created: 20171122 \n",
    "\n",
    "The script requires a file called .password to be stored in the current working directory with the password to the database."
   ]
  },
  {
   "cell_type": "code",
   "execution_count": 1,
   "metadata": {},
   "outputs": [
    {
     "name": "stdout",
     "output_type": "stream",
     "text": [
      "Y2017M11D22 UTC 16:17\n"
     ]
    },
    {
     "data": {
      "text/plain": [
       "'3.5.4 |Continuum Analytics, Inc.| (default, Aug 14 2017, 13:26:58) \\n[GCC 4.4.7 20120313 (Red Hat 4.4.7-1)]'"
      ]
     },
     "execution_count": 1,
     "metadata": {},
     "output_type": "execute_result"
    }
   ],
   "source": [
    "%matplotlib inline\n",
    "import time, datetime, sys\n",
    "dateString = time.strftime(\"Y%YM%mD%d\")\n",
    "timeString = time.strftime(\"UTC %H:%M\")\n",
    "start = datetime.datetime.now()\n",
    "print(dateString,timeString)\n",
    "sys.version"
   ]
  },
  {
   "cell_type": "code",
   "execution_count": 84,
   "metadata": {
    "collapsed": true
   },
   "outputs": [],
   "source": [
    "SCRIPT_NAME = \"Y2017M11D22_RH_FAO_To_Database_V01\"\n",
    "\n",
    "INPUT_VERSION = 1\n",
    "INPUT_VERSION_LINK = 4\n",
    "OUTPUT_VERSION = 5\n",
    "\n",
    "INPUT_FILE_NAME = \"hydrobasins_fao_fiona_merged_v%0.2d\" %(INPUT_VERSION)\n",
    "INPUT_FILE_NAME_LINK = \"hybas_lev06_v1c_merged_fiona_withFAO_V%0.2d_link\" %(INPUT_VERSION_LINK)\n",
    "\n",
    "EC2_INPUT_PATH = \"/volumes/data/%s/input/\" %(SCRIPT_NAME)\n",
    "EC2_OUTPUT_PATH = \"/volumes/data/%s/output/\" %(SCRIPT_NAME)\n",
    "\n",
    "S3_INPUT_PATH = \"s3://wri-projects/Aqueduct30/processData/Y2017M08D23_RH_Merge_FAONames_V01/output/\"\n",
    "S3_INPUT_PATH_LINK = \"s3://wri-projects/Aqueduct30/processData/Y2017M08D25_RH_spatial_join_FAONames_V01/output/\"\n",
    "\n",
    "# Database settings\n",
    "DATABASE_IDENTIFIER = \"aqueduct30v01\"\n",
    "DATABASE_NAME = \"database01\"\n",
    "TABLE_NAME = str.lower(SCRIPT_NAME)\n",
    "\n",
    "TABLE_NAME_FAO_MAJOR = \"fao_major_v%0.2d\" %(OUTPUT_VERSION)\n",
    "TABLE_NAME_FAO_MINOR = \"fao_minor_v%0.2d\" %(OUTPUT_VERSION)\n",
    "TABLE_NAME_FAO_MINOR_TEMP = \"fao_minor_temp_v%0.2d\" %(OUTPUT_VERSION)\n",
    "TABLE_NAME_FAO_LINK = \"fao_link_v%0.2d\" %(OUTPUT_VERSION)"
   ]
  },
  {
   "cell_type": "code",
   "execution_count": 3,
   "metadata": {
    "collapsed": true
   },
   "outputs": [],
   "source": [
    "!rm -r {EC2_INPUT_PATH}\n",
    "!rm -r {EC2_OUTPUT_PATH}\n",
    "\n",
    "!mkdir -p {EC2_INPUT_PATH}\n",
    "!mkdir -p {EC2_OUTPUT_PATH}"
   ]
  },
  {
   "cell_type": "code",
   "execution_count": 4,
   "metadata": {},
   "outputs": [
    {
     "name": "stdout",
     "output_type": "stream",
     "text": [
      "download: s3://wri-projects/Aqueduct30/processData/Y2017M08D23_RH_Merge_FAONames_V01/output/hydrobasins_fao_fiona_merged_v01.cpg to ../../../../data/Y2017M11D22_RH_FAO_To_Database_V01/input/hydrobasins_fao_fiona_merged_v01.cpg\n",
      "download: s3://wri-projects/Aqueduct30/processData/Y2017M08D23_RH_Merge_FAONames_V01/output/hydrobasins_fao_fiona_merged_v01.prj to ../../../../data/Y2017M11D22_RH_FAO_To_Database_V01/input/hydrobasins_fao_fiona_merged_v01.prj\n",
      "download: s3://wri-projects/Aqueduct30/processData/Y2017M08D23_RH_Merge_FAONames_V01/output/hydrobasins_fao_fiona_merged_v01.shx to ../../../../data/Y2017M11D22_RH_FAO_To_Database_V01/input/hydrobasins_fao_fiona_merged_v01.shx\n",
      "download: s3://wri-projects/Aqueduct30/processData/Y2017M08D23_RH_Merge_FAONames_V01/output/hydrobasins_fao_fiona_merged_v01.dbf to ../../../../data/Y2017M11D22_RH_FAO_To_Database_V01/input/hydrobasins_fao_fiona_merged_v01.dbf\n",
      "download: s3://wri-projects/Aqueduct30/processData/Y2017M08D23_RH_Merge_FAONames_V01/output/hydrobasins_fao_fiona_merged_v01.shp to ../../../../data/Y2017M11D22_RH_FAO_To_Database_V01/input/hydrobasins_fao_fiona_merged_v01.shp\n"
     ]
    }
   ],
   "source": [
    "!aws s3 cp {S3_INPUT_PATH} {EC2_INPUT_PATH} --recursive"
   ]
  },
  {
   "cell_type": "code",
   "execution_count": 5,
   "metadata": {},
   "outputs": [
    {
     "name": "stdout",
     "output_type": "stream",
     "text": [
      "download: s3://wri-projects/Aqueduct30/processData/Y2017M08D25_RH_spatial_join_FAONames_V01/output/hybas_lev06_v1c_merged_fiona_withFAO_V04_link.pkl to ../../../../data/Y2017M11D22_RH_FAO_To_Database_V01/input/hybas_lev06_v1c_merged_fiona_withFAO_V04_link.pkl\n",
      "download: s3://wri-projects/Aqueduct30/processData/Y2017M08D25_RH_spatial_join_FAONames_V01/output/hybas_lev06_v1c_merged_fiona_withFAO_V04_link.csv to ../../../../data/Y2017M11D22_RH_FAO_To_Database_V01/input/hybas_lev06_v1c_merged_fiona_withFAO_V04_link.csv\n",
      "download: s3://wri-projects/Aqueduct30/processData/Y2017M08D25_RH_spatial_join_FAONames_V01/output/hybas_lev06_v1c_merged_fiona_withFAO_V04.pkl to ../../../../data/Y2017M11D22_RH_FAO_To_Database_V01/input/hybas_lev06_v1c_merged_fiona_withFAO_V04.pkl\n",
      "download: s3://wri-projects/Aqueduct30/processData/Y2017M08D25_RH_spatial_join_FAONames_V01/output/hybas_lev06_v1c_merged_fiona_withFAO_V04.csv to ../../../../data/Y2017M11D22_RH_FAO_To_Database_V01/input/hybas_lev06_v1c_merged_fiona_withFAO_V04.csv\n"
     ]
    }
   ],
   "source": [
    "!aws s3 cp {S3_INPUT_PATH_LINK} {EC2_INPUT_PATH} --recursive"
   ]
  },
  {
   "cell_type": "code",
   "execution_count": 6,
   "metadata": {
    "collapsed": true
   },
   "outputs": [],
   "source": [
    "import os\n",
    "import pandas as pd\n",
    "import geopandas as gpd\n",
    "from ast import literal_eval\n",
    "import boto3\n",
    "import botocore\n",
    "from sqlalchemy import *\n",
    "from geoalchemy2 import Geometry, WKTElement\n",
    "from shapely.geometry.multipolygon import MultiPolygon"
   ]
  },
  {
   "cell_type": "code",
   "execution_count": 83,
   "metadata": {},
   "outputs": [],
   "source": [
    "# RDS Connection\n",
    "def rdsConnect(database_identifier,database_name):\n",
    "    rds = boto3.client('rds')\n",
    "    F = open(\".password\",\"r\")\n",
    "    password = F.read().splitlines()[0]\n",
    "    F.close()\n",
    "    response = rds.describe_db_instances(DBInstanceIdentifier=\"%s\"%(database_identifier))\n",
    "    status = response[\"DBInstances\"][0][\"DBInstanceStatus\"]\n",
    "    print(\"Status:\",status)\n",
    "    endpoint = response[\"DBInstances\"][0][\"Endpoint\"][\"Address\"]\n",
    "    print(\"Endpoint:\",endpoint)\n",
    "    engine = create_engine('postgresql://rutgerhofste:%s@%s:5432/%s' %(password,endpoint,database_name))\n",
    "    connection = engine.connect()\n",
    "    return engine, connection\n",
    "\n",
    "def uploadGDFtoPostGIS(gdf,tableName,saveIndex):\n",
    "    # this function uploads a polygon shapefile to table in AWS RDS. \n",
    "    # It handles combined polygon/multipolygon geometry and stores it in valid multipolygon in epsg 4326.\n",
    "    \n",
    "    # gdf = input geoDataframe\n",
    "    # tableName = postGIS table name (string)\n",
    "    # saveIndex = save index column in separate column in postgresql, otherwise discarded. (Boolean)\n",
    "    \n",
    "    \n",
    "    gdf[\"type\"] = gdf.geometry.geom_type    \n",
    "    geomTypes = [\"Polygon\",\"MultiPolygon\"]\n",
    "    \n",
    "    for geomType in geomTypes:\n",
    "        gdfType = gdf.loc[gdf[\"type\"]== geomType]\n",
    "        geomTypeLower = str.lower(geomType)\n",
    "        gdfType['geom'] = gdfType['geometry'].apply(lambda x: WKTElement(x.wkt, srid=4326))\n",
    "        gdfType.drop([\"geometry\",\"type\"],1, inplace=True)      \n",
    "        print(\"Create table temp%s\" %(geomTypeLower)) \n",
    "        gdfType.to_sql(\n",
    "            name = \"temp%s\" %(geomTypeLower),\n",
    "            con = engine,\n",
    "            if_exists='replace',\n",
    "            index= saveIndex, \n",
    "            dtype={'geom': Geometry(str.upper(geomType), srid= 4326)}\n",
    "        )\n",
    "        \n",
    "    # Merge both tables and make valid\n",
    "    sql = []\n",
    "    sql.append(\"DROP TABLE IF EXISTS %s\"  %(tableName))\n",
    "    sql.append(\"ALTER TABLE temppolygon ALTER COLUMN geom type geometry(MultiPolygon, 4326) using ST_Multi(geom);\")\n",
    "    sql.append(\"CREATE TABLE %s AS (SELECT * FROM temppolygon UNION SELECT * FROM tempmultipolygon);\" %(tableName))\n",
    "    sql.append(\"UPDATE %s SET geom = st_makevalid(geom);\" %(tableName))\n",
    "    sql.append(\"DROP TABLE temppolygon,tempmultipolygon\")\n",
    "\n",
    "    for statement in sql:\n",
    "        print(statement)\n",
    "        result = connection.execute(statement)    \n",
    "    gdfFromSQL =gpd.GeoDataFrame.from_postgis(\"select * from %s\" %(tableName),connection,geom_col='geom' )\n",
    "    return gdfFromSQL\n",
    "\n",
    "\n",
    "def postGISDissolveFirst(sourceTableName,targetTableName,by):\n",
    "    #dissolve polygons and polygon related attributes (area)\n",
    "    #take first attribute of other\n",
    "    \n",
    "    sql =   (\"CREATE TABLE %s AS SELECT MIN(%s) as %s,MIN(sub_bas) as sub_bas, \" \n",
    "            \"MIN(to_bas) as to_bas, \"\n",
    "            \"MIN(maj_bas) as maj_bas, \"\n",
    "            \"MIN(sub_name) as sub_name, \"\n",
    "            \"MIN(sub_area) as sub_area, \"\n",
    "            \"ST_Multi(ST_Union(t.geom)) as geom \"\n",
    "            \"FROM %s As t GROUP BY %s\") %(targetTableName,by, by, sourceTableName,by)\n",
    "    connection.execute(sql)\n",
    "    gdfFromSQL =gpd.GeoDataFrame.from_postgis(\"select * from %s\" %(targetTableName),connection,geom_col='geom' )\n",
    "    print(sql)\n",
    "    return gdfFromSQL\n",
    "\n"
   ]
  },
  {
   "cell_type": "code",
   "execution_count": 8,
   "metadata": {},
   "outputs": [
    {
     "name": "stdout",
     "output_type": "stream",
     "text": [
      "Status: available\n",
      "Endpoint: aqueduct30v01.cgpnumwmfcqc.eu-central-1.rds.amazonaws.com\n"
     ]
    }
   ],
   "source": [
    "engine, connection = rdsConnect(DATABASE_IDENTIFIER,DATABASE_NAME)"
   ]
  },
  {
   "cell_type": "code",
   "execution_count": null,
   "metadata": {
    "collapsed": true
   },
   "outputs": [],
   "source": []
  },
  {
   "cell_type": "code",
   "execution_count": 9,
   "metadata": {
    "collapsed": true
   },
   "outputs": [],
   "source": [
    "gdf = gpd.read_file(os.path.join(EC2_INPUT_PATH,INPUT_FILE_NAME+\".shp\"))"
   ]
  },
  {
   "cell_type": "code",
   "execution_count": 10,
   "metadata": {
    "collapsed": true
   },
   "outputs": [],
   "source": [
    "gdf.columns = map(str.lower, gdf.columns)"
   ]
  },
  {
   "cell_type": "code",
   "execution_count": 11,
   "metadata": {},
   "outputs": [
    {
     "data": {
      "text/html": [
       "<div>\n",
       "<style>\n",
       "    .dataframe thead tr:only-child th {\n",
       "        text-align: right;\n",
       "    }\n",
       "\n",
       "    .dataframe thead th {\n",
       "        text-align: left;\n",
       "    }\n",
       "\n",
       "    .dataframe tbody tr th {\n",
       "        vertical-align: top;\n",
       "    }\n",
       "</style>\n",
       "<table border=\"1\" class=\"dataframe\">\n",
       "  <thead>\n",
       "    <tr style=\"text-align: right;\">\n",
       "      <th></th>\n",
       "      <th>sub_bas</th>\n",
       "      <th>to_bas</th>\n",
       "      <th>maj_bas</th>\n",
       "      <th>sub_name</th>\n",
       "      <th>maj_name</th>\n",
       "      <th>sub_area</th>\n",
       "      <th>maj_area</th>\n",
       "      <th>legend</th>\n",
       "      <th>geometry</th>\n",
       "    </tr>\n",
       "  </thead>\n",
       "  <tbody>\n",
       "    <tr>\n",
       "      <th>0</th>\n",
       "      <td>1001</td>\n",
       "      <td>-999</td>\n",
       "      <td>6001</td>\n",
       "      <td>Bursa / Balikesir</td>\n",
       "      <td>Black Sea, South Coast</td>\n",
       "      <td>24573</td>\n",
       "      <td>318639</td>\n",
       "      <td>1</td>\n",
       "      <td>(POLYGON ((27.79166666666602 40.370833333333, ...</td>\n",
       "    </tr>\n",
       "    <tr>\n",
       "      <th>1</th>\n",
       "      <td>1002</td>\n",
       "      <td>-999</td>\n",
       "      <td>6001</td>\n",
       "      <td>Kocaeli</td>\n",
       "      <td>Black Sea, South Coast</td>\n",
       "      <td>7803</td>\n",
       "      <td>318639</td>\n",
       "      <td>1</td>\n",
       "      <td>(POLYGON ((29.11666666666605 40.81666666666631...</td>\n",
       "    </tr>\n",
       "    <tr>\n",
       "      <th>2</th>\n",
       "      <td>1003</td>\n",
       "      <td>-999</td>\n",
       "      <td>6001</td>\n",
       "      <td>Sakarya River</td>\n",
       "      <td>Black Sea, South Coast</td>\n",
       "      <td>63081</td>\n",
       "      <td>318639</td>\n",
       "      <td>1</td>\n",
       "      <td>POLYGON ((30.26666666676471 41.22083333338378,...</td>\n",
       "    </tr>\n",
       "    <tr>\n",
       "      <th>3</th>\n",
       "      <td>1004</td>\n",
       "      <td>-999</td>\n",
       "      <td>6001</td>\n",
       "      <td>Duzce / Bolu / Zonguldak / Karabuk</td>\n",
       "      <td>Black Sea, South Coast</td>\n",
       "      <td>29866</td>\n",
       "      <td>318639</td>\n",
       "      <td>1</td>\n",
       "      <td>POLYGON ((34.97083333333272 42.09999999999961,...</td>\n",
       "    </tr>\n",
       "    <tr>\n",
       "      <th>4</th>\n",
       "      <td>1005</td>\n",
       "      <td>-999</td>\n",
       "      <td>6001</td>\n",
       "      <td>Kizilirmak River</td>\n",
       "      <td>Black Sea, South Coast</td>\n",
       "      <td>77771</td>\n",
       "      <td>318639</td>\n",
       "      <td>1</td>\n",
       "      <td>POLYGON ((34.09583333333271 41.76666666666631,...</td>\n",
       "    </tr>\n",
       "  </tbody>\n",
       "</table>\n",
       "</div>"
      ],
      "text/plain": [
       "   sub_bas  to_bas  maj_bas                            sub_name  \\\n",
       "0     1001    -999     6001                   Bursa / Balikesir   \n",
       "1     1002    -999     6001                             Kocaeli   \n",
       "2     1003    -999     6001                       Sakarya River   \n",
       "3     1004    -999     6001  Duzce / Bolu / Zonguldak / Karabuk   \n",
       "4     1005    -999     6001                    Kizilirmak River   \n",
       "\n",
       "                 maj_name  sub_area  maj_area  legend  \\\n",
       "0  Black Sea, South Coast     24573    318639       1   \n",
       "1  Black Sea, South Coast      7803    318639       1   \n",
       "2  Black Sea, South Coast     63081    318639       1   \n",
       "3  Black Sea, South Coast     29866    318639       1   \n",
       "4  Black Sea, South Coast     77771    318639       1   \n",
       "\n",
       "                                            geometry  \n",
       "0  (POLYGON ((27.79166666666602 40.370833333333, ...  \n",
       "1  (POLYGON ((29.11666666666605 40.81666666666631...  \n",
       "2  POLYGON ((30.26666666676471 41.22083333338378,...  \n",
       "3  POLYGON ((34.97083333333272 42.09999999999961,...  \n",
       "4  POLYGON ((34.09583333333271 41.76666666666631,...  "
      ]
     },
     "execution_count": 11,
     "metadata": {},
     "output_type": "execute_result"
    }
   ],
   "source": [
    "gdf.head()"
   ]
  },
  {
   "cell_type": "markdown",
   "metadata": {},
   "source": [
    "The idea is to store the data in two tables: major basin and minor basin together with the geometry. There is no unique identifier for the minor basins so we will use a composite key    \n",
    "    "
   ]
  },
  {
   "cell_type": "code",
   "execution_count": 12,
   "metadata": {
    "collapsed": true
   },
   "outputs": [],
   "source": [
    "def compositeKey(maj_bas,sub_bas):\n",
    "    key = 'MAJ_BAS_%0.4d_SUB_BAS_%0.7d' %(maj_bas,sub_bas)\n",
    "    return key"
   ]
  },
  {
   "cell_type": "code",
   "execution_count": 13,
   "metadata": {
    "collapsed": true
   },
   "outputs": [],
   "source": [
    "gdf[\"fao_id\"]= gdf.apply(lambda x: compositeKey(x[\"maj_bas\"],x[\"sub_bas\"]),1)"
   ]
  },
  {
   "cell_type": "code",
   "execution_count": 14,
   "metadata": {},
   "outputs": [
    {
     "data": {
      "text/html": [
       "<div>\n",
       "<style>\n",
       "    .dataframe thead tr:only-child th {\n",
       "        text-align: right;\n",
       "    }\n",
       "\n",
       "    .dataframe thead th {\n",
       "        text-align: left;\n",
       "    }\n",
       "\n",
       "    .dataframe tbody tr th {\n",
       "        vertical-align: top;\n",
       "    }\n",
       "</style>\n",
       "<table border=\"1\" class=\"dataframe\">\n",
       "  <thead>\n",
       "    <tr style=\"text-align: right;\">\n",
       "      <th></th>\n",
       "      <th>sub_bas</th>\n",
       "      <th>to_bas</th>\n",
       "      <th>maj_bas</th>\n",
       "      <th>sub_name</th>\n",
       "      <th>maj_name</th>\n",
       "      <th>sub_area</th>\n",
       "      <th>maj_area</th>\n",
       "      <th>legend</th>\n",
       "      <th>geometry</th>\n",
       "      <th>fao_id</th>\n",
       "    </tr>\n",
       "  </thead>\n",
       "  <tbody>\n",
       "    <tr>\n",
       "      <th>0</th>\n",
       "      <td>1001</td>\n",
       "      <td>-999</td>\n",
       "      <td>6001</td>\n",
       "      <td>Bursa / Balikesir</td>\n",
       "      <td>Black Sea, South Coast</td>\n",
       "      <td>24573</td>\n",
       "      <td>318639</td>\n",
       "      <td>1</td>\n",
       "      <td>(POLYGON ((27.79166666666602 40.370833333333, ...</td>\n",
       "      <td>MAJ_BAS_6001_SUB_BAS_0001001</td>\n",
       "    </tr>\n",
       "    <tr>\n",
       "      <th>1</th>\n",
       "      <td>1002</td>\n",
       "      <td>-999</td>\n",
       "      <td>6001</td>\n",
       "      <td>Kocaeli</td>\n",
       "      <td>Black Sea, South Coast</td>\n",
       "      <td>7803</td>\n",
       "      <td>318639</td>\n",
       "      <td>1</td>\n",
       "      <td>(POLYGON ((29.11666666666605 40.81666666666631...</td>\n",
       "      <td>MAJ_BAS_6001_SUB_BAS_0001002</td>\n",
       "    </tr>\n",
       "    <tr>\n",
       "      <th>2</th>\n",
       "      <td>1003</td>\n",
       "      <td>-999</td>\n",
       "      <td>6001</td>\n",
       "      <td>Sakarya River</td>\n",
       "      <td>Black Sea, South Coast</td>\n",
       "      <td>63081</td>\n",
       "      <td>318639</td>\n",
       "      <td>1</td>\n",
       "      <td>POLYGON ((30.26666666676471 41.22083333338378,...</td>\n",
       "      <td>MAJ_BAS_6001_SUB_BAS_0001003</td>\n",
       "    </tr>\n",
       "    <tr>\n",
       "      <th>3</th>\n",
       "      <td>1004</td>\n",
       "      <td>-999</td>\n",
       "      <td>6001</td>\n",
       "      <td>Duzce / Bolu / Zonguldak / Karabuk</td>\n",
       "      <td>Black Sea, South Coast</td>\n",
       "      <td>29866</td>\n",
       "      <td>318639</td>\n",
       "      <td>1</td>\n",
       "      <td>POLYGON ((34.97083333333272 42.09999999999961,...</td>\n",
       "      <td>MAJ_BAS_6001_SUB_BAS_0001004</td>\n",
       "    </tr>\n",
       "    <tr>\n",
       "      <th>4</th>\n",
       "      <td>1005</td>\n",
       "      <td>-999</td>\n",
       "      <td>6001</td>\n",
       "      <td>Kizilirmak River</td>\n",
       "      <td>Black Sea, South Coast</td>\n",
       "      <td>77771</td>\n",
       "      <td>318639</td>\n",
       "      <td>1</td>\n",
       "      <td>POLYGON ((34.09583333333271 41.76666666666631,...</td>\n",
       "      <td>MAJ_BAS_6001_SUB_BAS_0001005</td>\n",
       "    </tr>\n",
       "  </tbody>\n",
       "</table>\n",
       "</div>"
      ],
      "text/plain": [
       "   sub_bas  to_bas  maj_bas                            sub_name  \\\n",
       "0     1001    -999     6001                   Bursa / Balikesir   \n",
       "1     1002    -999     6001                             Kocaeli   \n",
       "2     1003    -999     6001                       Sakarya River   \n",
       "3     1004    -999     6001  Duzce / Bolu / Zonguldak / Karabuk   \n",
       "4     1005    -999     6001                    Kizilirmak River   \n",
       "\n",
       "                 maj_name  sub_area  maj_area  legend  \\\n",
       "0  Black Sea, South Coast     24573    318639       1   \n",
       "1  Black Sea, South Coast      7803    318639       1   \n",
       "2  Black Sea, South Coast     63081    318639       1   \n",
       "3  Black Sea, South Coast     29866    318639       1   \n",
       "4  Black Sea, South Coast     77771    318639       1   \n",
       "\n",
       "                                            geometry  \\\n",
       "0  (POLYGON ((27.79166666666602 40.370833333333, ...   \n",
       "1  (POLYGON ((29.11666666666605 40.81666666666631...   \n",
       "2  POLYGON ((30.26666666676471 41.22083333338378,...   \n",
       "3  POLYGON ((34.97083333333272 42.09999999999961,...   \n",
       "4  POLYGON ((34.09583333333271 41.76666666666631,...   \n",
       "\n",
       "                         fao_id  \n",
       "0  MAJ_BAS_6001_SUB_BAS_0001001  \n",
       "1  MAJ_BAS_6001_SUB_BAS_0001002  \n",
       "2  MAJ_BAS_6001_SUB_BAS_0001003  \n",
       "3  MAJ_BAS_6001_SUB_BAS_0001004  \n",
       "4  MAJ_BAS_6001_SUB_BAS_0001005  "
      ]
     },
     "execution_count": 14,
     "metadata": {},
     "output_type": "execute_result"
    }
   ],
   "source": [
    "gdf.head()"
   ]
  },
  {
   "cell_type": "code",
   "execution_count": 16,
   "metadata": {
    "collapsed": true
   },
   "outputs": [],
   "source": [
    "gdf = gdf.set_index(\"fao_id\",drop=False)"
   ]
  },
  {
   "cell_type": "markdown",
   "metadata": {},
   "source": [
    "## Major River Basins"
   ]
  },
  {
   "cell_type": "code",
   "execution_count": 17,
   "metadata": {
    "collapsed": true
   },
   "outputs": [],
   "source": [
    "dfMajorFull = gdf[[\"maj_bas\",\"maj_name\",\"maj_area\",\"legend\"]]\n",
    "gdfMinor = gdf[[\"sub_bas\",\"to_bas\",\"maj_bas\",\"sub_name\",\"sub_area\",\"geometry\",\"fao_id\"]]"
   ]
  },
  {
   "cell_type": "code",
   "execution_count": 18,
   "metadata": {},
   "outputs": [
    {
     "data": {
      "text/html": [
       "<div>\n",
       "<style>\n",
       "    .dataframe thead tr:only-child th {\n",
       "        text-align: right;\n",
       "    }\n",
       "\n",
       "    .dataframe thead th {\n",
       "        text-align: left;\n",
       "    }\n",
       "\n",
       "    .dataframe tbody tr th {\n",
       "        vertical-align: top;\n",
       "    }\n",
       "</style>\n",
       "<table border=\"1\" class=\"dataframe\">\n",
       "  <thead>\n",
       "    <tr style=\"text-align: right;\">\n",
       "      <th></th>\n",
       "      <th>maj_bas</th>\n",
       "      <th>maj_name</th>\n",
       "      <th>maj_area</th>\n",
       "      <th>legend</th>\n",
       "    </tr>\n",
       "    <tr>\n",
       "      <th>fao_id</th>\n",
       "      <th></th>\n",
       "      <th></th>\n",
       "      <th></th>\n",
       "      <th></th>\n",
       "    </tr>\n",
       "  </thead>\n",
       "  <tbody>\n",
       "    <tr>\n",
       "      <th>MAJ_BAS_6001_SUB_BAS_0001001</th>\n",
       "      <td>6001</td>\n",
       "      <td>Black Sea, South Coast</td>\n",
       "      <td>318639</td>\n",
       "      <td>1</td>\n",
       "    </tr>\n",
       "    <tr>\n",
       "      <th>MAJ_BAS_6001_SUB_BAS_0001002</th>\n",
       "      <td>6001</td>\n",
       "      <td>Black Sea, South Coast</td>\n",
       "      <td>318639</td>\n",
       "      <td>1</td>\n",
       "    </tr>\n",
       "    <tr>\n",
       "      <th>MAJ_BAS_6001_SUB_BAS_0001003</th>\n",
       "      <td>6001</td>\n",
       "      <td>Black Sea, South Coast</td>\n",
       "      <td>318639</td>\n",
       "      <td>1</td>\n",
       "    </tr>\n",
       "    <tr>\n",
       "      <th>MAJ_BAS_6001_SUB_BAS_0001004</th>\n",
       "      <td>6001</td>\n",
       "      <td>Black Sea, South Coast</td>\n",
       "      <td>318639</td>\n",
       "      <td>1</td>\n",
       "    </tr>\n",
       "    <tr>\n",
       "      <th>MAJ_BAS_6001_SUB_BAS_0001005</th>\n",
       "      <td>6001</td>\n",
       "      <td>Black Sea, South Coast</td>\n",
       "      <td>318639</td>\n",
       "      <td>1</td>\n",
       "    </tr>\n",
       "  </tbody>\n",
       "</table>\n",
       "</div>"
      ],
      "text/plain": [
       "                              maj_bas                maj_name  maj_area  \\\n",
       "fao_id                                                                    \n",
       "MAJ_BAS_6001_SUB_BAS_0001001     6001  Black Sea, South Coast    318639   \n",
       "MAJ_BAS_6001_SUB_BAS_0001002     6001  Black Sea, South Coast    318639   \n",
       "MAJ_BAS_6001_SUB_BAS_0001003     6001  Black Sea, South Coast    318639   \n",
       "MAJ_BAS_6001_SUB_BAS_0001004     6001  Black Sea, South Coast    318639   \n",
       "MAJ_BAS_6001_SUB_BAS_0001005     6001  Black Sea, South Coast    318639   \n",
       "\n",
       "                              legend  \n",
       "fao_id                                \n",
       "MAJ_BAS_6001_SUB_BAS_0001001       1  \n",
       "MAJ_BAS_6001_SUB_BAS_0001002       1  \n",
       "MAJ_BAS_6001_SUB_BAS_0001003       1  \n",
       "MAJ_BAS_6001_SUB_BAS_0001004       1  \n",
       "MAJ_BAS_6001_SUB_BAS_0001005       1  "
      ]
     },
     "execution_count": 18,
     "metadata": {},
     "output_type": "execute_result"
    }
   ],
   "source": [
    "dfMajorFull.head()"
   ]
  },
  {
   "cell_type": "code",
   "execution_count": 19,
   "metadata": {
    "collapsed": true
   },
   "outputs": [],
   "source": [
    "dfMajor = dfMajorFull.groupby(\"maj_bas\").first()"
   ]
  },
  {
   "cell_type": "code",
   "execution_count": 20,
   "metadata": {},
   "outputs": [
    {
     "data": {
      "text/html": [
       "<div>\n",
       "<style>\n",
       "    .dataframe thead tr:only-child th {\n",
       "        text-align: right;\n",
       "    }\n",
       "\n",
       "    .dataframe thead th {\n",
       "        text-align: left;\n",
       "    }\n",
       "\n",
       "    .dataframe tbody tr th {\n",
       "        vertical-align: top;\n",
       "    }\n",
       "</style>\n",
       "<table border=\"1\" class=\"dataframe\">\n",
       "  <thead>\n",
       "    <tr style=\"text-align: right;\">\n",
       "      <th></th>\n",
       "      <th>maj_name</th>\n",
       "      <th>maj_area</th>\n",
       "      <th>legend</th>\n",
       "    </tr>\n",
       "    <tr>\n",
       "      <th>maj_bas</th>\n",
       "      <th></th>\n",
       "      <th></th>\n",
       "      <th></th>\n",
       "    </tr>\n",
       "  </thead>\n",
       "  <tbody>\n",
       "    <tr>\n",
       "      <th>1001</th>\n",
       "      <td>Gulf of Mexico, North Atlantic Coast</td>\n",
       "      <td>701385</td>\n",
       "      <td>1</td>\n",
       "    </tr>\n",
       "    <tr>\n",
       "      <th>1002</th>\n",
       "      <td>United States, North Atlantic Coast</td>\n",
       "      <td>255343</td>\n",
       "      <td>2</td>\n",
       "    </tr>\n",
       "    <tr>\n",
       "      <th>1003</th>\n",
       "      <td>Mississippi - Missouri</td>\n",
       "      <td>3273240</td>\n",
       "      <td>3</td>\n",
       "    </tr>\n",
       "    <tr>\n",
       "      <th>1004</th>\n",
       "      <td>Gulf Coast</td>\n",
       "      <td>465689</td>\n",
       "      <td>4</td>\n",
       "    </tr>\n",
       "    <tr>\n",
       "      <th>1005</th>\n",
       "      <td>California</td>\n",
       "      <td>420022</td>\n",
       "      <td>5</td>\n",
       "    </tr>\n",
       "  </tbody>\n",
       "</table>\n",
       "</div>"
      ],
      "text/plain": [
       "                                     maj_name  maj_area  legend\n",
       "maj_bas                                                        \n",
       "1001     Gulf of Mexico, North Atlantic Coast    701385       1\n",
       "1002      United States, North Atlantic Coast    255343       2\n",
       "1003                   Mississippi - Missouri   3273240       3\n",
       "1004                               Gulf Coast    465689       4\n",
       "1005                               California    420022       5"
      ]
     },
     "execution_count": 20,
     "metadata": {},
     "output_type": "execute_result"
    }
   ],
   "source": [
    "dfMajor.head()"
   ]
  },
  {
   "cell_type": "code",
   "execution_count": 21,
   "metadata": {
    "collapsed": true
   },
   "outputs": [],
   "source": [
    "dfMajor.to_sql(\n",
    "    name = TABLE_NAME_FAO_MAJOR,\n",
    "    con = connection,\n",
    "    if_exists=\"replace\",\n",
    "    index= True)"
   ]
  },
  {
   "cell_type": "markdown",
   "metadata": {},
   "source": [
    "## Minor River Basins"
   ]
  },
  {
   "cell_type": "code",
   "execution_count": 22,
   "metadata": {},
   "outputs": [
    {
     "data": {
      "text/html": [
       "<div>\n",
       "<style>\n",
       "    .dataframe thead tr:only-child th {\n",
       "        text-align: right;\n",
       "    }\n",
       "\n",
       "    .dataframe thead th {\n",
       "        text-align: left;\n",
       "    }\n",
       "\n",
       "    .dataframe tbody tr th {\n",
       "        vertical-align: top;\n",
       "    }\n",
       "</style>\n",
       "<table border=\"1\" class=\"dataframe\">\n",
       "  <thead>\n",
       "    <tr style=\"text-align: right;\">\n",
       "      <th></th>\n",
       "      <th>sub_bas</th>\n",
       "      <th>to_bas</th>\n",
       "      <th>maj_bas</th>\n",
       "      <th>sub_name</th>\n",
       "      <th>sub_area</th>\n",
       "      <th>geometry</th>\n",
       "      <th>fao_id</th>\n",
       "    </tr>\n",
       "    <tr>\n",
       "      <th>fao_id</th>\n",
       "      <th></th>\n",
       "      <th></th>\n",
       "      <th></th>\n",
       "      <th></th>\n",
       "      <th></th>\n",
       "      <th></th>\n",
       "      <th></th>\n",
       "    </tr>\n",
       "  </thead>\n",
       "  <tbody>\n",
       "    <tr>\n",
       "      <th>MAJ_BAS_6001_SUB_BAS_0001001</th>\n",
       "      <td>1001</td>\n",
       "      <td>-999</td>\n",
       "      <td>6001</td>\n",
       "      <td>Bursa / Balikesir</td>\n",
       "      <td>24573</td>\n",
       "      <td>(POLYGON ((27.79166666666602 40.370833333333, ...</td>\n",
       "      <td>MAJ_BAS_6001_SUB_BAS_0001001</td>\n",
       "    </tr>\n",
       "    <tr>\n",
       "      <th>MAJ_BAS_6001_SUB_BAS_0001002</th>\n",
       "      <td>1002</td>\n",
       "      <td>-999</td>\n",
       "      <td>6001</td>\n",
       "      <td>Kocaeli</td>\n",
       "      <td>7803</td>\n",
       "      <td>(POLYGON ((29.11666666666605 40.81666666666631...</td>\n",
       "      <td>MAJ_BAS_6001_SUB_BAS_0001002</td>\n",
       "    </tr>\n",
       "    <tr>\n",
       "      <th>MAJ_BAS_6001_SUB_BAS_0001003</th>\n",
       "      <td>1003</td>\n",
       "      <td>-999</td>\n",
       "      <td>6001</td>\n",
       "      <td>Sakarya River</td>\n",
       "      <td>63081</td>\n",
       "      <td>POLYGON ((30.26666666676471 41.22083333338378,...</td>\n",
       "      <td>MAJ_BAS_6001_SUB_BAS_0001003</td>\n",
       "    </tr>\n",
       "    <tr>\n",
       "      <th>MAJ_BAS_6001_SUB_BAS_0001004</th>\n",
       "      <td>1004</td>\n",
       "      <td>-999</td>\n",
       "      <td>6001</td>\n",
       "      <td>Duzce / Bolu / Zonguldak / Karabuk</td>\n",
       "      <td>29866</td>\n",
       "      <td>POLYGON ((34.97083333333272 42.09999999999961,...</td>\n",
       "      <td>MAJ_BAS_6001_SUB_BAS_0001004</td>\n",
       "    </tr>\n",
       "    <tr>\n",
       "      <th>MAJ_BAS_6001_SUB_BAS_0001005</th>\n",
       "      <td>1005</td>\n",
       "      <td>-999</td>\n",
       "      <td>6001</td>\n",
       "      <td>Kizilirmak River</td>\n",
       "      <td>77771</td>\n",
       "      <td>POLYGON ((34.09583333333271 41.76666666666631,...</td>\n",
       "      <td>MAJ_BAS_6001_SUB_BAS_0001005</td>\n",
       "    </tr>\n",
       "  </tbody>\n",
       "</table>\n",
       "</div>"
      ],
      "text/plain": [
       "                              sub_bas  to_bas  maj_bas  \\\n",
       "fao_id                                                   \n",
       "MAJ_BAS_6001_SUB_BAS_0001001     1001    -999     6001   \n",
       "MAJ_BAS_6001_SUB_BAS_0001002     1002    -999     6001   \n",
       "MAJ_BAS_6001_SUB_BAS_0001003     1003    -999     6001   \n",
       "MAJ_BAS_6001_SUB_BAS_0001004     1004    -999     6001   \n",
       "MAJ_BAS_6001_SUB_BAS_0001005     1005    -999     6001   \n",
       "\n",
       "                                                        sub_name  sub_area  \\\n",
       "fao_id                                                                       \n",
       "MAJ_BAS_6001_SUB_BAS_0001001                   Bursa / Balikesir     24573   \n",
       "MAJ_BAS_6001_SUB_BAS_0001002                             Kocaeli      7803   \n",
       "MAJ_BAS_6001_SUB_BAS_0001003                       Sakarya River     63081   \n",
       "MAJ_BAS_6001_SUB_BAS_0001004  Duzce / Bolu / Zonguldak / Karabuk     29866   \n",
       "MAJ_BAS_6001_SUB_BAS_0001005                    Kizilirmak River     77771   \n",
       "\n",
       "                                                                       geometry  \\\n",
       "fao_id                                                                            \n",
       "MAJ_BAS_6001_SUB_BAS_0001001  (POLYGON ((27.79166666666602 40.370833333333, ...   \n",
       "MAJ_BAS_6001_SUB_BAS_0001002  (POLYGON ((29.11666666666605 40.81666666666631...   \n",
       "MAJ_BAS_6001_SUB_BAS_0001003  POLYGON ((30.26666666676471 41.22083333338378,...   \n",
       "MAJ_BAS_6001_SUB_BAS_0001004  POLYGON ((34.97083333333272 42.09999999999961,...   \n",
       "MAJ_BAS_6001_SUB_BAS_0001005  POLYGON ((34.09583333333271 41.76666666666631,...   \n",
       "\n",
       "                                                    fao_id  \n",
       "fao_id                                                      \n",
       "MAJ_BAS_6001_SUB_BAS_0001001  MAJ_BAS_6001_SUB_BAS_0001001  \n",
       "MAJ_BAS_6001_SUB_BAS_0001002  MAJ_BAS_6001_SUB_BAS_0001002  \n",
       "MAJ_BAS_6001_SUB_BAS_0001003  MAJ_BAS_6001_SUB_BAS_0001003  \n",
       "MAJ_BAS_6001_SUB_BAS_0001004  MAJ_BAS_6001_SUB_BAS_0001004  \n",
       "MAJ_BAS_6001_SUB_BAS_0001005  MAJ_BAS_6001_SUB_BAS_0001005  "
      ]
     },
     "execution_count": 22,
     "metadata": {},
     "output_type": "execute_result"
    }
   ],
   "source": [
    "gdfMinor.head()"
   ]
  },
  {
   "cell_type": "markdown",
   "metadata": {},
   "source": [
    "Geometry consists of polygon and multipolygon type. Upload both to postGIS and set polygon to multipolygon and join. "
   ]
  },
  {
   "cell_type": "code",
   "execution_count": 88,
   "metadata": {},
   "outputs": [
    {
     "name": "stderr",
     "output_type": "stream",
     "text": [
      "/opt/anaconda3/envs/python35/lib/python3.5/site-packages/ipykernel_launcher.py:25: SettingWithCopyWarning: \n",
      "A value is trying to be set on a copy of a slice from a DataFrame.\n",
      "Try using .loc[row_indexer,col_indexer] = value instead\n",
      "\n",
      "See the caveats in the documentation: http://pandas.pydata.org/pandas-docs/stable/indexing.html#indexing-view-versus-copy\n",
      "/opt/anaconda3/envs/python35/lib/python3.5/site-packages/ipykernel_launcher.py:31: SettingWithCopyWarning: \n",
      "A value is trying to be set on a copy of a slice from a DataFrame.\n",
      "Try using .loc[row_indexer,col_indexer] = value instead\n",
      "\n",
      "See the caveats in the documentation: http://pandas.pydata.org/pandas-docs/stable/indexing.html#indexing-view-versus-copy\n",
      "/opt/anaconda3/envs/python35/lib/python3.5/site-packages/ipykernel_launcher.py:32: SettingWithCopyWarning: \n",
      "A value is trying to be set on a copy of a slice from a DataFrame\n",
      "\n",
      "See the caveats in the documentation: http://pandas.pydata.org/pandas-docs/stable/indexing.html#indexing-view-versus-copy\n"
     ]
    },
    {
     "name": "stdout",
     "output_type": "stream",
     "text": [
      "Create table temppolygon\n",
      "Create table tempmultipolygon\n",
      "DROP TABLE IF EXISTS fao_minor_temp_v05\n",
      "ALTER TABLE temppolygon ALTER COLUMN geom type geometry(MultiPolygon, 4326) using ST_Multi(geom);\n",
      "CREATE TABLE fao_minor_temp_v05 AS (SELECT * FROM temppolygon UNION SELECT * FROM tempmultipolygon);\n",
      "UPDATE fao_minor_temp_v05 SET geom = st_makevalid(geom);\n",
      "DROP TABLE temppolygon,tempmultipolygon\n"
     ]
    }
   ],
   "source": [
    "gdfFromSQL = uploadGDFtoPostGIS(gdfMinor,TABLE_NAME_FAO_MINOR_TEMP,False)"
   ]
  },
  {
   "cell_type": "code",
   "execution_count": 89,
   "metadata": {},
   "outputs": [
    {
     "data": {
      "text/html": [
       "<div>\n",
       "<style>\n",
       "    .dataframe thead tr:only-child th {\n",
       "        text-align: right;\n",
       "    }\n",
       "\n",
       "    .dataframe thead th {\n",
       "        text-align: left;\n",
       "    }\n",
       "\n",
       "    .dataframe tbody tr th {\n",
       "        vertical-align: top;\n",
       "    }\n",
       "</style>\n",
       "<table border=\"1\" class=\"dataframe\">\n",
       "  <thead>\n",
       "    <tr style=\"text-align: right;\">\n",
       "      <th></th>\n",
       "      <th>sub_bas</th>\n",
       "      <th>to_bas</th>\n",
       "      <th>maj_bas</th>\n",
       "      <th>sub_name</th>\n",
       "      <th>sub_area</th>\n",
       "      <th>fao_id</th>\n",
       "      <th>geom</th>\n",
       "    </tr>\n",
       "  </thead>\n",
       "  <tbody>\n",
       "    <tr>\n",
       "      <th>0</th>\n",
       "      <td>1001</td>\n",
       "      <td>-999</td>\n",
       "      <td>4001</td>\n",
       "      <td>Northern Spain Coast</td>\n",
       "      <td>29194</td>\n",
       "      <td>MAJ_BAS_4001_SUB_BAS_0001001</td>\n",
       "      <td>(POLYGON ((-7.862500000000175 43.7791666666661...</td>\n",
       "    </tr>\n",
       "    <tr>\n",
       "      <th>1</th>\n",
       "      <td>1001</td>\n",
       "      <td>-999</td>\n",
       "      <td>4001</td>\n",
       "      <td>Northern Spain Coast</td>\n",
       "      <td>29194</td>\n",
       "      <td>MAJ_BAS_4001_SUB_BAS_0001001</td>\n",
       "      <td>(POLYGON ((-7.437500000000188 43.7208333333327...</td>\n",
       "    </tr>\n",
       "    <tr>\n",
       "      <th>2</th>\n",
       "      <td>1001</td>\n",
       "      <td>-999</td>\n",
       "      <td>4001</td>\n",
       "      <td>Northern Spain Coast</td>\n",
       "      <td>29194</td>\n",
       "      <td>MAJ_BAS_4001_SUB_BAS_0001001</td>\n",
       "      <td>(POLYGON ((-2.679166666666902 43.4208333333327...</td>\n",
       "    </tr>\n",
       "    <tr>\n",
       "      <th>3</th>\n",
       "      <td>1001</td>\n",
       "      <td>-999</td>\n",
       "      <td>6001</td>\n",
       "      <td>Bursa / Balikesir</td>\n",
       "      <td>24573</td>\n",
       "      <td>MAJ_BAS_6001_SUB_BAS_0001001</td>\n",
       "      <td>(POLYGON ((27.79166666666602 40.370833333333, ...</td>\n",
       "    </tr>\n",
       "    <tr>\n",
       "      <th>4</th>\n",
       "      <td>1001</td>\n",
       "      <td>-999</td>\n",
       "      <td>8001</td>\n",
       "      <td>Denmark</td>\n",
       "      <td>2682</td>\n",
       "      <td>MAJ_BAS_8001_SUB_BAS_0001001</td>\n",
       "      <td>(POLYGON ((117.7583333333333 -34.6499999999997...</td>\n",
       "    </tr>\n",
       "  </tbody>\n",
       "</table>\n",
       "</div>"
      ],
      "text/plain": [
       "   sub_bas  to_bas  maj_bas              sub_name  sub_area  \\\n",
       "0     1001    -999     4001  Northern Spain Coast     29194   \n",
       "1     1001    -999     4001  Northern Spain Coast     29194   \n",
       "2     1001    -999     4001  Northern Spain Coast     29194   \n",
       "3     1001    -999     6001     Bursa / Balikesir     24573   \n",
       "4     1001    -999     8001               Denmark      2682   \n",
       "\n",
       "                         fao_id  \\\n",
       "0  MAJ_BAS_4001_SUB_BAS_0001001   \n",
       "1  MAJ_BAS_4001_SUB_BAS_0001001   \n",
       "2  MAJ_BAS_4001_SUB_BAS_0001001   \n",
       "3  MAJ_BAS_6001_SUB_BAS_0001001   \n",
       "4  MAJ_BAS_8001_SUB_BAS_0001001   \n",
       "\n",
       "                                                geom  \n",
       "0  (POLYGON ((-7.862500000000175 43.7791666666661...  \n",
       "1  (POLYGON ((-7.437500000000188 43.7208333333327...  \n",
       "2  (POLYGON ((-2.679166666666902 43.4208333333327...  \n",
       "3  (POLYGON ((27.79166666666602 40.370833333333, ...  \n",
       "4  (POLYGON ((117.7583333333333 -34.6499999999997...  "
      ]
     },
     "execution_count": 89,
     "metadata": {},
     "output_type": "execute_result"
    }
   ],
   "source": [
    "gdfFromSQL.head()"
   ]
  },
  {
   "cell_type": "code",
   "execution_count": 90,
   "metadata": {
    "collapsed": true
   },
   "outputs": [],
   "source": [
    "test = gdfFromSQL.duplicated(subset=\"fao_id\")"
   ]
  },
  {
   "cell_type": "code",
   "execution_count": 91,
   "metadata": {},
   "outputs": [
    {
     "data": {
      "text/plain": [
       "0    False\n",
       "1     True\n",
       "2     True\n",
       "3    False\n",
       "4    False\n",
       "dtype: bool"
      ]
     },
     "execution_count": 91,
     "metadata": {},
     "output_type": "execute_result"
    }
   ],
   "source": [
    "test.head()"
   ]
  },
  {
   "cell_type": "code",
   "execution_count": 92,
   "metadata": {},
   "outputs": [
    {
     "name": "stdout",
     "output_type": "stream",
     "text": [
      "CREATE TABLE fao_minor_v05 AS SELECT MIN(fao_id) as fao_id,MIN(sub_bas) as sub_bas, MIN(to_bas) as to_bas, MIN(maj_bas) as maj_bas, MIN(sub_name) as sub_name, MIN(sub_area) as sub_area, ST_Multi(ST_Union(t.geom)) as geom FROM fao_minor_temp_v05 As t GROUP BY fao_id\n"
     ]
    }
   ],
   "source": [
    "gdfFromSQL2 = postGISDissolveFirst(TABLE_NAME_FAO_MINOR_TEMP,TABLE_NAME_FAO_MINOR,\"fao_id\")"
   ]
  },
  {
   "cell_type": "markdown",
   "metadata": {},
   "source": [
    "### Link Table\n",
    "\n",
    "this information comes from a spatial join and is stored in a different table. \n",
    "\n"
   ]
  },
  {
   "cell_type": "code",
   "execution_count": 26,
   "metadata": {
    "collapsed": true
   },
   "outputs": [],
   "source": [
    "df_link = pd.read_pickle(os.path.join(EC2_INPUT_PATH,INPUT_FILE_NAME_LINK+\".pkl\"))"
   ]
  },
  {
   "cell_type": "code",
   "execution_count": 27,
   "metadata": {
    "collapsed": true
   },
   "outputs": [],
   "source": [
    "df_link = df_link.reset_index()"
   ]
  },
  {
   "cell_type": "code",
   "execution_count": 28,
   "metadata": {
    "collapsed": true
   },
   "outputs": [],
   "source": [
    "df_link.drop(\"index\",1,inplace=True)"
   ]
  },
  {
   "cell_type": "code",
   "execution_count": 29,
   "metadata": {
    "collapsed": true
   },
   "outputs": [],
   "source": [
    "df_link.index.names = ['id']"
   ]
  },
  {
   "cell_type": "code",
   "execution_count": 30,
   "metadata": {
    "collapsed": true
   },
   "outputs": [],
   "source": [
    "#df_link.columns = map(str.lower, df_link.columns)"
   ]
  },
  {
   "cell_type": "code",
   "execution_count": 31,
   "metadata": {
    "collapsed": true
   },
   "outputs": [],
   "source": [
    "df_link.columns = [\"pfaf_id\",\"fao_id\"]"
   ]
  },
  {
   "cell_type": "code",
   "execution_count": 32,
   "metadata": {
    "collapsed": true
   },
   "outputs": [],
   "source": [
    "df_link.to_sql(\n",
    "    name = TABLE_NAME_FAO_LINK,\n",
    "    con = connection,\n",
    "    if_exists=\"replace\",\n",
    "    index= True)"
   ]
  },
  {
   "cell_type": "code",
   "execution_count": 114,
   "metadata": {
    "collapsed": true
   },
   "outputs": [],
   "source": [
    "connection.close()"
   ]
  },
  {
   "cell_type": "code",
   "execution_count": null,
   "metadata": {
    "collapsed": true
   },
   "outputs": [],
   "source": [
    "end = datetime.datetime.now()\n",
    "elapsed = end - start\n",
    "print(elapsed)"
   ]
  }
 ],
 "metadata": {
  "kernelspec": {
   "display_name": "Python 35",
   "language": "python",
   "name": "python35"
  },
  "language_info": {
   "codemirror_mode": {
    "name": "ipython",
    "version": 3
   },
   "file_extension": ".py",
   "mimetype": "text/x-python",
   "name": "python",
   "nbconvert_exporter": "python",
   "pygments_lexer": "ipython3",
   "version": "3.5.4"
  }
 },
 "nbformat": 4,
 "nbformat_minor": 2
}
