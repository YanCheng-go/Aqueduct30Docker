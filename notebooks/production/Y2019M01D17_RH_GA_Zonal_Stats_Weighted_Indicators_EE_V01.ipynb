{
 "cells": [
  {
   "cell_type": "code",
   "execution_count": 1,
   "metadata": {},
   "outputs": [
    {
     "name": "stdout",
     "output_type": "stream",
     "text": [
      "EE_ZONES_PATH: projects/WRI-Aquaduct/Y2018D12D17_RH_GADM36L01_EE_V01/output_V06/gadm36l01\n",
      "EE_INDICATOR_PATH : projects/WRI-Aquaduct/Y2019M01D10_RH_GA_Rasterize_Indicators_EE_V01/output_V01/\n",
      "GCS_OUTPUT_PATH : Y2019M01D17_RH_GA_Zonal_Stats_Weighted_Indicators_EE_V01/output_V06\n",
      "ee_output_path: projects/WRI-Aquaduct/Y2019M01D17_RH_GA_Zonal_Stats_Weighted_Indicators_EE_V01/output_V06\n"
     ]
    }
   ],
   "source": [
    "\"\"\"Zonal statistics for GADM level 1 for sum of weights and weights*indicators.\n",
    "-------------------------------------------------------------------------------\n",
    "\n",
    "Ingest rasterized aqueduct 30 indicators to earthengine. \n",
    "\n",
    "Author: Rutger Hofste\n",
    "Date: 20190117\n",
    "Kernel: python35\n",
    "Docker: rutgerhofste/gisdocker:ubuntu16.04\n",
    "\n",
    "\"\"\"\n",
    "\n",
    "TESTING = 0\n",
    "SCRIPT_NAME = \"Y2019M01D17_RH_GA_Zonal_Stats_Weighted_Indicators_EE_V01\"\n",
    "OUTPUT_VERSION = 6\n",
    "\n",
    "EE_ZONES_PATH = \"projects/WRI-Aquaduct/Y2018D12D17_RH_GADM36L01_EE_V01/output_V06/gadm36l01\"\n",
    "\n",
    "EE_WEIGHTS = {}\n",
    "EE_WEIGHTS[\"Tot\"] =\"projects/WRI-Aquaduct/Y2019M01D08_RH_Total_Demand_EE_V01/output_V04/global_historical_PTotWW_year_m_30s_1960_2014\"\n",
    "EE_WEIGHTS[\"Dom\"] =\"projects/WRI-Aquaduct/Y2019M01D08_RH_Total_Demand_EE_V01/output_V04/global_historical_PDomWW_year_m_30s_1960_2014\"\n",
    "EE_WEIGHTS[\"Ind\"] =\"projects/WRI-Aquaduct/Y2019M01D08_RH_Total_Demand_EE_V01/output_V04/global_historical_PIndWW_year_m_30s_1960_2014\"\n",
    "EE_WEIGHTS[\"Irr\"] =\"projects/WRI-Aquaduct/Y2019M01D08_RH_Total_Demand_EE_V01/output_V04/global_historical_PIrrWW_year_m_30s_1960_2014\"\n",
    "EE_WEIGHTS[\"Liv\"] =\"projects/WRI-Aquaduct/Y2019M01D08_RH_Total_Demand_EE_V01/output_V04/global_historical_PLivWW_year_m_30s_1960_2014\"\n",
    "EE_WEIGHTS[\"One\"] =\"projects/WRI-Aquaduct/Y2017M09D05_RH_Create_Area_Image_EE_V01/output_V07/global_ones_30s_V07\"\n",
    "\n",
    "\n",
    "EE_INDICATOR_PATH = \"projects/WRI-Aquaduct/Y2019M01D10_RH_GA_Rasterize_Indicators_EE_V01/output_V01/\"\n",
    "\n",
    "GCS_BUCKET= \"aqueduct30_v01\"\n",
    "GCS_OUTPUT_PATH = \"{}/output_V{:02.0f}\".format(SCRIPT_NAME,OUTPUT_VERSION)\n",
    "\n",
    "ee_output_path = \"projects/WRI-Aquaduct/{}/output_V{:02.0f}\".format(SCRIPT_NAME,OUTPUT_VERSION)\n",
    "\n",
    "print(\"EE_ZONES_PATH: \" + EE_ZONES_PATH +\n",
    "      \"\\nEE_INDICATOR_PATH : \" + EE_INDICATOR_PATH +\n",
    "      \"\\nGCS_OUTPUT_PATH : \" + GCS_OUTPUT_PATH + \n",
    "      \"\\nee_output_path: \" + ee_output_path )"
   ]
  },
  {
   "cell_type": "code",
   "execution_count": 2,
   "metadata": {},
   "outputs": [
    {
     "name": "stdout",
     "output_type": "stream",
     "text": [
      "Y2019M04D11 UTC 09:39\n"
     ]
    },
    {
     "data": {
      "text/plain": [
       "'3.5.4 |Anaconda, Inc.| (default, Nov 20 2017, 18:44:38) \\n[GCC 7.2.0]'"
      ]
     },
     "execution_count": 2,
     "metadata": {},
     "output_type": "execute_result"
    }
   ],
   "source": [
    "import time, datetime, sys\n",
    "dateString = time.strftime(\"Y%YM%mD%d\")\n",
    "timeString = time.strftime(\"UTC %H:%M\")\n",
    "start = datetime.datetime.now()\n",
    "print(dateString,timeString)\n",
    "sys.version"
   ]
  },
  {
   "cell_type": "code",
   "execution_count": 3,
   "metadata": {
    "collapsed": true
   },
   "outputs": [],
   "source": [
    "import ee"
   ]
  },
  {
   "cell_type": "code",
   "execution_count": 4,
   "metadata": {
    "collapsed": true
   },
   "outputs": [],
   "source": [
    "ee.Initialize()"
   ]
  },
  {
   "cell_type": "code",
   "execution_count": 5,
   "metadata": {
    "collapsed": true
   },
   "outputs": [],
   "source": [
    "zones = ee.FeatureCollection(EE_ZONES_PATH)"
   ]
  },
  {
   "cell_type": "code",
   "execution_count": 6,
   "metadata": {
    "collapsed": true
   },
   "outputs": [],
   "source": [
    "CRS_TRANSFORM_30S_NOPOLAR = [\n",
    "    0.008333333333333333,\n",
    "    0,\n",
    "    -180,\n",
    "    0,\n",
    "    -0.008333333333333333,\n",
    "    89.5\n",
    "]"
   ]
  },
  {
   "cell_type": "code",
   "execution_count": 7,
   "metadata": {
    "collapsed": true
   },
   "outputs": [],
   "source": [
    "def drop_geometry(feature):\n",
    "    feature_out = ee.Feature(None,{})\n",
    "    feature_out = feature_out.copyProperties(source=ee.Feature(feature),\n",
    "                                             properties=[\"gid_1\",\"sum\"])\n",
    "    return feature_out\n",
    "    "
   ]
  },
  {
   "cell_type": "code",
   "execution_count": 8,
   "metadata": {
    "collapsed": true
   },
   "outputs": [],
   "source": [
    "sectors = [\"One\",\"Tot\",\"Dom\",\"Ind\",\"Irr\",\"Liv\"]\n",
    "#indicators = [\"bws\",\"bwd\",\"iav\",\"sev\",\"gtd\",\"drr\",\"rfr\",\"cfr\",\"ucw\",\"cep\",\"udw\",\"usa\",\"rri\"]\n",
    "indicators = [\"bws\",\"bwd\",\"iav\",\"sev\"]"
   ]
  },
  {
   "cell_type": "code",
   "execution_count": 9,
   "metadata": {},
   "outputs": [
    {
     "name": "stdout",
     "output_type": "stream",
     "text": [
      "One\n",
      "One bws\n",
      "One bwd\n",
      "One iav\n",
      "One sev\n",
      "Tot\n",
      "Tot bws\n",
      "Tot bwd\n",
      "Tot iav\n",
      "Tot sev\n",
      "Dom\n",
      "Dom bws\n",
      "Dom bwd\n",
      "Dom iav\n",
      "Dom sev\n",
      "Ind\n",
      "Ind bws\n",
      "Ind bwd\n",
      "Ind iav\n",
      "Ind sev\n",
      "Irr\n",
      "Irr bws\n",
      "Irr bwd\n",
      "Irr iav\n",
      "Irr sev\n",
      "Liv\n",
      "Liv bws\n",
      "Liv bwd\n",
      "Liv iav\n",
      "Liv sev\n"
     ]
    }
   ],
   "source": [
    "for sector in sectors:\n",
    "    print(sector)\n",
    "    weights = ee.Image(EE_WEIGHTS[sector])\n",
    "    fc_weights_sums = weights.reduceRegions(collection=zones,\n",
    "                                            reducer=ee.Reducer.sum(),\n",
    "                                            crs=\"EPSG:4326\",\n",
    "                                            crsTransform=CRS_TRANSFORM_30S_NOPOLAR\n",
    "                                            )\n",
    "    fc_weights_sums_nogeom = fc_weights_sums.map(drop_geometry)\n",
    "    output_file_path_weights = \"{}/{}_weights_sum\".format(GCS_OUTPUT_PATH,sector)\n",
    "    task = ee.batch.Export.table.toCloudStorage(collection=fc_weights_sums_nogeom,\n",
    "                                                description=\"{}_weights\".format(sector),\n",
    "                                                bucket=GCS_BUCKET,\n",
    "                                                fileNamePrefix=output_file_path_weights,\n",
    "                                                fileFormat=\"CSV\")\n",
    "\n",
    "    task.start()\n",
    "\n",
    "    for indicator in indicators:\n",
    "        print(sector,indicator)\n",
    "        values_path = \"{}{}\".format(EE_INDICATOR_PATH,indicator)\n",
    "        values = ee.Image(values_path)\n",
    "        weighted_values = weights.multiply(values)\n",
    "\n",
    "        fc_weighted_values_sums = weighted_values.reduceRegions(collection=zones,\n",
    "                                                                reducer=ee.Reducer.sum(),\n",
    "                                                                crs=\"EPSG:4326\",\n",
    "                                                                crsTransform=CRS_TRANSFORM_30S_NOPOLAR\n",
    "                                                                )\n",
    "\n",
    "        fc_weighted_values_sums_nogeom = fc_weighted_values_sums.map(drop_geometry)\n",
    "        output_file_path_weighted_values = \"{}/{}_weighted_{}_sum\".format(GCS_OUTPUT_PATH,sector,indicator)\n",
    "        task = ee.batch.Export.table.toCloudStorage(collection=fc_weighted_values_sums_nogeom,\n",
    "                                                    description=indicator,\n",
    "                                                    bucket=GCS_BUCKET,\n",
    "                                                    fileNamePrefix=output_file_path_weighted_values,\n",
    "                                                    fileFormat=\"CSV\")\n",
    "        task.start()"
   ]
  },
  {
   "cell_type": "code",
   "execution_count": 10,
   "metadata": {},
   "outputs": [
    {
     "name": "stdout",
     "output_type": "stream",
     "text": [
      "0:00:49.331242\n"
     ]
    }
   ],
   "source": [
    "end = datetime.datetime.now()\n",
    "elapsed = end - start\n",
    "print(elapsed)"
   ]
  },
  {
   "cell_type": "markdown",
   "metadata": {},
   "source": [
    "Previous Runs:  \n",
    "0:01:58.648632\n",
    "\n",
    "Tasks take appr. 6 min to complete"
   ]
  },
  {
   "cell_type": "code",
   "execution_count": null,
   "metadata": {
    "collapsed": true
   },
   "outputs": [],
   "source": []
  }
 ],
 "metadata": {
  "kernelspec": {
   "display_name": "Python 35",
   "language": "python",
   "name": "python35"
  },
  "language_info": {
   "codemirror_mode": {
    "name": "ipython",
    "version": 3
   },
   "file_extension": ".py",
   "mimetype": "text/x-python",
   "name": "python",
   "nbconvert_exporter": "python",
   "pygments_lexer": "ipython3",
   "version": "3.5.4"
  }
 },
 "nbformat": 4,
 "nbformat_minor": 2
}
