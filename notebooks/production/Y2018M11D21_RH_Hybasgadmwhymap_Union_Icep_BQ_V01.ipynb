{
 "cells": [
  {
   "cell_type": "code",
   "execution_count": 1,
   "metadata": {},
   "outputs": [
    {
     "name": "stdout",
     "output_type": "stream",
     "text": [
      "\n",
      "BQ_DATASET_NAME:  geospatial_geog_v01 \n",
      "BQ_INPUT_TABLE_LEFT:  y2018m11d14_rh_hybasgadm_union_whymap_bq_v01_v02 \n",
      "BQ_INPUT_TABLE_RIGHT:  y2018m11d14_rh_icepbasins_to_bq_v01_v01 \n",
      "BQ_OUTPUT_TABLE_NAME:  y2018m11d21_rh_hybasgadmwhymap_union_icep_bq_v01_v01 \n",
      "ec2_output_path: /volumes/data/Y2018M11D21_RH_Hybasgadmwhymap_Union_Icep_BQ_V01/output_V01/ \n",
      "s3_output_path: s3://wri-projects/Aqueduct30/processData/Y2018M11D21_RH_Hybasgadmwhymap_Union_Icep_BQ_V01/output_V01/\n"
     ]
    }
   ],
   "source": [
    "\"\"\" Union of hybasgadm and Whymap in Bigquery.\n",
    "-------------------------------------------------------------------------------\n",
    "\n",
    "Performance has been significantly improved with the help of Google Experts on\n",
    "the Bigquery forum.\n",
    "\n",
    "Author: Rutger Hofste\n",
    "Date: 20181121\n",
    "Kernel: python35\n",
    "Docker: rutgerhofste/gisdocker:ubuntu16.04\n",
    "\n",
    "\"\"\"\n",
    "\n",
    "OVERWRITE_OUTPUT = 1\n",
    "SCRIPT_NAME = 'Y2018M11D21_RH_Hybasgadmwhymap_Union_Icep_BQ_V01'\n",
    "OUTPUT_VERSION = 1\n",
    "\n",
    "BQ_PROJECT_ID = \"aqueduct30\"\n",
    "BQ_DATASET_NAME = \"geospatial_geog_v01\"\n",
    "\n",
    "BQ_INPUT_TABLE_LEFT = \"y2018m11d14_rh_hybasgadm_union_whymap_bq_v01_v02\"\n",
    "BQ_INPUT_TABLE_RIGHT = \"y2018m11d14_rh_icepbasins_to_bq_v01_v01\"\n",
    "\n",
    "BQ_OUTPUT_TABLE_NAME = \"{}_v{:02.0f}\".format(SCRIPT_NAME,OUTPUT_VERSION).lower()\n",
    "\n",
    "ec2_output_path = \"/volumes/data/{}/output_V{:02.0f}/\".format(SCRIPT_NAME,OUTPUT_VERSION)\n",
    "s3_output_path = \"s3://wri-projects/Aqueduct30/processData/{}/output_V{:02.0f}/\".format(SCRIPT_NAME,OUTPUT_VERSION)\n",
    "\n",
    "print(\"\\nBQ_DATASET_NAME: \", BQ_DATASET_NAME,\n",
    "      \"\\nBQ_INPUT_TABLE_LEFT: \",BQ_INPUT_TABLE_LEFT,\n",
    "      \"\\nBQ_INPUT_TABLE_RIGHT: \",BQ_INPUT_TABLE_RIGHT,\n",
    "      \"\\nBQ_OUTPUT_TABLE_NAME: \", BQ_OUTPUT_TABLE_NAME,\n",
    "      \"\\nec2_output_path:\",ec2_output_path,\n",
    "      \"\\ns3_output_path:\",s3_output_path)"
   ]
  },
  {
   "cell_type": "code",
   "execution_count": 2,
   "metadata": {},
   "outputs": [
    {
     "name": "stdout",
     "output_type": "stream",
     "text": [
      "Y2018M11D21 UTC 17:22\n"
     ]
    },
    {
     "data": {
      "text/plain": [
       "'3.5.4 |Anaconda, Inc.| (default, Nov 20 2017, 18:44:38) \\n[GCC 7.2.0]'"
      ]
     },
     "execution_count": 2,
     "metadata": {},
     "output_type": "execute_result"
    }
   ],
   "source": [
    "import time, datetime, sys\n",
    "dateString = time.strftime(\"Y%YM%mD%d\")\n",
    "timeString = time.strftime(\"UTC %H:%M\")\n",
    "start = datetime.datetime.now()\n",
    "print(dateString,timeString)\n",
    "sys.version"
   ]
  },
  {
   "cell_type": "code",
   "execution_count": 3,
   "metadata": {
    "collapsed": true
   },
   "outputs": [],
   "source": [
    "import os\n",
    "import sqlalchemy\n",
    "import pandas as pd\n",
    "import geopandas as gpd\n",
    "from google.cloud import bigquery\n",
    "\n",
    "os.environ[\"GOOGLE_APPLICATION_CREDENTIALS\"] = \"/.google.json\"\n",
    "os.environ[\"GOOGLE_CLOUD_PROJECT\"] = \"aqueduct30\"\n",
    "client = bigquery.Client(project=BQ_PROJECT_ID)"
   ]
  },
  {
   "cell_type": "code",
   "execution_count": 4,
   "metadata": {
    "collapsed": true
   },
   "outputs": [],
   "source": [
    "q = \"\"\"\n",
    "  -- input data\n",
    "WITH\n",
    "  polys1 AS (\n",
    "  SELECT\n",
    "    t1.id_pfafgadmwhymap,\n",
    "    t1.g as g\n",
    "  FROM\n",
    "    `{}.{}` t1 ),\n",
    "  polys2 AS (\n",
    "  SELECT\n",
    "    t2.icepbasinid,\n",
    "    t2.geog as g\n",
    "  FROM\n",
    "    `{}.{}` t2 ),\n",
    "  -- intersections\n",
    "  intersections AS (\n",
    "    SELECT id_pfafgadmwhymap, icepbasinid, ST_INTERSECTION(a.g, b.g) i, a.g AS g1, b.g AS g2 \n",
    "    FROM polys1 a, polys2 b WHERE ST_INTERSECTS(a.g, b.g)\n",
    "  ),\n",
    "  -- per-row union of intersections with this row\n",
    "  diff1 AS (\n",
    "    SELECT id_pfafgadmwhymap, ST_UNION_AGG(i) i FROM intersections GROUP BY id_pfafgadmwhymap\n",
    "  ),\n",
    "  diff2 AS (\n",
    "    SELECT icepbasinid, ST_UNION_AGG(i) i FROM intersections GROUP BY icepbasinid\n",
    "  ),\n",
    "  -- various combinations of intersections\n",
    "  pairs AS (\n",
    "    SELECT id_pfafgadmwhymap, icepbasinid, i AS g FROM intersections\n",
    "    UNION ALL\n",
    "    SELECT p.id_pfafgadmwhymap, NULL, IF(i IS NULL, g, ST_DIFFERENCE(g, i)) FROM polys1 p LEFT JOIN diff1 d ON p.id_pfafgadmwhymap = d.id_pfafgadmwhymap\n",
    "    UNION ALL \n",
    "    SELECT NULL, p.icepbasinid, IF(i IS NULL, g, ST_DIFFERENCE(g, i)) FROM polys2 p LEFT JOIN diff2 d ON p.icepbasinid = d.icepbasinid\n",
    "  )\n",
    "  SELECT CONCAT(COALESCE(CAST(id_pfafgadmwhymap AS STRING),'nodata'),\n",
    "         \"-\",\n",
    "         COALESCE(CAST(icepbasinid AS STRING),'nodata')) AS id_pfafgadmwhymapicep, \n",
    "         *\n",
    "  FROM pairs WHERE NOT ST_IsEmpty(g)\n",
    "\n",
    "\"\"\".format(BQ_DATASET_NAME,BQ_INPUT_TABLE_LEFT,BQ_DATASET_NAME,BQ_INPUT_TABLE_RIGHT)"
   ]
  },
  {
   "cell_type": "code",
   "execution_count": 5,
   "metadata": {
    "collapsed": true
   },
   "outputs": [],
   "source": [
    "job_config = bigquery.QueryJobConfig()"
   ]
  },
  {
   "cell_type": "code",
   "execution_count": 6,
   "metadata": {
    "collapsed": true
   },
   "outputs": [],
   "source": [
    "destination_dataset_ref = client.dataset(BQ_DATASET_NAME)"
   ]
  },
  {
   "cell_type": "code",
   "execution_count": 7,
   "metadata": {
    "collapsed": true
   },
   "outputs": [],
   "source": [
    "destination_table_ref = destination_dataset_ref.table(BQ_OUTPUT_TABLE_NAME)"
   ]
  },
  {
   "cell_type": "code",
   "execution_count": 8,
   "metadata": {
    "collapsed": true
   },
   "outputs": [],
   "source": [
    "job_config.destination = destination_table_ref"
   ]
  },
  {
   "cell_type": "code",
   "execution_count": 9,
   "metadata": {
    "collapsed": true
   },
   "outputs": [],
   "source": [
    "query_job = client.query(query=q,\n",
    "                         job_config=job_config)"
   ]
  },
  {
   "cell_type": "code",
   "execution_count": null,
   "metadata": {},
   "outputs": [],
   "source": [
    "rows = query_job.result()"
   ]
  },
  {
   "cell_type": "code",
   "execution_count": null,
   "metadata": {
    "collapsed": true
   },
   "outputs": [],
   "source": [
    "end = datetime.datetime.now()\n",
    "elapsed = end - start\n",
    "print(elapsed)"
   ]
  },
  {
   "cell_type": "markdown",
   "metadata": {},
   "source": [
    "Previous Runs:  \n"
   ]
  }
 ],
 "metadata": {
  "kernelspec": {
   "display_name": "Python 35",
   "language": "python",
   "name": "python35"
  },
  "language_info": {
   "codemirror_mode": {
    "name": "ipython",
    "version": 3
   },
   "file_extension": ".py",
   "mimetype": "text/x-python",
   "name": "python",
   "nbconvert_exporter": "python",
   "pygments_lexer": "ipython3",
   "version": "3.5.4"
  }
 },
 "nbformat": 4,
 "nbformat_minor": 2
}
