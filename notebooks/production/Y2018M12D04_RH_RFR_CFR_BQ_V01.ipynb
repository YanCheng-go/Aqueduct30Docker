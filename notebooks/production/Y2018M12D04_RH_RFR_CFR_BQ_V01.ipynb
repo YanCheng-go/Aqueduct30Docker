{
 "cells": [
  {
   "cell_type": "code",
   "execution_count": 1,
   "metadata": {},
   "outputs": [
    {
     "name": "stdout",
     "output_type": "stream",
     "text": [
      "S3_INPUT_PATH:  s3://wri-projects/Aqueduct30/finalData/Floods \n",
      "ec2_input_path:  /volumes/data/Y2018M12D04_RH_RFR_CFR_BQ_V01/input_V01 \n",
      "ec2_output_path:  /volumes/data/Y2018M12D04_RH_RFR_CFR_BQ_V01/output_V01 \n",
      "BQ_OUTPUT_DATASET_NAME:  aqueduct30v01 \n",
      "BQ_OUTPUT_TABLE_NAME:  y2018m12d04_rh_rfr_cfr_bq_v01_v01\n"
     ]
    }
   ],
   "source": [
    "\"\"\" Process flood risk data and store on BigQuery. \n",
    "-------------------------------------------------------------------------------\n",
    "\n",
    "Author: Rutger Hofste\n",
    "Date: 20181204\n",
    "Kernel: python35\n",
    "Docker: rutgerhofste/gisdocker:ubuntu16.04\n",
    "\n",
    "\"\"\"\n",
    "\n",
    "SCRIPT_NAME = \"Y2018M12D04_RH_RFR_CFR_BQ_V01\"\n",
    "OUTPUT_VERSION = 1\n",
    "\n",
    "S3_INPUT_PATH = \"s3://wri-projects/Aqueduct30/finalData/Floods\"\n",
    "INPUT_FILE_NAME = \"flood_results.csv\"\n",
    "\n",
    "BQ_PROJECT_ID = \"aqueduct30\"\n",
    "BQ_OUTPUT_DATASET_NAME = \"aqueduct30v01\"\n",
    "BQ_OUTPUT_TABLE_NAME = \"{}_v{:02.0f}\".format(SCRIPT_NAME,OUTPUT_VERSION).lower()\n",
    "\n",
    "ec2_input_path = \"/volumes/data/{}/input_V{:02.0f}\".format(SCRIPT_NAME,OUTPUT_VERSION) \n",
    "ec2_output_path = \"/volumes/data/{}/output_V{:02.0f}\".format(SCRIPT_NAME,OUTPUT_VERSION) \n",
    "\n",
    "print(\"S3_INPUT_PATH: \",S3_INPUT_PATH,\n",
    "      \"\\nec2_input_path: \",ec2_input_path,\n",
    "      \"\\nec2_output_path: \",ec2_output_path,\n",
    "      \"\\nBQ_OUTPUT_DATASET_NAME: \", BQ_OUTPUT_DATASET_NAME,\n",
    "      \"\\nBQ_OUTPUT_TABLE_NAME: \",BQ_OUTPUT_TABLE_NAME\n",
    "      )\n"
   ]
  },
  {
   "cell_type": "code",
   "execution_count": 2,
   "metadata": {},
   "outputs": [
    {
     "name": "stdout",
     "output_type": "stream",
     "text": [
      "Y2018M12D05 UTC 12:53\n"
     ]
    },
    {
     "data": {
      "text/plain": [
       "'3.5.4 |Anaconda, Inc.| (default, Nov 20 2017, 18:44:38) \\n[GCC 7.2.0]'"
      ]
     },
     "execution_count": 2,
     "metadata": {},
     "output_type": "execute_result"
    }
   ],
   "source": [
    "import time, datetime, sys\n",
    "dateString = time.strftime(\"Y%YM%mD%d\")\n",
    "timeString = time.strftime(\"UTC %H:%M\")\n",
    "start = datetime.datetime.now()\n",
    "print(dateString,timeString)\n",
    "sys.version"
   ]
  },
  {
   "cell_type": "code",
   "execution_count": 3,
   "metadata": {
    "collapsed": true
   },
   "outputs": [],
   "source": [
    "!rm -r {ec2_input_path}\n",
    "!rm -r {ec2_output_path}\n",
    "!mkdir -p {ec2_input_path}\n",
    "!mkdir -p {ec2_output_path}"
   ]
  },
  {
   "cell_type": "code",
   "execution_count": 4,
   "metadata": {},
   "outputs": [
    {
     "name": "stdout",
     "output_type": "stream",
     "text": [
      "download: s3://wri-projects/Aqueduct30/finalData/Floods/flood_results.CPG to ../../../../data/Y2018M12D04_RH_RFR_CFR_BQ_V01/input_V01/flood_results.CPG\n",
      "download: s3://wri-projects/Aqueduct30/finalData/Floods/flood_results.prj to ../../../../data/Y2018M12D04_RH_RFR_CFR_BQ_V01/input_V01/flood_results.prj\n",
      "download: s3://wri-projects/Aqueduct30/finalData/Floods/flood_results.shp.xml to ../../../../data/Y2018M12D04_RH_RFR_CFR_BQ_V01/input_V01/flood_results.shp.xml\n",
      "download: s3://wri-projects/Aqueduct30/finalData/Floods/flood_results.sbx to ../../../../data/Y2018M12D04_RH_RFR_CFR_BQ_V01/input_V01/flood_results.sbx\n",
      "download: s3://wri-projects/Aqueduct30/finalData/Floods/flood_results.sbn to ../../../../data/Y2018M12D04_RH_RFR_CFR_BQ_V01/input_V01/flood_results.sbn\n",
      "download: s3://wri-projects/Aqueduct30/finalData/Floods/flood_results.shx to ../../../../data/Y2018M12D04_RH_RFR_CFR_BQ_V01/input_V01/flood_results.shx\n",
      "download: s3://wri-projects/Aqueduct30/finalData/Floods/flood_results.csv to ../../../../data/Y2018M12D04_RH_RFR_CFR_BQ_V01/input_V01/flood_results.csv\n",
      "download: s3://wri-projects/Aqueduct30/finalData/Floods/flood_results.dbf to ../../../../data/Y2018M12D04_RH_RFR_CFR_BQ_V01/input_V01/flood_results.dbf\n",
      "download: s3://wri-projects/Aqueduct30/finalData/Floods/wri_aqueduct3_Floods.py to ../../../../data/Y2018M12D04_RH_RFR_CFR_BQ_V01/input_V01/wri_aqueduct3_Floods.py\n",
      "download: s3://wri-projects/Aqueduct30/finalData/Floods/flood_results.shp to ../../../../data/Y2018M12D04_RH_RFR_CFR_BQ_V01/input_V01/flood_results.shp\n"
     ]
    }
   ],
   "source": [
    "!aws s3 cp {S3_INPUT_PATH} {ec2_input_path} --recursive --exclude 'inundationMaps/*'"
   ]
  },
  {
   "cell_type": "code",
   "execution_count": 5,
   "metadata": {
    "collapsed": true
   },
   "outputs": [],
   "source": [
    "import os\n",
    "import pandas as pd\n",
    "import numpy as np\n",
    "from google.cloud import bigquery\n",
    "\n",
    "os.environ[\"GOOGLE_APPLICATION_CREDENTIALS\"] = \"/.google.json\"\n",
    "os.environ[\"GOOGLE_CLOUD_PROJECT\"] = \"aqueduct30\"\n",
    "client = bigquery.Client(project=BQ_PROJECT_ID)"
   ]
  },
  {
   "cell_type": "code",
   "execution_count": 6,
   "metadata": {
    "collapsed": true
   },
   "outputs": [],
   "source": [
    "files = os.listdir(ec2_input_path)"
   ]
  },
  {
   "cell_type": "code",
   "execution_count": 7,
   "metadata": {
    "collapsed": true
   },
   "outputs": [],
   "source": [
    "input_path = \"{}/{}\".format(ec2_input_path,INPUT_FILE_NAME)"
   ]
  },
  {
   "cell_type": "code",
   "execution_count": 8,
   "metadata": {
    "collapsed": true
   },
   "outputs": [],
   "source": [
    "df = pd.read_csv(input_path)"
   ]
  },
  {
   "cell_type": "code",
   "execution_count": 9,
   "metadata": {},
   "outputs": [
    {
     "data": {
      "text/plain": [
       "PFAF_ID                 int64\n",
       "River_pop_impacted    float64\n",
       "Coast_pop_impacted    float64\n",
       "pop_total             float64\n",
       "RVR_raw               float64\n",
       "CST_raw               float64\n",
       "RVR_s                 float64\n",
       "CST_s                 float64\n",
       "RVR_cat                object\n",
       "CST_cat                object\n",
       "dtype: object"
      ]
     },
     "execution_count": 9,
     "metadata": {},
     "output_type": "execute_result"
    }
   ],
   "source": [
    "df.dtypes"
   ]
  },
  {
   "cell_type": "code",
   "execution_count": 10,
   "metadata": {},
   "outputs": [
    {
     "data": {
      "text/html": [
       "<div>\n",
       "<style scoped>\n",
       "    .dataframe tbody tr th:only-of-type {\n",
       "        vertical-align: middle;\n",
       "    }\n",
       "\n",
       "    .dataframe tbody tr th {\n",
       "        vertical-align: top;\n",
       "    }\n",
       "\n",
       "    .dataframe thead th {\n",
       "        text-align: right;\n",
       "    }\n",
       "</style>\n",
       "<table border=\"1\" class=\"dataframe\">\n",
       "  <thead>\n",
       "    <tr style=\"text-align: right;\">\n",
       "      <th></th>\n",
       "      <th>PFAF_ID</th>\n",
       "      <th>River_pop_impacted</th>\n",
       "      <th>Coast_pop_impacted</th>\n",
       "      <th>pop_total</th>\n",
       "      <th>RVR_raw</th>\n",
       "      <th>CST_raw</th>\n",
       "      <th>RVR_s</th>\n",
       "      <th>CST_s</th>\n",
       "      <th>RVR_cat</th>\n",
       "      <th>CST_cat</th>\n",
       "    </tr>\n",
       "  </thead>\n",
       "  <tbody>\n",
       "    <tr>\n",
       "      <th>0</th>\n",
       "      <td>111011</td>\n",
       "      <td>33829.559052</td>\n",
       "      <td>0.000000</td>\n",
       "      <td>454804.931450</td>\n",
       "      <td>0.074383</td>\n",
       "      <td>0.00000</td>\n",
       "      <td>4.180674</td>\n",
       "      <td>0.000000</td>\n",
       "      <td>Extremely High (more than 1 in 100)</td>\n",
       "      <td>Low (0 to 9 in 1,000,000)</td>\n",
       "    </tr>\n",
       "    <tr>\n",
       "      <th>1</th>\n",
       "      <td>111012</td>\n",
       "      <td>0.000000</td>\n",
       "      <td>0.000000</td>\n",
       "      <td>28.227839</td>\n",
       "      <td>0.000000</td>\n",
       "      <td>0.00000</td>\n",
       "      <td>0.000000</td>\n",
       "      <td>0.000000</td>\n",
       "      <td>Low (0 to 1 in 1,000)</td>\n",
       "      <td>Low (0 to 9 in 1,000,000)</td>\n",
       "    </tr>\n",
       "    <tr>\n",
       "      <th>2</th>\n",
       "      <td>111013</td>\n",
       "      <td>188.250738</td>\n",
       "      <td>0.000000</td>\n",
       "      <td>11524.015199</td>\n",
       "      <td>0.016336</td>\n",
       "      <td>0.00000</td>\n",
       "      <td>4.008112</td>\n",
       "      <td>0.000000</td>\n",
       "      <td>Extremely High (more than 1 in 100)</td>\n",
       "      <td>Low (0 to 9 in 1,000,000)</td>\n",
       "    </tr>\n",
       "    <tr>\n",
       "      <th>3</th>\n",
       "      <td>111014</td>\n",
       "      <td>0.000000</td>\n",
       "      <td>0.000000</td>\n",
       "      <td>30.244114</td>\n",
       "      <td>0.000000</td>\n",
       "      <td>0.00000</td>\n",
       "      <td>0.000000</td>\n",
       "      <td>0.000000</td>\n",
       "      <td>Low (0 to 1 in 1,000)</td>\n",
       "      <td>Low (0 to 9 in 1,000,000)</td>\n",
       "    </tr>\n",
       "    <tr>\n",
       "      <th>4</th>\n",
       "      <td>111015</td>\n",
       "      <td>16815.152185</td>\n",
       "      <td>7.560877</td>\n",
       "      <td>249994.816238</td>\n",
       "      <td>0.067262</td>\n",
       "      <td>0.00003</td>\n",
       "      <td>4.159506</td>\n",
       "      <td>1.332959</td>\n",
       "      <td>Extremely High (more than 1 in 100)</td>\n",
       "      <td>Low to medium (9 in 1,000,000 to 7 in 100,000)</td>\n",
       "    </tr>\n",
       "  </tbody>\n",
       "</table>\n",
       "</div>"
      ],
      "text/plain": [
       "   PFAF_ID  River_pop_impacted  Coast_pop_impacted      pop_total   RVR_raw  \\\n",
       "0   111011        33829.559052            0.000000  454804.931450  0.074383   \n",
       "1   111012            0.000000            0.000000      28.227839  0.000000   \n",
       "2   111013          188.250738            0.000000   11524.015199  0.016336   \n",
       "3   111014            0.000000            0.000000      30.244114  0.000000   \n",
       "4   111015        16815.152185            7.560877  249994.816238  0.067262   \n",
       "\n",
       "   CST_raw     RVR_s     CST_s                              RVR_cat  \\\n",
       "0  0.00000  4.180674  0.000000  Extremely High (more than 1 in 100)   \n",
       "1  0.00000  0.000000  0.000000                Low (0 to 1 in 1,000)   \n",
       "2  0.00000  4.008112  0.000000  Extremely High (more than 1 in 100)   \n",
       "3  0.00000  0.000000  0.000000                Low (0 to 1 in 1,000)   \n",
       "4  0.00003  4.159506  1.332959  Extremely High (more than 1 in 100)   \n",
       "\n",
       "                                          CST_cat  \n",
       "0                       Low (0 to 9 in 1,000,000)  \n",
       "1                       Low (0 to 9 in 1,000,000)  \n",
       "2                       Low (0 to 9 in 1,000,000)  \n",
       "3                       Low (0 to 9 in 1,000,000)  \n",
       "4  Low to medium (9 in 1,000,000 to 7 in 100,000)  "
      ]
     },
     "execution_count": 10,
     "metadata": {},
     "output_type": "execute_result"
    }
   ],
   "source": [
    "df.head()"
   ]
  },
  {
   "cell_type": "code",
   "execution_count": 11,
   "metadata": {
    "collapsed": true
   },
   "outputs": [],
   "source": [
    "# RVR -> RFR\n",
    "# CST -> CFR. \n",
    "\n",
    "# raw -> raw.\n",
    "# s -> score.\n",
    "# None -> cat.\n",
    "# cat -> label. "
   ]
  },
  {
   "cell_type": "code",
   "execution_count": 12,
   "metadata": {
    "collapsed": true
   },
   "outputs": [],
   "source": [
    "df_out = df.rename(columns={\"PFAF_ID\":\"pfaf_id\",\n",
    "                            \"RVR_raw\":\"rfr_raw\",\n",
    "                            \"CST_raw\":\"cfr_raw\",\n",
    "                            \"RVR_s\":\"rfr_score\",\n",
    "                            \"CST_s\":\"cfr_score\",\n",
    "                            \"RVR_cat\":\"rfr_label\",\n",
    "                            \"CST_cat\":\"cfr_label\"})"
   ]
  },
  {
   "cell_type": "code",
   "execution_count": 13,
   "metadata": {
    "collapsed": true
   },
   "outputs": [],
   "source": [
    "df_out.drop(columns=[\"River_pop_impacted\",\"Coast_pop_impacted\",\"pop_total\"],inplace=True)"
   ]
  },
  {
   "cell_type": "code",
   "execution_count": 14,
   "metadata": {
    "collapsed": true
   },
   "outputs": [],
   "source": [
    "def score_to_category(score):\n",
    "    if score != 5:\n",
    "        cat = int(np.floor(score))\n",
    "    else:\n",
    "        cat = 4\n",
    "    return cat"
   ]
  },
  {
   "cell_type": "code",
   "execution_count": 15,
   "metadata": {
    "collapsed": true
   },
   "outputs": [],
   "source": [
    "df_out[\"rfr_cat\"] = df_out[\"rfr_score\"].apply(score_to_category)\n",
    "df_out[\"cfr_cat\"] = df_out[\"cfr_score\"].apply(score_to_category)"
   ]
  },
  {
   "cell_type": "code",
   "execution_count": 16,
   "metadata": {
    "collapsed": true
   },
   "outputs": [],
   "source": [
    "df_out = df_out.reindex(sorted(df_out.columns), axis=1)"
   ]
  },
  {
   "cell_type": "code",
   "execution_count": 17,
   "metadata": {
    "collapsed": true
   },
   "outputs": [],
   "source": [
    "destination_table = \"{}.{}\".format(BQ_OUTPUT_DATASET_NAME,BQ_OUTPUT_TABLE_NAME)"
   ]
  },
  {
   "cell_type": "code",
   "execution_count": 18,
   "metadata": {},
   "outputs": [
    {
     "name": "stderr",
     "output_type": "stream",
     "text": [
      "2it [00:07,  3.96s/it]\n"
     ]
    }
   ],
   "source": [
    "df_out.to_gbq(destination_table=destination_table,\n",
    "          project_id=BQ_PROJECT_ID,\n",
    "          chunksize=10000,\n",
    "          if_exists=\"replace\")"
   ]
  },
  {
   "cell_type": "code",
   "execution_count": 19,
   "metadata": {},
   "outputs": [
    {
     "name": "stdout",
     "output_type": "stream",
     "text": [
      "0:00:23.705739\n"
     ]
    }
   ],
   "source": [
    "end = datetime.datetime.now()\n",
    "elapsed = end - start\n",
    "print(elapsed)"
   ]
  },
  {
   "cell_type": "markdown",
   "metadata": {},
   "source": [
    "Previous runs:  \n",
    "0:00:18.766466\n"
   ]
  }
 ],
 "metadata": {
  "kernelspec": {
   "display_name": "Python 35",
   "language": "python",
   "name": "python35"
  },
  "language_info": {
   "codemirror_mode": {
    "name": "ipython",
    "version": 3
   },
   "file_extension": ".py",
   "mimetype": "text/x-python",
   "name": "python",
   "nbconvert_exporter": "python",
   "pygments_lexer": "ipython3",
   "version": "3.5.4"
  }
 },
 "nbformat": 4,
 "nbformat_minor": 2
}
