{
 "cells": [
  {
   "cell_type": "markdown",
   "metadata": {},
   "source": [
    "# Y2018M03D24_RH_Moving_Average_Demand_To_GCS_V01\n",
    "\n",
    "* Purpose of script: store moving average results for demand in a CSV file in GCS.\n",
    "\n",
    "* Script exports to: \n",
    "* Kernel used: python35\n",
    "* Date created: 20180324\n",
    "\n",
    "\n"
   ]
  },
  {
   "cell_type": "code",
   "execution_count": 2,
   "metadata": {},
   "outputs": [
    {
     "name": "stdout",
     "output_type": "stream",
     "text": [
      "Y2018M03D24 UTC 10:49\n"
     ]
    },
    {
     "data": {
      "text/plain": [
       "'3.5.4 |Continuum Analytics, Inc.| (default, Aug 14 2017, 13:26:58) \\n[GCC 4.4.7 20120313 (Red Hat 4.4.7-1)]'"
      ]
     },
     "execution_count": 2,
     "metadata": {},
     "output_type": "execute_result"
    }
   ],
   "source": [
    "import time, datetime, sys\n",
    "dateString = time.strftime(\"Y%YM%mD%d\")\n",
    "timeString = time.strftime(\"UTC %H:%M\")\n",
    "start = datetime.datetime.now()\n",
    "print(dateString,timeString)\n",
    "sys.version"
   ]
  },
  {
   "cell_type": "code",
   "execution_count": 66,
   "metadata": {
    "collapsed": true
   },
   "outputs": [],
   "source": [
    "SCRIPT_NAME = \"Y2018M03D24_RH_Moving_Average_Demand_To_GCS_V01\"\n",
    "\n",
    "INPUT_VERSION = 3\n",
    "\n",
    "OUTPUT_VERSION = 1\n",
    "\n",
    "GCS_OUTPUT_PATH = \"{}/outputV{:02.0f}/\".format(SCRIPT_NAME,OUTPUT_VERSION)\n",
    "GCS_BUCKET = \"aqueduct30_v01\""
   ]
  },
  {
   "cell_type": "code",
   "execution_count": 29,
   "metadata": {
    "collapsed": true
   },
   "outputs": [],
   "source": [
    "import ee\n",
    "import pandas as pd"
   ]
  },
  {
   "cell_type": "code",
   "execution_count": 5,
   "metadata": {
    "collapsed": true
   },
   "outputs": [],
   "source": [
    "ee.Initialize()"
   ]
  },
  {
   "cell_type": "code",
   "execution_count": 68,
   "metadata": {},
   "outputs": [],
   "source": [
    "# Functions\n",
    "\n",
    "def ensure_default_properties(obj):\n",
    "    \"\"\" Sets the properties mean, count and sum for an object\n",
    "    \n",
    "    if a reduceRegion operation returns no values in earth engine\n",
    "    one cannot join the result list with a list of the zones without\n",
    "    setting a  nodata (-9999) value first\n",
    "    \n",
    "    Args:\n",
    "        obj (ee.Dictionary) : earth engine object.\n",
    "    \n",
    "    Returns\n",
    "        obj (ee.Dictionary) : dictionary with mean, count and sum \n",
    "                              set to -9999.    \n",
    "    \n",
    "    \"\"\"\n",
    "    obj = ee.Dictionary(obj)\n",
    "    default_properties = ee.Dictionary({\"mean\": -9999,\"count\": -9999,\"sum\":-9999})\n",
    "    return default_properties.combine(obj)\n",
    "\n",
    "def mapList(results, key):\n",
    "    \"\"\" filter results by key\n",
    "    server side function.\n",
    "    \n",
    "    Args:\n",
    "        results (ee.List) : list of result dictionaries.\n",
    "        key (string) : key name.\n",
    "    \n",
    "    Returns:\n",
    "        newResult (ee.List) : List of values\n",
    "    \n",
    "    \n",
    "    \"\"\"\n",
    "    newResult = results.map(lambda x: ee.Dictionary(x).get(key))\n",
    "    return newResult\n",
    "\n",
    "\n",
    "def dict_to_feature(d):\n",
    "    \"\"\" Convert a dictionary to an earth engine feature\n",
    "    server side\n",
    "    \n",
    "    Args:\n",
    "        d (ee.Dictionary) : server side dictionary\n",
    "    Returns\n",
    "        f (ee.Feature) : server side earth engine feature    \n",
    "    \"\"\"\n",
    "    f = ee.Feature(None,ee.Dictionary(d))\n",
    "    return f\n",
    "    \n",
    "    \n",
    "\n",
    "\n",
    "def zonalStatsToRaster(image,zonesImage,geometry,maxPixels,reducerType):\n",
    "    \"\"\" Zonal statistics with rasters as input and rasters and lists as output\n",
    "    \n",
    "    Args:\n",
    "        image (ee.Image) : image with value. Make sure the dimensions and units are \n",
    "                           compatible with the zones image.\n",
    "        zonesImage (ee.Image) : image with zones stores as unique integers. Dimensions\n",
    "                                must match image argument.\n",
    "        geometry (ee.Geometry) : geometry specifying the extent of the calculation.\n",
    "        maxPixels (integer) : Maximum number of pixels in calculation. Defaults to 1e10.\n",
    "        reducerType (string) : reducer type. Options include mean max sum first and mode.\n",
    "        \n",
    "    Returns:\n",
    "        newImage (ee.Image) : Image with zones, count and values as bands\n",
    "        zoneList (ee.List) : list with zones\n",
    "        countList : (ee.List) : list with counts per zone\n",
    "        valueList : (ee.List) : list with values per zone       \n",
    "    \n",
    "    \n",
    "    \"\"\"\n",
    "    # reducertype can be mean, max, sum, first. Count is always included for QA\n",
    "    # the resolution of the zonesimage is used for scale\n",
    "\n",
    "    reducer = ee.Algorithms.If(ee.Algorithms.IsEqual(reducerType,\"mean\"),ee.Reducer.mean(),\n",
    "    ee.Algorithms.If(ee.Algorithms.IsEqual(reducerType,\"max\"),ee.Reducer.max(),\n",
    "    ee.Algorithms.If(ee.Algorithms.IsEqual(reducerType,\"sum\"),ee.Reducer.sum(),\n",
    "    ee.Algorithms.If(ee.Algorithms.IsEqual(reducerType,\"first\"),ee.Reducer.first(),\n",
    "    ee.Algorithms.If(ee.Algorithms.IsEqual(reducerType,\"mode\"),ee.Reducer.mode(),\"error\"))))\n",
    "    )\n",
    "    reducer = ee.Reducer(reducer).combine(reducer2= ee.Reducer.count(), sharedInputs= True).group(groupField=1, groupName=\"zones\") \n",
    "\n",
    "    scale = zonesImage.projection().nominalScale().getInfo()\n",
    "    zonesImage = zonesImage.select(zonesImage.bandNames(),[\"zones\"])\n",
    "\n",
    "    totalImage = ee.Image(image).addBands(zonesImage)\n",
    "    resultsList = ee.List(totalImage.reduceRegion(\n",
    "        geometry= geometry, \n",
    "        reducer= reducer,\n",
    "        scale= scale,\n",
    "        maxPixels=maxPixels\n",
    "        ).get(\"groups\"))\n",
    "\n",
    "    resultsList = resultsList.map(ensure_default_properties); \n",
    "    zoneList = mapList(resultsList, 'zones');\n",
    "    countList = mapList(resultsList, 'count');\n",
    "    valueList = mapList(resultsList, reducerType);\n",
    "\n",
    "    valueImage = zonesImage.remap(zoneList, valueList).select([\"remapped\"],[reducerType])\n",
    "    countImage = zonesImage.remap(zoneList, countList).select([\"remapped\"],[\"count\"])\n",
    "    newImage = zonesImage.addBands(countImage).addBands(valueImage)\n",
    "    return newImage,zoneList,valueList,countList\n",
    "\n",
    "\n",
    "def zonalStatsToFeatureCollection(image,zonesImage,geometry,maxPixels,reducerType):\n",
    "    \"\"\" Zonal statistics with rasters as input and rasters and lists as output\n",
    "    \n",
    "    Args:\n",
    "        image (ee.Image) : image with value. Make sure the dimensions and units are \n",
    "                           compatible with the zones image.\n",
    "        zonesImage (ee.Image) : image with zones stores as unique integers. Dimensions\n",
    "                                must match image argument.\n",
    "        geometry (ee.Geometry) : geometry specifying the extent of the calculation.\n",
    "        maxPixels (integer) : Maximum number of pixels in calculation. Defaults to 1e10.\n",
    "        reducerType (string) : reducer type. Options include mean max sum first and mode.\n",
    "        \n",
    "    Returns:\n",
    "        resultList (ee.List) : List of dictionaries     \n",
    "    \n",
    "    \n",
    "    \"\"\"\n",
    "    # reducertype can be mean, max, sum, first. Count is always included for QA\n",
    "    # the resolution of the zonesimage is used for scale\n",
    "\n",
    "    reducer = ee.Algorithms.If(ee.Algorithms.IsEqual(reducerType,\"mean\"),ee.Reducer.mean(),\n",
    "    ee.Algorithms.If(ee.Algorithms.IsEqual(reducerType,\"max\"),ee.Reducer.max(),\n",
    "    ee.Algorithms.If(ee.Algorithms.IsEqual(reducerType,\"sum\"),ee.Reducer.sum(),\n",
    "    ee.Algorithms.If(ee.Algorithms.IsEqual(reducerType,\"first\"),ee.Reducer.first(),\n",
    "    ee.Algorithms.If(ee.Algorithms.IsEqual(reducerType,\"mode\"),ee.Reducer.mode(),\"error\"))))\n",
    "    )\n",
    "    reducer = ee.Reducer(reducer).combine(reducer2= ee.Reducer.count(), sharedInputs= True).group(groupField=1, groupName=\"zones\") \n",
    "\n",
    "    scale = zonesImage.projection().nominalScale().getInfo()\n",
    "    zonesImage = zonesImage.select(zonesImage.bandNames(),[\"zones\"])\n",
    "\n",
    "    totalImage = ee.Image(image).addBands(zonesImage)\n",
    "    resultsList = ee.List(totalImage.reduceRegion(\n",
    "        geometry= geometry, \n",
    "        reducer= reducer,\n",
    "        scale= scale,\n",
    "        maxPixels=maxPixels\n",
    "        ).get(\"groups\"))\n",
    "\n",
    "    resultsList = resultsList.map(ensure_default_properties); \n",
    "    fc = ee.FeatureCollection(resultList.map(dict_to_feature))\n",
    "\n",
    "    return fc\n",
    "\n",
    "\n",
    "def export_asset(fc):\n",
    "    \"\"\" Export a google earth engine featureCollection to an asset folder\n",
    "    \n",
    "    function will start a new task. To view the status of the task\n",
    "    check the javascript API or query tasks script. Function is used \n",
    "    as mapped function so other arguments need to be set globally. \n",
    "    \n",
    "    Args:\n",
    "        fc (ee.FeatureCollection) : featureCollection to export\n",
    "        \n",
    "    Returns:\n",
    "           \n",
    "    \"\"\"\n",
    "    \n",
    "    task = ee.batch.Export.table.toCloudStorage(\n",
    "        collection =  ee.FeatureCollection(fc),\n",
    "        description = \"test_description\",\n",
    "        bucket = GCS_BUCKET,\n",
    "        fileNamePrefix = GCS_OUTPUT_PATH  + \"fileName\",\n",
    "        fileFormat = \"CSV\"\n",
    "    )\n",
    "    task.start()\n",
    "\n"
   ]
  },
  {
   "cell_type": "code",
   "execution_count": 11,
   "metadata": {
    "collapsed": true
   },
   "outputs": [],
   "source": [
    "temp_image = ee.Image(\"projects/WRI-Aquaduct/PCRGlobWB20V07/area_30spfaf06_m2_V01V01\")"
   ]
  },
  {
   "cell_type": "code",
   "execution_count": 12,
   "metadata": {},
   "outputs": [],
   "source": [
    "area_30spfaf06_m2 = temp_image.select([\"sum\"])"
   ]
  },
  {
   "cell_type": "code",
   "execution_count": 13,
   "metadata": {
    "collapsed": true
   },
   "outputs": [],
   "source": [
    "zones_30spfaf06 = temp_image.select([\"zones\"])"
   ]
  },
  {
   "cell_type": "code",
   "execution_count": 21,
   "metadata": {
    "collapsed": true
   },
   "outputs": [],
   "source": [
    "geometry = ee.Geometry.Polygon(coords=[[-180.0, -90.0], [180,  -90.0], [180, 90], [-180,90]], proj= ee.Projection('EPSG:4326'),geodesic=False )"
   ]
  },
  {
   "cell_type": "code",
   "execution_count": 15,
   "metadata": {},
   "outputs": [],
   "source": [
    "ic_WN = ee.ImageCollection(\"projects/WRI-Aquaduct/PCRGlobWB20V07/global_historical_PTotWN_month_m_pfaf06_1960_2014_movingaverage_10y_V{:02.0f}\".format(INPUT_VERSION))"
   ]
  },
  {
   "cell_type": "code",
   "execution_count": 17,
   "metadata": {
    "collapsed": true
   },
   "outputs": [],
   "source": [
    "test_image = ee.Image(ic_WN.first())"
   ]
  },
  {
   "cell_type": "code",
   "execution_count": 24,
   "metadata": {},
   "outputs": [],
   "source": [
    "newImage,zoneList,valueList,countList = zonalStatsToRaster(test_image,zones_30spfaf06,geometry,1e10,\"mode\")"
   ]
  },
  {
   "cell_type": "code",
   "execution_count": 54,
   "metadata": {
    "collapsed": true
   },
   "outputs": [],
   "source": [
    "fc = zonalStatsToFeatureCollection(test_image,zones_30spfaf06,geometry,1e10,\"mode\")"
   ]
  },
  {
   "cell_type": "code",
   "execution_count": 69,
   "metadata": {},
   "outputs": [],
   "source": [
    "export_asset(fc)"
   ]
  },
  {
   "cell_type": "code",
   "execution_count": null,
   "metadata": {
    "collapsed": true
   },
   "outputs": [],
   "source": []
  }
 ],
 "metadata": {
  "kernelspec": {
   "display_name": "Python 35",
   "language": "python",
   "name": "python35"
  },
  "language_info": {
   "codemirror_mode": {
    "name": "ipython",
    "version": 3
   },
   "file_extension": ".py",
   "mimetype": "text/x-python",
   "name": "python",
   "nbconvert_exporter": "python",
   "pygments_lexer": "ipython3",
   "version": "3.5.4"
  }
 },
 "nbformat": 4,
 "nbformat_minor": 2
}
