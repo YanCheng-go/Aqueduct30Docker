{
 "cells": [
  {
   "cell_type": "code",
   "execution_count": 1,
   "metadata": {},
   "outputs": [
    {
     "name": "stdout",
     "output_type": "stream",
     "text": [
      "Input Table:  y2018m07d30_rh_merge_subbasins_deltas_v01_v03 \n",
      "Output Table:  y2018m07d30_rh_coalesce_columns_v01_v07\n"
     ]
    }
   ],
   "source": [
    "\"\"\" Use first valid of delta or subbasin column. \n",
    "-------------------------------------------------------------------------------\n",
    "\n",
    "Author: Rutger Hofste\n",
    "Date: 20180730\n",
    "Kernel: python35\n",
    "Docker: rutgerhofste/gisdocker:ubuntu16.04\n",
    "\n",
    "Args:\n",
    "    TESTING (Boolean) : Toggle testing case.\n",
    "    SCRIPT_NAME (string) : Script name.\n",
    "    OUTPUT_VERSION (integer) : output version.\n",
    "    DATABASE_ENDPOINT (string) : RDS or postGreSQL endpoint.\n",
    "    DATABASE_NAME (string) : Database name.\n",
    "    TABLE_NAME_AREA_30SPFAF06 (string) : Table name used for areas. Must exist\n",
    "        on same database as used in rest of script.\n",
    "    S3_INPUT_PATH_RIVERDISCHARGE (string) : AWS S3 input path for \n",
    "        riverdischarge.    \n",
    "    S3_INPUT_PATH_DEMAND (string) : AWS S3 input path for \n",
    "        demand.  \n",
    "\"\"\"\n",
    "\n",
    "TESTING = 0\n",
    "OVERWRITE_OUTPUT = 1\n",
    "SCRIPT_NAME = 'Y2018M07D30_RH_Coalesce_Columns_V01'\n",
    "OUTPUT_VERSION = 7\n",
    "\n",
    "DATABASE_ENDPOINT = \"aqueduct30v05.cgpnumwmfcqc.eu-central-1.rds.amazonaws.com\"\n",
    "DATABASE_NAME = \"database01\"\n",
    "\n",
    "INPUT_TABLE_NAME = \"y2018m07d30_rh_merge_subbasins_deltas_v01_v03\"\n",
    "OUTPUT_TABLE_NAME = SCRIPT_NAME.lower() + \"_v{:02.0f}\".format(OUTPUT_VERSION)\n",
    "\n",
    "print(\"Input Table: \" , INPUT_TABLE_NAME,\n",
    "      \"\\nOutput Table: \" , OUTPUT_TABLE_NAME)"
   ]
  },
  {
   "cell_type": "code",
   "execution_count": 2,
   "metadata": {},
   "outputs": [
    {
     "name": "stdout",
     "output_type": "stream",
     "text": [
      "Y2018M08D23 UTC 15:30\n"
     ]
    },
    {
     "data": {
      "text/plain": [
       "'3.5.4 |Anaconda, Inc.| (default, Nov 20 2017, 18:44:38) \\n[GCC 7.2.0]'"
      ]
     },
     "execution_count": 2,
     "metadata": {},
     "output_type": "execute_result"
    }
   ],
   "source": [
    "import time, datetime, sys\n",
    "dateString = time.strftime(\"Y%YM%mD%d\")\n",
    "timeString = time.strftime(\"UTC %H:%M\")\n",
    "start = datetime.datetime.now()\n",
    "print(dateString,timeString)\n",
    "sys.version"
   ]
  },
  {
   "cell_type": "code",
   "execution_count": 3,
   "metadata": {
    "collapsed": true
   },
   "outputs": [],
   "source": [
    "# imports\n",
    "import re\n",
    "import os\n",
    "import numpy as np\n",
    "import pandas as pd\n",
    "from datetime import timedelta\n",
    "from sqlalchemy import *\n",
    "pd.set_option('display.max_columns', 500)"
   ]
  },
  {
   "cell_type": "code",
   "execution_count": 4,
   "metadata": {},
   "outputs": [
    {
     "name": "stdout",
     "output_type": "stream",
     "text": [
      "DROP TABLE IF EXISTS y2018m07d30_rh_coalesce_columns_v01_v07;\n"
     ]
    }
   ],
   "source": [
    "F = open(\"/.password\",\"r\")\n",
    "password = F.read().splitlines()[0]\n",
    "F.close()\n",
    "\n",
    "engine = create_engine(\"postgresql://rutgerhofste:{}@{}:5432/{}\".format(password,DATABASE_ENDPOINT,DATABASE_NAME))\n",
    "#connection = engine.connect()\n",
    "\n",
    "if OVERWRITE_OUTPUT:\n",
    "    sql = \"DROP TABLE IF EXISTS {};\".format(OUTPUT_TABLE_NAME)\n",
    "    print(sql)\n",
    "    result = engine.execute(sql)"
   ]
  },
  {
   "cell_type": "code",
   "execution_count": 5,
   "metadata": {
    "collapsed": true
   },
   "outputs": [],
   "source": [
    "columns_of_interest = [\"riverdischarge_m_30spfaf06\",\n",
    "                       \"waterstress_raw_dimensionless_30spfaf06\",\n",
    "                       \"waterstress_score_dimensionless_30spfaf06\",\n",
    "                       \"waterstress_category_dimensionless_30spfaf06\",\n",
    "                       \"waterstress_label_dimensionless_30spfaf06\",\n",
    "                       \"waterdepletion_raw_dimensionless_30spfaf06\",\n",
    "                       \"waterdepletion_score_dimensionless_30spfaf06\",\n",
    "                       \"waterdepletion_category_dimensionless_30spfaf06\",\n",
    "                       \"waterdepletion_label_dimensionless_30spfaf06\"]"
   ]
  },
  {
   "cell_type": "code",
   "execution_count": 6,
   "metadata": {},
   "outputs": [
    {
     "name": "stdout",
     "output_type": "stream",
     "text": [
      "riverdischarge_m_coalesced\n",
      "waterstress_raw_dimensionless_coalesced\n",
      "waterstress_score_dimensionless_coalesced\n",
      "waterstress_category_dimensionless_coalesced\n",
      "waterstress_label_dimensionless_coalesced\n",
      "waterdepletion_raw_dimensionless_coalesced\n",
      "waterdepletion_score_dimensionless_coalesced\n",
      "waterdepletion_category_dimensionless_coalesced\n",
      "waterdepletion_label_dimensionless_coalesced\n"
     ]
    }
   ],
   "source": [
    "sql =  \"CREATE TABLE {} AS\".format(OUTPUT_TABLE_NAME)\n",
    "sql += \" SELECT *,\"\n",
    "for column_of_interest in columns_of_interest:\n",
    "    subbasin_column = column_of_interest\n",
    "    delta_column = column_of_interest.replace(\"30spfaf06\",\"delta\")\n",
    "    final_column = column_of_interest.replace(\"30spfaf06\",\"coalesced\")\n",
    "    print(final_column)\n",
    "    sql += \" CASE WHEN delta_id >= 0 THEN {}  ELSE {}\".format(delta_column,subbasin_column)\n",
    "    sql += \" END AS {},\".format(final_column)\n",
    "    \n",
    "sql = sql[:-1]   \n",
    "sql += \" FROM {}\".format(INPUT_TABLE_NAME)\n",
    "\n",
    "if TESTING:\n",
    "    sql += \" ORDER BY waterstress_label_dimensionless_coalesced\"\n",
    "    sql += \" LIMIT 10\""
   ]
  },
  {
   "cell_type": "code",
   "execution_count": 7,
   "metadata": {},
   "outputs": [
    {
     "data": {
      "text/plain": [
       "'CREATE TABLE y2018m07d30_rh_coalesce_columns_v01_v07 AS SELECT *, CASE WHEN delta_id >= 0 THEN riverdischarge_m_delta  ELSE riverdischarge_m_30spfaf06 END AS riverdischarge_m_coalesced, CASE WHEN delta_id >= 0 THEN waterstress_raw_dimensionless_delta  ELSE waterstress_raw_dimensionless_30spfaf06 END AS waterstress_raw_dimensionless_coalesced, CASE WHEN delta_id >= 0 THEN waterstress_score_dimensionless_delta  ELSE waterstress_score_dimensionless_30spfaf06 END AS waterstress_score_dimensionless_coalesced, CASE WHEN delta_id >= 0 THEN waterstress_category_dimensionless_delta  ELSE waterstress_category_dimensionless_30spfaf06 END AS waterstress_category_dimensionless_coalesced, CASE WHEN delta_id >= 0 THEN waterstress_label_dimensionless_delta  ELSE waterstress_label_dimensionless_30spfaf06 END AS waterstress_label_dimensionless_coalesced, CASE WHEN delta_id >= 0 THEN waterdepletion_raw_dimensionless_delta  ELSE waterdepletion_raw_dimensionless_30spfaf06 END AS waterdepletion_raw_dimensionless_coalesced, CASE WHEN delta_id >= 0 THEN waterdepletion_score_dimensionless_delta  ELSE waterdepletion_score_dimensionless_30spfaf06 END AS waterdepletion_score_dimensionless_coalesced, CASE WHEN delta_id >= 0 THEN waterdepletion_category_dimensionless_delta  ELSE waterdepletion_category_dimensionless_30spfaf06 END AS waterdepletion_category_dimensionless_coalesced, CASE WHEN delta_id >= 0 THEN waterdepletion_label_dimensionless_delta  ELSE waterdepletion_label_dimensionless_30spfaf06 END AS waterdepletion_label_dimensionless_coalesced FROM y2018m07d30_rh_merge_subbasins_deltas_v01_v03'"
      ]
     },
     "execution_count": 7,
     "metadata": {},
     "output_type": "execute_result"
    }
   ],
   "source": [
    "sql"
   ]
  },
  {
   "cell_type": "code",
   "execution_count": 8,
   "metadata": {
    "collapsed": true
   },
   "outputs": [],
   "source": [
    "result = engine.execute(sql)"
   ]
  },
  {
   "cell_type": "code",
   "execution_count": 9,
   "metadata": {
    "collapsed": true
   },
   "outputs": [],
   "source": [
    "sql_index = \"CREATE INDEX {}pfafid_30spfaf06 ON {} ({})\".format(OUTPUT_TABLE_NAME,OUTPUT_TABLE_NAME,\"pfafid_30spfaf06\")"
   ]
  },
  {
   "cell_type": "code",
   "execution_count": 10,
   "metadata": {
    "collapsed": true
   },
   "outputs": [],
   "source": [
    "result = engine.execute(sql_index)"
   ]
  },
  {
   "cell_type": "code",
   "execution_count": 11,
   "metadata": {
    "collapsed": true
   },
   "outputs": [],
   "source": [
    "# update delta_id columns so bigquery will auto-detect as integer/float"
   ]
  },
  {
   "cell_type": "code",
   "execution_count": 12,
   "metadata": {
    "collapsed": true
   },
   "outputs": [],
   "source": [
    "engine.dispose()"
   ]
  },
  {
   "cell_type": "code",
   "execution_count": 13,
   "metadata": {},
   "outputs": [
    {
     "name": "stdout",
     "output_type": "stream",
     "text": [
      "0:18:01.821296\n"
     ]
    }
   ],
   "source": [
    "end = datetime.datetime.now()\n",
    "elapsed = end - start\n",
    "print(elapsed)"
   ]
  },
  {
   "cell_type": "markdown",
   "metadata": {},
   "source": [
    "Previous runs:  \n",
    "0:13:48.316626  \n",
    "0:18:03.935109  \n",
    "0:13:57.855760  \n",
    "0:14:04.354594  \n",
    "0:18:01.821296\n"
   ]
  },
  {
   "cell_type": "code",
   "execution_count": null,
   "metadata": {
    "collapsed": true
   },
   "outputs": [],
   "source": []
  }
 ],
 "metadata": {
  "kernelspec": {
   "display_name": "Python 35",
   "language": "python",
   "name": "python35"
  },
  "language_info": {
   "codemirror_mode": {
    "name": "ipython",
    "version": 3
   },
   "file_extension": ".py",
   "mimetype": "text/x-python",
   "name": "python",
   "nbconvert_exporter": "python",
   "pygments_lexer": "ipython3",
   "version": "3.5.4"
  }
 },
 "nbformat": 4,
 "nbformat_minor": 2
}
