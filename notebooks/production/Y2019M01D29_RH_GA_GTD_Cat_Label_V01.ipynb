{
 "cells": [
  {
   "cell_type": "code",
   "execution_count": 1,
   "metadata": {},
   "outputs": [
    {
     "data": {
      "text/plain": [
       "' Add category and label for groundwater stress and trend at state level.\\n-------------------------------------------------------------------------------\\n\\nAdd category and label to groundwater stress data. State level data. \\nAquifer level data was calculated in another script:\\nY2018M09D03_RH_GWS_Cat_Label_V01\\n\\nGroundwater Stress Categories:\\n\\n<1 Low\\n1-5 Low - Medium\\n5-10 Medium - High\\n10-20 High\\n> 20 Extremely High\\n\\nLinear interpolation groundwater stress\\n\\nif x<1\\n    y = max(x,0)\\nelif 1 < x < 5\\n    y = (1/4)x + 3/4\\nelif 5 < x < 10\\n    y = 1/5 x + 1\\nelif 10 < x < 20 \\n    y = 1/10x + 2\\nelif x > 20\\n    y = min(x,5)\\n\\n\\nGroundwater Table Declining Trends Categories:\\nunit = cm/year\\n\\n- 9999 NoData\\n- 9998 Insignificant trend\\n< 0 No Depletion\\n0 - 2 Low Depletion\\n2 - 8 Moderate Depletion\\n>8 High Depletion\\n\\nhowever we need a 5 score category so. Names of categories TBD.\\n\\n-1 -0 Low Depletion Risk -> No Depletion\\n0 - 2 Low-Medium Depletion Risk -> Moderate Depletion\\n2 - 4 Medium-High Depletion Risk - > Moderate Depletion\\n4 - 8 High Depletion Risk -> Moderate Depletion\\n>8 Extremely High Depletion Risk -> Extremely High Depletion\\n\\nif x<0\\n    y = max(0,x+1)\\nelif 0 < x < 2\\n    y = (1/2)x + 1\\nelif 2 < x < 4\\n    y = (1/2) x + 1\\nelif 4 < x < 8 \\n    y = (1/4)x + 2\\nelif x > 8\\n    y = min((1/4)x + 2,5)\\n\\n\\nAuthor: Rutger Hofste\\nDate: 20190129\\nKernel: python35\\nDocker: rutgerhofste/gisdocker:ubuntu16.04\\n\\nArgs:\\n\\n    SCRIPT_NAME (string) : Script name\\n    INPUT_VERSION (integer) : input version, see readme and output number\\n                              of previous script.\\n    OUTPUT_VERSION (integer) : output version for ec2 and s3.\\n    \\n    \\nReturns:\\n\\nResult:\\n    Table on Google Bigquery.\\n\\n'"
      ]
     },
     "execution_count": 1,
     "metadata": {},
     "output_type": "execute_result"
    }
   ],
   "source": [
    "\"\"\" Add category and label for groundwater stress and trend at state level.\n",
    "-------------------------------------------------------------------------------\n",
    "\n",
    "Add category and label to groundwater stress data. State level data. \n",
    "Aquifer level data was calculated in another script:\n",
    "Y2018M09D03_RH_GWS_Cat_Label_V01\n",
    "\n",
    "Groundwater Stress Categories:\n",
    "\n",
    "<1 Low\n",
    "1-5 Low - Medium\n",
    "5-10 Medium - High\n",
    "10-20 High\n",
    "> 20 Extremely High\n",
    "\n",
    "Linear interpolation groundwater stress\n",
    "\n",
    "if x<1\n",
    "    y = max(x,0)\n",
    "elif 1 < x < 5\n",
    "    y = (1/4)x + 3/4\n",
    "elif 5 < x < 10\n",
    "    y = 1/5 x + 1\n",
    "elif 10 < x < 20 \n",
    "    y = 1/10x + 2\n",
    "elif x > 20\n",
    "    y = min(x,5)\n",
    "\n",
    "\n",
    "Groundwater Table Declining Trends Categories:\n",
    "unit = cm/year\n",
    "\n",
    "- 9999 NoData\n",
    "- 9998 Insignificant trend\n",
    "< 0 No Depletion\n",
    "0 - 2 Low Depletion\n",
    "2 - 8 Moderate Depletion\n",
    ">8 High Depletion\n",
    "\n",
    "however we need a 5 score category so. Names of categories TBD.\n",
    "\n",
    "-1 -0 Low Depletion Risk -> No Depletion\n",
    "0 - 2 Low-Medium Depletion Risk -> Moderate Depletion\n",
    "2 - 4 Medium-High Depletion Risk - > Moderate Depletion\n",
    "4 - 8 High Depletion Risk -> Moderate Depletion\n",
    ">8 Extremely High Depletion Risk -> Extremely High Depletion\n",
    "\n",
    "if x<0\n",
    "    y = max(0,x+1)\n",
    "elif 0 < x < 2\n",
    "    y = (1/2)x + 1\n",
    "elif 2 < x < 4\n",
    "    y = (1/2) x + 1\n",
    "elif 4 < x < 8 \n",
    "    y = (1/4)x + 2\n",
    "elif x > 8\n",
    "    y = min((1/4)x + 2,5)\n",
    "\n",
    "\n",
    "Author: Rutger Hofste\n",
    "Date: 20190129\n",
    "Kernel: python35\n",
    "Docker: rutgerhofste/gisdocker:ubuntu16.04\n",
    "\n",
    "Args:\n",
    "\n",
    "    SCRIPT_NAME (string) : Script name\n",
    "    INPUT_VERSION (integer) : input version, see readme and output number\n",
    "                              of previous script.\n",
    "    OUTPUT_VERSION (integer) : output version for ec2 and s3.\n",
    "    \n",
    "    \n",
    "Returns:\n",
    "\n",
    "Result:\n",
    "    Table on Google Bigquery.\n",
    "\n",
    "\"\"\"\n",
    "\n",
    "SCRIPT_NAME = \"Y2019M01D29_RH_GA_GTD_Cat_Label_V01\"\n",
    "OUTPUT_VERSION = 1\n",
    "\n",
    "BQ_PROJECT_ID = \"aqueduct30\"\n",
    "BQ_OUTPUT_DATASET_NAME = \"aqueduct30v01\"\n",
    "BQ_INPUT_TABLE_NAME = \"y2018m09d03_rh_gws_tables_to_bq_v01_v01_state_table_sorted\"\n",
    "BQ_OUTPUT_TABLE_NAME = \"{}_v{:02.0f}\".format(SCRIPT_NAME,OUTPUT_VERSION).lower()\n",
    "\n",
    "print(\"BQ_OUTPUT_DATASET_NAME: \", BQ_OUTPUT_DATASET_NAME,\n",
    "      \"\\nBQ_INPUT_TABLE_NAME: \",BQ_INPUT_TABLE_NAME,\n",
    "      \"\\nBQ_OUTPUT_TABLE_NAME: \",BQ_OUTPUT_TABLE_NAME\n",
    "      )\n"
   ]
  },
  {
   "cell_type": "code",
   "execution_count": null,
   "metadata": {
    "collapsed": true
   },
   "outputs": [],
   "source": []
  }
 ],
 "metadata": {
  "kernelspec": {
   "display_name": "Python 35",
   "language": "python",
   "name": "python35"
  },
  "language_info": {
   "codemirror_mode": {
    "name": "ipython",
    "version": 3
   },
   "file_extension": ".py",
   "mimetype": "text/x-python",
   "name": "python",
   "nbconvert_exporter": "python",
   "pygments_lexer": "ipython3",
   "version": "3.5.4"
  }
 },
 "nbformat": 4,
 "nbformat_minor": 2
}
