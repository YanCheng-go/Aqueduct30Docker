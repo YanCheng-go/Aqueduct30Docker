{
 "cells": [
  {
   "cell_type": "code",
   "execution_count": 1,
   "metadata": {},
   "outputs": [
    {
     "name": "stdout",
     "output_type": "stream",
     "text": [
      "\n",
      "Input ec2: /volumes/data/Y2018M10D01_RH_ICEP_Basins_PostGIS_V01/input_V02 \n",
      "Input s3 : s3://wri-projects/Aqueduct30/finalData/ICEP \n",
      "Output postGIS table : y2018m10d01_rh_icep_basins_postgis_v01_v02\n"
     ]
    }
   ],
   "source": [
    "\"\"\" Store ICEP data in PostGIS Database.\n",
    "-------------------------------------------------------------------------------\n",
    "\n",
    "Author: Rutger Hofste\n",
    "Date: 20181001\n",
    "Kernel: python35\n",
    "Docker: rutgerhofste/gisdocker:ubuntu16.04\n",
    "\n",
    "Args:\n",
    "    TESTING (Boolean) : Toggle testing case.\n",
    "    SCRIPT_NAME (string) : Script name.\n",
    "    OUTPUT_VERSION (integer) : output version.\n",
    "    DATABASE_ENDPOINT (string) : RDS or postGreSQL endpoint.\n",
    "    DATABASE_NAME (string) : Database name.\n",
    "    TABLE_NAME_AREA_30SPFAF06 (string) : Table name used for areas. Must exist\n",
    "        on same database as used in rest of script.\n",
    "    S3_INPUT_PATH_RIVERDISCHARGE (string) : AWS S3 input path for \n",
    "        riverdischarge.    \n",
    "    S3_INPUT_PATH_DEMAND (string) : AWS S3 input path for \n",
    "        demand.     \n",
    "\n",
    "\"\"\"\n",
    "OVERWRITE_OUTPUT = 1\n",
    "\n",
    "SCRIPT_NAME = \"Y2018M10D01_RH_ICEP_Basins_PostGIS_V01\"\n",
    "OUTPUT_VERSION = 2\n",
    "\n",
    "S3_INPUT_PATH = \"s3://wri-projects/Aqueduct30/finalData/ICEP\"\n",
    "\n",
    "OUTPUT_TABLE_NAME = \"{}_v{:02.0f}\".format(SCRIPT_NAME,OUTPUT_VERSION).lower()\n",
    "\n",
    "# Database settings\n",
    "DATABASE_ENDPOINT = \"aqueduct30v05.cgpnumwmfcqc.eu-central-1.rds.amazonaws.com\"\n",
    "DATABASE_NAME = \"database01\"\n",
    "\n",
    "ec2_input_path = \"/volumes/data/{}/input_V{:02.0f}\".format(SCRIPT_NAME,OUTPUT_VERSION)\n",
    "ec2_output_path = \"/volumes/data/{}/output_V{:02.0f}\".format(SCRIPT_NAME,OUTPUT_VERSION)\n",
    "\n",
    "\n",
    "print(\"\\nInput ec2: \" + ec2_input_path,\n",
    "      \"\\nInput s3 : \" + S3_INPUT_PATH,\n",
    "      \"\\nOutput postGIS table : \" + OUTPUT_TABLE_NAME)\n"
   ]
  },
  {
   "cell_type": "code",
   "execution_count": 2,
   "metadata": {},
   "outputs": [
    {
     "name": "stdout",
     "output_type": "stream",
     "text": [
      "Y2018M11D14 UTC 11:07\n"
     ]
    },
    {
     "data": {
      "text/plain": [
       "'3.5.4 |Anaconda, Inc.| (default, Nov 20 2017, 18:44:38) \\n[GCC 7.2.0]'"
      ]
     },
     "execution_count": 2,
     "metadata": {},
     "output_type": "execute_result"
    }
   ],
   "source": [
    "import time, datetime, sys\n",
    "dateString = time.strftime(\"Y%YM%mD%d\")\n",
    "timeString = time.strftime(\"UTC %H:%M\")\n",
    "start = datetime.datetime.now()\n",
    "print(dateString,timeString)\n",
    "sys.version"
   ]
  },
  {
   "cell_type": "code",
   "execution_count": 3,
   "metadata": {},
   "outputs": [
    {
     "name": "stdout",
     "output_type": "stream",
     "text": [
      "rm: cannot remove '/volumes/data/Y2018M10D01_RH_ICEP_Basins_PostGIS_V01/input_V02': No such file or directory\n",
      "download: s3://wri-projects/Aqueduct30/finalData/ICEP/icep.tif.xml to ../../../../data/Y2018M10D01_RH_ICEP_Basins_PostGIS_V01/input_V02/icep.tif.xml\n",
      "download: s3://wri-projects/Aqueduct30/finalData/ICEP/icep.tif.aux.xml to ../../../../data/Y2018M10D01_RH_ICEP_Basins_PostGIS_V01/input_V02/icep.tif.aux.xml\n",
      "download: s3://wri-projects/Aqueduct30/finalData/ICEP/icep_results.cpg to ../../../../data/Y2018M10D01_RH_ICEP_Basins_PostGIS_V01/input_V02/icep_results.cpg\n",
      "download: s3://wri-projects/Aqueduct30/finalData/ICEP/icep_results.sbx to ../../../../data/Y2018M10D01_RH_ICEP_Basins_PostGIS_V01/input_V02/icep_results.sbx\n",
      "download: s3://wri-projects/Aqueduct30/finalData/ICEP/icep_results.prj to ../../../../data/Y2018M10D01_RH_ICEP_Basins_PostGIS_V01/input_V02/icep_results.prj\n",
      "download: s3://wri-projects/Aqueduct30/finalData/ICEP/icep_results.shp.xml to ../../../../data/Y2018M10D01_RH_ICEP_Basins_PostGIS_V01/input_V02/icep_results.shp.xml\n",
      "download: s3://wri-projects/Aqueduct30/finalData/ICEP/wri_aqueduct3_ICEP.py to ../../../../data/Y2018M10D01_RH_ICEP_Basins_PostGIS_V01/input_V02/wri_aqueduct3_ICEP.py\n",
      "download: s3://wri-projects/Aqueduct30/finalData/ICEP/icep_results.sbn to ../../../../data/Y2018M10D01_RH_ICEP_Basins_PostGIS_V01/input_V02/icep_results.sbn\n",
      "download: s3://wri-projects/Aqueduct30/finalData/ICEP/icep_results.shx to ../../../../data/Y2018M10D01_RH_ICEP_Basins_PostGIS_V01/input_V02/icep_results.shx\n",
      "download: s3://wri-projects/Aqueduct30/finalData/ICEP/README.txt to ../../../../data/Y2018M10D01_RH_ICEP_Basins_PostGIS_V01/input_V02/README.txt\n",
      "download: s3://wri-projects/Aqueduct30/finalData/ICEP/icep_results.shp to ../../../../data/Y2018M10D01_RH_ICEP_Basins_PostGIS_V01/input_V02/icep_results.shp\n",
      "download: s3://wri-projects/Aqueduct30/finalData/ICEP/icep_results.csv to ../../../../data/Y2018M10D01_RH_ICEP_Basins_PostGIS_V01/input_V02/icep_results.csv\n",
      "download: s3://wri-projects/Aqueduct30/finalData/ICEP/icep_results.dbf to ../../../../data/Y2018M10D01_RH_ICEP_Basins_PostGIS_V01/input_V02/icep_results.dbf\n",
      "download: s3://wri-projects/Aqueduct30/finalData/ICEP/icep.tif.ovr to ../../../../data/Y2018M10D01_RH_ICEP_Basins_PostGIS_V01/input_V02/icep.tif.ovr\n"
     ]
    }
   ],
   "source": [
    "!rm -r {ec2_input_path}\n",
    "!mkdir -p {ec2_input_path}\n",
    "!aws s3 cp {S3_INPUT_PATH} {ec2_input_path} --recursive\n",
    "    "
   ]
  },
  {
   "cell_type": "code",
   "execution_count": 4,
   "metadata": {
    "collapsed": true
   },
   "outputs": [],
   "source": [
    "import numpy as np\n",
    "import pandas as pd\n",
    "import geopandas as gpd\n",
    "from sqlalchemy import *\n",
    "from geoalchemy2 import Geometry, WKTElement\n",
    "from shapely.geometry.multipolygon import MultiPolygon\n",
    "pd.set_option('display.max_columns', 500)"
   ]
  },
  {
   "cell_type": "code",
   "execution_count": 5,
   "metadata": {
    "collapsed": true
   },
   "outputs": [],
   "source": [
    "F = open(\"/.password\",\"r\")\n",
    "password = F.read().splitlines()[0]\n",
    "F.close()"
   ]
  },
  {
   "cell_type": "code",
   "execution_count": 6,
   "metadata": {
    "collapsed": true
   },
   "outputs": [],
   "source": [
    "engine = create_engine(\"postgresql://rutgerhofste:{}@{}:5432/{}\".format(password,DATABASE_ENDPOINT,DATABASE_NAME))\n",
    "connection = engine.connect()\n",
    "\n",
    "if OVERWRITE_OUTPUT:\n",
    "    sql = text(\"DROP TABLE IF EXISTS {};\".format(OUTPUT_TABLE_NAME))\n",
    "    result = engine.execute(sql)"
   ]
  },
  {
   "cell_type": "code",
   "execution_count": 7,
   "metadata": {
    "collapsed": true
   },
   "outputs": [],
   "source": [
    "input_file_path = \"{}/icep_results.shp\".format(ec2_input_path)"
   ]
  },
  {
   "cell_type": "code",
   "execution_count": 8,
   "metadata": {
    "collapsed": true
   },
   "outputs": [],
   "source": [
    "gdf = gpd.read_file(input_file_path)"
   ]
  },
  {
   "cell_type": "code",
   "execution_count": 9,
   "metadata": {
    "collapsed": true
   },
   "outputs": [],
   "source": [
    "def score_to_category(score):\n",
    "    if score != 5:\n",
    "        cat = int(np.floor(score))\n",
    "    else:\n",
    "        cat = 4\n",
    "    return cat"
   ]
  },
  {
   "cell_type": "code",
   "execution_count": 10,
   "metadata": {
    "collapsed": true
   },
   "outputs": [],
   "source": [
    "gdf = gdf.rename(columns={\"BASINID\":\"icepbasinid\",\n",
    "                          \"ICEP_raw\":\"icep_dimensionless\",\n",
    "                          \"ICEP_s\":\"icep_score\",\n",
    "                          \"ICEP_cat\":\"icep_label\"})"
   ]
  },
  {
   "cell_type": "code",
   "execution_count": 11,
   "metadata": {
    "collapsed": true
   },
   "outputs": [],
   "source": [
    "gdf[\"icep_cat\"] = gdf[\"icep_score\"].apply(score_to_category)"
   ]
  },
  {
   "cell_type": "code",
   "execution_count": 12,
   "metadata": {
    "collapsed": true
   },
   "outputs": [],
   "source": [
    "def uploadGDFtoPostGIS(gdf,tableName,saveIndex):\n",
    "    # this function uploads a polygon shapefile to table in AWS RDS. \n",
    "    # It handles combined polygon/multipolygon geometry and stores it in valid multipolygon in epsg 4326.\n",
    "    \n",
    "    # gdf = input geoDataframe\n",
    "    # tableName = postGIS table name (string)\n",
    "    # saveIndex = save index column in separate column in postgresql, otherwise discarded. (Boolean)\n",
    "    \n",
    "    \n",
    "    gdf[\"type\"] = gdf.geometry.geom_type    \n",
    "    geomTypes = [\"Polygon\",\"MultiPolygon\"]\n",
    "    \n",
    "    for geomType in geomTypes:\n",
    "        gdfType = gdf.loc[gdf[\"type\"]== geomType]\n",
    "        geomTypeLower = str.lower(geomType)\n",
    "        gdfType['geom'] = gdfType['geometry'].apply(lambda x: WKTElement(x.wkt, srid=4326))\n",
    "        gdfType.drop([\"geometry\",\"type\"],1, inplace=True)      \n",
    "        print(\"Create table temp%s\" %(geomTypeLower)) \n",
    "        gdfType.to_sql(\n",
    "            name = \"temp%s\" %(geomTypeLower),\n",
    "            con = engine,\n",
    "            if_exists='replace',\n",
    "            index= saveIndex, \n",
    "            dtype={'geom': Geometry(str.upper(geomType), srid= 4326)}\n",
    "        )\n",
    "        \n",
    "    # Merge both tables and make valid\n",
    "    sql = []\n",
    "    sql.append(\"DROP TABLE IF EXISTS %s\"  %(tableName))\n",
    "    sql.append(\"ALTER TABLE temppolygon ALTER COLUMN geom type geometry(MultiPolygon, 4326) using ST_Multi(geom);\")\n",
    "    sql.append(\"CREATE TABLE %s AS (SELECT * FROM temppolygon UNION SELECT * FROM tempmultipolygon);\" %(tableName))\n",
    "    sql.append(\"UPDATE %s SET geom = st_makevalid(geom);\" %(tableName))\n",
    "    sql.append(\"DROP TABLE temppolygon,tempmultipolygon\")\n",
    "\n",
    "    for statement in sql:\n",
    "        print(statement)\n",
    "        result = connection.execute(statement)    \n",
    "    gdfFromSQL =gpd.GeoDataFrame.from_postgis(\"select * from %s\" %(tableName),connection,geom_col='geom' )\n",
    "    return gdfFromSQL"
   ]
  },
  {
   "cell_type": "code",
   "execution_count": 13,
   "metadata": {},
   "outputs": [
    {
     "data": {
      "text/html": [
       "<div>\n",
       "<style scoped>\n",
       "    .dataframe tbody tr th:only-of-type {\n",
       "        vertical-align: middle;\n",
       "    }\n",
       "\n",
       "    .dataframe tbody tr th {\n",
       "        vertical-align: top;\n",
       "    }\n",
       "\n",
       "    .dataframe thead th {\n",
       "        text-align: right;\n",
       "    }\n",
       "</style>\n",
       "<table border=\"1\" class=\"dataframe\">\n",
       "  <thead>\n",
       "    <tr style=\"text-align: right;\">\n",
       "      <th></th>\n",
       "      <th>icepbasinid</th>\n",
       "      <th>BASINID_1</th>\n",
       "      <th>icep_dimensionless</th>\n",
       "      <th>icep_score</th>\n",
       "      <th>icep_label</th>\n",
       "      <th>geometry</th>\n",
       "      <th>icep_cat</th>\n",
       "    </tr>\n",
       "  </thead>\n",
       "  <tbody>\n",
       "    <tr>\n",
       "      <th>0</th>\n",
       "      <td>1</td>\n",
       "      <td>1</td>\n",
       "      <td>-10.778452</td>\n",
       "      <td>0.976334</td>\n",
       "      <td>Low (&lt; -5)</td>\n",
       "      <td>POLYGON ((-59.99999999999977 5.500000000000057...</td>\n",
       "      <td>0</td>\n",
       "    </tr>\n",
       "    <tr>\n",
       "      <th>1</th>\n",
       "      <td>2</td>\n",
       "      <td>2</td>\n",
       "      <td>-0.094111</td>\n",
       "      <td>1.226472</td>\n",
       "      <td>Low to medium (-5 to 0)</td>\n",
       "      <td>POLYGON ((32.00000000000028 -3, 32.50000000000...</td>\n",
       "      <td>1</td>\n",
       "    </tr>\n",
       "    <tr>\n",
       "      <th>2</th>\n",
       "      <td>3</td>\n",
       "      <td>3</td>\n",
       "      <td>-1.123661</td>\n",
       "      <td>0.969085</td>\n",
       "      <td>Low (&lt; -5)</td>\n",
       "      <td>(POLYGON ((32.00000000000028 -3, 32.0000000000...</td>\n",
       "      <td>0</td>\n",
       "    </tr>\n",
       "    <tr>\n",
       "      <th>3</th>\n",
       "      <td>4</td>\n",
       "      <td>4</td>\n",
       "      <td>0.934831</td>\n",
       "      <td>2.934831</td>\n",
       "      <td>Medium to high (0 to +1)</td>\n",
       "      <td>(POLYGON ((-78.49999999999989 42.0000000000001...</td>\n",
       "      <td>2</td>\n",
       "    </tr>\n",
       "    <tr>\n",
       "      <th>4</th>\n",
       "      <td>5</td>\n",
       "      <td>5</td>\n",
       "      <td>-0.592593</td>\n",
       "      <td>1.101852</td>\n",
       "      <td>Low to medium (-5 to 0)</td>\n",
       "      <td>POLYGON ((69.50000000000028 66.00000000000011,...</td>\n",
       "      <td>1</td>\n",
       "    </tr>\n",
       "  </tbody>\n",
       "</table>\n",
       "</div>"
      ],
      "text/plain": [
       "   icepbasinid  BASINID_1  icep_dimensionless  icep_score  \\\n",
       "0            1          1          -10.778452    0.976334   \n",
       "1            2          2           -0.094111    1.226472   \n",
       "2            3          3           -1.123661    0.969085   \n",
       "3            4          4            0.934831    2.934831   \n",
       "4            5          5           -0.592593    1.101852   \n",
       "\n",
       "                 icep_label  \\\n",
       "0                Low (< -5)   \n",
       "1   Low to medium (-5 to 0)   \n",
       "2                Low (< -5)   \n",
       "3  Medium to high (0 to +1)   \n",
       "4   Low to medium (-5 to 0)   \n",
       "\n",
       "                                            geometry  icep_cat  \n",
       "0  POLYGON ((-59.99999999999977 5.500000000000057...         0  \n",
       "1  POLYGON ((32.00000000000028 -3, 32.50000000000...         1  \n",
       "2  (POLYGON ((32.00000000000028 -3, 32.0000000000...         0  \n",
       "3  (POLYGON ((-78.49999999999989 42.0000000000001...         2  \n",
       "4  POLYGON ((69.50000000000028 66.00000000000011,...         1  "
      ]
     },
     "execution_count": 13,
     "metadata": {},
     "output_type": "execute_result"
    }
   ],
   "source": [
    "gdf.head()"
   ]
  },
  {
   "cell_type": "code",
   "execution_count": 14,
   "metadata": {
    "collapsed": true
   },
   "outputs": [],
   "source": [
    "gdf.columns = map(str.lower, gdf.columns)"
   ]
  },
  {
   "cell_type": "code",
   "execution_count": 15,
   "metadata": {},
   "outputs": [
    {
     "name": "stderr",
     "output_type": "stream",
     "text": [
      "/opt/anaconda3/envs/python35/lib/python3.5/site-packages/ipykernel_launcher.py:16: SettingWithCopyWarning: \n",
      "A value is trying to be set on a copy of a slice from a DataFrame.\n",
      "Try using .loc[row_indexer,col_indexer] = value instead\n",
      "\n",
      "See the caveats in the documentation: http://pandas.pydata.org/pandas-docs/stable/indexing.html#indexing-view-versus-copy\n",
      "  app.launch_new_instance()\n",
      "/opt/anaconda3/envs/python35/lib/python3.5/site-packages/ipykernel_launcher.py:17: SettingWithCopyWarning: \n",
      "A value is trying to be set on a copy of a slice from a DataFrame\n",
      "\n",
      "See the caveats in the documentation: http://pandas.pydata.org/pandas-docs/stable/indexing.html#indexing-view-versus-copy\n"
     ]
    },
    {
     "name": "stdout",
     "output_type": "stream",
     "text": [
      "Create table temppolygon\n",
      "Create table tempmultipolygon\n",
      "DROP TABLE IF EXISTS y2018m10d01_rh_icep_basins_postgis_v01_v02\n",
      "ALTER TABLE temppolygon ALTER COLUMN geom type geometry(MultiPolygon, 4326) using ST_Multi(geom);\n",
      "CREATE TABLE y2018m10d01_rh_icep_basins_postgis_v01_v02 AS (SELECT * FROM temppolygon UNION SELECT * FROM tempmultipolygon);\n",
      "UPDATE y2018m10d01_rh_icep_basins_postgis_v01_v02 SET geom = st_makevalid(geom);\n",
      "DROP TABLE temppolygon,tempmultipolygon\n"
     ]
    }
   ],
   "source": [
    "gdfFromSQL = uploadGDFtoPostGIS(gdf,OUTPUT_TABLE_NAME,False)"
   ]
  },
  {
   "cell_type": "code",
   "execution_count": 16,
   "metadata": {},
   "outputs": [
    {
     "name": "stdout",
     "output_type": "stream",
     "text": [
      "0:00:09.097920\n"
     ]
    }
   ],
   "source": [
    "end = datetime.datetime.now()\n",
    "elapsed = end - start\n",
    "print(elapsed)"
   ]
  },
  {
   "cell_type": "markdown",
   "metadata": {
    "collapsed": true
   },
   "source": [
    "Previous Runs:  \n",
    "0:00:08.221081  \n",
    "0:00:09.097920\n",
    "\n"
   ]
  },
  {
   "cell_type": "code",
   "execution_count": null,
   "metadata": {
    "collapsed": true
   },
   "outputs": [],
   "source": []
  }
 ],
 "metadata": {
  "kernelspec": {
   "display_name": "Python 35",
   "language": "python",
   "name": "python35"
  },
  "language_info": {
   "codemirror_mode": {
    "name": "ipython",
    "version": 3
   },
   "file_extension": ".py",
   "mimetype": "text/x-python",
   "name": "python",
   "nbconvert_exporter": "python",
   "pygments_lexer": "ipython3",
   "version": "3.5.4"
  }
 },
 "nbformat": 4,
 "nbformat_minor": 2
}
