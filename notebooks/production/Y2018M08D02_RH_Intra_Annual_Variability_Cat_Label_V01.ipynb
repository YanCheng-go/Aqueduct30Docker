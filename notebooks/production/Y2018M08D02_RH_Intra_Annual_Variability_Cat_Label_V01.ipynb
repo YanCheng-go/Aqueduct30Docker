{
 "cells": [
  {
   "cell_type": "code",
   "execution_count": 1,
   "metadata": {},
   "outputs": [
    {
     "name": "stdout",
     "output_type": "stream",
     "text": [
      "bq dataset name:  aqueduct30v01 \n",
      "BQ_INPUT_TABLE_NAME:  y2018m08d01_rh_intra_annual_variability_coef_var_v01_v02 \n",
      "Output bq table name:  y2018m08d02_rh_intra_annual_variability_cat_label_v01_v03\n"
     ]
    }
   ],
   "source": [
    "\"\"\" Categorize and label intra annual variability.\n",
    "-------------------------------------------------------------------------------\n",
    "\n",
    "SV value to score calculation\n",
    "\n",
    "Author: Rutger Hofste\n",
    "Date: 20180802\n",
    "Kernel: python35\n",
    "Docker: rutgerhofste/gisdocker:ubuntu16.04\n",
    "\n",
    "Args:\n",
    "    TESTING (Boolean) : Toggle testing case.\n",
    "    SCRIPT_NAME (string) : Script name.\n",
    "    OUTPUT_VERSION (integer) : output version.\n",
    "    DATABASE_ENDPOINT (string) : RDS or postGreSQL endpoint.\n",
    "    DATABASE_NAME (string) : Database name.\n",
    "    TABLE_NAME_AREA_30SPFAF06 (string) : Table name used for areas. Must exist\n",
    "        on same database as used in rest of script.\n",
    "    S3_INPUT_PATH_RIVERDISCHARGE (string) : AWS S3 input path for \n",
    "        riverdischarge.    \n",
    "    S3_INPUT_PATH_DEMAND (string) : AWS S3 input path for \n",
    "        demand.  \n",
    "\"\"\"\n",
    "\n",
    "TESTING = 0\n",
    "OVERWRITE_OUTPUT = 1\n",
    "SCRIPT_NAME = 'Y2018M08D02_RH_Intra_Annual_Variability_Cat_Label_V01'\n",
    "OUTPUT_VERSION = 3\n",
    "\n",
    "BQ_PROJECT_ID = \"aqueduct30\"\n",
    "BQ_OUTPUT_DATASET_NAME = \"aqueduct30v01\"\n",
    "BQ_INPUT_TABLE_NAME = \"y2018m08d01_rh_intra_annual_variability_coef_var_v01_v02\"\n",
    "BQ_OUTPUT_TABLE_NAME = \"{}_v{:02.0f}\".format(SCRIPT_NAME,OUTPUT_VERSION).lower()\n",
    "\n",
    "print(\"bq dataset name: \", BQ_OUTPUT_DATASET_NAME,\n",
    "      \"\\nBQ_INPUT_TABLE_NAME: \", BQ_INPUT_TABLE_NAME,\n",
    "      \"\\nOutput bq table name: \", BQ_OUTPUT_TABLE_NAME)"
   ]
  },
  {
   "cell_type": "code",
   "execution_count": 2,
   "metadata": {},
   "outputs": [
    {
     "name": "stdout",
     "output_type": "stream",
     "text": [
      "Y2019M04D04 UTC 14:59\n"
     ]
    },
    {
     "data": {
      "text/plain": [
       "'3.5.4 |Anaconda, Inc.| (default, Nov 20 2017, 18:44:38) \\n[GCC 7.2.0]'"
      ]
     },
     "execution_count": 2,
     "metadata": {},
     "output_type": "execute_result"
    }
   ],
   "source": [
    "import time, datetime, sys\n",
    "dateString = time.strftime(\"Y%YM%mD%d\")\n",
    "timeString = time.strftime(\"UTC %H:%M\")\n",
    "start = datetime.datetime.now()\n",
    "print(dateString,timeString)\n",
    "sys.version"
   ]
  },
  {
   "cell_type": "code",
   "execution_count": 3,
   "metadata": {
    "collapsed": true
   },
   "outputs": [],
   "source": [
    "import os\n",
    "from google.cloud import bigquery\n",
    "\n",
    "os.environ[\"GOOGLE_APPLICATION_CREDENTIALS\"] = \"/.google.json\"\n",
    "os.environ[\"GOOGLE_CLOUD_PROJECT\"] = \"aqueduct30\"\n",
    "client = bigquery.Client(project=BQ_PROJECT_ID)"
   ]
  },
  {
   "cell_type": "code",
   "execution_count": 4,
   "metadata": {
    "collapsed": true
   },
   "outputs": [],
   "source": [
    "def pre_process_table(bq_output_dataset_name,bq_output_table_name,overwrite=False):\n",
    "    \"\"\" Checks if a bq table exists and deletes if necessary.\n",
    "    \n",
    "    Args:\n",
    "        bq_output_dataset_name (string): BQ Dataset name.\n",
    "        bq_output_table_name (string): BQ table name.\n",
    "    Returns:\n",
    "        1\n",
    "    \n",
    "    \"\"\"\n",
    "    \n",
    "    dataset_ref = client.dataset(bq_output_dataset_name)\n",
    "    tables_server = list(client.list_tables(dataset_ref))\n",
    "    tables_client = list(map(lambda x: x.table_id,tables_server))\n",
    "    table_exists = bq_output_table_name in tables_client\n",
    "    if table_exists:\n",
    "        print(\"Table {}{} exists\".format(bq_output_dataset_name,bq_output_table_name))\n",
    "        if overwrite:\n",
    "            table_ref = dataset_ref.table(bq_output_table_name)\n",
    "            client.delete_table(table_ref)\n",
    "            print(\"Overwrite True, deleting table {}{}\".format(bq_output_dataset_name,bq_output_table_name))\n",
    "        else:\n",
    "            print(\"Overwrite False, keeping table {}{}\".format(bq_output_dataset_name,bq_output_table_name))\n",
    "    else:\n",
    "        print(\"Table {}{} does not exist\".format(bq_output_dataset_name,bq_output_table_name))\n",
    "    return 1"
   ]
  },
  {
   "cell_type": "code",
   "execution_count": 5,
   "metadata": {},
   "outputs": [
    {
     "name": "stdout",
     "output_type": "stream",
     "text": [
      "Table aqueduct30v01y2018m08d02_rh_intra_annual_variability_cat_label_v01_v03 does not exist\n"
     ]
    },
    {
     "data": {
      "text/plain": [
       "1"
      ]
     },
     "execution_count": 5,
     "metadata": {},
     "output_type": "execute_result"
    }
   ],
   "source": [
    "pre_process_table(BQ_OUTPUT_DATASET_NAME,BQ_OUTPUT_TABLE_NAME,OVERWRITE_OUTPUT)"
   ]
  },
  {
   "cell_type": "code",
   "execution_count": 6,
   "metadata": {
    "collapsed": true
   },
   "outputs": [],
   "source": [
    "sql  = \"WITH cte AS (\"\n",
    "sql +=\" SELECT\"\n",
    "sql +=  \" pfafid_30spfaf06,\"\n",
    "sql +=  \" delta_id,\"\n",
    "sql +=  \" sv_riverdischarge_m_30spfaf06,\"\n",
    "sql +=  \" sv_riverdischarge_score_30spfaf06,\"\n",
    "\n",
    "sql +=  \" sv_riverdischarge_m_delta,\"\n",
    "sql +=  \" sv_riverdischarge_score_delta,\"\n",
    "\n",
    "sql +=  \" sv_riverdischarge_m_coalesced,\"\n",
    "sql +=  \" sv_riverdischarge_score_coalesced,\"\n",
    "\n",
    "sql +=  \" CASE\"\n",
    "sql +=  \" WHEN sv_riverdischarge_score_30spfaf06 = -1\"\n",
    "sql +=    \" THEN -1 \"\n",
    "sql +=  \" WHEN sv_riverdischarge_score_30spfaf06 < 5 AND sv_riverdischarge_score_30spfaf06 >= 0\"\n",
    "sql +=    \" THEN FLOOR(sv_riverdischarge_score_30spfaf06)\"\n",
    "sql +=  \" WHEN sv_riverdischarge_score_30spfaf06 = 5\"\n",
    "sql +=    \" THEN 4\"\n",
    "sql +=  \" ELSE -9999\"\n",
    "sql +=  \" END\"\n",
    "sql +=  \" AS sv_riverdischarge_category_30spfaf06,\"\n",
    "\n",
    "sql +=  \" CASE\"\n",
    "sql +=  \" WHEN sv_riverdischarge_score_delta = -1\"\n",
    "sql +=    \" THEN -1 \"\n",
    "sql +=  \" WHEN sv_riverdischarge_score_delta < 5 AND sv_riverdischarge_score_delta >= 0\"\n",
    "sql +=    \" THEN FLOOR(sv_riverdischarge_score_delta)\"\n",
    "sql +=  \" WHEN sv_riverdischarge_score_delta = 5\"\n",
    "sql +=    \" THEN 4\"\n",
    "sql +=  \" ELSE -9999\"\n",
    "sql +=  \" END\"\n",
    "sql +=  \" AS sv_riverdischarge_category_delta,\"\n",
    "\n",
    "sql +=  \" CASE\"\n",
    "sql +=  \" WHEN sv_riverdischarge_score_coalesced = -1\"\n",
    "sql +=    \" THEN -1 \"\n",
    "sql +=  \" WHEN sv_riverdischarge_score_coalesced < 5 AND sv_riverdischarge_score_coalesced >= 0\"\n",
    "sql +=    \" THEN FLOOR(sv_riverdischarge_score_coalesced)\"\n",
    "sql +=  \" WHEN sv_riverdischarge_score_coalesced = 5\"\n",
    "sql +=    \" THEN 4\"\n",
    "sql +=  \" ELSE -9999\"\n",
    "sql +=  \" END\"\n",
    "sql +=  \" AS sv_riverdischarge_category_coalesced\"\n",
    "\n",
    "sql +=\" FROM\"\n",
    "sql +=  \" `{}.{}`\".format(BQ_OUTPUT_DATASET_NAME,BQ_INPUT_TABLE_NAME)\n",
    "sql += \" )\"\n",
    "sql +=\" SELECT\"\n",
    "sql +=  \" *,\"\n",
    "sql +=     \" CASE\"\n",
    "sql +=     \" WHEN sv_riverdischarge_category_30spfaf06 = -9999\"\n",
    "sql +=         \" THEN 'NoData' \"\n",
    "sql +=     \" WHEN sv_riverdischarge_category_30spfaf06 = -1\"\n",
    "sql +=         \" THEN 'Arid and Low Water Use' \"\n",
    "sql +=     \" WHEN sv_riverdischarge_category_30spfaf06 = 0\"\n",
    "sql +=         \" THEN 'Low (<0.33)' \"\n",
    "sql +=     \" WHEN sv_riverdischarge_category_30spfaf06 = 1\"\n",
    "sql +=         \" THEN 'Low - Medium (0.33-0.66)' \"\n",
    "sql +=     \" WHEN sv_riverdischarge_category_30spfaf06 = 2\"\n",
    "sql +=         \" THEN 'Medium - High (0.66-1.00)' \"\n",
    "sql +=     \" WHEN sv_riverdischarge_category_30spfaf06 = 3\"\n",
    "sql +=         \" THEN 'High (1.00-1.33)' \"\n",
    "sql +=     \" WHEN sv_riverdischarge_category_30spfaf06 = 4\"\n",
    "sql +=         \" THEN 'Extremely High (>1.33)' \"\n",
    "sql +=     \" ELSE 'error, check score'\"\n",
    "sql +=     \" END AS sv_label_dimensionless_30spfaf06,\"\n",
    "\n",
    "sql +=     \" CASE\"\n",
    "sql +=     \" WHEN sv_riverdischarge_category_delta = -9999\"\n",
    "sql +=         \" THEN 'NoData' \"\n",
    "sql +=     \" WHEN sv_riverdischarge_category_delta = -1\"\n",
    "sql +=         \" THEN 'Arid and Low Water Use' \"\n",
    "sql +=     \" WHEN sv_riverdischarge_category_delta = 0\"\n",
    "sql +=         \" THEN 'Low (<0.33)' \"\n",
    "sql +=     \" WHEN sv_riverdischarge_category_delta = 1\"\n",
    "sql +=         \" THEN 'Low - Medium (0.33-0.66)' \"\n",
    "sql +=     \" WHEN sv_riverdischarge_category_delta = 2\"\n",
    "sql +=         \" THEN 'Medium - High (0.66-1.00)' \"\n",
    "sql +=     \" WHEN sv_riverdischarge_category_delta = 3\"\n",
    "sql +=         \" THEN 'High (1.00-1.33)' \"\n",
    "sql +=     \" WHEN sv_riverdischarge_category_delta = 4\"\n",
    "sql +=         \" THEN 'Extremely High (>1.33)' \"\n",
    "sql +=     \" ELSE 'error, check score'\"\n",
    "sql +=     \" END AS sv_label_dimensionless_delta,\"\n",
    "\n",
    "sql +=     \" CASE\"\n",
    "sql +=     \" WHEN sv_riverdischarge_category_coalesced = -9999\"\n",
    "sql +=         \" THEN 'NoData' \"\n",
    "sql +=     \" WHEN sv_riverdischarge_category_coalesced = -1\"\n",
    "sql +=         \" THEN 'Arid and Low Water Use' \"\n",
    "sql +=     \" WHEN sv_riverdischarge_category_coalesced = 0\"\n",
    "sql +=         \" THEN 'Low (<0.33)' \"\n",
    "sql +=     \" WHEN sv_riverdischarge_category_coalesced = 1\"\n",
    "sql +=         \" THEN 'Low - Medium (0.33-0.66)' \"\n",
    "sql +=     \" WHEN sv_riverdischarge_category_coalesced = 2\"\n",
    "sql +=         \" THEN 'Medium - High (0.66-1.00)' \"\n",
    "sql +=     \" WHEN sv_riverdischarge_category_coalesced = 3\"\n",
    "sql +=         \" THEN 'High (1.00-1.33)' \"\n",
    "sql +=     \" WHEN sv_riverdischarge_category_coalesced = 4\"\n",
    "sql +=         \" THEN 'Extremely High (>1.33)' \"\n",
    "sql +=     \" ELSE 'error, check score'\"\n",
    "sql +=     \" END AS sv_label_dimensionless_coalesced\"\n",
    "\n",
    "sql +=\" FROM\"\n",
    "sql +=\" cte\""
   ]
  },
  {
   "cell_type": "code",
   "execution_count": 7,
   "metadata": {},
   "outputs": [
    {
     "data": {
      "text/plain": [
       "\"WITH cte AS ( SELECT pfafid_30spfaf06, delta_id, sv_riverdischarge_m_30spfaf06, sv_riverdischarge_score_30spfaf06, sv_riverdischarge_m_delta, sv_riverdischarge_score_delta, sv_riverdischarge_m_coalesced, sv_riverdischarge_score_coalesced, CASE WHEN sv_riverdischarge_score_30spfaf06 = -1 THEN -1  WHEN sv_riverdischarge_score_30spfaf06 < 5 AND sv_riverdischarge_score_30spfaf06 >= 0 THEN FLOOR(sv_riverdischarge_score_30spfaf06) WHEN sv_riverdischarge_score_30spfaf06 = 5 THEN 4 ELSE -9999 END AS sv_riverdischarge_category_30spfaf06, CASE WHEN sv_riverdischarge_score_delta = -1 THEN -1  WHEN sv_riverdischarge_score_delta < 5 AND sv_riverdischarge_score_delta >= 0 THEN FLOOR(sv_riverdischarge_score_delta) WHEN sv_riverdischarge_score_delta = 5 THEN 4 ELSE -9999 END AS sv_riverdischarge_category_delta, CASE WHEN sv_riverdischarge_score_coalesced = -1 THEN -1  WHEN sv_riverdischarge_score_coalesced < 5 AND sv_riverdischarge_score_coalesced >= 0 THEN FLOOR(sv_riverdischarge_score_coalesced) WHEN sv_riverdischarge_score_coalesced = 5 THEN 4 ELSE -9999 END AS sv_riverdischarge_category_coalesced FROM `aqueduct30v01.y2018m08d01_rh_intra_annual_variability_coef_var_v01_v02` ) SELECT *, CASE WHEN sv_riverdischarge_category_30spfaf06 = -9999 THEN 'NoData'  WHEN sv_riverdischarge_category_30spfaf06 = -1 THEN 'Arid and Low Water Use'  WHEN sv_riverdischarge_category_30spfaf06 = 0 THEN 'Low (<0.33)'  WHEN sv_riverdischarge_category_30spfaf06 = 1 THEN 'Low - Medium (0.33-0.66)'  WHEN sv_riverdischarge_category_30spfaf06 = 2 THEN 'Medium - High (0.66-1.00)'  WHEN sv_riverdischarge_category_30spfaf06 = 3 THEN 'High (1.00-1.33)'  WHEN sv_riverdischarge_category_30spfaf06 = 4 THEN 'Extremely High (>1.33)'  ELSE 'error, check score' END AS sv_label_dimensionless_30spfaf06, CASE WHEN sv_riverdischarge_category_delta = -9999 THEN 'NoData'  WHEN sv_riverdischarge_category_delta = -1 THEN 'Arid and Low Water Use'  WHEN sv_riverdischarge_category_delta = 0 THEN 'Low (<0.33)'  WHEN sv_riverdischarge_category_delta = 1 THEN 'Low - Medium (0.33-0.66)'  WHEN sv_riverdischarge_category_delta = 2 THEN 'Medium - High (0.66-1.00)'  WHEN sv_riverdischarge_category_delta = 3 THEN 'High (1.00-1.33)'  WHEN sv_riverdischarge_category_delta = 4 THEN 'Extremely High (>1.33)'  ELSE 'error, check score' END AS sv_label_dimensionless_delta, CASE WHEN sv_riverdischarge_category_coalesced = -9999 THEN 'NoData'  WHEN sv_riverdischarge_category_coalesced = -1 THEN 'Arid and Low Water Use'  WHEN sv_riverdischarge_category_coalesced = 0 THEN 'Low (<0.33)'  WHEN sv_riverdischarge_category_coalesced = 1 THEN 'Low - Medium (0.33-0.66)'  WHEN sv_riverdischarge_category_coalesced = 2 THEN 'Medium - High (0.66-1.00)'  WHEN sv_riverdischarge_category_coalesced = 3 THEN 'High (1.00-1.33)'  WHEN sv_riverdischarge_category_coalesced = 4 THEN 'Extremely High (>1.33)'  ELSE 'error, check score' END AS sv_label_dimensionless_coalesced FROM cte\""
      ]
     },
     "execution_count": 7,
     "metadata": {},
     "output_type": "execute_result"
    }
   ],
   "source": [
    "sql"
   ]
  },
  {
   "cell_type": "code",
   "execution_count": 8,
   "metadata": {
    "collapsed": true
   },
   "outputs": [],
   "source": [
    "job_config = bigquery.QueryJobConfig()\n",
    "table_ref = client.dataset(BQ_OUTPUT_DATASET_NAME).table(BQ_OUTPUT_TABLE_NAME)\n",
    "job_config.destination = table_ref\n",
    "\n",
    "if TESTING:\n",
    "    job_config.dry_run = True\n",
    "    job_config.use_query_cache = False"
   ]
  },
  {
   "cell_type": "code",
   "execution_count": 9,
   "metadata": {
    "collapsed": true
   },
   "outputs": [],
   "source": [
    "query_job = client.query(query=sql,\n",
    "                         location=\"US\",\n",
    "                         job_config=job_config)"
   ]
  },
  {
   "cell_type": "code",
   "execution_count": 10,
   "metadata": {},
   "outputs": [
    {
     "data": {
      "text/plain": [
       "<google.cloud.bigquery.table.RowIterator at 0x7f9a4e5ef2b0>"
      ]
     },
     "execution_count": 10,
     "metadata": {},
     "output_type": "execute_result"
    }
   ],
   "source": [
    "query_job.result(timeout=120)"
   ]
  },
  {
   "cell_type": "code",
   "execution_count": 11,
   "metadata": {},
   "outputs": [
    {
     "name": "stdout",
     "output_type": "stream",
     "text": [
      "0:00:03.663936\n"
     ]
    }
   ],
   "source": [
    "end = datetime.datetime.now()\n",
    "elapsed = end - start\n",
    "print(elapsed)"
   ]
  },
  {
   "cell_type": "markdown",
   "metadata": {},
   "source": [
    "Previous runs:  \n",
    "0:00:02.762684  \n",
    "0:00:03.663936"
   ]
  },
  {
   "cell_type": "code",
   "execution_count": null,
   "metadata": {
    "collapsed": true
   },
   "outputs": [],
   "source": []
  }
 ],
 "metadata": {
  "kernelspec": {
   "display_name": "Python 35",
   "language": "python",
   "name": "python35"
  },
  "language_info": {
   "codemirror_mode": {
    "name": "ipython",
    "version": 3
   },
   "file_extension": ".py",
   "mimetype": "text/x-python",
   "name": "python",
   "nbconvert_exporter": "python",
   "pygments_lexer": "ipython3",
   "version": "3.5.4"
  }
 },
 "nbformat": 4,
 "nbformat_minor": 2
}
