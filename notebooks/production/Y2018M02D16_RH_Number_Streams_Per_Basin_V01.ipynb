{
 "cells": [
  {
   "cell_type": "markdown",
   "metadata": {},
   "source": [
    "### Y2018M02D16_RH_Number_Streams_Per_Basin_V01\n",
    "\n",
    "* Purpose of script: determine the number of streams per GDBD basin\n",
    "* Author: Rutger Hofste\n",
    "* Kernel used: python35\n",
    "* Date created: 20180216\n",
    "\n",
    "Approach:  \n",
    "1. load line data  \n",
    "1. buffer lines with tiny value\n",
    "1. group lines based on overlap\n",
    "1. Add group numbers to basin polygons\n",
    "1. basins with more than 1 (>1) line groups are delta regions\n",
    "\n",
    "Old approach:\n",
    "[Strategy](https://gis.stackexchange.com/questions/132723/unsplit-dissolve-multiple-touching-lines-in-stream-network-using-arcgis-desktop)\n",
    "\n",
    "1. Explode multilines into single lines \n",
    "1. Tiny buffer around single lines\n",
    "1. Take Union\n",
    "1. Spatial join single line geodataframe and dissolved ID's \n",
    "1. Aggregate using polyline ID from previous step\n",
    "\n",
    "\n",
    "\n",
    "\n"
   ]
  },
  {
   "cell_type": "code",
   "execution_count": 1,
   "metadata": {},
   "outputs": [
    {
     "name": "stdout",
     "output_type": "stream",
     "text": [
      "Y2018M02D19 UTC 11:20\n"
     ]
    },
    {
     "data": {
      "text/plain": [
       "'3.5.4 |Continuum Analytics, Inc.| (default, Aug 14 2017, 13:26:58) \\n[GCC 4.4.7 20120313 (Red Hat 4.4.7-1)]'"
      ]
     },
     "execution_count": 1,
     "metadata": {},
     "output_type": "execute_result"
    }
   ],
   "source": [
    "import time, datetime, sys\n",
    "dateString = time.strftime(\"Y%YM%mD%d\")\n",
    "timeString = time.strftime(\"UTC %H:%M\")\n",
    "start = datetime.datetime.now()\n",
    "print(dateString,timeString)\n",
    "sys.version"
   ]
  },
  {
   "cell_type": "code",
   "execution_count": 2,
   "metadata": {
    "collapsed": true
   },
   "outputs": [],
   "source": [
    "SCRIPT_NAME = \"Y2018M02D16_RH_Number_Streams_Per_Basin_V01\"\n",
    "\n",
    "EC2_INPUT_PATH  = (\"/volumes/data/{}/input/\").format(SCRIPT_NAME)\n",
    "EC2_OUTPUT_PATH = (\"/volumes/data/{}/output/\").format(SCRIPT_NAME)\n",
    "\n",
    "S3_INPUT_PATH = \"s3://wri-projects/Aqueduct30/processData/Y2018M02D15_RH_GDBD_Merge_V01/output/\"\n",
    "S3_OUTPUT_PATH = \"s3://wri-projects/Aqueduct30/processData/{}/output\".format(SCRIPT_NAME)\n",
    "\n",
    "\n",
    "INPUT_VERSION = 6\n",
    "OUTPUT_VERSION = 1\n",
    "\n",
    "TESTING = 1\n"
   ]
  },
  {
   "cell_type": "code",
   "execution_count": null,
   "metadata": {
    "collapsed": true
   },
   "outputs": [],
   "source": [
    "!rm -r {EC2_INPUT_PATH}\n",
    "!rm -r {EC2_OUTPUT_PATH}\n",
    "\n",
    "!mkdir -p {EC2_INPUT_PATH}\n",
    "!mkdir -p {EC2_OUTPUT_PATH}"
   ]
  },
  {
   "cell_type": "code",
   "execution_count": null,
   "metadata": {},
   "outputs": [],
   "source": [
    "!aws s3 cp {S3_INPUT_PATH} {EC2_INPUT_PATH} --recursive"
   ]
  },
  {
   "cell_type": "code",
   "execution_count": 3,
   "metadata": {
    "collapsed": true
   },
   "outputs": [],
   "source": [
    "import geopandas as gpd\n",
    "import pandas as pd\n",
    "import eeconvert\n",
    "import folium\n",
    "\n",
    "\n",
    "%matplotlib inline"
   ]
  },
  {
   "cell_type": "code",
   "execution_count": 4,
   "metadata": {
    "collapsed": true
   },
   "outputs": [],
   "source": [
    "file_name_streams = \"{}GDBD_streams_EPSG4326_V{:02.0f}.shp\".format(EC2_INPUT_PATH,INPUT_VERSION)\n",
    "file_name_basins = \"{}GDBD_basins_EPSG4326_V{:02.0f}.shp\".format(EC2_INPUT_PATH,INPUT_VERSION)"
   ]
  },
  {
   "cell_type": "code",
   "execution_count": 5,
   "metadata": {
    "collapsed": true,
    "scrolled": true
   },
   "outputs": [],
   "source": [
    "gdf_streams = gpd.GeoDataFrame.from_file(file_name_streams)\n",
    "gdf_basins = gpd.GeoDataFrame.from_file(file_name_basins)"
   ]
  },
  {
   "cell_type": "code",
   "execution_count": 6,
   "metadata": {
    "collapsed": true
   },
   "outputs": [],
   "source": [
    "gdf_streams_backup = gdf_streams.copy()\n",
    "tiny_value = 0.00001\n",
    "\n",
    "if TESTING:\n",
    "    gdf_streams = gdf_streams[0:200]\n",
    "    tiny_value = 0.1\n"
   ]
  },
  {
   "cell_type": "code",
   "execution_count": 7,
   "metadata": {
    "collapsed": true
   },
   "outputs": [],
   "source": [
    "gdf_streams['GDBD_ID'] = gdf_streams['GDBD_ID'].astype('int64')"
   ]
  },
  {
   "cell_type": "code",
   "execution_count": 8,
   "metadata": {},
   "outputs": [
    {
     "data": {
      "text/plain": [
       "OBJECTID        int64\n",
       "GDBD_ID         int64\n",
       "Ave_Str_Sl    float64\n",
       "Shape_Leng    float64\n",
       "geometry       object\n",
       "dtype: object"
      ]
     },
     "execution_count": 8,
     "metadata": {},
     "output_type": "execute_result"
    }
   ],
   "source": [
    "gdf_streams.dtypes"
   ]
  },
  {
   "cell_type": "markdown",
   "metadata": {},
   "source": [
    "## Functions "
   ]
  },
  {
   "cell_type": "code",
   "execution_count": 9,
   "metadata": {},
   "outputs": [],
   "source": [
    "def explode(gdf):\n",
    "    \"\"\"\n",
    "    Will explode the geodataframe's muti-part geometries into single\n",
    "    geometries. Each row containing a multi-part geometry will be split into\n",
    "    multiple rows with single geometries, thereby increasing the vertical size\n",
    "    of the geodataframe. The index of the input geodataframe is no longer\n",
    "    unique and is replaced with a multi-index.\n",
    "\n",
    "    The output geodataframe has an index based on two columns (multi-index)\n",
    "    i.e. 'level_0' (index of input geodataframe) and 'level_1' which is a new\n",
    "    zero-based index for each single part geometry per multi-part geometry\n",
    "        \n",
    "    Args:\n",
    "        gdf (gpd.GeoDataFrame) : input geodataframe with multi-geometries\n",
    "        \n",
    "    Returns:\n",
    "        gdf (gpd.GeoDataFrame) : exploded geodataframe with each single\n",
    "                                 geometry as a separate entry in the\n",
    "                                 geodataframe. The GeoDataFrame has a multi-\n",
    "                                 index set to columns level_0 and level_1\n",
    "        \n",
    "    \"\"\"\n",
    "    gs = gdf.explode()\n",
    "    gdf2 = gs.reset_index().rename(columns={0: 'geometry'})\n",
    "    gdf_out = gdf2.merge(right=gdf.drop('geometry', axis=1),\n",
    "                         left_on='level_0',\n",
    "                         right_index=True)\n",
    "    gdf_out = (gdf_out.set_index(['level_0', 'level_1'])\n",
    "                      .set_geometry('geometry'))\n",
    "    gdf_out.crs = gdf.crs\n",
    "    return gdf_out\n",
    "\n",
    "\n",
    "def group_geometry(gdf, buffer_value=0.01, out_column_name=\"geometry_group\"):\n",
    "    \"\"\"\n",
    "    Adds a column to the dataframe with a geometry group number. The\n",
    "    group number is determined by overlapping or touching geometries.\n",
    "    A geodataframe will be exploded before assigning the group number.\n",
    "    If the input geodataframe contains multi-geometries, the shape will\n",
    "    increase. This function can also be used to dissolve a geodataframe\n",
    "    on intersecting geometries instead of attributes. Use this function\n",
    "    followed by the .dissolve(by='geometry_group') method. \n",
    "\n",
    "    Args:\n",
    "        gdf (gpd.GeoDataFrame)  : input geodataframe with multi-geometries.\n",
    "        buffer_value (float)    : buffer distance in crs units. Defaults\n",
    "                                  to 0.0001.\n",
    "        out_column_name (string): name of output column containing the group\n",
    "                                  number. Defaults to 'geometry_group'\n",
    "\n",
    "    Returns:\n",
    "        gdf (gpd.GeoDataFrame) : geodataframe with new index column\n",
    "                                 and grouped geometries.\n",
    "    \"\"\"\n",
    "    gdf_polygon = gdf.copy()\n",
    "    gdf_polygon['geometry'] = gdf_polygon.geometry.buffer(buffer_value,\n",
    "                                                          resolution=1)\n",
    "    gdf_polygon[\"group\"] = 1\n",
    "    gdf_polygon_dissolved = gdf_polygon.dissolve(by=\"group\")\n",
    "    gdf_out = explode(gdf_polygon_dissolved)\n",
    "    gdf_out = gdf_out.reset_index()\n",
    "    gdf_grouped = gpd.GeoDataFrame(gdf_out[\"level_1\"],\n",
    "                                   geometry=gdf_out.geometry)\n",
    "    gdf_grouped.rename(columns={'level_1': out_column_name},\n",
    "                       inplace=True)\n",
    "\n",
    "    gdf_exploded = explode(gdf)\n",
    "    gdf_exploded = gdf_exploded.reset_index()\n",
    "    gdf_exploded_out = gpd.sjoin(gdf_exploded,\n",
    "                                 gdf_grouped,\n",
    "                                 how=\"left\",\n",
    "                                 op='within')\n",
    "    return gdf_exploded_out\n",
    "\n",
    "\n",
    "def stream_groups_per_basin():\n",
    "    pass\n",
    "\n",
    "    "
   ]
  },
  {
   "cell_type": "code",
   "execution_count": null,
   "metadata": {
    "collapsed": true
   },
   "outputs": [],
   "source": []
  },
  {
   "cell_type": "code",
   "execution_count": 14,
   "metadata": {},
   "outputs": [
    {
     "name": "stdout",
     "output_type": "stream",
     "text": [
      "CPU times: user 240 ms, sys: 4 ms, total: 244 ms\n",
      "Wall time: 243 ms\n"
     ]
    }
   ],
   "source": [
    "%%time\n",
    "gdf_stream_groups = group_geometry(gdf_streams)"
   ]
  },
  {
   "cell_type": "code",
   "execution_count": 15,
   "metadata": {},
   "outputs": [],
   "source": [
    "gdf_streams_simple = gpd.GeoDataFrame(gdf_stream_groups[\"geometry_group\"],\n",
    "                                      geometry=gdf_stream_groups.geometry)"
   ]
  },
  {
   "cell_type": "code",
   "execution_count": 43,
   "metadata": {},
   "outputs": [],
   "source": [
    "gdf_streams_simple[\"geometry_group_copy\"] = gdf_streams_simple[\"geometry_group\"]"
   ]
  },
  {
   "cell_type": "code",
   "execution_count": 45,
   "metadata": {},
   "outputs": [],
   "source": [
    "gdf_streams_grouped_simple = gdf_streams_simple.dissolve(by=\"geometry_group_copy\")"
   ]
  },
  {
   "cell_type": "code",
   "execution_count": 46,
   "metadata": {},
   "outputs": [
    {
     "data": {
      "text/html": [
       "<div>\n",
       "<style>\n",
       "    .dataframe thead tr:only-child th {\n",
       "        text-align: right;\n",
       "    }\n",
       "\n",
       "    .dataframe thead th {\n",
       "        text-align: left;\n",
       "    }\n",
       "\n",
       "    .dataframe tbody tr th {\n",
       "        vertical-align: top;\n",
       "    }\n",
       "</style>\n",
       "<table border=\"1\" class=\"dataframe\">\n",
       "  <thead>\n",
       "    <tr style=\"text-align: right;\">\n",
       "      <th></th>\n",
       "      <th>geometry</th>\n",
       "      <th>geometry_group</th>\n",
       "    </tr>\n",
       "    <tr>\n",
       "      <th>geometry_group_copy</th>\n",
       "      <th></th>\n",
       "      <th></th>\n",
       "    </tr>\n",
       "  </thead>\n",
       "  <tbody>\n",
       "    <tr>\n",
       "      <th>0</th>\n",
       "      <td>(LINESTRING (32.23592856349511 30.880802110121...</td>\n",
       "      <td>0</td>\n",
       "    </tr>\n",
       "    <tr>\n",
       "      <th>1</th>\n",
       "      <td>LINESTRING (27.36131703823457 30.7937046138648...</td>\n",
       "      <td>1</td>\n",
       "    </tr>\n",
       "    <tr>\n",
       "      <th>2</th>\n",
       "      <td>LINESTRING (28.99847059899493 30.6683881323825...</td>\n",
       "      <td>2</td>\n",
       "    </tr>\n",
       "    <tr>\n",
       "      <th>3</th>\n",
       "      <td>LINESTRING (28.16840064225422 30.6357947070989...</td>\n",
       "      <td>3</td>\n",
       "    </tr>\n",
       "    <tr>\n",
       "      <th>4</th>\n",
       "      <td>(LINESTRING (32.56729025076923 30.174823195219...</td>\n",
       "      <td>4</td>\n",
       "    </tr>\n",
       "    <tr>\n",
       "      <th>5</th>\n",
       "      <td>LINESTRING (30.40176689316669 30.2761326669720...</td>\n",
       "      <td>5</td>\n",
       "    </tr>\n",
       "    <tr>\n",
       "      <th>6</th>\n",
       "      <td>(LINESTRING (31.91423985992394 30.131198343100...</td>\n",
       "      <td>6</td>\n",
       "    </tr>\n",
       "    <tr>\n",
       "      <th>7</th>\n",
       "      <td>LINESTRING (25.5572082631426 31.30988128546547...</td>\n",
       "      <td>7</td>\n",
       "    </tr>\n",
       "    <tr>\n",
       "      <th>8</th>\n",
       "      <td>LINESTRING (26.28007659743832 31.0197519763545...</td>\n",
       "      <td>8</td>\n",
       "    </tr>\n",
       "    <tr>\n",
       "      <th>9</th>\n",
       "      <td>(LINESTRING (29.97812733339701 30.763012436616...</td>\n",
       "      <td>9</td>\n",
       "    </tr>\n",
       "    <tr>\n",
       "      <th>10</th>\n",
       "      <td>(LINESTRING (31.40028443044771 31.160487442213...</td>\n",
       "      <td>10</td>\n",
       "    </tr>\n",
       "    <tr>\n",
       "      <th>11</th>\n",
       "      <td>LINESTRING (26.55665909824944 31.2075568492713...</td>\n",
       "      <td>11</td>\n",
       "    </tr>\n",
       "    <tr>\n",
       "      <th>12</th>\n",
       "      <td>(LINESTRING (33.40686460505255 20.316457291826...</td>\n",
       "      <td>12</td>\n",
       "    </tr>\n",
       "  </tbody>\n",
       "</table>\n",
       "</div>"
      ],
      "text/plain": [
       "                                                              geometry  \\\n",
       "geometry_group_copy                                                      \n",
       "0                    (LINESTRING (32.23592856349511 30.880802110121...   \n",
       "1                    LINESTRING (27.36131703823457 30.7937046138648...   \n",
       "2                    LINESTRING (28.99847059899493 30.6683881323825...   \n",
       "3                    LINESTRING (28.16840064225422 30.6357947070989...   \n",
       "4                    (LINESTRING (32.56729025076923 30.174823195219...   \n",
       "5                    LINESTRING (30.40176689316669 30.2761326669720...   \n",
       "6                    (LINESTRING (31.91423985992394 30.131198343100...   \n",
       "7                    LINESTRING (25.5572082631426 31.30988128546547...   \n",
       "8                    LINESTRING (26.28007659743832 31.0197519763545...   \n",
       "9                    (LINESTRING (29.97812733339701 30.763012436616...   \n",
       "10                   (LINESTRING (31.40028443044771 31.160487442213...   \n",
       "11                   LINESTRING (26.55665909824944 31.2075568492713...   \n",
       "12                   (LINESTRING (33.40686460505255 20.316457291826...   \n",
       "\n",
       "                     geometry_group  \n",
       "geometry_group_copy                  \n",
       "0                                 0  \n",
       "1                                 1  \n",
       "2                                 2  \n",
       "3                                 3  \n",
       "4                                 4  \n",
       "5                                 5  \n",
       "6                                 6  \n",
       "7                                 7  \n",
       "8                                 8  \n",
       "9                                 9  \n",
       "10                               10  \n",
       "11                               11  \n",
       "12                               12  "
      ]
     },
     "execution_count": 46,
     "metadata": {},
     "output_type": "execute_result"
    }
   ],
   "source": [
    "gdf_streams_grouped_simple"
   ]
  },
  {
   "cell_type": "code",
   "execution_count": 47,
   "metadata": {},
   "outputs": [
    {
     "name": "stdout",
     "output_type": "stream",
     "text": [
      "CPU times: user 7.41 s, sys: 4 ms, total: 7.41 s\n",
      "Wall time: 7.41 s\n"
     ]
    }
   ],
   "source": [
    "%%time\n",
    "gdf_test = gpd.sjoin(gdf_basins, gdf_streams_grouped_simple, how=\"left\", op='intersects')"
   ]
  },
  {
   "cell_type": "code",
   "execution_count": 48,
   "metadata": {},
   "outputs": [
    {
     "data": {
      "text/plain": [
       "Index(['Accum_Area', 'Ave_Elev', 'Ave_Slp', 'Basin_NO', 'Cntry_1',\n",
       "       'Cntry_1_Rt', 'Cntry_2', 'Cntry_2_Rt', 'Cntry_3', 'Cntry_3_Rt',\n",
       "       'Cntry_4', 'Cntry_4_Rt', 'Cntry_5', 'Cntry_5_Rt', 'Cntyr_2_Rt',\n",
       "       'Dwn_Pfa_Co', 'GDBD_ID', 'LULC_1', 'LULC_10', 'LULC_11', 'LULC_12',\n",
       "       'LULC_13', 'LULC_14', 'LULC_15', 'LULC_16', 'LULC_17', 'LULC_2',\n",
       "       'LULC_3', 'LULC_4', 'LULC_5', 'LULC_6', 'LULC_7', 'LULC_8', 'LULC_9',\n",
       "       'OBJECTID', 'Pfa_Code', 'Pop', 'Pop_Dnsty', 'Region_NO', 'Shape_Area',\n",
       "       'Shape_Leng', 'SubRegion_', 'geometry', 'index_right',\n",
       "       'geometry_group'],\n",
       "      dtype='object')"
      ]
     },
     "execution_count": 48,
     "metadata": {},
     "output_type": "execute_result"
    }
   ],
   "source": [
    "gdf_test.columns"
   ]
  },
  {
   "cell_type": "code",
   "execution_count": 49,
   "metadata": {},
   "outputs": [],
   "source": [
    "gdf_test_simple = gpd.GeoDataFrame(gdf_test[[\"geometry_group\",\"GDBD_ID\"]],\n",
    "                                   geometry=gdf_test.geometry)"
   ]
  },
  {
   "cell_type": "code",
   "execution_count": 50,
   "metadata": {},
   "outputs": [],
   "source": [
    "gdf_match = gdf_test_simple.loc[gdf_test[\"geometry_group\"]>=0]"
   ]
  },
  {
   "cell_type": "code",
   "execution_count": 51,
   "metadata": {},
   "outputs": [
    {
     "data": {
      "text/html": [
       "<div>\n",
       "<style>\n",
       "    .dataframe thead tr:only-child th {\n",
       "        text-align: right;\n",
       "    }\n",
       "\n",
       "    .dataframe thead th {\n",
       "        text-align: left;\n",
       "    }\n",
       "\n",
       "    .dataframe tbody tr th {\n",
       "        vertical-align: top;\n",
       "    }\n",
       "</style>\n",
       "<table border=\"1\" class=\"dataframe\">\n",
       "  <thead>\n",
       "    <tr>\n",
       "      <th></th>\n",
       "      <th colspan=\"2\" halign=\"left\">geometry_group</th>\n",
       "    </tr>\n",
       "    <tr>\n",
       "      <th></th>\n",
       "      <th>mean</th>\n",
       "      <th>count</th>\n",
       "    </tr>\n",
       "    <tr>\n",
       "      <th>GDBD_ID</th>\n",
       "      <th></th>\n",
       "      <th></th>\n",
       "    </tr>\n",
       "  </thead>\n",
       "  <tbody>\n",
       "    <tr>\n",
       "      <th>1.0</th>\n",
       "      <td>8.000000</td>\n",
       "      <td>1</td>\n",
       "    </tr>\n",
       "    <tr>\n",
       "      <th>2.0</th>\n",
       "      <td>7.000000</td>\n",
       "      <td>1</td>\n",
       "    </tr>\n",
       "    <tr>\n",
       "      <th>3.0</th>\n",
       "      <td>11.000000</td>\n",
       "      <td>1</td>\n",
       "    </tr>\n",
       "    <tr>\n",
       "      <th>4.0</th>\n",
       "      <td>1.000000</td>\n",
       "      <td>1</td>\n",
       "    </tr>\n",
       "    <tr>\n",
       "      <th>5.0</th>\n",
       "      <td>3.000000</td>\n",
       "      <td>1</td>\n",
       "    </tr>\n",
       "    <tr>\n",
       "      <th>6.0</th>\n",
       "      <td>2.000000</td>\n",
       "      <td>1</td>\n",
       "    </tr>\n",
       "    <tr>\n",
       "      <th>7.0</th>\n",
       "      <td>5.000000</td>\n",
       "      <td>1</td>\n",
       "    </tr>\n",
       "    <tr>\n",
       "      <th>8.0</th>\n",
       "      <td>6.142857</td>\n",
       "      <td>7</td>\n",
       "    </tr>\n",
       "    <tr>\n",
       "      <th>9.0</th>\n",
       "      <td>12.000000</td>\n",
       "      <td>1</td>\n",
       "    </tr>\n",
       "    <tr>\n",
       "      <th>10.0</th>\n",
       "      <td>12.000000</td>\n",
       "      <td>1</td>\n",
       "    </tr>\n",
       "    <tr>\n",
       "      <th>11.0</th>\n",
       "      <td>12.000000</td>\n",
       "      <td>1</td>\n",
       "    </tr>\n",
       "    <tr>\n",
       "      <th>12.0</th>\n",
       "      <td>12.000000</td>\n",
       "      <td>1</td>\n",
       "    </tr>\n",
       "    <tr>\n",
       "      <th>13.0</th>\n",
       "      <td>12.000000</td>\n",
       "      <td>1</td>\n",
       "    </tr>\n",
       "    <tr>\n",
       "      <th>14.0</th>\n",
       "      <td>12.000000</td>\n",
       "      <td>1</td>\n",
       "    </tr>\n",
       "    <tr>\n",
       "      <th>15.0</th>\n",
       "      <td>12.000000</td>\n",
       "      <td>1</td>\n",
       "    </tr>\n",
       "    <tr>\n",
       "      <th>16.0</th>\n",
       "      <td>12.000000</td>\n",
       "      <td>1</td>\n",
       "    </tr>\n",
       "    <tr>\n",
       "      <th>17.0</th>\n",
       "      <td>12.000000</td>\n",
       "      <td>1</td>\n",
       "    </tr>\n",
       "    <tr>\n",
       "      <th>18.0</th>\n",
       "      <td>12.000000</td>\n",
       "      <td>1</td>\n",
       "    </tr>\n",
       "    <tr>\n",
       "      <th>19.0</th>\n",
       "      <td>12.000000</td>\n",
       "      <td>1</td>\n",
       "    </tr>\n",
       "    <tr>\n",
       "      <th>20.0</th>\n",
       "      <td>12.000000</td>\n",
       "      <td>1</td>\n",
       "    </tr>\n",
       "    <tr>\n",
       "      <th>21.0</th>\n",
       "      <td>12.000000</td>\n",
       "      <td>1</td>\n",
       "    </tr>\n",
       "    <tr>\n",
       "      <th>22.0</th>\n",
       "      <td>12.000000</td>\n",
       "      <td>1</td>\n",
       "    </tr>\n",
       "    <tr>\n",
       "      <th>23.0</th>\n",
       "      <td>12.000000</td>\n",
       "      <td>1</td>\n",
       "    </tr>\n",
       "    <tr>\n",
       "      <th>24.0</th>\n",
       "      <td>12.000000</td>\n",
       "      <td>1</td>\n",
       "    </tr>\n",
       "    <tr>\n",
       "      <th>25.0</th>\n",
       "      <td>12.000000</td>\n",
       "      <td>1</td>\n",
       "    </tr>\n",
       "    <tr>\n",
       "      <th>26.0</th>\n",
       "      <td>12.000000</td>\n",
       "      <td>1</td>\n",
       "    </tr>\n",
       "    <tr>\n",
       "      <th>27.0</th>\n",
       "      <td>12.000000</td>\n",
       "      <td>1</td>\n",
       "    </tr>\n",
       "    <tr>\n",
       "      <th>28.0</th>\n",
       "      <td>12.000000</td>\n",
       "      <td>1</td>\n",
       "    </tr>\n",
       "    <tr>\n",
       "      <th>29.0</th>\n",
       "      <td>12.000000</td>\n",
       "      <td>1</td>\n",
       "    </tr>\n",
       "    <tr>\n",
       "      <th>30.0</th>\n",
       "      <td>12.000000</td>\n",
       "      <td>1</td>\n",
       "    </tr>\n",
       "    <tr>\n",
       "      <th>...</th>\n",
       "      <td>...</td>\n",
       "      <td>...</td>\n",
       "    </tr>\n",
       "    <tr>\n",
       "      <th>174.0</th>\n",
       "      <td>12.000000</td>\n",
       "      <td>1</td>\n",
       "    </tr>\n",
       "    <tr>\n",
       "      <th>175.0</th>\n",
       "      <td>12.000000</td>\n",
       "      <td>1</td>\n",
       "    </tr>\n",
       "    <tr>\n",
       "      <th>176.0</th>\n",
       "      <td>12.000000</td>\n",
       "      <td>1</td>\n",
       "    </tr>\n",
       "    <tr>\n",
       "      <th>177.0</th>\n",
       "      <td>12.000000</td>\n",
       "      <td>1</td>\n",
       "    </tr>\n",
       "    <tr>\n",
       "      <th>178.0</th>\n",
       "      <td>12.000000</td>\n",
       "      <td>1</td>\n",
       "    </tr>\n",
       "    <tr>\n",
       "      <th>179.0</th>\n",
       "      <td>12.000000</td>\n",
       "      <td>1</td>\n",
       "    </tr>\n",
       "    <tr>\n",
       "      <th>180.0</th>\n",
       "      <td>12.000000</td>\n",
       "      <td>1</td>\n",
       "    </tr>\n",
       "    <tr>\n",
       "      <th>181.0</th>\n",
       "      <td>12.000000</td>\n",
       "      <td>1</td>\n",
       "    </tr>\n",
       "    <tr>\n",
       "      <th>182.0</th>\n",
       "      <td>12.000000</td>\n",
       "      <td>1</td>\n",
       "    </tr>\n",
       "    <tr>\n",
       "      <th>183.0</th>\n",
       "      <td>12.000000</td>\n",
       "      <td>1</td>\n",
       "    </tr>\n",
       "    <tr>\n",
       "      <th>184.0</th>\n",
       "      <td>12.000000</td>\n",
       "      <td>1</td>\n",
       "    </tr>\n",
       "    <tr>\n",
       "      <th>185.0</th>\n",
       "      <td>12.000000</td>\n",
       "      <td>1</td>\n",
       "    </tr>\n",
       "    <tr>\n",
       "      <th>186.0</th>\n",
       "      <td>12.000000</td>\n",
       "      <td>1</td>\n",
       "    </tr>\n",
       "    <tr>\n",
       "      <th>187.0</th>\n",
       "      <td>12.000000</td>\n",
       "      <td>1</td>\n",
       "    </tr>\n",
       "    <tr>\n",
       "      <th>188.0</th>\n",
       "      <td>12.000000</td>\n",
       "      <td>1</td>\n",
       "    </tr>\n",
       "    <tr>\n",
       "      <th>189.0</th>\n",
       "      <td>12.000000</td>\n",
       "      <td>1</td>\n",
       "    </tr>\n",
       "    <tr>\n",
       "      <th>190.0</th>\n",
       "      <td>12.000000</td>\n",
       "      <td>1</td>\n",
       "    </tr>\n",
       "    <tr>\n",
       "      <th>191.0</th>\n",
       "      <td>12.000000</td>\n",
       "      <td>1</td>\n",
       "    </tr>\n",
       "    <tr>\n",
       "      <th>192.0</th>\n",
       "      <td>12.000000</td>\n",
       "      <td>1</td>\n",
       "    </tr>\n",
       "    <tr>\n",
       "      <th>193.0</th>\n",
       "      <td>12.000000</td>\n",
       "      <td>1</td>\n",
       "    </tr>\n",
       "    <tr>\n",
       "      <th>194.0</th>\n",
       "      <td>12.000000</td>\n",
       "      <td>1</td>\n",
       "    </tr>\n",
       "    <tr>\n",
       "      <th>195.0</th>\n",
       "      <td>12.000000</td>\n",
       "      <td>1</td>\n",
       "    </tr>\n",
       "    <tr>\n",
       "      <th>196.0</th>\n",
       "      <td>12.000000</td>\n",
       "      <td>1</td>\n",
       "    </tr>\n",
       "    <tr>\n",
       "      <th>197.0</th>\n",
       "      <td>12.000000</td>\n",
       "      <td>1</td>\n",
       "    </tr>\n",
       "    <tr>\n",
       "      <th>198.0</th>\n",
       "      <td>12.000000</td>\n",
       "      <td>1</td>\n",
       "    </tr>\n",
       "    <tr>\n",
       "      <th>199.0</th>\n",
       "      <td>12.000000</td>\n",
       "      <td>1</td>\n",
       "    </tr>\n",
       "    <tr>\n",
       "      <th>200.0</th>\n",
       "      <td>12.000000</td>\n",
       "      <td>1</td>\n",
       "    </tr>\n",
       "    <tr>\n",
       "      <th>3763.0</th>\n",
       "      <td>8.000000</td>\n",
       "      <td>1</td>\n",
       "    </tr>\n",
       "    <tr>\n",
       "      <th>3764.0</th>\n",
       "      <td>8.000000</td>\n",
       "      <td>1</td>\n",
       "    </tr>\n",
       "    <tr>\n",
       "      <th>46979.0</th>\n",
       "      <td>4.000000</td>\n",
       "      <td>1</td>\n",
       "    </tr>\n",
       "  </tbody>\n",
       "</table>\n",
       "<p>203 rows × 2 columns</p>\n",
       "</div>"
      ],
      "text/plain": [
       "        geometry_group      \n",
       "                  mean count\n",
       "GDBD_ID                     \n",
       "1.0           8.000000     1\n",
       "2.0           7.000000     1\n",
       "3.0          11.000000     1\n",
       "4.0           1.000000     1\n",
       "5.0           3.000000     1\n",
       "6.0           2.000000     1\n",
       "7.0           5.000000     1\n",
       "8.0           6.142857     7\n",
       "9.0          12.000000     1\n",
       "10.0         12.000000     1\n",
       "11.0         12.000000     1\n",
       "12.0         12.000000     1\n",
       "13.0         12.000000     1\n",
       "14.0         12.000000     1\n",
       "15.0         12.000000     1\n",
       "16.0         12.000000     1\n",
       "17.0         12.000000     1\n",
       "18.0         12.000000     1\n",
       "19.0         12.000000     1\n",
       "20.0         12.000000     1\n",
       "21.0         12.000000     1\n",
       "22.0         12.000000     1\n",
       "23.0         12.000000     1\n",
       "24.0         12.000000     1\n",
       "25.0         12.000000     1\n",
       "26.0         12.000000     1\n",
       "27.0         12.000000     1\n",
       "28.0         12.000000     1\n",
       "29.0         12.000000     1\n",
       "30.0         12.000000     1\n",
       "...                ...   ...\n",
       "174.0        12.000000     1\n",
       "175.0        12.000000     1\n",
       "176.0        12.000000     1\n",
       "177.0        12.000000     1\n",
       "178.0        12.000000     1\n",
       "179.0        12.000000     1\n",
       "180.0        12.000000     1\n",
       "181.0        12.000000     1\n",
       "182.0        12.000000     1\n",
       "183.0        12.000000     1\n",
       "184.0        12.000000     1\n",
       "185.0        12.000000     1\n",
       "186.0        12.000000     1\n",
       "187.0        12.000000     1\n",
       "188.0        12.000000     1\n",
       "189.0        12.000000     1\n",
       "190.0        12.000000     1\n",
       "191.0        12.000000     1\n",
       "192.0        12.000000     1\n",
       "193.0        12.000000     1\n",
       "194.0        12.000000     1\n",
       "195.0        12.000000     1\n",
       "196.0        12.000000     1\n",
       "197.0        12.000000     1\n",
       "198.0        12.000000     1\n",
       "199.0        12.000000     1\n",
       "200.0        12.000000     1\n",
       "3763.0        8.000000     1\n",
       "3764.0        8.000000     1\n",
       "46979.0       4.000000     1\n",
       "\n",
       "[203 rows x 2 columns]"
      ]
     },
     "execution_count": 51,
     "metadata": {},
     "output_type": "execute_result"
    }
   ],
   "source": [
    "gdf_match.groupby(['GDBD_ID']).agg(['mean', 'count'])"
   ]
  },
  {
   "cell_type": "code",
   "execution_count": 52,
   "metadata": {
    "collapsed": true
   },
   "outputs": [],
   "source": [
    "gdf_deltas = gdf_match.loc[gdf_match[\"geometry_group\"]>=0]"
   ]
  },
  {
   "cell_type": "code",
   "execution_count": 53,
   "metadata": {},
   "outputs": [
    {
     "data": {
      "text/html": [
       "<div>\n",
       "<style>\n",
       "    .dataframe thead tr:only-child th {\n",
       "        text-align: right;\n",
       "    }\n",
       "\n",
       "    .dataframe thead th {\n",
       "        text-align: left;\n",
       "    }\n",
       "\n",
       "    .dataframe tbody tr th {\n",
       "        vertical-align: top;\n",
       "    }\n",
       "</style>\n",
       "<table border=\"1\" class=\"dataframe\">\n",
       "  <thead>\n",
       "    <tr style=\"text-align: right;\">\n",
       "      <th></th>\n",
       "      <th>geometry_group</th>\n",
       "      <th>GDBD_ID</th>\n",
       "      <th>geometry</th>\n",
       "    </tr>\n",
       "  </thead>\n",
       "  <tbody>\n",
       "    <tr>\n",
       "      <th>6563</th>\n",
       "      <td>8.0</td>\n",
       "      <td>1.0</td>\n",
       "      <td>POLYGON ((26.44199696356858 31.17308236804826,...</td>\n",
       "    </tr>\n",
       "    <tr>\n",
       "      <th>6564</th>\n",
       "      <td>7.0</td>\n",
       "      <td>2.0</td>\n",
       "      <td>POLYGON ((25.94694098147164 31.10916563448658,...</td>\n",
       "    </tr>\n",
       "    <tr>\n",
       "      <th>8272</th>\n",
       "      <td>12.0</td>\n",
       "      <td>27.0</td>\n",
       "      <td>POLYGON ((30.13305330667534 27.76536870684649,...</td>\n",
       "    </tr>\n",
       "    <tr>\n",
       "      <th>8273</th>\n",
       "      <td>12.0</td>\n",
       "      <td>28.0</td>\n",
       "      <td>POLYGON ((30.07181247813452 27.74895471038016,...</td>\n",
       "    </tr>\n",
       "    <tr>\n",
       "      <th>8274</th>\n",
       "      <td>12.0</td>\n",
       "      <td>29.0</td>\n",
       "      <td>POLYGON ((30.08385096938841 27.77600880219996,...</td>\n",
       "    </tr>\n",
       "    <tr>\n",
       "      <th>8275</th>\n",
       "      <td>12.0</td>\n",
       "      <td>30.0</td>\n",
       "      <td>POLYGON ((30.07181247813452 27.74895471038016,...</td>\n",
       "    </tr>\n",
       "    <tr>\n",
       "      <th>8276</th>\n",
       "      <td>12.0</td>\n",
       "      <td>31.0</td>\n",
       "      <td>POLYGON ((30.14164900221842 27.74682671914119,...</td>\n",
       "    </tr>\n",
       "    <tr>\n",
       "      <th>8277</th>\n",
       "      <td>12.0</td>\n",
       "      <td>32.0</td>\n",
       "      <td>POLYGON ((30.31974404631066 27.06550225587304,...</td>\n",
       "    </tr>\n",
       "    <tr>\n",
       "      <th>8278</th>\n",
       "      <td>12.0</td>\n",
       "      <td>33.0</td>\n",
       "      <td>POLYGON ((29.9815280476925 27.20354383020021, ...</td>\n",
       "    </tr>\n",
       "    <tr>\n",
       "      <th>8279</th>\n",
       "      <td>12.0</td>\n",
       "      <td>34.0</td>\n",
       "      <td>POLYGON ((29.92190882210782 27.20531443938485,...</td>\n",
       "    </tr>\n",
       "    <tr>\n",
       "      <th>8280</th>\n",
       "      <td>12.0</td>\n",
       "      <td>35.0</td>\n",
       "      <td>POLYGON ((29.9815280476925 27.20354383020021, ...</td>\n",
       "    </tr>\n",
       "    <tr>\n",
       "      <th>8281</th>\n",
       "      <td>12.0</td>\n",
       "      <td>36.0</td>\n",
       "      <td>POLYGON ((30.31974404631066 27.06550225587304,...</td>\n",
       "    </tr>\n",
       "    <tr>\n",
       "      <th>8282</th>\n",
       "      <td>12.0</td>\n",
       "      <td>57.0</td>\n",
       "      <td>POLYGON ((30.93901444036914 28.19672635631801,...</td>\n",
       "    </tr>\n",
       "    <tr>\n",
       "      <th>8283</th>\n",
       "      <td>12.0</td>\n",
       "      <td>58.0</td>\n",
       "      <td>POLYGON ((30.95500974416232 27.29178660211283,...</td>\n",
       "    </tr>\n",
       "    <tr>\n",
       "      <th>8284</th>\n",
       "      <td>12.0</td>\n",
       "      <td>59.0</td>\n",
       "      <td>POLYGON ((31.40957812837405 27.47738128268198,...</td>\n",
       "    </tr>\n",
       "    <tr>\n",
       "      <th>8285</th>\n",
       "      <td>12.0</td>\n",
       "      <td>60.0</td>\n",
       "      <td>POLYGON ((31.44786336037353 27.33916013463313,...</td>\n",
       "    </tr>\n",
       "    <tr>\n",
       "      <th>8286</th>\n",
       "      <td>12.0</td>\n",
       "      <td>61.0</td>\n",
       "      <td>POLYGON ((32.30241816552837 27.29055005570644,...</td>\n",
       "    </tr>\n",
       "    <tr>\n",
       "      <th>8287</th>\n",
       "      <td>12.0</td>\n",
       "      <td>62.0</td>\n",
       "      <td>POLYGON ((31.50148820106037 27.38294914192637,...</td>\n",
       "    </tr>\n",
       "    <tr>\n",
       "      <th>8288</th>\n",
       "      <td>12.0</td>\n",
       "      <td>63.0</td>\n",
       "      <td>POLYGON ((31.92905476015402 27.58696385115845,...</td>\n",
       "    </tr>\n",
       "    <tr>\n",
       "      <th>8289</th>\n",
       "      <td>12.0</td>\n",
       "      <td>64.0</td>\n",
       "      <td>POLYGON ((32.43521985313845 27.43157177485033,...</td>\n",
       "    </tr>\n",
       "    <tr>\n",
       "      <th>8290</th>\n",
       "      <td>12.0</td>\n",
       "      <td>65.0</td>\n",
       "      <td>POLYGON ((31.5855795067006 27.19755133565824, ...</td>\n",
       "    </tr>\n",
       "    <tr>\n",
       "      <th>8291</th>\n",
       "      <td>12.0</td>\n",
       "      <td>66.0</td>\n",
       "      <td>POLYGON ((32.22234901961528 27.06550826072114,...</td>\n",
       "    </tr>\n",
       "    <tr>\n",
       "      <th>9785</th>\n",
       "      <td>12.0</td>\n",
       "      <td>139.0</td>\n",
       "      <td>POLYGON ((32.88559037883915 23.12619321866209,...</td>\n",
       "    </tr>\n",
       "    <tr>\n",
       "      <th>9786</th>\n",
       "      <td>12.0</td>\n",
       "      <td>140.0</td>\n",
       "      <td>POLYGON ((32.88559037883915 23.12619321866209,...</td>\n",
       "    </tr>\n",
       "    <tr>\n",
       "      <th>9787</th>\n",
       "      <td>12.0</td>\n",
       "      <td>141.0</td>\n",
       "      <td>POLYGON ((33.89508487151579 22.98957292148067,...</td>\n",
       "    </tr>\n",
       "    <tr>\n",
       "      <th>9788</th>\n",
       "      <td>12.0</td>\n",
       "      <td>142.0</td>\n",
       "      <td>POLYGON ((33.41619930575465 22.71799036613302,...</td>\n",
       "    </tr>\n",
       "    <tr>\n",
       "      <th>9789</th>\n",
       "      <td>12.0</td>\n",
       "      <td>143.0</td>\n",
       "      <td>POLYGON ((33.28112832357651 22.6053127853224, ...</td>\n",
       "    </tr>\n",
       "    <tr>\n",
       "      <th>9790</th>\n",
       "      <td>12.0</td>\n",
       "      <td>144.0</td>\n",
       "      <td>POLYGON ((34.05246936614797 23.01068161306956,...</td>\n",
       "    </tr>\n",
       "    <tr>\n",
       "      <th>9791</th>\n",
       "      <td>12.0</td>\n",
       "      <td>145.0</td>\n",
       "      <td>POLYGON ((33.86037498517506 22.57493478681973,...</td>\n",
       "    </tr>\n",
       "    <tr>\n",
       "      <th>9792</th>\n",
       "      <td>12.0</td>\n",
       "      <td>146.0</td>\n",
       "      <td>POLYGON ((34.14863223304107 22.99792247539735,...</td>\n",
       "    </tr>\n",
       "    <tr>\n",
       "      <th>...</th>\n",
       "      <td>...</td>\n",
       "      <td>...</td>\n",
       "      <td>...</td>\n",
       "    </tr>\n",
       "    <tr>\n",
       "      <th>10615</th>\n",
       "      <td>12.0</td>\n",
       "      <td>162.0</td>\n",
       "      <td>POLYGON ((33.20918133341955 21.80337949483501,...</td>\n",
       "    </tr>\n",
       "    <tr>\n",
       "      <th>10616</th>\n",
       "      <td>12.0</td>\n",
       "      <td>163.0</td>\n",
       "      <td>POLYGON ((33.11852550280459 21.75235189343621,...</td>\n",
       "    </tr>\n",
       "    <tr>\n",
       "      <th>10617</th>\n",
       "      <td>12.0</td>\n",
       "      <td>164.0</td>\n",
       "      <td>POLYGON ((33.18866099590792 21.65956312168847,...</td>\n",
       "    </tr>\n",
       "    <tr>\n",
       "      <th>10618</th>\n",
       "      <td>12.0</td>\n",
       "      <td>165.0</td>\n",
       "      <td>POLYGON ((33.39649033926271 22.10392717088238,...</td>\n",
       "    </tr>\n",
       "    <tr>\n",
       "      <th>10619</th>\n",
       "      <td>12.0</td>\n",
       "      <td>166.0</td>\n",
       "      <td>POLYGON ((33.42214125356607 21.68743663824079,...</td>\n",
       "    </tr>\n",
       "    <tr>\n",
       "      <th>10620</th>\n",
       "      <td>12.0</td>\n",
       "      <td>167.0</td>\n",
       "      <td>POLYGON ((34.01081854438154 21.44936378640959,...</td>\n",
       "    </tr>\n",
       "    <tr>\n",
       "      <th>10621</th>\n",
       "      <td>12.0</td>\n",
       "      <td>168.0</td>\n",
       "      <td>POLYGON ((33.82945579864884 21.34773937021466,...</td>\n",
       "    </tr>\n",
       "    <tr>\n",
       "      <th>10622</th>\n",
       "      <td>12.0</td>\n",
       "      <td>169.0</td>\n",
       "      <td>POLYGON ((33.31461910149662 21.28492005276749,...</td>\n",
       "    </tr>\n",
       "    <tr>\n",
       "      <th>10623</th>\n",
       "      <td>12.0</td>\n",
       "      <td>170.0</td>\n",
       "      <td>POLYGON ((33.40785356879261 21.24553498237715,...</td>\n",
       "    </tr>\n",
       "    <tr>\n",
       "      <th>10624</th>\n",
       "      <td>12.0</td>\n",
       "      <td>171.0</td>\n",
       "      <td>POLYGON ((34.07664147135647 21.42887299679829,...</td>\n",
       "    </tr>\n",
       "    <tr>\n",
       "      <th>10625</th>\n",
       "      <td>12.0</td>\n",
       "      <td>184.0</td>\n",
       "      <td>POLYGON ((34.93573909192084 20.86418025010397,...</td>\n",
       "    </tr>\n",
       "    <tr>\n",
       "      <th>10626</th>\n",
       "      <td>12.0</td>\n",
       "      <td>185.0</td>\n",
       "      <td>POLYGON ((32.84455405193754 23.34497979956161,...</td>\n",
       "    </tr>\n",
       "    <tr>\n",
       "      <th>10627</th>\n",
       "      <td>12.0</td>\n",
       "      <td>186.0</td>\n",
       "      <td>POLYGON ((32.70783220878156 22.32700878159292,...</td>\n",
       "    </tr>\n",
       "    <tr>\n",
       "      <th>10628</th>\n",
       "      <td>12.0</td>\n",
       "      <td>187.0</td>\n",
       "      <td>POLYGON ((32.26067701716065 23.08437238231675,...</td>\n",
       "    </tr>\n",
       "    <tr>\n",
       "      <th>10629</th>\n",
       "      <td>12.0</td>\n",
       "      <td>188.0</td>\n",
       "      <td>POLYGON ((31.94994981715157 22.94975683216834,...</td>\n",
       "    </tr>\n",
       "    <tr>\n",
       "      <th>10630</th>\n",
       "      <td>12.0</td>\n",
       "      <td>189.0</td>\n",
       "      <td>POLYGON ((31.86354245414089 22.55412992529436,...</td>\n",
       "    </tr>\n",
       "    <tr>\n",
       "      <th>10631</th>\n",
       "      <td>12.0</td>\n",
       "      <td>190.0</td>\n",
       "      <td>POLYGON ((31.85338220418546 22.4096242502905, ...</td>\n",
       "    </tr>\n",
       "    <tr>\n",
       "      <th>10632</th>\n",
       "      <td>12.0</td>\n",
       "      <td>191.0</td>\n",
       "      <td>POLYGON ((31.50150387707702 22.4931585796943, ...</td>\n",
       "    </tr>\n",
       "    <tr>\n",
       "      <th>10633</th>\n",
       "      <td>12.0</td>\n",
       "      <td>192.0</td>\n",
       "      <td>POLYGON ((31.77710048409358 22.28534917625136,...</td>\n",
       "    </tr>\n",
       "    <tr>\n",
       "      <th>10634</th>\n",
       "      <td>12.0</td>\n",
       "      <td>193.0</td>\n",
       "      <td>POLYGON ((31.62477084629079 22.31730501466257,...</td>\n",
       "    </tr>\n",
       "    <tr>\n",
       "      <th>10635</th>\n",
       "      <td>12.0</td>\n",
       "      <td>194.0</td>\n",
       "      <td>POLYGON ((31.64627744045572 22.20802500773663,...</td>\n",
       "    </tr>\n",
       "    <tr>\n",
       "      <th>10636</th>\n",
       "      <td>12.0</td>\n",
       "      <td>195.0</td>\n",
       "      <td>POLYGON ((31.54277520247828 22.24745516012966,...</td>\n",
       "    </tr>\n",
       "    <tr>\n",
       "      <th>10637</th>\n",
       "      <td>12.0</td>\n",
       "      <td>196.0</td>\n",
       "      <td>POLYGON ((31.38143261362766 22.28864216293924,...</td>\n",
       "    </tr>\n",
       "    <tr>\n",
       "      <th>10638</th>\n",
       "      <td>12.0</td>\n",
       "      <td>197.0</td>\n",
       "      <td>POLYGON ((31.41994395773483 22.14263974411532,...</td>\n",
       "    </tr>\n",
       "    <tr>\n",
       "      <th>10639</th>\n",
       "      <td>12.0</td>\n",
       "      <td>198.0</td>\n",
       "      <td>POLYGON ((31.53960355308093 21.91274819323266,...</td>\n",
       "    </tr>\n",
       "    <tr>\n",
       "      <th>10640</th>\n",
       "      <td>12.0</td>\n",
       "      <td>199.0</td>\n",
       "      <td>POLYGON ((31.86323357029466 21.71272277504425,...</td>\n",
       "    </tr>\n",
       "    <tr>\n",
       "      <th>10641</th>\n",
       "      <td>12.0</td>\n",
       "      <td>200.0</td>\n",
       "      <td>POLYGON ((32.3650225971324 21.0370260638123, 3...</td>\n",
       "    </tr>\n",
       "    <tr>\n",
       "      <th>14245</th>\n",
       "      <td>8.0</td>\n",
       "      <td>3763.0</td>\n",
       "      <td>POLYGON ((26.3787895908789 31.51542650439225, ...</td>\n",
       "    </tr>\n",
       "    <tr>\n",
       "      <th>14246</th>\n",
       "      <td>8.0</td>\n",
       "      <td>3764.0</td>\n",
       "      <td>POLYGON ((26.53173616598975 31.49381304988158,...</td>\n",
       "    </tr>\n",
       "    <tr>\n",
       "      <th>46125</th>\n",
       "      <td>4.0</td>\n",
       "      <td>46979.0</td>\n",
       "      <td>POLYGON ((33.09071286541285 29.99111101580581,...</td>\n",
       "    </tr>\n",
       "  </tbody>\n",
       "</table>\n",
       "<p>209 rows × 3 columns</p>\n",
       "</div>"
      ],
      "text/plain": [
       "       geometry_group  GDBD_ID  \\\n",
       "6563              8.0      1.0   \n",
       "6564              7.0      2.0   \n",
       "8272             12.0     27.0   \n",
       "8273             12.0     28.0   \n",
       "8274             12.0     29.0   \n",
       "8275             12.0     30.0   \n",
       "8276             12.0     31.0   \n",
       "8277             12.0     32.0   \n",
       "8278             12.0     33.0   \n",
       "8279             12.0     34.0   \n",
       "8280             12.0     35.0   \n",
       "8281             12.0     36.0   \n",
       "8282             12.0     57.0   \n",
       "8283             12.0     58.0   \n",
       "8284             12.0     59.0   \n",
       "8285             12.0     60.0   \n",
       "8286             12.0     61.0   \n",
       "8287             12.0     62.0   \n",
       "8288             12.0     63.0   \n",
       "8289             12.0     64.0   \n",
       "8290             12.0     65.0   \n",
       "8291             12.0     66.0   \n",
       "9785             12.0    139.0   \n",
       "9786             12.0    140.0   \n",
       "9787             12.0    141.0   \n",
       "9788             12.0    142.0   \n",
       "9789             12.0    143.0   \n",
       "9790             12.0    144.0   \n",
       "9791             12.0    145.0   \n",
       "9792             12.0    146.0   \n",
       "...               ...      ...   \n",
       "10615            12.0    162.0   \n",
       "10616            12.0    163.0   \n",
       "10617            12.0    164.0   \n",
       "10618            12.0    165.0   \n",
       "10619            12.0    166.0   \n",
       "10620            12.0    167.0   \n",
       "10621            12.0    168.0   \n",
       "10622            12.0    169.0   \n",
       "10623            12.0    170.0   \n",
       "10624            12.0    171.0   \n",
       "10625            12.0    184.0   \n",
       "10626            12.0    185.0   \n",
       "10627            12.0    186.0   \n",
       "10628            12.0    187.0   \n",
       "10629            12.0    188.0   \n",
       "10630            12.0    189.0   \n",
       "10631            12.0    190.0   \n",
       "10632            12.0    191.0   \n",
       "10633            12.0    192.0   \n",
       "10634            12.0    193.0   \n",
       "10635            12.0    194.0   \n",
       "10636            12.0    195.0   \n",
       "10637            12.0    196.0   \n",
       "10638            12.0    197.0   \n",
       "10639            12.0    198.0   \n",
       "10640            12.0    199.0   \n",
       "10641            12.0    200.0   \n",
       "14245             8.0   3763.0   \n",
       "14246             8.0   3764.0   \n",
       "46125             4.0  46979.0   \n",
       "\n",
       "                                                geometry  \n",
       "6563   POLYGON ((26.44199696356858 31.17308236804826,...  \n",
       "6564   POLYGON ((25.94694098147164 31.10916563448658,...  \n",
       "8272   POLYGON ((30.13305330667534 27.76536870684649,...  \n",
       "8273   POLYGON ((30.07181247813452 27.74895471038016,...  \n",
       "8274   POLYGON ((30.08385096938841 27.77600880219996,...  \n",
       "8275   POLYGON ((30.07181247813452 27.74895471038016,...  \n",
       "8276   POLYGON ((30.14164900221842 27.74682671914119,...  \n",
       "8277   POLYGON ((30.31974404631066 27.06550225587304,...  \n",
       "8278   POLYGON ((29.9815280476925 27.20354383020021, ...  \n",
       "8279   POLYGON ((29.92190882210782 27.20531443938485,...  \n",
       "8280   POLYGON ((29.9815280476925 27.20354383020021, ...  \n",
       "8281   POLYGON ((30.31974404631066 27.06550225587304,...  \n",
       "8282   POLYGON ((30.93901444036914 28.19672635631801,...  \n",
       "8283   POLYGON ((30.95500974416232 27.29178660211283,...  \n",
       "8284   POLYGON ((31.40957812837405 27.47738128268198,...  \n",
       "8285   POLYGON ((31.44786336037353 27.33916013463313,...  \n",
       "8286   POLYGON ((32.30241816552837 27.29055005570644,...  \n",
       "8287   POLYGON ((31.50148820106037 27.38294914192637,...  \n",
       "8288   POLYGON ((31.92905476015402 27.58696385115845,...  \n",
       "8289   POLYGON ((32.43521985313845 27.43157177485033,...  \n",
       "8290   POLYGON ((31.5855795067006 27.19755133565824, ...  \n",
       "8291   POLYGON ((32.22234901961528 27.06550826072114,...  \n",
       "9785   POLYGON ((32.88559037883915 23.12619321866209,...  \n",
       "9786   POLYGON ((32.88559037883915 23.12619321866209,...  \n",
       "9787   POLYGON ((33.89508487151579 22.98957292148067,...  \n",
       "9788   POLYGON ((33.41619930575465 22.71799036613302,...  \n",
       "9789   POLYGON ((33.28112832357651 22.6053127853224, ...  \n",
       "9790   POLYGON ((34.05246936614797 23.01068161306956,...  \n",
       "9791   POLYGON ((33.86037498517506 22.57493478681973,...  \n",
       "9792   POLYGON ((34.14863223304107 22.99792247539735,...  \n",
       "...                                                  ...  \n",
       "10615  POLYGON ((33.20918133341955 21.80337949483501,...  \n",
       "10616  POLYGON ((33.11852550280459 21.75235189343621,...  \n",
       "10617  POLYGON ((33.18866099590792 21.65956312168847,...  \n",
       "10618  POLYGON ((33.39649033926271 22.10392717088238,...  \n",
       "10619  POLYGON ((33.42214125356607 21.68743663824079,...  \n",
       "10620  POLYGON ((34.01081854438154 21.44936378640959,...  \n",
       "10621  POLYGON ((33.82945579864884 21.34773937021466,...  \n",
       "10622  POLYGON ((33.31461910149662 21.28492005276749,...  \n",
       "10623  POLYGON ((33.40785356879261 21.24553498237715,...  \n",
       "10624  POLYGON ((34.07664147135647 21.42887299679829,...  \n",
       "10625  POLYGON ((34.93573909192084 20.86418025010397,...  \n",
       "10626  POLYGON ((32.84455405193754 23.34497979956161,...  \n",
       "10627  POLYGON ((32.70783220878156 22.32700878159292,...  \n",
       "10628  POLYGON ((32.26067701716065 23.08437238231675,...  \n",
       "10629  POLYGON ((31.94994981715157 22.94975683216834,...  \n",
       "10630  POLYGON ((31.86354245414089 22.55412992529436,...  \n",
       "10631  POLYGON ((31.85338220418546 22.4096242502905, ...  \n",
       "10632  POLYGON ((31.50150387707702 22.4931585796943, ...  \n",
       "10633  POLYGON ((31.77710048409358 22.28534917625136,...  \n",
       "10634  POLYGON ((31.62477084629079 22.31730501466257,...  \n",
       "10635  POLYGON ((31.64627744045572 22.20802500773663,...  \n",
       "10636  POLYGON ((31.54277520247828 22.24745516012966,...  \n",
       "10637  POLYGON ((31.38143261362766 22.28864216293924,...  \n",
       "10638  POLYGON ((31.41994395773483 22.14263974411532,...  \n",
       "10639  POLYGON ((31.53960355308093 21.91274819323266,...  \n",
       "10640  POLYGON ((31.86323357029466 21.71272277504425,...  \n",
       "10641  POLYGON ((32.3650225971324 21.0370260638123, 3...  \n",
       "14245  POLYGON ((26.3787895908789 31.51542650439225, ...  \n",
       "14246  POLYGON ((26.53173616598975 31.49381304988158,...  \n",
       "46125  POLYGON ((33.09071286541285 29.99111101580581,...  \n",
       "\n",
       "[209 rows x 3 columns]"
      ]
     },
     "execution_count": 53,
     "metadata": {},
     "output_type": "execute_result"
    }
   ],
   "source": [
    "gdf_deltas"
   ]
  },
  {
   "cell_type": "code",
   "execution_count": null,
   "metadata": {},
   "outputs": [],
   "source": [
    "gdf_test[\"stream_group\"].unique()"
   ]
  },
  {
   "cell_type": "code",
   "execution_count": null,
   "metadata": {
    "collapsed": true
   },
   "outputs": [],
   "source": [
    "a = gdf_test.loc[gdf_test['stream_group'] > 0]"
   ]
  },
  {
   "cell_type": "code",
   "execution_count": null,
   "metadata": {},
   "outputs": [],
   "source": [
    "a"
   ]
  },
  {
   "cell_type": "code",
   "execution_count": null,
   "metadata": {
    "collapsed": true
   },
   "outputs": [],
   "source": [
    "output_path_shp = \"{}gdf_streams_group_V{:02.0f}.shp\".format(EC2_OUTPUT_PATH,OUTPUT_VERSION)\n",
    "print(output_path_shp)"
   ]
  },
  {
   "cell_type": "code",
   "execution_count": null,
   "metadata": {
    "collapsed": true
   },
   "outputs": [],
   "source": [
    "gdf_streams_group.to_file(output_path_shp,driver='ESRI Shapefile')"
   ]
  },
  {
   "cell_type": "code",
   "execution_count": null,
   "metadata": {
    "collapsed": true
   },
   "outputs": [],
   "source": [
    "!aws s3 cp --recursive {EC2_OUTPUT_PATH} {S3_OUTPUT_PATH}"
   ]
  },
  {
   "cell_type": "code",
   "execution_count": null,
   "metadata": {
    "collapsed": true
   },
   "outputs": [],
   "source": [
    "test = gdf_basins.loc[7:9]"
   ]
  },
  {
   "cell_type": "code",
   "execution_count": null,
   "metadata": {},
   "outputs": [],
   "source": [
    "gdf_basins"
   ]
  },
  {
   "cell_type": "code",
   "execution_count": null,
   "metadata": {
    "collapsed": true
   },
   "outputs": [],
   "source": []
  },
  {
   "cell_type": "code",
   "execution_count": null,
   "metadata": {
    "collapsed": true
   },
   "outputs": [],
   "source": [
    "gdf_test = gdf_out[1:100]"
   ]
  },
  {
   "cell_type": "code",
   "execution_count": null,
   "metadata": {
    "collapsed": true
   },
   "outputs": [],
   "source": [
    "gdf_test.plot()"
   ]
  },
  {
   "cell_type": "code",
   "execution_count": null,
   "metadata": {
    "collapsed": true
   },
   "outputs": [],
   "source": []
  },
  {
   "cell_type": "code",
   "execution_count": null,
   "metadata": {
    "collapsed": true
   },
   "outputs": [],
   "source": [
    "gdf_test.shape"
   ]
  },
  {
   "cell_type": "code",
   "execution_count": null,
   "metadata": {
    "collapsed": true
   },
   "outputs": [],
   "source": [
    "tiny_value = 0.01\n",
    "gdf_test_polygon = gdf_test.copy()\n",
    "gdf_test_polygon['geometry'] = gdf_test_polygon.geometry.buffer(tiny_value)"
   ]
  },
  {
   "cell_type": "code",
   "execution_count": null,
   "metadata": {
    "collapsed": true
   },
   "outputs": [],
   "source": [
    "gdf_test.head()"
   ]
  },
  {
   "cell_type": "code",
   "execution_count": null,
   "metadata": {
    "collapsed": true
   },
   "outputs": [],
   "source": [
    "gdf_test[\"group\"] = 1\n",
    "gdf_test_dissolved = gdf_test.dissolve(by=\"group\")\n",
    "gdf_test_out = explode(gdf_test_dissolved)\n",
    "gdf_test_out = gdf_test_out.reset_index()"
   ]
  },
  {
   "cell_type": "code",
   "execution_count": null,
   "metadata": {
    "collapsed": true
   },
   "outputs": [],
   "source": [
    "gdf_test_out"
   ]
  },
  {
   "cell_type": "code",
   "execution_count": null,
   "metadata": {
    "collapsed": true
   },
   "outputs": [],
   "source": [
    "gdf_test_out.plot(column=\"level_1\")"
   ]
  },
  {
   "cell_type": "code",
   "execution_count": null,
   "metadata": {
    "collapsed": true
   },
   "outputs": [],
   "source": [
    "gdf_test = gdf_test.reset_index()"
   ]
  },
  {
   "cell_type": "code",
   "execution_count": null,
   "metadata": {
    "collapsed": true
   },
   "outputs": [],
   "source": [
    "gdf_test2 = gdf_test.copy()"
   ]
  },
  {
   "cell_type": "code",
   "execution_count": null,
   "metadata": {
    "collapsed": true
   },
   "outputs": [],
   "source": [
    "gdf_test2.head()"
   ]
  },
  {
   "cell_type": "markdown",
   "metadata": {},
   "source": [
    "## Tiny buffer"
   ]
  },
  {
   "cell_type": "code",
   "execution_count": null,
   "metadata": {
    "collapsed": true
   },
   "outputs": [],
   "source": []
  },
  {
   "cell_type": "code",
   "execution_count": null,
   "metadata": {
    "collapsed": true
   },
   "outputs": [],
   "source": []
  },
  {
   "cell_type": "code",
   "execution_count": null,
   "metadata": {
    "collapsed": true
   },
   "outputs": [],
   "source": [
    "gdf_test2.head()"
   ]
  },
  {
   "cell_type": "code",
   "execution_count": null,
   "metadata": {
    "collapsed": true
   },
   "outputs": [],
   "source": [
    "gdf_test2.plot()"
   ]
  },
  {
   "cell_type": "markdown",
   "metadata": {},
   "source": [
    "## whatever"
   ]
  },
  {
   "cell_type": "code",
   "execution_count": null,
   "metadata": {
    "collapsed": true
   },
   "outputs": [],
   "source": [
    "intersection = gpd.overlay(gdf_test2,gdf_test2, how='intersection')"
   ]
  },
  {
   "cell_type": "code",
   "execution_count": null,
   "metadata": {
    "collapsed": true
   },
   "outputs": [],
   "source": []
  },
  {
   "cell_type": "code",
   "execution_count": null,
   "metadata": {
    "collapsed": true
   },
   "outputs": [],
   "source": []
  },
  {
   "cell_type": "code",
   "execution_count": null,
   "metadata": {
    "collapsed": true
   },
   "outputs": [],
   "source": []
  },
  {
   "cell_type": "code",
   "execution_count": null,
   "metadata": {
    "collapsed": true
   },
   "outputs": [],
   "source": []
  },
  {
   "cell_type": "code",
   "execution_count": null,
   "metadata": {
    "collapsed": true
   },
   "outputs": [],
   "source": []
  },
  {
   "cell_type": "code",
   "execution_count": null,
   "metadata": {
    "collapsed": true
   },
   "outputs": [],
   "source": []
  },
  {
   "cell_type": "code",
   "execution_count": null,
   "metadata": {
    "collapsed": true
   },
   "outputs": [],
   "source": []
  },
  {
   "cell_type": "code",
   "execution_count": null,
   "metadata": {
    "collapsed": true
   },
   "outputs": [],
   "source": [
    "gdf4 = gpd.sjoin(gdf_test, gdf_test2, how=\"inner\", op='intersects')"
   ]
  },
  {
   "cell_type": "code",
   "execution_count": null,
   "metadata": {
    "collapsed": true
   },
   "outputs": [],
   "source": [
    "gdf4.head()"
   ]
  },
  {
   "cell_type": "code",
   "execution_count": null,
   "metadata": {
    "collapsed": true
   },
   "outputs": [],
   "source": []
  },
  {
   "cell_type": "code",
   "execution_count": null,
   "metadata": {
    "collapsed": true
   },
   "outputs": [],
   "source": []
  },
  {
   "cell_type": "code",
   "execution_count": null,
   "metadata": {
    "collapsed": true
   },
   "outputs": [],
   "source": [
    "shape = \"streams\""
   ]
  },
  {
   "cell_type": "code",
   "execution_count": null,
   "metadata": {
    "collapsed": true
   },
   "outputs": [],
   "source": []
  },
  {
   "cell_type": "code",
   "execution_count": null,
   "metadata": {
    "collapsed": true
   },
   "outputs": [],
   "source": [
    "print(output_path_shp)"
   ]
  },
  {
   "cell_type": "code",
   "execution_count": null,
   "metadata": {
    "collapsed": true
   },
   "outputs": [],
   "source": []
  },
  {
   "cell_type": "code",
   "execution_count": null,
   "metadata": {
    "collapsed": true
   },
   "outputs": [],
   "source": []
  },
  {
   "cell_type": "code",
   "execution_count": null,
   "metadata": {
    "collapsed": true
   },
   "outputs": [],
   "source": [
    "end = datetime.datetime.now()\n",
    "elapsed = end - start\n",
    "print(elapsed)"
   ]
  },
  {
   "cell_type": "code",
   "execution_count": null,
   "metadata": {
    "collapsed": true
   },
   "outputs": [],
   "source": []
  }
 ],
 "metadata": {
  "kernelspec": {
   "display_name": "Python 35",
   "language": "python",
   "name": "python35"
  },
  "language_info": {
   "codemirror_mode": {
    "name": "ipython",
    "version": 3
   },
   "file_extension": ".py",
   "mimetype": "text/x-python",
   "name": "python",
   "nbconvert_exporter": "python",
   "pygments_lexer": "ipython3",
   "version": "3.5.4"
  }
 },
 "nbformat": 4,
 "nbformat_minor": 2
}
