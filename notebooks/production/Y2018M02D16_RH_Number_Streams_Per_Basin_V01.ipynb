{
 "cells": [
  {
   "cell_type": "markdown",
   "metadata": {},
   "source": [
    "### Y2018M02D16_RH_Number_Streams_Per_Basin_V01\n",
    "\n",
    "* Purpose of script: determine the number of streams per GDBD basin\n",
    "* Author: Rutger Hofste\n",
    "* Kernel used: python35\n",
    "* Date created: 20180216\n",
    "\n",
    "Strategy along these lines:\n",
    "[Strategy](https://gis.stackexchange.com/questions/132723/unsplit-dissolve-multiple-touching-lines-in-stream-network-using-arcgis-desktop)\n",
    "\n",
    "1. Explode multilines into single lines \n",
    "1. Tiny buffer around single lines\n",
    "1. Take Union\n",
    "1. Spatial join single line geodataframe and dissolved ID's \n",
    "1. Aggregate using polyline ID from previous step\n",
    "\n",
    "Geopandas is pa pretty inefficient implementation for this problem. Might move this script to postGIS or implement parallelization. \n",
    "\n"
   ]
  },
  {
   "cell_type": "code",
   "execution_count": 1,
   "metadata": {},
   "outputs": [
    {
     "name": "stdout",
     "output_type": "stream",
     "text": [
      "Y2018M02D20 UTC 11:40\n"
     ]
    },
    {
     "data": {
      "text/plain": [
       "'3.5.4 |Continuum Analytics, Inc.| (default, Aug 14 2017, 13:26:58) \\n[GCC 4.4.7 20120313 (Red Hat 4.4.7-1)]'"
      ]
     },
     "execution_count": 1,
     "metadata": {},
     "output_type": "execute_result"
    }
   ],
   "source": [
    "import time, datetime, sys\n",
    "dateString = time.strftime(\"Y%YM%mD%d\")\n",
    "timeString = time.strftime(\"UTC %H:%M\")\n",
    "start = datetime.datetime.now()\n",
    "print(dateString,timeString)\n",
    "sys.version"
   ]
  },
  {
   "cell_type": "code",
   "execution_count": 2,
   "metadata": {
    "collapsed": true
   },
   "outputs": [],
   "source": [
    "SCRIPT_NAME = \"Y2018M02D16_RH_Number_Streams_Per_Basin_V01\"\n",
    "\n",
    "EC2_INPUT_PATH  = (\"/volumes/data/{}/input/\").format(SCRIPT_NAME)\n",
    "EC2_OUTPUT_PATH = (\"/volumes/data/{}/output/\").format(SCRIPT_NAME)\n",
    "\n",
    "S3_INPUT_PATH = \"s3://wri-projects/Aqueduct30/processData/Y2018M02D15_RH_GDBD_Merge_V01/output/\"\n",
    "S3_OUTPUT_PATH = \"s3://wri-projects/Aqueduct30/processData/{}/output\".format(SCRIPT_NAME)\n",
    "\n",
    "\n",
    "INPUT_VERSION = 6\n",
    "OUTPUT_VERSION = 10\n",
    "\n",
    "TESTING = 0\n"
   ]
  },
  {
   "cell_type": "code",
   "execution_count": 3,
   "metadata": {
    "collapsed": true
   },
   "outputs": [],
   "source": [
    "!rm -r {EC2_INPUT_PATH}\n",
    "!rm -r {EC2_OUTPUT_PATH}\n",
    "\n",
    "!mkdir -p {EC2_INPUT_PATH}\n",
    "!mkdir -p {EC2_OUTPUT_PATH}"
   ]
  },
  {
   "cell_type": "code",
   "execution_count": 4,
   "metadata": {},
   "outputs": [
    {
     "name": "stdout",
     "output_type": "stream",
     "text": [
      "download: s3://wri-projects/Aqueduct30/processData/Y2018M02D15_RH_GDBD_Merge_V01/output/GDBD_basins_EPSG4326_V06.cpg to ../../../../data/Y2018M02D16_RH_Number_Streams_Per_Basin_V01/input/GDBD_basins_EPSG4326_V06.cpg\n",
      "download: s3://wri-projects/Aqueduct30/processData/Y2018M02D15_RH_GDBD_Merge_V01/output/GDBD_basins_EPSG4326_V06.prj to ../../../../data/Y2018M02D16_RH_Number_Streams_Per_Basin_V01/input/GDBD_basins_EPSG4326_V06.prj\n",
      "download: s3://wri-projects/Aqueduct30/processData/Y2018M02D15_RH_GDBD_Merge_V01/output/GDBD_streams_EPSG4326_V06.cpg to ../../../../data/Y2018M02D16_RH_Number_Streams_Per_Basin_V01/input/GDBD_streams_EPSG4326_V06.cpg\n",
      "download: s3://wri-projects/Aqueduct30/processData/Y2018M02D15_RH_GDBD_Merge_V01/output/GDBD_basins_EPSG4326_V06.shx to ../../../../data/Y2018M02D16_RH_Number_Streams_Per_Basin_V01/input/GDBD_basins_EPSG4326_V06.shx\n",
      "download: s3://wri-projects/Aqueduct30/processData/Y2018M02D15_RH_GDBD_Merge_V01/output/GDBD_streams_EPSG4326_V06.dbf to ../../../../data/Y2018M02D16_RH_Number_Streams_Per_Basin_V01/input/GDBD_streams_EPSG4326_V06.dbf\n",
      "download: s3://wri-projects/Aqueduct30/processData/Y2018M02D15_RH_GDBD_Merge_V01/output/GDBD_streams_EPSG4326_V06.prj to ../../../../data/Y2018M02D16_RH_Number_Streams_Per_Basin_V01/input/GDBD_streams_EPSG4326_V06.prj\n",
      "download: s3://wri-projects/Aqueduct30/processData/Y2018M02D15_RH_GDBD_Merge_V01/output/GDBD_streams_EPSG4326_V06.shp to ../../../../data/Y2018M02D16_RH_Number_Streams_Per_Basin_V01/input/GDBD_streams_EPSG4326_V06.shp\n",
      "download: s3://wri-projects/Aqueduct30/processData/Y2018M02D15_RH_GDBD_Merge_V01/output/GDBD_streams_EPSG4326_V06.shx to ../../../../data/Y2018M02D16_RH_Number_Streams_Per_Basin_V01/input/GDBD_streams_EPSG4326_V06.shx\n",
      "download: s3://wri-projects/Aqueduct30/processData/Y2018M02D15_RH_GDBD_Merge_V01/output/GDBD_streams_EPSG4326_V06.pkl to ../../../../data/Y2018M02D16_RH_Number_Streams_Per_Basin_V01/input/GDBD_streams_EPSG4326_V06.pkl\n",
      "download: s3://wri-projects/Aqueduct30/processData/Y2018M02D15_RH_GDBD_Merge_V01/output/GDBD_basins_EPSG4326_V06.dbf to ../../../../data/Y2018M02D16_RH_Number_Streams_Per_Basin_V01/input/GDBD_basins_EPSG4326_V06.dbf\n",
      "download: s3://wri-projects/Aqueduct30/processData/Y2018M02D15_RH_GDBD_Merge_V01/output/GDBD_basins_EPSG4326_V06.pkl to ../../../../data/Y2018M02D16_RH_Number_Streams_Per_Basin_V01/input/GDBD_basins_EPSG4326_V06.pkl\n",
      "download: s3://wri-projects/Aqueduct30/processData/Y2018M02D15_RH_GDBD_Merge_V01/output/GDBD_basins_EPSG4326_V06.shp to ../../../../data/Y2018M02D16_RH_Number_Streams_Per_Basin_V01/input/GDBD_basins_EPSG4326_V06.shp\n"
     ]
    }
   ],
   "source": [
    "!aws s3 cp {S3_INPUT_PATH} {EC2_INPUT_PATH} --recursive"
   ]
  },
  {
   "cell_type": "code",
   "execution_count": 5,
   "metadata": {
    "collapsed": true
   },
   "outputs": [],
   "source": [
    "import geopandas as gpd\n",
    "import pandas as pd\n",
    "import numpy as np\n",
    "import eeconvert\n",
    "import folium\n",
    "import multiprocessing\n",
    "from multiprocessing import Pool\n",
    "\n",
    "\n",
    "%matplotlib inline"
   ]
  },
  {
   "cell_type": "code",
   "execution_count": 6,
   "metadata": {
    "collapsed": true
   },
   "outputs": [],
   "source": [
    "file_name_streams = \"{}GDBD_streams_EPSG4326_V{:02.0f}.shp\".format(EC2_INPUT_PATH,INPUT_VERSION)\n",
    "file_name_basins = \"{}GDBD_basins_EPSG4326_V{:02.0f}.shp\".format(EC2_INPUT_PATH,INPUT_VERSION)"
   ]
  },
  {
   "cell_type": "code",
   "execution_count": 7,
   "metadata": {},
   "outputs": [
    {
     "name": "stdout",
     "output_type": "stream",
     "text": [
      "/volumes/data/Y2018M02D16_RH_Number_Streams_Per_Basin_V01/input/GDBD_streams_EPSG4326_V06.shp\n"
     ]
    }
   ],
   "source": [
    "print(file_name_streams)"
   ]
  },
  {
   "cell_type": "code",
   "execution_count": 8,
   "metadata": {
    "collapsed": true,
    "scrolled": true
   },
   "outputs": [],
   "source": [
    "gdf_streams = gpd.GeoDataFrame.from_file(file_name_streams)\n",
    "gdf_basins = gpd.GeoDataFrame.from_file(file_name_basins)"
   ]
  },
  {
   "cell_type": "code",
   "execution_count": 9,
   "metadata": {
    "collapsed": true
   },
   "outputs": [],
   "source": [
    "gdf_streams_backup = gdf_streams.copy()\n",
    "tiny_value = 0.0001\n",
    "\n",
    "if TESTING:\n",
    "    gdf_streams = gdf_streams[0:(int(67225/10))]\n",
    "    tiny_value = 0.0001\n"
   ]
  },
  {
   "cell_type": "code",
   "execution_count": 10,
   "metadata": {},
   "outputs": [
    {
     "data": {
      "text/plain": [
       "(67225, 5)"
      ]
     },
     "execution_count": 10,
     "metadata": {},
     "output_type": "execute_result"
    }
   ],
   "source": [
    "gdf_streams_backup.shape"
   ]
  },
  {
   "cell_type": "code",
   "execution_count": 11,
   "metadata": {},
   "outputs": [
    {
     "data": {
      "text/plain": [
       "(73074, 43)"
      ]
     },
     "execution_count": 11,
     "metadata": {},
     "output_type": "execute_result"
    }
   ],
   "source": [
    "gdf_basins.shape"
   ]
  },
  {
   "cell_type": "code",
   "execution_count": 12,
   "metadata": {
    "collapsed": true
   },
   "outputs": [],
   "source": [
    "gdf_streams['GDBD_ID'] = gdf_streams['GDBD_ID'].astype('int64')"
   ]
  },
  {
   "cell_type": "code",
   "execution_count": 13,
   "metadata": {},
   "outputs": [
    {
     "data": {
      "text/plain": [
       "OBJECTID        int64\n",
       "GDBD_ID         int64\n",
       "Ave_Str_Sl    float64\n",
       "Shape_Leng    float64\n",
       "geometry       object\n",
       "dtype: object"
      ]
     },
     "execution_count": 13,
     "metadata": {},
     "output_type": "execute_result"
    }
   ],
   "source": [
    "gdf_streams.dtypes"
   ]
  },
  {
   "cell_type": "markdown",
   "metadata": {},
   "source": [
    "## Functions "
   ]
  },
  {
   "cell_type": "code",
   "execution_count": 14,
   "metadata": {
    "collapsed": true
   },
   "outputs": [],
   "source": [
    "def explode(gdf):\n",
    "    \"\"\"\n",
    "    Will explode the geodataframe's muti-part geometries into single\n",
    "    geometries. Each row containing a multi-part geometry will be split into\n",
    "    multiple rows with single geometries, thereby increasing the vertical size\n",
    "    of the geodataframe. The index of the input geodataframe is no longer\n",
    "    unique and is replaced with a multi-index.\n",
    "\n",
    "    The output geodataframe has an index based on two columns (multi-index)\n",
    "    i.e. 'level_0' (index of input geodataframe) and 'level_1' which is a new\n",
    "    zero-based index for each single part geometry per multi-part geometry\n",
    "        \n",
    "    Args:\n",
    "        gdf (gpd.GeoDataFrame) : input geodataframe with multi-geometries\n",
    "        \n",
    "    Returns:\n",
    "        gdf (gpd.GeoDataFrame) : exploded geodataframe with each single\n",
    "                                 geometry as a separate entry in the\n",
    "                                 geodataframe. The GeoDataFrame has a multi-\n",
    "                                 index set to columns level_0 and level_1\n",
    "        \n",
    "    \"\"\"\n",
    "    gs = gdf.explode()\n",
    "    gdf2 = gs.reset_index().rename(columns={0: 'geometry'})\n",
    "    gdf_out = gdf2.merge(right=gdf.drop('geometry', axis=1),\n",
    "                         left_on='level_0',\n",
    "                         right_index=True)\n",
    "    gdf_out = (gdf_out.set_index(['level_0', 'level_1'])\n",
    "                      .set_geometry('geometry'))\n",
    "    gdf_out.crs = gdf.crs\n",
    "    return gdf_out\n",
    "\n",
    "\n",
    "def group_geometry(gdf, buffer_value=0.0001, out_column_name=\"geometry_group\"):\n",
    "    \"\"\"\n",
    "    Adds a column to the dataframe with a geometry group number. The\n",
    "    group number is determined by overlapping or touching geometries.\n",
    "    A geodataframe will be exploded before assigning the group number.\n",
    "    If the input geodataframe contains multi-geometries, the shape will\n",
    "    increase. This function can also be used to dissolve a geodataframe\n",
    "    on intersecting geometries instead of attributes. Use this function\n",
    "    followed by the .dissolve(by='geometry_group') method. \n",
    "\n",
    "    Args:\n",
    "        gdf (gpd.GeoDataFrame)  : input geodataframe with multi-geometries.\n",
    "        buffer_value (float)    : buffer distance in crs units. Defaults\n",
    "                                  to 0.0001.\n",
    "        out_column_name (string): name of output column containing the group\n",
    "                                  number. Defaults to 'geometry_group'\n",
    "\n",
    "    Returns:\n",
    "        gdf (gpd.GeoDataFrame) : geodataframe with new index column\n",
    "                                 and grouped geometries.\n",
    "    \"\"\"\n",
    "    gdf_polygon = gdf.copy()\n",
    "    gdf_polygon['geometry'] = gdf_polygon.geometry.buffer(buffer_value,\n",
    "                                                          resolution=1)\n",
    "    gdf_polygon[\"group\"] = 1\n",
    "    gdf_polygon_dissolved = gdf_polygon.dissolve(by=\"group\")\n",
    "    gdf_out = explode(gdf_polygon_dissolved)\n",
    "    gdf_out = gdf_out.reset_index()\n",
    "    gdf_grouped = gpd.GeoDataFrame(gdf_out[\"level_1\"],\n",
    "                                   geometry=gdf_out.geometry)\n",
    "    gdf_grouped.rename(columns={'level_1': out_column_name},\n",
    "                       inplace=True)\n",
    "\n",
    "    gdf_exploded = explode(gdf)\n",
    "    gdf_exploded = gdf_exploded.reset_index()\n",
    "    gdf_exploded_out = gpd.sjoin(gdf_exploded,\n",
    "                                 gdf_grouped,\n",
    "                                 how=\"left\",\n",
    "                                 op='within')\n",
    "    return gdf_exploded_out\n",
    "\n",
    "\n",
    "def shrink_buffer(gdf_basins_subset):\n",
    "    gdf_basins_subset['geometry'] = gdf_basins_subset.geometry.buffer(tiny_value*(-1),\n",
    "                                                                      resolution=1)\n",
    "    return gdf_basins_subset\n",
    "\n",
    "\n",
    "def spatial_join(gdf_basins_subset):\n",
    "    gdf_joined = gpd.sjoin(gdf_basins_subset, gdf_streams_grouped_simple, how=\"left\", op='intersects')\n",
    "    gdf_joined_simple = gpd.GeoDataFrame(gdf_joined[[\"geometry_group\",\"GDBD_ID\"]],\n",
    "                                   geometry=gdf_joined.geometry)\n",
    "    return gdf_joined_simple\n",
    "\n",
    "def post_process_results(results):\n",
    "    df_out = pd.DataFrame()\n",
    "    for result in results:\n",
    "        df_out = df_out.append(result)\n",
    "    return df_out\n",
    "\n",
    "    "
   ]
  },
  {
   "cell_type": "code",
   "execution_count": 15,
   "metadata": {},
   "outputs": [
    {
     "name": "stdout",
     "output_type": "stream",
     "text": [
      "8\n"
     ]
    }
   ],
   "source": [
    "cpu_count = multiprocessing.cpu_count()\n",
    "print(cpu_count)"
   ]
  },
  {
   "cell_type": "code",
   "execution_count": 16,
   "metadata": {},
   "outputs": [
    {
     "name": "stdout",
     "output_type": "stream",
     "text": [
      "CPU times: user 3h 20min 20s, sys: 408 ms, total: 3h 20min 21s\n",
      "Wall time: 3h 20min 20s\n"
     ]
    }
   ],
   "source": [
    "%%time\n",
    "# Last clock: Wall time: 12min 34s\n",
    "\n",
    "gdf_stream_groups = group_geometry(gdf_streams,buffer_value=tiny_value)"
   ]
  },
  {
   "cell_type": "code",
   "execution_count": 17,
   "metadata": {
    "collapsed": true
   },
   "outputs": [],
   "source": [
    "gdf_streams_simple = gpd.GeoDataFrame(gdf_stream_groups[\"geometry_group\"],\n",
    "                                      geometry=gdf_stream_groups.geometry)"
   ]
  },
  {
   "cell_type": "code",
   "execution_count": 18,
   "metadata": {
    "collapsed": true
   },
   "outputs": [],
   "source": [
    "gdf_streams_simple[\"geometry_group_copy\"] = gdf_streams_simple[\"geometry_group\"]"
   ]
  },
  {
   "cell_type": "code",
   "execution_count": 19,
   "metadata": {
    "collapsed": true
   },
   "outputs": [],
   "source": [
    "gdf_streams_grouped_simple = gdf_streams_simple.dissolve(by=\"geometry_group_copy\")"
   ]
  },
  {
   "cell_type": "code",
   "execution_count": 20,
   "metadata": {},
   "outputs": [
    {
     "data": {
      "text/html": [
       "<div>\n",
       "<style>\n",
       "    .dataframe thead tr:only-child th {\n",
       "        text-align: right;\n",
       "    }\n",
       "\n",
       "    .dataframe thead th {\n",
       "        text-align: left;\n",
       "    }\n",
       "\n",
       "    .dataframe tbody tr th {\n",
       "        vertical-align: top;\n",
       "    }\n",
       "</style>\n",
       "<table border=\"1\" class=\"dataframe\">\n",
       "  <thead>\n",
       "    <tr style=\"text-align: right;\">\n",
       "      <th></th>\n",
       "      <th>geometry</th>\n",
       "      <th>geometry_group</th>\n",
       "    </tr>\n",
       "    <tr>\n",
       "      <th>geometry_group_copy</th>\n",
       "      <th></th>\n",
       "      <th></th>\n",
       "    </tr>\n",
       "  </thead>\n",
       "  <tbody>\n",
       "    <tr>\n",
       "      <th>0</th>\n",
       "      <td>LINESTRING (-67.22361594961983 -54.20603302347...</td>\n",
       "      <td>0</td>\n",
       "    </tr>\n",
       "    <tr>\n",
       "      <th>1</th>\n",
       "      <td>(LINESTRING (-67.83813926892813 -54.5322113372...</td>\n",
       "      <td>1</td>\n",
       "    </tr>\n",
       "    <tr>\n",
       "      <th>2</th>\n",
       "      <td>LINESTRING (-68.25348588509797 -53.47400975213...</td>\n",
       "      <td>2</td>\n",
       "    </tr>\n",
       "    <tr>\n",
       "      <th>3</th>\n",
       "      <td>LINESTRING (-68.96643793459909 -53.13816119667...</td>\n",
       "      <td>3</td>\n",
       "    </tr>\n",
       "    <tr>\n",
       "      <th>4</th>\n",
       "      <td>LINESTRING (-68.45324646817393 -52.88898193107...</td>\n",
       "      <td>4</td>\n",
       "    </tr>\n",
       "  </tbody>\n",
       "</table>\n",
       "</div>"
      ],
      "text/plain": [
       "                                                              geometry  \\\n",
       "geometry_group_copy                                                      \n",
       "0                    LINESTRING (-67.22361594961983 -54.20603302347...   \n",
       "1                    (LINESTRING (-67.83813926892813 -54.5322113372...   \n",
       "2                    LINESTRING (-68.25348588509797 -53.47400975213...   \n",
       "3                    LINESTRING (-68.96643793459909 -53.13816119667...   \n",
       "4                    LINESTRING (-68.45324646817393 -52.88898193107...   \n",
       "\n",
       "                     geometry_group  \n",
       "geometry_group_copy                  \n",
       "0                                 0  \n",
       "1                                 1  \n",
       "2                                 2  \n",
       "3                                 3  \n",
       "4                                 4  "
      ]
     },
     "execution_count": 20,
     "metadata": {},
     "output_type": "execute_result"
    }
   ],
   "source": [
    "gdf_streams_grouped_simple.head()"
   ]
  },
  {
   "cell_type": "markdown",
   "metadata": {},
   "source": [
    "## Spatially join the hydrobasins with the grouped streamed geodataframes. "
   ]
  },
  {
   "cell_type": "markdown",
   "metadata": {},
   "source": [
    "This process take too long (probably appr. 2 hours). Multiprocessing"
   ]
  },
  {
   "cell_type": "code",
   "execution_count": 21,
   "metadata": {
    "collapsed": true
   },
   "outputs": [],
   "source": [
    "gdf_split = np.array_split(gdf_basins, cpu_count*100)"
   ]
  },
  {
   "cell_type": "code",
   "execution_count": 22,
   "metadata": {},
   "outputs": [
    {
     "name": "stdout",
     "output_type": "stream",
     "text": [
      "CPU times: user 27.1 s, sys: 712 ms, total: 27.8 s\n",
      "Wall time: 27.3 s\n"
     ]
    }
   ],
   "source": [
    "%%time\n",
    "p= Pool()\n",
    "results_buffered = p.map(shrink_buffer,gdf_split)\n",
    "p.close()\n",
    "p.join()\n",
    "gdf_basins_buffered = post_process_results(results_buffered)"
   ]
  },
  {
   "cell_type": "code",
   "execution_count": 23,
   "metadata": {
    "collapsed": true
   },
   "outputs": [],
   "source": [
    "gdf_split_buffered = np.array_split(gdf_basins_buffered, cpu_count*100)"
   ]
  },
  {
   "cell_type": "code",
   "execution_count": 24,
   "metadata": {},
   "outputs": [
    {
     "name": "stdout",
     "output_type": "stream",
     "text": [
      "CPU times: user 8.5 s, sys: 700 ms, total: 9.2 s\n",
      "Wall time: 1min 50s\n"
     ]
    }
   ],
   "source": [
    "%%time\n",
    "# Last clock Wall time: 2min 27s\n",
    "\n",
    "p= Pool()\n",
    "results_joined = p.map(spatial_join,gdf_split_buffered)\n",
    "p.close()\n",
    "p.join()\n"
   ]
  },
  {
   "cell_type": "code",
   "execution_count": 25,
   "metadata": {
    "collapsed": true
   },
   "outputs": [],
   "source": [
    "gdf_joined_simple = post_process_results(results_joined)"
   ]
  },
  {
   "cell_type": "code",
   "execution_count": 26,
   "metadata": {
    "collapsed": true
   },
   "outputs": [],
   "source": [
    "gdf_match = gdf_joined_simple.loc[gdf_joined_simple[\"geometry_group\"]>=0]"
   ]
  },
  {
   "cell_type": "code",
   "execution_count": 27,
   "metadata": {
    "collapsed": true
   },
   "outputs": [],
   "source": [
    "df_out = gdf_match.groupby(['GDBD_ID']).geometry_group.agg([\"count\"])"
   ]
  },
  {
   "cell_type": "code",
   "execution_count": 28,
   "metadata": {
    "collapsed": true
   },
   "outputs": [],
   "source": [
    "df_out = df_out.rename(columns = {\"count\":\"grouped_stream_count\"})"
   ]
  },
  {
   "cell_type": "code",
   "execution_count": 29,
   "metadata": {
    "collapsed": true
   },
   "outputs": [],
   "source": [
    "gdf_basins_out = gdf_basins.copy()"
   ]
  },
  {
   "cell_type": "code",
   "execution_count": 30,
   "metadata": {
    "collapsed": true
   },
   "outputs": [],
   "source": [
    "gdf_basins_out = gdf_basins_out.merge(right=df_out,\n",
    "                                      how='left',\n",
    "                                      left_on=\"GDBD_ID\",\n",
    "                                      right_index=True)"
   ]
  },
  {
   "cell_type": "code",
   "execution_count": 31,
   "metadata": {},
   "outputs": [
    {
     "data": {
      "text/html": [
       "<div>\n",
       "<style>\n",
       "    .dataframe thead tr:only-child th {\n",
       "        text-align: right;\n",
       "    }\n",
       "\n",
       "    .dataframe thead th {\n",
       "        text-align: left;\n",
       "    }\n",
       "\n",
       "    .dataframe tbody tr th {\n",
       "        vertical-align: top;\n",
       "    }\n",
       "</style>\n",
       "<table border=\"1\" class=\"dataframe\">\n",
       "  <thead>\n",
       "    <tr style=\"text-align: right;\">\n",
       "      <th></th>\n",
       "      <th>Accum_Area</th>\n",
       "      <th>Ave_Elev</th>\n",
       "      <th>Ave_Slp</th>\n",
       "      <th>Basin_NO</th>\n",
       "      <th>Cntry_1</th>\n",
       "      <th>Cntry_1_Rt</th>\n",
       "      <th>Cntry_2</th>\n",
       "      <th>Cntry_2_Rt</th>\n",
       "      <th>Cntry_3</th>\n",
       "      <th>Cntry_3_Rt</th>\n",
       "      <th>...</th>\n",
       "      <th>OBJECTID</th>\n",
       "      <th>Pfa_Code</th>\n",
       "      <th>Pop</th>\n",
       "      <th>Pop_Dnsty</th>\n",
       "      <th>Region_NO</th>\n",
       "      <th>Shape_Area</th>\n",
       "      <th>Shape_Leng</th>\n",
       "      <th>SubRegion_</th>\n",
       "      <th>geometry</th>\n",
       "      <th>grouped_stream_count</th>\n",
       "    </tr>\n",
       "  </thead>\n",
       "  <tbody>\n",
       "    <tr>\n",
       "      <th>0</th>\n",
       "      <td>3.374000e+09</td>\n",
       "      <td>229.691</td>\n",
       "      <td>1.08442</td>\n",
       "      <td>1.0</td>\n",
       "      <td>Tanzania</td>\n",
       "      <td>100.0</td>\n",
       "      <td>None</td>\n",
       "      <td>0.0</td>\n",
       "      <td>None</td>\n",
       "      <td>0.0</td>\n",
       "      <td>...</td>\n",
       "      <td>1</td>\n",
       "      <td>10000000.0</td>\n",
       "      <td>34702.0</td>\n",
       "      <td>0.000010</td>\n",
       "      <td>1.0</td>\n",
       "      <td>3.374000e+09</td>\n",
       "      <td>461999.858105</td>\n",
       "      <td>4.0</td>\n",
       "      <td>POLYGON ((39.47796483150468 -8.9315086242301, ...</td>\n",
       "      <td>1.0</td>\n",
       "    </tr>\n",
       "    <tr>\n",
       "      <th>1</th>\n",
       "      <td>1.754200e+10</td>\n",
       "      <td>183.995</td>\n",
       "      <td>1.93185</td>\n",
       "      <td>2.0</td>\n",
       "      <td>Tanzania</td>\n",
       "      <td>100.0</td>\n",
       "      <td>None</td>\n",
       "      <td>0.0</td>\n",
       "      <td>None</td>\n",
       "      <td>0.0</td>\n",
       "      <td>...</td>\n",
       "      <td>2</td>\n",
       "      <td>10000000.0</td>\n",
       "      <td>61860.0</td>\n",
       "      <td>0.000037</td>\n",
       "      <td>1.0</td>\n",
       "      <td>1.664999e+09</td>\n",
       "      <td>296000.153881</td>\n",
       "      <td>4.0</td>\n",
       "      <td>(POLYGON ((39.52518111659099 -9.50270431917738...</td>\n",
       "      <td>1.0</td>\n",
       "    </tr>\n",
       "    <tr>\n",
       "      <th>2</th>\n",
       "      <td>1.132000e+09</td>\n",
       "      <td>212.155</td>\n",
       "      <td>1.13653</td>\n",
       "      <td>2.0</td>\n",
       "      <td>Tanzania</td>\n",
       "      <td>100.0</td>\n",
       "      <td>None</td>\n",
       "      <td>0.0</td>\n",
       "      <td>None</td>\n",
       "      <td>0.0</td>\n",
       "      <td>...</td>\n",
       "      <td>3</td>\n",
       "      <td>20000000.0</td>\n",
       "      <td>15080.0</td>\n",
       "      <td>0.000013</td>\n",
       "      <td>1.0</td>\n",
       "      <td>1.132000e+09</td>\n",
       "      <td>199999.920519</td>\n",
       "      <td>4.0</td>\n",
       "      <td>POLYGON ((39.17208889990474 -9.366102390530019...</td>\n",
       "      <td>1.0</td>\n",
       "    </tr>\n",
       "    <tr>\n",
       "      <th>3</th>\n",
       "      <td>1.474500e+10</td>\n",
       "      <td>289.598</td>\n",
       "      <td>1.37887</td>\n",
       "      <td>2.0</td>\n",
       "      <td>Tanzania</td>\n",
       "      <td>100.0</td>\n",
       "      <td>None</td>\n",
       "      <td>0.0</td>\n",
       "      <td>None</td>\n",
       "      <td>0.0</td>\n",
       "      <td>...</td>\n",
       "      <td>4</td>\n",
       "      <td>30000000.0</td>\n",
       "      <td>85749.0</td>\n",
       "      <td>0.000032</td>\n",
       "      <td>1.0</td>\n",
       "      <td>2.703001e+09</td>\n",
       "      <td>406000.039104</td>\n",
       "      <td>4.0</td>\n",
       "      <td>(POLYGON ((39.21596758012705 -9.57172654063530...</td>\n",
       "      <td>1.0</td>\n",
       "    </tr>\n",
       "    <tr>\n",
       "      <th>4</th>\n",
       "      <td>1.084999e+09</td>\n",
       "      <td>413.781</td>\n",
       "      <td>1.95744</td>\n",
       "      <td>2.0</td>\n",
       "      <td>Tanzania</td>\n",
       "      <td>100.0</td>\n",
       "      <td>None</td>\n",
       "      <td>0.0</td>\n",
       "      <td>None</td>\n",
       "      <td>0.0</td>\n",
       "      <td>...</td>\n",
       "      <td>5</td>\n",
       "      <td>40000000.0</td>\n",
       "      <td>45105.0</td>\n",
       "      <td>0.000042</td>\n",
       "      <td>1.0</td>\n",
       "      <td>1.084999e+09</td>\n",
       "      <td>201999.882989</td>\n",
       "      <td>4.0</td>\n",
       "      <td>POLYGON ((39.16198738230477 -10.09816341628326...</td>\n",
       "      <td>1.0</td>\n",
       "    </tr>\n",
       "  </tbody>\n",
       "</table>\n",
       "<p>5 rows × 44 columns</p>\n",
       "</div>"
      ],
      "text/plain": [
       "     Accum_Area  Ave_Elev  Ave_Slp  Basin_NO   Cntry_1  Cntry_1_Rt Cntry_2  \\\n",
       "0  3.374000e+09   229.691  1.08442       1.0  Tanzania       100.0    None   \n",
       "1  1.754200e+10   183.995  1.93185       2.0  Tanzania       100.0    None   \n",
       "2  1.132000e+09   212.155  1.13653       2.0  Tanzania       100.0    None   \n",
       "3  1.474500e+10   289.598  1.37887       2.0  Tanzania       100.0    None   \n",
       "4  1.084999e+09   413.781  1.95744       2.0  Tanzania       100.0    None   \n",
       "\n",
       "   Cntry_2_Rt Cntry_3  Cntry_3_Rt          ...          OBJECTID    Pfa_Code  \\\n",
       "0         0.0    None         0.0          ...                 1  10000000.0   \n",
       "1         0.0    None         0.0          ...                 2  10000000.0   \n",
       "2         0.0    None         0.0          ...                 3  20000000.0   \n",
       "3         0.0    None         0.0          ...                 4  30000000.0   \n",
       "4         0.0    None         0.0          ...                 5  40000000.0   \n",
       "\n",
       "       Pop  Pop_Dnsty  Region_NO    Shape_Area     Shape_Leng  SubRegion_  \\\n",
       "0  34702.0   0.000010        1.0  3.374000e+09  461999.858105         4.0   \n",
       "1  61860.0   0.000037        1.0  1.664999e+09  296000.153881         4.0   \n",
       "2  15080.0   0.000013        1.0  1.132000e+09  199999.920519         4.0   \n",
       "3  85749.0   0.000032        1.0  2.703001e+09  406000.039104         4.0   \n",
       "4  45105.0   0.000042        1.0  1.084999e+09  201999.882989         4.0   \n",
       "\n",
       "                                            geometry  grouped_stream_count  \n",
       "0  POLYGON ((39.47796483150468 -8.9315086242301, ...                   1.0  \n",
       "1  (POLYGON ((39.52518111659099 -9.50270431917738...                   1.0  \n",
       "2  POLYGON ((39.17208889990474 -9.366102390530019...                   1.0  \n",
       "3  (POLYGON ((39.21596758012705 -9.57172654063530...                   1.0  \n",
       "4  POLYGON ((39.16198738230477 -10.09816341628326...                   1.0  \n",
       "\n",
       "[5 rows x 44 columns]"
      ]
     },
     "execution_count": 31,
     "metadata": {},
     "output_type": "execute_result"
    }
   ],
   "source": [
    "gdf_basins_out.head()"
   ]
  },
  {
   "cell_type": "code",
   "execution_count": 32,
   "metadata": {
    "collapsed": true
   },
   "outputs": [],
   "source": [
    "gdf_basins_deltas = gdf_basins_out.loc[gdf_basins_out[\"grouped_stream_count\"]>=1]"
   ]
  },
  {
   "cell_type": "code",
   "execution_count": 33,
   "metadata": {
    "collapsed": true
   },
   "outputs": [],
   "source": [
    "gdf_basins_deltas = gdf_basins_deltas.set_index(\"GDBD_ID\")"
   ]
  },
  {
   "cell_type": "code",
   "execution_count": 34,
   "metadata": {
    "collapsed": true
   },
   "outputs": [],
   "source": [
    "gdf_basins_deltas_simple = gpd.GeoDataFrame(gdf_basins_deltas[\"grouped_stream_count\"],\n",
    "                                            geometry=gdf_basins_deltas.geometry)\n",
    "                                            "
   ]
  },
  {
   "cell_type": "code",
   "execution_count": 35,
   "metadata": {},
   "outputs": [
    {
     "name": "stdout",
     "output_type": "stream",
     "text": [
      "/volumes/data/Y2018M02D16_RH_Number_Streams_Per_Basin_V01/output/gdf_streams_group_V10.shp\n",
      "/volumes/data/Y2018M02D16_RH_Number_Streams_Per_Basin_V01/output/gdf_streams_group_V10.pkl\n"
     ]
    }
   ],
   "source": [
    "output_path_shp = \"{}gdf_streams_group_V{:02.0f}.shp\".format(EC2_OUTPUT_PATH,OUTPUT_VERSION)\n",
    "print(output_path_shp)\n",
    "output_path_pkl = \"{}gdf_streams_group_V{:02.0f}.pkl\".format(EC2_OUTPUT_PATH,OUTPUT_VERSION)\n",
    "print(output_path_pkl)"
   ]
  },
  {
   "cell_type": "code",
   "execution_count": 36,
   "metadata": {
    "collapsed": true
   },
   "outputs": [],
   "source": [
    "gdf_basins_out.to_file(output_path_shp,driver='ESRI Shapefile')"
   ]
  },
  {
   "cell_type": "code",
   "execution_count": 37,
   "metadata": {
    "collapsed": true
   },
   "outputs": [],
   "source": [
    "gdf_basins_out.to_pickle(output_path_pkl)"
   ]
  },
  {
   "cell_type": "code",
   "execution_count": 38,
   "metadata": {},
   "outputs": [
    {
     "name": "stdout",
     "output_type": "stream",
     "text": [
      "upload: ../../../../data/Y2018M02D16_RH_Number_Streams_Per_Basin_V01/output/gdf_streams_group_V10.prj to s3://wri-projects/Aqueduct30/processData/Y2018M02D16_RH_Number_Streams_Per_Basin_V01/output/gdf_streams_group_V10.prj\n",
      "upload: ../../../../data/Y2018M02D16_RH_Number_Streams_Per_Basin_V01/output/gdf_streams_group_V10.cpg to s3://wri-projects/Aqueduct30/processData/Y2018M02D16_RH_Number_Streams_Per_Basin_V01/output/gdf_streams_group_V10.cpg\n",
      "upload: ../../../../data/Y2018M02D16_RH_Number_Streams_Per_Basin_V01/output/gdf_streams_group_V10.shx to s3://wri-projects/Aqueduct30/processData/Y2018M02D16_RH_Number_Streams_Per_Basin_V01/output/gdf_streams_group_V10.shx\n",
      "upload: ../../../../data/Y2018M02D16_RH_Number_Streams_Per_Basin_V01/output/gdf_streams_group_V10.dbf to s3://wri-projects/Aqueduct30/processData/Y2018M02D16_RH_Number_Streams_Per_Basin_V01/output/gdf_streams_group_V10.dbf\n",
      "upload: ../../../../data/Y2018M02D16_RH_Number_Streams_Per_Basin_V01/output/gdf_streams_group_V10.shp to s3://wri-projects/Aqueduct30/processData/Y2018M02D16_RH_Number_Streams_Per_Basin_V01/output/gdf_streams_group_V10.shp\n",
      "upload: ../../../../data/Y2018M02D16_RH_Number_Streams_Per_Basin_V01/output/gdf_streams_group_V10.pkl to s3://wri-projects/Aqueduct30/processData/Y2018M02D16_RH_Number_Streams_Per_Basin_V01/output/gdf_streams_group_V10.pkl\n"
     ]
    }
   ],
   "source": [
    "!aws s3 cp --recursive {EC2_OUTPUT_PATH} {S3_OUTPUT_PATH}"
   ]
  },
  {
   "cell_type": "code",
   "execution_count": 39,
   "metadata": {},
   "outputs": [
    {
     "name": "stderr",
     "output_type": "stream",
     "text": [
      "/opt/anaconda3/envs/python35/lib/python3.5/site-packages/matplotlib/colors.py:496: RuntimeWarning: invalid value encountered in less\n",
      "  cbook._putmask(xa, xa < 0.0, -1)\n"
     ]
    },
    {
     "data": {
      "text/plain": [
       "<matplotlib.axes._subplots.AxesSubplot at 0x7f63929d4160>"
      ]
     },
     "execution_count": 39,
     "metadata": {},
     "output_type": "execute_result"
    },
    {
     "data": {
      "image/png": "[encoded data removed]",
      "text/plain": [
       "<matplotlib.figure.Figure at 0x7f6391970240>"
      ]
     },
     "metadata": {},
     "output_type": "display_data"
    }
   ],
   "source": [
    "gdf_basins_out.plot(column=\"grouped_stream_count\")"
   ]
  },
  {
   "cell_type": "code",
   "execution_count": 40,
   "metadata": {},
   "outputs": [
    {
     "name": "stdout",
     "output_type": "stream",
     "text": [
      "3:27:58.994103\n"
     ]
    }
   ],
   "source": [
    "end = datetime.datetime.now()\n",
    "elapsed = end - start\n",
    "print(elapsed)"
   ]
  }
 ],
 "metadata": {
  "kernelspec": {
   "display_name": "Python 35",
   "language": "python",
   "name": "python35"
  },
  "language_info": {
   "codemirror_mode": {
    "name": "ipython",
    "version": 3
   },
   "file_extension": ".py",
   "mimetype": "text/x-python",
   "name": "python",
   "nbconvert_exporter": "python",
   "pygments_lexer": "ipython3",
   "version": "3.5.4"
  }
 },
 "nbformat": 4,
 "nbformat_minor": 2
}
