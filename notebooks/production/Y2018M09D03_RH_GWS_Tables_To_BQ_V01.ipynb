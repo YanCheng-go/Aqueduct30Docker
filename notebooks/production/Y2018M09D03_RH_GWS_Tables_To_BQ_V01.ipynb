{
 "cells": [
  {
   "cell_type": "code",
   "execution_count": 1,
   "metadata": {},
   "outputs": [
    {
     "name": "stdout",
     "output_type": "stream",
     "text": [
      "s3_input_path s3://wri-projects/Aqueduct30/rawData/Deltares/groundwater/Final_Oct_2017/data/tables \n",
      "ec2_input_path /volumes/data/Y2018M09D03_RH_GWS_Tables_To_BQ_V01/input_V01/ \n",
      "BQ_OUTPUT_DATASET_NAME:  aqueduct30v01 \n",
      "BQ_OUTPUT_TABLE_NAME:  y2018m09d03_rh_gws_tables_to_bq_v01_v01\n"
     ]
    }
   ],
   "source": [
    "\"\"\" Ingest tabular results to BigQuery.\n",
    "-------------------------------------------------------------------------------\n",
    "\n",
    "Groundwater stress, Groundwater table declining trend tabular data will be \n",
    "ingested to Google BigQuery.\n",
    "\n",
    "Author: Rutger Hofste\n",
    "Date: 20180903\n",
    "Kernel: python35\n",
    "Docker: rutgerhofste/gisdocker:ubuntu16.04\n",
    "\n",
    "Args:\n",
    "\n",
    "    SCRIPT_NAME (string) : Script name\n",
    "    INPUT_VERSION (integer) : input version, see readme and output number\n",
    "                              of previous script.\n",
    "    OUTPUT_VERSION (integer) : output version for ec2 and s3.\n",
    "    \n",
    "    \n",
    "Returns:\n",
    "\n",
    "Result:\n",
    "    Table on Google Bigquery.\n",
    "\n",
    "\"\"\"\n",
    "\n",
    "SCRIPT_NAME = \"Y2018M09D03_RH_GWS_Tables_To_BQ_V01\"\n",
    "OUTPUT_VERSION = 1\n",
    "\n",
    "BQ_PROJECT_ID = \"aqueduct30\"\n",
    "BQ_OUTPUT_DATASET_NAME = \"aqueduct30v01\"\n",
    "BQ_OUTPUT_TABLE_NAME = \"{}_v{:02.0f}\".format(SCRIPT_NAME,OUTPUT_VERSION).lower()\n",
    "\n",
    "s3_input_path = \"s3://wri-projects/Aqueduct30/rawData/Deltares/groundwater/Final_Oct_2017/data/tables\"\n",
    "ec2_input_path = \"/volumes/data/{}/input_V{:02.0f}/\".format(SCRIPT_NAME,OUTPUT_VERSION)\n",
    "\n",
    "print(\"s3_input_path\",s3_input_path,\n",
    "      \"\\nec2_input_path\",ec2_input_path,\n",
    "      \"\\nBQ_OUTPUT_DATASET_NAME: \", BQ_OUTPUT_DATASET_NAME,\n",
    "      \"\\nBQ_OUTPUT_TABLE_NAME: \",BQ_OUTPUT_TABLE_NAME\n",
    "      )\n",
    "\n"
   ]
  },
  {
   "cell_type": "code",
   "execution_count": 2,
   "metadata": {},
   "outputs": [
    {
     "name": "stdout",
     "output_type": "stream",
     "text": [
      "Y2018M09D04 UTC 13:20\n"
     ]
    },
    {
     "data": {
      "text/plain": [
       "'3.5.4 |Anaconda, Inc.| (default, Nov 20 2017, 18:44:38) \\n[GCC 7.2.0]'"
      ]
     },
     "execution_count": 2,
     "metadata": {},
     "output_type": "execute_result"
    }
   ],
   "source": [
    "import time, datetime, sys\n",
    "dateString = time.strftime(\"Y%YM%mD%d\")\n",
    "timeString = time.strftime(\"UTC %H:%M\")\n",
    "start = datetime.datetime.now()\n",
    "print(dateString,timeString)\n",
    "sys.version"
   ]
  },
  {
   "cell_type": "code",
   "execution_count": 3,
   "metadata": {
    "collapsed": true
   },
   "outputs": [],
   "source": [
    "import os\n",
    "import pandas as pd\n",
    "from google.cloud import bigquery\n",
    "\n",
    "os.environ[\"GOOGLE_APPLICATION_CREDENTIALS\"] = \"/.google.json\"\n",
    "os.environ[\"GOOGLE_CLOUD_PROJECT\"] = \"aqueduct30\"\n",
    "client = bigquery.Client(project=BQ_PROJECT_ID)"
   ]
  },
  {
   "cell_type": "code",
   "execution_count": 4,
   "metadata": {
    "collapsed": true
   },
   "outputs": [],
   "source": [
    "!rm -r {ec2_input_path}\n",
    "!mkdir -p {ec2_input_path}"
   ]
  },
  {
   "cell_type": "code",
   "execution_count": 5,
   "metadata": {},
   "outputs": [
    {
     "name": "stdout",
     "output_type": "stream",
     "text": [
      "download: s3://wri-projects/Aqueduct30/rawData/Deltares/groundwater/Final_Oct_2017/data/tables/readme.txt to ../../../../data/Y2018M09D03_RH_GWS_Tables_To_BQ_V01/input_V01/readme.txt\n",
      "download: s3://wri-projects/Aqueduct30/rawData/Deltares/groundwater/Final_Oct_2017/data/tables/state_table_sorted.txt to ../../../../data/Y2018M09D03_RH_GWS_Tables_To_BQ_V01/input_V01/state_table_sorted.txt\n",
      "download: s3://wri-projects/Aqueduct30/rawData/Deltares/groundwater/Final_Oct_2017/data/tables/aquifer_table_sorted.txt to ../../../../data/Y2018M09D03_RH_GWS_Tables_To_BQ_V01/input_V01/aquifer_table_sorted.txt\n",
      "download: s3://wri-projects/Aqueduct30/rawData/Deltares/groundwater/Final_Oct_2017/data/tables/hybas_table_sorted.txt to ../../../../data/Y2018M09D03_RH_GWS_Tables_To_BQ_V01/input_V01/hybas_table_sorted.txt\n"
     ]
    }
   ],
   "source": [
    "!aws s3 cp {s3_input_path} {ec2_input_path} --recursive"
   ]
  },
  {
   "cell_type": "code",
   "execution_count": 6,
   "metadata": {
    "collapsed": true
   },
   "outputs": [],
   "source": [
    "input_file_names = [\"aquifer_table_sorted.txt\",\n",
    "               \"hybas_table_sorted.txt\",\n",
    "               \"state_table_sorted.txt\"]"
   ]
  },
  {
   "cell_type": "code",
   "execution_count": 7,
   "metadata": {
    "collapsed": true
   },
   "outputs": [],
   "source": [
    "def process_df(df):\n",
    "    \"\"\" Process dataframe to work with bq limitations. \n",
    "    \n",
    "    BadRequest: 400 POST https://www.googleapis.com/bigquery/v2/projects/aqueduct30/datasets/aqueduct30v01/tables: \n",
    "    Invalid field name \"slope_of_decline_cm.year-1\". \n",
    "    Fields must contain only letters, numbers, and underscores, \n",
    "    start with a letter or underscore, \n",
    "    and be at most 128 characters long.\n",
    "    \n",
    "    Args:\n",
    "        df (DataFrame): Dataframe.\n",
    "        \n",
    "    Returns:\n",
    "        df_out (DataFrame) : Dataframe complient with bq.\n",
    "    \n",
    "    \n",
    "    \"\"\"\n",
    "    \n",
    "    df_out = df.rename(columns={\"slope_of_decline_cm.year-1\":\"groundwatertabledecliningtrend_cmperyear\",\n",
    "                                \"groundwater_stress\":\"groundwaterstress_dimensionless\"})\n",
    "    \n",
    "    return df_out"
   ]
  },
  {
   "cell_type": "code",
   "execution_count": 8,
   "metadata": {},
   "outputs": [
    {
     "name": "stdout",
     "output_type": "stream",
     "text": [
      "aqueduct30v01.y2018m09d03_rh_gws_tables_to_bq_v01_v01_aquifer_table_sorted\n"
     ]
    },
    {
     "name": "stderr",
     "output_type": "stream",
     "text": [
      "1it [00:04,  4.72s/it]\n"
     ]
    },
    {
     "name": "stdout",
     "output_type": "stream",
     "text": [
      "aqueduct30v01.y2018m09d03_rh_gws_tables_to_bq_v01_v01_hybas_table_sorted\n"
     ]
    },
    {
     "name": "stderr",
     "output_type": "stream",
     "text": [
      "2it [00:03,  1.96s/it]\n"
     ]
    },
    {
     "name": "stdout",
     "output_type": "stream",
     "text": [
      "aqueduct30v01.y2018m09d03_rh_gws_tables_to_bq_v01_v01_state_table_sorted\n"
     ]
    },
    {
     "name": "stderr",
     "output_type": "stream",
     "text": [
      "1it [00:04,  4.93s/it]\n"
     ]
    }
   ],
   "source": [
    "for input_file_name in input_file_names:\n",
    "    input_file_path = os.path.join(ec2_input_path,input_file_name)\n",
    "    input_file_base_name,input_file_ext  = input_file_name.split(\".\")\n",
    "    df = pd.read_csv(input_file_path,delimiter=\";\")\n",
    "    \n",
    "    df_processed = process_df(df)\n",
    "    \n",
    "    destination_table = \"{}.{}_{}\".format(BQ_OUTPUT_DATASET_NAME,BQ_OUTPUT_TABLE_NAME,input_file_base_name)\n",
    "    print(destination_table)\n",
    "    df_processed.to_gbq(destination_table=destination_table,\n",
    "          project_id=BQ_PROJECT_ID,\n",
    "          chunksize=10000,\n",
    "          if_exists=\"replace\")"
   ]
  },
  {
   "cell_type": "code",
   "execution_count": 9,
   "metadata": {},
   "outputs": [
    {
     "name": "stdout",
     "output_type": "stream",
     "text": [
      "0:00:58.371434\n"
     ]
    }
   ],
   "source": [
    "end = datetime.datetime.now()\n",
    "elapsed = end - start\n",
    "print(elapsed)"
   ]
  },
  {
   "cell_type": "markdown",
   "metadata": {},
   "source": [
    "Previous runs:  \n",
    "0:00:55.283014"
   ]
  }
 ],
 "metadata": {
  "kernelspec": {
   "display_name": "Python 35",
   "language": "python",
   "name": "python35"
  },
  "language_info": {
   "codemirror_mode": {
    "name": "ipython",
    "version": 3
   },
   "file_extension": ".py",
   "mimetype": "text/x-python",
   "name": "python",
   "nbconvert_exporter": "python",
   "pygments_lexer": "ipython3",
   "version": "3.5.4"
  }
 },
 "nbformat": 4,
 "nbformat_minor": 2
}
