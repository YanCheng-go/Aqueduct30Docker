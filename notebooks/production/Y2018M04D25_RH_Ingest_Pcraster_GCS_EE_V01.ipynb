{
 "cells": [
  {
   "cell_type": "code",
   "execution_count": 1,
   "metadata": {},
   "outputs": [
    {
     "name": "stdout",
     "output_type": "stream",
     "text": [
      "Input gcs: gs://aqueduct30_v01/Y2018M04D25_RH_Convert_Pcrasters_Map_Geotiff_V01/output_V02/\n",
      "Output ee: projects/WRI-Aquaduct/Y2018M04D25_RH_Ingest_Pcraster_GCS_EE_V01/output_V01\n",
      "Output S3: s3://wri-projects/Aqueduct30/processData/Y2018M04D25_RH_Ingest_Pcraster_GCS_EE_V01/output_V01\n",
      "Output ec2: /volumes/data/Y2018M04D25_RH_Ingest_Pcraster_GCS_EE_V01/output_V01\n"
     ]
    }
   ],
   "source": [
    "\"\"\" Ingest pcraster generated files from Cloud Storage to Earth Engine.\n",
    "-------------------------------------------------------------------------------\n",
    "rasters uploaded include:\n",
    "- streamorder 5min\n",
    "\n",
    "\n",
    "\n",
    "Author: Rutger Hofste\n",
    "Date: 20180502\n",
    "Kernel: python35\n",
    "Docker: rutgerhofste/gisdocker:ubuntu16.04\n",
    "\n",
    "Args:\n",
    "    TESTING (Boolean) : Toggle Testing Mode.\n",
    "    OVERWRITE (Boolean) : Overwrite old folder !CAUTION!\n",
    "    SCRIPT_NAME (string) : Script name.\n",
    "    PREVIOUS_SCRIPT_NAME (string) : Previous script name.\n",
    "    INPUT_VERSION (integer) : Input version.\n",
    "    OUTPUT_VERSION (integer) : Output version. \n",
    "    OUTPUT_FILE_NAME (string) : File Name for a csv file containing the failed tasks. \n",
    "\n",
    "    GCS_BASE (string) : Google Cloud Storage output namespace.   \n",
    "    EE_BASE (string) : Earth Engine folder to store the assets.\n",
    "    \n",
    "    OUTPUT_FILE_NAME (string) : File Name for a csv file containing the failed tasks. \n",
    "    SEPARATOR (regex) : Regular expression of separators used in geotiff\n",
    "      filenames.     \n",
    "    SCHEMA (list) : A list of strings containing the schema. See \n",
    "      aqueduct3.split_key() for more info.\n",
    "    EXTRA_PROPERTIES (Dictionary) : Extra properties to add to assets. nodata_value,\n",
    "      script used are common properties.\n",
    "\n",
    "\n",
    "Returns:\n",
    "\n",
    "\n",
    "\"\"\"\n",
    "TESTING = 0\n",
    "OVERWRITE = 0 \n",
    "SCRIPT_NAME = \"Y2018M04D25_RH_Ingest_Pcraster_GCS_EE_V01\"\n",
    "PREVIOUS_SCRIPT_NAME = \"Y2018M04D25_RH_Convert_Pcrasters_Map_Geotiff_V01\"\n",
    "\n",
    "INPUT_VERSION = 2\n",
    "OUTPUT_VERSION = 1\n",
    "OUTPUT_FILE_NAME = \"df_errors.csv\"\n",
    "\n",
    "X_DIMENSION_5MIN = 4320\n",
    "Y_DIMENSION_5MIN = 2160\n",
    "\n",
    "SEPARATOR = \"_|-\"\n",
    "SCHEMA = [\"geographic_range\",\n",
    "          \"indicator\",\n",
    "          \"unit\",\n",
    "          \"spatial_resolution\",\n",
    "          \"input_version\"\n",
    "          ]\n",
    "\n",
    "EXTRA_PROPERTIES = {\"nodata_value\":-9999,\n",
    "                    \"ingested_by\" : \"RutgerHofste\",\n",
    "                    \"script_used\": SCRIPT_NAME,\n",
    "                    \"output_version\":OUTPUT_VERSION}\n",
    "\n",
    "gcs_input_path = \"gs://aqueduct30_v01/{}/output_V{:02.0f}/\".format(PREVIOUS_SCRIPT_NAME,INPUT_VERSION)\n",
    "ee_output_path = \"projects/WRI-Aquaduct/{}/output_V{:02.0f}\".format(SCRIPT_NAME,OUTPUT_VERSION)\n",
    "s3_output_path = \"s3://wri-projects/Aqueduct30/processData/{}/output_V{:02.0f}\".format(SCRIPT_NAME,OUTPUT_VERSION)\n",
    "ec2_output_path = \"/volumes/data/{}/output_V{:02.0f}\".format(SCRIPT_NAME,OUTPUT_VERSION)\n",
    "\n",
    "\n",
    "print(\"Input gcs: \" +  gcs_input_path +\n",
    "      \"\\nOutput ee: \" + ee_output_path +\n",
    "      \"\\nOutput S3: \" + s3_output_path +\n",
    "      \"\\nOutput ec2: \" + ec2_output_path)\n",
    "\n"
   ]
  },
  {
   "cell_type": "code",
   "execution_count": 2,
   "metadata": {},
   "outputs": [
    {
     "name": "stdout",
     "output_type": "stream",
     "text": [
      "Y2018M05D02 UTC 08:58\n"
     ]
    },
    {
     "data": {
      "text/plain": [
       "'3.5.4 |Anaconda, Inc.| (default, Nov 20 2017, 18:44:38) \\n[GCC 7.2.0]'"
      ]
     },
     "execution_count": 2,
     "metadata": {},
     "output_type": "execute_result"
    }
   ],
   "source": [
    "import time, datetime, sys\n",
    "dateString = time.strftime(\"Y%YM%mD%d\")\n",
    "timeString = time.strftime(\"UTC %H:%M\")\n",
    "start = datetime.datetime.now()\n",
    "print(dateString,timeString)\n",
    "sys.version"
   ]
  },
  {
   "cell_type": "code",
   "execution_count": 3,
   "metadata": {
    "collapsed": true
   },
   "outputs": [],
   "source": [
    "#imports\n",
    "import subprocess\n",
    "import datetime\n",
    "import os\n",
    "import time\n",
    "import re\n",
    "import pandas as pd\n",
    "from datetime import timedelta\n",
    "import aqueduct3"
   ]
  },
  {
   "cell_type": "code",
   "execution_count": 4,
   "metadata": {},
   "outputs": [
    {
     "name": "stdout",
     "output_type": "stream",
     "text": [
      "earthengine create folder projects/WRI-Aquaduct/Y2018M04D25_RH_Ingest_Pcraster_GCS_EE_V01/output_V01\n",
      "1 100.00elapsed:  0:00:04.215818\n",
      "upload: ../../../../data/Y2018M04D25_RH_Ingest_Pcraster_GCS_EE_V01/output_V01/df_errors.csv to s3://wri-projects/Aqueduct30/processData/Y2018M04D25_RH_Ingest_Pcraster_GCS_EE_V01/output_V01/df_errors.csv\n"
     ]
    }
   ],
   "source": [
    "def main():\n",
    "    start_time = time.time()\n",
    "    !mkdir -p {ec2_output_path}\n",
    "    keys = aqueduct3.get_GCS_keys(gcs_input_path)\n",
    "    df = aqueduct3.keys_to_df(keys,SEPARATOR,SCHEMA)\n",
    "    df = df.assign(**EXTRA_PROPERTIES) #Python >3.5\n",
    "    \n",
    "    # EXTRA FOR AUX FILES ONLY, replace nodata_value for ldd.\n",
    "    df.loc[df['file_name'] == \"global_lddsound_numpad_05min\", \"nodata_value\"] = 255\n",
    "    \n",
    "    df[\"exportdescription\"] = df[\"indicator\"]\n",
    "    df = df.apply(pd.to_numeric, errors='ignore')\n",
    "\n",
    "    # Earth Engine Preparations\n",
    "    # Create folder\n",
    "    if OVERWRITE:\n",
    "        command = \"earthengine rm -r {}\".format(ee_output_path)\n",
    "        print(command)\n",
    "        subprocess.check_output(command,shell=True)\n",
    "\n",
    "    command = \"earthengine create folder {}\".format(ee_output_path)\n",
    "    print(command)\n",
    "    subprocess.check_output(command,shell=True)\n",
    "\n",
    "\n",
    "    if TESTING:\n",
    "            df = df[1:3] \n",
    "\n",
    "    df_errors = pd.DataFrame()\n",
    "    for index, row in df.iterrows():\n",
    "        elapsed_time = time.time() - start_time \n",
    "        print(index,\"{:02.2f}\".format((float(index)/df.shape[0])*100) + \"elapsed: \", str(timedelta(seconds=elapsed_time)))\n",
    "\n",
    "        geotiff_gcs_path = gcs_input_path + row.file_name + \".\" + row.extension\n",
    "        output_ee_asset_id = ee_output_path + \"/\" + row.file_name\n",
    "        properties = row.to_dict()\n",
    "\n",
    "        df_errors2 = aqueduct3.upload_geotiff_to_EE_imageCollection(geotiff_gcs_path, output_ee_asset_id, properties,index)\n",
    "        df_errors = df_errors.append(df_errors2) \n",
    "\n",
    "    # Storing error dataframe on ec2 and S3\n",
    "    df_errors.to_csv(\"{}/{}\".format(ec2_output_path,OUTPUT_FILE_NAME))\n",
    "    !aws s3 cp  {ec2_output_path} {s3_output_path} --recursive\n",
    "\n",
    "    # Retry Failed Tasks Once\n",
    "    df_retry = df_errors.loc[df_errors['error'] != 0]\n",
    "    for index, row in df_retry.iterrows():\n",
    "        response = subprocess.check_output(row.command, shell=True)\n",
    "\n",
    "    return df,df_errors\n",
    "\n",
    "if __name__ == \"__main__\":\n",
    "    df,df_errors = main()"
   ]
  },
  {
   "cell_type": "code",
   "execution_count": 6,
   "metadata": {},
   "outputs": [
    {
     "data": {
      "text/html": [
       "<div>\n",
       "<style scoped>\n",
       "    .dataframe tbody tr th:only-of-type {\n",
       "        vertical-align: middle;\n",
       "    }\n",
       "\n",
       "    .dataframe tbody tr th {\n",
       "        vertical-align: top;\n",
       "    }\n",
       "\n",
       "    .dataframe thead th {\n",
       "        text-align: right;\n",
       "    }\n",
       "</style>\n",
       "<table border=\"1\" class=\"dataframe\">\n",
       "  <thead>\n",
       "    <tr style=\"text-align: right;\">\n",
       "      <th></th>\n",
       "      <th>extension</th>\n",
       "      <th>file_name</th>\n",
       "      <th>geographic_range</th>\n",
       "      <th>indicator</th>\n",
       "      <th>input_version</th>\n",
       "      <th>parameter</th>\n",
       "      <th>spatial_resolution</th>\n",
       "      <th>unit</th>\n",
       "      <th>ingested_by</th>\n",
       "      <th>nodata_value</th>\n",
       "      <th>output_version</th>\n",
       "      <th>script_used</th>\n",
       "      <th>exportdescription</th>\n",
       "    </tr>\n",
       "  </thead>\n",
       "  <tbody>\n",
       "    <tr>\n",
       "      <th>1</th>\n",
       "      <td>tif</td>\n",
       "      <td>global_streamorder_dimensionless_05min_V02</td>\n",
       "      <td>global</td>\n",
       "      <td>streamorder</td>\n",
       "      <td>V02</td>\n",
       "      <td>global_streamorder_dimensionless_05min_V02</td>\n",
       "      <td>05min</td>\n",
       "      <td>dimensionless</td>\n",
       "      <td>RutgerHofste</td>\n",
       "      <td>-9999</td>\n",
       "      <td>1</td>\n",
       "      <td>Y2018M04D25_RH_Ingest_Pcraster_GCS_EE_V01</td>\n",
       "      <td>streamorder</td>\n",
       "    </tr>\n",
       "  </tbody>\n",
       "</table>\n",
       "</div>"
      ],
      "text/plain": [
       "  extension                                   file_name geographic_range  \\\n",
       "1       tif  global_streamorder_dimensionless_05min_V02           global   \n",
       "\n",
       "     indicator input_version                                   parameter  \\\n",
       "1  streamorder           V02  global_streamorder_dimensionless_05min_V02   \n",
       "\n",
       "  spatial_resolution           unit   ingested_by  nodata_value  \\\n",
       "1              05min  dimensionless  RutgerHofste         -9999   \n",
       "\n",
       "   output_version                                script_used exportdescription  \n",
       "1               1  Y2018M04D25_RH_Ingest_Pcraster_GCS_EE_V01       streamorder  "
      ]
     },
     "execution_count": 6,
     "metadata": {},
     "output_type": "execute_result"
    }
   ],
   "source": [
    "df"
   ]
  },
  {
   "cell_type": "code",
   "execution_count": 5,
   "metadata": {},
   "outputs": [
    {
     "name": "stdout",
     "output_type": "stream",
     "text": [
      "0:00:10.622572\n"
     ]
    }
   ],
   "source": [
    "end = datetime.datetime.now()\n",
    "elapsed = end - start\n",
    "print(elapsed)"
   ]
  },
  {
   "cell_type": "markdown",
   "metadata": {},
   "source": [
    "Previous Runs:  \n",
    "0:00:10.314571\n"
   ]
  },
  {
   "cell_type": "code",
   "execution_count": null,
   "metadata": {
    "collapsed": true
   },
   "outputs": [],
   "source": []
  }
 ],
 "metadata": {
  "kernelspec": {
   "display_name": "Python 35",
   "language": "python",
   "name": "python35"
  },
  "language_info": {
   "codemirror_mode": {
    "name": "ipython",
    "version": 3
   },
   "file_extension": ".py",
   "mimetype": "text/x-python",
   "name": "python",
   "nbconvert_exporter": "python",
   "pygments_lexer": "ipython3",
   "version": "3.5.4"
  }
 },
 "nbformat": 4,
 "nbformat_minor": 2
}
