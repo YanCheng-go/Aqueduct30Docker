{
 "cells": [
  {
   "cell_type": "markdown",
   "metadata": {},
   "source": [
    "# Calculate Water Stress from dataframe\n",
    "\n",
    "* Purpose of script: calculate total demand (Dom, IrrLinear, Liv, Ind) and Reduced Runoff and water stress.\n",
    "* Author: Rutger Hofste\n",
    "* Kernel used: python35\n",
    "* Date created: 20171002"
   ]
  },
  {
   "cell_type": "code",
   "execution_count": 1,
   "metadata": {},
   "outputs": [
    {
     "name": "stdout",
     "output_type": "stream",
     "text": [
      "Y2017M11D16 UTC 14:14\n"
     ]
    }
   ],
   "source": [
    "import time, datetime\n",
    "dateString = time.strftime(\"Y%YM%mD%d\")\n",
    "timeString = time.strftime(\"UTC %H:%M\")\n",
    "start = datetime.datetime.now()\n",
    "print(dateString,timeString)"
   ]
  },
  {
   "cell_type": "code",
   "execution_count": 2,
   "metadata": {
    "collapsed": true
   },
   "outputs": [],
   "source": [
    "INPUT_VERSION = 6\n",
    "OUTPUT_VERSION = 4\n",
    "\n",
    "SCRIPT_NAME = \"Y2017M10D02_RH_Calculate_Water_Stress_V01\"\n",
    "\n",
    "S3_INPUT_PATH = \"s3://wri-projects/Aqueduct30/processData/Y2017M09D15_RH_Add_Basin_Data_V01/output/\"\n",
    "S3_OUTPUT_PATH = \"s3://wri-projects/Aqueduct30/processData/%s/output/\" %(SCRIPT_NAME)\n",
    "\n",
    "EC2_INPUT_PATH = \"/volumes/data/%s/input\" %(SCRIPT_NAME)\n",
    "EC2_OUTPUT_PATH = \"/volumes/data/%s/output\" %(SCRIPT_NAME)\n",
    "\n",
    "INPUT_FILENAME = \"Y2017M09D15_RH_Add_Basin_Data_V%0.2d\" %(INPUT_VERSION)\n",
    "OUTPUT_FILENAME = \"Y2017M10D02_RH_Calculate_Water_Stress_V%0.2d\" %(OUTPUT_VERSION)\n",
    "\n",
    "TEST_BASINS = [292107,292101,292103,292108,292109]"
   ]
  },
  {
   "cell_type": "markdown",
   "metadata": {},
   "source": [
    "Read Pickle file instead of csv "
   ]
  },
  {
   "cell_type": "code",
   "execution_count": 3,
   "metadata": {
    "collapsed": true
   },
   "outputs": [],
   "source": [
    "!rm -r {EC2_INPUT_PATH} \n",
    "!rm -r {EC2_OUTPUT_PATH} "
   ]
  },
  {
   "cell_type": "code",
   "execution_count": 4,
   "metadata": {
    "collapsed": true
   },
   "outputs": [],
   "source": [
    "!mkdir -p {EC2_INPUT_PATH} \n",
    "!mkdir -p {EC2_OUTPUT_PATH} "
   ]
  },
  {
   "cell_type": "code",
   "execution_count": 5,
   "metadata": {},
   "outputs": [
    {
     "name": "stdout",
     "output_type": "stream",
     "text": [
      "download: s3://wri-projects/Aqueduct30/processData/Y2017M09D15_RH_Add_Basin_Data_V01/output/Y2017M09D15_RH_Add_Basin_Data_V06.pkl to ../../../../data/Y2017M10D02_RH_Calculate_Water_Stress_V01/input/Y2017M09D15_RH_Add_Basin_Data_V06.pkl\n",
      "download: s3://wri-projects/Aqueduct30/processData/Y2017M09D15_RH_Add_Basin_Data_V01/output/Y2017M09D15_RH_Add_Basin_Data_V06.csv to ../../../../data/Y2017M10D02_RH_Calculate_Water_Stress_V01/input/Y2017M09D15_RH_Add_Basin_Data_V06.csv\n"
     ]
    }
   ],
   "source": [
    "!aws s3 cp {S3_INPUT_PATH} {EC2_INPUT_PATH} --recursive"
   ]
  },
  {
   "cell_type": "code",
   "execution_count": 6,
   "metadata": {
    "collapsed": true
   },
   "outputs": [],
   "source": [
    "import os\n",
    "import pandas as pd"
   ]
  },
  {
   "cell_type": "code",
   "execution_count": 7,
   "metadata": {
    "collapsed": true
   },
   "outputs": [],
   "source": [
    "dfBasins = pd.read_pickle(os.path.join(EC2_INPUT_PATH,INPUT_FILENAME+\".pkl\"))"
   ]
  },
  {
   "cell_type": "markdown",
   "metadata": {},
   "source": [
    "WS = Local WW / (avail runoff)  = Local WW / (Runoff_up + Runoff_local - WN_up)"
   ]
  },
  {
   "cell_type": "code",
   "execution_count": 8,
   "metadata": {
    "collapsed": true
   },
   "outputs": [],
   "source": [
    "dfOut = dfBasins"
   ]
  },
  {
   "cell_type": "code",
   "execution_count": 9,
   "metadata": {
    "collapsed": true
   },
   "outputs": [],
   "source": [
    "def calculateWaterStressYear(temporalResolution,year,df):\n",
    "    dfTemp = df.copy()\n",
    "    dfTemp[\"total_volume_availableSupply_year_Y%0.4d\" %(year)] = (dfTemp[\"upstream_total_volume_reducedmeanrunoff_year_Y1960Y2014\"] + \\\n",
    "                                                     dfTemp[\"total_volume_reducedmeanrunoff_year_Y1960Y2014\"] - \\\n",
    "                                                     dfTemp[\"upstream_total_volume_TotWN_year_Y%0.4d\" %(year)])\n",
    "    \n",
    "    dfTemp[\"ws_year_Y%0.4d\" %(year)] = dfTemp[\"total_volume_TotWW_year_Y%0.4d\" %(year)] /  \\\n",
    "                                      dfTemp[\"total_volume_availableSupply_year_Y%0.4d\" %(year)]\n",
    "    \n",
    "    return dfTemp\n",
    "    \n",
    "def calculateWaterStressMonth(temporalResolution,year,month,df):\n",
    "    dfTemp = df.copy()\n",
    "    dfTemp[\"total_volume_availableSupply_month_Y%0.4dM%0.2d\" %(year,month)] =(dfTemp[\"upstream_total_volume_reducedmeanrunoff_month_Y1960Y2014M%0.2d\" %(month)] + \\\n",
    "                                                                 dfTemp[\"total_volume_reducedmeanrunoff_month_Y1960Y2014M%0.2d\" %(month)] - \\\n",
    "                                                                 dfTemp[\"upstream_total_volume_TotWN_month_Y%0.4dM%0.2d\" %(year,month)])\n",
    "    \n",
    "    dfTemp[\"ws_month_Y%0.4dM%0.2d\" %(year,month)] = dfTemp[\"total_volume_TotWW_month_Y%0.4dM%0.2d\" %(year,month)] /  \\\n",
    "                                                   dfTemp[\"total_volume_availableSupply_month_Y%0.4dM%0.2d\" %(year,month)]\n",
    "    return dfTemp\n",
    "    \n",
    "    "
   ]
  },
  {
   "cell_type": "code",
   "execution_count": 10,
   "metadata": {
    "collapsed": true
   },
   "outputs": [],
   "source": [
    "temporalResolutions = [\"year\",\"month\"]\n",
    "year = 2014"
   ]
  },
  {
   "cell_type": "code",
   "execution_count": 11,
   "metadata": {},
   "outputs": [],
   "source": [
    "for temporalResolution in temporalResolutions:\n",
    "    if temporalResolution == \"year\":\n",
    "        months = [12]\n",
    "        dfOut = calculateWaterStressYear(temporalResolution,year,dfOut)\n",
    "        \n",
    "    elif temporalResolution == \"month\":\n",
    "        months = range(1,13)    \n",
    "        for month in months:\n",
    "            dfOut = calculateWaterStressMonth(temporalResolution,year,month,dfOut)"
   ]
  },
  {
   "cell_type": "code",
   "execution_count": 12,
   "metadata": {
    "collapsed": true
   },
   "outputs": [],
   "source": [
    "dfOut.to_csv(os.path.join(EC2_OUTPUT_PATH,OUTPUT_FILENAME+\".csv\"))"
   ]
  },
  {
   "cell_type": "code",
   "execution_count": 13,
   "metadata": {
    "collapsed": true
   },
   "outputs": [],
   "source": [
    "dfOut.to_pickle(os.path.join(EC2_OUTPUT_PATH,OUTPUT_FILENAME+\".pkl\"))"
   ]
  },
  {
   "cell_type": "code",
   "execution_count": 14,
   "metadata": {},
   "outputs": [
    {
     "name": "stdout",
     "output_type": "stream",
     "text": [
      "upload: ../../../../data/Y2017M10D02_RH_Calculate_Water_Stress_V01/output/Y2017M10D02_RH_Calculate_Water_Stress_V04.pkl to s3://wri-projects/Aqueduct30/processData/Y2017M10D02_RH_Calculate_Water_Stress_V01/output/Y2017M10D02_RH_Calculate_Water_Stress_V04.pkl\n",
      "upload: ../../../../data/Y2017M10D02_RH_Calculate_Water_Stress_V01/output/Y2017M10D02_RH_Calculate_Water_Stress_V04.csv to s3://wri-projects/Aqueduct30/processData/Y2017M10D02_RH_Calculate_Water_Stress_V01/output/Y2017M10D02_RH_Calculate_Water_Stress_V04.csv\n"
     ]
    }
   ],
   "source": [
    "!aws s3 cp {EC2_OUTPUT_PATH} {S3_OUTPUT_PATH} --recursive"
   ]
  },
  {
   "cell_type": "code",
   "execution_count": 15,
   "metadata": {},
   "outputs": [
    {
     "name": "stdout",
     "output_type": "stream",
     "text": [
      "0:01:12.651731\n"
     ]
    }
   ],
   "source": [
    "end = datetime.datetime.now()\n",
    "elapsed = end - start\n",
    "print(elapsed)"
   ]
  }
 ],
 "metadata": {
  "kernelspec": {
   "display_name": "Python 35",
   "language": "python",
   "name": "python35"
  },
  "language_info": {
   "codemirror_mode": {
    "name": "ipython",
    "version": 3
   },
   "file_extension": ".py",
   "mimetype": "text/x-python",
   "name": "python",
   "nbconvert_exporter": "python",
   "pygments_lexer": "ipython3",
   "version": "3.5.4"
  }
 },
 "nbformat": 4,
 "nbformat_minor": 2
}
