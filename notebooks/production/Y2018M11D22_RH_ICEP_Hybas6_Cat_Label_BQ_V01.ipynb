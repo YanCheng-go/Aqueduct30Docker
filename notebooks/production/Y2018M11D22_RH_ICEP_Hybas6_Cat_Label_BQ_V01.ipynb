{
 "cells": [
  {
   "cell_type": "code",
   "execution_count": 1,
   "metadata": {},
   "outputs": [
    {
     "name": "stdout",
     "output_type": "stream",
     "text": [
      "S3_INPUT_PATH:  s3://wri-projects/Aqueduct30/processData/Y2018M11D22_RH_ICEP_Zonal_Stats_Hybas6_EE_V01/output_V01/ \n",
      "ec2_input_path:  /volumes/data/Y2018M11D22_RH_ICEP_Hybas6_Cat_Label_BQ_V01/input_V01 \n",
      "BQ_OUTPUT_DATASET_NAME:  aqueduct30v01 \n",
      "BQ_OUTPUT_TABLE_NAME:  y2018m11d22_rh_icep_hybas6_cat_label_bq_v01_v01\n"
     ]
    }
   ],
   "source": [
    "\"\"\" Cleanup, add category and label for icep at hydrobasin level 6.\n",
    "-------------------------------------------------------------------------------\n",
    "\n",
    "Author: Rutger Hofste\n",
    "Date: 20181122\n",
    "Kernel: python35\n",
    "Docker: rutgerhofste/gisdocker:ubuntu16.04\n",
    "\n",
    "Args:\n",
    "    TESTING (Boolean) : Toggle testing case.\n",
    "    SCRIPT_\n",
    "    NAME (string) : Script name.\n",
    "    OUTPUT_VERSION (integer) : output version.\n",
    "    DATABASE_ENDPOINT (string) : RDS or postGreSQL endpoint.\n",
    "    DATABASE_NAME (string) : Database name.\n",
    "    TABLE_NAME_AREA_30SPFAF06 (string) : Table name used for areas. Must exist\n",
    "        on same database as used in rest of script.\n",
    "    S3_INPUT_PATH_RIVERDISCHARGE (string) : AWS S3 input path for \n",
    "        riverdischarge.    \n",
    "    S3_INPUT_PATH_DEMAND (string) : AWS S3 input path for \n",
    "        demand.     \n",
    "\n",
    "\"\"\"\n",
    "\n",
    "TESTING = 0\n",
    "SCRIPT_NAME = \"Y2018M11D22_RH_ICEP_Hybas6_Cat_Label_BQ_V01\"\n",
    "OUTPUT_VERSION = 1\n",
    "\n",
    "\n",
    "S3_INPUT_PATH = \"s3://wri-projects/Aqueduct30/processData/Y2018M11D22_RH_ICEP_Zonal_Stats_Hybas6_EE_V01/output_V01/\"\n",
    "\n",
    "BQ_PROJECT_ID = \"aqueduct30\"\n",
    "BQ_OUTPUT_DATASET_NAME = \"aqueduct30v01\"\n",
    "BQ_OUTPUT_TABLE_NAME = \"{}_v{:02.0f}\".format(SCRIPT_NAME,OUTPUT_VERSION).lower()\n",
    "\n",
    "ec2_input_path = \"/volumes/data/{}/input_V{:02.0f}\".format(SCRIPT_NAME,OUTPUT_VERSION) \n",
    "ec2_output_path = \"/volumes/data/{}/output_V{:02.0f}\".format(SCRIPT_NAME,OUTPUT_VERSION) \n",
    "\n",
    "\n",
    "print(\"S3_INPUT_PATH: \",S3_INPUT_PATH,\n",
    "      \"\\nec2_input_path: \",ec2_input_path,\n",
    "      \"\\nBQ_OUTPUT_DATASET_NAME: \", BQ_OUTPUT_DATASET_NAME,\n",
    "      \"\\nBQ_OUTPUT_TABLE_NAME: \",BQ_OUTPUT_TABLE_NAME\n",
    "      )\n"
   ]
  },
  {
   "cell_type": "code",
   "execution_count": 2,
   "metadata": {},
   "outputs": [
    {
     "name": "stdout",
     "output_type": "stream",
     "text": [
      "Y2018M11D23 UTC 16:58\n"
     ]
    },
    {
     "data": {
      "text/plain": [
       "'3.5.4 |Anaconda, Inc.| (default, Nov 20 2017, 18:44:38) \\n[GCC 7.2.0]'"
      ]
     },
     "execution_count": 2,
     "metadata": {},
     "output_type": "execute_result"
    }
   ],
   "source": [
    "import time, datetime, sys\n",
    "dateString = time.strftime(\"Y%YM%mD%d\")\n",
    "timeString = time.strftime(\"UTC %H:%M\")\n",
    "start = datetime.datetime.now()\n",
    "print(dateString,timeString)\n",
    "sys.version"
   ]
  },
  {
   "cell_type": "code",
   "execution_count": 3,
   "metadata": {},
   "outputs": [],
   "source": [
    "!rm -r {ec2_input_path}\n",
    "!rm -r {ec2_output_path}\n",
    "!mkdir -p {ec2_input_path}\n",
    "!mkdir -p {ec2_output_path}"
   ]
  },
  {
   "cell_type": "code",
   "execution_count": 4,
   "metadata": {},
   "outputs": [
    {
     "name": "stdout",
     "output_type": "stream",
     "text": [
      "download: s3://wri-projects/Aqueduct30/processData/Y2018M11D22_RH_ICEP_Zonal_Stats_Hybas6_EE_V01/output_V01/icep_cat_label.pkl to ../../../../data/Y2018M11D22_RH_ICEP_Hybas6_Cat_Label_BQ_V01/input_V01/icep_cat_label.pkl\n",
      "download: s3://wri-projects/Aqueduct30/processData/Y2018M11D22_RH_ICEP_Zonal_Stats_Hybas6_EE_V01/output_V01/df_hybas_lev06_30s.pkl to ../../../../data/Y2018M11D22_RH_ICEP_Hybas6_Cat_Label_BQ_V01/input_V01/df_hybas_lev06_30s.pkl\n",
      "download: s3://wri-projects/Aqueduct30/processData/Y2018M11D22_RH_ICEP_Zonal_Stats_Hybas6_EE_V01/output_V01/icep_cat_label.csv to ../../../../data/Y2018M11D22_RH_ICEP_Hybas6_Cat_Label_BQ_V01/input_V01/icep_cat_label.csv\n",
      "download: s3://wri-projects/Aqueduct30/processData/Y2018M11D22_RH_ICEP_Zonal_Stats_Hybas6_EE_V01/output_V01/df_hybas_lev06_30s.csv to ../../../../data/Y2018M11D22_RH_ICEP_Hybas6_Cat_Label_BQ_V01/input_V01/df_hybas_lev06_30s.csv\n"
     ]
    }
   ],
   "source": [
    "!aws s3 cp {S3_INPUT_PATH} {ec2_input_path} --recursive"
   ]
  },
  {
   "cell_type": "code",
   "execution_count": 5,
   "metadata": {
    "collapsed": true
   },
   "outputs": [],
   "source": [
    "import os\n",
    "import pandas as pd\n",
    "import numpy as np\n",
    "from google.cloud import bigquery\n",
    "\n",
    "os.environ[\"GOOGLE_APPLICATION_CREDENTIALS\"] = \"/.google.json\"\n",
    "os.environ[\"GOOGLE_CLOUD_PROJECT\"] = \"aqueduct30\"\n",
    "client = bigquery.Client(project=BQ_PROJECT_ID)"
   ]
  },
  {
   "cell_type": "code",
   "execution_count": 6,
   "metadata": {},
   "outputs": [],
   "source": [
    "def normalize_score(row):\n",
    "    if row <= -5:\n",
    "        minV, maxV, addV = icep_min, -5, 0\n",
    "    elif row <= 0:\n",
    "        minV, maxV, addV = -5, -1, 0\n",
    "    elif row <= 1:\n",
    "        minV, maxV, addV = 0, 1, 2\n",
    "    elif row <= 5:\n",
    "        minV, maxV, addV = 1, 5, 3\n",
    "    else:\n",
    "        minV, maxV, addV = 5, icep_max, 4\n",
    "\n",
    "    # Normalize score base on class bounds\n",
    "    score = (row - minV) / (maxV - minV) + addV\n",
    "    # Fix scores less than 0 or great than 5\n",
    "    final_score = np.where(score < 0, 0, np.where(score > 5, 5, score))\n",
    "    return final_score\n",
    "\n",
    "def category_to_label(row):\n",
    "    if row < 1:\n",
    "        cat = \"Low (< -5)\"\n",
    "    elif row < 2:\n",
    "        cat = \"Low to medium (-5 to 0)\"\n",
    "    elif row < 3:\n",
    "        cat = \"Medium to high (0 to +1)\"\n",
    "    elif row < 4:\n",
    "        cat = \"High (+1 to +5)\"\n",
    "    elif row <= 5:\n",
    "        cat = \"Extremely High (> +5)\"\n",
    "    else:\n",
    "        cat = \"No Data\"\n",
    "    return cat\n",
    "\n",
    "def label_to_category(row):\n",
    "    if row == \"Low (< -5)\":\n",
    "        cat = 0\n",
    "    elif row == \"Low to medium (-5 to 0)\":\n",
    "        cat = 1\n",
    "    elif row == \"Medium to high (0 to +1)\":\n",
    "        cat = 2\n",
    "    elif row == \"High (+1 to +5)\":\n",
    "        cat = 3\n",
    "    elif row == \"Extremely High (> +5)\":\n",
    "        cat = 4\n",
    "    else:\n",
    "        cat = -1\n",
    "    return cat"
   ]
  },
  {
   "cell_type": "code",
   "execution_count": 7,
   "metadata": {
    "collapsed": true
   },
   "outputs": [],
   "source": [
    "files = os.listdir(ec2_input_path)"
   ]
  },
  {
   "cell_type": "code",
   "execution_count": 8,
   "metadata": {},
   "outputs": [
    {
     "data": {
      "text/plain": [
       "['df_hybas_lev06_30s.pkl',\n",
       " 'icep_cat_label.pkl',\n",
       " 'df_hybas_lev06_30s.csv',\n",
       " 'icep_cat_label.csv']"
      ]
     },
     "execution_count": 8,
     "metadata": {},
     "output_type": "execute_result"
    }
   ],
   "source": [
    "files"
   ]
  },
  {
   "cell_type": "code",
   "execution_count": 9,
   "metadata": {
    "collapsed": true
   },
   "outputs": [],
   "source": [
    "input_file_path = \"{}/df_hybas_lev06_30s.pkl\".format(ec2_input_path)\n"
   ]
  },
  {
   "cell_type": "code",
   "execution_count": 10,
   "metadata": {
    "collapsed": true
   },
   "outputs": [],
   "source": [
    "df = pd.read_pickle(input_file_path)"
   ]
  },
  {
   "cell_type": "code",
   "execution_count": 11,
   "metadata": {},
   "outputs": [
    {
     "data": {
      "text/html": [
       "<div>\n",
       "<style scoped>\n",
       "    .dataframe tbody tr th:only-of-type {\n",
       "        vertical-align: middle;\n",
       "    }\n",
       "\n",
       "    .dataframe tbody tr th {\n",
       "        vertical-align: top;\n",
       "    }\n",
       "\n",
       "    .dataframe thead th {\n",
       "        text-align: right;\n",
       "    }\n",
       "</style>\n",
       "<table border=\"1\" class=\"dataframe\">\n",
       "  <thead>\n",
       "    <tr style=\"text-align: right;\">\n",
       "      <th></th>\n",
       "      <th>count</th>\n",
       "      <th>mean</th>\n",
       "      <th>zones</th>\n",
       "      <th>output_version</th>\n",
       "      <th>parameter</th>\n",
       "      <th>reducer</th>\n",
       "      <th>script_used</th>\n",
       "      <th>spatial_aggregation</th>\n",
       "      <th>spatial_resolution</th>\n",
       "      <th>unit</th>\n",
       "    </tr>\n",
       "  </thead>\n",
       "  <tbody>\n",
       "    <tr>\n",
       "      <th>0</th>\n",
       "      <td>2536</td>\n",
       "      <td>0.000000</td>\n",
       "      <td>111011.0</td>\n",
       "      <td>1</td>\n",
       "      <td>icep_raw</td>\n",
       "      <td>mean</td>\n",
       "      <td>Y2018M11D22_RH_ICEP_Zonal_Stats_Hybas6_EE_V01</td>\n",
       "      <td>hydrobasin</td>\n",
       "      <td>30s</td>\n",
       "      <td>dimensionless</td>\n",
       "    </tr>\n",
       "    <tr>\n",
       "      <th>1</th>\n",
       "      <td>3921</td>\n",
       "      <td>0.000000</td>\n",
       "      <td>111012.0</td>\n",
       "      <td>1</td>\n",
       "      <td>icep_raw</td>\n",
       "      <td>mean</td>\n",
       "      <td>Y2018M11D22_RH_ICEP_Zonal_Stats_Hybas6_EE_V01</td>\n",
       "      <td>hydrobasin</td>\n",
       "      <td>30s</td>\n",
       "      <td>dimensionless</td>\n",
       "    </tr>\n",
       "    <tr>\n",
       "      <th>2</th>\n",
       "      <td>1194</td>\n",
       "      <td>0.000000</td>\n",
       "      <td>111013.0</td>\n",
       "      <td>1</td>\n",
       "      <td>icep_raw</td>\n",
       "      <td>mean</td>\n",
       "      <td>Y2018M11D22_RH_ICEP_Zonal_Stats_Hybas6_EE_V01</td>\n",
       "      <td>hydrobasin</td>\n",
       "      <td>30s</td>\n",
       "      <td>dimensionless</td>\n",
       "    </tr>\n",
       "    <tr>\n",
       "      <th>3</th>\n",
       "      <td>5605</td>\n",
       "      <td>-0.015514</td>\n",
       "      <td>111014.0</td>\n",
       "      <td>1</td>\n",
       "      <td>icep_raw</td>\n",
       "      <td>mean</td>\n",
       "      <td>Y2018M11D22_RH_ICEP_Zonal_Stats_Hybas6_EE_V01</td>\n",
       "      <td>hydrobasin</td>\n",
       "      <td>30s</td>\n",
       "      <td>dimensionless</td>\n",
       "    </tr>\n",
       "    <tr>\n",
       "      <th>4</th>\n",
       "      <td>21073</td>\n",
       "      <td>-0.005207</td>\n",
       "      <td>111015.0</td>\n",
       "      <td>1</td>\n",
       "      <td>icep_raw</td>\n",
       "      <td>mean</td>\n",
       "      <td>Y2018M11D22_RH_ICEP_Zonal_Stats_Hybas6_EE_V01</td>\n",
       "      <td>hydrobasin</td>\n",
       "      <td>30s</td>\n",
       "      <td>dimensionless</td>\n",
       "    </tr>\n",
       "  </tbody>\n",
       "</table>\n",
       "</div>"
      ],
      "text/plain": [
       "   count      mean     zones  output_version parameter reducer  \\\n",
       "0   2536  0.000000  111011.0               1  icep_raw    mean   \n",
       "1   3921  0.000000  111012.0               1  icep_raw    mean   \n",
       "2   1194  0.000000  111013.0               1  icep_raw    mean   \n",
       "3   5605 -0.015514  111014.0               1  icep_raw    mean   \n",
       "4  21073 -0.005207  111015.0               1  icep_raw    mean   \n",
       "\n",
       "                                     script_used spatial_aggregation  \\\n",
       "0  Y2018M11D22_RH_ICEP_Zonal_Stats_Hybas6_EE_V01          hydrobasin   \n",
       "1  Y2018M11D22_RH_ICEP_Zonal_Stats_Hybas6_EE_V01          hydrobasin   \n",
       "2  Y2018M11D22_RH_ICEP_Zonal_Stats_Hybas6_EE_V01          hydrobasin   \n",
       "3  Y2018M11D22_RH_ICEP_Zonal_Stats_Hybas6_EE_V01          hydrobasin   \n",
       "4  Y2018M11D22_RH_ICEP_Zonal_Stats_Hybas6_EE_V01          hydrobasin   \n",
       "\n",
       "  spatial_resolution           unit  \n",
       "0                30s  dimensionless  \n",
       "1                30s  dimensionless  \n",
       "2                30s  dimensionless  \n",
       "3                30s  dimensionless  \n",
       "4                30s  dimensionless  "
      ]
     },
     "execution_count": 11,
     "metadata": {},
     "output_type": "execute_result"
    }
   ],
   "source": [
    "df.head()"
   ]
  },
  {
   "cell_type": "code",
   "execution_count": 12,
   "metadata": {},
   "outputs": [],
   "source": [
    "df.zones = df.zones.astype(np.int64)"
   ]
  },
  {
   "cell_type": "code",
   "execution_count": 13,
   "metadata": {
    "collapsed": true
   },
   "outputs": [],
   "source": [
    "df = df.rename(columns={\"mean\":\"ICEP_raw\",\n",
    "                        \"zones\":\"pfaf_id\"})"
   ]
  },
  {
   "cell_type": "code",
   "execution_count": 14,
   "metadata": {},
   "outputs": [],
   "source": [
    "icep_min = df[\"ICEP_raw\"].min()\n",
    "icep_max = df[\"ICEP_raw\"].max()"
   ]
  },
  {
   "cell_type": "code",
   "execution_count": 15,
   "metadata": {},
   "outputs": [
    {
     "data": {
      "text/plain": [
       "-240.62016440799999"
      ]
     },
     "execution_count": 15,
     "metadata": {},
     "output_type": "execute_result"
    }
   ],
   "source": [
    "icep_min"
   ]
  },
  {
   "cell_type": "code",
   "execution_count": 16,
   "metadata": {},
   "outputs": [
    {
     "data": {
      "text/plain": [
       "80.416366248800003"
      ]
     },
     "execution_count": 16,
     "metadata": {},
     "output_type": "execute_result"
    }
   ],
   "source": [
    "icep_max"
   ]
  },
  {
   "cell_type": "code",
   "execution_count": 17,
   "metadata": {},
   "outputs": [],
   "source": [
    "df[\"ICEP_score\"] = df[\"ICEP_raw\"].apply(lambda x: normalize_score(x))"
   ]
  },
  {
   "cell_type": "code",
   "execution_count": 18,
   "metadata": {},
   "outputs": [],
   "source": [
    "df[\"ICEP_label\"] = df[\"ICEP_score\"].apply(lambda x: category_to_label(x))"
   ]
  },
  {
   "cell_type": "code",
   "execution_count": 19,
   "metadata": {
    "collapsed": true
   },
   "outputs": [],
   "source": [
    "df[\"ICEP_cat\"] = df[\"ICEP_label\"].apply(lambda x: label_to_category(x))"
   ]
  },
  {
   "cell_type": "code",
   "execution_count": 20,
   "metadata": {},
   "outputs": [],
   "source": [
    "df = df.drop(columns=[\"output_version\",\"reducer\",\"script_used\",\"spatial_aggregation\",\"spatial_resolution\",\"unit\",\"parameter\"])"
   ]
  },
  {
   "cell_type": "code",
   "execution_count": 21,
   "metadata": {},
   "outputs": [],
   "source": [
    "df.columns = df.columns.str.lower()"
   ]
  },
  {
   "cell_type": "code",
   "execution_count": 22,
   "metadata": {},
   "outputs": [
    {
     "data": {
      "text/html": [
       "<div>\n",
       "<style scoped>\n",
       "    .dataframe tbody tr th:only-of-type {\n",
       "        vertical-align: middle;\n",
       "    }\n",
       "\n",
       "    .dataframe tbody tr th {\n",
       "        vertical-align: top;\n",
       "    }\n",
       "\n",
       "    .dataframe thead th {\n",
       "        text-align: right;\n",
       "    }\n",
       "</style>\n",
       "<table border=\"1\" class=\"dataframe\">\n",
       "  <thead>\n",
       "    <tr style=\"text-align: right;\">\n",
       "      <th></th>\n",
       "      <th>count</th>\n",
       "      <th>icep_raw</th>\n",
       "      <th>pfaf_id</th>\n",
       "      <th>icep_score</th>\n",
       "      <th>icep_label</th>\n",
       "      <th>icep_cat</th>\n",
       "    </tr>\n",
       "  </thead>\n",
       "  <tbody>\n",
       "    <tr>\n",
       "      <th>0</th>\n",
       "      <td>2536</td>\n",
       "      <td>0.000000</td>\n",
       "      <td>111011</td>\n",
       "      <td>1.250000</td>\n",
       "      <td>Low to medium (-5 to 0)</td>\n",
       "      <td>1</td>\n",
       "    </tr>\n",
       "    <tr>\n",
       "      <th>1</th>\n",
       "      <td>3921</td>\n",
       "      <td>0.000000</td>\n",
       "      <td>111012</td>\n",
       "      <td>1.250000</td>\n",
       "      <td>Low to medium (-5 to 0)</td>\n",
       "      <td>1</td>\n",
       "    </tr>\n",
       "    <tr>\n",
       "      <th>2</th>\n",
       "      <td>1194</td>\n",
       "      <td>0.000000</td>\n",
       "      <td>111013</td>\n",
       "      <td>1.250000</td>\n",
       "      <td>Low to medium (-5 to 0)</td>\n",
       "      <td>1</td>\n",
       "    </tr>\n",
       "    <tr>\n",
       "      <th>3</th>\n",
       "      <td>5605</td>\n",
       "      <td>-0.015514</td>\n",
       "      <td>111014</td>\n",
       "      <td>1.246121</td>\n",
       "      <td>Low to medium (-5 to 0)</td>\n",
       "      <td>1</td>\n",
       "    </tr>\n",
       "    <tr>\n",
       "      <th>4</th>\n",
       "      <td>21073</td>\n",
       "      <td>-0.005207</td>\n",
       "      <td>111015</td>\n",
       "      <td>1.248698</td>\n",
       "      <td>Low to medium (-5 to 0)</td>\n",
       "      <td>1</td>\n",
       "    </tr>\n",
       "  </tbody>\n",
       "</table>\n",
       "</div>"
      ],
      "text/plain": [
       "   count  icep_raw  pfaf_id  icep_score               icep_label  icep_cat\n",
       "0   2536  0.000000   111011    1.250000  Low to medium (-5 to 0)         1\n",
       "1   3921  0.000000   111012    1.250000  Low to medium (-5 to 0)         1\n",
       "2   1194  0.000000   111013    1.250000  Low to medium (-5 to 0)         1\n",
       "3   5605 -0.015514   111014    1.246121  Low to medium (-5 to 0)         1\n",
       "4  21073 -0.005207   111015    1.248698  Low to medium (-5 to 0)         1"
      ]
     },
     "execution_count": 22,
     "metadata": {},
     "output_type": "execute_result"
    }
   ],
   "source": [
    "df.head()"
   ]
  },
  {
   "cell_type": "code",
   "execution_count": 23,
   "metadata": {
    "collapsed": true
   },
   "outputs": [],
   "source": [
    "destination_table = \"{}.{}\".format(BQ_OUTPUT_DATASET_NAME,BQ_OUTPUT_TABLE_NAME)"
   ]
  },
  {
   "cell_type": "code",
   "execution_count": 24,
   "metadata": {},
   "outputs": [
    {
     "name": "stderr",
     "output_type": "stream",
     "text": [
      "2it [00:03,  1.99s/it]\n"
     ]
    }
   ],
   "source": [
    "df.to_gbq(destination_table=destination_table,\n",
    "          project_id=BQ_PROJECT_ID,\n",
    "          chunksize=10000,\n",
    "          if_exists=\"replace\")"
   ]
  },
  {
   "cell_type": "code",
   "execution_count": 25,
   "metadata": {},
   "outputs": [],
   "source": [
    "output_file_path_pkl = \"{}/icep_cat_label.pkl\".format(ec2_output_path)\n",
    "output_file_path_csv = \"{}/icep_cat_label.csv\".format(ec2_output_path)\n",
    "df.to_pickle(output_file_path_pkl)\n",
    "df.to_csv(output_file_path_csv,encoding='utf-8')"
   ]
  },
  {
   "cell_type": "code",
   "execution_count": 26,
   "metadata": {},
   "outputs": [
    {
     "name": "stdout",
     "output_type": "stream",
     "text": [
      "upload: ../../../../data/Y2018M11D22_RH_ICEP_Hybas6_Cat_Label_BQ_V01/output_V01/icep_cat_label.pkl to s3://wri-projects/Aqueduct30/processData/Y2018M11D22_RH_ICEP_Zonal_Stats_Hybas6_EE_V01/output_V01/icep_cat_label.pkl\n",
      "upload: ../../../../data/Y2018M11D22_RH_ICEP_Hybas6_Cat_Label_BQ_V01/output_V01/icep_cat_label.csv to s3://wri-projects/Aqueduct30/processData/Y2018M11D22_RH_ICEP_Zonal_Stats_Hybas6_EE_V01/output_V01/icep_cat_label.csv\n"
     ]
    }
   ],
   "source": [
    "!aws s3 cp  {ec2_output_path} {S3_INPUT_PATH} --recursive"
   ]
  },
  {
   "cell_type": "code",
   "execution_count": 27,
   "metadata": {},
   "outputs": [
    {
     "name": "stdout",
     "output_type": "stream",
     "text": [
      "0:00:19.542761\n"
     ]
    }
   ],
   "source": [
    "end = datetime.datetime.now()\n",
    "elapsed = end - start\n",
    "print(elapsed)"
   ]
  },
  {
   "cell_type": "markdown",
   "metadata": {},
   "source": [
    "Previous runs:  \n",
    "0:00:20.201732  \n",
    "0:00:19.542761\n"
   ]
  },
  {
   "cell_type": "code",
   "execution_count": null,
   "metadata": {
    "collapsed": true
   },
   "outputs": [],
   "source": []
  }
 ],
 "metadata": {
  "kernelspec": {
   "display_name": "Python 35",
   "language": "python",
   "name": "python35"
  },
  "language_info": {
   "codemirror_mode": {
    "name": "ipython",
    "version": 3
   },
   "file_extension": ".py",
   "mimetype": "text/x-python",
   "name": "python",
   "nbconvert_exporter": "python",
   "pygments_lexer": "ipython3",
   "version": "3.5.4"
  }
 },
 "nbformat": 4,
 "nbformat_minor": 2
}
