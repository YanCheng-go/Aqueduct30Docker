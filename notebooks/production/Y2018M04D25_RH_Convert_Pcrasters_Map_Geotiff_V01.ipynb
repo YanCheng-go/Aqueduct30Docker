{
 "cells": [
  {
   "cell_type": "code",
   "execution_count": 1,
   "metadata": {},
   "outputs": [
    {
     "name": "stdout",
     "output_type": "stream",
     "text": [
      "Input ec2: /volumes/data/Y2018M04D25_RH_Convert_Pcrasters_Map_Geotiff_V01/input_V03/\n",
      "Output ec2: /volumes/data/Y2018M04D25_RH_Convert_Pcrasters_Map_Geotiff_V01/output_V02/\n",
      "Input S3: s3://wri-projects/Aqueduct30/processData/Y2018M04D24_RH_Create_Additional_Pcrasters_V01/output_V03/\n",
      "Output S3: s3://wri-projects/Aqueduct30/processData/Y2018M04D25_RH_Convert_Pcrasters_Map_Geotiff_V01/output_V02/\n",
      "Output GCS: gs://aqueduct30_v01/Y2018M04D25_RH_Convert_Pcrasters_Map_Geotiff_V01/output_V02/\n"
     ]
    }
   ],
   "source": [
    "\"\"\" Convert pcrasters to geotiffs.\n",
    "-------------------------------------------------------------------------------\n",
    "Convert pcraster created maps to geotiffs including:\n",
    "    - streamorder\n",
    "\n",
    "\n",
    "Author: Rutger Hofste\n",
    "Date: 20180425\n",
    "Kernel: python35\n",
    "Docker: rutgerhofste/gisdocker:ubuntu16.04\n",
    "\n",
    "Args:\n",
    "    SCRIPT_NAME (string) : Script Name.\n",
    "    S3_INPUT_PATH (string) : Amazon S3 input location.\n",
    "    INPUT_VERSION (integer) : Input version.\n",
    "    OUTPUT_VERSION (integer) : Output version.\n",
    "    X_DIMENSION_5MIN (integer) : horizontal or longitudinal dimension of \n",
    "        raster.\n",
    "    Y_DIMENSION_5MIN (integer) : vertical or latitudinal dimension of \n",
    "        raster.\n",
    "    RENAME_DICT (dictionary) : Old and new names.    \n",
    "\"\"\"\n",
    "\n",
    "SCRIPT_NAME = \"Y2018M04D25_RH_Convert_Pcrasters_Map_Geotiff_V01\"\n",
    "PREVIOUS_SCRIPT_NAME = \"Y2018M04D24_RH_Create_Additional_Pcrasters_V01\"\n",
    "INPUT_VERSION = 3\n",
    "OUTPUT_VERSION = 2\n",
    "\n",
    "X_DIMENSION_5MIN = 4320\n",
    "Y_DIMENSION_5MIN = 2160\n",
    "\n",
    "# ETL\n",
    "ec2_input_path = \"/volumes/data/{}/input_V{:02.0f}/\".format(SCRIPT_NAME,INPUT_VERSION)\n",
    "ec2_output_path = \"/volumes/data/{}/output_V{:02.0f}/\".format(SCRIPT_NAME,OUTPUT_VERSION)\n",
    "s3_input_path = \"s3://wri-projects/Aqueduct30/processData/{}/output_V{:02.0f}/\".format(PREVIOUS_SCRIPT_NAME,INPUT_VERSION)\n",
    "s3_output_path = \"s3://wri-projects/Aqueduct30/processData/{}/output_V{:02.0f}/\".format(SCRIPT_NAME,OUTPUT_VERSION)\n",
    "gcs_output_path = \"gs://aqueduct30_v01/{}/output_V{:02.0f}/\".format(SCRIPT_NAME,OUTPUT_VERSION)\n",
    "\n",
    "\n",
    "print(\"Input ec2: \" + ec2_input_path +\n",
    "      \"\\nOutput ec2: \" + ec2_output_path +\n",
    "      \"\\nInput S3: \" + s3_input_path +\n",
    "      \"\\nOutput S3: \" + s3_output_path +\n",
    "      \"\\nOutput GCS: \" +  gcs_output_path)"
   ]
  },
  {
   "cell_type": "code",
   "execution_count": 2,
   "metadata": {},
   "outputs": [
    {
     "name": "stdout",
     "output_type": "stream",
     "text": [
      "Y2018M04D25 UTC 15:30\n"
     ]
    },
    {
     "data": {
      "text/plain": [
       "'3.5.4 |Anaconda, Inc.| (default, Nov 20 2017, 18:44:38) \\n[GCC 7.2.0]'"
      ]
     },
     "execution_count": 2,
     "metadata": {},
     "output_type": "execute_result"
    }
   ],
   "source": [
    "import time, datetime, sys\n",
    "dateString = time.strftime(\"Y%YM%mD%d\")\n",
    "timeString = time.strftime(\"UTC %H:%M\")\n",
    "start = datetime.datetime.now()\n",
    "print(dateString,timeString)\n",
    "sys.version"
   ]
  },
  {
   "cell_type": "code",
   "execution_count": 3,
   "metadata": {
    "collapsed": true
   },
   "outputs": [],
   "source": [
    "# imports\n",
    "import os\n",
    "import numpy as np\n",
    "from osgeo import gdal\n",
    "import aqueduct3"
   ]
  },
  {
   "cell_type": "code",
   "execution_count": 4,
   "metadata": {},
   "outputs": [
    {
     "name": "stdout",
     "output_type": "stream",
     "text": [
      "rm: cannot remove '/volumes/data/Y2018M04D25_RH_Convert_Pcrasters_Map_Geotiff_V01/output_V02/': No such file or directory\r\n"
     ]
    }
   ],
   "source": [
    "!rm -r {ec2_input_path}\n",
    "!rm -r {ec2_output_path}\n",
    "!mkdir -p {ec2_input_path}\n",
    "!mkdir -p {ec2_output_path}"
   ]
  },
  {
   "cell_type": "code",
   "execution_count": 5,
   "metadata": {},
   "outputs": [
    {
     "name": "stdout",
     "output_type": "stream",
     "text": [
      "download: s3://wri-projects/Aqueduct30/processData/Y2018M04D24_RH_Create_Additional_Pcrasters_V01/output_V03/global_streamorder_dimensionless_05min.map to ../../../../data/Y2018M04D25_RH_Convert_Pcrasters_Map_Geotiff_V01/input_V03/global_streamorder_dimensionless_05min.map\n"
     ]
    }
   ],
   "source": [
    "!aws s3 cp {s3_input_path} {ec2_input_path} --recursive --exclude=\"*\" --include=\"*.map\""
   ]
  },
  {
   "cell_type": "code",
   "execution_count": 6,
   "metadata": {},
   "outputs": [
    {
     "name": "stdout",
     "output_type": "stream",
     "text": [
      "global_streamorder_dimensionless_05min.map\r\n"
     ]
    }
   ],
   "source": [
    "!ls {ec2_input_path}"
   ]
  },
  {
   "cell_type": "code",
   "execution_count": 7,
   "metadata": {},
   "outputs": [
    {
     "name": "stdout",
     "output_type": "stream",
     "text": [
      "global_streamorder_dimensionless_05min.map\n"
     ]
    }
   ],
   "source": [
    "default_geotransform, default_geoprojection = aqueduct3.get_global_georeference(np.ones([Y_DIMENSION_5MIN,X_DIMENSION_5MIN]))\n",
    "for root, dirs, file_names in os.walk(ec2_input_path):\n",
    "    for file_name in file_names:\n",
    "        print(file_name)\n",
    "        base , extension = file_name.split(\".\")\n",
    "        output_path = ec2_output_path  + base + \"_V{:02.0f}.tif\".format(OUTPUT_VERSION)\n",
    "        input_path = os.path.join(root, file_name)     \n",
    "        xsize,ysize,geotransform,geoproj,Z = aqueduct3.read_gdal_file(input_path)\n",
    "        Z[Z<-9990]= -9999\n",
    "        Z[Z>1e19] = -9999\n",
    "        \n",
    "        if file_name == \"global_streamorder_dimensionless_05min.map\":\n",
    "            nodata_value= -9999\n",
    "            datatype=gdal.GDT_Int32 # Could probably use byte type as well.\n",
    "        else:            \n",
    "            nodata_value=-9999\n",
    "            datatype=gdal.GDT_Float32\n",
    "        aqueduct3.write_geotiff(output_path,default_geotransform,default_geoprojection,Z,nodata_value,datatype)"
   ]
  },
  {
   "cell_type": "code",
   "execution_count": 8,
   "metadata": {},
   "outputs": [
    {
     "name": "stdout",
     "output_type": "stream",
     "text": [
      "Copying file:///volumes/data/Y2018M04D25_RH_Convert_Pcrasters_Map_Geotiff_V01/output_V02//global_streamorder_dimensionless_05min_V02.tif [Content-Type=image/tiff]...\n",
      "- [1/1 files][  1.8 MiB/  1.8 MiB] 100% Done                                    \n",
      "Operation completed over 1 objects/1.8 MiB.                                      \n"
     ]
    }
   ],
   "source": [
    "!gsutil -m cp \\\n",
    "{ec2_output_path}/*.tif \\\n",
    "{gcs_output_path}"
   ]
  },
  {
   "cell_type": "code",
   "execution_count": 9,
   "metadata": {},
   "outputs": [
    {
     "name": "stdout",
     "output_type": "stream",
     "text": [
      "upload: ../../../../data/Y2018M04D25_RH_Convert_Pcrasters_Map_Geotiff_V01/output_V02/global_streamorder_dimensionless_05min_V02.tif to s3://wri-projects/Aqueduct30/processData/Y2018M04D25_RH_Convert_Pcrasters_Map_Geotiff_V01/output_V02/global_streamorder_dimensionless_05min_V02.tif\n"
     ]
    }
   ],
   "source": [
    "!aws s3 cp {ec2_output_path} {s3_output_path} --recursive"
   ]
  },
  {
   "cell_type": "code",
   "execution_count": 10,
   "metadata": {},
   "outputs": [
    {
     "name": "stdout",
     "output_type": "stream",
     "text": [
      "0:00:19.294955\n"
     ]
    }
   ],
   "source": [
    "end = datetime.datetime.now()\n",
    "elapsed = end - start\n",
    "print(elapsed)"
   ]
  },
  {
   "cell_type": "markdown",
   "metadata": {},
   "source": [
    "Previous Runs:  \n",
    "0:00:19.294955\n",
    "\n"
   ]
  },
  {
   "cell_type": "code",
   "execution_count": null,
   "metadata": {
    "collapsed": true
   },
   "outputs": [],
   "source": []
  }
 ],
 "metadata": {
  "kernelspec": {
   "display_name": "Python 35",
   "language": "python",
   "name": "python35"
  },
  "language_info": {
   "codemirror_mode": {
    "name": "ipython",
    "version": 3
   },
   "file_extension": ".py",
   "mimetype": "text/x-python",
   "name": "python",
   "nbconvert_exporter": "python",
   "pygments_lexer": "ipython3",
   "version": "3.5.4"
  }
 },
 "nbformat": 4,
 "nbformat_minor": 2
}
