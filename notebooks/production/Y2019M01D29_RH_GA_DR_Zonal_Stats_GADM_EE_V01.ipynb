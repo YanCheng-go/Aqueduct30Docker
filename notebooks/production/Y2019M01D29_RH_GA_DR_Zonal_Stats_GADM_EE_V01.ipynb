{
 "cells": [
  {
   "cell_type": "code",
   "execution_count": 1,
   "metadata": {},
   "outputs": [
    {
     "name": "stdout",
     "output_type": "stream",
     "text": [
      "EE_ZONES_PATH: projects/WRI-Aquaduct/Y2018D12D17_RH_GADM36L01_EE_V01/output_V06/gadm36l01\n",
      "EE_INDICATOR_PATH : projects/WRI-Aquaduct/Y2018M09D28_RH_DR_Ingest_EE_V01/output_V03/risk\n",
      "GCS_OUTPUT_PATH: Y2019M01D29_RH_GA_DR_Zonal_Stats_GADM_EE_V01/output_V05 \n",
      "ee_output_path : projects/WRI-Aquaduct/Y2019M01D29_RH_GA_DR_Zonal_Stats_GADM_EE_V01/output_V05\n"
     ]
    }
   ],
   "source": [
    "\"\"\" Zonal statistics drought risk at GADM level 1.\n",
    "-------------------------------------------------------------------------------\n",
    "\n",
    "Drought risk per GADM level 1 unit. Weights include:\n",
    "Ones (no weight),\n",
    "Total gross withdrawal\n",
    "Domestic gross withdrawal\n",
    "Industrial gross withdrawal\n",
    "Irrigation gross withdrawal\n",
    "Livestock gross withdrawal\n",
    "\n",
    "\n",
    "Author: Rutger Hofste\n",
    "Date: 20190129\n",
    "Kernel: python35\n",
    "Docker: rutgerhofste/gisdocker:ubuntu16.04\n",
    "\n",
    "Args:\n",
    "\n",
    "\n",
    "\"\"\"\n",
    "\n",
    "TESTING = 0\n",
    "SCRIPT_NAME = \"Y2019M01D29_RH_GA_DR_Zonal_Stats_GADM_EE_V01\"\n",
    "OUTPUT_VERSION = 5\n",
    "\n",
    "EE_ZONES_PATH = \"projects/WRI-Aquaduct/Y2018D12D17_RH_GADM36L01_EE_V01/output_V06/gadm36l01\"\n",
    "EE_INDICATOR_PATH = \"projects/WRI-Aquaduct/Y2018M09D28_RH_DR_Ingest_EE_V01/output_V03/risk\"\n",
    "\n",
    "EE_WEIGHTS = {}\n",
    "EE_WEIGHTS[\"Tot\"] =\"projects/WRI-Aquaduct/Y2019M01D08_RH_Total_Demand_EE_V01/output_V04/global_historical_PTotWW_year_m_30s_1960_2014\"\n",
    "EE_WEIGHTS[\"Dom\"] =\"projects/WRI-Aquaduct/Y2019M01D08_RH_Total_Demand_EE_V01/output_V04/global_historical_PDomWW_year_m_30s_1960_2014\"\n",
    "EE_WEIGHTS[\"Ind\"] =\"projects/WRI-Aquaduct/Y2019M01D08_RH_Total_Demand_EE_V01/output_V04/global_historical_PIndWW_year_m_30s_1960_2014\"\n",
    "EE_WEIGHTS[\"Irr\"] =\"projects/WRI-Aquaduct/Y2019M01D08_RH_Total_Demand_EE_V01/output_V04/global_historical_PIrrWW_year_m_30s_1960_2014\"\n",
    "EE_WEIGHTS[\"Liv\"] =\"projects/WRI-Aquaduct/Y2019M01D08_RH_Total_Demand_EE_V01/output_V04/global_historical_PLivWW_year_m_30s_1960_2014\"\n",
    "EE_WEIGHTS[\"One\"] =\"projects/WRI-Aquaduct/Y2017M09D05_RH_Create_Area_Image_EE_V01/output_V07/global_ones_30s_V07\"\n",
    "\n",
    "\n",
    "EXTRA_PROPERTIES = {\"output_version\":OUTPUT_VERSION,\n",
    "                    \"script_used\":SCRIPT_NAME,\n",
    "                     \"spatial_aggregation\":\"gadm_36_L01\",\n",
    "                     \"parameter\":\"dr_raw\",\n",
    "                     \"unit\":\"dimensionless\"}\n",
    "\n",
    "\n",
    "GCS_BUCKET= \"aqueduct30_v01\"\n",
    "GCS_OUTPUT_PATH = \"{}/output_V{:02.0f}\".format(SCRIPT_NAME,OUTPUT_VERSION)\n",
    "\n",
    "ee_output_path = \"projects/WRI-Aquaduct/{}/output_V{:02.0f}\".format(SCRIPT_NAME,OUTPUT_VERSION)\n",
    "\n",
    "print(\"EE_ZONES_PATH: \" +  EE_ZONES_PATH +\n",
    "      \"\\nEE_INDICATOR_PATH : \" + EE_INDICATOR_PATH  +\n",
    "      \"\\nGCS_OUTPUT_PATH: \" + GCS_OUTPUT_PATH,\n",
    "      \"\\nee_output_path : \" + ee_output_path )"
   ]
  },
  {
   "cell_type": "code",
   "execution_count": 2,
   "metadata": {},
   "outputs": [
    {
     "name": "stdout",
     "output_type": "stream",
     "text": [
      "Y2019M04D25 UTC 11:57\n"
     ]
    },
    {
     "data": {
      "text/plain": [
       "'3.5.4 |Anaconda, Inc.| (default, Nov 20 2017, 18:44:38) \\n[GCC 7.2.0]'"
      ]
     },
     "execution_count": 2,
     "metadata": {},
     "output_type": "execute_result"
    }
   ],
   "source": [
    "import time, datetime, sys\n",
    "dateString = time.strftime(\"Y%YM%mD%d\")\n",
    "timeString = time.strftime(\"UTC %H:%M\")\n",
    "start = datetime.datetime.now()\n",
    "print(dateString,timeString)\n",
    "sys.version"
   ]
  },
  {
   "cell_type": "code",
   "execution_count": 3,
   "metadata": {},
   "outputs": [],
   "source": [
    "!rm -r {ec2_output_path}\n",
    "!mkdir -p {ec2_output_path}"
   ]
  },
  {
   "cell_type": "code",
   "execution_count": 4,
   "metadata": {
    "collapsed": true
   },
   "outputs": [],
   "source": [
    "import pandas as pd\n",
    "import ee\n",
    "import aqueduct3\n",
    "ee.Initialize()"
   ]
  },
  {
   "cell_type": "code",
   "execution_count": 5,
   "metadata": {
    "collapsed": true
   },
   "outputs": [],
   "source": [
    "zones = ee.FeatureCollection(EE_ZONES_PATH)"
   ]
  },
  {
   "cell_type": "code",
   "execution_count": 6,
   "metadata": {
    "collapsed": true
   },
   "outputs": [],
   "source": [
    "CRS_TRANSFORM_30S_NOPOLAR = [\n",
    "    0.008333333333333333,\n",
    "    0,\n",
    "    -180,\n",
    "    0,\n",
    "    -0.008333333333333333,\n",
    "    89.5\n",
    "]"
   ]
  },
  {
   "cell_type": "code",
   "execution_count": 7,
   "metadata": {
    "collapsed": true
   },
   "outputs": [],
   "source": [
    "def drop_geometry(feature):\n",
    "    feature_out = ee.Feature(None,{})\n",
    "    feature_out = feature_out.copyProperties(source=ee.Feature(feature),\n",
    "                                             properties=[\"gid_1\",\"sum\",\"count\"])\n",
    "    return feature_out"
   ]
  },
  {
   "cell_type": "code",
   "execution_count": 8,
   "metadata": {
    "collapsed": true
   },
   "outputs": [],
   "source": [
    "sectors = [\"One\",\"Tot\",\"Dom\",\"Ind\",\"Irr\",\"Liv\"]\n",
    "indicators = [\"drr\"]"
   ]
  },
  {
   "cell_type": "code",
   "execution_count": 9,
   "metadata": {
    "collapsed": true
   },
   "outputs": [],
   "source": [
    "reducer= ee.Reducer.sum().combine(reducer2= ee.Reducer.count(), sharedInputs= True)"
   ]
  },
  {
   "cell_type": "code",
   "execution_count": 10,
   "metadata": {},
   "outputs": [
    {
     "name": "stdout",
     "output_type": "stream",
     "text": [
      "One\n",
      "One drr\n",
      "Tot\n",
      "Tot drr\n",
      "Dom\n",
      "Dom drr\n",
      "Ind\n",
      "Ind drr\n",
      "Irr\n",
      "Irr drr\n",
      "Liv\n",
      "Liv drr\n"
     ]
    }
   ],
   "source": [
    "for sector in sectors:\n",
    "    print(sector)\n",
    "    weights = ee.Image(EE_WEIGHTS[sector])\n",
    "    fc_weights_sums = weights.reduceRegions(collection=zones,\n",
    "                                            reducer=reducer,\n",
    "                                            crs=\"EPSG:4326\",\n",
    "                                            crsTransform=CRS_TRANSFORM_30S_NOPOLAR\n",
    "                                            )\n",
    "    fc_weights_sums_nogeom = fc_weights_sums.map(drop_geometry)\n",
    "    output_file_path_weights = \"{}/{}_weights_sum\".format(GCS_OUTPUT_PATH,sector)\n",
    "    task = ee.batch.Export.table.toCloudStorage(collection=fc_weights_sums_nogeom,\n",
    "                                                description=\"{}_weights\".format(sector),\n",
    "                                                bucket=GCS_BUCKET,\n",
    "                                                fileNamePrefix=output_file_path_weights,\n",
    "                                                fileFormat=\"CSV\")\n",
    "\n",
    "    task.start()\n",
    "\n",
    "    for indicator in indicators:\n",
    "        print(sector,indicator)\n",
    "        values_path = \"{}\".format(EE_INDICATOR_PATH)\n",
    "        values = ee.Image(values_path)\n",
    "        weighted_values = weights.multiply(values)\n",
    "\n",
    "        fc_weighted_values_sums = weighted_values.reduceRegions(collection=zones,\n",
    "                                                                reducer=reducer,\n",
    "                                                                crs=\"EPSG:4326\",\n",
    "                                                                crsTransform=CRS_TRANSFORM_30S_NOPOLAR\n",
    "                                                                )\n",
    "\n",
    "        fc_weighted_values_sums_nogeom = fc_weighted_values_sums.map(drop_geometry)\n",
    "        output_file_path_weighted_values = \"{}/{}_weighted_{}_sum\".format(GCS_OUTPUT_PATH,sector,indicator)\n",
    "        task = ee.batch.Export.table.toCloudStorage(collection=fc_weighted_values_sums_nogeom,\n",
    "                                                    description=indicator,\n",
    "                                                    bucket=GCS_BUCKET,\n",
    "                                                    fileNamePrefix=output_file_path_weighted_values,\n",
    "                                                    fileFormat=\"CSV\")\n",
    "        task.start()"
   ]
  },
  {
   "cell_type": "code",
   "execution_count": 11,
   "metadata": {},
   "outputs": [
    {
     "name": "stdout",
     "output_type": "stream",
     "text": [
      "0:00:25.497235\n"
     ]
    }
   ],
   "source": [
    "end = datetime.datetime.now()\n",
    "elapsed = end - start\n",
    "print(elapsed)"
   ]
  },
  {
   "cell_type": "markdown",
   "metadata": {},
   "source": [
    "Previous runs:   \n",
    "0:01:07.645329  \n",
    "0:00:25.497235\n",
    "\n"
   ]
  },
  {
   "cell_type": "code",
   "execution_count": null,
   "metadata": {
    "collapsed": true
   },
   "outputs": [],
   "source": []
  }
 ],
 "metadata": {
  "kernelspec": {
   "display_name": "Python 35",
   "language": "python",
   "name": "python35"
  },
  "language_info": {
   "codemirror_mode": {
    "name": "ipython",
    "version": 3
   },
   "file_extension": ".py",
   "mimetype": "text/x-python",
   "name": "python",
   "nbconvert_exporter": "python",
   "pygments_lexer": "ipython3",
   "version": "3.5.4"
  }
 },
 "nbformat": 4,
 "nbformat_minor": 2
}
