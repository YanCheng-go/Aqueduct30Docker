{
 "cells": [
  {
   "cell_type": "code",
   "execution_count": 1,
   "metadata": {},
   "outputs": [
    {
     "name": "stdout",
     "output_type": "stream",
     "text": [
      "Input ee zones: projects/WRI-Aquaduct/Y2019M01D07_RH_GADM36L01_Rasterize_EE_V01/output_V01/Y2019M01D07_RH_GADM36L01_Rasterize_EE_V01\n",
      "Input ee values: projects/WRI-Aquaduct/Y2018M09D28_RH_DR_Ingest_EE_V01/output_V03/risk\n",
      "Output s3: s3://wri-projects/Aqueduct30/processData/Y2019M01D29_RH_GA_DR_Zonal_Stats_GADM_EE_V01/output_V02 \n",
      "Output gcs: gs://aqueduct30_v01/Y2019M01D29_RH_GA_DR_Zonal_Stats_GADM_EE_V01/output_V02/\n"
     ]
    }
   ],
   "source": [
    "\"\"\" Zonal statistics drought risk at GADM level 1.\n",
    "-------------------------------------------------------------------------------\n",
    "\n",
    "Drought risk per GADM level 1 unit. \n",
    "\n",
    "\n",
    "Author: Rutger Hofste\n",
    "Date: 20190129\n",
    "Kernel: python35\n",
    "Docker: rutgerhofste/gisdocker:ubuntu16.04\n",
    "\n",
    "Args:\n",
    "\n",
    "\n",
    "\"\"\"\n",
    "\n",
    "TESTING = 0\n",
    "SCRIPT_NAME = \"Y2019M01D29_RH_GA_DR_Zonal_Stats_GADM_EE_V01\"\n",
    "OUTPUT_VERSION = 2\n",
    "\n",
    "EE_INPUT_ZONES_PATH = \"projects/WRI-Aquaduct/Y2019M01D07_RH_GADM36L01_Rasterize_EE_V01/output_V01/Y2019M01D07_RH_GADM36L01_Rasterize_EE_V01\"\n",
    "EE_INPUT_VALUES_PATH = \"projects/WRI-Aquaduct/Y2018M09D28_RH_DR_Ingest_EE_V01/output_V03/risk\"\n",
    "\n",
    "EXTRA_PROPERTIES = {\"output_version\":OUTPUT_VERSION,\n",
    "                    \"script_used\":SCRIPT_NAME,\n",
    "                     \"spatial_aggregation\":\"gadm_36_L01\",\n",
    "                     \"parameter\":\"dr_raw\",\n",
    "                     \"unit\":\"dimensionless\"}\n",
    "\n",
    "\n",
    "gcs_output_path = \"gs://aqueduct30_v01/{}/output_V{:02.0f}/\".format(SCRIPT_NAME,OUTPUT_VERSION)\n",
    "ec2_output_path = \"/volumes/data/{}/output_V{:02.0f}\".format(SCRIPT_NAME,OUTPUT_VERSION)\n",
    "s3_output_path = \"s3://wri-projects/Aqueduct30/processData/{}/output_V{:02.0f}\".format(SCRIPT_NAME,OUTPUT_VERSION)\n",
    "\n",
    "print(\"Input ee zones: \" +  EE_INPUT_ZONES_PATH +\n",
    "      \"\\nInput ee values: \" + EE_INPUT_VALUES_PATH +\n",
    "      \"\\nOutput s3: \" + s3_output_path,\n",
    "      \"\\nOutput gcs: \" + gcs_output_path)"
   ]
  },
  {
   "cell_type": "code",
   "execution_count": 2,
   "metadata": {},
   "outputs": [
    {
     "name": "stdout",
     "output_type": "stream",
     "text": [
      "Y2019M01D29 UTC 09:31\n"
     ]
    },
    {
     "data": {
      "text/plain": [
       "'3.5.4 |Anaconda, Inc.| (default, Nov 20 2017, 18:44:38) \\n[GCC 7.2.0]'"
      ]
     },
     "execution_count": 2,
     "metadata": {},
     "output_type": "execute_result"
    }
   ],
   "source": [
    "import time, datetime, sys\n",
    "dateString = time.strftime(\"Y%YM%mD%d\")\n",
    "timeString = time.strftime(\"UTC %H:%M\")\n",
    "start = datetime.datetime.now()\n",
    "print(dateString,timeString)\n",
    "sys.version"
   ]
  },
  {
   "cell_type": "code",
   "execution_count": 3,
   "metadata": {},
   "outputs": [
    {
     "name": "stdout",
     "output_type": "stream",
     "text": [
      "rm: cannot remove '/volumes/data/Y2019M01D29_RH_GA_DR_Zonal_Stats_GADM_EE_V01/output_V02': No such file or directory\r\n"
     ]
    }
   ],
   "source": [
    "!rm -r {ec2_output_path}\n",
    "!mkdir -p {ec2_output_path}"
   ]
  },
  {
   "cell_type": "code",
   "execution_count": 4,
   "metadata": {
    "collapsed": true
   },
   "outputs": [],
   "source": [
    "import pandas as pd\n",
    "import ee\n",
    "import aqueduct3\n",
    "ee.Initialize()"
   ]
  },
  {
   "cell_type": "code",
   "execution_count": 5,
   "metadata": {
    "collapsed": true
   },
   "outputs": [],
   "source": [
    "def dict_to_feature(dictje):\n",
    "    return ee.Feature(None,dictje)\n",
    "\n",
    "def post_process_results(result_list,function_properties,extra_properties=EXTRA_PROPERTIES):\n",
    "    \"\"\"Client side function to convert results of reduceRegion to pandas dataframe.\n",
    "    -------------------------------------------------------------------------------\n",
    "    \n",
    "    Adds additional properties. The script is client side for convenience reasons.\n",
    "    A more robust and fast approach would be to add the extra_properties to the \n",
    "    server side dictionary.\n",
    "    \n",
    "    Args:\n",
    "        result_list (ee.List) : List of dictionaries. Result from reduceRegion\n",
    "        function_properties (dictionary) : Additional properties used in the \n",
    "            reduceRegion function call.\n",
    "        extra_properties (dictionary) : Additional properties set at global level. \n",
    "    \n",
    "    Returns:\n",
    "        df (pd.DataFrame) : Pandas dataframe with extra properties.\n",
    "    \n",
    "    \n",
    "    \"\"\"\n",
    "    extra_properties = {**function_properties, **EXTRA_PROPERTIES}\n",
    "    result_list_clientside = result_list.getInfo()\n",
    "    df = pd.DataFrame(result_list_clientside)\n",
    "    df = df.assign(**extra_properties)\n",
    "    df = df.apply(pd.to_numeric, errors='ignore')\n",
    "    return df  "
   ]
  },
  {
   "cell_type": "code",
   "execution_count": 6,
   "metadata": {
    "collapsed": true
   },
   "outputs": [],
   "source": [
    "spatial_resolution = \"30s\"\n",
    "reducer_name = \"mean\""
   ]
  },
  {
   "cell_type": "code",
   "execution_count": 7,
   "metadata": {
    "collapsed": true
   },
   "outputs": [],
   "source": [
    "geometry = aqueduct3.earthengine.get_global_geometry(TESTING)"
   ]
  },
  {
   "cell_type": "code",
   "execution_count": 8,
   "metadata": {
    "collapsed": true
   },
   "outputs": [],
   "source": [
    "reducer = aqueduct3.earthengine.get_grouped_reducer(reducer_name)"
   ]
  },
  {
   "cell_type": "code",
   "execution_count": 9,
   "metadata": {
    "collapsed": true
   },
   "outputs": [],
   "source": [
    "total_image = ee.Image(EE_INPUT_VALUES_PATH).addBands(ee.Image(EE_INPUT_ZONES_PATH))"
   ]
  },
  {
   "cell_type": "code",
   "execution_count": 10,
   "metadata": {
    "collapsed": true
   },
   "outputs": [],
   "source": [
    "crs_transform = aqueduct3.earthengine.get_crs_transform(spatial_resolution)"
   ]
  },
  {
   "cell_type": "code",
   "execution_count": 11,
   "metadata": {
    "collapsed": true
   },
   "outputs": [],
   "source": [
    "result_list = total_image.reduceRegion(geometry = geometry,\n",
    "                        reducer= reducer,\n",
    "                        crsTransform = crs_transform,\n",
    "                        maxPixels=1e10\n",
    "                        ).get(\"groups\")"
   ]
  },
  {
   "cell_type": "code",
   "execution_count": 12,
   "metadata": {
    "collapsed": true
   },
   "outputs": [],
   "source": [
    "function_properties = {\"spatial_resolution\":spatial_resolution,\n",
    "                       \"reducer\":reducer_name}"
   ]
  },
  {
   "cell_type": "code",
   "execution_count": 13,
   "metadata": {
    "collapsed": true
   },
   "outputs": [],
   "source": [
    "df = post_process_results(result_list,function_properties)"
   ]
  },
  {
   "cell_type": "code",
   "execution_count": 14,
   "metadata": {},
   "outputs": [
    {
     "data": {
      "text/plain": [
       "(3603, 10)"
      ]
     },
     "execution_count": 14,
     "metadata": {},
     "output_type": "execute_result"
    }
   ],
   "source": [
    "df.shape"
   ]
  },
  {
   "cell_type": "code",
   "execution_count": 15,
   "metadata": {
    "collapsed": true
   },
   "outputs": [],
   "source": [
    "output_file_path_pkl = \"{}/df_gadm36_l1_{}.pkl\".format(ec2_output_path,spatial_resolution)\n",
    "output_file_path_csv = \"{}/df_gadm36_l1_{}.csv\".format(ec2_output_path,spatial_resolution)\n",
    "df.to_pickle(output_file_path_pkl)\n",
    "df.to_csv(output_file_path_csv,encoding='utf-8')"
   ]
  },
  {
   "cell_type": "code",
   "execution_count": 16,
   "metadata": {},
   "outputs": [
    {
     "name": "stdout",
     "output_type": "stream",
     "text": [
      "upload: ../../../../data/Y2019M01D29_RH_GA_DR_Zonal_Stats_GADM_EE_V01/output_V02/df_gadm36_l1_30s.pkl to s3://wri-projects/Aqueduct30/processData/Y2019M01D29_RH_GA_DR_Zonal_Stats_GADM_EE_V01/output_V02/df_gadm36_l1_30s.pkl\n",
      "upload: ../../../../data/Y2019M01D29_RH_GA_DR_Zonal_Stats_GADM_EE_V01/output_V02/df_gadm36_l1_30s.csv to s3://wri-projects/Aqueduct30/processData/Y2019M01D29_RH_GA_DR_Zonal_Stats_GADM_EE_V01/output_V02/df_gadm36_l1_30s.csv\n"
     ]
    }
   ],
   "source": [
    "!aws s3 cp  {ec2_output_path} {s3_output_path} --recursive"
   ]
  },
  {
   "cell_type": "code",
   "execution_count": 17,
   "metadata": {},
   "outputs": [
    {
     "name": "stdout",
     "output_type": "stream",
     "text": [
      "0:01:07.645329\n"
     ]
    }
   ],
   "source": [
    "end = datetime.datetime.now()\n",
    "elapsed = end - start\n",
    "print(elapsed)"
   ]
  },
  {
   "cell_type": "markdown",
   "metadata": {},
   "source": [
    "Previous runs:   \n",
    "0:01:07.645329\n"
   ]
  },
  {
   "cell_type": "code",
   "execution_count": null,
   "metadata": {
    "collapsed": true
   },
   "outputs": [],
   "source": []
  }
 ],
 "metadata": {
  "kernelspec": {
   "display_name": "Python 35",
   "language": "python",
   "name": "python35"
  },
  "language_info": {
   "codemirror_mode": {
    "name": "ipython",
    "version": 3
   },
   "file_extension": ".py",
   "mimetype": "text/x-python",
   "name": "python",
   "nbconvert_exporter": "python",
   "pygments_lexer": "ipython3",
   "version": "3.5.4"
  }
 },
 "nbformat": 4,
 "nbformat_minor": 2
}
