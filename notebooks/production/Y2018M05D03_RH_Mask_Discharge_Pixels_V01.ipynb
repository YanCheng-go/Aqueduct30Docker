{
 "cells": [
  {
   "cell_type": "code",
   "execution_count": 1,
   "metadata": {},
   "outputs": [
    {
     "name": "stdout",
     "output_type": "stream",
     "text": [
      "Output ee: projects/WRI-Aquaduct/Y2018M05D03_RH_Mask_Discharge_Pixels_V01/output_V02\n"
     ]
    }
   ],
   "source": [
    "\"\"\" Find the pixels to mask within each basin to use for river discharge. \n",
    "-------------------------------------------------------------------------------\n",
    "\n",
    "Creates a mask for available river dicharge based on two criteria:\n",
    "\n",
    "number of 30s pixels > threshold\n",
    "sum_maxStreamorder < threshold\n",
    "\n",
    "\n",
    "Args:\n",
    "\n",
    "    COUNT_AREA_THRESHOLD_30S\n",
    "\n",
    "\n",
    "\"\"\"\n",
    "\n",
    "SCRIPT_NAME = \"Y2018M05D03_RH_Mask_Discharge_Pixels_V01\"\n",
    "\n",
    "COUNT_AREA_THRESHOLD_30S = 1000 # corresponds to 10 5min cells\n",
    "SUM_MAX_STREAMORDER_THRESHOLD_30S = 150 # corresponds to 1.5 5min cells\n",
    "\n",
    "\n",
    "COUNT_AREA_ASSET_ID = \"projects/WRI-Aquaduct/Y2018M05D02_RH_Prepare_Mask_Discharge_Pixels_V01/output_V02/global_count_area_dimensionless_30sPfaf06\"\n",
    "MAX_STREAMORDER_MASK_ASSET_ID = \"projects/WRI-Aquaduct/Y2018M05D02_RH_Prepare_Mask_Discharge_Pixels_V01/output_V02/global_max_streamorder_mask_30sPfaf06\"\n",
    "SUM_MAXSTREAMORDER_ASSET_ID = \"projects/WRI-Aquaduct/Y2018M05D02_RH_Prepare_Mask_Discharge_Pixels_V01/output_V02/global_sum_maxStreamorder_dimensionless_30sPfaf06\"\n",
    "\n",
    "TESTING = 0\n",
    "\n",
    "OUTPUT_VERSION = 2\n",
    "\n",
    "EXTRA_PROPERTIES = {\"nodata_value\":-9999,\n",
    "                    \"ingested_by\" : \"RutgerHofste\",\n",
    "                    \"script_used\": SCRIPT_NAME,\n",
    "                    \"output_version\":OUTPUT_VERSION}\n",
    "\n",
    "\n",
    "ee_output_path = \"projects/WRI-Aquaduct/{}/output_V{:02.0f}\".format(SCRIPT_NAME,OUTPUT_VERSION)\n",
    "print(\"Output ee: \" +  ee_output_path)\n",
    "\n",
    "\n"
   ]
  },
  {
   "cell_type": "code",
   "execution_count": 2,
   "metadata": {},
   "outputs": [
    {
     "name": "stdout",
     "output_type": "stream",
     "text": [
      "Y2018M05D03 UTC 16:54\n"
     ]
    },
    {
     "data": {
      "text/plain": [
       "'3.5.4 |Anaconda, Inc.| (default, Nov 20 2017, 18:44:38) \\n[GCC 7.2.0]'"
      ]
     },
     "execution_count": 2,
     "metadata": {},
     "output_type": "execute_result"
    }
   ],
   "source": [
    "import time, datetime, sys, logging\n",
    "dateString = time.strftime(\"Y%YM%mD%d\")\n",
    "timeString = time.strftime(\"UTC %H:%M\")\n",
    "start = datetime.datetime.now()\n",
    "print(dateString,timeString)\n",
    "sys.version"
   ]
  },
  {
   "cell_type": "code",
   "execution_count": 3,
   "metadata": {
    "collapsed": true
   },
   "outputs": [],
   "source": [
    "import ee\n",
    "import aqueduct3\n",
    "ee.Initialize()"
   ]
  },
  {
   "cell_type": "code",
   "execution_count": 4,
   "metadata": {
    "collapsed": true
   },
   "outputs": [],
   "source": [
    "i_count_area = ee.Image(COUNT_AREA_ASSET_ID)\n",
    "i_sum_maxstreamorder = ee.Image(SUM_MAXSTREAMORDER_ASSET_ID)\n",
    "i_max_streamorder_mask = ee.Image(MAX_STREAMORDER_MASK_ASSET_ID )\n",
    "\n",
    "\n",
    "i_count_area_mask = i_count_area.gt(COUNT_AREA_THRESHOLD_30S)\n",
    "\n",
    "i_sum_maxstreamorder_mask = i_sum_maxstreamorder.lt(SUM_MAX_STREAMORDER_THRESHOLD_30S)\n",
    "\n",
    "i_mask = i_count_area_mask.multiply(i_sum_maxstreamorder_mask)\n",
    "\n",
    "\n",
    "\n",
    "\n",
    "i_mask = i_mask.set(EXTRA_PROPERTIES)\n",
    "i_mask = i_mask.set({\"count_area_threshold_30s\":COUNT_AREA_THRESHOLD_30S,\n",
    "                     \"sum_max_streamorder_threshold_30s\":SUM_MAX_STREAMORDER_THRESHOLD_30S})\n",
    "\n",
    "# i_mask is a per basin mask. Only masking out the pixels with max_streamorder\n",
    "\n"
   ]
  },
  {
   "cell_type": "code",
   "execution_count": 5,
   "metadata": {
    "collapsed": true
   },
   "outputs": [],
   "source": [
    "# Geospatial constants\n",
    "spatial_resolution = \"30s\"\n",
    "geometry_server_side = aqueduct3.earthengine.get_global_geometry(test=TESTING)\n",
    "geometry_client_side = geometry_server_side.getInfo()['coordinates']\n",
    "crs_transform = aqueduct3.earthengine.get_crs_transform(spatial_resolution)"
   ]
  },
  {
   "cell_type": "code",
   "execution_count": 6,
   "metadata": {},
   "outputs": [
    {
     "name": "stdout",
     "output_type": "stream",
     "text": [
      "earthengine create folder projects/WRI-Aquaduct/Y2018M05D03_RH_Mask_Discharge_Pixels_V01 b'Asset projects/WRI-Aquaduct/Y2018M05D03_RH_Mask_Discharge_Pixels_V01 already exists\\n'\n",
      "earthengine create folder projects/WRI-Aquaduct/Y2018M05D03_RH_Mask_Discharge_Pixels_V01/output_V02 b''\n"
     ]
    }
   ],
   "source": [
    "result = aqueduct3.earthengine.create_ee_folder_recursive(ee_output_path)"
   ]
  },
  {
   "cell_type": "code",
   "execution_count": 7,
   "metadata": {
    "collapsed": true
   },
   "outputs": [],
   "source": [
    "key = \"global_riverdischarge_mask_30sPfaf06\"\n",
    "output_asset_id = \"{}/{}\".format(ee_output_path,key)\n",
    "\n",
    "\n",
    "task = ee.batch.Export.image.toAsset(\n",
    "    image =  i_mask,\n",
    "    assetId = output_asset_id,\n",
    "    region = geometry_client_side,\n",
    "    description = key,\n",
    "    #dimensions = dimensions,\n",
    "    crs = \"EPSG:4326\",\n",
    "    crsTransform = crs_transform,\n",
    "    maxPixels = 1e10     \n",
    ")\n",
    "task.start()"
   ]
  },
  {
   "cell_type": "code",
   "execution_count": 8,
   "metadata": {},
   "outputs": [
    {
     "name": "stdout",
     "output_type": "stream",
     "text": [
      "0:00:07.957317\n"
     ]
    }
   ],
   "source": [
    "end = datetime.datetime.now()\n",
    "elapsed = end - start\n",
    "print(elapsed)"
   ]
  },
  {
   "cell_type": "markdown",
   "metadata": {},
   "source": [
    "Previous Runs:  \n",
    "0:00:07.640649\n"
   ]
  },
  {
   "cell_type": "code",
   "execution_count": null,
   "metadata": {
    "collapsed": true
   },
   "outputs": [],
   "source": []
  }
 ],
 "metadata": {
  "kernelspec": {
   "display_name": "Python 35",
   "language": "python",
   "name": "python35"
  },
  "language_info": {
   "codemirror_mode": {
    "name": "ipython",
    "version": 3
   },
   "file_extension": ".py",
   "mimetype": "text/x-python",
   "name": "python",
   "nbconvert_exporter": "python",
   "pygments_lexer": "ipython3",
   "version": "3.5.4"
  }
 },
 "nbformat": 4,
 "nbformat_minor": 2
}
