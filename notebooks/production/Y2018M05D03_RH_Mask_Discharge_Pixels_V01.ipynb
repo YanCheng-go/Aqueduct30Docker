{
 "cells": [
  {
   "cell_type": "code",
   "execution_count": 13,
   "metadata": {},
   "outputs": [
    {
     "ename": "NameError",
     "evalue": "name 'SCRIPT_NAME' is not defined",
     "output_type": "error",
     "traceback": [
      "\u001b[0;31m---------------------------------------\u001b[0m",
      "\u001b[0;31mNameError\u001b[0mTraceback (most recent call last)",
      "\u001b[0;32m<ipython-input-13-cbefcc7f5696>\u001b[0m in \u001b[0;36m<module>\u001b[0;34m()\u001b[0m\n\u001b[1;32m     28\u001b[0m \u001b[0;34m\u001b[0m\u001b[0m\n\u001b[1;32m     29\u001b[0m \u001b[0;34m\u001b[0m\u001b[0m\n\u001b[0;32m---> 30\u001b[0;31m \u001b[0mee_output_path\u001b[0m \u001b[0;34m=\u001b[0m \u001b[0;34m\"projects/WRI-Aquaduct/{}/output_V{:02.0f}\"\u001b[0m\u001b[0;34m.\u001b[0m\u001b[0mformat\u001b[0m\u001b[0;34m(\u001b[0m\u001b[0mSCRIPT_NAME\u001b[0m\u001b[0;34m,\u001b[0m\u001b[0mOUTPUT_VERSION\u001b[0m\u001b[0;34m)\u001b[0m\u001b[0;34m\u001b[0m\u001b[0m\n\u001b[0m\u001b[1;32m     31\u001b[0m \u001b[0mprint\u001b[0m\u001b[0;34m(\u001b[0m\u001b[0;34m\"Output ee: \"\u001b[0m \u001b[0;34m+\u001b[0m  \u001b[0mee_output_path\u001b[0m\u001b[0;34m)\u001b[0m\u001b[0;34m\u001b[0m\u001b[0m\n\u001b[1;32m     32\u001b[0m \u001b[0;34m\u001b[0m\u001b[0m\n",
      "\u001b[0;31mNameError\u001b[0m: name 'SCRIPT_NAME' is not defined"
     ]
    }
   ],
   "source": [
    "\"\"\" Find the pixels to mask within each basin to use for river discharge. \n",
    "-------------------------------------------------------------------------------\n",
    "\n",
    "Creates a mask for available river dicharge based on two criteria:\n",
    "\n",
    "number of 30s pixels > threshold\n",
    "sum_maxStreamorder < threshold\n",
    "\n",
    "\n",
    "Args:\n",
    "\n",
    "COUNT_AREA_THRESHOLD_30S\n",
    "\n",
    "\n",
    "\"\"\"\n",
    "\n",
    "SCRIPT_NAME = \"Y2018M05D03_RH_Mask_Discharge_Pixels_V01\"\n",
    "\n",
    "COUNT_AREA_THRESHOLD_30S = 1000 # corresponds to 10 5min cells\n",
    "SUM_MAX_STREAMORDER_THRESHOLD_30S = 150 # corresponds to 1.5 5min cells\n",
    "\n",
    "\n",
    "COUNT_AREA_ASSET_ID = \"projects/WRI-Aquaduct/Y2018M05D02_RH_Prepare_Mask_Discharge_Pixels_V01/output_V02/global_count_area_dimensionless_30sPfaf06\"\n",
    "SUM_MAXSTREAMORDER_ASSET_ID = \"projects/WRI-Aquaduct/Y2018M05D02_RH_Prepare_Mask_Discharge_Pixels_V01/output_V02/global_sum_maxStreamorder_dimensionless_30sPfaf06\"\n",
    "\n",
    "TESTING = 1\n",
    "\n",
    "OUTPUT_VERSION = 1\n",
    "\n",
    "\n",
    "ee_output_path = \"projects/WRI-Aquaduct/{}/output_V{:02.0f}\".format(SCRIPT_NAME,OUTPUT_VERSION)\n",
    "print(\"Output ee: \" +  ee_output_path)\n",
    "\n",
    "\n"
   ]
  },
  {
   "cell_type": "code",
   "execution_count": 9,
   "metadata": {
    "collapsed": true
   },
   "outputs": [],
   "source": [
    "import ee\n",
    "import aqueduct3\n",
    "ee.Initialize()"
   ]
  },
  {
   "cell_type": "code",
   "execution_count": 7,
   "metadata": {},
   "outputs": [],
   "source": [
    "i_count_area = ee.Image(COUNT_AREA_ASSET_ID)\n",
    "i_sum_maxstreamorder = ee.Image(SUM_MAXSTREAMORDER_ASSET_ID)\n",
    "\n",
    "\n",
    "i_count_area_mask = i_count_area.gt(COUNT_AREA_THRESHOLD_30S)\n",
    "\n",
    "i_sum_maxstreamorder_mask = i_sum_maxstreamorder.lt(SUM_MAX_STREAMORDER_THRESHOLD_30S)\n",
    "\n",
    "i_mask = i_count_area_mask.multiply(i_sum_maxstreamorder_mask)"
   ]
  },
  {
   "cell_type": "code",
   "execution_count": 12,
   "metadata": {},
   "outputs": [],
   "source": [
    "# Geospatial constants\n",
    "spatial_resolution = \"30s\"\n",
    "geometry_server_side = aqueduct3.earthengine.get_global_geometry(test=TESTING)\n",
    "geometry_client_side = geometry_server_side.getInfo()['coordinates']\n",
    "crs_transform = aqueduct3.earthengine.get_crs_transform(spatial_resolution)"
   ]
  },
  {
   "cell_type": "code",
   "execution_count": null,
   "metadata": {
    "collapsed": true
   },
   "outputs": [],
   "source": []
  },
  {
   "cell_type": "code",
   "execution_count": null,
   "metadata": {
    "collapsed": true
   },
   "outputs": [],
   "source": [
    "task = ee.batch.Export.image.toAsset(\n",
    "    image =  image,\n",
    "    assetId = output_asset_id,\n",
    "    region = geometry_client_side,\n",
    "    description = description,\n",
    "    #dimensions = dimensions,\n",
    "    crs = \"EPSG:4326\",\n",
    "    crsTransform = crs_transform,\n",
    "    maxPixels = 1e10     \n",
    ")\n",
    "task.start()"
   ]
  }
 ],
 "metadata": {
  "kernelspec": {
   "display_name": "Python 35",
   "language": "python",
   "name": "python35"
  },
  "language_info": {
   "codemirror_mode": {
    "name": "ipython",
    "version": 3
   },
   "file_extension": ".py",
   "mimetype": "text/x-python",
   "name": "python",
   "nbconvert_exporter": "python",
   "pygments_lexer": "ipython3",
   "version": "3.5.4"
  }
 },
 "nbformat": 4,
 "nbformat_minor": 2
}
