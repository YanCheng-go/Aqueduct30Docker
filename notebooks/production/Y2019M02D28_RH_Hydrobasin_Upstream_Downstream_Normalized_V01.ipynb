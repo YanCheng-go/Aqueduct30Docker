{
 "cells": [
  {
   "cell_type": "code",
   "execution_count": 5,
   "metadata": {
    "collapsed": true
   },
   "outputs": [],
   "source": [
    "\"\"\" Create table for upstream and downstream relation.\n",
    "-------------------------------------------------------------------------------\n",
    "Create a csv file with all PFAFID upstream and downstream.\n",
    "\n",
    "Author: Rutger Hofste\n",
    "Date: 20190228\n",
    "Kernel: python35\n",
    "Docker: rutgerhofste/gisdocker:ubuntu16.04\n",
    "\n",
    "Args:\n",
    "\n",
    "\n",
    "\"\"\"\n",
    "\n",
    "SCRIPT_NAME = \"Y2019M02D28_RH_Hydrobasin_Upstream_Downstream_Normalized_V01\"\n",
    "OUTPUT_VERSION = 1\n",
    "\n",
    "DATABASE_ENDPOINT = \"aqueduct30v05.cgpnumwmfcqc.eu-central-1.rds.amazonaws.com\"\n",
    "DATABASE_NAME = \"database01\"\n",
    "INPUT_TABLE_NAME = \"hybas06_v04\"\n",
    "\n"
   ]
  },
  {
   "cell_type": "code",
   "execution_count": 2,
   "metadata": {},
   "outputs": [
    {
     "name": "stdout",
     "output_type": "stream",
     "text": [
      "Y2019M02D28 UTC 09:24\n"
     ]
    },
    {
     "data": {
      "text/plain": [
       "'3.5.4 |Anaconda, Inc.| (default, Nov 20 2017, 18:44:38) \\n[GCC 7.2.0]'"
      ]
     },
     "execution_count": 2,
     "metadata": {},
     "output_type": "execute_result"
    }
   ],
   "source": [
    "import time, datetime, sys\n",
    "dateString = time.strftime(\"Y%YM%mD%d\")\n",
    "timeString = time.strftime(\"UTC %H:%M\")\n",
    "start = datetime.datetime.now()\n",
    "print(dateString,timeString)\n",
    "sys.version"
   ]
  },
  {
   "cell_type": "code",
   "execution_count": 16,
   "metadata": {
    "collapsed": true
   },
   "outputs": [],
   "source": [
    "import sqlalchemy\n",
    "import pandas as pd\n",
    "import geopandas as gpd"
   ]
  },
  {
   "cell_type": "code",
   "execution_count": null,
   "metadata": {
    "collapsed": true
   },
   "outputs": [],
   "source": [
    "pd.read_sql(sql=con=)"
   ]
  },
  {
   "cell_type": "code",
   "execution_count": 6,
   "metadata": {},
   "outputs": [],
   "source": [
    "F = open(\"/.password\",\"r\")\n",
    "password = F.read().splitlines()[0]\n",
    "F.close()\n",
    "\n",
    "engine = sqlalchemy.create_engine(\"postgresql://rutgerhofste:{}@{}:5432/{}\".format(password,DATABASE_ENDPOINT,DATABASE_NAME))\n",
    "#connection = engine.connect()"
   ]
  },
  {
   "cell_type": "code",
   "execution_count": 17,
   "metadata": {
    "collapsed": true
   },
   "outputs": [],
   "source": [
    "sql = \"select hybas_id, next_down, next_sink, main_bas, endo, coast, pfaf_id from {}\".format(INPUT_TABLE_NAME)"
   ]
  },
  {
   "cell_type": "code",
   "execution_count": 19,
   "metadata": {},
   "outputs": [],
   "source": [
    "# load geodataframe from postGIS\n",
    "df =pd.read_sql(sql=sql,con=engine)"
   ]
  },
  {
   "cell_type": "code",
   "execution_count": 20,
   "metadata": {},
   "outputs": [
    {
     "data": {
      "text/html": [
       "<div>\n",
       "<style scoped>\n",
       "    .dataframe tbody tr th:only-of-type {\n",
       "        vertical-align: middle;\n",
       "    }\n",
       "\n",
       "    .dataframe tbody tr th {\n",
       "        vertical-align: top;\n",
       "    }\n",
       "\n",
       "    .dataframe thead th {\n",
       "        text-align: right;\n",
       "    }\n",
       "</style>\n",
       "<table border=\"1\" class=\"dataframe\">\n",
       "  <thead>\n",
       "    <tr style=\"text-align: right;\">\n",
       "      <th></th>\n",
       "      <th>hybas_id</th>\n",
       "      <th>next_down</th>\n",
       "      <th>next_sink</th>\n",
       "      <th>main_bas</th>\n",
       "      <th>endo</th>\n",
       "      <th>coast</th>\n",
       "      <th>pfaf_id</th>\n",
       "    </tr>\n",
       "  </thead>\n",
       "  <tbody>\n",
       "    <tr>\n",
       "      <th>0</th>\n",
       "      <td>1060000160</td>\n",
       "      <td>0</td>\n",
       "      <td>1060000160</td>\n",
       "      <td>1060000160</td>\n",
       "      <td>0</td>\n",
       "      <td>1</td>\n",
       "      <td>111015</td>\n",
       "    </tr>\n",
       "    <tr>\n",
       "      <th>1</th>\n",
       "      <td>1060001090</td>\n",
       "      <td>0</td>\n",
       "      <td>1060001090</td>\n",
       "      <td>1060001090</td>\n",
       "      <td>0</td>\n",
       "      <td>1</td>\n",
       "      <td>111019</td>\n",
       "    </tr>\n",
       "    <tr>\n",
       "      <th>2</th>\n",
       "      <td>1060001370</td>\n",
       "      <td>0</td>\n",
       "      <td>1060001370</td>\n",
       "      <td>1060001370</td>\n",
       "      <td>0</td>\n",
       "      <td>0</td>\n",
       "      <td>111020</td>\n",
       "    </tr>\n",
       "    <tr>\n",
       "      <th>3</th>\n",
       "      <td>1060001510</td>\n",
       "      <td>0</td>\n",
       "      <td>1060001510</td>\n",
       "      <td>1060001510</td>\n",
       "      <td>0</td>\n",
       "      <td>0</td>\n",
       "      <td>111041</td>\n",
       "    </tr>\n",
       "    <tr>\n",
       "      <th>4</th>\n",
       "      <td>1060001520</td>\n",
       "      <td>0</td>\n",
       "      <td>1060001520</td>\n",
       "      <td>1060001520</td>\n",
       "      <td>0</td>\n",
       "      <td>1</td>\n",
       "      <td>111050</td>\n",
       "    </tr>\n",
       "  </tbody>\n",
       "</table>\n",
       "</div>"
      ],
      "text/plain": [
       "     hybas_id  next_down   next_sink    main_bas  endo  coast  pfaf_id\n",
       "0  1060000160          0  1060000160  1060000160     0      1   111015\n",
       "1  1060001090          0  1060001090  1060001090     0      1   111019\n",
       "2  1060001370          0  1060001370  1060001370     0      0   111020\n",
       "3  1060001510          0  1060001510  1060001510     0      0   111041\n",
       "4  1060001520          0  1060001520  1060001520     0      1   111050"
      ]
     },
     "execution_count": 20,
     "metadata": {},
     "output_type": "execute_result"
    }
   ],
   "source": [
    "df.head()"
   ]
  },
  {
   "cell_type": "code",
   "execution_count": 24,
   "metadata": {},
   "outputs": [
    {
     "data": {
      "text/html": [
       "<div>\n",
       "<style scoped>\n",
       "    .dataframe tbody tr th:only-of-type {\n",
       "        vertical-align: middle;\n",
       "    }\n",
       "\n",
       "    .dataframe tbody tr th {\n",
       "        vertical-align: top;\n",
       "    }\n",
       "\n",
       "    .dataframe thead th {\n",
       "        text-align: right;\n",
       "    }\n",
       "</style>\n",
       "<table border=\"1\" class=\"dataframe\">\n",
       "  <thead>\n",
       "    <tr style=\"text-align: right;\">\n",
       "      <th></th>\n",
       "      <th>hybas_id</th>\n",
       "      <th>next_down</th>\n",
       "      <th>next_sink</th>\n",
       "      <th>main_bas</th>\n",
       "      <th>endo</th>\n",
       "      <th>coast</th>\n",
       "      <th>pfaf_id</th>\n",
       "    </tr>\n",
       "  </thead>\n",
       "  <tbody>\n",
       "    <tr>\n",
       "      <th>16391</th>\n",
       "      <td>9060121950</td>\n",
       "      <td>9060124860</td>\n",
       "      <td>9060005760</td>\n",
       "      <td>9060005760</td>\n",
       "      <td>0</td>\n",
       "      <td>0</td>\n",
       "      <td>912208</td>\n",
       "    </tr>\n",
       "    <tr>\n",
       "      <th>16392</th>\n",
       "      <td>9060122000</td>\n",
       "      <td>9060124860</td>\n",
       "      <td>9060005760</td>\n",
       "      <td>9060005760</td>\n",
       "      <td>0</td>\n",
       "      <td>0</td>\n",
       "      <td>912209</td>\n",
       "    </tr>\n",
       "    <tr>\n",
       "      <th>16393</th>\n",
       "      <td>9060124640</td>\n",
       "      <td>9060005760</td>\n",
       "      <td>9060005760</td>\n",
       "      <td>9060005760</td>\n",
       "      <td>0</td>\n",
       "      <td>0</td>\n",
       "      <td>912202</td>\n",
       "    </tr>\n",
       "    <tr>\n",
       "      <th>16394</th>\n",
       "      <td>9060124860</td>\n",
       "      <td>9060124850</td>\n",
       "      <td>9060005760</td>\n",
       "      <td>9060005760</td>\n",
       "      <td>0</td>\n",
       "      <td>0</td>\n",
       "      <td>912207</td>\n",
       "    </tr>\n",
       "    <tr>\n",
       "      <th>16395</th>\n",
       "      <td>9060124870</td>\n",
       "      <td>9060124850</td>\n",
       "      <td>9060005760</td>\n",
       "      <td>9060005760</td>\n",
       "      <td>0</td>\n",
       "      <td>0</td>\n",
       "      <td>912206</td>\n",
       "    </tr>\n",
       "  </tbody>\n",
       "</table>\n",
       "</div>"
      ],
      "text/plain": [
       "         hybas_id   next_down   next_sink    main_bas  endo  coast  pfaf_id\n",
       "16391  9060121950  9060124860  9060005760  9060005760     0      0   912208\n",
       "16392  9060122000  9060124860  9060005760  9060005760     0      0   912209\n",
       "16393  9060124640  9060005760  9060005760  9060005760     0      0   912202\n",
       "16394  9060124860  9060124850  9060005760  9060005760     0      0   912207\n",
       "16395  9060124870  9060124850  9060005760  9060005760     0      0   912206"
      ]
     },
     "execution_count": 24,
     "metadata": {},
     "output_type": "execute_result"
    }
   ],
   "source": [
    "df.tail()"
   ]
  },
  {
   "cell_type": "code",
   "execution_count": 26,
   "metadata": {
    "collapsed": true
   },
   "outputs": [],
   "source": [
    "def find_downstream(hybas_id):\n",
    "    \"\"\" Create a dataframe with all downstream basins\n",
    "    \n",
    "    \n",
    "    \"\"\"\n",
    "    test = df.loc[df[\"hybas_id\"==hybas_id]]\n",
    "    return test\n",
    "    "
   ]
  },
  {
   "cell_type": "code",
   "execution_count": 29,
   "metadata": {},
   "outputs": [
    {
     "data": {
      "text/html": [
       "<div>\n",
       "<style scoped>\n",
       "    .dataframe tbody tr th:only-of-type {\n",
       "        vertical-align: middle;\n",
       "    }\n",
       "\n",
       "    .dataframe tbody tr th {\n",
       "        vertical-align: top;\n",
       "    }\n",
       "\n",
       "    .dataframe thead th {\n",
       "        text-align: right;\n",
       "    }\n",
       "</style>\n",
       "<table border=\"1\" class=\"dataframe\">\n",
       "  <thead>\n",
       "    <tr style=\"text-align: right;\">\n",
       "      <th></th>\n",
       "      <th>hybas_id</th>\n",
       "      <th>next_down</th>\n",
       "      <th>next_sink</th>\n",
       "      <th>main_bas</th>\n",
       "      <th>endo</th>\n",
       "      <th>coast</th>\n",
       "      <th>pfaf_id</th>\n",
       "    </tr>\n",
       "  </thead>\n",
       "  <tbody>\n",
       "    <tr>\n",
       "      <th>16391</th>\n",
       "      <td>9060121950</td>\n",
       "      <td>9060124860</td>\n",
       "      <td>9060005760</td>\n",
       "      <td>9060005760</td>\n",
       "      <td>0</td>\n",
       "      <td>0</td>\n",
       "      <td>912208</td>\n",
       "    </tr>\n",
       "  </tbody>\n",
       "</table>\n",
       "</div>"
      ],
      "text/plain": [
       "         hybas_id   next_down   next_sink    main_bas  endo  coast  pfaf_id\n",
       "16391  9060121950  9060124860  9060005760  9060005760     0      0   912208"
      ]
     },
     "execution_count": 29,
     "metadata": {},
     "output_type": "execute_result"
    }
   ],
   "source": [
    "df.loc[df[\"hybas_id\"] == 9060121950]"
   ]
  },
  {
   "cell_type": "code",
   "execution_count": null,
   "metadata": {
    "collapsed": true
   },
   "outputs": [],
   "source": []
  }
 ],
 "metadata": {
  "kernelspec": {
   "display_name": "Python 35",
   "language": "python",
   "name": "python35"
  },
  "language_info": {
   "codemirror_mode": {
    "name": "ipython",
    "version": 3
   },
   "file_extension": ".py",
   "mimetype": "text/x-python",
   "name": "python",
   "nbconvert_exporter": "python",
   "pygments_lexer": "ipython3",
   "version": "3.5.4"
  }
 },
 "nbformat": 4,
 "nbformat_minor": 2
}
