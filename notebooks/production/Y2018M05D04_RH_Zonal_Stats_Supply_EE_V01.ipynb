{
 "cells": [
  {
   "cell_type": "code",
   "execution_count": 1,
   "metadata": {},
   "outputs": [
    {
     "name": "stdout",
     "output_type": "stream",
     "text": [
      "Input ee zones: projects/WRI-Aquaduct/Y2018M05D08_RH_Create_Zones_Mask_30sPfaf06_EE_V01/output_V02/validmaxfa_hybas_lev06_v1c_merged_fiona_30s_V04\n",
      "Input ee values path: projects/WRI-Aquaduct/PCRGlobWB20V09/\n",
      "Output gcs: gs://aqueduct30_v01/Y2018M05D04_RH_Zonal_Stats_Supply_EE_V01/output_V03/\n"
     ]
    }
   ],
   "source": [
    "\"\"\" Zonal statistics for basin demand. Export in table format.\n",
    "-------------------------------------------------------------------------------\n",
    "Zonal statistics for basin area. Export in table format.\n",
    "\n",
    "Strategy:\n",
    "\n",
    "1. first riverdischarge in zones masked by previous script (max_fa)\n",
    "\n",
    "2. mask endorheic basins with mask from previous script\n",
    "\n",
    "3. sum riverdischarge in remaining pixels\n",
    "\n",
    "\n",
    "\n",
    "\n",
    "Author: Rutger Hofste\n",
    "Date: 20180504\n",
    "Kernel: python35\n",
    "Docker: rutgerhofste/gisdocker:ubuntu16.04\n",
    "\n",
    "Args:\n",
    "\n",
    "    TESTING (boolean) : Testing mode. Uses a smaller geography if enabled.\n",
    "    \n",
    "    SCRIPT_NAME (string) : Script name.\n",
    "    EE_INPUT_ZONES_PATH (string) : earthengine input path for zones.\n",
    "    EE_INPUT_VALUES_PATH (string) : earthengine input path for value images.\n",
    "    INPUT_VERSION_ZONES (integer) : input version for zones images.\n",
    "    INPUT_VERSION_VALUES (integer) : input version for value images.\n",
    "    OUTPUT_VERSION (integer) : output version. \n",
    "    EXTRA_PROPERTIES (dictionary) : Extra properties to store in the resulting\n",
    "        pandas dataframe. \n",
    "    \n",
    "\n",
    "Returns:\n",
    "\n",
    "\"\"\"\n",
    "\n",
    "TESTING = 0\n",
    "SCRIPT_NAME = \"Y2018M05D04_RH_Zonal_Stats_Supply_EE_V01\"\n",
    "OUTPUT_VERSION = 3\n",
    "\n",
    "EE_INPUT_ZONES_ASSET_ID = \"projects/WRI-Aquaduct/Y2018M05D08_RH_Create_Zones_Mask_30sPfaf06_EE_V01/output_V02/validmaxfa_hybas_lev06_v1c_merged_fiona_30s_V04\"\n",
    "EE_INPUT_RIVERDISCHARGE_PATH_ID = \"projects/WRI-Aquaduct/PCRGlobWB20V09/\"\n",
    "\n",
    "SEPARATOR = \"_|-\"\n",
    "SCHEMA =[\"geographic_range\",\n",
    "         \"temporal_range\",\n",
    "         \"indicator\",\n",
    "         \"temporal_resolution\",\n",
    "         \"unit\",\n",
    "         \"spatial_resolution\",\n",
    "         \"temporal_range_min\",\n",
    "         \"temporal_range_max\"]\n",
    "\n",
    "EXTRA_PROPERTIES = {\"output_version\":OUTPUT_VERSION,\n",
    "                    \"script_used\":SCRIPT_NAME,\n",
    "                   }\n",
    "\n",
    "\n",
    "# Output Parameters\n",
    "gcs_output_path = \"gs://aqueduct30_v01/{}/output_V{:02.0f}/\".format(SCRIPT_NAME,OUTPUT_VERSION)\n",
    "ec2_output_path = \"/volumes/data/{}/output_V{:02.0f}\".format(SCRIPT_NAME,OUTPUT_VERSION)\n",
    "s3_output_path = \"s3://wri-projects/Aqueduct30/processData/{}/output_V{:02.0f}\".format(SCRIPT_NAME,OUTPUT_VERSION)\n",
    "\n",
    "print(\"Input ee zones: \" +  EE_INPUT_ZONES_ASSET_ID +\n",
    "      \"\\nInput ee values path: \" + EE_INPUT_RIVERDISCHARGE_PATH_ID  +\n",
    "      \"\\nOutput gcs: \" + gcs_output_path)\n"
   ]
  },
  {
   "cell_type": "code",
   "execution_count": 2,
   "metadata": {},
   "outputs": [
    {
     "name": "stdout",
     "output_type": "stream",
     "text": [
      "Y2018M05D08 UTC 12:30\n"
     ]
    },
    {
     "data": {
      "text/plain": [
       "'3.5.4 |Anaconda, Inc.| (default, Nov 20 2017, 18:44:38) \\n[GCC 7.2.0]'"
      ]
     },
     "execution_count": 2,
     "metadata": {},
     "output_type": "execute_result"
    }
   ],
   "source": [
    "import time, datetime, sys, logging\n",
    "dateString = time.strftime(\"Y%YM%mD%d\")\n",
    "timeString = time.strftime(\"UTC %H:%M\")\n",
    "start = datetime.datetime.now()\n",
    "print(dateString,timeString)\n",
    "sys.version"
   ]
  },
  {
   "cell_type": "code",
   "execution_count": 3,
   "metadata": {
    "collapsed": true
   },
   "outputs": [],
   "source": [
    "# Imports\n",
    "import pandas as pd\n",
    "from datetime import timedelta\n",
    "import os\n",
    "import ee\n",
    "import aqueduct3\n",
    "\n",
    "ee.Initialize()"
   ]
  },
  {
   "cell_type": "code",
   "execution_count": 4,
   "metadata": {
    "collapsed": true
   },
   "outputs": [],
   "source": [
    "logger = logging.getLogger(__name__)\n",
    "logger.setLevel(logging.DEBUG)\n",
    "formatter = logging.Formatter('%(asctime)s:%(levelname)s:%(message)s')\n",
    "file_handler = logging.FileHandler(\"./logs/{}.log\".format(SCRIPT_NAME))\n",
    "file_handler.setFormatter(formatter)\n",
    "logger.addHandler(file_handler)"
   ]
  },
  {
   "cell_type": "code",
   "execution_count": 5,
   "metadata": {},
   "outputs": [
    {
     "name": "stdout",
     "output_type": "stream",
     "text": [
      "rm: cannot remove '/volumes/data/Y2018M05D04_RH_Zonal_Stats_Supply_EE_V01/output_V03': No such file or directory\r\n"
     ]
    }
   ],
   "source": [
    "!rm -r {ec2_output_path}\n",
    "!mkdir -p {ec2_output_path}"
   ]
  },
  {
   "cell_type": "code",
   "execution_count": 6,
   "metadata": {
    "collapsed": true
   },
   "outputs": [],
   "source": [
    "def post_process_results(result_list,function_properties,extra_properties=EXTRA_PROPERTIES):\n",
    "    \"\"\"Client side function to convert results of reduceRegion to pandas dataframe.\n",
    "    -------------------------------------------------------------------------------\n",
    "    \n",
    "    Adds additional properties. The script is client side for convenience reasons.\n",
    "    A more robust and fast approach would be to add the extra_properties to the \n",
    "    server side dictionary.\n",
    "    \n",
    "    Args:\n",
    "        result_list (ee.List) : List of dictionaries. Result from reduceRegion\n",
    "        function_properties (dictionary) : Additional properties used in the \n",
    "            reduceRegion function call.\n",
    "        extra_properties (dictionary) : Additional properties set at global level. \n",
    "    \n",
    "    Returns:\n",
    "        df (pd.DataFrame) : Pandas dataframe with extra properties.\n",
    "    \n",
    "    \n",
    "    \"\"\"\n",
    "    extra_properties = {**function_properties, **EXTRA_PROPERTIES}\n",
    "    result_list_clientside = result_list.getInfo()\n",
    "    df = pd.DataFrame(result_list_clientside)\n",
    "    df = df.assign(**extra_properties)\n",
    "    df = df.apply(pd.to_numeric, errors='ignore')\n",
    "    return df  "
   ]
  },
  {
   "cell_type": "code",
   "execution_count": 7,
   "metadata": {},
   "outputs": [],
   "source": [
    "# 1. first riverdischarge in zones masked by previous script (max_fa)"
   ]
  },
  {
   "cell_type": "code",
   "execution_count": 8,
   "metadata": {
    "collapsed": true
   },
   "outputs": [],
   "source": [
    "temporal_resolutions = [\"month\",\"year\"]\n",
    "spatial_resolution = \"30s\"\n",
    "pfaf_level = 6\n",
    "indicator = \"riverdischarge\"\n",
    "reducer_name = \"first\""
   ]
  },
  {
   "cell_type": "code",
   "execution_count": null,
   "metadata": {},
   "outputs": [
    {
     "name": "stdout",
     "output_type": "stream",
     "text": [
      "projects/WRI-Aquaduct/PCRGlobWB20V09/global_historical_riverdischarge_month_millionm3_5min_1960_2014\n",
      "Index 0.00, Processed: 1 Elapsed: 0:00:02.741088 Asset: projects/WRI-Aquaduct/PCRGlobWB20V09/global_historical_riverdischarge_month_millionm3_5min_1960_2014/global_historical_riverdischarge_month_millionm3_5min_1960_2014_I000Y1960M01\n",
      "Index 1.00, Processed: 2 Elapsed: 0:00:45.239884 Asset: projects/WRI-Aquaduct/PCRGlobWB20V09/global_historical_riverdischarge_month_millionm3_5min_1960_2014/global_historical_riverdischarge_month_millionm3_5min_1960_2014_I001Y1960M02\n",
      "Index 2.00, Processed: 3 Elapsed: 0:01:30.884006 Asset: projects/WRI-Aquaduct/PCRGlobWB20V09/global_historical_riverdischarge_month_millionm3_5min_1960_2014/global_historical_riverdischarge_month_millionm3_5min_1960_2014_I002Y1960M03\n",
      "Index 3.00, Processed: 4 Elapsed: 0:02:09.576597 Asset: projects/WRI-Aquaduct/PCRGlobWB20V09/global_historical_riverdischarge_month_millionm3_5min_1960_2014/global_historical_riverdischarge_month_millionm3_5min_1960_2014_I003Y1960M04\n",
      "Index 4.00, Processed: 5 Elapsed: 0:02:48.712662 Asset: projects/WRI-Aquaduct/PCRGlobWB20V09/global_historical_riverdischarge_month_millionm3_5min_1960_2014/global_historical_riverdischarge_month_millionm3_5min_1960_2014_I004Y1960M05\n",
      "Index 5.00, Processed: 6 Elapsed: 0:03:46.953110 Asset: projects/WRI-Aquaduct/PCRGlobWB20V09/global_historical_riverdischarge_month_millionm3_5min_1960_2014/global_historical_riverdischarge_month_millionm3_5min_1960_2014_I005Y1960M06\n",
      "Index 6.00, Processed: 7 Elapsed: 0:04:13.218064 Asset: projects/WRI-Aquaduct/PCRGlobWB20V09/global_historical_riverdischarge_month_millionm3_5min_1960_2014/global_historical_riverdischarge_month_millionm3_5min_1960_2014_I006Y1960M07\n",
      "Index 7.00, Processed: 8 Elapsed: 0:05:11.052148 Asset: projects/WRI-Aquaduct/PCRGlobWB20V09/global_historical_riverdischarge_month_millionm3_5min_1960_2014/global_historical_riverdischarge_month_millionm3_5min_1960_2014_I007Y1960M08\n",
      "Index 8.00, Processed: 9 Elapsed: 0:05:57.251949 Asset: projects/WRI-Aquaduct/PCRGlobWB20V09/global_historical_riverdischarge_month_millionm3_5min_1960_2014/global_historical_riverdischarge_month_millionm3_5min_1960_2014_I008Y1960M09\n",
      "Index 9.00, Processed: 10 Elapsed: 0:06:45.475295 Asset: projects/WRI-Aquaduct/PCRGlobWB20V09/global_historical_riverdischarge_month_millionm3_5min_1960_2014/global_historical_riverdischarge_month_millionm3_5min_1960_2014_I009Y1960M10\n",
      "Index 10.00, Processed: 11 Elapsed: 0:07:27.323005 Asset: projects/WRI-Aquaduct/PCRGlobWB20V09/global_historical_riverdischarge_month_millionm3_5min_1960_2014/global_historical_riverdischarge_month_millionm3_5min_1960_2014_I010Y1960M11\n",
      "Index 11.00, Processed: 12 Elapsed: 0:08:18.265869 Asset: projects/WRI-Aquaduct/PCRGlobWB20V09/global_historical_riverdischarge_month_millionm3_5min_1960_2014/global_historical_riverdischarge_month_millionm3_5min_1960_2014_I011Y1960M12\n",
      "Index 12.00, Processed: 13 Elapsed: 0:08:53.318720 Asset: projects/WRI-Aquaduct/PCRGlobWB20V09/global_historical_riverdischarge_month_millionm3_5min_1960_2014/global_historical_riverdischarge_month_millionm3_5min_1960_2014_I012Y1961M01\n",
      "Index 13.00, Processed: 14 Elapsed: 0:09:31.643292 Asset: projects/WRI-Aquaduct/PCRGlobWB20V09/global_historical_riverdischarge_month_millionm3_5min_1960_2014/global_historical_riverdischarge_month_millionm3_5min_1960_2014_I013Y1961M02\n",
      "Index 14.00, Processed: 15 Elapsed: 0:10:41.116394 Asset: projects/WRI-Aquaduct/PCRGlobWB20V09/global_historical_riverdischarge_month_millionm3_5min_1960_2014/global_historical_riverdischarge_month_millionm3_5min_1960_2014_I014Y1961M03\n",
      "Index 15.00, Processed: 16 Elapsed: 0:11:29.722668 Asset: projects/WRI-Aquaduct/PCRGlobWB20V09/global_historical_riverdischarge_month_millionm3_5min_1960_2014/global_historical_riverdischarge_month_millionm3_5min_1960_2014_I015Y1961M04\n",
      "Index 16.00, Processed: 17 Elapsed: 0:12:09.230252 Asset: projects/WRI-Aquaduct/PCRGlobWB20V09/global_historical_riverdischarge_month_millionm3_5min_1960_2014/global_historical_riverdischarge_month_millionm3_5min_1960_2014_I016Y1961M05\n",
      "Index 17.00, Processed: 18 Elapsed: 0:12:36.174339 Asset: projects/WRI-Aquaduct/PCRGlobWB20V09/global_historical_riverdischarge_month_millionm3_5min_1960_2014/global_historical_riverdischarge_month_millionm3_5min_1960_2014_I017Y1961M06\n",
      "Index 18.00, Processed: 19 Elapsed: 0:13:36.105109 Asset: projects/WRI-Aquaduct/PCRGlobWB20V09/global_historical_riverdischarge_month_millionm3_5min_1960_2014/global_historical_riverdischarge_month_millionm3_5min_1960_2014_I018Y1961M07\n",
      "Index 19.00, Processed: 20 Elapsed: 0:14:32.874856 Asset: projects/WRI-Aquaduct/PCRGlobWB20V09/global_historical_riverdischarge_month_millionm3_5min_1960_2014/global_historical_riverdischarge_month_millionm3_5min_1960_2014_I019Y1961M08\n",
      "Index 20.00, Processed: 21 Elapsed: 0:15:44.465944 Asset: projects/WRI-Aquaduct/PCRGlobWB20V09/global_historical_riverdischarge_month_millionm3_5min_1960_2014/global_historical_riverdischarge_month_millionm3_5min_1960_2014_I020Y1961M09\n",
      "Index 21.00, Processed: 22 Elapsed: 0:16:29.313494 Asset: projects/WRI-Aquaduct/PCRGlobWB20V09/global_historical_riverdischarge_month_millionm3_5min_1960_2014/global_historical_riverdischarge_month_millionm3_5min_1960_2014_I021Y1961M10\n",
      "Index 22.00, Processed: 23 Elapsed: 0:16:54.524620 Asset: projects/WRI-Aquaduct/PCRGlobWB20V09/global_historical_riverdischarge_month_millionm3_5min_1960_2014/global_historical_riverdischarge_month_millionm3_5min_1960_2014_I022Y1961M11\n",
      "Index 23.00, Processed: 24 Elapsed: 0:17:50.814693 Asset: projects/WRI-Aquaduct/PCRGlobWB20V09/global_historical_riverdischarge_month_millionm3_5min_1960_2014/global_historical_riverdischarge_month_millionm3_5min_1960_2014_I023Y1961M12\n",
      "Index 24.00, Processed: 25 Elapsed: 0:18:34.018246 Asset: projects/WRI-Aquaduct/PCRGlobWB20V09/global_historical_riverdischarge_month_millionm3_5min_1960_2014/global_historical_riverdischarge_month_millionm3_5min_1960_2014_I024Y1962M01\n",
      "Index 25.00, Processed: 26 Elapsed: 0:19:12.580404 Asset: projects/WRI-Aquaduct/PCRGlobWB20V09/global_historical_riverdischarge_month_millionm3_5min_1960_2014/global_historical_riverdischarge_month_millionm3_5min_1960_2014_I025Y1962M02\n",
      "Index 26.00, Processed: 27 Elapsed: 0:19:58.370693 Asset: projects/WRI-Aquaduct/PCRGlobWB20V09/global_historical_riverdischarge_month_millionm3_5min_1960_2014/global_historical_riverdischarge_month_millionm3_5min_1960_2014_I026Y1962M03\n",
      "Index 27.00, Processed: 28 Elapsed: 0:20:47.798220 Asset: projects/WRI-Aquaduct/PCRGlobWB20V09/global_historical_riverdischarge_month_millionm3_5min_1960_2014/global_historical_riverdischarge_month_millionm3_5min_1960_2014_I027Y1962M04\n",
      "Index 28.00, Processed: 29 Elapsed: 0:21:53.312033 Asset: projects/WRI-Aquaduct/PCRGlobWB20V09/global_historical_riverdischarge_month_millionm3_5min_1960_2014/global_historical_riverdischarge_month_millionm3_5min_1960_2014_I028Y1962M05\n",
      "Index 29.00, Processed: 30 Elapsed: 0:22:31.214216 Asset: projects/WRI-Aquaduct/PCRGlobWB20V09/global_historical_riverdischarge_month_millionm3_5min_1960_2014/global_historical_riverdischarge_month_millionm3_5min_1960_2014_I029Y1962M06\n",
      "Index 30.00, Processed: 31 Elapsed: 0:22:58.522903 Asset: projects/WRI-Aquaduct/PCRGlobWB20V09/global_historical_riverdischarge_month_millionm3_5min_1960_2014/global_historical_riverdischarge_month_millionm3_5min_1960_2014_I030Y1962M07\n",
      "Index 31.00, Processed: 32 Elapsed: 0:23:30.800972 Asset: projects/WRI-Aquaduct/PCRGlobWB20V09/global_historical_riverdischarge_month_millionm3_5min_1960_2014/global_historical_riverdischarge_month_millionm3_5min_1960_2014_I031Y1962M08\n",
      "Index 32.00, Processed: 33 Elapsed: 0:24:27.529592 Asset: projects/WRI-Aquaduct/PCRGlobWB20V09/global_historical_riverdischarge_month_millionm3_5min_1960_2014/global_historical_riverdischarge_month_millionm3_5min_1960_2014_I032Y1962M09\n",
      "Index 33.00, Processed: 34 Elapsed: 0:25:27.309165 Asset: projects/WRI-Aquaduct/PCRGlobWB20V09/global_historical_riverdischarge_month_millionm3_5min_1960_2014/global_historical_riverdischarge_month_millionm3_5min_1960_2014_I033Y1962M10\n",
      "Index 34.00, Processed: 35 Elapsed: 0:26:31.150340 Asset: projects/WRI-Aquaduct/PCRGlobWB20V09/global_historical_riverdischarge_month_millionm3_5min_1960_2014/global_historical_riverdischarge_month_millionm3_5min_1960_2014_I034Y1962M11\n"
     ]
    },
    {
     "name": "stdout",
     "output_type": "stream",
     "text": [
      "Index 35.00, Processed: 36 Elapsed: 0:27:00.590863 Asset: projects/WRI-Aquaduct/PCRGlobWB20V09/global_historical_riverdischarge_month_millionm3_5min_1960_2014/global_historical_riverdischarge_month_millionm3_5min_1960_2014_I035Y1962M12\n",
      "Index 36.00, Processed: 37 Elapsed: 0:27:55.523837 Asset: projects/WRI-Aquaduct/PCRGlobWB20V09/global_historical_riverdischarge_month_millionm3_5min_1960_2014/global_historical_riverdischarge_month_millionm3_5min_1960_2014_I036Y1963M01\n",
      "Index 37.00, Processed: 38 Elapsed: 0:28:33.680399 Asset: projects/WRI-Aquaduct/PCRGlobWB20V09/global_historical_riverdischarge_month_millionm3_5min_1960_2014/global_historical_riverdischarge_month_millionm3_5min_1960_2014_I037Y1963M02\n",
      "Index 38.00, Processed: 39 Elapsed: 0:28:54.395639 Asset: projects/WRI-Aquaduct/PCRGlobWB20V09/global_historical_riverdischarge_month_millionm3_5min_1960_2014/global_historical_riverdischarge_month_millionm3_5min_1960_2014_I038Y1963M03\n",
      "Index 39.00, Processed: 40 Elapsed: 0:29:16.062153 Asset: projects/WRI-Aquaduct/PCRGlobWB20V09/global_historical_riverdischarge_month_millionm3_5min_1960_2014/global_historical_riverdischarge_month_millionm3_5min_1960_2014_I039Y1963M04\n",
      "Index 40.00, Processed: 41 Elapsed: 0:29:58.076618 Asset: projects/WRI-Aquaduct/PCRGlobWB20V09/global_historical_riverdischarge_month_millionm3_5min_1960_2014/global_historical_riverdischarge_month_millionm3_5min_1960_2014_I040Y1963M05\n",
      "Index 41.00, Processed: 42 Elapsed: 0:30:24.688439 Asset: projects/WRI-Aquaduct/PCRGlobWB20V09/global_historical_riverdischarge_month_millionm3_5min_1960_2014/global_historical_riverdischarge_month_millionm3_5min_1960_2014_I041Y1963M06\n",
      "Index 42.00, Processed: 43 Elapsed: 0:31:00.419941 Asset: projects/WRI-Aquaduct/PCRGlobWB20V09/global_historical_riverdischarge_month_millionm3_5min_1960_2014/global_historical_riverdischarge_month_millionm3_5min_1960_2014_I042Y1963M07\n",
      "Index 43.00, Processed: 44 Elapsed: 0:31:50.769096 Asset: projects/WRI-Aquaduct/PCRGlobWB20V09/global_historical_riverdischarge_month_millionm3_5min_1960_2014/global_historical_riverdischarge_month_millionm3_5min_1960_2014_I043Y1963M08\n",
      "Index 44.00, Processed: 45 Elapsed: 0:32:09.170373 Asset: projects/WRI-Aquaduct/PCRGlobWB20V09/global_historical_riverdischarge_month_millionm3_5min_1960_2014/global_historical_riverdischarge_month_millionm3_5min_1960_2014_I044Y1963M09\n"
     ]
    }
   ],
   "source": [
    "i_processed = 0\n",
    "start_time = time.time()\n",
    "\n",
    "# Zones Image\n",
    "i_zones_30sPfaf06 = ee.Image(EE_INPUT_ZONES_ASSET_ID)\n",
    "\n",
    "# Geospatial constants\n",
    "geometry_server_side = aqueduct3.earthengine.get_global_geometry(test=TESTING)\n",
    "geometry_client_side = geometry_server_side.getInfo()['coordinates']\n",
    "\n",
    "crs_transform = aqueduct3.earthengine.get_crs_transform(spatial_resolution)\n",
    "\n",
    "for temporal_resolution in temporal_resolutions:\n",
    "    ic_values_input_asset_id = \"{}global_historical_{}_{}_millionm3_5min_1960_2014\".format(EE_INPUT_RIVERDISCHARGE_PATH_ID,indicator,temporal_resolution)\n",
    "    print(ic_values_input_asset_id)\n",
    "    df = aqueduct3.earthengine.get_df_from_ic(ic_values_input_asset_id)\n",
    "\n",
    "    if TESTING:\n",
    "        df = df[0:3]\n",
    "    else:\n",
    "        pass\n",
    "    \n",
    "    for index, row in df.iterrows():\n",
    "        i_processed = i_processed + 1\n",
    "        elapsed_time = time.time() - start_time\n",
    "        i_values_input_asset_id = row[\"input_image_asset_id\"]\n",
    "        # Add an artificial extension to allow the function to run. \n",
    "        # consider updating the split_key function to handle cases without an extension.\n",
    "        i_values_input_asset_id_extenstion = i_values_input_asset_id + \".ee_image\"\n",
    "        dictje = aqueduct3.split_key(i_values_input_asset_id_extenstion,SCHEMA,SEPARATOR)\n",
    "\n",
    "        output_file_name = \"{}_reduced_{:02.0f}_{}_{}\".format(dictje[\"file_name\"],pfaf_level,spatial_resolution,reducer_name)\n",
    "        output_file_path_pkl = \"{}/{}.pkl\".format(ec2_output_path,output_file_name)\n",
    "        output_file_path_csv = \"{}/{}.csv\".format(ec2_output_path,output_file_name)\n",
    "\n",
    "        if os.path.isfile(output_file_path_pkl):\n",
    "            message = \"Index {:02.2f}, Skipping: {} Elapsed: {} Asset: {}\".format(float(index),i_processed,str(timedelta(seconds=elapsed_time)),i_values_input_asset_id)\n",
    "            logger.debug(message)\n",
    "        else:\n",
    "            message = \"Index {:02.2f}, Processed: {} Elapsed: {} Asset: {}\".format(float(index),i_processed,str(timedelta(seconds=elapsed_time)),i_values_input_asset_id)\n",
    "            print(message)\n",
    "            logger.debug(message)\n",
    "\n",
    "            i_values = ee.Image(i_values_input_asset_id)\n",
    "            \n",
    "            \n",
    "            result_list = aqueduct3.earthengine.raster_zonal_stats(\n",
    "                                        i_zones = i_zones_30sPfaf06,\n",
    "                                        i_values = i_values,\n",
    "                                        statistic_type = reducer_name,\n",
    "                                        geometry = geometry_server_side,\n",
    "                                        crs_transform = crs_transform,\n",
    "                                        crs=\"EPSG:4326\")\n",
    "            \n",
    "            function_properties = {\"zones_pfaf_level\":pfaf_level,\n",
    "                                   \"zones_spatial_resolution\":spatial_resolution,\n",
    "                                   \"reducer\":reducer_name,\n",
    "                                   \"zones_image_asset_id\":EE_INPUT_ZONES_ASSET_ID}\n",
    "\n",
    "            function_properties = {**function_properties, **dictje}\n",
    "            df = post_process_results(result_list,function_properties)\n",
    "\n",
    "\n",
    "            df.to_pickle(output_file_path_pkl)\n",
    "            #df.to_csv(output_file_path_csv,encoding='utf-8')                           \n",
    "                  "
   ]
  },
  {
   "cell_type": "code",
   "execution_count": null,
   "metadata": {},
   "outputs": [],
   "source": [
    "!aws s3 cp {ec2_output_path} {s3_output_path} --recursive --exclude='*' --include='*.pkl'"
   ]
  },
  {
   "cell_type": "code",
   "execution_count": null,
   "metadata": {},
   "outputs": [],
   "source": [
    "end = datetime.datetime.now()\n",
    "elapsed = end - start\n",
    "print(elapsed)"
   ]
  },
  {
   "cell_type": "markdown",
   "metadata": {},
   "source": [
    "Previous runs:  \n"
   ]
  }
 ],
 "metadata": {
  "kernelspec": {
   "display_name": "Python 35",
   "language": "python",
   "name": "python35"
  },
  "language_info": {
   "codemirror_mode": {
    "name": "ipython",
    "version": 3
   },
   "file_extension": ".py",
   "mimetype": "text/x-python",
   "name": "python",
   "nbconvert_exporter": "python",
   "pygments_lexer": "ipython3",
   "version": "3.5.4"
  }
 },
 "nbformat": 4,
 "nbformat_minor": 2
}
