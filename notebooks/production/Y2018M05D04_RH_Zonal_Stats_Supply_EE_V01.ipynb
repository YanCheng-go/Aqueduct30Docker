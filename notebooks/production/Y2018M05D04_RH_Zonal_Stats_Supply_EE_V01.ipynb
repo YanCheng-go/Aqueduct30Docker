{
 "cells": [
  {
   "cell_type": "code",
   "execution_count": null,
   "metadata": {
    "collapsed": true
   },
   "outputs": [],
   "source": [
    "\"\"\" Zonal statistics for basin demand. Export in table format.\n",
    "-------------------------------------------------------------------------------\n",
    "Zonal statistics for basin area. Export in table format.\n",
    "\n",
    "Strategy:\n",
    "\n",
    "1. first riverdischarge in zones masked by previous script (max_fa)\n",
    "\n",
    "2. mask endorheic basins with mask from previous script\n",
    "\n",
    "3. sum riverdischarge in remaining pixels\n",
    "\n",
    "\n",
    "\n",
    "\n",
    "\n",
    "\n",
    "Author: Rutger Hofste\n",
    "Date: 20180504\n",
    "Kernel: python35\n",
    "Docker: rutgerhofste/gisdocker:ubuntu16.04\n",
    "\n",
    "Args:\n",
    "\n",
    "    TESTING (boolean) : Testing mode. Uses a smaller geography if enabled.\n",
    "    \n",
    "    SCRIPT_NAME (string) : Script name.\n",
    "    EE_INPUT_ZONES_PATH (string) : earthengine input path for zones.\n",
    "    EE_INPUT_VALUES_PATH (string) : earthengine input path for value images.\n",
    "    INPUT_VERSION_ZONES (integer) : input version for zones images.\n",
    "    INPUT_VERSION_VALUES (integer) : input version for value images.\n",
    "    OUTPUT_VERSION (integer) : output version. \n",
    "    EXTRA_PROPERTIES (dictionary) : Extra properties to store in the resulting\n",
    "        pandas dataframe. \n",
    "    \n",
    "\n",
    "Returns:\n",
    "\n",
    "\"\"\"\n",
    "\n",
    "TESTING = 1\n",
    "SCRIPT_NAME = \"Y2018M05D04_RH_Zonal_Stats_Supply_EE_V01\"\n",
    "\n",
    "EE_INPUT_ZONES_PATH = \"projects/WRI-Aquaduct/Y2018M04D20_RH_Ingest_HydroBasins_GCS_EE_V01/output_V01\"\n",
    "INPUT_VERSION_ZONES = 4\n",
    "\n",
    "SPATIAL_RESOLUTIONS = [\"30s\"]\n",
    "PFAF_LEVELS = [6]\n"
   ]
  },
  {
   "cell_type": "code",
   "execution_count": 3,
   "metadata": {},
   "outputs": [
    {
     "name": "stdout",
     "output_type": "stream",
     "text": [
      "Y2018M05D04 UTC 09:08\n"
     ]
    },
    {
     "data": {
      "text/plain": [
       "'3.5.4 |Anaconda, Inc.| (default, Nov 20 2017, 18:44:38) \\n[GCC 7.2.0]'"
      ]
     },
     "execution_count": 3,
     "metadata": {},
     "output_type": "execute_result"
    }
   ],
   "source": [
    "import time, datetime, sys, logging\n",
    "dateString = time.strftime(\"Y%YM%mD%d\")\n",
    "timeString = time.strftime(\"UTC %H:%M\")\n",
    "start = datetime.datetime.now()\n",
    "print(dateString,timeString)\n",
    "sys.version"
   ]
  },
  {
   "cell_type": "code",
   "execution_count": null,
   "metadata": {
    "collapsed": true
   },
   "outputs": [],
   "source": [
    "# Imports\n",
    "import pandas as pd\n",
    "from datetime import timedelta\n",
    "import os\n",
    "import ee\n",
    "import aqueduct3\n",
    "\n",
    "ee.Initialize()"
   ]
  },
  {
   "cell_type": "code",
   "execution_count": null,
   "metadata": {
    "collapsed": true
   },
   "outputs": [],
   "source": [
    "logger = logging.getLogger(__name__)\n",
    "logger.setLevel(logging.DEBUG)\n",
    "formatter = logging.Formatter('%(asctime)s:%(levelname)s:%(message)s')\n",
    "file_handler = logging.FileHandler(\"./logs/{}.log\".format(SCRIPT_NAME))\n",
    "file_handler.setFormatter(formatter)\n",
    "logger.addHandler(file_handler)"
   ]
  },
  {
   "cell_type": "code",
   "execution_count": null,
   "metadata": {
    "collapsed": true
   },
   "outputs": [],
   "source": [
    "\"\"\"\n",
    "Tactic\n",
    "\n",
    "FA based approach: static\n",
    "\n",
    "\n",
    "use riverdischarge mask\n",
    "\n",
    "max_FA  (most downstream pixel)\n",
    "\n",
    "\n",
    "mask sinks\n",
    "\n",
    "add masked sinks\n",
    "\n",
    "\n",
    "\n",
    "\n",
    "\n",
    "\n",
    "\n",
    "\"\"\""
   ]
  }
 ],
 "metadata": {
  "kernelspec": {
   "display_name": "Python 35",
   "language": "python",
   "name": "python35"
  },
  "language_info": {
   "codemirror_mode": {
    "name": "ipython",
    "version": 3
   },
   "file_extension": ".py",
   "mimetype": "text/x-python",
   "name": "python",
   "nbconvert_exporter": "python",
   "pygments_lexer": "ipython3",
   "version": "3.5.4"
  }
 },
 "nbformat": 4,
 "nbformat_minor": 2
}
