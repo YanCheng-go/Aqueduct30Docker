{
 "cells": [
  {
   "cell_type": "code",
   "execution_count": 1,
   "metadata": {
    "collapsed": true
   },
   "outputs": [],
   "source": [
    "\"\"\" Zonal statistics for basin demand. Export in table format.\n",
    "-------------------------------------------------------------------------------\n",
    "Zonal statistics for basin area. Export in table format.\n",
    "\n",
    "Strategy:\n",
    "\n",
    "1. first riverdischarge in zones masked by previous script (max_fa)\n",
    "\n",
    "2. mask endorheic basins with mask from previous script\n",
    "\n",
    "3. sum riverdischarge in remaining pixels\n",
    "\n",
    "\n",
    "\n",
    "\n",
    "Author: Rutger Hofste\n",
    "Date: 20180504\n",
    "Kernel: python35\n",
    "Docker: rutgerhofste/gisdocker:ubuntu16.04\n",
    "\n",
    "Args:\n",
    "\n",
    "    TESTING (boolean) : Testing mode. Uses a smaller geography if enabled.\n",
    "    \n",
    "    SCRIPT_NAME (string) : Script name.\n",
    "    EE_INPUT_ZONES_PATH (string) : earthengine input path for zones.\n",
    "    EE_INPUT_VALUES_PATH (string) : earthengine input path for value images.\n",
    "    INPUT_VERSION_ZONES (integer) : input version for zones images.\n",
    "    INPUT_VERSION_VALUES (integer) : input version for value images.\n",
    "    OUTPUT_VERSION (integer) : output version. \n",
    "    EXTRA_PROPERTIES (dictionary) : Extra properties to store in the resulting\n",
    "        pandas dataframe. \n",
    "    \n",
    "\n",
    "Returns:\n",
    "\n",
    "\"\"\"\n",
    "\n",
    "TESTING = 1\n",
    "SCRIPT_NAME = \"Y2018M05D04_RH_Zonal_Stats_Supply_EE_V01\"\n",
    "\n",
    "EE_INPUT_ZONES_ASSET_ID = \"projects/WRI-Aquaduct/Y2018M04D20_RH_Ingest_HydroBasins_GCS_EE_V01/output_V02/hybas_lev06_v1c_merged_fiona_30s_V04\"\n",
    "EE_INPUT_RIVERDISCHARGE_ASSET_ID = \"projects/WRI-Aquaduct/PCRGlobWB20V09/global_historical_riverdischarge_month_millionm3_5min_1960_2014\"\n",
    "EE_INPUT_FA_ASSET_ID = \"projects/WRI-Aquaduct/Y2017M08D02_RH_Ingest_Aux_Rasters_GCS_EE_V02/output_V06/global_accumulateddrainagearea_km2_05min\"\n",
    "EE_INPUT_MAX_MASKEDFA_ASSET_ID = \"projects/WRI-Aquaduct/Y2018M05D03_RH_Max_FA_Add_Sinks_EE_V01/output_V02/global_max_maskedaccumulateddrainagearea_km2_30sPfaf06\"\n",
    "\n"
   ]
  },
  {
   "cell_type": "code",
   "execution_count": 2,
   "metadata": {},
   "outputs": [
    {
     "name": "stdout",
     "output_type": "stream",
     "text": [
      "Y2018M05D08 UTC 08:13\n"
     ]
    },
    {
     "data": {
      "text/plain": [
       "'3.5.4 |Anaconda, Inc.| (default, Nov 20 2017, 18:44:38) \\n[GCC 7.2.0]'"
      ]
     },
     "execution_count": 2,
     "metadata": {},
     "output_type": "execute_result"
    }
   ],
   "source": [
    "import time, datetime, sys, logging\n",
    "dateString = time.strftime(\"Y%YM%mD%d\")\n",
    "timeString = time.strftime(\"UTC %H:%M\")\n",
    "start = datetime.datetime.now()\n",
    "print(dateString,timeString)\n",
    "sys.version"
   ]
  },
  {
   "cell_type": "code",
   "execution_count": 3,
   "metadata": {
    "collapsed": true
   },
   "outputs": [],
   "source": [
    "# Imports\n",
    "import pandas as pd\n",
    "from datetime import timedelta\n",
    "import os\n",
    "import ee\n",
    "import aqueduct3\n",
    "\n",
    "ee.Initialize()"
   ]
  },
  {
   "cell_type": "code",
   "execution_count": 4,
   "metadata": {
    "collapsed": true
   },
   "outputs": [],
   "source": [
    "logger = logging.getLogger(__name__)\n",
    "logger.setLevel(logging.DEBUG)\n",
    "formatter = logging.Formatter('%(asctime)s:%(levelname)s:%(message)s')\n",
    "file_handler = logging.FileHandler(\"./logs/{}.log\".format(SCRIPT_NAME))\n",
    "file_handler.setFormatter(formatter)\n",
    "logger.addHandler(file_handler)"
   ]
  },
  {
   "cell_type": "code",
   "execution_count": 5,
   "metadata": {
    "collapsed": true
   },
   "outputs": [],
   "source": [
    "def master(i_zones,i_values,geometry,crs_transform,statistic_type,extra_properties):\n",
    "    result_list = aqueduct3.earthengine.raster_zonal_stats(\n",
    "                                            i_zones = i_zones,\n",
    "                                            i_values = i_values,\n",
    "                                            statistic_type = statistic_type,\n",
    "                                            geometry = geometry_server_side,\n",
    "                                            crs_transform = crs_transform,\n",
    "                                            crs=\"EPSG:4326\")\n",
    "    i_result, i_count = aqueduct3.earthengine.zonal_stats_results_to_image(result_list,i_zones,statistic_type)\n",
    "    \n",
    "    i_dummy_result_properties = aqueduct3.earthengine.zonal_stats_image_propertes(i_zones,i_values,extra_properties,zones_prefix=\"zones_\",values_prefix=\"values_\")\n",
    "    \n",
    "    i_result = i_result.multiply(1) #Deletes old properties\n",
    "    i_result = i_result.copyProperties(i_dummy_result_properties)\n",
    "    \n",
    "    return i_result, i_count"
   ]
  },
  {
   "cell_type": "code",
   "execution_count": 6,
   "metadata": {},
   "outputs": [],
   "source": [
    "# Images\n",
    "\n",
    "i_zones_30sPfaf06 = ee.Image(EE_INPUT_ZONES_ASSET_ID)\n",
    "ic_riverdischarge_month_millionm3_05min = ee.ImageCollection(EE_INPUT_RIVERDISCHARGE_ASSET_ID)\n",
    "i_fa_km2_05min = ee.Image(EE_INPUT_FA_ASSET_ID)\n",
    "i_max_maskedfa_km2_30sPfaf06 = ee.Image(EE_INPUT_MAX_MASKEDFA_ASSET_ID)\n",
    "\n",
    "\n",
    "# Geospatial constants\n",
    "spatial_resolution = \"30s\"\n",
    "geometry_server_side = aqueduct3.earthengine.get_global_geometry(test=TESTING)\n",
    "geometry_client_side = geometry_server_side.getInfo()['coordinates']\n",
    "crs_transform = aqueduct3.earthengine.get_crs_transform(spatial_resolution)"
   ]
  },
  {
   "cell_type": "code",
   "execution_count": 8,
   "metadata": {},
   "outputs": [],
   "source": []
  },
  {
   "cell_type": "code",
   "execution_count": 9,
   "metadata": {},
   "outputs": [
    {
     "data": {
      "text/plain": [
       "{'bands': [{'crs': 'EPSG:4326',\n",
       "   'crs_transform': [0.008333333333333333,\n",
       "    0.0,\n",
       "    -180.0,\n",
       "    0.0,\n",
       "    -0.008333333333333333,\n",
       "    90.0],\n",
       "   'data_type': {'max': 1, 'min': 0, 'precision': 'int', 'type': 'PixelType'},\n",
       "   'id': 'max'}],\n",
       " 'type': 'Image'}"
      ]
     },
     "execution_count": 9,
     "metadata": {},
     "output_type": "execute_result"
    }
   ],
   "source": []
  },
  {
   "cell_type": "code",
   "execution_count": 10,
   "metadata": {
    "collapsed": true
   },
   "outputs": [],
   "source": [
    "# 0. Mask from previous script: (Y2018M05D03_RH_Max_FA_Add_Sinks_EE_V01 == flow accumulation ) \n",
    "i_mask_max_maskedfa_boolean_30sPfaf06 =  i_max_maskedfa_km2_30sPfaf06.eq(i_fa_km2_05min)\n",
    "i_masked_zones_30sPfaf06 = i_zones_30sPfaf06.multiply(i_mask_max_maskedfa_boolean_30sPfaf06)\n",
    "\n",
    "# 1. first riverdischarge in zones masked by previous script (max_fa)\n",
    "\n",
    "i_riverdischarge_month_millionm3_05min = ee.Image(ic_riverdischarge_month_millionm3_05min.first())\n",
    "\n",
    "output_dict = {}\n",
    "output_dict[\"i_first_riverdischarge_month_millionm3_05min\"], output_dict[\"count_riverdischarge_month_millionm3_05min\"] = master(i_zones = i_hybas_lev06_v1c_merged_fiona_30s_V04,\n",
    "                                                                                                                                                   i_values = i_global_accumulateddrainagearea_km2_05min_masked,\n",
    "                                                                                                                                                   geometry = geometry_client_side,\n",
    "                                                                                                                                                   crs_transform = crs_transform,\n",
    "                                                                                                                                                   statistic_type = \"first\",\n",
    "                                                                                                                                                   extra_properties= {})\n",
    "\n"
   ]
  },
  {
   "cell_type": "code",
   "execution_count": null,
   "metadata": {
    "collapsed": true
   },
   "outputs": [],
   "source": []
  }
 ],
 "metadata": {
  "kernelspec": {
   "display_name": "Python 35",
   "language": "python",
   "name": "python35"
  },
  "language_info": {
   "codemirror_mode": {
    "name": "ipython",
    "version": 3
   },
   "file_extension": ".py",
   "mimetype": "text/x-python",
   "name": "python",
   "nbconvert_exporter": "python",
   "pygments_lexer": "ipython3",
   "version": "3.5.4"
  }
 },
 "nbformat": 4,
 "nbformat_minor": 2
}
