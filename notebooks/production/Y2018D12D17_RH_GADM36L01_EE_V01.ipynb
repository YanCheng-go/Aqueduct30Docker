{
 "cells": [
  {
   "cell_type": "code",
   "execution_count": 1,
   "metadata": {},
   "outputs": [
    {
     "name": "stdout",
     "output_type": "stream",
     "text": [
      "\n",
      "Input ec2: /volumes/data/Y2018D12D17_RH_GADM36L01_EE_V01/input_V06 \n",
      "Input postGIS table : y2018m11d12_rh_gadm36_level1_to_rds_v01_v04 \n",
      "Output GCS:gs://aqueduct30_v01/Y2018D12D17_RH_GADM36L01_EE_V01\n"
     ]
    }
   ],
   "source": [
    "\"\"\" Ingest GADM level 1 data to earthengine. \n",
    "-------------------------------------------------------------------------------\n",
    "\n",
    "Hier gebleven. Gedoe met max vertices. Ofwel simplified version uploaded of\n",
    "rasterize. \n",
    "\n",
    "Author: Rutger Hofste\n",
    "Date: 20181217\n",
    "Kernel: python35\n",
    "Docker: rutgerhofste/gisdocker:ubuntu16.04\n",
    "\n",
    "Args:\n",
    "    TESTING (Boolean) : Toggle testing case.\n",
    "    SCRIPT_NAME (string) : Script name.\n",
    "    OUTPUT_VERSION (integer) : output version.\n",
    "    DATABASE_ENDPOINT (string) : RDS or postGreSQL endpoint.\n",
    "    DATABASE_NAME (string) : Database name.\n",
    "    TABLE_NAME_AREA_30SPFAF06 (string) : Table name used for areas. Must exist\n",
    "        on same database as used in rest of script.\n",
    "    S3_INPUT_PATH_RIVERDISCHARGE (string) : AWS S3 input path for \n",
    "        riverdischarge.    \n",
    "    S3_INPUT_PATH_DEMAND (string) : AWS S3 input path for \n",
    "        demand.     \n",
    "\n",
    "\"\"\"\n",
    "\n",
    "SCRIPT_NAME = \"Y2018D12D17_RH_GADM36L01_EE_V01\"\n",
    "OUTPUT_VERSION = 6\n",
    "\n",
    "# Database settings\n",
    "RDS_DATABASE_ENDPOINT = \"aqueduct30v05.cgpnumwmfcqc.eu-central-1.rds.amazonaws.com\"\n",
    "RDS_DATABASE_NAME = \"database01\"\n",
    "INPUT_TABLE_NAME = \"y2018m11d12_rh_gadm36_level1_to_rds_v01_v04\"\n",
    "\n",
    "GCS_OUTPUT_PATH = \"gs://aqueduct30_v01/{}\".format(SCRIPT_NAME)\n",
    "\n",
    "GDAL_RASTERIZE_PATH = \"/opt/anaconda3/envs/python35/bin/gdal_rasterize\"\n",
    "X_DIMENSION_30S = 43200\n",
    "Y_DIMENSION_30S = 21600\n",
    "\n",
    "ec2_input_path = \"/volumes/data/{}/input_V{:02.0f}\".format(SCRIPT_NAME,OUTPUT_VERSION)\n",
    "ec2_output_path = \"/volumes/data/{}/output_V{:02.0f}\".format(SCRIPT_NAME,OUTPUT_VERSION)\n",
    "\n",
    "print(\"\\nInput ec2: \" + ec2_input_path,\n",
    "      \"\\nInput postGIS table : \" + INPUT_TABLE_NAME,\n",
    "      \"\\nOutput GCS:\" + GCS_OUTPUT_PATH)"
   ]
  },
  {
   "cell_type": "code",
   "execution_count": 2,
   "metadata": {},
   "outputs": [
    {
     "name": "stdout",
     "output_type": "stream",
     "text": [
      "Y2019M01D07 UTC 14:23\n"
     ]
    },
    {
     "data": {
      "text/plain": [
       "'3.5.4 |Anaconda, Inc.| (default, Nov 20 2017, 18:44:38) \\n[GCC 7.2.0]'"
      ]
     },
     "execution_count": 2,
     "metadata": {},
     "output_type": "execute_result"
    }
   ],
   "source": [
    "import time, datetime, sys\n",
    "dateString = time.strftime(\"Y%YM%mD%d\")\n",
    "timeString = time.strftime(\"UTC %H:%M\")\n",
    "start = datetime.datetime.now()\n",
    "print(dateString,timeString)\n",
    "sys.version"
   ]
  },
  {
   "cell_type": "code",
   "execution_count": 3,
   "metadata": {},
   "outputs": [
    {
     "name": "stdout",
     "output_type": "stream",
     "text": [
      "rm: cannot remove '/volumes/data/Y2018D12D17_RH_GADM36L01_EE_V01/input_V06': No such file or directory\n",
      "rm: cannot remove '/volumes/data/Y2018D12D17_RH_GADM36L01_EE_V01/output_V06': No such file or directory\n"
     ]
    }
   ],
   "source": [
    "!rm -r {ec2_input_path}\n",
    "!rm -r {ec2_output_path}\n",
    "!mkdir -p {ec2_input_path}\n",
    "!mkdir -p {ec2_output_path}"
   ]
  },
  {
   "cell_type": "code",
   "execution_count": 4,
   "metadata": {
    "collapsed": true
   },
   "outputs": [],
   "source": [
    "import sqlalchemy\n",
    "import geopandas as gpd\n",
    "import aqueduct3\n",
    "import subprocess"
   ]
  },
  {
   "cell_type": "code",
   "execution_count": 5,
   "metadata": {
    "collapsed": true
   },
   "outputs": [],
   "source": [
    "F = open(\"/.password\",\"r\")\n",
    "password = F.read().splitlines()[0]\n",
    "F.close()\n",
    "\n",
    "engine = sqlalchemy.create_engine(\"postgresql://rutgerhofste:{}@{}:5432/{}\".format(password,RDS_DATABASE_ENDPOINT,RDS_DATABASE_NAME))\n",
    "connection = engine.connect()"
   ]
  },
  {
   "cell_type": "code",
   "execution_count": 6,
   "metadata": {
    "collapsed": true
   },
   "outputs": [],
   "source": [
    "q = \"\"\"\n",
    "SELECT\n",
    "    gid_1_id,\n",
    "    gid_0,\n",
    "    name_0,\n",
    "    gid_1,\n",
    "    name_1,\n",
    "    varname_1,\n",
    "    nl_name_1,\n",
    "    type_1,\n",
    "    engtype_1,\n",
    "    cc_1,\n",
    "    hasc_1,\n",
    "    ST_SimplifyPreserveTopology(geom,0.0001) as geom --approximately 11.11 meter at equator.\n",
    "FROM\n",
    "    {}\n",
    "ORDER BY\n",
    "    gid_1_id\n",
    "\"\"\".format(INPUT_TABLE_NAME)"
   ]
  },
  {
   "cell_type": "code",
   "execution_count": 7,
   "metadata": {
    "collapsed": true
   },
   "outputs": [],
   "source": [
    "gdf =gpd.GeoDataFrame.from_postgis(q,connection,geom_col='geom' )\n"
   ]
  },
  {
   "cell_type": "code",
   "execution_count": 8,
   "metadata": {
    "collapsed": true
   },
   "outputs": [],
   "source": [
    "gdf.sort_index(axis=1,inplace=True)"
   ]
  },
  {
   "cell_type": "code",
   "execution_count": 9,
   "metadata": {},
   "outputs": [
    {
     "data": {
      "text/html": [
       "<div>\n",
       "<style scoped>\n",
       "    .dataframe tbody tr th:only-of-type {\n",
       "        vertical-align: middle;\n",
       "    }\n",
       "\n",
       "    .dataframe tbody tr th {\n",
       "        vertical-align: top;\n",
       "    }\n",
       "\n",
       "    .dataframe thead th {\n",
       "        text-align: right;\n",
       "    }\n",
       "</style>\n",
       "<table border=\"1\" class=\"dataframe\">\n",
       "  <thead>\n",
       "    <tr style=\"text-align: right;\">\n",
       "      <th></th>\n",
       "      <th>cc_1</th>\n",
       "      <th>engtype_1</th>\n",
       "      <th>geom</th>\n",
       "      <th>gid_0</th>\n",
       "      <th>gid_1</th>\n",
       "      <th>gid_1_id</th>\n",
       "      <th>hasc_1</th>\n",
       "      <th>name_0</th>\n",
       "      <th>name_1</th>\n",
       "      <th>nl_name_1</th>\n",
       "      <th>type_1</th>\n",
       "      <th>varname_1</th>\n",
       "    </tr>\n",
       "  </thead>\n",
       "  <tbody>\n",
       "    <tr>\n",
       "      <th>0</th>\n",
       "      <td></td>\n",
       "      <td>Province</td>\n",
       "      <td>POLYGON ((71.14804076999999 36.00123596, 71.14...</td>\n",
       "      <td>AFG</td>\n",
       "      <td>AFG.1_1</td>\n",
       "      <td>0</td>\n",
       "      <td>AF.BD</td>\n",
       "      <td>Afghanistan</td>\n",
       "      <td>Badakhshan</td>\n",
       "      <td></td>\n",
       "      <td>Velayat</td>\n",
       "      <td>Badahšan</td>\n",
       "    </tr>\n",
       "    <tr>\n",
       "      <th>1</th>\n",
       "      <td></td>\n",
       "      <td>Province</td>\n",
       "      <td>POLYGON ((63.09733963 34.64551163, 63.08249664...</td>\n",
       "      <td>AFG</td>\n",
       "      <td>AFG.2_1</td>\n",
       "      <td>1</td>\n",
       "      <td>AF.BG</td>\n",
       "      <td>Afghanistan</td>\n",
       "      <td>Badghis</td>\n",
       "      <td></td>\n",
       "      <td>Velayat</td>\n",
       "      <td>Badghes|Badghisat|Badgis</td>\n",
       "    </tr>\n",
       "    <tr>\n",
       "      <th>2</th>\n",
       "      <td></td>\n",
       "      <td>Province</td>\n",
       "      <td>POLYGON ((67.35537720000001 34.88549423, 67.35...</td>\n",
       "      <td>AFG</td>\n",
       "      <td>AFG.3_1</td>\n",
       "      <td>2</td>\n",
       "      <td>AF.BL</td>\n",
       "      <td>Afghanistan</td>\n",
       "      <td>Baghlan</td>\n",
       "      <td></td>\n",
       "      <td>Velayat</td>\n",
       "      <td>Baglan|Bughlan</td>\n",
       "    </tr>\n",
       "    <tr>\n",
       "      <th>3</th>\n",
       "      <td></td>\n",
       "      <td>Province</td>\n",
       "      <td>POLYGON ((66.42346954 35.64056778, 66.44877624...</td>\n",
       "      <td>AFG</td>\n",
       "      <td>AFG.4_1</td>\n",
       "      <td>3</td>\n",
       "      <td>AF.BK</td>\n",
       "      <td>Afghanistan</td>\n",
       "      <td>Balkh</td>\n",
       "      <td></td>\n",
       "      <td>Velayat</td>\n",
       "      <td>Balh|Mazar-i-Sharif|Mazar</td>\n",
       "    </tr>\n",
       "    <tr>\n",
       "      <th>4</th>\n",
       "      <td></td>\n",
       "      <td>Province</td>\n",
       "      <td>POLYGON ((66.65278625000001 34.0032196, 66.658...</td>\n",
       "      <td>AFG</td>\n",
       "      <td>AFG.5_1</td>\n",
       "      <td>4</td>\n",
       "      <td>AF.BM</td>\n",
       "      <td>Afghanistan</td>\n",
       "      <td>Bamyan</td>\n",
       "      <td></td>\n",
       "      <td>Velayat</td>\n",
       "      <td></td>\n",
       "    </tr>\n",
       "  </tbody>\n",
       "</table>\n",
       "</div>"
      ],
      "text/plain": [
       "  cc_1 engtype_1                                               geom gid_0  \\\n",
       "0       Province  POLYGON ((71.14804076999999 36.00123596, 71.14...   AFG   \n",
       "1       Province  POLYGON ((63.09733963 34.64551163, 63.08249664...   AFG   \n",
       "2       Province  POLYGON ((67.35537720000001 34.88549423, 67.35...   AFG   \n",
       "3       Province  POLYGON ((66.42346954 35.64056778, 66.44877624...   AFG   \n",
       "4       Province  POLYGON ((66.65278625000001 34.0032196, 66.658...   AFG   \n",
       "\n",
       "     gid_1  gid_1_id hasc_1       name_0      name_1 nl_name_1   type_1  \\\n",
       "0  AFG.1_1         0  AF.BD  Afghanistan  Badakhshan            Velayat   \n",
       "1  AFG.2_1         1  AF.BG  Afghanistan     Badghis            Velayat   \n",
       "2  AFG.3_1         2  AF.BL  Afghanistan     Baghlan            Velayat   \n",
       "3  AFG.4_1         3  AF.BK  Afghanistan       Balkh            Velayat   \n",
       "4  AFG.5_1         4  AF.BM  Afghanistan      Bamyan            Velayat   \n",
       "\n",
       "                   varname_1  \n",
       "0                   Badahšan  \n",
       "1   Badghes|Badghisat|Badgis  \n",
       "2             Baglan|Bughlan  \n",
       "3  Balh|Mazar-i-Sharif|Mazar  \n",
       "4                             "
      ]
     },
     "execution_count": 9,
     "metadata": {},
     "output_type": "execute_result"
    }
   ],
   "source": [
    "gdf.head()"
   ]
  },
  {
   "cell_type": "code",
   "execution_count": 10,
   "metadata": {
    "collapsed": true
   },
   "outputs": [],
   "source": [
    "destination_path_shp = \"{}/{}.shp\".format(ec2_output_path,SCRIPT_NAME)"
   ]
  },
  {
   "cell_type": "code",
   "execution_count": 11,
   "metadata": {},
   "outputs": [
    {
     "data": {
      "text/plain": [
       "'/volumes/data/Y2018D12D17_RH_GADM36L01_EE_V01/output_V06/Y2018D12D17_RH_GADM36L01_EE_V01.shp'"
      ]
     },
     "execution_count": 11,
     "metadata": {},
     "output_type": "execute_result"
    }
   ],
   "source": [
    "destination_path_shp"
   ]
  },
  {
   "cell_type": "code",
   "execution_count": 12,
   "metadata": {
    "collapsed": true
   },
   "outputs": [],
   "source": [
    "gdf.to_file(filename=destination_path_shp,driver=\"ESRI Shapefile\")"
   ]
  },
  {
   "cell_type": "code",
   "execution_count": 13,
   "metadata": {},
   "outputs": [
    {
     "name": "stdout",
     "output_type": "stream",
     "text": [
      "Copying file:///volumes/data/Y2018D12D17_RH_GADM36L01_EE_V01/output_V06/Y2018D12D17_RH_GADM36L01_EE_V01.shx [Content-Type=application/x-qgis]...\n",
      "Copying file:///volumes/data/Y2018D12D17_RH_GADM36L01_EE_V01/output_V06/Y2018D12D17_RH_GADM36L01_EE_V01.dbf [Content-Type=application/octet-stream]...\n",
      "Copying file:///volumes/data/Y2018D12D17_RH_GADM36L01_EE_V01/output_V06/Y2018D12D17_RH_GADM36L01_EE_V01.shp [Content-Type=application/x-qgis]...\n",
      "Copying file:///volumes/data/Y2018D12D17_RH_GADM36L01_EE_V01/output_V06/Y2018D12D17_RH_GADM36L01_EE_V01.prj [Content-Type=application/octet-stream]...\n",
      "Copying file:///volumes/data/Y2018D12D17_RH_GADM36L01_EE_V01/output_V06/Y2018D12D17_RH_GADM36L01_EE_V01.cpg [Content-Type=application/octet-stream]...\n",
      "==> NOTE: You are uploading one or more large file(s), which would run          \n",
      "significantly faster if you enable parallel composite uploads. This\n",
      "feature can be enabled by editing the\n",
      "\"parallel_composite_upload_threshold\" value in your .boto\n",
      "configuration file. However, note that if you do this large files will\n",
      "be uploaded as `composite objects\n",
      "<https://cloud.google.com/storage/docs/composite-objects>`_,which\n",
      "means that any user who downloads such objects will need to have a\n",
      "compiled crcmod installed (see \"gsutil help crcmod\"). This is because\n",
      "without a compiled crcmod, computing checksums on composite objects is\n",
      "so slow that gsutil disables downloads of composite objects.\n",
      "\n",
      "\\ [5/5 files][375.0 MiB/375.0 MiB] 100% Done                                    \n",
      "Operation completed over 5 objects/375.0 MiB.                                    \n"
     ]
    }
   ],
   "source": [
    "!gsutil -m cp -r {ec2_output_path} {GCS_OUTPUT_PATH}"
   ]
  },
  {
   "cell_type": "code",
   "execution_count": 14,
   "metadata": {
    "collapsed": true
   },
   "outputs": [],
   "source": [
    "command = \"earthengine create folder projects/WRI-Aquaduct/{}\".format(SCRIPT_NAME)\n",
    "response = subprocess.check_output(command,shell=True)\n"
   ]
  },
  {
   "cell_type": "code",
   "execution_count": 15,
   "metadata": {
    "collapsed": true
   },
   "outputs": [],
   "source": [
    "command = \"earthengine create folder projects/WRI-Aquaduct/{}/output_V{:02.0f}\".format(SCRIPT_NAME,OUTPUT_VERSION)\n",
    "response = subprocess.check_output(command,shell=True)"
   ]
  },
  {
   "cell_type": "code",
   "execution_count": 18,
   "metadata": {
    "collapsed": true
   },
   "outputs": [],
   "source": [
    "source_path = \"{}/output_V{:02.0f}/{}.shp\".format(GCS_OUTPUT_PATH,OUTPUT_VERSION,SCRIPT_NAME)"
   ]
  },
  {
   "cell_type": "code",
   "execution_count": 19,
   "metadata": {},
   "outputs": [
    {
     "data": {
      "text/plain": [
       "'gs://aqueduct30_v01/Y2018D12D17_RH_GADM36L01_EE_V01/output_V06/Y2018D12D17_RH_GADM36L01_EE_V01.shp'"
      ]
     },
     "execution_count": 19,
     "metadata": {},
     "output_type": "execute_result"
    }
   ],
   "source": [
    "source_path"
   ]
  },
  {
   "cell_type": "code",
   "execution_count": 20,
   "metadata": {
    "collapsed": true
   },
   "outputs": [],
   "source": [
    "command = \"/opt/anaconda3/envs/python35/bin/earthengine upload table --asset_id='projects/WRI-Aquaduct/{}/output_V{:02.0f}/gadm36l01' '{}' --max_vertices=1000000\".format(SCRIPT_NAME,OUTPUT_VERSION,source_path)"
   ]
  },
  {
   "cell_type": "code",
   "execution_count": 21,
   "metadata": {
    "collapsed": true
   },
   "outputs": [],
   "source": [
    "response = subprocess.check_output(command,shell=True)"
   ]
  },
  {
   "cell_type": "code",
   "execution_count": 22,
   "metadata": {},
   "outputs": [
    {
     "data": {
      "text/plain": [
       "\"/opt/anaconda3/envs/python35/bin/earthengine upload table --asset_id='projects/WRI-Aquaduct/Y2018D12D17_RH_GADM36L01_EE_V01/output_V06/gadm36l01' 'gs://aqueduct30_v01/Y2018D12D17_RH_GADM36L01_EE_V01/output_V06/Y2018D12D17_RH_GADM36L01_EE_V01.shp' --max_vertices=1000000\""
      ]
     },
     "execution_count": 22,
     "metadata": {},
     "output_type": "execute_result"
    }
   ],
   "source": [
    "command"
   ]
  },
  {
   "cell_type": "code",
   "execution_count": 23,
   "metadata": {
    "collapsed": true
   },
   "outputs": [],
   "source": [
    "# rasterize at 30s resolution"
   ]
  },
  {
   "cell_type": "code",
   "execution_count": 24,
   "metadata": {
    "collapsed": true
   },
   "outputs": [],
   "source": [
    "#destination_path_tif = \"{}/{}.tif\".format(ec2_output_path,SCRIPT_NAME)"
   ]
  },
  {
   "cell_type": "code",
   "execution_count": 25,
   "metadata": {},
   "outputs": [
    {
     "data": {
      "text/plain": [
       "'\\nfield = \"gadm01id\"\\nx_dimension = X_DIMENSION_30S\\ny_dimension = Y_DIMENSION_30S\\nlayer_name = SCRIPT_NAME\\ninput_path = destination_path_shp\\noutput_path = destination_path_tif\\n'"
      ]
     },
     "execution_count": 25,
     "metadata": {},
     "output_type": "execute_result"
    }
   ],
   "source": [
    "\"\"\"\n",
    "field = \"gadm01id\"\n",
    "x_dimension = X_DIMENSION_30S\n",
    "y_dimension = Y_DIMENSION_30S\n",
    "layer_name = SCRIPT_NAME\n",
    "input_path = destination_path_shp\n",
    "output_path = destination_path_tif\n",
    "\"\"\""
   ]
  },
  {
   "cell_type": "code",
   "execution_count": 26,
   "metadata": {
    "collapsed": true
   },
   "outputs": [],
   "source": [
    "#command = \"{} -a {} -ot Integer64 -of GTiff -te -180 -90 180 90 -ts {} {} -co COMPRESS=DEFLATE -co PREDICTOR=1 -co ZLEVEL=6 -l {} -a_nodata -9999 {} {}\".format(GDAL_RASTERIZE_PATH,field,x_dimension,y_dimension,layer_name,input_path,output_path)\n"
   ]
  },
  {
   "cell_type": "code",
   "execution_count": 27,
   "metadata": {},
   "outputs": [
    {
     "name": "stdout",
     "output_type": "stream",
     "text": [
      "0:15:53.357004\n"
     ]
    }
   ],
   "source": [
    "end = datetime.datetime.now()\n",
    "elapsed = end - start\n",
    "print(elapsed)"
   ]
  },
  {
   "cell_type": "markdown",
   "metadata": {},
   "source": [
    "Previous runs:   \n",
    "0:06:44.576493\n"
   ]
  },
  {
   "cell_type": "code",
   "execution_count": null,
   "metadata": {
    "collapsed": true
   },
   "outputs": [],
   "source": []
  }
 ],
 "metadata": {
  "kernelspec": {
   "display_name": "Python 35",
   "language": "python",
   "name": "python35"
  },
  "language_info": {
   "codemirror_mode": {
    "name": "ipython",
    "version": 3
   },
   "file_extension": ".py",
   "mimetype": "text/x-python",
   "name": "python",
   "nbconvert_exporter": "python",
   "pygments_lexer": "ipython3",
   "version": "3.5.4"
  }
 },
 "nbformat": 4,
 "nbformat_minor": 2
}
