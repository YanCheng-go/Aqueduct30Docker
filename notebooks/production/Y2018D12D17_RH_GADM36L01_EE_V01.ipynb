{
 "cells": [
  {
   "cell_type": "code",
   "execution_count": 1,
   "metadata": {},
   "outputs": [
    {
     "name": "stdout",
     "output_type": "stream",
     "text": [
      "\n",
      "Input ec2: /volumes/data/Y2018D12D17_RH_GADM36L01_EE_V01/input_V02 \n",
      "Input postGIS table : y2018m11d12_rh_gadm36_level1_to_rds_v01_v02 \n",
      "Output GCS:gs://aqueduct30_v01/Y2018D12D17_RH_GADM36L01_EE_V01\n"
     ]
    }
   ],
   "source": [
    "\"\"\" Ingest GADM level 1 data to earthengine. \n",
    "-------------------------------------------------------------------------------\n",
    "\n",
    "Author: Rutger Hofste\n",
    "Date: 20181217\n",
    "Kernel: python35\n",
    "Docker: rutgerhofste/gisdocker:ubuntu16.04\n",
    "\n",
    "Args:\n",
    "    TESTING (Boolean) : Toggle testing case.\n",
    "    SCRIPT_NAME (string) : Script name.\n",
    "    OUTPUT_VERSION (integer) : output version.\n",
    "    DATABASE_ENDPOINT (string) : RDS or postGreSQL endpoint.\n",
    "    DATABASE_NAME (string) : Database name.\n",
    "    TABLE_NAME_AREA_30SPFAF06 (string) : Table name used for areas. Must exist\n",
    "        on same database as used in rest of script.\n",
    "    S3_INPUT_PATH_RIVERDISCHARGE (string) : AWS S3 input path for \n",
    "        riverdischarge.    \n",
    "    S3_INPUT_PATH_DEMAND (string) : AWS S3 input path for \n",
    "        demand.     \n",
    "\n",
    "\"\"\"\n",
    "\n",
    "SCRIPT_NAME = \"Y2018D12D17_RH_GADM36L01_EE_V01\"\n",
    "OUTPUT_VERSION = 2\n",
    "\n",
    "# Database settings\n",
    "RDS_DATABASE_ENDPOINT = \"aqueduct30v05.cgpnumwmfcqc.eu-central-1.rds.amazonaws.com\"\n",
    "RDS_DATABASE_NAME = \"database01\"\n",
    "INPUT_TABLE_NAME = \"y2018m11d12_rh_gadm36_level1_to_rds_v01_v02\"\n",
    "\n",
    "GCS_OUTPUT_PATH = \"gs://aqueduct30_v01/{}\".format(SCRIPT_NAME)\n",
    "\n",
    "ec2_input_path = \"/volumes/data/{}/input_V{:02.0f}\".format(SCRIPT_NAME,OUTPUT_VERSION)\n",
    "ec2_output_path = \"/volumes/data/{}/output_V{:02.0f}\".format(SCRIPT_NAME,OUTPUT_VERSION)\n",
    "\n",
    "print(\"\\nInput ec2: \" + ec2_input_path,\n",
    "      \"\\nInput postGIS table : \" + INPUT_TABLE_NAME,\n",
    "      \"\\nOutput GCS:\" + GCS_OUTPUT_PATH)"
   ]
  },
  {
   "cell_type": "code",
   "execution_count": 2,
   "metadata": {},
   "outputs": [
    {
     "name": "stdout",
     "output_type": "stream",
     "text": [
      "Y2018M12D17 UTC 23:37\n"
     ]
    },
    {
     "data": {
      "text/plain": [
       "'3.5.4 |Anaconda, Inc.| (default, Nov 20 2017, 18:44:38) \\n[GCC 7.2.0]'"
      ]
     },
     "execution_count": 2,
     "metadata": {},
     "output_type": "execute_result"
    }
   ],
   "source": [
    "import time, datetime, sys\n",
    "dateString = time.strftime(\"Y%YM%mD%d\")\n",
    "timeString = time.strftime(\"UTC %H:%M\")\n",
    "start = datetime.datetime.now()\n",
    "print(dateString,timeString)\n",
    "sys.version"
   ]
  },
  {
   "cell_type": "code",
   "execution_count": 3,
   "metadata": {},
   "outputs": [],
   "source": [
    "!rm -r {ec2_input_path}\n",
    "!rm -r {ec2_output_path}\n",
    "!mkdir -p {ec2_input_path}\n",
    "!mkdir -p {ec2_output_path}"
   ]
  },
  {
   "cell_type": "code",
   "execution_count": 4,
   "metadata": {
    "collapsed": true
   },
   "outputs": [],
   "source": [
    "import sqlalchemy\n",
    "import geopandas as gpd\n",
    "import aqueduct3\n",
    "import subprocess"
   ]
  },
  {
   "cell_type": "code",
   "execution_count": 5,
   "metadata": {
    "collapsed": true
   },
   "outputs": [],
   "source": [
    "F = open(\"/.password\",\"r\")\n",
    "password = F.read().splitlines()[0]\n",
    "F.close()\n",
    "\n",
    "engine = sqlalchemy.create_engine(\"postgresql://rutgerhofste:{}@{}:5432/{}\".format(password,RDS_DATABASE_ENDPOINT,RDS_DATABASE_NAME))\n",
    "connection = engine.connect()"
   ]
  },
  {
   "cell_type": "code",
   "execution_count": 6,
   "metadata": {
    "collapsed": true
   },
   "outputs": [],
   "source": [
    "q = \"\"\"\n",
    "SELECT\n",
    "    gid_0,\n",
    "    name_0,\n",
    "    gid_1,\n",
    "    name_1,\n",
    "    varname_1,\n",
    "    nl_name_1,\n",
    "    type_1,\n",
    "    engtype_1,\n",
    "    cc_1,\n",
    "    hasc_1,\n",
    "    ST_SimplifyPreserveTopology(geom,0.0001) as geom --approximately 11.11 meter at equator.\n",
    "FROM\n",
    "    {}\n",
    "\"\"\".format(INPUT_TABLE_NAME)"
   ]
  },
  {
   "cell_type": "code",
   "execution_count": 7,
   "metadata": {},
   "outputs": [],
   "source": [
    "gdf =gpd.GeoDataFrame.from_postgis(q,connection,geom_col='geom' )\n"
   ]
  },
  {
   "cell_type": "code",
   "execution_count": 8,
   "metadata": {},
   "outputs": [
    {
     "data": {
      "text/html": [
       "<div>\n",
       "<style scoped>\n",
       "    .dataframe tbody tr th:only-of-type {\n",
       "        vertical-align: middle;\n",
       "    }\n",
       "\n",
       "    .dataframe tbody tr th {\n",
       "        vertical-align: top;\n",
       "    }\n",
       "\n",
       "    .dataframe thead th {\n",
       "        text-align: right;\n",
       "    }\n",
       "</style>\n",
       "<table border=\"1\" class=\"dataframe\">\n",
       "  <thead>\n",
       "    <tr style=\"text-align: right;\">\n",
       "      <th></th>\n",
       "      <th>gid_0</th>\n",
       "      <th>name_0</th>\n",
       "      <th>gid_1</th>\n",
       "      <th>name_1</th>\n",
       "      <th>varname_1</th>\n",
       "      <th>nl_name_1</th>\n",
       "      <th>type_1</th>\n",
       "      <th>engtype_1</th>\n",
       "      <th>cc_1</th>\n",
       "      <th>hasc_1</th>\n",
       "      <th>geom</th>\n",
       "    </tr>\n",
       "  </thead>\n",
       "  <tbody>\n",
       "    <tr>\n",
       "      <th>0</th>\n",
       "      <td>AFG</td>\n",
       "      <td>Afghanistan</td>\n",
       "      <td>AFG.10_1</td>\n",
       "      <td>Ghor</td>\n",
       "      <td>Gawr|Ghore|Ghour|Ghur</td>\n",
       "      <td></td>\n",
       "      <td>Velayat</td>\n",
       "      <td>Province</td>\n",
       "      <td></td>\n",
       "      <td>AF.GR</td>\n",
       "      <td>POLYGON ((64.52828217 33.32641602, 64.50589752...</td>\n",
       "    </tr>\n",
       "    <tr>\n",
       "      <th>1</th>\n",
       "      <td>AFG</td>\n",
       "      <td>Afghanistan</td>\n",
       "      <td>AFG.1_1</td>\n",
       "      <td>Badakhshan</td>\n",
       "      <td>Badahšan</td>\n",
       "      <td></td>\n",
       "      <td>Velayat</td>\n",
       "      <td>Province</td>\n",
       "      <td></td>\n",
       "      <td>AF.BD</td>\n",
       "      <td>POLYGON ((71.14804076999999 36.00123596, 71.14...</td>\n",
       "    </tr>\n",
       "    <tr>\n",
       "      <th>2</th>\n",
       "      <td>AFG</td>\n",
       "      <td>Afghanistan</td>\n",
       "      <td>AFG.11_1</td>\n",
       "      <td>Hilmand</td>\n",
       "      <td>Girishk|Hilmend</td>\n",
       "      <td></td>\n",
       "      <td>Velayat</td>\n",
       "      <td>Province</td>\n",
       "      <td></td>\n",
       "      <td>AF.HM</td>\n",
       "      <td>POLYGON ((63.6648941 29.4764061, 63.66107941 2...</td>\n",
       "    </tr>\n",
       "    <tr>\n",
       "      <th>3</th>\n",
       "      <td>AFG</td>\n",
       "      <td>Afghanistan</td>\n",
       "      <td>AFG.12_1</td>\n",
       "      <td>Hirat</td>\n",
       "      <td></td>\n",
       "      <td></td>\n",
       "      <td>Velayat</td>\n",
       "      <td>Province</td>\n",
       "      <td></td>\n",
       "      <td>AF.HR</td>\n",
       "      <td>POLYGON ((62.26362991 32.84782028, 62.2033577 ...</td>\n",
       "    </tr>\n",
       "    <tr>\n",
       "      <th>4</th>\n",
       "      <td>AFG</td>\n",
       "      <td>Afghanistan</td>\n",
       "      <td>AFG.15_1</td>\n",
       "      <td>Kandahar</td>\n",
       "      <td>Qandahar</td>\n",
       "      <td></td>\n",
       "      <td>Velayat</td>\n",
       "      <td>Province</td>\n",
       "      <td></td>\n",
       "      <td>AF.KD</td>\n",
       "      <td>POLYGON ((66.19773102000001 31.86677933, 66.19...</td>\n",
       "    </tr>\n",
       "  </tbody>\n",
       "</table>\n",
       "</div>"
      ],
      "text/plain": [
       "  gid_0       name_0     gid_1      name_1              varname_1 nl_name_1  \\\n",
       "0   AFG  Afghanistan  AFG.10_1        Ghor  Gawr|Ghore|Ghour|Ghur             \n",
       "1   AFG  Afghanistan   AFG.1_1  Badakhshan               Badahšan             \n",
       "2   AFG  Afghanistan  AFG.11_1     Hilmand        Girishk|Hilmend             \n",
       "3   AFG  Afghanistan  AFG.12_1       Hirat                                    \n",
       "4   AFG  Afghanistan  AFG.15_1    Kandahar               Qandahar             \n",
       "\n",
       "    type_1 engtype_1 cc_1 hasc_1  \\\n",
       "0  Velayat  Province       AF.GR   \n",
       "1  Velayat  Province       AF.BD   \n",
       "2  Velayat  Province       AF.HM   \n",
       "3  Velayat  Province       AF.HR   \n",
       "4  Velayat  Province       AF.KD   \n",
       "\n",
       "                                                geom  \n",
       "0  POLYGON ((64.52828217 33.32641602, 64.50589752...  \n",
       "1  POLYGON ((71.14804076999999 36.00123596, 71.14...  \n",
       "2  POLYGON ((63.6648941 29.4764061, 63.66107941 2...  \n",
       "3  POLYGON ((62.26362991 32.84782028, 62.2033577 ...  \n",
       "4  POLYGON ((66.19773102000001 31.86677933, 66.19...  "
      ]
     },
     "execution_count": 8,
     "metadata": {},
     "output_type": "execute_result"
    }
   ],
   "source": [
    "gdf.head()"
   ]
  },
  {
   "cell_type": "code",
   "execution_count": 9,
   "metadata": {
    "collapsed": true
   },
   "outputs": [],
   "source": [
    "destination_path = \"{}/{}.shp\".format(ec2_output_path,SCRIPT_NAME)"
   ]
  },
  {
   "cell_type": "code",
   "execution_count": 10,
   "metadata": {},
   "outputs": [],
   "source": [
    "gdf.to_file(filename=destination_path,driver=\"ESRI Shapefile\")"
   ]
  },
  {
   "cell_type": "code",
   "execution_count": 11,
   "metadata": {},
   "outputs": [
    {
     "name": "stdout",
     "output_type": "stream",
     "text": [
      "Copying file:///volumes/data/Y2018D12D17_RH_GADM36L01_EE_V01/output_V02/Y2018D12D17_RH_GADM36L01_EE_V01.shx [Content-Type=application/x-qgis]...\n",
      "Copying file:///volumes/data/Y2018D12D17_RH_GADM36L01_EE_V01/output_V02/Y2018D12D17_RH_GADM36L01_EE_V01.dbf [Content-Type=application/octet-stream]...\n",
      "Copying file:///volumes/data/Y2018D12D17_RH_GADM36L01_EE_V01/output_V02/Y2018D12D17_RH_GADM36L01_EE_V01.shp [Content-Type=application/x-qgis]...\n",
      "Copying file:///volumes/data/Y2018D12D17_RH_GADM36L01_EE_V01/output_V02/Y2018D12D17_RH_GADM36L01_EE_V01.prj [Content-Type=application/octet-stream]...\n",
      "Copying file:///volumes/data/Y2018D12D17_RH_GADM36L01_EE_V01/output_V02/Y2018D12D17_RH_GADM36L01_EE_V01.cpg [Content-Type=application/octet-stream]...\n",
      "==> NOTE: You are uploading one or more large file(s), which would run\n",
      "significantly faster if you enable parallel composite uploads. This\n",
      "feature can be enabled by editing the\n",
      "\"parallel_composite_upload_threshold\" value in your .boto\n",
      "configuration file. However, note that if you do this large files will\n",
      "be uploaded as `composite objects\n",
      "<https://cloud.google.com/storage/docs/composite-objects>`_,which\n",
      "means that any user who downloads such objects will need to have a\n",
      "compiled crcmod installed (see \"gsutil help crcmod\"). This is because\n",
      "without a compiled crcmod, computing checksums on composite objects is\n",
      "so slow that gsutil disables downloads of composite objects.\n",
      "\n",
      "/ [5/5 files][375.0 MiB/375.0 MiB] 100% Done                                    \n",
      "Operation completed over 5 objects/375.0 MiB.                                    \n"
     ]
    }
   ],
   "source": [
    "!gsutil -m cp -r {ec2_output_path} {GCS_OUTPUT_PATH}"
   ]
  },
  {
   "cell_type": "code",
   "execution_count": 12,
   "metadata": {
    "collapsed": true
   },
   "outputs": [],
   "source": [
    "command = \"earthengine create folder projects/WRI-Aquaduct/{}\".format(SCRIPT_NAME)\n",
    "response = subprocess.check_output(command,shell=True)\n"
   ]
  },
  {
   "cell_type": "code",
   "execution_count": 13,
   "metadata": {
    "collapsed": true
   },
   "outputs": [],
   "source": [
    "command = \"earthengine create folder projects/WRI-Aquaduct/{}/output_V{:02.0f}\".format(SCRIPT_NAME,OUTPUT_VERSION)\n",
    "response = subprocess.check_output(command,shell=True)"
   ]
  },
  {
   "cell_type": "code",
   "execution_count": 14,
   "metadata": {},
   "outputs": [],
   "source": [
    "source_path = \"{}/{}.shp\".format(GCS_OUTPUT_PATH,SCRIPT_NAME)"
   ]
  },
  {
   "cell_type": "code",
   "execution_count": 15,
   "metadata": {},
   "outputs": [
    {
     "data": {
      "text/plain": [
       "'gs://aqueduct30_v01/Y2018D12D17_RH_GADM36L01_EE_V01/Y2018D12D17_RH_GADM36L01_EE_V01.shp'"
      ]
     },
     "execution_count": 15,
     "metadata": {},
     "output_type": "execute_result"
    }
   ],
   "source": [
    "source_path"
   ]
  },
  {
   "cell_type": "code",
   "execution_count": 16,
   "metadata": {},
   "outputs": [],
   "source": [
    "command = \"earthengine upload table --asset_id=projects/WRI-Aquaduct/{}/output_V{:02.0f}/gadm36l01 {}\".format(SCRIPT_NAME,OUTPUT_VERSION,source_path)\n",
    "response = subprocess.check_output(command,shell=True)"
   ]
  },
  {
   "cell_type": "code",
   "execution_count": 17,
   "metadata": {},
   "outputs": [
    {
     "name": "stdout",
     "output_type": "stream",
     "text": [
      "0:06:44.010299\n"
     ]
    }
   ],
   "source": [
    "end = datetime.datetime.now()\n",
    "elapsed = end - start\n",
    "print(elapsed)"
   ]
  }
 ],
 "metadata": {
  "kernelspec": {
   "display_name": "Python 35",
   "language": "python",
   "name": "python35"
  },
  "language_info": {
   "codemirror_mode": {
    "name": "ipython",
    "version": 3
   },
   "file_extension": ".py",
   "mimetype": "text/x-python",
   "name": "python",
   "nbconvert_exporter": "python",
   "pygments_lexer": "ipython3",
   "version": "3.5.4"
  }
 },
 "nbformat": 4,
 "nbformat_minor": 2
}
