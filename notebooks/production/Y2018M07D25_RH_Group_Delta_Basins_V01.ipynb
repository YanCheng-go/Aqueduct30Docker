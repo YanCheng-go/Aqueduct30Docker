{
 "cells": [
  {
   "cell_type": "code",
   "execution_count": 1,
   "metadata": {},
   "outputs": [
    {
     "name": "stdout",
     "output_type": "stream",
     "text": [
      "Input Table:  y2018m07d25_rh_join_deltas_values_v01_v01 \n",
      "Output Table:  y2018m07d25_rh_group_delta_basins_v01_v01\n"
     ]
    }
   ],
   "source": [
    "\"\"\" Group Delta basins and calculate supple and demand. \n",
    "-------------------------------------------------------------------------------\n",
    "\n",
    "This script will calculate new fluxes for demand and supply per delta region.\n",
    "\n",
    "1) convert fluxes to volumes\n",
    "2) take the sum of all volumes\n",
    "3) divide by sum of all areas.\n",
    "\n",
    "probably using cte's.\n",
    "\n",
    "\n",
    "Author: Rutger Hofste\n",
    "Date: 20180725\n",
    "Kernel: python35\n",
    "Docker: rutgerhofste/gisdocker:ubuntu16.04\n",
    "\n",
    "Args:\n",
    "    TESTING (Boolean) : Toggle testing case.\n",
    "    SCRIPT_NAME (string) : Script name.\n",
    "    OUTPUT_VERSION (integer) : output version.\n",
    "    DATABASE_ENDPOINT (string) : RDS or postGreSQL endpoint.\n",
    "    DATABASE_NAME (string) : Database name.\n",
    "    TABLE_NAME_AREA_30SPFAF06 (string) : Table name used for areas. Must exist\n",
    "        on same database as used in rest of script.\n",
    "    S3_INPUT_PATH_RIVERDISCHARGE (string) : AWS S3 input path for \n",
    "        riverdischarge.    \n",
    "    S3_INPUT_PATH_DEMAND (string) : AWS S3 input path for \n",
    "        demand.     \n",
    "\n",
    "\"\"\"\n",
    "\n",
    "TESTING = 0\n",
    "OVERWRITE_OUTPUT = 1\n",
    "SCRIPT_NAME = \"Y2018M07D25_RH_Group_Delta_Basins_V01\"\n",
    "OUTPUT_VERSION = 1\n",
    "\n",
    "DATABASE_ENDPOINT = \"aqueduct30v05.cgpnumwmfcqc.eu-central-1.rds.amazonaws.com\"\n",
    "DATABASE_NAME = \"database01\"\n",
    "INPUT_TABLE_NAME = \"y2018m07d25_rh_join_deltas_values_v01_v01\"\n",
    "OUTPUT_TABLE_NAME = SCRIPT_NAME.lower() + \"_v{:02.0f}\".format(OUTPUT_VERSION)\n",
    "\n",
    "print(\"Input Table: \" , INPUT_TABLE_NAME, \n",
    "      \"\\nOutput Table: \" , OUTPUT_TABLE_NAME)\n"
   ]
  },
  {
   "cell_type": "code",
   "execution_count": 2,
   "metadata": {},
   "outputs": [
    {
     "name": "stdout",
     "output_type": "stream",
     "text": [
      "Y2018M07D26 UTC 13:13\n"
     ]
    },
    {
     "data": {
      "text/plain": [
       "'3.5.4 |Anaconda, Inc.| (default, Nov 20 2017, 18:44:38) \\n[GCC 7.2.0]'"
      ]
     },
     "execution_count": 2,
     "metadata": {},
     "output_type": "execute_result"
    }
   ],
   "source": [
    "import time, datetime, sys\n",
    "dateString = time.strftime(\"Y%YM%mD%d\")\n",
    "timeString = time.strftime(\"UTC %H:%M\")\n",
    "start = datetime.datetime.now()\n",
    "print(dateString,timeString)\n",
    "sys.version"
   ]
  },
  {
   "cell_type": "code",
   "execution_count": 3,
   "metadata": {
    "collapsed": true
   },
   "outputs": [],
   "source": [
    "# imports\n",
    "import re\n",
    "import os\n",
    "import numpy as np\n",
    "import pandas as pd\n",
    "import aqueduct3\n",
    "from datetime import timedelta\n",
    "from sqlalchemy import *\n",
    "pd.set_option('display.max_columns', 500)"
   ]
  },
  {
   "cell_type": "code",
   "execution_count": 4,
   "metadata": {
    "collapsed": true
   },
   "outputs": [],
   "source": [
    "F = open(\"/.password\",\"r\")\n",
    "password = F.read().splitlines()[0]\n",
    "F.close()\n",
    "\n",
    "engine = create_engine(\"postgresql://rutgerhofste:{}@{}:5432/{}\".format(password,DATABASE_ENDPOINT,DATABASE_NAME))\n",
    "connection = engine.connect()\n",
    "\n",
    "if OVERWRITE_OUTPUT:\n",
    "    sql = text(\"DROP TABLE IF EXISTS {};\".format(OUTPUT_TABLE_NAME))\n",
    "    result = engine.execute(sql)\n"
   ]
  },
  {
   "cell_type": "code",
   "execution_count": 5,
   "metadata": {
    "collapsed": true
   },
   "outputs": [],
   "source": [
    "# Convert fluxes to volumes"
   ]
  },
  {
   "cell_type": "code",
   "execution_count": 6,
   "metadata": {
    "collapsed": true
   },
   "outputs": [],
   "source": [
    "columns_to_keep = [\"pfafid_30spfaf06\",\n",
    "                   \"temporal_resolution\",\n",
    "                   \"year\",\n",
    "                   \"month\",\n",
    "                   \"area_m2_30spfaf06\",\n",
    "                   \"area_count_30spfaf06\",\n",
    "                   \"delta_id\"]"
   ]
  },
  {
   "cell_type": "code",
   "execution_count": null,
   "metadata": {
    "collapsed": true
   },
   "outputs": [],
   "source": []
  },
  {
   "cell_type": "code",
   "execution_count": 7,
   "metadata": {
    "collapsed": true
   },
   "outputs": [],
   "source": [
    "sectors = [\"pdom\",\n",
    "           \"pind\",\n",
    "           \"pirr\",\n",
    "           \"pliv\"]\n",
    "use_types = [\"ww\",\"wn\"]"
   ]
  },
  {
   "cell_type": "code",
   "execution_count": 8,
   "metadata": {
    "collapsed": true
   },
   "outputs": [],
   "source": [
    "sql = \"CREATE TABLE {} AS\".format(OUTPUT_TABLE_NAME)\n",
    "sql += \" WITH cte AS (\"\n",
    "sql += \" SELECT\"\n",
    "for column_to_keep in columns_to_keep:\n",
    "    sql += \" {},\".format(column_to_keep)\n",
    "for sector in sectors:\n",
    "    for use_type in use_types:\n",
    "        sql += \" area_m2_30spfaf06 * {}{}_m_30spfaf06 AS {}{}_m3_30spfaf06 ,\".format(sector,use_type,sector,use_type)\n",
    "        \n",
    "sql += \" area_m2_30spfaf06 * {}_m_30spfaf06 AS {}_m3_30spfaf06 ,\".format(\"riverdischarge\",\"riverdischarge\")        \n",
    "sql = sql[:-1]\n",
    "\n",
    "sql += \" FROM {}\".format(INPUT_TABLE_NAME)\n",
    "sql += \" )\"\n",
    "sql += \" SELECT \"\n",
    "sql += \" delta_id,\"\n",
    "sql += \" temporal_resolution,\"\n",
    "sql += \" year,\"\n",
    "sql += \" month,\"\n",
    "\n",
    "sql += \" SUM(area_m2_30spfaf06) AS area_m2_30spfaf06,\"\n",
    "sql += \" SUM(area_count_30spfaf06) AS area_count_30spfaf06,\"\n",
    "\n",
    "\n",
    "for sector in sectors:\n",
    "    for use_type in use_types:\n",
    "        sql += \" SUM({}{}_m3_30spfaf06) / SUM(area_m2_30spfaf06) AS {}{}_m_30spfaf06,\".format(sector,use_type,sector,use_type)\n",
    "\n",
    "sql += \" SUM({}_m3_30spfaf06) / SUM(area_m2_30spfaf06) AS {}_m_30spfaf06,\".format(\"riverdischarge\",\"riverdischarge\")\n",
    "sql = sql[:-1]\n",
    "\n",
    "\n",
    "\n",
    "sql += \" FROM cte\"\n",
    "sql += \" GROUP BY delta_id, temporal_resolution, year, month\""
   ]
  },
  {
   "cell_type": "code",
   "execution_count": 9,
   "metadata": {},
   "outputs": [
    {
     "data": {
      "text/plain": [
       "'CREATE TABLE y2018m07d25_rh_group_delta_basins_v01_v01 AS WITH cte AS ( SELECT pfafid_30spfaf06, temporal_resolution, year, month, area_m2_30spfaf06, area_count_30spfaf06, delta_id, area_m2_30spfaf06 * pdomww_m_30spfaf06 AS pdomww_m3_30spfaf06 , area_m2_30spfaf06 * pdomwn_m_30spfaf06 AS pdomwn_m3_30spfaf06 , area_m2_30spfaf06 * pindww_m_30spfaf06 AS pindww_m3_30spfaf06 , area_m2_30spfaf06 * pindwn_m_30spfaf06 AS pindwn_m3_30spfaf06 , area_m2_30spfaf06 * pirrww_m_30spfaf06 AS pirrww_m3_30spfaf06 , area_m2_30spfaf06 * pirrwn_m_30spfaf06 AS pirrwn_m3_30spfaf06 , area_m2_30spfaf06 * plivww_m_30spfaf06 AS plivww_m3_30spfaf06 , area_m2_30spfaf06 * plivwn_m_30spfaf06 AS plivwn_m3_30spfaf06 , area_m2_30spfaf06 * riverdischarge_m_30spfaf06 AS riverdischarge_m3_30spfaf06  FROM y2018m07d25_rh_join_deltas_values_v01_v01 ) SELECT  delta_id, temporal_resolution, year, month, SUM(area_m2_30spfaf06) AS area_m2_30spfaf06, SUM(area_count_30spfaf06) AS area_count_30spfaf06, SUM(pdomww_m3_30spfaf06) / SUM(area_m2_30spfaf06) AS pdomww_m_30spfaf06, SUM(pdomwn_m3_30spfaf06) / SUM(area_m2_30spfaf06) AS pdomwn_m_30spfaf06, SUM(pindww_m3_30spfaf06) / SUM(area_m2_30spfaf06) AS pindww_m_30spfaf06, SUM(pindwn_m3_30spfaf06) / SUM(area_m2_30spfaf06) AS pindwn_m_30spfaf06, SUM(pirrww_m3_30spfaf06) / SUM(area_m2_30spfaf06) AS pirrww_m_30spfaf06, SUM(pirrwn_m3_30spfaf06) / SUM(area_m2_30spfaf06) AS pirrwn_m_30spfaf06, SUM(plivww_m3_30spfaf06) / SUM(area_m2_30spfaf06) AS plivww_m_30spfaf06, SUM(plivwn_m3_30spfaf06) / SUM(area_m2_30spfaf06) AS plivwn_m_30spfaf06, SUM(riverdischarge_m3_30spfaf06) / SUM(area_m2_30spfaf06) AS riverdischarge_m_30spfaf06 FROM cte GROUP BY delta_id, temporal_resolution, year, month'"
      ]
     },
     "execution_count": 9,
     "metadata": {},
     "output_type": "execute_result"
    }
   ],
   "source": [
    "sql"
   ]
  },
  {
   "cell_type": "code",
   "execution_count": 10,
   "metadata": {
    "collapsed": true
   },
   "outputs": [],
   "source": [
    "result = engine.execute(sql)"
   ]
  },
  {
   "cell_type": "code",
   "execution_count": 11,
   "metadata": {
    "collapsed": true
   },
   "outputs": [],
   "source": [
    "sql_index = \"CREATE INDEX {}delta_id ON {} ({})\".format(OUTPUT_TABLE_NAME,OUTPUT_TABLE_NAME,\"delta_id\")"
   ]
  },
  {
   "cell_type": "code",
   "execution_count": 12,
   "metadata": {
    "collapsed": true
   },
   "outputs": [],
   "source": [
    "result = engine.execute(sql_index)"
   ]
  },
  {
   "cell_type": "code",
   "execution_count": 13,
   "metadata": {
    "collapsed": true
   },
   "outputs": [],
   "source": [
    "engine.dispose()"
   ]
  },
  {
   "cell_type": "code",
   "execution_count": 14,
   "metadata": {},
   "outputs": [
    {
     "name": "stdout",
     "output_type": "stream",
     "text": [
      "0:00:02.096923\n"
     ]
    }
   ],
   "source": [
    "end = datetime.datetime.now()\n",
    "elapsed = end - start\n",
    "print(elapsed)"
   ]
  }
 ],
 "metadata": {
  "kernelspec": {
   "display_name": "Python 35",
   "language": "python",
   "name": "python35"
  },
  "language_info": {
   "codemirror_mode": {
    "name": "ipython",
    "version": 3
   },
   "file_extension": ".py",
   "mimetype": "text/x-python",
   "name": "python",
   "nbconvert_exporter": "python",
   "pygments_lexer": "ipython3",
   "version": "3.5.4"
  }
 },
 "nbformat": 4,
 "nbformat_minor": 2
}
