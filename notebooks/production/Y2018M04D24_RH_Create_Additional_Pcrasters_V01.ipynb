{
 "cells": [
  {
   "cell_type": "code",
   "execution_count": 1,
   "metadata": {},
   "outputs": [
    {
     "name": "stdout",
     "output_type": "stream",
     "text": [
      "Input s3: s3://wri-projects/Aqueduct30/processData/Y2018M04D18_RH_Convert_Aux_Rasters_Geotiff_V01/output_V01/\n",
      "Input ec2: /volumes/data/Y2018M04D24_RH_Create_Additional_Pcrasters_V01/input_V01\n",
      "Output ec2: /volumes/data/Y2018M04D24_RH_Create_Additional_Pcrasters_V01/output_V03\n",
      "Output S3: s3://wri-projects/Aqueduct30/processData/Y2018M04D24_RH_Create_Additional_Pcrasters_V01/output_V03/\n"
     ]
    }
   ],
   "source": [
    "\"\"\" Use pcraster to create additional rasters such as streamorder.\n",
    "-------------------------------------------------------------------------------\n",
    "Use pcraster to create:\n",
    "- a stream order map for a local drainage network.\n",
    "\n",
    "\n",
    "\n",
    "Author: Rutger Hofste\n",
    "Date: 20180425\n",
    "Kernel: python27\n",
    "Docker: rutgerhofste/gisdocker:ubuntu16.04\n",
    "\n",
    "Args:\n",
    "    SCRIPT_NAME (string) : Script name\n",
    "    OUTPUT_VERSION (integer) : Output version.\n",
    "    OUTPUT_FILE_NAME (string) : Output file name.\n",
    "\n",
    "Returns:\n",
    "\n",
    "\"\"\"\n",
    "\n",
    "SCRIPT_NAME = \"Y2018M04D24_RH_Create_Additional_Pcrasters_V01\"\n",
    "PREVIOUS_SCRIPT_NAME = \"Y2018M04D18_RH_Convert_Aux_Rasters_Geotiff_V01\"\n",
    "INPUT_VERSION = 1\n",
    "INPUT_FILE_NAME = \"global_lddsound_numpad_05min.map\"\n",
    "\n",
    "OUTPUT_VERSION = 3\n",
    "OUTPUT_FILE_NAME = \"global_streamorder_dimensionless_05min.map\"\n",
    "\n",
    "ec2_output_path = \"/volumes/data/{}/output_V{:02.0f}\".format(SCRIPT_NAME,OUTPUT_VERSION)\n",
    "ec2_input_path = \"/volumes/data/{}/input_V{:02.0f}\".format(SCRIPT_NAME,INPUT_VERSION)\n",
    "s3_output_path = \"s3://wri-projects/Aqueduct30/processData/{}/output_V{:02.0f}/\".format(SCRIPT_NAME,OUTPUT_VERSION)\n",
    "s3_input_path = \"s3://wri-projects/Aqueduct30/processData/{}/output_V{:02.0f}/\".format(PREVIOUS_SCRIPT_NAME,INPUT_VERSION)\n",
    "\n",
    "\n",
    "print(\"Input s3: \" + s3_input_path +\n",
    "      \"\\nInput ec2: \" + ec2_input_path +\n",
    "      \"\\nOutput ec2: \" + ec2_output_path +\n",
    "      \"\\nOutput S3: \" + s3_output_path)"
   ]
  },
  {
   "cell_type": "code",
   "execution_count": 2,
   "metadata": {},
   "outputs": [
    {
     "name": "stdout",
     "output_type": "stream",
     "text": [
      "('Y2018M04D25', 'UTC 15:23')\n"
     ]
    },
    {
     "data": {
      "text/plain": [
       "'2.7.14 |Anaconda, Inc.| (default, Dec  7 2017, 17:05:42) \\n[GCC 7.2.0]'"
      ]
     },
     "execution_count": 2,
     "metadata": {},
     "output_type": "execute_result"
    }
   ],
   "source": [
    "import time, datetime, sys\n",
    "dateString = time.strftime(\"Y%YM%mD%d\")\n",
    "timeString = time.strftime(\"UTC %H:%M\")\n",
    "start = datetime.datetime.now()\n",
    "print(dateString,timeString)\n",
    "sys.version"
   ]
  },
  {
   "cell_type": "code",
   "execution_count": 3,
   "metadata": {
    "collapsed": true
   },
   "outputs": [],
   "source": [
    "import sys\n",
    "sys.path.append(\"/opt/pcraster-4.1.0_x86-64/python\")\n",
    "import pcraster"
   ]
  },
  {
   "cell_type": "code",
   "execution_count": 4,
   "metadata": {},
   "outputs": [
    {
     "name": "stdout",
     "output_type": "stream",
     "text": [
      "rm: cannot remove '/volumes/data/Y2018M04D24_RH_Create_Additional_Pcrasters_V01/output_V03': No such file or directory\r\n"
     ]
    }
   ],
   "source": [
    "!rm -r {ec2_input_path}\n",
    "!rm -r {ec2_output_path}\n",
    "!mkdir -p {ec2_input_path}\n",
    "!mkdir -p {ec2_output_path}"
   ]
  },
  {
   "cell_type": "code",
   "execution_count": 5,
   "metadata": {
    "collapsed": true
   },
   "outputs": [],
   "source": [
    "!aws s3 cp {s3_input_path} {ec2_input_path} --recursive"
   ]
  },
  {
   "cell_type": "code",
   "execution_count": 6,
   "metadata": {},
   "outputs": [
    {
     "name": "stdout",
     "output_type": "stream",
     "text": [
      "upload: ../../../../data/Y2018M04D24_RH_Create_Additional_Pcrasters_V01/output_V03/global_streamorder_dimensionless_05min.map to s3://wri-projects/Aqueduct30/processData/Y2018M04D24_RH_Create_Additional_Pcrasters_V01/output_V03/global_streamorder_dimensionless_05min.map\n"
     ]
    }
   ],
   "source": [
    "def main():\n",
    "    s3_input_path\n",
    "    input_file_path = \"/volumes/data/Y2018M04D18_RH_Convert_Aux_Rasters_Geotiff_V01/input_V01/global_lddsound_numpad_05min.map\"\n",
    "    ldd_map = pcraster.readmap(input_file_path)\n",
    "    streamorder_map = pcraster.streamorder(ldd_map)\n",
    "    output_file_path = \"{}/{}\".format(ec2_output_path,OUTPUT_FILE_NAME)\n",
    "    pcraster.report(streamorder_map,output_file_path)\n",
    "    !aws s3 cp {ec2_output_path} {s3_output_path} --recursive\n",
    "\n",
    "if __name__ == \"__main__\":\n",
    "    main()"
   ]
  },
  {
   "cell_type": "code",
   "execution_count": 7,
   "metadata": {},
   "outputs": [
    {
     "name": "stdout",
     "output_type": "stream",
     "text": [
      "0:00:10.125777\n"
     ]
    }
   ],
   "source": [
    "end = datetime.datetime.now()\n",
    "elapsed = end - start\n",
    "print(elapsed)"
   ]
  }
 ],
 "metadata": {
  "kernelspec": {
   "display_name": "Python 27",
   "language": "python",
   "name": "python27"
  },
  "language_info": {
   "codemirror_mode": {
    "name": "ipython",
    "version": 2
   },
   "file_extension": ".py",
   "mimetype": "text/x-python",
   "name": "python",
   "nbconvert_exporter": "python",
   "pygments_lexer": "ipython2",
   "version": "2.7.14"
  }
 },
 "nbformat": 4,
 "nbformat_minor": 2
}
