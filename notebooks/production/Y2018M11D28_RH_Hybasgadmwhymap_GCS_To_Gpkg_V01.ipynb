{
 "cells": [
  {
   "cell_type": "code",
   "execution_count": 1,
   "metadata": {},
   "outputs": [
    {
     "name": "stdout",
     "output_type": "stream",
     "text": [
      "\n",
      "GCS_INPUT_PATH:  gs://aqueduct30_v01/Y2018M11D28_RH_hybasgadmwhymap_To_GCS_V01/output_V01/ \n",
      "ec2_input_path:  /volumes/data/Y2018M11D28_RH_Hybasgadmwhymap_GCS_To_Gpkg_V01/input_V01 \n",
      "ec2_output_path: /volumes/data/Y2018M11D28_RH_Hybasgadmwhymap_GCS_To_Gpkg_V01/output_V01 \n",
      "s3_output_path:  s3://wri-projects/Aqueduct30/processData/Y2018M11D28_RH_Hybasgadmwhymap_GCS_To_Gpkg_V01/output_V01/\n"
     ]
    }
   ],
   "source": [
    "\"\"\" Convert hybasgadmwhymap csv files from GCS to geopackage.\n",
    "-------------------------------------------------------------------------------\n",
    "\n",
    "Author: Rutger Hofste\n",
    "Date: 20181128\n",
    "Kernel: python35\n",
    "Docker: rutgerhofste/gisdocker:ubuntu16.04\n",
    "\n",
    "Args:\n",
    "    TESTING (Boolean) : Toggle testing case.\n",
    "    SCRIPT_\n",
    "    NAME (string) : Script name.\n",
    "    OUTPUT_VERSION (integer) : output version.\n",
    "    DATABASE_ENDPOINT (string) : RDS or postGreSQL endpoint.\n",
    "    DATABASE_NAME (string) : Database name.\n",
    "    \n",
    "    TABLE_NAME_AREA_30SPFAF06 (string) : Table name used for areas. Must exist\n",
    "        on same database as used in rest of script.\n",
    "    S3_INPUT_PATH_RIVERDISCHARGE (string) : AWS S3 input path for \n",
    "        riverdischarge.    \n",
    "    S3_INPUT_PATH_DEMAND (string) : AWS S3 input path for \n",
    "        demand.     \n",
    "\n",
    "\"\"\"\n",
    "\n",
    "TESTING = 1\n",
    "SCRIPT_NAME = \"Y2018M11D28_RH_Hybasgadmwhymap_GCS_To_Gpkg_V01\"\n",
    "OUTPUT_VERSION = 1\n",
    "\n",
    "GCS_INPUT_PATH = \"gs://aqueduct30_v01/Y2018M11D28_RH_hybasgadmwhymap_To_GCS_V01/output_V01/\"\n",
    "\n",
    "ec2_input_path = \"/volumes/data/{}/input_V{:02.0f}\".format(SCRIPT_NAME,OUTPUT_VERSION)\n",
    "ec2_output_path = \"/volumes/data/{}/output_V{:02.0f}\".format(SCRIPT_NAME,OUTPUT_VERSION)\n",
    "s3_output_path = \"s3://wri-projects/Aqueduct30/processData/{}/output_V{:02.0f}/\".format(SCRIPT_NAME,OUTPUT_VERSION)\n",
    "\n",
    "\n",
    "\n",
    "print(\"\\nGCS_INPUT_PATH: \", GCS_INPUT_PATH,\n",
    "      \"\\nec2_input_path: \", ec2_input_path, \n",
    "      \"\\nec2_output_path:\", ec2_output_path,\n",
    "      \"\\ns3_output_path: \", s3_output_path\n",
    "      )\n"
   ]
  },
  {
   "cell_type": "code",
   "execution_count": 2,
   "metadata": {},
   "outputs": [
    {
     "name": "stdout",
     "output_type": "stream",
     "text": [
      "Y2018M11D28 UTC 14:32\n"
     ]
    },
    {
     "data": {
      "text/plain": [
       "'3.5.4 |Anaconda, Inc.| (default, Nov 20 2017, 18:44:38) \\n[GCC 7.2.0]'"
      ]
     },
     "execution_count": 2,
     "metadata": {},
     "output_type": "execute_result"
    }
   ],
   "source": [
    "import time, datetime, sys\n",
    "dateString = time.strftime(\"Y%YM%mD%d\")\n",
    "timeString = time.strftime(\"UTC %H:%M\")\n",
    "start = datetime.datetime.now()\n",
    "print(dateString,timeString)\n",
    "sys.version"
   ]
  },
  {
   "cell_type": "code",
   "execution_count": 3,
   "metadata": {
    "collapsed": true
   },
   "outputs": [],
   "source": [
    "import os"
   ]
  },
  {
   "cell_type": "code",
   "execution_count": 4,
   "metadata": {
    "collapsed": true
   },
   "outputs": [],
   "source": [
    "!rm -r {ec2_input_path}\n",
    "!rm -r {ec2_output_path}\n",
    "!mkdir -p {ec2_input_path}\n",
    "!mkdir -p {ec2_output_path}"
   ]
  },
  {
   "cell_type": "code",
   "execution_count": 5,
   "metadata": {},
   "outputs": [
    {
     "name": "stdout",
     "output_type": "stream",
     "text": [
      "Copying gs://aqueduct30_v01/Y2018M11D28_RH_hybasgadmwhymap_To_GCS_V01/output_V01/output_000000000000.csv...\n",
      "Copying gs://aqueduct30_v01/Y2018M11D28_RH_hybasgadmwhymap_To_GCS_V01/output_V01/output_000000000001.csv...\n",
      "Copying gs://aqueduct30_v01/Y2018M11D28_RH_hybasgadmwhymap_To_GCS_V01/output_V01/output_000000000002.csv...\n",
      "Copying gs://aqueduct30_v01/Y2018M11D28_RH_hybasgadmwhymap_To_GCS_V01/output_V01/output_000000000003.csv...\n",
      "Copying gs://aqueduct30_v01/Y2018M11D28_RH_hybasgadmwhymap_To_GCS_V01/output_V01/output_000000000004.csv...\n",
      "| [5/5 files][  2.2 GiB/  2.2 GiB] 100% Done                                    \n",
      "Operation completed over 5 objects/2.2 GiB.                                      \n"
     ]
    }
   ],
   "source": [
    "!gsutil -m cp -r {GCS_INPUT_PATH}* {ec2_input_path}"
   ]
  },
  {
   "cell_type": "code",
   "execution_count": 6,
   "metadata": {},
   "outputs": [],
   "source": [
    "files = os.listdir(ec2_input_path)"
   ]
  },
  {
   "cell_type": "code",
   "execution_count": 7,
   "metadata": {},
   "outputs": [
    {
     "data": {
      "text/plain": [
       "['output_000000000000.csv',\n",
       " 'output_000000000001.csv',\n",
       " 'output_000000000004.csv',\n",
       " 'output_000000000003.csv',\n",
       " 'output_000000000002.csv']"
      ]
     },
     "execution_count": 7,
     "metadata": {},
     "output_type": "execute_result"
    }
   ],
   "source": [
    "files"
   ]
  },
  {
   "cell_type": "code",
   "execution_count": 8,
   "metadata": {
    "collapsed": true
   },
   "outputs": [],
   "source": [
    "import pandas as pd\n",
    "import geopandas as gpd\n",
    "\n",
    "from shapely import wkt\n",
    "from shapely.geometry import MultiPolygon, shape\n"
   ]
  },
  {
   "cell_type": "code",
   "execution_count": 9,
   "metadata": {
    "collapsed": true
   },
   "outputs": [],
   "source": [
    "one_file = files[2]"
   ]
  },
  {
   "cell_type": "code",
   "execution_count": 10,
   "metadata": {
    "collapsed": true
   },
   "outputs": [],
   "source": []
  },
  {
   "cell_type": "code",
   "execution_count": 20,
   "metadata": {},
   "outputs": [],
   "source": [
    "listje = []\n",
    "\n",
    "for one_file in files:\n",
    "    input_path = \"{}/{}\".format(ec2_input_path,one_file)\n",
    "    df = pd.read_csv(input_path,index_col=None, header=0)\n",
    "    listje.append(df)"
   ]
  },
  {
   "cell_type": "code",
   "execution_count": 22,
   "metadata": {},
   "outputs": [],
   "source": [
    "df_all = pd.concat(listje, axis = 0, ignore_index = True)"
   ]
  },
  {
   "cell_type": "code",
   "execution_count": 26,
   "metadata": {
    "collapsed": true
   },
   "outputs": [],
   "source": [
    "def convert_shapely_collection_to_multipolygon(fc):\n",
    "    \"\"\" Removes linestrings, points etc. from shapely collections\n",
    "    \n",
    "    Args:\n",
    "        fc (GeometryCollection): Shapely GeometryCollection object \n",
    "        \n",
    "    Returns: \n",
    "        mp_out (Multipolygon): Shapely Multipolygon\n",
    "    \n",
    "    \"\"\"\n",
    "    geoms = []\n",
    "    for f in fc:\n",
    "        geom_type = f.geom_type\n",
    "        if geom_type == \"Polygon\":\n",
    "            geoms.append(MultiPolygon([f]))\n",
    "        elif geom_type == \"MultiPolygon\":\n",
    "            geoms.append(MultiPolygon(f))\n",
    "        else:\n",
    "            pass\n",
    "    mp = MultiPolygon(geoms)\n",
    "    return mp\n"
   ]
  },
  {
   "cell_type": "code",
   "execution_count": 27,
   "metadata": {
    "collapsed": true
   },
   "outputs": [],
   "source": [
    "def wkt_to_shapely(wkt_string):\n",
    "    fc = wkt.loads(wkt_string)\n",
    "    try:\n",
    "        output = MultiPolygon([fc])\n",
    "    except:\n",
    "        output = convert_shapely_collection_to_multipolygon(fc)\n",
    "    return output"
   ]
  },
  {
   "cell_type": "code",
   "execution_count": 28,
   "metadata": {},
   "outputs": [],
   "source": [
    "df_all[\"geom\"] = df_all[\"wkt\"].apply(wkt_to_shapely)"
   ]
  },
  {
   "cell_type": "code",
   "execution_count": 30,
   "metadata": {},
   "outputs": [],
   "source": [
    "gdf = gpd.GeoDataFrame(df_all,geometry=\"geom\")"
   ]
  },
  {
   "cell_type": "code",
   "execution_count": 31,
   "metadata": {},
   "outputs": [],
   "source": [
    "gdf.crs = \"+init=epsg:4326\""
   ]
  },
  {
   "cell_type": "code",
   "execution_count": 32,
   "metadata": {},
   "outputs": [],
   "source": [
    "output_file_path = \"{}/{}.gpkg\".format(ec2_output_path,SCRIPT_NAME)"
   ]
  },
  {
   "cell_type": "code",
   "execution_count": 33,
   "metadata": {
    "collapsed": true
   },
   "outputs": [],
   "source": [
    "gdf.to_file(filename=output_file_path,driver=\"GPKG\")"
   ]
  },
  {
   "cell_type": "code",
   "execution_count": 34,
   "metadata": {},
   "outputs": [
    {
     "name": "stdout",
     "output_type": "stream",
     "text": [
      "upload: ../../../../data/Y2018M11D28_RH_Hybasgadmwhymap_GCS_To_Gpkg_V01/output_V01/Y2018M11D28_RH_Hybasgadmwhymap_GCS_To_Gpkg_V01.gpkg to s3://wri-projects/Aqueduct30/processData/Y2018M11D28_RH_Hybasgadmwhymap_GCS_To_Gpkg_V01/output_V01/Y2018M11D28_RH_Hybasgadmwhymap_GCS_To_Gpkg_V01.gpkg\n"
     ]
    }
   ],
   "source": [
    "!aws s3 cp {ec2_output_path} {s3_output_path} --recursive\n"
   ]
  },
  {
   "cell_type": "code",
   "execution_count": 35,
   "metadata": {},
   "outputs": [
    {
     "name": "stdout",
     "output_type": "stream",
     "text": [
      "0:18:48.935096\n"
     ]
    }
   ],
   "source": [
    "end = datetime.datetime.now()\n",
    "elapsed = end - start\n",
    "print(elapsed)"
   ]
  },
  {
   "cell_type": "markdown",
   "metadata": {},
   "source": [
    "Previous Runs:  \n",
    "0:18:48.935096\n"
   ]
  },
  {
   "cell_type": "code",
   "execution_count": null,
   "metadata": {
    "collapsed": true
   },
   "outputs": [],
   "source": []
  }
 ],
 "metadata": {
  "kernelspec": {
   "display_name": "Python 35",
   "language": "python",
   "name": "python35"
  },
  "language_info": {
   "codemirror_mode": {
    "name": "ipython",
    "version": 3
   },
   "file_extension": ".py",
   "mimetype": "text/x-python",
   "name": "python",
   "nbconvert_exporter": "python",
   "pygments_lexer": "ipython3",
   "version": "3.5.4"
  }
 },
 "nbformat": 4,
 "nbformat_minor": 2
}
