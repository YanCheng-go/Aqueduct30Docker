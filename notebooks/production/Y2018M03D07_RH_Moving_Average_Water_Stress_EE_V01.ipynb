{
 "cells": [
  {
   "cell_type": "markdown",
   "metadata": {},
   "source": [
    "# Y2018M03D07_RH_Moving_Average_Water_Stress_EE_V01\n",
    "\n",
    "* Purpose of script: Calculate Water Stress at pfaf6 30s level by dividing WW and Q 10 year moving averages. Converts WW to volumes  \n",
    "\n",
    "* Script exports to: TO DO\n",
    "\n",
    "\n",
    "* Kernel used: python35\n",
    "* Date created: 20170307\n",
    "\n"
   ]
  },
  {
   "cell_type": "code",
   "execution_count": 1,
   "metadata": {},
   "outputs": [
    {
     "name": "stdout",
     "output_type": "stream",
     "text": [
      "Y2018M03D07 UTC 13:04\n"
     ]
    },
    {
     "data": {
      "text/plain": [
       "'3.5.4 |Continuum Analytics, Inc.| (default, Aug 14 2017, 13:26:58) \\n[GCC 4.4.7 20120313 (Red Hat 4.4.7-1)]'"
      ]
     },
     "execution_count": 1,
     "metadata": {},
     "output_type": "execute_result"
    }
   ],
   "source": [
    "import time, datetime, sys\n",
    "dateString = time.strftime(\"Y%YM%mD%d\")\n",
    "timeString = time.strftime(\"UTC %H:%M\")\n",
    "start = datetime.datetime.now()\n",
    "print(dateString,timeString)\n",
    "sys.version"
   ]
  },
  {
   "cell_type": "code",
   "execution_count": 24,
   "metadata": {
    "collapsed": true
   },
   "outputs": [],
   "source": [
    "EE_PATH = \"projects/WRI-Aquaduct/PCRGlobWB20V07\"\n",
    "\n",
    "SCRIPT_NAME = \"Y2018M03D07_RH_Moving_Average_Water_Stress_EE_V01\"\n",
    "\n",
    "WW_INPUT_VERSION = 2\n",
    "WN_INPUT_VERSION = 2\n",
    "Q_INPUT_VERSION = 2\n",
    "\n",
    "\n",
    "\n",
    "OUTPUT_VERSION = 1\n",
    "\n",
    "TESTING = 1\n",
    "\n",
    "CRS = \"EPSG:4326\"\n",
    "\n",
    "PFAF_LEVEL = 6\n",
    "\n",
    "DIMENSION30S = {}\n",
    "DIMENSION30S[\"x\"] = 43200\n",
    "DIMENSION30S[\"y\"] = 21600"
   ]
  },
  {
   "cell_type": "code",
   "execution_count": 6,
   "metadata": {
    "collapsed": true
   },
   "outputs": [],
   "source": [
    "import ee\n",
    "import os\n",
    "import logging\n",
    "import pandas as pd\n",
    "import subprocess"
   ]
  },
  {
   "cell_type": "code",
   "execution_count": 7,
   "metadata": {
    "collapsed": true
   },
   "outputs": [],
   "source": [
    "ee.Initialize()"
   ]
  },
  {
   "cell_type": "code",
   "execution_count": 8,
   "metadata": {},
   "outputs": [],
   "source": [
    "logger = logging.getLogger(__name__)\n",
    "logger.setLevel(logging.DEBUG)\n",
    "formatter = logging.Formatter('%(asctime)s:%(levelname)s:%(message)s')\n",
    "file_handler = logging.FileHandler(\"./logs/%sV%0.2d.log\" %(SCRIPT_NAME,OUTPUT_VERSION))\n",
    "file_handler.setFormatter(formatter)\n",
    "logger.addHandler(file_handler)"
   ]
  },
  {
   "cell_type": "code",
   "execution_count": 9,
   "metadata": {
    "collapsed": true
   },
   "outputs": [],
   "source": [
    "geometry = ee.Geometry.Polygon(coords=[[-180.0, -90.0], [180,  -90.0], [180, 90], [-180,90]], proj= ee.Projection('EPSG:4326'),geodesic=False )"
   ]
  },
  {
   "cell_type": "code",
   "execution_count": 10,
   "metadata": {
    "collapsed": true
   },
   "outputs": [],
   "source": [
    "crsTransform30sSmall = [\n",
    "    360.0 / DIMENSION30S[\"x\"], \n",
    "    0,\n",
    "    -180,\n",
    "    0,\n",
    "    -162.0 / (0.9* DIMENSION30S[\"y\"]),\n",
    "    81   \n",
    "]\n",
    "\n",
    "dimensions30sSmall = \"{}x{}\".format(DIMENSION30S[\"x\"],int(0.9*DIMENSION30S[\"y\"]))"
   ]
  },
  {
   "cell_type": "code",
   "execution_count": 25,
   "metadata": {},
   "outputs": [],
   "source": [
    "area30s = ee.Image(\"projects/WRI-Aquaduct/PCRGlobWB20V07/area_30s_m2V11\")\n",
    "zones30s = ee.Image(\"projects/WRI-Aquaduct/PCRGlobWB20V07/hybas_lev00_v1c_merged_fiona_30s_V01\")\n",
    "zones30s = zones30s.divide(ee.Number(10).pow(ee.Number(12).subtract(PFAF_LEVEL))).floor().toInt64();\n",
    "\n",
    "crs30s = area30s.projection()\n",
    "\n",
    "area30s_pfaf06 = ee.Image(\"projects/WRI-Aquaduct/PCRGlobWB20V07/area_30spfaf06_m2_V01V01\").select([\"sum\"])\n",
    "\n",
    "scale30s = zones30s.projection().nominalScale().getInfo()"
   ]
  },
  {
   "cell_type": "code",
   "execution_count": 21,
   "metadata": {
    "collapsed": true
   },
   "outputs": [],
   "source": [
    "def create_collection(assetid):\n",
    "    \"\"\" Create image collection in earth engine asset folder\n",
    "    \n",
    "    This function will only work if the folder in which the\n",
    "    new imageCollection will be created is valid\n",
    "    \n",
    "    \n",
    "    Args:\n",
    "        assetid (string) : asset id for the new image collection\n",
    "    \n",
    "    Returns: \n",
    "        result (string) : captured message from command line\n",
    "    \n",
    "    \"\"\"   \n",
    "    \n",
    "    command = \"earthengine create collection {}\".format(assetid) \n",
    "    result = subprocess.check_output(command,shell=True)\n",
    "    if result:\n",
    "        logger.error(result)\n",
    "    return result\n",
    "\n",
    "def zonal_stats_to_raster(image,zonesImage,geometry,maxPixels,reducerType,scale):\n",
    "    \"\"\" Zonal statistics using rasterized zones\n",
    "    \n",
    "    Args:\n",
    "        image (ee.Image) : input image with values (Check the units)\n",
    "        zonesImage (ee.Image) : integer image with the zones\n",
    "        geometry (ee.Geometry) : geometry indicating the extent of the calculation. Note if geometry is geodesic\n",
    "        maxPixels (integer) : maximum numbers of pixels within geometry\n",
    "        reducerType (string) : options include 'mean', 'max', 'sum', 'first' en 'mode' \n",
    "    \n",
    "    \n",
    "    \n",
    "    # reducertype can be mean, max, sum, first. Count is always included for QA\n",
    "    # the resolution of the zonesimage is used for scale\n",
    "    \"\"\"\n",
    "    \n",
    "    reducer = ee.Algorithms.If(ee.Algorithms.IsEqual(reducerType,\"mean\"),ee.Reducer.mean(),\n",
    "    ee.Algorithms.If(ee.Algorithms.IsEqual(reducerType,\"max\"),ee.Reducer.max(),\n",
    "    ee.Algorithms.If(ee.Algorithms.IsEqual(reducerType,\"sum\"),ee.Reducer.sum(),\n",
    "    ee.Algorithms.If(ee.Algorithms.IsEqual(reducerType,\"first\"),ee.Reducer.first(),\n",
    "    ee.Algorithms.If(ee.Algorithms.IsEqual(reducerType,\"mode\"),ee.Reducer.mode(),\"error\"))))\n",
    "    )\n",
    "    reducer = ee.Reducer(reducer).combine(reducer2= ee.Reducer.count(), sharedInputs= True).group(groupField=1, groupName=\"zones\") \n",
    "\n",
    "    \n",
    "    zonesImage = zonesImage.select(zonesImage.bandNames(),[\"zones\"])\n",
    "\n",
    "    totalImage = ee.Image(image).addBands(zonesImage)\n",
    "    resultsList = ee.List(totalImage.reduceRegion(\n",
    "        geometry= geometry, \n",
    "        reducer= reducer,\n",
    "        scale= scale,\n",
    "        maxPixels=maxPixels,\n",
    "        bestEffort =True\n",
    "        ).get(\"groups\"))\n",
    "\n",
    "    resultsList = resultsList.map(ensure_default_properties); \n",
    "    zoneList = mapList(resultsList, 'zones');\n",
    "    countList = mapList(resultsList, 'count');\n",
    "    valueList = mapList(resultsList, reducerType);\n",
    "\n",
    "    valueImage = zonesImage.remap(zoneList, valueList).select([\"remapped\"],[reducerType])\n",
    "    countImage = zonesImage.remap(zoneList, countList).select([\"remapped\"],[\"count\"])\n",
    "    newImage = zonesImage.addBands(countImage).addBands(valueImage)\n",
    "    return newImage\n"
   ]
  },
  {
   "cell_type": "code",
   "execution_count": 11,
   "metadata": {
    "collapsed": true
   },
   "outputs": [],
   "source": [
    "months = range(1,13)\n",
    "years = range(1960+9,2014+1)\n",
    "indicators = [\"WS\"]"
   ]
  },
  {
   "cell_type": "code",
   "execution_count": 12,
   "metadata": {
    "collapsed": true
   },
   "outputs": [],
   "source": [
    "df = pd.DataFrame()\n",
    "\n",
    "for indicator in indicators:\n",
    "    for month in months:\n",
    "        for year in years:\n",
    "            newRow = {}\n",
    "            newRow[\"month\"] = month\n",
    "            newRow[\"year\"] = year\n",
    "            newRow[\"output_ic_filename\"] = \"global_historical_{}_month_none_pfaf06_1960_2014_movingaverage_10y_V{:02.0f}\".format(indicator,OUTPUT_VERSION)\n",
    "            newRow[\"output_ic_assetid\"] = \"{}/{}\".format(EE_PATH,newRow[\"output_ic_filename\"])\n",
    "            newRow[\"output_i_filename\"] = \"global_historical_{}_month_none_pfaf06_Y{:04.0f}M{:02.0f}_movingaverage_10y_V{:02.0f}\".format(indicator,year,month,OUTPUT_VERSION)\n",
    "            newRow[\"output_i_assetid\"] = \"{}/{}\".format(newRow[\"output_ic_assetid\"],newRow[\"output_i_filename\"])\n",
    "            newRow[\"indicator\"] = indicator\n",
    "            newRow[\"exportdescription\"] = \"{}_month_Y{:04.0f}M{:02.0f}_movingaverage_10y\".format(indicator,year,month)\n",
    "            df= df.append(newRow,ignore_index=True)"
   ]
  },
  {
   "cell_type": "code",
   "execution_count": 16,
   "metadata": {},
   "outputs": [
    {
     "data": {
      "text/html": [
       "<div>\n",
       "<style>\n",
       "    .dataframe thead tr:only-child th {\n",
       "        text-align: right;\n",
       "    }\n",
       "\n",
       "    .dataframe thead th {\n",
       "        text-align: left;\n",
       "    }\n",
       "\n",
       "    .dataframe tbody tr th {\n",
       "        vertical-align: top;\n",
       "    }\n",
       "</style>\n",
       "<table border=\"1\" class=\"dataframe\">\n",
       "  <thead>\n",
       "    <tr style=\"text-align: right;\">\n",
       "      <th></th>\n",
       "      <th>exportdescription</th>\n",
       "      <th>indicator</th>\n",
       "      <th>month</th>\n",
       "      <th>output_i_assetid</th>\n",
       "      <th>output_i_filename</th>\n",
       "      <th>output_ic_assetid</th>\n",
       "      <th>output_ic_filename</th>\n",
       "      <th>year</th>\n",
       "    </tr>\n",
       "  </thead>\n",
       "  <tbody>\n",
       "    <tr>\n",
       "      <th>0</th>\n",
       "      <td>WS_month_Y1969M01_movingaverage_10y</td>\n",
       "      <td>WS</td>\n",
       "      <td>1.0</td>\n",
       "      <td>projects/WRI-Aquaduct/PCRGlobWB20V07/global_hi...</td>\n",
       "      <td>global_historical_WS_month_none_pfaf06_Y1969M0...</td>\n",
       "      <td>projects/WRI-Aquaduct/PCRGlobWB20V07/global_hi...</td>\n",
       "      <td>global_historical_WS_month_none_pfaf06_1960_20...</td>\n",
       "      <td>1969.0</td>\n",
       "    </tr>\n",
       "    <tr>\n",
       "      <th>1</th>\n",
       "      <td>WS_month_Y1970M01_movingaverage_10y</td>\n",
       "      <td>WS</td>\n",
       "      <td>1.0</td>\n",
       "      <td>projects/WRI-Aquaduct/PCRGlobWB20V07/global_hi...</td>\n",
       "      <td>global_historical_WS_month_none_pfaf06_Y1970M0...</td>\n",
       "      <td>projects/WRI-Aquaduct/PCRGlobWB20V07/global_hi...</td>\n",
       "      <td>global_historical_WS_month_none_pfaf06_1960_20...</td>\n",
       "      <td>1970.0</td>\n",
       "    </tr>\n",
       "    <tr>\n",
       "      <th>2</th>\n",
       "      <td>WS_month_Y1971M01_movingaverage_10y</td>\n",
       "      <td>WS</td>\n",
       "      <td>1.0</td>\n",
       "      <td>projects/WRI-Aquaduct/PCRGlobWB20V07/global_hi...</td>\n",
       "      <td>global_historical_WS_month_none_pfaf06_Y1971M0...</td>\n",
       "      <td>projects/WRI-Aquaduct/PCRGlobWB20V07/global_hi...</td>\n",
       "      <td>global_historical_WS_month_none_pfaf06_1960_20...</td>\n",
       "      <td>1971.0</td>\n",
       "    </tr>\n",
       "    <tr>\n",
       "      <th>3</th>\n",
       "      <td>WS_month_Y1972M01_movingaverage_10y</td>\n",
       "      <td>WS</td>\n",
       "      <td>1.0</td>\n",
       "      <td>projects/WRI-Aquaduct/PCRGlobWB20V07/global_hi...</td>\n",
       "      <td>global_historical_WS_month_none_pfaf06_Y1972M0...</td>\n",
       "      <td>projects/WRI-Aquaduct/PCRGlobWB20V07/global_hi...</td>\n",
       "      <td>global_historical_WS_month_none_pfaf06_1960_20...</td>\n",
       "      <td>1972.0</td>\n",
       "    </tr>\n",
       "    <tr>\n",
       "      <th>4</th>\n",
       "      <td>WS_month_Y1973M01_movingaverage_10y</td>\n",
       "      <td>WS</td>\n",
       "      <td>1.0</td>\n",
       "      <td>projects/WRI-Aquaduct/PCRGlobWB20V07/global_hi...</td>\n",
       "      <td>global_historical_WS_month_none_pfaf06_Y1973M0...</td>\n",
       "      <td>projects/WRI-Aquaduct/PCRGlobWB20V07/global_hi...</td>\n",
       "      <td>global_historical_WS_month_none_pfaf06_1960_20...</td>\n",
       "      <td>1973.0</td>\n",
       "    </tr>\n",
       "  </tbody>\n",
       "</table>\n",
       "</div>"
      ],
      "text/plain": [
       "                     exportdescription indicator  month  \\\n",
       "0  WS_month_Y1969M01_movingaverage_10y        WS    1.0   \n",
       "1  WS_month_Y1970M01_movingaverage_10y        WS    1.0   \n",
       "2  WS_month_Y1971M01_movingaverage_10y        WS    1.0   \n",
       "3  WS_month_Y1972M01_movingaverage_10y        WS    1.0   \n",
       "4  WS_month_Y1973M01_movingaverage_10y        WS    1.0   \n",
       "\n",
       "                                    output_i_assetid  \\\n",
       "0  projects/WRI-Aquaduct/PCRGlobWB20V07/global_hi...   \n",
       "1  projects/WRI-Aquaduct/PCRGlobWB20V07/global_hi...   \n",
       "2  projects/WRI-Aquaduct/PCRGlobWB20V07/global_hi...   \n",
       "3  projects/WRI-Aquaduct/PCRGlobWB20V07/global_hi...   \n",
       "4  projects/WRI-Aquaduct/PCRGlobWB20V07/global_hi...   \n",
       "\n",
       "                                   output_i_filename  \\\n",
       "0  global_historical_WS_month_none_pfaf06_Y1969M0...   \n",
       "1  global_historical_WS_month_none_pfaf06_Y1970M0...   \n",
       "2  global_historical_WS_month_none_pfaf06_Y1971M0...   \n",
       "3  global_historical_WS_month_none_pfaf06_Y1972M0...   \n",
       "4  global_historical_WS_month_none_pfaf06_Y1973M0...   \n",
       "\n",
       "                                   output_ic_assetid  \\\n",
       "0  projects/WRI-Aquaduct/PCRGlobWB20V07/global_hi...   \n",
       "1  projects/WRI-Aquaduct/PCRGlobWB20V07/global_hi...   \n",
       "2  projects/WRI-Aquaduct/PCRGlobWB20V07/global_hi...   \n",
       "3  projects/WRI-Aquaduct/PCRGlobWB20V07/global_hi...   \n",
       "4  projects/WRI-Aquaduct/PCRGlobWB20V07/global_hi...   \n",
       "\n",
       "                                  output_ic_filename    year  \n",
       "0  global_historical_WS_month_none_pfaf06_1960_20...  1969.0  \n",
       "1  global_historical_WS_month_none_pfaf06_1960_20...  1970.0  \n",
       "2  global_historical_WS_month_none_pfaf06_1960_20...  1971.0  \n",
       "3  global_historical_WS_month_none_pfaf06_1960_20...  1972.0  \n",
       "4  global_historical_WS_month_none_pfaf06_1960_20...  1973.0  "
      ]
     },
     "execution_count": 16,
     "metadata": {},
     "output_type": "execute_result"
    }
   ],
   "source": [
    "df.head()"
   ]
  },
  {
   "cell_type": "code",
   "execution_count": 17,
   "metadata": {
    "collapsed": true
   },
   "outputs": [],
   "source": [
    "if TESTING:\n",
    "    df = df[0:2]"
   ]
  },
  {
   "cell_type": "code",
   "execution_count": 20,
   "metadata": {},
   "outputs": [
    {
     "name": "stdout",
     "output_type": "stream",
     "text": [
      "b''\n"
     ]
    }
   ],
   "source": [
    "for output_ic_assetid in df[\"output_ic_assetid\"].unique():\n",
    "    result = create_collection(output_ic_assetid)\n",
    "    print(result)"
   ]
  },
  {
   "cell_type": "code",
   "execution_count": null,
   "metadata": {
    "collapsed": true
   },
   "outputs": [],
   "source": []
  },
  {
   "cell_type": "code",
   "execution_count": 22,
   "metadata": {},
   "outputs": [
    {
     "ename": "NameError",
     "evalue": "name 'area30s' is not defined",
     "output_type": "error",
     "traceback": [
      "\u001b[0;31m---------------------------------------------------------------------------\u001b[0m",
      "\u001b[0;31mNameError\u001b[0m                                 Traceback (most recent call last)",
      "\u001b[0;32m<ipython-input-22-db7bb60c017c>\u001b[0m in \u001b[0;36m<module>\u001b[0;34m()\u001b[0m\n\u001b[0;32m----> 1\u001b[0;31m \u001b[0marea30sPfaf6\u001b[0m \u001b[0;34m=\u001b[0m \u001b[0mzonal_stats_to_raster\u001b[0m\u001b[0;34m(\u001b[0m\u001b[0marea30s\u001b[0m\u001b[0;34m,\u001b[0m\u001b[0mzones30s\u001b[0m\u001b[0;34m,\u001b[0m\u001b[0mgeometrySmall\u001b[0m\u001b[0;34m,\u001b[0m\u001b[0;36m1e10\u001b[0m\u001b[0;34m,\u001b[0m\u001b[0;34m\"sum\"\u001b[0m\u001b[0;34m,\u001b[0m\u001b[0mscale30s\u001b[0m\u001b[0;34m)\u001b[0m\u001b[0;34m\u001b[0m\u001b[0m\n\u001b[0m",
      "\u001b[0;31mNameError\u001b[0m: name 'area30s' is not defined"
     ]
    }
   ],
   "source": [
    "area30sPfaf6 = zonal_stats_to_raster(area30s,zones30s,geometrySmall,1e10,\"sum\",scale30s)"
   ]
  },
  {
   "cell_type": "code",
   "execution_count": null,
   "metadata": {
    "collapsed": true
   },
   "outputs": [],
   "source": []
  }
 ],
 "metadata": {
  "kernelspec": {
   "display_name": "Python 35",
   "language": "python",
   "name": "python35"
  },
  "language_info": {
   "codemirror_mode": {
    "name": "ipython",
    "version": 3
   },
   "file_extension": ".py",
   "mimetype": "text/x-python",
   "name": "python",
   "nbconvert_exporter": "python",
   "pygments_lexer": "ipython3",
   "version": "3.5.4"
  }
 },
 "nbformat": 4,
 "nbformat_minor": 2
}
