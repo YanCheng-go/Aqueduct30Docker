{
 "cells": [
  {
   "cell_type": "markdown",
   "metadata": {},
   "source": [
    "# Y2017M12D06_RH_Conservative_Basin_Sinks_EE_V01\n",
    "\n",
    "* Purpose of script: find conservative discharge point\n",
    "* This script has been modified on Feb 27 2018 to restructure PCRGlobWB raw and processed data. Support files such as area images and basin sinks will be s\n",
    "* Kernel used: python27\n",
    "* Date created: 20171206"
   ]
  },
  {
   "cell_type": "code",
   "execution_count": 1,
   "metadata": {},
   "outputs": [
    {
     "name": "stdout",
     "output_type": "stream",
     "text": [
      "('Y2017M12D07', 'UTC 12:09')\n"
     ]
    },
    {
     "data": {
      "text/plain": [
       "'2.7.13 |Continuum Analytics, Inc.| (default, Dec 20 2016, 23:09:15) \\n[GCC 4.4.7 20120313 (Red Hat 4.4.7-1)]'"
      ]
     },
     "execution_count": 1,
     "metadata": {},
     "output_type": "execute_result"
    }
   ],
   "source": [
    "import time, datetime, sys\n",
    "dateString = time.strftime(\"Y%YM%mD%d\")\n",
    "timeString = time.strftime(\"UTC %H:%M\")\n",
    "start = datetime.datetime.now()\n",
    "print(dateString,timeString)\n",
    "sys.version"
   ]
  },
  {
   "cell_type": "code",
   "execution_count": 2,
   "metadata": {
    "collapsed": true
   },
   "outputs": [],
   "source": [
    "EE_PATH = \"projects/WRI-Aquaduct/PCRGlobWB20V07\"\n",
    "\n",
    "SCRIPT_NAME = \"Y2017M12D06_RH_Conservative_Basin_Sinks_EE_V01\"\n",
    "\n",
    "OUTPUT_VERSION = 4\n",
    "\n",
    "TESTING =0\n",
    "\n",
    "CRS = \"EPSG:4326\"\n",
    "\n",
    "DIMENSION5MIN = \"4320x2160\"\n"
   ]
  },
  {
   "cell_type": "code",
   "execution_count": 3,
   "metadata": {
    "collapsed": true
   },
   "outputs": [],
   "source": [
    "import ee\n",
    "import logging"
   ]
  },
  {
   "cell_type": "code",
   "execution_count": 4,
   "metadata": {
    "collapsed": true
   },
   "outputs": [],
   "source": [
    "ee.Initialize()"
   ]
  },
  {
   "cell_type": "code",
   "execution_count": 5,
   "metadata": {
    "collapsed": true
   },
   "outputs": [],
   "source": [
    "logger = logging.getLogger(__name__)\n",
    "logger.setLevel(logging.DEBUG)\n",
    "formatter = logging.Formatter('%(asctime)s:%(levelname)s:%(message)s')\n",
    "file_handler = logging.FileHandler(\"./logs/%sV%0.2d.log\" %(SCRIPT_NAME,OUTPUT_VERSION))\n",
    "file_handler.setFormatter(formatter)\n",
    "logger.addHandler(file_handler)"
   ]
  },
  {
   "cell_type": "code",
   "execution_count": 6,
   "metadata": {
    "collapsed": true
   },
   "outputs": [],
   "source": [
    "crsTransform = [\n",
    "                0.0833333309780367,\n",
    "                0,\n",
    "                -179.99999491255934,\n",
    "                0,\n",
    "                -0.0833333309780367,\n",
    "                90.00000254430942\n",
    "              ]"
   ]
  },
  {
   "cell_type": "code",
   "execution_count": 7,
   "metadata": {
    "collapsed": true
   },
   "outputs": [],
   "source": [
    "geometry = ee.Geometry.Polygon(coords=[[-180.0, -90.0], [180,  -90.0], [180, 90], [-180,90]], proj= ee.Projection('EPSG:4326'),geodesic=False )\n",
    "\n",
    "if TESTING ==1:\n",
    "    geometry = ee.Geometry.Polygon(coords=[[-10.0, -10.0], [10,  -10.0], [10, 10], [-10,10]], proj= ee.Projection('EPSG:4326'),geodesic=False )"
   ]
  },
  {
   "cell_type": "code",
   "execution_count": 8,
   "metadata": {
    "collapsed": true
   },
   "outputs": [],
   "source": [
    "zones = ee.Image(\"projects/WRI-Aquaduct/PCRGlobWB20V07/hybas_lev06_v1c_merged_fiona_30s_V01\")\n",
    "FA5min = ee.Image(\"projects/WRI-Aquaduct/PCRGlobWB20V07/accumulateddrainagearea_05min_km2\")\n",
    "ldd5min = ee.Image(\"projects/WRI-Aquaduct/PCRGlobWB20V07/lddsound_05min_numpad\")"
   ]
  },
  {
   "cell_type": "code",
   "execution_count": 9,
   "metadata": {
    "collapsed": true
   },
   "outputs": [],
   "source": [
    "scale5min = FA5min.projection().nominalScale().getInfo()"
   ]
  },
  {
   "cell_type": "markdown",
   "metadata": {},
   "source": [
    "Steps \n",
    "\n",
    "1. use mode to resample hydrobasins to 5min  \n",
    "1. find maximum FA per basin (grouped zonal stats)  \n",
    "1. mask maximum FA per basin  \n",
    "1. add coastal and endorheac basins  \n",
    "1. find maximum FA per basin after masked  \n",
    "1. mask discharge using 4)+coastal/endo and perform zonal stats again. \n",
    "\n",
    "\n",
    "\n"
   ]
  },
  {
   "cell_type": "code",
   "execution_count": 10,
   "metadata": {
    "collapsed": true
   },
   "outputs": [],
   "source": [
    "zones_5min_mode = zones.reduceResolution(\n",
    "      reducer = ee.Reducer.mode(),\n",
    "      maxPixels =  1024\n",
    "    ).reproject(\n",
    "      crs =   FA5min.projection()\n",
    "    );\n",
    "    \n",
    "zones_5min_mode = zones_5min_mode.toInt64()    "
   ]
  },
  {
   "cell_type": "code",
   "execution_count": 11,
   "metadata": {
    "collapsed": true
   },
   "outputs": [],
   "source": [
    "def ensure_default_properties(obj): \n",
    "    obj = ee.Dictionary(obj)\n",
    "    default_properties = ee.Dictionary({\"mean\": -9999,\"count\": -9999,\"max\":-9999})\n",
    "    return default_properties.combine(obj)\n",
    "\n",
    "def mapList(results, key):\n",
    "    newResult = results.map(lambda x: ee.Dictionary(x).get(key))\n",
    "    return newResult\n",
    "\n",
    "\n",
    "def zonalStatsToImage(valueImage,zoneImage,geometry,reducer,scale):   \n",
    "    # image with band1 = values, band2 = zones   \n",
    "    totalImage = ee.Image(valueImage).addBands(ee.Image(zoneImage))\n",
    "    resultsList = ee.List(\n",
    "      ee.Image(totalImage).reduceRegion(\n",
    "        geometry= geometry,\n",
    "        reducer= reducer,\n",
    "        scale= scale,\n",
    "        maxPixels=1e10\n",
    "      ).get(\"groups\")\n",
    "    )\n",
    "    resultsList = resultsList.map(ensure_default_properties)\n",
    "    zoneList = mapList(resultsList, 'zones')\n",
    "    \n",
    "    maxList = mapList(resultsList,\"max\")\n",
    "    maxImage = ee.Image(zoneImage).remap(zoneList, maxList)\n",
    "    maxImage = ee.Image(maxImage).select([\"remapped\"],[\"max\"])\n",
    "    \n",
    "    countList = mapList(resultsList,\"count\")\n",
    "    countImage = ee.Image(zoneImage).remap(zoneList, countList)\n",
    "    countImage = ee.Image(countImage).select([\"remapped\"],[\"count\"])\n",
    "    \n",
    "    resultImage = zoneImage.addBands(countImage) .addBands(maxImage) \n",
    "    resultImage = resultImage.copyProperties(valueImage)    \n",
    "        \n",
    "    properties = {\"script_used\":SCRIPT_NAME,\n",
    "                  \"output_version\":OUTPUT_VERSION,\n",
    "                  \"reducer\":\"max_and_count\",\n",
    "                  }\n",
    "    \n",
    "    resultImage = resultImage.set(properties)    \n",
    "    return ee.Image(resultImage)\n"
   ]
  },
  {
   "cell_type": "code",
   "execution_count": 12,
   "metadata": {
    "collapsed": true
   },
   "outputs": [],
   "source": [
    "reducer = ee.Reducer.max().combine(reducer2= ee.Reducer.count(), sharedInputs= True).group(groupField=1, groupName= \"zones\")"
   ]
  },
  {
   "cell_type": "code",
   "execution_count": 13,
   "metadata": {
    "collapsed": true
   },
   "outputs": [],
   "source": [
    "maxFA = zonalStatsToImage(FA5min,zones_5min_mode,geometry,reducer,scale5min).select([\"max\"])"
   ]
  },
  {
   "cell_type": "markdown",
   "metadata": {},
   "source": [
    "This step will mask out the cells of FA5min = maxFA but include the pixels that are sinks"
   ]
  },
  {
   "cell_type": "code",
   "execution_count": 14,
   "metadata": {
    "collapsed": true
   },
   "outputs": [],
   "source": [
    "FAmask = (maxFA.eq(FA5min).subtract(ldd5min.eq(5))).neq(1)"
   ]
  },
  {
   "cell_type": "code",
   "execution_count": 15,
   "metadata": {
    "collapsed": true
   },
   "outputs": [],
   "source": [
    "FAMasked = FA5min.mask(FAmask)"
   ]
  },
  {
   "cell_type": "code",
   "execution_count": 16,
   "metadata": {
    "collapsed": true
   },
   "outputs": [],
   "source": [
    "maxFAMasked = zonalStatsToImage(FAMasked,zones_5min_mode,geometry,reducer,scale5min).select([\"max\"])\n"
   ]
  },
  {
   "cell_type": "markdown",
   "metadata": {
    "collapsed": true
   },
   "source": [
    "The final step will create a boolean raster with all cells that are used to find the available discherge per basins. Non-Endo basins will have 1 pixel whereas endo basins will have multiple. "
   ]
  },
  {
   "cell_type": "code",
   "execution_count": 17,
   "metadata": {
    "collapsed": true
   },
   "outputs": [],
   "source": [
    "QSearchMask = (maxFAMasked.eq(FA5min).add(ldd5min.eq(5)))"
   ]
  },
  {
   "cell_type": "markdown",
   "metadata": {},
   "source": [
    "Create an image with three bands: zones (mode 5min), globalMaxFA, SearchMask"
   ]
  },
  {
   "cell_type": "code",
   "execution_count": 18,
   "metadata": {
    "collapsed": true
   },
   "outputs": [],
   "source": [
    "imageOut = zones_5min_mode.addBands(maxFAMasked).addBands(QSearchMask)"
   ]
  },
  {
   "cell_type": "code",
   "execution_count": 19,
   "metadata": {
    "collapsed": true
   },
   "outputs": [],
   "source": [
    "imageOut = imageOut.select([u'b1', u'max', u'max_1'],[\"zones_mode_pfaf6\",\"masked_max_fa\",\"q_search_mask\"])"
   ]
  },
  {
   "cell_type": "code",
   "execution_count": 20,
   "metadata": {
    "collapsed": true
   },
   "outputs": [],
   "source": [
    "properties = {\"created_by\":\"Rutger Hofste\",\n",
    "             \"script_used\":SCRIPT_NAME,\n",
    "             \"version\":OUTPUT_VERSION,\n",
    "             \"resolution\":\"5min\",\n",
    "             \"units\": \"pfaf_id, km2, boolean\",\n",
    "             \"description\":\"image with three bands. 1 containing the resampled zones, 2 with the maximum flow accumulation at 5min after masked and 3 search mask for discharge\"}"
   ]
  },
  {
   "cell_type": "code",
   "execution_count": 21,
   "metadata": {
    "collapsed": true
   },
   "outputs": [],
   "source": [
    "imageOut = imageOut.set(properties)\n"
   ]
  },
  {
   "cell_type": "code",
   "execution_count": 22,
   "metadata": {
    "collapsed": true
   },
   "outputs": [],
   "source": [
    "task = ee.batch.Export.image.toAsset(\n",
    "    image =  ee.Image(imageOut),\n",
    "    description = SCRIPT_NAME,\n",
    "    assetId = EE_PATH + \"/\" +SCRIPT_NAME,\n",
    "    dimensions = DIMENSION5MIN,\n",
    "    crs = CRS,    \n",
    "    crsTransform = crsTransform,\n",
    "    maxPixels = 1e10    \n",
    ")\n",
    "task.start() "
   ]
  }
 ],
 "metadata": {
  "kernelspec": {
   "display_name": "Python 27",
   "language": "python",
   "name": "python27"
  },
  "language_info": {
   "codemirror_mode": {
    "name": "ipython",
    "version": 2
   },
   "file_extension": ".py",
   "mimetype": "text/x-python",
   "name": "python",
   "nbconvert_exporter": "python",
   "pygments_lexer": "ipython2",
   "version": "2.7.14"
  }
 },
 "nbformat": 4,
 "nbformat_minor": 2
}
