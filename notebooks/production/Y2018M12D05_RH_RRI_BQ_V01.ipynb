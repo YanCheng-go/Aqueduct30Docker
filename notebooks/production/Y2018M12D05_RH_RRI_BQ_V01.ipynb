{
 "cells": [
  {
   "cell_type": "code",
   "execution_count": 1,
   "metadata": {},
   "outputs": [
    {
     "name": "stdout",
     "output_type": "stream",
     "text": [
      "S3_INPUT_PATH:  s3://wri-projects/Aqueduct30/finalData/RepRisk \n",
      "ec2_input_path:  /volumes/data/Y2018M12D05_RH_RRI_BQ_V01/input_V01 \n",
      "ec2_output_path:  /volumes/data/Y2018M12D05_RH_RRI_BQ_V01/output_V01 \n",
      "BQ_OUTPUT_DATASET_NAME:  aqueduct30v01 \n",
      "BQ_OUTPUT_TABLE_NAME:  y2018m12d05_rh_rri_bq_v01_v01\n"
     ]
    }
   ],
   "source": [
    "\"\"\" Process reprisk index and store on BigQuery.\n",
    "-------------------------------------------------------------------------------\n",
    "\n",
    "Author: Rutger Hofste\n",
    "Date: 20181205\n",
    "Kernel: python35\n",
    "Docker: rutgerhofste/gisdocker:ubuntu16.04\n",
    "\n",
    "\"\"\"\n",
    "\n",
    "SCRIPT_NAME = \"Y2018M12D05_RH_RRI_BQ_V01\"\n",
    "OUTPUT_VERSION = 1\n",
    "\n",
    "NODATA_VALUE = -9999\n",
    "\n",
    "S3_INPUT_PATH = \"s3://wri-projects/Aqueduct30/finalData/RepRisk\"\n",
    "INPUT_FILE_NAME = \"rri_results.csv\"\n",
    "\n",
    "BQ_PROJECT_ID = \"aqueduct30\"\n",
    "BQ_OUTPUT_DATASET_NAME = \"aqueduct30v01\"\n",
    "BQ_OUTPUT_TABLE_NAME = \"{}_v{:02.0f}\".format(SCRIPT_NAME,OUTPUT_VERSION).lower()\n",
    "\n",
    "ec2_input_path = \"/volumes/data/{}/input_V{:02.0f}\".format(SCRIPT_NAME,OUTPUT_VERSION) \n",
    "ec2_output_path = \"/volumes/data/{}/output_V{:02.0f}\".format(SCRIPT_NAME,OUTPUT_VERSION) \n",
    "\n",
    "print(\"S3_INPUT_PATH: \",S3_INPUT_PATH,\n",
    "      \"\\nec2_input_path: \",ec2_input_path,\n",
    "      \"\\nec2_output_path: \",ec2_output_path,\n",
    "      \"\\nBQ_OUTPUT_DATASET_NAME: \", BQ_OUTPUT_DATASET_NAME,\n",
    "      \"\\nBQ_OUTPUT_TABLE_NAME: \",BQ_OUTPUT_TABLE_NAME\n",
    "      )"
   ]
  },
  {
   "cell_type": "code",
   "execution_count": 2,
   "metadata": {},
   "outputs": [
    {
     "name": "stdout",
     "output_type": "stream",
     "text": [
      "Y2018M12D06 UTC 09:44\n"
     ]
    },
    {
     "data": {
      "text/plain": [
       "'3.5.4 |Anaconda, Inc.| (default, Nov 20 2017, 18:44:38) \\n[GCC 7.2.0]'"
      ]
     },
     "execution_count": 2,
     "metadata": {},
     "output_type": "execute_result"
    }
   ],
   "source": [
    "import time, datetime, sys\n",
    "dateString = time.strftime(\"Y%YM%mD%d\")\n",
    "timeString = time.strftime(\"UTC %H:%M\")\n",
    "start = datetime.datetime.now()\n",
    "print(dateString,timeString)\n",
    "sys.version"
   ]
  },
  {
   "cell_type": "code",
   "execution_count": 3,
   "metadata": {
    "collapsed": true
   },
   "outputs": [],
   "source": [
    "!rm -r {ec2_input_path}\n",
    "!rm -r {ec2_output_path}\n",
    "!mkdir -p {ec2_input_path}\n",
    "!mkdir -p {ec2_output_path}"
   ]
  },
  {
   "cell_type": "code",
   "execution_count": 4,
   "metadata": {},
   "outputs": [
    {
     "name": "stdout",
     "output_type": "stream",
     "text": [
      "download: s3://wri-projects/Aqueduct30/finalData/RepRisk/rri_results.CPG to ../../../../data/Y2018M12D05_RH_RRI_BQ_V01/input_V01/rri_results.CPG\n",
      "download: s3://wri-projects/Aqueduct30/finalData/RepRisk/rri_results.csv to ../../../../data/Y2018M12D05_RH_RRI_BQ_V01/input_V01/rri_results.csv\n",
      "download: s3://wri-projects/Aqueduct30/finalData/RepRisk/README.txt to ../../../../data/Y2018M12D05_RH_RRI_BQ_V01/input_V01/README.txt\n",
      "download: s3://wri-projects/Aqueduct30/finalData/RepRisk/rri_results.prj to ../../../../data/Y2018M12D05_RH_RRI_BQ_V01/input_V01/rri_results.prj\n",
      "download: s3://wri-projects/Aqueduct30/finalData/RepRisk/rri_results.sbx to ../../../../data/Y2018M12D05_RH_RRI_BQ_V01/input_V01/rri_results.sbx\n",
      "download: s3://wri-projects/Aqueduct30/finalData/RepRisk/rri_results.sbn to ../../../../data/Y2018M12D05_RH_RRI_BQ_V01/input_V01/rri_results.sbn\n",
      "download: s3://wri-projects/Aqueduct30/finalData/RepRisk/rri_results.shx to ../../../../data/Y2018M12D05_RH_RRI_BQ_V01/input_V01/rri_results.shx\n",
      "download: s3://wri-projects/Aqueduct30/finalData/RepRisk/rri_results.shp.xml to ../../../../data/Y2018M12D05_RH_RRI_BQ_V01/input_V01/rri_results.shp.xml\n",
      "download: s3://wri-projects/Aqueduct30/finalData/RepRisk/wri_aqueduct3_reprisk.py to ../../../../data/Y2018M12D05_RH_RRI_BQ_V01/input_V01/wri_aqueduct3_reprisk.py\n",
      "download: s3://wri-projects/Aqueduct30/finalData/RepRisk/rri_results.dbf to ../../../../data/Y2018M12D05_RH_RRI_BQ_V01/input_V01/rri_results.dbf\n",
      "download: s3://wri-projects/Aqueduct30/finalData/RepRisk/rri_results.shp to ../../../../data/Y2018M12D05_RH_RRI_BQ_V01/input_V01/rri_results.shp\n"
     ]
    }
   ],
   "source": [
    "!aws s3 cp {S3_INPUT_PATH} {ec2_input_path} --recursive "
   ]
  },
  {
   "cell_type": "code",
   "execution_count": 5,
   "metadata": {
    "collapsed": true
   },
   "outputs": [],
   "source": [
    "import os\n",
    "import pandas as pd\n",
    "import numpy as np\n",
    "from google.cloud import bigquery\n",
    "\n",
    "os.environ[\"GOOGLE_APPLICATION_CREDENTIALS\"] = \"/.google.json\"\n",
    "os.environ[\"GOOGLE_CLOUD_PROJECT\"] = \"aqueduct30\"\n",
    "client = bigquery.Client(project=BQ_PROJECT_ID)"
   ]
  },
  {
   "cell_type": "code",
   "execution_count": 6,
   "metadata": {
    "collapsed": true
   },
   "outputs": [],
   "source": [
    "files = os.listdir(ec2_input_path)"
   ]
  },
  {
   "cell_type": "code",
   "execution_count": 7,
   "metadata": {
    "collapsed": true
   },
   "outputs": [],
   "source": [
    "input_path = \"{}/{}\".format(ec2_input_path,INPUT_FILE_NAME)"
   ]
  },
  {
   "cell_type": "code",
   "execution_count": 8,
   "metadata": {
    "collapsed": true
   },
   "outputs": [],
   "source": [
    "df = pd.read_csv(input_path)"
   ]
  },
  {
   "cell_type": "code",
   "execution_count": 9,
   "metadata": {},
   "outputs": [
    {
     "data": {
      "text/plain": [
       "ADM0_A3     object\n",
       "RRI_raw      int64\n",
       "RRI_s      float64\n",
       "RRI_cat     object\n",
       "dtype: object"
      ]
     },
     "execution_count": 9,
     "metadata": {},
     "output_type": "execute_result"
    }
   ],
   "source": [
    "df.dtypes"
   ]
  },
  {
   "cell_type": "code",
   "execution_count": 10,
   "metadata": {},
   "outputs": [
    {
     "data": {
      "text/html": [
       "<div>\n",
       "<style scoped>\n",
       "    .dataframe tbody tr th:only-of-type {\n",
       "        vertical-align: middle;\n",
       "    }\n",
       "\n",
       "    .dataframe tbody tr th {\n",
       "        vertical-align: top;\n",
       "    }\n",
       "\n",
       "    .dataframe thead th {\n",
       "        text-align: right;\n",
       "    }\n",
       "</style>\n",
       "<table border=\"1\" class=\"dataframe\">\n",
       "  <thead>\n",
       "    <tr style=\"text-align: right;\">\n",
       "      <th></th>\n",
       "      <th>ADM0_A3</th>\n",
       "      <th>RRI_raw</th>\n",
       "      <th>RRI_s</th>\n",
       "      <th>RRI_cat</th>\n",
       "    </tr>\n",
       "  </thead>\n",
       "  <tbody>\n",
       "    <tr>\n",
       "      <th>0</th>\n",
       "      <td>ERI</td>\n",
       "      <td>100</td>\n",
       "      <td>5.00</td>\n",
       "      <td>Extremely High (&gt; 75%)</td>\n",
       "    </tr>\n",
       "    <tr>\n",
       "      <th>1</th>\n",
       "      <td>SDS</td>\n",
       "      <td>100</td>\n",
       "      <td>5.00</td>\n",
       "      <td>Extremely High (&gt; 75%)</td>\n",
       "    </tr>\n",
       "    <tr>\n",
       "      <th>2</th>\n",
       "      <td>TCD</td>\n",
       "      <td>98</td>\n",
       "      <td>4.92</td>\n",
       "      <td>Extremely High (&gt; 75%)</td>\n",
       "    </tr>\n",
       "    <tr>\n",
       "      <th>3</th>\n",
       "      <td>GNQ</td>\n",
       "      <td>98</td>\n",
       "      <td>4.92</td>\n",
       "      <td>Extremely High (&gt; 75%)</td>\n",
       "    </tr>\n",
       "    <tr>\n",
       "      <th>4</th>\n",
       "      <td>CAF</td>\n",
       "      <td>96</td>\n",
       "      <td>4.84</td>\n",
       "      <td>Extremely High (&gt; 75%)</td>\n",
       "    </tr>\n",
       "  </tbody>\n",
       "</table>\n",
       "</div>"
      ],
      "text/plain": [
       "  ADM0_A3  RRI_raw  RRI_s                 RRI_cat\n",
       "0     ERI      100   5.00  Extremely High (> 75%)\n",
       "1     SDS      100   5.00  Extremely High (> 75%)\n",
       "2     TCD       98   4.92  Extremely High (> 75%)\n",
       "3     GNQ       98   4.92  Extremely High (> 75%)\n",
       "4     CAF       96   4.84  Extremely High (> 75%)"
      ]
     },
     "execution_count": 10,
     "metadata": {},
     "output_type": "execute_result"
    }
   ],
   "source": [
    "df.head()"
   ]
  },
  {
   "cell_type": "code",
   "execution_count": 11,
   "metadata": {
    "collapsed": true
   },
   "outputs": [],
   "source": [
    "# RRI -> RRI\n",
    "\n",
    "\n",
    "# raw -> raw.\n",
    "# s -> score.\n",
    "# None -> cat.\n",
    "# cat -> label. "
   ]
  },
  {
   "cell_type": "code",
   "execution_count": 12,
   "metadata": {
    "collapsed": true
   },
   "outputs": [],
   "source": [
    "df_out = df.rename(columns={\"ADM0_A3\":\"adm0_a3\",\n",
    "                            \"RRI_raw\":\"rri_raw\",\n",
    "                            \"RRI_s\":\"rri_score\",\n",
    "                            \"RRI_cat\":\"rri_label\"})"
   ]
  },
  {
   "cell_type": "code",
   "execution_count": 13,
   "metadata": {
    "collapsed": true
   },
   "outputs": [],
   "source": [
    "df_out[\"rri_raw\"] = df_out[\"rri_raw\"].fillna(NODATA_VALUE)\n",
    "df_out[\"rri_score\"] = df_out[\"rri_score\"].fillna(NODATA_VALUE)\n",
    "df_out[\"rri_label\"] = df_out[\"rri_label\"].fillna(\"No Data\")"
   ]
  },
  {
   "cell_type": "code",
   "execution_count": 14,
   "metadata": {
    "collapsed": true
   },
   "outputs": [],
   "source": [
    "def score_to_category(score):\n",
    "    if score != 5:\n",
    "        cat = int(np.floor(score))\n",
    "    else:\n",
    "        cat = 4\n",
    "    return cat"
   ]
  },
  {
   "cell_type": "code",
   "execution_count": 15,
   "metadata": {
    "collapsed": true
   },
   "outputs": [],
   "source": [
    "df_out[\"rri_cat\"] = df_out[\"rri_score\"].apply(score_to_category)"
   ]
  },
  {
   "cell_type": "code",
   "execution_count": 16,
   "metadata": {
    "collapsed": true
   },
   "outputs": [],
   "source": [
    "df_out = df_out.reindex(sorted(df_out.columns), axis=1)"
   ]
  },
  {
   "cell_type": "code",
   "execution_count": 17,
   "metadata": {
    "collapsed": true
   },
   "outputs": [],
   "source": [
    "destination_table = \"{}.{}\".format(BQ_OUTPUT_DATASET_NAME,BQ_OUTPUT_TABLE_NAME)"
   ]
  },
  {
   "cell_type": "code",
   "execution_count": 18,
   "metadata": {},
   "outputs": [
    {
     "name": "stderr",
     "output_type": "stream",
     "text": [
      "1it [00:05,  5.02s/it]\n"
     ]
    }
   ],
   "source": [
    "df_out.to_gbq(destination_table=destination_table,\n",
    "          project_id=BQ_PROJECT_ID,\n",
    "          chunksize=10000,\n",
    "          if_exists=\"replace\")"
   ]
  },
  {
   "cell_type": "code",
   "execution_count": 19,
   "metadata": {},
   "outputs": [
    {
     "name": "stdout",
     "output_type": "stream",
     "text": [
      "0:00:14.968917\n"
     ]
    }
   ],
   "source": [
    "end = datetime.datetime.now()\n",
    "elapsed = end - start\n",
    "print(elapsed)"
   ]
  },
  {
   "cell_type": "markdown",
   "metadata": {},
   "source": [
    "Previous runs:   \n",
    "0:00:13.546827\n"
   ]
  },
  {
   "cell_type": "code",
   "execution_count": null,
   "metadata": {
    "collapsed": true
   },
   "outputs": [],
   "source": []
  }
 ],
 "metadata": {
  "kernelspec": {
   "display_name": "Python 35",
   "language": "python",
   "name": "python35"
  },
  "language_info": {
   "codemirror_mode": {
    "name": "ipython",
    "version": 3
   },
   "file_extension": ".py",
   "mimetype": "text/x-python",
   "name": "python",
   "nbconvert_exporter": "python",
   "pygments_lexer": "ipython3",
   "version": "3.5.4"
  }
 },
 "nbformat": 4,
 "nbformat_minor": 2
}
