{
 "cells": [
  {
   "cell_type": "markdown",
   "metadata": {},
   "source": [
    "# Calculate average PCRGlobWB supply using EE\n",
    "\n",
    "* Purpose of script: This script will calculate baseline supply based on runoff for 1960-2014 at 5min resolution\n",
    "* Author: Rutger Hofste\n",
    "* Kernel used: python27\n",
    "* Date created: 20170830"
   ]
  },
  {
   "cell_type": "code",
   "execution_count": 1,
   "metadata": {},
   "outputs": [
    {
     "name": "stdout",
     "output_type": "stream",
     "text": [
      "('Y2017M10D03', 'UTC 16:44')\n"
     ]
    }
   ],
   "source": [
    "import time\n",
    "dateString = time.strftime(\"Y%YM%mD%d\")\n",
    "timeString = time.strftime(\"UTC %H:%M\")\n",
    "print(dateString,timeString)"
   ]
  },
  {
   "cell_type": "code",
   "execution_count": 2,
   "metadata": {
    "collapsed": true
   },
   "outputs": [],
   "source": [
    "import os\n",
    "import ee\n",
    "import subprocess\n",
    "from pprint import *\n",
    "from itertools import chain"
   ]
  },
  {
   "cell_type": "code",
   "execution_count": 3,
   "metadata": {
    "collapsed": true
   },
   "outputs": [],
   "source": [
    "ee.Initialize()"
   ]
  },
  {
   "cell_type": "code",
   "execution_count": 4,
   "metadata": {
    "collapsed": true
   },
   "outputs": [],
   "source": [
    "EE_INPUT_PATH = \"projects/WRI-Aquaduct/PCRGlobWB20V07/\"\n",
    "\n",
    "# Unfortunately specifying the dimensions caused the script to crash (internal error on Google's side) Specify scale instead.\n",
    "\n",
    "DIMENSION5MIN = {}\n",
    "DIMENSION5MIN[\"x\"] = 4320\n",
    "DIMENSION5MIN[\"y\"] = 2160\n",
    "\n",
    "INPUT_FILE_NAME_ANNUAL = \"global_historical_runoff_year_myear_5min_1958_2014\"\n",
    "INPUT_FILE_NAME_MONTH = \"global_historical_runoff_month_mmonth_5min_1958_2014\"\n",
    "\n",
    "EE_IC_NAME_ANNUAL =  \"global_historical_reducedmeanrunoff_year_myear_5min_Y1960_Y2014\"\n",
    "EE_IC_NAME_MONTH =   \"global_historical_reducedmeanrunoff_month_mmonth_5min_Y1960_Y2014\"\n",
    "\n",
    "EE_I_NAME_ANNUAL = EE_IC_NAME_ANNUAL\n",
    "EE_I_NAME_MONTH = EE_IC_NAME_MONTH\n",
    "\n",
    "YEAR_MIN = 1960\n",
    "YEAR_MAX = 2014\n",
    "\n",
    "ANNUAL_UNITS = \"m/year\"\n",
    "MONTHLY_UNITS = \"m/month\"\n",
    "\n",
    "ANNUAL_EXPORTDESCRIPTION = \"reducedmeanrunoff_year\" #final format reducedmeanrunoff_yearY1960Y2014\n",
    "MONTHLY_EXPORTDESCRIPTION = \"reducedmeanrunoff_month\" #final format reducedmeanrunoff_monthY1960Y2014M01\n",
    "VERSION = 21\n",
    "\n",
    "MAXPIXELS =1e10"
   ]
  },
  {
   "cell_type": "markdown",
   "metadata": {},
   "source": [
    "The Standardized format to store assets on Earth Engine is EE_INPUT_PATH / EE_IC_NAME / EE_I_NAME and every image should have the property expertdescription that would allow to export the data to a table header. "
   ]
  },
  {
   "cell_type": "code",
   "execution_count": 5,
   "metadata": {
    "collapsed": true
   },
   "outputs": [],
   "source": [
    "dimensions = \"%sx%s\" %(DIMENSION5MIN[\"x\"],DIMENSION5MIN[\"y\"])"
   ]
  },
  {
   "cell_type": "code",
   "execution_count": 6,
   "metadata": {},
   "outputs": [
    {
     "name": "stdout",
     "output_type": "stream",
     "text": [
      "4320x2160\n"
     ]
    }
   ],
   "source": [
    "print(dimensions)"
   ]
  },
  {
   "cell_type": "code",
   "execution_count": 7,
   "metadata": {
    "collapsed": true
   },
   "outputs": [],
   "source": [
    "sampleImage = ee.Image(ee.ImageCollection(os.path.join(EE_INPUT_PATH,INPUT_FILE_NAME_ANNUAL)).first())"
   ]
  },
  {
   "cell_type": "code",
   "execution_count": 8,
   "metadata": {
    "collapsed": true
   },
   "outputs": [],
   "source": [
    "projection = sampleImage.projection().getInfo()"
   ]
  },
  {
   "cell_type": "code",
   "execution_count": 9,
   "metadata": {
    "collapsed": true
   },
   "outputs": [],
   "source": [
    "crs = sampleImage.projection().crs().getInfo()"
   ]
  },
  {
   "cell_type": "markdown",
   "metadata": {},
   "source": [
    "posted question in EE dev forum. Apparently it is easier to print the tranform in Javascipt and paste it into this script. "
   ]
  },
  {
   "cell_type": "code",
   "execution_count": 10,
   "metadata": {
    "collapsed": true
   },
   "outputs": [],
   "source": [
    "crsTransform = [\n",
    "                0.0833333309780367,\n",
    "                0,\n",
    "                -179.99999491255934,\n",
    "                0,\n",
    "                -0.0833333309780367,\n",
    "                90.00000254430942\n",
    "              ]"
   ]
  },
  {
   "cell_type": "code",
   "execution_count": 11,
   "metadata": {
    "collapsed": true
   },
   "outputs": [],
   "source": [
    "scale = ee.Image(ee.ImageCollection(os.path.join(EE_INPUT_PATH,INPUT_FILE_NAME_ANNUAL)).first()).projection().nominalScale().getInfo()"
   ]
  },
  {
   "cell_type": "code",
   "execution_count": 12,
   "metadata": {
    "collapsed": true
   },
   "outputs": [],
   "source": [
    "def geometryFromProj(projection,dimensions):\n",
    "    coords = {}\n",
    "    coords[\"xmin\"]=projection[\"transform\"][2]\n",
    "    coords[\"xmax\"]=projection[\"transform\"][2]+dimensions[\"x\"]*projection[\"transform\"][0]\n",
    "    coords[\"ymin\"]=projection[\"transform\"][5]+dimensions[\"y\"]*projection[\"transform\"][4]\n",
    "    coords[\"ymax\"]=projection[\"transform\"][5]\n",
    "    geometry = ee.Geometry.Polygon(coords=[[coords[\"xmin\"], coords[\"ymin\"]], \n",
    "                                           [coords[\"xmax\"], coords[\"ymin\"]],\n",
    "                                           [coords[\"xmax\"], coords[\"ymax\"]],\n",
    "                                           [coords[\"xmin\"], coords[\"ymax\"]]],\n",
    "                                            proj= ee.Projection('EPSG:4326'),geodesic=False )\n",
    "    return geometry\n",
    "\n",
    "def reduceMean(ic,yearMin,yearMax):\n",
    "    dateFilterMin = ee.Filter.gte(\"year\",yearMin)\n",
    "    dateFilterMax = ee.Filter.lte(\"year\",yearMax)\n",
    "    filteredIc = ee.ImageCollection(ic.filter(dateFilterMin).filter(dateFilterMax))\n",
    "    reducedImage = ee.Image(filteredIc.reduce(ee.Reducer.mean()))\n",
    "    return reducedImage\n",
    "\n",
    "def exportToAsset(image,description,assetId,dimensions,region,maxPixels):\n",
    "    #print(image.propertyNames().getInfo())\n",
    "    task = ee.batch.Export.image.toAsset(\n",
    "        image =  image,\n",
    "        description = description,\n",
    "        assetId = assetId,\n",
    "        dimensions = dimensions,\n",
    "        #scale = scale,\n",
    "        crs = crs,\n",
    "        crsTransform = crsTransform,\n",
    "        #region = geometry.bounds().getInfo()['coordinates'][0],\n",
    "        maxPixels = maxPixels\n",
    "    )\n",
    "    #print(assetId)\n",
    "    task.start()\n",
    "    return 1\n",
    "\n",
    "def addValidProperties(image,d):\n",
    "    nestedNewDict = {}\n",
    "    #remove non string or real properties\n",
    "    for nestedKey, nestedValue in d.iteritems():\n",
    "        if isinstance(nestedValue,str) or isinstance(nestedValue,int):\n",
    "            nestedNewDict[nestedKey] = nestedValue\n",
    "        else:\n",
    "            pass\n",
    "            #print(\"removing property: \",nestedKey )\n",
    "    image = ee.Image(image).set(nestedNewDict)\n",
    "    return image\n",
    "\n",
    "def createImageCollections(d):\n",
    "    command = (\"earthengine create collection %s%s\") %(EE_INPUT_PATH,d[\"ic_name\"])\n",
    "    response = subprocess.check_output(command,shell=True)\n",
    "    print(response)\n",
    "    \n",
    "    "
   ]
  },
  {
   "cell_type": "code",
   "execution_count": 13,
   "metadata": {
    "collapsed": true
   },
   "outputs": [],
   "source": [
    "geometry = geometryFromProj(projection,DIMENSION5MIN)"
   ]
  },
  {
   "cell_type": "code",
   "execution_count": 14,
   "metadata": {
    "collapsed": true
   },
   "outputs": [],
   "source": [
    "d = {}"
   ]
  },
  {
   "cell_type": "code",
   "execution_count": 15,
   "metadata": {
    "collapsed": true
   },
   "outputs": [],
   "source": [
    "commonProperties = {\"rangeMin\":YEAR_MIN,\n",
    "                    \"rangeMax\":YEAR_MAX,\n",
    "                    \"creation\":\"RutgerHofste_%s_Python27\" %(dateString),\n",
    "                    \"nodata_value\":-9999,\n",
    "                    \"reducer\":\"mean\",\n",
    "                    \"version\":VERSION,\n",
    "                    \"year\":2014,\n",
    "                    \"year_warning\":\"rangeNotOneYear\",\n",
    "                    \"script_used\":\"Y2017M08D30_RH_Average_Supply_EE_V01\"\n",
    "                   }"
   ]
  },
  {
   "cell_type": "code",
   "execution_count": 16,
   "metadata": {
    "collapsed": true
   },
   "outputs": [],
   "source": [
    "dYearOrig = commonProperties\n",
    "dMonthOrig = commonProperties"
   ]
  },
  {
   "cell_type": "code",
   "execution_count": null,
   "metadata": {
    "collapsed": true
   },
   "outputs": [],
   "source": []
  },
  {
   "cell_type": "code",
   "execution_count": 17,
   "metadata": {
    "collapsed": true
   },
   "outputs": [],
   "source": [
    "dYearExtra = {\"ic\": ee.ImageCollection(os.path.join(EE_INPUT_PATH,INPUT_FILE_NAME_ANNUAL)),\n",
    "                    \"ic_name\": EE_IC_NAME_ANNUAL+\"V%0.2d\" %(VERSION) ,\n",
    "                    \"image_name\": EE_IC_NAME_ANNUAL+\"V%0.2d\" %(VERSION),\n",
    "                    \"temporal_resolution\":\"year\",\n",
    "                    \"units\":ANNUAL_UNITS,\n",
    "                    \"exportdescription\": ANNUAL_EXPORTDESCRIPTION + \"_Y%sY%s\" %(YEAR_MIN,YEAR_MAX),\n",
    "                    \"time_start\": \"%04d-%0.2d-%0.2d\" %(YEAR_MAX,12,1)\n",
    "                    }"
   ]
  },
  {
   "cell_type": "code",
   "execution_count": 18,
   "metadata": {
    "collapsed": true
   },
   "outputs": [],
   "source": [
    "dMonthExtra = {\"ic\": ee.ImageCollection(os.path.join(EE_INPUT_PATH,INPUT_FILE_NAME_MONTH)),\n",
    "                     \"ic_name\": EE_IC_NAME_MONTH +\"V%0.2d\" %(VERSION),\n",
    "                     \"temporal_resolution\":\"month\",\n",
    "                     \"units\":MONTHLY_UNITS,\n",
    "                     \"nodata_value\":-9999,\n",
    "                     # add month , image_name and exportdexription\n",
    "                     }"
   ]
  },
  {
   "cell_type": "markdown",
   "metadata": {},
   "source": [
    "These commands will only work in python 2!"
   ]
  },
  {
   "cell_type": "code",
   "execution_count": 19,
   "metadata": {
    "collapsed": true
   },
   "outputs": [],
   "source": [
    "d[\"year\"] = dict(dYearOrig.items() + dYearExtra.items())"
   ]
  },
  {
   "cell_type": "code",
   "execution_count": 20,
   "metadata": {
    "collapsed": true
   },
   "outputs": [],
   "source": [
    "d[\"month\"] = dict(dMonthOrig.items() + dMonthExtra.items())"
   ]
  },
  {
   "cell_type": "code",
   "execution_count": 21,
   "metadata": {},
   "outputs": [
    {
     "name": "stdout",
     "output_type": "stream",
     "text": [
      "\n",
      "\n"
     ]
    }
   ],
   "source": [
    "for key, value in d.iteritems():\n",
    "    createImageCollections(value)"
   ]
  },
  {
   "cell_type": "code",
   "execution_count": 22,
   "metadata": {
    "collapsed": true
   },
   "outputs": [],
   "source": [
    "newDict = {}\n",
    "for key, value in d.iteritems():\n",
    "    newDict[key] = value\n",
    "    reducedImage = reduceMean(value[\"ic\"],YEAR_MIN,YEAR_MAX)\n",
    "    if value[\"temporal_resolution\"] == \"year\":\n",
    "        reducedImage = reduceMean(value[\"ic\"],value[\"rangeMin\"],newDict[key][\"rangeMax\"])\n",
    "        validImage = addValidProperties(reducedImage,newDict[key])\n",
    "        assetId = EE_INPUT_PATH+newDict[key][\"ic_name\"]+\"/\"+newDict[key][\"image_name\"]\n",
    "        exportToAsset(validImage,newDict[key][\"exportdescription\"]+\"_V%s\"%(newDict[key][\"version\"]),assetId,dimensions,geometry,MAXPIXELS)\n",
    "        \n",
    "    elif value[\"temporal_resolution\"] == \"month\":\n",
    "        for month in range(1,13):\n",
    "            newDict[key][\"month\"] = month\n",
    "            newDict[key][\"image_name\"] = EE_IC_NAME_MONTH +\"M%0.2dV%0.2d\" %(month,VERSION)\n",
    "            newDict[key][\"exportdescription\"] = MONTHLY_EXPORTDESCRIPTION + \"_Y%sY%sM%0.2d\" %(YEAR_MIN,YEAR_MAX,month)\n",
    "            \n",
    "            reducedImage = reduceMean(value[\"ic\"],newDict[key][\"rangeMin\"],newDict[key][\"rangeMax\"])\n",
    "            validImage = addValidProperties(reducedImage,newDict[key])\n",
    "            assetId = EE_INPUT_PATH+newDict[key][\"ic_name\"]+\"/\"+newDict[key][\"image_name\"]\n",
    "            exportToAsset(validImage,value[\"exportdescription\"]+\"V%s\" %(newDict[key][\"version\"]),assetId,dimensions,geometry,MAXPIXELS)            \n",
    "        pass"
   ]
  }
 ],
 "metadata": {
  "kernelspec": {
   "display_name": "Python 27",
   "language": "python",
   "name": "python27"
  },
  "language_info": {
   "codemirror_mode": {
    "name": "ipython",
    "version": 2
   },
   "file_extension": ".py",
   "mimetype": "text/x-python",
   "name": "python",
   "nbconvert_exporter": "python",
   "pygments_lexer": "ipython2",
   "version": "2.7.13"
  }
 },
 "nbformat": 4,
 "nbformat_minor": 2
}
