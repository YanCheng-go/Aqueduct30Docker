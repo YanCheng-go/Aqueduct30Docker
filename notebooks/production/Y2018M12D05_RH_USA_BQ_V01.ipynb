{
 "cells": [
  {
   "cell_type": "code",
   "execution_count": 1,
   "metadata": {},
   "outputs": [
    {
     "name": "stdout",
     "output_type": "stream",
     "text": [
      "S3_INPUT_PATH:  s3://wri-projects/Aqueduct30/finalData/AccessToSanitation \n",
      "ec2_input_path:  /volumes/data/Y2018M12D05_RH_USA_BQ_V01/input_V04 \n",
      "ec2_output_path:  /volumes/data/Y2018M12D05_RH_USA_BQ_V01/output_V04 \n",
      "BQ_OUTPUT_DATASET_NAME:  aqueduct30v01 \n",
      "BQ_OUTPUT_TABLE_NAME:  y2018m12d05_rh_usa_bq_v01_v04\n"
     ]
    }
   ],
   "source": [
    "\"\"\" Process unimproved/no sanitation and store on BigQuery.\n",
    "-------------------------------------------------------------------------------\n",
    "\n",
    "Author: Rutger Hofste\n",
    "Date: 20181205\n",
    "Kernel: python35\n",
    "Docker: rutgerhofste/gisdocker:ubuntu16.04\n",
    "\n",
    "\"\"\"\n",
    "\n",
    "SCRIPT_NAME = \"Y2018M12D05_RH_USA_BQ_V01\"\n",
    "OUTPUT_VERSION = 4\n",
    "\n",
    "NODATA_VALUE = -9999\n",
    "\n",
    "S3_INPUT_PATH = \"s3://wri-projects/Aqueduct30/finalData/AccessToSanitation\"\n",
    "INPUT_FILE_NAME = \"sn_results_basin_v2.csv\"\n",
    "\n",
    "BQ_PROJECT_ID = \"aqueduct30\"\n",
    "BQ_OUTPUT_DATASET_NAME = \"aqueduct30v01\"\n",
    "BQ_OUTPUT_TABLE_NAME = \"{}_v{:02.0f}\".format(SCRIPT_NAME,OUTPUT_VERSION).lower()\n",
    "\n",
    "ec2_input_path = \"/volumes/data/{}/input_V{:02.0f}\".format(SCRIPT_NAME,OUTPUT_VERSION) \n",
    "ec2_output_path = \"/volumes/data/{}/output_V{:02.0f}\".format(SCRIPT_NAME,OUTPUT_VERSION) \n",
    "\n",
    "print(\"S3_INPUT_PATH: \",S3_INPUT_PATH,\n",
    "      \"\\nec2_input_path: \",ec2_input_path,\n",
    "      \"\\nec2_output_path: \",ec2_output_path,\n",
    "      \"\\nBQ_OUTPUT_DATASET_NAME: \", BQ_OUTPUT_DATASET_NAME,\n",
    "      \"\\nBQ_OUTPUT_TABLE_NAME: \",BQ_OUTPUT_TABLE_NAME\n",
    "      )"
   ]
  },
  {
   "cell_type": "code",
   "execution_count": 2,
   "metadata": {},
   "outputs": [
    {
     "name": "stdout",
     "output_type": "stream",
     "text": [
      "Y2019M04D10 UTC 08:40\n"
     ]
    },
    {
     "data": {
      "text/plain": [
       "'3.5.4 |Anaconda, Inc.| (default, Nov 20 2017, 18:44:38) \\n[GCC 7.2.0]'"
      ]
     },
     "execution_count": 2,
     "metadata": {},
     "output_type": "execute_result"
    }
   ],
   "source": [
    "import time, datetime, sys\n",
    "dateString = time.strftime(\"Y%YM%mD%d\")\n",
    "timeString = time.strftime(\"UTC %H:%M\")\n",
    "start = datetime.datetime.now()\n",
    "print(dateString,timeString)\n",
    "sys.version"
   ]
  },
  {
   "cell_type": "code",
   "execution_count": 3,
   "metadata": {},
   "outputs": [],
   "source": [
    "!rm -r {ec2_input_path}\n",
    "!rm -r {ec2_output_path}\n",
    "!mkdir -p {ec2_input_path}\n",
    "!mkdir -p {ec2_output_path}"
   ]
  },
  {
   "cell_type": "code",
   "execution_count": 4,
   "metadata": {},
   "outputs": [
    {
     "name": "stdout",
     "output_type": "stream",
     "text": [
      "download: s3://wri-projects/Aqueduct30/finalData/AccessToSanitation/README.txt to ../../../../data/Y2018M12D05_RH_USA_BQ_V01/input_V04/README.txt\n",
      "download: s3://wri-projects/Aqueduct30/finalData/AccessToSanitation/old/sn_result.CPG to ../../../../data/Y2018M12D05_RH_USA_BQ_V01/input_V04/old/sn_result.CPG\n",
      "download: s3://wri-projects/Aqueduct30/finalData/AccessToSanitation/old/sn_result.shp.xml to ../../../../data/Y2018M12D05_RH_USA_BQ_V01/input_V04/old/sn_result.shp.xml\n",
      "download: s3://wri-projects/Aqueduct30/finalData/AccessToSanitation/old/sn_result.prj to ../../../../data/Y2018M12D05_RH_USA_BQ_V01/input_V04/old/sn_result.prj\n",
      "download: s3://wri-projects/Aqueduct30/finalData/AccessToSanitation/old/sn_result.sbx to ../../../../data/Y2018M12D05_RH_USA_BQ_V01/input_V04/old/sn_result.sbx\n",
      "download: s3://wri-projects/Aqueduct30/finalData/AccessToSanitation/results_201812/sn_results_basin.CPG to ../../../../data/Y2018M12D05_RH_USA_BQ_V01/input_V04/results_201812/sn_results_basin.CPG\n",
      "download: s3://wri-projects/Aqueduct30/finalData/AccessToSanitation/old/sn_result.sbn to ../../../../data/Y2018M12D05_RH_USA_BQ_V01/input_V04/old/sn_result.sbn\n",
      "download: s3://wri-projects/Aqueduct30/finalData/AccessToSanitation/old/sn_result.shx to ../../../../data/Y2018M12D05_RH_USA_BQ_V01/input_V04/old/sn_result.shx\n",
      "download: s3://wri-projects/Aqueduct30/finalData/AccessToSanitation/old/wri_aqueduct3_sanitation.py to ../../../../data/Y2018M12D05_RH_USA_BQ_V01/input_V04/old/wri_aqueduct3_sanitation.py\n",
      "download: s3://wri-projects/Aqueduct30/finalData/AccessToSanitation/results_201812/sn_results_basin.prj to ../../../../data/Y2018M12D05_RH_USA_BQ_V01/input_V04/results_201812/sn_results_basin.prj\n",
      "download: s3://wri-projects/Aqueduct30/finalData/AccessToSanitation/old/sn_results.csv to ../../../../data/Y2018M12D05_RH_USA_BQ_V01/input_V04/old/sn_results.csv\n",
      "download: s3://wri-projects/Aqueduct30/finalData/AccessToSanitation/results_201812/sn_results_basin.csv to ../../../../data/Y2018M12D05_RH_USA_BQ_V01/input_V04/results_201812/sn_results_basin.csv\n",
      "download: s3://wri-projects/Aqueduct30/finalData/AccessToSanitation/results_201812/sn_results_basin.sbn to ../../../../data/Y2018M12D05_RH_USA_BQ_V01/input_V04/results_201812/sn_results_basin.sbn\n",
      "download: s3://wri-projects/Aqueduct30/finalData/AccessToSanitation/results_201812/sn_results_basin.sbx to ../../../../data/Y2018M12D05_RH_USA_BQ_V01/input_V04/results_201812/sn_results_basin.sbx\n",
      "download: s3://wri-projects/Aqueduct30/finalData/AccessToSanitation/old/sn_result.dbf to ../../../../data/Y2018M12D05_RH_USA_BQ_V01/input_V04/old/sn_result.dbf\n",
      "download: s3://wri-projects/Aqueduct30/finalData/AccessToSanitation/results_201812/sn_results_basin.dbf to ../../../../data/Y2018M12D05_RH_USA_BQ_V01/input_V04/results_201812/sn_results_basin.dbf\n",
      "download: s3://wri-projects/Aqueduct30/finalData/AccessToSanitation/results_201812/sn_results_basin.shp.xml to ../../../../data/Y2018M12D05_RH_USA_BQ_V01/input_V04/results_201812/sn_results_basin.shp.xml\n",
      "download: s3://wri-projects/Aqueduct30/finalData/AccessToSanitation/results_201812/sn_results_basin.shx to ../../../../data/Y2018M12D05_RH_USA_BQ_V01/input_V04/results_201812/sn_results_basin.shx\n",
      "download: s3://wri-projects/Aqueduct30/finalData/AccessToSanitation/results_201812/sn_results_country.CPG to ../../../../data/Y2018M12D05_RH_USA_BQ_V01/input_V04/results_201812/sn_results_country.CPG\n",
      "download: s3://wri-projects/Aqueduct30/finalData/AccessToSanitation/results_201812/sn_results_country.csv to ../../../../data/Y2018M12D05_RH_USA_BQ_V01/input_V04/results_201812/sn_results_country.csv\n",
      "download: s3://wri-projects/Aqueduct30/finalData/AccessToSanitation/results_201812/sn_results_country.dbf to ../../../../data/Y2018M12D05_RH_USA_BQ_V01/input_V04/results_201812/sn_results_country.dbf\n",
      "download: s3://wri-projects/Aqueduct30/finalData/AccessToSanitation/results_201812/sn_results_country.prj to ../../../../data/Y2018M12D05_RH_USA_BQ_V01/input_V04/results_201812/sn_results_country.prj\n",
      "download: s3://wri-projects/Aqueduct30/finalData/AccessToSanitation/results_201812/sn_results_country.sbn to ../../../../data/Y2018M12D05_RH_USA_BQ_V01/input_V04/results_201812/sn_results_country.sbn\n",
      "download: s3://wri-projects/Aqueduct30/finalData/AccessToSanitation/results_201812/sn_results_country.sbx to ../../../../data/Y2018M12D05_RH_USA_BQ_V01/input_V04/results_201812/sn_results_country.sbx\n",
      "download: s3://wri-projects/Aqueduct30/finalData/AccessToSanitation/results_201812/sn_results_country.shp.xml to ../../../../data/Y2018M12D05_RH_USA_BQ_V01/input_V04/results_201812/sn_results_country.shp.xml\n",
      "download: s3://wri-projects/Aqueduct30/finalData/AccessToSanitation/results_201812/sn_results_country.shx to ../../../../data/Y2018M12D05_RH_USA_BQ_V01/input_V04/results_201812/sn_results_country.shx\n",
      "download: s3://wri-projects/Aqueduct30/finalData/AccessToSanitation/results_201812/sn_results_state.CPG to ../../../../data/Y2018M12D05_RH_USA_BQ_V01/input_V04/results_201812/sn_results_state.CPG\n",
      "download: s3://wri-projects/Aqueduct30/finalData/AccessToSanitation/results_201812/sn_results_country.shp to ../../../../data/Y2018M12D05_RH_USA_BQ_V01/input_V04/results_201812/sn_results_country.shp\n",
      "download: s3://wri-projects/Aqueduct30/finalData/AccessToSanitation/results_201812/sn_results_state.prj to ../../../../data/Y2018M12D05_RH_USA_BQ_V01/input_V04/results_201812/sn_results_state.prj\n",
      "download: s3://wri-projects/Aqueduct30/finalData/AccessToSanitation/results_201812/sn_results_state.sbn to ../../../../data/Y2018M12D05_RH_USA_BQ_V01/input_V04/results_201812/sn_results_state.sbn\n",
      "download: s3://wri-projects/Aqueduct30/finalData/AccessToSanitation/results_201812/sn_results_state.sbx to ../../../../data/Y2018M12D05_RH_USA_BQ_V01/input_V04/results_201812/sn_results_state.sbx\n",
      "download: s3://wri-projects/Aqueduct30/finalData/AccessToSanitation/results_201812/sn_results_state.dbf to ../../../../data/Y2018M12D05_RH_USA_BQ_V01/input_V04/results_201812/sn_results_state.dbf\n",
      "download: s3://wri-projects/Aqueduct30/finalData/AccessToSanitation/results_201812/sn_results_state.shx to ../../../../data/Y2018M12D05_RH_USA_BQ_V01/input_V04/results_201812/sn_results_state.shx\n",
      "download: s3://wri-projects/Aqueduct30/finalData/AccessToSanitation/results_201812/wri_aqueduct3_sanitation.py to ../../../../data/Y2018M12D05_RH_USA_BQ_V01/input_V04/results_201812/wri_aqueduct3_sanitation.py\n",
      "download: s3://wri-projects/Aqueduct30/finalData/AccessToSanitation/sn_results_basin_v2.csv to ../../../../data/Y2018M12D05_RH_USA_BQ_V01/input_V04/sn_results_basin_v2.csv\n",
      "download: s3://wri-projects/Aqueduct30/finalData/AccessToSanitation/wri_aqueduct3_sanitation_v2.py to ../../../../data/Y2018M12D05_RH_USA_BQ_V01/input_V04/wri_aqueduct3_sanitation_v2.py\n",
      "download: s3://wri-projects/Aqueduct30/finalData/AccessToSanitation/results_201812/sn_results_state.csv to ../../../../data/Y2018M12D05_RH_USA_BQ_V01/input_V04/results_201812/sn_results_state.csv\n",
      "download: s3://wri-projects/Aqueduct30/finalData/AccessToSanitation/old/sn_result.shp to ../../../../data/Y2018M12D05_RH_USA_BQ_V01/input_V04/old/sn_result.shp\n",
      "download: s3://wri-projects/Aqueduct30/finalData/AccessToSanitation/results_201812/sn_results_basin.shp to ../../../../data/Y2018M12D05_RH_USA_BQ_V01/input_V04/results_201812/sn_results_basin.shp\n"
     ]
    }
   ],
   "source": [
    "!aws s3 cp {S3_INPUT_PATH} {ec2_input_path} --recursive "
   ]
  },
  {
   "cell_type": "code",
   "execution_count": 5,
   "metadata": {
    "collapsed": true
   },
   "outputs": [],
   "source": [
    "import os\n",
    "import pandas as pd\n",
    "import numpy as np\n",
    "from google.cloud import bigquery\n",
    "\n",
    "os.environ[\"GOOGLE_APPLICATION_CREDENTIALS\"] = \"/.google.json\"\n",
    "os.environ[\"GOOGLE_CLOUD_PROJECT\"] = \"aqueduct30\"\n",
    "client = bigquery.Client(project=BQ_PROJECT_ID)"
   ]
  },
  {
   "cell_type": "code",
   "execution_count": 6,
   "metadata": {
    "collapsed": true
   },
   "outputs": [],
   "source": [
    "files = os.listdir(ec2_input_path)"
   ]
  },
  {
   "cell_type": "code",
   "execution_count": 7,
   "metadata": {
    "collapsed": true
   },
   "outputs": [],
   "source": [
    "input_path = \"{}/{}\".format(ec2_input_path,INPUT_FILE_NAME)"
   ]
  },
  {
   "cell_type": "code",
   "execution_count": 8,
   "metadata": {
    "collapsed": true
   },
   "outputs": [],
   "source": [
    "df = pd.read_csv(input_path)"
   ]
  },
  {
   "cell_type": "code",
   "execution_count": 9,
   "metadata": {},
   "outputs": [
    {
     "data": {
      "text/plain": [
       "PFAF_ID      int64\n",
       "SN_raw     float64\n",
       "SN_s       float64\n",
       "SN_cat      object\n",
       "dtype: object"
      ]
     },
     "execution_count": 9,
     "metadata": {},
     "output_type": "execute_result"
    }
   ],
   "source": [
    "df.dtypes"
   ]
  },
  {
   "cell_type": "code",
   "execution_count": 10,
   "metadata": {},
   "outputs": [
    {
     "data": {
      "text/html": [
       "<div>\n",
       "<style scoped>\n",
       "    .dataframe tbody tr th:only-of-type {\n",
       "        vertical-align: middle;\n",
       "    }\n",
       "\n",
       "    .dataframe tbody tr th {\n",
       "        vertical-align: top;\n",
       "    }\n",
       "\n",
       "    .dataframe thead th {\n",
       "        text-align: right;\n",
       "    }\n",
       "</style>\n",
       "<table border=\"1\" class=\"dataframe\">\n",
       "  <thead>\n",
       "    <tr style=\"text-align: right;\">\n",
       "      <th></th>\n",
       "      <th>PFAF_ID</th>\n",
       "      <th>SN_raw</th>\n",
       "      <th>SN_s</th>\n",
       "      <th>SN_cat</th>\n",
       "    </tr>\n",
       "  </thead>\n",
       "  <tbody>\n",
       "    <tr>\n",
       "      <th>0</th>\n",
       "      <td>-9999</td>\n",
       "      <td>NaN</td>\n",
       "      <td>NaN</td>\n",
       "      <td>No Data</td>\n",
       "    </tr>\n",
       "    <tr>\n",
       "      <th>1</th>\n",
       "      <td>111011</td>\n",
       "      <td>0.023176</td>\n",
       "      <td>0.890711</td>\n",
       "      <td>Low (&lt;2.5%)</td>\n",
       "    </tr>\n",
       "    <tr>\n",
       "      <th>2</th>\n",
       "      <td>111012</td>\n",
       "      <td>0.045942</td>\n",
       "      <td>1.877895</td>\n",
       "      <td>Low to medium (2.5-5%)</td>\n",
       "    </tr>\n",
       "    <tr>\n",
       "      <th>3</th>\n",
       "      <td>111013</td>\n",
       "      <td>0.045942</td>\n",
       "      <td>1.877895</td>\n",
       "      <td>Low to medium (2.5-5%)</td>\n",
       "    </tr>\n",
       "    <tr>\n",
       "      <th>4</th>\n",
       "      <td>111014</td>\n",
       "      <td>0.045942</td>\n",
       "      <td>1.877895</td>\n",
       "      <td>Low to medium (2.5-5%)</td>\n",
       "    </tr>\n",
       "  </tbody>\n",
       "</table>\n",
       "</div>"
      ],
      "text/plain": [
       "   PFAF_ID    SN_raw      SN_s                  SN_cat\n",
       "0    -9999       NaN       NaN                 No Data\n",
       "1   111011  0.023176  0.890711             Low (<2.5%)\n",
       "2   111012  0.045942  1.877895  Low to medium (2.5-5%)\n",
       "3   111013  0.045942  1.877895  Low to medium (2.5-5%)\n",
       "4   111014  0.045942  1.877895  Low to medium (2.5-5%)"
      ]
     },
     "execution_count": 10,
     "metadata": {},
     "output_type": "execute_result"
    }
   ],
   "source": [
    "df.head()"
   ]
  },
  {
   "cell_type": "code",
   "execution_count": 11,
   "metadata": {
    "collapsed": true
   },
   "outputs": [],
   "source": [
    "# SN -> USA\n",
    "\n",
    "\n",
    "# raw -> raw.\n",
    "# s -> score.\n",
    "# None -> cat.\n",
    "# cat -> label. "
   ]
  },
  {
   "cell_type": "code",
   "execution_count": 12,
   "metadata": {
    "collapsed": true
   },
   "outputs": [],
   "source": [
    "df_out = df.rename(columns={\"PFAF_ID\":\"pfaf_id\",\n",
    "                            \"SN_raw\":\"usa_raw\",\n",
    "                            \"SN_s\":\"usa_score\",\n",
    "                            \"SN_cat\":\"usa_label\"})"
   ]
  },
  {
   "cell_type": "code",
   "execution_count": 13,
   "metadata": {},
   "outputs": [
    {
     "data": {
      "text/plain": [
       "'\\ndf_out.drop(columns=[\"SN_nat_raw\",\\n                     \"SN_rur_raw\",\\n                     \"SN_urb_raw\",\\n                     \"rur_pop\",\\n                     \"urb_pop\",\\n                     \"total_pop\"],inplace=True)\\n'"
      ]
     },
     "execution_count": 13,
     "metadata": {},
     "output_type": "execute_result"
    }
   ],
   "source": [
    "\"\"\"\n",
    "df_out.drop(columns=[\"SN_nat_raw\",\n",
    "                     \"SN_rur_raw\",\n",
    "                     \"SN_urb_raw\",\n",
    "                     \"rur_pop\",\n",
    "                     \"urb_pop\",\n",
    "                     \"total_pop\"],inplace=True)\n",
    "\"\"\""
   ]
  },
  {
   "cell_type": "code",
   "execution_count": 14,
   "metadata": {
    "collapsed": true
   },
   "outputs": [],
   "source": [
    "df_out[\"usa_raw\"] = df_out[\"usa_raw\"].fillna(NODATA_VALUE)\n",
    "df_out[\"usa_score\"] = df_out[\"usa_score\"].fillna(NODATA_VALUE)\n",
    "df_out[\"usa_label\"] = df_out[\"usa_label\"].fillna(\"No Data\")"
   ]
  },
  {
   "cell_type": "code",
   "execution_count": 15,
   "metadata": {},
   "outputs": [
    {
     "data": {
      "text/plain": [
       "array(['No Data', 'Low (<2.5%)', 'Low to medium (2.5-5%)',\n",
       "       'Extremely High (>20%)', 'High (10-20%)', 'Medium to high (5-10%)'], dtype=object)"
      ]
     },
     "execution_count": 15,
     "metadata": {},
     "output_type": "execute_result"
    }
   ],
   "source": [
    "df_out[\"usa_label\"].unique()"
   ]
  },
  {
   "cell_type": "code",
   "execution_count": 16,
   "metadata": {},
   "outputs": [],
   "source": [
    "def update_labels_usa(label):\n",
    "    # update labels to be consistent with rest of framework\n",
    "    if label == \"Low (<2.5%)\":\n",
    "        new_label = \"Low (<2.5%)\"\n",
    "    elif label == \"Low to medium (2.5-5%)\":\n",
    "        new_label = \"Low - Medium (2.5-5%)\"\n",
    "    elif label == \"Medium to high (5-10%)\":\n",
    "        new_label = \"Medium - High (5-10%)\"\n",
    "    elif label == \"High (10-20%)\":\n",
    "        new_label = \"High (10-20%)\"\n",
    "    elif label == \"Extremely High (>20%)\":\n",
    "        new_label = \"Extremely High (>20%)\"\n",
    "    elif label == \"No Data\":\n",
    "        new_label = \"No Data\"\n",
    "    else:\n",
    "        new_label = \"error, check script\"\n",
    "    return new_label\n",
    "\n",
    "def category_from_labels_usa(label):\n",
    "    if label == \"Low (<2.5%)\":\n",
    "        cat = 0\n",
    "    elif label == \"Low to medium (2.5-5%)\":\n",
    "        cat = 1\n",
    "    elif label == \"Medium to high (5-10%)\":\n",
    "        cat = 2\n",
    "    elif label == \"High (10-20%)\":\n",
    "        cat =3\n",
    "    elif label == \"Extremely High (>20%)\":\n",
    "        cat = 4\n",
    "    else:\n",
    "        cat = -9999\n",
    "    return cat"
   ]
  },
  {
   "cell_type": "code",
   "execution_count": 17,
   "metadata": {
    "collapsed": true
   },
   "outputs": [],
   "source": [
    "df_out[\"usa_cat\"] = df_out[\"usa_label\"].apply(category_from_labels_usa)\n",
    "df_out[\"usa_label\"] = df_out[\"usa_label\"].apply(update_labels_usa)"
   ]
  },
  {
   "cell_type": "code",
   "execution_count": 18,
   "metadata": {},
   "outputs": [
    {
     "data": {
      "text/plain": [
       "array([-9999,     0,     1,     4,     3,     2])"
      ]
     },
     "execution_count": 18,
     "metadata": {},
     "output_type": "execute_result"
    }
   ],
   "source": [
    "df_out[\"usa_cat\"].unique() "
   ]
  },
  {
   "cell_type": "code",
   "execution_count": 19,
   "metadata": {},
   "outputs": [
    {
     "data": {
      "text/plain": [
       "array(['No Data', 'Low (<2.5%)', 'Low - Medium (2.5-5%)',\n",
       "       'Extremely High (>20%)', 'High (10-20%)', 'Medium - High (5-10%)'], dtype=object)"
      ]
     },
     "execution_count": 19,
     "metadata": {},
     "output_type": "execute_result"
    }
   ],
   "source": [
    "df_out[\"usa_label\"].unique()"
   ]
  },
  {
   "cell_type": "code",
   "execution_count": 20,
   "metadata": {
    "collapsed": true
   },
   "outputs": [],
   "source": [
    "df_out = df_out.reindex(sorted(df_out.columns), axis=1)"
   ]
  },
  {
   "cell_type": "code",
   "execution_count": 21,
   "metadata": {
    "collapsed": true
   },
   "outputs": [],
   "source": [
    "destination_table = \"{}.{}\".format(BQ_OUTPUT_DATASET_NAME,BQ_OUTPUT_TABLE_NAME)"
   ]
  },
  {
   "cell_type": "code",
   "execution_count": 22,
   "metadata": {},
   "outputs": [
    {
     "name": "stderr",
     "output_type": "stream",
     "text": [
      "2it [00:03,  1.91s/it]\n"
     ]
    }
   ],
   "source": [
    "df_out.to_gbq(destination_table=destination_table,\n",
    "          project_id=BQ_PROJECT_ID,\n",
    "          chunksize=10000,\n",
    "          if_exists=\"replace\")"
   ]
  },
  {
   "cell_type": "code",
   "execution_count": 23,
   "metadata": {},
   "outputs": [
    {
     "name": "stdout",
     "output_type": "stream",
     "text": [
      "0:00:20.291258\n"
     ]
    }
   ],
   "source": [
    "end = datetime.datetime.now()\n",
    "elapsed = end - start\n",
    "print(elapsed)"
   ]
  },
  {
   "cell_type": "markdown",
   "metadata": {},
   "source": [
    "Previous runs:  \n",
    "0:00:22.983392\n",
    "\n"
   ]
  },
  {
   "cell_type": "code",
   "execution_count": null,
   "metadata": {
    "collapsed": true
   },
   "outputs": [],
   "source": []
  }
 ],
 "metadata": {
  "kernelspec": {
   "display_name": "Python 35",
   "language": "python",
   "name": "python35"
  },
  "language_info": {
   "codemirror_mode": {
    "name": "ipython",
    "version": 3
   },
   "file_extension": ".py",
   "mimetype": "text/x-python",
   "name": "python",
   "nbconvert_exporter": "python",
   "pygments_lexer": "ipython3",
   "version": "3.5.4"
  }
 },
 "nbformat": 4,
 "nbformat_minor": 2
}
