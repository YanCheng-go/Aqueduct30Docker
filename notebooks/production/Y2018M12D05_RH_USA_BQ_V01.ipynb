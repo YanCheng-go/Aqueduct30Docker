{
 "cells": [
  {
   "cell_type": "code",
   "execution_count": 1,
   "metadata": {},
   "outputs": [
    {
     "name": "stdout",
     "output_type": "stream",
     "text": [
      "S3_INPUT_PATH:  s3://wri-projects/Aqueduct30/finalData/AccessToSanitation \n",
      "ec2_input_path:  /volumes/data/Y2018M12D05_RH_USA_BQ_V01/input_V01 \n",
      "ec2_output_path:  /volumes/data/Y2018M12D05_RH_USA_BQ_V01/output_V01 \n",
      "BQ_OUTPUT_DATASET_NAME:  aqueduct30v01 \n",
      "BQ_OUTPUT_TABLE_NAME:  y2018m12d05_rh_usa_bq_v01_v01\n"
     ]
    }
   ],
   "source": [
    "\"\"\" Process unimproved/no sanitation and store on BigQuery.\n",
    "-------------------------------------------------------------------------------\n",
    "\n",
    "Author: Rutger Hofste\n",
    "Date: 20181205\n",
    "Kernel: python35\n",
    "Docker: rutgerhofste/gisdocker:ubuntu16.04\n",
    "\n",
    "\"\"\"\n",
    "\n",
    "SCRIPT_NAME = \"Y2018M12D05_RH_USA_BQ_V01\"\n",
    "OUTPUT_VERSION = 1\n",
    "\n",
    "NODATA_VALUE = -9999\n",
    "\n",
    "S3_INPUT_PATH = \"s3://wri-projects/Aqueduct30/finalData/AccessToSanitation\"\n",
    "INPUT_FILE_NAME = \"sn_results.csv\"\n",
    "\n",
    "BQ_PROJECT_ID = \"aqueduct30\"\n",
    "BQ_OUTPUT_DATASET_NAME = \"aqueduct30v01\"\n",
    "BQ_OUTPUT_TABLE_NAME = \"{}_v{:02.0f}\".format(SCRIPT_NAME,OUTPUT_VERSION).lower()\n",
    "\n",
    "ec2_input_path = \"/volumes/data/{}/input_V{:02.0f}\".format(SCRIPT_NAME,OUTPUT_VERSION) \n",
    "ec2_output_path = \"/volumes/data/{}/output_V{:02.0f}\".format(SCRIPT_NAME,OUTPUT_VERSION) \n",
    "\n",
    "print(\"S3_INPUT_PATH: \",S3_INPUT_PATH,\n",
    "      \"\\nec2_input_path: \",ec2_input_path,\n",
    "      \"\\nec2_output_path: \",ec2_output_path,\n",
    "      \"\\nBQ_OUTPUT_DATASET_NAME: \", BQ_OUTPUT_DATASET_NAME,\n",
    "      \"\\nBQ_OUTPUT_TABLE_NAME: \",BQ_OUTPUT_TABLE_NAME\n",
    "      )"
   ]
  },
  {
   "cell_type": "code",
   "execution_count": 2,
   "metadata": {},
   "outputs": [
    {
     "name": "stdout",
     "output_type": "stream",
     "text": [
      "Y2018M12D05 UTC 13:51\n"
     ]
    },
    {
     "data": {
      "text/plain": [
       "'3.5.4 |Anaconda, Inc.| (default, Nov 20 2017, 18:44:38) \\n[GCC 7.2.0]'"
      ]
     },
     "execution_count": 2,
     "metadata": {},
     "output_type": "execute_result"
    }
   ],
   "source": [
    "import time, datetime, sys\n",
    "dateString = time.strftime(\"Y%YM%mD%d\")\n",
    "timeString = time.strftime(\"UTC %H:%M\")\n",
    "start = datetime.datetime.now()\n",
    "print(dateString,timeString)\n",
    "sys.version"
   ]
  },
  {
   "cell_type": "code",
   "execution_count": 3,
   "metadata": {},
   "outputs": [],
   "source": [
    "!rm -r {ec2_input_path}\n",
    "!rm -r {ec2_output_path}\n",
    "!mkdir -p {ec2_input_path}\n",
    "!mkdir -p {ec2_output_path}"
   ]
  },
  {
   "cell_type": "code",
   "execution_count": 4,
   "metadata": {},
   "outputs": [
    {
     "name": "stdout",
     "output_type": "stream",
     "text": [
      "download: s3://wri-projects/Aqueduct30/finalData/AccessToSanitation/sn_result.CPG to ../../../../data/Y2018M12D05_RH_USA_BQ_V01/input_V01/sn_result.CPG\n",
      "download: s3://wri-projects/Aqueduct30/finalData/AccessToSanitation/sn_result.sbx to ../../../../data/Y2018M12D05_RH_USA_BQ_V01/input_V01/sn_result.sbx\n",
      "download: s3://wri-projects/Aqueduct30/finalData/AccessToSanitation/README.txt to ../../../../data/Y2018M12D05_RH_USA_BQ_V01/input_V01/README.txt\n",
      "download: s3://wri-projects/Aqueduct30/finalData/AccessToSanitation/sn_result.shp.xml to ../../../../data/Y2018M12D05_RH_USA_BQ_V01/input_V01/sn_result.shp.xml\n",
      "download: s3://wri-projects/Aqueduct30/finalData/AccessToSanitation/sn_result.prj to ../../../../data/Y2018M12D05_RH_USA_BQ_V01/input_V01/sn_result.prj\n",
      "download: s3://wri-projects/Aqueduct30/finalData/AccessToSanitation/wri_aqueduct3_sanitation.py to ../../../../data/Y2018M12D05_RH_USA_BQ_V01/input_V01/wri_aqueduct3_sanitation.py\n",
      "download: s3://wri-projects/Aqueduct30/finalData/AccessToSanitation/sn_result.shx to ../../../../data/Y2018M12D05_RH_USA_BQ_V01/input_V01/sn_result.shx\n",
      "download: s3://wri-projects/Aqueduct30/finalData/AccessToSanitation/sn_result.sbn to ../../../../data/Y2018M12D05_RH_USA_BQ_V01/input_V01/sn_result.sbn\n",
      "download: s3://wri-projects/Aqueduct30/finalData/AccessToSanitation/sn_result.dbf to ../../../../data/Y2018M12D05_RH_USA_BQ_V01/input_V01/sn_result.dbf\n",
      "download: s3://wri-projects/Aqueduct30/finalData/AccessToSanitation/sn_results.csv to ../../../../data/Y2018M12D05_RH_USA_BQ_V01/input_V01/sn_results.csv\n",
      "download: s3://wri-projects/Aqueduct30/finalData/AccessToSanitation/sn_result.shp to ../../../../data/Y2018M12D05_RH_USA_BQ_V01/input_V01/sn_result.shp\n"
     ]
    }
   ],
   "source": [
    "!aws s3 cp {S3_INPUT_PATH} {ec2_input_path} --recursive "
   ]
  },
  {
   "cell_type": "code",
   "execution_count": 5,
   "metadata": {
    "collapsed": true
   },
   "outputs": [],
   "source": [
    "import os\n",
    "import pandas as pd\n",
    "import numpy as np\n",
    "from google.cloud import bigquery\n",
    "\n",
    "os.environ[\"GOOGLE_APPLICATION_CREDENTIALS\"] = \"/.google.json\"\n",
    "os.environ[\"GOOGLE_CLOUD_PROJECT\"] = \"aqueduct30\"\n",
    "client = bigquery.Client(project=BQ_PROJECT_ID)"
   ]
  },
  {
   "cell_type": "code",
   "execution_count": 6,
   "metadata": {
    "collapsed": true
   },
   "outputs": [],
   "source": [
    "files = os.listdir(ec2_input_path)"
   ]
  },
  {
   "cell_type": "code",
   "execution_count": 7,
   "metadata": {
    "collapsed": true
   },
   "outputs": [],
   "source": [
    "input_path = \"{}/{}\".format(ec2_input_path,INPUT_FILE_NAME)"
   ]
  },
  {
   "cell_type": "code",
   "execution_count": 8,
   "metadata": {
    "collapsed": true
   },
   "outputs": [],
   "source": [
    "df = pd.read_csv(input_path)"
   ]
  },
  {
   "cell_type": "code",
   "execution_count": 9,
   "metadata": {},
   "outputs": [
    {
     "data": {
      "text/plain": [
       "PFAF_ID         int64\n",
       "SN_nat_raw    float64\n",
       "SN_rur_raw    float64\n",
       "SN_urb_raw    float64\n",
       "rur_pop       float64\n",
       "urb_pop       float64\n",
       "total_pop     float64\n",
       "SN_raw        float64\n",
       "SN_s          float64\n",
       "SN_cat         object\n",
       "dtype: object"
      ]
     },
     "execution_count": 9,
     "metadata": {},
     "output_type": "execute_result"
    }
   ],
   "source": [
    "df.dtypes"
   ]
  },
  {
   "cell_type": "code",
   "execution_count": 10,
   "metadata": {},
   "outputs": [
    {
     "data": {
      "text/html": [
       "<div>\n",
       "<style scoped>\n",
       "    .dataframe tbody tr th:only-of-type {\n",
       "        vertical-align: middle;\n",
       "    }\n",
       "\n",
       "    .dataframe tbody tr th {\n",
       "        vertical-align: top;\n",
       "    }\n",
       "\n",
       "    .dataframe thead th {\n",
       "        text-align: right;\n",
       "    }\n",
       "</style>\n",
       "<table border=\"1\" class=\"dataframe\">\n",
       "  <thead>\n",
       "    <tr style=\"text-align: right;\">\n",
       "      <th></th>\n",
       "      <th>PFAF_ID</th>\n",
       "      <th>SN_nat_raw</th>\n",
       "      <th>SN_rur_raw</th>\n",
       "      <th>SN_urb_raw</th>\n",
       "      <th>rur_pop</th>\n",
       "      <th>urb_pop</th>\n",
       "      <th>total_pop</th>\n",
       "      <th>SN_raw</th>\n",
       "      <th>SN_s</th>\n",
       "      <th>SN_cat</th>\n",
       "    </tr>\n",
       "  </thead>\n",
       "  <tbody>\n",
       "    <tr>\n",
       "      <th>0</th>\n",
       "      <td>111011</td>\n",
       "      <td>0.027131</td>\n",
       "      <td>0.045942</td>\n",
       "      <td>0.002333</td>\n",
       "      <td>67212.864465</td>\n",
       "      <td>60229.016662</td>\n",
       "      <td>127441.881128</td>\n",
       "      <td>0.025333</td>\n",
       "      <td>1.019067</td>\n",
       "      <td>Low to medium (2.5 to 5%)</td>\n",
       "    </tr>\n",
       "    <tr>\n",
       "      <th>1</th>\n",
       "      <td>111012</td>\n",
       "      <td>0.027131</td>\n",
       "      <td>0.045942</td>\n",
       "      <td>0.002333</td>\n",
       "      <td>31891.179688</td>\n",
       "      <td>0.000000</td>\n",
       "      <td>31891.179688</td>\n",
       "      <td>0.045942</td>\n",
       "      <td>1.877895</td>\n",
       "      <td>Low to medium (2.5 to 5%)</td>\n",
       "    </tr>\n",
       "    <tr>\n",
       "      <th>2</th>\n",
       "      <td>111013</td>\n",
       "      <td>0.027131</td>\n",
       "      <td>0.045942</td>\n",
       "      <td>0.002333</td>\n",
       "      <td>5741.101992</td>\n",
       "      <td>0.000000</td>\n",
       "      <td>5741.101992</td>\n",
       "      <td>0.045942</td>\n",
       "      <td>1.877895</td>\n",
       "      <td>Low to medium (2.5 to 5%)</td>\n",
       "    </tr>\n",
       "    <tr>\n",
       "      <th>3</th>\n",
       "      <td>111014</td>\n",
       "      <td>0.027131</td>\n",
       "      <td>0.045942</td>\n",
       "      <td>0.002333</td>\n",
       "      <td>6491.622600</td>\n",
       "      <td>0.000000</td>\n",
       "      <td>6491.622600</td>\n",
       "      <td>0.045942</td>\n",
       "      <td>1.877895</td>\n",
       "      <td>Low to medium (2.5 to 5%)</td>\n",
       "    </tr>\n",
       "    <tr>\n",
       "      <th>4</th>\n",
       "      <td>111015</td>\n",
       "      <td>0.027131</td>\n",
       "      <td>0.045942</td>\n",
       "      <td>0.002333</td>\n",
       "      <td>394618.164026</td>\n",
       "      <td>0.000000</td>\n",
       "      <td>394618.164026</td>\n",
       "      <td>0.045942</td>\n",
       "      <td>1.877895</td>\n",
       "      <td>Low to medium (2.5 to 5%)</td>\n",
       "    </tr>\n",
       "  </tbody>\n",
       "</table>\n",
       "</div>"
      ],
      "text/plain": [
       "   PFAF_ID  SN_nat_raw  SN_rur_raw  SN_urb_raw        rur_pop       urb_pop  \\\n",
       "0   111011    0.027131    0.045942    0.002333   67212.864465  60229.016662   \n",
       "1   111012    0.027131    0.045942    0.002333   31891.179688      0.000000   \n",
       "2   111013    0.027131    0.045942    0.002333    5741.101992      0.000000   \n",
       "3   111014    0.027131    0.045942    0.002333    6491.622600      0.000000   \n",
       "4   111015    0.027131    0.045942    0.002333  394618.164026      0.000000   \n",
       "\n",
       "       total_pop    SN_raw      SN_s                     SN_cat  \n",
       "0  127441.881128  0.025333  1.019067  Low to medium (2.5 to 5%)  \n",
       "1   31891.179688  0.045942  1.877895  Low to medium (2.5 to 5%)  \n",
       "2    5741.101992  0.045942  1.877895  Low to medium (2.5 to 5%)  \n",
       "3    6491.622600  0.045942  1.877895  Low to medium (2.5 to 5%)  \n",
       "4  394618.164026  0.045942  1.877895  Low to medium (2.5 to 5%)  "
      ]
     },
     "execution_count": 10,
     "metadata": {},
     "output_type": "execute_result"
    }
   ],
   "source": [
    "df.head()"
   ]
  },
  {
   "cell_type": "code",
   "execution_count": 11,
   "metadata": {
    "collapsed": true
   },
   "outputs": [],
   "source": [
    "# SN -> USA\n",
    "\n",
    "\n",
    "# raw -> raw.\n",
    "# s -> score.\n",
    "# None -> cat.\n",
    "# cat -> label. "
   ]
  },
  {
   "cell_type": "code",
   "execution_count": 12,
   "metadata": {
    "collapsed": true
   },
   "outputs": [],
   "source": [
    "df_out = df.rename(columns={\"PFAF_ID\":\"pfaf_id\",\n",
    "                            \"SN_raw\":\"usa_raw\",\n",
    "                            \"SN_s\":\"usa_score\",\n",
    "                            \"SN_cat\":\"usa_label\"})"
   ]
  },
  {
   "cell_type": "code",
   "execution_count": 13,
   "metadata": {
    "collapsed": true
   },
   "outputs": [],
   "source": [
    "df_out.drop(columns=[\"SN_nat_raw\",\n",
    "                     \"SN_rur_raw\",\n",
    "                     \"SN_urb_raw\",\n",
    "                     \"rur_pop\",\n",
    "                     \"urb_pop\",\n",
    "                     \"total_pop\"],inplace=True)"
   ]
  },
  {
   "cell_type": "code",
   "execution_count": 14,
   "metadata": {
    "collapsed": true
   },
   "outputs": [],
   "source": [
    "df_out[\"usa_raw\"] = df_out[\"usa_raw\"].fillna(NODATA_VALUE)\n",
    "df_out[\"usa_score\"] = df_out[\"usa_score\"].fillna(NODATA_VALUE)\n",
    "df_out[\"usa_label\"] = df_out[\"usa_label\"].fillna(\"No Data\")"
   ]
  },
  {
   "cell_type": "code",
   "execution_count": 15,
   "metadata": {
    "collapsed": true
   },
   "outputs": [],
   "source": [
    "def score_to_category(score):\n",
    "    if score != 5:\n",
    "        cat = int(np.floor(score))\n",
    "    else:\n",
    "        cat = 4\n",
    "    return cat"
   ]
  },
  {
   "cell_type": "code",
   "execution_count": 16,
   "metadata": {
    "collapsed": true
   },
   "outputs": [],
   "source": [
    "df_out[\"usa_cat\"] = df_out[\"usa_score\"].apply(score_to_category)"
   ]
  },
  {
   "cell_type": "code",
   "execution_count": 17,
   "metadata": {
    "collapsed": true
   },
   "outputs": [],
   "source": [
    "df_out = df_out.reindex(sorted(df_out.columns), axis=1)"
   ]
  },
  {
   "cell_type": "code",
   "execution_count": 18,
   "metadata": {
    "collapsed": true
   },
   "outputs": [],
   "source": [
    "destination_table = \"{}.{}\".format(BQ_OUTPUT_DATASET_NAME,BQ_OUTPUT_TABLE_NAME)"
   ]
  },
  {
   "cell_type": "code",
   "execution_count": 19,
   "metadata": {},
   "outputs": [
    {
     "name": "stderr",
     "output_type": "stream",
     "text": [
      "2it [00:07,  3.70s/it]\n"
     ]
    }
   ],
   "source": [
    "df.to_gbq(destination_table=destination_table,\n",
    "          project_id=BQ_PROJECT_ID,\n",
    "          chunksize=10000,\n",
    "          if_exists=\"replace\")"
   ]
  },
  {
   "cell_type": "code",
   "execution_count": 20,
   "metadata": {},
   "outputs": [
    {
     "name": "stdout",
     "output_type": "stream",
     "text": [
      "0:00:22.983392\n"
     ]
    }
   ],
   "source": [
    "end = datetime.datetime.now()\n",
    "elapsed = end - start\n",
    "print(elapsed)"
   ]
  },
  {
   "cell_type": "markdown",
   "metadata": {},
   "source": [
    "Previous runs:  \n",
    "0:00:22.983392\n",
    "\n"
   ]
  },
  {
   "cell_type": "code",
   "execution_count": null,
   "metadata": {
    "collapsed": true
   },
   "outputs": [],
   "source": []
  }
 ],
 "metadata": {
  "kernelspec": {
   "display_name": "Python 35",
   "language": "python",
   "name": "python35"
  },
  "language_info": {
   "codemirror_mode": {
    "name": "ipython",
    "version": 3
   },
   "file_extension": ".py",
   "mimetype": "text/x-python",
   "name": "python",
   "nbconvert_exporter": "python",
   "pygments_lexer": "ipython3",
   "version": "3.5.4"
  }
 },
 "nbformat": 4,
 "nbformat_minor": 2
}
