{
 "cells": [
  {
   "cell_type": "code",
   "execution_count": 1,
   "metadata": {},
   "outputs": [
    {
     "name": "stdout",
     "output_type": "stream",
     "text": [
      "Input Table:  y2018m06d04_rh_water_stress_postgis_30spfaf06_v02_v04 \n",
      "Output Table:  y2018m06d28_rh_ws_full_range_ols_postgis_30spfaf06_v01_v01\n"
     ]
    }
   ],
   "source": [
    "\"\"\" Fit linear trend and average on 1969-2014 timeseries of linear trends.\n",
    "-------------------------------------------------------------------------------\n",
    "\n",
    "Fit a linear trend and average on the water stress values calculated with a 10\n",
    "year moving window ordinary linear regression. \n",
    "\n",
    "\n",
    "Author: Rutger Hofste\n",
    "Date: 20180628\n",
    "Kernel: python35\n",
    "Docker: rutgerhofste/gisdocker:ubuntu16.04\n",
    "\n",
    "Args:\n",
    "    TESTING (Boolean) : Toggle testing case.\n",
    "    SCRIPT_NAME (string) : Script name.\n",
    "    OUTPUT_VERSION (integer) : output version.\n",
    "    DATABASE_ENDPOINT (string) : RDS or postGreSQL endpoint.\n",
    "    DATABASE_NAME (string) : Database name.\n",
    "    TABLE_NAME_AREA_30SPFAF06 (string) : Table name used for areas. Must exist\n",
    "        on same database as used in rest of script.\n",
    "    S3_INPUT_PATH_RIVERDISCHARGE (string) : AWS S3 input path for \n",
    "        riverdischarge.    \n",
    "    S3_INPUT_PATH_DEMAND (string) : AWS S3 input path for \n",
    "        demand.     \n",
    "\n",
    "\"\"\"\n",
    "\n",
    "TESTING = 0\n",
    "OVERWRITE_OUTPUT = 1\n",
    "SCRIPT_NAME = 'Y2018M06D28_RH_WS_Full_Range_Ols_PostGIS_30sPfaf06_V01'\n",
    "OUTPUT_VERSION = 1\n",
    "\n",
    "DATABASE_ENDPOINT = \"aqueduct30v05.cgpnumwmfcqc.eu-central-1.rds.amazonaws.com\"\n",
    "DATABASE_NAME = \"database01\"\n",
    "INPUT_TABLE_NAME = 'y2018m06d04_rh_water_stress_postgis_30spfaf06_v02_v04'\n",
    "OUTPUT_TABLE_NAME = SCRIPT_NAME.lower() + \"_v{:02.0f}\".format(OUTPUT_VERSION)\n",
    "\n",
    "print(\"Input Table: \" , INPUT_TABLE_NAME, \n",
    "      \"\\nOutput Table: \" , OUTPUT_TABLE_NAME)\n"
   ]
  },
  {
   "cell_type": "code",
   "execution_count": 2,
   "metadata": {},
   "outputs": [
    {
     "name": "stdout",
     "output_type": "stream",
     "text": [
      "Y2018M06D28 UTC 13:58\n"
     ]
    },
    {
     "data": {
      "text/plain": [
       "'3.5.4 |Anaconda, Inc.| (default, Nov 20 2017, 18:44:38) \\n[GCC 7.2.0]'"
      ]
     },
     "execution_count": 2,
     "metadata": {},
     "output_type": "execute_result"
    }
   ],
   "source": [
    "import time, datetime, sys\n",
    "dateString = time.strftime(\"Y%YM%mD%d\")\n",
    "timeString = time.strftime(\"UTC %H:%M\")\n",
    "start = datetime.datetime.now()\n",
    "print(dateString,timeString)\n",
    "sys.version"
   ]
  },
  {
   "cell_type": "code",
   "execution_count": 3,
   "metadata": {
    "collapsed": true
   },
   "outputs": [],
   "source": [
    "# imports\n",
    "import re\n",
    "import os\n",
    "import numpy as np\n",
    "import pandas as pd\n",
    "import aqueduct3\n",
    "from datetime import timedelta\n",
    "from sqlalchemy import *\n",
    "pd.set_option('display.max_columns', 500)"
   ]
  },
  {
   "cell_type": "code",
   "execution_count": 4,
   "metadata": {},
   "outputs": [
    {
     "name": "stdout",
     "output_type": "stream",
     "text": [
      "DROP TABLE IF EXISTS y2018m06d28_rh_ws_full_range_ols_postgis_30spfaf06_v01_v01;\n"
     ]
    }
   ],
   "source": [
    "F = open(\"/.password\",\"r\")\n",
    "password = F.read().splitlines()[0]\n",
    "F.close()\n",
    "\n",
    "engine = create_engine(\"postgresql://rutgerhofste:{}@{}:5432/{}\".format(password,DATABASE_ENDPOINT,DATABASE_NAME))\n",
    "#connection = engine.connect()\n",
    "\n",
    "if OVERWRITE_OUTPUT:\n",
    "    sql = \"DROP TABLE IF EXISTS {};\".format(OUTPUT_TABLE_NAME)\n",
    "    print(sql)\n",
    "    result = engine.execute(sql)"
   ]
  },
  {
   "cell_type": "code",
   "execution_count": 5,
   "metadata": {
    "collapsed": true
   },
   "outputs": [],
   "source": [
    "temporal_reducers = [\"\",\"ma10_\",\"ols10_\"]\n",
    "if TESTING:\n",
    "    temporal_reducers = [\"\"]\n",
    "    \n",
    "    "
   ]
  },
  {
   "cell_type": "code",
   "execution_count": 6,
   "metadata": {
    "collapsed": true
   },
   "outputs": [],
   "source": [
    "input_columns = [\"pfafid_30spfaf06\",\n",
    "                 \"temporal_resolution\",\n",
    "                 \"year\",\n",
    "                 \"month\",\n",
    "                 \"area_m2_30spfaf06\",\n",
    "                 \"area_count_30spfaf06\"]"
   ]
  },
  {
   "cell_type": "code",
   "execution_count": 7,
   "metadata": {
    "collapsed": true
   },
   "outputs": [],
   "source": [
    "sql = \"CREATE TABLE {} AS \".format(OUTPUT_TABLE_NAME)\n",
    "sql += \"SELECT *, \"\n",
    "\"\"\"\n",
    "for input_column in input_columns:\n",
    "    sql = sql + \" {},\".format(input_column)\n",
    "\"\"\" \n",
    "for temporal_reducer in temporal_reducers:\n",
    "    indicator = \"{}waterstress_dimensionless_30spfaf06\".format(temporal_reducer)\n",
    "    sql += \" AVG({}) OVER(PARTITION BY pfafid_30spfaf06, month, temporal_resolution ORDER BY year ROWS BETWEEN 55 PRECEDING AND CURRENT ROW) AS avg_{},\".format(indicator,indicator)\n",
    "    sql += \" MIN({}) OVER(PARTITION BY pfafid_30spfaf06, month, temporal_resolution ORDER BY year ROWS BETWEEN 2 PRECEDING AND CURRENT ROW) AS min_{},\".format(indicator,indicator)\n",
    "    sql += \" MAX({}) OVER(PARTITION BY pfafid_30spfaf06, month, temporal_resolution ORDER BY year ROWS BETWEEN 2 PRECEDING AND CURRENT ROW) AS max_{},\".format(indicator,indicator)\n",
    "    sql += \" regr_slope({},year) OVER (PARTITION BY pfafid_30spfaf06, month, temporal_resolution ORDER BY year ROWS BETWEEN UNBOUNDED PRECEDING AND CURRENT ROW) AS slope_{},\".format(indicator,indicator)\n",
    "    sql += \" regr_intercept({},year) OVER (PARTITION BY pfafid_30spfaf06, month, temporal_resolution ORDER BY year ROWS BETWEEN 55 PRECEDING AND CURRENT ROW) AS intercept_{},\".format(indicator,indicator)\n",
    "    sql += (\" regr_slope({},year) OVER (PARTITION BY pfafid_30spfaf06, month, temporal_resolution ORDER BY year ROWS BETWEEN 55 PRECEDING AND CURRENT ROW) * year \"\n",
    "                     \"+ regr_intercept({},year) OVER (PARTITION BY pfafid_30spfaf06, month, temporal_resolution ORDER BY year ROWS BETWEEN 55 PRECEDING AND CURRENT ROW) AS ols_{},\".format(indicator,indicator,indicator))\n",
    "\n",
    "sql = sql[:-1]\n",
    "sql = sql + \" FROM {}\".format(INPUT_TABLE_NAME)\n",
    "if TESTING:\n",
    "    sql += \" WHERE pfafid_30spfaf06 = 172111 \"\n",
    "    sql += \" LIMIT 100\"\n",
    "    "
   ]
  },
  {
   "cell_type": "code",
   "execution_count": 8,
   "metadata": {},
   "outputs": [
    {
     "data": {
      "text/plain": [
       "'CREATE TABLE y2018m06d28_rh_ws_full_range_ols_postgis_30spfaf06_v01_v01 AS SELECT *,  AVG(waterstress_dimensionless_30spfaf06) OVER(PARTITION BY pfafid_30spfaf06, month, temporal_resolution ORDER BY year ROWS BETWEEN 55 PRECEDING AND CURRENT ROW) AS avg_waterstress_dimensionless_30spfaf06, MIN(waterstress_dimensionless_30spfaf06) OVER(PARTITION BY pfafid_30spfaf06, month, temporal_resolution ORDER BY year ROWS BETWEEN 2 PRECEDING AND CURRENT ROW) AS min_waterstress_dimensionless_30spfaf06, MAX(waterstress_dimensionless_30spfaf06) OVER(PARTITION BY pfafid_30spfaf06, month, temporal_resolution ORDER BY year ROWS BETWEEN 2 PRECEDING AND CURRENT ROW) AS max_waterstress_dimensionless_30spfaf06, regr_slope(waterstress_dimensionless_30spfaf06,year) OVER (PARTITION BY pfafid_30spfaf06, month, temporal_resolution ORDER BY year ROWS BETWEEN UNBOUNDED PRECEDING AND CURRENT ROW) AS slope_waterstress_dimensionless_30spfaf06, regr_intercept(waterstress_dimensionless_30spfaf06,year) OVER (PARTITION BY pfafid_30spfaf06, month, temporal_resolution ORDER BY year ROWS BETWEEN 55 PRECEDING AND CURRENT ROW) AS intercept_waterstress_dimensionless_30spfaf06, regr_slope(waterstress_dimensionless_30spfaf06,year) OVER (PARTITION BY pfafid_30spfaf06, month, temporal_resolution ORDER BY year ROWS BETWEEN 55 PRECEDING AND CURRENT ROW) * year + regr_intercept(waterstress_dimensionless_30spfaf06,year) OVER (PARTITION BY pfafid_30spfaf06, month, temporal_resolution ORDER BY year ROWS BETWEEN 55 PRECEDING AND CURRENT ROW) AS ols_waterstress_dimensionless_30spfaf06, AVG(ma10_waterstress_dimensionless_30spfaf06) OVER(PARTITION BY pfafid_30spfaf06, month, temporal_resolution ORDER BY year ROWS BETWEEN 55 PRECEDING AND CURRENT ROW) AS avg_ma10_waterstress_dimensionless_30spfaf06, MIN(ma10_waterstress_dimensionless_30spfaf06) OVER(PARTITION BY pfafid_30spfaf06, month, temporal_resolution ORDER BY year ROWS BETWEEN 2 PRECEDING AND CURRENT ROW) AS min_ma10_waterstress_dimensionless_30spfaf06, MAX(ma10_waterstress_dimensionless_30spfaf06) OVER(PARTITION BY pfafid_30spfaf06, month, temporal_resolution ORDER BY year ROWS BETWEEN 2 PRECEDING AND CURRENT ROW) AS max_ma10_waterstress_dimensionless_30spfaf06, regr_slope(ma10_waterstress_dimensionless_30spfaf06,year) OVER (PARTITION BY pfafid_30spfaf06, month, temporal_resolution ORDER BY year ROWS BETWEEN UNBOUNDED PRECEDING AND CURRENT ROW) AS slope_ma10_waterstress_dimensionless_30spfaf06, regr_intercept(ma10_waterstress_dimensionless_30spfaf06,year) OVER (PARTITION BY pfafid_30spfaf06, month, temporal_resolution ORDER BY year ROWS BETWEEN 55 PRECEDING AND CURRENT ROW) AS intercept_ma10_waterstress_dimensionless_30spfaf06, regr_slope(ma10_waterstress_dimensionless_30spfaf06,year) OVER (PARTITION BY pfafid_30spfaf06, month, temporal_resolution ORDER BY year ROWS BETWEEN 55 PRECEDING AND CURRENT ROW) * year + regr_intercept(ma10_waterstress_dimensionless_30spfaf06,year) OVER (PARTITION BY pfafid_30spfaf06, month, temporal_resolution ORDER BY year ROWS BETWEEN 55 PRECEDING AND CURRENT ROW) AS ols_ma10_waterstress_dimensionless_30spfaf06, AVG(ols10_waterstress_dimensionless_30spfaf06) OVER(PARTITION BY pfafid_30spfaf06, month, temporal_resolution ORDER BY year ROWS BETWEEN 55 PRECEDING AND CURRENT ROW) AS avg_ols10_waterstress_dimensionless_30spfaf06, MIN(ols10_waterstress_dimensionless_30spfaf06) OVER(PARTITION BY pfafid_30spfaf06, month, temporal_resolution ORDER BY year ROWS BETWEEN 2 PRECEDING AND CURRENT ROW) AS min_ols10_waterstress_dimensionless_30spfaf06, MAX(ols10_waterstress_dimensionless_30spfaf06) OVER(PARTITION BY pfafid_30spfaf06, month, temporal_resolution ORDER BY year ROWS BETWEEN 2 PRECEDING AND CURRENT ROW) AS max_ols10_waterstress_dimensionless_30spfaf06, regr_slope(ols10_waterstress_dimensionless_30spfaf06,year) OVER (PARTITION BY pfafid_30spfaf06, month, temporal_resolution ORDER BY year ROWS BETWEEN UNBOUNDED PRECEDING AND CURRENT ROW) AS slope_ols10_waterstress_dimensionless_30spfaf06, regr_intercept(ols10_waterstress_dimensionless_30spfaf06,year) OVER (PARTITION BY pfafid_30spfaf06, month, temporal_resolution ORDER BY year ROWS BETWEEN 55 PRECEDING AND CURRENT ROW) AS intercept_ols10_waterstress_dimensionless_30spfaf06, regr_slope(ols10_waterstress_dimensionless_30spfaf06,year) OVER (PARTITION BY pfafid_30spfaf06, month, temporal_resolution ORDER BY year ROWS BETWEEN 55 PRECEDING AND CURRENT ROW) * year + regr_intercept(ols10_waterstress_dimensionless_30spfaf06,year) OVER (PARTITION BY pfafid_30spfaf06, month, temporal_resolution ORDER BY year ROWS BETWEEN 55 PRECEDING AND CURRENT ROW) AS ols_ols10_waterstress_dimensionless_30spfaf06 FROM y2018m06d04_rh_water_stress_postgis_30spfaf06_v02_v04'"
      ]
     },
     "execution_count": 8,
     "metadata": {},
     "output_type": "execute_result"
    }
   ],
   "source": [
    "sql"
   ]
  },
  {
   "cell_type": "code",
   "execution_count": 9,
   "metadata": {
    "collapsed": true
   },
   "outputs": [],
   "source": [
    "result = engine.execute(sql)"
   ]
  },
  {
   "cell_type": "code",
   "execution_count": 10,
   "metadata": {
    "collapsed": true
   },
   "outputs": [],
   "source": [
    "sql_index = \"CREATE INDEX {}pfafid_30spfaf06 ON {} ({})\".format(OUTPUT_TABLE_NAME,OUTPUT_TABLE_NAME,\"pfafid_30spfaf06\")"
   ]
  },
  {
   "cell_type": "code",
   "execution_count": 11,
   "metadata": {},
   "outputs": [
    {
     "data": {
      "text/plain": [
       "'CREATE INDEX y2018m06d28_rh_ws_full_range_ols_postgis_30spfaf06_v01_v01pfafid_30spfaf06 ON y2018m06d28_rh_ws_full_range_ols_postgis_30spfaf06_v01_v01 (pfafid_30spfaf06)'"
      ]
     },
     "execution_count": 11,
     "metadata": {},
     "output_type": "execute_result"
    }
   ],
   "source": [
    "sql_index"
   ]
  },
  {
   "cell_type": "code",
   "execution_count": 12,
   "metadata": {},
   "outputs": [],
   "source": [
    "result = engine.execute(sql_index)"
   ]
  },
  {
   "cell_type": "code",
   "execution_count": 13,
   "metadata": {
    "collapsed": true
   },
   "outputs": [],
   "source": [
    "engine.dispose()"
   ]
  },
  {
   "cell_type": "code",
   "execution_count": 14,
   "metadata": {},
   "outputs": [
    {
     "name": "stdout",
     "output_type": "stream",
     "text": [
      "0:19:28.891726\n"
     ]
    }
   ],
   "source": [
    "end = datetime.datetime.now()\n",
    "elapsed = end - start\n",
    "print(elapsed)"
   ]
  },
  {
   "cell_type": "markdown",
   "metadata": {},
   "source": [
    "Previous runs:  \n",
    "0:19:28.891726"
   ]
  },
  {
   "cell_type": "code",
   "execution_count": 15,
   "metadata": {},
   "outputs": [
    {
     "data": {
      "text/plain": [
       "'\\n\\n# Removed the window function\\n\\nsql = \"CREATE TABLE {} AS \".format(OUTPUT_TABLE_NAME)\\nsql += \"SELECT *, \"\\n\\n\\nfor temporal_reducer in temporal_reducers:\\n    indicator = \"{}waterstress_dimensionless_30spfaf06\".format(temporal_reducer)\\n    sql += \" AVG({}) OVER(PARTITION BY pfafid_30spfaf06, month, temporal_resolution) AS avg_{},\".format(indicator,indicator)\\n    sql += \" MIN({}) OVER(PARTITION BY pfafid_30spfaf06, month, temporal_resolution) AS min_{},\".format(indicator,indicator)\\n    sql += \" MAX({}) OVER(PARTITION BY pfafid_30spfaf06, month, temporal_resolution) AS max_{},\".format(indicator,indicator)\\n    sql += \" regr_slope({},year) OVER (PARTITION BY pfafid_30spfaf06, month, temporal_resolution) AS slope_{},\".format(indicator,indicator)\\n    sql += \" regr_intercept({},year) OVER (PARTITION BY pfafid_30spfaf06, month, temporal_resolution) AS intercept_{},\".format(indicator,indicator)\\n    sql += (\" regr_slope({},year) OVER (PARTITION BY pfafid_30spfaf06, month, temporal_resolution) * year \"\\n                     \"+ regr_intercept({},year) OVER (PARTITION BY pfafid_30spfaf06, month, temporal_resolution) AS ols_{},\".format(indicator,indicator,indicator))\\n\\nsql = sql[:-1]\\nsql = sql + \" FROM {}\".format(INPUT_TABLE_NAME)\\nif TESTING:\\n    sql += \" WHERE pfafid_30spfaf06 = 172111 \"\\n    sql += \" LIMIT 100\"\\n\\n\\n'"
      ]
     },
     "execution_count": 15,
     "metadata": {},
     "output_type": "execute_result"
    }
   ],
   "source": [
    "\n",
    "\n",
    "\"\"\"\n",
    "\n",
    "# Removed the window function\n",
    "\n",
    "sql = \"CREATE TABLE {} AS \".format(OUTPUT_TABLE_NAME)\n",
    "sql += \"SELECT *, \"\n",
    "\n",
    "\n",
    "for temporal_reducer in temporal_reducers:\n",
    "    indicator = \"{}waterstress_dimensionless_30spfaf06\".format(temporal_reducer)\n",
    "    sql += \" AVG({}) OVER(PARTITION BY pfafid_30spfaf06, month, temporal_resolution) AS avg_{},\".format(indicator,indicator)\n",
    "    sql += \" MIN({}) OVER(PARTITION BY pfafid_30spfaf06, month, temporal_resolution) AS min_{},\".format(indicator,indicator)\n",
    "    sql += \" MAX({}) OVER(PARTITION BY pfafid_30spfaf06, month, temporal_resolution) AS max_{},\".format(indicator,indicator)\n",
    "    sql += \" regr_slope({},year) OVER (PARTITION BY pfafid_30spfaf06, month, temporal_resolution) AS slope_{},\".format(indicator,indicator)\n",
    "    sql += \" regr_intercept({},year) OVER (PARTITION BY pfafid_30spfaf06, month, temporal_resolution) AS intercept_{},\".format(indicator,indicator)\n",
    "    sql += (\" regr_slope({},year) OVER (PARTITION BY pfafid_30spfaf06, month, temporal_resolution) * year \"\n",
    "                     \"+ regr_intercept({},year) OVER (PARTITION BY pfafid_30spfaf06, month, temporal_resolution) AS ols_{},\".format(indicator,indicator,indicator))\n",
    "\n",
    "sql = sql[:-1]\n",
    "sql = sql + \" FROM {}\".format(INPUT_TABLE_NAME)\n",
    "if TESTING:\n",
    "    sql += \" WHERE pfafid_30spfaf06 = 172111 \"\n",
    "    sql += \" LIMIT 100\"\n",
    "\n",
    "\n",
    "\"\"\""
   ]
  }
 ],
 "metadata": {
  "kernelspec": {
   "display_name": "Python 35",
   "language": "python",
   "name": "python35"
  },
  "language_info": {
   "codemirror_mode": {
    "name": "ipython",
    "version": 3
   },
   "file_extension": ".py",
   "mimetype": "text/x-python",
   "name": "python",
   "nbconvert_exporter": "python",
   "pygments_lexer": "ipython3",
   "version": "3.5.4"
  }
 },
 "nbformat": 4,
 "nbformat_minor": 2
}
