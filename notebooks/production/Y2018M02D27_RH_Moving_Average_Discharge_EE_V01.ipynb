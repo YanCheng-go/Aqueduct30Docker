{
 "cells": [
  {
   "cell_type": "markdown",
   "metadata": {},
   "source": [
    "# Y2018M02D27_RH_Moving_Average_Discharge_EE_V01\n",
    "\n",
    "* Purpose of script: Moving average for discharge at basin resolution. The script will calculate the volumetric and flux 10 year moving average at a Pfaf6 basin level for total demand. (potentially also per sector demand)\n",
    "\n",
    "* Script exports to: \n",
    "* Update this projects/WRI-Aquaduct/PCRGlobWB20V07/global_historical_PTotWW_month_m_pfaf06_1960_2014_movingaverage_10y_V01\n",
    "* Update this projects/WRI-Aquaduct/PCRGlobWB20V07/global_historical_PTotWN_month_m_pfaf06_1960_2014_movingaverage_10y_V01\n",
    "* Kernel used: python35\n",
    "* Date created: 20170301\n",
    "\n",
    "The imageCollection global_historical_availableriverdischarge_month_millionm3_5minPfaf6_1960_2014 (output of script: Y2017M12D07_RH_ZonalStats_MaxQ_toImage_EE_V01) contains three bands: \n",
    "\n",
    "1. zones_mode_pfaf6  \n",
    "1. sum. sum is the sum of the discharge in millionm3 at the q_search_mask (output of Y2017M12D06_RH_Conservative_Basin_Sinks_EE_V01). q_search_mask is FAmax-1 expect when endorheic or sinks\n",
    "1. max. global maximum of Q within basin. \n",
    "\n",
    "\n",
    "\n",
    "\n"
   ]
  },
  {
   "cell_type": "code",
   "execution_count": 1,
   "metadata": {},
   "outputs": [
    {
     "data": {
      "text/plain": [
       "'\\nMethodology to apply. \\n\\n\\nif qmax < 1.25 qsum:\\n    q = qmax\\nelse:\\n    q = qsum\\n    \\nCan be optimized. Options include: Use flow accumulation instead of discharge\\nUse multiple level FAmax FAmax-1 FAmax-2 etc. \\n    \\n\\n'"
      ]
     },
     "execution_count": 1,
     "metadata": {},
     "output_type": "execute_result"
    }
   ],
   "source": [
    "\"\"\"\n",
    "Methodology to apply. \n",
    "\n",
    "\n",
    "if qmax < 1.25 qsum:\n",
    "    q = qmax\n",
    "else:\n",
    "    q = qsum\n",
    "    \n",
    "Can be optimized. Options include: Use flow accumulation instead of discharge\n",
    "Use multiple level FAmax FAmax-1 FAmax-2 etc. \n",
    "    \n",
    "\n",
    "\"\"\"\n"
   ]
  },
  {
   "cell_type": "code",
   "execution_count": 2,
   "metadata": {},
   "outputs": [
    {
     "name": "stdout",
     "output_type": "stream",
     "text": [
      "Y2018M03D06 UTC 13:40\n"
     ]
    },
    {
     "data": {
      "text/plain": [
       "'3.5.4 |Continuum Analytics, Inc.| (default, Aug 14 2017, 13:26:58) \\n[GCC 4.4.7 20120313 (Red Hat 4.4.7-1)]'"
      ]
     },
     "execution_count": 2,
     "metadata": {},
     "output_type": "execute_result"
    }
   ],
   "source": [
    "import time, datetime, sys\n",
    "dateString = time.strftime(\"Y%YM%mD%d\")\n",
    "timeString = time.strftime(\"UTC %H:%M\")\n",
    "start = datetime.datetime.now()\n",
    "print(dateString,timeString)\n",
    "sys.version"
   ]
  },
  {
   "cell_type": "code",
   "execution_count": 3,
   "metadata": {
    "collapsed": true
   },
   "outputs": [],
   "source": [
    "SCRIPT_NAME = \"Y2018M02D27_RH_Moving_Average_Discharge_EE_V01\"\n",
    "\n",
    "CRS = \"EPSG:4326\"\n",
    "\n",
    "EE_PATH = \"projects/WRI-Aquaduct/PCRGlobWB20V07\"\n",
    "\n",
    "OUTPUT_VERSION = 1\n",
    "\n",
    "DIMENSION5MIN = {}\n",
    "DIMENSION5MIN[\"x\"] = 4320\n",
    "DIMENSION5MIN[\"y\"] = 2160\n",
    "\n",
    "\n",
    "MA_WINDOW_LENGTH = 10 # Moving average window length. \n",
    "\n",
    "TESTING = 1\n",
    "\n",
    "THRESHOLD = 1.25"
   ]
  },
  {
   "cell_type": "code",
   "execution_count": 4,
   "metadata": {
    "collapsed": true
   },
   "outputs": [],
   "source": [
    "import ee\n",
    "import os\n",
    "import logging\n",
    "import pandas as pd\n",
    "import subprocess"
   ]
  },
  {
   "cell_type": "code",
   "execution_count": 5,
   "metadata": {
    "collapsed": true
   },
   "outputs": [],
   "source": [
    "ee.Initialize()"
   ]
  },
  {
   "cell_type": "code",
   "execution_count": 6,
   "metadata": {
    "collapsed": true
   },
   "outputs": [],
   "source": [
    "logger = logging.getLogger(__name__)\n",
    "logger.setLevel(logging.DEBUG)\n",
    "formatter = logging.Formatter('%(asctime)s:%(levelname)s:%(message)s')\n",
    "file_handler = logging.FileHandler(\"./logs/%sV%0.2d.log\" %(SCRIPT_NAME,OUTPUT_VERSION))\n",
    "file_handler.setFormatter(formatter)\n",
    "logger.addHandler(file_handler)"
   ]
  },
  {
   "cell_type": "code",
   "execution_count": 7,
   "metadata": {
    "collapsed": true
   },
   "outputs": [],
   "source": [
    "geometry = ee.Geometry.Polygon(coords=[[-180.0, -90.0], [180,  -90.0], [180, 90], [-180,90]], proj= ee.Projection('EPSG:4326'),geodesic=False )"
   ]
  },
  {
   "cell_type": "code",
   "execution_count": 8,
   "metadata": {
    "collapsed": true
   },
   "outputs": [],
   "source": [
    "crsTransform5minSmall = [\n",
    "    360.0 / DIMENSION5MIN[\"x\"], \n",
    "    0,\n",
    "    -180,\n",
    "    0,\n",
    "    -162.0 / (0.9* DIMENSION5MIN[\"y\"]),\n",
    "    81   \n",
    "]\n",
    "\n",
    "dimensions5minSmall = \"{}x{}\".format(DIMENSION5MIN[\"x\"],int(0.9*DIMENSION5MIN[\"y\"]))"
   ]
  },
  {
   "cell_type": "code",
   "execution_count": 9,
   "metadata": {
    "collapsed": true
   },
   "outputs": [],
   "source": [
    "def prepare_discharge_collection(image):\n",
    "    \"\"\" find the available discharge based on max and sum bands of available discharge\n",
    "    \n",
    "    if qmax =< threshold (1.25) qsum:\n",
    "        q = qmax\n",
    "    else:\n",
    "        q = qsum\n",
    "    \n",
    "    Args:\n",
    "        i_in (ee.Image) :image of available discharge with three bands: zones, max and sum\n",
    "    \n",
    "    Returns:\n",
    "        i_q_out (ee.Image) : image with only one band 'b1'\n",
    "    \n",
    "    \n",
    "    \"\"\"\n",
    "    \n",
    "    i_q_max = image.select([\"max\"])  \n",
    "    i_q_sum = image.select([\"sum\"])\n",
    "    \n",
    "    i_ratio_q = i_q_max.divide(i_q_sum)\n",
    "       \n",
    "    use_max = i_ratio_q.lte(THRESHOLD)\n",
    "    use_sum = i_ratio_q.gt(THRESHOLD)\n",
    "    \n",
    "    i_q_out = use_max.multiply(i_q_max).add((use_sum.multiply(i_q_sum)) \n",
    "    i_q_out = i_q_out.select([\"max\"],[\"b1\"])                                         \n",
    "    \n",
    "    return i_q_out\n",
    "                                  \n",
    "                                  \n",
    "\n",
    "def create_collection(assetid):\n",
    "    \"\"\" Create image collection in earth engine asset folder\n",
    "    \n",
    "    This function will only work if the folder in which the\n",
    "    new imageCollection will be created is valid\n",
    "    \n",
    "    \n",
    "    Args:\n",
    "        assetid (string) : asset id for the new image collection\n",
    "    \n",
    "    Returns: \n",
    "        result (string) : captured message from command line\n",
    "    \n",
    "    \"\"\"   \n",
    "    \n",
    "    command = \"earthengine create collection {}\".format(assetid) \n",
    "    result = subprocess.check_output(command,shell=True)\n",
    "    if result:\n",
    "        logger.error(result)\n",
    "    return result \n",
    "\n",
    "\n",
    "def moving_average_decade(year,ic):\n",
    "    \"\"\" Calculate a 10 year moving average\n",
    "    \n",
    "    This function is limited to one input paramater to allow mapping over a simple list. \n",
    "    Averages the 10 year up to the input year. (]\n",
    "    \n",
    "    Global variables required include an imageCollection with a year property.\n",
    "    \n",
    "    \n",
    "    Args:\n",
    "        year (integer) : final year of interest.\n",
    "        ic (ee.ImageCollection) : input imageCollection\n",
    "    \n",
    "    Returns: \n",
    "        image (ee.Image) : earth engine image with the mean of the last 10 years\n",
    "    \"\"\"\n",
    "    \n",
    "    min_year = year - MA_WINDOW_LENGTH\n",
    "    \n",
    "    ic_filtered = (ic.filter(ee.Filter.gt(\"year\",min_year))\n",
    "                     .filter(ee.Filter.lte(\"year\",year)))\n",
    "                  \n",
    "    i_mean = ic_filtered.reduce(ee.Reducer.mean()) \n",
    "    \n",
    "    \n",
    "    i_mean = i_mean.copyProperties(source=ic_filtered.first(),\n",
    "                          exclude=[\"script_used\",\n",
    "                                   \"output_version\",\n",
    "                                   \"year\",\n",
    "                                   \"output_version\",\n",
    "                                   \"version\",\n",
    "                                   \"reducer\"])\n",
    "    \n",
    "    return ee.Image(i_mean)\n"
   ]
  },
  {
   "cell_type": "code",
   "execution_count": null,
   "metadata": {
    "collapsed": true
   },
   "outputs": [],
   "source": []
  },
  {
   "cell_type": "code",
   "execution_count": null,
   "metadata": {
    "collapsed": true
   },
   "outputs": [],
   "source": []
  },
  {
   "cell_type": "code",
   "execution_count": 10,
   "metadata": {
    "collapsed": true
   },
   "outputs": [],
   "source": [
    "months = range(1,13)\n",
    "years = range(1960+9,2014+1)\n",
    "indicators = [\"availabledischarge\"]"
   ]
  },
  {
   "cell_type": "code",
   "execution_count": null,
   "metadata": {
    "collapsed": true
   },
   "outputs": [],
   "source": []
  },
  {
   "cell_type": "code",
   "execution_count": 11,
   "metadata": {
    "collapsed": true
   },
   "outputs": [],
   "source": [
    "df = pd.DataFrame()\n",
    "for indicator in indicators:\n",
    "    for month in months:\n",
    "        for year in years:\n",
    "            newRow = {}\n",
    "            newRow[\"month\"] = month\n",
    "            newRow[\"year\"] = year\n",
    "            newRow[\"output_ic_filename\"] = \"global_historical_{}_month_millionm3_pfaf06_1960_2014_movingaverage_10y_V{:02.0f}\".format(indicator,OUTPUT_VERSION)\n",
    "            newRow[\"output_ic_assetid\"] = \"{}/{}\".format(EE_PATH,newRow[\"output_ic_filename\"])\n",
    "            newRow[\"output_i_filename\"] = \"global_historical_{}_month_millionm3_pfaf06_Y{:04.0f}M{:02.0f}_movingaverage_10y_V{:02.0f}\".format(indicator,year,month,OUTPUT_VERSION)\n",
    "            newRow[\"output_i_assetid\"] = \"{}/{}\".format(newRow[\"output_ic_assetid\"],newRow[\"output_i_filename\"])\n",
    "            newRow[\"indicator\"] = indicator\n",
    "            newRow[\"exportdescription\"] = \"{}_month_Y{:04.0f}M{:02.0f}_movingaverage_10y\".format(indicator,year,month)\n",
    "            df= df.append(newRow,ignore_index=True)"
   ]
  },
  {
   "cell_type": "code",
   "execution_count": 12,
   "metadata": {},
   "outputs": [
    {
     "data": {
      "text/html": [
       "<div>\n",
       "<style>\n",
       "    .dataframe thead tr:only-child th {\n",
       "        text-align: right;\n",
       "    }\n",
       "\n",
       "    .dataframe thead th {\n",
       "        text-align: left;\n",
       "    }\n",
       "\n",
       "    .dataframe tbody tr th {\n",
       "        vertical-align: top;\n",
       "    }\n",
       "</style>\n",
       "<table border=\"1\" class=\"dataframe\">\n",
       "  <thead>\n",
       "    <tr style=\"text-align: right;\">\n",
       "      <th></th>\n",
       "      <th>exportdescription</th>\n",
       "      <th>indicator</th>\n",
       "      <th>month</th>\n",
       "      <th>output_i_assetid</th>\n",
       "      <th>output_i_filename</th>\n",
       "      <th>output_ic_assetid</th>\n",
       "      <th>output_ic_filename</th>\n",
       "      <th>year</th>\n",
       "    </tr>\n",
       "  </thead>\n",
       "  <tbody>\n",
       "    <tr>\n",
       "      <th>0</th>\n",
       "      <td>availabledischarge_month_Y1969M01_movingaverag...</td>\n",
       "      <td>availabledischarge</td>\n",
       "      <td>1.0</td>\n",
       "      <td>projects/WRI-Aquaduct/PCRGlobWB20V07/global_hi...</td>\n",
       "      <td>global_historical_availabledischarge_month_mil...</td>\n",
       "      <td>projects/WRI-Aquaduct/PCRGlobWB20V07/global_hi...</td>\n",
       "      <td>global_historical_availabledischarge_month_mil...</td>\n",
       "      <td>1969.0</td>\n",
       "    </tr>\n",
       "    <tr>\n",
       "      <th>1</th>\n",
       "      <td>availabledischarge_month_Y1970M01_movingaverag...</td>\n",
       "      <td>availabledischarge</td>\n",
       "      <td>1.0</td>\n",
       "      <td>projects/WRI-Aquaduct/PCRGlobWB20V07/global_hi...</td>\n",
       "      <td>global_historical_availabledischarge_month_mil...</td>\n",
       "      <td>projects/WRI-Aquaduct/PCRGlobWB20V07/global_hi...</td>\n",
       "      <td>global_historical_availabledischarge_month_mil...</td>\n",
       "      <td>1970.0</td>\n",
       "    </tr>\n",
       "    <tr>\n",
       "      <th>2</th>\n",
       "      <td>availabledischarge_month_Y1971M01_movingaverag...</td>\n",
       "      <td>availabledischarge</td>\n",
       "      <td>1.0</td>\n",
       "      <td>projects/WRI-Aquaduct/PCRGlobWB20V07/global_hi...</td>\n",
       "      <td>global_historical_availabledischarge_month_mil...</td>\n",
       "      <td>projects/WRI-Aquaduct/PCRGlobWB20V07/global_hi...</td>\n",
       "      <td>global_historical_availabledischarge_month_mil...</td>\n",
       "      <td>1971.0</td>\n",
       "    </tr>\n",
       "    <tr>\n",
       "      <th>3</th>\n",
       "      <td>availabledischarge_month_Y1972M01_movingaverag...</td>\n",
       "      <td>availabledischarge</td>\n",
       "      <td>1.0</td>\n",
       "      <td>projects/WRI-Aquaduct/PCRGlobWB20V07/global_hi...</td>\n",
       "      <td>global_historical_availabledischarge_month_mil...</td>\n",
       "      <td>projects/WRI-Aquaduct/PCRGlobWB20V07/global_hi...</td>\n",
       "      <td>global_historical_availabledischarge_month_mil...</td>\n",
       "      <td>1972.0</td>\n",
       "    </tr>\n",
       "    <tr>\n",
       "      <th>4</th>\n",
       "      <td>availabledischarge_month_Y1973M01_movingaverag...</td>\n",
       "      <td>availabledischarge</td>\n",
       "      <td>1.0</td>\n",
       "      <td>projects/WRI-Aquaduct/PCRGlobWB20V07/global_hi...</td>\n",
       "      <td>global_historical_availabledischarge_month_mil...</td>\n",
       "      <td>projects/WRI-Aquaduct/PCRGlobWB20V07/global_hi...</td>\n",
       "      <td>global_historical_availabledischarge_month_mil...</td>\n",
       "      <td>1973.0</td>\n",
       "    </tr>\n",
       "  </tbody>\n",
       "</table>\n",
       "</div>"
      ],
      "text/plain": [
       "                                   exportdescription           indicator  \\\n",
       "0  availabledischarge_month_Y1969M01_movingaverag...  availabledischarge   \n",
       "1  availabledischarge_month_Y1970M01_movingaverag...  availabledischarge   \n",
       "2  availabledischarge_month_Y1971M01_movingaverag...  availabledischarge   \n",
       "3  availabledischarge_month_Y1972M01_movingaverag...  availabledischarge   \n",
       "4  availabledischarge_month_Y1973M01_movingaverag...  availabledischarge   \n",
       "\n",
       "   month                                   output_i_assetid  \\\n",
       "0    1.0  projects/WRI-Aquaduct/PCRGlobWB20V07/global_hi...   \n",
       "1    1.0  projects/WRI-Aquaduct/PCRGlobWB20V07/global_hi...   \n",
       "2    1.0  projects/WRI-Aquaduct/PCRGlobWB20V07/global_hi...   \n",
       "3    1.0  projects/WRI-Aquaduct/PCRGlobWB20V07/global_hi...   \n",
       "4    1.0  projects/WRI-Aquaduct/PCRGlobWB20V07/global_hi...   \n",
       "\n",
       "                                   output_i_filename  \\\n",
       "0  global_historical_availabledischarge_month_mil...   \n",
       "1  global_historical_availabledischarge_month_mil...   \n",
       "2  global_historical_availabledischarge_month_mil...   \n",
       "3  global_historical_availabledischarge_month_mil...   \n",
       "4  global_historical_availabledischarge_month_mil...   \n",
       "\n",
       "                                   output_ic_assetid  \\\n",
       "0  projects/WRI-Aquaduct/PCRGlobWB20V07/global_hi...   \n",
       "1  projects/WRI-Aquaduct/PCRGlobWB20V07/global_hi...   \n",
       "2  projects/WRI-Aquaduct/PCRGlobWB20V07/global_hi...   \n",
       "3  projects/WRI-Aquaduct/PCRGlobWB20V07/global_hi...   \n",
       "4  projects/WRI-Aquaduct/PCRGlobWB20V07/global_hi...   \n",
       "\n",
       "                                  output_ic_filename    year  \n",
       "0  global_historical_availabledischarge_month_mil...  1969.0  \n",
       "1  global_historical_availabledischarge_month_mil...  1970.0  \n",
       "2  global_historical_availabledischarge_month_mil...  1971.0  \n",
       "3  global_historical_availabledischarge_month_mil...  1972.0  \n",
       "4  global_historical_availabledischarge_month_mil...  1973.0  "
      ]
     },
     "execution_count": 12,
     "metadata": {},
     "output_type": "execute_result"
    }
   ],
   "source": [
    "df.head()"
   ]
  },
  {
   "cell_type": "code",
   "execution_count": 13,
   "metadata": {
    "collapsed": true
   },
   "outputs": [],
   "source": [
    "if TESTING:\n",
    "    df = df[0:1]"
   ]
  },
  {
   "cell_type": "code",
   "execution_count": 14,
   "metadata": {},
   "outputs": [
    {
     "data": {
      "text/plain": [
       "(1, 8)"
      ]
     },
     "execution_count": 14,
     "metadata": {},
     "output_type": "execute_result"
    }
   ],
   "source": [
    "df.shape"
   ]
  },
  {
   "cell_type": "code",
   "execution_count": 15,
   "metadata": {},
   "outputs": [
    {
     "name": "stdout",
     "output_type": "stream",
     "text": [
      "b''\n"
     ]
    }
   ],
   "source": [
    "for output_ic_assetid in df[\"output_ic_assetid\"].unique():\n",
    "    result = create_collection(output_ic_assetid)\n",
    "    print(result)"
   ]
  },
  {
   "cell_type": "code",
   "execution_count": null,
   "metadata": {},
   "outputs": [],
   "source": []
  },
  {
   "cell_type": "code",
   "execution_count": null,
   "metadata": {
    "collapsed": true
   },
   "outputs": [],
   "source": []
  },
  {
   "cell_type": "code",
   "execution_count": 18,
   "metadata": {},
   "outputs": [],
   "source": [
    "function_time_start = datetime.datetime.now()\n",
    "for index, row in df.iterrows():    \n",
    "    ic = ee.ImageCollection(\"{}/global_historical_availableriverdischarge_month_millionm3_5minPfaf6_1960_2014\".format(EE_PATH))\n",
    "    ic_month = ic.filter(ee.Filter.eq(\"month\",row[\"month\"]))\n",
    "    i_mean = moving_average_decade(row[\"year\"],ic_month)"
   ]
  },
  {
   "cell_type": "code",
   "execution_count": 19,
   "metadata": {},
   "outputs": [
    {
     "name": "stdout",
     "output_type": "stream",
     "text": [
      "{'type': 'Image', 'bands': [{'crs': 'EPSG:4326', 'id': 'zones_mode_pfaf6_mean', 'crs_transform': [1.0, 0.0, 0.0, 0.0, 1.0, 0.0], 'data_type': {'max': 9.223372036854776e+18, 'type': 'PixelType', 'precision': 'double', 'min': -9.223372036854776e+18}}, {'crs': 'EPSG:4326', 'id': 'sum_mean', 'crs_transform': [1.0, 0.0, 0.0, 0.0, 1.0, 0.0], 'data_type': {'type': 'PixelType', 'precision': 'double'}}, {'crs': 'EPSG:4326', 'id': 'max_mean', 'crs_transform': [1.0, 0.0, 0.0, 0.0, 1.0, 0.0], 'data_type': {'type': 'PixelType', 'precision': 'double'}}], 'properties': {'description': 'combined', 'month': 1.0, 'units': 'pfaf_id, km2, boolean', 'temporalResolution': 'month', 'parameter': 'reducedDischarge', 'resolution': '5min', 'created_by': 'Rutger Hofste'}}\n"
     ]
    }
   ],
   "source": [
    "print(i_mean.getInfo())"
   ]
  },
  {
   "cell_type": "code",
   "execution_count": null,
   "metadata": {
    "collapsed": true
   },
   "outputs": [],
   "source": []
  }
 ],
 "metadata": {
  "kernelspec": {
   "display_name": "Python 35",
   "language": "python",
   "name": "python35"
  },
  "language_info": {
   "codemirror_mode": {
    "name": "ipython",
    "version": 3
   },
   "file_extension": ".py",
   "mimetype": "text/x-python",
   "name": "python",
   "nbconvert_exporter": "python",
   "pygments_lexer": "ipython3",
   "version": "3.5.4"
  }
 },
 "nbformat": 4,
 "nbformat_minor": 2
}
