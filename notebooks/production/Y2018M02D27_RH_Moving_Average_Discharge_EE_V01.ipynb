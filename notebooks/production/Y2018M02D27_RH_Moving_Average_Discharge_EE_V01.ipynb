{
 "cells": [
  {
   "cell_type": "markdown",
   "metadata": {},
   "source": [
    "# Y2018M02D27_RH_Moving_Average_Discharge_EE_V01\n",
    "\n",
    "* Purpose of script: Moving average for discharge at basin resolution. The script will calculate the volumetric and flux 10 year moving average at a Pfaf6 basin level for total demand. (potentially also per sector demand)\n",
    "\n",
    "* Script exports to: \n",
    "* Update this projects/WRI-Aquaduct/PCRGlobWB20V07/global_historical_PTotWW_month_m_pfaf06_1960_2014_movingaverage_10y_V01\n",
    "* Update this projects/WRI-Aquaduct/PCRGlobWB20V07/global_historical_PTotWN_month_m_pfaf06_1960_2014_movingaverage_10y_V01\n",
    "* Kernel used: python35\n",
    "* Date created: 20170301\n",
    "\n",
    "The imageCollection global_historical_availableriverdischarge_month_millionm3_5minPfaf6_1960_2014 (output of script: Y2017M12D07_RH_ZonalStats_MaxQ_toImage_EE_V01) contains three bands: \n",
    "\n",
    "1. zones_mode_pfaf6  \n",
    "1. sum. sum is the sum of the discharge in millionm3 at the q_search_mask (output of Y2017M12D06_RH_Conservative_Basin_Sinks_EE_V01). q_search_mask is FAmax-1 expect when endorheic or sinks\n",
    "1. max. global maximum of Q within basin. \n",
    "\n",
    "\n",
    "\n",
    "\n"
   ]
  },
  {
   "cell_type": "code",
   "execution_count": null,
   "metadata": {},
   "outputs": [],
   "source": [
    "\"\"\"\n",
    "Methodology to apply. \n",
    "\n",
    "\n",
    "if qmax < 1.25 qsum:\n",
    "    q = qmax\n",
    "else:\n",
    "    q = qsum\n",
    "    \n",
    "Can be optimized. Options include: Use flow accumulation instead of discharge\n",
    "Use multiple level FAmax FAmax-1 FAmax-2 etc. \n",
    "    \n",
    "\n",
    "\"\"\"\n"
   ]
  },
  {
   "cell_type": "code",
   "execution_count": null,
   "metadata": {},
   "outputs": [],
   "source": [
    "import time, datetime, sys\n",
    "dateString = time.strftime(\"Y%YM%mD%d\")\n",
    "timeString = time.strftime(\"UTC %H:%M\")\n",
    "start = datetime.datetime.now()\n",
    "print(dateString,timeString)\n",
    "sys.version"
   ]
  },
  {
   "cell_type": "code",
   "execution_count": null,
   "metadata": {
    "collapsed": true
   },
   "outputs": [],
   "source": [
    "SCRIPT_NAME = \"Y2018M02D27_RH_Moving_Average_Discharge_EE_V01\"\n",
    "\n",
    "CRS = \"EPSG:4326\"\n",
    "\n",
    "EE_PATH = \"projects/WRI-Aquaduct/PCRGlobWB20V07\"\n",
    "\n",
    "OUTPUT_VERSION = 1\n",
    "\n",
    "DIMENSION5MIN = {}\n",
    "DIMENSION5MIN[\"x\"] = 4320\n",
    "DIMENSION5MIN[\"y\"] = 2160\n",
    "\n",
    "\n",
    "MA_WINDOW_LENGTH = 10 # Moving average window length. \n",
    "\n",
    "TESTING = 0"
   ]
  },
  {
   "cell_type": "code",
   "execution_count": null,
   "metadata": {
    "collapsed": true
   },
   "outputs": [],
   "source": [
    "import ee\n",
    "import os\n",
    "import logging\n",
    "import pandas as pd\n",
    "import subprocess"
   ]
  },
  {
   "cell_type": "code",
   "execution_count": null,
   "metadata": {
    "collapsed": true
   },
   "outputs": [],
   "source": [
    "ee.Initialize()"
   ]
  },
  {
   "cell_type": "code",
   "execution_count": null,
   "metadata": {
    "collapsed": true
   },
   "outputs": [],
   "source": [
    "logger = logging.getLogger(__name__)\n",
    "logger.setLevel(logging.DEBUG)\n",
    "formatter = logging.Formatter('%(asctime)s:%(levelname)s:%(message)s')\n",
    "file_handler = logging.FileHandler(\"./logs/%sV%0.2d.log\" %(SCRIPT_NAME,OUTPUT_VERSION))\n",
    "file_handler.setFormatter(formatter)\n",
    "logger.addHandler(file_handler)"
   ]
  },
  {
   "cell_type": "code",
   "execution_count": null,
   "metadata": {
    "collapsed": true
   },
   "outputs": [],
   "source": [
    "geometry = ee.Geometry.Polygon(coords=[[-180.0, -90.0], [180,  -90.0], [180, 90], [-180,90]], proj= ee.Projection('EPSG:4326'),geodesic=False )"
   ]
  },
  {
   "cell_type": "code",
   "execution_count": null,
   "metadata": {},
   "outputs": [],
   "source": [
    "crsTransform5minSmall = [\n",
    "    360.0 / DIMENSION5MIN[\"x\"], \n",
    "    0,\n",
    "    -180,\n",
    "    0,\n",
    "    -162.0 / (0.9* DIMENSION5MIN[\"y\"]),\n",
    "    81   \n",
    "]\n",
    "\n",
    "dimensions5minSmall = \"{}x{}\".format(DIMENSION5MIN[\"x\"],int(0.9*DIMENSION5MIN[\"y\"]))"
   ]
  },
  {
   "cell_type": "code",
   "execution_count": null,
   "metadata": {
    "collapsed": true
   },
   "outputs": [],
   "source": [
    "def create_collection(assetid):\n",
    "    \"\"\" Create image collection in earth engine asset folder\n",
    "    \n",
    "    This function will only work if the folder in which the\n",
    "    new imageCollection will be created is valid\n",
    "    \n",
    "    \n",
    "    Args:\n",
    "        assetid (string) : asset id for the new image collection\n",
    "    \n",
    "    Returns: \n",
    "        result (string) : captured message from command line\n",
    "    \n",
    "    \"\"\"   \n",
    "    \n",
    "    command = \"earthengine create collection {}\".format(assetid) \n",
    "    result = subprocess.check_output(command,shell=True)\n",
    "    if result:\n",
    "        logger.error(result)\n",
    "    return result \n"
   ]
  },
  {
   "cell_type": "code",
   "execution_count": null,
   "metadata": {
    "collapsed": true
   },
   "outputs": [],
   "source": []
  },
  {
   "cell_type": "code",
   "execution_count": null,
   "metadata": {
    "collapsed": true
   },
   "outputs": [],
   "source": []
  },
  {
   "cell_type": "code",
   "execution_count": null,
   "metadata": {
    "collapsed": true
   },
   "outputs": [],
   "source": [
    "months = range(1,13)\n",
    "years = range(1960+9,2014+1)\n",
    "indicators = [\"availabledischarge\"]"
   ]
  },
  {
   "cell_type": "code",
   "execution_count": null,
   "metadata": {
    "collapsed": true
   },
   "outputs": [],
   "source": []
  },
  {
   "cell_type": "code",
   "execution_count": null,
   "metadata": {},
   "outputs": [],
   "source": [
    "df = pd.DataFrame()\n",
    "for indicator in indicators:\n",
    "    for month in months:\n",
    "        for year in years:\n",
    "            newRow = {}\n",
    "            newRow[\"month\"] = month\n",
    "            newRow[\"year\"] = year\n",
    "            newRow[\"output_ic_filename\"] = \"global_historical_{}_month_millionm3_5minPfaf06_1960_2014_movingaverage_10y_V{:02.0f}\".format(indicator,OUTPUT_VERSION)\n",
    "            newRow[\"output_ic_assetid\"] = \"{}/{}\".format(EE_PATH,newRow[\"output_ic_filename\"])\n",
    "            newRow[\"output_i_filename\"] = \"global_historical_{}_month_millionm3_5minPfaf06_Y{:04.0f}M{:02.0f}_movingaverage_10y_V{:02.0f}\".format(indicator,year,month,OUTPUT_VERSION)\n",
    "            newRow[\"output_i_assetid\"] = \"{}/{}\".format(newRow[\"output_ic_assetid\"],newRow[\"output_i_filename\"])\n",
    "            newRow[\"indicator\"] = indicator\n",
    "            newRow[\"exportdescription\"] = \"{}_month_Y{:04.0f}M{:02.0f}_movingaverage_10y\".format(indicator,year,month)\n",
    "            df= df.append(newRow,ignore_index=True)"
   ]
  },
  {
   "cell_type": "code",
   "execution_count": null,
   "metadata": {},
   "outputs": [],
   "source": [
    "df.head()"
   ]
  },
  {
   "cell_type": "code",
   "execution_count": null,
   "metadata": {},
   "outputs": [],
   "source": [
    "df.shape"
   ]
  },
  {
   "cell_type": "code",
   "execution_count": null,
   "metadata": {},
   "outputs": [],
   "source": [
    "for output_ic_assetid in df[\"output_ic_assetid\"].unique():\n",
    "    result = create_collection(output_ic_assetid)\n",
    "    print(result)"
   ]
  },
  {
   "cell_type": "code",
   "execution_count": null,
   "metadata": {
    "collapsed": true
   },
   "outputs": [],
   "source": []
  }
 ],
 "metadata": {
  "kernelspec": {
   "display_name": "Python 35",
   "language": "python",
   "name": "python35"
  },
  "language_info": {
   "codemirror_mode": {
    "name": "ipython",
    "version": 3
   },
   "file_extension": ".py",
   "mimetype": "text/x-python",
   "name": "python",
   "nbconvert_exporter": "python",
   "pygments_lexer": "ipython3",
   "version": "3.5.4"
  }
 },
 "nbformat": 4,
 "nbformat_minor": 2
}
