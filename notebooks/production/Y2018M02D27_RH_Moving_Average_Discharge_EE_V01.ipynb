{
 "cells": [
  {
   "cell_type": "markdown",
   "metadata": {},
   "source": [
    "# Y2018M02D27_RH_Moving_Average_Discharge_EE_V01\n",
    "\n",
    "* Purpose of script: Moving average for discharge at basin resolution. The script will calculate the volumetric and flux 10 year moving average at a Pfaf6 basin level for total demand. (potentially also per sector demand)\n",
    "\n",
    "* Script exports to: \n",
    "* Update this projects/WRI-Aquaduct/PCRGlobWB20V07/global_historical_PTotWW_month_m_pfaf06_1960_2014_movingaverage_10y_V01\n",
    "* Update this projects/WRI-Aquaduct/PCRGlobWB20V07/global_historical_PTotWN_month_m_pfaf06_1960_2014_movingaverage_10y_V01\n",
    "* Kernel used: python35\n",
    "* Date created: 20170301\n",
    "\n",
    "The imageCollection global_historical_availableriverdischarge_month_millionm3_5minPfaf6_1960_2014 (output of script: Y2017M12D07_RH_ZonalStats_MaxQ_toImage_EE_V01) contains three bands: \n",
    "\n",
    "1. zones_mode_pfaf6  \n",
    "1. sum. sum is the sum of the discharge in millionm3 at the q_search_mask (output of Y2017M12D06_RH_Conservative_Basin_Sinks_EE_V01). q_search_mask is FAmax-1 expect when endorheic or sinks\n",
    "1. max. global maximum of Q within basin. \n",
    "\n",
    "\n",
    "\n",
    "Methodology to apply. \n",
    "\n",
    "\n",
    "if qmax < 1.25 qsum:  \n",
    "    q = qmax  \n",
    "else:  \n",
    "    q = qsum  \n",
    "    \n",
    "Can be optimized. Options include: Use flow accumulation instead of discharge\n",
    "Use multiple level FAmax FAmax-1 FAmax-2 etc. \n",
    "    \n",
    "\n",
    "\n",
    "\n"
   ]
  },
  {
   "cell_type": "code",
   "execution_count": 1,
   "metadata": {},
   "outputs": [
    {
     "name": "stdout",
     "output_type": "stream",
     "text": [
      "Y2018M03D07 UTC 09:28\n"
     ]
    },
    {
     "data": {
      "text/plain": [
       "'3.5.4 |Continuum Analytics, Inc.| (default, Aug 14 2017, 13:26:58) \\n[GCC 4.4.7 20120313 (Red Hat 4.4.7-1)]'"
      ]
     },
     "execution_count": 1,
     "metadata": {},
     "output_type": "execute_result"
    }
   ],
   "source": [
    "import time, datetime, sys\n",
    "dateString = time.strftime(\"Y%YM%mD%d\")\n",
    "timeString = time.strftime(\"UTC %H:%M\")\n",
    "start = datetime.datetime.now()\n",
    "print(dateString,timeString)\n",
    "sys.version"
   ]
  },
  {
   "cell_type": "code",
   "execution_count": 2,
   "metadata": {
    "collapsed": true
   },
   "outputs": [],
   "source": [
    "SCRIPT_NAME = \"Y2018M02D27_RH_Moving_Average_Discharge_EE_V01\"\n",
    "\n",
    "CRS = \"EPSG:4326\"\n",
    "\n",
    "EE_PATH = \"projects/WRI-Aquaduct/PCRGlobWB20V07\"\n",
    "\n",
    "OUTPUT_VERSION = 2\n",
    "\n",
    "DIMENSION5MIN = {}\n",
    "DIMENSION5MIN[\"x\"] = 4320\n",
    "DIMENSION5MIN[\"y\"] = 2160\n",
    "\n",
    "\n",
    "MA_WINDOW_LENGTH = 10 # Moving average window length. \n",
    "\n",
    "TESTING = 1\n",
    "\n",
    "THRESHOLD = 1.25\n",
    "\n",
    "PFAF_LEVEL = 6\n",
    "\n",
    "DIMENSIONS30SSMALL = \"43200x19440\"\n",
    "CRS_TRANSFORM30S_SMALL = [0.008333333333333333, 0.0, -180.0, 0.0, -0.008333333333333333, 81.0]"
   ]
  },
  {
   "cell_type": "code",
   "execution_count": 3,
   "metadata": {
    "collapsed": true
   },
   "outputs": [],
   "source": [
    "import ee\n",
    "import os\n",
    "import logging\n",
    "import pandas as pd\n",
    "import subprocess"
   ]
  },
  {
   "cell_type": "code",
   "execution_count": 4,
   "metadata": {
    "collapsed": true
   },
   "outputs": [],
   "source": [
    "ee.Initialize()"
   ]
  },
  {
   "cell_type": "code",
   "execution_count": 5,
   "metadata": {
    "collapsed": true
   },
   "outputs": [],
   "source": [
    "logger = logging.getLogger(__name__)\n",
    "logger.setLevel(logging.DEBUG)\n",
    "formatter = logging.Formatter('%(asctime)s:%(levelname)s:%(message)s')\n",
    "file_handler = logging.FileHandler(\"./logs/%sV%0.2d.log\" %(SCRIPT_NAME,OUTPUT_VERSION))\n",
    "file_handler.setFormatter(formatter)\n",
    "logger.addHandler(file_handler)"
   ]
  },
  {
   "cell_type": "code",
   "execution_count": 6,
   "metadata": {
    "collapsed": true
   },
   "outputs": [],
   "source": [
    "geometry = ee.Geometry.Polygon(coords=[[-180.0, -90.0], [180,  -90.0], [180, 90], [-180,90]], proj= ee.Projection('EPSG:4326'),geodesic=False )"
   ]
  },
  {
   "cell_type": "code",
   "execution_count": 7,
   "metadata": {
    "collapsed": true
   },
   "outputs": [],
   "source": [
    "geometrySmall = ee.Geometry.Polygon(coords=[[-180.0, -81.0], [180,  -81.0], [180, 81], [-180,81]], proj= ee.Projection('EPSG:4326'),geodesic=False )"
   ]
  },
  {
   "cell_type": "code",
   "execution_count": 8,
   "metadata": {},
   "outputs": [],
   "source": [
    "area30s = ee.Image(\"projects/WRI-Aquaduct/PCRGlobWB20V07/area_30s_m2V11\")\n",
    "zones30s = ee.Image(\"projects/WRI-Aquaduct/PCRGlobWB20V07/hybas_lev00_v1c_merged_fiona_30s_V01\")\n",
    "zones30s = zones30s.divide(ee.Number(10).pow(ee.Number(12).subtract(PFAF_LEVEL))).floor().toInt64();\n",
    "\n",
    "crs30s = area30s.projection()\n",
    "\n",
    "area30s_pfaf06 = ee.Image(\"projects/WRI-Aquaduct/PCRGlobWB20V07/area_30spfaf06_m2_V01V01\").select([\"sum\"])\n",
    "\n",
    "scale30s = zones30s.projection().nominalScale().getInfo()"
   ]
  },
  {
   "cell_type": "code",
   "execution_count": 9,
   "metadata": {},
   "outputs": [
    {
     "data": {
      "text/plain": [
       "'\\ncrsTransform5min = [\\n                0.0833333309780367,\\n                0,\\n                -179.99999491255934,\\n                0,\\n                -0.0833333309780367,\\n                90.00000254430942\\n              ]\\n'"
      ]
     },
     "execution_count": 9,
     "metadata": {},
     "output_type": "execute_result"
    }
   ],
   "source": [
    "\"\"\"\n",
    "crsTransform5min = [\n",
    "                0.0833333309780367,\n",
    "                0,\n",
    "                -179.99999491255934,\n",
    "                0,\n",
    "                -0.0833333309780367,\n",
    "                90.00000254430942\n",
    "              ]\n",
    "\"\"\""
   ]
  },
  {
   "cell_type": "code",
   "execution_count": 10,
   "metadata": {},
   "outputs": [],
   "source": [
    "def prepare_discharge_collection(image):\n",
    "    \"\"\" find the available discharge based on max and sum bands of available discharge\n",
    "    \n",
    "    if qmax =< threshold (1.25) qsum:\n",
    "        q = qmax\n",
    "    else:\n",
    "        q = qsum\n",
    "    \n",
    "    Args:\n",
    "        i_in (ee.Image) :image of available discharge with three bands: zones, max and sum\n",
    "    \n",
    "    Returns:\n",
    "        i_q_out (ee.Image) : image with only one band 'b1'\n",
    "    \n",
    "    \n",
    "    \"\"\"\n",
    "\n",
    "\n",
    "    i_q_max = image.select([\"max\"])  \n",
    "    i_q_sum = image.select([\"sum\"])\n",
    "    \n",
    "    i_ratio_q = i_q_max.divide(i_q_sum)\n",
    "       \n",
    "    use_max = i_ratio_q.lte(THRESHOLD)\n",
    "    use_sum = i_ratio_q.gt(THRESHOLD)\n",
    "    \n",
    "    i_q_out = use_max.multiply(i_q_max).add((use_sum.multiply(i_q_sum)))\n",
    "    i_q_out = i_q_out.select([\"max\"],[\"b1\"]) \n",
    "    i_q_out = i_q_out.copyProperties(image)                                                                              \n",
    "                                                             \n",
    "    return i_q_out\n",
    "\n",
    "\n",
    "\n",
    "def create_collection(assetid):\n",
    "    \"\"\" Create image collection in earth engine asset folder\n",
    "    \n",
    "    This function will only work if the folder in which the\n",
    "    new imageCollection will be created is valid\n",
    "    \n",
    "    \n",
    "    Args:\n",
    "        assetid (string) : asset id for the new image collection\n",
    "    \n",
    "    Returns: \n",
    "        result (string) : captured message from command line\n",
    "    \n",
    "    \"\"\"   \n",
    "    \n",
    "    command = \"earthengine create collection {}\".format(assetid) \n",
    "    result = subprocess.check_output(command,shell=True)\n",
    "    if result:\n",
    "        logger.error(result)\n",
    "    return result \n",
    "\n",
    "\n",
    "def moving_average_decade(year,ic):\n",
    "    \"\"\" Calculate a 10 year moving average\n",
    "    \n",
    "    This function is limited to one input paramater to allow mapping over a simple list. \n",
    "    Averages the 10 year up to the input year. (]\n",
    "    \n",
    "    Global variables required include an imageCollection with a year property.\n",
    "    \n",
    "    \n",
    "    Args:\n",
    "        year (integer) : final year of interest.\n",
    "        ic (ee.ImageCollection) : input imageCollection\n",
    "    \n",
    "    Returns: \n",
    "        image (ee.Image) : earth engine image with the mean of the last 10 years\n",
    "    \"\"\"\n",
    "    \n",
    "    min_year = year - MA_WINDOW_LENGTH\n",
    "    \n",
    "    ic_filtered = (ic.filter(ee.Filter.gt(\"year\",min_year))\n",
    "                     .filter(ee.Filter.lte(\"year\",year)))\n",
    "                  \n",
    "    i_mean = ic_filtered.reduce(ee.Reducer.mean()) \n",
    "    \n",
    "    \n",
    "    i_mean = i_mean.copyProperties(source=ic_filtered.first(),\n",
    "                          exclude=[\"script_used\",\n",
    "                                   \"output_version\",\n",
    "                                   \"year\",\n",
    "                                   \"output_version\",\n",
    "                                   \"version\",\n",
    "                                   \"reducer\",\n",
    "                                   \"description\"])\n",
    "    \n",
    "    return ee.Image(i_mean)\n",
    "\n",
    "\n",
    "def mapList(results, key):\n",
    "    newResult = results.map(lambda x: ee.Dictionary(x).get(key))\n",
    "    return newResult\n",
    "\n",
    "def ensure_default_properties(obj): \n",
    "    obj = ee.Dictionary(obj)\n",
    "    default_properties = ee.Dictionary({\"mean\": -9999,\"count\": -9999})\n",
    "    return default_properties.combine(obj)\n",
    "\n",
    "\n",
    "def zonal_stats_to_raster(image,zonesImage,geometry,maxPixels,reducerType,scale):\n",
    "    # reducertype can be mean, max, sum, first. Count is always included for QA\n",
    "    # the resolution of the zonesimage is used for scale\n",
    "\n",
    "    reducer = ee.Algorithms.If(ee.Algorithms.IsEqual(reducerType,\"mean\"),ee.Reducer.mean(),\n",
    "    ee.Algorithms.If(ee.Algorithms.IsEqual(reducerType,\"max\"),ee.Reducer.max(),\n",
    "    ee.Algorithms.If(ee.Algorithms.IsEqual(reducerType,\"sum\"),ee.Reducer.sum(),\n",
    "    ee.Algorithms.If(ee.Algorithms.IsEqual(reducerType,\"first\"),ee.Reducer.first(),\n",
    "    ee.Algorithms.If(ee.Algorithms.IsEqual(reducerType,\"mode\"),ee.Reducer.mode(),\"error\"))))\n",
    "    )\n",
    "    reducer = ee.Reducer(reducer).combine(reducer2= ee.Reducer.count(), sharedInputs= True).group(groupField=1, groupName=\"zones\") \n",
    "\n",
    "    \n",
    "    zonesImage = zonesImage.select(zonesImage.bandNames(),[\"zones\"])\n",
    "\n",
    "    totalImage = ee.Image(image).addBands(zonesImage)\n",
    "    resultsList = ee.List(totalImage.reduceRegion(\n",
    "        geometry= geometry, \n",
    "        reducer= reducer,\n",
    "        scale= scale,\n",
    "        maxPixels=maxPixels,\n",
    "        bestEffort =True\n",
    "        ).get(\"groups\"))\n",
    "\n",
    "    resultsList = resultsList.map(ensure_default_properties); \n",
    "    zoneList = mapList(resultsList, 'zones');\n",
    "    countList = mapList(resultsList, 'count');\n",
    "    valueList = mapList(resultsList, reducerType);\n",
    "\n",
    "    valueImage = zonesImage.remap(zoneList, valueList).select([\"remapped\"],[reducerType])\n",
    "    countImage = zonesImage.remap(zoneList, countList).select([\"remapped\"],[\"count\"])\n",
    "    newImage = zonesImage.addBands(countImage).addBands(valueImage)\n",
    "    return newImage\n",
    "\n",
    "\n",
    "def set_properties(image):\n",
    "    \"\"\" Set properties to image based on rows in pandas dataframe\n",
    "    \n",
    "    Args:\n",
    "        image (ee.Image) : image without properties\n",
    "        \n",
    "    Returns:\n",
    "        image_out (ee.Image) : image with properties\n",
    "    \"\"\"\n",
    "    \n",
    "    properties ={}\n",
    "    properties[\"year\"] = row[\"year\"]\n",
    "    properties[\"month\"] = row[\"month\"]\n",
    "    properties[\"units\"] = \"millionm3\"\n",
    "    properties[\"moving_average_length\"] = MA_WINDOW_LENGTH\n",
    "    properties[\"moving_average_year_min\"] = row[\"year\"]- (MA_WINDOW_LENGTH-1)\n",
    "    properties[\"script_used\"] = SCRIPT_NAME\n",
    "    properties[\"indicator\"] = row[\"indicator\"]\n",
    "    properties[\"version\"] = OUTPUT_VERSION\n",
    "    properties[\"spatial_resolution\"] = \"30s\"\n",
    "    properties[\"exportdescription\"] = row[\"exportdescription\"]\n",
    "    \n",
    "    image_out = ee.Image(image).set(properties)\n",
    "    return image_out\n",
    "\n",
    "\n",
    "def export_asset(image):\n",
    "    \"\"\" Export a google earth engine image to an asset folder\n",
    "    \n",
    "    function will start a new task. To view the status of the task\n",
    "    check the javascript API or query tasks script. Function is used \n",
    "    as mapped function so other arguments need to be set globally. \n",
    "    \n",
    "    Args:\n",
    "        image (ee.Image) : Image to export\n",
    "        \n",
    "    Returns:\n",
    "        asset_id (string) : asset id of     \n",
    "    \"\"\"\n",
    "    \n",
    "    asset_id = row[\"output_i_assetid\"]\n",
    "    task = ee.batch.Export.image.toAsset(\n",
    "        image =  ee.Image(image),\n",
    "        description = \"{}V{}\".format(row[\"exportdescription\"],OUTPUT_VERSION),\n",
    "        assetId = asset_id,\n",
    "        dimensions = DIMENSIONS30SSMALL,\n",
    "        crs = CRS,\n",
    "        crsTransform = CRS_TRANSFORM30S_SMALL,\n",
    "        maxPixels = 1e10     \n",
    "    )\n",
    "    task.start()\n",
    "    return asset_id\n",
    "\n",
    "\n"
   ]
  },
  {
   "cell_type": "code",
   "execution_count": 11,
   "metadata": {},
   "outputs": [],
   "source": [
    "area30sPfaf6 = zonal_stats_to_raster(area30s,zones30s,geometrySmall,1e10,\"sum\",scale30s)"
   ]
  },
  {
   "cell_type": "code",
   "execution_count": 12,
   "metadata": {
    "collapsed": true
   },
   "outputs": [],
   "source": [
    "area30sPfaf6_m2 = area30sPfaf6.select([\"sum\"]) # image at 30s with area in m^2 per basin"
   ]
  },
  {
   "cell_type": "code",
   "execution_count": 13,
   "metadata": {
    "collapsed": true
   },
   "outputs": [],
   "source": [
    "months = range(1,13)\n",
    "years = range(1960+9,2014+1)\n",
    "indicators = [\"availabledischarge\"]"
   ]
  },
  {
   "cell_type": "code",
   "execution_count": 14,
   "metadata": {
    "collapsed": true
   },
   "outputs": [],
   "source": [
    "df = pd.DataFrame()\n",
    "for indicator in indicators:\n",
    "    for month in months:\n",
    "        for year in years:\n",
    "            newRow = {}\n",
    "            newRow[\"month\"] = month\n",
    "            newRow[\"year\"] = year\n",
    "            newRow[\"output_ic_filename\"] = \"global_historical_{}_month_millionm3_pfaf06_1960_2014_movingaverage_10y_V{:02.0f}\".format(indicator,OUTPUT_VERSION)\n",
    "            newRow[\"output_ic_assetid\"] = \"{}/{}\".format(EE_PATH,newRow[\"output_ic_filename\"])\n",
    "            newRow[\"output_i_filename\"] = \"global_historical_{}_month_millionm3_pfaf06_Y{:04.0f}M{:02.0f}_movingaverage_10y_V{:02.0f}\".format(indicator,year,month,OUTPUT_VERSION)\n",
    "            newRow[\"output_i_assetid\"] = \"{}/{}\".format(newRow[\"output_ic_assetid\"],newRow[\"output_i_filename\"])\n",
    "            newRow[\"indicator\"] = indicator\n",
    "            newRow[\"exportdescription\"] = \"{}_month_Y{:04.0f}M{:02.0f}_movingaverage_10y\".format(indicator,year,month)\n",
    "            df= df.append(newRow,ignore_index=True)"
   ]
  },
  {
   "cell_type": "code",
   "execution_count": 15,
   "metadata": {},
   "outputs": [
    {
     "data": {
      "text/html": [
       "<div>\n",
       "<style>\n",
       "    .dataframe thead tr:only-child th {\n",
       "        text-align: right;\n",
       "    }\n",
       "\n",
       "    .dataframe thead th {\n",
       "        text-align: left;\n",
       "    }\n",
       "\n",
       "    .dataframe tbody tr th {\n",
       "        vertical-align: top;\n",
       "    }\n",
       "</style>\n",
       "<table border=\"1\" class=\"dataframe\">\n",
       "  <thead>\n",
       "    <tr style=\"text-align: right;\">\n",
       "      <th></th>\n",
       "      <th>exportdescription</th>\n",
       "      <th>indicator</th>\n",
       "      <th>month</th>\n",
       "      <th>output_i_assetid</th>\n",
       "      <th>output_i_filename</th>\n",
       "      <th>output_ic_assetid</th>\n",
       "      <th>output_ic_filename</th>\n",
       "      <th>year</th>\n",
       "    </tr>\n",
       "  </thead>\n",
       "  <tbody>\n",
       "    <tr>\n",
       "      <th>0</th>\n",
       "      <td>availabledischarge_month_Y1969M01_movingaverag...</td>\n",
       "      <td>availabledischarge</td>\n",
       "      <td>1.0</td>\n",
       "      <td>projects/WRI-Aquaduct/PCRGlobWB20V07/global_hi...</td>\n",
       "      <td>global_historical_availabledischarge_month_mil...</td>\n",
       "      <td>projects/WRI-Aquaduct/PCRGlobWB20V07/global_hi...</td>\n",
       "      <td>global_historical_availabledischarge_month_mil...</td>\n",
       "      <td>1969.0</td>\n",
       "    </tr>\n",
       "    <tr>\n",
       "      <th>1</th>\n",
       "      <td>availabledischarge_month_Y1970M01_movingaverag...</td>\n",
       "      <td>availabledischarge</td>\n",
       "      <td>1.0</td>\n",
       "      <td>projects/WRI-Aquaduct/PCRGlobWB20V07/global_hi...</td>\n",
       "      <td>global_historical_availabledischarge_month_mil...</td>\n",
       "      <td>projects/WRI-Aquaduct/PCRGlobWB20V07/global_hi...</td>\n",
       "      <td>global_historical_availabledischarge_month_mil...</td>\n",
       "      <td>1970.0</td>\n",
       "    </tr>\n",
       "    <tr>\n",
       "      <th>2</th>\n",
       "      <td>availabledischarge_month_Y1971M01_movingaverag...</td>\n",
       "      <td>availabledischarge</td>\n",
       "      <td>1.0</td>\n",
       "      <td>projects/WRI-Aquaduct/PCRGlobWB20V07/global_hi...</td>\n",
       "      <td>global_historical_availabledischarge_month_mil...</td>\n",
       "      <td>projects/WRI-Aquaduct/PCRGlobWB20V07/global_hi...</td>\n",
       "      <td>global_historical_availabledischarge_month_mil...</td>\n",
       "      <td>1971.0</td>\n",
       "    </tr>\n",
       "    <tr>\n",
       "      <th>3</th>\n",
       "      <td>availabledischarge_month_Y1972M01_movingaverag...</td>\n",
       "      <td>availabledischarge</td>\n",
       "      <td>1.0</td>\n",
       "      <td>projects/WRI-Aquaduct/PCRGlobWB20V07/global_hi...</td>\n",
       "      <td>global_historical_availabledischarge_month_mil...</td>\n",
       "      <td>projects/WRI-Aquaduct/PCRGlobWB20V07/global_hi...</td>\n",
       "      <td>global_historical_availabledischarge_month_mil...</td>\n",
       "      <td>1972.0</td>\n",
       "    </tr>\n",
       "    <tr>\n",
       "      <th>4</th>\n",
       "      <td>availabledischarge_month_Y1973M01_movingaverag...</td>\n",
       "      <td>availabledischarge</td>\n",
       "      <td>1.0</td>\n",
       "      <td>projects/WRI-Aquaduct/PCRGlobWB20V07/global_hi...</td>\n",
       "      <td>global_historical_availabledischarge_month_mil...</td>\n",
       "      <td>projects/WRI-Aquaduct/PCRGlobWB20V07/global_hi...</td>\n",
       "      <td>global_historical_availabledischarge_month_mil...</td>\n",
       "      <td>1973.0</td>\n",
       "    </tr>\n",
       "  </tbody>\n",
       "</table>\n",
       "</div>"
      ],
      "text/plain": [
       "                                   exportdescription           indicator  \\\n",
       "0  availabledischarge_month_Y1969M01_movingaverag...  availabledischarge   \n",
       "1  availabledischarge_month_Y1970M01_movingaverag...  availabledischarge   \n",
       "2  availabledischarge_month_Y1971M01_movingaverag...  availabledischarge   \n",
       "3  availabledischarge_month_Y1972M01_movingaverag...  availabledischarge   \n",
       "4  availabledischarge_month_Y1973M01_movingaverag...  availabledischarge   \n",
       "\n",
       "   month                                   output_i_assetid  \\\n",
       "0    1.0  projects/WRI-Aquaduct/PCRGlobWB20V07/global_hi...   \n",
       "1    1.0  projects/WRI-Aquaduct/PCRGlobWB20V07/global_hi...   \n",
       "2    1.0  projects/WRI-Aquaduct/PCRGlobWB20V07/global_hi...   \n",
       "3    1.0  projects/WRI-Aquaduct/PCRGlobWB20V07/global_hi...   \n",
       "4    1.0  projects/WRI-Aquaduct/PCRGlobWB20V07/global_hi...   \n",
       "\n",
       "                                   output_i_filename  \\\n",
       "0  global_historical_availabledischarge_month_mil...   \n",
       "1  global_historical_availabledischarge_month_mil...   \n",
       "2  global_historical_availabledischarge_month_mil...   \n",
       "3  global_historical_availabledischarge_month_mil...   \n",
       "4  global_historical_availabledischarge_month_mil...   \n",
       "\n",
       "                                   output_ic_assetid  \\\n",
       "0  projects/WRI-Aquaduct/PCRGlobWB20V07/global_hi...   \n",
       "1  projects/WRI-Aquaduct/PCRGlobWB20V07/global_hi...   \n",
       "2  projects/WRI-Aquaduct/PCRGlobWB20V07/global_hi...   \n",
       "3  projects/WRI-Aquaduct/PCRGlobWB20V07/global_hi...   \n",
       "4  projects/WRI-Aquaduct/PCRGlobWB20V07/global_hi...   \n",
       "\n",
       "                                  output_ic_filename    year  \n",
       "0  global_historical_availabledischarge_month_mil...  1969.0  \n",
       "1  global_historical_availabledischarge_month_mil...  1970.0  \n",
       "2  global_historical_availabledischarge_month_mil...  1971.0  \n",
       "3  global_historical_availabledischarge_month_mil...  1972.0  \n",
       "4  global_historical_availabledischarge_month_mil...  1973.0  "
      ]
     },
     "execution_count": 15,
     "metadata": {},
     "output_type": "execute_result"
    }
   ],
   "source": [
    "df.head()"
   ]
  },
  {
   "cell_type": "code",
   "execution_count": 16,
   "metadata": {
    "collapsed": true
   },
   "outputs": [],
   "source": [
    "if TESTING:\n",
    "    df = df[0:1]"
   ]
  },
  {
   "cell_type": "code",
   "execution_count": 17,
   "metadata": {},
   "outputs": [
    {
     "data": {
      "text/plain": [
       "(1, 8)"
      ]
     },
     "execution_count": 17,
     "metadata": {},
     "output_type": "execute_result"
    }
   ],
   "source": [
    "df.shape"
   ]
  },
  {
   "cell_type": "code",
   "execution_count": 18,
   "metadata": {},
   "outputs": [
    {
     "name": "stdout",
     "output_type": "stream",
     "text": [
      "b''\n"
     ]
    }
   ],
   "source": [
    "for output_ic_assetid in df[\"output_ic_assetid\"].unique():\n",
    "    result = create_collection(output_ic_assetid)\n",
    "    print(result)"
   ]
  },
  {
   "cell_type": "code",
   "execution_count": 19,
   "metadata": {},
   "outputs": [
    {
     "name": "stdout",
     "output_type": "stream",
     "text": [
      "Processing image 0 month 1.0 of year 1969.0 runtime 0:00:02.037598\n"
     ]
    }
   ],
   "source": [
    "function_time_start = datetime.datetime.now()\n",
    "for index, row in df.iterrows():    \n",
    "    ic = ee.ImageCollection(\"{}/global_historical_availableriverdischarge_month_millionm3_5minPfaf6_1960_2014\".format(EE_PATH))\n",
    "    ic_month = ic.filter(ee.Filter.eq(\"month\",row[\"month\"]))\n",
    "    \n",
    "    \n",
    "    ic_month_simplified = ic_month.map(prepare_discharge_collection)\n",
    "    i_mean = moving_average_decade(row[\"year\"],ic_month_simplified)\n",
    "    \n",
    "    \n",
    "    \n",
    "    # The result of this operation is at 5arc min. The withdrawal and demand data is at 30s though. Resampling to 30s using the \"mode\" aka majority\n",
    "    i_mean_30s = zonal_stats_to_raster(i_mean,zones30s,geometrySmall,1e10,\"mode\",scale30s).select([\"mode\"])\n",
    "    i_mean_30s = i_mean_30s.copyProperties(\n",
    "        source = i_mean,\n",
    "        exclude= [\"resolution\",\"spatial_resolution\"])\n",
    "    i_mean_30s = set_properties(i_mean_30s)\n",
    "        \n",
    "    asset_id = export_asset(i_mean_30s)\n",
    "    logger.info(asset_id)\n",
    "    elapsed = datetime.datetime.now() - function_time_start\n",
    "    print(\"Processing image {} month {} of year {} runtime {}\".format(index,row[\"month\"],row[\"year\"],elapsed))"
   ]
  },
  {
   "cell_type": "code",
   "execution_count": 20,
   "metadata": {},
   "outputs": [
    {
     "data": {
      "text/plain": [
       "{'bands': [{'crs': 'EPSG:4326',\n",
       "   'crs_transform': [1.0, 0.0, 0.0, 0.0, 1.0, 0.0],\n",
       "   'data_type': {'precision': 'double', 'type': 'PixelType'},\n",
       "   'id': 'b1_mean'}],\n",
       " 'properties': {'created_by': 'Rutger Hofste',\n",
       "  'month': 1.0,\n",
       "  'parameter': 'reducedDischarge',\n",
       "  'resolution': '5min',\n",
       "  'temporalResolution': 'month',\n",
       "  'units': 'pfaf_id, km2, boolean'},\n",
       " 'type': 'Image'}"
      ]
     },
     "execution_count": 20,
     "metadata": {},
     "output_type": "execute_result"
    }
   ],
   "source": [
    "i_mean.getInfo()"
   ]
  },
  {
   "cell_type": "code",
   "execution_count": 21,
   "metadata": {},
   "outputs": [
    {
     "data": {
      "text/plain": [
       "{'bands': [{'crs': 'EPSG:4326',\n",
       "   'crs_transform': [0.008333333333333333,\n",
       "    0.0,\n",
       "    -180.0,\n",
       "    0.0,\n",
       "    -0.008333333333333333,\n",
       "    90.0],\n",
       "   'data_type': {'max': 306285.519239957,\n",
       "    'min': -9999.0,\n",
       "    'precision': 'double',\n",
       "    'type': 'PixelType'},\n",
       "   'id': 'mode'}],\n",
       " 'properties': {'created_by': 'Rutger Hofste',\n",
       "  'exportdescription': 'availabledischarge_month_Y1969M01_movingaverage_10y',\n",
       "  'indicator': 'availabledischarge',\n",
       "  'month': 1.0,\n",
       "  'moving_average_length': 10,\n",
       "  'moving_average_year_min': 1960.0,\n",
       "  'parameter': 'reducedDischarge',\n",
       "  'script_used': 'Y2018M02D27_RH_Moving_Average_Discharge_EE_V01',\n",
       "  'spatial_resolution': '30s',\n",
       "  'temporalResolution': 'month',\n",
       "  'units': 'millionm3',\n",
       "  'version': 2,\n",
       "  'year': 1969.0},\n",
       " 'type': 'Image'}"
      ]
     },
     "execution_count": 21,
     "metadata": {},
     "output_type": "execute_result"
    }
   ],
   "source": [
    "i_mean_30s.getInfo()"
   ]
  },
  {
   "cell_type": "code",
   "execution_count": 22,
   "metadata": {},
   "outputs": [
    {
     "name": "stdout",
     "output_type": "stream",
     "text": [
      "0:00:14.413391\n"
     ]
    }
   ],
   "source": [
    "end = datetime.datetime.now()\n",
    "elapsed = end - start\n",
    "print(elapsed)"
   ]
  }
 ],
 "metadata": {
  "kernelspec": {
   "display_name": "Python 35",
   "language": "python",
   "name": "python35"
  },
  "language_info": {
   "codemirror_mode": {
    "name": "ipython",
    "version": 3
   },
   "file_extension": ".py",
   "mimetype": "text/x-python",
   "name": "python",
   "nbconvert_exporter": "python",
   "pygments_lexer": "ipython3",
   "version": "3.5.4"
  }
 },
 "nbformat": 4,
 "nbformat_minor": 2
}
