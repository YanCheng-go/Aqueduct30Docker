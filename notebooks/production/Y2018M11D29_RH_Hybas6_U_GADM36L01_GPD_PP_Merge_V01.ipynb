{
 "cells": [
  {
   "cell_type": "code",
   "execution_count": 5,
   "metadata": {},
   "outputs": [
    {
     "name": "stdout",
     "output_type": "stream",
     "text": [
      "\n",
      "S3_INPUT_PATH: s3://wri-projects/Aqueduct30/processData/Y2018M11D29_RH_Hybas6_U_GADM36L01_GPD_PP_V01/output_V04/ \n",
      "ec2_input_path: /volumes/data/Y2018M11D29_RH_Hybas6_U_GADM36L01_GPD_PP_Merge_V01/output_V01 \n",
      "ec2_output_path: /volumes/data/Y2018M11D29_RH_Hybas6_U_GADM36L01_GPD_PP_Merge_V01/output_V01 \n",
      "s3_output_path:  s3://wri-projects/Aqueduct30/processData/Y2018M11D29_RH_Hybas6_U_GADM36L01_GPD_PP_Merge_V01/output_V01/\n"
     ]
    }
   ],
   "source": [
    "\"\"\" Union of hydrobasin and GADM 36 level 1 merge results. \n",
    "-------------------------------------------------------------------------------\n",
    "\n",
    "Step 1:\n",
    "Create polygons (10x10 degree, 648).\n",
    "\n",
    "Step 2:\n",
    "Clip all geodataframes with polygons (intersect).\n",
    "\n",
    "Step 3:\n",
    "Peform union per polygon.\n",
    "\n",
    "Step 4: \n",
    "Merge results into large geodataframe.\n",
    "\n",
    "Step 5:\n",
    "Dissolve on unique identifier.\n",
    "\n",
    "Step 6:\n",
    "Save output\n",
    "\n",
    "Author: Rutger Hofste\n",
    "Date: 20181128\n",
    "Kernel: python35\n",
    "Docker: rutgerhofste/gisdocker:ubuntu16.04\n",
    "\n",
    "\"\"\"\n",
    "\n",
    "\n",
    "TESTING = 1\n",
    "SCRIPT_NAME = \"Y2018M11D29_RH_Hybas6_U_GADM36L01_GPD_PP_Merge_V01\"\n",
    "OUTPUT_VERSION = 1\n",
    "\n",
    "S3_INPUT_PATH = \"s3://wri-projects/Aqueduct30/processData/Y2018M11D29_RH_Hybas6_U_GADM36L01_GPD_PP_V01/output_V04/\"\n",
    "\n",
    "ec2_input_path = \"/volumes/data/{}/input_V{:02.0f}\".format(SCRIPT_NAME,OUTPUT_VERSION)\n",
    "ec2_output_path = \"/volumes/data/{}/output_V{:02.0f}\".format(SCRIPT_NAME,OUTPUT_VERSION)\n",
    "\n",
    "s3_output_path = \"s3://wri-projects/Aqueduct30/processData/{}/output_V{:02.0f}/\".format(SCRIPT_NAME,OUTPUT_VERSION)\n",
    "\n",
    "print(\"\\nS3_INPUT_PATH:\", S3_INPUT_PATH,\n",
    "      \"\\nec2_input_path:\", ec2_output_path,\n",
    "      \"\\nec2_output_path:\", ec2_output_path,\n",
    "      \"\\ns3_output_path: \", s3_output_path)"
   ]
  },
  {
   "cell_type": "code",
   "execution_count": 7,
   "metadata": {},
   "outputs": [
    {
     "name": "stdout",
     "output_type": "stream",
     "text": [
      "Y2018M11D29 UTC 17:16\n"
     ]
    },
    {
     "data": {
      "text/plain": [
       "'3.5.4 |Anaconda, Inc.| (default, Nov 20 2017, 18:44:38) \\n[GCC 7.2.0]'"
      ]
     },
     "execution_count": 7,
     "metadata": {},
     "output_type": "execute_result"
    }
   ],
   "source": [
    "import time, datetime, sys\n",
    "dateString = time.strftime(\"Y%YM%mD%d\")\n",
    "timeString = time.strftime(\"UTC %H:%M\")\n",
    "start = datetime.datetime.now()\n",
    "print(dateString,timeString)\n",
    "sys.version"
   ]
  },
  {
   "cell_type": "code",
   "execution_count": 13,
   "metadata": {},
   "outputs": [],
   "source": [
    "!rm -r {ec2_input_path}\n",
    "!rm -r {ec2_output_path}\n",
    "!mkdir -p {ec2_input_path}\n",
    "!mkdir -p {ec2_output_path}"
   ]
  },
  {
   "cell_type": "code",
   "execution_count": 14,
   "metadata": {},
   "outputs": [
    {
     "name": "stdout",
     "output_type": "stream",
     "text": [
      "download: s3://wri-projects/Aqueduct30/processData/Y2018M11D29_RH_Hybas6_U_GADM36L01_GPD_PP_V01/output_V04/gdf_union_0.pkl to ../../../../data/Y2018M11D29_RH_Hybas6_U_GADM36L01_GPD_PP_Merge_V01/input_V01/gdf_union_0.pkl\n",
      "download: s3://wri-projects/Aqueduct30/processData/Y2018M11D29_RH_Hybas6_U_GADM36L01_GPD_PP_V01/output_V04/gdf_union_1.pkl to ../../../../data/Y2018M11D29_RH_Hybas6_U_GADM36L01_GPD_PP_Merge_V01/input_V01/gdf_union_1.pkl\n",
      "download: s3://wri-projects/Aqueduct30/processData/Y2018M11D29_RH_Hybas6_U_GADM36L01_GPD_PP_V01/output_V04/gdf_union_101.pkl to ../../../../data/Y2018M11D29_RH_Hybas6_U_GADM36L01_GPD_PP_Merge_V01/input_V01/gdf_union_101.pkl\n",
      "download: s3://wri-projects/Aqueduct30/processData/Y2018M11D29_RH_Hybas6_U_GADM36L01_GPD_PP_V01/output_V04/gdf_union_102.pkl to ../../../../data/Y2018M11D29_RH_Hybas6_U_GADM36L01_GPD_PP_Merge_V01/input_V01/gdf_union_102.pkl\n",
      "download: s3://wri-projects/Aqueduct30/processData/Y2018M11D29_RH_Hybas6_U_GADM36L01_GPD_PP_V01/output_V04/gdf_union_10.pkl to ../../../../data/Y2018M11D29_RH_Hybas6_U_GADM36L01_GPD_PP_Merge_V01/input_V01/gdf_union_10.pkl\n",
      "download: s3://wri-projects/Aqueduct30/processData/Y2018M11D29_RH_Hybas6_U_GADM36L01_GPD_PP_V01/output_V04/gdf_union_100.pkl to ../../../../data/Y2018M11D29_RH_Hybas6_U_GADM36L01_GPD_PP_Merge_V01/input_V01/gdf_union_100.pkl\n",
      "download: s3://wri-projects/Aqueduct30/processData/Y2018M11D29_RH_Hybas6_U_GADM36L01_GPD_PP_V01/output_V04/gdf_union_106.pkl to ../../../../data/Y2018M11D29_RH_Hybas6_U_GADM36L01_GPD_PP_Merge_V01/input_V01/gdf_union_106.pkl\n",
      "download: s3://wri-projects/Aqueduct30/processData/Y2018M11D29_RH_Hybas6_U_GADM36L01_GPD_PP_V01/output_V04/gdf_union_104.pkl to ../../../../data/Y2018M11D29_RH_Hybas6_U_GADM36L01_GPD_PP_Merge_V01/input_V01/gdf_union_104.pkl\n",
      "download: s3://wri-projects/Aqueduct30/processData/Y2018M11D29_RH_Hybas6_U_GADM36L01_GPD_PP_V01/output_V04/gdf_union_107.pkl to ../../../../data/Y2018M11D29_RH_Hybas6_U_GADM36L01_GPD_PP_Merge_V01/input_V01/gdf_union_107.pkl\n",
      "download: s3://wri-projects/Aqueduct30/processData/Y2018M11D29_RH_Hybas6_U_GADM36L01_GPD_PP_V01/output_V04/gdf_union_103.pkl to ../../../../data/Y2018M11D29_RH_Hybas6_U_GADM36L01_GPD_PP_Merge_V01/input_V01/gdf_union_103.pkl\n",
      "download: s3://wri-projects/Aqueduct30/processData/Y2018M11D29_RH_Hybas6_U_GADM36L01_GPD_PP_V01/output_V04/gdf_union_108.pkl to ../../../../data/Y2018M11D29_RH_Hybas6_U_GADM36L01_GPD_PP_Merge_V01/input_V01/gdf_union_108.pkl\n",
      "download: s3://wri-projects/Aqueduct30/processData/Y2018M11D29_RH_Hybas6_U_GADM36L01_GPD_PP_V01/output_V04/gdf_union_105.pkl to ../../../../data/Y2018M11D29_RH_Hybas6_U_GADM36L01_GPD_PP_Merge_V01/input_V01/gdf_union_105.pkl\n",
      "download: s3://wri-projects/Aqueduct30/processData/Y2018M11D29_RH_Hybas6_U_GADM36L01_GPD_PP_V01/output_V04/gdf_union_112.pkl to ../../../../data/Y2018M11D29_RH_Hybas6_U_GADM36L01_GPD_PP_Merge_V01/input_V01/gdf_union_112.pkl\n",
      "download: s3://wri-projects/Aqueduct30/processData/Y2018M11D29_RH_Hybas6_U_GADM36L01_GPD_PP_V01/output_V04/gdf_union_109.pkl to ../../../../data/Y2018M11D29_RH_Hybas6_U_GADM36L01_GPD_PP_Merge_V01/input_V01/gdf_union_109.pkl\n",
      "download: s3://wri-projects/Aqueduct30/processData/Y2018M11D29_RH_Hybas6_U_GADM36L01_GPD_PP_V01/output_V04/gdf_union_111.pkl to ../../../../data/Y2018M11D29_RH_Hybas6_U_GADM36L01_GPD_PP_Merge_V01/input_V01/gdf_union_111.pkl\n",
      "download: s3://wri-projects/Aqueduct30/processData/Y2018M11D29_RH_Hybas6_U_GADM36L01_GPD_PP_V01/output_V04/gdf_union_114.pkl to ../../../../data/Y2018M11D29_RH_Hybas6_U_GADM36L01_GPD_PP_Merge_V01/input_V01/gdf_union_114.pkl\n",
      "download: s3://wri-projects/Aqueduct30/processData/Y2018M11D29_RH_Hybas6_U_GADM36L01_GPD_PP_V01/output_V04/gdf_union_110.pkl to ../../../../data/Y2018M11D29_RH_Hybas6_U_GADM36L01_GPD_PP_Merge_V01/input_V01/gdf_union_110.pkl\n",
      "download: s3://wri-projects/Aqueduct30/processData/Y2018M11D29_RH_Hybas6_U_GADM36L01_GPD_PP_V01/output_V04/gdf_union_11.pkl to ../../../../data/Y2018M11D29_RH_Hybas6_U_GADM36L01_GPD_PP_Merge_V01/input_V01/gdf_union_11.pkl\n",
      "download: s3://wri-projects/Aqueduct30/processData/Y2018M11D29_RH_Hybas6_U_GADM36L01_GPD_PP_V01/output_V04/gdf_union_115.pkl to ../../../../data/Y2018M11D29_RH_Hybas6_U_GADM36L01_GPD_PP_Merge_V01/input_V01/gdf_union_115.pkl\n",
      "download: s3://wri-projects/Aqueduct30/processData/Y2018M11D29_RH_Hybas6_U_GADM36L01_GPD_PP_V01/output_V04/gdf_union_12.pkl to ../../../../data/Y2018M11D29_RH_Hybas6_U_GADM36L01_GPD_PP_Merge_V01/input_V01/gdf_union_12.pkl\n",
      "download: s3://wri-projects/Aqueduct30/processData/Y2018M11D29_RH_Hybas6_U_GADM36L01_GPD_PP_V01/output_V04/gdf_union_121.pkl to ../../../../data/Y2018M11D29_RH_Hybas6_U_GADM36L01_GPD_PP_Merge_V01/input_V01/gdf_union_121.pkl\n",
      "download: s3://wri-projects/Aqueduct30/processData/Y2018M11D29_RH_Hybas6_U_GADM36L01_GPD_PP_V01/output_V04/gdf_union_122.pkl to ../../../../data/Y2018M11D29_RH_Hybas6_U_GADM36L01_GPD_PP_Merge_V01/input_V01/gdf_union_122.pkl\n",
      "download: s3://wri-projects/Aqueduct30/processData/Y2018M11D29_RH_Hybas6_U_GADM36L01_GPD_PP_V01/output_V04/gdf_union_125.pkl to ../../../../data/Y2018M11D29_RH_Hybas6_U_GADM36L01_GPD_PP_Merge_V01/input_V01/gdf_union_125.pkl\n",
      "download: s3://wri-projects/Aqueduct30/processData/Y2018M11D29_RH_Hybas6_U_GADM36L01_GPD_PP_V01/output_V04/gdf_union_124.pkl to ../../../../data/Y2018M11D29_RH_Hybas6_U_GADM36L01_GPD_PP_Merge_V01/input_V01/gdf_union_124.pkl\n",
      "download: s3://wri-projects/Aqueduct30/processData/Y2018M11D29_RH_Hybas6_U_GADM36L01_GPD_PP_V01/output_V04/gdf_union_117.pkl to ../../../../data/Y2018M11D29_RH_Hybas6_U_GADM36L01_GPD_PP_Merge_V01/input_V01/gdf_union_117.pkl\n",
      "download: s3://wri-projects/Aqueduct30/processData/Y2018M11D29_RH_Hybas6_U_GADM36L01_GPD_PP_V01/output_V04/gdf_union_123.pkl to ../../../../data/Y2018M11D29_RH_Hybas6_U_GADM36L01_GPD_PP_Merge_V01/input_V01/gdf_union_123.pkl\n",
      "download: s3://wri-projects/Aqueduct30/processData/Y2018M11D29_RH_Hybas6_U_GADM36L01_GPD_PP_V01/output_V04/gdf_union_116.pkl to ../../../../data/Y2018M11D29_RH_Hybas6_U_GADM36L01_GPD_PP_Merge_V01/input_V01/gdf_union_116.pkl\n",
      "download: s3://wri-projects/Aqueduct30/processData/Y2018M11D29_RH_Hybas6_U_GADM36L01_GPD_PP_V01/output_V04/gdf_union_113.pkl to ../../../../data/Y2018M11D29_RH_Hybas6_U_GADM36L01_GPD_PP_Merge_V01/input_V01/gdf_union_113.pkl\n",
      "download: s3://wri-projects/Aqueduct30/processData/Y2018M11D29_RH_Hybas6_U_GADM36L01_GPD_PP_V01/output_V04/gdf_union_128.pkl to ../../../../data/Y2018M11D29_RH_Hybas6_U_GADM36L01_GPD_PP_Merge_V01/input_V01/gdf_union_128.pkl\n",
      "download: s3://wri-projects/Aqueduct30/processData/Y2018M11D29_RH_Hybas6_U_GADM36L01_GPD_PP_V01/output_V04/gdf_union_130.pkl to ../../../../data/Y2018M11D29_RH_Hybas6_U_GADM36L01_GPD_PP_Merge_V01/input_V01/gdf_union_130.pkl\n",
      "download: s3://wri-projects/Aqueduct30/processData/Y2018M11D29_RH_Hybas6_U_GADM36L01_GPD_PP_V01/output_V04/gdf_union_127.pkl to ../../../../data/Y2018M11D29_RH_Hybas6_U_GADM36L01_GPD_PP_Merge_V01/input_V01/gdf_union_127.pkl\n",
      "download: s3://wri-projects/Aqueduct30/processData/Y2018M11D29_RH_Hybas6_U_GADM36L01_GPD_PP_V01/output_V04/gdf_union_129.pkl to ../../../../data/Y2018M11D29_RH_Hybas6_U_GADM36L01_GPD_PP_Merge_V01/input_V01/gdf_union_129.pkl\n",
      "download: s3://wri-projects/Aqueduct30/processData/Y2018M11D29_RH_Hybas6_U_GADM36L01_GPD_PP_V01/output_V04/gdf_union_126.pkl to ../../../../data/Y2018M11D29_RH_Hybas6_U_GADM36L01_GPD_PP_Merge_V01/input_V01/gdf_union_126.pkl\n",
      "download: s3://wri-projects/Aqueduct30/processData/Y2018M11D29_RH_Hybas6_U_GADM36L01_GPD_PP_V01/output_V04/gdf_union_13.pkl to ../../../../data/Y2018M11D29_RH_Hybas6_U_GADM36L01_GPD_PP_Merge_V01/input_V01/gdf_union_13.pkl\n",
      "download: s3://wri-projects/Aqueduct30/processData/Y2018M11D29_RH_Hybas6_U_GADM36L01_GPD_PP_V01/output_V04/gdf_union_134.pkl to ../../../../data/Y2018M11D29_RH_Hybas6_U_GADM36L01_GPD_PP_Merge_V01/input_V01/gdf_union_134.pkl\n",
      "download: s3://wri-projects/Aqueduct30/processData/Y2018M11D29_RH_Hybas6_U_GADM36L01_GPD_PP_V01/output_V04/gdf_union_135.pkl to ../../../../data/Y2018M11D29_RH_Hybas6_U_GADM36L01_GPD_PP_Merge_V01/input_V01/gdf_union_135.pkl\n",
      "download: s3://wri-projects/Aqueduct30/processData/Y2018M11D29_RH_Hybas6_U_GADM36L01_GPD_PP_V01/output_V04/gdf_union_138.pkl to ../../../../data/Y2018M11D29_RH_Hybas6_U_GADM36L01_GPD_PP_Merge_V01/input_V01/gdf_union_138.pkl\n"
     ]
    },
    {
     "name": "stdout",
     "output_type": "stream",
     "text": [
      "download: s3://wri-projects/Aqueduct30/processData/Y2018M11D29_RH_Hybas6_U_GADM36L01_GPD_PP_V01/output_V04/gdf_union_139.pkl to ../../../../data/Y2018M11D29_RH_Hybas6_U_GADM36L01_GPD_PP_Merge_V01/input_V01/gdf_union_139.pkl\n",
      "download: s3://wri-projects/Aqueduct30/processData/Y2018M11D29_RH_Hybas6_U_GADM36L01_GPD_PP_V01/output_V04/gdf_union_140.pkl to ../../../../data/Y2018M11D29_RH_Hybas6_U_GADM36L01_GPD_PP_Merge_V01/input_V01/gdf_union_140.pkl\n",
      "download: s3://wri-projects/Aqueduct30/processData/Y2018M11D29_RH_Hybas6_U_GADM36L01_GPD_PP_V01/output_V04/gdf_union_14.pkl to ../../../../data/Y2018M11D29_RH_Hybas6_U_GADM36L01_GPD_PP_Merge_V01/input_V01/gdf_union_14.pkl\n",
      "download: s3://wri-projects/Aqueduct30/processData/Y2018M11D29_RH_Hybas6_U_GADM36L01_GPD_PP_V01/output_V04/gdf_union_143.pkl to ../../../../data/Y2018M11D29_RH_Hybas6_U_GADM36L01_GPD_PP_Merge_V01/input_V01/gdf_union_143.pkl\n",
      "download: s3://wri-projects/Aqueduct30/processData/Y2018M11D29_RH_Hybas6_U_GADM36L01_GPD_PP_V01/output_V04/gdf_union_133.pkl to ../../../../data/Y2018M11D29_RH_Hybas6_U_GADM36L01_GPD_PP_Merge_V01/input_V01/gdf_union_133.pkl\n",
      "download: s3://wri-projects/Aqueduct30/processData/Y2018M11D29_RH_Hybas6_U_GADM36L01_GPD_PP_V01/output_V04/gdf_union_145.pkl to ../../../../data/Y2018M11D29_RH_Hybas6_U_GADM36L01_GPD_PP_Merge_V01/input_V01/gdf_union_145.pkl\n",
      "download: s3://wri-projects/Aqueduct30/processData/Y2018M11D29_RH_Hybas6_U_GADM36L01_GPD_PP_V01/output_V04/gdf_union_146.pkl to ../../../../data/Y2018M11D29_RH_Hybas6_U_GADM36L01_GPD_PP_Merge_V01/input_V01/gdf_union_146.pkl\n",
      "download: s3://wri-projects/Aqueduct30/processData/Y2018M11D29_RH_Hybas6_U_GADM36L01_GPD_PP_V01/output_V04/gdf_union_141.pkl to ../../../../data/Y2018M11D29_RH_Hybas6_U_GADM36L01_GPD_PP_Merge_V01/input_V01/gdf_union_141.pkl\n",
      "download: s3://wri-projects/Aqueduct30/processData/Y2018M11D29_RH_Hybas6_U_GADM36L01_GPD_PP_V01/output_V04/gdf_union_147.pkl to ../../../../data/Y2018M11D29_RH_Hybas6_U_GADM36L01_GPD_PP_Merge_V01/input_V01/gdf_union_147.pkl\n",
      "download: s3://wri-projects/Aqueduct30/processData/Y2018M11D29_RH_Hybas6_U_GADM36L01_GPD_PP_V01/output_V04/gdf_union_148.pkl to ../../../../data/Y2018M11D29_RH_Hybas6_U_GADM36L01_GPD_PP_Merge_V01/input_V01/gdf_union_148.pkl\n",
      "download: s3://wri-projects/Aqueduct30/processData/Y2018M11D29_RH_Hybas6_U_GADM36L01_GPD_PP_V01/output_V04/gdf_union_15.pkl to ../../../../data/Y2018M11D29_RH_Hybas6_U_GADM36L01_GPD_PP_Merge_V01/input_V01/gdf_union_15.pkl\n",
      "download: s3://wri-projects/Aqueduct30/processData/Y2018M11D29_RH_Hybas6_U_GADM36L01_GPD_PP_V01/output_V04/gdf_union_149.pkl to ../../../../data/Y2018M11D29_RH_Hybas6_U_GADM36L01_GPD_PP_Merge_V01/input_V01/gdf_union_149.pkl\n",
      "download: s3://wri-projects/Aqueduct30/processData/Y2018M11D29_RH_Hybas6_U_GADM36L01_GPD_PP_V01/output_V04/gdf_union_151.pkl to ../../../../data/Y2018M11D29_RH_Hybas6_U_GADM36L01_GPD_PP_Merge_V01/input_V01/gdf_union_151.pkl\n",
      "download: s3://wri-projects/Aqueduct30/processData/Y2018M11D29_RH_Hybas6_U_GADM36L01_GPD_PP_V01/output_V04/gdf_union_137.pkl to ../../../../data/Y2018M11D29_RH_Hybas6_U_GADM36L01_GPD_PP_Merge_V01/input_V01/gdf_union_137.pkl\n",
      "download: s3://wri-projects/Aqueduct30/processData/Y2018M11D29_RH_Hybas6_U_GADM36L01_GPD_PP_V01/output_V04/gdf_union_131.pkl to ../../../../data/Y2018M11D29_RH_Hybas6_U_GADM36L01_GPD_PP_Merge_V01/input_V01/gdf_union_131.pkl\n",
      "download: s3://wri-projects/Aqueduct30/processData/Y2018M11D29_RH_Hybas6_U_GADM36L01_GPD_PP_V01/output_V04/gdf_union_136.pkl to ../../../../data/Y2018M11D29_RH_Hybas6_U_GADM36L01_GPD_PP_Merge_V01/input_V01/gdf_union_136.pkl\n",
      "download: s3://wri-projects/Aqueduct30/processData/Y2018M11D29_RH_Hybas6_U_GADM36L01_GPD_PP_V01/output_V04/gdf_union_150.pkl to ../../../../data/Y2018M11D29_RH_Hybas6_U_GADM36L01_GPD_PP_Merge_V01/input_V01/gdf_union_150.pkl\n",
      "download: s3://wri-projects/Aqueduct30/processData/Y2018M11D29_RH_Hybas6_U_GADM36L01_GPD_PP_V01/output_V04/gdf_union_152.pkl to ../../../../data/Y2018M11D29_RH_Hybas6_U_GADM36L01_GPD_PP_Merge_V01/input_V01/gdf_union_152.pkl\n",
      "download: s3://wri-projects/Aqueduct30/processData/Y2018M11D29_RH_Hybas6_U_GADM36L01_GPD_PP_V01/output_V04/gdf_union_153.pkl to ../../../../data/Y2018M11D29_RH_Hybas6_U_GADM36L01_GPD_PP_Merge_V01/input_V01/gdf_union_153.pkl\n",
      "download: s3://wri-projects/Aqueduct30/processData/Y2018M11D29_RH_Hybas6_U_GADM36L01_GPD_PP_V01/output_V04/gdf_union_156.pkl to ../../../../data/Y2018M11D29_RH_Hybas6_U_GADM36L01_GPD_PP_Merge_V01/input_V01/gdf_union_156.pkl\n",
      "download: s3://wri-projects/Aqueduct30/processData/Y2018M11D29_RH_Hybas6_U_GADM36L01_GPD_PP_V01/output_V04/gdf_union_157.pkl to ../../../../data/Y2018M11D29_RH_Hybas6_U_GADM36L01_GPD_PP_Merge_V01/input_V01/gdf_union_157.pkl\n",
      "download: s3://wri-projects/Aqueduct30/processData/Y2018M11D29_RH_Hybas6_U_GADM36L01_GPD_PP_V01/output_V04/gdf_union_162.pkl to ../../../../data/Y2018M11D29_RH_Hybas6_U_GADM36L01_GPD_PP_Merge_V01/input_V01/gdf_union_162.pkl\n",
      "download: s3://wri-projects/Aqueduct30/processData/Y2018M11D29_RH_Hybas6_U_GADM36L01_GPD_PP_V01/output_V04/gdf_union_119.pkl to ../../../../data/Y2018M11D29_RH_Hybas6_U_GADM36L01_GPD_PP_Merge_V01/input_V01/gdf_union_119.pkl\n",
      "download: s3://wri-projects/Aqueduct30/processData/Y2018M11D29_RH_Hybas6_U_GADM36L01_GPD_PP_V01/output_V04/gdf_union_159.pkl to ../../../../data/Y2018M11D29_RH_Hybas6_U_GADM36L01_GPD_PP_Merge_V01/input_V01/gdf_union_159.pkl\n",
      "download: s3://wri-projects/Aqueduct30/processData/Y2018M11D29_RH_Hybas6_U_GADM36L01_GPD_PP_V01/output_V04/gdf_union_164.pkl to ../../../../data/Y2018M11D29_RH_Hybas6_U_GADM36L01_GPD_PP_Merge_V01/input_V01/gdf_union_164.pkl\n",
      "download: s3://wri-projects/Aqueduct30/processData/Y2018M11D29_RH_Hybas6_U_GADM36L01_GPD_PP_V01/output_V04/gdf_union_165.pkl to ../../../../data/Y2018M11D29_RH_Hybas6_U_GADM36L01_GPD_PP_Merge_V01/input_V01/gdf_union_165.pkl\n",
      "download: s3://wri-projects/Aqueduct30/processData/Y2018M11D29_RH_Hybas6_U_GADM36L01_GPD_PP_V01/output_V04/gdf_union_166.pkl to ../../../../data/Y2018M11D29_RH_Hybas6_U_GADM36L01_GPD_PP_Merge_V01/input_V01/gdf_union_166.pkl\n",
      "download: s3://wri-projects/Aqueduct30/processData/Y2018M11D29_RH_Hybas6_U_GADM36L01_GPD_PP_V01/output_V04/gdf_union_142.pkl to ../../../../data/Y2018M11D29_RH_Hybas6_U_GADM36L01_GPD_PP_Merge_V01/input_V01/gdf_union_142.pkl\n",
      "download: s3://wri-projects/Aqueduct30/processData/Y2018M11D29_RH_Hybas6_U_GADM36L01_GPD_PP_V01/output_V04/gdf_union_17.pkl to ../../../../data/Y2018M11D29_RH_Hybas6_U_GADM36L01_GPD_PP_Merge_V01/input_V01/gdf_union_17.pkl\n",
      "download: s3://wri-projects/Aqueduct30/processData/Y2018M11D29_RH_Hybas6_U_GADM36L01_GPD_PP_V01/output_V04/gdf_union_170.pkl to ../../../../data/Y2018M11D29_RH_Hybas6_U_GADM36L01_GPD_PP_Merge_V01/input_V01/gdf_union_170.pkl\n",
      "download: s3://wri-projects/Aqueduct30/processData/Y2018M11D29_RH_Hybas6_U_GADM36L01_GPD_PP_V01/output_V04/gdf_union_171.pkl to ../../../../data/Y2018M11D29_RH_Hybas6_U_GADM36L01_GPD_PP_Merge_V01/input_V01/gdf_union_171.pkl\n",
      "download: s3://wri-projects/Aqueduct30/processData/Y2018M11D29_RH_Hybas6_U_GADM36L01_GPD_PP_V01/output_V04/gdf_union_163.pkl to ../../../../data/Y2018M11D29_RH_Hybas6_U_GADM36L01_GPD_PP_Merge_V01/input_V01/gdf_union_163.pkl\n",
      "download: s3://wri-projects/Aqueduct30/processData/Y2018M11D29_RH_Hybas6_U_GADM36L01_GPD_PP_V01/output_V04/gdf_union_158.pkl to ../../../../data/Y2018M11D29_RH_Hybas6_U_GADM36L01_GPD_PP_Merge_V01/input_V01/gdf_union_158.pkl\n",
      "download: s3://wri-projects/Aqueduct30/processData/Y2018M11D29_RH_Hybas6_U_GADM36L01_GPD_PP_V01/output_V04/gdf_union_173.pkl to ../../../../data/Y2018M11D29_RH_Hybas6_U_GADM36L01_GPD_PP_Merge_V01/input_V01/gdf_union_173.pkl\n",
      "download: s3://wri-projects/Aqueduct30/processData/Y2018M11D29_RH_Hybas6_U_GADM36L01_GPD_PP_V01/output_V04/gdf_union_172.pkl to ../../../../data/Y2018M11D29_RH_Hybas6_U_GADM36L01_GPD_PP_Merge_V01/input_V01/gdf_union_172.pkl\n",
      "download: s3://wri-projects/Aqueduct30/processData/Y2018M11D29_RH_Hybas6_U_GADM36L01_GPD_PP_V01/output_V04/gdf_union_177.pkl to ../../../../data/Y2018M11D29_RH_Hybas6_U_GADM36L01_GPD_PP_Merge_V01/input_V01/gdf_union_177.pkl\n",
      "download: s3://wri-projects/Aqueduct30/processData/Y2018M11D29_RH_Hybas6_U_GADM36L01_GPD_PP_V01/output_V04/gdf_union_174.pkl to ../../../../data/Y2018M11D29_RH_Hybas6_U_GADM36L01_GPD_PP_Merge_V01/input_V01/gdf_union_174.pkl\n"
     ]
    },
    {
     "name": "stdout",
     "output_type": "stream",
     "text": [
      "download: s3://wri-projects/Aqueduct30/processData/Y2018M11D29_RH_Hybas6_U_GADM36L01_GPD_PP_V01/output_V04/gdf_union_18.pkl to ../../../../data/Y2018M11D29_RH_Hybas6_U_GADM36L01_GPD_PP_Merge_V01/input_V01/gdf_union_18.pkl\n",
      "download: s3://wri-projects/Aqueduct30/processData/Y2018M11D29_RH_Hybas6_U_GADM36L01_GPD_PP_V01/output_V04/gdf_union_16.pkl to ../../../../data/Y2018M11D29_RH_Hybas6_U_GADM36L01_GPD_PP_Merge_V01/input_V01/gdf_union_16.pkl\n",
      "download: s3://wri-projects/Aqueduct30/processData/Y2018M11D29_RH_Hybas6_U_GADM36L01_GPD_PP_V01/output_V04/gdf_union_155.pkl to ../../../../data/Y2018M11D29_RH_Hybas6_U_GADM36L01_GPD_PP_Merge_V01/input_V01/gdf_union_155.pkl\n",
      "download: s3://wri-projects/Aqueduct30/processData/Y2018M11D29_RH_Hybas6_U_GADM36L01_GPD_PP_V01/output_V04/gdf_union_175.pkl to ../../../../data/Y2018M11D29_RH_Hybas6_U_GADM36L01_GPD_PP_Merge_V01/input_V01/gdf_union_175.pkl\n",
      "download: s3://wri-projects/Aqueduct30/processData/Y2018M11D29_RH_Hybas6_U_GADM36L01_GPD_PP_V01/output_V04/gdf_union_183.pkl to ../../../../data/Y2018M11D29_RH_Hybas6_U_GADM36L01_GPD_PP_Merge_V01/input_V01/gdf_union_183.pkl\n",
      "download: s3://wri-projects/Aqueduct30/processData/Y2018M11D29_RH_Hybas6_U_GADM36L01_GPD_PP_V01/output_V04/gdf_union_184.pkl to ../../../../data/Y2018M11D29_RH_Hybas6_U_GADM36L01_GPD_PP_Merge_V01/input_V01/gdf_union_184.pkl\n",
      "download: s3://wri-projects/Aqueduct30/processData/Y2018M11D29_RH_Hybas6_U_GADM36L01_GPD_PP_V01/output_V04/gdf_union_185.pkl to ../../../../data/Y2018M11D29_RH_Hybas6_U_GADM36L01_GPD_PP_Merge_V01/input_V01/gdf_union_185.pkl\n",
      "download: s3://wri-projects/Aqueduct30/processData/Y2018M11D29_RH_Hybas6_U_GADM36L01_GPD_PP_V01/output_V04/gdf_union_186.pkl to ../../../../data/Y2018M11D29_RH_Hybas6_U_GADM36L01_GPD_PP_Merge_V01/input_V01/gdf_union_186.pkl\n",
      "download: s3://wri-projects/Aqueduct30/processData/Y2018M11D29_RH_Hybas6_U_GADM36L01_GPD_PP_V01/output_V04/gdf_union_187.pkl to ../../../../data/Y2018M11D29_RH_Hybas6_U_GADM36L01_GPD_PP_Merge_V01/input_V01/gdf_union_187.pkl\n",
      "download: s3://wri-projects/Aqueduct30/processData/Y2018M11D29_RH_Hybas6_U_GADM36L01_GPD_PP_V01/output_V04/gdf_union_188.pkl to ../../../../data/Y2018M11D29_RH_Hybas6_U_GADM36L01_GPD_PP_Merge_V01/input_V01/gdf_union_188.pkl\n",
      "download: s3://wri-projects/Aqueduct30/processData/Y2018M11D29_RH_Hybas6_U_GADM36L01_GPD_PP_V01/output_V04/gdf_union_189.pkl to ../../../../data/Y2018M11D29_RH_Hybas6_U_GADM36L01_GPD_PP_Merge_V01/input_V01/gdf_union_189.pkl\n",
      "download: s3://wri-projects/Aqueduct30/processData/Y2018M11D29_RH_Hybas6_U_GADM36L01_GPD_PP_V01/output_V04/gdf_union_19.pkl to ../../../../data/Y2018M11D29_RH_Hybas6_U_GADM36L01_GPD_PP_Merge_V01/input_V01/gdf_union_19.pkl\n",
      "download: s3://wri-projects/Aqueduct30/processData/Y2018M11D29_RH_Hybas6_U_GADM36L01_GPD_PP_V01/output_V04/gdf_union_193.pkl to ../../../../data/Y2018M11D29_RH_Hybas6_U_GADM36L01_GPD_PP_Merge_V01/input_V01/gdf_union_193.pkl\n",
      "download: s3://wri-projects/Aqueduct30/processData/Y2018M11D29_RH_Hybas6_U_GADM36L01_GPD_PP_V01/output_V04/gdf_union_190.pkl to ../../../../data/Y2018M11D29_RH_Hybas6_U_GADM36L01_GPD_PP_Merge_V01/input_V01/gdf_union_190.pkl\n",
      "download: s3://wri-projects/Aqueduct30/processData/Y2018M11D29_RH_Hybas6_U_GADM36L01_GPD_PP_V01/output_V04/gdf_union_194.pkl to ../../../../data/Y2018M11D29_RH_Hybas6_U_GADM36L01_GPD_PP_Merge_V01/input_V01/gdf_union_194.pkl\n",
      "download: s3://wri-projects/Aqueduct30/processData/Y2018M11D29_RH_Hybas6_U_GADM36L01_GPD_PP_V01/output_V04/gdf_union_198.pkl to ../../../../data/Y2018M11D29_RH_Hybas6_U_GADM36L01_GPD_PP_Merge_V01/input_V01/gdf_union_198.pkl\n",
      "download: s3://wri-projects/Aqueduct30/processData/Y2018M11D29_RH_Hybas6_U_GADM36L01_GPD_PP_V01/output_V04/gdf_union_195.pkl to ../../../../data/Y2018M11D29_RH_Hybas6_U_GADM36L01_GPD_PP_Merge_V01/input_V01/gdf_union_195.pkl\n",
      "download: s3://wri-projects/Aqueduct30/processData/Y2018M11D29_RH_Hybas6_U_GADM36L01_GPD_PP_V01/output_V04/gdf_union_197.pkl to ../../../../data/Y2018M11D29_RH_Hybas6_U_GADM36L01_GPD_PP_Merge_V01/input_V01/gdf_union_197.pkl\n",
      "download: s3://wri-projects/Aqueduct30/processData/Y2018M11D29_RH_Hybas6_U_GADM36L01_GPD_PP_V01/output_V04/gdf_union_179.pkl to ../../../../data/Y2018M11D29_RH_Hybas6_U_GADM36L01_GPD_PP_Merge_V01/input_V01/gdf_union_179.pkl\n",
      "download: s3://wri-projects/Aqueduct30/processData/Y2018M11D29_RH_Hybas6_U_GADM36L01_GPD_PP_V01/output_V04/gdf_union_118.pkl to ../../../../data/Y2018M11D29_RH_Hybas6_U_GADM36L01_GPD_PP_Merge_V01/input_V01/gdf_union_118.pkl\n",
      "download: s3://wri-projects/Aqueduct30/processData/Y2018M11D29_RH_Hybas6_U_GADM36L01_GPD_PP_V01/output_V04/gdf_union_2.pkl to ../../../../data/Y2018M11D29_RH_Hybas6_U_GADM36L01_GPD_PP_Merge_V01/input_V01/gdf_union_2.pkl\n",
      "download: s3://wri-projects/Aqueduct30/processData/Y2018M11D29_RH_Hybas6_U_GADM36L01_GPD_PP_V01/output_V04/gdf_union_192.pkl to ../../../../data/Y2018M11D29_RH_Hybas6_U_GADM36L01_GPD_PP_Merge_V01/input_V01/gdf_union_192.pkl\n",
      "download: s3://wri-projects/Aqueduct30/processData/Y2018M11D29_RH_Hybas6_U_GADM36L01_GPD_PP_V01/output_V04/gdf_union_199.pkl to ../../../../data/Y2018M11D29_RH_Hybas6_U_GADM36L01_GPD_PP_Merge_V01/input_V01/gdf_union_199.pkl\n",
      "download: s3://wri-projects/Aqueduct30/processData/Y2018M11D29_RH_Hybas6_U_GADM36L01_GPD_PP_V01/output_V04/gdf_union_201.pkl to ../../../../data/Y2018M11D29_RH_Hybas6_U_GADM36L01_GPD_PP_Merge_V01/input_V01/gdf_union_201.pkl\n",
      "download: s3://wri-projects/Aqueduct30/processData/Y2018M11D29_RH_Hybas6_U_GADM36L01_GPD_PP_V01/output_V04/gdf_union_202.pkl to ../../../../data/Y2018M11D29_RH_Hybas6_U_GADM36L01_GPD_PP_Merge_V01/input_V01/gdf_union_202.pkl\n",
      "download: s3://wri-projects/Aqueduct30/processData/Y2018M11D29_RH_Hybas6_U_GADM36L01_GPD_PP_V01/output_V04/gdf_union_204.pkl to ../../../../data/Y2018M11D29_RH_Hybas6_U_GADM36L01_GPD_PP_Merge_V01/input_V01/gdf_union_204.pkl\n",
      "download: s3://wri-projects/Aqueduct30/processData/Y2018M11D29_RH_Hybas6_U_GADM36L01_GPD_PP_V01/output_V04/gdf_union_206.pkl to ../../../../data/Y2018M11D29_RH_Hybas6_U_GADM36L01_GPD_PP_Merge_V01/input_V01/gdf_union_206.pkl\n",
      "download: s3://wri-projects/Aqueduct30/processData/Y2018M11D29_RH_Hybas6_U_GADM36L01_GPD_PP_V01/output_V04/gdf_union_203.pkl to ../../../../data/Y2018M11D29_RH_Hybas6_U_GADM36L01_GPD_PP_Merge_V01/input_V01/gdf_union_203.pkl\n",
      "download: s3://wri-projects/Aqueduct30/processData/Y2018M11D29_RH_Hybas6_U_GADM36L01_GPD_PP_V01/output_V04/gdf_union_207.pkl to ../../../../data/Y2018M11D29_RH_Hybas6_U_GADM36L01_GPD_PP_Merge_V01/input_V01/gdf_union_207.pkl\n",
      "download: s3://wri-projects/Aqueduct30/processData/Y2018M11D29_RH_Hybas6_U_GADM36L01_GPD_PP_V01/output_V04/gdf_union_208.pkl to ../../../../data/Y2018M11D29_RH_Hybas6_U_GADM36L01_GPD_PP_Merge_V01/input_V01/gdf_union_208.pkl\n",
      "download: s3://wri-projects/Aqueduct30/processData/Y2018M11D29_RH_Hybas6_U_GADM36L01_GPD_PP_V01/output_V04/gdf_union_21.pkl to ../../../../data/Y2018M11D29_RH_Hybas6_U_GADM36L01_GPD_PP_Merge_V01/input_V01/gdf_union_21.pkl\n",
      "download: s3://wri-projects/Aqueduct30/processData/Y2018M11D29_RH_Hybas6_U_GADM36L01_GPD_PP_V01/output_V04/gdf_union_181.pkl to ../../../../data/Y2018M11D29_RH_Hybas6_U_GADM36L01_GPD_PP_Merge_V01/input_V01/gdf_union_181.pkl\n",
      "download: s3://wri-projects/Aqueduct30/processData/Y2018M11D29_RH_Hybas6_U_GADM36L01_GPD_PP_V01/output_V04/gdf_union_200.pkl to ../../../../data/Y2018M11D29_RH_Hybas6_U_GADM36L01_GPD_PP_Merge_V01/input_V01/gdf_union_200.pkl\n",
      "download: s3://wri-projects/Aqueduct30/processData/Y2018M11D29_RH_Hybas6_U_GADM36L01_GPD_PP_V01/output_V04/gdf_union_217.pkl to ../../../../data/Y2018M11D29_RH_Hybas6_U_GADM36L01_GPD_PP_Merge_V01/input_V01/gdf_union_217.pkl\n",
      "download: s3://wri-projects/Aqueduct30/processData/Y2018M11D29_RH_Hybas6_U_GADM36L01_GPD_PP_V01/output_V04/gdf_union_22.pkl to ../../../../data/Y2018M11D29_RH_Hybas6_U_GADM36L01_GPD_PP_Merge_V01/input_V01/gdf_union_22.pkl\n",
      "download: s3://wri-projects/Aqueduct30/processData/Y2018M11D29_RH_Hybas6_U_GADM36L01_GPD_PP_V01/output_V04/gdf_union_191.pkl to ../../../../data/Y2018M11D29_RH_Hybas6_U_GADM36L01_GPD_PP_Merge_V01/input_V01/gdf_union_191.pkl\n",
      "download: s3://wri-projects/Aqueduct30/processData/Y2018M11D29_RH_Hybas6_U_GADM36L01_GPD_PP_V01/output_V04/gdf_union_221.pkl to ../../../../data/Y2018M11D29_RH_Hybas6_U_GADM36L01_GPD_PP_Merge_V01/input_V01/gdf_union_221.pkl\n",
      "download: s3://wri-projects/Aqueduct30/processData/Y2018M11D29_RH_Hybas6_U_GADM36L01_GPD_PP_V01/output_V04/gdf_union_176.pkl to ../../../../data/Y2018M11D29_RH_Hybas6_U_GADM36L01_GPD_PP_Merge_V01/input_V01/gdf_union_176.pkl\n"
     ]
    },
    {
     "name": "stdout",
     "output_type": "stream",
     "text": [
      "download: s3://wri-projects/Aqueduct30/processData/Y2018M11D29_RH_Hybas6_U_GADM36L01_GPD_PP_V01/output_V04/gdf_union_213.pkl to ../../../../data/Y2018M11D29_RH_Hybas6_U_GADM36L01_GPD_PP_Merge_V01/input_V01/gdf_union_213.pkl\n",
      "download: s3://wri-projects/Aqueduct30/processData/Y2018M11D29_RH_Hybas6_U_GADM36L01_GPD_PP_V01/output_V04/gdf_union_222.pkl to ../../../../data/Y2018M11D29_RH_Hybas6_U_GADM36L01_GPD_PP_Merge_V01/input_V01/gdf_union_222.pkl\n",
      "download: s3://wri-projects/Aqueduct30/processData/Y2018M11D29_RH_Hybas6_U_GADM36L01_GPD_PP_V01/output_V04/gdf_union_224.pkl to ../../../../data/Y2018M11D29_RH_Hybas6_U_GADM36L01_GPD_PP_Merge_V01/input_V01/gdf_union_224.pkl\n",
      "download: s3://wri-projects/Aqueduct30/processData/Y2018M11D29_RH_Hybas6_U_GADM36L01_GPD_PP_V01/output_V04/gdf_union_225.pkl to ../../../../data/Y2018M11D29_RH_Hybas6_U_GADM36L01_GPD_PP_Merge_V01/input_V01/gdf_union_225.pkl\n",
      "download: s3://wri-projects/Aqueduct30/processData/Y2018M11D29_RH_Hybas6_U_GADM36L01_GPD_PP_V01/output_V04/gdf_union_182.pkl to ../../../../data/Y2018M11D29_RH_Hybas6_U_GADM36L01_GPD_PP_Merge_V01/input_V01/gdf_union_182.pkl\n",
      "download: s3://wri-projects/Aqueduct30/processData/Y2018M11D29_RH_Hybas6_U_GADM36L01_GPD_PP_V01/output_V04/gdf_union_212.pkl to ../../../../data/Y2018M11D29_RH_Hybas6_U_GADM36L01_GPD_PP_Merge_V01/input_V01/gdf_union_212.pkl\n",
      "download: s3://wri-projects/Aqueduct30/processData/Y2018M11D29_RH_Hybas6_U_GADM36L01_GPD_PP_V01/output_V04/gdf_union_226.pkl to ../../../../data/Y2018M11D29_RH_Hybas6_U_GADM36L01_GPD_PP_Merge_V01/input_V01/gdf_union_226.pkl\n",
      "download: s3://wri-projects/Aqueduct30/processData/Y2018M11D29_RH_Hybas6_U_GADM36L01_GPD_PP_V01/output_V04/gdf_union_227.pkl to ../../../../data/Y2018M11D29_RH_Hybas6_U_GADM36L01_GPD_PP_Merge_V01/input_V01/gdf_union_227.pkl\n",
      "download: s3://wri-projects/Aqueduct30/processData/Y2018M11D29_RH_Hybas6_U_GADM36L01_GPD_PP_V01/output_V04/gdf_union_215.pkl to ../../../../data/Y2018M11D29_RH_Hybas6_U_GADM36L01_GPD_PP_Merge_V01/input_V01/gdf_union_215.pkl\n",
      "download: s3://wri-projects/Aqueduct30/processData/Y2018M11D29_RH_Hybas6_U_GADM36L01_GPD_PP_V01/output_V04/gdf_union_228.pkl to ../../../../data/Y2018M11D29_RH_Hybas6_U_GADM36L01_GPD_PP_Merge_V01/input_V01/gdf_union_228.pkl\n",
      "download: s3://wri-projects/Aqueduct30/processData/Y2018M11D29_RH_Hybas6_U_GADM36L01_GPD_PP_V01/output_V04/gdf_union_20.pkl to ../../../../data/Y2018M11D29_RH_Hybas6_U_GADM36L01_GPD_PP_Merge_V01/input_V01/gdf_union_20.pkl\n",
      "download: s3://wri-projects/Aqueduct30/processData/Y2018M11D29_RH_Hybas6_U_GADM36L01_GPD_PP_V01/output_V04/gdf_union_214.pkl to ../../../../data/Y2018M11D29_RH_Hybas6_U_GADM36L01_GPD_PP_Merge_V01/input_V01/gdf_union_214.pkl\n",
      "download: s3://wri-projects/Aqueduct30/processData/Y2018M11D29_RH_Hybas6_U_GADM36L01_GPD_PP_V01/output_V04/gdf_union_233.pkl to ../../../../data/Y2018M11D29_RH_Hybas6_U_GADM36L01_GPD_PP_Merge_V01/input_V01/gdf_union_233.pkl\n",
      "download: s3://wri-projects/Aqueduct30/processData/Y2018M11D29_RH_Hybas6_U_GADM36L01_GPD_PP_V01/output_V04/gdf_union_234.pkl to ../../../../data/Y2018M11D29_RH_Hybas6_U_GADM36L01_GPD_PP_Merge_V01/input_V01/gdf_union_234.pkl\n",
      "download: s3://wri-projects/Aqueduct30/processData/Y2018M11D29_RH_Hybas6_U_GADM36L01_GPD_PP_V01/output_V04/gdf_union_230.pkl to ../../../../data/Y2018M11D29_RH_Hybas6_U_GADM36L01_GPD_PP_Merge_V01/input_V01/gdf_union_230.pkl\n",
      "download: s3://wri-projects/Aqueduct30/processData/Y2018M11D29_RH_Hybas6_U_GADM36L01_GPD_PP_V01/output_V04/gdf_union_232.pkl to ../../../../data/Y2018M11D29_RH_Hybas6_U_GADM36L01_GPD_PP_Merge_V01/input_V01/gdf_union_232.pkl\n",
      "download: s3://wri-projects/Aqueduct30/processData/Y2018M11D29_RH_Hybas6_U_GADM36L01_GPD_PP_V01/output_V04/gdf_union_23.pkl to ../../../../data/Y2018M11D29_RH_Hybas6_U_GADM36L01_GPD_PP_Merge_V01/input_V01/gdf_union_23.pkl\n",
      "download: s3://wri-projects/Aqueduct30/processData/Y2018M11D29_RH_Hybas6_U_GADM36L01_GPD_PP_V01/output_V04/gdf_union_242.pkl to ../../../../data/Y2018M11D29_RH_Hybas6_U_GADM36L01_GPD_PP_Merge_V01/input_V01/gdf_union_242.pkl\n",
      "download: s3://wri-projects/Aqueduct30/processData/Y2018M11D29_RH_Hybas6_U_GADM36L01_GPD_PP_V01/output_V04/gdf_union_178.pkl to ../../../../data/Y2018M11D29_RH_Hybas6_U_GADM36L01_GPD_PP_Merge_V01/input_V01/gdf_union_178.pkl\n",
      "download: s3://wri-projects/Aqueduct30/processData/Y2018M11D29_RH_Hybas6_U_GADM36L01_GPD_PP_V01/output_V04/gdf_union_24.pkl to ../../../../data/Y2018M11D29_RH_Hybas6_U_GADM36L01_GPD_PP_Merge_V01/input_V01/gdf_union_24.pkl\n",
      "download: s3://wri-projects/Aqueduct30/processData/Y2018M11D29_RH_Hybas6_U_GADM36L01_GPD_PP_V01/output_V04/gdf_union_235.pkl to ../../../../data/Y2018M11D29_RH_Hybas6_U_GADM36L01_GPD_PP_Merge_V01/input_V01/gdf_union_235.pkl\n",
      "download: s3://wri-projects/Aqueduct30/processData/Y2018M11D29_RH_Hybas6_U_GADM36L01_GPD_PP_V01/output_V04/gdf_union_240.pkl to ../../../../data/Y2018M11D29_RH_Hybas6_U_GADM36L01_GPD_PP_Merge_V01/input_V01/gdf_union_240.pkl\n",
      "download: s3://wri-projects/Aqueduct30/processData/Y2018M11D29_RH_Hybas6_U_GADM36L01_GPD_PP_V01/output_V04/gdf_union_237.pkl to ../../../../data/Y2018M11D29_RH_Hybas6_U_GADM36L01_GPD_PP_Merge_V01/input_V01/gdf_union_237.pkl\n",
      "download: s3://wri-projects/Aqueduct30/processData/Y2018M11D29_RH_Hybas6_U_GADM36L01_GPD_PP_V01/output_V04/gdf_union_244.pkl to ../../../../data/Y2018M11D29_RH_Hybas6_U_GADM36L01_GPD_PP_Merge_V01/input_V01/gdf_union_244.pkl\n",
      "download: s3://wri-projects/Aqueduct30/processData/Y2018M11D29_RH_Hybas6_U_GADM36L01_GPD_PP_V01/output_V04/gdf_union_229.pkl to ../../../../data/Y2018M11D29_RH_Hybas6_U_GADM36L01_GPD_PP_Merge_V01/input_V01/gdf_union_229.pkl\n",
      "download: s3://wri-projects/Aqueduct30/processData/Y2018M11D29_RH_Hybas6_U_GADM36L01_GPD_PP_V01/output_V04/gdf_union_236.pkl to ../../../../data/Y2018M11D29_RH_Hybas6_U_GADM36L01_GPD_PP_Merge_V01/input_V01/gdf_union_236.pkl\n",
      "download: s3://wri-projects/Aqueduct30/processData/Y2018M11D29_RH_Hybas6_U_GADM36L01_GPD_PP_V01/output_V04/gdf_union_241.pkl to ../../../../data/Y2018M11D29_RH_Hybas6_U_GADM36L01_GPD_PP_Merge_V01/input_V01/gdf_union_241.pkl\n",
      "download: s3://wri-projects/Aqueduct30/processData/Y2018M11D29_RH_Hybas6_U_GADM36L01_GPD_PP_V01/output_V04/gdf_union_238.pkl to ../../../../data/Y2018M11D29_RH_Hybas6_U_GADM36L01_GPD_PP_Merge_V01/input_V01/gdf_union_238.pkl\n",
      "download: s3://wri-projects/Aqueduct30/processData/Y2018M11D29_RH_Hybas6_U_GADM36L01_GPD_PP_V01/output_V04/gdf_union_247.pkl to ../../../../data/Y2018M11D29_RH_Hybas6_U_GADM36L01_GPD_PP_Merge_V01/input_V01/gdf_union_247.pkl\n",
      "download: s3://wri-projects/Aqueduct30/processData/Y2018M11D29_RH_Hybas6_U_GADM36L01_GPD_PP_V01/output_V04/gdf_union_243.pkl to ../../../../data/Y2018M11D29_RH_Hybas6_U_GADM36L01_GPD_PP_Merge_V01/input_V01/gdf_union_243.pkl\n",
      "download: s3://wri-projects/Aqueduct30/processData/Y2018M11D29_RH_Hybas6_U_GADM36L01_GPD_PP_V01/output_V04/gdf_union_25.pkl to ../../../../data/Y2018M11D29_RH_Hybas6_U_GADM36L01_GPD_PP_Merge_V01/input_V01/gdf_union_25.pkl\n",
      "download: s3://wri-projects/Aqueduct30/processData/Y2018M11D29_RH_Hybas6_U_GADM36L01_GPD_PP_V01/output_V04/gdf_union_154.pkl to ../../../../data/Y2018M11D29_RH_Hybas6_U_GADM36L01_GPD_PP_Merge_V01/input_V01/gdf_union_154.pkl\n",
      "download: s3://wri-projects/Aqueduct30/processData/Y2018M11D29_RH_Hybas6_U_GADM36L01_GPD_PP_V01/output_V04/gdf_union_257.pkl to ../../../../data/Y2018M11D29_RH_Hybas6_U_GADM36L01_GPD_PP_Merge_V01/input_V01/gdf_union_257.pkl\n",
      "download: s3://wri-projects/Aqueduct30/processData/Y2018M11D29_RH_Hybas6_U_GADM36L01_GPD_PP_V01/output_V04/gdf_union_259.pkl to ../../../../data/Y2018M11D29_RH_Hybas6_U_GADM36L01_GPD_PP_Merge_V01/input_V01/gdf_union_259.pkl\n",
      "download: s3://wri-projects/Aqueduct30/processData/Y2018M11D29_RH_Hybas6_U_GADM36L01_GPD_PP_V01/output_V04/gdf_union_251.pkl to ../../../../data/Y2018M11D29_RH_Hybas6_U_GADM36L01_GPD_PP_Merge_V01/input_V01/gdf_union_251.pkl\n",
      "download: s3://wri-projects/Aqueduct30/processData/Y2018M11D29_RH_Hybas6_U_GADM36L01_GPD_PP_V01/output_V04/gdf_union_258.pkl to ../../../../data/Y2018M11D29_RH_Hybas6_U_GADM36L01_GPD_PP_Merge_V01/input_V01/gdf_union_258.pkl\n",
      "download: s3://wri-projects/Aqueduct30/processData/Y2018M11D29_RH_Hybas6_U_GADM36L01_GPD_PP_V01/output_V04/gdf_union_261.pkl to ../../../../data/Y2018M11D29_RH_Hybas6_U_GADM36L01_GPD_PP_Merge_V01/input_V01/gdf_union_261.pkl\n",
      "download: s3://wri-projects/Aqueduct30/processData/Y2018M11D29_RH_Hybas6_U_GADM36L01_GPD_PP_V01/output_V04/gdf_union_26.pkl to ../../../../data/Y2018M11D29_RH_Hybas6_U_GADM36L01_GPD_PP_Merge_V01/input_V01/gdf_union_26.pkl\n",
      "download: s3://wri-projects/Aqueduct30/processData/Y2018M11D29_RH_Hybas6_U_GADM36L01_GPD_PP_V01/output_V04/gdf_union_260.pkl to ../../../../data/Y2018M11D29_RH_Hybas6_U_GADM36L01_GPD_PP_Merge_V01/input_V01/gdf_union_260.pkl\n",
      "download: s3://wri-projects/Aqueduct30/processData/Y2018M11D29_RH_Hybas6_U_GADM36L01_GPD_PP_V01/output_V04/gdf_union_250.pkl to ../../../../data/Y2018M11D29_RH_Hybas6_U_GADM36L01_GPD_PP_Merge_V01/input_V01/gdf_union_250.pkl\n"
     ]
    },
    {
     "name": "stdout",
     "output_type": "stream",
     "text": [
      "download: s3://wri-projects/Aqueduct30/processData/Y2018M11D29_RH_Hybas6_U_GADM36L01_GPD_PP_V01/output_V04/gdf_union_248.pkl to ../../../../data/Y2018M11D29_RH_Hybas6_U_GADM36L01_GPD_PP_Merge_V01/input_V01/gdf_union_248.pkl\n",
      "download: s3://wri-projects/Aqueduct30/processData/Y2018M11D29_RH_Hybas6_U_GADM36L01_GPD_PP_V01/output_V04/gdf_union_268.pkl to ../../../../data/Y2018M11D29_RH_Hybas6_U_GADM36L01_GPD_PP_Merge_V01/input_V01/gdf_union_268.pkl\n",
      "download: s3://wri-projects/Aqueduct30/processData/Y2018M11D29_RH_Hybas6_U_GADM36L01_GPD_PP_V01/output_V04/gdf_union_264.pkl to ../../../../data/Y2018M11D29_RH_Hybas6_U_GADM36L01_GPD_PP_Merge_V01/input_V01/gdf_union_264.pkl\n",
      "download: s3://wri-projects/Aqueduct30/processData/Y2018M11D29_RH_Hybas6_U_GADM36L01_GPD_PP_V01/output_V04/gdf_union_267.pkl to ../../../../data/Y2018M11D29_RH_Hybas6_U_GADM36L01_GPD_PP_Merge_V01/input_V01/gdf_union_267.pkl\n",
      "download: s3://wri-projects/Aqueduct30/processData/Y2018M11D29_RH_Hybas6_U_GADM36L01_GPD_PP_V01/output_V04/gdf_union_27.pkl to ../../../../data/Y2018M11D29_RH_Hybas6_U_GADM36L01_GPD_PP_Merge_V01/input_V01/gdf_union_27.pkl\n",
      "download: s3://wri-projects/Aqueduct30/processData/Y2018M11D29_RH_Hybas6_U_GADM36L01_GPD_PP_V01/output_V04/gdf_union_270.pkl to ../../../../data/Y2018M11D29_RH_Hybas6_U_GADM36L01_GPD_PP_Merge_V01/input_V01/gdf_union_270.pkl\n",
      "download: s3://wri-projects/Aqueduct30/processData/Y2018M11D29_RH_Hybas6_U_GADM36L01_GPD_PP_V01/output_V04/gdf_union_249.pkl to ../../../../data/Y2018M11D29_RH_Hybas6_U_GADM36L01_GPD_PP_Merge_V01/input_V01/gdf_union_249.pkl\n",
      "download: s3://wri-projects/Aqueduct30/processData/Y2018M11D29_RH_Hybas6_U_GADM36L01_GPD_PP_V01/output_V04/gdf_union_265.pkl to ../../../../data/Y2018M11D29_RH_Hybas6_U_GADM36L01_GPD_PP_Merge_V01/input_V01/gdf_union_265.pkl\n",
      "download: s3://wri-projects/Aqueduct30/processData/Y2018M11D29_RH_Hybas6_U_GADM36L01_GPD_PP_V01/output_V04/gdf_union_266.pkl to ../../../../data/Y2018M11D29_RH_Hybas6_U_GADM36L01_GPD_PP_Merge_V01/input_V01/gdf_union_266.pkl\n",
      "download: s3://wri-projects/Aqueduct30/processData/Y2018M11D29_RH_Hybas6_U_GADM36L01_GPD_PP_V01/output_V04/gdf_union_277.pkl to ../../../../data/Y2018M11D29_RH_Hybas6_U_GADM36L01_GPD_PP_Merge_V01/input_V01/gdf_union_277.pkl\n",
      "download: s3://wri-projects/Aqueduct30/processData/Y2018M11D29_RH_Hybas6_U_GADM36L01_GPD_PP_V01/output_V04/gdf_union_262.pkl to ../../../../data/Y2018M11D29_RH_Hybas6_U_GADM36L01_GPD_PP_Merge_V01/input_V01/gdf_union_262.pkl\n",
      "download: s3://wri-projects/Aqueduct30/processData/Y2018M11D29_RH_Hybas6_U_GADM36L01_GPD_PP_V01/output_V04/gdf_union_275.pkl to ../../../../data/Y2018M11D29_RH_Hybas6_U_GADM36L01_GPD_PP_Merge_V01/input_V01/gdf_union_275.pkl\n",
      "download: s3://wri-projects/Aqueduct30/processData/Y2018M11D29_RH_Hybas6_U_GADM36L01_GPD_PP_V01/output_V04/gdf_union_278.pkl to ../../../../data/Y2018M11D29_RH_Hybas6_U_GADM36L01_GPD_PP_Merge_V01/input_V01/gdf_union_278.pkl\n",
      "download: s3://wri-projects/Aqueduct30/processData/Y2018M11D29_RH_Hybas6_U_GADM36L01_GPD_PP_V01/output_V04/gdf_union_279.pkl to ../../../../data/Y2018M11D29_RH_Hybas6_U_GADM36L01_GPD_PP_Merge_V01/input_V01/gdf_union_279.pkl\n",
      "download: s3://wri-projects/Aqueduct30/processData/Y2018M11D29_RH_Hybas6_U_GADM36L01_GPD_PP_V01/output_V04/gdf_union_28.pkl to ../../../../data/Y2018M11D29_RH_Hybas6_U_GADM36L01_GPD_PP_Merge_V01/input_V01/gdf_union_28.pkl\n",
      "download: s3://wri-projects/Aqueduct30/processData/Y2018M11D29_RH_Hybas6_U_GADM36L01_GPD_PP_V01/output_V04/gdf_union_281.pkl to ../../../../data/Y2018M11D29_RH_Hybas6_U_GADM36L01_GPD_PP_Merge_V01/input_V01/gdf_union_281.pkl\n",
      "download: s3://wri-projects/Aqueduct30/processData/Y2018M11D29_RH_Hybas6_U_GADM36L01_GPD_PP_V01/output_V04/gdf_union_271.pkl to ../../../../data/Y2018M11D29_RH_Hybas6_U_GADM36L01_GPD_PP_Merge_V01/input_V01/gdf_union_271.pkl\n",
      "download: s3://wri-projects/Aqueduct30/processData/Y2018M11D29_RH_Hybas6_U_GADM36L01_GPD_PP_V01/output_V04/gdf_union_280.pkl to ../../../../data/Y2018M11D29_RH_Hybas6_U_GADM36L01_GPD_PP_Merge_V01/input_V01/gdf_union_280.pkl\n",
      "download: s3://wri-projects/Aqueduct30/processData/Y2018M11D29_RH_Hybas6_U_GADM36L01_GPD_PP_V01/output_V04/gdf_union_272.pkl to ../../../../data/Y2018M11D29_RH_Hybas6_U_GADM36L01_GPD_PP_Merge_V01/input_V01/gdf_union_272.pkl\n",
      "download: s3://wri-projects/Aqueduct30/processData/Y2018M11D29_RH_Hybas6_U_GADM36L01_GPD_PP_V01/output_V04/gdf_union_273.pkl to ../../../../data/Y2018M11D29_RH_Hybas6_U_GADM36L01_GPD_PP_Merge_V01/input_V01/gdf_union_273.pkl\n",
      "download: s3://wri-projects/Aqueduct30/processData/Y2018M11D29_RH_Hybas6_U_GADM36L01_GPD_PP_V01/output_V04/gdf_union_29.pkl to ../../../../data/Y2018M11D29_RH_Hybas6_U_GADM36L01_GPD_PP_Merge_V01/input_V01/gdf_union_29.pkl\n",
      "download: s3://wri-projects/Aqueduct30/processData/Y2018M11D29_RH_Hybas6_U_GADM36L01_GPD_PP_V01/output_V04/gdf_union_290.pkl to ../../../../data/Y2018M11D29_RH_Hybas6_U_GADM36L01_GPD_PP_Merge_V01/input_V01/gdf_union_290.pkl\n",
      "download: s3://wri-projects/Aqueduct30/processData/Y2018M11D29_RH_Hybas6_U_GADM36L01_GPD_PP_V01/output_V04/gdf_union_293.pkl to ../../../../data/Y2018M11D29_RH_Hybas6_U_GADM36L01_GPD_PP_Merge_V01/input_V01/gdf_union_293.pkl\n",
      "download: s3://wri-projects/Aqueduct30/processData/Y2018M11D29_RH_Hybas6_U_GADM36L01_GPD_PP_V01/output_V04/gdf_union_285.pkl to ../../../../data/Y2018M11D29_RH_Hybas6_U_GADM36L01_GPD_PP_Merge_V01/input_V01/gdf_union_285.pkl\n",
      "download: s3://wri-projects/Aqueduct30/processData/Y2018M11D29_RH_Hybas6_U_GADM36L01_GPD_PP_V01/output_V04/gdf_union_294.pkl to ../../../../data/Y2018M11D29_RH_Hybas6_U_GADM36L01_GPD_PP_Merge_V01/input_V01/gdf_union_294.pkl\n",
      "download: s3://wri-projects/Aqueduct30/processData/Y2018M11D29_RH_Hybas6_U_GADM36L01_GPD_PP_V01/output_V04/gdf_union_282.pkl to ../../../../data/Y2018M11D29_RH_Hybas6_U_GADM36L01_GPD_PP_Merge_V01/input_V01/gdf_union_282.pkl\n",
      "download: s3://wri-projects/Aqueduct30/processData/Y2018M11D29_RH_Hybas6_U_GADM36L01_GPD_PP_V01/output_V04/gdf_union_287.pkl to ../../../../data/Y2018M11D29_RH_Hybas6_U_GADM36L01_GPD_PP_Merge_V01/input_V01/gdf_union_287.pkl\n",
      "download: s3://wri-projects/Aqueduct30/processData/Y2018M11D29_RH_Hybas6_U_GADM36L01_GPD_PP_V01/output_V04/gdf_union_274.pkl to ../../../../data/Y2018M11D29_RH_Hybas6_U_GADM36L01_GPD_PP_Merge_V01/input_V01/gdf_union_274.pkl\n",
      "download: s3://wri-projects/Aqueduct30/processData/Y2018M11D29_RH_Hybas6_U_GADM36L01_GPD_PP_V01/output_V04/gdf_union_286.pkl to ../../../../data/Y2018M11D29_RH_Hybas6_U_GADM36L01_GPD_PP_Merge_V01/input_V01/gdf_union_286.pkl\n",
      "download: s3://wri-projects/Aqueduct30/processData/Y2018M11D29_RH_Hybas6_U_GADM36L01_GPD_PP_V01/output_V04/gdf_union_295.pkl to ../../../../data/Y2018M11D29_RH_Hybas6_U_GADM36L01_GPD_PP_Merge_V01/input_V01/gdf_union_295.pkl\n",
      "download: s3://wri-projects/Aqueduct30/processData/Y2018M11D29_RH_Hybas6_U_GADM36L01_GPD_PP_V01/output_V04/gdf_union_299.pkl to ../../../../data/Y2018M11D29_RH_Hybas6_U_GADM36L01_GPD_PP_Merge_V01/input_V01/gdf_union_299.pkl\n",
      "download: s3://wri-projects/Aqueduct30/processData/Y2018M11D29_RH_Hybas6_U_GADM36L01_GPD_PP_V01/output_V04/gdf_union_296.pkl to ../../../../data/Y2018M11D29_RH_Hybas6_U_GADM36L01_GPD_PP_Merge_V01/input_V01/gdf_union_296.pkl\n",
      "download: s3://wri-projects/Aqueduct30/processData/Y2018M11D29_RH_Hybas6_U_GADM36L01_GPD_PP_V01/output_V04/gdf_union_30.pkl to ../../../../data/Y2018M11D29_RH_Hybas6_U_GADM36L01_GPD_PP_Merge_V01/input_V01/gdf_union_30.pkl\n",
      "download: s3://wri-projects/Aqueduct30/processData/Y2018M11D29_RH_Hybas6_U_GADM36L01_GPD_PP_V01/output_V04/gdf_union_3.pkl to ../../../../data/Y2018M11D29_RH_Hybas6_U_GADM36L01_GPD_PP_Merge_V01/input_V01/gdf_union_3.pkl\n",
      "download: s3://wri-projects/Aqueduct30/processData/Y2018M11D29_RH_Hybas6_U_GADM36L01_GPD_PP_V01/output_V04/gdf_union_303.pkl to ../../../../data/Y2018M11D29_RH_Hybas6_U_GADM36L01_GPD_PP_Merge_V01/input_V01/gdf_union_303.pkl\n",
      "download: s3://wri-projects/Aqueduct30/processData/Y2018M11D29_RH_Hybas6_U_GADM36L01_GPD_PP_V01/output_V04/gdf_union_300.pkl to ../../../../data/Y2018M11D29_RH_Hybas6_U_GADM36L01_GPD_PP_Merge_V01/input_V01/gdf_union_300.pkl\n",
      "download: s3://wri-projects/Aqueduct30/processData/Y2018M11D29_RH_Hybas6_U_GADM36L01_GPD_PP_V01/output_V04/gdf_union_297.pkl to ../../../../data/Y2018M11D29_RH_Hybas6_U_GADM36L01_GPD_PP_Merge_V01/input_V01/gdf_union_297.pkl\n",
      "download: s3://wri-projects/Aqueduct30/processData/Y2018M11D29_RH_Hybas6_U_GADM36L01_GPD_PP_V01/output_V04/gdf_union_305.pkl to ../../../../data/Y2018M11D29_RH_Hybas6_U_GADM36L01_GPD_PP_Merge_V01/input_V01/gdf_union_305.pkl\n"
     ]
    },
    {
     "name": "stdout",
     "output_type": "stream",
     "text": [
      "download: s3://wri-projects/Aqueduct30/processData/Y2018M11D29_RH_Hybas6_U_GADM36L01_GPD_PP_V01/output_V04/gdf_union_306.pkl to ../../../../data/Y2018M11D29_RH_Hybas6_U_GADM36L01_GPD_PP_Merge_V01/input_V01/gdf_union_306.pkl\n",
      "download: s3://wri-projects/Aqueduct30/processData/Y2018M11D29_RH_Hybas6_U_GADM36L01_GPD_PP_V01/output_V04/gdf_union_31.pkl to ../../../../data/Y2018M11D29_RH_Hybas6_U_GADM36L01_GPD_PP_Merge_V01/input_V01/gdf_union_31.pkl\n",
      "download: s3://wri-projects/Aqueduct30/processData/Y2018M11D29_RH_Hybas6_U_GADM36L01_GPD_PP_V01/output_V04/gdf_union_307.pkl to ../../../../data/Y2018M11D29_RH_Hybas6_U_GADM36L01_GPD_PP_Merge_V01/input_V01/gdf_union_307.pkl\n",
      "download: s3://wri-projects/Aqueduct30/processData/Y2018M11D29_RH_Hybas6_U_GADM36L01_GPD_PP_V01/output_V04/gdf_union_311.pkl to ../../../../data/Y2018M11D29_RH_Hybas6_U_GADM36L01_GPD_PP_Merge_V01/input_V01/gdf_union_311.pkl\n",
      "download: s3://wri-projects/Aqueduct30/processData/Y2018M11D29_RH_Hybas6_U_GADM36L01_GPD_PP_V01/output_V04/gdf_union_302.pkl to ../../../../data/Y2018M11D29_RH_Hybas6_U_GADM36L01_GPD_PP_Merge_V01/input_V01/gdf_union_302.pkl\n",
      "download: s3://wri-projects/Aqueduct30/processData/Y2018M11D29_RH_Hybas6_U_GADM36L01_GPD_PP_V01/output_V04/gdf_union_308.pkl to ../../../../data/Y2018M11D29_RH_Hybas6_U_GADM36L01_GPD_PP_Merge_V01/input_V01/gdf_union_308.pkl\n",
      "download: s3://wri-projects/Aqueduct30/processData/Y2018M11D29_RH_Hybas6_U_GADM36L01_GPD_PP_V01/output_V04/gdf_union_298.pkl to ../../../../data/Y2018M11D29_RH_Hybas6_U_GADM36L01_GPD_PP_Merge_V01/input_V01/gdf_union_298.pkl\n",
      "download: s3://wri-projects/Aqueduct30/processData/Y2018M11D29_RH_Hybas6_U_GADM36L01_GPD_PP_V01/output_V04/gdf_union_312.pkl to ../../../../data/Y2018M11D29_RH_Hybas6_U_GADM36L01_GPD_PP_Merge_V01/input_V01/gdf_union_312.pkl\n",
      "download: s3://wri-projects/Aqueduct30/processData/Y2018M11D29_RH_Hybas6_U_GADM36L01_GPD_PP_V01/output_V04/gdf_union_310.pkl to ../../../../data/Y2018M11D29_RH_Hybas6_U_GADM36L01_GPD_PP_Merge_V01/input_V01/gdf_union_310.pkl\n",
      "download: s3://wri-projects/Aqueduct30/processData/Y2018M11D29_RH_Hybas6_U_GADM36L01_GPD_PP_V01/output_V04/gdf_union_314.pkl to ../../../../data/Y2018M11D29_RH_Hybas6_U_GADM36L01_GPD_PP_Merge_V01/input_V01/gdf_union_314.pkl\n",
      "download: s3://wri-projects/Aqueduct30/processData/Y2018M11D29_RH_Hybas6_U_GADM36L01_GPD_PP_V01/output_V04/gdf_union_315.pkl to ../../../../data/Y2018M11D29_RH_Hybas6_U_GADM36L01_GPD_PP_Merge_V01/input_V01/gdf_union_315.pkl\n",
      "download: s3://wri-projects/Aqueduct30/processData/Y2018M11D29_RH_Hybas6_U_GADM36L01_GPD_PP_V01/output_V04/gdf_union_313.pkl to ../../../../data/Y2018M11D29_RH_Hybas6_U_GADM36L01_GPD_PP_Merge_V01/input_V01/gdf_union_313.pkl\n",
      "download: s3://wri-projects/Aqueduct30/processData/Y2018M11D29_RH_Hybas6_U_GADM36L01_GPD_PP_V01/output_V04/gdf_union_301.pkl to ../../../../data/Y2018M11D29_RH_Hybas6_U_GADM36L01_GPD_PP_Merge_V01/input_V01/gdf_union_301.pkl\n",
      "download: s3://wri-projects/Aqueduct30/processData/Y2018M11D29_RH_Hybas6_U_GADM36L01_GPD_PP_V01/output_V04/gdf_union_32.pkl to ../../../../data/Y2018M11D29_RH_Hybas6_U_GADM36L01_GPD_PP_Merge_V01/input_V01/gdf_union_32.pkl\n",
      "download: s3://wri-projects/Aqueduct30/processData/Y2018M11D29_RH_Hybas6_U_GADM36L01_GPD_PP_V01/output_V04/gdf_union_323.pkl to ../../../../data/Y2018M11D29_RH_Hybas6_U_GADM36L01_GPD_PP_Merge_V01/input_V01/gdf_union_323.pkl\n",
      "download: s3://wri-projects/Aqueduct30/processData/Y2018M11D29_RH_Hybas6_U_GADM36L01_GPD_PP_V01/output_V04/gdf_union_326.pkl to ../../../../data/Y2018M11D29_RH_Hybas6_U_GADM36L01_GPD_PP_Merge_V01/input_V01/gdf_union_326.pkl\n",
      "download: s3://wri-projects/Aqueduct30/processData/Y2018M11D29_RH_Hybas6_U_GADM36L01_GPD_PP_V01/output_V04/gdf_union_322.pkl to ../../../../data/Y2018M11D29_RH_Hybas6_U_GADM36L01_GPD_PP_Merge_V01/input_V01/gdf_union_322.pkl\n",
      "download: s3://wri-projects/Aqueduct30/processData/Y2018M11D29_RH_Hybas6_U_GADM36L01_GPD_PP_V01/output_V04/gdf_union_319.pkl to ../../../../data/Y2018M11D29_RH_Hybas6_U_GADM36L01_GPD_PP_Merge_V01/input_V01/gdf_union_319.pkl\n",
      "download: s3://wri-projects/Aqueduct30/processData/Y2018M11D29_RH_Hybas6_U_GADM36L01_GPD_PP_V01/output_V04/gdf_union_309.pkl to ../../../../data/Y2018M11D29_RH_Hybas6_U_GADM36L01_GPD_PP_Merge_V01/input_V01/gdf_union_309.pkl\n",
      "download: s3://wri-projects/Aqueduct30/processData/Y2018M11D29_RH_Hybas6_U_GADM36L01_GPD_PP_V01/output_V04/gdf_union_329.pkl to ../../../../data/Y2018M11D29_RH_Hybas6_U_GADM36L01_GPD_PP_Merge_V01/input_V01/gdf_union_329.pkl\n",
      "download: s3://wri-projects/Aqueduct30/processData/Y2018M11D29_RH_Hybas6_U_GADM36L01_GPD_PP_V01/output_V04/gdf_union_263.pkl to ../../../../data/Y2018M11D29_RH_Hybas6_U_GADM36L01_GPD_PP_Merge_V01/input_V01/gdf_union_263.pkl\n",
      "download: s3://wri-projects/Aqueduct30/processData/Y2018M11D29_RH_Hybas6_U_GADM36L01_GPD_PP_V01/output_V04/gdf_union_327.pkl to ../../../../data/Y2018M11D29_RH_Hybas6_U_GADM36L01_GPD_PP_Merge_V01/input_V01/gdf_union_327.pkl\n",
      "download: s3://wri-projects/Aqueduct30/processData/Y2018M11D29_RH_Hybas6_U_GADM36L01_GPD_PP_V01/output_V04/gdf_union_330.pkl to ../../../../data/Y2018M11D29_RH_Hybas6_U_GADM36L01_GPD_PP_Merge_V01/input_V01/gdf_union_330.pkl\n",
      "download: s3://wri-projects/Aqueduct30/processData/Y2018M11D29_RH_Hybas6_U_GADM36L01_GPD_PP_V01/output_V04/gdf_union_33.pkl to ../../../../data/Y2018M11D29_RH_Hybas6_U_GADM36L01_GPD_PP_Merge_V01/input_V01/gdf_union_33.pkl\n",
      "download: s3://wri-projects/Aqueduct30/processData/Y2018M11D29_RH_Hybas6_U_GADM36L01_GPD_PP_V01/output_V04/gdf_union_332.pkl to ../../../../data/Y2018M11D29_RH_Hybas6_U_GADM36L01_GPD_PP_Merge_V01/input_V01/gdf_union_332.pkl\n",
      "download: s3://wri-projects/Aqueduct30/processData/Y2018M11D29_RH_Hybas6_U_GADM36L01_GPD_PP_V01/output_V04/gdf_union_331.pkl to ../../../../data/Y2018M11D29_RH_Hybas6_U_GADM36L01_GPD_PP_Merge_V01/input_V01/gdf_union_331.pkl\n",
      "download: s3://wri-projects/Aqueduct30/processData/Y2018M11D29_RH_Hybas6_U_GADM36L01_GPD_PP_V01/output_V04/gdf_union_318.pkl to ../../../../data/Y2018M11D29_RH_Hybas6_U_GADM36L01_GPD_PP_Merge_V01/input_V01/gdf_union_318.pkl\n",
      "download: s3://wri-projects/Aqueduct30/processData/Y2018M11D29_RH_Hybas6_U_GADM36L01_GPD_PP_V01/output_V04/gdf_union_320.pkl to ../../../../data/Y2018M11D29_RH_Hybas6_U_GADM36L01_GPD_PP_Merge_V01/input_V01/gdf_union_320.pkl\n",
      "download: s3://wri-projects/Aqueduct30/processData/Y2018M11D29_RH_Hybas6_U_GADM36L01_GPD_PP_V01/output_V04/gdf_union_321.pkl to ../../../../data/Y2018M11D29_RH_Hybas6_U_GADM36L01_GPD_PP_Merge_V01/input_V01/gdf_union_321.pkl\n",
      "download: s3://wri-projects/Aqueduct30/processData/Y2018M11D29_RH_Hybas6_U_GADM36L01_GPD_PP_V01/output_V04/gdf_union_338.pkl to ../../../../data/Y2018M11D29_RH_Hybas6_U_GADM36L01_GPD_PP_Merge_V01/input_V01/gdf_union_338.pkl\n",
      "download: s3://wri-projects/Aqueduct30/processData/Y2018M11D29_RH_Hybas6_U_GADM36L01_GPD_PP_V01/output_V04/gdf_union_34.pkl to ../../../../data/Y2018M11D29_RH_Hybas6_U_GADM36L01_GPD_PP_Merge_V01/input_V01/gdf_union_34.pkl\n",
      "download: s3://wri-projects/Aqueduct30/processData/Y2018M11D29_RH_Hybas6_U_GADM36L01_GPD_PP_V01/output_V04/gdf_union_339.pkl to ../../../../data/Y2018M11D29_RH_Hybas6_U_GADM36L01_GPD_PP_Merge_V01/input_V01/gdf_union_339.pkl\n",
      "download: s3://wri-projects/Aqueduct30/processData/Y2018M11D29_RH_Hybas6_U_GADM36L01_GPD_PP_V01/output_V04/gdf_union_337.pkl to ../../../../data/Y2018M11D29_RH_Hybas6_U_GADM36L01_GPD_PP_Merge_V01/input_V01/gdf_union_337.pkl\n",
      "download: s3://wri-projects/Aqueduct30/processData/Y2018M11D29_RH_Hybas6_U_GADM36L01_GPD_PP_V01/output_V04/gdf_union_335.pkl to ../../../../data/Y2018M11D29_RH_Hybas6_U_GADM36L01_GPD_PP_Merge_V01/input_V01/gdf_union_335.pkl\n",
      "download: s3://wri-projects/Aqueduct30/processData/Y2018M11D29_RH_Hybas6_U_GADM36L01_GPD_PP_V01/output_V04/gdf_union_328.pkl to ../../../../data/Y2018M11D29_RH_Hybas6_U_GADM36L01_GPD_PP_Merge_V01/input_V01/gdf_union_328.pkl\n",
      "download: s3://wri-projects/Aqueduct30/processData/Y2018M11D29_RH_Hybas6_U_GADM36L01_GPD_PP_V01/output_V04/gdf_union_336.pkl to ../../../../data/Y2018M11D29_RH_Hybas6_U_GADM36L01_GPD_PP_Merge_V01/input_V01/gdf_union_336.pkl\n",
      "download: s3://wri-projects/Aqueduct30/processData/Y2018M11D29_RH_Hybas6_U_GADM36L01_GPD_PP_V01/output_V04/gdf_union_333.pkl to ../../../../data/Y2018M11D29_RH_Hybas6_U_GADM36L01_GPD_PP_Merge_V01/input_V01/gdf_union_333.pkl\n"
     ]
    },
    {
     "name": "stdout",
     "output_type": "stream",
     "text": [
      "download: s3://wri-projects/Aqueduct30/processData/Y2018M11D29_RH_Hybas6_U_GADM36L01_GPD_PP_V01/output_V04/gdf_union_340.pkl to ../../../../data/Y2018M11D29_RH_Hybas6_U_GADM36L01_GPD_PP_Merge_V01/input_V01/gdf_union_340.pkl\n",
      "download: s3://wri-projects/Aqueduct30/processData/Y2018M11D29_RH_Hybas6_U_GADM36L01_GPD_PP_V01/output_V04/gdf_union_341.pkl to ../../../../data/Y2018M11D29_RH_Hybas6_U_GADM36L01_GPD_PP_Merge_V01/input_V01/gdf_union_341.pkl\n",
      "download: s3://wri-projects/Aqueduct30/processData/Y2018M11D29_RH_Hybas6_U_GADM36L01_GPD_PP_V01/output_V04/gdf_union_344.pkl to ../../../../data/Y2018M11D29_RH_Hybas6_U_GADM36L01_GPD_PP_Merge_V01/input_V01/gdf_union_344.pkl\n",
      "download: s3://wri-projects/Aqueduct30/processData/Y2018M11D29_RH_Hybas6_U_GADM36L01_GPD_PP_V01/output_V04/gdf_union_348.pkl to ../../../../data/Y2018M11D29_RH_Hybas6_U_GADM36L01_GPD_PP_Merge_V01/input_V01/gdf_union_348.pkl\n",
      "download: s3://wri-projects/Aqueduct30/processData/Y2018M11D29_RH_Hybas6_U_GADM36L01_GPD_PP_V01/output_V04/gdf_union_347.pkl to ../../../../data/Y2018M11D29_RH_Hybas6_U_GADM36L01_GPD_PP_Merge_V01/input_V01/gdf_union_347.pkl\n",
      "download: s3://wri-projects/Aqueduct30/processData/Y2018M11D29_RH_Hybas6_U_GADM36L01_GPD_PP_V01/output_V04/gdf_union_35.pkl to ../../../../data/Y2018M11D29_RH_Hybas6_U_GADM36L01_GPD_PP_Merge_V01/input_V01/gdf_union_35.pkl\n",
      "download: s3://wri-projects/Aqueduct30/processData/Y2018M11D29_RH_Hybas6_U_GADM36L01_GPD_PP_V01/output_V04/gdf_union_349.pkl to ../../../../data/Y2018M11D29_RH_Hybas6_U_GADM36L01_GPD_PP_Merge_V01/input_V01/gdf_union_349.pkl\n",
      "download: s3://wri-projects/Aqueduct30/processData/Y2018M11D29_RH_Hybas6_U_GADM36L01_GPD_PP_V01/output_V04/gdf_union_350.pkl to ../../../../data/Y2018M11D29_RH_Hybas6_U_GADM36L01_GPD_PP_Merge_V01/input_V01/gdf_union_350.pkl\n",
      "download: s3://wri-projects/Aqueduct30/processData/Y2018M11D29_RH_Hybas6_U_GADM36L01_GPD_PP_V01/output_V04/gdf_union_342.pkl to ../../../../data/Y2018M11D29_RH_Hybas6_U_GADM36L01_GPD_PP_Merge_V01/input_V01/gdf_union_342.pkl\n",
      "download: s3://wri-projects/Aqueduct30/processData/Y2018M11D29_RH_Hybas6_U_GADM36L01_GPD_PP_V01/output_V04/gdf_union_343.pkl to ../../../../data/Y2018M11D29_RH_Hybas6_U_GADM36L01_GPD_PP_Merge_V01/input_V01/gdf_union_343.pkl\n",
      "download: s3://wri-projects/Aqueduct30/processData/Y2018M11D29_RH_Hybas6_U_GADM36L01_GPD_PP_V01/output_V04/gdf_union_346.pkl to ../../../../data/Y2018M11D29_RH_Hybas6_U_GADM36L01_GPD_PP_Merge_V01/input_V01/gdf_union_346.pkl\n",
      "download: s3://wri-projects/Aqueduct30/processData/Y2018M11D29_RH_Hybas6_U_GADM36L01_GPD_PP_V01/output_V04/gdf_union_357.pkl to ../../../../data/Y2018M11D29_RH_Hybas6_U_GADM36L01_GPD_PP_Merge_V01/input_V01/gdf_union_357.pkl\n",
      "download: s3://wri-projects/Aqueduct30/processData/Y2018M11D29_RH_Hybas6_U_GADM36L01_GPD_PP_V01/output_V04/gdf_union_345.pkl to ../../../../data/Y2018M11D29_RH_Hybas6_U_GADM36L01_GPD_PP_Merge_V01/input_V01/gdf_union_345.pkl\n",
      "download: s3://wri-projects/Aqueduct30/processData/Y2018M11D29_RH_Hybas6_U_GADM36L01_GPD_PP_V01/output_V04/gdf_union_358.pkl to ../../../../data/Y2018M11D29_RH_Hybas6_U_GADM36L01_GPD_PP_Merge_V01/input_V01/gdf_union_358.pkl\n",
      "download: s3://wri-projects/Aqueduct30/processData/Y2018M11D29_RH_Hybas6_U_GADM36L01_GPD_PP_V01/output_V04/gdf_union_355.pkl to ../../../../data/Y2018M11D29_RH_Hybas6_U_GADM36L01_GPD_PP_Merge_V01/input_V01/gdf_union_355.pkl\n",
      "download: s3://wri-projects/Aqueduct30/processData/Y2018M11D29_RH_Hybas6_U_GADM36L01_GPD_PP_V01/output_V04/gdf_union_334.pkl to ../../../../data/Y2018M11D29_RH_Hybas6_U_GADM36L01_GPD_PP_Merge_V01/input_V01/gdf_union_334.pkl\n",
      "download: s3://wri-projects/Aqueduct30/processData/Y2018M11D29_RH_Hybas6_U_GADM36L01_GPD_PP_V01/output_V04/gdf_union_351.pkl to ../../../../data/Y2018M11D29_RH_Hybas6_U_GADM36L01_GPD_PP_Merge_V01/input_V01/gdf_union_351.pkl\n",
      "download: s3://wri-projects/Aqueduct30/processData/Y2018M11D29_RH_Hybas6_U_GADM36L01_GPD_PP_V01/output_V04/gdf_union_356.pkl to ../../../../data/Y2018M11D29_RH_Hybas6_U_GADM36L01_GPD_PP_Merge_V01/input_V01/gdf_union_356.pkl\n",
      "download: s3://wri-projects/Aqueduct30/processData/Y2018M11D29_RH_Hybas6_U_GADM36L01_GPD_PP_V01/output_V04/gdf_union_360.pkl to ../../../../data/Y2018M11D29_RH_Hybas6_U_GADM36L01_GPD_PP_Merge_V01/input_V01/gdf_union_360.pkl\n",
      "download: s3://wri-projects/Aqueduct30/processData/Y2018M11D29_RH_Hybas6_U_GADM36L01_GPD_PP_V01/output_V04/gdf_union_364.pkl to ../../../../data/Y2018M11D29_RH_Hybas6_U_GADM36L01_GPD_PP_Merge_V01/input_V01/gdf_union_364.pkl\n",
      "download: s3://wri-projects/Aqueduct30/processData/Y2018M11D29_RH_Hybas6_U_GADM36L01_GPD_PP_V01/output_V04/gdf_union_353.pkl to ../../../../data/Y2018M11D29_RH_Hybas6_U_GADM36L01_GPD_PP_Merge_V01/input_V01/gdf_union_353.pkl\n",
      "download: s3://wri-projects/Aqueduct30/processData/Y2018M11D29_RH_Hybas6_U_GADM36L01_GPD_PP_V01/output_V04/gdf_union_365.pkl to ../../../../data/Y2018M11D29_RH_Hybas6_U_GADM36L01_GPD_PP_Merge_V01/input_V01/gdf_union_365.pkl\n",
      "download: s3://wri-projects/Aqueduct30/processData/Y2018M11D29_RH_Hybas6_U_GADM36L01_GPD_PP_V01/output_V04/gdf_union_363.pkl to ../../../../data/Y2018M11D29_RH_Hybas6_U_GADM36L01_GPD_PP_Merge_V01/input_V01/gdf_union_363.pkl\n",
      "download: s3://wri-projects/Aqueduct30/processData/Y2018M11D29_RH_Hybas6_U_GADM36L01_GPD_PP_V01/output_V04/gdf_union_36.pkl to ../../../../data/Y2018M11D29_RH_Hybas6_U_GADM36L01_GPD_PP_Merge_V01/input_V01/gdf_union_36.pkl\n",
      "download: s3://wri-projects/Aqueduct30/processData/Y2018M11D29_RH_Hybas6_U_GADM36L01_GPD_PP_V01/output_V04/gdf_union_367.pkl to ../../../../data/Y2018M11D29_RH_Hybas6_U_GADM36L01_GPD_PP_Merge_V01/input_V01/gdf_union_367.pkl\n",
      "download: s3://wri-projects/Aqueduct30/processData/Y2018M11D29_RH_Hybas6_U_GADM36L01_GPD_PP_V01/output_V04/gdf_union_354.pkl to ../../../../data/Y2018M11D29_RH_Hybas6_U_GADM36L01_GPD_PP_Merge_V01/input_V01/gdf_union_354.pkl\n",
      "download: s3://wri-projects/Aqueduct30/processData/Y2018M11D29_RH_Hybas6_U_GADM36L01_GPD_PP_V01/output_V04/gdf_union_37.pkl to ../../../../data/Y2018M11D29_RH_Hybas6_U_GADM36L01_GPD_PP_Merge_V01/input_V01/gdf_union_37.pkl\n",
      "download: s3://wri-projects/Aqueduct30/processData/Y2018M11D29_RH_Hybas6_U_GADM36L01_GPD_PP_V01/output_V04/gdf_union_366.pkl to ../../../../data/Y2018M11D29_RH_Hybas6_U_GADM36L01_GPD_PP_Merge_V01/input_V01/gdf_union_366.pkl\n",
      "download: s3://wri-projects/Aqueduct30/processData/Y2018M11D29_RH_Hybas6_U_GADM36L01_GPD_PP_V01/output_V04/gdf_union_373.pkl to ../../../../data/Y2018M11D29_RH_Hybas6_U_GADM36L01_GPD_PP_Merge_V01/input_V01/gdf_union_373.pkl\n",
      "download: s3://wri-projects/Aqueduct30/processData/Y2018M11D29_RH_Hybas6_U_GADM36L01_GPD_PP_V01/output_V04/gdf_union_372.pkl to ../../../../data/Y2018M11D29_RH_Hybas6_U_GADM36L01_GPD_PP_Merge_V01/input_V01/gdf_union_372.pkl\n",
      "download: s3://wri-projects/Aqueduct30/processData/Y2018M11D29_RH_Hybas6_U_GADM36L01_GPD_PP_V01/output_V04/gdf_union_368.pkl to ../../../../data/Y2018M11D29_RH_Hybas6_U_GADM36L01_GPD_PP_Merge_V01/input_V01/gdf_union_368.pkl\n",
      "download: s3://wri-projects/Aqueduct30/processData/Y2018M11D29_RH_Hybas6_U_GADM36L01_GPD_PP_V01/output_V04/gdf_union_374.pkl to ../../../../data/Y2018M11D29_RH_Hybas6_U_GADM36L01_GPD_PP_Merge_V01/input_V01/gdf_union_374.pkl\n",
      "download: s3://wri-projects/Aqueduct30/processData/Y2018M11D29_RH_Hybas6_U_GADM36L01_GPD_PP_V01/output_V04/gdf_union_377.pkl to ../../../../data/Y2018M11D29_RH_Hybas6_U_GADM36L01_GPD_PP_Merge_V01/input_V01/gdf_union_377.pkl\n",
      "download: s3://wri-projects/Aqueduct30/processData/Y2018M11D29_RH_Hybas6_U_GADM36L01_GPD_PP_V01/output_V04/gdf_union_379.pkl to ../../../../data/Y2018M11D29_RH_Hybas6_U_GADM36L01_GPD_PP_Merge_V01/input_V01/gdf_union_379.pkl\n",
      "download: s3://wri-projects/Aqueduct30/processData/Y2018M11D29_RH_Hybas6_U_GADM36L01_GPD_PP_V01/output_V04/gdf_union_378.pkl to ../../../../data/Y2018M11D29_RH_Hybas6_U_GADM36L01_GPD_PP_Merge_V01/input_V01/gdf_union_378.pkl\n",
      "download: s3://wri-projects/Aqueduct30/processData/Y2018M11D29_RH_Hybas6_U_GADM36L01_GPD_PP_V01/output_V04/gdf_union_38.pkl to ../../../../data/Y2018M11D29_RH_Hybas6_U_GADM36L01_GPD_PP_Merge_V01/input_V01/gdf_union_38.pkl\n",
      "download: s3://wri-projects/Aqueduct30/processData/Y2018M11D29_RH_Hybas6_U_GADM36L01_GPD_PP_V01/output_V04/gdf_union_352.pkl to ../../../../data/Y2018M11D29_RH_Hybas6_U_GADM36L01_GPD_PP_Merge_V01/input_V01/gdf_union_352.pkl\n"
     ]
    },
    {
     "name": "stdout",
     "output_type": "stream",
     "text": [
      "download: s3://wri-projects/Aqueduct30/processData/Y2018M11D29_RH_Hybas6_U_GADM36L01_GPD_PP_V01/output_V04/gdf_union_384.pkl to ../../../../data/Y2018M11D29_RH_Hybas6_U_GADM36L01_GPD_PP_Merge_V01/input_V01/gdf_union_384.pkl\n",
      "download: s3://wri-projects/Aqueduct30/processData/Y2018M11D29_RH_Hybas6_U_GADM36L01_GPD_PP_V01/output_V04/gdf_union_369.pkl to ../../../../data/Y2018M11D29_RH_Hybas6_U_GADM36L01_GPD_PP_Merge_V01/input_V01/gdf_union_369.pkl\n",
      "download: s3://wri-projects/Aqueduct30/processData/Y2018M11D29_RH_Hybas6_U_GADM36L01_GPD_PP_V01/output_V04/gdf_union_383.pkl to ../../../../data/Y2018M11D29_RH_Hybas6_U_GADM36L01_GPD_PP_Merge_V01/input_V01/gdf_union_383.pkl\n",
      "download: s3://wri-projects/Aqueduct30/processData/Y2018M11D29_RH_Hybas6_U_GADM36L01_GPD_PP_V01/output_V04/gdf_union_370.pkl to ../../../../data/Y2018M11D29_RH_Hybas6_U_GADM36L01_GPD_PP_Merge_V01/input_V01/gdf_union_370.pkl\n",
      "download: s3://wri-projects/Aqueduct30/processData/Y2018M11D29_RH_Hybas6_U_GADM36L01_GPD_PP_V01/output_V04/gdf_union_386.pkl to ../../../../data/Y2018M11D29_RH_Hybas6_U_GADM36L01_GPD_PP_Merge_V01/input_V01/gdf_union_386.pkl\n",
      "download: s3://wri-projects/Aqueduct30/processData/Y2018M11D29_RH_Hybas6_U_GADM36L01_GPD_PP_V01/output_V04/gdf_union_381.pkl to ../../../../data/Y2018M11D29_RH_Hybas6_U_GADM36L01_GPD_PP_Merge_V01/input_V01/gdf_union_381.pkl\n",
      "download: s3://wri-projects/Aqueduct30/processData/Y2018M11D29_RH_Hybas6_U_GADM36L01_GPD_PP_V01/output_V04/gdf_union_376.pkl to ../../../../data/Y2018M11D29_RH_Hybas6_U_GADM36L01_GPD_PP_Merge_V01/input_V01/gdf_union_376.pkl\n",
      "download: s3://wri-projects/Aqueduct30/processData/Y2018M11D29_RH_Hybas6_U_GADM36L01_GPD_PP_V01/output_V04/gdf_union_371.pkl to ../../../../data/Y2018M11D29_RH_Hybas6_U_GADM36L01_GPD_PP_Merge_V01/input_V01/gdf_union_371.pkl\n",
      "download: s3://wri-projects/Aqueduct30/processData/Y2018M11D29_RH_Hybas6_U_GADM36L01_GPD_PP_V01/output_V04/gdf_union_385.pkl to ../../../../data/Y2018M11D29_RH_Hybas6_U_GADM36L01_GPD_PP_Merge_V01/input_V01/gdf_union_385.pkl\n",
      "download: s3://wri-projects/Aqueduct30/processData/Y2018M11D29_RH_Hybas6_U_GADM36L01_GPD_PP_V01/output_V04/gdf_union_39.pkl to ../../../../data/Y2018M11D29_RH_Hybas6_U_GADM36L01_GPD_PP_Merge_V01/input_V01/gdf_union_39.pkl\n",
      "download: s3://wri-projects/Aqueduct30/processData/Y2018M11D29_RH_Hybas6_U_GADM36L01_GPD_PP_V01/output_V04/gdf_union_391.pkl to ../../../../data/Y2018M11D29_RH_Hybas6_U_GADM36L01_GPD_PP_Merge_V01/input_V01/gdf_union_391.pkl\n",
      "download: s3://wri-projects/Aqueduct30/processData/Y2018M11D29_RH_Hybas6_U_GADM36L01_GPD_PP_V01/output_V04/gdf_union_389.pkl to ../../../../data/Y2018M11D29_RH_Hybas6_U_GADM36L01_GPD_PP_Merge_V01/input_V01/gdf_union_389.pkl\n",
      "download: s3://wri-projects/Aqueduct30/processData/Y2018M11D29_RH_Hybas6_U_GADM36L01_GPD_PP_V01/output_V04/gdf_union_392.pkl to ../../../../data/Y2018M11D29_RH_Hybas6_U_GADM36L01_GPD_PP_Merge_V01/input_V01/gdf_union_392.pkl\n",
      "download: s3://wri-projects/Aqueduct30/processData/Y2018M11D29_RH_Hybas6_U_GADM36L01_GPD_PP_V01/output_V04/gdf_union_382.pkl to ../../../../data/Y2018M11D29_RH_Hybas6_U_GADM36L01_GPD_PP_Merge_V01/input_V01/gdf_union_382.pkl\n",
      "download: s3://wri-projects/Aqueduct30/processData/Y2018M11D29_RH_Hybas6_U_GADM36L01_GPD_PP_V01/output_V04/gdf_union_393.pkl to ../../../../data/Y2018M11D29_RH_Hybas6_U_GADM36L01_GPD_PP_Merge_V01/input_V01/gdf_union_393.pkl\n",
      "download: s3://wri-projects/Aqueduct30/processData/Y2018M11D29_RH_Hybas6_U_GADM36L01_GPD_PP_V01/output_V04/gdf_union_394.pkl to ../../../../data/Y2018M11D29_RH_Hybas6_U_GADM36L01_GPD_PP_Merge_V01/input_V01/gdf_union_394.pkl\n",
      "download: s3://wri-projects/Aqueduct30/processData/Y2018M11D29_RH_Hybas6_U_GADM36L01_GPD_PP_V01/output_V04/gdf_union_4.pkl to ../../../../data/Y2018M11D29_RH_Hybas6_U_GADM36L01_GPD_PP_Merge_V01/input_V01/gdf_union_4.pkl\n",
      "download: s3://wri-projects/Aqueduct30/processData/Y2018M11D29_RH_Hybas6_U_GADM36L01_GPD_PP_V01/output_V04/gdf_union_40.pkl to ../../../../data/Y2018M11D29_RH_Hybas6_U_GADM36L01_GPD_PP_Merge_V01/input_V01/gdf_union_40.pkl\n",
      "download: s3://wri-projects/Aqueduct30/processData/Y2018M11D29_RH_Hybas6_U_GADM36L01_GPD_PP_V01/output_V04/gdf_union_399.pkl to ../../../../data/Y2018M11D29_RH_Hybas6_U_GADM36L01_GPD_PP_Merge_V01/input_V01/gdf_union_399.pkl\n",
      "download: s3://wri-projects/Aqueduct30/processData/Y2018M11D29_RH_Hybas6_U_GADM36L01_GPD_PP_V01/output_V04/gdf_union_400.pkl to ../../../../data/Y2018M11D29_RH_Hybas6_U_GADM36L01_GPD_PP_Merge_V01/input_V01/gdf_union_400.pkl\n",
      "download: s3://wri-projects/Aqueduct30/processData/Y2018M11D29_RH_Hybas6_U_GADM36L01_GPD_PP_V01/output_V04/gdf_union_387.pkl to ../../../../data/Y2018M11D29_RH_Hybas6_U_GADM36L01_GPD_PP_Merge_V01/input_V01/gdf_union_387.pkl\n",
      "download: s3://wri-projects/Aqueduct30/processData/Y2018M11D29_RH_Hybas6_U_GADM36L01_GPD_PP_V01/output_V04/gdf_union_401.pkl to ../../../../data/Y2018M11D29_RH_Hybas6_U_GADM36L01_GPD_PP_Merge_V01/input_V01/gdf_union_401.pkl\n",
      "download: s3://wri-projects/Aqueduct30/processData/Y2018M11D29_RH_Hybas6_U_GADM36L01_GPD_PP_V01/output_V04/gdf_union_388.pkl to ../../../../data/Y2018M11D29_RH_Hybas6_U_GADM36L01_GPD_PP_Merge_V01/input_V01/gdf_union_388.pkl\n",
      "download: s3://wri-projects/Aqueduct30/processData/Y2018M11D29_RH_Hybas6_U_GADM36L01_GPD_PP_V01/output_V04/gdf_union_407.pkl to ../../../../data/Y2018M11D29_RH_Hybas6_U_GADM36L01_GPD_PP_Merge_V01/input_V01/gdf_union_407.pkl\n",
      "download: s3://wri-projects/Aqueduct30/processData/Y2018M11D29_RH_Hybas6_U_GADM36L01_GPD_PP_V01/output_V04/gdf_union_408.pkl to ../../../../data/Y2018M11D29_RH_Hybas6_U_GADM36L01_GPD_PP_Merge_V01/input_V01/gdf_union_408.pkl\n",
      "download: s3://wri-projects/Aqueduct30/processData/Y2018M11D29_RH_Hybas6_U_GADM36L01_GPD_PP_V01/output_V04/gdf_union_41.pkl to ../../../../data/Y2018M11D29_RH_Hybas6_U_GADM36L01_GPD_PP_Merge_V01/input_V01/gdf_union_41.pkl\n",
      "download: s3://wri-projects/Aqueduct30/processData/Y2018M11D29_RH_Hybas6_U_GADM36L01_GPD_PP_V01/output_V04/gdf_union_409.pkl to ../../../../data/Y2018M11D29_RH_Hybas6_U_GADM36L01_GPD_PP_Merge_V01/input_V01/gdf_union_409.pkl\n",
      "download: s3://wri-projects/Aqueduct30/processData/Y2018M11D29_RH_Hybas6_U_GADM36L01_GPD_PP_V01/output_V04/gdf_union_390.pkl to ../../../../data/Y2018M11D29_RH_Hybas6_U_GADM36L01_GPD_PP_Merge_V01/input_V01/gdf_union_390.pkl\n",
      "download: s3://wri-projects/Aqueduct30/processData/Y2018M11D29_RH_Hybas6_U_GADM36L01_GPD_PP_V01/output_V04/gdf_union_410.pkl to ../../../../data/Y2018M11D29_RH_Hybas6_U_GADM36L01_GPD_PP_Merge_V01/input_V01/gdf_union_410.pkl\n",
      "download: s3://wri-projects/Aqueduct30/processData/Y2018M11D29_RH_Hybas6_U_GADM36L01_GPD_PP_V01/output_V04/gdf_union_411.pkl to ../../../../data/Y2018M11D29_RH_Hybas6_U_GADM36L01_GPD_PP_Merge_V01/input_V01/gdf_union_411.pkl\n",
      "download: s3://wri-projects/Aqueduct30/processData/Y2018M11D29_RH_Hybas6_U_GADM36L01_GPD_PP_V01/output_V04/gdf_union_413.pkl to ../../../../data/Y2018M11D29_RH_Hybas6_U_GADM36L01_GPD_PP_Merge_V01/input_V01/gdf_union_413.pkl\n",
      "download: s3://wri-projects/Aqueduct30/processData/Y2018M11D29_RH_Hybas6_U_GADM36L01_GPD_PP_V01/output_V04/gdf_union_414.pkl to ../../../../data/Y2018M11D29_RH_Hybas6_U_GADM36L01_GPD_PP_Merge_V01/input_V01/gdf_union_414.pkl\n",
      "download: s3://wri-projects/Aqueduct30/processData/Y2018M11D29_RH_Hybas6_U_GADM36L01_GPD_PP_V01/output_V04/gdf_union_412.pkl to ../../../../data/Y2018M11D29_RH_Hybas6_U_GADM36L01_GPD_PP_Merge_V01/input_V01/gdf_union_412.pkl\n",
      "download: s3://wri-projects/Aqueduct30/processData/Y2018M11D29_RH_Hybas6_U_GADM36L01_GPD_PP_V01/output_V04/gdf_union_405.pkl to ../../../../data/Y2018M11D29_RH_Hybas6_U_GADM36L01_GPD_PP_Merge_V01/input_V01/gdf_union_405.pkl\n",
      "download: s3://wri-projects/Aqueduct30/processData/Y2018M11D29_RH_Hybas6_U_GADM36L01_GPD_PP_V01/output_V04/gdf_union_415.pkl to ../../../../data/Y2018M11D29_RH_Hybas6_U_GADM36L01_GPD_PP_Merge_V01/input_V01/gdf_union_415.pkl\n",
      "download: s3://wri-projects/Aqueduct30/processData/Y2018M11D29_RH_Hybas6_U_GADM36L01_GPD_PP_V01/output_V04/gdf_union_404.pkl to ../../../../data/Y2018M11D29_RH_Hybas6_U_GADM36L01_GPD_PP_Merge_V01/input_V01/gdf_union_404.pkl\n",
      "download: s3://wri-projects/Aqueduct30/processData/Y2018M11D29_RH_Hybas6_U_GADM36L01_GPD_PP_V01/output_V04/gdf_union_42.pkl to ../../../../data/Y2018M11D29_RH_Hybas6_U_GADM36L01_GPD_PP_Merge_V01/input_V01/gdf_union_42.pkl\n"
     ]
    },
    {
     "name": "stdout",
     "output_type": "stream",
     "text": [
      "download: s3://wri-projects/Aqueduct30/processData/Y2018M11D29_RH_Hybas6_U_GADM36L01_GPD_PP_V01/output_V04/gdf_union_406.pkl to ../../../../data/Y2018M11D29_RH_Hybas6_U_GADM36L01_GPD_PP_Merge_V01/input_V01/gdf_union_406.pkl\n",
      "download: s3://wri-projects/Aqueduct30/processData/Y2018M11D29_RH_Hybas6_U_GADM36L01_GPD_PP_V01/output_V04/gdf_union_427.pkl to ../../../../data/Y2018M11D29_RH_Hybas6_U_GADM36L01_GPD_PP_Merge_V01/input_V01/gdf_union_427.pkl\n",
      "download: s3://wri-projects/Aqueduct30/processData/Y2018M11D29_RH_Hybas6_U_GADM36L01_GPD_PP_V01/output_V04/gdf_union_428.pkl to ../../../../data/Y2018M11D29_RH_Hybas6_U_GADM36L01_GPD_PP_Merge_V01/input_V01/gdf_union_428.pkl\n",
      "download: s3://wri-projects/Aqueduct30/processData/Y2018M11D29_RH_Hybas6_U_GADM36L01_GPD_PP_V01/output_V04/gdf_union_432.pkl to ../../../../data/Y2018M11D29_RH_Hybas6_U_GADM36L01_GPD_PP_Merge_V01/input_V01/gdf_union_432.pkl\n",
      "download: s3://wri-projects/Aqueduct30/processData/Y2018M11D29_RH_Hybas6_U_GADM36L01_GPD_PP_V01/output_V04/gdf_union_430.pkl to ../../../../data/Y2018M11D29_RH_Hybas6_U_GADM36L01_GPD_PP_Merge_V01/input_V01/gdf_union_430.pkl\n",
      "download: s3://wri-projects/Aqueduct30/processData/Y2018M11D29_RH_Hybas6_U_GADM36L01_GPD_PP_V01/output_V04/gdf_union_429.pkl to ../../../../data/Y2018M11D29_RH_Hybas6_U_GADM36L01_GPD_PP_Merge_V01/input_V01/gdf_union_429.pkl\n",
      "download: s3://wri-projects/Aqueduct30/processData/Y2018M11D29_RH_Hybas6_U_GADM36L01_GPD_PP_V01/output_V04/gdf_union_43.pkl to ../../../../data/Y2018M11D29_RH_Hybas6_U_GADM36L01_GPD_PP_Merge_V01/input_V01/gdf_union_43.pkl\n",
      "download: s3://wri-projects/Aqueduct30/processData/Y2018M11D29_RH_Hybas6_U_GADM36L01_GPD_PP_V01/output_V04/gdf_union_418.pkl to ../../../../data/Y2018M11D29_RH_Hybas6_U_GADM36L01_GPD_PP_Merge_V01/input_V01/gdf_union_418.pkl\n",
      "download: s3://wri-projects/Aqueduct30/processData/Y2018M11D29_RH_Hybas6_U_GADM36L01_GPD_PP_V01/output_V04/gdf_union_419.pkl to ../../../../data/Y2018M11D29_RH_Hybas6_U_GADM36L01_GPD_PP_Merge_V01/input_V01/gdf_union_419.pkl\n",
      "download: s3://wri-projects/Aqueduct30/processData/Y2018M11D29_RH_Hybas6_U_GADM36L01_GPD_PP_V01/output_V04/gdf_union_434.pkl to ../../../../data/Y2018M11D29_RH_Hybas6_U_GADM36L01_GPD_PP_Merge_V01/input_V01/gdf_union_434.pkl\n",
      "download: s3://wri-projects/Aqueduct30/processData/Y2018M11D29_RH_Hybas6_U_GADM36L01_GPD_PP_V01/output_V04/gdf_union_433.pkl to ../../../../data/Y2018M11D29_RH_Hybas6_U_GADM36L01_GPD_PP_Merge_V01/input_V01/gdf_union_433.pkl\n",
      "download: s3://wri-projects/Aqueduct30/processData/Y2018M11D29_RH_Hybas6_U_GADM36L01_GPD_PP_V01/output_V04/gdf_union_436.pkl to ../../../../data/Y2018M11D29_RH_Hybas6_U_GADM36L01_GPD_PP_Merge_V01/input_V01/gdf_union_436.pkl\n",
      "download: s3://wri-projects/Aqueduct30/processData/Y2018M11D29_RH_Hybas6_U_GADM36L01_GPD_PP_V01/output_V04/gdf_union_435.pkl to ../../../../data/Y2018M11D29_RH_Hybas6_U_GADM36L01_GPD_PP_Merge_V01/input_V01/gdf_union_435.pkl\n",
      "download: s3://wri-projects/Aqueduct30/processData/Y2018M11D29_RH_Hybas6_U_GADM36L01_GPD_PP_V01/output_V04/gdf_union_421.pkl to ../../../../data/Y2018M11D29_RH_Hybas6_U_GADM36L01_GPD_PP_Merge_V01/input_V01/gdf_union_421.pkl\n",
      "download: s3://wri-projects/Aqueduct30/processData/Y2018M11D29_RH_Hybas6_U_GADM36L01_GPD_PP_V01/output_V04/gdf_union_431.pkl to ../../../../data/Y2018M11D29_RH_Hybas6_U_GADM36L01_GPD_PP_Merge_V01/input_V01/gdf_union_431.pkl\n",
      "download: s3://wri-projects/Aqueduct30/processData/Y2018M11D29_RH_Hybas6_U_GADM36L01_GPD_PP_V01/output_V04/gdf_union_437.pkl to ../../../../data/Y2018M11D29_RH_Hybas6_U_GADM36L01_GPD_PP_Merge_V01/input_V01/gdf_union_437.pkl\n",
      "download: s3://wri-projects/Aqueduct30/processData/Y2018M11D29_RH_Hybas6_U_GADM36L01_GPD_PP_V01/output_V04/gdf_union_420.pkl to ../../../../data/Y2018M11D29_RH_Hybas6_U_GADM36L01_GPD_PP_Merge_V01/input_V01/gdf_union_420.pkl\n",
      "download: s3://wri-projects/Aqueduct30/processData/Y2018M11D29_RH_Hybas6_U_GADM36L01_GPD_PP_V01/output_V04/gdf_union_426.pkl to ../../../../data/Y2018M11D29_RH_Hybas6_U_GADM36L01_GPD_PP_Merge_V01/input_V01/gdf_union_426.pkl\n",
      "download: s3://wri-projects/Aqueduct30/processData/Y2018M11D29_RH_Hybas6_U_GADM36L01_GPD_PP_V01/output_V04/gdf_union_44.pkl to ../../../../data/Y2018M11D29_RH_Hybas6_U_GADM36L01_GPD_PP_Merge_V01/input_V01/gdf_union_44.pkl\n",
      "download: s3://wri-projects/Aqueduct30/processData/Y2018M11D29_RH_Hybas6_U_GADM36L01_GPD_PP_V01/output_V04/gdf_union_422.pkl to ../../../../data/Y2018M11D29_RH_Hybas6_U_GADM36L01_GPD_PP_Merge_V01/input_V01/gdf_union_422.pkl\n",
      "download: s3://wri-projects/Aqueduct30/processData/Y2018M11D29_RH_Hybas6_U_GADM36L01_GPD_PP_V01/output_V04/gdf_union_444.pkl to ../../../../data/Y2018M11D29_RH_Hybas6_U_GADM36L01_GPD_PP_Merge_V01/input_V01/gdf_union_444.pkl\n",
      "download: s3://wri-projects/Aqueduct30/processData/Y2018M11D29_RH_Hybas6_U_GADM36L01_GPD_PP_V01/output_V04/gdf_union_445.pkl to ../../../../data/Y2018M11D29_RH_Hybas6_U_GADM36L01_GPD_PP_Merge_V01/input_V01/gdf_union_445.pkl\n",
      "download: s3://wri-projects/Aqueduct30/processData/Y2018M11D29_RH_Hybas6_U_GADM36L01_GPD_PP_V01/output_V04/gdf_union_440.pkl to ../../../../data/Y2018M11D29_RH_Hybas6_U_GADM36L01_GPD_PP_Merge_V01/input_V01/gdf_union_440.pkl\n",
      "download: s3://wri-projects/Aqueduct30/processData/Y2018M11D29_RH_Hybas6_U_GADM36L01_GPD_PP_V01/output_V04/gdf_union_438.pkl to ../../../../data/Y2018M11D29_RH_Hybas6_U_GADM36L01_GPD_PP_Merge_V01/input_V01/gdf_union_438.pkl\n",
      "download: s3://wri-projects/Aqueduct30/processData/Y2018M11D29_RH_Hybas6_U_GADM36L01_GPD_PP_V01/output_V04/gdf_union_45.pkl to ../../../../data/Y2018M11D29_RH_Hybas6_U_GADM36L01_GPD_PP_Merge_V01/input_V01/gdf_union_45.pkl\n",
      "download: s3://wri-projects/Aqueduct30/processData/Y2018M11D29_RH_Hybas6_U_GADM36L01_GPD_PP_V01/output_V04/gdf_union_448.pkl to ../../../../data/Y2018M11D29_RH_Hybas6_U_GADM36L01_GPD_PP_Merge_V01/input_V01/gdf_union_448.pkl\n",
      "download: s3://wri-projects/Aqueduct30/processData/Y2018M11D29_RH_Hybas6_U_GADM36L01_GPD_PP_V01/output_V04/gdf_union_441.pkl to ../../../../data/Y2018M11D29_RH_Hybas6_U_GADM36L01_GPD_PP_Merge_V01/input_V01/gdf_union_441.pkl\n",
      "download: s3://wri-projects/Aqueduct30/processData/Y2018M11D29_RH_Hybas6_U_GADM36L01_GPD_PP_V01/output_V04/gdf_union_442.pkl to ../../../../data/Y2018M11D29_RH_Hybas6_U_GADM36L01_GPD_PP_Merge_V01/input_V01/gdf_union_442.pkl\n",
      "download: s3://wri-projects/Aqueduct30/processData/Y2018M11D29_RH_Hybas6_U_GADM36L01_GPD_PP_V01/output_V04/gdf_union_458.pkl to ../../../../data/Y2018M11D29_RH_Hybas6_U_GADM36L01_GPD_PP_Merge_V01/input_V01/gdf_union_458.pkl\n",
      "download: s3://wri-projects/Aqueduct30/processData/Y2018M11D29_RH_Hybas6_U_GADM36L01_GPD_PP_V01/output_V04/gdf_union_457.pkl to ../../../../data/Y2018M11D29_RH_Hybas6_U_GADM36L01_GPD_PP_Merge_V01/input_V01/gdf_union_457.pkl\n",
      "download: s3://wri-projects/Aqueduct30/processData/Y2018M11D29_RH_Hybas6_U_GADM36L01_GPD_PP_V01/output_V04/gdf_union_449.pkl to ../../../../data/Y2018M11D29_RH_Hybas6_U_GADM36L01_GPD_PP_Merge_V01/input_V01/gdf_union_449.pkl\n",
      "download: s3://wri-projects/Aqueduct30/processData/Y2018M11D29_RH_Hybas6_U_GADM36L01_GPD_PP_V01/output_V04/gdf_union_451.pkl to ../../../../data/Y2018M11D29_RH_Hybas6_U_GADM36L01_GPD_PP_Merge_V01/input_V01/gdf_union_451.pkl\n",
      "download: s3://wri-projects/Aqueduct30/processData/Y2018M11D29_RH_Hybas6_U_GADM36L01_GPD_PP_V01/output_V04/gdf_union_450.pkl to ../../../../data/Y2018M11D29_RH_Hybas6_U_GADM36L01_GPD_PP_Merge_V01/input_V01/gdf_union_450.pkl\n",
      "download: s3://wri-projects/Aqueduct30/processData/Y2018M11D29_RH_Hybas6_U_GADM36L01_GPD_PP_V01/output_V04/gdf_union_459.pkl to ../../../../data/Y2018M11D29_RH_Hybas6_U_GADM36L01_GPD_PP_Merge_V01/input_V01/gdf_union_459.pkl\n",
      "download: s3://wri-projects/Aqueduct30/processData/Y2018M11D29_RH_Hybas6_U_GADM36L01_GPD_PP_V01/output_V04/gdf_union_46.pkl to ../../../../data/Y2018M11D29_RH_Hybas6_U_GADM36L01_GPD_PP_Merge_V01/input_V01/gdf_union_46.pkl\n",
      "download: s3://wri-projects/Aqueduct30/processData/Y2018M11D29_RH_Hybas6_U_GADM36L01_GPD_PP_V01/output_V04/gdf_union_453.pkl to ../../../../data/Y2018M11D29_RH_Hybas6_U_GADM36L01_GPD_PP_Merge_V01/input_V01/gdf_union_453.pkl\n",
      "download: s3://wri-projects/Aqueduct30/processData/Y2018M11D29_RH_Hybas6_U_GADM36L01_GPD_PP_V01/output_V04/gdf_union_466.pkl to ../../../../data/Y2018M11D29_RH_Hybas6_U_GADM36L01_GPD_PP_Merge_V01/input_V01/gdf_union_466.pkl\n",
      "download: s3://wri-projects/Aqueduct30/processData/Y2018M11D29_RH_Hybas6_U_GADM36L01_GPD_PP_V01/output_V04/gdf_union_465.pkl to ../../../../data/Y2018M11D29_RH_Hybas6_U_GADM36L01_GPD_PP_Merge_V01/input_V01/gdf_union_465.pkl\n"
     ]
    },
    {
     "name": "stdout",
     "output_type": "stream",
     "text": [
      "download: s3://wri-projects/Aqueduct30/processData/Y2018M11D29_RH_Hybas6_U_GADM36L01_GPD_PP_V01/output_V04/gdf_union_467.pkl to ../../../../data/Y2018M11D29_RH_Hybas6_U_GADM36L01_GPD_PP_Merge_V01/input_V01/gdf_union_467.pkl\n",
      "download: s3://wri-projects/Aqueduct30/processData/Y2018M11D29_RH_Hybas6_U_GADM36L01_GPD_PP_V01/output_V04/gdf_union_464.pkl to ../../../../data/Y2018M11D29_RH_Hybas6_U_GADM36L01_GPD_PP_Merge_V01/input_V01/gdf_union_464.pkl\n",
      "download: s3://wri-projects/Aqueduct30/processData/Y2018M11D29_RH_Hybas6_U_GADM36L01_GPD_PP_V01/output_V04/gdf_union_452.pkl to ../../../../data/Y2018M11D29_RH_Hybas6_U_GADM36L01_GPD_PP_Merge_V01/input_V01/gdf_union_452.pkl\n",
      "download: s3://wri-projects/Aqueduct30/processData/Y2018M11D29_RH_Hybas6_U_GADM36L01_GPD_PP_V01/output_V04/gdf_union_468.pkl to ../../../../data/Y2018M11D29_RH_Hybas6_U_GADM36L01_GPD_PP_Merge_V01/input_V01/gdf_union_468.pkl\n",
      "download: s3://wri-projects/Aqueduct30/processData/Y2018M11D29_RH_Hybas6_U_GADM36L01_GPD_PP_V01/output_V04/gdf_union_47.pkl to ../../../../data/Y2018M11D29_RH_Hybas6_U_GADM36L01_GPD_PP_Merge_V01/input_V01/gdf_union_47.pkl\n",
      "download: s3://wri-projects/Aqueduct30/processData/Y2018M11D29_RH_Hybas6_U_GADM36L01_GPD_PP_V01/output_V04/gdf_union_469.pkl to ../../../../data/Y2018M11D29_RH_Hybas6_U_GADM36L01_GPD_PP_Merge_V01/input_V01/gdf_union_469.pkl\n",
      "download: s3://wri-projects/Aqueduct30/processData/Y2018M11D29_RH_Hybas6_U_GADM36L01_GPD_PP_V01/output_V04/gdf_union_470.pkl to ../../../../data/Y2018M11D29_RH_Hybas6_U_GADM36L01_GPD_PP_Merge_V01/input_V01/gdf_union_470.pkl\n",
      "download: s3://wri-projects/Aqueduct30/processData/Y2018M11D29_RH_Hybas6_U_GADM36L01_GPD_PP_V01/output_V04/gdf_union_460.pkl to ../../../../data/Y2018M11D29_RH_Hybas6_U_GADM36L01_GPD_PP_Merge_V01/input_V01/gdf_union_460.pkl\n",
      "download: s3://wri-projects/Aqueduct30/processData/Y2018M11D29_RH_Hybas6_U_GADM36L01_GPD_PP_V01/output_V04/gdf_union_471.pkl to ../../../../data/Y2018M11D29_RH_Hybas6_U_GADM36L01_GPD_PP_Merge_V01/input_V01/gdf_union_471.pkl\n",
      "download: s3://wri-projects/Aqueduct30/processData/Y2018M11D29_RH_Hybas6_U_GADM36L01_GPD_PP_V01/output_V04/gdf_union_472.pkl to ../../../../data/Y2018M11D29_RH_Hybas6_U_GADM36L01_GPD_PP_Merge_V01/input_V01/gdf_union_472.pkl\n",
      "download: s3://wri-projects/Aqueduct30/processData/Y2018M11D29_RH_Hybas6_U_GADM36L01_GPD_PP_V01/output_V04/gdf_union_474.pkl to ../../../../data/Y2018M11D29_RH_Hybas6_U_GADM36L01_GPD_PP_Merge_V01/input_V01/gdf_union_474.pkl\n",
      "download: s3://wri-projects/Aqueduct30/processData/Y2018M11D29_RH_Hybas6_U_GADM36L01_GPD_PP_V01/output_V04/gdf_union_476.pkl to ../../../../data/Y2018M11D29_RH_Hybas6_U_GADM36L01_GPD_PP_Merge_V01/input_V01/gdf_union_476.pkl\n",
      "download: s3://wri-projects/Aqueduct30/processData/Y2018M11D29_RH_Hybas6_U_GADM36L01_GPD_PP_V01/output_V04/gdf_union_477.pkl to ../../../../data/Y2018M11D29_RH_Hybas6_U_GADM36L01_GPD_PP_Merge_V01/input_V01/gdf_union_477.pkl\n",
      "download: s3://wri-projects/Aqueduct30/processData/Y2018M11D29_RH_Hybas6_U_GADM36L01_GPD_PP_V01/output_V04/gdf_union_48.pkl to ../../../../data/Y2018M11D29_RH_Hybas6_U_GADM36L01_GPD_PP_Merge_V01/input_V01/gdf_union_48.pkl\n",
      "download: s3://wri-projects/Aqueduct30/processData/Y2018M11D29_RH_Hybas6_U_GADM36L01_GPD_PP_V01/output_V04/gdf_union_481.pkl to ../../../../data/Y2018M11D29_RH_Hybas6_U_GADM36L01_GPD_PP_Merge_V01/input_V01/gdf_union_481.pkl\n",
      "download: s3://wri-projects/Aqueduct30/processData/Y2018M11D29_RH_Hybas6_U_GADM36L01_GPD_PP_V01/output_V04/gdf_union_482.pkl to ../../../../data/Y2018M11D29_RH_Hybas6_U_GADM36L01_GPD_PP_Merge_V01/input_V01/gdf_union_482.pkl\n",
      "download: s3://wri-projects/Aqueduct30/processData/Y2018M11D29_RH_Hybas6_U_GADM36L01_GPD_PP_V01/output_V04/gdf_union_483.pkl to ../../../../data/Y2018M11D29_RH_Hybas6_U_GADM36L01_GPD_PP_Merge_V01/input_V01/gdf_union_483.pkl\n",
      "download: s3://wri-projects/Aqueduct30/processData/Y2018M11D29_RH_Hybas6_U_GADM36L01_GPD_PP_V01/output_V04/gdf_union_484.pkl to ../../../../data/Y2018M11D29_RH_Hybas6_U_GADM36L01_GPD_PP_Merge_V01/input_V01/gdf_union_484.pkl\n",
      "download: s3://wri-projects/Aqueduct30/processData/Y2018M11D29_RH_Hybas6_U_GADM36L01_GPD_PP_V01/output_V04/gdf_union_463.pkl to ../../../../data/Y2018M11D29_RH_Hybas6_U_GADM36L01_GPD_PP_Merge_V01/input_V01/gdf_union_463.pkl\n",
      "download: s3://wri-projects/Aqueduct30/processData/Y2018M11D29_RH_Hybas6_U_GADM36L01_GPD_PP_V01/output_V04/gdf_union_478.pkl to ../../../../data/Y2018M11D29_RH_Hybas6_U_GADM36L01_GPD_PP_Merge_V01/input_V01/gdf_union_478.pkl\n",
      "download: s3://wri-projects/Aqueduct30/processData/Y2018M11D29_RH_Hybas6_U_GADM36L01_GPD_PP_V01/output_V04/gdf_union_473.pkl to ../../../../data/Y2018M11D29_RH_Hybas6_U_GADM36L01_GPD_PP_Merge_V01/input_V01/gdf_union_473.pkl\n",
      "download: s3://wri-projects/Aqueduct30/processData/Y2018M11D29_RH_Hybas6_U_GADM36L01_GPD_PP_V01/output_V04/gdf_union_479.pkl to ../../../../data/Y2018M11D29_RH_Hybas6_U_GADM36L01_GPD_PP_Merge_V01/input_V01/gdf_union_479.pkl\n",
      "download: s3://wri-projects/Aqueduct30/processData/Y2018M11D29_RH_Hybas6_U_GADM36L01_GPD_PP_V01/output_V04/gdf_union_49.pkl to ../../../../data/Y2018M11D29_RH_Hybas6_U_GADM36L01_GPD_PP_Merge_V01/input_V01/gdf_union_49.pkl\n",
      "download: s3://wri-projects/Aqueduct30/processData/Y2018M11D29_RH_Hybas6_U_GADM36L01_GPD_PP_V01/output_V04/gdf_union_480.pkl to ../../../../data/Y2018M11D29_RH_Hybas6_U_GADM36L01_GPD_PP_Merge_V01/input_V01/gdf_union_480.pkl\n",
      "download: s3://wri-projects/Aqueduct30/processData/Y2018M11D29_RH_Hybas6_U_GADM36L01_GPD_PP_V01/output_V04/gdf_union_491.pkl to ../../../../data/Y2018M11D29_RH_Hybas6_U_GADM36L01_GPD_PP_Merge_V01/input_V01/gdf_union_491.pkl\n",
      "download: s3://wri-projects/Aqueduct30/processData/Y2018M11D29_RH_Hybas6_U_GADM36L01_GPD_PP_V01/output_V04/gdf_union_486.pkl to ../../../../data/Y2018M11D29_RH_Hybas6_U_GADM36L01_GPD_PP_Merge_V01/input_V01/gdf_union_486.pkl\n",
      "download: s3://wri-projects/Aqueduct30/processData/Y2018M11D29_RH_Hybas6_U_GADM36L01_GPD_PP_V01/output_V04/gdf_union_485.pkl to ../../../../data/Y2018M11D29_RH_Hybas6_U_GADM36L01_GPD_PP_Merge_V01/input_V01/gdf_union_485.pkl\n",
      "download: s3://wri-projects/Aqueduct30/processData/Y2018M11D29_RH_Hybas6_U_GADM36L01_GPD_PP_V01/output_V04/gdf_union_494.pkl to ../../../../data/Y2018M11D29_RH_Hybas6_U_GADM36L01_GPD_PP_Merge_V01/input_V01/gdf_union_494.pkl\n",
      "download: s3://wri-projects/Aqueduct30/processData/Y2018M11D29_RH_Hybas6_U_GADM36L01_GPD_PP_V01/output_V04/gdf_union_487.pkl to ../../../../data/Y2018M11D29_RH_Hybas6_U_GADM36L01_GPD_PP_Merge_V01/input_V01/gdf_union_487.pkl\n",
      "download: s3://wri-projects/Aqueduct30/processData/Y2018M11D29_RH_Hybas6_U_GADM36L01_GPD_PP_V01/output_V04/gdf_union_5.pkl to ../../../../data/Y2018M11D29_RH_Hybas6_U_GADM36L01_GPD_PP_Merge_V01/input_V01/gdf_union_5.pkl\n",
      "download: s3://wri-projects/Aqueduct30/processData/Y2018M11D29_RH_Hybas6_U_GADM36L01_GPD_PP_V01/output_V04/gdf_union_493.pkl to ../../../../data/Y2018M11D29_RH_Hybas6_U_GADM36L01_GPD_PP_Merge_V01/input_V01/gdf_union_493.pkl\n",
      "download: s3://wri-projects/Aqueduct30/processData/Y2018M11D29_RH_Hybas6_U_GADM36L01_GPD_PP_V01/output_V04/gdf_union_501.pkl to ../../../../data/Y2018M11D29_RH_Hybas6_U_GADM36L01_GPD_PP_Merge_V01/input_V01/gdf_union_501.pkl\n",
      "download: s3://wri-projects/Aqueduct30/processData/Y2018M11D29_RH_Hybas6_U_GADM36L01_GPD_PP_V01/output_V04/gdf_union_489.pkl to ../../../../data/Y2018M11D29_RH_Hybas6_U_GADM36L01_GPD_PP_Merge_V01/input_V01/gdf_union_489.pkl\n",
      "download: s3://wri-projects/Aqueduct30/processData/Y2018M11D29_RH_Hybas6_U_GADM36L01_GPD_PP_V01/output_V04/gdf_union_496.pkl to ../../../../data/Y2018M11D29_RH_Hybas6_U_GADM36L01_GPD_PP_Merge_V01/input_V01/gdf_union_496.pkl\n",
      "download: s3://wri-projects/Aqueduct30/processData/Y2018M11D29_RH_Hybas6_U_GADM36L01_GPD_PP_V01/output_V04/gdf_union_50.pkl to ../../../../data/Y2018M11D29_RH_Hybas6_U_GADM36L01_GPD_PP_Merge_V01/input_V01/gdf_union_50.pkl\n",
      "download: s3://wri-projects/Aqueduct30/processData/Y2018M11D29_RH_Hybas6_U_GADM36L01_GPD_PP_V01/output_V04/gdf_union_499.pkl to ../../../../data/Y2018M11D29_RH_Hybas6_U_GADM36L01_GPD_PP_Merge_V01/input_V01/gdf_union_499.pkl\n",
      "download: s3://wri-projects/Aqueduct30/processData/Y2018M11D29_RH_Hybas6_U_GADM36L01_GPD_PP_V01/output_V04/gdf_union_488.pkl to ../../../../data/Y2018M11D29_RH_Hybas6_U_GADM36L01_GPD_PP_Merge_V01/input_V01/gdf_union_488.pkl\n",
      "download: s3://wri-projects/Aqueduct30/processData/Y2018M11D29_RH_Hybas6_U_GADM36L01_GPD_PP_V01/output_V04/gdf_union_503.pkl to ../../../../data/Y2018M11D29_RH_Hybas6_U_GADM36L01_GPD_PP_Merge_V01/input_V01/gdf_union_503.pkl\n"
     ]
    },
    {
     "name": "stdout",
     "output_type": "stream",
     "text": [
      "download: s3://wri-projects/Aqueduct30/processData/Y2018M11D29_RH_Hybas6_U_GADM36L01_GPD_PP_V01/output_V04/gdf_union_51.pkl to ../../../../data/Y2018M11D29_RH_Hybas6_U_GADM36L01_GPD_PP_Merge_V01/input_V01/gdf_union_51.pkl\n",
      "download: s3://wri-projects/Aqueduct30/processData/Y2018M11D29_RH_Hybas6_U_GADM36L01_GPD_PP_V01/output_V04/gdf_union_517.pkl to ../../../../data/Y2018M11D29_RH_Hybas6_U_GADM36L01_GPD_PP_Merge_V01/input_V01/gdf_union_517.pkl\n",
      "download: s3://wri-projects/Aqueduct30/processData/Y2018M11D29_RH_Hybas6_U_GADM36L01_GPD_PP_V01/output_V04/gdf_union_519.pkl to ../../../../data/Y2018M11D29_RH_Hybas6_U_GADM36L01_GPD_PP_Merge_V01/input_V01/gdf_union_519.pkl\n",
      "download: s3://wri-projects/Aqueduct30/processData/Y2018M11D29_RH_Hybas6_U_GADM36L01_GPD_PP_V01/output_V04/gdf_union_52.pkl to ../../../../data/Y2018M11D29_RH_Hybas6_U_GADM36L01_GPD_PP_Merge_V01/input_V01/gdf_union_52.pkl\n",
      "download: s3://wri-projects/Aqueduct30/processData/Y2018M11D29_RH_Hybas6_U_GADM36L01_GPD_PP_V01/output_V04/gdf_union_518.pkl to ../../../../data/Y2018M11D29_RH_Hybas6_U_GADM36L01_GPD_PP_Merge_V01/input_V01/gdf_union_518.pkl\n",
      "download: s3://wri-projects/Aqueduct30/processData/Y2018M11D29_RH_Hybas6_U_GADM36L01_GPD_PP_V01/output_V04/gdf_union_513.pkl to ../../../../data/Y2018M11D29_RH_Hybas6_U_GADM36L01_GPD_PP_Merge_V01/input_V01/gdf_union_513.pkl\n",
      "download: s3://wri-projects/Aqueduct30/processData/Y2018M11D29_RH_Hybas6_U_GADM36L01_GPD_PP_V01/output_V04/gdf_union_520.pkl to ../../../../data/Y2018M11D29_RH_Hybas6_U_GADM36L01_GPD_PP_Merge_V01/input_V01/gdf_union_520.pkl\n",
      "download: s3://wri-projects/Aqueduct30/processData/Y2018M11D29_RH_Hybas6_U_GADM36L01_GPD_PP_V01/output_V04/gdf_union_500.pkl to ../../../../data/Y2018M11D29_RH_Hybas6_U_GADM36L01_GPD_PP_Merge_V01/input_V01/gdf_union_500.pkl\n",
      "download: s3://wri-projects/Aqueduct30/processData/Y2018M11D29_RH_Hybas6_U_GADM36L01_GPD_PP_V01/output_V04/gdf_union_526.pkl to ../../../../data/Y2018M11D29_RH_Hybas6_U_GADM36L01_GPD_PP_Merge_V01/input_V01/gdf_union_526.pkl\n",
      "download: s3://wri-projects/Aqueduct30/processData/Y2018M11D29_RH_Hybas6_U_GADM36L01_GPD_PP_V01/output_V04/gdf_union_527.pkl to ../../../../data/Y2018M11D29_RH_Hybas6_U_GADM36L01_GPD_PP_Merge_V01/input_V01/gdf_union_527.pkl\n",
      "download: s3://wri-projects/Aqueduct30/processData/Y2018M11D29_RH_Hybas6_U_GADM36L01_GPD_PP_V01/output_V04/gdf_union_525.pkl to ../../../../data/Y2018M11D29_RH_Hybas6_U_GADM36L01_GPD_PP_Merge_V01/input_V01/gdf_union_525.pkl\n",
      "download: s3://wri-projects/Aqueduct30/processData/Y2018M11D29_RH_Hybas6_U_GADM36L01_GPD_PP_V01/output_V04/gdf_union_528.pkl to ../../../../data/Y2018M11D29_RH_Hybas6_U_GADM36L01_GPD_PP_Merge_V01/input_V01/gdf_union_528.pkl\n",
      "download: s3://wri-projects/Aqueduct30/processData/Y2018M11D29_RH_Hybas6_U_GADM36L01_GPD_PP_V01/output_V04/gdf_union_529.pkl to ../../../../data/Y2018M11D29_RH_Hybas6_U_GADM36L01_GPD_PP_Merge_V01/input_V01/gdf_union_529.pkl\n",
      "download: s3://wri-projects/Aqueduct30/processData/Y2018M11D29_RH_Hybas6_U_GADM36L01_GPD_PP_V01/output_V04/gdf_union_53.pkl to ../../../../data/Y2018M11D29_RH_Hybas6_U_GADM36L01_GPD_PP_Merge_V01/input_V01/gdf_union_53.pkl\n",
      "download: s3://wri-projects/Aqueduct30/processData/Y2018M11D29_RH_Hybas6_U_GADM36L01_GPD_PP_V01/output_V04/gdf_union_502.pkl to ../../../../data/Y2018M11D29_RH_Hybas6_U_GADM36L01_GPD_PP_Merge_V01/input_V01/gdf_union_502.pkl\n",
      "download: s3://wri-projects/Aqueduct30/processData/Y2018M11D29_RH_Hybas6_U_GADM36L01_GPD_PP_V01/output_V04/gdf_union_530.pkl to ../../../../data/Y2018M11D29_RH_Hybas6_U_GADM36L01_GPD_PP_Merge_V01/input_V01/gdf_union_530.pkl\n",
      "download: s3://wri-projects/Aqueduct30/processData/Y2018M11D29_RH_Hybas6_U_GADM36L01_GPD_PP_V01/output_V04/gdf_union_532.pkl to ../../../../data/Y2018M11D29_RH_Hybas6_U_GADM36L01_GPD_PP_Merge_V01/input_V01/gdf_union_532.pkl\n",
      "download: s3://wri-projects/Aqueduct30/processData/Y2018M11D29_RH_Hybas6_U_GADM36L01_GPD_PP_V01/output_V04/gdf_union_516.pkl to ../../../../data/Y2018M11D29_RH_Hybas6_U_GADM36L01_GPD_PP_Merge_V01/input_V01/gdf_union_516.pkl\n",
      "download: s3://wri-projects/Aqueduct30/processData/Y2018M11D29_RH_Hybas6_U_GADM36L01_GPD_PP_V01/output_V04/gdf_union_533.pkl to ../../../../data/Y2018M11D29_RH_Hybas6_U_GADM36L01_GPD_PP_Merge_V01/input_V01/gdf_union_533.pkl\n",
      "download: s3://wri-projects/Aqueduct30/processData/Y2018M11D29_RH_Hybas6_U_GADM36L01_GPD_PP_V01/output_V04/gdf_union_534.pkl to ../../../../data/Y2018M11D29_RH_Hybas6_U_GADM36L01_GPD_PP_Merge_V01/input_V01/gdf_union_534.pkl\n",
      "download: s3://wri-projects/Aqueduct30/processData/Y2018M11D29_RH_Hybas6_U_GADM36L01_GPD_PP_V01/output_V04/gdf_union_54.pkl to ../../../../data/Y2018M11D29_RH_Hybas6_U_GADM36L01_GPD_PP_Merge_V01/input_V01/gdf_union_54.pkl\n",
      "download: s3://wri-projects/Aqueduct30/processData/Y2018M11D29_RH_Hybas6_U_GADM36L01_GPD_PP_V01/output_V04/gdf_union_535.pkl to ../../../../data/Y2018M11D29_RH_Hybas6_U_GADM36L01_GPD_PP_Merge_V01/input_V01/gdf_union_535.pkl\n",
      "download: s3://wri-projects/Aqueduct30/processData/Y2018M11D29_RH_Hybas6_U_GADM36L01_GPD_PP_V01/output_V04/gdf_union_536.pkl to ../../../../data/Y2018M11D29_RH_Hybas6_U_GADM36L01_GPD_PP_Merge_V01/input_V01/gdf_union_536.pkl\n",
      "download: s3://wri-projects/Aqueduct30/processData/Y2018M11D29_RH_Hybas6_U_GADM36L01_GPD_PP_V01/output_V04/gdf_union_537.pkl to ../../../../data/Y2018M11D29_RH_Hybas6_U_GADM36L01_GPD_PP_Merge_V01/input_V01/gdf_union_537.pkl\n",
      "download: s3://wri-projects/Aqueduct30/processData/Y2018M11D29_RH_Hybas6_U_GADM36L01_GPD_PP_V01/output_V04/gdf_union_540.pkl to ../../../../data/Y2018M11D29_RH_Hybas6_U_GADM36L01_GPD_PP_Merge_V01/input_V01/gdf_union_540.pkl\n",
      "download: s3://wri-projects/Aqueduct30/processData/Y2018M11D29_RH_Hybas6_U_GADM36L01_GPD_PP_V01/output_V04/gdf_union_523.pkl to ../../../../data/Y2018M11D29_RH_Hybas6_U_GADM36L01_GPD_PP_Merge_V01/input_V01/gdf_union_523.pkl\n",
      "download: s3://wri-projects/Aqueduct30/processData/Y2018M11D29_RH_Hybas6_U_GADM36L01_GPD_PP_V01/output_V04/gdf_union_542.pkl to ../../../../data/Y2018M11D29_RH_Hybas6_U_GADM36L01_GPD_PP_Merge_V01/input_V01/gdf_union_542.pkl\n",
      "download: s3://wri-projects/Aqueduct30/processData/Y2018M11D29_RH_Hybas6_U_GADM36L01_GPD_PP_V01/output_V04/gdf_union_55.pkl to ../../../../data/Y2018M11D29_RH_Hybas6_U_GADM36L01_GPD_PP_Merge_V01/input_V01/gdf_union_55.pkl\n",
      "download: s3://wri-projects/Aqueduct30/processData/Y2018M11D29_RH_Hybas6_U_GADM36L01_GPD_PP_V01/output_V04/gdf_union_56.pkl to ../../../../data/Y2018M11D29_RH_Hybas6_U_GADM36L01_GPD_PP_Merge_V01/input_V01/gdf_union_56.pkl\n",
      "download: s3://wri-projects/Aqueduct30/processData/Y2018M11D29_RH_Hybas6_U_GADM36L01_GPD_PP_V01/output_V04/gdf_union_556.pkl to ../../../../data/Y2018M11D29_RH_Hybas6_U_GADM36L01_GPD_PP_Merge_V01/input_V01/gdf_union_556.pkl\n",
      "download: s3://wri-projects/Aqueduct30/processData/Y2018M11D29_RH_Hybas6_U_GADM36L01_GPD_PP_V01/output_V04/gdf_union_541.pkl to ../../../../data/Y2018M11D29_RH_Hybas6_U_GADM36L01_GPD_PP_Merge_V01/input_V01/gdf_union_541.pkl\n",
      "download: s3://wri-projects/Aqueduct30/processData/Y2018M11D29_RH_Hybas6_U_GADM36L01_GPD_PP_V01/output_V04/gdf_union_554.pkl to ../../../../data/Y2018M11D29_RH_Hybas6_U_GADM36L01_GPD_PP_Merge_V01/input_V01/gdf_union_554.pkl\n",
      "download: s3://wri-projects/Aqueduct30/processData/Y2018M11D29_RH_Hybas6_U_GADM36L01_GPD_PP_V01/output_V04/gdf_union_562.pkl to ../../../../data/Y2018M11D29_RH_Hybas6_U_GADM36L01_GPD_PP_Merge_V01/input_V01/gdf_union_562.pkl\n",
      "download: s3://wri-projects/Aqueduct30/processData/Y2018M11D29_RH_Hybas6_U_GADM36L01_GPD_PP_V01/output_V04/gdf_union_563.pkl to ../../../../data/Y2018M11D29_RH_Hybas6_U_GADM36L01_GPD_PP_Merge_V01/input_V01/gdf_union_563.pkl\n",
      "download: s3://wri-projects/Aqueduct30/processData/Y2018M11D29_RH_Hybas6_U_GADM36L01_GPD_PP_V01/output_V04/gdf_union_565.pkl to ../../../../data/Y2018M11D29_RH_Hybas6_U_GADM36L01_GPD_PP_Merge_V01/input_V01/gdf_union_565.pkl\n",
      "download: s3://wri-projects/Aqueduct30/processData/Y2018M11D29_RH_Hybas6_U_GADM36L01_GPD_PP_V01/output_V04/gdf_union_57.pkl to ../../../../data/Y2018M11D29_RH_Hybas6_U_GADM36L01_GPD_PP_Merge_V01/input_V01/gdf_union_57.pkl\n",
      "download: s3://wri-projects/Aqueduct30/processData/Y2018M11D29_RH_Hybas6_U_GADM36L01_GPD_PP_V01/output_V04/gdf_union_553.pkl to ../../../../data/Y2018M11D29_RH_Hybas6_U_GADM36L01_GPD_PP_Merge_V01/input_V01/gdf_union_553.pkl\n"
     ]
    },
    {
     "name": "stdout",
     "output_type": "stream",
     "text": [
      "download: s3://wri-projects/Aqueduct30/processData/Y2018M11D29_RH_Hybas6_U_GADM36L01_GPD_PP_V01/output_V04/gdf_union_566.pkl to ../../../../data/Y2018M11D29_RH_Hybas6_U_GADM36L01_GPD_PP_Merge_V01/input_V01/gdf_union_566.pkl\n",
      "download: s3://wri-projects/Aqueduct30/processData/Y2018M11D29_RH_Hybas6_U_GADM36L01_GPD_PP_V01/output_V04/gdf_union_571.pkl to ../../../../data/Y2018M11D29_RH_Hybas6_U_GADM36L01_GPD_PP_Merge_V01/input_V01/gdf_union_571.pkl\n",
      "download: s3://wri-projects/Aqueduct30/processData/Y2018M11D29_RH_Hybas6_U_GADM36L01_GPD_PP_V01/output_V04/gdf_union_569.pkl to ../../../../data/Y2018M11D29_RH_Hybas6_U_GADM36L01_GPD_PP_Merge_V01/input_V01/gdf_union_569.pkl\n",
      "download: s3://wri-projects/Aqueduct30/processData/Y2018M11D29_RH_Hybas6_U_GADM36L01_GPD_PP_V01/output_V04/gdf_union_543.pkl to ../../../../data/Y2018M11D29_RH_Hybas6_U_GADM36L01_GPD_PP_Merge_V01/input_V01/gdf_union_543.pkl\n",
      "download: s3://wri-projects/Aqueduct30/processData/Y2018M11D29_RH_Hybas6_U_GADM36L01_GPD_PP_V01/output_V04/gdf_union_58.pkl to ../../../../data/Y2018M11D29_RH_Hybas6_U_GADM36L01_GPD_PP_Merge_V01/input_V01/gdf_union_58.pkl\n",
      "download: s3://wri-projects/Aqueduct30/processData/Y2018M11D29_RH_Hybas6_U_GADM36L01_GPD_PP_V01/output_V04/gdf_union_578.pkl to ../../../../data/Y2018M11D29_RH_Hybas6_U_GADM36L01_GPD_PP_Merge_V01/input_V01/gdf_union_578.pkl\n",
      "download: s3://wri-projects/Aqueduct30/processData/Y2018M11D29_RH_Hybas6_U_GADM36L01_GPD_PP_V01/output_V04/gdf_union_572.pkl to ../../../../data/Y2018M11D29_RH_Hybas6_U_GADM36L01_GPD_PP_Merge_V01/input_V01/gdf_union_572.pkl\n",
      "download: s3://wri-projects/Aqueduct30/processData/Y2018M11D29_RH_Hybas6_U_GADM36L01_GPD_PP_V01/output_V04/gdf_union_576.pkl to ../../../../data/Y2018M11D29_RH_Hybas6_U_GADM36L01_GPD_PP_Merge_V01/input_V01/gdf_union_576.pkl\n",
      "download: s3://wri-projects/Aqueduct30/processData/Y2018M11D29_RH_Hybas6_U_GADM36L01_GPD_PP_V01/output_V04/gdf_union_59.pkl to ../../../../data/Y2018M11D29_RH_Hybas6_U_GADM36L01_GPD_PP_Merge_V01/input_V01/gdf_union_59.pkl\n",
      "download: s3://wri-projects/Aqueduct30/processData/Y2018M11D29_RH_Hybas6_U_GADM36L01_GPD_PP_V01/output_V04/gdf_union_559.pkl to ../../../../data/Y2018M11D29_RH_Hybas6_U_GADM36L01_GPD_PP_Merge_V01/input_V01/gdf_union_559.pkl\n",
      "download: s3://wri-projects/Aqueduct30/processData/Y2018M11D29_RH_Hybas6_U_GADM36L01_GPD_PP_V01/output_V04/gdf_union_575.pkl to ../../../../data/Y2018M11D29_RH_Hybas6_U_GADM36L01_GPD_PP_Merge_V01/input_V01/gdf_union_575.pkl\n",
      "download: s3://wri-projects/Aqueduct30/processData/Y2018M11D29_RH_Hybas6_U_GADM36L01_GPD_PP_V01/output_V04/gdf_union_589.pkl to ../../../../data/Y2018M11D29_RH_Hybas6_U_GADM36L01_GPD_PP_Merge_V01/input_V01/gdf_union_589.pkl\n",
      "download: s3://wri-projects/Aqueduct30/processData/Y2018M11D29_RH_Hybas6_U_GADM36L01_GPD_PP_V01/output_V04/gdf_union_590.pkl to ../../../../data/Y2018M11D29_RH_Hybas6_U_GADM36L01_GPD_PP_Merge_V01/input_V01/gdf_union_590.pkl\n",
      "download: s3://wri-projects/Aqueduct30/processData/Y2018M11D29_RH_Hybas6_U_GADM36L01_GPD_PP_V01/output_V04/gdf_union_592.pkl to ../../../../data/Y2018M11D29_RH_Hybas6_U_GADM36L01_GPD_PP_Merge_V01/input_V01/gdf_union_592.pkl\n",
      "download: s3://wri-projects/Aqueduct30/processData/Y2018M11D29_RH_Hybas6_U_GADM36L01_GPD_PP_V01/output_V04/gdf_union_594.pkl to ../../../../data/Y2018M11D29_RH_Hybas6_U_GADM36L01_GPD_PP_Merge_V01/input_V01/gdf_union_594.pkl\n",
      "download: s3://wri-projects/Aqueduct30/processData/Y2018M11D29_RH_Hybas6_U_GADM36L01_GPD_PP_V01/output_V04/gdf_union_6.pkl to ../../../../data/Y2018M11D29_RH_Hybas6_U_GADM36L01_GPD_PP_Merge_V01/input_V01/gdf_union_6.pkl\n",
      "download: s3://wri-projects/Aqueduct30/processData/Y2018M11D29_RH_Hybas6_U_GADM36L01_GPD_PP_V01/output_V04/gdf_union_593.pkl to ../../../../data/Y2018M11D29_RH_Hybas6_U_GADM36L01_GPD_PP_Merge_V01/input_V01/gdf_union_593.pkl\n",
      "download: s3://wri-projects/Aqueduct30/processData/Y2018M11D29_RH_Hybas6_U_GADM36L01_GPD_PP_V01/output_V04/gdf_union_60.pkl to ../../../../data/Y2018M11D29_RH_Hybas6_U_GADM36L01_GPD_PP_Merge_V01/input_V01/gdf_union_60.pkl\n",
      "download: s3://wri-projects/Aqueduct30/processData/Y2018M11D29_RH_Hybas6_U_GADM36L01_GPD_PP_V01/output_V04/gdf_union_601.pkl to ../../../../data/Y2018M11D29_RH_Hybas6_U_GADM36L01_GPD_PP_Merge_V01/input_V01/gdf_union_601.pkl\n",
      "download: s3://wri-projects/Aqueduct30/processData/Y2018M11D29_RH_Hybas6_U_GADM36L01_GPD_PP_V01/output_V04/gdf_union_61.pkl to ../../../../data/Y2018M11D29_RH_Hybas6_U_GADM36L01_GPD_PP_Merge_V01/input_V01/gdf_union_61.pkl\n",
      "download: s3://wri-projects/Aqueduct30/processData/Y2018M11D29_RH_Hybas6_U_GADM36L01_GPD_PP_V01/output_V04/gdf_union_605.pkl to ../../../../data/Y2018M11D29_RH_Hybas6_U_GADM36L01_GPD_PP_Merge_V01/input_V01/gdf_union_605.pkl\n",
      "download: s3://wri-projects/Aqueduct30/processData/Y2018M11D29_RH_Hybas6_U_GADM36L01_GPD_PP_V01/output_V04/gdf_union_595.pkl to ../../../../data/Y2018M11D29_RH_Hybas6_U_GADM36L01_GPD_PP_Merge_V01/input_V01/gdf_union_595.pkl\n",
      "download: s3://wri-projects/Aqueduct30/processData/Y2018M11D29_RH_Hybas6_U_GADM36L01_GPD_PP_V01/output_V04/gdf_union_604.pkl to ../../../../data/Y2018M11D29_RH_Hybas6_U_GADM36L01_GPD_PP_Merge_V01/input_V01/gdf_union_604.pkl\n",
      "download: s3://wri-projects/Aqueduct30/processData/Y2018M11D29_RH_Hybas6_U_GADM36L01_GPD_PP_V01/output_V04/gdf_union_608.pkl to ../../../../data/Y2018M11D29_RH_Hybas6_U_GADM36L01_GPD_PP_Merge_V01/input_V01/gdf_union_608.pkl\n",
      "download: s3://wri-projects/Aqueduct30/processData/Y2018M11D29_RH_Hybas6_U_GADM36L01_GPD_PP_V01/output_V04/gdf_union_607.pkl to ../../../../data/Y2018M11D29_RH_Hybas6_U_GADM36L01_GPD_PP_Merge_V01/input_V01/gdf_union_607.pkl\n",
      "download: s3://wri-projects/Aqueduct30/processData/Y2018M11D29_RH_Hybas6_U_GADM36L01_GPD_PP_V01/output_V04/gdf_union_582.pkl to ../../../../data/Y2018M11D29_RH_Hybas6_U_GADM36L01_GPD_PP_Merge_V01/input_V01/gdf_union_582.pkl\n",
      "download: s3://wri-projects/Aqueduct30/processData/Y2018M11D29_RH_Hybas6_U_GADM36L01_GPD_PP_V01/output_V04/gdf_union_611.pkl to ../../../../data/Y2018M11D29_RH_Hybas6_U_GADM36L01_GPD_PP_Merge_V01/input_V01/gdf_union_611.pkl\n",
      "download: s3://wri-projects/Aqueduct30/processData/Y2018M11D29_RH_Hybas6_U_GADM36L01_GPD_PP_V01/output_V04/gdf_union_609.pkl to ../../../../data/Y2018M11D29_RH_Hybas6_U_GADM36L01_GPD_PP_Merge_V01/input_V01/gdf_union_609.pkl\n",
      "download: s3://wri-projects/Aqueduct30/processData/Y2018M11D29_RH_Hybas6_U_GADM36L01_GPD_PP_V01/output_V04/gdf_union_613.pkl to ../../../../data/Y2018M11D29_RH_Hybas6_U_GADM36L01_GPD_PP_Merge_V01/input_V01/gdf_union_613.pkl\n",
      "download: s3://wri-projects/Aqueduct30/processData/Y2018M11D29_RH_Hybas6_U_GADM36L01_GPD_PP_V01/output_V04/gdf_union_614.pkl to ../../../../data/Y2018M11D29_RH_Hybas6_U_GADM36L01_GPD_PP_Merge_V01/input_V01/gdf_union_614.pkl\n",
      "download: s3://wri-projects/Aqueduct30/processData/Y2018M11D29_RH_Hybas6_U_GADM36L01_GPD_PP_V01/output_V04/gdf_union_602.pkl to ../../../../data/Y2018M11D29_RH_Hybas6_U_GADM36L01_GPD_PP_Merge_V01/input_V01/gdf_union_602.pkl\n",
      "download: s3://wri-projects/Aqueduct30/processData/Y2018M11D29_RH_Hybas6_U_GADM36L01_GPD_PP_V01/output_V04/gdf_union_612.pkl to ../../../../data/Y2018M11D29_RH_Hybas6_U_GADM36L01_GPD_PP_Merge_V01/input_V01/gdf_union_612.pkl\n",
      "download: s3://wri-projects/Aqueduct30/processData/Y2018M11D29_RH_Hybas6_U_GADM36L01_GPD_PP_V01/output_V04/gdf_union_617.pkl to ../../../../data/Y2018M11D29_RH_Hybas6_U_GADM36L01_GPD_PP_Merge_V01/input_V01/gdf_union_617.pkl\n",
      "download: s3://wri-projects/Aqueduct30/processData/Y2018M11D29_RH_Hybas6_U_GADM36L01_GPD_PP_V01/output_V04/gdf_union_615.pkl to ../../../../data/Y2018M11D29_RH_Hybas6_U_GADM36L01_GPD_PP_Merge_V01/input_V01/gdf_union_615.pkl\n",
      "download: s3://wri-projects/Aqueduct30/processData/Y2018M11D29_RH_Hybas6_U_GADM36L01_GPD_PP_V01/output_V04/gdf_union_618.pkl to ../../../../data/Y2018M11D29_RH_Hybas6_U_GADM36L01_GPD_PP_Merge_V01/input_V01/gdf_union_618.pkl\n",
      "download: s3://wri-projects/Aqueduct30/processData/Y2018M11D29_RH_Hybas6_U_GADM36L01_GPD_PP_V01/output_V04/gdf_union_616.pkl to ../../../../data/Y2018M11D29_RH_Hybas6_U_GADM36L01_GPD_PP_Merge_V01/input_V01/gdf_union_616.pkl\n",
      "download: s3://wri-projects/Aqueduct30/processData/Y2018M11D29_RH_Hybas6_U_GADM36L01_GPD_PP_V01/output_V04/gdf_union_606.pkl to ../../../../data/Y2018M11D29_RH_Hybas6_U_GADM36L01_GPD_PP_Merge_V01/input_V01/gdf_union_606.pkl\n",
      "download: s3://wri-projects/Aqueduct30/processData/Y2018M11D29_RH_Hybas6_U_GADM36L01_GPD_PP_V01/output_V04/gdf_union_62.pkl to ../../../../data/Y2018M11D29_RH_Hybas6_U_GADM36L01_GPD_PP_Merge_V01/input_V01/gdf_union_62.pkl\n"
     ]
    },
    {
     "name": "stdout",
     "output_type": "stream",
     "text": [
      "download: s3://wri-projects/Aqueduct30/processData/Y2018M11D29_RH_Hybas6_U_GADM36L01_GPD_PP_V01/output_V04/gdf_union_619.pkl to ../../../../data/Y2018M11D29_RH_Hybas6_U_GADM36L01_GPD_PP_Merge_V01/input_V01/gdf_union_619.pkl\n",
      "download: s3://wri-projects/Aqueduct30/processData/Y2018M11D29_RH_Hybas6_U_GADM36L01_GPD_PP_V01/output_V04/gdf_union_622.pkl to ../../../../data/Y2018M11D29_RH_Hybas6_U_GADM36L01_GPD_PP_Merge_V01/input_V01/gdf_union_622.pkl\n",
      "download: s3://wri-projects/Aqueduct30/processData/Y2018M11D29_RH_Hybas6_U_GADM36L01_GPD_PP_V01/output_V04/gdf_union_623.pkl to ../../../../data/Y2018M11D29_RH_Hybas6_U_GADM36L01_GPD_PP_Merge_V01/input_V01/gdf_union_623.pkl\n",
      "download: s3://wri-projects/Aqueduct30/processData/Y2018M11D29_RH_Hybas6_U_GADM36L01_GPD_PP_V01/output_V04/gdf_union_627.pkl to ../../../../data/Y2018M11D29_RH_Hybas6_U_GADM36L01_GPD_PP_Merge_V01/input_V01/gdf_union_627.pkl\n",
      "download: s3://wri-projects/Aqueduct30/processData/Y2018M11D29_RH_Hybas6_U_GADM36L01_GPD_PP_V01/output_V04/gdf_union_628.pkl to ../../../../data/Y2018M11D29_RH_Hybas6_U_GADM36L01_GPD_PP_Merge_V01/input_V01/gdf_union_628.pkl\n",
      "download: s3://wri-projects/Aqueduct30/processData/Y2018M11D29_RH_Hybas6_U_GADM36L01_GPD_PP_V01/output_V04/gdf_union_626.pkl to ../../../../data/Y2018M11D29_RH_Hybas6_U_GADM36L01_GPD_PP_Merge_V01/input_V01/gdf_union_626.pkl\n",
      "download: s3://wri-projects/Aqueduct30/processData/Y2018M11D29_RH_Hybas6_U_GADM36L01_GPD_PP_V01/output_V04/gdf_union_621.pkl to ../../../../data/Y2018M11D29_RH_Hybas6_U_GADM36L01_GPD_PP_Merge_V01/input_V01/gdf_union_621.pkl\n",
      "download: s3://wri-projects/Aqueduct30/processData/Y2018M11D29_RH_Hybas6_U_GADM36L01_GPD_PP_V01/output_V04/gdf_union_624.pkl to ../../../../data/Y2018M11D29_RH_Hybas6_U_GADM36L01_GPD_PP_Merge_V01/input_V01/gdf_union_624.pkl\n",
      "download: s3://wri-projects/Aqueduct30/processData/Y2018M11D29_RH_Hybas6_U_GADM36L01_GPD_PP_V01/output_V04/gdf_union_63.pkl to ../../../../data/Y2018M11D29_RH_Hybas6_U_GADM36L01_GPD_PP_Merge_V01/input_V01/gdf_union_63.pkl\n",
      "download: s3://wri-projects/Aqueduct30/processData/Y2018M11D29_RH_Hybas6_U_GADM36L01_GPD_PP_V01/output_V04/gdf_union_625.pkl to ../../../../data/Y2018M11D29_RH_Hybas6_U_GADM36L01_GPD_PP_Merge_V01/input_V01/gdf_union_625.pkl\n",
      "download: s3://wri-projects/Aqueduct30/processData/Y2018M11D29_RH_Hybas6_U_GADM36L01_GPD_PP_V01/output_V04/gdf_union_630.pkl to ../../../../data/Y2018M11D29_RH_Hybas6_U_GADM36L01_GPD_PP_Merge_V01/input_V01/gdf_union_630.pkl\n",
      "download: s3://wri-projects/Aqueduct30/processData/Y2018M11D29_RH_Hybas6_U_GADM36L01_GPD_PP_V01/output_V04/gdf_union_633.pkl to ../../../../data/Y2018M11D29_RH_Hybas6_U_GADM36L01_GPD_PP_Merge_V01/input_V01/gdf_union_633.pkl\n",
      "download: s3://wri-projects/Aqueduct30/processData/Y2018M11D29_RH_Hybas6_U_GADM36L01_GPD_PP_V01/output_V04/gdf_union_636.pkl to ../../../../data/Y2018M11D29_RH_Hybas6_U_GADM36L01_GPD_PP_Merge_V01/input_V01/gdf_union_636.pkl\n",
      "download: s3://wri-projects/Aqueduct30/processData/Y2018M11D29_RH_Hybas6_U_GADM36L01_GPD_PP_V01/output_V04/gdf_union_637.pkl to ../../../../data/Y2018M11D29_RH_Hybas6_U_GADM36L01_GPD_PP_Merge_V01/input_V01/gdf_union_637.pkl\n",
      "download: s3://wri-projects/Aqueduct30/processData/Y2018M11D29_RH_Hybas6_U_GADM36L01_GPD_PP_V01/output_V04/gdf_union_631.pkl to ../../../../data/Y2018M11D29_RH_Hybas6_U_GADM36L01_GPD_PP_Merge_V01/input_V01/gdf_union_631.pkl\n",
      "download: s3://wri-projects/Aqueduct30/processData/Y2018M11D29_RH_Hybas6_U_GADM36L01_GPD_PP_V01/output_V04/gdf_union_632.pkl to ../../../../data/Y2018M11D29_RH_Hybas6_U_GADM36L01_GPD_PP_Merge_V01/input_V01/gdf_union_632.pkl\n",
      "download: s3://wri-projects/Aqueduct30/processData/Y2018M11D29_RH_Hybas6_U_GADM36L01_GPD_PP_V01/output_V04/gdf_union_64.pkl to ../../../../data/Y2018M11D29_RH_Hybas6_U_GADM36L01_GPD_PP_Merge_V01/input_V01/gdf_union_64.pkl\n",
      "download: s3://wri-projects/Aqueduct30/processData/Y2018M11D29_RH_Hybas6_U_GADM36L01_GPD_PP_V01/output_V04/gdf_union_638.pkl to ../../../../data/Y2018M11D29_RH_Hybas6_U_GADM36L01_GPD_PP_Merge_V01/input_V01/gdf_union_638.pkl\n",
      "download: s3://wri-projects/Aqueduct30/processData/Y2018M11D29_RH_Hybas6_U_GADM36L01_GPD_PP_V01/output_V04/gdf_union_640.pkl to ../../../../data/Y2018M11D29_RH_Hybas6_U_GADM36L01_GPD_PP_Merge_V01/input_V01/gdf_union_640.pkl\n",
      "download: s3://wri-projects/Aqueduct30/processData/Y2018M11D29_RH_Hybas6_U_GADM36L01_GPD_PP_V01/output_V04/gdf_union_641.pkl to ../../../../data/Y2018M11D29_RH_Hybas6_U_GADM36L01_GPD_PP_Merge_V01/input_V01/gdf_union_641.pkl\n",
      "download: s3://wri-projects/Aqueduct30/processData/Y2018M11D29_RH_Hybas6_U_GADM36L01_GPD_PP_V01/output_V04/gdf_union_642.pkl to ../../../../data/Y2018M11D29_RH_Hybas6_U_GADM36L01_GPD_PP_Merge_V01/input_V01/gdf_union_642.pkl\n",
      "download: s3://wri-projects/Aqueduct30/processData/Y2018M11D29_RH_Hybas6_U_GADM36L01_GPD_PP_V01/output_V04/gdf_union_647.pkl to ../../../../data/Y2018M11D29_RH_Hybas6_U_GADM36L01_GPD_PP_Merge_V01/input_V01/gdf_union_647.pkl\n",
      "download: s3://wri-projects/Aqueduct30/processData/Y2018M11D29_RH_Hybas6_U_GADM36L01_GPD_PP_V01/output_V04/gdf_union_645.pkl to ../../../../data/Y2018M11D29_RH_Hybas6_U_GADM36L01_GPD_PP_Merge_V01/input_V01/gdf_union_645.pkl\n",
      "download: s3://wri-projects/Aqueduct30/processData/Y2018M11D29_RH_Hybas6_U_GADM36L01_GPD_PP_V01/output_V04/gdf_union_65.pkl to ../../../../data/Y2018M11D29_RH_Hybas6_U_GADM36L01_GPD_PP_Merge_V01/input_V01/gdf_union_65.pkl\n",
      "download: s3://wri-projects/Aqueduct30/processData/Y2018M11D29_RH_Hybas6_U_GADM36L01_GPD_PP_V01/output_V04/gdf_union_66.pkl to ../../../../data/Y2018M11D29_RH_Hybas6_U_GADM36L01_GPD_PP_Merge_V01/input_V01/gdf_union_66.pkl\n",
      "download: s3://wri-projects/Aqueduct30/processData/Y2018M11D29_RH_Hybas6_U_GADM36L01_GPD_PP_V01/output_V04/gdf_union_643.pkl to ../../../../data/Y2018M11D29_RH_Hybas6_U_GADM36L01_GPD_PP_Merge_V01/input_V01/gdf_union_643.pkl\n",
      "download: s3://wri-projects/Aqueduct30/processData/Y2018M11D29_RH_Hybas6_U_GADM36L01_GPD_PP_V01/output_V04/gdf_union_646.pkl to ../../../../data/Y2018M11D29_RH_Hybas6_U_GADM36L01_GPD_PP_Merge_V01/input_V01/gdf_union_646.pkl\n",
      "download: s3://wri-projects/Aqueduct30/processData/Y2018M11D29_RH_Hybas6_U_GADM36L01_GPD_PP_V01/output_V04/gdf_union_67.pkl to ../../../../data/Y2018M11D29_RH_Hybas6_U_GADM36L01_GPD_PP_Merge_V01/input_V01/gdf_union_67.pkl\n",
      "download: s3://wri-projects/Aqueduct30/processData/Y2018M11D29_RH_Hybas6_U_GADM36L01_GPD_PP_V01/output_V04/gdf_union_644.pkl to ../../../../data/Y2018M11D29_RH_Hybas6_U_GADM36L01_GPD_PP_Merge_V01/input_V01/gdf_union_644.pkl\n",
      "download: s3://wri-projects/Aqueduct30/processData/Y2018M11D29_RH_Hybas6_U_GADM36L01_GPD_PP_V01/output_V04/gdf_union_68.pkl to ../../../../data/Y2018M11D29_RH_Hybas6_U_GADM36L01_GPD_PP_Merge_V01/input_V01/gdf_union_68.pkl\n",
      "download: s3://wri-projects/Aqueduct30/processData/Y2018M11D29_RH_Hybas6_U_GADM36L01_GPD_PP_V01/output_V04/gdf_union_70.pkl to ../../../../data/Y2018M11D29_RH_Hybas6_U_GADM36L01_GPD_PP_Merge_V01/input_V01/gdf_union_70.pkl\n",
      "download: s3://wri-projects/Aqueduct30/processData/Y2018M11D29_RH_Hybas6_U_GADM36L01_GPD_PP_V01/output_V04/gdf_union_7.pkl to ../../../../data/Y2018M11D29_RH_Hybas6_U_GADM36L01_GPD_PP_Merge_V01/input_V01/gdf_union_7.pkl\n",
      "download: s3://wri-projects/Aqueduct30/processData/Y2018M11D29_RH_Hybas6_U_GADM36L01_GPD_PP_V01/output_V04/gdf_union_75.pkl to ../../../../data/Y2018M11D29_RH_Hybas6_U_GADM36L01_GPD_PP_Merge_V01/input_V01/gdf_union_75.pkl\n",
      "download: s3://wri-projects/Aqueduct30/processData/Y2018M11D29_RH_Hybas6_U_GADM36L01_GPD_PP_V01/output_V04/gdf_union_69.pkl to ../../../../data/Y2018M11D29_RH_Hybas6_U_GADM36L01_GPD_PP_Merge_V01/input_V01/gdf_union_69.pkl\n",
      "download: s3://wri-projects/Aqueduct30/processData/Y2018M11D29_RH_Hybas6_U_GADM36L01_GPD_PP_V01/output_V04/gdf_union_71.pkl to ../../../../data/Y2018M11D29_RH_Hybas6_U_GADM36L01_GPD_PP_Merge_V01/input_V01/gdf_union_71.pkl\n",
      "download: s3://wri-projects/Aqueduct30/processData/Y2018M11D29_RH_Hybas6_U_GADM36L01_GPD_PP_V01/output_V04/gdf_union_77.pkl to ../../../../data/Y2018M11D29_RH_Hybas6_U_GADM36L01_GPD_PP_Merge_V01/input_V01/gdf_union_77.pkl\n",
      "download: s3://wri-projects/Aqueduct30/processData/Y2018M11D29_RH_Hybas6_U_GADM36L01_GPD_PP_V01/output_V04/gdf_union_73.pkl to ../../../../data/Y2018M11D29_RH_Hybas6_U_GADM36L01_GPD_PP_Merge_V01/input_V01/gdf_union_73.pkl\n",
      "download: s3://wri-projects/Aqueduct30/processData/Y2018M11D29_RH_Hybas6_U_GADM36L01_GPD_PP_V01/output_V04/gdf_union_78.pkl to ../../../../data/Y2018M11D29_RH_Hybas6_U_GADM36L01_GPD_PP_Merge_V01/input_V01/gdf_union_78.pkl\n",
      "download: s3://wri-projects/Aqueduct30/processData/Y2018M11D29_RH_Hybas6_U_GADM36L01_GPD_PP_V01/output_V04/gdf_union_79.pkl to ../../../../data/Y2018M11D29_RH_Hybas6_U_GADM36L01_GPD_PP_Merge_V01/input_V01/gdf_union_79.pkl\n",
      "download: s3://wri-projects/Aqueduct30/processData/Y2018M11D29_RH_Hybas6_U_GADM36L01_GPD_PP_V01/output_V04/gdf_union_72.pkl to ../../../../data/Y2018M11D29_RH_Hybas6_U_GADM36L01_GPD_PP_Merge_V01/input_V01/gdf_union_72.pkl\n"
     ]
    },
    {
     "name": "stdout",
     "output_type": "stream",
     "text": [
      "download: s3://wri-projects/Aqueduct30/processData/Y2018M11D29_RH_Hybas6_U_GADM36L01_GPD_PP_V01/output_V04/gdf_union_80.pkl to ../../../../data/Y2018M11D29_RH_Hybas6_U_GADM36L01_GPD_PP_Merge_V01/input_V01/gdf_union_80.pkl\n",
      "download: s3://wri-projects/Aqueduct30/processData/Y2018M11D29_RH_Hybas6_U_GADM36L01_GPD_PP_V01/output_V04/gdf_union_8.pkl to ../../../../data/Y2018M11D29_RH_Hybas6_U_GADM36L01_GPD_PP_Merge_V01/input_V01/gdf_union_8.pkl\n",
      "download: s3://wri-projects/Aqueduct30/processData/Y2018M11D29_RH_Hybas6_U_GADM36L01_GPD_PP_V01/output_V04/gdf_union_76.pkl to ../../../../data/Y2018M11D29_RH_Hybas6_U_GADM36L01_GPD_PP_Merge_V01/input_V01/gdf_union_76.pkl\n",
      "download: s3://wri-projects/Aqueduct30/processData/Y2018M11D29_RH_Hybas6_U_GADM36L01_GPD_PP_V01/output_V04/gdf_union_81.pkl to ../../../../data/Y2018M11D29_RH_Hybas6_U_GADM36L01_GPD_PP_Merge_V01/input_V01/gdf_union_81.pkl\n",
      "download: s3://wri-projects/Aqueduct30/processData/Y2018M11D29_RH_Hybas6_U_GADM36L01_GPD_PP_V01/output_V04/gdf_union_82.pkl to ../../../../data/Y2018M11D29_RH_Hybas6_U_GADM36L01_GPD_PP_Merge_V01/input_V01/gdf_union_82.pkl\n",
      "download: s3://wri-projects/Aqueduct30/processData/Y2018M11D29_RH_Hybas6_U_GADM36L01_GPD_PP_V01/output_V04/gdf_union_84.pkl to ../../../../data/Y2018M11D29_RH_Hybas6_U_GADM36L01_GPD_PP_Merge_V01/input_V01/gdf_union_84.pkl\n",
      "download: s3://wri-projects/Aqueduct30/processData/Y2018M11D29_RH_Hybas6_U_GADM36L01_GPD_PP_V01/output_V04/gdf_union_83.pkl to ../../../../data/Y2018M11D29_RH_Hybas6_U_GADM36L01_GPD_PP_Merge_V01/input_V01/gdf_union_83.pkl\n",
      "download: s3://wri-projects/Aqueduct30/processData/Y2018M11D29_RH_Hybas6_U_GADM36L01_GPD_PP_V01/output_V04/gdf_union_85.pkl to ../../../../data/Y2018M11D29_RH_Hybas6_U_GADM36L01_GPD_PP_Merge_V01/input_V01/gdf_union_85.pkl\n",
      "download: s3://wri-projects/Aqueduct30/processData/Y2018M11D29_RH_Hybas6_U_GADM36L01_GPD_PP_V01/output_V04/gdf_union_87.pkl to ../../../../data/Y2018M11D29_RH_Hybas6_U_GADM36L01_GPD_PP_Merge_V01/input_V01/gdf_union_87.pkl\n",
      "download: s3://wri-projects/Aqueduct30/processData/Y2018M11D29_RH_Hybas6_U_GADM36L01_GPD_PP_V01/output_V04/gdf_union_89.pkl to ../../../../data/Y2018M11D29_RH_Hybas6_U_GADM36L01_GPD_PP_Merge_V01/input_V01/gdf_union_89.pkl\n",
      "download: s3://wri-projects/Aqueduct30/processData/Y2018M11D29_RH_Hybas6_U_GADM36L01_GPD_PP_V01/output_V04/gdf_union_86.pkl to ../../../../data/Y2018M11D29_RH_Hybas6_U_GADM36L01_GPD_PP_Merge_V01/input_V01/gdf_union_86.pkl\n",
      "download: s3://wri-projects/Aqueduct30/processData/Y2018M11D29_RH_Hybas6_U_GADM36L01_GPD_PP_V01/output_V04/gdf_union_90.pkl to ../../../../data/Y2018M11D29_RH_Hybas6_U_GADM36L01_GPD_PP_Merge_V01/input_V01/gdf_union_90.pkl\n",
      "download: s3://wri-projects/Aqueduct30/processData/Y2018M11D29_RH_Hybas6_U_GADM36L01_GPD_PP_V01/output_V04/gdf_union_91.pkl to ../../../../data/Y2018M11D29_RH_Hybas6_U_GADM36L01_GPD_PP_Merge_V01/input_V01/gdf_union_91.pkl\n",
      "download: s3://wri-projects/Aqueduct30/processData/Y2018M11D29_RH_Hybas6_U_GADM36L01_GPD_PP_V01/output_V04/gdf_union_9.pkl to ../../../../data/Y2018M11D29_RH_Hybas6_U_GADM36L01_GPD_PP_Merge_V01/input_V01/gdf_union_9.pkl\n",
      "download: s3://wri-projects/Aqueduct30/processData/Y2018M11D29_RH_Hybas6_U_GADM36L01_GPD_PP_V01/output_V04/gdf_union_88.pkl to ../../../../data/Y2018M11D29_RH_Hybas6_U_GADM36L01_GPD_PP_Merge_V01/input_V01/gdf_union_88.pkl\n",
      "download: s3://wri-projects/Aqueduct30/processData/Y2018M11D29_RH_Hybas6_U_GADM36L01_GPD_PP_V01/output_V04/gdf_union_94.pkl to ../../../../data/Y2018M11D29_RH_Hybas6_U_GADM36L01_GPD_PP_Merge_V01/input_V01/gdf_union_94.pkl\n",
      "download: s3://wri-projects/Aqueduct30/processData/Y2018M11D29_RH_Hybas6_U_GADM36L01_GPD_PP_V01/output_V04/gdf_union_92.pkl to ../../../../data/Y2018M11D29_RH_Hybas6_U_GADM36L01_GPD_PP_Merge_V01/input_V01/gdf_union_92.pkl\n",
      "download: s3://wri-projects/Aqueduct30/processData/Y2018M11D29_RH_Hybas6_U_GADM36L01_GPD_PP_V01/output_V04/gdf_union_93.pkl to ../../../../data/Y2018M11D29_RH_Hybas6_U_GADM36L01_GPD_PP_Merge_V01/input_V01/gdf_union_93.pkl\n",
      "download: s3://wri-projects/Aqueduct30/processData/Y2018M11D29_RH_Hybas6_U_GADM36L01_GPD_PP_V01/output_V04/gdf_union_95.pkl to ../../../../data/Y2018M11D29_RH_Hybas6_U_GADM36L01_GPD_PP_Merge_V01/input_V01/gdf_union_95.pkl\n",
      "download: s3://wri-projects/Aqueduct30/processData/Y2018M11D29_RH_Hybas6_U_GADM36L01_GPD_PP_V01/output_V04/gdf_union_96.pkl to ../../../../data/Y2018M11D29_RH_Hybas6_U_GADM36L01_GPD_PP_Merge_V01/input_V01/gdf_union_96.pkl\n",
      "download: s3://wri-projects/Aqueduct30/processData/Y2018M11D29_RH_Hybas6_U_GADM36L01_GPD_PP_V01/output_V04/gdf_union_97.pkl to ../../../../data/Y2018M11D29_RH_Hybas6_U_GADM36L01_GPD_PP_Merge_V01/input_V01/gdf_union_97.pkl\n",
      "download: s3://wri-projects/Aqueduct30/processData/Y2018M11D29_RH_Hybas6_U_GADM36L01_GPD_PP_V01/output_V04/gdf_union_98.pkl to ../../../../data/Y2018M11D29_RH_Hybas6_U_GADM36L01_GPD_PP_Merge_V01/input_V01/gdf_union_98.pkl\n",
      "download: s3://wri-projects/Aqueduct30/processData/Y2018M11D29_RH_Hybas6_U_GADM36L01_GPD_PP_V01/output_V04/gdf_union_99.pkl to ../../../../data/Y2018M11D29_RH_Hybas6_U_GADM36L01_GPD_PP_Merge_V01/input_V01/gdf_union_99.pkl\n",
      "download: s3://wri-projects/Aqueduct30/processData/Y2018M11D29_RH_Hybas6_U_GADM36L01_GPD_PP_V01/output_V04/gdf_union_74.pkl to ../../../../data/Y2018M11D29_RH_Hybas6_U_GADM36L01_GPD_PP_Merge_V01/input_V01/gdf_union_74.pkl\n"
     ]
    }
   ],
   "source": [
    "!aws s3 cp {S3_INPUT_PATH} {ec2_input_path} --recursive --exclude *.csv"
   ]
  },
  {
   "cell_type": "code",
   "execution_count": 15,
   "metadata": {
    "collapsed": true
   },
   "outputs": [],
   "source": [
    "import os\n",
    "import pandas as pd\n",
    "import geopandas as gpd"
   ]
  },
  {
   "cell_type": "code",
   "execution_count": 16,
   "metadata": {
    "collapsed": true
   },
   "outputs": [],
   "source": [
    "files = os.listdir(ec2_input_path)"
   ]
  },
  {
   "cell_type": "code",
   "execution_count": 17,
   "metadata": {},
   "outputs": [
    {
     "data": {
      "text/plain": [
       "516"
      ]
     },
     "execution_count": 17,
     "metadata": {},
     "output_type": "execute_result"
    }
   ],
   "source": [
    "len(files)"
   ]
  },
  {
   "cell_type": "code",
   "execution_count": 18,
   "metadata": {},
   "outputs": [],
   "source": [
    "gdfs = []\n",
    "for one_file in files:    \n",
    "    input_path = \"{}/{}\".format(ec2_input_path,one_file)\n",
    "    gdfs.append(pd.read_pickle(input_path))"
   ]
  },
  {
   "cell_type": "code",
   "execution_count": null,
   "metadata": {},
   "outputs": [],
   "source": [
    "gdf = pd.concat(gdfs, ignore_index=True)"
   ]
  },
  {
   "cell_type": "code",
   "execution_count": null,
   "metadata": {},
   "outputs": [],
   "source": [
    "%matplotlib inline"
   ]
  },
  {
   "cell_type": "code",
   "execution_count": null,
   "metadata": {},
   "outputs": [],
   "source": [
    "gdf.head()"
   ]
  },
  {
   "cell_type": "code",
   "execution_count": null,
   "metadata": {},
   "outputs": [],
   "source": [
    "gdf[\"composite_index\"] = gdf[\"gid_1\"] + gdf[\"pfaf_id\"].map(str)"
   ]
  },
  {
   "cell_type": "code",
   "execution_count": null,
   "metadata": {},
   "outputs": [],
   "source": [
    "gdf.head()"
   ]
  },
  {
   "cell_type": "code",
   "execution_count": null,
   "metadata": {},
   "outputs": [],
   "source": [
    "gdf.shape"
   ]
  },
  {
   "cell_type": "code",
   "execution_count": null,
   "metadata": {
    "collapsed": true
   },
   "outputs": [],
   "source": [
    "gdf_dissolved = gdf.dissolve(by=\"composite_index\")"
   ]
  },
  {
   "cell_type": "code",
   "execution_count": null,
   "metadata": {},
   "outputs": [],
   "source": [
    "gdf_dissolved.shape"
   ]
  },
  {
   "cell_type": "code",
   "execution_count": null,
   "metadata": {
    "collapsed": true
   },
   "outputs": [],
   "source": [
    "output_file_path = \"{}/{}.gpkg\".format(ec2_output_path,SCRIPT_NAME)"
   ]
  },
  {
   "cell_type": "code",
   "execution_count": null,
   "metadata": {
    "collapsed": true
   },
   "outputs": [],
   "source": [
    "gdf_dissolved.to_file(filename=output_file_path,driver=\"GPKG\")"
   ]
  },
  {
   "cell_type": "code",
   "execution_count": null,
   "metadata": {
    "collapsed": true
   },
   "outputs": [],
   "source": [
    "!aws s3 cp {ec2_output_path} {s3_output_path} --recursive"
   ]
  },
  {
   "cell_type": "code",
   "execution_count": null,
   "metadata": {
    "collapsed": true
   },
   "outputs": [],
   "source": [
    "end = datetime.datetime.now()\n",
    "elapsed = end - start\n",
    "print(elapsed)"
   ]
  },
  {
   "cell_type": "markdown",
   "metadata": {},
   "source": [
    "Previous Runs:  \n",
    "0:45:12.187817"
   ]
  }
 ],
 "metadata": {
  "kernelspec": {
   "display_name": "Python 35",
   "language": "python",
   "name": "python35"
  },
  "language_info": {
   "codemirror_mode": {
    "name": "ipython",
    "version": 3
   },
   "file_extension": ".py",
   "mimetype": "text/x-python",
   "name": "python",
   "nbconvert_exporter": "python",
   "pygments_lexer": "ipython3",
   "version": "3.5.4"
  }
 },
 "nbformat": 4,
 "nbformat_minor": 2
}
