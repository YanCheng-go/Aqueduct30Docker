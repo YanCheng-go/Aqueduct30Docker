{
 "cells": [
  {
   "cell_type": "code",
   "execution_count": 1,
   "metadata": {},
   "outputs": [
    {
     "name": "stdout",
     "output_type": "stream",
     "text": [
      "\n",
      "S3_INPUT_PATH: s3://wri-projects/Aqueduct30/processData/Y2018M11D29_RH_Hybas6_U_GADM36L01_GPD_PP_V01/output_V07/ \n",
      "ec2_input_path: /volumes/data/Y2018M11D29_RH_Hybas6_U_GADM36L01_GPD_PP_Merge_V01/output_V03 \n",
      "ec2_output_path: /volumes/data/Y2018M11D29_RH_Hybas6_U_GADM36L01_GPD_PP_Merge_V01/output_V03 \n",
      "s3_output_path:  s3://wri-projects/Aqueduct30/processData/Y2018M11D29_RH_Hybas6_U_GADM36L01_GPD_PP_Merge_V01/output_V03/\n"
     ]
    }
   ],
   "source": [
    "\"\"\" Union of hydrobasin and GADM 36 level 1 merge results. \n",
    "-------------------------------------------------------------------------------\n",
    "\n",
    "Step 1:\n",
    "Create polygons (10x10 degree, 648).\n",
    "\n",
    "Step 2:\n",
    "Clip all geodataframes with polygons (intersect).\n",
    "\n",
    "Step 3:\n",
    "Peform union per polygon.\n",
    "\n",
    "Step 4: \n",
    "Merge results into large geodataframe.\n",
    "\n",
    "Step 5:\n",
    "Dissolve on unique identifier.\n",
    "\n",
    "Step 6:\n",
    "Save output\n",
    "\n",
    "Author: Rutger Hofste\n",
    "Date: 20181128\n",
    "Kernel: python35\n",
    "Docker: rutgerhofste/gisdocker:ubuntu16.04\n",
    "\n",
    "\"\"\"\n",
    "\n",
    "\n",
    "TESTING = 1\n",
    "SCRIPT_NAME = \"Y2018M11D29_RH_Hybas6_U_GADM36L01_GPD_PP_Merge_V01\"\n",
    "OUTPUT_VERSION = 3\n",
    "\n",
    "S3_INPUT_PATH = \"s3://wri-projects/Aqueduct30/processData/Y2018M11D29_RH_Hybas6_U_GADM36L01_GPD_PP_V01/output_V07/\"\n",
    "\n",
    "ec2_input_path = \"/volumes/data/{}/input_V{:02.0f}\".format(SCRIPT_NAME,OUTPUT_VERSION)\n",
    "ec2_output_path = \"/volumes/data/{}/output_V{:02.0f}\".format(SCRIPT_NAME,OUTPUT_VERSION)\n",
    "\n",
    "s3_output_path = \"s3://wri-projects/Aqueduct30/processData/{}/output_V{:02.0f}/\".format(SCRIPT_NAME,OUTPUT_VERSION)\n",
    "\n",
    "print(\"\\nS3_INPUT_PATH:\", S3_INPUT_PATH,\n",
    "      \"\\nec2_input_path:\", ec2_output_path,\n",
    "      \"\\nec2_output_path:\", ec2_output_path,\n",
    "      \"\\ns3_output_path: \", s3_output_path)"
   ]
  },
  {
   "cell_type": "code",
   "execution_count": 2,
   "metadata": {},
   "outputs": [
    {
     "name": "stdout",
     "output_type": "stream",
     "text": [
      "Y2018M11D30 UTC 15:59\n"
     ]
    },
    {
     "data": {
      "text/plain": [
       "'3.5.4 |Anaconda, Inc.| (default, Nov 20 2017, 18:44:38) \\n[GCC 7.2.0]'"
      ]
     },
     "execution_count": 2,
     "metadata": {},
     "output_type": "execute_result"
    }
   ],
   "source": [
    "import time, datetime, sys\n",
    "dateString = time.strftime(\"Y%YM%mD%d\")\n",
    "timeString = time.strftime(\"UTC %H:%M\")\n",
    "start = datetime.datetime.now()\n",
    "print(dateString,timeString)\n",
    "sys.version"
   ]
  },
  {
   "cell_type": "code",
   "execution_count": 3,
   "metadata": {},
   "outputs": [],
   "source": [
    "!rm -r {ec2_input_path}\n",
    "!rm -r {ec2_output_path}\n",
    "!mkdir -p {ec2_input_path}\n",
    "!mkdir -p {ec2_output_path}"
   ]
  },
  {
   "cell_type": "code",
   "execution_count": 4,
   "metadata": {},
   "outputs": [
    {
     "name": "stdout",
     "output_type": "stream",
     "text": [
      "download: s3://wri-projects/Aqueduct30/processData/Y2018M11D29_RH_Hybas6_U_GADM36L01_GPD_PP_V01/output_V07/gdf_union_132.pkl to ../../../../data/Y2018M11D29_RH_Hybas6_U_GADM36L01_GPD_PP_Merge_V01/input_V03/gdf_union_132.pkl\n",
      "download: s3://wri-projects/Aqueduct30/processData/Y2018M11D29_RH_Hybas6_U_GADM36L01_GPD_PP_V01/output_V07/gdf_union_141.pkl to ../../../../data/Y2018M11D29_RH_Hybas6_U_GADM36L01_GPD_PP_Merge_V01/input_V03/gdf_union_141.pkl\n",
      "download: s3://wri-projects/Aqueduct30/processData/Y2018M11D29_RH_Hybas6_U_GADM36L01_GPD_PP_V01/output_V07/gdf_union_120.pkl to ../../../../data/Y2018M11D29_RH_Hybas6_U_GADM36L01_GPD_PP_Merge_V01/input_V03/gdf_union_120.pkl\n",
      "download: s3://wri-projects/Aqueduct30/processData/Y2018M11D29_RH_Hybas6_U_GADM36L01_GPD_PP_V01/output_V07/gdf_union_160.pkl to ../../../../data/Y2018M11D29_RH_Hybas6_U_GADM36L01_GPD_PP_Merge_V01/input_V03/gdf_union_160.pkl\n",
      "download: s3://wri-projects/Aqueduct30/processData/Y2018M11D29_RH_Hybas6_U_GADM36L01_GPD_PP_V01/output_V07/gdf_union_161.pkl to ../../../../data/Y2018M11D29_RH_Hybas6_U_GADM36L01_GPD_PP_Merge_V01/input_V03/gdf_union_161.pkl\n",
      "download: s3://wri-projects/Aqueduct30/processData/Y2018M11D29_RH_Hybas6_U_GADM36L01_GPD_PP_V01/output_V07/gdf_union_144.pkl to ../../../../data/Y2018M11D29_RH_Hybas6_U_GADM36L01_GPD_PP_Merge_V01/input_V03/gdf_union_144.pkl\n",
      "download: s3://wri-projects/Aqueduct30/processData/Y2018M11D29_RH_Hybas6_U_GADM36L01_GPD_PP_V01/output_V07/gdf_union_142.pkl to ../../../../data/Y2018M11D29_RH_Hybas6_U_GADM36L01_GPD_PP_Merge_V01/input_V03/gdf_union_142.pkl\n",
      "download: s3://wri-projects/Aqueduct30/processData/Y2018M11D29_RH_Hybas6_U_GADM36L01_GPD_PP_V01/output_V07/gdf_union_167.pkl to ../../../../data/Y2018M11D29_RH_Hybas6_U_GADM36L01_GPD_PP_Merge_V01/input_V03/gdf_union_167.pkl\n",
      "download: s3://wri-projects/Aqueduct30/processData/Y2018M11D29_RH_Hybas6_U_GADM36L01_GPD_PP_V01/output_V07/gdf_union_155.pkl to ../../../../data/Y2018M11D29_RH_Hybas6_U_GADM36L01_GPD_PP_Merge_V01/input_V03/gdf_union_155.pkl\n",
      "download: s3://wri-projects/Aqueduct30/processData/Y2018M11D29_RH_Hybas6_U_GADM36L01_GPD_PP_V01/output_V07/gdf_union_119.pkl to ../../../../data/Y2018M11D29_RH_Hybas6_U_GADM36L01_GPD_PP_Merge_V01/input_V03/gdf_union_119.pkl\n",
      "download: s3://wri-projects/Aqueduct30/processData/Y2018M11D29_RH_Hybas6_U_GADM36L01_GPD_PP_V01/output_V07/gdf_union_169.pkl to ../../../../data/Y2018M11D29_RH_Hybas6_U_GADM36L01_GPD_PP_Merge_V01/input_V03/gdf_union_169.pkl\n",
      "download: s3://wri-projects/Aqueduct30/processData/Y2018M11D29_RH_Hybas6_U_GADM36L01_GPD_PP_V01/output_V07/gdf_union_180.pkl to ../../../../data/Y2018M11D29_RH_Hybas6_U_GADM36L01_GPD_PP_Merge_V01/input_V03/gdf_union_180.pkl\n",
      "download: s3://wri-projects/Aqueduct30/processData/Y2018M11D29_RH_Hybas6_U_GADM36L01_GPD_PP_V01/output_V07/gdf_union_178.pkl to ../../../../data/Y2018M11D29_RH_Hybas6_U_GADM36L01_GPD_PP_Merge_V01/input_V03/gdf_union_178.pkl\n",
      "download: s3://wri-projects/Aqueduct30/processData/Y2018M11D29_RH_Hybas6_U_GADM36L01_GPD_PP_V01/output_V07/gdf_union_176.pkl to ../../../../data/Y2018M11D29_RH_Hybas6_U_GADM36L01_GPD_PP_Merge_V01/input_V03/gdf_union_176.pkl\n",
      "download: s3://wri-projects/Aqueduct30/processData/Y2018M11D29_RH_Hybas6_U_GADM36L01_GPD_PP_V01/output_V07/gdf_union_154.pkl to ../../../../data/Y2018M11D29_RH_Hybas6_U_GADM36L01_GPD_PP_Merge_V01/input_V03/gdf_union_154.pkl\n",
      "download: s3://wri-projects/Aqueduct30/processData/Y2018M11D29_RH_Hybas6_U_GADM36L01_GPD_PP_V01/output_V07/gdf_union_189.pkl to ../../../../data/Y2018M11D29_RH_Hybas6_U_GADM36L01_GPD_PP_Merge_V01/input_V03/gdf_union_189.pkl\n",
      "download: s3://wri-projects/Aqueduct30/processData/Y2018M11D29_RH_Hybas6_U_GADM36L01_GPD_PP_V01/output_V07/gdf_union_196.pkl to ../../../../data/Y2018M11D29_RH_Hybas6_U_GADM36L01_GPD_PP_Merge_V01/input_V03/gdf_union_196.pkl\n",
      "download: s3://wri-projects/Aqueduct30/processData/Y2018M11D29_RH_Hybas6_U_GADM36L01_GPD_PP_V01/output_V07/gdf_union_199.pkl to ../../../../data/Y2018M11D29_RH_Hybas6_U_GADM36L01_GPD_PP_Merge_V01/input_V03/gdf_union_199.pkl\n",
      "download: s3://wri-projects/Aqueduct30/processData/Y2018M11D29_RH_Hybas6_U_GADM36L01_GPD_PP_V01/output_V07/gdf_union_168.pkl to ../../../../data/Y2018M11D29_RH_Hybas6_U_GADM36L01_GPD_PP_Merge_V01/input_V03/gdf_union_168.pkl\n",
      "download: s3://wri-projects/Aqueduct30/processData/Y2018M11D29_RH_Hybas6_U_GADM36L01_GPD_PP_V01/output_V07/gdf_union_190.pkl to ../../../../data/Y2018M11D29_RH_Hybas6_U_GADM36L01_GPD_PP_Merge_V01/input_V03/gdf_union_190.pkl\n",
      "download: s3://wri-projects/Aqueduct30/processData/Y2018M11D29_RH_Hybas6_U_GADM36L01_GPD_PP_V01/output_V07/gdf_union_205.pkl to ../../../../data/Y2018M11D29_RH_Hybas6_U_GADM36L01_GPD_PP_Merge_V01/input_V03/gdf_union_205.pkl\n",
      "download: s3://wri-projects/Aqueduct30/processData/Y2018M11D29_RH_Hybas6_U_GADM36L01_GPD_PP_V01/output_V07/gdf_union_191.pkl to ../../../../data/Y2018M11D29_RH_Hybas6_U_GADM36L01_GPD_PP_Merge_V01/input_V03/gdf_union_191.pkl\n",
      "download: s3://wri-projects/Aqueduct30/processData/Y2018M11D29_RH_Hybas6_U_GADM36L01_GPD_PP_V01/output_V07/gdf_union_201.pkl to ../../../../data/Y2018M11D29_RH_Hybas6_U_GADM36L01_GPD_PP_Merge_V01/input_V03/gdf_union_201.pkl\n",
      "download: s3://wri-projects/Aqueduct30/processData/Y2018M11D29_RH_Hybas6_U_GADM36L01_GPD_PP_V01/output_V07/gdf_union_192.pkl to ../../../../data/Y2018M11D29_RH_Hybas6_U_GADM36L01_GPD_PP_Merge_V01/input_V03/gdf_union_192.pkl\n",
      "download: s3://wri-projects/Aqueduct30/processData/Y2018M11D29_RH_Hybas6_U_GADM36L01_GPD_PP_V01/output_V07/gdf_union_200.pkl to ../../../../data/Y2018M11D29_RH_Hybas6_U_GADM36L01_GPD_PP_Merge_V01/input_V03/gdf_union_200.pkl\n",
      "download: s3://wri-projects/Aqueduct30/processData/Y2018M11D29_RH_Hybas6_U_GADM36L01_GPD_PP_V01/output_V07/gdf_union_210.pkl to ../../../../data/Y2018M11D29_RH_Hybas6_U_GADM36L01_GPD_PP_Merge_V01/input_V03/gdf_union_210.pkl\n",
      "download: s3://wri-projects/Aqueduct30/processData/Y2018M11D29_RH_Hybas6_U_GADM36L01_GPD_PP_V01/output_V07/gdf_union_179.pkl to ../../../../data/Y2018M11D29_RH_Hybas6_U_GADM36L01_GPD_PP_Merge_V01/input_V03/gdf_union_179.pkl\n",
      "download: s3://wri-projects/Aqueduct30/processData/Y2018M11D29_RH_Hybas6_U_GADM36L01_GPD_PP_V01/output_V07/gdf_union_216.pkl to ../../../../data/Y2018M11D29_RH_Hybas6_U_GADM36L01_GPD_PP_Merge_V01/input_V03/gdf_union_216.pkl\n",
      "download: s3://wri-projects/Aqueduct30/processData/Y2018M11D29_RH_Hybas6_U_GADM36L01_GPD_PP_V01/output_V07/gdf_union_218.pkl to ../../../../data/Y2018M11D29_RH_Hybas6_U_GADM36L01_GPD_PP_Merge_V01/input_V03/gdf_union_218.pkl\n",
      "download: s3://wri-projects/Aqueduct30/processData/Y2018M11D29_RH_Hybas6_U_GADM36L01_GPD_PP_V01/output_V07/gdf_union_219.pkl to ../../../../data/Y2018M11D29_RH_Hybas6_U_GADM36L01_GPD_PP_Merge_V01/input_V03/gdf_union_219.pkl\n",
      "download: s3://wri-projects/Aqueduct30/processData/Y2018M11D29_RH_Hybas6_U_GADM36L01_GPD_PP_V01/output_V07/gdf_union_220.pkl to ../../../../data/Y2018M11D29_RH_Hybas6_U_GADM36L01_GPD_PP_Merge_V01/input_V03/gdf_union_220.pkl\n",
      "download: s3://wri-projects/Aqueduct30/processData/Y2018M11D29_RH_Hybas6_U_GADM36L01_GPD_PP_V01/output_V07/gdf_union_211.pkl to ../../../../data/Y2018M11D29_RH_Hybas6_U_GADM36L01_GPD_PP_Merge_V01/input_V03/gdf_union_211.pkl\n",
      "download: s3://wri-projects/Aqueduct30/processData/Y2018M11D29_RH_Hybas6_U_GADM36L01_GPD_PP_V01/output_V07/gdf_union_223.pkl to ../../../../data/Y2018M11D29_RH_Hybas6_U_GADM36L01_GPD_PP_Merge_V01/input_V03/gdf_union_223.pkl\n",
      "download: s3://wri-projects/Aqueduct30/processData/Y2018M11D29_RH_Hybas6_U_GADM36L01_GPD_PP_V01/output_V07/gdf_union_118.pkl to ../../../../data/Y2018M11D29_RH_Hybas6_U_GADM36L01_GPD_PP_Merge_V01/input_V03/gdf_union_118.pkl\n",
      "download: s3://wri-projects/Aqueduct30/processData/Y2018M11D29_RH_Hybas6_U_GADM36L01_GPD_PP_V01/output_V07/gdf_union_213.pkl to ../../../../data/Y2018M11D29_RH_Hybas6_U_GADM36L01_GPD_PP_Merge_V01/input_V03/gdf_union_213.pkl\n",
      "download: s3://wri-projects/Aqueduct30/processData/Y2018M11D29_RH_Hybas6_U_GADM36L01_GPD_PP_V01/output_V07/gdf_union_225.pkl to ../../../../data/Y2018M11D29_RH_Hybas6_U_GADM36L01_GPD_PP_Merge_V01/input_V03/gdf_union_225.pkl\n",
      "download: s3://wri-projects/Aqueduct30/processData/Y2018M11D29_RH_Hybas6_U_GADM36L01_GPD_PP_V01/output_V07/gdf_union_226.pkl to ../../../../data/Y2018M11D29_RH_Hybas6_U_GADM36L01_GPD_PP_Merge_V01/input_V03/gdf_union_226.pkl\n"
     ]
    },
    {
     "name": "stdout",
     "output_type": "stream",
     "text": [
      "download: s3://wri-projects/Aqueduct30/processData/Y2018M11D29_RH_Hybas6_U_GADM36L01_GPD_PP_V01/output_V07/gdf_union_231.pkl to ../../../../data/Y2018M11D29_RH_Hybas6_U_GADM36L01_GPD_PP_Merge_V01/input_V03/gdf_union_231.pkl\n",
      "download: s3://wri-projects/Aqueduct30/processData/Y2018M11D29_RH_Hybas6_U_GADM36L01_GPD_PP_V01/output_V07/gdf_union_227.pkl to ../../../../data/Y2018M11D29_RH_Hybas6_U_GADM36L01_GPD_PP_Merge_V01/input_V03/gdf_union_227.pkl\n",
      "download: s3://wri-projects/Aqueduct30/processData/Y2018M11D29_RH_Hybas6_U_GADM36L01_GPD_PP_V01/output_V07/gdf_union_212.pkl to ../../../../data/Y2018M11D29_RH_Hybas6_U_GADM36L01_GPD_PP_Merge_V01/input_V03/gdf_union_212.pkl\n",
      "download: s3://wri-projects/Aqueduct30/processData/Y2018M11D29_RH_Hybas6_U_GADM36L01_GPD_PP_V01/output_V07/gdf_union_228.pkl to ../../../../data/Y2018M11D29_RH_Hybas6_U_GADM36L01_GPD_PP_Merge_V01/input_V03/gdf_union_228.pkl\n",
      "download: s3://wri-projects/Aqueduct30/processData/Y2018M11D29_RH_Hybas6_U_GADM36L01_GPD_PP_V01/output_V07/gdf_union_239.pkl to ../../../../data/Y2018M11D29_RH_Hybas6_U_GADM36L01_GPD_PP_Merge_V01/input_V03/gdf_union_239.pkl\n",
      "download: s3://wri-projects/Aqueduct30/processData/Y2018M11D29_RH_Hybas6_U_GADM36L01_GPD_PP_V01/output_V07/gdf_union_215.pkl to ../../../../data/Y2018M11D29_RH_Hybas6_U_GADM36L01_GPD_PP_Merge_V01/input_V03/gdf_union_215.pkl\n",
      "download: s3://wri-projects/Aqueduct30/processData/Y2018M11D29_RH_Hybas6_U_GADM36L01_GPD_PP_V01/output_V07/gdf_union_229.pkl to ../../../../data/Y2018M11D29_RH_Hybas6_U_GADM36L01_GPD_PP_Merge_V01/input_V03/gdf_union_229.pkl\n",
      "download: s3://wri-projects/Aqueduct30/processData/Y2018M11D29_RH_Hybas6_U_GADM36L01_GPD_PP_V01/output_V07/gdf_union_245.pkl to ../../../../data/Y2018M11D29_RH_Hybas6_U_GADM36L01_GPD_PP_Merge_V01/input_V03/gdf_union_245.pkl\n",
      "download: s3://wri-projects/Aqueduct30/processData/Y2018M11D29_RH_Hybas6_U_GADM36L01_GPD_PP_V01/output_V07/gdf_union_246.pkl to ../../../../data/Y2018M11D29_RH_Hybas6_U_GADM36L01_GPD_PP_Merge_V01/input_V03/gdf_union_246.pkl\n",
      "download: s3://wri-projects/Aqueduct30/processData/Y2018M11D29_RH_Hybas6_U_GADM36L01_GPD_PP_V01/output_V07/gdf_union_209.pkl to ../../../../data/Y2018M11D29_RH_Hybas6_U_GADM36L01_GPD_PP_Merge_V01/input_V03/gdf_union_209.pkl\n",
      "download: s3://wri-projects/Aqueduct30/processData/Y2018M11D29_RH_Hybas6_U_GADM36L01_GPD_PP_V01/output_V07/gdf_union_237.pkl to ../../../../data/Y2018M11D29_RH_Hybas6_U_GADM36L01_GPD_PP_Merge_V01/input_V03/gdf_union_237.pkl\n",
      "download: s3://wri-projects/Aqueduct30/processData/Y2018M11D29_RH_Hybas6_U_GADM36L01_GPD_PP_V01/output_V07/gdf_union_247.pkl to ../../../../data/Y2018M11D29_RH_Hybas6_U_GADM36L01_GPD_PP_Merge_V01/input_V03/gdf_union_247.pkl\n",
      "download: s3://wri-projects/Aqueduct30/processData/Y2018M11D29_RH_Hybas6_U_GADM36L01_GPD_PP_V01/output_V07/gdf_union_238.pkl to ../../../../data/Y2018M11D29_RH_Hybas6_U_GADM36L01_GPD_PP_Merge_V01/input_V03/gdf_union_238.pkl\n",
      "download: s3://wri-projects/Aqueduct30/processData/Y2018M11D29_RH_Hybas6_U_GADM36L01_GPD_PP_V01/output_V07/gdf_union_236.pkl to ../../../../data/Y2018M11D29_RH_Hybas6_U_GADM36L01_GPD_PP_Merge_V01/input_V03/gdf_union_236.pkl\n",
      "download: s3://wri-projects/Aqueduct30/processData/Y2018M11D29_RH_Hybas6_U_GADM36L01_GPD_PP_V01/output_V07/gdf_union_248.pkl to ../../../../data/Y2018M11D29_RH_Hybas6_U_GADM36L01_GPD_PP_Merge_V01/input_V03/gdf_union_248.pkl\n",
      "download: s3://wri-projects/Aqueduct30/processData/Y2018M11D29_RH_Hybas6_U_GADM36L01_GPD_PP_V01/output_V07/gdf_union_251.pkl to ../../../../data/Y2018M11D29_RH_Hybas6_U_GADM36L01_GPD_PP_Merge_V01/input_V03/gdf_union_251.pkl\n",
      "download: s3://wri-projects/Aqueduct30/processData/Y2018M11D29_RH_Hybas6_U_GADM36L01_GPD_PP_V01/output_V07/gdf_union_253.pkl to ../../../../data/Y2018M11D29_RH_Hybas6_U_GADM36L01_GPD_PP_Merge_V01/input_V03/gdf_union_253.pkl\n",
      "download: s3://wri-projects/Aqueduct30/processData/Y2018M11D29_RH_Hybas6_U_GADM36L01_GPD_PP_V01/output_V07/gdf_union_250.pkl to ../../../../data/Y2018M11D29_RH_Hybas6_U_GADM36L01_GPD_PP_Merge_V01/input_V03/gdf_union_250.pkl\n",
      "download: s3://wri-projects/Aqueduct30/processData/Y2018M11D29_RH_Hybas6_U_GADM36L01_GPD_PP_V01/output_V07/gdf_union_254.pkl to ../../../../data/Y2018M11D29_RH_Hybas6_U_GADM36L01_GPD_PP_Merge_V01/input_V03/gdf_union_254.pkl\n",
      "download: s3://wri-projects/Aqueduct30/processData/Y2018M11D29_RH_Hybas6_U_GADM36L01_GPD_PP_V01/output_V07/gdf_union_255.pkl to ../../../../data/Y2018M11D29_RH_Hybas6_U_GADM36L01_GPD_PP_Merge_V01/input_V03/gdf_union_255.pkl\n",
      "download: s3://wri-projects/Aqueduct30/processData/Y2018M11D29_RH_Hybas6_U_GADM36L01_GPD_PP_V01/output_V07/gdf_union_252.pkl to ../../../../data/Y2018M11D29_RH_Hybas6_U_GADM36L01_GPD_PP_Merge_V01/input_V03/gdf_union_252.pkl\n",
      "download: s3://wri-projects/Aqueduct30/processData/Y2018M11D29_RH_Hybas6_U_GADM36L01_GPD_PP_V01/output_V07/gdf_union_256.pkl to ../../../../data/Y2018M11D29_RH_Hybas6_U_GADM36L01_GPD_PP_Merge_V01/input_V03/gdf_union_256.pkl\n",
      "download: s3://wri-projects/Aqueduct30/processData/Y2018M11D29_RH_Hybas6_U_GADM36L01_GPD_PP_V01/output_V07/gdf_union_264.pkl to ../../../../data/Y2018M11D29_RH_Hybas6_U_GADM36L01_GPD_PP_Merge_V01/input_V03/gdf_union_264.pkl\n",
      "download: s3://wri-projects/Aqueduct30/processData/Y2018M11D29_RH_Hybas6_U_GADM36L01_GPD_PP_V01/output_V07/gdf_union_263.pkl to ../../../../data/Y2018M11D29_RH_Hybas6_U_GADM36L01_GPD_PP_Merge_V01/input_V03/gdf_union_263.pkl\n",
      "download: s3://wri-projects/Aqueduct30/processData/Y2018M11D29_RH_Hybas6_U_GADM36L01_GPD_PP_V01/output_V07/gdf_union_269.pkl to ../../../../data/Y2018M11D29_RH_Hybas6_U_GADM36L01_GPD_PP_Merge_V01/input_V03/gdf_union_269.pkl\n",
      "download: s3://wri-projects/Aqueduct30/processData/Y2018M11D29_RH_Hybas6_U_GADM36L01_GPD_PP_V01/output_V07/gdf_union_281.pkl to ../../../../data/Y2018M11D29_RH_Hybas6_U_GADM36L01_GPD_PP_Merge_V01/input_V03/gdf_union_281.pkl\n",
      "download: s3://wri-projects/Aqueduct30/processData/Y2018M11D29_RH_Hybas6_U_GADM36L01_GPD_PP_V01/output_V07/gdf_union_271.pkl to ../../../../data/Y2018M11D29_RH_Hybas6_U_GADM36L01_GPD_PP_Merge_V01/input_V03/gdf_union_271.pkl\n",
      "download: s3://wri-projects/Aqueduct30/processData/Y2018M11D29_RH_Hybas6_U_GADM36L01_GPD_PP_V01/output_V07/gdf_union_262.pkl to ../../../../data/Y2018M11D29_RH_Hybas6_U_GADM36L01_GPD_PP_Merge_V01/input_V03/gdf_union_262.pkl\n",
      "download: s3://wri-projects/Aqueduct30/processData/Y2018M11D29_RH_Hybas6_U_GADM36L01_GPD_PP_V01/output_V07/gdf_union_272.pkl to ../../../../data/Y2018M11D29_RH_Hybas6_U_GADM36L01_GPD_PP_Merge_V01/input_V03/gdf_union_272.pkl\n",
      "download: s3://wri-projects/Aqueduct30/processData/Y2018M11D29_RH_Hybas6_U_GADM36L01_GPD_PP_V01/output_V07/gdf_union_249.pkl to ../../../../data/Y2018M11D29_RH_Hybas6_U_GADM36L01_GPD_PP_Merge_V01/input_V03/gdf_union_249.pkl\n",
      "download: s3://wri-projects/Aqueduct30/processData/Y2018M11D29_RH_Hybas6_U_GADM36L01_GPD_PP_V01/output_V07/gdf_union_266.pkl to ../../../../data/Y2018M11D29_RH_Hybas6_U_GADM36L01_GPD_PP_Merge_V01/input_V03/gdf_union_266.pkl\n",
      "download: s3://wri-projects/Aqueduct30/processData/Y2018M11D29_RH_Hybas6_U_GADM36L01_GPD_PP_V01/output_V07/gdf_union_265.pkl to ../../../../data/Y2018M11D29_RH_Hybas6_U_GADM36L01_GPD_PP_Merge_V01/input_V03/gdf_union_265.pkl\n",
      "download: s3://wri-projects/Aqueduct30/processData/Y2018M11D29_RH_Hybas6_U_GADM36L01_GPD_PP_V01/output_V07/gdf_union_276.pkl to ../../../../data/Y2018M11D29_RH_Hybas6_U_GADM36L01_GPD_PP_Merge_V01/input_V03/gdf_union_276.pkl\n",
      "download: s3://wri-projects/Aqueduct30/processData/Y2018M11D29_RH_Hybas6_U_GADM36L01_GPD_PP_V01/output_V07/gdf_union_275.pkl to ../../../../data/Y2018M11D29_RH_Hybas6_U_GADM36L01_GPD_PP_Merge_V01/input_V03/gdf_union_275.pkl\n",
      "download: s3://wri-projects/Aqueduct30/processData/Y2018M11D29_RH_Hybas6_U_GADM36L01_GPD_PP_V01/output_V07/gdf_union_273.pkl to ../../../../data/Y2018M11D29_RH_Hybas6_U_GADM36L01_GPD_PP_Merge_V01/input_V03/gdf_union_273.pkl\n",
      "download: s3://wri-projects/Aqueduct30/processData/Y2018M11D29_RH_Hybas6_U_GADM36L01_GPD_PP_V01/output_V07/gdf_union_235.pkl to ../../../../data/Y2018M11D29_RH_Hybas6_U_GADM36L01_GPD_PP_Merge_V01/input_V03/gdf_union_235.pkl\n",
      "download: s3://wri-projects/Aqueduct30/processData/Y2018M11D29_RH_Hybas6_U_GADM36L01_GPD_PP_V01/output_V07/gdf_union_283.pkl to ../../../../data/Y2018M11D29_RH_Hybas6_U_GADM36L01_GPD_PP_Merge_V01/input_V03/gdf_union_283.pkl\n",
      "download: s3://wri-projects/Aqueduct30/processData/Y2018M11D29_RH_Hybas6_U_GADM36L01_GPD_PP_V01/output_V07/gdf_union_284.pkl to ../../../../data/Y2018M11D29_RH_Hybas6_U_GADM36L01_GPD_PP_Merge_V01/input_V03/gdf_union_284.pkl\n"
     ]
    },
    {
     "name": "stdout",
     "output_type": "stream",
     "text": [
      "download: s3://wri-projects/Aqueduct30/processData/Y2018M11D29_RH_Hybas6_U_GADM36L01_GPD_PP_V01/output_V07/gdf_union_286.pkl to ../../../../data/Y2018M11D29_RH_Hybas6_U_GADM36L01_GPD_PP_Merge_V01/input_V03/gdf_union_286.pkl\n",
      "download: s3://wri-projects/Aqueduct30/processData/Y2018M11D29_RH_Hybas6_U_GADM36L01_GPD_PP_V01/output_V07/gdf_union_282.pkl to ../../../../data/Y2018M11D29_RH_Hybas6_U_GADM36L01_GPD_PP_Merge_V01/input_V03/gdf_union_282.pkl\n",
      "download: s3://wri-projects/Aqueduct30/processData/Y2018M11D29_RH_Hybas6_U_GADM36L01_GPD_PP_V01/output_V07/gdf_union_288.pkl to ../../../../data/Y2018M11D29_RH_Hybas6_U_GADM36L01_GPD_PP_Merge_V01/input_V03/gdf_union_288.pkl\n",
      "download: s3://wri-projects/Aqueduct30/processData/Y2018M11D29_RH_Hybas6_U_GADM36L01_GPD_PP_V01/output_V07/gdf_union_287.pkl to ../../../../data/Y2018M11D29_RH_Hybas6_U_GADM36L01_GPD_PP_Merge_V01/input_V03/gdf_union_287.pkl\n",
      "download: s3://wri-projects/Aqueduct30/processData/Y2018M11D29_RH_Hybas6_U_GADM36L01_GPD_PP_V01/output_V07/gdf_union_289.pkl to ../../../../data/Y2018M11D29_RH_Hybas6_U_GADM36L01_GPD_PP_Merge_V01/input_V03/gdf_union_289.pkl\n",
      "download: s3://wri-projects/Aqueduct30/processData/Y2018M11D29_RH_Hybas6_U_GADM36L01_GPD_PP_V01/output_V07/gdf_union_292.pkl to ../../../../data/Y2018M11D29_RH_Hybas6_U_GADM36L01_GPD_PP_Merge_V01/input_V03/gdf_union_292.pkl\n",
      "download: s3://wri-projects/Aqueduct30/processData/Y2018M11D29_RH_Hybas6_U_GADM36L01_GPD_PP_V01/output_V07/gdf_union_291.pkl to ../../../../data/Y2018M11D29_RH_Hybas6_U_GADM36L01_GPD_PP_Merge_V01/input_V03/gdf_union_291.pkl\n",
      "download: s3://wri-projects/Aqueduct30/processData/Y2018M11D29_RH_Hybas6_U_GADM36L01_GPD_PP_V01/output_V07/gdf_union_274.pkl to ../../../../data/Y2018M11D29_RH_Hybas6_U_GADM36L01_GPD_PP_Merge_V01/input_V03/gdf_union_274.pkl\n",
      "download: s3://wri-projects/Aqueduct30/processData/Y2018M11D29_RH_Hybas6_U_GADM36L01_GPD_PP_V01/output_V07/gdf_union_299.pkl to ../../../../data/Y2018M11D29_RH_Hybas6_U_GADM36L01_GPD_PP_Merge_V01/input_V03/gdf_union_299.pkl\n",
      "download: s3://wri-projects/Aqueduct30/processData/Y2018M11D29_RH_Hybas6_U_GADM36L01_GPD_PP_V01/output_V07/gdf_union_300.pkl to ../../../../data/Y2018M11D29_RH_Hybas6_U_GADM36L01_GPD_PP_Merge_V01/input_V03/gdf_union_300.pkl\n",
      "download: s3://wri-projects/Aqueduct30/processData/Y2018M11D29_RH_Hybas6_U_GADM36L01_GPD_PP_V01/output_V07/gdf_union_297.pkl to ../../../../data/Y2018M11D29_RH_Hybas6_U_GADM36L01_GPD_PP_Merge_V01/input_V03/gdf_union_297.pkl\n",
      "download: s3://wri-projects/Aqueduct30/processData/Y2018M11D29_RH_Hybas6_U_GADM36L01_GPD_PP_V01/output_V07/gdf_union_304.pkl to ../../../../data/Y2018M11D29_RH_Hybas6_U_GADM36L01_GPD_PP_Merge_V01/input_V03/gdf_union_304.pkl\n",
      "download: s3://wri-projects/Aqueduct30/processData/Y2018M11D29_RH_Hybas6_U_GADM36L01_GPD_PP_V01/output_V07/gdf_union_306.pkl to ../../../../data/Y2018M11D29_RH_Hybas6_U_GADM36L01_GPD_PP_Merge_V01/input_V03/gdf_union_306.pkl\n",
      "download: s3://wri-projects/Aqueduct30/processData/Y2018M11D29_RH_Hybas6_U_GADM36L01_GPD_PP_V01/output_V07/gdf_union_302.pkl to ../../../../data/Y2018M11D29_RH_Hybas6_U_GADM36L01_GPD_PP_Merge_V01/input_V03/gdf_union_302.pkl\n",
      "download: s3://wri-projects/Aqueduct30/processData/Y2018M11D29_RH_Hybas6_U_GADM36L01_GPD_PP_V01/output_V07/gdf_union_296.pkl to ../../../../data/Y2018M11D29_RH_Hybas6_U_GADM36L01_GPD_PP_Merge_V01/input_V03/gdf_union_296.pkl\n",
      "download: s3://wri-projects/Aqueduct30/processData/Y2018M11D29_RH_Hybas6_U_GADM36L01_GPD_PP_V01/output_V07/gdf_union_311.pkl to ../../../../data/Y2018M11D29_RH_Hybas6_U_GADM36L01_GPD_PP_Merge_V01/input_V03/gdf_union_311.pkl\n",
      "download: s3://wri-projects/Aqueduct30/processData/Y2018M11D29_RH_Hybas6_U_GADM36L01_GPD_PP_V01/output_V07/gdf_union_308.pkl to ../../../../data/Y2018M11D29_RH_Hybas6_U_GADM36L01_GPD_PP_Merge_V01/input_V03/gdf_union_308.pkl\n",
      "download: s3://wri-projects/Aqueduct30/processData/Y2018M11D29_RH_Hybas6_U_GADM36L01_GPD_PP_V01/output_V07/gdf_union_310.pkl to ../../../../data/Y2018M11D29_RH_Hybas6_U_GADM36L01_GPD_PP_Merge_V01/input_V03/gdf_union_310.pkl\n",
      "download: s3://wri-projects/Aqueduct30/processData/Y2018M11D29_RH_Hybas6_U_GADM36L01_GPD_PP_V01/output_V07/gdf_union_307.pkl to ../../../../data/Y2018M11D29_RH_Hybas6_U_GADM36L01_GPD_PP_Merge_V01/input_V03/gdf_union_307.pkl\n",
      "download: s3://wri-projects/Aqueduct30/processData/Y2018M11D29_RH_Hybas6_U_GADM36L01_GPD_PP_V01/output_V07/gdf_union_315.pkl to ../../../../data/Y2018M11D29_RH_Hybas6_U_GADM36L01_GPD_PP_Merge_V01/input_V03/gdf_union_315.pkl\n",
      "download: s3://wri-projects/Aqueduct30/processData/Y2018M11D29_RH_Hybas6_U_GADM36L01_GPD_PP_V01/output_V07/gdf_union_301.pkl to ../../../../data/Y2018M11D29_RH_Hybas6_U_GADM36L01_GPD_PP_Merge_V01/input_V03/gdf_union_301.pkl\n",
      "download: s3://wri-projects/Aqueduct30/processData/Y2018M11D29_RH_Hybas6_U_GADM36L01_GPD_PP_V01/output_V07/gdf_union_285.pkl to ../../../../data/Y2018M11D29_RH_Hybas6_U_GADM36L01_GPD_PP_Merge_V01/input_V03/gdf_union_285.pkl\n",
      "download: s3://wri-projects/Aqueduct30/processData/Y2018M11D29_RH_Hybas6_U_GADM36L01_GPD_PP_V01/output_V07/gdf_union_309.pkl to ../../../../data/Y2018M11D29_RH_Hybas6_U_GADM36L01_GPD_PP_Merge_V01/input_V03/gdf_union_309.pkl\n",
      "download: s3://wri-projects/Aqueduct30/processData/Y2018M11D29_RH_Hybas6_U_GADM36L01_GPD_PP_V01/output_V07/gdf_union_319.pkl to ../../../../data/Y2018M11D29_RH_Hybas6_U_GADM36L01_GPD_PP_Merge_V01/input_V03/gdf_union_319.pkl\n",
      "download: s3://wri-projects/Aqueduct30/processData/Y2018M11D29_RH_Hybas6_U_GADM36L01_GPD_PP_V01/output_V07/gdf_union_316.pkl to ../../../../data/Y2018M11D29_RH_Hybas6_U_GADM36L01_GPD_PP_Merge_V01/input_V03/gdf_union_316.pkl\n",
      "download: s3://wri-projects/Aqueduct30/processData/Y2018M11D29_RH_Hybas6_U_GADM36L01_GPD_PP_V01/output_V07/gdf_union_324.pkl to ../../../../data/Y2018M11D29_RH_Hybas6_U_GADM36L01_GPD_PP_Merge_V01/input_V03/gdf_union_324.pkl\n",
      "download: s3://wri-projects/Aqueduct30/processData/Y2018M11D29_RH_Hybas6_U_GADM36L01_GPD_PP_V01/output_V07/gdf_union_323.pkl to ../../../../data/Y2018M11D29_RH_Hybas6_U_GADM36L01_GPD_PP_Merge_V01/input_V03/gdf_union_323.pkl\n",
      "download: s3://wri-projects/Aqueduct30/processData/Y2018M11D29_RH_Hybas6_U_GADM36L01_GPD_PP_V01/output_V07/gdf_union_325.pkl to ../../../../data/Y2018M11D29_RH_Hybas6_U_GADM36L01_GPD_PP_Merge_V01/input_V03/gdf_union_325.pkl\n",
      "download: s3://wri-projects/Aqueduct30/processData/Y2018M11D29_RH_Hybas6_U_GADM36L01_GPD_PP_V01/output_V07/gdf_union_320.pkl to ../../../../data/Y2018M11D29_RH_Hybas6_U_GADM36L01_GPD_PP_Merge_V01/input_V03/gdf_union_320.pkl\n",
      "download: s3://wri-projects/Aqueduct30/processData/Y2018M11D29_RH_Hybas6_U_GADM36L01_GPD_PP_V01/output_V07/gdf_union_322.pkl to ../../../../data/Y2018M11D29_RH_Hybas6_U_GADM36L01_GPD_PP_Merge_V01/input_V03/gdf_union_322.pkl\n",
      "download: s3://wri-projects/Aqueduct30/processData/Y2018M11D29_RH_Hybas6_U_GADM36L01_GPD_PP_V01/output_V07/gdf_union_317.pkl to ../../../../data/Y2018M11D29_RH_Hybas6_U_GADM36L01_GPD_PP_Merge_V01/input_V03/gdf_union_317.pkl\n",
      "download: s3://wri-projects/Aqueduct30/processData/Y2018M11D29_RH_Hybas6_U_GADM36L01_GPD_PP_V01/output_V07/gdf_union_332.pkl to ../../../../data/Y2018M11D29_RH_Hybas6_U_GADM36L01_GPD_PP_Merge_V01/input_V03/gdf_union_332.pkl\n",
      "download: s3://wri-projects/Aqueduct30/processData/Y2018M11D29_RH_Hybas6_U_GADM36L01_GPD_PP_V01/output_V07/gdf_union_318.pkl to ../../../../data/Y2018M11D29_RH_Hybas6_U_GADM36L01_GPD_PP_Merge_V01/input_V03/gdf_union_318.pkl\n",
      "download: s3://wri-projects/Aqueduct30/processData/Y2018M11D29_RH_Hybas6_U_GADM36L01_GPD_PP_V01/output_V07/gdf_union_337.pkl to ../../../../data/Y2018M11D29_RH_Hybas6_U_GADM36L01_GPD_PP_Merge_V01/input_V03/gdf_union_337.pkl\n",
      "download: s3://wri-projects/Aqueduct30/processData/Y2018M11D29_RH_Hybas6_U_GADM36L01_GPD_PP_V01/output_V07/gdf_union_335.pkl to ../../../../data/Y2018M11D29_RH_Hybas6_U_GADM36L01_GPD_PP_Merge_V01/input_V03/gdf_union_335.pkl\n",
      "download: s3://wri-projects/Aqueduct30/processData/Y2018M11D29_RH_Hybas6_U_GADM36L01_GPD_PP_V01/output_V07/gdf_union_333.pkl to ../../../../data/Y2018M11D29_RH_Hybas6_U_GADM36L01_GPD_PP_Merge_V01/input_V03/gdf_union_333.pkl\n",
      "download: s3://wri-projects/Aqueduct30/processData/Y2018M11D29_RH_Hybas6_U_GADM36L01_GPD_PP_V01/output_V07/gdf_union_340.pkl to ../../../../data/Y2018M11D29_RH_Hybas6_U_GADM36L01_GPD_PP_Merge_V01/input_V03/gdf_union_340.pkl\n",
      "download: s3://wri-projects/Aqueduct30/processData/Y2018M11D29_RH_Hybas6_U_GADM36L01_GPD_PP_V01/output_V07/gdf_union_341.pkl to ../../../../data/Y2018M11D29_RH_Hybas6_U_GADM36L01_GPD_PP_Merge_V01/input_V03/gdf_union_341.pkl\n",
      "download: s3://wri-projects/Aqueduct30/processData/Y2018M11D29_RH_Hybas6_U_GADM36L01_GPD_PP_V01/output_V07/gdf_union_321.pkl to ../../../../data/Y2018M11D29_RH_Hybas6_U_GADM36L01_GPD_PP_Merge_V01/input_V03/gdf_union_321.pkl\n"
     ]
    },
    {
     "name": "stdout",
     "output_type": "stream",
     "text": [
      "download: s3://wri-projects/Aqueduct30/processData/Y2018M11D29_RH_Hybas6_U_GADM36L01_GPD_PP_V01/output_V07/gdf_union_336.pkl to ../../../../data/Y2018M11D29_RH_Hybas6_U_GADM36L01_GPD_PP_Merge_V01/input_V03/gdf_union_336.pkl\n",
      "download: s3://wri-projects/Aqueduct30/processData/Y2018M11D29_RH_Hybas6_U_GADM36L01_GPD_PP_V01/output_V07/gdf_union_347.pkl to ../../../../data/Y2018M11D29_RH_Hybas6_U_GADM36L01_GPD_PP_Merge_V01/input_V03/gdf_union_347.pkl\n",
      "download: s3://wri-projects/Aqueduct30/processData/Y2018M11D29_RH_Hybas6_U_GADM36L01_GPD_PP_V01/output_V07/gdf_union_344.pkl to ../../../../data/Y2018M11D29_RH_Hybas6_U_GADM36L01_GPD_PP_Merge_V01/input_V03/gdf_union_344.pkl\n",
      "download: s3://wri-projects/Aqueduct30/processData/Y2018M11D29_RH_Hybas6_U_GADM36L01_GPD_PP_V01/output_V07/gdf_union_346.pkl to ../../../../data/Y2018M11D29_RH_Hybas6_U_GADM36L01_GPD_PP_Merge_V01/input_V03/gdf_union_346.pkl\n",
      "download: s3://wri-projects/Aqueduct30/processData/Y2018M11D29_RH_Hybas6_U_GADM36L01_GPD_PP_V01/output_V07/gdf_union_343.pkl to ../../../../data/Y2018M11D29_RH_Hybas6_U_GADM36L01_GPD_PP_Merge_V01/input_V03/gdf_union_343.pkl\n",
      "download: s3://wri-projects/Aqueduct30/processData/Y2018M11D29_RH_Hybas6_U_GADM36L01_GPD_PP_V01/output_V07/gdf_union_334.pkl to ../../../../data/Y2018M11D29_RH_Hybas6_U_GADM36L01_GPD_PP_Merge_V01/input_V03/gdf_union_334.pkl\n",
      "download: s3://wri-projects/Aqueduct30/processData/Y2018M11D29_RH_Hybas6_U_GADM36L01_GPD_PP_V01/output_V07/gdf_union_349.pkl to ../../../../data/Y2018M11D29_RH_Hybas6_U_GADM36L01_GPD_PP_Merge_V01/input_V03/gdf_union_349.pkl\n",
      "download: s3://wri-projects/Aqueduct30/processData/Y2018M11D29_RH_Hybas6_U_GADM36L01_GPD_PP_V01/output_V07/gdf_union_350.pkl to ../../../../data/Y2018M11D29_RH_Hybas6_U_GADM36L01_GPD_PP_Merge_V01/input_V03/gdf_union_350.pkl\n",
      "download: s3://wri-projects/Aqueduct30/processData/Y2018M11D29_RH_Hybas6_U_GADM36L01_GPD_PP_V01/output_V07/gdf_union_342.pkl to ../../../../data/Y2018M11D29_RH_Hybas6_U_GADM36L01_GPD_PP_Merge_V01/input_V03/gdf_union_342.pkl\n",
      "download: s3://wri-projects/Aqueduct30/processData/Y2018M11D29_RH_Hybas6_U_GADM36L01_GPD_PP_V01/output_V07/gdf_union_355.pkl to ../../../../data/Y2018M11D29_RH_Hybas6_U_GADM36L01_GPD_PP_Merge_V01/input_V03/gdf_union_355.pkl\n",
      "download: s3://wri-projects/Aqueduct30/processData/Y2018M11D29_RH_Hybas6_U_GADM36L01_GPD_PP_V01/output_V07/gdf_union_356.pkl to ../../../../data/Y2018M11D29_RH_Hybas6_U_GADM36L01_GPD_PP_Merge_V01/input_V03/gdf_union_356.pkl\n",
      "download: s3://wri-projects/Aqueduct30/processData/Y2018M11D29_RH_Hybas6_U_GADM36L01_GPD_PP_V01/output_V07/gdf_union_345.pkl to ../../../../data/Y2018M11D29_RH_Hybas6_U_GADM36L01_GPD_PP_Merge_V01/input_V03/gdf_union_345.pkl\n",
      "download: s3://wri-projects/Aqueduct30/processData/Y2018M11D29_RH_Hybas6_U_GADM36L01_GPD_PP_V01/output_V07/gdf_union_358.pkl to ../../../../data/Y2018M11D29_RH_Hybas6_U_GADM36L01_GPD_PP_Merge_V01/input_V03/gdf_union_358.pkl\n",
      "download: s3://wri-projects/Aqueduct30/processData/Y2018M11D29_RH_Hybas6_U_GADM36L01_GPD_PP_V01/output_V07/gdf_union_351.pkl to ../../../../data/Y2018M11D29_RH_Hybas6_U_GADM36L01_GPD_PP_Merge_V01/input_V03/gdf_union_351.pkl\n",
      "download: s3://wri-projects/Aqueduct30/processData/Y2018M11D29_RH_Hybas6_U_GADM36L01_GPD_PP_V01/output_V07/gdf_union_357.pkl to ../../../../data/Y2018M11D29_RH_Hybas6_U_GADM36L01_GPD_PP_Merge_V01/input_V03/gdf_union_357.pkl\n",
      "download: s3://wri-projects/Aqueduct30/processData/Y2018M11D29_RH_Hybas6_U_GADM36L01_GPD_PP_V01/output_V07/gdf_union_361.pkl to ../../../../data/Y2018M11D29_RH_Hybas6_U_GADM36L01_GPD_PP_Merge_V01/input_V03/gdf_union_361.pkl\n",
      "download: s3://wri-projects/Aqueduct30/processData/Y2018M11D29_RH_Hybas6_U_GADM36L01_GPD_PP_V01/output_V07/gdf_union_359.pkl to ../../../../data/Y2018M11D29_RH_Hybas6_U_GADM36L01_GPD_PP_Merge_V01/input_V03/gdf_union_359.pkl\n",
      "download: s3://wri-projects/Aqueduct30/processData/Y2018M11D29_RH_Hybas6_U_GADM36L01_GPD_PP_V01/output_V07/gdf_union_362.pkl to ../../../../data/Y2018M11D29_RH_Hybas6_U_GADM36L01_GPD_PP_Merge_V01/input_V03/gdf_union_362.pkl\n",
      "download: s3://wri-projects/Aqueduct30/processData/Y2018M11D29_RH_Hybas6_U_GADM36L01_GPD_PP_V01/output_V07/gdf_union_366.pkl to ../../../../data/Y2018M11D29_RH_Hybas6_U_GADM36L01_GPD_PP_Merge_V01/input_V03/gdf_union_366.pkl\n",
      "download: s3://wri-projects/Aqueduct30/processData/Y2018M11D29_RH_Hybas6_U_GADM36L01_GPD_PP_V01/output_V07/gdf_union_367.pkl to ../../../../data/Y2018M11D29_RH_Hybas6_U_GADM36L01_GPD_PP_Merge_V01/input_V03/gdf_union_367.pkl\n",
      "download: s3://wri-projects/Aqueduct30/processData/Y2018M11D29_RH_Hybas6_U_GADM36L01_GPD_PP_V01/output_V07/gdf_union_353.pkl to ../../../../data/Y2018M11D29_RH_Hybas6_U_GADM36L01_GPD_PP_Merge_V01/input_V03/gdf_union_353.pkl\n",
      "download: s3://wri-projects/Aqueduct30/processData/Y2018M11D29_RH_Hybas6_U_GADM36L01_GPD_PP_V01/output_V07/gdf_union_352.pkl to ../../../../data/Y2018M11D29_RH_Hybas6_U_GADM36L01_GPD_PP_Merge_V01/input_V03/gdf_union_352.pkl\n",
      "download: s3://wri-projects/Aqueduct30/processData/Y2018M11D29_RH_Hybas6_U_GADM36L01_GPD_PP_V01/output_V07/gdf_union_354.pkl to ../../../../data/Y2018M11D29_RH_Hybas6_U_GADM36L01_GPD_PP_Merge_V01/input_V03/gdf_union_354.pkl\n",
      "download: s3://wri-projects/Aqueduct30/processData/Y2018M11D29_RH_Hybas6_U_GADM36L01_GPD_PP_V01/output_V07/gdf_union_372.pkl to ../../../../data/Y2018M11D29_RH_Hybas6_U_GADM36L01_GPD_PP_Merge_V01/input_V03/gdf_union_372.pkl\n",
      "download: s3://wri-projects/Aqueduct30/processData/Y2018M11D29_RH_Hybas6_U_GADM36L01_GPD_PP_V01/output_V07/gdf_union_375.pkl to ../../../../data/Y2018M11D29_RH_Hybas6_U_GADM36L01_GPD_PP_Merge_V01/input_V03/gdf_union_375.pkl\n",
      "download: s3://wri-projects/Aqueduct30/processData/Y2018M11D29_RH_Hybas6_U_GADM36L01_GPD_PP_V01/output_V07/gdf_union_368.pkl to ../../../../data/Y2018M11D29_RH_Hybas6_U_GADM36L01_GPD_PP_Merge_V01/input_V03/gdf_union_368.pkl\n",
      "download: s3://wri-projects/Aqueduct30/processData/Y2018M11D29_RH_Hybas6_U_GADM36L01_GPD_PP_V01/output_V07/gdf_union_377.pkl to ../../../../data/Y2018M11D29_RH_Hybas6_U_GADM36L01_GPD_PP_Merge_V01/input_V03/gdf_union_377.pkl\n",
      "download: s3://wri-projects/Aqueduct30/processData/Y2018M11D29_RH_Hybas6_U_GADM36L01_GPD_PP_V01/output_V07/gdf_union_370.pkl to ../../../../data/Y2018M11D29_RH_Hybas6_U_GADM36L01_GPD_PP_Merge_V01/input_V03/gdf_union_370.pkl\n",
      "download: s3://wri-projects/Aqueduct30/processData/Y2018M11D29_RH_Hybas6_U_GADM36L01_GPD_PP_V01/output_V07/gdf_union_378.pkl to ../../../../data/Y2018M11D29_RH_Hybas6_U_GADM36L01_GPD_PP_Merge_V01/input_V03/gdf_union_378.pkl\n",
      "download: s3://wri-projects/Aqueduct30/processData/Y2018M11D29_RH_Hybas6_U_GADM36L01_GPD_PP_V01/output_V07/gdf_union_379.pkl to ../../../../data/Y2018M11D29_RH_Hybas6_U_GADM36L01_GPD_PP_Merge_V01/input_V03/gdf_union_379.pkl\n",
      "download: s3://wri-projects/Aqueduct30/processData/Y2018M11D29_RH_Hybas6_U_GADM36L01_GPD_PP_V01/output_V07/gdf_union_369.pkl to ../../../../data/Y2018M11D29_RH_Hybas6_U_GADM36L01_GPD_PP_Merge_V01/input_V03/gdf_union_369.pkl\n",
      "download: s3://wri-projects/Aqueduct30/processData/Y2018M11D29_RH_Hybas6_U_GADM36L01_GPD_PP_V01/output_V07/gdf_union_381.pkl to ../../../../data/Y2018M11D29_RH_Hybas6_U_GADM36L01_GPD_PP_Merge_V01/input_V03/gdf_union_381.pkl\n",
      "download: s3://wri-projects/Aqueduct30/processData/Y2018M11D29_RH_Hybas6_U_GADM36L01_GPD_PP_V01/output_V07/gdf_union_371.pkl to ../../../../data/Y2018M11D29_RH_Hybas6_U_GADM36L01_GPD_PP_Merge_V01/input_V03/gdf_union_371.pkl\n",
      "download: s3://wri-projects/Aqueduct30/processData/Y2018M11D29_RH_Hybas6_U_GADM36L01_GPD_PP_V01/output_V07/gdf_union_383.pkl to ../../../../data/Y2018M11D29_RH_Hybas6_U_GADM36L01_GPD_PP_Merge_V01/input_V03/gdf_union_383.pkl\n",
      "download: s3://wri-projects/Aqueduct30/processData/Y2018M11D29_RH_Hybas6_U_GADM36L01_GPD_PP_V01/output_V07/gdf_union_386.pkl to ../../../../data/Y2018M11D29_RH_Hybas6_U_GADM36L01_GPD_PP_Merge_V01/input_V03/gdf_union_386.pkl\n",
      "download: s3://wri-projects/Aqueduct30/processData/Y2018M11D29_RH_Hybas6_U_GADM36L01_GPD_PP_V01/output_V07/gdf_union_385.pkl to ../../../../data/Y2018M11D29_RH_Hybas6_U_GADM36L01_GPD_PP_Merge_V01/input_V03/gdf_union_385.pkl\n",
      "download: s3://wri-projects/Aqueduct30/processData/Y2018M11D29_RH_Hybas6_U_GADM36L01_GPD_PP_V01/output_V07/gdf_union_298.pkl to ../../../../data/Y2018M11D29_RH_Hybas6_U_GADM36L01_GPD_PP_Merge_V01/input_V03/gdf_union_298.pkl\n",
      "download: s3://wri-projects/Aqueduct30/processData/Y2018M11D29_RH_Hybas6_U_GADM36L01_GPD_PP_V01/output_V07/gdf_union_376.pkl to ../../../../data/Y2018M11D29_RH_Hybas6_U_GADM36L01_GPD_PP_Merge_V01/input_V03/gdf_union_376.pkl\n"
     ]
    },
    {
     "name": "stdout",
     "output_type": "stream",
     "text": [
      "download: s3://wri-projects/Aqueduct30/processData/Y2018M11D29_RH_Hybas6_U_GADM36L01_GPD_PP_V01/output_V07/gdf_union_380.pkl to ../../../../data/Y2018M11D29_RH_Hybas6_U_GADM36L01_GPD_PP_Merge_V01/input_V03/gdf_union_380.pkl\n",
      "download: s3://wri-projects/Aqueduct30/processData/Y2018M11D29_RH_Hybas6_U_GADM36L01_GPD_PP_V01/output_V07/gdf_union_392.pkl to ../../../../data/Y2018M11D29_RH_Hybas6_U_GADM36L01_GPD_PP_Merge_V01/input_V03/gdf_union_392.pkl\n",
      "download: s3://wri-projects/Aqueduct30/processData/Y2018M11D29_RH_Hybas6_U_GADM36L01_GPD_PP_V01/output_V07/gdf_union_389.pkl to ../../../../data/Y2018M11D29_RH_Hybas6_U_GADM36L01_GPD_PP_Merge_V01/input_V03/gdf_union_389.pkl\n",
      "download: s3://wri-projects/Aqueduct30/processData/Y2018M11D29_RH_Hybas6_U_GADM36L01_GPD_PP_V01/output_V07/gdf_union_391.pkl to ../../../../data/Y2018M11D29_RH_Hybas6_U_GADM36L01_GPD_PP_Merge_V01/input_V03/gdf_union_391.pkl\n",
      "download: s3://wri-projects/Aqueduct30/processData/Y2018M11D29_RH_Hybas6_U_GADM36L01_GPD_PP_V01/output_V07/gdf_union_382.pkl to ../../../../data/Y2018M11D29_RH_Hybas6_U_GADM36L01_GPD_PP_Merge_V01/input_V03/gdf_union_382.pkl\n",
      "download: s3://wri-projects/Aqueduct30/processData/Y2018M11D29_RH_Hybas6_U_GADM36L01_GPD_PP_V01/output_V07/gdf_union_394.pkl to ../../../../data/Y2018M11D29_RH_Hybas6_U_GADM36L01_GPD_PP_Merge_V01/input_V03/gdf_union_394.pkl\n",
      "download: s3://wri-projects/Aqueduct30/processData/Y2018M11D29_RH_Hybas6_U_GADM36L01_GPD_PP_V01/output_V07/gdf_union_395.pkl to ../../../../data/Y2018M11D29_RH_Hybas6_U_GADM36L01_GPD_PP_Merge_V01/input_V03/gdf_union_395.pkl\n",
      "download: s3://wri-projects/Aqueduct30/processData/Y2018M11D29_RH_Hybas6_U_GADM36L01_GPD_PP_V01/output_V07/gdf_union_396.pkl to ../../../../data/Y2018M11D29_RH_Hybas6_U_GADM36L01_GPD_PP_Merge_V01/input_V03/gdf_union_396.pkl\n",
      "download: s3://wri-projects/Aqueduct30/processData/Y2018M11D29_RH_Hybas6_U_GADM36L01_GPD_PP_V01/output_V07/gdf_union_387.pkl to ../../../../data/Y2018M11D29_RH_Hybas6_U_GADM36L01_GPD_PP_Merge_V01/input_V03/gdf_union_387.pkl\n",
      "download: s3://wri-projects/Aqueduct30/processData/Y2018M11D29_RH_Hybas6_U_GADM36L01_GPD_PP_V01/output_V07/gdf_union_397.pkl to ../../../../data/Y2018M11D29_RH_Hybas6_U_GADM36L01_GPD_PP_Merge_V01/input_V03/gdf_union_397.pkl\n",
      "download: s3://wri-projects/Aqueduct30/processData/Y2018M11D29_RH_Hybas6_U_GADM36L01_GPD_PP_V01/output_V07/gdf_union_398.pkl to ../../../../data/Y2018M11D29_RH_Hybas6_U_GADM36L01_GPD_PP_Merge_V01/input_V03/gdf_union_398.pkl\n",
      "download: s3://wri-projects/Aqueduct30/processData/Y2018M11D29_RH_Hybas6_U_GADM36L01_GPD_PP_V01/output_V07/gdf_union_388.pkl to ../../../../data/Y2018M11D29_RH_Hybas6_U_GADM36L01_GPD_PP_Merge_V01/input_V03/gdf_union_388.pkl\n",
      "download: s3://wri-projects/Aqueduct30/processData/Y2018M11D29_RH_Hybas6_U_GADM36L01_GPD_PP_V01/output_V07/gdf_union_390.pkl to ../../../../data/Y2018M11D29_RH_Hybas6_U_GADM36L01_GPD_PP_Merge_V01/input_V03/gdf_union_390.pkl\n",
      "download: s3://wri-projects/Aqueduct30/processData/Y2018M11D29_RH_Hybas6_U_GADM36L01_GPD_PP_V01/output_V07/gdf_union_413.pkl to ../../../../data/Y2018M11D29_RH_Hybas6_U_GADM36L01_GPD_PP_Merge_V01/input_V03/gdf_union_413.pkl\n",
      "download: s3://wri-projects/Aqueduct30/processData/Y2018M11D29_RH_Hybas6_U_GADM36L01_GPD_PP_V01/output_V07/gdf_union_412.pkl to ../../../../data/Y2018M11D29_RH_Hybas6_U_GADM36L01_GPD_PP_Merge_V01/input_V03/gdf_union_412.pkl\n",
      "download: s3://wri-projects/Aqueduct30/processData/Y2018M11D29_RH_Hybas6_U_GADM36L01_GPD_PP_V01/output_V07/gdf_union_403.pkl to ../../../../data/Y2018M11D29_RH_Hybas6_U_GADM36L01_GPD_PP_Merge_V01/input_V03/gdf_union_403.pkl\n",
      "download: s3://wri-projects/Aqueduct30/processData/Y2018M11D29_RH_Hybas6_U_GADM36L01_GPD_PP_V01/output_V07/gdf_union_414.pkl to ../../../../data/Y2018M11D29_RH_Hybas6_U_GADM36L01_GPD_PP_Merge_V01/input_V03/gdf_union_414.pkl\n",
      "download: s3://wri-projects/Aqueduct30/processData/Y2018M11D29_RH_Hybas6_U_GADM36L01_GPD_PP_V01/output_V07/gdf_union_402.pkl to ../../../../data/Y2018M11D29_RH_Hybas6_U_GADM36L01_GPD_PP_Merge_V01/input_V03/gdf_union_402.pkl\n",
      "download: s3://wri-projects/Aqueduct30/processData/Y2018M11D29_RH_Hybas6_U_GADM36L01_GPD_PP_V01/output_V07/gdf_union_416.pkl to ../../../../data/Y2018M11D29_RH_Hybas6_U_GADM36L01_GPD_PP_Merge_V01/input_V03/gdf_union_416.pkl\n",
      "download: s3://wri-projects/Aqueduct30/processData/Y2018M11D29_RH_Hybas6_U_GADM36L01_GPD_PP_V01/output_V07/gdf_union_404.pkl to ../../../../data/Y2018M11D29_RH_Hybas6_U_GADM36L01_GPD_PP_Merge_V01/input_V03/gdf_union_404.pkl\n",
      "download: s3://wri-projects/Aqueduct30/processData/Y2018M11D29_RH_Hybas6_U_GADM36L01_GPD_PP_V01/output_V07/gdf_union_415.pkl to ../../../../data/Y2018M11D29_RH_Hybas6_U_GADM36L01_GPD_PP_Merge_V01/input_V03/gdf_union_415.pkl\n",
      "download: s3://wri-projects/Aqueduct30/processData/Y2018M11D29_RH_Hybas6_U_GADM36L01_GPD_PP_V01/output_V07/gdf_union_405.pkl to ../../../../data/Y2018M11D29_RH_Hybas6_U_GADM36L01_GPD_PP_Merge_V01/input_V03/gdf_union_405.pkl\n",
      "download: s3://wri-projects/Aqueduct30/processData/Y2018M11D29_RH_Hybas6_U_GADM36L01_GPD_PP_V01/output_V07/gdf_union_406.pkl to ../../../../data/Y2018M11D29_RH_Hybas6_U_GADM36L01_GPD_PP_Merge_V01/input_V03/gdf_union_406.pkl\n",
      "download: s3://wri-projects/Aqueduct30/processData/Y2018M11D29_RH_Hybas6_U_GADM36L01_GPD_PP_V01/output_V07/gdf_union_418.pkl to ../../../../data/Y2018M11D29_RH_Hybas6_U_GADM36L01_GPD_PP_Merge_V01/input_V03/gdf_union_418.pkl\n",
      "download: s3://wri-projects/Aqueduct30/processData/Y2018M11D29_RH_Hybas6_U_GADM36L01_GPD_PP_V01/output_V07/gdf_union_427.pkl to ../../../../data/Y2018M11D29_RH_Hybas6_U_GADM36L01_GPD_PP_Merge_V01/input_V03/gdf_union_427.pkl\n",
      "download: s3://wri-projects/Aqueduct30/processData/Y2018M11D29_RH_Hybas6_U_GADM36L01_GPD_PP_V01/output_V07/gdf_union_421.pkl to ../../../../data/Y2018M11D29_RH_Hybas6_U_GADM36L01_GPD_PP_Merge_V01/input_V03/gdf_union_421.pkl\n",
      "download: s3://wri-projects/Aqueduct30/processData/Y2018M11D29_RH_Hybas6_U_GADM36L01_GPD_PP_V01/output_V07/gdf_union_420.pkl to ../../../../data/Y2018M11D29_RH_Hybas6_U_GADM36L01_GPD_PP_Merge_V01/input_V03/gdf_union_420.pkl\n",
      "download: s3://wri-projects/Aqueduct30/processData/Y2018M11D29_RH_Hybas6_U_GADM36L01_GPD_PP_V01/output_V07/gdf_union_417.pkl to ../../../../data/Y2018M11D29_RH_Hybas6_U_GADM36L01_GPD_PP_Merge_V01/input_V03/gdf_union_417.pkl\n",
      "download: s3://wri-projects/Aqueduct30/processData/Y2018M11D29_RH_Hybas6_U_GADM36L01_GPD_PP_V01/output_V07/gdf_union_424.pkl to ../../../../data/Y2018M11D29_RH_Hybas6_U_GADM36L01_GPD_PP_Merge_V01/input_V03/gdf_union_424.pkl\n",
      "download: s3://wri-projects/Aqueduct30/processData/Y2018M11D29_RH_Hybas6_U_GADM36L01_GPD_PP_V01/output_V07/gdf_union_428.pkl to ../../../../data/Y2018M11D29_RH_Hybas6_U_GADM36L01_GPD_PP_Merge_V01/input_V03/gdf_union_428.pkl\n",
      "download: s3://wri-projects/Aqueduct30/processData/Y2018M11D29_RH_Hybas6_U_GADM36L01_GPD_PP_V01/output_V07/gdf_union_429.pkl to ../../../../data/Y2018M11D29_RH_Hybas6_U_GADM36L01_GPD_PP_Merge_V01/input_V03/gdf_union_429.pkl\n",
      "download: s3://wri-projects/Aqueduct30/processData/Y2018M11D29_RH_Hybas6_U_GADM36L01_GPD_PP_V01/output_V07/gdf_union_419.pkl to ../../../../data/Y2018M11D29_RH_Hybas6_U_GADM36L01_GPD_PP_Merge_V01/input_V03/gdf_union_419.pkl\n",
      "download: s3://wri-projects/Aqueduct30/processData/Y2018M11D29_RH_Hybas6_U_GADM36L01_GPD_PP_V01/output_V07/gdf_union_423.pkl to ../../../../data/Y2018M11D29_RH_Hybas6_U_GADM36L01_GPD_PP_Merge_V01/input_V03/gdf_union_423.pkl\n",
      "download: s3://wri-projects/Aqueduct30/processData/Y2018M11D29_RH_Hybas6_U_GADM36L01_GPD_PP_V01/output_V07/gdf_union_437.pkl to ../../../../data/Y2018M11D29_RH_Hybas6_U_GADM36L01_GPD_PP_Merge_V01/input_V03/gdf_union_437.pkl\n",
      "download: s3://wri-projects/Aqueduct30/processData/Y2018M11D29_RH_Hybas6_U_GADM36L01_GPD_PP_V01/output_V07/gdf_union_439.pkl to ../../../../data/Y2018M11D29_RH_Hybas6_U_GADM36L01_GPD_PP_Merge_V01/input_V03/gdf_union_439.pkl\n",
      "download: s3://wri-projects/Aqueduct30/processData/Y2018M11D29_RH_Hybas6_U_GADM36L01_GPD_PP_V01/output_V07/gdf_union_422.pkl to ../../../../data/Y2018M11D29_RH_Hybas6_U_GADM36L01_GPD_PP_Merge_V01/input_V03/gdf_union_422.pkl\n",
      "download: s3://wri-projects/Aqueduct30/processData/Y2018M11D29_RH_Hybas6_U_GADM36L01_GPD_PP_V01/output_V07/gdf_union_443.pkl to ../../../../data/Y2018M11D29_RH_Hybas6_U_GADM36L01_GPD_PP_Merge_V01/input_V03/gdf_union_443.pkl\n"
     ]
    },
    {
     "name": "stdout",
     "output_type": "stream",
     "text": [
      "download: s3://wri-projects/Aqueduct30/processData/Y2018M11D29_RH_Hybas6_U_GADM36L01_GPD_PP_V01/output_V07/gdf_union_446.pkl to ../../../../data/Y2018M11D29_RH_Hybas6_U_GADM36L01_GPD_PP_Merge_V01/input_V03/gdf_union_446.pkl\n",
      "download: s3://wri-projects/Aqueduct30/processData/Y2018M11D29_RH_Hybas6_U_GADM36L01_GPD_PP_V01/output_V07/gdf_union_438.pkl to ../../../../data/Y2018M11D29_RH_Hybas6_U_GADM36L01_GPD_PP_Merge_V01/input_V03/gdf_union_438.pkl\n",
      "download: s3://wri-projects/Aqueduct30/processData/Y2018M11D29_RH_Hybas6_U_GADM36L01_GPD_PP_V01/output_V07/gdf_union_425.pkl to ../../../../data/Y2018M11D29_RH_Hybas6_U_GADM36L01_GPD_PP_Merge_V01/input_V03/gdf_union_425.pkl\n",
      "download: s3://wri-projects/Aqueduct30/processData/Y2018M11D29_RH_Hybas6_U_GADM36L01_GPD_PP_V01/output_V07/gdf_union_447.pkl to ../../../../data/Y2018M11D29_RH_Hybas6_U_GADM36L01_GPD_PP_Merge_V01/input_V03/gdf_union_447.pkl\n",
      "download: s3://wri-projects/Aqueduct30/processData/Y2018M11D29_RH_Hybas6_U_GADM36L01_GPD_PP_V01/output_V07/gdf_union_440.pkl to ../../../../data/Y2018M11D29_RH_Hybas6_U_GADM36L01_GPD_PP_Merge_V01/input_V03/gdf_union_440.pkl\n",
      "download: s3://wri-projects/Aqueduct30/processData/Y2018M11D29_RH_Hybas6_U_GADM36L01_GPD_PP_V01/output_V07/gdf_union_448.pkl to ../../../../data/Y2018M11D29_RH_Hybas6_U_GADM36L01_GPD_PP_Merge_V01/input_V03/gdf_union_448.pkl\n",
      "download: s3://wri-projects/Aqueduct30/processData/Y2018M11D29_RH_Hybas6_U_GADM36L01_GPD_PP_V01/output_V07/gdf_union_441.pkl to ../../../../data/Y2018M11D29_RH_Hybas6_U_GADM36L01_GPD_PP_Merge_V01/input_V03/gdf_union_441.pkl\n",
      "download: s3://wri-projects/Aqueduct30/processData/Y2018M11D29_RH_Hybas6_U_GADM36L01_GPD_PP_V01/output_V07/gdf_union_426.pkl to ../../../../data/Y2018M11D29_RH_Hybas6_U_GADM36L01_GPD_PP_Merge_V01/input_V03/gdf_union_426.pkl\n",
      "download: s3://wri-projects/Aqueduct30/processData/Y2018M11D29_RH_Hybas6_U_GADM36L01_GPD_PP_V01/output_V07/gdf_union_455.pkl to ../../../../data/Y2018M11D29_RH_Hybas6_U_GADM36L01_GPD_PP_Merge_V01/input_V03/gdf_union_455.pkl\n",
      "download: s3://wri-projects/Aqueduct30/processData/Y2018M11D29_RH_Hybas6_U_GADM36L01_GPD_PP_V01/output_V07/gdf_union_454.pkl to ../../../../data/Y2018M11D29_RH_Hybas6_U_GADM36L01_GPD_PP_Merge_V01/input_V03/gdf_union_454.pkl\n",
      "download: s3://wri-projects/Aqueduct30/processData/Y2018M11D29_RH_Hybas6_U_GADM36L01_GPD_PP_V01/output_V07/gdf_union_442.pkl to ../../../../data/Y2018M11D29_RH_Hybas6_U_GADM36L01_GPD_PP_Merge_V01/input_V03/gdf_union_442.pkl\n",
      "download: s3://wri-projects/Aqueduct30/processData/Y2018M11D29_RH_Hybas6_U_GADM36L01_GPD_PP_V01/output_V07/gdf_union_450.pkl to ../../../../data/Y2018M11D29_RH_Hybas6_U_GADM36L01_GPD_PP_Merge_V01/input_V03/gdf_union_450.pkl\n",
      "download: s3://wri-projects/Aqueduct30/processData/Y2018M11D29_RH_Hybas6_U_GADM36L01_GPD_PP_V01/output_V07/gdf_union_451.pkl to ../../../../data/Y2018M11D29_RH_Hybas6_U_GADM36L01_GPD_PP_Merge_V01/input_V03/gdf_union_451.pkl\n",
      "download: s3://wri-projects/Aqueduct30/processData/Y2018M11D29_RH_Hybas6_U_GADM36L01_GPD_PP_V01/output_V07/gdf_union_449.pkl to ../../../../data/Y2018M11D29_RH_Hybas6_U_GADM36L01_GPD_PP_Merge_V01/input_V03/gdf_union_449.pkl\n",
      "download: s3://wri-projects/Aqueduct30/processData/Y2018M11D29_RH_Hybas6_U_GADM36L01_GPD_PP_V01/output_V07/gdf_union_453.pkl to ../../../../data/Y2018M11D29_RH_Hybas6_U_GADM36L01_GPD_PP_Merge_V01/input_V03/gdf_union_453.pkl\n",
      "download: s3://wri-projects/Aqueduct30/processData/Y2018M11D29_RH_Hybas6_U_GADM36L01_GPD_PP_V01/output_V07/gdf_union_458.pkl to ../../../../data/Y2018M11D29_RH_Hybas6_U_GADM36L01_GPD_PP_Merge_V01/input_V03/gdf_union_458.pkl\n",
      "download: s3://wri-projects/Aqueduct30/processData/Y2018M11D29_RH_Hybas6_U_GADM36L01_GPD_PP_V01/output_V07/gdf_union_456.pkl to ../../../../data/Y2018M11D29_RH_Hybas6_U_GADM36L01_GPD_PP_Merge_V01/input_V03/gdf_union_456.pkl\n",
      "download: s3://wri-projects/Aqueduct30/processData/Y2018M11D29_RH_Hybas6_U_GADM36L01_GPD_PP_V01/output_V07/gdf_union_457.pkl to ../../../../data/Y2018M11D29_RH_Hybas6_U_GADM36L01_GPD_PP_Merge_V01/input_V03/gdf_union_457.pkl\n",
      "download: s3://wri-projects/Aqueduct30/processData/Y2018M11D29_RH_Hybas6_U_GADM36L01_GPD_PP_V01/output_V07/gdf_union_459.pkl to ../../../../data/Y2018M11D29_RH_Hybas6_U_GADM36L01_GPD_PP_Merge_V01/input_V03/gdf_union_459.pkl\n",
      "download: s3://wri-projects/Aqueduct30/processData/Y2018M11D29_RH_Hybas6_U_GADM36L01_GPD_PP_V01/output_V07/gdf_union_464.pkl to ../../../../data/Y2018M11D29_RH_Hybas6_U_GADM36L01_GPD_PP_Merge_V01/input_V03/gdf_union_464.pkl\n",
      "download: s3://wri-projects/Aqueduct30/processData/Y2018M11D29_RH_Hybas6_U_GADM36L01_GPD_PP_V01/output_V07/gdf_union_452.pkl to ../../../../data/Y2018M11D29_RH_Hybas6_U_GADM36L01_GPD_PP_Merge_V01/input_V03/gdf_union_452.pkl\n",
      "download: s3://wri-projects/Aqueduct30/processData/Y2018M11D29_RH_Hybas6_U_GADM36L01_GPD_PP_V01/output_V07/gdf_union_460.pkl to ../../../../data/Y2018M11D29_RH_Hybas6_U_GADM36L01_GPD_PP_Merge_V01/input_V03/gdf_union_460.pkl\n",
      "download: s3://wri-projects/Aqueduct30/processData/Y2018M11D29_RH_Hybas6_U_GADM36L01_GPD_PP_V01/output_V07/gdf_union_474.pkl to ../../../../data/Y2018M11D29_RH_Hybas6_U_GADM36L01_GPD_PP_Merge_V01/input_V03/gdf_union_474.pkl\n",
      "download: s3://wri-projects/Aqueduct30/processData/Y2018M11D29_RH_Hybas6_U_GADM36L01_GPD_PP_V01/output_V07/gdf_union_475.pkl to ../../../../data/Y2018M11D29_RH_Hybas6_U_GADM36L01_GPD_PP_Merge_V01/input_V03/gdf_union_475.pkl\n",
      "download: s3://wri-projects/Aqueduct30/processData/Y2018M11D29_RH_Hybas6_U_GADM36L01_GPD_PP_V01/output_V07/gdf_union_461.pkl to ../../../../data/Y2018M11D29_RH_Hybas6_U_GADM36L01_GPD_PP_Merge_V01/input_V03/gdf_union_461.pkl\n",
      "download: s3://wri-projects/Aqueduct30/processData/Y2018M11D29_RH_Hybas6_U_GADM36L01_GPD_PP_V01/output_V07/gdf_union_476.pkl to ../../../../data/Y2018M11D29_RH_Hybas6_U_GADM36L01_GPD_PP_Merge_V01/input_V03/gdf_union_476.pkl\n",
      "download: s3://wri-projects/Aqueduct30/processData/Y2018M11D29_RH_Hybas6_U_GADM36L01_GPD_PP_V01/output_V07/gdf_union_477.pkl to ../../../../data/Y2018M11D29_RH_Hybas6_U_GADM36L01_GPD_PP_Merge_V01/input_V03/gdf_union_477.pkl\n",
      "download: s3://wri-projects/Aqueduct30/processData/Y2018M11D29_RH_Hybas6_U_GADM36L01_GPD_PP_V01/output_V07/gdf_union_463.pkl to ../../../../data/Y2018M11D29_RH_Hybas6_U_GADM36L01_GPD_PP_Merge_V01/input_V03/gdf_union_463.pkl\n",
      "download: s3://wri-projects/Aqueduct30/processData/Y2018M11D29_RH_Hybas6_U_GADM36L01_GPD_PP_V01/output_V07/gdf_union_473.pkl to ../../../../data/Y2018M11D29_RH_Hybas6_U_GADM36L01_GPD_PP_Merge_V01/input_V03/gdf_union_473.pkl\n",
      "download: s3://wri-projects/Aqueduct30/processData/Y2018M11D29_RH_Hybas6_U_GADM36L01_GPD_PP_V01/output_V07/gdf_union_462.pkl to ../../../../data/Y2018M11D29_RH_Hybas6_U_GADM36L01_GPD_PP_Merge_V01/input_V03/gdf_union_462.pkl\n",
      "download: s3://wri-projects/Aqueduct30/processData/Y2018M11D29_RH_Hybas6_U_GADM36L01_GPD_PP_V01/output_V07/gdf_union_478.pkl to ../../../../data/Y2018M11D29_RH_Hybas6_U_GADM36L01_GPD_PP_Merge_V01/input_V03/gdf_union_478.pkl\n",
      "download: s3://wri-projects/Aqueduct30/processData/Y2018M11D29_RH_Hybas6_U_GADM36L01_GPD_PP_V01/output_V07/gdf_union_479.pkl to ../../../../data/Y2018M11D29_RH_Hybas6_U_GADM36L01_GPD_PP_Merge_V01/input_V03/gdf_union_479.pkl\n",
      "download: s3://wri-projects/Aqueduct30/processData/Y2018M11D29_RH_Hybas6_U_GADM36L01_GPD_PP_V01/output_V07/gdf_union_486.pkl to ../../../../data/Y2018M11D29_RH_Hybas6_U_GADM36L01_GPD_PP_Merge_V01/input_V03/gdf_union_486.pkl\n",
      "download: s3://wri-projects/Aqueduct30/processData/Y2018M11D29_RH_Hybas6_U_GADM36L01_GPD_PP_V01/output_V07/gdf_union_485.pkl to ../../../../data/Y2018M11D29_RH_Hybas6_U_GADM36L01_GPD_PP_Merge_V01/input_V03/gdf_union_485.pkl\n",
      "download: s3://wri-projects/Aqueduct30/processData/Y2018M11D29_RH_Hybas6_U_GADM36L01_GPD_PP_V01/output_V07/gdf_union_490.pkl to ../../../../data/Y2018M11D29_RH_Hybas6_U_GADM36L01_GPD_PP_Merge_V01/input_V03/gdf_union_490.pkl\n",
      "download: s3://wri-projects/Aqueduct30/processData/Y2018M11D29_RH_Hybas6_U_GADM36L01_GPD_PP_V01/output_V07/gdf_union_492.pkl to ../../../../data/Y2018M11D29_RH_Hybas6_U_GADM36L01_GPD_PP_Merge_V01/input_V03/gdf_union_492.pkl\n",
      "download: s3://wri-projects/Aqueduct30/processData/Y2018M11D29_RH_Hybas6_U_GADM36L01_GPD_PP_V01/output_V07/gdf_union_491.pkl to ../../../../data/Y2018M11D29_RH_Hybas6_U_GADM36L01_GPD_PP_Merge_V01/input_V03/gdf_union_491.pkl\n"
     ]
    },
    {
     "name": "stdout",
     "output_type": "stream",
     "text": [
      "download: s3://wri-projects/Aqueduct30/processData/Y2018M11D29_RH_Hybas6_U_GADM36L01_GPD_PP_V01/output_V07/gdf_union_493.pkl to ../../../../data/Y2018M11D29_RH_Hybas6_U_GADM36L01_GPD_PP_Merge_V01/input_V03/gdf_union_493.pkl\n",
      "download: s3://wri-projects/Aqueduct30/processData/Y2018M11D29_RH_Hybas6_U_GADM36L01_GPD_PP_V01/output_V07/gdf_union_489.pkl to ../../../../data/Y2018M11D29_RH_Hybas6_U_GADM36L01_GPD_PP_Merge_V01/input_V03/gdf_union_489.pkl\n",
      "download: s3://wri-projects/Aqueduct30/processData/Y2018M11D29_RH_Hybas6_U_GADM36L01_GPD_PP_V01/output_V07/gdf_union_487.pkl to ../../../../data/Y2018M11D29_RH_Hybas6_U_GADM36L01_GPD_PP_Merge_V01/input_V03/gdf_union_487.pkl\n",
      "download: s3://wri-projects/Aqueduct30/processData/Y2018M11D29_RH_Hybas6_U_GADM36L01_GPD_PP_V01/output_V07/gdf_union_494.pkl to ../../../../data/Y2018M11D29_RH_Hybas6_U_GADM36L01_GPD_PP_Merge_V01/input_V03/gdf_union_494.pkl\n",
      "download: s3://wri-projects/Aqueduct30/processData/Y2018M11D29_RH_Hybas6_U_GADM36L01_GPD_PP_V01/output_V07/gdf_union_495.pkl to ../../../../data/Y2018M11D29_RH_Hybas6_U_GADM36L01_GPD_PP_Merge_V01/input_V03/gdf_union_495.pkl\n",
      "download: s3://wri-projects/Aqueduct30/processData/Y2018M11D29_RH_Hybas6_U_GADM36L01_GPD_PP_V01/output_V07/gdf_union_496.pkl to ../../../../data/Y2018M11D29_RH_Hybas6_U_GADM36L01_GPD_PP_Merge_V01/input_V03/gdf_union_496.pkl\n",
      "download: s3://wri-projects/Aqueduct30/processData/Y2018M11D29_RH_Hybas6_U_GADM36L01_GPD_PP_V01/output_V07/gdf_union_497.pkl to ../../../../data/Y2018M11D29_RH_Hybas6_U_GADM36L01_GPD_PP_Merge_V01/input_V03/gdf_union_497.pkl\n",
      "download: s3://wri-projects/Aqueduct30/processData/Y2018M11D29_RH_Hybas6_U_GADM36L01_GPD_PP_V01/output_V07/gdf_union_480.pkl to ../../../../data/Y2018M11D29_RH_Hybas6_U_GADM36L01_GPD_PP_Merge_V01/input_V03/gdf_union_480.pkl\n",
      "download: s3://wri-projects/Aqueduct30/processData/Y2018M11D29_RH_Hybas6_U_GADM36L01_GPD_PP_V01/output_V07/gdf_union_504.pkl to ../../../../data/Y2018M11D29_RH_Hybas6_U_GADM36L01_GPD_PP_Merge_V01/input_V03/gdf_union_504.pkl\n",
      "download: s3://wri-projects/Aqueduct30/processData/Y2018M11D29_RH_Hybas6_U_GADM36L01_GPD_PP_V01/output_V07/gdf_union_501.pkl to ../../../../data/Y2018M11D29_RH_Hybas6_U_GADM36L01_GPD_PP_Merge_V01/input_V03/gdf_union_501.pkl\n",
      "download: s3://wri-projects/Aqueduct30/processData/Y2018M11D29_RH_Hybas6_U_GADM36L01_GPD_PP_V01/output_V07/gdf_union_488.pkl to ../../../../data/Y2018M11D29_RH_Hybas6_U_GADM36L01_GPD_PP_Merge_V01/input_V03/gdf_union_488.pkl\n",
      "download: s3://wri-projects/Aqueduct30/processData/Y2018M11D29_RH_Hybas6_U_GADM36L01_GPD_PP_V01/output_V07/gdf_union_498.pkl to ../../../../data/Y2018M11D29_RH_Hybas6_U_GADM36L01_GPD_PP_Merge_V01/input_V03/gdf_union_498.pkl\n",
      "download: s3://wri-projects/Aqueduct30/processData/Y2018M11D29_RH_Hybas6_U_GADM36L01_GPD_PP_V01/output_V07/gdf_union_507.pkl to ../../../../data/Y2018M11D29_RH_Hybas6_U_GADM36L01_GPD_PP_Merge_V01/input_V03/gdf_union_507.pkl\n",
      "download: s3://wri-projects/Aqueduct30/processData/Y2018M11D29_RH_Hybas6_U_GADM36L01_GPD_PP_V01/output_V07/gdf_union_505.pkl to ../../../../data/Y2018M11D29_RH_Hybas6_U_GADM36L01_GPD_PP_Merge_V01/input_V03/gdf_union_505.pkl\n",
      "download: s3://wri-projects/Aqueduct30/processData/Y2018M11D29_RH_Hybas6_U_GADM36L01_GPD_PP_V01/output_V07/gdf_union_510.pkl to ../../../../data/Y2018M11D29_RH_Hybas6_U_GADM36L01_GPD_PP_Merge_V01/input_V03/gdf_union_510.pkl\n",
      "download: s3://wri-projects/Aqueduct30/processData/Y2018M11D29_RH_Hybas6_U_GADM36L01_GPD_PP_V01/output_V07/gdf_union_506.pkl to ../../../../data/Y2018M11D29_RH_Hybas6_U_GADM36L01_GPD_PP_Merge_V01/input_V03/gdf_union_506.pkl\n",
      "download: s3://wri-projects/Aqueduct30/processData/Y2018M11D29_RH_Hybas6_U_GADM36L01_GPD_PP_V01/output_V07/gdf_union_511.pkl to ../../../../data/Y2018M11D29_RH_Hybas6_U_GADM36L01_GPD_PP_Merge_V01/input_V03/gdf_union_511.pkl\n",
      "download: s3://wri-projects/Aqueduct30/processData/Y2018M11D29_RH_Hybas6_U_GADM36L01_GPD_PP_V01/output_V07/gdf_union_499.pkl to ../../../../data/Y2018M11D29_RH_Hybas6_U_GADM36L01_GPD_PP_Merge_V01/input_V03/gdf_union_499.pkl\n",
      "download: s3://wri-projects/Aqueduct30/processData/Y2018M11D29_RH_Hybas6_U_GADM36L01_GPD_PP_V01/output_V07/gdf_union_514.pkl to ../../../../data/Y2018M11D29_RH_Hybas6_U_GADM36L01_GPD_PP_Merge_V01/input_V03/gdf_union_514.pkl\n",
      "download: s3://wri-projects/Aqueduct30/processData/Y2018M11D29_RH_Hybas6_U_GADM36L01_GPD_PP_V01/output_V07/gdf_union_500.pkl to ../../../../data/Y2018M11D29_RH_Hybas6_U_GADM36L01_GPD_PP_Merge_V01/input_V03/gdf_union_500.pkl\n",
      "download: s3://wri-projects/Aqueduct30/processData/Y2018M11D29_RH_Hybas6_U_GADM36L01_GPD_PP_V01/output_V07/gdf_union_512.pkl to ../../../../data/Y2018M11D29_RH_Hybas6_U_GADM36L01_GPD_PP_Merge_V01/input_V03/gdf_union_512.pkl\n",
      "download: s3://wri-projects/Aqueduct30/processData/Y2018M11D29_RH_Hybas6_U_GADM36L01_GPD_PP_V01/output_V07/gdf_union_508.pkl to ../../../../data/Y2018M11D29_RH_Hybas6_U_GADM36L01_GPD_PP_Merge_V01/input_V03/gdf_union_508.pkl\n",
      "download: s3://wri-projects/Aqueduct30/processData/Y2018M11D29_RH_Hybas6_U_GADM36L01_GPD_PP_V01/output_V07/gdf_union_513.pkl to ../../../../data/Y2018M11D29_RH_Hybas6_U_GADM36L01_GPD_PP_Merge_V01/input_V03/gdf_union_513.pkl\n",
      "download: s3://wri-projects/Aqueduct30/processData/Y2018M11D29_RH_Hybas6_U_GADM36L01_GPD_PP_V01/output_V07/gdf_union_515.pkl to ../../../../data/Y2018M11D29_RH_Hybas6_U_GADM36L01_GPD_PP_Merge_V01/input_V03/gdf_union_515.pkl\n",
      "download: s3://wri-projects/Aqueduct30/processData/Y2018M11D29_RH_Hybas6_U_GADM36L01_GPD_PP_V01/output_V07/gdf_union_517.pkl to ../../../../data/Y2018M11D29_RH_Hybas6_U_GADM36L01_GPD_PP_Merge_V01/input_V03/gdf_union_517.pkl\n",
      "download: s3://wri-projects/Aqueduct30/processData/Y2018M11D29_RH_Hybas6_U_GADM36L01_GPD_PP_V01/output_V07/gdf_union_520.pkl to ../../../../data/Y2018M11D29_RH_Hybas6_U_GADM36L01_GPD_PP_Merge_V01/input_V03/gdf_union_520.pkl\n",
      "download: s3://wri-projects/Aqueduct30/processData/Y2018M11D29_RH_Hybas6_U_GADM36L01_GPD_PP_V01/output_V07/gdf_union_525.pkl to ../../../../data/Y2018M11D29_RH_Hybas6_U_GADM36L01_GPD_PP_Merge_V01/input_V03/gdf_union_525.pkl\n",
      "download: s3://wri-projects/Aqueduct30/processData/Y2018M11D29_RH_Hybas6_U_GADM36L01_GPD_PP_V01/output_V07/gdf_union_509.pkl to ../../../../data/Y2018M11D29_RH_Hybas6_U_GADM36L01_GPD_PP_Merge_V01/input_V03/gdf_union_509.pkl\n",
      "download: s3://wri-projects/Aqueduct30/processData/Y2018M11D29_RH_Hybas6_U_GADM36L01_GPD_PP_V01/output_V07/gdf_union_526.pkl to ../../../../data/Y2018M11D29_RH_Hybas6_U_GADM36L01_GPD_PP_Merge_V01/input_V03/gdf_union_526.pkl\n",
      "download: s3://wri-projects/Aqueduct30/processData/Y2018M11D29_RH_Hybas6_U_GADM36L01_GPD_PP_V01/output_V07/gdf_union_516.pkl to ../../../../data/Y2018M11D29_RH_Hybas6_U_GADM36L01_GPD_PP_Merge_V01/input_V03/gdf_union_516.pkl\n",
      "download: s3://wri-projects/Aqueduct30/processData/Y2018M11D29_RH_Hybas6_U_GADM36L01_GPD_PP_V01/output_V07/gdf_union_527.pkl to ../../../../data/Y2018M11D29_RH_Hybas6_U_GADM36L01_GPD_PP_Merge_V01/input_V03/gdf_union_527.pkl\n",
      "download: s3://wri-projects/Aqueduct30/processData/Y2018M11D29_RH_Hybas6_U_GADM36L01_GPD_PP_V01/output_V07/gdf_union_528.pkl to ../../../../data/Y2018M11D29_RH_Hybas6_U_GADM36L01_GPD_PP_Merge_V01/input_V03/gdf_union_528.pkl\n",
      "download: s3://wri-projects/Aqueduct30/processData/Y2018M11D29_RH_Hybas6_U_GADM36L01_GPD_PP_V01/output_V07/gdf_union_522.pkl to ../../../../data/Y2018M11D29_RH_Hybas6_U_GADM36L01_GPD_PP_Merge_V01/input_V03/gdf_union_522.pkl\n",
      "download: s3://wri-projects/Aqueduct30/processData/Y2018M11D29_RH_Hybas6_U_GADM36L01_GPD_PP_V01/output_V07/gdf_union_521.pkl to ../../../../data/Y2018M11D29_RH_Hybas6_U_GADM36L01_GPD_PP_Merge_V01/input_V03/gdf_union_521.pkl\n",
      "download: s3://wri-projects/Aqueduct30/processData/Y2018M11D29_RH_Hybas6_U_GADM36L01_GPD_PP_V01/output_V07/gdf_union_530.pkl to ../../../../data/Y2018M11D29_RH_Hybas6_U_GADM36L01_GPD_PP_Merge_V01/input_V03/gdf_union_530.pkl\n",
      "download: s3://wri-projects/Aqueduct30/processData/Y2018M11D29_RH_Hybas6_U_GADM36L01_GPD_PP_V01/output_V07/gdf_union_531.pkl to ../../../../data/Y2018M11D29_RH_Hybas6_U_GADM36L01_GPD_PP_Merge_V01/input_V03/gdf_union_531.pkl\n",
      "download: s3://wri-projects/Aqueduct30/processData/Y2018M11D29_RH_Hybas6_U_GADM36L01_GPD_PP_V01/output_V07/gdf_union_529.pkl to ../../../../data/Y2018M11D29_RH_Hybas6_U_GADM36L01_GPD_PP_Merge_V01/input_V03/gdf_union_529.pkl\n",
      "download: s3://wri-projects/Aqueduct30/processData/Y2018M11D29_RH_Hybas6_U_GADM36L01_GPD_PP_V01/output_V07/gdf_union_532.pkl to ../../../../data/Y2018M11D29_RH_Hybas6_U_GADM36L01_GPD_PP_Merge_V01/input_V03/gdf_union_532.pkl\n",
      "download: s3://wri-projects/Aqueduct30/processData/Y2018M11D29_RH_Hybas6_U_GADM36L01_GPD_PP_V01/output_V07/gdf_union_533.pkl to ../../../../data/Y2018M11D29_RH_Hybas6_U_GADM36L01_GPD_PP_Merge_V01/input_V03/gdf_union_533.pkl\n"
     ]
    },
    {
     "name": "stdout",
     "output_type": "stream",
     "text": [
      "download: s3://wri-projects/Aqueduct30/processData/Y2018M11D29_RH_Hybas6_U_GADM36L01_GPD_PP_V01/output_V07/gdf_union_534.pkl to ../../../../data/Y2018M11D29_RH_Hybas6_U_GADM36L01_GPD_PP_Merge_V01/input_V03/gdf_union_534.pkl\n",
      "download: s3://wri-projects/Aqueduct30/processData/Y2018M11D29_RH_Hybas6_U_GADM36L01_GPD_PP_V01/output_V07/gdf_union_539.pkl to ../../../../data/Y2018M11D29_RH_Hybas6_U_GADM36L01_GPD_PP_Merge_V01/input_V03/gdf_union_539.pkl\n",
      "download: s3://wri-projects/Aqueduct30/processData/Y2018M11D29_RH_Hybas6_U_GADM36L01_GPD_PP_V01/output_V07/gdf_union_535.pkl to ../../../../data/Y2018M11D29_RH_Hybas6_U_GADM36L01_GPD_PP_Merge_V01/input_V03/gdf_union_535.pkl\n",
      "download: s3://wri-projects/Aqueduct30/processData/Y2018M11D29_RH_Hybas6_U_GADM36L01_GPD_PP_V01/output_V07/gdf_union_524.pkl to ../../../../data/Y2018M11D29_RH_Hybas6_U_GADM36L01_GPD_PP_Merge_V01/input_V03/gdf_union_524.pkl\n",
      "download: s3://wri-projects/Aqueduct30/processData/Y2018M11D29_RH_Hybas6_U_GADM36L01_GPD_PP_V01/output_V07/gdf_union_542.pkl to ../../../../data/Y2018M11D29_RH_Hybas6_U_GADM36L01_GPD_PP_Merge_V01/input_V03/gdf_union_542.pkl\n",
      "download: s3://wri-projects/Aqueduct30/processData/Y2018M11D29_RH_Hybas6_U_GADM36L01_GPD_PP_V01/output_V07/gdf_union_537.pkl to ../../../../data/Y2018M11D29_RH_Hybas6_U_GADM36L01_GPD_PP_Merge_V01/input_V03/gdf_union_537.pkl\n",
      "download: s3://wri-projects/Aqueduct30/processData/Y2018M11D29_RH_Hybas6_U_GADM36L01_GPD_PP_V01/output_V07/gdf_union_536.pkl to ../../../../data/Y2018M11D29_RH_Hybas6_U_GADM36L01_GPD_PP_Merge_V01/input_V03/gdf_union_536.pkl\n",
      "download: s3://wri-projects/Aqueduct30/processData/Y2018M11D29_RH_Hybas6_U_GADM36L01_GPD_PP_V01/output_V07/gdf_union_540.pkl to ../../../../data/Y2018M11D29_RH_Hybas6_U_GADM36L01_GPD_PP_Merge_V01/input_V03/gdf_union_540.pkl\n",
      "download: s3://wri-projects/Aqueduct30/processData/Y2018M11D29_RH_Hybas6_U_GADM36L01_GPD_PP_V01/output_V07/gdf_union_543.pkl to ../../../../data/Y2018M11D29_RH_Hybas6_U_GADM36L01_GPD_PP_Merge_V01/input_V03/gdf_union_543.pkl\n",
      "download: s3://wri-projects/Aqueduct30/processData/Y2018M11D29_RH_Hybas6_U_GADM36L01_GPD_PP_V01/output_V07/gdf_union_523.pkl to ../../../../data/Y2018M11D29_RH_Hybas6_U_GADM36L01_GPD_PP_Merge_V01/input_V03/gdf_union_523.pkl\n",
      "download: s3://wri-projects/Aqueduct30/processData/Y2018M11D29_RH_Hybas6_U_GADM36L01_GPD_PP_V01/output_V07/gdf_union_544.pkl to ../../../../data/Y2018M11D29_RH_Hybas6_U_GADM36L01_GPD_PP_Merge_V01/input_V03/gdf_union_544.pkl\n",
      "download: s3://wri-projects/Aqueduct30/processData/Y2018M11D29_RH_Hybas6_U_GADM36L01_GPD_PP_V01/output_V07/gdf_union_545.pkl to ../../../../data/Y2018M11D29_RH_Hybas6_U_GADM36L01_GPD_PP_Merge_V01/input_V03/gdf_union_545.pkl\n",
      "download: s3://wri-projects/Aqueduct30/processData/Y2018M11D29_RH_Hybas6_U_GADM36L01_GPD_PP_V01/output_V07/gdf_union_549.pkl to ../../../../data/Y2018M11D29_RH_Hybas6_U_GADM36L01_GPD_PP_Merge_V01/input_V03/gdf_union_549.pkl\n",
      "download: s3://wri-projects/Aqueduct30/processData/Y2018M11D29_RH_Hybas6_U_GADM36L01_GPD_PP_V01/output_V07/gdf_union_548.pkl to ../../../../data/Y2018M11D29_RH_Hybas6_U_GADM36L01_GPD_PP_Merge_V01/input_V03/gdf_union_548.pkl\n",
      "download: s3://wri-projects/Aqueduct30/processData/Y2018M11D29_RH_Hybas6_U_GADM36L01_GPD_PP_V01/output_V07/gdf_union_541.pkl to ../../../../data/Y2018M11D29_RH_Hybas6_U_GADM36L01_GPD_PP_Merge_V01/input_V03/gdf_union_541.pkl\n",
      "download: s3://wri-projects/Aqueduct30/processData/Y2018M11D29_RH_Hybas6_U_GADM36L01_GPD_PP_V01/output_V07/gdf_union_546.pkl to ../../../../data/Y2018M11D29_RH_Hybas6_U_GADM36L01_GPD_PP_Merge_V01/input_V03/gdf_union_546.pkl\n",
      "download: s3://wri-projects/Aqueduct30/processData/Y2018M11D29_RH_Hybas6_U_GADM36L01_GPD_PP_V01/output_V07/gdf_union_550.pkl to ../../../../data/Y2018M11D29_RH_Hybas6_U_GADM36L01_GPD_PP_Merge_V01/input_V03/gdf_union_550.pkl\n",
      "download: s3://wri-projects/Aqueduct30/processData/Y2018M11D29_RH_Hybas6_U_GADM36L01_GPD_PP_V01/output_V07/gdf_union_551.pkl to ../../../../data/Y2018M11D29_RH_Hybas6_U_GADM36L01_GPD_PP_Merge_V01/input_V03/gdf_union_551.pkl\n",
      "download: s3://wri-projects/Aqueduct30/processData/Y2018M11D29_RH_Hybas6_U_GADM36L01_GPD_PP_V01/output_V07/gdf_union_538.pkl to ../../../../data/Y2018M11D29_RH_Hybas6_U_GADM36L01_GPD_PP_Merge_V01/input_V03/gdf_union_538.pkl\n",
      "download: s3://wri-projects/Aqueduct30/processData/Y2018M11D29_RH_Hybas6_U_GADM36L01_GPD_PP_V01/output_V07/gdf_union_557.pkl to ../../../../data/Y2018M11D29_RH_Hybas6_U_GADM36L01_GPD_PP_Merge_V01/input_V03/gdf_union_557.pkl\n",
      "download: s3://wri-projects/Aqueduct30/processData/Y2018M11D29_RH_Hybas6_U_GADM36L01_GPD_PP_V01/output_V07/gdf_union_554.pkl to ../../../../data/Y2018M11D29_RH_Hybas6_U_GADM36L01_GPD_PP_Merge_V01/input_V03/gdf_union_554.pkl\n",
      "download: s3://wri-projects/Aqueduct30/processData/Y2018M11D29_RH_Hybas6_U_GADM36L01_GPD_PP_V01/output_V07/gdf_union_555.pkl to ../../../../data/Y2018M11D29_RH_Hybas6_U_GADM36L01_GPD_PP_Merge_V01/input_V03/gdf_union_555.pkl\n",
      "download: s3://wri-projects/Aqueduct30/processData/Y2018M11D29_RH_Hybas6_U_GADM36L01_GPD_PP_V01/output_V07/gdf_union_547.pkl to ../../../../data/Y2018M11D29_RH_Hybas6_U_GADM36L01_GPD_PP_Merge_V01/input_V03/gdf_union_547.pkl\n",
      "download: s3://wri-projects/Aqueduct30/processData/Y2018M11D29_RH_Hybas6_U_GADM36L01_GPD_PP_V01/output_V07/gdf_union_556.pkl to ../../../../data/Y2018M11D29_RH_Hybas6_U_GADM36L01_GPD_PP_Merge_V01/input_V03/gdf_union_556.pkl\n",
      "download: s3://wri-projects/Aqueduct30/processData/Y2018M11D29_RH_Hybas6_U_GADM36L01_GPD_PP_V01/output_V07/gdf_union_552.pkl to ../../../../data/Y2018M11D29_RH_Hybas6_U_GADM36L01_GPD_PP_Merge_V01/input_V03/gdf_union_552.pkl\n",
      "download: s3://wri-projects/Aqueduct30/processData/Y2018M11D29_RH_Hybas6_U_GADM36L01_GPD_PP_V01/output_V07/gdf_union_558.pkl to ../../../../data/Y2018M11D29_RH_Hybas6_U_GADM36L01_GPD_PP_Merge_V01/input_V03/gdf_union_558.pkl\n",
      "download: s3://wri-projects/Aqueduct30/processData/Y2018M11D29_RH_Hybas6_U_GADM36L01_GPD_PP_V01/output_V07/gdf_union_561.pkl to ../../../../data/Y2018M11D29_RH_Hybas6_U_GADM36L01_GPD_PP_Merge_V01/input_V03/gdf_union_561.pkl\n",
      "download: s3://wri-projects/Aqueduct30/processData/Y2018M11D29_RH_Hybas6_U_GADM36L01_GPD_PP_V01/output_V07/gdf_union_553.pkl to ../../../../data/Y2018M11D29_RH_Hybas6_U_GADM36L01_GPD_PP_Merge_V01/input_V03/gdf_union_553.pkl\n",
      "download: s3://wri-projects/Aqueduct30/processData/Y2018M11D29_RH_Hybas6_U_GADM36L01_GPD_PP_V01/output_V07/gdf_union_564.pkl to ../../../../data/Y2018M11D29_RH_Hybas6_U_GADM36L01_GPD_PP_Merge_V01/input_V03/gdf_union_564.pkl\n",
      "download: s3://wri-projects/Aqueduct30/processData/Y2018M11D29_RH_Hybas6_U_GADM36L01_GPD_PP_V01/output_V07/gdf_union_565.pkl to ../../../../data/Y2018M11D29_RH_Hybas6_U_GADM36L01_GPD_PP_Merge_V01/input_V03/gdf_union_565.pkl\n",
      "download: s3://wri-projects/Aqueduct30/processData/Y2018M11D29_RH_Hybas6_U_GADM36L01_GPD_PP_V01/output_V07/gdf_union_568.pkl to ../../../../data/Y2018M11D29_RH_Hybas6_U_GADM36L01_GPD_PP_Merge_V01/input_V03/gdf_union_568.pkl\n",
      "download: s3://wri-projects/Aqueduct30/processData/Y2018M11D29_RH_Hybas6_U_GADM36L01_GPD_PP_V01/output_V07/gdf_union_563.pkl to ../../../../data/Y2018M11D29_RH_Hybas6_U_GADM36L01_GPD_PP_Merge_V01/input_V03/gdf_union_563.pkl\n",
      "download: s3://wri-projects/Aqueduct30/processData/Y2018M11D29_RH_Hybas6_U_GADM36L01_GPD_PP_V01/output_V07/gdf_union_562.pkl to ../../../../data/Y2018M11D29_RH_Hybas6_U_GADM36L01_GPD_PP_Merge_V01/input_V03/gdf_union_562.pkl\n",
      "download: s3://wri-projects/Aqueduct30/processData/Y2018M11D29_RH_Hybas6_U_GADM36L01_GPD_PP_V01/output_V07/gdf_union_560.pkl to ../../../../data/Y2018M11D29_RH_Hybas6_U_GADM36L01_GPD_PP_Merge_V01/input_V03/gdf_union_560.pkl\n",
      "download: s3://wri-projects/Aqueduct30/processData/Y2018M11D29_RH_Hybas6_U_GADM36L01_GPD_PP_V01/output_V07/gdf_union_566.pkl to ../../../../data/Y2018M11D29_RH_Hybas6_U_GADM36L01_GPD_PP_Merge_V01/input_V03/gdf_union_566.pkl\n",
      "download: s3://wri-projects/Aqueduct30/processData/Y2018M11D29_RH_Hybas6_U_GADM36L01_GPD_PP_V01/output_V07/gdf_union_570.pkl to ../../../../data/Y2018M11D29_RH_Hybas6_U_GADM36L01_GPD_PP_Merge_V01/input_V03/gdf_union_570.pkl\n",
      "download: s3://wri-projects/Aqueduct30/processData/Y2018M11D29_RH_Hybas6_U_GADM36L01_GPD_PP_V01/output_V07/gdf_union_567.pkl to ../../../../data/Y2018M11D29_RH_Hybas6_U_GADM36L01_GPD_PP_Merge_V01/input_V03/gdf_union_567.pkl\n",
      "download: s3://wri-projects/Aqueduct30/processData/Y2018M11D29_RH_Hybas6_U_GADM36L01_GPD_PP_V01/output_V07/gdf_union_569.pkl to ../../../../data/Y2018M11D29_RH_Hybas6_U_GADM36L01_GPD_PP_Merge_V01/input_V03/gdf_union_569.pkl\n"
     ]
    },
    {
     "name": "stdout",
     "output_type": "stream",
     "text": [
      "download: s3://wri-projects/Aqueduct30/processData/Y2018M11D29_RH_Hybas6_U_GADM36L01_GPD_PP_V01/output_V07/gdf_union_571.pkl to ../../../../data/Y2018M11D29_RH_Hybas6_U_GADM36L01_GPD_PP_Merge_V01/input_V03/gdf_union_571.pkl\n",
      "download: s3://wri-projects/Aqueduct30/processData/Y2018M11D29_RH_Hybas6_U_GADM36L01_GPD_PP_V01/output_V07/gdf_union_572.pkl to ../../../../data/Y2018M11D29_RH_Hybas6_U_GADM36L01_GPD_PP_Merge_V01/input_V03/gdf_union_572.pkl\n",
      "download: s3://wri-projects/Aqueduct30/processData/Y2018M11D29_RH_Hybas6_U_GADM36L01_GPD_PP_V01/output_V07/gdf_union_576.pkl to ../../../../data/Y2018M11D29_RH_Hybas6_U_GADM36L01_GPD_PP_Merge_V01/input_V03/gdf_union_576.pkl\n",
      "download: s3://wri-projects/Aqueduct30/processData/Y2018M11D29_RH_Hybas6_U_GADM36L01_GPD_PP_V01/output_V07/gdf_union_578.pkl to ../../../../data/Y2018M11D29_RH_Hybas6_U_GADM36L01_GPD_PP_Merge_V01/input_V03/gdf_union_578.pkl\n",
      "download: s3://wri-projects/Aqueduct30/processData/Y2018M11D29_RH_Hybas6_U_GADM36L01_GPD_PP_V01/output_V07/gdf_union_579.pkl to ../../../../data/Y2018M11D29_RH_Hybas6_U_GADM36L01_GPD_PP_Merge_V01/input_V03/gdf_union_579.pkl\n",
      "download: s3://wri-projects/Aqueduct30/processData/Y2018M11D29_RH_Hybas6_U_GADM36L01_GPD_PP_V01/output_V07/gdf_union_580.pkl to ../../../../data/Y2018M11D29_RH_Hybas6_U_GADM36L01_GPD_PP_Merge_V01/input_V03/gdf_union_580.pkl\n",
      "download: s3://wri-projects/Aqueduct30/processData/Y2018M11D29_RH_Hybas6_U_GADM36L01_GPD_PP_V01/output_V07/gdf_union_574.pkl to ../../../../data/Y2018M11D29_RH_Hybas6_U_GADM36L01_GPD_PP_Merge_V01/input_V03/gdf_union_574.pkl\n",
      "download: s3://wri-projects/Aqueduct30/processData/Y2018M11D29_RH_Hybas6_U_GADM36L01_GPD_PP_V01/output_V07/gdf_union_575.pkl to ../../../../data/Y2018M11D29_RH_Hybas6_U_GADM36L01_GPD_PP_Merge_V01/input_V03/gdf_union_575.pkl\n",
      "download: s3://wri-projects/Aqueduct30/processData/Y2018M11D29_RH_Hybas6_U_GADM36L01_GPD_PP_V01/output_V07/gdf_union_577.pkl to ../../../../data/Y2018M11D29_RH_Hybas6_U_GADM36L01_GPD_PP_Merge_V01/input_V03/gdf_union_577.pkl\n",
      "download: s3://wri-projects/Aqueduct30/processData/Y2018M11D29_RH_Hybas6_U_GADM36L01_GPD_PP_V01/output_V07/gdf_union_559.pkl to ../../../../data/Y2018M11D29_RH_Hybas6_U_GADM36L01_GPD_PP_Merge_V01/input_V03/gdf_union_559.pkl\n",
      "download: s3://wri-projects/Aqueduct30/processData/Y2018M11D29_RH_Hybas6_U_GADM36L01_GPD_PP_V01/output_V07/gdf_union_584.pkl to ../../../../data/Y2018M11D29_RH_Hybas6_U_GADM36L01_GPD_PP_Merge_V01/input_V03/gdf_union_584.pkl\n",
      "download: s3://wri-projects/Aqueduct30/processData/Y2018M11D29_RH_Hybas6_U_GADM36L01_GPD_PP_V01/output_V07/gdf_union_585.pkl to ../../../../data/Y2018M11D29_RH_Hybas6_U_GADM36L01_GPD_PP_Merge_V01/input_V03/gdf_union_585.pkl\n",
      "download: s3://wri-projects/Aqueduct30/processData/Y2018M11D29_RH_Hybas6_U_GADM36L01_GPD_PP_V01/output_V07/gdf_union_581.pkl to ../../../../data/Y2018M11D29_RH_Hybas6_U_GADM36L01_GPD_PP_Merge_V01/input_V03/gdf_union_581.pkl\n",
      "download: s3://wri-projects/Aqueduct30/processData/Y2018M11D29_RH_Hybas6_U_GADM36L01_GPD_PP_V01/output_V07/gdf_union_573.pkl to ../../../../data/Y2018M11D29_RH_Hybas6_U_GADM36L01_GPD_PP_Merge_V01/input_V03/gdf_union_573.pkl\n",
      "download: s3://wri-projects/Aqueduct30/processData/Y2018M11D29_RH_Hybas6_U_GADM36L01_GPD_PP_V01/output_V07/gdf_union_590.pkl to ../../../../data/Y2018M11D29_RH_Hybas6_U_GADM36L01_GPD_PP_Merge_V01/input_V03/gdf_union_590.pkl\n",
      "download: s3://wri-projects/Aqueduct30/processData/Y2018M11D29_RH_Hybas6_U_GADM36L01_GPD_PP_V01/output_V07/gdf_union_587.pkl to ../../../../data/Y2018M11D29_RH_Hybas6_U_GADM36L01_GPD_PP_Merge_V01/input_V03/gdf_union_587.pkl\n",
      "download: s3://wri-projects/Aqueduct30/processData/Y2018M11D29_RH_Hybas6_U_GADM36L01_GPD_PP_V01/output_V07/gdf_union_593.pkl to ../../../../data/Y2018M11D29_RH_Hybas6_U_GADM36L01_GPD_PP_Merge_V01/input_V03/gdf_union_593.pkl\n",
      "download: s3://wri-projects/Aqueduct30/processData/Y2018M11D29_RH_Hybas6_U_GADM36L01_GPD_PP_V01/output_V07/gdf_union_592.pkl to ../../../../data/Y2018M11D29_RH_Hybas6_U_GADM36L01_GPD_PP_Merge_V01/input_V03/gdf_union_592.pkl\n",
      "download: s3://wri-projects/Aqueduct30/processData/Y2018M11D29_RH_Hybas6_U_GADM36L01_GPD_PP_V01/output_V07/gdf_union_596.pkl to ../../../../data/Y2018M11D29_RH_Hybas6_U_GADM36L01_GPD_PP_Merge_V01/input_V03/gdf_union_596.pkl\n",
      "download: s3://wri-projects/Aqueduct30/processData/Y2018M11D29_RH_Hybas6_U_GADM36L01_GPD_PP_V01/output_V07/gdf_union_582.pkl to ../../../../data/Y2018M11D29_RH_Hybas6_U_GADM36L01_GPD_PP_Merge_V01/input_V03/gdf_union_582.pkl\n",
      "download: s3://wri-projects/Aqueduct30/processData/Y2018M11D29_RH_Hybas6_U_GADM36L01_GPD_PP_V01/output_V07/gdf_union_597.pkl to ../../../../data/Y2018M11D29_RH_Hybas6_U_GADM36L01_GPD_PP_Merge_V01/input_V03/gdf_union_597.pkl\n",
      "download: s3://wri-projects/Aqueduct30/processData/Y2018M11D29_RH_Hybas6_U_GADM36L01_GPD_PP_V01/output_V07/gdf_union_600.pkl to ../../../../data/Y2018M11D29_RH_Hybas6_U_GADM36L01_GPD_PP_Merge_V01/input_V03/gdf_union_600.pkl\n",
      "download: s3://wri-projects/Aqueduct30/processData/Y2018M11D29_RH_Hybas6_U_GADM36L01_GPD_PP_V01/output_V07/gdf_union_591.pkl to ../../../../data/Y2018M11D29_RH_Hybas6_U_GADM36L01_GPD_PP_Merge_V01/input_V03/gdf_union_591.pkl\n",
      "download: s3://wri-projects/Aqueduct30/processData/Y2018M11D29_RH_Hybas6_U_GADM36L01_GPD_PP_V01/output_V07/gdf_union_599.pkl to ../../../../data/Y2018M11D29_RH_Hybas6_U_GADM36L01_GPD_PP_Merge_V01/input_V03/gdf_union_599.pkl\n",
      "download: s3://wri-projects/Aqueduct30/processData/Y2018M11D29_RH_Hybas6_U_GADM36L01_GPD_PP_V01/output_V07/gdf_union_586.pkl to ../../../../data/Y2018M11D29_RH_Hybas6_U_GADM36L01_GPD_PP_Merge_V01/input_V03/gdf_union_586.pkl\n",
      "download: s3://wri-projects/Aqueduct30/processData/Y2018M11D29_RH_Hybas6_U_GADM36L01_GPD_PP_V01/output_V07/gdf_union_588.pkl to ../../../../data/Y2018M11D29_RH_Hybas6_U_GADM36L01_GPD_PP_Merge_V01/input_V03/gdf_union_588.pkl\n",
      "download: s3://wri-projects/Aqueduct30/processData/Y2018M11D29_RH_Hybas6_U_GADM36L01_GPD_PP_V01/output_V07/gdf_union_595.pkl to ../../../../data/Y2018M11D29_RH_Hybas6_U_GADM36L01_GPD_PP_Merge_V01/input_V03/gdf_union_595.pkl\n",
      "download: s3://wri-projects/Aqueduct30/processData/Y2018M11D29_RH_Hybas6_U_GADM36L01_GPD_PP_V01/output_V07/gdf_union_603.pkl to ../../../../data/Y2018M11D29_RH_Hybas6_U_GADM36L01_GPD_PP_Merge_V01/input_V03/gdf_union_603.pkl\n",
      "download: s3://wri-projects/Aqueduct30/processData/Y2018M11D29_RH_Hybas6_U_GADM36L01_GPD_PP_V01/output_V07/gdf_union_601.pkl to ../../../../data/Y2018M11D29_RH_Hybas6_U_GADM36L01_GPD_PP_Merge_V01/input_V03/gdf_union_601.pkl\n",
      "download: s3://wri-projects/Aqueduct30/processData/Y2018M11D29_RH_Hybas6_U_GADM36L01_GPD_PP_V01/output_V07/gdf_union_589.pkl to ../../../../data/Y2018M11D29_RH_Hybas6_U_GADM36L01_GPD_PP_Merge_V01/input_V03/gdf_union_589.pkl\n",
      "download: s3://wri-projects/Aqueduct30/processData/Y2018M11D29_RH_Hybas6_U_GADM36L01_GPD_PP_V01/output_V07/gdf_union_583.pkl to ../../../../data/Y2018M11D29_RH_Hybas6_U_GADM36L01_GPD_PP_Merge_V01/input_V03/gdf_union_583.pkl\n",
      "download: s3://wri-projects/Aqueduct30/processData/Y2018M11D29_RH_Hybas6_U_GADM36L01_GPD_PP_V01/output_V07/gdf_union_602.pkl to ../../../../data/Y2018M11D29_RH_Hybas6_U_GADM36L01_GPD_PP_Merge_V01/input_V03/gdf_union_602.pkl\n",
      "download: s3://wri-projects/Aqueduct30/processData/Y2018M11D29_RH_Hybas6_U_GADM36L01_GPD_PP_V01/output_V07/gdf_union_605.pkl to ../../../../data/Y2018M11D29_RH_Hybas6_U_GADM36L01_GPD_PP_Merge_V01/input_V03/gdf_union_605.pkl\n",
      "download: s3://wri-projects/Aqueduct30/processData/Y2018M11D29_RH_Hybas6_U_GADM36L01_GPD_PP_V01/output_V07/gdf_union_610.pkl to ../../../../data/Y2018M11D29_RH_Hybas6_U_GADM36L01_GPD_PP_Merge_V01/input_V03/gdf_union_610.pkl\n",
      "download: s3://wri-projects/Aqueduct30/processData/Y2018M11D29_RH_Hybas6_U_GADM36L01_GPD_PP_V01/output_V07/gdf_union_607.pkl to ../../../../data/Y2018M11D29_RH_Hybas6_U_GADM36L01_GPD_PP_Merge_V01/input_V03/gdf_union_607.pkl\n",
      "download: s3://wri-projects/Aqueduct30/processData/Y2018M11D29_RH_Hybas6_U_GADM36L01_GPD_PP_V01/output_V07/gdf_union_611.pkl to ../../../../data/Y2018M11D29_RH_Hybas6_U_GADM36L01_GPD_PP_Merge_V01/input_V03/gdf_union_611.pkl\n",
      "download: s3://wri-projects/Aqueduct30/processData/Y2018M11D29_RH_Hybas6_U_GADM36L01_GPD_PP_V01/output_V07/gdf_union_609.pkl to ../../../../data/Y2018M11D29_RH_Hybas6_U_GADM36L01_GPD_PP_Merge_V01/input_V03/gdf_union_609.pkl\n"
     ]
    },
    {
     "name": "stdout",
     "output_type": "stream",
     "text": [
      "download: s3://wri-projects/Aqueduct30/processData/Y2018M11D29_RH_Hybas6_U_GADM36L01_GPD_PP_V01/output_V07/gdf_union_608.pkl to ../../../../data/Y2018M11D29_RH_Hybas6_U_GADM36L01_GPD_PP_Merge_V01/input_V03/gdf_union_608.pkl\n",
      "download: s3://wri-projects/Aqueduct30/processData/Y2018M11D29_RH_Hybas6_U_GADM36L01_GPD_PP_V01/output_V07/gdf_union_619.pkl to ../../../../data/Y2018M11D29_RH_Hybas6_U_GADM36L01_GPD_PP_Merge_V01/input_V03/gdf_union_619.pkl\n",
      "download: s3://wri-projects/Aqueduct30/processData/Y2018M11D29_RH_Hybas6_U_GADM36L01_GPD_PP_V01/output_V07/gdf_union_604.pkl to ../../../../data/Y2018M11D29_RH_Hybas6_U_GADM36L01_GPD_PP_Merge_V01/input_V03/gdf_union_604.pkl\n",
      "download: s3://wri-projects/Aqueduct30/processData/Y2018M11D29_RH_Hybas6_U_GADM36L01_GPD_PP_V01/output_V07/gdf_union_620.pkl to ../../../../data/Y2018M11D29_RH_Hybas6_U_GADM36L01_GPD_PP_Merge_V01/input_V03/gdf_union_620.pkl\n",
      "download: s3://wri-projects/Aqueduct30/processData/Y2018M11D29_RH_Hybas6_U_GADM36L01_GPD_PP_V01/output_V07/gdf_union_622.pkl to ../../../../data/Y2018M11D29_RH_Hybas6_U_GADM36L01_GPD_PP_Merge_V01/input_V03/gdf_union_622.pkl\n",
      "download: s3://wri-projects/Aqueduct30/processData/Y2018M11D29_RH_Hybas6_U_GADM36L01_GPD_PP_V01/output_V07/gdf_union_623.pkl to ../../../../data/Y2018M11D29_RH_Hybas6_U_GADM36L01_GPD_PP_Merge_V01/input_V03/gdf_union_623.pkl\n",
      "download: s3://wri-projects/Aqueduct30/processData/Y2018M11D29_RH_Hybas6_U_GADM36L01_GPD_PP_V01/output_V07/gdf_union_626.pkl to ../../../../data/Y2018M11D29_RH_Hybas6_U_GADM36L01_GPD_PP_Merge_V01/input_V03/gdf_union_626.pkl\n",
      "download: s3://wri-projects/Aqueduct30/processData/Y2018M11D29_RH_Hybas6_U_GADM36L01_GPD_PP_V01/output_V07/gdf_union_627.pkl to ../../../../data/Y2018M11D29_RH_Hybas6_U_GADM36L01_GPD_PP_Merge_V01/input_V03/gdf_union_627.pkl\n",
      "download: s3://wri-projects/Aqueduct30/processData/Y2018M11D29_RH_Hybas6_U_GADM36L01_GPD_PP_V01/output_V07/gdf_union_624.pkl to ../../../../data/Y2018M11D29_RH_Hybas6_U_GADM36L01_GPD_PP_Merge_V01/input_V03/gdf_union_624.pkl\n",
      "download: s3://wri-projects/Aqueduct30/processData/Y2018M11D29_RH_Hybas6_U_GADM36L01_GPD_PP_V01/output_V07/gdf_union_606.pkl to ../../../../data/Y2018M11D29_RH_Hybas6_U_GADM36L01_GPD_PP_Merge_V01/input_V03/gdf_union_606.pkl\n",
      "download: s3://wri-projects/Aqueduct30/processData/Y2018M11D29_RH_Hybas6_U_GADM36L01_GPD_PP_V01/output_V07/gdf_union_625.pkl to ../../../../data/Y2018M11D29_RH_Hybas6_U_GADM36L01_GPD_PP_Merge_V01/input_V03/gdf_union_625.pkl\n",
      "download: s3://wri-projects/Aqueduct30/processData/Y2018M11D29_RH_Hybas6_U_GADM36L01_GPD_PP_V01/output_V07/gdf_union_629.pkl to ../../../../data/Y2018M11D29_RH_Hybas6_U_GADM36L01_GPD_PP_Merge_V01/input_V03/gdf_union_629.pkl\n",
      "download: s3://wri-projects/Aqueduct30/processData/Y2018M11D29_RH_Hybas6_U_GADM36L01_GPD_PP_V01/output_V07/gdf_union_628.pkl to ../../../../data/Y2018M11D29_RH_Hybas6_U_GADM36L01_GPD_PP_Merge_V01/input_V03/gdf_union_628.pkl\n",
      "download: s3://wri-projects/Aqueduct30/processData/Y2018M11D29_RH_Hybas6_U_GADM36L01_GPD_PP_V01/output_V07/gdf_union_634.pkl to ../../../../data/Y2018M11D29_RH_Hybas6_U_GADM36L01_GPD_PP_Merge_V01/input_V03/gdf_union_634.pkl\n",
      "download: s3://wri-projects/Aqueduct30/processData/Y2018M11D29_RH_Hybas6_U_GADM36L01_GPD_PP_V01/output_V07/gdf_union_633.pkl to ../../../../data/Y2018M11D29_RH_Hybas6_U_GADM36L01_GPD_PP_Merge_V01/input_V03/gdf_union_633.pkl\n",
      "download: s3://wri-projects/Aqueduct30/processData/Y2018M11D29_RH_Hybas6_U_GADM36L01_GPD_PP_V01/output_V07/gdf_union_621.pkl to ../../../../data/Y2018M11D29_RH_Hybas6_U_GADM36L01_GPD_PP_Merge_V01/input_V03/gdf_union_621.pkl\n",
      "download: s3://wri-projects/Aqueduct30/processData/Y2018M11D29_RH_Hybas6_U_GADM36L01_GPD_PP_V01/output_V07/gdf_union_632.pkl to ../../../../data/Y2018M11D29_RH_Hybas6_U_GADM36L01_GPD_PP_Merge_V01/input_V03/gdf_union_632.pkl\n",
      "download: s3://wri-projects/Aqueduct30/processData/Y2018M11D29_RH_Hybas6_U_GADM36L01_GPD_PP_V01/output_V07/gdf_union_631.pkl to ../../../../data/Y2018M11D29_RH_Hybas6_U_GADM36L01_GPD_PP_Merge_V01/input_V03/gdf_union_631.pkl\n",
      "download: s3://wri-projects/Aqueduct30/processData/Y2018M11D29_RH_Hybas6_U_GADM36L01_GPD_PP_V01/output_V07/gdf_union_639.pkl to ../../../../data/Y2018M11D29_RH_Hybas6_U_GADM36L01_GPD_PP_Merge_V01/input_V03/gdf_union_639.pkl\n",
      "download: s3://wri-projects/Aqueduct30/processData/Y2018M11D29_RH_Hybas6_U_GADM36L01_GPD_PP_V01/output_V07/gdf_union_638.pkl to ../../../../data/Y2018M11D29_RH_Hybas6_U_GADM36L01_GPD_PP_Merge_V01/input_V03/gdf_union_638.pkl\n",
      "download: s3://wri-projects/Aqueduct30/processData/Y2018M11D29_RH_Hybas6_U_GADM36L01_GPD_PP_V01/output_V07/gdf_union_636.pkl to ../../../../data/Y2018M11D29_RH_Hybas6_U_GADM36L01_GPD_PP_Merge_V01/input_V03/gdf_union_636.pkl\n",
      "download: s3://wri-projects/Aqueduct30/processData/Y2018M11D29_RH_Hybas6_U_GADM36L01_GPD_PP_V01/output_V07/gdf_union_637.pkl to ../../../../data/Y2018M11D29_RH_Hybas6_U_GADM36L01_GPD_PP_Merge_V01/input_V03/gdf_union_637.pkl\n",
      "download: s3://wri-projects/Aqueduct30/processData/Y2018M11D29_RH_Hybas6_U_GADM36L01_GPD_PP_V01/output_V07/gdf_union_635.pkl to ../../../../data/Y2018M11D29_RH_Hybas6_U_GADM36L01_GPD_PP_Merge_V01/input_V03/gdf_union_635.pkl\n"
     ]
    }
   ],
   "source": [
    "!aws s3 cp {S3_INPUT_PATH} {ec2_input_path} --recursive --exclude *.csv"
   ]
  },
  {
   "cell_type": "code",
   "execution_count": 5,
   "metadata": {
    "collapsed": true
   },
   "outputs": [],
   "source": [
    "import os\n",
    "import numpy as np\n",
    "import pandas as pd\n",
    "import geopandas as gpd\n",
    "import multiprocessing\n"
   ]
  },
  {
   "cell_type": "code",
   "execution_count": 6,
   "metadata": {
    "collapsed": true
   },
   "outputs": [],
   "source": [
    "files = os.listdir(ec2_input_path)"
   ]
  },
  {
   "cell_type": "code",
   "execution_count": 7,
   "metadata": {},
   "outputs": [
    {
     "data": {
      "text/plain": [
       "363"
      ]
     },
     "execution_count": 7,
     "metadata": {},
     "output_type": "execute_result"
    }
   ],
   "source": [
    "len(files)"
   ]
  },
  {
   "cell_type": "code",
   "execution_count": 8,
   "metadata": {
    "collapsed": true
   },
   "outputs": [],
   "source": [
    "gdfs = []\n",
    "for one_file in files:    \n",
    "    input_path = \"{}/{}\".format(ec2_input_path,one_file)\n",
    "    gdfs.append(pd.read_pickle(input_path))"
   ]
  },
  {
   "cell_type": "code",
   "execution_count": 9,
   "metadata": {
    "collapsed": true
   },
   "outputs": [],
   "source": [
    "gdf = pd.concat(gdfs, ignore_index=True)"
   ]
  },
  {
   "cell_type": "code",
   "execution_count": 10,
   "metadata": {},
   "outputs": [
    {
     "data": {
      "text/plain": [
       "(49140, 5)"
      ]
     },
     "execution_count": 10,
     "metadata": {},
     "output_type": "execute_result"
    }
   ],
   "source": [
    "gdf.shape"
   ]
  },
  {
   "cell_type": "code",
   "execution_count": 11,
   "metadata": {},
   "outputs": [
    {
     "data": {
      "text/html": [
       "<div>\n",
       "<style scoped>\n",
       "    .dataframe tbody tr th:only-of-type {\n",
       "        vertical-align: middle;\n",
       "    }\n",
       "\n",
       "    .dataframe tbody tr th {\n",
       "        vertical-align: top;\n",
       "    }\n",
       "\n",
       "    .dataframe thead th {\n",
       "        text-align: right;\n",
       "    }\n",
       "</style>\n",
       "<table border=\"1\" class=\"dataframe\">\n",
       "  <thead>\n",
       "    <tr style=\"text-align: right;\">\n",
       "      <th></th>\n",
       "      <th>geometry</th>\n",
       "      <th>gid_1</th>\n",
       "      <th>pfaf_id</th>\n",
       "      <th>tile_index</th>\n",
       "      <th>time_processed</th>\n",
       "    </tr>\n",
       "  </thead>\n",
       "  <tbody>\n",
       "    <tr>\n",
       "      <th>0</th>\n",
       "      <td>POLYGON ((109.1899119372771 -0.137264551307248...</td>\n",
       "      <td>IDN.12_1</td>\n",
       "      <td>521501.0</td>\n",
       "      <td>316</td>\n",
       "      <td>21.802125</td>\n",
       "    </tr>\n",
       "    <tr>\n",
       "      <th>1</th>\n",
       "      <td>(POLYGON ((109.7541969365111 -0.89511465309007...</td>\n",
       "      <td>IDN.12_1</td>\n",
       "      <td>521399.0</td>\n",
       "      <td>316</td>\n",
       "      <td>21.802125</td>\n",
       "    </tr>\n",
       "    <tr>\n",
       "      <th>2</th>\n",
       "      <td>(POLYGON ((109.8348585340715 0, 109.8581099735...</td>\n",
       "      <td>IDN.12_1</td>\n",
       "      <td>521502.0</td>\n",
       "      <td>316</td>\n",
       "      <td>21.802125</td>\n",
       "    </tr>\n",
       "    <tr>\n",
       "      <th>3</th>\n",
       "      <td>(POLYGON ((109.149973266526 -0.234574872294289...</td>\n",
       "      <td>IDN.12_1</td>\n",
       "      <td>521401.0</td>\n",
       "      <td>316</td>\n",
       "      <td>21.802125</td>\n",
       "    </tr>\n",
       "    <tr>\n",
       "      <th>4</th>\n",
       "      <td>POLYGON ((109.9451550043398 -1.123588117805635...</td>\n",
       "      <td>IDN.12_1</td>\n",
       "      <td>521397.0</td>\n",
       "      <td>316</td>\n",
       "      <td>21.802125</td>\n",
       "    </tr>\n",
       "  </tbody>\n",
       "</table>\n",
       "</div>"
      ],
      "text/plain": [
       "                                            geometry     gid_1   pfaf_id  \\\n",
       "0  POLYGON ((109.1899119372771 -0.137264551307248...  IDN.12_1  521501.0   \n",
       "1  (POLYGON ((109.7541969365111 -0.89511465309007...  IDN.12_1  521399.0   \n",
       "2  (POLYGON ((109.8348585340715 0, 109.8581099735...  IDN.12_1  521502.0   \n",
       "3  (POLYGON ((109.149973266526 -0.234574872294289...  IDN.12_1  521401.0   \n",
       "4  POLYGON ((109.9451550043398 -1.123588117805635...  IDN.12_1  521397.0   \n",
       "\n",
       "   tile_index  time_processed  \n",
       "0         316       21.802125  \n",
       "1         316       21.802125  \n",
       "2         316       21.802125  \n",
       "3         316       21.802125  \n",
       "4         316       21.802125  "
      ]
     },
     "execution_count": 11,
     "metadata": {},
     "output_type": "execute_result"
    }
   ],
   "source": [
    "gdf.head()"
   ]
  },
  {
   "cell_type": "code",
   "execution_count": 12,
   "metadata": {
    "collapsed": true
   },
   "outputs": [],
   "source": [
    "gdf[\"separator\"] = \"-\""
   ]
  },
  {
   "cell_type": "code",
   "execution_count": 13,
   "metadata": {
    "collapsed": true
   },
   "outputs": [],
   "source": [
    "gdf[\"composite_index\"] = gdf[\"gid_1\"] + gdf[\"separator\"] + gdf[\"pfaf_id\"].map(str)"
   ]
  },
  {
   "cell_type": "code",
   "execution_count": 14,
   "metadata": {
    "collapsed": true
   },
   "outputs": [],
   "source": [
    "gdf.drop(columns=[\"separator\"],inplace=True)"
   ]
  },
  {
   "cell_type": "code",
   "execution_count": 15,
   "metadata": {
    "collapsed": true
   },
   "outputs": [],
   "source": [
    "gdf_list = [gdf.loc[gdf['composite_index']==val, :] for val in gdf[\"composite_index\"].unique()]"
   ]
  },
  {
   "cell_type": "code",
   "execution_count": 16,
   "metadata": {},
   "outputs": [
    {
     "data": {
      "text/plain": [
       "34970"
      ]
     },
     "execution_count": 16,
     "metadata": {},
     "output_type": "execute_result"
    }
   ],
   "source": [
    "len(gdf_list)"
   ]
  },
  {
   "cell_type": "code",
   "execution_count": 17,
   "metadata": {
    "collapsed": true
   },
   "outputs": [],
   "source": [
    "def process_small_gdf(gdf_small):\n",
    "    \"\"\" Process a small geodataframe. Dissolves into df with 1 row\n",
    "    \n",
    "    Args:\n",
    "        gdf_small(GeoDataFrame): Geodataframe with unique identifiers\n",
    "    \n",
    "    Returns:\n",
    "        gdf_small_out(GeoDataFrame): GeoDataFrame with dissolved geometries.\n",
    "    \n",
    "    \"\"\"\n",
    "    if gdf_small.shape[0] > 0:\n",
    "        composite_index = gdf.iloc[0][\"composite_index\"]\n",
    "        destination_path = \"{}/gdf_dissolved_{}.pkl\".format(ec2_output_path,composite_index)\n",
    "        gdf_small_dissolved = gdf_small.dissolve(by=\"composite_index\")\n",
    "        #gdf_small_dissolved.to_pickle(path=destination_path)\n",
    "    \n",
    "    else:\n",
    "        print(\"invalid input dataframe\")\n",
    "        gdf_small_dissolved = None\n",
    "    return gdf_small_dissolved\n",
    "    \n",
    "    "
   ]
  },
  {
   "cell_type": "code",
   "execution_count": 18,
   "metadata": {},
   "outputs": [
    {
     "name": "stdout",
     "output_type": "stream",
     "text": [
      "invalid input dataframe\n"
     ]
    }
   ],
   "source": [
    "p= multiprocessing.Pool()\n",
    "df_out_list = p.map(process_small_gdf,gdf_list)\n",
    "p.close()\n",
    "p.join()"
   ]
  },
  {
   "cell_type": "code",
   "execution_count": 19,
   "metadata": {
    "collapsed": true
   },
   "outputs": [],
   "source": [
    "gdf_out = pd.concat(df_out_list, ignore_index=True)"
   ]
  },
  {
   "cell_type": "code",
   "execution_count": 20,
   "metadata": {},
   "outputs": [
    {
     "data": {
      "text/plain": [
       "(34969, 5)"
      ]
     },
     "execution_count": 20,
     "metadata": {},
     "output_type": "execute_result"
    }
   ],
   "source": [
    "gdf_out.shape"
   ]
  },
  {
   "cell_type": "code",
   "execution_count": 21,
   "metadata": {},
   "outputs": [
    {
     "data": {
      "text/html": [
       "<div>\n",
       "<style scoped>\n",
       "    .dataframe tbody tr th:only-of-type {\n",
       "        vertical-align: middle;\n",
       "    }\n",
       "\n",
       "    .dataframe tbody tr th {\n",
       "        vertical-align: top;\n",
       "    }\n",
       "\n",
       "    .dataframe thead th {\n",
       "        text-align: right;\n",
       "    }\n",
       "</style>\n",
       "<table border=\"1\" class=\"dataframe\">\n",
       "  <thead>\n",
       "    <tr style=\"text-align: right;\">\n",
       "      <th></th>\n",
       "      <th>geometry</th>\n",
       "      <th>gid_1</th>\n",
       "      <th>pfaf_id</th>\n",
       "      <th>tile_index</th>\n",
       "      <th>time_processed</th>\n",
       "      <th>composite_index</th>\n",
       "    </tr>\n",
       "  </thead>\n",
       "  <tbody>\n",
       "    <tr>\n",
       "      <th>0</th>\n",
       "      <td>POLYGON ((109.1899119372771 -0.137264551307248...</td>\n",
       "      <td>IDN.12_1</td>\n",
       "      <td>521501.0</td>\n",
       "      <td>316</td>\n",
       "      <td>21.802125</td>\n",
       "      <td>IDN.12_1-521501.0</td>\n",
       "    </tr>\n",
       "    <tr>\n",
       "      <th>1</th>\n",
       "      <td>(POLYGON ((109.7541969365111 -0.89511465309007...</td>\n",
       "      <td>IDN.12_1</td>\n",
       "      <td>521399.0</td>\n",
       "      <td>316</td>\n",
       "      <td>21.802125</td>\n",
       "      <td>IDN.12_1-521399.0</td>\n",
       "    </tr>\n",
       "    <tr>\n",
       "      <th>2</th>\n",
       "      <td>(POLYGON ((109.8348585340715 0, 109.8581099735...</td>\n",
       "      <td>IDN.12_1</td>\n",
       "      <td>521502.0</td>\n",
       "      <td>316</td>\n",
       "      <td>21.802125</td>\n",
       "      <td>IDN.12_1-521502.0</td>\n",
       "    </tr>\n",
       "    <tr>\n",
       "      <th>3</th>\n",
       "      <td>(POLYGON ((109.149973266526 -0.234574872294289...</td>\n",
       "      <td>IDN.12_1</td>\n",
       "      <td>521401.0</td>\n",
       "      <td>316</td>\n",
       "      <td>21.802125</td>\n",
       "      <td>IDN.12_1-521401.0</td>\n",
       "    </tr>\n",
       "    <tr>\n",
       "      <th>4</th>\n",
       "      <td>POLYGON ((109.9451550043398 -1.123588117805635...</td>\n",
       "      <td>IDN.12_1</td>\n",
       "      <td>521397.0</td>\n",
       "      <td>316</td>\n",
       "      <td>21.802125</td>\n",
       "      <td>IDN.12_1-521397.0</td>\n",
       "    </tr>\n",
       "  </tbody>\n",
       "</table>\n",
       "</div>"
      ],
      "text/plain": [
       "                                            geometry     gid_1   pfaf_id  \\\n",
       "0  POLYGON ((109.1899119372771 -0.137264551307248...  IDN.12_1  521501.0   \n",
       "1  (POLYGON ((109.7541969365111 -0.89511465309007...  IDN.12_1  521399.0   \n",
       "2  (POLYGON ((109.8348585340715 0, 109.8581099735...  IDN.12_1  521502.0   \n",
       "3  (POLYGON ((109.149973266526 -0.234574872294289...  IDN.12_1  521401.0   \n",
       "4  POLYGON ((109.9451550043398 -1.123588117805635...  IDN.12_1  521397.0   \n",
       "\n",
       "   tile_index  time_processed    composite_index  \n",
       "0         316       21.802125  IDN.12_1-521501.0  \n",
       "1         316       21.802125  IDN.12_1-521399.0  \n",
       "2         316       21.802125  IDN.12_1-521502.0  \n",
       "3         316       21.802125  IDN.12_1-521401.0  \n",
       "4         316       21.802125  IDN.12_1-521397.0  "
      ]
     },
     "execution_count": 21,
     "metadata": {},
     "output_type": "execute_result"
    }
   ],
   "source": [
    "gdf.head()"
   ]
  },
  {
   "cell_type": "code",
   "execution_count": 22,
   "metadata": {
    "collapsed": true
   },
   "outputs": [],
   "source": [
    "output_file_path = \"{}/{}.shp\".format(ec2_output_path,SCRIPT_NAME)"
   ]
  },
  {
   "cell_type": "code",
   "execution_count": 23,
   "metadata": {
    "collapsed": true
   },
   "outputs": [],
   "source": [
    "gdf_out.to_file(filename=output_file_path,driver=\"ESRI Shapefile\")"
   ]
  },
  {
   "cell_type": "code",
   "execution_count": 24,
   "metadata": {},
   "outputs": [
    {
     "name": "stdout",
     "output_type": "stream",
     "text": [
      "upload: ../../../../data/Y2018M11D29_RH_Hybas6_U_GADM36L01_GPD_PP_Merge_V01/output_V03/Y2018M11D29_RH_Hybas6_U_GADM36L01_GPD_PP_Merge_V01.cpg to s3://wri-projects/Aqueduct30/processData/Y2018M11D29_RH_Hybas6_U_GADM36L01_GPD_PP_Merge_V01/output_V03/Y2018M11D29_RH_Hybas6_U_GADM36L01_GPD_PP_Merge_V01.cpg\n",
      "upload: ../../../../data/Y2018M11D29_RH_Hybas6_U_GADM36L01_GPD_PP_Merge_V01/output_V03/Y2018M11D29_RH_Hybas6_U_GADM36L01_GPD_PP_Merge_V01.prj to s3://wri-projects/Aqueduct30/processData/Y2018M11D29_RH_Hybas6_U_GADM36L01_GPD_PP_Merge_V01/output_V03/Y2018M11D29_RH_Hybas6_U_GADM36L01_GPD_PP_Merge_V01.prj\n",
      "upload: ../../../../data/Y2018M11D29_RH_Hybas6_U_GADM36L01_GPD_PP_Merge_V01/output_V03/Y2018M11D29_RH_Hybas6_U_GADM36L01_GPD_PP_Merge_V01.shx to s3://wri-projects/Aqueduct30/processData/Y2018M11D29_RH_Hybas6_U_GADM36L01_GPD_PP_Merge_V01/output_V03/Y2018M11D29_RH_Hybas6_U_GADM36L01_GPD_PP_Merge_V01.shx\n",
      "upload: ../../../../data/Y2018M11D29_RH_Hybas6_U_GADM36L01_GPD_PP_Merge_V01/output_V03/Y2018M11D29_RH_Hybas6_U_GADM36L01_GPD_PP_Merge_V01.dbf to s3://wri-projects/Aqueduct30/processData/Y2018M11D29_RH_Hybas6_U_GADM36L01_GPD_PP_Merge_V01/output_V03/Y2018M11D29_RH_Hybas6_U_GADM36L01_GPD_PP_Merge_V01.dbf\n",
      "upload: ../../../../data/Y2018M11D29_RH_Hybas6_U_GADM36L01_GPD_PP_Merge_V01/output_V03/Y2018M11D29_RH_Hybas6_U_GADM36L01_GPD_PP_Merge_V01.shp to s3://wri-projects/Aqueduct30/processData/Y2018M11D29_RH_Hybas6_U_GADM36L01_GPD_PP_Merge_V01/output_V03/Y2018M11D29_RH_Hybas6_U_GADM36L01_GPD_PP_Merge_V01.shp\n"
     ]
    }
   ],
   "source": [
    "!aws s3 cp {ec2_output_path} {s3_output_path} --recursive"
   ]
  },
  {
   "cell_type": "code",
   "execution_count": 25,
   "metadata": {},
   "outputs": [
    {
     "name": "stdout",
     "output_type": "stream",
     "text": [
      "0:07:37.361940\n"
     ]
    }
   ],
   "source": [
    "end = datetime.datetime.now()\n",
    "elapsed = end - start\n",
    "print(elapsed)"
   ]
  },
  {
   "cell_type": "markdown",
   "metadata": {},
   "source": [
    "Previous Runs:  \n",
    "0:45:12.187817  \n",
    "0:08:00.518025  \n"
   ]
  },
  {
   "cell_type": "code",
   "execution_count": null,
   "metadata": {
    "collapsed": true
   },
   "outputs": [],
   "source": []
  }
 ],
 "metadata": {
  "kernelspec": {
   "display_name": "Python 35",
   "language": "python",
   "name": "python35"
  },
  "language_info": {
   "codemirror_mode": {
    "name": "ipython",
    "version": 3
   },
   "file_extension": ".py",
   "mimetype": "text/x-python",
   "name": "python",
   "nbconvert_exporter": "python",
   "pygments_lexer": "ipython3",
   "version": "3.5.4"
  }
 },
 "nbformat": 4,
 "nbformat_minor": 2
}
