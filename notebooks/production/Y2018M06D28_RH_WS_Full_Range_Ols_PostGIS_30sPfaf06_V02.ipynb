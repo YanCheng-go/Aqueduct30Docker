{
 "cells": [
  {
   "cell_type": "code",
   "execution_count": 1,
   "metadata": {},
   "outputs": [
    {
     "name": "stdout",
     "output_type": "stream",
     "text": [
      "Input Table:  y2018m06d04_rh_water_stress_postgis_30spfaf06_v02_v08 \n",
      "Output Table:  y2018m06d28_rh_ws_full_range_ols_postgis_30spfaf06_v02_v06\n"
     ]
    }
   ],
   "source": [
    "\"\"\" Fit linear trend and average on 1969-2014 timeseries of linear trends.\n",
    "-------------------------------------------------------------------------------\n",
    "\n",
    "Update 2020/02/03, now use the capped values. Starting from version 6\n",
    "\n",
    "Fit a linear trend and average on the water stress values calculated with a 10\n",
    "year moving window ordinary linear regression. \n",
    "\n",
    "\n",
    "Author: Rutger Hofste\n",
    "Date: 20180628\n",
    "Kernel: python35\n",
    "Docker: rutgerhofste/gisdocker:ubuntu16.04\n",
    "\n",
    "Args:\n",
    "    TESTING (Boolean) : Toggle testing case.\n",
    "    SCRIPT_NAME (string) : Script name.\n",
    "    OUTPUT_VERSION (integer) : output version.\n",
    "    DATABASE_ENDPOINT (string) : RDS or postGreSQL endpoint.\n",
    "    DATABASE_NAME (string) : Database name.\n",
    "    TABLE_NAME_AREA_30SPFAF06 (string) : Table name used for areas. Must exist\n",
    "        on same database as used in rest of script.\n",
    "    S3_INPUT_PATH_RIVERDISCHARGE (string) : AWS S3 input path for \n",
    "        riverdischarge.    \n",
    "    S3_INPUT_PATH_DEMAND (string) : AWS S3 input path for \n",
    "        demand.     \n",
    "\n",
    "\"\"\"\n",
    "\n",
    "TESTING = 0\n",
    "OVERWRITE_OUTPUT = 1\n",
    "SCRIPT_NAME = 'Y2018M06D28_RH_WS_Full_Range_Ols_PostGIS_30sPfaf06_V02'\n",
    "OUTPUT_VERSION = 6\n",
    "\n",
    "DATABASE_ENDPOINT = \"aqueduct30v05.cgpnumwmfcqc.eu-central-1.rds.amazonaws.com\"\n",
    "DATABASE_NAME = \"database01\"\n",
    "INPUT_TABLE_NAME = 'y2018m06d04_rh_water_stress_postgis_30spfaf06_v02_v08'\n",
    "OUTPUT_TABLE_NAME = SCRIPT_NAME.lower() + \"_v{:02.0f}\".format(OUTPUT_VERSION)\n",
    "\n",
    "print(\"Input Table: \" , INPUT_TABLE_NAME, \n",
    "      \"\\nOutput Table: \" , OUTPUT_TABLE_NAME)\n"
   ]
  },
  {
   "cell_type": "code",
   "execution_count": 2,
   "metadata": {},
   "outputs": [
    {
     "name": "stdout",
     "output_type": "stream",
     "text": [
      "Y2020M02D06 UTC 11:53\n"
     ]
    },
    {
     "data": {
      "text/plain": [
       "'3.5.4 |Anaconda, Inc.| (default, Nov 20 2017, 18:44:38) \\n[GCC 7.2.0]'"
      ]
     },
     "execution_count": 2,
     "metadata": {},
     "output_type": "execute_result"
    }
   ],
   "source": [
    "import time, datetime, sys\n",
    "dateString = time.strftime(\"Y%YM%mD%d\")\n",
    "timeString = time.strftime(\"UTC %H:%M\")\n",
    "start = datetime.datetime.now()\n",
    "print(dateString,timeString)\n",
    "sys.version"
   ]
  },
  {
   "cell_type": "code",
   "execution_count": 3,
   "metadata": {
    "collapsed": true
   },
   "outputs": [],
   "source": [
    "# imports\n",
    "import re\n",
    "import os\n",
    "import numpy as np\n",
    "import pandas as pd\n",
    "import aqueduct3\n",
    "from datetime import timedelta\n",
    "from sqlalchemy import *\n",
    "pd.set_option('display.max_columns', 500)"
   ]
  },
  {
   "cell_type": "code",
   "execution_count": 4,
   "metadata": {},
   "outputs": [
    {
     "name": "stdout",
     "output_type": "stream",
     "text": [
      "DROP TABLE IF EXISTS y2018m06d28_rh_ws_full_range_ols_postgis_30spfaf06_v02_v06;\n"
     ]
    }
   ],
   "source": [
    "F = open(\"/.password\",\"r\")\n",
    "password = F.read().splitlines()[0]\n",
    "F.close()\n",
    "\n",
    "engine = create_engine(\"postgresql://rutgerhofste:{}@{}:5432/{}\".format(password,DATABASE_ENDPOINT,DATABASE_NAME))\n",
    "#connection = engine.connect()\n",
    "\n",
    "if OVERWRITE_OUTPUT:\n",
    "    sql = \"DROP TABLE IF EXISTS {};\".format(OUTPUT_TABLE_NAME)\n",
    "    print(sql)\n",
    "    result = engine.execute(sql)"
   ]
  },
  {
   "cell_type": "code",
   "execution_count": 5,
   "metadata": {
    "collapsed": true
   },
   "outputs": [],
   "source": [
    "temporal_reducers = [\"\",\"ma10_\",\"ols10_\",\"capped_ols10_\"]\n",
    "if TESTING:\n",
    "    temporal_reducers = [\"\"]\n",
    "    \n",
    "    "
   ]
  },
  {
   "cell_type": "code",
   "execution_count": 6,
   "metadata": {
    "collapsed": true
   },
   "outputs": [],
   "source": [
    "input_columns = [\"pfafid_30spfaf06\",\n",
    "                 \"temporal_resolution\",\n",
    "                 \"year\",\n",
    "                 \"month\",\n",
    "                 \"area_m2_30spfaf06\",\n",
    "                 \"area_count_30spfaf06\"]"
   ]
  },
  {
   "cell_type": "code",
   "execution_count": 7,
   "metadata": {
    "collapsed": true
   },
   "outputs": [],
   "source": [
    "indicators = [\"waterstress_dimensionless\",\"waterdepletion_dimensionless\",\"riverdischarge_m\",\"ptotww_m\",\"ptotwn_m\"]"
   ]
  },
  {
   "cell_type": "code",
   "execution_count": 8,
   "metadata": {},
   "outputs": [
    {
     "name": "stdout",
     "output_type": "stream",
     "text": [
      "waterstress_dimensionless_30spfaf06\n",
      "waterdepletion_dimensionless_30spfaf06\n",
      "riverdischarge_m_30spfaf06\n",
      "ptotww_m_30spfaf06\n",
      "ptotwn_m_30spfaf06\n",
      "ma10_waterstress_dimensionless_30spfaf06\n",
      "ma10_waterdepletion_dimensionless_30spfaf06\n",
      "ma10_riverdischarge_m_30spfaf06\n",
      "ma10_ptotww_m_30spfaf06\n",
      "ma10_ptotwn_m_30spfaf06\n",
      "ols10_waterstress_dimensionless_30spfaf06\n",
      "ols10_waterdepletion_dimensionless_30spfaf06\n",
      "ols10_riverdischarge_m_30spfaf06\n",
      "ols10_ptotww_m_30spfaf06\n",
      "ols10_ptotwn_m_30spfaf06\n",
      "capped_ols10_waterstress_dimensionless_30spfaf06\n",
      "capped_ols10_waterdepletion_dimensionless_30spfaf06\n",
      "capped_ols10_riverdischarge_m_30spfaf06\n",
      "capped_ols10_ptotww_m_30spfaf06\n",
      "capped_ols10_ptotwn_m_30spfaf06\n"
     ]
    }
   ],
   "source": [
    "sql = \"CREATE TABLE {} AS \".format(OUTPUT_TABLE_NAME)\n",
    "sql += \"SELECT *, \"\n",
    "\"\"\"\n",
    "for input_column in input_columns:\n",
    "    sql = sql + \" {},\".format(input_column)\n",
    "\"\"\" \n",
    "for temporal_reducer in temporal_reducers:\n",
    "    for indicator in indicators:\n",
    "        indicator = \"{}{}_30spfaf06\".format(temporal_reducer,indicator)\n",
    "        print(indicator)\n",
    "        sql += \" AVG({}) OVER(PARTITION BY pfafid_30spfaf06, month, temporal_resolution ORDER BY year ROWS BETWEEN 55 PRECEDING AND CURRENT ROW) AS avg_{},\".format(indicator,indicator)\n",
    "        sql += \" MIN({}) OVER(PARTITION BY pfafid_30spfaf06, month, temporal_resolution ORDER BY year ROWS BETWEEN 55 PRECEDING AND CURRENT ROW) AS min_{},\".format(indicator,indicator)\n",
    "        sql += \" MAX({}) OVER(PARTITION BY pfafid_30spfaf06, month, temporal_resolution ORDER BY year ROWS BETWEEN 55 PRECEDING AND CURRENT ROW) AS max_{},\".format(indicator,indicator)\n",
    "        sql += \" regr_slope({},year) OVER (PARTITION BY pfafid_30spfaf06, month, temporal_resolution ORDER BY year ROWS BETWEEN UNBOUNDED PRECEDING AND CURRENT ROW) AS slope_{},\".format(indicator,indicator)\n",
    "        sql += \" regr_intercept({},year) OVER (PARTITION BY pfafid_30spfaf06, month, temporal_resolution ORDER BY year ROWS BETWEEN 55 PRECEDING AND CURRENT ROW) AS intercept_{},\".format(indicator,indicator)\n",
    "        sql += (\" regr_slope({},year) OVER (PARTITION BY pfafid_30spfaf06, month, temporal_resolution ORDER BY year ROWS BETWEEN 55 PRECEDING AND CURRENT ROW) * year \"\n",
    "                     \"+ regr_intercept({},year) OVER (PARTITION BY pfafid_30spfaf06, month, temporal_resolution ORDER BY year ROWS BETWEEN 55 PRECEDING AND CURRENT ROW) AS ols_{},\".format(indicator,indicator,indicator))\n",
    "\n",
    "sql = sql[:-1]\n",
    "sql = sql + \" FROM {}\".format(INPUT_TABLE_NAME)\n",
    "if TESTING:\n",
    "    sql += \" WHERE pfafid_30spfaf06 = 172111 \"\n",
    "    sql += \" LIMIT 100\"\n",
    "    "
   ]
  },
  {
   "cell_type": "code",
   "execution_count": 9,
   "metadata": {},
   "outputs": [
    {
     "data": {
      "text/plain": [
       "'CREATE TABLE y2018m06d28_rh_ws_full_range_ols_postgis_30spfaf06_v02_v06 AS SELECT *,  AVG(waterstress_dimensionless_30spfaf06) OVER(PARTITION BY pfafid_30spfaf06, month, temporal_resolution ORDER BY year ROWS BETWEEN 55 PRECEDING AND CURRENT ROW) AS avg_waterstress_dimensionless_30spfaf06, MIN(waterstress_dimensionless_30spfaf06) OVER(PARTITION BY pfafid_30spfaf06, month, temporal_resolution ORDER BY year ROWS BETWEEN 55 PRECEDING AND CURRENT ROW) AS min_waterstress_dimensionless_30spfaf06, MAX(waterstress_dimensionless_30spfaf06) OVER(PARTITION BY pfafid_30spfaf06, month, temporal_resolution ORDER BY year ROWS BETWEEN 55 PRECEDING AND CURRENT ROW) AS max_waterstress_dimensionless_30spfaf06, regr_slope(waterstress_dimensionless_30spfaf06,year) OVER (PARTITION BY pfafid_30spfaf06, month, temporal_resolution ORDER BY year ROWS BETWEEN UNBOUNDED PRECEDING AND CURRENT ROW) AS slope_waterstress_dimensionless_30spfaf06, regr_intercept(waterstress_dimensionless_30spfaf06,year) OVER (PARTITION BY pfafid_30spfaf06, month, temporal_resolution ORDER BY year ROWS BETWEEN 55 PRECEDING AND CURRENT ROW) AS intercept_waterstress_dimensionless_30spfaf06, regr_slope(waterstress_dimensionless_30spfaf06,year) OVER (PARTITION BY pfafid_30spfaf06, month, temporal_resolution ORDER BY year ROWS BETWEEN 55 PRECEDING AND CURRENT ROW) * year + regr_intercept(waterstress_dimensionless_30spfaf06,year) OVER (PARTITION BY pfafid_30spfaf06, month, temporal_resolution ORDER BY year ROWS BETWEEN 55 PRECEDING AND CURRENT ROW) AS ols_waterstress_dimensionless_30spfaf06, AVG(waterdepletion_dimensionless_30spfaf06) OVER(PARTITION BY pfafid_30spfaf06, month, temporal_resolution ORDER BY year ROWS BETWEEN 55 PRECEDING AND CURRENT ROW) AS avg_waterdepletion_dimensionless_30spfaf06, MIN(waterdepletion_dimensionless_30spfaf06) OVER(PARTITION BY pfafid_30spfaf06, month, temporal_resolution ORDER BY year ROWS BETWEEN 55 PRECEDING AND CURRENT ROW) AS min_waterdepletion_dimensionless_30spfaf06, MAX(waterdepletion_dimensionless_30spfaf06) OVER(PARTITION BY pfafid_30spfaf06, month, temporal_resolution ORDER BY year ROWS BETWEEN 55 PRECEDING AND CURRENT ROW) AS max_waterdepletion_dimensionless_30spfaf06, regr_slope(waterdepletion_dimensionless_30spfaf06,year) OVER (PARTITION BY pfafid_30spfaf06, month, temporal_resolution ORDER BY year ROWS BETWEEN UNBOUNDED PRECEDING AND CURRENT ROW) AS slope_waterdepletion_dimensionless_30spfaf06, regr_intercept(waterdepletion_dimensionless_30spfaf06,year) OVER (PARTITION BY pfafid_30spfaf06, month, temporal_resolution ORDER BY year ROWS BETWEEN 55 PRECEDING AND CURRENT ROW) AS intercept_waterdepletion_dimensionless_30spfaf06, regr_slope(waterdepletion_dimensionless_30spfaf06,year) OVER (PARTITION BY pfafid_30spfaf06, month, temporal_resolution ORDER BY year ROWS BETWEEN 55 PRECEDING AND CURRENT ROW) * year + regr_intercept(waterdepletion_dimensionless_30spfaf06,year) OVER (PARTITION BY pfafid_30spfaf06, month, temporal_resolution ORDER BY year ROWS BETWEEN 55 PRECEDING AND CURRENT ROW) AS ols_waterdepletion_dimensionless_30spfaf06, AVG(riverdischarge_m_30spfaf06) OVER(PARTITION BY pfafid_30spfaf06, month, temporal_resolution ORDER BY year ROWS BETWEEN 55 PRECEDING AND CURRENT ROW) AS avg_riverdischarge_m_30spfaf06, MIN(riverdischarge_m_30spfaf06) OVER(PARTITION BY pfafid_30spfaf06, month, temporal_resolution ORDER BY year ROWS BETWEEN 55 PRECEDING AND CURRENT ROW) AS min_riverdischarge_m_30spfaf06, MAX(riverdischarge_m_30spfaf06) OVER(PARTITION BY pfafid_30spfaf06, month, temporal_resolution ORDER BY year ROWS BETWEEN 55 PRECEDING AND CURRENT ROW) AS max_riverdischarge_m_30spfaf06, regr_slope(riverdischarge_m_30spfaf06,year) OVER (PARTITION BY pfafid_30spfaf06, month, temporal_resolution ORDER BY year ROWS BETWEEN UNBOUNDED PRECEDING AND CURRENT ROW) AS slope_riverdischarge_m_30spfaf06, regr_intercept(riverdischarge_m_30spfaf06,year) OVER (PARTITION BY pfafid_30spfaf06, month, temporal_resolution ORDER BY year ROWS BETWEEN 55 PRECEDING AND CURRENT ROW) AS intercept_riverdischarge_m_30spfaf06, regr_slope(riverdischarge_m_30spfaf06,year) OVER (PARTITION BY pfafid_30spfaf06, month, temporal_resolution ORDER BY year ROWS BETWEEN 55 PRECEDING AND CURRENT ROW) * year + regr_intercept(riverdischarge_m_30spfaf06,year) OVER (PARTITION BY pfafid_30spfaf06, month, temporal_resolution ORDER BY year ROWS BETWEEN 55 PRECEDING AND CURRENT ROW) AS ols_riverdischarge_m_30spfaf06, AVG(ptotww_m_30spfaf06) OVER(PARTITION BY pfafid_30spfaf06, month, temporal_resolution ORDER BY year ROWS BETWEEN 55 PRECEDING AND CURRENT ROW) AS avg_ptotww_m_30spfaf06, MIN(ptotww_m_30spfaf06) OVER(PARTITION BY pfafid_30spfaf06, month, temporal_resolution ORDER BY year ROWS BETWEEN 55 PRECEDING AND CURRENT ROW) AS min_ptotww_m_30spfaf06, MAX(ptotww_m_30spfaf06) OVER(PARTITION BY pfafid_30spfaf06, month, temporal_resolution ORDER BY year ROWS BETWEEN 55 PRECEDING AND CURRENT ROW) AS max_ptotww_m_30spfaf06, regr_slope(ptotww_m_30spfaf06,year) OVER (PARTITION BY pfafid_30spfaf06, month, temporal_resolution ORDER BY year ROWS BETWEEN UNBOUNDED PRECEDING AND CURRENT ROW) AS slope_ptotww_m_30spfaf06, regr_intercept(ptotww_m_30spfaf06,year) OVER (PARTITION BY pfafid_30spfaf06, month, temporal_resolution ORDER BY year ROWS BETWEEN 55 PRECEDING AND CURRENT ROW) AS intercept_ptotww_m_30spfaf06, regr_slope(ptotww_m_30spfaf06,year) OVER (PARTITION BY pfafid_30spfaf06, month, temporal_resolution ORDER BY year ROWS BETWEEN 55 PRECEDING AND CURRENT ROW) * year + regr_intercept(ptotww_m_30spfaf06,year) OVER (PARTITION BY pfafid_30spfaf06, month, temporal_resolution ORDER BY year ROWS BETWEEN 55 PRECEDING AND CURRENT ROW) AS ols_ptotww_m_30spfaf06, AVG(ptotwn_m_30spfaf06) OVER(PARTITION BY pfafid_30spfaf06, month, temporal_resolution ORDER BY year ROWS BETWEEN 55 PRECEDING AND CURRENT ROW) AS avg_ptotwn_m_30spfaf06, MIN(ptotwn_m_30spfaf06) OVER(PARTITION BY pfafid_30spfaf06, month, temporal_resolution ORDER BY year ROWS BETWEEN 55 PRECEDING AND CURRENT ROW) AS min_ptotwn_m_30spfaf06, MAX(ptotwn_m_30spfaf06) OVER(PARTITION BY pfafid_30spfaf06, month, temporal_resolution ORDER BY year ROWS BETWEEN 55 PRECEDING AND CURRENT ROW) AS max_ptotwn_m_30spfaf06, regr_slope(ptotwn_m_30spfaf06,year) OVER (PARTITION BY pfafid_30spfaf06, month, temporal_resolution ORDER BY year ROWS BETWEEN UNBOUNDED PRECEDING AND CURRENT ROW) AS slope_ptotwn_m_30spfaf06, regr_intercept(ptotwn_m_30spfaf06,year) OVER (PARTITION BY pfafid_30spfaf06, month, temporal_resolution ORDER BY year ROWS BETWEEN 55 PRECEDING AND CURRENT ROW) AS intercept_ptotwn_m_30spfaf06, regr_slope(ptotwn_m_30spfaf06,year) OVER (PARTITION BY pfafid_30spfaf06, month, temporal_resolution ORDER BY year ROWS BETWEEN 55 PRECEDING AND CURRENT ROW) * year + regr_intercept(ptotwn_m_30spfaf06,year) OVER (PARTITION BY pfafid_30spfaf06, month, temporal_resolution ORDER BY year ROWS BETWEEN 55 PRECEDING AND CURRENT ROW) AS ols_ptotwn_m_30spfaf06, AVG(ma10_waterstress_dimensionless_30spfaf06) OVER(PARTITION BY pfafid_30spfaf06, month, temporal_resolution ORDER BY year ROWS BETWEEN 55 PRECEDING AND CURRENT ROW) AS avg_ma10_waterstress_dimensionless_30spfaf06, MIN(ma10_waterstress_dimensionless_30spfaf06) OVER(PARTITION BY pfafid_30spfaf06, month, temporal_resolution ORDER BY year ROWS BETWEEN 55 PRECEDING AND CURRENT ROW) AS min_ma10_waterstress_dimensionless_30spfaf06, MAX(ma10_waterstress_dimensionless_30spfaf06) OVER(PARTITION BY pfafid_30spfaf06, month, temporal_resolution ORDER BY year ROWS BETWEEN 55 PRECEDING AND CURRENT ROW) AS max_ma10_waterstress_dimensionless_30spfaf06, regr_slope(ma10_waterstress_dimensionless_30spfaf06,year) OVER (PARTITION BY pfafid_30spfaf06, month, temporal_resolution ORDER BY year ROWS BETWEEN UNBOUNDED PRECEDING AND CURRENT ROW) AS slope_ma10_waterstress_dimensionless_30spfaf06, regr_intercept(ma10_waterstress_dimensionless_30spfaf06,year) OVER (PARTITION BY pfafid_30spfaf06, month, temporal_resolution ORDER BY year ROWS BETWEEN 55 PRECEDING AND CURRENT ROW) AS intercept_ma10_waterstress_dimensionless_30spfaf06, regr_slope(ma10_waterstress_dimensionless_30spfaf06,year) OVER (PARTITION BY pfafid_30spfaf06, month, temporal_resolution ORDER BY year ROWS BETWEEN 55 PRECEDING AND CURRENT ROW) * year + regr_intercept(ma10_waterstress_dimensionless_30spfaf06,year) OVER (PARTITION BY pfafid_30spfaf06, month, temporal_resolution ORDER BY year ROWS BETWEEN 55 PRECEDING AND CURRENT ROW) AS ols_ma10_waterstress_dimensionless_30spfaf06, AVG(ma10_waterdepletion_dimensionless_30spfaf06) OVER(PARTITION BY pfafid_30spfaf06, month, temporal_resolution ORDER BY year ROWS BETWEEN 55 PRECEDING AND CURRENT ROW) AS avg_ma10_waterdepletion_dimensionless_30spfaf06, MIN(ma10_waterdepletion_dimensionless_30spfaf06) OVER(PARTITION BY pfafid_30spfaf06, month, temporal_resolution ORDER BY year ROWS BETWEEN 55 PRECEDING AND CURRENT ROW) AS min_ma10_waterdepletion_dimensionless_30spfaf06, MAX(ma10_waterdepletion_dimensionless_30spfaf06) OVER(PARTITION BY pfafid_30spfaf06, month, temporal_resolution ORDER BY year ROWS BETWEEN 55 PRECEDING AND CURRENT ROW) AS max_ma10_waterdepletion_dimensionless_30spfaf06, regr_slope(ma10_waterdepletion_dimensionless_30spfaf06,year) OVER (PARTITION BY pfafid_30spfaf06, month, temporal_resolution ORDER BY year ROWS BETWEEN UNBOUNDED PRECEDING AND CURRENT ROW) AS slope_ma10_waterdepletion_dimensionless_30spfaf06, regr_intercept(ma10_waterdepletion_dimensionless_30spfaf06,year) OVER (PARTITION BY pfafid_30spfaf06, month, temporal_resolution ORDER BY year ROWS BETWEEN 55 PRECEDING AND CURRENT ROW) AS intercept_ma10_waterdepletion_dimensionless_30spfaf06, regr_slope(ma10_waterdepletion_dimensionless_30spfaf06,year) OVER (PARTITION BY pfafid_30spfaf06, month, temporal_resolution ORDER BY year ROWS BETWEEN 55 PRECEDING AND CURRENT ROW) * year + regr_intercept(ma10_waterdepletion_dimensionless_30spfaf06,year) OVER (PARTITION BY pfafid_30spfaf06, month, temporal_resolution ORDER BY year ROWS BETWEEN 55 PRECEDING AND CURRENT ROW) AS ols_ma10_waterdepletion_dimensionless_30spfaf06, AVG(ma10_riverdischarge_m_30spfaf06) OVER(PARTITION BY pfafid_30spfaf06, month, temporal_resolution ORDER BY year ROWS BETWEEN 55 PRECEDING AND CURRENT ROW) AS avg_ma10_riverdischarge_m_30spfaf06, MIN(ma10_riverdischarge_m_30spfaf06) OVER(PARTITION BY pfafid_30spfaf06, month, temporal_resolution ORDER BY year ROWS BETWEEN 55 PRECEDING AND CURRENT ROW) AS min_ma10_riverdischarge_m_30spfaf06, MAX(ma10_riverdischarge_m_30spfaf06) OVER(PARTITION BY pfafid_30spfaf06, month, temporal_resolution ORDER BY year ROWS BETWEEN 55 PRECEDING AND CURRENT ROW) AS max_ma10_riverdischarge_m_30spfaf06, regr_slope(ma10_riverdischarge_m_30spfaf06,year) OVER (PARTITION BY pfafid_30spfaf06, month, temporal_resolution ORDER BY year ROWS BETWEEN UNBOUNDED PRECEDING AND CURRENT ROW) AS slope_ma10_riverdischarge_m_30spfaf06, regr_intercept(ma10_riverdischarge_m_30spfaf06,year) OVER (PARTITION BY pfafid_30spfaf06, month, temporal_resolution ORDER BY year ROWS BETWEEN 55 PRECEDING AND CURRENT ROW) AS intercept_ma10_riverdischarge_m_30spfaf06, regr_slope(ma10_riverdischarge_m_30spfaf06,year) OVER (PARTITION BY pfafid_30spfaf06, month, temporal_resolution ORDER BY year ROWS BETWEEN 55 PRECEDING AND CURRENT ROW) * year + regr_intercept(ma10_riverdischarge_m_30spfaf06,year) OVER (PARTITION BY pfafid_30spfaf06, month, temporal_resolution ORDER BY year ROWS BETWEEN 55 PRECEDING AND CURRENT ROW) AS ols_ma10_riverdischarge_m_30spfaf06, AVG(ma10_ptotww_m_30spfaf06) OVER(PARTITION BY pfafid_30spfaf06, month, temporal_resolution ORDER BY year ROWS BETWEEN 55 PRECEDING AND CURRENT ROW) AS avg_ma10_ptotww_m_30spfaf06, MIN(ma10_ptotww_m_30spfaf06) OVER(PARTITION BY pfafid_30spfaf06, month, temporal_resolution ORDER BY year ROWS BETWEEN 55 PRECEDING AND CURRENT ROW) AS min_ma10_ptotww_m_30spfaf06, MAX(ma10_ptotww_m_30spfaf06) OVER(PARTITION BY pfafid_30spfaf06, month, temporal_resolution ORDER BY year ROWS BETWEEN 55 PRECEDING AND CURRENT ROW) AS max_ma10_ptotww_m_30spfaf06, regr_slope(ma10_ptotww_m_30spfaf06,year) OVER (PARTITION BY pfafid_30spfaf06, month, temporal_resolution ORDER BY year ROWS BETWEEN UNBOUNDED PRECEDING AND CURRENT ROW) AS slope_ma10_ptotww_m_30spfaf06, regr_intercept(ma10_ptotww_m_30spfaf06,year) OVER (PARTITION BY pfafid_30spfaf06, month, temporal_resolution ORDER BY year ROWS BETWEEN 55 PRECEDING AND CURRENT ROW) AS intercept_ma10_ptotww_m_30spfaf06, regr_slope(ma10_ptotww_m_30spfaf06,year) OVER (PARTITION BY pfafid_30spfaf06, month, temporal_resolution ORDER BY year ROWS BETWEEN 55 PRECEDING AND CURRENT ROW) * year + regr_intercept(ma10_ptotww_m_30spfaf06,year) OVER (PARTITION BY pfafid_30spfaf06, month, temporal_resolution ORDER BY year ROWS BETWEEN 55 PRECEDING AND CURRENT ROW) AS ols_ma10_ptotww_m_30spfaf06, AVG(ma10_ptotwn_m_30spfaf06) OVER(PARTITION BY pfafid_30spfaf06, month, temporal_resolution ORDER BY year ROWS BETWEEN 55 PRECEDING AND CURRENT ROW) AS avg_ma10_ptotwn_m_30spfaf06, MIN(ma10_ptotwn_m_30spfaf06) OVER(PARTITION BY pfafid_30spfaf06, month, temporal_resolution ORDER BY year ROWS BETWEEN 55 PRECEDING AND CURRENT ROW) AS min_ma10_ptotwn_m_30spfaf06, MAX(ma10_ptotwn_m_30spfaf06) OVER(PARTITION BY pfafid_30spfaf06, month, temporal_resolution ORDER BY year ROWS BETWEEN 55 PRECEDING AND CURRENT ROW) AS max_ma10_ptotwn_m_30spfaf06, regr_slope(ma10_ptotwn_m_30spfaf06,year) OVER (PARTITION BY pfafid_30spfaf06, month, temporal_resolution ORDER BY year ROWS BETWEEN UNBOUNDED PRECEDING AND CURRENT ROW) AS slope_ma10_ptotwn_m_30spfaf06, regr_intercept(ma10_ptotwn_m_30spfaf06,year) OVER (PARTITION BY pfafid_30spfaf06, month, temporal_resolution ORDER BY year ROWS BETWEEN 55 PRECEDING AND CURRENT ROW) AS intercept_ma10_ptotwn_m_30spfaf06, regr_slope(ma10_ptotwn_m_30spfaf06,year) OVER (PARTITION BY pfafid_30spfaf06, month, temporal_resolution ORDER BY year ROWS BETWEEN 55 PRECEDING AND CURRENT ROW) * year + regr_intercept(ma10_ptotwn_m_30spfaf06,year) OVER (PARTITION BY pfafid_30spfaf06, month, temporal_resolution ORDER BY year ROWS BETWEEN 55 PRECEDING AND CURRENT ROW) AS ols_ma10_ptotwn_m_30spfaf06, AVG(ols10_waterstress_dimensionless_30spfaf06) OVER(PARTITION BY pfafid_30spfaf06, month, temporal_resolution ORDER BY year ROWS BETWEEN 55 PRECEDING AND CURRENT ROW) AS avg_ols10_waterstress_dimensionless_30spfaf06, MIN(ols10_waterstress_dimensionless_30spfaf06) OVER(PARTITION BY pfafid_30spfaf06, month, temporal_resolution ORDER BY year ROWS BETWEEN 55 PRECEDING AND CURRENT ROW) AS min_ols10_waterstress_dimensionless_30spfaf06, MAX(ols10_waterstress_dimensionless_30spfaf06) OVER(PARTITION BY pfafid_30spfaf06, month, temporal_resolution ORDER BY year ROWS BETWEEN 55 PRECEDING AND CURRENT ROW) AS max_ols10_waterstress_dimensionless_30spfaf06, regr_slope(ols10_waterstress_dimensionless_30spfaf06,year) OVER (PARTITION BY pfafid_30spfaf06, month, temporal_resolution ORDER BY year ROWS BETWEEN UNBOUNDED PRECEDING AND CURRENT ROW) AS slope_ols10_waterstress_dimensionless_30spfaf06, regr_intercept(ols10_waterstress_dimensionless_30spfaf06,year) OVER (PARTITION BY pfafid_30spfaf06, month, temporal_resolution ORDER BY year ROWS BETWEEN 55 PRECEDING AND CURRENT ROW) AS intercept_ols10_waterstress_dimensionless_30spfaf06, regr_slope(ols10_waterstress_dimensionless_30spfaf06,year) OVER (PARTITION BY pfafid_30spfaf06, month, temporal_resolution ORDER BY year ROWS BETWEEN 55 PRECEDING AND CURRENT ROW) * year + regr_intercept(ols10_waterstress_dimensionless_30spfaf06,year) OVER (PARTITION BY pfafid_30spfaf06, month, temporal_resolution ORDER BY year ROWS BETWEEN 55 PRECEDING AND CURRENT ROW) AS ols_ols10_waterstress_dimensionless_30spfaf06, AVG(ols10_waterdepletion_dimensionless_30spfaf06) OVER(PARTITION BY pfafid_30spfaf06, month, temporal_resolution ORDER BY year ROWS BETWEEN 55 PRECEDING AND CURRENT ROW) AS avg_ols10_waterdepletion_dimensionless_30spfaf06, MIN(ols10_waterdepletion_dimensionless_30spfaf06) OVER(PARTITION BY pfafid_30spfaf06, month, temporal_resolution ORDER BY year ROWS BETWEEN 55 PRECEDING AND CURRENT ROW) AS min_ols10_waterdepletion_dimensionless_30spfaf06, MAX(ols10_waterdepletion_dimensionless_30spfaf06) OVER(PARTITION BY pfafid_30spfaf06, month, temporal_resolution ORDER BY year ROWS BETWEEN 55 PRECEDING AND CURRENT ROW) AS max_ols10_waterdepletion_dimensionless_30spfaf06, regr_slope(ols10_waterdepletion_dimensionless_30spfaf06,year) OVER (PARTITION BY pfafid_30spfaf06, month, temporal_resolution ORDER BY year ROWS BETWEEN UNBOUNDED PRECEDING AND CURRENT ROW) AS slope_ols10_waterdepletion_dimensionless_30spfaf06, regr_intercept(ols10_waterdepletion_dimensionless_30spfaf06,year) OVER (PARTITION BY pfafid_30spfaf06, month, temporal_resolution ORDER BY year ROWS BETWEEN 55 PRECEDING AND CURRENT ROW) AS intercept_ols10_waterdepletion_dimensionless_30spfaf06, regr_slope(ols10_waterdepletion_dimensionless_30spfaf06,year) OVER (PARTITION BY pfafid_30spfaf06, month, temporal_resolution ORDER BY year ROWS BETWEEN 55 PRECEDING AND CURRENT ROW) * year + regr_intercept(ols10_waterdepletion_dimensionless_30spfaf06,year) OVER (PARTITION BY pfafid_30spfaf06, month, temporal_resolution ORDER BY year ROWS BETWEEN 55 PRECEDING AND CURRENT ROW) AS ols_ols10_waterdepletion_dimensionless_30spfaf06, AVG(ols10_riverdischarge_m_30spfaf06) OVER(PARTITION BY pfafid_30spfaf06, month, temporal_resolution ORDER BY year ROWS BETWEEN 55 PRECEDING AND CURRENT ROW) AS avg_ols10_riverdischarge_m_30spfaf06, MIN(ols10_riverdischarge_m_30spfaf06) OVER(PARTITION BY pfafid_30spfaf06, month, temporal_resolution ORDER BY year ROWS BETWEEN 55 PRECEDING AND CURRENT ROW) AS min_ols10_riverdischarge_m_30spfaf06, MAX(ols10_riverdischarge_m_30spfaf06) OVER(PARTITION BY pfafid_30spfaf06, month, temporal_resolution ORDER BY year ROWS BETWEEN 55 PRECEDING AND CURRENT ROW) AS max_ols10_riverdischarge_m_30spfaf06, regr_slope(ols10_riverdischarge_m_30spfaf06,year) OVER (PARTITION BY pfafid_30spfaf06, month, temporal_resolution ORDER BY year ROWS BETWEEN UNBOUNDED PRECEDING AND CURRENT ROW) AS slope_ols10_riverdischarge_m_30spfaf06, regr_intercept(ols10_riverdischarge_m_30spfaf06,year) OVER (PARTITION BY pfafid_30spfaf06, month, temporal_resolution ORDER BY year ROWS BETWEEN 55 PRECEDING AND CURRENT ROW) AS intercept_ols10_riverdischarge_m_30spfaf06, regr_slope(ols10_riverdischarge_m_30spfaf06,year) OVER (PARTITION BY pfafid_30spfaf06, month, temporal_resolution ORDER BY year ROWS BETWEEN 55 PRECEDING AND CURRENT ROW) * year + regr_intercept(ols10_riverdischarge_m_30spfaf06,year) OVER (PARTITION BY pfafid_30spfaf06, month, temporal_resolution ORDER BY year ROWS BETWEEN 55 PRECEDING AND CURRENT ROW) AS ols_ols10_riverdischarge_m_30spfaf06, AVG(ols10_ptotww_m_30spfaf06) OVER(PARTITION BY pfafid_30spfaf06, month, temporal_resolution ORDER BY year ROWS BETWEEN 55 PRECEDING AND CURRENT ROW) AS avg_ols10_ptotww_m_30spfaf06, MIN(ols10_ptotww_m_30spfaf06) OVER(PARTITION BY pfafid_30spfaf06, month, temporal_resolution ORDER BY year ROWS BETWEEN 55 PRECEDING AND CURRENT ROW) AS min_ols10_ptotww_m_30spfaf06, MAX(ols10_ptotww_m_30spfaf06) OVER(PARTITION BY pfafid_30spfaf06, month, temporal_resolution ORDER BY year ROWS BETWEEN 55 PRECEDING AND CURRENT ROW) AS max_ols10_ptotww_m_30spfaf06, regr_slope(ols10_ptotww_m_30spfaf06,year) OVER (PARTITION BY pfafid_30spfaf06, month, temporal_resolution ORDER BY year ROWS BETWEEN UNBOUNDED PRECEDING AND CURRENT ROW) AS slope_ols10_ptotww_m_30spfaf06, regr_intercept(ols10_ptotww_m_30spfaf06,year) OVER (PARTITION BY pfafid_30spfaf06, month, temporal_resolution ORDER BY year ROWS BETWEEN 55 PRECEDING AND CURRENT ROW) AS intercept_ols10_ptotww_m_30spfaf06, regr_slope(ols10_ptotww_m_30spfaf06,year) OVER (PARTITION BY pfafid_30spfaf06, month, temporal_resolution ORDER BY year ROWS BETWEEN 55 PRECEDING AND CURRENT ROW) * year + regr_intercept(ols10_ptotww_m_30spfaf06,year) OVER (PARTITION BY pfafid_30spfaf06, month, temporal_resolution ORDER BY year ROWS BETWEEN 55 PRECEDING AND CURRENT ROW) AS ols_ols10_ptotww_m_30spfaf06, AVG(ols10_ptotwn_m_30spfaf06) OVER(PARTITION BY pfafid_30spfaf06, month, temporal_resolution ORDER BY year ROWS BETWEEN 55 PRECEDING AND CURRENT ROW) AS avg_ols10_ptotwn_m_30spfaf06, MIN(ols10_ptotwn_m_30spfaf06) OVER(PARTITION BY pfafid_30spfaf06, month, temporal_resolution ORDER BY year ROWS BETWEEN 55 PRECEDING AND CURRENT ROW) AS min_ols10_ptotwn_m_30spfaf06, MAX(ols10_ptotwn_m_30spfaf06) OVER(PARTITION BY pfafid_30spfaf06, month, temporal_resolution ORDER BY year ROWS BETWEEN 55 PRECEDING AND CURRENT ROW) AS max_ols10_ptotwn_m_30spfaf06, regr_slope(ols10_ptotwn_m_30spfaf06,year) OVER (PARTITION BY pfafid_30spfaf06, month, temporal_resolution ORDER BY year ROWS BETWEEN UNBOUNDED PRECEDING AND CURRENT ROW) AS slope_ols10_ptotwn_m_30spfaf06, regr_intercept(ols10_ptotwn_m_30spfaf06,year) OVER (PARTITION BY pfafid_30spfaf06, month, temporal_resolution ORDER BY year ROWS BETWEEN 55 PRECEDING AND CURRENT ROW) AS intercept_ols10_ptotwn_m_30spfaf06, regr_slope(ols10_ptotwn_m_30spfaf06,year) OVER (PARTITION BY pfafid_30spfaf06, month, temporal_resolution ORDER BY year ROWS BETWEEN 55 PRECEDING AND CURRENT ROW) * year + regr_intercept(ols10_ptotwn_m_30spfaf06,year) OVER (PARTITION BY pfafid_30spfaf06, month, temporal_resolution ORDER BY year ROWS BETWEEN 55 PRECEDING AND CURRENT ROW) AS ols_ols10_ptotwn_m_30spfaf06, AVG(capped_ols10_waterstress_dimensionless_30spfaf06) OVER(PARTITION BY pfafid_30spfaf06, month, temporal_resolution ORDER BY year ROWS BETWEEN 55 PRECEDING AND CURRENT ROW) AS avg_capped_ols10_waterstress_dimensionless_30spfaf06, MIN(capped_ols10_waterstress_dimensionless_30spfaf06) OVER(PARTITION BY pfafid_30spfaf06, month, temporal_resolution ORDER BY year ROWS BETWEEN 55 PRECEDING AND CURRENT ROW) AS min_capped_ols10_waterstress_dimensionless_30spfaf06, MAX(capped_ols10_waterstress_dimensionless_30spfaf06) OVER(PARTITION BY pfafid_30spfaf06, month, temporal_resolution ORDER BY year ROWS BETWEEN 55 PRECEDING AND CURRENT ROW) AS max_capped_ols10_waterstress_dimensionless_30spfaf06, regr_slope(capped_ols10_waterstress_dimensionless_30spfaf06,year) OVER (PARTITION BY pfafid_30spfaf06, month, temporal_resolution ORDER BY year ROWS BETWEEN UNBOUNDED PRECEDING AND CURRENT ROW) AS slope_capped_ols10_waterstress_dimensionless_30spfaf06, regr_intercept(capped_ols10_waterstress_dimensionless_30spfaf06,year) OVER (PARTITION BY pfafid_30spfaf06, month, temporal_resolution ORDER BY year ROWS BETWEEN 55 PRECEDING AND CURRENT ROW) AS intercept_capped_ols10_waterstress_dimensionless_30spfaf06, regr_slope(capped_ols10_waterstress_dimensionless_30spfaf06,year) OVER (PARTITION BY pfafid_30spfaf06, month, temporal_resolution ORDER BY year ROWS BETWEEN 55 PRECEDING AND CURRENT ROW) * year + regr_intercept(capped_ols10_waterstress_dimensionless_30spfaf06,year) OVER (PARTITION BY pfafid_30spfaf06, month, temporal_resolution ORDER BY year ROWS BETWEEN 55 PRECEDING AND CURRENT ROW) AS ols_capped_ols10_waterstress_dimensionless_30spfaf06, AVG(capped_ols10_waterdepletion_dimensionless_30spfaf06) OVER(PARTITION BY pfafid_30spfaf06, month, temporal_resolution ORDER BY year ROWS BETWEEN 55 PRECEDING AND CURRENT ROW) AS avg_capped_ols10_waterdepletion_dimensionless_30spfaf06, MIN(capped_ols10_waterdepletion_dimensionless_30spfaf06) OVER(PARTITION BY pfafid_30spfaf06, month, temporal_resolution ORDER BY year ROWS BETWEEN 55 PRECEDING AND CURRENT ROW) AS min_capped_ols10_waterdepletion_dimensionless_30spfaf06, MAX(capped_ols10_waterdepletion_dimensionless_30spfaf06) OVER(PARTITION BY pfafid_30spfaf06, month, temporal_resolution ORDER BY year ROWS BETWEEN 55 PRECEDING AND CURRENT ROW) AS max_capped_ols10_waterdepletion_dimensionless_30spfaf06, regr_slope(capped_ols10_waterdepletion_dimensionless_30spfaf06,year) OVER (PARTITION BY pfafid_30spfaf06, month, temporal_resolution ORDER BY year ROWS BETWEEN UNBOUNDED PRECEDING AND CURRENT ROW) AS slope_capped_ols10_waterdepletion_dimensionless_30spfaf06, regr_intercept(capped_ols10_waterdepletion_dimensionless_30spfaf06,year) OVER (PARTITION BY pfafid_30spfaf06, month, temporal_resolution ORDER BY year ROWS BETWEEN 55 PRECEDING AND CURRENT ROW) AS intercept_capped_ols10_waterdepletion_dimensionless_30spfaf06, regr_slope(capped_ols10_waterdepletion_dimensionless_30spfaf06,year) OVER (PARTITION BY pfafid_30spfaf06, month, temporal_resolution ORDER BY year ROWS BETWEEN 55 PRECEDING AND CURRENT ROW) * year + regr_intercept(capped_ols10_waterdepletion_dimensionless_30spfaf06,year) OVER (PARTITION BY pfafid_30spfaf06, month, temporal_resolution ORDER BY year ROWS BETWEEN 55 PRECEDING AND CURRENT ROW) AS ols_capped_ols10_waterdepletion_dimensionless_30spfaf06, AVG(capped_ols10_riverdischarge_m_30spfaf06) OVER(PARTITION BY pfafid_30spfaf06, month, temporal_resolution ORDER BY year ROWS BETWEEN 55 PRECEDING AND CURRENT ROW) AS avg_capped_ols10_riverdischarge_m_30spfaf06, MIN(capped_ols10_riverdischarge_m_30spfaf06) OVER(PARTITION BY pfafid_30spfaf06, month, temporal_resolution ORDER BY year ROWS BETWEEN 55 PRECEDING AND CURRENT ROW) AS min_capped_ols10_riverdischarge_m_30spfaf06, MAX(capped_ols10_riverdischarge_m_30spfaf06) OVER(PARTITION BY pfafid_30spfaf06, month, temporal_resolution ORDER BY year ROWS BETWEEN 55 PRECEDING AND CURRENT ROW) AS max_capped_ols10_riverdischarge_m_30spfaf06, regr_slope(capped_ols10_riverdischarge_m_30spfaf06,year) OVER (PARTITION BY pfafid_30spfaf06, month, temporal_resolution ORDER BY year ROWS BETWEEN UNBOUNDED PRECEDING AND CURRENT ROW) AS slope_capped_ols10_riverdischarge_m_30spfaf06, regr_intercept(capped_ols10_riverdischarge_m_30spfaf06,year) OVER (PARTITION BY pfafid_30spfaf06, month, temporal_resolution ORDER BY year ROWS BETWEEN 55 PRECEDING AND CURRENT ROW) AS intercept_capped_ols10_riverdischarge_m_30spfaf06, regr_slope(capped_ols10_riverdischarge_m_30spfaf06,year) OVER (PARTITION BY pfafid_30spfaf06, month, temporal_resolution ORDER BY year ROWS BETWEEN 55 PRECEDING AND CURRENT ROW) * year + regr_intercept(capped_ols10_riverdischarge_m_30spfaf06,year) OVER (PARTITION BY pfafid_30spfaf06, month, temporal_resolution ORDER BY year ROWS BETWEEN 55 PRECEDING AND CURRENT ROW) AS ols_capped_ols10_riverdischarge_m_30spfaf06, AVG(capped_ols10_ptotww_m_30spfaf06) OVER(PARTITION BY pfafid_30spfaf06, month, temporal_resolution ORDER BY year ROWS BETWEEN 55 PRECEDING AND CURRENT ROW) AS avg_capped_ols10_ptotww_m_30spfaf06, MIN(capped_ols10_ptotww_m_30spfaf06) OVER(PARTITION BY pfafid_30spfaf06, month, temporal_resolution ORDER BY year ROWS BETWEEN 55 PRECEDING AND CURRENT ROW) AS min_capped_ols10_ptotww_m_30spfaf06, MAX(capped_ols10_ptotww_m_30spfaf06) OVER(PARTITION BY pfafid_30spfaf06, month, temporal_resolution ORDER BY year ROWS BETWEEN 55 PRECEDING AND CURRENT ROW) AS max_capped_ols10_ptotww_m_30spfaf06, regr_slope(capped_ols10_ptotww_m_30spfaf06,year) OVER (PARTITION BY pfafid_30spfaf06, month, temporal_resolution ORDER BY year ROWS BETWEEN UNBOUNDED PRECEDING AND CURRENT ROW) AS slope_capped_ols10_ptotww_m_30spfaf06, regr_intercept(capped_ols10_ptotww_m_30spfaf06,year) OVER (PARTITION BY pfafid_30spfaf06, month, temporal_resolution ORDER BY year ROWS BETWEEN 55 PRECEDING AND CURRENT ROW) AS intercept_capped_ols10_ptotww_m_30spfaf06, regr_slope(capped_ols10_ptotww_m_30spfaf06,year) OVER (PARTITION BY pfafid_30spfaf06, month, temporal_resolution ORDER BY year ROWS BETWEEN 55 PRECEDING AND CURRENT ROW) * year + regr_intercept(capped_ols10_ptotww_m_30spfaf06,year) OVER (PARTITION BY pfafid_30spfaf06, month, temporal_resolution ORDER BY year ROWS BETWEEN 55 PRECEDING AND CURRENT ROW) AS ols_capped_ols10_ptotww_m_30spfaf06, AVG(capped_ols10_ptotwn_m_30spfaf06) OVER(PARTITION BY pfafid_30spfaf06, month, temporal_resolution ORDER BY year ROWS BETWEEN 55 PRECEDING AND CURRENT ROW) AS avg_capped_ols10_ptotwn_m_30spfaf06, MIN(capped_ols10_ptotwn_m_30spfaf06) OVER(PARTITION BY pfafid_30spfaf06, month, temporal_resolution ORDER BY year ROWS BETWEEN 55 PRECEDING AND CURRENT ROW) AS min_capped_ols10_ptotwn_m_30spfaf06, MAX(capped_ols10_ptotwn_m_30spfaf06) OVER(PARTITION BY pfafid_30spfaf06, month, temporal_resolution ORDER BY year ROWS BETWEEN 55 PRECEDING AND CURRENT ROW) AS max_capped_ols10_ptotwn_m_30spfaf06, regr_slope(capped_ols10_ptotwn_m_30spfaf06,year) OVER (PARTITION BY pfafid_30spfaf06, month, temporal_resolution ORDER BY year ROWS BETWEEN UNBOUNDED PRECEDING AND CURRENT ROW) AS slope_capped_ols10_ptotwn_m_30spfaf06, regr_intercept(capped_ols10_ptotwn_m_30spfaf06,year) OVER (PARTITION BY pfafid_30spfaf06, month, temporal_resolution ORDER BY year ROWS BETWEEN 55 PRECEDING AND CURRENT ROW) AS intercept_capped_ols10_ptotwn_m_30spfaf06, regr_slope(capped_ols10_ptotwn_m_30spfaf06,year) OVER (PARTITION BY pfafid_30spfaf06, month, temporal_resolution ORDER BY year ROWS BETWEEN 55 PRECEDING AND CURRENT ROW) * year + regr_intercept(capped_ols10_ptotwn_m_30spfaf06,year) OVER (PARTITION BY pfafid_30spfaf06, month, temporal_resolution ORDER BY year ROWS BETWEEN 55 PRECEDING AND CURRENT ROW) AS ols_capped_ols10_ptotwn_m_30spfaf06 FROM y2018m06d04_rh_water_stress_postgis_30spfaf06_v02_v08'"
      ]
     },
     "execution_count": 9,
     "metadata": {},
     "output_type": "execute_result"
    }
   ],
   "source": [
    "sql"
   ]
  },
  {
   "cell_type": "code",
   "execution_count": 10,
   "metadata": {
    "collapsed": true
   },
   "outputs": [],
   "source": [
    "result = engine.execute(sql)"
   ]
  },
  {
   "cell_type": "code",
   "execution_count": 11,
   "metadata": {
    "collapsed": true
   },
   "outputs": [],
   "source": [
    "sql_index = \"CREATE INDEX {}pfafid_30spfaf06 ON {} ({})\".format(OUTPUT_TABLE_NAME,OUTPUT_TABLE_NAME,\"pfafid_30spfaf06\")"
   ]
  },
  {
   "cell_type": "code",
   "execution_count": 12,
   "metadata": {},
   "outputs": [
    {
     "data": {
      "text/plain": [
       "'CREATE INDEX y2018m06d28_rh_ws_full_range_ols_postgis_30spfaf06_v02_v06pfafid_30spfaf06 ON y2018m06d28_rh_ws_full_range_ols_postgis_30spfaf06_v02_v06 (pfafid_30spfaf06)'"
      ]
     },
     "execution_count": 12,
     "metadata": {},
     "output_type": "execute_result"
    }
   ],
   "source": [
    "sql_index"
   ]
  },
  {
   "cell_type": "code",
   "execution_count": 13,
   "metadata": {
    "collapsed": true
   },
   "outputs": [],
   "source": [
    "result = engine.execute(sql_index)"
   ]
  },
  {
   "cell_type": "code",
   "execution_count": 14,
   "metadata": {
    "collapsed": true
   },
   "outputs": [],
   "source": [
    "sql_index2 = \"CREATE INDEX {}year ON {} ({})\".format(OUTPUT_TABLE_NAME,OUTPUT_TABLE_NAME,\"year\")"
   ]
  },
  {
   "cell_type": "code",
   "execution_count": 15,
   "metadata": {},
   "outputs": [
    {
     "data": {
      "text/plain": [
       "'CREATE INDEX y2018m06d28_rh_ws_full_range_ols_postgis_30spfaf06_v02_v06year ON y2018m06d28_rh_ws_full_range_ols_postgis_30spfaf06_v02_v06 (year)'"
      ]
     },
     "execution_count": 15,
     "metadata": {},
     "output_type": "execute_result"
    }
   ],
   "source": [
    "sql_index2"
   ]
  },
  {
   "cell_type": "code",
   "execution_count": 16,
   "metadata": {
    "collapsed": true
   },
   "outputs": [],
   "source": [
    "result = engine.execute(sql_index2)"
   ]
  },
  {
   "cell_type": "code",
   "execution_count": 17,
   "metadata": {
    "collapsed": true
   },
   "outputs": [],
   "source": [
    "sql_index3 = \"CREATE INDEX {}month ON {} ({})\".format(OUTPUT_TABLE_NAME,OUTPUT_TABLE_NAME,\"month\")"
   ]
  },
  {
   "cell_type": "code",
   "execution_count": 18,
   "metadata": {},
   "outputs": [
    {
     "data": {
      "text/plain": [
       "'CREATE INDEX y2018m06d28_rh_ws_full_range_ols_postgis_30spfaf06_v02_v06month ON y2018m06d28_rh_ws_full_range_ols_postgis_30spfaf06_v02_v06 (month)'"
      ]
     },
     "execution_count": 18,
     "metadata": {},
     "output_type": "execute_result"
    }
   ],
   "source": [
    "sql_index3"
   ]
  },
  {
   "cell_type": "code",
   "execution_count": 19,
   "metadata": {
    "collapsed": true
   },
   "outputs": [],
   "source": [
    "result = engine.execute(sql_index3)"
   ]
  },
  {
   "cell_type": "code",
   "execution_count": 20,
   "metadata": {
    "collapsed": true
   },
   "outputs": [],
   "source": [
    "engine.dispose()"
   ]
  },
  {
   "cell_type": "code",
   "execution_count": 21,
   "metadata": {},
   "outputs": [
    {
     "name": "stdout",
     "output_type": "stream",
     "text": [
      "0:31:19.766478\n"
     ]
    }
   ],
   "source": [
    "end = datetime.datetime.now()\n",
    "elapsed = end - start\n",
    "print(elapsed)"
   ]
  },
  {
   "cell_type": "markdown",
   "metadata": {},
   "source": [
    "Previous runs:  \n",
    "0:19:28.891726  \n",
    "0:22:39.252233  \n",
    "0:31:26.302268  \n",
    "0:29:30.630927  \n",
    "0:26:08.090470  \n",
    "0:31:46.727090  \n",
    "0:31:19.766478\n"
   ]
  },
  {
   "cell_type": "code",
   "execution_count": null,
   "metadata": {
    "collapsed": true
   },
   "outputs": [],
   "source": []
  }
 ],
 "metadata": {
  "kernelspec": {
   "display_name": "Python 35",
   "language": "python",
   "name": "python35"
  },
  "language_info": {
   "codemirror_mode": {
    "name": "ipython",
    "version": 3
   },
   "file_extension": ".py",
   "mimetype": "text/x-python",
   "name": "python",
   "nbconvert_exporter": "python",
   "pygments_lexer": "ipython3",
   "version": "3.5.4"
  }
 },
 "nbformat": 4,
 "nbformat_minor": 2
}
