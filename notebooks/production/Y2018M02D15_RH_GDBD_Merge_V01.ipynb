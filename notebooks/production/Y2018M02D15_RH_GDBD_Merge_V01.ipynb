{
 "cells": [
  {
   "cell_type": "markdown",
   "metadata": {},
   "source": [
    "### Y2018M02D15_RH_GDBD_Merge_V01\n",
    "\n",
    "* Purpose of script: This script will reproject GDBD basins and streams and merge them. \n",
    "* Author: Rutger Hofste\n",
    "* Kernel used: python35\n",
    "* Date created: 20180215\n",
    "\n",
    "\n",
    "Basins and Streams extracted from GDBD databases downloaded from:\n",
    "\n",
    "http://www.cger.nies.go.jp/db/gdbd/data/Africa.zip\n",
    "http://www.cger.nies.go.jp/db/gdbd/data/Asia.zip\n",
    "http://www.cger.nies.go.jp/db/gdbd/data/Europe.zip\n",
    "http://www.cger.nies.go.jp/db/gdbd/data/Oceania.zip\n",
    "http://www.cger.nies.go.jp/db/gdbd/data/N_America.zip\n",
    "http://www.cger.nies.go.jp/db/gdbd/data/S_America.zip\n",
    "\n",
    "Unzipped, streams and basins opened with ArcGIS Desktop 10.5 and exported to shapefiles. \n",
    "\n",
    "Shapefile of Asia caused problems with reprojection. Use Reproject in ArcMap. \n",
    "\n"
   ]
  },
  {
   "cell_type": "code",
   "execution_count": 1,
   "metadata": {},
   "outputs": [
    {
     "name": "stdout",
     "output_type": "stream",
     "text": [
      "Y2018M02D16 UTC 12:41\n"
     ]
    },
    {
     "data": {
      "text/plain": [
       "'3.5.4 |Continuum Analytics, Inc.| (default, Aug 14 2017, 13:26:58) \\n[GCC 4.4.7 20120313 (Red Hat 4.4.7-1)]'"
      ]
     },
     "execution_count": 1,
     "metadata": {},
     "output_type": "execute_result"
    }
   ],
   "source": [
    "import time, datetime, sys\n",
    "dateString = time.strftime(\"Y%YM%mD%d\")\n",
    "timeString = time.strftime(\"UTC %H:%M\")\n",
    "start = datetime.datetime.now()\n",
    "print(dateString,timeString)\n",
    "sys.version"
   ]
  },
  {
   "cell_type": "code",
   "execution_count": 2,
   "metadata": {
    "collapsed": true
   },
   "outputs": [],
   "source": [
    "SCRIPT_NAME = \"Y2018M02D15_RH_GDBD_Merge_V01\"\n",
    "\n",
    "EC2_INPUT_PATH  = (\"/volumes/data/{}/input/\").format(SCRIPT_NAME)\n",
    "EC2_OUTPUT_PATH = (\"/volumes/data/{}/output/\").format(SCRIPT_NAME)\n",
    "\n",
    "S3_INPUT_PATH = \"s3://wri-projects/Aqueduct30/processData/Y2018M02D15_RH_GDBD_Basins_Streams_SHP_V01\"\n",
    "S3_OUTPUT_PATH = \"s3://wri-projects/Aqueduct30/processData/{}/output\".format(SCRIPT_NAME)\n",
    "\n",
    "\n",
    "VERSION = 6"
   ]
  },
  {
   "cell_type": "code",
   "execution_count": 3,
   "metadata": {},
   "outputs": [
    {
     "name": "stdout",
     "output_type": "stream",
     "text": [
      "/volumes/data/Y2018M02D15_RH_GDBD_Merge_V01/output/\n"
     ]
    }
   ],
   "source": [
    "print(EC2_OUTPUT_PATH)"
   ]
  },
  {
   "cell_type": "code",
   "execution_count": 4,
   "metadata": {
    "collapsed": true
   },
   "outputs": [],
   "source": [
    "!rm -r {EC2_INPUT_PATH}\n",
    "!rm -r {EC2_OUTPUT_PATH}\n",
    "\n",
    "!mkdir -p {EC2_INPUT_PATH}\n",
    "!mkdir -p {EC2_OUTPUT_PATH}"
   ]
  },
  {
   "cell_type": "code",
   "execution_count": 5,
   "metadata": {},
   "outputs": [
    {
     "name": "stdout",
     "output_type": "stream",
     "text": [
      "download: s3://wri-projects/Aqueduct30/processData/Y2018M02D15_RH_GDBD_Basins_Streams_SHP_V01/basins/as_basins.cpg to ../../../../data/Y2018M02D15_RH_GDBD_Merge_V01/input/basins/as_basins.cpg\n",
      "download: s3://wri-projects/Aqueduct30/processData/Y2018M02D15_RH_GDBD_Basins_Streams_SHP_V01/basins/af_basins.cpg to ../../../../data/Y2018M02D15_RH_GDBD_Merge_V01/input/basins/af_basins.cpg\n",
      "download: s3://wri-projects/Aqueduct30/processData/Y2018M02D15_RH_GDBD_Basins_Streams_SHP_V01/basins/af_basins.prj to ../../../../data/Y2018M02D15_RH_GDBD_Merge_V01/input/basins/af_basins.prj\n",
      "download: s3://wri-projects/Aqueduct30/processData/Y2018M02D15_RH_GDBD_Basins_Streams_SHP_V01/basins/af_basins.shp.xml to ../../../../data/Y2018M02D15_RH_GDBD_Merge_V01/input/basins/af_basins.shp.xml\n",
      "download: s3://wri-projects/Aqueduct30/processData/Y2018M02D15_RH_GDBD_Basins_Streams_SHP_V01/basins/af_basins.sbx to ../../../../data/Y2018M02D15_RH_GDBD_Merge_V01/input/basins/af_basins.sbx\n",
      "download: s3://wri-projects/Aqueduct30/processData/Y2018M02D15_RH_GDBD_Basins_Streams_SHP_V01/basins/as_basins.prj to ../../../../data/Y2018M02D15_RH_GDBD_Merge_V01/input/basins/as_basins.prj\n",
      "download: s3://wri-projects/Aqueduct30/processData/Y2018M02D15_RH_GDBD_Basins_Streams_SHP_V01/basins/as_basins.sbx to ../../../../data/Y2018M02D15_RH_GDBD_Merge_V01/input/basins/as_basins.sbx\n",
      "download: s3://wri-projects/Aqueduct30/processData/Y2018M02D15_RH_GDBD_Basins_Streams_SHP_V01/basins/af_basins.shx to ../../../../data/Y2018M02D15_RH_GDBD_Merge_V01/input/basins/af_basins.shx\n",
      "download: s3://wri-projects/Aqueduct30/processData/Y2018M02D15_RH_GDBD_Basins_Streams_SHP_V01/basins/af_basins.sbn to ../../../../data/Y2018M02D15_RH_GDBD_Merge_V01/input/basins/af_basins.sbn\n",
      "download: s3://wri-projects/Aqueduct30/processData/Y2018M02D15_RH_GDBD_Basins_Streams_SHP_V01/basins/as_basins.sbn to ../../../../data/Y2018M02D15_RH_GDBD_Merge_V01/input/basins/as_basins.sbn\n",
      "download: s3://wri-projects/Aqueduct30/processData/Y2018M02D15_RH_GDBD_Basins_Streams_SHP_V01/basins/as_basins.shp.xml to ../../../../data/Y2018M02D15_RH_GDBD_Merge_V01/input/basins/as_basins.shp.xml\n",
      "download: s3://wri-projects/Aqueduct30/processData/Y2018M02D15_RH_GDBD_Basins_Streams_SHP_V01/basins/as_basins.shx to ../../../../data/Y2018M02D15_RH_GDBD_Merge_V01/input/basins/as_basins.shx\n",
      "download: s3://wri-projects/Aqueduct30/processData/Y2018M02D15_RH_GDBD_Basins_Streams_SHP_V01/basins/eu_basins.cpg to ../../../../data/Y2018M02D15_RH_GDBD_Merge_V01/input/basins/eu_basins.cpg\n",
      "download: s3://wri-projects/Aqueduct30/processData/Y2018M02D15_RH_GDBD_Basins_Streams_SHP_V01/basins/af_basins.dbf to ../../../../data/Y2018M02D15_RH_GDBD_Merge_V01/input/basins/af_basins.dbf\n",
      "download: s3://wri-projects/Aqueduct30/processData/Y2018M02D15_RH_GDBD_Basins_Streams_SHP_V01/basins/eu_basins.prj to ../../../../data/Y2018M02D15_RH_GDBD_Merge_V01/input/basins/eu_basins.prj\n",
      "download: s3://wri-projects/Aqueduct30/processData/Y2018M02D15_RH_GDBD_Basins_Streams_SHP_V01/basins/eu_basins.sbn to ../../../../data/Y2018M02D15_RH_GDBD_Merge_V01/input/basins/eu_basins.sbn\n",
      "download: s3://wri-projects/Aqueduct30/processData/Y2018M02D15_RH_GDBD_Basins_Streams_SHP_V01/basins/eu_basins.sbx to ../../../../data/Y2018M02D15_RH_GDBD_Merge_V01/input/basins/eu_basins.sbx\n",
      "download: s3://wri-projects/Aqueduct30/processData/Y2018M02D15_RH_GDBD_Basins_Streams_SHP_V01/basins/eu_basins.shp.xml to ../../../../data/Y2018M02D15_RH_GDBD_Merge_V01/input/basins/eu_basins.shp.xml\n",
      "download: s3://wri-projects/Aqueduct30/processData/Y2018M02D15_RH_GDBD_Basins_Streams_SHP_V01/basins/na_basins.cpg to ../../../../data/Y2018M02D15_RH_GDBD_Merge_V01/input/basins/na_basins.cpg\n",
      "download: s3://wri-projects/Aqueduct30/processData/Y2018M02D15_RH_GDBD_Basins_Streams_SHP_V01/basins/eu_basins.shx to ../../../../data/Y2018M02D15_RH_GDBD_Merge_V01/input/basins/eu_basins.shx\n",
      "download: s3://wri-projects/Aqueduct30/processData/Y2018M02D15_RH_GDBD_Basins_Streams_SHP_V01/basins/na_basins.prj to ../../../../data/Y2018M02D15_RH_GDBD_Merge_V01/input/basins/na_basins.prj\n",
      "download: s3://wri-projects/Aqueduct30/processData/Y2018M02D15_RH_GDBD_Basins_Streams_SHP_V01/basins/na_basins.sbn to ../../../../data/Y2018M02D15_RH_GDBD_Merge_V01/input/basins/na_basins.sbn\n",
      "download: s3://wri-projects/Aqueduct30/processData/Y2018M02D15_RH_GDBD_Basins_Streams_SHP_V01/basins/na_basins.sbx to ../../../../data/Y2018M02D15_RH_GDBD_Merge_V01/input/basins/na_basins.sbx\n",
      "download: s3://wri-projects/Aqueduct30/processData/Y2018M02D15_RH_GDBD_Basins_Streams_SHP_V01/basins/eu_basins.dbf to ../../../../data/Y2018M02D15_RH_GDBD_Merge_V01/input/basins/eu_basins.dbf\n",
      "download: s3://wri-projects/Aqueduct30/processData/Y2018M02D15_RH_GDBD_Basins_Streams_SHP_V01/basins/na_basins.shp.xml to ../../../../data/Y2018M02D15_RH_GDBD_Merge_V01/input/basins/na_basins.shp.xml\n",
      "download: s3://wri-projects/Aqueduct30/processData/Y2018M02D15_RH_GDBD_Basins_Streams_SHP_V01/basins/na_basins.dbf to ../../../../data/Y2018M02D15_RH_GDBD_Merge_V01/input/basins/na_basins.dbf\n",
      "download: s3://wri-projects/Aqueduct30/processData/Y2018M02D15_RH_GDBD_Basins_Streams_SHP_V01/basins/eu_basins.shp to ../../../../data/Y2018M02D15_RH_GDBD_Merge_V01/input/basins/eu_basins.shp\n",
      "download: s3://wri-projects/Aqueduct30/processData/Y2018M02D15_RH_GDBD_Basins_Streams_SHP_V01/basins/oc_basins.prj to ../../../../data/Y2018M02D15_RH_GDBD_Merge_V01/input/basins/oc_basins.prj\n",
      "download: s3://wri-projects/Aqueduct30/processData/Y2018M02D15_RH_GDBD_Basins_Streams_SHP_V01/basins/na_basins.shx to ../../../../data/Y2018M02D15_RH_GDBD_Merge_V01/input/basins/na_basins.shx\n",
      "download: s3://wri-projects/Aqueduct30/processData/Y2018M02D15_RH_GDBD_Basins_Streams_SHP_V01/basins/as_basins.dbf to ../../../../data/Y2018M02D15_RH_GDBD_Merge_V01/input/basins/as_basins.dbf\n",
      "download: s3://wri-projects/Aqueduct30/processData/Y2018M02D15_RH_GDBD_Basins_Streams_SHP_V01/basins/oc_basins.cpg to ../../../../data/Y2018M02D15_RH_GDBD_Merge_V01/input/basins/oc_basins.cpg\n",
      "download: s3://wri-projects/Aqueduct30/processData/Y2018M02D15_RH_GDBD_Basins_Streams_SHP_V01/basins/oc_basins.sbn to ../../../../data/Y2018M02D15_RH_GDBD_Merge_V01/input/basins/oc_basins.sbn\n",
      "download: s3://wri-projects/Aqueduct30/processData/Y2018M02D15_RH_GDBD_Basins_Streams_SHP_V01/basins/as_basins.shp to ../../../../data/Y2018M02D15_RH_GDBD_Merge_V01/input/basins/as_basins.shp\n",
      "download: s3://wri-projects/Aqueduct30/processData/Y2018M02D15_RH_GDBD_Basins_Streams_SHP_V01/basins/oc_basins.sbx to ../../../../data/Y2018M02D15_RH_GDBD_Merge_V01/input/basins/oc_basins.sbx\n",
      "download: s3://wri-projects/Aqueduct30/processData/Y2018M02D15_RH_GDBD_Basins_Streams_SHP_V01/basins/oc_basins.shx to ../../../../data/Y2018M02D15_RH_GDBD_Merge_V01/input/basins/oc_basins.shx\n",
      "download: s3://wri-projects/Aqueduct30/processData/Y2018M02D15_RH_GDBD_Basins_Streams_SHP_V01/basins/oc_basins.shp.xml to ../../../../data/Y2018M02D15_RH_GDBD_Merge_V01/input/basins/oc_basins.shp.xml\n",
      "download: s3://wri-projects/Aqueduct30/processData/Y2018M02D15_RH_GDBD_Basins_Streams_SHP_V01/basins/af_basins.shp to ../../../../data/Y2018M02D15_RH_GDBD_Merge_V01/input/basins/af_basins.shp\n",
      "download: s3://wri-projects/Aqueduct30/processData/Y2018M02D15_RH_GDBD_Basins_Streams_SHP_V01/basins/sa_basins.cpg to ../../../../data/Y2018M02D15_RH_GDBD_Merge_V01/input/basins/sa_basins.cpg\n",
      "download: s3://wri-projects/Aqueduct30/processData/Y2018M02D15_RH_GDBD_Basins_Streams_SHP_V01/basins/sa_basins.prj to ../../../../data/Y2018M02D15_RH_GDBD_Merge_V01/input/basins/sa_basins.prj\n",
      "download: s3://wri-projects/Aqueduct30/processData/Y2018M02D15_RH_GDBD_Basins_Streams_SHP_V01/basins/sa_basins.sbn to ../../../../data/Y2018M02D15_RH_GDBD_Merge_V01/input/basins/sa_basins.sbn\n",
      "download: s3://wri-projects/Aqueduct30/processData/Y2018M02D15_RH_GDBD_Basins_Streams_SHP_V01/basins/sa_basins.sbx to ../../../../data/Y2018M02D15_RH_GDBD_Merge_V01/input/basins/sa_basins.sbx\n",
      "download: s3://wri-projects/Aqueduct30/processData/Y2018M02D15_RH_GDBD_Basins_Streams_SHP_V01/basins/sa_basins.shp.xml to ../../../../data/Y2018M02D15_RH_GDBD_Merge_V01/input/basins/sa_basins.shp.xml\n",
      "download: s3://wri-projects/Aqueduct30/processData/Y2018M02D15_RH_GDBD_Basins_Streams_SHP_V01/basins/sa_basins.shx to ../../../../data/Y2018M02D15_RH_GDBD_Merge_V01/input/basins/sa_basins.shx\n"
     ]
    },
    {
     "name": "stdout",
     "output_type": "stream",
     "text": [
      "download: s3://wri-projects/Aqueduct30/processData/Y2018M02D15_RH_GDBD_Basins_Streams_SHP_V01/basins/oc_basins.dbf to ../../../../data/Y2018M02D15_RH_GDBD_Merge_V01/input/basins/oc_basins.dbf\n",
      "download: s3://wri-projects/Aqueduct30/processData/Y2018M02D15_RH_GDBD_Basins_Streams_SHP_V01/oldAsia/as_basins.cpg to ../../../../data/Y2018M02D15_RH_GDBD_Merge_V01/input/oldAsia/as_basins.cpg\n",
      "download: s3://wri-projects/Aqueduct30/processData/Y2018M02D15_RH_GDBD_Basins_Streams_SHP_V01/oldAsia/as_basins.prj to ../../../../data/Y2018M02D15_RH_GDBD_Merge_V01/input/oldAsia/as_basins.prj\n",
      "download: s3://wri-projects/Aqueduct30/processData/Y2018M02D15_RH_GDBD_Basins_Streams_SHP_V01/oldAsia/as_basins.sbn to ../../../../data/Y2018M02D15_RH_GDBD_Merge_V01/input/oldAsia/as_basins.sbn\n",
      "download: s3://wri-projects/Aqueduct30/processData/Y2018M02D15_RH_GDBD_Basins_Streams_SHP_V01/basins/oc_basins.shp to ../../../../data/Y2018M02D15_RH_GDBD_Merge_V01/input/basins/oc_basins.shp\n",
      "download: s3://wri-projects/Aqueduct30/processData/Y2018M02D15_RH_GDBD_Basins_Streams_SHP_V01/basins/sa_basins.dbf to ../../../../data/Y2018M02D15_RH_GDBD_Merge_V01/input/basins/sa_basins.dbf\n",
      "download: s3://wri-projects/Aqueduct30/processData/Y2018M02D15_RH_GDBD_Basins_Streams_SHP_V01/oldAsia/as_basins.sbx to ../../../../data/Y2018M02D15_RH_GDBD_Merge_V01/input/oldAsia/as_basins.sbx\n",
      "download: s3://wri-projects/Aqueduct30/processData/Y2018M02D15_RH_GDBD_Basins_Streams_SHP_V01/oldAsia/as_streams.cpg to ../../../../data/Y2018M02D15_RH_GDBD_Merge_V01/input/oldAsia/as_streams.cpg\n",
      "download: s3://wri-projects/Aqueduct30/processData/Y2018M02D15_RH_GDBD_Basins_Streams_SHP_V01/oldAsia/as_basins.shx to ../../../../data/Y2018M02D15_RH_GDBD_Merge_V01/input/oldAsia/as_basins.shx\n",
      "download: s3://wri-projects/Aqueduct30/processData/Y2018M02D15_RH_GDBD_Basins_Streams_SHP_V01/oldAsia/as_basins.shp.xml to ../../../../data/Y2018M02D15_RH_GDBD_Merge_V01/input/oldAsia/as_basins.shp.xml\n",
      "download: s3://wri-projects/Aqueduct30/processData/Y2018M02D15_RH_GDBD_Basins_Streams_SHP_V01/basins/na_basins.shp to ../../../../data/Y2018M02D15_RH_GDBD_Merge_V01/input/basins/na_basins.shp\n",
      "download: s3://wri-projects/Aqueduct30/processData/Y2018M02D15_RH_GDBD_Basins_Streams_SHP_V01/oldAsia/as_streams.prj to ../../../../data/Y2018M02D15_RH_GDBD_Merge_V01/input/oldAsia/as_streams.prj\n",
      "download: s3://wri-projects/Aqueduct30/processData/Y2018M02D15_RH_GDBD_Basins_Streams_SHP_V01/oldAsia/as_streams.sbn to ../../../../data/Y2018M02D15_RH_GDBD_Merge_V01/input/oldAsia/as_streams.sbn\n",
      "download: s3://wri-projects/Aqueduct30/processData/Y2018M02D15_RH_GDBD_Basins_Streams_SHP_V01/oldAsia/as_streams.sbx to ../../../../data/Y2018M02D15_RH_GDBD_Merge_V01/input/oldAsia/as_streams.sbx\n",
      "download: s3://wri-projects/Aqueduct30/processData/Y2018M02D15_RH_GDBD_Basins_Streams_SHP_V01/oldAsia/as_streams.dbf to ../../../../data/Y2018M02D15_RH_GDBD_Merge_V01/input/oldAsia/as_streams.dbf\n",
      "download: s3://wri-projects/Aqueduct30/processData/Y2018M02D15_RH_GDBD_Basins_Streams_SHP_V01/oldAsia/as_streams.shp.xml to ../../../../data/Y2018M02D15_RH_GDBD_Merge_V01/input/oldAsia/as_streams.shp.xml\n",
      "download: s3://wri-projects/Aqueduct30/processData/Y2018M02D15_RH_GDBD_Basins_Streams_SHP_V01/readme.txt to ../../../../data/Y2018M02D15_RH_GDBD_Merge_V01/input/readme.txt\n",
      "download: s3://wri-projects/Aqueduct30/processData/Y2018M02D15_RH_GDBD_Basins_Streams_SHP_V01/oldAsia/as_streams.shx to ../../../../data/Y2018M02D15_RH_GDBD_Merge_V01/input/oldAsia/as_streams.shx\n",
      "download: s3://wri-projects/Aqueduct30/processData/Y2018M02D15_RH_GDBD_Basins_Streams_SHP_V01/streams/af_streams.cpg to ../../../../data/Y2018M02D15_RH_GDBD_Merge_V01/input/streams/af_streams.cpg\n",
      "download: s3://wri-projects/Aqueduct30/processData/Y2018M02D15_RH_GDBD_Basins_Streams_SHP_V01/streams/af_streams.dbf to ../../../../data/Y2018M02D15_RH_GDBD_Merge_V01/input/streams/af_streams.dbf\n",
      "download: s3://wri-projects/Aqueduct30/processData/Y2018M02D15_RH_GDBD_Basins_Streams_SHP_V01/streams/af_streams.prj to ../../../../data/Y2018M02D15_RH_GDBD_Merge_V01/input/streams/af_streams.prj\n",
      "download: s3://wri-projects/Aqueduct30/processData/Y2018M02D15_RH_GDBD_Basins_Streams_SHP_V01/streams/af_streams.sbn to ../../../../data/Y2018M02D15_RH_GDBD_Merge_V01/input/streams/af_streams.sbn\n",
      "download: s3://wri-projects/Aqueduct30/processData/Y2018M02D15_RH_GDBD_Basins_Streams_SHP_V01/streams/af_streams.sbx to ../../../../data/Y2018M02D15_RH_GDBD_Merge_V01/input/streams/af_streams.sbx\n",
      "download: s3://wri-projects/Aqueduct30/processData/Y2018M02D15_RH_GDBD_Basins_Streams_SHP_V01/basins/sa_basins.shp to ../../../../data/Y2018M02D15_RH_GDBD_Merge_V01/input/basins/sa_basins.shp\n",
      "download: s3://wri-projects/Aqueduct30/processData/Y2018M02D15_RH_GDBD_Basins_Streams_SHP_V01/streams/af_streams.shp.xml to ../../../../data/Y2018M02D15_RH_GDBD_Merge_V01/input/streams/af_streams.shp.xml\n",
      "download: s3://wri-projects/Aqueduct30/processData/Y2018M02D15_RH_GDBD_Basins_Streams_SHP_V01/streams/af_streams.shx to ../../../../data/Y2018M02D15_RH_GDBD_Merge_V01/input/streams/af_streams.shx\n",
      "download: s3://wri-projects/Aqueduct30/processData/Y2018M02D15_RH_GDBD_Basins_Streams_SHP_V01/streams/as_streams.cpg to ../../../../data/Y2018M02D15_RH_GDBD_Merge_V01/input/streams/as_streams.cpg\n",
      "download: s3://wri-projects/Aqueduct30/processData/Y2018M02D15_RH_GDBD_Basins_Streams_SHP_V01/streams/af_streams.shp to ../../../../data/Y2018M02D15_RH_GDBD_Merge_V01/input/streams/af_streams.shp\n",
      "download: s3://wri-projects/Aqueduct30/processData/Y2018M02D15_RH_GDBD_Basins_Streams_SHP_V01/streams/as_streams.prj to ../../../../data/Y2018M02D15_RH_GDBD_Merge_V01/input/streams/as_streams.prj\n",
      "download: s3://wri-projects/Aqueduct30/processData/Y2018M02D15_RH_GDBD_Basins_Streams_SHP_V01/streams/as_streams.dbf to ../../../../data/Y2018M02D15_RH_GDBD_Merge_V01/input/streams/as_streams.dbf\n",
      "download: s3://wri-projects/Aqueduct30/processData/Y2018M02D15_RH_GDBD_Basins_Streams_SHP_V01/streams/as_streams.sbx to ../../../../data/Y2018M02D15_RH_GDBD_Merge_V01/input/streams/as_streams.sbx\n",
      "download: s3://wri-projects/Aqueduct30/processData/Y2018M02D15_RH_GDBD_Basins_Streams_SHP_V01/streams/as_streams.shp.xml to ../../../../data/Y2018M02D15_RH_GDBD_Merge_V01/input/streams/as_streams.shp.xml\n",
      "download: s3://wri-projects/Aqueduct30/processData/Y2018M02D15_RH_GDBD_Basins_Streams_SHP_V01/streams/as_streams.shx to ../../../../data/Y2018M02D15_RH_GDBD_Merge_V01/input/streams/as_streams.shx\n",
      "download: s3://wri-projects/Aqueduct30/processData/Y2018M02D15_RH_GDBD_Basins_Streams_SHP_V01/streams/eu_streams.cpg to ../../../../data/Y2018M02D15_RH_GDBD_Merge_V01/input/streams/eu_streams.cpg\n",
      "download: s3://wri-projects/Aqueduct30/processData/Y2018M02D15_RH_GDBD_Basins_Streams_SHP_V01/oldAsia/as_streams.shp to ../../../../data/Y2018M02D15_RH_GDBD_Merge_V01/input/oldAsia/as_streams.shp\n",
      "download: s3://wri-projects/Aqueduct30/processData/Y2018M02D15_RH_GDBD_Basins_Streams_SHP_V01/streams/eu_streams.sbn to ../../../../data/Y2018M02D15_RH_GDBD_Merge_V01/input/streams/eu_streams.sbn\n",
      "download: s3://wri-projects/Aqueduct30/processData/Y2018M02D15_RH_GDBD_Basins_Streams_SHP_V01/streams/eu_streams.sbx to ../../../../data/Y2018M02D15_RH_GDBD_Merge_V01/input/streams/eu_streams.sbx\n",
      "download: s3://wri-projects/Aqueduct30/processData/Y2018M02D15_RH_GDBD_Basins_Streams_SHP_V01/streams/eu_streams.dbf to ../../../../data/Y2018M02D15_RH_GDBD_Merge_V01/input/streams/eu_streams.dbf\n",
      "download: s3://wri-projects/Aqueduct30/processData/Y2018M02D15_RH_GDBD_Basins_Streams_SHP_V01/streams/na_streams.cpg to ../../../../data/Y2018M02D15_RH_GDBD_Merge_V01/input/streams/na_streams.cpg\n",
      "download: s3://wri-projects/Aqueduct30/processData/Y2018M02D15_RH_GDBD_Basins_Streams_SHP_V01/streams/na_streams.prj to ../../../../data/Y2018M02D15_RH_GDBD_Merge_V01/input/streams/na_streams.prj\n",
      "download: s3://wri-projects/Aqueduct30/processData/Y2018M02D15_RH_GDBD_Basins_Streams_SHP_V01/streams/eu_streams.shx to ../../../../data/Y2018M02D15_RH_GDBD_Merge_V01/input/streams/eu_streams.shx\n",
      "download: s3://wri-projects/Aqueduct30/processData/Y2018M02D15_RH_GDBD_Basins_Streams_SHP_V01/streams/na_streams.sbx to ../../../../data/Y2018M02D15_RH_GDBD_Merge_V01/input/streams/na_streams.sbx\n"
     ]
    },
    {
     "name": "stdout",
     "output_type": "stream",
     "text": [
      "download: s3://wri-projects/Aqueduct30/processData/Y2018M02D15_RH_GDBD_Basins_Streams_SHP_V01/streams/eu_streams.prj to ../../../../data/Y2018M02D15_RH_GDBD_Merge_V01/input/streams/eu_streams.prj\n",
      "download: s3://wri-projects/Aqueduct30/processData/Y2018M02D15_RH_GDBD_Basins_Streams_SHP_V01/streams/eu_streams.shp.xml to ../../../../data/Y2018M02D15_RH_GDBD_Merge_V01/input/streams/eu_streams.shp.xml\n",
      "download: s3://wri-projects/Aqueduct30/processData/Y2018M02D15_RH_GDBD_Basins_Streams_SHP_V01/streams/na_streams.shp.xml to ../../../../data/Y2018M02D15_RH_GDBD_Merge_V01/input/streams/na_streams.shp.xml\n",
      "download: s3://wri-projects/Aqueduct30/processData/Y2018M02D15_RH_GDBD_Basins_Streams_SHP_V01/streams/oc_streams.cpg to ../../../../data/Y2018M02D15_RH_GDBD_Merge_V01/input/streams/oc_streams.cpg\n",
      "download: s3://wri-projects/Aqueduct30/processData/Y2018M02D15_RH_GDBD_Basins_Streams_SHP_V01/streams/oc_streams.prj to ../../../../data/Y2018M02D15_RH_GDBD_Merge_V01/input/streams/oc_streams.prj\n",
      "download: s3://wri-projects/Aqueduct30/processData/Y2018M02D15_RH_GDBD_Basins_Streams_SHP_V01/streams/oc_streams.sbx to ../../../../data/Y2018M02D15_RH_GDBD_Merge_V01/input/streams/oc_streams.sbx\n",
      "download: s3://wri-projects/Aqueduct30/processData/Y2018M02D15_RH_GDBD_Basins_Streams_SHP_V01/streams/na_streams.shx to ../../../../data/Y2018M02D15_RH_GDBD_Merge_V01/input/streams/na_streams.shx\n",
      "download: s3://wri-projects/Aqueduct30/processData/Y2018M02D15_RH_GDBD_Basins_Streams_SHP_V01/streams/na_streams.sbn to ../../../../data/Y2018M02D15_RH_GDBD_Merge_V01/input/streams/na_streams.sbn\n",
      "download: s3://wri-projects/Aqueduct30/processData/Y2018M02D15_RH_GDBD_Basins_Streams_SHP_V01/streams/oc_streams.sbn to ../../../../data/Y2018M02D15_RH_GDBD_Merge_V01/input/streams/oc_streams.sbn\n",
      "download: s3://wri-projects/Aqueduct30/processData/Y2018M02D15_RH_GDBD_Basins_Streams_SHP_V01/streams/oc_streams.dbf to ../../../../data/Y2018M02D15_RH_GDBD_Merge_V01/input/streams/oc_streams.dbf\n",
      "download: s3://wri-projects/Aqueduct30/processData/Y2018M02D15_RH_GDBD_Basins_Streams_SHP_V01/streams/oc_streams.shp.xml to ../../../../data/Y2018M02D15_RH_GDBD_Merge_V01/input/streams/oc_streams.shp.xml\n",
      "download: s3://wri-projects/Aqueduct30/processData/Y2018M02D15_RH_GDBD_Basins_Streams_SHP_V01/streams/oc_streams.shx to ../../../../data/Y2018M02D15_RH_GDBD_Merge_V01/input/streams/oc_streams.shx\n",
      "download: s3://wri-projects/Aqueduct30/processData/Y2018M02D15_RH_GDBD_Basins_Streams_SHP_V01/streams/sa_streams.prj to ../../../../data/Y2018M02D15_RH_GDBD_Merge_V01/input/streams/sa_streams.prj\n",
      "download: s3://wri-projects/Aqueduct30/processData/Y2018M02D15_RH_GDBD_Basins_Streams_SHP_V01/streams/sa_streams.cpg to ../../../../data/Y2018M02D15_RH_GDBD_Merge_V01/input/streams/sa_streams.cpg\n",
      "download: s3://wri-projects/Aqueduct30/processData/Y2018M02D15_RH_GDBD_Basins_Streams_SHP_V01/streams/eu_streams.shp to ../../../../data/Y2018M02D15_RH_GDBD_Merge_V01/input/streams/eu_streams.shp\n",
      "download: s3://wri-projects/Aqueduct30/processData/Y2018M02D15_RH_GDBD_Basins_Streams_SHP_V01/streams/sa_streams.sbn to ../../../../data/Y2018M02D15_RH_GDBD_Merge_V01/input/streams/sa_streams.sbn\n",
      "download: s3://wri-projects/Aqueduct30/processData/Y2018M02D15_RH_GDBD_Basins_Streams_SHP_V01/streams/sa_streams.sbx to ../../../../data/Y2018M02D15_RH_GDBD_Merge_V01/input/streams/sa_streams.sbx\n",
      "download: s3://wri-projects/Aqueduct30/processData/Y2018M02D15_RH_GDBD_Basins_Streams_SHP_V01/streams/sa_streams.shp.xml to ../../../../data/Y2018M02D15_RH_GDBD_Merge_V01/input/streams/sa_streams.shp.xml\n",
      "download: s3://wri-projects/Aqueduct30/processData/Y2018M02D15_RH_GDBD_Basins_Streams_SHP_V01/oldAsia/as_basins.dbf to ../../../../data/Y2018M02D15_RH_GDBD_Merge_V01/input/oldAsia/as_basins.dbf\n",
      "download: s3://wri-projects/Aqueduct30/processData/Y2018M02D15_RH_GDBD_Basins_Streams_SHP_V01/streams/sa_streams.dbf to ../../../../data/Y2018M02D15_RH_GDBD_Merge_V01/input/streams/sa_streams.dbf\n",
      "download: s3://wri-projects/Aqueduct30/processData/Y2018M02D15_RH_GDBD_Basins_Streams_SHP_V01/streams/as_streams.sbn to ../../../../data/Y2018M02D15_RH_GDBD_Merge_V01/input/streams/as_streams.sbn\n",
      "download: s3://wri-projects/Aqueduct30/processData/Y2018M02D15_RH_GDBD_Basins_Streams_SHP_V01/oldAsia/as_basins.shp to ../../../../data/Y2018M02D15_RH_GDBD_Merge_V01/input/oldAsia/as_basins.shp\n",
      "download: s3://wri-projects/Aqueduct30/processData/Y2018M02D15_RH_GDBD_Basins_Streams_SHP_V01/streams/na_streams.shp to ../../../../data/Y2018M02D15_RH_GDBD_Merge_V01/input/streams/na_streams.shp\n",
      "download: s3://wri-projects/Aqueduct30/processData/Y2018M02D15_RH_GDBD_Basins_Streams_SHP_V01/streams/sa_streams.shx to ../../../../data/Y2018M02D15_RH_GDBD_Merge_V01/input/streams/sa_streams.shx\n",
      "download: s3://wri-projects/Aqueduct30/processData/Y2018M02D15_RH_GDBD_Basins_Streams_SHP_V01/streams/oc_streams.shp to ../../../../data/Y2018M02D15_RH_GDBD_Merge_V01/input/streams/oc_streams.shp\n",
      "download: s3://wri-projects/Aqueduct30/processData/Y2018M02D15_RH_GDBD_Basins_Streams_SHP_V01/streams/na_streams.dbf to ../../../../data/Y2018M02D15_RH_GDBD_Merge_V01/input/streams/na_streams.dbf\n",
      "download: s3://wri-projects/Aqueduct30/processData/Y2018M02D15_RH_GDBD_Basins_Streams_SHP_V01/streams/as_streams.shp to ../../../../data/Y2018M02D15_RH_GDBD_Merge_V01/input/streams/as_streams.shp\n",
      "download: s3://wri-projects/Aqueduct30/processData/Y2018M02D15_RH_GDBD_Basins_Streams_SHP_V01/streams/sa_streams.shp to ../../../../data/Y2018M02D15_RH_GDBD_Merge_V01/input/streams/sa_streams.shp\n"
     ]
    }
   ],
   "source": [
    "!aws s3 cp {S3_INPUT_PATH} {EC2_INPUT_PATH} --recursive"
   ]
  },
  {
   "cell_type": "code",
   "execution_count": 6,
   "metadata": {
    "collapsed": true
   },
   "outputs": [],
   "source": [
    "import subprocess\n",
    "import numpy as np\n",
    "import pandas as pd\n",
    "import geopandas as gpd\n",
    "import getpass\n",
    "from shapely.geometry.polygon import Polygon\n",
    "from shapely.geometry.multipolygon import MultiPolygon\n",
    "\n",
    "%matplotlib inline"
   ]
  },
  {
   "cell_type": "code",
   "execution_count": 7,
   "metadata": {
    "collapsed": true
   },
   "outputs": [],
   "source": [
    "target_crs = {'init': 'epsg:4326'}"
   ]
  },
  {
   "cell_type": "code",
   "execution_count": 8,
   "metadata": {},
   "outputs": [
    {
     "name": "stdout",
     "output_type": "stream",
     "text": [
      "/volumes/data/Y2018M02D15_RH_GDBD_Merge_V01/input/basins/af_basins.shp\n",
      "/volumes/data/Y2018M02D15_RH_GDBD_Merge_V01/input/basins/as_basins.shp\n",
      "/volumes/data/Y2018M02D15_RH_GDBD_Merge_V01/input/basins/eu_basins.shp\n",
      "/volumes/data/Y2018M02D15_RH_GDBD_Merge_V01/input/basins/na_basins.shp\n",
      "/volumes/data/Y2018M02D15_RH_GDBD_Merge_V01/input/basins/oc_basins.shp\n",
      "/volumes/data/Y2018M02D15_RH_GDBD_Merge_V01/input/basins/sa_basins.shp\n",
      "/volumes/data/Y2018M02D15_RH_GDBD_Merge_V01/input/streams/af_streams.shp\n",
      "/volumes/data/Y2018M02D15_RH_GDBD_Merge_V01/input/streams/as_streams.shp\n",
      "/volumes/data/Y2018M02D15_RH_GDBD_Merge_V01/input/streams/eu_streams.shp\n",
      "/volumes/data/Y2018M02D15_RH_GDBD_Merge_V01/input/streams/na_streams.shp\n",
      "/volumes/data/Y2018M02D15_RH_GDBD_Merge_V01/input/streams/oc_streams.shp\n",
      "/volumes/data/Y2018M02D15_RH_GDBD_Merge_V01/input/streams/sa_streams.shp\n"
     ]
    }
   ],
   "source": [
    "shapes = [\"basins\",\"streams\"]\n",
    "continents = [\"af\",\"as\",\"eu\",\"na\",\"oc\",\"sa\"]\n",
    "\n",
    "df = pd.DataFrame()\n",
    "\n",
    "for shape in shapes:\n",
    "    for continent in continents:\n",
    "        dictje = {}\n",
    "        dictje[\"path\"] = \"{}{}/{}_{}.shp\".format(EC2_INPUT_PATH,shape,continent,shape)\n",
    "        print(dictje[\"path\"])\n",
    "        dictje[\"shape\"] = shape\n",
    "        dictje[\"continent\"] = continent\n",
    "        df = df.append(pd.Series(dictje),ignore_index=True)\n",
    "    \n",
    "        \n"
   ]
  },
  {
   "cell_type": "code",
   "execution_count": 9,
   "metadata": {},
   "outputs": [
    {
     "name": "stdout",
     "output_type": "stream",
     "text": [
      "/volumes/data/Y2018M02D15_RH_GDBD_Merge_V01/output/GDBD_basins_EPSG4326_V06.shp\n",
      "/volumes/data/Y2018M02D15_RH_GDBD_Merge_V01/output/GDBD_streams_EPSG4326_V06.shp\n"
     ]
    }
   ],
   "source": [
    "result_dict = {}\n",
    "\n",
    "for shape in shapes:\n",
    "    df_selection = df.loc[df['shape'] == shape]\n",
    "    gdf_out = gpd.GeoDataFrame()\n",
    "    for index, row in df_selection.iterrows():\n",
    "        gdf = gpd.read_file(row[\"path\"])\n",
    "        gdf2 = gdf.to_crs(target_crs)\n",
    "        gdf_out = gdf_out.append(gdf2)\n",
    "                          \n",
    "    \n",
    "    output_path_shp = \"{}GDBD_{}_EPSG4326_V{:02.0f}.shp\".format(EC2_OUTPUT_PATH,shape,VERSION)\n",
    "    output_path_pkl = \"{}GDBD_{}_EPSG4326_V{:02.0f}.pkl\".format(EC2_OUTPUT_PATH,shape,VERSION)\n",
    "    print(output_path_shp)\n",
    "    gdf_out.to_file(output_path_shp,driver='ESRI Shapefile')\n",
    "    gdf_out.to_pickle(output_path_pkl)\n",
    "    result_dict[shape] = gdf_out\n",
    "    "
   ]
  },
  {
   "cell_type": "code",
   "execution_count": 10,
   "metadata": {},
   "outputs": [
    {
     "name": "stdout",
     "output_type": "stream",
     "text": [
      "upload: ../../../../data/Y2018M02D15_RH_GDBD_Merge_V01/output/GDBD_basins_EPSG4326_V06.prj to s3://wri-projects/Aqueduct30/processData/Y2018M02D15_RH_GDBD_Merge_V01/output/GDBD_basins_EPSG4326_V06.prj\n",
      "upload: ../../../../data/Y2018M02D15_RH_GDBD_Merge_V01/output/GDBD_basins_EPSG4326_V06.cpg to s3://wri-projects/Aqueduct30/processData/Y2018M02D15_RH_GDBD_Merge_V01/output/GDBD_basins_EPSG4326_V06.cpg\n",
      "upload: ../../../../data/Y2018M02D15_RH_GDBD_Merge_V01/output/GDBD_streams_EPSG4326_V06.cpg to s3://wri-projects/Aqueduct30/processData/Y2018M02D15_RH_GDBD_Merge_V01/output/GDBD_streams_EPSG4326_V06.cpg\n",
      "upload: ../../../../data/Y2018M02D15_RH_GDBD_Merge_V01/output/GDBD_basins_EPSG4326_V06.shx to s3://wri-projects/Aqueduct30/processData/Y2018M02D15_RH_GDBD_Merge_V01/output/GDBD_basins_EPSG4326_V06.shx\n",
      "upload: ../../../../data/Y2018M02D15_RH_GDBD_Merge_V01/output/GDBD_streams_EPSG4326_V06.prj to s3://wri-projects/Aqueduct30/processData/Y2018M02D15_RH_GDBD_Merge_V01/output/GDBD_streams_EPSG4326_V06.prj\n",
      "upload: ../../../../data/Y2018M02D15_RH_GDBD_Merge_V01/output/GDBD_streams_EPSG4326_V06.dbf to s3://wri-projects/Aqueduct30/processData/Y2018M02D15_RH_GDBD_Merge_V01/output/GDBD_streams_EPSG4326_V06.dbf\n",
      "upload: ../../../../data/Y2018M02D15_RH_GDBD_Merge_V01/output/GDBD_streams_EPSG4326_V06.pkl to s3://wri-projects/Aqueduct30/processData/Y2018M02D15_RH_GDBD_Merge_V01/output/GDBD_streams_EPSG4326_V06.pkl\n",
      "upload: ../../../../data/Y2018M02D15_RH_GDBD_Merge_V01/output/GDBD_streams_EPSG4326_V06.shx to s3://wri-projects/Aqueduct30/processData/Y2018M02D15_RH_GDBD_Merge_V01/output/GDBD_streams_EPSG4326_V06.shx\n",
      "upload: ../../../../data/Y2018M02D15_RH_GDBD_Merge_V01/output/GDBD_streams_EPSG4326_V06.shp to s3://wri-projects/Aqueduct30/processData/Y2018M02D15_RH_GDBD_Merge_V01/output/GDBD_streams_EPSG4326_V06.shp\n",
      "upload: ../../../../data/Y2018M02D15_RH_GDBD_Merge_V01/output/GDBD_basins_EPSG4326_V06.dbf to s3://wri-projects/Aqueduct30/processData/Y2018M02D15_RH_GDBD_Merge_V01/output/GDBD_basins_EPSG4326_V06.dbf\n",
      "upload: ../../../../data/Y2018M02D15_RH_GDBD_Merge_V01/output/GDBD_basins_EPSG4326_V06.shp to s3://wri-projects/Aqueduct30/processData/Y2018M02D15_RH_GDBD_Merge_V01/output/GDBD_basins_EPSG4326_V06.shp\n",
      "upload: ../../../../data/Y2018M02D15_RH_GDBD_Merge_V01/output/GDBD_basins_EPSG4326_V06.pkl to s3://wri-projects/Aqueduct30/processData/Y2018M02D15_RH_GDBD_Merge_V01/output/GDBD_basins_EPSG4326_V06.pkl\n"
     ]
    }
   ],
   "source": [
    "!aws s3 cp --recursive {EC2_OUTPUT_PATH} {S3_OUTPUT_PATH}"
   ]
  },
  {
   "cell_type": "code",
   "execution_count": 11,
   "metadata": {},
   "outputs": [
    {
     "name": "stdout",
     "output_type": "stream",
     "text": [
      "0:04:43.794350\n"
     ]
    }
   ],
   "source": [
    "end = datetime.datetime.now()\n",
    "elapsed = end - start\n",
    "print(elapsed)"
   ]
  },
  {
   "cell_type": "code",
   "execution_count": null,
   "metadata": {
    "collapsed": true
   },
   "outputs": [],
   "source": []
  }
 ],
 "metadata": {
  "kernelspec": {
   "display_name": "Python 35",
   "language": "python",
   "name": "python35"
  },
  "language_info": {
   "codemirror_mode": {
    "name": "ipython",
    "version": 3
   },
   "file_extension": ".py",
   "mimetype": "text/x-python",
   "name": "python",
   "nbconvert_exporter": "python",
   "pygments_lexer": "ipython3",
   "version": "3.5.4"
  }
 },
 "nbformat": 4,
 "nbformat_minor": 2
}
