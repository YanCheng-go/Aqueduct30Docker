{
 "cells": [
  {
   "cell_type": "code",
   "execution_count": 6,
   "metadata": {},
   "outputs": [
    {
     "name": "stdout",
     "output_type": "stream",
     "text": [
      "Input ee: projects/WRI-Aquaduct/PCRGlobWB20V09\n",
      "Output ee: projects/WRI-Aquaduct/PCRGlobWB20V09\n"
     ]
    }
   ],
   "source": [
    "\"\"\" Demand data is provided as volumes. Calculate Fluxes.\n",
    "-------------------------------------------------------------------------------\n",
    "PCRGLOBWB Data for demand is provided in different units: \n",
    "volumes (millionm3), flux (m or m3second), dimensionless. Converting to \n",
    "millionm3 (millionm3 per pixel per unit time) and m (m per pixel per unit time) \n",
    "\n",
    "Converts demand to flux\n",
    "Converts supply and discharge to volume and flux\n",
    "\n",
    "Author: Rutger Hofste\n",
    "Date: 20180418\n",
    "Kernel: python35\n",
    "Docker: rutgerhofste/gisdocker:ubuntu16.04\n",
    "\n",
    "Args:\n",
    "\n",
    "    SCRIPT_NAME (string) : Script name\n",
    "    \n",
    "    GLOBAL_CELLSIZE_M2_5MIN_ASSET_ID (string): Asset ID for earthengine\n",
    "      image used to convert volumes to fluxes. \n",
    "\n",
    "\n",
    "Returns:\n",
    "\n",
    "\n",
    "\"\"\"\n",
    "\n",
    "# Input Parameters\n",
    "\n",
    "SCRIPT_NAME = \"Y2018M04D18_RH_Standardize_Demand_Units_5min_EE_V01\"\n",
    "EE_VERSION = 9\n",
    "OUTPUT_VERSION = 1 \n",
    "\n",
    "GLOBAL_CELLSIZE_M2_5MIN_ASSET_ID = \"projects/WRI-Aquaduct/PCRGlobWB20_Aux_V02/global_cellsize_m2_05min\"\n",
    "\n",
    "\n",
    "ee_path = \"projects/WRI-Aquaduct/PCRGlobWB20V{:02.0f}\".format(EE_VERSION)\n",
    "\n",
    "\n",
    "print(\"Input ee: \" + ee_path +\n",
    "      \"\\nOutput ee: \" + ee_path )\n",
    "\n"
   ]
  },
  {
   "cell_type": "code",
   "execution_count": null,
   "metadata": {
    "collapsed": true
   },
   "outputs": [],
   "source": [
    "import time, datetime, sys\n",
    "dateString = time.strftime(\"Y%YM%mD%d\")\n",
    "timeString = time.strftime(\"UTC %H:%M\")\n",
    "start = datetime.datetime.now()\n",
    "print(dateString,timeString)\n",
    "sys.version"
   ]
  },
  {
   "cell_type": "code",
   "execution_count": 1,
   "metadata": {
    "collapsed": true
   },
   "outputs": [],
   "source": [
    "import ee\n",
    "\n",
    "ee.Initialize()"
   ]
  },
  {
   "cell_type": "code",
   "execution_count": 2,
   "metadata": {
    "collapsed": true
   },
   "outputs": [],
   "source": [
    "# functions\n",
    "\n",
    "def volume_to_flux_5min_millionm3_m2(image):\n",
    "    \n",
    "    \n",
    "    \n"
   ]
  },
  {
   "cell_type": "code",
   "execution_count": 9,
   "metadata": {},
   "outputs": [
    {
     "name": "stdout",
     "output_type": "stream",
     "text": [
      "55\n",
      "660\n",
      "55\n",
      "660\n",
      "55\n",
      "660\n",
      "55\n",
      "660\n",
      "55\n",
      "660\n",
      "55\n",
      "660\n",
      "55\n",
      "660\n",
      "55\n",
      "660\n"
     ]
    }
   ],
   "source": [
    "sectors = [\"PDom\",\"PInd\",\"PIrr\",\"PLiv\"]\n",
    "demand_types = [\"WW\",\"WN\"]\n",
    "temporal_resolutions = [\"year\",\"month\"]\n",
    "\n",
    "for sector in sectors:\n",
    "    for demand_type in demand_types:\n",
    "        for temporal_resolution in temporal_resolutions:\n",
    "            ic_file_name = \"global_historical_{}{}_{}_millionm3_5min_1960_2014\".format(sector,demand_type,temporal_resolution)\n",
    "            ic_asset_id = \"{}/{}\".format(ee_path,ic_file_name)\n",
    "            ic = ee.ImageCollection(ic_asset_id)\n",
    "            \n",
    "\n"
   ]
  },
  {
   "cell_type": "code",
   "execution_count": null,
   "metadata": {
    "collapsed": true
   },
   "outputs": [],
   "source": [
    "end = datetime.datetime.now()\n",
    "elapsed = end - start\n",
    "print(elapsed)"
   ]
  },
  {
   "cell_type": "code",
   "execution_count": null,
   "metadata": {
    "collapsed": true
   },
   "outputs": [],
   "source": [
    "Previous runs:  \n"
   ]
  }
 ],
 "metadata": {
  "kernelspec": {
   "display_name": "Python 35",
   "language": "python",
   "name": "python35"
  },
  "language_info": {
   "codemirror_mode": {
    "name": "ipython",
    "version": 3
   },
   "file_extension": ".py",
   "mimetype": "text/x-python",
   "name": "python",
   "nbconvert_exporter": "python",
   "pygments_lexer": "ipython3",
   "version": "3.5.4"
  }
 },
 "nbformat": 4,
 "nbformat_minor": 2
}
