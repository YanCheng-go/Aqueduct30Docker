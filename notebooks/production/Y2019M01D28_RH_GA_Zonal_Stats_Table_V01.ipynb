{
 "cells": [
  {
   "cell_type": "code",
   "execution_count": 1,
   "metadata": {},
   "outputs": [
    {
     "name": "stdout",
     "output_type": "stream",
     "text": [
      "GCS_INPUT_PATH: gs://aqueduct30_v01/Y2019M01D17_RH_GA_Zonal_Stats_Weighted_Indicators_EE_V01/output_V03\n",
      "ec2_input_path: /volumes/data/Y2019M01D28_RH_GA_Zonal_Stats_Table_V01/input_V01\n",
      "ec2_output_path: /volumes/data/Y2019M01D28_RH_GA_Zonal_Stats_Table_V01/output_V01\n",
      "s3_output_path: s3://wri-projects/Aqueduct30/processData/Y2019M01D28_RH_GA_Zonal_Stats_Table_V01/output_V01/\n"
     ]
    }
   ],
   "source": [
    "\"\"\"Post process aggregations from EE and combine with other datasets.\n",
    "-------------------------------------------------------------------------------\n",
    "\n",
    "Author: Rutger Hofste\n",
    "Date: 20190128\n",
    "Kernel: python35\n",
    "Docker: rutgerhofste/gisdocker:ubuntu16.04\n",
    "\n",
    "\"\"\"\n",
    "\n",
    "TESTING = 0\n",
    "SCRIPT_NAME = \"Y2019M01D28_RH_GA_Zonal_Stats_Table_V01\"\n",
    "OUTPUT_VERSION = 1\n",
    "\n",
    "GCS_INPUT_PATH = \"gs://aqueduct30_v01/Y2019M01D17_RH_GA_Zonal_Stats_Weighted_Indicators_EE_V01/output_V03\"\n",
    "\n",
    "BQ_PROJECT_ID = \"aqueduct30\"\n",
    "BQ_DATASET_NAME = \"aqueduct30v01\"\n",
    "BQ_INPUT_TABLE_NAME = \"y2018m12d04_rh_master_merge_rawdata_gpd_v02_v05\"\n",
    "\n",
    "ec2_input_path = \"/volumes/data/{}/input_V{:02.0f}\".format(SCRIPT_NAME,OUTPUT_VERSION) \n",
    "ec2_output_path = \"/volumes/data/{}/output_V{:02.0f}\".format(SCRIPT_NAME,OUTPUT_VERSION) \n",
    "\n",
    "s3_output_path = \"s3://wri-projects/Aqueduct30/processData/{}/output_V{:02.0f}/\".format(SCRIPT_NAME,OUTPUT_VERSION)\n",
    "\n",
    "print(\"GCS_INPUT_PATH: \" + GCS_INPUT_PATH +\n",
    "      \"\\nec2_input_path: \" +  ec2_input_path + \n",
    "      \"\\nec2_output_path: \" + ec2_output_path + \n",
    "      \"\\ns3_output_path: \" + s3_output_path  )\n",
    "\n"
   ]
  },
  {
   "cell_type": "code",
   "execution_count": 2,
   "metadata": {},
   "outputs": [
    {
     "name": "stdout",
     "output_type": "stream",
     "text": [
      "Y2019M01D28 UTC 13:01\n"
     ]
    },
    {
     "data": {
      "text/plain": [
       "'3.5.4 |Anaconda, Inc.| (default, Nov 20 2017, 18:44:38) \\n[GCC 7.2.0]'"
      ]
     },
     "execution_count": 2,
     "metadata": {},
     "output_type": "execute_result"
    }
   ],
   "source": [
    "import time, datetime, sys\n",
    "dateString = time.strftime(\"Y%YM%mD%d\")\n",
    "timeString = time.strftime(\"UTC %H:%M\")\n",
    "start = datetime.datetime.now()\n",
    "print(dateString,timeString)\n",
    "sys.version"
   ]
  },
  {
   "cell_type": "code",
   "execution_count": 3,
   "metadata": {
    "collapsed": true
   },
   "outputs": [],
   "source": [
    "!mkdir -p {ec2_input_path}\n",
    "!mkdir -p {ec2_output_path}"
   ]
  },
  {
   "cell_type": "code",
   "execution_count": 4,
   "metadata": {},
   "outputs": [
    {
     "name": "stdout",
     "output_type": "stream",
     "text": [
      "Copying gs://aqueduct30_v01/Y2019M01D17_RH_GA_Zonal_Stats_Weighted_Indicators_EE_V01/output_V03/weighted_bwd_sumee_export.csv...\n",
      "Copying gs://aqueduct30_v01/Y2019M01D17_RH_GA_Zonal_Stats_Weighted_Indicators_EE_V01/output_V03/weighted_bws_sumee_export.csv...\n",
      "Copying gs://aqueduct30_v01/Y2019M01D17_RH_GA_Zonal_Stats_Weighted_Indicators_EE_V01/output_V03/weighted_cep_sumee_export.csv...\n",
      "Copying gs://aqueduct30_v01/Y2019M01D17_RH_GA_Zonal_Stats_Weighted_Indicators_EE_V01/output_V03/weighted_cfr_sumee_export.csv...\n",
      "\\ [4 files][647.9 KiB/647.9 KiB]                                                \n",
      "==> NOTE: You are performing a sequence of gsutil operations that may\n",
      "run significantly faster if you instead use gsutil -m -o ... Please\n",
      "see the -m section under \"gsutil help options\" for further information\n",
      "about when gsutil -m can be advantageous.\n",
      "\n",
      "Copying gs://aqueduct30_v01/Y2019M01D17_RH_GA_Zonal_Stats_Weighted_Indicators_EE_V01/output_V03/weighted_drr_sumee_export.csv...\n",
      "Copying gs://aqueduct30_v01/Y2019M01D17_RH_GA_Zonal_Stats_Weighted_Indicators_EE_V01/output_V03/weighted_gtd_sumee_export.csv...\n",
      "Copying gs://aqueduct30_v01/Y2019M01D17_RH_GA_Zonal_Stats_Weighted_Indicators_EE_V01/output_V03/weighted_iav_sumee_export.csv...\n",
      "Copying gs://aqueduct30_v01/Y2019M01D17_RH_GA_Zonal_Stats_Weighted_Indicators_EE_V01/output_V03/weighted_rfr_sumee_export.csv...\n",
      "Copying gs://aqueduct30_v01/Y2019M01D17_RH_GA_Zonal_Stats_Weighted_Indicators_EE_V01/output_V03/weighted_rri_sumee_export.csv...\n",
      "Copying gs://aqueduct30_v01/Y2019M01D17_RH_GA_Zonal_Stats_Weighted_Indicators_EE_V01/output_V03/weighted_sev_sumee_export.csv...\n",
      "Copying gs://aqueduct30_v01/Y2019M01D17_RH_GA_Zonal_Stats_Weighted_Indicators_EE_V01/output_V03/weighted_ucw_sumee_export.csv...\n",
      "Copying gs://aqueduct30_v01/Y2019M01D17_RH_GA_Zonal_Stats_Weighted_Indicators_EE_V01/output_V03/weighted_udw_sumee_export.csv...\n",
      "Copying gs://aqueduct30_v01/Y2019M01D17_RH_GA_Zonal_Stats_Weighted_Indicators_EE_V01/output_V03/weighted_usa_sumee_export.csv...\n",
      "Copying gs://aqueduct30_v01/Y2019M01D17_RH_GA_Zonal_Stats_Weighted_Indicators_EE_V01/output_V03/weights_sumee_export.csv...\n",
      "| [14 files][  2.2 MiB/  2.2 MiB]                                               \n",
      "Operation completed over 14 objects/2.2 MiB.                                     \n"
     ]
    }
   ],
   "source": [
    "!gsutil cp {GCS_INPUT_PATH}/* {ec2_input_path}"
   ]
  },
  {
   "cell_type": "code",
   "execution_count": 5,
   "metadata": {},
   "outputs": [
    {
     "data": {
      "text/plain": [
       "'gs://aqueduct30_v01/Y2019M01D17_RH_GA_Zonal_Stats_Weighted_Indicators_EE_V01/output_V03'"
      ]
     },
     "execution_count": 5,
     "metadata": {},
     "output_type": "execute_result"
    }
   ],
   "source": [
    "GCS_INPUT_PATH"
   ]
  },
  {
   "cell_type": "code",
   "execution_count": 6,
   "metadata": {},
   "outputs": [],
   "source": [
    "import os\n",
    "import numpy as np\n",
    "import pandas as pd\n",
    "from google.cloud import bigquery\n",
    "\n",
    "os.environ[\"GOOGLE_APPLICATION_CREDENTIALS\"] = \"/.google.json\"\n",
    "os.environ[\"GOOGLE_CLOUD_PROJECT\"] = \"aqueduct30\"\n",
    "client = bigquery.Client(project=BQ_PROJECT_ID)"
   ]
  },
  {
   "cell_type": "code",
   "execution_count": 7,
   "metadata": {
    "collapsed": true
   },
   "outputs": [],
   "source": [
    "sql = \"\"\"\n",
    "SELECT\n",
    "  indicator,\n",
    "  AVG(cat) AS cat,\n",
    "  label\n",
    "FROM\n",
    "  `{}.{}.{}`\n",
    "GROUP BY\n",
    "  label, indicator\n",
    "ORDER BY\n",
    "  indicator, cat\n",
    "\"\"\".format(BQ_PROJECT_ID,BQ_DATASET_NAME,BQ_INPUT_TABLE_NAME)"
   ]
  },
  {
   "cell_type": "code",
   "execution_count": 8,
   "metadata": {
    "collapsed": true
   },
   "outputs": [],
   "source": [
    "df_labels = pd.read_gbq(query=sql,\n",
    "                        project_id =BQ_PROJECT_ID,\n",
    "                        dialect=\"standard\")"
   ]
  },
  {
   "cell_type": "code",
   "execution_count": 9,
   "metadata": {},
   "outputs": [
    {
     "data": {
      "text/html": [
       "<div>\n",
       "<style scoped>\n",
       "    .dataframe tbody tr th:only-of-type {\n",
       "        vertical-align: middle;\n",
       "    }\n",
       "\n",
       "    .dataframe tbody tr th {\n",
       "        vertical-align: top;\n",
       "    }\n",
       "\n",
       "    .dataframe thead th {\n",
       "        text-align: right;\n",
       "    }\n",
       "</style>\n",
       "<table border=\"1\" class=\"dataframe\">\n",
       "  <thead>\n",
       "    <tr style=\"text-align: right;\">\n",
       "      <th></th>\n",
       "      <th>indicator</th>\n",
       "      <th>cat</th>\n",
       "      <th>label</th>\n",
       "    </tr>\n",
       "  </thead>\n",
       "  <tbody>\n",
       "    <tr>\n",
       "      <th>0</th>\n",
       "      <td>None</td>\n",
       "      <td>NaN</td>\n",
       "      <td>None</td>\n",
       "    </tr>\n",
       "    <tr>\n",
       "      <th>1</th>\n",
       "      <td>bwd</td>\n",
       "      <td>NaN</td>\n",
       "      <td>None</td>\n",
       "    </tr>\n",
       "    <tr>\n",
       "      <th>2</th>\n",
       "      <td>bwd</td>\n",
       "      <td>-1.0</td>\n",
       "      <td>Arid and Low Water Use</td>\n",
       "    </tr>\n",
       "    <tr>\n",
       "      <th>3</th>\n",
       "      <td>bwd</td>\n",
       "      <td>0.0</td>\n",
       "      <td>Low</td>\n",
       "    </tr>\n",
       "    <tr>\n",
       "      <th>4</th>\n",
       "      <td>bwd</td>\n",
       "      <td>1.0</td>\n",
       "      <td>Low - Medium</td>\n",
       "    </tr>\n",
       "  </tbody>\n",
       "</table>\n",
       "</div>"
      ],
      "text/plain": [
       "  indicator  cat                   label\n",
       "0      None  NaN                    None\n",
       "1       bwd  NaN                    None\n",
       "2       bwd -1.0  Arid and Low Water Use\n",
       "3       bwd  0.0                     Low\n",
       "4       bwd  1.0            Low - Medium"
      ]
     },
     "execution_count": 9,
     "metadata": {},
     "output_type": "execute_result"
    }
   ],
   "source": [
    "df_labels.head()"
   ]
  },
  {
   "cell_type": "code",
   "execution_count": 10,
   "metadata": {
    "collapsed": true
   },
   "outputs": [],
   "source": [
    "def score_to_category(score):\n",
    "    if np.isnan(score):\n",
    "        cat = np.nan\n",
    "    else:\n",
    "        if score != 5:\n",
    "            cat = int(np.floor(score))\n",
    "        else:\n",
    "            cat = 4\n",
    "    return cat"
   ]
  },
  {
   "cell_type": "code",
   "execution_count": 11,
   "metadata": {},
   "outputs": [],
   "source": [
    "input_file_name = \"weights_sumee_export.csv\"\n",
    "input_file_path = \"{}/{}\".format(ec2_input_path,input_file_name)\n",
    "df_weights = pd.read_csv(input_file_path)\n",
    "df_weights.drop(columns=[\"system:index\",\".geo\"],\n",
    "                inplace=True)\n",
    "df_weights.rename(columns={\"sum\":\"sum_weights\"},\n",
    "                  inplace=True)"
   ]
  },
  {
   "cell_type": "code",
   "execution_count": 12,
   "metadata": {
    "collapsed": true
   },
   "outputs": [],
   "source": [
    "indicators = [\"bws\",\"bwd\",\"iav\",\"sev\",\"gtd\",\"drr\",\"rfr\",\"cfr\",\"ucw\",\"cep\",\"udw\",\"usa\",\"rri\"]"
   ]
  },
  {
   "cell_type": "code",
   "execution_count": 13,
   "metadata": {
    "collapsed": true
   },
   "outputs": [],
   "source": [
    "df_vertical = pd.DataFrame()"
   ]
  },
  {
   "cell_type": "code",
   "execution_count": 17,
   "metadata": {},
   "outputs": [
    {
     "name": "stdout",
     "output_type": "stream",
     "text": [
      "indicator:  bws\n",
      "indicator:  bwd\n",
      "indicator:  iav\n",
      "indicator:  sev\n",
      "indicator:  gtd\n",
      "indicator:  drr\n",
      "indicator:  rfr\n",
      "indicator:  cfr\n",
      "indicator:  ucw\n",
      "indicator:  cep\n",
      "indicator:  udw\n",
      "indicator:  usa\n",
      "indicator:  rri\n"
     ]
    }
   ],
   "source": [
    "for indicator in indicators:\n",
    "    print(\"indicator: \", indicator)\n",
    "    input_file_name = \"weighted_{}_sumee_export.csv\".format(indicator)\n",
    "    input_file_path = \"{}/{}\".format(ec2_input_path,input_file_name)\n",
    "    df = pd.read_csv(input_file_path)\n",
    "    \n",
    "    df.drop(columns=[\"system:index\",\".geo\"],\n",
    "            inplace=True)\n",
    "    df.rename(columns={\"sum\":\"sum_weighted_indicator\"},inplace=True)\n",
    "    df[\"indicator_name\"] = indicator\n",
    "    \n",
    "    # Join weights and weighted_indicators\n",
    "    \n",
    "    df_merged = pd.merge(left=df_weights,\n",
    "                         right=df,\n",
    "                         how=\"inner\",\n",
    "                         left_on=\"gid_1\",\n",
    "                         right_on=\"gid_1\")\n",
    "    df_merged[\"score\"]  = df_merged[\"sum_weighted_indicator\"] / df_merged[\"sum_weights\"]\n",
    "    \n",
    "    # The cat -> label is different for each indicator. Using a link table instead.\n",
    "    df_merged[\"cat\"] = df_merged[\"score\"].apply(score_to_category)\n",
    "    df_vertical = df_vertical.append(df_merged)\n",
    "    \n",
    "    "
   ]
  },
  {
   "cell_type": "code",
   "execution_count": 18,
   "metadata": {},
   "outputs": [
    {
     "data": {
      "text/plain": [
       "(47008, 6)"
      ]
     },
     "execution_count": 18,
     "metadata": {},
     "output_type": "execute_result"
    }
   ],
   "source": [
    "df_vertical.shape"
   ]
  },
  {
   "cell_type": "code",
   "execution_count": 19,
   "metadata": {
    "collapsed": true
   },
   "outputs": [],
   "source": [
    "df_out = pd.merge(left=df_vertical,\n",
    "                   right=df_labels,\n",
    "                   how=\"left\",\n",
    "                   left_on=[\"indicator_name\",\"cat\"],\n",
    "                   right_on=[\"indicator\",\"cat\"])"
   ]
  },
  {
   "cell_type": "code",
   "execution_count": 21,
   "metadata": {},
   "outputs": [],
   "source": [
    "output_file_path_ec2 = \"{}/{}_V{:02.0f}.csv\".format(ec2_output_path,SCRIPT_NAME,OUTPUT_VERSION)"
   ]
  },
  {
   "cell_type": "code",
   "execution_count": 22,
   "metadata": {},
   "outputs": [],
   "source": [
    "df_out.to_csv(path_or_buf=output_file_path_ec2)"
   ]
  },
  {
   "cell_type": "code",
   "execution_count": 23,
   "metadata": {},
   "outputs": [
    {
     "name": "stdout",
     "output_type": "stream",
     "text": [
      "upload: ../../../../data/Y2019M01D28_RH_GA_Zonal_Stats_Table_V01/output_V01/Y2019M01D28_RH_GA_Zonal_Stats_Table_V01_V01.csv to s3://wri-projects/Aqueduct30/processData/Y2019M01D28_RH_GA_Zonal_Stats_Table_V01/output_V01/Y2019M01D28_RH_GA_Zonal_Stats_Table_V01_V01.csv\n"
     ]
    }
   ],
   "source": [
    "!aws s3 cp {ec2_output_path} {s3_output_path} --recursive"
   ]
  },
  {
   "cell_type": "code",
   "execution_count": null,
   "metadata": {
    "collapsed": true
   },
   "outputs": [],
   "source": []
  }
 ],
 "metadata": {
  "kernelspec": {
   "display_name": "Python 35",
   "language": "python",
   "name": "python35"
  },
  "language_info": {
   "codemirror_mode": {
    "name": "ipython",
    "version": 3
   },
   "file_extension": ".py",
   "mimetype": "text/x-python",
   "name": "python",
   "nbconvert_exporter": "python",
   "pygments_lexer": "ipython3",
   "version": "3.5.4"
  }
 },
 "nbformat": 4,
 "nbformat_minor": 2
}
