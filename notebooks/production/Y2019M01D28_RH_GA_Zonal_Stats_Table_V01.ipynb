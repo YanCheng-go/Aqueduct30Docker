{
 "cells": [
  {
   "cell_type": "code",
   "execution_count": 1,
   "metadata": {},
   "outputs": [
    {
     "name": "stdout",
     "output_type": "stream",
     "text": [
      "GCS_INPUT_PATH: gs://aqueduct30_v01/Y2019M01D17_RH_GA_Zonal_Stats_Weighted_Indicators_EE_V01/output_V05\n",
      "ec2_input_path: /volumes/data/Y2019M01D28_RH_GA_Zonal_Stats_Table_V01/input_V06\n",
      "ec2_output_path: /volumes/data/Y2019M01D28_RH_GA_Zonal_Stats_Table_V01/output_V06\n",
      "s3_output_path: s3://wri-projects/Aqueduct30/processData/Y2019M01D28_RH_GA_Zonal_Stats_Table_V01/output_V06/\n"
     ]
    }
   ],
   "source": [
    "\"\"\"Post process aggregations from EE and combine with other datasets.\n",
    "-------------------------------------------------------------------------------\n",
    "\n",
    "combines the different datasets into one result table. \n",
    "\n",
    "indicator weights \n",
    "bws withdrawal per sector\n",
    "bwd withdrawal per sector\n",
    "iav withdrawal per sector\n",
    "sev withdrawal per sector\n",
    "\n",
    "\n",
    "Author: Rutger Hofste\n",
    "Date: 20190128\n",
    "Kernel: python35\n",
    "Docker: rutgerhofste/gisdocker:ubuntu16.04\n",
    "\n",
    "\"\"\"\n",
    "\n",
    "TESTING = 0\n",
    "SCRIPT_NAME = \"Y2019M01D28_RH_GA_Zonal_Stats_Table_V01\"\n",
    "OUTPUT_VERSION = 6\n",
    "\n",
    "GCS_INPUT_PATH = \"gs://aqueduct30_v01/Y2019M01D17_RH_GA_Zonal_Stats_Weighted_Indicators_EE_V01/output_V05\"\n",
    "\n",
    "BQ_PROJECT_ID = \"aqueduct30\"\n",
    "BQ_DATASET_NAME = \"aqueduct30v01\"\n",
    "BQ_INPUT_TABLE_NAME_LABEL = \"y2018m12d04_rh_master_merge_rawdata_gpd_v02_v05\"\n",
    "BQ_INPUT_TABLE_NAME_GADM  = \"y2018m11d12_rh_gadm36_level1_rds_to_bq_v01_v01\"\n",
    "BQ_OUTPUT_TABLE_NAME = \"{}_v{:02.0f}\".format(SCRIPT_NAME,OUTPUT_VERSION).lower()\n",
    "\n",
    "\n",
    "ec2_input_path = \"/volumes/data/{}/input_V{:02.0f}\".format(SCRIPT_NAME,OUTPUT_VERSION) \n",
    "ec2_output_path = \"/volumes/data/{}/output_V{:02.0f}\".format(SCRIPT_NAME,OUTPUT_VERSION) \n",
    "\n",
    "s3_output_path = \"s3://wri-projects/Aqueduct30/processData/{}/output_V{:02.0f}/\".format(SCRIPT_NAME,OUTPUT_VERSION)\n",
    "\n",
    "print(\"GCS_INPUT_PATH: \" + GCS_INPUT_PATH +\n",
    "      \"\\nec2_input_path: \" +  ec2_input_path + \n",
    "      \"\\nec2_output_path: \" + ec2_output_path + \n",
    "      \"\\ns3_output_path: \" + s3_output_path  )\n",
    "\n"
   ]
  },
  {
   "cell_type": "code",
   "execution_count": 2,
   "metadata": {
    "scrolled": false
   },
   "outputs": [
    {
     "name": "stdout",
     "output_type": "stream",
     "text": [
      "Y2019M01D30 UTC 16:34\n"
     ]
    },
    {
     "data": {
      "text/plain": [
       "'3.5.4 |Anaconda, Inc.| (default, Nov 20 2017, 18:44:38) \\n[GCC 7.2.0]'"
      ]
     },
     "execution_count": 2,
     "metadata": {},
     "output_type": "execute_result"
    }
   ],
   "source": [
    "import time, datetime, sys\n",
    "dateString = time.strftime(\"Y%YM%mD%d\")\n",
    "timeString = time.strftime(\"UTC %H:%M\")\n",
    "start = datetime.datetime.now()\n",
    "print(dateString,timeString)\n",
    "sys.version"
   ]
  },
  {
   "cell_type": "code",
   "execution_count": 3,
   "metadata": {
    "collapsed": true
   },
   "outputs": [],
   "source": [
    "!mkdir -p {ec2_input_path}\n",
    "!mkdir -p {ec2_output_path}"
   ]
  },
  {
   "cell_type": "code",
   "execution_count": 4,
   "metadata": {},
   "outputs": [
    {
     "name": "stdout",
     "output_type": "stream",
     "text": [
      "Copying gs://aqueduct30_v01/Y2019M01D17_RH_GA_Zonal_Stats_Weighted_Indicators_EE_V01/output_V05/Dom_weighted_bwd_sumee_export.csv...\n",
      "Copying gs://aqueduct30_v01/Y2019M01D17_RH_GA_Zonal_Stats_Weighted_Indicators_EE_V01/output_V05/Dom_weighted_bws_sumee_export.csv...\n",
      "Copying gs://aqueduct30_v01/Y2019M01D17_RH_GA_Zonal_Stats_Weighted_Indicators_EE_V01/output_V05/Dom_weighted_cep_sumee_export.csv...\n",
      "Copying gs://aqueduct30_v01/Y2019M01D17_RH_GA_Zonal_Stats_Weighted_Indicators_EE_V01/output_V05/Dom_weighted_cfr_sumee_export.csv...\n",
      "Copying gs://aqueduct30_v01/Y2019M01D17_RH_GA_Zonal_Stats_Weighted_Indicators_EE_V01/output_V05/Dom_weighted_gtd_sumee_export.csv...\n",
      "Copying gs://aqueduct30_v01/Y2019M01D17_RH_GA_Zonal_Stats_Weighted_Indicators_EE_V01/output_V05/Dom_weighted_drr_sumee_export.csv...\n",
      "Copying gs://aqueduct30_v01/Y2019M01D17_RH_GA_Zonal_Stats_Weighted_Indicators_EE_V01/output_V05/Dom_weighted_rri_sumee_export.csv...\n",
      "Copying gs://aqueduct30_v01/Y2019M01D17_RH_GA_Zonal_Stats_Weighted_Indicators_EE_V01/output_V05/Dom_weighted_iav_sumee_export.csv...\n",
      "Copying gs://aqueduct30_v01/Y2019M01D17_RH_GA_Zonal_Stats_Weighted_Indicators_EE_V01/output_V05/Dom_weighted_rfr_sumee_export.csv...\n",
      "Copying gs://aqueduct30_v01/Y2019M01D17_RH_GA_Zonal_Stats_Weighted_Indicators_EE_V01/output_V05/Dom_weighted_sev_sumee_export.csv...\n",
      "Copying gs://aqueduct30_v01/Y2019M01D17_RH_GA_Zonal_Stats_Weighted_Indicators_EE_V01/output_V05/Dom_weighted_ucw_sumee_export.csv...\n",
      "Copying gs://aqueduct30_v01/Y2019M01D17_RH_GA_Zonal_Stats_Weighted_Indicators_EE_V01/output_V05/Dom_weighted_udw_sumee_export.csv...\n",
      "Copying gs://aqueduct30_v01/Y2019M01D17_RH_GA_Zonal_Stats_Weighted_Indicators_EE_V01/output_V05/Dom_weighted_usa_sumee_export.csv...\n",
      "Copying gs://aqueduct30_v01/Y2019M01D17_RH_GA_Zonal_Stats_Weighted_Indicators_EE_V01/output_V05/Dom_weights_sumee_export.csv...\n",
      "Copying gs://aqueduct30_v01/Y2019M01D17_RH_GA_Zonal_Stats_Weighted_Indicators_EE_V01/output_V05/Ind_weighted_bwd_sumee_export.csv...\n",
      "Copying gs://aqueduct30_v01/Y2019M01D17_RH_GA_Zonal_Stats_Weighted_Indicators_EE_V01/output_V05/Ind_weighted_bws_sumee_export.csv...\n",
      "Copying gs://aqueduct30_v01/Y2019M01D17_RH_GA_Zonal_Stats_Weighted_Indicators_EE_V01/output_V05/Ind_weighted_drr_sumee_export.csv...\n",
      "Copying gs://aqueduct30_v01/Y2019M01D17_RH_GA_Zonal_Stats_Weighted_Indicators_EE_V01/output_V05/Ind_weighted_cep_sumee_export.csv...\n",
      "Copying gs://aqueduct30_v01/Y2019M01D17_RH_GA_Zonal_Stats_Weighted_Indicators_EE_V01/output_V05/Ind_weighted_cfr_sumee_export.csv...\n",
      "Copying gs://aqueduct30_v01/Y2019M01D17_RH_GA_Zonal_Stats_Weighted_Indicators_EE_V01/output_V05/Ind_weighted_gtd_sumee_export.csv...\n",
      "Copying gs://aqueduct30_v01/Y2019M01D17_RH_GA_Zonal_Stats_Weighted_Indicators_EE_V01/output_V05/Ind_weighted_rfr_sumee_export.csv...\n",
      "Copying gs://aqueduct30_v01/Y2019M01D17_RH_GA_Zonal_Stats_Weighted_Indicators_EE_V01/output_V05/Ind_weighted_iav_sumee_export.csv...\n",
      "Copying gs://aqueduct30_v01/Y2019M01D17_RH_GA_Zonal_Stats_Weighted_Indicators_EE_V01/output_V05/Ind_weighted_rri_sumee_export.csv...\n",
      "Copying gs://aqueduct30_v01/Y2019M01D17_RH_GA_Zonal_Stats_Weighted_Indicators_EE_V01/output_V05/Ind_weighted_sev_sumee_export.csv...\n",
      "Copying gs://aqueduct30_v01/Y2019M01D17_RH_GA_Zonal_Stats_Weighted_Indicators_EE_V01/output_V05/Ind_weighted_ucw_sumee_export.csv...\n",
      "Copying gs://aqueduct30_v01/Y2019M01D17_RH_GA_Zonal_Stats_Weighted_Indicators_EE_V01/output_V05/Ind_weighted_udw_sumee_export.csv...\n",
      "Copying gs://aqueduct30_v01/Y2019M01D17_RH_GA_Zonal_Stats_Weighted_Indicators_EE_V01/output_V05/Ind_weighted_usa_sumee_export.csv...\n",
      "Copying gs://aqueduct30_v01/Y2019M01D17_RH_GA_Zonal_Stats_Weighted_Indicators_EE_V01/output_V05/Ind_weights_sumee_export.csv...\n",
      "Copying gs://aqueduct30_v01/Y2019M01D17_RH_GA_Zonal_Stats_Weighted_Indicators_EE_V01/output_V05/Irr_weighted_bwd_sumee_export.csv...\n",
      "Copying gs://aqueduct30_v01/Y2019M01D17_RH_GA_Zonal_Stats_Weighted_Indicators_EE_V01/output_V05/Irr_weighted_bws_sumee_export.csv...\n",
      "Copying gs://aqueduct30_v01/Y2019M01D17_RH_GA_Zonal_Stats_Weighted_Indicators_EE_V01/output_V05/Irr_weighted_cep_sumee_export.csv...\n",
      "Copying gs://aqueduct30_v01/Y2019M01D17_RH_GA_Zonal_Stats_Weighted_Indicators_EE_V01/output_V05/Irr_weighted_rfr_sumee_export.csv...\n",
      "Copying gs://aqueduct30_v01/Y2019M01D17_RH_GA_Zonal_Stats_Weighted_Indicators_EE_V01/output_V05/Irr_weighted_cfr_sumee_export.csv...\n",
      "Copying gs://aqueduct30_v01/Y2019M01D17_RH_GA_Zonal_Stats_Weighted_Indicators_EE_V01/output_V05/Irr_weighted_drr_sumee_export.csv...\n",
      "Copying gs://aqueduct30_v01/Y2019M01D17_RH_GA_Zonal_Stats_Weighted_Indicators_EE_V01/output_V05/Irr_weighted_gtd_sumee_export.csv...\n",
      "Copying gs://aqueduct30_v01/Y2019M01D17_RH_GA_Zonal_Stats_Weighted_Indicators_EE_V01/output_V05/Irr_weighted_rri_sumee_export.csv...\n",
      "Copying gs://aqueduct30_v01/Y2019M01D17_RH_GA_Zonal_Stats_Weighted_Indicators_EE_V01/output_V05/Irr_weighted_sev_sumee_export.csv...\n",
      "Copying gs://aqueduct30_v01/Y2019M01D17_RH_GA_Zonal_Stats_Weighted_Indicators_EE_V01/output_V05/Irr_weighted_iav_sumee_export.csv...\n",
      "Copying gs://aqueduct30_v01/Y2019M01D17_RH_GA_Zonal_Stats_Weighted_Indicators_EE_V01/output_V05/Irr_weighted_ucw_sumee_export.csv...\n",
      "Copying gs://aqueduct30_v01/Y2019M01D17_RH_GA_Zonal_Stats_Weighted_Indicators_EE_V01/output_V05/Irr_weighted_udw_sumee_export.csv...\n",
      "Copying gs://aqueduct30_v01/Y2019M01D17_RH_GA_Zonal_Stats_Weighted_Indicators_EE_V01/output_V05/Irr_weighted_usa_sumee_export.csv...\n",
      "Copying gs://aqueduct30_v01/Y2019M01D17_RH_GA_Zonal_Stats_Weighted_Indicators_EE_V01/output_V05/Liv_weighted_drr_sumee_export.csv...\n",
      "Copying gs://aqueduct30_v01/Y2019M01D17_RH_GA_Zonal_Stats_Weighted_Indicators_EE_V01/output_V05/Irr_weights_sumee_export.csv...\n",
      "Copying gs://aqueduct30_v01/Y2019M01D17_RH_GA_Zonal_Stats_Weighted_Indicators_EE_V01/output_V05/Liv_weighted_gtd_sumee_export.csv...\n",
      "Copying gs://aqueduct30_v01/Y2019M01D17_RH_GA_Zonal_Stats_Weighted_Indicators_EE_V01/output_V05/Liv_weighted_bwd_sumee_export.csv...\n",
      "Copying gs://aqueduct30_v01/Y2019M01D17_RH_GA_Zonal_Stats_Weighted_Indicators_EE_V01/output_V05/Tot_weighted_cep_sumee_export.csv...\n",
      "Copying gs://aqueduct30_v01/Y2019M01D17_RH_GA_Zonal_Stats_Weighted_Indicators_EE_V01/output_V05/Tot_weighted_bws_sumee_export.csv...\n",
      "Copying gs://aqueduct30_v01/Y2019M01D17_RH_GA_Zonal_Stats_Weighted_Indicators_EE_V01/output_V05/Liv_weighted_iav_sumee_export.csv...\n",
      "Copying gs://aqueduct30_v01/Y2019M01D17_RH_GA_Zonal_Stats_Weighted_Indicators_EE_V01/output_V05/Liv_weighted_bws_sumee_export.csv...\n",
      "Copying gs://aqueduct30_v01/Y2019M01D17_RH_GA_Zonal_Stats_Weighted_Indicators_EE_V01/output_V05/Liv_weighted_cep_sumee_export.csv...\n",
      "Copying gs://aqueduct30_v01/Y2019M01D17_RH_GA_Zonal_Stats_Weighted_Indicators_EE_V01/output_V05/Liv_weighted_rfr_sumee_export.csv...\n",
      "Copying gs://aqueduct30_v01/Y2019M01D17_RH_GA_Zonal_Stats_Weighted_Indicators_EE_V01/output_V05/Liv_weighted_udw_sumee_export.csv...\n",
      "Copying gs://aqueduct30_v01/Y2019M01D17_RH_GA_Zonal_Stats_Weighted_Indicators_EE_V01/output_V05/Tot_weighted_cfr_sumee_export.csv...\n",
      "Copying gs://aqueduct30_v01/Y2019M01D17_RH_GA_Zonal_Stats_Weighted_Indicators_EE_V01/output_V05/Liv_weighted_usa_sumee_export.csv...\n",
      "Copying gs://aqueduct30_v01/Y2019M01D17_RH_GA_Zonal_Stats_Weighted_Indicators_EE_V01/output_V05/Tot_weighted_iav_sumee_export.csv...\n",
      "Copying gs://aqueduct30_v01/Y2019M01D17_RH_GA_Zonal_Stats_Weighted_Indicators_EE_V01/output_V05/Liv_weighted_rri_sumee_export.csv...\n",
      "Copying gs://aqueduct30_v01/Y2019M01D17_RH_GA_Zonal_Stats_Weighted_Indicators_EE_V01/output_V05/Tot_weighted_usa_sumee_export.csv...\n",
      "Copying gs://aqueduct30_v01/Y2019M01D17_RH_GA_Zonal_Stats_Weighted_Indicators_EE_V01/output_V05/Liv_weighted_cfr_sumee_export.csv...\n",
      "Copying gs://aqueduct30_v01/Y2019M01D17_RH_GA_Zonal_Stats_Weighted_Indicators_EE_V01/output_V05/Liv_weighted_sev_sumee_export.csv...\n",
      "Copying gs://aqueduct30_v01/Y2019M01D17_RH_GA_Zonal_Stats_Weighted_Indicators_EE_V01/output_V05/Liv_weights_sumee_export.csv...\n",
      "Copying gs://aqueduct30_v01/Y2019M01D17_RH_GA_Zonal_Stats_Weighted_Indicators_EE_V01/output_V05/Liv_weighted_ucw_sumee_export.csv...\n",
      "Copying gs://aqueduct30_v01/Y2019M01D17_RH_GA_Zonal_Stats_Weighted_Indicators_EE_V01/output_V05/Tot_weighted_drr_sumee_export.csv...\n",
      "Copying gs://aqueduct30_v01/Y2019M01D17_RH_GA_Zonal_Stats_Weighted_Indicators_EE_V01/output_V05/Tot_weighted_bwd_sumee_export.csv...\n",
      "Copying gs://aqueduct30_v01/Y2019M01D17_RH_GA_Zonal_Stats_Weighted_Indicators_EE_V01/output_V05/Tot_weighted_gtd_sumee_export.csv...\n",
      "Copying gs://aqueduct30_v01/Y2019M01D17_RH_GA_Zonal_Stats_Weighted_Indicators_EE_V01/output_V05/Tot_weighted_rfr_sumee_export.csv...\n",
      "Copying gs://aqueduct30_v01/Y2019M01D17_RH_GA_Zonal_Stats_Weighted_Indicators_EE_V01/output_V05/Tot_weighted_sev_sumee_export.csv...\n",
      "Copying gs://aqueduct30_v01/Y2019M01D17_RH_GA_Zonal_Stats_Weighted_Indicators_EE_V01/output_V05/Tot_weighted_udw_sumee_export.csv...\n",
      "Copying gs://aqueduct30_v01/Y2019M01D17_RH_GA_Zonal_Stats_Weighted_Indicators_EE_V01/output_V05/Tot_weighted_rri_sumee_export.csv...\n",
      "Copying gs://aqueduct30_v01/Y2019M01D17_RH_GA_Zonal_Stats_Weighted_Indicators_EE_V01/output_V05/Tot_weighted_ucw_sumee_export.csv...\n",
      "Copying gs://aqueduct30_v01/Y2019M01D17_RH_GA_Zonal_Stats_Weighted_Indicators_EE_V01/output_V05/Tot_weights_sumee_export.csv...\n"
     ]
    },
    {
     "name": "stdout",
     "output_type": "stream",
     "text": [
      "/ [70/70 files][ 11.0 MiB/ 11.0 MiB] 100% Done                                  \n",
      "Operation completed over 70 objects/11.0 MiB.                                    \n"
     ]
    }
   ],
   "source": [
    "!gsutil -m cp {GCS_INPUT_PATH}/* {ec2_input_path}"
   ]
  },
  {
   "cell_type": "code",
   "execution_count": 5,
   "metadata": {
    "collapsed": true
   },
   "outputs": [],
   "source": [
    "import os\n",
    "import numpy as np\n",
    "import pandas as pd\n",
    "from google.cloud import bigquery\n",
    "\n",
    "os.environ[\"GOOGLE_APPLICATION_CREDENTIALS\"] = \"/.google.json\"\n",
    "os.environ[\"GOOGLE_CLOUD_PROJECT\"] = \"aqueduct30\"\n",
    "client = bigquery.Client(project=BQ_PROJECT_ID)"
   ]
  },
  {
   "cell_type": "markdown",
   "metadata": {},
   "source": [
    "## Labels"
   ]
  },
  {
   "cell_type": "code",
   "execution_count": 6,
   "metadata": {
    "collapsed": true
   },
   "outputs": [],
   "source": [
    "sql = \"\"\"\n",
    "SELECT\n",
    "  indicator,\n",
    "  AVG(cat) AS cat,\n",
    "  label\n",
    "FROM\n",
    "  `{}.{}.{}`\n",
    "GROUP BY\n",
    "  label, indicator\n",
    "ORDER BY\n",
    "  indicator, cat\n",
    "\"\"\".format(BQ_PROJECT_ID,BQ_DATASET_NAME,BQ_INPUT_TABLE_NAME_LABEL)"
   ]
  },
  {
   "cell_type": "code",
   "execution_count": 7,
   "metadata": {
    "collapsed": true
   },
   "outputs": [],
   "source": [
    "df_labels = pd.read_gbq(query=sql,\n",
    "                        project_id =BQ_PROJECT_ID,\n",
    "                        dialect=\"standard\")"
   ]
  },
  {
   "cell_type": "code",
   "execution_count": 8,
   "metadata": {},
   "outputs": [
    {
     "data": {
      "text/html": [
       "<div>\n",
       "<style scoped>\n",
       "    .dataframe tbody tr th:only-of-type {\n",
       "        vertical-align: middle;\n",
       "    }\n",
       "\n",
       "    .dataframe tbody tr th {\n",
       "        vertical-align: top;\n",
       "    }\n",
       "\n",
       "    .dataframe thead th {\n",
       "        text-align: right;\n",
       "    }\n",
       "</style>\n",
       "<table border=\"1\" class=\"dataframe\">\n",
       "  <thead>\n",
       "    <tr style=\"text-align: right;\">\n",
       "      <th></th>\n",
       "      <th>indicator</th>\n",
       "      <th>cat</th>\n",
       "      <th>label</th>\n",
       "    </tr>\n",
       "  </thead>\n",
       "  <tbody>\n",
       "    <tr>\n",
       "      <th>0</th>\n",
       "      <td>None</td>\n",
       "      <td>NaN</td>\n",
       "      <td>None</td>\n",
       "    </tr>\n",
       "    <tr>\n",
       "      <th>1</th>\n",
       "      <td>bwd</td>\n",
       "      <td>NaN</td>\n",
       "      <td>None</td>\n",
       "    </tr>\n",
       "    <tr>\n",
       "      <th>2</th>\n",
       "      <td>bwd</td>\n",
       "      <td>-1.0</td>\n",
       "      <td>Arid and Low Water Use</td>\n",
       "    </tr>\n",
       "    <tr>\n",
       "      <th>3</th>\n",
       "      <td>bwd</td>\n",
       "      <td>0.0</td>\n",
       "      <td>Low</td>\n",
       "    </tr>\n",
       "    <tr>\n",
       "      <th>4</th>\n",
       "      <td>bwd</td>\n",
       "      <td>1.0</td>\n",
       "      <td>Low - Medium</td>\n",
       "    </tr>\n",
       "  </tbody>\n",
       "</table>\n",
       "</div>"
      ],
      "text/plain": [
       "  indicator  cat                   label\n",
       "0      None  NaN                    None\n",
       "1       bwd  NaN                    None\n",
       "2       bwd -1.0  Arid and Low Water Use\n",
       "3       bwd  0.0                     Low\n",
       "4       bwd  1.0            Low - Medium"
      ]
     },
     "execution_count": 8,
     "metadata": {},
     "output_type": "execute_result"
    }
   ],
   "source": [
    "df_labels.head()"
   ]
  },
  {
   "cell_type": "markdown",
   "metadata": {},
   "source": [
    "## GADM Level 1 names"
   ]
  },
  {
   "cell_type": "code",
   "execution_count": 9,
   "metadata": {},
   "outputs": [],
   "source": [
    "sql = \"\"\"\n",
    "SELECT\n",
    "  gid_1,\n",
    "  gid_0,\n",
    "  name_1,\n",
    "  name_0\n",
    "FROM\n",
    "  `{}.{}.{}`\n",
    "ORDER BY\n",
    "  gid_1\n",
    "\"\"\".format(BQ_PROJECT_ID,BQ_DATASET_NAME,BQ_INPUT_TABLE_NAME_GADM)"
   ]
  },
  {
   "cell_type": "code",
   "execution_count": 10,
   "metadata": {
    "collapsed": true
   },
   "outputs": [],
   "source": [
    "df_gadm_1 = pd.read_gbq(query=sql,\n",
    "                        project_id =BQ_PROJECT_ID,\n",
    "                        dialect=\"standard\")"
   ]
  },
  {
   "cell_type": "markdown",
   "metadata": {},
   "source": [
    "## GADM Level 0 names"
   ]
  },
  {
   "cell_type": "code",
   "execution_count": 11,
   "metadata": {
    "collapsed": true
   },
   "outputs": [],
   "source": [
    "sql = \"\"\"\n",
    "SELECT\n",
    "  name_0,\n",
    "  ANY_VALUE(gid_0) as gid_0\n",
    "FROM\n",
    "  `{}.{}.{}`\n",
    "GROUP BY\n",
    "  name_0\n",
    "ORDER BY\n",
    "  name_0\n",
    "\"\"\".format(BQ_PROJECT_ID,BQ_DATASET_NAME,BQ_INPUT_TABLE_NAME_GADM)"
   ]
  },
  {
   "cell_type": "code",
   "execution_count": 12,
   "metadata": {
    "collapsed": true
   },
   "outputs": [],
   "source": [
    "df_gadm_0 = pd.read_gbq(query=sql,\n",
    "                       project_id =BQ_PROJECT_ID,\n",
    "                       dialect=\"standard\")"
   ]
  },
  {
   "cell_type": "markdown",
   "metadata": {},
   "source": [
    "## BWS, BWD, IAV, SEV"
   ]
  },
  {
   "cell_type": "code",
   "execution_count": 13,
   "metadata": {
    "collapsed": true
   },
   "outputs": [],
   "source": [
    "def score_to_category(score):\n",
    "    if np.isnan(score):\n",
    "        cat = np.nan\n",
    "    else:\n",
    "        if score < 5:\n",
    "            cat = int(np.floor(score))\n",
    "        else:\n",
    "            cat = 4\n",
    "    return cat"
   ]
  },
  {
   "cell_type": "code",
   "execution_count": 14,
   "metadata": {
    "collapsed": true
   },
   "outputs": [],
   "source": [
    "def get_weights_df(sector):\n",
    "    \"\"\" Get Dataframe Per sector\n",
    "    \n",
    "    \"\"\"\n",
    "    input_file_name = \"{}_weights_sumee_export.csv\".format(sector)\n",
    "    input_file_path = \"{}/{}\".format(ec2_input_path,input_file_name)\n",
    "    df_weights = pd.read_csv(input_file_path)\n",
    "    df_weights.drop(columns=[\"system:index\",\".geo\"],\n",
    "                    inplace=True)\n",
    "    df_weights.rename(columns={\"sum\":\"sum_weights\"},\n",
    "                      inplace=True)\n",
    "    return df_weights\n",
    "\n",
    "def get_weighted_indicator_df(indicator):\n",
    "    \"\"\" Get DataFrame per indicator\n",
    "\n",
    "    \"\"\"\n",
    "    input_file_name = \"{}_weighted_{}_sumee_export.csv\".format(sector,indicator)\n",
    "    input_file_path = \"{}/{}\".format(ec2_input_path,input_file_name)\n",
    "    df = pd.read_csv(input_file_path)\n",
    "    df.drop(columns=[\"system:index\",\".geo\"],\n",
    "            inplace=True)\n",
    "    df.rename(columns={\"sum\":\"sum_weighted_indicator\"},inplace=True)\n",
    "    df[\"indicator_name\"] = indicator\n",
    "    df[\"sector\"] = sector\n",
    "    return df\n",
    "    \n",
    "\n",
    "def province_to_country(df,sector,indicator):\n",
    "    \"\"\" Convert province level dataframe to country level\n",
    "    DataFrame\n",
    "    \n",
    "    \n",
    "    \"\"\"   \n",
    "    df[\"gid_0\"] = df[\"gid_1\"].apply(lambda x:  x.split(\".\")[0])\n",
    "    \n",
    "    grouped = df.groupby('gid_0')\n",
    "    df_country = df.groupby(by=\"gid_0\",as_index=False).sum()\n",
    "    df_country[\"indicator_name\"] = indicator\n",
    "    df_country[\"sector\"] = sector\n",
    "    return df_country\n",
    "\n",
    "def process_df(df):\n",
    "    \"\"\" Calculate Score, add cat and label. \n",
    "    \n",
    "    Due to the zonal statistics in Google Earth Engine, \n",
    "    some semi masked cells produce score higher than 5. \n",
    "    Clipping all scores above 5 to 5. \n",
    "    \n",
    "    Sorts columns alphabetically.\n",
    "    \n",
    "    Ranks based on score. Uses minimum rank:\n",
    "    http://www.datasciencemadesimple.com/rank-dataframe-python-pandas-min-max-dense-rank-group/\n",
    "    \n",
    "    \n",
    "    \"\"\"\n",
    "    df[\"score\"]  = df[\"sum_weighted_indicator\"] / df[\"sum_weights\"]\n",
    "    df[\"score\"].clip(lower=None,upper=5,inplace=True)\n",
    "    df[\"cat\"] = df[\"score\"].apply(score_to_category)\n",
    "    df = df.reindex(sorted(df.columns), axis=1)\n",
    "    df = pd.merge(left=df,\n",
    "                   right=df_labels,\n",
    "                   how=\"left\",\n",
    "                   left_on=[\"indicator_name\",\"cat\"],\n",
    "                   right_on=[\"indicator\",\"cat\"])\n",
    "    df.drop(columns=[\"indicator\"],\n",
    "            inplace=True)\n",
    "    df[\"score_ranked\"] = df[\"score\"].rank(ascending=False,method=\"min\")\n",
    "    return df\n",
    "\n",
    "def  export_df(df,geographic_scale):\n",
    "    \"\"\" Export Dataframe as csv on e2\n",
    "    and table on BigQuery\n",
    "    \n",
    "    Args:\n",
    "        df(pd.DataFrame)  :  DataFrame to export.\n",
    "        geographic_scale : \"country\" or \"province\"\n",
    "    \n",
    "    \n",
    "    \"\"\"\n",
    "    \n",
    "    if geographic_scale == \"country\":\n",
    "        df_merged = pd.merge(left=df,\n",
    "                             right=df_gadm_0,\n",
    "                             how=\"left\",\n",
    "                             left_on=\"gid_0\",\n",
    "                             right_on=\"gid_0\")\n",
    "        df_merged = df_merged.reindex(sorted(df_merged.columns), axis=1)\n",
    "        df_merged_csv = df_merged.set_index(\"gid_0\")\n",
    "    elif geographic_scale == \"province\":\n",
    "        df.drop(columns=[\"gid_0\"],inplace=True)\n",
    "        df_merged = pd.merge(left=df,\n",
    "                             right=df_gadm_1,\n",
    "                             how=\"left\",\n",
    "                             left_on=\"gid_1\",\n",
    "                             right_on=\"gid_1\")\n",
    "        df_merged = df_merged.reindex(sorted(df_merged.columns), axis=1)\n",
    "        df_merged_csv = df_merged.set_index(\"gid_1\")\n",
    "    \n",
    "    \n",
    "    output_file_path_ec2 = \"{}/aqueduct30_{}_V{:02.0f}.csv\".format(ec2_output_path,geographic_scale,OUTPUT_VERSION)\n",
    "    df_merged_csv.to_csv(path_or_buf=output_file_path_ec2,index=True)\n",
    "    \n",
    "    destination_table = \"{}.aqueduct30_{}_V{:02.0f}\".format(BQ_DATASET_NAME,geographic_scale,OUTPUT_VERSION)\n",
    "\n",
    "    df_merged.to_gbq(destination_table=destination_table,\n",
    "                     project_id=BQ_PROJECT_ID,\n",
    "                     if_exists=\"replace\")\n",
    "\n",
    "    return df_merged\n",
    "\n",
    "    "
   ]
  },
  {
   "cell_type": "code",
   "execution_count": 15,
   "metadata": {
    "collapsed": true
   },
   "outputs": [],
   "source": [
    "sectors = [\"Tot\",\"Dom\",\"Ind\",\"Irr\",\"Liv\"]\n",
    "#indicators = [\"bws\",\"bwd\",\"iav\",\"sev\",\"gtd\",\"drr\",\"rfr\",\"cfr\",\"ucw\",\"cep\",\"udw\",\"usa\",\"rri\"]\n",
    "indicators = [\"bws\",\"bwd\",\"iav\",\"sev\"]"
   ]
  },
  {
   "cell_type": "code",
   "execution_count": 16,
   "metadata": {},
   "outputs": [
    {
     "name": "stdout",
     "output_type": "stream",
     "text": [
      "sector: Tot indicator:  bws\n",
      "sector: Tot indicator:  bwd\n",
      "sector: Tot indicator:  iav\n",
      "sector: Tot indicator:  sev\n",
      "sector: Dom indicator:  bws\n",
      "sector: Dom indicator:  bwd\n",
      "sector: Dom indicator:  iav\n",
      "sector: Dom indicator:  sev\n",
      "sector: Ind indicator:  bws\n",
      "sector: Ind indicator:  bwd\n",
      "sector: Ind indicator:  iav\n",
      "sector: Ind indicator:  sev\n",
      "sector: Irr indicator:  bws\n",
      "sector: Irr indicator:  bwd\n",
      "sector: Irr indicator:  iav\n",
      "sector: Irr indicator:  sev\n",
      "sector: Liv indicator:  bws\n",
      "sector: Liv indicator:  bwd\n",
      "sector: Liv indicator:  iav\n",
      "sector: Liv indicator:  sev\n"
     ]
    }
   ],
   "source": [
    "df_appended_gid_1 = pd.DataFrame()\n",
    "df_appended_gid_0 = pd.DataFrame()\n",
    "\n",
    "for sector in sectors:\n",
    "    for indicator in indicators:\n",
    "        print(\"sector:\" , sector , \"indicator: \", indicator)\n",
    "        df_weights_gid_1 = get_weights_df(sector)\n",
    "        df_indicator_gid_1 = get_weighted_indicator_df(indicator)\n",
    "        df_gid_1 = pd.merge(left=df_weights_gid_1,\n",
    "                                   right=df_indicator_gid_1,\n",
    "                                   how=\"inner\",\n",
    "                                   left_on=\"gid_1\",\n",
    "                                   right_on=\"gid_1\")\n",
    "        df_gid_0 = province_to_country(df_gid_1,sector,indicator)\n",
    "        df_gid_0 = process_df(df_gid_0)\n",
    "        df_gid_1 = process_df(df_gid_1)\n",
    "        \n",
    "        df_appended_gid_0 = df_appended_gid_0.append(df_gid_0)\n",
    "        df_appended_gid_1 = df_appended_gid_1.append(df_gid_1)"
   ]
  },
  {
   "cell_type": "code",
   "execution_count": 17,
   "metadata": {},
   "outputs": [
    {
     "name": "stderr",
     "output_type": "stream",
     "text": [
      "1it [00:03,  3.22s/it]\n",
      "8it [00:46,  5.75s/it]\n"
     ]
    }
   ],
   "source": [
    "df_gid_0 = export_df(df_appended_gid_0,\"country\")\n",
    "df_gid_1 = export_df(df_appended_gid_1,\"province\")"
   ]
  },
  {
   "cell_type": "code",
   "execution_count": 18,
   "metadata": {},
   "outputs": [
    {
     "data": {
      "text/plain": [
       "(4560, 10)"
      ]
     },
     "execution_count": 18,
     "metadata": {},
     "output_type": "execute_result"
    }
   ],
   "source": [
    "df_gid_0.shape"
   ]
  },
  {
   "cell_type": "code",
   "execution_count": 19,
   "metadata": {},
   "outputs": [
    {
     "data": {
      "text/html": [
       "<div>\n",
       "<style scoped>\n",
       "    .dataframe tbody tr th:only-of-type {\n",
       "        vertical-align: middle;\n",
       "    }\n",
       "\n",
       "    .dataframe tbody tr th {\n",
       "        vertical-align: top;\n",
       "    }\n",
       "\n",
       "    .dataframe thead th {\n",
       "        text-align: right;\n",
       "    }\n",
       "</style>\n",
       "<table border=\"1\" class=\"dataframe\">\n",
       "  <thead>\n",
       "    <tr style=\"text-align: right;\">\n",
       "      <th></th>\n",
       "      <th>cat</th>\n",
       "      <th>gid_0</th>\n",
       "      <th>indicator_name</th>\n",
       "      <th>label</th>\n",
       "      <th>name_0</th>\n",
       "      <th>score</th>\n",
       "      <th>score_ranked</th>\n",
       "      <th>sector</th>\n",
       "      <th>sum_weighted_indicator</th>\n",
       "      <th>sum_weights</th>\n",
       "    </tr>\n",
       "  </thead>\n",
       "  <tbody>\n",
       "    <tr>\n",
       "      <th>0</th>\n",
       "      <td>3.0</td>\n",
       "      <td>AFG</td>\n",
       "      <td>bws</td>\n",
       "      <td>High</td>\n",
       "      <td>Afghanistan</td>\n",
       "      <td>3.798975</td>\n",
       "      <td>31.0</td>\n",
       "      <td>Tot</td>\n",
       "      <td>111663.715091</td>\n",
       "      <td>29393.117023</td>\n",
       "    </tr>\n",
       "    <tr>\n",
       "      <th>1</th>\n",
       "      <td>1.0</td>\n",
       "      <td>AGO</td>\n",
       "      <td>bws</td>\n",
       "      <td>Low - Medium</td>\n",
       "      <td>Angola</td>\n",
       "      <td>1.661512</td>\n",
       "      <td>85.0</td>\n",
       "      <td>Tot</td>\n",
       "      <td>2132.968020</td>\n",
       "      <td>1283.751460</td>\n",
       "    </tr>\n",
       "    <tr>\n",
       "      <th>2</th>\n",
       "      <td>0.0</td>\n",
       "      <td>ALA</td>\n",
       "      <td>bws</td>\n",
       "      <td>Low</td>\n",
       "      <td>Åland</td>\n",
       "      <td>0.460932</td>\n",
       "      <td>145.0</td>\n",
       "      <td>Tot</td>\n",
       "      <td>10.529361</td>\n",
       "      <td>22.843640</td>\n",
       "    </tr>\n",
       "    <tr>\n",
       "      <th>3</th>\n",
       "      <td>3.0</td>\n",
       "      <td>ALB</td>\n",
       "      <td>bws</td>\n",
       "      <td>High</td>\n",
       "      <td>Albania</td>\n",
       "      <td>3.527016</td>\n",
       "      <td>37.0</td>\n",
       "      <td>Tot</td>\n",
       "      <td>12000.282260</td>\n",
       "      <td>3402.389722</td>\n",
       "    </tr>\n",
       "    <tr>\n",
       "      <th>4</th>\n",
       "      <td>3.0</td>\n",
       "      <td>AND</td>\n",
       "      <td>bws</td>\n",
       "      <td>High</td>\n",
       "      <td>Andorra</td>\n",
       "      <td>3.917308</td>\n",
       "      <td>25.0</td>\n",
       "      <td>Tot</td>\n",
       "      <td>402.256135</td>\n",
       "      <td>102.686891</td>\n",
       "    </tr>\n",
       "  </tbody>\n",
       "</table>\n",
       "</div>"
      ],
      "text/plain": [
       "   cat gid_0 indicator_name         label       name_0     score  \\\n",
       "0  3.0   AFG            bws          High  Afghanistan  3.798975   \n",
       "1  1.0   AGO            bws  Low - Medium       Angola  1.661512   \n",
       "2  0.0   ALA            bws           Low        Åland  0.460932   \n",
       "3  3.0   ALB            bws          High      Albania  3.527016   \n",
       "4  3.0   AND            bws          High      Andorra  3.917308   \n",
       "\n",
       "   score_ranked sector  sum_weighted_indicator   sum_weights  \n",
       "0          31.0    Tot           111663.715091  29393.117023  \n",
       "1          85.0    Tot             2132.968020   1283.751460  \n",
       "2         145.0    Tot               10.529361     22.843640  \n",
       "3          37.0    Tot            12000.282260   3402.389722  \n",
       "4          25.0    Tot              402.256135    102.686891  "
      ]
     },
     "execution_count": 19,
     "metadata": {},
     "output_type": "execute_result"
    }
   ],
   "source": [
    "df_gid_0.head()"
   ]
  },
  {
   "cell_type": "code",
   "execution_count": 20,
   "metadata": {},
   "outputs": [
    {
     "data": {
      "text/plain": [
       "(72320, 12)"
      ]
     },
     "execution_count": 20,
     "metadata": {},
     "output_type": "execute_result"
    }
   ],
   "source": [
    "df_gid_1.shape"
   ]
  },
  {
   "cell_type": "code",
   "execution_count": 21,
   "metadata": {},
   "outputs": [
    {
     "data": {
      "text/html": [
       "<div>\n",
       "<style scoped>\n",
       "    .dataframe tbody tr th:only-of-type {\n",
       "        vertical-align: middle;\n",
       "    }\n",
       "\n",
       "    .dataframe tbody tr th {\n",
       "        vertical-align: top;\n",
       "    }\n",
       "\n",
       "    .dataframe thead th {\n",
       "        text-align: right;\n",
       "    }\n",
       "</style>\n",
       "<table border=\"1\" class=\"dataframe\">\n",
       "  <thead>\n",
       "    <tr style=\"text-align: right;\">\n",
       "      <th></th>\n",
       "      <th>cat</th>\n",
       "      <th>gid_0</th>\n",
       "      <th>gid_1</th>\n",
       "      <th>indicator_name</th>\n",
       "      <th>label</th>\n",
       "      <th>name_0</th>\n",
       "      <th>name_1</th>\n",
       "      <th>score</th>\n",
       "      <th>score_ranked</th>\n",
       "      <th>sector</th>\n",
       "      <th>sum_weighted_indicator</th>\n",
       "      <th>sum_weights</th>\n",
       "    </tr>\n",
       "  </thead>\n",
       "  <tbody>\n",
       "    <tr>\n",
       "      <th>0</th>\n",
       "      <td>1.0</td>\n",
       "      <td>BRA</td>\n",
       "      <td>BRA.19_1</td>\n",
       "      <td>bws</td>\n",
       "      <td>Low - Medium</td>\n",
       "      <td>Brazil</td>\n",
       "      <td>Rio de Janeiro</td>\n",
       "      <td>1.613728</td>\n",
       "      <td>1423.0</td>\n",
       "      <td>Tot</td>\n",
       "      <td>4058.518346</td>\n",
       "      <td>2514.995991</td>\n",
       "    </tr>\n",
       "    <tr>\n",
       "      <th>1</th>\n",
       "      <td>0.0</td>\n",
       "      <td>BRA</td>\n",
       "      <td>BRA.13_1</td>\n",
       "      <td>bws</td>\n",
       "      <td>Low</td>\n",
       "      <td>Brazil</td>\n",
       "      <td>Minas Gerais</td>\n",
       "      <td>0.506145</td>\n",
       "      <td>2041.0</td>\n",
       "      <td>Tot</td>\n",
       "      <td>2765.254934</td>\n",
       "      <td>5463.364571</td>\n",
       "    </tr>\n",
       "    <tr>\n",
       "      <th>2</th>\n",
       "      <td>1.0</td>\n",
       "      <td>BRA</td>\n",
       "      <td>BRA.25_1</td>\n",
       "      <td>bws</td>\n",
       "      <td>Low - Medium</td>\n",
       "      <td>Brazil</td>\n",
       "      <td>São Paulo</td>\n",
       "      <td>1.087366</td>\n",
       "      <td>1675.0</td>\n",
       "      <td>Tot</td>\n",
       "      <td>9952.655191</td>\n",
       "      <td>9152.996072</td>\n",
       "    </tr>\n",
       "    <tr>\n",
       "      <th>3</th>\n",
       "      <td>1.0</td>\n",
       "      <td>BRA</td>\n",
       "      <td>BRA.8_1</td>\n",
       "      <td>bws</td>\n",
       "      <td>Low - Medium</td>\n",
       "      <td>Brazil</td>\n",
       "      <td>Espírito Santo</td>\n",
       "      <td>1.117165</td>\n",
       "      <td>1658.0</td>\n",
       "      <td>Tot</td>\n",
       "      <td>1585.571265</td>\n",
       "      <td>1419.280556</td>\n",
       "    </tr>\n",
       "    <tr>\n",
       "      <th>4</th>\n",
       "      <td>0.0</td>\n",
       "      <td>BRA</td>\n",
       "      <td>BRA.5_1</td>\n",
       "      <td>bws</td>\n",
       "      <td>Low</td>\n",
       "      <td>Brazil</td>\n",
       "      <td>Bahia</td>\n",
       "      <td>0.795505</td>\n",
       "      <td>1841.0</td>\n",
       "      <td>Tot</td>\n",
       "      <td>3338.599288</td>\n",
       "      <td>4196.830095</td>\n",
       "    </tr>\n",
       "  </tbody>\n",
       "</table>\n",
       "</div>"
      ],
      "text/plain": [
       "   cat gid_0     gid_1 indicator_name         label  name_0          name_1  \\\n",
       "0  1.0   BRA  BRA.19_1            bws  Low - Medium  Brazil  Rio de Janeiro   \n",
       "1  0.0   BRA  BRA.13_1            bws           Low  Brazil    Minas Gerais   \n",
       "2  1.0   BRA  BRA.25_1            bws  Low - Medium  Brazil       São Paulo   \n",
       "3  1.0   BRA   BRA.8_1            bws  Low - Medium  Brazil  Espírito Santo   \n",
       "4  0.0   BRA   BRA.5_1            bws           Low  Brazil           Bahia   \n",
       "\n",
       "      score  score_ranked sector  sum_weighted_indicator  sum_weights  \n",
       "0  1.613728        1423.0    Tot             4058.518346  2514.995991  \n",
       "1  0.506145        2041.0    Tot             2765.254934  5463.364571  \n",
       "2  1.087366        1675.0    Tot             9952.655191  9152.996072  \n",
       "3  1.117165        1658.0    Tot             1585.571265  1419.280556  \n",
       "4  0.795505        1841.0    Tot             3338.599288  4196.830095  "
      ]
     },
     "execution_count": 21,
     "metadata": {},
     "output_type": "execute_result"
    }
   ],
   "source": [
    "df_gid_1.head()"
   ]
  },
  {
   "cell_type": "code",
   "execution_count": 22,
   "metadata": {},
   "outputs": [
    {
     "name": "stdout",
     "output_type": "stream",
     "text": [
      "upload: ../../../../data/Y2019M01D28_RH_GA_Zonal_Stats_Table_V01/output_V06/aqueduct30_country_V06.csv to s3://wri-projects/Aqueduct30/processData/Y2019M01D28_RH_GA_Zonal_Stats_Table_V01/output_V06/aqueduct30_country_V06.csv\n",
      "upload: ../../../../data/Y2019M01D28_RH_GA_Zonal_Stats_Table_V01/output_V06/aqueduct30_province_V06.csv to s3://wri-projects/Aqueduct30/processData/Y2019M01D28_RH_GA_Zonal_Stats_Table_V01/output_V06/aqueduct30_province_V06.csv\n"
     ]
    }
   ],
   "source": [
    "!aws s3 cp {ec2_output_path} {s3_output_path} --recursive"
   ]
  },
  {
   "cell_type": "code",
   "execution_count": 23,
   "metadata": {},
   "outputs": [
    {
     "name": "stdout",
     "output_type": "stream",
     "text": [
      "0:01:17.641749\n"
     ]
    }
   ],
   "source": [
    "end = datetime.datetime.now()\n",
    "elapsed = end - start\n",
    "print(elapsed)"
   ]
  },
  {
   "cell_type": "markdown",
   "metadata": {},
   "source": [
    "Previous runs:   \n",
    "0:00:37.409272\n"
   ]
  }
 ],
 "metadata": {
  "kernelspec": {
   "display_name": "Python 35",
   "language": "python",
   "name": "python35"
  },
  "language_info": {
   "codemirror_mode": {
    "name": "ipython",
    "version": 3
   },
   "file_extension": ".py",
   "mimetype": "text/x-python",
   "name": "python",
   "nbconvert_exporter": "python",
   "pygments_lexer": "ipython3",
   "version": "3.5.4"
  }
 },
 "nbformat": 4,
 "nbformat_minor": 2
}
