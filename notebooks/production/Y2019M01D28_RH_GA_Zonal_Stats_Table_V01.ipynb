{
 "cells": [
  {
   "cell_type": "code",
   "execution_count": 1,
   "metadata": {},
   "outputs": [
    {
     "name": "stdout",
     "output_type": "stream",
     "text": [
      "GCS_INPUT_PATH: gs://aqueduct30_v01/Y2019M01D17_RH_GA_Zonal_Stats_Weighted_Indicators_EE_V01/output_V05\n",
      "ec2_input_path: /volumes/data/Y2019M01D28_RH_GA_Zonal_Stats_Table_V01/input_V03\n",
      "ec2_output_path: /volumes/data/Y2019M01D28_RH_GA_Zonal_Stats_Table_V01/output_V03\n",
      "s3_output_path: s3://wri-projects/Aqueduct30/processData/Y2019M01D28_RH_GA_Zonal_Stats_Table_V01/output_V03/\n"
     ]
    }
   ],
   "source": [
    "\"\"\"Post process aggregations from EE and combine with other datasets.\n",
    "-------------------------------------------------------------------------------\n",
    "\n",
    "combines the different datasets into one result table. \n",
    "\n",
    "indicator weights \n",
    "bws withdrawal per sector\n",
    "bwd withdrawal per sector\n",
    "iav withdrawal per sector\n",
    "sev withdrawal per sector\n",
    "\n",
    "\n",
    "Author: Rutger Hofste\n",
    "Date: 20190128\n",
    "Kernel: python35\n",
    "Docker: rutgerhofste/gisdocker:ubuntu16.04\n",
    "\n",
    "\"\"\"\n",
    "\n",
    "TESTING = 0\n",
    "SCRIPT_NAME = \"Y2019M01D28_RH_GA_Zonal_Stats_Table_V01\"\n",
    "OUTPUT_VERSION = 3\n",
    "\n",
    "GCS_INPUT_PATH = \"gs://aqueduct30_v01/Y2019M01D17_RH_GA_Zonal_Stats_Weighted_Indicators_EE_V01/output_V05\"\n",
    "\n",
    "BQ_PROJECT_ID = \"aqueduct30\"\n",
    "BQ_DATASET_NAME = \"aqueduct30v01\"\n",
    "BQ_INPUT_TABLE_NAME = \"y2018m12d04_rh_master_merge_rawdata_gpd_v02_v05\"\n",
    "BQ_OUTPUT_TABLE_NAME = \"{}_v{:02.0f}\".format(SCRIPT_NAME,OUTPUT_VERSION).lower()\n",
    "\n",
    "\n",
    "ec2_input_path = \"/volumes/data/{}/input_V{:02.0f}\".format(SCRIPT_NAME,OUTPUT_VERSION) \n",
    "ec2_output_path = \"/volumes/data/{}/output_V{:02.0f}\".format(SCRIPT_NAME,OUTPUT_VERSION) \n",
    "\n",
    "s3_output_path = \"s3://wri-projects/Aqueduct30/processData/{}/output_V{:02.0f}/\".format(SCRIPT_NAME,OUTPUT_VERSION)\n",
    "\n",
    "print(\"GCS_INPUT_PATH: \" + GCS_INPUT_PATH +\n",
    "      \"\\nec2_input_path: \" +  ec2_input_path + \n",
    "      \"\\nec2_output_path: \" + ec2_output_path + \n",
    "      \"\\ns3_output_path: \" + s3_output_path  )\n",
    "\n"
   ]
  },
  {
   "cell_type": "code",
   "execution_count": 2,
   "metadata": {},
   "outputs": [
    {
     "name": "stdout",
     "output_type": "stream",
     "text": [
      "Y2019M01D29 UTC 15:17\n"
     ]
    },
    {
     "data": {
      "text/plain": [
       "'3.5.4 |Anaconda, Inc.| (default, Nov 20 2017, 18:44:38) \\n[GCC 7.2.0]'"
      ]
     },
     "execution_count": 2,
     "metadata": {},
     "output_type": "execute_result"
    }
   ],
   "source": [
    "import time, datetime, sys\n",
    "dateString = time.strftime(\"Y%YM%mD%d\")\n",
    "timeString = time.strftime(\"UTC %H:%M\")\n",
    "start = datetime.datetime.now()\n",
    "print(dateString,timeString)\n",
    "sys.version"
   ]
  },
  {
   "cell_type": "code",
   "execution_count": 3,
   "metadata": {
    "collapsed": true
   },
   "outputs": [],
   "source": [
    "!mkdir -p {ec2_input_path}\n",
    "!mkdir -p {ec2_output_path}"
   ]
  },
  {
   "cell_type": "code",
   "execution_count": 4,
   "metadata": {},
   "outputs": [
    {
     "name": "stdout",
     "output_type": "stream",
     "text": [
      "Copying gs://aqueduct30_v01/Y2019M01D17_RH_GA_Zonal_Stats_Weighted_Indicators_EE_V01/output_V05/Dom_weighted_bwd_sumee_export.csv...\n",
      "Copying gs://aqueduct30_v01/Y2019M01D17_RH_GA_Zonal_Stats_Weighted_Indicators_EE_V01/output_V05/Dom_weighted_bws_sumee_export.csv...\n",
      "Copying gs://aqueduct30_v01/Y2019M01D17_RH_GA_Zonal_Stats_Weighted_Indicators_EE_V01/output_V05/Dom_weighted_cep_sumee_export.csv...\n",
      "Copying gs://aqueduct30_v01/Y2019M01D17_RH_GA_Zonal_Stats_Weighted_Indicators_EE_V01/output_V05/Dom_weighted_cfr_sumee_export.csv...\n",
      "Copying gs://aqueduct30_v01/Y2019M01D17_RH_GA_Zonal_Stats_Weighted_Indicators_EE_V01/output_V05/Dom_weighted_drr_sumee_export.csv...\n",
      "Copying gs://aqueduct30_v01/Y2019M01D17_RH_GA_Zonal_Stats_Weighted_Indicators_EE_V01/output_V05/Dom_weighted_gtd_sumee_export.csv...\n",
      "Copying gs://aqueduct30_v01/Y2019M01D17_RH_GA_Zonal_Stats_Weighted_Indicators_EE_V01/output_V05/Dom_weighted_iav_sumee_export.csv...\n",
      "Copying gs://aqueduct30_v01/Y2019M01D17_RH_GA_Zonal_Stats_Weighted_Indicators_EE_V01/output_V05/Dom_weighted_rfr_sumee_export.csv...\n",
      "Copying gs://aqueduct30_v01/Y2019M01D17_RH_GA_Zonal_Stats_Weighted_Indicators_EE_V01/output_V05/Dom_weighted_sev_sumee_export.csv...\n",
      "Copying gs://aqueduct30_v01/Y2019M01D17_RH_GA_Zonal_Stats_Weighted_Indicators_EE_V01/output_V05/Dom_weighted_rri_sumee_export.csv...\n",
      "Copying gs://aqueduct30_v01/Y2019M01D17_RH_GA_Zonal_Stats_Weighted_Indicators_EE_V01/output_V05/Dom_weighted_ucw_sumee_export.csv...\n",
      "Copying gs://aqueduct30_v01/Y2019M01D17_RH_GA_Zonal_Stats_Weighted_Indicators_EE_V01/output_V05/Dom_weighted_udw_sumee_export.csv...\n",
      "Copying gs://aqueduct30_v01/Y2019M01D17_RH_GA_Zonal_Stats_Weighted_Indicators_EE_V01/output_V05/Ind_weighted_bwd_sumee_export.csv...\n",
      "Copying gs://aqueduct30_v01/Y2019M01D17_RH_GA_Zonal_Stats_Weighted_Indicators_EE_V01/output_V05/Dom_weighted_usa_sumee_export.csv...\n",
      "Copying gs://aqueduct30_v01/Y2019M01D17_RH_GA_Zonal_Stats_Weighted_Indicators_EE_V01/output_V05/Dom_weights_sumee_export.csv...\n",
      "Copying gs://aqueduct30_v01/Y2019M01D17_RH_GA_Zonal_Stats_Weighted_Indicators_EE_V01/output_V05/Ind_weighted_cep_sumee_export.csv...\n",
      "Copying gs://aqueduct30_v01/Y2019M01D17_RH_GA_Zonal_Stats_Weighted_Indicators_EE_V01/output_V05/Ind_weighted_cfr_sumee_export.csv...\n",
      "Copying gs://aqueduct30_v01/Y2019M01D17_RH_GA_Zonal_Stats_Weighted_Indicators_EE_V01/output_V05/Ind_weighted_bws_sumee_export.csv...\n",
      "Copying gs://aqueduct30_v01/Y2019M01D17_RH_GA_Zonal_Stats_Weighted_Indicators_EE_V01/output_V05/Ind_weighted_iav_sumee_export.csv...\n",
      "Copying gs://aqueduct30_v01/Y2019M01D17_RH_GA_Zonal_Stats_Weighted_Indicators_EE_V01/output_V05/Ind_weighted_gtd_sumee_export.csv...\n",
      "Copying gs://aqueduct30_v01/Y2019M01D17_RH_GA_Zonal_Stats_Weighted_Indicators_EE_V01/output_V05/Ind_weighted_drr_sumee_export.csv...\n",
      "Copying gs://aqueduct30_v01/Y2019M01D17_RH_GA_Zonal_Stats_Weighted_Indicators_EE_V01/output_V05/Ind_weighted_rfr_sumee_export.csv...\n",
      "Copying gs://aqueduct30_v01/Y2019M01D17_RH_GA_Zonal_Stats_Weighted_Indicators_EE_V01/output_V05/Ind_weighted_rri_sumee_export.csv...\n",
      "Copying gs://aqueduct30_v01/Y2019M01D17_RH_GA_Zonal_Stats_Weighted_Indicators_EE_V01/output_V05/Ind_weighted_sev_sumee_export.csv...\n",
      "Copying gs://aqueduct30_v01/Y2019M01D17_RH_GA_Zonal_Stats_Weighted_Indicators_EE_V01/output_V05/Ind_weighted_ucw_sumee_export.csv...\n",
      "Copying gs://aqueduct30_v01/Y2019M01D17_RH_GA_Zonal_Stats_Weighted_Indicators_EE_V01/output_V05/Ind_weighted_udw_sumee_export.csv...\n",
      "Copying gs://aqueduct30_v01/Y2019M01D17_RH_GA_Zonal_Stats_Weighted_Indicators_EE_V01/output_V05/Ind_weighted_usa_sumee_export.csv...\n",
      "Copying gs://aqueduct30_v01/Y2019M01D17_RH_GA_Zonal_Stats_Weighted_Indicators_EE_V01/output_V05/Ind_weights_sumee_export.csv...\n",
      "Copying gs://aqueduct30_v01/Y2019M01D17_RH_GA_Zonal_Stats_Weighted_Indicators_EE_V01/output_V05/Irr_weighted_bwd_sumee_export.csv...\n",
      "Copying gs://aqueduct30_v01/Y2019M01D17_RH_GA_Zonal_Stats_Weighted_Indicators_EE_V01/output_V05/Irr_weighted_bws_sumee_export.csv...\n",
      "Copying gs://aqueduct30_v01/Y2019M01D17_RH_GA_Zonal_Stats_Weighted_Indicators_EE_V01/output_V05/Irr_weighted_cep_sumee_export.csv...\n",
      "Copying gs://aqueduct30_v01/Y2019M01D17_RH_GA_Zonal_Stats_Weighted_Indicators_EE_V01/output_V05/Irr_weighted_rfr_sumee_export.csv...\n",
      "Copying gs://aqueduct30_v01/Y2019M01D17_RH_GA_Zonal_Stats_Weighted_Indicators_EE_V01/output_V05/Irr_weighted_cfr_sumee_export.csv...\n",
      "Copying gs://aqueduct30_v01/Y2019M01D17_RH_GA_Zonal_Stats_Weighted_Indicators_EE_V01/output_V05/Irr_weighted_drr_sumee_export.csv...\n",
      "Copying gs://aqueduct30_v01/Y2019M01D17_RH_GA_Zonal_Stats_Weighted_Indicators_EE_V01/output_V05/Irr_weighted_gtd_sumee_export.csv...\n",
      "Copying gs://aqueduct30_v01/Y2019M01D17_RH_GA_Zonal_Stats_Weighted_Indicators_EE_V01/output_V05/Irr_weighted_rri_sumee_export.csv...\n",
      "Copying gs://aqueduct30_v01/Y2019M01D17_RH_GA_Zonal_Stats_Weighted_Indicators_EE_V01/output_V05/Irr_weighted_iav_sumee_export.csv...\n",
      "Copying gs://aqueduct30_v01/Y2019M01D17_RH_GA_Zonal_Stats_Weighted_Indicators_EE_V01/output_V05/Irr_weighted_sev_sumee_export.csv...\n",
      "Copying gs://aqueduct30_v01/Y2019M01D17_RH_GA_Zonal_Stats_Weighted_Indicators_EE_V01/output_V05/Liv_weighted_cfr_sumee_export.csv...\n",
      "Copying gs://aqueduct30_v01/Y2019M01D17_RH_GA_Zonal_Stats_Weighted_Indicators_EE_V01/output_V05/Irr_weighted_usa_sumee_export.csv...\n",
      "Copying gs://aqueduct30_v01/Y2019M01D17_RH_GA_Zonal_Stats_Weighted_Indicators_EE_V01/output_V05/Irr_weighted_ucw_sumee_export.csv...\n",
      "Copying gs://aqueduct30_v01/Y2019M01D17_RH_GA_Zonal_Stats_Weighted_Indicators_EE_V01/output_V05/Liv_weighted_drr_sumee_export.csv...\n",
      "Copying gs://aqueduct30_v01/Y2019M01D17_RH_GA_Zonal_Stats_Weighted_Indicators_EE_V01/output_V05/Irr_weighted_udw_sumee_export.csv...\n",
      "Copying gs://aqueduct30_v01/Y2019M01D17_RH_GA_Zonal_Stats_Weighted_Indicators_EE_V01/output_V05/Irr_weights_sumee_export.csv...\n",
      "Copying gs://aqueduct30_v01/Y2019M01D17_RH_GA_Zonal_Stats_Weighted_Indicators_EE_V01/output_V05/Liv_weighted_gtd_sumee_export.csv...\n",
      "Copying gs://aqueduct30_v01/Y2019M01D17_RH_GA_Zonal_Stats_Weighted_Indicators_EE_V01/output_V05/Liv_weighted_iav_sumee_export.csv...\n",
      "Copying gs://aqueduct30_v01/Y2019M01D17_RH_GA_Zonal_Stats_Weighted_Indicators_EE_V01/output_V05/Liv_weighted_bwd_sumee_export.csv...\n",
      "Copying gs://aqueduct30_v01/Y2019M01D17_RH_GA_Zonal_Stats_Weighted_Indicators_EE_V01/output_V05/Liv_weighted_rri_sumee_export.csv...\n",
      "Copying gs://aqueduct30_v01/Y2019M01D17_RH_GA_Zonal_Stats_Weighted_Indicators_EE_V01/output_V05/Liv_weights_sumee_export.csv...\n",
      "Copying gs://aqueduct30_v01/Y2019M01D17_RH_GA_Zonal_Stats_Weighted_Indicators_EE_V01/output_V05/Liv_weighted_bws_sumee_export.csv...\n",
      "Copying gs://aqueduct30_v01/Y2019M01D17_RH_GA_Zonal_Stats_Weighted_Indicators_EE_V01/output_V05/Liv_weighted_sev_sumee_export.csv...\n",
      "Copying gs://aqueduct30_v01/Y2019M01D17_RH_GA_Zonal_Stats_Weighted_Indicators_EE_V01/output_V05/Liv_weighted_cep_sumee_export.csv...\n",
      "Copying gs://aqueduct30_v01/Y2019M01D17_RH_GA_Zonal_Stats_Weighted_Indicators_EE_V01/output_V05/Tot_weighted_bwd_sumee_export.csv...\n",
      "Copying gs://aqueduct30_v01/Y2019M01D17_RH_GA_Zonal_Stats_Weighted_Indicators_EE_V01/output_V05/Tot_weighted_bws_sumee_export.csv...\n",
      "Copying gs://aqueduct30_v01/Y2019M01D17_RH_GA_Zonal_Stats_Weighted_Indicators_EE_V01/output_V05/Liv_weighted_ucw_sumee_export.csv...\n",
      "Copying gs://aqueduct30_v01/Y2019M01D17_RH_GA_Zonal_Stats_Weighted_Indicators_EE_V01/output_V05/Liv_weighted_udw_sumee_export.csv...\n",
      "Copying gs://aqueduct30_v01/Y2019M01D17_RH_GA_Zonal_Stats_Weighted_Indicators_EE_V01/output_V05/Liv_weighted_rfr_sumee_export.csv...\n",
      "Copying gs://aqueduct30_v01/Y2019M01D17_RH_GA_Zonal_Stats_Weighted_Indicators_EE_V01/output_V05/Liv_weighted_usa_sumee_export.csv...\n",
      "Copying gs://aqueduct30_v01/Y2019M01D17_RH_GA_Zonal_Stats_Weighted_Indicators_EE_V01/output_V05/Tot_weighted_cfr_sumee_export.csv...\n",
      "Copying gs://aqueduct30_v01/Y2019M01D17_RH_GA_Zonal_Stats_Weighted_Indicators_EE_V01/output_V05/Tot_weighted_drr_sumee_export.csv...\n",
      "Copying gs://aqueduct30_v01/Y2019M01D17_RH_GA_Zonal_Stats_Weighted_Indicators_EE_V01/output_V05/Tot_weighted_gtd_sumee_export.csv...\n",
      "Copying gs://aqueduct30_v01/Y2019M01D17_RH_GA_Zonal_Stats_Weighted_Indicators_EE_V01/output_V05/Tot_weighted_cep_sumee_export.csv...\n",
      "Copying gs://aqueduct30_v01/Y2019M01D17_RH_GA_Zonal_Stats_Weighted_Indicators_EE_V01/output_V05/Tot_weighted_iav_sumee_export.csv...\n",
      "Copying gs://aqueduct30_v01/Y2019M01D17_RH_GA_Zonal_Stats_Weighted_Indicators_EE_V01/output_V05/Tot_weighted_sev_sumee_export.csv...\n",
      "Copying gs://aqueduct30_v01/Y2019M01D17_RH_GA_Zonal_Stats_Weighted_Indicators_EE_V01/output_V05/Tot_weighted_rfr_sumee_export.csv...\n",
      "Copying gs://aqueduct30_v01/Y2019M01D17_RH_GA_Zonal_Stats_Weighted_Indicators_EE_V01/output_V05/Tot_weighted_usa_sumee_export.csv...\n",
      "Copying gs://aqueduct30_v01/Y2019M01D17_RH_GA_Zonal_Stats_Weighted_Indicators_EE_V01/output_V05/Tot_weighted_rri_sumee_export.csv...\n",
      "Copying gs://aqueduct30_v01/Y2019M01D17_RH_GA_Zonal_Stats_Weighted_Indicators_EE_V01/output_V05/Tot_weighted_ucw_sumee_export.csv...\n",
      "Copying gs://aqueduct30_v01/Y2019M01D17_RH_GA_Zonal_Stats_Weighted_Indicators_EE_V01/output_V05/Tot_weighted_udw_sumee_export.csv...\n",
      "Copying gs://aqueduct30_v01/Y2019M01D17_RH_GA_Zonal_Stats_Weighted_Indicators_EE_V01/output_V05/Tot_weights_sumee_export.csv...\n"
     ]
    },
    {
     "name": "stdout",
     "output_type": "stream",
     "text": [
      "- [70/70 files][ 11.0 MiB/ 11.0 MiB] 100% Done                                  \n",
      "Operation completed over 70 objects/11.0 MiB.                                    \n"
     ]
    }
   ],
   "source": [
    "!gsutil -m cp {GCS_INPUT_PATH}/* {ec2_input_path}"
   ]
  },
  {
   "cell_type": "code",
   "execution_count": 5,
   "metadata": {
    "collapsed": true
   },
   "outputs": [],
   "source": [
    "import os\n",
    "import numpy as np\n",
    "import pandas as pd\n",
    "from google.cloud import bigquery\n",
    "\n",
    "os.environ[\"GOOGLE_APPLICATION_CREDENTIALS\"] = \"/.google.json\"\n",
    "os.environ[\"GOOGLE_CLOUD_PROJECT\"] = \"aqueduct30\"\n",
    "client = bigquery.Client(project=BQ_PROJECT_ID)"
   ]
  },
  {
   "cell_type": "code",
   "execution_count": 6,
   "metadata": {
    "collapsed": true
   },
   "outputs": [],
   "source": [
    "sql = \"\"\"\n",
    "SELECT\n",
    "  indicator,\n",
    "  AVG(cat) AS cat,\n",
    "  label\n",
    "FROM\n",
    "  `{}.{}.{}`\n",
    "GROUP BY\n",
    "  label, indicator\n",
    "ORDER BY\n",
    "  indicator, cat\n",
    "\"\"\".format(BQ_PROJECT_ID,BQ_DATASET_NAME,BQ_INPUT_TABLE_NAME)"
   ]
  },
  {
   "cell_type": "code",
   "execution_count": 7,
   "metadata": {
    "collapsed": true
   },
   "outputs": [],
   "source": [
    "df_labels = pd.read_gbq(query=sql,\n",
    "                        project_id =BQ_PROJECT_ID,\n",
    "                        dialect=\"standard\")"
   ]
  },
  {
   "cell_type": "code",
   "execution_count": 8,
   "metadata": {},
   "outputs": [
    {
     "data": {
      "text/html": [
       "<div>\n",
       "<style scoped>\n",
       "    .dataframe tbody tr th:only-of-type {\n",
       "        vertical-align: middle;\n",
       "    }\n",
       "\n",
       "    .dataframe tbody tr th {\n",
       "        vertical-align: top;\n",
       "    }\n",
       "\n",
       "    .dataframe thead th {\n",
       "        text-align: right;\n",
       "    }\n",
       "</style>\n",
       "<table border=\"1\" class=\"dataframe\">\n",
       "  <thead>\n",
       "    <tr style=\"text-align: right;\">\n",
       "      <th></th>\n",
       "      <th>indicator</th>\n",
       "      <th>cat</th>\n",
       "      <th>label</th>\n",
       "    </tr>\n",
       "  </thead>\n",
       "  <tbody>\n",
       "    <tr>\n",
       "      <th>0</th>\n",
       "      <td>None</td>\n",
       "      <td>NaN</td>\n",
       "      <td>None</td>\n",
       "    </tr>\n",
       "    <tr>\n",
       "      <th>1</th>\n",
       "      <td>bwd</td>\n",
       "      <td>NaN</td>\n",
       "      <td>None</td>\n",
       "    </tr>\n",
       "    <tr>\n",
       "      <th>2</th>\n",
       "      <td>bwd</td>\n",
       "      <td>-1.0</td>\n",
       "      <td>Arid and Low Water Use</td>\n",
       "    </tr>\n",
       "    <tr>\n",
       "      <th>3</th>\n",
       "      <td>bwd</td>\n",
       "      <td>0.0</td>\n",
       "      <td>Low</td>\n",
       "    </tr>\n",
       "    <tr>\n",
       "      <th>4</th>\n",
       "      <td>bwd</td>\n",
       "      <td>1.0</td>\n",
       "      <td>Low - Medium</td>\n",
       "    </tr>\n",
       "  </tbody>\n",
       "</table>\n",
       "</div>"
      ],
      "text/plain": [
       "  indicator  cat                   label\n",
       "0      None  NaN                    None\n",
       "1       bwd  NaN                    None\n",
       "2       bwd -1.0  Arid and Low Water Use\n",
       "3       bwd  0.0                     Low\n",
       "4       bwd  1.0            Low - Medium"
      ]
     },
     "execution_count": 8,
     "metadata": {},
     "output_type": "execute_result"
    }
   ],
   "source": [
    "df_labels.head()"
   ]
  },
  {
   "cell_type": "markdown",
   "metadata": {},
   "source": [
    "## BWS, BWD, IAV, SEV"
   ]
  },
  {
   "cell_type": "code",
   "execution_count": 9,
   "metadata": {
    "collapsed": true
   },
   "outputs": [],
   "source": [
    "def score_to_category(score):\n",
    "    if np.isnan(score):\n",
    "        cat = np.nan\n",
    "    else:\n",
    "        if score < 5:\n",
    "            cat = int(np.floor(score))\n",
    "        else:\n",
    "            cat = 4\n",
    "    return cat"
   ]
  },
  {
   "cell_type": "code",
   "execution_count": 10,
   "metadata": {
    "collapsed": true
   },
   "outputs": [],
   "source": [
    "sectors = [\"Tot\",\"Dom\",\"Ind\",\"Irr\",\"Liv\"]\n",
    "indicators = [\"bws\",\"bwd\",\"iav\",\"sev\",\"gtd\",\"drr\",\"rfr\",\"cfr\",\"ucw\",\"cep\",\"udw\",\"usa\",\"rri\"]\n",
    "indicators = [\"bws\",\"bwd\",\"iav\",\"sev\"]"
   ]
  },
  {
   "cell_type": "code",
   "execution_count": 11,
   "metadata": {},
   "outputs": [
    {
     "name": "stdout",
     "output_type": "stream",
     "text": [
      "sector: Tot indicator:  bws\n",
      "sector: Tot indicator:  bwd\n",
      "sector: Tot indicator:  iav\n",
      "sector: Tot indicator:  sev\n",
      "sector: Dom indicator:  bws\n",
      "sector: Dom indicator:  bwd\n",
      "sector: Dom indicator:  iav\n",
      "sector: Dom indicator:  sev\n",
      "sector: Ind indicator:  bws\n",
      "sector: Ind indicator:  bwd\n",
      "sector: Ind indicator:  iav\n",
      "sector: Ind indicator:  sev\n",
      "sector: Irr indicator:  bws\n",
      "sector: Irr indicator:  bwd\n",
      "sector: Irr indicator:  iav\n",
      "sector: Irr indicator:  sev\n",
      "sector: Liv indicator:  bws\n",
      "sector: Liv indicator:  bwd\n",
      "sector: Liv indicator:  iav\n",
      "sector: Liv indicator:  sev\n"
     ]
    }
   ],
   "source": [
    "df_vertical = pd.DataFrame()\n",
    "for sector in sectors:\n",
    "    input_file_name = \"{}_weights_sumee_export.csv\".format(sector)\n",
    "    input_file_path = \"{}/{}\".format(ec2_input_path,input_file_name)\n",
    "    df_weights = pd.read_csv(input_file_path)\n",
    "    df_weights.drop(columns=[\"system:index\",\".geo\"],\n",
    "                    inplace=True)\n",
    "    df_weights.rename(columns={\"sum\":\"sum_weights\"},\n",
    "                      inplace=True)\n",
    "    \n",
    "    \n",
    "    for indicator in indicators:\n",
    "        print(\"sector:\" , sector , \"indicator: \", indicator)\n",
    "        input_file_name = \"{}_weighted_{}_sumee_export.csv\".format(sector,indicator)\n",
    "        input_file_path = \"{}/{}\".format(ec2_input_path,input_file_name)\n",
    "        df = pd.read_csv(input_file_path)\n",
    "   \n",
    "        df.drop(columns=[\"system:index\",\".geo\"],\n",
    "                inplace=True)\n",
    "        df.rename(columns={\"sum\":\"sum_weighted_indicator\"},inplace=True)\n",
    "   \n",
    "        df[\"indicator_name\"] = indicator\n",
    "        df[\"sector\"] = sector\n",
    "\n",
    "        # Join weights and weighted_indicators\n",
    "\n",
    "        df_merged = pd.merge(left=df_weights,\n",
    "                             right=df,\n",
    "                             how=\"inner\",\n",
    "                             left_on=\"gid_1\",\n",
    "                             right_on=\"gid_1\")\n",
    "    \n",
    "        df_merged[\"score\"]  = df_merged[\"sum_weighted_indicator\"] / df_merged[\"sum_weights\"]\n",
    "\n",
    "        # The cat -> label is different for each indicator. Using a link table instead.\n",
    "        df_merged[\"cat\"] = df_merged[\"score\"].apply(score_to_category)\n",
    "        df_vertical = df_vertical.append(df_merged)\n",
    "    "
   ]
  },
  {
   "cell_type": "code",
   "execution_count": 12,
   "metadata": {
    "collapsed": true
   },
   "outputs": [],
   "source": [
    "# Some provinces have scores > 5 due to an unknown caveat. Replacing with 5's\n",
    "df_vertical[\"score\"].clip(lower=None,upper=5,inplace=True)"
   ]
  },
  {
   "cell_type": "code",
   "execution_count": 13,
   "metadata": {
    "collapsed": true
   },
   "outputs": [],
   "source": [
    "df_vertical[\"cat\"] = df_vertical[\"score\"].apply(score_to_category)"
   ]
  },
  {
   "cell_type": "code",
   "execution_count": 14,
   "metadata": {},
   "outputs": [
    {
     "data": {
      "text/html": [
       "<div>\n",
       "<style scoped>\n",
       "    .dataframe tbody tr th:only-of-type {\n",
       "        vertical-align: middle;\n",
       "    }\n",
       "\n",
       "    .dataframe tbody tr th {\n",
       "        vertical-align: top;\n",
       "    }\n",
       "\n",
       "    .dataframe thead th {\n",
       "        text-align: right;\n",
       "    }\n",
       "</style>\n",
       "<table border=\"1\" class=\"dataframe\">\n",
       "  <thead>\n",
       "    <tr style=\"text-align: right;\">\n",
       "      <th></th>\n",
       "      <th>gid_1</th>\n",
       "      <th>sum_weights</th>\n",
       "      <th>sum_weighted_indicator</th>\n",
       "      <th>indicator_name</th>\n",
       "      <th>sector</th>\n",
       "      <th>score</th>\n",
       "      <th>cat</th>\n",
       "    </tr>\n",
       "  </thead>\n",
       "  <tbody>\n",
       "    <tr>\n",
       "      <th>0</th>\n",
       "      <td>BRA.19_1</td>\n",
       "      <td>2514.995991</td>\n",
       "      <td>4058.518346</td>\n",
       "      <td>bws</td>\n",
       "      <td>Tot</td>\n",
       "      <td>1.613728</td>\n",
       "      <td>1.0</td>\n",
       "    </tr>\n",
       "    <tr>\n",
       "      <th>1</th>\n",
       "      <td>BRA.13_1</td>\n",
       "      <td>5463.364571</td>\n",
       "      <td>2765.254934</td>\n",
       "      <td>bws</td>\n",
       "      <td>Tot</td>\n",
       "      <td>0.506145</td>\n",
       "      <td>0.0</td>\n",
       "    </tr>\n",
       "    <tr>\n",
       "      <th>2</th>\n",
       "      <td>BRA.25_1</td>\n",
       "      <td>9152.996072</td>\n",
       "      <td>9952.655191</td>\n",
       "      <td>bws</td>\n",
       "      <td>Tot</td>\n",
       "      <td>1.087366</td>\n",
       "      <td>1.0</td>\n",
       "    </tr>\n",
       "    <tr>\n",
       "      <th>3</th>\n",
       "      <td>BRA.8_1</td>\n",
       "      <td>1419.280556</td>\n",
       "      <td>1585.571265</td>\n",
       "      <td>bws</td>\n",
       "      <td>Tot</td>\n",
       "      <td>1.117165</td>\n",
       "      <td>1.0</td>\n",
       "    </tr>\n",
       "    <tr>\n",
       "      <th>4</th>\n",
       "      <td>BRA.5_1</td>\n",
       "      <td>4196.830095</td>\n",
       "      <td>3338.599288</td>\n",
       "      <td>bws</td>\n",
       "      <td>Tot</td>\n",
       "      <td>0.795505</td>\n",
       "      <td>0.0</td>\n",
       "    </tr>\n",
       "  </tbody>\n",
       "</table>\n",
       "</div>"
      ],
      "text/plain": [
       "      gid_1  sum_weights  sum_weighted_indicator indicator_name sector  \\\n",
       "0  BRA.19_1  2514.995991             4058.518346            bws    Tot   \n",
       "1  BRA.13_1  5463.364571             2765.254934            bws    Tot   \n",
       "2  BRA.25_1  9152.996072             9952.655191            bws    Tot   \n",
       "3   BRA.8_1  1419.280556             1585.571265            bws    Tot   \n",
       "4   BRA.5_1  4196.830095             3338.599288            bws    Tot   \n",
       "\n",
       "      score  cat  \n",
       "0  1.613728  1.0  \n",
       "1  0.506145  0.0  \n",
       "2  1.087366  1.0  \n",
       "3  1.117165  1.0  \n",
       "4  0.795505  0.0  "
      ]
     },
     "execution_count": 14,
     "metadata": {},
     "output_type": "execute_result"
    }
   ],
   "source": [
    "df_vertical.head()"
   ]
  },
  {
   "cell_type": "code",
   "execution_count": 15,
   "metadata": {
    "collapsed": true
   },
   "outputs": [],
   "source": [
    "df_out = pd.merge(left=df_vertical,\n",
    "                   right=df_labels,\n",
    "                   how=\"left\",\n",
    "                   left_on=[\"indicator_name\",\"cat\"],\n",
    "                   right_on=[\"indicator\",\"cat\"])"
   ]
  },
  {
   "cell_type": "code",
   "execution_count": 16,
   "metadata": {
    "collapsed": true
   },
   "outputs": [],
   "source": [
    "df_out.drop(columns=[\"indicator\"],\n",
    "            inplace=True)"
   ]
  },
  {
   "cell_type": "code",
   "execution_count": 17,
   "metadata": {
    "collapsed": true
   },
   "outputs": [],
   "source": [
    "output_file_path_ec2 = \"{}/{}_V{:02.0f}.csv\".format(ec2_output_path,SCRIPT_NAME,OUTPUT_VERSION)"
   ]
  },
  {
   "cell_type": "code",
   "execution_count": 18,
   "metadata": {
    "collapsed": true
   },
   "outputs": [],
   "source": [
    "df_out.to_csv(path_or_buf=output_file_path_ec2)"
   ]
  },
  {
   "cell_type": "code",
   "execution_count": 19,
   "metadata": {
    "collapsed": true
   },
   "outputs": [],
   "source": [
    "BQ_PROJECT_ID = \"aqueduct30\"\n",
    "BQ_DATASET_NAME = \"aqueduct30v01\"\n",
    "BQ_INPUT_TABLE_NAME = \"y2018m12d04_rh_master_merge_rawdata_gpd_v02_v05\""
   ]
  },
  {
   "cell_type": "code",
   "execution_count": 20,
   "metadata": {},
   "outputs": [],
   "source": [
    "destination_table = \"{}.{}\".format(BQ_DATASET_NAME,BQ_OUTPUT_TABLE_NAME)"
   ]
  },
  {
   "cell_type": "code",
   "execution_count": 21,
   "metadata": {},
   "outputs": [
    {
     "name": "stderr",
     "output_type": "stream",
     "text": [
      "8it [00:27,  3.47s/it]\n"
     ]
    }
   ],
   "source": [
    "df_out.to_gbq(destination_table=destination_table,\n",
    "              project_id=BQ_PROJECT_ID,\n",
    "              if_exists=\"replace\")"
   ]
  },
  {
   "cell_type": "code",
   "execution_count": 22,
   "metadata": {},
   "outputs": [
    {
     "name": "stdout",
     "output_type": "stream",
     "text": [
      "upload: ../../../../data/Y2019M01D28_RH_GA_Zonal_Stats_Table_V01/output_V03/Y2019M01D28_RH_GA_Zonal_Stats_Table_V01_V03.csv to s3://wri-projects/Aqueduct30/processData/Y2019M01D28_RH_GA_Zonal_Stats_Table_V01/output_V03/Y2019M01D28_RH_GA_Zonal_Stats_Table_V01_V03.csv\n"
     ]
    }
   ],
   "source": [
    "!aws s3 cp {ec2_output_path} {s3_output_path} --recursive"
   ]
  },
  {
   "cell_type": "code",
   "execution_count": 23,
   "metadata": {},
   "outputs": [
    {
     "name": "stdout",
     "output_type": "stream",
     "text": [
      "0:00:44.409718\n"
     ]
    }
   ],
   "source": [
    "end = datetime.datetime.now()\n",
    "elapsed = end - start\n",
    "print(elapsed)"
   ]
  },
  {
   "cell_type": "markdown",
   "metadata": {},
   "source": [
    "Previous runs:   \n",
    "0:00:37.409272\n"
   ]
  }
 ],
 "metadata": {
  "kernelspec": {
   "display_name": "Python 35",
   "language": "python",
   "name": "python35"
  },
  "language_info": {
   "codemirror_mode": {
    "name": "ipython",
    "version": 3
   },
   "file_extension": ".py",
   "mimetype": "text/x-python",
   "name": "python",
   "nbconvert_exporter": "python",
   "pygments_lexer": "ipython3",
   "version": "3.5.4"
  }
 },
 "nbformat": 4,
 "nbformat_minor": 2
}
