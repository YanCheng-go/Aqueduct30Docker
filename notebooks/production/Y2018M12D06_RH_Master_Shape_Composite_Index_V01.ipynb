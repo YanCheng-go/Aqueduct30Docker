{
 "cells": [
  {
   "cell_type": "code",
   "execution_count": 1,
   "metadata": {},
   "outputs": [
    {
     "name": "stdout",
     "output_type": "stream",
     "text": [
      "S3_INPUT_PATH:  s3://wri-projects/Aqueduct30/processData/Y2018M12D04_RH_Union_ArcMap_V01/steps/step2_union_whymap/output \n",
      "ec2_input_path:  /volumes/data/Y2018M12D06_RH_Master_Shape_Composite_Index_V01/input_V02 \n",
      "ec2_output_path:  /volumes/data/Y2018M12D06_RH_Master_Shape_Composite_Index_V01/output_V02 \n",
      "BQ_OUTPUT_DATASET_NAME:  aqueduct30v01 \n",
      "BQ_OUTPUT_TABLE_NAME:  y2018m12d06_rh_master_shape_composite_index_v01_v02 \n",
      "s3_output_path:  s3://wri-projects/Aqueduct30/processData/Y2018M12D06_RH_Master_Shape_Composite_Index_V01/output_V02/\n"
     ]
    }
   ],
   "source": [
    "\"\"\" Simplify and create composite index.\n",
    "-------------------------------------------------------------------------------\n",
    "\n",
    "This script simplifies the union shapefile to only contain useful id's:\n",
    "\"pfaf_id\",\"gid_1\",\"gid_0\",\"aqid\"\n",
    "\n",
    "it will create a new composite index based on \n",
    "[pfaf_id]-[gid_1]-[aqid] in string format.\n",
    "\n",
    "\n",
    "Author: Rutger Hofste\n",
    "Date: 20181206\n",
    "Kernel: python35\n",
    "Docker: rutgerhofste/gisdocker:ubuntu16.04\n",
    "\n",
    "\"\"\"\n",
    "\n",
    "SCRIPT_NAME = \"Y2018M12D06_RH_Master_Shape_Composite_Index_V01\"\n",
    "OUTPUT_VERSION = 2\n",
    "\n",
    "NODATA_VALUE = -9999\n",
    "\n",
    "S3_INPUT_PATH = \"s3://wri-projects/Aqueduct30/processData/Y2018M12D04_RH_Union_ArcMap_V01/steps/step2_union_whymap/output\"\n",
    "INPUT_FILE_NAME = \"hybasgadm_u_whymap_arcgis_50m_v01.shp\"\n",
    "\n",
    "BQ_PROJECT_ID = \"aqueduct30\"\n",
    "BQ_OUTPUT_DATASET_NAME = \"aqueduct30v01\"\n",
    "BQ_OUTPUT_TABLE_NAME = \"{}_v{:02.0f}\".format(SCRIPT_NAME,OUTPUT_VERSION).lower()\n",
    "\n",
    "ec2_input_path = \"/volumes/data/{}/input_V{:02.0f}\".format(SCRIPT_NAME,OUTPUT_VERSION) \n",
    "ec2_output_path = \"/volumes/data/{}/output_V{:02.0f}\".format(SCRIPT_NAME,OUTPUT_VERSION) \n",
    "\n",
    "s3_output_path = \"s3://wri-projects/Aqueduct30/processData/{}/output_V{:02.0f}/\".format(SCRIPT_NAME,OUTPUT_VERSION)\n",
    "\n",
    "\n",
    "print(\"S3_INPUT_PATH: \",S3_INPUT_PATH,\n",
    "      \"\\nec2_input_path: \",ec2_input_path,\n",
    "      \"\\nec2_output_path: \",ec2_output_path,\n",
    "      \"\\nBQ_OUTPUT_DATASET_NAME: \", BQ_OUTPUT_DATASET_NAME,\n",
    "      \"\\nBQ_OUTPUT_TABLE_NAME: \",BQ_OUTPUT_TABLE_NAME,\n",
    "      \"\\ns3_output_path: \", s3_output_path\n",
    "      )"
   ]
  },
  {
   "cell_type": "code",
   "execution_count": 2,
   "metadata": {},
   "outputs": [
    {
     "name": "stdout",
     "output_type": "stream",
     "text": [
      "Y2018M12D06 UTC 14:45\n"
     ]
    },
    {
     "data": {
      "text/plain": [
       "'3.5.4 |Anaconda, Inc.| (default, Nov 20 2017, 18:44:38) \\n[GCC 7.2.0]'"
      ]
     },
     "execution_count": 2,
     "metadata": {},
     "output_type": "execute_result"
    }
   ],
   "source": [
    "import time, datetime, sys\n",
    "dateString = time.strftime(\"Y%YM%mD%d\")\n",
    "timeString = time.strftime(\"UTC %H:%M\")\n",
    "start = datetime.datetime.now()\n",
    "print(dateString,timeString)\n",
    "sys.version"
   ]
  },
  {
   "cell_type": "code",
   "execution_count": 3,
   "metadata": {},
   "outputs": [
    {
     "name": "stdout",
     "output_type": "stream",
     "text": [
      "rm: cannot remove '/volumes/data/Y2018M12D06_RH_Master_Shape_Composite_Index_V01/input_V02': No such file or directory\n",
      "rm: cannot remove '/volumes/data/Y2018M12D06_RH_Master_Shape_Composite_Index_V01/output_V02': No such file or directory\n"
     ]
    }
   ],
   "source": [
    "!rm -r {ec2_input_path}\n",
    "!rm -r {ec2_output_path}\n",
    "!mkdir -p {ec2_input_path}\n",
    "!mkdir -p {ec2_output_path}"
   ]
  },
  {
   "cell_type": "code",
   "execution_count": 4,
   "metadata": {},
   "outputs": [
    {
     "name": "stdout",
     "output_type": "stream",
     "text": [
      "download: s3://wri-projects/Aqueduct30/processData/Y2018M12D04_RH_Union_ArcMap_V01/steps/step2_union_whymap/output/hybasgadm_u_whymap_arcgis_50m_v01.cpg to ../../../../data/Y2018M12D06_RH_Master_Shape_Composite_Index_V01/input_V02/hybasgadm_u_whymap_arcgis_50m_v01.cpg\n",
      "download: s3://wri-projects/Aqueduct30/processData/Y2018M12D04_RH_Union_ArcMap_V01/steps/step2_union_whymap/output/hybasgadm_u_whymap_arcgis_50m_v01.shp.xml to ../../../../data/Y2018M12D06_RH_Master_Shape_Composite_Index_V01/input_V02/hybasgadm_u_whymap_arcgis_50m_v01.shp.xml\n",
      "download: s3://wri-projects/Aqueduct30/processData/Y2018M12D04_RH_Union_ArcMap_V01/steps/step2_union_whymap/output/hybasgadm_u_whymap_arcgis_50m_v01.prj to ../../../../data/Y2018M12D06_RH_Master_Shape_Composite_Index_V01/input_V02/hybasgadm_u_whymap_arcgis_50m_v01.prj\n",
      "download: s3://wri-projects/Aqueduct30/processData/Y2018M12D04_RH_Union_ArcMap_V01/steps/step2_union_whymap/output/hybasgadm_u_whymap_arcgis_50m_v01.sbx to ../../../../data/Y2018M12D06_RH_Master_Shape_Composite_Index_V01/input_V02/hybasgadm_u_whymap_arcgis_50m_v01.sbx\n",
      "download: s3://wri-projects/Aqueduct30/processData/Y2018M12D04_RH_Union_ArcMap_V01/steps/step2_union_whymap/output/hybasgadm_u_whymap_arcgis_50m_v01.sbn to ../../../../data/Y2018M12D06_RH_Master_Shape_Composite_Index_V01/input_V02/hybasgadm_u_whymap_arcgis_50m_v01.sbn\n",
      "download: s3://wri-projects/Aqueduct30/processData/Y2018M12D04_RH_Union_ArcMap_V01/steps/step2_union_whymap/output/hybasgadm_u_whymap_arcgis_50m_v01.shx to ../../../../data/Y2018M12D06_RH_Master_Shape_Composite_Index_V01/input_V02/hybasgadm_u_whymap_arcgis_50m_v01.shx\n",
      "download: s3://wri-projects/Aqueduct30/processData/Y2018M12D04_RH_Union_ArcMap_V01/steps/step2_union_whymap/output/hybasgadm_u_whymap_arcgis_50m_v01.dbf to ../../../../data/Y2018M12D06_RH_Master_Shape_Composite_Index_V01/input_V02/hybasgadm_u_whymap_arcgis_50m_v01.dbf\n",
      "download: s3://wri-projects/Aqueduct30/processData/Y2018M12D04_RH_Union_ArcMap_V01/steps/step2_union_whymap/output/hybasgadm_u_whymap_arcgis_50m_v01.shp to ../../../../data/Y2018M12D06_RH_Master_Shape_Composite_Index_V01/input_V02/hybasgadm_u_whymap_arcgis_50m_v01.shp\n"
     ]
    }
   ],
   "source": [
    "!aws s3 cp {S3_INPUT_PATH} {ec2_input_path} --recursive "
   ]
  },
  {
   "cell_type": "code",
   "execution_count": 5,
   "metadata": {
    "collapsed": true
   },
   "outputs": [],
   "source": [
    "import os\n",
    "import multiprocessing\n",
    "import pandas as pd\n",
    "import geopandas as gpd\n",
    "import numpy as np\n",
    "from google.cloud import bigquery\n",
    "\n",
    "pd.set_option('display.max_columns', 500)\n",
    "\n",
    "os.environ[\"GOOGLE_APPLICATION_CREDENTIALS\"] = \"/.google.json\"\n",
    "os.environ[\"GOOGLE_CLOUD_PROJECT\"] = \"aqueduct30\"\n",
    "client = bigquery.Client(project=BQ_PROJECT_ID)"
   ]
  },
  {
   "cell_type": "code",
   "execution_count": 6,
   "metadata": {
    "collapsed": true
   },
   "outputs": [],
   "source": [
    "input_path = \"{}/{}\".format(ec2_input_path,INPUT_FILE_NAME)"
   ]
  },
  {
   "cell_type": "code",
   "execution_count": 7,
   "metadata": {
    "collapsed": true
   },
   "outputs": [],
   "source": [
    "gdf = gpd.read_file(input_path)"
   ]
  },
  {
   "cell_type": "code",
   "execution_count": 8,
   "metadata": {
    "collapsed": true
   },
   "outputs": [],
   "source": [
    "gdf.rename(columns={\"PFAF_ID\":\"pfaf_id\",\n",
    "                    \"GID_0\":\"gid_0\",\n",
    "                    \"GID_1\":\"gid_1\"},\n",
    "           inplace=True)"
   ]
  },
  {
   "cell_type": "code",
   "execution_count": 9,
   "metadata": {
    "collapsed": true
   },
   "outputs": [],
   "source": [
    "# ArcMap uses empty strings (WTF!) instead of Nones. Replacing"
   ]
  },
  {
   "cell_type": "code",
   "execution_count": 10,
   "metadata": {},
   "outputs": [
    {
     "name": "stderr",
     "output_type": "stream",
     "text": [
      "/opt/anaconda3/envs/python35/lib/python3.5/site-packages/ipykernel_launcher.py:1: SettingWithCopyWarning: \n",
      "A value is trying to be set on a copy of a slice from a DataFrame\n",
      "\n",
      "See the caveats in the documentation: http://pandas.pydata.org/pandas-docs/stable/indexing.html#indexing-view-versus-copy\n",
      "  \"\"\"Entry point for launching an IPython kernel.\n",
      "/opt/anaconda3/envs/python35/lib/python3.5/site-packages/ipykernel_launcher.py:2: SettingWithCopyWarning: \n",
      "A value is trying to be set on a copy of a slice from a DataFrame\n",
      "\n",
      "See the caveats in the documentation: http://pandas.pydata.org/pandas-docs/stable/indexing.html#indexing-view-versus-copy\n",
      "  \n",
      "/opt/anaconda3/envs/python35/lib/python3.5/site-packages/ipykernel_launcher.py:3: SettingWithCopyWarning: \n",
      "A value is trying to be set on a copy of a slice from a DataFrame\n",
      "\n",
      "See the caveats in the documentation: http://pandas.pydata.org/pandas-docs/stable/indexing.html#indexing-view-versus-copy\n",
      "  This is separate from the ipykernel package so we can avoid doing imports until\n",
      "/opt/anaconda3/envs/python35/lib/python3.5/site-packages/ipykernel_launcher.py:4: SettingWithCopyWarning: \n",
      "A value is trying to be set on a copy of a slice from a DataFrame\n",
      "\n",
      "See the caveats in the documentation: http://pandas.pydata.org/pandas-docs/stable/indexing.html#indexing-view-versus-copy\n",
      "  after removing the cwd from sys.path.\n"
     ]
    }
   ],
   "source": [
    "gdf[\"pfaf_id\"][gdf[\"pfaf_id\"]== 0] = NODATA_VALUE\n",
    "gdf[\"aqid\"][gdf[\"aqid\"]== 0] = NODATA_VALUE\n",
    "gdf[\"gid_0\"][gdf[\"gid_0\"] == \"\"] = NODATA_VALUE\n",
    "gdf[\"gid_1\"][gdf[\"gid_1\"] == \"\"] = NODATA_VALUE\n"
   ]
  },
  {
   "cell_type": "code",
   "execution_count": 11,
   "metadata": {
    "collapsed": true
   },
   "outputs": [],
   "source": [
    "gdf_simple = gdf[[\"pfaf_id\",\"gid_1\",\"gid_0\",\"aqid\",\"geometry\"]]"
   ]
  },
  {
   "cell_type": "code",
   "execution_count": 12,
   "metadata": {
    "collapsed": true
   },
   "outputs": [],
   "source": [
    "def create_composite_index(row):\n",
    "    if row.pfaf_id == -9999:\n",
    "        pfaf_id = \"None\"\n",
    "    else:\n",
    "        pfaf_id = int(row.pfaf_id)\n",
    "\n",
    "    if row.gid_1 == -9999:\n",
    "        gid_1 = \"None\"\n",
    "    else:\n",
    "        gid_1 = row.gid_1\n",
    "        \n",
    "    if row.aqid == -9999:\n",
    "        aqid = \"None\"\n",
    "    else:\n",
    "        aqid = int(row.aqid)\n",
    "    \n",
    "    \n",
    "    string_id = \"{}-{}-{}\".format(pfaf_id,gid_1,aqid)\n",
    "    return string_id"
   ]
  },
  {
   "cell_type": "code",
   "execution_count": 13,
   "metadata": {},
   "outputs": [
    {
     "name": "stderr",
     "output_type": "stream",
     "text": [
      "/opt/anaconda3/envs/python35/lib/python3.5/site-packages/ipykernel_launcher.py:1: SettingWithCopyWarning: \n",
      "A value is trying to be set on a copy of a slice from a DataFrame.\n",
      "Try using .loc[row_indexer,col_indexer] = value instead\n",
      "\n",
      "See the caveats in the documentation: http://pandas.pydata.org/pandas-docs/stable/indexing.html#indexing-view-versus-copy\n",
      "  \"\"\"Entry point for launching an IPython kernel.\n"
     ]
    }
   ],
   "source": [
    "gdf_simple[\"string_id\"] = gdf_simple.apply(create_composite_index,axis=1)"
   ]
  },
  {
   "cell_type": "code",
   "execution_count": 14,
   "metadata": {
    "collapsed": true
   },
   "outputs": [],
   "source": [
    "output_file_path = \"{}/{}\".format(ec2_output_path,SCRIPT_NAME)"
   ]
  },
  {
   "cell_type": "code",
   "execution_count": 15,
   "metadata": {},
   "outputs": [],
   "source": [
    "gdf_simple.to_file(output_file_path + \".shp\",driver=\"ESRI Shapefile\")"
   ]
  },
  {
   "cell_type": "code",
   "execution_count": 16,
   "metadata": {},
   "outputs": [
    {
     "name": "stdout",
     "output_type": "stream",
     "text": [
      "upload: ../../../../data/Y2018M12D06_RH_Master_Shape_Composite_Index_V01/output_V02/Y2018M12D06_RH_Master_Shape_Composite_Index_V01.prj to s3://wri-projects/Aqueduct30/processData/Y2018M12D06_RH_Master_Shape_Composite_Index_V01/output_V02/Y2018M12D06_RH_Master_Shape_Composite_Index_V01.prj\n",
      "upload: ../../../../data/Y2018M12D06_RH_Master_Shape_Composite_Index_V01/output_V02/Y2018M12D06_RH_Master_Shape_Composite_Index_V01.cpg to s3://wri-projects/Aqueduct30/processData/Y2018M12D06_RH_Master_Shape_Composite_Index_V01/output_V02/Y2018M12D06_RH_Master_Shape_Composite_Index_V01.cpg\n",
      "upload: ../../../../data/Y2018M12D06_RH_Master_Shape_Composite_Index_V01/output_V02/Y2018M12D06_RH_Master_Shape_Composite_Index_V01.shx to s3://wri-projects/Aqueduct30/processData/Y2018M12D06_RH_Master_Shape_Composite_Index_V01/output_V02/Y2018M12D06_RH_Master_Shape_Composite_Index_V01.shx\n",
      "upload: ../../../../data/Y2018M12D06_RH_Master_Shape_Composite_Index_V01/output_V02/Y2018M12D06_RH_Master_Shape_Composite_Index_V01.dbf to s3://wri-projects/Aqueduct30/processData/Y2018M12D06_RH_Master_Shape_Composite_Index_V01/output_V02/Y2018M12D06_RH_Master_Shape_Composite_Index_V01.dbf\n",
      "upload: ../../../../data/Y2018M12D06_RH_Master_Shape_Composite_Index_V01/output_V02/Y2018M12D06_RH_Master_Shape_Composite_Index_V01.shp to s3://wri-projects/Aqueduct30/processData/Y2018M12D06_RH_Master_Shape_Composite_Index_V01/output_V02/Y2018M12D06_RH_Master_Shape_Composite_Index_V01.shp\n"
     ]
    }
   ],
   "source": [
    "!aws s3 cp {ec2_output_path} {s3_output_path} --recursive"
   ]
  },
  {
   "cell_type": "code",
   "execution_count": 17,
   "metadata": {},
   "outputs": [
    {
     "name": "stdout",
     "output_type": "stream",
     "text": [
      "0:03:35.008306\n"
     ]
    }
   ],
   "source": [
    "end = datetime.datetime.now()\n",
    "elapsed = end - start\n",
    "print(elapsed)"
   ]
  },
  {
   "cell_type": "markdown",
   "metadata": {},
   "source": [
    "Previous runs:  \n",
    "0:03:35.008306\n"
   ]
  },
  {
   "cell_type": "code",
   "execution_count": null,
   "metadata": {
    "collapsed": true
   },
   "outputs": [],
   "source": []
  }
 ],
 "metadata": {
  "kernelspec": {
   "display_name": "Python 35",
   "language": "python",
   "name": "python35"
  },
  "language_info": {
   "codemirror_mode": {
    "name": "ipython",
    "version": 3
   },
   "file_extension": ".py",
   "mimetype": "text/x-python",
   "name": "python",
   "nbconvert_exporter": "python",
   "pygments_lexer": "ipython3",
   "version": "3.5.4"
  }
 },
 "nbformat": 4,
 "nbformat_minor": 2
}
