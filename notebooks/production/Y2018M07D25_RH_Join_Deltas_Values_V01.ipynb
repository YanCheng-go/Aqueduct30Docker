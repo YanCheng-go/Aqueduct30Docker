{
 "cells": [
  {
   "cell_type": "code",
   "execution_count": 1,
   "metadata": {},
   "outputs": [
    {
     "name": "stdout",
     "output_type": "stream",
     "text": [
      "INPUT_TABLE_NAME_LEFT:  global_historical_all_multiple_m_30spfaf06_v02 \n",
      "INPUT_TABLE_NAME_RIGHT:  y2018m07d25_rh_delta_lookup_table_postgis_v01_v01 \n",
      "Output Table:  y2018m07d25_rh_join_deltas_values_v01_v01\n"
     ]
    }
   ],
   "source": [
    "\"\"\" Join delta_ids, supply and demand tables.\n",
    "-------------------------------------------------------------------------------\n",
    "\n",
    "the result is a table with the normal supply and demand and the delta id\n",
    "appended to the table. \n",
    "\n",
    "\n",
    "Author: Rutger Hofste\n",
    "Date: 20180725\n",
    "Kernel: python35\n",
    "Docker: rutgerhofste/gisdocker:ubuntu16.04\n",
    "\n",
    "Args:\n",
    "    TESTING (Boolean) : Toggle testing case.\n",
    "    SCRIPT_NAME (string) : Script name.\n",
    "    OUTPUT_VERSION (integer) : output version.\n",
    "    DATABASE_ENDPOINT (string) : RDS or postGreSQL endpoint.\n",
    "    DATABASE_NAME (string) : Database name.\n",
    "    TABLE_NAME_AREA_30SPFAF06 (string) : Table name used for areas. Must exist\n",
    "        on same database as used in rest of script.\n",
    "    S3_INPUT_PATH_RIVERDISCHARGE (string) : AWS S3 input path for \n",
    "        riverdischarge.    \n",
    "    S3_INPUT_PATH_DEMAND (string) : AWS S3 input path for \n",
    "        demand.     \n",
    "\n",
    "\"\"\"\n",
    "\n",
    "TESTING = 0\n",
    "OVERWRITE_OUTPUT = 1\n",
    "SCRIPT_NAME = \"Y2018M07D25_RH_Join_Deltas_Values_V01\"\n",
    "OUTPUT_VERSION = 1\n",
    "\n",
    "DATABASE_ENDPOINT = \"aqueduct30v05.cgpnumwmfcqc.eu-central-1.rds.amazonaws.com\"\n",
    "DATABASE_NAME = \"database01\"\n",
    "INPUT_TABLE_NAME_LEFT = \"global_historical_all_multiple_m_30spfaf06_v02\"\n",
    "INPUT_TABLE_NAME_RIGHT = \"y2018m07d25_rh_delta_lookup_table_postgis_v01_v01\"\n",
    "OUTPUT_TABLE_NAME = SCRIPT_NAME.lower() + \"_v{:02.0f}\".format(OUTPUT_VERSION)\n",
    "\n",
    "print(\"INPUT_TABLE_NAME_LEFT: \" , INPUT_TABLE_NAME_LEFT, \n",
    "      \"\\nINPUT_TABLE_NAME_RIGHT: \",INPUT_TABLE_NAME_RIGHT,\n",
    "      \"\\nOutput Table: \" , OUTPUT_TABLE_NAME)"
   ]
  },
  {
   "cell_type": "code",
   "execution_count": 2,
   "metadata": {},
   "outputs": [
    {
     "name": "stdout",
     "output_type": "stream",
     "text": [
      "Y2018M07D25 UTC 15:46\n"
     ]
    },
    {
     "data": {
      "text/plain": [
       "'3.5.4 |Anaconda, Inc.| (default, Nov 20 2017, 18:44:38) \\n[GCC 7.2.0]'"
      ]
     },
     "execution_count": 2,
     "metadata": {},
     "output_type": "execute_result"
    }
   ],
   "source": [
    "import time, datetime, sys\n",
    "dateString = time.strftime(\"Y%YM%mD%d\")\n",
    "timeString = time.strftime(\"UTC %H:%M\")\n",
    "start = datetime.datetime.now()\n",
    "print(dateString,timeString)\n",
    "sys.version"
   ]
  },
  {
   "cell_type": "code",
   "execution_count": 3,
   "metadata": {
    "collapsed": true
   },
   "outputs": [],
   "source": [
    "# imports\n",
    "import re\n",
    "import os\n",
    "import numpy as np\n",
    "import pandas as pd\n",
    "import aqueduct3\n",
    "from datetime import timedelta\n",
    "from sqlalchemy import *\n",
    "pd.set_option('display.max_columns', 500)"
   ]
  },
  {
   "cell_type": "code",
   "execution_count": 4,
   "metadata": {
    "collapsed": true
   },
   "outputs": [],
   "source": [
    "F = open(\"/.password\",\"r\")\n",
    "password = F.read().splitlines()[0]\n",
    "F.close()\n",
    "\n",
    "engine = create_engine(\"postgresql://rutgerhofste:{}@{}:5432/{}\".format(password,DATABASE_ENDPOINT,DATABASE_NAME))\n",
    "connection = engine.connect()\n",
    "\n",
    "if OVERWRITE_OUTPUT:\n",
    "    sql = text(\"DROP TABLE IF EXISTS {};\".format(OUTPUT_TABLE_NAME))\n",
    "    result = engine.execute(sql)\n"
   ]
  },
  {
   "cell_type": "code",
   "execution_count": 5,
   "metadata": {
    "collapsed": true
   },
   "outputs": [],
   "source": [
    "columns_to_keep_left = [\"pfafid_30spfaf06\",\n",
    "                        \"temporal_resolution\",\n",
    "                        \"year\",\n",
    "                        \"month\",\n",
    "                        \"area_m2_30spfaf06\",\n",
    "                        \"area_count_30spfaf06\"]"
   ]
  },
  {
   "cell_type": "code",
   "execution_count": 6,
   "metadata": {
    "collapsed": true
   },
   "outputs": [],
   "source": [
    "sectors = [\"pdom\",\n",
    "           \"pind\",\n",
    "           \"pirr\",\n",
    "           \"pliv\"]\n",
    "use_types = [\"ww\",\"wn\"]"
   ]
  },
  {
   "cell_type": "code",
   "execution_count": 7,
   "metadata": {
    "collapsed": true
   },
   "outputs": [],
   "source": [
    "for sector in sectors:\n",
    "    for use_type in use_types:\n",
    "        columns_to_keep_left.append(\"{}{}_count_30spfaf06\".format(sector,use_type))\n",
    "        columns_to_keep_left.append(\"{}{}_m_30spfaf06\".format(sector,use_type))"
   ]
  },
  {
   "cell_type": "code",
   "execution_count": 8,
   "metadata": {
    "collapsed": true
   },
   "outputs": [],
   "source": [
    "columns_to_keep_left.append(\"riverdischarge_m_30spfaf06\")\n",
    "columns_to_keep_left.append(\"riverdischarge_count_30spfaf06\")"
   ]
  },
  {
   "cell_type": "code",
   "execution_count": 9,
   "metadata": {},
   "outputs": [
    {
     "data": {
      "text/plain": [
       "['pfafid_30spfaf06',\n",
       " 'temporal_resolution',\n",
       " 'year',\n",
       " 'month',\n",
       " 'area_m2_30spfaf06',\n",
       " 'area_count_30spfaf06',\n",
       " 'pdomww_count_30spfaf06',\n",
       " 'pdomww_m_30spfaf06',\n",
       " 'pdomwn_count_30spfaf06',\n",
       " 'pdomwn_m_30spfaf06',\n",
       " 'pindww_count_30spfaf06',\n",
       " 'pindww_m_30spfaf06',\n",
       " 'pindwn_count_30spfaf06',\n",
       " 'pindwn_m_30spfaf06',\n",
       " 'pirrww_count_30spfaf06',\n",
       " 'pirrww_m_30spfaf06',\n",
       " 'pirrwn_count_30spfaf06',\n",
       " 'pirrwn_m_30spfaf06',\n",
       " 'plivww_count_30spfaf06',\n",
       " 'plivww_m_30spfaf06',\n",
       " 'plivwn_count_30spfaf06',\n",
       " 'plivwn_m_30spfaf06',\n",
       " 'riverdischarge_m_30spfaf06',\n",
       " 'riverdischarge_count_30spfaf06']"
      ]
     },
     "execution_count": 9,
     "metadata": {},
     "output_type": "execute_result"
    }
   ],
   "source": [
    "columns_to_keep_left"
   ]
  },
  {
   "cell_type": "code",
   "execution_count": 10,
   "metadata": {
    "collapsed": true
   },
   "outputs": [],
   "source": [
    "#columns_to_keep_right = [\"pfaf_id\",\"delta_id\"]\n",
    "columns_to_keep_right = [\"delta_id\"]"
   ]
  },
  {
   "cell_type": "code",
   "execution_count": 11,
   "metadata": {
    "collapsed": true
   },
   "outputs": [],
   "source": [
    "sql =  \"CREATE TABLE {} AS\".format(OUTPUT_TABLE_NAME)\n",
    "sql += \" SELECT \"\n",
    "for column_to_keep_left in columns_to_keep_left:\n",
    "    sql += \" l.{},\".format(column_to_keep_left)\n",
    "for column_to_keep_right in columns_to_keep_right:\n",
    "    sql += \" r.{},\".format(column_to_keep_right)\n",
    "sql = sql[:-1]    \n",
    "sql += \" FROM {} l\".format(INPUT_TABLE_NAME_LEFT)\n",
    "sql += \" INNER JOIN {} r ON\".format(INPUT_TABLE_NAME_RIGHT)\n",
    "sql += \" l.pfafid_30spfaf06 = r.pfaf_id\"\n",
    "sql += \" WHERE r.delta_id >= 0\"\n",
    "if TESTING:\n",
    "    sql += \" LIMIT 100\"\n",
    "    "
   ]
  },
  {
   "cell_type": "code",
   "execution_count": 12,
   "metadata": {},
   "outputs": [
    {
     "name": "stdout",
     "output_type": "stream",
     "text": [
      "CREATE TABLE y2018m07d25_rh_join_deltas_values_v01_v01 AS SELECT  l.pfafid_30spfaf06, l.temporal_resolution, l.year, l.month, l.area_m2_30spfaf06, l.area_count_30spfaf06, l.pdomww_count_30spfaf06, l.pdomww_m_30spfaf06, l.pdomwn_count_30spfaf06, l.pdomwn_m_30spfaf06, l.pindww_count_30spfaf06, l.pindww_m_30spfaf06, l.pindwn_count_30spfaf06, l.pindwn_m_30spfaf06, l.pirrww_count_30spfaf06, l.pirrww_m_30spfaf06, l.pirrwn_count_30spfaf06, l.pirrwn_m_30spfaf06, l.plivww_count_30spfaf06, l.plivww_m_30spfaf06, l.plivwn_count_30spfaf06, l.plivwn_m_30spfaf06, l.riverdischarge_m_30spfaf06, l.riverdischarge_count_30spfaf06, r.delta_id FROM global_historical_all_multiple_m_30spfaf06_v02 l INNER JOIN y2018m07d25_rh_delta_lookup_table_postgis_v01_v01 r ON l.pfafid_30spfaf06 = r.pfaf_id WHERE r.delta_id >= 0\n"
     ]
    }
   ],
   "source": [
    "print(sql)"
   ]
  },
  {
   "cell_type": "code",
   "execution_count": 13,
   "metadata": {},
   "outputs": [],
   "source": [
    "result = engine.execute(sql)"
   ]
  },
  {
   "cell_type": "code",
   "execution_count": 14,
   "metadata": {
    "collapsed": true
   },
   "outputs": [],
   "source": [
    "sql_index = \"CREATE INDEX {}pfafid_30spfaf06 ON {} ({})\".format(OUTPUT_TABLE_NAME,OUTPUT_TABLE_NAME,\"pfafid_30spfaf06\")"
   ]
  },
  {
   "cell_type": "code",
   "execution_count": 15,
   "metadata": {
    "collapsed": true
   },
   "outputs": [],
   "source": [
    "result = engine.execute(sql_index)"
   ]
  },
  {
   "cell_type": "code",
   "execution_count": 16,
   "metadata": {
    "collapsed": true
   },
   "outputs": [],
   "source": [
    "engine.dispose()"
   ]
  },
  {
   "cell_type": "code",
   "execution_count": 17,
   "metadata": {},
   "outputs": [
    {
     "name": "stdout",
     "output_type": "stream",
     "text": [
      "0:00:02.641575\n"
     ]
    }
   ],
   "source": [
    "end = datetime.datetime.now()\n",
    "elapsed = end - start\n",
    "print(elapsed)"
   ]
  }
 ],
 "metadata": {
  "kernelspec": {
   "display_name": "Python 35",
   "language": "python",
   "name": "python35"
  },
  "language_info": {
   "codemirror_mode": {
    "name": "ipython",
    "version": 3
   },
   "file_extension": ".py",
   "mimetype": "text/x-python",
   "name": "python",
   "nbconvert_exporter": "python",
   "pygments_lexer": "ipython3",
   "version": "3.5.4"
  }
 },
 "nbformat": 4,
 "nbformat_minor": 2
}
