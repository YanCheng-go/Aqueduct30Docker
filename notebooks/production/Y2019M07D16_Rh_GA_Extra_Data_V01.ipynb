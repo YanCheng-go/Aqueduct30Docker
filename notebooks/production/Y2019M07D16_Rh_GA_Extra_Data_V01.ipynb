{
 "cells": [
  {
   "cell_type": "code",
   "execution_count": 2,
   "metadata": {},
   "outputs": [
    {
     "data": {
      "text/plain": [
       "' Add UN member, population and valid hydrology data to results.\\n-------------------------------------------------------------------------------\\n\\nUN population data:\\nSource:https://population.un.org/wpp/Download/Standard/Population/\\n\\nWRI primary country list:\\nsource:https://github.com/wri/wri-bounds\\n\\nValid hydrology:\\nRutger Hofste, manually\\n\\nAuthor: Rutger Hofste\\nDate: 20190717\\nKernel: python35\\nDocker: rutgerhofste/gisdocker:ubuntu16.04\\n\\n'"
      ]
     },
     "execution_count": 2,
     "metadata": {},
     "output_type": "execute_result"
    }
   ],
   "source": [
    "\"\"\" Add UN member, population and valid hydrology data to results.\n",
    "-------------------------------------------------------------------------------\n",
    "\n",
    "UN population data:\n",
    "Source:https://population.un.org/wpp/Download/Standard/Population/\n",
    "\n",
    "WRI primary country list:\n",
    "source:https://github.com/wri/wri-bounds\n",
    "\n",
    "Author: Rutger Hofste\n",
    "Date: 20190717\n",
    "Kernel: python35\n",
    "Docker: rutgerhofste/gisdocker:ubuntu16.04\n",
    "\n",
    "\"\"\""
   ]
  },
  {
   "cell_type": "markdown",
   "metadata": {},
   "source": [
    "Manually uploaded the files to S3"
   ]
  }
 ],
 "metadata": {
  "kernelspec": {
   "display_name": "Python 35",
   "language": "python",
   "name": "python35"
  },
  "language_info": {
   "codemirror_mode": {
    "name": "ipython",
    "version": 3
   },
   "file_extension": ".py",
   "mimetype": "text/x-python",
   "name": "python",
   "nbconvert_exporter": "python",
   "pygments_lexer": "ipython3",
   "version": "3.5.4"
  }
 },
 "nbformat": 4,
 "nbformat_minor": 2
}
