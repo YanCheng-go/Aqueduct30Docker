{
 "cells": [
  {
   "cell_type": "code",
   "execution_count": 1,
   "metadata": {},
   "outputs": [
    {
     "name": "stdout",
     "output_type": "stream",
     "text": [
      "Output ee: projects/WRI-Aquaduct/Y2018M05D15_RH_Sum_Sinks_5min_EE_V01/output_V02 \n",
      "Output ec2: /volumes/data/Y2018M05D15_RH_Sum_Sinks_5min_EE_V01/output_V02 \n",
      "Output s3: s3://wri-projects/Aqueduct30/processData/Y2018M05D15_RH_Sum_Sinks_5min_EE_V01/output_V02\n"
     ]
    }
   ],
   "source": [
    "\"\"\" Calculate sum of sinks at 5min zones.\n",
    "-------------------------------------------------------------------------------\n",
    "\n",
    "If a sub-basin contains one or more sinks (coastal and endorheic), the sum \n",
    "of riverdischarge at those sinks will be used. If a subbasin does not contain\n",
    "any sinks or is too small to be represented at 5min, the main channel \n",
    "riverdischarge (30s validfa_mask) will be used. \n",
    "\n",
    "Creates a table with 5min zones and sum of sinks. Export to pandas dataframe\n",
    "and featurecollection. \n",
    "\n",
    "Args:\n",
    "\n",
    "\"\"\"\n",
    "\n",
    "\n",
    "TESTING = 0\n",
    "SCRIPT_NAME = \"Y2018M05D15_RH_Sum_Sinks_5min_EE_V01\"\n",
    "OUTPUT_VERSION = 2\n",
    "\n",
    "ZONES5MIN_EE_ASSET_ID = \"projects/WRI-Aquaduct/Y2018M04D20_RH_Ingest_HydroBasins_GCS_EE_V01/output_V02/hybas_lev06_v1c_merged_fiona_5min_V04\"\n",
    "LDD_EE_ASSET_ID = \"projects/WRI-Aquaduct/PCRGlobWB20_Aux_V02/global_lddsound_numpad_05min\"\n",
    "ENDOSINKS_EE_ASSET_ID = \"projects/WRI-Aquaduct/Y2017M08D02_RH_Ingest_Aux_Rasters_GCS_EE_V02/output_V06/global_outletendorheicbasins_boolean_05min\"\n",
    "\n",
    "EXTRA_PROPERTIES = {\"nodata_value\":-9999,\n",
    "                    \"ingested_by\" : \"RutgerHofste\",\n",
    "                    \"script_used\": SCRIPT_NAME,\n",
    "                    \"output_version\":OUTPUT_VERSION}\n",
    "\n",
    "ee_output_path = \"projects/WRI-Aquaduct/{}/output_V{:02.0f}\".format(SCRIPT_NAME,OUTPUT_VERSION)\n",
    "ec2_output_path = \"/volumes/data/{}/output_V{:02.0f}\".format(SCRIPT_NAME,OUTPUT_VERSION)\n",
    "s3_output_path = \"s3://wri-projects/Aqueduct30/processData/{}/output_V{:02.0f}\".format(SCRIPT_NAME,OUTPUT_VERSION)\n",
    "\n",
    "print(\"Output ee: \" +  ee_output_path,\n",
    "      \"\\nOutput ec2: \" + ec2_output_path,\n",
    "      \"\\nOutput s3: \" + s3_output_path)\n"
   ]
  },
  {
   "cell_type": "code",
   "execution_count": 2,
   "metadata": {},
   "outputs": [
    {
     "name": "stdout",
     "output_type": "stream",
     "text": [
      "Y2018M05D15 UTC 12:01\n"
     ]
    },
    {
     "data": {
      "text/plain": [
       "'3.5.4 |Anaconda, Inc.| (default, Nov 20 2017, 18:44:38) \\n[GCC 7.2.0]'"
      ]
     },
     "execution_count": 2,
     "metadata": {},
     "output_type": "execute_result"
    }
   ],
   "source": [
    "import time, datetime, sys, logging\n",
    "dateString = time.strftime(\"Y%YM%mD%d\")\n",
    "timeString = time.strftime(\"UTC %H:%M\")\n",
    "start = datetime.datetime.now()\n",
    "print(dateString,timeString)\n",
    "sys.version"
   ]
  },
  {
   "cell_type": "code",
   "execution_count": 3,
   "metadata": {},
   "outputs": [
    {
     "name": "stdout",
     "output_type": "stream",
     "text": [
      "rm: cannot remove '/volumes/data/Y2018M05D15_RH_Sum_Sinks_5min_EE_V01/output_V02': No such file or directory\r\n"
     ]
    }
   ],
   "source": [
    "!rm -r {ec2_output_path}\n",
    "!mkdir -p {ec2_output_path}"
   ]
  },
  {
   "cell_type": "code",
   "execution_count": 4,
   "metadata": {
    "collapsed": true
   },
   "outputs": [],
   "source": [
    "import pandas as pd\n",
    "import numpy as np\n",
    "import ee\n",
    "import aqueduct3\n",
    "ee.Initialize()"
   ]
  },
  {
   "cell_type": "code",
   "execution_count": 5,
   "metadata": {
    "collapsed": true
   },
   "outputs": [],
   "source": [
    "i_hybas_lev06_v1c_merged_fiona_5min = ee.Image(ZONES5MIN_EE_ASSET_ID)\n",
    "i_ldd_5min = ee.Image(LDD_EE_ASSET_ID)\n",
    "i_endosinks_5min = ee.Image(ENDOSINKS_EE_ASSET_ID)"
   ]
  },
  {
   "cell_type": "code",
   "execution_count": 6,
   "metadata": {},
   "outputs": [],
   "source": [
    "i_sinks_5min =  i_ldd_5min.eq(5)\n",
    "i_sinks_5min = i_sinks_5min.copyProperties(i_ldd_5min)\n",
    "i_sinks_5min = i_sinks_5min.set(\"unit\",\"boolean\")"
   ]
  },
  {
   "cell_type": "code",
   "execution_count": 7,
   "metadata": {
    "collapsed": true
   },
   "outputs": [],
   "source": [
    "# Geospatial constants\n",
    "spatial_resolution = \"5min\"\n",
    "geometry_server_side = aqueduct3.earthengine.get_global_geometry(test=TESTING)\n",
    "geometry_client_side = geometry_server_side.getInfo()['coordinates']\n",
    "crs_transform = aqueduct3.earthengine.get_crs_transform(spatial_resolution)"
   ]
  },
  {
   "cell_type": "code",
   "execution_count": 8,
   "metadata": {},
   "outputs": [],
   "source": [
    "def post_process_results(result_list,function_properties,extra_properties=EXTRA_PROPERTIES):\n",
    "    \"\"\"Client side function to convert results of reduceRegion to pandas dataframe.\n",
    "    -------------------------------------------------------------------------------\n",
    "    \n",
    "    Adds additional properties. The script is client side for convenience reasons.\n",
    "    A more robust and fast approach would be to add the extra_properties to the \n",
    "    server side dictionary.\n",
    "    \n",
    "    Args:\n",
    "        result_list (ee.List) : List of dictionaries. Result from reduceRegion\n",
    "        function_properties (dictionary) : Additional properties used in the \n",
    "            reduceRegion function call.\n",
    "        extra_properties (dictionary) : Additional properties set at global level. \n",
    "    \n",
    "    Returns:\n",
    "        df (pd.DataFrame) : Pandas dataframe with extra properties.\n",
    "    \n",
    "    \n",
    "    \"\"\"\n",
    "    extra_properties = {**function_properties, **EXTRA_PROPERTIES}\n",
    "    result_list_clientside = result_list.getInfo()\n",
    "    df = pd.DataFrame(result_list_clientside)\n",
    "    df = df.assign(**extra_properties)\n",
    "    df = df.apply(pd.to_numeric, errors='ignore')\n",
    "    return df  \n",
    "\n",
    "\n",
    "\n",
    "\n",
    "\n",
    "def master(i_zones,i_values,geometry,crs_transform,statistic_type,extra_properties):\n",
    "    result_list = aqueduct3.earthengine.raster_zonal_stats(\n",
    "                                            i_zones = i_zones,\n",
    "                                            i_values = i_values,\n",
    "                                            statistic_type = statistic_type,\n",
    "                                            geometry = geometry_server_side,\n",
    "                                            crs_transform = crs_transform,\n",
    "                                            crs=\"EPSG:4326\")\n",
    "    i_result, i_count = aqueduct3.earthengine.zonal_stats_results_to_image(result_list,i_zones,statistic_type)\n",
    "    \n",
    "    i_dummy_result_properties = aqueduct3.earthengine.zonal_stats_image_propertes(i_zones,i_values,extra_properties,zones_prefix=\"zones_\",values_prefix=\"values_\")\n",
    "    \n",
    "    i_result = i_result.multiply(1) #Deletes old properties\n",
    "    i_result = i_result.copyProperties(i_dummy_result_properties)\n",
    "    \n",
    "    return result_list,i_result, i_count\n",
    "\n"
   ]
  },
  {
   "cell_type": "code",
   "execution_count": 9,
   "metadata": {},
   "outputs": [],
   "source": [
    "output_dict = {}\n",
    "result_list, output_dict[\"global_sum_sinks_dimensionless_5minPfaf06\"], output_dict[\"global_count_sinks_dimensionless_5minPfaf06\"] = master(i_zones = i_hybas_lev06_v1c_merged_fiona_5min,\n",
    "                                                                                                                                                   i_values = i_sinks_5min,\n",
    "                                                                                                                                                   geometry = geometry_client_side,\n",
    "                                                                                                                                                   crs_transform = crs_transform,\n",
    "                                                                                                                                                   statistic_type = \"sum\",\n",
    "                                                                                                                                                   extra_properties= {})\n",
    "\n",
    "\n"
   ]
  },
  {
   "cell_type": "code",
   "execution_count": 10,
   "metadata": {},
   "outputs": [
    {
     "name": "stdout",
     "output_type": "stream",
     "text": [
      "earthengine create folder projects/WRI-Aquaduct/Y2018M05D15_RH_Sum_Sinks_5min_EE_V01 b'Asset projects/WRI-Aquaduct/Y2018M05D15_RH_Sum_Sinks_5min_EE_V01 already exists\\n'\n",
      "earthengine create folder projects/WRI-Aquaduct/Y2018M05D15_RH_Sum_Sinks_5min_EE_V01/output_V02 b''\n",
      "global_sum_sinks_dimensionless_5minPfaf06\n",
      "global_count_sinks_dimensionless_5minPfaf06\n"
     ]
    }
   ],
   "source": [
    "# Export to image\n",
    "\n",
    "result = aqueduct3.earthengine.create_ee_folder_recursive(ee_output_path)\n",
    "for key, value in output_dict.items():\n",
    "    print(key)\n",
    "    image = ee.Image(value)\n",
    "    image = image.setMulti(EXTRA_PROPERTIES)\n",
    "    description = key    \n",
    "    output_asset_id = \"{}/{}\".format(ee_output_path,key)\n",
    "    \n",
    "    task = ee.batch.Export.image.toAsset(\n",
    "        image =  image,\n",
    "        assetId = output_asset_id,\n",
    "        region = geometry_client_side,\n",
    "        description = description,\n",
    "        #dimensions = dimensions,\n",
    "        crs = \"EPSG:4326\",\n",
    "        crsTransform = crs_transform,\n",
    "        maxPixels = 1e10     \n",
    "    )\n",
    "    task.start()"
   ]
  },
  {
   "cell_type": "code",
   "execution_count": 11,
   "metadata": {},
   "outputs": [],
   "source": [
    "# Export to pandas dataframe and CSV\n",
    "\n",
    "output_file_name = \"global_sum_sinks_dimensionless_5minPfaf06\"\n",
    "output_file_path_pkl = \"{}/{}.pkl\".format(ec2_output_path,output_file_name)\n",
    "output_file_path_csv = \"{}/{}.csv\".format(ec2_output_path,output_file_name)\n",
    "\n",
    "df = pd.DataFrame(result_list.getInfo())\n",
    "\n",
    "df2 = df.copy()\n",
    "df2[\"zones\"] = df[\"zones\"].astype(np.int64)\n",
    "df2[\"sum\"] = df[\"sum\"].astype(np.int64)\n",
    "df2.to_pickle(output_file_path_pkl)\n",
    "df2.to_csv(output_file_path_csv)\n"
   ]
  },
  {
   "cell_type": "code",
   "execution_count": 12,
   "metadata": {},
   "outputs": [
    {
     "data": {
      "text/plain": [
       "{'started': 'OK'}"
      ]
     },
     "execution_count": 12,
     "metadata": {},
     "output_type": "execute_result"
    }
   ],
   "source": [
    "# Export as FeatureCollection\n",
    "sample_geometry = ee.Geometry.Point(1,1)\n",
    "fc = ee.FeatureCollection(result_list.map(lambda d: ee.Feature(sample_geometry,d)))\n",
    "fc = fc.setMulti(EXTRA_PROPERTIES)\n",
    "fc = fc.copyProperties(output_dict[\"global_sum_sinks_dimensionless_5minPfaf06\"])\n",
    "    \n",
    "taskParams = {'json' : fc.serialize(), 'type': 'EXPORT_FEATURES', 'assetId': 'users/rutgerhofste/fcexporttest','description': 'adescription'}\n",
    "taskId = ee.data.newTaskId()[0]\n",
    "ee.data.startProcessing(taskId, taskParams)\n",
    "\n"
   ]
  },
  {
   "cell_type": "code",
   "execution_count": 14,
   "metadata": {},
   "outputs": [
    {
     "name": "stdout",
     "output_type": "stream",
     "text": [
      "upload: ../../../../data/Y2018M05D15_RH_Sum_Sinks_5min_EE_V01/output_V02/global_sum_sinks_dimensionless_5minPfaf06.csv to s3://wri-projects/Aqueduct30/processData/Y2018M05D15_RH_Sum_Sinks_5min_EE_V01/output_V02/global_sum_sinks_dimensionless_5minPfaf06.csv\n",
      "upload: ../../../../data/Y2018M05D15_RH_Sum_Sinks_5min_EE_V01/output_V02/global_sum_sinks_dimensionless_5minPfaf06.pkl to s3://wri-projects/Aqueduct30/processData/Y2018M05D15_RH_Sum_Sinks_5min_EE_V01/output_V02/global_sum_sinks_dimensionless_5minPfaf06.pkl\n"
     ]
    }
   ],
   "source": [
    "!aws s3 cp {ec2_output_path} {s3_output_path} --recursive"
   ]
  },
  {
   "cell_type": "code",
   "execution_count": 13,
   "metadata": {},
   "outputs": [
    {
     "name": "stdout",
     "output_type": "stream",
     "text": [
      "0:00:14.735956\n"
     ]
    }
   ],
   "source": [
    "end = datetime.datetime.now()\n",
    "elapsed = end - start\n",
    "print(elapsed)"
   ]
  },
  {
   "cell_type": "markdown",
   "metadata": {},
   "source": [
    "Previous Runs:  \n",
    "0:00:14.735956\n"
   ]
  },
  {
   "cell_type": "code",
   "execution_count": null,
   "metadata": {
    "collapsed": true
   },
   "outputs": [],
   "source": []
  }
 ],
 "metadata": {
  "kernelspec": {
   "display_name": "Python 35",
   "language": "python",
   "name": "python35"
  },
  "language_info": {
   "codemirror_mode": {
    "name": "ipython",
    "version": 3
   },
   "file_extension": ".py",
   "mimetype": "text/x-python",
   "name": "python",
   "nbconvert_exporter": "python",
   "pygments_lexer": "ipython3",
   "version": "3.5.4"
  }
 },
 "nbformat": 4,
 "nbformat_minor": 2
}
