{
 "cells": [
  {
   "cell_type": "code",
   "execution_count": 2,
   "metadata": {},
   "outputs": [
    {
     "name": "stdout",
     "output_type": "stream",
     "text": [
      "Output ee: projects/WRI-Aquaduct/Y2018M05D15_RH_Sum_Sinks_5min_EE_V01/output_V01\n"
     ]
    }
   ],
   "source": [
    "\"\"\" Calculate sum of sinks at 5min zones.\n",
    "-------------------------------------------------------------------------------\n",
    "\n",
    "If a sub-basin contains one or more sinks (coastal and endorheic), the sum \n",
    "of riverdischarge at those sinks will be used. If a subbasin does not contain\n",
    "any sinks or is too small to be represented at 5min, the main channel \n",
    "riverdischarge (30s validfa_mask) will be used. \n",
    "\n",
    "Creates a table with 5min zones and sum of sinks. Export to pandas dataframe\n",
    "and featurecollection. \n",
    "\n",
    "Args:\n",
    "\n",
    "\"\"\"\n",
    "\n",
    "\n",
    "TESTING = 0\n",
    "SCRIPT_NAME = \"Y2018M05D15_RH_Sum_Sinks_5min_EE_V01\"\n",
    "OUTPUT_VERSION = 1\n",
    "\n",
    "ZONES5MIN_EE_ASSET_ID = \"projects/WRI-Aquaduct/Y2018M04D20_RH_Ingest_HydroBasins_GCS_EE_V01/output_V02/hybas_lev06_v1c_merged_fiona_5min_V04\"\n",
    "LDD_EE_ASSET_ID = \"projects/WRI-Aquaduct/PCRGlobWB20_Aux_V02/global_lddsound_numpad_05min\"\n",
    "ENDOSINKS_EE_ASSET_ID = \"projects/WRI-Aquaduct/Y2017M08D02_RH_Ingest_Aux_Rasters_GCS_EE_V02/output_V06/global_outletendorheicbasins_boolean_05min\"\n",
    "\n",
    "ee_output_path = \"projects/WRI-Aquaduct/{}/output_V{:02.0f}\".format(SCRIPT_NAME,OUTPUT_VERSION)\n",
    "print(\"Output ee: \" +  ee_output_path)\n"
   ]
  },
  {
   "cell_type": "code",
   "execution_count": 3,
   "metadata": {},
   "outputs": [
    {
     "name": "stdout",
     "output_type": "stream",
     "text": [
      "Y2018M05D15 UTC 10:02\n"
     ]
    },
    {
     "data": {
      "text/plain": [
       "'3.5.4 |Anaconda, Inc.| (default, Nov 20 2017, 18:44:38) \\n[GCC 7.2.0]'"
      ]
     },
     "execution_count": 3,
     "metadata": {},
     "output_type": "execute_result"
    }
   ],
   "source": [
    "import time, datetime, sys, logging\n",
    "dateString = time.strftime(\"Y%YM%mD%d\")\n",
    "timeString = time.strftime(\"UTC %H:%M\")\n",
    "start = datetime.datetime.now()\n",
    "print(dateString,timeString)\n",
    "sys.version"
   ]
  },
  {
   "cell_type": "code",
   "execution_count": 4,
   "metadata": {
    "collapsed": true
   },
   "outputs": [],
   "source": [
    "import ee\n",
    "import aqueduct3\n",
    "ee.Initialize()"
   ]
  },
  {
   "cell_type": "code",
   "execution_count": 5,
   "metadata": {
    "collapsed": true
   },
   "outputs": [],
   "source": [
    "i_hybas_lev06_v1c_merged_fiona_5min = ee.Image(ZONES5MIN_EE_ASSET_ID)\n",
    "i_ldd_5min = ee.Image(LDD_EE_ASSET_ID)\n",
    "i_endosinks_5min = ee.Image(ENDOSINKS_EE_ASSET_ID)"
   ]
  },
  {
   "cell_type": "code",
   "execution_count": null,
   "metadata": {
    "collapsed": true
   },
   "outputs": [],
   "source": []
  }
 ],
 "metadata": {
  "kernelspec": {
   "display_name": "Python 35",
   "language": "python",
   "name": "python35"
  },
  "language_info": {
   "codemirror_mode": {
    "name": "ipython",
    "version": 3
   },
   "file_extension": ".py",
   "mimetype": "text/x-python",
   "name": "python",
   "nbconvert_exporter": "python",
   "pygments_lexer": "ipython3",
   "version": "3.5.4"
  }
 },
 "nbformat": 4,
 "nbformat_minor": 2
}
