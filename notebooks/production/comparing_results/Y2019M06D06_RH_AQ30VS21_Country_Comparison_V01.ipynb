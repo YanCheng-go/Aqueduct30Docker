{
 "cells": [
  {
   "cell_type": "code",
   "execution_count": 1,
   "metadata": {},
   "outputs": [
    {
     "name": "stdout",
     "output_type": "stream",
     "text": [
      "S3_INPUT_PATH_AQ30: s3://wri-projects/Aqueduct30/finalData/Y2019M04D15_RH_GA_Aqueduct_Results_V01/output_V03 S3_INPUT_PATH_AQ21: s3://wri-projects/Aqueduct30/processData/Y2019M06D06_RH_AQ21_Country_Rankings_Simple_V01/output_V01 \n",
      "ec2_input_path: /volumes/data/Y2019M06D06_RH_AQ30VS21_Country_Comparison_V01/input_V01\n",
      "ec2_output_path: /volumes/data/Y2019M06D06_RH_AQ30VS21_Country_Comparison_V01/output_V01\n",
      "s3_output_path: s3://wri-projects/Aqueduct30/Aq30vs21/Y2019M06D06_RH_AQ30VS21_Country_Comparison_V01/output_V01/\n"
     ]
    }
   ],
   "source": [
    "\"\"\" Compare country aggregations, create charts and combined database.\n",
    "-------------------------------------------------------------------------------\n",
    "\n",
    "Author: Rutger Hofste\n",
    "Date: 20190606\n",
    "Kernel: python35\n",
    "Docker: rutgerhofste/gisdocker:ubuntu16.04\n",
    "\n",
    "\"\"\"\n",
    "\n",
    "SCRIPT_NAME = \"Y2019M06D06_RH_AQ30VS21_Country_Comparison_V01\"\n",
    "OUTPUT_VERSION = 1\n",
    "\n",
    "S3_INPUT_PATH_AQ30 = \"s3://wri-projects/Aqueduct30/finalData/Y2019M04D15_RH_GA_Aqueduct_Results_V01/output_V03\"\n",
    "S3_INPUT_PATH_AQ21 = \"s3://wri-projects/Aqueduct30/processData/Y2019M06D06_RH_AQ21_Country_Rankings_Simple_V01/output_V01\"\n",
    "\n",
    "ec2_input_path = \"/volumes/data/{}/input_V{:02.0f}\".format(SCRIPT_NAME,OUTPUT_VERSION) \n",
    "ec2_output_path =  \"/volumes/data/{}/output_V{:02.0f}\".format(SCRIPT_NAME,OUTPUT_VERSION) \n",
    "\n",
    "s3_output_path = \"s3://wri-projects/Aqueduct30/Aq30vs21/{}/output_V{:02.0f}/\".format(SCRIPT_NAME,OUTPUT_VERSION)\n",
    "\n",
    "print(\"S3_INPUT_PATH_AQ30: \" + S3_INPUT_PATH_AQ30,\n",
    "      \"S3_INPUT_PATH_AQ21: \" + S3_INPUT_PATH_AQ21,\n",
    "      \"\\nec2_input_path: \" + ec2_input_path +\n",
    "      \"\\nec2_output_path: \" + ec2_output_path+ \n",
    "      \"\\ns3_output_path: \" + s3_output_path)"
   ]
  },
  {
   "cell_type": "markdown",
   "metadata": {},
   "source": [
    "## Pre-Processing\n",
    "\n",
    "Before the country ranking of Aqueduct could be loaded as a .csv, a few edits were made. \n",
    "\n",
    "1. Download the data in excel format\n",
    "1. Copy sheet baseline water stress to new excel file\n",
    "1. Delete column \"hist\"\n",
    "1. Add column with ADM03 codes (taken from AQ30 data)\n",
    "1. Add column new_name to match the GADM country names\n",
    "1. Upload to S3://s3://wri-projects/Aqueduct30/processData/Y2019M06D06_RH_AQ21_Country_Rankings_Simple_V01/output_V01/\n",
    "\n"
   ]
  },
  {
   "cell_type": "code",
   "execution_count": 2,
   "metadata": {},
   "outputs": [
    {
     "name": "stdout",
     "output_type": "stream",
     "text": [
      "Y2019M06D10 UTC 20:41\n"
     ]
    },
    {
     "data": {
      "text/plain": [
       "'3.5.4 |Anaconda, Inc.| (default, Nov 20 2017, 18:44:38) \\n[GCC 7.2.0]'"
      ]
     },
     "execution_count": 2,
     "metadata": {},
     "output_type": "execute_result"
    }
   ],
   "source": [
    "import time, datetime, sys\n",
    "dateString = time.strftime(\"Y%YM%mD%d\")\n",
    "timeString = time.strftime(\"UTC %H:%M\")\n",
    "start = datetime.datetime.now()\n",
    "print(dateString,timeString)\n",
    "sys.version"
   ]
  },
  {
   "cell_type": "code",
   "execution_count": 3,
   "metadata": {},
   "outputs": [],
   "source": [
    "!rm -r {ec2_input_path}\n",
    "!rm -r {ec2_output_path}\n",
    "!mkdir -p {ec2_input_path}\n",
    "!mkdir -p {ec2_output_path}"
   ]
  },
  {
   "cell_type": "code",
   "execution_count": 4,
   "metadata": {},
   "outputs": [
    {
     "name": "stdout",
     "output_type": "stream",
     "text": [
      "download: s3://wri-projects/Aqueduct30/finalData/Y2019M04D15_RH_GA_Aqueduct_Results_V01/output_V03/Y2019M04D15_RH_GA_Aqueduct_Results_V01_country_V03.csv to ../../../../../data/Y2019M06D06_RH_AQ30VS21_Country_Comparison_V01/input_V01/Y2019M04D15_RH_GA_Aqueduct_Results_V01_country_V03.csv\n",
      "download: s3://wri-projects/Aqueduct30/finalData/Y2019M04D15_RH_GA_Aqueduct_Results_V01/output_V03/Y2019M04D15_RH_GA_Aqueduct_Results_V01_province_V03.csv to ../../../../../data/Y2019M06D06_RH_AQ30VS21_Country_Comparison_V01/input_V01/Y2019M04D15_RH_GA_Aqueduct_Results_V01_province_V03.csv\n"
     ]
    }
   ],
   "source": [
    "!aws s3 cp {S3_INPUT_PATH_AQ30} {ec2_input_path} --recursive"
   ]
  },
  {
   "cell_type": "code",
   "execution_count": 5,
   "metadata": {},
   "outputs": [
    {
     "name": "stdout",
     "output_type": "stream",
     "text": [
      "download: s3://wri-projects/Aqueduct30/processData/Y2019M06D06_RH_AQ21_Country_Rankings_Simple_V01/output_V01/readme.txt to ../../../../../data/Y2019M06D06_RH_AQ30VS21_Country_Comparison_V01/input_V01/readme.txt\n",
      "download: s3://wri-projects/Aqueduct30/processData/Y2019M06D06_RH_AQ21_Country_Rankings_Simple_V01/output_V01/country_lookup_GADM_level0.csv to ../../../../../data/Y2019M06D06_RH_AQ30VS21_Country_Comparison_V01/input_V01/country_lookup_GADM_level0.csv\n",
      "download: s3://wri-projects/Aqueduct30/processData/Y2019M06D06_RH_AQ21_Country_Rankings_Simple_V01/output_V01/Y2019M06D06_RH_AQ21_Country_Rankings_Simple_V01.csv to ../../../../../data/Y2019M06D06_RH_AQ30VS21_Country_Comparison_V01/input_V01/Y2019M06D06_RH_AQ21_Country_Rankings_Simple_V01.csv\n",
      "download: s3://wri-projects/Aqueduct30/processData/Y2019M06D06_RH_AQ21_Country_Rankings_Simple_V01/output_V01/Y2019M06D06_RH_AQ21_Country_Rankings_Simple_V01.xlsx to ../../../../../data/Y2019M06D06_RH_AQ30VS21_Country_Comparison_V01/input_V01/Y2019M06D06_RH_AQ21_Country_Rankings_Simple_V01.xlsx\n"
     ]
    }
   ],
   "source": [
    "!aws s3 cp {S3_INPUT_PATH_AQ21} {ec2_input_path} --recursive"
   ]
  },
  {
   "cell_type": "code",
   "execution_count": 6,
   "metadata": {
    "collapsed": true
   },
   "outputs": [],
   "source": [
    "import os\n",
    "import pandas as pd"
   ]
  },
  {
   "cell_type": "code",
   "execution_count": 7,
   "metadata": {},
   "outputs": [
    {
     "data": {
      "text/plain": [
       "['Y2019M04D15_RH_GA_Aqueduct_Results_V01_province_V03.csv',\n",
       " 'readme.txt',\n",
       " 'Y2019M06D06_RH_AQ21_Country_Rankings_Simple_V01.xlsx',\n",
       " 'Y2019M06D06_RH_AQ21_Country_Rankings_Simple_V01.csv',\n",
       " 'country_lookup_GADM_level0.csv',\n",
       " 'Y2019M04D15_RH_GA_Aqueduct_Results_V01_country_V03.csv']"
      ]
     },
     "execution_count": 7,
     "metadata": {},
     "output_type": "execute_result"
    }
   ],
   "source": [
    "os.listdir(ec2_input_path)"
   ]
  },
  {
   "cell_type": "code",
   "execution_count": 8,
   "metadata": {
    "collapsed": true
   },
   "outputs": [],
   "source": [
    "aq21_input_filename = \"Y2019M06D06_RH_AQ21_Country_Rankings_Simple_V01.csv\"\n",
    "aq30_input_filename = \"Y2019M04D15_RH_GA_Aqueduct_Results_V01_country_V03.csv\""
   ]
  },
  {
   "cell_type": "code",
   "execution_count": 9,
   "metadata": {
    "collapsed": true
   },
   "outputs": [],
   "source": [
    "df_aq21_og = pd.read_csv(\"{}/{}\".format(ec2_input_path,aq21_input_filename))"
   ]
  },
  {
   "cell_type": "code",
   "execution_count": 10,
   "metadata": {},
   "outputs": [
    {
     "data": {
      "text/html": [
       "<div>\n",
       "<style scoped>\n",
       "    .dataframe tbody tr th:only-of-type {\n",
       "        vertical-align: middle;\n",
       "    }\n",
       "\n",
       "    .dataframe tbody tr th {\n",
       "        vertical-align: top;\n",
       "    }\n",
       "\n",
       "    .dataframe thead th {\n",
       "        text-align: right;\n",
       "    }\n",
       "</style>\n",
       "<table border=\"1\" class=\"dataframe\">\n",
       "  <thead>\n",
       "    <tr style=\"text-align: right;\">\n",
       "      <th></th>\n",
       "      <th>Rank</th>\n",
       "      <th>original_name</th>\n",
       "      <th>new_name</th>\n",
       "      <th>All sectors</th>\n",
       "      <th>sd</th>\n",
       "      <th>nodata</th>\n",
       "      <th>0</th>\n",
       "      <th>5</th>\n",
       "      <th>1</th>\n",
       "      <th>15</th>\n",
       "      <th>2</th>\n",
       "      <th>25</th>\n",
       "      <th>3</th>\n",
       "      <th>35</th>\n",
       "      <th>4</th>\n",
       "      <th>45</th>\n",
       "      <th>Agricultural</th>\n",
       "      <th>Domestic</th>\n",
       "      <th>Industrial</th>\n",
       "      <th>aq30_gid_0</th>\n",
       "    </tr>\n",
       "  </thead>\n",
       "  <tbody>\n",
       "    <tr>\n",
       "      <th>0</th>\n",
       "      <td>1</td>\n",
       "      <td>Western Sahara</td>\n",
       "      <td>Western Sahara</td>\n",
       "      <td>5.0</td>\n",
       "      <td>0.0</td>\n",
       "      <td>0.0</td>\n",
       "      <td>0.0</td>\n",
       "      <td>0.0</td>\n",
       "      <td>0.0</td>\n",
       "      <td>0.0</td>\n",
       "      <td>0.0</td>\n",
       "      <td>0.0</td>\n",
       "      <td>0.0</td>\n",
       "      <td>0.0</td>\n",
       "      <td>0.0</td>\n",
       "      <td>6.427000e+03</td>\n",
       "      <td>NaN</td>\n",
       "      <td>5.0</td>\n",
       "      <td>NaN</td>\n",
       "      <td>ESH</td>\n",
       "    </tr>\n",
       "    <tr>\n",
       "      <th>1</th>\n",
       "      <td>1</td>\n",
       "      <td>United Arab Emirates</td>\n",
       "      <td>United Arab Emirates</td>\n",
       "      <td>5.0</td>\n",
       "      <td>0.0</td>\n",
       "      <td>0.0</td>\n",
       "      <td>0.0</td>\n",
       "      <td>0.0</td>\n",
       "      <td>0.0</td>\n",
       "      <td>0.0</td>\n",
       "      <td>0.0</td>\n",
       "      <td>0.0</td>\n",
       "      <td>0.0</td>\n",
       "      <td>0.0</td>\n",
       "      <td>0.0</td>\n",
       "      <td>5.566039e+09</td>\n",
       "      <td>5.0</td>\n",
       "      <td>5.0</td>\n",
       "      <td>5.0</td>\n",
       "      <td>ARE</td>\n",
       "    </tr>\n",
       "    <tr>\n",
       "      <th>2</th>\n",
       "      <td>1</td>\n",
       "      <td>Trinidad and Tobago</td>\n",
       "      <td>Trinidad and Tobago</td>\n",
       "      <td>5.0</td>\n",
       "      <td>0.0</td>\n",
       "      <td>0.0</td>\n",
       "      <td>0.0</td>\n",
       "      <td>0.0</td>\n",
       "      <td>0.0</td>\n",
       "      <td>0.0</td>\n",
       "      <td>0.0</td>\n",
       "      <td>0.0</td>\n",
       "      <td>0.0</td>\n",
       "      <td>0.0</td>\n",
       "      <td>0.0</td>\n",
       "      <td>3.144783e+08</td>\n",
       "      <td>5.0</td>\n",
       "      <td>5.0</td>\n",
       "      <td>5.0</td>\n",
       "      <td>TTO</td>\n",
       "    </tr>\n",
       "    <tr>\n",
       "      <th>3</th>\n",
       "      <td>1</td>\n",
       "      <td>Singapore</td>\n",
       "      <td>Singapore</td>\n",
       "      <td>5.0</td>\n",
       "      <td>0.0</td>\n",
       "      <td>0.0</td>\n",
       "      <td>0.0</td>\n",
       "      <td>0.0</td>\n",
       "      <td>0.0</td>\n",
       "      <td>0.0</td>\n",
       "      <td>0.0</td>\n",
       "      <td>0.0</td>\n",
       "      <td>0.0</td>\n",
       "      <td>0.0</td>\n",
       "      <td>0.0</td>\n",
       "      <td>2.570737e+09</td>\n",
       "      <td>NaN</td>\n",
       "      <td>5.0</td>\n",
       "      <td>5.0</td>\n",
       "      <td>SGP</td>\n",
       "    </tr>\n",
       "    <tr>\n",
       "      <th>4</th>\n",
       "      <td>1</td>\n",
       "      <td>San Marino</td>\n",
       "      <td>San Marino</td>\n",
       "      <td>5.0</td>\n",
       "      <td>0.0</td>\n",
       "      <td>0.0</td>\n",
       "      <td>0.0</td>\n",
       "      <td>0.0</td>\n",
       "      <td>0.0</td>\n",
       "      <td>0.0</td>\n",
       "      <td>0.0</td>\n",
       "      <td>0.0</td>\n",
       "      <td>0.0</td>\n",
       "      <td>0.0</td>\n",
       "      <td>0.0</td>\n",
       "      <td>9.013884e+08</td>\n",
       "      <td>5.0</td>\n",
       "      <td>5.0</td>\n",
       "      <td>5.0</td>\n",
       "      <td>SMR</td>\n",
       "    </tr>\n",
       "  </tbody>\n",
       "</table>\n",
       "</div>"
      ],
      "text/plain": [
       "   Rank         original_name              new_name  All sectors   sd  nodata  \\\n",
       "0     1        Western Sahara        Western Sahara          5.0  0.0     0.0   \n",
       "1     1  United Arab Emirates  United Arab Emirates          5.0  0.0     0.0   \n",
       "2     1   Trinidad and Tobago   Trinidad and Tobago          5.0  0.0     0.0   \n",
       "3     1             Singapore             Singapore          5.0  0.0     0.0   \n",
       "4     1            San Marino            San Marino          5.0  0.0     0.0   \n",
       "\n",
       "     0    5    1   15    2   25    3   35    4            45  Agricultural  \\\n",
       "0  0.0  0.0  0.0  0.0  0.0  0.0  0.0  0.0  0.0  6.427000e+03           NaN   \n",
       "1  0.0  0.0  0.0  0.0  0.0  0.0  0.0  0.0  0.0  5.566039e+09           5.0   \n",
       "2  0.0  0.0  0.0  0.0  0.0  0.0  0.0  0.0  0.0  3.144783e+08           5.0   \n",
       "3  0.0  0.0  0.0  0.0  0.0  0.0  0.0  0.0  0.0  2.570737e+09           NaN   \n",
       "4  0.0  0.0  0.0  0.0  0.0  0.0  0.0  0.0  0.0  9.013884e+08           5.0   \n",
       "\n",
       "   Domestic  Industrial aq30_gid_0  \n",
       "0       5.0         NaN        ESH  \n",
       "1       5.0         5.0        ARE  \n",
       "2       5.0         5.0        TTO  \n",
       "3       5.0         5.0        SGP  \n",
       "4       5.0         5.0        SMR  "
      ]
     },
     "execution_count": 10,
     "metadata": {},
     "output_type": "execute_result"
    }
   ],
   "source": [
    "df_aq21_og.head()"
   ]
  },
  {
   "cell_type": "code",
   "execution_count": 11,
   "metadata": {
    "collapsed": true
   },
   "outputs": [],
   "source": [
    "df_aq30_og = pd.read_csv(\"{}/{}\".format(ec2_input_path,aq30_input_filename))"
   ]
  },
  {
   "cell_type": "code",
   "execution_count": 12,
   "metadata": {},
   "outputs": [
    {
     "data": {
      "text/html": [
       "<div>\n",
       "<style scoped>\n",
       "    .dataframe tbody tr th:only-of-type {\n",
       "        vertical-align: middle;\n",
       "    }\n",
       "\n",
       "    .dataframe tbody tr th {\n",
       "        vertical-align: top;\n",
       "    }\n",
       "\n",
       "    .dataframe thead th {\n",
       "        text-align: right;\n",
       "    }\n",
       "</style>\n",
       "<table border=\"1\" class=\"dataframe\">\n",
       "  <thead>\n",
       "    <tr style=\"text-align: right;\">\n",
       "      <th></th>\n",
       "      <th>Unnamed: 0</th>\n",
       "      <th>gid_0</th>\n",
       "      <th>name_0</th>\n",
       "      <th>indicator_name</th>\n",
       "      <th>weight</th>\n",
       "      <th>score</th>\n",
       "      <th>score_ranked</th>\n",
       "      <th>cat</th>\n",
       "      <th>label</th>\n",
       "      <th>sum_weights</th>\n",
       "      <th>sum_weighted_indicator</th>\n",
       "      <th>count_valid</th>\n",
       "      <th>fraction_valid</th>\n",
       "    </tr>\n",
       "  </thead>\n",
       "  <tbody>\n",
       "    <tr>\n",
       "      <th>0</th>\n",
       "      <td>0</td>\n",
       "      <td>AFG</td>\n",
       "      <td>Afghanistan</td>\n",
       "      <td>bws</td>\n",
       "      <td>One</td>\n",
       "      <td>3.899118</td>\n",
       "      <td>29.0</td>\n",
       "      <td>3.0</td>\n",
       "      <td>High (40-80%)</td>\n",
       "      <td>903569.949020</td>\n",
       "      <td>3.523125e+06</td>\n",
       "      <td>919639.0</td>\n",
       "      <td>1.0</td>\n",
       "    </tr>\n",
       "    <tr>\n",
       "      <th>1</th>\n",
       "      <td>1</td>\n",
       "      <td>AFG</td>\n",
       "      <td>Afghanistan</td>\n",
       "      <td>bwd</td>\n",
       "      <td>One</td>\n",
       "      <td>2.905485</td>\n",
       "      <td>33.0</td>\n",
       "      <td>2.0</td>\n",
       "      <td>Medium - High (25-50%)</td>\n",
       "      <td>903569.949020</td>\n",
       "      <td>2.625309e+06</td>\n",
       "      <td>919639.0</td>\n",
       "      <td>1.0</td>\n",
       "    </tr>\n",
       "    <tr>\n",
       "      <th>2</th>\n",
       "      <td>2</td>\n",
       "      <td>AFG</td>\n",
       "      <td>Afghanistan</td>\n",
       "      <td>iav</td>\n",
       "      <td>One</td>\n",
       "      <td>2.395697</td>\n",
       "      <td>40.0</td>\n",
       "      <td>2.0</td>\n",
       "      <td>Medium - High (0.50-0.75)</td>\n",
       "      <td>903569.949020</td>\n",
       "      <td>2.164680e+06</td>\n",
       "      <td>919639.0</td>\n",
       "      <td>1.0</td>\n",
       "    </tr>\n",
       "    <tr>\n",
       "      <th>3</th>\n",
       "      <td>3</td>\n",
       "      <td>AFG</td>\n",
       "      <td>Afghanistan</td>\n",
       "      <td>sev</td>\n",
       "      <td>One</td>\n",
       "      <td>3.601233</td>\n",
       "      <td>4.0</td>\n",
       "      <td>3.0</td>\n",
       "      <td>High (1.00-1.33)</td>\n",
       "      <td>903569.949020</td>\n",
       "      <td>3.253966e+06</td>\n",
       "      <td>919639.0</td>\n",
       "      <td>1.0</td>\n",
       "    </tr>\n",
       "    <tr>\n",
       "      <th>4</th>\n",
       "      <td>4</td>\n",
       "      <td>AFG</td>\n",
       "      <td>Afghanistan</td>\n",
       "      <td>bws</td>\n",
       "      <td>Tot</td>\n",
       "      <td>3.798975</td>\n",
       "      <td>31.0</td>\n",
       "      <td>3.0</td>\n",
       "      <td>High (40-80%)</td>\n",
       "      <td>29393.117023</td>\n",
       "      <td>1.116637e+05</td>\n",
       "      <td>919639.0</td>\n",
       "      <td>1.0</td>\n",
       "    </tr>\n",
       "  </tbody>\n",
       "</table>\n",
       "</div>"
      ],
      "text/plain": [
       "   Unnamed: 0 gid_0       name_0 indicator_name weight     score  \\\n",
       "0           0   AFG  Afghanistan            bws    One  3.899118   \n",
       "1           1   AFG  Afghanistan            bwd    One  2.905485   \n",
       "2           2   AFG  Afghanistan            iav    One  2.395697   \n",
       "3           3   AFG  Afghanistan            sev    One  3.601233   \n",
       "4           4   AFG  Afghanistan            bws    Tot  3.798975   \n",
       "\n",
       "   score_ranked  cat                      label    sum_weights  \\\n",
       "0          29.0  3.0              High (40-80%)  903569.949020   \n",
       "1          33.0  2.0     Medium - High (25-50%)  903569.949020   \n",
       "2          40.0  2.0  Medium - High (0.50-0.75)  903569.949020   \n",
       "3           4.0  3.0           High (1.00-1.33)  903569.949020   \n",
       "4          31.0  3.0              High (40-80%)   29393.117023   \n",
       "\n",
       "   sum_weighted_indicator  count_valid  fraction_valid  \n",
       "0            3.523125e+06     919639.0             1.0  \n",
       "1            2.625309e+06     919639.0             1.0  \n",
       "2            2.164680e+06     919639.0             1.0  \n",
       "3            3.253966e+06     919639.0             1.0  \n",
       "4            1.116637e+05     919639.0             1.0  "
      ]
     },
     "execution_count": 12,
     "metadata": {},
     "output_type": "execute_result"
    }
   ],
   "source": [
    "df_aq30_og.head()"
   ]
  },
  {
   "cell_type": "code",
   "execution_count": 13,
   "metadata": {
    "collapsed": true
   },
   "outputs": [],
   "source": [
    "def pre_process_aq21(df):\n",
    "    df_sel = df[[\"Rank\",\"aq30_gid_0\",\"new_name\",\"All sectors\",\"Agricultural\",\"Domestic\" ,\"Industrial\"]]\n",
    "    df_sel.rename(columns={\"Rank\":\"aq21_rank\",\n",
    "                           \"new_name\":\"country_name\",\n",
    "                           \"All sectors\":\"bws_s_aq21_tot\",\n",
    "                           \"Agricultural\":\"bws_s_aq21_agg\",\n",
    "                           \"Domestic\":\"bws_s_aq21_dom\",\n",
    "                           \"Industrial\":\"bws_s_aq21_ind\"},\n",
    "                 inplace=True)\n",
    "    return df_sel\n",
    "\n",
    "def pre_process_aq30(df):\n",
    "    df_sel = df.loc[(df[\"indicator_name\"]==\"bws\") & (df[\"weight\"]==\"Tot\")]\n",
    "    df_sel.rename(columns={\"score\":\"bws_s_aq30_tot\",\n",
    "                           \"score_ranked\":\"aq30_rank\"},\n",
    "                 inplace=True)\n",
    "    \n",
    "    df_sel = df_sel[[\"gid_0\",\"name_0\",\"bws_s_aq30_tot\",\"aq30_rank\",\"fraction_valid\"]]\n",
    "    return df_sel"
   ]
  },
  {
   "cell_type": "code",
   "execution_count": 14,
   "metadata": {},
   "outputs": [
    {
     "name": "stderr",
     "output_type": "stream",
     "text": [
      "/opt/anaconda3/envs/python35/lib/python3.5/site-packages/pandas/core/frame.py:3027: SettingWithCopyWarning: \n",
      "A value is trying to be set on a copy of a slice from a DataFrame\n",
      "\n",
      "See the caveats in the documentation: http://pandas.pydata.org/pandas-docs/stable/indexing.html#indexing-view-versus-copy\n",
      "  return super(DataFrame, self).rename(**kwargs)\n"
     ]
    }
   ],
   "source": [
    "df_aq21 = pre_process_aq21(df_aq21_og)"
   ]
  },
  {
   "cell_type": "code",
   "execution_count": 15,
   "metadata": {},
   "outputs": [
    {
     "data": {
      "text/html": [
       "<div>\n",
       "<style scoped>\n",
       "    .dataframe tbody tr th:only-of-type {\n",
       "        vertical-align: middle;\n",
       "    }\n",
       "\n",
       "    .dataframe tbody tr th {\n",
       "        vertical-align: top;\n",
       "    }\n",
       "\n",
       "    .dataframe thead th {\n",
       "        text-align: right;\n",
       "    }\n",
       "</style>\n",
       "<table border=\"1\" class=\"dataframe\">\n",
       "  <thead>\n",
       "    <tr style=\"text-align: right;\">\n",
       "      <th></th>\n",
       "      <th>aq21_rank</th>\n",
       "      <th>aq30_gid_0</th>\n",
       "      <th>country_name</th>\n",
       "      <th>bws_s_aq21_tot</th>\n",
       "      <th>bws_s_aq21_agg</th>\n",
       "      <th>bws_s_aq21_dom</th>\n",
       "      <th>bws_s_aq21_ind</th>\n",
       "    </tr>\n",
       "  </thead>\n",
       "  <tbody>\n",
       "    <tr>\n",
       "      <th>0</th>\n",
       "      <td>1</td>\n",
       "      <td>ESH</td>\n",
       "      <td>Western Sahara</td>\n",
       "      <td>5.0</td>\n",
       "      <td>NaN</td>\n",
       "      <td>5.0</td>\n",
       "      <td>NaN</td>\n",
       "    </tr>\n",
       "    <tr>\n",
       "      <th>1</th>\n",
       "      <td>1</td>\n",
       "      <td>ARE</td>\n",
       "      <td>United Arab Emirates</td>\n",
       "      <td>5.0</td>\n",
       "      <td>5.0</td>\n",
       "      <td>5.0</td>\n",
       "      <td>5.0</td>\n",
       "    </tr>\n",
       "    <tr>\n",
       "      <th>2</th>\n",
       "      <td>1</td>\n",
       "      <td>TTO</td>\n",
       "      <td>Trinidad and Tobago</td>\n",
       "      <td>5.0</td>\n",
       "      <td>5.0</td>\n",
       "      <td>5.0</td>\n",
       "      <td>5.0</td>\n",
       "    </tr>\n",
       "    <tr>\n",
       "      <th>3</th>\n",
       "      <td>1</td>\n",
       "      <td>SGP</td>\n",
       "      <td>Singapore</td>\n",
       "      <td>5.0</td>\n",
       "      <td>NaN</td>\n",
       "      <td>5.0</td>\n",
       "      <td>5.0</td>\n",
       "    </tr>\n",
       "    <tr>\n",
       "      <th>4</th>\n",
       "      <td>1</td>\n",
       "      <td>SMR</td>\n",
       "      <td>San Marino</td>\n",
       "      <td>5.0</td>\n",
       "      <td>5.0</td>\n",
       "      <td>5.0</td>\n",
       "      <td>5.0</td>\n",
       "    </tr>\n",
       "  </tbody>\n",
       "</table>\n",
       "</div>"
      ],
      "text/plain": [
       "   aq21_rank aq30_gid_0          country_name  bws_s_aq21_tot  bws_s_aq21_agg  \\\n",
       "0          1        ESH        Western Sahara             5.0             NaN   \n",
       "1          1        ARE  United Arab Emirates             5.0             5.0   \n",
       "2          1        TTO   Trinidad and Tobago             5.0             5.0   \n",
       "3          1        SGP             Singapore             5.0             NaN   \n",
       "4          1        SMR            San Marino             5.0             5.0   \n",
       "\n",
       "   bws_s_aq21_dom  bws_s_aq21_ind  \n",
       "0             5.0             NaN  \n",
       "1             5.0             5.0  \n",
       "2             5.0             5.0  \n",
       "3             5.0             5.0  \n",
       "4             5.0             5.0  "
      ]
     },
     "execution_count": 15,
     "metadata": {},
     "output_type": "execute_result"
    }
   ],
   "source": [
    "df_aq21.head()"
   ]
  },
  {
   "cell_type": "code",
   "execution_count": 16,
   "metadata": {},
   "outputs": [
    {
     "name": "stderr",
     "output_type": "stream",
     "text": [
      "/opt/anaconda3/envs/python35/lib/python3.5/site-packages/pandas/core/frame.py:3027: SettingWithCopyWarning: \n",
      "A value is trying to be set on a copy of a slice from a DataFrame\n",
      "\n",
      "See the caveats in the documentation: http://pandas.pydata.org/pandas-docs/stable/indexing.html#indexing-view-versus-copy\n",
      "  return super(DataFrame, self).rename(**kwargs)\n"
     ]
    }
   ],
   "source": [
    "df_aq30 = pre_process_aq30(df_aq30_og)"
   ]
  },
  {
   "cell_type": "code",
   "execution_count": 17,
   "metadata": {
    "collapsed": true
   },
   "outputs": [],
   "source": [
    "df_bws_aq30vs21 = df_aq21.merge(right=df_aq30,\n",
    "                                how=\"inner\",\n",
    "                                left_on=\"aq30_gid_0\",\n",
    "                                right_on=\"gid_0\")"
   ]
  },
  {
   "cell_type": "code",
   "execution_count": 18,
   "metadata": {},
   "outputs": [
    {
     "data": {
      "text/html": [
       "<div>\n",
       "<style scoped>\n",
       "    .dataframe tbody tr th:only-of-type {\n",
       "        vertical-align: middle;\n",
       "    }\n",
       "\n",
       "    .dataframe tbody tr th {\n",
       "        vertical-align: top;\n",
       "    }\n",
       "\n",
       "    .dataframe thead th {\n",
       "        text-align: right;\n",
       "    }\n",
       "</style>\n",
       "<table border=\"1\" class=\"dataframe\">\n",
       "  <thead>\n",
       "    <tr style=\"text-align: right;\">\n",
       "      <th></th>\n",
       "      <th>aq21_rank</th>\n",
       "      <th>aq30_gid_0</th>\n",
       "      <th>country_name</th>\n",
       "      <th>bws_s_aq21_tot</th>\n",
       "      <th>bws_s_aq21_agg</th>\n",
       "      <th>bws_s_aq21_dom</th>\n",
       "      <th>bws_s_aq21_ind</th>\n",
       "      <th>gid_0</th>\n",
       "      <th>name_0</th>\n",
       "      <th>bws_s_aq30_tot</th>\n",
       "      <th>aq30_rank</th>\n",
       "      <th>fraction_valid</th>\n",
       "    </tr>\n",
       "  </thead>\n",
       "  <tbody>\n",
       "    <tr>\n",
       "      <th>0</th>\n",
       "      <td>1</td>\n",
       "      <td>ESH</td>\n",
       "      <td>Western Sahara</td>\n",
       "      <td>5.0</td>\n",
       "      <td>NaN</td>\n",
       "      <td>5.0</td>\n",
       "      <td>NaN</td>\n",
       "      <td>ESH</td>\n",
       "      <td>Western Sahara</td>\n",
       "      <td>2.545013</td>\n",
       "      <td>59.0</td>\n",
       "      <td>0.999726</td>\n",
       "    </tr>\n",
       "    <tr>\n",
       "      <th>1</th>\n",
       "      <td>1</td>\n",
       "      <td>ARE</td>\n",
       "      <td>United Arab Emirates</td>\n",
       "      <td>5.0</td>\n",
       "      <td>5.0</td>\n",
       "      <td>5.0</td>\n",
       "      <td>5.0</td>\n",
       "      <td>ARE</td>\n",
       "      <td>United Arab Emirates</td>\n",
       "      <td>4.258251</td>\n",
       "      <td>12.0</td>\n",
       "      <td>0.993239</td>\n",
       "    </tr>\n",
       "    <tr>\n",
       "      <th>2</th>\n",
       "      <td>1</td>\n",
       "      <td>TTO</td>\n",
       "      <td>Trinidad and Tobago</td>\n",
       "      <td>5.0</td>\n",
       "      <td>5.0</td>\n",
       "      <td>5.0</td>\n",
       "      <td>5.0</td>\n",
       "      <td>TTO</td>\n",
       "      <td>Trinidad and Tobago</td>\n",
       "      <td>0.631979</td>\n",
       "      <td>134.0</td>\n",
       "      <td>0.995830</td>\n",
       "    </tr>\n",
       "    <tr>\n",
       "      <th>3</th>\n",
       "      <td>1</td>\n",
       "      <td>SGP</td>\n",
       "      <td>Singapore</td>\n",
       "      <td>5.0</td>\n",
       "      <td>NaN</td>\n",
       "      <td>5.0</td>\n",
       "      <td>5.0</td>\n",
       "      <td>SGP</td>\n",
       "      <td>Singapore</td>\n",
       "      <td>0.010088</td>\n",
       "      <td>176.0</td>\n",
       "      <td>0.964865</td>\n",
       "    </tr>\n",
       "    <tr>\n",
       "      <th>4</th>\n",
       "      <td>1</td>\n",
       "      <td>SMR</td>\n",
       "      <td>San Marino</td>\n",
       "      <td>5.0</td>\n",
       "      <td>5.0</td>\n",
       "      <td>5.0</td>\n",
       "      <td>5.0</td>\n",
       "      <td>SMR</td>\n",
       "      <td>San Marino</td>\n",
       "      <td>4.137027</td>\n",
       "      <td>13.0</td>\n",
       "      <td>1.000000</td>\n",
       "    </tr>\n",
       "  </tbody>\n",
       "</table>\n",
       "</div>"
      ],
      "text/plain": [
       "   aq21_rank aq30_gid_0          country_name  bws_s_aq21_tot  bws_s_aq21_agg  \\\n",
       "0          1        ESH        Western Sahara             5.0             NaN   \n",
       "1          1        ARE  United Arab Emirates             5.0             5.0   \n",
       "2          1        TTO   Trinidad and Tobago             5.0             5.0   \n",
       "3          1        SGP             Singapore             5.0             NaN   \n",
       "4          1        SMR            San Marino             5.0             5.0   \n",
       "\n",
       "   bws_s_aq21_dom  bws_s_aq21_ind gid_0                name_0  bws_s_aq30_tot  \\\n",
       "0             5.0             NaN   ESH        Western Sahara        2.545013   \n",
       "1             5.0             5.0   ARE  United Arab Emirates        4.258251   \n",
       "2             5.0             5.0   TTO   Trinidad and Tobago        0.631979   \n",
       "3             5.0             5.0   SGP             Singapore        0.010088   \n",
       "4             5.0             5.0   SMR            San Marino        4.137027   \n",
       "\n",
       "   aq30_rank  fraction_valid  \n",
       "0       59.0        0.999726  \n",
       "1       12.0        0.993239  \n",
       "2      134.0        0.995830  \n",
       "3      176.0        0.964865  \n",
       "4       13.0        1.000000  "
      ]
     },
     "execution_count": 18,
     "metadata": {},
     "output_type": "execute_result"
    }
   ],
   "source": [
    "df_bws_aq30vs21.head()"
   ]
  },
  {
   "cell_type": "code",
   "execution_count": 19,
   "metadata": {
    "collapsed": true
   },
   "outputs": [],
   "source": [
    "df_bws_aq30vs21 = df_bws_aq30vs21[[\"gid_0\",\"name_0\",\"bws_s_aq21_tot\",\"bws_s_aq30_tot\",\"aq21_rank\",\"aq30_rank\",\"fraction_valid\"]]"
   ]
  },
  {
   "cell_type": "code",
   "execution_count": 20,
   "metadata": {
    "collapsed": true
   },
   "outputs": [],
   "source": [
    "output_filename = \"Y2019M06D06_RH_AQ30VS21_Country_Comparison_V01.csv\"\n",
    "output_path = \"{}/{}\".format(ec2_output_path,output_filename)"
   ]
  },
  {
   "cell_type": "code",
   "execution_count": 21,
   "metadata": {},
   "outputs": [],
   "source": [
    "df_bws_aq30vs21.to_csv(path_or_buf=output_path)"
   ]
  },
  {
   "cell_type": "code",
   "execution_count": 22,
   "metadata": {},
   "outputs": [
    {
     "name": "stdout",
     "output_type": "stream",
     "text": [
      "Completed 11.8 KiB/11.8 KiB (21.8 KiB/s) with 1 file(s) remaining\r",
      "upload: ../../../../../data/Y2019M06D06_RH_AQ30VS21_Country_Comparison_V01/output_V01/Y2019M06D06_RH_AQ30VS21_Country_Comparison_V01.csv to s3://wri-projects/Aqueduct30/Aq30vs21/Y2019M06D06_RH_AQ30VS21_Country_Comparison_V01/output_V01/Y2019M06D06_RH_AQ30VS21_Country_Comparison_V01.csv\r\n"
     ]
    }
   ],
   "source": [
    "!aws s3 cp {ec2_output_path} {s3_output_path} --recursive"
   ]
  },
  {
   "cell_type": "code",
   "execution_count": 23,
   "metadata": {},
   "outputs": [
    {
     "name": "stdout",
     "output_type": "stream",
     "text": [
      "0:00:07.420414\n"
     ]
    }
   ],
   "source": [
    "end = datetime.datetime.now()\n",
    "elapsed = end - start\n",
    "print(elapsed)"
   ]
  },
  {
   "cell_type": "markdown",
   "metadata": {},
   "source": [
    "previous run:  \n",
    "0:00:07.447482\n"
   ]
  }
 ],
 "metadata": {
  "kernelspec": {
   "display_name": "Python 35",
   "language": "python",
   "name": "python35"
  },
  "language_info": {
   "codemirror_mode": {
    "name": "ipython",
    "version": 3
   },
   "file_extension": ".py",
   "mimetype": "text/x-python",
   "name": "python",
   "nbconvert_exporter": "python",
   "pygments_lexer": "ipython3",
   "version": "3.5.4"
  }
 },
 "nbformat": 4,
 "nbformat_minor": 2
}
