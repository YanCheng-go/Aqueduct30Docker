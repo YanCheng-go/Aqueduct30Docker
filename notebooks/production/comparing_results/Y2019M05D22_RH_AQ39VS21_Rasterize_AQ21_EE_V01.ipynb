{
 "cells": [
  {
   "cell_type": "code",
   "execution_count": 1,
   "metadata": {},
   "outputs": [
    {
     "name": "stdout",
     "output_type": "stream",
     "text": [
      "\n",
      "GCS_OUTPUT_PATH: gs://aqueduct30_v01/Y2019M05D22_RH_AQ39VS21_Rasterize_AQ21_EE_V01/\n"
     ]
    }
   ],
   "source": [
    "\"\"\" Rasterize Aqueduct 21 and store to Google Cloud Storage.\n",
    "-------------------------------------------------------------------------------\n",
    "\n",
    "Author: Rutger Hofste\n",
    "Date: 20190522\n",
    "Kernel: python35\n",
    "Docker: rutgerhofste/gisdocker:ubuntu16.04\n",
    "\n",
    "\"\"\"\n",
    "\n",
    "TESTING = 0\n",
    "\n",
    "SCRIPT_NAME = \"Y2019M05D22_RH_AQ39VS21_Rasterize_AQ21_EE_V01\"\n",
    "OUTPUT_VERSION = 2\n",
    "\n",
    "\n",
    "GDAL_RASTERIZE_PATH = \"/opt/anaconda3/envs/python35/bin/gdal_rasterize\"\n",
    "X_DIMENSION_30S = 43200\n",
    "Y_DIMENSION_30S = 21600\n",
    "\n",
    "S3_TABLE_INPUT_PATH = \"s3://wri-projects/Aqueduct2x/Aqueduct21Data/aqueduct_global_maps_21_shp\"\n",
    "TABLE_INPUT_FILE_NAME = \"aqueduct_global_dl_20150409.shp\"\n",
    "\n",
    "ec2_input_path = \"/volumes/data/{}/input_V{:02.0f}\".format(SCRIPT_NAME,OUTPUT_VERSION) \n",
    "ec2_output_path =  \"/volumes/data/{}/output_V{:02.0f}\".format(SCRIPT_NAME,OUTPUT_VERSION) \n",
    "\n",
    "GCS_OUTPUT_PATH = \"gs://aqueduct30_v01/{}/\".format(SCRIPT_NAME)\n",
    "\n",
    "\n",
    "INDICATORS = {\"owr_score\":\"DEFAULT\",\n",
    "              \"bws_score\":\"BWS_s\",\n",
    "              \"iav_score\":\"WSV_s\",\n",
    "              \"sev_score\":\"SV_s\"}\n",
    "\n",
    "\n",
    "\n",
    "print(\"\\nGCS_OUTPUT_PATH: \" + GCS_OUTPUT_PATH)"
   ]
  },
  {
   "cell_type": "code",
   "execution_count": 2,
   "metadata": {},
   "outputs": [
    {
     "name": "stdout",
     "output_type": "stream",
     "text": [
      "Y2019M05D22 UTC 18:02\n"
     ]
    }
   ],
   "source": [
    "import time, datetime, sys\n",
    "dateString = time.strftime(\"Y%YM%mD%d\")\n",
    "timeString = time.strftime(\"UTC %H:%M\")\n",
    "start = datetime.datetime.now()\n",
    "print(dateString,timeString)\n",
    "sys.version\n",
    "\n",
    "%matplotlib inline"
   ]
  },
  {
   "cell_type": "code",
   "execution_count": 3,
   "metadata": {
    "collapsed": true
   },
   "outputs": [],
   "source": [
    "import os\n",
    "import subprocess\n",
    "import numpy as np\n",
    "import pandas as pd\n",
    "import geopandas as gpd"
   ]
  },
  {
   "cell_type": "code",
   "execution_count": 4,
   "metadata": {},
   "outputs": [
    {
     "name": "stdout",
     "output_type": "stream",
     "text": [
      "rm: cannot remove '/volumes/data/Y2019M05D22_RH_AQ39VS21_Rasterize_AQ21_EE_V01/input_V02': No such file or directory\n",
      "rm: cannot remove '/volumes/data/Y2019M05D22_RH_AQ39VS21_Rasterize_AQ21_EE_V01/output_V02': No such file or directory\n"
     ]
    }
   ],
   "source": [
    "!rm -r {ec2_input_path}\n",
    "!rm -r {ec2_output_path}\n",
    "!mkdir -p {ec2_input_path}\n",
    "!mkdir -p {ec2_output_path}"
   ]
  },
  {
   "cell_type": "code",
   "execution_count": 5,
   "metadata": {},
   "outputs": [
    {
     "name": "stdout",
     "output_type": "stream",
     "text": [
      "download: s3://wri-projects/Aqueduct2x/Aqueduct21Data/aqueduct_global_maps_21_shp/aqueduct_global_dl_20150409.cpg to ../../../../../data/Y2019M05D22_RH_AQ39VS21_Rasterize_AQ21_EE_V01/input_V02/aqueduct_global_dl_20150409.cpg\n",
      "download: s3://wri-projects/Aqueduct2x/Aqueduct21Data/aqueduct_global_maps_21_shp/aqueduct_global_dl_20150409.prj to ../../../../../data/Y2019M05D22_RH_AQ39VS21_Rasterize_AQ21_EE_V01/input_V02/aqueduct_global_dl_20150409.prj\n",
      "download: s3://wri-projects/Aqueduct2x/Aqueduct21Data/aqueduct_global_maps_21_shp/dictionary_20150409.xlsx to ../../../../../data/Y2019M05D22_RH_AQ39VS21_Rasterize_AQ21_EE_V01/input_V02/dictionary_20150409.xlsx\n",
      "download: s3://wri-projects/Aqueduct2x/Aqueduct21Data/aqueduct_global_maps_21_shp/aqueduct_global_dl_20150409.shp.xml to ../../../../../data/Y2019M05D22_RH_AQ39VS21_Rasterize_AQ21_EE_V01/input_V02/aqueduct_global_dl_20150409.shp.xml\n",
      "download: s3://wri-projects/Aqueduct2x/Aqueduct21Data/aqueduct_global_maps_21_shp/aqueduct_global_maps_21.pdf to ../../../../../data/Y2019M05D22_RH_AQ39VS21_Rasterize_AQ21_EE_V01/input_V02/aqueduct_global_maps_21.pdf\n",
      "download: s3://wri-projects/Aqueduct2x/Aqueduct21Data/aqueduct_global_maps_21_shp/aqueduct_global_dl_20150409.shx to ../../../../../data/Y2019M05D22_RH_AQ39VS21_Rasterize_AQ21_EE_V01/input_V02/aqueduct_global_dl_20150409.shx\n",
      "download: s3://wri-projects/Aqueduct2x/Aqueduct21Data/aqueduct_global_maps_21_shp/aqueduct_global_dl_20150409.dbf to ../../../../../data/Y2019M05D22_RH_AQ39VS21_Rasterize_AQ21_EE_V01/input_V02/aqueduct_global_dl_20150409.dbf\n",
      "download: s3://wri-projects/Aqueduct2x/Aqueduct21Data/aqueduct_global_maps_21_shp/aqueduct_global_dl_20150409.shp to ../../../../../data/Y2019M05D22_RH_AQ39VS21_Rasterize_AQ21_EE_V01/input_V02/aqueduct_global_dl_20150409.shp\n"
     ]
    }
   ],
   "source": [
    "!aws s3 cp {S3_TABLE_INPUT_PATH} {ec2_input_path} --recursive"
   ]
  },
  {
   "cell_type": "code",
   "execution_count": 6,
   "metadata": {
    "collapsed": true
   },
   "outputs": [],
   "source": [
    "table_input_path = \"{}/{}\".format(ec2_input_path,TABLE_INPUT_FILE_NAME)"
   ]
  },
  {
   "cell_type": "code",
   "execution_count": 7,
   "metadata": {
    "scrolled": true
   },
   "outputs": [],
   "source": [
    "gdf_geom = gpd.read_file(table_input_path)"
   ]
  },
  {
   "cell_type": "code",
   "execution_count": 8,
   "metadata": {},
   "outputs": [
    {
     "data": {
      "text/html": [
       "<div>\n",
       "<style scoped>\n",
       "    .dataframe tbody tr th:only-of-type {\n",
       "        vertical-align: middle;\n",
       "    }\n",
       "\n",
       "    .dataframe tbody tr th {\n",
       "        vertical-align: top;\n",
       "    }\n",
       "\n",
       "    .dataframe thead th {\n",
       "        text-align: right;\n",
       "    }\n",
       "</style>\n",
       "<table border=\"1\" class=\"dataframe\">\n",
       "  <thead>\n",
       "    <tr style=\"text-align: right;\">\n",
       "      <th></th>\n",
       "      <th>GU</th>\n",
       "      <th>Shape_Leng</th>\n",
       "      <th>Shape_Area</th>\n",
       "      <th>BasinID</th>\n",
       "      <th>COUNTRY</th>\n",
       "      <th>BASIN_NAME</th>\n",
       "      <th>WITHDRAWAL</th>\n",
       "      <th>CONSUMPTIO</th>\n",
       "      <th>BA</th>\n",
       "      <th>BWS</th>\n",
       "      <th>...</th>\n",
       "      <th>W_CHEM</th>\n",
       "      <th>W_POWER</th>\n",
       "      <th>W_MINE</th>\n",
       "      <th>W_OILGAS</th>\n",
       "      <th>DEF_PQUANT</th>\n",
       "      <th>W_AGR</th>\n",
       "      <th>W_FOODBV</th>\n",
       "      <th>W_TEX</th>\n",
       "      <th>OWR_cat</th>\n",
       "      <th>geometry</th>\n",
       "    </tr>\n",
       "  </thead>\n",
       "  <tbody>\n",
       "    <tr>\n",
       "      <th>0</th>\n",
       "      <td>1</td>\n",
       "      <td>0.559986</td>\n",
       "      <td>0.005929</td>\n",
       "      <td>439</td>\n",
       "      <td>Guinea Bissau</td>\n",
       "      <td></td>\n",
       "      <td>318530368.0</td>\n",
       "      <td>2.191088e+08</td>\n",
       "      <td>9.921439e+09</td>\n",
       "      <td>0.032105</td>\n",
       "      <td>...</td>\n",
       "      <td>2.882769</td>\n",
       "      <td>1.652696</td>\n",
       "      <td>2.817264</td>\n",
       "      <td>3.574223</td>\n",
       "      <td>0.953074</td>\n",
       "      <td>1.674275</td>\n",
       "      <td>2.102334</td>\n",
       "      <td>1.782311</td>\n",
       "      <td>Low to medium risk (1-2)</td>\n",
       "      <td>(POLYGON ((-14.75229565619014 12.6188368125272...</td>\n",
       "    </tr>\n",
       "    <tr>\n",
       "      <th>1</th>\n",
       "      <td>2</td>\n",
       "      <td>2.272372</td>\n",
       "      <td>0.099605</td>\n",
       "      <td>441</td>\n",
       "      <td>Guinea Bissau</td>\n",
       "      <td></td>\n",
       "      <td>14757104.0</td>\n",
       "      <td>5.604148e+06</td>\n",
       "      <td>5.116468e+09</td>\n",
       "      <td>0.002884</td>\n",
       "      <td>...</td>\n",
       "      <td>2.841154</td>\n",
       "      <td>1.564447</td>\n",
       "      <td>2.664640</td>\n",
       "      <td>3.529458</td>\n",
       "      <td>0.826442</td>\n",
       "      <td>1.600816</td>\n",
       "      <td>2.142925</td>\n",
       "      <td>1.746387</td>\n",
       "      <td>Low to medium risk (1-2)</td>\n",
       "      <td>(POLYGON ((-16.13767726797875 12.2940957333858...</td>\n",
       "    </tr>\n",
       "    <tr>\n",
       "      <th>2</th>\n",
       "      <td>3</td>\n",
       "      <td>0.610379</td>\n",
       "      <td>0.017086</td>\n",
       "      <td>444</td>\n",
       "      <td>Guinea</td>\n",
       "      <td>GEBA</td>\n",
       "      <td>34460596.0</td>\n",
       "      <td>1.764853e+07</td>\n",
       "      <td>9.535255e+09</td>\n",
       "      <td>0.003614</td>\n",
       "      <td>...</td>\n",
       "      <td>2.774803</td>\n",
       "      <td>1.551692</td>\n",
       "      <td>2.707415</td>\n",
       "      <td>3.352587</td>\n",
       "      <td>0.891978</td>\n",
       "      <td>1.582219</td>\n",
       "      <td>2.270701</td>\n",
       "      <td>1.773006</td>\n",
       "      <td>Low to medium risk (1-2)</td>\n",
       "      <td>POLYGON ((-13.56238156611261 12.66742547396541...</td>\n",
       "    </tr>\n",
       "    <tr>\n",
       "      <th>3</th>\n",
       "      <td>4</td>\n",
       "      <td>5.384966</td>\n",
       "      <td>0.636739</td>\n",
       "      <td>444</td>\n",
       "      <td>Guinea Bissau</td>\n",
       "      <td>GEBA</td>\n",
       "      <td>34460596.0</td>\n",
       "      <td>1.764853e+07</td>\n",
       "      <td>9.535255e+09</td>\n",
       "      <td>0.003614</td>\n",
       "      <td>...</td>\n",
       "      <td>2.897160</td>\n",
       "      <td>1.571053</td>\n",
       "      <td>2.834815</td>\n",
       "      <td>3.544556</td>\n",
       "      <td>0.891978</td>\n",
       "      <td>1.660348</td>\n",
       "      <td>2.335788</td>\n",
       "      <td>1.858815</td>\n",
       "      <td>Medium to high risk (2-3)</td>\n",
       "      <td>POLYGON ((-13.73217699483075 12.57834249376896...</td>\n",
       "    </tr>\n",
       "    <tr>\n",
       "      <th>4</th>\n",
       "      <td>5</td>\n",
       "      <td>1.815190</td>\n",
       "      <td>0.055072</td>\n",
       "      <td>446</td>\n",
       "      <td>Guinea Bissau</td>\n",
       "      <td></td>\n",
       "      <td>6855107.0</td>\n",
       "      <td>2.852844e+06</td>\n",
       "      <td>1.839854e+09</td>\n",
       "      <td>0.003726</td>\n",
       "      <td>...</td>\n",
       "      <td>2.878972</td>\n",
       "      <td>1.549313</td>\n",
       "      <td>2.687177</td>\n",
       "      <td>3.524936</td>\n",
       "      <td>0.819780</td>\n",
       "      <td>1.629414</td>\n",
       "      <td>2.316616</td>\n",
       "      <td>1.815062</td>\n",
       "      <td>Low to medium risk (1-2)</td>\n",
       "      <td>(POLYGON ((-15.72857010960513 11.9712600703465...</td>\n",
       "    </tr>\n",
       "  </tbody>\n",
       "</table>\n",
       "<p>5 rows × 61 columns</p>\n",
       "</div>"
      ],
      "text/plain": [
       "   GU  Shape_Leng  Shape_Area  BasinID        COUNTRY BASIN_NAME   WITHDRAWAL  \\\n",
       "0   1    0.559986    0.005929      439  Guinea Bissau             318530368.0   \n",
       "1   2    2.272372    0.099605      441  Guinea Bissau              14757104.0   \n",
       "2   3    0.610379    0.017086      444         Guinea       GEBA   34460596.0   \n",
       "3   4    5.384966    0.636739      444  Guinea Bissau       GEBA   34460596.0   \n",
       "4   5    1.815190    0.055072      446  Guinea Bissau               6855107.0   \n",
       "\n",
       "     CONSUMPTIO            BA       BWS  \\\n",
       "0  2.191088e+08  9.921439e+09  0.032105   \n",
       "1  5.604148e+06  5.116468e+09  0.002884   \n",
       "2  1.764853e+07  9.535255e+09  0.003614   \n",
       "3  1.764853e+07  9.535255e+09  0.003614   \n",
       "4  2.852844e+06  1.839854e+09  0.003726   \n",
       "\n",
       "                         ...                            W_CHEM   W_POWER  \\\n",
       "0                        ...                          2.882769  1.652696   \n",
       "1                        ...                          2.841154  1.564447   \n",
       "2                        ...                          2.774803  1.551692   \n",
       "3                        ...                          2.897160  1.571053   \n",
       "4                        ...                          2.878972  1.549313   \n",
       "\n",
       "     W_MINE  W_OILGAS DEF_PQUANT     W_AGR  W_FOODBV     W_TEX  \\\n",
       "0  2.817264  3.574223   0.953074  1.674275  2.102334  1.782311   \n",
       "1  2.664640  3.529458   0.826442  1.600816  2.142925  1.746387   \n",
       "2  2.707415  3.352587   0.891978  1.582219  2.270701  1.773006   \n",
       "3  2.834815  3.544556   0.891978  1.660348  2.335788  1.858815   \n",
       "4  2.687177  3.524936   0.819780  1.629414  2.316616  1.815062   \n",
       "\n",
       "                     OWR_cat  \\\n",
       "0   Low to medium risk (1-2)   \n",
       "1   Low to medium risk (1-2)   \n",
       "2   Low to medium risk (1-2)   \n",
       "3  Medium to high risk (2-3)   \n",
       "4   Low to medium risk (1-2)   \n",
       "\n",
       "                                            geometry  \n",
       "0  (POLYGON ((-14.75229565619014 12.6188368125272...  \n",
       "1  (POLYGON ((-16.13767726797875 12.2940957333858...  \n",
       "2  POLYGON ((-13.56238156611261 12.66742547396541...  \n",
       "3  POLYGON ((-13.73217699483075 12.57834249376896...  \n",
       "4  (POLYGON ((-15.72857010960513 11.9712600703465...  \n",
       "\n",
       "[5 rows x 61 columns]"
      ]
     },
     "execution_count": 8,
     "metadata": {},
     "output_type": "execute_result"
    }
   ],
   "source": [
    "gdf_geom.head()"
   ]
  },
  {
   "cell_type": "code",
   "execution_count": 9,
   "metadata": {},
   "outputs": [
    {
     "name": "stdout",
     "output_type": "stream",
     "text": [
      "iav_score WSV_s\n",
      "/opt/anaconda3/envs/python35/bin/gdal_rasterize -a WSV_s -at -ot Float32 -of GTiff -te -180 -90 180 90 -ts 43200 21600 -co COMPRESS=DEFLATE -co PREDICTOR=1 -co ZLEVEL=6 -l aqueduct_global_dl_20150409 -a_nodata -32767 /volumes/data/Y2019M05D22_RH_AQ39VS21_Rasterize_AQ21_EE_V01/input_V02 /volumes/data/Y2019M05D22_RH_AQ39VS21_Rasterize_AQ21_EE_V01/output_V02/WSV_s.tif\n",
      "sev_score SV_s\n",
      "/opt/anaconda3/envs/python35/bin/gdal_rasterize -a SV_s -at -ot Float32 -of GTiff -te -180 -90 180 90 -ts 43200 21600 -co COMPRESS=DEFLATE -co PREDICTOR=1 -co ZLEVEL=6 -l aqueduct_global_dl_20150409 -a_nodata -32767 /volumes/data/Y2019M05D22_RH_AQ39VS21_Rasterize_AQ21_EE_V01/input_V02 /volumes/data/Y2019M05D22_RH_AQ39VS21_Rasterize_AQ21_EE_V01/output_V02/SV_s.tif\n",
      "owr_score DEFAULT\n",
      "/opt/anaconda3/envs/python35/bin/gdal_rasterize -a DEFAULT -at -ot Float32 -of GTiff -te -180 -90 180 90 -ts 43200 21600 -co COMPRESS=DEFLATE -co PREDICTOR=1 -co ZLEVEL=6 -l aqueduct_global_dl_20150409 -a_nodata -32767 /volumes/data/Y2019M05D22_RH_AQ39VS21_Rasterize_AQ21_EE_V01/input_V02 /volumes/data/Y2019M05D22_RH_AQ39VS21_Rasterize_AQ21_EE_V01/output_V02/DEFAULT.tif\n",
      "bws_score BWS_s\n",
      "/opt/anaconda3/envs/python35/bin/gdal_rasterize -a BWS_s -at -ot Float32 -of GTiff -te -180 -90 180 90 -ts 43200 21600 -co COMPRESS=DEFLATE -co PREDICTOR=1 -co ZLEVEL=6 -l aqueduct_global_dl_20150409 -a_nodata -32767 /volumes/data/Y2019M05D22_RH_AQ39VS21_Rasterize_AQ21_EE_V01/input_V02 /volumes/data/Y2019M05D22_RH_AQ39VS21_Rasterize_AQ21_EE_V01/output_V02/BWS_s.tif\n"
     ]
    }
   ],
   "source": [
    "for indicator_aq30, indicator_aq21 in INDICATORS.items():\n",
    "    print(indicator_aq30, indicator_aq21)\n",
    "    \n",
    "    column = indicator_aq21\n",
    "    layer = \"aqueduct_global_dl_20150409\"\n",
    "    destination_path_shp = ec2_input_path\n",
    "    destination_path_tif = \"{}/{}.tif\".format(ec2_output_path,indicator_aq21)\n",
    "    command = \"{} -a {} -at -ot Float32 -of GTiff -te -180 -90 180 90 -ts {} {} -co COMPRESS=DEFLATE -co PREDICTOR=1 -co ZLEVEL=6 -l {} -a_nodata -32767 {} {}\".format(GDAL_RASTERIZE_PATH,column,X_DIMENSION_30S,Y_DIMENSION_30S,layer,destination_path_shp,destination_path_tif)\n",
    "    print(command)\n",
    "    response = subprocess.check_output(command,shell=True)"
   ]
  },
  {
   "cell_type": "code",
   "execution_count": 10,
   "metadata": {},
   "outputs": [
    {
     "name": "stdout",
     "output_type": "stream",
     "text": [
      "Copying file:///volumes/data/Y2019M05D22_RH_AQ39VS21_Rasterize_AQ21_EE_V01/output_V02/WSV_s.tif [Content-Type=image/tiff]...\n",
      "Copying file:///volumes/data/Y2019M05D22_RH_AQ39VS21_Rasterize_AQ21_EE_V01/output_V02/BWS_s.tif [Content-Type=image/tiff]...\n",
      "Copying file:///volumes/data/Y2019M05D22_RH_AQ39VS21_Rasterize_AQ21_EE_V01/output_V02/DEFAULT.tif [Content-Type=image/tiff]...\n",
      "Copying file:///volumes/data/Y2019M05D22_RH_AQ39VS21_Rasterize_AQ21_EE_V01/output_V02/SV_s.tif [Content-Type=image/tiff]...\n",
      "- [4/4 files][ 59.5 MiB/ 59.5 MiB] 100% Done                                    \n",
      "Operation completed over 4 objects/59.5 MiB.                                     \n"
     ]
    }
   ],
   "source": [
    "!gsutil -m cp -r {ec2_output_path} {GCS_OUTPUT_PATH}"
   ]
  },
  {
   "cell_type": "code",
   "execution_count": 11,
   "metadata": {},
   "outputs": [
    {
     "name": "stdout",
     "output_type": "stream",
     "text": [
      "0:07:58.563173\n"
     ]
    }
   ],
   "source": [
    "end = datetime.datetime.now()\n",
    "elapsed = end - start\n",
    "print(elapsed)"
   ]
  }
 ],
 "metadata": {
  "kernelspec": {
   "display_name": "Python 35",
   "language": "python",
   "name": "python35"
  },
  "language_info": {
   "codemirror_mode": {
    "name": "ipython",
    "version": 3
   },
   "file_extension": ".py",
   "mimetype": "text/x-python",
   "name": "python",
   "nbconvert_exporter": "python",
   "pygments_lexer": "ipython3",
   "version": "3.5.4"
  }
 },
 "nbformat": 4,
 "nbformat_minor": 2
}
