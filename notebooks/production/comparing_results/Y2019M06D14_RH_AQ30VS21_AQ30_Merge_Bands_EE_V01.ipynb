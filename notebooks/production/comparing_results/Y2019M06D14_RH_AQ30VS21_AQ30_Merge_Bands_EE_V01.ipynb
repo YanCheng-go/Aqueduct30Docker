{
 "cells": [
  {
   "cell_type": "code",
   "execution_count": 25,
   "metadata": {},
   "outputs": [],
   "source": [
    "\"\"\" Merge into one image with the indicators as bands.\n",
    "-------------------------------------------------------------------------------\n",
    "\n",
    "Author: Rutger Hofste\n",
    "Date: 20190614\n",
    "Kernel: python35\n",
    "Docker: rutgerhofste/gisdocker:ubuntu16.04\n",
    "\n",
    "\"\"\"\n",
    "\n",
    "SCRIPT_NAME = \"Y2019M06D14_RH_AQ30VS21_AQ30_Merge_Bands_EE_V01\"\n",
    "OUTPUT_VERSION = 1\n",
    "\n",
    "EE_INPUT_PATH = \"projects/WRI-Aquaduct/Y2019M05D22_RH_AQ30VS21_Rasters_AQ30_Ingest_EE_V01/output_V03\"\n",
    "\n",
    "X_DIMENSION_30S = 43200\n",
    "Y_DIMENSION_30S = 21600\n",
    "\n",
    "CRS_TRANSFORM_30S = [\n",
    "0.008333333333333333,\n",
    "0,\n",
    "-180,\n",
    "0,\n",
    "-0.008333333333333333,\n",
    "90\n",
    "]\n",
    "\n",
    "CRS = \"EPSG:4326\""
   ]
  },
  {
   "cell_type": "code",
   "execution_count": 4,
   "metadata": {},
   "outputs": [
    {
     "name": "stdout",
     "output_type": "stream",
     "text": [
      "Y2019M06D14 UTC 21:32\n"
     ]
    },
    {
     "data": {
      "text/plain": [
       "'3.5.4 |Anaconda, Inc.| (default, Nov 20 2017, 18:44:38) \\n[GCC 7.2.0]'"
      ]
     },
     "execution_count": 4,
     "metadata": {},
     "output_type": "execute_result"
    }
   ],
   "source": [
    "import time, datetime, sys\n",
    "dateString = time.strftime(\"Y%YM%mD%d\")\n",
    "timeString = time.strftime(\"UTC %H:%M\")\n",
    "start = datetime.datetime.now()\n",
    "print(dateString,timeString)\n",
    "sys.version"
   ]
  },
  {
   "cell_type": "code",
   "execution_count": 5,
   "metadata": {
    "collapsed": true
   },
   "outputs": [],
   "source": [
    "import ee"
   ]
  },
  {
   "cell_type": "code",
   "execution_count": 6,
   "metadata": {
    "collapsed": true
   },
   "outputs": [],
   "source": [
    "ee.Initialize()"
   ]
  },
  {
   "cell_type": "code",
   "execution_count": 21,
   "metadata": {
    "collapsed": true
   },
   "outputs": [],
   "source": [
    "indicators = [\"bws_score\",\n",
    "              \"bwd_score\",\n",
    "              \"iav_score\",\n",
    "              \"sev_score\",\n",
    "              \"gtd_score\",\n",
    "              \"rfr_score\",\n",
    "              \"cfr_score\",\n",
    "              \"drr_score\",\n",
    "              \"ucw_score\",\n",
    "              \"cep_score\",\n",
    "              \"udw_score\",\n",
    "              \"usa_score\",\n",
    "              \"rri_score\",\n",
    "              \"owr_score\",\n",
    "              \"owr_wf\",]"
   ]
  },
  {
   "cell_type": "code",
   "execution_count": 22,
   "metadata": {},
   "outputs": [],
   "source": [
    "one_image = ee.Image()\n",
    "one_image = one_image.rename([\"bws_score\"])\n",
    "for indicator in indicators:\n",
    "    input_path = \"{}/{}\".format(EE_INPUT_PATH,indicator)\n",
    "    image = ee.Image(input_path)\n",
    "    image = image.select([\"b1\"],[indicator])\n",
    "    one_image = one_image.addBands(srcImg=image,\n",
    "                                   names=None,\n",
    "                                   overwrite=True)"
   ]
  },
  {
   "cell_type": "code",
   "execution_count": 27,
   "metadata": {
    "collapsed": true
   },
   "outputs": [],
   "source": [
    "ee_output_path = \"projects/WRI-Aquaduct/Y2019M06D14_RH_AQ30VS21_AQ30_Merge_Bands_EE_V01/output_V01/aq30_v01\""
   ]
  },
  {
   "cell_type": "code",
   "execution_count": 28,
   "metadata": {},
   "outputs": [],
   "source": [
    "task_30s = ee.batch.Export.image.toAsset(\n",
    "                                        image =  one_image,\n",
    "                                        description = \"test\",\n",
    "                                        assetId = ee_output_path,\n",
    "                                        crs = CRS,\n",
    "                                        crsTransform = CRS_TRANSFORM_30S,\n",
    "                                        maxPixels = 1e10   \n",
    ")"
   ]
  },
  {
   "cell_type": "code",
   "execution_count": 29,
   "metadata": {
    "collapsed": true
   },
   "outputs": [],
   "source": [
    "task_30s.start()"
   ]
  },
  {
   "cell_type": "code",
   "execution_count": null,
   "metadata": {
    "collapsed": true
   },
   "outputs": [],
   "source": [
    "# Hier gebleven. Test eerst met kleinere export transform. classic rookie mistake"
   ]
  }
 ],
 "metadata": {
  "kernelspec": {
   "display_name": "Python 35",
   "language": "python",
   "name": "python35"
  },
  "language_info": {
   "codemirror_mode": {
    "name": "ipython",
    "version": 3
   },
   "file_extension": ".py",
   "mimetype": "text/x-python",
   "name": "python",
   "nbconvert_exporter": "python",
   "pygments_lexer": "ipython3",
   "version": "3.5.4"
  }
 },
 "nbformat": 4,
 "nbformat_minor": 2
}
