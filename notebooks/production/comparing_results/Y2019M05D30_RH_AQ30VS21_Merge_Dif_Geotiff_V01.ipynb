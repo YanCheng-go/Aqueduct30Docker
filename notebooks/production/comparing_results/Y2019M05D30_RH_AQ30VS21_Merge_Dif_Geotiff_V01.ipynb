{
 "cells": [
  {
   "cell_type": "code",
   "execution_count": 1,
   "metadata": {},
   "outputs": [
    {
     "name": "stdout",
     "output_type": "stream",
     "text": [
      "Input GCS : gs://aqueduct30_v01/Y2019M05D28_RH_AQ30VS21_Export_Dif_Geotiff_EE_V01/output_V06\n",
      "Input ec2: /volumes/data/Y2019M05D30_RH_AQ30VS21_Merge_Dif_Geotiff_V01/input_V01\n",
      "Output ec2: /volumes/data/Y2019M05D30_RH_AQ30VS21_Merge_Dif_Geotiff_V01/output_V01\n",
      "Output s3: /volumes/data/Y2019M05D30_RH_AQ30VS21_Merge_Dif_Geotiff_V01/output_V01\n"
     ]
    }
   ],
   "source": [
    "\"\"\" Merge the difference geotiffs into one.\n",
    "-------------------------------------------------------------------------------\n",
    "\n",
    "When using 30 arc seconds in earthengine, the results are exported into \n",
    "multiple chunks. This script will merge then back.\n",
    "\n",
    "When the previous script exports to 5 arc minute (for printing), \n",
    "you can ignore this script.\n",
    "\n",
    "Author: Rutger Hofste\n",
    "Date: 20190530\n",
    "Kernel: python35\n",
    "Docker: rutgerhofste/gisdocker:ubuntu16.04\n",
    "\n",
    "\"\"\"\n",
    "\n",
    "TESTING = 0\n",
    "\n",
    "SCRIPT_NAME = \"Y2019M05D30_RH_AQ30VS21_Merge_Dif_Geotiff_V01\"\n",
    "OUTPUT_VERSION = 1\n",
    "\n",
    "GCS_INPUT_PATH = \"gs://aqueduct30_v01/Y2019M05D28_RH_AQ30VS21_Export_Dif_Geotiff_EE_V01/output_V06\"\n",
    "\n",
    "ec2_input_path = \"/volumes/data/{}/input_V{:02.0f}\".format(SCRIPT_NAME,OUTPUT_VERSION)\n",
    "ec2_output_path = \"/volumes/data/{}/output_V{:02.0f}\".format(SCRIPT_NAME,OUTPUT_VERSION) \n",
    "s3_output_path = \"s3://wri-projects/Aqueduct30/Aq30vs21/{}/output_V{:02.0f}\".format(SCRIPT_NAME,OUTPUT_VERSION)\n",
    "\n",
    "target_filenames = [\"owr_score_minus_DEFAULT\",\n",
    "                    \"bws_score_minus_BWS_s\",\n",
    "                    \"sev_score_minus_SV_s\",\n",
    "                    \"iav_score_minus_WSV_s\"]\n",
    "\n",
    "\n",
    "print(\"Input GCS : \" + GCS_INPUT_PATH +\n",
    "      \"\\nInput ec2: \" + ec2_input_path + \n",
    "      \"\\nOutput ec2: \" + ec2_output_path +\n",
    "      \"\\nOutput s3: \" + ec2_output_path)\n"
   ]
  },
  {
   "cell_type": "code",
   "execution_count": 2,
   "metadata": {},
   "outputs": [
    {
     "name": "stdout",
     "output_type": "stream",
     "text": [
      "Y2019M05D30 UTC 14:48\n"
     ]
    },
    {
     "data": {
      "text/plain": [
       "'3.5.4 |Anaconda, Inc.| (default, Nov 20 2017, 18:44:38) \\n[GCC 7.2.0]'"
      ]
     },
     "execution_count": 2,
     "metadata": {},
     "output_type": "execute_result"
    }
   ],
   "source": [
    "import time, datetime, sys, logging\n",
    "dateString = time.strftime(\"Y%YM%mD%d\")\n",
    "timeString = time.strftime(\"UTC %H:%M\")\n",
    "start = datetime.datetime.now()\n",
    "print(dateString,timeString)\n",
    "sys.version"
   ]
  },
  {
   "cell_type": "code",
   "execution_count": 3,
   "metadata": {},
   "outputs": [],
   "source": [
    "!rm -r {ec2_input_path}\n",
    "!rm -r {ec2_output_path}\n",
    "!mkdir -p {ec2_input_path}\n",
    "!mkdir -p {ec2_output_path}"
   ]
  },
  {
   "cell_type": "code",
   "execution_count": 4,
   "metadata": {},
   "outputs": [
    {
     "name": "stdout",
     "output_type": "stream",
     "text": [
      "Copying gs://aqueduct30_v01/Y2019M05D28_RH_AQ30VS21_Export_Dif_Geotiff_EE_V01/output_V06/bws_score_minus_BWS_s_30s0000000000-0000000000.tif...\n",
      "Copying gs://aqueduct30_v01/Y2019M05D28_RH_AQ30VS21_Export_Dif_Geotiff_EE_V01/output_V06/bws_score_minus_BWS_s_30s0000000000-0000023296.tif...\n",
      "Copying gs://aqueduct30_v01/Y2019M05D28_RH_AQ30VS21_Export_Dif_Geotiff_EE_V01/output_V06/iav_score_minus_WSV_s_30s0000000000-0000000000.tif...\n",
      "Copying gs://aqueduct30_v01/Y2019M05D28_RH_AQ30VS21_Export_Dif_Geotiff_EE_V01/output_V06/iav_score_minus_WSV_s_30s0000000000-0000023296.tif...\n",
      "Copying gs://aqueduct30_v01/Y2019M05D28_RH_AQ30VS21_Export_Dif_Geotiff_EE_V01/output_V06/owr_score_minus_DEFAULT_30s0000000000-0000000000.tif...\n",
      "Copying gs://aqueduct30_v01/Y2019M05D28_RH_AQ30VS21_Export_Dif_Geotiff_EE_V01/output_V06/owr_score_minus_DEFAULT_30s0000000000-0000023296.tif...\n",
      "Copying gs://aqueduct30_v01/Y2019M05D28_RH_AQ30VS21_Export_Dif_Geotiff_EE_V01/output_V06/sev_score_minus_SV_s_30s0000000000-0000023296.tif...\n",
      "Copying gs://aqueduct30_v01/Y2019M05D28_RH_AQ30VS21_Export_Dif_Geotiff_EE_V01/output_V06/sev_score_minus_SV_s_30s0000000000-0000000000.tif...\n",
      "\\ [8/8 files][416.9 MiB/416.9 MiB] 100% Done                                    \n",
      "Operation completed over 8 objects/416.9 MiB.                                    \n"
     ]
    }
   ],
   "source": [
    "!gsutil -m cp {GCS_INPUT_PATH}/* {ec2_input_path}"
   ]
  },
  {
   "cell_type": "code",
   "execution_count": 5,
   "metadata": {
    "collapsed": true
   },
   "outputs": [],
   "source": [
    "import os\n",
    "import re\n",
    "import rasterio\n",
    "import numpy as np\n",
    "from rasterio import merge\n"
   ]
  },
  {
   "cell_type": "code",
   "execution_count": 6,
   "metadata": {
    "collapsed": true
   },
   "outputs": [],
   "source": [
    "files = os.listdir(ec2_input_path)"
   ]
  },
  {
   "cell_type": "code",
   "execution_count": 7,
   "metadata": {},
   "outputs": [
    {
     "data": {
      "text/plain": [
       "['owr_score_minus_DEFAULT_30s0000000000-0000000000.tif',\n",
       " 'bws_score_minus_BWS_s_30s0000000000-0000023296.tif',\n",
       " 'iav_score_minus_WSV_s_30s0000000000-0000023296.tif',\n",
       " 'bws_score_minus_BWS_s_30s0000000000-0000000000.tif',\n",
       " 'sev_score_minus_SV_s_30s0000000000-0000000000.tif',\n",
       " 'iav_score_minus_WSV_s_30s0000000000-0000000000.tif',\n",
       " 'sev_score_minus_SV_s_30s0000000000-0000023296.tif',\n",
       " 'owr_score_minus_DEFAULT_30s0000000000-0000023296.tif']"
      ]
     },
     "execution_count": 7,
     "metadata": {},
     "output_type": "execute_result"
    }
   ],
   "source": [
    "files"
   ]
  },
  {
   "cell_type": "code",
   "execution_count": 8,
   "metadata": {
    "collapsed": true
   },
   "outputs": [],
   "source": [
    "def merge_selected_files(selected_files, output_filename):\n",
    "    \"\"\"\n",
    "    Merges the files into one geotiff\n",
    "    \n",
    "    Args:\n",
    "        selected_files(list): List of paths\n",
    "        output_filename(string): Output path including extension (.tif)\n",
    "    Returns:\n",
    "        None\n",
    "    \n",
    "    \"\"\"\n",
    "    \n",
    "    datasets = []\n",
    "    for selected_file in selected_files:\n",
    "        datasets.append(rasterio.open(\"{}/{}\".format(ec2_input_path,selected_file)))\n",
    "        Z, out_transform = rasterio.merge.merge(datasets=datasets)\n",
    "        Z = Z[0,:,:]\n",
    "        Z = np.float32(Z)\n",
    "\n",
    "        # Write geotiff\n",
    "        with rasterio.open(\n",
    "            output_filename,\n",
    "            'w',\n",
    "            driver='GTiff',\n",
    "            height=Z.shape[0],\n",
    "            width=Z.shape[1],\n",
    "            count=1,\n",
    "            dtype=Z.dtype,\n",
    "            crs='+proj=latlong',\n",
    "            transform=out_transform,\n",
    "            compress='lzw'\n",
    "        ) as dst:\n",
    "            dst.write(Z, 1)   "
   ]
  },
  {
   "cell_type": "code",
   "execution_count": 9,
   "metadata": {},
   "outputs": [
    {
     "name": "stdout",
     "output_type": "stream",
     "text": [
      "merging:  owr_score_minus_DEFAULT\n",
      "['owr_score_minus_DEFAULT_30s0000000000-0000000000.tif', 'owr_score_minus_DEFAULT_30s0000000000-0000023296.tif']\n",
      "/volumes/data/Y2019M05D30_RH_AQ30VS21_Merge_Dif_Geotiff_V01/output_V01/owr_score_minus_DEFAULT.tif\n",
      "merging:  bws_score_minus_BWS_s\n",
      "['bws_score_minus_BWS_s_30s0000000000-0000023296.tif', 'bws_score_minus_BWS_s_30s0000000000-0000000000.tif']\n",
      "/volumes/data/Y2019M05D30_RH_AQ30VS21_Merge_Dif_Geotiff_V01/output_V01/bws_score_minus_BWS_s.tif\n",
      "merging:  sev_score_minus_SV_s\n",
      "['sev_score_minus_SV_s_30s0000000000-0000000000.tif', 'sev_score_minus_SV_s_30s0000000000-0000023296.tif']\n",
      "/volumes/data/Y2019M05D30_RH_AQ30VS21_Merge_Dif_Geotiff_V01/output_V01/sev_score_minus_SV_s.tif\n",
      "merging:  iav_score_minus_WSV_s\n",
      "['iav_score_minus_WSV_s_30s0000000000-0000023296.tif', 'iav_score_minus_WSV_s_30s0000000000-0000000000.tif']\n",
      "/volumes/data/Y2019M05D30_RH_AQ30VS21_Merge_Dif_Geotiff_V01/output_V01/iav_score_minus_WSV_s.tif\n"
     ]
    }
   ],
   "source": [
    "for target_filename in target_filenames:\n",
    "    print(\"merging: \" , target_filename)\n",
    "    regex = re.compile(r\"{}\".format(target_filename))\n",
    "    selected_files = list(filter(regex.search, files))\n",
    "    print(selected_files)\n",
    "    output_filename = \"{}/{}.tif\".format(ec2_output_path,target_filename)\n",
    "    merge_selected_files(selected_files, output_filename)\n",
    "    print(output_filename)"
   ]
  },
  {
   "cell_type": "code",
   "execution_count": 10,
   "metadata": {},
   "outputs": [
    {
     "name": "stdout",
     "output_type": "stream",
     "text": [
      "upload: ../../../../../data/Y2019M05D30_RH_AQ30VS21_Merge_Dif_Geotiff_V01/output_V01/sev_score_minus_SV_s.tif to s3://wri-projects/Aqueduct30/Aq30vs21/Y2019M05D30_RH_AQ30VS21_Merge_Dif_Geotiff_V01/output_V01/sev_score_minus_SV_s.tif\n",
      "upload: ../../../../../data/Y2019M05D30_RH_AQ30VS21_Merge_Dif_Geotiff_V01/output_V01/bws_score_minus_BWS_s.tif to s3://wri-projects/Aqueduct30/Aq30vs21/Y2019M05D30_RH_AQ30VS21_Merge_Dif_Geotiff_V01/output_V01/bws_score_minus_BWS_s.tif\n",
      "upload: ../../../../../data/Y2019M05D30_RH_AQ30VS21_Merge_Dif_Geotiff_V01/output_V01/owr_score_minus_DEFAULT.tif to s3://wri-projects/Aqueduct30/Aq30vs21/Y2019M05D30_RH_AQ30VS21_Merge_Dif_Geotiff_V01/output_V01/owr_score_minus_DEFAULT.tif\n",
      "upload: ../../../../../data/Y2019M05D30_RH_AQ30VS21_Merge_Dif_Geotiff_V01/output_V01/iav_score_minus_WSV_s.tif to s3://wri-projects/Aqueduct30/Aq30vs21/Y2019M05D30_RH_AQ30VS21_Merge_Dif_Geotiff_V01/output_V01/iav_score_minus_WSV_s.tif\n"
     ]
    }
   ],
   "source": [
    "!aws s3 cp {ec2_output_path} {s3_output_path} --recursive"
   ]
  },
  {
   "cell_type": "code",
   "execution_count": 11,
   "metadata": {},
   "outputs": [
    {
     "name": "stdout",
     "output_type": "stream",
     "text": [
      "0:07:49.738804\n"
     ]
    }
   ],
   "source": [
    "end = datetime.datetime.now()\n",
    "elapsed = end - start\n",
    "print(elapsed)"
   ]
  },
  {
   "cell_type": "markdown",
   "metadata": {},
   "source": [
    "previous run:  \n",
    "0:07:49.738804\n"
   ]
  },
  {
   "cell_type": "code",
   "execution_count": null,
   "metadata": {
    "collapsed": true
   },
   "outputs": [],
   "source": []
  }
 ],
 "metadata": {
  "kernelspec": {
   "display_name": "Python 35",
   "language": "python",
   "name": "python35"
  },
  "language_info": {
   "codemirror_mode": {
    "name": "ipython",
    "version": 3
   },
   "file_extension": ".py",
   "mimetype": "text/x-python",
   "name": "python",
   "nbconvert_exporter": "python",
   "pygments_lexer": "ipython3",
   "version": "3.5.4"
  }
 },
 "nbformat": 4,
 "nbformat_minor": 2
}
