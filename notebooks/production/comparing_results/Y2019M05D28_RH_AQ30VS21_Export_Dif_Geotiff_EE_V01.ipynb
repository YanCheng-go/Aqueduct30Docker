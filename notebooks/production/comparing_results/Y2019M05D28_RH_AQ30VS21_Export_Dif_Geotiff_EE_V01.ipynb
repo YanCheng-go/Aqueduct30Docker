{
 "cells": [
  {
   "cell_type": "code",
   "execution_count": 1,
   "metadata": {},
   "outputs": [
    {
     "name": "stdout",
     "output_type": "stream",
     "text": [
      "AQ21_EE_PATH: projects/WRI-Aquaduct/Y2019M05D22_RH_AQ30VS21_Rasters_AQ21_Ingest_EE_V01/output_V01/\n",
      "AQ30_EE_PATH: projects/WRI-Aquaduct/Y2019M05D22_RH_AQ30VS21_Rasters_AQ30_Ingest_EE_V01/output_V02/\n",
      "GCS_BUCKET: aqueduct30_v01\n"
     ]
    }
   ],
   "source": [
    "\"\"\" Generate and export difference maps of various indicators.\n",
    "-------------------------------------------------------------------------------\n",
    "\n",
    "Exports at 5 arc minutes for print. The original data is available at 30 arc\n",
    "seconds\n",
    "\n",
    "\n",
    "Author: Rutger Hofste\n",
    "Date: 20190528\n",
    "Kernel: python35\n",
    "Docker: rutgerhofste/gisdocker:ubuntu16.04\n",
    "\n",
    "\"\"\"\n",
    "\n",
    "TESTING = 0\n",
    "\n",
    "SCRIPT_NAME = \"Y2019M05D28_RH_AQ30VS21_Export_Dif_Geotiff_EE_V01\"\n",
    "OUTPUT_VERSION = 1\n",
    "\n",
    "AQ21_EE_PATH = \"projects/WRI-Aquaduct/Y2019M05D22_RH_AQ30VS21_Rasters_AQ21_Ingest_EE_V01/output_V01/\"\n",
    "AQ30_EE_PATH = \"projects/WRI-Aquaduct/Y2019M05D22_RH_AQ30VS21_Rasters_AQ30_Ingest_EE_V01/output_V02/\"\n",
    "\n",
    "AQ30_EE_OWR_WF_PATH = \"projects/WRI-Aquaduct/Y2019M05D22_RH_AQ30VS21_Rasters_AQ30_Ingest_EE_V01/output_V02/owr_wf\"\n",
    "\n",
    "# Aqueduct 3.0 and 2.1 corresponding indicators. \n",
    "# Please note that for overall water risk in Aqueduct 3.0, a valid fraction need to be applied\n",
    "\n",
    "INDICATORS = {\"owr_score\":\"DEFAULT\",\n",
    "              \"bws_score\":\"BWS_s\",\n",
    "              \"iav_score\":\"WSV_s\",\n",
    "              \"sev_score\":\"SV_s\"}\n",
    "\n",
    "# Fraction of the framework that should be valid for overall water risk.\n",
    "AQ30_OWR_THRESHOLD = 0.75\n",
    "\n",
    "CRS = \"EPSG:4326\"\n",
    "\n",
    "CRS_TRANSFORM_30S = [\n",
    "    0.008333333333333333,\n",
    "    0,\n",
    "    -180,\n",
    "    0,\n",
    "    -0.008333333333333333,\n",
    "    90\n",
    "]\n",
    "\n",
    "CRS_TRANSFORM_5MIN = [\n",
    "    0.08333333333333333,\n",
    "    0,\n",
    "    -180,\n",
    "    0,\n",
    "    -0.08333333333333333,\n",
    "    90\n",
    "]\n",
    "\n",
    "GCS_BUCKET = \"aqueduct30_v01\"\n",
    "\n",
    "print(\"AQ21_EE_PATH: \" + AQ21_EE_PATH +\n",
    "      \"\\nAQ30_EE_PATH: \" +AQ30_EE_PATH +\n",
    "      \"\\nGCS_BUCKET: \" + GCS_BUCKET)\n"
   ]
  },
  {
   "cell_type": "code",
   "execution_count": 2,
   "metadata": {},
   "outputs": [
    {
     "name": "stdout",
     "output_type": "stream",
     "text": [
      "Y2019M05D28 UTC 16:06\n"
     ]
    },
    {
     "data": {
      "text/plain": [
       "'3.5.4 |Anaconda, Inc.| (default, Nov 20 2017, 18:44:38) \\n[GCC 7.2.0]'"
      ]
     },
     "execution_count": 2,
     "metadata": {},
     "output_type": "execute_result"
    }
   ],
   "source": [
    "import time, datetime, sys\n",
    "dateString = time.strftime(\"Y%YM%mD%d\")\n",
    "timeString = time.strftime(\"UTC %H:%M\")\n",
    "start = datetime.datetime.now()\n",
    "print(dateString,timeString)\n",
    "sys.version"
   ]
  },
  {
   "cell_type": "code",
   "execution_count": 3,
   "metadata": {
    "collapsed": true
   },
   "outputs": [],
   "source": [
    "import ee\n",
    "ee.Initialize()"
   ]
  },
  {
   "cell_type": "code",
   "execution_count": 4,
   "metadata": {
    "collapsed": true
   },
   "outputs": [],
   "source": [
    "def get_aq21_image(indicator):\n",
    "    path = \"{}{}\".format(AQ21_EE_PATH,indicator)\n",
    "    return ee.Image(path)\n",
    "\n",
    "def get_aq30_image(indicator):\n",
    "    \"\"\"\n",
    "    Gets the Aqueduct indicator layer. If the layer is owr, it \n",
    "    applies a valid mask greate than or equal to AQ30_OWR_THRESHOLD\n",
    "    \n",
    "    \"\"\"\n",
    "    path = \"{}{}\".format(AQ30_EE_PATH,indicator)\n",
    "    image = ee.Image(path)\n",
    "    if indicator == \"owr_score\":\n",
    "        # Mask owr by valid\n",
    "        mask = ee.Image(AQ30_EE_OWR_WF_PATH)\n",
    "        image = image.mask(mask.gte(AQ30_OWR_THRESHOLD))\n",
    "    else:\n",
    "        pass    \n",
    "    return image\n",
    "\n",
    "\n",
    "\n"
   ]
  },
  {
   "cell_type": "code",
   "execution_count": 5,
   "metadata": {},
   "outputs": [
    {
     "name": "stdout",
     "output_type": "stream",
     "text": [
      "owr_score DEFAULT\n"
     ]
    },
    {
     "ename": "EEException",
     "evalue": "Unrecognized export format: 'CSV'. Only 'GeoTIFF' and 'TFRecord' are supported.",
     "output_type": "error",
     "traceback": [
      "\u001b[0;31m---------------------------------------------------------------------------\u001b[0m",
      "\u001b[0;31mEEException\u001b[0m                               Traceback (most recent call last)",
      "\u001b[0;32m<ipython-input-5-866e1033692f>\u001b[0m in \u001b[0;36m<module>\u001b[0;34m()\u001b[0m\n\u001b[1;32m     28\u001b[0m                                                 \u001b[0;31m#formatOptions\u001b[0m\u001b[0;34m\u001b[0m\u001b[0;34m\u001b[0m\u001b[0m\n\u001b[1;32m     29\u001b[0m                                                 )\n\u001b[0;32m---> 30\u001b[0;31m     \u001b[0mtask\u001b[0m\u001b[0;34m.\u001b[0m\u001b[0mstart\u001b[0m\u001b[0;34m(\u001b[0m\u001b[0;34m)\u001b[0m\u001b[0;34m\u001b[0m\u001b[0m\n\u001b[0m",
      "\u001b[0;32m/opt/anaconda3/envs/python35/lib/python3.5/site-packages/ee/batch.py\u001b[0m in \u001b[0;36mstart\u001b[0;34m(self)\u001b[0m\n\u001b[1;32m     71\u001b[0m       raise ee_exception.EEException(\n\u001b[1;32m     72\u001b[0m           'Task config must be specified for tasks to be started.')\n\u001b[0;32m---> 73\u001b[0;31m     \u001b[0mdata\u001b[0m\u001b[0;34m.\u001b[0m\u001b[0mstartProcessing\u001b[0m\u001b[0;34m(\u001b[0m\u001b[0mself\u001b[0m\u001b[0;34m.\u001b[0m\u001b[0mid\u001b[0m\u001b[0;34m,\u001b[0m \u001b[0mself\u001b[0m\u001b[0;34m.\u001b[0m\u001b[0mconfig\u001b[0m\u001b[0;34m)\u001b[0m\u001b[0;34m\u001b[0m\u001b[0m\n\u001b[0m\u001b[1;32m     74\u001b[0m \u001b[0;34m\u001b[0m\u001b[0m\n\u001b[1;32m     75\u001b[0m   \u001b[0;32mdef\u001b[0m \u001b[0mstatus\u001b[0m\u001b[0;34m(\u001b[0m\u001b[0mself\u001b[0m\u001b[0;34m)\u001b[0m\u001b[0;34m:\u001b[0m\u001b[0;34m\u001b[0m\u001b[0m\n",
      "\u001b[0;32m/opt/anaconda3/envs/python35/lib/python3.5/site-packages/ee/data.py\u001b[0m in \u001b[0;36mstartProcessing\u001b[0;34m(taskId, params)\u001b[0m\n\u001b[1;32m    555\u001b[0m   \u001b[0margs\u001b[0m \u001b[0;34m=\u001b[0m \u001b[0mparams\u001b[0m\u001b[0;34m.\u001b[0m\u001b[0mcopy\u001b[0m\u001b[0;34m(\u001b[0m\u001b[0;34m)\u001b[0m\u001b[0;34m\u001b[0m\u001b[0m\n\u001b[1;32m    556\u001b[0m   \u001b[0margs\u001b[0m\u001b[0;34m[\u001b[0m\u001b[0;34m'id'\u001b[0m\u001b[0;34m]\u001b[0m \u001b[0;34m=\u001b[0m \u001b[0mtaskId\u001b[0m\u001b[0;34m\u001b[0m\u001b[0m\n\u001b[0;32m--> 557\u001b[0;31m   \u001b[0;32mreturn\u001b[0m \u001b[0msend_\u001b[0m\u001b[0;34m(\u001b[0m\u001b[0;34m'/processingrequest'\u001b[0m\u001b[0;34m,\u001b[0m \u001b[0margs\u001b[0m\u001b[0;34m)\u001b[0m\u001b[0;34m\u001b[0m\u001b[0m\n\u001b[0m\u001b[1;32m    558\u001b[0m \u001b[0;34m\u001b[0m\u001b[0m\n\u001b[1;32m    559\u001b[0m \u001b[0;34m\u001b[0m\u001b[0m\n",
      "\u001b[0;32m/opt/anaconda3/envs/python35/lib/python3.5/site-packages/ee/data.py\u001b[0m in \u001b[0;36msend_\u001b[0;34m(path, params, opt_method, opt_raw)\u001b[0m\n\u001b[1;32m    813\u001b[0m       \u001b[0;32mraise\u001b[0m \u001b[0mee_exception\u001b[0m\u001b[0;34m.\u001b[0m\u001b[0mEEException\u001b[0m\u001b[0;34m(\u001b[0m\u001b[0;34m'Invalid JSON: %s'\u001b[0m \u001b[0;34m%\u001b[0m \u001b[0mcontent\u001b[0m\u001b[0;34m)\u001b[0m\u001b[0;34m\u001b[0m\u001b[0m\n\u001b[1;32m    814\u001b[0m     \u001b[0;32mif\u001b[0m \u001b[0;34m'error'\u001b[0m \u001b[0;32min\u001b[0m \u001b[0mjson_content\u001b[0m\u001b[0;34m:\u001b[0m\u001b[0;34m\u001b[0m\u001b[0m\n\u001b[0;32m--> 815\u001b[0;31m       \u001b[0;32mraise\u001b[0m \u001b[0mee_exception\u001b[0m\u001b[0;34m.\u001b[0m\u001b[0mEEException\u001b[0m\u001b[0;34m(\u001b[0m\u001b[0mjson_content\u001b[0m\u001b[0;34m[\u001b[0m\u001b[0;34m'error'\u001b[0m\u001b[0;34m]\u001b[0m\u001b[0;34m[\u001b[0m\u001b[0;34m'message'\u001b[0m\u001b[0;34m]\u001b[0m\u001b[0;34m)\u001b[0m\u001b[0;34m\u001b[0m\u001b[0m\n\u001b[0m\u001b[1;32m    816\u001b[0m     \u001b[0;32mif\u001b[0m \u001b[0;34m'data'\u001b[0m \u001b[0;32mnot\u001b[0m \u001b[0;32min\u001b[0m \u001b[0mcontent\u001b[0m\u001b[0;34m:\u001b[0m\u001b[0;34m\u001b[0m\u001b[0m\n\u001b[1;32m    817\u001b[0m       \u001b[0;32mraise\u001b[0m \u001b[0mee_exception\u001b[0m\u001b[0;34m.\u001b[0m\u001b[0mEEException\u001b[0m\u001b[0;34m(\u001b[0m\u001b[0;34m'Malformed response: '\u001b[0m \u001b[0;34m+\u001b[0m \u001b[0mstr\u001b[0m\u001b[0;34m(\u001b[0m\u001b[0mcontent\u001b[0m\u001b[0;34m)\u001b[0m\u001b[0;34m)\u001b[0m\u001b[0;34m\u001b[0m\u001b[0m\n",
      "\u001b[0;31mEEException\u001b[0m: Unrecognized export format: 'CSV'. Only 'GeoTIFF' and 'TFRecord' are supported."
     ]
    }
   ],
   "source": [
    "for aq30_indicator, aq21_indicator in INDICATORS.items():\n",
    "    print(aq30_indicator,aq21_indicator)\n",
    "    aq21_image = get_aq21_image(aq21_indicator)\n",
    "    aq30_image = get_aq30_image(aq30_indicator)\n",
    "    \n",
    "    i_aq30_minus_aq21 = aq30_image.subtract(aq21_image)\n",
    "    \n",
    "    description = \"{}{}\".format(aq30_indicator,aq21_indicator)\n",
    "    fileNamePrefix = \"{}/output_V{:02f}/{}_minus_{}\".format(SCRIPT_NAME,OUTPUT_VERSION,aq30_indicator,aq21_image )\n",
    "    \n",
    "    #geometry = ee.Geometry.Polygon(coords=[[-10.0, -10.0], [10,  -10.0], [10, 10], [-10,10]], proj= ee.Projection('EPSG:4326'),geodesic=False ) \n",
    "    geometry = ee.Geometry.Polygon(coords=[[-180.0, -90.0], [180,  -90.0], [180, 90], [-180,90]], proj= ee.Projection('EPSG:4326'),geodesic=False )\n",
    "    \n",
    "    task = ee.batch.Export.image.toCloudStorage(image=i_aq30_minus_aq21,\n",
    "                                                description=description,\n",
    "                                                bucket=GCS_BUCKET,\n",
    "                                                fileNamePrefix=fileNamePrefix ,\n",
    "                                                #dimensions,\n",
    "                                                #region=geometry,\n",
    "                                                #scale,\n",
    "                                                crs=CRS,\n",
    "                                                crsTransform=CRS_TRANSFORM_5MIN,\n",
    "                                                maxPixels=1e10,\n",
    "                                                #shardSize,\n",
    "                                                #fileDimensions,\n",
    "                                                #skipEmptyTiles,\n",
    "                                                fileFormat=\"GeoTIFF\",\n",
    "                                                #formatOptions\n",
    "                                                )\n",
    "    task.start()\n"
   ]
  },
  {
   "cell_type": "code",
   "execution_count": null,
   "metadata": {},
   "outputs": [],
   "source": [
    "end = datetime.datetime.now()\n",
    "elapsed = end - start\n",
    "print(elapsed)"
   ]
  },
  {
   "cell_type": "markdown",
   "metadata": {},
   "source": [
    "previous run:"
   ]
  }
 ],
 "metadata": {
  "kernelspec": {
   "display_name": "Python 35",
   "language": "python",
   "name": "python35"
  },
  "language_info": {
   "codemirror_mode": {
    "name": "ipython",
    "version": 3
   },
   "file_extension": ".py",
   "mimetype": "text/x-python",
   "name": "python",
   "nbconvert_exporter": "python",
   "pygments_lexer": "ipython3",
   "version": "3.5.4"
  }
 },
 "nbformat": 4,
 "nbformat_minor": 2
}
