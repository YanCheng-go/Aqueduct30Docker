{
 "cells": [
  {
   "cell_type": "markdown",
   "metadata": {},
   "source": [
    "# Comparing Aqueduct 3.0 results with Aqueduct 2.1 \n",
    "\n",
    "\n",
    "## Approach\n",
    "This is a limited comparison of selected results of Aqueduct 3.0 and Aqueduct 2.1. In the future, a more comprehensive comparison might be desired. The objective is to display some of the major differences between the new and the old versions without explaining the reasons of those differences. \n",
    "\n",
    "\n",
    "### Overall water risk\n",
    "\n",
    "Comparison of distribution based on vector data\n",
    "\n",
    "A rasterized approach (% difference or different categories). \n",
    "\n",
    "\n",
    "### Baseline water stress, interannual variability, seasonal variability\n",
    "\n",
    "Comparison of distribution based on vector data\n",
    "\n",
    "A rasterized approach (% difference or different categories). \n",
    "\n",
    "\n",
    "\n",
    "## Scripts\n",
    "\n",
    "1. **Y2019M05D21_RH_AQ30VS21_Rasterize_AQ30_EE_V01**  \n",
    "    Rasterize Aqueduct 30 and store to Google Cloud Storage.\n",
    "1. **Y2019M05D22_RH_AQ30VS21_Rasters_AQ30_Ingest_EE_V01**  \n",
    "    Ingest rasterized AQ30 indicators to earthengine.\n",
    "1. **Y2019M06D14_RH_AQ30VS21_AQ30_Merge_Bands_EE_V01**  \n",
    "    Merge into one image with the indicators as bands.\n",
    "    \n",
    "1. **Y2019M05D22_RH_AQ39VS21_Rasterize_AQ21_EE_V01**  \n",
    "    Rasterize Aqueduct 21 and store to Google Cloud Storage.\n",
    "1. **Y2019M05D22_RH_AQ30VS21_Rasters_AQ21_Ingest_EE_V01**  \n",
    "    Ingest rasterized AQ21 indicators to earthengine.   \n",
    "1. **Y2019M05D22_RH_AQ30VS21_Compare_Tables_V01**  \n",
    "    Compare Aqueduct 30 vs 21 and create change tables.\n",
    "1. **Y2019M05D23_RH_AQ30VS21_Combine_Tables_V01**  \n",
    "    Create tables with aqueduct 30 categories vs aqueduct 21. \n",
    "1. **Y2019M05D28_RH_AQ30VS21_Export_Dif_Geotiff_EE_V01**  \n",
    "    Generate and export difference maps of various indicators.\n",
    "1. **Y2019M05D30_RH_AQ30VS21_Merge_Dif_Geotiff_V01**  \n",
    "    Merge the difference geotiffs into one.\n",
    "    \n",
    "   \n",
    "\n",
    "## Country Rankings Comparison\n",
    "\n",
    "1. **Y2019M06D06_RH_AQ30VS21_Country_Comparison_V01**  \n",
    "    Compare country aggregations, create charts and combined database."
   ]
  },
  {
   "cell_type": "markdown",
   "metadata": {},
   "source": []
  },
  {
   "cell_type": "code",
   "execution_count": null,
   "metadata": {
    "collapsed": true
   },
   "outputs": [],
   "source": []
  }
 ],
 "metadata": {
  "kernelspec": {
   "display_name": "Python 35",
   "language": "python",
   "name": "python35"
  },
  "language_info": {
   "codemirror_mode": {
    "name": "ipython",
    "version": 3
   },
   "file_extension": ".py",
   "mimetype": "text/x-python",
   "name": "python",
   "nbconvert_exporter": "python",
   "pygments_lexer": "ipython3",
   "version": "3.5.4"
  }
 },
 "nbformat": 4,
 "nbformat_minor": 2
}
