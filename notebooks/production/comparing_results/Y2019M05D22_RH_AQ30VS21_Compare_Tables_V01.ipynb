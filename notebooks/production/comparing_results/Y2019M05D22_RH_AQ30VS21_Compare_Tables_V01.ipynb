{
 "cells": [
  {
   "cell_type": "code",
   "execution_count": 1,
   "metadata": {},
   "outputs": [
    {
     "name": "stdout",
     "output_type": "stream",
     "text": [
      "AQ21_GCS_INPUT_PATH: gs://aqueduct30_v01/Y2019M05D22_RH_AQ39VS21_Rasterize_AQ21_EE_V01/output_V02/\n",
      "AQ30_GCS_INPUT_PATH: gs://aqueduct30_v01/Y2019M05D21_RH_AQ30VS21_Rasterize_AQ30_EE_V01/output_V05/\n"
     ]
    }
   ],
   "source": [
    "\"\"\" Ingest rasterized AQ30 indicators to earthengine.\n",
    "-------------------------------------------------------------------------------\n",
    "\n",
    "Compare Aqueduct 30 vs 21 and create change tables.\n",
    "\n",
    "Author: Rutger Hofste\n",
    "Date: 20190522\n",
    "Kernel: python35\n",
    "Docker: rutgerhofste/gisdocker:ubuntu16.04\n",
    "\n",
    "\"\"\"\n",
    "\n",
    "TESTING = 0\n",
    "\n",
    "SCRIPT_NAME = \"Y2019M05D22_RH_AQ30VS21_Compare_Tables_V01\"\n",
    "OUTPUT_VERSION = 1\n",
    "\n",
    "\n",
    "AQ21_GCS_INPUT_PATH = \"gs://aqueduct30_v01/Y2019M05D22_RH_AQ39VS21_Rasterize_AQ21_EE_V01/output_V02/\"\n",
    "AQ30_GCS_INPUT_PATH = \"gs://aqueduct30_v01/Y2019M05D21_RH_AQ30VS21_Rasterize_AQ30_EE_V01/output_V05/\"\n",
    "\n",
    "ec2_input_path_aq21 = \"/volumes/data/{}/input_V{:02.0f}/aq21/\".format(SCRIPT_NAME,OUTPUT_VERSION)\n",
    "ec2_input_path_aq30 = \"/volumes/data/{}/input_V{:02.0f}/aq30\".format(SCRIPT_NAME,OUTPUT_VERSION)\n",
    "ec2_output_path = \"/volumes/data/{}/output_V{:02.0f}/\".format(SCRIPT_NAME,OUTPUT_VERSION)\n",
    "\n",
    "print(\"AQ21_GCS_INPUT_PATH: \" + AQ21_GCS_INPUT_PATH +\n",
    "      \"\\nAQ30_GCS_INPUT_PATH: \" + AQ30_GCS_INPUT_PATH )"
   ]
  },
  {
   "cell_type": "code",
   "execution_count": 2,
   "metadata": {},
   "outputs": [
    {
     "name": "stdout",
     "output_type": "stream",
     "text": [
      "Y2019M05D22 UTC 19:03\n"
     ]
    },
    {
     "data": {
      "text/plain": [
       "'3.5.4 |Anaconda, Inc.| (default, Nov 20 2017, 18:44:38) \\n[GCC 7.2.0]'"
      ]
     },
     "execution_count": 2,
     "metadata": {},
     "output_type": "execute_result"
    }
   ],
   "source": [
    "import time, datetime, sys\n",
    "dateString = time.strftime(\"Y%YM%mD%d\")\n",
    "timeString = time.strftime(\"UTC %H:%M\")\n",
    "start = datetime.datetime.now()\n",
    "print(dateString,timeString)\n",
    "sys.version"
   ]
  },
  {
   "cell_type": "code",
   "execution_count": 3,
   "metadata": {},
   "outputs": [],
   "source": [
    "!rm -r {ec2_input_path_aq21}\n",
    "!rm -r {ec2_input_path_aq30}\n",
    "!rm -r {ec2_output_path}\n",
    "!mkdir -p {ec2_input_path_aq21}\n",
    "!mkdir -p {ec2_input_path_aq30}\n",
    "!mkdir -p {ec2_output_path}"
   ]
  },
  {
   "cell_type": "code",
   "execution_count": 6,
   "metadata": {},
   "outputs": [
    {
     "name": "stdout",
     "output_type": "stream",
     "text": [
      "Copying gs://aqueduct30_v01/Y2019M05D22_RH_AQ39VS21_Rasterize_AQ21_EE_V01/output_V02/BWS_s.tif...\n",
      "Copying gs://aqueduct30_v01/Y2019M05D22_RH_AQ39VS21_Rasterize_AQ21_EE_V01/output_V02/DEFAULT.tif...\n",
      "Copying gs://aqueduct30_v01/Y2019M05D22_RH_AQ39VS21_Rasterize_AQ21_EE_V01/output_V02/SV_s.tif...\n",
      "Copying gs://aqueduct30_v01/Y2019M05D22_RH_AQ39VS21_Rasterize_AQ21_EE_V01/output_V02/WSV_s.tif...\n",
      "- [4/4 files][ 59.5 MiB/ 59.5 MiB] 100% Done                                    \n",
      "Operation completed over 4 objects/59.5 MiB.                                     \n"
     ]
    }
   ],
   "source": [
    "!gsutil -m cp -r {AQ21_GCS_INPUT_PATH} {ec2_input_path_aq21}"
   ]
  },
  {
   "cell_type": "code",
   "execution_count": 7,
   "metadata": {},
   "outputs": [
    {
     "name": "stdout",
     "output_type": "stream",
     "text": [
      "Copying gs://aqueduct30_v01/Y2019M05D21_RH_AQ30VS21_Rasterize_AQ30_EE_V01/output_V05/bws_score.tif...\n",
      "Copying gs://aqueduct30_v01/Y2019M05D21_RH_AQ30VS21_Rasterize_AQ30_EE_V01/output_V05/iav_score.tif...\n",
      "Copying gs://aqueduct30_v01/Y2019M05D21_RH_AQ30VS21_Rasterize_AQ30_EE_V01/output_V05/owr_score.tif...\n",
      "Copying gs://aqueduct30_v01/Y2019M05D21_RH_AQ30VS21_Rasterize_AQ30_EE_V01/output_V05/sev_score.tif...\n",
      "Copying gs://aqueduct30_v01/Y2019M05D21_RH_AQ30VS21_Rasterize_AQ30_EE_V01/output_V05/owr_wf.tif...\n",
      "\\ [5/5 files][143.6 MiB/143.6 MiB] 100% Done                                    \n",
      "Operation completed over 5 objects/143.6 MiB.                                    \n"
     ]
    }
   ],
   "source": [
    "!gsutil -m cp -r {AQ30_GCS_INPUT_PATH} {ec2_input_path_aq30}"
   ]
  },
  {
   "cell_type": "code",
   "execution_count": 10,
   "metadata": {
    "collapsed": true
   },
   "outputs": [],
   "source": [
    "import rasterio\n",
    "import numpy as np"
   ]
  },
  {
   "cell_type": "code",
   "execution_count": 14,
   "metadata": {
    "collapsed": true
   },
   "outputs": [],
   "source": [
    "aq21_input_path = \"{}/{}{}\".format(ec2_input_path_aq21,\"Y2019M05D22_RH_AQ39VS21_Rasterize_AQ21_EE_V01/output_V02/\",\"DEFAULT.tif\")"
   ]
  },
  {
   "cell_type": "code",
   "execution_count": 13,
   "metadata": {},
   "outputs": [
    {
     "data": {
      "text/plain": [
       "'/volumes/data/Y2019M05D22_RH_AQ30VS21_Compare_Tables_V01/input_V01/aq21//Y2019M05D22_RH_AQ39VS21_Rasterize_AQ21_EE_V01/output_V02//DEFAULT.tif'"
      ]
     },
     "execution_count": 13,
     "metadata": {},
     "output_type": "execute_result"
    }
   ],
   "source": [
    "aq21_input_path "
   ]
  },
  {
   "cell_type": "code",
   "execution_count": null,
   "metadata": {
    "collapsed": true
   },
   "outputs": [],
   "source": []
  }
 ],
 "metadata": {
  "kernelspec": {
   "display_name": "Python 35",
   "language": "python",
   "name": "python35"
  },
  "language_info": {
   "codemirror_mode": {
    "name": "ipython",
    "version": 3
   },
   "file_extension": ".py",
   "mimetype": "text/x-python",
   "name": "python",
   "nbconvert_exporter": "python",
   "pygments_lexer": "ipython3",
   "version": "3.5.4"
  }
 },
 "nbformat": 4,
 "nbformat_minor": 2
}
