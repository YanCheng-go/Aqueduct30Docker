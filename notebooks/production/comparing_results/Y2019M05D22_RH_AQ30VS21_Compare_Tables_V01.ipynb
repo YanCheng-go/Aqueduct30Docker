{
 "cells": [
  {
   "cell_type": "code",
   "execution_count": 1,
   "metadata": {},
   "outputs": [
    {
     "name": "stdout",
     "output_type": "stream",
     "text": [
      "AQ21_EE_PATH: projects/WRI-Aquaduct/Y2019M05D22_RH_AQ30VS21_Rasters_AQ21_Ingest_EE_V01/output_V01/\n",
      "AQ30_EE_PATH: projects/WRI-Aquaduct/Y2019M05D22_RH_AQ30VS21_Rasters_AQ30_Ingest_EE_V01/output_V02/\n"
     ]
    }
   ],
   "source": [
    "\"\"\" Ingest rasterized AQ30 indicators to earthengine.\n",
    "-------------------------------------------------------------------------------\n",
    "\n",
    "Compare Aqueduct 30 vs 21 and create change tables.\n",
    "\n",
    "Creating an area image in GDAL / rasterion is cumbersome. Therefore I will \n",
    "explore options to get the task done in EarthEngine.\n",
    "\n",
    "\n",
    "Author: Rutger Hofste\n",
    "Date: 20190522\n",
    "Kernel: python35\n",
    "Docker: rutgerhofste/gisdocker:ubuntu16.04\n",
    "\n",
    "\"\"\"\n",
    "\n",
    "TESTING = 0\n",
    "\n",
    "SCRIPT_NAME = \"Y2019M05D22_RH_AQ30VS21_Compare_Tables_V01\"\n",
    "OUTPUT_VERSION = 5\n",
    "\n",
    "AQ21_EE_PATH = \"projects/WRI-Aquaduct/Y2019M05D22_RH_AQ30VS21_Rasters_AQ21_Ingest_EE_V01/output_V01/\"\n",
    "AQ30_EE_PATH = \"projects/WRI-Aquaduct/Y2019M05D22_RH_AQ30VS21_Rasters_AQ30_Ingest_EE_V01/output_V02/\"\n",
    "\n",
    "# Path for Overall water risk valid weight fraction.\n",
    "AQ30_EE_OWR_WF_PATH = \"projects/WRI-Aquaduct/Y2019M05D22_RH_AQ30VS21_Rasters_AQ30_Ingest_EE_V01/output_V02/owr_wf\"\n",
    "\n",
    "# Aqueduct 3.0 and 2.1 corresponding indicators. \n",
    "# Please note that for overall water risk in Aqueduct 3.0, a valid fraction need to be applied\n",
    "\n",
    "INDICATORS = {\"owr_score\":\"DEFAULT\",\n",
    "              \"bws_score\":\"BWS_s\",\n",
    "              \"iav_score\":\"WSV_s\",\n",
    "              \"sev_score\":\"SV_s\"}\n",
    "\n",
    "# Fraction of the framework that should be valid for overall water risk.\n",
    "AQ30_OWR_THRESHOLD = 0.75\n",
    "\n",
    "CRS = \"EPSG:4326\"\n",
    "\n",
    "CRS_TRANSFORM_30S = [\n",
    "    0.008333333333333333,\n",
    "    0,\n",
    "    -180,\n",
    "    0,\n",
    "    -0.008333333333333333,\n",
    "    90\n",
    "]\n",
    "\n",
    "GCS_BUCKET = \"aqueduct30_v01\"\n",
    "\n",
    "print(\"AQ21_EE_PATH: \" + AQ21_EE_PATH +\n",
    "      \"\\nAQ30_EE_PATH: \" +AQ30_EE_PATH )"
   ]
  },
  {
   "cell_type": "code",
   "execution_count": 2,
   "metadata": {},
   "outputs": [
    {
     "name": "stdout",
     "output_type": "stream",
     "text": [
      "Y2019M05D24 UTC 17:03\n"
     ]
    },
    {
     "data": {
      "text/plain": [
       "'3.5.4 |Anaconda, Inc.| (default, Nov 20 2017, 18:44:38) \\n[GCC 7.2.0]'"
      ]
     },
     "execution_count": 2,
     "metadata": {},
     "output_type": "execute_result"
    }
   ],
   "source": [
    "import time, datetime, sys\n",
    "dateString = time.strftime(\"Y%YM%mD%d\")\n",
    "timeString = time.strftime(\"UTC %H:%M\")\n",
    "start = datetime.datetime.now()\n",
    "print(dateString,timeString)\n",
    "sys.version"
   ]
  },
  {
   "cell_type": "code",
   "execution_count": 3,
   "metadata": {
    "collapsed": true
   },
   "outputs": [],
   "source": [
    "import ee\n",
    "ee.Initialize()"
   ]
  },
  {
   "cell_type": "code",
   "execution_count": 4,
   "metadata": {
    "collapsed": true
   },
   "outputs": [],
   "source": [
    "def get_aq21_image(indicator):\n",
    "    path = \"{}{}\".format(AQ21_EE_PATH,indicator)\n",
    "    return ee.Image(path)\n",
    "\n",
    "def get_aq30_image(indicator):\n",
    "    \"\"\"\n",
    "    Gets the Aqueduct indicator layer. If the layer is owr, it \n",
    "    applies a valid mask greate than or equal to AQ30_OWR_THRESHOLD\n",
    "    \n",
    "    \"\"\"\n",
    "    path = \"{}{}\".format(AQ30_EE_PATH,indicator)\n",
    "    image = ee.Image(path)\n",
    "    if indicator == \"owr_score\":\n",
    "        # Mask owr by valid\n",
    "        mask = ee.Image(AQ30_EE_OWR_WF_PATH)\n",
    "        image = image.mask(mask.gte(AQ30_OWR_THRESHOLD))\n",
    "    else:\n",
    "        pass    \n",
    "    return image\n",
    "    \n",
    "\n",
    "def mask_image(image,lower_bound):\n",
    "    \"\"\" Create a boolean mask of an image using a [lower_bound,upper_bound). \n",
    "    The upper bound = lower_bound + 1 \n",
    "    \n",
    "    The mask is 1 where values in the image are lower<=x<upper and 0 elsewhere\n",
    "    \n",
    "    \"\"\"\n",
    "    upper_bound = lower_bound + 1\n",
    "    lower_mask = image.gte(lower_bound)\n",
    "    upper_mask = image.lt(upper_bound)\n",
    "    mask = lower_mask.multiply(upper_mask)\n",
    "    return mask\n",
    "\n",
    "def sum_raster(image):\n",
    "    \"\"\"\n",
    "    Global sum\n",
    "    \"\"\"\n",
    "    reducer = ee.Reducer.sum()\n",
    "    #geometry = ee.Geometry.Polygon(coords=[[-10.0, -10.0], [10,  -10.0], [10, 10], [-10,10]], proj= ee.Projection('EPSG:4326'),geodesic=False ) \n",
    "    geometry = ee.Geometry.Polygon(coords=[[-180.0, -90.0], [180,  -90.0], [180, 90], [-180,90]], proj= ee.Projection('EPSG:4326'),geodesic=False )\n",
    "    dictje =ee.Image(image).reduceRegion(reducer=reducer,\n",
    "                                     geometry=geometry,\n",
    "                                     #scale,\n",
    "                                     crs=CRS,\n",
    "                                     crsTransform=CRS_TRANSFORM_30S,\n",
    "                                     #bestEffort,\n",
    "                                     maxPixels=1e10,\n",
    "                                     #tileScale)\n",
    "                                     )\n",
    "    dictje = dictje.set(\"aq30_indicator\",aq30_indicator)\n",
    "    dictje = dictje.set(\"aq21_indicator\",aq21_indicator)\n",
    "    dictje = dictje.set(\"aq30_lower_bound\",aq30_lower_bound)\n",
    "    dictje = dictje.set(\"aq21_lower_bound\",aq21_lower_bound)\n",
    "    feature = ee.Feature(None,dictje)\n",
    "    fc = ee.FeatureCollection([feature])\n",
    "    return fc\n",
    "\n",
    "def export_fc(fc,description):\n",
    "    task = ee.batch.Export.table.toCloudStorage(collection=fc,\n",
    "                                              description=description,\n",
    "                                              bucket=GCS_BUCKET,\n",
    "                                              fileNamePrefix=\"{}/output_V{:02}/{}\".format(SCRIPT_NAME,OUTPUT_VERSION,description),\n",
    "                                              fileFormat=\"CSV\"\n",
    "                                              )\n",
    "    task.start()\n",
    "    \n",
    "    "
   ]
  },
  {
   "cell_type": "code",
   "execution_count": 5,
   "metadata": {
    "collapsed": true
   },
   "outputs": [],
   "source": [
    "aq21_lower_bounds = [0,1,2,3,4]\n",
    "aq30_lower_bounds = [0,1,2,3,4]"
   ]
  },
  {
   "cell_type": "code",
   "execution_count": null,
   "metadata": {},
   "outputs": [
    {
     "name": "stdout",
     "output_type": "stream",
     "text": [
      "aq30_indicator:  owr_score  aq21_indicator:  DEFAULT aq30_lower_bound:  0  aq21_lower_bound:  0\n",
      "aq30_indicator:  owr_score  aq21_indicator:  DEFAULT aq30_lower_bound:  0  aq21_lower_bound:  1\n",
      "aq30_indicator:  owr_score  aq21_indicator:  DEFAULT aq30_lower_bound:  0  aq21_lower_bound:  2\n",
      "aq30_indicator:  owr_score  aq21_indicator:  DEFAULT aq30_lower_bound:  0  aq21_lower_bound:  3\n",
      "aq30_indicator:  owr_score  aq21_indicator:  DEFAULT aq30_lower_bound:  0  aq21_lower_bound:  4\n",
      "aq30_indicator:  owr_score  aq21_indicator:  DEFAULT aq30_lower_bound:  1  aq21_lower_bound:  0\n",
      "aq30_indicator:  owr_score  aq21_indicator:  DEFAULT aq30_lower_bound:  1  aq21_lower_bound:  1\n",
      "aq30_indicator:  owr_score  aq21_indicator:  DEFAULT aq30_lower_bound:  1  aq21_lower_bound:  2\n",
      "aq30_indicator:  owr_score  aq21_indicator:  DEFAULT aq30_lower_bound:  1  aq21_lower_bound:  3\n",
      "aq30_indicator:  owr_score  aq21_indicator:  DEFAULT aq30_lower_bound:  1  aq21_lower_bound:  4\n",
      "aq30_indicator:  owr_score  aq21_indicator:  DEFAULT aq30_lower_bound:  2  aq21_lower_bound:  0\n",
      "aq30_indicator:  owr_score  aq21_indicator:  DEFAULT aq30_lower_bound:  2  aq21_lower_bound:  1\n",
      "aq30_indicator:  owr_score  aq21_indicator:  DEFAULT aq30_lower_bound:  2  aq21_lower_bound:  2\n",
      "aq30_indicator:  owr_score  aq21_indicator:  DEFAULT aq30_lower_bound:  2  aq21_lower_bound:  3\n",
      "aq30_indicator:  owr_score  aq21_indicator:  DEFAULT aq30_lower_bound:  2  aq21_lower_bound:  4\n",
      "aq30_indicator:  owr_score  aq21_indicator:  DEFAULT aq30_lower_bound:  3  aq21_lower_bound:  0\n",
      "aq30_indicator:  owr_score  aq21_indicator:  DEFAULT aq30_lower_bound:  3  aq21_lower_bound:  1\n",
      "aq30_indicator:  owr_score  aq21_indicator:  DEFAULT aq30_lower_bound:  3  aq21_lower_bound:  2\n",
      "aq30_indicator:  owr_score  aq21_indicator:  DEFAULT aq30_lower_bound:  3  aq21_lower_bound:  3\n",
      "aq30_indicator:  owr_score  aq21_indicator:  DEFAULT aq30_lower_bound:  3  aq21_lower_bound:  4\n",
      "aq30_indicator:  owr_score  aq21_indicator:  DEFAULT aq30_lower_bound:  4  aq21_lower_bound:  0\n",
      "aq30_indicator:  owr_score  aq21_indicator:  DEFAULT aq30_lower_bound:  4  aq21_lower_bound:  1\n",
      "aq30_indicator:  owr_score  aq21_indicator:  DEFAULT aq30_lower_bound:  4  aq21_lower_bound:  2\n",
      "aq30_indicator:  bws_score  aq21_indicator:  BWS_s aq30_lower_bound:  3  aq21_lower_bound:  1\n",
      "aq30_indicator:  bws_score  aq21_indicator:  BWS_s aq30_lower_bound:  3  aq21_lower_bound:  2\n",
      "aq30_indicator:  bws_score  aq21_indicator:  BWS_s aq30_lower_bound:  3  aq21_lower_bound:  3\n",
      "aq30_indicator:  bws_score  aq21_indicator:  BWS_s aq30_lower_bound:  3  aq21_lower_bound:  4\n",
      "aq30_indicator:  sev_score  aq21_indicator:  SV_s aq30_lower_bound:  1  aq21_lower_bound:  4\n",
      "aq30_indicator:  sev_score  aq21_indicator:  SV_s aq30_lower_bound:  2  aq21_lower_bound:  0\n",
      "aq30_indicator:  sev_score  aq21_indicator:  SV_s aq30_lower_bound:  2  aq21_lower_bound:  1\n",
      "aq30_indicator:  sev_score  aq21_indicator:  SV_s aq30_lower_bound:  2  aq21_lower_bound:  2\n",
      "aq30_indicator:  sev_score  aq21_indicator:  SV_s aq30_lower_bound:  2  aq21_lower_bound:  3\n",
      "aq30_indicator:  sev_score  aq21_indicator:  SV_s aq30_lower_bound:  2  aq21_lower_bound:  4\n",
      "aq30_indicator:  sev_score  aq21_indicator:  SV_s aq30_lower_bound:  3  aq21_lower_bound:  0\n",
      "aq30_indicator:  sev_score  aq21_indicator:  SV_s aq30_lower_bound:  3  aq21_lower_bound:  1\n",
      "aq30_indicator:  sev_score  aq21_indicator:  SV_s aq30_lower_bound:  3  aq21_lower_bound:  2\n",
      "aq30_indicator:  sev_score  aq21_indicator:  SV_s aq30_lower_bound:  3  aq21_lower_bound:  3\n",
      "aq30_indicator:  sev_score  aq21_indicator:  SV_s aq30_lower_bound:  3  aq21_lower_bound:  4\n",
      "aq30_indicator:  sev_score  aq21_indicator:  SV_s aq30_lower_bound:  4  aq21_lower_bound:  0\n",
      "aq30_indicator:  sev_score  aq21_indicator:  SV_s aq30_lower_bound:  4  aq21_lower_bound:  1\n",
      "aq30_indicator:  sev_score  aq21_indicator:  SV_s aq30_lower_bound:  4  aq21_lower_bound:  2\n",
      "aq30_indicator:  sev_score  aq21_indicator:  SV_s aq30_lower_bound:  4  aq21_lower_bound:  3\n",
      "aq30_indicator:  sev_score  aq21_indicator:  SV_s aq30_lower_bound:  4  aq21_lower_bound:  4\n",
      "aq30_indicator:  iav_score  aq21_indicator:  WSV_s aq30_lower_bound:  0  aq21_lower_bound:  0\n",
      "aq30_indicator:  iav_score  aq21_indicator:  WSV_s aq30_lower_bound:  0  aq21_lower_bound:  1\n",
      "aq30_indicator:  iav_score  aq21_indicator:  WSV_s aq30_lower_bound:  0  aq21_lower_bound:  2\n",
      "aq30_indicator:  iav_score  aq21_indicator:  WSV_s aq30_lower_bound:  0  aq21_lower_bound:  3\n",
      "aq30_indicator:  iav_score  aq21_indicator:  WSV_s aq30_lower_bound:  0  aq21_lower_bound:  4\n",
      "aq30_indicator:  iav_score  aq21_indicator:  WSV_s aq30_lower_bound:  1  aq21_lower_bound:  0\n",
      "aq30_indicator:  iav_score  aq21_indicator:  WSV_s aq30_lower_bound:  1  aq21_lower_bound:  1\n",
      "aq30_indicator:  iav_score  aq21_indicator:  WSV_s aq30_lower_bound:  1  aq21_lower_bound:  2\n",
      "aq30_indicator:  iav_score  aq21_indicator:  WSV_s aq30_lower_bound:  1  aq21_lower_bound:  3\n",
      "aq30_indicator:  iav_score  aq21_indicator:  WSV_s aq30_lower_bound:  1  aq21_lower_bound:  4\n",
      "aq30_indicator:  iav_score  aq21_indicator:  WSV_s aq30_lower_bound:  2  aq21_lower_bound:  0\n",
      "aq30_indicator:  iav_score  aq21_indicator:  WSV_s aq30_lower_bound:  2  aq21_lower_bound:  1\n",
      "aq30_indicator:  iav_score  aq21_indicator:  WSV_s aq30_lower_bound:  2  aq21_lower_bound:  2\n",
      "aq30_indicator:  iav_score  aq21_indicator:  WSV_s aq30_lower_bound:  2  aq21_lower_bound:  3\n",
      "aq30_indicator:  iav_score  aq21_indicator:  WSV_s aq30_lower_bound:  2  aq21_lower_bound:  4\n",
      "aq30_indicator:  iav_score  aq21_indicator:  WSV_s aq30_lower_bound:  3  aq21_lower_bound:  0\n",
      "aq30_indicator:  iav_score  aq21_indicator:  WSV_s aq30_lower_bound:  3  aq21_lower_bound:  1\n",
      "aq30_indicator:  iav_score  aq21_indicator:  WSV_s aq30_lower_bound:  3  aq21_lower_bound:  2\n",
      "aq30_indicator:  iav_score  aq21_indicator:  WSV_s aq30_lower_bound:  3  aq21_lower_bound:  3\n",
      "aq30_indicator:  iav_score  aq21_indicator:  WSV_s aq30_lower_bound:  3  aq21_lower_bound:  4\n",
      "aq30_indicator:  iav_score  aq21_indicator:  WSV_s aq30_lower_bound:  4  aq21_lower_bound:  0\n",
      "aq30_indicator:  iav_score  aq21_indicator:  WSV_s aq30_lower_bound:  4  aq21_lower_bound:  1\n",
      "aq30_indicator:  iav_score  aq21_indicator:  WSV_s aq30_lower_bound:  4  aq21_lower_bound:  2\n",
      "aq30_indicator:  iav_score  aq21_indicator:  WSV_s aq30_lower_bound:  4  aq21_lower_bound:  3\n",
      "aq30_indicator:  iav_score  aq21_indicator:  WSV_s aq30_lower_bound:  4  aq21_lower_bound:  4\n"
     ]
    }
   ],
   "source": [
    "for aq30_indicator, aq21_indicator in INDICATORS.items():\n",
    "    aq21_image = get_aq21_image(aq21_indicator)\n",
    "    aq30_image = get_aq30_image(aq30_indicator)\n",
    "    \n",
    "\n",
    "    for aq30_lower_bound in aq30_lower_bounds:\n",
    "        for aq21_lower_bound in aq21_lower_bounds:\n",
    "            print(\"aq30_indicator: \",aq30_indicator,\" aq21_indicator: \", aq21_indicator, \\\n",
    "                  \"aq30_lower_bound: \",aq30_lower_bound, \" aq21_lower_bound: \",aq21_lower_bound)\n",
    "            description = \"{}_{}_aq30lower{}_aq21lower{}_V{:02}\".format(aq30_indicator,aq21_indicator,aq30_lower_bound,aq21_lower_bound,OUTPUT_VERSION)\n",
    "            aq21_mask = mask_image(aq21_image,aq21_lower_bound)\n",
    "            aq30_mask = mask_image(aq30_image,aq30_lower_bound)\n",
    "            total_mask = aq21_mask.multiply(aq30_mask)\n",
    "            \n",
    "            area_km2 = ee.Image.pixelArea().divide(ee.Image(1e6))\n",
    "            total_area_mask  = total_mask.multiply(area_km2)\n",
    "            \n",
    "            fc = sum_raster(total_area_mask)\n",
    "            export_fc(fc,description)"
   ]
  },
  {
   "cell_type": "code",
   "execution_count": null,
   "metadata": {},
   "outputs": [],
   "source": [
    "end = datetime.datetime.now()\n",
    "elapsed = end - start\n",
    "print(elapsed)"
   ]
  }
 ],
 "metadata": {
  "kernelspec": {
   "display_name": "Python 35",
   "language": "python",
   "name": "python35"
  },
  "language_info": {
   "codemirror_mode": {
    "name": "ipython",
    "version": 3
   },
   "file_extension": ".py",
   "mimetype": "text/x-python",
   "name": "python",
   "nbconvert_exporter": "python",
   "pygments_lexer": "ipython3",
   "version": "3.5.4"
  }
 },
 "nbformat": 4,
 "nbformat_minor": 2
}
