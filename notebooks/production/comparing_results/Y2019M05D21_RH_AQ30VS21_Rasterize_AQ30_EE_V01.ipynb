{
 "cells": [
  {
   "cell_type": "code",
   "execution_count": 15,
   "metadata": {},
   "outputs": [
    {
     "name": "stdout",
     "output_type": "stream",
     "text": [
      "\n",
      "s3_output_path: s3://wri-projects/Aqueduct30/Aq30vs21/Y2019M05D21_RH_AQ30VS21_Rasterize_AQ30_EE_V01/output_V01/\n"
     ]
    }
   ],
   "source": [
    "\"\"\" Rasterize Aqueduct 30 and store to Google Cloud Storage.\n",
    "-------------------------------------------------------------------------------\n",
    "\n",
    "Recap: The quantiles approach has been applied to all weightings, not just\n",
    "the default one. Therefore there are slight variations in the histogram for\n",
    "\"def\" or default weighting. \n",
    "\n",
    "\n",
    "Author: Rutger Hofste\n",
    "Date: 20190521\n",
    "Kernel: python35\n",
    "Docker: rutgerhofste/gisdocker:ubuntu16.04\n",
    "\n",
    "\"\"\"\n",
    "\n",
    "SCRIPT_NAME = \"Y2019M05D21_RH_AQ30VS21_Rasterize_AQ30_EE_V01\"\n",
    "OUTPUT_VERSION = 1\n",
    "\n",
    "X_DIMENSION_30S = 43200\n",
    "Y_DIMENSION_30S = 21600\n",
    "\n",
    "S3_TABLE_INPUT_PATH = \"s3://wri-projects/Aqueduct30/finalData/Y2019M01D14_RH_Aqueduct_Results_V01/output_V04/annual\"\n",
    "TABLE_INPUT_FILE_NAME = \"annual_normalized.pkl\"\n",
    "\n",
    "S3_GEOM_INPUT_PATH = \"s3://wri-projects/Aqueduct30/finalData/Y2019M01D14_RH_Aqueduct_Results_V01/output_V04/master_geom\"\n",
    "GEOM_INPUT_FILE_NAME = \"master_geom.shp\"\n",
    "\n",
    "ec2_input_path = \"/volumes/data/{}/input_V{:02.0f}\".format(SCRIPT_NAME,OUTPUT_VERSION) \n",
    "ec2_output_path = \"/volumes/data/{}/output_V{:02.0f}\".format(SCRIPT_NAME,OUTPUT_VERSION) \n",
    "\n",
    "s3_output_path = \"s3://wri-projects/Aqueduct30/Aq30vs21/{}/output_V{:02.0f}/\".format(SCRIPT_NAME,OUTPUT_VERSION)\n",
    "\n",
    "print(\"\\ns3_output_path: \" + s3_output_path)"
   ]
  },
  {
   "cell_type": "code",
   "execution_count": 2,
   "metadata": {},
   "outputs": [
    {
     "name": "stdout",
     "output_type": "stream",
     "text": [
      "Y2019M05D21 UTC 16:26\n"
     ]
    }
   ],
   "source": [
    "import time, datetime, sys\n",
    "dateString = time.strftime(\"Y%YM%mD%d\")\n",
    "timeString = time.strftime(\"UTC %H:%M\")\n",
    "start = datetime.datetime.now()\n",
    "print(dateString,timeString)\n",
    "sys.version\n",
    "\n",
    "%matplotlib inline"
   ]
  },
  {
   "cell_type": "code",
   "execution_count": 23,
   "metadata": {
    "collapsed": true
   },
   "outputs": [],
   "source": [
    "import os\n",
    "import numpy as np\n",
    "import pandas as pd\n",
    "import geopandas as gpd\n",
    "from google.cloud import bigquery\n",
    "\n"
   ]
  },
  {
   "cell_type": "code",
   "execution_count": 4,
   "metadata": {},
   "outputs": [],
   "source": [
    "!rm -r {ec2_input_path}\n",
    "!rm -r {ec2_output_path}\n",
    "!mkdir -p {ec2_input_path}\n",
    "!mkdir -p {ec2_output_path}"
   ]
  },
  {
   "cell_type": "code",
   "execution_count": 6,
   "metadata": {},
   "outputs": [
    {
     "name": "stdout",
     "output_type": "stream",
     "text": [
      "download: s3://wri-projects/Aqueduct30/finalData/Y2019M01D14_RH_Aqueduct_Results_V01/output_V04/annual/annual_normalized.pkl to ../../../../../data/Y2019M05D21_RH_AQ30VS21_Rasterize_AQ30_EE_V01/input_V01/annual_normalized.pkl\n"
     ]
    }
   ],
   "source": [
    "!aws s3 cp {S3_TABLE_INPUT_PATH}/{TABLE_INPUT_FILE_NAME} {ec2_input_path} "
   ]
  },
  {
   "cell_type": "code",
   "execution_count": 16,
   "metadata": {},
   "outputs": [
    {
     "name": "stdout",
     "output_type": "stream",
     "text": [
      "download: s3://wri-projects/Aqueduct30/finalData/Y2019M01D14_RH_Aqueduct_Results_V01/output_V04/master_geom/master_geom.cpg to ../../../../../data/Y2019M05D21_RH_AQ30VS21_Rasterize_AQ30_EE_V01/input_V01/master_geom.cpg\n",
      "download: s3://wri-projects/Aqueduct30/finalData/Y2019M01D14_RH_Aqueduct_Results_V01/output_V04/master_geom/master_geom.prj to ../../../../../data/Y2019M05D21_RH_AQ30VS21_Rasterize_AQ30_EE_V01/input_V01/master_geom.prj\n",
      "download: s3://wri-projects/Aqueduct30/finalData/Y2019M01D14_RH_Aqueduct_Results_V01/output_V04/master_geom/master_geom.dbf to ../../../../../data/Y2019M05D21_RH_AQ30VS21_Rasterize_AQ30_EE_V01/input_V01/master_geom.dbf\n",
      "download: s3://wri-projects/Aqueduct30/finalData/Y2019M01D14_RH_Aqueduct_Results_V01/output_V04/master_geom/master_geom.shx to ../../../../../data/Y2019M05D21_RH_AQ30VS21_Rasterize_AQ30_EE_V01/input_V01/master_geom.shx\n",
      "download: s3://wri-projects/Aqueduct30/finalData/Y2019M01D14_RH_Aqueduct_Results_V01/output_V04/master_geom/master_geom.shp to ../../../../../data/Y2019M05D21_RH_AQ30VS21_Rasterize_AQ30_EE_V01/input_V01/master_geom.shp\n"
     ]
    }
   ],
   "source": [
    "!aws s3 cp {S3_GEOM_INPUT_PATH} {ec2_input_path} --recursive"
   ]
  },
  {
   "cell_type": "code",
   "execution_count": 22,
   "metadata": {},
   "outputs": [],
   "source": [
    "table_input_path = \"{}/{}\".format(ec2_input_path,TABLE_INPUT_FILE_NAME)\n",
    "geom_input_path = \"{}/{}\".format(ec2_input_path,GEOM_INPUT_FILE_NAME)"
   ]
  },
  {
   "cell_type": "code",
   "execution_count": 19,
   "metadata": {
    "collapsed": true
   },
   "outputs": [],
   "source": [
    "df_table = pd.read_pickle(table_input_path)"
   ]
  },
  {
   "cell_type": "code",
   "execution_count": 25,
   "metadata": {},
   "outputs": [],
   "source": [
    "gdf_geom = gpd.read_file(geom_input_path)"
   ]
  },
  {
   "cell_type": "code",
   "execution_count": null,
   "metadata": {
    "collapsed": true
   },
   "outputs": [],
   "source": [
    "# Hier gebleven"
   ]
  },
  {
   "cell_type": "code",
   "execution_count": null,
   "metadata": {
    "collapsed": true
   },
   "outputs": [],
   "source": []
  },
  {
   "cell_type": "code",
   "execution_count": 20,
   "metadata": {},
   "outputs": [],
   "source": [
    "industry_short = \"def\"\n",
    "indicator = \"awr\"\n",
    "group_short = \"tot\""
   ]
  },
  {
   "cell_type": "code",
   "execution_count": 21,
   "metadata": {},
   "outputs": [
    {
     "data": {
      "text/html": [
       "<div>\n",
       "<style scoped>\n",
       "    .dataframe tbody tr th:only-of-type {\n",
       "        vertical-align: middle;\n",
       "    }\n",
       "\n",
       "    .dataframe tbody tr th {\n",
       "        vertical-align: top;\n",
       "    }\n",
       "\n",
       "    .dataframe thead th {\n",
       "        text-align: right;\n",
       "    }\n",
       "</style>\n",
       "<table border=\"1\" class=\"dataframe\">\n",
       "  <thead>\n",
       "    <tr style=\"text-align: right;\">\n",
       "      <th></th>\n",
       "      <th>cat</th>\n",
       "      <th>group_short</th>\n",
       "      <th>indicator</th>\n",
       "      <th>industry_short</th>\n",
       "      <th>label</th>\n",
       "      <th>raw</th>\n",
       "      <th>score</th>\n",
       "      <th>string_id</th>\n",
       "      <th>weight_fraction</th>\n",
       "      <th>weighted_score</th>\n",
       "    </tr>\n",
       "  </thead>\n",
       "  <tbody>\n",
       "    <tr>\n",
       "      <th>0</th>\n",
       "      <td>4.0</td>\n",
       "      <td>qan</td>\n",
       "      <td>bwd</td>\n",
       "      <td>che</td>\n",
       "      <td>Extremely High</td>\n",
       "      <td>0.987061</td>\n",
       "      <td>4.948243</td>\n",
       "      <td>111011-EGY.11_1-3365</td>\n",
       "      <td>0.076190</td>\n",
       "      <td>0.377009</td>\n",
       "    </tr>\n",
       "    <tr>\n",
       "      <th>1</th>\n",
       "      <td>4.0</td>\n",
       "      <td>qan</td>\n",
       "      <td>bwd</td>\n",
       "      <td>smc</td>\n",
       "      <td>Extremely High</td>\n",
       "      <td>0.987061</td>\n",
       "      <td>4.948243</td>\n",
       "      <td>111011-EGY.11_1-3365</td>\n",
       "      <td>0.095238</td>\n",
       "      <td>0.471261</td>\n",
       "    </tr>\n",
       "    <tr>\n",
       "      <th>2</th>\n",
       "      <td>4.0</td>\n",
       "      <td>qan</td>\n",
       "      <td>bwd</td>\n",
       "      <td>min</td>\n",
       "      <td>Extremely High</td>\n",
       "      <td>0.987061</td>\n",
       "      <td>4.948243</td>\n",
       "      <td>111011-EGY.11_1-3365</td>\n",
       "      <td>0.061069</td>\n",
       "      <td>0.302183</td>\n",
       "    </tr>\n",
       "    <tr>\n",
       "      <th>3</th>\n",
       "      <td>4.0</td>\n",
       "      <td>qan</td>\n",
       "      <td>bwd</td>\n",
       "      <td>con</td>\n",
       "      <td>Extremely High</td>\n",
       "      <td>0.987061</td>\n",
       "      <td>4.948243</td>\n",
       "      <td>111011-EGY.11_1-3365</td>\n",
       "      <td>0.142857</td>\n",
       "      <td>0.706892</td>\n",
       "    </tr>\n",
       "    <tr>\n",
       "      <th>4</th>\n",
       "      <td>4.0</td>\n",
       "      <td>qan</td>\n",
       "      <td>bwd</td>\n",
       "      <td>tex</td>\n",
       "      <td>Extremely High</td>\n",
       "      <td>0.987061</td>\n",
       "      <td>4.948243</td>\n",
       "      <td>111011-EGY.11_1-3365</td>\n",
       "      <td>0.081633</td>\n",
       "      <td>0.403938</td>\n",
       "    </tr>\n",
       "  </tbody>\n",
       "</table>\n",
       "</div>"
      ],
      "text/plain": [
       "   cat group_short indicator industry_short           label       raw  \\\n",
       "0  4.0         qan       bwd            che  Extremely High  0.987061   \n",
       "1  4.0         qan       bwd            smc  Extremely High  0.987061   \n",
       "2  4.0         qan       bwd            min  Extremely High  0.987061   \n",
       "3  4.0         qan       bwd            con  Extremely High  0.987061   \n",
       "4  4.0         qan       bwd            tex  Extremely High  0.987061   \n",
       "\n",
       "      score             string_id  weight_fraction  weighted_score  \n",
       "0  4.948243  111011-EGY.11_1-3365         0.076190        0.377009  \n",
       "1  4.948243  111011-EGY.11_1-3365         0.095238        0.471261  \n",
       "2  4.948243  111011-EGY.11_1-3365         0.061069        0.302183  \n",
       "3  4.948243  111011-EGY.11_1-3365         0.142857        0.706892  \n",
       "4  4.948243  111011-EGY.11_1-3365         0.081633        0.403938  "
      ]
     },
     "execution_count": 21,
     "metadata": {},
     "output_type": "execute_result"
    }
   ],
   "source": [
    "df_table.head()"
   ]
  },
  {
   "cell_type": "code",
   "execution_count": null,
   "metadata": {},
   "outputs": [],
   "source": [
    "df_sel =  df.loc[(df[\"group_short\"] == group_short) & (df[\"indicator\"] == indicator) & (df[\"industry_short\"] == industry_short)]"
   ]
  },
  {
   "cell_type": "code",
   "execution_count": null,
   "metadata": {},
   "outputs": [],
   "source": []
  },
  {
   "cell_type": "code",
   "execution_count": null,
   "metadata": {
    "collapsed": true
   },
   "outputs": [],
   "source": []
  }
 ],
 "metadata": {
  "kernelspec": {
   "display_name": "Python 35",
   "language": "python",
   "name": "python35"
  },
  "language_info": {
   "codemirror_mode": {
    "name": "ipython",
    "version": 3
   },
   "file_extension": ".py",
   "mimetype": "text/x-python",
   "name": "python",
   "nbconvert_exporter": "python",
   "pygments_lexer": "ipython3",
   "version": "3.5.4"
  }
 },
 "nbformat": 4,
 "nbformat_minor": 2
}
