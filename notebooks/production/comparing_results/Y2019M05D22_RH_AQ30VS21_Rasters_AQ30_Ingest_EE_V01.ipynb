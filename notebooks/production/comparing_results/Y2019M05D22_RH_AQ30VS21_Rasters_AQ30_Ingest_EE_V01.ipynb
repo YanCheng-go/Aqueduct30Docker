{
 "cells": [
  {
   "cell_type": "code",
   "execution_count": 1,
   "metadata": {},
   "outputs": [
    {
     "name": "stdout",
     "output_type": "stream",
     "text": [
      "GCS_INPUT_PATH: gs://aqueduct30_v01/Y2019M05D21_RH_AQ30VS21_Rasterize_AQ30_EE_V01/output_V05/\n",
      "ee_output_path: projects/WRI-Aquaduct/Y2019M05D22_RH_AQ30VS21_Rasters_AQ30_Ingest_EE_V01/output_V02\n"
     ]
    }
   ],
   "source": [
    "\"\"\" Ingest rasterized AQ30 indicators to earthengine.\n",
    "-------------------------------------------------------------------------------\n",
    "\n",
    "Ingest the rasterized tiffs of selected indicators to earthengine.\n",
    "\n",
    "Author: Rutger Hofste\n",
    "Date: 20190522\n",
    "Kernel: python35\n",
    "Docker: rutgerhofste/gisdocker:ubuntu16.04\n",
    "\n",
    "\"\"\"\n",
    "TESTING = 0\n",
    "\n",
    "SCRIPT_NAME = \"Y2019M05D22_RH_AQ30VS21_Rasters_AQ30_Ingest_EE_V01\"\n",
    "OUTPUT_VERSION = 2\n",
    "\n",
    "GCS_INPUT_PATH = \"gs://aqueduct30_v01/Y2019M05D21_RH_AQ30VS21_Rasterize_AQ30_EE_V01/output_V05/\"\n",
    "\n",
    "ec2_input_path = \"/volumes/data/{}/input_V{:02.0f}/\".format(SCRIPT_NAME,OUTPUT_VERSION)\n",
    "ec2_output_path = \"/volumes/data/{}/output_V{:02.0f}/\".format(SCRIPT_NAME,OUTPUT_VERSION)\n",
    "\n",
    "ee_output_path = \"projects/WRI-Aquaduct/{}/output_V{:02.0f}\".format(SCRIPT_NAME,OUTPUT_VERSION)\n",
    "\n",
    "print(\"GCS_INPUT_PATH: \" + GCS_INPUT_PATH +\n",
    "      \"\\nee_output_path: \" + ee_output_path )"
   ]
  },
  {
   "cell_type": "code",
   "execution_count": 2,
   "metadata": {},
   "outputs": [
    {
     "name": "stdout",
     "output_type": "stream",
     "text": [
      "Y2019M05D22 UTC 18:06\n"
     ]
    },
    {
     "data": {
      "text/plain": [
       "'3.5.4 |Anaconda, Inc.| (default, Nov 20 2017, 18:44:38) \\n[GCC 7.2.0]'"
      ]
     },
     "execution_count": 2,
     "metadata": {},
     "output_type": "execute_result"
    }
   ],
   "source": [
    "import time, datetime, sys\n",
    "dateString = time.strftime(\"Y%YM%mD%d\")\n",
    "timeString = time.strftime(\"UTC %H:%M\")\n",
    "start = datetime.datetime.now()\n",
    "print(dateString,timeString)\n",
    "sys.version"
   ]
  },
  {
   "cell_type": "code",
   "execution_count": 3,
   "metadata": {
    "collapsed": true
   },
   "outputs": [],
   "source": [
    "#imports\n",
    "import subprocess\n",
    "import datetime\n",
    "import os\n",
    "import time\n",
    "import re\n",
    "import pandas as pd\n",
    "from datetime import timedelta"
   ]
  },
  {
   "cell_type": "code",
   "execution_count": 4,
   "metadata": {
    "collapsed": true
   },
   "outputs": [],
   "source": [
    "command = \"earthengine create folder projects/WRI-Aquaduct/{}\".format(SCRIPT_NAME)\n",
    "response = subprocess.check_output(command,shell=True)"
   ]
  },
  {
   "cell_type": "code",
   "execution_count": 5,
   "metadata": {
    "collapsed": true
   },
   "outputs": [],
   "source": [
    "command = \"earthengine create folder projects/WRI-Aquaduct/{}/output_V{:02.0f}\".format(SCRIPT_NAME,OUTPUT_VERSION)\n",
    "response = subprocess.check_output(command,shell=True)"
   ]
  },
  {
   "cell_type": "code",
   "execution_count": 6,
   "metadata": {
    "collapsed": true
   },
   "outputs": [],
   "source": [
    "indicators = [\"owr_score\",\"owr_wf\",\"bws_score\",\"iav_score\",\"sev_score\"]"
   ]
  },
  {
   "cell_type": "code",
   "execution_count": 7,
   "metadata": {},
   "outputs": [
    {
     "name": "stdout",
     "output_type": "stream",
     "text": [
      "owr_score\n",
      "owr_wf\n",
      "bws_score\n",
      "iav_score\n",
      "sev_score\n"
     ]
    }
   ],
   "source": [
    "for indicator in indicators:\n",
    "    print(indicator)\n",
    "    source_path = \"{}{}.tif\".format(GCS_INPUT_PATH,indicator)\n",
    "    destination_path = \"{}/{}\".format(ee_output_path,indicator)\n",
    "    command = \"/opt/anaconda3/envs/python35/bin/earthengine upload image --asset_id={} {} --nodata_value=-9999\".format(destination_path,source_path)\n",
    "    response = subprocess.check_output(command,shell=True)"
   ]
  },
  {
   "cell_type": "code",
   "execution_count": 8,
   "metadata": {},
   "outputs": [
    {
     "name": "stdout",
     "output_type": "stream",
     "text": [
      "0:00:21.389957\n"
     ]
    }
   ],
   "source": [
    "end = datetime.datetime.now()\n",
    "elapsed = end - start\n",
    "print(elapsed)"
   ]
  }
 ],
 "metadata": {
  "kernelspec": {
   "display_name": "Python 35",
   "language": "python",
   "name": "python35"
  },
  "language_info": {
   "codemirror_mode": {
    "name": "ipython",
    "version": 3
   },
   "file_extension": ".py",
   "mimetype": "text/x-python",
   "name": "python",
   "nbconvert_exporter": "python",
   "pygments_lexer": "ipython3",
   "version": "3.5.4"
  }
 },
 "nbformat": 4,
 "nbformat_minor": 2
}
