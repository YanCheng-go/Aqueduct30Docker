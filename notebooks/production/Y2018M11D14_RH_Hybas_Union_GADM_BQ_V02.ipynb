{
 "cells": [
  {
   "cell_type": "code",
   "execution_count": 1,
   "metadata": {},
   "outputs": [
    {
     "name": "stdout",
     "output_type": "stream",
     "text": [
      "\n",
      "BQ_DATASET_NAME:  geospatial_geog_v01 \n",
      "BQ_INPUT_TABLE_LEFT:  y2018m11d12_rh_hybas_rds_to_bq_v01_v01 \n",
      "BQ_INPUT_TABLE_RIGHT:  y2018m11d12_rh_gadm36_level1_rds_to_bq_v01_v01 \n",
      "BQ_OUTPUT_TABLE_NAME:  y2018m11d14_rh_hybas_union_gadm_bq_v02_v02 \n",
      "ec2_output_path: /volumes/data/Y2018M11D14_RH_Hybas_Union_GADM_BQ_V02/output_V02/ \n",
      "s3_output_path: s3://wri-projects/Aqueduct30/processData/Y2018M11D14_RH_Hybas_Union_GADM_BQ_V02/output_V02/\n"
     ]
    }
   ],
   "source": [
    "\"\"\" Union of Hybas and GADM in Bigquey.\n",
    "-------------------------------------------------------------------------------\n",
    "\n",
    "Performance has been significantly improved with the help of Google Experts on\n",
    "the Bigquery forum.\n",
    "\n",
    "Author: Rutger Hofste\n",
    "Date: 20181114\n",
    "Kernel: python35\n",
    "Docker: rutgerhofste/gisdocker:ubuntu16.04\n",
    "\n",
    "\"\"\"\n",
    "\n",
    "TESTING = 0\n",
    "OVERWRITE_OUTPUT = 1\n",
    "SCRIPT_NAME = 'Y2018M11D14_RH_Hybas_Union_GADM_BQ_V02'\n",
    "OUTPUT_VERSION = 2\n",
    "\n",
    "BQ_PROJECT_ID = \"aqueduct30\"\n",
    "BQ_DATASET_NAME = \"geospatial_geog_v01\"\n",
    "\n",
    "BQ_INPUT_TABLE_LEFT = \"y2018m11d12_rh_hybas_rds_to_bq_v01_v01\"\n",
    "BQ_INPUT_TABLE_RIGHT = \"y2018m11d12_rh_gadm36_level1_rds_to_bq_v01_v01\"\n",
    "\n",
    "BQ_OUTPUT_TABLE_NAME = \"{}_v{:02.0f}\".format(SCRIPT_NAME,OUTPUT_VERSION).lower()\n",
    "\n",
    "ec2_output_path = \"/volumes/data/{}/output_V{:02.0f}/\".format(SCRIPT_NAME,OUTPUT_VERSION)\n",
    "s3_output_path = \"s3://wri-projects/Aqueduct30/processData/{}/output_V{:02.0f}/\".format(SCRIPT_NAME,OUTPUT_VERSION)\n",
    "\n",
    "\n",
    "print(\"\\nBQ_DATASET_NAME: \", BQ_DATASET_NAME,\n",
    "      \"\\nBQ_INPUT_TABLE_LEFT: \",BQ_INPUT_TABLE_LEFT,\n",
    "      \"\\nBQ_INPUT_TABLE_RIGHT: \",BQ_INPUT_TABLE_RIGHT,\n",
    "      \"\\nBQ_OUTPUT_TABLE_NAME: \", BQ_OUTPUT_TABLE_NAME,\n",
    "      \"\\nec2_output_path:\",ec2_output_path,\n",
    "      \"\\ns3_output_path:\",s3_output_path)\n"
   ]
  },
  {
   "cell_type": "code",
   "execution_count": 2,
   "metadata": {},
   "outputs": [
    {
     "name": "stdout",
     "output_type": "stream",
     "text": [
      "Y2018M11D21 UTC 15:08\n"
     ]
    },
    {
     "data": {
      "text/plain": [
       "'3.5.4 |Anaconda, Inc.| (default, Nov 20 2017, 18:44:38) \\n[GCC 7.2.0]'"
      ]
     },
     "execution_count": 2,
     "metadata": {},
     "output_type": "execute_result"
    }
   ],
   "source": [
    "import time, datetime, sys\n",
    "dateString = time.strftime(\"Y%YM%mD%d\")\n",
    "timeString = time.strftime(\"UTC %H:%M\")\n",
    "start = datetime.datetime.now()\n",
    "print(dateString,timeString)\n",
    "sys.version"
   ]
  },
  {
   "cell_type": "code",
   "execution_count": 3,
   "metadata": {},
   "outputs": [],
   "source": [
    "!rm -r {ec2_output_path}\n",
    "!mkdir -p {ec2_output_path}"
   ]
  },
  {
   "cell_type": "code",
   "execution_count": 4,
   "metadata": {
    "collapsed": true
   },
   "outputs": [],
   "source": [
    "import os\n",
    "import sqlalchemy\n",
    "import pandas as pd\n",
    "import geopandas as gpd\n",
    "from google.cloud import bigquery\n",
    "\n",
    "os.environ[\"GOOGLE_APPLICATION_CREDENTIALS\"] = \"/.google.json\"\n",
    "os.environ[\"GOOGLE_CLOUD_PROJECT\"] = \"aqueduct30\"\n",
    "client = bigquery.Client(project=BQ_PROJECT_ID)"
   ]
  },
  {
   "cell_type": "code",
   "execution_count": 5,
   "metadata": {
    "collapsed": true
   },
   "outputs": [],
   "source": [
    "q = \"\"\"\n",
    "  -- input data\n",
    "WITH\n",
    "  polys1 AS (\n",
    "  SELECT\n",
    "    t1.pfaf_id,\n",
    "    t1.geog as g\n",
    "  FROM\n",
    "    `{}.{}` t1 ),\n",
    "  polys2 AS (\n",
    "  SELECT\n",
    "    t1.gid_1,\n",
    "    t1.gid_0,\n",
    "    t1.geog as g\n",
    "  FROM\n",
    "    `{}.{}` t1 ),\n",
    "  -- intersections\n",
    "  intersections AS (\n",
    "    SELECT pfaf_id, gid_1, ST_INTERSECTION(a.g, b.g) i, a.g AS g1, b.g AS g2 \n",
    "    FROM polys1 a, polys2 b WHERE ST_INTERSECTS(a.g, b.g)\n",
    "  ),\n",
    "  -- per-row union of intersections with this row\n",
    "  diff1 AS (\n",
    "    SELECT pfaf_id, ST_UNION_AGG(i) i FROM intersections GROUP BY pfaf_id\n",
    "  ),\n",
    "  diff2 AS (\n",
    "    SELECT gid_1, ST_UNION_AGG(i) i FROM intersections GROUP BY gid_1\n",
    "  ),\n",
    "  -- various combinations of intersections\n",
    "  pairs AS (\n",
    "    SELECT pfaf_id, gid_1, i AS g FROM intersections\n",
    "    UNION ALL\n",
    "    SELECT p.pfaf_id, NULL, IF(i IS NULL, g, ST_DIFFERENCE(g, i)) FROM polys1 p LEFT JOIN diff1 d ON p.pfaf_id = d.pfaf_id\n",
    "    UNION ALL \n",
    "    SELECT NULL, p.gid_1, IF(i IS NULL, g, ST_DIFFERENCE(g, i)) FROM polys2 p LEFT JOIN diff2 d ON p.gid_1 = d.gid_1\n",
    "  )\n",
    "  SELECT CONCAT(COALESCE(CAST(pfaf_id AS STRING),'nodata'),\n",
    "         \"-\",\n",
    "         COALESCE(gid_1,'nodata')) AS id_pfafgadm, \n",
    "         *\n",
    "  FROM pairs WHERE NOT ST_IsEmpty(g)\n",
    "\"\"\".format(BQ_DATASET_NAME,BQ_INPUT_TABLE_LEFT,BQ_DATASET_NAME,BQ_INPUT_TABLE_RIGHT)"
   ]
  },
  {
   "cell_type": "code",
   "execution_count": 6,
   "metadata": {
    "collapsed": true
   },
   "outputs": [],
   "source": [
    "job_config = bigquery.QueryJobConfig()"
   ]
  },
  {
   "cell_type": "code",
   "execution_count": 7,
   "metadata": {
    "collapsed": true
   },
   "outputs": [],
   "source": [
    "destination_dataset_ref = client.dataset(BQ_DATASET_NAME)"
   ]
  },
  {
   "cell_type": "code",
   "execution_count": 8,
   "metadata": {
    "collapsed": true
   },
   "outputs": [],
   "source": [
    "destination_table_ref = destination_dataset_ref.table(BQ_OUTPUT_TABLE_NAME)"
   ]
  },
  {
   "cell_type": "code",
   "execution_count": 9,
   "metadata": {
    "collapsed": true
   },
   "outputs": [],
   "source": [
    "job_config.destination = destination_table_ref"
   ]
  },
  {
   "cell_type": "code",
   "execution_count": 10,
   "metadata": {
    "collapsed": true
   },
   "outputs": [],
   "source": [
    "query_job = client.query(query=q,\n",
    "                         job_config=job_config)"
   ]
  },
  {
   "cell_type": "code",
   "execution_count": 11,
   "metadata": {},
   "outputs": [],
   "source": [
    "rows = query_job.result()"
   ]
  },
  {
   "cell_type": "code",
   "execution_count": 12,
   "metadata": {
    "collapsed": true
   },
   "outputs": [],
   "source": [
    "q = \"\"\"\n",
    "SELECT\n",
    "    pfaf_id as id,\n",
    "    gid_1 as name,\n",
    "    ST_AsGeoJSON(g) geom   \n",
    "FROM \n",
    "    {}.{} \n",
    "LIMIT \n",
    "    10\n",
    "\"\"\".format(BQ_DATASET_NAME,BQ_OUTPUT_TABLE_NAME)"
   ]
  },
  {
   "cell_type": "code",
   "execution_count": 13,
   "metadata": {
    "collapsed": true
   },
   "outputs": [],
   "source": [
    "df = pd.read_gbq(query=q,\n",
    "                 dialect='standard')"
   ]
  },
  {
   "cell_type": "code",
   "execution_count": 14,
   "metadata": {},
   "outputs": [
    {
     "data": {
      "text/html": [
       "<div>\n",
       "<style scoped>\n",
       "    .dataframe tbody tr th:only-of-type {\n",
       "        vertical-align: middle;\n",
       "    }\n",
       "\n",
       "    .dataframe tbody tr th {\n",
       "        vertical-align: top;\n",
       "    }\n",
       "\n",
       "    .dataframe thead th {\n",
       "        text-align: right;\n",
       "    }\n",
       "</style>\n",
       "<table border=\"1\" class=\"dataframe\">\n",
       "  <thead>\n",
       "    <tr style=\"text-align: right;\">\n",
       "      <th></th>\n",
       "      <th>id</th>\n",
       "      <th>name</th>\n",
       "      <th>geom</th>\n",
       "    </tr>\n",
       "  </thead>\n",
       "  <tbody>\n",
       "    <tr>\n",
       "      <th>0</th>\n",
       "      <td>752176</td>\n",
       "      <td>MEX.7_1</td>\n",
       "      <td>{ \"type\": \"Polygon\", \"coordinates\": [ [ [-103....</td>\n",
       "    </tr>\n",
       "    <tr>\n",
       "      <th>1</th>\n",
       "      <td>614000</td>\n",
       "      <td>GRD.2_1</td>\n",
       "      <td>{ \"type\": \"Polygon\", \"coordinates\": [ [ [-61.6...</td>\n",
       "    </tr>\n",
       "    <tr>\n",
       "      <th>2</th>\n",
       "      <td>122722</td>\n",
       "      <td>ZWE.6_1</td>\n",
       "      <td>{ \"type\": \"Polygon\", \"coordinates\": [ [ [28.90...</td>\n",
       "    </tr>\n",
       "    <tr>\n",
       "      <th>3</th>\n",
       "      <td>294691</td>\n",
       "      <td>IRQ.16_1</td>\n",
       "      <td>{ \"type\": \"Polygon\", \"coordinates\": [ [ [42.06...</td>\n",
       "    </tr>\n",
       "    <tr>\n",
       "      <th>4</th>\n",
       "      <td>641607</td>\n",
       "      <td>URY.17_1</td>\n",
       "      <td>{ \"type\": \"MultiPolygon\", \"coordinates\": [ [ [...</td>\n",
       "    </tr>\n",
       "  </tbody>\n",
       "</table>\n",
       "</div>"
      ],
      "text/plain": [
       "       id      name                                               geom\n",
       "0  752176   MEX.7_1  { \"type\": \"Polygon\", \"coordinates\": [ [ [-103....\n",
       "1  614000   GRD.2_1  { \"type\": \"Polygon\", \"coordinates\": [ [ [-61.6...\n",
       "2  122722   ZWE.6_1  { \"type\": \"Polygon\", \"coordinates\": [ [ [28.90...\n",
       "3  294691  IRQ.16_1  { \"type\": \"Polygon\", \"coordinates\": [ [ [42.06...\n",
       "4  641607  URY.17_1  { \"type\": \"MultiPolygon\", \"coordinates\": [ [ [..."
      ]
     },
     "execution_count": 14,
     "metadata": {},
     "output_type": "execute_result"
    }
   ],
   "source": [
    "df.head()"
   ]
  },
  {
   "cell_type": "code",
   "execution_count": 15,
   "metadata": {
    "collapsed": true
   },
   "outputs": [],
   "source": [
    "import json\n",
    "from shapely.geometry import MultiPolygon, shape"
   ]
  },
  {
   "cell_type": "code",
   "execution_count": 16,
   "metadata": {
    "collapsed": true
   },
   "outputs": [],
   "source": [
    "df[\"geom_shapely\"] = df[\"geom\"].apply(lambda x: MultiPolygon([shape(json.loads(x))]),1)"
   ]
  },
  {
   "cell_type": "code",
   "execution_count": 17,
   "metadata": {
    "collapsed": true
   },
   "outputs": [],
   "source": [
    "df = df.drop(\"geom\",1)"
   ]
  },
  {
   "cell_type": "code",
   "execution_count": 18,
   "metadata": {
    "collapsed": true
   },
   "outputs": [],
   "source": [
    "gdf = gpd.GeoDataFrame(data=df,geometry=\"geom_shapely\")"
   ]
  },
  {
   "cell_type": "code",
   "execution_count": 19,
   "metadata": {
    "collapsed": true
   },
   "outputs": [],
   "source": [
    "gdf.crs = \"+init=epsg:4326\""
   ]
  },
  {
   "cell_type": "code",
   "execution_count": 20,
   "metadata": {
    "collapsed": true
   },
   "outputs": [],
   "source": [
    "output_file_path = \"{}/{}_V{:02.0f}.gpkg\".format(ec2_output_path,SCRIPT_NAME,OUTPUT_VERSION)"
   ]
  },
  {
   "cell_type": "code",
   "execution_count": 21,
   "metadata": {
    "collapsed": true
   },
   "outputs": [],
   "source": [
    "gdf.to_file(filename=output_file_path,\n",
    "            driver=\"GPKG\")"
   ]
  },
  {
   "cell_type": "code",
   "execution_count": 22,
   "metadata": {},
   "outputs": [
    {
     "name": "stdout",
     "output_type": "stream",
     "text": [
      "Completed 192.0 KiB/192.0 KiB (59.2 KiB/s) with 1 file(s) remaining\r",
      "upload: ../../../../data/Y2018M11D14_RH_Hybas_Union_GADM_BQ_V02/output_V02/Y2018M11D14_RH_Hybas_Union_GADM_BQ_V02_V02.gpkg to s3://wri-projects/Aqueduct30/processData/Y2018M11D14_RH_Hybas_Union_GADM_BQ_V02/output_V02/Y2018M11D14_RH_Hybas_Union_GADM_BQ_V02_V02.gpkg\r\n"
     ]
    }
   ],
   "source": [
    "!aws s3 cp {ec2_output_path} {s3_output_path} --recursive"
   ]
  },
  {
   "cell_type": "code",
   "execution_count": 23,
   "metadata": {},
   "outputs": [
    {
     "name": "stdout",
     "output_type": "stream",
     "text": [
      "0:09:21.846651\n"
     ]
    }
   ],
   "source": [
    "end = datetime.datetime.now()\n",
    "elapsed = end - start\n",
    "print(elapsed)"
   ]
  },
  {
   "cell_type": "markdown",
   "metadata": {
    "collapsed": true
   },
   "source": [
    "Previous Runs:  \n",
    "0:13:06.158866  \n",
    "0:09:21.846651\n",
    "    "
   ]
  },
  {
   "cell_type": "code",
   "execution_count": null,
   "metadata": {
    "collapsed": true
   },
   "outputs": [],
   "source": []
  }
 ],
 "metadata": {
  "kernelspec": {
   "display_name": "Python 35",
   "language": "python",
   "name": "python35"
  },
  "language_info": {
   "codemirror_mode": {
    "name": "ipython",
    "version": 3
   },
   "file_extension": ".py",
   "mimetype": "text/x-python",
   "name": "python",
   "nbconvert_exporter": "python",
   "pygments_lexer": "ipython3",
   "version": "3.5.4"
  }
 },
 "nbformat": 4,
 "nbformat_minor": 2
}
