{
 "cells": [
  {
   "cell_type": "code",
   "execution_count": 1,
   "metadata": {},
   "outputs": [
    {
     "name": "stdout",
     "output_type": "stream",
     "text": [
      "Input Table:  y2018m06d01_rh_moving_average_postgis_30spfaf06_v01_v01 \n",
      "Output Table:  y2018m06d04_rh_arid_lowwateruse_postgis_30spfaf06_v01_v01\n"
     ]
    }
   ],
   "source": [
    "\"\"\" Add column for arid, lowwateruse and aridandlowwateruse for each subbasin. \n",
    "-------------------------------------------------------------------------------\n",
    "\n",
    "Author: Rutger Hofste\n",
    "Date: 20180604\n",
    "Kernel: python35\n",
    "Docker: rutgerhofste/gisdocker:ubuntu16.04\n",
    "\n",
    "Args:\n",
    "    TESTING (Boolean) : Toggle testing case.\n",
    "    SCRIPT_NAME (string) : Script name.\n",
    "    OUTPUT_VERSION (integer) : output version.\n",
    "    DATABASE_ENDPOINT (string) : RDS or postGreSQL endpoint.\n",
    "    DATABASE_NAME (string) : Database name.\n",
    "    TABLE_NAME_AREA_30SPFAF06 (string) : Table name used for areas. Must exist\n",
    "        on same database as used in rest of script.\n",
    "    S3_INPUT_PATH_RIVERDISCHARGE (string) : AWS S3 input path for \n",
    "        riverdischarge.    \n",
    "    S3_INPUT_PATH_DEMAND (string) : AWS S3 input path for \n",
    "        demand.     \n",
    "\n",
    "\n",
    "\n",
    "\"\"\"\n",
    "\n",
    "TESTING = 0\n",
    "OVERWRITE_OUTPUT = 1\n",
    "SCRIPT_NAME = 'Y2018M06D04_RH_Arid_LowWaterUse_PostGIS_30sPfaf06_V01'\n",
    "OUTPUT_VERSION = 1\n",
    "\n",
    "THRESHOLD_ARID_YEAR = 0.03 #units are m/year, threshold defined by Aqueduct 2.1\n",
    "THRESHOLD_LOW_WATER_USE_YEAR = 0.012 #units are m/year, threshold defined by Aqueduct 2.1 Withdrawal\n",
    "\n",
    "DATABASE_ENDPOINT = \"aqueduct30v05.cgpnumwmfcqc.eu-central-1.rds.amazonaws.com\"\n",
    "DATABASE_NAME = \"database01\"\n",
    "\n",
    "INPUT_TABLE_NAME = \"y2018m06d01_rh_moving_average_postgis_30spfaf06_v01_v01\"\n",
    "OUTPUT_TABLE_NAME = SCRIPT_NAME.lower() + \"_v{:02.0f}\".format(OUTPUT_VERSION)\n",
    "\n",
    "print(\"Input Table: \" , INPUT_TABLE_NAME, \n",
    "      \"\\nOutput Table: \" , OUTPUT_TABLE_NAME)\n"
   ]
  },
  {
   "cell_type": "code",
   "execution_count": 2,
   "metadata": {},
   "outputs": [
    {
     "name": "stdout",
     "output_type": "stream",
     "text": [
      "Y2018M06D04 UTC 09:20\n"
     ]
    },
    {
     "data": {
      "text/plain": [
       "'3.5.4 |Anaconda, Inc.| (default, Nov 20 2017, 18:44:38) \\n[GCC 7.2.0]'"
      ]
     },
     "execution_count": 2,
     "metadata": {},
     "output_type": "execute_result"
    }
   ],
   "source": [
    "import time, datetime, sys\n",
    "dateString = time.strftime(\"Y%YM%mD%d\")\n",
    "timeString = time.strftime(\"UTC %H:%M\")\n",
    "start = datetime.datetime.now()\n",
    "print(dateString,timeString)\n",
    "sys.version"
   ]
  },
  {
   "cell_type": "code",
   "execution_count": 3,
   "metadata": {
    "collapsed": true
   },
   "outputs": [],
   "source": [
    "# imports\n",
    "import re\n",
    "import os\n",
    "import numpy as np\n",
    "import pandas as pd\n",
    "import aqueduct3\n",
    "from datetime import timedelta\n",
    "from sqlalchemy import *\n",
    "pd.set_option('display.max_columns', 500)"
   ]
  },
  {
   "cell_type": "code",
   "execution_count": 4,
   "metadata": {
    "collapsed": true
   },
   "outputs": [],
   "source": [
    "F = open(\"/.password\",\"r\")\n",
    "password = F.read().splitlines()[0]\n",
    "F.close()\n",
    "\n",
    "engine = create_engine(\"postgresql://rutgerhofste:{}@{}:5432/{}\".format(password,DATABASE_ENDPOINT,DATABASE_NAME))\n",
    "connection = engine.connect()\n",
    "\n",
    "sqls = []\n",
    "\n",
    "if OVERWRITE_OUTPUT:\n",
    "    sqls.append(\"DROP TABLE IF EXISTS {};\".format(OUTPUT_TABLE_NAME))"
   ]
  },
  {
   "cell_type": "code",
   "execution_count": 5,
   "metadata": {
    "collapsed": true
   },
   "outputs": [],
   "source": [
    "if TESTING:\n",
    "    sqls.append(\"CREATE TABLE {} AS SELECT * FROM {} WHERE pfafid_30spfaf06 < 130000 ;\".format(OUTPUT_TABLE_NAME,INPUT_TABLE_NAME))\n",
    "else:\n",
    "    sqls.append(\"CREATE TABLE {} AS SELECT * FROM {};\".format(OUTPUT_TABLE_NAME,INPUT_TABLE_NAME))"
   ]
  },
  {
   "cell_type": "code",
   "execution_count": 6,
   "metadata": {
    "collapsed": true
   },
   "outputs": [],
   "source": [
    "sqls.append(\"ALTER TABLE {} ADD COLUMN arid_boolean_30spfaf06 integer DEFAULT 0\".format(OUTPUT_TABLE_NAME))\n",
    "sqls.append(\"ALTER TABLE {} ADD COLUMN lowwateruse_boolean_30spfaf06 integer DEFAULT 0\".format(OUTPUT_TABLE_NAME))\n",
    "sqls.append(\"ALTER TABLE {} ADD COLUMN aridandlowwateruse_boolean_30spfaf06 integer DEFAULT 0\".format(OUTPUT_TABLE_NAME))"
   ]
  },
  {
   "cell_type": "code",
   "execution_count": 7,
   "metadata": {
    "collapsed": true
   },
   "outputs": [],
   "source": [
    "threshold_arid_month = THRESHOLD_ARID_YEAR / 12\n",
    "threshold_low_water_use_month = THRESHOLD_LOW_WATER_USE_YEAR / 12"
   ]
  },
  {
   "cell_type": "code",
   "execution_count": 8,
   "metadata": {
    "collapsed": true
   },
   "outputs": [],
   "source": [
    "# Set Arid for monthly columns\n",
    "sqls.append(\"UPDATE {} \\\n",
    "    SET arid_boolean_30spfaf06 = 1 \\\n",
    "    WHERE temporal_resolution = 'month' AND ma10_riverdischarge_m_30spfaf06 < {};\".format(OUTPUT_TABLE_NAME,threshold_arid_month))"
   ]
  },
  {
   "cell_type": "code",
   "execution_count": 9,
   "metadata": {
    "collapsed": true
   },
   "outputs": [],
   "source": [
    "# Set Arid for year columns\n",
    "sqls.append(\"UPDATE {} \\\n",
    "    SET arid_boolean_30spfaf06 = 1 \\\n",
    "    WHERE temporal_resolution = 'year' AND ma10_riverdischarge_m_30spfaf06 < {};\".format(OUTPUT_TABLE_NAME,THRESHOLD_ARID_YEAR))"
   ]
  },
  {
   "cell_type": "code",
   "execution_count": 10,
   "metadata": {
    "collapsed": true
   },
   "outputs": [],
   "source": [
    "# Set lowwateruse for monthly columns\n",
    "sqls.append(\"UPDATE {} \\\n",
    "    SET lowwateruse_boolean_30spfaf06 = 1 \\\n",
    "    WHERE temporal_resolution = 'month' AND ma10_ptotww_m_30spfaf06 < {};\".format(OUTPUT_TABLE_NAME,threshold_low_water_use_month))"
   ]
  },
  {
   "cell_type": "code",
   "execution_count": 11,
   "metadata": {
    "collapsed": true
   },
   "outputs": [],
   "source": [
    "# Set lowwateruse for year columns\n",
    "sqls.append(\"UPDATE {} \\\n",
    "    SET lowwateruse_boolean_30spfaf06 = 1 \\\n",
    "    WHERE temporal_resolution = 'year' AND ma10_ptotww_m_30spfaf06 < {};\".format(OUTPUT_TABLE_NAME,THRESHOLD_LOW_WATER_USE_YEAR))\n"
   ]
  },
  {
   "cell_type": "code",
   "execution_count": 12,
   "metadata": {
    "collapsed": true
   },
   "outputs": [],
   "source": [
    "# Set aridandlowwateruse\n",
    "sqls.append(\"UPDATE {} \\\n",
    "    SET aridandlowwateruse_boolean_30spfaf06 = 1 \\\n",
    "    WHERE lowwateruse_boolean_30spfaf06 =1 AND arid_boolean_30spfaf06 = 1;\".format(OUTPUT_TABLE_NAME))"
   ]
  },
  {
   "cell_type": "code",
   "execution_count": 13,
   "metadata": {},
   "outputs": [
    {
     "data": {
      "text/plain": [
       "['DROP TABLE IF EXISTS y2018m06d04_rh_arid_lowwateruse_postgis_30spfaf06_v01_v01;',\n",
       " 'CREATE TABLE y2018m06d04_rh_arid_lowwateruse_postgis_30spfaf06_v01_v01 AS SELECT * FROM y2018m06d01_rh_moving_average_postgis_30spfaf06_v01_v01;',\n",
       " 'ALTER TABLE y2018m06d04_rh_arid_lowwateruse_postgis_30spfaf06_v01_v01 ADD COLUMN arid_boolean_30spfaf06 integer DEFAULT 0',\n",
       " 'ALTER TABLE y2018m06d04_rh_arid_lowwateruse_postgis_30spfaf06_v01_v01 ADD COLUMN lowwateruse_boolean_30spfaf06 integer DEFAULT 0',\n",
       " 'ALTER TABLE y2018m06d04_rh_arid_lowwateruse_postgis_30spfaf06_v01_v01 ADD COLUMN aridandlowwateruse_boolean_30spfaf06 integer DEFAULT 0',\n",
       " \"UPDATE y2018m06d04_rh_arid_lowwateruse_postgis_30spfaf06_v01_v01     SET arid_boolean_30spfaf06 = 1     WHERE temporal_resolution = 'month' AND ma10_riverdischarge_m_30spfaf06 < 0.0025;\",\n",
       " \"UPDATE y2018m06d04_rh_arid_lowwateruse_postgis_30spfaf06_v01_v01     SET arid_boolean_30spfaf06 = 1     WHERE temporal_resolution = 'year' AND ma10_riverdischarge_m_30spfaf06 < 0.03;\",\n",
       " \"UPDATE y2018m06d04_rh_arid_lowwateruse_postgis_30spfaf06_v01_v01     SET lowwateruse_boolean_30spfaf06 = 1     WHERE temporal_resolution = 'month' AND ma10_ptotww_m_30spfaf06 < 0.001;\",\n",
       " \"UPDATE y2018m06d04_rh_arid_lowwateruse_postgis_30spfaf06_v01_v01     SET lowwateruse_boolean_30spfaf06 = 1     WHERE temporal_resolution = 'year' AND ma10_ptotww_m_30spfaf06 < 0.012;\",\n",
       " 'UPDATE y2018m06d04_rh_arid_lowwateruse_postgis_30spfaf06_v01_v01     SET aridandlowwateruse_boolean_30spfaf06 = 1     WHERE lowwateruse_boolean_30spfaf06 =1 AND arid_boolean_30spfaf06 = 1;']"
      ]
     },
     "execution_count": 13,
     "metadata": {},
     "output_type": "execute_result"
    }
   ],
   "source": [
    "print(len(sqls))"
   ]
  },
  {
   "cell_type": "code",
   "execution_count": 14,
   "metadata": {},
   "outputs": [
    {
     "name": "stdout",
     "output_type": "stream",
     "text": [
      "DROP TABLE IF EXISTS y2018m06d04_rh_arid_lowwateruse_postgis_30spfaf06_v01_v01;\n",
      "CREATE TABLE y2018m06d04_rh_arid_lowwateruse_postgis_30spfaf06_v01_v01 AS SELECT * FROM y2018m06d01_rh_moving_average_postgis_30spfaf06_v01_v01;\n",
      "ALTER TABLE y2018m06d04_rh_arid_lowwateruse_postgis_30spfaf06_v01_v01 ADD COLUMN arid_boolean_30spfaf06 integer DEFAULT 0\n",
      "ALTER TABLE y2018m06d04_rh_arid_lowwateruse_postgis_30spfaf06_v01_v01 ADD COLUMN lowwateruse_boolean_30spfaf06 integer DEFAULT 0\n",
      "ALTER TABLE y2018m06d04_rh_arid_lowwateruse_postgis_30spfaf06_v01_v01 ADD COLUMN aridandlowwateruse_boolean_30spfaf06 integer DEFAULT 0\n",
      "UPDATE y2018m06d04_rh_arid_lowwateruse_postgis_30spfaf06_v01_v01     SET arid_boolean_30spfaf06 = 1     WHERE temporal_resolution = 'month' AND ma10_riverdischarge_m_30spfaf06 < 0.0025;\n",
      "UPDATE y2018m06d04_rh_arid_lowwateruse_postgis_30spfaf06_v01_v01     SET arid_boolean_30spfaf06 = 1     WHERE temporal_resolution = 'year' AND ma10_riverdischarge_m_30spfaf06 < 0.03;\n",
      "UPDATE y2018m06d04_rh_arid_lowwateruse_postgis_30spfaf06_v01_v01     SET lowwateruse_boolean_30spfaf06 = 1     WHERE temporal_resolution = 'month' AND ma10_ptotww_m_30spfaf06 < 0.001;\n",
      "UPDATE y2018m06d04_rh_arid_lowwateruse_postgis_30spfaf06_v01_v01     SET lowwateruse_boolean_30spfaf06 = 1     WHERE temporal_resolution = 'year' AND ma10_ptotww_m_30spfaf06 < 0.012;\n",
      "UPDATE y2018m06d04_rh_arid_lowwateruse_postgis_30spfaf06_v01_v01     SET aridandlowwateruse_boolean_30spfaf06 = 1     WHERE lowwateruse_boolean_30spfaf06 =1 AND arid_boolean_30spfaf06 = 1;\n"
     ]
    }
   ],
   "source": [
    "for sql in sqls:\n",
    "    print(sql)\n",
    "    result = engine.execute(sql)    "
   ]
  },
  {
   "cell_type": "code",
   "execution_count": 15,
   "metadata": {},
   "outputs": [
    {
     "name": "stdout",
     "output_type": "stream",
     "text": [
      "0:09:22.668061\n"
     ]
    }
   ],
   "source": [
    "end = datetime.datetime.now()\n",
    "elapsed = end - start\n",
    "print(elapsed)"
   ]
  },
  {
   "cell_type": "markdown",
   "metadata": {},
   "source": [
    "Previous runs:  \n",
    "0:09:22.668061\n",
    "\n"
   ]
  },
  {
   "cell_type": "code",
   "execution_count": 16,
   "metadata": {
    "collapsed": true
   },
   "outputs": [],
   "source": [
    "engine.dispose()"
   ]
  },
  {
   "cell_type": "code",
   "execution_count": null,
   "metadata": {
    "collapsed": true
   },
   "outputs": [],
   "source": []
  }
 ],
 "metadata": {
  "kernelspec": {
   "display_name": "Python 35",
   "language": "python",
   "name": "python35"
  },
  "language_info": {
   "codemirror_mode": {
    "name": "ipython",
    "version": 3
   },
   "file_extension": ".py",
   "mimetype": "text/x-python",
   "name": "python",
   "nbconvert_exporter": "python",
   "pygments_lexer": "ipython3",
   "version": "3.5.4"
  }
 },
 "nbformat": 4,
 "nbformat_minor": 2
}
