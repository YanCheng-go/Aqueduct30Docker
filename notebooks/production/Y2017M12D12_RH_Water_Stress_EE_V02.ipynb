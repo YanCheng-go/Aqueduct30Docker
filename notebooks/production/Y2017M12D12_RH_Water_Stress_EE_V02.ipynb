{
 "cells": [
  {
   "cell_type": "markdown",
   "metadata": {},
   "source": [
    "# Y2017M12D12_RH_Water_Stress_V02\n",
    "\n",
    "* Purpose of script: Calculate water stress using maximum discharge and total withdrawals  \n",
    "* Kernel used: python27\n",
    "* Date created: 20171212"
   ]
  },
  {
   "cell_type": "code",
   "execution_count": 1,
   "metadata": {},
   "outputs": [
    {
     "name": "stdout",
     "output_type": "stream",
     "text": [
      "('Y2017M12D15', 'UTC 15:01')\n"
     ]
    },
    {
     "data": {
      "text/plain": [
       "'2.7.13 |Continuum Analytics, Inc.| (default, Dec 20 2016, 23:09:15) \\n[GCC 4.4.7 20120313 (Red Hat 4.4.7-1)]'"
      ]
     },
     "execution_count": 1,
     "metadata": {},
     "output_type": "execute_result"
    }
   ],
   "source": [
    "import time, datetime, sys\n",
    "dateString = time.strftime(\"Y%YM%mD%d\")\n",
    "timeString = time.strftime(\"UTC %H:%M\")\n",
    "start = datetime.datetime.now()\n",
    "print(dateString,timeString)\n",
    "sys.version"
   ]
  },
  {
   "cell_type": "code",
   "execution_count": 2,
   "metadata": {
    "collapsed": true
   },
   "outputs": [],
   "source": [
    "EE_PATH = \"projects/WRI-Aquaduct/PCRGlobWB20V07\"\n",
    "\n",
    "SCRIPT_NAME = \"Y2017M12D12_RH_Water_Stress_EE_V02\"\n",
    "\n",
    "OUTPUT_VERSION = 4\n",
    "\n",
    "PFAF_LEVEL = 6\n",
    "\n",
    "YEARMIN = 1960\n",
    "YEARMAX = 2014\n",
    "\n",
    "THRESHOLD = 1.25 #Qmax > 1.25 Qsum -> use Qsum, else use max(Qmax,Qsum) \n",
    "\n",
    "DIMENSIONS30SSMALL = \"43200x19440\"\n",
    "\n",
    "CRS = \"EPSG:4326\"\n",
    "\n",
    "CRS_TRANSFORM30S_SMALL = [0.008333333333333333, 0.0, -180.0, 0.0, -0.008333333333333333, 81.0]"
   ]
  },
  {
   "cell_type": "code",
   "execution_count": 3,
   "metadata": {
    "collapsed": true
   },
   "outputs": [],
   "source": [
    "import ee\n",
    "import subprocess\n",
    "import pandas as pd\n",
    "import logging\n",
    "import subprocess"
   ]
  },
  {
   "cell_type": "code",
   "execution_count": 4,
   "metadata": {
    "collapsed": true
   },
   "outputs": [],
   "source": [
    "ee.Initialize()"
   ]
  },
  {
   "cell_type": "code",
   "execution_count": 5,
   "metadata": {
    "collapsed": true
   },
   "outputs": [],
   "source": [
    "logger = logging.getLogger(__name__)\n",
    "logger.setLevel(logging.DEBUG)\n",
    "formatter = logging.Formatter('%(asctime)s:%(levelname)s:%(message)s')\n",
    "file_handler = logging.FileHandler(\"./logs/%sV%0.2d.log\" %(SCRIPT_NAME,OUTPUT_VERSION))\n",
    "file_handler.setFormatter(formatter)\n",
    "logger.addHandler(file_handler)"
   ]
  },
  {
   "cell_type": "code",
   "execution_count": 6,
   "metadata": {
    "collapsed": true
   },
   "outputs": [],
   "source": [
    "geometrySmall = ee.Geometry.Polygon(coords=[[-180.0, -81.0], [180,  -81.0], [180, 81], [-180,81]], proj= ee.Projection('EPSG:4326'),geodesic=False )"
   ]
  },
  {
   "cell_type": "code",
   "execution_count": 7,
   "metadata": {
    "collapsed": true
   },
   "outputs": [],
   "source": [
    "def createIndicatorDataFrame():\n",
    "    df = pd.DataFrame()\n",
    "    for temporalResolution in temporalResolutions:\n",
    "        newRow = {}\n",
    "        newRow[\"temporalResolution\"] = temporalResolution\n",
    "        newRow[\"icWW\"] = \"%s/global_historical_PTotWW_%s_m_pfaf%0.2d_1960_2014\" %(EE_PATH,temporalResolution,PFAF_LEVEL)\n",
    "        newRow[\"icQ\"] = \"%s/global_historical_availableriverdischarge_%s_millionm3_5minPfaf%0.1d_1960_2014\" %(EE_PATH,temporalResolution,PFAF_LEVEL)\n",
    "        newRow[\"icWN\"] = \"%s/global_historical_PTotWN_%s_m_pfaf%0.2d_1960_2014\" %(EE_PATH,temporalResolution,PFAF_LEVEL)\n",
    "        newRow[\"newIcId\"] = \"%s/global_historical_WS_%s_dimensionless_30sPfaf%0.2d_1960_2014\" %(EE_PATH,temporalResolution,PFAF_LEVEL)\n",
    "        df = df.append(newRow,ignore_index=True)\n",
    "    return df\n",
    "\n",
    "\n",
    "def createCollections(newIcId):        \n",
    "    command = \"earthengine create collection %s\" %(newIcId) \n",
    "    print(command)\n",
    "    result = subprocess.check_output(command,shell=True)\n",
    "    if result:\n",
    "        pass\n",
    "        logger.error(result)\n",
    "        \n",
    "def ensure_default_properties(obj): \n",
    "    obj = ee.Dictionary(obj)\n",
    "    default_properties = ee.Dictionary({\"mean\": -9999,\"count\": -9999})\n",
    "    return default_properties.combine(obj)\n",
    "\n",
    "def mapList(results, key):\n",
    "    newResult = results.map(lambda x: ee.Dictionary(x).get(key))\n",
    "    return newResult\n",
    "        \n",
    "        \n",
    "def zonalStatsToRaster(image,zonesImage,geometry,maxPixels,reducerType,scale):\n",
    "    # reducertype can be mean, max, sum, first. Count is always included for QA\n",
    "    # the resolution of the zonesimage is used for scale\n",
    "\n",
    "    reducer = ee.Algorithms.If(ee.Algorithms.IsEqual(reducerType,\"mean\"),ee.Reducer.mean(),\n",
    "    ee.Algorithms.If(ee.Algorithms.IsEqual(reducerType,\"max\"),ee.Reducer.max(),\n",
    "    ee.Algorithms.If(ee.Algorithms.IsEqual(reducerType,\"sum\"),ee.Reducer.sum(),\n",
    "    ee.Algorithms.If(ee.Algorithms.IsEqual(reducerType,\"first\"),ee.Reducer.first(),\n",
    "    ee.Algorithms.If(ee.Algorithms.IsEqual(reducerType,\"mode\"),ee.Reducer.mode(),\"error\"))))\n",
    "    )\n",
    "    reducer = ee.Reducer(reducer).combine(reducer2= ee.Reducer.count(), sharedInputs= True).group(groupField=1, groupName=\"zones\") \n",
    "\n",
    "    \n",
    "    zonesImage = zonesImage.select(zonesImage.bandNames(),[\"zones\"])\n",
    "\n",
    "    totalImage = ee.Image(image).addBands(zonesImage)\n",
    "    resultsList = ee.List(totalImage.reduceRegion(\n",
    "        geometry= geometry, \n",
    "        reducer= reducer,\n",
    "        scale= scale,\n",
    "        maxPixels=maxPixels,\n",
    "        bestEffort =True\n",
    "        ).get(\"groups\"))\n",
    "\n",
    "    resultsList = resultsList.map(ensure_default_properties); \n",
    "    zoneList = mapList(resultsList, 'zones');\n",
    "    countList = mapList(resultsList, 'count');\n",
    "    valueList = mapList(resultsList, reducerType);\n",
    "\n",
    "    valueImage = zonesImage.remap(zoneList, valueList).select([\"remapped\"],[reducerType])\n",
    "    countImage = zonesImage.remap(zoneList, countList).select([\"remapped\"],[\"count\"])\n",
    "    newImage = zonesImage.addBands(countImage).addBands(valueImage)\n",
    "    return newImage\n",
    "\n",
    "\n",
    "\n",
    "def fluxToVolume(image):\n",
    "    newImage = ee.Image(image).multiply(area30s_pfaf06).divide(1e6)\n",
    "    newImage = newImage.copyProperties(image)\n",
    "    newImage = newImage.set({\"units\":\"millionm3\",\"script_used\":SCRIPT_NAME})\n",
    "    return newImage\n",
    "  \n",
    "    \n",
    "def calculateWS(iQ,iWW,iWN,scale30s):            \n",
    "    iQmax = iQ.select([\"max\"])  # maximum discharge per basin in million m^3\n",
    "    iQsum = iQ.select([\"sum\"])  # sum discharge per basin in million m^3 of all sinks as identied. \n",
    "\n",
    "    iQsum30s = zonalStatsToRaster(iQsum,zones30s,geometrySmall,1e10,\"mode\",scale30s).select([\"mode\"])\n",
    "    iQmax30s = zonalStatsToRaster(iQmax,zones30s,geometrySmall,1e10,\"mode\",scale30s).select([\"mode\"])\n",
    "\n",
    "    dif = (iQmax30s.subtract(iQsum30s)).divide(iQsum30s)\n",
    "    useLargest = dif.lte(THRESHOLD)  # use largest of max(sum,max) when difference below threshold\n",
    "    useSum = dif.gt(THRESHOLD) # use sum when above threshold. If max is much larger than sum, this is an indication of a confluence at the edge of a basin. \n",
    "\n",
    "    iQ =  useLargest.multiply(iQmax30s.max(iQsum30s))\n",
    "    iQ = iQ.add(useSum.multiply(iQsum30s))\n",
    "    \n",
    "    iQ  = iQ .select(iQ.bandNames(),[\"Q_millionm3\"])    \n",
    "    iWN = iWN.select(iWN.bandNames(),[\"WN_millionm3\"])\n",
    "    iWW = iWW.select(iWW.bandNames(),[\"WW_millionm3\"])\n",
    "    \n",
    "    # add local consumption to available supply. No threshold is used so WN can be larger than Q per cell. \n",
    "    iBA = iQ.add(iWN)            \n",
    "    iWS = iWW.divide(iBA)\n",
    "    iWS = iWS.select(iWS.bandNames(),[\"WS_dimensionless\"])\n",
    "    \n",
    "    imageOut = iWS.addBands(iQ).addBands(iWW).addBands(iWN)\n",
    "    return imageOut\n",
    "    \n",
    "\n",
    "\n",
    "def exportAsset(imageOut,assetID,dimensions,properties,CRS_TRANSFORM30S_SMALL):\n",
    "    try:\n",
    "        ee.Image(assetID).id().getInfo()\n",
    "        nonExisting = False\n",
    "    except:\n",
    "        nonExisting = True\n",
    "    \n",
    "    if  nonExisting:  \n",
    "        imageOut = imageOut.set(properties)\n",
    "        description = \"global_historical_WS_%s_dimensionless_30sPfaf%0.2d_1960_2014Y%0.4dM%0.2dV%0.2d\" %(row[\"temporalResolution\"],PFAF_LEVEL,year,month,OUTPUT_VERSION)\n",
    "\n",
    "        task = ee.batch.Export.image.toAsset(\n",
    "            image =  ee.Image(imageOut),\n",
    "            description = description,\n",
    "            assetId = assetID,\n",
    "            dimensions = dimensions,\n",
    "            crs = CRS,\n",
    "            crsTransform = CRS_TRANSFORM30S_SMALL,\n",
    "            maxPixels = 1e10     \n",
    "        )\n",
    "        print(assetID)\n",
    "        logger.debug(assetID)\n",
    "        task.start()\n",
    "    \n",
    "\n",
    "    "
   ]
  },
  {
   "cell_type": "code",
   "execution_count": 8,
   "metadata": {
    "collapsed": true
   },
   "outputs": [],
   "source": [
    "area30s = ee.Image(\"projects/WRI-Aquaduct/PCRGlobWB20V07/area_30s_m2V11\")\n",
    "zones30s = ee.Image(\"projects/WRI-Aquaduct/PCRGlobWB20V07/hybas_lev00_v1c_merged_fiona_30s_V01\")\n",
    "zones30s = zones30s.divide(ee.Number(10).pow(ee.Number(12).subtract(PFAF_LEVEL))).floor().toInt64();\n",
    "\n",
    "crs30s = area30s.projection()\n",
    "\n",
    "area30s_pfaf06 = ee.Image(\"projects/WRI-Aquaduct/PCRGlobWB20V07/area_30spfaf06_m2_V01V01\").select([\"sum\"])\n",
    "\n",
    "scale30s = zones30s.projection().nominalScale().getInfo()"
   ]
  },
  {
   "cell_type": "code",
   "execution_count": 9,
   "metadata": {
    "collapsed": true
   },
   "outputs": [],
   "source": [
    "area30sPfaf6 = zonalStatsToRaster(area30s,zones30s,geometrySmall,1e10,\"sum\",scale30s)"
   ]
  },
  {
   "cell_type": "code",
   "execution_count": 10,
   "metadata": {
    "collapsed": true
   },
   "outputs": [],
   "source": [
    "area30sPfaf6_m2 = area30sPfaf6.select([\"sum\"]) # image at 30s with area in m^2 per basin"
   ]
  },
  {
   "cell_type": "code",
   "execution_count": 11,
   "metadata": {
    "collapsed": true
   },
   "outputs": [],
   "source": [
    "temporalResolutions = [\"year\",\"month\"]"
   ]
  },
  {
   "cell_type": "code",
   "execution_count": 12,
   "metadata": {
    "collapsed": true
   },
   "outputs": [],
   "source": [
    "temporalResolutions = [\"month\"]"
   ]
  },
  {
   "cell_type": "code",
   "execution_count": 13,
   "metadata": {
    "collapsed": true
   },
   "outputs": [],
   "source": [
    "df = createIndicatorDataFrame()"
   ]
  },
  {
   "cell_type": "code",
   "execution_count": null,
   "metadata": {},
   "outputs": [
    {
     "data": {
      "text/html": [
       "<div>\n",
       "<style>\n",
       "    .dataframe thead tr:only-child th {\n",
       "        text-align: right;\n",
       "    }\n",
       "\n",
       "    .dataframe thead th {\n",
       "        text-align: left;\n",
       "    }\n",
       "\n",
       "    .dataframe tbody tr th {\n",
       "        vertical-align: top;\n",
       "    }\n",
       "</style>\n",
       "<table border=\"1\" class=\"dataframe\">\n",
       "  <thead>\n",
       "    <tr style=\"text-align: right;\">\n",
       "      <th></th>\n",
       "      <th>icQ</th>\n",
       "      <th>icWN</th>\n",
       "      <th>icWW</th>\n",
       "      <th>newIcId</th>\n",
       "      <th>temporalResolution</th>\n",
       "    </tr>\n",
       "  </thead>\n",
       "  <tbody>\n",
       "    <tr>\n",
       "      <th>0</th>\n",
       "      <td>projects/WRI-Aquaduct/PCRGlobWB20V07/global_hi...</td>\n",
       "      <td>projects/WRI-Aquaduct/PCRGlobWB20V07/global_hi...</td>\n",
       "      <td>projects/WRI-Aquaduct/PCRGlobWB20V07/global_hi...</td>\n",
       "      <td>projects/WRI-Aquaduct/PCRGlobWB20V07/global_hi...</td>\n",
       "      <td>month</td>\n",
       "    </tr>\n",
       "  </tbody>\n",
       "</table>\n",
       "</div>"
      ],
      "text/plain": [
       "                                                 icQ  \\\n",
       "0  projects/WRI-Aquaduct/PCRGlobWB20V07/global_hi...   \n",
       "\n",
       "                                                icWN  \\\n",
       "0  projects/WRI-Aquaduct/PCRGlobWB20V07/global_hi...   \n",
       "\n",
       "                                                icWW  \\\n",
       "0  projects/WRI-Aquaduct/PCRGlobWB20V07/global_hi...   \n",
       "\n",
       "                                             newIcId temporalResolution  \n",
       "0  projects/WRI-Aquaduct/PCRGlobWB20V07/global_hi...              month  "
      ]
     },
     "execution_count": 14,
     "metadata": {},
     "output_type": "execute_result"
    }
   ],
   "source": [
    "df.head()"
   ]
  },
  {
   "cell_type": "code",
   "execution_count": null,
   "metadata": {},
   "outputs": [
    {
     "name": "stdout",
     "output_type": "stream",
     "text": [
      "earthengine create collection projects/WRI-Aquaduct/PCRGlobWB20V07/global_historical_WS_month_dimensionless_30sPfaf06_1960_2014\n",
      "projects/WRI-Aquaduct/PCRGlobWB20V07/global_historical_WS_month_dimensionless_30sPfaf06_1960_2014/global_historical_WS_month_dimensionless_30sPfaf06_1960_2014Y1960M01\n",
      "projects/WRI-Aquaduct/PCRGlobWB20V07/global_historical_WS_month_dimensionless_30sPfaf06_1960_2014/global_historical_WS_month_dimensionless_30sPfaf06_1960_2014Y1960M02\n",
      "projects/WRI-Aquaduct/PCRGlobWB20V07/global_historical_WS_month_dimensionless_30sPfaf06_1960_2014/global_historical_WS_month_dimensionless_30sPfaf06_1960_2014Y1960M03\n",
      "projects/WRI-Aquaduct/PCRGlobWB20V07/global_historical_WS_month_dimensionless_30sPfaf06_1960_2014/global_historical_WS_month_dimensionless_30sPfaf06_1960_2014Y1960M04\n",
      "projects/WRI-Aquaduct/PCRGlobWB20V07/global_historical_WS_month_dimensionless_30sPfaf06_1960_2014/global_historical_WS_month_dimensionless_30sPfaf06_1960_2014Y1960M05\n",
      "projects/WRI-Aquaduct/PCRGlobWB20V07/global_historical_WS_month_dimensionless_30sPfaf06_1960_2014/global_historical_WS_month_dimensionless_30sPfaf06_1960_2014Y1960M06\n",
      "projects/WRI-Aquaduct/PCRGlobWB20V07/global_historical_WS_month_dimensionless_30sPfaf06_1960_2014/global_historical_WS_month_dimensionless_30sPfaf06_1960_2014Y1960M07\n",
      "projects/WRI-Aquaduct/PCRGlobWB20V07/global_historical_WS_month_dimensionless_30sPfaf06_1960_2014/global_historical_WS_month_dimensionless_30sPfaf06_1960_2014Y1960M08\n",
      "projects/WRI-Aquaduct/PCRGlobWB20V07/global_historical_WS_month_dimensionless_30sPfaf06_1960_2014/global_historical_WS_month_dimensionless_30sPfaf06_1960_2014Y1960M09\n",
      "projects/WRI-Aquaduct/PCRGlobWB20V07/global_historical_WS_month_dimensionless_30sPfaf06_1960_2014/global_historical_WS_month_dimensionless_30sPfaf06_1960_2014Y1960M10\n",
      "projects/WRI-Aquaduct/PCRGlobWB20V07/global_historical_WS_month_dimensionless_30sPfaf06_1960_2014/global_historical_WS_month_dimensionless_30sPfaf06_1960_2014Y1960M11\n",
      "projects/WRI-Aquaduct/PCRGlobWB20V07/global_historical_WS_month_dimensionless_30sPfaf06_1960_2014/global_historical_WS_month_dimensionless_30sPfaf06_1960_2014Y1960M12\n",
      "projects/WRI-Aquaduct/PCRGlobWB20V07/global_historical_WS_month_dimensionless_30sPfaf06_1960_2014/global_historical_WS_month_dimensionless_30sPfaf06_1960_2014Y1961M01\n",
      "projects/WRI-Aquaduct/PCRGlobWB20V07/global_historical_WS_month_dimensionless_30sPfaf06_1960_2014/global_historical_WS_month_dimensionless_30sPfaf06_1960_2014Y1961M02\n",
      "projects/WRI-Aquaduct/PCRGlobWB20V07/global_historical_WS_month_dimensionless_30sPfaf06_1960_2014/global_historical_WS_month_dimensionless_30sPfaf06_1960_2014Y1961M03\n",
      "projects/WRI-Aquaduct/PCRGlobWB20V07/global_historical_WS_month_dimensionless_30sPfaf06_1960_2014/global_historical_WS_month_dimensionless_30sPfaf06_1960_2014Y1961M04\n",
      "projects/WRI-Aquaduct/PCRGlobWB20V07/global_historical_WS_month_dimensionless_30sPfaf06_1960_2014/global_historical_WS_month_dimensionless_30sPfaf06_1960_2014Y1961M05\n",
      "projects/WRI-Aquaduct/PCRGlobWB20V07/global_historical_WS_month_dimensionless_30sPfaf06_1960_2014/global_historical_WS_month_dimensionless_30sPfaf06_1960_2014Y1961M06\n",
      "projects/WRI-Aquaduct/PCRGlobWB20V07/global_historical_WS_month_dimensionless_30sPfaf06_1960_2014/global_historical_WS_month_dimensionless_30sPfaf06_1960_2014Y1961M07\n",
      "projects/WRI-Aquaduct/PCRGlobWB20V07/global_historical_WS_month_dimensionless_30sPfaf06_1960_2014/global_historical_WS_month_dimensionless_30sPfaf06_1960_2014Y1961M08\n",
      "projects/WRI-Aquaduct/PCRGlobWB20V07/global_historical_WS_month_dimensionless_30sPfaf06_1960_2014/global_historical_WS_month_dimensionless_30sPfaf06_1960_2014Y1961M09\n",
      "projects/WRI-Aquaduct/PCRGlobWB20V07/global_historical_WS_month_dimensionless_30sPfaf06_1960_2014/global_historical_WS_month_dimensionless_30sPfaf06_1960_2014Y1961M10\n",
      "projects/WRI-Aquaduct/PCRGlobWB20V07/global_historical_WS_month_dimensionless_30sPfaf06_1960_2014/global_historical_WS_month_dimensionless_30sPfaf06_1960_2014Y1961M11\n",
      "projects/WRI-Aquaduct/PCRGlobWB20V07/global_historical_WS_month_dimensionless_30sPfaf06_1960_2014/global_historical_WS_month_dimensionless_30sPfaf06_1960_2014Y1961M12\n",
      "projects/WRI-Aquaduct/PCRGlobWB20V07/global_historical_WS_month_dimensionless_30sPfaf06_1960_2014/global_historical_WS_month_dimensionless_30sPfaf06_1960_2014Y1962M01\n",
      "projects/WRI-Aquaduct/PCRGlobWB20V07/global_historical_WS_month_dimensionless_30sPfaf06_1960_2014/global_historical_WS_month_dimensionless_30sPfaf06_1960_2014Y1962M02\n",
      "projects/WRI-Aquaduct/PCRGlobWB20V07/global_historical_WS_month_dimensionless_30sPfaf06_1960_2014/global_historical_WS_month_dimensionless_30sPfaf06_1960_2014Y1962M03\n",
      "projects/WRI-Aquaduct/PCRGlobWB20V07/global_historical_WS_month_dimensionless_30sPfaf06_1960_2014/global_historical_WS_month_dimensionless_30sPfaf06_1960_2014Y1962M04\n",
      "projects/WRI-Aquaduct/PCRGlobWB20V07/global_historical_WS_month_dimensionless_30sPfaf06_1960_2014/global_historical_WS_month_dimensionless_30sPfaf06_1960_2014Y1962M05\n",
      "projects/WRI-Aquaduct/PCRGlobWB20V07/global_historical_WS_month_dimensionless_30sPfaf06_1960_2014/global_historical_WS_month_dimensionless_30sPfaf06_1960_2014Y1962M06\n",
      "projects/WRI-Aquaduct/PCRGlobWB20V07/global_historical_WS_month_dimensionless_30sPfaf06_1960_2014/global_historical_WS_month_dimensionless_30sPfaf06_1960_2014Y1962M07\n",
      "projects/WRI-Aquaduct/PCRGlobWB20V07/global_historical_WS_month_dimensionless_30sPfaf06_1960_2014/global_historical_WS_month_dimensionless_30sPfaf06_1960_2014Y1962M08\n",
      "projects/WRI-Aquaduct/PCRGlobWB20V07/global_historical_WS_month_dimensionless_30sPfaf06_1960_2014/global_historical_WS_month_dimensionless_30sPfaf06_1960_2014Y1962M09\n",
      "projects/WRI-Aquaduct/PCRGlobWB20V07/global_historical_WS_month_dimensionless_30sPfaf06_1960_2014/global_historical_WS_month_dimensionless_30sPfaf06_1960_2014Y1962M10\n",
      "projects/WRI-Aquaduct/PCRGlobWB20V07/global_historical_WS_month_dimensionless_30sPfaf06_1960_2014/global_historical_WS_month_dimensionless_30sPfaf06_1960_2014Y1962M11\n",
      "projects/WRI-Aquaduct/PCRGlobWB20V07/global_historical_WS_month_dimensionless_30sPfaf06_1960_2014/global_historical_WS_month_dimensionless_30sPfaf06_1960_2014Y1962M12\n",
      "projects/WRI-Aquaduct/PCRGlobWB20V07/global_historical_WS_month_dimensionless_30sPfaf06_1960_2014/global_historical_WS_month_dimensionless_30sPfaf06_1960_2014Y1963M01\n",
      "projects/WRI-Aquaduct/PCRGlobWB20V07/global_historical_WS_month_dimensionless_30sPfaf06_1960_2014/global_historical_WS_month_dimensionless_30sPfaf06_1960_2014Y1963M02\n",
      "projects/WRI-Aquaduct/PCRGlobWB20V07/global_historical_WS_month_dimensionless_30sPfaf06_1960_2014/global_historical_WS_month_dimensionless_30sPfaf06_1960_2014Y1963M03\n",
      "projects/WRI-Aquaduct/PCRGlobWB20V07/global_historical_WS_month_dimensionless_30sPfaf06_1960_2014/global_historical_WS_month_dimensionless_30sPfaf06_1960_2014Y1963M04\n",
      "projects/WRI-Aquaduct/PCRGlobWB20V07/global_historical_WS_month_dimensionless_30sPfaf06_1960_2014/global_historical_WS_month_dimensionless_30sPfaf06_1960_2014Y1963M05\n",
      "projects/WRI-Aquaduct/PCRGlobWB20V07/global_historical_WS_month_dimensionless_30sPfaf06_1960_2014/global_historical_WS_month_dimensionless_30sPfaf06_1960_2014Y1963M06\n",
      "projects/WRI-Aquaduct/PCRGlobWB20V07/global_historical_WS_month_dimensionless_30sPfaf06_1960_2014/global_historical_WS_month_dimensionless_30sPfaf06_1960_2014Y1963M07\n",
      "projects/WRI-Aquaduct/PCRGlobWB20V07/global_historical_WS_month_dimensionless_30sPfaf06_1960_2014/global_historical_WS_month_dimensionless_30sPfaf06_1960_2014Y1963M08\n",
      "projects/WRI-Aquaduct/PCRGlobWB20V07/global_historical_WS_month_dimensionless_30sPfaf06_1960_2014/global_historical_WS_month_dimensionless_30sPfaf06_1960_2014Y1963M09\n",
      "projects/WRI-Aquaduct/PCRGlobWB20V07/global_historical_WS_month_dimensionless_30sPfaf06_1960_2014/global_historical_WS_month_dimensionless_30sPfaf06_1960_2014Y1963M10\n",
      "projects/WRI-Aquaduct/PCRGlobWB20V07/global_historical_WS_month_dimensionless_30sPfaf06_1960_2014/global_historical_WS_month_dimensionless_30sPfaf06_1960_2014Y1963M11\n",
      "projects/WRI-Aquaduct/PCRGlobWB20V07/global_historical_WS_month_dimensionless_30sPfaf06_1960_2014/global_historical_WS_month_dimensionless_30sPfaf06_1960_2014Y1963M12\n",
      "projects/WRI-Aquaduct/PCRGlobWB20V07/global_historical_WS_month_dimensionless_30sPfaf06_1960_2014/global_historical_WS_month_dimensionless_30sPfaf06_1960_2014Y1964M01\n"
     ]
    },
    {
     "name": "stdout",
     "output_type": "stream",
     "text": [
      "projects/WRI-Aquaduct/PCRGlobWB20V07/global_historical_WS_month_dimensionless_30sPfaf06_1960_2014/global_historical_WS_month_dimensionless_30sPfaf06_1960_2014Y1964M02\n",
      "projects/WRI-Aquaduct/PCRGlobWB20V07/global_historical_WS_month_dimensionless_30sPfaf06_1960_2014/global_historical_WS_month_dimensionless_30sPfaf06_1960_2014Y1964M03\n",
      "projects/WRI-Aquaduct/PCRGlobWB20V07/global_historical_WS_month_dimensionless_30sPfaf06_1960_2014/global_historical_WS_month_dimensionless_30sPfaf06_1960_2014Y1964M04\n",
      "projects/WRI-Aquaduct/PCRGlobWB20V07/global_historical_WS_month_dimensionless_30sPfaf06_1960_2014/global_historical_WS_month_dimensionless_30sPfaf06_1960_2014Y1964M05\n",
      "projects/WRI-Aquaduct/PCRGlobWB20V07/global_historical_WS_month_dimensionless_30sPfaf06_1960_2014/global_historical_WS_month_dimensionless_30sPfaf06_1960_2014Y1964M06\n",
      "projects/WRI-Aquaduct/PCRGlobWB20V07/global_historical_WS_month_dimensionless_30sPfaf06_1960_2014/global_historical_WS_month_dimensionless_30sPfaf06_1960_2014Y1964M07\n",
      "projects/WRI-Aquaduct/PCRGlobWB20V07/global_historical_WS_month_dimensionless_30sPfaf06_1960_2014/global_historical_WS_month_dimensionless_30sPfaf06_1960_2014Y1964M08\n",
      "projects/WRI-Aquaduct/PCRGlobWB20V07/global_historical_WS_month_dimensionless_30sPfaf06_1960_2014/global_historical_WS_month_dimensionless_30sPfaf06_1960_2014Y1964M09\n",
      "projects/WRI-Aquaduct/PCRGlobWB20V07/global_historical_WS_month_dimensionless_30sPfaf06_1960_2014/global_historical_WS_month_dimensionless_30sPfaf06_1960_2014Y1964M10\n",
      "projects/WRI-Aquaduct/PCRGlobWB20V07/global_historical_WS_month_dimensionless_30sPfaf06_1960_2014/global_historical_WS_month_dimensionless_30sPfaf06_1960_2014Y1964M11\n",
      "projects/WRI-Aquaduct/PCRGlobWB20V07/global_historical_WS_month_dimensionless_30sPfaf06_1960_2014/global_historical_WS_month_dimensionless_30sPfaf06_1960_2014Y1964M12\n",
      "projects/WRI-Aquaduct/PCRGlobWB20V07/global_historical_WS_month_dimensionless_30sPfaf06_1960_2014/global_historical_WS_month_dimensionless_30sPfaf06_1960_2014Y1965M01\n",
      "projects/WRI-Aquaduct/PCRGlobWB20V07/global_historical_WS_month_dimensionless_30sPfaf06_1960_2014/global_historical_WS_month_dimensionless_30sPfaf06_1960_2014Y1965M02\n",
      "projects/WRI-Aquaduct/PCRGlobWB20V07/global_historical_WS_month_dimensionless_30sPfaf06_1960_2014/global_historical_WS_month_dimensionless_30sPfaf06_1960_2014Y1965M03\n",
      "projects/WRI-Aquaduct/PCRGlobWB20V07/global_historical_WS_month_dimensionless_30sPfaf06_1960_2014/global_historical_WS_month_dimensionless_30sPfaf06_1960_2014Y1965M04\n",
      "projects/WRI-Aquaduct/PCRGlobWB20V07/global_historical_WS_month_dimensionless_30sPfaf06_1960_2014/global_historical_WS_month_dimensionless_30sPfaf06_1960_2014Y1965M05\n",
      "projects/WRI-Aquaduct/PCRGlobWB20V07/global_historical_WS_month_dimensionless_30sPfaf06_1960_2014/global_historical_WS_month_dimensionless_30sPfaf06_1960_2014Y1965M06\n",
      "projects/WRI-Aquaduct/PCRGlobWB20V07/global_historical_WS_month_dimensionless_30sPfaf06_1960_2014/global_historical_WS_month_dimensionless_30sPfaf06_1960_2014Y1965M07\n",
      "projects/WRI-Aquaduct/PCRGlobWB20V07/global_historical_WS_month_dimensionless_30sPfaf06_1960_2014/global_historical_WS_month_dimensionless_30sPfaf06_1960_2014Y1965M08\n",
      "projects/WRI-Aquaduct/PCRGlobWB20V07/global_historical_WS_month_dimensionless_30sPfaf06_1960_2014/global_historical_WS_month_dimensionless_30sPfaf06_1960_2014Y1965M09\n",
      "projects/WRI-Aquaduct/PCRGlobWB20V07/global_historical_WS_month_dimensionless_30sPfaf06_1960_2014/global_historical_WS_month_dimensionless_30sPfaf06_1960_2014Y1965M10\n",
      "projects/WRI-Aquaduct/PCRGlobWB20V07/global_historical_WS_month_dimensionless_30sPfaf06_1960_2014/global_historical_WS_month_dimensionless_30sPfaf06_1960_2014Y1965M11\n",
      "projects/WRI-Aquaduct/PCRGlobWB20V07/global_historical_WS_month_dimensionless_30sPfaf06_1960_2014/global_historical_WS_month_dimensionless_30sPfaf06_1960_2014Y1965M12\n",
      "projects/WRI-Aquaduct/PCRGlobWB20V07/global_historical_WS_month_dimensionless_30sPfaf06_1960_2014/global_historical_WS_month_dimensionless_30sPfaf06_1960_2014Y1966M01\n",
      "projects/WRI-Aquaduct/PCRGlobWB20V07/global_historical_WS_month_dimensionless_30sPfaf06_1960_2014/global_historical_WS_month_dimensionless_30sPfaf06_1960_2014Y1966M02\n",
      "projects/WRI-Aquaduct/PCRGlobWB20V07/global_historical_WS_month_dimensionless_30sPfaf06_1960_2014/global_historical_WS_month_dimensionless_30sPfaf06_1960_2014Y1966M03\n",
      "projects/WRI-Aquaduct/PCRGlobWB20V07/global_historical_WS_month_dimensionless_30sPfaf06_1960_2014/global_historical_WS_month_dimensionless_30sPfaf06_1960_2014Y1966M04\n",
      "projects/WRI-Aquaduct/PCRGlobWB20V07/global_historical_WS_month_dimensionless_30sPfaf06_1960_2014/global_historical_WS_month_dimensionless_30sPfaf06_1960_2014Y1966M05\n",
      "projects/WRI-Aquaduct/PCRGlobWB20V07/global_historical_WS_month_dimensionless_30sPfaf06_1960_2014/global_historical_WS_month_dimensionless_30sPfaf06_1960_2014Y1966M06\n",
      "projects/WRI-Aquaduct/PCRGlobWB20V07/global_historical_WS_month_dimensionless_30sPfaf06_1960_2014/global_historical_WS_month_dimensionless_30sPfaf06_1960_2014Y1966M07\n",
      "projects/WRI-Aquaduct/PCRGlobWB20V07/global_historical_WS_month_dimensionless_30sPfaf06_1960_2014/global_historical_WS_month_dimensionless_30sPfaf06_1960_2014Y1966M08\n",
      "projects/WRI-Aquaduct/PCRGlobWB20V07/global_historical_WS_month_dimensionless_30sPfaf06_1960_2014/global_historical_WS_month_dimensionless_30sPfaf06_1960_2014Y1966M09\n",
      "projects/WRI-Aquaduct/PCRGlobWB20V07/global_historical_WS_month_dimensionless_30sPfaf06_1960_2014/global_historical_WS_month_dimensionless_30sPfaf06_1960_2014Y1966M10\n",
      "projects/WRI-Aquaduct/PCRGlobWB20V07/global_historical_WS_month_dimensionless_30sPfaf06_1960_2014/global_historical_WS_month_dimensionless_30sPfaf06_1960_2014Y1966M11\n"
     ]
    }
   ],
   "source": [
    "\n",
    "\n",
    "for index, row in df.iterrows():\n",
    "    if row[\"temporalResolution\"] == \"year\":\n",
    "        createCollections(row[\"newIcId\"])        \n",
    "        icQ = ee.ImageCollection(row[\"icQ\"])\n",
    "        icWW_flux = ee.ImageCollection(row[\"icWW\"])\n",
    "        icWN_flux = ee.ImageCollection(row[\"icWN\"])\n",
    "        \n",
    "        icWW_volume =icWW_flux.map(fluxToVolume) # units millionm3\n",
    "        icWN_volume =icWN_flux.map(fluxToVolume) # units millionm3\n",
    "        \n",
    "        month =12\n",
    "        for year in range(YEARMIN,YEARMAX+1):\n",
    "            iQ = ee.Image(icQ.filter(ee.Filter.eq(\"year\",year)).first()) \n",
    "            iWW = ee.Image(icWW_volume.filter(ee.Filter.eq(\"year\",year)).first()).select([\"mean\"])\n",
    "            iWN = ee.Image(icWN_volume.filter(ee.Filter.eq(\"year\",year)).first()).select([\"mean\"])\n",
    "            \n",
    "            iWS = calculateWS(iQ,iWW,iWN,scale30s)\n",
    "                                  \n",
    "            properties = {\"script_used\":SCRIPT_NAME,\n",
    "                          \"ingested_by\":\"RutgerHofste\",\n",
    "                          \"units\":\"dimensionless\",\n",
    "                          \"version\":OUTPUT_VERSION,\n",
    "                          \"year\":year,\n",
    "                          \"month\":month,\n",
    "                          \"threshold\":THRESHOLD,\n",
    "                          \"temporalResolution\":row[\"temporalResolution\"]\n",
    "                         }\n",
    "            assetID = \"%s/global_historical_WS_%s_dimensionless_30sPfaf%0.2d_1960_2014Y%0.4dM%0.2d\" %(row[\"newIcId\"],row[\"temporalResolution\"],PFAF_LEVEL,year,month)\n",
    "            \n",
    "            exportAsset(iWS,assetID,DIMENSIONS30SSMALL,properties,CRS_TRANSFORM30S_SMALL) \n",
    "             \n",
    "    elif row[\"temporalResolution\"] == \"month\":      \n",
    "        createCollections(row[\"newIcId\"])\n",
    "        icQ = ee.ImageCollection(row[\"icQ\"])\n",
    "        icWW_flux = ee.ImageCollection(row[\"icWW\"])\n",
    "        icWN_flux = ee.ImageCollection(row[\"icWN\"])\n",
    "        \n",
    "        icWW_volume =icWW_flux.map(fluxToVolume) # units millionm3\n",
    "        icWN_volume =icWN_flux.map(fluxToVolume) # units millionm3\n",
    "                \n",
    "        for year in range(YEARMIN,YEARMAX+1): \n",
    "            for month in range(1,13):\n",
    "                iQ = ee.Image(icQ.filter(ee.Filter.eq(\"year\",year)).filter(ee.Filter.eq(\"month\",month)).first()) \n",
    "                iWW = ee.Image(icWW_volume.filter(ee.Filter.eq(\"year\",year)).filter(ee.Filter.eq(\"month\",month)).first()).select([\"mean\"])\n",
    "                iWN = ee.Image(icWN_volume.filter(ee.Filter.eq(\"year\",year)).filter(ee.Filter.eq(\"month\",month)).first()).select([\"mean\"])\n",
    "                    \n",
    "                iWS = calculateWS(iQ,iWW,iWN,scale30s)\n",
    "\n",
    "                properties = {\"script_used\":SCRIPT_NAME,\n",
    "                              \"ingested_by\":\"RutgerHofste\",\n",
    "                              \"units\":\"dimensionless\",\n",
    "                              \"version\":OUTPUT_VERSION,\n",
    "                              \"year\":year,\n",
    "                              \"month\":month,\n",
    "                              \"threshold\":THRESHOLD,\n",
    "                              \"temporalResolution\":row[\"temporalResolution\"]\n",
    "                             }\n",
    "                assetID = \"%s/global_historical_WS_%s_dimensionless_30sPfaf%0.2d_1960_2014Y%0.4dM%0.2d\" %(row[\"newIcId\"],row[\"temporalResolution\"],PFAF_LEVEL,year,month)\n",
    "                \n",
    "                exportAsset(iWS,assetID,DIMENSIONS30SSMALL,properties,CRS_TRANSFORM30S_SMALL) \n",
    "                \n",
    "                \n",
    "                \n",
    "                "
   ]
  },
  {
   "cell_type": "code",
   "execution_count": null,
   "metadata": {
    "scrolled": true
   },
   "outputs": [],
   "source": [
    "end = datetime.datetime.now()\n",
    "elapsed = end - start\n",
    "print(elapsed)"
   ]
  },
  {
   "cell_type": "code",
   "execution_count": null,
   "metadata": {
    "collapsed": true
   },
   "outputs": [],
   "source": []
  },
  {
   "cell_type": "code",
   "execution_count": null,
   "metadata": {
    "collapsed": true
   },
   "outputs": [],
   "source": []
  }
 ],
 "metadata": {
  "kernelspec": {
   "display_name": "Python 27",
   "language": "python",
   "name": "python27"
  },
  "language_info": {
   "codemirror_mode": {
    "name": "ipython",
    "version": 2
   },
   "file_extension": ".py",
   "mimetype": "text/x-python",
   "name": "python",
   "nbconvert_exporter": "python",
   "pygments_lexer": "ipython2",
   "version": "2.7.13"
  }
 },
 "nbformat": 4,
 "nbformat_minor": 2
}
