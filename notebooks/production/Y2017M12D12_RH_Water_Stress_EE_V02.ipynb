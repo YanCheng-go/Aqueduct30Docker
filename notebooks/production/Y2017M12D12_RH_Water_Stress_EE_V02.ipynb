{
 "cells": [
  {
   "cell_type": "markdown",
   "metadata": {},
   "source": [
    "# Y2017M12D12_RH_Water_Stress_V02\n",
    "\n",
    "* Purpose of script: Calculate water stress using maximum discharge and total withdrawals  \n",
    "* Kernel used: python27\n",
    "* Date created: 20171212"
   ]
  },
  {
   "cell_type": "code",
   "execution_count": 1,
   "metadata": {},
   "outputs": [
    {
     "name": "stdout",
     "output_type": "stream",
     "text": [
      "('Y2017M12D12', 'UTC 17:51')\n"
     ]
    },
    {
     "data": {
      "text/plain": [
       "'2.7.13 |Continuum Analytics, Inc.| (default, Dec 20 2016, 23:09:15) \\n[GCC 4.4.7 20120313 (Red Hat 4.4.7-1)]'"
      ]
     },
     "execution_count": 1,
     "metadata": {},
     "output_type": "execute_result"
    }
   ],
   "source": [
    "import time, datetime, sys\n",
    "dateString = time.strftime(\"Y%YM%mD%d\")\n",
    "timeString = time.strftime(\"UTC %H:%M\")\n",
    "start = datetime.datetime.now()\n",
    "print(dateString,timeString)\n",
    "sys.version"
   ]
  },
  {
   "cell_type": "code",
   "execution_count": 2,
   "metadata": {
    "collapsed": true
   },
   "outputs": [],
   "source": [
    "EE_PATH = \"projects/WRI-Aquaduct/PCRGlobWB20V07\"\n",
    "\n",
    "SCRIPT_NAME = \"Y2017M12D12_RH_Water_Stress_EE_V02\"\n",
    "\n",
    "OUTPUT_VERSION = 1\n",
    "\n",
    "PFAF_LEVEL = 6\n",
    "\n",
    "YEARMIN = 1960\n",
    "YEARMAX = 1960"
   ]
  },
  {
   "cell_type": "code",
   "execution_count": 3,
   "metadata": {
    "collapsed": true
   },
   "outputs": [],
   "source": [
    "import ee\n",
    "import subprocess\n",
    "import pandas as pd\n",
    "import logging\n",
    "import subprocess"
   ]
  },
  {
   "cell_type": "code",
   "execution_count": 4,
   "metadata": {
    "collapsed": true
   },
   "outputs": [],
   "source": [
    "ee.Initialize()"
   ]
  },
  {
   "cell_type": "code",
   "execution_count": 5,
   "metadata": {
    "collapsed": true
   },
   "outputs": [],
   "source": [
    "logger = logging.getLogger(__name__)\n",
    "logger.setLevel(logging.DEBUG)\n",
    "formatter = logging.Formatter('%(asctime)s:%(levelname)s:%(message)s')\n",
    "file_handler = logging.FileHandler(\"./logs/%sV%0.2d.log\" %(SCRIPT_NAME,OUTPUT_VERSION))\n",
    "file_handler.setFormatter(formatter)\n",
    "logger.addHandler(file_handler)"
   ]
  },
  {
   "cell_type": "code",
   "execution_count": 6,
   "metadata": {
    "collapsed": true
   },
   "outputs": [],
   "source": [
    "geometrySmall = ee.Geometry.Polygon(coords=[[-180.0, -81.0], [180,  -81.0], [180, 81], [-180,81]], proj= ee.Projection('EPSG:4326'),geodesic=False )"
   ]
  },
  {
   "cell_type": "code",
   "execution_count": 21,
   "metadata": {
    "collapsed": true
   },
   "outputs": [],
   "source": [
    "geometrySmall = ee.Geometry.Polygon(coords=[[-10, -10.0], [10,  -10.0], [10, 10], [-10,10]], proj= ee.Projection('EPSG:4326'),geodesic=False )"
   ]
  },
  {
   "cell_type": "code",
   "execution_count": 9,
   "metadata": {},
   "outputs": [],
   "source": [
    "def createIndicatorDataFrame():\n",
    "    df = pd.DataFrame()\n",
    "    for temporalResolution in temporalResolutions:\n",
    "        newRow = {}\n",
    "        newRow[\"temporalResolution\"] = temporalResolution\n",
    "        newRow[\"icWW\"] = \"%s/global_historical_PTotWW_%s_m_pfaf%0.2d_1960_2014\" %(EE_PATH,temporalResolution,PFAF_LEVEL)\n",
    "        newRow[\"icQ\"] = \"%s/global_historical_availableriverdischarge_%s_millionm3_5minPfaf%0.1d_1960_2014\" %(EE_PATH,temporalResolution,PFAF_LEVEL)\n",
    "        newRow[\"newIcId\"] = \"%s/global_historical_WS_%s_dimensionless_30sPfaf%0.2d_1960_2014\" %(EE_PATH,temporalResolution,PFAF_LEVEL)\n",
    "        df = df.append(newRow,ignore_index=True)\n",
    "    return df\n",
    "\n",
    "\n",
    "def createCollections(newIcId):        \n",
    "    command = \"earthengine create collection %s\" %(newIcId) \n",
    "    print(command)\n",
    "    result = subprocess.check_output(command,shell=True)\n",
    "    if result:\n",
    "        pass\n",
    "        logger.error(result)\n",
    "        \n",
    "def ensure_default_properties(obj): \n",
    "    obj = ee.Dictionary(obj)\n",
    "    default_properties = ee.Dictionary({\"mean\": -9999,\"count\": -9999})\n",
    "    return default_properties.combine(obj)\n",
    "\n",
    "def mapList(results, key):\n",
    "    newResult = results.map(lambda x: ee.Dictionary(x).get(key))\n",
    "    return newResult\n",
    "        \n",
    "        \n",
    "def zonalStatsToRaster(image,zonesImage,geometry,maxPixels,reducerType):\n",
    "    # reducertype can be mean, max, sum, first. Count is always included for QA\n",
    "    # the resolution of the zonesimage is used for scale\n",
    "\n",
    "    reducer = ee.Algorithms.If(ee.Algorithms.IsEqual(reducerType,\"mean\"),ee.Reducer.mean(),\n",
    "    ee.Algorithms.If(ee.Algorithms.IsEqual(reducerType,\"max\"),ee.Reducer.max(),\n",
    "    ee.Algorithms.If(ee.Algorithms.IsEqual(reducerType,\"sum\"),ee.Reducer.sum(),\n",
    "    ee.Algorithms.If(ee.Algorithms.IsEqual(reducerType,\"first\"),ee.Reducer.first(),\n",
    "    ee.Algorithms.If(ee.Algorithms.IsEqual(reducerType,\"mode\"),ee.Reducer.mode(),\"error\"))))\n",
    "    )\n",
    "    reducer = ee.Reducer(reducer).combine(reducer2= ee.Reducer.count(), sharedInputs= True).group(groupField=1, groupName=\"zones\") \n",
    "\n",
    "    scale = zonesImage.projection().nominalScale().getInfo()\n",
    "    zonesImage = zonesImage.select(zonesImage.bandNames(),[\"zones\"])\n",
    "\n",
    "    totalImage = ee.Image(image).addBands(zonesImage)\n",
    "    resultsList = ee.List(totalImage.reduceRegion(\n",
    "        geometry= geometry, \n",
    "        reducer= reducer,\n",
    "        scale= scale,\n",
    "        maxPixels=maxPixels\n",
    "        ).get(\"groups\"))\n",
    "\n",
    "    resultsList = resultsList.map(ensure_default_properties); \n",
    "    zoneList = mapList(resultsList, 'zones');\n",
    "    countList = mapList(resultsList, 'count');\n",
    "    valueList = mapList(resultsList, reducerType);\n",
    "\n",
    "    valueImage = zonesImage.remap(zoneList, valueList).select([\"remapped\"],[reducerType])\n",
    "    countImage = zonesImage.remap(zoneList, countList).select([\"remapped\"],[\"count\"])\n",
    "    newImage = zonesImage.addBands(countImage).addBands(valueImage)\n",
    "    return newImage,zoneList,valueList,countList\n",
    "\n",
    "\n",
    "\n",
    "def fluxToVolume(image):\n",
    "    newImage = ee.Image(image).multiply(area_30sPfaf06).divide(1e6)\n",
    "    newImage = newImage.copyProperties(image)\n",
    "    newImage = newImage.set({\"units\":\"millionm3\",\"script_used\":SCRIPT_NAME})\n",
    "    return newImage\n",
    "    \n",
    "    \n",
    "    \n",
    "\n",
    "    "
   ]
  },
  {
   "cell_type": "code",
   "execution_count": 10,
   "metadata": {
    "collapsed": true
   },
   "outputs": [],
   "source": [
    "area30s = ee.Image(\"projects/WRI-Aquaduct/PCRGlobWB20V07/area_30s_m2V11\")\n",
    "zones30s = ee.Image(\"projects/WRI-Aquaduct/PCRGlobWB20V07/hybas_lev00_v1c_merged_fiona_30s_V01\")\n",
    "zones30s = zones30s.divide(ee.Number(10).pow(ee.Number(12).subtract(PFAF_LEVEL))).floor().toInt64();\n",
    "\n",
    "crs30s = area30s.projection()"
   ]
  },
  {
   "cell_type": "code",
   "execution_count": 12,
   "metadata": {
    "collapsed": true
   },
   "outputs": [],
   "source": [
    "area30sPfaf6,zoneList,valueList,countList = zonalStatsToRaster(area30s,zones30s,geometrySmall,1e10,\"sum\")"
   ]
  },
  {
   "cell_type": "code",
   "execution_count": 13,
   "metadata": {
    "collapsed": true
   },
   "outputs": [],
   "source": [
    "area30sPfaf6_m2 = area30sPfaf6.select([\"sum\"]) # image at 30s with area in m^2 per basin"
   ]
  },
  {
   "cell_type": "code",
   "execution_count": 14,
   "metadata": {
    "collapsed": true
   },
   "outputs": [],
   "source": [
    "temporalResolutions = [\"year\",\"month\"]"
   ]
  },
  {
   "cell_type": "code",
   "execution_count": 15,
   "metadata": {
    "collapsed": true
   },
   "outputs": [],
   "source": [
    "df = createIndicatorDataFrame()"
   ]
  },
  {
   "cell_type": "code",
   "execution_count": 16,
   "metadata": {},
   "outputs": [
    {
     "data": {
      "text/html": [
       "<div>\n",
       "<style>\n",
       "    .dataframe thead tr:only-child th {\n",
       "        text-align: right;\n",
       "    }\n",
       "\n",
       "    .dataframe thead th {\n",
       "        text-align: left;\n",
       "    }\n",
       "\n",
       "    .dataframe tbody tr th {\n",
       "        vertical-align: top;\n",
       "    }\n",
       "</style>\n",
       "<table border=\"1\" class=\"dataframe\">\n",
       "  <thead>\n",
       "    <tr style=\"text-align: right;\">\n",
       "      <th></th>\n",
       "      <th>icQ</th>\n",
       "      <th>icWW</th>\n",
       "      <th>newIcId</th>\n",
       "      <th>temporalResolution</th>\n",
       "    </tr>\n",
       "  </thead>\n",
       "  <tbody>\n",
       "    <tr>\n",
       "      <th>0</th>\n",
       "      <td>projects/WRI-Aquaduct/PCRGlobWB20V07/global_hi...</td>\n",
       "      <td>projects/WRI-Aquaduct/PCRGlobWB20V07/global_hi...</td>\n",
       "      <td>projects/WRI-Aquaduct/PCRGlobWB20V07/global_hi...</td>\n",
       "      <td>year</td>\n",
       "    </tr>\n",
       "    <tr>\n",
       "      <th>1</th>\n",
       "      <td>projects/WRI-Aquaduct/PCRGlobWB20V07/global_hi...</td>\n",
       "      <td>projects/WRI-Aquaduct/PCRGlobWB20V07/global_hi...</td>\n",
       "      <td>projects/WRI-Aquaduct/PCRGlobWB20V07/global_hi...</td>\n",
       "      <td>month</td>\n",
       "    </tr>\n",
       "  </tbody>\n",
       "</table>\n",
       "</div>"
      ],
      "text/plain": [
       "                                                 icQ  \\\n",
       "0  projects/WRI-Aquaduct/PCRGlobWB20V07/global_hi...   \n",
       "1  projects/WRI-Aquaduct/PCRGlobWB20V07/global_hi...   \n",
       "\n",
       "                                                icWW  \\\n",
       "0  projects/WRI-Aquaduct/PCRGlobWB20V07/global_hi...   \n",
       "1  projects/WRI-Aquaduct/PCRGlobWB20V07/global_hi...   \n",
       "\n",
       "                                             newIcId temporalResolution  \n",
       "0  projects/WRI-Aquaduct/PCRGlobWB20V07/global_hi...               year  \n",
       "1  projects/WRI-Aquaduct/PCRGlobWB20V07/global_hi...              month  "
      ]
     },
     "execution_count": 16,
     "metadata": {},
     "output_type": "execute_result"
    }
   ],
   "source": [
    "df.head()"
   ]
  },
  {
   "cell_type": "code",
   "execution_count": 22,
   "metadata": {},
   "outputs": [
    {
     "name": "stdout",
     "output_type": "stream",
     "text": [
      "earthengine create collection projects/WRI-Aquaduct/PCRGlobWB20V07/global_historical_WS_year_dimensionless_30sPfaf06_1960_2014\n",
      "earthengine create collection projects/WRI-Aquaduct/PCRGlobWB20V07/global_historical_WS_month_dimensionless_30sPfaf06_1960_2014\n",
      "(1960, 1)\n",
      "(1960, 2)\n",
      "(1960, 3)\n",
      "(1960, 4)\n",
      "(1960, 5)\n",
      "(1960, 6)\n",
      "(1960, 7)\n",
      "(1960, 8)\n",
      "(1960, 9)\n",
      "(1960, 10)\n",
      "(1960, 11)\n",
      "(1960, 12)\n"
     ]
    }
   ],
   "source": [
    "for index, row in df.iterrows():\n",
    "    if row[\"temporalResolution\"] == \"year\":\n",
    "        createCollections(row[\"newIcId\"])        \n",
    "        icQ = ee.ImageCollection(row[\"icQ\"])\n",
    "        icWW_flux = ee.ImageCollection(row[\"icWW\"])\n",
    "        \n",
    "        #icWW_volume =icWW_flux.map(fluxToVolume)\n",
    "            \n",
    "        month =12\n",
    "        for year in range(YEARMIN,YEARMAX+1):\n",
    "            iQ = ee.Image(icQ.filter(ee.Filter.eq(\"year\",year)).first()) #\n",
    "            iQmax = iQ.select([\"max\"])  # maximum discharge per basin in million m^3\n",
    "            iQsum = iQ.select([\"sum\"])  # sum discharge per basin in million m^3 of all sinks as identied. \n",
    "            \n",
    "            iQsum30s,zoneList,valueList,countList = zonalStatsToRaster(iQsum,zones30s,geometrySmall,1e10,\"mode\")\n",
    "            iQmax30s,zoneList2,valueList2,countList2 = zonalStatsToRaster(iQmax,zones30s,geometrySmall,1e10,\"mode\")\n",
    "            \n",
    "            \n",
    "            # WS = WW/BA\n",
    "            \n",
    "            WS = iQsum30s.divide(icWW_flux)\n",
    "            \n",
    "            \n",
    "        \n",
    "    elif row[\"temporalResolution\"] == \"month\":      \n",
    "        createCollections(row[\"newIcId\"])\n",
    "        icQ = ee.ImageCollection(row[\"icQ\"])\n",
    "        icWW_flux = ee.ImageCollection(row[\"icWW\"])\n",
    "        \n",
    "        #icWW_volume =icWW_flux.map(fluxToVolume)\n",
    "        \n",
    "        for year in range(YEARMIN,YEARMAX+1): \n",
    "            for month in range(1,13):\n",
    "                print(year,month)"
   ]
  },
  {
   "cell_type": "code",
   "execution_count": 23,
   "metadata": {
    "collapsed": true
   },
   "outputs": [],
   "source": [
    "dictionary = dict(zip(zoneList.getInfo(), zoneList.getInfo()))"
   ]
  },
  {
   "cell_type": "code",
   "execution_count": 24,
   "metadata": {
    "scrolled": true
   },
   "outputs": [
    {
     "name": "stdout",
     "output_type": "stream",
     "text": [
      "{145408: 145408, 145409: 145409, 142341: 142341, 142342: 142342, 142343: 142343, 142344: 142344, 142345: 142345, 142348: 142348, 142350: 142350, 144302: 144302, 142360: 142360, 144410: 144410, 162480: 162480, 142370: 142370, 144420: 144420, 142886: 142886, 145740: 145740, 142889: 142889, 142380: 142380, 144430: 144430, 142896: 142896, 142897: 142897, 142898: 142898, 142899: 142899, 142391: 142391, 142392: 142392, 142393: 142393, 145105: 145105, 144450: 144450, 133701: 133701, 133702: 133702, 133703: 133703, 133704: 133704, 133705: 133705, 133706: 133706, 133707: 133707, 133708: 133708, 133709: 133709, 145500: 145500, 145602: 145602, 145720: 145720, 142964: 142964, 142965: 142965, 142966: 142966, 142967: 142967, 142968: 142968, 142969: 142969, 144506: 144506, 144507: 144507, 144508: 144508, 142982: 142982, 145601: 145601, 142984: 142984, 133570: 133570, 145603: 145603, 145604: 145604, 145605: 145605, 143010: 143010, 145606: 145606, 133801: 133801, 133802: 133802, 133803: 133803, 133804: 133804, 133805: 133805, 133806: 133806, 133807: 133807, 133808: 133808, 133809: 133809, 143030: 143030, 133303: 133303, 133304: 133304, 133305: 133305, 133306: 133306, 133307: 133307, 133308: 133308, 133309: 133309, 144501: 144501, 143041: 143041, 143042: 143042, 143043: 143043, 143044: 143044, 143045: 143045, 143046: 143046, 143047: 143047, 141000: 141000, 143049: 143049, 143050: 143050, 144503: 144503, 145101: 145101, 145102: 145102, 145103: 145103, 145104: 145104, 144504: 144504, 145106: 145106, 145107: 145107, 145108: 145108, 143061: 143061, 143062: 143062, 143063: 143063, 143064: 143064, 143065: 143065, 143066: 143066, 143067: 143067, 143068: 143068, 143069: 143069, 143070: 143070, 142560: 142560, 144101: 144101, 144102: 144102, 144103: 144103, 143080: 143080, 144105: 144105, 144106: 144106, 144107: 144107, 143048: 143048, 144109: 144109, 143090: 143090, 145109: 145109, 133900: 133900, 142100: 142100, 145607: 145607, 133410: 133410, 142214: 142214, 145710: 145710, 145201: 145201, 145202: 145202, 145203: 145203, 145204: 145204, 145205: 145205, 145206: 145206, 145207: 145207, 145208: 145208, 145209: 145209, 145608: 145608, 145731: 145731, 145732: 145732, 144108: 144108, 145734: 145734, 145735: 145735, 145736: 145736, 144201: 144201, 144202: 144202, 144204: 144204, 144440: 144440, 145750: 145750, 145609: 145609, 145760: 145760, 134000: 134000, 144104: 144104, 144502: 144502, 142211: 142211, 142212: 142212, 142213: 142213, 133510: 133510, 142215: 142215, 142216: 142216, 142217: 142217, 142218: 142218, 142219: 142219, 142220: 142220, 133520: 133520, 145300: 145300, 142230: 142230, 133530: 133530, 145733: 145733, 142240: 142240, 143020: 143020, 133540: 133540, 142250: 142250, 144301: 144301, 133550: 133550, 144303: 144303, 144304: 144304, 144305: 144305, 144306: 144306, 144307: 144307, 144308: 144308, 144309: 144309, 145737: 145737, 133561: 133561, 145738: 145738, 142272: 142272, 142274: 142274, 144460: 144460, 133580: 133580, 133590: 133590, 144505: 144505, 142297: 142297, 142298: 142298, 142299: 142299, 145402: 145402, 142310: 142310, 133610: 133610, 142320: 142320, 145401: 145401, 142330: 142330, 145403: 145403, 145404: 145404, 145405: 145405, 145406: 145406, 145407: 145407}\n"
     ]
    }
   ],
   "source": []
  },
  {
   "cell_type": "code",
   "execution_count": null,
   "metadata": {
    "collapsed": true
   },
   "outputs": [],
   "source": []
  }
 ],
 "metadata": {
  "kernelspec": {
   "display_name": "Python 27",
   "language": "python",
   "name": "python27"
  },
  "language_info": {
   "codemirror_mode": {
    "name": "ipython",
    "version": 2
   },
   "file_extension": ".py",
   "mimetype": "text/x-python",
   "name": "python",
   "nbconvert_exporter": "python",
   "pygments_lexer": "ipython2",
   "version": "2.7.13"
  }
 },
 "nbformat": 4,
 "nbformat_minor": 2
}
