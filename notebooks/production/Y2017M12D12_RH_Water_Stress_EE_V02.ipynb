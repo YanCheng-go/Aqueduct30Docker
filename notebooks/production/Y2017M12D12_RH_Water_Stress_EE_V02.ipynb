{
 "cells": [
  {
   "cell_type": "markdown",
   "metadata": {},
   "source": [
    "# Y2017M12D12_RH_Water_Stress_V02\n",
    "\n",
    "* Purpose of script: Calculate water stress using maximum discharge and total withdrawals  \n",
    "* Kernel used: python27\n",
    "* Date created: 20171212"
   ]
  },
  {
   "cell_type": "code",
   "execution_count": 2,
   "metadata": {},
   "outputs": [
    {
     "name": "stdout",
     "output_type": "stream",
     "text": [
      "('Y2017M12D12', 'UTC 14:17')\n"
     ]
    },
    {
     "data": {
      "text/plain": [
       "'2.7.13 |Continuum Analytics, Inc.| (default, Dec 20 2016, 23:09:15) \\n[GCC 4.4.7 20120313 (Red Hat 4.4.7-1)]'"
      ]
     },
     "execution_count": 2,
     "metadata": {},
     "output_type": "execute_result"
    }
   ],
   "source": [
    "import time, datetime, sys\n",
    "dateString = time.strftime(\"Y%YM%mD%d\")\n",
    "timeString = time.strftime(\"UTC %H:%M\")\n",
    "start = datetime.datetime.now()\n",
    "print(dateString,timeString)\n",
    "sys.version"
   ]
  },
  {
   "cell_type": "code",
   "execution_count": 31,
   "metadata": {
    "collapsed": true
   },
   "outputs": [],
   "source": [
    "EE_PATH = \"projects/WRI-Aquaduct/PCRGlobWB20V07\"\n",
    "\n",
    "SCRIPT_NAME = \"Y2017M12D12_RH_Water_Stress_EE_V02\"\n",
    "\n",
    "OUTPUT_VERSION = 1\n",
    "\n",
    "PFAF_LEVEL = 6\n",
    "\n",
    "YEARMIN = 1960\n",
    "YEARMAX = 1960"
   ]
  },
  {
   "cell_type": "code",
   "execution_count": 4,
   "metadata": {
    "collapsed": true
   },
   "outputs": [],
   "source": [
    "import ee\n",
    "import subprocess\n",
    "import pandas as pd\n",
    "import logging\n",
    "import subprocess"
   ]
  },
  {
   "cell_type": "code",
   "execution_count": 5,
   "metadata": {
    "collapsed": true
   },
   "outputs": [],
   "source": [
    "ee.Initialize()"
   ]
  },
  {
   "cell_type": "code",
   "execution_count": 8,
   "metadata": {},
   "outputs": [],
   "source": [
    "logger = logging.getLogger(__name__)\n",
    "logger.setLevel(logging.DEBUG)\n",
    "formatter = logging.Formatter('%(asctime)s:%(levelname)s:%(message)s')\n",
    "file_handler = logging.FileHandler(\"./logs/%sV%0.2d.log\" %(SCRIPT_NAME,OUTPUT_VERSION))\n",
    "file_handler.setFormatter(formatter)\n",
    "logger.addHandler(file_handler)"
   ]
  },
  {
   "cell_type": "code",
   "execution_count": 67,
   "metadata": {
    "collapsed": true
   },
   "outputs": [],
   "source": [
    "geometrySmall = ee.Geometry.Polygon(coords=[[-180.0, -81.0], [180,  -81.0], [180, 81], [-180,81]], proj= ee.Projection('EPSG:4326'),geodesic=False )"
   ]
  },
  {
   "cell_type": "code",
   "execution_count": null,
   "metadata": {
    "collapsed": true
   },
   "outputs": [],
   "source": []
  },
  {
   "cell_type": "code",
   "execution_count": 89,
   "metadata": {},
   "outputs": [],
   "source": [
    "def createIndicatorDataFrame():\n",
    "    df = pd.DataFrame()\n",
    "    for temporalResolution in temporalResolutions:\n",
    "        newRow = {}\n",
    "        newRow[\"temporalResolution\"] = temporalResolution\n",
    "        newRow[\"icWW\"] = \"%s/global_historical_PTotWW_%s_m_pfaf%0.2d_1960_2014\" %(EE_PATH,temporalResolution,PFAF_LEVEL)\n",
    "        newRow[\"icQ\"] = \"%s/global_historical_availableriverdischarge_%s_millionm3_5minPfaf%0.1d_1960_2014\" %(EE_PATH,temporalResolution,PFAF_LEVEL)\n",
    "        newRow[\"newIcId\"] = \"%s/global_historical_WS_%s_dimensionless_30sPfaf%0.2d_1960_2014\" %(EE_PATH,temporalResolution,PFAF_LEVEL)\n",
    "        df = df.append(newRow,ignore_index=True)\n",
    "    return df\n",
    "\n",
    "\n",
    "def createCollections(newIcId):        \n",
    "    command = \"earthengine create collection %s\" %(newIcId) \n",
    "    print(command)\n",
    "    result = subprocess.check_output(command,shell=True)\n",
    "    if result:\n",
    "        pass\n",
    "        logger.error(result)\n",
    "        \n",
    "def ensure_default_properties(obj): \n",
    "    obj = ee.Dictionary(obj)\n",
    "    default_properties = ee.Dictionary({\"mean\": -9999,\"count\": -9999})\n",
    "    return default_properties.combine(obj)\n",
    "\n",
    "def mapList(results, key):\n",
    "    newResult = results.map(lambda x: ee.Dictionary(x).get(key))\n",
    "    return newResult\n",
    "        \n",
    "        \n",
    "def zonalStatsToRaster(image,zonesImage,geometry,maxPixels,reducerType):\n",
    "    # reducertype can be mean, max, sum, first. Count is always included for QA\n",
    "    # the resolution of the zonesimage is used for scale\n",
    "\n",
    "    reducer = ee.Algorithms.If(ee.Algorithms.IsEqual(reducerType,\"mean\"),ee.Reducer.mean(),\n",
    "    ee.Algorithms.If(ee.Algorithms.IsEqual(reducerType,\"max\"),ee.Reducer.max(),\n",
    "    ee.Algorithms.If(ee.Algorithms.IsEqual(reducerType,\"sum\"),ee.Reducer.sum(),\n",
    "    ee.Algorithms.If(ee.Algorithms.IsEqual(reducerType,\"first\"),ee.Reducer.first(),\n",
    "    ee.Algorithms.If(ee.Algorithms.IsEqual(reducerType,\"mode\"),ee.Reducer.mode(),\"error\"))))\n",
    "    )\n",
    "    reducer = ee.Reducer(reducer).combine(reducer2= ee.Reducer.count(), sharedInputs= True).group(groupField=1, groupName=\"zones\") \n",
    "\n",
    "    scale = zonesImage.projection().nominalScale().getInfo()\n",
    "    zonesImage = zonesImage.select(zonesImage.bandNames(),[\"zones\"])\n",
    "\n",
    "    totalImage = ee.Image(image).addBands(zonesImage)\n",
    "    resultsList = ee.List(totalImage.reduceRegion(\n",
    "        geometry= geometry, \n",
    "        reducer= reducer,\n",
    "        scale= scale,\n",
    "        maxPixels=maxPixels\n",
    "        ).get(\"groups\"))\n",
    "\n",
    "    resultsList = resultsList.map(ensure_default_properties); \n",
    "    zoneList = mapList(resultsList, 'zones');\n",
    "    countList = mapList(resultsList, 'count');\n",
    "    valueList = mapList(resultsList, reducerType);\n",
    "\n",
    "    valueImage = zonesImage.remap(zoneList, valueList).select([\"remapped\"],[reducerType])\n",
    "    countImage = zonesImage.remap(zoneList, countList).select([\"remapped\"],[\"count\"])\n",
    "    newImage = zonesImage.addBands(countImage).addBands(valueImage)\n",
    "    return newImage,zoneList,valueList,countList\n",
    "\n",
    "\n",
    "\n",
    "    "
   ]
  },
  {
   "cell_type": "code",
   "execution_count": 98,
   "metadata": {
    "collapsed": true
   },
   "outputs": [],
   "source": [
    "area30s = ee.Image(\"projects/WRI-Aquaduct/PCRGlobWB20V07/area_30s_m2V11\")\n",
    "zones30s = ee.Image(\"projects/WRI-Aquaduct/PCRGlobWB20V07/hybas_lev00_v1c_merged_fiona_30s_V01\")\n",
    "zones30s = zones30s.divide(ee.Number(10).pow(ee.Number(12).subtract(PFAF_LEVEL))).floor().toInt64();\n",
    "\n",
    "crs30s = area30s.projection()"
   ]
  },
  {
   "cell_type": "code",
   "execution_count": 99,
   "metadata": {},
   "outputs": [
    {
     "data": {
      "text/plain": [
       "{u'crs': u'EPSG:4326',\n",
       " u'transform': [0.008333333333333333,\n",
       "  0.0,\n",
       "  -180.0,\n",
       "  0.0,\n",
       "  -0.008333333333333333,\n",
       "  90.0],\n",
       " u'type': u'Projection'}"
      ]
     },
     "execution_count": 99,
     "metadata": {},
     "output_type": "execute_result"
    }
   ],
   "source": [
    "crs30s.getInfo()"
   ]
  },
  {
   "cell_type": "code",
   "execution_count": 87,
   "metadata": {},
   "outputs": [],
   "source": [
    "area30sPfaf6,zoneList,valueList,countList = zonalStatsToRaster(area30s,zones30s,geometrySmall,1e10,\"sum\")"
   ]
  },
  {
   "cell_type": "code",
   "execution_count": 79,
   "metadata": {},
   "outputs": [],
   "source": [
    "dictionary = dict(zip(zoneList.getInfo(), valueList.getInfo()))"
   ]
  },
  {
   "cell_type": "code",
   "execution_count": 88,
   "metadata": {
    "collapsed": true
   },
   "outputs": [],
   "source": [
    "area30sPfaf6_m2 = area30sPfaf6.select([\"sum\"]) # image at 30s with area in m^2 per basin"
   ]
  },
  {
   "cell_type": "code",
   "execution_count": 90,
   "metadata": {
    "collapsed": true
   },
   "outputs": [],
   "source": [
    "temporalResolutions = [\"year\",\"month\"]"
   ]
  },
  {
   "cell_type": "code",
   "execution_count": 91,
   "metadata": {
    "collapsed": true
   },
   "outputs": [],
   "source": [
    "df = createIndicatorDataFrame()"
   ]
  },
  {
   "cell_type": "code",
   "execution_count": 92,
   "metadata": {},
   "outputs": [
    {
     "data": {
      "text/html": [
       "<div>\n",
       "<style>\n",
       "    .dataframe thead tr:only-child th {\n",
       "        text-align: right;\n",
       "    }\n",
       "\n",
       "    .dataframe thead th {\n",
       "        text-align: left;\n",
       "    }\n",
       "\n",
       "    .dataframe tbody tr th {\n",
       "        vertical-align: top;\n",
       "    }\n",
       "</style>\n",
       "<table border=\"1\" class=\"dataframe\">\n",
       "  <thead>\n",
       "    <tr style=\"text-align: right;\">\n",
       "      <th></th>\n",
       "      <th>icQ</th>\n",
       "      <th>icWW</th>\n",
       "      <th>newIcId</th>\n",
       "      <th>temporalResolution</th>\n",
       "    </tr>\n",
       "  </thead>\n",
       "  <tbody>\n",
       "    <tr>\n",
       "      <th>0</th>\n",
       "      <td>projects/WRI-Aquaduct/PCRGlobWB20V07/global_hi...</td>\n",
       "      <td>projects/WRI-Aquaduct/PCRGlobWB20V07/global_hi...</td>\n",
       "      <td>projects/WRI-Aquaduct/PCRGlobWB20V07/global_hi...</td>\n",
       "      <td>year</td>\n",
       "    </tr>\n",
       "    <tr>\n",
       "      <th>1</th>\n",
       "      <td>projects/WRI-Aquaduct/PCRGlobWB20V07/global_hi...</td>\n",
       "      <td>projects/WRI-Aquaduct/PCRGlobWB20V07/global_hi...</td>\n",
       "      <td>projects/WRI-Aquaduct/PCRGlobWB20V07/global_hi...</td>\n",
       "      <td>month</td>\n",
       "    </tr>\n",
       "  </tbody>\n",
       "</table>\n",
       "</div>"
      ],
      "text/plain": [
       "                                                 icQ  \\\n",
       "0  projects/WRI-Aquaduct/PCRGlobWB20V07/global_hi...   \n",
       "1  projects/WRI-Aquaduct/PCRGlobWB20V07/global_hi...   \n",
       "\n",
       "                                                icWW  \\\n",
       "0  projects/WRI-Aquaduct/PCRGlobWB20V07/global_hi...   \n",
       "1  projects/WRI-Aquaduct/PCRGlobWB20V07/global_hi...   \n",
       "\n",
       "                                             newIcId temporalResolution  \n",
       "0  projects/WRI-Aquaduct/PCRGlobWB20V07/global_hi...               year  \n",
       "1  projects/WRI-Aquaduct/PCRGlobWB20V07/global_hi...              month  "
      ]
     },
     "execution_count": 92,
     "metadata": {},
     "output_type": "execute_result"
    }
   ],
   "source": [
    "df.head()"
   ]
  },
  {
   "cell_type": "code",
   "execution_count": 101,
   "metadata": {},
   "outputs": [
    {
     "name": "stdout",
     "output_type": "stream",
     "text": [
      "earthengine create collection projects/WRI-Aquaduct/PCRGlobWB20V07/global_historical_WS_year_dimensionless_30sPfaf06_1960_2014\n",
      "{u'crs': u'EPSG:4326', u'type': u'Projection', u'transform': [0.008333333333333333, 0.0, -180.0, 0.0, -0.008333333333333333, 90.0]}\n",
      "earthengine create collection projects/WRI-Aquaduct/PCRGlobWB20V07/global_historical_WS_month_dimensionless_30sPfaf06_1960_2014\n",
      "(1960, 1)\n",
      "(1960, 2)\n",
      "(1960, 3)\n",
      "(1960, 4)\n",
      "(1960, 5)\n",
      "(1960, 6)\n",
      "(1960, 7)\n",
      "(1960, 8)\n",
      "(1960, 9)\n",
      "(1960, 10)\n",
      "(1960, 11)\n",
      "(1960, 12)\n"
     ]
    }
   ],
   "source": [
    "for index, row in df.iterrows():\n",
    "    if row[\"temporalResolution\"] == \"year\":\n",
    "        createCollections(row[\"newIcId\"])        \n",
    "        icQ = ee.ImageCollection(row[\"icQ\"])\n",
    "        icWW = ee.ImageCollection(row[\"icWW\"])\n",
    "            \n",
    "        month =12\n",
    "        for year in range(YEARMIN,YEARMAX+1):\n",
    "            iQ = ee.Image(icQ.filter(ee.Filter.eq(\"year\",year)).first()) #\n",
    "            iQmax = iQ.select([\"max\"])  # maximum discharge per basin in million m^3\n",
    "            iQsum = iQ.select([\"sum\"])  # sum discharge per basin in million m^3 of all sinks as identied. \n",
    "            \n",
    "            iQsum30s = iQsum.reduceResolution(\n",
    "              reducer = ee.Reducer.mode(),\n",
    "              maxPixels =  1024\n",
    "                ).reproject(\n",
    "              crs =   crs30s\n",
    "            )\n",
    "            \n",
    "        \n",
    "        \n",
    "    elif row[\"temporalResolution\"] == \"month\":      \n",
    "        createCollections(row[\"newIcId\"])\n",
    "        icQ = ee.ImageCollection(row[\"icQ\"])\n",
    "        icWW = ee.ImageCollection(row[\"icWW\"])\n",
    "        \n",
    "        for year in range(YEARMIN,YEARMAX+1): \n",
    "            for month in range(1,13):\n",
    "                print(year,month)"
   ]
  },
  {
   "cell_type": "code",
   "execution_count": null,
   "metadata": {
    "collapsed": true
   },
   "outputs": [],
   "source": []
  }
 ],
 "metadata": {
  "kernelspec": {
   "display_name": "Python 27",
   "language": "python",
   "name": "python27"
  },
  "language_info": {
   "codemirror_mode": {
    "name": "ipython",
    "version": 2
   },
   "file_extension": ".py",
   "mimetype": "text/x-python",
   "name": "python",
   "nbconvert_exporter": "python",
   "pygments_lexer": "ipython2",
   "version": "2.7.13"
  }
 },
 "nbformat": 4,
 "nbformat_minor": 2
}
