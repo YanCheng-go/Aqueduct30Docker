{
 "cells": [
  {
   "cell_type": "markdown",
   "metadata": {},
   "source": [
    "# Store Hydrobasin related files on PostgreSQL RDS database\n",
    "\n",
    "* Purpose of script: This script will process the hydrobasin related data into multiple tables according to the database ERD\n",
    "* Author: Rutger Hofste\n",
    "* Kernel used: python35\n",
    "* Date created: 20171122 \n",
    "\n",
    "The script requires a file called .password to be stored in the current working directory with the password to the database."
   ]
  },
  {
   "cell_type": "code",
   "execution_count": 1,
   "metadata": {},
   "outputs": [
    {
     "name": "stdout",
     "output_type": "stream",
     "text": [
      "Y2017M11D22 UTC 11:21\n"
     ]
    },
    {
     "data": {
      "text/plain": [
       "'3.5.4 |Continuum Analytics, Inc.| (default, Aug 14 2017, 13:26:58) \\n[GCC 4.4.7 20120313 (Red Hat 4.4.7-1)]'"
      ]
     },
     "execution_count": 1,
     "metadata": {},
     "output_type": "execute_result"
    }
   ],
   "source": [
    "import time, datetime, sys\n",
    "dateString = time.strftime(\"Y%YM%mD%d\")\n",
    "timeString = time.strftime(\"UTC %H:%M\")\n",
    "start = datetime.datetime.now()\n",
    "print(dateString,timeString)\n",
    "sys.version"
   ]
  },
  {
   "cell_type": "code",
   "execution_count": 14,
   "metadata": {
    "collapsed": true
   },
   "outputs": [],
   "source": [
    "SCRIPT_NAME = \"Y2017M11D22_RH_To_Database_V01\"\n",
    "\n",
    "INPUT_VERSION = 1\n",
    "INPUT_FILE_NAME = \"hydrobasins_fao_fiona_merged_v%0.2d\" %(INPUT_VERSION)\n",
    "\n",
    "EC2_INPUT_PATH = \"/volumes/data/%s/input/\" %(SCRIPT_NAME)\n",
    "EC2_OUTPUT_PATH = \"/volumes/data/%s/output/\" %(SCRIPT_NAME)\n",
    "\n",
    "S3_INPUT_PATH = \"s3://wri-projects/Aqueduct30/processData/Y2017M08D23_RH_Merge_FAONames_V01/output/\"\n",
    "\n",
    "# Database settings\n",
    "DATABASE_IDENTIFIER = \"aqueduct30v01\"\n",
    "DATABASE_NAME = \"database01\"\n",
    "TABLE_NAME = str.lower(SCRIPT_NAME)"
   ]
  },
  {
   "cell_type": "code",
   "execution_count": 3,
   "metadata": {},
   "outputs": [],
   "source": [
    "!rm -r {EC2_INPUT_PATH}\n",
    "!rm -r {EC2_OUTPUT_PATH}\n",
    "\n",
    "!mkdir -p {EC2_INPUT_PATH}\n",
    "!mkdir -p {EC2_OUTPUT_PATH}"
   ]
  },
  {
   "cell_type": "code",
   "execution_count": 4,
   "metadata": {},
   "outputs": [
    {
     "name": "stdout",
     "output_type": "stream",
     "text": [
      "download: s3://wri-projects/Aqueduct30/processData/Y2017M08D23_RH_Merge_FAONames_V01/output/hydrobasins_fao_fiona_merged_v01.cpg to ../../../../data/Y2017M11D22_RH_To_Database_V01/input/hydrobasins_fao_fiona_merged_v01.cpg\n",
      "download: s3://wri-projects/Aqueduct30/processData/Y2017M08D23_RH_Merge_FAONames_V01/output/hydrobasins_fao_fiona_merged_v01.prj to ../../../../data/Y2017M11D22_RH_To_Database_V01/input/hydrobasins_fao_fiona_merged_v01.prj\n",
      "download: s3://wri-projects/Aqueduct30/processData/Y2017M08D23_RH_Merge_FAONames_V01/output/hydrobasins_fao_fiona_merged_v01.shx to ../../../../data/Y2017M11D22_RH_To_Database_V01/input/hydrobasins_fao_fiona_merged_v01.shx\n",
      "download: s3://wri-projects/Aqueduct30/processData/Y2017M08D23_RH_Merge_FAONames_V01/output/hydrobasins_fao_fiona_merged_v01.dbf to ../../../../data/Y2017M11D22_RH_To_Database_V01/input/hydrobasins_fao_fiona_merged_v01.dbf\n",
      "download: s3://wri-projects/Aqueduct30/processData/Y2017M08D23_RH_Merge_FAONames_V01/output/hydrobasins_fao_fiona_merged_v01.shp to ../../../../data/Y2017M11D22_RH_To_Database_V01/input/hydrobasins_fao_fiona_merged_v01.shp\n"
     ]
    }
   ],
   "source": [
    "!aws s3 cp {S3_INPUT_PATH} {EC2_INPUT_PATH} --recursive"
   ]
  },
  {
   "cell_type": "code",
   "execution_count": 12,
   "metadata": {
    "collapsed": true
   },
   "outputs": [],
   "source": [
    "import os\n",
    "import pandas as pd\n",
    "import geopandas as gpd\n",
    "from ast import literal_eval\n",
    "import boto3\n",
    "import botocore\n",
    "from sqlalchemy import *"
   ]
  },
  {
   "cell_type": "code",
   "execution_count": 15,
   "metadata": {
    "collapsed": true
   },
   "outputs": [],
   "source": [
    "# RDS Connection\n",
    "def rdsConnect(database_identifier,database_name):\n",
    "    rds = boto3.client('rds')\n",
    "    F = open(\".password\",\"r\")\n",
    "    password = F.read().splitlines()[0]\n",
    "    F.close()\n",
    "    response = rds.describe_db_instances(DBInstanceIdentifier=\"%s\"%(database_identifier))\n",
    "    status = response[\"DBInstances\"][0][\"DBInstanceStatus\"]\n",
    "    print(\"Status:\",status)\n",
    "    endpoint = response[\"DBInstances\"][0][\"Endpoint\"][\"Address\"]\n",
    "    print(\"Endpoint:\",endpoint)\n",
    "    engine = create_engine('postgresql://rutgerhofste:%s@%s:5432/%s' %(password,endpoint,database_name))\n",
    "    connection = engine.connect()\n",
    "    return engine, connection\n"
   ]
  },
  {
   "cell_type": "code",
   "execution_count": 16,
   "metadata": {},
   "outputs": [
    {
     "name": "stdout",
     "output_type": "stream",
     "text": [
      "Status: available\n",
      "Endpoint: aqueduct30v01.cgpnumwmfcqc.eu-central-1.rds.amazonaws.com\n"
     ]
    }
   ],
   "source": [
    "engine, connection = rdsConnect(DATABASE_IDENTIFIER,DATABASE_NAME)"
   ]
  },
  {
   "cell_type": "code",
   "execution_count": null,
   "metadata": {
    "collapsed": true
   },
   "outputs": [],
   "source": []
  },
  {
   "cell_type": "code",
   "execution_count": 10,
   "metadata": {},
   "outputs": [],
   "source": [
    "gdf = gpd.read_file(os.path.join(EC2_INPUT_PATH,INPUT_FILE_NAME+\".shp\"))"
   ]
  },
  {
   "cell_type": "code",
   "execution_count": 11,
   "metadata": {},
   "outputs": [
    {
     "data": {
      "text/html": [
       "<div>\n",
       "<style>\n",
       "    .dataframe thead tr:only-child th {\n",
       "        text-align: right;\n",
       "    }\n",
       "\n",
       "    .dataframe thead th {\n",
       "        text-align: left;\n",
       "    }\n",
       "\n",
       "    .dataframe tbody tr th {\n",
       "        vertical-align: top;\n",
       "    }\n",
       "</style>\n",
       "<table border=\"1\" class=\"dataframe\">\n",
       "  <thead>\n",
       "    <tr style=\"text-align: right;\">\n",
       "      <th></th>\n",
       "      <th>SUB_BAS</th>\n",
       "      <th>TO_BAS</th>\n",
       "      <th>MAJ_BAS</th>\n",
       "      <th>SUB_NAME</th>\n",
       "      <th>MAJ_NAME</th>\n",
       "      <th>SUB_AREA</th>\n",
       "      <th>MAJ_AREA</th>\n",
       "      <th>LEGEND</th>\n",
       "      <th>geometry</th>\n",
       "    </tr>\n",
       "  </thead>\n",
       "  <tbody>\n",
       "    <tr>\n",
       "      <th>0</th>\n",
       "      <td>1001</td>\n",
       "      <td>-999</td>\n",
       "      <td>6001</td>\n",
       "      <td>Bursa / Balikesir</td>\n",
       "      <td>Black Sea, South Coast</td>\n",
       "      <td>24573</td>\n",
       "      <td>318639</td>\n",
       "      <td>1</td>\n",
       "      <td>(POLYGON ((27.79166666666602 40.370833333333, ...</td>\n",
       "    </tr>\n",
       "    <tr>\n",
       "      <th>1</th>\n",
       "      <td>1002</td>\n",
       "      <td>-999</td>\n",
       "      <td>6001</td>\n",
       "      <td>Kocaeli</td>\n",
       "      <td>Black Sea, South Coast</td>\n",
       "      <td>7803</td>\n",
       "      <td>318639</td>\n",
       "      <td>1</td>\n",
       "      <td>(POLYGON ((29.11666666666605 40.81666666666631...</td>\n",
       "    </tr>\n",
       "    <tr>\n",
       "      <th>2</th>\n",
       "      <td>1003</td>\n",
       "      <td>-999</td>\n",
       "      <td>6001</td>\n",
       "      <td>Sakarya River</td>\n",
       "      <td>Black Sea, South Coast</td>\n",
       "      <td>63081</td>\n",
       "      <td>318639</td>\n",
       "      <td>1</td>\n",
       "      <td>POLYGON ((30.26666666676471 41.22083333338378,...</td>\n",
       "    </tr>\n",
       "    <tr>\n",
       "      <th>3</th>\n",
       "      <td>1004</td>\n",
       "      <td>-999</td>\n",
       "      <td>6001</td>\n",
       "      <td>Duzce / Bolu / Zonguldak / Karabuk</td>\n",
       "      <td>Black Sea, South Coast</td>\n",
       "      <td>29866</td>\n",
       "      <td>318639</td>\n",
       "      <td>1</td>\n",
       "      <td>POLYGON ((34.97083333333272 42.09999999999961,...</td>\n",
       "    </tr>\n",
       "    <tr>\n",
       "      <th>4</th>\n",
       "      <td>1005</td>\n",
       "      <td>-999</td>\n",
       "      <td>6001</td>\n",
       "      <td>Kizilirmak River</td>\n",
       "      <td>Black Sea, South Coast</td>\n",
       "      <td>77771</td>\n",
       "      <td>318639</td>\n",
       "      <td>1</td>\n",
       "      <td>POLYGON ((34.09583333333271 41.76666666666631,...</td>\n",
       "    </tr>\n",
       "  </tbody>\n",
       "</table>\n",
       "</div>"
      ],
      "text/plain": [
       "   SUB_BAS  TO_BAS  MAJ_BAS                            SUB_NAME  \\\n",
       "0     1001    -999     6001                   Bursa / Balikesir   \n",
       "1     1002    -999     6001                             Kocaeli   \n",
       "2     1003    -999     6001                       Sakarya River   \n",
       "3     1004    -999     6001  Duzce / Bolu / Zonguldak / Karabuk   \n",
       "4     1005    -999     6001                    Kizilirmak River   \n",
       "\n",
       "                 MAJ_NAME  SUB_AREA  MAJ_AREA  LEGEND  \\\n",
       "0  Black Sea, South Coast     24573    318639       1   \n",
       "1  Black Sea, South Coast      7803    318639       1   \n",
       "2  Black Sea, South Coast     63081    318639       1   \n",
       "3  Black Sea, South Coast     29866    318639       1   \n",
       "4  Black Sea, South Coast     77771    318639       1   \n",
       "\n",
       "                                            geometry  \n",
       "0  (POLYGON ((27.79166666666602 40.370833333333, ...  \n",
       "1  (POLYGON ((29.11666666666605 40.81666666666631...  \n",
       "2  POLYGON ((30.26666666676471 41.22083333338378,...  \n",
       "3  POLYGON ((34.97083333333272 42.09999999999961,...  \n",
       "4  POLYGON ((34.09583333333271 41.76666666666631,...  "
      ]
     },
     "execution_count": 11,
     "metadata": {},
     "output_type": "execute_result"
    }
   ],
   "source": [
    "gdf.head()"
   ]
  },
  {
   "cell_type": "markdown",
   "metadata": {},
   "source": [
    "The idea is to store the data in two tables: major basin and minor basin together with the geometry. There is no unique identifier for the minor basins so we will use a composite key    \n",
    "    "
   ]
  },
  {
   "cell_type": "code",
   "execution_count": 22,
   "metadata": {
    "collapsed": true
   },
   "outputs": [],
   "source": [
    "def compositeKey(MAJ_BAS,SUB_BAS):\n",
    "    key = 'MAJ_BAS_%0.4d_SUB_BAS_%0.7d' %(MAJ_BAS,SUB_BAS)\n",
    "    return key"
   ]
  },
  {
   "cell_type": "code",
   "execution_count": 23,
   "metadata": {},
   "outputs": [
    {
     "data": {
      "text/plain": [
       "'MAJ_BAS_0001_SUB_BAS_0000002'"
      ]
     },
     "execution_count": 23,
     "metadata": {},
     "output_type": "execute_result"
    }
   ],
   "source": []
  },
  {
   "cell_type": "code",
   "execution_count": 20,
   "metadata": {},
   "outputs": [
    {
     "data": {
      "text/html": [
       "<div>\n",
       "<style>\n",
       "    .dataframe thead tr:only-child th {\n",
       "        text-align: right;\n",
       "    }\n",
       "\n",
       "    .dataframe thead th {\n",
       "        text-align: left;\n",
       "    }\n",
       "\n",
       "    .dataframe tbody tr th {\n",
       "        vertical-align: top;\n",
       "    }\n",
       "</style>\n",
       "<table border=\"1\" class=\"dataframe\">\n",
       "  <thead>\n",
       "    <tr style=\"text-align: right;\">\n",
       "      <th></th>\n",
       "      <th>SUB_BAS</th>\n",
       "      <th>TO_BAS</th>\n",
       "      <th>MAJ_BAS</th>\n",
       "      <th>SUB_NAME</th>\n",
       "      <th>MAJ_NAME</th>\n",
       "      <th>SUB_AREA</th>\n",
       "      <th>MAJ_AREA</th>\n",
       "      <th>LEGEND</th>\n",
       "      <th>geometry</th>\n",
       "      <th>FAOid</th>\n",
       "    </tr>\n",
       "  </thead>\n",
       "  <tbody>\n",
       "    <tr>\n",
       "      <th>0</th>\n",
       "      <td>1001</td>\n",
       "      <td>-999</td>\n",
       "      <td>6001</td>\n",
       "      <td>Bursa / Balikesir</td>\n",
       "      <td>Black Sea, South Coast</td>\n",
       "      <td>24573</td>\n",
       "      <td>318639</td>\n",
       "      <td>1</td>\n",
       "      <td>(POLYGON ((27.79166666666602 40.370833333333, ...</td>\n",
       "      <td>NaN</td>\n",
       "    </tr>\n",
       "    <tr>\n",
       "      <th>1</th>\n",
       "      <td>1002</td>\n",
       "      <td>-999</td>\n",
       "      <td>6001</td>\n",
       "      <td>Kocaeli</td>\n",
       "      <td>Black Sea, South Coast</td>\n",
       "      <td>7803</td>\n",
       "      <td>318639</td>\n",
       "      <td>1</td>\n",
       "      <td>(POLYGON ((29.11666666666605 40.81666666666631...</td>\n",
       "      <td>NaN</td>\n",
       "    </tr>\n",
       "    <tr>\n",
       "      <th>2</th>\n",
       "      <td>1003</td>\n",
       "      <td>-999</td>\n",
       "      <td>6001</td>\n",
       "      <td>Sakarya River</td>\n",
       "      <td>Black Sea, South Coast</td>\n",
       "      <td>63081</td>\n",
       "      <td>318639</td>\n",
       "      <td>1</td>\n",
       "      <td>POLYGON ((30.26666666676471 41.22083333338378,...</td>\n",
       "      <td>NaN</td>\n",
       "    </tr>\n",
       "    <tr>\n",
       "      <th>3</th>\n",
       "      <td>1004</td>\n",
       "      <td>-999</td>\n",
       "      <td>6001</td>\n",
       "      <td>Duzce / Bolu / Zonguldak / Karabuk</td>\n",
       "      <td>Black Sea, South Coast</td>\n",
       "      <td>29866</td>\n",
       "      <td>318639</td>\n",
       "      <td>1</td>\n",
       "      <td>POLYGON ((34.97083333333272 42.09999999999961,...</td>\n",
       "      <td>NaN</td>\n",
       "    </tr>\n",
       "    <tr>\n",
       "      <th>4</th>\n",
       "      <td>1005</td>\n",
       "      <td>-999</td>\n",
       "      <td>6001</td>\n",
       "      <td>Kizilirmak River</td>\n",
       "      <td>Black Sea, South Coast</td>\n",
       "      <td>77771</td>\n",
       "      <td>318639</td>\n",
       "      <td>1</td>\n",
       "      <td>POLYGON ((34.09583333333271 41.76666666666631,...</td>\n",
       "      <td>NaN</td>\n",
       "    </tr>\n",
       "  </tbody>\n",
       "</table>\n",
       "</div>"
      ],
      "text/plain": [
       "   SUB_BAS  TO_BAS  MAJ_BAS                            SUB_NAME  \\\n",
       "0     1001    -999     6001                   Bursa / Balikesir   \n",
       "1     1002    -999     6001                             Kocaeli   \n",
       "2     1003    -999     6001                       Sakarya River   \n",
       "3     1004    -999     6001  Duzce / Bolu / Zonguldak / Karabuk   \n",
       "4     1005    -999     6001                    Kizilirmak River   \n",
       "\n",
       "                 MAJ_NAME  SUB_AREA  MAJ_AREA  LEGEND  \\\n",
       "0  Black Sea, South Coast     24573    318639       1   \n",
       "1  Black Sea, South Coast      7803    318639       1   \n",
       "2  Black Sea, South Coast     63081    318639       1   \n",
       "3  Black Sea, South Coast     29866    318639       1   \n",
       "4  Black Sea, South Coast     77771    318639       1   \n",
       "\n",
       "                                            geometry  FAOid  \n",
       "0  (POLYGON ((27.79166666666602 40.370833333333, ...    NaN  \n",
       "1  (POLYGON ((29.11666666666605 40.81666666666631...    NaN  \n",
       "2  POLYGON ((30.26666666676471 41.22083333338378,...    NaN  \n",
       "3  POLYGON ((34.97083333333272 42.09999999999961,...    NaN  \n",
       "4  POLYGON ((34.09583333333271 41.76666666666631,...    NaN  "
      ]
     },
     "execution_count": 20,
     "metadata": {},
     "output_type": "execute_result"
    }
   ],
   "source": [
    "gdf.head()"
   ]
  },
  {
   "cell_type": "code",
   "execution_count": 26,
   "metadata": {
    "collapsed": true
   },
   "outputs": [],
   "source": [
    "gdf[\"test\"]= gdf.apply(lambda x: compositeKey(42,43),1)"
   ]
  },
  {
   "cell_type": "code",
   "execution_count": 27,
   "metadata": {},
   "outputs": [
    {
     "data": {
      "text/html": [
       "<div>\n",
       "<style>\n",
       "    .dataframe thead tr:only-child th {\n",
       "        text-align: right;\n",
       "    }\n",
       "\n",
       "    .dataframe thead th {\n",
       "        text-align: left;\n",
       "    }\n",
       "\n",
       "    .dataframe tbody tr th {\n",
       "        vertical-align: top;\n",
       "    }\n",
       "</style>\n",
       "<table border=\"1\" class=\"dataframe\">\n",
       "  <thead>\n",
       "    <tr style=\"text-align: right;\">\n",
       "      <th></th>\n",
       "      <th>SUB_BAS</th>\n",
       "      <th>TO_BAS</th>\n",
       "      <th>MAJ_BAS</th>\n",
       "      <th>SUB_NAME</th>\n",
       "      <th>MAJ_NAME</th>\n",
       "      <th>SUB_AREA</th>\n",
       "      <th>MAJ_AREA</th>\n",
       "      <th>LEGEND</th>\n",
       "      <th>geometry</th>\n",
       "      <th>FAOid</th>\n",
       "      <th>test</th>\n",
       "    </tr>\n",
       "  </thead>\n",
       "  <tbody>\n",
       "    <tr>\n",
       "      <th>0</th>\n",
       "      <td>1001</td>\n",
       "      <td>-999</td>\n",
       "      <td>6001</td>\n",
       "      <td>Bursa / Balikesir</td>\n",
       "      <td>Black Sea, South Coast</td>\n",
       "      <td>24573</td>\n",
       "      <td>318639</td>\n",
       "      <td>1</td>\n",
       "      <td>(POLYGON ((27.79166666666602 40.370833333333, ...</td>\n",
       "      <td>NaN</td>\n",
       "      <td>MAJ_BAS_0042_SUB_BAS_0000043</td>\n",
       "    </tr>\n",
       "    <tr>\n",
       "      <th>1</th>\n",
       "      <td>1002</td>\n",
       "      <td>-999</td>\n",
       "      <td>6001</td>\n",
       "      <td>Kocaeli</td>\n",
       "      <td>Black Sea, South Coast</td>\n",
       "      <td>7803</td>\n",
       "      <td>318639</td>\n",
       "      <td>1</td>\n",
       "      <td>(POLYGON ((29.11666666666605 40.81666666666631...</td>\n",
       "      <td>NaN</td>\n",
       "      <td>MAJ_BAS_0042_SUB_BAS_0000043</td>\n",
       "    </tr>\n",
       "    <tr>\n",
       "      <th>2</th>\n",
       "      <td>1003</td>\n",
       "      <td>-999</td>\n",
       "      <td>6001</td>\n",
       "      <td>Sakarya River</td>\n",
       "      <td>Black Sea, South Coast</td>\n",
       "      <td>63081</td>\n",
       "      <td>318639</td>\n",
       "      <td>1</td>\n",
       "      <td>POLYGON ((30.26666666676471 41.22083333338378,...</td>\n",
       "      <td>NaN</td>\n",
       "      <td>MAJ_BAS_0042_SUB_BAS_0000043</td>\n",
       "    </tr>\n",
       "    <tr>\n",
       "      <th>3</th>\n",
       "      <td>1004</td>\n",
       "      <td>-999</td>\n",
       "      <td>6001</td>\n",
       "      <td>Duzce / Bolu / Zonguldak / Karabuk</td>\n",
       "      <td>Black Sea, South Coast</td>\n",
       "      <td>29866</td>\n",
       "      <td>318639</td>\n",
       "      <td>1</td>\n",
       "      <td>POLYGON ((34.97083333333272 42.09999999999961,...</td>\n",
       "      <td>NaN</td>\n",
       "      <td>MAJ_BAS_0042_SUB_BAS_0000043</td>\n",
       "    </tr>\n",
       "    <tr>\n",
       "      <th>4</th>\n",
       "      <td>1005</td>\n",
       "      <td>-999</td>\n",
       "      <td>6001</td>\n",
       "      <td>Kizilirmak River</td>\n",
       "      <td>Black Sea, South Coast</td>\n",
       "      <td>77771</td>\n",
       "      <td>318639</td>\n",
       "      <td>1</td>\n",
       "      <td>POLYGON ((34.09583333333271 41.76666666666631,...</td>\n",
       "      <td>NaN</td>\n",
       "      <td>MAJ_BAS_0042_SUB_BAS_0000043</td>\n",
       "    </tr>\n",
       "  </tbody>\n",
       "</table>\n",
       "</div>"
      ],
      "text/plain": [
       "   SUB_BAS  TO_BAS  MAJ_BAS                            SUB_NAME  \\\n",
       "0     1001    -999     6001                   Bursa / Balikesir   \n",
       "1     1002    -999     6001                             Kocaeli   \n",
       "2     1003    -999     6001                       Sakarya River   \n",
       "3     1004    -999     6001  Duzce / Bolu / Zonguldak / Karabuk   \n",
       "4     1005    -999     6001                    Kizilirmak River   \n",
       "\n",
       "                 MAJ_NAME  SUB_AREA  MAJ_AREA  LEGEND  \\\n",
       "0  Black Sea, South Coast     24573    318639       1   \n",
       "1  Black Sea, South Coast      7803    318639       1   \n",
       "2  Black Sea, South Coast     63081    318639       1   \n",
       "3  Black Sea, South Coast     29866    318639       1   \n",
       "4  Black Sea, South Coast     77771    318639       1   \n",
       "\n",
       "                                            geometry  FAOid  \\\n",
       "0  (POLYGON ((27.79166666666602 40.370833333333, ...    NaN   \n",
       "1  (POLYGON ((29.11666666666605 40.81666666666631...    NaN   \n",
       "2  POLYGON ((30.26666666676471 41.22083333338378,...    NaN   \n",
       "3  POLYGON ((34.97083333333272 42.09999999999961,...    NaN   \n",
       "4  POLYGON ((34.09583333333271 41.76666666666631,...    NaN   \n",
       "\n",
       "                           test  \n",
       "0  MAJ_BAS_0042_SUB_BAS_0000043  \n",
       "1  MAJ_BAS_0042_SUB_BAS_0000043  \n",
       "2  MAJ_BAS_0042_SUB_BAS_0000043  \n",
       "3  MAJ_BAS_0042_SUB_BAS_0000043  \n",
       "4  MAJ_BAS_0042_SUB_BAS_0000043  "
      ]
     },
     "execution_count": 27,
     "metadata": {},
     "output_type": "execute_result"
    }
   ],
   "source": [
    "gdf.head()"
   ]
  },
  {
   "cell_type": "code",
   "execution_count": null,
   "metadata": {
    "collapsed": true
   },
   "outputs": [],
   "source": []
  }
 ],
 "metadata": {
  "kernelspec": {
   "display_name": "Python 35",
   "language": "python",
   "name": "python35"
  },
  "language_info": {
   "codemirror_mode": {
    "name": "ipython",
    "version": 3
   },
   "file_extension": ".py",
   "mimetype": "text/x-python",
   "name": "python",
   "nbconvert_exporter": "python",
   "pygments_lexer": "ipython3",
   "version": "3.5.4"
  }
 },
 "nbformat": 4,
 "nbformat_minor": 2
}
