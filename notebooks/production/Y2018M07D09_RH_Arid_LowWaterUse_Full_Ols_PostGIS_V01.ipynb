{
 "cells": [
  {
   "cell_type": "code",
   "execution_count": 1,
   "metadata": {},
   "outputs": [
    {
     "name": "stdout",
     "output_type": "stream",
     "text": [
      "Input Table:  y2018m06d28_rh_ws_full_range_ols_postgis_30spfaf06_v02_v06 \n",
      "Output Table:  y2018m07d09_rh_arid_lowwateruse_full_ols_postgis_v01_v05\n"
     ]
    }
   ],
   "source": [
    "\"\"\" Using the full range ols_ols10, apply the arid and lowwateruse thresholds.\n",
    "-------------------------------------------------------------------------------\n",
    "\n",
    "2020/02/03 Update output version 4-5\n",
    "\n",
    "please note that capped ols_capped_ols10 series are used but the column name\n",
    "for arid and lowater is just ols_ols10_aridandlowwateruse_boolean_30spfaf06\n",
    "so no _capped_\n",
    "\n",
    "\n",
    "Author: Rutger Hofste\n",
    "Date: 20180709\n",
    "Kernel: python35\n",
    "Docker: rutgerhofste/gisdocker:ubuntu16.04\n",
    "\n",
    "Args:\n",
    "    TESTING (Boolean) : Toggle testing case.\n",
    "    SCRIPT_NAME (string) : Script name.\n",
    "    OUTPUT_VERSION (integer) : output version.\n",
    "    DATABASE_ENDPOINT (string) : RDS or postGreSQL endpoint.\n",
    "    DATABASE_NAME (string) : Database name.\n",
    "    TABLE_NAME_AREA_30SPFAF06 (string) : Table name used for areas. Must exist\n",
    "        on same database as used in rest of script.\n",
    "    S3_INPUT_PATH_RIVERDISCHARGE (string) : AWS S3 input path for \n",
    "        riverdischarge.    \n",
    "    S3_INPUT_PATH_DEMAND (string) : AWS S3 input path for \n",
    "        demand.     \n",
    "\n",
    "\"\"\"\n",
    "\n",
    "TESTING = 0\n",
    "OVERWRITE_OUTPUT = 1\n",
    "SCRIPT_NAME = 'Y2018M07D09_RH_Arid_LowWaterUse_Full_Ols_PostGIS_V01'\n",
    "OUTPUT_VERSION = 5\n",
    "\n",
    "DATABASE_ENDPOINT = \"aqueduct30v05.cgpnumwmfcqc.eu-central-1.rds.amazonaws.com\"\n",
    "DATABASE_NAME = \"database01\"\n",
    "INPUT_TABLE_NAME = 'y2018m06d28_rh_ws_full_range_ols_postgis_30spfaf06_v02_v06'\n",
    "OUTPUT_TABLE_NAME = SCRIPT_NAME.lower() + \"_v{:02.0f}\".format(OUTPUT_VERSION)\n",
    "\n",
    "THRESHOLD_ARID_YEAR = 0.03 #units are m/year, threshold defined by Aqueduct 2.1\n",
    "THRESHOLD_LOW_WATER_USE_YEAR = 0.012 #units are m/year, threshold defined by Aqueduct 2.1 Withdrawal\n",
    "\n",
    "print(\"Input Table: \" , INPUT_TABLE_NAME, \n",
    "      \"\\nOutput Table: \" , OUTPUT_TABLE_NAME)\n"
   ]
  },
  {
   "cell_type": "code",
   "execution_count": 2,
   "metadata": {},
   "outputs": [
    {
     "name": "stdout",
     "output_type": "stream",
     "text": [
      "Y2020M02D18 UTC 12:30\n"
     ]
    },
    {
     "data": {
      "text/plain": [
       "'3.5.4 |Anaconda, Inc.| (default, Nov 20 2017, 18:44:38) \\n[GCC 7.2.0]'"
      ]
     },
     "execution_count": 2,
     "metadata": {},
     "output_type": "execute_result"
    }
   ],
   "source": [
    "import time, datetime, sys\n",
    "dateString = time.strftime(\"Y%YM%mD%d\")\n",
    "timeString = time.strftime(\"UTC %H:%M\")\n",
    "start = datetime.datetime.now()\n",
    "print(dateString,timeString)\n",
    "sys.version"
   ]
  },
  {
   "cell_type": "code",
   "execution_count": 3,
   "metadata": {
    "collapsed": true
   },
   "outputs": [],
   "source": [
    "# imports\n",
    "import re\n",
    "import os\n",
    "import numpy as np\n",
    "import pandas as pd\n",
    "import aqueduct3\n",
    "from datetime import timedelta\n",
    "from sqlalchemy import *\n",
    "pd.set_option('display.max_columns', 500)"
   ]
  },
  {
   "cell_type": "code",
   "execution_count": 4,
   "metadata": {},
   "outputs": [
    {
     "name": "stdout",
     "output_type": "stream",
     "text": [
      "DROP TABLE IF EXISTS y2018m07d09_rh_arid_lowwateruse_full_ols_postgis_v01_v05;\n"
     ]
    }
   ],
   "source": [
    "F = open(\"/.password\",\"r\")\n",
    "password = F.read().splitlines()[0]\n",
    "F.close()\n",
    "\n",
    "engine = create_engine(\"postgresql://rutgerhofste:{}@{}:5432/{}\".format(password,DATABASE_ENDPOINT,DATABASE_NAME))\n",
    "#connection = engine.connect()\n",
    "\n",
    "if OVERWRITE_OUTPUT:\n",
    "    sql = \"DROP TABLE IF EXISTS {};\".format(OUTPUT_TABLE_NAME)\n",
    "    print(sql)\n",
    "    result = engine.execute(sql)"
   ]
  },
  {
   "cell_type": "code",
   "execution_count": 5,
   "metadata": {
    "collapsed": true
   },
   "outputs": [],
   "source": [
    "temporal_reducers = [\"ols_ols10_\"]"
   ]
  },
  {
   "cell_type": "code",
   "execution_count": 6,
   "metadata": {
    "collapsed": true
   },
   "outputs": [],
   "source": [
    "sql = \"CREATE TABLE {} AS \".format(OUTPUT_TABLE_NAME)\n",
    "sql = sql + \"SELECT pfafid_30spfaf06, ols_ols10_riverdischarge_m_30spfaf06, ols_ols10_ptotww_m_30spfaf06, ols_ols10_ptotwn_m_30spfaf06, year, \"\n",
    "\n",
    "# arid\n",
    "sql = sql + \" CASE\"\n",
    "sql = sql + \" WHEN (ols_capped_ols10_riverdischarge_m_30spfaf06) < {} THEN 1\".format(THRESHOLD_ARID_YEAR)\n",
    "sql = sql + \" ELSE 0 \"\n",
    "sql = sql + \" END\"\n",
    "sql = sql + \" AS ols_ols10_arid_boolean_30spfaf06,\"\n",
    "\n",
    "#lowwateruse\n",
    "sql = sql + \" CASE\"\n",
    "sql = sql + \" WHEN ols_capped_ols10_ptotww_m_30spfaf06 < {} THEN 1\".format(THRESHOLD_LOW_WATER_USE_YEAR)\n",
    "sql = sql + \" ELSE 0 \"\n",
    "sql = sql + \" END\"\n",
    "sql = sql + \" AS ols_ols10_lowwateruse_boolean_30spfaf06,\"\n",
    "\n",
    "# Arid AND Lowwateruse  \n",
    "sql = sql + \" CASE\"\n",
    "sql = sql + \" WHEN ols_capped_ols10_ptotww_m_30spfaf06 < {} AND (ols_capped_ols10_riverdischarge_m_30spfaf06)  < {} THEN 1\".format(THRESHOLD_LOW_WATER_USE_YEAR, THRESHOLD_ARID_YEAR)\n",
    "sql = sql + \" ELSE 0 \"\n",
    "sql = sql + \" END\"\n",
    "sql = sql + \" AS ols_ols10_aridandlowwateruse_boolean_30spfaf06 ,\"\n",
    "sql = sql[:-1]\n",
    "sql = sql + \" FROM {}\".format(INPUT_TABLE_NAME)\n",
    "sql = sql + \" WHERE temporal_resolution = 'year' \""
   ]
  },
  {
   "cell_type": "code",
   "execution_count": 7,
   "metadata": {},
   "outputs": [
    {
     "data": {
      "text/plain": [
       "\"CREATE TABLE y2018m07d09_rh_arid_lowwateruse_full_ols_postgis_v01_v05 AS SELECT pfafid_30spfaf06, ols_ols10_riverdischarge_m_30spfaf06, ols_ols10_ptotww_m_30spfaf06, ols_ols10_ptotwn_m_30spfaf06, year,  CASE WHEN (ols_capped_ols10_riverdischarge_m_30spfaf06) < 0.03 THEN 1 ELSE 0  END AS ols_ols10_arid_boolean_30spfaf06, CASE WHEN ols_capped_ols10_ptotww_m_30spfaf06 < 0.012 THEN 1 ELSE 0  END AS ols_ols10_lowwateruse_boolean_30spfaf06, CASE WHEN ols_capped_ols10_ptotww_m_30spfaf06 < 0.012 AND (ols_capped_ols10_riverdischarge_m_30spfaf06)  < 0.03 THEN 1 ELSE 0  END AS ols_ols10_aridandlowwateruse_boolean_30spfaf06  FROM y2018m06d28_rh_ws_full_range_ols_postgis_30spfaf06_v02_v06 WHERE temporal_resolution = 'year' \""
      ]
     },
     "execution_count": 7,
     "metadata": {},
     "output_type": "execute_result"
    }
   ],
   "source": [
    "sql"
   ]
  },
  {
   "cell_type": "code",
   "execution_count": 8,
   "metadata": {
    "collapsed": true
   },
   "outputs": [],
   "source": [
    "result = engine.execute(sql)"
   ]
  },
  {
   "cell_type": "code",
   "execution_count": 9,
   "metadata": {},
   "outputs": [
    {
     "name": "stdout",
     "output_type": "stream",
     "text": [
      "0:02:33.077817\n"
     ]
    }
   ],
   "source": [
    "end = datetime.datetime.now()\n",
    "elapsed = end - start\n",
    "print(elapsed)"
   ]
  },
  {
   "cell_type": "markdown",
   "metadata": {},
   "source": [
    "Previous runs:  \n",
    "0:02:11.888964  \n",
    "0:02:12.255110  \n",
    "0:01:56.781839  \n",
    "0:03:23.336755  \n",
    "0:02:31.679844  \n",
    "0:02:29.528062  \n",
    "0:02:33.077817\n",
    "\n",
    " "
   ]
  },
  {
   "cell_type": "code",
   "execution_count": null,
   "metadata": {
    "collapsed": true
   },
   "outputs": [],
   "source": []
  }
 ],
 "metadata": {
  "kernelspec": {
   "display_name": "Python 35",
   "language": "python",
   "name": "python35"
  },
  "language_info": {
   "codemirror_mode": {
    "name": "ipython",
    "version": 3
   },
   "file_extension": ".py",
   "mimetype": "text/x-python",
   "name": "python",
   "nbconvert_exporter": "python",
   "pygments_lexer": "ipython3",
   "version": "3.5.4"
  }
 },
 "nbformat": 4,
 "nbformat_minor": 2
}
