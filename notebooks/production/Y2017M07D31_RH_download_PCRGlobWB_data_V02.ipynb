{
 "cells": [
  {
   "cell_type": "code",
   "execution_count": 1,
   "metadata": {
    "collapsed": true
   },
   "outputs": [],
   "source": [
    "\"\"\" This notebook will download the data from S3 to the EC2 instance \n",
    "-------------------------------------------------------------------------------\n",
    "In this notebook we will copy the data for the first couple of steps from WRI's\n",
    "Amazon S3 Bucket. The data is large i.e. **40GB** so a good excuse to drink a \n",
    "coffee. The output in Jupyter per file is suppressed so you will only see a \n",
    "result after the file has been donwloaded. You can also run this command in your\n",
    "terminal and see the process per file.\n",
    "\n",
    "The script will rename and copy certain files to create a coherent dataset.\n",
    "\n",
    "requires AWS cli to be configured.\n",
    "\n",
    "\n",
    "Author: Rutger Hofste\n",
    "Date: 20170731\n",
    "Kernel: python36\n",
    "Docker: rutgerhofste/gisdocker:ubuntu16.04\n",
    "\n",
    "Args:\n",
    "\n",
    "    SCRIPT_NAME (string) : Script name\n",
    "    INPUT_VERSION (integer) : input version, see readme and output number\n",
    "                              of previous script. \n",
    "    \n",
    "\n",
    "\n",
    "Returns:\n",
    "\n",
    "Result:\n",
    "    Unzipped, renamed and restructured files in the EC2 output folder.\n",
    "\n",
    "\n",
    "\"\"\"\n",
    "\n",
    "# Input Parameters\n",
    "\n",
    "SCRIPT_NAME = \"Y2017M07D31_RH_download_PCRGlobWB_data_V02\"\n",
    "INPUT_VERSION = 2\n",
    "\n",
    "# Output Parameters\n"
   ]
  },
  {
   "cell_type": "code",
   "execution_count": 2,
   "metadata": {},
   "outputs": [
    {
     "name": "stdout",
     "output_type": "stream",
     "text": [
      "Y2018M03D29 UTC 12:04\n"
     ]
    },
    {
     "data": {
      "text/plain": [
       "'3.6.4 |Anaconda, Inc.| (default, Jan 16 2018, 18:10:19) \\n[GCC 7.2.0]'"
      ]
     },
     "execution_count": 2,
     "metadata": {},
     "output_type": "execute_result"
    }
   ],
   "source": [
    "import time, datetime, sys\n",
    "dateString = time.strftime(\"Y%YM%mD%d\")\n",
    "timeString = time.strftime(\"UTC %H:%M\")\n",
    "start = datetime.datetime.now()\n",
    "print(dateString,timeString)\n",
    "sys.version"
   ]
  },
  {
   "cell_type": "code",
   "execution_count": 3,
   "metadata": {
    "collapsed": true
   },
   "outputs": [],
   "source": [
    "# Imports\n",
    "import os"
   ]
  },
  {
   "cell_type": "code",
   "execution_count": 4,
   "metadata": {
    "collapsed": true
   },
   "outputs": [],
   "source": [
    "# ETL\n",
    "s3_input_path = \"s3://wri-projects/Aqueduct30/processData/Y2017M07D31_RH_copy_S3raw_s3process_V{:02.0f}/output/\".format(INPUT_VERSION)\n",
    "ec2_output_path = \"/volumes/data/{}/output/\".format(SCRIPT_NAME)\n"
   ]
  },
  {
   "cell_type": "code",
   "execution_count": 5,
   "metadata": {},
   "outputs": [
    {
     "name": "stdout",
     "output_type": "stream",
     "text": [
      "rm: cannot remove '/volumes/data/Y2017M07D31_RH_download_PCRGlobWB_data_V02/output/': No such file or directory\r\n"
     ]
    }
   ],
   "source": [
    "!rm -r {ec2_output_path}"
   ]
  },
  {
   "cell_type": "code",
   "execution_count": 6,
   "metadata": {
    "collapsed": true
   },
   "outputs": [],
   "source": [
    "!mkdir -p {ec2_output_path}"
   ]
  },
  {
   "cell_type": "code",
   "execution_count": 7,
   "metadata": {},
   "outputs": [
    {
     "name": "stdout",
     "output_type": "stream",
     "text": [
      "download: s3://wri-projects/Aqueduct30/processData/Y2017M07D31_RH_copy_S3raw_s3process_V02/output/global_droughtseveritystandardisedsoilmoisture_5min_1960-2014.asc to ../../../../data/Y2017M07D31_RH_download_PCRGlobWB_data_V02/output/global_droughtseveritystandardisedsoilmoisture_5min_1960-2014.asc\n",
      "download: s3://wri-projects/Aqueduct30/processData/Y2017M07D31_RH_copy_S3raw_s3process_V02/output/global_droughtseveritystandardisedstreamflow_5min_1960-2014.asc to ../../../../data/Y2017M07D31_RH_download_PCRGlobWB_data_V02/output/global_droughtseveritystandardisedstreamflow_5min_1960-2014.asc\n",
      "download: s3://wri-projects/Aqueduct30/processData/Y2017M07D31_RH_copy_S3raw_s3process_V02/output/global_environmentalflows_5min_1960-2014.asc to ../../../../data/Y2017M07D31_RH_download_PCRGlobWB_data_V02/output/global_environmentalflows_5min_1960-2014.asc\n",
      "download: s3://wri-projects/Aqueduct30/processData/Y2017M07D31_RH_copy_S3raw_s3process_V02/output/global_historical_PDomUse_year_millionm3_5min_1960_2014.nc4 to ../../../../data/Y2017M07D31_RH_download_PCRGlobWB_data_V02/output/global_historical_PDomUse_year_millionm3_5min_1960_2014.nc4\n",
      "download: s3://wri-projects/Aqueduct30/processData/Y2017M07D31_RH_copy_S3raw_s3process_V02/output/global_historical_PDomWW_year_millionm3_5min_1960_2014.nc4 to ../../../../data/Y2017M07D31_RH_download_PCRGlobWB_data_V02/output/global_historical_PDomWW_year_millionm3_5min_1960_2014.nc4\n",
      "download: s3://wri-projects/Aqueduct30/processData/Y2017M07D31_RH_copy_S3raw_s3process_V02/output/global_historical_PIndUse_year_millionm3_5min_1960_2014.nc4 to ../../../../data/Y2017M07D31_RH_download_PCRGlobWB_data_V02/output/global_historical_PIndUse_year_millionm3_5min_1960_2014.nc4\n",
      "download: s3://wri-projects/Aqueduct30/processData/Y2017M07D31_RH_copy_S3raw_s3process_V02/output/global_historical_PIndWW_year_millionm3_5min_1960_2014.nc4 to ../../../../data/Y2017M07D31_RH_download_PCRGlobWB_data_V02/output/global_historical_PIndWW_year_millionm3_5min_1960_2014.nc4\n",
      "download: s3://wri-projects/Aqueduct30/processData/Y2017M07D31_RH_copy_S3raw_s3process_V02/output/global_historical_PIndUse_month_millionm3_5min_1960_2014.nc4 to ../../../../data/Y2017M07D31_RH_download_PCRGlobWB_data_V02/output/global_historical_PIndUse_month_millionm3_5min_1960_2014.nc4\n",
      "download: s3://wri-projects/Aqueduct30/processData/Y2017M07D31_RH_copy_S3raw_s3process_V02/output/global_historical_PIrrWN_year_millionm3_5min_1960_2014.nc4 to ../../../../data/Y2017M07D31_RH_download_PCRGlobWB_data_V02/output/global_historical_PIrrWN_year_millionm3_5min_1960_2014.nc4\n",
      "download: s3://wri-projects/Aqueduct30/processData/Y2017M07D31_RH_copy_S3raw_s3process_V02/output/global_historical_PIrrWN_month_millionm3_5min_1960_2014.nc4 to ../../../../data/Y2017M07D31_RH_download_PCRGlobWB_data_V02/output/global_historical_PIrrWN_month_millionm3_5min_1960_2014.nc4\n",
      "download: s3://wri-projects/Aqueduct30/processData/Y2017M07D31_RH_copy_S3raw_s3process_V02/output/global_historical_PIndWW_month_millionm3_5min_1960_2014.nc4 to ../../../../data/Y2017M07D31_RH_download_PCRGlobWB_data_V02/output/global_historical_PIndWW_month_millionm3_5min_1960_2014.nc4\n",
      "download: s3://wri-projects/Aqueduct30/processData/Y2017M07D31_RH_copy_S3raw_s3process_V02/output/global_historical_PIrrWW_year_millionm3_5min_1960_2014.nc4 to ../../../../data/Y2017M07D31_RH_download_PCRGlobWB_data_V02/output/global_historical_PIrrWW_year_millionm3_5min_1960_2014.nc4\n",
      "download: s3://wri-projects/Aqueduct30/processData/Y2017M07D31_RH_copy_S3raw_s3process_V02/output/global_historical_PLivWN_year_millionm3_5min_1960_2014.nc4 to ../../../../data/Y2017M07D31_RH_download_PCRGlobWB_data_V02/output/global_historical_PLivWN_year_millionm3_5min_1960_2014.nc4\n",
      "download: s3://wri-projects/Aqueduct30/processData/Y2017M07D31_RH_copy_S3raw_s3process_V02/output/global_historical_PDomUse_month_millionm3_5min_1960_2014.nc4 to ../../../../data/Y2017M07D31_RH_download_PCRGlobWB_data_V02/output/global_historical_PDomUse_month_millionm3_5min_1960_2014.nc4\n",
      "download: s3://wri-projects/Aqueduct30/processData/Y2017M07D31_RH_copy_S3raw_s3process_V02/output/global_historical_PIrrWW_month_millionm3_5min_1960_2014.nc4 to ../../../../data/Y2017M07D31_RH_download_PCRGlobWB_data_V02/output/global_historical_PIrrWW_month_millionm3_5min_1960_2014.nc4\n",
      "download: s3://wri-projects/Aqueduct30/processData/Y2017M07D31_RH_copy_S3raw_s3process_V02/output/global_historical_PDomWW_month_millionm3_5min_1960_2014.nc4 to ../../../../data/Y2017M07D31_RH_download_PCRGlobWB_data_V02/output/global_historical_PDomWW_month_millionm3_5min_1960_2014.nc4\n",
      "download: s3://wri-projects/Aqueduct30/processData/Y2017M07D31_RH_copy_S3raw_s3process_V02/output/global_historical_aqbasinwaterstress_year_dimensionless_5min_1960_2014.nc4 to ../../../../data/Y2017M07D31_RH_download_PCRGlobWB_data_V02/output/global_historical_aqbasinwaterstress_year_dimensionless_5min_1960_2014.nc4\n",
      "download: s3://wri-projects/Aqueduct30/processData/Y2017M07D31_RH_copy_S3raw_s3process_V02/output/global_historical_aqbasinwaterstress_month_dimensionless_5min_1960_2014.nc4 to ../../../../data/Y2017M07D31_RH_download_PCRGlobWB_data_V02/output/global_historical_aqbasinwaterstress_month_dimensionless_5min_1960_2014.nc4\n",
      "download: s3://wri-projects/Aqueduct30/processData/Y2017M07D31_RH_copy_S3raw_s3process_V02/output/global_historical_griddedwaterstress_year_dimensionless_5min_1960_2014.nc4 to ../../../../data/Y2017M07D31_RH_download_PCRGlobWB_data_V02/output/global_historical_griddedwaterstress_year_dimensionless_5min_1960_2014.nc4\n",
      "download: s3://wri-projects/Aqueduct30/processData/Y2017M07D31_RH_copy_S3raw_s3process_V02/output/global_historical_riverdischarge_year_m3second_5min_1960_2014.nc4 to ../../../../data/Y2017M07D31_RH_download_PCRGlobWB_data_V02/output/global_historical_riverdischarge_year_m3second_5min_1960_2014.nc4\n",
      "download: s3://wri-projects/Aqueduct30/processData/Y2017M07D31_RH_copy_S3raw_s3process_V02/output/global_interannualvariabilitywatersupply_5min_1960-2014.asc to ../../../../data/Y2017M07D31_RH_download_PCRGlobWB_data_V02/output/global_interannualvariabilitywatersupply_5min_1960-2014.asc\n",
      "download: s3://wri-projects/Aqueduct30/processData/Y2017M07D31_RH_copy_S3raw_s3process_V02/output/global_q1seasonalvariabilitywatersupply_5min_1960-2014.asc to ../../../../data/Y2017M07D31_RH_download_PCRGlobWB_data_V02/output/global_q1seasonalvariabilitywatersupply_5min_1960-2014.asc\n",
      "download: s3://wri-projects/Aqueduct30/processData/Y2017M07D31_RH_copy_S3raw_s3process_V02/output/global_q2seasonalvariabilitywatersupply_5min_1960-2014.asc to ../../../../data/Y2017M07D31_RH_download_PCRGlobWB_data_V02/output/global_q2seasonalvariabilitywatersupply_5min_1960-2014.asc\n",
      "download: s3://wri-projects/Aqueduct30/processData/Y2017M07D31_RH_copy_S3raw_s3process_V02/output/global_q3seasonalvariabilitywatersupply_5min_1960-2014.asc to ../../../../data/Y2017M07D31_RH_download_PCRGlobWB_data_V02/output/global_q3seasonalvariabilitywatersupply_5min_1960-2014.asc\n",
      "download: s3://wri-projects/Aqueduct30/processData/Y2017M07D31_RH_copy_S3raw_s3process_V02/output/readmeRunoff.txt to ../../../../data/Y2017M07D31_RH_download_PCRGlobWB_data_V02/output/readmeRunoff.txt\n",
      "download: s3://wri-projects/Aqueduct30/processData/Y2017M07D31_RH_copy_S3raw_s3process_V02/output/global_q4seasonalvariabilitywatersupply_5min_1960-2014.asc to ../../../../data/Y2017M07D31_RH_download_PCRGlobWB_data_V02/output/global_q4seasonalvariabilitywatersupply_5min_1960-2014.asc\n",
      "download: s3://wri-projects/Aqueduct30/processData/Y2017M07D31_RH_copy_S3raw_s3process_V02/output/totalRunoff_annuaTot_output.nc to ../../../../data/Y2017M07D31_RH_download_PCRGlobWB_data_V02/output/totalRunoff_annuaTot_output.nc\n",
      "download: s3://wri-projects/Aqueduct30/processData/Y2017M07D31_RH_copy_S3raw_s3process_V02/output/global_historical_PLivWN_month_millionm3_5min_1960_2014.nc4 to ../../../../data/Y2017M07D31_RH_download_PCRGlobWB_data_V02/output/global_historical_PLivWN_month_millionm3_5min_1960_2014.nc4\n",
      "download: s3://wri-projects/Aqueduct30/processData/Y2017M07D31_RH_copy_S3raw_s3process_V02/output/global_historical_griddedwaterstress_month_dimensionless_5min_1960_2014.nc4 to ../../../../data/Y2017M07D31_RH_download_PCRGlobWB_data_V02/output/global_historical_griddedwaterstress_month_dimensionless_5min_1960_2014.nc4\n"
     ]
    },
    {
     "name": "stdout",
     "output_type": "stream",
     "text": [
      "download: s3://wri-projects/Aqueduct30/processData/Y2017M07D31_RH_copy_S3raw_s3process_V02/output/global_historical_riverdischarge_month_m3second_5min_1960_2014.nc4 to ../../../../data/Y2017M07D31_RH_download_PCRGlobWB_data_V02/output/global_historical_riverdischarge_month_m3second_5min_1960_2014.nc4\n",
      "download: s3://wri-projects/Aqueduct30/processData/Y2017M07D31_RH_copy_S3raw_s3process_V02/output/global_historical_soilmoisture_month_meter_5min_1958-2014.nc4 to ../../../../data/Y2017M07D31_RH_download_PCRGlobWB_data_V02/output/global_historical_soilmoisture_month_meter_5min_1958-2014.nc4\n",
      "download: s3://wri-projects/Aqueduct30/processData/Y2017M07D31_RH_copy_S3raw_s3process_V02/output/totalRunoff_monthTot_output.zip to ../../../../data/Y2017M07D31_RH_download_PCRGlobWB_data_V02/output/totalRunoff_monthTot_output.zip\n"
     ]
    }
   ],
   "source": [
    "!aws s3 cp {s3_input_path} {ec2_output_path} --recursive"
   ]
  },
  {
   "cell_type": "code",
   "execution_count": 8,
   "metadata": {},
   "outputs": [
    {
     "name": "stdout",
     "output_type": "stream",
     "text": [
      "32\r\n"
     ]
    }
   ],
   "source": [
    "#List files downloaded (32 in my case)\n",
    "!find {ec2_output_path} -type f | wc -l"
   ]
  },
  {
   "cell_type": "code",
   "execution_count": 9,
   "metadata": {},
   "outputs": [
    {
     "name": "stdout",
     "output_type": "stream",
     "text": [
      "Archive:  /volumes/data/Y2017M07D31_RH_download_PCRGlobWB_data_V02/output/totalRunoff_monthTot_output.zip\n",
      "  inflating: /volumes/data/Y2017M07D31_RH_download_PCRGlobWB_data_V02/output/totalRunoff_monthTot_output.nc  \n"
     ]
    }
   ],
   "source": [
    "# As you can see there are some zipped files. Unzipping.  \n",
    "# Unzipping the file results in a 24GB file which is signifact. Therefore this step will take quite some time\n",
    "\n",
    "!unzip {ec2_output_path}totalRunoff_monthTot_output.zip -d {ec2_output_path}"
   ]
  },
  {
   "cell_type": "markdown",
   "metadata": {},
   "source": [
    "The total number of files should be around 25 but can change if the raw data changed. \n",
    "In the data that Yoshi provided there is only Livestock data for consumption (WN). However in an email he specified that the withdrawal (WW) equals the consumption (100% consumption) for livestock. Therefore we copy the WN Livestock files to WW to make looping over WN and WW respectively easier. "
   ]
  },
  {
   "cell_type": "code",
   "execution_count": 10,
   "metadata": {
    "collapsed": true
   },
   "outputs": [],
   "source": [
    "!cp {ec2_output_path}/global_historical_PLivWN_month_millionm3_5min_1960_2014.nc4 {ec2_output_path}/global_historical_PLivWW_month_millionm3_5min_1960_2014.nc4"
   ]
  },
  {
   "cell_type": "code",
   "execution_count": 11,
   "metadata": {
    "collapsed": true
   },
   "outputs": [],
   "source": [
    "!cp {ec2_output_path}/global_historical_PLivWN_year_millionm3_5min_1960_2014.nc4 {ec2_output_path}/global_historical_PLivWW_year_millionm3_5min_1960_2014.nc4"
   ]
  },
  {
   "cell_type": "code",
   "execution_count": 12,
   "metadata": {},
   "outputs": [
    {
     "name": "stdout",
     "output_type": "stream",
     "text": [
      "total 68G\r\n",
      "drwxr-xr-x 2 root root 4.0K Mar 29 12:32 .\r\n",
      "drwxr-xr-x 3 root root 4.0K Mar 29 12:04 ..\r\n",
      "-rw-r--r-- 1 root root  57M Mar 29 11:53 global_droughtseveritystandardisedsoilmoisture_5min_1960-2014.asc\r\n",
      "-rw-r--r-- 1 root root  55M Mar 29 11:53 global_droughtseveritystandardisedstreamflow_5min_1960-2014.asc\r\n",
      "-rw-r--r-- 1 root root  56M Mar 29 11:53 global_environmentalflows_5min_1960-2014.asc\r\n",
      "-rw-r--r-- 1 root root 3.2G Mar 29 11:49 global_historical_PDomUse_month_millionm3_5min_1960_2014.nc4\r\n",
      "-rw-r--r-- 1 root root 270M Mar 29 11:49 global_historical_PDomUse_year_millionm3_5min_1960_2014.nc4\r\n",
      "-rw-r--r-- 1 root root 3.2G Mar 29 11:49 global_historical_PDomWW_month_millionm3_5min_1960_2014.nc4\r\n",
      "-rw-r--r-- 1 root root 271M Mar 29 11:49 global_historical_PDomWW_year_millionm3_5min_1960_2014.nc4\r\n",
      "-rw-r--r-- 1 root root 1.7G Mar 29 11:49 global_historical_PIndUse_month_millionm3_5min_1960_2014.nc4\r\n",
      "-rw-r--r-- 1 root root 156M Mar 29 11:49 global_historical_PIndUse_year_millionm3_5min_1960_2014.nc4\r\n",
      "-rw-r--r-- 1 root root 1.7G Mar 29 11:49 global_historical_PIndWW_month_millionm3_5min_1960_2014.nc4\r\n",
      "-rw-r--r-- 1 root root 156M Mar 29 11:49 global_historical_PIndWW_year_millionm3_5min_1960_2014.nc4\r\n",
      "-rw-r--r-- 1 root root 1.3G Mar 29 11:49 global_historical_PIrrWN_month_millionm3_5min_1960_2014.nc4\r\n",
      "-rw-r--r-- 1 root root 140M Mar 29 11:49 global_historical_PIrrWN_year_millionm3_5min_1960_2014.nc4\r\n",
      "-rw-r--r-- 1 root root 1.4G Mar 29 11:49 global_historical_PIrrWW_month_millionm3_5min_1960_2014.nc4\r\n",
      "-rw-r--r-- 1 root root 140M Mar 29 11:49 global_historical_PIrrWW_year_millionm3_5min_1960_2014.nc4\r\n",
      "-rw-r--r-- 1 root root 4.2G Mar 29 11:49 global_historical_PLivWN_month_millionm3_5min_1960_2014.nc4\r\n",
      "-rw-r--r-- 1 root root 356M Mar 29 11:50 global_historical_PLivWN_year_millionm3_5min_1960_2014.nc4\r\n",
      "-rw-r--r-- 1 root root 4.2G Mar 29 12:32 global_historical_PLivWW_month_millionm3_5min_1960_2014.nc4\r\n",
      "-rw-r--r-- 1 root root 356M Mar 29 12:32 global_historical_PLivWW_year_millionm3_5min_1960_2014.nc4\r\n",
      "-rw-r--r-- 1 root root 951M Mar 29 11:52 global_historical_aqbasinwaterstress_month_dimensionless_5min_1960_2014.nc4\r\n",
      "-rw-r--r-- 1 root root  81M Mar 29 11:52 global_historical_aqbasinwaterstress_year_dimensionless_5min_1960_2014.nc4\r\n",
      "-rw-r--r-- 1 root root 4.1G Mar 29 11:52 global_historical_griddedwaterstress_month_dimensionless_5min_1960_2014.nc4\r\n",
      "-rw-r--r-- 1 root root 341M Mar 29 11:52 global_historical_griddedwaterstress_year_dimensionless_5min_1960_2014.nc4\r\n",
      "-rw-r--r-- 1 root root 4.6G Mar 29 11:51 global_historical_riverdischarge_month_m3second_5min_1960_2014.nc4\r\n",
      "-rw-r--r-- 1 root root 376M Mar 29 11:51 global_historical_riverdischarge_year_m3second_5min_1960_2014.nc4\r\n",
      "-rw-r--r-- 1 root root 4.3G Mar 29 11:52 global_historical_soilmoisture_month_meter_5min_1958-2014.nc4\r\n",
      "-rw-r--r-- 1 root root  55M Mar 29 11:53 global_interannualvariabilitywatersupply_5min_1960-2014.asc\r\n",
      "-rw-r--r-- 1 root root  54M Mar 29 11:53 global_q1seasonalvariabilitywatersupply_5min_1960-2014.asc\r\n",
      "-rw-r--r-- 1 root root  54M Mar 29 11:53 global_q2seasonalvariabilitywatersupply_5min_1960-2014.asc\r\n",
      "-rw-r--r-- 1 root root  54M Mar 29 11:53 global_q3seasonalvariabilitywatersupply_5min_1960-2014.asc\r\n",
      "-rw-r--r-- 1 root root  54M Mar 29 11:53 global_q4seasonalvariabilitywatersupply_5min_1960-2014.asc\r\n",
      "-rw-r--r-- 1 root root  140 Mar 29 11:50 readmeRunoff.txt\r\n",
      "-rw-r--r-- 1 root root 2.0G Mar 29 11:50 totalRunoff_annuaTot_output.nc\r\n",
      "-rw-r--r-- 1 root root  24G Mar 17  2017 totalRunoff_monthTot_output.nc\r\n",
      "-rw-r--r-- 1 root root 4.7G Mar 29 11:50 totalRunoff_monthTot_output.zip\r\n"
     ]
    }
   ],
   "source": [
    "!ls -lah {ec2_output_path}"
   ]
  },
  {
   "cell_type": "code",
   "execution_count": 13,
   "metadata": {},
   "outputs": [
    {
     "name": "stdout",
     "output_type": "stream",
     "text": [
      "Number of files: 35\n"
     ]
    }
   ],
   "source": [
    "files = os.listdir(ec2_output_path)\n",
    "print(\"Number of files: \" + str(len(files)))"
   ]
  },
  {
   "cell_type": "markdown",
   "metadata": {
    "collapsed": true
   },
   "source": [
    "Copy PLivWN to PLivWW because Livestock Withdrawal = Livestock Consumption (see Yoshi's email'). This will solve some lookping issues in the future. Copies 4GB of data so takes a while"
   ]
  },
  {
   "cell_type": "markdown",
   "metadata": {},
   "source": [
    "Some files that WRI received from Utrecht refer to water \"Use\" instead of WN (net). Renaming the relevant file. Renaming them"
   ]
  },
  {
   "cell_type": "code",
   "execution_count": 14,
   "metadata": {
    "collapsed": true
   },
   "outputs": [],
   "source": [
    "!mv {ec2_output_path}/global_historical_PDomUse_month_millionm3_5min_1960_2014.nc4 {ec2_output_path}/global_historical_PDomWN_month_millionm3_5min_1960_2014.nc4\n",
    "!mv {ec2_output_path}/global_historical_PDomUse_year_millionm3_5min_1960_2014.nc4 {ec2_output_path}/global_historical_PDomWN_year_millionm3_5min_1960_2014.nc4\n",
    "\n",
    "!mv {ec2_output_path}/global_historical_PIndUse_month_millionm3_5min_1960_2014.nc4 {ec2_output_path}/global_historical_PIndWN_month_millionm3_5min_1960_2014.nc4\n",
    "!mv {ec2_output_path}/global_historical_PIndUse_year_millionm3_5min_1960_2014.nc4 {ec2_output_path}/global_historical_PIndWN_year_millionm3_5min_1960_2014.nc4\n"
   ]
  },
  {
   "cell_type": "markdown",
   "metadata": {
    "collapsed": true
   },
   "source": [
    "As you can see, the filename structure of the runoff files is different. Using Panoply to inspect the units, we rename the files accordingly. \n",
    "\n",
    "new names for annual:  \n",
    "\n",
    "global_historical_runoff_year_myear_5min_1958_2014.nc\n",
    "\n",
    "new name for monthly:  \n",
    "\n",
    "global_historical_runoff_month_mmonth_5min_1958_2014.nc\n"
   ]
  },
  {
   "cell_type": "code",
   "execution_count": 15,
   "metadata": {
    "collapsed": true
   },
   "outputs": [],
   "source": [
    "!mv {ec2_output_path}/totalRunoff_annuaTot_output.nc {ec2_output_path}/global_historical_runoff_year_myear_5min_1958_2014.nc"
   ]
  },
  {
   "cell_type": "code",
   "execution_count": 16,
   "metadata": {
    "collapsed": true
   },
   "outputs": [],
   "source": [
    "!mv {ec2_output_path}/totalRunoff_monthTot_output.nc {ec2_output_path}/global_historical_runoff_month_mmonth_5min_1958_2014.nc"
   ]
  },
  {
   "cell_type": "markdown",
   "metadata": {},
   "source": [
    "Final Folder strcuture"
   ]
  },
  {
   "cell_type": "code",
   "execution_count": 17,
   "metadata": {
    "collapsed": true
   },
   "outputs": [],
   "source": [
    "number_of_files =  len(os.listdir(ec2_output_path))"
   ]
  },
  {
   "cell_type": "code",
   "execution_count": 18,
   "metadata": {},
   "outputs": [],
   "source": [
    "assert number_of_files == 35, (\"Number of files is different than previous run. {} instead of 35\".format(number_of_files))"
   ]
  },
  {
   "cell_type": "code",
   "execution_count": 19,
   "metadata": {},
   "outputs": [
    {
     "name": "stdout",
     "output_type": "stream",
     "text": [
      "0:27:46.549347\n"
     ]
    }
   ],
   "source": [
    "end = datetime.datetime.now()\n",
    "elapsed = end - start\n",
    "print(elapsed)"
   ]
  }
 ],
 "metadata": {
  "kernelspec": {
   "display_name": "Python 36",
   "language": "python",
   "name": "python36"
  },
  "language_info": {
   "codemirror_mode": {
    "name": "ipython",
    "version": 3
   },
   "file_extension": ".py",
   "mimetype": "text/x-python",
   "name": "python",
   "nbconvert_exporter": "python",
   "pygments_lexer": "ipython3",
   "version": "3.6.4"
  }
 },
 "nbformat": 4,
 "nbformat_minor": 1
}
