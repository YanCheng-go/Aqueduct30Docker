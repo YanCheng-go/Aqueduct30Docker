{
 "cells": [
  {
   "cell_type": "code",
   "execution_count": 33,
   "metadata": {},
   "outputs": [
    {
     "data": {
      "text/plain": [
       "'\\nEC2_INPUT_PATH = \"/volumes/data/Y2017M07D31_RH_download_PCRGlobWB_data_V01/output\"\\nEC2_OUTPUT_PATH = \"/volumes/data/Y2017M08D08_RH_Convert_Indicators_ASC_Geotiff_V01/output\"\\nEC2_INPUT_PATH_ADDITIONAL = \"/volumes/data/Y2017M08D08_RH_Convert_Indicators_ASC_Geotiff_V01/input\"\\nS3_INPUT_PATH_ADDITIONAL = \"s3://wri-projects/Aqueduct30/rawData/WRI/samplegeotiff/\"\\nS3_OUTPUT_PATH = \"s3://wri-projects/Aqueduct30/processData/Y2017M08D08_RH_Convert_Indicators_ASC_Geotiff_V01/output/\"\\nEE_OUTPUT_PATH = \"projects/WRI-Aquaduct/PCRGlobWB20V05/\"\\n'"
      ]
     },
     "execution_count": 33,
     "metadata": {},
     "output_type": "execute_result"
    }
   ],
   "source": [
    "\"\"\" Convert Indicators from ASCII to Geotiff\n",
    "-------------------------------------------------------------------------------\n",
    "A couple of indicators are shared in ASCII format. Converting to geotiff and\n",
    "upload to GCS and AWS.\n",
    "\n",
    "\n",
    "Author: Rutger Hofste\n",
    "Date: 20170808\n",
    "Kernel: python35\n",
    "Docker: rutgerhofste/gisdocker:ubuntu16.04\n",
    "\n",
    "Args:\n",
    "\n",
    "    SCRIPT_NAME (string) : Script name\n",
    "    S3_INPUT_PATH (string) : S3 input path containing the ascii rasters.  \n",
    "    GCS_OUTPUT (string) : Google Cloud Storage output namespace.\n",
    "\n",
    "    X_DIMENSION_5MIN (integer) : horizontal or longitudinal dimension of \n",
    "                                 raster.\n",
    "    Y_DIMENSION_5MIN (integer) : vertical or latitudinal dimension of \n",
    "                                 raster.\n",
    "    \n",
    "\n",
    "\n",
    "\n",
    "Returns:\n",
    "\n",
    "\n",
    "\"\"\"\n",
    "\n",
    "# Input Parameters\n",
    "\n",
    "SCRIPT_NAME = \"Y2017M08D08_RH_Convert_Indicators_ASC_Geotiff_V02\"\n",
    "\n",
    "\n",
    "INPUT_VERSION = 2\n",
    "S3_INPUT_PATH = \"s3://wri-projects/Aqueduct30/processData/Y2017M07D31_RH_copy_S3raw_s3process_V{:02.0f}/output/\".format(INPUT_VERSION)\n",
    "\n",
    "\n",
    "GCS_OUTPUT = \"gs://aqueduct30_v01/{}/\".format(SCRIPT_NAME)\n",
    "\n",
    "\n",
    "X_DIMENSION_5MIN = 4320\n",
    "Y_DIMENSION_5MIN = 2160\n",
    "\n",
    "# Output Parameters\n"
   ]
  },
  {
   "cell_type": "code",
   "execution_count": 4,
   "metadata": {},
   "outputs": [
    {
     "name": "stdout",
     "output_type": "stream",
     "text": [
      "Y2018M04D12 UTC 12:08\n"
     ]
    },
    {
     "data": {
      "text/plain": [
       "'3.5.4 |Anaconda, Inc.| (default, Nov 20 2017, 18:44:38) \\n[GCC 7.2.0]'"
      ]
     },
     "execution_count": 4,
     "metadata": {},
     "output_type": "execute_result"
    }
   ],
   "source": [
    "import time, datetime, sys\n",
    "dateString = time.strftime(\"Y%YM%mD%d\")\n",
    "timeString = time.strftime(\"UTC %H:%M\")\n",
    "start = datetime.datetime.now()\n",
    "print(dateString,timeString)\n",
    "sys.version"
   ]
  },
  {
   "cell_type": "code",
   "execution_count": 31,
   "metadata": {
    "collapsed": true
   },
   "outputs": [],
   "source": [
    "# imports\n",
    "import os\n",
    "import numpy as np\n",
    "from osgeo import gdal\n",
    "import aqueduct3"
   ]
  },
  {
   "cell_type": "code",
   "execution_count": null,
   "metadata": {
    "collapsed": true
   },
   "outputs": [],
   "source": [
    "# ETL"
   ]
  },
  {
   "cell_type": "code",
   "execution_count": 35,
   "metadata": {
    "collapsed": true
   },
   "outputs": [],
   "source": [
    "ec2_input_path =  \"/volumes/data/{}/input/\".format(SCRIPT_NAME)\n",
    "ec2_output_path = \"/volumes/data/{}/output/\".format(SCRIPT_NAME)\n",
    "\n",
    "s3_output_path = \"s3://wri-projects/Aqueduct30/processData/{}/output/\".format(SCRIPT_NAME)"
   ]
  },
  {
   "cell_type": "code",
   "execution_count": 7,
   "metadata": {
    "collapsed": true
   },
   "outputs": [],
   "source": [
    "!mkdir -p {ec2_input_path}\n",
    "!mkdir -p {ec2_output_path}"
   ]
  },
  {
   "cell_type": "code",
   "execution_count": 11,
   "metadata": {},
   "outputs": [
    {
     "name": "stdout",
     "output_type": "stream",
     "text": [
      "download: s3://wri-projects/Aqueduct30/processData/Y2017M07D31_RH_copy_S3raw_s3process_V02/output/global_droughtseveritystandardisedstreamflow_5min_1960-2014.asc to ../../../../data/Y2017M08D08_RH_Convert_Indicators_ASC_Geotiff_V02/input/global_droughtseveritystandardisedstreamflow_5min_1960-2014.asc\n",
      "download: s3://wri-projects/Aqueduct30/processData/Y2017M07D31_RH_copy_S3raw_s3process_V02/output/global_droughtseveritystandardisedsoilmoisture_5min_1960-2014.asc to ../../../../data/Y2017M08D08_RH_Convert_Indicators_ASC_Geotiff_V02/input/global_droughtseveritystandardisedsoilmoisture_5min_1960-2014.asc\n",
      "download: s3://wri-projects/Aqueduct30/processData/Y2017M07D31_RH_copy_S3raw_s3process_V02/output/global_environmentalflows_5min_1960-2014.asc to ../../../../data/Y2017M08D08_RH_Convert_Indicators_ASC_Geotiff_V02/input/global_environmentalflows_5min_1960-2014.asc\n",
      "download: s3://wri-projects/Aqueduct30/processData/Y2017M07D31_RH_copy_S3raw_s3process_V02/output/global_interannualvariabilitywatersupply_5min_1960-2014.asc to ../../../../data/Y2017M08D08_RH_Convert_Indicators_ASC_Geotiff_V02/input/global_interannualvariabilitywatersupply_5min_1960-2014.asc\n",
      "download: s3://wri-projects/Aqueduct30/processData/Y2017M07D31_RH_copy_S3raw_s3process_V02/output/global_q1seasonalvariabilitywatersupply_5min_1960-2014.asc to ../../../../data/Y2017M08D08_RH_Convert_Indicators_ASC_Geotiff_V02/input/global_q1seasonalvariabilitywatersupply_5min_1960-2014.asc\n",
      "download: s3://wri-projects/Aqueduct30/processData/Y2017M07D31_RH_copy_S3raw_s3process_V02/output/global_q2seasonalvariabilitywatersupply_5min_1960-2014.asc to ../../../../data/Y2017M08D08_RH_Convert_Indicators_ASC_Geotiff_V02/input/global_q2seasonalvariabilitywatersupply_5min_1960-2014.asc\n",
      "download: s3://wri-projects/Aqueduct30/processData/Y2017M07D31_RH_copy_S3raw_s3process_V02/output/global_q4seasonalvariabilitywatersupply_5min_1960-2014.asc to ../../../../data/Y2017M08D08_RH_Convert_Indicators_ASC_Geotiff_V02/input/global_q4seasonalvariabilitywatersupply_5min_1960-2014.asc\n",
      "download: s3://wri-projects/Aqueduct30/processData/Y2017M07D31_RH_copy_S3raw_s3process_V02/output/global_q3seasonalvariabilitywatersupply_5min_1960-2014.asc to ../../../../data/Y2017M08D08_RH_Convert_Indicators_ASC_Geotiff_V02/input/global_q3seasonalvariabilitywatersupply_5min_1960-2014.asc\n"
     ]
    }
   ],
   "source": [
    "!aws s3 cp {S3_INPUT_PATH} {ec2_input_path} --recursive --exclude=\"*\" --include=\"*.asc\""
   ]
  },
  {
   "cell_type": "code",
   "execution_count": 32,
   "metadata": {},
   "outputs": [
    {
     "name": "stdout",
     "output_type": "stream",
     "text": [
      "global_q4seasonalvariabilitywatersupply_5min_1960-2014.asc\n",
      "global_q1seasonalvariabilitywatersupply_5min_1960-2014.asc\n",
      "global_environmentalflows_5min_1960-2014.asc\n",
      "global_q2seasonalvariabilitywatersupply_5min_1960-2014.asc\n",
      "global_interannualvariabilitywatersupply_5min_1960-2014.asc\n",
      "global_droughtseveritystandardisedstreamflow_5min_1960-2014.asc\n",
      "global_q3seasonalvariabilitywatersupply_5min_1960-2014.asc\n",
      "global_droughtseveritystandardisedsoilmoisture_5min_1960-2014.asc\n"
     ]
    }
   ],
   "source": [
    "# Convert the ascii files in the ec2_input_directory into geotiffs in the ec2_output_directory\n",
    "\n",
    "default_geotransform, default_geoprojection = aqueduct3.get_global_georeference(np.ones([Y_DIMENSION_5MIN,X_DIMENSION_5MIN]))\n",
    "for root, dirs, file_names in os.walk(ec2_input_path):\n",
    "    for file_name in file_names:\n",
    "        print(file_name)\n",
    "        base , extension = file_name.split(\".\")\n",
    "        output_path = ec2_output_path  + base + \".tif\"\n",
    "        input_path = os.path.join(root, file_name)     \n",
    "\n",
    "        xsize,ysize,geotransform,geoproj,Z = aqueduct3.read_gdal_file(input_path)\n",
    "        Z[Z<-9990]= -9999\n",
    "        Z[Z>1e19] = -9999\n",
    "        aqueduct3.write_geotiff(output_path,default_geotransform,default_geoprojection,Z,nodata_value=-9999,datatype=gdal.GDT_Float32)         \n",
    "\n"
   ]
  },
  {
   "cell_type": "markdown",
   "metadata": {},
   "source": [
    "Upload to GCS"
   ]
  },
  {
   "cell_type": "code",
   "execution_count": 34,
   "metadata": {},
   "outputs": [
    {
     "name": "stdout",
     "output_type": "stream",
     "text": [
      "\n",
      "\n",
      "Updates are available for some Cloud SDK components.  To install them,\n",
      "please run:\n",
      "  $ gcloud components update\n",
      "\n",
      "Copying file:///volumes/data/Y2017M08D08_RH_Convert_Indicators_ASC_Geotiff_V02/output//global_environmentalflows_5min_1960-2014.tif [Content-Type=image/tiff]...\n",
      "Copying file:///volumes/data/Y2017M08D08_RH_Convert_Indicators_ASC_Geotiff_V02/output//global_q2seasonalvariabilitywatersupply_5min_1960-2014.tif [Content-Type=image/tiff]...\n",
      "\\ [8/8 files][ 78.5 MiB/ 78.5 MiB] 100% Done                                    \n",
      "Operation completed over 8 objects/78.5 MiB.                                     \n"
     ]
    }
   ],
   "source": [
    "!gsutil -m cp \\\n",
    "{ec2_output_path}/*.tif \\\n",
    "{GCS_OUTPUT}"
   ]
  },
  {
   "cell_type": "code",
   "execution_count": 36,
   "metadata": {},
   "outputs": [
    {
     "name": "stdout",
     "output_type": "stream",
     "text": [
      "upload: ../../../../data/Y2017M08D08_RH_Convert_Indicators_ASC_Geotiff_V02/output/global_q1seasonalvariabilitywatersupply_5min_1960-2014.tif to s3://wri-projects/Aqueduct30/processData/Y2017M08D08_RH_Convert_Indicators_ASC_Geotiff_V02/output/global_q1seasonalvariabilitywatersupply_5min_1960-2014.tif\n",
      "upload: ../../../../data/Y2017M08D08_RH_Convert_Indicators_ASC_Geotiff_V02/output/global_interannualvariabilitywatersupply_5min_1960-2014.tif to s3://wri-projects/Aqueduct30/processData/Y2017M08D08_RH_Convert_Indicators_ASC_Geotiff_V02/output/global_interannualvariabilitywatersupply_5min_1960-2014.tif\n",
      "upload: ../../../../data/Y2017M08D08_RH_Convert_Indicators_ASC_Geotiff_V02/output/global_environmentalflows_5min_1960-2014.tif to s3://wri-projects/Aqueduct30/processData/Y2017M08D08_RH_Convert_Indicators_ASC_Geotiff_V02/output/global_environmentalflows_5min_1960-2014.tif\n",
      "upload: ../../../../data/Y2017M08D08_RH_Convert_Indicators_ASC_Geotiff_V02/output/global_droughtseveritystandardisedstreamflow_5min_1960-2014.tif to s3://wri-projects/Aqueduct30/processData/Y2017M08D08_RH_Convert_Indicators_ASC_Geotiff_V02/output/global_droughtseveritystandardisedstreamflow_5min_1960-2014.tif\n",
      "upload: ../../../../data/Y2017M08D08_RH_Convert_Indicators_ASC_Geotiff_V02/output/global_droughtseveritystandardisedsoilmoisture_5min_1960-2014.tif to s3://wri-projects/Aqueduct30/processData/Y2017M08D08_RH_Convert_Indicators_ASC_Geotiff_V02/output/global_droughtseveritystandardisedsoilmoisture_5min_1960-2014.tif\n",
      "upload: ../../../../data/Y2017M08D08_RH_Convert_Indicators_ASC_Geotiff_V02/output/global_q2seasonalvariabilitywatersupply_5min_1960-2014.tif to s3://wri-projects/Aqueduct30/processData/Y2017M08D08_RH_Convert_Indicators_ASC_Geotiff_V02/output/global_q2seasonalvariabilitywatersupply_5min_1960-2014.tif\n",
      "upload: ../../../../data/Y2017M08D08_RH_Convert_Indicators_ASC_Geotiff_V02/output/global_q3seasonalvariabilitywatersupply_5min_1960-2014.tif to s3://wri-projects/Aqueduct30/processData/Y2017M08D08_RH_Convert_Indicators_ASC_Geotiff_V02/output/global_q3seasonalvariabilitywatersupply_5min_1960-2014.tif\n",
      "upload: ../../../../data/Y2017M08D08_RH_Convert_Indicators_ASC_Geotiff_V02/output/global_q4seasonalvariabilitywatersupply_5min_1960-2014.tif to s3://wri-projects/Aqueduct30/processData/Y2017M08D08_RH_Convert_Indicators_ASC_Geotiff_V02/output/global_q4seasonalvariabilitywatersupply_5min_1960-2014.tif\n"
     ]
    }
   ],
   "source": [
    "!aws s3 cp {ec2_output_path} {s3_output_path} --recursive"
   ]
  },
  {
   "cell_type": "code",
   "execution_count": 39,
   "metadata": {},
   "outputs": [
    {
     "name": "stdout",
     "output_type": "stream",
     "text": [
      "1:14:47.014905\n"
     ]
    }
   ],
   "source": [
    "end = datetime.datetime.now()\n",
    "elapsed = end - start\n",
    "print(elapsed)"
   ]
  }
 ],
 "metadata": {
  "kernelspec": {
   "display_name": "Python 35",
   "language": "python",
   "name": "python35"
  },
  "language_info": {
   "codemirror_mode": {
    "name": "ipython",
    "version": 3
   },
   "file_extension": ".py",
   "mimetype": "text/x-python",
   "name": "python",
   "nbconvert_exporter": "python",
   "pygments_lexer": "ipython3",
   "version": "3.5.4"
  }
 },
 "nbformat": 4,
 "nbformat_minor": 2
}
