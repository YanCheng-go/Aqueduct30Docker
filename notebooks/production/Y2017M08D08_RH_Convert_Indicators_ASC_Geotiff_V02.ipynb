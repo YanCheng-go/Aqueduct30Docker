{
 "cells": [
  {
   "cell_type": "code",
   "execution_count": null,
   "metadata": {
    "collapsed": true
   },
   "outputs": [],
   "source": [
    "\"\"\" Convert Indicators from ASCII to Geotiff\n",
    "-------------------------------------------------------------------------------\n",
    "Notebooks in the Aqueduct Project are used in production. This means that the   \n",
    "notebooks should execute completely by pressing restart and run in the menu.\n",
    "Commands should not exceed the 80 character limit which is the length of this  |\n",
    "\n",
    "Code follows the Google for Python Styleguide. Exception are the scripts that \n",
    "use earth engine since this is camelCase instead of underscore.\n",
    "\n",
    "\n",
    "Author: Rutger Hofste\n",
    "Date: 20180327\n",
    "Kernel: python36\n",
    "Docker: rutgerhofste/gisdocker:ubuntu16.04\n",
    "\n",
    "Args:\n",
    "\n",
    "    SCRIPT_NAME (string) : Script name\n",
    "\n",
    "\n",
    "Returns:\n",
    "\n",
    "\n",
    "\"\"\"\n",
    "\n",
    "# Input Parameters\n",
    "\n",
    "SCRIPT_NAME = \"Y0000M00D00_XX_Script_Template_V01\"\n",
    "\n",
    "# Output Parameters\n"
   ]
  },
  {
   "cell_type": "code",
   "execution_count": null,
   "metadata": {
    "collapsed": true
   },
   "outputs": [],
   "source": []
  },
  {
   "cell_type": "markdown",
   "metadata": {},
   "source": [
    "# Convert Indicators from ASCII to Geotiff\n",
    "\n",
    "* Purpose of script: Some Utrecht Indicators are shared in Ascii format. This script converts them to geotiff and uploads to GCS\n",
    "* Author: Rutger Hofste\n",
    "* Kernel used: python35\n",
    "* Date created: 20170808"
   ]
  },
  {
   "cell_type": "markdown",
   "metadata": {},
   "source": [
    "## Settings"
   ]
  },
  {
   "cell_type": "code",
   "execution_count": 1,
   "metadata": {
    "collapsed": true
   },
   "outputs": [],
   "source": [
    "EC2_INPUT_PATH = \"/volumes/data/Y2017M07D31_RH_download_PCRGlobWB_data_V01/output\"\n",
    "EC2_OUTPUT_PATH = \"/volumes/data/Y2017M08D08_RH_Convert_Indicators_ASC_Geotiff_V01/output\"\n",
    "EC2_INPUT_PATH_ADDITIONAL = \"/volumes/data/Y2017M08D08_RH_Convert_Indicators_ASC_Geotiff_V01/input\"\n",
    "S3_INPUT_PATH_ADDITIONAL = \"s3://wri-projects/Aqueduct30/rawData/WRI/samplegeotiff/\"\n",
    "GCS_OUTPUT = \"gs://aqueduct30_v01/Y2017M08D08_RH_Convert_Indicators_ASC_Geotiff_V01/\"\n",
    "S3_OUTPUT_PATH = \"s3://wri-projects/Aqueduct30/processData/Y2017M08D08_RH_Convert_Indicators_ASC_Geotiff_V01/output/\"\n",
    "EE_OUTPUT_PATH = \"projects/WRI-Aquaduct/PCRGlobWB20V05/\"\n"
   ]
  },
  {
   "cell_type": "code",
   "execution_count": 2,
   "metadata": {},
   "outputs": [
    {
     "name": "stdout",
     "output_type": "stream",
     "text": [
      "download: s3://wri-projects/Aqueduct30/rawData/WRI/samplegeotiff/readme.txt to ../../../../data/Y2017M08D08_RH_Convert_Indicators_ASC_Geotiff_V01/input/readme.txt\n",
      "download: s3://wri-projects/Aqueduct30/rawData/WRI/samplegeotiff/sampleGeotiff.tiff to ../../../../data/Y2017M08D08_RH_Convert_Indicators_ASC_Geotiff_V01/input/sampleGeotiff.tiff\n"
     ]
    }
   ],
   "source": [
    "!mkdir -p {EC2_OUTPUT_PATH}\n",
    "!mkdir -p {EC2_INPUT_PATH_ADDITIONAL}\n",
    "!aws s3 cp {S3_INPUT_PATH_ADDITIONAL} {EC2_INPUT_PATH_ADDITIONAL} --recursive"
   ]
  },
  {
   "cell_type": "code",
   "execution_count": 3,
   "metadata": {
    "collapsed": true
   },
   "outputs": [],
   "source": [
    "try:\n",
    "    from osgeo import ogr, osr, gdal\n",
    "except:\n",
    "    sys.exit('ERROR: cannot find GDAL/OGR modules')\n",
    "    \n",
    "from netCDF4 import Dataset\n",
    "import os\n",
    "import datetime\n",
    "import subprocess\n",
    "import pandas as pd\n",
    "import re\n",
    "import time\n",
    "from datetime import timedelta"
   ]
  },
  {
   "cell_type": "markdown",
   "metadata": {},
   "source": [
    "## Functions"
   ]
  },
  {
   "cell_type": "code",
   "execution_count": 4,
   "metadata": {
    "collapsed": true
   },
   "outputs": [],
   "source": [
    "def readFile(filename):\n",
    "    filehandle = gdal.Open(filename)\n",
    "    band1 = filehandle.GetRasterBand(1)\n",
    "    geotransform = filehandle.GetGeoTransform()\n",
    "    geoproj = filehandle.GetProjection()\n",
    "    Z = band1.ReadAsArray()\n",
    "    xsize = filehandle.RasterXSize\n",
    "    ysize = filehandle.RasterYSize\n",
    "    filehandle = None\n",
    "    return xsize,ysize,geotransform,geoproj,Z\n",
    "\n",
    "def writeFile(filename,geotransform,geoprojection,data):\n",
    "    (x,y) = data.shape\n",
    "    format = \"GTiff\"\n",
    "    driver = gdal.GetDriverByName(format)\n",
    "    # you can change the dataformat but be sure to be able to store negative values including -9999\n",
    "    dst_datatype = gdal.GDT_Float32\n",
    "    dst_ds = driver.Create(filename,y,x,1,dst_datatype, [ 'COMPRESS=LZW' ])\n",
    "    dst_ds.GetRasterBand(1).SetNoDataValue(-9999)\n",
    "    dst_ds.GetRasterBand(1).WriteArray(data)\n",
    "    dst_ds.SetGeoTransform(geotransform)\n",
    "    dst_ds.SetProjection(geoprojection)\n",
    "    dst_ds = None\n",
    "    return 1\n",
    "\n",
    "def splitKey(key):\n",
    "    # will yield the root file code and extension of a set of keys\n",
    "    prefix, extension = key.split(\".\")\n",
    "    fileName = prefix.split(\"/\")[-1]\n",
    "    values = re.split(\"_|-\", fileName)\n",
    "    keyz = [\"geographic_range\",\"indicator\",\"spatial_resolution\",\"temporal_range_min\",\"temporal_range_max\"]\n",
    "    outDict = dict(zip(keyz, values))\n",
    "    outDict[\"fileName\"]=fileName\n",
    "    outDict[\"extension\"]=extension\n",
    "    return outDict\n",
    "\n",
    "\n",
    "def uploadEE(index,row):\n",
    "    target = EE_OUTPUT_PATH + row.fileName\n",
    "    source = GCS_OUTPUT + row.fileName + \".\" + row.extension\n",
    "    metadata = \"--nodata_value=%s -p extension=%s -p filename=%s -p geographic_range=%s -p indicator=%s -p spatial_resolution=%s -p temporal_range_max=%s -p temporal_range_min=%s -p units=%s -p ingested_by=%s -p exportdescription=%s\" %(row.nodata,row.extension,row.fileName,row.geographic_range,row.indicator,row.spatial_resolution,row.temporal_range_max,row.temporal_range_min, row.units, row.ingested_by, row.exportdescription)\n",
    "    command = \"/opt/anaconda3/bin/earthengine upload image --asset_id %s %s %s\" % (target, source,metadata)\n",
    "    try:\n",
    "        response = subprocess.check_output(command, shell=True)\n",
    "        outDict = {\"command\":command,\"response\":response,\"error\":0}\n",
    "        df_errors2 = pd.DataFrame(outDict,index=[index])\n",
    "        pass\n",
    "    except:\n",
    "        try:\n",
    "            outDict = {\"command\":command,\"response\":response,\"error\":1}\n",
    "        except:\n",
    "            outDict = {\"command\":command,\"response\":-9999,\"error\":2}\n",
    "        df_errors2 = pd.DataFrame(outDict,index=[index])\n",
    "        print(\"error\")\n",
    "    return df_errors2\n",
    "\n",
    "    "
   ]
  },
  {
   "cell_type": "code",
   "execution_count": 5,
   "metadata": {
    "collapsed": true
   },
   "outputs": [],
   "source": [
    "inputLocationSampleGeotiff = os.path.join(EC2_INPUT_PATH_ADDITIONAL,\"sampleGeotiff.tiff\")"
   ]
  },
  {
   "cell_type": "code",
   "execution_count": 6,
   "metadata": {},
   "outputs": [
    {
     "name": "stdout",
     "output_type": "stream",
     "text": [
      "/volumes/data/Y2017M08D08_RH_Convert_Indicators_ASC_Geotiff_V01/input/sampleGeotiff.tiff\n"
     ]
    }
   ],
   "source": [
    "print(inputLocationSampleGeotiff)"
   ]
  },
  {
   "cell_type": "code",
   "execution_count": 7,
   "metadata": {
    "collapsed": true
   },
   "outputs": [],
   "source": [
    "[xsizeSample,ysizeSample,geotransformSample,geoprojSample,ZSample] = readFile(inputLocationSampleGeotiff)"
   ]
  },
  {
   "cell_type": "code",
   "execution_count": 8,
   "metadata": {
    "collapsed": true
   },
   "outputs": [],
   "source": [
    "files = os.listdir(EC2_INPUT_PATH)\n",
    "newExtension =\".tif\"\n",
    "for oneFile in files:\n",
    "    if oneFile.endswith(\".asc\"):\n",
    "        base , extension = oneFile.split(\".\")\n",
    "        xsize,ysize,geotransform,geoproj,Z = readFile(os.path.join(EC2_INPUT_PATH,oneFile))\n",
    "        Z[Z<-9990]= -9999\n",
    "        Z[Z>1e19] = -9999\n",
    "        outputFileName = base + newExtension\n",
    "        writeFile(os.path.join(EC2_OUTPUT_PATH,outputFileName),geotransformSample,geoprojSample,Z)"
   ]
  },
  {
   "cell_type": "markdown",
   "metadata": {},
   "source": [
    "Upload to GCS"
   ]
  },
  {
   "cell_type": "code",
   "execution_count": 9,
   "metadata": {},
   "outputs": [
    {
     "name": "stdout",
     "output_type": "stream",
     "text": [
      "Copying file:///volumes/data/Y2017M08D08_RH_Convert_Indicators_ASC_Geotiff_V01/output/global_droughtseveritystandardisedsoilmoisture_5min_1960-2014.tif [Content-Type=image/tiff]...\n",
      "Copying file:///volumes/data/Y2017M08D08_RH_Convert_Indicators_ASC_Geotiff_V01/output/global_q2seasonalvariabilitywatersupply_5min_1960-2014.tif [Content-Type=image/tiff]...\n",
      "Copying file:///volumes/data/Y2017M08D08_RH_Convert_Indicators_ASC_Geotiff_V01/output/global_droughtseveritystandardisedstreamflow_5min_1960-2014.tif [Content-Type=image/tiff]...\n",
      "Copying file:///volumes/data/Y2017M08D08_RH_Convert_Indicators_ASC_Geotiff_V01/output/global_environmentalflows_5min_1960-2014.tif [Content-Type=image/tiff]...\n",
      "Copying file:///volumes/data/Y2017M08D08_RH_Convert_Indicators_ASC_Geotiff_V01/output/global_q1seasonalvariabilitywatersupply_5min_1960-2014.tif [Content-Type=image/tiff]...\n",
      "Copying file:///volumes/data/Y2017M08D08_RH_Convert_Indicators_ASC_Geotiff_V01/output/global_interannualvariabilitywatersupply_5min_1960-2014.tif [Content-Type=image/tiff]...\n",
      "Copying file:///volumes/data/Y2017M08D08_RH_Convert_Indicators_ASC_Geotiff_V01/output/global_q4seasonalvariabilitywatersupply_5min_1960-2014.tif [Content-Type=image/tiff]...\n",
      "Copying file:///volumes/data/Y2017M08D08_RH_Convert_Indicators_ASC_Geotiff_V01/output/global_q3seasonalvariabilitywatersupply_5min_1960-2014.tif [Content-Type=image/tiff]...\n",
      "\\ [8/8 files][ 78.5 MiB/ 78.5 MiB] 100% Done                                    \n",
      "Operation completed over 8 objects/78.5 MiB.                                     \n"
     ]
    }
   ],
   "source": [
    "!gsutil -m cp \\\n",
    "{EC2_OUTPUT_PATH}/*.tif \\\n",
    "{GCS_OUTPUT}"
   ]
  },
  {
   "cell_type": "markdown",
   "metadata": {},
   "source": [
    "The next step is to ingest these rasters to earthengine with appropriate metadata"
   ]
  },
  {
   "cell_type": "code",
   "execution_count": 10,
   "metadata": {
    "collapsed": true
   },
   "outputs": [],
   "source": [
    "command = (\"/opt/google-cloud-sdk/bin/gsutil ls %s\") %(GCS_OUTPUT)"
   ]
  },
  {
   "cell_type": "code",
   "execution_count": 11,
   "metadata": {},
   "outputs": [
    {
     "name": "stdout",
     "output_type": "stream",
     "text": [
      "/opt/google-cloud-sdk/bin/gsutil ls gs://aqueduct30_v01/Y2017M08D08_RH_Convert_Indicators_ASC_Geotiff_V01/\n"
     ]
    }
   ],
   "source": [
    "print(command)"
   ]
  },
  {
   "cell_type": "code",
   "execution_count": 12,
   "metadata": {
    "collapsed": true
   },
   "outputs": [],
   "source": [
    "keys = subprocess.check_output(command,shell=True)"
   ]
  },
  {
   "cell_type": "code",
   "execution_count": 13,
   "metadata": {
    "collapsed": true
   },
   "outputs": [],
   "source": [
    "keys = keys.decode('UTF-8').splitlines()"
   ]
  },
  {
   "cell_type": "code",
   "execution_count": 14,
   "metadata": {},
   "outputs": [
    {
     "name": "stdout",
     "output_type": "stream",
     "text": [
      "['gs://aqueduct30_v01/Y2017M08D08_RH_Convert_Indicators_ASC_Geotiff_V01/global_droughtseveritystandardisedsoilmoisture_5min_1960-2014.tif', 'gs://aqueduct30_v01/Y2017M08D08_RH_Convert_Indicators_ASC_Geotiff_V01/global_droughtseveritystandardisedstreamflow_5min_1960-2014.tif', 'gs://aqueduct30_v01/Y2017M08D08_RH_Convert_Indicators_ASC_Geotiff_V01/global_environmentalflows_5min_1960-2014.tif', 'gs://aqueduct30_v01/Y2017M08D08_RH_Convert_Indicators_ASC_Geotiff_V01/global_interannualvariabilitywatersupply_5min_1960-2014.tif', 'gs://aqueduct30_v01/Y2017M08D08_RH_Convert_Indicators_ASC_Geotiff_V01/global_q1seasonalvariabilitywatersupply_5min_1960-2014.tif', 'gs://aqueduct30_v01/Y2017M08D08_RH_Convert_Indicators_ASC_Geotiff_V01/global_q2seasonalvariabilitywatersupply_5min_1960-2014.tif', 'gs://aqueduct30_v01/Y2017M08D08_RH_Convert_Indicators_ASC_Geotiff_V01/global_q3seasonalvariabilitywatersupply_5min_1960-2014.tif', 'gs://aqueduct30_v01/Y2017M08D08_RH_Convert_Indicators_ASC_Geotiff_V01/global_q4seasonalvariabilitywatersupply_5min_1960-2014.tif']\n"
     ]
    }
   ],
   "source": [
    "print(keys)"
   ]
  },
  {
   "cell_type": "code",
   "execution_count": 15,
   "metadata": {
    "collapsed": true
   },
   "outputs": [],
   "source": [
    "df = pd.DataFrame()\n",
    "i = 0\n",
    "for key in keys:\n",
    "    i = i+1\n",
    "    outDict = splitKey(key)\n",
    "    df2 = pd.DataFrame(outDict,index=[i])\n",
    "    df = df.append(df2)   "
   ]
  },
  {
   "cell_type": "code",
   "execution_count": 16,
   "metadata": {},
   "outputs": [
    {
     "data": {
      "text/html": [
       "<div>\n",
       "<style>\n",
       "    .dataframe thead tr:only-child th {\n",
       "        text-align: right;\n",
       "    }\n",
       "\n",
       "    .dataframe thead th {\n",
       "        text-align: left;\n",
       "    }\n",
       "\n",
       "    .dataframe tbody tr th {\n",
       "        vertical-align: top;\n",
       "    }\n",
       "</style>\n",
       "<table border=\"1\" class=\"dataframe\">\n",
       "  <thead>\n",
       "    <tr style=\"text-align: right;\">\n",
       "      <th></th>\n",
       "      <th>extension</th>\n",
       "      <th>fileName</th>\n",
       "      <th>geographic_range</th>\n",
       "      <th>indicator</th>\n",
       "      <th>spatial_resolution</th>\n",
       "      <th>temporal_range_max</th>\n",
       "      <th>temporal_range_min</th>\n",
       "    </tr>\n",
       "  </thead>\n",
       "  <tbody>\n",
       "    <tr>\n",
       "      <th>1</th>\n",
       "      <td>tif</td>\n",
       "      <td>global_droughtseveritystandardisedsoilmoisture...</td>\n",
       "      <td>global</td>\n",
       "      <td>droughtseveritystandardisedsoilmoisture</td>\n",
       "      <td>5min</td>\n",
       "      <td>2014</td>\n",
       "      <td>1960</td>\n",
       "    </tr>\n",
       "    <tr>\n",
       "      <th>2</th>\n",
       "      <td>tif</td>\n",
       "      <td>global_droughtseveritystandardisedstreamflow_5...</td>\n",
       "      <td>global</td>\n",
       "      <td>droughtseveritystandardisedstreamflow</td>\n",
       "      <td>5min</td>\n",
       "      <td>2014</td>\n",
       "      <td>1960</td>\n",
       "    </tr>\n",
       "    <tr>\n",
       "      <th>3</th>\n",
       "      <td>tif</td>\n",
       "      <td>global_environmentalflows_5min_1960-2014</td>\n",
       "      <td>global</td>\n",
       "      <td>environmentalflows</td>\n",
       "      <td>5min</td>\n",
       "      <td>2014</td>\n",
       "      <td>1960</td>\n",
       "    </tr>\n",
       "    <tr>\n",
       "      <th>4</th>\n",
       "      <td>tif</td>\n",
       "      <td>global_interannualvariabilitywatersupply_5min_...</td>\n",
       "      <td>global</td>\n",
       "      <td>interannualvariabilitywatersupply</td>\n",
       "      <td>5min</td>\n",
       "      <td>2014</td>\n",
       "      <td>1960</td>\n",
       "    </tr>\n",
       "    <tr>\n",
       "      <th>5</th>\n",
       "      <td>tif</td>\n",
       "      <td>global_q1seasonalvariabilitywatersupply_5min_1...</td>\n",
       "      <td>global</td>\n",
       "      <td>q1seasonalvariabilitywatersupply</td>\n",
       "      <td>5min</td>\n",
       "      <td>2014</td>\n",
       "      <td>1960</td>\n",
       "    </tr>\n",
       "  </tbody>\n",
       "</table>\n",
       "</div>"
      ],
      "text/plain": [
       "  extension                                           fileName  \\\n",
       "1       tif  global_droughtseveritystandardisedsoilmoisture...   \n",
       "2       tif  global_droughtseveritystandardisedstreamflow_5...   \n",
       "3       tif           global_environmentalflows_5min_1960-2014   \n",
       "4       tif  global_interannualvariabilitywatersupply_5min_...   \n",
       "5       tif  global_q1seasonalvariabilitywatersupply_5min_1...   \n",
       "\n",
       "  geographic_range                                indicator  \\\n",
       "1           global  droughtseveritystandardisedsoilmoisture   \n",
       "2           global    droughtseveritystandardisedstreamflow   \n",
       "3           global                       environmentalflows   \n",
       "4           global        interannualvariabilitywatersupply   \n",
       "5           global         q1seasonalvariabilitywatersupply   \n",
       "\n",
       "  spatial_resolution temporal_range_max temporal_range_min  \n",
       "1               5min               2014               1960  \n",
       "2               5min               2014               1960  \n",
       "3               5min               2014               1960  \n",
       "4               5min               2014               1960  \n",
       "5               5min               2014               1960  "
      ]
     },
     "execution_count": 16,
     "metadata": {},
     "output_type": "execute_result"
    }
   ],
   "source": [
    "df.head()"
   ]
  },
  {
   "cell_type": "code",
   "execution_count": 17,
   "metadata": {
    "collapsed": true
   },
   "outputs": [],
   "source": [
    "df[\"nodata\"] = -9999\n",
    "df[\"ingested_by\"] =\"RutgerHofste\"\n",
    "df[\"exportdescription\"] = df[\"indicator\"]\n",
    "df[\"units\"] = \"dimensionless\""
   ]
  },
  {
   "cell_type": "code",
   "execution_count": 18,
   "metadata": {},
   "outputs": [
    {
     "data": {
      "text/html": [
       "<div>\n",
       "<style>\n",
       "    .dataframe thead tr:only-child th {\n",
       "        text-align: right;\n",
       "    }\n",
       "\n",
       "    .dataframe thead th {\n",
       "        text-align: left;\n",
       "    }\n",
       "\n",
       "    .dataframe tbody tr th {\n",
       "        vertical-align: top;\n",
       "    }\n",
       "</style>\n",
       "<table border=\"1\" class=\"dataframe\">\n",
       "  <thead>\n",
       "    <tr style=\"text-align: right;\">\n",
       "      <th></th>\n",
       "      <th>extension</th>\n",
       "      <th>fileName</th>\n",
       "      <th>geographic_range</th>\n",
       "      <th>indicator</th>\n",
       "      <th>spatial_resolution</th>\n",
       "      <th>temporal_range_max</th>\n",
       "      <th>temporal_range_min</th>\n",
       "      <th>nodata</th>\n",
       "      <th>ingested_by</th>\n",
       "      <th>exportdescription</th>\n",
       "      <th>units</th>\n",
       "    </tr>\n",
       "  </thead>\n",
       "  <tbody>\n",
       "    <tr>\n",
       "      <th>1</th>\n",
       "      <td>tif</td>\n",
       "      <td>global_droughtseveritystandardisedsoilmoisture...</td>\n",
       "      <td>global</td>\n",
       "      <td>droughtseveritystandardisedsoilmoisture</td>\n",
       "      <td>5min</td>\n",
       "      <td>2014</td>\n",
       "      <td>1960</td>\n",
       "      <td>-9999</td>\n",
       "      <td>RutgerHofste</td>\n",
       "      <td>droughtseveritystandardisedsoilmoisture</td>\n",
       "      <td>dimensionless</td>\n",
       "    </tr>\n",
       "    <tr>\n",
       "      <th>2</th>\n",
       "      <td>tif</td>\n",
       "      <td>global_droughtseveritystandardisedstreamflow_5...</td>\n",
       "      <td>global</td>\n",
       "      <td>droughtseveritystandardisedstreamflow</td>\n",
       "      <td>5min</td>\n",
       "      <td>2014</td>\n",
       "      <td>1960</td>\n",
       "      <td>-9999</td>\n",
       "      <td>RutgerHofste</td>\n",
       "      <td>droughtseveritystandardisedstreamflow</td>\n",
       "      <td>dimensionless</td>\n",
       "    </tr>\n",
       "    <tr>\n",
       "      <th>3</th>\n",
       "      <td>tif</td>\n",
       "      <td>global_environmentalflows_5min_1960-2014</td>\n",
       "      <td>global</td>\n",
       "      <td>environmentalflows</td>\n",
       "      <td>5min</td>\n",
       "      <td>2014</td>\n",
       "      <td>1960</td>\n",
       "      <td>-9999</td>\n",
       "      <td>RutgerHofste</td>\n",
       "      <td>environmentalflows</td>\n",
       "      <td>dimensionless</td>\n",
       "    </tr>\n",
       "    <tr>\n",
       "      <th>4</th>\n",
       "      <td>tif</td>\n",
       "      <td>global_interannualvariabilitywatersupply_5min_...</td>\n",
       "      <td>global</td>\n",
       "      <td>interannualvariabilitywatersupply</td>\n",
       "      <td>5min</td>\n",
       "      <td>2014</td>\n",
       "      <td>1960</td>\n",
       "      <td>-9999</td>\n",
       "      <td>RutgerHofste</td>\n",
       "      <td>interannualvariabilitywatersupply</td>\n",
       "      <td>dimensionless</td>\n",
       "    </tr>\n",
       "    <tr>\n",
       "      <th>5</th>\n",
       "      <td>tif</td>\n",
       "      <td>global_q1seasonalvariabilitywatersupply_5min_1...</td>\n",
       "      <td>global</td>\n",
       "      <td>q1seasonalvariabilitywatersupply</td>\n",
       "      <td>5min</td>\n",
       "      <td>2014</td>\n",
       "      <td>1960</td>\n",
       "      <td>-9999</td>\n",
       "      <td>RutgerHofste</td>\n",
       "      <td>q1seasonalvariabilitywatersupply</td>\n",
       "      <td>dimensionless</td>\n",
       "    </tr>\n",
       "    <tr>\n",
       "      <th>6</th>\n",
       "      <td>tif</td>\n",
       "      <td>global_q2seasonalvariabilitywatersupply_5min_1...</td>\n",
       "      <td>global</td>\n",
       "      <td>q2seasonalvariabilitywatersupply</td>\n",
       "      <td>5min</td>\n",
       "      <td>2014</td>\n",
       "      <td>1960</td>\n",
       "      <td>-9999</td>\n",
       "      <td>RutgerHofste</td>\n",
       "      <td>q2seasonalvariabilitywatersupply</td>\n",
       "      <td>dimensionless</td>\n",
       "    </tr>\n",
       "    <tr>\n",
       "      <th>7</th>\n",
       "      <td>tif</td>\n",
       "      <td>global_q3seasonalvariabilitywatersupply_5min_1...</td>\n",
       "      <td>global</td>\n",
       "      <td>q3seasonalvariabilitywatersupply</td>\n",
       "      <td>5min</td>\n",
       "      <td>2014</td>\n",
       "      <td>1960</td>\n",
       "      <td>-9999</td>\n",
       "      <td>RutgerHofste</td>\n",
       "      <td>q3seasonalvariabilitywatersupply</td>\n",
       "      <td>dimensionless</td>\n",
       "    </tr>\n",
       "    <tr>\n",
       "      <th>8</th>\n",
       "      <td>tif</td>\n",
       "      <td>global_q4seasonalvariabilitywatersupply_5min_1...</td>\n",
       "      <td>global</td>\n",
       "      <td>q4seasonalvariabilitywatersupply</td>\n",
       "      <td>5min</td>\n",
       "      <td>2014</td>\n",
       "      <td>1960</td>\n",
       "      <td>-9999</td>\n",
       "      <td>RutgerHofste</td>\n",
       "      <td>q4seasonalvariabilitywatersupply</td>\n",
       "      <td>dimensionless</td>\n",
       "    </tr>\n",
       "  </tbody>\n",
       "</table>\n",
       "</div>"
      ],
      "text/plain": [
       "  extension                                           fileName  \\\n",
       "1       tif  global_droughtseveritystandardisedsoilmoisture...   \n",
       "2       tif  global_droughtseveritystandardisedstreamflow_5...   \n",
       "3       tif           global_environmentalflows_5min_1960-2014   \n",
       "4       tif  global_interannualvariabilitywatersupply_5min_...   \n",
       "5       tif  global_q1seasonalvariabilitywatersupply_5min_1...   \n",
       "6       tif  global_q2seasonalvariabilitywatersupply_5min_1...   \n",
       "7       tif  global_q3seasonalvariabilitywatersupply_5min_1...   \n",
       "8       tif  global_q4seasonalvariabilitywatersupply_5min_1...   \n",
       "\n",
       "  geographic_range                                indicator  \\\n",
       "1           global  droughtseveritystandardisedsoilmoisture   \n",
       "2           global    droughtseveritystandardisedstreamflow   \n",
       "3           global                       environmentalflows   \n",
       "4           global        interannualvariabilitywatersupply   \n",
       "5           global         q1seasonalvariabilitywatersupply   \n",
       "6           global         q2seasonalvariabilitywatersupply   \n",
       "7           global         q3seasonalvariabilitywatersupply   \n",
       "8           global         q4seasonalvariabilitywatersupply   \n",
       "\n",
       "  spatial_resolution temporal_range_max temporal_range_min  nodata  \\\n",
       "1               5min               2014               1960   -9999   \n",
       "2               5min               2014               1960   -9999   \n",
       "3               5min               2014               1960   -9999   \n",
       "4               5min               2014               1960   -9999   \n",
       "5               5min               2014               1960   -9999   \n",
       "6               5min               2014               1960   -9999   \n",
       "7               5min               2014               1960   -9999   \n",
       "8               5min               2014               1960   -9999   \n",
       "\n",
       "    ingested_by                        exportdescription          units  \n",
       "1  RutgerHofste  droughtseveritystandardisedsoilmoisture  dimensionless  \n",
       "2  RutgerHofste    droughtseveritystandardisedstreamflow  dimensionless  \n",
       "3  RutgerHofste                       environmentalflows  dimensionless  \n",
       "4  RutgerHofste        interannualvariabilitywatersupply  dimensionless  \n",
       "5  RutgerHofste         q1seasonalvariabilitywatersupply  dimensionless  \n",
       "6  RutgerHofste         q2seasonalvariabilitywatersupply  dimensionless  \n",
       "7  RutgerHofste         q3seasonalvariabilitywatersupply  dimensionless  \n",
       "8  RutgerHofste         q4seasonalvariabilitywatersupply  dimensionless  "
      ]
     },
     "execution_count": 18,
     "metadata": {},
     "output_type": "execute_result"
    }
   ],
   "source": [
    "df"
   ]
  },
  {
   "cell_type": "code",
   "execution_count": 19,
   "metadata": {},
   "outputs": [
    {
     "name": "stdout",
     "output_type": "stream",
     "text": [
      "1 0.01 elapsed:  0:00:00.000821\n",
      "2 0.02 elapsed:  0:00:01.404694\n",
      "3 0.03 elapsed:  0:00:02.679707\n",
      "4 0.04 elapsed:  0:00:04.023834\n",
      "5 0.05 elapsed:  0:00:05.207816\n",
      "6 0.06 elapsed:  0:00:06.453202\n",
      "7 0.08 elapsed:  0:00:07.808105\n",
      "8 0.09 elapsed:  0:00:09.021175\n"
     ]
    }
   ],
   "source": [
    "df_errors = pd.DataFrame()\n",
    "start_time = time.time()\n",
    "for index, row in df.iterrows():\n",
    "    elapsed_time = time.time() - start_time \n",
    "    print(index,\"%.2f\" %((index/9289.0)*100), \"elapsed: \", str(timedelta(seconds=elapsed_time)))\n",
    "    df_errors2 = uploadEE(index,row)\n",
    "    df_errors = df_errors.append(df_errors2)"
   ]
  },
  {
   "cell_type": "markdown",
   "metadata": {},
   "source": [
    "For the Threshold setting, copying these rasters to S3. "
   ]
  },
  {
   "cell_type": "code",
   "execution_count": 20,
   "metadata": {},
   "outputs": [
    {
     "name": "stdout",
     "output_type": "stream",
     "text": [
      "upload: ../../../../data/Y2017M08D08_RH_Convert_Indicators_ASC_Geotiff_V01/output/global_droughtseveritystandardisedsoilmoisture_5min_1960-2014.tif to s3://wri-projects/Aqueduct30/processData/Y2017M08D08_RH_Convert_Indicators_ASC_Geotiff_V01/output/global_droughtseveritystandardisedsoilmoisture_5min_1960-2014.tif\n",
      "upload: ../../../../data/Y2017M08D08_RH_Convert_Indicators_ASC_Geotiff_V01/output/global_droughtseveritystandardisedstreamflow_5min_1960-2014.tif to s3://wri-projects/Aqueduct30/processData/Y2017M08D08_RH_Convert_Indicators_ASC_Geotiff_V01/output/global_droughtseveritystandardisedstreamflow_5min_1960-2014.tif\n",
      "upload: ../../../../data/Y2017M08D08_RH_Convert_Indicators_ASC_Geotiff_V01/output/global_environmentalflows_5min_1960-2014.tif to s3://wri-projects/Aqueduct30/processData/Y2017M08D08_RH_Convert_Indicators_ASC_Geotiff_V01/output/global_environmentalflows_5min_1960-2014.tif\n",
      "upload: ../../../../data/Y2017M08D08_RH_Convert_Indicators_ASC_Geotiff_V01/output/global_q1seasonalvariabilitywatersupply_5min_1960-2014.tif to s3://wri-projects/Aqueduct30/processData/Y2017M08D08_RH_Convert_Indicators_ASC_Geotiff_V01/output/global_q1seasonalvariabilitywatersupply_5min_1960-2014.tif\n",
      "upload: ../../../../data/Y2017M08D08_RH_Convert_Indicators_ASC_Geotiff_V01/output/global_q3seasonalvariabilitywatersupply_5min_1960-2014.tif to s3://wri-projects/Aqueduct30/processData/Y2017M08D08_RH_Convert_Indicators_ASC_Geotiff_V01/output/global_q3seasonalvariabilitywatersupply_5min_1960-2014.tif\n",
      "upload: ../../../../data/Y2017M08D08_RH_Convert_Indicators_ASC_Geotiff_V01/output/global_q2seasonalvariabilitywatersupply_5min_1960-2014.tif to s3://wri-projects/Aqueduct30/processData/Y2017M08D08_RH_Convert_Indicators_ASC_Geotiff_V01/output/global_q2seasonalvariabilitywatersupply_5min_1960-2014.tif\n",
      "upload: ../../../../data/Y2017M08D08_RH_Convert_Indicators_ASC_Geotiff_V01/output/global_q4seasonalvariabilitywatersupply_5min_1960-2014.tif to s3://wri-projects/Aqueduct30/processData/Y2017M08D08_RH_Convert_Indicators_ASC_Geotiff_V01/output/global_q4seasonalvariabilitywatersupply_5min_1960-2014.tif\n",
      "upload: ../../../../data/Y2017M08D08_RH_Convert_Indicators_ASC_Geotiff_V01/output/global_interannualvariabilitywatersupply_5min_1960-2014.tif to s3://wri-projects/Aqueduct30/processData/Y2017M08D08_RH_Convert_Indicators_ASC_Geotiff_V01/output/global_interannualvariabilitywatersupply_5min_1960-2014.tif\n"
     ]
    }
   ],
   "source": [
    "!aws s3 cp {EC2_OUTPUT_PATH} {S3_OUTPUT_PATH} --recursive"
   ]
  },
  {
   "cell_type": "code",
   "execution_count": 21,
   "metadata": {},
   "outputs": [
    {
     "data": {
      "text/html": [
       "<div>\n",
       "<style>\n",
       "    .dataframe thead tr:only-child th {\n",
       "        text-align: right;\n",
       "    }\n",
       "\n",
       "    .dataframe thead th {\n",
       "        text-align: left;\n",
       "    }\n",
       "\n",
       "    .dataframe tbody tr th {\n",
       "        vertical-align: top;\n",
       "    }\n",
       "</style>\n",
       "<table border=\"1\" class=\"dataframe\">\n",
       "  <thead>\n",
       "    <tr style=\"text-align: right;\">\n",
       "      <th></th>\n",
       "      <th>command</th>\n",
       "      <th>error</th>\n",
       "      <th>response</th>\n",
       "    </tr>\n",
       "  </thead>\n",
       "  <tbody>\n",
       "    <tr>\n",
       "      <th>1</th>\n",
       "      <td>/opt/anaconda3/bin/earthengine upload image --...</td>\n",
       "      <td>0</td>\n",
       "      <td>b'Started upload task with ID: WPNPYHO7LKDC4ZI...</td>\n",
       "    </tr>\n",
       "    <tr>\n",
       "      <th>2</th>\n",
       "      <td>/opt/anaconda3/bin/earthengine upload image --...</td>\n",
       "      <td>0</td>\n",
       "      <td>b'Started upload task with ID: PKGV7ZT472DC4CQ...</td>\n",
       "    </tr>\n",
       "    <tr>\n",
       "      <th>3</th>\n",
       "      <td>/opt/anaconda3/bin/earthengine upload image --...</td>\n",
       "      <td>0</td>\n",
       "      <td>b'Started upload task with ID: I6SXMZIOY27TJDK...</td>\n",
       "    </tr>\n",
       "    <tr>\n",
       "      <th>4</th>\n",
       "      <td>/opt/anaconda3/bin/earthengine upload image --...</td>\n",
       "      <td>0</td>\n",
       "      <td>b'Started upload task with ID: MIW2QZZ7IDPPDE3...</td>\n",
       "    </tr>\n",
       "    <tr>\n",
       "      <th>5</th>\n",
       "      <td>/opt/anaconda3/bin/earthengine upload image --...</td>\n",
       "      <td>0</td>\n",
       "      <td>b'Started upload task with ID: YFN6UNC7P2CKUZM...</td>\n",
       "    </tr>\n",
       "    <tr>\n",
       "      <th>6</th>\n",
       "      <td>/opt/anaconda3/bin/earthengine upload image --...</td>\n",
       "      <td>0</td>\n",
       "      <td>b'Started upload task with ID: 35D3UUHJXCMZVCK...</td>\n",
       "    </tr>\n",
       "    <tr>\n",
       "      <th>7</th>\n",
       "      <td>/opt/anaconda3/bin/earthengine upload image --...</td>\n",
       "      <td>0</td>\n",
       "      <td>b'Started upload task with ID: 52AA2G3T7O2SIDH...</td>\n",
       "    </tr>\n",
       "    <tr>\n",
       "      <th>8</th>\n",
       "      <td>/opt/anaconda3/bin/earthengine upload image --...</td>\n",
       "      <td>0</td>\n",
       "      <td>b'Started upload task with ID: F724U75TRKRQEHH...</td>\n",
       "    </tr>\n",
       "  </tbody>\n",
       "</table>\n",
       "</div>"
      ],
      "text/plain": [
       "                                             command  error  \\\n",
       "1  /opt/anaconda3/bin/earthengine upload image --...      0   \n",
       "2  /opt/anaconda3/bin/earthengine upload image --...      0   \n",
       "3  /opt/anaconda3/bin/earthengine upload image --...      0   \n",
       "4  /opt/anaconda3/bin/earthengine upload image --...      0   \n",
       "5  /opt/anaconda3/bin/earthengine upload image --...      0   \n",
       "6  /opt/anaconda3/bin/earthengine upload image --...      0   \n",
       "7  /opt/anaconda3/bin/earthengine upload image --...      0   \n",
       "8  /opt/anaconda3/bin/earthengine upload image --...      0   \n",
       "\n",
       "                                            response  \n",
       "1  b'Started upload task with ID: WPNPYHO7LKDC4ZI...  \n",
       "2  b'Started upload task with ID: PKGV7ZT472DC4CQ...  \n",
       "3  b'Started upload task with ID: I6SXMZIOY27TJDK...  \n",
       "4  b'Started upload task with ID: MIW2QZZ7IDPPDE3...  \n",
       "5  b'Started upload task with ID: YFN6UNC7P2CKUZM...  \n",
       "6  b'Started upload task with ID: 35D3UUHJXCMZVCK...  \n",
       "7  b'Started upload task with ID: 52AA2G3T7O2SIDH...  \n",
       "8  b'Started upload task with ID: F724U75TRKRQEHH...  "
      ]
     },
     "execution_count": 21,
     "metadata": {},
     "output_type": "execute_result"
    }
   ],
   "source": [
    "df_errors"
   ]
  },
  {
   "cell_type": "code",
   "execution_count": null,
   "metadata": {
    "collapsed": true
   },
   "outputs": [],
   "source": []
  }
 ],
 "metadata": {
  "kernelspec": {
   "display_name": "Python 35",
   "language": "python",
   "name": "python35"
  },
  "language_info": {
   "codemirror_mode": {
    "name": "ipython",
    "version": 3
   },
   "file_extension": ".py",
   "mimetype": "text/x-python",
   "name": "python",
   "nbconvert_exporter": "python",
   "pygments_lexer": "ipython3",
   "version": "3.5.4"
  }
 },
 "nbformat": 4,
 "nbformat_minor": 2
}
