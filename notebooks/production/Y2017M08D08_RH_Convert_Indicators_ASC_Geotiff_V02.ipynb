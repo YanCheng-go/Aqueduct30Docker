{
 "cells": [
  {
   "cell_type": "code",
   "execution_count": 1,
   "metadata": {},
   "outputs": [
    {
     "name": "stdout",
     "output_type": "stream",
     "text": [
      "Input s3: s3://wri-projects/Aqueduct30/processData/Y2017M07D31_RH_copy_S3raw_s3process_V02/output_V03/\n",
      "Input ec2: /volumes/data/Y2017M08D08_RH_Convert_Indicators_ASC_Geotiff_V02/input_V03/\n",
      "Output ec2: /volumes/data/Y2017M08D08_RH_Convert_Indicators_ASC_Geotiff_V02/output_V07/\n",
      "Output s3: s3://wri-projects/Aqueduct30/processData/Y2017M08D08_RH_Convert_Indicators_ASC_Geotiff_V02/output_V07/\n",
      "Output gcs: gs://aqueduct30_v01/Y2017M08D08_RH_Convert_Indicators_ASC_Geotiff_V02/output_V07/\n"
     ]
    }
   ],
   "source": [
    "\"\"\" Convert Indicators from ASCII to Geotiff\n",
    "-------------------------------------------------------------------------------\n",
    "A couple of indicators are shared in ASCII format. Renaming to a uniform naming\n",
    "convention. Converting to geotiff and upload to GCS and AWS.\n",
    "\n",
    "\n",
    "Author: Rutger Hofste\n",
    "Date: 20170808\n",
    "Kernel: python35\n",
    "Docker: rutgerhofste/gisdocker:ubuntu16.04\n",
    "\n",
    "Args:\n",
    "\n",
    "    SCRIPT_NAME (string) : Script name.\n",
    "    PREVIOUS_SCRIPT_NAME (string) : Previous script name. \n",
    "    INPUT_VERSION (integer) : Input version.\n",
    "    OUTPUT_VERSION (integer) : Output version.  \n",
    "\n",
    "    X_DIMENSION_5MIN (integer) : horizontal or longitudinal dimension of \n",
    "                                 raster.\n",
    "    Y_DIMENSION_5MIN (integer) : vertical or latitudinal dimension of \n",
    "                                 raster.\n",
    "    RENAME_DICT (dictionary) : Old and new names.\n",
    "\n",
    "Returns:\n",
    "\n",
    "\n",
    "\"\"\"\n",
    "\n",
    "# Input Parameters\n",
    "\n",
    "SCRIPT_NAME = \"Y2017M08D08_RH_Convert_Indicators_ASC_Geotiff_V02\"\n",
    "PREVIOUS_SCRIPT_NAME = \"Y2017M07D31_RH_copy_S3raw_s3process_V02\"\n",
    "\n",
    "INPUT_VERSION = 3\n",
    "OUTPUT_VERSION = 7\n",
    "\n",
    "X_DIMENSION_5MIN = 4320\n",
    "Y_DIMENSION_5MIN = 2160\n",
    "\n",
    "RENAME_DICT = {\n",
    " \"global_droughtseveritystandardisedsoilmoisture_5min_1960-2014.tif\":\n",
    " \"global_historical_droughtseveritystandardisedsoilmoisture_reduced_dimensionless_5min_1960_2014.tif\",\n",
    " \"global_droughtseveritystandardisedstreamflow_5min_1960-2014.tif\":\n",
    " \"global_historical_droughtseveritystandardisedstreamflow_reduced_dimensionless_5min_1960_2014.tif\",\n",
    " \"global_environmentalflows_5min_1960-2014.tif\":\n",
    " \"global_historical_environmentalflows_reduced_m3second_5min_1960_2014.tif\",\n",
    " \"global_interannualvariabilitywatersupply_5min_1960-2014.tif\":\n",
    " \"global_historical_interannualvariabilitywatersupply_reduced_dimensionless_5min_1960_2014.tif\",\n",
    " \"global_q1seasonalvariabilitywatersupply_5min_1960-2014.tif\":\n",
    " \"global_historical_q1seasonalvariabilitywatersupply_reduced_dimensionless_5min_1960-2014.tif\",\n",
    " \"global_q2seasonalvariabilitywatersupply_5min_1960-2014.tif\":\n",
    " \"global_historical_q2seasonalvariabilitywatersupply_reduced_dimensionless_5min_1960-2014.tif\",\n",
    " \"global_q3seasonalvariabilitywatersupply_5min_1960-2014.tif\":\n",
    " \"global_historical_q3seasonalvariabilitywatersupply_reduced_dimensionless_5min_1960-2014.tif\",\n",
    " \"global_q4seasonalvariabilitywatersupply_5min_1960-2014.tif\":\n",
    " \"global_historical_q4seasonalvariabilitywatersupply_reduced_dimensionless_5min_1960-2014.tif\"\n",
    "}\n",
    "\n",
    "\n",
    "# ETL\n",
    "ec2_input_path = \"/volumes/data/{}/input_V{:02.0f}/\".format(SCRIPT_NAME,INPUT_VERSION)\n",
    "ec2_output_path = \"/volumes/data/{}/output_V{:02.0f}/\".format(SCRIPT_NAME,OUTPUT_VERSION)\n",
    "s3_input_path = \"s3://wri-projects/Aqueduct30/processData/{}/output_V{:02.0f}/\".format(PREVIOUS_SCRIPT_NAME,INPUT_VERSION)\n",
    "s3_output_path = \"s3://wri-projects/Aqueduct30/processData/{}/output_V{:02.0f}/\".format(SCRIPT_NAME,OUTPUT_VERSION)\n",
    "gcs_output_path = \"gs://aqueduct30_v01/{}/output_V{:02.0f}/\".format(SCRIPT_NAME,OUTPUT_VERSION)\n",
    "\n",
    "print(\"Input s3: \" + s3_input_path +\n",
    "      \"\\nInput ec2: \" + ec2_input_path +\n",
    "      \"\\nOutput ec2: \" + ec2_output_path +\n",
    "      \"\\nOutput s3: \" + s3_output_path +\n",
    "      \"\\nOutput gcs: \" + gcs_output_path )\n"
   ]
  },
  {
   "cell_type": "code",
   "execution_count": 2,
   "metadata": {},
   "outputs": [
    {
     "name": "stdout",
     "output_type": "stream",
     "text": [
      "Y2018M04D17 UTC 14:53\n"
     ]
    },
    {
     "data": {
      "text/plain": [
       "'3.5.4 |Anaconda, Inc.| (default, Nov 20 2017, 18:44:38) \\n[GCC 7.2.0]'"
      ]
     },
     "execution_count": 2,
     "metadata": {},
     "output_type": "execute_result"
    }
   ],
   "source": [
    "import time, datetime, sys\n",
    "dateString = time.strftime(\"Y%YM%mD%d\")\n",
    "timeString = time.strftime(\"UTC %H:%M\")\n",
    "start = datetime.datetime.now()\n",
    "print(dateString,timeString)\n",
    "sys.version"
   ]
  },
  {
   "cell_type": "code",
   "execution_count": 3,
   "metadata": {
    "collapsed": true
   },
   "outputs": [],
   "source": [
    "# imports\n",
    "import os\n",
    "import numpy as np\n",
    "from osgeo import gdal\n",
    "import aqueduct3"
   ]
  },
  {
   "cell_type": "code",
   "execution_count": 4,
   "metadata": {
    "collapsed": true
   },
   "outputs": [],
   "source": [
    "!mkdir -p {ec2_input_path}\n",
    "!mkdir -p {ec2_output_path}"
   ]
  },
  {
   "cell_type": "code",
   "execution_count": 5,
   "metadata": {},
   "outputs": [
    {
     "name": "stdout",
     "output_type": "stream",
     "text": [
      "download: s3://wri-projects/Aqueduct30/processData/Y2017M07D31_RH_copy_S3raw_s3process_V02/output_V03/global_droughtseveritystandardisedsoilmoisture_5min_1960-2014.asc to ../../../../data/Y2017M08D08_RH_Convert_Indicators_ASC_Geotiff_V02/input_V03/global_droughtseveritystandardisedsoilmoisture_5min_1960-2014.asc\n",
      "download: s3://wri-projects/Aqueduct30/processData/Y2017M07D31_RH_copy_S3raw_s3process_V02/output_V03/global_environmentalflows_5min_1960-2014.asc to ../../../../data/Y2017M08D08_RH_Convert_Indicators_ASC_Geotiff_V02/input_V03/global_environmentalflows_5min_1960-2014.asc\n",
      "download: s3://wri-projects/Aqueduct30/processData/Y2017M07D31_RH_copy_S3raw_s3process_V02/output_V03/global_droughtseveritystandardisedstreamflow_5min_1960-2014.asc to ../../../../data/Y2017M08D08_RH_Convert_Indicators_ASC_Geotiff_V02/input_V03/global_droughtseveritystandardisedstreamflow_5min_1960-2014.asc\n",
      "download: s3://wri-projects/Aqueduct30/processData/Y2017M07D31_RH_copy_S3raw_s3process_V02/output_V03/global_interannualvariabilitywatersupply_5min_1960-2014.asc to ../../../../data/Y2017M08D08_RH_Convert_Indicators_ASC_Geotiff_V02/input_V03/global_interannualvariabilitywatersupply_5min_1960-2014.asc\n",
      "download: s3://wri-projects/Aqueduct30/processData/Y2017M07D31_RH_copy_S3raw_s3process_V02/output_V03/global_q1seasonalvariabilitywatersupply_5min_1960-2014.asc to ../../../../data/Y2017M08D08_RH_Convert_Indicators_ASC_Geotiff_V02/input_V03/global_q1seasonalvariabilitywatersupply_5min_1960-2014.asc\n",
      "download: s3://wri-projects/Aqueduct30/processData/Y2017M07D31_RH_copy_S3raw_s3process_V02/output_V03/global_q4seasonalvariabilitywatersupply_5min_1960-2014.asc to ../../../../data/Y2017M08D08_RH_Convert_Indicators_ASC_Geotiff_V02/input_V03/global_q4seasonalvariabilitywatersupply_5min_1960-2014.asc\n",
      "download: s3://wri-projects/Aqueduct30/processData/Y2017M07D31_RH_copy_S3raw_s3process_V02/output_V03/global_q3seasonalvariabilitywatersupply_5min_1960-2014.asc to ../../../../data/Y2017M08D08_RH_Convert_Indicators_ASC_Geotiff_V02/input_V03/global_q3seasonalvariabilitywatersupply_5min_1960-2014.asc\n",
      "download: s3://wri-projects/Aqueduct30/processData/Y2017M07D31_RH_copy_S3raw_s3process_V02/output_V03/global_q2seasonalvariabilitywatersupply_5min_1960-2014.asc to ../../../../data/Y2017M08D08_RH_Convert_Indicators_ASC_Geotiff_V02/input_V03/global_q2seasonalvariabilitywatersupply_5min_1960-2014.asc\n"
     ]
    }
   ],
   "source": [
    "!aws s3 cp {s3_input_path} {ec2_input_path} --recursive --exclude=\"*\" --include=\"*.asc\""
   ]
  },
  {
   "cell_type": "code",
   "execution_count": 6,
   "metadata": {},
   "outputs": [
    {
     "name": "stdout",
     "output_type": "stream",
     "text": [
      "global_droughtseveritystandardisedsoilmoisture_5min_1960-2014.asc\r\n",
      "global_droughtseveritystandardisedstreamflow_5min_1960-2014.asc\r\n",
      "global_environmentalflows_5min_1960-2014.asc\r\n",
      "global_interannualvariabilitywatersupply_5min_1960-2014.asc\r\n",
      "global_q1seasonalvariabilitywatersupply_5min_1960-2014.asc\r\n",
      "global_q2seasonalvariabilitywatersupply_5min_1960-2014.asc\r\n",
      "global_q3seasonalvariabilitywatersupply_5min_1960-2014.asc\r\n",
      "global_q4seasonalvariabilitywatersupply_5min_1960-2014.asc\r\n"
     ]
    }
   ],
   "source": [
    "!ls {ec2_input_path}"
   ]
  },
  {
   "cell_type": "code",
   "execution_count": 7,
   "metadata": {},
   "outputs": [
    {
     "name": "stdout",
     "output_type": "stream",
     "text": [
      "global_q4seasonalvariabilitywatersupply_5min_1960-2014.asc\n",
      "global_q1seasonalvariabilitywatersupply_5min_1960-2014.asc\n",
      "global_environmentalflows_5min_1960-2014.asc\n",
      "global_q2seasonalvariabilitywatersupply_5min_1960-2014.asc\n",
      "global_interannualvariabilitywatersupply_5min_1960-2014.asc\n",
      "global_droughtseveritystandardisedstreamflow_5min_1960-2014.asc\n",
      "global_q3seasonalvariabilitywatersupply_5min_1960-2014.asc\n",
      "global_droughtseveritystandardisedsoilmoisture_5min_1960-2014.asc\n"
     ]
    }
   ],
   "source": [
    "# Convert the ascii files in the ec2_input_directory into geotiffs in the ec2_output_directory\n",
    "\n",
    "default_geotransform, default_geoprojection = aqueduct3.get_global_georeference(np.ones([Y_DIMENSION_5MIN,X_DIMENSION_5MIN]))\n",
    "for root, dirs, file_names in os.walk(ec2_input_path):\n",
    "    for file_name in file_names:\n",
    "        print(file_name)\n",
    "        base , extension = file_name.split(\".\")\n",
    "        output_path = ec2_output_path  + base + \".tif\"\n",
    "        input_path = os.path.join(root, file_name)     \n",
    "        xsize,ysize,geotransform,geoproj,Z = aqueduct3.read_gdal_file(input_path)\n",
    "        Z[Z<-9990]= -9999\n",
    "        Z[Z>1e19] = -9999\n",
    "        aqueduct3.write_geotiff(output_path,default_geotransform,default_geoprojection,Z,nodata_value=-9999,datatype=gdal.GDT_Float32)         \n",
    "\n"
   ]
  },
  {
   "cell_type": "code",
   "execution_count": 8,
   "metadata": {
    "collapsed": true
   },
   "outputs": [],
   "source": [
    "for old_name, new_name in RENAME_DICT.items():\n",
    "    !mv {ec2_output_path}{old_name} {ec2_output_path}{new_name}\n",
    "    assert len(new_name)<100, \"new key should not exceed 100 characters\""
   ]
  },
  {
   "cell_type": "code",
   "execution_count": 9,
   "metadata": {},
   "outputs": [
    {
     "name": "stdout",
     "output_type": "stream",
     "text": [
      "Copying file:///volumes/data/Y2017M08D08_RH_Convert_Indicators_ASC_Geotiff_V02/output_V07//global_historical_droughtseveritystandardisedsoilmoisture_reduced_dimensionless_5min_1960_2014.tif [Content-Type=image/tiff]...\n",
      "Copying file:///volumes/data/Y2017M08D08_RH_Convert_Indicators_ASC_Geotiff_V02/output_V07//global_historical_q2seasonalvariabilitywatersupply_reduced_dimensionless_5min_1960-2014.tif [Content-Type=image/tiff]...\n",
      "Copying file:///volumes/data/Y2017M08D08_RH_Convert_Indicators_ASC_Geotiff_V02/output_V07//global_historical_droughtseveritystandardisedstreamflow_reduced_dimensionless_5min_1960_2014.tif [Content-Type=image/tiff]...\n",
      "Copying file:///volumes/data/Y2017M08D08_RH_Convert_Indicators_ASC_Geotiff_V02/output_V07//global_historical_q3seasonalvariabilitywatersupply_reduced_dimensionless_5min_1960-2014.tif [Content-Type=image/tiff]...\n",
      "Copying file:///volumes/data/Y2017M08D08_RH_Convert_Indicators_ASC_Geotiff_V02/output_V07//global_historical_q1seasonalvariabilitywatersupply_reduced_dimensionless_5min_1960-2014.tif [Content-Type=image/tiff]...\n",
      "Copying file:///volumes/data/Y2017M08D08_RH_Convert_Indicators_ASC_Geotiff_V02/output_V07//global_historical_q4seasonalvariabilitywatersupply_reduced_dimensionless_5min_1960-2014.tif [Content-Type=image/tiff]...\n",
      "Copying file:///volumes/data/Y2017M08D08_RH_Convert_Indicators_ASC_Geotiff_V02/output_V07//global_historical_interannualvariabilitywatersupply_reduced_dimensionless_5min_1960_2014.tif [Content-Type=image/tiff]...\n",
      "Copying file:///volumes/data/Y2017M08D08_RH_Convert_Indicators_ASC_Geotiff_V02/output_V07//global_historical_environmentalflows_reduced_m3second_5min_1960_2014.tif [Content-Type=image/tiff]...\n",
      "\\ [8/8 files][ 78.5 MiB/ 78.5 MiB] 100% Done                                    \n",
      "Operation completed over 8 objects/78.5 MiB.                                     \n"
     ]
    }
   ],
   "source": [
    "!gsutil -m cp \\\n",
    "{ec2_output_path}/*.tif \\\n",
    "{gcs_output_path}"
   ]
  },
  {
   "cell_type": "code",
   "execution_count": 10,
   "metadata": {},
   "outputs": [
    {
     "name": "stdout",
     "output_type": "stream",
     "text": [
      "upload: ../../../../data/Y2017M08D08_RH_Convert_Indicators_ASC_Geotiff_V02/output_V07/global_historical_interannualvariabilitywatersupply_reduced_dimensionless_5min_1960_2014.tif to s3://wri-projects/Aqueduct30/processData/Y2017M08D08_RH_Convert_Indicators_ASC_Geotiff_V02/output_V07/global_historical_interannualvariabilitywatersupply_reduced_dimensionless_5min_1960_2014.tif\n",
      "upload: ../../../../data/Y2017M08D08_RH_Convert_Indicators_ASC_Geotiff_V02/output_V07/global_historical_q1seasonalvariabilitywatersupply_reduced_dimensionless_5min_1960-2014.tif to s3://wri-projects/Aqueduct30/processData/Y2017M08D08_RH_Convert_Indicators_ASC_Geotiff_V02/output_V07/global_historical_q1seasonalvariabilitywatersupply_reduced_dimensionless_5min_1960-2014.tif\n",
      "upload: ../../../../data/Y2017M08D08_RH_Convert_Indicators_ASC_Geotiff_V02/output_V07/global_historical_environmentalflows_reduced_m3second_5min_1960_2014.tif to s3://wri-projects/Aqueduct30/processData/Y2017M08D08_RH_Convert_Indicators_ASC_Geotiff_V02/output_V07/global_historical_environmentalflows_reduced_m3second_5min_1960_2014.tif\n",
      "upload: ../../../../data/Y2017M08D08_RH_Convert_Indicators_ASC_Geotiff_V02/output_V07/global_historical_q3seasonalvariabilitywatersupply_reduced_dimensionless_5min_1960-2014.tif to s3://wri-projects/Aqueduct30/processData/Y2017M08D08_RH_Convert_Indicators_ASC_Geotiff_V02/output_V07/global_historical_q3seasonalvariabilitywatersupply_reduced_dimensionless_5min_1960-2014.tif\n",
      "upload: ../../../../data/Y2017M08D08_RH_Convert_Indicators_ASC_Geotiff_V02/output_V07/global_historical_q4seasonalvariabilitywatersupply_reduced_dimensionless_5min_1960-2014.tif to s3://wri-projects/Aqueduct30/processData/Y2017M08D08_RH_Convert_Indicators_ASC_Geotiff_V02/output_V07/global_historical_q4seasonalvariabilitywatersupply_reduced_dimensionless_5min_1960-2014.tif\n",
      "upload: ../../../../data/Y2017M08D08_RH_Convert_Indicators_ASC_Geotiff_V02/output_V07/global_historical_q2seasonalvariabilitywatersupply_reduced_dimensionless_5min_1960-2014.tif to s3://wri-projects/Aqueduct30/processData/Y2017M08D08_RH_Convert_Indicators_ASC_Geotiff_V02/output_V07/global_historical_q2seasonalvariabilitywatersupply_reduced_dimensionless_5min_1960-2014.tif\n",
      "upload: ../../../../data/Y2017M08D08_RH_Convert_Indicators_ASC_Geotiff_V02/output_V07/global_historical_droughtseveritystandardisedstreamflow_reduced_dimensionless_5min_1960_2014.tif to s3://wri-projects/Aqueduct30/processData/Y2017M08D08_RH_Convert_Indicators_ASC_Geotiff_V02/output_V07/global_historical_droughtseveritystandardisedstreamflow_reduced_dimensionless_5min_1960_2014.tif\n",
      "upload: ../../../../data/Y2017M08D08_RH_Convert_Indicators_ASC_Geotiff_V02/output_V07/global_historical_droughtseveritystandardisedsoilmoisture_reduced_dimensionless_5min_1960_2014.tif to s3://wri-projects/Aqueduct30/processData/Y2017M08D08_RH_Convert_Indicators_ASC_Geotiff_V02/output_V07/global_historical_droughtseveritystandardisedsoilmoisture_reduced_dimensionless_5min_1960_2014.tif\n"
     ]
    }
   ],
   "source": [
    "!aws s3 cp {ec2_output_path} {s3_output_path} --recursive"
   ]
  },
  {
   "cell_type": "code",
   "execution_count": 11,
   "metadata": {},
   "outputs": [
    {
     "name": "stdout",
     "output_type": "stream",
     "text": [
      "0:01:02.868362\n"
     ]
    }
   ],
   "source": [
    "end = datetime.datetime.now()\n",
    "elapsed = end - start\n",
    "print(elapsed)"
   ]
  },
  {
   "cell_type": "markdown",
   "metadata": {},
   "source": [
    "Previous Runs:  \n",
    "0:04:07.188513 (manual)  \n",
    "0:01:02.868362 "
   ]
  },
  {
   "cell_type": "code",
   "execution_count": null,
   "metadata": {
    "collapsed": true
   },
   "outputs": [],
   "source": []
  }
 ],
 "metadata": {
  "kernelspec": {
   "display_name": "Python 35",
   "language": "python",
   "name": "python35"
  },
  "language_info": {
   "codemirror_mode": {
    "name": "ipython",
    "version": 3
   },
   "file_extension": ".py",
   "mimetype": "text/x-python",
   "name": "python",
   "nbconvert_exporter": "python",
   "pygments_lexer": "ipython3",
   "version": "3.5.4"
  }
 },
 "nbformat": 4,
 "nbformat_minor": 2
}
