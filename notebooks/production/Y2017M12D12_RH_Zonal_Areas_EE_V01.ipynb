{
 "cells": [
  {
   "cell_type": "markdown",
   "metadata": {},
   "source": [
    "# Y2017M12D12_RH_Zonal_Areas_EE_V01\n",
    "\n",
    "* Purpose of script: create raster images with the area per basin at 5min and 30s resolution\n",
    "* Kernel used: python27\n",
    "* Date created: 20171212"
   ]
  },
  {
   "cell_type": "code",
   "execution_count": 1,
   "metadata": {},
   "outputs": [
    {
     "name": "stdout",
     "output_type": "stream",
     "text": [
      "('Y2017M12D12', 'UTC 16:46')\n"
     ]
    },
    {
     "data": {
      "text/plain": [
       "'2.7.13 |Continuum Analytics, Inc.| (default, Dec 20 2016, 23:09:15) \\n[GCC 4.4.7 20120313 (Red Hat 4.4.7-1)]'"
      ]
     },
     "execution_count": 1,
     "metadata": {},
     "output_type": "execute_result"
    }
   ],
   "source": [
    "import time, datetime, sys\n",
    "dateString = time.strftime(\"Y%YM%mD%d\")\n",
    "timeString = time.strftime(\"UTC %H:%M\")\n",
    "start = datetime.datetime.now()\n",
    "print(dateString,timeString)\n",
    "sys.version"
   ]
  },
  {
   "cell_type": "code",
   "execution_count": 2,
   "metadata": {
    "collapsed": true
   },
   "outputs": [],
   "source": [
    "EE_PATH = \"projects/WRI-Aquaduct/PCRGlobWB20V07\"\n",
    "\n",
    "SCRIPT_NAME = \"Y2017M12D12_RH_Zonal_Areas_EE_V01\"\n",
    "\n",
    "PFAF_LEVEL = 6\n",
    "\n",
    "OUTPUT_VERSION = 1\n",
    "\n",
    "\n",
    "CRS = \"EPSG:4326\""
   ]
  },
  {
   "cell_type": "code",
   "execution_count": 3,
   "metadata": {
    "collapsed": true
   },
   "outputs": [],
   "source": [
    "import ee\n",
    "import logging\n",
    "import pandas as pd\n",
    "import subprocess"
   ]
  },
  {
   "cell_type": "code",
   "execution_count": 4,
   "metadata": {
    "collapsed": true
   },
   "outputs": [],
   "source": [
    "ee.Initialize()"
   ]
  },
  {
   "cell_type": "code",
   "execution_count": 5,
   "metadata": {
    "collapsed": true
   },
   "outputs": [],
   "source": [
    "geometry = ee.Geometry.Polygon(coords=[[-180.0, -90.0], [180,  -90.0], [180, 90], [-180,90]], proj= ee.Projection('EPSG:4326'),geodesic=False )\n"
   ]
  },
  {
   "cell_type": "code",
   "execution_count": 6,
   "metadata": {
    "collapsed": true
   },
   "outputs": [],
   "source": [
    "area30s = ee.Image(\"%s/area_30s_m2V11\" %(EE_PATH))\n",
    "zones30s = ee.Image(\"%s/hybas_lev00_v1c_merged_fiona_30s_V01\" %(EE_PATH))\n",
    "zones30s = zones30s.divide(ee.Number(10).pow(ee.Number(12).subtract(PFAF_LEVEL))).floor().toInt64();\n",
    "crs30s = area30s.projection()"
   ]
  },
  {
   "cell_type": "code",
   "execution_count": 7,
   "metadata": {
    "collapsed": true
   },
   "outputs": [],
   "source": [
    "area5min = ee.Image(\"%s/area_5min_m2V11\" %(EE_PATH))\n",
    "zones5min = ee.Image(\"%s/hybas_lev00_v1c_merged_fiona_5min_V01\" %(EE_PATH))\n",
    "zones5min = zones5min.divide(ee.Number(10).pow(ee.Number(12).subtract(PFAF_LEVEL))).floor().toInt64();\n",
    "crs5min = area5min.projection()"
   ]
  },
  {
   "cell_type": "markdown",
   "metadata": {},
   "source": [
    "For the delineation of zones from 30s to 5min we used nearest neighbor in fiona and mode in Y2017M12D07_RH_ZonalStats_MaxQ_toImage_EE_V01. This might result in slightly different behavior. "
   ]
  },
  {
   "cell_type": "code",
   "execution_count": 8,
   "metadata": {
    "collapsed": true
   },
   "outputs": [],
   "source": [
    "zones5minMode = ee.Image(ee.ImageCollection(\"%s/global_historical_availableriverdischarge_year_millionm3_5minPfaf6_1960_2014\"%(EE_PATH) ).first()).select([\"zones_mode_pfaf6\"])"
   ]
  },
  {
   "cell_type": "code",
   "execution_count": 9,
   "metadata": {
    "collapsed": true
   },
   "outputs": [],
   "source": [
    "def ensure_default_properties(obj): \n",
    "    obj = ee.Dictionary(obj)\n",
    "    default_properties = ee.Dictionary({\"mean\": -9999,\"count\": -9999})\n",
    "    return default_properties.combine(obj)\n",
    "\n",
    "def mapList(results, key):\n",
    "    newResult = results.map(lambda x: ee.Dictionary(x).get(key))\n",
    "    return newResult\n",
    "\n",
    "\n",
    "def zonalStatsToRaster(image,zonesImage,geometry,maxPixels,reducerType):\n",
    "    # reducertype can be mean, max, sum, first. Count is always included for QA\n",
    "    # the resolution of the zonesimage is used for scale\n",
    "\n",
    "    reducer = ee.Algorithms.If(ee.Algorithms.IsEqual(reducerType,\"mean\"),ee.Reducer.mean(),\n",
    "    ee.Algorithms.If(ee.Algorithms.IsEqual(reducerType,\"max\"),ee.Reducer.max(),\n",
    "    ee.Algorithms.If(ee.Algorithms.IsEqual(reducerType,\"sum\"),ee.Reducer.sum(),\n",
    "    ee.Algorithms.If(ee.Algorithms.IsEqual(reducerType,\"first\"),ee.Reducer.first(),\n",
    "    ee.Algorithms.If(ee.Algorithms.IsEqual(reducerType,\"mode\"),ee.Reducer.mode(),\"error\"))))\n",
    "    )\n",
    "    reducer = ee.Reducer(reducer).combine(reducer2= ee.Reducer.count(), sharedInputs= True).group(groupField=1, groupName=\"zones\") \n",
    "\n",
    "    scale = zonesImage.projection().nominalScale().getInfo()\n",
    "    zonesImage = zonesImage.select(zonesImage.bandNames(),[\"zones\"])\n",
    "\n",
    "    totalImage = ee.Image(image).addBands(zonesImage)\n",
    "    resultsList = ee.List(totalImage.reduceRegion(\n",
    "        geometry= geometry, \n",
    "        reducer= reducer,\n",
    "        scale= scale,\n",
    "        maxPixels=maxPixels\n",
    "        ).get(\"groups\"))\n",
    "\n",
    "    resultsList = resultsList.map(ensure_default_properties); \n",
    "    zoneList = mapList(resultsList, 'zones');\n",
    "    countList = mapList(resultsList, 'count');\n",
    "    valueList = mapList(resultsList, reducerType);\n",
    "\n",
    "    valueImage = zonesImage.remap(zoneList, valueList).select([\"remapped\"],[reducerType])\n",
    "    countImage = zonesImage.remap(zoneList, countList).select([\"remapped\"],[\"count\"])\n",
    "    newImage = zonesImage.addBands(countImage).addBands(valueImage)\n",
    "    return newImage,zoneList,valueList,countList\n",
    "\n",
    "def exportAsset(imageOut,imageName,dimensions,properties):\n",
    "    assetID = \"%s/%sV%0.2d\"  %(EE_PATH,imageName,OUTPUT_VERSION) \n",
    "    imageOut = imageOut.set(properties)\n",
    "    task = ee.batch.Export.image.toAsset(\n",
    "        image =  ee.Image(imageOut),\n",
    "        description = imageName,\n",
    "        assetId = assetID,\n",
    "        dimensions = dimensions,\n",
    "        crs = CRS,\n",
    "        crsTransform = imageOut.projection().getInfo()[\"transform\"],\n",
    "        maxPixels = 1e10     \n",
    "    )\n",
    "    print(assetID)\n",
    "    task.start()\n"
   ]
  },
  {
   "cell_type": "code",
   "execution_count": 10,
   "metadata": {
    "collapsed": true
   },
   "outputs": [],
   "source": [
    "area30sBasin,zoneList,valueList,countList =  zonalStatsToRaster(area30s,zones30s,geometry,1e10,\"sum\")"
   ]
  },
  {
   "cell_type": "code",
   "execution_count": 11,
   "metadata": {
    "collapsed": true
   },
   "outputs": [],
   "source": [
    "area5minBasin,zoneList,valueList,countList =  zonalStatsToRaster(area5min,zones5min,geometry,1e10,\"sum\")"
   ]
  },
  {
   "cell_type": "code",
   "execution_count": 12,
   "metadata": {
    "collapsed": true
   },
   "outputs": [],
   "source": [
    "area5minBasinMode,zoneList,valueList,countList =  zonalStatsToRaster(area5min,zones5minMode,geometry,1e10,\"sum\")"
   ]
  },
  {
   "cell_type": "code",
   "execution_count": null,
   "metadata": {
    "collapsed": true
   },
   "outputs": [],
   "source": []
  },
  {
   "cell_type": "code",
   "execution_count": 13,
   "metadata": {
    "collapsed": true
   },
   "outputs": [],
   "source": [
    "properties = {\"script_used\":SCRIPT_NAME,\"ingested_by\":\"RutgerHofste\",\"units\":\"m2\",\"version\":OUTPUT_VERSION}"
   ]
  },
  {
   "cell_type": "code",
   "execution_count": 14,
   "metadata": {},
   "outputs": [
    {
     "name": "stdout",
     "output_type": "stream",
     "text": [
      "projects/WRI-Aquaduct/PCRGlobWB20V07/area_30spfaf06_m2_V01V01\n"
     ]
    }
   ],
   "source": [
    "exportAsset(area30sBasin,\"area_30spfaf%0.2d_m2_V%0.2d\" %(PFAF_LEVEL,OUTPUT_VERSION),\"43200x21600\",properties)"
   ]
  },
  {
   "cell_type": "code",
   "execution_count": 15,
   "metadata": {},
   "outputs": [
    {
     "name": "stdout",
     "output_type": "stream",
     "text": [
      "projects/WRI-Aquaduct/PCRGlobWB20V07/area_5minpfaf06_m2_V01V01\n"
     ]
    }
   ],
   "source": [
    "exportAsset(area5minBasin,\"area_5minpfaf%0.2d_m2_V%0.2d\" %(PFAF_LEVEL,OUTPUT_VERSION),\"4320x2160\",properties)"
   ]
  },
  {
   "cell_type": "code",
   "execution_count": 16,
   "metadata": {},
   "outputs": [
    {
     "name": "stdout",
     "output_type": "stream",
     "text": [
      "projects/WRI-Aquaduct/PCRGlobWB20V07/area_5minpfaf06Mode_m2_V01V01\n"
     ]
    }
   ],
   "source": [
    "exportAsset(area5minBasinMode,\"area_5minpfaf%0.2dMode_m2_V%0.2d\" %(PFAF_LEVEL,OUTPUT_VERSION),\"4320x2160\",properties)"
   ]
  },
  {
   "cell_type": "code",
   "execution_count": null,
   "metadata": {
    "collapsed": true
   },
   "outputs": [],
   "source": [
    "end = datetime.datetime.now()\n",
    "elapsed = end - start\n",
    "print(elapsed)"
   ]
  }
 ],
 "metadata": {
  "kernelspec": {
   "display_name": "Python 27",
   "language": "python",
   "name": "python27"
  },
  "language_info": {
   "codemirror_mode": {
    "name": "ipython",
    "version": 2
   },
   "file_extension": ".py",
   "mimetype": "text/x-python",
   "name": "python",
   "nbconvert_exporter": "python",
   "pygments_lexer": "ipython2",
   "version": "2.7.14"
  }
 },
 "nbformat": 4,
 "nbformat_minor": 2
}
