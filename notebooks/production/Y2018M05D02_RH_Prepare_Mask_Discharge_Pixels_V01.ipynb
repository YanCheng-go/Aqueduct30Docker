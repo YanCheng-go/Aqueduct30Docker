{
 "cells": [
  {
   "cell_type": "code",
   "execution_count": 1,
   "metadata": {},
   "outputs": [
    {
     "name": "stdout",
     "output_type": "stream",
     "text": [
      "Output ee: projects/WRI-Aquaduct/Y2018M05D02_RH_Prepare_Mask_Discharge_Pixels_V01/output_V02\n"
     ]
    }
   ],
   "source": [
    "\"\"\" Find the pixels to mask within each basin to use for river discharge. \n",
    "-------------------------------------------------------------------------------\n",
    "\n",
    "The riverdischarge data from PCRGLOBWB is cummulative runoff. The available\n",
    "discharge is the maximum discharge with a few exceptions. These exceptions\n",
    "occur as a result of a mismatch of the PCRGLOBWB local drainage direction and\n",
    "the hydrobasin level 6 subbasins. \n",
    "\n",
    "- A basin has a few cells that belong to another stream, \n",
    "    often close to the most downstream pixel.\n",
    "- A basin has a few cells that are an endorheic upstream basin.\n",
    "\n",
    "There are several subbasin types:\n",
    "\n",
    "1) Large stream in only one cell. perpendicular contributing areas. \n",
    "    e.g.: 172265.\n",
    "2) Large stream in a few cells, perpendicular contributing areas. \n",
    "    e.g.: 172263.\n",
    "3) Tiny basin smaller than one 5min cell.\n",
    "    e.g.: 172261.\n",
    "4) Large basin with main stream.\n",
    "    e.g.: 172250.\n",
    "5) Large basin with main stream and other stream in most downstream cell. \n",
    "    e.g.: 172306.\n",
    "6) Small basin with a confluence within basin. Stream_order increases in most \n",
    "    downstream cell but is part of basin. \n",
    "    e.g.: 172521.\n",
    "7) Basin with an endorheac basin in one of its upstream cells.\n",
    "    e.g.: 172144.\n",
    "8) Large basin with main stream and other stream with large flow but lower \n",
    "    stream order.\n",
    "    e.g.: To be found. \n",
    "    \n",
    "The cell of highest streamorder will be masked for 5) and 7)\n",
    "No mask will be applied to the other categories. \n",
    "\n",
    "\n",
    "\n",
    "Author: Rutger Hofste\n",
    "Date: 20180502\n",
    "Kernel: python35\n",
    "Docker: rutgerhofste/gisdocker:ubuntu16.04\n",
    "\n",
    "Args:\n",
    "\n",
    "    SCRIPT_NAME (string) : Script name.\n",
    "    OUTPUT_VERSION (integer) : Output version.\n",
    "\n",
    "          \n",
    "\n",
    "\n",
    "Returns:\n",
    "\n",
    "\n",
    "\"\"\"\n",
    "\n",
    "# Input Parameters\n",
    "TESTING = 0\n",
    "SCRIPT_NAME = \"Y2018M05D02_RH_Prepare_Mask_Discharge_Pixels_V01\"\n",
    "STREAM_ORDER_ASSET_ID = \"projects/WRI-Aquaduct/Y2018M04D25_RH_Ingest_Pcraster_GCS_EE_V01/output_V01/global_streamorder_dimensionless_05min_V02\"\n",
    "HYBAS_LEV06_30S_ASSET_ID = \"projects/WRI-Aquaduct/Y2018M04D20_RH_Ingest_HydroBasins_GCS_EE_V01/output_V02/hybas_lev06_v1c_merged_fiona_30s_V04\"\n",
    "AREA_M2_30S_ASSET_ID = \"projects/WRI-Aquaduct/Y2017M09D05_RH_Create_Area_Image_EE_V01/output_V07/global_area_m2_30s_V07\"\n",
    "OUTPUT_VERSION = 2\n",
    "\n",
    "COUNT_AREA_THRESHOLD_30S = 1000 # corresponds to 10 5min cells\n",
    "SUM_MAX_STREAMORDER_THRESHOLD_30S = 150 # corresponds to 1.5 5min cells\n",
    "\n",
    "SCHEMA = [\"geographic_range\",\n",
    "      \"indicator\",\n",
    "      \"unit\",\n",
    "      \"spatial_resolution\",\n",
    "      ]\n",
    "\n",
    "EXTRA_PROPERTIES = {\"nodata_value\":-9999,\n",
    "                    \"ingested_by\" : \"RutgerHofste\",\n",
    "                    \"script_used\": SCRIPT_NAME,\n",
    "                    \"output_version\":OUTPUT_VERSION}\n",
    "\n",
    "ee_output_path = \"projects/WRI-Aquaduct/{}/output_V{:02.0f}\".format(SCRIPT_NAME,OUTPUT_VERSION)\n",
    "\n",
    "print(\"Output ee: \" +  ee_output_path)\n"
   ]
  },
  {
   "cell_type": "code",
   "execution_count": 2,
   "metadata": {},
   "outputs": [
    {
     "name": "stdout",
     "output_type": "stream",
     "text": [
      "Y2018M05D03 UTC 15:07\n"
     ]
    },
    {
     "data": {
      "text/plain": [
       "'3.5.4 |Anaconda, Inc.| (default, Nov 20 2017, 18:44:38) \\n[GCC 7.2.0]'"
      ]
     },
     "execution_count": 2,
     "metadata": {},
     "output_type": "execute_result"
    }
   ],
   "source": [
    "import time, datetime, sys, logging\n",
    "dateString = time.strftime(\"Y%YM%mD%d\")\n",
    "timeString = time.strftime(\"UTC %H:%M\")\n",
    "start = datetime.datetime.now()\n",
    "print(dateString,timeString)\n",
    "sys.version"
   ]
  },
  {
   "cell_type": "code",
   "execution_count": 3,
   "metadata": {
    "collapsed": true
   },
   "outputs": [],
   "source": [
    "import pandas as pd\n",
    "import ee\n",
    "import aqueduct3\n",
    "ee.Initialize()"
   ]
  },
  {
   "cell_type": "code",
   "execution_count": 4,
   "metadata": {},
   "outputs": [],
   "source": [
    "def master(i_zones,i_values,geometry,crs_transform,statistic_type,extra_properties):\n",
    "    result_list = aqueduct3.earthengine.raster_zonal_stats(\n",
    "                                            i_zones = i_zones,\n",
    "                                            i_values = i_values,\n",
    "                                            statistic_type = statistic_type,\n",
    "                                            geometry = geometry_server_side,\n",
    "                                            crs_transform = crs_transform,\n",
    "                                            crs=\"EPSG:4326\")\n",
    "    i_result, i_count = aqueduct3.earthengine.zonal_stats_results_to_image(result_list,i_zones,statistic_type)\n",
    "    \n",
    "    i_dummy_result_properties = aqueduct3.earthengine.zonal_stats_image_propertes(i_zones,i_values,extra_properties,zones_prefix=\"zones_\",values_prefix=\"values_\")\n",
    "    \n",
    "    i_result = i_result.multiply(1) #Deletes old properties\n",
    "    i_result = i_result.copyProperties(i_dummy_result_properties)\n",
    "    \n",
    "    return i_result, i_count\n",
    "    \n",
    "    "
   ]
  },
  {
   "cell_type": "code",
   "execution_count": 5,
   "metadata": {},
   "outputs": [],
   "source": [
    "\n",
    "# Geospatial constants\n",
    "spatial_resolution = \"30s\"\n",
    "geometry_server_side = aqueduct3.earthengine.get_global_geometry(test=TESTING)\n",
    "geometry_client_side = geometry_server_side.getInfo()['coordinates']\n",
    "crs_transform = aqueduct3.earthengine.get_crs_transform(spatial_resolution)\n",
    "\n",
    "# Zones and values images\n",
    "i_zones = ee.Image(HYBAS_LEV06_30S_ASSET_ID)\n",
    "i_global_area_m2_30s = ee.Image(AREA_M2_30S_ASSET_ID)\n",
    "i_global_streamorder = ee.Image(STREAM_ORDER_ASSET_ID)\n",
    "\n",
    "\n",
    "# Zonal Stats\n",
    "output_dict = {}\n",
    "\n",
    "output_dict[\"global_sum_area_m2_30sPfaf06\"], output_dict[\"global_count_area_dimensionless_30sPfaf06\"] = master(i_zones,i_global_area_m2_30s,geometry_client_side,crs_transform,\"sum\",{})\n",
    "output_dict[\"global_max_streamorder_dimensionless_30sPfaf06\"], output_dict[\"global_count_streamorder_dimensionless_30sPfaf06\"] = master(i_zones,i_global_streamorder,geometry_client_side,crs_transform,\"max\",{})\n",
    "\n",
    "# Find pixels @30s where stream_order == max_streamorder\n",
    "output_dict[\"global_max_streamorder_mask_30sPfaf06\"] = ee.Image(output_dict[\"global_max_streamorder_dimensionless_30sPfaf06\"]).eq(i_global_streamorder)\n",
    "output_dict[\"global_max_streamorder_mask_30sPfaf06\"] = output_dict[\"global_max_streamorder_mask_30sPfaf06\"].copyProperties(output_dict[\"global_max_streamorder_dimensionless_30sPfaf06\"])\n",
    "output_dict[\"global_max_streamorder_mask_30sPfaf06\"] = output_dict[\"global_max_streamorder_mask_30sPfaf06\"].set({\"mask\":\"streamorder equals max streamorder\"})\n",
    "\n",
    "# Sum of max_streamorder @30s. Number of cells with maximum streamorder\n",
    "output_dict[\"global_sum_maxStreamorder_dimensionless_30sPfaf06\"], output_dict[\"global_count_maxStreamorder_dimensionless_30sPfaf06\"] = master(i_zones,output_dict[\"global_max_streamorder_mask_30sPfaf06\"],geometry_client_side,crs_transform,\"sum\",{})\n",
    "\n",
    "\n"
   ]
  },
  {
   "cell_type": "code",
   "execution_count": 6,
   "metadata": {},
   "outputs": [
    {
     "name": "stdout",
     "output_type": "stream",
     "text": [
      "earthengine create folder projects/WRI-Aquaduct/Y2018M05D02_RH_Prepare_Mask_Discharge_Pixels_V01 b'Asset projects/WRI-Aquaduct/Y2018M05D02_RH_Prepare_Mask_Discharge_Pixels_V01 already exists\\n'\n",
      "earthengine create folder projects/WRI-Aquaduct/Y2018M05D02_RH_Prepare_Mask_Discharge_Pixels_V01/output_V02 b''\n",
      "global_max_streamorder_dimensionless_30sPfaf06\n",
      "global_sum_area_m2_30sPfaf06\n",
      "global_count_maxStreamorder_dimensionless_30sPfaf06\n",
      "global_max_streamorder_mask_30sPfaf06\n",
      "global_count_area_dimensionless_30sPfaf06\n",
      "global_count_streamorder_dimensionless_30sPfaf06\n",
      "global_sum_maxStreamorder_dimensionless_30sPfaf06\n"
     ]
    }
   ],
   "source": [
    "result = aqueduct3.earthengine.create_ee_folder_recursive(ee_output_path)\n",
    "\n",
    "for key, value in output_dict.items():\n",
    "    print(key)\n",
    "    image = ee.Image(value)\n",
    "    image = image.setMulti(EXTRA_PROPERTIES)\n",
    "    description = key    \n",
    "    output_asset_id = \"{}/{}\".format(ee_output_path,key)\n",
    "    \n",
    "    task = ee.batch.Export.image.toAsset(\n",
    "        image =  image,\n",
    "        assetId = output_asset_id,\n",
    "        region = geometry_client_side,\n",
    "        description = description,\n",
    "        #dimensions = dimensions,\n",
    "        crs = \"EPSG:4326\",\n",
    "        crsTransform = crs_transform,\n",
    "        maxPixels = 1e10     \n",
    "    )\n",
    "    task.start()\n",
    "    \n",
    "    "
   ]
  },
  {
   "cell_type": "code",
   "execution_count": null,
   "metadata": {
    "collapsed": true
   },
   "outputs": [],
   "source": []
  },
  {
   "cell_type": "code",
   "execution_count": 7,
   "metadata": {},
   "outputs": [],
   "source": [
    "\"\"\"\n",
    "i_count_area_mask = output_dict[\"count_area\"].gt(COUNT_AREA_THRESHOLD_30S)\n",
    "i_count_area_mask = i_count_area_mask.copyProperties(output_dict[\"count_area\"],properties=[\"reducer\",\"unit\",\"zones\",\"spatial_resolution\",\"indicator\"])\n",
    "i_count_area_mask = ee.Image(i_count_area_mask)\n",
    "\n",
    "i_sum_max_streamorder_mask = i_sum_max_streamorder.lt(SUM_MAX_STREAMORDER_THRESHOLD_30S)\n",
    "i_sum_max_streamorder_mask = i_sum_max_streamorder_mask.copyProperties(i_sum_max_streamorder,properties=[\"reducer\",\"unit\",\"zones\",\"spatial_resolution\",\"indicator\"])\n",
    "\n",
    "\n",
    "i_mask = i_count_area_mask.multiply(i_sum_max_streamorder_mask)\n",
    "\"\"\"\n",
    "pass"
   ]
  },
  {
   "cell_type": "code",
   "execution_count": 8,
   "metadata": {},
   "outputs": [
    {
     "name": "stdout",
     "output_type": "stream",
     "text": [
      "0:00:18.540335\n"
     ]
    }
   ],
   "source": [
    "end = datetime.datetime.now()\n",
    "elapsed = end - start\n",
    "print(elapsed)"
   ]
  },
  {
   "cell_type": "markdown",
   "metadata": {},
   "source": [
    "Previous Runs:  \n"
   ]
  }
 ],
 "metadata": {
  "kernelspec": {
   "display_name": "Python 35",
   "language": "python",
   "name": "python35"
  },
  "language_info": {
   "codemirror_mode": {
    "name": "ipython",
    "version": 3
   },
   "file_extension": ".py",
   "mimetype": "text/x-python",
   "name": "python",
   "nbconvert_exporter": "python",
   "pygments_lexer": "ipython3",
   "version": "3.5.4"
  }
 },
 "nbformat": 4,
 "nbformat_minor": 2
}
