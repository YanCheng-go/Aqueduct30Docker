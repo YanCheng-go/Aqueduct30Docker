{
 "cells": [
  {
   "cell_type": "code",
   "execution_count": 1,
   "metadata": {},
   "outputs": [
    {
     "name": "stdout",
     "output_type": "stream",
     "text": [
      "Input ec2: /volumes/data/Y2017M08D23_RH_Buffer_FAONames_V01/input_V02 \n",
      "Input s3: s3://wri-projects/Aqueduct30/processData/Y2017M08D23_RH_Merge_FAONames_V01/output_V02/ \n",
      "Output ec2: /volumes/data/Y2017M08D23_RH_Buffer_FAONames_V01/output_V02 \n",
      "Output s3: s3://wri-projects/Aqueduct30/processData/Y2017M08D23_RH_Buffer_FAONames_V01/output_V02/\n"
     ]
    }
   ],
   "source": [
    "\"\"\" Create a negative buffer for the FAO basins to avoid sliver polygons.\n",
    "-------------------------------------------------------------------------------\n",
    "Buffer FAO Names hydrobasins to avoid assigning names to basins that only \n",
    "slightly touch other polygons\n",
    "\n",
    "Author: Rutger Hofste\n",
    "Date: 20170823\n",
    "Kernel: python35\n",
    "Docker: rutgerhofste/gisdocker:ubuntu16.04\n",
    "\n",
    "Args:\n",
    "    TESTING (Boolean) : Toggle testing case.\n",
    "    SCRIPT_NAME (string) : Script name.\n",
    "    OUTPUT_VERSION (integer) : output version.\n",
    "    DATABASE_ENDPOINT (string) : RDS or postGreSQL endpoint.\n",
    "    DATABASE_NAME (string) : Database name.\n",
    "    TABLE_NAME_AREA_30SPFAF06 (string) : Table name used for areas. Must exist\n",
    "        on same database as used in rest of script.\n",
    "    S3_INPUT_PATH_RIVERDISCHARGE (string) : AWS S3 input path for \n",
    "        riverdischarge.    \n",
    "    S3_INPUT_PATH_DEMAND (string) : AWS S3 input path for \n",
    "        demand.    \n",
    "\n",
    "\"\"\"\n",
    "\n",
    "SCRIPT_NAME = \"Y2017M08D23_RH_Buffer_FAONames_V01\"\n",
    "OUTPUT_VERSION = 2\n",
    "\n",
    "BUFFERDIST = -0.002 # Buffer distance in Degrees, set so that 15 arc s will not cause any problems with a negative number\n",
    "RESOLUTION = 3 # number of point per quarter arc\n",
    "TESTING = 0\n",
    "INDEX = 0\n",
    "\n",
    "S3_INPUT_PATH = \"s3://wri-projects/Aqueduct30/processData/Y2017M08D23_RH_Merge_FAONames_V01/output_V02/\"\n",
    "\n",
    "INPUT_FILE_NAME = \"hydrobasins_fao_fiona_merged_v01.shp\"\n",
    "OUTPUT_FILE_NAME = \"hydrobasins_fao_fiona_merged_buffered_v01.shp\"\n",
    "OUTPUT_FILE_NAME_PROJ = \"hydrobasins_fao_fiona_merged_buffered_v01_backup.prj\"\n",
    "\n",
    "ec2_input_path = \"/volumes/data/{}/input_V{:02.0f}\".format(SCRIPT_NAME,OUTPUT_VERSION)\n",
    "ec2_output_path = \"/volumes/data/{}/output_V{:02.0f}\".format(SCRIPT_NAME,OUTPUT_VERSION)\n",
    "s3_input_path = \"s3://wri-projects/Aqueduct30/processData/{}/input_V{:02.0f}/\".format(SCRIPT_NAME,OUTPUT_VERSION)\n",
    "s3_output_path = \"s3://wri-projects/Aqueduct30/processData/{}/output_V{:02.0f}/\".format(SCRIPT_NAME,OUTPUT_VERSION)\n",
    "\n",
    "print(\"Input ec2: \" + ec2_input_path,\n",
    "      \"\\nInput s3: \" + S3_INPUT_PATH ,\n",
    "      \"\\nOutput ec2: \" + ec2_output_path,\n",
    "      \"\\nOutput s3: \" + s3_output_path)\n",
    "\n"
   ]
  },
  {
   "cell_type": "code",
   "execution_count": 2,
   "metadata": {},
   "outputs": [
    {
     "name": "stdout",
     "output_type": "stream",
     "text": [
      "Y2018M05D24 UTC 10:15\n"
     ]
    },
    {
     "data": {
      "text/plain": [
       "'3.5.4 |Anaconda, Inc.| (default, Nov 20 2017, 18:44:38) \\n[GCC 7.2.0]'"
      ]
     },
     "execution_count": 2,
     "metadata": {},
     "output_type": "execute_result"
    }
   ],
   "source": [
    "import time, datetime, sys\n",
    "dateString = time.strftime(\"Y%YM%mD%d\")\n",
    "timeString = time.strftime(\"UTC %H:%M\")\n",
    "start = datetime.datetime.now()\n",
    "print(dateString,timeString)\n",
    "sys.version"
   ]
  },
  {
   "cell_type": "code",
   "execution_count": 3,
   "metadata": {},
   "outputs": [],
   "source": [
    "!rm -r {ec2_input_path}\n",
    "!rm -r {ec2_output_path}\n",
    "\n",
    "!mkdir -p {ec2_input_path}\n",
    "!mkdir -p {ec2_output_path}"
   ]
  },
  {
   "cell_type": "code",
   "execution_count": 4,
   "metadata": {},
   "outputs": [],
   "source": [
    "!aws s3 cp {S3_INPUT_PATH} {ec2_input_path} --recursive --quiet"
   ]
  },
  {
   "cell_type": "code",
   "execution_count": 5,
   "metadata": {
    "collapsed": true
   },
   "outputs": [],
   "source": [
    "import os\n",
    "if 'GDAL_DATA' not in os.environ:\n",
    "    os.environ['GDAL_DATA'] = r'/usr/share/gdal/2.1'\n",
    "from osgeo import gdal,ogr,osr\n",
    "'GDAL_DATA' in os.environ\n",
    "# If false, the GDAL_DATA variable is set incorrectly. You need this variable to obtain the spatial reference\n",
    "import pandas as pd\n",
    "import geopandas as gpd\n",
    "import matplotlib.pyplot as plt\n",
    "import time\n",
    "%matplotlib notebook\n",
    "\n",
    "from shapely.wkt import loads\n",
    "from shapely.geometry import Point\n"
   ]
  },
  {
   "cell_type": "code",
   "execution_count": 6,
   "metadata": {},
   "outputs": [],
   "source": [
    "INPUTSHP = os.path.join(ec2_input_path,INPUT_FILE_NAME)\n",
    "OUTPUTSHP = os.path.join(ec2_output_path,OUTPUT_FILE_NAME)\n",
    "\n",
    "# This function can be optimized in the future by using: https://gis.stackexchange.com/questions/253224/geopandas-buffer-using-geodataframe-while-maintaining-the-dataframe\n",
    "def buffer(INPUTSHP,BUFFERDIST,RESOLUTION,OUTPUTSHP):\n",
    "    #INPUTSHP path to shapefile\n",
    "    #INDEX name of index column, can be set to None if you want geopandas to create a new index column. Index must be unique\n",
    "    #BUFFERDIST buffer distance in degrees,can also be negative\n",
    "    #RESOLUTION number of points per quarter circle. See shapely / geopandas docs for documentation\n",
    "    #OUTPUTSHP path to output shapefile\n",
    "    print(\"1/3 Reading file: \", INPUTSHP)\n",
    "    gdf =  gpd.read_file(INPUTSHP)\n",
    "    try:\n",
    "        gdf = gdf.set_index(INDEX)\n",
    "        gdf['index_copy'] = gdf.index\n",
    "        \n",
    "    except:\n",
    "        gdf['index1'] = gdf.index\n",
    "        gdf['index_copy'] = gdf['index1']\n",
    "        \n",
    "    dfIn = gdf\n",
    "    dfIn = dfIn.drop('geometry',1)\n",
    "    print(\"2/3 Creating buffer\")\n",
    "    gsBuffer = gdf['geometry'].buffer(BUFFERDIST,resolution=RESOLUTION)\n",
    "    gdfBuffer =gpd.GeoDataFrame(geometry=gsBuffer)\n",
    "    gdfBuffer['index_copy'] = gdfBuffer.index\n",
    "    gsArea = gdfBuffer.geometry.area\n",
    "    dfArea = pd.DataFrame(gsArea)\n",
    "    dfArea.columns = ['area']\n",
    "    dfArea['index_copy'] = dfArea.index\n",
    "    dfValidArea = dfArea.loc[dfArea['area'] > 0]\n",
    "    dfInValidArea = dfArea.loc[dfArea['area'] <= 0]\n",
    "    gdfTemp = gdfBuffer.merge(dfValidArea,how=\"inner\",on=\"index_copy\")\n",
    "    gdfOut = gdfTemp.merge(dfIn,how=\"left\",on=\"index_copy\")\n",
    "    gdfOut = gdfOut.set_index(\"index_copy\")\n",
    "    print(\"3/3 Writing output\")\n",
    "    gdfOut.to_file(OUTPUTSHP)\n",
    "    print(\"file saved to: \",OUTPUTSHP)    \n",
    "    return dfInValidArea    "
   ]
  },
  {
   "cell_type": "code",
   "execution_count": 7,
   "metadata": {},
   "outputs": [
    {
     "name": "stdout",
     "output_type": "stream",
     "text": [
      "1/3 Reading file:  /volumes/data/Y2017M08D23_RH_Buffer_FAONames_V01/input_V02/hydrobasins_fao_fiona_merged_v01.shp\n",
      "2/3 Creating buffer\n",
      "3/3 Writing output\n",
      "file saved to:  /volumes/data/Y2017M08D23_RH_Buffer_FAONames_V01/output_V02/hydrobasins_fao_fiona_merged_buffered_v01.shp\n"
     ]
    }
   ],
   "source": [
    "dfInValidArea = buffer(INPUTSHP,BUFFERDIST,RESOLUTION,OUTPUTSHP)"
   ]
  },
  {
   "cell_type": "code",
   "execution_count": 8,
   "metadata": {
    "collapsed": true
   },
   "outputs": [],
   "source": [
    "!aws s3 cp {ec2_output_path} {s3_output_path} --recursive --quiet"
   ]
  },
  {
   "cell_type": "markdown",
   "metadata": {},
   "source": [
    "The following polygons were removed from the dataset"
   ]
  },
  {
   "cell_type": "code",
   "execution_count": 9,
   "metadata": {},
   "outputs": [
    {
     "data": {
      "text/html": [
       "<div>\n",
       "<style scoped>\n",
       "    .dataframe tbody tr th:only-of-type {\n",
       "        vertical-align: middle;\n",
       "    }\n",
       "\n",
       "    .dataframe tbody tr th {\n",
       "        vertical-align: top;\n",
       "    }\n",
       "\n",
       "    .dataframe thead th {\n",
       "        text-align: right;\n",
       "    }\n",
       "</style>\n",
       "<table border=\"1\" class=\"dataframe\">\n",
       "  <thead>\n",
       "    <tr style=\"text-align: right;\">\n",
       "      <th></th>\n",
       "      <th>area</th>\n",
       "      <th>index_copy</th>\n",
       "    </tr>\n",
       "  </thead>\n",
       "  <tbody>\n",
       "    <tr>\n",
       "      <th>21219</th>\n",
       "      <td>0.0</td>\n",
       "      <td>21219</td>\n",
       "    </tr>\n",
       "    <tr>\n",
       "      <th>30621</th>\n",
       "      <td>0.0</td>\n",
       "      <td>30621</td>\n",
       "    </tr>\n",
       "    <tr>\n",
       "      <th>30624</th>\n",
       "      <td>0.0</td>\n",
       "      <td>30624</td>\n",
       "    </tr>\n",
       "    <tr>\n",
       "      <th>30640</th>\n",
       "      <td>0.0</td>\n",
       "      <td>30640</td>\n",
       "    </tr>\n",
       "    <tr>\n",
       "      <th>30648</th>\n",
       "      <td>0.0</td>\n",
       "      <td>30648</td>\n",
       "    </tr>\n",
       "    <tr>\n",
       "      <th>30665</th>\n",
       "      <td>0.0</td>\n",
       "      <td>30665</td>\n",
       "    </tr>\n",
       "    <tr>\n",
       "      <th>30829</th>\n",
       "      <td>0.0</td>\n",
       "      <td>30829</td>\n",
       "    </tr>\n",
       "    <tr>\n",
       "      <th>30968</th>\n",
       "      <td>0.0</td>\n",
       "      <td>30968</td>\n",
       "    </tr>\n",
       "    <tr>\n",
       "      <th>31012</th>\n",
       "      <td>0.0</td>\n",
       "      <td>31012</td>\n",
       "    </tr>\n",
       "    <tr>\n",
       "      <th>31239</th>\n",
       "      <td>0.0</td>\n",
       "      <td>31239</td>\n",
       "    </tr>\n",
       "    <tr>\n",
       "      <th>31314</th>\n",
       "      <td>0.0</td>\n",
       "      <td>31314</td>\n",
       "    </tr>\n",
       "    <tr>\n",
       "      <th>31450</th>\n",
       "      <td>0.0</td>\n",
       "      <td>31450</td>\n",
       "    </tr>\n",
       "    <tr>\n",
       "      <th>31541</th>\n",
       "      <td>0.0</td>\n",
       "      <td>31541</td>\n",
       "    </tr>\n",
       "    <tr>\n",
       "      <th>31618</th>\n",
       "      <td>0.0</td>\n",
       "      <td>31618</td>\n",
       "    </tr>\n",
       "  </tbody>\n",
       "</table>\n",
       "</div>"
      ],
      "text/plain": [
       "       area  index_copy\n",
       "21219   0.0       21219\n",
       "30621   0.0       30621\n",
       "30624   0.0       30624\n",
       "30640   0.0       30640\n",
       "30648   0.0       30648\n",
       "30665   0.0       30665\n",
       "30829   0.0       30829\n",
       "30968   0.0       30968\n",
       "31012   0.0       31012\n",
       "31239   0.0       31239\n",
       "31314   0.0       31314\n",
       "31450   0.0       31450\n",
       "31541   0.0       31541\n",
       "31618   0.0       31618"
      ]
     },
     "execution_count": 9,
     "metadata": {},
     "output_type": "execute_result"
    }
   ],
   "source": [
    "dfInValidArea"
   ]
  },
  {
   "cell_type": "code",
   "execution_count": 10,
   "metadata": {},
   "outputs": [
    {
     "name": "stdout",
     "output_type": "stream",
     "text": [
      "0:02:49.129215\n"
     ]
    }
   ],
   "source": [
    "end = datetime.datetime.now()\n",
    "elapsed = end - start\n",
    "print(elapsed)"
   ]
  },
  {
   "cell_type": "markdown",
   "metadata": {},
   "source": [
    "Previous Runs:  \n",
    "0:02:49.129215"
   ]
  }
 ],
 "metadata": {
  "kernelspec": {
   "display_name": "Python 35",
   "language": "python",
   "name": "python35"
  },
  "language_info": {
   "codemirror_mode": {
    "name": "ipython",
    "version": 3
   },
   "file_extension": ".py",
   "mimetype": "text/x-python",
   "name": "python",
   "nbconvert_exporter": "python",
   "pygments_lexer": "ipython3",
   "version": "3.5.4"
  }
 },
 "nbformat": 4,
 "nbformat_minor": 2
}
