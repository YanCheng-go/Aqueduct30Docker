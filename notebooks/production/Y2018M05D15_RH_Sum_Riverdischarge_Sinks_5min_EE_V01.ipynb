{
 "cells": [
  {
   "cell_type": "code",
   "execution_count": 1,
   "metadata": {},
   "outputs": [
    {
     "name": "stdout",
     "output_type": "stream",
     "text": [
      "Output ee: projects/WRI-Aquaduct/Y2018M05D15_RH_Sum_Riverdischarge_Sinks_5min_EE_V01/output_V02 \n",
      "Output ec2: /volumes/data/Y2018M05D15_RH_Sum_Riverdischarge_Sinks_5min_EE_V01/output_V02 \n",
      "Output s3: s3://wri-projects/Aqueduct30/processData/Y2018M05D15_RH_Sum_Riverdischarge_Sinks_5min_EE_V01/output_V02\n"
     ]
    }
   ],
   "source": [
    "\"\"\" Sum riverdischarge at sinks at 5min resolution. \n",
    "-------------------------------------------------------------------------------\n",
    "\n",
    "If a sub-basin contains one or more sinks (coastal and endorheic), the sum \n",
    "of riverdischarge at those sinks will be used. If a subbasin does not contain\n",
    "any sinks or is too small to be represented at 5min, the main channel \n",
    "riverdischarge (30s validfa_mask) will be used. \n",
    "\n",
    "takes sum of riverdischarge at 5min sinks per zone. \n",
    "\n",
    "\n",
    "Args:\n",
    "    TESTING (Boolean) : Toggle testing case.\n",
    "    SCRIPT_NAME (string) : Script name.\n",
    "    OUTPUT_VERSION (integer) : output version.\n",
    "\n",
    "\"\"\"\n",
    "\n",
    "TESTING = 0\n",
    "SCRIPT_NAME = \"Y2018M05D15_RH_Sum_Riverdischarge_Sinks_5min_EE_V01\"\n",
    "OUTPUT_VERSION = 2\n",
    "\n",
    "EXTRA_PROPERTIES = {\"nodata_value\":-9999,\n",
    "                    \"ingested_by\" : \"RutgerHofste\",\n",
    "                    \"script_used\": SCRIPT_NAME,\n",
    "                    \"output_version\":OUTPUT_VERSION}\n",
    "SEPARATOR = \"_|-\"\n",
    "SCHEMA =[\"geographic_range\",\n",
    "         \"temporal_range\",\n",
    "         \"indicator\",\n",
    "         \"temporal_resolution\",\n",
    "         \"unit\",\n",
    "         \"spatial_resolution\",\n",
    "         \"temporal_range_min\",\n",
    "         \"temporal_range_max\"]\n",
    "\n",
    "\n",
    "ZONES5MIN_EE_ASSET_ID = \"projects/WRI-Aquaduct/Y2018M04D20_RH_Ingest_HydroBasins_GCS_EE_V01/output_V02/hybas_lev06_v1c_merged_fiona_5min_V04\"\n",
    "LDD_EE_ASSET_ID = \"projects/WRI-Aquaduct/PCRGlobWB20_Aux_V02/global_lddsound_numpad_05min\"\n",
    "EE_INPUT_RIVERDISCHARGE_PATH_ID = \"projects/WRI-Aquaduct/PCRGlobWB20V09/\"\n",
    "\n",
    "ee_output_path = \"projects/WRI-Aquaduct/{}/output_V{:02.0f}\".format(SCRIPT_NAME,OUTPUT_VERSION)\n",
    "ec2_output_path = \"/volumes/data/{}/output_V{:02.0f}\".format(SCRIPT_NAME,OUTPUT_VERSION)\n",
    "s3_output_path = \"s3://wri-projects/Aqueduct30/processData/{}/output_V{:02.0f}\".format(SCRIPT_NAME,OUTPUT_VERSION)\n",
    "\n",
    "print(\"Output ee: \" +  ee_output_path,\n",
    "      \"\\nOutput ec2: \" + ec2_output_path,\n",
    "      \"\\nOutput s3: \" + s3_output_path)\n"
   ]
  },
  {
   "cell_type": "code",
   "execution_count": null,
   "metadata": {},
   "outputs": [
    {
     "name": "stdout",
     "output_type": "stream",
     "text": [
      "Y2018M05D15 UTC 14:36\n"
     ]
    }
   ],
   "source": [
    "import time, datetime, sys, logging\n",
    "dateString = time.strftime(\"Y%YM%mD%d\")\n",
    "timeString = time.strftime(\"UTC %H:%M\")\n",
    "start = datetime.datetime.now()\n",
    "print(dateString,timeString)\n",
    "sys.version"
   ]
  },
  {
   "cell_type": "code",
   "execution_count": null,
   "metadata": {},
   "outputs": [],
   "source": [
    "!rm -r {ec2_output_path}\n",
    "!mkdir -p {ec2_output_path}"
   ]
  },
  {
   "cell_type": "code",
   "execution_count": null,
   "metadata": {
    "collapsed": true
   },
   "outputs": [],
   "source": [
    "# Imports\n",
    "import pandas as pd\n",
    "from datetime import timedelta\n",
    "import os\n",
    "import ee\n",
    "import aqueduct3\n",
    "\n",
    "ee.Initialize()"
   ]
  },
  {
   "cell_type": "code",
   "execution_count": null,
   "metadata": {
    "collapsed": true
   },
   "outputs": [],
   "source": [
    "def post_process_results(result_list,function_properties,extra_properties=EXTRA_PROPERTIES):\n",
    "    \"\"\"Client side function to convert results of reduceRegion to pandas dataframe.\n",
    "    -------------------------------------------------------------------------------\n",
    "    \n",
    "    Adds additional properties. The script is client side for convenience reasons.\n",
    "    A more robust and fast approach would be to add the extra_properties to the \n",
    "    server side dictionary.\n",
    "    \n",
    "    Args:\n",
    "        result_list (ee.List) : List of dictionaries. Result from reduceRegion\n",
    "        function_properties (dictionary) : Additional properties used in the \n",
    "            reduceRegion function call.\n",
    "        extra_properties (dictionary) : Additional properties set at global level. \n",
    "    \n",
    "    Returns:\n",
    "        df (pd.DataFrame) : Pandas dataframe with extra properties.\n",
    "    \n",
    "    \n",
    "    \"\"\"\n",
    "    extra_properties = {**function_properties, **EXTRA_PROPERTIES}\n",
    "    result_list_clientside = result_list.getInfo()\n",
    "    df = pd.DataFrame(result_list_clientside)\n",
    "    df = df.assign(**extra_properties)\n",
    "    df = df.apply(pd.to_numeric, errors='ignore')\n",
    "    return df  "
   ]
  },
  {
   "cell_type": "code",
   "execution_count": null,
   "metadata": {
    "collapsed": true
   },
   "outputs": [],
   "source": [
    "logger = logging.getLogger(__name__)\n",
    "logger.setLevel(logging.DEBUG)\n",
    "formatter = logging.Formatter('%(asctime)s:%(levelname)s:%(message)s')\n",
    "file_handler = logging.FileHandler(\"./logs/{}.log\".format(SCRIPT_NAME))\n",
    "file_handler.setFormatter(formatter)\n",
    "logger.addHandler(file_handler)"
   ]
  },
  {
   "cell_type": "code",
   "execution_count": null,
   "metadata": {
    "collapsed": true
   },
   "outputs": [],
   "source": [
    "i_ldd_5min = ee.Image(LDD_EE_ASSET_ID)\n",
    "i_sinks_5min =  i_ldd_5min.eq(5)\n",
    "i_sinks_5min = i_sinks_5min.copyProperties(i_ldd_5min)\n",
    "i_sinks_5min = i_sinks_5min.set(\"unit\",\"boolean\")"
   ]
  },
  {
   "cell_type": "code",
   "execution_count": null,
   "metadata": {
    "collapsed": true
   },
   "outputs": [],
   "source": [
    "temporal_resolutions = [\"month\",\"year\"]\n",
    "spatial_resolution = \"5min\"\n",
    "pfaf_level = 6\n",
    "indicator = \"riverdischarge\"\n",
    "reducer_name = \"sum\""
   ]
  },
  {
   "cell_type": "code",
   "execution_count": null,
   "metadata": {},
   "outputs": [],
   "source": [
    "i_processed = 0\n",
    "start_time = time.time()\n",
    "\n",
    "# Zones Image\n",
    "i_hybas_lev06_v1c_merged_fiona_5min = ee.Image(ZONES5MIN_EE_ASSET_ID)\n",
    "\n",
    "# Geospatial constants\n",
    "spatial_resolution = \"5min\"\n",
    "geometry_server_side = aqueduct3.earthengine.get_global_geometry(test=TESTING)\n",
    "geometry_client_side = geometry_server_side.getInfo()['coordinates']\n",
    "crs_transform = aqueduct3.earthengine.get_crs_transform(spatial_resolution)\n",
    "\n",
    "for temporal_resolution in temporal_resolutions:\n",
    "    ic_values_input_asset_id = \"{}global_historical_{}_{}_millionm3_5min_1960_2014\".format(EE_INPUT_RIVERDISCHARGE_PATH_ID,indicator,temporal_resolution)\n",
    "    print(ic_values_input_asset_id)\n",
    "    df = aqueduct3.earthengine.get_df_from_ic(ic_values_input_asset_id)\n",
    "    \n",
    "    if TESTING:\n",
    "        df = df[0:3]\n",
    "    else:\n",
    "        pass\n",
    "    for index, row in df.iterrows():\n",
    "        i_processed = i_processed + 1\n",
    "        elapsed_time = time.time() - start_time\n",
    "        i_values_input_asset_id = row[\"input_image_asset_id\"]\n",
    "        # Add an artificial extension to allow the function to run. \n",
    "        # consider updating the split_key function to handle cases without an extension.\n",
    "        i_values_input_asset_id_extenstion = i_values_input_asset_id + \".ee_image\"\n",
    "        dictje = aqueduct3.split_key(i_values_input_asset_id_extenstion,SCHEMA,SEPARATOR)\n",
    "\n",
    "        output_file_name = \"{}_reduced_{:02.0f}_{}_{}\".format(dictje[\"file_name\"],pfaf_level,spatial_resolution,reducer_name)\n",
    "        output_file_path_pkl = \"{}/{}.pkl\".format(ec2_output_path,output_file_name)\n",
    "        output_file_path_csv = \"{}/{}.csv\".format(ec2_output_path,output_file_name)\n",
    "\n",
    "        if os.path.isfile(output_file_path_pkl):\n",
    "            message = \"Index {:02.2f}, Skipping: {} Elapsed: {} Asset: {}\".format(float(index),i_processed,str(timedelta(seconds=elapsed_time)),i_values_input_asset_id)\n",
    "            logger.debug(message)\n",
    "        else:\n",
    "            message = \"Index {:02.2f}, Processed: {} Elapsed: {} Asset: {}\".format(float(index),i_processed,str(timedelta(seconds=elapsed_time)),i_values_input_asset_id)\n",
    "            print(message)\n",
    "            logger.debug(message)\n",
    "\n",
    "            i_values = ee.Image(i_values_input_asset_id)\n",
    "            \n",
    "            ####  ! Use sinks as mask ! ###\n",
    "            i_values = i_values.mask(i_sinks_5min)\n",
    "            \n",
    "            result_list = aqueduct3.earthengine.raster_zonal_stats(\n",
    "                                        i_zones = i_hybas_lev06_v1c_merged_fiona_5min,\n",
    "                                        i_values = i_values,\n",
    "                                        statistic_type = reducer_name,\n",
    "                                        geometry = geometry_server_side,\n",
    "                                        crs_transform = crs_transform,\n",
    "                                        crs=\"EPSG:4326\")\n",
    "            \n",
    "            function_properties = {\"zones_pfaf_level\":pfaf_level,\n",
    "                                   \"zones_spatial_resolution\":spatial_resolution,\n",
    "                                   \"reducer\":reducer_name,\n",
    "                                   \"zones_image_asset_id\":ZONES5MIN_EE_ASSET_ID}\n",
    "\n",
    "            function_properties = {**function_properties, **dictje}\n",
    "            try:\n",
    "                df_out = post_process_results(result_list,function_properties)\n",
    "                df_out.to_pickle(output_file_path_pkl)\n",
    "                df_out.to_csv(output_file_path_csv,encoding='utf-8')\n",
    "            except:\n",
    "                message = \"Index {:02.2f}, Error: {} Elapsed: {} Asset: {}\".format(float(index),i_processed,str(timedelta(seconds=elapsed_time)),i_values_input_asset_id)\n",
    "                logger.debug(message)"
   ]
  },
  {
   "cell_type": "code",
   "execution_count": null,
   "metadata": {},
   "outputs": [],
   "source": [
    "!aws s3 cp {ec2_output_path} {s3_output_path} --recursive --exclude='*' --include='*.pkl'"
   ]
  },
  {
   "cell_type": "code",
   "execution_count": null,
   "metadata": {},
   "outputs": [],
   "source": [
    "end = datetime.datetime.now()\n",
    "elapsed = end - start\n",
    "print(elapsed)"
   ]
  },
  {
   "cell_type": "markdown",
   "metadata": {},
   "source": [
    "Previous runs:  "
   ]
  },
  {
   "cell_type": "code",
   "execution_count": null,
   "metadata": {
    "collapsed": true
   },
   "outputs": [],
   "source": []
  }
 ],
 "metadata": {
  "kernelspec": {
   "display_name": "Python 35",
   "language": "python",
   "name": "python35"
  },
  "language_info": {
   "codemirror_mode": {
    "name": "ipython",
    "version": 3
   },
   "file_extension": ".py",
   "mimetype": "text/x-python",
   "name": "python",
   "nbconvert_exporter": "python",
   "pygments_lexer": "ipython3",
   "version": "3.5.4"
  }
 },
 "nbformat": 4,
 "nbformat_minor": 2
}
