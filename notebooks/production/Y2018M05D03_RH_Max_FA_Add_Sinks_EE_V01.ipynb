{
 "cells": [
  {
   "cell_type": "code",
   "execution_count": 1,
   "metadata": {},
   "outputs": [
    {
     "name": "stdout",
     "output_type": "stream",
     "text": [
      "Output ee: projects/WRI-Aquaduct/Y2018M05D03_RH_Max_FA_Add_Sinks_EE_V01/output_V02\n"
     ]
    }
   ],
   "source": [
    "\"\"\" Use flow accumulation and sinks to create second mask for riverdischarge.\n",
    "-------------------------------------------------------------------------------\n",
    "\n",
    "the previous script created a mask to deal with a PCRGLOBWB vs Hydrobasin\n",
    "routing issue. Certain basins have, in addition to the main river, a couple\n",
    "of sinks. These sinks are defined by the local drainage direction grid. \n",
    "\n",
    "this script:\n",
    "\n",
    "1. Add endorheic sinks to mask from previous script.\n",
    "    mask from previous script based on area and sum_max_streamorder thresholds.\n",
    "2. apply mask to flow accumulation (FA) image.\n",
    "3. find max masked_FA\n",
    "    assumption is that riverdischarge available in the main stream occurs here.\n",
    "\n",
    "Note that in earthengine the .mask() uses:\n",
    "0 = invalid\n",
    "1 = valid\n",
    "\n",
    "so the mask \n",
    "\n",
    "Args:\n",
    "\n",
    "\"\"\"\n",
    "\n",
    "\n",
    "TESTING = 0\n",
    "SCRIPT_NAME = \"Y2018M05D03_RH_Max_FA_Add_Sinks_EE_V01\"\n",
    "OUTPUT_VERSION = 2\n",
    "\n",
    "MASK_EE_ASSET_ID = \"projects/WRI-Aquaduct/Y2018M05D03_RH_Mask_Discharge_Pixels_V01/output_V04/global_riverdischarge_mask_30sPfaf06\"\n",
    "FA_EE_ASSET_ID = \"projects/WRI-Aquaduct/Y2017M08D02_RH_Ingest_Aux_Rasters_GCS_EE_V02/output_V03/global_accumulateddrainagearea_km2_05min\"\n",
    "LDD_EE_ASSET_ID = \"projects/WRI-Aquaduct/Y2017M08D02_RH_Ingest_Aux_Rasters_GCS_EE_V02/output_V03/global_lddsound_numpad_05min\"\n",
    "ZONES_EE_ASSET_ID = \"projects/WRI-Aquaduct/Y2018M04D20_RH_Ingest_HydroBasins_GCS_EE_V01/output_V02/hybas_lev06_v1c_merged_fiona_30s_V04\"\n",
    "ENDOSINKS_EE_ASSET_ID = \"projects/WRI-Aquaduct/Y2017M08D02_RH_Ingest_Aux_Rasters_GCS_EE_V02/output_V06/global_outletendorheicbasins_boolean_05min\"\n",
    "\n",
    "EXTRA_PROPERTIES = {\"nodata_value\":-9999,\n",
    "                    \"ingested_by\" : \"RutgerHofste\",\n",
    "                    \"script_used\": SCRIPT_NAME,\n",
    "                    \"output_version\":OUTPUT_VERSION}\n",
    "\n",
    "ee_output_path = \"projects/WRI-Aquaduct/{}/output_V{:02.0f}\".format(SCRIPT_NAME,OUTPUT_VERSION)\n",
    "\n",
    "print(\"Output ee: \" +  ee_output_path)\n",
    "\n"
   ]
  },
  {
   "cell_type": "code",
   "execution_count": 2,
   "metadata": {},
   "outputs": [
    {
     "name": "stdout",
     "output_type": "stream",
     "text": [
      "Y2018M05D04 UTC 13:04\n"
     ]
    },
    {
     "data": {
      "text/plain": [
       "'3.5.4 |Anaconda, Inc.| (default, Nov 20 2017, 18:44:38) \\n[GCC 7.2.0]'"
      ]
     },
     "execution_count": 2,
     "metadata": {},
     "output_type": "execute_result"
    }
   ],
   "source": [
    "import time, datetime, sys, logging\n",
    "dateString = time.strftime(\"Y%YM%mD%d\")\n",
    "timeString = time.strftime(\"UTC %H:%M\")\n",
    "start = datetime.datetime.now()\n",
    "print(dateString,timeString)\n",
    "sys.version"
   ]
  },
  {
   "cell_type": "code",
   "execution_count": 3,
   "metadata": {
    "collapsed": true
   },
   "outputs": [],
   "source": [
    "import ee\n",
    "import aqueduct3\n",
    "ee.Initialize()"
   ]
  },
  {
   "cell_type": "code",
   "execution_count": 4,
   "metadata": {
    "collapsed": true
   },
   "outputs": [],
   "source": [
    "i_global_riverdischarge_mask_30sPfaf06 = ee.Image(MASK_EE_ASSET_ID)\n",
    "i_global_accumulateddrainagearea_km2_05min = ee.Image(FA_EE_ASSET_ID)\n",
    "i_global_lddsound_numpad_05min = ee.Image(LDD_EE_ASSET_ID)\n",
    "i_hybas_lev06_v1c_merged_fiona_30s_V04 = ee.Image(ZONES_EE_ASSET_ID)\n",
    "i_global_outletendorheicbasins_boolean_05min = ee.Image(ENDOSINKS_EE_ASSET_ID)\n"
   ]
  },
  {
   "cell_type": "code",
   "execution_count": 5,
   "metadata": {
    "collapsed": true
   },
   "outputs": [],
   "source": [
    "def master(i_zones,i_values,geometry,crs_transform,statistic_type,extra_properties):\n",
    "    result_list = aqueduct3.earthengine.raster_zonal_stats(\n",
    "                                            i_zones = i_zones,\n",
    "                                            i_values = i_values,\n",
    "                                            statistic_type = statistic_type,\n",
    "                                            geometry = geometry_server_side,\n",
    "                                            crs_transform = crs_transform,\n",
    "                                            crs=\"EPSG:4326\")\n",
    "    i_result, i_count = aqueduct3.earthengine.zonal_stats_results_to_image(result_list,i_zones,statistic_type)\n",
    "    \n",
    "    i_dummy_result_properties = aqueduct3.earthengine.zonal_stats_image_propertes(i_zones,i_values,extra_properties,zones_prefix=\"zones_\",values_prefix=\"values_\")\n",
    "    \n",
    "    i_result = i_result.multiply(1) #Deletes old properties\n",
    "    i_result = i_result.copyProperties(i_dummy_result_properties)\n",
    "    \n",
    "    return i_result, i_count"
   ]
  },
  {
   "cell_type": "code",
   "execution_count": 6,
   "metadata": {},
   "outputs": [],
   "source": [
    "# 1. Add endorheic sinks to mask from previous script.\n",
    "i_mask = i_global_riverdischarge_mask_30sPfaf06.add(i_global_outletendorheicbasins_boolean_05min)\n",
    "\n",
    "# 2. apply mask to flow accumulation (FA) image.\n",
    "i_global_accumulateddrainagearea_km2_05min_masked = i_global_accumulateddrainagearea_km2_05min.mask(i_mask)\n",
    "\n",
    "# 3. find max masked_FA\n",
    "\n",
    "# Geospatial constants\n",
    "spatial_resolution = \"30s\"\n",
    "geometry_server_side = aqueduct3.earthengine.get_global_geometry(test=TESTING)\n",
    "geometry_client_side = geometry_server_side.getInfo()['coordinates']\n",
    "crs_transform = aqueduct3.earthengine.get_crs_transform(spatial_resolution)\n",
    "\n",
    "output_dict = {}\n",
    "output_dict[\"global_max_maskedaccumulateddrainagearea_km2_30sPfaf06\"], output_dict[\"global_count_maskedaccumulateddrainagearea_km2_30sPfaf06\"] = master(i_zones = i_hybas_lev06_v1c_merged_fiona_30s_V04,\n",
    "                                                                                                                                                   i_values = i_global_accumulateddrainagearea_km2_05min_masked,\n",
    "                                                                                                                                                   geometry = geometry_client_side,\n",
    "                                                                                                                                                   crs_transform = crs_transform,\n",
    "                                                                                                                                                   statistic_type = \"max\",\n",
    "                                                                                                                                                   extra_properties= {})\n",
    "\n",
    "\n"
   ]
  },
  {
   "cell_type": "code",
   "execution_count": 7,
   "metadata": {},
   "outputs": [
    {
     "name": "stdout",
     "output_type": "stream",
     "text": [
      "earthengine create folder projects/WRI-Aquaduct/Y2018M05D03_RH_Max_FA_Add_Sinks_EE_V01 b'Asset projects/WRI-Aquaduct/Y2018M05D03_RH_Max_FA_Add_Sinks_EE_V01 already exists\\n'\n",
      "earthengine create folder projects/WRI-Aquaduct/Y2018M05D03_RH_Max_FA_Add_Sinks_EE_V01/output_V02 b''\n",
      "global_count_maskedaccumulateddrainagearea_km2_30sPfaf06\n",
      "global_max_maskedaccumulateddrainagearea_km2_30sPfaf06\n"
     ]
    }
   ],
   "source": [
    "result = aqueduct3.earthengine.create_ee_folder_recursive(ee_output_path)\n",
    "\n",
    "for key, value in output_dict.items():\n",
    "    print(key)\n",
    "    image = ee.Image(value)\n",
    "    image = image.setMulti(EXTRA_PROPERTIES)\n",
    "    description = key    \n",
    "    output_asset_id = \"{}/{}\".format(ee_output_path,key)\n",
    "    \n",
    "    task = ee.batch.Export.image.toAsset(\n",
    "        image =  image,\n",
    "        assetId = output_asset_id,\n",
    "        region = geometry_client_side,\n",
    "        description = description,\n",
    "        #dimensions = dimensions,\n",
    "        crs = \"EPSG:4326\",\n",
    "        crsTransform = crs_transform,\n",
    "        maxPixels = 1e10     \n",
    "    )\n",
    "    task.start()\n",
    "    \n"
   ]
  },
  {
   "cell_type": "code",
   "execution_count": 8,
   "metadata": {},
   "outputs": [
    {
     "name": "stdout",
     "output_type": "stream",
     "text": [
      "0:00:10.772770\n"
     ]
    }
   ],
   "source": [
    "end = datetime.datetime.now()\n",
    "elapsed = end - start\n",
    "print(elapsed)"
   ]
  },
  {
   "cell_type": "markdown",
   "metadata": {},
   "source": [
    "Previous Runs:  \n",
    "0:00:10.772770\n"
   ]
  },
  {
   "cell_type": "code",
   "execution_count": null,
   "metadata": {
    "collapsed": true
   },
   "outputs": [],
   "source": []
  }
 ],
 "metadata": {
  "kernelspec": {
   "display_name": "Python 35",
   "language": "python",
   "name": "python35"
  },
  "language_info": {
   "codemirror_mode": {
    "name": "ipython",
    "version": 3
   },
   "file_extension": ".py",
   "mimetype": "text/x-python",
   "name": "python",
   "nbconvert_exporter": "python",
   "pygments_lexer": "ipython3",
   "version": "3.5.4"
  }
 },
 "nbformat": 4,
 "nbformat_minor": 2
}
