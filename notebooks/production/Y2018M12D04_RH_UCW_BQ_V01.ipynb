{
 "cells": [
  {
   "cell_type": "code",
   "execution_count": 1,
   "metadata": {},
   "outputs": [
    {
     "name": "stdout",
     "output_type": "stream",
     "text": [
      "S3_INPUT_PATH:  s3://wri-projects/Aqueduct30/finalData/Wastewater \n",
      "ec2_input_path:  /volumes/data/Y2018M12D04_RH_UCW_BQ_V01/input_V04 \n",
      "ec2_output_path:  /volumes/data/Y2018M12D04_RH_UCW_BQ_V01/output_V04 \n",
      "BQ_OUTPUT_DATASET_NAME:  aqueduct30v01 \n",
      "BQ_OUTPUT_TABLE_NAME:  y2018m12d04_rh_ucw_bq_v01_v04\n"
     ]
    }
   ],
   "source": [
    "\"\"\" Process flood risk data and store on BigQuery. \n",
    "-------------------------------------------------------------------------------\n",
    "\n",
    "Author: Rutger Hofste\n",
    "Date: 20181204\n",
    "Kernel: python35\n",
    "Docker: rutgerhofste/gisdocker:ubuntu16.04\n",
    "\n",
    "\"\"\"\n",
    "\n",
    "SCRIPT_NAME = \"Y2018M12D04_RH_UCW_BQ_V01\"\n",
    "OUTPUT_VERSION = 4\n",
    "\n",
    "S3_INPUT_PATH = \"s3://wri-projects/Aqueduct30/finalData/Wastewater\"\n",
    "INPUT_FILE_NAME = \"wastewater_results.csv\"\n",
    "\n",
    "BQ_PROJECT_ID = \"aqueduct30\"\n",
    "BQ_OUTPUT_DATASET_NAME = \"aqueduct30v01\"\n",
    "BQ_OUTPUT_TABLE_NAME = \"{}_v{:02.0f}\".format(SCRIPT_NAME,OUTPUT_VERSION).lower()\n",
    "\n",
    "ec2_input_path = \"/volumes/data/{}/input_V{:02.0f}\".format(SCRIPT_NAME,OUTPUT_VERSION) \n",
    "ec2_output_path = \"/volumes/data/{}/output_V{:02.0f}\".format(SCRIPT_NAME,OUTPUT_VERSION) \n",
    "\n",
    "print(\"S3_INPUT_PATH: \",S3_INPUT_PATH,\n",
    "      \"\\nec2_input_path: \",ec2_input_path,\n",
    "      \"\\nec2_output_path: \",ec2_output_path,\n",
    "      \"\\nBQ_OUTPUT_DATASET_NAME: \", BQ_OUTPUT_DATASET_NAME,\n",
    "      \"\\nBQ_OUTPUT_TABLE_NAME: \",BQ_OUTPUT_TABLE_NAME\n",
    "      )"
   ]
  },
  {
   "cell_type": "code",
   "execution_count": 2,
   "metadata": {},
   "outputs": [
    {
     "name": "stdout",
     "output_type": "stream",
     "text": [
      "Y2019M04D05 UTC 10:15\n"
     ]
    },
    {
     "data": {
      "text/plain": [
       "'3.5.4 |Anaconda, Inc.| (default, Nov 20 2017, 18:44:38) \\n[GCC 7.2.0]'"
      ]
     },
     "execution_count": 2,
     "metadata": {},
     "output_type": "execute_result"
    }
   ],
   "source": [
    "import time, datetime, sys\n",
    "dateString = time.strftime(\"Y%YM%mD%d\")\n",
    "timeString = time.strftime(\"UTC %H:%M\")\n",
    "start = datetime.datetime.now()\n",
    "print(dateString,timeString)\n",
    "sys.version"
   ]
  },
  {
   "cell_type": "code",
   "execution_count": 3,
   "metadata": {},
   "outputs": [
    {
     "name": "stdout",
     "output_type": "stream",
     "text": [
      "rm: cannot remove '/volumes/data/Y2018M12D04_RH_UCW_BQ_V01/input_V04': No such file or directory\n",
      "rm: cannot remove '/volumes/data/Y2018M12D04_RH_UCW_BQ_V01/output_V04': No such file or directory\n"
     ]
    }
   ],
   "source": [
    "!rm -r {ec2_input_path}\n",
    "!rm -r {ec2_output_path}\n",
    "!mkdir -p {ec2_input_path}\n",
    "!mkdir -p {ec2_output_path}"
   ]
  },
  {
   "cell_type": "code",
   "execution_count": 4,
   "metadata": {},
   "outputs": [
    {
     "name": "stdout",
     "output_type": "stream",
     "text": [
      "download: s3://wri-projects/Aqueduct30/finalData/Wastewater/wastewater_results.CPG to ../../../../data/Y2018M12D04_RH_UCW_BQ_V01/input_V04/wastewater_results.CPG\n",
      "download: s3://wri-projects/Aqueduct30/finalData/Wastewater/wastewater_results.sbn to ../../../../data/Y2018M12D04_RH_UCW_BQ_V01/input_V04/wastewater_results.sbn\n",
      "download: s3://wri-projects/Aqueduct30/finalData/Wastewater/README.txt to ../../../../data/Y2018M12D04_RH_UCW_BQ_V01/input_V04/README.txt\n",
      "download: s3://wri-projects/Aqueduct30/finalData/Wastewater/wastewater_results.shp.xml to ../../../../data/Y2018M12D04_RH_UCW_BQ_V01/input_V04/wastewater_results.shp.xml\n",
      "download: s3://wri-projects/Aqueduct30/finalData/Wastewater/wastewater_results.shx to ../../../../data/Y2018M12D04_RH_UCW_BQ_V01/input_V04/wastewater_results.shx\n",
      "download: s3://wri-projects/Aqueduct30/finalData/Wastewater/wastewater_results.sbx to ../../../../data/Y2018M12D04_RH_UCW_BQ_V01/input_V04/wastewater_results.sbx\n",
      "download: s3://wri-projects/Aqueduct30/finalData/Wastewater/wastewater_results.prj to ../../../../data/Y2018M12D04_RH_UCW_BQ_V01/input_V04/wastewater_results.prj\n",
      "download: s3://wri-projects/Aqueduct30/finalData/Wastewater/wastewater_results.csv to ../../../../data/Y2018M12D04_RH_UCW_BQ_V01/input_V04/wastewater_results.csv\n",
      "download: s3://wri-projects/Aqueduct30/finalData/Wastewater/wastewater_results_v2.CPG to ../../../../data/Y2018M12D04_RH_UCW_BQ_V01/input_V04/wastewater_results_v2.CPG\n",
      "download: s3://wri-projects/Aqueduct30/finalData/Wastewater/wastewater_results_v2.csv to ../../../../data/Y2018M12D04_RH_UCW_BQ_V01/input_V04/wastewater_results_v2.csv\n",
      "download: s3://wri-projects/Aqueduct30/finalData/Wastewater/wastewater_results_v2.sbn to ../../../../data/Y2018M12D04_RH_UCW_BQ_V01/input_V04/wastewater_results_v2.sbn\n",
      "download: s3://wri-projects/Aqueduct30/finalData/Wastewater/wastewater_results_v2.prj to ../../../../data/Y2018M12D04_RH_UCW_BQ_V01/input_V04/wastewater_results_v2.prj\n",
      "download: s3://wri-projects/Aqueduct30/finalData/Wastewater/wastewater_results_v2.shp.xml to ../../../../data/Y2018M12D04_RH_UCW_BQ_V01/input_V04/wastewater_results_v2.shp.xml\n",
      "download: s3://wri-projects/Aqueduct30/finalData/Wastewater/wastewater_results_v2.shx to ../../../../data/Y2018M12D04_RH_UCW_BQ_V01/input_V04/wastewater_results_v2.shx\n",
      "download: s3://wri-projects/Aqueduct30/finalData/Wastewater/wastewater_results_v2.sbx to ../../../../data/Y2018M12D04_RH_UCW_BQ_V01/input_V04/wastewater_results_v2.sbx\n",
      "download: s3://wri-projects/Aqueduct30/finalData/Wastewater/wri_aqueduct3_Wastewater_v2.py to ../../../../data/Y2018M12D04_RH_UCW_BQ_V01/input_V04/wri_aqueduct3_Wastewater_v2.py\n",
      "download: s3://wri-projects/Aqueduct30/finalData/Wastewater/wri_aqueduct3_Wastewater.py to ../../../../data/Y2018M12D04_RH_UCW_BQ_V01/input_V04/wri_aqueduct3_Wastewater.py\n",
      "download: s3://wri-projects/Aqueduct30/finalData/Wastewater/wastewater_results.dbf to ../../../../data/Y2018M12D04_RH_UCW_BQ_V01/input_V04/wastewater_results.dbf\n",
      "download: s3://wri-projects/Aqueduct30/finalData/Wastewater/wastewater_results_v2.dbf to ../../../../data/Y2018M12D04_RH_UCW_BQ_V01/input_V04/wastewater_results_v2.dbf\n",
      "download: s3://wri-projects/Aqueduct30/finalData/Wastewater/wastewater_results_v2.shp to ../../../../data/Y2018M12D04_RH_UCW_BQ_V01/input_V04/wastewater_results_v2.shp\n",
      "download: s3://wri-projects/Aqueduct30/finalData/Wastewater/wastewater_results.shp to ../../../../data/Y2018M12D04_RH_UCW_BQ_V01/input_V04/wastewater_results.shp\n"
     ]
    }
   ],
   "source": [
    "!aws s3 cp {S3_INPUT_PATH} {ec2_input_path} --recursive "
   ]
  },
  {
   "cell_type": "code",
   "execution_count": 5,
   "metadata": {
    "collapsed": true
   },
   "outputs": [],
   "source": [
    "import os\n",
    "import pandas as pd\n",
    "import numpy as np\n",
    "from google.cloud import bigquery\n",
    "\n",
    "os.environ[\"GOOGLE_APPLICATION_CREDENTIALS\"] = \"/.google.json\"\n",
    "os.environ[\"GOOGLE_CLOUD_PROJECT\"] = \"aqueduct30\"\n",
    "client = bigquery.Client(project=BQ_PROJECT_ID)"
   ]
  },
  {
   "cell_type": "code",
   "execution_count": 6,
   "metadata": {
    "collapsed": true
   },
   "outputs": [],
   "source": [
    "files = os.listdir(ec2_input_path)"
   ]
  },
  {
   "cell_type": "code",
   "execution_count": 7,
   "metadata": {
    "collapsed": true
   },
   "outputs": [],
   "source": [
    "input_path = \"{}/{}\".format(ec2_input_path,INPUT_FILE_NAME)"
   ]
  },
  {
   "cell_type": "code",
   "execution_count": 8,
   "metadata": {
    "collapsed": true
   },
   "outputs": [],
   "source": [
    "df = pd.read_csv(input_path)"
   ]
  },
  {
   "cell_type": "code",
   "execution_count": 9,
   "metadata": {},
   "outputs": [
    {
     "data": {
      "text/plain": [
       "ADM0_A3               object\n",
       "Country               object\n",
       "Exclude               object\n",
       "Percent_Connected    float64\n",
       "Untreated            float64\n",
       "Primary              float64\n",
       "Secondary            float64\n",
       "Tertiary             float64\n",
       "WW_raw               float64\n",
       "WW_s                 float64\n",
       "WW_cat                object\n",
       "dtype: object"
      ]
     },
     "execution_count": 9,
     "metadata": {},
     "output_type": "execute_result"
    }
   ],
   "source": [
    "df.dtypes"
   ]
  },
  {
   "cell_type": "code",
   "execution_count": 10,
   "metadata": {},
   "outputs": [
    {
     "data": {
      "text/html": [
       "<div>\n",
       "<style scoped>\n",
       "    .dataframe tbody tr th:only-of-type {\n",
       "        vertical-align: middle;\n",
       "    }\n",
       "\n",
       "    .dataframe tbody tr th {\n",
       "        vertical-align: top;\n",
       "    }\n",
       "\n",
       "    .dataframe thead th {\n",
       "        text-align: right;\n",
       "    }\n",
       "</style>\n",
       "<table border=\"1\" class=\"dataframe\">\n",
       "  <thead>\n",
       "    <tr style=\"text-align: right;\">\n",
       "      <th></th>\n",
       "      <th>ADM0_A3</th>\n",
       "      <th>Country</th>\n",
       "      <th>Exclude</th>\n",
       "      <th>Percent_Connected</th>\n",
       "      <th>Untreated</th>\n",
       "      <th>Primary</th>\n",
       "      <th>Secondary</th>\n",
       "      <th>Tertiary</th>\n",
       "      <th>WW_raw</th>\n",
       "      <th>WW_s</th>\n",
       "      <th>WW_cat</th>\n",
       "    </tr>\n",
       "  </thead>\n",
       "  <tbody>\n",
       "    <tr>\n",
       "      <th>0</th>\n",
       "      <td>ABW</td>\n",
       "      <td>Aruba</td>\n",
       "      <td>No</td>\n",
       "      <td>0.0</td>\n",
       "      <td>100.0</td>\n",
       "      <td>0.0</td>\n",
       "      <td>0.0</td>\n",
       "      <td>0.0</td>\n",
       "      <td>-1.000000</td>\n",
       "      <td>5.000000</td>\n",
       "      <td>Low to no wastewater collected</td>\n",
       "    </tr>\n",
       "    <tr>\n",
       "      <th>1</th>\n",
       "      <td>AFG</td>\n",
       "      <td>Afghanistan</td>\n",
       "      <td>No</td>\n",
       "      <td>1.0</td>\n",
       "      <td>0.0</td>\n",
       "      <td>100.0</td>\n",
       "      <td>0.0</td>\n",
       "      <td>0.0</td>\n",
       "      <td>-1.000000</td>\n",
       "      <td>5.000000</td>\n",
       "      <td>Low to no wastewater collected</td>\n",
       "    </tr>\n",
       "    <tr>\n",
       "      <th>2</th>\n",
       "      <td>AGO</td>\n",
       "      <td>Angola</td>\n",
       "      <td>No</td>\n",
       "      <td>1.0</td>\n",
       "      <td>100.0</td>\n",
       "      <td>0.0</td>\n",
       "      <td>0.0</td>\n",
       "      <td>0.0</td>\n",
       "      <td>-1.000000</td>\n",
       "      <td>5.000000</td>\n",
       "      <td>Low to no wastewater collected</td>\n",
       "    </tr>\n",
       "    <tr>\n",
       "      <th>3</th>\n",
       "      <td>AIA</td>\n",
       "      <td>Anguilla</td>\n",
       "      <td>No</td>\n",
       "      <td>0.0</td>\n",
       "      <td>100.0</td>\n",
       "      <td>0.0</td>\n",
       "      <td>0.0</td>\n",
       "      <td>0.0</td>\n",
       "      <td>-1.000000</td>\n",
       "      <td>5.000000</td>\n",
       "      <td>Low to no wastewater collected</td>\n",
       "    </tr>\n",
       "    <tr>\n",
       "      <th>4</th>\n",
       "      <td>ALB</td>\n",
       "      <td>Albania</td>\n",
       "      <td>No</td>\n",
       "      <td>66.7</td>\n",
       "      <td>34.9</td>\n",
       "      <td>32.6</td>\n",
       "      <td>32.6</td>\n",
       "      <td>0.0</td>\n",
       "      <td>0.565783</td>\n",
       "      <td>1.885943</td>\n",
       "      <td>Low to medium (0.3 to 60%)</td>\n",
       "    </tr>\n",
       "  </tbody>\n",
       "</table>\n",
       "</div>"
      ],
      "text/plain": [
       "  ADM0_A3      Country Exclude  Percent_Connected  Untreated  Primary  \\\n",
       "0     ABW        Aruba      No                0.0      100.0      0.0   \n",
       "1     AFG  Afghanistan      No                1.0        0.0    100.0   \n",
       "2     AGO       Angola      No                1.0      100.0      0.0   \n",
       "3     AIA     Anguilla      No                0.0      100.0      0.0   \n",
       "4     ALB      Albania      No               66.7       34.9     32.6   \n",
       "\n",
       "   Secondary  Tertiary    WW_raw      WW_s                          WW_cat  \n",
       "0        0.0       0.0 -1.000000  5.000000  Low to no wastewater collected  \n",
       "1        0.0       0.0 -1.000000  5.000000  Low to no wastewater collected  \n",
       "2        0.0       0.0 -1.000000  5.000000  Low to no wastewater collected  \n",
       "3        0.0       0.0 -1.000000  5.000000  Low to no wastewater collected  \n",
       "4       32.6       0.0  0.565783  1.885943      Low to medium (0.3 to 60%)  "
      ]
     },
     "execution_count": 10,
     "metadata": {},
     "output_type": "execute_result"
    }
   ],
   "source": [
    "df.head()"
   ]
  },
  {
   "cell_type": "code",
   "execution_count": 11,
   "metadata": {
    "collapsed": true
   },
   "outputs": [],
   "source": [
    "# WW -> UCW\n",
    "\n",
    "\n",
    "# raw -> raw.\n",
    "# s -> score.\n",
    "# None -> cat.\n",
    "# cat -> label. "
   ]
  },
  {
   "cell_type": "code",
   "execution_count": 12,
   "metadata": {
    "collapsed": true
   },
   "outputs": [],
   "source": [
    "df_out = df.rename(columns={\"ADM0_A3\":\"adm0_a3\",\n",
    "                            \"WW_raw\":\"ucw_raw\",\n",
    "                            \"WW_s\":\"ucw_score\",\n",
    "                            \"WW_cat\":\"ucw_label\"})"
   ]
  },
  {
   "cell_type": "code",
   "execution_count": 13,
   "metadata": {
    "collapsed": true
   },
   "outputs": [],
   "source": [
    "df_out.drop(columns=[\"Exclude\",\n",
    "                     \"Percent_Connected\",\n",
    "                     \"Untreated\",\n",
    "                     \"Primary\",\n",
    "                     \"Secondary\",\n",
    "                     \"Tertiary\"],inplace=True)"
   ]
  },
  {
   "cell_type": "code",
   "execution_count": 14,
   "metadata": {},
   "outputs": [],
   "source": [
    "def update_labels(label):\n",
    "    # Update label to correct format.\n",
    "    if label == \"Low to no wastewater collected\":\n",
    "        new_label = \"No to Low Wastewater Collected\"\n",
    "    elif label == \"Low (< 30%)\":\n",
    "        new_label = \"Low (<30%)\"\n",
    "    elif label == \"Low to medium (0.3 to 60%)\":\n",
    "        new_label = \"Low - Medium (30-60%)\"\n",
    "    elif label == \"Medium to high (0.6 to 90%)\":\n",
    "        new_label = \"Medium - High (60-90%)\"\n",
    "    elif  label == \"High (0.9 to 100%)\":\n",
    "        new_label = \"High (90-100%)\"\n",
    "    elif label == \"Extremely High (100%)\":\n",
    "        new_label =  \"Extremely High (100%)\"\n",
    "    else:\n",
    "        new_label = \"error, check script\"\n",
    "    return new_label\n",
    "\n",
    "def category_from_label(label):\n",
    "    # get cat from label\n",
    "    if label == \"Low to no wastewater collected\":\n",
    "        cat = -1\n",
    "    elif label == \"Low (< 30%)\":\n",
    "        cat = 0\n",
    "    elif label == \"Low to medium (0.3 to 60%)\":\n",
    "        cat = 1\n",
    "    elif label == \"Medium to high (0.6 to 90%)\":\n",
    "        cat = 2\n",
    "    elif  label == \"High (0.9 to 100%)\":\n",
    "        cat = 3\n",
    "    elif label == \"Extremely High (100%)\":\n",
    "        cat = 4\n",
    "    else:\n",
    "        cat = -9999\n",
    "    return cat\n",
    "    \n",
    "\n"
   ]
  },
  {
   "cell_type": "code",
   "execution_count": 15,
   "metadata": {},
   "outputs": [],
   "source": [
    "df_out[\"ucw_cat\"] = df_out[\"ucw_label\"].apply(category_from_label)\n"
   ]
  },
  {
   "cell_type": "code",
   "execution_count": 16,
   "metadata": {},
   "outputs": [],
   "source": [
    "df_out[\"ucw_label\"] = df_out[\"ucw_label\"].apply(update_labels)"
   ]
  },
  {
   "cell_type": "code",
   "execution_count": 17,
   "metadata": {
    "collapsed": true
   },
   "outputs": [],
   "source": [
    "df_out = df_out.reindex(sorted(df_out.columns), axis=1)"
   ]
  },
  {
   "cell_type": "code",
   "execution_count": 18,
   "metadata": {},
   "outputs": [
    {
     "data": {
      "text/html": [
       "<div>\n",
       "<style scoped>\n",
       "    .dataframe tbody tr th:only-of-type {\n",
       "        vertical-align: middle;\n",
       "    }\n",
       "\n",
       "    .dataframe tbody tr th {\n",
       "        vertical-align: top;\n",
       "    }\n",
       "\n",
       "    .dataframe thead th {\n",
       "        text-align: right;\n",
       "    }\n",
       "</style>\n",
       "<table border=\"1\" class=\"dataframe\">\n",
       "  <thead>\n",
       "    <tr style=\"text-align: right;\">\n",
       "      <th></th>\n",
       "      <th>Country</th>\n",
       "      <th>adm0_a3</th>\n",
       "      <th>ucw_cat</th>\n",
       "      <th>ucw_label</th>\n",
       "      <th>ucw_raw</th>\n",
       "      <th>ucw_score</th>\n",
       "    </tr>\n",
       "  </thead>\n",
       "  <tbody>\n",
       "    <tr>\n",
       "      <th>0</th>\n",
       "      <td>Aruba</td>\n",
       "      <td>ABW</td>\n",
       "      <td>-1</td>\n",
       "      <td>No to Low Wastewater Collected</td>\n",
       "      <td>-1.000000</td>\n",
       "      <td>5.000000</td>\n",
       "    </tr>\n",
       "    <tr>\n",
       "      <th>1</th>\n",
       "      <td>Afghanistan</td>\n",
       "      <td>AFG</td>\n",
       "      <td>-1</td>\n",
       "      <td>No to Low Wastewater Collected</td>\n",
       "      <td>-1.000000</td>\n",
       "      <td>5.000000</td>\n",
       "    </tr>\n",
       "    <tr>\n",
       "      <th>2</th>\n",
       "      <td>Angola</td>\n",
       "      <td>AGO</td>\n",
       "      <td>-1</td>\n",
       "      <td>No to Low Wastewater Collected</td>\n",
       "      <td>-1.000000</td>\n",
       "      <td>5.000000</td>\n",
       "    </tr>\n",
       "    <tr>\n",
       "      <th>3</th>\n",
       "      <td>Anguilla</td>\n",
       "      <td>AIA</td>\n",
       "      <td>-1</td>\n",
       "      <td>No to Low Wastewater Collected</td>\n",
       "      <td>-1.000000</td>\n",
       "      <td>5.000000</td>\n",
       "    </tr>\n",
       "    <tr>\n",
       "      <th>4</th>\n",
       "      <td>Albania</td>\n",
       "      <td>ALB</td>\n",
       "      <td>1</td>\n",
       "      <td>Low - Medium (30-60%)</td>\n",
       "      <td>0.565783</td>\n",
       "      <td>1.885943</td>\n",
       "    </tr>\n",
       "  </tbody>\n",
       "</table>\n",
       "</div>"
      ],
      "text/plain": [
       "       Country adm0_a3  ucw_cat                       ucw_label   ucw_raw  \\\n",
       "0        Aruba     ABW       -1  No to Low Wastewater Collected -1.000000   \n",
       "1  Afghanistan     AFG       -1  No to Low Wastewater Collected -1.000000   \n",
       "2       Angola     AGO       -1  No to Low Wastewater Collected -1.000000   \n",
       "3     Anguilla     AIA       -1  No to Low Wastewater Collected -1.000000   \n",
       "4      Albania     ALB        1           Low - Medium (30-60%)  0.565783   \n",
       "\n",
       "   ucw_score  \n",
       "0   5.000000  \n",
       "1   5.000000  \n",
       "2   5.000000  \n",
       "3   5.000000  \n",
       "4   1.885943  "
      ]
     },
     "execution_count": 18,
     "metadata": {},
     "output_type": "execute_result"
    }
   ],
   "source": [
    "df_out.head()"
   ]
  },
  {
   "cell_type": "code",
   "execution_count": 19,
   "metadata": {
    "collapsed": true
   },
   "outputs": [],
   "source": [
    "df_out.loc[(df_out['ucw_raw'] == -1.0) ,'ucw_cat'] = -1\n"
   ]
  },
  {
   "cell_type": "code",
   "execution_count": 20,
   "metadata": {},
   "outputs": [
    {
     "data": {
      "text/html": [
       "<div>\n",
       "<style scoped>\n",
       "    .dataframe tbody tr th:only-of-type {\n",
       "        vertical-align: middle;\n",
       "    }\n",
       "\n",
       "    .dataframe tbody tr th {\n",
       "        vertical-align: top;\n",
       "    }\n",
       "\n",
       "    .dataframe thead th {\n",
       "        text-align: right;\n",
       "    }\n",
       "</style>\n",
       "<table border=\"1\" class=\"dataframe\">\n",
       "  <thead>\n",
       "    <tr style=\"text-align: right;\">\n",
       "      <th></th>\n",
       "      <th>Country</th>\n",
       "      <th>adm0_a3</th>\n",
       "      <th>ucw_cat</th>\n",
       "      <th>ucw_label</th>\n",
       "      <th>ucw_raw</th>\n",
       "      <th>ucw_score</th>\n",
       "    </tr>\n",
       "  </thead>\n",
       "  <tbody>\n",
       "    <tr>\n",
       "      <th>0</th>\n",
       "      <td>Aruba</td>\n",
       "      <td>ABW</td>\n",
       "      <td>-1</td>\n",
       "      <td>No to Low Wastewater Collected</td>\n",
       "      <td>-1.000000</td>\n",
       "      <td>5.000000</td>\n",
       "    </tr>\n",
       "    <tr>\n",
       "      <th>1</th>\n",
       "      <td>Afghanistan</td>\n",
       "      <td>AFG</td>\n",
       "      <td>-1</td>\n",
       "      <td>No to Low Wastewater Collected</td>\n",
       "      <td>-1.000000</td>\n",
       "      <td>5.000000</td>\n",
       "    </tr>\n",
       "    <tr>\n",
       "      <th>2</th>\n",
       "      <td>Angola</td>\n",
       "      <td>AGO</td>\n",
       "      <td>-1</td>\n",
       "      <td>No to Low Wastewater Collected</td>\n",
       "      <td>-1.000000</td>\n",
       "      <td>5.000000</td>\n",
       "    </tr>\n",
       "    <tr>\n",
       "      <th>3</th>\n",
       "      <td>Anguilla</td>\n",
       "      <td>AIA</td>\n",
       "      <td>-1</td>\n",
       "      <td>No to Low Wastewater Collected</td>\n",
       "      <td>-1.000000</td>\n",
       "      <td>5.000000</td>\n",
       "    </tr>\n",
       "    <tr>\n",
       "      <th>4</th>\n",
       "      <td>Albania</td>\n",
       "      <td>ALB</td>\n",
       "      <td>1</td>\n",
       "      <td>Low - Medium (30-60%)</td>\n",
       "      <td>0.565783</td>\n",
       "      <td>1.885943</td>\n",
       "    </tr>\n",
       "  </tbody>\n",
       "</table>\n",
       "</div>"
      ],
      "text/plain": [
       "       Country adm0_a3  ucw_cat                       ucw_label   ucw_raw  \\\n",
       "0        Aruba     ABW       -1  No to Low Wastewater Collected -1.000000   \n",
       "1  Afghanistan     AFG       -1  No to Low Wastewater Collected -1.000000   \n",
       "2       Angola     AGO       -1  No to Low Wastewater Collected -1.000000   \n",
       "3     Anguilla     AIA       -1  No to Low Wastewater Collected -1.000000   \n",
       "4      Albania     ALB        1           Low - Medium (30-60%)  0.565783   \n",
       "\n",
       "   ucw_score  \n",
       "0   5.000000  \n",
       "1   5.000000  \n",
       "2   5.000000  \n",
       "3   5.000000  \n",
       "4   1.885943  "
      ]
     },
     "execution_count": 20,
     "metadata": {},
     "output_type": "execute_result"
    }
   ],
   "source": [
    "df_out.head()"
   ]
  },
  {
   "cell_type": "code",
   "execution_count": 21,
   "metadata": {
    "collapsed": true
   },
   "outputs": [],
   "source": [
    "destination_table = \"{}.{}\".format(BQ_OUTPUT_DATASET_NAME,BQ_OUTPUT_TABLE_NAME)"
   ]
  },
  {
   "cell_type": "code",
   "execution_count": 22,
   "metadata": {},
   "outputs": [
    {
     "data": {
      "text/plain": [
       "'aqueduct30v01.y2018m12d04_rh_ucw_bq_v01_v04'"
      ]
     },
     "execution_count": 22,
     "metadata": {},
     "output_type": "execute_result"
    }
   ],
   "source": [
    "destination_table"
   ]
  },
  {
   "cell_type": "code",
   "execution_count": 23,
   "metadata": {},
   "outputs": [
    {
     "name": "stderr",
     "output_type": "stream",
     "text": [
      "1it [00:06,  6.07s/it]\n"
     ]
    }
   ],
   "source": [
    "df_out.to_gbq(destination_table=destination_table,\n",
    "          project_id=BQ_PROJECT_ID,\n",
    "          chunksize=10000,\n",
    "          if_exists=\"replace\")"
   ]
  },
  {
   "cell_type": "code",
   "execution_count": 24,
   "metadata": {},
   "outputs": [
    {
     "name": "stdout",
     "output_type": "stream",
     "text": [
      "0:00:16.978664\n"
     ]
    }
   ],
   "source": [
    "end = datetime.datetime.now()\n",
    "elapsed = end - start\n",
    "print(elapsed)"
   ]
  },
  {
   "cell_type": "markdown",
   "metadata": {},
   "source": [
    "Previous runs:  \n",
    "0:00:18.766466"
   ]
  }
 ],
 "metadata": {
  "kernelspec": {
   "display_name": "Python 35",
   "language": "python",
   "name": "python35"
  },
  "language_info": {
   "codemirror_mode": {
    "name": "ipython",
    "version": 3
   },
   "file_extension": ".py",
   "mimetype": "text/x-python",
   "name": "python",
   "nbconvert_exporter": "python",
   "pygments_lexer": "ipython3",
   "version": "3.5.4"
  }
 },
 "nbformat": 4,
 "nbformat_minor": 2
}
