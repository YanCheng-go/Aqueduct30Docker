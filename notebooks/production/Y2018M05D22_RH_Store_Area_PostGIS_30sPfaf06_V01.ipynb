{
 "cells": [
  {
   "cell_type": "code",
   "execution_count": 1,
   "metadata": {},
   "outputs": [
    {
     "name": "stdout",
     "output_type": "stream",
     "text": [
      "\n",
      "Input ec2: /volumes/data/Y2018M05D22_RH_Store_Area_PostGIS_30sPfaf06_V01/input_V01 \n",
      "Input s3: s3://wri-projects/Aqueduct30/processData/Y2018M04D20_RH_Zonal_Stats_Area_EE_V01/output_V02\n"
     ]
    }
   ],
   "source": [
    "\"\"\" Store area of 30sPfaf06 basins in postGIS database. \n",
    "-------------------------------------------------------------------------------\n",
    "\n",
    "Store the area of 30sPfaf06 zones in the postGIS table. \n",
    "\n",
    "\n",
    "Args:\n",
    "    TESTING (Boolean) : Toggle testing case.\n",
    "    SCRIPT_NAME (string) : Script name.\n",
    "    OUTPUT_VERSION (integer) : output version.\n",
    "\n",
    "\"\"\"\n",
    "\n",
    "TESTING = 1\n",
    "OVERWRITE = 1 \n",
    "SCRIPT_NAME = \"Y2018M05D22_RH_Store_Area_PostGIS_30sPfaf06_V01\"\n",
    "OUTPUT_VERSION = 1\n",
    "\n",
    "DATABASE_ENDPOINT = \"aqueduct30v05.cgpnumwmfcqc.eu-central-1.rds.amazonaws.com\"\n",
    "DATABASE_NAME = \"database01\"\n",
    "#TABLE_NAME = \"area30spfaf06v01\"\n",
    "\n",
    "S3_INPUT_PATH = \"s3://wri-projects/Aqueduct30/processData/Y2018M04D20_RH_Zonal_Stats_Area_EE_V01/output_V02\"\n",
    "\n",
    "ec2_input_path = \"/volumes/data/{}/input_V{:02.0f}\".format(SCRIPT_NAME,OUTPUT_VERSION)\n",
    "\n",
    "print(\"\\nInput ec2: \" + ec2_input_path,\n",
    "      \"\\nInput s3: \" + S3_INPUT_PATH)\n",
    "\n"
   ]
  },
  {
   "cell_type": "code",
   "execution_count": 2,
   "metadata": {},
   "outputs": [
    {
     "name": "stdout",
     "output_type": "stream",
     "text": [
      "Y2018M05D22 UTC 12:18\n"
     ]
    },
    {
     "data": {
      "text/plain": [
       "'3.5.4 |Anaconda, Inc.| (default, Nov 20 2017, 18:44:38) \\n[GCC 7.2.0]'"
      ]
     },
     "execution_count": 2,
     "metadata": {},
     "output_type": "execute_result"
    }
   ],
   "source": [
    "import time, datetime, sys\n",
    "dateString = time.strftime(\"Y%YM%mD%d\")\n",
    "timeString = time.strftime(\"UTC %H:%M\")\n",
    "start = datetime.datetime.now()\n",
    "print(dateString,timeString)\n",
    "sys.version"
   ]
  },
  {
   "cell_type": "code",
   "execution_count": 3,
   "metadata": {
    "collapsed": true
   },
   "outputs": [],
   "source": [
    "F = open(\"/.password\",\"r\")\n",
    "password = F.read().splitlines()[0]\n",
    "F.close()"
   ]
  },
  {
   "cell_type": "code",
   "execution_count": 4,
   "metadata": {},
   "outputs": [],
   "source": [
    "!rm -r {ec2_input_path}\n",
    "!mkdir -p {ec2_input_path}"
   ]
  },
  {
   "cell_type": "code",
   "execution_count": 5,
   "metadata": {},
   "outputs": [
    {
     "name": "stdout",
     "output_type": "stream",
     "text": [
      "download: s3://wri-projects/Aqueduct30/processData/Y2018M04D20_RH_Zonal_Stats_Area_EE_V01/output_V02/df_hybas_lev06_5min.pkl to ../../../../data/Y2018M05D22_RH_Store_Area_PostGIS_30sPfaf06_V01/input_V01/df_hybas_lev06_5min.pkl\n",
      "download: s3://wri-projects/Aqueduct30/processData/Y2018M04D20_RH_Zonal_Stats_Area_EE_V01/output_V02/df_hybas_lev06_30s.pkl to ../../../../data/Y2018M05D22_RH_Store_Area_PostGIS_30sPfaf06_V01/input_V01/df_hybas_lev06_30s.pkl\n",
      "download: s3://wri-projects/Aqueduct30/processData/Y2018M04D20_RH_Zonal_Stats_Area_EE_V01/output_V02/df_hybas_lev00_30s.pkl to ../../../../data/Y2018M05D22_RH_Store_Area_PostGIS_30sPfaf06_V01/input_V01/df_hybas_lev00_30s.pkl\n",
      "download: s3://wri-projects/Aqueduct30/processData/Y2018M04D20_RH_Zonal_Stats_Area_EE_V01/output_V02/df_hybas_lev00_5min.pkl to ../../../../data/Y2018M05D22_RH_Store_Area_PostGIS_30sPfaf06_V01/input_V01/df_hybas_lev00_5min.pkl\n"
     ]
    }
   ],
   "source": [
    "!aws s3 cp {S3_INPUT_PATH} {ec2_input_path} --recursive --exclude=\"*\" --include=\"*.pkl\""
   ]
  },
  {
   "cell_type": "code",
   "execution_count": 6,
   "metadata": {
    "collapsed": true
   },
   "outputs": [],
   "source": [
    "import os\n",
    "import numpy as np\n",
    "import pandas as pd\n",
    "import aqueduct3\n",
    "from datetime import timedelta\n",
    "from sqlalchemy import *\n",
    "pd.set_option('display.max_columns', 500)"
   ]
  },
  {
   "cell_type": "code",
   "execution_count": 7,
   "metadata": {},
   "outputs": [
    {
     "data": {
      "text/plain": [
       "'\\nif OVERWRITE:\\n    sql = text(\"DROP TABLE IF EXISTS {};\".format(TABLE_NAME))\\n    result = engine.execute(sql)\\n'"
      ]
     },
     "execution_count": 7,
     "metadata": {},
     "output_type": "execute_result"
    }
   ],
   "source": [
    "engine = create_engine(\"postgresql://rutgerhofste:{}@{}:5432/{}\".format(password,DATABASE_ENDPOINT,DATABASE_NAME))\n",
    "connection = engine.connect()\n",
    "\n",
    "\"\"\"\n",
    "if OVERWRITE:\n",
    "    sql = text(\"DROP TABLE IF EXISTS {};\".format(TABLE_NAME))\n",
    "    result = engine.execute(sql)\n",
    "\"\"\""
   ]
  },
  {
   "cell_type": "code",
   "execution_count": 8,
   "metadata": {
    "collapsed": true
   },
   "outputs": [],
   "source": [
    "input_file_names = os.listdir(ec2_input_path)"
   ]
  },
  {
   "cell_type": "code",
   "execution_count": 9,
   "metadata": {},
   "outputs": [
    {
     "data": {
      "text/plain": [
       "['df_hybas_lev00_5min.pkl',\n",
       " 'df_hybas_lev06_5min.pkl',\n",
       " 'df_hybas_lev06_30s.pkl',\n",
       " 'df_hybas_lev00_30s.pkl']"
      ]
     },
     "execution_count": 9,
     "metadata": {},
     "output_type": "execute_result"
    }
   ],
   "source": [
    "input_file_names"
   ]
  },
  {
   "cell_type": "code",
   "execution_count": 10,
   "metadata": {
    "collapsed": true
   },
   "outputs": [],
   "source": [
    "def pre_process_df(df,hybas_level,spatial_resolution):\n",
    "    df[\"zones\"] = df[\"zones\"].astype(np.int64)\n",
    "    df[\"area_m2_{}pfaf{:02.0f}\".format(spatial_resolution,hybas_level)] = df[\"sum\"]\n",
    "    df.drop(\"sum\",axis=1,inplace=True)\n",
    "    df.sort_index(axis=1, inplace=True)\n",
    "    df.set_index(\"zones\",inplace=True)\n",
    "    df.index.name = \"pfafid_{}pfaf{:02.0f}\".format(spatial_resolution,hybas_level)\n",
    "    return df"
   ]
  },
  {
   "cell_type": "code",
   "execution_count": 11,
   "metadata": {
    "collapsed": true
   },
   "outputs": [],
   "source": [
    "hybas_levels = [0,6]\n",
    "spatial_resolutions = [\"30s\",\"5min\"]"
   ]
  },
  {
   "cell_type": "code",
   "execution_count": 12,
   "metadata": {},
   "outputs": [],
   "source": [
    "for hybas_level in hybas_levels:\n",
    "    for spatial_resolution in spatial_resolutions:\n",
    "        input_file_name = \"df_hybas_lev{:02.0f}_{}.pkl\".format(hybas_level,spatial_resolution)\n",
    "        input_file_path = \"{}/{}\".format(ec2_input_path,input_file_name)\n",
    "        df = pd.read_pickle(input_file_path)\n",
    "        df_cleaned = pre_process_df(df,hybas_level,spatial_resolution)\n",
    "        table_name = \"area_m2_{}pfaf{:02.0f}\".format(spatial_resolution,hybas_level)\n",
    "        df_cleaned.to_sql(table_name,engine,if_exists='replace', index=True,chunksize=100)"
   ]
  },
  {
   "cell_type": "code",
   "execution_count": 13,
   "metadata": {},
   "outputs": [
    {
     "data": {
      "text/html": [
       "<div>\n",
       "<style scoped>\n",
       "    .dataframe tbody tr th:only-of-type {\n",
       "        vertical-align: middle;\n",
       "    }\n",
       "\n",
       "    .dataframe tbody tr th {\n",
       "        vertical-align: top;\n",
       "    }\n",
       "\n",
       "    .dataframe thead th {\n",
       "        text-align: right;\n",
       "    }\n",
       "</style>\n",
       "<table border=\"1\" class=\"dataframe\">\n",
       "  <thead>\n",
       "    <tr style=\"text-align: right;\">\n",
       "      <th></th>\n",
       "      <th>area_m2_5minpfaf06</th>\n",
       "      <th>count</th>\n",
       "      <th>output_version</th>\n",
       "      <th>parameter</th>\n",
       "      <th>pfaf_level</th>\n",
       "      <th>reducer</th>\n",
       "      <th>script_used</th>\n",
       "      <th>spatial_aggregation</th>\n",
       "      <th>spatial_resolution</th>\n",
       "      <th>unit</th>\n",
       "    </tr>\n",
       "    <tr>\n",
       "      <th>pfafid_5minpfaf06</th>\n",
       "      <th></th>\n",
       "      <th></th>\n",
       "      <th></th>\n",
       "      <th></th>\n",
       "      <th></th>\n",
       "      <th></th>\n",
       "      <th></th>\n",
       "      <th></th>\n",
       "      <th></th>\n",
       "      <th></th>\n",
       "    </tr>\n",
       "  </thead>\n",
       "  <tbody>\n",
       "    <tr>\n",
       "      <th>111011</th>\n",
       "      <td>1.933489e+09</td>\n",
       "      <td>26</td>\n",
       "      <td>2</td>\n",
       "      <td>area</td>\n",
       "      <td>6</td>\n",
       "      <td>sum</td>\n",
       "      <td>Y2018M04D20_RH_Zonal_Stats_Area_EE_V01</td>\n",
       "      <td>hydrobasin</td>\n",
       "      <td>5min</td>\n",
       "      <td>m2</td>\n",
       "    </tr>\n",
       "    <tr>\n",
       "      <th>111012</th>\n",
       "      <td>2.910369e+09</td>\n",
       "      <td>39</td>\n",
       "      <td>2</td>\n",
       "      <td>area</td>\n",
       "      <td>6</td>\n",
       "      <td>sum</td>\n",
       "      <td>Y2018M04D20_RH_Zonal_Stats_Area_EE_V01</td>\n",
       "      <td>hydrobasin</td>\n",
       "      <td>5min</td>\n",
       "      <td>m2</td>\n",
       "    </tr>\n",
       "    <tr>\n",
       "      <th>111013</th>\n",
       "      <td>8.220865e+08</td>\n",
       "      <td>11</td>\n",
       "      <td>2</td>\n",
       "      <td>area</td>\n",
       "      <td>6</td>\n",
       "      <td>sum</td>\n",
       "      <td>Y2018M04D20_RH_Zonal_Stats_Area_EE_V01</td>\n",
       "      <td>hydrobasin</td>\n",
       "      <td>5min</td>\n",
       "      <td>m2</td>\n",
       "    </tr>\n",
       "    <tr>\n",
       "      <th>111014</th>\n",
       "      <td>4.127270e+09</td>\n",
       "      <td>55</td>\n",
       "      <td>2</td>\n",
       "      <td>area</td>\n",
       "      <td>6</td>\n",
       "      <td>sum</td>\n",
       "      <td>Y2018M04D20_RH_Zonal_Stats_Area_EE_V01</td>\n",
       "      <td>hydrobasin</td>\n",
       "      <td>5min</td>\n",
       "      <td>m2</td>\n",
       "    </tr>\n",
       "    <tr>\n",
       "      <th>111015</th>\n",
       "      <td>1.661628e+10</td>\n",
       "      <td>219</td>\n",
       "      <td>2</td>\n",
       "      <td>area</td>\n",
       "      <td>6</td>\n",
       "      <td>sum</td>\n",
       "      <td>Y2018M04D20_RH_Zonal_Stats_Area_EE_V01</td>\n",
       "      <td>hydrobasin</td>\n",
       "      <td>5min</td>\n",
       "      <td>m2</td>\n",
       "    </tr>\n",
       "  </tbody>\n",
       "</table>\n",
       "</div>"
      ],
      "text/plain": [
       "                   area_m2_5minpfaf06  count  output_version parameter  \\\n",
       "pfafid_5minpfaf06                                                        \n",
       "111011                   1.933489e+09     26               2      area   \n",
       "111012                   2.910369e+09     39               2      area   \n",
       "111013                   8.220865e+08     11               2      area   \n",
       "111014                   4.127270e+09     55               2      area   \n",
       "111015                   1.661628e+10    219               2      area   \n",
       "\n",
       "                   pfaf_level reducer                             script_used  \\\n",
       "pfafid_5minpfaf06                                                               \n",
       "111011                      6     sum  Y2018M04D20_RH_Zonal_Stats_Area_EE_V01   \n",
       "111012                      6     sum  Y2018M04D20_RH_Zonal_Stats_Area_EE_V01   \n",
       "111013                      6     sum  Y2018M04D20_RH_Zonal_Stats_Area_EE_V01   \n",
       "111014                      6     sum  Y2018M04D20_RH_Zonal_Stats_Area_EE_V01   \n",
       "111015                      6     sum  Y2018M04D20_RH_Zonal_Stats_Area_EE_V01   \n",
       "\n",
       "                  spatial_aggregation spatial_resolution unit  \n",
       "pfafid_5minpfaf06                                              \n",
       "111011                     hydrobasin               5min   m2  \n",
       "111012                     hydrobasin               5min   m2  \n",
       "111013                     hydrobasin               5min   m2  \n",
       "111014                     hydrobasin               5min   m2  \n",
       "111015                     hydrobasin               5min   m2  "
      ]
     },
     "execution_count": 13,
     "metadata": {},
     "output_type": "execute_result"
    }
   ],
   "source": [
    "df_cleaned.head()"
   ]
  },
  {
   "cell_type": "code",
   "execution_count": 14,
   "metadata": {},
   "outputs": [
    {
     "name": "stdout",
     "output_type": "stream",
     "text": [
      "0:14:43.240018\n"
     ]
    }
   ],
   "source": [
    "end = datetime.datetime.now()\n",
    "elapsed = end - start\n",
    "print(elapsed)"
   ]
  },
  {
   "cell_type": "markdown",
   "metadata": {},
   "source": [
    "Previous Runs:  \n",
    "0:14:43.240018\n"
   ]
  }
 ],
 "metadata": {
  "kernelspec": {
   "display_name": "Python 35",
   "language": "python",
   "name": "python35"
  },
  "language_info": {
   "codemirror_mode": {
    "name": "ipython",
    "version": 3
   },
   "file_extension": ".py",
   "mimetype": "text/x-python",
   "name": "python",
   "nbconvert_exporter": "python",
   "pygments_lexer": "ipython3",
   "version": "3.5.4"
  }
 },
 "nbformat": 4,
 "nbformat_minor": 2
}
