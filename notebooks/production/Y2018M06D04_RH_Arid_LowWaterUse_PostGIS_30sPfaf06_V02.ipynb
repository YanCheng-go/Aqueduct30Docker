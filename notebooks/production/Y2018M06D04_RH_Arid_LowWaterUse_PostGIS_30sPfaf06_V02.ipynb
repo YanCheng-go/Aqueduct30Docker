{
 "cells": [
  {
   "cell_type": "code",
   "execution_count": 1,
   "metadata": {},
   "outputs": [
    {
     "name": "stdout",
     "output_type": "stream",
     "text": [
      "Input Table:  y2018m06d25_rh_cap_linear_trends_postgis_30spfaf06_v01_v01 \n",
      "Output Table:  y2018m06d04_rh_arid_lowwateruse_postgis_30spfaf06_v02_v06\n"
     ]
    }
   ],
   "source": [
    "\"\"\" Add column for arid, lowwateruse and aridandlowwateruse for each subbasin. \n",
    "-------------------------------------------------------------------------------\n",
    "\n",
    "This script has been edited on 20180625 to take into account the newly\n",
    "columns based on stats such as moving averga and ols.\n",
    "\n",
    "The script will create arid and low water use columns for the 'raw' values,\n",
    "moving average values and linear regression.\n",
    "\n",
    "\n",
    "Author: Rutger Hofste\n",
    "Date: 20180604\n",
    "Kernel: python35\n",
    "Docker: rutgerhofste/gisdocker:ubuntu16.04\n",
    "\n",
    "Args:\n",
    "    TESTING (Boolean) : Toggle testing case.\n",
    "    SCRIPT_NAME (string) : Script name.\n",
    "    OUTPUT_VERSION (integer) : output version.\n",
    "    DATABASE_ENDPOINT (string) : RDS or postGreSQL endpoint.\n",
    "    DATABASE_NAME (string) : Database name.\n",
    "    TABLE_NAME_AREA_30SPFAF06 (string) : Table name used for areas. Must exist\n",
    "        on same database as used in rest of script.\n",
    "    S3_INPUT_PATH_RIVERDISCHARGE (string) : AWS S3 input path for \n",
    "        riverdischarge.    \n",
    "    S3_INPUT_PATH_DEMAND (string) : AWS S3 input path for \n",
    "        demand.     \n",
    "\n",
    "\"\"\"\n",
    "\n",
    "TESTING = 0\n",
    "OVERWRITE_OUTPUT = 1\n",
    "SCRIPT_NAME = 'Y2018M06D04_RH_Arid_LowWaterUse_PostGIS_30sPfaf06_V02'\n",
    "OUTPUT_VERSION = 6\n",
    "\n",
    "THRESHOLD_ARID_YEAR = 0.03 #units are m/year, threshold defined by Aqueduct 2.1\n",
    "THRESHOLD_LOW_WATER_USE_YEAR = 0.012 #units are m/year, threshold defined by Aqueduct 2.1 Withdrawal\n",
    "\n",
    "DATABASE_ENDPOINT = \"aqueduct30v05.cgpnumwmfcqc.eu-central-1.rds.amazonaws.com\"\n",
    "DATABASE_NAME = \"database01\"\n",
    "\n",
    "INPUT_TABLE_NAME = \"y2018m06d25_rh_cap_linear_trends_postgis_30spfaf06_v01_v01\"\n",
    "OUTPUT_TABLE_NAME = SCRIPT_NAME.lower() + \"_v{:02.0f}\".format(OUTPUT_VERSION)\n",
    "\n",
    "print(\"Input Table: \" , INPUT_TABLE_NAME, \n",
    "      \"\\nOutput Table: \" , OUTPUT_TABLE_NAME)\n"
   ]
  },
  {
   "cell_type": "code",
   "execution_count": 2,
   "metadata": {},
   "outputs": [
    {
     "name": "stdout",
     "output_type": "stream",
     "text": [
      "Y2018M06D28 UTC 08:24\n"
     ]
    },
    {
     "data": {
      "text/plain": [
       "'3.5.4 |Anaconda, Inc.| (default, Nov 20 2017, 18:44:38) \\n[GCC 7.2.0]'"
      ]
     },
     "execution_count": 2,
     "metadata": {},
     "output_type": "execute_result"
    }
   ],
   "source": [
    "import time, datetime, sys\n",
    "dateString = time.strftime(\"Y%YM%mD%d\")\n",
    "timeString = time.strftime(\"UTC %H:%M\")\n",
    "start = datetime.datetime.now()\n",
    "print(dateString,timeString)\n",
    "sys.version"
   ]
  },
  {
   "cell_type": "code",
   "execution_count": 3,
   "metadata": {
    "collapsed": true
   },
   "outputs": [],
   "source": [
    "# imports\n",
    "import re\n",
    "import os\n",
    "import numpy as np\n",
    "import pandas as pd\n",
    "import aqueduct3\n",
    "from datetime import timedelta\n",
    "from sqlalchemy import *\n",
    "pd.set_option('display.max_columns', 500)"
   ]
  },
  {
   "cell_type": "code",
   "execution_count": 4,
   "metadata": {
    "collapsed": true
   },
   "outputs": [],
   "source": [
    "F = open(\"/.password\",\"r\")\n",
    "password = F.read().splitlines()[0]\n",
    "F.close()\n",
    "\n",
    "engine = create_engine(\"postgresql://rutgerhofste:{}@{}:5432/{}\".format(password,DATABASE_ENDPOINT,DATABASE_NAME))\n",
    "#connection = engine.connect()\n",
    "\n",
    "sqls = []\n",
    "\n",
    "if OVERWRITE_OUTPUT:\n",
    "    sqls.append(\"DROP TABLE IF EXISTS {};\".format(OUTPUT_TABLE_NAME))"
   ]
  },
  {
   "cell_type": "code",
   "execution_count": 5,
   "metadata": {
    "collapsed": true
   },
   "outputs": [],
   "source": [
    "threshold_arid_month = THRESHOLD_ARID_YEAR/12\n",
    "threshold_low_water_use_month = THRESHOLD_LOW_WATER_USE_YEAR/12\n",
    "\n"
   ]
  },
  {
   "cell_type": "code",
   "execution_count": 6,
   "metadata": {},
   "outputs": [
    {
     "data": {
      "text/plain": [
       "0.0025"
      ]
     },
     "execution_count": 6,
     "metadata": {},
     "output_type": "execute_result"
    }
   ],
   "source": [
    "threshold_arid_month"
   ]
  },
  {
   "cell_type": "code",
   "execution_count": 7,
   "metadata": {},
   "outputs": [
    {
     "data": {
      "text/plain": [
       "0.001"
      ]
     },
     "execution_count": 7,
     "metadata": {},
     "output_type": "execute_result"
    }
   ],
   "source": [
    "threshold_low_water_use_month"
   ]
  },
  {
   "cell_type": "code",
   "execution_count": 8,
   "metadata": {
    "collapsed": true
   },
   "outputs": [],
   "source": [
    "temporal_reducers = [\"\",\"ma10_\",\"ols10_\"]"
   ]
  },
  {
   "cell_type": "code",
   "execution_count": 9,
   "metadata": {},
   "outputs": [],
   "source": [
    "sql = \"CREATE TABLE {} AS\".format(OUTPUT_TABLE_NAME)\n",
    "sql = sql + \" SELECT *,\"\n",
    "for temporal_reducer in temporal_reducers:\n",
    "    sql = sql + \" CASE\"\n",
    "    sql = sql + \" WHEN {}riverdischarge_m_30spfaf06 < {} AND temporal_resolution = 'month' THEN 1\".format(temporal_reducer,threshold_arid_month)\n",
    "    sql = sql + \" WHEN {}riverdischarge_m_30spfaf06 < {} AND temporal_resolution = 'year' THEN 1\".format(temporal_reducer,THRESHOLD_ARID_YEAR)\n",
    "    sql = sql + \" ELSE 0 \"\n",
    "    sql = sql + \" END\"\n",
    "    sql = sql + \" AS {}arid_boolean_30spfaf06,\".format(temporal_reducer)\n",
    "\n",
    "for temporal_reducer in temporal_reducers:\n",
    "    sql = sql + \" CASE\"\n",
    "    sql = sql + \" WHEN {}ptotww_m_30spfaf06 < {} AND temporal_resolution = 'month' THEN 1\".format(temporal_reducer,threshold_low_water_use_month)\n",
    "    sql = sql + \" WHEN {}ptotww_m_30spfaf06 < {} AND temporal_resolution = 'year' THEN 1\".format(temporal_reducer,THRESHOLD_LOW_WATER_USE_YEAR)\n",
    "    sql = sql + \" ELSE 0 \"\n",
    "    sql = sql + \" END\"\n",
    "    sql = sql + \" AS {}lowwateruse_boolean_30spfaf06 ,\".format(temporal_reducer)\n",
    "\n",
    "\n",
    "for temporal_reducer in temporal_reducers:    \n",
    "    sql = sql + \" CASE\"\n",
    "    sql = sql + \" WHEN {}ptotww_m_30spfaf06 < {} AND temporal_resolution = 'month' AND {}riverdischarge_m_30spfaf06 < {} THEN 1\".format(temporal_reducer, threshold_low_water_use_month, temporal_reducer,threshold_arid_month)\n",
    "    sql = sql + \" WHEN {}ptotww_m_30spfaf06 < {} AND temporal_resolution = 'year' AND {}riverdischarge_m_30spfaf06 < {} THEN 1\".format(temporal_reducer, THRESHOLD_LOW_WATER_USE_YEAR, temporal_reducer,THRESHOLD_ARID_YEAR)\n",
    "    sql = sql + \" ELSE 0 \"\n",
    "    sql = sql + \" END\"\n",
    "    sql = sql + \" AS {}aridandlowwateruse_boolean_30spfaf06 ,\".format(temporal_reducer)\n",
    "\n",
    "    \n",
    "sql = sql[:-1]\n",
    "sql = sql + \" FROM {}\".format(INPUT_TABLE_NAME)\n",
    "\n",
    "if TESTING:\n",
    "    sql = sql + \" LIMIT 100\"\n"
   ]
  },
  {
   "cell_type": "code",
   "execution_count": 10,
   "metadata": {},
   "outputs": [
    {
     "name": "stdout",
     "output_type": "stream",
     "text": [
      "CREATE TABLE y2018m06d04_rh_arid_lowwateruse_postgis_30spfaf06_v02_v06 AS SELECT *, CASE WHEN riverdischarge_m_30spfaf06 < 0.0025 AND temporal_resolution = 'month' THEN 1 WHEN riverdischarge_m_30spfaf06 < 0.03 AND temporal_resolution = 'year' THEN 1 ELSE 0  END AS arid_boolean_30spfaf06, CASE WHEN ma10_riverdischarge_m_30spfaf06 < 0.0025 AND temporal_resolution = 'month' THEN 1 WHEN ma10_riverdischarge_m_30spfaf06 < 0.03 AND temporal_resolution = 'year' THEN 1 ELSE 0  END AS ma10_arid_boolean_30spfaf06, CASE WHEN ols10_riverdischarge_m_30spfaf06 < 0.0025 AND temporal_resolution = 'month' THEN 1 WHEN ols10_riverdischarge_m_30spfaf06 < 0.03 AND temporal_resolution = 'year' THEN 1 ELSE 0  END AS ols10_arid_boolean_30spfaf06, CASE WHEN ptotww_m_30spfaf06 < 0.001 AND temporal_resolution = 'month' THEN 1 WHEN ptotww_m_30spfaf06 < 0.012 AND temporal_resolution = 'year' THEN 1 ELSE 0  END AS lowwateruse_boolean_30spfaf06 , CASE WHEN ma10_ptotww_m_30spfaf06 < 0.001 AND temporal_resolution = 'month' THEN 1 WHEN ma10_ptotww_m_30spfaf06 < 0.012 AND temporal_resolution = 'year' THEN 1 ELSE 0  END AS ma10_lowwateruse_boolean_30spfaf06 , CASE WHEN ols10_ptotww_m_30spfaf06 < 0.001 AND temporal_resolution = 'month' THEN 1 WHEN ols10_ptotww_m_30spfaf06 < 0.012 AND temporal_resolution = 'year' THEN 1 ELSE 0  END AS ols10_lowwateruse_boolean_30spfaf06 , CASE WHEN ptotww_m_30spfaf06 < 0.001 AND temporal_resolution = 'month' AND riverdischarge_m_30spfaf06 < 0.0025 THEN 1 WHEN ptotww_m_30spfaf06 < 0.012 AND temporal_resolution = 'year' AND riverdischarge_m_30spfaf06 < 0.03 THEN 1 ELSE 0  END AS aridandlowwateruse_boolean_30spfaf06 , CASE WHEN ma10_ptotww_m_30spfaf06 < 0.001 AND temporal_resolution = 'month' AND ma10_riverdischarge_m_30spfaf06 < 0.0025 THEN 1 WHEN ma10_ptotww_m_30spfaf06 < 0.012 AND temporal_resolution = 'year' AND ma10_riverdischarge_m_30spfaf06 < 0.03 THEN 1 ELSE 0  END AS ma10_aridandlowwateruse_boolean_30spfaf06 , CASE WHEN ols10_ptotww_m_30spfaf06 < 0.001 AND temporal_resolution = 'month' AND ols10_riverdischarge_m_30spfaf06 < 0.0025 THEN 1 WHEN ols10_ptotww_m_30spfaf06 < 0.012 AND temporal_resolution = 'year' AND ols10_riverdischarge_m_30spfaf06 < 0.03 THEN 1 ELSE 0  END AS ols10_aridandlowwateruse_boolean_30spfaf06  FROM y2018m06d25_rh_cap_linear_trends_postgis_30spfaf06_v01_v01\n"
     ]
    }
   ],
   "source": [
    "print(sql)"
   ]
  },
  {
   "cell_type": "code",
   "execution_count": 11,
   "metadata": {
    "collapsed": true
   },
   "outputs": [],
   "source": [
    "result = engine.execute(sql)"
   ]
  },
  {
   "cell_type": "code",
   "execution_count": 12,
   "metadata": {
    "collapsed": true
   },
   "outputs": [],
   "source": [
    "sql_index = \"CREATE INDEX {}pfafid_30spfaf06 ON {} ({})\".format(OUTPUT_TABLE_NAME,OUTPUT_TABLE_NAME,\"pfafid_30spfaf06\")"
   ]
  },
  {
   "cell_type": "code",
   "execution_count": 13,
   "metadata": {
    "collapsed": true
   },
   "outputs": [],
   "source": [
    "result = engine.execute(sql_index)"
   ]
  },
  {
   "cell_type": "code",
   "execution_count": 14,
   "metadata": {
    "collapsed": true
   },
   "outputs": [],
   "source": [
    "engine.dispose()"
   ]
  },
  {
   "cell_type": "code",
   "execution_count": 15,
   "metadata": {},
   "outputs": [
    {
     "name": "stdout",
     "output_type": "stream",
     "text": [
      "0:13:31.296174\n"
     ]
    }
   ],
   "source": [
    "end = datetime.datetime.now()\n",
    "elapsed = end - start\n",
    "print(elapsed)"
   ]
  },
  {
   "cell_type": "markdown",
   "metadata": {},
   "source": [
    "Previous runs:  \n",
    "0:09:22.668061  \n",
    "0:09:36.313159  \n",
    "0:10:52.997894  \n",
    "0:13:31.296174\n",
    "\n",
    "\n",
    "\n"
   ]
  },
  {
   "cell_type": "code",
   "execution_count": null,
   "metadata": {
    "collapsed": true
   },
   "outputs": [],
   "source": []
  }
 ],
 "metadata": {
  "kernelspec": {
   "display_name": "Python 35",
   "language": "python",
   "name": "python35"
  },
  "language_info": {
   "codemirror_mode": {
    "name": "ipython",
    "version": 3
   },
   "file_extension": ".py",
   "mimetype": "text/x-python",
   "name": "python",
   "nbconvert_exporter": "python",
   "pygments_lexer": "ipython3",
   "version": "3.5.4"
  }
 },
 "nbformat": 4,
 "nbformat_minor": 2
}
