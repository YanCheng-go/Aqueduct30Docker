{
 "cells": [
  {
   "cell_type": "code",
   "execution_count": 16,
   "metadata": {},
   "outputs": [
    {
     "name": "stdout",
     "output_type": "stream",
     "text": [
      "Input s3: s3://wri-projects/Aqueduct30/rawData/WWF/HydroSheds30sComplete/RiverNetworks30s_unzipped\n",
      "Input ec2: /volumes/data/Y2019M02D11_RH_River_Networks_30s_V01/input_V03/\n",
      "Output ec2: /volumes/data/Y2019M02D11_RH_River_Networks_30s_V01/output_V03/\n",
      "Output S3: s3://wri-projects/Aqueduct30/processData/Y2019M02D11_RH_River_Networks_30s_V01/output_V03/\n"
     ]
    }
   ],
   "source": [
    "\"\"\" Merge WWF's River Networks at 30s resolution\n",
    "-------------------------------------------------------------------------------\n",
    "\n",
    "\n",
    "Author: Rutger Hofste\n",
    "Date: 20190211\n",
    "Kernel: python35\n",
    "Docker: rutgerhofste/gisdocker:ubuntu16.04\n",
    "\"\"\"\n",
    "\n",
    "SCRIPT_NAME = \"Y2019M02D11_RH_River_Networks_30s_V01\"\n",
    "OUTPUT_VERSION = 3\n",
    "\n",
    "S3_INPUT_PATH = \"s3://wri-projects/Aqueduct30/rawData/WWF/HydroSheds30sComplete/RiverNetworks30s_unzipped\"\n",
    "FILENAME = \"RiverNetwork30s\"\n",
    "\n",
    "ec2_input_path = \"/volumes/data/{}/input_V{:02.0f}/\".format(SCRIPT_NAME,OUTPUT_VERSION)\n",
    "ec2_output_path = \"/volumes/data/{}/output_V{:02.0f}/\".format(SCRIPT_NAME,OUTPUT_VERSION)\n",
    "\n",
    "s3_output_path = \"s3://wri-projects/Aqueduct30/processData/{}/output_V{:02.0f}/\".format(SCRIPT_NAME,OUTPUT_VERSION)\n",
    "\n",
    "\n",
    "print(\"Input s3: \" + S3_INPUT_PATH +\n",
    "      \"\\nInput ec2: \" + ec2_input_path +\n",
    "      \"\\nOutput ec2: \" + ec2_output_path+\n",
    "      \"\\nOutput S3: \" + s3_output_path)"
   ]
  },
  {
   "cell_type": "code",
   "execution_count": 2,
   "metadata": {},
   "outputs": [
    {
     "name": "stdout",
     "output_type": "stream",
     "text": [
      "Y2019M02D11 UTC 11:21\n"
     ]
    },
    {
     "data": {
      "text/plain": [
       "'3.5.4 |Anaconda, Inc.| (default, Nov 20 2017, 18:44:38) \\n[GCC 7.2.0]'"
      ]
     },
     "execution_count": 2,
     "metadata": {},
     "output_type": "execute_result"
    }
   ],
   "source": [
    "import time, datetime, sys\n",
    "dateString = time.strftime(\"Y%YM%mD%d\")\n",
    "timeString = time.strftime(\"UTC %H:%M\")\n",
    "start = datetime.datetime.now()\n",
    "print(dateString,timeString)\n",
    "sys.version"
   ]
  },
  {
   "cell_type": "code",
   "execution_count": 3,
   "metadata": {
    "collapsed": true
   },
   "outputs": [],
   "source": [
    "!mkdir -p {ec2_input_path}\n",
    "!mkdir -p {ec2_output_path}"
   ]
  },
  {
   "cell_type": "code",
   "execution_count": 4,
   "metadata": {},
   "outputs": [
    {
     "name": "stdout",
     "output_type": "stream",
     "text": [
      "download: s3://wri-projects/Aqueduct30/rawData/WWF/HydroSheds30sComplete/RiverNetworks30s_unzipped/af_riv_30s/af_riv_30s.prj to ../../../../data/Y2019M02D11_RH_River_Networks_30s_V01/input_V03/af_riv_30s/af_riv_30s.prj\n",
      "download: s3://wri-projects/Aqueduct30/rawData/WWF/HydroSheds30sComplete/RiverNetworks30s_unzipped/af_riv_30s/af_riv_30s.shp.xml to ../../../../data/Y2019M02D11_RH_River_Networks_30s_V01/input_V03/af_riv_30s/af_riv_30s.shp.xml\n",
      "download: s3://wri-projects/Aqueduct30/rawData/WWF/HydroSheds30sComplete/RiverNetworks30s_unzipped/af_riv_30s/af_riv_30s.shp.htm to ../../../../data/Y2019M02D11_RH_River_Networks_30s_V01/input_V03/af_riv_30s/af_riv_30s.shp.htm\n",
      "download: s3://wri-projects/Aqueduct30/rawData/WWF/HydroSheds30sComplete/RiverNetworks30s_unzipped/af_riv_30s/HydroSHEDS_TechDoc_v10.pdf to ../../../../data/Y2019M02D11_RH_River_Networks_30s_V01/input_V03/af_riv_30s/HydroSHEDS_TechDoc_v10.pdf\n",
      "download: s3://wri-projects/Aqueduct30/rawData/WWF/HydroSheds30sComplete/RiverNetworks30s_unzipped/af_riv_30s/af_riv_30s.sbx to ../../../../data/Y2019M02D11_RH_River_Networks_30s_V01/input_V03/af_riv_30s/af_riv_30s.sbx\n",
      "download: s3://wri-projects/Aqueduct30/rawData/WWF/HydroSheds30sComplete/RiverNetworks30s_unzipped/as_riv_30s/HydroSHEDS_TechDoc_v10.pdf to ../../../../data/Y2019M02D11_RH_River_Networks_30s_V01/input_V03/as_riv_30s/HydroSHEDS_TechDoc_v10.pdf\n",
      "download: s3://wri-projects/Aqueduct30/rawData/WWF/HydroSheds30sComplete/RiverNetworks30s_unzipped/as_riv_30s/as_riv_30s.prj to ../../../../data/Y2019M02D11_RH_River_Networks_30s_V01/input_V03/as_riv_30s/as_riv_30s.prj\n",
      "download: s3://wri-projects/Aqueduct30/rawData/WWF/HydroSheds30sComplete/RiverNetworks30s_unzipped/af_riv_30s/af_riv_30s.shx to ../../../../data/Y2019M02D11_RH_River_Networks_30s_V01/input_V03/af_riv_30s/af_riv_30s.shx\n",
      "download: s3://wri-projects/Aqueduct30/rawData/WWF/HydroSheds30sComplete/RiverNetworks30s_unzipped/af_riv_30s/af_riv_30s.sbn to ../../../../data/Y2019M02D11_RH_River_Networks_30s_V01/input_V03/af_riv_30s/af_riv_30s.sbn\n",
      "download: s3://wri-projects/Aqueduct30/rawData/WWF/HydroSheds30sComplete/RiverNetworks30s_unzipped/as_riv_30s/as_riv_30s.sbx to ../../../../data/Y2019M02D11_RH_River_Networks_30s_V01/input_V03/as_riv_30s/as_riv_30s.sbx\n",
      "download: s3://wri-projects/Aqueduct30/rawData/WWF/HydroSheds30sComplete/RiverNetworks30s_unzipped/af_riv_30s/af_riv_30s.dbf to ../../../../data/Y2019M02D11_RH_River_Networks_30s_V01/input_V03/af_riv_30s/af_riv_30s.dbf\n",
      "download: s3://wri-projects/Aqueduct30/rawData/WWF/HydroSheds30sComplete/RiverNetworks30s_unzipped/as_riv_30s/as_riv_30s.shp.htm to ../../../../data/Y2019M02D11_RH_River_Networks_30s_V01/input_V03/as_riv_30s/as_riv_30s.shp.htm\n",
      "download: s3://wri-projects/Aqueduct30/rawData/WWF/HydroSheds30sComplete/RiverNetworks30s_unzipped/as_riv_30s/as_riv_30s.dbf to ../../../../data/Y2019M02D11_RH_River_Networks_30s_V01/input_V03/as_riv_30s/as_riv_30s.dbf\n",
      "download: s3://wri-projects/Aqueduct30/rawData/WWF/HydroSheds30sComplete/RiverNetworks30s_unzipped/as_riv_30s/as_riv_30s.shp.xml to ../../../../data/Y2019M02D11_RH_River_Networks_30s_V01/input_V03/as_riv_30s/as_riv_30s.shp.xml\n",
      "download: s3://wri-projects/Aqueduct30/rawData/WWF/HydroSheds30sComplete/RiverNetworks30s_unzipped/as_riv_30s/as_riv_30s.sbn to ../../../../data/Y2019M02D11_RH_River_Networks_30s_V01/input_V03/as_riv_30s/as_riv_30s.sbn\n",
      "download: s3://wri-projects/Aqueduct30/rawData/WWF/HydroSheds30sComplete/RiverNetworks30s_unzipped/au_riv_30s/HydroSHEDS_TechDoc_v10.pdf to ../../../../data/Y2019M02D11_RH_River_Networks_30s_V01/input_V03/au_riv_30s/HydroSHEDS_TechDoc_v10.pdf\n",
      "download: s3://wri-projects/Aqueduct30/rawData/WWF/HydroSheds30sComplete/RiverNetworks30s_unzipped/au_riv_30s/au_riv_30s.prj to ../../../../data/Y2019M02D11_RH_River_Networks_30s_V01/input_V03/au_riv_30s/au_riv_30s.prj\n",
      "download: s3://wri-projects/Aqueduct30/rawData/WWF/HydroSheds30sComplete/RiverNetworks30s_unzipped/as_riv_30s/as_riv_30s.shx to ../../../../data/Y2019M02D11_RH_River_Networks_30s_V01/input_V03/as_riv_30s/as_riv_30s.shx\n",
      "download: s3://wri-projects/Aqueduct30/rawData/WWF/HydroSheds30sComplete/RiverNetworks30s_unzipped/au_riv_30s/au_riv_30s.dbf to ../../../../data/Y2019M02D11_RH_River_Networks_30s_V01/input_V03/au_riv_30s/au_riv_30s.dbf\n",
      "download: s3://wri-projects/Aqueduct30/rawData/WWF/HydroSheds30sComplete/RiverNetworks30s_unzipped/au_riv_30s/au_riv_30s.sbx to ../../../../data/Y2019M02D11_RH_River_Networks_30s_V01/input_V03/au_riv_30s/au_riv_30s.sbx\n",
      "download: s3://wri-projects/Aqueduct30/rawData/WWF/HydroSheds30sComplete/RiverNetworks30s_unzipped/au_riv_30s/au_riv_30s.sbn to ../../../../data/Y2019M02D11_RH_River_Networks_30s_V01/input_V03/au_riv_30s/au_riv_30s.sbn\n",
      "download: s3://wri-projects/Aqueduct30/rawData/WWF/HydroSheds30sComplete/RiverNetworks30s_unzipped/au_riv_30s/au_riv_30s.shp.htm to ../../../../data/Y2019M02D11_RH_River_Networks_30s_V01/input_V03/au_riv_30s/au_riv_30s.shp.htm\n",
      "download: s3://wri-projects/Aqueduct30/rawData/WWF/HydroSheds30sComplete/RiverNetworks30s_unzipped/au_riv_30s/au_riv_30s.shp.xml to ../../../../data/Y2019M02D11_RH_River_Networks_30s_V01/input_V03/au_riv_30s/au_riv_30s.shp.xml\n",
      "download: s3://wri-projects/Aqueduct30/rawData/WWF/HydroSheds30sComplete/RiverNetworks30s_unzipped/au_riv_30s/au_riv_30s.shx to ../../../../data/Y2019M02D11_RH_River_Networks_30s_V01/input_V03/au_riv_30s/au_riv_30s.shx\n",
      "download: s3://wri-projects/Aqueduct30/rawData/WWF/HydroSheds30sComplete/RiverNetworks30s_unzipped/ca_riv_30s/HydroSHEDS_TechDoc_v10.pdf to ../../../../data/Y2019M02D11_RH_River_Networks_30s_V01/input_V03/ca_riv_30s/HydroSHEDS_TechDoc_v10.pdf\n",
      "download: s3://wri-projects/Aqueduct30/rawData/WWF/HydroSheds30sComplete/RiverNetworks30s_unzipped/au_riv_30s/au_riv_30s.shp to ../../../../data/Y2019M02D11_RH_River_Networks_30s_V01/input_V03/au_riv_30s/au_riv_30s.shp\n",
      "download: s3://wri-projects/Aqueduct30/rawData/WWF/HydroSheds30sComplete/RiverNetworks30s_unzipped/ca_riv_30s/ca_riv_30s.prj to ../../../../data/Y2019M02D11_RH_River_Networks_30s_V01/input_V03/ca_riv_30s/ca_riv_30s.prj\n",
      "download: s3://wri-projects/Aqueduct30/rawData/WWF/HydroSheds30sComplete/RiverNetworks30s_unzipped/ca_riv_30s/ca_riv_30s.sbx to ../../../../data/Y2019M02D11_RH_River_Networks_30s_V01/input_V03/ca_riv_30s/ca_riv_30s.sbx\n",
      "download: s3://wri-projects/Aqueduct30/rawData/WWF/HydroSheds30sComplete/RiverNetworks30s_unzipped/ca_riv_30s/ca_riv_30s.sbn to ../../../../data/Y2019M02D11_RH_River_Networks_30s_V01/input_V03/ca_riv_30s/ca_riv_30s.sbn\n",
      "download: s3://wri-projects/Aqueduct30/rawData/WWF/HydroSheds30sComplete/RiverNetworks30s_unzipped/ca_riv_30s/ca_riv_30s.dbf to ../../../../data/Y2019M02D11_RH_River_Networks_30s_V01/input_V03/ca_riv_30s/ca_riv_30s.dbf\n",
      "download: s3://wri-projects/Aqueduct30/rawData/WWF/HydroSheds30sComplete/RiverNetworks30s_unzipped/ca_riv_30s/ca_riv_30s.shp.htm to ../../../../data/Y2019M02D11_RH_River_Networks_30s_V01/input_V03/ca_riv_30s/ca_riv_30s.shp.htm\n",
      "download: s3://wri-projects/Aqueduct30/rawData/WWF/HydroSheds30sComplete/RiverNetworks30s_unzipped/ca_riv_30s/ca_riv_30s.shp.xml to ../../../../data/Y2019M02D11_RH_River_Networks_30s_V01/input_V03/ca_riv_30s/ca_riv_30s.shp.xml\n",
      "download: s3://wri-projects/Aqueduct30/rawData/WWF/HydroSheds30sComplete/RiverNetworks30s_unzipped/ca_riv_30s/ca_riv_30s.shx to ../../../../data/Y2019M02D11_RH_River_Networks_30s_V01/input_V03/ca_riv_30s/ca_riv_30s.shx\n",
      "download: s3://wri-projects/Aqueduct30/rawData/WWF/HydroSheds30sComplete/RiverNetworks30s_unzipped/eu_riv_30s/HydroSHEDS_TechDoc_v11.pdf to ../../../../data/Y2019M02D11_RH_River_Networks_30s_V01/input_V03/eu_riv_30s/HydroSHEDS_TechDoc_v11.pdf\n",
      "download: s3://wri-projects/Aqueduct30/rawData/WWF/HydroSheds30sComplete/RiverNetworks30s_unzipped/eu_riv_30s/eu_riv_30s.prj to ../../../../data/Y2019M02D11_RH_River_Networks_30s_V01/input_V03/eu_riv_30s/eu_riv_30s.prj\n",
      "download: s3://wri-projects/Aqueduct30/rawData/WWF/HydroSheds30sComplete/RiverNetworks30s_unzipped/af_riv_30s/af_riv_30s.shp to ../../../../data/Y2019M02D11_RH_River_Networks_30s_V01/input_V03/af_riv_30s/af_riv_30s.shp\n",
      "download: s3://wri-projects/Aqueduct30/rawData/WWF/HydroSheds30sComplete/RiverNetworks30s_unzipped/eu_riv_30s/eu_riv_30s.shp.htm to ../../../../data/Y2019M02D11_RH_River_Networks_30s_V01/input_V03/eu_riv_30s/eu_riv_30s.shp.htm\n"
     ]
    },
    {
     "name": "stdout",
     "output_type": "stream",
     "text": [
      "download: s3://wri-projects/Aqueduct30/rawData/WWF/HydroSheds30sComplete/RiverNetworks30s_unzipped/ca_riv_30s/ca_riv_30s.shp to ../../../../data/Y2019M02D11_RH_River_Networks_30s_V01/input_V03/ca_riv_30s/ca_riv_30s.shp\n",
      "download: s3://wri-projects/Aqueduct30/rawData/WWF/HydroSheds30sComplete/RiverNetworks30s_unzipped/eu_riv_30s/eu_riv_30s.sbn to ../../../../data/Y2019M02D11_RH_River_Networks_30s_V01/input_V03/eu_riv_30s/eu_riv_30s.sbn\n",
      "download: s3://wri-projects/Aqueduct30/rawData/WWF/HydroSheds30sComplete/RiverNetworks30s_unzipped/eu_riv_30s/eu_riv_30s.shp.xml to ../../../../data/Y2019M02D11_RH_River_Networks_30s_V01/input_V03/eu_riv_30s/eu_riv_30s.shp.xml\n",
      "download: s3://wri-projects/Aqueduct30/rawData/WWF/HydroSheds30sComplete/RiverNetworks30s_unzipped/eu_riv_30s/eu_riv_30s.dbf to ../../../../data/Y2019M02D11_RH_River_Networks_30s_V01/input_V03/eu_riv_30s/eu_riv_30s.dbf\n",
      "download: s3://wri-projects/Aqueduct30/rawData/WWF/HydroSheds30sComplete/RiverNetworks30s_unzipped/as_riv_30s/as_riv_30s.shp to ../../../../data/Y2019M02D11_RH_River_Networks_30s_V01/input_V03/as_riv_30s/as_riv_30s.shp\n",
      "download: s3://wri-projects/Aqueduct30/rawData/WWF/HydroSheds30sComplete/RiverNetworks30s_unzipped/na_riv_30s/na_riv_30s.prj to ../../../../data/Y2019M02D11_RH_River_Networks_30s_V01/input_V03/na_riv_30s/na_riv_30s.prj\n",
      "download: s3://wri-projects/Aqueduct30/rawData/WWF/HydroSheds30sComplete/RiverNetworks30s_unzipped/na_riv_30s/HydroSHEDS_TechDoc_v11.pdf to ../../../../data/Y2019M02D11_RH_River_Networks_30s_V01/input_V03/na_riv_30s/HydroSHEDS_TechDoc_v11.pdf\n",
      "download: s3://wri-projects/Aqueduct30/rawData/WWF/HydroSheds30sComplete/RiverNetworks30s_unzipped/eu_riv_30s/eu_riv_30s.shx to ../../../../data/Y2019M02D11_RH_River_Networks_30s_V01/input_V03/eu_riv_30s/eu_riv_30s.shx\n",
      "download: s3://wri-projects/Aqueduct30/rawData/WWF/HydroSheds30sComplete/RiverNetworks30s_unzipped/eu_riv_30s/eu_riv_30s.sbx to ../../../../data/Y2019M02D11_RH_River_Networks_30s_V01/input_V03/eu_riv_30s/eu_riv_30s.sbx\n",
      "download: s3://wri-projects/Aqueduct30/rawData/WWF/HydroSheds30sComplete/RiverNetworks30s_unzipped/na_riv_30s/na_riv_30s.sbx to ../../../../data/Y2019M02D11_RH_River_Networks_30s_V01/input_V03/na_riv_30s/na_riv_30s.sbx\n",
      "download: s3://wri-projects/Aqueduct30/rawData/WWF/HydroSheds30sComplete/RiverNetworks30s_unzipped/na_riv_30s/na_riv_30s.shp.htm to ../../../../data/Y2019M02D11_RH_River_Networks_30s_V01/input_V03/na_riv_30s/na_riv_30s.shp.htm\n",
      "download: s3://wri-projects/Aqueduct30/rawData/WWF/HydroSheds30sComplete/RiverNetworks30s_unzipped/na_riv_30s/na_riv_30s.sbn to ../../../../data/Y2019M02D11_RH_River_Networks_30s_V01/input_V03/na_riv_30s/na_riv_30s.sbn\n",
      "download: s3://wri-projects/Aqueduct30/rawData/WWF/HydroSheds30sComplete/RiverNetworks30s_unzipped/na_riv_30s/na_riv_30s.dbf to ../../../../data/Y2019M02D11_RH_River_Networks_30s_V01/input_V03/na_riv_30s/na_riv_30s.dbf\n",
      "download: s3://wri-projects/Aqueduct30/rawData/WWF/HydroSheds30sComplete/RiverNetworks30s_unzipped/na_riv_30s/na_riv_30s.shx to ../../../../data/Y2019M02D11_RH_River_Networks_30s_V01/input_V03/na_riv_30s/na_riv_30s.shx\n",
      "download: s3://wri-projects/Aqueduct30/rawData/WWF/HydroSheds30sComplete/RiverNetworks30s_unzipped/sa_riv_30s/sa_riv_30s.prj to ../../../../data/Y2019M02D11_RH_River_Networks_30s_V01/input_V03/sa_riv_30s/sa_riv_30s.prj\n",
      "download: s3://wri-projects/Aqueduct30/rawData/WWF/HydroSheds30sComplete/RiverNetworks30s_unzipped/sa_riv_30s/HydroSHEDS_TechDoc_v10.pdf to ../../../../data/Y2019M02D11_RH_River_Networks_30s_V01/input_V03/sa_riv_30s/HydroSHEDS_TechDoc_v10.pdf\n",
      "download: s3://wri-projects/Aqueduct30/rawData/WWF/HydroSheds30sComplete/RiverNetworks30s_unzipped/sa_riv_30s/sa_riv_30s.dbf to ../../../../data/Y2019M02D11_RH_River_Networks_30s_V01/input_V03/sa_riv_30s/sa_riv_30s.dbf\n",
      "download: s3://wri-projects/Aqueduct30/rawData/WWF/HydroSheds30sComplete/RiverNetworks30s_unzipped/sa_riv_30s/sa_riv_30s.sbx to ../../../../data/Y2019M02D11_RH_River_Networks_30s_V01/input_V03/sa_riv_30s/sa_riv_30s.sbx\n",
      "download: s3://wri-projects/Aqueduct30/rawData/WWF/HydroSheds30sComplete/RiverNetworks30s_unzipped/sa_riv_30s/sa_riv_30s.shp.htm to ../../../../data/Y2019M02D11_RH_River_Networks_30s_V01/input_V03/sa_riv_30s/sa_riv_30s.shp.htm\n",
      "download: s3://wri-projects/Aqueduct30/rawData/WWF/HydroSheds30sComplete/RiverNetworks30s_unzipped/sa_riv_30s/sa_riv_30s.shp.xml to ../../../../data/Y2019M02D11_RH_River_Networks_30s_V01/input_V03/sa_riv_30s/sa_riv_30s.shp.xml\n",
      "download: s3://wri-projects/Aqueduct30/rawData/WWF/HydroSheds30sComplete/RiverNetworks30s_unzipped/eu_riv_30s/eu_riv_30s.shp to ../../../../data/Y2019M02D11_RH_River_Networks_30s_V01/input_V03/eu_riv_30s/eu_riv_30s.shp\n",
      "download: s3://wri-projects/Aqueduct30/rawData/WWF/HydroSheds30sComplete/RiverNetworks30s_unzipped/sa_riv_30s/sa_riv_30s.sbn to ../../../../data/Y2019M02D11_RH_River_Networks_30s_V01/input_V03/sa_riv_30s/sa_riv_30s.sbn\n",
      "download: s3://wri-projects/Aqueduct30/rawData/WWF/HydroSheds30sComplete/RiverNetworks30s_unzipped/sa_riv_30s/sa_riv_30s.shx to ../../../../data/Y2019M02D11_RH_River_Networks_30s_V01/input_V03/sa_riv_30s/sa_riv_30s.shx\n",
      "download: s3://wri-projects/Aqueduct30/rawData/WWF/HydroSheds30sComplete/RiverNetworks30s_unzipped/na_riv_30s/na_riv_30s.shp to ../../../../data/Y2019M02D11_RH_River_Networks_30s_V01/input_V03/na_riv_30s/na_riv_30s.shp\n",
      "download: s3://wri-projects/Aqueduct30/rawData/WWF/HydroSheds30sComplete/RiverNetworks30s_unzipped/na_riv_30s/na_riv_30s.shp.xml to ../../../../data/Y2019M02D11_RH_River_Networks_30s_V01/input_V03/na_riv_30s/na_riv_30s.shp.xml\n",
      "download: s3://wri-projects/Aqueduct30/rawData/WWF/HydroSheds30sComplete/RiverNetworks30s_unzipped/sa_riv_30s/sa_riv_30s.shp to ../../../../data/Y2019M02D11_RH_River_Networks_30s_V01/input_V03/sa_riv_30s/sa_riv_30s.shp\n"
     ]
    }
   ],
   "source": [
    "!aws s3 cp --recursive {S3_INPUT_PATH} {ec2_input_path} "
   ]
  },
  {
   "cell_type": "code",
   "execution_count": 5,
   "metadata": {
    "collapsed": true
   },
   "outputs": [],
   "source": [
    "import os\n",
    "import geopandas as gpd"
   ]
  },
  {
   "cell_type": "code",
   "execution_count": 6,
   "metadata": {},
   "outputs": [],
   "source": [
    "files = os.listdir(ec2_input_path)"
   ]
  },
  {
   "cell_type": "code",
   "execution_count": 12,
   "metadata": {
    "scrolled": true
   },
   "outputs": [
    {
     "name": "stdout",
     "output_type": "stream",
     "text": [
      "/volumes/data/Y2019M02D11_RH_River_Networks_30s_V01/input_V03/af_riv_30s/af_riv_30s.shp\n",
      "{'init': 'epsg:4326'}\n",
      "/volumes/data/Y2019M02D11_RH_River_Networks_30s_V01/input_V03/as_riv_30s/as_riv_30s.shp\n",
      "{'init': 'epsg:4326'}\n",
      "/volumes/data/Y2019M02D11_RH_River_Networks_30s_V01/input_V03/na_riv_30s/na_riv_30s.shp\n",
      "{'init': 'epsg:4326'}\n",
      "/volumes/data/Y2019M02D11_RH_River_Networks_30s_V01/input_V03/eu_riv_30s/eu_riv_30s.shp\n",
      "{'init': 'epsg:4326'}\n",
      "/volumes/data/Y2019M02D11_RH_River_Networks_30s_V01/input_V03/sa_riv_30s/sa_riv_30s.shp\n",
      "{'init': 'epsg:4326'}\n",
      "/volumes/data/Y2019M02D11_RH_River_Networks_30s_V01/input_V03/au_riv_30s/au_riv_30s.shp\n",
      "{'init': 'epsg:4326'}\n",
      "/volumes/data/Y2019M02D11_RH_River_Networks_30s_V01/input_V03/ca_riv_30s/ca_riv_30s.shp\n",
      "{'init': 'epsg:4326'}\n"
     ]
    }
   ],
   "source": [
    "gdf_total = gpd.GeoDataFrame()\n",
    "for one_file in files:\n",
    "    input_file_name = \"{}{}/{}.shp\".format(ec2_input_path,one_file,one_file)\n",
    "    print(input_file_name)\n",
    "    gdf = gpd.read_file(filename=input_file_name)\n",
    "    gdf_total = gdf_total.append(gdf)\n",
    "destination_path = \"{}/global_rivernetwork_30s.shp\".format(ec2_output_path)\n"
   ]
  },
  {
   "cell_type": "code",
   "execution_count": 13,
   "metadata": {
    "collapsed": true
   },
   "outputs": [],
   "source": [
    "gdf_total.to_file(filename = destination_path,\n",
    "                  driver=\"ESRI Shapefile\")"
   ]
  },
  {
   "cell_type": "code",
   "execution_count": 17,
   "metadata": {},
   "outputs": [
    {
     "name": "stdout",
     "output_type": "stream",
     "text": [
      "upload: ../../../../data/Y2019M02D11_RH_River_Networks_30s_V01/output_V03/global_rivernetwork_30s.cpg to s3://wri-projects/Aqueduct30/processData/Y2019M02D11_RH_River_Networks_30s_V01/output_V03/global_rivernetwork_30s.cpg\n",
      "upload: ../../../../data/Y2019M02D11_RH_River_Networks_30s_V01/output_V03/global_rivernetwork_30s.prj to s3://wri-projects/Aqueduct30/processData/Y2019M02D11_RH_River_Networks_30s_V01/output_V03/global_rivernetwork_30s.prj\n",
      "upload: ../../../../data/Y2019M02D11_RH_River_Networks_30s_V01/output_V03/global_rivernetwork_30s.shx to s3://wri-projects/Aqueduct30/processData/Y2019M02D11_RH_River_Networks_30s_V01/output_V03/global_rivernetwork_30s.shx\n",
      "upload: ../../../../data/Y2019M02D11_RH_River_Networks_30s_V01/output_V03/global_rivernetwork_30s.dbf to s3://wri-projects/Aqueduct30/processData/Y2019M02D11_RH_River_Networks_30s_V01/output_V03/global_rivernetwork_30s.dbf\n",
      "upload: ../../../../data/Y2019M02D11_RH_River_Networks_30s_V01/output_V03/global_rivernetwork_30s.shp to s3://wri-projects/Aqueduct30/processData/Y2019M02D11_RH_River_Networks_30s_V01/output_V03/global_rivernetwork_30s.shp\n"
     ]
    }
   ],
   "source": [
    "!aws s3 cp {ec2_output_path} {s3_output_path} --recursive"
   ]
  },
  {
   "cell_type": "code",
   "execution_count": 18,
   "metadata": {},
   "outputs": [
    {
     "name": "stdout",
     "output_type": "stream",
     "text": [
      "0:21:16.346083\n"
     ]
    }
   ],
   "source": [
    "end = datetime.datetime.now()\n",
    "elapsed = end - start\n",
    "print(elapsed)"
   ]
  },
  {
   "cell_type": "markdown",
   "metadata": {},
   "source": [
    "Previous Runs:  \n",
    "0:21:16.346083"
   ]
  },
  {
   "cell_type": "code",
   "execution_count": null,
   "metadata": {
    "collapsed": true
   },
   "outputs": [],
   "source": []
  }
 ],
 "metadata": {
  "kernelspec": {
   "display_name": "Python 35",
   "language": "python",
   "name": "python35"
  },
  "language_info": {
   "codemirror_mode": {
    "name": "ipython",
    "version": 3
   },
   "file_extension": ".py",
   "mimetype": "text/x-python",
   "name": "python",
   "nbconvert_exporter": "python",
   "pygments_lexer": "ipython3",
   "version": "3.5.4"
  }
 },
 "nbformat": 4,
 "nbformat_minor": 2
}
