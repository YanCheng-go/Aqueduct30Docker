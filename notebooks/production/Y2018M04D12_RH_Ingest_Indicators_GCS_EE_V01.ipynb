{
 "cells": [
  {
   "cell_type": "code",
   "execution_count": 1,
   "metadata": {},
   "outputs": [
    {
     "name": "stdout",
     "output_type": "stream",
     "text": [
      "Input gcs: gs://aqueduct30_v01/Y2017M08D08_RH_Convert_Indicators_ASC_Geotiff_V02/output_V07/\n",
      "Output ee: projects/WRI-Aquaduct/PCRGlobWB20V09\n",
      "Output S3: s3://wri-projects/Aqueduct30/processData/Y2018M04D12_RH_Ingest_Indicators_GCS_EE_V01/output_V01\n",
      "Output ec2: /volumes/data/Y2018M04D12_RH_Ingest_Indicators_GCS_EE_V01/output_V01\n"
     ]
    }
   ],
   "source": [
    "\"\"\" Ingest the non-time-series indicators into earth engine. \n",
    "-------------------------------------------------------------------------------\n",
    "ingest the converted indicators that were shared in ascii format to Earth\n",
    "Engine. \n",
    "\n",
    "Requirements:\n",
    "    Authorize earthengine by running in your terminal: earthengine \n",
    "                                                       authenticate\n",
    "\n",
    "    you need to have access to the WRI-Aquaduct (yep a Google employee made a\n",
    "    typo) bucket to ingest the data. Rutger can grant access to write to this \n",
    "    folder. \n",
    "\n",
    "    Have access to the Google Cloud Storage Bucker\n",
    "\n",
    "Make sure to set the project to Aqueduct30 by running\n",
    "`gcloud config set project aqueduct30`\n",
    "\n",
    "Code follows the Google for Python Styleguide. Exception are the scripts that \n",
    "use earth engine since this is camelCase instead of underscore.\n",
    "\n",
    "Author: Rutger Hofste\n",
    "Date: 20180412\n",
    "Kernel: python35\n",
    "Docker: rutgerhofste/gisdocker:ubuntu16.04\n",
    "\n",
    "Args:\n",
    "\n",
    "    TESTING (Boolean) : Toggle Testing Mode.\n",
    "    OVERWRITE (Boolean) : Overwrite old folder !CAUTION!\n",
    "    SCRIPT_NAME (string) : Script name.\n",
    "    PREVIOUS_SCRIPT_NAME (string) : Previous script name. \n",
    "    INPUT_VERSION (integer) : Input version.\n",
    "    EE_OUTPUT_VERSION (integer) : Output version for earthengine. \n",
    "    OUTPUT_VERSION (integer) : Output version.    \n",
    "    OUTPUT_FILE_NAME (string) : File Name for a csv file containing the failed tasks. \n",
    "\n",
    "Returns:\n",
    "\n",
    "\n",
    "\"\"\"\n",
    "\n",
    "# Input Parameters\n",
    "TESTING = 0\n",
    "OVERWRITE = 0 # !CAUTION will overwrite entire EE_FOLDER!!\n",
    "SCRIPT_NAME = \"Y2018M04D12_RH_Ingest_Indicators_GCS_EE_V01\"\n",
    "PREVIOUS_SCRIPT_NAME = \"Y2017M08D08_RH_Convert_Indicators_ASC_Geotiff_V02\"\n",
    "\n",
    "INPUT_VERSION = 7\n",
    "EE_OUTPUT_VERSION = 9\n",
    "OUTPUT_VERSION = 1\n",
    "\n",
    "OUTPUT_FILE_NAME = \"df_errors.csv\"\n",
    "\n",
    "SEPARATOR = \"_|-\"\n",
    "\n",
    "SCHEMA = [\"geographic_range\",\n",
    "    \"temporal_range\",\n",
    "    \"indicator\",\n",
    "    \"temporal_resolution\",\n",
    "    \"unit\",\n",
    "    \"spatial_resolution\",\n",
    "    \"temporal_range_min\",\n",
    "    \"temporal_range_max\"]\n",
    "\n",
    "EXTRA_PROPERTIES = {\"nodata_value\":-9999,\n",
    "                    \"ingested_by\" : \"RutgerHofste\",\n",
    "                    \"script_used\": SCRIPT_NAME,\n",
    "                    \"output_version\":OUTPUT_VERSION}\n",
    "\n",
    "\n",
    "\n",
    "gcs_input_path = \"gs://aqueduct30_v01/{}/output_V{:02.0f}/\".format(PREVIOUS_SCRIPT_NAME,INPUT_VERSION)\n",
    "ee_output_path = \"projects/WRI-Aquaduct/PCRGlobWB20V{:02.0f}\".format(EE_OUTPUT_VERSION)\n",
    "s3_output_path = \"s3://wri-projects/Aqueduct30/processData/{}/output_V{:02.0f}\".format(SCRIPT_NAME,OUTPUT_VERSION)\n",
    "ec2_output_path = \"/volumes/data/{}/output_V{:02.0f}\".format(SCRIPT_NAME,OUTPUT_VERSION)\n",
    "\n",
    "\n",
    "print(\"Input gcs: \" +  gcs_input_path +\n",
    "      \"\\nOutput ee: \" + ee_output_path +\n",
    "      \"\\nOutput S3: \" + s3_output_path +\n",
    "      \"\\nOutput ec2: \" + ec2_output_path)\n"
   ]
  },
  {
   "cell_type": "code",
   "execution_count": 2,
   "metadata": {},
   "outputs": [
    {
     "name": "stdout",
     "output_type": "stream",
     "text": [
      "Y2018M04D17 UTC 15:18\n"
     ]
    },
    {
     "data": {
      "text/plain": [
       "'3.5.4 |Anaconda, Inc.| (default, Nov 20 2017, 18:44:38) \\n[GCC 7.2.0]'"
      ]
     },
     "execution_count": 2,
     "metadata": {},
     "output_type": "execute_result"
    }
   ],
   "source": [
    "import time, datetime, sys\n",
    "dateString = time.strftime(\"Y%YM%mD%d\")\n",
    "timeString = time.strftime(\"UTC %H:%M\")\n",
    "start = datetime.datetime.now()\n",
    "print(dateString,timeString)\n",
    "sys.version"
   ]
  },
  {
   "cell_type": "code",
   "execution_count": 3,
   "metadata": {},
   "outputs": [
    {
     "name": "stdout",
     "output_type": "stream",
     "text": [
      "earthengine create folder projects/WRI-Aquaduct/PCRGlobWB20V09\n",
      "1 12.50elapsed:  0:00:03.719784\n",
      "2 25.00elapsed:  0:00:06.755128\n",
      "3 37.50elapsed:  0:00:09.795987\n",
      "4 50.00elapsed:  0:00:12.321397\n",
      "5 62.50elapsed:  0:00:15.115556\n",
      "6 75.00elapsed:  0:00:18.115436\n",
      "7 87.50elapsed:  0:00:21.120344\n",
      "8 100.00elapsed:  0:00:24.142515\n",
      "upload: ../../../../data/Y2018M04D12_RH_Ingest_Indicators_GCS_EE_V01/output_V01/df_errors.csv to s3://wri-projects/Aqueduct30/processData/Y2018M04D12_RH_Ingest_Indicators_GCS_EE_V01/output_V01/df_errors.csv\n"
     ]
    }
   ],
   "source": [
    "#imports\n",
    "import subprocess\n",
    "import datetime\n",
    "import os\n",
    "import time\n",
    "import re\n",
    "import pandas as pd\n",
    "from datetime import timedelta\n",
    "import aqueduct3\n",
    "\n",
    "def main():\n",
    "    start_time = time.time()\n",
    "    !mkdir -p {ec2_output_path}\n",
    "    keys = aqueduct3.get_GCS_keys(gcs_input_path)\n",
    "    df = aqueduct3.keys_to_df(keys,SEPARATOR,SCHEMA)\n",
    "    df = df.assign(**EXTRA_PROPERTIES) #Python >3.5\n",
    "    df[\"exportdescription\"] = df[\"indicator\"] + \"_\" + df[\"temporal_resolution\"]\n",
    "    df = df.apply(pd.to_numeric, errors='ignore')\n",
    "\n",
    "    # Earth Engine Preparations\n",
    "    # Create folder\n",
    "    if OVERWRITE:\n",
    "        command = \"earthengine rm -r {}\".format(ee_output_path)\n",
    "        print(command)\n",
    "        subprocess.check_output(command,shell=True)\n",
    "\n",
    "    command = \"earthengine create folder {}\".format(ee_output_path)\n",
    "    print(command)\n",
    "    subprocess.check_output(command,shell=True)\n",
    "\n",
    "    if TESTING:\n",
    "        df = df[1:3] \n",
    "\n",
    "    df_errors = pd.DataFrame()\n",
    "    for index, row in df.iterrows():\n",
    "        elapsed_time = time.time() - start_time \n",
    "        print(index,\"{:02.2f}\".format((float(index)/df.shape[0])*100) + \"elapsed: \", str(timedelta(seconds=elapsed_time)))\n",
    "\n",
    "        geotiff_gcs_path = gcs_input_path + row.file_name + \".\" + row.extension\n",
    "        output_ee_asset_id = ee_output_path + \"/\" + row.file_name\n",
    "        properties = row.to_dict()\n",
    "\n",
    "        df_errors2 = aqueduct3.upload_geotiff_to_EE_imageCollection(geotiff_gcs_path, output_ee_asset_id, properties,index)\n",
    "        df_errors = df_errors.append(df_errors2) \n",
    "\n",
    "    # Storing error dataframe on ec2 and S3\n",
    "    df_errors.to_csv(\"{}/{}\".format(ec2_output_path,OUTPUT_FILE_NAME))\n",
    "    !aws s3 cp  {ec2_output_path} {s3_output_path} --recursive\n",
    "\n",
    "    # Retry Failed Tasks Once\n",
    "    df_retry = df_errors.loc[df_errors['error'] != 0]\n",
    "    for index, row in df_retry.iterrows():\n",
    "        response = subprocess.check_output(row.command, shell=True)\n",
    "        \n",
    "    return df,df_errors\n",
    "\n",
    "if __name__ == \"__main__\":\n",
    "    df,df_errors = main()"
   ]
  },
  {
   "cell_type": "code",
   "execution_count": 4,
   "metadata": {},
   "outputs": [
    {
     "name": "stdout",
     "output_type": "stream",
     "text": [
      "0:00:29.149991\n"
     ]
    }
   ],
   "source": [
    "end = datetime.datetime.now()\n",
    "elapsed = end - start\n",
    "print(elapsed)"
   ]
  },
  {
   "cell_type": "markdown",
   "metadata": {},
   "source": [
    "Previous Runs:  \n",
    "0:00:29.149991"
   ]
  },
  {
   "cell_type": "code",
   "execution_count": null,
   "metadata": {
    "collapsed": true
   },
   "outputs": [],
   "source": []
  }
 ],
 "metadata": {
  "kernelspec": {
   "display_name": "Python 35",
   "language": "python",
   "name": "python35"
  },
  "language_info": {
   "codemirror_mode": {
    "name": "ipython",
    "version": 3
   },
   "file_extension": ".py",
   "mimetype": "text/x-python",
   "name": "python",
   "nbconvert_exporter": "python",
   "pygments_lexer": "ipython3",
   "version": "3.5.4"
  }
 },
 "nbformat": 4,
 "nbformat_minor": 2
}
