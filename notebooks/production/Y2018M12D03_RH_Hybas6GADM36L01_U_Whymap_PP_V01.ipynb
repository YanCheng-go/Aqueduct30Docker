{
 "cells": [
  {
   "cell_type": "code",
   "execution_count": 1,
   "metadata": {},
   "outputs": [
    {
     "name": "stdout",
     "output_type": "stream",
     "text": [
      "\n",
      "ec2_output_path: /volumes/data/Y2018M12D03_RH_Hybas6GADM36L01_U_Whymap_PP_V01/output_V01 \n",
      "s3_output_path:  s3://wri-projects/Aqueduct30/processData/Y2018M12D03_RH_Hybas6GADM36L01_U_Whymap_PP_V01/output_V01/ \n",
      "s3_output_path:  s3://wri-projects/Aqueduct30/processData/Y2018M12D03_RH_Hybas6GADM36L01_U_Whymap_PP_V01/output_V01/ \n",
      "S3_INPUT_PATH:  s3://wri-projects/Aqueduct30/processData/Y2018M11D29_RH_Hybas6_U_GADM36L01_GPD_PP_Merge_V01/output_V06/ \n",
      "RDS_INPUT_TABLE_RIGHT:  y2018m11d14_rh_whymap_to_rds_v01_v01\n"
     ]
    }
   ],
   "source": [
    "\"\"\" Union of hydrobasingadm36L01 and Whymap using geopandas parallel processing.\n",
    "-------------------------------------------------------------------------------\n",
    "\n",
    "TODO tomorrow: Simplify geometry of large input data, or snap geometries before\n",
    "performing the union.\n",
    "\n",
    "Avoid topology errors.\n",
    "\n",
    "\n",
    "Step 1:\n",
    "Create polygons (10x10 degree, 648).\n",
    "\n",
    "Step 2:\n",
    "Clip all geodataframes with polygons (intersect).\n",
    "\n",
    "Step 3:\n",
    "Peform union per polygon.\n",
    "\n",
    "Step 4: \n",
    "Merge results into large geodataframe.\n",
    "\n",
    "Step 5:\n",
    "Dissolve on unique identifier.\n",
    "\n",
    "Step 6:\n",
    "Save output\n",
    "\n",
    "Author: Rutger Hofste\n",
    "Date: 20181203\n",
    "Kernel: python35+\n",
    "Docker: rutgerhofste/gisdocker:ubuntu16.04\n",
    "\n",
    "\"\"\"\n",
    "\n",
    "TESTING = 0\n",
    "SCRIPT_NAME = \"Y2018M12D03_RH_Hybas6GADM36L01_U_Whymap_PP_V01\"\n",
    "OUTPUT_VERSION = 1\n",
    "\n",
    "TOLERANCE = 0.000001 # degrees\n",
    "\n",
    "RDS_DATABASE_ENDPOINT = \"aqueduct30v05.cgpnumwmfcqc.eu-central-1.rds.amazonaws.com\"\n",
    "RDS_DATABASE_NAME = \"database01\"\n",
    "RDS_INPUT_TABLE_RIGHT = \"y2018m11d14_rh_whymap_to_rds_v01_v01\"\n",
    "\n",
    "S3_INPUT_PATH = \"s3://wri-projects/Aqueduct30/processData/Y2018M11D29_RH_Hybas6_U_GADM36L01_GPD_PP_Merge_V01/output_V06/\"\n",
    "INPUT_FILE_NAME = \"Y2018M11D29_RH_Hybas6_U_GADM36L01_GPD_PP_Merge_V01.pkl\"\n",
    "\n",
    "ec2_input_path = \"/volumes/data/{}/input_V{:02.0f}\".format(SCRIPT_NAME,OUTPUT_VERSION)\n",
    "ec2_output_path = \"/volumes/data/{}/output_V{:02.0f}\".format(SCRIPT_NAME,OUTPUT_VERSION)\n",
    "ec2_output_path_df = \"/volumes/data/{}/outputdf_V{:02.0f}\".format(SCRIPT_NAME,OUTPUT_VERSION)\n",
    "\n",
    "s3_output_path = \"s3://wri-projects/Aqueduct30/processData/{}/output_V{:02.0f}/\".format(SCRIPT_NAME,OUTPUT_VERSION)\n",
    "s3_output_path_df = \"s3://wri-projects/Aqueduct30/processData/{}/outputdf_V{:02.0f}/\".format(SCRIPT_NAME,OUTPUT_VERSION)\n",
    "\n",
    "\n",
    "print(\"\\nec2_output_path:\", ec2_output_path,\n",
    "      \"\\ns3_output_path: \", s3_output_path,\n",
    "      \"\\ns3_output_path: \", s3_output_path,\n",
    "      \"\\nS3_INPUT_PATH: \", S3_INPUT_PATH,\n",
    "      \"\\nRDS_INPUT_TABLE_RIGHT: \",RDS_INPUT_TABLE_RIGHT)\n",
    "\n"
   ]
  },
  {
   "cell_type": "code",
   "execution_count": 2,
   "metadata": {},
   "outputs": [
    {
     "name": "stdout",
     "output_type": "stream",
     "text": [
      "Y2018M12D04 UTC 11:15\n"
     ]
    },
    {
     "data": {
      "text/plain": [
       "'3.5.4 |Anaconda, Inc.| (default, Nov 20 2017, 18:44:38) \\n[GCC 7.2.0]'"
      ]
     },
     "execution_count": 2,
     "metadata": {},
     "output_type": "execute_result"
    }
   ],
   "source": [
    "import time, datetime, sys\n",
    "dateString = time.strftime(\"Y%YM%mD%d\")\n",
    "timeString = time.strftime(\"UTC %H:%M\")\n",
    "start = datetime.datetime.now()\n",
    "print(dateString,timeString)\n",
    "sys.version"
   ]
  },
  {
   "cell_type": "code",
   "execution_count": 3,
   "metadata": {
    "collapsed": true
   },
   "outputs": [],
   "source": [
    "import os\n",
    "import sqlalchemy\n",
    "import multiprocessing\n",
    "import numpy as np\n",
    "import pandas as pd\n",
    "import geopandas as gpd\n",
    "from google.cloud import bigquery\n",
    "from shapely.geometry import MultiPolygon, Polygon\n",
    "from shapely.ops import snap"
   ]
  },
  {
   "cell_type": "code",
   "execution_count": 4,
   "metadata": {
    "collapsed": true
   },
   "outputs": [],
   "source": [
    "#r {ec2_output_path}\n",
    "#!rm -r {ec2_output_path}\n",
    "!mkdir -p {ec2_input_path}\n",
    "!mkdir -p {ec2_output_path}\n",
    "!mkdir -p {ec2_output_path_df}"
   ]
  },
  {
   "cell_type": "code",
   "execution_count": 5,
   "metadata": {},
   "outputs": [
    {
     "name": "stdout",
     "output_type": "stream",
     "text": [
      "download: s3://wri-projects/Aqueduct30/processData/Y2018M11D29_RH_Hybas6_U_GADM36L01_GPD_PP_Merge_V01/output_V06/Y2018M11D29_RH_Hybas6_U_GADM36L01_GPD_PP_Merge_V01.cpg to ../../../../data/Y2018M12D03_RH_Hybas6GADM36L01_U_Whymap_PP_V01/input_V01/Y2018M11D29_RH_Hybas6_U_GADM36L01_GPD_PP_Merge_V01.cpg\n",
      "download: s3://wri-projects/Aqueduct30/processData/Y2018M11D29_RH_Hybas6_U_GADM36L01_GPD_PP_Merge_V01/output_V06/Y2018M11D29_RH_Hybas6_U_GADM36L01_GPD_PP_Merge_V01.prj to ../../../../data/Y2018M12D03_RH_Hybas6GADM36L01_U_Whymap_PP_V01/input_V01/Y2018M11D29_RH_Hybas6_U_GADM36L01_GPD_PP_Merge_V01.prj\n",
      "download: s3://wri-projects/Aqueduct30/processData/Y2018M11D29_RH_Hybas6_U_GADM36L01_GPD_PP_Merge_V01/output_V06/Y2018M11D29_RH_Hybas6_U_GADM36L01_GPD_PP_Merge_V01.shx to ../../../../data/Y2018M12D03_RH_Hybas6GADM36L01_U_Whymap_PP_V01/input_V01/Y2018M11D29_RH_Hybas6_U_GADM36L01_GPD_PP_Merge_V01.shx\n",
      "download: s3://wri-projects/Aqueduct30/processData/Y2018M11D29_RH_Hybas6_U_GADM36L01_GPD_PP_Merge_V01/output_V06/Y2018M11D29_RH_Hybas6_U_GADM36L01_GPD_PP_Merge_V01.dbf to ../../../../data/Y2018M12D03_RH_Hybas6GADM36L01_U_Whymap_PP_V01/input_V01/Y2018M11D29_RH_Hybas6_U_GADM36L01_GPD_PP_Merge_V01.dbf\n",
      "download: s3://wri-projects/Aqueduct30/processData/Y2018M11D29_RH_Hybas6_U_GADM36L01_GPD_PP_Merge_V01/output_V06/Y2018M11D29_RH_Hybas6_U_GADM36L01_GPD_PP_Merge_V01.pkl to ../../../../data/Y2018M12D03_RH_Hybas6GADM36L01_U_Whymap_PP_V01/input_V01/Y2018M11D29_RH_Hybas6_U_GADM36L01_GPD_PP_Merge_V01.pkl\n",
      "download: s3://wri-projects/Aqueduct30/processData/Y2018M11D29_RH_Hybas6_U_GADM36L01_GPD_PP_Merge_V01/output_V06/Y2018M11D29_RH_Hybas6_U_GADM36L01_GPD_PP_Merge_V01.shp to ../../../../data/Y2018M12D03_RH_Hybas6GADM36L01_U_Whymap_PP_V01/input_V01/Y2018M11D29_RH_Hybas6_U_GADM36L01_GPD_PP_Merge_V01.shp\n"
     ]
    }
   ],
   "source": [
    "!aws s3 cp {S3_INPUT_PATH} {ec2_input_path} --recursive"
   ]
  },
  {
   "cell_type": "code",
   "execution_count": 6,
   "metadata": {},
   "outputs": [
    {
     "name": "stdout",
     "output_type": "stream",
     "text": [
      "Power to the maxxx: 14\n"
     ]
    }
   ],
   "source": [
    "cpu_count = multiprocessing.cpu_count()\n",
    "cpu_count = cpu_count -2 #Avoid freeze\n",
    "print(\"Power to the maxxx:\", cpu_count)"
   ]
  },
  {
   "cell_type": "code",
   "execution_count": 7,
   "metadata": {
    "collapsed": true
   },
   "outputs": [],
   "source": [
    "F = open(\"/.password\",\"r\")\n",
    "password = F.read().splitlines()[0]\n",
    "F.close()\n",
    "\n",
    "engine = sqlalchemy.create_engine(\"postgresql://rutgerhofste:{}@{}:5432/{}\".format(password,RDS_DATABASE_ENDPOINT,RDS_DATABASE_NAME))"
   ]
  },
  {
   "cell_type": "code",
   "execution_count": 8,
   "metadata": {
    "collapsed": true
   },
   "outputs": [],
   "source": [
    "cell_size = 10"
   ]
  },
  {
   "cell_type": "code",
   "execution_count": 9,
   "metadata": {
    "collapsed": true
   },
   "outputs": [],
   "source": [
    "def create_fishnet_gdf(cell_size):\n",
    "    crs = {'init': 'epsg:4326'}\n",
    "    lats = np.arange(-90,90,cell_size)\n",
    "    lons = np.arange(-180,180,cell_size)\n",
    "    geoms = []\n",
    "    for lat in lats:\n",
    "        for lon in lons:\n",
    "            llcr = (lon,lat)\n",
    "            lrcr = (lon+cell_size, lat)\n",
    "            urcr = (lon+cell_size, lat+cell_size)\n",
    "            ulcr = (lon, lat+ cell_size)\n",
    "            geom = Polygon([llcr,lrcr,urcr,ulcr])\n",
    "            geoms.append(geom)\n",
    "    gs = gpd.GeoSeries(geoms)\n",
    "    gdf_grid = gpd.GeoDataFrame(geometry=gs)\n",
    "    gdf_grid.crs = crs\n",
    "    return gdf_grid\n",
    "\n",
    "def post_process_geometry(geometry):\n",
    "    \"\"\" Post Process Shapely Geometries after Intersection\n",
    "    \n",
    "    Shapely does not always create the desired output geometry. When\n",
    "    vertices overlap, the result can be a geometryCollection with\n",
    "    (mutli)polygons and LineStrings or Points. \n",
    "    \n",
    "    This function converts the results of an intersection. It will\n",
    "    remove empty geometries\n",
    "    \n",
    "    Args: \n",
    "        SIMPLIFY_TOLERANCE(double): Global parameter to specify \n",
    "            simplification tolerance.\n",
    "        geomerty (shapely object): GeometryCollection, Multipolygon\n",
    "            Polygon, Linestring etc.\n",
    "            \n",
    "    Returns:\n",
    "        geometry_out(shapely object): MultiPolygon or\n",
    "            Polygon of simplified geometry.\n",
    "            \n",
    "    Usage:\n",
    "        apply to geodataframe geometry column.\n",
    "    \n",
    "    \"\"\"\n",
    "    geometry_buffered = geometry.buffer(0)\n",
    "    return geometry_buffered\n",
    "\n",
    "\n",
    "def clip_gdf(gdf_in,polygon):\n",
    "    \"\"\"\n",
    "    Clip geodataframe using shapely polygon.\n",
    "    Make sure crs is compatible.\n",
    "    \n",
    "    Removes any geometry that is (multi)polygon. i.e. LineStrings and Points are Removed\n",
    "    \n",
    "    Args:\n",
    "        gdf (GeoDataFrame): GeoDataFrame in.\n",
    "        polygon (Shapely Polygon): Polygon used for clipping\n",
    "    \n",
    "    \"\"\"\n",
    "    crs = gdf_in.crs\n",
    "    gdf_intersects = gdf_in.loc[gdf_in.geometry.intersects(polygon)]\n",
    "    df_intersects = gdf_intersects.drop(columns=[gdf_intersects.geometry.name])\n",
    "    gs_intersections = gpd.GeoSeries(gdf_intersects.geometry.intersection(polygon),crs=crs)\n",
    "    gdf_clipped = gpd.GeoDataFrame(df_intersects,geometry=gs_intersections)  \n",
    "    \n",
    "    # Some clipping results in GeometryCollections with polygons and LineStrings or Points. Convert valid geometry to Multipolygon\n",
    "    gdf_clipped.geometry = gdf_clipped.geometry.apply(post_process_geometry)\n",
    "    gdf_clipped_valid = gdf_clipped.loc[gdf_clipped.geometry.is_empty == False]\n",
    "    return gdf_clipped_valid\n",
    "\n",
    "\n",
    "def create_union_gdfs(gdf):\n",
    "    index = gdf.index[0]\n",
    "    print(\"Processing: \", index)\n",
    "    df_out = pd.DataFrame()\n",
    "    start = datetime.datetime.now()\n",
    "    polygon = gdf.iloc[0].geometry\n",
    "    destination_path = \"{}/gdf_union_{}.pkl\".format(ec2_output_path,index)\n",
    "    \n",
    "    gdf_left_clipped= clip_gdf(gdf_left,polygon)\n",
    "    gdf_right_clipped = clip_gdf(gdf_right,polygon)\n",
    "    \n",
    "    if gdf_left_clipped.shape[0] == 0 and gdf_right_clipped.shape[0] == 0:\n",
    "\n",
    "        gdf_out = None\n",
    "        write_output = False\n",
    "    elif gdf_left_clipped.shape[0] != 0 and gdf_right_clipped.shape[0] == 0:\n",
    "        gdf_out = gdf_left_clipped\n",
    "        write_output = True\n",
    "    elif gdf_left_clipped.shape[0] == 0 and gdf_right_clipped.shape[0] != 0:\n",
    "        gdf_out = gdf_right_clipped\n",
    "        write_output = True\n",
    "    elif gdf_left_clipped.shape[0] != 0 and gdf_right_clipped.shape[0] != 0:        \n",
    "        gdf_union = gpd.overlay(gdf_left_clipped,gdf_right_clipped,how=\"union\")\n",
    "        gdf_out = gdf_union\n",
    "        write_output = True        \n",
    "    \n",
    "    \n",
    "    if write_output:\n",
    "        if TESTING:\n",
    "            end = datetime.datetime.now()\n",
    "            elapsed = end - start\n",
    "            gdf_out[\"time_processed\"] = elapsed.total_seconds()\n",
    "            gdf_out[\"tile_index\"] = index\n",
    "        else:\n",
    "            pass\n",
    "        gdf_out.to_pickle(path=destination_path)\n",
    "    else:\n",
    "        pass\n",
    "    \n",
    "    print(\"Succesfully processed\", index)\n",
    "    return  gdf_out"
   ]
  },
  {
   "cell_type": "code",
   "execution_count": 10,
   "metadata": {
    "collapsed": true
   },
   "outputs": [],
   "source": [
    "gdf_grid = create_fishnet_gdf(cell_size)"
   ]
  },
  {
   "cell_type": "code",
   "execution_count": 11,
   "metadata": {},
   "outputs": [
    {
     "data": {
      "text/html": [
       "<div>\n",
       "<style scoped>\n",
       "    .dataframe tbody tr th:only-of-type {\n",
       "        vertical-align: middle;\n",
       "    }\n",
       "\n",
       "    .dataframe tbody tr th {\n",
       "        vertical-align: top;\n",
       "    }\n",
       "\n",
       "    .dataframe thead th {\n",
       "        text-align: right;\n",
       "    }\n",
       "</style>\n",
       "<table border=\"1\" class=\"dataframe\">\n",
       "  <thead>\n",
       "    <tr style=\"text-align: right;\">\n",
       "      <th></th>\n",
       "      <th>geometry</th>\n",
       "    </tr>\n",
       "  </thead>\n",
       "  <tbody>\n",
       "    <tr>\n",
       "      <th>0</th>\n",
       "      <td>POLYGON ((-180 -90, -170 -90, -170 -80, -180 -...</td>\n",
       "    </tr>\n",
       "    <tr>\n",
       "      <th>1</th>\n",
       "      <td>POLYGON ((-170 -90, -160 -90, -160 -80, -170 -...</td>\n",
       "    </tr>\n",
       "    <tr>\n",
       "      <th>2</th>\n",
       "      <td>POLYGON ((-160 -90, -150 -90, -150 -80, -160 -...</td>\n",
       "    </tr>\n",
       "    <tr>\n",
       "      <th>3</th>\n",
       "      <td>POLYGON ((-150 -90, -140 -90, -140 -80, -150 -...</td>\n",
       "    </tr>\n",
       "    <tr>\n",
       "      <th>4</th>\n",
       "      <td>POLYGON ((-140 -90, -130 -90, -130 -80, -140 -...</td>\n",
       "    </tr>\n",
       "  </tbody>\n",
       "</table>\n",
       "</div>"
      ],
      "text/plain": [
       "                                            geometry\n",
       "0  POLYGON ((-180 -90, -170 -90, -170 -80, -180 -...\n",
       "1  POLYGON ((-170 -90, -160 -90, -160 -80, -170 -...\n",
       "2  POLYGON ((-160 -90, -150 -90, -150 -80, -160 -...\n",
       "3  POLYGON ((-150 -90, -140 -90, -140 -80, -150 -...\n",
       "4  POLYGON ((-140 -90, -130 -90, -130 -80, -140 -..."
      ]
     },
     "execution_count": 11,
     "metadata": {},
     "output_type": "execute_result"
    }
   ],
   "source": [
    "gdf_grid.head()"
   ]
  },
  {
   "cell_type": "code",
   "execution_count": 12,
   "metadata": {},
   "outputs": [
    {
     "data": {
      "text/plain": [
       "(648, 1)"
      ]
     },
     "execution_count": 12,
     "metadata": {},
     "output_type": "execute_result"
    }
   ],
   "source": [
    "gdf_grid.shape"
   ]
  },
  {
   "cell_type": "code",
   "execution_count": 13,
   "metadata": {
    "collapsed": true
   },
   "outputs": [],
   "source": [
    "input_path = \"{}/{}\".format(ec2_input_path,INPUT_FILE_NAME)"
   ]
  },
  {
   "cell_type": "code",
   "execution_count": 14,
   "metadata": {
    "collapsed": true
   },
   "outputs": [],
   "source": [
    "gdf_left = pd.read_pickle(input_path)"
   ]
  },
  {
   "cell_type": "code",
   "execution_count": 15,
   "metadata": {},
   "outputs": [
    {
     "data": {
      "text/html": [
       "<div>\n",
       "<style scoped>\n",
       "    .dataframe tbody tr th:only-of-type {\n",
       "        vertical-align: middle;\n",
       "    }\n",
       "\n",
       "    .dataframe tbody tr th {\n",
       "        vertical-align: top;\n",
       "    }\n",
       "\n",
       "    .dataframe thead th {\n",
       "        text-align: right;\n",
       "    }\n",
       "</style>\n",
       "<table border=\"1\" class=\"dataframe\">\n",
       "  <thead>\n",
       "    <tr style=\"text-align: right;\">\n",
       "      <th></th>\n",
       "      <th>geometry</th>\n",
       "      <th>gid_1</th>\n",
       "      <th>pfaf_id</th>\n",
       "      <th>tile_index</th>\n",
       "      <th>time_processed</th>\n",
       "    </tr>\n",
       "  </thead>\n",
       "  <tbody>\n",
       "    <tr>\n",
       "      <th>0</th>\n",
       "      <td>(POLYGON ((109.1899119372771 -0.13726455130724...</td>\n",
       "      <td>IDN.12_1</td>\n",
       "      <td>521501.0</td>\n",
       "      <td>316</td>\n",
       "      <td>21.334714</td>\n",
       "    </tr>\n",
       "    <tr>\n",
       "      <th>1</th>\n",
       "      <td>(POLYGON ((109.29682159 -1.730021, 109.2963867...</td>\n",
       "      <td>IDN.12_1</td>\n",
       "      <td>521399.0</td>\n",
       "      <td>316</td>\n",
       "      <td>21.334714</td>\n",
       "    </tr>\n",
       "    <tr>\n",
       "      <th>2</th>\n",
       "      <td>(POLYGON ((109.8581099735913 0, 109.8583333333...</td>\n",
       "      <td>IDN.12_1</td>\n",
       "      <td>521502.0</td>\n",
       "      <td>316</td>\n",
       "      <td>21.334714</td>\n",
       "    </tr>\n",
       "    <tr>\n",
       "      <th>3</th>\n",
       "      <td>(POLYGON ((109.158231984216 -0.210504352512889...</td>\n",
       "      <td>IDN.12_1</td>\n",
       "      <td>521401.0</td>\n",
       "      <td>316</td>\n",
       "      <td>21.334714</td>\n",
       "    </tr>\n",
       "    <tr>\n",
       "      <th>4</th>\n",
       "      <td>POLYGON ((109.9451550043398 -1.123588117805635...</td>\n",
       "      <td>IDN.12_1</td>\n",
       "      <td>521397.0</td>\n",
       "      <td>316</td>\n",
       "      <td>21.334714</td>\n",
       "    </tr>\n",
       "  </tbody>\n",
       "</table>\n",
       "</div>"
      ],
      "text/plain": [
       "                                            geometry     gid_1   pfaf_id  \\\n",
       "0  (POLYGON ((109.1899119372771 -0.13726455130724...  IDN.12_1  521501.0   \n",
       "1  (POLYGON ((109.29682159 -1.730021, 109.2963867...  IDN.12_1  521399.0   \n",
       "2  (POLYGON ((109.8581099735913 0, 109.8583333333...  IDN.12_1  521502.0   \n",
       "3  (POLYGON ((109.158231984216 -0.210504352512889...  IDN.12_1  521401.0   \n",
       "4  POLYGON ((109.9451550043398 -1.123588117805635...  IDN.12_1  521397.0   \n",
       "\n",
       "   tile_index  time_processed  \n",
       "0         316       21.334714  \n",
       "1         316       21.334714  \n",
       "2         316       21.334714  \n",
       "3         316       21.334714  \n",
       "4         316       21.334714  "
      ]
     },
     "execution_count": 15,
     "metadata": {},
     "output_type": "execute_result"
    }
   ],
   "source": [
    "gdf_left.head()"
   ]
  },
  {
   "cell_type": "code",
   "execution_count": 16,
   "metadata": {},
   "outputs": [
    {
     "data": {
      "text/plain": [
       "(35751, 5)"
      ]
     },
     "execution_count": 16,
     "metadata": {},
     "output_type": "execute_result"
    }
   ],
   "source": [
    "gdf_left.shape"
   ]
  },
  {
   "cell_type": "code",
   "execution_count": 21,
   "metadata": {
    "collapsed": true
   },
   "outputs": [],
   "source": [
    "sql = \"\"\"\n",
    "SELECT\n",
    "  aqid,\n",
    "  geom\n",
    "FROM\n",
    "  {}\n",
    "\"\"\".format(RDS_INPUT_TABLE_RIGHT)"
   ]
  },
  {
   "cell_type": "code",
   "execution_count": 22,
   "metadata": {
    "collapsed": true
   },
   "outputs": [],
   "source": [
    "gdf_right = gpd.read_postgis(sql=sql,\n",
    "                             con=engine)"
   ]
  },
  {
   "cell_type": "code",
   "execution_count": 23,
   "metadata": {},
   "outputs": [
    {
     "data": {
      "text/html": [
       "<div>\n",
       "<style scoped>\n",
       "    .dataframe tbody tr th:only-of-type {\n",
       "        vertical-align: middle;\n",
       "    }\n",
       "\n",
       "    .dataframe tbody tr th {\n",
       "        vertical-align: top;\n",
       "    }\n",
       "\n",
       "    .dataframe thead th {\n",
       "        text-align: right;\n",
       "    }\n",
       "</style>\n",
       "<table border=\"1\" class=\"dataframe\">\n",
       "  <thead>\n",
       "    <tr style=\"text-align: right;\">\n",
       "      <th></th>\n",
       "      <th>aqid</th>\n",
       "      <th>geom</th>\n",
       "    </tr>\n",
       "  </thead>\n",
       "  <tbody>\n",
       "    <tr>\n",
       "      <th>0</th>\n",
       "      <td>0</td>\n",
       "      <td>(POLYGON ((-27.61888898379225 81.4749958595083...</td>\n",
       "    </tr>\n",
       "    <tr>\n",
       "      <th>1</th>\n",
       "      <td>19</td>\n",
       "      <td>(POLYGON ((-16.91555506127432 81.8560967874564...</td>\n",
       "    </tr>\n",
       "    <tr>\n",
       "      <th>2</th>\n",
       "      <td>20</td>\n",
       "      <td>(POLYGON ((-27.61888898379225 81.4749958595083...</td>\n",
       "    </tr>\n",
       "    <tr>\n",
       "      <th>3</th>\n",
       "      <td>25</td>\n",
       "      <td>(POLYGON ((63.47083247656703 81.58249504685597...</td>\n",
       "    </tr>\n",
       "    <tr>\n",
       "      <th>4</th>\n",
       "      <td>34</td>\n",
       "      <td>(POLYGON ((-94.67110548100065 80.0569264559232...</td>\n",
       "    </tr>\n",
       "  </tbody>\n",
       "</table>\n",
       "</div>"
      ],
      "text/plain": [
       "   aqid                                               geom\n",
       "0     0  (POLYGON ((-27.61888898379225 81.4749958595083...\n",
       "1    19  (POLYGON ((-16.91555506127432 81.8560967874564...\n",
       "2    20  (POLYGON ((-27.61888898379225 81.4749958595083...\n",
       "3    25  (POLYGON ((63.47083247656703 81.58249504685597...\n",
       "4    34  (POLYGON ((-94.67110548100065 80.0569264559232..."
      ]
     },
     "execution_count": 23,
     "metadata": {},
     "output_type": "execute_result"
    }
   ],
   "source": [
    "gdf_right.head()"
   ]
  },
  {
   "cell_type": "code",
   "execution_count": 24,
   "metadata": {},
   "outputs": [
    {
     "data": {
      "text/plain": [
       "(3402, 2)"
      ]
     },
     "execution_count": 24,
     "metadata": {},
     "output_type": "execute_result"
    }
   ],
   "source": [
    "gdf_right.shape"
   ]
  },
  {
   "cell_type": "code",
   "execution_count": 25,
   "metadata": {
    "collapsed": true
   },
   "outputs": [],
   "source": [
    "# got error index 265 (intersection)"
   ]
  },
  {
   "cell_type": "code",
   "execution_count": 26,
   "metadata": {
    "collapsed": true
   },
   "outputs": [],
   "source": [
    "gdf_grid_test = gdf_grid[265:266]"
   ]
  },
  {
   "cell_type": "code",
   "execution_count": 27,
   "metadata": {
    "collapsed": true
   },
   "outputs": [],
   "source": [
    "polygon = gdf_grid_test.iloc[0].geometry"
   ]
  },
  {
   "cell_type": "code",
   "execution_count": 28,
   "metadata": {
    "collapsed": true
   },
   "outputs": [],
   "source": [
    "gdf_clipped_left_test = clip_gdf(gdf_left,polygon)"
   ]
  },
  {
   "cell_type": "code",
   "execution_count": 29,
   "metadata": {
    "collapsed": true
   },
   "outputs": [],
   "source": [
    "gdf_clipped_right_test = clip_gdf(gdf_right,polygon)"
   ]
  },
  {
   "cell_type": "code",
   "execution_count": 30,
   "metadata": {
    "collapsed": true
   },
   "outputs": [],
   "source": [
    "%matplotlib inline"
   ]
  },
  {
   "cell_type": "code",
   "execution_count": 38,
   "metadata": {},
   "outputs": [],
   "source": [
    "gdf_clipped_left_test_selection = gdf_clipped_left_test.loc[(gdf_clipped_left_test[\"gid_1\"] == \"BRA.5_1\") & ((gdf_clipped_left_test[\"pfaf_id\"] == 634708.000000000000000 )|(gdf_clipped_left_test[\"pfaf_id\"] == 634508.000000000000000 )) ]"
   ]
  },
  {
   "cell_type": "code",
   "execution_count": 134,
   "metadata": {},
   "outputs": [],
   "source": [
    "gdf_clipped_left_test2 = gdf_clipped_left_test[30:285]"
   ]
  },
  {
   "cell_type": "code",
   "execution_count": 135,
   "metadata": {
    "scrolled": true
   },
   "outputs": [],
   "source": [
    "gdf_union = gpd.overlay(gdf_clipped_left_test2,gdf_clipped_right_test,how=\"union\")"
   ]
  },
  {
   "cell_type": "code",
   "execution_count": 110,
   "metadata": {},
   "outputs": [],
   "source": [
    "test_left = gdf_clipped_left_test[30:31]"
   ]
  },
  {
   "cell_type": "code",
   "execution_count": 142,
   "metadata": {},
   "outputs": [
    {
     "data": {
      "text/plain": [
       "<matplotlib.axes._subplots.AxesSubplot at 0x7f06428fceb8>"
      ]
     },
     "execution_count": 142,
     "metadata": {},
     "output_type": "execute_result"
    },
    {
     "data": {
      "image/png": "[encoded data removed]",
      "text/plain": [
       "<Figure size 432x288 with 1 Axes>"
      ]
     },
     "metadata": {},
     "output_type": "display_data"
    }
   ],
   "source": [
    "test_left.plot()"
   ]
  },
  {
   "cell_type": "code",
   "execution_count": 138,
   "metadata": {
    "collapsed": true
   },
   "outputs": [],
   "source": [
    "test_right = gdf_clipped_left_test[285:286]"
   ]
  },
  {
   "cell_type": "code",
   "execution_count": 139,
   "metadata": {},
   "outputs": [
    {
     "data": {
      "text/html": [
       "<div>\n",
       "<style scoped>\n",
       "    .dataframe tbody tr th:only-of-type {\n",
       "        vertical-align: middle;\n",
       "    }\n",
       "\n",
       "    .dataframe tbody tr th {\n",
       "        vertical-align: top;\n",
       "    }\n",
       "\n",
       "    .dataframe thead th {\n",
       "        text-align: right;\n",
       "    }\n",
       "</style>\n",
       "<table border=\"1\" class=\"dataframe\">\n",
       "  <thead>\n",
       "    <tr style=\"text-align: right;\">\n",
       "      <th></th>\n",
       "      <th>gid_1</th>\n",
       "      <th>pfaf_id</th>\n",
       "      <th>tile_index</th>\n",
       "      <th>time_processed</th>\n",
       "      <th>geometry</th>\n",
       "    </tr>\n",
       "  </thead>\n",
       "  <tbody>\n",
       "    <tr>\n",
       "      <th>28276</th>\n",
       "      <td>BRA.13_1</td>\n",
       "      <td>635407.0</td>\n",
       "      <td>265</td>\n",
       "      <td>16.235137</td>\n",
       "      <td>POLYGON ((-42.45416666666664 -16.6333333333333...</td>\n",
       "    </tr>\n",
       "  </tbody>\n",
       "</table>\n",
       "</div>"
      ],
      "text/plain": [
       "          gid_1   pfaf_id  tile_index  time_processed  \\\n",
       "28276  BRA.13_1  635407.0         265       16.235137   \n",
       "\n",
       "                                                geometry  \n",
       "28276  POLYGON ((-42.45416666666664 -16.6333333333333...  "
      ]
     },
     "execution_count": 139,
     "metadata": {},
     "output_type": "execute_result"
    }
   ],
   "source": [
    "test_right"
   ]
  },
  {
   "cell_type": "code",
   "execution_count": 141,
   "metadata": {},
   "outputs": [
    {
     "data": {
      "text/plain": [
       "<matplotlib.axes._subplots.AxesSubplot at 0x7f0642a7c710>"
      ]
     },
     "execution_count": 141,
     "metadata": {},
     "output_type": "execute_result"
    },
    {
     "data": {
      "image/png": "[encoded data removed]",
      "text/plain": [
       "<Figure size 432x288 with 1 Axes>"
      ]
     },
     "metadata": {},
     "output_type": "display_data"
    }
   ],
   "source": [
    "test_right.plot()"
   ]
  },
  {
   "cell_type": "code",
   "execution_count": 143,
   "metadata": {
    "collapsed": true
   },
   "outputs": [],
   "source": [
    "test_union = gpd.overlay(test_left,test_right,how=\"union\")"
   ]
  },
  {
   "cell_type": "code",
   "execution_count": null,
   "metadata": {
    "collapsed": true
   },
   "outputs": [],
   "source": []
  },
  {
   "cell_type": "code",
   "execution_count": null,
   "metadata": {
    "collapsed": true
   },
   "outputs": [],
   "source": []
  },
  {
   "cell_type": "code",
   "execution_count": null,
   "metadata": {
    "collapsed": true
   },
   "outputs": [],
   "source": []
  },
  {
   "cell_type": "code",
   "execution_count": null,
   "metadata": {
    "collapsed": true
   },
   "outputs": [],
   "source": []
  },
  {
   "cell_type": "code",
   "execution_count": null,
   "metadata": {
    "collapsed": true
   },
   "outputs": [],
   "source": []
  },
  {
   "cell_type": "code",
   "execution_count": null,
   "metadata": {
    "collapsed": true
   },
   "outputs": [],
   "source": []
  },
  {
   "cell_type": "code",
   "execution_count": null,
   "metadata": {},
   "outputs": [],
   "source": []
  },
  {
   "cell_type": "code",
   "execution_count": null,
   "metadata": {
    "collapsed": true
   },
   "outputs": [],
   "source": []
  },
  {
   "cell_type": "code",
   "execution_count": null,
   "metadata": {
    "collapsed": true
   },
   "outputs": [],
   "source": []
  },
  {
   "cell_type": "code",
   "execution_count": null,
   "metadata": {
    "collapsed": true
   },
   "outputs": [],
   "source": []
  },
  {
   "cell_type": "code",
   "execution_count": null,
   "metadata": {
    "collapsed": true
   },
   "outputs": [],
   "source": []
  },
  {
   "cell_type": "code",
   "execution_count": null,
   "metadata": {
    "collapsed": true
   },
   "outputs": [],
   "source": []
  },
  {
   "cell_type": "code",
   "execution_count": null,
   "metadata": {
    "collapsed": true
   },
   "outputs": [],
   "source": [
    "gdf_grid_list = np.array_split(gdf_grid, gdf_grid.shape[0])"
   ]
  },
  {
   "cell_type": "code",
   "execution_count": null,
   "metadata": {
    "collapsed": true
   },
   "outputs": [],
   "source": [
    "len(gdf_grid_list)"
   ]
  },
  {
   "cell_type": "code",
   "execution_count": null,
   "metadata": {
    "collapsed": true
   },
   "outputs": [],
   "source": [
    "gdf_grid_test = gdf_grid[265:266]"
   ]
  },
  {
   "cell_type": "code",
   "execution_count": null,
   "metadata": {
    "collapsed": true
   },
   "outputs": [],
   "source": []
  },
  {
   "cell_type": "code",
   "execution_count": null,
   "metadata": {
    "collapsed": true
   },
   "outputs": [],
   "source": []
  },
  {
   "cell_type": "code",
   "execution_count": null,
   "metadata": {
    "collapsed": true
   },
   "outputs": [],
   "source": [
    "p= multiprocessing.Pool(processes=cpu_count)\n",
    "df_out_list = p.map(create_union_gdfs,gdf_grid_list)\n",
    "p.close()\n",
    "p.join()"
   ]
  },
  {
   "cell_type": "code",
   "execution_count": null,
   "metadata": {
    "collapsed": true
   },
   "outputs": [],
   "source": [
    "df_out = pd.concat(df_out_list, ignore_index=True)"
   ]
  },
  {
   "cell_type": "code",
   "execution_count": null,
   "metadata": {
    "collapsed": true
   },
   "outputs": [],
   "source": [
    "output_path_df = \"{}/df_out.pkl\".format(ec2_output_path_df)"
   ]
  },
  {
   "cell_type": "code",
   "execution_count": null,
   "metadata": {
    "collapsed": true
   },
   "outputs": [],
   "source": [
    "df_out.to_pickle(output_path_df)"
   ]
  },
  {
   "cell_type": "code",
   "execution_count": null,
   "metadata": {
    "collapsed": true
   },
   "outputs": [],
   "source": []
  }
 ],
 "metadata": {
  "kernelspec": {
   "display_name": "Python 35",
   "language": "python",
   "name": "python35"
  },
  "language_info": {
   "codemirror_mode": {
    "name": "ipython",
    "version": 3
   },
   "file_extension": ".py",
   "mimetype": "text/x-python",
   "name": "python",
   "nbconvert_exporter": "python",
   "pygments_lexer": "ipython3",
   "version": "3.5.4"
  }
 },
 "nbformat": 4,
 "nbformat_minor": 2
}
