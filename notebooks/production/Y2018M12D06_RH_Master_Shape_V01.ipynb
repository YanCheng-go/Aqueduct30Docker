{
 "cells": [
  {
   "cell_type": "code",
   "execution_count": 1,
   "metadata": {},
   "outputs": [
    {
     "name": "stdout",
     "output_type": "stream",
     "text": [
      "S3_INPUT_PATH:  s3://wri-projects/Aqueduct30/processData/Y2018M12D06_RH_Master_Shape_Dissolve_01/output \n",
      "ec2_input_path:  /volumes/data/Y2018M12D06_RH_Master_Shape_V01/input_V01 \n",
      "ec2_output_path:  /volumes/data/Y2018M12D06_RH_Master_Shape_V01/output_V01 \n",
      "BQ_OUTPUT_DATASET_NAME:  aqueduct30v01 \n",
      "OUTPUT_TABLE_NAME:  y2018m12d06_rh_master_shape_v01_v01 \n",
      "s3_output_path:  s3://wri-projects/Aqueduct30/processData/Y2018M12D06_RH_Master_Shape_V01/output_V01/\n"
     ]
    }
   ],
   "source": [
    "\"\"\" Process master shapefile and store in multiple formats.\n",
    "-------------------------------------------------------------------------------\n",
    "\n",
    "Author: Rutger Hofste\n",
    "Date: 20181206\n",
    "Kernel: python35\n",
    "Docker: rutgerhofste/gisdocker:ubuntu16.04\n",
    "\n",
    "\"\"\"\n",
    "\n",
    "SCRIPT_NAME = \"Y2018M12D06_RH_Master_Shape_V01\"\n",
    "OUTPUT_VERSION = 1\n",
    "\n",
    "NODATA_VALUE = -9999\n",
    "\n",
    "S3_INPUT_PATH = \"s3://wri-projects/Aqueduct30/processData/Y2018M12D06_RH_Master_Shape_Dissolve_01/output\"\n",
    "INPUT_FILE_NAME = \"Y2018M12D06_RH_Master_Shape_Dissolved_V01.shp\"\n",
    "\n",
    "BQ_PROJECT_ID = \"aqueduct30\"\n",
    "BQ_OUTPUT_DATASET_NAME = \"aqueduct30v01\"\n",
    "\n",
    "RDS_DATABASE_ENDPOINT = \"aqueduct30v05.cgpnumwmfcqc.eu-central-1.rds.amazonaws.com\"\n",
    "RDS_DATABASE_NAME = \"database01\"\n",
    "\n",
    "OUTPUT_TABLE_NAME = \"{}_v{:02.0f}\".format(SCRIPT_NAME,OUTPUT_VERSION).lower()\n",
    "\n",
    "ec2_input_path = \"/volumes/data/{}/input_V{:02.0f}\".format(SCRIPT_NAME,OUTPUT_VERSION) \n",
    "ec2_output_path = \"/volumes/data/{}/output_V{:02.0f}\".format(SCRIPT_NAME,OUTPUT_VERSION) \n",
    "\n",
    "s3_output_path = \"s3://wri-projects/Aqueduct30/processData/{}/output_V{:02.0f}/\".format(SCRIPT_NAME,OUTPUT_VERSION)\n",
    "\n",
    "print(\"S3_INPUT_PATH: \",S3_INPUT_PATH,\n",
    "      \"\\nec2_input_path: \",ec2_input_path,\n",
    "      \"\\nec2_output_path: \",ec2_output_path,\n",
    "      \"\\nBQ_OUTPUT_DATASET_NAME: \", BQ_OUTPUT_DATASET_NAME,\n",
    "      \"\\nOUTPUT_TABLE_NAME: \",OUTPUT_TABLE_NAME,\n",
    "      \"\\ns3_output_path: \", s3_output_path\n",
    "      )"
   ]
  },
  {
   "cell_type": "code",
   "execution_count": 2,
   "metadata": {},
   "outputs": [
    {
     "name": "stdout",
     "output_type": "stream",
     "text": [
      "Y2018M12D06 UTC 16:18\n"
     ]
    },
    {
     "data": {
      "text/plain": [
       "'3.5.4 |Anaconda, Inc.| (default, Nov 20 2017, 18:44:38) \\n[GCC 7.2.0]'"
      ]
     },
     "execution_count": 2,
     "metadata": {},
     "output_type": "execute_result"
    }
   ],
   "source": [
    "import time, datetime, sys\n",
    "dateString = time.strftime(\"Y%YM%mD%d\")\n",
    "timeString = time.strftime(\"UTC %H:%M\")\n",
    "start = datetime.datetime.now()\n",
    "print(dateString,timeString)\n",
    "sys.version"
   ]
  },
  {
   "cell_type": "code",
   "execution_count": 3,
   "metadata": {
    "collapsed": true
   },
   "outputs": [],
   "source": [
    "!rm -r {ec2_input_path}\n",
    "!rm -r {ec2_output_path}\n",
    "!mkdir -p {ec2_input_path}\n",
    "!mkdir -p {ec2_output_path}"
   ]
  },
  {
   "cell_type": "code",
   "execution_count": 4,
   "metadata": {},
   "outputs": [
    {
     "name": "stdout",
     "output_type": "stream",
     "text": [
      "download: s3://wri-projects/Aqueduct30/processData/Y2018M12D06_RH_Master_Shape_Dissolve_01/output/Y2018M12D06_RH_Master_Shape_Dissolved_V01.cpg to ../../../../data/Y2018M12D06_RH_Master_Shape_V01/input_V01/Y2018M12D06_RH_Master_Shape_Dissolved_V01.cpg\n",
      "download: s3://wri-projects/Aqueduct30/processData/Y2018M12D06_RH_Master_Shape_Dissolve_01/output/Y2018M12D06_RH_Master_Shape_Dissolved_V01.prj to ../../../../data/Y2018M12D06_RH_Master_Shape_V01/input_V01/Y2018M12D06_RH_Master_Shape_Dissolved_V01.prj\n",
      "download: s3://wri-projects/Aqueduct30/processData/Y2018M12D06_RH_Master_Shape_Dissolve_01/output/Y2018M12D06_RH_Master_Shape_Dissolved_V01.shp.xml to ../../../../data/Y2018M12D06_RH_Master_Shape_V01/input_V01/Y2018M12D06_RH_Master_Shape_Dissolved_V01.shp.xml\n",
      "download: s3://wri-projects/Aqueduct30/processData/Y2018M12D06_RH_Master_Shape_Dissolve_01/output/Y2018M12D06_RH_Master_Shape_Dissolved_V01.sbx to ../../../../data/Y2018M12D06_RH_Master_Shape_V01/input_V01/Y2018M12D06_RH_Master_Shape_Dissolved_V01.sbx\n",
      "download: s3://wri-projects/Aqueduct30/processData/Y2018M12D06_RH_Master_Shape_Dissolve_01/output/Y2018M12D06_RH_Master_Shape_Dissolved_V01.dbf to ../../../../data/Y2018M12D06_RH_Master_Shape_V01/input_V01/Y2018M12D06_RH_Master_Shape_Dissolved_V01.dbf\n",
      "download: s3://wri-projects/Aqueduct30/processData/Y2018M12D06_RH_Master_Shape_Dissolve_01/output/Y2018M12D06_RH_Master_Shape_Dissolved_V01.shx to ../../../../data/Y2018M12D06_RH_Master_Shape_V01/input_V01/Y2018M12D06_RH_Master_Shape_Dissolved_V01.shx\n",
      "download: s3://wri-projects/Aqueduct30/processData/Y2018M12D06_RH_Master_Shape_Dissolve_01/output/Y2018M12D06_RH_Master_Shape_Dissolved_V01.sbn to ../../../../data/Y2018M12D06_RH_Master_Shape_V01/input_V01/Y2018M12D06_RH_Master_Shape_Dissolved_V01.sbn\n",
      "download: s3://wri-projects/Aqueduct30/processData/Y2018M12D06_RH_Master_Shape_Dissolve_01/output/Y2018M12D06_RH_Master_Shape_Dissolved_V01.shp to ../../../../data/Y2018M12D06_RH_Master_Shape_V01/input_V01/Y2018M12D06_RH_Master_Shape_Dissolved_V01.shp\n"
     ]
    }
   ],
   "source": [
    "!aws s3 cp {S3_INPUT_PATH} {ec2_input_path} --recursive "
   ]
  },
  {
   "cell_type": "code",
   "execution_count": 5,
   "metadata": {
    "collapsed": true
   },
   "outputs": [],
   "source": [
    "import os\n",
    "import sqlalchemy\n",
    "import multiprocessing\n",
    "import pandas as pd\n",
    "import geopandas as gpd\n",
    "import numpy as np\n",
    "from google.cloud import bigquery\n",
    "from shapely.geometry.multipolygon import MultiPolygon\n",
    "from geoalchemy2 import Geometry, WKTElement\n",
    "\n",
    "pd.set_option('display.max_columns', 500)\n",
    "\n",
    "os.environ[\"GOOGLE_APPLICATION_CREDENTIALS\"] = \"/.google.json\"\n",
    "os.environ[\"GOOGLE_CLOUD_PROJECT\"] = \"aqueduct30\"\n",
    "client = bigquery.Client(project=BQ_PROJECT_ID)"
   ]
  },
  {
   "cell_type": "code",
   "execution_count": 6,
   "metadata": {},
   "outputs": [],
   "source": [
    "F = open(\"/.password\",\"r\")\n",
    "password = F.read().splitlines()[0]\n",
    "F.close()\n",
    "\n",
    "engine = sqlalchemy.create_engine(\"postgresql://rutgerhofste:{}@{}:5432/{}\".format(password,RDS_DATABASE_ENDPOINT,RDS_DATABASE_NAME))\n",
    "connection = engine.connect()"
   ]
  },
  {
   "cell_type": "code",
   "execution_count": 7,
   "metadata": {
    "collapsed": true
   },
   "outputs": [],
   "source": [
    "input_path = \"{}/{}\".format(ec2_input_path,INPUT_FILE_NAME)"
   ]
  },
  {
   "cell_type": "code",
   "execution_count": 8,
   "metadata": {
    "collapsed": true
   },
   "outputs": [],
   "source": [
    "gdf = gpd.read_file(input_path)"
   ]
  },
  {
   "cell_type": "code",
   "execution_count": 9,
   "metadata": {},
   "outputs": [
    {
     "data": {
      "text/html": [
       "<div>\n",
       "<style scoped>\n",
       "    .dataframe tbody tr th:only-of-type {\n",
       "        vertical-align: middle;\n",
       "    }\n",
       "\n",
       "    .dataframe tbody tr th {\n",
       "        vertical-align: top;\n",
       "    }\n",
       "\n",
       "    .dataframe thead th {\n",
       "        text-align: right;\n",
       "    }\n",
       "</style>\n",
       "<table border=\"1\" class=\"dataframe\">\n",
       "  <thead>\n",
       "    <tr style=\"text-align: right;\">\n",
       "      <th></th>\n",
       "      <th>string_id</th>\n",
       "      <th>geometry</th>\n",
       "    </tr>\n",
       "  </thead>\n",
       "  <tbody>\n",
       "    <tr>\n",
       "      <th>0</th>\n",
       "      <td>111011-EGY.11_1-3365</td>\n",
       "      <td>POLYGON ((31.90590570688292 29.85788703615783,...</td>\n",
       "    </tr>\n",
       "    <tr>\n",
       "      <th>1</th>\n",
       "      <td>111011-EGY.15_1-3365</td>\n",
       "      <td>POLYGON ((32.37500000014998 30.09166666628367,...</td>\n",
       "    </tr>\n",
       "    <tr>\n",
       "      <th>2</th>\n",
       "      <td>111011-EGY.15_1-None</td>\n",
       "      <td>(POLYGON ((32.5295365298621 29.95075831581867,...</td>\n",
       "    </tr>\n",
       "    <tr>\n",
       "      <th>3</th>\n",
       "      <td>111011-None-3365</td>\n",
       "      <td>(POLYGON ((32.46194054146073 29.89250514754305...</td>\n",
       "    </tr>\n",
       "    <tr>\n",
       "      <th>4</th>\n",
       "      <td>111011-None-None</td>\n",
       "      <td>(POLYGON ((32.5295365298621 29.95075831581867,...</td>\n",
       "    </tr>\n",
       "  </tbody>\n",
       "</table>\n",
       "</div>"
      ],
      "text/plain": [
       "              string_id                                           geometry\n",
       "0  111011-EGY.11_1-3365  POLYGON ((31.90590570688292 29.85788703615783,...\n",
       "1  111011-EGY.15_1-3365  POLYGON ((32.37500000014998 30.09166666628367,...\n",
       "2  111011-EGY.15_1-None  (POLYGON ((32.5295365298621 29.95075831581867,...\n",
       "3      111011-None-3365  (POLYGON ((32.46194054146073 29.89250514754305...\n",
       "4      111011-None-None  (POLYGON ((32.5295365298621 29.95075831581867,..."
      ]
     },
     "execution_count": 9,
     "metadata": {},
     "output_type": "execute_result"
    }
   ],
   "source": [
    "gdf.head()"
   ]
  },
  {
   "cell_type": "code",
   "execution_count": 10,
   "metadata": {},
   "outputs": [
    {
     "data": {
      "text/plain": [
       "(68511, 2)"
      ]
     },
     "execution_count": 10,
     "metadata": {},
     "output_type": "execute_result"
    }
   ],
   "source": [
    "gdf.shape"
   ]
  },
  {
   "cell_type": "code",
   "execution_count": 11,
   "metadata": {},
   "outputs": [
    {
     "data": {
      "text/plain": [
       "string_id    object\n",
       "geometry     object\n",
       "dtype: object"
      ]
     },
     "execution_count": 11,
     "metadata": {},
     "output_type": "execute_result"
    }
   ],
   "source": [
    "gdf.dtypes"
   ]
  },
  {
   "cell_type": "code",
   "execution_count": 12,
   "metadata": {},
   "outputs": [],
   "source": [
    "gdf[['pfaf_id','gid_1','aqid']] = gdf.string_id.str.split('-', expand=True)"
   ]
  },
  {
   "cell_type": "code",
   "execution_count": 13,
   "metadata": {
    "collapsed": true
   },
   "outputs": [],
   "source": [
    "gdf.replace(\"None\",str(NODATA_VALUE),inplace=True)"
   ]
  },
  {
   "cell_type": "code",
   "execution_count": 14,
   "metadata": {},
   "outputs": [],
   "source": [
    "gdf[\"pfaf_id\"] = pd.to_numeric(gdf[\"pfaf_id\"])\n",
    "gdf[\"aqid\"] = pd.to_numeric(gdf[\"aqid\"])"
   ]
  },
  {
   "cell_type": "code",
   "execution_count": 19,
   "metadata": {},
   "outputs": [],
   "source": [
    "gdf = gdf.sort_values(\"string_id\")"
   ]
  },
  {
   "cell_type": "code",
   "execution_count": 20,
   "metadata": {
    "collapsed": true
   },
   "outputs": [],
   "source": [
    "gdf[\"aq30_id\"] = gdf.index"
   ]
  },
  {
   "cell_type": "code",
   "execution_count": 22,
   "metadata": {
    "collapsed": true
   },
   "outputs": [],
   "source": [
    "gdf = gdf.reindex(sorted(gdf.columns), axis=1)"
   ]
  },
  {
   "cell_type": "code",
   "execution_count": 23,
   "metadata": {},
   "outputs": [
    {
     "data": {
      "text/html": [
       "<div>\n",
       "<style scoped>\n",
       "    .dataframe tbody tr th:only-of-type {\n",
       "        vertical-align: middle;\n",
       "    }\n",
       "\n",
       "    .dataframe tbody tr th {\n",
       "        vertical-align: top;\n",
       "    }\n",
       "\n",
       "    .dataframe thead th {\n",
       "        text-align: right;\n",
       "    }\n",
       "</style>\n",
       "<table border=\"1\" class=\"dataframe\">\n",
       "  <thead>\n",
       "    <tr style=\"text-align: right;\">\n",
       "      <th></th>\n",
       "      <th>aq30_id</th>\n",
       "      <th>aqid</th>\n",
       "      <th>geometry</th>\n",
       "      <th>gid_1</th>\n",
       "      <th>pfaf_id</th>\n",
       "      <th>string_id</th>\n",
       "    </tr>\n",
       "  </thead>\n",
       "  <tbody>\n",
       "    <tr>\n",
       "      <th>0</th>\n",
       "      <td>0</td>\n",
       "      <td>3365</td>\n",
       "      <td>POLYGON ((31.90590570688292 29.85788703615783,...</td>\n",
       "      <td>EGY.11_1</td>\n",
       "      <td>111011</td>\n",
       "      <td>111011-EGY.11_1-3365</td>\n",
       "    </tr>\n",
       "    <tr>\n",
       "      <th>1</th>\n",
       "      <td>1</td>\n",
       "      <td>3365</td>\n",
       "      <td>POLYGON ((32.37500000014998 30.09166666628367,...</td>\n",
       "      <td>EGY.15_1</td>\n",
       "      <td>111011</td>\n",
       "      <td>111011-EGY.15_1-3365</td>\n",
       "    </tr>\n",
       "    <tr>\n",
       "      <th>2</th>\n",
       "      <td>2</td>\n",
       "      <td>-9999</td>\n",
       "      <td>(POLYGON ((32.5295365298621 29.95075831581867,...</td>\n",
       "      <td>EGY.15_1</td>\n",
       "      <td>111011</td>\n",
       "      <td>111011-EGY.15_1-None</td>\n",
       "    </tr>\n",
       "    <tr>\n",
       "      <th>3</th>\n",
       "      <td>3</td>\n",
       "      <td>3365</td>\n",
       "      <td>(POLYGON ((32.46194054146073 29.89250514754305...</td>\n",
       "      <td>-9999</td>\n",
       "      <td>111011</td>\n",
       "      <td>111011-None-3365</td>\n",
       "    </tr>\n",
       "    <tr>\n",
       "      <th>4</th>\n",
       "      <td>4</td>\n",
       "      <td>-9999</td>\n",
       "      <td>(POLYGON ((32.5295365298621 29.95075831581867,...</td>\n",
       "      <td>-9999</td>\n",
       "      <td>111011</td>\n",
       "      <td>111011-None-None</td>\n",
       "    </tr>\n",
       "  </tbody>\n",
       "</table>\n",
       "</div>"
      ],
      "text/plain": [
       "   aq30_id  aqid                                           geometry     gid_1  \\\n",
       "0        0  3365  POLYGON ((31.90590570688292 29.85788703615783,...  EGY.11_1   \n",
       "1        1  3365  POLYGON ((32.37500000014998 30.09166666628367,...  EGY.15_1   \n",
       "2        2 -9999  (POLYGON ((32.5295365298621 29.95075831581867,...  EGY.15_1   \n",
       "3        3  3365  (POLYGON ((32.46194054146073 29.89250514754305...     -9999   \n",
       "4        4 -9999  (POLYGON ((32.5295365298621 29.95075831581867,...     -9999   \n",
       "\n",
       "   pfaf_id             string_id  \n",
       "0   111011  111011-EGY.11_1-3365  \n",
       "1   111011  111011-EGY.15_1-3365  \n",
       "2   111011  111011-EGY.15_1-None  \n",
       "3   111011      111011-None-3365  \n",
       "4   111011      111011-None-None  "
      ]
     },
     "execution_count": 23,
     "metadata": {},
     "output_type": "execute_result"
    }
   ],
   "source": [
    "gdf.head()"
   ]
  },
  {
   "cell_type": "code",
   "execution_count": 26,
   "metadata": {
    "collapsed": true
   },
   "outputs": [],
   "source": [
    "destination_table = \"{}.{}\".format(BQ_OUTPUT_DATASET_NAME,OUTPUT_TABLE_NAME)"
   ]
  },
  {
   "cell_type": "code",
   "execution_count": 27,
   "metadata": {},
   "outputs": [
    {
     "name": "stderr",
     "output_type": "stream",
     "text": [
      "\n",
      "0it [00:00, ?it/s]\u001b[A\n",
      "1it [00:01,  1.12s/it]\u001b[A\n",
      "2it [00:12,  6.33s/it]\u001b[A\n",
      "3it [00:22,  7.56s/it]\u001b[A\n",
      "4it [00:36,  9.24s/it]\u001b[A\n",
      "5it [00:48,  9.72s/it]\u001b[A\n",
      "6it [01:01, 10.29s/it]\u001b[A\n",
      "7it [01:14, 10.67s/it]\u001b[A\n",
      "8it [01:23, 10.46s/it]\u001b[A\n",
      "9it [01:34, 10.48s/it]\u001b[A\n",
      "10it [01:43, 10.38s/it]\u001b[A\n",
      "11it [02:02, 11.12s/it]\u001b[A\n",
      "12it [02:14, 11.19s/it]\u001b[A\n",
      "13it [02:27, 11.32s/it]\u001b[A\n",
      "14it [02:37, 11.26s/it]\u001b[A\n",
      "15it [02:50, 11.36s/it]\u001b[A\n",
      "16it [03:03, 11.45s/it]\u001b[A\n",
      "17it [03:19, 11.76s/it]\u001b[A\n",
      "18it [03:29, 11.63s/it]\u001b[A\n",
      "19it [03:47, 11.97s/it]\u001b[A\n",
      "20it [04:18, 12.93s/it]\u001b[A\n",
      "21it [04:43, 13.51s/it]\u001b[A\n",
      "22it [05:20, 14.59s/it]\u001b[A\n",
      "23it [05:40, 14.79s/it]\u001b[A\n",
      "24it [05:48, 14.52s/it]\u001b[A\n",
      "25it [06:01, 14.44s/it]\u001b[A\n",
      "26it [06:11, 14.30s/it]\u001b[A\n",
      "27it [06:25, 14.26s/it]\u001b[A\n",
      "28it [06:45, 14.47s/it]\u001b[A\n",
      "29it [07:09, 14.82s/it]\u001b[A\n",
      "30it [07:28, 14.96s/it]\u001b[A\n",
      "31it [07:52, 15.23s/it]\u001b[A\n",
      "32it [08:05, 15.17s/it]\u001b[A\n",
      "33it [08:18, 15.11s/it]\u001b[A\n",
      "34it [08:39, 15.27s/it]\u001b[A\n",
      "35it [08:53, 15.24s/it]\u001b[A\n",
      "36it [09:16, 15.47s/it]\u001b[A\n",
      "37it [09:37, 15.60s/it]\u001b[A\n",
      "38it [09:49, 15.51s/it]\u001b[A\n",
      "39it [09:59, 15.37s/it]\u001b[A\n",
      "40it [10:12, 15.31s/it]\u001b[A\n",
      "41it [10:42, 15.66s/it]\u001b[A\n",
      "42it [11:09, 15.93s/it]\u001b[A\n",
      "43it [11:33, 16.13s/it]\u001b[A\n",
      "44it [11:48, 16.11s/it]\u001b[A\n",
      "45it [12:06, 16.15s/it]\u001b[A\n",
      "46it [12:38, 16.50s/it]\u001b[A\n",
      "47it [12:53, 16.47s/it]\u001b[A\n",
      "48it [13:12, 16.50s/it]\u001b[A\n",
      "49it [13:28, 16.50s/it]\u001b[A\n",
      "50it [13:39, 16.40s/it]\u001b[A\n",
      "51it [13:56, 16.41s/it]\u001b[A\n",
      "52it [14:24, 16.62s/it]\u001b[A\n",
      "53it [14:43, 16.68s/it]\u001b[A\n",
      "54it [15:11, 16.87s/it]\u001b[A\n",
      "55it [15:44, 17.17s/it]\u001b[A\n",
      "56it [15:56, 17.07s/it]\u001b[A\n",
      "57it [16:08, 17.00s/it]\u001b[A\n",
      "58it [16:34, 17.14s/it]\u001b[A\n",
      "59it [16:46, 17.06s/it]\u001b[A\n",
      "60it [17:03, 17.06s/it]\u001b[A\n",
      "61it [17:45, 17.47s/it]\u001b[A\n",
      "62it [18:22, 17.78s/it]\u001b[A\n",
      "63it [19:11, 18.27s/it]\u001b[A\n",
      "64it [19:39, 18.42s/it]\u001b[A\n",
      "65it [20:12, 18.65s/it]\u001b[A\n",
      "66it [20:27, 18.60s/it]\u001b[A\n",
      "67it [20:47, 18.62s/it]\u001b[A\n",
      "68it [21:07, 18.65s/it]\u001b[A\n",
      "69it [21:32, 18.74s/it]\u001b[A\n",
      "\u001b[A"
     ]
    }
   ],
   "source": [
    "gdf.to_gbq(destination_table=destination_table,\n",
    "          project_id=BQ_PROJECT_ID,\n",
    "          chunksize=1000,\n",
    "          if_exists=\"replace\")"
   ]
  },
  {
   "cell_type": "code",
   "execution_count": 28,
   "metadata": {
    "collapsed": true
   },
   "outputs": [],
   "source": [
    "def uploadGDFtoPostGIS(gdf,tableName,saveIndex):\n",
    "    # this function uploads a polygon shapefile to table in AWS RDS. \n",
    "    # It handles combined polygon/multipolygon geometry and stores it in valid multipolygon in epsg 4326.\n",
    "    \n",
    "    # gdf = input geoDataframe\n",
    "    # tableName = postGIS table name (string)\n",
    "    # saveIndex = save index column in separate column in postgresql, otherwise discarded. (Boolean)\n",
    "    \n",
    "    \n",
    "    gdf[\"type\"] = gdf.geometry.geom_type    \n",
    "    geomTypes = [\"Polygon\",\"MultiPolygon\"]\n",
    "    \n",
    "    for geomType in geomTypes:\n",
    "        gdfType = gdf.loc[gdf[\"type\"]== geomType]\n",
    "        geomTypeLower = str.lower(geomType)\n",
    "        gdfType['geom'] = gdfType['geometry'].apply(lambda x: WKTElement(x.wkt, srid=4326))\n",
    "        gdfType.drop([\"geometry\",\"type\"],1, inplace=True)      \n",
    "        print(\"Create table temp%s\" %(geomTypeLower)) \n",
    "        gdfType.to_sql(\n",
    "            name = \"temp%s\" %(geomTypeLower),\n",
    "            con = engine,\n",
    "            if_exists='replace',\n",
    "            index= saveIndex, \n",
    "            dtype={'geom': Geometry(str.upper(geomType), srid= 4326)}\n",
    "        )\n",
    "        \n",
    "    # Merge both tables and make valid\n",
    "    sql = []\n",
    "    sql.append(\"DROP TABLE IF EXISTS %s\"  %(tableName))\n",
    "    sql.append(\"ALTER TABLE temppolygon ALTER COLUMN geom type geometry(MultiPolygon, 4326) using ST_Multi(geom);\")\n",
    "    sql.append(\"CREATE TABLE %s AS (SELECT * FROM temppolygon UNION SELECT * FROM tempmultipolygon);\" %(tableName))\n",
    "    sql.append(\"UPDATE %s SET geom = st_makevalid(geom);\" %(tableName))\n",
    "    sql.append(\"DROP TABLE temppolygon,tempmultipolygon\")\n",
    "\n",
    "    for statement in sql:\n",
    "        print(statement)\n",
    "        result = connection.execute(statement)    \n",
    "    gdfFromSQL =gpd.GeoDataFrame.from_postgis(\"select * from %s\" %(tableName),connection,geom_col='geom' )\n",
    "    return gdfFromSQL"
   ]
  },
  {
   "cell_type": "code",
   "execution_count": 29,
   "metadata": {},
   "outputs": [
    {
     "name": "stderr",
     "output_type": "stream",
     "text": [
      "/opt/anaconda3/envs/python35/lib/python3.5/site-packages/ipykernel_launcher.py:16: SettingWithCopyWarning: \n",
      "A value is trying to be set on a copy of a slice from a DataFrame.\n",
      "Try using .loc[row_indexer,col_indexer] = value instead\n",
      "\n",
      "See the caveats in the documentation: http://pandas.pydata.org/pandas-docs/stable/indexing.html#indexing-view-versus-copy\n",
      "  app.launch_new_instance()\n",
      "/opt/anaconda3/envs/python35/lib/python3.5/site-packages/ipykernel_launcher.py:17: SettingWithCopyWarning: \n",
      "A value is trying to be set on a copy of a slice from a DataFrame\n",
      "\n",
      "See the caveats in the documentation: http://pandas.pydata.org/pandas-docs/stable/indexing.html#indexing-view-versus-copy\n"
     ]
    },
    {
     "name": "stdout",
     "output_type": "stream",
     "text": [
      "Create table temppolygon\n",
      "Create table tempmultipolygon\n",
      "DROP TABLE IF EXISTS y2018m12d06_rh_master_shape_v01_v01\n",
      "ALTER TABLE temppolygon ALTER COLUMN geom type geometry(MultiPolygon, 4326) using ST_Multi(geom);\n",
      "CREATE TABLE y2018m12d06_rh_master_shape_v01_v01 AS (SELECT * FROM temppolygon UNION SELECT * FROM tempmultipolygon);\n",
      "UPDATE y2018m12d06_rh_master_shape_v01_v01 SET geom = st_makevalid(geom);\n",
      "DROP TABLE temppolygon,tempmultipolygon\n"
     ]
    }
   ],
   "source": [
    "gdfFromSQL = uploadGDFtoPostGIS(gdf,OUTPUT_TABLE_NAME,False)"
   ]
  },
  {
   "cell_type": "code",
   "execution_count": 30,
   "metadata": {},
   "outputs": [
    {
     "name": "stdout",
     "output_type": "stream",
     "text": [
      "0:48:09.273757\n"
     ]
    }
   ],
   "source": [
    "end = datetime.datetime.now()\n",
    "elapsed = end - start\n",
    "print(elapsed)"
   ]
  },
  {
   "cell_type": "markdown",
   "metadata": {},
   "source": [
    "Previous runs:   \n",
    "0:01:12.245867"
   ]
  },
  {
   "cell_type": "code",
   "execution_count": null,
   "metadata": {
    "collapsed": true
   },
   "outputs": [],
   "source": []
  }
 ],
 "metadata": {
  "kernelspec": {
   "display_name": "Python 35",
   "language": "python",
   "name": "python35"
  },
  "language_info": {
   "codemirror_mode": {
    "name": "ipython",
    "version": 3
   },
   "file_extension": ".py",
   "mimetype": "text/x-python",
   "name": "python",
   "nbconvert_exporter": "python",
   "pygments_lexer": "ipython3",
   "version": "3.5.4"
  }
 },
 "nbformat": 4,
 "nbformat_minor": 2
}
