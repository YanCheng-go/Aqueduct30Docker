{
 "cells": [
  {
   "cell_type": "markdown",
   "metadata": {},
   "source": [
    "# Y2017M12D01_RH_ZonalStats_PCRGlobWB_toImage_EE_V01\n",
    "\n",
    "* Purpose of script: calculate sectoral demand, total demand, runoff and discharge per Hydrobasin level 6, export to imageCollections\n",
    "* Kernel used: python27\n",
    "* Date created: 20171201"
   ]
  },
  {
   "cell_type": "code",
   "execution_count": 1,
   "metadata": {},
   "outputs": [
    {
     "name": "stdout",
     "output_type": "stream",
     "text": [
      "('Y2017M12D01', 'UTC 14:14')\n"
     ]
    },
    {
     "data": {
      "text/plain": [
       "'2.7.13 |Continuum Analytics, Inc.| (default, Dec 20 2016, 23:09:15) \\n[GCC 4.4.7 20120313 (Red Hat 4.4.7-1)]'"
      ]
     },
     "execution_count": 1,
     "metadata": {},
     "output_type": "execute_result"
    }
   ],
   "source": [
    "import time, datetime, sys\n",
    "dateString = time.strftime(\"Y%YM%mD%d\")\n",
    "timeString = time.strftime(\"UTC %H:%M\")\n",
    "start = datetime.datetime.now()\n",
    "print(dateString,timeString)\n",
    "sys.version"
   ]
  },
  {
   "cell_type": "code",
   "execution_count": 40,
   "metadata": {
    "collapsed": true
   },
   "outputs": [],
   "source": [
    "EE_PATH = \"projects/WRI-Aquaduct/PCRGlobWB20V07\"\n",
    "\n",
    "SCRIPT_NAME = \"Y2017M12D01_RH_ZonalStats_PCRGlobWB_toImage_EE_V01\"\n",
    "\n",
    "OUTPUT_VERSION = 1\n",
    "\n",
    "PFAF_LEVEL = 6\n",
    "\n",
    "TESTING = 0\n",
    "\n",
    "DIMENSION5MIN = {}\n",
    "DIMENSION5MIN[\"x\"] = 4320\n",
    "DIMENSION5MIN[\"y\"] = 2160\n",
    "\n",
    "DIMENSION30S = {}\n",
    "DIMENSION30S[\"x\"] = 43200\n",
    "DIMENSION30S[\"y\"] = 21600\n",
    "\n",
    "CRS = \"EPSG:4326\"\n",
    "\n",
    "REDUCER_NAME = \"mean\"\n",
    "\n",
    "YEARMIN = 1960\n",
    "YEARMAX = 2014\n"
   ]
  },
  {
   "cell_type": "code",
   "execution_count": 3,
   "metadata": {
    "collapsed": true
   },
   "outputs": [],
   "source": [
    "import ee\n",
    "import subprocess\n",
    "import pandas as pd\n",
    "import logging\n",
    "import subprocess"
   ]
  },
  {
   "cell_type": "code",
   "execution_count": 4,
   "metadata": {
    "collapsed": true
   },
   "outputs": [],
   "source": [
    "ee.Initialize()"
   ]
  },
  {
   "cell_type": "code",
   "execution_count": 5,
   "metadata": {},
   "outputs": [],
   "source": [
    "logger = logging.getLogger(__name__)\n",
    "logger.setLevel(logging.DEBUG)\n",
    "formatter = logging.Formatter('%(asctime)s:%(levelname)s:%(message)s')\n",
    "file_handler = logging.FileHandler(\"./logs/%sV%0.2d.log\" %(SCRIPT_NAME,OUTPUT_VERSION))\n",
    "file_handler.setFormatter(formatter)\n",
    "logger.addHandler(file_handler)"
   ]
  },
  {
   "cell_type": "code",
   "execution_count": 6,
   "metadata": {
    "collapsed": true
   },
   "outputs": [],
   "source": [
    "area5min = ee.Image(\"%s/area_5min_m2V11\" %(EE_PATH))"
   ]
  },
  {
   "cell_type": "code",
   "execution_count": 7,
   "metadata": {},
   "outputs": [],
   "source": [
    "dimensions5min = \"%sx%s\" %(DIMENSION5MIN[\"x\"],DIMENSION5MIN[\"y\"])"
   ]
  },
  {
   "cell_type": "code",
   "execution_count": 8,
   "metadata": {},
   "outputs": [],
   "source": [
    "dimensions30s = \"%sx%s\" %(DIMENSION30S[\"x\"],DIMENSION30S[\"y\"])"
   ]
  },
  {
   "cell_type": "code",
   "execution_count": 9,
   "metadata": {
    "collapsed": true
   },
   "outputs": [],
   "source": [
    "crsTransform5min = [\n",
    "                0.0833333309780367,\n",
    "                0,\n",
    "                -179.99999491255934,\n",
    "                0,\n",
    "                -0.0833333309780367,\n",
    "                90.00000254430942\n",
    "              ]"
   ]
  },
  {
   "cell_type": "code",
   "execution_count": 10,
   "metadata": {
    "collapsed": true
   },
   "outputs": [],
   "source": [
    "crsTransform30s = [\n",
    "                0.008333333333333333,\n",
    "                0,\n",
    "                -180,\n",
    "                0,\n",
    "                -0.008333333333333333,\n",
    "                90\n",
    "              ]"
   ]
  },
  {
   "cell_type": "code",
   "execution_count": 11,
   "metadata": {
    "collapsed": true
   },
   "outputs": [],
   "source": [
    "geometry = ee.Geometry.Polygon(coords=[[-180.0, -90.0], [180,  -90.0], [180, 90], [-180,90]], proj= ee.Projection('EPSG:4326'),geodesic=False )\n",
    "\n",
    "if TESTING ==1:\n",
    "    geometry = ee.Geometry.Polygon(coords=[[-10.0, -10.0], [10,  -10.0], [10, 10], [-10,10]], proj= ee.Projection('EPSG:4326'),geodesic=False )"
   ]
  },
  {
   "cell_type": "code",
   "execution_count": 12,
   "metadata": {
    "collapsed": true
   },
   "outputs": [],
   "source": [
    "demandSectors = [\"PDom\",\"PInd\",\"PIrr\",\"PLiv\",\"PTot\"]\n",
    "demandTypes = [\"WW\",\"WN\"]\n",
    "temporalResolutions = [\"year\",\"month\"]\n",
    "\n",
    "supplySectors = [\"runoff\",\"riverdischarge\"]"
   ]
  },
  {
   "cell_type": "code",
   "execution_count": 41,
   "metadata": {},
   "outputs": [],
   "source": [
    "def createIndicatorDataFrame():\n",
    "    indicatorDf = pd.DataFrame()\n",
    "    for temporalResolution in temporalResolutions:\n",
    "        for demandSector in demandSectors:\n",
    "            for demandType in demandTypes:        \n",
    "                newRow = {}\n",
    "                newRow[\"sector\"] = demandSector\n",
    "                newRow[\"demandType\"] = demandType\n",
    "                newRow[\"temporalResolution\"] = temporalResolution\n",
    "                newRow[\"units\"] = \"millionm3\"\n",
    "                newRow[\"icID\"] = \"%s/global_historical_%s%s_%s_millionm3_5min_1960_2014\" %(EE_PATH,demandSector,demandType,temporalResolution)\n",
    "                indicatorDf = indicatorDf.append(newRow,ignore_index=True)\n",
    "        for supplySector in supplySectors:\n",
    "                newRow = {}\n",
    "                newRow[\"sector\"] =supplySector\n",
    "                newRow[\"demandType\"] = \"\"\n",
    "                newRow[\"temporalResolution\"] = temporalResolution\n",
    "                newRow[\"units\"] = \"millionm3\"\n",
    "                if supplySector == \"riverdischarge\":\n",
    "                    newRow[\"icID\"] = \"%s/global_historical_%s_%s_millionm3_5min_1960_2014\" %(EE_PATH,supplySector,temporalResolution)\n",
    "                elif supplySector == \"runoff\":\n",
    "                    newRow[\"icID\"] = \"%s/global_historical_%s_%s_millionm3_5min_1958_2014\" %(EE_PATH,supplySector,temporalResolution)\n",
    "                indicatorDf = indicatorDf.append(newRow,ignore_index=True)        \n",
    "        \n",
    "    return indicatorDf\n",
    "\n",
    "def createBasinsImage(PfafLevel):\n",
    "    HydroBASINSimage = ee.Image(\"users/rutgerhofste/PCRGlobWB20V04/support/global_Standard_lev00_30sGDALv01\")\n",
    "    HydroBASINSimageProjection = HydroBASINSimage.projection()\n",
    "    HydroBASINSimageNominalScale = HydroBASINSimageProjection.nominalScale()\n",
    "    hydroBasin = HydroBASINSimage.divide(ee.Number(10).pow(ee.Number(12).subtract(PfafLevel))).floor()\n",
    "    hydroBasin = hydroBasin.toInt64()\n",
    "    return ee.Image(hydroBasin), HydroBASINSimageNominalScale.getInfo()\n",
    "\n",
    "def volumeToFlux5min(image):\n",
    "    fluxImage = ee.Image(image).divide(area5min).multiply(1e6)\n",
    "    fluxImage = fluxImage.copyProperties(image)\n",
    "    fluxImage = fluxImage.set(\"units\",\"m\")\n",
    "    return ee.Image(fluxImage)\n",
    "\n",
    "\n",
    "\n",
    "def ensure_default_properties(obj): \n",
    "    obj = ee.Dictionary(obj)\n",
    "    default_properties = ee.Dictionary({REDUCER_NAME: -9999})\n",
    "    return default_properties.combine(obj)\n",
    "\n",
    "def mapList(results, key):\n",
    "    newResult = results.map(lambda x: ee.Dictionary(x).get(key))\n",
    "    return newResult\n",
    "\n",
    "def createCollections(sector,demandType,temporalResolution):\n",
    "    icId = \"global_historical_%s%s_%s_m_pfaf%0.2d_1960_2014\" %(sector,demandType,temporalResolution,PFAF_LEVEL)\n",
    "    command = \"earthengine create collection %s/%s\" %(EE_PATH,icId) \n",
    "    result = subprocess.check_output(command,shell=True)\n",
    "    if result:\n",
    "        logger.error(result)"
   ]
  },
  {
   "cell_type": "code",
   "execution_count": 23,
   "metadata": {},
   "outputs": [],
   "source": [
    "indicatorDf = createIndicatorDataFrame()"
   ]
  },
  {
   "cell_type": "code",
   "execution_count": 42,
   "metadata": {},
   "outputs": [],
   "source": [
    "hydroBasin, hybasScale = createBasinsImage(PFAF_LEVEL)"
   ]
  },
  {
   "cell_type": "code",
   "execution_count": 24,
   "metadata": {},
   "outputs": [
    {
     "data": {
      "text/html": [
       "<div>\n",
       "<style>\n",
       "    .dataframe thead tr:only-child th {\n",
       "        text-align: right;\n",
       "    }\n",
       "\n",
       "    .dataframe thead th {\n",
       "        text-align: left;\n",
       "    }\n",
       "\n",
       "    .dataframe tbody tr th {\n",
       "        vertical-align: top;\n",
       "    }\n",
       "</style>\n",
       "<table border=\"1\" class=\"dataframe\">\n",
       "  <thead>\n",
       "    <tr style=\"text-align: right;\">\n",
       "      <th></th>\n",
       "      <th>demandType</th>\n",
       "      <th>icID</th>\n",
       "      <th>sector</th>\n",
       "      <th>temporalResolution</th>\n",
       "      <th>units</th>\n",
       "    </tr>\n",
       "  </thead>\n",
       "  <tbody>\n",
       "    <tr>\n",
       "      <th>0</th>\n",
       "      <td>WW</td>\n",
       "      <td>projects/WRI-Aquaduct/PCRGlobWB20V07/global_hi...</td>\n",
       "      <td>PDom</td>\n",
       "      <td>year</td>\n",
       "      <td>millionm3</td>\n",
       "    </tr>\n",
       "    <tr>\n",
       "      <th>1</th>\n",
       "      <td>WN</td>\n",
       "      <td>projects/WRI-Aquaduct/PCRGlobWB20V07/global_hi...</td>\n",
       "      <td>PDom</td>\n",
       "      <td>year</td>\n",
       "      <td>millionm3</td>\n",
       "    </tr>\n",
       "    <tr>\n",
       "      <th>2</th>\n",
       "      <td>WW</td>\n",
       "      <td>projects/WRI-Aquaduct/PCRGlobWB20V07/global_hi...</td>\n",
       "      <td>PInd</td>\n",
       "      <td>year</td>\n",
       "      <td>millionm3</td>\n",
       "    </tr>\n",
       "    <tr>\n",
       "      <th>3</th>\n",
       "      <td>WN</td>\n",
       "      <td>projects/WRI-Aquaduct/PCRGlobWB20V07/global_hi...</td>\n",
       "      <td>PInd</td>\n",
       "      <td>year</td>\n",
       "      <td>millionm3</td>\n",
       "    </tr>\n",
       "    <tr>\n",
       "      <th>4</th>\n",
       "      <td>WW</td>\n",
       "      <td>projects/WRI-Aquaduct/PCRGlobWB20V07/global_hi...</td>\n",
       "      <td>PIrr</td>\n",
       "      <td>year</td>\n",
       "      <td>millionm3</td>\n",
       "    </tr>\n",
       "    <tr>\n",
       "      <th>5</th>\n",
       "      <td>WN</td>\n",
       "      <td>projects/WRI-Aquaduct/PCRGlobWB20V07/global_hi...</td>\n",
       "      <td>PIrr</td>\n",
       "      <td>year</td>\n",
       "      <td>millionm3</td>\n",
       "    </tr>\n",
       "    <tr>\n",
       "      <th>6</th>\n",
       "      <td>WW</td>\n",
       "      <td>projects/WRI-Aquaduct/PCRGlobWB20V07/global_hi...</td>\n",
       "      <td>PLiv</td>\n",
       "      <td>year</td>\n",
       "      <td>millionm3</td>\n",
       "    </tr>\n",
       "    <tr>\n",
       "      <th>7</th>\n",
       "      <td>WN</td>\n",
       "      <td>projects/WRI-Aquaduct/PCRGlobWB20V07/global_hi...</td>\n",
       "      <td>PLiv</td>\n",
       "      <td>year</td>\n",
       "      <td>millionm3</td>\n",
       "    </tr>\n",
       "    <tr>\n",
       "      <th>8</th>\n",
       "      <td>WW</td>\n",
       "      <td>projects/WRI-Aquaduct/PCRGlobWB20V07/global_hi...</td>\n",
       "      <td>PTot</td>\n",
       "      <td>year</td>\n",
       "      <td>millionm3</td>\n",
       "    </tr>\n",
       "    <tr>\n",
       "      <th>9</th>\n",
       "      <td>WN</td>\n",
       "      <td>projects/WRI-Aquaduct/PCRGlobWB20V07/global_hi...</td>\n",
       "      <td>PTot</td>\n",
       "      <td>year</td>\n",
       "      <td>millionm3</td>\n",
       "    </tr>\n",
       "    <tr>\n",
       "      <th>10</th>\n",
       "      <td></td>\n",
       "      <td>projects/WRI-Aquaduct/PCRGlobWB20V07/global_hi...</td>\n",
       "      <td>runoff</td>\n",
       "      <td>year</td>\n",
       "      <td>millionm3</td>\n",
       "    </tr>\n",
       "    <tr>\n",
       "      <th>11</th>\n",
       "      <td></td>\n",
       "      <td>projects/WRI-Aquaduct/PCRGlobWB20V07/global_hi...</td>\n",
       "      <td>riverdischarge</td>\n",
       "      <td>year</td>\n",
       "      <td>millionm3</td>\n",
       "    </tr>\n",
       "    <tr>\n",
       "      <th>12</th>\n",
       "      <td>WW</td>\n",
       "      <td>projects/WRI-Aquaduct/PCRGlobWB20V07/global_hi...</td>\n",
       "      <td>PDom</td>\n",
       "      <td>month</td>\n",
       "      <td>millionm3</td>\n",
       "    </tr>\n",
       "    <tr>\n",
       "      <th>13</th>\n",
       "      <td>WN</td>\n",
       "      <td>projects/WRI-Aquaduct/PCRGlobWB20V07/global_hi...</td>\n",
       "      <td>PDom</td>\n",
       "      <td>month</td>\n",
       "      <td>millionm3</td>\n",
       "    </tr>\n",
       "    <tr>\n",
       "      <th>14</th>\n",
       "      <td>WW</td>\n",
       "      <td>projects/WRI-Aquaduct/PCRGlobWB20V07/global_hi...</td>\n",
       "      <td>PInd</td>\n",
       "      <td>month</td>\n",
       "      <td>millionm3</td>\n",
       "    </tr>\n",
       "    <tr>\n",
       "      <th>15</th>\n",
       "      <td>WN</td>\n",
       "      <td>projects/WRI-Aquaduct/PCRGlobWB20V07/global_hi...</td>\n",
       "      <td>PInd</td>\n",
       "      <td>month</td>\n",
       "      <td>millionm3</td>\n",
       "    </tr>\n",
       "    <tr>\n",
       "      <th>16</th>\n",
       "      <td>WW</td>\n",
       "      <td>projects/WRI-Aquaduct/PCRGlobWB20V07/global_hi...</td>\n",
       "      <td>PIrr</td>\n",
       "      <td>month</td>\n",
       "      <td>millionm3</td>\n",
       "    </tr>\n",
       "    <tr>\n",
       "      <th>17</th>\n",
       "      <td>WN</td>\n",
       "      <td>projects/WRI-Aquaduct/PCRGlobWB20V07/global_hi...</td>\n",
       "      <td>PIrr</td>\n",
       "      <td>month</td>\n",
       "      <td>millionm3</td>\n",
       "    </tr>\n",
       "    <tr>\n",
       "      <th>18</th>\n",
       "      <td>WW</td>\n",
       "      <td>projects/WRI-Aquaduct/PCRGlobWB20V07/global_hi...</td>\n",
       "      <td>PLiv</td>\n",
       "      <td>month</td>\n",
       "      <td>millionm3</td>\n",
       "    </tr>\n",
       "    <tr>\n",
       "      <th>19</th>\n",
       "      <td>WN</td>\n",
       "      <td>projects/WRI-Aquaduct/PCRGlobWB20V07/global_hi...</td>\n",
       "      <td>PLiv</td>\n",
       "      <td>month</td>\n",
       "      <td>millionm3</td>\n",
       "    </tr>\n",
       "    <tr>\n",
       "      <th>20</th>\n",
       "      <td>WW</td>\n",
       "      <td>projects/WRI-Aquaduct/PCRGlobWB20V07/global_hi...</td>\n",
       "      <td>PTot</td>\n",
       "      <td>month</td>\n",
       "      <td>millionm3</td>\n",
       "    </tr>\n",
       "    <tr>\n",
       "      <th>21</th>\n",
       "      <td>WN</td>\n",
       "      <td>projects/WRI-Aquaduct/PCRGlobWB20V07/global_hi...</td>\n",
       "      <td>PTot</td>\n",
       "      <td>month</td>\n",
       "      <td>millionm3</td>\n",
       "    </tr>\n",
       "    <tr>\n",
       "      <th>22</th>\n",
       "      <td></td>\n",
       "      <td>projects/WRI-Aquaduct/PCRGlobWB20V07/global_hi...</td>\n",
       "      <td>runoff</td>\n",
       "      <td>month</td>\n",
       "      <td>millionm3</td>\n",
       "    </tr>\n",
       "    <tr>\n",
       "      <th>23</th>\n",
       "      <td></td>\n",
       "      <td>projects/WRI-Aquaduct/PCRGlobWB20V07/global_hi...</td>\n",
       "      <td>riverdischarge</td>\n",
       "      <td>month</td>\n",
       "      <td>millionm3</td>\n",
       "    </tr>\n",
       "  </tbody>\n",
       "</table>\n",
       "</div>"
      ],
      "text/plain": [
       "   demandType                                               icID  \\\n",
       "0          WW  projects/WRI-Aquaduct/PCRGlobWB20V07/global_hi...   \n",
       "1          WN  projects/WRI-Aquaduct/PCRGlobWB20V07/global_hi...   \n",
       "2          WW  projects/WRI-Aquaduct/PCRGlobWB20V07/global_hi...   \n",
       "3          WN  projects/WRI-Aquaduct/PCRGlobWB20V07/global_hi...   \n",
       "4          WW  projects/WRI-Aquaduct/PCRGlobWB20V07/global_hi...   \n",
       "5          WN  projects/WRI-Aquaduct/PCRGlobWB20V07/global_hi...   \n",
       "6          WW  projects/WRI-Aquaduct/PCRGlobWB20V07/global_hi...   \n",
       "7          WN  projects/WRI-Aquaduct/PCRGlobWB20V07/global_hi...   \n",
       "8          WW  projects/WRI-Aquaduct/PCRGlobWB20V07/global_hi...   \n",
       "9          WN  projects/WRI-Aquaduct/PCRGlobWB20V07/global_hi...   \n",
       "10             projects/WRI-Aquaduct/PCRGlobWB20V07/global_hi...   \n",
       "11             projects/WRI-Aquaduct/PCRGlobWB20V07/global_hi...   \n",
       "12         WW  projects/WRI-Aquaduct/PCRGlobWB20V07/global_hi...   \n",
       "13         WN  projects/WRI-Aquaduct/PCRGlobWB20V07/global_hi...   \n",
       "14         WW  projects/WRI-Aquaduct/PCRGlobWB20V07/global_hi...   \n",
       "15         WN  projects/WRI-Aquaduct/PCRGlobWB20V07/global_hi...   \n",
       "16         WW  projects/WRI-Aquaduct/PCRGlobWB20V07/global_hi...   \n",
       "17         WN  projects/WRI-Aquaduct/PCRGlobWB20V07/global_hi...   \n",
       "18         WW  projects/WRI-Aquaduct/PCRGlobWB20V07/global_hi...   \n",
       "19         WN  projects/WRI-Aquaduct/PCRGlobWB20V07/global_hi...   \n",
       "20         WW  projects/WRI-Aquaduct/PCRGlobWB20V07/global_hi...   \n",
       "21         WN  projects/WRI-Aquaduct/PCRGlobWB20V07/global_hi...   \n",
       "22             projects/WRI-Aquaduct/PCRGlobWB20V07/global_hi...   \n",
       "23             projects/WRI-Aquaduct/PCRGlobWB20V07/global_hi...   \n",
       "\n",
       "            sector temporalResolution      units  \n",
       "0             PDom               year  millionm3  \n",
       "1             PDom               year  millionm3  \n",
       "2             PInd               year  millionm3  \n",
       "3             PInd               year  millionm3  \n",
       "4             PIrr               year  millionm3  \n",
       "5             PIrr               year  millionm3  \n",
       "6             PLiv               year  millionm3  \n",
       "7             PLiv               year  millionm3  \n",
       "8             PTot               year  millionm3  \n",
       "9             PTot               year  millionm3  \n",
       "10          runoff               year  millionm3  \n",
       "11  riverdischarge               year  millionm3  \n",
       "12            PDom              month  millionm3  \n",
       "13            PDom              month  millionm3  \n",
       "14            PInd              month  millionm3  \n",
       "15            PInd              month  millionm3  \n",
       "16            PIrr              month  millionm3  \n",
       "17            PIrr              month  millionm3  \n",
       "18            PLiv              month  millionm3  \n",
       "19            PLiv              month  millionm3  \n",
       "20            PTot              month  millionm3  \n",
       "21            PTot              month  millionm3  \n",
       "22          runoff              month  millionm3  \n",
       "23  riverdischarge              month  millionm3  "
      ]
     },
     "execution_count": 24,
     "metadata": {},
     "output_type": "execute_result"
    }
   ],
   "source": [
    "indicatorDf"
   ]
  },
  {
   "cell_type": "markdown",
   "metadata": {},
   "source": [
    "Test for one image"
   ]
  },
  {
   "cell_type": "code",
   "execution_count": 38,
   "metadata": {
    "collapsed": true
   },
   "outputs": [],
   "source": [
    "indicatorDf = indicatorDf[0:2]"
   ]
  },
  {
   "cell_type": "code",
   "execution_count": 46,
   "metadata": {
    "collapsed": true
   },
   "outputs": [],
   "source": [
    "reducer = ee.Reducer.mean().group(groupField=1, groupName= \"zones\")"
   ]
  },
  {
   "cell_type": "code",
   "execution_count": 47,
   "metadata": {},
   "outputs": [],
   "source": [
    "for index, row in indicatorDf.iterrows():\n",
    "    #command = \"earthengine ls %s\" %(row[\"icID\"])\n",
    "    #assetList = subprocess.check_output(command,shell=True).splitlines()\n",
    "    # get properties from first image \n",
    "    firstImage = ee.Image(ee.ImageCollection(row[\"icID\"]).first())\n",
    "\n",
    "    #createCollections(row[\"sector\"],row[\"demandType\"],row[\"temporalResolution\"])\n",
    "    ic = ee.ImageCollection(row[\"icID\"])\n",
    "\n",
    "    if row[\"temporalResolution\"] == \"year\":\n",
    "        #for year in range(YEARMIN,YEARMAX+1):\n",
    "        for year in range(YEARMIN,1961):\n",
    "            image = ee.Image(ic.filter(ee.Filter.eq(\"year\",year)).first())\n",
    "            # function ? \n",
    "            imageFlux = volumeToFlux5min(image)\n",
    "            totalImage = imageFlux.addBands(hydroBasin)\n",
    "            totalImage = totalImage.select(totalImage.bandNames(),[\"flux\",\"zones\"])\n",
    "            resultsList = ee.List(\n",
    "              totalImage.reduceRegion(\n",
    "                geometry= geometry,\n",
    "                reducer= reducer,\n",
    "                scale= hybasScale,\n",
    "                maxPixels=1e10\n",
    "              ).get(\"groups\")\n",
    "            )\n",
    "            resultsList = resultsList.map(ensure_default_properties)\n",
    "            zoneList = mapList(resultsList, 'zones')\n",
    "            reducedList = mapList(resultsList,REDUCER_NAME)\n",
    "            resultImage = hydroBasin.remap(zoneList, reducedList)\n",
    "            resultImage = ee.Image(resultImage).select([\"remapped\"],[\"b1\"])\n",
    "            resultImage = resultImage.copyProperties(image)\n",
    "            properties = {\"units\":\"meanflux\",\"script_used\":SCRIPT_NAME,\"output_version\":OUTPUT_VERSION}\n",
    "            resultImage = resultImage.set(properties)\n",
    "            print()"
   ]
  },
  {
   "cell_type": "code",
   "execution_count": null,
   "metadata": {},
   "outputs": [],
   "source": [
    "indicatorDftest"
   ]
  },
  {
   "cell_type": "code",
   "execution_count": null,
   "metadata": {},
   "outputs": [],
   "source": [
    "icID = indicatorDftest.loc[0][\"icID\"]"
   ]
  },
  {
   "cell_type": "code",
   "execution_count": null,
   "metadata": {
    "collapsed": true
   },
   "outputs": [],
   "source": [
    "ic = ee.ImageCollection(icID)"
   ]
  },
  {
   "cell_type": "code",
   "execution_count": null,
   "metadata": {
    "collapsed": true
   },
   "outputs": [],
   "source": [
    "year = 2014"
   ]
  },
  {
   "cell_type": "code",
   "execution_count": null,
   "metadata": {},
   "outputs": [],
   "source": [
    "imageFlux = volumeToFlux5min(image)"
   ]
  },
  {
   "cell_type": "code",
   "execution_count": null,
   "metadata": {},
   "outputs": [],
   "source": [
    "totalImage = imageFlux.addBands(hydroBasin)\n",
    "totalImage = totalImage.select(totalImage.bandNames(),[\"flux\",\"zones\"])"
   ]
  },
  {
   "cell_type": "code",
   "execution_count": null,
   "metadata": {},
   "outputs": [],
   "source": []
  },
  {
   "cell_type": "code",
   "execution_count": null,
   "metadata": {},
   "outputs": [],
   "source": [
    "resultsList = ee.List(\n",
    "  totalImage.reduceRegion(\n",
    "    geometry= geometry,\n",
    "    reducer= reducer,\n",
    "    scale= 1000,\n",
    "    maxPixels=1e10\n",
    "  ).get(\"groups\")\n",
    ")\n"
   ]
  },
  {
   "cell_type": "code",
   "execution_count": null,
   "metadata": {},
   "outputs": [],
   "source": [
    "resultsList = resultsList.map(ensure_default_properties)"
   ]
  },
  {
   "cell_type": "code",
   "execution_count": null,
   "metadata": {},
   "outputs": [],
   "source": [
    "zoneList = mapList(resultsList, 'zones')\n"
   ]
  },
  {
   "cell_type": "code",
   "execution_count": null,
   "metadata": {},
   "outputs": [],
   "source": [
    "reducedList = mapList(resultsList,REDUCER_NAME)"
   ]
  },
  {
   "cell_type": "code",
   "execution_count": null,
   "metadata": {
    "collapsed": true
   },
   "outputs": [],
   "source": [
    "resultImage = hydroBasin.remap(zoneList, reducedList)"
   ]
  },
  {
   "cell_type": "code",
   "execution_count": null,
   "metadata": {
    "collapsed": true
   },
   "outputs": [],
   "source": [
    "resultImage = resultImage.copyProperties(image)"
   ]
  },
  {
   "cell_type": "code",
   "execution_count": null,
   "metadata": {
    "collapsed": true
   },
   "outputs": [],
   "source": [
    "properties = {\"units\":\"meanflux\",\"script_used\":SCRIPT_NAME,\"output_version\":OUTPUT_VERSION}"
   ]
  },
  {
   "cell_type": "code",
   "execution_count": null,
   "metadata": {
    "collapsed": true
   },
   "outputs": [],
   "source": [
    "resultImage = resultImage.set(properties)"
   ]
  },
  {
   "cell_type": "code",
   "execution_count": null,
   "metadata": {},
   "outputs": [],
   "source": [
    "resultImage = ee.Image(resultImage).select([\"remapped\"],[\"b1\"])"
   ]
  },
  {
   "cell_type": "code",
   "execution_count": null,
   "metadata": {
    "collapsed": true
   },
   "outputs": [],
   "source": [
    "assetID = \"users/rutgerhofste/testZones03\""
   ]
  },
  {
   "cell_type": "code",
   "execution_count": null,
   "metadata": {},
   "outputs": [],
   "source": [
    "task = ee.batch.Export.image.toAsset(\n",
    "    image =  ee.Image(resultImage),\n",
    "    description = \"test\",\n",
    "    assetId = assetID,\n",
    "    dimensions = dimensions30s,\n",
    "    #dimensions = DIMENSION30S,\n",
    "    crs = CRS,    \n",
    "    crsTransform = crsTransform30s,\n",
    "    \n",
    "    # for testing purposes -----\n",
    "    #scale = 10000, \n",
    "    #region = geometry,\n",
    "    # end testing  --------\n",
    "    \n",
    "    maxPixels = 1e10    \n",
    ")\n",
    "task.start() "
   ]
  },
  {
   "cell_type": "code",
   "execution_count": null,
   "metadata": {
    "collapsed": true
   },
   "outputs": [],
   "source": []
  },
  {
   "cell_type": "code",
   "execution_count": null,
   "metadata": {},
   "outputs": [],
   "source": [
    "end = datetime.datetime.now()\n",
    "elapsed = end - start\n",
    "print(elapsed)"
   ]
  }
 ],
 "metadata": {
  "kernelspec": {
   "display_name": "Python 27",
   "language": "python",
   "name": "python27"
  },
  "language_info": {
   "codemirror_mode": {
    "name": "ipython",
    "version": 2
   },
   "file_extension": ".py",
   "mimetype": "text/x-python",
   "name": "python",
   "nbconvert_exporter": "python",
   "pygments_lexer": "ipython2",
   "version": "2.7.13"
  }
 },
 "nbformat": 4,
 "nbformat_minor": 2
}
