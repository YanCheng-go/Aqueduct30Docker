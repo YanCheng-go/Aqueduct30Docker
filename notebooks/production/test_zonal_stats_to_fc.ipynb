{
 "cells": [
  {
   "cell_type": "code",
   "execution_count": 1,
   "metadata": {
    "collapsed": true
   },
   "outputs": [],
   "source": [
    "# Test zonal stats to fc"
   ]
  },
  {
   "cell_type": "code",
   "execution_count": 2,
   "metadata": {
    "collapsed": true
   },
   "outputs": [],
   "source": [
    "import aqueduct3"
   ]
  },
  {
   "cell_type": "code",
   "execution_count": 3,
   "metadata": {
    "collapsed": true
   },
   "outputs": [],
   "source": [
    "EE_INPUT_ZONES_ASSET_ID = \"projects/WRI-Aquaduct/Y2018M05D08_RH_Create_Zones_Mask_30sPfaf06_EE_V01/output_V02/validmaxfa_hybas_lev06_v1c_merged_fiona_30s_V04\"\n",
    "EE_INPUT_RIVERDISCHARGE_PATH_ID = \"projects/WRI-Aquaduct/PCRGlobWB20V09/\""
   ]
  },
  {
   "cell_type": "code",
   "execution_count": 5,
   "metadata": {
    "collapsed": true
   },
   "outputs": [],
   "source": [
    "# Imports\n",
    "import pandas as pd\n",
    "from datetime import timedelta\n",
    "import os\n",
    "import ee\n",
    "import aqueduct3\n",
    "\n",
    "ee.Initialize()"
   ]
  },
  {
   "cell_type": "code",
   "execution_count": 21,
   "metadata": {},
   "outputs": [],
   "source": [
    "i_zones = ee.Image(EE_INPUT_ZONES_ASSET_ID)"
   ]
  },
  {
   "cell_type": "code",
   "execution_count": 15,
   "metadata": {},
   "outputs": [],
   "source": [
    "ic_test_asset_id = \"{}global_historical_riverdischarge_month_millionm3_5min_1960_2014\".format(EE_INPUT_RIVERDISCHARGE_PATH_ID)\n",
    "ic_test = ee.ImageCollection(ic_test_asset_id)"
   ]
  },
  {
   "cell_type": "code",
   "execution_count": 16,
   "metadata": {
    "collapsed": true
   },
   "outputs": [],
   "source": [
    "i_test = ee.Image(ic_test.first())"
   ]
  },
  {
   "cell_type": "code",
   "execution_count": 19,
   "metadata": {},
   "outputs": [],
   "source": [
    "TESTING = 1\n",
    "\n",
    "geometry_server_side = aqueduct3.earthengine.get_global_geometry(test=TESTING)\n",
    "geometry_client_side = geometry_server_side.getInfo()['coordinates']\n",
    "\n",
    "crs_transform = aqueduct3.earthengine.get_crs_transform(\"30s\")"
   ]
  },
  {
   "cell_type": "code",
   "execution_count": 22,
   "metadata": {},
   "outputs": [],
   "source": [
    "result_list = aqueduct3.earthengine.raster_zonal_stats(\n",
    "                            i_zones = i_zones,\n",
    "                            i_values = i_test,\n",
    "                            statistic_type = \"first\",\n",
    "                            geometry = geometry_server_side,\n",
    "                            crs_transform = crs_transform,\n",
    "                            crs=\"EPSG:4326\")"
   ]
  },
  {
   "cell_type": "code",
   "execution_count": 32,
   "metadata": {},
   "outputs": [],
   "source": [
    "\n",
    "def zonal_stats_results_to_fc(result_list):\n",
    "    fc = result_list.map(lambda x: ee.Feature(None,x))\n",
    "    return ee.FeatureCollection(fc)\n",
    "    \n",
    "    "
   ]
  },
  {
   "cell_type": "code",
   "execution_count": 37,
   "metadata": {},
   "outputs": [],
   "source": [
    "fc = zonal_stats_results_to_fc(result_list)"
   ]
  },
  {
   "cell_type": "code",
   "execution_count": 45,
   "metadata": {},
   "outputs": [
    {
     "data": {
      "text/plain": [
       "'{\"type\": \"CompoundValue\", \"value\": {\"type\": \"ValueRef\", \"value\": \"21\"}, \"scope\": [[\"0\", {\"arguments\": {\"metadata\": {\"type\": \"ArgumentRef\", \"value\": \"_MAPPING_VAR_0_0\"}}, \"type\": \"Invocation\", \"functionName\": \"Feature\"}], [\"1\", {\"type\": \"Function\", \"body\": {\"type\": \"ValueRef\", \"value\": \"0\"}, \"argumentNames\": [\"_MAPPING_VAR_0_0\"]}], [\"2\", {\"arguments\": {\"crs\": \"EPSG:4326\"}, \"type\": \"Invocation\", \"functionName\": \"Projection\"}], [\"3\", [0.008333333333333333, 0, -180, 0, -0.008333333333333333, 90]], [\"4\", [-10.0, -10.0]], [\"5\", [10, -10.0]], [\"6\", [10, 10]], [\"7\", [-10, 10]], [\"8\", [{\"type\": \"ValueRef\", \"value\": \"4\"}, {\"type\": \"ValueRef\", \"value\": \"5\"}, {\"type\": \"ValueRef\", \"value\": \"6\"}, {\"type\": \"ValueRef\", \"value\": \"7\"}]], [\"9\", {\"arguments\": {\"crs\": {\"type\": \"ValueRef\", \"value\": \"2\"}, \"geodesic\": false, \"coordinates\": {\"type\": \"ValueRef\", \"value\": \"8\"}}, \"type\": \"Invocation\", \"functionName\": \"GeometryConstructors.Polygon\"}], [\"10\", {\"arguments\": {}, \"type\": \"Invocation\", \"functionName\": \"Reducer.first\"}], [\"11\", {\"arguments\": {}, \"type\": \"Invocation\", \"functionName\": \"Reducer.count\"}], [\"12\", {\"arguments\": {\"reducer2\": {\"type\": \"ValueRef\", \"value\": \"11\"}, \"reducer1\": {\"type\": \"ValueRef\", \"value\": \"10\"}, \"sharedInputs\": true}, \"type\": \"Invocation\", \"functionName\": \"Reducer.combine\"}], [\"13\", {\"arguments\": {\"groupName\": \"zones\", \"reducer\": {\"type\": \"ValueRef\", \"value\": \"12\"}, \"groupField\": 1}, \"type\": \"Invocation\", \"functionName\": \"Reducer.group\"}], [\"14\", {\"arguments\": {\"id\": \"projects/WRI-Aquaduct/Y2018M05D08_RH_Create_Zones_Mask_30sPfaf06_EE_V01/output_V02/validmaxfa_hybas_lev06_v1c_merged_fiona_30s_V04\"}, \"type\": \"Invocation\", \"functionName\": \"Image.load\"}], [\"15\", {\"arguments\": {\"id\": \"projects/WRI-Aquaduct/PCRGlobWB20V09/global_historical_riverdischarge_month_millionm3_5min_1960_2014\"}, \"type\": \"Invocation\", \"functionName\": \"ImageCollection.load\"}], [\"16\", {\"arguments\": {\"collection\": {\"type\": \"ValueRef\", \"value\": \"15\"}}, \"type\": \"Invocation\", \"functionName\": \"Collection.first\"}], [\"17\", {\"arguments\": {\"srcImg\": {\"type\": \"ValueRef\", \"value\": \"14\"}, \"dstImg\": {\"type\": \"ValueRef\", \"value\": \"16\"}}, \"type\": \"Invocation\", \"functionName\": \"Image.addBands\"}], [\"18\", {\"arguments\": {\"crs\": {\"type\": \"ValueRef\", \"value\": \"2\"}, \"crsTransform\": {\"type\": \"ValueRef\", \"value\": \"3\"}, \"geometry\": {\"type\": \"ValueRef\", \"value\": \"9\"}, \"reducer\": {\"type\": \"ValueRef\", \"value\": \"13\"}, \"image\": {\"type\": \"ValueRef\", \"value\": \"17\"}, \"maxPixels\": 10000000000.0}, \"type\": \"Invocation\", \"functionName\": \"Image.reduceRegion\"}], [\"19\", {\"arguments\": {\"key\": \"groups\", \"dictionary\": {\"type\": \"ValueRef\", \"value\": \"18\"}}, \"type\": \"Invocation\", \"functionName\": \"Dictionary.get\"}], [\"20\", {\"arguments\": {\"baseAlgorithm\": {\"type\": \"ValueRef\", \"value\": \"1\"}, \"list\": {\"type\": \"ValueRef\", \"value\": \"19\"}}, \"type\": \"Invocation\", \"functionName\": \"List.map\"}], [\"21\", {\"arguments\": {\"features\": {\"type\": \"ValueRef\", \"value\": \"20\"}}, \"type\": \"Invocation\", \"functionName\": \"Collection\"}]]}'"
      ]
     },
     "execution_count": 45,
     "metadata": {},
     "output_type": "execute_result"
    }
   ],
   "source": []
  },
  {
   "cell_type": "code",
   "execution_count": 51,
   "metadata": {},
   "outputs": [
    {
     "data": {
      "text/plain": [
       "{'started': 'OK'}"
      ]
     },
     "execution_count": 51,
     "metadata": {},
     "output_type": "execute_result"
    }
   ],
   "source": []
  },
  {
   "cell_type": "code",
   "execution_count": 63,
   "metadata": {},
   "outputs": [
    {
     "data": {
      "text/plain": [
       "{'started': 'OK'}"
      ]
     },
     "execution_count": 63,
     "metadata": {},
     "output_type": "execute_result"
    }
   ],
   "source": [
    "import ee\n",
    "ee.Initialize()\n",
    "\n",
    "feature01 = ee.Feature(ee.Geometry.Point(1,2),{\"foo\":1,\"bar\":2})\n",
    "feature02 = ee.Feature(ee.Geometry.Point(3,4),{\"foos\":41,\"bars\":42})\n",
    "feature03 = ee.Feature(None,{\"fooz\":None,\"bars\":-9999})\n",
    "feature04 = ee.Feature(None,{\"fooz\":None,\"bars\":-9999})\n",
    "\n",
    "fc1 = ee.FeatureCollection([feature01,feature02])\n",
    "fc2 = ee.FeatureCollection([feature02,feature03])\n",
    "fc3 = ee.FeatureCollection([feature03,feature04])\n",
    "\n",
    "fc_merged = fc1.merge(fc2)\n",
    "\n",
    "taskParams = {'json' : fc3.serialize(), 'type': 'EXPORT_FEATURES', 'assetId': 'users/rutgerhofste/pythontest3','description': 'pyhtonnullgeometry'}  \n",
    "taskId = ee.data.newTaskId()\n",
    "ee.data.startProcessing(taskId[0], taskParams)"
   ]
  },
  {
   "cell_type": "code",
   "execution_count": 58,
   "metadata": {},
   "outputs": [
    {
     "data": {
      "text/plain": [
       "<ee.geometry.Geometry at 0x7f5f7a1912b0>"
      ]
     },
     "execution_count": 58,
     "metadata": {},
     "output_type": "execute_result"
    }
   ],
   "source": []
  },
  {
   "cell_type": "code",
   "execution_count": null,
   "metadata": {
    "collapsed": true
   },
   "outputs": [],
   "source": []
  }
 ],
 "metadata": {
  "kernelspec": {
   "display_name": "Python 35",
   "language": "python",
   "name": "python35"
  },
  "language_info": {
   "codemirror_mode": {
    "name": "ipython",
    "version": 3
   },
   "file_extension": ".py",
   "mimetype": "text/x-python",
   "name": "python",
   "nbconvert_exporter": "python",
   "pygments_lexer": "ipython3",
   "version": "3.5.4"
  }
 },
 "nbformat": 4,
 "nbformat_minor": 2
}
