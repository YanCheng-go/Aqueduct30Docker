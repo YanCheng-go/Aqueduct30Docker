{
 "cells": [
  {
   "cell_type": "code",
   "execution_count": 1,
   "metadata": {},
   "outputs": [
    {
     "ename": "NameError",
     "evalue": "name 'BQ_IN' is not defined",
     "output_type": "error",
     "traceback": [
      "\u001b[0;31m---------------------------------------------------------------------------\u001b[0m",
      "\u001b[0;31mNameError\u001b[0m                                 Traceback (most recent call last)",
      "\u001b[0;32m<ipython-input-1-98dc1e594ba4>\u001b[0m in \u001b[0;36m<module>\u001b[0;34m()\u001b[0m\n\u001b[1;32m     19\u001b[0m \u001b[0;34m\u001b[0m\u001b[0m\n\u001b[1;32m     20\u001b[0m \u001b[0;31m# Baseline Water Stress | BWS\u001b[0m\u001b[0;34m\u001b[0m\u001b[0;34m\u001b[0m\u001b[0m\n\u001b[0;32m---> 21\u001b[0;31m \u001b[0mBQ_IN\u001b[0m\u001b[0;34m[\u001b[0m\u001b[0;34m\"BWS\"\u001b[0m\u001b[0;34m]\u001b[0m \u001b[0;34m=\u001b[0m \u001b[0;34m\"y2018m07d30_rh_gcs_to_bq_v01_v06\"\u001b[0m\u001b[0;34m\u001b[0m\u001b[0m\n\u001b[0m\u001b[1;32m     22\u001b[0m \u001b[0;34m\u001b[0m\u001b[0m\n\u001b[1;32m     23\u001b[0m \u001b[0;31m# Baseline Water Depletion | BWD\u001b[0m\u001b[0;34m\u001b[0m\u001b[0;34m\u001b[0m\u001b[0m\n",
      "\u001b[0;31mNameError\u001b[0m: name 'BQ_IN' is not defined"
     ]
    }
   ],
   "source": [
    "\"\"\" Merge raw data into master table. \n",
    "-------------------------------------------------------------------------------\n",
    "\n",
    "Author: Rutger Hofste\n",
    "Date: 20181204\n",
    "Kernel: python35\n",
    "Docker: rutgerhofste/gisdocker:ubuntu16.04\n",
    "\n",
    "\"\"\"\n",
    "\n",
    "TESTING = 0\n",
    "SCRIPT_NAME = 'Y2018M12D04_RH_Master_Merge_Rawdata_GPD_V0'\n",
    "OUTPUT_VERSION = 1\n",
    "\n",
    "BQ_PROJECT_ID = \"aqueduct30\"\n",
    "\n",
    "\n",
    "# Physical Risk Quantity | QAN   -------------\n",
    "\n",
    "# Baseline Water Stress | BWS\n",
    "BQ_IN[\"BWS\"] = \"y2018m07d30_rh_gcs_to_bq_v01_v06\"\n",
    "\n",
    "# Baseline Water Depletion | BWD\n",
    "BQ_IN[\"BWD\"] = \"y2018m07d30_rh_gcs_to_bq_v01_v06\"\n",
    "\n",
    "# Groundwater Table Decline | GTD\n",
    "BQ_IN[\"GTD\"] = \"y2018m09d03_rh_gws_cat_label_v01_v01\"\n",
    "\n",
    "# Interannual Variability | IAV\n",
    "BQ_IN[\"IAV\"] = \"y2018m07d31_rh_inter_av_cat_label_v01_v02\"\n",
    "\n",
    "# Seasonal Variability | SEV\n",
    "BQ_IN[\"SEV\"] = \"y2018m08d02_rh_intra_annual_variability_cat_label_v01_v02\"\n",
    "\n",
    "# Drought Risk | DRR\n",
    "BQ_IN[\"DRR\"] = \"y2018m09d28_rh_dr_cat_label_v01_v02\"\n",
    "\n",
    "# Riverine Flood Risk | RFR\n",
    "BQ_IN[\"RFR\"] = \"y2018m12d04_rh_rfr_cfr_bq_v01_v01\"\n",
    "\n",
    "# Coastal Flood Risk | CFR\n",
    "BQ_IN[\"CFR\"] = \"y2018m12d04_rh_rfr_cfr_bq_v01_v01\"\n",
    "\n",
    "# Physical Risk Quality | QAL -----------------\n",
    "\n",
    "# Untreated Collected Wastewater | UCW\n",
    "BQ_IN[\"UCW\"] = \"y2018m12d04_rh_ucw_bq_v01_v01\"\n",
    "\n",
    "# Coastal Eutrophication Potential | CEP\n",
    "BQ_IN[\"CEP\"] = \"y2018m11d22_rh_icep_hybas6_cat_label_bq_v01_v01\"\n",
    "\n",
    "# Regulatory and Reputational Risk | RRR --------------\n",
    "\n",
    "# Unimproved/no drinking water | UDW\n",
    "BQ_IN[\"UDW\"] = \"\"\n",
    "\n",
    "# Unimproved/no sanitation | USA\n",
    "BQ_IN[\"USA\"] = \"\"\n",
    "\n",
    "# RepRisk Index | RRI\n",
    "BQ_IN[\"RRI\"] = \"\"\n",
    "\n",
    "\n",
    "\n",
    "RDS_DATABASE_ENDPOINT = \"aqueduct30v05.cgpnumwmfcqc.eu-central-1.rds.amazonaws.com\"\n",
    "RDS_DATABASE_NAME = \"database01\"\n",
    "\n",
    "\n",
    "BQ_OUTPUT_TABLE_NAME = \"{}_v{:02.0f}\".format(SCRIPT_NAME,OUTPUT_VERSION).lower()\n",
    "\n",
    "print(\"\\nRDS_DATABASE_ENDPOINT: \", RDS_DATABASE_ENDPOINT,\n",
    "      \"\\nRDS_DATABASE_NAME: \", RDS_DATABASE_NAME,\n",
    "      \"\\nRDS_INPUT_TABLE_NAME: \",RDS_INPUT_TABLE_NAME,\n",
    "      \"\\nBQ_OUTPUT_DATASET_NAME_WKT: \", BQ_OUTPUT_DATASET_NAME_WKT,\n",
    "      \"\\nBQ_OUTPUT_DATASET_NAME_GEOG: \", BQ_OUTPUT_DATASET_NAME_GEOG,\n",
    "      \"\\nBQ_OUTPUT_TABLE_NAME: \", BQ_OUTPUT_TABLE_NAME)"
   ]
  },
  {
   "cell_type": "code",
   "execution_count": null,
   "metadata": {
    "collapsed": true
   },
   "outputs": [],
   "source": []
  }
 ],
 "metadata": {
  "kernelspec": {
   "display_name": "Python 35",
   "language": "python",
   "name": "python35"
  },
  "language_info": {
   "codemirror_mode": {
    "name": "ipython",
    "version": 3
   },
   "file_extension": ".py",
   "mimetype": "text/x-python",
   "name": "python",
   "nbconvert_exporter": "python",
   "pygments_lexer": "ipython3",
   "version": "3.5.4"
  }
 },
 "nbformat": 4,
 "nbformat_minor": 2
}
