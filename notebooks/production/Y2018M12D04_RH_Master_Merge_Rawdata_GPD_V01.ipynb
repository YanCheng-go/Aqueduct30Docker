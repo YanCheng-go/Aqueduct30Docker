{
 "cells": [
  {
   "cell_type": "code",
   "execution_count": 1,
   "metadata": {},
   "outputs": [
    {
     "name": "stdout",
     "output_type": "stream",
     "text": [
      "\n",
      "BQ_OUTPUT_DATASET_NAME:  aqueduct30v01 \n",
      "BQ_OUTPUT_TABLE_NAME:  y2018m12d04_rh_master_merge_rawdata_gpd_v01_v02 \n",
      "s3_output_path:  s3://wri-projects/Aqueduct30/processData/Y2018M12D04_RH_Master_Merge_Rawdata_GPD_V01/output_V02/ \n",
      "ec2_output_path: /volumes/data/Y2018M12D04_RH_Master_Merge_Rawdata_GPD_V01/output_V02\n"
     ]
    }
   ],
   "source": [
    "\"\"\" Merge raw data into master table. \n",
    "-------------------------------------------------------------------------------\n",
    "\n",
    "Author: Rutger Hofste\n",
    "Date: 20181204\n",
    "Kernel: python35\n",
    "Docker: rutgerhofste/gisdocker:ubuntu16.04\n",
    "\n",
    "\"\"\"\n",
    "\n",
    "TESTING = 0\n",
    "SCRIPT_NAME = 'Y2018M12D04_RH_Master_Merge_Rawdata_GPD_V01'\n",
    "OUTPUT_VERSION = 2\n",
    "\n",
    "BQ_PROJECT_ID = \"aqueduct30\"\n",
    "BQ_OUTPUT_DATASET_NAME = \"aqueduct30v01\"\n",
    "BQ_OUTPUT_TABLE_NAME = \"{}_v{:02.0f}\".format(SCRIPT_NAME,OUTPUT_VERSION).lower()\n",
    "\n",
    "\n",
    "BQ_IN = {}\n",
    "\n",
    "\n",
    "BQ_IN[\"Master\"] = \"y2018m12d06_rh_master_shape_v01_v01\"\n",
    "\n",
    "\n",
    "# Additional tables required\n",
    "\n",
    "# area per smallest subunit\n",
    "BQ_IN[\"area\"] = \"y2018m12d07_rh_process_area_bq_v01_v01\"\n",
    "\n",
    "# GADM countries \n",
    "BQ_IN[\"GADM36L01\"] = \"y2018m11d12_rh_gadm36_level1_rds_to_bq_v01_v01\"\n",
    "\n",
    "\n",
    "# FAO basins\n",
    "\n",
    "\n",
    "\n",
    "# Area per aq30_id\n",
    "\n",
    "# Physical Risk Quantity | QAN   -------------\n",
    "\n",
    "# Baseline Water Stress | BWS\n",
    "BQ_IN[\"BWS\"] = \"y2018m07d30_rh_gcs_to_bq_v01_v06\"\n",
    "\n",
    "# Baseline Water Depletion | BWD\n",
    "BQ_IN[\"BWD\"] = \"y2018m07d30_rh_gcs_to_bq_v01_v06\"\n",
    "\n",
    "# Interannual Variability | IAV\n",
    "BQ_IN[\"IAV\"] = \"y2018m07d31_rh_inter_av_cat_label_v01_v02\"\n",
    "\n",
    "# Seasonal Variability | SEV\n",
    "BQ_IN[\"SEV\"] = \"y2018m08d02_rh_intra_annual_variability_cat_label_v01_v02\"\n",
    "\n",
    "# Riverine Flood Risk | RFR\n",
    "BQ_IN[\"RFR\"] = \"y2018m12d04_rh_rfr_cfr_bq_v01_v01\"\n",
    "\n",
    "# Coastal Flood Risk | CFR\n",
    "BQ_IN[\"CFR\"] = \"y2018m12d04_rh_rfr_cfr_bq_v01_v01\"\n",
    "\n",
    "# Drought Risk | DRR\n",
    "BQ_IN[\"DRR\"] = \"y2018m09d28_rh_dr_cat_label_v01_v02\"\n",
    "\n",
    "# Groundwater Table Decline | GTD\n",
    "BQ_IN[\"GTD\"] = \"y2018m09d03_rh_gws_cat_label_v01_v01\"\n",
    "\n",
    "\n",
    "# Physical Risk Quality | QAL -----------------\n",
    "\n",
    "# Untreated Collected Wastewater | UCW\n",
    "BQ_IN[\"UCW\"] = \"y2018m12d04_rh_ucw_bq_v01_v01\"\n",
    "\n",
    "# Coastal Eutrophication Potential | CEP\n",
    "BQ_IN[\"CEP\"] = \"y2018m11d22_rh_icep_hybas6_cat_label_bq_v01_v03\"\n",
    "\n",
    "# Regulatory and Reputational Risk | RRR --------------\n",
    "\n",
    "# Unimproved/no drinking water | UDW\n",
    "BQ_IN[\"UDW\"] = \"y2018m12d05_rh_udw_bq_v01_v01\"\n",
    "\n",
    "# Unimproved/no sanitation | USA\n",
    "BQ_IN[\"USA\"] = \"y2018m12d05_rh_usa_bq_v01_v01\"\n",
    "\n",
    "# RepRisk Index | RRI\n",
    "BQ_IN[\"RRI\"] = \"y2018m12d05_rh_rri_bq_v01_v01\"\n",
    "\n",
    "\n",
    "ec2_output_path = \"/volumes/data/{}/output_V{:02.0f}\".format(SCRIPT_NAME,OUTPUT_VERSION) \n",
    "s3_output_path = \"s3://wri-projects/Aqueduct30/processData/{}/output_V{:02.0f}/\".format(SCRIPT_NAME,OUTPUT_VERSION)\n",
    "\n",
    "\n",
    "\n",
    "print(\"\\nBQ_OUTPUT_DATASET_NAME: \", BQ_OUTPUT_DATASET_NAME,\n",
    "      \"\\nBQ_OUTPUT_TABLE_NAME: \", BQ_OUTPUT_TABLE_NAME,\n",
    "      \"\\ns3_output_path: \", s3_output_path,\n",
    "      \"\\nec2_output_path:\" , ec2_output_path)"
   ]
  },
  {
   "cell_type": "code",
   "execution_count": 2,
   "metadata": {},
   "outputs": [
    {
     "data": {
      "text/plain": [
       "{'BWD': 'y2018m07d30_rh_gcs_to_bq_v01_v06',\n",
       " 'BWS': 'y2018m07d30_rh_gcs_to_bq_v01_v06',\n",
       " 'CEP': 'y2018m11d22_rh_icep_hybas6_cat_label_bq_v01_v03',\n",
       " 'CFR': 'y2018m12d04_rh_rfr_cfr_bq_v01_v01',\n",
       " 'DRR': 'y2018m09d28_rh_dr_cat_label_v01_v02',\n",
       " 'GADM36L01': 'y2018m11d12_rh_gadm36_level1_rds_to_bq_v01_v01',\n",
       " 'GTD': 'y2018m09d03_rh_gws_cat_label_v01_v01',\n",
       " 'IAV': 'y2018m07d31_rh_inter_av_cat_label_v01_v02',\n",
       " 'Master': 'y2018m12d06_rh_master_shape_v01_v01',\n",
       " 'RFR': 'y2018m12d04_rh_rfr_cfr_bq_v01_v01',\n",
       " 'RRI': 'y2018m12d05_rh_rri_bq_v01_v01',\n",
       " 'SEV': 'y2018m08d02_rh_intra_annual_variability_cat_label_v01_v02',\n",
       " 'UCW': 'y2018m12d04_rh_ucw_bq_v01_v01',\n",
       " 'UDW': 'y2018m12d05_rh_udw_bq_v01_v01',\n",
       " 'USA': 'y2018m12d05_rh_usa_bq_v01_v01',\n",
       " 'area': 'y2018m12d07_rh_process_area_bq_v01_v01'}"
      ]
     },
     "execution_count": 2,
     "metadata": {},
     "output_type": "execute_result"
    }
   ],
   "source": [
    "BQ_IN"
   ]
  },
  {
   "cell_type": "code",
   "execution_count": 3,
   "metadata": {},
   "outputs": [
    {
     "name": "stdout",
     "output_type": "stream",
     "text": [
      "Y2018M12D11 UTC 19:53\n"
     ]
    },
    {
     "data": {
      "text/plain": [
       "'3.5.4 |Anaconda, Inc.| (default, Nov 20 2017, 18:44:38) \\n[GCC 7.2.0]'"
      ]
     },
     "execution_count": 3,
     "metadata": {},
     "output_type": "execute_result"
    }
   ],
   "source": [
    "import time, datetime, sys\n",
    "dateString = time.strftime(\"Y%YM%mD%d\")\n",
    "timeString = time.strftime(\"UTC %H:%M\")\n",
    "start = datetime.datetime.now()\n",
    "print(dateString,timeString)\n",
    "sys.version"
   ]
  },
  {
   "cell_type": "code",
   "execution_count": 4,
   "metadata": {},
   "outputs": [],
   "source": [
    "!rm -r {ec2_output_path}\n",
    "!mkdir -p {ec2_output_path}"
   ]
  },
  {
   "cell_type": "code",
   "execution_count": 5,
   "metadata": {
    "collapsed": true
   },
   "outputs": [],
   "source": [
    "import os\n",
    "import pandas as pd\n",
    "import numpy as np\n",
    "from google.cloud import bigquery\n",
    "\n",
    "os.environ[\"GOOGLE_APPLICATION_CREDENTIALS\"] = \"/.google.json\"\n",
    "os.environ[\"GOOGLE_CLOUD_PROJECT\"] = \"aqueduct30\"\n",
    "client = bigquery.Client(project=BQ_PROJECT_ID)\n",
    "\n",
    "pd.set_option('display.max_columns', 500)"
   ]
  },
  {
   "cell_type": "code",
   "execution_count": 6,
   "metadata": {
    "collapsed": true
   },
   "outputs": [],
   "source": [
    "# Master Table"
   ]
  },
  {
   "cell_type": "code",
   "execution_count": 7,
   "metadata": {
    "collapsed": true
   },
   "outputs": [],
   "source": [
    "sql_master = \"\"\"\n",
    "SELECT\n",
    "  aq30_id,\n",
    "  string_id,\n",
    "  pfaf_id,\n",
    "  gid_1,\n",
    "  aqid\n",
    "FROM\n",
    "  `{}.{}.{}`\n",
    "ORDER BY\n",
    "  aq30_id\n",
    "\"\"\".format(BQ_PROJECT_ID,BQ_OUTPUT_DATASET_NAME,BQ_IN[\"Master\"])"
   ]
  },
  {
   "cell_type": "code",
   "execution_count": 8,
   "metadata": {
    "collapsed": true
   },
   "outputs": [],
   "source": [
    "df_master = pd.read_gbq(query=sql_master,dialect=\"standard\")"
   ]
  },
  {
   "cell_type": "code",
   "execution_count": 9,
   "metadata": {},
   "outputs": [
    {
     "data": {
      "text/html": [
       "<div>\n",
       "<style scoped>\n",
       "    .dataframe tbody tr th:only-of-type {\n",
       "        vertical-align: middle;\n",
       "    }\n",
       "\n",
       "    .dataframe tbody tr th {\n",
       "        vertical-align: top;\n",
       "    }\n",
       "\n",
       "    .dataframe thead th {\n",
       "        text-align: right;\n",
       "    }\n",
       "</style>\n",
       "<table border=\"1\" class=\"dataframe\">\n",
       "  <thead>\n",
       "    <tr style=\"text-align: right;\">\n",
       "      <th></th>\n",
       "      <th>aq30_id</th>\n",
       "      <th>string_id</th>\n",
       "      <th>pfaf_id</th>\n",
       "      <th>gid_1</th>\n",
       "      <th>aqid</th>\n",
       "    </tr>\n",
       "  </thead>\n",
       "  <tbody>\n",
       "    <tr>\n",
       "      <th>0</th>\n",
       "      <td>0</td>\n",
       "      <td>111011-EGY.11_1-3365</td>\n",
       "      <td>111011</td>\n",
       "      <td>EGY.11_1</td>\n",
       "      <td>3365</td>\n",
       "    </tr>\n",
       "    <tr>\n",
       "      <th>1</th>\n",
       "      <td>1</td>\n",
       "      <td>111011-EGY.15_1-3365</td>\n",
       "      <td>111011</td>\n",
       "      <td>EGY.15_1</td>\n",
       "      <td>3365</td>\n",
       "    </tr>\n",
       "    <tr>\n",
       "      <th>2</th>\n",
       "      <td>2</td>\n",
       "      <td>111011-EGY.15_1-None</td>\n",
       "      <td>111011</td>\n",
       "      <td>EGY.15_1</td>\n",
       "      <td>-9999</td>\n",
       "    </tr>\n",
       "    <tr>\n",
       "      <th>3</th>\n",
       "      <td>3</td>\n",
       "      <td>111011-None-3365</td>\n",
       "      <td>111011</td>\n",
       "      <td>-9999</td>\n",
       "      <td>3365</td>\n",
       "    </tr>\n",
       "    <tr>\n",
       "      <th>4</th>\n",
       "      <td>4</td>\n",
       "      <td>111011-None-None</td>\n",
       "      <td>111011</td>\n",
       "      <td>-9999</td>\n",
       "      <td>-9999</td>\n",
       "    </tr>\n",
       "  </tbody>\n",
       "</table>\n",
       "</div>"
      ],
      "text/plain": [
       "   aq30_id             string_id  pfaf_id     gid_1  aqid\n",
       "0        0  111011-EGY.11_1-3365   111011  EGY.11_1  3365\n",
       "1        1  111011-EGY.15_1-3365   111011  EGY.15_1  3365\n",
       "2        2  111011-EGY.15_1-None   111011  EGY.15_1 -9999\n",
       "3        3      111011-None-3365   111011     -9999  3365\n",
       "4        4      111011-None-None   111011     -9999 -9999"
      ]
     },
     "execution_count": 9,
     "metadata": {},
     "output_type": "execute_result"
    }
   ],
   "source": [
    "df_master.head()"
   ]
  },
  {
   "cell_type": "code",
   "execution_count": 10,
   "metadata": {
    "collapsed": true
   },
   "outputs": [],
   "source": [
    "sql_area = \"\"\"\n",
    "SELECT\n",
    "  string_id,\n",
    "  area_km2\n",
    "FROM\n",
    "  `{}.{}.{}`\n",
    "\"\"\".format(BQ_PROJECT_ID,BQ_OUTPUT_DATASET_NAME,BQ_IN[\"area\"])"
   ]
  },
  {
   "cell_type": "code",
   "execution_count": 11,
   "metadata": {
    "collapsed": true
   },
   "outputs": [],
   "source": [
    "df_area = pd.read_gbq(query=sql_area,dialect=\"standard\")"
   ]
  },
  {
   "cell_type": "code",
   "execution_count": 12,
   "metadata": {},
   "outputs": [
    {
     "data": {
      "text/html": [
       "<div>\n",
       "<style scoped>\n",
       "    .dataframe tbody tr th:only-of-type {\n",
       "        vertical-align: middle;\n",
       "    }\n",
       "\n",
       "    .dataframe tbody tr th {\n",
       "        vertical-align: top;\n",
       "    }\n",
       "\n",
       "    .dataframe thead th {\n",
       "        text-align: right;\n",
       "    }\n",
       "</style>\n",
       "<table border=\"1\" class=\"dataframe\">\n",
       "  <thead>\n",
       "    <tr style=\"text-align: right;\">\n",
       "      <th></th>\n",
       "      <th>string_id</th>\n",
       "      <th>area_km2</th>\n",
       "    </tr>\n",
       "  </thead>\n",
       "  <tbody>\n",
       "    <tr>\n",
       "      <th>0</th>\n",
       "      <td>111011-EGY.11_1-3365</td>\n",
       "      <td>4.223754</td>\n",
       "    </tr>\n",
       "    <tr>\n",
       "      <th>1</th>\n",
       "      <td>111011-EGY.15_1-3365</td>\n",
       "      <td>1846.012343</td>\n",
       "    </tr>\n",
       "    <tr>\n",
       "      <th>2</th>\n",
       "      <td>111011-EGY.15_1-None</td>\n",
       "      <td>30.526067</td>\n",
       "    </tr>\n",
       "    <tr>\n",
       "      <th>3</th>\n",
       "      <td>111011-None-3365</td>\n",
       "      <td>0.742712</td>\n",
       "    </tr>\n",
       "    <tr>\n",
       "      <th>4</th>\n",
       "      <td>111011-None-None</td>\n",
       "      <td>13.430995</td>\n",
       "    </tr>\n",
       "  </tbody>\n",
       "</table>\n",
       "</div>"
      ],
      "text/plain": [
       "              string_id     area_km2\n",
       "0  111011-EGY.11_1-3365     4.223754\n",
       "1  111011-EGY.15_1-3365  1846.012343\n",
       "2  111011-EGY.15_1-None    30.526067\n",
       "3      111011-None-3365     0.742712\n",
       "4      111011-None-None    13.430995"
      ]
     },
     "execution_count": 12,
     "metadata": {},
     "output_type": "execute_result"
    }
   ],
   "source": [
    "df_area.head()"
   ]
  },
  {
   "cell_type": "code",
   "execution_count": 13,
   "metadata": {},
   "outputs": [
    {
     "data": {
      "text/plain": [
       "(68511, 2)"
      ]
     },
     "execution_count": 13,
     "metadata": {},
     "output_type": "execute_result"
    }
   ],
   "source": [
    "df_area.shape"
   ]
  },
  {
   "cell_type": "code",
   "execution_count": 14,
   "metadata": {
    "collapsed": true
   },
   "outputs": [],
   "source": [
    "# GADM Cross Table"
   ]
  },
  {
   "cell_type": "code",
   "execution_count": 15,
   "metadata": {
    "collapsed": true
   },
   "outputs": [],
   "source": [
    "sql_gadm36l01 = \"\"\"\n",
    "SELECT\n",
    "  gid_1,\n",
    "  name_1,\n",
    "  gid_0,\n",
    "  name_0,\n",
    "  varname_1,\n",
    "  nl_name_1,\n",
    "  type_1,\n",
    "  engtype_1,\n",
    "  cc_1,\n",
    "  hasc_1\n",
    "FROM\n",
    "  `{}.{}.{}`\n",
    "\"\"\".format(BQ_PROJECT_ID,BQ_OUTPUT_DATASET_NAME,BQ_IN[\"GADM36L01\"])"
   ]
  },
  {
   "cell_type": "code",
   "execution_count": 16,
   "metadata": {
    "collapsed": true
   },
   "outputs": [],
   "source": [
    "df_gadm36l01 = pd.read_gbq(query=sql_gadm36l01,dialect=\"standard\")"
   ]
  },
  {
   "cell_type": "code",
   "execution_count": 17,
   "metadata": {},
   "outputs": [
    {
     "data": {
      "text/html": [
       "<div>\n",
       "<style scoped>\n",
       "    .dataframe tbody tr th:only-of-type {\n",
       "        vertical-align: middle;\n",
       "    }\n",
       "\n",
       "    .dataframe tbody tr th {\n",
       "        vertical-align: top;\n",
       "    }\n",
       "\n",
       "    .dataframe thead th {\n",
       "        text-align: right;\n",
       "    }\n",
       "</style>\n",
       "<table border=\"1\" class=\"dataframe\">\n",
       "  <thead>\n",
       "    <tr style=\"text-align: right;\">\n",
       "      <th></th>\n",
       "      <th>gid_1</th>\n",
       "      <th>name_1</th>\n",
       "      <th>gid_0</th>\n",
       "      <th>name_0</th>\n",
       "      <th>varname_1</th>\n",
       "      <th>nl_name_1</th>\n",
       "      <th>type_1</th>\n",
       "      <th>engtype_1</th>\n",
       "      <th>cc_1</th>\n",
       "      <th>hasc_1</th>\n",
       "    </tr>\n",
       "  </thead>\n",
       "  <tbody>\n",
       "    <tr>\n",
       "      <th>0</th>\n",
       "      <td>XAD.1_1</td>\n",
       "      <td>Akrotiri</td>\n",
       "      <td>XAD</td>\n",
       "      <td>Akrotiri and Dhekelia</td>\n",
       "      <td>Western Sovereign Base Area</td>\n",
       "      <td>None</td>\n",
       "      <td>Sovereign Base Area</td>\n",
       "      <td>Sovereign Base Area</td>\n",
       "      <td>None</td>\n",
       "      <td>None</td>\n",
       "    </tr>\n",
       "    <tr>\n",
       "      <th>1</th>\n",
       "      <td>XKO.1_1</td>\n",
       "      <td>Đakovica</td>\n",
       "      <td>XKO</td>\n",
       "      <td>Kosovo</td>\n",
       "      <td>None</td>\n",
       "      <td>None</td>\n",
       "      <td>Okrug</td>\n",
       "      <td>District</td>\n",
       "      <td>None</td>\n",
       "      <td>None</td>\n",
       "    </tr>\n",
       "    <tr>\n",
       "      <th>2</th>\n",
       "      <td>XKO.7_1</td>\n",
       "      <td>Uroševac</td>\n",
       "      <td>XKO</td>\n",
       "      <td>Kosovo</td>\n",
       "      <td>None</td>\n",
       "      <td>None</td>\n",
       "      <td>Okrug</td>\n",
       "      <td>District</td>\n",
       "      <td>None</td>\n",
       "      <td>None</td>\n",
       "    </tr>\n",
       "    <tr>\n",
       "      <th>3</th>\n",
       "      <td>XKO.4_1</td>\n",
       "      <td>Pećki</td>\n",
       "      <td>XKO</td>\n",
       "      <td>Kosovo</td>\n",
       "      <td>Peć</td>\n",
       "      <td>Пећки</td>\n",
       "      <td>Okrug</td>\n",
       "      <td>District</td>\n",
       "      <td>None</td>\n",
       "      <td>RS.PE</td>\n",
       "    </tr>\n",
       "    <tr>\n",
       "      <th>4</th>\n",
       "      <td>WSM.8_1</td>\n",
       "      <td>Satupa'itea</td>\n",
       "      <td>WSM</td>\n",
       "      <td>Samoa</td>\n",
       "      <td>Satupaitea</td>\n",
       "      <td>None</td>\n",
       "      <td>Itumalo</td>\n",
       "      <td>District</td>\n",
       "      <td>None</td>\n",
       "      <td>WS.SA</td>\n",
       "    </tr>\n",
       "  </tbody>\n",
       "</table>\n",
       "</div>"
      ],
      "text/plain": [
       "     gid_1       name_1 gid_0                 name_0  \\\n",
       "0  XAD.1_1     Akrotiri   XAD  Akrotiri and Dhekelia   \n",
       "1  XKO.1_1     Đakovica   XKO                 Kosovo   \n",
       "2  XKO.7_1     Uroševac   XKO                 Kosovo   \n",
       "3  XKO.4_1        Pećki   XKO                 Kosovo   \n",
       "4  WSM.8_1  Satupa'itea   WSM                  Samoa   \n",
       "\n",
       "                     varname_1 nl_name_1               type_1  \\\n",
       "0  Western Sovereign Base Area      None  Sovereign Base Area   \n",
       "1                         None      None                Okrug   \n",
       "2                         None      None                Okrug   \n",
       "3                          Peć     Пећки                Okrug   \n",
       "4                   Satupaitea      None              Itumalo   \n",
       "\n",
       "             engtype_1  cc_1 hasc_1  \n",
       "0  Sovereign Base Area  None   None  \n",
       "1             District  None   None  \n",
       "2             District  None   None  \n",
       "3             District  None  RS.PE  \n",
       "4             District  None  WS.SA  "
      ]
     },
     "execution_count": 17,
     "metadata": {},
     "output_type": "execute_result"
    }
   ],
   "source": [
    "df_gadm36l01.head()"
   ]
  },
  {
   "cell_type": "code",
   "execution_count": 18,
   "metadata": {
    "collapsed": true
   },
   "outputs": [],
   "source": [
    "# BWS annual"
   ]
  },
  {
   "cell_type": "code",
   "execution_count": 19,
   "metadata": {
    "collapsed": true
   },
   "outputs": [],
   "source": [
    "sql_bws_annual = \"\"\"\n",
    "SELECT\n",
    "  pfafid_30spfaf06,\n",
    "  temporal_resolution,\n",
    "  delta_id,\n",
    "  year,\n",
    "  waterstress_raw_dimensionless_coalesced,\n",
    "  waterstress_score_dimensionless_coalesced,\n",
    "  waterstress_category_dimensionless_coalesced,\n",
    "  waterstress_label_dimensionless_coalesced\n",
    "FROM\n",
    "  `{}.{}.{}`\n",
    "WHERE\n",
    "  temporal_resolution = 'year'\n",
    "  AND year = 2014\n",
    "\"\"\".format(BQ_PROJECT_ID,BQ_OUTPUT_DATASET_NAME,BQ_IN[\"BWS\"])"
   ]
  },
  {
   "cell_type": "code",
   "execution_count": 20,
   "metadata": {
    "collapsed": true
   },
   "outputs": [],
   "source": [
    "df_bws_annual = pd.read_gbq(query=sql_bws_annual,dialect=\"standard\")"
   ]
  },
  {
   "cell_type": "code",
   "execution_count": 21,
   "metadata": {
    "collapsed": true
   },
   "outputs": [],
   "source": [
    "df_bws_annual = df_bws_annual.rename(columns={\"pfafid_30spfaf06\":\"pfaf_id\",\n",
    "                                              \"waterstress_raw_dimensionless_coalesced\":\"bws_raw\",\n",
    "                                              \"waterstress_score_dimensionless_coalesced\":\"bws_score\",\n",
    "                                              \"waterstress_category_dimensionless_coalesced\":\"bws_cat\",\n",
    "                                              \"waterstress_label_dimensionless_coalesced\":\"bws_label\"})"
   ]
  },
  {
   "cell_type": "code",
   "execution_count": 22,
   "metadata": {},
   "outputs": [
    {
     "data": {
      "text/html": [
       "<div>\n",
       "<style scoped>\n",
       "    .dataframe tbody tr th:only-of-type {\n",
       "        vertical-align: middle;\n",
       "    }\n",
       "\n",
       "    .dataframe tbody tr th {\n",
       "        vertical-align: top;\n",
       "    }\n",
       "\n",
       "    .dataframe thead th {\n",
       "        text-align: right;\n",
       "    }\n",
       "</style>\n",
       "<table border=\"1\" class=\"dataframe\">\n",
       "  <thead>\n",
       "    <tr style=\"text-align: right;\">\n",
       "      <th></th>\n",
       "      <th>pfaf_id</th>\n",
       "      <th>temporal_resolution</th>\n",
       "      <th>delta_id</th>\n",
       "      <th>year</th>\n",
       "      <th>bws_raw</th>\n",
       "      <th>bws_score</th>\n",
       "      <th>bws_cat</th>\n",
       "      <th>bws_label</th>\n",
       "    </tr>\n",
       "  </thead>\n",
       "  <tbody>\n",
       "    <tr>\n",
       "      <th>0</th>\n",
       "      <td>822478</td>\n",
       "      <td>year</td>\n",
       "      <td>-1</td>\n",
       "      <td>2014</td>\n",
       "      <td>0.055715</td>\n",
       "      <td>0.156149</td>\n",
       "      <td>0.0</td>\n",
       "      <td>Low</td>\n",
       "    </tr>\n",
       "    <tr>\n",
       "      <th>1</th>\n",
       "      <td>822295</td>\n",
       "      <td>year</td>\n",
       "      <td>-1</td>\n",
       "      <td>2014</td>\n",
       "      <td>0.072984</td>\n",
       "      <td>0.545647</td>\n",
       "      <td>0.0</td>\n",
       "      <td>Low</td>\n",
       "    </tr>\n",
       "    <tr>\n",
       "      <th>2</th>\n",
       "      <td>822340</td>\n",
       "      <td>year</td>\n",
       "      <td>-1</td>\n",
       "      <td>2014</td>\n",
       "      <td>0.088637</td>\n",
       "      <td>0.825980</td>\n",
       "      <td>0.0</td>\n",
       "      <td>Low</td>\n",
       "    </tr>\n",
       "    <tr>\n",
       "      <th>3</th>\n",
       "      <td>822320</td>\n",
       "      <td>year</td>\n",
       "      <td>-1</td>\n",
       "      <td>2014</td>\n",
       "      <td>0.091209</td>\n",
       "      <td>0.867252</td>\n",
       "      <td>0.0</td>\n",
       "      <td>Low</td>\n",
       "    </tr>\n",
       "    <tr>\n",
       "      <th>4</th>\n",
       "      <td>181207</td>\n",
       "      <td>year</td>\n",
       "      <td>-1</td>\n",
       "      <td>2014</td>\n",
       "      <td>0.062617</td>\n",
       "      <td>0.324630</td>\n",
       "      <td>0.0</td>\n",
       "      <td>Low</td>\n",
       "    </tr>\n",
       "  </tbody>\n",
       "</table>\n",
       "</div>"
      ],
      "text/plain": [
       "   pfaf_id temporal_resolution  delta_id  year   bws_raw  bws_score  bws_cat  \\\n",
       "0   822478                year        -1  2014  0.055715   0.156149      0.0   \n",
       "1   822295                year        -1  2014  0.072984   0.545647      0.0   \n",
       "2   822340                year        -1  2014  0.088637   0.825980      0.0   \n",
       "3   822320                year        -1  2014  0.091209   0.867252      0.0   \n",
       "4   181207                year        -1  2014  0.062617   0.324630      0.0   \n",
       "\n",
       "  bws_label  \n",
       "0       Low  \n",
       "1       Low  \n",
       "2       Low  \n",
       "3       Low  \n",
       "4       Low  "
      ]
     },
     "execution_count": 22,
     "metadata": {},
     "output_type": "execute_result"
    }
   ],
   "source": [
    "df_bws_annual.head()"
   ]
  },
  {
   "cell_type": "code",
   "execution_count": 23,
   "metadata": {},
   "outputs": [
    {
     "name": "stderr",
     "output_type": "stream",
     "text": [
      "/opt/anaconda3/envs/python35/lib/python3.5/site-packages/pandas/core/indexing.py:194: SettingWithCopyWarning: \n",
      "A value is trying to be set on a copy of a slice from a DataFrame\n",
      "\n",
      "See the caveats in the documentation: http://pandas.pydata.org/pandas-docs/stable/indexing.html#indexing-view-versus-copy\n",
      "  self._setitem_with_indexer(indexer, value)\n"
     ]
    }
   ],
   "source": [
    "# Setting arid and low water use score to 5\n",
    "df_bws_annual.bws_score.loc[df_bws_annual.bws_score == -1] = 5"
   ]
  },
  {
   "cell_type": "code",
   "execution_count": 24,
   "metadata": {
    "collapsed": true
   },
   "outputs": [],
   "source": [
    "# BWD annual"
   ]
  },
  {
   "cell_type": "code",
   "execution_count": 25,
   "metadata": {
    "collapsed": true
   },
   "outputs": [],
   "source": [
    "sql_bwd_annual = \"\"\"\n",
    "SELECT\n",
    "  pfafid_30spfaf06,\n",
    "  temporal_resolution,\n",
    "  delta_id,\n",
    "  year,\n",
    "  waterdepletion_raw_dimensionless_coalesced,\n",
    "  waterdepletion_score_dimensionless_coalesced,\n",
    "  waterdepletion_category_dimensionless_coalesced,\n",
    "  waterdepletion_label_dimensionless_coalesced\n",
    "FROM\n",
    "  `{}.{}.{}`\n",
    "WHERE\n",
    "  temporal_resolution = 'year'\n",
    "  AND year = 2014\n",
    "\"\"\".format(BQ_PROJECT_ID,BQ_OUTPUT_DATASET_NAME,BQ_IN[\"BWD\"])"
   ]
  },
  {
   "cell_type": "code",
   "execution_count": 26,
   "metadata": {
    "collapsed": true
   },
   "outputs": [],
   "source": [
    "df_bwd_annual = pd.read_gbq(query=sql_bwd_annual,dialect=\"standard\")"
   ]
  },
  {
   "cell_type": "code",
   "execution_count": 27,
   "metadata": {
    "collapsed": true
   },
   "outputs": [],
   "source": [
    "df_bwd_annual = df_bwd_annual.rename(columns={\"pfafid_30spfaf06\":\"pfaf_id\",\n",
    "                                              \"waterdepletion_raw_dimensionless_coalesced\":\"bwd_raw\",\n",
    "                                              \"waterdepletion_score_dimensionless_coalesced\":\"bwd_score\",\n",
    "                                              \"waterdepletion_category_dimensionless_coalesced\":\"bwd_cat\",\n",
    "                                              \"waterdepletion_label_dimensionless_coalesced\":\"bwd_label\"})"
   ]
  },
  {
   "cell_type": "code",
   "execution_count": 28,
   "metadata": {
    "collapsed": true
   },
   "outputs": [],
   "source": [
    "df_bwd_annual.drop(columns=[\"temporal_resolution\",\n",
    "                            \"year\",\n",
    "                            \"delta_id\"],\n",
    "                   inplace=True)"
   ]
  },
  {
   "cell_type": "code",
   "execution_count": 29,
   "metadata": {},
   "outputs": [
    {
     "name": "stderr",
     "output_type": "stream",
     "text": [
      "/opt/anaconda3/envs/python35/lib/python3.5/site-packages/pandas/core/indexing.py:194: SettingWithCopyWarning: \n",
      "A value is trying to be set on a copy of a slice from a DataFrame\n",
      "\n",
      "See the caveats in the documentation: http://pandas.pydata.org/pandas-docs/stable/indexing.html#indexing-view-versus-copy\n",
      "  self._setitem_with_indexer(indexer, value)\n"
     ]
    }
   ],
   "source": [
    "# Setting arid and low water use score to 5\n",
    "df_bwd_annual.bwd_score.loc[df_bwd_annual.bwd_score == -1] = 5"
   ]
  },
  {
   "cell_type": "code",
   "execution_count": 30,
   "metadata": {
    "collapsed": true
   },
   "outputs": [],
   "source": [
    "# IAV "
   ]
  },
  {
   "cell_type": "code",
   "execution_count": 31,
   "metadata": {
    "collapsed": true
   },
   "outputs": [],
   "source": [
    "sql_iav_annual = \"\"\"\n",
    "SELECT\n",
    "  pfafid_30spfaf06,\n",
    "  temporal_resolution,\n",
    "  year,\n",
    "  delta_id,\n",
    "  iav_riverdischarge_m_coalesced,\n",
    "  iav_riverdischarge_score_coalesced,\n",
    "  iav_riverdischarge_category_coalesced,\n",
    "  iav_riverdischarge_label_coalesced\n",
    "FROM\n",
    "  `{}.{}.{}`\n",
    "WHERE\n",
    "  temporal_resolution = 'year'\n",
    "  AND year = 2014\n",
    "\"\"\".format(BQ_PROJECT_ID,BQ_OUTPUT_DATASET_NAME,BQ_IN[\"IAV\"])"
   ]
  },
  {
   "cell_type": "code",
   "execution_count": 32,
   "metadata": {
    "collapsed": true
   },
   "outputs": [],
   "source": [
    "df_iav_annual = pd.read_gbq(query=sql_iav_annual,dialect=\"standard\")"
   ]
  },
  {
   "cell_type": "code",
   "execution_count": 33,
   "metadata": {
    "collapsed": true
   },
   "outputs": [],
   "source": [
    "df_iav_annual = df_iav_annual.rename(columns={\"pfafid_30spfaf06\":\"pfaf_id\",\n",
    "                                              \"iav_riverdischarge_m_coalesced\":\"iav_raw\",\n",
    "                                              \"iav_riverdischarge_score_coalesced\":\"iav_score\",\n",
    "                                              \"iav_riverdischarge_category_coalesced\":\"iav_cat\",\n",
    "                                              \"iav_riverdischarge_label_coalesced\":\"iav_label\"})"
   ]
  },
  {
   "cell_type": "code",
   "execution_count": 34,
   "metadata": {
    "collapsed": true
   },
   "outputs": [],
   "source": [
    "df_iav_annual.drop(columns=[\"temporal_resolution\",\n",
    "                            \"year\",\n",
    "                            \"delta_id\"],\n",
    "                   inplace=True)"
   ]
  },
  {
   "cell_type": "code",
   "execution_count": 35,
   "metadata": {
    "collapsed": true
   },
   "outputs": [],
   "source": [
    "# SEV"
   ]
  },
  {
   "cell_type": "code",
   "execution_count": 36,
   "metadata": {
    "collapsed": true
   },
   "outputs": [],
   "source": [
    "sql_sev = \"\"\"\n",
    "SELECT\n",
    "  pfafid_30spfaf06,\n",
    "  sv_riverdischarge_m_coalesced,\n",
    "  sv_riverdischarge_score_coalesced,\n",
    "  sv_riverdischarge_category_coalesced,\n",
    "  sv_label_dimensionless_coalesced\n",
    "FROM\n",
    "  `{}.{}.{}`\n",
    "\"\"\".format(BQ_PROJECT_ID,BQ_OUTPUT_DATASET_NAME,BQ_IN[\"SEV\"])"
   ]
  },
  {
   "cell_type": "code",
   "execution_count": 37,
   "metadata": {
    "collapsed": true
   },
   "outputs": [],
   "source": [
    "df_sev = pd.read_gbq(query=sql_sev,dialect=\"standard\")"
   ]
  },
  {
   "cell_type": "code",
   "execution_count": 38,
   "metadata": {
    "collapsed": true
   },
   "outputs": [],
   "source": [
    "df_sev = df_sev.rename(columns={\"pfafid_30spfaf06\":\"pfaf_id\",\n",
    "                                \"sv_riverdischarge_m_coalesced\":\"sev_raw\",\n",
    "                                \"sv_riverdischarge_score_coalesced\":\"sev_score\",\n",
    "                                \"sv_riverdischarge_category_coalesced\":\"sev_cat\",\n",
    "                                \"sv_label_dimensionless_coalesced\":\"sev_label\"})"
   ]
  },
  {
   "cell_type": "code",
   "execution_count": 39,
   "metadata": {
    "collapsed": true
   },
   "outputs": [],
   "source": [
    "# RFR"
   ]
  },
  {
   "cell_type": "code",
   "execution_count": 40,
   "metadata": {
    "collapsed": true
   },
   "outputs": [],
   "source": [
    "sql_rfr = \"\"\"\n",
    "SELECT\n",
    "  pfaf_id,\n",
    "  rfr_raw,\n",
    "  rfr_score,\n",
    "  rfr_cat,\n",
    "  rfr_label\n",
    "FROM\n",
    "  `{}.{}.{}`\n",
    "\"\"\".format(BQ_PROJECT_ID,BQ_OUTPUT_DATASET_NAME,BQ_IN[\"RFR\"])"
   ]
  },
  {
   "cell_type": "code",
   "execution_count": 41,
   "metadata": {
    "collapsed": true
   },
   "outputs": [],
   "source": [
    "df_rfr = pd.read_gbq(query=sql_rfr,dialect=\"standard\")"
   ]
  },
  {
   "cell_type": "code",
   "execution_count": 42,
   "metadata": {
    "collapsed": true
   },
   "outputs": [],
   "source": [
    "# CFR"
   ]
  },
  {
   "cell_type": "code",
   "execution_count": 43,
   "metadata": {
    "collapsed": true
   },
   "outputs": [],
   "source": [
    "sql_cfr = \"\"\"\n",
    "SELECT\n",
    "  pfaf_id,\n",
    "  cfr_raw,\n",
    "  cfr_score,\n",
    "  cfr_cat,\n",
    "  cfr_label\n",
    "FROM\n",
    "  `{}.{}.{}`\n",
    "\"\"\".format(BQ_PROJECT_ID,BQ_OUTPUT_DATASET_NAME,BQ_IN[\"CFR\"])"
   ]
  },
  {
   "cell_type": "code",
   "execution_count": 44,
   "metadata": {
    "collapsed": true
   },
   "outputs": [],
   "source": [
    "df_cfr = pd.read_gbq(query=sql_cfr,dialect=\"standard\")"
   ]
  },
  {
   "cell_type": "code",
   "execution_count": 45,
   "metadata": {
    "collapsed": true
   },
   "outputs": [],
   "source": [
    "# DRR"
   ]
  },
  {
   "cell_type": "code",
   "execution_count": 46,
   "metadata": {
    "collapsed": true
   },
   "outputs": [],
   "source": [
    "sql_drr = \"\"\"\n",
    "SELECT\n",
    "  PFAF_ID,\n",
    "  droughtrisk_score AS droughtrisk_raw,\n",
    "  droughtrisk_score,\n",
    "  droughtrisk_cat,\n",
    "  droughtrisk_label\n",
    "FROM\n",
    "  `{}.{}.{}`\n",
    "\"\"\".format(BQ_PROJECT_ID,BQ_OUTPUT_DATASET_NAME,BQ_IN[\"DRR\"])"
   ]
  },
  {
   "cell_type": "code",
   "execution_count": 47,
   "metadata": {
    "collapsed": true
   },
   "outputs": [],
   "source": [
    "df_drr = pd.read_gbq(query=sql_drr,dialect=\"standard\")"
   ]
  },
  {
   "cell_type": "code",
   "execution_count": 48,
   "metadata": {
    "collapsed": true
   },
   "outputs": [],
   "source": [
    "df_drr = df_drr.rename(columns={\"PFAF_ID\":\"pfaf_id\",\n",
    "                                \"droughtrisk_raw\":\"drr_raw\",\n",
    "                                \"droughtrisk_score\":\"drr_score\",\n",
    "                                \"droughtrisk_cat\":\"drr_cat\",\n",
    "                                \"droughtrisk_label\":\"drr_label\"})"
   ]
  },
  {
   "cell_type": "code",
   "execution_count": 49,
   "metadata": {
    "collapsed": true
   },
   "outputs": [],
   "source": [
    "# GTD"
   ]
  },
  {
   "cell_type": "code",
   "execution_count": 50,
   "metadata": {
    "collapsed": true
   },
   "outputs": [],
   "source": [
    "sql_gtd = \"\"\"\n",
    "SELECT\n",
    "  AqID_spatial_unit,\n",
    "  groundwatertabledecliningtrend_cmperyear,\n",
    "  groundwatertabledecliningtrend_score,\n",
    "  groundwatertabledecliningtrend_cat,\n",
    "  groundwatertabledecliningtrend_label\n",
    "FROM\n",
    "  `{}.{}.{}`\n",
    "\"\"\".format(BQ_PROJECT_ID,BQ_OUTPUT_DATASET_NAME,BQ_IN[\"GTD\"])"
   ]
  },
  {
   "cell_type": "code",
   "execution_count": 51,
   "metadata": {
    "collapsed": true
   },
   "outputs": [],
   "source": [
    "df_gtd = pd.read_gbq(query=sql_gtd,dialect=\"standard\")"
   ]
  },
  {
   "cell_type": "code",
   "execution_count": 52,
   "metadata": {
    "collapsed": true
   },
   "outputs": [],
   "source": [
    "df_gtd = df_gtd.rename(columns={\"AqID_spatial_unit\":\"aqid\",\n",
    "                                \"groundwatertabledecliningtrend_cmperyear\":\"gtd_raw\",\n",
    "                                \"groundwatertabledecliningtrend_score\":\"gtd_score\",\n",
    "                                \"groundwatertabledecliningtrend_cat\":\"gtd_cat\",\n",
    "                                \"groundwatertabledecliningtrend_label\":\"gtd_label\"})"
   ]
  },
  {
   "cell_type": "code",
   "execution_count": 53,
   "metadata": {
    "collapsed": true
   },
   "outputs": [],
   "source": [
    "# UCW"
   ]
  },
  {
   "cell_type": "code",
   "execution_count": 54,
   "metadata": {
    "collapsed": true
   },
   "outputs": [],
   "source": [
    "sql_ucw = \"\"\"\n",
    "SELECT\n",
    "  adm0_a3,\n",
    "  ucw_raw,\n",
    "  ucw_score,\n",
    "  ucw_cat,\n",
    "  ucw_label\n",
    "FROM\n",
    "  `{}.{}.{}`\n",
    "\"\"\".format(BQ_PROJECT_ID,BQ_OUTPUT_DATASET_NAME,BQ_IN[\"UCW\"])"
   ]
  },
  {
   "cell_type": "code",
   "execution_count": 55,
   "metadata": {
    "collapsed": true
   },
   "outputs": [],
   "source": [
    "df_ucw = pd.read_gbq(query=sql_ucw,dialect=\"standard\")"
   ]
  },
  {
   "cell_type": "code",
   "execution_count": 56,
   "metadata": {
    "collapsed": true
   },
   "outputs": [],
   "source": [
    "# CEP"
   ]
  },
  {
   "cell_type": "code",
   "execution_count": 57,
   "metadata": {
    "collapsed": true
   },
   "outputs": [],
   "source": [
    "sql_cep = \"\"\"\n",
    "SELECT\n",
    "  pfaf_id,\n",
    "  cep_raw,\n",
    "  cep_score,\n",
    "  cep_cat,\n",
    "  cep_label\n",
    "FROM\n",
    "  `{}.{}.{}`\n",
    "\"\"\".format(BQ_PROJECT_ID,BQ_OUTPUT_DATASET_NAME,BQ_IN[\"CEP\"])"
   ]
  },
  {
   "cell_type": "code",
   "execution_count": 58,
   "metadata": {},
   "outputs": [],
   "source": [
    "df_cep = pd.read_gbq(query=sql_cep,dialect=\"standard\")"
   ]
  },
  {
   "cell_type": "code",
   "execution_count": 59,
   "metadata": {
    "collapsed": true
   },
   "outputs": [],
   "source": [
    "# UDW"
   ]
  },
  {
   "cell_type": "code",
   "execution_count": 60,
   "metadata": {
    "collapsed": true
   },
   "outputs": [],
   "source": [
    "sql_udw = \"\"\"\n",
    "SELECT\n",
    "  pfaf_id,\n",
    "  udw_raw,\n",
    "  udw_score,\n",
    "  udw_cat,\n",
    "  udw_label\n",
    "FROM\n",
    "  `{}.{}.{}`\n",
    "\"\"\".format(BQ_PROJECT_ID,BQ_OUTPUT_DATASET_NAME,BQ_IN[\"UDW\"])"
   ]
  },
  {
   "cell_type": "code",
   "execution_count": 61,
   "metadata": {
    "collapsed": true
   },
   "outputs": [],
   "source": [
    "df_udw = pd.read_gbq(query=sql_udw,dialect=\"standard\")"
   ]
  },
  {
   "cell_type": "code",
   "execution_count": 62,
   "metadata": {
    "collapsed": true
   },
   "outputs": [],
   "source": [
    "# USA"
   ]
  },
  {
   "cell_type": "code",
   "execution_count": 63,
   "metadata": {
    "collapsed": true
   },
   "outputs": [],
   "source": [
    "sql_usa = \"\"\"\n",
    "SELECT\n",
    "  pfaf_id,\n",
    "  usa_raw,\n",
    "  usa_score,\n",
    "  usa_cat,\n",
    "  usa_label\n",
    "FROM\n",
    "  `{}.{}.{}`\n",
    "\"\"\".format(BQ_PROJECT_ID,BQ_OUTPUT_DATASET_NAME,BQ_IN[\"USA\"])"
   ]
  },
  {
   "cell_type": "code",
   "execution_count": 64,
   "metadata": {
    "collapsed": true
   },
   "outputs": [],
   "source": [
    "df_usa = pd.read_gbq(query=sql_usa,dialect=\"standard\")"
   ]
  },
  {
   "cell_type": "code",
   "execution_count": 65,
   "metadata": {
    "collapsed": true
   },
   "outputs": [],
   "source": [
    "# RRI"
   ]
  },
  {
   "cell_type": "code",
   "execution_count": 66,
   "metadata": {
    "collapsed": true
   },
   "outputs": [],
   "source": [
    "sql_rri = \"\"\"\n",
    "SELECT\n",
    "  adm0_a3,\n",
    "  rri_raw,\n",
    "  rri_score,\n",
    "  rri_cat,\n",
    "  rri_label\n",
    "FROM\n",
    "  `{}.{}.{}`\n",
    "\"\"\".format(BQ_PROJECT_ID,BQ_OUTPUT_DATASET_NAME,BQ_IN[\"RRI\"])"
   ]
  },
  {
   "cell_type": "code",
   "execution_count": 67,
   "metadata": {
    "collapsed": true
   },
   "outputs": [],
   "source": [
    "df_rri = pd.read_gbq(query=sql_rri,dialect=\"standard\")"
   ]
  },
  {
   "cell_type": "markdown",
   "metadata": {
    "collapsed": true
   },
   "source": [
    "# Joining  Tables"
   ]
  },
  {
   "cell_type": "code",
   "execution_count": 68,
   "metadata": {},
   "outputs": [
    {
     "data": {
      "text/html": [
       "<div>\n",
       "<style scoped>\n",
       "    .dataframe tbody tr th:only-of-type {\n",
       "        vertical-align: middle;\n",
       "    }\n",
       "\n",
       "    .dataframe tbody tr th {\n",
       "        vertical-align: top;\n",
       "    }\n",
       "\n",
       "    .dataframe thead th {\n",
       "        text-align: right;\n",
       "    }\n",
       "</style>\n",
       "<table border=\"1\" class=\"dataframe\">\n",
       "  <thead>\n",
       "    <tr style=\"text-align: right;\">\n",
       "      <th></th>\n",
       "      <th>aq30_id</th>\n",
       "      <th>string_id</th>\n",
       "      <th>pfaf_id</th>\n",
       "      <th>gid_1</th>\n",
       "      <th>aqid</th>\n",
       "    </tr>\n",
       "  </thead>\n",
       "  <tbody>\n",
       "    <tr>\n",
       "      <th>0</th>\n",
       "      <td>0</td>\n",
       "      <td>111011-EGY.11_1-3365</td>\n",
       "      <td>111011</td>\n",
       "      <td>EGY.11_1</td>\n",
       "      <td>3365</td>\n",
       "    </tr>\n",
       "    <tr>\n",
       "      <th>1</th>\n",
       "      <td>1</td>\n",
       "      <td>111011-EGY.15_1-3365</td>\n",
       "      <td>111011</td>\n",
       "      <td>EGY.15_1</td>\n",
       "      <td>3365</td>\n",
       "    </tr>\n",
       "    <tr>\n",
       "      <th>2</th>\n",
       "      <td>2</td>\n",
       "      <td>111011-EGY.15_1-None</td>\n",
       "      <td>111011</td>\n",
       "      <td>EGY.15_1</td>\n",
       "      <td>-9999</td>\n",
       "    </tr>\n",
       "    <tr>\n",
       "      <th>3</th>\n",
       "      <td>3</td>\n",
       "      <td>111011-None-3365</td>\n",
       "      <td>111011</td>\n",
       "      <td>-9999</td>\n",
       "      <td>3365</td>\n",
       "    </tr>\n",
       "    <tr>\n",
       "      <th>4</th>\n",
       "      <td>4</td>\n",
       "      <td>111011-None-None</td>\n",
       "      <td>111011</td>\n",
       "      <td>-9999</td>\n",
       "      <td>-9999</td>\n",
       "    </tr>\n",
       "  </tbody>\n",
       "</table>\n",
       "</div>"
      ],
      "text/plain": [
       "   aq30_id             string_id  pfaf_id     gid_1  aqid\n",
       "0        0  111011-EGY.11_1-3365   111011  EGY.11_1  3365\n",
       "1        1  111011-EGY.15_1-3365   111011  EGY.15_1  3365\n",
       "2        2  111011-EGY.15_1-None   111011  EGY.15_1 -9999\n",
       "3        3      111011-None-3365   111011     -9999  3365\n",
       "4        4      111011-None-None   111011     -9999 -9999"
      ]
     },
     "execution_count": 68,
     "metadata": {},
     "output_type": "execute_result"
    }
   ],
   "source": [
    "df_master.head()"
   ]
  },
  {
   "cell_type": "code",
   "execution_count": 69,
   "metadata": {},
   "outputs": [
    {
     "data": {
      "text/plain": [
       "(68511, 5)"
      ]
     },
     "execution_count": 69,
     "metadata": {},
     "output_type": "execute_result"
    }
   ],
   "source": [
    "df_master.shape"
   ]
  },
  {
   "cell_type": "code",
   "execution_count": 70,
   "metadata": {
    "collapsed": true
   },
   "outputs": [],
   "source": [
    "# Merge Area"
   ]
  },
  {
   "cell_type": "code",
   "execution_count": 71,
   "metadata": {
    "collapsed": true
   },
   "outputs": [],
   "source": [
    "df_merged = pd.merge(left=df_master,\n",
    "                     right=df_area,\n",
    "                     how=\"left\",\n",
    "                     left_on=\"string_id\",\n",
    "                     right_on=\"string_id\",\n",
    "                     validate=\"one_to_one\")"
   ]
  },
  {
   "cell_type": "code",
   "execution_count": 72,
   "metadata": {
    "collapsed": true
   },
   "outputs": [],
   "source": [
    "# Merge GADM"
   ]
  },
  {
   "cell_type": "code",
   "execution_count": 73,
   "metadata": {},
   "outputs": [
    {
     "data": {
      "text/html": [
       "<div>\n",
       "<style scoped>\n",
       "    .dataframe tbody tr th:only-of-type {\n",
       "        vertical-align: middle;\n",
       "    }\n",
       "\n",
       "    .dataframe tbody tr th {\n",
       "        vertical-align: top;\n",
       "    }\n",
       "\n",
       "    .dataframe thead th {\n",
       "        text-align: right;\n",
       "    }\n",
       "</style>\n",
       "<table border=\"1\" class=\"dataframe\">\n",
       "  <thead>\n",
       "    <tr style=\"text-align: right;\">\n",
       "      <th></th>\n",
       "      <th>gid_1</th>\n",
       "      <th>name_1</th>\n",
       "      <th>gid_0</th>\n",
       "      <th>name_0</th>\n",
       "      <th>varname_1</th>\n",
       "      <th>nl_name_1</th>\n",
       "      <th>type_1</th>\n",
       "      <th>engtype_1</th>\n",
       "      <th>cc_1</th>\n",
       "      <th>hasc_1</th>\n",
       "    </tr>\n",
       "  </thead>\n",
       "  <tbody>\n",
       "    <tr>\n",
       "      <th>0</th>\n",
       "      <td>XAD.1_1</td>\n",
       "      <td>Akrotiri</td>\n",
       "      <td>XAD</td>\n",
       "      <td>Akrotiri and Dhekelia</td>\n",
       "      <td>Western Sovereign Base Area</td>\n",
       "      <td>None</td>\n",
       "      <td>Sovereign Base Area</td>\n",
       "      <td>Sovereign Base Area</td>\n",
       "      <td>None</td>\n",
       "      <td>None</td>\n",
       "    </tr>\n",
       "    <tr>\n",
       "      <th>1</th>\n",
       "      <td>XKO.1_1</td>\n",
       "      <td>Đakovica</td>\n",
       "      <td>XKO</td>\n",
       "      <td>Kosovo</td>\n",
       "      <td>None</td>\n",
       "      <td>None</td>\n",
       "      <td>Okrug</td>\n",
       "      <td>District</td>\n",
       "      <td>None</td>\n",
       "      <td>None</td>\n",
       "    </tr>\n",
       "    <tr>\n",
       "      <th>2</th>\n",
       "      <td>XKO.7_1</td>\n",
       "      <td>Uroševac</td>\n",
       "      <td>XKO</td>\n",
       "      <td>Kosovo</td>\n",
       "      <td>None</td>\n",
       "      <td>None</td>\n",
       "      <td>Okrug</td>\n",
       "      <td>District</td>\n",
       "      <td>None</td>\n",
       "      <td>None</td>\n",
       "    </tr>\n",
       "    <tr>\n",
       "      <th>3</th>\n",
       "      <td>XKO.4_1</td>\n",
       "      <td>Pećki</td>\n",
       "      <td>XKO</td>\n",
       "      <td>Kosovo</td>\n",
       "      <td>Peć</td>\n",
       "      <td>Пећки</td>\n",
       "      <td>Okrug</td>\n",
       "      <td>District</td>\n",
       "      <td>None</td>\n",
       "      <td>RS.PE</td>\n",
       "    </tr>\n",
       "    <tr>\n",
       "      <th>4</th>\n",
       "      <td>WSM.8_1</td>\n",
       "      <td>Satupa'itea</td>\n",
       "      <td>WSM</td>\n",
       "      <td>Samoa</td>\n",
       "      <td>Satupaitea</td>\n",
       "      <td>None</td>\n",
       "      <td>Itumalo</td>\n",
       "      <td>District</td>\n",
       "      <td>None</td>\n",
       "      <td>WS.SA</td>\n",
       "    </tr>\n",
       "  </tbody>\n",
       "</table>\n",
       "</div>"
      ],
      "text/plain": [
       "     gid_1       name_1 gid_0                 name_0  \\\n",
       "0  XAD.1_1     Akrotiri   XAD  Akrotiri and Dhekelia   \n",
       "1  XKO.1_1     Đakovica   XKO                 Kosovo   \n",
       "2  XKO.7_1     Uroševac   XKO                 Kosovo   \n",
       "3  XKO.4_1        Pećki   XKO                 Kosovo   \n",
       "4  WSM.8_1  Satupa'itea   WSM                  Samoa   \n",
       "\n",
       "                     varname_1 nl_name_1               type_1  \\\n",
       "0  Western Sovereign Base Area      None  Sovereign Base Area   \n",
       "1                         None      None                Okrug   \n",
       "2                         None      None                Okrug   \n",
       "3                          Peć     Пећки                Okrug   \n",
       "4                   Satupaitea      None              Itumalo   \n",
       "\n",
       "             engtype_1  cc_1 hasc_1  \n",
       "0  Sovereign Base Area  None   None  \n",
       "1             District  None   None  \n",
       "2             District  None   None  \n",
       "3             District  None  RS.PE  \n",
       "4             District  None  WS.SA  "
      ]
     },
     "execution_count": 73,
     "metadata": {},
     "output_type": "execute_result"
    }
   ],
   "source": [
    "df_gadm36l01.head()"
   ]
  },
  {
   "cell_type": "code",
   "execution_count": 74,
   "metadata": {
    "collapsed": true
   },
   "outputs": [],
   "source": [
    "df_merged = pd.merge(left=df_merged,\n",
    "                     right=df_gadm36l01,\n",
    "                     how=\"left\",\n",
    "                     left_on=\"gid_1\",\n",
    "                     right_on=\"gid_1\",\n",
    "                     validate=\"many_to_one\")"
   ]
  },
  {
   "cell_type": "code",
   "execution_count": 75,
   "metadata": {
    "collapsed": true
   },
   "outputs": [],
   "source": [
    "# Merge BWS"
   ]
  },
  {
   "cell_type": "code",
   "execution_count": 76,
   "metadata": {
    "collapsed": true
   },
   "outputs": [],
   "source": [
    "df_merged = pd.merge(left=df_merged,\n",
    "                     right=df_bws_annual,\n",
    "                     how=\"left\",\n",
    "                     left_on=\"pfaf_id\",\n",
    "                     right_on=\"pfaf_id\",\n",
    "                     validate=\"many_to_one\")"
   ]
  },
  {
   "cell_type": "code",
   "execution_count": 77,
   "metadata": {
    "collapsed": true
   },
   "outputs": [],
   "source": [
    "# Merge BWD"
   ]
  },
  {
   "cell_type": "code",
   "execution_count": 78,
   "metadata": {
    "collapsed": true
   },
   "outputs": [],
   "source": [
    "df_merged = pd.merge(left=df_merged,\n",
    "                     right=df_bwd_annual,\n",
    "                     how=\"left\",\n",
    "                     left_on=\"pfaf_id\",\n",
    "                     right_on=\"pfaf_id\",\n",
    "                     validate=\"many_to_one\")"
   ]
  },
  {
   "cell_type": "code",
   "execution_count": 79,
   "metadata": {
    "collapsed": true
   },
   "outputs": [],
   "source": [
    "# Merge IAV"
   ]
  },
  {
   "cell_type": "code",
   "execution_count": 80,
   "metadata": {
    "collapsed": true
   },
   "outputs": [],
   "source": [
    "df_merged = pd.merge(left=df_merged,\n",
    "                     right=df_iav_annual,\n",
    "                     how=\"left\",\n",
    "                     left_on=\"pfaf_id\",\n",
    "                     right_on=\"pfaf_id\",\n",
    "                     validate=\"many_to_one\")"
   ]
  },
  {
   "cell_type": "code",
   "execution_count": 81,
   "metadata": {
    "collapsed": true
   },
   "outputs": [],
   "source": [
    "# Merge SEV"
   ]
  },
  {
   "cell_type": "code",
   "execution_count": 82,
   "metadata": {
    "collapsed": true
   },
   "outputs": [],
   "source": [
    "df_merged = pd.merge(left=df_merged,\n",
    "                     right=df_sev,\n",
    "                     how=\"left\",\n",
    "                     left_on=\"pfaf_id\",\n",
    "                     right_on=\"pfaf_id\",\n",
    "                     validate=\"many_to_one\")"
   ]
  },
  {
   "cell_type": "code",
   "execution_count": 83,
   "metadata": {
    "collapsed": true
   },
   "outputs": [],
   "source": [
    "# Merge RFR"
   ]
  },
  {
   "cell_type": "code",
   "execution_count": 84,
   "metadata": {
    "collapsed": true
   },
   "outputs": [],
   "source": [
    "df_merged = pd.merge(left=df_merged,\n",
    "                     right=df_rfr,\n",
    "                     how=\"left\",\n",
    "                     left_on=\"pfaf_id\",\n",
    "                     right_on=\"pfaf_id\",\n",
    "                     validate=\"many_to_one\")"
   ]
  },
  {
   "cell_type": "code",
   "execution_count": 85,
   "metadata": {
    "collapsed": true
   },
   "outputs": [],
   "source": [
    "# Merge CFR"
   ]
  },
  {
   "cell_type": "code",
   "execution_count": 86,
   "metadata": {
    "collapsed": true
   },
   "outputs": [],
   "source": [
    "df_merged = pd.merge(left=df_merged,\n",
    "                     right=df_cfr,\n",
    "                     how=\"left\",\n",
    "                     left_on=\"pfaf_id\",\n",
    "                     right_on=\"pfaf_id\",\n",
    "                     validate=\"many_to_one\")"
   ]
  },
  {
   "cell_type": "code",
   "execution_count": 87,
   "metadata": {
    "collapsed": true
   },
   "outputs": [],
   "source": [
    "# Merge DRR"
   ]
  },
  {
   "cell_type": "code",
   "execution_count": 88,
   "metadata": {
    "collapsed": true
   },
   "outputs": [],
   "source": [
    "df_merged = pd.merge(left=df_merged,\n",
    "                     right=df_drr,\n",
    "                     how=\"left\",\n",
    "                     left_on=\"pfaf_id\",\n",
    "                     right_on=\"pfaf_id\",\n",
    "                     validate=\"many_to_one\")"
   ]
  },
  {
   "cell_type": "code",
   "execution_count": 89,
   "metadata": {
    "collapsed": true
   },
   "outputs": [],
   "source": [
    "# Merge GTD"
   ]
  },
  {
   "cell_type": "code",
   "execution_count": 90,
   "metadata": {
    "collapsed": true
   },
   "outputs": [],
   "source": [
    "df_merged = pd.merge(left=df_merged,\n",
    "                     right=df_gtd,\n",
    "                     how=\"left\",\n",
    "                     left_on=\"aqid\",\n",
    "                     right_on=\"aqid\",\n",
    "                     validate=\"many_to_one\")"
   ]
  },
  {
   "cell_type": "code",
   "execution_count": 91,
   "metadata": {
    "collapsed": true
   },
   "outputs": [],
   "source": [
    "# UCW"
   ]
  },
  {
   "cell_type": "code",
   "execution_count": 92,
   "metadata": {
    "collapsed": true
   },
   "outputs": [],
   "source": [
    "df_merged = pd.merge(left=df_merged,\n",
    "                     right=df_ucw,\n",
    "                     how=\"left\",\n",
    "                     left_on=\"gid_0\",\n",
    "                     right_on=\"adm0_a3\",\n",
    "                     validate=\"many_to_one\")"
   ]
  },
  {
   "cell_type": "code",
   "execution_count": 93,
   "metadata": {
    "collapsed": true
   },
   "outputs": [],
   "source": [
    "df_merged.drop(columns=[\"adm0_a3\"],\n",
    "               inplace=True)"
   ]
  },
  {
   "cell_type": "code",
   "execution_count": 94,
   "metadata": {},
   "outputs": [
    {
     "data": {
      "text/html": [
       "<div>\n",
       "<style scoped>\n",
       "    .dataframe tbody tr th:only-of-type {\n",
       "        vertical-align: middle;\n",
       "    }\n",
       "\n",
       "    .dataframe tbody tr th {\n",
       "        vertical-align: top;\n",
       "    }\n",
       "\n",
       "    .dataframe thead th {\n",
       "        text-align: right;\n",
       "    }\n",
       "</style>\n",
       "<table border=\"1\" class=\"dataframe\">\n",
       "  <thead>\n",
       "    <tr style=\"text-align: right;\">\n",
       "      <th></th>\n",
       "      <th>aq30_id</th>\n",
       "      <th>string_id</th>\n",
       "      <th>pfaf_id</th>\n",
       "      <th>gid_1</th>\n",
       "      <th>aqid</th>\n",
       "      <th>area_km2</th>\n",
       "      <th>name_1</th>\n",
       "      <th>gid_0</th>\n",
       "      <th>name_0</th>\n",
       "      <th>varname_1</th>\n",
       "      <th>nl_name_1</th>\n",
       "      <th>type_1</th>\n",
       "      <th>engtype_1</th>\n",
       "      <th>cc_1</th>\n",
       "      <th>hasc_1</th>\n",
       "      <th>temporal_resolution</th>\n",
       "      <th>delta_id</th>\n",
       "      <th>year</th>\n",
       "      <th>bws_raw</th>\n",
       "      <th>bws_score</th>\n",
       "      <th>bws_cat</th>\n",
       "      <th>bws_label</th>\n",
       "      <th>bwd_raw</th>\n",
       "      <th>bwd_score</th>\n",
       "      <th>bwd_cat</th>\n",
       "      <th>bwd_label</th>\n",
       "      <th>iav_raw</th>\n",
       "      <th>iav_score</th>\n",
       "      <th>iav_cat</th>\n",
       "      <th>iav_label</th>\n",
       "      <th>sev_raw</th>\n",
       "      <th>sev_score</th>\n",
       "      <th>sev_cat</th>\n",
       "      <th>sev_label</th>\n",
       "      <th>rfr_raw</th>\n",
       "      <th>rfr_score</th>\n",
       "      <th>rfr_cat</th>\n",
       "      <th>rfr_label</th>\n",
       "      <th>cfr_raw</th>\n",
       "      <th>cfr_score</th>\n",
       "      <th>cfr_cat</th>\n",
       "      <th>cfr_label</th>\n",
       "      <th>drr_raw</th>\n",
       "      <th>drr_score</th>\n",
       "      <th>drr_cat</th>\n",
       "      <th>drr_label</th>\n",
       "      <th>gtd_raw</th>\n",
       "      <th>gtd_score</th>\n",
       "      <th>gtd_cat</th>\n",
       "      <th>gtd_label</th>\n",
       "      <th>ucw_raw</th>\n",
       "      <th>ucw_score</th>\n",
       "      <th>ucw_cat</th>\n",
       "      <th>ucw_label</th>\n",
       "    </tr>\n",
       "  </thead>\n",
       "  <tbody>\n",
       "    <tr>\n",
       "      <th>0</th>\n",
       "      <td>0</td>\n",
       "      <td>111011-EGY.11_1-3365</td>\n",
       "      <td>111011</td>\n",
       "      <td>EGY.11_1</td>\n",
       "      <td>3365</td>\n",
       "      <td>4.223754</td>\n",
       "      <td>Al Qahirah</td>\n",
       "      <td>EGY</td>\n",
       "      <td>Egypt</td>\n",
       "      <td>Cairo|El Cairo|El Qahira|Le Caire</td>\n",
       "      <td>None</td>\n",
       "      <td>Muhafazah</td>\n",
       "      <td>Governorate</td>\n",
       "      <td>None</td>\n",
       "      <td>EG.QH</td>\n",
       "      <td>year</td>\n",
       "      <td>-1.0</td>\n",
       "      <td>2014.0</td>\n",
       "      <td>2.318042</td>\n",
       "      <td>5.0</td>\n",
       "      <td>4.0</td>\n",
       "      <td>Extremely High</td>\n",
       "      <td>0.987061</td>\n",
       "      <td>4.948243</td>\n",
       "      <td>4.0</td>\n",
       "      <td>Extremely High</td>\n",
       "      <td>1.035414</td>\n",
       "      <td>4.141657</td>\n",
       "      <td>4.0</td>\n",
       "      <td>Extremely High</td>\n",
       "      <td>0.962396</td>\n",
       "      <td>2.887187</td>\n",
       "      <td>2.0</td>\n",
       "      <td>Medium - High</td>\n",
       "      <td>0.074383</td>\n",
       "      <td>4.180674</td>\n",
       "      <td>4.0</td>\n",
       "      <td>Extremely High (more than 1 in 100)</td>\n",
       "      <td>0.0</td>\n",
       "      <td>0.0</td>\n",
       "      <td>0.0</td>\n",
       "      <td>Low (0 to 9 in 1,000,000)</td>\n",
       "      <td>-9999.0</td>\n",
       "      <td>-9999.0</td>\n",
       "      <td>-9999.0</td>\n",
       "      <td>NoData</td>\n",
       "      <td>0.843958</td>\n",
       "      <td>-9998.0</td>\n",
       "      <td>-9998.0</td>\n",
       "      <td>Insignificant Trend</td>\n",
       "      <td>0.6139</td>\n",
       "      <td>2.046333</td>\n",
       "      <td>2.0</td>\n",
       "      <td>Medium to high (0.6 to 90%)</td>\n",
       "    </tr>\n",
       "    <tr>\n",
       "      <th>1</th>\n",
       "      <td>1</td>\n",
       "      <td>111011-EGY.15_1-3365</td>\n",
       "      <td>111011</td>\n",
       "      <td>EGY.15_1</td>\n",
       "      <td>3365</td>\n",
       "      <td>1846.012343</td>\n",
       "      <td>As Suways</td>\n",
       "      <td>EGY</td>\n",
       "      <td>Egypt</td>\n",
       "      <td>El Suweiz|Es Suweis|Suez</td>\n",
       "      <td>محافظة السويس</td>\n",
       "      <td>Muhafazah</td>\n",
       "      <td>Governorate</td>\n",
       "      <td>None</td>\n",
       "      <td>EG.SW</td>\n",
       "      <td>year</td>\n",
       "      <td>-1.0</td>\n",
       "      <td>2014.0</td>\n",
       "      <td>2.318042</td>\n",
       "      <td>5.0</td>\n",
       "      <td>4.0</td>\n",
       "      <td>Extremely High</td>\n",
       "      <td>0.987061</td>\n",
       "      <td>4.948243</td>\n",
       "      <td>4.0</td>\n",
       "      <td>Extremely High</td>\n",
       "      <td>1.035414</td>\n",
       "      <td>4.141657</td>\n",
       "      <td>4.0</td>\n",
       "      <td>Extremely High</td>\n",
       "      <td>0.962396</td>\n",
       "      <td>2.887187</td>\n",
       "      <td>2.0</td>\n",
       "      <td>Medium - High</td>\n",
       "      <td>0.074383</td>\n",
       "      <td>4.180674</td>\n",
       "      <td>4.0</td>\n",
       "      <td>Extremely High (more than 1 in 100)</td>\n",
       "      <td>0.0</td>\n",
       "      <td>0.0</td>\n",
       "      <td>0.0</td>\n",
       "      <td>Low (0 to 9 in 1,000,000)</td>\n",
       "      <td>-9999.0</td>\n",
       "      <td>-9999.0</td>\n",
       "      <td>-9999.0</td>\n",
       "      <td>NoData</td>\n",
       "      <td>0.843958</td>\n",
       "      <td>-9998.0</td>\n",
       "      <td>-9998.0</td>\n",
       "      <td>Insignificant Trend</td>\n",
       "      <td>0.6139</td>\n",
       "      <td>2.046333</td>\n",
       "      <td>2.0</td>\n",
       "      <td>Medium to high (0.6 to 90%)</td>\n",
       "    </tr>\n",
       "    <tr>\n",
       "      <th>2</th>\n",
       "      <td>2</td>\n",
       "      <td>111011-EGY.15_1-None</td>\n",
       "      <td>111011</td>\n",
       "      <td>EGY.15_1</td>\n",
       "      <td>-9999</td>\n",
       "      <td>30.526067</td>\n",
       "      <td>As Suways</td>\n",
       "      <td>EGY</td>\n",
       "      <td>Egypt</td>\n",
       "      <td>El Suweiz|Es Suweis|Suez</td>\n",
       "      <td>محافظة السويس</td>\n",
       "      <td>Muhafazah</td>\n",
       "      <td>Governorate</td>\n",
       "      <td>None</td>\n",
       "      <td>EG.SW</td>\n",
       "      <td>year</td>\n",
       "      <td>-1.0</td>\n",
       "      <td>2014.0</td>\n",
       "      <td>2.318042</td>\n",
       "      <td>5.0</td>\n",
       "      <td>4.0</td>\n",
       "      <td>Extremely High</td>\n",
       "      <td>0.987061</td>\n",
       "      <td>4.948243</td>\n",
       "      <td>4.0</td>\n",
       "      <td>Extremely High</td>\n",
       "      <td>1.035414</td>\n",
       "      <td>4.141657</td>\n",
       "      <td>4.0</td>\n",
       "      <td>Extremely High</td>\n",
       "      <td>0.962396</td>\n",
       "      <td>2.887187</td>\n",
       "      <td>2.0</td>\n",
       "      <td>Medium - High</td>\n",
       "      <td>0.074383</td>\n",
       "      <td>4.180674</td>\n",
       "      <td>4.0</td>\n",
       "      <td>Extremely High (more than 1 in 100)</td>\n",
       "      <td>0.0</td>\n",
       "      <td>0.0</td>\n",
       "      <td>0.0</td>\n",
       "      <td>Low (0 to 9 in 1,000,000)</td>\n",
       "      <td>-9999.0</td>\n",
       "      <td>-9999.0</td>\n",
       "      <td>-9999.0</td>\n",
       "      <td>NoData</td>\n",
       "      <td>NaN</td>\n",
       "      <td>NaN</td>\n",
       "      <td>NaN</td>\n",
       "      <td>NaN</td>\n",
       "      <td>0.6139</td>\n",
       "      <td>2.046333</td>\n",
       "      <td>2.0</td>\n",
       "      <td>Medium to high (0.6 to 90%)</td>\n",
       "    </tr>\n",
       "    <tr>\n",
       "      <th>3</th>\n",
       "      <td>3</td>\n",
       "      <td>111011-None-3365</td>\n",
       "      <td>111011</td>\n",
       "      <td>-9999</td>\n",
       "      <td>3365</td>\n",
       "      <td>0.742712</td>\n",
       "      <td>NaN</td>\n",
       "      <td>NaN</td>\n",
       "      <td>NaN</td>\n",
       "      <td>NaN</td>\n",
       "      <td>NaN</td>\n",
       "      <td>NaN</td>\n",
       "      <td>NaN</td>\n",
       "      <td>NaN</td>\n",
       "      <td>NaN</td>\n",
       "      <td>year</td>\n",
       "      <td>-1.0</td>\n",
       "      <td>2014.0</td>\n",
       "      <td>2.318042</td>\n",
       "      <td>5.0</td>\n",
       "      <td>4.0</td>\n",
       "      <td>Extremely High</td>\n",
       "      <td>0.987061</td>\n",
       "      <td>4.948243</td>\n",
       "      <td>4.0</td>\n",
       "      <td>Extremely High</td>\n",
       "      <td>1.035414</td>\n",
       "      <td>4.141657</td>\n",
       "      <td>4.0</td>\n",
       "      <td>Extremely High</td>\n",
       "      <td>0.962396</td>\n",
       "      <td>2.887187</td>\n",
       "      <td>2.0</td>\n",
       "      <td>Medium - High</td>\n",
       "      <td>0.074383</td>\n",
       "      <td>4.180674</td>\n",
       "      <td>4.0</td>\n",
       "      <td>Extremely High (more than 1 in 100)</td>\n",
       "      <td>0.0</td>\n",
       "      <td>0.0</td>\n",
       "      <td>0.0</td>\n",
       "      <td>Low (0 to 9 in 1,000,000)</td>\n",
       "      <td>-9999.0</td>\n",
       "      <td>-9999.0</td>\n",
       "      <td>-9999.0</td>\n",
       "      <td>NoData</td>\n",
       "      <td>0.843958</td>\n",
       "      <td>-9998.0</td>\n",
       "      <td>-9998.0</td>\n",
       "      <td>Insignificant Trend</td>\n",
       "      <td>NaN</td>\n",
       "      <td>NaN</td>\n",
       "      <td>NaN</td>\n",
       "      <td>NaN</td>\n",
       "    </tr>\n",
       "    <tr>\n",
       "      <th>4</th>\n",
       "      <td>4</td>\n",
       "      <td>111011-None-None</td>\n",
       "      <td>111011</td>\n",
       "      <td>-9999</td>\n",
       "      <td>-9999</td>\n",
       "      <td>13.430995</td>\n",
       "      <td>NaN</td>\n",
       "      <td>NaN</td>\n",
       "      <td>NaN</td>\n",
       "      <td>NaN</td>\n",
       "      <td>NaN</td>\n",
       "      <td>NaN</td>\n",
       "      <td>NaN</td>\n",
       "      <td>NaN</td>\n",
       "      <td>NaN</td>\n",
       "      <td>year</td>\n",
       "      <td>-1.0</td>\n",
       "      <td>2014.0</td>\n",
       "      <td>2.318042</td>\n",
       "      <td>5.0</td>\n",
       "      <td>4.0</td>\n",
       "      <td>Extremely High</td>\n",
       "      <td>0.987061</td>\n",
       "      <td>4.948243</td>\n",
       "      <td>4.0</td>\n",
       "      <td>Extremely High</td>\n",
       "      <td>1.035414</td>\n",
       "      <td>4.141657</td>\n",
       "      <td>4.0</td>\n",
       "      <td>Extremely High</td>\n",
       "      <td>0.962396</td>\n",
       "      <td>2.887187</td>\n",
       "      <td>2.0</td>\n",
       "      <td>Medium - High</td>\n",
       "      <td>0.074383</td>\n",
       "      <td>4.180674</td>\n",
       "      <td>4.0</td>\n",
       "      <td>Extremely High (more than 1 in 100)</td>\n",
       "      <td>0.0</td>\n",
       "      <td>0.0</td>\n",
       "      <td>0.0</td>\n",
       "      <td>Low (0 to 9 in 1,000,000)</td>\n",
       "      <td>-9999.0</td>\n",
       "      <td>-9999.0</td>\n",
       "      <td>-9999.0</td>\n",
       "      <td>NoData</td>\n",
       "      <td>NaN</td>\n",
       "      <td>NaN</td>\n",
       "      <td>NaN</td>\n",
       "      <td>NaN</td>\n",
       "      <td>NaN</td>\n",
       "      <td>NaN</td>\n",
       "      <td>NaN</td>\n",
       "      <td>NaN</td>\n",
       "    </tr>\n",
       "  </tbody>\n",
       "</table>\n",
       "</div>"
      ],
      "text/plain": [
       "   aq30_id             string_id  pfaf_id     gid_1  aqid     area_km2  \\\n",
       "0        0  111011-EGY.11_1-3365   111011  EGY.11_1  3365     4.223754   \n",
       "1        1  111011-EGY.15_1-3365   111011  EGY.15_1  3365  1846.012343   \n",
       "2        2  111011-EGY.15_1-None   111011  EGY.15_1 -9999    30.526067   \n",
       "3        3      111011-None-3365   111011     -9999  3365     0.742712   \n",
       "4        4      111011-None-None   111011     -9999 -9999    13.430995   \n",
       "\n",
       "       name_1 gid_0 name_0                          varname_1      nl_name_1  \\\n",
       "0  Al Qahirah   EGY  Egypt  Cairo|El Cairo|El Qahira|Le Caire           None   \n",
       "1   As Suways   EGY  Egypt           El Suweiz|Es Suweis|Suez  محافظة السويس   \n",
       "2   As Suways   EGY  Egypt           El Suweiz|Es Suweis|Suez  محافظة السويس   \n",
       "3         NaN   NaN    NaN                                NaN            NaN   \n",
       "4         NaN   NaN    NaN                                NaN            NaN   \n",
       "\n",
       "      type_1    engtype_1  cc_1 hasc_1 temporal_resolution  delta_id    year  \\\n",
       "0  Muhafazah  Governorate  None  EG.QH                year      -1.0  2014.0   \n",
       "1  Muhafazah  Governorate  None  EG.SW                year      -1.0  2014.0   \n",
       "2  Muhafazah  Governorate  None  EG.SW                year      -1.0  2014.0   \n",
       "3        NaN          NaN   NaN    NaN                year      -1.0  2014.0   \n",
       "4        NaN          NaN   NaN    NaN                year      -1.0  2014.0   \n",
       "\n",
       "    bws_raw  bws_score  bws_cat       bws_label   bwd_raw  bwd_score  bwd_cat  \\\n",
       "0  2.318042        5.0      4.0  Extremely High  0.987061   4.948243      4.0   \n",
       "1  2.318042        5.0      4.0  Extremely High  0.987061   4.948243      4.0   \n",
       "2  2.318042        5.0      4.0  Extremely High  0.987061   4.948243      4.0   \n",
       "3  2.318042        5.0      4.0  Extremely High  0.987061   4.948243      4.0   \n",
       "4  2.318042        5.0      4.0  Extremely High  0.987061   4.948243      4.0   \n",
       "\n",
       "        bwd_label   iav_raw  iav_score  iav_cat       iav_label   sev_raw  \\\n",
       "0  Extremely High  1.035414   4.141657      4.0  Extremely High  0.962396   \n",
       "1  Extremely High  1.035414   4.141657      4.0  Extremely High  0.962396   \n",
       "2  Extremely High  1.035414   4.141657      4.0  Extremely High  0.962396   \n",
       "3  Extremely High  1.035414   4.141657      4.0  Extremely High  0.962396   \n",
       "4  Extremely High  1.035414   4.141657      4.0  Extremely High  0.962396   \n",
       "\n",
       "   sev_score  sev_cat      sev_label   rfr_raw  rfr_score  rfr_cat  \\\n",
       "0   2.887187      2.0  Medium - High  0.074383   4.180674      4.0   \n",
       "1   2.887187      2.0  Medium - High  0.074383   4.180674      4.0   \n",
       "2   2.887187      2.0  Medium - High  0.074383   4.180674      4.0   \n",
       "3   2.887187      2.0  Medium - High  0.074383   4.180674      4.0   \n",
       "4   2.887187      2.0  Medium - High  0.074383   4.180674      4.0   \n",
       "\n",
       "                             rfr_label  cfr_raw  cfr_score  cfr_cat  \\\n",
       "0  Extremely High (more than 1 in 100)      0.0        0.0      0.0   \n",
       "1  Extremely High (more than 1 in 100)      0.0        0.0      0.0   \n",
       "2  Extremely High (more than 1 in 100)      0.0        0.0      0.0   \n",
       "3  Extremely High (more than 1 in 100)      0.0        0.0      0.0   \n",
       "4  Extremely High (more than 1 in 100)      0.0        0.0      0.0   \n",
       "\n",
       "                   cfr_label  drr_raw  drr_score  drr_cat drr_label   gtd_raw  \\\n",
       "0  Low (0 to 9 in 1,000,000)  -9999.0    -9999.0  -9999.0    NoData  0.843958   \n",
       "1  Low (0 to 9 in 1,000,000)  -9999.0    -9999.0  -9999.0    NoData  0.843958   \n",
       "2  Low (0 to 9 in 1,000,000)  -9999.0    -9999.0  -9999.0    NoData       NaN   \n",
       "3  Low (0 to 9 in 1,000,000)  -9999.0    -9999.0  -9999.0    NoData  0.843958   \n",
       "4  Low (0 to 9 in 1,000,000)  -9999.0    -9999.0  -9999.0    NoData       NaN   \n",
       "\n",
       "   gtd_score  gtd_cat            gtd_label  ucw_raw  ucw_score  ucw_cat  \\\n",
       "0    -9998.0  -9998.0  Insignificant Trend   0.6139   2.046333      2.0   \n",
       "1    -9998.0  -9998.0  Insignificant Trend   0.6139   2.046333      2.0   \n",
       "2        NaN      NaN                  NaN   0.6139   2.046333      2.0   \n",
       "3    -9998.0  -9998.0  Insignificant Trend      NaN        NaN      NaN   \n",
       "4        NaN      NaN                  NaN      NaN        NaN      NaN   \n",
       "\n",
       "                     ucw_label  \n",
       "0  Medium to high (0.6 to 90%)  \n",
       "1  Medium to high (0.6 to 90%)  \n",
       "2  Medium to high (0.6 to 90%)  \n",
       "3                          NaN  \n",
       "4                          NaN  "
      ]
     },
     "execution_count": 94,
     "metadata": {},
     "output_type": "execute_result"
    }
   ],
   "source": [
    "df_merged.head()"
   ]
  },
  {
   "cell_type": "code",
   "execution_count": 95,
   "metadata": {
    "collapsed": true
   },
   "outputs": [],
   "source": [
    "# CEP"
   ]
  },
  {
   "cell_type": "code",
   "execution_count": 96,
   "metadata": {
    "collapsed": true
   },
   "outputs": [],
   "source": [
    "df_merged = pd.merge(left=df_merged,\n",
    "                     right=df_cep,\n",
    "                     how=\"left\",\n",
    "                     left_on=\"pfaf_id\",\n",
    "                     right_on=\"pfaf_id\",\n",
    "                     validate=\"many_to_one\")"
   ]
  },
  {
   "cell_type": "code",
   "execution_count": 97,
   "metadata": {
    "collapsed": true
   },
   "outputs": [],
   "source": [
    "# UDW"
   ]
  },
  {
   "cell_type": "code",
   "execution_count": 98,
   "metadata": {
    "collapsed": true
   },
   "outputs": [],
   "source": [
    "df_merged = pd.merge(left=df_merged,\n",
    "                     right=df_udw,\n",
    "                     how=\"left\",\n",
    "                     left_on=\"pfaf_id\",\n",
    "                     right_on=\"pfaf_id\",\n",
    "                     validate=\"many_to_one\")"
   ]
  },
  {
   "cell_type": "code",
   "execution_count": 99,
   "metadata": {
    "collapsed": true
   },
   "outputs": [],
   "source": [
    "# USA"
   ]
  },
  {
   "cell_type": "code",
   "execution_count": 100,
   "metadata": {
    "collapsed": true
   },
   "outputs": [],
   "source": [
    "df_merged = pd.merge(left=df_merged,\n",
    "                     right=df_usa,\n",
    "                     how=\"left\",\n",
    "                     left_on=\"pfaf_id\",\n",
    "                     right_on=\"pfaf_id\",\n",
    "                     validate=\"many_to_one\")"
   ]
  },
  {
   "cell_type": "code",
   "execution_count": 101,
   "metadata": {},
   "outputs": [
    {
     "data": {
      "text/html": [
       "<div>\n",
       "<style scoped>\n",
       "    .dataframe tbody tr th:only-of-type {\n",
       "        vertical-align: middle;\n",
       "    }\n",
       "\n",
       "    .dataframe tbody tr th {\n",
       "        vertical-align: top;\n",
       "    }\n",
       "\n",
       "    .dataframe thead th {\n",
       "        text-align: right;\n",
       "    }\n",
       "</style>\n",
       "<table border=\"1\" class=\"dataframe\">\n",
       "  <thead>\n",
       "    <tr style=\"text-align: right;\">\n",
       "      <th></th>\n",
       "      <th>aq30_id</th>\n",
       "      <th>string_id</th>\n",
       "      <th>pfaf_id</th>\n",
       "      <th>gid_1</th>\n",
       "      <th>aqid</th>\n",
       "      <th>area_km2</th>\n",
       "      <th>name_1</th>\n",
       "      <th>gid_0</th>\n",
       "      <th>name_0</th>\n",
       "      <th>varname_1</th>\n",
       "      <th>nl_name_1</th>\n",
       "      <th>type_1</th>\n",
       "      <th>engtype_1</th>\n",
       "      <th>cc_1</th>\n",
       "      <th>hasc_1</th>\n",
       "      <th>temporal_resolution</th>\n",
       "      <th>delta_id</th>\n",
       "      <th>year</th>\n",
       "      <th>bws_raw</th>\n",
       "      <th>bws_score</th>\n",
       "      <th>bws_cat</th>\n",
       "      <th>bws_label</th>\n",
       "      <th>bwd_raw</th>\n",
       "      <th>bwd_score</th>\n",
       "      <th>bwd_cat</th>\n",
       "      <th>bwd_label</th>\n",
       "      <th>iav_raw</th>\n",
       "      <th>iav_score</th>\n",
       "      <th>iav_cat</th>\n",
       "      <th>iav_label</th>\n",
       "      <th>sev_raw</th>\n",
       "      <th>sev_score</th>\n",
       "      <th>sev_cat</th>\n",
       "      <th>sev_label</th>\n",
       "      <th>rfr_raw</th>\n",
       "      <th>rfr_score</th>\n",
       "      <th>rfr_cat</th>\n",
       "      <th>rfr_label</th>\n",
       "      <th>cfr_raw</th>\n",
       "      <th>cfr_score</th>\n",
       "      <th>cfr_cat</th>\n",
       "      <th>cfr_label</th>\n",
       "      <th>drr_raw</th>\n",
       "      <th>drr_score</th>\n",
       "      <th>drr_cat</th>\n",
       "      <th>drr_label</th>\n",
       "      <th>gtd_raw</th>\n",
       "      <th>gtd_score</th>\n",
       "      <th>gtd_cat</th>\n",
       "      <th>gtd_label</th>\n",
       "      <th>ucw_raw</th>\n",
       "      <th>ucw_score</th>\n",
       "      <th>ucw_cat</th>\n",
       "      <th>ucw_label</th>\n",
       "      <th>cep_raw</th>\n",
       "      <th>cep_score</th>\n",
       "      <th>cep_cat</th>\n",
       "      <th>cep_label</th>\n",
       "      <th>udw_raw</th>\n",
       "      <th>udw_score</th>\n",
       "      <th>udw_cat</th>\n",
       "      <th>udw_label</th>\n",
       "      <th>usa_raw</th>\n",
       "      <th>usa_score</th>\n",
       "      <th>usa_cat</th>\n",
       "      <th>usa_label</th>\n",
       "    </tr>\n",
       "  </thead>\n",
       "  <tbody>\n",
       "    <tr>\n",
       "      <th>0</th>\n",
       "      <td>0</td>\n",
       "      <td>111011-EGY.11_1-3365</td>\n",
       "      <td>111011</td>\n",
       "      <td>EGY.11_1</td>\n",
       "      <td>3365</td>\n",
       "      <td>4.223754</td>\n",
       "      <td>Al Qahirah</td>\n",
       "      <td>EGY</td>\n",
       "      <td>Egypt</td>\n",
       "      <td>Cairo|El Cairo|El Qahira|Le Caire</td>\n",
       "      <td>None</td>\n",
       "      <td>Muhafazah</td>\n",
       "      <td>Governorate</td>\n",
       "      <td>None</td>\n",
       "      <td>EG.QH</td>\n",
       "      <td>year</td>\n",
       "      <td>-1.0</td>\n",
       "      <td>2014.0</td>\n",
       "      <td>2.318042</td>\n",
       "      <td>5.0</td>\n",
       "      <td>4.0</td>\n",
       "      <td>Extremely High</td>\n",
       "      <td>0.987061</td>\n",
       "      <td>4.948243</td>\n",
       "      <td>4.0</td>\n",
       "      <td>Extremely High</td>\n",
       "      <td>1.035414</td>\n",
       "      <td>4.141657</td>\n",
       "      <td>4.0</td>\n",
       "      <td>Extremely High</td>\n",
       "      <td>0.962396</td>\n",
       "      <td>2.887187</td>\n",
       "      <td>2.0</td>\n",
       "      <td>Medium - High</td>\n",
       "      <td>0.074383</td>\n",
       "      <td>4.180674</td>\n",
       "      <td>4.0</td>\n",
       "      <td>Extremely High (more than 1 in 100)</td>\n",
       "      <td>0.0</td>\n",
       "      <td>0.0</td>\n",
       "      <td>0.0</td>\n",
       "      <td>Low (0 to 9 in 1,000,000)</td>\n",
       "      <td>-9999.0</td>\n",
       "      <td>-9999.0</td>\n",
       "      <td>-9999.0</td>\n",
       "      <td>NoData</td>\n",
       "      <td>0.843958</td>\n",
       "      <td>-9998.0</td>\n",
       "      <td>-9998.0</td>\n",
       "      <td>Insignificant Trend</td>\n",
       "      <td>0.6139</td>\n",
       "      <td>2.046333</td>\n",
       "      <td>2.0</td>\n",
       "      <td>Medium to high (0.6 to 90%)</td>\n",
       "      <td>0.0</td>\n",
       "      <td>1.25</td>\n",
       "      <td>1.0</td>\n",
       "      <td>Low to medium (-5 to 0)</td>\n",
       "      <td>0.011222</td>\n",
       "      <td>0.0</td>\n",
       "      <td>0.0</td>\n",
       "      <td>Low (&lt; 2.5%)</td>\n",
       "      <td>0.025333</td>\n",
       "      <td>1.019067</td>\n",
       "      <td>1.0</td>\n",
       "      <td>Low to medium (2.5 to 5%)</td>\n",
       "    </tr>\n",
       "    <tr>\n",
       "      <th>1</th>\n",
       "      <td>1</td>\n",
       "      <td>111011-EGY.15_1-3365</td>\n",
       "      <td>111011</td>\n",
       "      <td>EGY.15_1</td>\n",
       "      <td>3365</td>\n",
       "      <td>1846.012343</td>\n",
       "      <td>As Suways</td>\n",
       "      <td>EGY</td>\n",
       "      <td>Egypt</td>\n",
       "      <td>El Suweiz|Es Suweis|Suez</td>\n",
       "      <td>محافظة السويس</td>\n",
       "      <td>Muhafazah</td>\n",
       "      <td>Governorate</td>\n",
       "      <td>None</td>\n",
       "      <td>EG.SW</td>\n",
       "      <td>year</td>\n",
       "      <td>-1.0</td>\n",
       "      <td>2014.0</td>\n",
       "      <td>2.318042</td>\n",
       "      <td>5.0</td>\n",
       "      <td>4.0</td>\n",
       "      <td>Extremely High</td>\n",
       "      <td>0.987061</td>\n",
       "      <td>4.948243</td>\n",
       "      <td>4.0</td>\n",
       "      <td>Extremely High</td>\n",
       "      <td>1.035414</td>\n",
       "      <td>4.141657</td>\n",
       "      <td>4.0</td>\n",
       "      <td>Extremely High</td>\n",
       "      <td>0.962396</td>\n",
       "      <td>2.887187</td>\n",
       "      <td>2.0</td>\n",
       "      <td>Medium - High</td>\n",
       "      <td>0.074383</td>\n",
       "      <td>4.180674</td>\n",
       "      <td>4.0</td>\n",
       "      <td>Extremely High (more than 1 in 100)</td>\n",
       "      <td>0.0</td>\n",
       "      <td>0.0</td>\n",
       "      <td>0.0</td>\n",
       "      <td>Low (0 to 9 in 1,000,000)</td>\n",
       "      <td>-9999.0</td>\n",
       "      <td>-9999.0</td>\n",
       "      <td>-9999.0</td>\n",
       "      <td>NoData</td>\n",
       "      <td>0.843958</td>\n",
       "      <td>-9998.0</td>\n",
       "      <td>-9998.0</td>\n",
       "      <td>Insignificant Trend</td>\n",
       "      <td>0.6139</td>\n",
       "      <td>2.046333</td>\n",
       "      <td>2.0</td>\n",
       "      <td>Medium to high (0.6 to 90%)</td>\n",
       "      <td>0.0</td>\n",
       "      <td>1.25</td>\n",
       "      <td>1.0</td>\n",
       "      <td>Low to medium (-5 to 0)</td>\n",
       "      <td>0.011222</td>\n",
       "      <td>0.0</td>\n",
       "      <td>0.0</td>\n",
       "      <td>Low (&lt; 2.5%)</td>\n",
       "      <td>0.025333</td>\n",
       "      <td>1.019067</td>\n",
       "      <td>1.0</td>\n",
       "      <td>Low to medium (2.5 to 5%)</td>\n",
       "    </tr>\n",
       "    <tr>\n",
       "      <th>2</th>\n",
       "      <td>2</td>\n",
       "      <td>111011-EGY.15_1-None</td>\n",
       "      <td>111011</td>\n",
       "      <td>EGY.15_1</td>\n",
       "      <td>-9999</td>\n",
       "      <td>30.526067</td>\n",
       "      <td>As Suways</td>\n",
       "      <td>EGY</td>\n",
       "      <td>Egypt</td>\n",
       "      <td>El Suweiz|Es Suweis|Suez</td>\n",
       "      <td>محافظة السويس</td>\n",
       "      <td>Muhafazah</td>\n",
       "      <td>Governorate</td>\n",
       "      <td>None</td>\n",
       "      <td>EG.SW</td>\n",
       "      <td>year</td>\n",
       "      <td>-1.0</td>\n",
       "      <td>2014.0</td>\n",
       "      <td>2.318042</td>\n",
       "      <td>5.0</td>\n",
       "      <td>4.0</td>\n",
       "      <td>Extremely High</td>\n",
       "      <td>0.987061</td>\n",
       "      <td>4.948243</td>\n",
       "      <td>4.0</td>\n",
       "      <td>Extremely High</td>\n",
       "      <td>1.035414</td>\n",
       "      <td>4.141657</td>\n",
       "      <td>4.0</td>\n",
       "      <td>Extremely High</td>\n",
       "      <td>0.962396</td>\n",
       "      <td>2.887187</td>\n",
       "      <td>2.0</td>\n",
       "      <td>Medium - High</td>\n",
       "      <td>0.074383</td>\n",
       "      <td>4.180674</td>\n",
       "      <td>4.0</td>\n",
       "      <td>Extremely High (more than 1 in 100)</td>\n",
       "      <td>0.0</td>\n",
       "      <td>0.0</td>\n",
       "      <td>0.0</td>\n",
       "      <td>Low (0 to 9 in 1,000,000)</td>\n",
       "      <td>-9999.0</td>\n",
       "      <td>-9999.0</td>\n",
       "      <td>-9999.0</td>\n",
       "      <td>NoData</td>\n",
       "      <td>NaN</td>\n",
       "      <td>NaN</td>\n",
       "      <td>NaN</td>\n",
       "      <td>NaN</td>\n",
       "      <td>0.6139</td>\n",
       "      <td>2.046333</td>\n",
       "      <td>2.0</td>\n",
       "      <td>Medium to high (0.6 to 90%)</td>\n",
       "      <td>0.0</td>\n",
       "      <td>1.25</td>\n",
       "      <td>1.0</td>\n",
       "      <td>Low to medium (-5 to 0)</td>\n",
       "      <td>0.011222</td>\n",
       "      <td>0.0</td>\n",
       "      <td>0.0</td>\n",
       "      <td>Low (&lt; 2.5%)</td>\n",
       "      <td>0.025333</td>\n",
       "      <td>1.019067</td>\n",
       "      <td>1.0</td>\n",
       "      <td>Low to medium (2.5 to 5%)</td>\n",
       "    </tr>\n",
       "    <tr>\n",
       "      <th>3</th>\n",
       "      <td>3</td>\n",
       "      <td>111011-None-3365</td>\n",
       "      <td>111011</td>\n",
       "      <td>-9999</td>\n",
       "      <td>3365</td>\n",
       "      <td>0.742712</td>\n",
       "      <td>NaN</td>\n",
       "      <td>NaN</td>\n",
       "      <td>NaN</td>\n",
       "      <td>NaN</td>\n",
       "      <td>NaN</td>\n",
       "      <td>NaN</td>\n",
       "      <td>NaN</td>\n",
       "      <td>NaN</td>\n",
       "      <td>NaN</td>\n",
       "      <td>year</td>\n",
       "      <td>-1.0</td>\n",
       "      <td>2014.0</td>\n",
       "      <td>2.318042</td>\n",
       "      <td>5.0</td>\n",
       "      <td>4.0</td>\n",
       "      <td>Extremely High</td>\n",
       "      <td>0.987061</td>\n",
       "      <td>4.948243</td>\n",
       "      <td>4.0</td>\n",
       "      <td>Extremely High</td>\n",
       "      <td>1.035414</td>\n",
       "      <td>4.141657</td>\n",
       "      <td>4.0</td>\n",
       "      <td>Extremely High</td>\n",
       "      <td>0.962396</td>\n",
       "      <td>2.887187</td>\n",
       "      <td>2.0</td>\n",
       "      <td>Medium - High</td>\n",
       "      <td>0.074383</td>\n",
       "      <td>4.180674</td>\n",
       "      <td>4.0</td>\n",
       "      <td>Extremely High (more than 1 in 100)</td>\n",
       "      <td>0.0</td>\n",
       "      <td>0.0</td>\n",
       "      <td>0.0</td>\n",
       "      <td>Low (0 to 9 in 1,000,000)</td>\n",
       "      <td>-9999.0</td>\n",
       "      <td>-9999.0</td>\n",
       "      <td>-9999.0</td>\n",
       "      <td>NoData</td>\n",
       "      <td>0.843958</td>\n",
       "      <td>-9998.0</td>\n",
       "      <td>-9998.0</td>\n",
       "      <td>Insignificant Trend</td>\n",
       "      <td>NaN</td>\n",
       "      <td>NaN</td>\n",
       "      <td>NaN</td>\n",
       "      <td>NaN</td>\n",
       "      <td>0.0</td>\n",
       "      <td>1.25</td>\n",
       "      <td>1.0</td>\n",
       "      <td>Low to medium (-5 to 0)</td>\n",
       "      <td>0.011222</td>\n",
       "      <td>0.0</td>\n",
       "      <td>0.0</td>\n",
       "      <td>Low (&lt; 2.5%)</td>\n",
       "      <td>0.025333</td>\n",
       "      <td>1.019067</td>\n",
       "      <td>1.0</td>\n",
       "      <td>Low to medium (2.5 to 5%)</td>\n",
       "    </tr>\n",
       "    <tr>\n",
       "      <th>4</th>\n",
       "      <td>4</td>\n",
       "      <td>111011-None-None</td>\n",
       "      <td>111011</td>\n",
       "      <td>-9999</td>\n",
       "      <td>-9999</td>\n",
       "      <td>13.430995</td>\n",
       "      <td>NaN</td>\n",
       "      <td>NaN</td>\n",
       "      <td>NaN</td>\n",
       "      <td>NaN</td>\n",
       "      <td>NaN</td>\n",
       "      <td>NaN</td>\n",
       "      <td>NaN</td>\n",
       "      <td>NaN</td>\n",
       "      <td>NaN</td>\n",
       "      <td>year</td>\n",
       "      <td>-1.0</td>\n",
       "      <td>2014.0</td>\n",
       "      <td>2.318042</td>\n",
       "      <td>5.0</td>\n",
       "      <td>4.0</td>\n",
       "      <td>Extremely High</td>\n",
       "      <td>0.987061</td>\n",
       "      <td>4.948243</td>\n",
       "      <td>4.0</td>\n",
       "      <td>Extremely High</td>\n",
       "      <td>1.035414</td>\n",
       "      <td>4.141657</td>\n",
       "      <td>4.0</td>\n",
       "      <td>Extremely High</td>\n",
       "      <td>0.962396</td>\n",
       "      <td>2.887187</td>\n",
       "      <td>2.0</td>\n",
       "      <td>Medium - High</td>\n",
       "      <td>0.074383</td>\n",
       "      <td>4.180674</td>\n",
       "      <td>4.0</td>\n",
       "      <td>Extremely High (more than 1 in 100)</td>\n",
       "      <td>0.0</td>\n",
       "      <td>0.0</td>\n",
       "      <td>0.0</td>\n",
       "      <td>Low (0 to 9 in 1,000,000)</td>\n",
       "      <td>-9999.0</td>\n",
       "      <td>-9999.0</td>\n",
       "      <td>-9999.0</td>\n",
       "      <td>NoData</td>\n",
       "      <td>NaN</td>\n",
       "      <td>NaN</td>\n",
       "      <td>NaN</td>\n",
       "      <td>NaN</td>\n",
       "      <td>NaN</td>\n",
       "      <td>NaN</td>\n",
       "      <td>NaN</td>\n",
       "      <td>NaN</td>\n",
       "      <td>0.0</td>\n",
       "      <td>1.25</td>\n",
       "      <td>1.0</td>\n",
       "      <td>Low to medium (-5 to 0)</td>\n",
       "      <td>0.011222</td>\n",
       "      <td>0.0</td>\n",
       "      <td>0.0</td>\n",
       "      <td>Low (&lt; 2.5%)</td>\n",
       "      <td>0.025333</td>\n",
       "      <td>1.019067</td>\n",
       "      <td>1.0</td>\n",
       "      <td>Low to medium (2.5 to 5%)</td>\n",
       "    </tr>\n",
       "  </tbody>\n",
       "</table>\n",
       "</div>"
      ],
      "text/plain": [
       "   aq30_id             string_id  pfaf_id     gid_1  aqid     area_km2  \\\n",
       "0        0  111011-EGY.11_1-3365   111011  EGY.11_1  3365     4.223754   \n",
       "1        1  111011-EGY.15_1-3365   111011  EGY.15_1  3365  1846.012343   \n",
       "2        2  111011-EGY.15_1-None   111011  EGY.15_1 -9999    30.526067   \n",
       "3        3      111011-None-3365   111011     -9999  3365     0.742712   \n",
       "4        4      111011-None-None   111011     -9999 -9999    13.430995   \n",
       "\n",
       "       name_1 gid_0 name_0                          varname_1      nl_name_1  \\\n",
       "0  Al Qahirah   EGY  Egypt  Cairo|El Cairo|El Qahira|Le Caire           None   \n",
       "1   As Suways   EGY  Egypt           El Suweiz|Es Suweis|Suez  محافظة السويس   \n",
       "2   As Suways   EGY  Egypt           El Suweiz|Es Suweis|Suez  محافظة السويس   \n",
       "3         NaN   NaN    NaN                                NaN            NaN   \n",
       "4         NaN   NaN    NaN                                NaN            NaN   \n",
       "\n",
       "      type_1    engtype_1  cc_1 hasc_1 temporal_resolution  delta_id    year  \\\n",
       "0  Muhafazah  Governorate  None  EG.QH                year      -1.0  2014.0   \n",
       "1  Muhafazah  Governorate  None  EG.SW                year      -1.0  2014.0   \n",
       "2  Muhafazah  Governorate  None  EG.SW                year      -1.0  2014.0   \n",
       "3        NaN          NaN   NaN    NaN                year      -1.0  2014.0   \n",
       "4        NaN          NaN   NaN    NaN                year      -1.0  2014.0   \n",
       "\n",
       "    bws_raw  bws_score  bws_cat       bws_label   bwd_raw  bwd_score  bwd_cat  \\\n",
       "0  2.318042        5.0      4.0  Extremely High  0.987061   4.948243      4.0   \n",
       "1  2.318042        5.0      4.0  Extremely High  0.987061   4.948243      4.0   \n",
       "2  2.318042        5.0      4.0  Extremely High  0.987061   4.948243      4.0   \n",
       "3  2.318042        5.0      4.0  Extremely High  0.987061   4.948243      4.0   \n",
       "4  2.318042        5.0      4.0  Extremely High  0.987061   4.948243      4.0   \n",
       "\n",
       "        bwd_label   iav_raw  iav_score  iav_cat       iav_label   sev_raw  \\\n",
       "0  Extremely High  1.035414   4.141657      4.0  Extremely High  0.962396   \n",
       "1  Extremely High  1.035414   4.141657      4.0  Extremely High  0.962396   \n",
       "2  Extremely High  1.035414   4.141657      4.0  Extremely High  0.962396   \n",
       "3  Extremely High  1.035414   4.141657      4.0  Extremely High  0.962396   \n",
       "4  Extremely High  1.035414   4.141657      4.0  Extremely High  0.962396   \n",
       "\n",
       "   sev_score  sev_cat      sev_label   rfr_raw  rfr_score  rfr_cat  \\\n",
       "0   2.887187      2.0  Medium - High  0.074383   4.180674      4.0   \n",
       "1   2.887187      2.0  Medium - High  0.074383   4.180674      4.0   \n",
       "2   2.887187      2.0  Medium - High  0.074383   4.180674      4.0   \n",
       "3   2.887187      2.0  Medium - High  0.074383   4.180674      4.0   \n",
       "4   2.887187      2.0  Medium - High  0.074383   4.180674      4.0   \n",
       "\n",
       "                             rfr_label  cfr_raw  cfr_score  cfr_cat  \\\n",
       "0  Extremely High (more than 1 in 100)      0.0        0.0      0.0   \n",
       "1  Extremely High (more than 1 in 100)      0.0        0.0      0.0   \n",
       "2  Extremely High (more than 1 in 100)      0.0        0.0      0.0   \n",
       "3  Extremely High (more than 1 in 100)      0.0        0.0      0.0   \n",
       "4  Extremely High (more than 1 in 100)      0.0        0.0      0.0   \n",
       "\n",
       "                   cfr_label  drr_raw  drr_score  drr_cat drr_label   gtd_raw  \\\n",
       "0  Low (0 to 9 in 1,000,000)  -9999.0    -9999.0  -9999.0    NoData  0.843958   \n",
       "1  Low (0 to 9 in 1,000,000)  -9999.0    -9999.0  -9999.0    NoData  0.843958   \n",
       "2  Low (0 to 9 in 1,000,000)  -9999.0    -9999.0  -9999.0    NoData       NaN   \n",
       "3  Low (0 to 9 in 1,000,000)  -9999.0    -9999.0  -9999.0    NoData  0.843958   \n",
       "4  Low (0 to 9 in 1,000,000)  -9999.0    -9999.0  -9999.0    NoData       NaN   \n",
       "\n",
       "   gtd_score  gtd_cat            gtd_label  ucw_raw  ucw_score  ucw_cat  \\\n",
       "0    -9998.0  -9998.0  Insignificant Trend   0.6139   2.046333      2.0   \n",
       "1    -9998.0  -9998.0  Insignificant Trend   0.6139   2.046333      2.0   \n",
       "2        NaN      NaN                  NaN   0.6139   2.046333      2.0   \n",
       "3    -9998.0  -9998.0  Insignificant Trend      NaN        NaN      NaN   \n",
       "4        NaN      NaN                  NaN      NaN        NaN      NaN   \n",
       "\n",
       "                     ucw_label  cep_raw  cep_score  cep_cat  \\\n",
       "0  Medium to high (0.6 to 90%)      0.0       1.25      1.0   \n",
       "1  Medium to high (0.6 to 90%)      0.0       1.25      1.0   \n",
       "2  Medium to high (0.6 to 90%)      0.0       1.25      1.0   \n",
       "3                          NaN      0.0       1.25      1.0   \n",
       "4                          NaN      0.0       1.25      1.0   \n",
       "\n",
       "                 cep_label   udw_raw  udw_score  udw_cat     udw_label  \\\n",
       "0  Low to medium (-5 to 0)  0.011222        0.0      0.0  Low (< 2.5%)   \n",
       "1  Low to medium (-5 to 0)  0.011222        0.0      0.0  Low (< 2.5%)   \n",
       "2  Low to medium (-5 to 0)  0.011222        0.0      0.0  Low (< 2.5%)   \n",
       "3  Low to medium (-5 to 0)  0.011222        0.0      0.0  Low (< 2.5%)   \n",
       "4  Low to medium (-5 to 0)  0.011222        0.0      0.0  Low (< 2.5%)   \n",
       "\n",
       "    usa_raw  usa_score  usa_cat                  usa_label  \n",
       "0  0.025333   1.019067      1.0  Low to medium (2.5 to 5%)  \n",
       "1  0.025333   1.019067      1.0  Low to medium (2.5 to 5%)  \n",
       "2  0.025333   1.019067      1.0  Low to medium (2.5 to 5%)  \n",
       "3  0.025333   1.019067      1.0  Low to medium (2.5 to 5%)  \n",
       "4  0.025333   1.019067      1.0  Low to medium (2.5 to 5%)  "
      ]
     },
     "execution_count": 101,
     "metadata": {},
     "output_type": "execute_result"
    }
   ],
   "source": [
    "df_merged.head()"
   ]
  },
  {
   "cell_type": "code",
   "execution_count": 102,
   "metadata": {
    "collapsed": true
   },
   "outputs": [],
   "source": [
    "# RRI"
   ]
  },
  {
   "cell_type": "code",
   "execution_count": 103,
   "metadata": {
    "collapsed": true
   },
   "outputs": [],
   "source": [
    "df_merged = pd.merge(left=df_merged,\n",
    "                     right=df_rri,\n",
    "                     how=\"left\",\n",
    "                     left_on=\"gid_0\",\n",
    "                     right_on=\"adm0_a3\",\n",
    "                     validate=\"many_to_one\")"
   ]
  },
  {
   "cell_type": "code",
   "execution_count": 104,
   "metadata": {
    "collapsed": true
   },
   "outputs": [],
   "source": [
    "df_merged.drop(columns=[\"adm0_a3\"],\n",
    "               inplace=True)"
   ]
  },
  {
   "cell_type": "code",
   "execution_count": 105,
   "metadata": {
    "collapsed": true
   },
   "outputs": [],
   "source": [
    "# The dataframe has None's and NoData Values. \n",
    "# Creating two versions. One with None's and one with NoData values. "
   ]
  },
  {
   "cell_type": "code",
   "execution_count": 106,
   "metadata": {},
   "outputs": [],
   "source": [
    "df_merged_nones = df_merged.replace(to_replace=[-9999,-9998,-9999.0,-9998.0,\"-9999\",\"NoData\"],value= np.nan)"
   ]
  },
  {
   "cell_type": "code",
   "execution_count": 107,
   "metadata": {},
   "outputs": [
    {
     "data": {
      "text/html": [
       "<div>\n",
       "<style scoped>\n",
       "    .dataframe tbody tr th:only-of-type {\n",
       "        vertical-align: middle;\n",
       "    }\n",
       "\n",
       "    .dataframe tbody tr th {\n",
       "        vertical-align: top;\n",
       "    }\n",
       "\n",
       "    .dataframe thead th {\n",
       "        text-align: right;\n",
       "    }\n",
       "</style>\n",
       "<table border=\"1\" class=\"dataframe\">\n",
       "  <thead>\n",
       "    <tr style=\"text-align: right;\">\n",
       "      <th></th>\n",
       "      <th>aq30_id</th>\n",
       "      <th>string_id</th>\n",
       "      <th>pfaf_id</th>\n",
       "      <th>gid_1</th>\n",
       "      <th>aqid</th>\n",
       "      <th>area_km2</th>\n",
       "      <th>name_1</th>\n",
       "      <th>gid_0</th>\n",
       "      <th>name_0</th>\n",
       "      <th>varname_1</th>\n",
       "      <th>nl_name_1</th>\n",
       "      <th>type_1</th>\n",
       "      <th>engtype_1</th>\n",
       "      <th>cc_1</th>\n",
       "      <th>hasc_1</th>\n",
       "      <th>temporal_resolution</th>\n",
       "      <th>delta_id</th>\n",
       "      <th>year</th>\n",
       "      <th>bws_raw</th>\n",
       "      <th>bws_score</th>\n",
       "      <th>bws_cat</th>\n",
       "      <th>bws_label</th>\n",
       "      <th>bwd_raw</th>\n",
       "      <th>bwd_score</th>\n",
       "      <th>bwd_cat</th>\n",
       "      <th>bwd_label</th>\n",
       "      <th>iav_raw</th>\n",
       "      <th>iav_score</th>\n",
       "      <th>iav_cat</th>\n",
       "      <th>iav_label</th>\n",
       "      <th>sev_raw</th>\n",
       "      <th>sev_score</th>\n",
       "      <th>sev_cat</th>\n",
       "      <th>sev_label</th>\n",
       "      <th>rfr_raw</th>\n",
       "      <th>rfr_score</th>\n",
       "      <th>rfr_cat</th>\n",
       "      <th>rfr_label</th>\n",
       "      <th>cfr_raw</th>\n",
       "      <th>cfr_score</th>\n",
       "      <th>cfr_cat</th>\n",
       "      <th>cfr_label</th>\n",
       "      <th>drr_raw</th>\n",
       "      <th>drr_score</th>\n",
       "      <th>drr_cat</th>\n",
       "      <th>drr_label</th>\n",
       "      <th>gtd_raw</th>\n",
       "      <th>gtd_score</th>\n",
       "      <th>gtd_cat</th>\n",
       "      <th>gtd_label</th>\n",
       "      <th>ucw_raw</th>\n",
       "      <th>ucw_score</th>\n",
       "      <th>ucw_cat</th>\n",
       "      <th>ucw_label</th>\n",
       "      <th>cep_raw</th>\n",
       "      <th>cep_score</th>\n",
       "      <th>cep_cat</th>\n",
       "      <th>cep_label</th>\n",
       "      <th>udw_raw</th>\n",
       "      <th>udw_score</th>\n",
       "      <th>udw_cat</th>\n",
       "      <th>udw_label</th>\n",
       "      <th>usa_raw</th>\n",
       "      <th>usa_score</th>\n",
       "      <th>usa_cat</th>\n",
       "      <th>usa_label</th>\n",
       "      <th>rri_raw</th>\n",
       "      <th>rri_score</th>\n",
       "      <th>rri_cat</th>\n",
       "      <th>rri_label</th>\n",
       "    </tr>\n",
       "  </thead>\n",
       "  <tbody>\n",
       "    <tr>\n",
       "      <th>0</th>\n",
       "      <td>0</td>\n",
       "      <td>111011-EGY.11_1-3365</td>\n",
       "      <td>111011.0</td>\n",
       "      <td>EGY.11_1</td>\n",
       "      <td>3365.0</td>\n",
       "      <td>4.223754</td>\n",
       "      <td>Al Qahirah</td>\n",
       "      <td>EGY</td>\n",
       "      <td>Egypt</td>\n",
       "      <td>Cairo|El Cairo|El Qahira|Le Caire</td>\n",
       "      <td>None</td>\n",
       "      <td>Muhafazah</td>\n",
       "      <td>Governorate</td>\n",
       "      <td>None</td>\n",
       "      <td>EG.QH</td>\n",
       "      <td>year</td>\n",
       "      <td>-1.0</td>\n",
       "      <td>2014.0</td>\n",
       "      <td>2.318042</td>\n",
       "      <td>5.0</td>\n",
       "      <td>4.0</td>\n",
       "      <td>Extremely High</td>\n",
       "      <td>0.987061</td>\n",
       "      <td>4.948243</td>\n",
       "      <td>4.0</td>\n",
       "      <td>Extremely High</td>\n",
       "      <td>1.035414</td>\n",
       "      <td>4.141657</td>\n",
       "      <td>4.0</td>\n",
       "      <td>Extremely High</td>\n",
       "      <td>0.962396</td>\n",
       "      <td>2.887187</td>\n",
       "      <td>2.0</td>\n",
       "      <td>Medium - High</td>\n",
       "      <td>0.074383</td>\n",
       "      <td>4.180674</td>\n",
       "      <td>4.0</td>\n",
       "      <td>Extremely High (more than 1 in 100)</td>\n",
       "      <td>0.0</td>\n",
       "      <td>0.0</td>\n",
       "      <td>0.0</td>\n",
       "      <td>Low (0 to 9 in 1,000,000)</td>\n",
       "      <td>NaN</td>\n",
       "      <td>NaN</td>\n",
       "      <td>NaN</td>\n",
       "      <td>NaN</td>\n",
       "      <td>0.843958</td>\n",
       "      <td>NaN</td>\n",
       "      <td>NaN</td>\n",
       "      <td>Insignificant Trend</td>\n",
       "      <td>0.6139</td>\n",
       "      <td>2.046333</td>\n",
       "      <td>2.0</td>\n",
       "      <td>Medium to high (0.6 to 90%)</td>\n",
       "      <td>0.0</td>\n",
       "      <td>1.25</td>\n",
       "      <td>1.0</td>\n",
       "      <td>Low to medium (-5 to 0)</td>\n",
       "      <td>0.011222</td>\n",
       "      <td>0.0</td>\n",
       "      <td>0.0</td>\n",
       "      <td>Low (&lt; 2.5%)</td>\n",
       "      <td>0.025333</td>\n",
       "      <td>1.019067</td>\n",
       "      <td>1.0</td>\n",
       "      <td>Low to medium (2.5 to 5%)</td>\n",
       "      <td>58.0</td>\n",
       "      <td>2.8</td>\n",
       "      <td>2.0</td>\n",
       "      <td>Medium to high (50 to 60%)</td>\n",
       "    </tr>\n",
       "    <tr>\n",
       "      <th>1</th>\n",
       "      <td>1</td>\n",
       "      <td>111011-EGY.15_1-3365</td>\n",
       "      <td>111011.0</td>\n",
       "      <td>EGY.15_1</td>\n",
       "      <td>3365.0</td>\n",
       "      <td>1846.012343</td>\n",
       "      <td>As Suways</td>\n",
       "      <td>EGY</td>\n",
       "      <td>Egypt</td>\n",
       "      <td>El Suweiz|Es Suweis|Suez</td>\n",
       "      <td>محافظة السويس</td>\n",
       "      <td>Muhafazah</td>\n",
       "      <td>Governorate</td>\n",
       "      <td>None</td>\n",
       "      <td>EG.SW</td>\n",
       "      <td>year</td>\n",
       "      <td>-1.0</td>\n",
       "      <td>2014.0</td>\n",
       "      <td>2.318042</td>\n",
       "      <td>5.0</td>\n",
       "      <td>4.0</td>\n",
       "      <td>Extremely High</td>\n",
       "      <td>0.987061</td>\n",
       "      <td>4.948243</td>\n",
       "      <td>4.0</td>\n",
       "      <td>Extremely High</td>\n",
       "      <td>1.035414</td>\n",
       "      <td>4.141657</td>\n",
       "      <td>4.0</td>\n",
       "      <td>Extremely High</td>\n",
       "      <td>0.962396</td>\n",
       "      <td>2.887187</td>\n",
       "      <td>2.0</td>\n",
       "      <td>Medium - High</td>\n",
       "      <td>0.074383</td>\n",
       "      <td>4.180674</td>\n",
       "      <td>4.0</td>\n",
       "      <td>Extremely High (more than 1 in 100)</td>\n",
       "      <td>0.0</td>\n",
       "      <td>0.0</td>\n",
       "      <td>0.0</td>\n",
       "      <td>Low (0 to 9 in 1,000,000)</td>\n",
       "      <td>NaN</td>\n",
       "      <td>NaN</td>\n",
       "      <td>NaN</td>\n",
       "      <td>NaN</td>\n",
       "      <td>0.843958</td>\n",
       "      <td>NaN</td>\n",
       "      <td>NaN</td>\n",
       "      <td>Insignificant Trend</td>\n",
       "      <td>0.6139</td>\n",
       "      <td>2.046333</td>\n",
       "      <td>2.0</td>\n",
       "      <td>Medium to high (0.6 to 90%)</td>\n",
       "      <td>0.0</td>\n",
       "      <td>1.25</td>\n",
       "      <td>1.0</td>\n",
       "      <td>Low to medium (-5 to 0)</td>\n",
       "      <td>0.011222</td>\n",
       "      <td>0.0</td>\n",
       "      <td>0.0</td>\n",
       "      <td>Low (&lt; 2.5%)</td>\n",
       "      <td>0.025333</td>\n",
       "      <td>1.019067</td>\n",
       "      <td>1.0</td>\n",
       "      <td>Low to medium (2.5 to 5%)</td>\n",
       "      <td>58.0</td>\n",
       "      <td>2.8</td>\n",
       "      <td>2.0</td>\n",
       "      <td>Medium to high (50 to 60%)</td>\n",
       "    </tr>\n",
       "    <tr>\n",
       "      <th>2</th>\n",
       "      <td>2</td>\n",
       "      <td>111011-EGY.15_1-None</td>\n",
       "      <td>111011.0</td>\n",
       "      <td>EGY.15_1</td>\n",
       "      <td>NaN</td>\n",
       "      <td>30.526067</td>\n",
       "      <td>As Suways</td>\n",
       "      <td>EGY</td>\n",
       "      <td>Egypt</td>\n",
       "      <td>El Suweiz|Es Suweis|Suez</td>\n",
       "      <td>محافظة السويس</td>\n",
       "      <td>Muhafazah</td>\n",
       "      <td>Governorate</td>\n",
       "      <td>None</td>\n",
       "      <td>EG.SW</td>\n",
       "      <td>year</td>\n",
       "      <td>-1.0</td>\n",
       "      <td>2014.0</td>\n",
       "      <td>2.318042</td>\n",
       "      <td>5.0</td>\n",
       "      <td>4.0</td>\n",
       "      <td>Extremely High</td>\n",
       "      <td>0.987061</td>\n",
       "      <td>4.948243</td>\n",
       "      <td>4.0</td>\n",
       "      <td>Extremely High</td>\n",
       "      <td>1.035414</td>\n",
       "      <td>4.141657</td>\n",
       "      <td>4.0</td>\n",
       "      <td>Extremely High</td>\n",
       "      <td>0.962396</td>\n",
       "      <td>2.887187</td>\n",
       "      <td>2.0</td>\n",
       "      <td>Medium - High</td>\n",
       "      <td>0.074383</td>\n",
       "      <td>4.180674</td>\n",
       "      <td>4.0</td>\n",
       "      <td>Extremely High (more than 1 in 100)</td>\n",
       "      <td>0.0</td>\n",
       "      <td>0.0</td>\n",
       "      <td>0.0</td>\n",
       "      <td>Low (0 to 9 in 1,000,000)</td>\n",
       "      <td>NaN</td>\n",
       "      <td>NaN</td>\n",
       "      <td>NaN</td>\n",
       "      <td>NaN</td>\n",
       "      <td>NaN</td>\n",
       "      <td>NaN</td>\n",
       "      <td>NaN</td>\n",
       "      <td>NaN</td>\n",
       "      <td>0.6139</td>\n",
       "      <td>2.046333</td>\n",
       "      <td>2.0</td>\n",
       "      <td>Medium to high (0.6 to 90%)</td>\n",
       "      <td>0.0</td>\n",
       "      <td>1.25</td>\n",
       "      <td>1.0</td>\n",
       "      <td>Low to medium (-5 to 0)</td>\n",
       "      <td>0.011222</td>\n",
       "      <td>0.0</td>\n",
       "      <td>0.0</td>\n",
       "      <td>Low (&lt; 2.5%)</td>\n",
       "      <td>0.025333</td>\n",
       "      <td>1.019067</td>\n",
       "      <td>1.0</td>\n",
       "      <td>Low to medium (2.5 to 5%)</td>\n",
       "      <td>58.0</td>\n",
       "      <td>2.8</td>\n",
       "      <td>2.0</td>\n",
       "      <td>Medium to high (50 to 60%)</td>\n",
       "    </tr>\n",
       "    <tr>\n",
       "      <th>3</th>\n",
       "      <td>3</td>\n",
       "      <td>111011-None-3365</td>\n",
       "      <td>111011.0</td>\n",
       "      <td>NaN</td>\n",
       "      <td>3365.0</td>\n",
       "      <td>0.742712</td>\n",
       "      <td>NaN</td>\n",
       "      <td>NaN</td>\n",
       "      <td>NaN</td>\n",
       "      <td>NaN</td>\n",
       "      <td>NaN</td>\n",
       "      <td>NaN</td>\n",
       "      <td>NaN</td>\n",
       "      <td>NaN</td>\n",
       "      <td>NaN</td>\n",
       "      <td>year</td>\n",
       "      <td>-1.0</td>\n",
       "      <td>2014.0</td>\n",
       "      <td>2.318042</td>\n",
       "      <td>5.0</td>\n",
       "      <td>4.0</td>\n",
       "      <td>Extremely High</td>\n",
       "      <td>0.987061</td>\n",
       "      <td>4.948243</td>\n",
       "      <td>4.0</td>\n",
       "      <td>Extremely High</td>\n",
       "      <td>1.035414</td>\n",
       "      <td>4.141657</td>\n",
       "      <td>4.0</td>\n",
       "      <td>Extremely High</td>\n",
       "      <td>0.962396</td>\n",
       "      <td>2.887187</td>\n",
       "      <td>2.0</td>\n",
       "      <td>Medium - High</td>\n",
       "      <td>0.074383</td>\n",
       "      <td>4.180674</td>\n",
       "      <td>4.0</td>\n",
       "      <td>Extremely High (more than 1 in 100)</td>\n",
       "      <td>0.0</td>\n",
       "      <td>0.0</td>\n",
       "      <td>0.0</td>\n",
       "      <td>Low (0 to 9 in 1,000,000)</td>\n",
       "      <td>NaN</td>\n",
       "      <td>NaN</td>\n",
       "      <td>NaN</td>\n",
       "      <td>NaN</td>\n",
       "      <td>0.843958</td>\n",
       "      <td>NaN</td>\n",
       "      <td>NaN</td>\n",
       "      <td>Insignificant Trend</td>\n",
       "      <td>NaN</td>\n",
       "      <td>NaN</td>\n",
       "      <td>NaN</td>\n",
       "      <td>NaN</td>\n",
       "      <td>0.0</td>\n",
       "      <td>1.25</td>\n",
       "      <td>1.0</td>\n",
       "      <td>Low to medium (-5 to 0)</td>\n",
       "      <td>0.011222</td>\n",
       "      <td>0.0</td>\n",
       "      <td>0.0</td>\n",
       "      <td>Low (&lt; 2.5%)</td>\n",
       "      <td>0.025333</td>\n",
       "      <td>1.019067</td>\n",
       "      <td>1.0</td>\n",
       "      <td>Low to medium (2.5 to 5%)</td>\n",
       "      <td>NaN</td>\n",
       "      <td>NaN</td>\n",
       "      <td>NaN</td>\n",
       "      <td>NaN</td>\n",
       "    </tr>\n",
       "    <tr>\n",
       "      <th>4</th>\n",
       "      <td>4</td>\n",
       "      <td>111011-None-None</td>\n",
       "      <td>111011.0</td>\n",
       "      <td>NaN</td>\n",
       "      <td>NaN</td>\n",
       "      <td>13.430995</td>\n",
       "      <td>NaN</td>\n",
       "      <td>NaN</td>\n",
       "      <td>NaN</td>\n",
       "      <td>NaN</td>\n",
       "      <td>NaN</td>\n",
       "      <td>NaN</td>\n",
       "      <td>NaN</td>\n",
       "      <td>NaN</td>\n",
       "      <td>NaN</td>\n",
       "      <td>year</td>\n",
       "      <td>-1.0</td>\n",
       "      <td>2014.0</td>\n",
       "      <td>2.318042</td>\n",
       "      <td>5.0</td>\n",
       "      <td>4.0</td>\n",
       "      <td>Extremely High</td>\n",
       "      <td>0.987061</td>\n",
       "      <td>4.948243</td>\n",
       "      <td>4.0</td>\n",
       "      <td>Extremely High</td>\n",
       "      <td>1.035414</td>\n",
       "      <td>4.141657</td>\n",
       "      <td>4.0</td>\n",
       "      <td>Extremely High</td>\n",
       "      <td>0.962396</td>\n",
       "      <td>2.887187</td>\n",
       "      <td>2.0</td>\n",
       "      <td>Medium - High</td>\n",
       "      <td>0.074383</td>\n",
       "      <td>4.180674</td>\n",
       "      <td>4.0</td>\n",
       "      <td>Extremely High (more than 1 in 100)</td>\n",
       "      <td>0.0</td>\n",
       "      <td>0.0</td>\n",
       "      <td>0.0</td>\n",
       "      <td>Low (0 to 9 in 1,000,000)</td>\n",
       "      <td>NaN</td>\n",
       "      <td>NaN</td>\n",
       "      <td>NaN</td>\n",
       "      <td>NaN</td>\n",
       "      <td>NaN</td>\n",
       "      <td>NaN</td>\n",
       "      <td>NaN</td>\n",
       "      <td>NaN</td>\n",
       "      <td>NaN</td>\n",
       "      <td>NaN</td>\n",
       "      <td>NaN</td>\n",
       "      <td>NaN</td>\n",
       "      <td>0.0</td>\n",
       "      <td>1.25</td>\n",
       "      <td>1.0</td>\n",
       "      <td>Low to medium (-5 to 0)</td>\n",
       "      <td>0.011222</td>\n",
       "      <td>0.0</td>\n",
       "      <td>0.0</td>\n",
       "      <td>Low (&lt; 2.5%)</td>\n",
       "      <td>0.025333</td>\n",
       "      <td>1.019067</td>\n",
       "      <td>1.0</td>\n",
       "      <td>Low to medium (2.5 to 5%)</td>\n",
       "      <td>NaN</td>\n",
       "      <td>NaN</td>\n",
       "      <td>NaN</td>\n",
       "      <td>NaN</td>\n",
       "    </tr>\n",
       "  </tbody>\n",
       "</table>\n",
       "</div>"
      ],
      "text/plain": [
       "   aq30_id             string_id   pfaf_id     gid_1    aqid     area_km2  \\\n",
       "0        0  111011-EGY.11_1-3365  111011.0  EGY.11_1  3365.0     4.223754   \n",
       "1        1  111011-EGY.15_1-3365  111011.0  EGY.15_1  3365.0  1846.012343   \n",
       "2        2  111011-EGY.15_1-None  111011.0  EGY.15_1     NaN    30.526067   \n",
       "3        3      111011-None-3365  111011.0       NaN  3365.0     0.742712   \n",
       "4        4      111011-None-None  111011.0       NaN     NaN    13.430995   \n",
       "\n",
       "       name_1 gid_0 name_0                          varname_1      nl_name_1  \\\n",
       "0  Al Qahirah   EGY  Egypt  Cairo|El Cairo|El Qahira|Le Caire           None   \n",
       "1   As Suways   EGY  Egypt           El Suweiz|Es Suweis|Suez  محافظة السويس   \n",
       "2   As Suways   EGY  Egypt           El Suweiz|Es Suweis|Suez  محافظة السويس   \n",
       "3         NaN   NaN    NaN                                NaN            NaN   \n",
       "4         NaN   NaN    NaN                                NaN            NaN   \n",
       "\n",
       "      type_1    engtype_1  cc_1 hasc_1 temporal_resolution  delta_id    year  \\\n",
       "0  Muhafazah  Governorate  None  EG.QH                year      -1.0  2014.0   \n",
       "1  Muhafazah  Governorate  None  EG.SW                year      -1.0  2014.0   \n",
       "2  Muhafazah  Governorate  None  EG.SW                year      -1.0  2014.0   \n",
       "3        NaN          NaN   NaN    NaN                year      -1.0  2014.0   \n",
       "4        NaN          NaN   NaN    NaN                year      -1.0  2014.0   \n",
       "\n",
       "    bws_raw  bws_score  bws_cat       bws_label   bwd_raw  bwd_score  bwd_cat  \\\n",
       "0  2.318042        5.0      4.0  Extremely High  0.987061   4.948243      4.0   \n",
       "1  2.318042        5.0      4.0  Extremely High  0.987061   4.948243      4.0   \n",
       "2  2.318042        5.0      4.0  Extremely High  0.987061   4.948243      4.0   \n",
       "3  2.318042        5.0      4.0  Extremely High  0.987061   4.948243      4.0   \n",
       "4  2.318042        5.0      4.0  Extremely High  0.987061   4.948243      4.0   \n",
       "\n",
       "        bwd_label   iav_raw  iav_score  iav_cat       iav_label   sev_raw  \\\n",
       "0  Extremely High  1.035414   4.141657      4.0  Extremely High  0.962396   \n",
       "1  Extremely High  1.035414   4.141657      4.0  Extremely High  0.962396   \n",
       "2  Extremely High  1.035414   4.141657      4.0  Extremely High  0.962396   \n",
       "3  Extremely High  1.035414   4.141657      4.0  Extremely High  0.962396   \n",
       "4  Extremely High  1.035414   4.141657      4.0  Extremely High  0.962396   \n",
       "\n",
       "   sev_score  sev_cat      sev_label   rfr_raw  rfr_score  rfr_cat  \\\n",
       "0   2.887187      2.0  Medium - High  0.074383   4.180674      4.0   \n",
       "1   2.887187      2.0  Medium - High  0.074383   4.180674      4.0   \n",
       "2   2.887187      2.0  Medium - High  0.074383   4.180674      4.0   \n",
       "3   2.887187      2.0  Medium - High  0.074383   4.180674      4.0   \n",
       "4   2.887187      2.0  Medium - High  0.074383   4.180674      4.0   \n",
       "\n",
       "                             rfr_label  cfr_raw  cfr_score  cfr_cat  \\\n",
       "0  Extremely High (more than 1 in 100)      0.0        0.0      0.0   \n",
       "1  Extremely High (more than 1 in 100)      0.0        0.0      0.0   \n",
       "2  Extremely High (more than 1 in 100)      0.0        0.0      0.0   \n",
       "3  Extremely High (more than 1 in 100)      0.0        0.0      0.0   \n",
       "4  Extremely High (more than 1 in 100)      0.0        0.0      0.0   \n",
       "\n",
       "                   cfr_label  drr_raw  drr_score  drr_cat drr_label   gtd_raw  \\\n",
       "0  Low (0 to 9 in 1,000,000)      NaN        NaN      NaN       NaN  0.843958   \n",
       "1  Low (0 to 9 in 1,000,000)      NaN        NaN      NaN       NaN  0.843958   \n",
       "2  Low (0 to 9 in 1,000,000)      NaN        NaN      NaN       NaN       NaN   \n",
       "3  Low (0 to 9 in 1,000,000)      NaN        NaN      NaN       NaN  0.843958   \n",
       "4  Low (0 to 9 in 1,000,000)      NaN        NaN      NaN       NaN       NaN   \n",
       "\n",
       "   gtd_score  gtd_cat            gtd_label  ucw_raw  ucw_score  ucw_cat  \\\n",
       "0        NaN      NaN  Insignificant Trend   0.6139   2.046333      2.0   \n",
       "1        NaN      NaN  Insignificant Trend   0.6139   2.046333      2.0   \n",
       "2        NaN      NaN                  NaN   0.6139   2.046333      2.0   \n",
       "3        NaN      NaN  Insignificant Trend      NaN        NaN      NaN   \n",
       "4        NaN      NaN                  NaN      NaN        NaN      NaN   \n",
       "\n",
       "                     ucw_label  cep_raw  cep_score  cep_cat  \\\n",
       "0  Medium to high (0.6 to 90%)      0.0       1.25      1.0   \n",
       "1  Medium to high (0.6 to 90%)      0.0       1.25      1.0   \n",
       "2  Medium to high (0.6 to 90%)      0.0       1.25      1.0   \n",
       "3                          NaN      0.0       1.25      1.0   \n",
       "4                          NaN      0.0       1.25      1.0   \n",
       "\n",
       "                 cep_label   udw_raw  udw_score  udw_cat     udw_label  \\\n",
       "0  Low to medium (-5 to 0)  0.011222        0.0      0.0  Low (< 2.5%)   \n",
       "1  Low to medium (-5 to 0)  0.011222        0.0      0.0  Low (< 2.5%)   \n",
       "2  Low to medium (-5 to 0)  0.011222        0.0      0.0  Low (< 2.5%)   \n",
       "3  Low to medium (-5 to 0)  0.011222        0.0      0.0  Low (< 2.5%)   \n",
       "4  Low to medium (-5 to 0)  0.011222        0.0      0.0  Low (< 2.5%)   \n",
       "\n",
       "    usa_raw  usa_score  usa_cat                  usa_label  rri_raw  \\\n",
       "0  0.025333   1.019067      1.0  Low to medium (2.5 to 5%)     58.0   \n",
       "1  0.025333   1.019067      1.0  Low to medium (2.5 to 5%)     58.0   \n",
       "2  0.025333   1.019067      1.0  Low to medium (2.5 to 5%)     58.0   \n",
       "3  0.025333   1.019067      1.0  Low to medium (2.5 to 5%)      NaN   \n",
       "4  0.025333   1.019067      1.0  Low to medium (2.5 to 5%)      NaN   \n",
       "\n",
       "   rri_score  rri_cat                   rri_label  \n",
       "0        2.8      2.0  Medium to high (50 to 60%)  \n",
       "1        2.8      2.0  Medium to high (50 to 60%)  \n",
       "2        2.8      2.0  Medium to high (50 to 60%)  \n",
       "3        NaN      NaN                         NaN  \n",
       "4        NaN      NaN                         NaN  "
      ]
     },
     "execution_count": 107,
     "metadata": {},
     "output_type": "execute_result"
    }
   ],
   "source": [
    "df_merged_nones.head()"
   ]
  },
  {
   "cell_type": "code",
   "execution_count": 108,
   "metadata": {},
   "outputs": [],
   "source": [
    "destination_path_s3 = \"{}/{}.pkl\".format(ec2_output_path,SCRIPT_NAME)"
   ]
  },
  {
   "cell_type": "code",
   "execution_count": 109,
   "metadata": {
    "collapsed": true
   },
   "outputs": [],
   "source": [
    "df_merged_nones.to_pickle(destination_path_s3)"
   ]
  },
  {
   "cell_type": "code",
   "execution_count": 110,
   "metadata": {},
   "outputs": [
    {
     "name": "stdout",
     "output_type": "stream",
     "text": [
      "upload: ../../../../data/Y2018M12D04_RH_Master_Merge_Rawdata_GPD_V01/output_V02/Y2018M12D04_RH_Master_Merge_Rawdata_GPD_V01.pkl to s3://wri-projects/Aqueduct30/processData/Y2018M12D04_RH_Master_Merge_Rawdata_GPD_V01/output_V02/Y2018M12D04_RH_Master_Merge_Rawdata_GPD_V01.pkl\n"
     ]
    }
   ],
   "source": [
    "!aws s3 cp {ec2_output_path} {s3_output_path} --recursive"
   ]
  },
  {
   "cell_type": "code",
   "execution_count": 111,
   "metadata": {},
   "outputs": [],
   "source": [
    "destination_table = \"{}.{}\".format(BQ_OUTPUT_DATASET_NAME,BQ_OUTPUT_TABLE_NAME)"
   ]
  },
  {
   "cell_type": "code",
   "execution_count": 112,
   "metadata": {},
   "outputs": [
    {
     "data": {
      "text/plain": [
       "'aqueduct30v01.y2018m12d04_rh_master_merge_rawdata_gpd_v01_v02'"
      ]
     },
     "execution_count": 112,
     "metadata": {},
     "output_type": "execute_result"
    }
   ],
   "source": [
    "destination_table"
   ]
  },
  {
   "cell_type": "code",
   "execution_count": 113,
   "metadata": {},
   "outputs": [
    {
     "name": "stderr",
     "output_type": "stream",
     "text": [
      "7it [01:00,  8.71s/it]\n"
     ]
    }
   ],
   "source": [
    "df_merged_nones.to_gbq(destination_table=destination_table,\n",
    "                       project_id=BQ_PROJECT_ID,\n",
    "                       chunksize=10000,\n",
    "                       if_exists=\"replace\")"
   ]
  },
  {
   "cell_type": "code",
   "execution_count": 114,
   "metadata": {},
   "outputs": [
    {
     "name": "stdout",
     "output_type": "stream",
     "text": [
      "0:02:23.445872\n"
     ]
    }
   ],
   "source": [
    "end = datetime.datetime.now()\n",
    "elapsed = end - start\n",
    "print(elapsed)"
   ]
  },
  {
   "cell_type": "markdown",
   "metadata": {},
   "source": [
    "Previous runs:   \n",
    "0:02:28.099761\n"
   ]
  },
  {
   "cell_type": "code",
   "execution_count": null,
   "metadata": {
    "collapsed": true
   },
   "outputs": [],
   "source": []
  }
 ],
 "metadata": {
  "kernelspec": {
   "display_name": "Python 35",
   "language": "python",
   "name": "python35"
  },
  "language_info": {
   "codemirror_mode": {
    "name": "ipython",
    "version": 3
   },
   "file_extension": ".py",
   "mimetype": "text/x-python",
   "name": "python",
   "nbconvert_exporter": "python",
   "pygments_lexer": "ipython3",
   "version": "3.5.4"
  }
 },
 "nbformat": 4,
 "nbformat_minor": 2
}
