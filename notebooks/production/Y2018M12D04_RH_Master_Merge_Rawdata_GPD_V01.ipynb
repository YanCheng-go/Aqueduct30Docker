{
 "cells": [
  {
   "cell_type": "code",
   "execution_count": 73,
   "metadata": {},
   "outputs": [
    {
     "name": "stdout",
     "output_type": "stream",
     "text": [
      "\n",
      "BQ_OUTPUT_DATASET_NAME:  aqueduct30v01 \n",
      "BQ_OUTPUT_TABLE_NAME:  y2018m12d04_rh_master_merge_rawdata_gpd_v0_v01\n"
     ]
    }
   ],
   "source": [
    "\"\"\" Merge raw data into master table. \n",
    "-------------------------------------------------------------------------------\n",
    "\n",
    "Author: Rutger Hofste\n",
    "Date: 20181204\n",
    "Kernel: python35\n",
    "Docker: rutgerhofste/gisdocker:ubuntu16.04\n",
    "\n",
    "\"\"\"\n",
    "\n",
    "TESTING = 0\n",
    "SCRIPT_NAME = 'Y2018M12D04_RH_Master_Merge_Rawdata_GPD_V0'\n",
    "OUTPUT_VERSION = 1\n",
    "\n",
    "BQ_PROJECT_ID = \"aqueduct30\"\n",
    "BQ_OUTPUT_DATASET_NAME = \"aqueduct30v01\"\n",
    "BQ_OUTPUT_TABLE_NAME = \"{}_v{:02.0f}\".format(SCRIPT_NAME,OUTPUT_VERSION).lower()\n",
    "\n",
    "\n",
    "BQ_IN = {}\n",
    "\n",
    "# Physical Risk Quantity | QAN   -------------\n",
    "\n",
    "# Baseline Water Stress | BWS\n",
    "BQ_IN[\"BWS\"] = \"y2018m07d30_rh_gcs_to_bq_v01_v06\"\n",
    "\n",
    "# Baseline Water Depletion | BWD\n",
    "BQ_IN[\"BWD\"] = \"y2018m07d30_rh_gcs_to_bq_v01_v06\"\n",
    "\n",
    "# Interannual Variability | IAV\n",
    "BQ_IN[\"IAV\"] = \"y2018m07d31_rh_inter_av_cat_label_v01_v02\"\n",
    "\n",
    "# Seasonal Variability | SEV\n",
    "BQ_IN[\"SEV\"] = \"y2018m08d02_rh_intra_annual_variability_cat_label_v01_v02\"\n",
    "\n",
    "# Riverine Flood Risk | RFR\n",
    "BQ_IN[\"RFR\"] = \"y2018m12d04_rh_rfr_cfr_bq_v01_v01\"\n",
    "\n",
    "# Coastal Flood Risk | CFR\n",
    "BQ_IN[\"CFR\"] = \"y2018m12d04_rh_rfr_cfr_bq_v01_v01\"\n",
    "\n",
    "# Drought Risk | DRR\n",
    "BQ_IN[\"DRR\"] = \"y2018m09d28_rh_dr_cat_label_v01_v02\"\n",
    "\n",
    "# Groundwater Table Decline | GTD\n",
    "BQ_IN[\"GTD\"] = \"y2018m09d03_rh_gws_cat_label_v01_v01\"\n",
    "\n",
    "\n",
    "# Physical Risk Quality | QAL -----------------\n",
    "\n",
    "# Untreated Collected Wastewater | UCW\n",
    "BQ_IN[\"UCW\"] = \"y2018m12d04_rh_ucw_bq_v01_v01\"\n",
    "\n",
    "# Coastal Eutrophication Potential | CEP\n",
    "BQ_IN[\"CEP\"] = \"y2018m11d22_rh_icep_hybas6_cat_label_bq_v01_v02\"\n",
    "\n",
    "# Regulatory and Reputational Risk | RRR --------------\n",
    "\n",
    "# Unimproved/no drinking water | UDW\n",
    "BQ_IN[\"UDW\"] = \"y2018m12d05_rh_udw_bq_v01_v01\"\n",
    "\n",
    "# Unimproved/no sanitation | USA\n",
    "BQ_IN[\"USA\"] = \"y2018m12d05_rh_usa_bq_v01_v01\"\n",
    "\n",
    "# RepRisk Index | RRI\n",
    "BQ_IN[\"RRI\"] = \"y2018m12d05_rh_rri_bq_v01_v01\"\n",
    "\n",
    "\n",
    "\n",
    "print(\"\\nBQ_OUTPUT_DATASET_NAME: \", BQ_OUTPUT_DATASET_NAME,\n",
    "      \"\\nBQ_OUTPUT_TABLE_NAME: \", BQ_OUTPUT_TABLE_NAME)"
   ]
  },
  {
   "cell_type": "code",
   "execution_count": 7,
   "metadata": {},
   "outputs": [
    {
     "data": {
      "text/plain": [
       "{'BWD': 'y2018m07d30_rh_gcs_to_bq_v01_v06',\n",
       " 'BWS': 'y2018m07d30_rh_gcs_to_bq_v01_v06',\n",
       " 'CEP': 'y2018m11d22_rh_icep_hybas6_cat_label_bq_v01_v01',\n",
       " 'CFR': 'y2018m12d04_rh_rfr_cfr_bq_v01_v01',\n",
       " 'DRR': 'y2018m09d28_rh_dr_cat_label_v01_v02',\n",
       " 'GTD': 'y2018m09d03_rh_gws_cat_label_v01_v01',\n",
       " 'IAV': 'y2018m07d31_rh_inter_av_cat_label_v01_v02',\n",
       " 'RFR': 'y2018m12d04_rh_rfr_cfr_bq_v01_v01',\n",
       " 'RRI': 'y2018m12d05_rh_rri_bq_v01_v01',\n",
       " 'SEV': 'y2018m08d02_rh_intra_annual_variability_cat_label_v01_v02',\n",
       " 'UCW': 'y2018m12d04_rh_ucw_bq_v01_v01',\n",
       " 'UDW': 'y2018m12d05_rh_udw_bq_v01_v01',\n",
       " 'USA': 'y2018m12d05_rh_usa_bq_v01_v01'}"
      ]
     },
     "execution_count": 7,
     "metadata": {},
     "output_type": "execute_result"
    }
   ],
   "source": [
    "BQ_IN"
   ]
  },
  {
   "cell_type": "code",
   "execution_count": 8,
   "metadata": {},
   "outputs": [
    {
     "name": "stdout",
     "output_type": "stream",
     "text": [
      "Y2018M12D06 UTC 09:50\n"
     ]
    },
    {
     "data": {
      "text/plain": [
       "'3.5.4 |Anaconda, Inc.| (default, Nov 20 2017, 18:44:38) \\n[GCC 7.2.0]'"
      ]
     },
     "execution_count": 8,
     "metadata": {},
     "output_type": "execute_result"
    }
   ],
   "source": [
    "import time, datetime, sys\n",
    "dateString = time.strftime(\"Y%YM%mD%d\")\n",
    "timeString = time.strftime(\"UTC %H:%M\")\n",
    "start = datetime.datetime.now()\n",
    "print(dateString,timeString)\n",
    "sys.version"
   ]
  },
  {
   "cell_type": "code",
   "execution_count": 9,
   "metadata": {
    "collapsed": true
   },
   "outputs": [],
   "source": [
    "import os\n",
    "import pandas as pd\n",
    "import numpy as np\n",
    "from google.cloud import bigquery\n",
    "\n",
    "os.environ[\"GOOGLE_APPLICATION_CREDENTIALS\"] = \"/.google.json\"\n",
    "os.environ[\"GOOGLE_CLOUD_PROJECT\"] = \"aqueduct30\"\n",
    "client = bigquery.Client(project=BQ_PROJECT_ID)"
   ]
  },
  {
   "cell_type": "code",
   "execution_count": null,
   "metadata": {
    "collapsed": true
   },
   "outputs": [],
   "source": [
    "# BWS annual"
   ]
  },
  {
   "cell_type": "code",
   "execution_count": 23,
   "metadata": {
    "collapsed": true
   },
   "outputs": [],
   "source": [
    "sql_bws_annual = \"\"\"\n",
    "SELECT\n",
    "  pfafid_30spfaf06,\n",
    "  temporal_resolution,\n",
    "  delta_id,\n",
    "  year,\n",
    "  month,\n",
    "  waterstress_raw_dimensionless_coalesced,\n",
    "  waterstress_score_dimensionless_coalesced,\n",
    "  waterstress_category_dimensionless_coalesced,\n",
    "  waterstress_label_dimensionless_coalesced\n",
    "FROM\n",
    "  `{}.{}.{}`\n",
    "WHERE\n",
    "  temporal_resolution = 'year'\n",
    "  AND year = 2014\n",
    "\"\"\".format(BQ_PROJECT_ID,BQ_OUTPUT_DATASET_NAME,BQ_IN[\"BWS\"])"
   ]
  },
  {
   "cell_type": "code",
   "execution_count": 24,
   "metadata": {
    "collapsed": true
   },
   "outputs": [],
   "source": [
    "df_bws_annual = pd.read_gbq(query=sql_bws_annual,dialect=\"standard\")"
   ]
  },
  {
   "cell_type": "code",
   "execution_count": 27,
   "metadata": {
    "collapsed": true
   },
   "outputs": [],
   "source": [
    "df_bws_annual = df_bws_annual.rename(columns={\"pfafid_30spfaf06\":\"pfafid\",\n",
    "                                              \"waterstress_raw_dimensionless_coalesced\":\"bws_raw\",\n",
    "                                              \"waterstress_score_dimensionless_coalesced\":\"bws_score\",\n",
    "                                              \"waterstress_category_dimensionless_coalesced\":\"bws_cat\",\n",
    "                                              \"waterstress_label_dimensionless_coalesced\":\"bws_label\"})"
   ]
  },
  {
   "cell_type": "code",
   "execution_count": null,
   "metadata": {
    "collapsed": true
   },
   "outputs": [],
   "source": [
    "# BWD annual"
   ]
  },
  {
   "cell_type": "code",
   "execution_count": 37,
   "metadata": {
    "collapsed": true
   },
   "outputs": [],
   "source": [
    "sql_bwd_annual = \"\"\"\n",
    "SELECT\n",
    "  pfafid_30spfaf06,\n",
    "  temporal_resolution,\n",
    "  delta_id,\n",
    "  year,\n",
    "  month,\n",
    "  waterdepletion_raw_dimensionless_coalesced,\n",
    "  waterdepletion_score_dimensionless_coalesced,\n",
    "  waterdepletion_category_dimensionless_coalesced,\n",
    "  waterdepletion_label_dimensionless_coalesced\n",
    "FROM\n",
    "  `{}.{}.{}`\n",
    "WHERE\n",
    "  temporal_resolution = 'year'\n",
    "  AND year = 2014\n",
    "\"\"\".format(BQ_PROJECT_ID,BQ_OUTPUT_DATASET_NAME,BQ_IN[\"BWD\"])"
   ]
  },
  {
   "cell_type": "code",
   "execution_count": 38,
   "metadata": {
    "collapsed": true
   },
   "outputs": [],
   "source": [
    "df_bwd_annual = pd.read_gbq(query=sql_bwd_annual,dialect=\"standard\")"
   ]
  },
  {
   "cell_type": "code",
   "execution_count": 39,
   "metadata": {
    "collapsed": true
   },
   "outputs": [],
   "source": [
    "df_bwd_annual = df_bwd_annual.rename(columns={\"pfafid_30spfaf06\":\"pfafid\",\n",
    "                                              \"waterdepletion_raw_dimensionless_coalesced\":\"bwd_raw\",\n",
    "                                              \"waterdepletion_score_dimensionless_coalesced\":\"bwd_score\",\n",
    "                                              \"waterdepletion_category_dimensionless_coalesced\":\"bwd_cat\",\n",
    "                                              \"waterdepletion_label_dimensionless_coalesced\":\"bwd_label\"})"
   ]
  },
  {
   "cell_type": "code",
   "execution_count": 40,
   "metadata": {
    "collapsed": true
   },
   "outputs": [],
   "source": [
    "# IAV "
   ]
  },
  {
   "cell_type": "code",
   "execution_count": 41,
   "metadata": {
    "collapsed": true
   },
   "outputs": [],
   "source": [
    "sql_iav_annual = \"\"\"\n",
    "SELECT\n",
    "  pfafid_30spfaf06,\n",
    "  temporal_resolution,\n",
    "  year,\n",
    "  delta_id,\n",
    "  iav_riverdischarge_m_coalesced,\n",
    "  iav_riverdischarge_score_coalesced,\n",
    "  iav_riverdischarge_category_coalesced,\n",
    "  iav_riverdischarge_label_coalesced\n",
    "FROM\n",
    "  `{}.{}.{}`\n",
    "WHERE\n",
    "  temporal_resolution = 'year'\n",
    "  AND year = 2014\n",
    "\"\"\".format(BQ_PROJECT_ID,BQ_OUTPUT_DATASET_NAME,BQ_IN[\"IAV\"])"
   ]
  },
  {
   "cell_type": "code",
   "execution_count": 42,
   "metadata": {
    "collapsed": true
   },
   "outputs": [],
   "source": [
    "df_iav_annual = pd.read_gbq(query=sql_iav_annual,dialect=\"standard\")"
   ]
  },
  {
   "cell_type": "code",
   "execution_count": 43,
   "metadata": {
    "collapsed": true
   },
   "outputs": [],
   "source": [
    "df_iav_annual = df_iav_annual.rename(columns={\"pfafid_30spfaf06\":\"pfafid\",\n",
    "                                              \"iav_riverdischarge_m_coalesced\":\"iav_raw\",\n",
    "                                              \"iav_riverdischarge_score_coalesced\":\"iav_score\",\n",
    "                                              \"iav_riverdischarge_category_coalesced\":\"iav_cat\",\n",
    "                                              \"iav_riverdischarge_label_coalesced\":\"iav_label\"})"
   ]
  },
  {
   "cell_type": "code",
   "execution_count": 45,
   "metadata": {
    "collapsed": true
   },
   "outputs": [],
   "source": [
    "# SEV"
   ]
  },
  {
   "cell_type": "code",
   "execution_count": 46,
   "metadata": {
    "collapsed": true
   },
   "outputs": [],
   "source": [
    "sql_sev = \"\"\"\n",
    "SELECT\n",
    "  pfafid_30spfaf06,\n",
    "  delta_id,\n",
    "  sv_riverdischarge_m_coalesced,\n",
    "  sv_riverdischarge_score_coalesced,\n",
    "  sv_riverdischarge_category_coalesced,\n",
    "  sv_label_dimensionless_coalesced\n",
    "FROM\n",
    "  `{}.{}.{}`\n",
    "\"\"\".format(BQ_PROJECT_ID,BQ_OUTPUT_DATASET_NAME,BQ_IN[\"SEV\"])"
   ]
  },
  {
   "cell_type": "code",
   "execution_count": 48,
   "metadata": {
    "collapsed": true
   },
   "outputs": [],
   "source": [
    "df_sev = pd.read_gbq(query=sql_sev,dialect=\"standard\")"
   ]
  },
  {
   "cell_type": "code",
   "execution_count": 49,
   "metadata": {
    "collapsed": true
   },
   "outputs": [],
   "source": [
    "df_sev = df_sev.rename(columns={\"pfafid_30spfaf06\":\"pfafid\",\n",
    "                                \"sv_riverdischarge_m_coalesced\":\"sev_raw\",\n",
    "                                \"sv_riverdischarge_score_coalesced\":\"sev_score\",\n",
    "                                \"sv_riverdischarge_category_coalesced\":\"sev_cat\",\n",
    "                                \"sv_label_dimensionless_coalesced\":\"sev_label\"})"
   ]
  },
  {
   "cell_type": "code",
   "execution_count": 50,
   "metadata": {
    "collapsed": true
   },
   "outputs": [],
   "source": [
    "# RFR"
   ]
  },
  {
   "cell_type": "code",
   "execution_count": 51,
   "metadata": {
    "collapsed": true
   },
   "outputs": [],
   "source": [
    "sql_rfr = \"\"\"\n",
    "SELECT\n",
    "  pfaf_id,\n",
    "  rfr_raw,\n",
    "  rfr_score,\n",
    "  rfr_cat,\n",
    "  rfr_label\n",
    "FROM\n",
    "  `{}.{}.{}`\n",
    "\"\"\".format(BQ_PROJECT_ID,BQ_OUTPUT_DATASET_NAME,BQ_IN[\"RFR\"])"
   ]
  },
  {
   "cell_type": "code",
   "execution_count": 52,
   "metadata": {
    "collapsed": true
   },
   "outputs": [],
   "source": [
    "df_rfr = pd.read_gbq(query=sql_rfr,dialect=\"standard\")"
   ]
  },
  {
   "cell_type": "code",
   "execution_count": 53,
   "metadata": {
    "collapsed": true
   },
   "outputs": [],
   "source": [
    "# CFR"
   ]
  },
  {
   "cell_type": "code",
   "execution_count": 54,
   "metadata": {
    "collapsed": true
   },
   "outputs": [],
   "source": [
    "sql_cfr = \"\"\"\n",
    "SELECT\n",
    "  pfaf_id,\n",
    "  cfr_raw,\n",
    "  cfr_score,\n",
    "  cfr_cat,\n",
    "  cfr_label\n",
    "FROM\n",
    "  `{}.{}.{}`\n",
    "\"\"\".format(BQ_PROJECT_ID,BQ_OUTPUT_DATASET_NAME,BQ_IN[\"CFR\"])"
   ]
  },
  {
   "cell_type": "code",
   "execution_count": 55,
   "metadata": {
    "collapsed": true
   },
   "outputs": [],
   "source": [
    "df_cfr = pd.read_gbq(query=sql_cfr,dialect=\"standard\")"
   ]
  },
  {
   "cell_type": "code",
   "execution_count": 56,
   "metadata": {
    "collapsed": true
   },
   "outputs": [],
   "source": [
    "# DRR"
   ]
  },
  {
   "cell_type": "code",
   "execution_count": 57,
   "metadata": {
    "collapsed": true
   },
   "outputs": [],
   "source": [
    "sql_drr = \"\"\"\n",
    "SELECT\n",
    "  PFAF_ID,\n",
    "  droughtrisk_score AS droughtrisk_raw,\n",
    "  droughtrisk_score,\n",
    "  droughtrisk_cat,\n",
    "  droughtrisk_label\n",
    "FROM\n",
    "  `{}.{}.{}`\n",
    "\"\"\".format(BQ_PROJECT_ID,BQ_OUTPUT_DATASET_NAME,BQ_IN[\"DRR\"])"
   ]
  },
  {
   "cell_type": "code",
   "execution_count": 58,
   "metadata": {
    "collapsed": true
   },
   "outputs": [],
   "source": [
    "df_drr = pd.read_gbq(query=sql_drr,dialect=\"standard\")"
   ]
  },
  {
   "cell_type": "code",
   "execution_count": 59,
   "metadata": {
    "collapsed": true
   },
   "outputs": [],
   "source": [
    "df_drr = df_drr.rename(columns={\"PFAF_ID\":\"pfafid\",\n",
    "                                \"droughtrisk_raw\":\"drr_raw\",\n",
    "                                \"droughtrisk_score\":\"drr_score\",\n",
    "                                \"droughtrisk_cat\":\"drr_cat\",\n",
    "                                \"droughtrisk_label\":\"drr_label\"})"
   ]
  },
  {
   "cell_type": "code",
   "execution_count": 60,
   "metadata": {
    "collapsed": true
   },
   "outputs": [],
   "source": [
    "# GTD"
   ]
  },
  {
   "cell_type": "code",
   "execution_count": 61,
   "metadata": {
    "collapsed": true
   },
   "outputs": [],
   "source": [
    "sql_gtd = \"\"\"\n",
    "SELECT\n",
    "  AqID_spatial_unit,\n",
    "  groundwatertabledecliningtrend_cmperyear,\n",
    "  groundwatertabledecliningtrend_score,\n",
    "  groundwatertabledecliningtrend_cat,\n",
    "  groundwatertabledecliningtrend_label\n",
    "FROM\n",
    "  `{}.{}.{}`\n",
    "\"\"\".format(BQ_PROJECT_ID,BQ_OUTPUT_DATASET_NAME,BQ_IN[\"GTD\"])"
   ]
  },
  {
   "cell_type": "code",
   "execution_count": 63,
   "metadata": {
    "collapsed": true
   },
   "outputs": [],
   "source": [
    "df_gtd = pd.read_gbq(query=sql_gtd,dialect=\"standard\")"
   ]
  },
  {
   "cell_type": "code",
   "execution_count": 64,
   "metadata": {
    "collapsed": true
   },
   "outputs": [],
   "source": [
    "df_gtd = df_gtd.rename(columns={\"AqID_spatial_unit\":\"aqid\",\n",
    "                                \"groundwatertabledecliningtrend_cmperyear\":\"gtd_raw\",\n",
    "                                \"roundwatertabledecliningtrend_score\":\"gtd_score\",\n",
    "                                \"groundwatertabledecliningtrend_cat\":\"gtd_cat\",\n",
    "                                \"groundwatertabledecliningtrend_label\":\"gtd_label\"})"
   ]
  },
  {
   "cell_type": "code",
   "execution_count": 65,
   "metadata": {
    "collapsed": true
   },
   "outputs": [],
   "source": [
    "# UCW"
   ]
  },
  {
   "cell_type": "code",
   "execution_count": 67,
   "metadata": {},
   "outputs": [],
   "source": [
    "sql_ucw = \"\"\"\n",
    "SELECT\n",
    "  adm0_a3,\n",
    "  ucw_raw,\n",
    "  ucw_score,\n",
    "  ucw_cat,\n",
    "  ucw_label\n",
    "FROM\n",
    "  `{}.{}.{}`\n",
    "\"\"\".format(BQ_PROJECT_ID,BQ_OUTPUT_DATASET_NAME,BQ_IN[\"UCW\"])"
   ]
  },
  {
   "cell_type": "code",
   "execution_count": 68,
   "metadata": {
    "collapsed": true
   },
   "outputs": [],
   "source": [
    "df_ucw = pd.read_gbq(query=sql_ucw,dialect=\"standard\")"
   ]
  },
  {
   "cell_type": "code",
   "execution_count": 69,
   "metadata": {
    "collapsed": true
   },
   "outputs": [],
   "source": [
    "# CEP"
   ]
  },
  {
   "cell_type": "code",
   "execution_count": 74,
   "metadata": {
    "collapsed": true
   },
   "outputs": [],
   "source": [
    "sql_cep = \"\"\"\n",
    "SELECT\n",
    "  pfaf_id,\n",
    "  ice_raw,\n",
    "  ice_score,\n",
    "  ice_cat,\n",
    "  ice_label\n",
    "FROM\n",
    "  `{}.{}.{}`\n",
    "\"\"\".format(BQ_PROJECT_ID,BQ_OUTPUT_DATASET_NAME,BQ_IN[\"CEP\"])"
   ]
  },
  {
   "cell_type": "code",
   "execution_count": 75,
   "metadata": {},
   "outputs": [],
   "source": [
    "df_cep = pd.read_gbq(query=sql_cep,dialect=\"standard\")"
   ]
  },
  {
   "cell_type": "code",
   "execution_count": 77,
   "metadata": {},
   "outputs": [],
   "source": [
    "# UDW"
   ]
  },
  {
   "cell_type": "code",
   "execution_count": 78,
   "metadata": {
    "collapsed": true
   },
   "outputs": [],
   "source": [
    "sql_udw = \"\"\"\n",
    "SELECT\n",
    "  pfaf_id,\n",
    "  udw_raw,\n",
    "  udw_score,\n",
    "  udw_cat,\n",
    "  udw_label\n",
    "FROM\n",
    "  `{}.{}.{}`\n",
    "\"\"\".format(BQ_PROJECT_ID,BQ_OUTPUT_DATASET_NAME,BQ_IN[\"UDW\"])"
   ]
  },
  {
   "cell_type": "code",
   "execution_count": 79,
   "metadata": {
    "collapsed": true
   },
   "outputs": [],
   "source": [
    "df_udw = pd.read_gbq(query=sql_udw,dialect=\"standard\")"
   ]
  },
  {
   "cell_type": "code",
   "execution_count": 80,
   "metadata": {
    "collapsed": true
   },
   "outputs": [],
   "source": [
    "# USA"
   ]
  },
  {
   "cell_type": "code",
   "execution_count": 81,
   "metadata": {
    "collapsed": true
   },
   "outputs": [],
   "source": [
    "sql_usa = \"\"\"\n",
    "SELECT\n",
    "  pfaf_id,\n",
    "  usa_raw,\n",
    "  usa_score,\n",
    "  usa_cat,\n",
    "  usa_label\n",
    "FROM\n",
    "  `{}.{}.{}`\n",
    "\"\"\".format(BQ_PROJECT_ID,BQ_OUTPUT_DATASET_NAME,BQ_IN[\"USA\"])"
   ]
  },
  {
   "cell_type": "code",
   "execution_count": 82,
   "metadata": {
    "collapsed": true
   },
   "outputs": [],
   "source": [
    "df_usa = pd.read_gbq(query=sql_usa,dialect=\"standard\")"
   ]
  },
  {
   "cell_type": "code",
   "execution_count": 83,
   "metadata": {
    "collapsed": true
   },
   "outputs": [],
   "source": [
    "# RRI"
   ]
  },
  {
   "cell_type": "code",
   "execution_count": 84,
   "metadata": {
    "collapsed": true
   },
   "outputs": [],
   "source": [
    "sql_rri = \"\"\"\n",
    "SELECT\n",
    "  adm0_a3,\n",
    "  rri_raw,\n",
    "  rri_score,\n",
    "  rri_cat,\n",
    "  rri_label\n",
    "FROM\n",
    "  `{}.{}.{}`\n",
    "\"\"\".format(BQ_PROJECT_ID,BQ_OUTPUT_DATASET_NAME,BQ_IN[\"RRI\"])"
   ]
  },
  {
   "cell_type": "code",
   "execution_count": 85,
   "metadata": {
    "collapsed": true
   },
   "outputs": [],
   "source": [
    "df_rri = pd.read_gbq(query=sql_rri,dialect=\"standard\")"
   ]
  },
  {
   "cell_type": "code",
   "execution_count": null,
   "metadata": {
    "collapsed": true
   },
   "outputs": [],
   "source": [
    "# approaches, join without geometry or with geometry? without"
   ]
  },
  {
   "cell_type": "code",
   "execution_count": null,
   "metadata": {
    "collapsed": true
   },
   "outputs": [],
   "source": []
  }
 ],
 "metadata": {
  "kernelspec": {
   "display_name": "Python 35",
   "language": "python",
   "name": "python35"
  },
  "language_info": {
   "codemirror_mode": {
    "name": "ipython",
    "version": 3
   },
   "file_extension": ".py",
   "mimetype": "text/x-python",
   "name": "python",
   "nbconvert_exporter": "python",
   "pygments_lexer": "ipython3",
   "version": "3.5.4"
  }
 },
 "nbformat": 4,
 "nbformat_minor": 2
}
