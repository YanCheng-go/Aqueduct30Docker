{
 "cells": [
  {
   "cell_type": "markdown",
   "metadata": {},
   "source": [
    "# Y2017M12D19_RH_Water_Stress_Reduced_EE_V01\n",
    "\n",
    "* Purpose of script: Calculate water stress using reduced (Long/Short Mean/Trend) maximum discharge and total withdrawals. \n",
    "* Kernel used: python27\n",
    "* Date created: 20171219"
   ]
  },
  {
   "cell_type": "code",
   "execution_count": 1,
   "metadata": {},
   "outputs": [
    {
     "name": "stdout",
     "output_type": "stream",
     "text": [
      "('Y2017M12D19', 'UTC 14:45')\n"
     ]
    },
    {
     "data": {
      "text/plain": [
       "'2.7.13 |Continuum Analytics, Inc.| (default, Dec 20 2016, 23:09:15) \\n[GCC 4.4.7 20120313 (Red Hat 4.4.7-1)]'"
      ]
     },
     "execution_count": 1,
     "metadata": {},
     "output_type": "execute_result"
    }
   ],
   "source": [
    "import time, datetime, sys\n",
    "dateString = time.strftime(\"Y%YM%mD%d\")\n",
    "timeString = time.strftime(\"UTC %H:%M\")\n",
    "start = datetime.datetime.now()\n",
    "print(dateString,timeString)\n",
    "sys.version"
   ]
  },
  {
   "cell_type": "code",
   "execution_count": 4,
   "metadata": {
    "collapsed": true
   },
   "outputs": [],
   "source": [
    "EE_PATH = \"projects/WRI-Aquaduct/PCRGlobWB20V07\"\n",
    "\n",
    "SCRIPT_NAME = \"Y2017M12D19_RH_Water_Stress_Reduced_EE_V01\"\n",
    "\n",
    "OUTPUT_VERSION = 1\n",
    "\n",
    "PFAF_LEVEL = 6\n",
    "\n",
    "YEARMIN = 1960\n",
    "YEARMAX = 2014\n",
    "\n",
    "SHORT_TERM_MIN = 2004\n",
    "SHORT_TERM_MAX = 2014\n",
    "\n",
    "LONG_TERM_MIN = 1960\n",
    "LONG_TERM_MAX = 2014\n",
    "\n",
    "DIMENSIONS30SSMALL = \"43200x19440\"\n",
    "CRS = \"EPSG:4326\"\n",
    "CRS_TRANSFORM30S_SMALL = [0.008333333333333333, 0.0, -180.0, 0.0, -0.008333333333333333, 81.0]"
   ]
  },
  {
   "cell_type": "code",
   "execution_count": 3,
   "metadata": {
    "collapsed": true
   },
   "outputs": [],
   "source": [
    "import ee\n",
    "import logging\n",
    "import pandas as pd\n",
    "import subprocess"
   ]
  },
  {
   "cell_type": "code",
   "execution_count": 5,
   "metadata": {
    "collapsed": true
   },
   "outputs": [],
   "source": [
    "ee.Initialize()"
   ]
  },
  {
   "cell_type": "code",
   "execution_count": 6,
   "metadata": {
    "collapsed": true
   },
   "outputs": [],
   "source": [
    "logger = logging.getLogger(__name__)\n",
    "logger.setLevel(logging.DEBUG)\n",
    "formatter = logging.Formatter('%(asctime)s:%(levelname)s:%(message)s')\n",
    "file_handler = logging.FileHandler(\"./logs/%sV%0.2d.log\" %(SCRIPT_NAME,OUTPUT_VERSION))\n",
    "file_handler.setFormatter(formatter)\n",
    "logger.addHandler(file_handler)"
   ]
  },
  {
   "cell_type": "code",
   "execution_count": 8,
   "metadata": {
    "collapsed": true
   },
   "outputs": [],
   "source": [
    "icResults = ee.ImageCollection(\"projects/WRI-Aquaduct/PCRGlobWB20V07/reduced_global_historical_combined_V05\")"
   ]
  },
  {
   "cell_type": "code",
   "execution_count": 9,
   "metadata": {
    "collapsed": true
   },
   "outputs": [],
   "source": [
    "temporalResolutions = [\"month\",\"year\"]"
   ]
  },
  {
   "cell_type": "code",
   "execution_count": 10,
   "metadata": {
    "collapsed": true
   },
   "outputs": [],
   "source": [
    "indicators = [\"Q_millionm3\",\"WW_millionm3\",\"WN_millionm3\"]"
   ]
  },
  {
   "cell_type": "code",
   "execution_count": 11,
   "metadata": {
    "collapsed": true
   },
   "outputs": [],
   "source": [
    "reducerTypes = [\"mean\",\"trend\"]"
   ]
  },
  {
   "cell_type": "code",
   "execution_count": 12,
   "metadata": {
    "collapsed": true
   },
   "outputs": [],
   "source": [
    "intervals = [\"long\",\"short\"]"
   ]
  },
  {
   "cell_type": "markdown",
   "metadata": {},
   "source": [
    "Water Stress (WS) is defined as total withdrawal (WW) / (Maximum Discharge Q + Local Consumption WN)\n",
    "\n",
    "we calculate 4 stress metrics per temporalResolution:\n",
    "\n",
    "1. mean short\n",
    "1. mean long\n",
    "1. trend short\n",
    "1. trend long\n"
   ]
  },
  {
   "cell_type": "code",
   "execution_count": 13,
   "metadata": {
    "collapsed": true
   },
   "outputs": [],
   "source": [
    "temporalRange = {}\n",
    "temporalRange[\"short\"] = [SHORT_TERM_MIN,SHORT_TERM_MAX]\n",
    "temporalRange[\"long\"] = [LONG_TERM_MIN,LONG_TERM_MAX]"
   ]
  },
  {
   "cell_type": "code",
   "execution_count": null,
   "metadata": {
    "collapsed": true
   },
   "outputs": [],
   "source": []
  },
  {
   "cell_type": "code",
   "execution_count": null,
   "metadata": {
    "collapsed": true
   },
   "outputs": [],
   "source": []
  },
  {
   "cell_type": "code",
   "execution_count": 23,
   "metadata": {},
   "outputs": [
    {
     "name": "stdout",
     "output_type": "stream",
     "text": [
      "('month', 'mean', 'long')\n",
      "[u'WW_millionm3_mean']\n",
      "('month', 'mean', 'short')\n",
      "[u'WW_millionm3_mean']\n",
      "('month', 'trend', 'long')\n",
      "[u'newValue']\n",
      "('month', 'trend', 'short')\n",
      "[u'newValue']\n",
      "('year', 'mean', 'long')\n",
      "('year', 'mean', 'short')\n",
      "('year', 'trend', 'long')\n",
      "('year', 'trend', 'short')\n"
     ]
    }
   ],
   "source": [
    "for temporalResolution in temporalResolutions:\n",
    "    for reducerType in reducerTypes:\n",
    "        for interval in intervals:\n",
    "            yearMin = temporalRange[interval][0]\n",
    "            yearMax = temporalRange[interval][1]\n",
    "            print(temporalResolution,reducerType,interval)\n",
    "            if temporalResolution == \"month\":\n",
    "                month = 12\n",
    "                icTemp = icResults.filter(ee.Filter.eq(\"temporalResolution\",temporalResolution)).filter(ee.Filter.eq(\"reducer\",reducerType)).filter(ee.Filter.eq(\"interval\",interval))\n",
    "                \n",
    "                Q = ee.Image(icTemp.filter(ee.Filter.eq(\"indicator\",\"Q\")).first())\n",
    "                WW = ee.Image(icTemp.filter(ee.Filter.eq(\"indicator\",\"WW\")).first())\n",
    "                WN = ee.Image(icTemp.filter(ee.Filter.eq(\"indicator\",\"WN\")).first())\n",
    "                \n",
    "                if reducerType == \"trend\":\n",
    "                    Q = Q.select([\"newValue\"])\n",
    "                    WW = WW.select([\"newValue\"])\n",
    "                    WN = WN.select([\"newValue\"])\n",
    "                \n",
    "                print(WW.bandNames().getInfo())\n",
    "                \n",
    "                #newRow = createRow()\n",
    "                #df = df.append(newRow,ignore_index=True)  "
   ]
  },
  {
   "cell_type": "code",
   "execution_count": null,
   "metadata": {
    "collapsed": true
   },
   "outputs": [],
   "source": []
  }
 ],
 "metadata": {
  "kernelspec": {
   "display_name": "Python 27",
   "language": "python",
   "name": "python27"
  },
  "language_info": {
   "codemirror_mode": {
    "name": "ipython",
    "version": 2
   },
   "file_extension": ".py",
   "mimetype": "text/x-python",
   "name": "python",
   "nbconvert_exporter": "python",
   "pygments_lexer": "ipython2",
   "version": "2.7.13"
  }
 },
 "nbformat": 4,
 "nbformat_minor": 2
}
