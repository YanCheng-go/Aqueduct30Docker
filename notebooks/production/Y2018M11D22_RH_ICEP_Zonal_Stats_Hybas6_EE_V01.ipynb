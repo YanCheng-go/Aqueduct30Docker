{
 "cells": [
  {
   "cell_type": "code",
   "execution_count": 1,
   "metadata": {},
   "outputs": [
    {
     "name": "stdout",
     "output_type": "stream",
     "text": [
      "Input ee zones: projects/WRI-Aquaduct/Y2018M04D20_RH_Ingest_HydroBasins_GCS_EE_V01/output_V02/hybas_lev06_v1c_merged_fiona_30s_V04\n",
      "Input ee values: projects/WRI-Aquaduct/Y2018M11D22_RH_ICEP_Basins_To_EE_V01/output_V01/icep_icepraw_30s\n",
      "Output s3: s3://wri-projects/Aqueduct30/processData/Y2018M11D22_RH_ICEP_Zonal_Stats_Hybas6_EE_V01/output_V01 \n",
      "Output gcs: gs://aqueduct30_v01/Y2018M11D22_RH_ICEP_Zonal_Stats_Hybas6_EE_V01/output_V01/\n"
     ]
    }
   ],
   "source": [
    "\"\"\" Zonal statistics icep_raw at hydrobasin level 6. \n",
    "-------------------------------------------------------------------------------\n",
    "\n",
    "Author: Rutger Hofste\n",
    "Date: 20181122\n",
    "Kernel: python35\n",
    "Docker: rutgerhofste/gisdocker:ubuntu16.04\n",
    "\n",
    "Args:\n",
    "    TESTING (Boolean) : Toggle testing case.\n",
    "    SCRIPT_\n",
    "    NAME (string) : Script name.\n",
    "    OUTPUT_VERSION (integer) : output version.\n",
    "    DATABASE_ENDPOINT (string) : RDS or postGreSQL endpoint.\n",
    "    DATABASE_NAME (string) : Database name.\n",
    "    TABLE_NAME_AREA_30SPFAF06 (string) : Table name used for areas. Must exist\n",
    "        on same database as used in rest of script.\n",
    "    S3_INPUT_PATH_RIVERDISCHARGE (string) : AWS S3 input path for \n",
    "        riverdischarge.    \n",
    "    S3_INPUT_PATH_DEMAND (string) : AWS S3 input path for \n",
    "        demand.     \n",
    "\n",
    "\"\"\"\n",
    "\n",
    "TESTING = 0\n",
    "SCRIPT_NAME = \"Y2018M11D22_RH_ICEP_Zonal_Stats_Hybas6_EE_V01\"\n",
    "OUTPUT_VERSION = 1\n",
    "\n",
    "EE_INPUT_ZONES_PATH = \"projects/WRI-Aquaduct/Y2018M04D20_RH_Ingest_HydroBasins_GCS_EE_V01/output_V02/hybas_lev06_v1c_merged_fiona_30s_V04\"\n",
    "EE_INPUT_VALUES_PATH = \"projects/WRI-Aquaduct/Y2018M11D22_RH_ICEP_Basins_To_EE_V01/output_V01/icep_icepraw_30s\"\n",
    "\n",
    "EXTRA_PROPERTIES = {\"output_version\":OUTPUT_VERSION,\n",
    "                    \"script_used\":SCRIPT_NAME,\n",
    "                     \"spatial_aggregation\":\"hydrobasin\",\n",
    "                     \"parameter\":\"icep_raw\",\n",
    "                     \"unit\":\"dimensionless\"}\n",
    "\n",
    "\n",
    "gcs_output_path = \"gs://aqueduct30_v01/{}/output_V{:02.0f}/\".format(SCRIPT_NAME,OUTPUT_VERSION)\n",
    "ec2_output_path = \"/volumes/data/{}/output_V{:02.0f}\".format(SCRIPT_NAME,OUTPUT_VERSION)\n",
    "s3_output_path = \"s3://wri-projects/Aqueduct30/processData/{}/output_V{:02.0f}\".format(SCRIPT_NAME,OUTPUT_VERSION)\n",
    "\n",
    "print(\"Input ee zones: \" +  EE_INPUT_ZONES_PATH +\n",
    "      \"\\nInput ee values: \" + EE_INPUT_VALUES_PATH +\n",
    "      \"\\nOutput s3: \" + s3_output_path,\n",
    "      \"\\nOutput gcs: \" + gcs_output_path)"
   ]
  },
  {
   "cell_type": "code",
   "execution_count": 2,
   "metadata": {},
   "outputs": [
    {
     "name": "stdout",
     "output_type": "stream",
     "text": [
      "Y2018M11D22 UTC 16:56\n"
     ]
    },
    {
     "data": {
      "text/plain": [
       "'3.5.4 |Anaconda, Inc.| (default, Nov 20 2017, 18:44:38) \\n[GCC 7.2.0]'"
      ]
     },
     "execution_count": 2,
     "metadata": {},
     "output_type": "execute_result"
    }
   ],
   "source": [
    "import time, datetime, sys\n",
    "dateString = time.strftime(\"Y%YM%mD%d\")\n",
    "timeString = time.strftime(\"UTC %H:%M\")\n",
    "start = datetime.datetime.now()\n",
    "print(dateString,timeString)\n",
    "sys.version"
   ]
  },
  {
   "cell_type": "code",
   "execution_count": 3,
   "metadata": {
    "collapsed": true
   },
   "outputs": [],
   "source": [
    "!rm -r {ec2_output_path}\n",
    "!mkdir -p {ec2_output_path}"
   ]
  },
  {
   "cell_type": "code",
   "execution_count": 4,
   "metadata": {
    "collapsed": true
   },
   "outputs": [],
   "source": [
    "import pandas as pd\n",
    "import ee\n",
    "import aqueduct3\n",
    "ee.Initialize()"
   ]
  },
  {
   "cell_type": "code",
   "execution_count": 5,
   "metadata": {
    "collapsed": true
   },
   "outputs": [],
   "source": [
    "def dict_to_feature(dictje):\n",
    "    return ee.Feature(None,dictje)\n",
    "\n",
    "def post_process_results(result_list,function_properties,extra_properties=EXTRA_PROPERTIES):\n",
    "    \"\"\"Client side function to convert results of reduceRegion to pandas dataframe.\n",
    "    -------------------------------------------------------------------------------\n",
    "    \n",
    "    Adds additional properties. The script is client side for convenience reasons.\n",
    "    A more robust and fast approach would be to add the extra_properties to the \n",
    "    server side dictionary.\n",
    "    \n",
    "    Args:\n",
    "        result_list (ee.List) : List of dictionaries. Result from reduceRegion\n",
    "        function_properties (dictionary) : Additional properties used in the \n",
    "            reduceRegion function call.\n",
    "        extra_properties (dictionary) : Additional properties set at global level. \n",
    "    \n",
    "    Returns:\n",
    "        df (pd.DataFrame) : Pandas dataframe with extra properties.\n",
    "    \n",
    "    \n",
    "    \"\"\"\n",
    "    extra_properties = {**function_properties, **EXTRA_PROPERTIES}\n",
    "    result_list_clientside = result_list.getInfo()\n",
    "    df = pd.DataFrame(result_list_clientside)\n",
    "    df = df.assign(**extra_properties)\n",
    "    df = df.apply(pd.to_numeric, errors='ignore')\n",
    "    return df  "
   ]
  },
  {
   "cell_type": "code",
   "execution_count": 6,
   "metadata": {
    "collapsed": true
   },
   "outputs": [],
   "source": [
    "spatial_resolution = \"30s\"\n",
    "reducer_name = \"mean\"\n",
    "pfaf_level = 6"
   ]
  },
  {
   "cell_type": "code",
   "execution_count": 7,
   "metadata": {
    "collapsed": true
   },
   "outputs": [],
   "source": [
    "geometry = aqueduct3.earthengine.get_global_geometry(TESTING)"
   ]
  },
  {
   "cell_type": "code",
   "execution_count": 8,
   "metadata": {
    "collapsed": true
   },
   "outputs": [],
   "source": [
    "reducer = aqueduct3.earthengine.get_grouped_reducer(reducer_name)"
   ]
  },
  {
   "cell_type": "code",
   "execution_count": 9,
   "metadata": {
    "collapsed": true
   },
   "outputs": [],
   "source": [
    "total_image = ee.Image(EE_INPUT_VALUES_PATH).addBands(ee.Image(EE_INPUT_ZONES_PATH))"
   ]
  },
  {
   "cell_type": "code",
   "execution_count": 10,
   "metadata": {
    "collapsed": true
   },
   "outputs": [],
   "source": [
    "crs_transform = aqueduct3.earthengine.get_crs_transform(spatial_resolution)"
   ]
  },
  {
   "cell_type": "code",
   "execution_count": 11,
   "metadata": {
    "collapsed": true
   },
   "outputs": [],
   "source": [
    "result_list = total_image.reduceRegion(geometry = geometry,\n",
    "                        reducer= reducer,\n",
    "                        crsTransform = crs_transform,\n",
    "                        maxPixels=1e10\n",
    "                        ).get(\"groups\")\n",
    "            "
   ]
  },
  {
   "cell_type": "code",
   "execution_count": 12,
   "metadata": {
    "collapsed": true
   },
   "outputs": [],
   "source": [
    "function_properties = {\"spatial_resolution\":spatial_resolution,\n",
    "                       \"reducer\":reducer_name}"
   ]
  },
  {
   "cell_type": "code",
   "execution_count": 13,
   "metadata": {
    "collapsed": true
   },
   "outputs": [],
   "source": [
    "df = post_process_results(result_list,function_properties)"
   ]
  },
  {
   "cell_type": "code",
   "execution_count": 14,
   "metadata": {},
   "outputs": [
    {
     "data": {
      "text/html": [
       "<div>\n",
       "<style scoped>\n",
       "    .dataframe tbody tr th:only-of-type {\n",
       "        vertical-align: middle;\n",
       "    }\n",
       "\n",
       "    .dataframe tbody tr th {\n",
       "        vertical-align: top;\n",
       "    }\n",
       "\n",
       "    .dataframe thead th {\n",
       "        text-align: right;\n",
       "    }\n",
       "</style>\n",
       "<table border=\"1\" class=\"dataframe\">\n",
       "  <thead>\n",
       "    <tr style=\"text-align: right;\">\n",
       "      <th></th>\n",
       "      <th>count</th>\n",
       "      <th>mean</th>\n",
       "      <th>zones</th>\n",
       "      <th>output_version</th>\n",
       "      <th>parameter</th>\n",
       "      <th>reducer</th>\n",
       "      <th>script_used</th>\n",
       "      <th>spatial_aggregation</th>\n",
       "      <th>spatial_resolution</th>\n",
       "      <th>unit</th>\n",
       "    </tr>\n",
       "  </thead>\n",
       "  <tbody>\n",
       "    <tr>\n",
       "      <th>0</th>\n",
       "      <td>2536</td>\n",
       "      <td>0.000000</td>\n",
       "      <td>111011.0</td>\n",
       "      <td>1</td>\n",
       "      <td>icep_raw</td>\n",
       "      <td>mean</td>\n",
       "      <td>Y2018M11D22_RH_ICEP_Zonal_Stats_Hybas6_EE_V01</td>\n",
       "      <td>hydrobasin</td>\n",
       "      <td>30s</td>\n",
       "      <td>dimensionless</td>\n",
       "    </tr>\n",
       "    <tr>\n",
       "      <th>1</th>\n",
       "      <td>3921</td>\n",
       "      <td>0.000000</td>\n",
       "      <td>111012.0</td>\n",
       "      <td>1</td>\n",
       "      <td>icep_raw</td>\n",
       "      <td>mean</td>\n",
       "      <td>Y2018M11D22_RH_ICEP_Zonal_Stats_Hybas6_EE_V01</td>\n",
       "      <td>hydrobasin</td>\n",
       "      <td>30s</td>\n",
       "      <td>dimensionless</td>\n",
       "    </tr>\n",
       "    <tr>\n",
       "      <th>2</th>\n",
       "      <td>1194</td>\n",
       "      <td>0.000000</td>\n",
       "      <td>111013.0</td>\n",
       "      <td>1</td>\n",
       "      <td>icep_raw</td>\n",
       "      <td>mean</td>\n",
       "      <td>Y2018M11D22_RH_ICEP_Zonal_Stats_Hybas6_EE_V01</td>\n",
       "      <td>hydrobasin</td>\n",
       "      <td>30s</td>\n",
       "      <td>dimensionless</td>\n",
       "    </tr>\n",
       "    <tr>\n",
       "      <th>3</th>\n",
       "      <td>5605</td>\n",
       "      <td>-0.015514</td>\n",
       "      <td>111014.0</td>\n",
       "      <td>1</td>\n",
       "      <td>icep_raw</td>\n",
       "      <td>mean</td>\n",
       "      <td>Y2018M11D22_RH_ICEP_Zonal_Stats_Hybas6_EE_V01</td>\n",
       "      <td>hydrobasin</td>\n",
       "      <td>30s</td>\n",
       "      <td>dimensionless</td>\n",
       "    </tr>\n",
       "    <tr>\n",
       "      <th>4</th>\n",
       "      <td>21073</td>\n",
       "      <td>-0.005207</td>\n",
       "      <td>111015.0</td>\n",
       "      <td>1</td>\n",
       "      <td>icep_raw</td>\n",
       "      <td>mean</td>\n",
       "      <td>Y2018M11D22_RH_ICEP_Zonal_Stats_Hybas6_EE_V01</td>\n",
       "      <td>hydrobasin</td>\n",
       "      <td>30s</td>\n",
       "      <td>dimensionless</td>\n",
       "    </tr>\n",
       "  </tbody>\n",
       "</table>\n",
       "</div>"
      ],
      "text/plain": [
       "   count      mean     zones  output_version parameter reducer  \\\n",
       "0   2536  0.000000  111011.0               1  icep_raw    mean   \n",
       "1   3921  0.000000  111012.0               1  icep_raw    mean   \n",
       "2   1194  0.000000  111013.0               1  icep_raw    mean   \n",
       "3   5605 -0.015514  111014.0               1  icep_raw    mean   \n",
       "4  21073 -0.005207  111015.0               1  icep_raw    mean   \n",
       "\n",
       "                                     script_used spatial_aggregation  \\\n",
       "0  Y2018M11D22_RH_ICEP_Zonal_Stats_Hybas6_EE_V01          hydrobasin   \n",
       "1  Y2018M11D22_RH_ICEP_Zonal_Stats_Hybas6_EE_V01          hydrobasin   \n",
       "2  Y2018M11D22_RH_ICEP_Zonal_Stats_Hybas6_EE_V01          hydrobasin   \n",
       "3  Y2018M11D22_RH_ICEP_Zonal_Stats_Hybas6_EE_V01          hydrobasin   \n",
       "4  Y2018M11D22_RH_ICEP_Zonal_Stats_Hybas6_EE_V01          hydrobasin   \n",
       "\n",
       "  spatial_resolution           unit  \n",
       "0                30s  dimensionless  \n",
       "1                30s  dimensionless  \n",
       "2                30s  dimensionless  \n",
       "3                30s  dimensionless  \n",
       "4                30s  dimensionless  "
      ]
     },
     "execution_count": 14,
     "metadata": {},
     "output_type": "execute_result"
    }
   ],
   "source": [
    "df.head()"
   ]
  },
  {
   "cell_type": "code",
   "execution_count": 15,
   "metadata": {},
   "outputs": [
    {
     "data": {
      "text/plain": [
       "(16385, 10)"
      ]
     },
     "execution_count": 15,
     "metadata": {},
     "output_type": "execute_result"
    }
   ],
   "source": [
    "df.shape"
   ]
  },
  {
   "cell_type": "code",
   "execution_count": 16,
   "metadata": {
    "collapsed": true
   },
   "outputs": [],
   "source": [
    "output_file_path_pkl = \"{}/df_hybas_lev{:02.0f}_{}.pkl\".format(ec2_output_path,pfaf_level,spatial_resolution)\n",
    "output_file_path_csv = \"{}/df_hybas_lev{:02.0f}_{}.csv\".format(ec2_output_path,pfaf_level,spatial_resolution)\n",
    "df.to_pickle(output_file_path_pkl)\n",
    "df.to_csv(output_file_path_csv,encoding='utf-8')"
   ]
  },
  {
   "cell_type": "code",
   "execution_count": 17,
   "metadata": {},
   "outputs": [
    {
     "name": "stdout",
     "output_type": "stream",
     "text": [
      "upload: ../../../../data/Y2018M11D22_RH_ICEP_Zonal_Stats_Hybas6_EE_V01/output_V01/df_hybas_lev06_30s.pkl to s3://wri-projects/Aqueduct30/processData/Y2018M11D22_RH_ICEP_Zonal_Stats_Hybas6_EE_V01/output_V01/df_hybas_lev06_30s.pkl\n",
      "upload: ../../../../data/Y2018M11D22_RH_ICEP_Zonal_Stats_Hybas6_EE_V01/output_V01/df_hybas_lev06_30s.csv to s3://wri-projects/Aqueduct30/processData/Y2018M11D22_RH_ICEP_Zonal_Stats_Hybas6_EE_V01/output_V01/df_hybas_lev06_30s.csv\n"
     ]
    }
   ],
   "source": [
    "!aws s3 cp  {ec2_output_path} {s3_output_path} --recursive"
   ]
  },
  {
   "cell_type": "code",
   "execution_count": 18,
   "metadata": {},
   "outputs": [
    {
     "name": "stdout",
     "output_type": "stream",
     "text": [
      "0:00:21.655136\n"
     ]
    }
   ],
   "source": [
    "end = datetime.datetime.now()\n",
    "elapsed = end - start\n",
    "print(elapsed)"
   ]
  },
  {
   "cell_type": "markdown",
   "metadata": {},
   "source": [
    "Previous runs:  \n",
    "0:00:21.655136\n"
   ]
  }
 ],
 "metadata": {
  "kernelspec": {
   "display_name": "Python 35",
   "language": "python",
   "name": "python35"
  },
  "language_info": {
   "codemirror_mode": {
    "name": "ipython",
    "version": 3
   },
   "file_extension": ".py",
   "mimetype": "text/x-python",
   "name": "python",
   "nbconvert_exporter": "python",
   "pygments_lexer": "ipython3",
   "version": "3.5.4"
  }
 },
 "nbformat": 4,
 "nbformat_minor": 2
}
