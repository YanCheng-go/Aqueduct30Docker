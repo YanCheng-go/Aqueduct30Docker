{
 "cells": [
  {
   "cell_type": "code",
   "execution_count": 1,
   "metadata": {},
   "outputs": [
    {
     "name": "stdout",
     "output_type": "stream",
     "text": [
      "Input Table:  y2018m07d09_rh_apply_aridlowonce_mask_postgis_v01_v05 \n",
      "Output Table:  y2018m07d12_rh_annual_scores_from_months_postgis_v01_v06\n"
     ]
    }
   ],
   "source": [
    "\"\"\" Calculate Annual Scores by averaging monthly values.\n",
    "-------------------------------------------------------------------------------\n",
    "\n",
    "Update 2020/02/05 output version 5 to 6. Input changed from 2 to 5\n",
    "\n",
    "\n",
    "Author: Rutger Hofste\n",
    "Date: 20180712\n",
    "Kernel: python35\n",
    "Docker: rutgerhofste/gisdocker:ubuntu16.04\n",
    "\n",
    "Args:\n",
    "    TESTING (Boolean) : Toggle testing case.\n",
    "    SCRIPT_NAME (string) : Script name.\n",
    "    OUTPUT_VERSION (integer) : output version.\n",
    "    DATABASE_ENDPOINT (string) : RDS or postGreSQL endpoint.\n",
    "    DATABASE_NAME (string) : Database name.\n",
    "    TABLE_NAME_AREA_30SPFAF06 (string) : Table name used for areas. Must exist\n",
    "        on same database as used in rest of script.\n",
    "    S3_INPUT_PATH_RIVERDISCHARGE (string) : AWS S3 input path for \n",
    "        riverdischarge.    \n",
    "    S3_INPUT_PATH_DEMAND (string) : AWS S3 input path for \n",
    "        demand.     \n",
    "\n",
    "\"\"\"\n",
    "\n",
    "TESTING = 0\n",
    "OVERWRITE_OUTPUT = 1\n",
    "SCRIPT_NAME = 'Y2018M07D12_RH_Annual_Scores_From_Months_PostGIS_V01'\n",
    "OUTPUT_VERSION = 6\n",
    "\n",
    "DATABASE_ENDPOINT = \"aqueduct30v05.cgpnumwmfcqc.eu-central-1.rds.amazonaws.com\"\n",
    "DATABASE_NAME = \"database01\"\n",
    "\n",
    "INPUT_TABLE_NAME = \"y2018m07d09_rh_apply_aridlowonce_mask_postgis_v01_v05\" \n",
    "OUTPUT_TABLE_NAME = SCRIPT_NAME.lower() + \"_v{:02.0f}\".format(OUTPUT_VERSION)\n",
    "\n",
    "print(\"Input Table: \" , INPUT_TABLE_NAME, \n",
    "      \"\\nOutput Table: \" , OUTPUT_TABLE_NAME)\n",
    "\n"
   ]
  },
  {
   "cell_type": "code",
   "execution_count": 2,
   "metadata": {},
   "outputs": [
    {
     "name": "stdout",
     "output_type": "stream",
     "text": [
      "Y2020M02D05 UTC 10:49\n"
     ]
    },
    {
     "data": {
      "text/plain": [
       "'3.5.4 |Anaconda, Inc.| (default, Nov 20 2017, 18:44:38) \\n[GCC 7.2.0]'"
      ]
     },
     "execution_count": 2,
     "metadata": {},
     "output_type": "execute_result"
    }
   ],
   "source": [
    "import time, datetime, sys\n",
    "dateString = time.strftime(\"Y%YM%mD%d\")\n",
    "timeString = time.strftime(\"UTC %H:%M\")\n",
    "start = datetime.datetime.now()\n",
    "print(dateString,timeString)\n",
    "sys.version"
   ]
  },
  {
   "cell_type": "code",
   "execution_count": 3,
   "metadata": {
    "collapsed": true
   },
   "outputs": [],
   "source": [
    "# imports\n",
    "import re\n",
    "import os\n",
    "import numpy as np\n",
    "import pandas as pd\n",
    "import aqueduct3\n",
    "from datetime import timedelta\n",
    "from sqlalchemy import *\n",
    "pd.set_option('display.max_columns', 500)"
   ]
  },
  {
   "cell_type": "code",
   "execution_count": 4,
   "metadata": {},
   "outputs": [
    {
     "name": "stdout",
     "output_type": "stream",
     "text": [
      "DROP TABLE IF EXISTS y2018m07d12_rh_annual_scores_from_months_postgis_v01_v06;\n"
     ]
    }
   ],
   "source": [
    "F = open(\"/.password\",\"r\")\n",
    "password = F.read().splitlines()[0]\n",
    "F.close()\n",
    "\n",
    "engine = create_engine(\"postgresql://rutgerhofste:{}@{}:5432/{}\".format(password,DATABASE_ENDPOINT,DATABASE_NAME))\n",
    "#connection = engine.connect()\n",
    "\n",
    "if OVERWRITE_OUTPUT:\n",
    "    sql = \"DROP TABLE IF EXISTS {};\".format(OUTPUT_TABLE_NAME)\n",
    "    print(sql)\n",
    "    result = engine.execute(sql)"
   ]
  },
  {
   "cell_type": "code",
   "execution_count": 5,
   "metadata": {
    "collapsed": true
   },
   "outputs": [],
   "source": [
    "selection_columns = [\"pfafid_30spfaf06\",\n",
    "                     \"year\",\n",
    "                     \"temporal_resolution\"]\n",
    "aggregate_columns = [\"ols_ols10_waterstress_dimensionless_30spfaf06\",\n",
    "                     \"ols_capped_ols10_waterstress_dimensionless_30spfaf06\",\n",
    "                     \"ols_ols10_waterdepletion_dimensionless_30spfaf06\",\n",
    "                     \"ols_capped_ols10_waterdepletion_dimensionless_30spfaf06\"]"
   ]
  },
  {
   "cell_type": "code",
   "execution_count": 6,
   "metadata": {
    "collapsed": true
   },
   "outputs": [],
   "source": [
    "sql =  \"CREATE TABLE {} AS\".format(OUTPUT_TABLE_NAME)\n",
    "sql += \" SELECT \"\n",
    "for selection_column in selection_columns:\n",
    "    sql += \" {},\".format(selection_column)\n",
    "sql +=     \" AVG(ols_capped_ols10_waterstress_dimensionless_30spfaf06) AS avg1y_ols_ols10_waterstress_dimensionless_30spfaf06,\"\n",
    "sql +=     \" CASE WHEN SUM (ols_capped_ols10_ptotww_m_30spfaf06) >0 \"\n",
    "sql +=         \" THEN SUM(ols_capped_ols10_waterstress_dimensionless_30spfaf06 * ols_capped_ols10_ptotww_m_30spfaf06) / SUM (ols_capped_ols10_ptotww_m_30spfaf06) \"\n",
    "sql +=     \" ELSE AVG(ols_capped_ols10_waterstress_dimensionless_30spfaf06)\"\n",
    "sql +=     \" END\"\n",
    "sql +=     \" AS avg1y_ols_capped_ols10_weighted_waterstress_dimensionless_30spfaf06,\"\n",
    "\n",
    "sql +=     \" AVG(ols_capped_ols10_waterdepletion_dimensionless_30spfaf06) AS avg1y_ols_ols10_waterdepletion_dimensionless_30spfaf06,\"\n",
    "sql +=     \" CASE WHEN SUM (ols_capped_ols10_ptotww_m_30spfaf06) >0 \"\n",
    "sql +=         \" THEN SUM(ols_capped_ols10_waterdepletion_dimensionless_30spfaf06 * ols_capped_ols10_ptotww_m_30spfaf06) / SUM (ols_capped_ols10_ptotww_m_30spfaf06) \"\n",
    "sql +=     \" ELSE AVG(ols_capped_ols10_waterdepletion_dimensionless_30spfaf06)\"\n",
    "sql +=     \" END\"\n",
    "sql +=     \" AS avg1y_ols_capped_ols10_weighted_waterdepletion_dimensionless_30spfaf06\"\n",
    "sql += \" FROM {}\".format(INPUT_TABLE_NAME)\n",
    "sql += \" WHERE temporal_resolution = 'month'\" \n",
    "sql += \" GROUP BY pfafid_30spfaf06, year, temporal_resolution\"\n",
    "sql += \" ORDER BY pfafid_30spfaf06, year\"\n"
   ]
  },
  {
   "cell_type": "code",
   "execution_count": 7,
   "metadata": {},
   "outputs": [
    {
     "data": {
      "text/plain": [
       "\"CREATE TABLE y2018m07d12_rh_annual_scores_from_months_postgis_v01_v06 AS SELECT  pfafid_30spfaf06, year, temporal_resolution, AVG(ols_capped_ols10_waterstress_dimensionless_30spfaf06) AS avg1y_ols_ols10_waterstress_dimensionless_30spfaf06, CASE WHEN SUM (ols_capped_ols10_ptotww_m_30spfaf06) >0  THEN SUM(ols_capped_ols10_waterstress_dimensionless_30spfaf06 * ols_capped_ols10_ptotww_m_30spfaf06) / SUM (ols_capped_ols10_ptotww_m_30spfaf06)  ELSE AVG(ols_capped_ols10_waterstress_dimensionless_30spfaf06) END AS avg1y_ols_capped_ols10_weighted_waterstress_dimensionless_30spfaf06, AVG(ols_capped_ols10_waterdepletion_dimensionless_30spfaf06) AS avg1y_ols_ols10_waterdepletion_dimensionless_30spfaf06, CASE WHEN SUM (ols_capped_ols10_ptotww_m_30spfaf06) >0  THEN SUM(ols_capped_ols10_waterdepletion_dimensionless_30spfaf06 * ols_capped_ols10_ptotww_m_30spfaf06) / SUM (ols_capped_ols10_ptotww_m_30spfaf06)  ELSE AVG(ols_capped_ols10_waterdepletion_dimensionless_30spfaf06) END AS avg1y_ols_capped_ols10_weighted_waterdepletion_dimensionless_30spfaf06 FROM y2018m07d09_rh_apply_aridlowonce_mask_postgis_v01_v05 WHERE temporal_resolution = 'month' GROUP BY pfafid_30spfaf06, year, temporal_resolution ORDER BY pfafid_30spfaf06, year\""
      ]
     },
     "execution_count": 7,
     "metadata": {},
     "output_type": "execute_result"
    }
   ],
   "source": [
    "sql"
   ]
  },
  {
   "cell_type": "code",
   "execution_count": 8,
   "metadata": {
    "collapsed": true
   },
   "outputs": [],
   "source": [
    "result = engine.execute(sql)"
   ]
  },
  {
   "cell_type": "code",
   "execution_count": 9,
   "metadata": {
    "collapsed": true
   },
   "outputs": [],
   "source": [
    "sql_index = \"CREATE INDEX {}pfafid_30spfaf06 ON {} ({})\".format(OUTPUT_TABLE_NAME,OUTPUT_TABLE_NAME,\"pfafid_30spfaf06\")"
   ]
  },
  {
   "cell_type": "code",
   "execution_count": 10,
   "metadata": {
    "collapsed": true
   },
   "outputs": [],
   "source": [
    "result = engine.execute(sql_index)"
   ]
  },
  {
   "cell_type": "code",
   "execution_count": 11,
   "metadata": {
    "collapsed": true
   },
   "outputs": [],
   "source": [
    "sql_index2 = \"CREATE INDEX {}year ON {} ({})\".format(OUTPUT_TABLE_NAME,OUTPUT_TABLE_NAME,\"year\")"
   ]
  },
  {
   "cell_type": "code",
   "execution_count": 12,
   "metadata": {
    "collapsed": true
   },
   "outputs": [],
   "source": [
    "result = engine.execute(sql_index2)"
   ]
  },
  {
   "cell_type": "code",
   "execution_count": 13,
   "metadata": {
    "collapsed": true
   },
   "outputs": [],
   "source": [
    "engine.dispose()"
   ]
  },
  {
   "cell_type": "code",
   "execution_count": 14,
   "metadata": {},
   "outputs": [
    {
     "name": "stdout",
     "output_type": "stream",
     "text": [
      "0:02:46.805150\n"
     ]
    }
   ],
   "source": [
    "end = datetime.datetime.now()\n",
    "elapsed = end - start\n",
    "print(elapsed)"
   ]
  },
  {
   "cell_type": "markdown",
   "metadata": {},
   "source": [
    "Previous runs:  \n",
    "0:02:42.553314  \n",
    "0:02:33.060358  \n",
    "0:02:33.656827  \n",
    "0:02:08.691658  \n",
    "0:02:46.805150\n"
   ]
  },
  {
   "cell_type": "code",
   "execution_count": null,
   "metadata": {
    "collapsed": true
   },
   "outputs": [],
   "source": []
  }
 ],
 "metadata": {
  "kernelspec": {
   "display_name": "Python 35",
   "language": "python",
   "name": "python35"
  },
  "language_info": {
   "codemirror_mode": {
    "name": "ipython",
    "version": 3
   },
   "file_extension": ".py",
   "mimetype": "text/x-python",
   "name": "python",
   "nbconvert_exporter": "python",
   "pygments_lexer": "ipython3",
   "version": "3.5.4"
  }
 },
 "nbformat": 4,
 "nbformat_minor": 2
}
