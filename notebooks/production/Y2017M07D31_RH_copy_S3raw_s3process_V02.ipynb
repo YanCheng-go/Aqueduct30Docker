{
 "cells": [
  {
   "cell_type": "code",
   "execution_count": 1,
   "metadata": {},
   "outputs": [],
   "source": [
    "\"\"\" Copy data from S3 raw to S3 process.\n",
    "-------------------------------------------------------------------------------\n",
    "Copy files from S3 raw to S3 process data\n",
    "\n",
    "Details:\n",
    "    Author: Rutger Hofste\n",
    "    Date: 20170731\n",
    "    Kernel: python36\n",
    "    Docker: rutgerhofste/gisdocker:ubuntu16.04\n",
    "\n",
    "Args:\n",
    "\n",
    "    SCRIPT_NAME (string) : Script name\n",
    "    OUTPUT_VERSION (integer) : Output version. \n",
    "    S3_INPUT_PATHS (list) : S3 directories with files to copy. \n",
    "\n",
    "Returns:\n",
    "\n",
    "\n",
    "Result:  \n",
    "    29 files will be copied to the output folder\n",
    "\n",
    "Notes:\n",
    "Copying all netCDF4 files from the raw data folder to process data folder. \n",
    "Before you run this script, please make sure the data is not already in the \n",
    "s3://wri-projects/Aqueduct30/processData/01PCRGlobWBV01 folder\n",
    "\n",
    "\"\"\"\n",
    "\n",
    "# Input Parameters\n",
    "\n",
    "SCRIPT_NAME = \"Y2017M07D31_RH_copy_S3raw_s3process_V02\"\n",
    "OUTPUT_VERSION = 3\n",
    "\n",
    "S3_INPUT_PATHS = [\"s3://wri-projects/Aqueduct30/rawData/Utrecht/yoshi20161219/waterdemand\",\n",
    "               \"s3://wri-projects/Aqueduct30/rawData/Utrecht/additionalFiles/wateravailability\",\n",
    "               \"s3://wri-projects/Aqueduct30/rawData/Utrecht/yoshi20161219/wateravailability\",\n",
    "               \"s3://wri-projects/Aqueduct30/rawData/Utrecht/yoshi20161219/waterstress\",\n",
    "               \"s3://wri-projects/Aqueduct30/rawData/Utrecht/additionalFiles/soilmoisture\",\n",
    "               \"s3://wri-projects/Aqueduct30/rawData/Utrecht/yoshi20161219/indicators\"]\n",
    "\n",
    "\n",
    "# Output Parameters\n",
    "\n",
    "S3_OUTPUT_PATH = \"s3://wri-projects/Aqueduct30/processData/{}/output_V{:02.0f}\".format(SCRIPT_NAME,OUTPUT_VERSION)\n"
   ]
  },
  {
   "cell_type": "code",
   "execution_count": 2,
   "metadata": {},
   "outputs": [
    {
     "name": "stdout",
     "output_type": "stream",
     "text": [
      "Y2018M04D16 UTC 09:20\n"
     ]
    },
    {
     "data": {
      "text/plain": [
       "'3.6.5 |Anaconda, Inc.| (default, Mar 29 2018, 18:21:58) \\n[GCC 7.2.0]'"
      ]
     },
     "execution_count": 2,
     "metadata": {},
     "output_type": "execute_result"
    }
   ],
   "source": [
    "import time, datetime, sys\n",
    "dateString = time.strftime(\"Y%YM%mD%d\")\n",
    "timeString = time.strftime(\"UTC %H:%M\")\n",
    "start = datetime.datetime.now()\n",
    "print(dateString,timeString)\n",
    "sys.version"
   ]
  },
  {
   "cell_type": "code",
   "execution_count": 3,
   "metadata": {
    "collapsed": true
   },
   "outputs": [],
   "source": [
    "# Imports\n",
    "import subprocess"
   ]
  },
  {
   "cell_type": "code",
   "execution_count": 4,
   "metadata": {},
   "outputs": [
    {
     "name": "stdout",
     "output_type": "stream",
     "text": [
      "aws s3 cp s3://wri-projects/Aqueduct30/rawData/Utrecht/yoshi20161219/waterdemand s3://wri-projects/Aqueduct30/processData/Y2017M07D31_RH_copy_S3raw_s3process_V02/output_V03 --recursive\n",
      "aws s3 cp s3://wri-projects/Aqueduct30/rawData/Utrecht/additionalFiles/wateravailability s3://wri-projects/Aqueduct30/processData/Y2017M07D31_RH_copy_S3raw_s3process_V02/output_V03 --recursive\n",
      "aws s3 cp s3://wri-projects/Aqueduct30/rawData/Utrecht/yoshi20161219/wateravailability s3://wri-projects/Aqueduct30/processData/Y2017M07D31_RH_copy_S3raw_s3process_V02/output_V03 --recursive\n",
      "aws s3 cp s3://wri-projects/Aqueduct30/rawData/Utrecht/yoshi20161219/waterstress s3://wri-projects/Aqueduct30/processData/Y2017M07D31_RH_copy_S3raw_s3process_V02/output_V03 --recursive\n",
      "aws s3 cp s3://wri-projects/Aqueduct30/rawData/Utrecht/additionalFiles/soilmoisture s3://wri-projects/Aqueduct30/processData/Y2017M07D31_RH_copy_S3raw_s3process_V02/output_V03 --recursive\n",
      "aws s3 cp s3://wri-projects/Aqueduct30/rawData/Utrecht/yoshi20161219/indicators s3://wri-projects/Aqueduct30/processData/Y2017M07D31_RH_copy_S3raw_s3process_V02/output_V03 --recursive\n"
     ]
    }
   ],
   "source": [
    "# ETL\n",
    "result_list = []\n",
    "for S3_input_path in S3_INPUT_PATHS:\n",
    "    command = \"aws s3 cp {} {} --recursive\".format(S3_input_path,S3_OUTPUT_PATH) \n",
    "    result = subprocess.check_output(command,shell=True)\n",
    "    result_list = result_list + [result]\n",
    "    print(command)\n",
    "\n"
   ]
  },
  {
   "cell_type": "code",
   "execution_count": 5,
   "metadata": {},
   "outputs": [
    {
     "name": "stdout",
     "output_type": "stream",
     "text": [
      "0:04:08.981370\n"
     ]
    }
   ],
   "source": [
    "end = datetime.datetime.now()\n",
    "elapsed = end - start\n",
    "print(elapsed)"
   ]
  },
  {
   "cell_type": "markdown",
   "metadata": {},
   "source": [
    "Previous runs:  \n",
    "0:04:08.981370"
   ]
  },
  {
   "cell_type": "code",
   "execution_count": null,
   "metadata": {
    "collapsed": true
   },
   "outputs": [],
   "source": []
  }
 ],
 "metadata": {
  "kernelspec": {
   "display_name": "Python 36",
   "language": "python",
   "name": "python36"
  },
  "language_info": {
   "codemirror_mode": {
    "name": "ipython",
    "version": 3
   },
   "file_extension": ".py",
   "mimetype": "text/x-python",
   "name": "python",
   "nbconvert_exporter": "python",
   "pygments_lexer": "ipython3",
   "version": "3.6.5"
  }
 },
 "nbformat": 4,
 "nbformat_minor": 2
}
