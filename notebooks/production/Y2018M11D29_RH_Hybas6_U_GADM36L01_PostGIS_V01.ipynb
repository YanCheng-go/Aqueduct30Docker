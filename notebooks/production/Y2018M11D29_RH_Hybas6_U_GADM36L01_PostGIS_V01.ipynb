{
 "cells": [
  {
   "cell_type": "code",
   "execution_count": 1,
   "metadata": {},
   "outputs": [
    {
     "name": "stdout",
     "output_type": "stream",
     "text": [
      "\n",
      "RDS_INPUT_TABLE_LEFT: hybas06_v04 \n",
      "RDS_INPUT_TABLE_RIGHT:  y2018m11d12_rh_gadm36_level1_to_rds_v01_v02 \n",
      "OUTPUT_TABLE_NAME:  y2018m11d29_rh_hybas6_u_gadm36l01_postgis_v01_v02\n"
     ]
    }
   ],
   "source": [
    "\"\"\" Union of hydrobasin and GADM 36 level 1 using postGIS\n",
    "-------------------------------------------------------------------------------\n",
    "\n",
    "Author: Rutger Hofste\n",
    "Date: 20181128\n",
    "Kernel: python35\n",
    "Docker: rutgerhofste/gisdocker:ubuntu16.04\n",
    "\n",
    "\"\"\"\n",
    "\n",
    "TESTING = 0\n",
    "SCRIPT_NAME = \"Y2018M11D29_RH_Hybas6_U_GADM36L01_PostGIS_V01\"\n",
    "OUTPUT_VERSION = 2\n",
    "\n",
    "RDS_DATABASE_ENDPOINT = \"aqueduct30v05.cgpnumwmfcqc.eu-central-1.rds.amazonaws.com\"\n",
    "RDS_DATABASE_NAME = \"database01\"\n",
    "RDS_INPUT_TABLE_LEFT = \"hybas06_v04\"\n",
    "RDS_INPUT_TABLE_RIGHT = \"y2018m11d12_rh_gadm36_level1_to_rds_v01_v02\"\n",
    "\n",
    "OUTPUT_TABLE_NAME = \"{}_v{:02.0f}\".format(SCRIPT_NAME,OUTPUT_VERSION).lower()\n",
    "\n",
    "\n",
    "\n",
    "print(\"\\nRDS_INPUT_TABLE_LEFT:\", RDS_INPUT_TABLE_LEFT,\n",
    "      \"\\nRDS_INPUT_TABLE_RIGHT: \", RDS_INPUT_TABLE_RIGHT,\n",
    "      \"\\nOUTPUT_TABLE_NAME: \", OUTPUT_TABLE_NAME)"
   ]
  },
  {
   "cell_type": "code",
   "execution_count": 2,
   "metadata": {},
   "outputs": [
    {
     "name": "stdout",
     "output_type": "stream",
     "text": [
      "Y2018M11D29 UTC 17:10\n"
     ]
    },
    {
     "data": {
      "text/plain": [
       "'3.5.4 |Anaconda, Inc.| (default, Nov 20 2017, 18:44:38) \\n[GCC 7.2.0]'"
      ]
     },
     "execution_count": 2,
     "metadata": {},
     "output_type": "execute_result"
    }
   ],
   "source": [
    "import time, datetime, sys\n",
    "dateString = time.strftime(\"Y%YM%mD%d\")\n",
    "timeString = time.strftime(\"UTC %H:%M\")\n",
    "start = datetime.datetime.now()\n",
    "print(dateString,timeString)\n",
    "sys.version"
   ]
  },
  {
   "cell_type": "code",
   "execution_count": 3,
   "metadata": {
    "collapsed": true
   },
   "outputs": [],
   "source": [
    "import os\n",
    "import sqlalchemy"
   ]
  },
  {
   "cell_type": "code",
   "execution_count": 4,
   "metadata": {},
   "outputs": [],
   "source": [
    "F = open(\"/.password\",\"r\")\n",
    "password = F.read().splitlines()[0]\n",
    "F.close()\n",
    "\n",
    "engine = sqlalchemy.create_engine(\"postgresql://rutgerhofste:{}@{}:5432/{}\".format(password,RDS_DATABASE_ENDPOINT,RDS_DATABASE_NAME))"
   ]
  },
  {
   "cell_type": "code",
   "execution_count": 5,
   "metadata": {
    "collapsed": true
   },
   "outputs": [],
   "source": [
    "q = \"\"\"\n",
    "CREATE TABLE public.{} AS \n",
    "-- input data\n",
    "with polys1 AS (\n",
    "  SELECT \n",
    "    pfaf_id as df1,\n",
    "    geom as g\n",
    "  FROM {}\n",
    "),\n",
    "polys2 AS (\n",
    "  SELECT \n",
    "    gid_1 as df2,\n",
    "    geom as g\n",
    "  FROM {}\n",
    "),\n",
    "-- intersections\n",
    "intersections AS (\n",
    "  SELECT df1, df2, ST_INTERSECTION(a.g, b.g) i, a.g AS g1, b.g AS g2 \n",
    "  FROM polys1 a, polys2 b WHERE ST_INTERSECTS(a.g, b.g)\n",
    "),\n",
    "-- per-row union of intersections with this row\n",
    "diff1 AS (\n",
    "  SELECT df1, ST_UNION(i) i FROM intersections GROUP BY df1\n",
    "),\n",
    "diff2 AS (\n",
    "  SELECT df2, ST_UNION(i) i FROM intersections GROUP BY df2\n",
    "),\n",
    "-- various combinations of intersections\n",
    "pairs AS (\n",
    "  SELECT df1, df2, i AS g FROM intersections\n",
    "  UNION ALL\n",
    "  SELECT \n",
    "    p.df1,\n",
    "    NULL,\n",
    "    CASE\n",
    "      WHEN i IS NULL THEN g \n",
    "      ELSE ST_DIFFERENCE(g, i)\n",
    "    END\n",
    "  FROM polys1 p LEFT JOIN diff1 d ON p.df1 = d.df1\n",
    "  UNION ALL\n",
    "  SELECT\n",
    "    NULL,\n",
    "    p.df2,\n",
    "    CASE\n",
    "      WHEN i IS NULL THEN g\n",
    "      ELSE ST_DIFFERENCE(g, i)\n",
    "    END\n",
    "  FROM polys2 p LEFT JOIN diff2 d ON p.df2 = d.df2  \n",
    ")\n",
    "SELECT \n",
    "  df1 as pfaf_id,\n",
    "  df2 as gid_1,\n",
    "  g as geom\n",
    "FROM pairs WHERE NOT ST_IsEmpty(g);\n",
    "\"\"\".format(OUTPUT_TABLE_NAME,RDS_INPUT_TABLE_LEFT,RDS_INPUT_TABLE_RIGHT)"
   ]
  },
  {
   "cell_type": "code",
   "execution_count": null,
   "metadata": {},
   "outputs": [],
   "source": [
    "result = engine.execute(q)"
   ]
  },
  {
   "cell_type": "code",
   "execution_count": null,
   "metadata": {},
   "outputs": [],
   "source": [
    "end = datetime.datetime.now()\n",
    "elapsed = end - start\n",
    "print(elapsed)"
   ]
  },
  {
   "cell_type": "markdown",
   "metadata": {},
   "source": [
    "Previous Runs:  \n",
    "0:11:30.825157\n"
   ]
  }
 ],
 "metadata": {
  "kernelspec": {
   "display_name": "Python 35",
   "language": "python",
   "name": "python35"
  },
  "language_info": {
   "codemirror_mode": {
    "name": "ipython",
    "version": 3
   },
   "file_extension": ".py",
   "mimetype": "text/x-python",
   "name": "python",
   "nbconvert_exporter": "python",
   "pygments_lexer": "ipython3",
   "version": "3.5.4"
  }
 },
 "nbformat": 4,
 "nbformat_minor": 2
}
