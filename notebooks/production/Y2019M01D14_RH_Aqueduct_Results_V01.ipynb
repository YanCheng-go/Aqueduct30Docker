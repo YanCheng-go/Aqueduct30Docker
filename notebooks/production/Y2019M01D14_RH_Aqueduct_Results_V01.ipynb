{
 "cells": [
  {
   "cell_type": "code",
   "execution_count": 1,
   "metadata": {},
   "outputs": [
    {
     "name": "stdout",
     "output_type": "stream",
     "text": [
      "RDS_MASTER_GEOM_TABLE:  y2018m12d06_rh_master_shape_v01_v02 \n",
      "S3_INPUT_PATH_ANNUAL_NORMALIZED:  s3://wri-projects/Aqueduct30/processData/Y2018M12D11_RH_Master_Weights_GPD_V02/output_V06 \n",
      "s3_output_path:  s3://wri-projects/Aqueduct30/finalData/Y2019M01D14_RH_Aqueduct_Results_V01/output_V02/\n"
     ]
    }
   ],
   "source": [
    "\"\"\" Share Aqueduct results with external party in multiple formats. \n",
    "-------------------------------------------------------------------------------\n",
    "\n",
    "Author: Rutger Hofste\n",
    "Date: 20190114\n",
    "Kernel: python35\n",
    "Docker: rutgerhofste/gisdocker:ubuntu16.04\n",
    "\n",
    "The Aqueduct framework consist of 13 indicators. Each indicator has an \n",
    "associated geometry. \n",
    "\n",
    "There are 3 distinct geometries:\n",
    "hydrobasin level 6 (hydrological sub-basins),\n",
    "gadm level 1 (provinces) and \n",
    "whymap (groundwater aquifers)\n",
    "\n",
    "we created a \"master\"  geometry by taking the union of the 3 geometries. \n",
    "\n",
    "Indicator overview:\n",
    "\"indicator_name_short\", \"indicator_name_long\", \"geometry name\", \"identifier\"\n",
    "\"bws\", \"baseline water stress\", \"hydrobasin level 6\", \"pfaf_id\"\n",
    "\"bwd\", \"baseline water depletion\", \"hydrobasin level 6\", \"pfaf_id\"\n",
    "\"iav\", \"interannual variability\", \"hydrobasin level 6\", \"pfaf_id\"\n",
    "\"sev\", \"Seasonal Variability\",\"hydrobasin level 6\", \"pfaf_id\"\n",
    "\"gtd\", \"Groundwater Table Decline\", \"groundwater aquifer\", \"aqid\"\n",
    "\"drr\", \"Drought Risk\",\"hydrobasin level 6\", \"pfaf_id\"\n",
    "\"rfr\", \"Riverine Flood Risk\",\"hydrobasin level 6\", \"pfaf_id\"\n",
    "\"cfr\", \"Coastal Flood Risk\",\"hydrobasin level 6\", \"pfaf_id\"\n",
    "\"ucw\", \"Untreated Collected Wastewater\",\"country\",\"gid_0\"\n",
    "\"cep\", \"Coastal Eutrophication Potential\",\"hydrobasin level 6\", \"pfaf_id\"\n",
    "\"udw\", \"Unimproved/no drinking water\",\"hydrobasin level 6\", \"pfaf_id\"\n",
    "\"usa\", \"Unimproved/no sanitation\",\"hydrobasin level 6\", \"pfaf_id\"\n",
    "\"rri\", \"RepRisk Index,\"country\",\"gid_0\" \n",
    "\n",
    "10 indicators at hydrobasin level 6, \n",
    "1 at groundwater aquifer level and \n",
    "2 at country (GADM level 0)\n",
    "\n",
    "the master shapefile has a unique identifier called string_id\n",
    "\n",
    "the format of string_id is {pfaf_id} - {gid_1} - {aqid}\n",
    "114415-SOM.7_1-3306\n",
    "\n",
    "pfaf_id = 114415\n",
    "gid_1 = SOM.7_1 (Somalia, province 7_1)\n",
    "aqid = 3306\n",
    "\n",
    "when files contain a string_id, you should use that to join the data. \n",
    "\n",
    "Overall Water Risk\n",
    "\n",
    "A weighted average is calculated for three groups:\n",
    "\n",
    "Water Quantity,\n",
    "Water Quality,\n",
    "and Regulatory and Reputational\n",
    "\n",
    "The indicators are grouped as follows:\n",
    "\n",
    "Water Quantity\n",
    "    Baseline water stress\n",
    "    Baseline water depletion \n",
    "    Groundwater table decline \n",
    "    Interannual variability \n",
    "    Seasonal variability\n",
    "    Drought risk\n",
    "    Riverine flood risk \n",
    "    Coastal flood risk \n",
    "\n",
    "Water Quality\n",
    "    Untreated collected wastewater\n",
    "    Coastal eutrophication potential\n",
    "\n",
    "Regulatory and Reputational Risk\n",
    "    Unimproved/no drinking water \n",
    "    Unimproved/no sanitation\n",
    "    RepRisk Index (RRI)\n",
    "\n",
    "An Overall Water Risk Score is calculated by taking a weighted \n",
    "average of the three groups. \n",
    "\n",
    "The weights per indicator are calculated for 10 different industries:\n",
    "\n",
    "Default\n",
    "Agriculture\n",
    "Food & Beverage\n",
    "Chemicals\n",
    "Electric Power\n",
    "Semiconductor\n",
    "Oil & Gas\n",
    "Mining\n",
    "Construction Materials\n",
    "Textile\n",
    "\n",
    "Monthly Files:\n",
    "most of the 13 indicators are only available at an annual temporal resolution.\n",
    "For baseline water stress, baseline water depletion and interannual variability,\n",
    "we also have monthly data. Tables with these monthly values will be stored \n",
    "separately. \n",
    "\n",
    "\n",
    "Options for improvement:\n",
    "- for the drought indicator include hazard, exposure and vulnerability layers.\n",
    "- include gridded withdrawal per indicator.\n",
    "\n",
    "\n",
    "Output files:\n",
    "- Master shapefile\n",
    "- Annual results normalized\n",
    "- Annual result pivoted\n",
    "\n",
    "- Monthly results\n",
    "- Industry weights\n",
    "- FAO Basin Names\n",
    "- GADM Country and Province Names\n",
    "\n",
    "\n",
    "\"\"\"\n",
    "\n",
    "\n",
    "SCRIPT_NAME = 'Y2019M01D14_RH_Aqueduct_Results_V01'\n",
    "OUTPUT_VERSION = 2\n",
    "\n",
    "# GBQ\n",
    "BQ_PROJECT_ID = \"aqueduct30\"\n",
    "BQ_DATASET_NAME = \"aqueduct30v01\"\n",
    "\n",
    "BQ_INPUT_TABLE  = {}\n",
    "BQ_INPUT_TABLE[\"annual_normalized\"] = \"y2018m12d11_rh_master_weights_gpd_v02_v06\"\n",
    "BQ_INPUT_TABLE[\"annual_pivot\"] = \"y2018m12d14_rh_master_horizontal_gpd_v01_v06\"\n",
    "BQ_INPUT_TABLE[\"monthly_normalized_bws\"] = \"y2018m07d30_rh_gcs_to_bq_v01_v06\"\n",
    "BQ_INPUT_TABLE[\"monthly_normalized_bwd\"] = \"y2018m07d30_rh_gcs_to_bq_v01_v06\"\n",
    "BQ_INPUT_TABLE[\"monthly_normalized_iav\"] = \"y2018m07d31_rh_inter_av_cat_label_v01_v02\"\n",
    "BQ_INPUT_TABLE[\"industry_weights\"] = \"y2018m12d06_rh_process_weights_bq_v01_v01\"\n",
    "BQ_INPUT_TABLE[\"gadm\"] = \"y2018m11d12_rh_gadm36_level1_rds_to_bq_v01_v01\"\n",
    "\n",
    "S3_INPUT_PATH_ANNUAL_NORMALIZED = \"s3://wri-projects/Aqueduct30/processData/Y2018M12D11_RH_Master_Weights_GPD_V02/output_V06\"\n",
    "\n",
    "# RDS\n",
    "RDS_DATABASE_ENDPOINT = \"aqueduct30v05.cgpnumwmfcqc.eu-central-1.rds.amazonaws.com\"\n",
    "RDS_DATABASE_NAME = \"database01\"\n",
    "RDS_MASTER_GEOM_TABLE = \"y2018m12d06_rh_master_shape_v01_v02\"\n",
    "\n",
    "RDS_FAO_LINK = \"fao_link_v07\"\n",
    "RDS_FAO_MINOR = \"fao_minor_v07\"\n",
    "RDS_FAO_MAJOR = \"fao_major_v07\"\n",
    "\n",
    "\n",
    "\n",
    "ec2_input_path = \"/volumes/data/{}/input_V{:02.0f}\".format(SCRIPT_NAME,OUTPUT_VERSION) \n",
    "ec2_output_path = \"/volumes/data/{}/output_V{:02.0f}\".format(SCRIPT_NAME,OUTPUT_VERSION) \n",
    "s3_output_path = \"s3://wri-projects/Aqueduct30/finalData/{}/output_V{:02.0f}/\".format(SCRIPT_NAME,OUTPUT_VERSION)\n",
    "\n",
    "print(\"RDS_MASTER_GEOM_TABLE: \", RDS_MASTER_GEOM_TABLE,\n",
    "      \"\\nS3_INPUT_PATH_ANNUAL_NORMALIZED: \", S3_INPUT_PATH_ANNUAL_NORMALIZED,\n",
    "      \"\\ns3_output_path: \", s3_output_path)\n"
   ]
  },
  {
   "cell_type": "code",
   "execution_count": 2,
   "metadata": {},
   "outputs": [
    {
     "name": "stdout",
     "output_type": "stream",
     "text": [
      "Y2019M01D14 UTC 14:35\n"
     ]
    },
    {
     "data": {
      "text/plain": [
       "'3.5.4 |Anaconda, Inc.| (default, Nov 20 2017, 18:44:38) \\n[GCC 7.2.0]'"
      ]
     },
     "execution_count": 2,
     "metadata": {},
     "output_type": "execute_result"
    }
   ],
   "source": [
    "import time, datetime, sys\n",
    "dateString = time.strftime(\"Y%YM%mD%d\")\n",
    "timeString = time.strftime(\"UTC %H:%M\")\n",
    "start = datetime.datetime.now()\n",
    "print(dateString,timeString)\n",
    "sys.version"
   ]
  },
  {
   "cell_type": "code",
   "execution_count": 3,
   "metadata": {},
   "outputs": [],
   "source": [
    "!rm -r {ec2_output_path}\n",
    "!mkdir -p {ec2_output_path}\n",
    "!mkdir -p {ec2_output_path}/master_geom\n",
    "!mkdir -p {ec2_output_path}/annual\n",
    "!mkdir -p {ec2_output_path}/monthly\n",
    "!mkdir -p {ec2_output_path}/industry_weights\n",
    "!mkdir -p {ec2_output_path}/fao\n",
    "!mkdir -p {ec2_output_path}/gadm\n"
   ]
  },
  {
   "cell_type": "code",
   "execution_count": 4,
   "metadata": {},
   "outputs": [
    {
     "name": "stdout",
     "output_type": "stream",
     "text": [
      "download: s3://wri-projects/Aqueduct30/processData/Y2018M12D11_RH_Master_Weights_GPD_V02/output_V06/Y2018M12D11_RH_Master_Weights_GPD_V02.pkl to ../../../../data/Y2019M01D14_RH_Aqueduct_Results_V01/input_V02/Y2018M12D11_RH_Master_Weights_GPD_V02.pkl\n",
      "download: s3://wri-projects/Aqueduct30/processData/Y2018M12D11_RH_Master_Weights_GPD_V02/output_V06/Y2018M12D11_RH_Master_Weights_GPD_V02.csv to ../../../../data/Y2019M01D14_RH_Aqueduct_Results_V01/input_V02/Y2018M12D11_RH_Master_Weights_GPD_V02.csv\n"
     ]
    }
   ],
   "source": [
    "!aws s3 cp {S3_INPUT_PATH_ANNUAL_NORMALIZED} {ec2_input_path} --recursive"
   ]
  },
  {
   "cell_type": "code",
   "execution_count": 5,
   "metadata": {},
   "outputs": [],
   "source": [
    "import os\n",
    "import sqlalchemy\n",
    "import pandas as pd\n",
    "import geopandas as gpd\n",
    "from google.cloud import bigquery\n",
    "\n",
    "\n",
    "os.environ[\"GOOGLE_APPLICATION_CREDENTIALS\"] = \"/.google.json\"\n",
    "os.environ[\"GOOGLE_CLOUD_PROJECT\"] = \"aqueduct30\"\n",
    "client = bigquery.Client(project=BQ_PROJECT_ID)"
   ]
  },
  {
   "cell_type": "code",
   "execution_count": 6,
   "metadata": {},
   "outputs": [],
   "source": [
    "F = open(\"/.password\",\"r\")\n",
    "password = F.read().splitlines()[0]\n",
    "F.close()\n",
    "\n",
    "engine = sqlalchemy.create_engine(\"postgresql://rutgerhofste:{}@{}:5432/{}\".format(password,RDS_DATABASE_ENDPOINT,RDS_DATABASE_NAME))\n",
    "connection = engine.connect()"
   ]
  },
  {
   "cell_type": "code",
   "execution_count": 7,
   "metadata": {
    "collapsed": true
   },
   "outputs": [],
   "source": [
    "total_out = {}"
   ]
  },
  {
   "cell_type": "markdown",
   "metadata": {},
   "source": [
    "# Master Geometry"
   ]
  },
  {
   "cell_type": "code",
   "execution_count": 8,
   "metadata": {
    "collapsed": true
   },
   "outputs": [],
   "source": [
    "sql = \"\"\"\n",
    "SELECT\n",
    "    aq30_id,\n",
    "    string_id,\n",
    "    pfaf_id,\n",
    "    gid_1, \n",
    "    aqid,\n",
    "    geom\n",
    "FROM {}\n",
    "\"\"\".format(RDS_MASTER_GEOM_TABLE)\n",
    "\n",
    "data_out ={}\n",
    "data_out[\"data\"] =gpd.GeoDataFrame.from_postgis(sql,engine,geom_col='geom')\n",
    "data_out[\"path\"] = os.path.join(ec2_output_path,\"master_geom\",\"master_geom\")\n",
    "total_out[\"master\"] = data_out"
   ]
  },
  {
   "cell_type": "markdown",
   "metadata": {},
   "source": [
    "# Annual results normalized"
   ]
  },
  {
   "cell_type": "code",
   "execution_count": 9,
   "metadata": {},
   "outputs": [],
   "source": [
    "source_path_annual_normalized = \"{}/Y2018M12D11_RH_Master_Weights_GPD_V02.pkl\".format(ec2_input_path)"
   ]
  },
  {
   "cell_type": "code",
   "execution_count": 10,
   "metadata": {
    "collapsed": true
   },
   "outputs": [],
   "source": [
    "data_out ={}\n",
    "data_out[\"data\"] = pd.read_pickle(source_path_annual_normalized)\n",
    "data_out[\"path\"] = destination_path_annual_normalized = os.path.join(ec2_output_path,\"annual\",\"annual_normalized\")\n",
    "total_out[\"annual_normalized\"] = data_out"
   ]
  },
  {
   "cell_type": "markdown",
   "metadata": {},
   "source": [
    "# Annual result pivoted"
   ]
  },
  {
   "cell_type": "code",
   "execution_count": 11,
   "metadata": {
    "collapsed": true
   },
   "outputs": [],
   "source": [
    "data_out ={}\n",
    "sql_annual_pivot = \"\"\"\n",
    "SELECT\n",
    "  * EXCEPT (geom)\n",
    "FROM\n",
    "  `{}.{}.{}`\n",
    "\"\"\".format(BQ_PROJECT_ID,BQ_DATASET_NAME,BQ_INPUT_TABLE[\"annual_pivot\"])\n",
    "data_out[\"data\"] = pd.read_gbq(query=sql_annual_pivot,\n",
    "                              dialect=\"standard\")\n",
    "data_out[\"path\"] = os.path.join(ec2_output_path,\"annual\",\"annual_pivot\")\n",
    "total_out[\"annual_pivot\"] = data_out"
   ]
  },
  {
   "cell_type": "markdown",
   "metadata": {},
   "source": [
    "# Monthly Results"
   ]
  },
  {
   "cell_type": "markdown",
   "metadata": {},
   "source": [
    "## Monthly Results | BWS"
   ]
  },
  {
   "cell_type": "code",
   "execution_count": 12,
   "metadata": {
    "collapsed": true
   },
   "outputs": [],
   "source": [
    "def process_bws():\n",
    "    sql = \"\"\"\n",
    "    SELECT\n",
    "      pfafid_30spfaf06 as pfaf_id,\n",
    "      temporal_resolution,\n",
    "      year,\n",
    "      month,\n",
    "      delta_id,\n",
    "      waterstress_raw_dimensionless_coalesced as raw,\n",
    "      waterstress_score_dimensionless_coalesced as score,\n",
    "      waterstress_category_dimensionless_coalesced as cat,\n",
    "      waterstress_label_dimensionless_coalesced as label\n",
    "    FROM\n",
    "      `{}.{}.{}`\n",
    "    WHERE\n",
    "      temporal_resolution  = 'month'\n",
    "      AND year = 2014\n",
    "    \"\"\".format(BQ_PROJECT_ID,BQ_DATASET_NAME,BQ_INPUT_TABLE[\"monthly_normalized_bws\"])\n",
    "    df = pd.read_gbq(query=sql,dialect=\"standard\")\n",
    "    # Setting arid and low water use score to 5\n",
    "    df.score.loc[df.score == -1] = 5\n",
    "    return df"
   ]
  },
  {
   "cell_type": "code",
   "execution_count": 13,
   "metadata": {},
   "outputs": [
    {
     "name": "stderr",
     "output_type": "stream",
     "text": [
      "/opt/anaconda3/envs/python35/lib/python3.5/site-packages/pandas/core/indexing.py:194: SettingWithCopyWarning: \n",
      "A value is trying to be set on a copy of a slice from a DataFrame\n",
      "\n",
      "See the caveats in the documentation: http://pandas.pydata.org/pandas-docs/stable/indexing.html#indexing-view-versus-copy\n",
      "  self._setitem_with_indexer(indexer, value)\n"
     ]
    }
   ],
   "source": [
    "data_out ={}\n",
    "data_out[\"data\"] = process_bws()\n",
    "data_out[\"path\"] = os.path.join(ec2_output_path,\"monthly\",\"monthly_bws\")\n",
    "total_out[\"monthly_bws\"] = data_out"
   ]
  },
  {
   "cell_type": "markdown",
   "metadata": {},
   "source": [
    "## Monthly Results  |  BWD"
   ]
  },
  {
   "cell_type": "code",
   "execution_count": 14,
   "metadata": {
    "collapsed": true
   },
   "outputs": [],
   "source": [
    "def process_bwd():\n",
    "    sql = \"\"\"\n",
    "    SELECT\n",
    "      pfafid_30spfaf06 as pfaf_id,\n",
    "      temporal_resolution,\n",
    "      year,\n",
    "      month,\n",
    "      delta_id,\n",
    "      waterdepletion_raw_dimensionless_coalesced as raw,\n",
    "      waterdepletion_score_dimensionless_coalesced as score,\n",
    "      waterdepletion_category_dimensionless_coalesced as cat,\n",
    "      waterdepletion_label_dimensionless_coalesced as label\n",
    "    FROM\n",
    "      `{}.{}.{}`\n",
    "    WHERE\n",
    "      temporal_resolution  = 'month'\n",
    "      AND year = 2014\n",
    "    \"\"\".format(BQ_PROJECT_ID,BQ_DATASET_NAME,BQ_INPUT_TABLE[\"monthly_normalized_bwd\"])\n",
    "    df = pd.read_gbq(query=sql,dialect=\"standard\")\n",
    "    # Setting arid and low water use score to 5\n",
    "    df.score.loc[df.score == -1] = 5\n",
    "    return  df"
   ]
  },
  {
   "cell_type": "code",
   "execution_count": 15,
   "metadata": {
    "scrolled": true
   },
   "outputs": [
    {
     "name": "stderr",
     "output_type": "stream",
     "text": [
      "/opt/anaconda3/envs/python35/lib/python3.5/site-packages/pandas/core/indexing.py:194: SettingWithCopyWarning: \n",
      "A value is trying to be set on a copy of a slice from a DataFrame\n",
      "\n",
      "See the caveats in the documentation: http://pandas.pydata.org/pandas-docs/stable/indexing.html#indexing-view-versus-copy\n",
      "  self._setitem_with_indexer(indexer, value)\n"
     ]
    }
   ],
   "source": [
    "data_out ={}\n",
    "data_out[\"data\"] = process_bwd()\n",
    "data_out[\"path\"] = os.path.join(ec2_output_path,\"monthly\",\"monthly_bwd\")\n",
    "total_out[\"monthly_bwd\"] = data_out"
   ]
  },
  {
   "cell_type": "markdown",
   "metadata": {},
   "source": [
    "## Monthly Results | IAV"
   ]
  },
  {
   "cell_type": "code",
   "execution_count": 16,
   "metadata": {
    "collapsed": true
   },
   "outputs": [],
   "source": [
    "def process_iav():\n",
    "    sql = \"\"\"\n",
    "    SELECT\n",
    "      pfafid_30spfaf06 as pfaf_id,\n",
    "      temporal_resolution,\n",
    "      year,\n",
    "      month,\n",
    "      delta_id,\n",
    "      iav_riverdischarge_m_coalesced as raw,\n",
    "      iav_riverdischarge_score_coalesced as score,\n",
    "      iav_riverdischarge_category_coalesced as cat,\n",
    "      iav_riverdischarge_label_coalesced as label\n",
    "    FROM\n",
    "      `{}.{}.{}`\n",
    "    WHERE\n",
    "      temporal_resolution = 'month'\n",
    "      AND year = 2014\n",
    "    \"\"\".format(BQ_PROJECT_ID,BQ_DATASET_NAME,BQ_INPUT_TABLE[\"monthly_normalized_iav\"])\n",
    "    df = pd.read_gbq(query=sql,dialect=\"standard\")\n",
    "    return  df"
   ]
  },
  {
   "cell_type": "code",
   "execution_count": 17,
   "metadata": {
    "collapsed": true
   },
   "outputs": [],
   "source": [
    "data_out ={}\n",
    "data_out[\"data\"] = process_iav()\n",
    "data_out[\"path\"] = os.path.join(ec2_output_path,\"monthly\",\"monthly_iav\")\n",
    "total_out[\"monthly_iav\"] = data_out"
   ]
  },
  {
   "cell_type": "markdown",
   "metadata": {},
   "source": [
    "#  FAO Basin Names"
   ]
  },
  {
   "cell_type": "markdown",
   "metadata": {},
   "source": [
    "## FAO Link"
   ]
  },
  {
   "cell_type": "code",
   "execution_count": 18,
   "metadata": {},
   "outputs": [],
   "source": [
    "sql_fao_link = \"\"\"\n",
    "SELECT\n",
    "    pfaf_id,\n",
    "    fao_id\n",
    "FROM {}\n",
    "\"\"\".format(RDS_FAO_LINK)"
   ]
  },
  {
   "cell_type": "code",
   "execution_count": 19,
   "metadata": {
    "collapsed": true
   },
   "outputs": [],
   "source": [
    "data_out ={}\n",
    "data_out[\"data\"] = pd.read_sql_query(sql=sql_fao_link,\n",
    "                                     con=connection)\n",
    "data_out[\"path\"] = os.path.join(ec2_output_path,\"fao\",\"fao_link\")\n",
    "total_out[\"fao_link\"] = data_out\n",
    "\n",
    "\n"
   ]
  },
  {
   "cell_type": "markdown",
   "metadata": {},
   "source": [
    "## FAO Minor"
   ]
  },
  {
   "cell_type": "code",
   "execution_count": 20,
   "metadata": {
    "collapsed": true
   },
   "outputs": [],
   "source": [
    "sql_fao_minor = \"\"\"\n",
    "SELECT\n",
    "    fao_id,\n",
    "    sub_bas,\n",
    "    to_bas,\n",
    "    maj_bas,\n",
    "    sub_name,\n",
    "    sub_area\n",
    "FROM {}\n",
    "\"\"\".format(RDS_FAO_MINOR)"
   ]
  },
  {
   "cell_type": "code",
   "execution_count": 21,
   "metadata": {
    "collapsed": true
   },
   "outputs": [],
   "source": [
    "data_out ={}\n",
    "data_out[\"data\"] = pd.read_sql_query(sql=sql_fao_minor,\n",
    "                                     con=connection)\n",
    "data_out[\"path\"] = os.path.join(ec2_output_path,\"fao\",\"fao_minor\")\n",
    "total_out[\"fao_minor\"] = data_out"
   ]
  },
  {
   "cell_type": "markdown",
   "metadata": {},
   "source": [
    "## FAO Major"
   ]
  },
  {
   "cell_type": "code",
   "execution_count": 22,
   "metadata": {
    "collapsed": true
   },
   "outputs": [],
   "source": [
    "sql_fao_major = \"\"\"\n",
    "SELECT\n",
    "    maj_bas,\n",
    "    maj_name,\n",
    "    maj_area\n",
    "FROM {}\n",
    "\"\"\".format(RDS_FAO_MAJOR)"
   ]
  },
  {
   "cell_type": "code",
   "execution_count": 23,
   "metadata": {
    "collapsed": true
   },
   "outputs": [],
   "source": [
    "data_out ={}\n",
    "data_out[\"data\"] = pd.read_sql_query(sql=sql_fao_major,\n",
    "                                     con=connection)\n",
    "data_out[\"path\"] = os.path.join(ec2_output_path,\"fao\",\"fao_major\")\n",
    "total_out[\"fao_major\"] = data_out"
   ]
  },
  {
   "cell_type": "markdown",
   "metadata": {},
   "source": [
    "# Industry Weights"
   ]
  },
  {
   "cell_type": "code",
   "execution_count": 24,
   "metadata": {
    "collapsed": true
   },
   "outputs": [],
   "source": [
    "sql_industry_weights = \"\"\"\n",
    "SELECT\n",
    "  id,\n",
    "  group_full,\n",
    "  group_short,\n",
    "  indicator_full,\n",
    "  indicator_short,\n",
    "  industry_full,\n",
    "  industry_short,\n",
    "  weight_abs,\n",
    "  weight_label,\n",
    "  weight_interpretation,\n",
    "  weight_fraction\n",
    "FROM\n",
    "  `{}.{}.{}`\n",
    "\"\"\".format(BQ_PROJECT_ID,BQ_DATASET_NAME,BQ_INPUT_TABLE[\"industry_weights\"])"
   ]
  },
  {
   "cell_type": "code",
   "execution_count": 25,
   "metadata": {},
   "outputs": [],
   "source": [
    "data_out ={}\n",
    "data_out[\"data\"] = pd.read_gbq(query=sql_industry_weights,\n",
    "                                dialect= \"standard\")\n",
    "data_out[\"path\"] = os.path.join(ec2_output_path,\"industry_weights\",\"industry_weights\")\n",
    "total_out[\"industry_weights\"] = data_out"
   ]
  },
  {
   "cell_type": "markdown",
   "metadata": {},
   "source": [
    "# GADM Country and Province Names"
   ]
  },
  {
   "cell_type": "code",
   "execution_count": 26,
   "metadata": {
    "collapsed": true
   },
   "outputs": [],
   "source": [
    "sql_gadm = \"\"\"\n",
    "SELECT\n",
    "  gid_1,\n",
    "  name_1,\n",
    "  gid_0,\n",
    "  name_0,\n",
    "  varname_1,\n",
    "  nl_name_1,\n",
    "  type_1,\n",
    "  engtype_1,\n",
    "  cc_1,\n",
    "  hasc_1\n",
    "FROM\n",
    "  `{}.{}.{}`\n",
    "\"\"\".format(BQ_PROJECT_ID,BQ_DATASET_NAME,BQ_INPUT_TABLE[\"gadm\"])"
   ]
  },
  {
   "cell_type": "code",
   "execution_count": 27,
   "metadata": {
    "collapsed": true
   },
   "outputs": [],
   "source": [
    "data_out ={}\n",
    "data_out[\"data\"] = df_gadm = pd.read_gbq(query=sql_gadm,\n",
    "                                         dialect=\"standard\")\n",
    "data_out[\"path\"] = os.path.join(ec2_output_path,\"gadm\",\"gadm\")\n",
    "total_out[\"gadm\"] = data_out"
   ]
  },
  {
   "cell_type": "markdown",
   "metadata": {},
   "source": [
    "## Export"
   ]
  },
  {
   "cell_type": "code",
   "execution_count": null,
   "metadata": {},
   "outputs": [
    {
     "name": "stdout",
     "output_type": "stream",
     "text": [
      "writing  fao_link  to:  /volumes/data/Y2019M01D14_RH_Aqueduct_Results_V01/output_V02/fao/fao_link\n",
      "writing  monthly_bwd  to:  /volumes/data/Y2019M01D14_RH_Aqueduct_Results_V01/output_V02/monthly/monthly_bwd\n",
      "writing  annual_normalized  to:  /volumes/data/Y2019M01D14_RH_Aqueduct_Results_V01/output_V02/annual/annual_normalized\n",
      "writing  annual_pivot  to:  /volumes/data/Y2019M01D14_RH_Aqueduct_Results_V01/output_V02/annual/annual_pivot\n",
      "writing  gadm  to:  /volumes/data/Y2019M01D14_RH_Aqueduct_Results_V01/output_V02/gadm/gadm\n",
      "writing  monthly_iav  to:  /volumes/data/Y2019M01D14_RH_Aqueduct_Results_V01/output_V02/monthly/monthly_iav\n",
      "writing  master  to:  /volumes/data/Y2019M01D14_RH_Aqueduct_Results_V01/output_V02/master_geom/master_geom\n"
     ]
    }
   ],
   "source": [
    "for key, data_out in total_out.items():\n",
    "    print(\"writing \", key, \" to: \", data_out[\"path\"])\n",
    "    \n",
    "    if key == \"master\":\n",
    "        data_out[\"data\"].to_file(filename=data_out[\"path\"]+\".gpkg\",\n",
    "                                 driver=\"GPKG\",\n",
    "                                 encoding ='utf-8')\n",
    "    else:\n",
    "        data_out[\"data\"].to_pickle(path=data_out[\"path\"]+\".pkl\")\n",
    "        data_out[\"data\"].to_csv(path_or_buf=data_out[\"path\"]+\".pkl\")\n",
    "    \n"
   ]
  },
  {
   "cell_type": "code",
   "execution_count": null,
   "metadata": {
    "collapsed": true
   },
   "outputs": [],
   "source": [
    "!aws s3 cp {ec2_output_path} {s3_output_path} --recursive"
   ]
  },
  {
   "cell_type": "code",
   "execution_count": null,
   "metadata": {
    "collapsed": true
   },
   "outputs": [],
   "source": [
    "end = datetime.datetime.now()\n",
    "elapsed = end - start\n",
    "print(elapsed)"
   ]
  },
  {
   "cell_type": "markdown",
   "metadata": {},
   "source": [
    "Previous runs:   \n"
   ]
  }
 ],
 "metadata": {
  "kernelspec": {
   "display_name": "Python 35",
   "language": "python",
   "name": "python35"
  },
  "language_info": {
   "codemirror_mode": {
    "name": "ipython",
    "version": 3
   },
   "file_extension": ".py",
   "mimetype": "text/x-python",
   "name": "python",
   "nbconvert_exporter": "python",
   "pygments_lexer": "ipython3",
   "version": "3.5.4"
  }
 },
 "nbformat": 4,
 "nbformat_minor": 2
}
