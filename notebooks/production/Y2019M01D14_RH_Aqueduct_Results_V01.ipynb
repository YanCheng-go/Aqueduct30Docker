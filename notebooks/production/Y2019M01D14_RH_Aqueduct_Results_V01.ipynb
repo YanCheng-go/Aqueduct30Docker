{
 "cells": [
  {
   "cell_type": "code",
   "execution_count": 32,
   "metadata": {},
   "outputs": [
    {
     "name": "stdout",
     "output_type": "stream",
     "text": [
      "RDS_MASTER_GEOM_TABLE:  y2018m12d06_rh_master_shape_v01_v02 \n",
      "s3_output_path:  s3://wri-projects/Aqueduct30/finalData/Y2019M01D14_RH_Aqueduct_Results_V01/output_V01/\n"
     ]
    }
   ],
   "source": [
    "\"\"\" Share Aqueduct results with external party in multiple formats. \n",
    "-------------------------------------------------------------------------------\n",
    "\n",
    "Author: Rutger Hofste\n",
    "Date: 20190114\n",
    "Kernel: python35\n",
    "Docker: rutgerhofste/gisdocker:ubuntu16.04\n",
    "\n",
    "The Aqueduct framework consist of 13 indicators. Each indicator has an \n",
    "associated geometry. \n",
    "\n",
    "There are 3 distinct geometries:\n",
    "hydrobasin level 6 (hydrological sub-basins),\n",
    "gadm level 1 (provinces) and \n",
    "whymap (groundwater aquifers)\n",
    "\n",
    "we created a \"master\"  geometry by taking the union of the 3 geometries. \n",
    "\n",
    "Indicator overview:\n",
    "\"indicator_name_short\", \"indicator_name_long\", \"geometry name\", \"identifier\"\n",
    "\"bws\", \"baseline water stress\", \"hydrobasin level 6\", \"pfaf_id\"\n",
    "\"bwd\", \"baseline water depletion\", \"hydrobasin level 6\", \"pfaf_id\"\n",
    "\"iav\", \"interannual variability\", \"hydrobasin level 6\", \"pfaf_id\"\n",
    "\"sev\", \"Seasonal Variability\",\"hydrobasin level 6\", \"pfaf_id\"\n",
    "\"gtd\", \"Groundwater Table Decline\", \"groundwater aquifer\", \"aqid\"\n",
    "\"drr\", \"Drought Risk\",\"hydrobasin level 6\", \"pfaf_id\"\n",
    "\"rfr\", \"Riverine Flood Risk\",\"hydrobasin level 6\", \"pfaf_id\"\n",
    "\"cfr\", \"Coastal Flood Risk\",\"hydrobasin level 6\", \"pfaf_id\"\n",
    "\"ucw\", \"Untreated Collected Wastewater\",\"country\",\"gid_0\"\n",
    "\"cep\", \"Coastal Eutrophication Potential\",\"hydrobasin level 6\", \"pfaf_id\"\n",
    "\"udw\", \"Unimproved/no drinking water\",\"hydrobasin level 6\", \"pfaf_id\"\n",
    "\"usa\", \"Unimproved/no sanitation\",\"hydrobasin level 6\", \"pfaf_id\"\n",
    "\"rri\", \"RepRisk Index,\"country\",\"gid_0\" \n",
    "\n",
    "10 indicators need to be joined at hydrobasin level 6, \n",
    "1 at groundwater aquifer level and \n",
    "2 at country (GADM level 0)\n",
    "\n",
    "Overall Water Risk\n",
    "\n",
    "A weighted average is calculated for three groups:\n",
    "\n",
    "Water Quantity,\n",
    "Water Quality,\n",
    "and Regulatory and Reputational\n",
    "\n",
    "The indicators are grouped as follows:\n",
    "\n",
    "Water Quantity\n",
    "    Baseline water stress\n",
    "    Baseline water depletion \n",
    "    Groundwater table decline \n",
    "    Interannual variability \n",
    "    Seasonal variability\n",
    "    Drought risk\n",
    "    Riverine flood risk \n",
    "    Coastal flood risk \n",
    "\n",
    "Water Quality\n",
    "    Untreated collected wastewater\n",
    "    Coastal eutrophication potential\n",
    "\n",
    "Regulatory and Reputational Risk\n",
    "    Unimproved/no drinking water \n",
    "    Unimproved/no sanitation\n",
    "    RepRisk Index (RRI)\n",
    "\n",
    "An Overall Water Risk Score is calculated by taking a weighted \n",
    "average of the three groups. \n",
    "\n",
    "The weights per indicator are calculated for 10 different industries:\n",
    "\n",
    "Default\n",
    "Agriculture\n",
    "Food & Beverage\n",
    "Chemicals\n",
    "Electric Power\n",
    "Semiconductor\n",
    "Oil & Gas\n",
    "Mining\n",
    "Construction Materials\n",
    "Textile\n",
    "\n",
    "Monthly Files:\n",
    "most of the 13 indicators are only available at an annual temporal resolution.\n",
    "For baseline water stress, baseline water depletion and interannual variability,\n",
    "we also have monthly data. Tables with these monthly values will be stored \n",
    "separately. \n",
    "\n",
    "\n",
    "Options for improvement:\n",
    "- for the drought indicator include hazard, exposure and vulnerability layers.\n",
    "- include gridded withdrawal per indicator.\n",
    "\n",
    "\n",
    "Output files:\n",
    "- Master shapefile\n",
    "- Annual results normalized\n",
    "- Annual result pivoted\n",
    "\n",
    "- Monthly results\n",
    "- Industry weights\n",
    "- FAO Basin Names\n",
    "- GADM Country and Province Names\n",
    "\n",
    "\n",
    "\"\"\"\n",
    "\n",
    "\n",
    "SCRIPT_NAME = 'Y2019M01D14_RH_Aqueduct_Results_V01'\n",
    "OUTPUT_VERSION = 1\n",
    "\n",
    "# GBQ\n",
    "BQ_PROJECT_ID = \"aqueduct30\"\n",
    "BQ_DATASET_NAME = \"aqueduct30v01\"\n",
    "\n",
    "BQ_INPUT_TABLE  = {}\n",
    "BQ_INPUT_TABLE[\"annual_normalized\"] = \"y2018m12d11_rh_master_weights_gpd_v02_v06\"\n",
    "\n",
    "# RDS\n",
    "RDS_DATABASE_ENDPOINT = \"aqueduct30v05.cgpnumwmfcqc.eu-central-1.rds.amazonaws.com\"\n",
    "RDS_DATABASE_NAME = \"database01\"\n",
    "RDS_MASTER_GEOM_TABLE = \"y2018m12d06_rh_master_shape_v01_v02\"\n",
    "\n",
    "ec2_input_path = \"/volumes/data/{}/input_V{:02.0f}\".format(SCRIPT_NAME,OUTPUT_VERSION) \n",
    "ec2_output_path = \"/volumes/data/{}/output_V{:02.0f}\".format(SCRIPT_NAME,OUTPUT_VERSION) \n",
    "s3_output_path = \"s3://wri-projects/Aqueduct30/finalData/{}/output_V{:02.0f}/\".format(SCRIPT_NAME,OUTPUT_VERSION)\n",
    "\n",
    "print(\"RDS_MASTER_GEOM_TABLE: \", RDS_MASTER_GEOM_TABLE,\n",
    "      \"\\ns3_output_path: \", s3_output_path)\n"
   ]
  },
  {
   "cell_type": "code",
   "execution_count": 7,
   "metadata": {},
   "outputs": [
    {
     "name": "stdout",
     "output_type": "stream",
     "text": [
      "Y2019M01D14 UTC 10:50\n"
     ]
    },
    {
     "data": {
      "text/plain": [
       "'3.5.4 |Anaconda, Inc.| (default, Nov 20 2017, 18:44:38) \\n[GCC 7.2.0]'"
      ]
     },
     "execution_count": 7,
     "metadata": {},
     "output_type": "execute_result"
    }
   ],
   "source": [
    "import time, datetime, sys\n",
    "dateString = time.strftime(\"Y%YM%mD%d\")\n",
    "timeString = time.strftime(\"UTC %H:%M\")\n",
    "start = datetime.datetime.now()\n",
    "print(dateString,timeString)\n",
    "sys.version"
   ]
  },
  {
   "cell_type": "code",
   "execution_count": 18,
   "metadata": {},
   "outputs": [],
   "source": [
    "!rm -r {ec2_output_path}\n",
    "!mkdir -p {ec2_output_path}\n",
    "!mkdir -p {ec2_output_path}/master_geom"
   ]
  },
  {
   "cell_type": "code",
   "execution_count": 19,
   "metadata": {
    "collapsed": true
   },
   "outputs": [],
   "source": [
    "import os\n",
    "import sqlalchemy\n",
    "import geopandas as gpd"
   ]
  },
  {
   "cell_type": "code",
   "execution_count": 10,
   "metadata": {},
   "outputs": [],
   "source": [
    "F = open(\"/.password\",\"r\")\n",
    "password = F.read().splitlines()[0]\n",
    "F.close()\n",
    "\n",
    "engine = sqlalchemy.create_engine(\"postgresql://rutgerhofste:{}@{}:5432/{}\".format(password,DATABASE_ENDPOINT,DATABASE_NAME))\n",
    "connection = engine.connect()"
   ]
  },
  {
   "cell_type": "markdown",
   "metadata": {},
   "source": [
    "# Master Geometry"
   ]
  },
  {
   "cell_type": "code",
   "execution_count": 14,
   "metadata": {
    "collapsed": true
   },
   "outputs": [],
   "source": [
    "sql = \"\"\"\n",
    "SELECT\n",
    "    aq30_id,\n",
    "    string_id,\n",
    "    pfaf_id,\n",
    "    gid_1, \n",
    "    aqid,\n",
    "    geom\n",
    "FROM {}\n",
    "\"\"\".format(RDS_MASTER_GEOM_TABLE)"
   ]
  },
  {
   "cell_type": "code",
   "execution_count": 15,
   "metadata": {
    "collapsed": true
   },
   "outputs": [],
   "source": [
    "gdf =gpd.GeoDataFrame.from_postgis(sql,engine,geom_col='geom')"
   ]
  },
  {
   "cell_type": "code",
   "execution_count": 25,
   "metadata": {},
   "outputs": [],
   "source": [
    "destination_path_master = os.path.join(ec2_output_path,\"master_geom\",\"master_geom.gpkg\")"
   ]
  },
  {
   "cell_type": "code",
   "execution_count": 26,
   "metadata": {},
   "outputs": [
    {
     "data": {
      "text/plain": [
       "'/volumes/data/Y2019M01D14_RH_Aqueduct_Results_V01/output_V01/master_geom/master_geom.gpkg'"
      ]
     },
     "execution_count": 26,
     "metadata": {},
     "output_type": "execute_result"
    }
   ],
   "source": [
    "destination_path_master"
   ]
  },
  {
   "cell_type": "code",
   "execution_count": 27,
   "metadata": {
    "collapsed": true
   },
   "outputs": [],
   "source": [
    "gdf = gdf[0:100]"
   ]
  },
  {
   "cell_type": "code",
   "execution_count": 28,
   "metadata": {},
   "outputs": [],
   "source": [
    "gdf.to_file(filename=destination_path_master,driver=\"GPKG\",encoding ='utf-8')"
   ]
  },
  {
   "cell_type": "markdown",
   "metadata": {},
   "source": [
    "# Annual results normalized"
   ]
  },
  {
   "cell_type": "code",
   "execution_count": 33,
   "metadata": {},
   "outputs": [],
   "source": [
    "sql_annual_normalize = \"\"\"\n",
    "SELECT\n",
    "  string_id,\n",
    "  indicator,\n",
    "  group_short,\n",
    "  industry_short,\n",
    "  raw,\n",
    "  score,\n",
    "  cat,\n",
    "  label,\n",
    "  weight_fraction,\n",
    "  weighted_score\n",
    "FROM\n",
    "  `{}.{}.{}`\n",
    "\"\"\".format(BQ_PROJECT_ID,BQ_DATASET_NAME,BQ_INPUT_TABLE[\"annual_normalized\"])"
   ]
  },
  {
   "cell_type": "code",
   "execution_count": 35,
   "metadata": {},
   "outputs": [
    {
     "name": "stdout",
     "output_type": "stream",
     "text": [
      "\n",
      "SELECT\n",
      "  string_id,\n",
      "  indicator,\n",
      "  group_short,\n",
      "  industry_short,\n",
      "  raw,\n",
      "  score,\n",
      "  cat,\n",
      "  label,\n",
      "  weight_fraction,\n",
      "  weighted_score\n",
      "FROM\n",
      "  `aqueduct30.aqueduct30v01.y2018m12d11_rh_master_weights_gpd_v02_v06`\n",
      "\n"
     ]
    }
   ],
   "source": [
    "print(sql_annual_normalize)"
   ]
  },
  {
   "cell_type": "markdown",
   "metadata": {},
   "source": [
    "# Annual result pivoted"
   ]
  },
  {
   "cell_type": "markdown",
   "metadata": {},
   "source": [
    "# Monthly Resuls"
   ]
  },
  {
   "cell_type": "code",
   "execution_count": null,
   "metadata": {
    "collapsed": true
   },
   "outputs": [],
   "source": []
  },
  {
   "cell_type": "markdown",
   "metadata": {},
   "source": [
    "#  FAO Basin Names"
   ]
  },
  {
   "cell_type": "markdown",
   "metadata": {},
   "source": [
    "# Industry Weights"
   ]
  },
  {
   "cell_type": "markdown",
   "metadata": {},
   "source": [
    "# GADM Country and Province Names"
   ]
  },
  {
   "cell_type": "code",
   "execution_count": null,
   "metadata": {
    "collapsed": true
   },
   "outputs": [],
   "source": []
  }
 ],
 "metadata": {
  "kernelspec": {
   "display_name": "Python 35",
   "language": "python",
   "name": "python35"
  },
  "language_info": {
   "codemirror_mode": {
    "name": "ipython",
    "version": 3
   },
   "file_extension": ".py",
   "mimetype": "text/x-python",
   "name": "python",
   "nbconvert_exporter": "python",
   "pygments_lexer": "ipython3",
   "version": "3.5.4"
  }
 },
 "nbformat": 4,
 "nbformat_minor": 2
}
