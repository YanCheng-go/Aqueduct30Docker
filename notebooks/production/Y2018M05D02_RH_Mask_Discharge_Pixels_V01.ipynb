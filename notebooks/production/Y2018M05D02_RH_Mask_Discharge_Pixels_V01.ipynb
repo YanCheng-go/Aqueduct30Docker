{
 "cells": [
  {
   "cell_type": "code",
   "execution_count": 1,
   "metadata": {},
   "outputs": [
    {
     "name": "stdout",
     "output_type": "stream",
     "text": [
      "Output ee: projects/WRI-Aquaduct/Y2018M05D02_RH_Mask_Discharge_Pixels_V01/output_V01\n"
     ]
    }
   ],
   "source": [
    "\"\"\" Find the pixels to mask within each basin to use for river discharge. \n",
    "-------------------------------------------------------------------------------\n",
    "\n",
    "The riverdischarge data from PCRGLOBWB is cummulative runoff. The available\n",
    "discharge is the maximum discharge with a few exceptions. These exceptions\n",
    "occur as a result of a mismatch of the PCRGLOBWB local drainage direction and\n",
    "the hydrobasin level 6 subbasins. \n",
    "\n",
    "- A basin has a few cells that belong to another stream, \n",
    "    often close to the most downstream pixel.\n",
    "- A basin has a few cells that are an endorheic upstream basin.\n",
    "\n",
    "There are several subbasin types:\n",
    "\n",
    "1) Large stream in only one cell. perpendicular contributing areas. \n",
    "    e.g.: 172265.\n",
    "2) Large stream in a few cells, perpendicular contributing areas. \n",
    "    e.g.: 172263.\n",
    "3) Tiny basin smaller than one 5min cell.\n",
    "    e.g.: 172261.\n",
    "4) Large basin with main stream.\n",
    "    e.g.: 172250.\n",
    "5) Large basin with main stream and other stream in most downstream cell. \n",
    "    e.g.: 172306.\n",
    "6) Small basin with a confluence within basin. Stream_order increases in most \n",
    "    downstream cell but is part of basin. \n",
    "    e.g.: 172521.\n",
    "7) Basin with an endorheac basin in one of its upstream cells.\n",
    "    e.g.: 172144.\n",
    "8) Large basin with main stream and other stream with large flow but lower \n",
    "    stream order.\n",
    "    e.g.: To be found. \n",
    "    \n",
    "The cell of highest streamorder will be masked for 5) and 7)\n",
    "No mask will be applied to the other categories. \n",
    "\n",
    "\n",
    "\n",
    "Author: Rutger Hofste\n",
    "Date: 20180502\n",
    "Kernel: python35\n",
    "Docker: rutgerhofste/gisdocker:ubuntu16.04\n",
    "\n",
    "Args:\n",
    "\n",
    "    SCRIPT_NAME (string) : Script name.\n",
    "    OUTPUT_VERSION (integer) : Output version.\n",
    "\n",
    "          \n",
    "\n",
    "\n",
    "Returns:\n",
    "\n",
    "\n",
    "\"\"\"\n",
    "\n",
    "# Input Parameters\n",
    "SCRIPT_NAME = \"Y2018M05D02_RH_Mask_Discharge_Pixels_V01\"\n",
    "STREAM_ORDER_ASSET_ID = \"projects/WRI-Aquaduct/Y2018M04D25_RH_Ingest_Pcraster_GCS_EE_V01/output_V01/global_streamorder_dimensionless_05min_V02\"\n",
    "HYBAS_LEV06_30S_ASSET_ID = \"projects/WRI-Aquaduct/Y2018M04D20_RH_Ingest_HydroBasins_GCS_EE_V01/output_V02/hybas_lev06_v1c_merged_fiona_30s_V04\"\n",
    "AREA_M2_30S_ASSET_ID = \"projects/WRI-Aquaduct/PCRGlobWB20_Aux_V02/global_area_m2_30s_V05\"\n",
    "OUTPUT_VERSION = 1\n",
    "\n",
    "COUNT_AREA_THRESHOLD_30S = 1000 # corresponds to 10 5min cells\n",
    "SUM_MAX_STREAMORDER_THRESHOLD_30S = 150 # corresponds to 1.5 5min cells\n",
    "\n",
    "SCHEMA = [\"geographic_range\",\n",
    "      \"indicator\",\n",
    "      \"unit\",\n",
    "      \"spatial_resolution\",\n",
    "      ]\n",
    "\n",
    "EXTRA_PROPERTIES = {\"nodata_value\":-9999,\n",
    "                    \"ingested_by\" : \"RutgerHofste\",\n",
    "                    \"script_used\": SCRIPT_NAME,\n",
    "                    \"output_version\":OUTPUT_VERSION}\n",
    "\n",
    "ee_output_path = \"projects/WRI-Aquaduct/{}/output_V{:02.0f}\".format(SCRIPT_NAME,OUTPUT_VERSION)\n",
    "\n",
    "print(\"Output ee: \" +  ee_output_path)\n"
   ]
  },
  {
   "cell_type": "code",
   "execution_count": 2,
   "metadata": {},
   "outputs": [
    {
     "name": "stdout",
     "output_type": "stream",
     "text": [
      "Y2018M05D03 UTC 10:18\n"
     ]
    },
    {
     "data": {
      "text/plain": [
       "'3.5.4 |Anaconda, Inc.| (default, Nov 20 2017, 18:44:38) \\n[GCC 7.2.0]'"
      ]
     },
     "execution_count": 2,
     "metadata": {},
     "output_type": "execute_result"
    }
   ],
   "source": [
    "import time, datetime, sys, logging\n",
    "dateString = time.strftime(\"Y%YM%mD%d\")\n",
    "timeString = time.strftime(\"UTC %H:%M\")\n",
    "start = datetime.datetime.now()\n",
    "print(dateString,timeString)\n",
    "sys.version"
   ]
  },
  {
   "cell_type": "code",
   "execution_count": 3,
   "metadata": {
    "collapsed": true
   },
   "outputs": [],
   "source": [
    "import pandas as pd\n",
    "import ee\n",
    "import aqueduct3\n",
    "ee.Initialize()\n",
    "\n"
   ]
  },
  {
   "cell_type": "code",
   "execution_count": 8,
   "metadata": {},
   "outputs": [
    {
     "ename": "AttributeError",
     "evalue": "'Element' object has no attribute 'multiply'",
     "output_type": "error",
     "traceback": [
      "\u001b[0;31m---------------------------------------\u001b[0m",
      "\u001b[0;31mAttributeError\u001b[0mTraceback (most recent call last)",
      "\u001b[0;32m<ipython-input-8-dff56ffedc31>\u001b[0m in \u001b[0;36m<module>\u001b[0;34m()\u001b[0m\n\u001b[1;32m     52\u001b[0m \u001b[0mcount_area_mask\u001b[0m \u001b[0;34m=\u001b[0m \u001b[0mcount_area_mask\u001b[0m\u001b[0;34m.\u001b[0m\u001b[0mcopyProperties\u001b[0m\u001b[0;34m(\u001b[0m\u001b[0mi_count_area\u001b[0m\u001b[0;34m,\u001b[0m\u001b[0mexclude\u001b[0m\u001b[0;34m=\u001b[0m\u001b[0;34m[\u001b[0m\u001b[0;34m]\u001b[0m\u001b[0;34m)\u001b[0m\u001b[0;34m\u001b[0m\u001b[0m\n\u001b[1;32m     53\u001b[0m \u001b[0msum_max_streamorder_mask\u001b[0m \u001b[0;34m=\u001b[0m \u001b[0mi_sum_max_streamorder\u001b[0m\u001b[0;34m.\u001b[0m\u001b[0mlt\u001b[0m\u001b[0;34m(\u001b[0m\u001b[0mSUM_MAX_STREAMORDER_THRESHOLD_30S\u001b[0m\u001b[0;34m)\u001b[0m\u001b[0;34m\u001b[0m\u001b[0m\n\u001b[0;32m---> 54\u001b[0;31m \u001b[0mmask\u001b[0m \u001b[0;34m=\u001b[0m \u001b[0mcount_area_mask\u001b[0m\u001b[0;34m.\u001b[0m\u001b[0mmultiply\u001b[0m\u001b[0;34m(\u001b[0m\u001b[0msum_max_streamorder_mask\u001b[0m\u001b[0;34m)\u001b[0m\u001b[0;34m\u001b[0m\u001b[0m\n\u001b[0m\u001b[1;32m     55\u001b[0m \u001b[0;34m\u001b[0m\u001b[0m\n\u001b[1;32m     56\u001b[0m \u001b[0moutput_dict\u001b[0m\u001b[0;34m[\u001b[0m\u001b[0;34m\"count_area_mask\"\u001b[0m\u001b[0;34m]\u001b[0m \u001b[0;34m=\u001b[0m \u001b[0mcount_area_mask\u001b[0m\u001b[0;34m\u001b[0m\u001b[0m\n",
      "\u001b[0;31mAttributeError\u001b[0m: 'Element' object has no attribute 'multiply'"
     ]
    }
   ],
   "source": [
    "output_dict = {}\n",
    "\n",
    "spatial_resolution = \"30s\"\n",
    "geometry_server_side = aqueduct3.earthengine.get_global_geometry(test=True)\n",
    "geometry_client_side = geometry_server_side.getInfo()['coordinates']\n",
    "crs_transform = aqueduct3.earthengine.get_crs_transform(spatial_resolution)\n",
    "\n",
    "i_zones = ee.Image(HYBAS_LEV06_30S_ASSET_ID)\n",
    "\n",
    "i_global_area_m2_30s = ee.Image(AREA_M2_30S_ASSET_ID)\n",
    "i_global_streamorder = ee.Image(STREAM_ORDER_ASSET_ID)\n",
    "\n",
    "\n",
    "\n",
    "\n",
    "\n",
    "# Sum and count of area per zone\n",
    "sum_area_result_list = aqueduct3.earthengine.raster_zonal_stats(\n",
    "                                                i_zones = i_zones,\n",
    "                                                i_values = i_global_area_m2_30s,\n",
    "                                                statistic_type = \"sum\",\n",
    "                                                geometry = geometry_server_side,\n",
    "                                                crs_transform = crs_transform,\n",
    "                                                crs=\"EPSG:4326\")\n",
    "i_sum_area, i_count_area = aqueduct3.earthengine.zonal_stats_results_to_image(sum_area_result_list,i_zones,\"sum\")\n",
    "output_dict[\"i_sum_area\"] = i_sum_area\n",
    "output_dict[\"i_count_area\"] = i_count_area\n",
    "\n",
    "# Max streamorder per zone\n",
    "result_list_max_streamorder = aqueduct3.earthengine.raster_zonal_stats(\n",
    "                                                        i_zones = i_zones,\n",
    "                                                        i_values = i_global_streamorder,\n",
    "                                                        statistic_type = \"max\",\n",
    "                                                        geometry = geometry_server_side,\n",
    "                                                        crs_transform = crs_transform,\n",
    "                                                        crs=\"EPSG:4326\")\n",
    "\n",
    "i_max_streamorder, i_count_streamorder  = aqueduct3.earthengine.zonal_stats_results_to_image(result_list_max_streamorder,i_zones,\"max\")\n",
    "output_dict[\"i_max_streamorder\"] = i_max_streamorder\n",
    "\n",
    "i_max_streamorder_mask = i_max_streamorder.eq(i_global_streamorder)\n",
    "output_dict[\"i_max_streamorder_mask\"] = i_max_streamorder_mask\n",
    "\n",
    "# Sum of max_streamorder. Number of 30s cells within zones that have the highest streamorder.\n",
    "result_list_sum_max_streamorder = aqueduct3.earthengine.raster_zonal_stats(\n",
    "                                                            i_zones = i_zones,\n",
    "                                                            i_values = i_max_streamorder_mask,\n",
    "                                                            statistic_type = \"sum\",\n",
    "                                                            geometry = geometry_server_side,\n",
    "                                                            crs_transform = crs_transform,\n",
    "                                                            crs=\"EPSG:4326\")\n",
    "i_sum_max_streamorder, i_count_sum_max_streamorder  = aqueduct3.earthengine.zonal_stats_results_to_image(result_list_sum_max_streamorder,i_zones,\"sum\")\n",
    "output_dict[\"i_sum_max_streamorder\"] = i_sum_max_streamorder\n",
    "\n",
    "count_area_mask = i_count_area.gt(COUNT_AREA_THRESHOLD_30S)\n",
    "count_area_mask = count_area_mask.copyProperties(i_count_area,properties=[\"reducer\",\"unit\",\"zones\",\"spatial_resolution\"])\n",
    "sum_max_streamorder_mask = i_sum_max_streamorder.lt(SUM_MAX_STREAMORDER_THRESHOLD_30S)\n",
    "mask = count_area_mask.multiply(sum_max_streamorder_mask)\n",
    "\n",
    "output_dict[\"count_area_mask\"] = count_area_mask\n",
    "output_dict[\"sum_max_streamorder_mask\"] = sum_max_streamorder_mask\n",
    "output_dict[\"mask\"] = mask\n"
   ]
  },
  {
   "cell_type": "code",
   "execution_count": 11,
   "metadata": {},
   "outputs": [
    {
     "data": {
      "text/plain": [
       "{'bands': [{'crs': 'EPSG:4326',\n",
       "   'crs_transform': [0.008333333333333333,\n",
       "    0.0,\n",
       "    -180.0,\n",
       "    0.0,\n",
       "    -0.008333333333333333,\n",
       "    90.0],\n",
       "   'data_type': {'precision': 'float', 'type': 'PixelType'},\n",
       "   'dimensions': [43200, 21600],\n",
       "   'id': 'area'}],\n",
       " 'id': 'projects/WRI-Aquaduct/PCRGlobWB20_Aux_V02/global_area_m2_30s_V05',\n",
       " 'properties': {'exportdescription': 'global_area_m2_30s',\n",
       "  'ingested_by': 'RutgerHofste',\n",
       "  'output_version': 5.0,\n",
       "  'script_used': 'Y2017M09D05_RH_Create_Area_Image_EE_V01',\n",
       "  'spatial_resolution': '30s',\n",
       "  'system:asset_size': 22369368,\n",
       "  'system:footprint': {'coordinates': [[-180.0, -90.0],\n",
       "    [180.0, -90.0],\n",
       "    [180.0, 90.0],\n",
       "    [-180.0, 90.0],\n",
       "    [-180.0, -90.0]],\n",
       "   'type': 'LinearRing'},\n",
       "  'unit': 'm2'},\n",
       " 'type': 'Image',\n",
       " 'version': 1524128045552286}"
      ]
     },
     "execution_count": 11,
     "metadata": {},
     "output_type": "execute_result"
    }
   ],
   "source": [
    "i_global_area_m2_30s.getInfo()"
   ]
  },
  {
   "cell_type": "code",
   "execution_count": 10,
   "metadata": {},
   "outputs": [
    {
     "data": {
      "text/plain": [
       "{'bands': [{'crs': 'EPSG:4326',\n",
       "   'crs_transform': [0.008333333333333333,\n",
       "    0.0,\n",
       "    -180.0,\n",
       "    0.0,\n",
       "    -0.008333333333333333,\n",
       "    90.0],\n",
       "   'data_type': {'max': 41700,\n",
       "    'min': 3,\n",
       "    'precision': 'int',\n",
       "    'type': 'PixelType'},\n",
       "   'dimensions': [43200, 21600],\n",
       "   'id': 'count'}],\n",
       " 'id': 'projects/WRI-Aquaduct/Y2018M04D20_RH_Ingest_HydroBasins_GCS_EE_V01/output_V02/hybas_lev06_v1c_merged_fiona_30s_V04',\n",
       " 'properties': {'WWF_lakes': 'standard_no_lakes',\n",
       "  'WWF_version': 'v1c',\n",
       "  'algorithm_used_for_merge': 'fiona',\n",
       "  'exportdescription': 'hybas_lev06_v1c_merged_fiona_30s_V04',\n",
       "  'extension': 'tif',\n",
       "  'file_name': 'hybas_lev06_v1c_merged_fiona_30s_V04',\n",
       "  'geographic_range': 'merged',\n",
       "  'indicator': 'hybas',\n",
       "  'ingested_by': 'RutgerHofste',\n",
       "  'output_version': 2.0,\n",
       "  'parameter': 'hybas_lev06_v1c_merged_fiona_30s_V04',\n",
       "  'pfafstetter_level': 'lev06',\n",
       "  'reducer': 'count',\n",
       "  'script_used': 'Y2018M04D20_RH_Ingest_HydroBasins_GCS_EE_V01',\n",
       "  'spatial_resolution': '30sPfaf06',\n",
       "  'system:asset_size': 26172151,\n",
       "  'system:footprint': {'coordinates': [[-180.0, -90.0],\n",
       "    [180.0, -90.0],\n",
       "    [180.0, 90.0],\n",
       "    [-180.0, 90.0],\n",
       "    [-180.0, -90.0]],\n",
       "   'type': 'LinearRing'},\n",
       "  'unit': 'dimensionless',\n",
       "  'zones': 'hybas_lev06_v1c_merged_fiona_30s_V04'},\n",
       " 'type': 'Image',\n",
       " 'version': 1525336418820106}"
      ]
     },
     "execution_count": 10,
     "metadata": {},
     "output_type": "execute_result"
    }
   ],
   "source": [
    "i_count_area.getInfo()"
   ]
  },
  {
   "cell_type": "code",
   "execution_count": null,
   "metadata": {
    "collapsed": true
   },
   "outputs": [],
   "source": [
    "# rasters to export:\n",
    "i_sum_area\n",
    "i_count_area\n",
    "i_max_streamorder\n",
    "i_sum_max_streamorder\n",
    "mask \n",
    "\n"
   ]
  },
  {
   "cell_type": "code",
   "execution_count": null,
   "metadata": {
    "collapsed": true
   },
   "outputs": [],
   "source": []
  },
  {
   "cell_type": "code",
   "execution_count": null,
   "metadata": {
    "collapsed": true
   },
   "outputs": [],
   "source": [
    "output_asset_id = \"users/rutgerhofste/test/i_count_area\""
   ]
  },
  {
   "cell_type": "code",
   "execution_count": null,
   "metadata": {
    "collapsed": true
   },
   "outputs": [],
   "source": [
    "dimensions = aqueduct3.earthengine.get_dimensions(\"30s\")"
   ]
  },
  {
   "cell_type": "code",
   "execution_count": null,
   "metadata": {},
   "outputs": [],
   "source": [
    "task = ee.batch.Export.image.toAsset(\n",
    "    image =  i_count_area,\n",
    "    assetId = output_asset_id,\n",
    "    description = \"area\",\n",
    "    region = geometry_client_side,\n",
    "    #dimensions = dimensions,\n",
    "    crs = \"EPSG:4326\",\n",
    "    crsTransform = crs_transform,\n",
    "    maxPixels = 1e10     \n",
    ")\n",
    "task.start()"
   ]
  },
  {
   "cell_type": "code",
   "execution_count": null,
   "metadata": {
    "collapsed": true
   },
   "outputs": [],
   "source": []
  },
  {
   "cell_type": "code",
   "execution_count": null,
   "metadata": {
    "collapsed": true
   },
   "outputs": [],
   "source": []
  },
  {
   "cell_type": "code",
   "execution_count": null,
   "metadata": {
    "collapsed": true
   },
   "outputs": [],
   "source": []
  },
  {
   "cell_type": "code",
   "execution_count": null,
   "metadata": {
    "collapsed": true
   },
   "outputs": [],
   "source": []
  }
 ],
 "metadata": {
  "kernelspec": {
   "display_name": "Python 35",
   "language": "python",
   "name": "python35"
  },
  "language_info": {
   "codemirror_mode": {
    "name": "ipython",
    "version": 3
   },
   "file_extension": ".py",
   "mimetype": "text/x-python",
   "name": "python",
   "nbconvert_exporter": "python",
   "pygments_lexer": "ipython3",
   "version": "3.5.4"
  }
 },
 "nbformat": 4,
 "nbformat_minor": 2
}
