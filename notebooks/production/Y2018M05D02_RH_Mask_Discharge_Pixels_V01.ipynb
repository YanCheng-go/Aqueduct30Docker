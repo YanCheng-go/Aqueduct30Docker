{
 "cells": [
  {
   "cell_type": "code",
   "execution_count": 1,
   "metadata": {},
   "outputs": [
    {
     "name": "stdout",
     "output_type": "stream",
     "text": [
      "Output ee: projects/WRI-Aquaduct/Y2018M05D02_RH_Mask_Discharge_Pixels_V01/output_V01\n"
     ]
    }
   ],
   "source": [
    "\"\"\" Find the pixels to mask within each basin to use for river discharge. \n",
    "-------------------------------------------------------------------------------\n",
    "\n",
    "The riverdischarge data from PCRGLOBWB is cummulative runoff. The available\n",
    "discharge is the maximum discharge with a few exceptions. These exceptions\n",
    "occur as a result of a mismatch of the PCRGLOBWB local drainage direction and\n",
    "the hydrobasin level 6 subbasins. \n",
    "\n",
    "- A basin has a few cells that belong to another stream. \n",
    "    Often close to the most downstream pixel.\n",
    "- A basin has a few cells that are an endorheic upstream basin.\n",
    "\n",
    "There are several subbasin types:\n",
    "\n",
    "1) Large stream in only one cell. perpendicular contributing areas. \n",
    "    e.g.: 172265.\n",
    "2) Large stream in a few cells, perpendicular contributing areas. \n",
    "    e.g.: 172263.\n",
    "3) Tiny basin smaller than one 5min cell.\n",
    "    e.g.: 172261.\n",
    "4) Large basin with main stream.\n",
    "    e.g.: 172250.\n",
    "5) Large basin with main stream and other stream in most downstream cell. \n",
    "    e.g.: 172306.\n",
    "6) Small basin with a confluence within basin. Stream_order increases in most \n",
    "    downstream cell but is part of basin. \n",
    "    e.g.: 172521.\n",
    "7) Basin with an endorheac basin in one of its upstream cells.\n",
    "    e.g.: 172144.\n",
    "8) Large basin with main stream and other stream with large flow but lower \n",
    "    stream order.\n",
    "    e.g.: To be found. \n",
    "    \n",
    "The cell of highest streamorder will be masked for 5) and 7)\n",
    "No mask will be applied to the other categories. \n",
    "\n",
    "Author: Rutger Hofste\n",
    "Date: 20180502\n",
    "Kernel: python35\n",
    "Docker: rutgerhofste/gisdocker:ubuntu16.04\n",
    "\n",
    "Args:\n",
    "\n",
    "    SCRIPT_NAME (string) : Script name.\n",
    "    OUTPUT_VERSION (integer) : Output version.\n",
    "\n",
    "\n",
    "Returns:\n",
    "\n",
    "\n",
    "\"\"\"\n",
    "\n",
    "# Input Parameters\n",
    "SCRIPT_NAME = \"Y2018M05D02_RH_Mask_Discharge_Pixels_V01\"\n",
    "STREAM_ORDER_ASSET_ID = \"projects/WRI-Aquaduct/Y2018M04D25_RH_Ingest_Pcraster_GCS_EE_V01/output_V01/global_streamorder_dimensionless_05min_V02\"\n",
    "HYBAS_LEV06_30S_ASSET_ID = \"projects/WRI-Aquaduct/Y2018M04D20_RH_Ingest_HydroBasins_GCS_EE_V01/output_V01/hybas_lev06_v1c_merged_fiona_30s_V04\"\n",
    "GLOBAL_AREA_M2_30S_ASSET_ID = \"projects/WRI-Aquaduct/PCRGlobWB20_Aux_V02/global_area_m2_30s_V05\"\n",
    "OUTPUT_VERSION = 1\n",
    "\n",
    "ee_output_path = \"projects/WRI-Aquaduct/{}/output_V{:02.0f}\".format(SCRIPT_NAME,OUTPUT_VERSION)\n",
    "\n",
    "print(\"Output ee: \" +  ee_output_path)\n",
    "\n"
   ]
  },
  {
   "cell_type": "code",
   "execution_count": 2,
   "metadata": {},
   "outputs": [
    {
     "name": "stdout",
     "output_type": "stream",
     "text": [
      "Y2018M05D02 UTC 16:03\n"
     ]
    },
    {
     "data": {
      "text/plain": [
       "'3.5.4 |Anaconda, Inc.| (default, Nov 20 2017, 18:44:38) \\n[GCC 7.2.0]'"
      ]
     },
     "execution_count": 2,
     "metadata": {},
     "output_type": "execute_result"
    }
   ],
   "source": [
    "import time, datetime, sys, logging\n",
    "dateString = time.strftime(\"Y%YM%mD%d\")\n",
    "timeString = time.strftime(\"UTC %H:%M\")\n",
    "start = datetime.datetime.now()\n",
    "print(dateString,timeString)\n",
    "sys.version"
   ]
  },
  {
   "cell_type": "code",
   "execution_count": 3,
   "metadata": {
    "collapsed": true
   },
   "outputs": [],
   "source": [
    "import pandas as pd\n",
    "import ee\n",
    "import aqueduct3\n",
    "ee.Initialize()\n",
    "\n"
   ]
  },
  {
   "cell_type": "code",
   "execution_count": 4,
   "metadata": {},
   "outputs": [],
   "source": [
    "\n",
    "# Count pixels per basin and total area\n",
    "spatial_resolution = \"30s\"\n",
    "total_image = ee.Image(GLOBAL_AREA_M2_30S_ASSET_ID).addBands(ee.Image(HYBAS_LEV06_30S_ASSET_ID))\n",
    "reducer = ee.Reducer.sum().combine(reducer2= ee.Reducer.count(), sharedInputs= True).group(groupField=1, groupName= \"zones\")\n",
    "geometry_server_side = aqueduct3.earthengine.get_global_geometry(test=True)\n",
    "geometry_client_side = geometry_server_side.getInfo()['coordinates']\n",
    "crs_transform = aqueduct3.earthengine.get_crs_transform(spatial_resolution)\n",
    "\n",
    "\n"
   ]
  },
  {
   "cell_type": "code",
   "execution_count": 5,
   "metadata": {
    "collapsed": true
   },
   "outputs": [],
   "source": [
    "def ensure_default_properties(obj): \n",
    "    obj = ee.Dictionary(obj)\n",
    "    default_properties = ee.Dictionary({\"mean\": -9999,\"count\": -9999,\"max\":-9999})\n",
    "    return default_properties.combine(obj)\n",
    "\n",
    "def map_list(results, key):\n",
    "    new_result = results.map(lambda x: ee.Dictionary(x).get(key))\n",
    "    return new_result\n",
    "\n",
    "\n",
    "def raster_zonal_stats(i_zones,i_values,statistic_type,geometry, crs_transform,crs=\"EPSG:4326\"):\n",
    "    \"\"\" Zonal Statistics using raster zones and values.\n",
    "    -------------------------------------------------------------------------------\n",
    "    Output options include a ee.FeatureCollection, pd.DataFrame or ee.Image.\n",
    "    The count is always included in the output results. \n",
    "    \n",
    "    crs transform can be obtained by the get_crs_transform function.\n",
    "    \n",
    "    Note that if a zone does not contain data, the value is missing from the\n",
    "    dictionary in the list.\n",
    "    \n",
    "    Args:\n",
    "        i_zones (ee.Image) : Integer image with zones.\n",
    "        i_values (ee.Image) : Image with values.\n",
    "        statistic_type (string) : Statistics type like 'mean', 'sum'.\n",
    "        geometry (ee.Geometry) : Geometry defining extent of calculation.\n",
    "        nodata_value (integer) : nodata value. Defaults to -9999.\n",
    "        crs_transform (list) : crs transform. \n",
    "        crs (string) : crs, deafults to 'EPSG:4326'.\n",
    "        \n",
    "    Returns:\n",
    "        result_list (ee.List) : list of dictionaries with keys 'zones','count'\n",
    "            and 'mean/max/sum etc.'. \n",
    "            \n",
    "    \"\"\"\n",
    "    \n",
    "    \n",
    "    if statistic_type == \"mean\":\n",
    "        reducer = ee.Reducer.mean().combine(reducer2= ee.Reducer.count(), sharedInputs= True).group(groupField=1, groupName= \"zones\")\n",
    "    elif statistic_type == \"max\":\n",
    "        reducer = ee.Reducer.max().combine(reducer2= ee.Reducer.count(), sharedInputs= True).group(groupField=1, groupName= \"zones\")\n",
    "    elif statistic_type == \"sum\":\n",
    "        reducer = ee.Reducer.sum().combine(reducer2= ee.Reducer.count(), sharedInputs= True).group(groupField=1, groupName= \"zones\")\n",
    "    else:\n",
    "        raise UserWarning(\"Statistic_type not yet supported, please modify function\")\n",
    "    \n",
    "    total_image = ee.Image(i_values).addBands(ee.Image(i_zones))\n",
    "    \n",
    "    result_list = total_image.reduceRegion(\n",
    "        geometry = geometry_server_side,\n",
    "        reducer= reducer,\n",
    "        crsTransform = crs_transform,\n",
    "        crs = crs,\n",
    "        maxPixels=1e10\n",
    "        ).get(\"groups\")\n",
    "\n",
    "    result_list = ee.List(result_list)    \n",
    "    \n",
    "    \n",
    "    return result_list\n",
    "\n",
    "\n",
    "\n",
    "def zonal_stats_results_to_image(result_list,i_zones,statistic_type):\n",
    "    \"\"\" Map result list on zones image to get result image.\n",
    "    -------------------------------------------------------------------------------\n",
    "    \n",
    "    Args:\n",
    "        result_list (ee.List) : list of dictionaries.\n",
    "        i_zones (ee.Image) : zones image.\n",
    "        statistic_type (string) : Statistics type like 'mean', 'sum'.\n",
    "        \n",
    "    Returns:\n",
    "        i_result (ee.Image) : result image with three bands 'zones','count' and\n",
    "            the statistical_type from result list.\n",
    "    \n",
    "    \"\"\"\n",
    "    result_list = ee.List(result_list)\n",
    "    result_list = result_list.map(ensure_default_properties)\n",
    "    \n",
    "    zone_list = map_list(result_list, 'zones')\n",
    "    count_list = map_list(result_list,\"count\")\n",
    "    stat_list = map_list(result_list,statistic_type)\n",
    "    \n",
    "    \n",
    "    count_image = ee.Image(i_zones).remap(zone_list, count_list).select([\"remapped\"],[\"count\"])\n",
    "    \n",
    "    \n",
    "    stat_image = ee.Image(i_zones).remap(zone_list, stat_list).select([\"remapped\"],[statistic_type])\n",
    "    \n",
    "\n",
    "    \n",
    "    result_image = i_zones.addBands(count_image).addBands(stat_image)\n",
    "    properties = {\"statistic_type\":statistic_type}\n",
    "    result_image = result_image.set(properties) \n",
    "    "
   ]
  },
  {
   "cell_type": "code",
   "execution_count": 6,
   "metadata": {},
   "outputs": [],
   "source": [
    "result_image = raster_zonal_stats(\n",
    "                i_zones = ee.Image(HYBAS_LEV06_30S_ASSET_ID),\n",
    "                i_values = ee.Image(GLOBAL_AREA_M2_30S_ASSET_ID),\n",
    "                statistic_type = \"sum\",\n",
    "                geometry = geometry_server_side,\n",
    "                crs_transform = crs_transform,\n",
    "                crs=\"EPSG:4326\")"
   ]
  },
  {
   "cell_type": "code",
   "execution_count": 7,
   "metadata": {
    "collapsed": true
   },
   "outputs": [],
   "source": [
    "output_asset_id = \"users/rutgerhofste/test/test\""
   ]
  },
  {
   "cell_type": "code",
   "execution_count": 8,
   "metadata": {
    "collapsed": true
   },
   "outputs": [],
   "source": [
    "dimensions = aqueduct3.earthengine.get_dimensions(\"30s\")"
   ]
  },
  {
   "cell_type": "code",
   "execution_count": 13,
   "metadata": {},
   "outputs": [],
   "source": [
    "task = ee.batch.Export.image.toAsset(\n",
    "    image =  result_image,\n",
    "    assetId = output_asset_id,\n",
    "    description = \"test\",\n",
    "    region = geometry_client_side,\n",
    "    #dimensions = dimensions,\n",
    "    crs = \"EPSG:4326\",\n",
    "    crsTransform = crs_transform,\n",
    "    maxPixels = 1e10     \n",
    ")\n",
    "task.start()"
   ]
  },
  {
   "cell_type": "code",
   "execution_count": null,
   "metadata": {
    "collapsed": true
   },
   "outputs": [],
   "source": []
  },
  {
   "cell_type": "code",
   "execution_count": null,
   "metadata": {},
   "outputs": [],
   "source": []
  },
  {
   "cell_type": "code",
   "execution_count": null,
   "metadata": {},
   "outputs": [],
   "source": []
  },
  {
   "cell_type": "code",
   "execution_count": null,
   "metadata": {
    "collapsed": true
   },
   "outputs": [],
   "source": []
  }
 ],
 "metadata": {
  "kernelspec": {
   "display_name": "Python 35",
   "language": "python",
   "name": "python35"
  },
  "language_info": {
   "codemirror_mode": {
    "name": "ipython",
    "version": 3
   },
   "file_extension": ".py",
   "mimetype": "text/x-python",
   "name": "python",
   "nbconvert_exporter": "python",
   "pygments_lexer": "ipython3",
   "version": "3.5.4"
  }
 },
 "nbformat": 4,
 "nbformat_minor": 2
}
