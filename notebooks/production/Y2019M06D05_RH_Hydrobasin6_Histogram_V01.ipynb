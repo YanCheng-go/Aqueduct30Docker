{
 "cells": [
  {
   "cell_type": "code",
   "execution_count": 1,
   "metadata": {},
   "outputs": [
    {
     "name": "stdout",
     "output_type": "stream",
     "text": [
      "S3_INPUT_PATH:  s3://wri-projects/Aqueduct30/processData/Y2017M08D02_RH_Merge_HydroBasins_V02/output_V04 \n",
      "s3_output_path:  s3://wri-projects/Aqueduct30/processData/Y2019M06D05_RH_Hydrobasin6_Histogram_V01/output_V01/\n"
     ]
    }
   ],
   "source": [
    "\"\"\" Generate histogram data for in technical note.\n",
    "-------------------------------------------------------------------------------\n",
    "\n",
    "Author: Rutger Hofste\n",
    "Date: 20190605\n",
    "Kernel: python35\n",
    "Docker: rutgerhofste/gisdocker:ubuntu16.04\n",
    "\n",
    "\n",
    "\"\"\"\n",
    "\n",
    "SCRIPT_NAME = 'Y2019M06D05_RH_Hydrobasin6_Histogram_V01'\n",
    "OUTPUT_VERSION = 1\n",
    "\n",
    "\n",
    "S3_INPUT_PATH= \"s3://wri-projects/Aqueduct30/processData/Y2017M08D02_RH_Merge_HydroBasins_V02/output_V04\"\n",
    "\n",
    "ec2_input_path = \"/volumes/data/{}/input_V{:02.0f}\".format(SCRIPT_NAME,OUTPUT_VERSION) \n",
    "ec2_output_path = \"/volumes/data/{}/output_V{:02.0f}\".format(SCRIPT_NAME,OUTPUT_VERSION) \n",
    "s3_output_path = \"s3://wri-projects/Aqueduct30/processData/{}/output_V{:02.0f}/\".format(SCRIPT_NAME,OUTPUT_VERSION)\n",
    "\n",
    "print(\"S3_INPUT_PATH: \", S3_INPUT_PATH,\n",
    "      \"\\ns3_output_path: \", s3_output_path)\n"
   ]
  },
  {
   "cell_type": "code",
   "execution_count": 2,
   "metadata": {},
   "outputs": [
    {
     "name": "stdout",
     "output_type": "stream",
     "text": [
      "Y2019M06D05 UTC 20:39\n"
     ]
    }
   ],
   "source": [
    "import time, datetime, sys\n",
    "dateString = time.strftime(\"Y%YM%mD%d\")\n",
    "timeString = time.strftime(\"UTC %H:%M\")\n",
    "start = datetime.datetime.now()\n",
    "print(dateString,timeString)\n",
    "sys.version\n",
    "%matplotlib inline"
   ]
  },
  {
   "cell_type": "code",
   "execution_count": 3,
   "metadata": {},
   "outputs": [],
   "source": [
    "!rm -r {ec2_input_path}\n",
    "!rm -r {ec2_output_path}\n",
    "!mkdir -p {ec2_input_path}\n",
    "!mkdir -p {ec2_output_path}\n"
   ]
  },
  {
   "cell_type": "code",
   "execution_count": 4,
   "metadata": {},
   "outputs": [
    {
     "name": "stdout",
     "output_type": "stream",
     "text": [
      "download: s3://wri-projects/Aqueduct30/processData/Y2017M08D02_RH_Merge_HydroBasins_V02/output_V04/hybas_lev00_v1c_merged_fiona_V04.cpg to ../../../../data/Y2019M06D05_RH_Hydrobasin6_Histogram_V01/input_V01/hybas_lev00_v1c_merged_fiona_V04.cpg\n",
      "download: s3://wri-projects/Aqueduct30/processData/Y2017M08D02_RH_Merge_HydroBasins_V02/output_V04/hybas_lev00_v1c_merged_fiona_V04.prj to ../../../../data/Y2019M06D05_RH_Hydrobasin6_Histogram_V01/input_V01/hybas_lev00_v1c_merged_fiona_V04.prj\n",
      "download: s3://wri-projects/Aqueduct30/processData/Y2017M08D02_RH_Merge_HydroBasins_V02/output_V04/hybas_lev00_v1c_merged_fiona_5min_V04.tif to ../../../../data/Y2019M06D05_RH_Hydrobasin6_Histogram_V01/input_V01/hybas_lev00_v1c_merged_fiona_5min_V04.tif\n",
      "download: s3://wri-projects/Aqueduct30/processData/Y2017M08D02_RH_Merge_HydroBasins_V02/output_V04/hybas_lev00_v1c_merged_fiona_V04.shx to ../../../../data/Y2019M06D05_RH_Hydrobasin6_Histogram_V01/input_V01/hybas_lev00_v1c_merged_fiona_V04.shx\n",
      "download: s3://wri-projects/Aqueduct30/processData/Y2017M08D02_RH_Merge_HydroBasins_V02/output_V04/hybas_lev06_v1c_merged_fiona_5min_V04.tif to ../../../../data/Y2019M06D05_RH_Hydrobasin6_Histogram_V01/input_V01/hybas_lev06_v1c_merged_fiona_5min_V04.tif\n",
      "download: s3://wri-projects/Aqueduct30/processData/Y2017M08D02_RH_Merge_HydroBasins_V02/output_V04/hybas_lev06_v1c_merged_fiona_V04.cpg to ../../../../data/Y2019M06D05_RH_Hydrobasin6_Histogram_V01/input_V01/hybas_lev06_v1c_merged_fiona_V04.cpg\n",
      "download: s3://wri-projects/Aqueduct30/processData/Y2017M08D02_RH_Merge_HydroBasins_V02/output_V04/hybas_lev06_v1c_merged_fiona_30s_V04.tif to ../../../../data/Y2019M06D05_RH_Hydrobasin6_Histogram_V01/input_V01/hybas_lev06_v1c_merged_fiona_30s_V04.tif\n",
      "download: s3://wri-projects/Aqueduct30/processData/Y2017M08D02_RH_Merge_HydroBasins_V02/output_V04/hybas_lev06_v1c_merged_fiona_V04.prj to ../../../../data/Y2019M06D05_RH_Hydrobasin6_Histogram_V01/input_V01/hybas_lev06_v1c_merged_fiona_V04.prj\n",
      "download: s3://wri-projects/Aqueduct30/processData/Y2017M08D02_RH_Merge_HydroBasins_V02/output_V04/hybas_lev06_v1c_merged_fiona_V04.dbf to ../../../../data/Y2019M06D05_RH_Hydrobasin6_Histogram_V01/input_V01/hybas_lev06_v1c_merged_fiona_V04.dbf\n",
      "download: s3://wri-projects/Aqueduct30/processData/Y2017M08D02_RH_Merge_HydroBasins_V02/output_V04/hybas_lev06_v1c_merged_fiona_V04.shx to ../../../../data/Y2019M06D05_RH_Hydrobasin6_Histogram_V01/input_V01/hybas_lev06_v1c_merged_fiona_V04.shx\n",
      "download: s3://wri-projects/Aqueduct30/processData/Y2017M08D02_RH_Merge_HydroBasins_V02/output_V04/hybas_lev00_v1c_merged_fiona_30s_V04.tif to ../../../../data/Y2019M06D05_RH_Hydrobasin6_Histogram_V01/input_V01/hybas_lev00_v1c_merged_fiona_30s_V04.tif\n",
      "download: s3://wri-projects/Aqueduct30/processData/Y2017M08D02_RH_Merge_HydroBasins_V02/output_V04/hybas_lev00_v1c_merged_fiona_V04.dbf to ../../../../data/Y2019M06D05_RH_Hydrobasin6_Histogram_V01/input_V01/hybas_lev00_v1c_merged_fiona_V04.dbf\n",
      "download: s3://wri-projects/Aqueduct30/processData/Y2017M08D02_RH_Merge_HydroBasins_V02/output_V04/hybas_lev06_v1c_merged_fiona_V04.shp to ../../../../data/Y2019M06D05_RH_Hydrobasin6_Histogram_V01/input_V01/hybas_lev06_v1c_merged_fiona_V04.shp\n",
      "download: s3://wri-projects/Aqueduct30/processData/Y2017M08D02_RH_Merge_HydroBasins_V02/output_V04/hybas_lev00_v1c_merged_fiona_V04.shp to ../../../../data/Y2019M06D05_RH_Hydrobasin6_Histogram_V01/input_V01/hybas_lev00_v1c_merged_fiona_V04.shp\n"
     ]
    }
   ],
   "source": [
    "!aws s3 cp {S3_INPUT_PATH} {ec2_input_path} --recursive"
   ]
  },
  {
   "cell_type": "code",
   "execution_count": 5,
   "metadata": {
    "collapsed": true
   },
   "outputs": [],
   "source": [
    "import numpy as np\n",
    "import geopandas as gpd\n",
    "import matplotlib.pyplot as plt"
   ]
  },
  {
   "cell_type": "code",
   "execution_count": 6,
   "metadata": {},
   "outputs": [],
   "source": [
    "input_filename = \"hybas_lev06_v1c_merged_fiona_V04.shp\""
   ]
  },
  {
   "cell_type": "code",
   "execution_count": 7,
   "metadata": {
    "collapsed": true
   },
   "outputs": [],
   "source": [
    "input_path = \"{}/{}\".format(ec2_input_path,input_filename)"
   ]
  },
  {
   "cell_type": "code",
   "execution_count": 8,
   "metadata": {
    "collapsed": true
   },
   "outputs": [],
   "source": [
    "gdf = gpd.read_file(filename=input_path)"
   ]
  },
  {
   "cell_type": "code",
   "execution_count": 9,
   "metadata": {},
   "outputs": [
    {
     "data": {
      "text/html": [
       "<div>\n",
       "<style scoped>\n",
       "    .dataframe tbody tr th:only-of-type {\n",
       "        vertical-align: middle;\n",
       "    }\n",
       "\n",
       "    .dataframe tbody tr th {\n",
       "        vertical-align: top;\n",
       "    }\n",
       "\n",
       "    .dataframe thead th {\n",
       "        text-align: right;\n",
       "    }\n",
       "</style>\n",
       "<table border=\"1\" class=\"dataframe\">\n",
       "  <thead>\n",
       "    <tr style=\"text-align: right;\">\n",
       "      <th></th>\n",
       "      <th>HYBAS_ID</th>\n",
       "      <th>NEXT_DOWN</th>\n",
       "      <th>NEXT_SINK</th>\n",
       "      <th>MAIN_BAS</th>\n",
       "      <th>DIST_SINK</th>\n",
       "      <th>DIST_MAIN</th>\n",
       "      <th>SUB_AREA</th>\n",
       "      <th>UP_AREA</th>\n",
       "      <th>PFAF_ID</th>\n",
       "      <th>ENDO</th>\n",
       "      <th>COAST</th>\n",
       "      <th>ORDER</th>\n",
       "      <th>SORT</th>\n",
       "      <th>geometry</th>\n",
       "    </tr>\n",
       "  </thead>\n",
       "  <tbody>\n",
       "    <tr>\n",
       "      <th>0</th>\n",
       "      <td>8060000010</td>\n",
       "      <td>0</td>\n",
       "      <td>8060000010</td>\n",
       "      <td>8060000010</td>\n",
       "      <td>0.0</td>\n",
       "      <td>0.0</td>\n",
       "      <td>928.6</td>\n",
       "      <td>928.6</td>\n",
       "      <td>811101</td>\n",
       "      <td>0</td>\n",
       "      <td>1</td>\n",
       "      <td>0</td>\n",
       "      <td>1</td>\n",
       "      <td>POLYGON ((-137.9333333333333 58.90416666666669...</td>\n",
       "    </tr>\n",
       "    <tr>\n",
       "      <th>1</th>\n",
       "      <td>8060000060</td>\n",
       "      <td>0</td>\n",
       "      <td>8060000060</td>\n",
       "      <td>8060000060</td>\n",
       "      <td>0.0</td>\n",
       "      <td>0.0</td>\n",
       "      <td>28068.3</td>\n",
       "      <td>28068.3</td>\n",
       "      <td>811102</td>\n",
       "      <td>0</td>\n",
       "      <td>0</td>\n",
       "      <td>1</td>\n",
       "      <td>2</td>\n",
       "      <td>POLYGON ((-136.425 59.8416666666667, -136.4283...</td>\n",
       "    </tr>\n",
       "    <tr>\n",
       "      <th>2</th>\n",
       "      <td>8060000070</td>\n",
       "      <td>0</td>\n",
       "      <td>8060000070</td>\n",
       "      <td>8060000070</td>\n",
       "      <td>0.0</td>\n",
       "      <td>0.0</td>\n",
       "      <td>4585.4</td>\n",
       "      <td>4585.4</td>\n",
       "      <td>811103</td>\n",
       "      <td>0</td>\n",
       "      <td>1</td>\n",
       "      <td>0</td>\n",
       "      <td>3</td>\n",
       "      <td>(POLYGON ((-139.6430555555555 59.6625000000000...</td>\n",
       "    </tr>\n",
       "    <tr>\n",
       "      <th>3</th>\n",
       "      <td>8060000290</td>\n",
       "      <td>0</td>\n",
       "      <td>8060000290</td>\n",
       "      <td>8060000290</td>\n",
       "      <td>0.0</td>\n",
       "      <td>0.0</td>\n",
       "      <td>3774.6</td>\n",
       "      <td>3775.0</td>\n",
       "      <td>811104</td>\n",
       "      <td>0</td>\n",
       "      <td>0</td>\n",
       "      <td>1</td>\n",
       "      <td>4</td>\n",
       "      <td>POLYGON ((-139.6791666666666 60.74583333333334...</td>\n",
       "    </tr>\n",
       "    <tr>\n",
       "      <th>4</th>\n",
       "      <td>8060000300</td>\n",
       "      <td>0</td>\n",
       "      <td>8060000300</td>\n",
       "      <td>8060000300</td>\n",
       "      <td>0.0</td>\n",
       "      <td>0.0</td>\n",
       "      <td>1351.1</td>\n",
       "      <td>1351.1</td>\n",
       "      <td>811105</td>\n",
       "      <td>0</td>\n",
       "      <td>1</td>\n",
       "      <td>0</td>\n",
       "      <td>5</td>\n",
       "      <td>POLYGON ((-139.9791666666667 59.7791666666667,...</td>\n",
       "    </tr>\n",
       "  </tbody>\n",
       "</table>\n",
       "</div>"
      ],
      "text/plain": [
       "     HYBAS_ID  NEXT_DOWN   NEXT_SINK    MAIN_BAS  DIST_SINK  DIST_MAIN  \\\n",
       "0  8060000010          0  8060000010  8060000010        0.0        0.0   \n",
       "1  8060000060          0  8060000060  8060000060        0.0        0.0   \n",
       "2  8060000070          0  8060000070  8060000070        0.0        0.0   \n",
       "3  8060000290          0  8060000290  8060000290        0.0        0.0   \n",
       "4  8060000300          0  8060000300  8060000300        0.0        0.0   \n",
       "\n",
       "   SUB_AREA  UP_AREA  PFAF_ID  ENDO  COAST  ORDER  SORT  \\\n",
       "0     928.6    928.6   811101     0      1      0     1   \n",
       "1   28068.3  28068.3   811102     0      0      1     2   \n",
       "2    4585.4   4585.4   811103     0      1      0     3   \n",
       "3    3774.6   3775.0   811104     0      0      1     4   \n",
       "4    1351.1   1351.1   811105     0      1      0     5   \n",
       "\n",
       "                                            geometry  \n",
       "0  POLYGON ((-137.9333333333333 58.90416666666669...  \n",
       "1  POLYGON ((-136.425 59.8416666666667, -136.4283...  \n",
       "2  (POLYGON ((-139.6430555555555 59.6625000000000...  \n",
       "3  POLYGON ((-139.6791666666666 60.74583333333334...  \n",
       "4  POLYGON ((-139.9791666666667 59.7791666666667,...  "
      ]
     },
     "execution_count": 9,
     "metadata": {},
     "output_type": "execute_result"
    }
   ],
   "source": [
    "gdf.head()"
   ]
  },
  {
   "cell_type": "code",
   "execution_count": 10,
   "metadata": {
    "collapsed": true
   },
   "outputs": [],
   "source": [
    "# SUB_AREA is Area of the individual polygon (i.e. sub-basin),  in square kilometers."
   ]
  },
  {
   "cell_type": "code",
   "execution_count": 11,
   "metadata": {},
   "outputs": [],
   "source": [
    "values = gdf[\"SUB_AREA\"].values"
   ]
  },
  {
   "cell_type": "code",
   "execution_count": 12,
   "metadata": {},
   "outputs": [],
   "source": [
    "median = np.median(values)"
   ]
  },
  {
   "cell_type": "code",
   "execution_count": 13,
   "metadata": {},
   "outputs": [
    {
     "data": {
      "text/plain": [
       "5317.6000000000004"
      ]
     },
     "execution_count": 13,
     "metadata": {},
     "output_type": "execute_result"
    }
   ],
   "source": [
    "median"
   ]
  },
  {
   "cell_type": "code",
   "execution_count": 14,
   "metadata": {},
   "outputs": [],
   "source": [
    "bin_edges = np.logspace(start=0,stop=6,num=13,base=10)"
   ]
  },
  {
   "cell_type": "code",
   "execution_count": 15,
   "metadata": {},
   "outputs": [
    {
     "data": {
      "text/plain": [
       "array([  1.00000000e+00,   3.16227766e+00,   1.00000000e+01,\n",
       "         3.16227766e+01,   1.00000000e+02,   3.16227766e+02,\n",
       "         1.00000000e+03,   3.16227766e+03,   1.00000000e+04,\n",
       "         3.16227766e+04,   1.00000000e+05,   3.16227766e+05,\n",
       "         1.00000000e+06])"
      ]
     },
     "execution_count": 15,
     "metadata": {},
     "output_type": "execute_result"
    }
   ],
   "source": [
    "bin_edges"
   ]
  },
  {
   "cell_type": "code",
   "execution_count": 16,
   "metadata": {},
   "outputs": [],
   "source": [
    "hist, bin_edges = np.histogram(values, bins=bin_edges)"
   ]
  },
  {
   "cell_type": "code",
   "execution_count": 17,
   "metadata": {},
   "outputs": [
    {
     "data": {
      "text/plain": [
       "<BarContainer object of 12 artists>"
      ]
     },
     "execution_count": 17,
     "metadata": {},
     "output_type": "execute_result"
    },
    {
     "data": {
      "image/png": "[encoded data removed]",
      "text/plain": [
       "<Figure size 432x288 with 1 Axes>"
      ]
     },
     "metadata": {},
     "output_type": "display_data"
    }
   ],
   "source": [
    "plt.bar(np.arange(len(hist))/2,hist)"
   ]
  },
  {
   "cell_type": "code",
   "execution_count": 18,
   "metadata": {
    "collapsed": true
   },
   "outputs": [],
   "source": [
    "output_filename = \"histogram_values.csv\""
   ]
  },
  {
   "cell_type": "code",
   "execution_count": 19,
   "metadata": {},
   "outputs": [],
   "source": [
    "output_path = \"{}/{}\".format(ec2_output_path,output_filename)"
   ]
  },
  {
   "cell_type": "code",
   "execution_count": 20,
   "metadata": {},
   "outputs": [
    {
     "data": {
      "text/plain": [
       "'/volumes/data/Y2019M06D05_RH_Hydrobasin6_Histogram_V01/output_V01/histogram_values.csv'"
      ]
     },
     "execution_count": 20,
     "metadata": {},
     "output_type": "execute_result"
    }
   ],
   "source": [
    "output_path"
   ]
  },
  {
   "cell_type": "code",
   "execution_count": 21,
   "metadata": {},
   "outputs": [],
   "source": [
    "hist.tofile(output_path,sep=\",\")"
   ]
  },
  {
   "cell_type": "code",
   "execution_count": 22,
   "metadata": {
    "collapsed": true
   },
   "outputs": [],
   "source": [
    "output_filename_edges =  \"histogram_binedges.csv\""
   ]
  },
  {
   "cell_type": "code",
   "execution_count": 23,
   "metadata": {
    "collapsed": true
   },
   "outputs": [],
   "source": [
    "output_path_edges = \"{}/{}\".format(ec2_output_path,output_filename_edges)"
   ]
  },
  {
   "cell_type": "code",
   "execution_count": 24,
   "metadata": {
    "collapsed": true
   },
   "outputs": [],
   "source": [
    "bin_edges.tofile(output_path_edges,sep=\",\")"
   ]
  },
  {
   "cell_type": "code",
   "execution_count": 25,
   "metadata": {},
   "outputs": [
    {
     "name": "stdout",
     "output_type": "stream",
     "text": [
      "Completed 161 Bytes/206 Bytes (317 Bytes/s) with 2 file(s) remaining\r",
      "upload: ../../../../data/Y2019M06D05_RH_Hydrobasin6_Histogram_V01/output_V01/histogram_binedges.csv to s3://wri-projects/Aqueduct30/processData/Y2019M06D05_RH_Hydrobasin6_Histogram_V01/output_V01/histogram_binedges.csv\r\n",
      "Completed 161 Bytes/206 Bytes (317 Bytes/s) with 1 file(s) remaining\r",
      "Completed 206 Bytes/206 Bytes (399 Bytes/s) with 1 file(s) remaining\r",
      "upload: ../../../../data/Y2019M06D05_RH_Hydrobasin6_Histogram_V01/output_V01/histogram_values.csv to s3://wri-projects/Aqueduct30/processData/Y2019M06D05_RH_Hydrobasin6_Histogram_V01/output_V01/histogram_values.csv\r\n"
     ]
    }
   ],
   "source": [
    "!aws s3 cp {ec2_output_path} {s3_output_path} --recursive"
   ]
  },
  {
   "cell_type": "code",
   "execution_count": 26,
   "metadata": {},
   "outputs": [
    {
     "name": "stdout",
     "output_type": "stream",
     "text": [
      "0:00:23.211709\n"
     ]
    }
   ],
   "source": [
    "end = datetime.datetime.now()\n",
    "elapsed = end - start\n",
    "print(elapsed)"
   ]
  },
  {
   "cell_type": "markdown",
   "metadata": {},
   "source": [
    "Previous runs:  \n"
   ]
  }
 ],
 "metadata": {
  "kernelspec": {
   "display_name": "Python 35",
   "language": "python",
   "name": "python35"
  },
  "language_info": {
   "codemirror_mode": {
    "name": "ipython",
    "version": 3
   },
   "file_extension": ".py",
   "mimetype": "text/x-python",
   "name": "python",
   "nbconvert_exporter": "python",
   "pygments_lexer": "ipython3",
   "version": "3.5.4"
  }
 },
 "nbformat": 4,
 "nbformat_minor": 2
}
