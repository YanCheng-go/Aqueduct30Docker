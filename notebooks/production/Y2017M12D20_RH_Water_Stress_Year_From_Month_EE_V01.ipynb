{
 "cells": [
  {
   "cell_type": "markdown",
   "metadata": {},
   "source": [
    "# Y2017M12D20_RH_Water_Stress_Year_From_Month_EE_V01\n",
    "\n",
    "* Purpose of script: Calculate annual water stress based on average of all months\n",
    "* Kernel used: python27\n",
    "* Date created: 20171220"
   ]
  },
  {
   "cell_type": "code",
   "execution_count": 1,
   "metadata": {},
   "outputs": [
    {
     "name": "stdout",
     "output_type": "stream",
     "text": [
      "('Y2017M12D20', 'UTC 13:40')\n"
     ]
    },
    {
     "data": {
      "text/plain": [
       "'2.7.13 |Continuum Analytics, Inc.| (default, Dec 20 2016, 23:09:15) \\n[GCC 4.4.7 20120313 (Red Hat 4.4.7-1)]'"
      ]
     },
     "execution_count": 1,
     "metadata": {},
     "output_type": "execute_result"
    }
   ],
   "source": [
    "import time, datetime, sys\n",
    "dateString = time.strftime(\"Y%YM%mD%d\")\n",
    "timeString = time.strftime(\"UTC %H:%M\")\n",
    "start = datetime.datetime.now()\n",
    "print(dateString,timeString)\n",
    "sys.version"
   ]
  },
  {
   "cell_type": "code",
   "execution_count": 2,
   "metadata": {
    "collapsed": true
   },
   "outputs": [],
   "source": [
    "EE_PATH = \"projects/WRI-Aquaduct/PCRGlobWB20V07\"\n",
    "\n",
    "SCRIPT_NAME = \"Y2017M12D20_RH_Water_Stress_Year_From_Month_EE_V01\"\n",
    "\n",
    "OUTPUT_VERSION = 5  #must be same as previous script (stores in same imageCollection)\n",
    "\n",
    "PFAF_LEVEL = 6\n",
    "\n",
    "YEARMIN = 1960\n",
    "YEARMAX = 2014\n",
    "\n",
    "SHORT_TERM_MIN = 2004\n",
    "SHORT_TERM_MAX = 2014\n",
    "\n",
    "LONG_TERM_MIN = 1960\n",
    "LONG_TERM_MAX = 2014\n",
    "\n",
    "DIMENSIONS30SSMALL = \"43200x19440\"\n",
    "CRS = \"EPSG:4326\"\n",
    "CRS_TRANSFORM30S_SMALL = [0.008333333333333333, 0.0, -180.0, 0.0, -0.008333333333333333, 81.0]"
   ]
  },
  {
   "cell_type": "code",
   "execution_count": 3,
   "metadata": {
    "collapsed": true
   },
   "outputs": [],
   "source": [
    "import ee\n",
    "import logging\n",
    "import pandas as pd\n",
    "import subprocess"
   ]
  },
  {
   "cell_type": "code",
   "execution_count": 4,
   "metadata": {
    "collapsed": true
   },
   "outputs": [],
   "source": [
    "ee.Initialize()"
   ]
  },
  {
   "cell_type": "code",
   "execution_count": 5,
   "metadata": {},
   "outputs": [],
   "source": [
    "icResults = ee.ImageCollection(\"%s/reduced_global_historical_combined_V05\" %(EE_PATH))"
   ]
  },
  {
   "cell_type": "code",
   "execution_count": 6,
   "metadata": {
    "collapsed": true
   },
   "outputs": [],
   "source": [
    "temporalRange = {}\n",
    "temporalRange[\"short\"] = [SHORT_TERM_MIN,SHORT_TERM_MAX]\n",
    "temporalRange[\"long\"] = [LONG_TERM_MIN,LONG_TERM_MAX]"
   ]
  },
  {
   "cell_type": "code",
   "execution_count": 7,
   "metadata": {
    "collapsed": true
   },
   "outputs": [],
   "source": [
    "logger = logging.getLogger(__name__)\n",
    "logger.setLevel(logging.DEBUG)\n",
    "formatter = logging.Formatter('%(asctime)s:%(levelname)s:%(message)s')\n",
    "file_handler = logging.FileHandler(\"./logs/%sV%0.2d.log\" %(SCRIPT_NAME,OUTPUT_VERSION))\n",
    "file_handler.setFormatter(formatter)\n",
    "logger.addHandler(file_handler)"
   ]
  },
  {
   "cell_type": "code",
   "execution_count": 8,
   "metadata": {},
   "outputs": [],
   "source": [
    "def createRow():\n",
    "    newRow = {}\n",
    "    newRow[\"indicator\"] = indicator\n",
    "    newRow[\"temporalResolution\"] = temporalResolution\n",
    "    newRow[\"reducerType\"] =  reducerType\n",
    "    newRow[\"interval\"] = interval\n",
    "    newRow[\"yearMin\"] = yearMin\n",
    "    newRow[\"yearMax\"] = yearMax \n",
    "\n",
    "    newRow[\"ic\"] = icTempFiltered\n",
    "    newRow[\"month\"] = month\n",
    "    newRow[\"properties\"] = {\"rangeMin\":yearMin,\n",
    "                             \"rangeMax\":yearMax,\n",
    "                             \"interval\":interval,\n",
    "                             \"indicator\":indicator,\n",
    "                             \"temporalResolution\": \"year\",\n",
    "                             \"month\":month,\n",
    "                             \"script_used\":SCRIPT_NAME,\n",
    "                             \"units\":\"dimensionless\",\n",
    "                             \"version\":OUTPUT_VERSION,\n",
    "                             \"pfaf_level\":PFAF_LEVEL,\n",
    "                             \"note\": \"Indicator is a result of reducing (mean) the 12 monthsto an annual score\",\n",
    "                             \"reducer\":reducerType}\n",
    "    newRow[\"newIcId\"]= \"%s/reduced_global_historical_combined_V%0.2d\" %(EE_PATH,OUTPUT_VERSION)\n",
    "    newRow[\"newImageId\"] = \"%s/global_historical_%s_%s_%s_30sPfaf06_%s_%0.4d_%0.4dM%0.2d\" %(newRow[\"newIcId\"],indicator,\"year\",\"dimensionless\",reducerType,yearMin,yearMax,month)\n",
    "    newRow[\"description\"] = \"reduced_global_historical_combined_%s_%s_%s_V%0.2d\" %(interval,reducerType,indicator,OUTPUT_VERSION)\n",
    "    \n",
    "    return newRow\n",
    "\n",
    "def setMinMax(image):\n",
    "    capped = (image.min(1)).max(0)\n",
    "    capped = capped.copyProperties(image)\n",
    "    return capped\n",
    "    \n",
    "\n",
    "def reduceTemp(ic):\n",
    "    ic = ee.ImageCollection(ic)    \n",
    "    ic = ic.map(setMinMax)    \n",
    "    reducer = ee.Reducer.mean().combine(reducer2= ee.Reducer.min(), sharedInputs= True ).combine(reducer2= ee.Reducer.max(), sharedInputs= True )\n",
    "    ic = ic.select([\"WS_dimensionless\"],[\"%s_dimensionless\" %(indicator)])\n",
    "    iWSreducedTemp = ee.Image(ic.reduce(reducer))\n",
    "    return iWSreducedTemp\n",
    "\n",
    "\n",
    "def exportAsset(imageOut,assetID,dimensions,description,properties,CRS_TRANSFORM30S_SMALL):\n",
    "    try:\n",
    "        ee.Image(assetID).id().getInfo()\n",
    "        nonExisting = False\n",
    "    except:\n",
    "        nonExisting = True\n",
    "    \n",
    "    if  nonExisting:  \n",
    "        imageOut = imageOut.set(properties)\n",
    "\n",
    "        task = ee.batch.Export.image.toAsset(\n",
    "            image =  ee.Image(imageOut),\n",
    "            description = description,\n",
    "            assetId = assetID,\n",
    "            dimensions = dimensions,\n",
    "            crs = CRS,\n",
    "            crsTransform = CRS_TRANSFORM30S_SMALL,\n",
    "            maxPixels = 1e10     \n",
    "        )\n",
    "        print(assetID)\n",
    "        logger.debug(assetID)\n",
    "        #task.start()"
   ]
  },
  {
   "cell_type": "code",
   "execution_count": 9,
   "metadata": {
    "collapsed": true
   },
   "outputs": [],
   "source": [
    "reducerTypes = [\"mean\",\"trend\"]\n",
    "intervals = [\"long\",\"short\"]\n",
    "temporalResolution = \"month\""
   ]
  },
  {
   "cell_type": "code",
   "execution_count": 10,
   "metadata": {},
   "outputs": [],
   "source": [
    "indicator = \"WSreducedTemp\"\n",
    "df = pd.DataFrame()\n",
    "month = 12\n",
    "\n",
    "for reducerType in reducerTypes:\n",
    "    for interval in intervals:\n",
    "        yearMin = temporalRange[interval][0]\n",
    "        yearMax = temporalRange[interval][1]\n",
    "        icTempFiltered = icResults.filter(ee.Filter.eq(\"temporalResolution\",temporalResolution)).filter(ee.Filter.eq(\"reducer\",reducerType)).filter(ee.Filter.eq(\"interval\",interval)).filter(ee.Filter.eq(\"indicator\",\"WS\")).select([\"WS_dimensionless\"])\n",
    "        newRow = createRow()\n",
    "        df = df.append(newRow,ignore_index=True)\n",
    "\n"
   ]
  },
  {
   "cell_type": "code",
   "execution_count": 11,
   "metadata": {},
   "outputs": [
    {
     "data": {
      "text/html": [
       "<div>\n",
       "<style>\n",
       "    .dataframe thead tr:only-child th {\n",
       "        text-align: right;\n",
       "    }\n",
       "\n",
       "    .dataframe thead th {\n",
       "        text-align: left;\n",
       "    }\n",
       "\n",
       "    .dataframe tbody tr th {\n",
       "        vertical-align: top;\n",
       "    }\n",
       "</style>\n",
       "<table border=\"1\" class=\"dataframe\">\n",
       "  <thead>\n",
       "    <tr style=\"text-align: right;\">\n",
       "      <th></th>\n",
       "      <th>description</th>\n",
       "      <th>ic</th>\n",
       "      <th>indicator</th>\n",
       "      <th>interval</th>\n",
       "      <th>month</th>\n",
       "      <th>newIcId</th>\n",
       "      <th>newImageId</th>\n",
       "      <th>properties</th>\n",
       "      <th>reducerType</th>\n",
       "      <th>temporalResolution</th>\n",
       "      <th>yearMax</th>\n",
       "      <th>yearMin</th>\n",
       "    </tr>\n",
       "  </thead>\n",
       "  <tbody>\n",
       "    <tr>\n",
       "      <th>0</th>\n",
       "      <td>reduced_global_historical_combined_long_mean_W...</td>\n",
       "      <td>ee.ImageCollection({\\n  \"type\": \"Invocation\", ...</td>\n",
       "      <td>WSreducedTemp</td>\n",
       "      <td>long</td>\n",
       "      <td>12.0</td>\n",
       "      <td>projects/WRI-Aquaduct/PCRGlobWB20V07/reduced_g...</td>\n",
       "      <td>projects/WRI-Aquaduct/PCRGlobWB20V07/reduced_g...</td>\n",
       "      <td>{u'reducer': u'mean', u'temporalResolution': u...</td>\n",
       "      <td>mean</td>\n",
       "      <td>month</td>\n",
       "      <td>2014.0</td>\n",
       "      <td>1960.0</td>\n",
       "    </tr>\n",
       "    <tr>\n",
       "      <th>1</th>\n",
       "      <td>reduced_global_historical_combined_short_mean_...</td>\n",
       "      <td>ee.ImageCollection({\\n  \"type\": \"Invocation\", ...</td>\n",
       "      <td>WSreducedTemp</td>\n",
       "      <td>short</td>\n",
       "      <td>12.0</td>\n",
       "      <td>projects/WRI-Aquaduct/PCRGlobWB20V07/reduced_g...</td>\n",
       "      <td>projects/WRI-Aquaduct/PCRGlobWB20V07/reduced_g...</td>\n",
       "      <td>{u'reducer': u'mean', u'temporalResolution': u...</td>\n",
       "      <td>mean</td>\n",
       "      <td>month</td>\n",
       "      <td>2014.0</td>\n",
       "      <td>2004.0</td>\n",
       "    </tr>\n",
       "    <tr>\n",
       "      <th>2</th>\n",
       "      <td>reduced_global_historical_combined_long_trend_...</td>\n",
       "      <td>ee.ImageCollection({\\n  \"type\": \"Invocation\", ...</td>\n",
       "      <td>WSreducedTemp</td>\n",
       "      <td>long</td>\n",
       "      <td>12.0</td>\n",
       "      <td>projects/WRI-Aquaduct/PCRGlobWB20V07/reduced_g...</td>\n",
       "      <td>projects/WRI-Aquaduct/PCRGlobWB20V07/reduced_g...</td>\n",
       "      <td>{u'reducer': u'trend', u'temporalResolution': ...</td>\n",
       "      <td>trend</td>\n",
       "      <td>month</td>\n",
       "      <td>2014.0</td>\n",
       "      <td>1960.0</td>\n",
       "    </tr>\n",
       "    <tr>\n",
       "      <th>3</th>\n",
       "      <td>reduced_global_historical_combined_short_trend...</td>\n",
       "      <td>ee.ImageCollection({\\n  \"type\": \"Invocation\", ...</td>\n",
       "      <td>WSreducedTemp</td>\n",
       "      <td>short</td>\n",
       "      <td>12.0</td>\n",
       "      <td>projects/WRI-Aquaduct/PCRGlobWB20V07/reduced_g...</td>\n",
       "      <td>projects/WRI-Aquaduct/PCRGlobWB20V07/reduced_g...</td>\n",
       "      <td>{u'reducer': u'trend', u'temporalResolution': ...</td>\n",
       "      <td>trend</td>\n",
       "      <td>month</td>\n",
       "      <td>2014.0</td>\n",
       "      <td>2004.0</td>\n",
       "    </tr>\n",
       "  </tbody>\n",
       "</table>\n",
       "</div>"
      ],
      "text/plain": [
       "                                         description  \\\n",
       "0  reduced_global_historical_combined_long_mean_W...   \n",
       "1  reduced_global_historical_combined_short_mean_...   \n",
       "2  reduced_global_historical_combined_long_trend_...   \n",
       "3  reduced_global_historical_combined_short_trend...   \n",
       "\n",
       "                                                  ic      indicator interval  \\\n",
       "0  ee.ImageCollection({\\n  \"type\": \"Invocation\", ...  WSreducedTemp     long   \n",
       "1  ee.ImageCollection({\\n  \"type\": \"Invocation\", ...  WSreducedTemp    short   \n",
       "2  ee.ImageCollection({\\n  \"type\": \"Invocation\", ...  WSreducedTemp     long   \n",
       "3  ee.ImageCollection({\\n  \"type\": \"Invocation\", ...  WSreducedTemp    short   \n",
       "\n",
       "   month                                            newIcId  \\\n",
       "0   12.0  projects/WRI-Aquaduct/PCRGlobWB20V07/reduced_g...   \n",
       "1   12.0  projects/WRI-Aquaduct/PCRGlobWB20V07/reduced_g...   \n",
       "2   12.0  projects/WRI-Aquaduct/PCRGlobWB20V07/reduced_g...   \n",
       "3   12.0  projects/WRI-Aquaduct/PCRGlobWB20V07/reduced_g...   \n",
       "\n",
       "                                          newImageId  \\\n",
       "0  projects/WRI-Aquaduct/PCRGlobWB20V07/reduced_g...   \n",
       "1  projects/WRI-Aquaduct/PCRGlobWB20V07/reduced_g...   \n",
       "2  projects/WRI-Aquaduct/PCRGlobWB20V07/reduced_g...   \n",
       "3  projects/WRI-Aquaduct/PCRGlobWB20V07/reduced_g...   \n",
       "\n",
       "                                          properties reducerType  \\\n",
       "0  {u'reducer': u'mean', u'temporalResolution': u...        mean   \n",
       "1  {u'reducer': u'mean', u'temporalResolution': u...        mean   \n",
       "2  {u'reducer': u'trend', u'temporalResolution': ...       trend   \n",
       "3  {u'reducer': u'trend', u'temporalResolution': ...       trend   \n",
       "\n",
       "  temporalResolution  yearMax  yearMin  \n",
       "0              month   2014.0   1960.0  \n",
       "1              month   2014.0   2004.0  \n",
       "2              month   2014.0   1960.0  \n",
       "3              month   2014.0   2004.0  "
      ]
     },
     "execution_count": 11,
     "metadata": {},
     "output_type": "execute_result"
    }
   ],
   "source": [
    "df"
   ]
  },
  {
   "cell_type": "code",
   "execution_count": 12,
   "metadata": {},
   "outputs": [
    {
     "name": "stdout",
     "output_type": "stream",
     "text": [
      "12\n",
      "projects/WRI-Aquaduct/PCRGlobWB20V07/reduced_global_historical_combined_V05/global_historical_WSreducedTemp_year_dimensionless_30sPfaf06_mean_1960_2014M12\n",
      "12\n",
      "projects/WRI-Aquaduct/PCRGlobWB20V07/reduced_global_historical_combined_V05/global_historical_WSreducedTemp_year_dimensionless_30sPfaf06_mean_2004_2014M12\n",
      "12\n",
      "projects/WRI-Aquaduct/PCRGlobWB20V07/reduced_global_historical_combined_V05/global_historical_WSreducedTemp_year_dimensionless_30sPfaf06_trend_1960_2014M12\n",
      "7\n"
     ]
    }
   ],
   "source": [
    "for index, row in df.iterrows():\n",
    "    print(ee.ImageCollection(row[\"ic\"]).size().getInfo())\n",
    "    if ee.ImageCollection(row[\"ic\"]).size().getInfo() == 12 :\n",
    "        iWSreducedTemp = reduceTemp(row[\"ic\"])\n",
    "        exportAsset(iWSreducedTemp,row[\"newImageId\"],DIMENSIONS30SSMALL,row[\"description\"],row[\"properties\"],CRS_TRANSFORM30S_SMALL)"
   ]
  },
  {
   "cell_type": "code",
   "execution_count": null,
   "metadata": {
    "collapsed": true
   },
   "outputs": [],
   "source": []
  },
  {
   "cell_type": "code",
   "execution_count": null,
   "metadata": {
    "collapsed": true
   },
   "outputs": [],
   "source": []
  }
 ],
 "metadata": {
  "kernelspec": {
   "display_name": "Python 27",
   "language": "python",
   "name": "python27"
  },
  "language_info": {
   "codemirror_mode": {
    "name": "ipython",
    "version": 2
   },
   "file_extension": ".py",
   "mimetype": "text/x-python",
   "name": "python",
   "nbconvert_exporter": "python",
   "pygments_lexer": "ipython2",
   "version": "2.7.13"
  }
 },
 "nbformat": 4,
 "nbformat_minor": 2
}
