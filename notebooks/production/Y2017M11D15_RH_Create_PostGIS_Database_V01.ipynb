{
 "cells": [
  {
   "cell_type": "code",
   "execution_count": 11,
   "metadata": {
    "collapsed": true
   },
   "outputs": [],
   "source": [
    "\"\"\" Create postgis database using AWS RDS. \n",
    "-------------------------------------------------------------------------------\n",
    "\n",
    "Initiates a postGIS database on Amazon RDS. \n",
    "\n",
    "This script requires you to set a password for your database. The script will \n",
    "search for the file .password in the current working directory. You can use your\n",
    "terminal window to create the password. \n",
    "\n",
    "Author: Rutger Hofste\n",
    "Date: 20171115\n",
    "Kernel: python35\n",
    "Docker: rutgerhofste/gisdocker:ubuntu16.04\n",
    "\n",
    "\n",
    "Args:\n",
    "    SCRIPT_NAME (string) : Script name.\n",
    "    DATABASE_IDENTIFIER (string) : Identifier of AWS RDS database.\n",
    "    DATABASE_NAME (string) : Database name. \n",
    "\n",
    "\n",
    "\n",
    "\n",
    "\n",
    "\n",
    "\"\"\"\n",
    "\n",
    "\n",
    "SCRIPT_NAME = \"Y2017M11D15_RH_Create_PostGIS_Database_V01\"\n",
    "DATABASE_IDENTIFIER = \"aqueduct30v04\"\n",
    "DATABASE_NAME = \"database01\"\n",
    "\n"
   ]
  },
  {
   "cell_type": "code",
   "execution_count": 16,
   "metadata": {},
   "outputs": [
    {
     "name": "stdout",
     "output_type": "stream",
     "text": [
      "Y2018M05D09 UTC 13:26\n"
     ]
    },
    {
     "data": {
      "text/plain": [
       "'3.5.4 |Anaconda, Inc.| (default, Nov 20 2017, 18:44:38) \\n[GCC 7.2.0]'"
      ]
     },
     "execution_count": 16,
     "metadata": {},
     "output_type": "execute_result"
    }
   ],
   "source": [
    "import time, datetime, sys\n",
    "dateString = time.strftime(\"Y%YM%mD%d\")\n",
    "timeString = time.strftime(\"UTC %H:%M\")\n",
    "start = datetime.datetime.now()\n",
    "print(dateString,timeString)\n",
    "sys.version"
   ]
  },
  {
   "cell_type": "code",
   "execution_count": 1,
   "metadata": {
    "collapsed": true
   },
   "outputs": [],
   "source": [
    "import boto3\n",
    "import botocore\n",
    "from sqlalchemy import *\n",
    "from geoalchemy2 import Geometry, WKTElement"
   ]
  },
  {
   "cell_type": "code",
   "execution_count": 5,
   "metadata": {
    "collapsed": true
   },
   "outputs": [],
   "source": [
    "rds = boto3.client('rds',region_name=\"eu-central-1\")"
   ]
  },
  {
   "cell_type": "code",
   "execution_count": 7,
   "metadata": {
    "collapsed": true
   },
   "outputs": [],
   "source": [
    "F = open(\"/.password\",\"r\")\n",
    "password = F.read().splitlines()[0]\n",
    "F.close()"
   ]
  },
  {
   "cell_type": "code",
   "execution_count": 9,
   "metadata": {
    "collapsed": true
   },
   "outputs": [],
   "source": [
    "def createDB(password):\n",
    "    db_identifier = DATABASE_IDENTIFIER\n",
    "    rds.create_db_instance(DBInstanceIdentifier=db_identifier,\n",
    "                       AllocatedStorage=20,\n",
    "                       DBName=DATABASE_NAME,\n",
    "                       Engine='postgres',\n",
    "                       # General purpose SSD\n",
    "                       StorageType='gp2',\n",
    "                       StorageEncrypted=False,\n",
    "                       AutoMinorVersionUpgrade=True,\n",
    "                       # Set this to true later?\n",
    "                       MultiAZ=False,\n",
    "                       MasterUsername='rutgerhofste',\n",
    "                       MasterUserPassword=password,\n",
    "                       VpcSecurityGroupIds=['sg-1da15e77'], #You will need to create a security group in the console. \n",
    "                       DBInstanceClass='db.t2.large',\n",
    "                       Tags=[{'Key': 'author', 'Value': 'rutger'}])"
   ]
  },
  {
   "cell_type": "code",
   "execution_count": 12,
   "metadata": {
    "collapsed": true
   },
   "outputs": [],
   "source": [
    "createDB(password)"
   ]
  },
  {
   "cell_type": "code",
   "execution_count": 13,
   "metadata": {
    "collapsed": true
   },
   "outputs": [],
   "source": [
    "response = rds.describe_db_instances(DBInstanceIdentifier=\"%s\"%(DATABASE_IDENTIFIER))"
   ]
  },
  {
   "cell_type": "code",
   "execution_count": 14,
   "metadata": {
    "collapsed": true
   },
   "outputs": [],
   "source": [
    "status = response[\"DBInstances\"][0][\"DBInstanceStatus\"]"
   ]
  },
  {
   "cell_type": "code",
   "execution_count": 17,
   "metadata": {},
   "outputs": [
    {
     "name": "stdout",
     "output_type": "stream",
     "text": [
      "creating 0:00:23.171990\n",
      "creating 0:00:43.261768\n",
      "creating 0:01:03.364230\n",
      "creating 0:01:23.473464\n",
      "creating 0:01:43.616411\n",
      "creating 0:02:03.704224\n",
      "creating 0:02:23.820275\n",
      "backing-up 0:02:43.953252\n",
      "backing-up 0:03:04.092838\n",
      "backing-up 0:03:24.196573\n",
      "backing-up 0:03:44.274867\n",
      "backing-up 0:04:04.397865\n",
      "backing-up 0:04:24.499228\n",
      "backing-up 0:04:44.659724\n",
      "backing-up 0:05:04.753156\n",
      "backing-up 0:05:24.869155\n",
      "available 0:05:44.958985\n"
     ]
    }
   ],
   "source": [
    "# Pause the script while the database is being created\n",
    "while status != \"available\":\n",
    "    response = rds.describe_db_instances(DBInstanceIdentifier=\"%s\"%(DATABASE_IDENTIFIER)) \n",
    "    status = response[\"DBInstances\"][0][\"DBInstanceStatus\"]\n",
    "    time.sleep(20)\n",
    "    end = datetime.datetime.now()\n",
    "    elapsed = end - start\n",
    "    print(status,elapsed)\n",
    "    "
   ]
  },
  {
   "cell_type": "code",
   "execution_count": 18,
   "metadata": {
    "collapsed": true
   },
   "outputs": [],
   "source": [
    "endpoint = response[\"DBInstances\"][0][\"Endpoint\"][\"Address\"]"
   ]
  },
  {
   "cell_type": "code",
   "execution_count": 19,
   "metadata": {},
   "outputs": [
    {
     "name": "stdout",
     "output_type": "stream",
     "text": [
      "aqueduct30v04.cgpnumwmfcqc.eu-central-1.rds.amazonaws.com\n"
     ]
    }
   ],
   "source": [
    "print(endpoint)"
   ]
  },
  {
   "cell_type": "code",
   "execution_count": 20,
   "metadata": {
    "collapsed": true
   },
   "outputs": [],
   "source": [
    "engine = create_engine('postgresql://rutgerhofste:%s@%s:5432/%s' %(password,endpoint,DATABASE_NAME))"
   ]
  },
  {
   "cell_type": "code",
   "execution_count": 21,
   "metadata": {
    "collapsed": true
   },
   "outputs": [],
   "source": [
    "connection = engine.connect()"
   ]
  },
  {
   "cell_type": "markdown",
   "metadata": {},
   "source": [
    "[Setting up PostGIS on RDS](http://docs.aws.amazon.com/AmazonRDS/latest/UserGuide/Appendix.PostgreSQL.CommonDBATasks.html#Appendix.PostgreSQL.CommonDBATasks.PostGIS)"
   ]
  },
  {
   "cell_type": "code",
   "execution_count": 22,
   "metadata": {
    "collapsed": true
   },
   "outputs": [],
   "source": [
    "sqlList = []\n",
    "sqlList.append(\"select current_user;\")\n",
    "sqlList.append(\"create extension postgis;\")\n",
    "sqlList.append(\"create extension fuzzystrmatch;\")\n",
    "sqlList.append(\"create extension postgis_tiger_geocoder;\")\n",
    "sqlList.append(\"create extension postgis_topology;\")\n",
    "sqlList.append(\"alter schema tiger owner to rds_superuser;\")\n",
    "sqlList.append(\"alter schema tiger_data owner to rds_superuser;\")\n",
    "sqlList.append(\"alter schema topology owner to rds_superuser;\")\n",
    "sqlList.append(\"CREATE FUNCTION exec(text) returns text language plpgsql volatile AS $f$ BEGIN EXECUTE $1; RETURN $1; END; $f$;\")      \n",
    "sqlList.append(\"SELECT exec('ALTER TABLE ' || quote_ident(s.nspname) || '.' || quote_ident(s.relname) || ' OWNER TO rds_superuser;') FROM ( SELECT nspname, relname FROM pg_class c JOIN pg_namespace n ON (c.relnamespace = n.oid) WHERE nspname in ('tiger','topology') AND relkind IN ('r','S','v') ORDER BY relkind = 'S')s;\")\n",
    "sqlList.append(\"SET search_path=public,tiger;\")\n",
    "sqlList.append(\"select na.address, na.streetname, na.streettypeabbrev, na.zip from normalize_address('1 Devonshire Place, Boston, MA 02109') as na;\")"
   ]
  },
  {
   "cell_type": "code",
   "execution_count": 23,
   "metadata": {
    "collapsed": true
   },
   "outputs": [],
   "source": [
    "resultList = []\n",
    "for sql in sqlList:\n",
    "    #print(sql)\n",
    "    resultList.append(connection.execute(sql))"
   ]
  },
  {
   "cell_type": "code",
   "execution_count": 24,
   "metadata": {
    "collapsed": true
   },
   "outputs": [],
   "source": [
    "connection.close()"
   ]
  },
  {
   "cell_type": "code",
   "execution_count": 25,
   "metadata": {},
   "outputs": [
    {
     "name": "stdout",
     "output_type": "stream",
     "text": [
      "0:06:21.519555\n"
     ]
    }
   ],
   "source": [
    "end = datetime.datetime.now()\n",
    "elapsed = end - start\n",
    "print(elapsed)"
   ]
  },
  {
   "cell_type": "markdown",
   "metadata": {},
   "source": [
    "Previous Runs:  \n",
    "0:06:21.519555"
   ]
  },
  {
   "cell_type": "code",
   "execution_count": null,
   "metadata": {
    "collapsed": true
   },
   "outputs": [],
   "source": []
  }
 ],
 "metadata": {
  "kernelspec": {
   "display_name": "Python 35",
   "language": "python",
   "name": "python35"
  },
  "language_info": {
   "codemirror_mode": {
    "name": "ipython",
    "version": 3
   },
   "file_extension": ".py",
   "mimetype": "text/x-python",
   "name": "python",
   "nbconvert_exporter": "python",
   "pygments_lexer": "ipython3",
   "version": "3.5.4"
  }
 },
 "nbformat": 4,
 "nbformat_minor": 2
}
