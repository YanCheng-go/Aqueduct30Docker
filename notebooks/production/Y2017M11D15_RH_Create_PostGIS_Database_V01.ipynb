{
 "cells": [
  {
   "cell_type": "markdown",
   "metadata": {},
   "source": [
    "### Create PostGIS database \n",
    "\n",
    "* Purpose of script: create postgis database using AWS RDS\n",
    "* Author: Rutger Hofste\n",
    "* Kernel used: python35\n",
    "* Date created: 20171115\n",
    "\n",
    "This script requires you to set a password for your database. The script will search for the file .password in the current working directory. You can use your terminal window to create the password. \n"
   ]
  },
  {
   "cell_type": "code",
   "execution_count": 1,
   "metadata": {},
   "outputs": [
    {
     "name": "stdout",
     "output_type": "stream",
     "text": [
      "Y2017M12D28 UTC 09:42\n"
     ]
    },
    {
     "data": {
      "text/plain": [
       "'3.5.4 |Continuum Analytics, Inc.| (default, Aug 14 2017, 13:26:58) \\n[GCC 4.4.7 20120313 (Red Hat 4.4.7-1)]'"
      ]
     },
     "execution_count": 1,
     "metadata": {},
     "output_type": "execute_result"
    }
   ],
   "source": [
    "import time, datetime, sys\n",
    "dateString = time.strftime(\"Y%YM%mD%d\")\n",
    "timeString = time.strftime(\"UTC %H:%M\")\n",
    "start = datetime.datetime.now()\n",
    "print(dateString,timeString)\n",
    "sys.version"
   ]
  },
  {
   "cell_type": "code",
   "execution_count": 2,
   "metadata": {
    "collapsed": true
   },
   "outputs": [],
   "source": [
    "SCRIPT_NAME = \"Y2017M11D15_RH_Create_PostGIS_Database_V01\"\n",
    "\n",
    "# Database settings\n",
    "DATABASE_IDENTIFIER = \"aqueduct30v03\"\n",
    "DATABASE_NAME = \"database01\""
   ]
  },
  {
   "cell_type": "code",
   "execution_count": 3,
   "metadata": {
    "collapsed": true
   },
   "outputs": [],
   "source": [
    "import boto3\n",
    "import botocore\n",
    "from sqlalchemy import *\n",
    "from geoalchemy2 import Geometry, WKTElement"
   ]
  },
  {
   "cell_type": "code",
   "execution_count": 4,
   "metadata": {
    "collapsed": true
   },
   "outputs": [],
   "source": [
    "rds = boto3.client('rds')"
   ]
  },
  {
   "cell_type": "code",
   "execution_count": 5,
   "metadata": {
    "collapsed": true
   },
   "outputs": [],
   "source": [
    "F = open(\".password\",\"r\")\n",
    "password = F.read().splitlines()[0]\n",
    "F.close()"
   ]
  },
  {
   "cell_type": "code",
   "execution_count": 6,
   "metadata": {
    "collapsed": true
   },
   "outputs": [],
   "source": [
    "def createDB(password):\n",
    "    db_identifier = DATABASE_IDENTIFIER\n",
    "    rds.create_db_instance(DBInstanceIdentifier=db_identifier,\n",
    "                       AllocatedStorage=20,\n",
    "                       DBName=DATABASE_NAME,\n",
    "                       Engine='postgres',\n",
    "                       # General purpose SSD\n",
    "                       StorageType='gp2',\n",
    "                       StorageEncrypted=False,\n",
    "                       AutoMinorVersionUpgrade=True,\n",
    "                       # Set this to true later?\n",
    "                       MultiAZ=False,\n",
    "                       MasterUsername='rutgerhofste',\n",
    "                       MasterUserPassword=password,\n",
    "                       VpcSecurityGroupIds=['sg-1da15e77'], #You will need to create a security group in the console. \n",
    "                       DBInstanceClass='db.t2.large',\n",
    "                       Tags=[{'Key': 'author', 'Value': 'rutger'}])"
   ]
  },
  {
   "cell_type": "code",
   "execution_count": 7,
   "metadata": {
    "collapsed": true
   },
   "outputs": [],
   "source": [
    "createDB(password)"
   ]
  },
  {
   "cell_type": "code",
   "execution_count": 8,
   "metadata": {
    "collapsed": true
   },
   "outputs": [],
   "source": [
    "response = rds.describe_db_instances(DBInstanceIdentifier=\"%s\"%(DATABASE_IDENTIFIER))"
   ]
  },
  {
   "cell_type": "code",
   "execution_count": 9,
   "metadata": {
    "collapsed": true
   },
   "outputs": [],
   "source": [
    "status = response[\"DBInstances\"][0][\"DBInstanceStatus\"]"
   ]
  },
  {
   "cell_type": "code",
   "execution_count": 10,
   "metadata": {},
   "outputs": [
    {
     "name": "stdout",
     "output_type": "stream",
     "text": [
      "creating 0:00:24.121339\n",
      "creating 0:00:44.247474\n",
      "creating 0:01:04.412904\n",
      "creating 0:01:24.503857\n",
      "creating 0:01:44.608731\n",
      "creating 0:02:04.718999\n",
      "creating 0:02:24.875305\n",
      "creating 0:02:45.028734\n",
      "creating 0:03:05.121834\n",
      "backing-up 0:03:25.220626\n",
      "backing-up 0:03:45.312748\n",
      "backing-up 0:04:05.421285\n",
      "backing-up 0:04:25.519447\n",
      "backing-up 0:04:45.615712\n",
      "backing-up 0:05:05.741039\n",
      "backing-up 0:05:25.840735\n",
      "available 0:05:45.952743\n"
     ]
    }
   ],
   "source": [
    "# Pause the script while the database is being created\n",
    "while status != \"available\":\n",
    "    response = rds.describe_db_instances(DBInstanceIdentifier=\"%s\"%(DATABASE_IDENTIFIER)) \n",
    "    status = response[\"DBInstances\"][0][\"DBInstanceStatus\"]\n",
    "    time.sleep(20)\n",
    "    end = datetime.datetime.now()\n",
    "    elapsed = end - start\n",
    "    print(status,elapsed)\n",
    "    "
   ]
  },
  {
   "cell_type": "code",
   "execution_count": 11,
   "metadata": {
    "collapsed": true
   },
   "outputs": [],
   "source": [
    "endpoint = response[\"DBInstances\"][0][\"Endpoint\"][\"Address\"]"
   ]
  },
  {
   "cell_type": "code",
   "execution_count": 12,
   "metadata": {},
   "outputs": [
    {
     "name": "stdout",
     "output_type": "stream",
     "text": [
      "aqueduct30v03.cgpnumwmfcqc.eu-central-1.rds.amazonaws.com\n"
     ]
    }
   ],
   "source": [
    "print(endpoint)"
   ]
  },
  {
   "cell_type": "code",
   "execution_count": 13,
   "metadata": {
    "collapsed": true
   },
   "outputs": [],
   "source": [
    "engine = create_engine('postgresql://rutgerhofste:%s@%s:5432/%s' %(password,endpoint,DATABASE_NAME))"
   ]
  },
  {
   "cell_type": "code",
   "execution_count": 14,
   "metadata": {
    "collapsed": true
   },
   "outputs": [],
   "source": [
    "connection = engine.connect()"
   ]
  },
  {
   "cell_type": "markdown",
   "metadata": {},
   "source": [
    "[Setting up PostGIS on RDS](http://docs.aws.amazon.com/AmazonRDS/latest/UserGuide/Appendix.PostgreSQL.CommonDBATasks.html#Appendix.PostgreSQL.CommonDBATasks.PostGIS)"
   ]
  },
  {
   "cell_type": "code",
   "execution_count": 15,
   "metadata": {
    "collapsed": true
   },
   "outputs": [],
   "source": [
    "sqlList = []\n",
    "sqlList.append(\"select current_user;\")\n",
    "sqlList.append(\"create extension postgis;\")\n",
    "sqlList.append(\"create extension fuzzystrmatch;\")\n",
    "sqlList.append(\"create extension postgis_tiger_geocoder;\")\n",
    "sqlList.append(\"create extension postgis_topology;\")\n",
    "sqlList.append(\"alter schema tiger owner to rds_superuser;\")\n",
    "sqlList.append(\"alter schema tiger_data owner to rds_superuser;\")\n",
    "sqlList.append(\"alter schema topology owner to rds_superuser;\")\n",
    "sqlList.append(\"CREATE FUNCTION exec(text) returns text language plpgsql volatile AS $f$ BEGIN EXECUTE $1; RETURN $1; END; $f$;\")      \n",
    "sqlList.append(\"SELECT exec('ALTER TABLE ' || quote_ident(s.nspname) || '.' || quote_ident(s.relname) || ' OWNER TO rds_superuser;') FROM ( SELECT nspname, relname FROM pg_class c JOIN pg_namespace n ON (c.relnamespace = n.oid) WHERE nspname in ('tiger','topology') AND relkind IN ('r','S','v') ORDER BY relkind = 'S')s;\")\n",
    "sqlList.append(\"SET search_path=public,tiger;\")\n",
    "sqlList.append(\"select na.address, na.streetname, na.streettypeabbrev, na.zip from normalize_address('1 Devonshire Place, Boston, MA 02109') as na;\")"
   ]
  },
  {
   "cell_type": "code",
   "execution_count": 16,
   "metadata": {
    "collapsed": true
   },
   "outputs": [],
   "source": [
    "resultList = []\n",
    "for sql in sqlList:\n",
    "    #print(sql)\n",
    "    resultList.append(connection.execute(sql))"
   ]
  },
  {
   "cell_type": "code",
   "execution_count": 17,
   "metadata": {
    "collapsed": true
   },
   "outputs": [],
   "source": [
    "connection.close()"
   ]
  },
  {
   "cell_type": "code",
   "execution_count": 18,
   "metadata": {},
   "outputs": [
    {
     "name": "stdout",
     "output_type": "stream",
     "text": [
      "0:05:48.329189\n"
     ]
    }
   ],
   "source": [
    "end = datetime.datetime.now()\n",
    "elapsed = end - start\n",
    "print(elapsed)"
   ]
  }
 ],
 "metadata": {
  "kernelspec": {
   "display_name": "Python 35",
   "language": "python",
   "name": "python35"
  },
  "language_info": {
   "codemirror_mode": {
    "name": "ipython",
    "version": 3
   },
   "file_extension": ".py",
   "mimetype": "text/x-python",
   "name": "python",
   "nbconvert_exporter": "python",
   "pygments_lexer": "ipython3",
   "version": "3.5.4"
  }
 },
 "nbformat": 4,
 "nbformat_minor": 2
}
