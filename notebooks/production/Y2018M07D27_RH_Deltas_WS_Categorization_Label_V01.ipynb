{
 "cells": [
  {
   "cell_type": "code",
   "execution_count": 1,
   "metadata": {},
   "outputs": [
    {
     "name": "stdout",
     "output_type": "stream",
     "text": [
      "Input Table:  y2018m07d27_rh_deltas_update_waterstress_aridlowonce_v01_v02 \n",
      "Output Table:  y2018m07d27_rh_deltas_ws_categorization_label_v01_v02\n"
     ]
    }
   ],
   "source": [
    "\"\"\" Add category and label for water stress for deltas. \n",
    "-------------------------------------------------------------------------------\n",
    "\n",
    "\n",
    "Author: Rutger Hofste\n",
    "Date: 20180727\n",
    "Kernel: python35\n",
    "Docker: rutgerhofste/gisdocker:ubuntu16.04\n",
    "\n",
    "Args:\n",
    "    TESTING (Boolean) : Toggle testing case.\n",
    "    SCRIPT_NAME (string) : Script name.\n",
    "    OUTPUT_VERSION (integer) : output version.\n",
    "    DATABASE_ENDPOINT (string) : RDS or postGreSQL endpoint.\n",
    "    DATABASE_NAME (string) : Database name.\n",
    "    TABLE_NAME_AREA_30SPFAF06 (string) : Table name used for areas. Must exist\n",
    "        on same database as used in rest of script.\n",
    "    S3_INPUT_PATH_RIVERDISCHARGE (string) : AWS S3 input path for \n",
    "        riverdischarge.    \n",
    "    S3_INPUT_PATH_DEMAND (string) : AWS S3 input path for \n",
    "        demand.  \n",
    "\"\"\"\n",
    "\n",
    "TESTING = 0\n",
    "OVERWRITE_OUTPUT = 1\n",
    "SCRIPT_NAME = 'Y2018M07D27_RH_Deltas_WS_Categorization_Label_V01'\n",
    "OUTPUT_VERSION = 2\n",
    "\n",
    "DATABASE_ENDPOINT = \"aqueduct30v05.cgpnumwmfcqc.eu-central-1.rds.amazonaws.com\"\n",
    "DATABASE_NAME = \"database01\"\n",
    "\n",
    "INPUT_TABLE_NAME = \"y2018m07d27_rh_deltas_update_waterstress_aridlowonce_v01_v02\"\n",
    "OUTPUT_TABLE_NAME = SCRIPT_NAME.lower() + \"_v{:02.0f}\".format(OUTPUT_VERSION)\n",
    "\n",
    "print(\"Input Table: \" , INPUT_TABLE_NAME, \n",
    "      \"\\nOutput Table: \" , OUTPUT_TABLE_NAME)"
   ]
  },
  {
   "cell_type": "code",
   "execution_count": 2,
   "metadata": {},
   "outputs": [
    {
     "name": "stdout",
     "output_type": "stream",
     "text": [
      "Y2018M08D23 UTC 14:17\n"
     ]
    },
    {
     "data": {
      "text/plain": [
       "'3.5.4 |Anaconda, Inc.| (default, Nov 20 2017, 18:44:38) \\n[GCC 7.2.0]'"
      ]
     },
     "execution_count": 2,
     "metadata": {},
     "output_type": "execute_result"
    }
   ],
   "source": [
    "import time, datetime, sys\n",
    "dateString = time.strftime(\"Y%YM%mD%d\")\n",
    "timeString = time.strftime(\"UTC %H:%M\")\n",
    "start = datetime.datetime.now()\n",
    "print(dateString,timeString)\n",
    "sys.version"
   ]
  },
  {
   "cell_type": "code",
   "execution_count": 3,
   "metadata": {
    "collapsed": true
   },
   "outputs": [],
   "source": [
    "# imports\n",
    "import re\n",
    "import os\n",
    "import numpy as np\n",
    "import pandas as pd\n",
    "import aqueduct3\n",
    "from datetime import timedelta\n",
    "from sqlalchemy import *\n",
    "pd.set_option('display.max_columns', 500)"
   ]
  },
  {
   "cell_type": "code",
   "execution_count": 4,
   "metadata": {},
   "outputs": [
    {
     "name": "stdout",
     "output_type": "stream",
     "text": [
      "DROP TABLE IF EXISTS y2018m07d27_rh_deltas_ws_categorization_label_v01_v02;\n"
     ]
    }
   ],
   "source": [
    "F = open(\"/.password\",\"r\")\n",
    "password = F.read().splitlines()[0]\n",
    "F.close()\n",
    "\n",
    "engine = create_engine(\"postgresql://rutgerhofste:{}@{}:5432/{}\".format(password,DATABASE_ENDPOINT,DATABASE_NAME))\n",
    "#connection = engine.connect()\n",
    "\n",
    "if OVERWRITE_OUTPUT:\n",
    "    sql = \"DROP TABLE IF EXISTS {};\".format(OUTPUT_TABLE_NAME)\n",
    "    print(sql)\n",
    "    result = engine.execute(sql)"
   ]
  },
  {
   "cell_type": "code",
   "execution_count": 5,
   "metadata": {
    "collapsed": true
   },
   "outputs": [],
   "source": [
    "# The pythonic equivalents (not used but for QA)\n",
    "def waterstress_rawvalue_to_score(r):\n",
    "    # Convert raw water stress value to score; Equation from Aqueduct 2.1.\n",
    "    # Results range [0,5] including start and endpoint\n",
    "    if r == -1:\n",
    "        score = -1\n",
    "    elif r > 0:\n",
    "        score = max(0,min(5,((np.log(r)-np.log(0.1))/np.log(2))+1))\n",
    "    else: \n",
    "        score = -9999\n",
    "    return score\n",
    "  \n",
    "def waterstress_score_to_category_integer(score):\n",
    "    # Convert waterstress score to category. \n",
    "    # Results range [0-4]\n",
    "    # Using Python's 0 based categorization.\n",
    "    if score == -1:\n",
    "        category = -1\n",
    "    elif score >= 0 and score < 5:\n",
    "        category = np.floor(score)\n",
    "    elif score == 5:\n",
    "        category = 4\n",
    "    else:\n",
    "        category = -9999\n",
    "    return category\n",
    "      \n",
    "def waterstress_integercategory_to_labelcategory(integercategory):\n",
    "    # Convert waterstress integercategory to labelcategory\n",
    "    if integercategory == -1:\n",
    "        label = \"Arid and Low Wateruse\"\n",
    "    elif integercategory == 0:\n",
    "        label = \"Low\"\n",
    "    elif integercategory == 1:\n",
    "        label = \"Low - Medium\"\n",
    "    elif integercategory == 2:\n",
    "        label = \"Medium - High\"\n",
    "    elif integercategory == 3:\n",
    "        label = \"High\"\n",
    "    elif integercategory == 4:\n",
    "        label = \"Extremely High\"\n",
    "    else:\n",
    "        label = \"NoData\"\n",
    "    return label"
   ]
  },
  {
   "cell_type": "code",
   "execution_count": 6,
   "metadata": {
    "collapsed": true
   },
   "outputs": [],
   "source": [
    "# Water score to category integer. Note that categories are 0 (Low) based \n",
    "sql =  \" CREATE TABLE {} AS\".format(OUTPUT_TABLE_NAME)\n",
    "sql += \" WITH cte AS ( \"\n",
    "sql += \" SELECT *,\"\n",
    "sql +=     \" CASE \"\n",
    "sql +=         \" WHEN waterstress_score_dimensionless_30spfaf06 = -1\"\n",
    "sql +=             \" THEN -1 \"\n",
    "sql +=         \" WHEN waterstress_score_dimensionless_30spfaf06 < 5 AND waterstress_score_dimensionless_30spfaf06 >= 0\"\n",
    "sql +=             \" THEN FLOOR(waterstress_score_dimensionless_30spfaf06)\"\n",
    "sql +=         \" WHEN waterstress_score_dimensionless_30spfaf06 = 5\"\n",
    "sql +=             \" THEN 4\"\n",
    "sql +=         \" ELSE -9999\"\n",
    "sql +=     \" END\"\n",
    "sql +=     \" AS waterstress_category_dimensionless_30spfaf06,\"\n",
    "\n",
    "sql +=     \" CASE \"\n",
    "sql +=         \" WHEN waterdepletion_score_dimensionless_30spfaf06 = -1\"\n",
    "sql +=             \" THEN -1 \"\n",
    "sql +=         \" WHEN waterdepletion_score_dimensionless_30spfaf06 < 5 AND waterdepletion_score_dimensionless_30spfaf06 >= 0\"\n",
    "sql +=             \" THEN FLOOR(waterdepletion_score_dimensionless_30spfaf06)\"\n",
    "sql +=         \" WHEN waterdepletion_score_dimensionless_30spfaf06 = 5\"\n",
    "sql +=             \" THEN 4\"\n",
    "sql +=         \" ELSE -9999\"\n",
    "sql +=     \" END\"\n",
    "sql +=     \" AS waterdepletion_category_dimensionless_30spfaf06\"\n",
    "\n",
    "sql += \" FROM {}\".format(INPUT_TABLE_NAME)\n",
    "sql += \" )\"\n",
    "# Create labels\n",
    "sql += \" SELECT \"\n",
    "sql +=     \" *,\"\n",
    "sql +=     \" CASE\"\n",
    "sql +=     \" WHEN waterstress_category_dimensionless_30spfaf06 = -9999\"\n",
    "sql +=         \" THEN 'NoData' \"\n",
    "sql +=     \" WHEN waterstress_category_dimensionless_30spfaf06 = -1\"\n",
    "sql +=         \" THEN 'Arid and Low Water Use' \"\n",
    "sql +=     \" WHEN waterstress_category_dimensionless_30spfaf06 = 0\"\n",
    "sql +=         \" THEN 'Low' \"\n",
    "sql +=     \" WHEN waterstress_category_dimensionless_30spfaf06 = 1\"\n",
    "sql +=         \" THEN 'Low - Medium' \"\n",
    "sql +=     \" WHEN waterstress_category_dimensionless_30spfaf06 = 2\"\n",
    "sql +=         \" THEN 'Medium - High' \"\n",
    "sql +=     \" WHEN waterstress_category_dimensionless_30spfaf06 = 3\"\n",
    "sql +=         \" THEN 'High' \"\n",
    "sql +=     \" WHEN waterstress_category_dimensionless_30spfaf06 = 4\"\n",
    "sql +=         \" THEN 'Extremely High' \"\n",
    "sql +=     \" ELSE 'error, check score'\"\n",
    "sql +=     \" END AS waterstress_label_dimensionless_30spfaf06,\"\n",
    "\n",
    "sql +=     \" CASE\"\n",
    "sql +=     \" WHEN waterdepletion_category_dimensionless_30spfaf06 = -9999\"\n",
    "sql +=         \" THEN 'NoData' \"\n",
    "sql +=     \" WHEN waterdepletion_category_dimensionless_30spfaf06 = -1\"\n",
    "sql +=         \" THEN 'Arid and Low Water Use' \"\n",
    "sql +=     \" WHEN waterdepletion_category_dimensionless_30spfaf06 = 0\"\n",
    "sql +=         \" THEN 'Low' \"\n",
    "sql +=     \" WHEN waterdepletion_category_dimensionless_30spfaf06 = 1\"\n",
    "sql +=         \" THEN 'Low - Medium' \"\n",
    "sql +=     \" WHEN waterdepletion_category_dimensionless_30spfaf06 = 2\"\n",
    "sql +=         \" THEN 'Medium - High' \"\n",
    "sql +=     \" WHEN waterdepletion_category_dimensionless_30spfaf06 = 3\"\n",
    "sql +=         \" THEN 'High' \"\n",
    "sql +=     \" WHEN waterdepletion_category_dimensionless_30spfaf06 = 4\"\n",
    "sql +=         \" THEN 'Extremely High' \"\n",
    "sql +=     \" ELSE 'error, check score'\"\n",
    "sql +=     \" END AS waterdepletion_label_dimensionless_30spfaf06\"\n",
    "\n",
    "sql += \" FROM cte;\""
   ]
  },
  {
   "cell_type": "code",
   "execution_count": 7,
   "metadata": {
    "collapsed": true
   },
   "outputs": [],
   "source": [
    "result = engine.execute(sql)"
   ]
  },
  {
   "cell_type": "code",
   "execution_count": 8,
   "metadata": {
    "collapsed": true
   },
   "outputs": [],
   "source": [
    "sql_index = \"CREATE INDEX {}delta_id ON {} ({})\".format(OUTPUT_TABLE_NAME,OUTPUT_TABLE_NAME,\"delta_id\")"
   ]
  },
  {
   "cell_type": "code",
   "execution_count": 9,
   "metadata": {
    "collapsed": true
   },
   "outputs": [],
   "source": [
    "result = engine.execute(sql_index)"
   ]
  },
  {
   "cell_type": "code",
   "execution_count": 10,
   "metadata": {
    "collapsed": true
   },
   "outputs": [],
   "source": [
    "sql_index2 = \"CREATE INDEX {}year ON {} ({})\".format(OUTPUT_TABLE_NAME,OUTPUT_TABLE_NAME,\"year\")"
   ]
  },
  {
   "cell_type": "code",
   "execution_count": 11,
   "metadata": {
    "collapsed": true
   },
   "outputs": [],
   "source": [
    "result = engine.execute(sql_index2)"
   ]
  },
  {
   "cell_type": "code",
   "execution_count": 12,
   "metadata": {
    "collapsed": true
   },
   "outputs": [],
   "source": [
    "sql_index3 = \"CREATE INDEX {}month ON {} ({})\".format(OUTPUT_TABLE_NAME,OUTPUT_TABLE_NAME,\"month\")"
   ]
  },
  {
   "cell_type": "code",
   "execution_count": 13,
   "metadata": {
    "collapsed": true
   },
   "outputs": [],
   "source": [
    "result = engine.execute(sql_index3)"
   ]
  },
  {
   "cell_type": "code",
   "execution_count": 14,
   "metadata": {
    "collapsed": true
   },
   "outputs": [],
   "source": [
    "engine.dispose()"
   ]
  },
  {
   "cell_type": "code",
   "execution_count": 15,
   "metadata": {},
   "outputs": [
    {
     "name": "stdout",
     "output_type": "stream",
     "text": [
      "0:00:02.116257\n"
     ]
    }
   ],
   "source": [
    "end = datetime.datetime.now()\n",
    "elapsed = end - start\n",
    "print(elapsed)"
   ]
  },
  {
   "cell_type": "markdown",
   "metadata": {},
   "source": [
    "Previous runs:  \n",
    "0:00:02.116257"
   ]
  },
  {
   "cell_type": "code",
   "execution_count": null,
   "metadata": {
    "collapsed": true
   },
   "outputs": [],
   "source": []
  }
 ],
 "metadata": {
  "kernelspec": {
   "display_name": "Python 35",
   "language": "python",
   "name": "python35"
  },
  "language_info": {
   "codemirror_mode": {
    "name": "ipython",
    "version": 3
   },
   "file_extension": ".py",
   "mimetype": "text/x-python",
   "name": "python",
   "nbconvert_exporter": "python",
   "pygments_lexer": "ipython3",
   "version": "3.5.4"
  }
 },
 "nbformat": 4,
 "nbformat_minor": 2
}
