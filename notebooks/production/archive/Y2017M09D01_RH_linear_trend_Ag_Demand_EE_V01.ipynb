{
 "cells": [
  {
   "cell_type": "markdown",
   "metadata": {},
   "source": [
    "# Calculate linear trend for Agricultural Demand\n",
    "\n",
    "* Purpose of script: Calculate linear trend for Agricultural Demand for 2004 - 2014 due to the high sensitivity of the model to ag demand. \n",
    "* Author: Rutger Hofste\n",
    "* Kernel used: python27\n",
    "* Date created: 20170901"
   ]
  },
  {
   "cell_type": "code",
   "execution_count": 1,
   "metadata": {},
   "outputs": [
    {
     "name": "stdout",
     "output_type": "stream",
     "text": [
      "('Y2017M10D06', 'UTC 10:11')\n"
     ]
    }
   ],
   "source": [
    "import time\n",
    "dateString = time.strftime(\"Y%YM%mD%d\")\n",
    "timeString = time.strftime(\"UTC %H:%M\")\n",
    "print(dateString,timeString)"
   ]
  },
  {
   "cell_type": "code",
   "execution_count": 2,
   "metadata": {},
   "outputs": [],
   "source": [
    "import os\n",
    "import ee\n",
    "import subprocess\n",
    "import itertools\n",
    "import pprint"
   ]
  },
  {
   "cell_type": "markdown",
   "metadata": {},
   "source": [
    "Settings:"
   ]
  },
  {
   "cell_type": "markdown",
   "metadata": {},
   "source": [
    "The Standardized format to store assets on Earth Engine is EE_INPUT_PATH / EE_IC_NAME / EE_I_NAME and every image should have the property expertdescription that would allow to export the data to a table header. "
   ]
  },
  {
   "cell_type": "code",
   "execution_count": 3,
   "metadata": {
    "collapsed": true
   },
   "outputs": [],
   "source": [
    "EE_INPUT_PATH = \"projects/WRI-Aquaduct/PCRGlobWB20V07/\"\n",
    "\n",
    "YEAR_MIN = 2004\n",
    "YEAR_MAX = 2014\n",
    "\n",
    "DIMENSION5MIN = \"4320x2160\"\n",
    "CRS = \"EPSG:4326\"\n",
    "\n",
    "VERSION = 25\n",
    "\n",
    "UNITS = \"millionm3\"\n",
    "MAXPIXELS =1e10"
   ]
  },
  {
   "cell_type": "code",
   "execution_count": 4,
   "metadata": {
    "collapsed": true
   },
   "outputs": [],
   "source": [
    "temporalScales = [\"year\",\"month\"]\n",
    "parameters = [\"WW\",\"WN\"]"
   ]
  },
  {
   "cell_type": "code",
   "execution_count": 5,
   "metadata": {
    "collapsed": true
   },
   "outputs": [],
   "source": [
    "ee.Initialize()"
   ]
  },
  {
   "cell_type": "markdown",
   "metadata": {},
   "source": [
    "posted question in EE dev forum. Apparently it is easier to print the tranform in Javascipt and paste it into this script. "
   ]
  },
  {
   "cell_type": "code",
   "execution_count": 6,
   "metadata": {
    "collapsed": true
   },
   "outputs": [],
   "source": [
    "crsTransform = [\n",
    "                0.0833333309780367,\n",
    "                0,\n",
    "                -179.99999491255934,\n",
    "                0,\n",
    "                -0.0833333309780367,\n",
    "                90.00000254430942\n",
    "              ]"
   ]
  },
  {
   "cell_type": "code",
   "execution_count": 7,
   "metadata": {
    "collapsed": true
   },
   "outputs": [],
   "source": [
    "def addValidProperties(image,d):\n",
    "    nestedNewDict = {}\n",
    "    #remove non string or real properties\n",
    "    for nestedKey, nestedValue in d.iteritems():\n",
    "        if isinstance(nestedValue,str) or isinstance(nestedValue,int):\n",
    "            nestedNewDict[nestedKey] = nestedValue\n",
    "        else:\n",
    "            pass\n",
    "            #print(\"removing property: \",nestedKey )\n",
    "    image = ee.Image(image).set(nestedNewDict)\n",
    "    return image\n",
    "\n",
    "def createTimeBand(image):\n",
    "    # Adds a timeband to the single band image. band is \"b1\" \n",
    "    year = ee.Number(ee.Image(image).get(\"year\"))\n",
    "    newImage = ee.Image.constant(year).toDouble().select([\"constant\"],[\"independent\"])\n",
    "    image = image.toDouble().select([\"b1\"],[\"dependent\"])\n",
    "    return image.addBands(newImage)   \n",
    "\n",
    "def linearTrend(ic,yearmin,yearmax):\n",
    "    icTimeband = ic.map(createTimeBand)\n",
    "    imageFinalYear = ee.Image(ic.filter(ee.Filter.calendarRange(yearmin,yearmax,\"year\")).first())\n",
    "    fit = icTimeband.select([\"independent\",\"dependent\"]).reduce(ee.Reducer.linearFit())\n",
    "    offset = fit.select([\"offset\"])\n",
    "    scale = fit.select([\"scale\"]) #Note that this definition of scale is a as in y = ax+b\n",
    "    newImageYearMax = scale.multiply(yearmax).add(offset).select([\"scale\"],[\"newValue\"])\n",
    "    \n",
    "    # These lines were added after sharing GDBD results with Sam. Masking out negative values\n",
    "    PositiveMask = ee.Image(newImageYearMax.gte(0))\n",
    "    newImageYearMax = ee.Image(newImageYearMax.multiply(PositiveMask))    \n",
    "    return ee.Image(newImageYearMax)\n",
    "\n",
    "def exportToAsset(image,outputIcName,outputIName):    \n",
    "    task = ee.batch.Export.image.toAsset(\n",
    "        image =  ee.Image(image),\n",
    "        description = outputIName,\n",
    "        assetId = EE_INPUT_PATH + outputIcName + \"/\" + outputIName ,\n",
    "        dimensions = DIMENSION5MIN,\n",
    "        crs = CRS,\n",
    "        crsTransform = crsTransform,\n",
    "        maxPixels = MAXPIXELS     \n",
    "    )\n",
    "    task.start()\n",
    "\n",
    "def iterateFunction(r):\n",
    "    inputIcName = \"global_historical_PIrr%s_%s_millionm3_5min_1960_2014\" %(r[0],r[1])\n",
    "    outputIcName = \"global_historical_PIrrLinear%s_%s_millionm3_5min_Y%0.4d_Y%0.4dV%0.2d\" %(r[0],r[1],YEAR_MIN,YEAR_MAX,VERSION)\n",
    "    \n",
    "    # properties independent on temporal_scale\n",
    "    properties = {}\n",
    "    properties = {\"units\":UNITS,\n",
    "                  \"parameter\":\"IrrLinear%s_%s\" %(r[0],r[1]),\n",
    "                  \"year\":YEAR_MAX,\n",
    "                  \"range_min\":YEAR_MIN,\n",
    "                  \"range_max\":YEAR_MAX,\n",
    "                  \"creation\":\"RutgerHofste_%s_Python27\" %(dateString),\n",
    "                  \"regression\":\"linear\",\n",
    "                  \"version\":VERSION,\n",
    "                  \"nodata_value\":-9999,\n",
    "                  \"script_used\":\"Y2017M09D01_RH_linear_trend_Ag_Demand_EE_V01\"\n",
    "             }\n",
    "    \n",
    "    ic = ee.ImageCollection(os.path.join(EE_INPUT_PATH,inputIcName))\n",
    "    sampleImage = ee.Image(ic.first())\n",
    "    icFiltered = ic.filter(ee.Filter.calendarRange(YEAR_MIN,YEAR_MAX,\"year\"))\n",
    "    \n",
    "    command = (\"earthengine create collection %s\") %(os.path.join(EE_INPUT_PATH,outputIcName))\n",
    "    subprocess.check_output(command,shell=True)\n",
    "    \n",
    "    if r[1] == \"year\":\n",
    "        properties[\"exportdescription\"] = \"IrrLinear%s_%sY%0.4d\" %(r[0],r[1],YEAR_MAX)\n",
    "        properties[\"temporal_scale\"] = r[1]\n",
    "        properties[\"time_start\"] = \"%04d-%0.2d-%0.2d\" %(YEAR_MAX,12,1)\n",
    "        print(properties[\"exportdescription\"])\n",
    "        newImageYearMax = linearTrend(icFiltered,YEAR_MIN,YEAR_MAX)\n",
    "        newImageYearMax = addValidProperties(newImageYearMax,properties)        \n",
    "        outputIName = \"global_historical_PIrrLinear%s_%s_millionm3_5min_Y%0.4d_Y%0.4dV%0.2d\" %(r[0],r[1],YEAR_MIN,YEAR_MAX,VERSION)   \n",
    "        exportToAsset(newImageYearMax,outputIcName,outputIName)\n",
    "        \n",
    "    elif r[1] ==\"month\":\n",
    "        for month in range(1,13):\n",
    "            properties[\"exportdescription\"] = \"IrrLinear%s_%sY%0.4dM%0.2d\" %(r[0],r[1],YEAR_MAX,month)\n",
    "            properties[\"month\"] = month\n",
    "            properties[\"temporal_scale\"] = r[1]   \n",
    "            properties[\"time_start\"] = \"%04d-%0.2d-%0.2d\" %(YEAR_MAX,month,1)\n",
    "            print(properties[\"exportdescription\"])\n",
    "            icMonths = icFiltered.filter(ee.Filter.eq(\"month\",ee.Number(month)))\n",
    "            newImageYearMax = linearTrend(icMonths,YEAR_MIN,YEAR_MAX)\n",
    "            newImageYearMax = addValidProperties(newImageYearMax,properties)\n",
    "            \n",
    "            outputIName = \"global_historical_PIrrLinear%s_%s_millionm3_5min_Y%0.4d_Y%0.4dM%0.2dV%0.2d\" %(r[0],r[1],YEAR_MIN,YEAR_MAX,month,VERSION)\n",
    "            exportToAsset(newImageYearMax,outputIcName,outputIName)\n",
    "    else:\n",
    "        print(\"Error, check script\")\n",
    "    \n",
    "   \n"
   ]
  },
  {
   "cell_type": "code",
   "execution_count": 8,
   "metadata": {},
   "outputs": [
    {
     "name": "stdout",
     "output_type": "stream",
     "text": [
      "IrrLinearWW_yearY2014\n",
      "IrrLinearWW_monthY2014M01\n",
      "IrrLinearWW_monthY2014M02\n",
      "IrrLinearWW_monthY2014M03\n",
      "IrrLinearWW_monthY2014M04\n",
      "IrrLinearWW_monthY2014M05\n",
      "IrrLinearWW_monthY2014M06\n",
      "IrrLinearWW_monthY2014M07\n",
      "IrrLinearWW_monthY2014M08\n",
      "IrrLinearWW_monthY2014M09\n",
      "IrrLinearWW_monthY2014M10\n",
      "IrrLinearWW_monthY2014M11\n",
      "IrrLinearWW_monthY2014M12\n",
      "IrrLinearWN_yearY2014\n",
      "IrrLinearWN_monthY2014M01\n",
      "IrrLinearWN_monthY2014M02\n",
      "IrrLinearWN_monthY2014M03\n",
      "IrrLinearWN_monthY2014M04\n",
      "IrrLinearWN_monthY2014M05\n",
      "IrrLinearWN_monthY2014M06\n",
      "IrrLinearWN_monthY2014M07\n",
      "IrrLinearWN_monthY2014M08\n",
      "IrrLinearWN_monthY2014M09\n",
      "IrrLinearWN_monthY2014M10\n",
      "IrrLinearWN_monthY2014M11\n",
      "IrrLinearWN_monthY2014M12\n"
     ]
    }
   ],
   "source": [
    "for r in itertools.product(parameters, temporalScales): \n",
    "    r =list(r)\n",
    "    iterateFunction(r)\n",
    "    \n",
    "    "
   ]
  },
  {
   "cell_type": "code",
   "execution_count": null,
   "metadata": {
    "collapsed": true
   },
   "outputs": [],
   "source": []
  }
 ],
 "metadata": {
  "kernelspec": {
   "display_name": "Python 27",
   "language": "python",
   "name": "python27"
  },
  "language_info": {
   "codemirror_mode": {
    "name": "ipython",
    "version": 2
   },
   "file_extension": ".py",
   "mimetype": "text/x-python",
   "name": "python",
   "nbconvert_exporter": "python",
   "pygments_lexer": "ipython2",
   "version": "2.7.13"
  }
 },
 "nbformat": 4,
 "nbformat_minor": 2
}
