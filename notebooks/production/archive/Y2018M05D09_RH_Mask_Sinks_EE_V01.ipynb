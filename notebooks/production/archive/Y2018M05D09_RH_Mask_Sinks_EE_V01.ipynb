{
 "cells": [
  {
   "cell_type": "code",
   "execution_count": null,
   "metadata": {
    "collapsed": true
   },
   "outputs": [],
   "source": [
    "\"\"\" Mask sinks that have already been used in the max flow accumumation \n",
    "scripts.\n",
    "-------------------------------------------------------------------------------\n",
    "\n",
    "The previous script (Y2018M05D04_RH_Zonal_Stats_Supply_EE_V01) calculted the \n",
    "available riverdischarge in the valid most downstream pixels (30s). There are\n",
    "cases however where multiple streams need to be summed up to determine the \n",
    "total riverdischarge available. The image of sinks needs to be masked by the\n",
    "pixels already used to avoid double counting. \n",
    "\n",
    "\n",
    "\n",
    "\n",
    "Author: Rutger Hofste\n",
    "Date: 20180509\n",
    "Kernel: python35\n",
    "Docker: rutgerhofste/gisdocker:ubuntu16.04\n",
    "\n",
    "Args:\n",
    "\n",
    "    TESTING (boolean) : Testing mode. Uses a smaller geography if enabled.\n",
    "    \n",
    "    SCRIPT_NAME (string) : Script name.\n",
    "    EE_INPUT_ZONES_PATH (string) : earthengine input path for zones.\n",
    "    EE_INPUT_VALUES_PATH (string) : earthengine input path for value images.\n",
    "    INPUT_VERSION_ZONES (integer) : input version for zones images.\n",
    "    INPUT_VERSION_VALUES (integer) : input version for value images.\n",
    "    OUTPUT_VERSION (integer) : output version. \n",
    "    EXTRA_PROPERTIES (dictionary) : Extra properties to store in the resulting\n",
    "        pandas dataframe. \n",
    "    \n",
    "\n",
    "Returns:\n",
    "\n",
    "\"\"\"\n",
    "\n",
    "TESTING = 0\n",
    "SCRIPT_NAME = \"Y2018M05D09_RH_Mask_Sinks_EE_V01\"\n",
    "OUTPUT_VERSION = 1\n",
    "\n"
   ]
  }
 ],
 "metadata": {
  "kernelspec": {
   "display_name": "Python 35",
   "language": "python",
   "name": "python35"
  },
  "language_info": {
   "codemirror_mode": {
    "name": "ipython",
    "version": 3
   },
   "file_extension": ".py",
   "mimetype": "text/x-python",
   "name": "python",
   "nbconvert_exporter": "python",
   "pygments_lexer": "ipython3",
   "version": "3.5.4"
  }
 },
 "nbformat": 4,
 "nbformat_minor": 2
}
