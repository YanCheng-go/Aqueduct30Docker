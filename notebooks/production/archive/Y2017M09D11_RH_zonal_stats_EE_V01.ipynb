{
 "cells": [
  {
   "cell_type": "markdown",
   "metadata": {},
   "source": [
    "### Zonal Statistics using EE with PCRGlobWB data and hydroBasin level 6\n",
    "\n",
    "* Purpose of script: This script will perform a zonal statistics calculation using earth engine, PCRGlobWB data and Hydrobasin level 6 at 30s resolution. \n",
    "* Author: Rutger Hofste\n",
    "* Kernel used: python27\n",
    "* Date created: 20170911"
   ]
  },
  {
   "cell_type": "code",
   "execution_count": 1,
   "metadata": {},
   "outputs": [
    {
     "name": "stdout",
     "output_type": "stream",
     "text": [
      "('Y2017M10D17', 'UTC 12:12')\n"
     ]
    }
   ],
   "source": [
    "import time, datetime\n",
    "dateString = time.strftime(\"Y%YM%mD%d\")\n",
    "timeString = time.strftime(\"UTC %H:%M\")\n",
    "start = datetime.datetime.now()\n",
    "print(dateString,timeString)"
   ]
  },
  {
   "cell_type": "code",
   "execution_count": 2,
   "metadata": {
    "collapsed": true
   },
   "outputs": [],
   "source": [
    "import ee\n",
    "import numpy as np\n",
    "import subprocess\n",
    "from retrying import retry\n",
    "import itertools\n",
    "import re\n",
    "from pprint import *"
   ]
  },
  {
   "cell_type": "code",
   "execution_count": 3,
   "metadata": {
    "collapsed": true
   },
   "outputs": [],
   "source": [
    "ee.Initialize()"
   ]
  },
  {
   "cell_type": "markdown",
   "metadata": {},
   "source": [
    "## Settings"
   ]
  },
  {
   "cell_type": "code",
   "execution_count": 4,
   "metadata": {
    "collapsed": true
   },
   "outputs": [],
   "source": [
    "TESTING = 0\n",
    "\n",
    "EE_PATH = \"projects/WRI-Aquaduct/PCRGlobWB20V07\"\n",
    "\n",
    "HYBASLEVEL = 6\n",
    "\n",
    "DIMENSION5MIN = \"4320x2160\"\n",
    "DIMENSION30S = \"43200x21600\"\n",
    "CRS = \"EPSG:4326\"\n",
    "\n",
    "VERSION = 19\n",
    "\n",
    "GCS_BUCKET= \"aqueduct30_v01\"\n",
    "GCS_OUTPUT_PATH = \"Y2017M09D11_RH_zonal_stats_EE_V%0.2d/\" %(VERSION)\n",
    "\n",
    "HYDROBASINS = \"projects/WRI-Aquaduct/PCRGlobWB20V07/hybas_lev00_v1c_merged_fiona_30s_V01\"\n",
    "\n",
    "AREA5MIN = \"projects/WRI-Aquaduct/PCRGlobWB20V07/area_5min_m2V11\" \n",
    "AREA30S = \"projects/WRI-Aquaduct/PCRGlobWB20V07/area_30s_m2V11\"\n",
    "ONES5MIN =\"projects/WRI-Aquaduct/PCRGlobWB20V07/ones_5minV11\"\n",
    "ONES30S = \"projects/WRI-Aquaduct/PCRGlobWB20V07/ones_30sV11\"\n",
    "\n",
    "YEAR_MIN = 2014\n",
    "YEAR_MAX = 2014\n",
    "\n",
    "PATTERN = \"Y2014\""
   ]
  },
  {
   "cell_type": "code",
   "execution_count": 5,
   "metadata": {
    "collapsed": true
   },
   "outputs": [],
   "source": [
    "reducers = ee.Reducer.mean().combine(reducer2= ee.Reducer.count(), sharedInputs= True)\n",
    "weightedReducers = reducers.splitWeights()"
   ]
  },
  {
   "cell_type": "code",
   "execution_count": 6,
   "metadata": {
    "collapsed": true
   },
   "outputs": [],
   "source": [
    "geometry = ee.Geometry.Polygon(coords=[[-180.0, -90.0], [180,  -90.0], [180, 90], [-180,90]], proj= ee.Projection('EPSG:4326'),geodesic=False )\n",
    "\n",
    "if TESTING ==1:\n",
    "    geometry = ee.Geometry.Polygon(coords=[[-10.0, -10.0], [10,  -10.0], [10, 10], [-10,10]], proj= ee.Projection('EPSG:4326'),geodesic=False )"
   ]
  },
  {
   "cell_type": "markdown",
   "metadata": {},
   "source": [
    "## Functions"
   ]
  },
  {
   "cell_type": "code",
   "execution_count": 7,
   "metadata": {
    "collapsed": true
   },
   "outputs": [],
   "source": [
    "def prepareZonalRaster(image):\n",
    "    image    = ee.Image(image)\n",
    "    newImage = ee.Image(image.divide(ee.Number(10).pow(ee.Number(12).subtract(HYBASLEVEL))).floor())\n",
    "    newImage = newImage.copyProperties(image)\n",
    "    newImage = ee.Image(newImage).toInt64().select([\"b1\"],[\"PfafID\"])\n",
    "    newImage = newImage.set({\"exportdescription\":\"Hybas%0.2d\" %(HYBASLEVEL)})     \n",
    "    return newImage\n",
    "\n",
    "def readAsset(assetId):\n",
    "    # this function will read both images and imageCollections \n",
    "    if ee.data.getInfo(assetId)[\"type\"] == \"Image\":\n",
    "        asset = ee.Image(assetId)\n",
    "        assetType = \"image\"\n",
    "\n",
    "\n",
    "    elif ee.data.getInfo(assetId)[\"type\"] == \"ImageCollection\":\n",
    "        asset = ee.ImageCollection(assetId)\n",
    "        assetType = \"imageCollection\"\n",
    "        \n",
    "    else:\n",
    "        print(\"error\")        \n",
    "    return {\"assetId\":assetId,\"asset\":asset,\"assetType\":assetType}\n",
    "\n",
    "def addSuffix(fc,suffix):\n",
    "    namesOld = ee.Feature(fc.first()).toDictionary().keys()\n",
    "    namesNew = namesOld.map(lambda x:ee.String(x).cat(\"_\").cat(ee.String(suffix)))\n",
    "    return fc.select(namesOld, namesNew)\n",
    "\n",
    "def zonalStats(valueImage, weightImage, zonesImage):\n",
    "    # ee export function is client side. getInfo required\n",
    "    suffix = ee.Image(valueImage).get(\"exportdescription\").getInfo() \n",
    "    scale = zonesImage.projection().nominalScale()\n",
    "    totalImage = ee.Image(valueImage).addBands(ee.Image(weightImage)).addBands(ee.Image(zonesImage))\n",
    "    resultsList = ee.List(totalImage.reduceRegion(\n",
    "        geometry= geometry,\n",
    "        reducer= weightedReducers.group(groupField= 2, groupName= \"PfafID\"),\n",
    "        scale= scale,\n",
    "        maxPixels= 1e10\n",
    "        ).get(\"groups\"))\n",
    "    fc = ee.FeatureCollection(resultsList.map(lambda listItem: ee.Feature(None,listItem)))\n",
    "    fc2 = addSuffix(fc, suffix)\n",
    "    fc2 = fc2.copyProperties(valueImage)\n",
    "    return fc2\n",
    "\n",
    "def volumeToFlux(image):\n",
    "    image = ee.Image(image)\n",
    "    image = image.divide(ee.Image(AREA5MIN)).multiply(1e6).copyProperties(image)\n",
    "    image = image.set(\"units\",\"m\")\n",
    "    image = image.set(\"convertedToFlux\", 1)\n",
    "    return image\n",
    "\n",
    "def addWeightImage(d):\n",
    "    dOut = d\n",
    "    if d['PCRGlobWB'] == 1:\n",
    "        dOut[\"weightAsset30s\"] = ee.Image(AREA30s)\n",
    "    else: \n",
    "        pprint(d)\n",
    "        dOut[\"weightAsset30s\"] = ee.Image(ONES30s)\n",
    "    return dOut\n",
    "\n",
    "@retry(wait_exponential_multiplier=10000, wait_exponential_max=100000)\n",
    "def export(fc):\n",
    "    # Make sure your fc has an attribute called exportdescription.    \n",
    "    # There is a bug in ee that adds ee_export.csv to your filename. Will remove in next steps\n",
    "    fc = ee.FeatureCollection(fc)\n",
    "    description = fc.get(\"exportdescription\").getInfo() + \"V%0.2d\" %(VERSION)\n",
    "    fileName = fc.get(\"exportdescription\").getInfo() + \"V%0.2d\" %(VERSION)\n",
    "    myExportFC = ee.batch.Export.table.toCloudStorage(collection=fc,\n",
    "                                                    description= description,\n",
    "                                                    bucket = GCS_BUCKET,\n",
    "                                                    fileNamePrefix= GCS_OUTPUT_PATH  + fileName ,\n",
    "                                                    fileFormat=\"CSV\")\n",
    "    myExportFC.start()\n",
    "    "
   ]
  },
  {
   "cell_type": "code",
   "execution_count": 8,
   "metadata": {
    "collapsed": true
   },
   "outputs": [],
   "source": [
    "command = \"earthengine ls %s\" %(EE_PATH)"
   ]
  },
  {
   "cell_type": "code",
   "execution_count": 9,
   "metadata": {
    "collapsed": true
   },
   "outputs": [],
   "source": [
    "assetList = subprocess.check_output(command,shell=True).splitlines()"
   ]
  },
  {
   "cell_type": "markdown",
   "metadata": {},
   "source": [
    "## Script\n",
    "\n",
    "This script consists of several parts:\n",
    "1. Auxiliary data  \n",
    "    This includes area cell count, avarage cell size\n",
    "1. Supply Data  \n",
    "    zonal stats for long term average supply (1960-2014)\n",
    "1. Demand Data  \n",
    "    zonal stats for all combinations of Dom, Ind, Irr, IrrLinear, Liv and WW, WN\n",
    "\n"
   ]
  },
  {
   "cell_type": "code",
   "execution_count": 10,
   "metadata": {
    "collapsed": true
   },
   "outputs": [],
   "source": [
    "regexList = []"
   ]
  },
  {
   "cell_type": "code",
   "execution_count": 11,
   "metadata": {
    "collapsed": true
   },
   "outputs": [],
   "source": [
    "#auxList = [\"zones\",\"area_5min\",\"area_30s\",\"ones_5min\",\"ones_30s\"]\n",
    "auxList = [\"zones\",\"area_30s\",\"ones_30s\"]"
   ]
  },
  {
   "cell_type": "code",
   "execution_count": 12,
   "metadata": {
    "collapsed": true
   },
   "outputs": [],
   "source": [
    "sectors = [\"Dom\",\"Ind\",\"Irr\",\"IrrLinear\",\"Liv\"]\n",
    "parameters = [\"WW\",\"WN\"]\n",
    "temporalScales = [\"year\",\"month\"]\n",
    "runoffparameters = [\"runoff\",\"reducedmeanrunoff\"]"
   ]
  },
  {
   "cell_type": "code",
   "execution_count": 13,
   "metadata": {
    "collapsed": true
   },
   "outputs": [],
   "source": [
    "if TESTING:\n",
    "    sectors = [\"Dom\"]\n",
    "    parameters = [\"WW\"]\n",
    "    temporalScales = [\"year\",\"month\"]\n",
    "    runoffparameters = [\"runoff\",\"reducedmeanrunoff\"]"
   ]
  },
  {
   "cell_type": "code",
   "execution_count": 14,
   "metadata": {
    "collapsed": true
   },
   "outputs": [],
   "source": [
    "demandList = []\n",
    "for r in itertools.product(sectors,parameters, temporalScales): \n",
    "    regex = \"%s%s_%s\" %(r[0],r[1],r[2])\n",
    "    demandList = demandList + [regex]"
   ]
  },
  {
   "cell_type": "code",
   "execution_count": 15,
   "metadata": {
    "collapsed": true
   },
   "outputs": [],
   "source": [
    "supplyList = []\n",
    "for r in itertools.product(runoffparameters, temporalScales): \n",
    "    regex = \"%s_%s\" %(r[0],r[1])\n",
    "    supplyList = supplyList + [regex]"
   ]
  },
  {
   "cell_type": "code",
   "execution_count": 16,
   "metadata": {
    "collapsed": true
   },
   "outputs": [],
   "source": [
    "regexList = regexList + auxList + demandList + supplyList"
   ]
  },
  {
   "cell_type": "code",
   "execution_count": 17,
   "metadata": {
    "collapsed": true
   },
   "outputs": [],
   "source": [
    "d = dict(zip(regexList,[{}]*len(regexList)))"
   ]
  },
  {
   "cell_type": "code",
   "execution_count": 18,
   "metadata": {},
   "outputs": [
    {
     "name": "stdout",
     "output_type": "stream",
     "text": [
      "zones\n",
      "area_30s\n",
      "ones_30s\n",
      "DomWW_year\n",
      "DomWW_month\n",
      "DomWN_year\n",
      "DomWN_month\n",
      "IndWW_year\n",
      "IndWW_month\n",
      "IndWN_year\n",
      "IndWN_month\n",
      "IrrWW_year\n",
      "IrrWW_month\n",
      "IrrWN_year\n",
      "IrrWN_month\n",
      "IrrLinearWW_year\n",
      "IrrLinearWW_month\n",
      "IrrLinearWN_year\n",
      "IrrLinearWN_month\n",
      "LivWW_year\n",
      "LivWW_month\n",
      "LivWN_year\n",
      "LivWN_month\n",
      "runoff_year\n",
      "runoff_month\n",
      "reducedmeanrunoff_year\n",
      "reducedmeanrunoff_month\n"
     ]
    }
   ],
   "source": [
    "for regex in regexList:\n",
    "    # item is also the regular expression\n",
    "    print(regex)\n",
    "    if regex == \"zones\":\n",
    "        d[regex] = readAsset(HYDROBASINS)\n",
    "        d[regex][\"asset\"] = prepareZonalRaster(ee.Image(HYDROBASINS))\n",
    "    else:\n",
    "        for assetId in assetList:\n",
    "            if re.search(regex,assetId):\n",
    "                d[regex] = readAsset(assetId)"
   ]
  },
  {
   "cell_type": "code",
   "execution_count": 19,
   "metadata": {
    "collapsed": true
   },
   "outputs": [],
   "source": [
    "zonesImage = d[\"zones\"][\"asset\"]"
   ]
  },
  {
   "cell_type": "code",
   "execution_count": 20,
   "metadata": {},
   "outputs": [
    {
     "name": "stdout",
     "output_type": "stream",
     "text": [
      "('DomWN_year', ' using area30s as weight')\n",
      "('LivWW_year', ' using area30s as weight')\n",
      "('IrrLinearWW_year', ' using area30s as weight')\n",
      "('IndWW_year', ' using area30s as weight')\n",
      "('zones', ' using ones30s as weight')\n",
      "('IrrWW_month', ' using area30s as weight')\n",
      "('IrrWN_year', ' using area30s as weight')\n",
      "('LivWN_month', ' using area30s as weight')\n",
      "('IrrWW_year', ' using area30s as weight')\n",
      "('IndWN_year', ' using area30s as weight')\n",
      "('DomWN_month', ' using area30s as weight')\n",
      "('DomWW_year', ' using area30s as weight')\n",
      "('ones_30s', ' using ones30s as weight')\n",
      "('IndWW_month', ' using area30s as weight')\n",
      "('area_30s', ' using ones30s as weight')\n",
      "('IrrLinearWN_year', ' using area30s as weight')\n",
      "('runoff_year', ' using area30s as weight')\n",
      "('IndWN_month', ' using area30s as weight')\n",
      "('runoff_month', ' using area30s as weight')\n",
      "('IrrLinearWN_month', ' using area30s as weight')\n",
      "('reducedmeanrunoff_month', ' using area30s as weight')\n",
      "('LivWW_month', ' using area30s as weight')\n",
      "('IrrWN_month', ' using area30s as weight')\n",
      "('IrrLinearWW_month', ' using area30s as weight')\n",
      "('LivWN_year', ' using area30s as weight')\n",
      "('reducedmeanrunoff_year', ' using area30s as weight')\n",
      "('DomWW_month', ' using area30s as weight')\n"
     ]
    }
   ],
   "source": [
    "a = []\n",
    "\n",
    "for key, nestedDict in d.iteritems():\n",
    "    try:\n",
    "        if key in auxList:\n",
    "            print(key, \" using ones30s as weight\")\n",
    "            weightsImage = ee.Image(ONES30S)\n",
    "\n",
    "        else:\n",
    "            print(key, \" using area30s as weight\")\n",
    "            weightsImage = ee.Image(AREA30S)\n",
    "\n",
    "\n",
    "\n",
    "        if nestedDict[\"assetType\"] == \"image\":\n",
    "            image = nestedDict[\"asset\"]\n",
    "            units = image.get(\"units\").getInfo()\n",
    "            if units == \"millionm3\":\n",
    "                image = volumeToFlux(image) \n",
    "\n",
    "\n",
    "            fcOut = zonalStats(ee.Image(image),weightsImage,zonesImage)\n",
    "            export(fcOut)\n",
    "        elif nestedDict[\"assetType\"] == \"imageCollection\": \n",
    "            imagesList = ee.data.getList({\"id\":\"%s\" %(nestedDict[\"assetId\"])} )\n",
    "            for item in imagesList:\n",
    "                imageId = item[\"id\"]\n",
    "                # Filter 2014 images\n",
    "                image = ee.Image(imageId)\n",
    "                units = image.get(\"units\").getInfo()\n",
    "                if units == \"millionm3\":\n",
    "                    image = volumeToFlux(image)           \n",
    "\n",
    "\n",
    "                if re.search(PATTERN,imageId):\n",
    "                    fcOut = zonalStats(ee.Image(image),weightsImage,zonesImage)\n",
    "                    export(fcOut)\n",
    "        else:\n",
    "            print(\"error\")\n",
    "    except:\n",
    "        print(\"error\",key)\n",
    "        "
   ]
  },
  {
   "cell_type": "code",
   "execution_count": 21,
   "metadata": {},
   "outputs": [
    {
     "name": "stdout",
     "output_type": "stream",
     "text": [
      "4:34:41.730780\n"
     ]
    }
   ],
   "source": [
    "end = datetime.datetime.now()\n",
    "elapsed = end - start\n",
    "print(elapsed)"
   ]
  }
 ],
 "metadata": {
  "kernelspec": {
   "display_name": "Python 27",
   "language": "python",
   "name": "python27"
  },
  "language_info": {
   "codemirror_mode": {
    "name": "ipython",
    "version": 2
   },
   "file_extension": ".py",
   "mimetype": "text/x-python",
   "name": "python",
   "nbconvert_exporter": "python",
   "pygments_lexer": "ipython2",
   "version": "2.7.14"
  }
 },
 "nbformat": 4,
 "nbformat_minor": 2
}
