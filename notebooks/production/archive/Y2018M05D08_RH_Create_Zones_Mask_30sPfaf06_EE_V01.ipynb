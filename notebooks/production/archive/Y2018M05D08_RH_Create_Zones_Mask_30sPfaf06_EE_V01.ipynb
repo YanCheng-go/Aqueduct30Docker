{
 "cells": [
  {
   "cell_type": "code",
   "execution_count": 6,
   "metadata": {},
   "outputs": [
    {
     "name": "stdout",
     "output_type": "stream",
     "text": [
      "Input ee zones: projects/WRI-Aquaduct/Y2018M04D20_RH_Ingest_HydroBasins_GCS_EE_V01/output_V02/hybas_lev06_v1c_merged_fiona_30s_V04\n",
      "Input ee mask: projects/WRI-Aquaduct/Y2018M05D03_RH_Max_FA_Add_Sinks_EE_V01/output_V02/global_max_maskedaccumulateddrainagearea_km2_30sPfaf06\n",
      "Input fa: projects/WRI-Aquaduct/Y2017M08D02_RH_Ingest_Aux_Rasters_GCS_EE_V02/output_V06/global_accumulateddrainagearea_km2_05min\n",
      "Output ee path: projects/WRI-Aquaduct/Y2018M05D08_RH_Create_Zones_Mask_30sPfaf06_EE_V01/output_V02\n"
     ]
    }
   ],
   "source": [
    "\"\"\" Use the masked max riverdischarge flow accumulation and zones to create \n",
    "final masked zones image.\n",
    "-------------------------------------------------------------------------------\n",
    "\n",
    "The result of the previous step (Y2018M05D03_RH_Max_FA_Add_Sinks_EE_V01) is a \n",
    "raster with the FA in the non-masked pixels and 0 in everything else. \n",
    "\n",
    "This script uses this image as a mask that is applied to the 30sPfaf06 zones\n",
    "image. \n",
    "\n",
    "\n",
    "TESTING (boolean) : Testing mode. Uses a smaller geography if enabled.\n",
    "SCRIPT_NAME (string) : Script name.\n",
    "OUTPUT_VERSION (Integer) : Output version.\n",
    "EE_INPUT_ZONES_ASSET_ID (string) : earthengine input path for zones.\n",
    "EE_INPUT_MAX_MASKEDFA_ASSET_ID (string) : earthengine input path for masks.\n",
    "EE_INPUT_FA_ASSET_ID (string) : earthengine input path for flow accumulation.\n",
    "\n",
    "EXTRA_PROPERTIES (dictionary) : Dictionary with extra properties for output image.\n",
    "\n",
    "\n",
    "\"\"\"\n",
    "TESTING = 0\n",
    "SCRIPT_NAME = \"Y2018M05D08_RH_Create_Zones_Mask_30sPfaf06_EE_V01\"\n",
    "OUTPUT_VERSION = 2\n",
    "\n",
    "EE_INPUT_ZONES_ASSET_ID = \"projects/WRI-Aquaduct/Y2018M04D20_RH_Ingest_HydroBasins_GCS_EE_V01/output_V02/hybas_lev06_v1c_merged_fiona_30s_V04\"\n",
    "EE_INPUT_MAX_MASKEDFA_ASSET_ID = \"projects/WRI-Aquaduct/Y2018M05D03_RH_Max_FA_Add_Sinks_EE_V01/output_V02/global_max_maskedaccumulateddrainagearea_km2_30sPfaf06\"\n",
    "EE_INPUT_FA_ASSET_ID = \"projects/WRI-Aquaduct/Y2017M08D02_RH_Ingest_Aux_Rasters_GCS_EE_V02/output_V06/global_accumulateddrainagearea_km2_05min\"\n",
    "\n",
    "\n",
    "\n",
    "EXTRA_PROPERTIES = {\"output_version\":OUTPUT_VERSION,\n",
    "                    \"script_used\":SCRIPT_NAME,\n",
    "                    \"mask\":EE_INPUT_MAX_MASKEDFA_ASSET_ID\n",
    "                   }\n",
    "\n",
    "\n",
    "# Output Parameters\n",
    "ee_output_path = \"projects/WRI-Aquaduct/{}/output_V{:02.0f}\".format(SCRIPT_NAME,OUTPUT_VERSION)\n",
    "\n",
    "\n",
    "print(\"Input ee zones: \" +  EE_INPUT_ZONES_ASSET_ID +\n",
    "      \"\\nInput ee mask: \" + EE_INPUT_MAX_MASKEDFA_ASSET_ID + \n",
    "      \"\\nInput fa: \" + EE_INPUT_FA_ASSET_ID +\n",
    "      \"\\nOutput ee path: \" + ee_output_path)\n"
   ]
  },
  {
   "cell_type": "code",
   "execution_count": 2,
   "metadata": {},
   "outputs": [
    {
     "name": "stdout",
     "output_type": "stream",
     "text": [
      "Y2018M05D08 UTC 12:09\n"
     ]
    },
    {
     "data": {
      "text/plain": [
       "'3.5.4 |Anaconda, Inc.| (default, Nov 20 2017, 18:44:38) \\n[GCC 7.2.0]'"
      ]
     },
     "execution_count": 2,
     "metadata": {},
     "output_type": "execute_result"
    }
   ],
   "source": [
    "import time, datetime, sys, logging\n",
    "dateString = time.strftime(\"Y%YM%mD%d\")\n",
    "timeString = time.strftime(\"UTC %H:%M\")\n",
    "start = datetime.datetime.now()\n",
    "print(dateString,timeString)\n",
    "sys.version"
   ]
  },
  {
   "cell_type": "code",
   "execution_count": 3,
   "metadata": {
    "collapsed": true
   },
   "outputs": [],
   "source": [
    "import ee\n",
    "import aqueduct3\n",
    "ee.Initialize()"
   ]
  },
  {
   "cell_type": "code",
   "execution_count": 4,
   "metadata": {},
   "outputs": [
    {
     "name": "stdout",
     "output_type": "stream",
     "text": [
      "earthengine create folder projects/WRI-Aquaduct/Y2018M05D08_RH_Create_Zones_Mask_30sPfaf06_EE_V01 b'Asset projects/WRI-Aquaduct/Y2018M05D08_RH_Create_Zones_Mask_30sPfaf06_EE_V01 already exists\\n'\n",
      "earthengine create folder projects/WRI-Aquaduct/Y2018M05D08_RH_Create_Zones_Mask_30sPfaf06_EE_V01/output_V02 b''\n"
     ]
    }
   ],
   "source": [
    "# Images\n",
    "i_zones_30sPfaf06 = ee.Image(EE_INPUT_ZONES_ASSET_ID)\n",
    "i_fa_km2_05min = ee.Image(EE_INPUT_FA_ASSET_ID)\n",
    "i_max_maskedfa_km2_30sPfaf06 = ee.Image(EE_INPUT_MAX_MASKEDFA_ASSET_ID)\n",
    "\n",
    "# 0. Mask from previous script: (Y2018M05D03_RH_Max_FA_Add_Sinks_EE_V01 == flow accumulation ) \n",
    "i_mask_max_maskedfa_boolean_30sPfaf06 =  i_max_maskedfa_km2_30sPfaf06.eq(i_fa_km2_05min)\n",
    "i_masked_zones_30sPfaf06 = i_zones_30sPfaf06.mask(i_mask_max_maskedfa_boolean_30sPfaf06.neq(0))\n",
    "i_masked_zones_30sPfaf06 = i_masked_zones_30sPfaf06.setMulti(EXTRA_PROPERTIES)\n",
    "\n",
    "result = aqueduct3.earthengine.create_ee_folder_recursive(ee_output_path)\n",
    "\n",
    "key = \"validmaxfa_hybas_lev06_v1c_merged_fiona_30s_V04\"\n",
    "description = key\n",
    "output_asset_id = \"{}/{}\".format(ee_output_path,key)\n",
    "\n",
    "spatial_resolution = \"30s\"\n",
    "geometry_server_side = aqueduct3.earthengine.get_global_geometry(test=TESTING)\n",
    "geometry_client_side = geometry_server_side.getInfo()['coordinates']\n",
    "crs_transform = aqueduct3.earthengine.get_crs_transform(spatial_resolution)\n",
    "\n",
    "task = ee.batch.Export.image.toAsset(\n",
    "    image =  i_masked_zones_30sPfaf06,\n",
    "    assetId = output_asset_id,\n",
    "    region = geometry_client_side,\n",
    "    description = description,\n",
    "    #dimensions = dimensions,\n",
    "    crs = \"EPSG:4326\",\n",
    "    crsTransform = crs_transform,\n",
    "    maxPixels = 1e10     \n",
    ")\n",
    "task.start()"
   ]
  },
  {
   "cell_type": "code",
   "execution_count": 5,
   "metadata": {},
   "outputs": [
    {
     "name": "stdout",
     "output_type": "stream",
     "text": [
      "0:00:08.885712\n"
     ]
    }
   ],
   "source": [
    "end = datetime.datetime.now()\n",
    "elapsed = end - start\n",
    "print(elapsed)"
   ]
  },
  {
   "cell_type": "markdown",
   "metadata": {},
   "source": [
    "Previous Runs:  \n",
    "0:00:08.885712"
   ]
  },
  {
   "cell_type": "code",
   "execution_count": null,
   "metadata": {
    "collapsed": true
   },
   "outputs": [],
   "source": []
  }
 ],
 "metadata": {
  "kernelspec": {
   "display_name": "Python 35",
   "language": "python",
   "name": "python35"
  },
  "language_info": {
   "codemirror_mode": {
    "name": "ipython",
    "version": 3
   },
   "file_extension": ".py",
   "mimetype": "text/x-python",
   "name": "python",
   "nbconvert_exporter": "python",
   "pygments_lexer": "ipython3",
   "version": "3.5.4"
  }
 },
 "nbformat": 4,
 "nbformat_minor": 2
}
