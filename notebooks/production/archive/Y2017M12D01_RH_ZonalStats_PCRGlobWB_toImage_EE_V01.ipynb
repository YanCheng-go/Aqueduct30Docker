{
 "cells": [
  {
   "cell_type": "markdown",
   "metadata": {},
   "source": [
    "# Y2017M12D01_RH_ZonalStats_PCRGlobWB_toImage_EE_V01\n",
    "\n",
    "* Purpose of script: calculate sectoral demand, total demand, runoff and discharge per Hydrobasin level 6, export to imageCollections\n",
    "* Kernel used: python27\n",
    "* Date created: 20171201"
   ]
  },
  {
   "cell_type": "code",
   "execution_count": 1,
   "metadata": {},
   "outputs": [
    {
     "name": "stdout",
     "output_type": "stream",
     "text": [
      "('Y2017M12D14', 'UTC 16:46')\n"
     ]
    },
    {
     "data": {
      "text/plain": [
       "'2.7.13 |Continuum Analytics, Inc.| (default, Dec 20 2016, 23:09:15) \\n[GCC 4.4.7 20120313 (Red Hat 4.4.7-1)]'"
      ]
     },
     "execution_count": 1,
     "metadata": {},
     "output_type": "execute_result"
    }
   ],
   "source": [
    "import time, datetime, sys\n",
    "dateString = time.strftime(\"Y%YM%mD%d\")\n",
    "timeString = time.strftime(\"UTC %H:%M\")\n",
    "start = datetime.datetime.now()\n",
    "print(dateString,timeString)\n",
    "sys.version"
   ]
  },
  {
   "cell_type": "code",
   "execution_count": 2,
   "metadata": {
    "collapsed": true
   },
   "outputs": [],
   "source": [
    "EE_PATH = \"projects/WRI-Aquaduct/PCRGlobWB20V07\"\n",
    "\n",
    "SCRIPT_NAME = \"Y2017M12D01_RH_ZonalStats_PCRGlobWB_toImage_EE_V01\"\n",
    "\n",
    "OUTPUT_VERSION = 5\n",
    "\n",
    "PFAF_LEVEL = 6\n",
    "\n",
    "TESTING = 0\n",
    "\n",
    "DIMENSION5MIN = {}\n",
    "DIMENSION5MIN[\"x\"] = 4320\n",
    "DIMENSION5MIN[\"y\"] = 2160\n",
    "\n",
    "DIMENSION30S = {}\n",
    "DIMENSION30S[\"x\"] = 43200\n",
    "DIMENSION30S[\"y\"] = 21600\n",
    "\n",
    "CRS = \"EPSG:4326\"\n",
    "\n",
    "YEARMIN = 1960\n",
    "YEARMAX = 2014"
   ]
  },
  {
   "cell_type": "code",
   "execution_count": 3,
   "metadata": {
    "collapsed": true
   },
   "outputs": [],
   "source": [
    "import ee\n",
    "import subprocess\n",
    "import pandas as pd\n",
    "import logging\n",
    "import subprocess"
   ]
  },
  {
   "cell_type": "code",
   "execution_count": 4,
   "metadata": {
    "collapsed": true
   },
   "outputs": [],
   "source": [
    "ee.Initialize()"
   ]
  },
  {
   "cell_type": "code",
   "execution_count": 5,
   "metadata": {
    "collapsed": true
   },
   "outputs": [],
   "source": [
    "logger = logging.getLogger(__name__)\n",
    "logger.setLevel(logging.DEBUG)\n",
    "formatter = logging.Formatter('%(asctime)s:%(levelname)s:%(message)s')\n",
    "file_handler = logging.FileHandler(\"./logs/%sV%0.2d.log\" %(SCRIPT_NAME,OUTPUT_VERSION))\n",
    "file_handler.setFormatter(formatter)\n",
    "logger.addHandler(file_handler)"
   ]
  },
  {
   "cell_type": "code",
   "execution_count": 6,
   "metadata": {
    "collapsed": true
   },
   "outputs": [],
   "source": [
    "area5min = ee.Image(\"%s/area_5min_m2V11\" %(EE_PATH))\n",
    "dimensions5min = \"%sx%s\" %(DIMENSION5MIN[\"x\"],DIMENSION5MIN[\"y\"])\n",
    "dimensions30s = \"%sx%s\" %(DIMENSION30S[\"x\"],DIMENSION30S[\"y\"])\n",
    "\n",
    "dimensions5minSmall = \"%sx%s\" %(DIMENSION5MIN[\"x\"],int(0.9*DIMENSION5MIN[\"y\"]))\n",
    "dimensions30sSmall = \"%sx%s\" %(DIMENSION30S[\"x\"],int(0.9*DIMENSION30S[\"y\"]))\n"
   ]
  },
  {
   "cell_type": "code",
   "execution_count": 7,
   "metadata": {
    "collapsed": true
   },
   "outputs": [],
   "source": [
    "crsTransform5min = [\n",
    "                0.0833333309780367,\n",
    "                0,\n",
    "                -179.99999491255934,\n",
    "                0,\n",
    "                -0.0833333309780367,\n",
    "                90.00000254430942\n",
    "              ]"
   ]
  },
  {
   "cell_type": "code",
   "execution_count": 8,
   "metadata": {
    "collapsed": true
   },
   "outputs": [],
   "source": [
    "crsTransform30s = [\n",
    "                0.008333333333333333,\n",
    "                0,\n",
    "                -180,\n",
    "                0,\n",
    "                -0.008333333333333333,\n",
    "                90\n",
    "              ]"
   ]
  },
  {
   "cell_type": "code",
   "execution_count": 9,
   "metadata": {
    "collapsed": true
   },
   "outputs": [],
   "source": [
    "crsTransform5minSmall = [\n",
    "    360.0 / DIMENSION5MIN[\"x\"], \n",
    "    0,\n",
    "    -180,\n",
    "    0,\n",
    "    -162.0 / (0.9* DIMENSION5MIN[\"y\"]),\n",
    "    81   \n",
    "]"
   ]
  },
  {
   "cell_type": "code",
   "execution_count": 10,
   "metadata": {
    "collapsed": true
   },
   "outputs": [],
   "source": [
    "crsTransform30sSmall = [\n",
    "    360.0 / DIMENSION30S[\"x\"], \n",
    "    0,\n",
    "    -180,\n",
    "    0,\n",
    "    -162.0 / (0.9* DIMENSION30S[\"y\"]),\n",
    "    81   \n",
    "]"
   ]
  },
  {
   "cell_type": "code",
   "execution_count": 11,
   "metadata": {},
   "outputs": [
    {
     "data": {
      "text/plain": [
       "[0.008333333333333333, 0, -180, 0, -0.008333333333333333, 81]"
      ]
     },
     "execution_count": 11,
     "metadata": {},
     "output_type": "execute_result"
    }
   ],
   "source": [
    "crsTransform30sSmall"
   ]
  },
  {
   "cell_type": "code",
   "execution_count": 12,
   "metadata": {
    "collapsed": true
   },
   "outputs": [],
   "source": [
    "geometry = ee.Geometry.Polygon(coords=[[-180.0, -90.0], [180,  -90.0], [180, 90], [-180,90]], proj= ee.Projection('EPSG:4326'),geodesic=False )\n",
    "geometrySmall = ee.Geometry.Polygon(coords=[[-180.0, -81.0], [180,  -81.0], [180, 81], [-180,81]], proj= ee.Projection('EPSG:4326'),geodesic=False )\n",
    "\n",
    "if TESTING ==1:\n",
    "    geometrySmall = ee.Geometry.Polygon(coords=[[-10.0, -10.0], [10,  -10.0], [10, 10], [-10,10]], proj= ee.Projection('EPSG:4326'),geodesic=False )"
   ]
  },
  {
   "cell_type": "code",
   "execution_count": 13,
   "metadata": {
    "collapsed": true
   },
   "outputs": [],
   "source": [
    "demandSectors = [\"PDom\",\"PInd\",\"PIrr\",\"PLiv\",\"PTot\"]\n",
    "demandTypes = [\"WW\",\"WN\"]\n",
    "temporalResolutions = [\"year\",\"month\"]\n",
    "\n",
    "#supplySectors = [\"runoff\",\"riverdischarge\"].\n",
    "supplySectors =[]"
   ]
  },
  {
   "cell_type": "markdown",
   "metadata": {},
   "source": [
    "Because running takes so long I will run the most important datasets first"
   ]
  },
  {
   "cell_type": "code",
   "execution_count": 14,
   "metadata": {
    "collapsed": true
   },
   "outputs": [],
   "source": [
    "demandSectors = [\"PTot\"]\n",
    "demandTypes = [\"WN\"]\n",
    "temporalResolutions = [\"month\"]\n",
    "\n",
    "#supplySectors = [\"riverdischarge\"]\n",
    "supplySectors =[]"
   ]
  },
  {
   "cell_type": "code",
   "execution_count": 15,
   "metadata": {
    "collapsed": true
   },
   "outputs": [],
   "source": [
    "def createIndicatorDataFrame():\n",
    "    indicatorDf = pd.DataFrame()\n",
    "    for temporalResolution in temporalResolutions:\n",
    "        for demandSector in demandSectors:\n",
    "            for demandType in demandTypes:        \n",
    "                newRow = {}\n",
    "                newRow[\"sector\"] = demandSector\n",
    "                newRow[\"demandType\"] = demandType\n",
    "                newRow[\"temporalResolution\"] = temporalResolution\n",
    "                newRow[\"units\"] = \"millionm3\"\n",
    "                newRow[\"icID\"] = \"%s/global_historical_%s%s_%s_millionm3_5min_1960_2014\" %(EE_PATH,demandSector,demandType,temporalResolution)\n",
    "                indicatorDf = indicatorDf.append(newRow,ignore_index=True)\n",
    "        for supplySector in supplySectors:\n",
    "                newRow = {}\n",
    "                newRow[\"sector\"] =supplySector\n",
    "                newRow[\"demandType\"] = \"\"\n",
    "                newRow[\"temporalResolution\"] = temporalResolution\n",
    "                newRow[\"units\"] = \"millionm3\"\n",
    "                if supplySector == \"riverdischarge\":\n",
    "                    newRow[\"icID\"] = \"%s/global_historical_%s_%s_millionm3_5min_1960_2014\" %(EE_PATH,supplySector,temporalResolution)\n",
    "                elif supplySector == \"runoff\":\n",
    "                    newRow[\"icID\"] = \"%s/global_historical_%s_%s_millionm3_5min_1958_2014\" %(EE_PATH,supplySector,temporalResolution)\n",
    "                indicatorDf = indicatorDf.append(newRow,ignore_index=True)        \n",
    "        \n",
    "    return indicatorDf\n",
    "\n",
    "def createBasinsImage(PfafLevel):\n",
    "    HydroBASINSimage = ee.Image(\"users/rutgerhofste/PCRGlobWB20V04/support/global_Standard_lev00_30sGDALv01\")\n",
    "    HydroBASINSimageProjection = HydroBASINSimage.projection()\n",
    "    HydroBASINSimageNominalScale = HydroBASINSimageProjection.nominalScale()\n",
    "    hydroBasin = HydroBASINSimage.divide(ee.Number(10).pow(ee.Number(12).subtract(PfafLevel))).floor()\n",
    "    hydroBasin = hydroBasin.toInt64()\n",
    "    return ee.Image(hydroBasin), HydroBASINSimageNominalScale.getInfo()\n",
    "\n",
    "def volumeToFlux5min(image):\n",
    "    fluxImage = ee.Image(image).divide(area5min).multiply(1e6)\n",
    "    fluxImage = fluxImage.copyProperties(image)\n",
    "    fluxImage = fluxImage.set(\"units\",\"m\")\n",
    "    return ee.Image(fluxImage)\n",
    "\n",
    "\n",
    "def ensure_default_properties(obj): \n",
    "    obj = ee.Dictionary(obj)\n",
    "    default_properties = ee.Dictionary({\"mean\": -9999,\"count\": -9999})\n",
    "    return default_properties.combine(obj)\n",
    "\n",
    "def mapList(results, key):\n",
    "    newResult = results.map(lambda x: ee.Dictionary(x).get(key))\n",
    "    return newResult\n",
    "\n",
    "def createCollections(sector,demandType,temporalResolution):\n",
    "    icId = \"%s/global_historical_%s%s_%s_m_pfaf%0.2d_1960_2014\" %(EE_PATH,sector,demandType,temporalResolution,PFAF_LEVEL)\n",
    "        \n",
    "    command = \"earthengine create collection %s\" %(icId) \n",
    "    result = subprocess.check_output(command,shell=True)\n",
    "    if result:\n",
    "        logger.error(result)\n",
    "    return icId\n",
    "        \n",
    "def zonalStatsToImage(image):     \n",
    "    imageFlux = volumeToFlux5min(image)\n",
    "    totalImage = imageFlux.addBands(hydroBasin)\n",
    "    totalImage = totalImage.select(totalImage.bandNames(),[\"flux\",\"zones\"])\n",
    "    resultsList = ee.List(\n",
    "      totalImage.reduceRegion(\n",
    "        geometry= geometrySmall,\n",
    "        reducer= reducer,\n",
    "        scale= hybasScale,\n",
    "        maxPixels=1e10\n",
    "      ).get(\"groups\")\n",
    "    )\n",
    "    resultsList = resultsList.map(ensure_default_properties)\n",
    "    zoneList = mapList(resultsList, 'zones')\n",
    "    \n",
    "    meanList = mapList(resultsList,\"mean\")\n",
    "    meanImage = hydroBasin.remap(zoneList, meanList)\n",
    "    meanImage = ee.Image(meanImage).select([\"remapped\"],[\"mean\"])\n",
    "    \n",
    "    countList = mapList(resultsList,\"count\")\n",
    "    countImage = hydroBasin.remap(zoneList, countList)\n",
    "    countImage = ee.Image(countImage).select([\"remapped\"],[\"count\"])\n",
    "    \n",
    "    resultImage = meanImage.addBands(countImage)    \n",
    "    resultImage = resultImage.copyProperties(image)    \n",
    "        \n",
    "    exportdescription = \"%s%s_%sY%0.4dM%0.2d\" %(row[\"sector\"],row[\"demandType\"],row[\"temporalResolution\"],year,month)\n",
    "    properties = {\"units\":\"m\",\n",
    "                  \"script_used\":SCRIPT_NAME,\n",
    "                  \"output_version\":OUTPUT_VERSION,\n",
    "                  \"reducer\":\"mean_and_count\",\n",
    "                  \"Pfaf_Level\":PFAF_LEVEL,\n",
    "                  \"exportdescription\":exportdescription\n",
    "                  }\n",
    "    \n",
    "    resultImage = resultImage.set(properties)\n",
    "    \n",
    "    \n",
    "    newAssetID = \"%s/global_historical_%s%s_%s_m_pfaf%0.2d_1960_2014Y%0.4dM%0.2d\" %(newIcID,row[\"sector\"],row[\"demandType\"],row[\"temporalResolution\"],PFAF_LEVEL,year,month)\n",
    "    logger.debug(newAssetID)\n",
    "    description = \"%sV%0.2d\" %(exportdescription, OUTPUT_VERSION)\n",
    "    \n",
    "    task = ee.batch.Export.image.toAsset(\n",
    "        image =  ee.Image(resultImage),\n",
    "        description = description,\n",
    "        assetId = newAssetID,\n",
    "        #region = geometrySmall.bounds().getInfo()['coordinates'][0],\n",
    "        dimensions = dimensions30sSmall,\n",
    "        #scale = scale30s,\n",
    "        crs = CRS,    \n",
    "        crsTransform = crsTransform30sSmall,\n",
    "        maxPixels = 1e10    \n",
    "    )\n",
    "    task.start()     \n",
    "    \n",
    "    return ee.Image(resultImage)"
   ]
  },
  {
   "cell_type": "code",
   "execution_count": 16,
   "metadata": {
    "collapsed": true
   },
   "outputs": [],
   "source": [
    "indicatorDf = createIndicatorDataFrame()"
   ]
  },
  {
   "cell_type": "code",
   "execution_count": 17,
   "metadata": {
    "collapsed": true
   },
   "outputs": [],
   "source": [
    "hydroBasin, hybasScale = createBasinsImage(PFAF_LEVEL)"
   ]
  },
  {
   "cell_type": "code",
   "execution_count": 18,
   "metadata": {},
   "outputs": [
    {
     "data": {
      "text/html": [
       "<div>\n",
       "<style>\n",
       "    .dataframe thead tr:only-child th {\n",
       "        text-align: right;\n",
       "    }\n",
       "\n",
       "    .dataframe thead th {\n",
       "        text-align: left;\n",
       "    }\n",
       "\n",
       "    .dataframe tbody tr th {\n",
       "        vertical-align: top;\n",
       "    }\n",
       "</style>\n",
       "<table border=\"1\" class=\"dataframe\">\n",
       "  <thead>\n",
       "    <tr style=\"text-align: right;\">\n",
       "      <th></th>\n",
       "      <th>demandType</th>\n",
       "      <th>icID</th>\n",
       "      <th>sector</th>\n",
       "      <th>temporalResolution</th>\n",
       "      <th>units</th>\n",
       "    </tr>\n",
       "  </thead>\n",
       "  <tbody>\n",
       "    <tr>\n",
       "      <th>0</th>\n",
       "      <td>WN</td>\n",
       "      <td>projects/WRI-Aquaduct/PCRGlobWB20V07/global_hi...</td>\n",
       "      <td>PTot</td>\n",
       "      <td>month</td>\n",
       "      <td>millionm3</td>\n",
       "    </tr>\n",
       "  </tbody>\n",
       "</table>\n",
       "</div>"
      ],
      "text/plain": [
       "  demandType                                               icID sector  \\\n",
       "0         WN  projects/WRI-Aquaduct/PCRGlobWB20V07/global_hi...   PTot   \n",
       "\n",
       "  temporalResolution      units  \n",
       "0              month  millionm3  "
      ]
     },
     "execution_count": 18,
     "metadata": {},
     "output_type": "execute_result"
    }
   ],
   "source": [
    "indicatorDf"
   ]
  },
  {
   "cell_type": "code",
   "execution_count": 19,
   "metadata": {
    "collapsed": true
   },
   "outputs": [],
   "source": [
    "reducer = ee.Reducer.mean().combine(reducer2= ee.Reducer.count(), sharedInputs= True).group(groupField=1, groupName= \"zones\")"
   ]
  },
  {
   "cell_type": "code",
   "execution_count": 20,
   "metadata": {},
   "outputs": [
    {
     "name": "stdout",
     "output_type": "stream",
     "text": [
      "projects/WRI-Aquaduct/PCRGlobWB20V07/global_historical_PTotWN_month_m_pfaf06_1960_2014\n"
     ]
    }
   ],
   "source": [
    "for index, row in indicatorDf.iterrows():    \n",
    "    newIcID = createCollections(row[\"sector\"],row[\"demandType\"],row[\"temporalResolution\"])\n",
    "    print(newIcID)\n",
    "    ic = ee.ImageCollection(row[\"icID\"])\n",
    "    \n",
    "    if row[\"temporalResolution\"] == \"year\":\n",
    "        for year in range(YEARMIN,YEARMAX+1):        \n",
    "            logger.debug(\"%s %0.4d\" %(index,year))\n",
    "            month = 12\n",
    "            image = ee.Image(ic.filter(ee.Filter.eq(\"year\",year)).first())\n",
    "            resultImage = zonalStatsToImage(image)\n",
    "            \n",
    "    if row[\"temporalResolution\"] == \"month\":\n",
    "        for year in range(YEARMIN,YEARMAX+1):\n",
    "            for month in range(1,13):\n",
    "                logger.debug(\"%s Year %0.4d Month %0.2d\" %(index,year,month))\n",
    "                image = ee.Image(ic.filter(ee.Filter.eq(\"year\",year)).filter(ee.Filter.eq(\"month\",month)).first())\n",
    "                resultImage = zonalStatsToImage(image)   \n",
    "    "
   ]
  },
  {
   "cell_type": "code",
   "execution_count": 21,
   "metadata": {},
   "outputs": [
    {
     "name": "stdout",
     "output_type": "stream",
     "text": [
      "0:19:48.691104\n"
     ]
    }
   ],
   "source": [
    "end = datetime.datetime.now()\n",
    "elapsed = end - start\n",
    "print(elapsed)"
   ]
  },
  {
   "cell_type": "code",
   "execution_count": null,
   "metadata": {
    "collapsed": true
   },
   "outputs": [],
   "source": []
  }
 ],
 "metadata": {
  "kernelspec": {
   "display_name": "Python 27",
   "language": "python",
   "name": "python27"
  },
  "language_info": {
   "codemirror_mode": {
    "name": "ipython",
    "version": 2
   },
   "file_extension": ".py",
   "mimetype": "text/x-python",
   "name": "python",
   "nbconvert_exporter": "python",
   "pygments_lexer": "ipython2",
   "version": "2.7.13"
  }
 },
 "nbformat": 4,
 "nbformat_minor": 2
}
