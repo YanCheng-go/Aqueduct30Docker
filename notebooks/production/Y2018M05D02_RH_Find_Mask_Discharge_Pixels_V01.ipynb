{
 "cells": [
  {
   "cell_type": "code",
   "execution_count": 4,
   "metadata": {},
   "outputs": [
    {
     "name": "stdout",
     "output_type": "stream",
     "text": [
      "Output ee: projects/WRI-Aquaduct/Y2018M05D02_RH_Find_Mask_Discharge_Pixels_V01/output_V01\n"
     ]
    }
   ],
   "source": [
    "\"\"\" Find the pixels to mask within each basin to use for river discharge. \n",
    "-------------------------------------------------------------------------------\n",
    "\n",
    "The riverdischarge data from PCRGLOBWB is cummulative runoff. The available\n",
    "discharge is the maximum discharge with a few exceptions. These exceptions\n",
    "occur as a result of a mismatch of the PCRGLOBWB local drainage direction and\n",
    "the hydrobasin level 6 subbasins. \n",
    "\n",
    "- A basin has a few cells that belong to another stream. \n",
    "    Often close to the most downstream pixel.\n",
    "- A basin has a few cells that are an endorheic upstream basin.\n",
    "\n",
    "There are several subbasin types:\n",
    "\n",
    "1) Large stream in only one cell. perpendicular contributing areas. \n",
    "    e.g.: 172265.\n",
    "2) Large stream in a few cells, perpendicular contributing areas. \n",
    "    e.g.: 172263.\n",
    "3) Tiny basin smaller than one 5min cell.\n",
    "    e.g.: 172261.\n",
    "4) Large basin with main stream.\n",
    "    e.g.: 172250.\n",
    "5) Large basin with main stream and other stream in most downstream cell. \n",
    "    e.g.: 172306.\n",
    "6) Small basin with a confluence within basin. Stream_order increases in most \n",
    "    downstream cell but is part of basin. \n",
    "    e.g.: 172521.\n",
    "7) Basin with an endorheac basin in one of its upstream cells.\n",
    "    e.g.: 172144.\n",
    "8) Large basin with main stream and other stream with large flow but lower \n",
    "    stream order.\n",
    "    e.g.: Yet to be found. \n",
    "    \n",
    "The cell of highest streamorder will be masked for 5) and 7)\n",
    "No mask will be applied to the other categories. \n",
    "\n",
    "Author: Rutger Hofste\n",
    "Date: 20180502\n",
    "Kernel: python35\n",
    "Docker: rutgerhofste/gisdocker:ubuntu16.04\n",
    "\n",
    "Args:\n",
    "\n",
    "    SCRIPT_NAME (string) : Script name.\n",
    "    OUTPUT_VERSION (integer) : Output version.\n",
    "\n",
    "\n",
    "Returns:\n",
    "\n",
    "\n",
    "\"\"\"\n",
    "\n",
    "# Input Parameters\n",
    "\n",
    "SCRIPT_NAME = \"Y2018M05D02_RH_Find_Mask_Discharge_Pixels_V01\"\n",
    "OUTPUT_VERSION = 1\n",
    "\n",
    "\n",
    "ee_output_path = \"projects/WRI-Aquaduct/{}/output_V{:02.0f}\".format(SCRIPT_NAME,OUTPUT_VERSION)\n",
    "\n",
    "\n",
    "print(\"Output ee: \" +  ee_output_path)\n",
    "\n"
   ]
  },
  {
   "cell_type": "code",
   "execution_count": 2,
   "metadata": {},
   "outputs": [
    {
     "name": "stdout",
     "output_type": "stream",
     "text": [
      "Y2018M05D02 UTC 08:18\n"
     ]
    },
    {
     "data": {
      "text/plain": [
       "'3.5.4 |Anaconda, Inc.| (default, Nov 20 2017, 18:44:38) \\n[GCC 7.2.0]'"
      ]
     },
     "execution_count": 2,
     "metadata": {},
     "output_type": "execute_result"
    }
   ],
   "source": [
    "import time, datetime, sys, logging\n",
    "dateString = time.strftime(\"Y%YM%mD%d\")\n",
    "timeString = time.strftime(\"UTC %H:%M\")\n",
    "start = datetime.datetime.now()\n",
    "print(dateString,timeString)\n",
    "sys.version"
   ]
  },
  {
   "cell_type": "code",
   "execution_count": null,
   "metadata": {
    "collapsed": true
   },
   "outputs": [],
   "source": [
    "# ETL"
   ]
  }
 ],
 "metadata": {
  "kernelspec": {
   "display_name": "Python 35",
   "language": "python",
   "name": "python35"
  },
  "language_info": {
   "codemirror_mode": {
    "name": "ipython",
    "version": 3
   },
   "file_extension": ".py",
   "mimetype": "text/x-python",
   "name": "python",
   "nbconvert_exporter": "python",
   "pygments_lexer": "ipython3",
   "version": "3.5.4"
  }
 },
 "nbformat": 4,
 "nbformat_minor": 2
}
