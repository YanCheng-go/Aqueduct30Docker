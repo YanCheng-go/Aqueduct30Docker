{
 "cells": [
  {
   "cell_type": "code",
   "execution_count": 1,
   "metadata": {},
   "outputs": [
    {
     "name": "stdout",
     "output_type": "stream",
     "text": [
      "Input Table:  y2018m07d26_rh_deltas_arid_lowwateruse_v02_v01 \n",
      "Output Table:  y2018m07d26_rh_deltas_water_stress_v01_v03\n"
     ]
    }
   ],
   "source": [
    "\"\"\" Calculate water stress with raw, ma10 and ols10 at subbasin level.\n",
    "-------------------------------------------------------------------------------\n",
    "\n",
    "Update Y2020M02D06 limit to [0-1], output version increase 2-3 \n",
    "\n",
    "\n",
    "The tresholds per month will be used to set waterstress to 1 before doing a\n",
    "regression. In order to determine if a subbasin is arid and lowwater use, \n",
    "a full range regression ols1960-2014 for riverdischarge and ptotww and ptotwn\n",
    "will be used. \n",
    "\n",
    "Author: Rutger Hofste\n",
    "Date: 20180604\n",
    "Kernel: python35\n",
    "Docker: rutgerhofste/gisdocker:ubuntu16.04\n",
    "\n",
    "Args:\n",
    "    TESTING (Boolean) : Toggle testing case.\n",
    "    SCRIPT_NAME (string) : Script name.\n",
    "    OUTPUT_VERSION (integer) : output version.\n",
    "    DATABASE_ENDPOINT (string) : RDS or postGreSQL endpoint.\n",
    "    DATABASE_NAME (string) : Database name.\n",
    "    TABLE_NAME_AREA_30SPFAF06 (string) : Table name used for areas. Must exist\n",
    "        on same database as used in rest of script.\n",
    "    S3_INPUT_PATH_RIVERDISCHARGE (string) : AWS S3 input path for \n",
    "        riverdischarge.    \n",
    "    S3_INPUT_PATH_DEMAND (string) : AWS S3 input path for \n",
    "        demand.     \n",
    "\n",
    "\"\"\"\n",
    "\n",
    "TESTING = 0\n",
    "OVERWRITE_OUTPUT = 1\n",
    "SCRIPT_NAME = 'Y2018M07D26_RH_Deltas_Water_Stress_V01'\n",
    "OUTPUT_VERSION = 3\n",
    "\n",
    "DATABASE_ENDPOINT = \"aqueduct30v05.cgpnumwmfcqc.eu-central-1.rds.amazonaws.com\"\n",
    "DATABASE_NAME = \"database01\"\n",
    "INPUT_TABLE_NAME = 'y2018m07d26_rh_deltas_arid_lowwateruse_v02_v01'\n",
    "OUTPUT_TABLE_NAME = SCRIPT_NAME.lower() + \"_v{:02.0f}\".format(OUTPUT_VERSION)\n",
    "\n",
    "print(\"Input Table: \" , INPUT_TABLE_NAME, \n",
    "      \"\\nOutput Table: \" , OUTPUT_TABLE_NAME)"
   ]
  },
  {
   "cell_type": "code",
   "execution_count": 2,
   "metadata": {},
   "outputs": [
    {
     "name": "stdout",
     "output_type": "stream",
     "text": [
      "Y2020M02D18 UTC 19:32\n"
     ]
    },
    {
     "data": {
      "text/plain": [
       "'3.5.4 |Anaconda, Inc.| (default, Nov 20 2017, 18:44:38) \\n[GCC 7.2.0]'"
      ]
     },
     "execution_count": 2,
     "metadata": {},
     "output_type": "execute_result"
    }
   ],
   "source": [
    "import time, datetime, sys\n",
    "dateString = time.strftime(\"Y%YM%mD%d\")\n",
    "timeString = time.strftime(\"UTC %H:%M\")\n",
    "start = datetime.datetime.now()\n",
    "print(dateString,timeString)\n",
    "sys.version"
   ]
  },
  {
   "cell_type": "code",
   "execution_count": 3,
   "metadata": {
    "collapsed": true
   },
   "outputs": [],
   "source": [
    "# imports\n",
    "import re\n",
    "import os\n",
    "import numpy as np\n",
    "import pandas as pd\n",
    "import aqueduct3\n",
    "from datetime import timedelta\n",
    "from sqlalchemy import *\n",
    "pd.set_option('display.max_columns', 500)"
   ]
  },
  {
   "cell_type": "code",
   "execution_count": 4,
   "metadata": {
    "collapsed": true
   },
   "outputs": [],
   "source": [
    "F = open(\"/.password\",\"r\")\n",
    "password = F.read().splitlines()[0]\n",
    "F.close()\n",
    "\n",
    "engine = create_engine(\"postgresql://rutgerhofste:{}@{}:5432/{}\".format(password,DATABASE_ENDPOINT,DATABASE_NAME))\n",
    "#connection = engine.connect()\n",
    "\n",
    "if OVERWRITE_OUTPUT:\n",
    "    sql = text(\"DROP TABLE IF EXISTS {};\".format(OUTPUT_TABLE_NAME))\n",
    "    result = engine.execute(sql)"
   ]
  },
  {
   "cell_type": "code",
   "execution_count": 5,
   "metadata": {
    "collapsed": true
   },
   "outputs": [],
   "source": [
    "temporal_reducers = [\"\",\"ma10_\",\"ols10_\",\"capped_ols10_\"]\n",
    "if TESTING:\n",
    "    temporal_reducers = [\"\"]"
   ]
  },
  {
   "cell_type": "code",
   "execution_count": 6,
   "metadata": {
    "collapsed": true
   },
   "outputs": [],
   "source": [
    "\"\"\"\n",
    "Calculates Water Stress \n",
    "\n",
    "totww / (riverdischarge+totwn)\n",
    "\n",
    "Exceptions:\n",
    "    when aridandlowwateruse \n",
    "        water stress = 1\n",
    "    else \n",
    "        ws = totww / (riverdischarge+totwn)\n",
    "\"\"\"\n",
    "\n",
    "\n",
    "sql = \"CREATE TABLE {} AS\".format(OUTPUT_TABLE_NAME)\n",
    "sql +=  \" SELECT *,\"\n",
    "for temporal_reducer in temporal_reducers:   \n",
    "    sql += \" CASE when {}ptotww_m_30spfaf06 IS NULL OR {}riverdischarge_m_30spfaf06 <= 0\".format(temporal_reducer,temporal_reducer)\n",
    "    sql += \" THEN NULL else\"\n",
    "    sql += \" GREATEST(0,LEAST(2,{}ptotww_m_30spfaf06 / {}riverdischarge_m_30spfaf06))\".format(temporal_reducer,temporal_reducer,temporal_reducer)\n",
    "    sql += \" END\"\n",
    "    sql += \" AS {}waterstress_dimensionless_30spfaf06 ,\".format(temporal_reducer)\n",
    "    \n",
    "    sql += \" CASE when {}ptotww_m_30spfaf06 IS NULL OR {}riverdischarge_m_30spfaf06 <=0\".format(temporal_reducer,temporal_reducer,temporal_reducer)\n",
    "    sql += \" THEN NULL else\"\n",
    "    sql += \" GREATEST(0,LEAST(2,{}ptotwn_m_30spfaf06 / {}riverdischarge_m_30spfaf06))\".format(temporal_reducer,temporal_reducer,temporal_reducer)\n",
    "    sql += \" END\"\n",
    "    sql += \" AS {}waterdepletion_dimensionless_30spfaf06,\".format(temporal_reducer)\n",
    "\n",
    "sql = sql[:-1]\n",
    "sql += \" FROM {}\".format(INPUT_TABLE_NAME)\n",
    "\n",
    "if TESTING:\n",
    "    sql += \" LIMIT 100\"\n",
    "    "
   ]
  },
  {
   "cell_type": "code",
   "execution_count": 7,
   "metadata": {},
   "outputs": [
    {
     "name": "stdout",
     "output_type": "stream",
     "text": [
      "CREATE TABLE y2018m07d26_rh_deltas_water_stress_v01_v03 AS SELECT *, CASE when ptotww_m_30spfaf06 IS NULL OR riverdischarge_m_30spfaf06 <= 0 THEN NULL else GREATEST(0,LEAST(2,ptotww_m_30spfaf06 / riverdischarge_m_30spfaf06)) END AS waterstress_dimensionless_30spfaf06 , CASE when ptotww_m_30spfaf06 IS NULL OR riverdischarge_m_30spfaf06 <=0 THEN NULL else GREATEST(0,LEAST(2,ptotwn_m_30spfaf06 / riverdischarge_m_30spfaf06)) END AS waterdepletion_dimensionless_30spfaf06, CASE when ma10_ptotww_m_30spfaf06 IS NULL OR ma10_riverdischarge_m_30spfaf06 <= 0 THEN NULL else GREATEST(0,LEAST(2,ma10_ptotww_m_30spfaf06 / ma10_riverdischarge_m_30spfaf06)) END AS ma10_waterstress_dimensionless_30spfaf06 , CASE when ma10_ptotww_m_30spfaf06 IS NULL OR ma10_riverdischarge_m_30spfaf06 <=0 THEN NULL else GREATEST(0,LEAST(2,ma10_ptotwn_m_30spfaf06 / ma10_riverdischarge_m_30spfaf06)) END AS ma10_waterdepletion_dimensionless_30spfaf06, CASE when ols10_ptotww_m_30spfaf06 IS NULL OR ols10_riverdischarge_m_30spfaf06 <= 0 THEN NULL else GREATEST(0,LEAST(2,ols10_ptotww_m_30spfaf06 / ols10_riverdischarge_m_30spfaf06)) END AS ols10_waterstress_dimensionless_30spfaf06 , CASE when ols10_ptotww_m_30spfaf06 IS NULL OR ols10_riverdischarge_m_30spfaf06 <=0 THEN NULL else GREATEST(0,LEAST(2,ols10_ptotwn_m_30spfaf06 / ols10_riverdischarge_m_30spfaf06)) END AS ols10_waterdepletion_dimensionless_30spfaf06, CASE when capped_ols10_ptotww_m_30spfaf06 IS NULL OR capped_ols10_riverdischarge_m_30spfaf06 <= 0 THEN NULL else GREATEST(0,LEAST(2,capped_ols10_ptotww_m_30spfaf06 / capped_ols10_riverdischarge_m_30spfaf06)) END AS capped_ols10_waterstress_dimensionless_30spfaf06 , CASE when capped_ols10_ptotww_m_30spfaf06 IS NULL OR capped_ols10_riverdischarge_m_30spfaf06 <=0 THEN NULL else GREATEST(0,LEAST(2,capped_ols10_ptotwn_m_30spfaf06 / capped_ols10_riverdischarge_m_30spfaf06)) END AS capped_ols10_waterdepletion_dimensionless_30spfaf06 FROM y2018m07d26_rh_deltas_arid_lowwateruse_v02_v01\n"
     ]
    }
   ],
   "source": [
    "print(sql)"
   ]
  },
  {
   "cell_type": "code",
   "execution_count": 8,
   "metadata": {
    "collapsed": true
   },
   "outputs": [],
   "source": [
    "result = engine.execute(sql)"
   ]
  },
  {
   "cell_type": "code",
   "execution_count": 9,
   "metadata": {
    "collapsed": true
   },
   "outputs": [],
   "source": [
    "sql_index = \"CREATE INDEX {}delta_id ON {} ({})\".format(OUTPUT_TABLE_NAME,OUTPUT_TABLE_NAME,\"delta_id\")"
   ]
  },
  {
   "cell_type": "code",
   "execution_count": 10,
   "metadata": {},
   "outputs": [
    {
     "name": "stdout",
     "output_type": "stream",
     "text": [
      "CREATE INDEX y2018m07d26_rh_deltas_water_stress_v01_v03delta_id ON y2018m07d26_rh_deltas_water_stress_v01_v03 (delta_id)\n"
     ]
    }
   ],
   "source": [
    "print(sql_index)"
   ]
  },
  {
   "cell_type": "code",
   "execution_count": 11,
   "metadata": {
    "collapsed": true
   },
   "outputs": [],
   "source": [
    "result = engine.execute(sql_index)"
   ]
  },
  {
   "cell_type": "code",
   "execution_count": 12,
   "metadata": {
    "collapsed": true
   },
   "outputs": [],
   "source": [
    "engine.dispose()"
   ]
  },
  {
   "cell_type": "code",
   "execution_count": 13,
   "metadata": {},
   "outputs": [
    {
     "name": "stdout",
     "output_type": "stream",
     "text": [
      "0:00:02.289269\n"
     ]
    }
   ],
   "source": [
    "end = datetime.datetime.now()\n",
    "elapsed = end - start\n",
    "print(elapsed)"
   ]
  },
  {
   "cell_type": "markdown",
   "metadata": {},
   "source": [
    "Previous runs:  \n",
    "0:00:02.265367  \n",
    "0:00:02.258329"
   ]
  },
  {
   "cell_type": "code",
   "execution_count": null,
   "metadata": {
    "collapsed": true
   },
   "outputs": [],
   "source": []
  }
 ],
 "metadata": {
  "kernelspec": {
   "display_name": "Python 35",
   "language": "python",
   "name": "python35"
  },
  "language_info": {
   "codemirror_mode": {
    "name": "ipython",
    "version": 3
   },
   "file_extension": ".py",
   "mimetype": "text/x-python",
   "name": "python",
   "nbconvert_exporter": "python",
   "pygments_lexer": "ipython3",
   "version": "3.5.4"
  }
 },
 "nbformat": 4,
 "nbformat_minor": 2
}
