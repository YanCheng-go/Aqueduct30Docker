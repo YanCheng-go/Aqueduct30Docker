{
 "cells": [
  {
   "cell_type": "markdown",
   "metadata": {},
   "source": [
    "# Y2017M11D24_RH_Prepare_Image_Collections_EE_V01\n",
    "\n",
    "* Purpose of script: put all earth engine imagecollections in the same format (millionm^3  and dimensionless)\n",
    "* Kernel used: python27\n",
    "* Date created: 20171124  "
   ]
  },
  {
   "cell_type": "code",
   "execution_count": 2,
   "metadata": {},
   "outputs": [
    {
     "name": "stdout",
     "output_type": "stream",
     "text": [
      "('Y2017M11D24', 'UTC 15:00')\n"
     ]
    },
    {
     "data": {
      "text/plain": [
       "'2.7.13 |Continuum Analytics, Inc.| (default, Dec 20 2016, 23:09:15) \\n[GCC 4.4.7 20120313 (Red Hat 4.4.7-1)]'"
      ]
     },
     "execution_count": 2,
     "metadata": {},
     "output_type": "execute_result"
    }
   ],
   "source": [
    "import time, datetime, sys\n",
    "dateString = time.strftime(\"Y%YM%mD%d\")\n",
    "timeString = time.strftime(\"UTC %H:%M\")\n",
    "start = datetime.datetime.now()\n",
    "print(dateString,timeString)\n",
    "sys.version"
   ]
  },
  {
   "cell_type": "code",
   "execution_count": 40,
   "metadata": {
    "collapsed": true
   },
   "outputs": [],
   "source": [
    "EE_PATH = \"projects/WRI-Aquaduct/PCRGlobWB20V08\"\n",
    "\n",
    "AREA_IMAGE_FILE_NAME = \"area_5min_m2V11\"\n",
    "\n",
    "\n",
    "# Unfortunately specifying the dimensions caused the script to crash (internal error on Google's side) Specify scale instead.\n",
    "\n",
    "DIMENSION5MIN = {}\n",
    "DIMENSION5MIN[\"x\"] = 4320\n",
    "DIMENSION5MIN[\"y\"] = 2160\n",
    "\n",
    "MAXPIXELS =1e10"
   ]
  },
  {
   "cell_type": "code",
   "execution_count": null,
   "metadata": {
    "collapsed": true
   },
   "outputs": [],
   "source": []
  },
  {
   "cell_type": "code",
   "execution_count": 10,
   "metadata": {
    "collapsed": true
   },
   "outputs": [],
   "source": [
    "import ee\n",
    "import re\n",
    "import subprocess\n",
    "from calendar import monthrange\n"
   ]
  },
  {
   "cell_type": "code",
   "execution_count": 4,
   "metadata": {
    "collapsed": true
   },
   "outputs": [],
   "source": [
    "ee.Initialize()"
   ]
  },
  {
   "cell_type": "markdown",
   "metadata": {},
   "source": [
    "ICs not in right format: discharge (m^3 / s) and runoff (m/month or m/year)"
   ]
  },
  {
   "cell_type": "code",
   "execution_count": 23,
   "metadata": {},
   "outputs": [],
   "source": [
    "areaImage = ee.Image(\"%s/%s\"%(EE_PATH,AREA_IMAGE_FILE_NAME))"
   ]
  },
  {
   "cell_type": "code",
   "execution_count": 30,
   "metadata": {
    "collapsed": true
   },
   "outputs": [],
   "source": [
    "dimensions = \"%sx%s\" %(DIMENSION5MIN[\"x\"],DIMENSION5MIN[\"y\"])"
   ]
  },
  {
   "cell_type": "code",
   "execution_count": 31,
   "metadata": {
    "collapsed": true
   },
   "outputs": [],
   "source": [
    "crsTransform = [\n",
    "                0.0833333309780367,\n",
    "                0,\n",
    "                -179.99999491255934,\n",
    "                0,\n",
    "                -0.0833333309780367,\n",
    "                90.00000254430942\n",
    "              ]"
   ]
  },
  {
   "cell_type": "code",
   "execution_count": 46,
   "metadata": {},
   "outputs": [],
   "source": [
    "def readAsset(assetId):\n",
    "    # this function will read both images and imageCollections \n",
    "    if ee.data.getInfo(assetId)[\"type\"] == \"Image\":\n",
    "        asset = ee.Image(assetId)\n",
    "        assetType = \"image\"\n",
    "\n",
    "\n",
    "    elif ee.data.getInfo(assetId)[\"type\"] == \"ImageCollection\":\n",
    "        asset = ee.ImageCollection(assetId)\n",
    "        assetType = \"imageCollection\"\n",
    "        \n",
    "    else:\n",
    "        print(\"error\")        \n",
    "    return {\"assetId\":assetId,\"asset\":asset,\"assetType\":assetType}\n",
    "\n",
    "def fluxToVolume(image):\n",
    "    image = ee.Image(image)\n",
    "    # Flux to volumne in million m^3 / y|month\n",
    "    newImage = image.multiply(areaImage).divide(1e6)\n",
    "    newImage = newImage.copyProperties(image)\n",
    "    newImage = newImage.set(\"units\",\"millionm3\")    \n",
    "    return newImage\n",
    "\n",
    "#def exportToAsset(image,description,assetId,dimensions,region,maxPixels):\n",
    "\n",
    "def exportToAsset(image):\n",
    "    #print(image.propertyNames().getInfo())\n",
    "    task = ee.batch.Export.image.toAsset(\n",
    "        image =  image,\n",
    "        description = description,\n",
    "        assetId = assetId,\n",
    "        dimensions = dimensions,\n",
    "        #scale = scale,\n",
    "        crs = crs,\n",
    "        crsTransform = crsTransform,\n",
    "        #region = geometry.bounds().getInfo()['coordinates'][0],\n",
    "        maxPixels = maxPixels\n",
    "    )\n",
    "    #print(assetId)\n",
    "    task.start()\n",
    "    return 1\n",
    "\n",
    "def createImageCollections(imageCollectionName):\n",
    "    command = \"earthengine create collection %s/%s\" %(EE_PATH,imageCollectionName)\n",
    "    response = subprocess.check_output(command,shell=True)\n",
    "    print(response)"
   ]
  },
  {
   "cell_type": "code",
   "execution_count": 8,
   "metadata": {
    "collapsed": true
   },
   "outputs": [],
   "source": [
    "command = \"earthengine ls %s\" %(EE_PATH)"
   ]
  },
  {
   "cell_type": "code",
   "execution_count": 11,
   "metadata": {},
   "outputs": [],
   "source": [
    "assetList = subprocess.check_output(command,shell=True).splitlines()"
   ]
  },
  {
   "cell_type": "code",
   "execution_count": 14,
   "metadata": {
    "collapsed": true
   },
   "outputs": [],
   "source": [
    "fileName = \"global_historical_runoff_month_mmonth_5min_1958_2014\""
   ]
  },
  {
   "cell_type": "code",
   "execution_count": 19,
   "metadata": {},
   "outputs": [],
   "source": [
    "ic = ee.ImageCollection(\"%s/%s\"%(EE_PATH,fileName)) "
   ]
  },
  {
   "cell_type": "code",
   "execution_count": 28,
   "metadata": {},
   "outputs": [],
   "source": [
    "newIc = ic.map(fluxToVolume)"
   ]
  },
  {
   "cell_type": "code",
   "execution_count": 32,
   "metadata": {
    "collapsed": true
   },
   "outputs": [],
   "source": [
    "imageCollectionName = \"test\""
   ]
  },
  {
   "cell_type": "markdown",
   "metadata": {},
   "source": [
    "## Create folder and collection if not exists"
   ]
  },
  {
   "cell_type": "code",
   "execution_count": 42,
   "metadata": {
    "collapsed": true
   },
   "outputs": [],
   "source": [
    "command = \"earthengine create folder %s\" %(EE_PATH)"
   ]
  },
  {
   "cell_type": "code",
   "execution_count": 43,
   "metadata": {
    "collapsed": true
   },
   "outputs": [],
   "source": [
    "response = subprocess.check_output(command,shell=True)"
   ]
  },
  {
   "cell_type": "code",
   "execution_count": 44,
   "metadata": {},
   "outputs": [
    {
     "name": "stdout",
     "output_type": "stream",
     "text": [
      "\n"
     ]
    }
   ],
   "source": [
    "createImageCollections(imageCollectionName)"
   ]
  },
  {
   "cell_type": "code",
   "execution_count": null,
   "metadata": {
    "collapsed": true
   },
   "outputs": [],
   "source": [
    "description= \"test\"\n",
    "assetId = \"%sdimensions,region,maxPixels)"
   ]
  },
  {
   "cell_type": "code",
   "execution_count": null,
   "metadata": {
    "collapsed": true
   },
   "outputs": [],
   "source": []
  },
  {
   "cell_type": "code",
   "execution_count": null,
   "metadata": {
    "collapsed": true
   },
   "outputs": [],
   "source": []
  },
  {
   "cell_type": "code",
   "execution_count": null,
   "metadata": {
    "collapsed": true
   },
   "outputs": [],
   "source": [
    "newIc.map(exportToAsset)"
   ]
  }
 ],
 "metadata": {
  "kernelspec": {
   "display_name": "Python 27",
   "language": "python",
   "name": "python27"
  },
  "language_info": {
   "codemirror_mode": {
    "name": "ipython",
    "version": 2
   },
   "file_extension": ".py",
   "mimetype": "text/x-python",
   "name": "python",
   "nbconvert_exporter": "python",
   "pygments_lexer": "ipython2",
   "version": "2.7.13"
  }
 },
 "nbformat": 4,
 "nbformat_minor": 2
}
