{
 "cells": [
  {
   "cell_type": "markdown",
   "metadata": {},
   "source": [
    "# Y2017M11D24_RH_Prepare_Image_Collections_EE_V01\n",
    "\n",
    "* Purpose of script: put all earth engine imagecollections in the same format (millionm^3  and dimensionless)\n",
    "* Kernel used: python27\n",
    "* Date created: 20171124  \n",
    "\n",
    "The imageCollections that need a unit conversion are : Discharge and Runoff. \n",
    "\n"
   ]
  },
  {
   "cell_type": "code",
   "execution_count": 1,
   "metadata": {},
   "outputs": [
    {
     "name": "stdout",
     "output_type": "stream",
     "text": [
      "('Y2017M12D04', 'UTC 13:41')\n"
     ]
    },
    {
     "data": {
      "text/plain": [
       "'2.7.13 |Continuum Analytics, Inc.| (default, Dec 20 2016, 23:09:15) \\n[GCC 4.4.7 20120313 (Red Hat 4.4.7-1)]'"
      ]
     },
     "execution_count": 1,
     "metadata": {},
     "output_type": "execute_result"
    }
   ],
   "source": [
    "import time, datetime, sys\n",
    "dateString = time.strftime(\"Y%YM%mD%d\")\n",
    "timeString = time.strftime(\"UTC %H:%M\")\n",
    "start = datetime.datetime.now()\n",
    "print(dateString,timeString)\n",
    "sys.version"
   ]
  },
  {
   "cell_type": "code",
   "execution_count": 2,
   "metadata": {
    "collapsed": true
   },
   "outputs": [],
   "source": [
    "EE_PATH = \"projects/WRI-Aquaduct/PCRGlobWB20V07\"\n",
    "\n",
    "AREA_IMAGE_FILE_NAME = \"area_5min_m2V11\"\n",
    "\n",
    "\n",
    "SCRIPT_NAME = \"Y2017M11D24_RH_Prepare_Image_Collections_EE_V01\"\n",
    "\n",
    "OUTPUT_VERSION = 2\n",
    "\n",
    "# Unfortunately specifying the dimensions caused the script to crash (internal error on Google's side) Specify scale instead.\n",
    "\n",
    "DIMENSION5MIN = {}\n",
    "DIMENSION5MIN[\"x\"] = 4320\n",
    "DIMENSION5MIN[\"y\"] = 2160\n",
    "CRS = \"EPSG:4326\"\n",
    "\n",
    "MAXPIXELS =1e10\n",
    "\n",
    "icIds = [\"projects/WRI-Aquaduct/PCRGlobWB20V07/global_historical_riverdischarge_month_m3second_5min_1960_2014\",\n",
    "        \"projects/WRI-Aquaduct/PCRGlobWB20V07/global_historical_riverdischarge_year_m3second_5min_1960_2014\",\n",
    "        \"projects/WRI-Aquaduct/PCRGlobWB20V07/global_historical_runoff_month_mmonth_5min_1958_2014\",\n",
    "        \"projects/WRI-Aquaduct/PCRGlobWB20V07/global_historical_runoff_year_myear_5min_1958_2014\"]\n"
   ]
  },
  {
   "cell_type": "markdown",
   "metadata": {},
   "source": [
    "Remove later: Leap year settings incorrect. Rerunning yearly runoff and discharge scripts. "
   ]
  },
  {
   "cell_type": "code",
   "execution_count": 3,
   "metadata": {
    "collapsed": true
   },
   "outputs": [],
   "source": [
    "icIds = [\"projects/WRI-Aquaduct/PCRGlobWB20V07/global_historical_riverdischarge_year_m3second_5min_1960_2014\"]"
   ]
  },
  {
   "cell_type": "code",
   "execution_count": 4,
   "metadata": {
    "collapsed": true
   },
   "outputs": [],
   "source": [
    "import ee\n",
    "import re\n",
    "import subprocess\n",
    "import pandas as pd\n",
    "from calendar import monthrange, isleap"
   ]
  },
  {
   "cell_type": "code",
   "execution_count": 5,
   "metadata": {
    "collapsed": true
   },
   "outputs": [],
   "source": [
    "ee.Initialize()"
   ]
  },
  {
   "cell_type": "markdown",
   "metadata": {},
   "source": [
    "ICs not in right format: discharge (m^3 / s) and runoff (m/month or m/year)"
   ]
  },
  {
   "cell_type": "code",
   "execution_count": 6,
   "metadata": {
    "collapsed": true
   },
   "outputs": [],
   "source": [
    "sPerD = 86400 #seconds per day"
   ]
  },
  {
   "cell_type": "code",
   "execution_count": 7,
   "metadata": {
    "collapsed": true
   },
   "outputs": [],
   "source": [
    "areaImage = ee.Image(\"%s/%s\"%(EE_PATH,AREA_IMAGE_FILE_NAME))"
   ]
  },
  {
   "cell_type": "code",
   "execution_count": 8,
   "metadata": {
    "collapsed": true
   },
   "outputs": [],
   "source": [
    "dimensions = \"%sx%s\" %(DIMENSION5MIN[\"x\"],DIMENSION5MIN[\"y\"])"
   ]
  },
  {
   "cell_type": "code",
   "execution_count": 9,
   "metadata": {
    "collapsed": true
   },
   "outputs": [],
   "source": [
    "crsTransform = [\n",
    "                0.0833333309780367,\n",
    "                0,\n",
    "                -179.99999491255934,\n",
    "                0,\n",
    "                -0.0833333309780367,\n",
    "                90.00000254430942\n",
    "              ]"
   ]
  },
  {
   "cell_type": "code",
   "execution_count": 10,
   "metadata": {
    "collapsed": true
   },
   "outputs": [],
   "source": [
    "def newImageId(imageId):\n",
    "    return re.sub('m3second|mmonth|myear',\"millionm3\",imageId)\n",
    "\n",
    "def findUnit(imageId):\n",
    "    if re.search(\"m3second\",imageId):\n",
    "        unit = \"m3second\"\n",
    "    elif re.search(\"mmonth\",imageId):\n",
    "        unit = \"mmonth\"\n",
    "    elif re.search(\"myear\",imageId):\n",
    "        unit = \"myear\"\n",
    "    else:\n",
    "        unit = \"error\"\n",
    "    return unit\n",
    "\n",
    "\n",
    "def toVolumeAndExport(row):\n",
    "    unit = row[\"unit\"]\n",
    "    temporalResolution = row[\"image\"].get(\"temporal_resolution\").getInfo()\n",
    "    year = int(row[\"image\"].get(\"year\").getInfo())\n",
    "    month = int(row[\"image\"].get(\"month\").getInfo())\n",
    "\n",
    "\n",
    "    \n",
    "    if unit == \"m3second\":        \n",
    "        if temporalResolution == \"month\":\n",
    "            sPerMonth = monthrange(year,month)[1]*(86400)\n",
    "            newImage = row[\"image\"].multiply(sPerMonth).divide(1e6)\n",
    "            \n",
    "             \n",
    "        elif temporalResolution == \"year\":\n",
    "            daysPerYear = 366 if isleap(year) else 365\n",
    "            sPerYear = daysPerYear*(86400)\n",
    "            newImage = row[\"image\"].multiply(sPerYear).divide(1e6)\n",
    "            \n",
    "        else:\n",
    "            print(\"error\",row)  \n",
    "        \n",
    "    elif unit == \"mmonth\" or unit == \"myear\":\n",
    "        newImage = row[\"image\"].multiply(areaImage).divide(1e6)\n",
    "    else:\n",
    "        pass\n",
    "    \n",
    "    newImage = newImage.copyProperties(row[\"image\"])\n",
    "    newImage = newImage.set(\"units\",\"millionm3\")\n",
    "    newImage = newImage.set(\"script_used\",SCRIPT_NAME)\n",
    "    newImage = newImage.set(\"version\",OUTPUT_VERSION)\n",
    "    \n",
    "    description = \"%sV%0.2d\" %(row[\"image\"].get(\"exportdescription\").getInfo(),OUTPUT_VERSION)\n",
    "    print(description)\n",
    "    \n",
    "    task = ee.batch.Export.image.toAsset(\n",
    "        image =  ee.Image(newImage),\n",
    "        description = description,\n",
    "        assetId = row[\"newImageId\"],\n",
    "        dimensions = dimensions,\n",
    "        crs = CRS,\n",
    "        crsTransform = crsTransform,\n",
    "        maxPixels = MAXPIXELS     \n",
    "    )\n",
    "    task.start()       \n",
    "    dfOut.at[index,\"newImage\"] = newImage\n",
    "    "
   ]
  },
  {
   "cell_type": "code",
   "execution_count": 11,
   "metadata": {
    "collapsed": true
   },
   "outputs": [],
   "source": [
    "dfIcs = pd.DataFrame()\n",
    "dfIcs[\"icId\"] = icIds"
   ]
  },
  {
   "cell_type": "markdown",
   "metadata": {},
   "source": [
    "### Creating new ImageCollections"
   ]
  },
  {
   "cell_type": "code",
   "execution_count": 12,
   "metadata": {
    "collapsed": true
   },
   "outputs": [],
   "source": [
    "dfIcs[\"newIcId\"] = dfIcs[\"icId\"].apply(newImageId)"
   ]
  },
  {
   "cell_type": "code",
   "execution_count": 13,
   "metadata": {},
   "outputs": [
    {
     "name": "stdout",
     "output_type": "stream",
     "text": [
      "('earthengine create collection projects/WRI-Aquaduct/PCRGlobWB20V07/global_historical_riverdischarge_year_millionm3_5min_1960_2014', '')\n"
     ]
    }
   ],
   "source": [
    "for index, row in dfIcs.iterrows():\n",
    "    command = \"earthengine create collection %s\" %row[\"newIcId\"]\n",
    "    result = subprocess.check_output(command,shell=True)\n",
    "    print(command,result)"
   ]
  },
  {
   "cell_type": "code",
   "execution_count": 14,
   "metadata": {
    "collapsed": true
   },
   "outputs": [],
   "source": [
    "dfImages2 = pd.DataFrame()\n",
    "\n",
    "for index, row in dfIcs.iterrows():\n",
    "    command = \"earthengine ls %s\" %row[\"icId\"]\n",
    "    assetList = subprocess.check_output(command,shell=True).splitlines()\n",
    "    dfImages = pd.DataFrame(assetList)\n",
    "    dfImages.columns = [\"imageId\"]\n",
    "    dfImages[\"icId\"] = row[\"icId\"]\n",
    "    dfImages2= dfImages2.append(dfImages)"
   ]
  },
  {
   "cell_type": "code",
   "execution_count": 15,
   "metadata": {
    "collapsed": true
   },
   "outputs": [],
   "source": [
    "dfImages2[\"newImageId\"] = dfImages2[\"imageId\"].apply(newImageId)\n",
    "dfImages2[\"newIcId\"] = dfImages2[\"icId\"].apply(newImageId)\n",
    "dfImages2[\"unit\"] = dfImages2[\"imageId\"].apply(findUnit)\n",
    "dfImages2[\"image\"] = dfImages2[\"imageId\"].apply(lambda x: ee.Image(x))\n",
    "dfImages2 = dfImages2.set_index(\"imageId\",drop=False)"
   ]
  },
  {
   "cell_type": "code",
   "execution_count": 16,
   "metadata": {
    "collapsed": true
   },
   "outputs": [],
   "source": [
    "dfOut = dfImages2.copy()"
   ]
  },
  {
   "cell_type": "code",
   "execution_count": 17,
   "metadata": {},
   "outputs": [
    {
     "name": "stdout",
     "output_type": "stream",
     "text": [
      "riverdischarge_yearY1960M01V02\n",
      "(1, 55)\n",
      "0:00:04.709889\n",
      "riverdischarge_yearY1961M01V02\n",
      "(2, 55)\n",
      "0:00:09.428285\n",
      "riverdischarge_yearY1962M01V02\n",
      "(3, 55)\n",
      "0:00:14.000334\n",
      "riverdischarge_yearY1963M01V02\n",
      "(4, 55)\n",
      "0:00:18.665316\n",
      "riverdischarge_yearY1964M01V02\n",
      "(5, 55)\n",
      "0:00:23.343728\n",
      "riverdischarge_yearY1965M01V02\n",
      "(6, 55)\n",
      "0:00:27.992584\n",
      "riverdischarge_yearY1966M01V02\n",
      "(7, 55)\n",
      "0:00:32.661838\n",
      "riverdischarge_yearY1967M01V02\n",
      "(8, 55)\n",
      "0:00:37.536257\n",
      "riverdischarge_yearY1968M01V02\n",
      "(9, 55)\n",
      "0:00:42.136799\n",
      "riverdischarge_yearY1969M01V02\n",
      "(10, 55)\n",
      "0:00:46.754185\n",
      "riverdischarge_yearY1970M01V02\n",
      "(11, 55)\n",
      "0:00:51.405756\n",
      "riverdischarge_yearY1971M01V02\n",
      "(12, 55)\n",
      "0:00:56.046111\n",
      "riverdischarge_yearY1972M01V02\n",
      "(13, 55)\n",
      "0:01:00.698804\n",
      "riverdischarge_yearY1973M01V02\n",
      "(14, 55)\n",
      "0:01:05.167702\n",
      "riverdischarge_yearY1974M01V02\n",
      "(15, 55)\n",
      "0:01:09.372780\n",
      "riverdischarge_yearY1975M01V02\n",
      "(16, 55)\n",
      "0:01:13.573196\n",
      "riverdischarge_yearY1976M01V02\n",
      "(17, 55)\n",
      "0:01:17.877229\n",
      "riverdischarge_yearY1977M01V02\n",
      "(18, 55)\n",
      "0:01:22.117611\n",
      "riverdischarge_yearY1978M01V02\n",
      "(19, 55)\n",
      "0:01:26.294946\n",
      "riverdischarge_yearY1979M01V02\n",
      "(20, 55)\n",
      "0:01:30.029660\n",
      "riverdischarge_yearY1980M01V02\n",
      "(21, 55)\n",
      "0:01:34.478651\n",
      "riverdischarge_yearY1981M01V02\n",
      "(22, 55)\n",
      "0:01:38.676101\n",
      "riverdischarge_yearY1982M01V02\n",
      "(23, 55)\n",
      "0:01:42.366540\n",
      "riverdischarge_yearY1983M01V02\n",
      "(24, 55)\n",
      "0:01:46.608439\n",
      "riverdischarge_yearY1984M01V02\n",
      "(25, 55)\n",
      "0:01:50.389442\n",
      "riverdischarge_yearY1985M01V02\n",
      "(26, 55)\n",
      "0:01:54.626770\n",
      "riverdischarge_yearY1986M01V02\n",
      "(27, 55)\n",
      "0:01:58.920143\n",
      "riverdischarge_yearY1987M01V02\n",
      "(28, 55)\n",
      "0:02:02.157680\n",
      "riverdischarge_yearY1988M01V02\n",
      "(29, 55)\n",
      "0:02:06.156165\n",
      "riverdischarge_yearY1989M01V02\n",
      "(30, 55)\n",
      "0:02:10.417100\n",
      "riverdischarge_yearY1990M01V02\n",
      "(31, 55)\n",
      "0:02:14.973535\n",
      "riverdischarge_yearY1991M01V02\n",
      "(32, 55)\n",
      "0:02:19.592737\n",
      "riverdischarge_yearY1992M01V02\n",
      "(33, 55)\n",
      "0:02:24.204063\n",
      "riverdischarge_yearY1993M01V02\n",
      "(34, 55)\n",
      "0:02:28.802693\n",
      "riverdischarge_yearY1994M01V02\n",
      "(35, 55)\n",
      "0:02:32.596804\n",
      "riverdischarge_yearY1995M01V02\n",
      "(36, 55)\n",
      "0:02:36.333226\n",
      "riverdischarge_yearY1996M01V02\n",
      "(37, 55)\n",
      "0:02:40.904501\n",
      "riverdischarge_yearY1997M01V02\n",
      "(38, 55)\n",
      "0:02:45.552447\n",
      "riverdischarge_yearY1998M01V02\n",
      "(39, 55)\n",
      "0:02:50.229450\n",
      "riverdischarge_yearY1999M01V02\n",
      "(40, 55)\n",
      "0:02:54.866537\n",
      "riverdischarge_yearY2000M01V02\n",
      "(41, 55)\n",
      "0:02:59.403865\n",
      "riverdischarge_yearY2001M01V02\n",
      "(42, 55)\n",
      "0:03:04.056869\n",
      "riverdischarge_yearY2002M01V02\n",
      "(43, 55)\n",
      "0:03:07.846829\n",
      "riverdischarge_yearY2003M01V02\n",
      "(44, 55)\n",
      "0:03:11.994257\n",
      "riverdischarge_yearY2004M01V02\n",
      "(45, 55)\n",
      "0:03:16.182970\n",
      "riverdischarge_yearY2005M01V02\n",
      "(46, 55)\n",
      "0:03:20.482604\n",
      "riverdischarge_yearY2006M01V02\n",
      "(47, 55)\n",
      "0:03:24.637120\n",
      "riverdischarge_yearY2007M01V02\n",
      "(48, 55)\n",
      "0:03:29.460873\n",
      "riverdischarge_yearY2008M01V02\n",
      "(49, 55)\n",
      "0:03:33.711856\n",
      "riverdischarge_yearY2009M01V02\n",
      "(50, 55)\n",
      "0:03:37.390791\n",
      "riverdischarge_yearY2010M01V02\n",
      "(51, 55)\n",
      "0:03:41.598456\n",
      "riverdischarge_yearY2011M01V02\n",
      "(52, 55)\n",
      "0:03:45.854350\n",
      "riverdischarge_yearY2012M01V02\n",
      "(53, 55)\n",
      "0:03:49.119063\n",
      "riverdischarge_yearY2013M01V02\n",
      "(54, 55)\n",
      "0:03:53.305903\n",
      "riverdischarge_yearY2014M01V02\n",
      "(55, 55)\n",
      "0:03:57.453579\n"
     ]
    }
   ],
   "source": [
    "i = 0\n",
    "errorlog = []\n",
    "startLoop = datetime.datetime.now()\n",
    "for index, row in dfImages2.iterrows():\n",
    "    i += 1 \n",
    "    try:\n",
    "        toVolumeAndExport(row)\n",
    "    except:\n",
    "        errorlog.append(index)\n",
    "    elapsed = datetime.datetime.now() - startLoop\n",
    "    print(i,dfImages2.shape[0])\n",
    "    print(elapsed)\n",
    "    \n",
    "    "
   ]
  },
  {
   "cell_type": "code",
   "execution_count": 18,
   "metadata": {},
   "outputs": [
    {
     "name": "stdout",
     "output_type": "stream",
     "text": [
      "0:04:04.804005\n"
     ]
    }
   ],
   "source": [
    "end = datetime.datetime.now()\n",
    "elapsed = end - start\n",
    "print(elapsed)"
   ]
  },
  {
   "cell_type": "code",
   "execution_count": null,
   "metadata": {
    "collapsed": true
   },
   "outputs": [],
   "source": []
  }
 ],
 "metadata": {
  "kernelspec": {
   "display_name": "Python 27",
   "language": "python",
   "name": "python27"
  },
  "language_info": {
   "codemirror_mode": {
    "name": "ipython",
    "version": 2
   },
   "file_extension": ".py",
   "mimetype": "text/x-python",
   "name": "python",
   "nbconvert_exporter": "python",
   "pygments_lexer": "ipython2",
   "version": "2.7.14"
  }
 },
 "nbformat": 4,
 "nbformat_minor": 2
}
