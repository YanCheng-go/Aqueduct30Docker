{
 "cells": [
  {
   "cell_type": "markdown",
   "metadata": {},
   "source": [
    "# Y2017M11D24_RH_Prepare_Image_Collections_EE_V01\n",
    "\n",
    "* Purpose of script: put all earth engine imagecollections in the same format (millionm^3  and dimensionless)\n",
    "* Kernel used: python27\n",
    "* Date created: 20171124  "
   ]
  },
  {
   "cell_type": "code",
   "execution_count": 2,
   "metadata": {},
   "outputs": [
    {
     "name": "stdout",
     "output_type": "stream",
     "text": [
      "('Y2017M11D24', 'UTC 15:00')\n"
     ]
    },
    {
     "data": {
      "text/plain": [
       "'2.7.13 |Continuum Analytics, Inc.| (default, Dec 20 2016, 23:09:15) \\n[GCC 4.4.7 20120313 (Red Hat 4.4.7-1)]'"
      ]
     },
     "execution_count": 2,
     "metadata": {},
     "output_type": "execute_result"
    }
   ],
   "source": [
    "import time, datetime, sys\n",
    "dateString = time.strftime(\"Y%YM%mD%d\")\n",
    "timeString = time.strftime(\"UTC %H:%M\")\n",
    "start = datetime.datetime.now()\n",
    "print(dateString,timeString)\n",
    "sys.version"
   ]
  },
  {
   "cell_type": "code",
   "execution_count": 5,
   "metadata": {
    "collapsed": true
   },
   "outputs": [],
   "source": [
    "EE_PATH = \"projects/WRI-Aquaduct/PCRGlobWB20V07\""
   ]
  },
  {
   "cell_type": "code",
   "execution_count": null,
   "metadata": {
    "collapsed": true
   },
   "outputs": [],
   "source": []
  },
  {
   "cell_type": "code",
   "execution_count": 10,
   "metadata": {
    "collapsed": true
   },
   "outputs": [],
   "source": [
    "import ee\n",
    "import re\n",
    "import subprocess\n",
    "from calendar import monthrange\n"
   ]
  },
  {
   "cell_type": "code",
   "execution_count": 4,
   "metadata": {
    "collapsed": true
   },
   "outputs": [],
   "source": [
    "ee.Initialize()"
   ]
  },
  {
   "cell_type": "markdown",
   "metadata": {},
   "source": [
    "ICs not in right format: discharge (m^3 / s) and runoff (m/month or m/year)"
   ]
  },
  {
   "cell_type": "code",
   "execution_count": 7,
   "metadata": {
    "collapsed": true
   },
   "outputs": [],
   "source": [
    "def readAsset(assetId):\n",
    "    # this function will read both images and imageCollections \n",
    "    if ee.data.getInfo(assetId)[\"type\"] == \"Image\":\n",
    "        asset = ee.Image(assetId)\n",
    "        assetType = \"image\"\n",
    "\n",
    "\n",
    "    elif ee.data.getInfo(assetId)[\"type\"] == \"ImageCollection\":\n",
    "        asset = ee.ImageCollection(assetId)\n",
    "        assetType = \"imageCollection\"\n",
    "        \n",
    "    else:\n",
    "        print(\"error\")        \n",
    "    return {\"assetId\":assetId,\"asset\":asset,\"assetType\":assetType}"
   ]
  },
  {
   "cell_type": "code",
   "execution_count": 8,
   "metadata": {
    "collapsed": true
   },
   "outputs": [],
   "source": [
    "command = \"earthengine ls %s\" %(EE_PATH)"
   ]
  },
  {
   "cell_type": "code",
   "execution_count": 11,
   "metadata": {},
   "outputs": [],
   "source": [
    "assetList = subprocess.check_output(command,shell=True).splitlines()"
   ]
  },
  {
   "cell_type": "code",
   "execution_count": null,
   "metadata": {
    "collapsed": true
   },
   "outputs": [],
   "source": [
    "fileName = \"global_historical_runoff_month_mmonth_5min_1958_2014\""
   ]
  },
  {
   "cell_type": "code",
   "execution_count": null,
   "metadata": {
    "collapsed": true
   },
   "outputs": [],
   "source": []
  },
  {
   "cell_type": "code",
   "execution_count": 12,
   "metadata": {},
   "outputs": [
    {
     "name": "stdout",
     "output_type": "stream",
     "text": [
      "['projects/WRI-Aquaduct/PCRGlobWB20V07/accumulateddrainagearea_05min_km2', 'projects/WRI-Aquaduct/PCRGlobWB20V07/area_30s_m2V11', 'projects/WRI-Aquaduct/PCRGlobWB20V07/area_5min_m2V11', 'projects/WRI-Aquaduct/PCRGlobWB20V07/cellsize_05min_m2', 'projects/WRI-Aquaduct/PCRGlobWB20V07/global_historical_PDomWN_month_millionm3_5min_1960_2014', 'projects/WRI-Aquaduct/PCRGlobWB20V07/global_historical_PDomWN_year_millionm3_5min_1960_2014', 'projects/WRI-Aquaduct/PCRGlobWB20V07/global_historical_PDomWW_month_millionm3_5min_1960_2014', 'projects/WRI-Aquaduct/PCRGlobWB20V07/global_historical_PDomWW_year_millionm3_5min_1960_2014', 'projects/WRI-Aquaduct/PCRGlobWB20V07/global_historical_PIndWN_month_millionm3_5min_1960_2014', 'projects/WRI-Aquaduct/PCRGlobWB20V07/global_historical_PIndWN_year_millionm3_5min_1960_2014', 'projects/WRI-Aquaduct/PCRGlobWB20V07/global_historical_PIndWW_month_millionm3_5min_1960_2014', 'projects/WRI-Aquaduct/PCRGlobWB20V07/global_historical_PIndWW_year_millionm3_5min_1960_2014', 'projects/WRI-Aquaduct/PCRGlobWB20V07/global_historical_PIrrLinearWN_month_millionm3_5min_Y2004_Y2014V25', 'projects/WRI-Aquaduct/PCRGlobWB20V07/global_historical_PIrrLinearWN_year_millionm3_5min_Y2004_Y2014V25', 'projects/WRI-Aquaduct/PCRGlobWB20V07/global_historical_PIrrLinearWW_month_millionm3_5min_Y2004_Y2014V25', 'projects/WRI-Aquaduct/PCRGlobWB20V07/global_historical_PIrrLinearWW_year_millionm3_5min_Y2004_Y2014V25', 'projects/WRI-Aquaduct/PCRGlobWB20V07/global_historical_PIrrWN_month_millionm3_5min_1960_2014', 'projects/WRI-Aquaduct/PCRGlobWB20V07/global_historical_PIrrWN_year_millionm3_5min_1960_2014', 'projects/WRI-Aquaduct/PCRGlobWB20V07/global_historical_PIrrWW_month_millionm3_5min_1960_2014', 'projects/WRI-Aquaduct/PCRGlobWB20V07/global_historical_PIrrWW_year_millionm3_5min_1960_2014', 'projects/WRI-Aquaduct/PCRGlobWB20V07/global_historical_PLivWN_month_millionm3_5min_1960_2014', 'projects/WRI-Aquaduct/PCRGlobWB20V07/global_historical_PLivWN_year_millionm3_5min_1960_2014', 'projects/WRI-Aquaduct/PCRGlobWB20V07/global_historical_PLivWW_month_millionm3_5min_1960_2014', 'projects/WRI-Aquaduct/PCRGlobWB20V07/global_historical_PLivWW_year_millionm3_5min_1960_2014', 'projects/WRI-Aquaduct/PCRGlobWB20V07/global_historical_aqbasinwaterstress_month_dimensionless_5min_1960_2014', 'projects/WRI-Aquaduct/PCRGlobWB20V07/global_historical_aqbasinwaterstress_year_dimensionless_5min_1960_2014', 'projects/WRI-Aquaduct/PCRGlobWB20V07/global_historical_griddedwaterstress_month_dimensionless_5min_1960_2014', 'projects/WRI-Aquaduct/PCRGlobWB20V07/global_historical_griddedwaterstress_year_dimensionless_5min_1960_2014', 'projects/WRI-Aquaduct/PCRGlobWB20V07/global_historical_reducedmeanrunoff_month_mmonth_5min_Y1960_Y2014V21', 'projects/WRI-Aquaduct/PCRGlobWB20V07/global_historical_reducedmeanrunoff_year_myear_5min_Y1960_Y2014V21', 'projects/WRI-Aquaduct/PCRGlobWB20V07/global_historical_riverdischarge_month_m3second_5min_1960_2014', 'projects/WRI-Aquaduct/PCRGlobWB20V07/global_historical_riverdischarge_year_m3second_5min_1960_2014', 'projects/WRI-Aquaduct/PCRGlobWB20V07/global_historical_runoff_month_mmonth_5min_1958_2014', 'projects/WRI-Aquaduct/PCRGlobWB20V07/global_historical_runoff_year_myear_5min_1958_2014', 'projects/WRI-Aquaduct/PCRGlobWB20V07/global_historical_soilmoisture_month_meter_5min_1958-2014', 'projects/WRI-Aquaduct/PCRGlobWB20V07/gtopo_05min_m', 'projects/WRI-Aquaduct/PCRGlobWB20V07/hybas_lev00_v1c_merged_fiona_30s_V01', 'projects/WRI-Aquaduct/PCRGlobWB20V07/hybas_lev00_v1c_merged_fiona_5min_V01', 'projects/WRI-Aquaduct/PCRGlobWB20V07/hybas_lev06_v1c_merged_fiona_30s_V01', 'projects/WRI-Aquaduct/PCRGlobWB20V07/hybas_lev06_v1c_merged_fiona_5min_V01', 'projects/WRI-Aquaduct/PCRGlobWB20V07/lddsound_05min_numpad', 'projects/WRI-Aquaduct/PCRGlobWB20V07/ones_30sV11', 'projects/WRI-Aquaduct/PCRGlobWB20V07/ones_5minV11']\n"
     ]
    }
   ],
   "source": [
    "regexs = [\"\"]"
   ]
  },
  {
   "cell_type": "code",
   "execution_count": null,
   "metadata": {
    "collapsed": true
   },
   "outputs": [],
   "source": []
  }
 ],
 "metadata": {
  "kernelspec": {
   "display_name": "Python 27",
   "language": "python",
   "name": "python27"
  },
  "language_info": {
   "codemirror_mode": {
    "name": "ipython",
    "version": 2
   },
   "file_extension": ".py",
   "mimetype": "text/x-python",
   "name": "python",
   "nbconvert_exporter": "python",
   "pygments_lexer": "ipython2",
   "version": "2.7.13"
  }
 },
 "nbformat": 4,
 "nbformat_minor": 2
}
