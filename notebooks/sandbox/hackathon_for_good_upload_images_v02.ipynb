{
 "cells": [
  {
   "cell_type": "code",
   "execution_count": 5,
   "metadata": {
    "collapsed": true
   },
   "outputs": [],
   "source": [
    "# Ingests images for hackathon for good"
   ]
  },
  {
   "cell_type": "code",
   "execution_count": 39,
   "metadata": {
    "collapsed": true
   },
   "outputs": [],
   "source": [
    "GCS_INPUT_PATH = \"gs://hackathon_for_good_rh_01/RC_Challenge_1/1/georeference_after/\"\n",
    "GCS_PATH = \"gs://hackathon_for_good_rh_01/RC_Challenge_1/1/georeference_after_32620/\"\n",
    "\n",
    "SCRIPT_NAME = \"hackathon_for_good_upload_images\"\n",
    "OUTPUT_VERSION = 1\n",
    "\n",
    "ec2_input_path = \"/volumes/data/{}/input_V{:02.0f}\".format(SCRIPT_NAME,OUTPUT_VERSION)\n",
    "ec2_output_path2 = \"/volumes/data/{}/output_V{:02.0f}\".format(SCRIPT_NAME,OUTPUT_VERSION)\n",
    "\n"
   ]
  },
  {
   "cell_type": "code",
   "execution_count": 12,
   "metadata": {},
   "outputs": [
    {
     "name": "stdout",
     "output_type": "stream",
     "text": [
      "rm: cannot remove '/volumes/data/hackathon_for_good_upload_images/input_V01': No such file or directory\r\n"
     ]
    }
   ],
   "source": [
    "!rm -r {ec2_input_path}\n",
    "!rm -r {ec2_output_path}\n",
    "\n",
    "!mkdir -p {ec2_input_path}\n",
    "!mkdir -p {ec2_output_path}\n"
   ]
  },
  {
   "cell_type": "code",
   "execution_count": 13,
   "metadata": {},
   "outputs": [
    {
     "name": "stdout",
     "output_type": "stream",
     "text": [
      "Copying gs://hackathon_for_good_rh_01/RC_Challenge_1/1/georeference_after/RescUAV_11917_Lowlands_modified.tif...\n",
      "Copying gs://hackathon_for_good_rh_01/RC_Challenge_1/1/georeference_after/RescUAV_12917_Philipsburg.tif...\n",
      "Copying gs://hackathon_for_good_rh_01/RC_Challenge_1/1/georeference_after/RescUAV_12917_Philipsburg_modified.tif...\n",
      "Copying gs://hackathon_for_good_rh_01/RC_Challenge_1/1/georeference_after/RescUAV_13917_PhilNE_modified.tif...\n",
      "Copying gs://hackathon_for_good_rh_01/RC_Challenge_1/1/georeference_after/RescUAV_14917_PhilipsburgNW_modified.tif...\n",
      "Copying gs://hackathon_for_good_rh_01/RC_Challenge_1/1/georeference_after/RescUAV_14917_PtBlance2_modified.tif...\n",
      "Copying gs://hackathon_for_good_rh_01/RC_Challenge_1/1/georeference_after/RescUAV_17917_Middle_modified.tif...\n",
      "Copying gs://hackathon_for_good_rh_01/RC_Challenge_1/1/georeference_after/RescUAV_16917_Pt.Blanche3_modified.tif...\n",
      "Copying gs://hackathon_for_good_rh_01/RC_Challenge_1/1/georeference_after/RescUAV_17917_Pt.Blanche_modified.tif...\n",
      "Copying gs://hackathon_for_good_rh_01/RC_Challenge_1/1/georeference_after/RescUAV_17917_Sonesta_modified.tif...\n",
      "Copying gs://hackathon_for_good_rh_01/RC_Challenge_1/1/georeference_after/RescUAV_18917_Belvedere_modified.tif...\n",
      "Copying gs://hackathon_for_good_rh_01/RC_Challenge_1/1/georeference_after/RescUAV_20917_PhilipsBurgE_modified.tif...\n",
      "Copying gs://hackathon_for_good_rh_01/RC_Challenge_1/1/georeference_after/RescUAV_21017_Beacon_modified.tif...\n",
      "Copying gs://hackathon_for_good_rh_01/RC_Challenge_1/1/georeference_after/RescUAV_21017_BillyFolly_modified.tif...\n",
      "Copying gs://hackathon_for_good_rh_01/RC_Challenge_1/1/georeference_after/RescUAV_21017_Simpson_modified.tif...\n",
      "Copying gs://hackathon_for_good_rh_01/RC_Challenge_1/1/georeference_after/RescUAV_21917_Illidge_modified.tif...\n",
      "Copying gs://hackathon_for_good_rh_01/RC_Challenge_1/1/georeference_after/RescUAV_21917_Madams_modified.tif...\n",
      "Copying gs://hackathon_for_good_rh_01/RC_Challenge_1/1/georeference_after/RescUAV_21917_OverThePond_modified.tif...\n",
      "Copying gs://hackathon_for_good_rh_01/RC_Challenge_1/1/georeference_after/RescUAV_21917_Pond_modified.tif...\n",
      "Copying gs://hackathon_for_good_rh_01/RC_Challenge_1/1/georeference_after/RescUAV_22917_DutchCul_modified.tif...\n",
      "Copying gs://hackathon_for_good_rh_01/RC_Challenge_1/1/georeference_after/RescUAV_25917_StPetersE_modified.tif...\n",
      "Copying gs://hackathon_for_good_rh_01/RC_Challenge_1/1/georeference_after/RescUAV_23917_ColeHill_modified.tif...\n",
      "Copying gs://hackathon_for_good_rh_01/RC_Challenge_1/1/georeference_after/RescUAV_23917_Cul_modified.tif...\n",
      "Copying gs://hackathon_for_good_rh_01/RC_Challenge_1/1/georeference_after/RescUAV_24917_Ebenezer_modified.tif...\n",
      "Copying gs://hackathon_for_good_rh_01/RC_Challenge_1/1/georeference_after/RescUAV_27917_StJohns_modified.tif...\n",
      "Copying gs://hackathon_for_good_rh_01/RC_Challenge_1/1/georeference_after/RescUAV_26917_StPeters_modified.tif...\n",
      "Copying gs://hackathon_for_good_rh_01/RC_Challenge_1/1/georeference_after/RescUAV_27917_SthReward_modified.tif...\n",
      "Copying gs://hackathon_for_good_rh_01/RC_Challenge_1/1/georeference_after/RescUAV_28917_CayHill_modified.tif...\n",
      "Copying gs://hackathon_for_good_rh_01/RC_Challenge_1/1/georeference_after/RescUAV_29917_Almond_modified.tif...\n",
      "Copying gs://hackathon_for_good_rh_01/RC_Challenge_1/1/georeference_after/RescUAV_29917_CayBay_modified.tif...\n",
      "Copying gs://hackathon_for_good_rh_01/RC_Challenge_1/1/georeference_after/RescUAV_29917_ColeE_modified.tif...\n",
      "Copying gs://hackathon_for_good_rh_01/RC_Challenge_1/1/georeference_after/RescUAV_29917_ColeM_modified.tif...\n",
      "Copying gs://hackathon_for_good_rh_01/RC_Challenge_1/1/georeference_after/RescUAV_29917_ColeW_modified.tif...\n",
      "Copying gs://hackathon_for_good_rh_01/RC_Challenge_1/1/georeference_after/RescUAV_31017_MtWilliam_modified.tif...\n",
      "- [34/34 files][ 24.0 GiB/ 24.0 GiB] 100% Done  99.4 MiB/s ETA 00:00:00         \n",
      "Operation completed over 34 objects/24.0 GiB.                                    \n"
     ]
    }
   ],
   "source": [
    "!gsutil -m cp -r {GCS_INPUT_PATH}/* {ec2_input_path}/."
   ]
  },
  {
   "cell_type": "code",
   "execution_count": 20,
   "metadata": {
    "collapsed": true
   },
   "outputs": [],
   "source": [
    "import os \n",
    "import subprocess"
   ]
  },
  {
   "cell_type": "code",
   "execution_count": 21,
   "metadata": {
    "collapsed": true
   },
   "outputs": [],
   "source": [
    "files = os.listdir(ec2_input_path)"
   ]
  },
  {
   "cell_type": "code",
   "execution_count": 22,
   "metadata": {},
   "outputs": [
    {
     "data": {
      "text/plain": [
       "['RescUAV_25917_StPetersE_modified.tif',\n",
       " 'RescUAV_14917_PtBlance2_modified.tif',\n",
       " 'RescUAV_21917_Madams_modified.tif',\n",
       " 'RescUAV_29917_ColeE_modified.tif',\n",
       " 'RescUAV_11917_Lowlands_modified.tif',\n",
       " 'RescUAV_16917_Pt.Blanche3_modified.tif',\n",
       " 'RescUAV_31017_MtWilliam_modified.tif',\n",
       " 'RescUAV_21017_Simpson_modified.tif',\n",
       " 'RescUAV_17917_Pt.Blanche_modified.tif',\n",
       " 'RescUAV_23917_Cul_modified.tif',\n",
       " 'RescUAV_12917_Philipsburg_modified.tif',\n",
       " 'RescUAV_18917_Belvedere_modified.tif',\n",
       " 'RescUAV_29917_Almond_modified.tif',\n",
       " 'RescUAV_27917_SthReward_modified.tif',\n",
       " 'RescUAV_13917_PhilNE_modified.tif',\n",
       " 'RescUAV_29917_ColeM_modified.tif',\n",
       " 'RescUAV_21017_Beacon_modified.tif',\n",
       " 'RescUAV_27917_StJohns_modified.tif',\n",
       " 'RescUAV_12917_Philipsburg.tif',\n",
       " 'RescUAV_14917_PhilipsburgNW_modified.tif',\n",
       " 'RescUAV_20917_PhilipsBurgE_modified.tif',\n",
       " 'RescUAV_21017_BillyFolly_modified.tif',\n",
       " 'RescUAV_24917_Ebenezer_modified.tif',\n",
       " 'RescUAV_28917_CayHill_modified.tif',\n",
       " 'RescUAV_26917_StPeters_modified.tif',\n",
       " 'RescUAV_29917_ColeW_modified.tif',\n",
       " 'RescUAV_17917_Middle_modified.tif',\n",
       " 'RescUAV_21917_OverThePond_modified.tif',\n",
       " 'RescUAV_21917_Illidge_modified.tif',\n",
       " 'RescUAV_29917_CayBay_modified.tif',\n",
       " 'RescUAV_22917_DutchCul_modified.tif',\n",
       " 'RescUAV_21917_Pond_modified.tif',\n",
       " 'RescUAV_17917_Sonesta_modified.tif',\n",
       " 'RescUAV_23917_ColeHill_modified.tif']"
      ]
     },
     "execution_count": 22,
     "metadata": {},
     "output_type": "execute_result"
    }
   ],
   "source": [
    "files"
   ]
  },
  {
   "cell_type": "code",
   "execution_count": 16,
   "metadata": {
    "collapsed": true
   },
   "outputs": [],
   "source": [
    "## some files are missing crs. Setting to UTM 20 epsg 32620 using gdal"
   ]
  },
  {
   "cell_type": "code",
   "execution_count": 29,
   "metadata": {
    "collapsed": true
   },
   "outputs": [],
   "source": [
    "commands = []\n",
    "for file in files:    \n",
    "    source_path = \"{}/{}\".format(ec2_input_path,file)\n",
    "    destination_path = \"{}/{}\".format(ec2_output_path,file)\n",
    "    \n",
    "    command = \"/opt/anaconda3/envs/python35/bin/gdal_translate -a_srs 'epsg:32620' {} {}\".format(source_path,destination_path)\n",
    "    commands.append(command)   "
   ]
  },
  {
   "cell_type": "code",
   "execution_count": 30,
   "metadata": {},
   "outputs": [
    {
     "name": "stdout",
     "output_type": "stream",
     "text": [
      "/opt/anaconda3/envs/python35/bin/gdal_translate -a_srs 'epsg:32620' /volumes/data/hackathon_for_good_upload_images/input_V01/RescUAV_25917_StPetersE_modified.tif /volumes/data/hackathon_for_good_upload_images/output_V01/RescUAV_25917_StPetersE_modified.tif\n",
      "/opt/anaconda3/envs/python35/bin/gdal_translate -a_srs 'epsg:32620' /volumes/data/hackathon_for_good_upload_images/input_V01/RescUAV_14917_PtBlance2_modified.tif /volumes/data/hackathon_for_good_upload_images/output_V01/RescUAV_14917_PtBlance2_modified.tif\n",
      "/opt/anaconda3/envs/python35/bin/gdal_translate -a_srs 'epsg:32620' /volumes/data/hackathon_for_good_upload_images/input_V01/RescUAV_21917_Madams_modified.tif /volumes/data/hackathon_for_good_upload_images/output_V01/RescUAV_21917_Madams_modified.tif\n",
      "/opt/anaconda3/envs/python35/bin/gdal_translate -a_srs 'epsg:32620' /volumes/data/hackathon_for_good_upload_images/input_V01/RescUAV_29917_ColeE_modified.tif /volumes/data/hackathon_for_good_upload_images/output_V01/RescUAV_29917_ColeE_modified.tif\n",
      "/opt/anaconda3/envs/python35/bin/gdal_translate -a_srs 'epsg:32620' /volumes/data/hackathon_for_good_upload_images/input_V01/RescUAV_11917_Lowlands_modified.tif /volumes/data/hackathon_for_good_upload_images/output_V01/RescUAV_11917_Lowlands_modified.tif\n",
      "/opt/anaconda3/envs/python35/bin/gdal_translate -a_srs 'epsg:32620' /volumes/data/hackathon_for_good_upload_images/input_V01/RescUAV_16917_Pt.Blanche3_modified.tif /volumes/data/hackathon_for_good_upload_images/output_V01/RescUAV_16917_Pt.Blanche3_modified.tif\n",
      "/opt/anaconda3/envs/python35/bin/gdal_translate -a_srs 'epsg:32620' /volumes/data/hackathon_for_good_upload_images/input_V01/RescUAV_31017_MtWilliam_modified.tif /volumes/data/hackathon_for_good_upload_images/output_V01/RescUAV_31017_MtWilliam_modified.tif\n",
      "/opt/anaconda3/envs/python35/bin/gdal_translate -a_srs 'epsg:32620' /volumes/data/hackathon_for_good_upload_images/input_V01/RescUAV_21017_Simpson_modified.tif /volumes/data/hackathon_for_good_upload_images/output_V01/RescUAV_21017_Simpson_modified.tif\n",
      "/opt/anaconda3/envs/python35/bin/gdal_translate -a_srs 'epsg:32620' /volumes/data/hackathon_for_good_upload_images/input_V01/RescUAV_17917_Pt.Blanche_modified.tif /volumes/data/hackathon_for_good_upload_images/output_V01/RescUAV_17917_Pt.Blanche_modified.tif\n",
      "/opt/anaconda3/envs/python35/bin/gdal_translate -a_srs 'epsg:32620' /volumes/data/hackathon_for_good_upload_images/input_V01/RescUAV_23917_Cul_modified.tif /volumes/data/hackathon_for_good_upload_images/output_V01/RescUAV_23917_Cul_modified.tif\n",
      "/opt/anaconda3/envs/python35/bin/gdal_translate -a_srs 'epsg:32620' /volumes/data/hackathon_for_good_upload_images/input_V01/RescUAV_12917_Philipsburg_modified.tif /volumes/data/hackathon_for_good_upload_images/output_V01/RescUAV_12917_Philipsburg_modified.tif\n",
      "/opt/anaconda3/envs/python35/bin/gdal_translate -a_srs 'epsg:32620' /volumes/data/hackathon_for_good_upload_images/input_V01/RescUAV_18917_Belvedere_modified.tif /volumes/data/hackathon_for_good_upload_images/output_V01/RescUAV_18917_Belvedere_modified.tif\n",
      "/opt/anaconda3/envs/python35/bin/gdal_translate -a_srs 'epsg:32620' /volumes/data/hackathon_for_good_upload_images/input_V01/RescUAV_29917_Almond_modified.tif /volumes/data/hackathon_for_good_upload_images/output_V01/RescUAV_29917_Almond_modified.tif\n",
      "/opt/anaconda3/envs/python35/bin/gdal_translate -a_srs 'epsg:32620' /volumes/data/hackathon_for_good_upload_images/input_V01/RescUAV_27917_SthReward_modified.tif /volumes/data/hackathon_for_good_upload_images/output_V01/RescUAV_27917_SthReward_modified.tif\n",
      "/opt/anaconda3/envs/python35/bin/gdal_translate -a_srs 'epsg:32620' /volumes/data/hackathon_for_good_upload_images/input_V01/RescUAV_13917_PhilNE_modified.tif /volumes/data/hackathon_for_good_upload_images/output_V01/RescUAV_13917_PhilNE_modified.tif\n",
      "/opt/anaconda3/envs/python35/bin/gdal_translate -a_srs 'epsg:32620' /volumes/data/hackathon_for_good_upload_images/input_V01/RescUAV_29917_ColeM_modified.tif /volumes/data/hackathon_for_good_upload_images/output_V01/RescUAV_29917_ColeM_modified.tif\n",
      "/opt/anaconda3/envs/python35/bin/gdal_translate -a_srs 'epsg:32620' /volumes/data/hackathon_for_good_upload_images/input_V01/RescUAV_21017_Beacon_modified.tif /volumes/data/hackathon_for_good_upload_images/output_V01/RescUAV_21017_Beacon_modified.tif\n",
      "/opt/anaconda3/envs/python35/bin/gdal_translate -a_srs 'epsg:32620' /volumes/data/hackathon_for_good_upload_images/input_V01/RescUAV_27917_StJohns_modified.tif /volumes/data/hackathon_for_good_upload_images/output_V01/RescUAV_27917_StJohns_modified.tif\n",
      "/opt/anaconda3/envs/python35/bin/gdal_translate -a_srs 'epsg:32620' /volumes/data/hackathon_for_good_upload_images/input_V01/RescUAV_12917_Philipsburg.tif /volumes/data/hackathon_for_good_upload_images/output_V01/RescUAV_12917_Philipsburg.tif\n",
      "/opt/anaconda3/envs/python35/bin/gdal_translate -a_srs 'epsg:32620' /volumes/data/hackathon_for_good_upload_images/input_V01/RescUAV_14917_PhilipsburgNW_modified.tif /volumes/data/hackathon_for_good_upload_images/output_V01/RescUAV_14917_PhilipsburgNW_modified.tif\n",
      "/opt/anaconda3/envs/python35/bin/gdal_translate -a_srs 'epsg:32620' /volumes/data/hackathon_for_good_upload_images/input_V01/RescUAV_20917_PhilipsBurgE_modified.tif /volumes/data/hackathon_for_good_upload_images/output_V01/RescUAV_20917_PhilipsBurgE_modified.tif\n",
      "/opt/anaconda3/envs/python35/bin/gdal_translate -a_srs 'epsg:32620' /volumes/data/hackathon_for_good_upload_images/input_V01/RescUAV_21017_BillyFolly_modified.tif /volumes/data/hackathon_for_good_upload_images/output_V01/RescUAV_21017_BillyFolly_modified.tif\n",
      "/opt/anaconda3/envs/python35/bin/gdal_translate -a_srs 'epsg:32620' /volumes/data/hackathon_for_good_upload_images/input_V01/RescUAV_24917_Ebenezer_modified.tif /volumes/data/hackathon_for_good_upload_images/output_V01/RescUAV_24917_Ebenezer_modified.tif\n",
      "/opt/anaconda3/envs/python35/bin/gdal_translate -a_srs 'epsg:32620' /volumes/data/hackathon_for_good_upload_images/input_V01/RescUAV_28917_CayHill_modified.tif /volumes/data/hackathon_for_good_upload_images/output_V01/RescUAV_28917_CayHill_modified.tif\n",
      "/opt/anaconda3/envs/python35/bin/gdal_translate -a_srs 'epsg:32620' /volumes/data/hackathon_for_good_upload_images/input_V01/RescUAV_26917_StPeters_modified.tif /volumes/data/hackathon_for_good_upload_images/output_V01/RescUAV_26917_StPeters_modified.tif\n",
      "/opt/anaconda3/envs/python35/bin/gdal_translate -a_srs 'epsg:32620' /volumes/data/hackathon_for_good_upload_images/input_V01/RescUAV_29917_ColeW_modified.tif /volumes/data/hackathon_for_good_upload_images/output_V01/RescUAV_29917_ColeW_modified.tif\n",
      "/opt/anaconda3/envs/python35/bin/gdal_translate -a_srs 'epsg:32620' /volumes/data/hackathon_for_good_upload_images/input_V01/RescUAV_17917_Middle_modified.tif /volumes/data/hackathon_for_good_upload_images/output_V01/RescUAV_17917_Middle_modified.tif\n",
      "/opt/anaconda3/envs/python35/bin/gdal_translate -a_srs 'epsg:32620' /volumes/data/hackathon_for_good_upload_images/input_V01/RescUAV_21917_OverThePond_modified.tif /volumes/data/hackathon_for_good_upload_images/output_V01/RescUAV_21917_OverThePond_modified.tif\n",
      "/opt/anaconda3/envs/python35/bin/gdal_translate -a_srs 'epsg:32620' /volumes/data/hackathon_for_good_upload_images/input_V01/RescUAV_21917_Illidge_modified.tif /volumes/data/hackathon_for_good_upload_images/output_V01/RescUAV_21917_Illidge_modified.tif\n",
      "/opt/anaconda3/envs/python35/bin/gdal_translate -a_srs 'epsg:32620' /volumes/data/hackathon_for_good_upload_images/input_V01/RescUAV_29917_CayBay_modified.tif /volumes/data/hackathon_for_good_upload_images/output_V01/RescUAV_29917_CayBay_modified.tif\n",
      "/opt/anaconda3/envs/python35/bin/gdal_translate -a_srs 'epsg:32620' /volumes/data/hackathon_for_good_upload_images/input_V01/RescUAV_22917_DutchCul_modified.tif /volumes/data/hackathon_for_good_upload_images/output_V01/RescUAV_22917_DutchCul_modified.tif\n",
      "/opt/anaconda3/envs/python35/bin/gdal_translate -a_srs 'epsg:32620' /volumes/data/hackathon_for_good_upload_images/input_V01/RescUAV_21917_Pond_modified.tif /volumes/data/hackathon_for_good_upload_images/output_V01/RescUAV_21917_Pond_modified.tif\n",
      "/opt/anaconda3/envs/python35/bin/gdal_translate -a_srs 'epsg:32620' /volumes/data/hackathon_for_good_upload_images/input_V01/RescUAV_17917_Sonesta_modified.tif /volumes/data/hackathon_for_good_upload_images/output_V01/RescUAV_17917_Sonesta_modified.tif\n"
     ]
    },
    {
     "name": "stdout",
     "output_type": "stream",
     "text": [
      "/opt/anaconda3/envs/python35/bin/gdal_translate -a_srs 'epsg:32620' /volumes/data/hackathon_for_good_upload_images/input_V01/RescUAV_23917_ColeHill_modified.tif /volumes/data/hackathon_for_good_upload_images/output_V01/RescUAV_23917_ColeHill_modified.tif\n"
     ]
    }
   ],
   "source": [
    "for command in commands:\n",
    "    print(command)\n",
    "    subprocess.check_output(command,shell=True)"
   ]
  },
  {
   "cell_type": "code",
   "execution_count": 41,
   "metadata": {},
   "outputs": [
    {
     "name": "stdout",
     "output_type": "stream",
     "text": [
      "Copying file:///volumes/data/hackathon_for_good_upload_images/output_V01/RescUAV_11917_Lowlands_modified.tif [Content-Type=image/tiff]...\n",
      "Copying file:///volumes/data/hackathon_for_good_upload_images/output_V01/RescUAV_17917_Sonesta_modified.tif [Content-Type=image/tiff]...\n",
      "Copying file:///volumes/data/hackathon_for_good_upload_images/output_V01/RescUAV_12917_Philipsburg.tif [Content-Type=image/tiff]...\n",
      "Copying file:///volumes/data/hackathon_for_good_upload_images/output_V01/RescUAV_13917_PhilNE_modified.tif [Content-Type=image/tiff]...\n",
      "Copying file:///volumes/data/hackathon_for_good_upload_images/output_V01/RescUAV_17917_Pt.Blanche_modified.tif [Content-Type=image/tiff]...\n",
      "Copying file:///volumes/data/hackathon_for_good_upload_images/output_V01/RescUAV_12917_Philipsburg_modified.tif [Content-Type=image/tiff]...\n",
      "Copying file:///volumes/data/hackathon_for_good_upload_images/output_V01/RescUAV_14917_PhilipsburgNW_modified.tif [Content-Type=image/tiff]...\n",
      "==> NOTE: You are uploading one or more large file(s), which would run\n",
      "significantly faster if you enable parallel composite uploads. This\n",
      "feature can be enabled by editing the\n",
      "\"parallel_composite_upload_threshold\" value in your .boto\n",
      "configuration file. However, note that if you do this large files will\n",
      "be uploaded as `composite objects\n",
      "<https://cloud.google.com/storage/docs/composite-objects>`_,which\n",
      "means that any user who downloads such objects will need to have a\n",
      "compiled crcmod installed (see \"gsutil help crcmod\"). This is because\n",
      "without a compiled crcmod, computing checksums on composite objects is\n",
      "so slow that gsutil disables downloads of composite objects.\n",
      "\n",
      "Copying file:///volumes/data/hackathon_for_good_upload_images/output_V01/RescUAV_16917_Pt.Blanche3_modified.tif [Content-Type=image/tiff]...\n",
      "Copying file:///volumes/data/hackathon_for_good_upload_images/output_V01/RescUAV_14917_PtBlance2_modified.tif [Content-Type=image/tiff]...\n",
      "Copying file:///volumes/data/hackathon_for_good_upload_images/output_V01/RescUAV_17917_Middle_modified.tif [Content-Type=image/tiff]...\n",
      "Copying file:///volumes/data/hackathon_for_good_upload_images/output_V01/RescUAV_21017_Simpson_modified.tif [Content-Type=image/tiff]...\n",
      "Copying file:///volumes/data/hackathon_for_good_upload_images/output_V01/RescUAV_21017_BillyFolly_modified.tif [Content-Type=image/tiff]...\n",
      "Copying file:///volumes/data/hackathon_for_good_upload_images/output_V01/RescUAV_20917_PhilipsBurgE_modified.tif [Content-Type=image/tiff]...\n",
      "Copying file:///volumes/data/hackathon_for_good_upload_images/output_V01/RescUAV_21017_Beacon_modified.tif [Content-Type=image/tiff]...\n",
      "Copying file:///volumes/data/hackathon_for_good_upload_images/output_V01/RescUAV_18917_Belvedere_modified.tif [Content-Type=image/tiff]...\n",
      "Copying file:///volumes/data/hackathon_for_good_upload_images/output_V01/RescUAV_21917_OverThePond_modified.tif [Content-Type=image/tiff]...\n",
      "Copying file:///volumes/data/hackathon_for_good_upload_images/output_V01/RescUAV_21917_Madams_modified.tif [Content-Type=image/tiff]...\n",
      "Copying file:///volumes/data/hackathon_for_good_upload_images/output_V01/RescUAV_27917_SthReward_modified.tif [Content-Type=image/tiff]...\n",
      "Copying file:///volumes/data/hackathon_for_good_upload_images/output_V01/RescUAV_28917_CayHill_modified.tif [Content-Type=image/tiff]...\n",
      "Copying file:///volumes/data/hackathon_for_good_upload_images/output_V01/RescUAV_21917_Illidge_modified.tif [Content-Type=image/tiff]...\n",
      "Copying file:///volumes/data/hackathon_for_good_upload_images/output_V01/RescUAV_27917_StJohns_modified.tif [Content-Type=image/tiff]...\n",
      "Copying file:///volumes/data/hackathon_for_good_upload_images/output_V01/RescUAV_21917_Pond_modified.tif [Content-Type=image/tiff]...\n",
      "Copying file:///volumes/data/hackathon_for_good_upload_images/output_V01/RescUAV_29917_CayBay_modified.tif [Content-Type=image/tiff]...\n",
      "Copying file:///volumes/data/hackathon_for_good_upload_images/output_V01/RescUAV_29917_Almond_modified.tif [Content-Type=image/tiff]...\n",
      "Copying file:///volumes/data/hackathon_for_good_upload_images/output_V01/RescUAV_22917_DutchCul_modified.tif [Content-Type=image/tiff]...\n",
      "Copying file:///volumes/data/hackathon_for_good_upload_images/output_V01/RescUAV_23917_ColeHill_modified.tif [Content-Type=image/tiff]...\n",
      "Copying file:///volumes/data/hackathon_for_good_upload_images/output_V01/RescUAV_25917_StPetersE_modified.tif [Content-Type=image/tiff]...\n",
      "Copying file:///volumes/data/hackathon_for_good_upload_images/output_V01/RescUAV_23917_Cul_modified.tif [Content-Type=image/tiff]...\n",
      "Copying file:///volumes/data/hackathon_for_good_upload_images/output_V01/RescUAV_24917_Ebenezer_modified.tif [Content-Type=image/tiff]...\n",
      "Copying file:///volumes/data/hackathon_for_good_upload_images/output_V01/RescUAV_26917_StPeters_modified.tif [Content-Type=image/tiff]...\n",
      "Copying file:///volumes/data/hackathon_for_good_upload_images/output_V01/RescUAV_29917_ColeM_modified.tif [Content-Type=image/tiff]...\n",
      "Copying file:///volumes/data/hackathon_for_good_upload_images/output_V01/RescUAV_29917_ColeE_modified.tif [Content-Type=image/tiff]...\n",
      "Copying file:///volumes/data/hackathon_for_good_upload_images/output_V01/RescUAV_31017_MtWilliam_modified.tif [Content-Type=image/tiff]...\n",
      "Copying file:///volumes/data/hackathon_for_good_upload_images/output_V01/RescUAV_29917_ColeW_modified.tif [Content-Type=image/tiff]...\n",
      "/ [34/34 files][ 54.5 GiB/ 54.5 GiB] 100% Done  91.2 MiB/s ETA 00:00:00         \n",
      "Operation completed over 34 objects/54.5 GiB.                                    \n"
     ]
    }
   ],
   "source": [
    "!gsutil -m cp -r {ec2_output_path}/* {GCS_PATH}"
   ]
  },
  {
   "cell_type": "code",
   "execution_count": 40,
   "metadata": {},
   "outputs": [
    {
     "data": {
      "text/plain": [
       "'gs://hackathon_for_good_rh_01/RC_Challenge_1/1/georeference_after_32620/'"
      ]
     },
     "execution_count": 40,
     "metadata": {},
     "output_type": "execute_result"
    }
   ],
   "source": [
    "GCS_PATH"
   ]
  },
  {
   "cell_type": "code",
   "execution_count": 42,
   "metadata": {
    "collapsed": true
   },
   "outputs": [],
   "source": [
    "commands = []\n",
    "for file in files:    \n",
    "    source_path = \"{}/{}\".format(GCS_PATH,file)\n",
    "    file_basename = file[:-4] #remove extension\n",
    "    file_basename = file_basename.replace(\".\",\"\")\n",
    "    metas = file_basename.split(\"_\")\n",
    "    \n",
    "    extra_command = \"\"\n",
    "    i = 0\n",
    "    for meta in metas:\n",
    "        i += 1\n",
    "        extra_command += \" -p meta{}={}\".format(i,meta)\n",
    "    \n",
    "    \n",
    "    command = \"/opt/anaconda3/envs/python35/bin/earthengine upload image --asset_id='users/rutgerhofste/hackathon_for_good/after/uav_georeferenced/{}' {} --nodata_value=255 {}\".format(file_basename,extra_command,source_path) \n",
    "    commands.append(command)    "
   ]
  },
  {
   "cell_type": "code",
   "execution_count": 43,
   "metadata": {},
   "outputs": [
    {
     "data": {
      "text/plain": [
       "34"
      ]
     },
     "execution_count": 43,
     "metadata": {},
     "output_type": "execute_result"
    }
   ],
   "source": [
    "len(commands)"
   ]
  },
  {
   "cell_type": "code",
   "execution_count": 44,
   "metadata": {},
   "outputs": [
    {
     "data": {
      "text/plain": [
       "\"/opt/anaconda3/envs/python35/bin/earthengine upload image --asset_id='users/rutgerhofste/hackathon_for_good/after/uav_georeferenced/RescUAV_14917_PtBlance2_modified'  -p meta1=RescUAV -p meta2=14917 -p meta3=PtBlance2 -p meta4=modified --nodata_value=255 gs://hackathon_for_good_rh_01/RC_Challenge_1/1/georeference_after_32620//RescUAV_14917_PtBlance2_modified.tif\""
      ]
     },
     "execution_count": 44,
     "metadata": {},
     "output_type": "execute_result"
    }
   ],
   "source": [
    "commands[1]"
   ]
  },
  {
   "cell_type": "code",
   "execution_count": 45,
   "metadata": {},
   "outputs": [
    {
     "name": "stdout",
     "output_type": "stream",
     "text": [
      "/opt/anaconda3/envs/python35/bin/earthengine upload image --asset_id='users/rutgerhofste/hackathon_for_good/after/uav_georeferenced/RescUAV_25917_StPetersE_modified'  -p meta1=RescUAV -p meta2=25917 -p meta3=StPetersE -p meta4=modified --nodata_value=255 gs://hackathon_for_good_rh_01/RC_Challenge_1/1/georeference_after_32620//RescUAV_25917_StPetersE_modified.tif\n",
      "/opt/anaconda3/envs/python35/bin/earthengine upload image --asset_id='users/rutgerhofste/hackathon_for_good/after/uav_georeferenced/RescUAV_14917_PtBlance2_modified'  -p meta1=RescUAV -p meta2=14917 -p meta3=PtBlance2 -p meta4=modified --nodata_value=255 gs://hackathon_for_good_rh_01/RC_Challenge_1/1/georeference_after_32620//RescUAV_14917_PtBlance2_modified.tif\n",
      "/opt/anaconda3/envs/python35/bin/earthengine upload image --asset_id='users/rutgerhofste/hackathon_for_good/after/uav_georeferenced/RescUAV_21917_Madams_modified'  -p meta1=RescUAV -p meta2=21917 -p meta3=Madams -p meta4=modified --nodata_value=255 gs://hackathon_for_good_rh_01/RC_Challenge_1/1/georeference_after_32620//RescUAV_21917_Madams_modified.tif\n",
      "/opt/anaconda3/envs/python35/bin/earthengine upload image --asset_id='users/rutgerhofste/hackathon_for_good/after/uav_georeferenced/RescUAV_29917_ColeE_modified'  -p meta1=RescUAV -p meta2=29917 -p meta3=ColeE -p meta4=modified --nodata_value=255 gs://hackathon_for_good_rh_01/RC_Challenge_1/1/georeference_after_32620//RescUAV_29917_ColeE_modified.tif\n",
      "/opt/anaconda3/envs/python35/bin/earthengine upload image --asset_id='users/rutgerhofste/hackathon_for_good/after/uav_georeferenced/RescUAV_11917_Lowlands_modified'  -p meta1=RescUAV -p meta2=11917 -p meta3=Lowlands -p meta4=modified --nodata_value=255 gs://hackathon_for_good_rh_01/RC_Challenge_1/1/georeference_after_32620//RescUAV_11917_Lowlands_modified.tif\n",
      "/opt/anaconda3/envs/python35/bin/earthengine upload image --asset_id='users/rutgerhofste/hackathon_for_good/after/uav_georeferenced/RescUAV_16917_PtBlanche3_modified'  -p meta1=RescUAV -p meta2=16917 -p meta3=PtBlanche3 -p meta4=modified --nodata_value=255 gs://hackathon_for_good_rh_01/RC_Challenge_1/1/georeference_after_32620//RescUAV_16917_Pt.Blanche3_modified.tif\n",
      "/opt/anaconda3/envs/python35/bin/earthengine upload image --asset_id='users/rutgerhofste/hackathon_for_good/after/uav_georeferenced/RescUAV_31017_MtWilliam_modified'  -p meta1=RescUAV -p meta2=31017 -p meta3=MtWilliam -p meta4=modified --nodata_value=255 gs://hackathon_for_good_rh_01/RC_Challenge_1/1/georeference_after_32620//RescUAV_31017_MtWilliam_modified.tif\n",
      "/opt/anaconda3/envs/python35/bin/earthengine upload image --asset_id='users/rutgerhofste/hackathon_for_good/after/uav_georeferenced/RescUAV_21017_Simpson_modified'  -p meta1=RescUAV -p meta2=21017 -p meta3=Simpson -p meta4=modified --nodata_value=255 gs://hackathon_for_good_rh_01/RC_Challenge_1/1/georeference_after_32620//RescUAV_21017_Simpson_modified.tif\n",
      "/opt/anaconda3/envs/python35/bin/earthengine upload image --asset_id='users/rutgerhofste/hackathon_for_good/after/uav_georeferenced/RescUAV_17917_PtBlanche_modified'  -p meta1=RescUAV -p meta2=17917 -p meta3=PtBlanche -p meta4=modified --nodata_value=255 gs://hackathon_for_good_rh_01/RC_Challenge_1/1/georeference_after_32620//RescUAV_17917_Pt.Blanche_modified.tif\n",
      "/opt/anaconda3/envs/python35/bin/earthengine upload image --asset_id='users/rutgerhofste/hackathon_for_good/after/uav_georeferenced/RescUAV_23917_Cul_modified'  -p meta1=RescUAV -p meta2=23917 -p meta3=Cul -p meta4=modified --nodata_value=255 gs://hackathon_for_good_rh_01/RC_Challenge_1/1/georeference_after_32620//RescUAV_23917_Cul_modified.tif\n",
      "/opt/anaconda3/envs/python35/bin/earthengine upload image --asset_id='users/rutgerhofste/hackathon_for_good/after/uav_georeferenced/RescUAV_12917_Philipsburg_modified'  -p meta1=RescUAV -p meta2=12917 -p meta3=Philipsburg -p meta4=modified --nodata_value=255 gs://hackathon_for_good_rh_01/RC_Challenge_1/1/georeference_after_32620//RescUAV_12917_Philipsburg_modified.tif\n",
      "/opt/anaconda3/envs/python35/bin/earthengine upload image --asset_id='users/rutgerhofste/hackathon_for_good/after/uav_georeferenced/RescUAV_18917_Belvedere_modified'  -p meta1=RescUAV -p meta2=18917 -p meta3=Belvedere -p meta4=modified --nodata_value=255 gs://hackathon_for_good_rh_01/RC_Challenge_1/1/georeference_after_32620//RescUAV_18917_Belvedere_modified.tif\n",
      "/opt/anaconda3/envs/python35/bin/earthengine upload image --asset_id='users/rutgerhofste/hackathon_for_good/after/uav_georeferenced/RescUAV_29917_Almond_modified'  -p meta1=RescUAV -p meta2=29917 -p meta3=Almond -p meta4=modified --nodata_value=255 gs://hackathon_for_good_rh_01/RC_Challenge_1/1/georeference_after_32620//RescUAV_29917_Almond_modified.tif\n",
      "/opt/anaconda3/envs/python35/bin/earthengine upload image --asset_id='users/rutgerhofste/hackathon_for_good/after/uav_georeferenced/RescUAV_27917_SthReward_modified'  -p meta1=RescUAV -p meta2=27917 -p meta3=SthReward -p meta4=modified --nodata_value=255 gs://hackathon_for_good_rh_01/RC_Challenge_1/1/georeference_after_32620//RescUAV_27917_SthReward_modified.tif\n",
      "/opt/anaconda3/envs/python35/bin/earthengine upload image --asset_id='users/rutgerhofste/hackathon_for_good/after/uav_georeferenced/RescUAV_13917_PhilNE_modified'  -p meta1=RescUAV -p meta2=13917 -p meta3=PhilNE -p meta4=modified --nodata_value=255 gs://hackathon_for_good_rh_01/RC_Challenge_1/1/georeference_after_32620//RescUAV_13917_PhilNE_modified.tif\n",
      "/opt/anaconda3/envs/python35/bin/earthengine upload image --asset_id='users/rutgerhofste/hackathon_for_good/after/uav_georeferenced/RescUAV_29917_ColeM_modified'  -p meta1=RescUAV -p meta2=29917 -p meta3=ColeM -p meta4=modified --nodata_value=255 gs://hackathon_for_good_rh_01/RC_Challenge_1/1/georeference_after_32620//RescUAV_29917_ColeM_modified.tif\n",
      "/opt/anaconda3/envs/python35/bin/earthengine upload image --asset_id='users/rutgerhofste/hackathon_for_good/after/uav_georeferenced/RescUAV_21017_Beacon_modified'  -p meta1=RescUAV -p meta2=21017 -p meta3=Beacon -p meta4=modified --nodata_value=255 gs://hackathon_for_good_rh_01/RC_Challenge_1/1/georeference_after_32620//RescUAV_21017_Beacon_modified.tif\n",
      "/opt/anaconda3/envs/python35/bin/earthengine upload image --asset_id='users/rutgerhofste/hackathon_for_good/after/uav_georeferenced/RescUAV_27917_StJohns_modified'  -p meta1=RescUAV -p meta2=27917 -p meta3=StJohns -p meta4=modified --nodata_value=255 gs://hackathon_for_good_rh_01/RC_Challenge_1/1/georeference_after_32620//RescUAV_27917_StJohns_modified.tif\n",
      "/opt/anaconda3/envs/python35/bin/earthengine upload image --asset_id='users/rutgerhofste/hackathon_for_good/after/uav_georeferenced/RescUAV_12917_Philipsburg'  -p meta1=RescUAV -p meta2=12917 -p meta3=Philipsburg --nodata_value=255 gs://hackathon_for_good_rh_01/RC_Challenge_1/1/georeference_after_32620//RescUAV_12917_Philipsburg.tif\n",
      "/opt/anaconda3/envs/python35/bin/earthengine upload image --asset_id='users/rutgerhofste/hackathon_for_good/after/uav_georeferenced/RescUAV_14917_PhilipsburgNW_modified'  -p meta1=RescUAV -p meta2=14917 -p meta3=PhilipsburgNW -p meta4=modified --nodata_value=255 gs://hackathon_for_good_rh_01/RC_Challenge_1/1/georeference_after_32620//RescUAV_14917_PhilipsburgNW_modified.tif\n",
      "/opt/anaconda3/envs/python35/bin/earthengine upload image --asset_id='users/rutgerhofste/hackathon_for_good/after/uav_georeferenced/RescUAV_20917_PhilipsBurgE_modified'  -p meta1=RescUAV -p meta2=20917 -p meta3=PhilipsBurgE -p meta4=modified --nodata_value=255 gs://hackathon_for_good_rh_01/RC_Challenge_1/1/georeference_after_32620//RescUAV_20917_PhilipsBurgE_modified.tif\n",
      "/opt/anaconda3/envs/python35/bin/earthengine upload image --asset_id='users/rutgerhofste/hackathon_for_good/after/uav_georeferenced/RescUAV_21017_BillyFolly_modified'  -p meta1=RescUAV -p meta2=21017 -p meta3=BillyFolly -p meta4=modified --nodata_value=255 gs://hackathon_for_good_rh_01/RC_Challenge_1/1/georeference_after_32620//RescUAV_21017_BillyFolly_modified.tif\n",
      "/opt/anaconda3/envs/python35/bin/earthengine upload image --asset_id='users/rutgerhofste/hackathon_for_good/after/uav_georeferenced/RescUAV_24917_Ebenezer_modified'  -p meta1=RescUAV -p meta2=24917 -p meta3=Ebenezer -p meta4=modified --nodata_value=255 gs://hackathon_for_good_rh_01/RC_Challenge_1/1/georeference_after_32620//RescUAV_24917_Ebenezer_modified.tif\n"
     ]
    },
    {
     "name": "stdout",
     "output_type": "stream",
     "text": [
      "/opt/anaconda3/envs/python35/bin/earthengine upload image --asset_id='users/rutgerhofste/hackathon_for_good/after/uav_georeferenced/RescUAV_28917_CayHill_modified'  -p meta1=RescUAV -p meta2=28917 -p meta3=CayHill -p meta4=modified --nodata_value=255 gs://hackathon_for_good_rh_01/RC_Challenge_1/1/georeference_after_32620//RescUAV_28917_CayHill_modified.tif\n",
      "/opt/anaconda3/envs/python35/bin/earthengine upload image --asset_id='users/rutgerhofste/hackathon_for_good/after/uav_georeferenced/RescUAV_26917_StPeters_modified'  -p meta1=RescUAV -p meta2=26917 -p meta3=StPeters -p meta4=modified --nodata_value=255 gs://hackathon_for_good_rh_01/RC_Challenge_1/1/georeference_after_32620//RescUAV_26917_StPeters_modified.tif\n",
      "/opt/anaconda3/envs/python35/bin/earthengine upload image --asset_id='users/rutgerhofste/hackathon_for_good/after/uav_georeferenced/RescUAV_29917_ColeW_modified'  -p meta1=RescUAV -p meta2=29917 -p meta3=ColeW -p meta4=modified --nodata_value=255 gs://hackathon_for_good_rh_01/RC_Challenge_1/1/georeference_after_32620//RescUAV_29917_ColeW_modified.tif\n",
      "/opt/anaconda3/envs/python35/bin/earthengine upload image --asset_id='users/rutgerhofste/hackathon_for_good/after/uav_georeferenced/RescUAV_17917_Middle_modified'  -p meta1=RescUAV -p meta2=17917 -p meta3=Middle -p meta4=modified --nodata_value=255 gs://hackathon_for_good_rh_01/RC_Challenge_1/1/georeference_after_32620//RescUAV_17917_Middle_modified.tif\n",
      "/opt/anaconda3/envs/python35/bin/earthengine upload image --asset_id='users/rutgerhofste/hackathon_for_good/after/uav_georeferenced/RescUAV_21917_OverThePond_modified'  -p meta1=RescUAV -p meta2=21917 -p meta3=OverThePond -p meta4=modified --nodata_value=255 gs://hackathon_for_good_rh_01/RC_Challenge_1/1/georeference_after_32620//RescUAV_21917_OverThePond_modified.tif\n",
      "/opt/anaconda3/envs/python35/bin/earthengine upload image --asset_id='users/rutgerhofste/hackathon_for_good/after/uav_georeferenced/RescUAV_21917_Illidge_modified'  -p meta1=RescUAV -p meta2=21917 -p meta3=Illidge -p meta4=modified --nodata_value=255 gs://hackathon_for_good_rh_01/RC_Challenge_1/1/georeference_after_32620//RescUAV_21917_Illidge_modified.tif\n",
      "/opt/anaconda3/envs/python35/bin/earthengine upload image --asset_id='users/rutgerhofste/hackathon_for_good/after/uav_georeferenced/RescUAV_29917_CayBay_modified'  -p meta1=RescUAV -p meta2=29917 -p meta3=CayBay -p meta4=modified --nodata_value=255 gs://hackathon_for_good_rh_01/RC_Challenge_1/1/georeference_after_32620//RescUAV_29917_CayBay_modified.tif\n",
      "/opt/anaconda3/envs/python35/bin/earthengine upload image --asset_id='users/rutgerhofste/hackathon_for_good/after/uav_georeferenced/RescUAV_22917_DutchCul_modified'  -p meta1=RescUAV -p meta2=22917 -p meta3=DutchCul -p meta4=modified --nodata_value=255 gs://hackathon_for_good_rh_01/RC_Challenge_1/1/georeference_after_32620//RescUAV_22917_DutchCul_modified.tif\n",
      "/opt/anaconda3/envs/python35/bin/earthengine upload image --asset_id='users/rutgerhofste/hackathon_for_good/after/uav_georeferenced/RescUAV_21917_Pond_modified'  -p meta1=RescUAV -p meta2=21917 -p meta3=Pond -p meta4=modified --nodata_value=255 gs://hackathon_for_good_rh_01/RC_Challenge_1/1/georeference_after_32620//RescUAV_21917_Pond_modified.tif\n",
      "/opt/anaconda3/envs/python35/bin/earthengine upload image --asset_id='users/rutgerhofste/hackathon_for_good/after/uav_georeferenced/RescUAV_17917_Sonesta_modified'  -p meta1=RescUAV -p meta2=17917 -p meta3=Sonesta -p meta4=modified --nodata_value=255 gs://hackathon_for_good_rh_01/RC_Challenge_1/1/georeference_after_32620//RescUAV_17917_Sonesta_modified.tif\n",
      "/opt/anaconda3/envs/python35/bin/earthengine upload image --asset_id='users/rutgerhofste/hackathon_for_good/after/uav_georeferenced/RescUAV_23917_ColeHill_modified'  -p meta1=RescUAV -p meta2=23917 -p meta3=ColeHill -p meta4=modified --nodata_value=255 gs://hackathon_for_good_rh_01/RC_Challenge_1/1/georeference_after_32620//RescUAV_23917_ColeHill_modified.tif\n"
     ]
    }
   ],
   "source": [
    "for command in commands:\n",
    "    print(command)\n",
    "    subprocess.check_output(command,shell=True)"
   ]
  },
  {
   "cell_type": "code",
   "execution_count": null,
   "metadata": {
    "collapsed": true
   },
   "outputs": [],
   "source": [
    "commands2 = []\n",
    "for file2 in files2:    \n",
    "    source_path = \"{}/{}\".format(GCS_INPUT_PATH2,file2)\n",
    "    file_basename = file2[:-4] #remove extension\n",
    "    file_basename = file_basename.replace(\".\",\"\")\n",
    "    metas = file_basename.split(\"_\")\n",
    "    \n",
    "    extra_command = \"\"\n",
    "    i = 0\n",
    "    for meta in metas:\n",
    "        i += 1\n",
    "        extra_command += \" -p meta{}={}\".format(i,meta)\n",
    "    \n",
    "    \n",
    "    command2 = \"/opt/anaconda3/envs/python35/bin/earthengine upload image --asset_id='users/rutgerhofste/hackathon_for_good/histmat/{}' {} --nodata_value=255 {}\".format(file_basename,extra_command,source_path) \n",
    "    commands2.append(command2)\n",
    "    "
   ]
  },
  {
   "cell_type": "code",
   "execution_count": null,
   "metadata": {},
   "outputs": [],
   "source": [
    "command"
   ]
  },
  {
   "cell_type": "code",
   "execution_count": null,
   "metadata": {},
   "outputs": [],
   "source": [
    "for command2 in commands2:\n",
    "    print(command2)\n",
    "    subprocess.check_output(command2,shell=True)"
   ]
  },
  {
   "cell_type": "code",
   "execution_count": null,
   "metadata": {
    "collapsed": true
   },
   "outputs": [],
   "source": []
  }
 ],
 "metadata": {
  "kernelspec": {
   "display_name": "Python 35",
   "language": "python",
   "name": "python35"
  },
  "language_info": {
   "codemirror_mode": {
    "name": "ipython",
    "version": 3
   },
   "file_extension": ".py",
   "mimetype": "text/x-python",
   "name": "python",
   "nbconvert_exporter": "python",
   "pygments_lexer": "ipython3",
   "version": "3.5.4"
  }
 },
 "nbformat": 4,
 "nbformat_minor": 2
}
