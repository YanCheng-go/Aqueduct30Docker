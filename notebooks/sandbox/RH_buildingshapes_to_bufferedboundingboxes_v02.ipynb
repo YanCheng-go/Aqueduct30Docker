{
 "cells": [
  {
   "cell_type": "code",
   "execution_count": 1,
   "metadata": {
    "collapsed": true
   },
   "outputs": [],
   "source": [
    "# Creates \n",
    "import os\n",
    "import pandas as pd\n",
    "import geopandas as gpd\n",
    "from shapely.geometry import MultiPolygon, Polygon, box\n",
    "from matplotlib import pyplot as plt\n",
    "factor = 2 # in native crs (m?)"
   ]
  },
  {
   "cell_type": "code",
   "execution_count": 2,
   "metadata": {
    "collapsed": true
   },
   "outputs": [],
   "source": [
    "%matplotlib inline"
   ]
  },
  {
   "cell_type": "code",
   "execution_count": 3,
   "metadata": {
    "collapsed": true
   },
   "outputs": [],
   "source": [
    "input_path = \"./\"\n",
    "output_path = \"./\"\n"
   ]
  },
  {
   "cell_type": "code",
   "execution_count": 4,
   "metadata": {
    "collapsed": true
   },
   "outputs": [],
   "source": [
    "gdf = gpd.GeoDataFrame.from_file(os.path.join(input_path,\"TestSet_2.geojson\"))"
   ]
  },
  {
   "cell_type": "code",
   "execution_count": 5,
   "metadata": {},
   "outputs": [
    {
     "data": {
      "text/plain": [
       "(713, 5)"
      ]
     },
     "execution_count": 5,
     "metadata": {},
     "output_type": "execute_result"
    }
   ],
   "source": [
    "gdf.shape"
   ]
  },
  {
   "cell_type": "code",
   "execution_count": 6,
   "metadata": {
    "collapsed": true
   },
   "outputs": [],
   "source": [
    "gdf_valid = gdf[gdf.geometry.notna()]"
   ]
  },
  {
   "cell_type": "code",
   "execution_count": 7,
   "metadata": {},
   "outputs": [
    {
     "data": {
      "text/plain": [
       "(713, 5)"
      ]
     },
     "execution_count": 7,
     "metadata": {},
     "output_type": "execute_result"
    }
   ],
   "source": [
    "gdf_valid.shape"
   ]
  },
  {
   "cell_type": "code",
   "execution_count": 8,
   "metadata": {
    "collapsed": true
   },
   "outputs": [],
   "source": [
    "crs = gdf.crs"
   ]
  },
  {
   "cell_type": "code",
   "execution_count": 9,
   "metadata": {
    "collapsed": true
   },
   "outputs": [],
   "source": [
    "gdf_bounds = gdf_valid.geometry.bounds"
   ]
  },
  {
   "cell_type": "code",
   "execution_count": 10,
   "metadata": {
    "collapsed": true
   },
   "outputs": [],
   "source": [
    "gdf_total = pd.concat([gdf_valid,gdf_bounds],axis=1)"
   ]
  },
  {
   "cell_type": "code",
   "execution_count": 11,
   "metadata": {
    "collapsed": true
   },
   "outputs": [],
   "source": [
    "def create_bbox(minx,miny,maxx,maxy):\n",
    "    bbox = box(minx,miny,maxx,maxy)\n",
    "    return bbox"
   ]
  },
  {
   "cell_type": "code",
   "execution_count": 12,
   "metadata": {
    "collapsed": true
   },
   "outputs": [],
   "source": [
    "def create_bbox_polygon(minx,miny,maxx,maxy):\n",
    "    bbox = Polygon((0., 0.), (0., 1.), (1., 1.), (1., 0.), (0., 0.))\n",
    "    return bbox"
   ]
  },
  {
   "cell_type": "code",
   "execution_count": 13,
   "metadata": {
    "collapsed": true
   },
   "outputs": [],
   "source": [
    "gdf_total['bbox'] = gdf_total.apply(lambda row: Polygon([(row.minx,row.miny),\n",
    "                                                        (row.maxx,row.miny),\n",
    "                                                        (row.maxx,row.maxy),\n",
    "                                                        (row.minx,row.maxy)])\n",
    "                                                        ,axis=1)"
   ]
  },
  {
   "cell_type": "code",
   "execution_count": 14,
   "metadata": {
    "collapsed": true
   },
   "outputs": [],
   "source": [
    "gdf_total['bbox_big'] = gdf_total.apply(lambda row: Polygon([(row.minx-factor,row.miny-factor),\n",
    "                                                             (row.maxx+factor,row.miny-factor),\n",
    "                                                             (row.maxx+factor,row.maxy+factor),\n",
    "                                                             (row.minx-factor,row.maxy+factor)])\n",
    "                                                             ,axis=1)\n",
    "\n",
    "\n"
   ]
  },
  {
   "cell_type": "code",
   "execution_count": 15,
   "metadata": {
    "scrolled": true
   },
   "outputs": [
    {
     "data": {
      "text/html": [
       "<div>\n",
       "<style scoped>\n",
       "    .dataframe tbody tr th:only-of-type {\n",
       "        vertical-align: middle;\n",
       "    }\n",
       "\n",
       "    .dataframe tbody tr th {\n",
       "        vertical-align: top;\n",
       "    }\n",
       "\n",
       "    .dataframe thead th {\n",
       "        text-align: right;\n",
       "    }\n",
       "</style>\n",
       "<table border=\"1\" class=\"dataframe\">\n",
       "  <thead>\n",
       "    <tr style=\"text-align: right;\">\n",
       "      <th></th>\n",
       "      <th>OBJECTID</th>\n",
       "      <th>osm_way_id</th>\n",
       "      <th>name</th>\n",
       "      <th>building</th>\n",
       "      <th>geometry</th>\n",
       "      <th>minx</th>\n",
       "      <th>miny</th>\n",
       "      <th>maxx</th>\n",
       "      <th>maxy</th>\n",
       "      <th>bbox</th>\n",
       "      <th>bbox_big</th>\n",
       "    </tr>\n",
       "  </thead>\n",
       "  <tbody>\n",
       "    <tr>\n",
       "      <th>0</th>\n",
       "      <td>2</td>\n",
       "      <td>7553886</td>\n",
       "      <td>Auto Depot</td>\n",
       "      <td>yes</td>\n",
       "      <td>(POLYGON ((493380.11657405 1993913.488412196, ...</td>\n",
       "      <td>493367.265535</td>\n",
       "      <td>1.993913e+06</td>\n",
       "      <td>493398.4050</td>\n",
       "      <td>1.993956e+06</td>\n",
       "      <td>POLYGON ((493367.2655346254 1993913.462662586,...</td>\n",
       "      <td>POLYGON ((493365.2655346254 1993911.462662586,...</td>\n",
       "    </tr>\n",
       "    <tr>\n",
       "      <th>1</th>\n",
       "      <td>50</td>\n",
       "      <td>158063393</td>\n",
       "      <td>People's Supermarket</td>\n",
       "      <td>yes</td>\n",
       "      <td>(POLYGON ((493624.6173000096 1994097.58036259,...</td>\n",
       "      <td>493624.617300</td>\n",
       "      <td>1.994080e+06</td>\n",
       "      <td>493668.1729</td>\n",
       "      <td>1.994121e+06</td>\n",
       "      <td>POLYGON ((493624.6173000096 1994080.00686259, ...</td>\n",
       "      <td>POLYGON ((493622.6173000096 1994078.00686259, ...</td>\n",
       "    </tr>\n",
       "    <tr>\n",
       "      <th>2</th>\n",
       "      <td>102</td>\n",
       "      <td>167811710</td>\n",
       "      <td>Cost U Less</td>\n",
       "      <td>yes</td>\n",
       "      <td>(POLYGON ((493313.5339000103 1994115.197862591...</td>\n",
       "      <td>493308.690000</td>\n",
       "      <td>1.994050e+06</td>\n",
       "      <td>493378.9262</td>\n",
       "      <td>1.994125e+06</td>\n",
       "      <td>POLYGON ((493308.6900000102 1994049.569162589,...</td>\n",
       "      <td>POLYGON ((493306.6900000102 1994047.569162589,...</td>\n",
       "    </tr>\n",
       "    <tr>\n",
       "      <th>3</th>\n",
       "      <td>176</td>\n",
       "      <td>261368962</td>\n",
       "      <td></td>\n",
       "      <td>supermarket</td>\n",
       "      <td>(POLYGON ((493597.4932000107 1993880.177362585...</td>\n",
       "      <td>493578.463800</td>\n",
       "      <td>1.993842e+06</td>\n",
       "      <td>493612.4667</td>\n",
       "      <td>1.993880e+06</td>\n",
       "      <td>POLYGON ((493578.4638000104 1993841.643962583,...</td>\n",
       "      <td>POLYGON ((493576.4638000104 1993839.643962583,...</td>\n",
       "    </tr>\n",
       "    <tr>\n",
       "      <th>4</th>\n",
       "      <td>179</td>\n",
       "      <td>261368965</td>\n",
       "      <td></td>\n",
       "      <td>yes</td>\n",
       "      <td>(POLYGON ((493636.60380001 1994048.56446259, 4...</td>\n",
       "      <td>493636.603800</td>\n",
       "      <td>1.994021e+06</td>\n",
       "      <td>493667.0272</td>\n",
       "      <td>1.994057e+06</td>\n",
       "      <td>POLYGON ((493636.60380001 1994021.242762588, 4...</td>\n",
       "      <td>POLYGON ((493634.60380001 1994019.242762588, 4...</td>\n",
       "    </tr>\n",
       "  </tbody>\n",
       "</table>\n",
       "</div>"
      ],
      "text/plain": [
       "   OBJECTID osm_way_id                  name     building  \\\n",
       "0         2    7553886            Auto Depot          yes   \n",
       "1        50  158063393  People's Supermarket          yes   \n",
       "2       102  167811710           Cost U Less          yes   \n",
       "3       176  261368962                        supermarket   \n",
       "4       179  261368965                                yes   \n",
       "\n",
       "                                            geometry           minx  \\\n",
       "0  (POLYGON ((493380.11657405 1993913.488412196, ...  493367.265535   \n",
       "1  (POLYGON ((493624.6173000096 1994097.58036259,...  493624.617300   \n",
       "2  (POLYGON ((493313.5339000103 1994115.197862591...  493308.690000   \n",
       "3  (POLYGON ((493597.4932000107 1993880.177362585...  493578.463800   \n",
       "4  (POLYGON ((493636.60380001 1994048.56446259, 4...  493636.603800   \n",
       "\n",
       "           miny         maxx          maxy  \\\n",
       "0  1.993913e+06  493398.4050  1.993956e+06   \n",
       "1  1.994080e+06  493668.1729  1.994121e+06   \n",
       "2  1.994050e+06  493378.9262  1.994125e+06   \n",
       "3  1.993842e+06  493612.4667  1.993880e+06   \n",
       "4  1.994021e+06  493667.0272  1.994057e+06   \n",
       "\n",
       "                                                bbox  \\\n",
       "0  POLYGON ((493367.2655346254 1993913.462662586,...   \n",
       "1  POLYGON ((493624.6173000096 1994080.00686259, ...   \n",
       "2  POLYGON ((493308.6900000102 1994049.569162589,...   \n",
       "3  POLYGON ((493578.4638000104 1993841.643962583,...   \n",
       "4  POLYGON ((493636.60380001 1994021.242762588, 4...   \n",
       "\n",
       "                                            bbox_big  \n",
       "0  POLYGON ((493365.2655346254 1993911.462662586,...  \n",
       "1  POLYGON ((493622.6173000096 1994078.00686259, ...  \n",
       "2  POLYGON ((493306.6900000102 1994047.569162589,...  \n",
       "3  POLYGON ((493576.4638000104 1993839.643962583,...  \n",
       "4  POLYGON ((493634.60380001 1994019.242762588, 4...  "
      ]
     },
     "execution_count": 15,
     "metadata": {},
     "output_type": "execute_result"
    }
   ],
   "source": [
    "gdf_total.head()"
   ]
  },
  {
   "cell_type": "code",
   "execution_count": 18,
   "metadata": {
    "collapsed": true
   },
   "outputs": [],
   "source": [
    "destination_originalvalid = os.path.join(output_path,\"testdata2_originalvalid2.geojson\")"
   ]
  },
  {
   "cell_type": "code",
   "execution_count": 19,
   "metadata": {},
   "outputs": [
    {
     "data": {
      "text/plain": [
       "'./testdata2_originalvalid2.geojson'"
      ]
     },
     "execution_count": 19,
     "metadata": {},
     "output_type": "execute_result"
    }
   ],
   "source": [
    "destination_originalvalid"
   ]
  },
  {
   "cell_type": "code",
   "execution_count": 21,
   "metadata": {
    "collapsed": true
   },
   "outputs": [],
   "source": [
    "gdf_valid = gdf_valid.drop([\"building\"],axis=1)"
   ]
  },
  {
   "cell_type": "code",
   "execution_count": 25,
   "metadata": {},
   "outputs": [],
   "source": []
  },
  {
   "cell_type": "code",
   "execution_count": 26,
   "metadata": {},
   "outputs": [
    {
     "data": {
      "text/plain": [
       "<bound method Series.<lambda> of 0      (POLYGON ((493380.11657405 1993913.488412196, ...\n",
       "1      (POLYGON ((493624.6173000096 1994097.58036259,...\n",
       "2      (POLYGON ((493313.5339000103 1994115.197862591...\n",
       "3      (POLYGON ((493597.4932000107 1993880.177362585...\n",
       "4      (POLYGON ((493636.60380001 1994048.56446259, 4...\n",
       "5      (POLYGON ((493659.0938000102 1994011.449762588...\n",
       "6      (POLYGON ((493374.6657787184 1994716.06596744,...\n",
       "7      (POLYGON ((493181.1413000104 1994158.402862592...\n",
       "8      (POLYGON ((493171.2165000102 1994136.976062592...\n",
       "9      (POLYGON ((493261.8039000099 1994069.168662591...\n",
       "10     (POLYGON ((493261.8039000099 1994069.168662591...\n",
       "11     (POLYGON ((493402.2585000105 1993951.259762587...\n",
       "12     (POLYGON ((493383.6862000105 1994022.792562589...\n",
       "13     (POLYGON ((493394.3319000095 1994016.925262589...\n",
       "14     (POLYGON ((493357.1283000107 1993985.262562586...\n",
       "15     (POLYGON ((493352.7788000107 1993987.266562588...\n",
       "16     (POLYGON ((493348.4294000106 1993989.281662588...\n",
       "17     (POLYGON ((493365.5726000101 1994010.960562588...\n",
       "18     (POLYGON ((493248.8453000114 1994027.949962588...\n",
       "19     (POLYGON ((493454.0764000093 1993912.099162585...\n",
       "20     (POLYGON ((493470.00260001 1993902.944162585, ...\n",
       "21     (POLYGON ((493443.8344000104 1993922.856462586...\n",
       "22     (POLYGON ((493428.6800000095 1993929.389062587...\n",
       "23     (POLYGON ((493331.3829000107 1994002.973162587...\n",
       "24     (POLYGON ((493321.3204000099 1994011.993462588...\n",
       "25     (POLYGON ((493318.3891000106 1994013.510162588...\n",
       "26     (POLYGON ((493295.9323000105 1994021.837762588...\n",
       "27     (POLYGON ((493285.1466000105 1994020.613362588...\n",
       "28     (POLYGON ((493454.0049000105 1993951.596462586...\n",
       "29     (POLYGON ((493492.4801000105 1993924.156862586...\n",
       "                             ...                        \n",
       "683    (POLYGON ((493690.56490001 1994188.944862593, ...\n",
       "684    (POLYGON ((493679.7804000101 1994191.072562593...\n",
       "685    (POLYGON ((493533.1244000099 1994118.885762591...\n",
       "686    (POLYGON ((493554.2520000101 1994027.448762589...\n",
       "687    (POLYGON ((493599.3739000094 1993999.642062589...\n",
       "688    (POLYGON ((493501.4371000099 1993996.288862588...\n",
       "689    (POLYGON ((493517.8955000102 1993995.995762588...\n",
       "690    (POLYGON ((493519.7490000104 1993999.955962588...\n",
       "691    (POLYGON ((493531.9530000096 1994001.080362588...\n",
       "692    (POLYGON ((493538.3371000108 1993974.691462588...\n",
       "693    (POLYGON ((493531.24020001 1993990.072262588, ...\n",
       "694    (POLYGON ((493517.6148000102 1993979.488862589...\n",
       "695    (POLYGON ((493501.7076000106 1993982.038762586...\n",
       "696    (POLYGON ((493509.9363000109 1993964.688262588...\n",
       "697    (POLYGON ((493525.9811000109 1993961.850662588...\n",
       "698    (POLYGON ((493531.3668000102 1993956.770662587...\n",
       "699    (POLYGON ((493524.1283000096 1993960.158562588...\n",
       "700    (POLYGON ((493516.6147000095 1993963.834162588...\n",
       "701    (POLYGON ((493503.82550001 1993921.508862585, ...\n",
       "702    (POLYGON ((493507.3728000098 1993926.309262586...\n",
       "703    (POLYGON ((493508.0826000111 1993928.278362586...\n",
       "704    (POLYGON ((493511.6313000101 1993937.172362585...\n",
       "705    (POLYGON ((493517.4512000105 1993932.933062586...\n",
       "706    (POLYGON ((493512.6282000101 1993943.091062586...\n",
       "707    (POLYGON ((493505.1024000106 1993941.965062587...\n",
       "708    (POLYGON ((493496.727400011 1993933.227562585,...\n",
       "709    (POLYGON ((493494.4536000094 1993906.985362586...\n",
       "710    (POLYGON ((493614.3890000099 1993890.438962584...\n",
       "711    (POLYGON ((493705.8685000101 1993790.637362581...\n",
       "712    (POLYGON ((493243.3216855001 1993964.83954365,...\n",
       "Name: geometry, Length: 713, dtype: object>"
      ]
     },
     "execution_count": 26,
     "metadata": {},
     "output_type": "execute_result"
    }
   ],
   "source": []
  },
  {
   "cell_type": "code",
   "execution_count": 22,
   "metadata": {},
   "outputs": [
    {
     "ename": "ValueError",
     "evalue": "Null layer",
     "output_type": "error",
     "traceback": [
      "\u001b[0;31m---------------------------------------------------------------------------\u001b[0m",
      "\u001b[0;31mValueError\u001b[0m                                Traceback (most recent call last)",
      "\u001b[0;32m<ipython-input-22-b49a0717b324>\u001b[0m in \u001b[0;36m<module>\u001b[0;34m()\u001b[0m\n\u001b[0;32m----> 1\u001b[0;31m \u001b[0mgdf_valid\u001b[0m\u001b[0;34m.\u001b[0m\u001b[0mto_file\u001b[0m\u001b[0;34m(\u001b[0m\u001b[0mdestination_originalvalid\u001b[0m\u001b[0;34m,\u001b[0m\u001b[0mdriver\u001b[0m\u001b[0;34m=\u001b[0m\u001b[0;34m\"GeoJSON\"\u001b[0m\u001b[0;34m)\u001b[0m\u001b[0;34m\u001b[0m\u001b[0m\n\u001b[0m",
      "\u001b[0;32m/opt/anaconda3/envs/python35/lib/python3.5/site-packages/geopandas/geodataframe.py\u001b[0m in \u001b[0;36mto_file\u001b[0;34m(self, filename, driver, schema, **kwargs)\u001b[0m\n\u001b[1;32m    363\u001b[0m         \"\"\"\n\u001b[1;32m    364\u001b[0m         \u001b[0;32mfrom\u001b[0m \u001b[0mgeopandas\u001b[0m\u001b[0;34m.\u001b[0m\u001b[0mio\u001b[0m\u001b[0;34m.\u001b[0m\u001b[0mfile\u001b[0m \u001b[0;32mimport\u001b[0m \u001b[0mto_file\u001b[0m\u001b[0;34m\u001b[0m\u001b[0m\n\u001b[0;32m--> 365\u001b[0;31m         \u001b[0mto_file\u001b[0m\u001b[0;34m(\u001b[0m\u001b[0mself\u001b[0m\u001b[0;34m,\u001b[0m \u001b[0mfilename\u001b[0m\u001b[0;34m,\u001b[0m \u001b[0mdriver\u001b[0m\u001b[0;34m,\u001b[0m \u001b[0mschema\u001b[0m\u001b[0;34m,\u001b[0m \u001b[0;34m**\u001b[0m\u001b[0mkwargs\u001b[0m\u001b[0;34m)\u001b[0m\u001b[0;34m\u001b[0m\u001b[0m\n\u001b[0m\u001b[1;32m    366\u001b[0m \u001b[0;34m\u001b[0m\u001b[0m\n\u001b[1;32m    367\u001b[0m     \u001b[0;32mdef\u001b[0m \u001b[0mto_crs\u001b[0m\u001b[0;34m(\u001b[0m\u001b[0mself\u001b[0m\u001b[0;34m,\u001b[0m \u001b[0mcrs\u001b[0m\u001b[0;34m=\u001b[0m\u001b[0;32mNone\u001b[0m\u001b[0;34m,\u001b[0m \u001b[0mepsg\u001b[0m\u001b[0;34m=\u001b[0m\u001b[0;32mNone\u001b[0m\u001b[0;34m,\u001b[0m \u001b[0minplace\u001b[0m\u001b[0;34m=\u001b[0m\u001b[0;32mFalse\u001b[0m\u001b[0;34m)\u001b[0m\u001b[0;34m:\u001b[0m\u001b[0;34m\u001b[0m\u001b[0m\n",
      "\u001b[0;32m/opt/anaconda3/envs/python35/lib/python3.5/site-packages/geopandas/io/file.py\u001b[0m in \u001b[0;36mto_file\u001b[0;34m(df, filename, driver, schema, **kwargs)\u001b[0m\n\u001b[1;32m     62\u001b[0m     \u001b[0;32mwith\u001b[0m \u001b[0mfiona\u001b[0m\u001b[0;34m.\u001b[0m\u001b[0mdrivers\u001b[0m\u001b[0;34m(\u001b[0m\u001b[0;34m)\u001b[0m\u001b[0;34m:\u001b[0m\u001b[0;34m\u001b[0m\u001b[0m\n\u001b[1;32m     63\u001b[0m         with fiona.open(filename, 'w', driver=driver, crs=df.crs,\n\u001b[0;32m---> 64\u001b[0;31m                         schema=schema, **kwargs) as colxn:\n\u001b[0m\u001b[1;32m     65\u001b[0m             \u001b[0;32mfor\u001b[0m \u001b[0mfeature\u001b[0m \u001b[0;32min\u001b[0m \u001b[0mdf\u001b[0m\u001b[0;34m.\u001b[0m\u001b[0miterfeatures\u001b[0m\u001b[0;34m(\u001b[0m\u001b[0;34m)\u001b[0m\u001b[0;34m:\u001b[0m\u001b[0;34m\u001b[0m\u001b[0m\n\u001b[1;32m     66\u001b[0m                 \u001b[0mcolxn\u001b[0m\u001b[0;34m.\u001b[0m\u001b[0mwrite\u001b[0m\u001b[0;34m(\u001b[0m\u001b[0mfeature\u001b[0m\u001b[0;34m)\u001b[0m\u001b[0;34m\u001b[0m\u001b[0m\n",
      "\u001b[0;32m/opt/anaconda3/envs/python35/lib/python3.5/site-packages/fiona/__init__.py\u001b[0m in \u001b[0;36mopen\u001b[0;34m(path, mode, driver, schema, crs, encoding, layer, vfs, enabled_drivers, crs_wkt)\u001b[0m\n\u001b[1;32m    176\u001b[0m         c = Collection(path, mode, crs=crs, driver=driver, schema=this_schema,\n\u001b[1;32m    177\u001b[0m                        \u001b[0mencoding\u001b[0m\u001b[0;34m=\u001b[0m\u001b[0mencoding\u001b[0m\u001b[0;34m,\u001b[0m \u001b[0mlayer\u001b[0m\u001b[0;34m=\u001b[0m\u001b[0mlayer\u001b[0m\u001b[0;34m,\u001b[0m \u001b[0mvsi\u001b[0m\u001b[0;34m=\u001b[0m\u001b[0mvsi\u001b[0m\u001b[0;34m,\u001b[0m \u001b[0marchive\u001b[0m\u001b[0;34m=\u001b[0m\u001b[0marchive\u001b[0m\u001b[0;34m,\u001b[0m\u001b[0;34m\u001b[0m\u001b[0m\n\u001b[0;32m--> 178\u001b[0;31m                        enabled_drivers=enabled_drivers, crs_wkt=crs_wkt)\n\u001b[0m\u001b[1;32m    179\u001b[0m     \u001b[0;32melse\u001b[0m\u001b[0;34m:\u001b[0m\u001b[0;34m\u001b[0m\u001b[0m\n\u001b[1;32m    180\u001b[0m         raise ValueError(\n",
      "\u001b[0;32m/opt/anaconda3/envs/python35/lib/python3.5/site-packages/fiona/collection.py\u001b[0m in \u001b[0;36m__init__\u001b[0;34m(self, path, mode, driver, schema, crs, encoding, layer, vsi, archive, enabled_drivers, crs_wkt, **kwargs)\u001b[0m\n\u001b[1;32m    153\u001b[0m             \u001b[0mself\u001b[0m\u001b[0;34m.\u001b[0m\u001b[0mencoding\u001b[0m \u001b[0;34m=\u001b[0m \u001b[0mencoding\u001b[0m\u001b[0;34m\u001b[0m\u001b[0m\n\u001b[1;32m    154\u001b[0m             \u001b[0mself\u001b[0m\u001b[0;34m.\u001b[0m\u001b[0msession\u001b[0m \u001b[0;34m=\u001b[0m \u001b[0mWritingSession\u001b[0m\u001b[0;34m(\u001b[0m\u001b[0;34m)\u001b[0m\u001b[0;34m\u001b[0m\u001b[0m\n\u001b[0;32m--> 155\u001b[0;31m             \u001b[0mself\u001b[0m\u001b[0;34m.\u001b[0m\u001b[0msession\u001b[0m\u001b[0;34m.\u001b[0m\u001b[0mstart\u001b[0m\u001b[0;34m(\u001b[0m\u001b[0mself\u001b[0m\u001b[0;34m,\u001b[0m \u001b[0;34m**\u001b[0m\u001b[0mkwargs\u001b[0m\u001b[0;34m)\u001b[0m\u001b[0;34m\u001b[0m\u001b[0m\n\u001b[0m\u001b[1;32m    156\u001b[0m             \u001b[0mself\u001b[0m\u001b[0;34m.\u001b[0m\u001b[0mencoding\u001b[0m \u001b[0;34m=\u001b[0m \u001b[0mencoding\u001b[0m \u001b[0;32mor\u001b[0m \u001b[0mself\u001b[0m\u001b[0;34m.\u001b[0m\u001b[0msession\u001b[0m\u001b[0;34m.\u001b[0m\u001b[0mget_fileencoding\u001b[0m\u001b[0;34m(\u001b[0m\u001b[0;34m)\u001b[0m\u001b[0;34m.\u001b[0m\u001b[0mlower\u001b[0m\u001b[0;34m(\u001b[0m\u001b[0;34m)\u001b[0m\u001b[0;34m\u001b[0m\u001b[0m\n\u001b[1;32m    157\u001b[0m \u001b[0;34m\u001b[0m\u001b[0m\n",
      "\u001b[0;32mfiona/ogrext.pyx\u001b[0m in \u001b[0;36mfiona.ogrext.WritingSession.start (fiona/ogrext.c:15539)\u001b[0;34m()\u001b[0m\n",
      "\u001b[0;31mValueError\u001b[0m: Null layer"
     ]
    }
   ],
   "source": [
    "gdf_valid.to_file(destination_originalvalid,driver=\"GeoJSON\")"
   ]
  },
  {
   "cell_type": "code",
   "execution_count": null,
   "metadata": {},
   "outputs": [],
   "source": [
    "gdf_bbox = gdf_total.drop(columns=[\"minx\",\"miny\",\"maxx\",\"maxy\",\"geometry\",\"bbox_big\"])"
   ]
  },
  {
   "cell_type": "code",
   "execution_count": null,
   "metadata": {
    "collapsed": true
   },
   "outputs": [],
   "source": [
    "gdf_bbox = gdf_bbox.set_geometry(col=\"bbox\")"
   ]
  },
  {
   "cell_type": "code",
   "execution_count": null,
   "metadata": {},
   "outputs": [],
   "source": [
    "gdf_bbox.head()"
   ]
  },
  {
   "cell_type": "code",
   "execution_count": null,
   "metadata": {
    "collapsed": true
   },
   "outputs": [],
   "source": [
    "destination_bbox = os.path.join(output_path,\"testdata1_bbox.geojson\")"
   ]
  },
  {
   "cell_type": "code",
   "execution_count": null,
   "metadata": {},
   "outputs": [],
   "source": [
    "gdf_bbox.to_file(destination_bbox,driver=\"GeoJSON\")"
   ]
  },
  {
   "cell_type": "code",
   "execution_count": null,
   "metadata": {
    "collapsed": true
   },
   "outputs": [],
   "source": [
    "gdf_bboxbig = gdf_total.drop(columns=[\"minx\",\"miny\",\"maxx\",\"maxy\",\"geometry\",\"bbox\"])"
   ]
  },
  {
   "cell_type": "code",
   "execution_count": null,
   "metadata": {
    "collapsed": true
   },
   "outputs": [],
   "source": [
    "gdf_bboxbig = gdf_bboxbig.set_geometry(col=\"bbox_big\")"
   ]
  },
  {
   "cell_type": "code",
   "execution_count": null,
   "metadata": {
    "collapsed": true
   },
   "outputs": [],
   "source": [
    "destination_bboxbig = os.path.join(output_path,\"testdata1_bboxbig.geojson\")"
   ]
  },
  {
   "cell_type": "code",
   "execution_count": null,
   "metadata": {
    "collapsed": true
   },
   "outputs": [],
   "source": [
    "gdf_bboxbig.to_file(destination_bboxbig,driver=\"GeoJSON\")"
   ]
  },
  {
   "cell_type": "code",
   "execution_count": null,
   "metadata": {
    "collapsed": true
   },
   "outputs": [],
   "source": []
  }
 ],
 "metadata": {
  "kernelspec": {
   "display_name": "Python 35",
   "language": "python",
   "name": "python35"
  },
  "language_info": {
   "codemirror_mode": {
    "name": "ipython",
    "version": 3
   },
   "file_extension": ".py",
   "mimetype": "text/x-python",
   "name": "python",
   "nbconvert_exporter": "python",
   "pygments_lexer": "ipython3",
   "version": "3.5.4"
  }
 },
 "nbformat": 4,
 "nbformat_minor": 2
}
