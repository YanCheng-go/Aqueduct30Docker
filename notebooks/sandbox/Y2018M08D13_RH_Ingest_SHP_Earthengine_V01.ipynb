{
 "cells": [
  {
   "cell_type": "code",
   "execution_count": 1,
   "metadata": {},
   "outputs": [
    {
     "name": "stdout",
     "output_type": "stream",
     "text": [
      "Input gcs: gs://aqueduct30_v01/Y2018M08D13_RH_Process_Basisregistratie_Gewaspercelen_V01/output_V08/\n",
      "Output ee: users/rutgerhofste/Y2018M08D13_RH_Ingest_SHP_Earthengine_V01/output_V03/\n"
     ]
    }
   ],
   "source": [
    "\"\"\"\n",
    "Ingest shepfile to earthengine\n",
    "\n",
    "\n",
    "\"\"\"\n",
    "\n",
    "SCRIPT_NAME = 'Y2018M08D13_RH_Ingest_SHP_Earthengine_V01'\n",
    "OUTPUT_VERSION = 3\n",
    "OVERWRITE_OUTPUT = 0\n",
    "\n",
    "GCS_INPUT_PATH = \"gs://aqueduct30_v01/Y2018M08D13_RH_Process_Basisregistratie_Gewaspercelen_V01/output_V08/\"\n",
    "EC2_INPUT_PATH = \"/volumes/data/Y2018M08D13_RH_Process_Basisregistratie_Gewaspercelen_V01/output_V08\"\n",
    "\n",
    "ee_base = \"users/rutgerhofste/{}/\".format(SCRIPT_NAME)\n",
    "ee_output_path = \"{}output_V{:02.0f}/\".format(ee_base,OUTPUT_VERSION)\n",
    "\n",
    "print(\"Input gcs: \" + GCS_INPUT_PATH +\n",
    "      \"\\nOutput ee: \"+ ee_output_path)\n"
   ]
  },
  {
   "cell_type": "code",
   "execution_count": 2,
   "metadata": {},
   "outputs": [
    {
     "name": "stdout",
     "output_type": "stream",
     "text": [
      "Y2018M08D14 UTC 19:33\n"
     ]
    },
    {
     "data": {
      "text/plain": [
       "'3.5.4 |Anaconda, Inc.| (default, Nov 20 2017, 18:44:38) \\n[GCC 7.2.0]'"
      ]
     },
     "execution_count": 2,
     "metadata": {},
     "output_type": "execute_result"
    }
   ],
   "source": [
    "import time, datetime, sys\n",
    "dateString = time.strftime(\"Y%YM%mD%d\")\n",
    "timeString = time.strftime(\"UTC %H:%M\")\n",
    "start = datetime.datetime.now()\n",
    "print(dateString,timeString)\n",
    "sys.version"
   ]
  },
  {
   "cell_type": "code",
   "execution_count": 3,
   "metadata": {
    "collapsed": true
   },
   "outputs": [],
   "source": [
    "import subprocess\n",
    "import aqueduct3\n",
    "import os"
   ]
  },
  {
   "cell_type": "code",
   "execution_count": 4,
   "metadata": {
    "collapsed": true
   },
   "outputs": [],
   "source": [
    "command = \"earthengine create folder users/rutgerhofste/Y2018M08D13_RH_Ingest_SHP_Earthengine_V01\"\n",
    "response = subprocess.check_output(command,shell=True)\n",
    "command = \"earthengine create folder users/rutgerhofste/Y2018M08D13_RH_Ingest_SHP_Earthengine_V01/output_V{:02.0f}\".format(OUTPUT_VERSION)\n",
    "response = subprocess.check_output(command,shell=True)"
   ]
  },
  {
   "cell_type": "code",
   "execution_count": 5,
   "metadata": {
    "collapsed": true
   },
   "outputs": [],
   "source": [
    "files = os.listdir(EC2_INPUT_PATH)"
   ]
  },
  {
   "cell_type": "code",
   "execution_count": 6,
   "metadata": {},
   "outputs": [
    {
     "name": "stdout",
     "output_type": "stream",
     "text": [
      "earthengine upload table  --asset_id=users/rutgerhofste/Y2018M08D13_RH_Ingest_SHP_Earthengine_V01/output_V03/BRP_Gewaspercelen_2014 gs://aqueduct30_v01/Y2018M08D13_RH_Process_Basisregistratie_Gewaspercelen_V01/output_V08/BRP_Gewaspercelen_2014.shp -p year=2014\n",
      "earthengine upload table  --asset_id=users/rutgerhofste/Y2018M08D13_RH_Ingest_SHP_Earthengine_V01/output_V03/BRP_Gewaspercelen_2017 gs://aqueduct30_v01/Y2018M08D13_RH_Process_Basisregistratie_Gewaspercelen_V01/output_V08/BRP_Gewaspercelen_2017.shp -p year=2017\n",
      "earthengine upload table  --asset_id=users/rutgerhofste/Y2018M08D13_RH_Ingest_SHP_Earthengine_V01/output_V03/BRP_Gewaspercelen_2012 gs://aqueduct30_v01/Y2018M08D13_RH_Process_Basisregistratie_Gewaspercelen_V01/output_V08/BRP_Gewaspercelen_2012.shp -p year=2012\n",
      "earthengine upload table  --asset_id=users/rutgerhofste/Y2018M08D13_RH_Ingest_SHP_Earthengine_V01/output_V03/BRP_Gewaspercelen_2016 gs://aqueduct30_v01/Y2018M08D13_RH_Process_Basisregistratie_Gewaspercelen_V01/output_V08/BRP_Gewaspercelen_2016.shp -p year=2016\n",
      "earthengine upload table  --asset_id=users/rutgerhofste/Y2018M08D13_RH_Ingest_SHP_Earthengine_V01/output_V03/BRP_Gewaspercelen_2010 gs://aqueduct30_v01/Y2018M08D13_RH_Process_Basisregistratie_Gewaspercelen_V01/output_V08/BRP_Gewaspercelen_2010.shp -p year=2010\n",
      "earthengine upload table  --asset_id=users/rutgerhofste/Y2018M08D13_RH_Ingest_SHP_Earthengine_V01/output_V03/BRP_Gewaspercelen_2018_concept gs://aqueduct30_v01/Y2018M08D13_RH_Process_Basisregistratie_Gewaspercelen_V01/output_V08/BRP_Gewaspercelen_2018_concept.shp -p year=2018\n",
      "earthengine upload table  --asset_id=users/rutgerhofste/Y2018M08D13_RH_Ingest_SHP_Earthengine_V01/output_V03/BRP_Gewaspercelen_2015 gs://aqueduct30_v01/Y2018M08D13_RH_Process_Basisregistratie_Gewaspercelen_V01/output_V08/BRP_Gewaspercelen_2015.shp -p year=2015\n",
      "earthengine upload table  --asset_id=users/rutgerhofste/Y2018M08D13_RH_Ingest_SHP_Earthengine_V01/output_V03/BRP_Gewaspercelen_2013 gs://aqueduct30_v01/Y2018M08D13_RH_Process_Basisregistratie_Gewaspercelen_V01/output_V08/BRP_Gewaspercelen_2013.shp -p year=2013\n",
      "earthengine upload table  --asset_id=users/rutgerhofste/Y2018M08D13_RH_Ingest_SHP_Earthengine_V01/output_V03/BRP_Gewaspercelen_2011 gs://aqueduct30_v01/Y2018M08D13_RH_Process_Basisregistratie_Gewaspercelen_V01/output_V08/BRP_Gewaspercelen_2011.shp -p year=2011\n",
      "earthengine upload table  --asset_id=users/rutgerhofste/Y2018M08D13_RH_Ingest_SHP_Earthengine_V01/output_V03/BRP_Gewaspercelen_2009 gs://aqueduct30_v01/Y2018M08D13_RH_Process_Basisregistratie_Gewaspercelen_V01/output_V08/BRP_Gewaspercelen_2009.shp -p year=2009\n"
     ]
    }
   ],
   "source": [
    "for one_file in files:\n",
    "    if one_file.endswith(\".shp\"):\n",
    "        filename, extension = one_file.split(\".\")\n",
    "        listje = filename.split(\"_\")\n",
    "        year = listje[2]\n",
    "        year = int(year)\n",
    "        input_path = \"{}{}\".format(GCS_INPUT_PATH,one_file)\n",
    "        asset_id = \"{}{}\".format(ee_output_path,filename)\n",
    "        command = \"earthengine upload table  --asset_id={} {} -p year={:04.0f}\".format(asset_id, input_path,year)\n",
    "        print(command)\n",
    "        response = subprocess.check_output(command,shell=True)"
   ]
  },
  {
   "cell_type": "code",
   "execution_count": 7,
   "metadata": {},
   "outputs": [
    {
     "name": "stdout",
     "output_type": "stream",
     "text": [
      "0:00:35.747423\n"
     ]
    }
   ],
   "source": [
    "end = datetime.datetime.now()\n",
    "elapsed = end - start\n",
    "print(elapsed)"
   ]
  }
 ],
 "metadata": {
  "kernelspec": {
   "display_name": "Python 35",
   "language": "python",
   "name": "python35"
  },
  "language_info": {
   "codemirror_mode": {
    "name": "ipython",
    "version": 3
   },
   "file_extension": ".py",
   "mimetype": "text/x-python",
   "name": "python",
   "nbconvert_exporter": "python",
   "pygments_lexer": "ipython3",
   "version": "3.5.4"
  }
 },
 "nbformat": 4,
 "nbformat_minor": 2
}
