{
 "cells": [
  {
   "cell_type": "code",
   "execution_count": 1,
   "metadata": {},
   "outputs": [
    {
     "name": "stdout",
     "output_type": "stream",
     "text": [
      "Input Table:  y2018m07d12_rh_ws_categorization_label_postgis_v01_v04 \n",
      "Output Table:  aqueduct30v01 . y2018m07d16_rh_rds_to_bq_v01_v05\n"
     ]
    }
   ],
   "source": [
    "\"\"\" Upload RDS table to BQ\n",
    "-------------------------------------------------------------------------------\n",
    "\n",
    "WARNING!!! DELETES DATASET!!!\n",
    "\n",
    "Author: Rutger Hofste\n",
    "Date: 20180712\n",
    "Kernel: python35\n",
    "Docker: rutgerhofste/gisdocker:ubuntu16.04\n",
    "\"\"\"\n",
    "\n",
    "# imports\n",
    "import re\n",
    "import os\n",
    "import numpy as np\n",
    "import pandas as pd\n",
    "from retrying import retry\n",
    "from datetime import timedelta\n",
    "from sqlalchemy import *\n",
    "pd.set_option('display.max_columns', 500)\n",
    "from google.cloud import bigquery\n",
    "import multiprocessing\n",
    "\n",
    "SCRIPT_NAME = 'Y2018M07D16_RH_RDS_To_BQ_V01'\n",
    "OUTPUT_VERSION = 5\n",
    "\n",
    "TESTING = 0\n",
    "\n",
    "DATABASE_ENDPOINT = \"aqueduct30v05.cgpnumwmfcqc.eu-central-1.rds.amazonaws.com\"\n",
    "DATABASE_NAME = \"database01\"\n",
    "\n",
    "INPUT_TABLE_NAME = \"y2018m07d12_rh_ws_categorization_label_postgis_v01_v04\"\n",
    "\n",
    "OUTPUT_DATASET_NAME = \"aqueduct30v01\"\n",
    "OUTPUT_TABLE_NAME = SCRIPT_NAME.lower() + \"_v{:02.0f}\".format(OUTPUT_VERSION)\n",
    "\n",
    "print(\"Input Table: \" , INPUT_TABLE_NAME, \n",
    "      \"\\nOutput Table: \" , OUTPUT_DATASET_NAME,\".\",OUTPUT_TABLE_NAME)"
   ]
  },
  {
   "cell_type": "code",
   "execution_count": 2,
   "metadata": {},
   "outputs": [
    {
     "name": "stdout",
     "output_type": "stream",
     "text": [
      "Y2018M07D16 UTC 19:35\n"
     ]
    },
    {
     "data": {
      "text/plain": [
       "'3.5.4 |Anaconda, Inc.| (default, Nov 20 2017, 18:44:38) \\n[GCC 7.2.0]'"
      ]
     },
     "execution_count": 2,
     "metadata": {},
     "output_type": "execute_result"
    }
   ],
   "source": [
    "import time, datetime, sys\n",
    "dateString = time.strftime(\"Y%YM%mD%d\")\n",
    "timeString = time.strftime(\"UTC %H:%M\")\n",
    "start = datetime.datetime.now()\n",
    "print(dateString,timeString)\n",
    "sys.version"
   ]
  },
  {
   "cell_type": "code",
   "execution_count": 3,
   "metadata": {
    "collapsed": true
   },
   "outputs": [],
   "source": [
    "F = open(\"/.password\",\"r\")\n",
    "password = F.read().splitlines()[0]\n",
    "F.close()\n",
    "\n",
    "engine = create_engine(\"postgresql://rutgerhofste:{}@{}:5432/{}\".format(password,DATABASE_ENDPOINT,DATABASE_NAME))\n"
   ]
  },
  {
   "cell_type": "code",
   "execution_count": 4,
   "metadata": {},
   "outputs": [
    {
     "name": "stdout",
     "output_type": "stream",
     "text": [
      "Power to the maxxx: 16\n"
     ]
    }
   ],
   "source": [
    "cpu_count = multiprocessing.cpu_count()\n",
    "print(\"Power to the maxxx:\", cpu_count)"
   ]
  },
  {
   "cell_type": "code",
   "execution_count": 5,
   "metadata": {
    "collapsed": true
   },
   "outputs": [],
   "source": [
    "os.environ[\"GOOGLE_APPLICATION_CREDENTIALS\"] = \"/.google.json\""
   ]
  },
  {
   "cell_type": "code",
   "execution_count": 6,
   "metadata": {
    "collapsed": true
   },
   "outputs": [],
   "source": [
    "bigquery_client = bigquery.Client()"
   ]
  },
  {
   "cell_type": "code",
   "execution_count": 7,
   "metadata": {
    "collapsed": true
   },
   "outputs": [],
   "source": [
    "dataset_id = 'my_new_dataset'\n",
    "dataset_ref = bigquery_client.dataset(dataset_id)\n",
    "bigquery_client.delete_dataset(dataset_ref)\n",
    "dataset = bigquery.Dataset(dataset_ref)\n",
    "dataset = bigquery_client.create_dataset(dataset)"
   ]
  },
  {
   "cell_type": "code",
   "execution_count": 8,
   "metadata": {
    "collapsed": true
   },
   "outputs": [],
   "source": [
    "sql = \"SELECT DISTINCT pfafid_30spfaf06 FROM {} ORDER BY pfafid_30spfaf06\".format(INPUT_TABLE_NAME)"
   ]
  },
  {
   "cell_type": "code",
   "execution_count": 9,
   "metadata": {
    "collapsed": true
   },
   "outputs": [],
   "source": [
    "df = pd.read_sql(sql,engine)"
   ]
  },
  {
   "cell_type": "code",
   "execution_count": 10,
   "metadata": {},
   "outputs": [
    {
     "data": {
      "text/html": [
       "<div>\n",
       "<style scoped>\n",
       "    .dataframe tbody tr th:only-of-type {\n",
       "        vertical-align: middle;\n",
       "    }\n",
       "\n",
       "    .dataframe tbody tr th {\n",
       "        vertical-align: top;\n",
       "    }\n",
       "\n",
       "    .dataframe thead th {\n",
       "        text-align: right;\n",
       "    }\n",
       "</style>\n",
       "<table border=\"1\" class=\"dataframe\">\n",
       "  <thead>\n",
       "    <tr style=\"text-align: right;\">\n",
       "      <th></th>\n",
       "      <th>pfafid_30spfaf06</th>\n",
       "    </tr>\n",
       "  </thead>\n",
       "  <tbody>\n",
       "    <tr>\n",
       "      <th>0</th>\n",
       "      <td>111011</td>\n",
       "    </tr>\n",
       "    <tr>\n",
       "      <th>1</th>\n",
       "      <td>111012</td>\n",
       "    </tr>\n",
       "    <tr>\n",
       "      <th>2</th>\n",
       "      <td>111013</td>\n",
       "    </tr>\n",
       "    <tr>\n",
       "      <th>3</th>\n",
       "      <td>111014</td>\n",
       "    </tr>\n",
       "    <tr>\n",
       "      <th>4</th>\n",
       "      <td>111015</td>\n",
       "    </tr>\n",
       "  </tbody>\n",
       "</table>\n",
       "</div>"
      ],
      "text/plain": [
       "   pfafid_30spfaf06\n",
       "0            111011\n",
       "1            111012\n",
       "2            111013\n",
       "3            111014\n",
       "4            111015"
      ]
     },
     "execution_count": 10,
     "metadata": {},
     "output_type": "execute_result"
    }
   ],
   "source": [
    "df.head()"
   ]
  },
  {
   "cell_type": "code",
   "execution_count": 11,
   "metadata": {},
   "outputs": [
    {
     "data": {
      "text/plain": [
       "(16385, 1)"
      ]
     },
     "execution_count": 11,
     "metadata": {},
     "output_type": "execute_result"
    }
   ],
   "source": [
    "df.shape"
   ]
  },
  {
   "cell_type": "code",
   "execution_count": 12,
   "metadata": {
    "collapsed": true
   },
   "outputs": [],
   "source": [
    "if TESTING:\n",
    "    df = df[0:10]"
   ]
  },
  {
   "cell_type": "code",
   "execution_count": 13,
   "metadata": {
    "collapsed": true
   },
   "outputs": [],
   "source": [
    "df_split = np.array_split(df, cpu_count*100)"
   ]
  },
  {
   "cell_type": "code",
   "execution_count": 14,
   "metadata": {},
   "outputs": [
    {
     "data": {
      "text/plain": [
       "1600"
      ]
     },
     "execution_count": 14,
     "metadata": {},
     "output_type": "execute_result"
    }
   ],
   "source": [
    "len(df_split)"
   ]
  },
  {
   "cell_type": "code",
   "execution_count": 15,
   "metadata": {
    "collapsed": true
   },
   "outputs": [],
   "source": [
    "# pfaf_ids are been split in 1600 \"packages\" with appr. 11 rows each\". "
   ]
  },
  {
   "cell_type": "code",
   "execution_count": 16,
   "metadata": {
    "collapsed": true
   },
   "outputs": [],
   "source": [
    "df_split_first = df_split[0]\n",
    "df_split_remainder = df_split[1:]"
   ]
  },
  {
   "cell_type": "code",
   "execution_count": 17,
   "metadata": {
    "collapsed": true
   },
   "outputs": [],
   "source": [
    "@retry(wait_exponential_multiplier=1000, wait_exponential_max=10000)\n",
    "def df_to_bg(df):\n",
    "    for index, row in df.iterrows():\n",
    "        pfafid = row[\"pfafid_30spfaf06\"]\n",
    "        sql = \"SELECT * FROM {} WHERE pfafid_30spfaf06 = {}\".format(INPUT_TABLE_NAME,pfafid)\n",
    "        df_basin = pd.read_sql(sql,engine)\n",
    "        # add timestamp\n",
    "        now = datetime.datetime.now()\n",
    "        df_basin[\"processed_timestamp\"] = pd.Timestamp(now)        \n",
    "        df_basin.to_gbq(destination_table=\"{}.{}\".format(OUTPUT_DATASET_NAME,OUTPUT_TABLE_NAME),\n",
    "                        project_id = \"aqueduct30\",\n",
    "                        if_exists= \"append\" )\n",
    "        time.sleep(0.5)\n",
    "        print(index)"
   ]
  },
  {
   "cell_type": "code",
   "execution_count": 18,
   "metadata": {},
   "outputs": [
    {
     "name": "stdout",
     "output_type": "stream",
     "text": [
      "0\n",
      "1\n",
      "2\n",
      "3\n",
      "4\n",
      "5\n",
      "6\n",
      "7\n",
      "8\n",
      "9\n",
      "10\n"
     ]
    }
   ],
   "source": [
    "# Upload first shard separately to initiate table schema\n",
    "df_to_bg(df_split_first)"
   ]
  },
  {
   "cell_type": "code",
   "execution_count": null,
   "metadata": {},
   "outputs": [
    {
     "name": "stdout",
     "output_type": "stream",
     "text": [
      "2761\n",
      "3861\n",
      "1936\n",
      "4136\n",
      "1386\n",
      "1111\n",
      "3586\n",
      "836\n",
      "286\n",
      "3036\n",
      "2486\n",
      "3311\n",
      "2211\n",
      "1661\n",
      "11\n",
      "561\n",
      "2762\n",
      "12\n",
      "3861\n",
      "4136\n",
      "1111\n",
      "562\n",
      "2486\n",
      "1661\n",
      "2763\n",
      "1936\n",
      "1386\n",
      "836\n",
      "286\n",
      "3311\n",
      "3862\n",
      "2211\n",
      "3586\n",
      "3036\n",
      "13\n",
      "1112\n",
      "563\n",
      "1662\n",
      "2764\n",
      "287\n",
      "4136\n",
      "14\n",
      "2212\n",
      "3037\n",
      "2765\n",
      "3587\n",
      "836\n",
      "1936\n",
      "3861\n",
      "3311\n",
      "288\n",
      "1661\n",
      "564\n",
      "2766\n",
      "837\n",
      "11\n",
      "1937\n",
      "3038\n",
      "2211\n",
      "3312\n",
      "1386\n",
      "3862\n",
      "3586\n",
      "289\n",
      "3039\n",
      "12\n",
      "290\n",
      "561\n",
      "2761\n",
      "1387\n",
      "3587\n",
      "2212\n",
      "3313\n",
      "3863\n",
      "2762\n",
      "836\n",
      "1936\n",
      "4136\n",
      "562\n",
      "1388\n",
      "2213\n",
      "3864\n",
      "3036\n",
      "11\n",
      "2763\n",
      "563\n",
      "1937\n",
      "837\n",
      "2214\n",
      "1661\n",
      "3314\n",
      "4137\n",
      "286\n",
      "1389\n",
      "3586\n",
      "3865\n",
      "12\n",
      "3037\n",
      "3587\n",
      "2215\n",
      "1390\n",
      "13\n",
      "3866\n",
      "561\n",
      "3038\n",
      "1391\n",
      "562\n",
      "14\n",
      "1936\n",
      "3311\n",
      "3039\n",
      "3867\n",
      "1661\n",
      "4136\n",
      "836\n",
      "2216\n",
      "286\n",
      "1392\n",
      "563\n",
      "15\n",
      "3312\n",
      "1937\n",
      "3586\n",
      "3040\n",
      "1662\n",
      "3868\n",
      "4137\n",
      "2487\n",
      "1393\n",
      "16\n",
      "3313\n",
      "3041\n",
      "2764\n",
      "1663\n",
      "3869\n",
      "3587\n",
      "4138\n",
      "2488\n",
      "1938\n",
      "1113\n",
      "1394\n",
      "2765\n",
      "1664\n",
      "3042\n",
      "286\n",
      "3870\n",
      "561\n",
      "2489\n",
      "4139\n",
      "11\n",
      "3043\n",
      "1939\n",
      "1395\n",
      "3871\n",
      "2211\n",
      "3311\n",
      "562\n",
      "287\n",
      "2490\n",
      "3044\n",
      "3586\n",
      "3872\n",
      "3312\n",
      "563\n",
      "1661\n",
      "288\n",
      "2491\n",
      "3045\n",
      "837\n",
      "3587\n",
      "289\n",
      "4136\n",
      "2492\n",
      "11\n",
      "838\n",
      "1386\n",
      "2211\n",
      "564\n",
      "3872\n",
      "3046\n",
      "2493\n",
      "1936\n",
      "12\n",
      "1387\n",
      "2212\n",
      "3311\n",
      "839\n",
      "2761\n",
      "1661\n",
      "3873\n",
      "3586\n",
      "3047\n",
      "565\n",
      "840\n",
      "286\n",
      "2762\n",
      "3587\n",
      "1662\n",
      "4136\n",
      "1114\n",
      "3048\n",
      "3874\n",
      "11\n",
      "2763\n",
      "1386\n",
      "3311\n",
      "1936\n",
      "1663\n",
      "4137\n",
      "2211\n",
      "1115\n",
      "3875\n",
      "1387\n",
      "3312\n",
      "836\n",
      "1937\n",
      "561\n",
      "1664\n",
      "3047\n",
      "11\n",
      "2761\n",
      "1111\n",
      "3872\n",
      "1386\n",
      "3048\n",
      "2762\n",
      "836\n",
      "1936\n",
      "561\n",
      "1661\n",
      "3311\n",
      "3873\n"
     ]
    }
   ],
   "source": [
    "p= multiprocessing.Pool()\n",
    "results_buffered = p.map(df_to_bg,df_split_remainder)\n",
    "p.close()\n",
    "p.join()"
   ]
  },
  {
   "cell_type": "code",
   "execution_count": null,
   "metadata": {},
   "outputs": [],
   "source": [
    "end = datetime.datetime.now()\n",
    "elapsed = end - start\n",
    "print(elapsed)"
   ]
  },
  {
   "cell_type": "code",
   "execution_count": null,
   "metadata": {
    "collapsed": true
   },
   "outputs": [],
   "source": []
  }
 ],
 "metadata": {
  "kernelspec": {
   "display_name": "Python 35",
   "language": "python",
   "name": "python35"
  },
  "language_info": {
   "codemirror_mode": {
    "name": "ipython",
    "version": 3
   },
   "file_extension": ".py",
   "mimetype": "text/x-python",
   "name": "python",
   "nbconvert_exporter": "python",
   "pygments_lexer": "ipython3",
   "version": "3.5.4"
  }
 },
 "nbformat": 4,
 "nbformat_minor": 2
}
