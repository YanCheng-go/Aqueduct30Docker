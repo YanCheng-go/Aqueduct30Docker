{
 "cells": [
  {
   "cell_type": "code",
   "execution_count": 37,
   "metadata": {
    "collapsed": true
   },
   "outputs": [],
   "source": [
    "\"\"\"\n",
    "Data needs to be stored in geoJSON file format. The type should be featureCollection.\n",
    "\n",
    "Files are quite large so will have to come up with retrying \n",
    "\n",
    "\"\"\"\n",
    "TESTING = 1\n",
    "\n",
    "INPUT_FILE_PATH = \"/volumes/data/Y2018M08D13_RH_Process_Basisregistratie_Gewaspercelen_V01/output_V05/\"\n",
    "EE_OUTPUT_PATH = \"users/rutgerhofste/\"\n",
    "\n",
    "SCRIPT_NAME = \"Y2018M08D13_RH_Ingest_PRB_GeoJSON_V01\"\n",
    "OUTPUT_VERSION = 2\n",
    "\n",
    "EXTRA_PROPERTIES = {\"script_used\":SCRIPT_NAME,\n",
    "                    \"download_date\":\"2018-08-13\",\n",
    "                    \"download_url\":\"http://www.nationaalgeoregister.nl/geonetwork/srv/dut/catalog.search#/metadata/%7B25943e6e-bb27-4b7a-b240-150ffeaa582e%7D?tab=relations\"}"
   ]
  },
  {
   "cell_type": "code",
   "execution_count": 17,
   "metadata": {
    "collapsed": true
   },
   "outputs": [],
   "source": [
    "import geojson\n",
    "import json\n",
    "import ee\n",
    "import os\n",
    "import subprocess\n",
    "\n",
    "ee.Initialize()"
   ]
  },
  {
   "cell_type": "code",
   "execution_count": 3,
   "metadata": {},
   "outputs": [
    {
     "data": {
      "text/plain": [
       "'0.1.145'"
      ]
     },
     "execution_count": 3,
     "metadata": {},
     "output_type": "execute_result"
    }
   ],
   "source": [
    "ee.__version__"
   ]
  },
  {
   "cell_type": "code",
   "execution_count": 4,
   "metadata": {},
   "outputs": [],
   "source": [
    "command = \"earthengine create folder {}{}\".format(EE_OUTPUT_PATH,SCRIPT_NAME)\n",
    "response = subprocess.check_output(command,shell=True)\n",
    "command = \"earthengine create folder {}{}/output_V{:02.0f}\".format(EE_OUTPUT_PATH,SCRIPT_NAME,OUTPUT_VERSION)\n",
    "response = subprocess.check_output(command,shell=True)"
   ]
  },
  {
   "cell_type": "code",
   "execution_count": 5,
   "metadata": {
    "collapsed": true
   },
   "outputs": [],
   "source": []
  },
  {
   "cell_type": "code",
   "execution_count": 6,
   "metadata": {},
   "outputs": [
    {
     "data": {
      "text/plain": [
       "{\"properties\": {\"name\": \"urn:ogc:def:crs:OGC:1.3:CRS84\"}, \"type\": \"name\"}"
      ]
     },
     "execution_count": 6,
     "metadata": {},
     "output_type": "execute_result"
    }
   ],
   "source": [
    "data.crs"
   ]
  },
  {
   "cell_type": "code",
   "execution_count": 40,
   "metadata": {},
   "outputs": [],
   "source": [
    "files = os.listdir(INPUT_FILE_PATH)"
   ]
  },
  {
   "cell_type": "code",
   "execution_count": 41,
   "metadata": {},
   "outputs": [
    {
     "data": {
      "text/plain": [
       "['BRP_Gewaspercelen_2018_concept.json',\n",
       " 'BRP_Gewaspercelen_2009.json',\n",
       " 'BRP_Gewaspercelen_2013.json',\n",
       " 'BRP_Gewaspercelen_2014.json',\n",
       " 'BRP_Gewaspercelen_2016.json',\n",
       " 'BRP_Gewaspercelen_2015.json',\n",
       " 'BRP_Gewaspercelen_2012.json',\n",
       " 'BRP_Gewaspercelen_2010.json',\n",
       " 'BRP_Gewaspercelen_2011.json',\n",
       " 'BRP_Gewaspercelen_2017.json']"
      ]
     },
     "execution_count": 41,
     "metadata": {},
     "output_type": "execute_result"
    }
   ],
   "source": [
    "files"
   ]
  },
  {
   "cell_type": "code",
   "execution_count": 42,
   "metadata": {},
   "outputs": [],
   "source": [
    "if TESTING:\n",
    "    files = files[0:2]"
   ]
  },
  {
   "cell_type": "code",
   "execution_count": 44,
   "metadata": {},
   "outputs": [
    {
     "name": "stdout",
     "output_type": "stream",
     "text": [
      "BRP_Gewaspercelen_2018_concept.json\n",
      "BRP_Gewaspercelen_2009.json\n"
     ]
    }
   ],
   "source": [
    "for one_file in files:\n",
    "    year = int(one_file[18:22]) #warning, file name dependent\n",
    "    print(one_file)\n",
    "    with open(INPUT_FILE_PATH + one_file, encoding=\"utf-8\") as f:\n",
    "        data = geojson.load(f)\n",
    "        \n",
    "        fc = data_to_featureCollection(data)"
   ]
  },
  {
   "cell_type": "code",
   "execution_count": 45,
   "metadata": {
    "collapsed": true
   },
   "outputs": [],
   "source": [
    "def pre_process_properties(properties):\n",
    "    # Optional additional step to convert datatypes, calculate derivatives etc.\n",
    "    properties[\"GWS_GEWASCODE\"] = int(properties[\"GWS_GEWASCODE\"])\n",
    "    properties[\"year\"] = year\n",
    "    return properties"
   ]
  },
  {
   "cell_type": "code",
   "execution_count": 51,
   "metadata": {},
   "outputs": [],
   "source": [
    "def data_to_featureCollection(data,batch_size=10):\n",
    "    features = []\n",
    "    for index , feature in enumerate(data[\"features\"]):\n",
    "        print(index)\n",
    "        new_properties = pre_process_properties(feature.properties) \n",
    "        geometry = ee.Geometry(feature.geometry)    \n",
    "        eefeature = ee.Feature(geometry,new_properties)\n",
    "        features.append(eefeature)    \n",
    "        if index == batch_size:\n",
    "            fc = ee.FeatureCollection(features)   \n",
    "            fc = fc.setMulti(EXTRA_PROPERTIES)\n",
    "            break\n",
    "    return fc"
   ]
  },
  {
   "cell_type": "code",
   "execution_count": 52,
   "metadata": {},
   "outputs": [
    {
     "name": "stdout",
     "output_type": "stream",
     "text": [
      "0\n",
      "1\n",
      "2\n",
      "3\n",
      "4\n",
      "5\n",
      "6\n",
      "7\n",
      "8\n",
      "9\n",
      "10\n"
     ]
    }
   ],
   "source": [
    "fc = data_to_featureCollection(data)"
   ]
  },
  {
   "cell_type": "code",
   "execution_count": 53,
   "metadata": {},
   "outputs": [],
   "source": [
    "task = ee.batch.Export.table.toAsset(fc,\n",
    "                                     description=\"Y2018M08D13_RH_Ingest_PRB_GeoJSON_V01\",\n",
    "                                     assetId = \"{}{}/output_V{:02.0f}/Process_Basisregistratie_Gewaspercelen\".format(EE_OUTPUT_PATH,SCRIPT_NAME,OUTPUT_VERSION))"
   ]
  },
  {
   "cell_type": "code",
   "execution_count": 54,
   "metadata": {
    "collapsed": true
   },
   "outputs": [],
   "source": [
    "task.start()"
   ]
  },
  {
   "cell_type": "code",
   "execution_count": null,
   "metadata": {
    "collapsed": true
   },
   "outputs": [],
   "source": []
  }
 ],
 "metadata": {
  "kernelspec": {
   "display_name": "Python 35",
   "language": "python",
   "name": "python35"
  },
  "language_info": {
   "codemirror_mode": {
    "name": "ipython",
    "version": 3
   },
   "file_extension": ".py",
   "mimetype": "text/x-python",
   "name": "python",
   "nbconvert_exporter": "python",
   "pygments_lexer": "ipython3",
   "version": "3.5.4"
  }
 },
 "nbformat": 4,
 "nbformat_minor": 2
}
