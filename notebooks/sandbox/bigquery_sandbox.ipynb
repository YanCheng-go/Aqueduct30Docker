{
 "cells": [
  {
   "cell_type": "code",
   "execution_count": 1,
   "metadata": {
    "collapsed": true
   },
   "outputs": [],
   "source": [
    "# Test to ingest data into Google Bigquery\n",
    "\n",
    "\n"
   ]
  },
  {
   "cell_type": "markdown",
   "metadata": {},
   "source": [
    "# Create Service Account\n",
    "https://cloud.google.com/docs/authentication/getting-started\n",
    "\n"
   ]
  },
  {
   "cell_type": "code",
   "execution_count": 8,
   "metadata": {},
   "outputs": [
    {
     "name": "stdout",
     "output_type": "stream",
     "text": [
      "Created service account [bq-user01].\r\n"
     ]
    }
   ],
   "source": [
    "!gcloud iam service-accounts create bq-user01"
   ]
  },
  {
   "cell_type": "code",
   "execution_count": 10,
   "metadata": {},
   "outputs": [
    {
     "name": "stdout",
     "output_type": "stream",
     "text": [
      "bindings:\r\n",
      "- members:\r\n",
      "  - serviceAccount:service-720968724847@container-engine-robot.iam.gserviceaccount.com\r\n",
      "  role: roles/container.serviceAgent\r\n",
      "- members:\r\n",
      "  - serviceAccount:720968724847-compute@developer.gserviceaccount.com\r\n",
      "  - serviceAccount:720968724847@cloudservices.gserviceaccount.com\r\n",
      "  - serviceAccount:service-720968724847@containerregistry.iam.gserviceaccount.com\r\n",
      "  role: roles/editor\r\n",
      "- members:\r\n",
      "  - serviceAccount:bq-user01@aqueduct30.iam.gserviceaccount.com\r\n",
      "  - user:rutgerhofste@gmail.com\r\n",
      "  role: roles/owner\r\n",
      "etag: BwVwjV0uoBs=\r\n",
      "version: 1\r\n"
     ]
    }
   ],
   "source": [
    "!gcloud projects add-iam-policy-binding aqueduct30 --member \"serviceAccount:bq-user01@aqueduct30.iam.gserviceaccount.com\" --role \"roles/owner\""
   ]
  },
  {
   "cell_type": "code",
   "execution_count": 11,
   "metadata": {},
   "outputs": [
    {
     "name": "stdout",
     "output_type": "stream",
     "text": [
      "created key [36ce88aaf124030406f8a57611c688f3aacb7b5f] of type [json] as [/.google.json] for [bq-user01@aqueduct30.iam.gserviceaccount.com]\r\n"
     ]
    }
   ],
   "source": [
    "!gcloud iam service-accounts keys create /.google.json --iam-account bq-user01@aqueduct30.iam.gserviceaccount.com"
   ]
  },
  {
   "cell_type": "code",
   "execution_count": 18,
   "metadata": {
    "collapsed": true
   },
   "outputs": [],
   "source": [
    "!export GOOGLE_APPLICATION_CREDENTIALS=\"/.google.json\""
   ]
  },
  {
   "cell_type": "code",
   "execution_count": 29,
   "metadata": {},
   "outputs": [
    {
     "ename": "ImportError",
     "evalue": "cannot import name 'bigquery_datatransfer'",
     "output_type": "error",
     "traceback": [
      "\u001b[0;31m---------------------------------------------------------------------------\u001b[0m",
      "\u001b[0;31mImportError\u001b[0m                               Traceback (most recent call last)",
      "\u001b[0;32m<ipython-input-29-72d5dd145371>\u001b[0m in \u001b[0;36m<module>\u001b[0;34m()\u001b[0m\n\u001b[1;32m      1\u001b[0m \u001b[0;32mimport\u001b[0m \u001b[0mos\u001b[0m\u001b[0;34m\u001b[0m\u001b[0m\n\u001b[0;32m----> 2\u001b[0;31m \u001b[0;32mfrom\u001b[0m \u001b[0mgoogle\u001b[0m\u001b[0;34m.\u001b[0m\u001b[0mcloud\u001b[0m \u001b[0;32mimport\u001b[0m \u001b[0mbigquery\u001b[0m\u001b[0;34m,\u001b[0m \u001b[0mbigquery_datatransfer\u001b[0m\u001b[0;34m\u001b[0m\u001b[0m\n\u001b[0m",
      "\u001b[0;31mImportError\u001b[0m: cannot import name 'bigquery_datatransfer'"
     ]
    }
   ],
   "source": [
    "import os\n",
    "from google.cloud import bigquery, bigquery_datatransfer"
   ]
  },
  {
   "cell_type": "code",
   "execution_count": 21,
   "metadata": {},
   "outputs": [],
   "source": [
    "os.environ[\"GOOGLE_APPLICATION_CREDENTIALS\"] = \"/.google.json\""
   ]
  },
  {
   "cell_type": "code",
   "execution_count": 23,
   "metadata": {},
   "outputs": [],
   "source": [
    "bigquery_client = bigquery.Client()"
   ]
  },
  {
   "cell_type": "code",
   "execution_count": 24,
   "metadata": {
    "collapsed": true
   },
   "outputs": [],
   "source": [
    "dataset_id = 'my_new_dataset'"
   ]
  },
  {
   "cell_type": "code",
   "execution_count": 25,
   "metadata": {
    "collapsed": true
   },
   "outputs": [],
   "source": [
    "dataset_ref = bigquery_client.dataset(dataset_id)"
   ]
  },
  {
   "cell_type": "code",
   "execution_count": 26,
   "metadata": {
    "collapsed": true
   },
   "outputs": [],
   "source": [
    "dataset = bigquery.Dataset(dataset_ref)"
   ]
  },
  {
   "cell_type": "code",
   "execution_count": 28,
   "metadata": {},
   "outputs": [],
   "source": [
    "dataset = bigquery_client.create_dataset(dataset)"
   ]
  },
  {
   "cell_type": "code",
   "execution_count": 31,
   "metadata": {},
   "outputs": [],
   "source": [
    "datasets = list(bigquery_client.list_datasets())"
   ]
  },
  {
   "cell_type": "code",
   "execution_count": 32,
   "metadata": {},
   "outputs": [
    {
     "data": {
      "text/plain": [
       "[<google.cloud.bigquery.dataset.DatasetListItem at 0x7fb9748a6a20>]"
      ]
     },
     "execution_count": 32,
     "metadata": {},
     "output_type": "execute_result"
    }
   ],
   "source": [
    "datasets"
   ]
  },
  {
   "cell_type": "code",
   "execution_count": 34,
   "metadata": {},
   "outputs": [
    {
     "name": "stdout",
     "output_type": "stream",
     "text": [
      "my_new_dataset\n"
     ]
    }
   ],
   "source": [
    "for item in datasets:\n",
    "    print(item.dataset_id)"
   ]
  },
  {
   "cell_type": "code",
   "execution_count": null,
   "metadata": {
    "collapsed": true
   },
   "outputs": [],
   "source": []
  }
 ],
 "metadata": {
  "kernelspec": {
   "display_name": "Python 35",
   "language": "python",
   "name": "python35"
  },
  "language_info": {
   "codemirror_mode": {
    "name": "ipython",
    "version": 3
   },
   "file_extension": ".py",
   "mimetype": "text/x-python",
   "name": "python",
   "nbconvert_exporter": "python",
   "pygments_lexer": "ipython3",
   "version": "3.5.4"
  }
 },
 "nbformat": 4,
 "nbformat_minor": 2
}
