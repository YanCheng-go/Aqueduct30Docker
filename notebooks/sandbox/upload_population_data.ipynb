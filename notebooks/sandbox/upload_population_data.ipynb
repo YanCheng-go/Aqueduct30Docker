{
 "cells": [
  {
   "cell_type": "code",
   "execution_count": 7,
   "metadata": {
    "collapsed": true
   },
   "outputs": [],
   "source": [
    "GCS_INPUT_PATH = \"gs://hackathon_pjs/population\"\n"
   ]
  },
  {
   "cell_type": "code",
   "execution_count": 11,
   "metadata": {
    "collapsed": true
   },
   "outputs": [],
   "source": [
    "SCRIPT_NAME = \"upload_population_data\"\n",
    "OUTPUT_VERSION = 1\n",
    "\n",
    "ec2_input_path = \"/volumes/data/{}/input_V{:02.0f}\".format(SCRIPT_NAME,OUTPUT_VERSION)\n",
    "ec2_output_path = \"/volumes/data/{}/output_V{:02.0f}\".format(SCRIPT_NAME,OUTPUT_VERSION)\n"
   ]
  },
  {
   "cell_type": "code",
   "execution_count": 12,
   "metadata": {},
   "outputs": [],
   "source": [
    "!rm -r {ec2_input_path}\n",
    "!rm -r {ec2_output_path}\n"
   ]
  },
  {
   "cell_type": "code",
   "execution_count": 13,
   "metadata": {
    "collapsed": true
   },
   "outputs": [],
   "source": [
    "!mkdir -p {ec2_input_path}\n",
    "!mkdir -p {ec2_output_path}"
   ]
  },
  {
   "cell_type": "code",
   "execution_count": 14,
   "metadata": {},
   "outputs": [
    {
     "name": "stdout",
     "output_type": "stream",
     "text": [
      "Copying gs://hackathon_pjs/population/GHS_POP_GPW42015_GLOBE_R2015A_54009_250_v1_0.zip...\n",
      "/ [1 files][  1.0 GiB/  1.0 GiB]                                                \n",
      "Operation completed over 1 objects/1.0 GiB.                                      \n"
     ]
    }
   ],
   "source": [
    "!gsutil cp -r {GCS_INPUT_PATH}/*.zip {ec2_input_path}/."
   ]
  },
  {
   "cell_type": "code",
   "execution_count": 20,
   "metadata": {},
   "outputs": [
    {
     "name": "stdout",
     "output_type": "stream",
     "text": [
      "Archive:  /volumes/data/upload_population_data/input_V01/GHS_POP_GPW42015_GLOBE_R2015A_54009_250_v1_0.zip\n",
      "   creating: /volumes/data/upload_population_data/input_V01/GHS_POP_GPW42015_GLOBE_R2015A_54009_250_v1_0/\n",
      " extracting: /volumes/data/upload_population_data/input_V01/GHS_POP_GPW42015_GLOBE_R2015A_54009_250_v1_0/GHS_POP_GPW42015_GLOBE_R2015A_54009_250_v1_0.tif.aux.xml  \n",
      " extracting: /volumes/data/upload_population_data/input_V01/GHS_POP_GPW42015_GLOBE_R2015A_54009_250_v1_0/GHS_POP_GPW42015_GLOBE_R2015A_54009_250_v1_0.tif  \n",
      " extracting: /volumes/data/upload_population_data/input_V01/GHS_POP_GPW42015_GLOBE_R2015A_54009_250_v1_0/GHS_POP_GPW42015_GLOBE_R2015A_54009_250_v1_0.tfw  \n",
      " extracting: /volumes/data/upload_population_data/input_V01/GHS_POP_GPW42015_GLOBE_R2015A_54009_250_v1_0/GHSL_data_access_v1.3.pdf  \n",
      " extracting: /volumes/data/upload_population_data/input_V01/GHS_POP_GPW42015_GLOBE_R2015A_54009_250_v1_0/GHS_POP_GPW42015_GLOBE_R2015A_54009_250_v1_0.tif.xml  \n",
      " extracting: /volumes/data/upload_population_data/input_V01/GHS_POP_GPW42015_GLOBE_R2015A_54009_250_v1_0/GHS_POP_GPW42015_GLOBE_R2015A_54009_250_v1_0.tif.ovr  \n"
     ]
    }
   ],
   "source": [
    "!unzip {ec2_input_path}/GHS_POP_GPW42015_GLOBE_R2015A_54009_250_v1_0.zip -d {ec2_input_path}"
   ]
  },
  {
   "cell_type": "code",
   "execution_count": 21,
   "metadata": {
    "collapsed": true
   },
   "outputs": [],
   "source": [
    "import os"
   ]
  },
  {
   "cell_type": "code",
   "execution_count": 23,
   "metadata": {},
   "outputs": [],
   "source": [
    "files = os.listdir(os.path.join(ec2_input_path,\"GHS_POP_GPW42015_GLOBE_R2015A_54009_250_v1_0\"))"
   ]
  },
  {
   "cell_type": "code",
   "execution_count": 35,
   "metadata": {
    "collapsed": true
   },
   "outputs": [],
   "source": [
    "source = \"{}/{}/{}\".format(ec2_input_path,\"GHS_POP_GPW42015_GLOBE_R2015A_54009_250_v1_0\",\"GHS_POP_GPW42015_GLOBE_R2015A_54009_250_v1_0.tif\")"
   ]
  },
  {
   "cell_type": "code",
   "execution_count": 26,
   "metadata": {},
   "outputs": [],
   "source": [
    "import rasterio\n",
    "from rasterio.mask import mask\n",
    "from shapely.geometry import MultiPolygon, Polygon"
   ]
  },
  {
   "cell_type": "code",
   "execution_count": 27,
   "metadata": {
    "collapsed": true
   },
   "outputs": [],
   "source": [
    "minx = -63\n",
    "maxx = -62\n",
    "miny = 18\n",
    "maxy = 18.5"
   ]
  },
  {
   "cell_type": "code",
   "execution_count": 41,
   "metadata": {
    "collapsed": true
   },
   "outputs": [],
   "source": [
    "geom = Polygon([(minx,miny),\n",
    "               (maxx,miny),\n",
    "               (maxx,maxy),\n",
    "               (minx,maxy)])"
   ]
  },
  {
   "cell_type": "code",
   "execution_count": 29,
   "metadata": {},
   "outputs": [],
   "source": [
    "geoms = MultiPolygon([geom])"
   ]
  },
  {
   "cell_type": "code",
   "execution_count": 30,
   "metadata": {
    "collapsed": true
   },
   "outputs": [],
   "source": [
    "output_path = \"{}/population.tif\".format(ec2_output_path)"
   ]
  },
  {
   "cell_type": "code",
   "execution_count": 36,
   "metadata": {},
   "outputs": [
    {
     "data": {
      "text/plain": [
       "'/volumes/data/upload_population_data/input_V01/GHS_POP_GPW42015_GLOBE_R2015A_54009_250_v1_0/GHS_POP_GPW42015_GLOBE_R2015A_54009_250_v1_0.tif'"
      ]
     },
     "execution_count": 36,
     "metadata": {},
     "output_type": "execute_result"
    }
   ],
   "source": [
    "source"
   ]
  },
  {
   "cell_type": "code",
   "execution_count": 44,
   "metadata": {
    "scrolled": true
   },
   "outputs": [],
   "source": [
    "with rasterio.open(source) as src:\n",
    "    meta = src.meta\n",
    "    out_image, out_transform = mask(src, geoms,  crop=True) \n",
    "    #out_meta = src.meta.copy()\n",
    "    #out_meta.update({\"driver\": \"GTiff\",\n",
    "    #                 \"height\": out_image.shape[1],\n",
    "    #                 \"width\": out_image.shape[2],\n",
    "    #                 \"transform\": out_transform})\n",
    "\n",
    "    \"\"\"\n",
    "    with rasterio.open(output_path, \"w\",**out_meta) as dest:\n",
    "            dest.write(out_image)\n",
    "    \"\"\""
   ]
  },
  {
   "cell_type": "code",
   "execution_count": 45,
   "metadata": {},
   "outputs": [
    {
     "data": {
      "text/plain": [
       "{'count': 1,\n",
       " 'crs': CRS({'lon_0': 0, 'ellps': 'WGS84', 'no_defs': True, 'units': 'm', 'x_0': 0, 'proj': 'moll', 'y_0': 0}),\n",
       " 'driver': 'GTiff',\n",
       " 'dtype': 'float32',\n",
       " 'height': 60829,\n",
       " 'nodata': -3.4028234663852886e+38,\n",
       " 'transform': Affine(250.0, 0.0, -17619594.54744353,\n",
       "        0.0, -250.0, 8722279.46186849),\n",
       " 'width': 141969}"
      ]
     },
     "execution_count": 45,
     "metadata": {},
     "output_type": "execute_result"
    }
   ],
   "source": []
  },
  {
   "cell_type": "code",
   "execution_count": null,
   "metadata": {
    "scrolled": true
   },
   "outputs": [],
   "source": [
    "!gsutil cp {output_path} {GCS_INPUT_PATH}"
   ]
  },
  {
   "cell_type": "code",
   "execution_count": null,
   "metadata": {
    "collapsed": true
   },
   "outputs": [],
   "source": []
  }
 ],
 "metadata": {
  "kernelspec": {
   "display_name": "Python 35",
   "language": "python",
   "name": "python35"
  },
  "language_info": {
   "codemirror_mode": {
    "name": "ipython",
    "version": 3
   },
   "file_extension": ".py",
   "mimetype": "text/x-python",
   "name": "python",
   "nbconvert_exporter": "python",
   "pygments_lexer": "ipython3",
   "version": "3.5.4"
  }
 },
 "nbformat": 4,
 "nbformat_minor": 2
}
