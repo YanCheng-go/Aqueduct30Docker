{
 "cells": [
  {
   "cell_type": "code",
   "execution_count": 24,
   "metadata": {},
   "outputs": [
    {
     "name": "stdout",
     "output_type": "stream",
     "text": [
      "\n",
      "RDS_DATABASE_ENDPOINT:  aqueduct30v05.cgpnumwmfcqc.eu-central-1.rds.amazonaws.com \n",
      "RDS_DATABASE_NAME:  database01 \n",
      "RDS_INPUT_TABLE_NAME:  hybas06_v04 \n",
      "BQ_OUTPUT_DATASET_NAME:  spatial_test \n",
      "BQ_OUTPUT_TABLE_NAME:  y2018m08d02_rh_hybas_rds_to_bq_v01_v01\n"
     ]
    }
   ],
   "source": [
    "\"\"\" Water Stress in delta basins vs individual basins.\n",
    "-------------------------------------------------------------------------------\n",
    "\n",
    "Steps:\n",
    "1. Read data from RDS\n",
    "1. Convert to WKT\n",
    "1. Create BQ Dataset\n",
    "1. Upload to BQ (geom in string type)\n",
    "1. Create new table with geometry type in BQ\n",
    "\n",
    "\n",
    "\"\"\"\n",
    "\n",
    "TESTING = 0\n",
    "OVERWRITE_OUTPUT = 1\n",
    "SCRIPT_NAME = 'Y2018M08D02_RH_Hybas_RDS_To_BQ_V01'\n",
    "OUTPUT_VERSION = 1\n",
    "\n",
    "BQ_PROJECT_ID = \"aqueduct30\"\n",
    "BQ_INPUT_DATASET_NAME = \"aqueduct30v01\"\n",
    "BQ_OUTPUT_DATASET_NAME = \"spatial_test\"\n",
    "BQ_OUTPUT_TABLE_NAME = \"{}_v{:02.0f}\".format(SCRIPT_NAME,OUTPUT_VERSION).lower()\n",
    "\n",
    "RDS_DATABASE_ENDPOINT = \"aqueduct30v05.cgpnumwmfcqc.eu-central-1.rds.amazonaws.com\"\n",
    "RDS_DATABASE_NAME = \"database01\"\n",
    "RDS_INPUT_TABLE_NAME = \"hybas06_v04\"\n",
    "\n",
    "\n",
    "print(\"\\nRDS_DATABASE_ENDPOINT: \", RDS_DATABASE_ENDPOINT,\n",
    "      \"\\nRDS_DATABASE_NAME: \", RDS_DATABASE_NAME,\n",
    "      \"\\nRDS_INPUT_TABLE_NAME: \",RDS_INPUT_TABLE_NAME,\n",
    "      \"\\nBQ_OUTPUT_DATASET_NAME: \", BQ_OUTPUT_DATASET_NAME,\n",
    "      \"\\nBQ_OUTPUT_TABLE_NAME: \", BQ_OUTPUT_TABLE_NAME)\n"
   ]
  },
  {
   "cell_type": "code",
   "execution_count": 2,
   "metadata": {},
   "outputs": [
    {
     "name": "stdout",
     "output_type": "stream",
     "text": [
      "Y2018M08D02 UTC 13:57\n"
     ]
    },
    {
     "data": {
      "text/plain": [
       "'3.5.4 |Anaconda, Inc.| (default, Nov 20 2017, 18:44:38) \\n[GCC 7.2.0]'"
      ]
     },
     "execution_count": 2,
     "metadata": {},
     "output_type": "execute_result"
    }
   ],
   "source": [
    "import time, datetime, sys\n",
    "dateString = time.strftime(\"Y%YM%mD%d\")\n",
    "timeString = time.strftime(\"UTC %H:%M\")\n",
    "start = datetime.datetime.now()\n",
    "print(dateString,timeString)\n",
    "sys.version"
   ]
  },
  {
   "cell_type": "code",
   "execution_count": 9,
   "metadata": {
    "collapsed": true
   },
   "outputs": [],
   "source": [
    "import os\n",
    "import sqlalchemy\n",
    "import pandas as pd\n",
    "import geopandas as gpd\n",
    "from google.cloud import bigquery\n",
    "\n",
    "os.environ[\"GOOGLE_APPLICATION_CREDENTIALS\"] = \"/.google.json\"\n",
    "os.environ[\"GOOGLE_CLOUD_PROJECT\"] = \"aqueduct30\"\n",
    "client = bigquery.Client(project=BQ_PROJECT_ID)"
   ]
  },
  {
   "cell_type": "code",
   "execution_count": 4,
   "metadata": {},
   "outputs": [],
   "source": [
    "F = open(\"/.password\",\"r\")\n",
    "password = F.read().splitlines()[0]\n",
    "F.close()\n",
    "\n",
    "engine = sqlalchemy.create_engine(\"postgresql://rutgerhofste:{}@{}:5432/{}\".format(password,RDS_DATABASE_ENDPOINT,RDS_DATABASE_NAME))\n"
   ]
  },
  {
   "cell_type": "code",
   "execution_count": 5,
   "metadata": {
    "collapsed": true
   },
   "outputs": [],
   "source": [
    "sql = \"\"\"\n",
    "SELECT\n",
    "  pfaf_id,\n",
    "  geom,\n",
    "  ST_AsText(geom) AS wkt\n",
    "FROM\n",
    "  {}\n",
    "\"\"\".format(RDS_INPUT_TABLE_NAME)\n"
   ]
  },
  {
   "cell_type": "code",
   "execution_count": 6,
   "metadata": {},
   "outputs": [],
   "source": [
    "gdf = gpd.read_postgis(sql=sql,\n",
    "                       con=engine)"
   ]
  },
  {
   "cell_type": "code",
   "execution_count": 7,
   "metadata": {},
   "outputs": [
    {
     "data": {
      "text/html": [
       "<div>\n",
       "<style scoped>\n",
       "    .dataframe tbody tr th:only-of-type {\n",
       "        vertical-align: middle;\n",
       "    }\n",
       "\n",
       "    .dataframe tbody tr th {\n",
       "        vertical-align: top;\n",
       "    }\n",
       "\n",
       "    .dataframe thead th {\n",
       "        text-align: right;\n",
       "    }\n",
       "</style>\n",
       "<table border=\"1\" class=\"dataframe\">\n",
       "  <thead>\n",
       "    <tr style=\"text-align: right;\">\n",
       "      <th></th>\n",
       "      <th>pfaf_id</th>\n",
       "      <th>geom</th>\n",
       "      <th>wkt</th>\n",
       "    </tr>\n",
       "  </thead>\n",
       "  <tbody>\n",
       "    <tr>\n",
       "      <th>0</th>\n",
       "      <td>111015</td>\n",
       "      <td>(POLYGON ((34.00000000000003 26.62500000000002...</td>\n",
       "      <td>MULTIPOLYGON(((34 26.625,34.00242445204 26.624...</td>\n",
       "    </tr>\n",
       "    <tr>\n",
       "      <th>1</th>\n",
       "      <td>111019</td>\n",
       "      <td>(POLYGON ((36.24444444444446 23.55833333333337...</td>\n",
       "      <td>MULTIPOLYGON(((36.2444444444445 23.55833333333...</td>\n",
       "    </tr>\n",
       "    <tr>\n",
       "      <th>2</th>\n",
       "      <td>111020</td>\n",
       "      <td>(POLYGON ((35.14166666666669 22.58333333333336...</td>\n",
       "      <td>MULTIPOLYGON(((35.1416666666667 22.58333333333...</td>\n",
       "    </tr>\n",
       "    <tr>\n",
       "      <th>3</th>\n",
       "      <td>111041</td>\n",
       "      <td>(POLYGON ((36.52916666666668 21.25000000000003...</td>\n",
       "      <td>MULTIPOLYGON(((36.5291666666667 21.25,36.54409...</td>\n",
       "    </tr>\n",
       "    <tr>\n",
       "      <th>4</th>\n",
       "      <td>111050</td>\n",
       "      <td>(POLYGON ((37.19583333333335 20.00416666666668...</td>\n",
       "      <td>MULTIPOLYGON(((37.1958333333333 20.00416666666...</td>\n",
       "    </tr>\n",
       "  </tbody>\n",
       "</table>\n",
       "</div>"
      ],
      "text/plain": [
       "   pfaf_id                                               geom  \\\n",
       "0   111015  (POLYGON ((34.00000000000003 26.62500000000002...   \n",
       "1   111019  (POLYGON ((36.24444444444446 23.55833333333337...   \n",
       "2   111020  (POLYGON ((35.14166666666669 22.58333333333336...   \n",
       "3   111041  (POLYGON ((36.52916666666668 21.25000000000003...   \n",
       "4   111050  (POLYGON ((37.19583333333335 20.00416666666668...   \n",
       "\n",
       "                                                 wkt  \n",
       "0  MULTIPOLYGON(((34 26.625,34.00242445204 26.624...  \n",
       "1  MULTIPOLYGON(((36.2444444444445 23.55833333333...  \n",
       "2  MULTIPOLYGON(((35.1416666666667 22.58333333333...  \n",
       "3  MULTIPOLYGON(((36.5291666666667 21.25,36.54409...  \n",
       "4  MULTIPOLYGON(((37.1958333333333 20.00416666666...  "
      ]
     },
     "execution_count": 7,
     "metadata": {},
     "output_type": "execute_result"
    }
   ],
   "source": [
    "gdf.head()"
   ]
  },
  {
   "cell_type": "code",
   "execution_count": 14,
   "metadata": {},
   "outputs": [],
   "source": [
    "df = pd.DataFrame(gdf.drop(\"geom\",1))"
   ]
  },
  {
   "cell_type": "code",
   "execution_count": 15,
   "metadata": {},
   "outputs": [
    {
     "data": {
      "text/html": [
       "<div>\n",
       "<style scoped>\n",
       "    .dataframe tbody tr th:only-of-type {\n",
       "        vertical-align: middle;\n",
       "    }\n",
       "\n",
       "    .dataframe tbody tr th {\n",
       "        vertical-align: top;\n",
       "    }\n",
       "\n",
       "    .dataframe thead th {\n",
       "        text-align: right;\n",
       "    }\n",
       "</style>\n",
       "<table border=\"1\" class=\"dataframe\">\n",
       "  <thead>\n",
       "    <tr style=\"text-align: right;\">\n",
       "      <th></th>\n",
       "      <th>pfaf_id</th>\n",
       "      <th>wkt</th>\n",
       "    </tr>\n",
       "  </thead>\n",
       "  <tbody>\n",
       "    <tr>\n",
       "      <th>0</th>\n",
       "      <td>111015</td>\n",
       "      <td>MULTIPOLYGON(((34 26.625,34.00242445204 26.624...</td>\n",
       "    </tr>\n",
       "    <tr>\n",
       "      <th>1</th>\n",
       "      <td>111019</td>\n",
       "      <td>MULTIPOLYGON(((36.2444444444445 23.55833333333...</td>\n",
       "    </tr>\n",
       "    <tr>\n",
       "      <th>2</th>\n",
       "      <td>111020</td>\n",
       "      <td>MULTIPOLYGON(((35.1416666666667 22.58333333333...</td>\n",
       "    </tr>\n",
       "    <tr>\n",
       "      <th>3</th>\n",
       "      <td>111041</td>\n",
       "      <td>MULTIPOLYGON(((36.5291666666667 21.25,36.54409...</td>\n",
       "    </tr>\n",
       "    <tr>\n",
       "      <th>4</th>\n",
       "      <td>111050</td>\n",
       "      <td>MULTIPOLYGON(((37.1958333333333 20.00416666666...</td>\n",
       "    </tr>\n",
       "  </tbody>\n",
       "</table>\n",
       "</div>"
      ],
      "text/plain": [
       "   pfaf_id                                                wkt\n",
       "0   111015  MULTIPOLYGON(((34 26.625,34.00242445204 26.624...\n",
       "1   111019  MULTIPOLYGON(((36.2444444444445 23.55833333333...\n",
       "2   111020  MULTIPOLYGON(((35.1416666666667 22.58333333333...\n",
       "3   111041  MULTIPOLYGON(((36.5291666666667 21.25,36.54409...\n",
       "4   111050  MULTIPOLYGON(((37.1958333333333 20.00416666666..."
      ]
     },
     "execution_count": 15,
     "metadata": {},
     "output_type": "execute_result"
    }
   ],
   "source": []
  },
  {
   "cell_type": "code",
   "execution_count": 25,
   "metadata": {
    "collapsed": true
   },
   "outputs": [],
   "source": [
    "# Storing in separate dataset\n",
    "\n",
    "dataset_ref = client.dataset(BQ_OUTPUT_DATASET_NAME)\n",
    "dataset = bigquery.Dataset(dataset_ref)\n",
    "dataset.location = 'US'\n",
    "dataset = client.create_dataset(dataset)"
   ]
  },
  {
   "cell_type": "code",
   "execution_count": 26,
   "metadata": {
    "collapsed": true
   },
   "outputs": [],
   "source": [
    "destination_table = \"{}.{}\".format(BQ_OUTPUT_DATASET_NAME,BQ_OUTPUT_TABLE_NAME)"
   ]
  },
  {
   "cell_type": "code",
   "execution_count": 27,
   "metadata": {},
   "outputs": [
    {
     "name": "stdout",
     "output_type": "stream",
     "text": [
      "spatial_test.y2018m08d02_rh_hybas_rds_to_bq_v01_v01\n"
     ]
    }
   ],
   "source": [
    "print(destination_table)"
   ]
  },
  {
   "cell_type": "code",
   "execution_count": 21,
   "metadata": {
    "collapsed": true
   },
   "outputs": [],
   "source": [
    "df = df[1:10]"
   ]
  },
  {
   "cell_type": "code",
   "execution_count": 28,
   "metadata": {},
   "outputs": [
    {
     "name": "stderr",
     "output_type": "stream",
     "text": [
      "\n",
      "0it [00:00, ?it/s]\u001b[A\n",
      "1it [00:03,  3.55s/it]\u001b[A"
     ]
    }
   ],
   "source": [
    "df.to_gbq(destination_table=destination_table,\n",
    "          project_id=BQ_PROJECT_ID,\n",
    "          chunksize=100,\n",
    "          if_exists=\"replace\")"
   ]
  },
  {
   "cell_type": "code",
   "execution_count": 29,
   "metadata": {
    "collapsed": true
   },
   "outputs": [],
   "source": [
    "# woohoo it works but visualization sucks in BQ. back to square 1"
   ]
  },
  {
   "cell_type": "code",
   "execution_count": null,
   "metadata": {
    "collapsed": true
   },
   "outputs": [],
   "source": []
  }
 ],
 "metadata": {
  "kernelspec": {
   "display_name": "Python 35",
   "language": "python",
   "name": "python35"
  },
  "language_info": {
   "codemirror_mode": {
    "name": "ipython",
    "version": 3
   },
   "file_extension": ".py",
   "mimetype": "text/x-python",
   "name": "python",
   "nbconvert_exporter": "python",
   "pygments_lexer": "ipython3",
   "version": "3.5.4"
  }
 },
 "nbformat": 4,
 "nbformat_minor": 2
}
