{
 "cells": [
  {
   "cell_type": "code",
   "execution_count": 1,
   "metadata": {
    "collapsed": true
   },
   "outputs": [],
   "source": [
    "\"\"\" \n",
    "Steps\n",
    "1. Download datasets\n",
    "1. Unzip\n",
    "1. Convert to shapefile\n",
    "1. Upload to GCS\n",
    "1. Ingest into ee.\n",
    "\n",
    "\n",
    "URL: http://www.nationaalgeoregister.nl/geonetwork/srv/dut/catalog.search#/metadata/%7B25943e6e-bb27-4b7a-b240-150ffeaa582e%7D\n",
    "\n",
    "Todo: \n",
    "\n",
    "earthengine currently only supports shapefile. Rewrite for geopackage / geosjon in future. \n",
    "\n",
    "\n",
    "\"\"\"\n",
    "\n",
    "\n",
    "SCRIPT_NAME = \"Y2018M08D13_RH_Process_Basisregistratie_Gewaspercelen_V01\"\n",
    "OUTPUT_VERSION = 8\n",
    "\n",
    "GCS_OUTPUT_PATH = \"gs://aqueduct30_v01/{}/output_V{:02.0f}/\".format(SCRIPT_NAME,OUTPUT_VERSION)\n",
    "\n",
    "ec2_input_path = \"/volumes/data/{}/input_V{:02.0f}/\".format(SCRIPT_NAME,OUTPUT_VERSION)\n",
    "ec2_process_path = \"/volumes/data/{}/process_V{:02.0f}/\".format(SCRIPT_NAME,OUTPUT_VERSION)\n",
    "ec2_process2_path = \"/volumes/data/{}/process2_V{:02.0f}/\".format(SCRIPT_NAME,OUTPUT_VERSION)\n",
    "ec2_output_path = \"/volumes/data/{}/output_V{:02.0f}/\".format(SCRIPT_NAME,OUTPUT_VERSION)\n",
    "\n"
   ]
  },
  {
   "cell_type": "code",
   "execution_count": 2,
   "metadata": {},
   "outputs": [
    {
     "name": "stdout",
     "output_type": "stream",
     "text": [
      "Y2018M08D14 UTC 18:29\n"
     ]
    },
    {
     "data": {
      "text/plain": [
       "'3.5.4 |Anaconda, Inc.| (default, Nov 20 2017, 18:44:38) \\n[GCC 7.2.0]'"
      ]
     },
     "execution_count": 2,
     "metadata": {},
     "output_type": "execute_result"
    }
   ],
   "source": [
    "import time, datetime, sys\n",
    "dateString = time.strftime(\"Y%YM%mD%d\")\n",
    "timeString = time.strftime(\"UTC %H:%M\")\n",
    "start = datetime.datetime.now()\n",
    "print(dateString,timeString)\n",
    "sys.version"
   ]
  },
  {
   "cell_type": "code",
   "execution_count": 3,
   "metadata": {
    "collapsed": true
   },
   "outputs": [],
   "source": [
    "# Imports\n",
    "import os\n",
    "import subprocess"
   ]
  },
  {
   "cell_type": "code",
   "execution_count": 4,
   "metadata": {},
   "outputs": [
    {
     "name": "stdout",
     "output_type": "stream",
     "text": [
      "rm: cannot remove '/volumes/data/Y2018M08D13_RH_Process_Basisregistratie_Gewaspercelen_V01/output_V08/': No such file or directory\n",
      "rm: cannot remove '/volumes/data/Y2018M08D13_RH_Process_Basisregistratie_Gewaspercelen_V01/process_V08/': No such file or directory\n",
      "rm: cannot remove '/volumes/data/Y2018M08D13_RH_Process_Basisregistratie_Gewaspercelen_V01/process2_V08/': No such file or directory\n",
      "rm: cannot remove '/volumes/data/Y2018M08D13_RH_Process_Basisregistratie_Gewaspercelen_V01/input_V08/': No such file or directory\n"
     ]
    }
   ],
   "source": [
    "!rm -r {ec2_output_path}\n",
    "!rm -r {ec2_process_path}\n",
    "!rm -r {ec2_process2_path}\n",
    "!rm -r {ec2_input_path}"
   ]
  },
  {
   "cell_type": "code",
   "execution_count": 5,
   "metadata": {
    "collapsed": true
   },
   "outputs": [],
   "source": [
    "!mkdir -p {ec2_output_path}\n",
    "!mkdir -p {ec2_process_path}\n",
    "!mkdir -p {ec2_process2_path}\n",
    "!mkdir -p {ec2_input_path}"
   ]
  },
  {
   "cell_type": "code",
   "execution_count": 6,
   "metadata": {
    "collapsed": true
   },
   "outputs": [],
   "source": [
    "urls = {}\n",
    "for year in range(2009,2018):\n",
    "    urls[year] = (\"http://geodata.nationaalgeoregister.nl/brpgewaspercelen/extract/{}-definitief/brpgewaspercelen.zip\".format(year))\n",
    "\n",
    "# url for 2018 is slightly different\n",
    "urls[2018] = (\"http://geodata.nationaalgeoregister.nl/brpgewaspercelen/extract/2018-concept/brpgewaspercelen.zip.zip\")\n",
    "    "
   ]
  },
  {
   "cell_type": "code",
   "execution_count": 7,
   "metadata": {},
   "outputs": [
    {
     "name": "stdout",
     "output_type": "stream",
     "text": [
      "wget -O /volumes/data/Y2018M08D13_RH_Process_Basisregistratie_Gewaspercelen_V01/input_V08/BRP2016.zip 'http://geodata.nationaalgeoregister.nl/brpgewaspercelen/extract/2016-definitief/brpgewaspercelen.zip'\n",
      "wget -O /volumes/data/Y2018M08D13_RH_Process_Basisregistratie_Gewaspercelen_V01/input_V08/BRP2017.zip 'http://geodata.nationaalgeoregister.nl/brpgewaspercelen/extract/2017-definitief/brpgewaspercelen.zip'\n",
      "wget -O /volumes/data/Y2018M08D13_RH_Process_Basisregistratie_Gewaspercelen_V01/input_V08/BRP2018.zip 'http://geodata.nationaalgeoregister.nl/brpgewaspercelen/extract/2018-concept/brpgewaspercelen.zip.zip'\n",
      "wget -O /volumes/data/Y2018M08D13_RH_Process_Basisregistratie_Gewaspercelen_V01/input_V08/BRP2009.zip 'http://geodata.nationaalgeoregister.nl/brpgewaspercelen/extract/2009-definitief/brpgewaspercelen.zip'\n",
      "wget -O /volumes/data/Y2018M08D13_RH_Process_Basisregistratie_Gewaspercelen_V01/input_V08/BRP2010.zip 'http://geodata.nationaalgeoregister.nl/brpgewaspercelen/extract/2010-definitief/brpgewaspercelen.zip'\n",
      "wget -O /volumes/data/Y2018M08D13_RH_Process_Basisregistratie_Gewaspercelen_V01/input_V08/BRP2011.zip 'http://geodata.nationaalgeoregister.nl/brpgewaspercelen/extract/2011-definitief/brpgewaspercelen.zip'\n",
      "wget -O /volumes/data/Y2018M08D13_RH_Process_Basisregistratie_Gewaspercelen_V01/input_V08/BRP2012.zip 'http://geodata.nationaalgeoregister.nl/brpgewaspercelen/extract/2012-definitief/brpgewaspercelen.zip'\n",
      "wget -O /volumes/data/Y2018M08D13_RH_Process_Basisregistratie_Gewaspercelen_V01/input_V08/BRP2013.zip 'http://geodata.nationaalgeoregister.nl/brpgewaspercelen/extract/2013-definitief/brpgewaspercelen.zip'\n",
      "wget -O /volumes/data/Y2018M08D13_RH_Process_Basisregistratie_Gewaspercelen_V01/input_V08/BRP2014.zip 'http://geodata.nationaalgeoregister.nl/brpgewaspercelen/extract/2014-definitief/brpgewaspercelen.zip'\n",
      "wget -O /volumes/data/Y2018M08D13_RH_Process_Basisregistratie_Gewaspercelen_V01/input_V08/BRP2015.zip 'http://geodata.nationaalgeoregister.nl/brpgewaspercelen/extract/2015-definitief/brpgewaspercelen.zip'\n"
     ]
    }
   ],
   "source": [
    "for year, url in urls.items():\n",
    "    output_file_path = ec2_input_path + \"BRP{}.zip\".format(year)\n",
    "    command = \"wget -O {} '{}'\".format(output_file_path,url)\n",
    "    print(command)\n",
    "    response = subprocess.check_output(command,shell=True)\n",
    "    "
   ]
  },
  {
   "cell_type": "code",
   "execution_count": 8,
   "metadata": {
    "collapsed": true
   },
   "outputs": [],
   "source": [
    "files = os.listdir(ec2_input_path)"
   ]
  },
  {
   "cell_type": "code",
   "execution_count": 9,
   "metadata": {},
   "outputs": [
    {
     "data": {
      "text/plain": [
       "['BRP2012.zip',\n",
       " 'BRP2010.zip',\n",
       " 'BRP2014.zip',\n",
       " 'BRP2013.zip',\n",
       " 'BRP2009.zip',\n",
       " 'BRP2018.zip',\n",
       " 'BRP2017.zip',\n",
       " 'BRP2015.zip',\n",
       " 'BRP2011.zip',\n",
       " 'BRP2016.zip']"
      ]
     },
     "execution_count": 9,
     "metadata": {},
     "output_type": "execute_result"
    }
   ],
   "source": [
    "files"
   ]
  },
  {
   "cell_type": "code",
   "execution_count": 10,
   "metadata": {},
   "outputs": [
    {
     "name": "stdout",
     "output_type": "stream",
     "text": [
      "unzip -o /volumes/data/Y2018M08D13_RH_Process_Basisregistratie_Gewaspercelen_V01/input_V08/BRP2012.zip -d /volumes/data/Y2018M08D13_RH_Process_Basisregistratie_Gewaspercelen_V01/process_V08/\n",
      "unzip -o /volumes/data/Y2018M08D13_RH_Process_Basisregistratie_Gewaspercelen_V01/input_V08/BRP2010.zip -d /volumes/data/Y2018M08D13_RH_Process_Basisregistratie_Gewaspercelen_V01/process_V08/\n",
      "unzip -o /volumes/data/Y2018M08D13_RH_Process_Basisregistratie_Gewaspercelen_V01/input_V08/BRP2014.zip -d /volumes/data/Y2018M08D13_RH_Process_Basisregistratie_Gewaspercelen_V01/process_V08/\n",
      "unzip -o /volumes/data/Y2018M08D13_RH_Process_Basisregistratie_Gewaspercelen_V01/input_V08/BRP2013.zip -d /volumes/data/Y2018M08D13_RH_Process_Basisregistratie_Gewaspercelen_V01/process_V08/\n",
      "unzip -o /volumes/data/Y2018M08D13_RH_Process_Basisregistratie_Gewaspercelen_V01/input_V08/BRP2009.zip -d /volumes/data/Y2018M08D13_RH_Process_Basisregistratie_Gewaspercelen_V01/process_V08/\n",
      "unzip -o /volumes/data/Y2018M08D13_RH_Process_Basisregistratie_Gewaspercelen_V01/input_V08/BRP2018.zip -d /volumes/data/Y2018M08D13_RH_Process_Basisregistratie_Gewaspercelen_V01/process_V08/\n",
      "unzip -o /volumes/data/Y2018M08D13_RH_Process_Basisregistratie_Gewaspercelen_V01/input_V08/BRP2017.zip -d /volumes/data/Y2018M08D13_RH_Process_Basisregistratie_Gewaspercelen_V01/process_V08/\n",
      "unzip -o /volumes/data/Y2018M08D13_RH_Process_Basisregistratie_Gewaspercelen_V01/input_V08/BRP2015.zip -d /volumes/data/Y2018M08D13_RH_Process_Basisregistratie_Gewaspercelen_V01/process_V08/\n",
      "unzip -o /volumes/data/Y2018M08D13_RH_Process_Basisregistratie_Gewaspercelen_V01/input_V08/BRP2011.zip -d /volumes/data/Y2018M08D13_RH_Process_Basisregistratie_Gewaspercelen_V01/process_V08/\n",
      "unzip -o /volumes/data/Y2018M08D13_RH_Process_Basisregistratie_Gewaspercelen_V01/input_V08/BRP2016.zip -d /volumes/data/Y2018M08D13_RH_Process_Basisregistratie_Gewaspercelen_V01/process_V08/\n"
     ]
    }
   ],
   "source": [
    "for one_file in files:\n",
    "    command = \"unzip -o {}{} -d {}\".format(ec2_input_path,one_file,ec2_process_path)\n",
    "    print(command)\n",
    "    response = subprocess.check_output(command,shell=True)"
   ]
  },
  {
   "cell_type": "code",
   "execution_count": 11,
   "metadata": {
    "collapsed": true
   },
   "outputs": [],
   "source": [
    "# Inconsistent file name, rename 2014 file\n",
    "\n",
    "!mv {ec2_process_path}BRP_Gewaspercelen_definitief.gdb {ec2_process_path}BRP_Gewaspercelen_2014.gdb"
   ]
  },
  {
   "cell_type": "code",
   "execution_count": 12,
   "metadata": {
    "collapsed": true
   },
   "outputs": [],
   "source": [
    "gdb_files = os.listdir(ec2_process_path)"
   ]
  },
  {
   "cell_type": "code",
   "execution_count": 13,
   "metadata": {},
   "outputs": [
    {
     "name": "stdout",
     "output_type": "stream",
     "text": [
      "/opt/anaconda3/envs/python35/bin/ogr2ogr -f 'ESRI Shapefile' /volumes/data/Y2018M08D13_RH_Process_Basisregistratie_Gewaspercelen_V01/process2_V08/BRP_Gewaspercelen_2015.shp /volumes/data/Y2018M08D13_RH_Process_Basisregistratie_Gewaspercelen_V01/process_V08/BRP_Gewaspercelen_2015.gdb\n",
      "/opt/anaconda3/envs/python35/bin/ogr2ogr -f 'ESRI Shapefile' /volumes/data/Y2018M08D13_RH_Process_Basisregistratie_Gewaspercelen_V01/process2_V08/BRP_Gewaspercelen_2009.shp /volumes/data/Y2018M08D13_RH_Process_Basisregistratie_Gewaspercelen_V01/process_V08/BRP_Gewaspercelen_2009.gdb\n",
      "/opt/anaconda3/envs/python35/bin/ogr2ogr -f 'ESRI Shapefile' /volumes/data/Y2018M08D13_RH_Process_Basisregistratie_Gewaspercelen_V01/process2_V08/BRP_Gewaspercelen_2013.shp /volumes/data/Y2018M08D13_RH_Process_Basisregistratie_Gewaspercelen_V01/process_V08/BRP_Gewaspercelen_2013.gdb\n",
      "/opt/anaconda3/envs/python35/bin/ogr2ogr -f 'ESRI Shapefile' /volumes/data/Y2018M08D13_RH_Process_Basisregistratie_Gewaspercelen_V01/process2_V08/BRP_Gewaspercelen_2014.shp /volumes/data/Y2018M08D13_RH_Process_Basisregistratie_Gewaspercelen_V01/process_V08/BRP_Gewaspercelen_2014.gdb\n",
      "/opt/anaconda3/envs/python35/bin/ogr2ogr -f 'ESRI Shapefile' /volumes/data/Y2018M08D13_RH_Process_Basisregistratie_Gewaspercelen_V01/process2_V08/BRP_Gewaspercelen_2011.shp /volumes/data/Y2018M08D13_RH_Process_Basisregistratie_Gewaspercelen_V01/process_V08/BRP_Gewaspercelen_2011.gdb\n",
      "/opt/anaconda3/envs/python35/bin/ogr2ogr -f 'ESRI Shapefile' /volumes/data/Y2018M08D13_RH_Process_Basisregistratie_Gewaspercelen_V01/process2_V08/BRP_Gewaspercelen_2017.shp /volumes/data/Y2018M08D13_RH_Process_Basisregistratie_Gewaspercelen_V01/process_V08/BRP_Gewaspercelen_2017.gdb\n",
      "/opt/anaconda3/envs/python35/bin/ogr2ogr -f 'ESRI Shapefile' /volumes/data/Y2018M08D13_RH_Process_Basisregistratie_Gewaspercelen_V01/process2_V08/BRP_Gewaspercelen_2012.shp /volumes/data/Y2018M08D13_RH_Process_Basisregistratie_Gewaspercelen_V01/process_V08/BRP_Gewaspercelen_2012.gdb\n",
      "/opt/anaconda3/envs/python35/bin/ogr2ogr -f 'ESRI Shapefile' /volumes/data/Y2018M08D13_RH_Process_Basisregistratie_Gewaspercelen_V01/process2_V08/BRP_Gewaspercelen_2018_concept.shp /volumes/data/Y2018M08D13_RH_Process_Basisregistratie_Gewaspercelen_V01/process_V08/BRP_Gewaspercelen_2018_concept.gdb\n",
      "/opt/anaconda3/envs/python35/bin/ogr2ogr -f 'ESRI Shapefile' /volumes/data/Y2018M08D13_RH_Process_Basisregistratie_Gewaspercelen_V01/process2_V08/BRP_Gewaspercelen_2010.shp /volumes/data/Y2018M08D13_RH_Process_Basisregistratie_Gewaspercelen_V01/process_V08/BRP_Gewaspercelen_2010.gdb\n",
      "/opt/anaconda3/envs/python35/bin/ogr2ogr -f 'ESRI Shapefile' /volumes/data/Y2018M08D13_RH_Process_Basisregistratie_Gewaspercelen_V01/process2_V08/BRP_Gewaspercelen_2016.shp /volumes/data/Y2018M08D13_RH_Process_Basisregistratie_Gewaspercelen_V01/process_V08/BRP_Gewaspercelen_2016.gdb\n"
     ]
    }
   ],
   "source": [
    "for gdb_file in gdb_files:\n",
    "    if gdb_file.endswith('.gdb'):\n",
    "        filename, extension = gdb_file.split(\".\")\n",
    "        command = \"/opt/anaconda3/envs/python35/bin/ogr2ogr -f 'ESRI Shapefile' {}{}.shp {}{}\".format(ec2_process2_path,filename,ec2_process_path,gdb_file)\n",
    "        print(command)\n",
    "        response = subprocess.check_output(command,shell=True)"
   ]
  },
  {
   "cell_type": "code",
   "execution_count": 14,
   "metadata": {
    "collapsed": true
   },
   "outputs": [],
   "source": [
    "files = os.listdir(ec2_process2_path)"
   ]
  },
  {
   "cell_type": "code",
   "execution_count": 15,
   "metadata": {},
   "outputs": [
    {
     "data": {
      "text/plain": [
       "['BRP_Gewaspercelen_2014.shp',\n",
       " 'BRP_Gewaspercelen_2017.shp',\n",
       " 'BRP_Gewaspercelen_2017.dbf',\n",
       " 'BRP_Gewaspercelen_2012.prj',\n",
       " 'BRP_Gewaspercelen_2015.shx',\n",
       " 'BRP_Gewaspercelen_2012.shp',\n",
       " 'BRP_Gewaspercelen_2009.shx',\n",
       " 'BRP_Gewaspercelen_2013.prj',\n",
       " 'BRP_Gewaspercelen_2017.prj',\n",
       " 'BRP_Gewaspercelen_2009.dbf',\n",
       " 'BRP_Gewaspercelen_2016.dbf',\n",
       " 'BRP_Gewaspercelen_2012.shx',\n",
       " 'BRP_Gewaspercelen_2016.shp',\n",
       " 'BRP_Gewaspercelen_2017.shx',\n",
       " 'BRP_Gewaspercelen_2016.prj',\n",
       " 'BRP_Gewaspercelen_2018_concept.prj',\n",
       " 'BRP_Gewaspercelen_2014.dbf',\n",
       " 'BRP_Gewaspercelen_2010.shp',\n",
       " 'BRP_Gewaspercelen_2011.shx',\n",
       " 'BRP_Gewaspercelen_2015.prj',\n",
       " 'BRP_Gewaspercelen_2013.dbf',\n",
       " 'BRP_Gewaspercelen_2013.shx',\n",
       " 'BRP_Gewaspercelen_2018_concept.shp',\n",
       " 'BRP_Gewaspercelen_2016.shx',\n",
       " 'BRP_Gewaspercelen_2015.shp',\n",
       " 'BRP_Gewaspercelen_2014.shx',\n",
       " 'BRP_Gewaspercelen_2018_concept.shx',\n",
       " 'BRP_Gewaspercelen_2010.dbf',\n",
       " 'BRP_Gewaspercelen_2015.dbf',\n",
       " 'BRP_Gewaspercelen_2012.dbf',\n",
       " 'BRP_Gewaspercelen_2013.shp',\n",
       " 'BRP_Gewaspercelen_2018_concept.dbf',\n",
       " 'BRP_Gewaspercelen_2009.prj',\n",
       " 'BRP_Gewaspercelen_2011.shp',\n",
       " 'BRP_Gewaspercelen_2009.shp',\n",
       " 'BRP_Gewaspercelen_2011.dbf',\n",
       " 'BRP_Gewaspercelen_2010.shx',\n",
       " 'BRP_Gewaspercelen_2010.prj',\n",
       " 'BRP_Gewaspercelen_2014.prj',\n",
       " 'BRP_Gewaspercelen_2011.prj']"
      ]
     },
     "execution_count": 15,
     "metadata": {},
     "output_type": "execute_result"
    }
   ],
   "source": [
    "files"
   ]
  },
  {
   "cell_type": "code",
   "execution_count": null,
   "metadata": {},
   "outputs": [
    {
     "name": "stdout",
     "output_type": "stream",
     "text": [
      "/opt/anaconda3/envs/python35/bin/ogr2ogr -t_srs EPSG:4326 -s_srs EPSG:28992 /volumes/data/Y2018M08D13_RH_Process_Basisregistratie_Gewaspercelen_V01/output_V08/BRP_Gewaspercelen_2014.shp /volumes/data/Y2018M08D13_RH_Process_Basisregistratie_Gewaspercelen_V01/process2_V08/BRP_Gewaspercelen_2014.shp\n",
      "/opt/anaconda3/envs/python35/bin/ogr2ogr -t_srs EPSG:4326 -s_srs EPSG:28992 /volumes/data/Y2018M08D13_RH_Process_Basisregistratie_Gewaspercelen_V01/output_V08/BRP_Gewaspercelen_2017.shp /volumes/data/Y2018M08D13_RH_Process_Basisregistratie_Gewaspercelen_V01/process2_V08/BRP_Gewaspercelen_2017.shp\n",
      "/opt/anaconda3/envs/python35/bin/ogr2ogr -t_srs EPSG:4326 -s_srs EPSG:28992 /volumes/data/Y2018M08D13_RH_Process_Basisregistratie_Gewaspercelen_V01/output_V08/BRP_Gewaspercelen_2012.shp /volumes/data/Y2018M08D13_RH_Process_Basisregistratie_Gewaspercelen_V01/process2_V08/BRP_Gewaspercelen_2012.shp\n",
      "/opt/anaconda3/envs/python35/bin/ogr2ogr -t_srs EPSG:4326 -s_srs EPSG:28992 /volumes/data/Y2018M08D13_RH_Process_Basisregistratie_Gewaspercelen_V01/output_V08/BRP_Gewaspercelen_2016.shp /volumes/data/Y2018M08D13_RH_Process_Basisregistratie_Gewaspercelen_V01/process2_V08/BRP_Gewaspercelen_2016.shp\n",
      "/opt/anaconda3/envs/python35/bin/ogr2ogr -t_srs EPSG:4326 -s_srs EPSG:28992 /volumes/data/Y2018M08D13_RH_Process_Basisregistratie_Gewaspercelen_V01/output_V08/BRP_Gewaspercelen_2010.shp /volumes/data/Y2018M08D13_RH_Process_Basisregistratie_Gewaspercelen_V01/process2_V08/BRP_Gewaspercelen_2010.shp\n",
      "/opt/anaconda3/envs/python35/bin/ogr2ogr -t_srs EPSG:4326 -s_srs EPSG:28992 /volumes/data/Y2018M08D13_RH_Process_Basisregistratie_Gewaspercelen_V01/output_V08/BRP_Gewaspercelen_2018_concept.shp /volumes/data/Y2018M08D13_RH_Process_Basisregistratie_Gewaspercelen_V01/process2_V08/BRP_Gewaspercelen_2018_concept.shp\n",
      "/opt/anaconda3/envs/python35/bin/ogr2ogr -t_srs EPSG:4326 -s_srs EPSG:28992 /volumes/data/Y2018M08D13_RH_Process_Basisregistratie_Gewaspercelen_V01/output_V08/BRP_Gewaspercelen_2015.shp /volumes/data/Y2018M08D13_RH_Process_Basisregistratie_Gewaspercelen_V01/process2_V08/BRP_Gewaspercelen_2015.shp\n",
      "/opt/anaconda3/envs/python35/bin/ogr2ogr -t_srs EPSG:4326 -s_srs EPSG:28992 /volumes/data/Y2018M08D13_RH_Process_Basisregistratie_Gewaspercelen_V01/output_V08/BRP_Gewaspercelen_2013.shp /volumes/data/Y2018M08D13_RH_Process_Basisregistratie_Gewaspercelen_V01/process2_V08/BRP_Gewaspercelen_2013.shp\n",
      "/opt/anaconda3/envs/python35/bin/ogr2ogr -t_srs EPSG:4326 -s_srs EPSG:28992 /volumes/data/Y2018M08D13_RH_Process_Basisregistratie_Gewaspercelen_V01/output_V08/BRP_Gewaspercelen_2011.shp /volumes/data/Y2018M08D13_RH_Process_Basisregistratie_Gewaspercelen_V01/process2_V08/BRP_Gewaspercelen_2011.shp\n",
      "/opt/anaconda3/envs/python35/bin/ogr2ogr -t_srs EPSG:4326 -s_srs EPSG:28992 /volumes/data/Y2018M08D13_RH_Process_Basisregistratie_Gewaspercelen_V01/output_V08/BRP_Gewaspercelen_2009.shp /volumes/data/Y2018M08D13_RH_Process_Basisregistratie_Gewaspercelen_V01/process2_V08/BRP_Gewaspercelen_2009.shp\n"
     ]
    }
   ],
   "source": [
    "for one_file in files:\n",
    "    if one_file.endswith('.shp'):\n",
    "        filename, extension = one_file.split(\".\")\n",
    "        command = \"/opt/anaconda3/envs/python35/bin/ogr2ogr -t_srs EPSG:4326 -s_srs EPSG:28992 {}{} {}{}\".format(ec2_output_path,one_file,ec2_process2_path,one_file)\n",
    "        print(command)\n",
    "        response = subprocess.check_output(command,shell=True)"
   ]
  },
  {
   "cell_type": "code",
   "execution_count": null,
   "metadata": {},
   "outputs": [],
   "source": [
    "!gsutil -m cp {ec2_output_path}* {GCS_OUTPUT_PATH}"
   ]
  },
  {
   "cell_type": "code",
   "execution_count": null,
   "metadata": {},
   "outputs": [],
   "source": [
    "end = datetime.datetime.now()\n",
    "elapsed = end - start\n",
    "print(elapsed)"
   ]
  },
  {
   "cell_type": "code",
   "execution_count": null,
   "metadata": {
    "collapsed": true
   },
   "outputs": [],
   "source": []
  }
 ],
 "metadata": {
  "kernelspec": {
   "display_name": "Python 35",
   "language": "python",
   "name": "python35"
  },
  "language_info": {
   "codemirror_mode": {
    "name": "ipython",
    "version": 3
   },
   "file_extension": ".py",
   "mimetype": "text/x-python",
   "name": "python",
   "nbconvert_exporter": "python",
   "pygments_lexer": "ipython3",
   "version": "3.5.4"
  }
 },
 "nbformat": 4,
 "nbformat_minor": 2
}
