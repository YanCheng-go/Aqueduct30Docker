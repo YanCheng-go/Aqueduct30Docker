{
 "cells": [
  {
   "cell_type": "code",
   "execution_count": 1,
   "metadata": {},
   "outputs": [],
   "source": [
    "\"\"\" \n",
    "Steps\n",
    "1. Download datasets\n",
    "1. Unzip\n",
    "1. Convert to shapefile\n",
    "1. Upload to GCS\n",
    "1. Ingest into ee.\n",
    "\n",
    "\n",
    "URL: http://www.nationaalgeoregister.nl/geonetwork/srv/dut/catalog.search#/metadata/%7B25943e6e-bb27-4b7a-b240-150ffeaa582e%7D\n",
    "\n",
    "Todo: \n",
    "\n",
    "earthengine currently only supports shapefile. Rewrite for geopackage / geosjon in future. \n",
    "\n",
    "\n",
    "\"\"\"\n",
    "\n",
    "\n",
    "SCRIPT_NAME = \"Y2018M08D13_RH_Process_Basisregistratie_Gewaspercelen_V01\"\n",
    "OUTPUT_VERSION = 2\n",
    "\n",
    "GCS_OUTPUT_PATH = \"gs://aqueduct30_v01/{}/output_V{:02.0f}/\".format(SCRIPT_NAME,OUTPUT_VERSION)\n",
    "\n",
    "ec2_input_path = \"/volumes/data/{}/input_V{:02.0f}/\".format(SCRIPT_NAME,OUTPUT_VERSION)\n",
    "ec2_process_path = \"/volumes/data/{}/process_V{:02.0f}/\".format(SCRIPT_NAME,OUTPUT_VERSION)\n",
    "ec2_output_path = \"/volumes/data/{}/output_V{:02.0f}/\".format(SCRIPT_NAME,OUTPUT_VERSION)\n",
    "\n"
   ]
  },
  {
   "cell_type": "code",
   "execution_count": 2,
   "metadata": {},
   "outputs": [
    {
     "name": "stdout",
     "output_type": "stream",
     "text": [
      "Y2018M08D13 UTC 14:28\n"
     ]
    },
    {
     "data": {
      "text/plain": [
       "'3.5.4 |Anaconda, Inc.| (default, Nov 20 2017, 18:44:38) \\n[GCC 7.2.0]'"
      ]
     },
     "execution_count": 2,
     "metadata": {},
     "output_type": "execute_result"
    }
   ],
   "source": [
    "import time, datetime, sys\n",
    "dateString = time.strftime(\"Y%YM%mD%d\")\n",
    "timeString = time.strftime(\"UTC %H:%M\")\n",
    "start = datetime.datetime.now()\n",
    "print(dateString,timeString)\n",
    "sys.version"
   ]
  },
  {
   "cell_type": "code",
   "execution_count": 3,
   "metadata": {
    "collapsed": true
   },
   "outputs": [],
   "source": [
    "# Imports\n",
    "import os\n",
    "import subprocess"
   ]
  },
  {
   "cell_type": "code",
   "execution_count": 4,
   "metadata": {},
   "outputs": [
    {
     "name": "stdout",
     "output_type": "stream",
     "text": [
      "rm: cannot remove '/volumes/data/Y2018M08D13_RH_Process_Basisregistratie_Gewaspercelen_V01/output_V02/': No such file or directory\n",
      "rm: cannot remove '/volumes/data/Y2018M08D13_RH_Process_Basisregistratie_Gewaspercelen_V01/process_V02/': No such file or directory\n",
      "rm: cannot remove '/volumes/data/Y2018M08D13_RH_Process_Basisregistratie_Gewaspercelen_V01/input_V02/': No such file or directory\n"
     ]
    }
   ],
   "source": [
    "!rm -r {ec2_output_path}\n",
    "!rm -r {ec2_process_path}\n",
    "!rm -r {ec2_input_path}"
   ]
  },
  {
   "cell_type": "code",
   "execution_count": 5,
   "metadata": {
    "collapsed": true
   },
   "outputs": [],
   "source": [
    "!mkdir -p {ec2_output_path}\n",
    "!mkdir -p {ec2_process_path}\n",
    "!mkdir -p {ec2_input_path}"
   ]
  },
  {
   "cell_type": "code",
   "execution_count": 6,
   "metadata": {},
   "outputs": [],
   "source": [
    "urls = {}\n",
    "for year in range(2009,2018):\n",
    "    urls[year] = (\"http://geodata.nationaalgeoregister.nl/brpgewaspercelen/extract/{}-definitief/brpgewaspercelen.zip\".format(year))\n",
    "\n",
    "# url for 2018 is slightly different\n",
    "urls[2018] = (\"http://geodata.nationaalgeoregister.nl/brpgewaspercelen/extract/2018-concept/brpgewaspercelen.zip.zip\")\n",
    "    "
   ]
  },
  {
   "cell_type": "code",
   "execution_count": 7,
   "metadata": {},
   "outputs": [
    {
     "name": "stdout",
     "output_type": "stream",
     "text": [
      "wget -O /volumes/data/Y2018M08D13_RH_Process_Basisregistratie_Gewaspercelen_V01/input_V02/BRP2016.zip 'http://geodata.nationaalgeoregister.nl/brpgewaspercelen/extract/2016-definitief/brpgewaspercelen.zip'\n",
      "wget -O /volumes/data/Y2018M08D13_RH_Process_Basisregistratie_Gewaspercelen_V01/input_V02/BRP2017.zip 'http://geodata.nationaalgeoregister.nl/brpgewaspercelen/extract/2017-definitief/brpgewaspercelen.zip'\n",
      "wget -O /volumes/data/Y2018M08D13_RH_Process_Basisregistratie_Gewaspercelen_V01/input_V02/BRP2018.zip 'http://geodata.nationaalgeoregister.nl/brpgewaspercelen/extract/2018-concept/brpgewaspercelen.zip.zip'\n",
      "wget -O /volumes/data/Y2018M08D13_RH_Process_Basisregistratie_Gewaspercelen_V01/input_V02/BRP2009.zip 'http://geodata.nationaalgeoregister.nl/brpgewaspercelen/extract/2009-definitief/brpgewaspercelen.zip'\n",
      "wget -O /volumes/data/Y2018M08D13_RH_Process_Basisregistratie_Gewaspercelen_V01/input_V02/BRP2010.zip 'http://geodata.nationaalgeoregister.nl/brpgewaspercelen/extract/2010-definitief/brpgewaspercelen.zip'\n",
      "wget -O /volumes/data/Y2018M08D13_RH_Process_Basisregistratie_Gewaspercelen_V01/input_V02/BRP2011.zip 'http://geodata.nationaalgeoregister.nl/brpgewaspercelen/extract/2011-definitief/brpgewaspercelen.zip'\n",
      "wget -O /volumes/data/Y2018M08D13_RH_Process_Basisregistratie_Gewaspercelen_V01/input_V02/BRP2012.zip 'http://geodata.nationaalgeoregister.nl/brpgewaspercelen/extract/2012-definitief/brpgewaspercelen.zip'\n",
      "wget -O /volumes/data/Y2018M08D13_RH_Process_Basisregistratie_Gewaspercelen_V01/input_V02/BRP2013.zip 'http://geodata.nationaalgeoregister.nl/brpgewaspercelen/extract/2013-definitief/brpgewaspercelen.zip'\n",
      "wget -O /volumes/data/Y2018M08D13_RH_Process_Basisregistratie_Gewaspercelen_V01/input_V02/BRP2014.zip 'http://geodata.nationaalgeoregister.nl/brpgewaspercelen/extract/2014-definitief/brpgewaspercelen.zip'\n",
      "wget -O /volumes/data/Y2018M08D13_RH_Process_Basisregistratie_Gewaspercelen_V01/input_V02/BRP2015.zip 'http://geodata.nationaalgeoregister.nl/brpgewaspercelen/extract/2015-definitief/brpgewaspercelen.zip'\n"
     ]
    }
   ],
   "source": [
    "for year, url in urls.items():\n",
    "    output_file_path = ec2_input_path + \"BRP{}.zip\".format(year)\n",
    "    command = \"wget -O {} '{}'\".format(output_file_path,url)\n",
    "    print(command)\n",
    "    response = subprocess.check_output(command,shell=True)\n",
    "    "
   ]
  },
  {
   "cell_type": "code",
   "execution_count": 8,
   "metadata": {
    "collapsed": true
   },
   "outputs": [],
   "source": [
    "files = os.listdir(ec2_input_path)"
   ]
  },
  {
   "cell_type": "code",
   "execution_count": 9,
   "metadata": {},
   "outputs": [
    {
     "data": {
      "text/plain": [
       "['BRP2012.zip',\n",
       " 'BRP2010.zip',\n",
       " 'BRP2014.zip',\n",
       " 'BRP2013.zip',\n",
       " 'BRP2009.zip',\n",
       " 'BRP2018.zip',\n",
       " 'BRP2017.zip',\n",
       " 'BRP2015.zip',\n",
       " 'BRP2011.zip',\n",
       " 'BRP2016.zip']"
      ]
     },
     "execution_count": 9,
     "metadata": {},
     "output_type": "execute_result"
    }
   ],
   "source": [
    "files"
   ]
  },
  {
   "cell_type": "code",
   "execution_count": 10,
   "metadata": {},
   "outputs": [
    {
     "name": "stdout",
     "output_type": "stream",
     "text": [
      "unzip -o /volumes/data/Y2018M08D13_RH_Process_Basisregistratie_Gewaspercelen_V01/input_V02/BRP2012.zip -d /volumes/data/Y2018M08D13_RH_Process_Basisregistratie_Gewaspercelen_V01/process_V02/\n",
      "unzip -o /volumes/data/Y2018M08D13_RH_Process_Basisregistratie_Gewaspercelen_V01/input_V02/BRP2010.zip -d /volumes/data/Y2018M08D13_RH_Process_Basisregistratie_Gewaspercelen_V01/process_V02/\n",
      "unzip -o /volumes/data/Y2018M08D13_RH_Process_Basisregistratie_Gewaspercelen_V01/input_V02/BRP2014.zip -d /volumes/data/Y2018M08D13_RH_Process_Basisregistratie_Gewaspercelen_V01/process_V02/\n",
      "unzip -o /volumes/data/Y2018M08D13_RH_Process_Basisregistratie_Gewaspercelen_V01/input_V02/BRP2013.zip -d /volumes/data/Y2018M08D13_RH_Process_Basisregistratie_Gewaspercelen_V01/process_V02/\n",
      "unzip -o /volumes/data/Y2018M08D13_RH_Process_Basisregistratie_Gewaspercelen_V01/input_V02/BRP2009.zip -d /volumes/data/Y2018M08D13_RH_Process_Basisregistratie_Gewaspercelen_V01/process_V02/\n",
      "unzip -o /volumes/data/Y2018M08D13_RH_Process_Basisregistratie_Gewaspercelen_V01/input_V02/BRP2018.zip -d /volumes/data/Y2018M08D13_RH_Process_Basisregistratie_Gewaspercelen_V01/process_V02/\n",
      "unzip -o /volumes/data/Y2018M08D13_RH_Process_Basisregistratie_Gewaspercelen_V01/input_V02/BRP2017.zip -d /volumes/data/Y2018M08D13_RH_Process_Basisregistratie_Gewaspercelen_V01/process_V02/\n",
      "unzip -o /volumes/data/Y2018M08D13_RH_Process_Basisregistratie_Gewaspercelen_V01/input_V02/BRP2015.zip -d /volumes/data/Y2018M08D13_RH_Process_Basisregistratie_Gewaspercelen_V01/process_V02/\n",
      "unzip -o /volumes/data/Y2018M08D13_RH_Process_Basisregistratie_Gewaspercelen_V01/input_V02/BRP2011.zip -d /volumes/data/Y2018M08D13_RH_Process_Basisregistratie_Gewaspercelen_V01/process_V02/\n",
      "unzip -o /volumes/data/Y2018M08D13_RH_Process_Basisregistratie_Gewaspercelen_V01/input_V02/BRP2016.zip -d /volumes/data/Y2018M08D13_RH_Process_Basisregistratie_Gewaspercelen_V01/process_V02/\n"
     ]
    }
   ],
   "source": [
    "for one_file in files:\n",
    "    command = \"unzip -o {}{} -d {}\".format(ec2_input_path,one_file,ec2_process_path)\n",
    "    print(command)\n",
    "    response = subprocess.check_output(command,shell=True)"
   ]
  },
  {
   "cell_type": "code",
   "execution_count": 11,
   "metadata": {},
   "outputs": [],
   "source": [
    "# Inconsistent file name, rename 2014 file\n",
    "\n",
    "!mv {ec2_process_path}BRP_Gewaspercelen_definitief.gdb {ec2_process_path}BRP_Gewaspercelen_2014.gdb"
   ]
  },
  {
   "cell_type": "code",
   "execution_count": 12,
   "metadata": {
    "collapsed": true
   },
   "outputs": [],
   "source": [
    "gdb_files = os.listdir(ec2_process_path)"
   ]
  },
  {
   "cell_type": "code",
   "execution_count": 13,
   "metadata": {},
   "outputs": [
    {
     "name": "stdout",
     "output_type": "stream",
     "text": [
      "/opt/anaconda3/envs/python35/bin/ogr2ogr -f 'ESRI Shapefile' /volumes/data/Y2018M08D13_RH_Process_Basisregistratie_Gewaspercelen_V01/output_V02/BRP_Gewaspercelen_2015.shp /volumes/data/Y2018M08D13_RH_Process_Basisregistratie_Gewaspercelen_V01/process_V02/BRP_Gewaspercelen_2015.gdb\n",
      "/opt/anaconda3/envs/python35/bin/ogr2ogr -f 'ESRI Shapefile' /volumes/data/Y2018M08D13_RH_Process_Basisregistratie_Gewaspercelen_V01/output_V02/BRP_Gewaspercelen_2009.shp /volumes/data/Y2018M08D13_RH_Process_Basisregistratie_Gewaspercelen_V01/process_V02/BRP_Gewaspercelen_2009.gdb\n",
      "/opt/anaconda3/envs/python35/bin/ogr2ogr -f 'ESRI Shapefile' /volumes/data/Y2018M08D13_RH_Process_Basisregistratie_Gewaspercelen_V01/output_V02/BRP_Gewaspercelen_2013.shp /volumes/data/Y2018M08D13_RH_Process_Basisregistratie_Gewaspercelen_V01/process_V02/BRP_Gewaspercelen_2013.gdb\n",
      "/opt/anaconda3/envs/python35/bin/ogr2ogr -f 'ESRI Shapefile' /volumes/data/Y2018M08D13_RH_Process_Basisregistratie_Gewaspercelen_V01/output_V02/BRP_Gewaspercelen_2014.shp /volumes/data/Y2018M08D13_RH_Process_Basisregistratie_Gewaspercelen_V01/process_V02/BRP_Gewaspercelen_2014.gdb\n",
      "/opt/anaconda3/envs/python35/bin/ogr2ogr -f 'ESRI Shapefile' /volumes/data/Y2018M08D13_RH_Process_Basisregistratie_Gewaspercelen_V01/output_V02/BRP_Gewaspercelen_2011.shp /volumes/data/Y2018M08D13_RH_Process_Basisregistratie_Gewaspercelen_V01/process_V02/BRP_Gewaspercelen_2011.gdb\n",
      "/opt/anaconda3/envs/python35/bin/ogr2ogr -f 'ESRI Shapefile' /volumes/data/Y2018M08D13_RH_Process_Basisregistratie_Gewaspercelen_V01/output_V02/BRP_Gewaspercelen_2017.shp /volumes/data/Y2018M08D13_RH_Process_Basisregistratie_Gewaspercelen_V01/process_V02/BRP_Gewaspercelen_2017.gdb\n",
      "/opt/anaconda3/envs/python35/bin/ogr2ogr -f 'ESRI Shapefile' /volumes/data/Y2018M08D13_RH_Process_Basisregistratie_Gewaspercelen_V01/output_V02/BRP_Gewaspercelen_2012.shp /volumes/data/Y2018M08D13_RH_Process_Basisregistratie_Gewaspercelen_V01/process_V02/BRP_Gewaspercelen_2012.gdb\n",
      "/opt/anaconda3/envs/python35/bin/ogr2ogr -f 'ESRI Shapefile' /volumes/data/Y2018M08D13_RH_Process_Basisregistratie_Gewaspercelen_V01/output_V02/BRP_Gewaspercelen_2018_concept.shp /volumes/data/Y2018M08D13_RH_Process_Basisregistratie_Gewaspercelen_V01/process_V02/BRP_Gewaspercelen_2018_concept.gdb\n",
      "/opt/anaconda3/envs/python35/bin/ogr2ogr -f 'ESRI Shapefile' /volumes/data/Y2018M08D13_RH_Process_Basisregistratie_Gewaspercelen_V01/output_V02/BRP_Gewaspercelen_2010.shp /volumes/data/Y2018M08D13_RH_Process_Basisregistratie_Gewaspercelen_V01/process_V02/BRP_Gewaspercelen_2010.gdb\n",
      "/opt/anaconda3/envs/python35/bin/ogr2ogr -f 'ESRI Shapefile' /volumes/data/Y2018M08D13_RH_Process_Basisregistratie_Gewaspercelen_V01/output_V02/BRP_Gewaspercelen_2016.shp /volumes/data/Y2018M08D13_RH_Process_Basisregistratie_Gewaspercelen_V01/process_V02/BRP_Gewaspercelen_2016.gdb\n"
     ]
    }
   ],
   "source": [
    "for gdb_file in gdb_files:\n",
    "    if gdb_file.endswith('.gdb'):\n",
    "        filename, extension = gdb_file.split(\".\")\n",
    "        command = \"/opt/anaconda3/envs/python35/bin/ogr2ogr -f 'ESRI Shapefile' {}{}.shp {}{}\".format(ec2_output_path,filename,ec2_process_path,gdb_file)\n",
    "        print(command)\n",
    "        response = subprocess.check_output(command,shell=True)"
   ]
  },
  {
   "cell_type": "code",
   "execution_count": 14,
   "metadata": {},
   "outputs": [
    {
     "name": "stdout",
     "output_type": "stream",
     "text": [
      "Copying file:///volumes/data/Y2018M08D13_RH_Process_Basisregistratie_Gewaspercelen_V01/output_V02//BRP_Gewaspercelen_2009.dbf [Content-Type=application/octet-stream]...\n",
      "Copying file:///volumes/data/Y2018M08D13_RH_Process_Basisregistratie_Gewaspercelen_V01/output_V02//BRP_Gewaspercelen_2009.shp [Content-Type=application/x-qgis]...\n",
      "Copying file:///volumes/data/Y2018M08D13_RH_Process_Basisregistratie_Gewaspercelen_V01/output_V02//BRP_Gewaspercelen_2009.prj [Content-Type=application/octet-stream]...\n",
      "Copying file:///volumes/data/Y2018M08D13_RH_Process_Basisregistratie_Gewaspercelen_V01/output_V02//BRP_Gewaspercelen_2010.dbf [Content-Type=application/octet-stream]...\n",
      "Copying file:///volumes/data/Y2018M08D13_RH_Process_Basisregistratie_Gewaspercelen_V01/output_V02//BRP_Gewaspercelen_2009.shx [Content-Type=application/x-qgis]...\n",
      "==> NOTE: You are uploading one or more large file(s), which would run\n",
      "significantly faster if you enable parallel composite uploads. This\n",
      "feature can be enabled by editing the\n",
      "\"parallel_composite_upload_threshold\" value in your .boto\n",
      "configuration file. However, note that if you do this large files will\n",
      "be uploaded as `composite objects\n",
      "<https://cloud.google.com/storage/docs/composite-objects>`_,which\n",
      "means that any user who downloads such objects will need to have a\n",
      "compiled crcmod installed (see \"gsutil help crcmod\"). This is because\n",
      "without a compiled crcmod, computing checksums on composite objects is\n",
      "so slow that gsutil disables downloads of composite objects.\n",
      "\n",
      "Copying file:///volumes/data/Y2018M08D13_RH_Process_Basisregistratie_Gewaspercelen_V01/output_V02//BRP_Gewaspercelen_2010.prj [Content-Type=application/octet-stream]...\n",
      "Copying file:///volumes/data/Y2018M08D13_RH_Process_Basisregistratie_Gewaspercelen_V01/output_V02//BRP_Gewaspercelen_2010.shp [Content-Type=application/x-qgis]...\n",
      "Copying file:///volumes/data/Y2018M08D13_RH_Process_Basisregistratie_Gewaspercelen_V01/output_V02//BRP_Gewaspercelen_2010.shx [Content-Type=application/x-qgis]...\n",
      "Copying file:///volumes/data/Y2018M08D13_RH_Process_Basisregistratie_Gewaspercelen_V01/output_V02//BRP_Gewaspercelen_2011.dbf [Content-Type=application/octet-stream]...\n",
      "Copying file:///volumes/data/Y2018M08D13_RH_Process_Basisregistratie_Gewaspercelen_V01/output_V02//BRP_Gewaspercelen_2011.prj [Content-Type=application/octet-stream]...\n",
      "Copying file:///volumes/data/Y2018M08D13_RH_Process_Basisregistratie_Gewaspercelen_V01/output_V02//BRP_Gewaspercelen_2011.shp [Content-Type=application/x-qgis]...\n",
      "Copying file:///volumes/data/Y2018M08D13_RH_Process_Basisregistratie_Gewaspercelen_V01/output_V02//BRP_Gewaspercelen_2012.shx [Content-Type=application/x-qgis]...\n",
      "Copying file:///volumes/data/Y2018M08D13_RH_Process_Basisregistratie_Gewaspercelen_V01/output_V02//BRP_Gewaspercelen_2014.dbf [Content-Type=application/octet-stream]...\n",
      "Copying file:///volumes/data/Y2018M08D13_RH_Process_Basisregistratie_Gewaspercelen_V01/output_V02//BRP_Gewaspercelen_2014.prj [Content-Type=application/octet-stream]...\n",
      "Copying file:///volumes/data/Y2018M08D13_RH_Process_Basisregistratie_Gewaspercelen_V01/output_V02//BRP_Gewaspercelen_2015.prj [Content-Type=application/octet-stream]...\n",
      "Copying file:///volumes/data/Y2018M08D13_RH_Process_Basisregistratie_Gewaspercelen_V01/output_V02//BRP_Gewaspercelen_2015.shp [Content-Type=application/x-qgis]...\n",
      "Copying file:///volumes/data/Y2018M08D13_RH_Process_Basisregistratie_Gewaspercelen_V01/output_V02//BRP_Gewaspercelen_2011.shx [Content-Type=application/x-qgis]...\n",
      "Copying file:///volumes/data/Y2018M08D13_RH_Process_Basisregistratie_Gewaspercelen_V01/output_V02//BRP_Gewaspercelen_2012.dbf [Content-Type=application/octet-stream]...\n",
      "Copying file:///volumes/data/Y2018M08D13_RH_Process_Basisregistratie_Gewaspercelen_V01/output_V02//BRP_Gewaspercelen_2014.shp [Content-Type=application/x-qgis]...\n",
      "Copying file:///volumes/data/Y2018M08D13_RH_Process_Basisregistratie_Gewaspercelen_V01/output_V02//BRP_Gewaspercelen_2012.shp [Content-Type=application/x-qgis]...\n",
      "Copying file:///volumes/data/Y2018M08D13_RH_Process_Basisregistratie_Gewaspercelen_V01/output_V02//BRP_Gewaspercelen_2012.prj [Content-Type=application/octet-stream]...\n",
      "Copying file:///volumes/data/Y2018M08D13_RH_Process_Basisregistratie_Gewaspercelen_V01/output_V02//BRP_Gewaspercelen_2013.shp [Content-Type=application/x-qgis]...\n",
      "Copying file:///volumes/data/Y2018M08D13_RH_Process_Basisregistratie_Gewaspercelen_V01/output_V02//BRP_Gewaspercelen_2014.shx [Content-Type=application/x-qgis]...\n",
      "Copying file:///volumes/data/Y2018M08D13_RH_Process_Basisregistratie_Gewaspercelen_V01/output_V02//BRP_Gewaspercelen_2015.shx [Content-Type=application/x-qgis]...\n",
      "Copying file:///volumes/data/Y2018M08D13_RH_Process_Basisregistratie_Gewaspercelen_V01/output_V02//BRP_Gewaspercelen_2013.prj [Content-Type=application/octet-stream]...\n",
      "Copying file:///volumes/data/Y2018M08D13_RH_Process_Basisregistratie_Gewaspercelen_V01/output_V02//BRP_Gewaspercelen_2013.dbf [Content-Type=application/octet-stream]...\n",
      "Copying file:///volumes/data/Y2018M08D13_RH_Process_Basisregistratie_Gewaspercelen_V01/output_V02//BRP_Gewaspercelen_2013.shx [Content-Type=application/x-qgis]...\n",
      "Copying file:///volumes/data/Y2018M08D13_RH_Process_Basisregistratie_Gewaspercelen_V01/output_V02//BRP_Gewaspercelen_2016.dbf [Content-Type=application/octet-stream]...\n",
      "Copying file:///volumes/data/Y2018M08D13_RH_Process_Basisregistratie_Gewaspercelen_V01/output_V02//BRP_Gewaspercelen_2016.prj [Content-Type=application/octet-stream]...\n",
      "Copying file:///volumes/data/Y2018M08D13_RH_Process_Basisregistratie_Gewaspercelen_V01/output_V02//BRP_Gewaspercelen_2015.dbf [Content-Type=application/octet-stream]...\n",
      "Copying file:///volumes/data/Y2018M08D13_RH_Process_Basisregistratie_Gewaspercelen_V01/output_V02//BRP_Gewaspercelen_2018_concept.prj [Content-Type=application/octet-stream]...\n",
      "Copying file:///volumes/data/Y2018M08D13_RH_Process_Basisregistratie_Gewaspercelen_V01/output_V02//BRP_Gewaspercelen_2017.dbf [Content-Type=application/octet-stream]...\n",
      "Copying file:///volumes/data/Y2018M08D13_RH_Process_Basisregistratie_Gewaspercelen_V01/output_V02//BRP_Gewaspercelen_2018_concept.dbf [Content-Type=application/octet-stream]...\n",
      "Copying file:///volumes/data/Y2018M08D13_RH_Process_Basisregistratie_Gewaspercelen_V01/output_V02//BRP_Gewaspercelen_2018_concept.shp [Content-Type=application/x-qgis]...\n",
      "Copying file:///volumes/data/Y2018M08D13_RH_Process_Basisregistratie_Gewaspercelen_V01/output_V02//BRP_Gewaspercelen_2017.prj [Content-Type=application/octet-stream]...\n",
      "Copying file:///volumes/data/Y2018M08D13_RH_Process_Basisregistratie_Gewaspercelen_V01/output_V02//BRP_Gewaspercelen_2017.shx [Content-Type=application/x-qgis]...\n",
      "Copying file:///volumes/data/Y2018M08D13_RH_Process_Basisregistratie_Gewaspercelen_V01/output_V02//BRP_Gewaspercelen_2016.shp [Content-Type=application/x-qgis]...\n",
      "Copying file:///volumes/data/Y2018M08D13_RH_Process_Basisregistratie_Gewaspercelen_V01/output_V02//BRP_Gewaspercelen_2018_concept.shx [Content-Type=application/x-qgis]...\n",
      "Copying file:///volumes/data/Y2018M08D13_RH_Process_Basisregistratie_Gewaspercelen_V01/output_V02//BRP_Gewaspercelen_2016.shx [Content-Type=application/x-qgis]...\n",
      "Copying file:///volumes/data/Y2018M08D13_RH_Process_Basisregistratie_Gewaspercelen_V01/output_V02//BRP_Gewaspercelen_2017.shp [Content-Type=application/x-qgis]...\n",
      "- [40/40 files][  5.0 GiB/  5.0 GiB] 100% Done 246.2 MiB/s ETA 00:00:00         \n",
      "Operation completed over 40 objects/5.0 GiB.                                     \n"
     ]
    }
   ],
   "source": [
    "!gsutil -m cp {ec2_output_path}/* {GCS_OUTPUT_PATH}"
   ]
  },
  {
   "cell_type": "code",
   "execution_count": 15,
   "metadata": {},
   "outputs": [
    {
     "name": "stdout",
     "output_type": "stream",
     "text": [
      "0:04:04.062435\n"
     ]
    }
   ],
   "source": [
    "end = datetime.datetime.now()\n",
    "elapsed = end - start\n",
    "print(elapsed)"
   ]
  }
 ],
 "metadata": {
  "kernelspec": {
   "display_name": "Python 35",
   "language": "python",
   "name": "python35"
  },
  "language_info": {
   "codemirror_mode": {
    "name": "ipython",
    "version": 3
   },
   "file_extension": ".py",
   "mimetype": "text/x-python",
   "name": "python",
   "nbconvert_exporter": "python",
   "pygments_lexer": "ipython3",
   "version": "3.5.4"
  }
 },
 "nbformat": 4,
 "nbformat_minor": 2
}
