{
 "cells": [
  {
   "cell_type": "code",
   "execution_count": 1,
   "metadata": {
    "collapsed": true
   },
   "outputs": [],
   "source": [
    "\"\"\" Server side ftw\n",
    "\n",
    "\n",
    "\"\"\"\n",
    "\n",
    "SCRIPT_NAME = \"Y2018M08D14_RH_Postprocess_BRP_V01\"\n",
    "OUTPUT_VERSION = 2\n",
    "\n",
    "EE_INPUT_PATH = \"users/rutgerhofste/Y2018M08D13_RH_Ingest_SHP_Earthengine_V01/output_V03/\"\n",
    "EE_OUTPUT_PATH = \"users/rutgerhofste/\"\n",
    "\n",
    "EXTRA_PROPERTIES = {\"script_used\":SCRIPT_NAME,\n",
    "                    \"download_date\":\"2018-08-13\",\n",
    "                    \"download_url\":\"http://www.nationaalgeoregister.nl/geonetwork/srv/dut/catalog.search#/metadata/%7B25943e6e-bb27-4b7a-b240-150ffeaa582e%7D?tab=relations\"}"
   ]
  },
  {
   "cell_type": "code",
   "execution_count": 2,
   "metadata": {
    "collapsed": true
   },
   "outputs": [],
   "source": [
    "import ee\n",
    "ee.Initialize()"
   ]
  },
  {
   "cell_type": "code",
   "execution_count": 3,
   "metadata": {
    "collapsed": true
   },
   "outputs": [],
   "source": [
    "def fix_data_type(feature):\n",
    "    # fixes required due to shapefile limitations\n",
    "    \n",
    "    feature_out = ee.Feature(feature)\n",
    "    feature_out = feature_out.set(\"CAT_GEWASCATEGORIE\",feature.get(\"CAT_GEWASC\"))\n",
    "    feature_out = feature_out.set(\"GWS_GEWAS\",feature.get(\"GWS_GEWAS\"))\n",
    "    feature_out = feature_out.set(\"GWS_GEWASCODE\",ee.Number.parse(ee.String(feature.get(\"GWS_GEWASC\"))))\n",
    "    feature_out = feature_out.set(\"GEOMETRIE_Length\",feature.get(\"GEOMETRIE_\"))\n",
    "    feature_out = feature_out.set(\"GEOMETRIE_Area\",feature.get(\"GEOMETRI_1\"))\n",
    "    \n",
    "    # additional properties\n",
    "    feature_out = feature_out.set(\"year\",year)\n",
    "    \n",
    "    # filter \n",
    "    feature_out2 = feature_out.select([\"CAT_GEWASCATEGORIE\",\"GWS_GEWAS\",\"GWS_GEWASCODE\",\"GEOMETRIE_Length\",\"GEOMETRIE_Area\",\"year\"])\n",
    "    \n",
    "    return ee.Feature(feature_out2)"
   ]
  },
  {
   "cell_type": "code",
   "execution_count": 4,
   "metadata": {
    "collapsed": true
   },
   "outputs": [],
   "source": [
    "filenames = {}\n",
    "fc_merge = ee.FeatureCollection(ee.Feature(None,{}))\n",
    "for year in range(2009,2019):\n",
    "    if year != 2018:\n",
    "        filename = \"BRP_Gewaspercelen_{:04.0f}\".format(year)\n",
    "    elif year == 2018:\n",
    "        filename = \"BRP_Gewaspercelen_{:04.0f}_concept\".format(year)\n",
    "    fc = ee.FeatureCollection(EE_INPUT_PATH+filename)\n",
    "    fc_out = ee.FeatureCollection(fc.map(fix_data_type))\n",
    "    fc_merge = fc_merge.merge(fc_out)"
   ]
  },
  {
   "cell_type": "code",
   "execution_count": 5,
   "metadata": {
    "collapsed": true
   },
   "outputs": [],
   "source": [
    "fc_merge = ee.FeatureCollection(fc_merge.setMulti(EXTRA_PROPERTIES))"
   ]
  },
  {
   "cell_type": "code",
   "execution_count": 6,
   "metadata": {},
   "outputs": [
    {
     "data": {
      "text/plain": [
       "7811784"
      ]
     },
     "execution_count": 6,
     "metadata": {},
     "output_type": "execute_result"
    }
   ],
   "source": [
    "fc_merge.size().getInfo()"
   ]
  },
  {
   "cell_type": "code",
   "execution_count": 7,
   "metadata": {
    "collapsed": true
   },
   "outputs": [],
   "source": [
    "task = ee.batch.Export.table.toAsset(fc_merge,\n",
    "                                     description=\"Y2018M08D14_RH_Postprocess_BRP_V01\",\n",
    "                                     assetId = \"{}Basisregistratie_Gewaspercelen_V05\".format(EE_OUTPUT_PATH))"
   ]
  },
  {
   "cell_type": "code",
   "execution_count": 8,
   "metadata": {
    "collapsed": true
   },
   "outputs": [],
   "source": [
    "task.start()"
   ]
  },
  {
   "cell_type": "code",
   "execution_count": null,
   "metadata": {
    "collapsed": true
   },
   "outputs": [],
   "source": []
  }
 ],
 "metadata": {
  "kernelspec": {
   "display_name": "Python 35",
   "language": "python",
   "name": "python35"
  },
  "language_info": {
   "codemirror_mode": {
    "name": "ipython",
    "version": 3
   },
   "file_extension": ".py",
   "mimetype": "text/x-python",
   "name": "python",
   "nbconvert_exporter": "python",
   "pygments_lexer": "ipython3",
   "version": "3.5.4"
  }
 },
 "nbformat": 4,
 "nbformat_minor": 2
}
