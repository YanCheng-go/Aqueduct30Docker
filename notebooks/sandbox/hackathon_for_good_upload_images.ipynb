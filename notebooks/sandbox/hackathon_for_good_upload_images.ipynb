{
 "cells": [
  {
   "cell_type": "code",
   "execution_count": 1,
   "metadata": {
    "collapsed": true
   },
   "outputs": [],
   "source": [
    "# Ingests images for hackathon for good"
   ]
  },
  {
   "cell_type": "code",
   "execution_count": 51,
   "metadata": {},
   "outputs": [],
   "source": [
    "GCS_INPUT_PATH = \"gs://hackathon_for_good_rh_01/RC_Challenge_1/1/After\"\n",
    "GCS_INPUT_PATH2 = \"gs://hackathon_for_good_rh_01/RC_Challenge_1/2\"\n",
    "\n",
    "\n",
    "SCRIPT_NAME = \"hackathon_for_good_upload_images\"\n",
    "OUTPUT_VERSION = 1\n",
    "\n",
    "ec2_output_path = \"/volumes/data/{}/output_V{:02.0f}\".format(SCRIPT_NAME,OUTPUT_VERSION)\n",
    "ec2_output_path2 = \"/volumes/data/{}/output_V{:02.0f}2\".format(SCRIPT_NAME,OUTPUT_VERSION)\n",
    "\n"
   ]
  },
  {
   "cell_type": "code",
   "execution_count": 9,
   "metadata": {},
   "outputs": [],
   "source": [
    "!rm -r {ec2_output_path}\n",
    "!mkdir -p {ec2_output_path}"
   ]
  },
  {
   "cell_type": "code",
   "execution_count": 10,
   "metadata": {},
   "outputs": [
    {
     "name": "stdout",
     "output_type": "stream",
     "text": [
      "Copying gs://hackathon_for_good_rh_01/RC_Challenge_1/1/After/NLRC_12917_Cole.tif...\n",
      "Copying gs://hackathon_for_good_rh_01/RC_Challenge_1/1/After/NLRC_14917_Dr.tif...\n",
      "Copying gs://hackathon_for_good_rh_01/RC_Challenge_1/1/After/RescUAV_11917_Lowlands.tif...\n",
      "Copying gs://hackathon_for_good_rh_01/RC_Challenge_1/1/After/RescUAV_12917_Philipsburg.tif...\n",
      "- [4 files][254.1 MiB/254.1 MiB]                                                \n",
      "==> NOTE: You are performing a sequence of gsutil operations that may\n",
      "run significantly faster if you instead use gsutil -m -o ... Please\n",
      "see the -m section under \"gsutil help options\" for further information\n",
      "about when gsutil -m can be advantageous.\n",
      "\n",
      "Copying gs://hackathon_for_good_rh_01/RC_Challenge_1/1/After/RescUAV_13917_PhilNE.tif...\n",
      "Copying gs://hackathon_for_good_rh_01/RC_Challenge_1/1/After/RescUAV_14917_PhilipsburgNW.tif...\n",
      "Copying gs://hackathon_for_good_rh_01/RC_Challenge_1/1/After/RescUAV_14917_PtBlance2.tif...\n",
      "Copying gs://hackathon_for_good_rh_01/RC_Challenge_1/1/After/RescUAV_16917_Pt.Blanche3.tif...\n",
      "Copying gs://hackathon_for_good_rh_01/RC_Challenge_1/1/After/RescUAV_17917_Dutch.tif...\n",
      "Copying gs://hackathon_for_good_rh_01/RC_Challenge_1/1/After/RescUAV_17917_Middle.tif...\n",
      "Copying gs://hackathon_for_good_rh_01/RC_Challenge_1/1/After/RescUAV_17917_Pt.Blanche.tif...\n",
      "Copying gs://hackathon_for_good_rh_01/RC_Challenge_1/1/After/RescUAV_17917_Sonesta.tif...\n",
      "Copying gs://hackathon_for_good_rh_01/RC_Challenge_1/1/After/RescUAV_18917_Belvedere.tif...\n",
      "Copying gs://hackathon_for_good_rh_01/RC_Challenge_1/1/After/RescUAV_20917_PhilipsBurgE.tif...\n",
      "Copying gs://hackathon_for_good_rh_01/RC_Challenge_1/1/After/RescUAV_21017_Beacon.tif...\n",
      "Copying gs://hackathon_for_good_rh_01/RC_Challenge_1/1/After/RescUAV_21017_BillyFolly.tif...\n",
      "Copying gs://hackathon_for_good_rh_01/RC_Challenge_1/1/After/RescUAV_21017_Simpson.tif...\n",
      "Copying gs://hackathon_for_good_rh_01/RC_Challenge_1/1/After/RescUAV_21917_Illidge.tif...\n",
      "Copying gs://hackathon_for_good_rh_01/RC_Challenge_1/1/After/RescUAV_21917_Madams.tif...\n",
      "Copying gs://hackathon_for_good_rh_01/RC_Challenge_1/1/After/RescUAV_21917_OverThePond.tif...\n",
      "Copying gs://hackathon_for_good_rh_01/RC_Challenge_1/1/After/RescUAV_21917_Pond.tif...\n",
      "Copying gs://hackathon_for_good_rh_01/RC_Challenge_1/1/After/RescUAV_22917_DutchCul.tif...\n",
      "Copying gs://hackathon_for_good_rh_01/RC_Challenge_1/1/After/RescUAV_23917_ColeHill.tif...\n",
      "Copying gs://hackathon_for_good_rh_01/RC_Challenge_1/1/After/RescUAV_23917_Cul.tif...\n",
      "Copying gs://hackathon_for_good_rh_01/RC_Challenge_1/1/After/RescUAV_24917_Ebenezer.tif...\n",
      "Copying gs://hackathon_for_good_rh_01/RC_Challenge_1/1/After/RescUAV_25917_StPetersE.tif...\n",
      "Copying gs://hackathon_for_good_rh_01/RC_Challenge_1/1/After/RescUAV_26917_StPeters.tif...\n",
      "Copying gs://hackathon_for_good_rh_01/RC_Challenge_1/1/After/RescUAV_27917_StJohns.tif...\n",
      "Copying gs://hackathon_for_good_rh_01/RC_Challenge_1/1/After/RescUAV_27917_SthReward.tif...\n",
      "Copying gs://hackathon_for_good_rh_01/RC_Challenge_1/1/After/RescUAV_28917_CayHill.tif...\n",
      "Copying gs://hackathon_for_good_rh_01/RC_Challenge_1/1/After/RescUAV_29917_Almond.tif...\n",
      "Copying gs://hackathon_for_good_rh_01/RC_Challenge_1/1/After/RescUAV_29917_CayBay.tif...\n",
      "Copying gs://hackathon_for_good_rh_01/RC_Challenge_1/1/After/RescUAV_29917_ColeE.tif...\n",
      "Copying gs://hackathon_for_good_rh_01/RC_Challenge_1/1/After/RescUAV_29917_ColeM.tif...\n",
      "Copying gs://hackathon_for_good_rh_01/RC_Challenge_1/1/After/RescUAV_29917_ColeW.tif...\n",
      "Copying gs://hackathon_for_good_rh_01/RC_Challenge_1/1/After/RescUAV_31017_MtWilliam.tif...\n",
      "| [36 files][  2.6 GiB/  2.6 GiB]   66.0 MiB/s                                  \n",
      "==> NOTE: You are performing a sequence of gsutil operations that may\n",
      "run significantly faster if you instead use gsutil -m -o ... Please\n",
      "see the -m section under \"gsutil help options\" for further information\n",
      "about when gsutil -m can be advantageous.\n",
      "\n",
      "\n",
      "Operation completed over 36 objects/2.6 GiB.                                     \n"
     ]
    }
   ],
   "source": [
    "!gsutil cp -r {GCS_INPUT_PATH}/* {ec2_output_path}/."
   ]
  },
  {
   "cell_type": "code",
   "execution_count": 47,
   "metadata": {
    "collapsed": true
   },
   "outputs": [],
   "source": [
    "import os \n",
    "import subprocess"
   ]
  },
  {
   "cell_type": "code",
   "execution_count": 93,
   "metadata": {
    "collapsed": true
   },
   "outputs": [],
   "source": [
    "files = os.listdir(ec2_output_path)"
   ]
  },
  {
   "cell_type": "code",
   "execution_count": 94,
   "metadata": {},
   "outputs": [],
   "source": [
    "commands = []\n",
    "for file in files:\n",
    "    \n",
    "    source_path = \"{}/{}\".format(GCS_INPUT_PATH,file)\n",
    "    \n",
    "   \n",
    "    file_basename = file[:-4] #remove extension\n",
    "    file_basename = file_basename.replace(\".\",\"\")\n",
    "    meta1, meta2, meta3 = file_basename.split(\"_\")\n",
    "    \n",
    "    \n",
    "    command = \"/opt/anaconda3/envs/python35/bin/earthengine upload image --asset_id='users/rutgerhofste/hackathon_for_good/after/uav/{}' --nodata_value=255 -p meta1={} -p meta2={} -p meta3={} {}\".format(file_basename,meta1,meta2,meta3,source_path) \n",
    "    commands.append(command)\n",
    "    \n",
    "    "
   ]
  },
  {
   "cell_type": "code",
   "execution_count": 95,
   "metadata": {},
   "outputs": [
    {
     "data": {
      "text/plain": [
       "36"
      ]
     },
     "execution_count": 95,
     "metadata": {},
     "output_type": "execute_result"
    }
   ],
   "source": [
    "len(commands)"
   ]
  },
  {
   "cell_type": "code",
   "execution_count": 96,
   "metadata": {},
   "outputs": [
    {
     "name": "stdout",
     "output_type": "stream",
     "text": [
      "/opt/anaconda3/envs/python35/bin/earthengine upload image --asset_id='users/rutgerhofste/hackathon_for_good/after/uav/RescUAV_24917_Ebenezer' --nodata_value=255 -p meta1=RescUAV -p meta2=24917 -p meta3=Ebenezer gs://hackathon_for_good_rh_01/RC_Challenge_1/1/After/RescUAV_24917_Ebenezer.tif\n",
      "/opt/anaconda3/envs/python35/bin/earthengine upload image --asset_id='users/rutgerhofste/hackathon_for_good/after/uav/RescUAV_29917_ColeM' --nodata_value=255 -p meta1=RescUAV -p meta2=29917 -p meta3=ColeM gs://hackathon_for_good_rh_01/RC_Challenge_1/1/After/RescUAV_29917_ColeM.tif\n",
      "/opt/anaconda3/envs/python35/bin/earthengine upload image --asset_id='users/rutgerhofste/hackathon_for_good/after/uav/NLRC_14917_Dr' --nodata_value=255 -p meta1=NLRC -p meta2=14917 -p meta3=Dr gs://hackathon_for_good_rh_01/RC_Challenge_1/1/After/NLRC_14917_Dr.tif\n",
      "/opt/anaconda3/envs/python35/bin/earthengine upload image --asset_id='users/rutgerhofste/hackathon_for_good/after/uav/RescUAV_14917_PhilipsburgNW' --nodata_value=255 -p meta1=RescUAV -p meta2=14917 -p meta3=PhilipsburgNW gs://hackathon_for_good_rh_01/RC_Challenge_1/1/After/RescUAV_14917_PhilipsburgNW.tif\n",
      "/opt/anaconda3/envs/python35/bin/earthengine upload image --asset_id='users/rutgerhofste/hackathon_for_good/after/uav/RescUAV_23917_ColeHill' --nodata_value=255 -p meta1=RescUAV -p meta2=23917 -p meta3=ColeHill gs://hackathon_for_good_rh_01/RC_Challenge_1/1/After/RescUAV_23917_ColeHill.tif\n",
      "/opt/anaconda3/envs/python35/bin/earthengine upload image --asset_id='users/rutgerhofste/hackathon_for_good/after/uav/RescUAV_18917_Belvedere' --nodata_value=255 -p meta1=RescUAV -p meta2=18917 -p meta3=Belvedere gs://hackathon_for_good_rh_01/RC_Challenge_1/1/After/RescUAV_18917_Belvedere.tif\n",
      "/opt/anaconda3/envs/python35/bin/earthengine upload image --asset_id='users/rutgerhofste/hackathon_for_good/after/uav/RescUAV_16917_PtBlanche3' --nodata_value=255 -p meta1=RescUAV -p meta2=16917 -p meta3=PtBlanche3 gs://hackathon_for_good_rh_01/RC_Challenge_1/1/After/RescUAV_16917_Pt.Blanche3.tif\n",
      "/opt/anaconda3/envs/python35/bin/earthengine upload image --asset_id='users/rutgerhofste/hackathon_for_good/after/uav/RescUAV_31017_MtWilliam' --nodata_value=255 -p meta1=RescUAV -p meta2=31017 -p meta3=MtWilliam gs://hackathon_for_good_rh_01/RC_Challenge_1/1/After/RescUAV_31017_MtWilliam.tif\n",
      "/opt/anaconda3/envs/python35/bin/earthengine upload image --asset_id='users/rutgerhofste/hackathon_for_good/after/uav/RescUAV_17917_PtBlanche' --nodata_value=255 -p meta1=RescUAV -p meta2=17917 -p meta3=PtBlanche gs://hackathon_for_good_rh_01/RC_Challenge_1/1/After/RescUAV_17917_Pt.Blanche.tif\n",
      "/opt/anaconda3/envs/python35/bin/earthengine upload image --asset_id='users/rutgerhofste/hackathon_for_good/after/uav/RescUAV_17917_Dutch' --nodata_value=255 -p meta1=RescUAV -p meta2=17917 -p meta3=Dutch gs://hackathon_for_good_rh_01/RC_Challenge_1/1/After/RescUAV_17917_Dutch.tif\n",
      "/opt/anaconda3/envs/python35/bin/earthengine upload image --asset_id='users/rutgerhofste/hackathon_for_good/after/uav/RescUAV_21917_Illidge' --nodata_value=255 -p meta1=RescUAV -p meta2=21917 -p meta3=Illidge gs://hackathon_for_good_rh_01/RC_Challenge_1/1/After/RescUAV_21917_Illidge.tif\n",
      "/opt/anaconda3/envs/python35/bin/earthengine upload image --asset_id='users/rutgerhofste/hackathon_for_good/after/uav/RescUAV_13917_PhilNE' --nodata_value=255 -p meta1=RescUAV -p meta2=13917 -p meta3=PhilNE gs://hackathon_for_good_rh_01/RC_Challenge_1/1/After/RescUAV_13917_PhilNE.tif\n",
      "/opt/anaconda3/envs/python35/bin/earthengine upload image --asset_id='users/rutgerhofste/hackathon_for_good/after/uav/RescUAV_14917_PtBlance2' --nodata_value=255 -p meta1=RescUAV -p meta2=14917 -p meta3=PtBlance2 gs://hackathon_for_good_rh_01/RC_Challenge_1/1/After/RescUAV_14917_PtBlance2.tif\n",
      "/opt/anaconda3/envs/python35/bin/earthengine upload image --asset_id='users/rutgerhofste/hackathon_for_good/after/uav/RescUAV_28917_CayHill' --nodata_value=255 -p meta1=RescUAV -p meta2=28917 -p meta3=CayHill gs://hackathon_for_good_rh_01/RC_Challenge_1/1/After/RescUAV_28917_CayHill.tif\n",
      "/opt/anaconda3/envs/python35/bin/earthengine upload image --asset_id='users/rutgerhofste/hackathon_for_good/after/uav/RescUAV_26917_StPeters' --nodata_value=255 -p meta1=RescUAV -p meta2=26917 -p meta3=StPeters gs://hackathon_for_good_rh_01/RC_Challenge_1/1/After/RescUAV_26917_StPeters.tif\n",
      "/opt/anaconda3/envs/python35/bin/earthengine upload image --asset_id='users/rutgerhofste/hackathon_for_good/after/uav/RescUAV_25917_StPetersE' --nodata_value=255 -p meta1=RescUAV -p meta2=25917 -p meta3=StPetersE gs://hackathon_for_good_rh_01/RC_Challenge_1/1/After/RescUAV_25917_StPetersE.tif\n",
      "/opt/anaconda3/envs/python35/bin/earthengine upload image --asset_id='users/rutgerhofste/hackathon_for_good/after/uav/RescUAV_21017_Beacon' --nodata_value=255 -p meta1=RescUAV -p meta2=21017 -p meta3=Beacon gs://hackathon_for_good_rh_01/RC_Challenge_1/1/After/RescUAV_21017_Beacon.tif\n",
      "/opt/anaconda3/envs/python35/bin/earthengine upload image --asset_id='users/rutgerhofste/hackathon_for_good/after/uav/RescUAV_23917_Cul' --nodata_value=255 -p meta1=RescUAV -p meta2=23917 -p meta3=Cul gs://hackathon_for_good_rh_01/RC_Challenge_1/1/After/RescUAV_23917_Cul.tif\n",
      "/opt/anaconda3/envs/python35/bin/earthengine upload image --asset_id='users/rutgerhofste/hackathon_for_good/after/uav/RescUAV_21917_Pond' --nodata_value=255 -p meta1=RescUAV -p meta2=21917 -p meta3=Pond gs://hackathon_for_good_rh_01/RC_Challenge_1/1/After/RescUAV_21917_Pond.tif\n",
      "/opt/anaconda3/envs/python35/bin/earthengine upload image --asset_id='users/rutgerhofste/hackathon_for_good/after/uav/RescUAV_11917_Lowlands' --nodata_value=255 -p meta1=RescUAV -p meta2=11917 -p meta3=Lowlands gs://hackathon_for_good_rh_01/RC_Challenge_1/1/After/RescUAV_11917_Lowlands.tif\n",
      "/opt/anaconda3/envs/python35/bin/earthengine upload image --asset_id='users/rutgerhofste/hackathon_for_good/after/uav/NLRC_12917_Cole' --nodata_value=255 -p meta1=NLRC -p meta2=12917 -p meta3=Cole gs://hackathon_for_good_rh_01/RC_Challenge_1/1/After/NLRC_12917_Cole.tif\n",
      "/opt/anaconda3/envs/python35/bin/earthengine upload image --asset_id='users/rutgerhofste/hackathon_for_good/after/uav/RescUAV_21917_Madams' --nodata_value=255 -p meta1=RescUAV -p meta2=21917 -p meta3=Madams gs://hackathon_for_good_rh_01/RC_Challenge_1/1/After/RescUAV_21917_Madams.tif\n",
      "/opt/anaconda3/envs/python35/bin/earthengine upload image --asset_id='users/rutgerhofste/hackathon_for_good/after/uav/RescUAV_12917_Philipsburg' --nodata_value=255 -p meta1=RescUAV -p meta2=12917 -p meta3=Philipsburg gs://hackathon_for_good_rh_01/RC_Challenge_1/1/After/RescUAV_12917_Philipsburg.tif\n",
      "/opt/anaconda3/envs/python35/bin/earthengine upload image --asset_id='users/rutgerhofste/hackathon_for_good/after/uav/RescUAV_21017_Simpson' --nodata_value=255 -p meta1=RescUAV -p meta2=21017 -p meta3=Simpson gs://hackathon_for_good_rh_01/RC_Challenge_1/1/After/RescUAV_21017_Simpson.tif\n",
      "/opt/anaconda3/envs/python35/bin/earthengine upload image --asset_id='users/rutgerhofste/hackathon_for_good/after/uav/RescUAV_29917_ColeW' --nodata_value=255 -p meta1=RescUAV -p meta2=29917 -p meta3=ColeW gs://hackathon_for_good_rh_01/RC_Challenge_1/1/After/RescUAV_29917_ColeW.tif\n",
      "/opt/anaconda3/envs/python35/bin/earthengine upload image --asset_id='users/rutgerhofste/hackathon_for_good/after/uav/RescUAV_27917_StJohns' --nodata_value=255 -p meta1=RescUAV -p meta2=27917 -p meta3=StJohns gs://hackathon_for_good_rh_01/RC_Challenge_1/1/After/RescUAV_27917_StJohns.tif\n",
      "/opt/anaconda3/envs/python35/bin/earthengine upload image --asset_id='users/rutgerhofste/hackathon_for_good/after/uav/RescUAV_21017_BillyFolly' --nodata_value=255 -p meta1=RescUAV -p meta2=21017 -p meta3=BillyFolly gs://hackathon_for_good_rh_01/RC_Challenge_1/1/After/RescUAV_21017_BillyFolly.tif\n",
      "/opt/anaconda3/envs/python35/bin/earthengine upload image --asset_id='users/rutgerhofste/hackathon_for_good/after/uav/RescUAV_17917_Sonesta' --nodata_value=255 -p meta1=RescUAV -p meta2=17917 -p meta3=Sonesta gs://hackathon_for_good_rh_01/RC_Challenge_1/1/After/RescUAV_17917_Sonesta.tif\n",
      "/opt/anaconda3/envs/python35/bin/earthengine upload image --asset_id='users/rutgerhofste/hackathon_for_good/after/uav/RescUAV_27917_SthReward' --nodata_value=255 -p meta1=RescUAV -p meta2=27917 -p meta3=SthReward gs://hackathon_for_good_rh_01/RC_Challenge_1/1/After/RescUAV_27917_SthReward.tif\n"
     ]
    },
    {
     "name": "stdout",
     "output_type": "stream",
     "text": [
      "/opt/anaconda3/envs/python35/bin/earthengine upload image --asset_id='users/rutgerhofste/hackathon_for_good/after/uav/RescUAV_20917_PhilipsBurgE' --nodata_value=255 -p meta1=RescUAV -p meta2=20917 -p meta3=PhilipsBurgE gs://hackathon_for_good_rh_01/RC_Challenge_1/1/After/RescUAV_20917_PhilipsBurgE.tif\n",
      "/opt/anaconda3/envs/python35/bin/earthengine upload image --asset_id='users/rutgerhofste/hackathon_for_good/after/uav/RescUAV_21917_OverThePond' --nodata_value=255 -p meta1=RescUAV -p meta2=21917 -p meta3=OverThePond gs://hackathon_for_good_rh_01/RC_Challenge_1/1/After/RescUAV_21917_OverThePond.tif\n",
      "/opt/anaconda3/envs/python35/bin/earthengine upload image --asset_id='users/rutgerhofste/hackathon_for_good/after/uav/RescUAV_29917_ColeE' --nodata_value=255 -p meta1=RescUAV -p meta2=29917 -p meta3=ColeE gs://hackathon_for_good_rh_01/RC_Challenge_1/1/After/RescUAV_29917_ColeE.tif\n",
      "/opt/anaconda3/envs/python35/bin/earthengine upload image --asset_id='users/rutgerhofste/hackathon_for_good/after/uav/RescUAV_17917_Middle' --nodata_value=255 -p meta1=RescUAV -p meta2=17917 -p meta3=Middle gs://hackathon_for_good_rh_01/RC_Challenge_1/1/After/RescUAV_17917_Middle.tif\n",
      "/opt/anaconda3/envs/python35/bin/earthengine upload image --asset_id='users/rutgerhofste/hackathon_for_good/after/uav/RescUAV_29917_Almond' --nodata_value=255 -p meta1=RescUAV -p meta2=29917 -p meta3=Almond gs://hackathon_for_good_rh_01/RC_Challenge_1/1/After/RescUAV_29917_Almond.tif\n",
      "/opt/anaconda3/envs/python35/bin/earthengine upload image --asset_id='users/rutgerhofste/hackathon_for_good/after/uav/RescUAV_29917_CayBay' --nodata_value=255 -p meta1=RescUAV -p meta2=29917 -p meta3=CayBay gs://hackathon_for_good_rh_01/RC_Challenge_1/1/After/RescUAV_29917_CayBay.tif\n",
      "/opt/anaconda3/envs/python35/bin/earthengine upload image --asset_id='users/rutgerhofste/hackathon_for_good/after/uav/RescUAV_22917_DutchCul' --nodata_value=255 -p meta1=RescUAV -p meta2=22917 -p meta3=DutchCul gs://hackathon_for_good_rh_01/RC_Challenge_1/1/After/RescUAV_22917_DutchCul.tif\n"
     ]
    }
   ],
   "source": [
    "for command in commands:\n",
    "    print(command)\n",
    "    subprocess.check_output(command,shell=True)"
   ]
  },
  {
   "cell_type": "code",
   "execution_count": 52,
   "metadata": {},
   "outputs": [
    {
     "name": "stdout",
     "output_type": "stream",
     "text": [
      "rm: cannot remove '/volumes/data/hackathon_for_good_upload_images/output_V012': No such file or directory\r\n"
     ]
    }
   ],
   "source": [
    "!rm -r {ec2_output_path2}\n",
    "!mkdir -p {ec2_output_path2}"
   ]
  },
  {
   "cell_type": "code",
   "execution_count": 53,
   "metadata": {},
   "outputs": [
    {
     "name": "stdout",
     "output_type": "stream",
     "text": [
      "Copying gs://hackathon_for_good_rh_01/RC_Challenge_1/2/H_sat_histmat_cell_0.tif...\n",
      "Copying gs://hackathon_for_good_rh_01/RC_Challenge_1/2/H_sat_histmat_cell_1.tif...\n",
      "Copying gs://hackathon_for_good_rh_01/RC_Challenge_1/2/H_sat_histmat_cell_10.tif...\n",
      "Copying gs://hackathon_for_good_rh_01/RC_Challenge_1/2/H_sat_histmat_cell_11.tif...\n",
      "/ [4 files][303.1 MiB/303.1 MiB]                                                \n",
      "==> NOTE: You are performing a sequence of gsutil operations that may\n",
      "run significantly faster if you instead use gsutil -m -o ... Please\n",
      "see the -m section under \"gsutil help options\" for further information\n",
      "about when gsutil -m can be advantageous.\n",
      "\n",
      "Copying gs://hackathon_for_good_rh_01/RC_Challenge_1/2/H_sat_histmat_cell_12.tif...\n",
      "Copying gs://hackathon_for_good_rh_01/RC_Challenge_1/2/H_sat_histmat_cell_13.tif...\n",
      "Copying gs://hackathon_for_good_rh_01/RC_Challenge_1/2/H_sat_histmat_cell_14.tif...\n",
      "Copying gs://hackathon_for_good_rh_01/RC_Challenge_1/2/H_sat_histmat_cell_15.tif...\n",
      "Copying gs://hackathon_for_good_rh_01/RC_Challenge_1/2/H_sat_histmat_cell_16.tif...\n",
      "Copying gs://hackathon_for_good_rh_01/RC_Challenge_1/2/H_sat_histmat_cell_17.tif...\n",
      "Copying gs://hackathon_for_good_rh_01/RC_Challenge_1/2/H_sat_histmat_cell_18.tif...\n",
      "Copying gs://hackathon_for_good_rh_01/RC_Challenge_1/2/H_sat_histmat_cell_19.tif...\n",
      "Copying gs://hackathon_for_good_rh_01/RC_Challenge_1/2/H_sat_histmat_cell_2.tif...\n",
      "Copying gs://hackathon_for_good_rh_01/RC_Challenge_1/2/H_sat_histmat_cell_20.tif...\n",
      "Copying gs://hackathon_for_good_rh_01/RC_Challenge_1/2/H_sat_histmat_cell_21.tif...\n",
      "Copying gs://hackathon_for_good_rh_01/RC_Challenge_1/2/H_sat_histmat_cell_22.tif...\n",
      "Copying gs://hackathon_for_good_rh_01/RC_Challenge_1/2/H_sat_histmat_cell_23.tif...\n",
      "Copying gs://hackathon_for_good_rh_01/RC_Challenge_1/2/H_sat_histmat_cell_24.tif...\n",
      "Copying gs://hackathon_for_good_rh_01/RC_Challenge_1/2/H_sat_histmat_cell_3.tif...\n",
      "Copying gs://hackathon_for_good_rh_01/RC_Challenge_1/2/H_sat_histmat_cell_4.tif...\n",
      "Copying gs://hackathon_for_good_rh_01/RC_Challenge_1/2/H_sat_histmat_cell_5.tif...\n",
      "Copying gs://hackathon_for_good_rh_01/RC_Challenge_1/2/H_sat_histmat_cell_6.tif...\n",
      "Copying gs://hackathon_for_good_rh_01/RC_Challenge_1/2/H_sat_histmat_cell_7.tif...\n",
      "Copying gs://hackathon_for_good_rh_01/RC_Challenge_1/2/H_sat_histmat_cell_8.tif...\n",
      "Copying gs://hackathon_for_good_rh_01/RC_Challenge_1/2/H_sat_histmat_cell_9.tif...\n",
      "Copying gs://hackathon_for_good_rh_01/RC_Challenge_1/2/Hist_BillyFolly_Geo2.tif...\n",
      "Copying gs://hackathon_for_good_rh_01/RC_Challenge_1/2/Hist_Cul_Geo.tif...      \n",
      "Copying gs://hackathon_for_good_rh_01/RC_Challenge_1/2/Hist_Middle_Geo.tif...   \n",
      "Copying gs://hackathon_for_good_rh_01/RC_Challenge_1/2/Hist_StPetersE_Geo.tif...\n",
      "Copying gs://hackathon_for_good_rh_01/RC_Challenge_1/2/S_sat_histmat_cell_0.tif...\n",
      "Copying gs://hackathon_for_good_rh_01/RC_Challenge_1/2/S_sat_histmat_cell_1.tif...\n",
      "Copying gs://hackathon_for_good_rh_01/RC_Challenge_1/2/S_sat_histmat_cell_10.tif...\n",
      "Copying gs://hackathon_for_good_rh_01/RC_Challenge_1/2/S_sat_histmat_cell_11.tif...\n",
      "Copying gs://hackathon_for_good_rh_01/RC_Challenge_1/2/S_sat_histmat_cell_12.tif...\n",
      "Copying gs://hackathon_for_good_rh_01/RC_Challenge_1/2/S_sat_histmat_cell_13.tif...\n",
      "Copying gs://hackathon_for_good_rh_01/RC_Challenge_1/2/S_sat_histmat_cell_14.tif...\n",
      "Copying gs://hackathon_for_good_rh_01/RC_Challenge_1/2/S_sat_histmat_cell_15.tif...\n",
      "Copying gs://hackathon_for_good_rh_01/RC_Challenge_1/2/S_sat_histmat_cell_16.tif...\n",
      "Copying gs://hackathon_for_good_rh_01/RC_Challenge_1/2/S_sat_histmat_cell_17.tif...\n",
      "Copying gs://hackathon_for_good_rh_01/RC_Challenge_1/2/S_sat_histmat_cell_18.tif...\n",
      "Copying gs://hackathon_for_good_rh_01/RC_Challenge_1/2/S_sat_histmat_cell_19.tif...\n",
      "Copying gs://hackathon_for_good_rh_01/RC_Challenge_1/2/S_sat_histmat_cell_2.tif...\n",
      "Copying gs://hackathon_for_good_rh_01/RC_Challenge_1/2/S_sat_histmat_cell_20.tif...\n",
      "Copying gs://hackathon_for_good_rh_01/RC_Challenge_1/2/S_sat_histmat_cell_21.tif...\n",
      "Copying gs://hackathon_for_good_rh_01/RC_Challenge_1/2/S_sat_histmat_cell_22.tif...\n",
      "Copying gs://hackathon_for_good_rh_01/RC_Challenge_1/2/S_sat_histmat_cell_23.tif...\n",
      "Copying gs://hackathon_for_good_rh_01/RC_Challenge_1/2/S_sat_histmat_cell_24.tif...\n",
      "Copying gs://hackathon_for_good_rh_01/RC_Challenge_1/2/S_sat_histmat_cell_3.tif...\n",
      "Copying gs://hackathon_for_good_rh_01/RC_Challenge_1/2/S_sat_histmat_cell_4.tif...\n",
      "Copying gs://hackathon_for_good_rh_01/RC_Challenge_1/2/S_sat_histmat_cell_5.tif...\n",
      "Copying gs://hackathon_for_good_rh_01/RC_Challenge_1/2/S_sat_histmat_cell_6.tif...\n",
      "Copying gs://hackathon_for_good_rh_01/RC_Challenge_1/2/S_sat_histmat_cell_7.tif...\n",
      "Copying gs://hackathon_for_good_rh_01/RC_Challenge_1/2/S_sat_histmat_cell_8.tif...\n",
      "Copying gs://hackathon_for_good_rh_01/RC_Challenge_1/2/S_sat_histmat_cell_9.tif...\n",
      "Copying gs://hackathon_for_good_rh_01/RC_Challenge_1/2/V_sat_histmat_cell_0.tif...\n",
      "Copying gs://hackathon_for_good_rh_01/RC_Challenge_1/2/V_sat_histmat_cell_1.tif...\n",
      "Copying gs://hackathon_for_good_rh_01/RC_Challenge_1/2/V_sat_histmat_cell_10.tif...\n",
      "Copying gs://hackathon_for_good_rh_01/RC_Challenge_1/2/V_sat_histmat_cell_11.tif...\n",
      "Copying gs://hackathon_for_good_rh_01/RC_Challenge_1/2/V_sat_histmat_cell_12.tif...\n",
      "Copying gs://hackathon_for_good_rh_01/RC_Challenge_1/2/V_sat_histmat_cell_13.tif...\n",
      "Copying gs://hackathon_for_good_rh_01/RC_Challenge_1/2/V_sat_histmat_cell_14.tif...\n",
      "Copying gs://hackathon_for_good_rh_01/RC_Challenge_1/2/V_sat_histmat_cell_15.tif...\n",
      "Copying gs://hackathon_for_good_rh_01/RC_Challenge_1/2/V_sat_histmat_cell_16.tif...\n",
      "Copying gs://hackathon_for_good_rh_01/RC_Challenge_1/2/V_sat_histmat_cell_17.tif...\n",
      "Copying gs://hackathon_for_good_rh_01/RC_Challenge_1/2/V_sat_histmat_cell_18.tif...\n",
      "Copying gs://hackathon_for_good_rh_01/RC_Challenge_1/2/V_sat_histmat_cell_19.tif...\n",
      "Copying gs://hackathon_for_good_rh_01/RC_Challenge_1/2/V_sat_histmat_cell_2.tif...\n",
      "Copying gs://hackathon_for_good_rh_01/RC_Challenge_1/2/V_sat_histmat_cell_20.tif...\n",
      "Copying gs://hackathon_for_good_rh_01/RC_Challenge_1/2/V_sat_histmat_cell_21.tif...\n",
      "Copying gs://hackathon_for_good_rh_01/RC_Challenge_1/2/V_sat_histmat_cell_22.tif...\n",
      "Copying gs://hackathon_for_good_rh_01/RC_Challenge_1/2/V_sat_histmat_cell_23.tif...\n",
      "Copying gs://hackathon_for_good_rh_01/RC_Challenge_1/2/V_sat_histmat_cell_24.tif...\n",
      "Copying gs://hackathon_for_good_rh_01/RC_Challenge_1/2/V_sat_histmat_cell_3.tif...\n",
      "Copying gs://hackathon_for_good_rh_01/RC_Challenge_1/2/V_sat_histmat_cell_4.tif...\n",
      "Copying gs://hackathon_for_good_rh_01/RC_Challenge_1/2/V_sat_histmat_cell_5.tif...\n",
      "Copying gs://hackathon_for_good_rh_01/RC_Challenge_1/2/V_sat_histmat_cell_6.tif...\n",
      "Copying gs://hackathon_for_good_rh_01/RC_Challenge_1/2/V_sat_histmat_cell_7.tif...\n",
      "Copying gs://hackathon_for_good_rh_01/RC_Challenge_1/2/V_sat_histmat_cell_8.tif...\n",
      "Copying gs://hackathon_for_good_rh_01/RC_Challenge_1/2/V_sat_histmat_cell_9.tif...\n",
      "| [79 files][  7.2 GiB/  7.2 GiB]   86.4 MiB/s                                  \n",
      "==> NOTE: You are performing a sequence of gsutil operations that may\n",
      "run significantly faster if you instead use gsutil -m -o ... Please\n",
      "see the -m section under \"gsutil help options\" for further information\n",
      "about when gsutil -m can be advantageous.\n",
      "\n",
      "\n",
      "Operation completed over 79 objects/7.2 GiB.                                     \n"
     ]
    }
   ],
   "source": [
    "!gsutil cp -r {GCS_INPUT_PATH2}/* {ec2_output_path2}/."
   ]
  },
  {
   "cell_type": "code",
   "execution_count": 84,
   "metadata": {
    "collapsed": true
   },
   "outputs": [],
   "source": [
    "files2 = os.listdir(ec2_output_path2)"
   ]
  },
  {
   "cell_type": "code",
   "execution_count": 85,
   "metadata": {},
   "outputs": [
    {
     "data": {
      "text/plain": [
       "79"
      ]
     },
     "execution_count": 85,
     "metadata": {},
     "output_type": "execute_result"
    }
   ],
   "source": [
    "len(files2)"
   ]
  },
  {
   "cell_type": "code",
   "execution_count": 89,
   "metadata": {},
   "outputs": [],
   "source": [
    "commands2 = []\n",
    "for file2 in files2:    \n",
    "    source_path = \"{}/{}\".format(GCS_INPUT_PATH2,file2)\n",
    "    file_basename = file2[:-4] #remove extension\n",
    "    file_basename = file_basename.replace(\".\",\"\")\n",
    "    metas = file_basename.split(\"_\")\n",
    "    \n",
    "    extra_command = \"\"\n",
    "    i = 0\n",
    "    for meta in metas:\n",
    "        i += 1\n",
    "        extra_command += \" -p meta{}={}\".format(i,meta)\n",
    "    \n",
    "    \n",
    "    command2 = \"/opt/anaconda3/envs/python35/bin/earthengine upload image --asset_id='users/rutgerhofste/hackathon_for_good/histmat/{}' {} {}\".format(file_basename,extra_command,source_path) \n",
    "    commands2.append(command2)\n",
    "    "
   ]
  },
  {
   "cell_type": "code",
   "execution_count": 90,
   "metadata": {},
   "outputs": [
    {
     "data": {
      "text/plain": [
       "\"/opt/anaconda3/envs/python35/bin/earthengine upload image --asset_id='users/rutgerhofste/hackathon_for_good/histmat/RescUAV_22917_DutchCul'  -p meta1=RescUAV -p meta2=22917 -p meta3=DutchCul gs://hackathon_for_good_rh_01/RC_Challenge_1/2/RescUAV_22917_DutchCul.tif\""
      ]
     },
     "execution_count": 90,
     "metadata": {},
     "output_type": "execute_result"
    }
   ],
   "source": [
    "command"
   ]
  },
  {
   "cell_type": "code",
   "execution_count": 92,
   "metadata": {},
   "outputs": [
    {
     "name": "stdout",
     "output_type": "stream",
     "text": [
      "/opt/anaconda3/envs/python35/bin/earthengine upload image --asset_id='users/rutgerhofste/hackathon_for_good/histmat/V_sat_histmat_cell_2'  -p meta1=V -p meta2=sat -p meta3=histmat -p meta4=cell -p meta5=2 gs://hackathon_for_good_rh_01/RC_Challenge_1/2/V_sat_histmat_cell_2.tif\n",
      "/opt/anaconda3/envs/python35/bin/earthengine upload image --asset_id='users/rutgerhofste/hackathon_for_good/histmat/S_sat_histmat_cell_22'  -p meta1=S -p meta2=sat -p meta3=histmat -p meta4=cell -p meta5=22 gs://hackathon_for_good_rh_01/RC_Challenge_1/2/S_sat_histmat_cell_22.tif\n",
      "/opt/anaconda3/envs/python35/bin/earthengine upload image --asset_id='users/rutgerhofste/hackathon_for_good/histmat/H_sat_histmat_cell_24'  -p meta1=H -p meta2=sat -p meta3=histmat -p meta4=cell -p meta5=24 gs://hackathon_for_good_rh_01/RC_Challenge_1/2/H_sat_histmat_cell_24.tif\n",
      "/opt/anaconda3/envs/python35/bin/earthengine upload image --asset_id='users/rutgerhofste/hackathon_for_good/histmat/V_sat_histmat_cell_17'  -p meta1=V -p meta2=sat -p meta3=histmat -p meta4=cell -p meta5=17 gs://hackathon_for_good_rh_01/RC_Challenge_1/2/V_sat_histmat_cell_17.tif\n",
      "/opt/anaconda3/envs/python35/bin/earthengine upload image --asset_id='users/rutgerhofste/hackathon_for_good/histmat/S_sat_histmat_cell_14'  -p meta1=S -p meta2=sat -p meta3=histmat -p meta4=cell -p meta5=14 gs://hackathon_for_good_rh_01/RC_Challenge_1/2/S_sat_histmat_cell_14.tif\n",
      "/opt/anaconda3/envs/python35/bin/earthengine upload image --asset_id='users/rutgerhofste/hackathon_for_good/histmat/H_sat_histmat_cell_10'  -p meta1=H -p meta2=sat -p meta3=histmat -p meta4=cell -p meta5=10 gs://hackathon_for_good_rh_01/RC_Challenge_1/2/H_sat_histmat_cell_10.tif\n",
      "/opt/anaconda3/envs/python35/bin/earthengine upload image --asset_id='users/rutgerhofste/hackathon_for_good/histmat/H_sat_histmat_cell_9'  -p meta1=H -p meta2=sat -p meta3=histmat -p meta4=cell -p meta5=9 gs://hackathon_for_good_rh_01/RC_Challenge_1/2/H_sat_histmat_cell_9.tif\n",
      "/opt/anaconda3/envs/python35/bin/earthengine upload image --asset_id='users/rutgerhofste/hackathon_for_good/histmat/S_sat_histmat_cell_15'  -p meta1=S -p meta2=sat -p meta3=histmat -p meta4=cell -p meta5=15 gs://hackathon_for_good_rh_01/RC_Challenge_1/2/S_sat_histmat_cell_15.tif\n",
      "/opt/anaconda3/envs/python35/bin/earthengine upload image --asset_id='users/rutgerhofste/hackathon_for_good/histmat/S_sat_histmat_cell_24'  -p meta1=S -p meta2=sat -p meta3=histmat -p meta4=cell -p meta5=24 gs://hackathon_for_good_rh_01/RC_Challenge_1/2/S_sat_histmat_cell_24.tif\n",
      "/opt/anaconda3/envs/python35/bin/earthengine upload image --asset_id='users/rutgerhofste/hackathon_for_good/histmat/H_sat_histmat_cell_21'  -p meta1=H -p meta2=sat -p meta3=histmat -p meta4=cell -p meta5=21 gs://hackathon_for_good_rh_01/RC_Challenge_1/2/H_sat_histmat_cell_21.tif\n",
      "/opt/anaconda3/envs/python35/bin/earthengine upload image --asset_id='users/rutgerhofste/hackathon_for_good/histmat/H_sat_histmat_cell_23'  -p meta1=H -p meta2=sat -p meta3=histmat -p meta4=cell -p meta5=23 gs://hackathon_for_good_rh_01/RC_Challenge_1/2/H_sat_histmat_cell_23.tif\n",
      "/opt/anaconda3/envs/python35/bin/earthengine upload image --asset_id='users/rutgerhofste/hackathon_for_good/histmat/H_sat_histmat_cell_16'  -p meta1=H -p meta2=sat -p meta3=histmat -p meta4=cell -p meta5=16 gs://hackathon_for_good_rh_01/RC_Challenge_1/2/H_sat_histmat_cell_16.tif\n",
      "/opt/anaconda3/envs/python35/bin/earthengine upload image --asset_id='users/rutgerhofste/hackathon_for_good/histmat/V_sat_histmat_cell_11'  -p meta1=V -p meta2=sat -p meta3=histmat -p meta4=cell -p meta5=11 gs://hackathon_for_good_rh_01/RC_Challenge_1/2/V_sat_histmat_cell_11.tif\n",
      "/opt/anaconda3/envs/python35/bin/earthengine upload image --asset_id='users/rutgerhofste/hackathon_for_good/histmat/S_sat_histmat_cell_12'  -p meta1=S -p meta2=sat -p meta3=histmat -p meta4=cell -p meta5=12 gs://hackathon_for_good_rh_01/RC_Challenge_1/2/S_sat_histmat_cell_12.tif\n",
      "/opt/anaconda3/envs/python35/bin/earthengine upload image --asset_id='users/rutgerhofste/hackathon_for_good/histmat/H_sat_histmat_cell_3'  -p meta1=H -p meta2=sat -p meta3=histmat -p meta4=cell -p meta5=3 gs://hackathon_for_good_rh_01/RC_Challenge_1/2/H_sat_histmat_cell_3.tif\n",
      "/opt/anaconda3/envs/python35/bin/earthengine upload image --asset_id='users/rutgerhofste/hackathon_for_good/histmat/H_sat_histmat_cell_20'  -p meta1=H -p meta2=sat -p meta3=histmat -p meta4=cell -p meta5=20 gs://hackathon_for_good_rh_01/RC_Challenge_1/2/H_sat_histmat_cell_20.tif\n",
      "/opt/anaconda3/envs/python35/bin/earthengine upload image --asset_id='users/rutgerhofste/hackathon_for_good/histmat/S_sat_histmat_cell_8'  -p meta1=S -p meta2=sat -p meta3=histmat -p meta4=cell -p meta5=8 gs://hackathon_for_good_rh_01/RC_Challenge_1/2/S_sat_histmat_cell_8.tif\n",
      "/opt/anaconda3/envs/python35/bin/earthengine upload image --asset_id='users/rutgerhofste/hackathon_for_good/histmat/S_sat_histmat_cell_20'  -p meta1=S -p meta2=sat -p meta3=histmat -p meta4=cell -p meta5=20 gs://hackathon_for_good_rh_01/RC_Challenge_1/2/S_sat_histmat_cell_20.tif\n",
      "/opt/anaconda3/envs/python35/bin/earthengine upload image --asset_id='users/rutgerhofste/hackathon_for_good/histmat/V_sat_histmat_cell_22'  -p meta1=V -p meta2=sat -p meta3=histmat -p meta4=cell -p meta5=22 gs://hackathon_for_good_rh_01/RC_Challenge_1/2/V_sat_histmat_cell_22.tif\n",
      "/opt/anaconda3/envs/python35/bin/earthengine upload image --asset_id='users/rutgerhofste/hackathon_for_good/histmat/S_sat_histmat_cell_6'  -p meta1=S -p meta2=sat -p meta3=histmat -p meta4=cell -p meta5=6 gs://hackathon_for_good_rh_01/RC_Challenge_1/2/S_sat_histmat_cell_6.tif\n",
      "/opt/anaconda3/envs/python35/bin/earthengine upload image --asset_id='users/rutgerhofste/hackathon_for_good/histmat/V_sat_histmat_cell_12'  -p meta1=V -p meta2=sat -p meta3=histmat -p meta4=cell -p meta5=12 gs://hackathon_for_good_rh_01/RC_Challenge_1/2/V_sat_histmat_cell_12.tif\n",
      "/opt/anaconda3/envs/python35/bin/earthengine upload image --asset_id='users/rutgerhofste/hackathon_for_good/histmat/V_sat_histmat_cell_20'  -p meta1=V -p meta2=sat -p meta3=histmat -p meta4=cell -p meta5=20 gs://hackathon_for_good_rh_01/RC_Challenge_1/2/V_sat_histmat_cell_20.tif\n",
      "/opt/anaconda3/envs/python35/bin/earthengine upload image --asset_id='users/rutgerhofste/hackathon_for_good/histmat/S_sat_histmat_cell_5'  -p meta1=S -p meta2=sat -p meta3=histmat -p meta4=cell -p meta5=5 gs://hackathon_for_good_rh_01/RC_Challenge_1/2/S_sat_histmat_cell_5.tif\n",
      "/opt/anaconda3/envs/python35/bin/earthengine upload image --asset_id='users/rutgerhofste/hackathon_for_good/histmat/H_sat_histmat_cell_7'  -p meta1=H -p meta2=sat -p meta3=histmat -p meta4=cell -p meta5=7 gs://hackathon_for_good_rh_01/RC_Challenge_1/2/H_sat_histmat_cell_7.tif\n",
      "/opt/anaconda3/envs/python35/bin/earthengine upload image --asset_id='users/rutgerhofste/hackathon_for_good/histmat/V_sat_histmat_cell_7'  -p meta1=V -p meta2=sat -p meta3=histmat -p meta4=cell -p meta5=7 gs://hackathon_for_good_rh_01/RC_Challenge_1/2/V_sat_histmat_cell_7.tif\n",
      "/opt/anaconda3/envs/python35/bin/earthengine upload image --asset_id='users/rutgerhofste/hackathon_for_good/histmat/H_sat_histmat_cell_0'  -p meta1=H -p meta2=sat -p meta3=histmat -p meta4=cell -p meta5=0 gs://hackathon_for_good_rh_01/RC_Challenge_1/2/H_sat_histmat_cell_0.tif\n",
      "/opt/anaconda3/envs/python35/bin/earthengine upload image --asset_id='users/rutgerhofste/hackathon_for_good/histmat/H_sat_histmat_cell_11'  -p meta1=H -p meta2=sat -p meta3=histmat -p meta4=cell -p meta5=11 gs://hackathon_for_good_rh_01/RC_Challenge_1/2/H_sat_histmat_cell_11.tif\n",
      "/opt/anaconda3/envs/python35/bin/earthengine upload image --asset_id='users/rutgerhofste/hackathon_for_good/histmat/S_sat_histmat_cell_18'  -p meta1=S -p meta2=sat -p meta3=histmat -p meta4=cell -p meta5=18 gs://hackathon_for_good_rh_01/RC_Challenge_1/2/S_sat_histmat_cell_18.tif\n",
      "/opt/anaconda3/envs/python35/bin/earthengine upload image --asset_id='users/rutgerhofste/hackathon_for_good/histmat/Hist_Cul_Geo'  -p meta1=Hist -p meta2=Cul -p meta3=Geo gs://hackathon_for_good_rh_01/RC_Challenge_1/2/Hist_Cul_Geo.tif\n",
      "/opt/anaconda3/envs/python35/bin/earthengine upload image --asset_id='users/rutgerhofste/hackathon_for_good/histmat/S_sat_histmat_cell_19'  -p meta1=S -p meta2=sat -p meta3=histmat -p meta4=cell -p meta5=19 gs://hackathon_for_good_rh_01/RC_Challenge_1/2/S_sat_histmat_cell_19.tif\n"
     ]
    },
    {
     "name": "stdout",
     "output_type": "stream",
     "text": [
      "/opt/anaconda3/envs/python35/bin/earthengine upload image --asset_id='users/rutgerhofste/hackathon_for_good/histmat/S_sat_histmat_cell_3'  -p meta1=S -p meta2=sat -p meta3=histmat -p meta4=cell -p meta5=3 gs://hackathon_for_good_rh_01/RC_Challenge_1/2/S_sat_histmat_cell_3.tif\n",
      "/opt/anaconda3/envs/python35/bin/earthengine upload image --asset_id='users/rutgerhofste/hackathon_for_good/histmat/V_sat_histmat_cell_10'  -p meta1=V -p meta2=sat -p meta3=histmat -p meta4=cell -p meta5=10 gs://hackathon_for_good_rh_01/RC_Challenge_1/2/V_sat_histmat_cell_10.tif\n",
      "/opt/anaconda3/envs/python35/bin/earthengine upload image --asset_id='users/rutgerhofste/hackathon_for_good/histmat/H_sat_histmat_cell_14'  -p meta1=H -p meta2=sat -p meta3=histmat -p meta4=cell -p meta5=14 gs://hackathon_for_good_rh_01/RC_Challenge_1/2/H_sat_histmat_cell_14.tif\n",
      "/opt/anaconda3/envs/python35/bin/earthengine upload image --asset_id='users/rutgerhofste/hackathon_for_good/histmat/S_sat_histmat_cell_23'  -p meta1=S -p meta2=sat -p meta3=histmat -p meta4=cell -p meta5=23 gs://hackathon_for_good_rh_01/RC_Challenge_1/2/S_sat_histmat_cell_23.tif\n",
      "/opt/anaconda3/envs/python35/bin/earthengine upload image --asset_id='users/rutgerhofste/hackathon_for_good/histmat/H_sat_histmat_cell_12'  -p meta1=H -p meta2=sat -p meta3=histmat -p meta4=cell -p meta5=12 gs://hackathon_for_good_rh_01/RC_Challenge_1/2/H_sat_histmat_cell_12.tif\n",
      "/opt/anaconda3/envs/python35/bin/earthengine upload image --asset_id='users/rutgerhofste/hackathon_for_good/histmat/S_sat_histmat_cell_2'  -p meta1=S -p meta2=sat -p meta3=histmat -p meta4=cell -p meta5=2 gs://hackathon_for_good_rh_01/RC_Challenge_1/2/S_sat_histmat_cell_2.tif\n",
      "/opt/anaconda3/envs/python35/bin/earthengine upload image --asset_id='users/rutgerhofste/hackathon_for_good/histmat/H_sat_histmat_cell_13'  -p meta1=H -p meta2=sat -p meta3=histmat -p meta4=cell -p meta5=13 gs://hackathon_for_good_rh_01/RC_Challenge_1/2/H_sat_histmat_cell_13.tif\n",
      "/opt/anaconda3/envs/python35/bin/earthengine upload image --asset_id='users/rutgerhofste/hackathon_for_good/histmat/V_sat_histmat_cell_5'  -p meta1=V -p meta2=sat -p meta3=histmat -p meta4=cell -p meta5=5 gs://hackathon_for_good_rh_01/RC_Challenge_1/2/V_sat_histmat_cell_5.tif\n",
      "/opt/anaconda3/envs/python35/bin/earthengine upload image --asset_id='users/rutgerhofste/hackathon_for_good/histmat/V_sat_histmat_cell_9'  -p meta1=V -p meta2=sat -p meta3=histmat -p meta4=cell -p meta5=9 gs://hackathon_for_good_rh_01/RC_Challenge_1/2/V_sat_histmat_cell_9.tif\n",
      "/opt/anaconda3/envs/python35/bin/earthengine upload image --asset_id='users/rutgerhofste/hackathon_for_good/histmat/H_sat_histmat_cell_8'  -p meta1=H -p meta2=sat -p meta3=histmat -p meta4=cell -p meta5=8 gs://hackathon_for_good_rh_01/RC_Challenge_1/2/H_sat_histmat_cell_8.tif\n",
      "/opt/anaconda3/envs/python35/bin/earthengine upload image --asset_id='users/rutgerhofste/hackathon_for_good/histmat/V_sat_histmat_cell_21'  -p meta1=V -p meta2=sat -p meta3=histmat -p meta4=cell -p meta5=21 gs://hackathon_for_good_rh_01/RC_Challenge_1/2/V_sat_histmat_cell_21.tif\n",
      "/opt/anaconda3/envs/python35/bin/earthengine upload image --asset_id='users/rutgerhofste/hackathon_for_good/histmat/H_sat_histmat_cell_17'  -p meta1=H -p meta2=sat -p meta3=histmat -p meta4=cell -p meta5=17 gs://hackathon_for_good_rh_01/RC_Challenge_1/2/H_sat_histmat_cell_17.tif\n",
      "/opt/anaconda3/envs/python35/bin/earthengine upload image --asset_id='users/rutgerhofste/hackathon_for_good/histmat/H_sat_histmat_cell_5'  -p meta1=H -p meta2=sat -p meta3=histmat -p meta4=cell -p meta5=5 gs://hackathon_for_good_rh_01/RC_Challenge_1/2/H_sat_histmat_cell_5.tif\n",
      "/opt/anaconda3/envs/python35/bin/earthengine upload image --asset_id='users/rutgerhofste/hackathon_for_good/histmat/H_sat_histmat_cell_2'  -p meta1=H -p meta2=sat -p meta3=histmat -p meta4=cell -p meta5=2 gs://hackathon_for_good_rh_01/RC_Challenge_1/2/H_sat_histmat_cell_2.tif\n",
      "/opt/anaconda3/envs/python35/bin/earthengine upload image --asset_id='users/rutgerhofste/hackathon_for_good/histmat/S_sat_histmat_cell_0'  -p meta1=S -p meta2=sat -p meta3=histmat -p meta4=cell -p meta5=0 gs://hackathon_for_good_rh_01/RC_Challenge_1/2/S_sat_histmat_cell_0.tif\n",
      "/opt/anaconda3/envs/python35/bin/earthengine upload image --asset_id='users/rutgerhofste/hackathon_for_good/histmat/V_sat_histmat_cell_3'  -p meta1=V -p meta2=sat -p meta3=histmat -p meta4=cell -p meta5=3 gs://hackathon_for_good_rh_01/RC_Challenge_1/2/V_sat_histmat_cell_3.tif\n",
      "/opt/anaconda3/envs/python35/bin/earthengine upload image --asset_id='users/rutgerhofste/hackathon_for_good/histmat/V_sat_histmat_cell_0'  -p meta1=V -p meta2=sat -p meta3=histmat -p meta4=cell -p meta5=0 gs://hackathon_for_good_rh_01/RC_Challenge_1/2/V_sat_histmat_cell_0.tif\n",
      "/opt/anaconda3/envs/python35/bin/earthengine upload image --asset_id='users/rutgerhofste/hackathon_for_good/histmat/S_sat_histmat_cell_9'  -p meta1=S -p meta2=sat -p meta3=histmat -p meta4=cell -p meta5=9 gs://hackathon_for_good_rh_01/RC_Challenge_1/2/S_sat_histmat_cell_9.tif\n",
      "/opt/anaconda3/envs/python35/bin/earthengine upload image --asset_id='users/rutgerhofste/hackathon_for_good/histmat/S_sat_histmat_cell_1'  -p meta1=S -p meta2=sat -p meta3=histmat -p meta4=cell -p meta5=1 gs://hackathon_for_good_rh_01/RC_Challenge_1/2/S_sat_histmat_cell_1.tif\n",
      "/opt/anaconda3/envs/python35/bin/earthengine upload image --asset_id='users/rutgerhofste/hackathon_for_good/histmat/S_sat_histmat_cell_17'  -p meta1=S -p meta2=sat -p meta3=histmat -p meta4=cell -p meta5=17 gs://hackathon_for_good_rh_01/RC_Challenge_1/2/S_sat_histmat_cell_17.tif\n",
      "/opt/anaconda3/envs/python35/bin/earthengine upload image --asset_id='users/rutgerhofste/hackathon_for_good/histmat/H_sat_histmat_cell_18'  -p meta1=H -p meta2=sat -p meta3=histmat -p meta4=cell -p meta5=18 gs://hackathon_for_good_rh_01/RC_Challenge_1/2/H_sat_histmat_cell_18.tif\n",
      "/opt/anaconda3/envs/python35/bin/earthengine upload image --asset_id='users/rutgerhofste/hackathon_for_good/histmat/S_sat_histmat_cell_11'  -p meta1=S -p meta2=sat -p meta3=histmat -p meta4=cell -p meta5=11 gs://hackathon_for_good_rh_01/RC_Challenge_1/2/S_sat_histmat_cell_11.tif\n",
      "/opt/anaconda3/envs/python35/bin/earthengine upload image --asset_id='users/rutgerhofste/hackathon_for_good/histmat/V_sat_histmat_cell_15'  -p meta1=V -p meta2=sat -p meta3=histmat -p meta4=cell -p meta5=15 gs://hackathon_for_good_rh_01/RC_Challenge_1/2/V_sat_histmat_cell_15.tif\n",
      "/opt/anaconda3/envs/python35/bin/earthengine upload image --asset_id='users/rutgerhofste/hackathon_for_good/histmat/H_sat_histmat_cell_15'  -p meta1=H -p meta2=sat -p meta3=histmat -p meta4=cell -p meta5=15 gs://hackathon_for_good_rh_01/RC_Challenge_1/2/H_sat_histmat_cell_15.tif\n",
      "/opt/anaconda3/envs/python35/bin/earthengine upload image --asset_id='users/rutgerhofste/hackathon_for_good/histmat/Hist_StPetersE_Geo'  -p meta1=Hist -p meta2=StPetersE -p meta3=Geo gs://hackathon_for_good_rh_01/RC_Challenge_1/2/Hist_StPetersE_Geo.tif\n",
      "/opt/anaconda3/envs/python35/bin/earthengine upload image --asset_id='users/rutgerhofste/hackathon_for_good/histmat/S_sat_histmat_cell_16'  -p meta1=S -p meta2=sat -p meta3=histmat -p meta4=cell -p meta5=16 gs://hackathon_for_good_rh_01/RC_Challenge_1/2/S_sat_histmat_cell_16.tif\n",
      "/opt/anaconda3/envs/python35/bin/earthengine upload image --asset_id='users/rutgerhofste/hackathon_for_good/histmat/S_sat_histmat_cell_21'  -p meta1=S -p meta2=sat -p meta3=histmat -p meta4=cell -p meta5=21 gs://hackathon_for_good_rh_01/RC_Challenge_1/2/S_sat_histmat_cell_21.tif\n",
      "/opt/anaconda3/envs/python35/bin/earthengine upload image --asset_id='users/rutgerhofste/hackathon_for_good/histmat/S_sat_histmat_cell_4'  -p meta1=S -p meta2=sat -p meta3=histmat -p meta4=cell -p meta5=4 gs://hackathon_for_good_rh_01/RC_Challenge_1/2/S_sat_histmat_cell_4.tif\n",
      "/opt/anaconda3/envs/python35/bin/earthengine upload image --asset_id='users/rutgerhofste/hackathon_for_good/histmat/V_sat_histmat_cell_23'  -p meta1=V -p meta2=sat -p meta3=histmat -p meta4=cell -p meta5=23 gs://hackathon_for_good_rh_01/RC_Challenge_1/2/V_sat_histmat_cell_23.tif\n",
      "/opt/anaconda3/envs/python35/bin/earthengine upload image --asset_id='users/rutgerhofste/hackathon_for_good/histmat/V_sat_histmat_cell_19'  -p meta1=V -p meta2=sat -p meta3=histmat -p meta4=cell -p meta5=19 gs://hackathon_for_good_rh_01/RC_Challenge_1/2/V_sat_histmat_cell_19.tif\n"
     ]
    },
    {
     "name": "stdout",
     "output_type": "stream",
     "text": [
      "/opt/anaconda3/envs/python35/bin/earthengine upload image --asset_id='users/rutgerhofste/hackathon_for_good/histmat/V_sat_histmat_cell_6'  -p meta1=V -p meta2=sat -p meta3=histmat -p meta4=cell -p meta5=6 gs://hackathon_for_good_rh_01/RC_Challenge_1/2/V_sat_histmat_cell_6.tif\n",
      "/opt/anaconda3/envs/python35/bin/earthengine upload image --asset_id='users/rutgerhofste/hackathon_for_good/histmat/V_sat_histmat_cell_4'  -p meta1=V -p meta2=sat -p meta3=histmat -p meta4=cell -p meta5=4 gs://hackathon_for_good_rh_01/RC_Challenge_1/2/V_sat_histmat_cell_4.tif\n",
      "/opt/anaconda3/envs/python35/bin/earthengine upload image --asset_id='users/rutgerhofste/hackathon_for_good/histmat/Hist_Middle_Geo'  -p meta1=Hist -p meta2=Middle -p meta3=Geo gs://hackathon_for_good_rh_01/RC_Challenge_1/2/Hist_Middle_Geo.tif\n",
      "/opt/anaconda3/envs/python35/bin/earthengine upload image --asset_id='users/rutgerhofste/hackathon_for_good/histmat/V_sat_histmat_cell_1'  -p meta1=V -p meta2=sat -p meta3=histmat -p meta4=cell -p meta5=1 gs://hackathon_for_good_rh_01/RC_Challenge_1/2/V_sat_histmat_cell_1.tif\n",
      "/opt/anaconda3/envs/python35/bin/earthengine upload image --asset_id='users/rutgerhofste/hackathon_for_good/histmat/S_sat_histmat_cell_7'  -p meta1=S -p meta2=sat -p meta3=histmat -p meta4=cell -p meta5=7 gs://hackathon_for_good_rh_01/RC_Challenge_1/2/S_sat_histmat_cell_7.tif\n",
      "/opt/anaconda3/envs/python35/bin/earthengine upload image --asset_id='users/rutgerhofste/hackathon_for_good/histmat/H_sat_histmat_cell_6'  -p meta1=H -p meta2=sat -p meta3=histmat -p meta4=cell -p meta5=6 gs://hackathon_for_good_rh_01/RC_Challenge_1/2/H_sat_histmat_cell_6.tif\n",
      "/opt/anaconda3/envs/python35/bin/earthengine upload image --asset_id='users/rutgerhofste/hackathon_for_good/histmat/V_sat_histmat_cell_14'  -p meta1=V -p meta2=sat -p meta3=histmat -p meta4=cell -p meta5=14 gs://hackathon_for_good_rh_01/RC_Challenge_1/2/V_sat_histmat_cell_14.tif\n",
      "/opt/anaconda3/envs/python35/bin/earthengine upload image --asset_id='users/rutgerhofste/hackathon_for_good/histmat/V_sat_histmat_cell_16'  -p meta1=V -p meta2=sat -p meta3=histmat -p meta4=cell -p meta5=16 gs://hackathon_for_good_rh_01/RC_Challenge_1/2/V_sat_histmat_cell_16.tif\n",
      "/opt/anaconda3/envs/python35/bin/earthengine upload image --asset_id='users/rutgerhofste/hackathon_for_good/histmat/V_sat_histmat_cell_24'  -p meta1=V -p meta2=sat -p meta3=histmat -p meta4=cell -p meta5=24 gs://hackathon_for_good_rh_01/RC_Challenge_1/2/V_sat_histmat_cell_24.tif\n",
      "/opt/anaconda3/envs/python35/bin/earthengine upload image --asset_id='users/rutgerhofste/hackathon_for_good/histmat/V_sat_histmat_cell_13'  -p meta1=V -p meta2=sat -p meta3=histmat -p meta4=cell -p meta5=13 gs://hackathon_for_good_rh_01/RC_Challenge_1/2/V_sat_histmat_cell_13.tif\n",
      "/opt/anaconda3/envs/python35/bin/earthengine upload image --asset_id='users/rutgerhofste/hackathon_for_good/histmat/V_sat_histmat_cell_8'  -p meta1=V -p meta2=sat -p meta3=histmat -p meta4=cell -p meta5=8 gs://hackathon_for_good_rh_01/RC_Challenge_1/2/V_sat_histmat_cell_8.tif\n",
      "/opt/anaconda3/envs/python35/bin/earthengine upload image --asset_id='users/rutgerhofste/hackathon_for_good/histmat/H_sat_histmat_cell_19'  -p meta1=H -p meta2=sat -p meta3=histmat -p meta4=cell -p meta5=19 gs://hackathon_for_good_rh_01/RC_Challenge_1/2/H_sat_histmat_cell_19.tif\n",
      "/opt/anaconda3/envs/python35/bin/earthengine upload image --asset_id='users/rutgerhofste/hackathon_for_good/histmat/S_sat_histmat_cell_13'  -p meta1=S -p meta2=sat -p meta3=histmat -p meta4=cell -p meta5=13 gs://hackathon_for_good_rh_01/RC_Challenge_1/2/S_sat_histmat_cell_13.tif\n",
      "/opt/anaconda3/envs/python35/bin/earthengine upload image --asset_id='users/rutgerhofste/hackathon_for_good/histmat/V_sat_histmat_cell_18'  -p meta1=V -p meta2=sat -p meta3=histmat -p meta4=cell -p meta5=18 gs://hackathon_for_good_rh_01/RC_Challenge_1/2/V_sat_histmat_cell_18.tif\n",
      "/opt/anaconda3/envs/python35/bin/earthengine upload image --asset_id='users/rutgerhofste/hackathon_for_good/histmat/H_sat_histmat_cell_22'  -p meta1=H -p meta2=sat -p meta3=histmat -p meta4=cell -p meta5=22 gs://hackathon_for_good_rh_01/RC_Challenge_1/2/H_sat_histmat_cell_22.tif\n",
      "/opt/anaconda3/envs/python35/bin/earthengine upload image --asset_id='users/rutgerhofste/hackathon_for_good/histmat/Hist_BillyFolly_Geo2'  -p meta1=Hist -p meta2=BillyFolly -p meta3=Geo2 gs://hackathon_for_good_rh_01/RC_Challenge_1/2/Hist_BillyFolly_Geo2.tif\n",
      "/opt/anaconda3/envs/python35/bin/earthengine upload image --asset_id='users/rutgerhofste/hackathon_for_good/histmat/S_sat_histmat_cell_10'  -p meta1=S -p meta2=sat -p meta3=histmat -p meta4=cell -p meta5=10 gs://hackathon_for_good_rh_01/RC_Challenge_1/2/S_sat_histmat_cell_10.tif\n",
      "/opt/anaconda3/envs/python35/bin/earthengine upload image --asset_id='users/rutgerhofste/hackathon_for_good/histmat/H_sat_histmat_cell_1'  -p meta1=H -p meta2=sat -p meta3=histmat -p meta4=cell -p meta5=1 gs://hackathon_for_good_rh_01/RC_Challenge_1/2/H_sat_histmat_cell_1.tif\n",
      "/opt/anaconda3/envs/python35/bin/earthengine upload image --asset_id='users/rutgerhofste/hackathon_for_good/histmat/H_sat_histmat_cell_4'  -p meta1=H -p meta2=sat -p meta3=histmat -p meta4=cell -p meta5=4 gs://hackathon_for_good_rh_01/RC_Challenge_1/2/H_sat_histmat_cell_4.tif\n"
     ]
    }
   ],
   "source": [
    "for command2 in commands2:\n",
    "    print(command2)\n",
    "    subprocess.check_output(command2,shell=True)"
   ]
  },
  {
   "cell_type": "code",
   "execution_count": null,
   "metadata": {
    "collapsed": true
   },
   "outputs": [],
   "source": []
  }
 ],
 "metadata": {
  "kernelspec": {
   "display_name": "Python 35",
   "language": "python",
   "name": "python35"
  },
  "language_info": {
   "codemirror_mode": {
    "name": "ipython",
    "version": 3
   },
   "file_extension": ".py",
   "mimetype": "text/x-python",
   "name": "python",
   "nbconvert_exporter": "python",
   "pygments_lexer": "ipython3",
   "version": "3.5.4"
  }
 },
 "nbformat": 4,
 "nbformat_minor": 2
}
