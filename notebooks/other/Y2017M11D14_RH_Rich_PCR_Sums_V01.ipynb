{
 "cells": [
  {
   "cell_type": "markdown",
   "metadata": {
    "collapsed": true
   },
   "source": [
    "this script was created per Rich's request. Goal is to calculate total volume of water withdrawal in 2014\n"
   ]
  },
  {
   "cell_type": "code",
   "execution_count": 1,
   "metadata": {},
   "outputs": [
    {
     "name": "stdout",
     "output_type": "stream",
     "text": [
      "('Y2017M11D24', 'UTC 13:15')\n"
     ]
    },
    {
     "data": {
      "text/plain": [
       "'2.7.13 |Continuum Analytics, Inc.| (default, Dec 20 2016, 23:09:15) \\n[GCC 4.4.7 20120313 (Red Hat 4.4.7-1)]'"
      ]
     },
     "execution_count": 1,
     "metadata": {},
     "output_type": "execute_result"
    }
   ],
   "source": [
    "import time, datetime, sys\n",
    "dateString = time.strftime(\"Y%YM%mD%d\")\n",
    "timeString = time.strftime(\"UTC %H:%M\")\n",
    "start = datetime.datetime.now()\n",
    "print(dateString,timeString)\n",
    "sys.version"
   ]
  },
  {
   "cell_type": "code",
   "execution_count": 2,
   "metadata": {
    "collapsed": true
   },
   "outputs": [],
   "source": [
    "import ee\n",
    "import pandas as pd\n",
    "import os"
   ]
  },
  {
   "cell_type": "code",
   "execution_count": 3,
   "metadata": {
    "collapsed": true
   },
   "outputs": [],
   "source": [
    "ee.Initialize()"
   ]
  },
  {
   "cell_type": "code",
   "execution_count": 4,
   "metadata": {
    "collapsed": true
   },
   "outputs": [],
   "source": [
    "SCRIPT_NAME = \"Y2017M11D14_RH_Rich_PCR_Sums_V01\"\n",
    "OUTPUT_VERSION =2 \n",
    "\n",
    "EC2_INPUT_PATH = \"/volumes/data/%s/input\" %(SCRIPT_NAME)\n",
    "EC2_OUTPUT_PATH = \"/volumes/data/%s/output\" %(SCRIPT_NAME)\n",
    "\n",
    "S3_OUTPUT_PATH = \"s3://wri-projects/Aqueduct30/processData/%s/output/\" %(SCRIPT_NAME)\n",
    "\n",
    "OUTPUT_FILE_NAME = \"Y2017M11D14_RH_Rich_PCR_Sums_V%0.2d\" %(OUTPUT_VERSION)"
   ]
  },
  {
   "cell_type": "code",
   "execution_count": 5,
   "metadata": {
    "collapsed": true
   },
   "outputs": [],
   "source": [
    "!rm -r {EC2_OUTPUT_PATH}\n",
    "\n",
    "!mkdir -p {EC2_OUTPUT_PATH}"
   ]
  },
  {
   "cell_type": "code",
   "execution_count": 6,
   "metadata": {
    "collapsed": true
   },
   "outputs": [],
   "source": [
    "year = 2014\n",
    "timeFrame = \"year\" #annual\n"
   ]
  },
  {
   "cell_type": "code",
   "execution_count": 7,
   "metadata": {
    "collapsed": true
   },
   "outputs": [],
   "source": [
    "sectors = [\"Dom\",\"Ind\",\"Irr\",\"Liv\"]"
   ]
  },
  {
   "cell_type": "code",
   "execution_count": 8,
   "metadata": {
    "collapsed": true
   },
   "outputs": [],
   "source": [
    "demandTypes = [\"WW\",\"WN\"]"
   ]
  },
  {
   "cell_type": "code",
   "execution_count": 9,
   "metadata": {
    "collapsed": true
   },
   "outputs": [],
   "source": [
    "geometry = ee.Geometry.Polygon(coords=[[-180.0, -90.0], [180,  -90.0], [180, 90], [-180,90]], proj= ee.Projection('EPSG:4326'),geodesic=False )"
   ]
  },
  {
   "cell_type": "code",
   "execution_count": 10,
   "metadata": {
    "collapsed": true
   },
   "outputs": [],
   "source": [
    "scale = ee.Image(ee.ImageCollection(\"projects/WRI-Aquaduct/PCRGlobWB20V07/global_historical_PDomWN_year_millionm3_5min_1960_2014\").first()).projection().nominalScale().getInfo()"
   ]
  },
  {
   "cell_type": "code",
   "execution_count": 11,
   "metadata": {},
   "outputs": [
    {
     "name": "stdout",
     "output_type": "stream",
     "text": [
      "9276.62397058\n"
     ]
    }
   ],
   "source": [
    "print(scale)"
   ]
  },
  {
   "cell_type": "code",
   "execution_count": 12,
   "metadata": {},
   "outputs": [
    {
     "name": "stdout",
     "output_type": "stream",
     "text": [
      "1960\n",
      "1961\n",
      "1962\n",
      "1963\n",
      "1964\n",
      "1965\n",
      "1966\n",
      "1967\n",
      "1968\n",
      "1969\n",
      "1970\n",
      "1971\n",
      "1972\n",
      "1973\n",
      "1974\n",
      "1975\n",
      "1976\n",
      "1977\n",
      "1978\n",
      "1979\n",
      "1980\n",
      "1981\n",
      "1982\n",
      "1983\n",
      "1984\n",
      "1985\n",
      "1986\n",
      "1987\n",
      "1988\n",
      "1989\n",
      "1990\n",
      "1991\n",
      "1992\n",
      "1993\n",
      "1994\n",
      "1995\n",
      "1996\n",
      "1997\n",
      "1998\n",
      "1999\n",
      "2000\n",
      "2001\n",
      "2002\n",
      "2003\n",
      "2004\n",
      "2005\n",
      "2006\n",
      "2007\n",
      "2008\n",
      "2009\n",
      "2010\n",
      "2011\n",
      "2012\n",
      "2013\n",
      "2014\n"
     ]
    }
   ],
   "source": [
    "df = pd.DataFrame()\n",
    "fc = ee.FeatureCollection(ee.Feature(None,{}))\n",
    "for year in range(1960,2014+1):\n",
    "    \n",
    "    print(year)\n",
    "    for sector in sectors:\n",
    "        for demandType in demandTypes:\n",
    "            indicator = \"%s%s\" %(sector,demandType)\n",
    "            keyName = \"%s%sY%0.2d\" %(sector,demandType,year)\n",
    "            filePath = \"projects/WRI-Aquaduct/PCRGlobWB20V07/global_historical_P%s_year_millionm3_5min_1960_2014\" %(indicator)\n",
    "            ic = ee.ImageCollection(filePath)\n",
    "            imageYear = ee.Image(ic.filter(ee.Filter.eq(\"year\",year)).first())\n",
    "            sumYear = imageYear.reduceRegion(\n",
    "                geometry= geometry,\n",
    "                reducer= ee.Reducer.sum(),\n",
    "                scale= scale,\n",
    "                maxPixels= 1e10\n",
    "            )\n",
    "            df.at[year, indicator] = sumYear.get(\"b1\").getInfo()\n",
    "            \n",
    "               \n",
    "    "
   ]
  },
  {
   "cell_type": "markdown",
   "metadata": {},
   "source": [
    "## Add runoff data"
   ]
  },
  {
   "cell_type": "code",
   "execution_count": 13,
   "metadata": {
    "collapsed": true
   },
   "outputs": [],
   "source": [
    "icRunoff = ee.ImageCollection(\"projects/WRI-Aquaduct/PCRGlobWB20V07/global_historical_runoff_year_myear_5min_1958_2014\")"
   ]
  },
  {
   "cell_type": "code",
   "execution_count": 14,
   "metadata": {
    "collapsed": true
   },
   "outputs": [],
   "source": [
    "imageArea = ee.Image(\"projects/WRI-Aquaduct/PCRGlobWB20V07/area_5min_m2V11\")"
   ]
  },
  {
   "cell_type": "code",
   "execution_count": 15,
   "metadata": {
    "collapsed": true
   },
   "outputs": [],
   "source": [
    "def fluxToVolume(image):\n",
    "    image = ee.Image(image)\n",
    "    newImage = image.multiply(imageArea).divide(1e6)\n",
    "    newImage = newImage.copyProperties(image)\n",
    "    newImage = newImage.set(\"units\",\"millionm^3\")\n",
    "    return newImage"
   ]
  },
  {
   "cell_type": "code",
   "execution_count": 16,
   "metadata": {
    "collapsed": true
   },
   "outputs": [],
   "source": [
    "icRunoffMillionm3 = ee.ImageCollection(icRunoff.map(fluxToVolume))"
   ]
  },
  {
   "cell_type": "code",
   "execution_count": 17,
   "metadata": {},
   "outputs": [
    {
     "name": "stdout",
     "output_type": "stream",
     "text": [
      "1960\n",
      "1961\n",
      "1962\n",
      "1963\n",
      "1964\n",
      "1965\n",
      "1966\n",
      "1967\n",
      "1968\n",
      "1969\n",
      "1970\n",
      "1971\n",
      "1972\n",
      "1973\n",
      "1974\n",
      "1975\n",
      "1976\n",
      "1977\n",
      "1978\n",
      "1979\n",
      "1980\n",
      "1981\n",
      "1982\n",
      "1983\n",
      "1984\n",
      "1985\n",
      "1986\n",
      "1987\n",
      "1988\n",
      "1989\n",
      "1990\n",
      "1991\n",
      "1992\n",
      "1993\n",
      "1994\n",
      "1995\n",
      "1996\n",
      "1997\n",
      "1998\n",
      "1999\n",
      "2000\n",
      "2001\n",
      "2002\n",
      "2003\n",
      "2004\n",
      "2005\n",
      "2006\n",
      "2007\n",
      "2008\n",
      "2009\n",
      "2010\n",
      "2011\n",
      "2012\n",
      "2013\n",
      "2014\n"
     ]
    }
   ],
   "source": [
    "ic = icRunoffMillionm3\n",
    "for year in range(1960,2014+1):\n",
    "    print(year)    \n",
    "    imageYear = ee.Image(ic.filter(ee.Filter.eq(\"year\",year)).first())\n",
    "    sumYear = imageYear.reduceRegion(\n",
    "                geometry= geometry,\n",
    "                reducer= ee.Reducer.sum(),\n",
    "                scale= scale,\n",
    "                maxPixels= 1e10\n",
    "            )\n",
    "    df.at[year, \"localRunoff\"] = sumYear.get(\"b1\").getInfo()\n",
    "    "
   ]
  },
  {
   "cell_type": "code",
   "execution_count": 18,
   "metadata": {},
   "outputs": [
    {
     "data": {
      "text/html": [
       "<div>\n",
       "<style>\n",
       "    .dataframe thead tr:only-child th {\n",
       "        text-align: right;\n",
       "    }\n",
       "\n",
       "    .dataframe thead th {\n",
       "        text-align: left;\n",
       "    }\n",
       "\n",
       "    .dataframe tbody tr th {\n",
       "        vertical-align: top;\n",
       "    }\n",
       "</style>\n",
       "<table border=\"1\" class=\"dataframe\">\n",
       "  <thead>\n",
       "    <tr style=\"text-align: right;\">\n",
       "      <th></th>\n",
       "      <th>DomWW</th>\n",
       "      <th>DomWN</th>\n",
       "      <th>IndWW</th>\n",
       "      <th>IndWN</th>\n",
       "      <th>IrrWW</th>\n",
       "      <th>IrrWN</th>\n",
       "      <th>LivWW</th>\n",
       "      <th>LivWN</th>\n",
       "      <th>localRunoff</th>\n",
       "    </tr>\n",
       "  </thead>\n",
       "  <tbody>\n",
       "    <tr>\n",
       "      <th>1960</th>\n",
       "      <td>82829.934120</td>\n",
       "      <td>53617.348704</td>\n",
       "      <td>350122.827989</td>\n",
       "      <td>79004.246007</td>\n",
       "      <td>1.487135e+06</td>\n",
       "      <td>549676.079681</td>\n",
       "      <td>10591.382454</td>\n",
       "      <td>10591.382454</td>\n",
       "      <td>3.892361e+07</td>\n",
       "    </tr>\n",
       "    <tr>\n",
       "      <th>1961</th>\n",
       "      <td>84804.556401</td>\n",
       "      <td>54441.266194</td>\n",
       "      <td>351414.480211</td>\n",
       "      <td>79179.859626</td>\n",
       "      <td>1.460775e+06</td>\n",
       "      <td>544174.653526</td>\n",
       "      <td>10679.352846</td>\n",
       "      <td>10679.352846</td>\n",
       "      <td>4.059177e+07</td>\n",
       "    </tr>\n",
       "    <tr>\n",
       "      <th>1962</th>\n",
       "      <td>87361.339997</td>\n",
       "      <td>56054.475729</td>\n",
       "      <td>356198.304181</td>\n",
       "      <td>82715.303385</td>\n",
       "      <td>1.514793e+06</td>\n",
       "      <td>561582.611032</td>\n",
       "      <td>10796.260742</td>\n",
       "      <td>10796.260742</td>\n",
       "      <td>4.000380e+07</td>\n",
       "    </tr>\n",
       "    <tr>\n",
       "      <th>1963</th>\n",
       "      <td>90545.782340</td>\n",
       "      <td>58139.043652</td>\n",
       "      <td>361817.260393</td>\n",
       "      <td>84065.468090</td>\n",
       "      <td>1.551366e+06</td>\n",
       "      <td>573027.937917</td>\n",
       "      <td>10993.763545</td>\n",
       "      <td>10993.763545</td>\n",
       "      <td>3.897198e+07</td>\n",
       "    </tr>\n",
       "    <tr>\n",
       "      <th>1964</th>\n",
       "      <td>94530.612240</td>\n",
       "      <td>60370.855740</td>\n",
       "      <td>370592.055793</td>\n",
       "      <td>83113.262957</td>\n",
       "      <td>1.508349e+06</td>\n",
       "      <td>561405.218008</td>\n",
       "      <td>11259.557907</td>\n",
       "      <td>11259.557907</td>\n",
       "      <td>3.928536e+07</td>\n",
       "    </tr>\n",
       "  </tbody>\n",
       "</table>\n",
       "</div>"
      ],
      "text/plain": [
       "             DomWW         DomWN          IndWW         IndWN         IrrWW  \\\n",
       "1960  82829.934120  53617.348704  350122.827989  79004.246007  1.487135e+06   \n",
       "1961  84804.556401  54441.266194  351414.480211  79179.859626  1.460775e+06   \n",
       "1962  87361.339997  56054.475729  356198.304181  82715.303385  1.514793e+06   \n",
       "1963  90545.782340  58139.043652  361817.260393  84065.468090  1.551366e+06   \n",
       "1964  94530.612240  60370.855740  370592.055793  83113.262957  1.508349e+06   \n",
       "\n",
       "              IrrWN         LivWW         LivWN   localRunoff  \n",
       "1960  549676.079681  10591.382454  10591.382454  3.892361e+07  \n",
       "1961  544174.653526  10679.352846  10679.352846  4.059177e+07  \n",
       "1962  561582.611032  10796.260742  10796.260742  4.000380e+07  \n",
       "1963  573027.937917  10993.763545  10993.763545  3.897198e+07  \n",
       "1964  561405.218008  11259.557907  11259.557907  3.928536e+07  "
      ]
     },
     "execution_count": 18,
     "metadata": {},
     "output_type": "execute_result"
    }
   ],
   "source": [
    "df.head()"
   ]
  },
  {
   "cell_type": "code",
   "execution_count": 19,
   "metadata": {
    "collapsed": true
   },
   "outputs": [],
   "source": [
    "df.to_csv(os.path.join(EC2_OUTPUT_PATH,OUTPUT_FILE_NAME+\".csv\"))"
   ]
  },
  {
   "cell_type": "code",
   "execution_count": 20,
   "metadata": {},
   "outputs": [
    {
     "name": "stdout",
     "output_type": "stream",
     "text": [
      "Completed 7.0 KiB/7.0 KiB (12.7 KiB/s) with 1 file(s) remaining\r",
      "upload: ../../../../data/Y2017M11D14_RH_Rich_PCR_Sums_V01/output/Y2017M11D14_RH_Rich_PCR_Sums_V02.csv to s3://wri-projects/Aqueduct30/processData/Y2017M11D14_RH_Rich_PCR_Sums_V01/output/Y2017M11D14_RH_Rich_PCR_Sums_V02.csv\r\n"
     ]
    }
   ],
   "source": [
    "!aws s3 cp {EC2_OUTPUT_PATH} {S3_OUTPUT_PATH} --recursive"
   ]
  },
  {
   "cell_type": "code",
   "execution_count": 21,
   "metadata": {},
   "outputs": [
    {
     "name": "stdout",
     "output_type": "stream",
     "text": [
      "0:08:26.675549\n"
     ]
    }
   ],
   "source": [
    "end = datetime.datetime.now()\n",
    "elapsed = end - start\n",
    "print(elapsed)"
   ]
  },
  {
   "cell_type": "code",
   "execution_count": null,
   "metadata": {
    "collapsed": true
   },
   "outputs": [],
   "source": []
  }
 ],
 "metadata": {
  "kernelspec": {
   "display_name": "Python 27",
   "language": "python",
   "name": "python27"
  },
  "language_info": {
   "codemirror_mode": {
    "name": "ipython",
    "version": 2
   },
   "file_extension": ".py",
   "mimetype": "text/x-python",
   "name": "python",
   "nbconvert_exporter": "python",
   "pygments_lexer": "ipython2",
   "version": "2.7.13"
  }
 },
 "nbformat": 4,
 "nbformat_minor": 2
}
