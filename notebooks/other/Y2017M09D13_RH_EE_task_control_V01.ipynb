{
 "cells": [
  {
   "cell_type": "markdown",
   "metadata": {},
   "source": [
    "### This script allows to get better control over tasks in earth engine\n",
    "\n",
    "* Purpose of script: allows the user to list tasks and cancel all pending tasks\n",
    "* Author: Rutger Hofste\n",
    "* Kernel used: python27\n",
    "* Date created: 20170913"
   ]
  },
  {
   "cell_type": "code",
   "execution_count": 1,
   "metadata": {},
   "outputs": [
    {
     "name": "stdout",
     "output_type": "stream",
     "text": [
      "('Y2017M12D20', 'UTC 14:34')\n"
     ]
    }
   ],
   "source": [
    "import time\n",
    "dateString = time.strftime(\"Y%YM%mD%d\")\n",
    "timeString = time.strftime(\"UTC %H:%M\")\n",
    "print(dateString,timeString)"
   ]
  },
  {
   "cell_type": "markdown",
   "metadata": {},
   "source": [
    "# Settings"
   ]
  },
  {
   "cell_type": "code",
   "execution_count": 2,
   "metadata": {
    "collapsed": true
   },
   "outputs": [],
   "source": [
    "MAXTASKS = 10\n",
    "CANCELTASKS = 0"
   ]
  },
  {
   "cell_type": "code",
   "execution_count": 3,
   "metadata": {
    "collapsed": true
   },
   "outputs": [],
   "source": [
    "import pandas as pd\n",
    "import ee\n",
    "from retrying import retry\n",
    "import datetime\n",
    "import random"
   ]
  },
  {
   "cell_type": "code",
   "execution_count": 4,
   "metadata": {
    "collapsed": true
   },
   "outputs": [],
   "source": [
    "ee.Initialize()"
   ]
  },
  {
   "cell_type": "markdown",
   "metadata": {},
   "source": [
    "# Functions"
   ]
  },
  {
   "cell_type": "code",
   "execution_count": 5,
   "metadata": {
    "collapsed": true
   },
   "outputs": [],
   "source": [
    "def get_tasks():\n",
    "    return ee.batch.Task.list()\n",
    "\n",
    "def cancel_task(task):\n",
    "    print task\n",
    "    random_time = random.random()\n",
    "    time.sleep(0.5+random_time*0.5)\n",
    "    if task.config['state'] in (u'RUNNING',u'UNSUBMITTED',u'READY') :\n",
    "        print 'canceling %s' % task\n",
    "        task.cancel()\n",
    "        \n",
    "        \n",
    "@retry(wait_exponential_multiplier=10000, wait_exponential_max=100000)\n",
    "def checkStatus(task):\n",
    "    return ee.batch.Task.status(task)\n",
    "           \n",
    "def get_details(taskList,MAXTASKS):\n",
    "    df = pd.DataFrame()\n",
    "    for i in range(0,min(len(taskList),MAXTASKS)):\n",
    "        dictNew = checkStatus(taskList[i])\n",
    "        dfNew = pd.DataFrame(dictNew, index=[i])\n",
    "        try:\n",
    "            dfNew[\"calctime(min)\"] = (dfNew[\"update_timestamp_ms\"]-dfNew[\"start_timestamp_ms\"])/(1000*60)\n",
    "            dfNew[\"queuetime(min)\"] = (dfNew[\"start_timestamp_ms\"]-dfNew[\"creation_timestamp_ms\"])/(1000*60)\n",
    "            dfNew[\"runtime(min)\"]= dfNew[\"queuetime(min)\"]+dfNew[\"calctime(min)\"]\n",
    "            dfNew[\"start_timestamp_UTC\"] = datetime.datetime.fromtimestamp(dfNew[\"start_timestamp_ms\"]/1000).strftime('%H:%M:%S')\n",
    "        except:\n",
    "            pass\n",
    "        df = df.append(dfNew)\n",
    "        print i\n",
    "    return df\n",
    "    \n"
   ]
  },
  {
   "cell_type": "code",
   "execution_count": 6,
   "metadata": {
    "collapsed": true
   },
   "outputs": [],
   "source": [
    "taskList = get_tasks()\n"
   ]
  },
  {
   "cell_type": "code",
   "execution_count": 7,
   "metadata": {},
   "outputs": [
    {
     "name": "stdout",
     "output_type": "stream",
     "text": [
      "0\n",
      "1\n",
      "2\n",
      "3\n",
      "4\n",
      "5\n",
      "6\n",
      "7\n",
      "8\n",
      "9\n"
     ]
    }
   ],
   "source": [
    "detailedTasks = get_details(taskList,MAXTASKS)"
   ]
  },
  {
   "cell_type": "code",
   "execution_count": 8,
   "metadata": {},
   "outputs": [
    {
     "data": {
      "text/html": [
       "<div>\n",
       "<style>\n",
       "    .dataframe thead tr:only-child th {\n",
       "        text-align: right;\n",
       "    }\n",
       "\n",
       "    .dataframe thead th {\n",
       "        text-align: left;\n",
       "    }\n",
       "\n",
       "    .dataframe tbody tr th {\n",
       "        vertical-align: top;\n",
       "    }\n",
       "</style>\n",
       "<table border=\"1\" class=\"dataframe\">\n",
       "  <thead>\n",
       "    <tr style=\"text-align: right;\">\n",
       "      <th></th>\n",
       "      <th>calctime(min)</th>\n",
       "      <th>creation_timestamp_ms</th>\n",
       "      <th>description</th>\n",
       "      <th>id</th>\n",
       "      <th>output_url</th>\n",
       "      <th>progress</th>\n",
       "      <th>queuetime(min)</th>\n",
       "      <th>runtime(min)</th>\n",
       "      <th>start_timestamp_UTC</th>\n",
       "      <th>start_timestamp_ms</th>\n",
       "      <th>state</th>\n",
       "      <th>task_type</th>\n",
       "      <th>update_timestamp_ms</th>\n",
       "    </tr>\n",
       "  </thead>\n",
       "  <tbody>\n",
       "    <tr>\n",
       "      <th>0</th>\n",
       "      <td>22.502217</td>\n",
       "      <td>1513777967487</td>\n",
       "      <td>reduced_global_historical_combined_long_trend_...</td>\n",
       "      <td>MJ5NK74UTX7DFAPJW6F3DPCR</td>\n",
       "      <td>NaN</td>\n",
       "      <td>0.0</td>\n",
       "      <td>19.005917</td>\n",
       "      <td>41.508133</td>\n",
       "      <td>14:11:47</td>\n",
       "      <td>1513779107842</td>\n",
       "      <td>RUNNING</td>\n",
       "      <td>EXPORT_IMAGE</td>\n",
       "      <td>1513780457975</td>\n",
       "    </tr>\n",
       "    <tr>\n",
       "      <th>1</th>\n",
       "      <td>18.799617</td>\n",
       "      <td>1513777963895</td>\n",
       "      <td>reduced_global_historical_combined_short_mean_...</td>\n",
       "      <td>XIW5FHZQKJBCYAVUSWC5Q5VZ</td>\n",
       "      <td>https://code.earthengine.google.com/?asset=pro...</td>\n",
       "      <td>NaN</td>\n",
       "      <td>15.433167</td>\n",
       "      <td>34.232783</td>\n",
       "      <td>14:08:09</td>\n",
       "      <td>1513778889885</td>\n",
       "      <td>COMPLETED</td>\n",
       "      <td>EXPORT_IMAGE</td>\n",
       "      <td>1513780017862</td>\n",
       "    </tr>\n",
       "    <tr>\n",
       "      <th>2</th>\n",
       "      <td>11.676767</td>\n",
       "      <td>1513777960731</td>\n",
       "      <td>reduced_global_historical_combined_long_mean_W...</td>\n",
       "      <td>BWX2DU4IRL5LMSUH4JPKGEKH</td>\n",
       "      <td>https://code.earthengine.google.com/?asset=pro...</td>\n",
       "      <td>NaN</td>\n",
       "      <td>13.445933</td>\n",
       "      <td>25.122700</td>\n",
       "      <td>14:06:07</td>\n",
       "      <td>1513778767487</td>\n",
       "      <td>COMPLETED</td>\n",
       "      <td>EXPORT_IMAGE</td>\n",
       "      <td>1513779468093</td>\n",
       "    </tr>\n",
       "    <tr>\n",
       "      <th>3</th>\n",
       "      <td>12.217383</td>\n",
       "      <td>1513767540018</td>\n",
       "      <td>reduced_global_historical_combined_short_trend...</td>\n",
       "      <td>KNCUA2JFJNEH4CEJQMPQZACD</td>\n",
       "      <td>https://code.earthengine.google.com/?asset=pro...</td>\n",
       "      <td>NaN</td>\n",
       "      <td>174.770833</td>\n",
       "      <td>186.988217</td>\n",
       "      <td>13:53:46</td>\n",
       "      <td>1513778026268</td>\n",
       "      <td>COMPLETED</td>\n",
       "      <td>EXPORT_IMAGE</td>\n",
       "      <td>1513778759311</td>\n",
       "    </tr>\n",
       "    <tr>\n",
       "      <th>4</th>\n",
       "      <td>19.175450</td>\n",
       "      <td>1513767535651</td>\n",
       "      <td>reduced_global_historical_combined_long_trend_...</td>\n",
       "      <td>7O45GAOBJVNAWNJNUISPYT75</td>\n",
       "      <td>https://code.earthengine.google.com/?asset=pro...</td>\n",
       "      <td>NaN</td>\n",
       "      <td>174.800617</td>\n",
       "      <td>193.976067</td>\n",
       "      <td>13:53:43</td>\n",
       "      <td>1513778023688</td>\n",
       "      <td>COMPLETED</td>\n",
       "      <td>EXPORT_IMAGE</td>\n",
       "      <td>1513779174215</td>\n",
       "    </tr>\n",
       "    <tr>\n",
       "      <th>5</th>\n",
       "      <td>17.818683</td>\n",
       "      <td>1513767531305</td>\n",
       "      <td>reduced_global_historical_combined_short_mean_...</td>\n",
       "      <td>FPQILRRJXN4OTOURVE5ZVENA</td>\n",
       "      <td>https://code.earthengine.google.com/?asset=pro...</td>\n",
       "      <td>NaN</td>\n",
       "      <td>174.761983</td>\n",
       "      <td>192.580667</td>\n",
       "      <td>13:53:37</td>\n",
       "      <td>1513778017024</td>\n",
       "      <td>COMPLETED</td>\n",
       "      <td>EXPORT_IMAGE</td>\n",
       "      <td>1513779086145</td>\n",
       "    </tr>\n",
       "    <tr>\n",
       "      <th>6</th>\n",
       "      <td>25.274467</td>\n",
       "      <td>1513767526893</td>\n",
       "      <td>reduced_global_historical_combined_long_mean_W...</td>\n",
       "      <td>OPE5RSZAYPR5I2SPSS25H6FW</td>\n",
       "      <td>https://code.earthengine.google.com/?asset=pro...</td>\n",
       "      <td>NaN</td>\n",
       "      <td>164.033350</td>\n",
       "      <td>189.307817</td>\n",
       "      <td>13:42:48</td>\n",
       "      <td>1513777368894</td>\n",
       "      <td>COMPLETED</td>\n",
       "      <td>EXPORT_IMAGE</td>\n",
       "      <td>1513778885362</td>\n",
       "    </tr>\n",
       "    <tr>\n",
       "      <th>7</th>\n",
       "      <td>12.071767</td>\n",
       "      <td>1513767523019</td>\n",
       "      <td>reduced_global_historical_combined_short_trend...</td>\n",
       "      <td>5Z7LVQML7FHLNOYYEHE66QLR</td>\n",
       "      <td>https://code.earthengine.google.com/?asset=pro...</td>\n",
       "      <td>NaN</td>\n",
       "      <td>157.589483</td>\n",
       "      <td>169.661250</td>\n",
       "      <td>13:36:18</td>\n",
       "      <td>1513776978388</td>\n",
       "      <td>COMPLETED</td>\n",
       "      <td>EXPORT_IMAGE</td>\n",
       "      <td>1513777702694</td>\n",
       "    </tr>\n",
       "    <tr>\n",
       "      <th>8</th>\n",
       "      <td>21.451517</td>\n",
       "      <td>1513767518626</td>\n",
       "      <td>reduced_global_historical_combined_short_trend...</td>\n",
       "      <td>QZJBLOV72BUYM7ZZ5SPFES6L</td>\n",
       "      <td>https://code.earthengine.google.com/?asset=pro...</td>\n",
       "      <td>NaN</td>\n",
       "      <td>153.503567</td>\n",
       "      <td>174.955083</td>\n",
       "      <td>13:32:08</td>\n",
       "      <td>1513776728840</td>\n",
       "      <td>COMPLETED</td>\n",
       "      <td>EXPORT_IMAGE</td>\n",
       "      <td>1513778015931</td>\n",
       "    </tr>\n",
       "    <tr>\n",
       "      <th>9</th>\n",
       "      <td>21.757000</td>\n",
       "      <td>1513767514777</td>\n",
       "      <td>reduced_global_historical_combined_short_trend...</td>\n",
       "      <td>SVOZEC5UGDD2T5LJP5FIT2RG</td>\n",
       "      <td>https://code.earthengine.google.com/?asset=pro...</td>\n",
       "      <td>NaN</td>\n",
       "      <td>151.950317</td>\n",
       "      <td>173.707317</td>\n",
       "      <td>13:30:31</td>\n",
       "      <td>1513776631796</td>\n",
       "      <td>COMPLETED</td>\n",
       "      <td>EXPORT_IMAGE</td>\n",
       "      <td>1513777937216</td>\n",
       "    </tr>\n",
       "  </tbody>\n",
       "</table>\n",
       "</div>"
      ],
      "text/plain": [
       "   calctime(min)  creation_timestamp_ms  \\\n",
       "0      22.502217          1513777967487   \n",
       "1      18.799617          1513777963895   \n",
       "2      11.676767          1513777960731   \n",
       "3      12.217383          1513767540018   \n",
       "4      19.175450          1513767535651   \n",
       "5      17.818683          1513767531305   \n",
       "6      25.274467          1513767526893   \n",
       "7      12.071767          1513767523019   \n",
       "8      21.451517          1513767518626   \n",
       "9      21.757000          1513767514777   \n",
       "\n",
       "                                         description  \\\n",
       "0  reduced_global_historical_combined_long_trend_...   \n",
       "1  reduced_global_historical_combined_short_mean_...   \n",
       "2  reduced_global_historical_combined_long_mean_W...   \n",
       "3  reduced_global_historical_combined_short_trend...   \n",
       "4  reduced_global_historical_combined_long_trend_...   \n",
       "5  reduced_global_historical_combined_short_mean_...   \n",
       "6  reduced_global_historical_combined_long_mean_W...   \n",
       "7  reduced_global_historical_combined_short_trend...   \n",
       "8  reduced_global_historical_combined_short_trend...   \n",
       "9  reduced_global_historical_combined_short_trend...   \n",
       "\n",
       "                         id  \\\n",
       "0  MJ5NK74UTX7DFAPJW6F3DPCR   \n",
       "1  XIW5FHZQKJBCYAVUSWC5Q5VZ   \n",
       "2  BWX2DU4IRL5LMSUH4JPKGEKH   \n",
       "3  KNCUA2JFJNEH4CEJQMPQZACD   \n",
       "4  7O45GAOBJVNAWNJNUISPYT75   \n",
       "5  FPQILRRJXN4OTOURVE5ZVENA   \n",
       "6  OPE5RSZAYPR5I2SPSS25H6FW   \n",
       "7  5Z7LVQML7FHLNOYYEHE66QLR   \n",
       "8  QZJBLOV72BUYM7ZZ5SPFES6L   \n",
       "9  SVOZEC5UGDD2T5LJP5FIT2RG   \n",
       "\n",
       "                                          output_url  progress  \\\n",
       "0                                                NaN       0.0   \n",
       "1  https://code.earthengine.google.com/?asset=pro...       NaN   \n",
       "2  https://code.earthengine.google.com/?asset=pro...       NaN   \n",
       "3  https://code.earthengine.google.com/?asset=pro...       NaN   \n",
       "4  https://code.earthengine.google.com/?asset=pro...       NaN   \n",
       "5  https://code.earthengine.google.com/?asset=pro...       NaN   \n",
       "6  https://code.earthengine.google.com/?asset=pro...       NaN   \n",
       "7  https://code.earthengine.google.com/?asset=pro...       NaN   \n",
       "8  https://code.earthengine.google.com/?asset=pro...       NaN   \n",
       "9  https://code.earthengine.google.com/?asset=pro...       NaN   \n",
       "\n",
       "   queuetime(min)  runtime(min) start_timestamp_UTC  start_timestamp_ms  \\\n",
       "0       19.005917     41.508133            14:11:47       1513779107842   \n",
       "1       15.433167     34.232783            14:08:09       1513778889885   \n",
       "2       13.445933     25.122700            14:06:07       1513778767487   \n",
       "3      174.770833    186.988217            13:53:46       1513778026268   \n",
       "4      174.800617    193.976067            13:53:43       1513778023688   \n",
       "5      174.761983    192.580667            13:53:37       1513778017024   \n",
       "6      164.033350    189.307817            13:42:48       1513777368894   \n",
       "7      157.589483    169.661250            13:36:18       1513776978388   \n",
       "8      153.503567    174.955083            13:32:08       1513776728840   \n",
       "9      151.950317    173.707317            13:30:31       1513776631796   \n",
       "\n",
       "       state     task_type  update_timestamp_ms  \n",
       "0    RUNNING  EXPORT_IMAGE        1513780457975  \n",
       "1  COMPLETED  EXPORT_IMAGE        1513780017862  \n",
       "2  COMPLETED  EXPORT_IMAGE        1513779468093  \n",
       "3  COMPLETED  EXPORT_IMAGE        1513778759311  \n",
       "4  COMPLETED  EXPORT_IMAGE        1513779174215  \n",
       "5  COMPLETED  EXPORT_IMAGE        1513779086145  \n",
       "6  COMPLETED  EXPORT_IMAGE        1513778885362  \n",
       "7  COMPLETED  EXPORT_IMAGE        1513777702694  \n",
       "8  COMPLETED  EXPORT_IMAGE        1513778015931  \n",
       "9  COMPLETED  EXPORT_IMAGE        1513777937216  "
      ]
     },
     "execution_count": 8,
     "metadata": {},
     "output_type": "execute_result"
    }
   ],
   "source": [
    "detailedTasks"
   ]
  },
  {
   "cell_type": "markdown",
   "metadata": {},
   "source": [
    "# DANGER ZONE"
   ]
  },
  {
   "cell_type": "code",
   "execution_count": 9,
   "metadata": {
    "collapsed": true
   },
   "outputs": [],
   "source": [
    "if CANCELTASKS == 1:\n",
    "    pendingTasks = [task for task in taskList if task.config['state'] in (u'RUNNING',u'UNSUBMITTED',u'READY')]\n",
    "    for task in pendingTasks:\n",
    "        cancel_task(task)"
   ]
  },
  {
   "cell_type": "code",
   "execution_count": null,
   "metadata": {
    "collapsed": true
   },
   "outputs": [],
   "source": []
  }
 ],
 "metadata": {
  "kernelspec": {
   "display_name": "Python 27",
   "language": "python",
   "name": "python27"
  },
  "language_info": {
   "codemirror_mode": {
    "name": "ipython",
    "version": 2
   },
   "file_extension": ".py",
   "mimetype": "text/x-python",
   "name": "python",
   "nbconvert_exporter": "python",
   "pygments_lexer": "ipython2",
   "version": "2.7.13"
  }
 },
 "nbformat": 4,
 "nbformat_minor": 2
}
