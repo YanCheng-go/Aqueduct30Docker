{
 "cells": [
  {
   "cell_type": "markdown",
   "metadata": {},
   "source": [
    "### This script allows to get better control over tasks in earth engine\n",
    "\n",
    "* Purpose of script: allows the user to list tasks and cancel all pending tasks\n",
    "* Author: Rutger Hofste\n",
    "* Kernel used: python27\n",
    "* Date created: 20170913"
   ]
  },
  {
   "cell_type": "code",
   "execution_count": 1,
   "metadata": {},
   "outputs": [
    {
     "name": "stdout",
     "output_type": "stream",
     "text": [
      "('Y2018M04D19', 'UTC 13:38')\n"
     ]
    }
   ],
   "source": [
    "import time\n",
    "dateString = time.strftime(\"Y%YM%mD%d\")\n",
    "timeString = time.strftime(\"UTC %H:%M\")\n",
    "print(dateString,timeString)"
   ]
  },
  {
   "cell_type": "markdown",
   "metadata": {},
   "source": [
    "# Settings"
   ]
  },
  {
   "cell_type": "code",
   "execution_count": 2,
   "metadata": {
    "collapsed": true
   },
   "outputs": [],
   "source": [
    "MAXTASKS = 10\n",
    "CANCELTASKS = 0"
   ]
  },
  {
   "cell_type": "code",
   "execution_count": 3,
   "metadata": {
    "collapsed": true
   },
   "outputs": [],
   "source": [
    "import pandas as pd\n",
    "import ee\n",
    "from retrying import retry\n",
    "import datetime\n",
    "import random"
   ]
  },
  {
   "cell_type": "code",
   "execution_count": 4,
   "metadata": {
    "collapsed": true
   },
   "outputs": [],
   "source": [
    "ee.Initialize()"
   ]
  },
  {
   "cell_type": "markdown",
   "metadata": {},
   "source": [
    "# Functions"
   ]
  },
  {
   "cell_type": "code",
   "execution_count": 5,
   "metadata": {
    "collapsed": true
   },
   "outputs": [],
   "source": [
    "def get_tasks():\n",
    "    return ee.batch.Task.list()\n",
    "\n",
    "def cancel_task(task):\n",
    "    print task\n",
    "    random_time = random.random()\n",
    "    time.sleep(0.5+random_time*0.5)\n",
    "    if task.config['state'] in (u'RUNNING',u'UNSUBMITTED',u'READY') :\n",
    "        print 'canceling %s' % task\n",
    "        task.cancel()\n",
    "        \n",
    "        \n",
    "@retry(wait_exponential_multiplier=10000, wait_exponential_max=100000)\n",
    "def checkStatus(task):\n",
    "    return ee.batch.Task.status(task)\n",
    "           \n",
    "def get_details(taskList,MAXTASKS):\n",
    "    df = pd.DataFrame()\n",
    "    for i in range(0,min(len(taskList),MAXTASKS)):\n",
    "        dictNew = checkStatus(taskList[i])\n",
    "        dfNew = pd.DataFrame(dictNew, index=[i])\n",
    "        try:\n",
    "            dfNew[\"calctime(min)\"] = (dfNew[\"update_timestamp_ms\"]-dfNew[\"start_timestamp_ms\"])/(1000*60)\n",
    "            dfNew[\"queuetime(min)\"] = (dfNew[\"start_timestamp_ms\"]-dfNew[\"creation_timestamp_ms\"])/(1000*60)\n",
    "            dfNew[\"runtime(min)\"]= dfNew[\"queuetime(min)\"]+dfNew[\"calctime(min)\"]\n",
    "            dfNew[\"start_timestamp_UTC\"] = datetime.datetime.fromtimestamp(dfNew[\"start_timestamp_ms\"]/1000).strftime('%H:%M:%S')\n",
    "        except:\n",
    "            pass\n",
    "        df = df.append(dfNew)\n",
    "        print i\n",
    "    return df\n",
    "    \n"
   ]
  },
  {
   "cell_type": "code",
   "execution_count": 6,
   "metadata": {
    "collapsed": true
   },
   "outputs": [],
   "source": [
    "taskList = get_tasks()\n"
   ]
  },
  {
   "cell_type": "code",
   "execution_count": 7,
   "metadata": {},
   "outputs": [
    {
     "name": "stdout",
     "output_type": "stream",
     "text": [
      "0\n",
      "1\n",
      "2\n",
      "3\n",
      "4\n",
      "5\n",
      "6\n",
      "7\n",
      "8\n",
      "9\n"
     ]
    }
   ],
   "source": [
    "detailedTasks = get_details(taskList,MAXTASKS)"
   ]
  },
  {
   "cell_type": "code",
   "execution_count": 8,
   "metadata": {},
   "outputs": [
    {
     "data": {
      "text/html": [
       "<div>\n",
       "<style scoped>\n",
       "    .dataframe tbody tr th:only-of-type {\n",
       "        vertical-align: middle;\n",
       "    }\n",
       "\n",
       "    .dataframe tbody tr th {\n",
       "        vertical-align: top;\n",
       "    }\n",
       "\n",
       "    .dataframe thead th {\n",
       "        text-align: right;\n",
       "    }\n",
       "</style>\n",
       "<table border=\"1\" class=\"dataframe\">\n",
       "  <thead>\n",
       "    <tr style=\"text-align: right;\">\n",
       "      <th></th>\n",
       "      <th>creation_timestamp_ms</th>\n",
       "      <th>description</th>\n",
       "      <th>id</th>\n",
       "      <th>state</th>\n",
       "      <th>task_type</th>\n",
       "      <th>update_timestamp_ms</th>\n",
       "    </tr>\n",
       "  </thead>\n",
       "  <tbody>\n",
       "    <tr>\n",
       "      <th>0</th>\n",
       "      <td>1524145213911</td>\n",
       "      <td>global_historical_PDomWN_month_m_5min_1960_201...</td>\n",
       "      <td>JJZGWFKGLHFENXWH37YGXAEI</td>\n",
       "      <td>READY</td>\n",
       "      <td>EXPORT_IMAGE</td>\n",
       "      <td>1524145213911</td>\n",
       "    </tr>\n",
       "    <tr>\n",
       "      <th>1</th>\n",
       "      <td>1524145212742</td>\n",
       "      <td>global_historical_PDomWN_month_m_5min_1960_201...</td>\n",
       "      <td>MVVWDXFYHHBBJHCO7UWVV5OK</td>\n",
       "      <td>READY</td>\n",
       "      <td>EXPORT_IMAGE</td>\n",
       "      <td>1524145212742</td>\n",
       "    </tr>\n",
       "    <tr>\n",
       "      <th>2</th>\n",
       "      <td>1524145210884</td>\n",
       "      <td>global_historical_PDomWN_month_m_5min_1960_201...</td>\n",
       "      <td>XTVFJUQF4BMHVYVCA2ADAIFI</td>\n",
       "      <td>READY</td>\n",
       "      <td>EXPORT_IMAGE</td>\n",
       "      <td>1524145210884</td>\n",
       "    </tr>\n",
       "    <tr>\n",
       "      <th>3</th>\n",
       "      <td>1524145209661</td>\n",
       "      <td>global_historical_PDomWN_month_m_5min_1960_201...</td>\n",
       "      <td>TZYHR2BYKLYQRLY6FRMCW4O4</td>\n",
       "      <td>READY</td>\n",
       "      <td>EXPORT_IMAGE</td>\n",
       "      <td>1524145209661</td>\n",
       "    </tr>\n",
       "    <tr>\n",
       "      <th>4</th>\n",
       "      <td>1524145207948</td>\n",
       "      <td>global_historical_PDomWN_month_m_5min_1960_201...</td>\n",
       "      <td>ID3UTMKU4KHVU6SOHHUUDFBP</td>\n",
       "      <td>READY</td>\n",
       "      <td>EXPORT_IMAGE</td>\n",
       "      <td>1524145207948</td>\n",
       "    </tr>\n",
       "    <tr>\n",
       "      <th>5</th>\n",
       "      <td>1524145206155</td>\n",
       "      <td>global_historical_PDomWN_month_m_5min_1960_201...</td>\n",
       "      <td>EYYLYD7N43QVX7VJMROMI54T</td>\n",
       "      <td>READY</td>\n",
       "      <td>EXPORT_IMAGE</td>\n",
       "      <td>1524145206155</td>\n",
       "    </tr>\n",
       "    <tr>\n",
       "      <th>6</th>\n",
       "      <td>1524145204433</td>\n",
       "      <td>global_historical_PDomWN_month_m_5min_1960_201...</td>\n",
       "      <td>7KYXXF2HKJPOHXFT5HZD3HBH</td>\n",
       "      <td>READY</td>\n",
       "      <td>EXPORT_IMAGE</td>\n",
       "      <td>1524145204433</td>\n",
       "    </tr>\n",
       "    <tr>\n",
       "      <th>7</th>\n",
       "      <td>1524145202641</td>\n",
       "      <td>global_historical_PDomWN_month_m_5min_1960_201...</td>\n",
       "      <td>R5G7FR4P5F5ZGQSUUKVFAWJI</td>\n",
       "      <td>READY</td>\n",
       "      <td>EXPORT_IMAGE</td>\n",
       "      <td>1524145202641</td>\n",
       "    </tr>\n",
       "    <tr>\n",
       "      <th>8</th>\n",
       "      <td>1524145200956</td>\n",
       "      <td>global_historical_PDomWN_month_m_5min_1960_201...</td>\n",
       "      <td>7EMFEHNWT5EKUQ57CKU5AFUT</td>\n",
       "      <td>READY</td>\n",
       "      <td>EXPORT_IMAGE</td>\n",
       "      <td>1524145200956</td>\n",
       "    </tr>\n",
       "    <tr>\n",
       "      <th>9</th>\n",
       "      <td>1524145199102</td>\n",
       "      <td>global_historical_PDomWN_month_m_5min_1960_201...</td>\n",
       "      <td>TJJCXV6TMW2XHZH7FNEZV6RV</td>\n",
       "      <td>READY</td>\n",
       "      <td>EXPORT_IMAGE</td>\n",
       "      <td>1524145199102</td>\n",
       "    </tr>\n",
       "  </tbody>\n",
       "</table>\n",
       "</div>"
      ],
      "text/plain": [
       "   creation_timestamp_ms                                        description  \\\n",
       "0          1524145213911  global_historical_PDomWN_month_m_5min_1960_201...   \n",
       "1          1524145212742  global_historical_PDomWN_month_m_5min_1960_201...   \n",
       "2          1524145210884  global_historical_PDomWN_month_m_5min_1960_201...   \n",
       "3          1524145209661  global_historical_PDomWN_month_m_5min_1960_201...   \n",
       "4          1524145207948  global_historical_PDomWN_month_m_5min_1960_201...   \n",
       "5          1524145206155  global_historical_PDomWN_month_m_5min_1960_201...   \n",
       "6          1524145204433  global_historical_PDomWN_month_m_5min_1960_201...   \n",
       "7          1524145202641  global_historical_PDomWN_month_m_5min_1960_201...   \n",
       "8          1524145200956  global_historical_PDomWN_month_m_5min_1960_201...   \n",
       "9          1524145199102  global_historical_PDomWN_month_m_5min_1960_201...   \n",
       "\n",
       "                         id  state     task_type  update_timestamp_ms  \n",
       "0  JJZGWFKGLHFENXWH37YGXAEI  READY  EXPORT_IMAGE        1524145213911  \n",
       "1  MVVWDXFYHHBBJHCO7UWVV5OK  READY  EXPORT_IMAGE        1524145212742  \n",
       "2  XTVFJUQF4BMHVYVCA2ADAIFI  READY  EXPORT_IMAGE        1524145210884  \n",
       "3  TZYHR2BYKLYQRLY6FRMCW4O4  READY  EXPORT_IMAGE        1524145209661  \n",
       "4  ID3UTMKU4KHVU6SOHHUUDFBP  READY  EXPORT_IMAGE        1524145207948  \n",
       "5  EYYLYD7N43QVX7VJMROMI54T  READY  EXPORT_IMAGE        1524145206155  \n",
       "6  7KYXXF2HKJPOHXFT5HZD3HBH  READY  EXPORT_IMAGE        1524145204433  \n",
       "7  R5G7FR4P5F5ZGQSUUKVFAWJI  READY  EXPORT_IMAGE        1524145202641  \n",
       "8  7EMFEHNWT5EKUQ57CKU5AFUT  READY  EXPORT_IMAGE        1524145200956  \n",
       "9  TJJCXV6TMW2XHZH7FNEZV6RV  READY  EXPORT_IMAGE        1524145199102  "
      ]
     },
     "execution_count": 8,
     "metadata": {},
     "output_type": "execute_result"
    }
   ],
   "source": [
    "detailedTasks"
   ]
  },
  {
   "cell_type": "markdown",
   "metadata": {},
   "source": [
    "# DANGER ZONE"
   ]
  },
  {
   "cell_type": "code",
   "execution_count": 9,
   "metadata": {},
   "outputs": [],
   "source": [
    "if CANCELTASKS == 1:\n",
    "    pendingTasks = [task for task in taskList if task.config['state'] in (u'RUNNING',u'UNSUBMITTED',u'READY')]\n",
    "    for task in pendingTasks:\n",
    "        cancel_task(task)"
   ]
  },
  {
   "cell_type": "code",
   "execution_count": null,
   "metadata": {
    "collapsed": true
   },
   "outputs": [],
   "source": []
  }
 ],
 "metadata": {
  "kernelspec": {
   "display_name": "Python 27",
   "language": "python",
   "name": "python27"
  },
  "language_info": {
   "codemirror_mode": {
    "name": "ipython",
    "version": 2
   },
   "file_extension": ".py",
   "mimetype": "text/x-python",
   "name": "python",
   "nbconvert_exporter": "python",
   "pygments_lexer": "ipython2",
   "version": "2.7.14"
  }
 },
 "nbformat": 4,
 "nbformat_minor": 2
}
