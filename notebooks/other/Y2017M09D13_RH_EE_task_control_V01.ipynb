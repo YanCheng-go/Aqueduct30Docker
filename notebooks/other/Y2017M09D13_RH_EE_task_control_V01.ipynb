{
 "cells": [
  {
   "cell_type": "markdown",
   "metadata": {},
   "source": [
    "### This script allows to get better control over tasks in earth engine\n",
    "\n",
    "* Purpose of script: allows the user to list tasks and cancel all pending tasks\n",
    "* Author: Rutger Hofste\n",
    "* Kernel used: python27\n",
    "* Date created: 20170913"
   ]
  },
  {
   "cell_type": "code",
   "execution_count": 1,
   "metadata": {},
   "outputs": [
    {
     "name": "stdout",
     "output_type": "stream",
     "text": [
      "('Y2017M12D15', 'UTC 13:57')\n"
     ]
    }
   ],
   "source": [
    "import time\n",
    "dateString = time.strftime(\"Y%YM%mD%d\")\n",
    "timeString = time.strftime(\"UTC %H:%M\")\n",
    "print(dateString,timeString)"
   ]
  },
  {
   "cell_type": "markdown",
   "metadata": {},
   "source": [
    "# Settings"
   ]
  },
  {
   "cell_type": "code",
   "execution_count": 2,
   "metadata": {
    "collapsed": true
   },
   "outputs": [],
   "source": [
    "MAXTASKS = 3\n",
    "CANCELTASKS = 0"
   ]
  },
  {
   "cell_type": "code",
   "execution_count": 3,
   "metadata": {
    "collapsed": true
   },
   "outputs": [],
   "source": [
    "import pandas as pd\n",
    "import ee\n",
    "from retrying import retry\n",
    "import datetime\n",
    "import random"
   ]
  },
  {
   "cell_type": "code",
   "execution_count": 4,
   "metadata": {
    "collapsed": true
   },
   "outputs": [],
   "source": [
    "ee.Initialize()"
   ]
  },
  {
   "cell_type": "markdown",
   "metadata": {},
   "source": [
    "# Functions"
   ]
  },
  {
   "cell_type": "code",
   "execution_count": 5,
   "metadata": {
    "collapsed": true
   },
   "outputs": [],
   "source": [
    "def get_tasks():\n",
    "    return ee.batch.Task.list()\n",
    "\n",
    "def cancel_task(task):\n",
    "    print task\n",
    "    random_time = random.random()\n",
    "    time.sleep(0.5+random_time*0.5)\n",
    "    if task.config['state'] in (u'RUNNING',u'UNSUBMITTED',u'READY') :\n",
    "        print 'canceling %s' % task\n",
    "        task.cancel()\n",
    "        \n",
    "        \n",
    "@retry(wait_exponential_multiplier=10000, wait_exponential_max=100000)\n",
    "def checkStatus(task):\n",
    "    return ee.batch.Task.status(task)\n",
    "           \n",
    "def get_details(taskList,MAXTASKS):\n",
    "    df = pd.DataFrame()\n",
    "    for i in range(0,min(len(taskList),MAXTASKS)):\n",
    "        dictNew = checkStatus(taskList[i])\n",
    "        dfNew = pd.DataFrame(dictNew, index=[i])\n",
    "        try:\n",
    "            dfNew[\"calctime(min)\"] = (dfNew[\"update_timestamp_ms\"]-dfNew[\"start_timestamp_ms\"])/(1000*60)\n",
    "            dfNew[\"queuetime(min)\"] = (dfNew[\"start_timestamp_ms\"]-dfNew[\"creation_timestamp_ms\"])/(1000*60)\n",
    "            dfNew[\"runtime(min)\"]= dfNew[\"queuetime(min)\"]+dfNew[\"calctime(min)\"]\n",
    "            dfNew[\"start_timestamp_UTC\"] = datetime.datetime.fromtimestamp(dfNew[\"start_timestamp_ms\"]/1000).strftime('%H:%M:%S')\n",
    "        except:\n",
    "            pass\n",
    "        df = df.append(dfNew)\n",
    "        print i\n",
    "    return df\n",
    "    \n"
   ]
  },
  {
   "cell_type": "code",
   "execution_count": 6,
   "metadata": {
    "collapsed": true
   },
   "outputs": [],
   "source": [
    "taskList = get_tasks()\n"
   ]
  },
  {
   "cell_type": "code",
   "execution_count": 7,
   "metadata": {},
   "outputs": [
    {
     "name": "stdout",
     "output_type": "stream",
     "text": [
      "0\n",
      "1\n",
      "2\n"
     ]
    }
   ],
   "source": [
    "detailedTasks = get_details(taskList,MAXTASKS)"
   ]
  },
  {
   "cell_type": "code",
   "execution_count": 8,
   "metadata": {},
   "outputs": [
    {
     "data": {
      "text/html": [
       "<div>\n",
       "<style>\n",
       "    .dataframe thead tr:only-child th {\n",
       "        text-align: right;\n",
       "    }\n",
       "\n",
       "    .dataframe thead th {\n",
       "        text-align: left;\n",
       "    }\n",
       "\n",
       "    .dataframe tbody tr th {\n",
       "        vertical-align: top;\n",
       "    }\n",
       "</style>\n",
       "<table border=\"1\" class=\"dataframe\">\n",
       "  <thead>\n",
       "    <tr style=\"text-align: right;\">\n",
       "      <th></th>\n",
       "      <th>calctime(min)</th>\n",
       "      <th>creation_timestamp_ms</th>\n",
       "      <th>description</th>\n",
       "      <th>id</th>\n",
       "      <th>progress</th>\n",
       "      <th>queuetime(min)</th>\n",
       "      <th>runtime(min)</th>\n",
       "      <th>start_timestamp_UTC</th>\n",
       "      <th>start_timestamp_ms</th>\n",
       "      <th>state</th>\n",
       "      <th>task_type</th>\n",
       "      <th>update_timestamp_ms</th>\n",
       "    </tr>\n",
       "  </thead>\n",
       "  <tbody>\n",
       "    <tr>\n",
       "      <th>0</th>\n",
       "      <td>52.502467</td>\n",
       "      <td>1513343019548</td>\n",
       "      <td>global_historical_WS_year_dimensionless_30sPfa...</td>\n",
       "      <td>F4MORRQSVFJPAGTZMRMVJBQS</td>\n",
       "      <td>0.0</td>\n",
       "      <td>0.067800</td>\n",
       "      <td>52.570267</td>\n",
       "      <td>13:03:43</td>\n",
       "      <td>1.513343e+12</td>\n",
       "      <td>RUNNING</td>\n",
       "      <td>EXPORT_IMAGE</td>\n",
       "      <td>1513346173764</td>\n",
       "    </tr>\n",
       "    <tr>\n",
       "      <th>1</th>\n",
       "      <td>52.502583</td>\n",
       "      <td>1513343011929</td>\n",
       "      <td>global_historical_WS_year_dimensionless_30sPfa...</td>\n",
       "      <td>X5S7WJLOAO5HSXWQW546FXF6</td>\n",
       "      <td>0.0</td>\n",
       "      <td>0.051083</td>\n",
       "      <td>52.553667</td>\n",
       "      <td>13:03:34</td>\n",
       "      <td>1.513343e+12</td>\n",
       "      <td>RUNNING</td>\n",
       "      <td>EXPORT_IMAGE</td>\n",
       "      <td>1513346165149</td>\n",
       "    </tr>\n",
       "    <tr>\n",
       "      <th>2</th>\n",
       "      <td>NaN</td>\n",
       "      <td>1513338584900</td>\n",
       "      <td>global_historical_WS_year_dimensionless_30sPfa...</td>\n",
       "      <td>YYJFLHWEM7S2GPOHCVFC4CZF</td>\n",
       "      <td>NaN</td>\n",
       "      <td>NaN</td>\n",
       "      <td>NaN</td>\n",
       "      <td>NaN</td>\n",
       "      <td>NaN</td>\n",
       "      <td>CANCELLED</td>\n",
       "      <td>EXPORT_IMAGE</td>\n",
       "      <td>1513342296079</td>\n",
       "    </tr>\n",
       "  </tbody>\n",
       "</table>\n",
       "</div>"
      ],
      "text/plain": [
       "   calctime(min)  creation_timestamp_ms  \\\n",
       "0      52.502467          1513343019548   \n",
       "1      52.502583          1513343011929   \n",
       "2            NaN          1513338584900   \n",
       "\n",
       "                                         description  \\\n",
       "0  global_historical_WS_year_dimensionless_30sPfa...   \n",
       "1  global_historical_WS_year_dimensionless_30sPfa...   \n",
       "2  global_historical_WS_year_dimensionless_30sPfa...   \n",
       "\n",
       "                         id  progress  queuetime(min)  runtime(min)  \\\n",
       "0  F4MORRQSVFJPAGTZMRMVJBQS       0.0        0.067800     52.570267   \n",
       "1  X5S7WJLOAO5HSXWQW546FXF6       0.0        0.051083     52.553667   \n",
       "2  YYJFLHWEM7S2GPOHCVFC4CZF       NaN             NaN           NaN   \n",
       "\n",
       "  start_timestamp_UTC  start_timestamp_ms      state     task_type  \\\n",
       "0            13:03:43        1.513343e+12    RUNNING  EXPORT_IMAGE   \n",
       "1            13:03:34        1.513343e+12    RUNNING  EXPORT_IMAGE   \n",
       "2                 NaN                 NaN  CANCELLED  EXPORT_IMAGE   \n",
       "\n",
       "   update_timestamp_ms  \n",
       "0        1513346173764  \n",
       "1        1513346165149  \n",
       "2        1513342296079  "
      ]
     },
     "execution_count": 8,
     "metadata": {},
     "output_type": "execute_result"
    }
   ],
   "source": [
    "detailedTasks"
   ]
  },
  {
   "cell_type": "markdown",
   "metadata": {},
   "source": [
    "# DANGER ZONE"
   ]
  },
  {
   "cell_type": "code",
   "execution_count": 9,
   "metadata": {},
   "outputs": [],
   "source": [
    "if CANCELTASKS == 1:\n",
    "    pendingTasks = [task for task in taskList if task.config['state'] in (u'RUNNING',u'UNSUBMITTED',u'READY')]\n",
    "    for task in pendingTasks:\n",
    "        cancel_task(task)"
   ]
  },
  {
   "cell_type": "code",
   "execution_count": null,
   "metadata": {
    "collapsed": true
   },
   "outputs": [],
   "source": []
  }
 ],
 "metadata": {
  "kernelspec": {
   "display_name": "Python 27",
   "language": "python",
   "name": "python27"
  },
  "language_info": {
   "codemirror_mode": {
    "name": "ipython",
    "version": 2
   },
   "file_extension": ".py",
   "mimetype": "text/x-python",
   "name": "python",
   "nbconvert_exporter": "python",
   "pygments_lexer": "ipython2",
   "version": "2.7.13"
  }
 },
 "nbformat": 4,
 "nbformat_minor": 2
}
