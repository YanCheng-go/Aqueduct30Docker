{
 "cells": [
  {
   "cell_type": "markdown",
   "metadata": {},
   "source": [
    "### This script allows to get better control over tasks in earth engine\n",
    "\n",
    "* Purpose of script: allows the user to list tasks and cancel all pending tasks\n",
    "* Author: Rutger Hofste\n",
    "* Kernel used: python27\n",
    "* Date created: 20170913"
   ]
  },
  {
   "cell_type": "code",
   "execution_count": 1,
   "metadata": {},
   "outputs": [
    {
     "name": "stdout",
     "output_type": "stream",
     "text": [
      "('Y2018M04D17', 'UTC 12:10')\n"
     ]
    }
   ],
   "source": [
    "import time\n",
    "dateString = time.strftime(\"Y%YM%mD%d\")\n",
    "timeString = time.strftime(\"UTC %H:%M\")\n",
    "print(dateString,timeString)"
   ]
  },
  {
   "cell_type": "markdown",
   "metadata": {},
   "source": [
    "# Settings"
   ]
  },
  {
   "cell_type": "code",
   "execution_count": 2,
   "metadata": {
    "collapsed": true
   },
   "outputs": [],
   "source": [
    "MAXTASKS = 10\n",
    "CANCELTASKS = 0"
   ]
  },
  {
   "cell_type": "code",
   "execution_count": 3,
   "metadata": {
    "collapsed": true
   },
   "outputs": [],
   "source": [
    "import pandas as pd\n",
    "import ee\n",
    "from retrying import retry\n",
    "import datetime\n",
    "import random"
   ]
  },
  {
   "cell_type": "code",
   "execution_count": 4,
   "metadata": {
    "collapsed": true
   },
   "outputs": [],
   "source": [
    "ee.Initialize()"
   ]
  },
  {
   "cell_type": "markdown",
   "metadata": {},
   "source": [
    "# Functions"
   ]
  },
  {
   "cell_type": "code",
   "execution_count": 5,
   "metadata": {
    "collapsed": true
   },
   "outputs": [],
   "source": [
    "def get_tasks():\n",
    "    return ee.batch.Task.list()\n",
    "\n",
    "def cancel_task(task):\n",
    "    print task\n",
    "    random_time = random.random()\n",
    "    time.sleep(0.5+random_time*0.5)\n",
    "    if task.config['state'] in (u'RUNNING',u'UNSUBMITTED',u'READY') :\n",
    "        print 'canceling %s' % task\n",
    "        task.cancel()\n",
    "        \n",
    "        \n",
    "@retry(wait_exponential_multiplier=10000, wait_exponential_max=100000)\n",
    "def checkStatus(task):\n",
    "    return ee.batch.Task.status(task)\n",
    "           \n",
    "def get_details(taskList,MAXTASKS):\n",
    "    df = pd.DataFrame()\n",
    "    for i in range(0,min(len(taskList),MAXTASKS)):\n",
    "        dictNew = checkStatus(taskList[i])\n",
    "        dfNew = pd.DataFrame(dictNew, index=[i])\n",
    "        try:\n",
    "            dfNew[\"calctime(min)\"] = (dfNew[\"update_timestamp_ms\"]-dfNew[\"start_timestamp_ms\"])/(1000*60)\n",
    "            dfNew[\"queuetime(min)\"] = (dfNew[\"start_timestamp_ms\"]-dfNew[\"creation_timestamp_ms\"])/(1000*60)\n",
    "            dfNew[\"runtime(min)\"]= dfNew[\"queuetime(min)\"]+dfNew[\"calctime(min)\"]\n",
    "            dfNew[\"start_timestamp_UTC\"] = datetime.datetime.fromtimestamp(dfNew[\"start_timestamp_ms\"]/1000).strftime('%H:%M:%S')\n",
    "        except:\n",
    "            pass\n",
    "        df = df.append(dfNew)\n",
    "        print i\n",
    "    return df\n",
    "    \n"
   ]
  },
  {
   "cell_type": "code",
   "execution_count": 6,
   "metadata": {
    "collapsed": true
   },
   "outputs": [],
   "source": [
    "taskList = get_tasks()\n"
   ]
  },
  {
   "cell_type": "code",
   "execution_count": 7,
   "metadata": {},
   "outputs": [
    {
     "name": "stdout",
     "output_type": "stream",
     "text": [
      "0\n",
      "1\n",
      "2\n",
      "3\n",
      "4\n",
      "5\n",
      "6\n",
      "7\n",
      "8\n",
      "9\n"
     ]
    }
   ],
   "source": [
    "detailedTasks = get_details(taskList,MAXTASKS)"
   ]
  },
  {
   "cell_type": "code",
   "execution_count": 8,
   "metadata": {},
   "outputs": [
    {
     "data": {
      "text/html": [
       "<div>\n",
       "<style scoped>\n",
       "    .dataframe tbody tr th:only-of-type {\n",
       "        vertical-align: middle;\n",
       "    }\n",
       "\n",
       "    .dataframe tbody tr th {\n",
       "        vertical-align: top;\n",
       "    }\n",
       "\n",
       "    .dataframe thead th {\n",
       "        text-align: right;\n",
       "    }\n",
       "</style>\n",
       "<table border=\"1\" class=\"dataframe\">\n",
       "  <thead>\n",
       "    <tr style=\"text-align: right;\">\n",
       "      <th></th>\n",
       "      <th>calctime(min)</th>\n",
       "      <th>creation_timestamp_ms</th>\n",
       "      <th>description</th>\n",
       "      <th>id</th>\n",
       "      <th>output_url</th>\n",
       "      <th>progress</th>\n",
       "      <th>queuetime(min)</th>\n",
       "      <th>runtime(min)</th>\n",
       "      <th>start_timestamp_UTC</th>\n",
       "      <th>start_timestamp_ms</th>\n",
       "      <th>state</th>\n",
       "      <th>task_type</th>\n",
       "      <th>update_timestamp_ms</th>\n",
       "    </tr>\n",
       "  </thead>\n",
       "  <tbody>\n",
       "    <tr>\n",
       "      <th>0</th>\n",
       "      <td>0.004550</td>\n",
       "      <td>1523967059312</td>\n",
       "      <td>Asset ingestion: projects/WRI-Aquaduct/PCRGlob...</td>\n",
       "      <td>7CCGQ4JNR227KI2QIZUUXVNV</td>\n",
       "      <td>NaN</td>\n",
       "      <td>0.0</td>\n",
       "      <td>0.094267</td>\n",
       "      <td>0.098817</td>\n",
       "      <td>12:11:04</td>\n",
       "      <td>1523967064968</td>\n",
       "      <td>RUNNING</td>\n",
       "      <td>INGEST</td>\n",
       "      <td>1523967065241</td>\n",
       "    </tr>\n",
       "    <tr>\n",
       "      <th>1</th>\n",
       "      <td>0.003133</td>\n",
       "      <td>1523967056103</td>\n",
       "      <td>Asset ingestion: projects/WRI-Aquaduct/PCRGlob...</td>\n",
       "      <td>LYMV7R5SFX6F2PQY3RLWEOOJ</td>\n",
       "      <td>NaN</td>\n",
       "      <td>0.0</td>\n",
       "      <td>0.088233</td>\n",
       "      <td>0.091367</td>\n",
       "      <td>12:11:01</td>\n",
       "      <td>1523967061397</td>\n",
       "      <td>RUNNING</td>\n",
       "      <td>INGEST</td>\n",
       "      <td>1523967061585</td>\n",
       "    </tr>\n",
       "    <tr>\n",
       "      <th>2</th>\n",
       "      <td>0.004517</td>\n",
       "      <td>1523967052885</td>\n",
       "      <td>Asset ingestion: projects/WRI-Aquaduct/PCRGlob...</td>\n",
       "      <td>6MNZPQHTMYNE2T3RLYOWLSAY</td>\n",
       "      <td>NaN</td>\n",
       "      <td>0.0</td>\n",
       "      <td>0.068950</td>\n",
       "      <td>0.073467</td>\n",
       "      <td>12:10:57</td>\n",
       "      <td>1523967057022</td>\n",
       "      <td>RUNNING</td>\n",
       "      <td>INGEST</td>\n",
       "      <td>1523967057293</td>\n",
       "    </tr>\n",
       "    <tr>\n",
       "      <th>3</th>\n",
       "      <td>0.004500</td>\n",
       "      <td>1523967049542</td>\n",
       "      <td>Asset ingestion: projects/WRI-Aquaduct/PCRGlob...</td>\n",
       "      <td>RKUL4JCQWD4FCSPJGHVC6F53</td>\n",
       "      <td>NaN</td>\n",
       "      <td>0.0</td>\n",
       "      <td>0.051883</td>\n",
       "      <td>0.056383</td>\n",
       "      <td>12:10:52</td>\n",
       "      <td>1523967052655</td>\n",
       "      <td>RUNNING</td>\n",
       "      <td>INGEST</td>\n",
       "      <td>1523967052925</td>\n",
       "    </tr>\n",
       "    <tr>\n",
       "      <th>4</th>\n",
       "      <td>0.004533</td>\n",
       "      <td>1523967046365</td>\n",
       "      <td>Asset ingestion: projects/WRI-Aquaduct/PCRGlob...</td>\n",
       "      <td>A7FOQ73BBBACIDYV7DYHHPUD</td>\n",
       "      <td>NaN</td>\n",
       "      <td>0.0</td>\n",
       "      <td>0.046367</td>\n",
       "      <td>0.050900</td>\n",
       "      <td>12:10:49</td>\n",
       "      <td>1523967049147</td>\n",
       "      <td>RUNNING</td>\n",
       "      <td>INGEST</td>\n",
       "      <td>1523967049419</td>\n",
       "    </tr>\n",
       "    <tr>\n",
       "      <th>5</th>\n",
       "      <td>0.003133</td>\n",
       "      <td>1523967043192</td>\n",
       "      <td>Asset ingestion: projects/WRI-Aquaduct/PCRGlob...</td>\n",
       "      <td>LOCKVQRR3FYGVJDNCVZ4PUGC</td>\n",
       "      <td>NaN</td>\n",
       "      <td>0.0</td>\n",
       "      <td>0.090850</td>\n",
       "      <td>0.093983</td>\n",
       "      <td>12:10:48</td>\n",
       "      <td>1523967048643</td>\n",
       "      <td>RUNNING</td>\n",
       "      <td>INGEST</td>\n",
       "      <td>1523967048831</td>\n",
       "    </tr>\n",
       "    <tr>\n",
       "      <th>6</th>\n",
       "      <td>0.004500</td>\n",
       "      <td>1523967040034</td>\n",
       "      <td>Asset ingestion: projects/WRI-Aquaduct/PCRGlob...</td>\n",
       "      <td>I7RFZUC6WUHRRRYSQZAGNMPB</td>\n",
       "      <td>NaN</td>\n",
       "      <td>0.0</td>\n",
       "      <td>0.085133</td>\n",
       "      <td>0.089633</td>\n",
       "      <td>12:10:45</td>\n",
       "      <td>1523967045142</td>\n",
       "      <td>RUNNING</td>\n",
       "      <td>INGEST</td>\n",
       "      <td>1523967045412</td>\n",
       "    </tr>\n",
       "    <tr>\n",
       "      <th>7</th>\n",
       "      <td>0.004483</td>\n",
       "      <td>1523967036849</td>\n",
       "      <td>Asset ingestion: projects/WRI-Aquaduct/PCRGlob...</td>\n",
       "      <td>G2MKVN23IS4PABY5HTXR6AB7</td>\n",
       "      <td>NaN</td>\n",
       "      <td>0.0</td>\n",
       "      <td>0.064800</td>\n",
       "      <td>0.069283</td>\n",
       "      <td>12:10:40</td>\n",
       "      <td>1523967040737</td>\n",
       "      <td>RUNNING</td>\n",
       "      <td>INGEST</td>\n",
       "      <td>1523967041006</td>\n",
       "    </tr>\n",
       "    <tr>\n",
       "      <th>8</th>\n",
       "      <td>0.004533</td>\n",
       "      <td>1523967033639</td>\n",
       "      <td>Asset ingestion: projects/WRI-Aquaduct/PCRGlob...</td>\n",
       "      <td>UJ53IAYH52YEGTPGGONHZPC4</td>\n",
       "      <td>NaN</td>\n",
       "      <td>0.0</td>\n",
       "      <td>0.108983</td>\n",
       "      <td>0.113517</td>\n",
       "      <td>12:10:40</td>\n",
       "      <td>1523967040178</td>\n",
       "      <td>RUNNING</td>\n",
       "      <td>INGEST</td>\n",
       "      <td>1523967040450</td>\n",
       "    </tr>\n",
       "    <tr>\n",
       "      <th>9</th>\n",
       "      <td>0.546083</td>\n",
       "      <td>1523967030408</td>\n",
       "      <td>Asset ingestion: projects/WRI-Aquaduct/PCRGlob...</td>\n",
       "      <td>3Y4GZRQMVHFLTWCGTGVJ332K</td>\n",
       "      <td>https://code.earthengine.google.com/?asset=pro...</td>\n",
       "      <td>NaN</td>\n",
       "      <td>0.080117</td>\n",
       "      <td>0.626200</td>\n",
       "      <td>12:10:35</td>\n",
       "      <td>1523967035215</td>\n",
       "      <td>COMPLETED</td>\n",
       "      <td>INGEST</td>\n",
       "      <td>1523967067980</td>\n",
       "    </tr>\n",
       "  </tbody>\n",
       "</table>\n",
       "</div>"
      ],
      "text/plain": [
       "   calctime(min)  creation_timestamp_ms  \\\n",
       "0       0.004550          1523967059312   \n",
       "1       0.003133          1523967056103   \n",
       "2       0.004517          1523967052885   \n",
       "3       0.004500          1523967049542   \n",
       "4       0.004533          1523967046365   \n",
       "5       0.003133          1523967043192   \n",
       "6       0.004500          1523967040034   \n",
       "7       0.004483          1523967036849   \n",
       "8       0.004533          1523967033639   \n",
       "9       0.546083          1523967030408   \n",
       "\n",
       "                                         description  \\\n",
       "0  Asset ingestion: projects/WRI-Aquaduct/PCRGlob...   \n",
       "1  Asset ingestion: projects/WRI-Aquaduct/PCRGlob...   \n",
       "2  Asset ingestion: projects/WRI-Aquaduct/PCRGlob...   \n",
       "3  Asset ingestion: projects/WRI-Aquaduct/PCRGlob...   \n",
       "4  Asset ingestion: projects/WRI-Aquaduct/PCRGlob...   \n",
       "5  Asset ingestion: projects/WRI-Aquaduct/PCRGlob...   \n",
       "6  Asset ingestion: projects/WRI-Aquaduct/PCRGlob...   \n",
       "7  Asset ingestion: projects/WRI-Aquaduct/PCRGlob...   \n",
       "8  Asset ingestion: projects/WRI-Aquaduct/PCRGlob...   \n",
       "9  Asset ingestion: projects/WRI-Aquaduct/PCRGlob...   \n",
       "\n",
       "                         id  \\\n",
       "0  7CCGQ4JNR227KI2QIZUUXVNV   \n",
       "1  LYMV7R5SFX6F2PQY3RLWEOOJ   \n",
       "2  6MNZPQHTMYNE2T3RLYOWLSAY   \n",
       "3  RKUL4JCQWD4FCSPJGHVC6F53   \n",
       "4  A7FOQ73BBBACIDYV7DYHHPUD   \n",
       "5  LOCKVQRR3FYGVJDNCVZ4PUGC   \n",
       "6  I7RFZUC6WUHRRRYSQZAGNMPB   \n",
       "7  G2MKVN23IS4PABY5HTXR6AB7   \n",
       "8  UJ53IAYH52YEGTPGGONHZPC4   \n",
       "9  3Y4GZRQMVHFLTWCGTGVJ332K   \n",
       "\n",
       "                                          output_url  progress  \\\n",
       "0                                                NaN       0.0   \n",
       "1                                                NaN       0.0   \n",
       "2                                                NaN       0.0   \n",
       "3                                                NaN       0.0   \n",
       "4                                                NaN       0.0   \n",
       "5                                                NaN       0.0   \n",
       "6                                                NaN       0.0   \n",
       "7                                                NaN       0.0   \n",
       "8                                                NaN       0.0   \n",
       "9  https://code.earthengine.google.com/?asset=pro...       NaN   \n",
       "\n",
       "   queuetime(min)  runtime(min) start_timestamp_UTC  start_timestamp_ms  \\\n",
       "0        0.094267      0.098817            12:11:04       1523967064968   \n",
       "1        0.088233      0.091367            12:11:01       1523967061397   \n",
       "2        0.068950      0.073467            12:10:57       1523967057022   \n",
       "3        0.051883      0.056383            12:10:52       1523967052655   \n",
       "4        0.046367      0.050900            12:10:49       1523967049147   \n",
       "5        0.090850      0.093983            12:10:48       1523967048643   \n",
       "6        0.085133      0.089633            12:10:45       1523967045142   \n",
       "7        0.064800      0.069283            12:10:40       1523967040737   \n",
       "8        0.108983      0.113517            12:10:40       1523967040178   \n",
       "9        0.080117      0.626200            12:10:35       1523967035215   \n",
       "\n",
       "       state task_type  update_timestamp_ms  \n",
       "0    RUNNING    INGEST        1523967065241  \n",
       "1    RUNNING    INGEST        1523967061585  \n",
       "2    RUNNING    INGEST        1523967057293  \n",
       "3    RUNNING    INGEST        1523967052925  \n",
       "4    RUNNING    INGEST        1523967049419  \n",
       "5    RUNNING    INGEST        1523967048831  \n",
       "6    RUNNING    INGEST        1523967045412  \n",
       "7    RUNNING    INGEST        1523967041006  \n",
       "8    RUNNING    INGEST        1523967040450  \n",
       "9  COMPLETED    INGEST        1523967067980  "
      ]
     },
     "execution_count": 8,
     "metadata": {},
     "output_type": "execute_result"
    }
   ],
   "source": [
    "detailedTasks"
   ]
  },
  {
   "cell_type": "markdown",
   "metadata": {},
   "source": [
    "# DANGER ZONE"
   ]
  },
  {
   "cell_type": "code",
   "execution_count": 9,
   "metadata": {
    "collapsed": true
   },
   "outputs": [],
   "source": [
    "if CANCELTASKS == 1:\n",
    "    pendingTasks = [task for task in taskList if task.config['state'] in (u'RUNNING',u'UNSUBMITTED',u'READY')]\n",
    "    for task in pendingTasks:\n",
    "        cancel_task(task)"
   ]
  },
  {
   "cell_type": "code",
   "execution_count": null,
   "metadata": {
    "collapsed": true
   },
   "outputs": [],
   "source": []
  }
 ],
 "metadata": {
  "kernelspec": {
   "display_name": "Python 27",
   "language": "python",
   "name": "python27"
  },
  "language_info": {
   "codemirror_mode": {
    "name": "ipython",
    "version": 2
   },
   "file_extension": ".py",
   "mimetype": "text/x-python",
   "name": "python",
   "nbconvert_exporter": "python",
   "pygments_lexer": "ipython2",
   "version": "2.7.14"
  }
 },
 "nbformat": 4,
 "nbformat_minor": 2
}
