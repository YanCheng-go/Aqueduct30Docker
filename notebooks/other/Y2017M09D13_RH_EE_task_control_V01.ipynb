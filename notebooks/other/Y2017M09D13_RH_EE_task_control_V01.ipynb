{
 "cells": [
  {
   "cell_type": "markdown",
   "metadata": {},
   "source": [
    "### This script allows to get better control over tasks in earth engine\n",
    "\n",
    "* Purpose of script: allows the user to list tasks and cancel all pending tasks\n",
    "* Author: Rutger Hofste\n",
    "* Kernel used: python27\n",
    "* Date created: 20170913"
   ]
  },
  {
   "cell_type": "code",
   "execution_count": 1,
   "metadata": {},
   "outputs": [
    {
     "name": "stdout",
     "output_type": "stream",
     "text": [
      "Output s3: s3://wri-projects/Aqueduct30/processData/Y2017M09D13_RH_EE_task_control_V01/output_V01/\n",
      "Output ec2: /volumes/data/Y2017M09D13_RH_EE_task_control_V01/output_V01/\n"
     ]
    }
   ],
   "source": [
    "SCRIPT_NAME = \"Y2017M09D13_RH_EE_task_control_V01\"\n",
    "OUTPUT_VERSION = 1\n",
    "OUTPUT_FILE_NAME = \"detailed_tasks\"\n",
    "\n",
    "\n",
    "ec2_output_path = (\"/volumes/data/{}/output_V{:02.0f}/\").format(SCRIPT_NAME,OUTPUT_VERSION)\n",
    "s3_output_path = \"s3://wri-projects/Aqueduct30/processData/{}/output_V{:02.0f}/\".format(SCRIPT_NAME,OUTPUT_VERSION)\n",
    "\n",
    "print(\"Output s3: \" + s3_output_path +\n",
    "      \"\\nOutput ec2: \" + ec2_output_path)\n"
   ]
  },
  {
   "cell_type": "code",
   "execution_count": 2,
   "metadata": {
    "collapsed": true
   },
   "outputs": [],
   "source": [
    "!rm -r {ec2_output_path}\n",
    "!mkdir -p {ec2_output_path}"
   ]
  },
  {
   "cell_type": "code",
   "execution_count": 3,
   "metadata": {},
   "outputs": [
    {
     "name": "stdout",
     "output_type": "stream",
     "text": [
      "Y2018M04D25 UTC 06:46\n"
     ]
    }
   ],
   "source": [
    "import time\n",
    "dateString = time.strftime(\"Y%YM%mD%d\")\n",
    "timeString = time.strftime(\"UTC %H:%M\")\n",
    "print(dateString,timeString)"
   ]
  },
  {
   "cell_type": "markdown",
   "metadata": {},
   "source": [
    "# Settings"
   ]
  },
  {
   "cell_type": "code",
   "execution_count": 4,
   "metadata": {
    "collapsed": true
   },
   "outputs": [],
   "source": [
    "MAXTASKS = 20\n",
    "CANCELTASKS = 0 # Cancels all pending tasks"
   ]
  },
  {
   "cell_type": "code",
   "execution_count": 5,
   "metadata": {
    "collapsed": true
   },
   "outputs": [],
   "source": [
    "import pandas as pd\n",
    "import ee\n",
    "from retrying import retry\n",
    "import datetime\n",
    "import random"
   ]
  },
  {
   "cell_type": "code",
   "execution_count": 6,
   "metadata": {
    "collapsed": true
   },
   "outputs": [],
   "source": [
    "ee.Initialize()"
   ]
  },
  {
   "cell_type": "markdown",
   "metadata": {},
   "source": [
    "# Functions"
   ]
  },
  {
   "cell_type": "code",
   "execution_count": 7,
   "metadata": {
    "collapsed": true
   },
   "outputs": [],
   "source": [
    "def get_tasks():\n",
    "    return ee.batch.Task.list()\n",
    "\n",
    "def cancel_task(task):\n",
    "    print(task)\n",
    "    random_time = random.random()\n",
    "    time.sleep(0.5+random_time*0.5)\n",
    "    if task.config['state'] in (u'RUNNING',u'UNSUBMITTED',u'READY') :\n",
    "        print('canceling %s' % task)\n",
    "        task.cancel()\n",
    "        \n",
    "        \n",
    "@retry(wait_exponential_multiplier=10000, wait_exponential_max=100000)\n",
    "def checkStatus(task):\n",
    "    return ee.batch.Task.status(task)\n",
    "           \n",
    "def get_details(taskList,MAXTASKS):\n",
    "    df = pd.DataFrame()\n",
    "    for i in range(0,min(len(taskList),MAXTASKS)):\n",
    "        dictNew = checkStatus(taskList[i])\n",
    "        dfNew = pd.DataFrame(dictNew, index=[i])\n",
    "        try:\n",
    "            dfNew[\"calctime(min)\"] = (dfNew[\"update_timestamp_ms\"]-dfNew[\"start_timestamp_ms\"])/(1000*60)\n",
    "            dfNew[\"queuetime(min)\"] = (dfNew[\"start_timestamp_ms\"]-dfNew[\"creation_timestamp_ms\"])/(1000*60)\n",
    "            dfNew[\"runtime(min)\"]= dfNew[\"queuetime(min)\"]+dfNew[\"calctime(min)\"]\n",
    "            dfNew[\"start_timestamp_UTC\"] = datetime.datetime.fromtimestamp(dfNew[\"start_timestamp_ms\"]/1000).strftime('%H:%M:%S')\n",
    "        except:\n",
    "            pass\n",
    "        df = df.append(dfNew)\n",
    "        print(i)\n",
    "    return df\n",
    "    \n"
   ]
  },
  {
   "cell_type": "code",
   "execution_count": 8,
   "metadata": {
    "collapsed": true
   },
   "outputs": [],
   "source": [
    "taskList = get_tasks()\n"
   ]
  },
  {
   "cell_type": "code",
   "execution_count": 9,
   "metadata": {},
   "outputs": [
    {
     "data": {
      "text/plain": [
       "list"
      ]
     },
     "execution_count": 9,
     "metadata": {},
     "output_type": "execute_result"
    }
   ],
   "source": [
    "type(taskList)"
   ]
  },
  {
   "cell_type": "code",
   "execution_count": 10,
   "metadata": {},
   "outputs": [
    {
     "data": {
      "text/plain": [
       "17853"
      ]
     },
     "execution_count": 10,
     "metadata": {},
     "output_type": "execute_result"
    }
   ],
   "source": [
    "len(taskList)"
   ]
  },
  {
   "cell_type": "code",
   "execution_count": 11,
   "metadata": {},
   "outputs": [
    {
     "name": "stdout",
     "output_type": "stream",
     "text": [
      "0\n",
      "1\n",
      "2\n",
      "3\n",
      "4\n",
      "5\n",
      "6\n",
      "7\n",
      "8\n",
      "9\n",
      "10\n",
      "11\n",
      "12\n",
      "13\n",
      "14\n",
      "15\n",
      "16\n",
      "17\n",
      "18\n",
      "19\n"
     ]
    }
   ],
   "source": [
    "detailedTasks = get_details(taskList,MAXTASKS)"
   ]
  },
  {
   "cell_type": "code",
   "execution_count": null,
   "metadata": {
    "collapsed": true
   },
   "outputs": [],
   "source": []
  },
  {
   "cell_type": "code",
   "execution_count": 12,
   "metadata": {
    "collapsed": true
   },
   "outputs": [],
   "source": [
    "detailedTasks.to_csv(ec2_output_path + OUTPUT_FILE_NAME + \".csv\")\n",
    "detailedTasks.to_pickle(ec2_output_path + OUTPUT_FILE_NAME + \".pkl\")"
   ]
  },
  {
   "cell_type": "code",
   "execution_count": 13,
   "metadata": {},
   "outputs": [
    {
     "name": "stdout",
     "output_type": "stream",
     "text": [
      "upload: ../../../../data/Y2017M09D13_RH_EE_task_control_V01/output_V01/detailed_tasks.pkl to s3://wri-projects/Aqueduct30/processData/Y2017M09D13_RH_EE_task_control_V01/output_V01/detailed_tasks.pkl\n",
      "upload: ../../../../data/Y2017M09D13_RH_EE_task_control_V01/output_V01/detailed_tasks.csv to s3://wri-projects/Aqueduct30/processData/Y2017M09D13_RH_EE_task_control_V01/output_V01/detailed_tasks.csv\n"
     ]
    }
   ],
   "source": [
    "!aws s3 cp {ec2_output_path} {s3_output_path} --recursive"
   ]
  },
  {
   "cell_type": "markdown",
   "metadata": {},
   "source": [
    "# DANGER ZONE"
   ]
  },
  {
   "cell_type": "code",
   "execution_count": 14,
   "metadata": {},
   "outputs": [
    {
     "data": {
      "text/html": [
       "<div>\n",
       "<style scoped>\n",
       "    .dataframe tbody tr th:only-of-type {\n",
       "        vertical-align: middle;\n",
       "    }\n",
       "\n",
       "    .dataframe tbody tr th {\n",
       "        vertical-align: top;\n",
       "    }\n",
       "\n",
       "    .dataframe thead th {\n",
       "        text-align: right;\n",
       "    }\n",
       "</style>\n",
       "<table border=\"1\" class=\"dataframe\">\n",
       "  <thead>\n",
       "    <tr style=\"text-align: right;\">\n",
       "      <th></th>\n",
       "      <th>creation_timestamp_ms</th>\n",
       "      <th>description</th>\n",
       "      <th>id</th>\n",
       "      <th>output_url</th>\n",
       "      <th>start_timestamp_ms</th>\n",
       "      <th>state</th>\n",
       "      <th>task_type</th>\n",
       "      <th>update_timestamp_ms</th>\n",
       "      <th>calctime(min)</th>\n",
       "      <th>queuetime(min)</th>\n",
       "      <th>runtime(min)</th>\n",
       "      <th>start_timestamp_UTC</th>\n",
       "    </tr>\n",
       "  </thead>\n",
       "  <tbody>\n",
       "    <tr>\n",
       "      <th>0</th>\n",
       "      <td>1524577909915</td>\n",
       "      <td>global_historical_riverdischarge_month_million...</td>\n",
       "      <td>OGNUAR4ZBDPKC2DYUAW44TWG</td>\n",
       "      <td>https://code.earthengine.google.com/?asset=pro...</td>\n",
       "      <td>1524600405136</td>\n",
       "      <td>COMPLETED</td>\n",
       "      <td>EXPORT_IMAGE</td>\n",
       "      <td>1524600595121</td>\n",
       "      <td>3.166417</td>\n",
       "      <td>374.920350</td>\n",
       "      <td>378.086767</td>\n",
       "      <td>20:06:45</td>\n",
       "    </tr>\n",
       "    <tr>\n",
       "      <th>1</th>\n",
       "      <td>1524577906512</td>\n",
       "      <td>global_historical_riverdischarge_month_million...</td>\n",
       "      <td>3YMP4UZWNBUVCCZAYK6KZAYY</td>\n",
       "      <td>https://code.earthengine.google.com/?asset=pro...</td>\n",
       "      <td>1524600404277</td>\n",
       "      <td>COMPLETED</td>\n",
       "      <td>EXPORT_IMAGE</td>\n",
       "      <td>1524600599427</td>\n",
       "      <td>3.252500</td>\n",
       "      <td>374.962750</td>\n",
       "      <td>378.215250</td>\n",
       "      <td>20:06:44</td>\n",
       "    </tr>\n",
       "    <tr>\n",
       "      <th>2</th>\n",
       "      <td>1524577902508</td>\n",
       "      <td>global_historical_riverdischarge_month_million...</td>\n",
       "      <td>ZR3LHGWIUZFVUEKOS7MWS3ZC</td>\n",
       "      <td>https://code.earthengine.google.com/?asset=pro...</td>\n",
       "      <td>1524600296815</td>\n",
       "      <td>COMPLETED</td>\n",
       "      <td>EXPORT_IMAGE</td>\n",
       "      <td>1524600476611</td>\n",
       "      <td>2.996600</td>\n",
       "      <td>373.238450</td>\n",
       "      <td>376.235050</td>\n",
       "      <td>20:04:56</td>\n",
       "    </tr>\n",
       "    <tr>\n",
       "      <th>3</th>\n",
       "      <td>1524577898590</td>\n",
       "      <td>global_historical_riverdischarge_month_million...</td>\n",
       "      <td>UDHOOEIIQFIBCYFGS3Z4P3L5</td>\n",
       "      <td>https://code.earthengine.google.com/?asset=pro...</td>\n",
       "      <td>1524600234429</td>\n",
       "      <td>COMPLETED</td>\n",
       "      <td>EXPORT_IMAGE</td>\n",
       "      <td>1524600408689</td>\n",
       "      <td>2.904333</td>\n",
       "      <td>372.263983</td>\n",
       "      <td>375.168317</td>\n",
       "      <td>20:03:54</td>\n",
       "    </tr>\n",
       "    <tr>\n",
       "      <th>4</th>\n",
       "      <td>1524577894652</td>\n",
       "      <td>global_historical_riverdischarge_month_million...</td>\n",
       "      <td>OBCZFCSRMI64HL3CBKQC6O46</td>\n",
       "      <td>https://code.earthengine.google.com/?asset=pro...</td>\n",
       "      <td>1524600224892</td>\n",
       "      <td>COMPLETED</td>\n",
       "      <td>EXPORT_IMAGE</td>\n",
       "      <td>1524600402184</td>\n",
       "      <td>2.954867</td>\n",
       "      <td>372.170667</td>\n",
       "      <td>375.125533</td>\n",
       "      <td>20:03:44</td>\n",
       "    </tr>\n",
       "    <tr>\n",
       "      <th>5</th>\n",
       "      <td>1524577890754</td>\n",
       "      <td>global_historical_riverdischarge_month_million...</td>\n",
       "      <td>QD4232MMZDDW6BLWXA5NNFAK</td>\n",
       "      <td>https://code.earthengine.google.com/?asset=pro...</td>\n",
       "      <td>1524600221133</td>\n",
       "      <td>COMPLETED</td>\n",
       "      <td>EXPORT_IMAGE</td>\n",
       "      <td>1524600400887</td>\n",
       "      <td>2.995900</td>\n",
       "      <td>372.172983</td>\n",
       "      <td>375.168883</td>\n",
       "      <td>20:03:41</td>\n",
       "    </tr>\n",
       "    <tr>\n",
       "      <th>6</th>\n",
       "      <td>1524577886817</td>\n",
       "      <td>global_historical_riverdischarge_month_million...</td>\n",
       "      <td>YCVMMHPKSC7EOV22K3JRIEU2</td>\n",
       "      <td>https://code.earthengine.google.com/?asset=pro...</td>\n",
       "      <td>1524600217084</td>\n",
       "      <td>COMPLETED</td>\n",
       "      <td>EXPORT_IMAGE</td>\n",
       "      <td>1524600400309</td>\n",
       "      <td>3.053750</td>\n",
       "      <td>372.171117</td>\n",
       "      <td>375.224867</td>\n",
       "      <td>20:03:37</td>\n",
       "    </tr>\n",
       "    <tr>\n",
       "      <th>7</th>\n",
       "      <td>1524577882881</td>\n",
       "      <td>global_historical_riverdischarge_month_million...</td>\n",
       "      <td>O76WAOS2WQZHXCNNWJXNKDMW</td>\n",
       "      <td>https://code.earthengine.google.com/?asset=pro...</td>\n",
       "      <td>1524600107607</td>\n",
       "      <td>COMPLETED</td>\n",
       "      <td>EXPORT_IMAGE</td>\n",
       "      <td>1524600292951</td>\n",
       "      <td>3.089067</td>\n",
       "      <td>370.412100</td>\n",
       "      <td>373.501167</td>\n",
       "      <td>20:01:47</td>\n",
       "    </tr>\n",
       "    <tr>\n",
       "      <th>8</th>\n",
       "      <td>1524577879054</td>\n",
       "      <td>global_historical_riverdischarge_month_million...</td>\n",
       "      <td>NNTJVY5EGIKFXX5Y7ZKA6ZA2</td>\n",
       "      <td>https://code.earthengine.google.com/?asset=pro...</td>\n",
       "      <td>1524600056432</td>\n",
       "      <td>COMPLETED</td>\n",
       "      <td>EXPORT_IMAGE</td>\n",
       "      <td>1524600228909</td>\n",
       "      <td>2.874617</td>\n",
       "      <td>369.622967</td>\n",
       "      <td>372.497583</td>\n",
       "      <td>20:00:56</td>\n",
       "    </tr>\n",
       "    <tr>\n",
       "      <th>9</th>\n",
       "      <td>1524577875171</td>\n",
       "      <td>global_historical_riverdischarge_month_million...</td>\n",
       "      <td>DH2M37QSH4V7RK3YJPVEJKQL</td>\n",
       "      <td>https://code.earthengine.google.com/?asset=pro...</td>\n",
       "      <td>1524600038496</td>\n",
       "      <td>COMPLETED</td>\n",
       "      <td>EXPORT_IMAGE</td>\n",
       "      <td>1524600220305</td>\n",
       "      <td>3.030150</td>\n",
       "      <td>369.388750</td>\n",
       "      <td>372.418900</td>\n",
       "      <td>20:00:38</td>\n",
       "    </tr>\n",
       "    <tr>\n",
       "      <th>10</th>\n",
       "      <td>1524577871128</td>\n",
       "      <td>global_historical_riverdischarge_month_million...</td>\n",
       "      <td>ER5ULOUZARR2SAV44BBYGLGW</td>\n",
       "      <td>https://code.earthengine.google.com/?asset=pro...</td>\n",
       "      <td>1524600034226</td>\n",
       "      <td>COMPLETED</td>\n",
       "      <td>EXPORT_IMAGE</td>\n",
       "      <td>1524600213203</td>\n",
       "      <td>2.982950</td>\n",
       "      <td>369.384967</td>\n",
       "      <td>372.367917</td>\n",
       "      <td>20:00:34</td>\n",
       "    </tr>\n",
       "    <tr>\n",
       "      <th>11</th>\n",
       "      <td>1524577867231</td>\n",
       "      <td>global_historical_riverdischarge_month_million...</td>\n",
       "      <td>GWECR5D435SP77D6OYTKMFEV</td>\n",
       "      <td>https://code.earthengine.google.com/?asset=pro...</td>\n",
       "      <td>1524600033075</td>\n",
       "      <td>COMPLETED</td>\n",
       "      <td>EXPORT_IMAGE</td>\n",
       "      <td>1524600211087</td>\n",
       "      <td>2.966867</td>\n",
       "      <td>369.430733</td>\n",
       "      <td>372.397600</td>\n",
       "      <td>20:00:33</td>\n",
       "    </tr>\n",
       "    <tr>\n",
       "      <th>12</th>\n",
       "      <td>1524577863404</td>\n",
       "      <td>global_historical_riverdischarge_month_million...</td>\n",
       "      <td>5WJRZX7NI4VZATXY4GHRGEP4</td>\n",
       "      <td>https://code.earthengine.google.com/?asset=pro...</td>\n",
       "      <td>1524599923663</td>\n",
       "      <td>COMPLETED</td>\n",
       "      <td>EXPORT_IMAGE</td>\n",
       "      <td>1524600104482</td>\n",
       "      <td>3.013650</td>\n",
       "      <td>367.670983</td>\n",
       "      <td>370.684633</td>\n",
       "      <td>19:58:43</td>\n",
       "    </tr>\n",
       "    <tr>\n",
       "      <th>13</th>\n",
       "      <td>1524577859798</td>\n",
       "      <td>global_historical_riverdischarge_month_million...</td>\n",
       "      <td>CKTTTPQLNQLPZT2WAWLYNKZO</td>\n",
       "      <td>https://code.earthengine.google.com/?asset=pro...</td>\n",
       "      <td>1524599877047</td>\n",
       "      <td>COMPLETED</td>\n",
       "      <td>EXPORT_IMAGE</td>\n",
       "      <td>1524600051076</td>\n",
       "      <td>2.900483</td>\n",
       "      <td>366.954150</td>\n",
       "      <td>369.854633</td>\n",
       "      <td>19:57:57</td>\n",
       "    </tr>\n",
       "    <tr>\n",
       "      <th>14</th>\n",
       "      <td>1524577856174</td>\n",
       "      <td>global_historical_riverdischarge_month_million...</td>\n",
       "      <td>3AIT5G76MAFAIBGAJQBFZHOD</td>\n",
       "      <td>https://code.earthengine.google.com/?asset=pro...</td>\n",
       "      <td>1524599843966</td>\n",
       "      <td>COMPLETED</td>\n",
       "      <td>EXPORT_IMAGE</td>\n",
       "      <td>1524600031807</td>\n",
       "      <td>3.130683</td>\n",
       "      <td>366.463200</td>\n",
       "      <td>369.593883</td>\n",
       "      <td>19:57:23</td>\n",
       "    </tr>\n",
       "    <tr>\n",
       "      <th>15</th>\n",
       "      <td>1524577853044</td>\n",
       "      <td>global_historical_riverdischarge_month_million...</td>\n",
       "      <td>V4YOG6K3WBGMHNSW7FMXHFO6</td>\n",
       "      <td>https://code.earthengine.google.com/?asset=pro...</td>\n",
       "      <td>1524599843197</td>\n",
       "      <td>COMPLETED</td>\n",
       "      <td>EXPORT_IMAGE</td>\n",
       "      <td>1524600031403</td>\n",
       "      <td>3.136767</td>\n",
       "      <td>366.502550</td>\n",
       "      <td>369.639317</td>\n",
       "      <td>19:57:23</td>\n",
       "    </tr>\n",
       "    <tr>\n",
       "      <th>16</th>\n",
       "      <td>1524577849326</td>\n",
       "      <td>global_historical_riverdischarge_month_million...</td>\n",
       "      <td>VPCHTVSNU3UHYJGZO7OCIOYJ</td>\n",
       "      <td>https://code.earthengine.google.com/?asset=pro...</td>\n",
       "      <td>1524599780085</td>\n",
       "      <td>COMPLETED</td>\n",
       "      <td>EXPORT_IMAGE</td>\n",
       "      <td>1524600030507</td>\n",
       "      <td>4.173700</td>\n",
       "      <td>365.512650</td>\n",
       "      <td>369.686350</td>\n",
       "      <td>19:56:20</td>\n",
       "    </tr>\n",
       "    <tr>\n",
       "      <th>17</th>\n",
       "      <td>1524577846000</td>\n",
       "      <td>global_historical_riverdischarge_month_million...</td>\n",
       "      <td>LQGDVN72UIU2K6AD3GWMN44Y</td>\n",
       "      <td>https://code.earthengine.google.com/?asset=pro...</td>\n",
       "      <td>1524599736325</td>\n",
       "      <td>COMPLETED</td>\n",
       "      <td>EXPORT_IMAGE</td>\n",
       "      <td>1524599918559</td>\n",
       "      <td>3.037233</td>\n",
       "      <td>364.838750</td>\n",
       "      <td>367.875983</td>\n",
       "      <td>19:55:36</td>\n",
       "    </tr>\n",
       "    <tr>\n",
       "      <th>18</th>\n",
       "      <td>1524577842348</td>\n",
       "      <td>global_historical_riverdischarge_month_million...</td>\n",
       "      <td>NRMFXNTB2D7YPNUPTF2MIYVY</td>\n",
       "      <td>https://code.earthengine.google.com/?asset=pro...</td>\n",
       "      <td>1524599667259</td>\n",
       "      <td>COMPLETED</td>\n",
       "      <td>EXPORT_IMAGE</td>\n",
       "      <td>1524599840309</td>\n",
       "      <td>2.884167</td>\n",
       "      <td>363.748517</td>\n",
       "      <td>366.632683</td>\n",
       "      <td>19:54:27</td>\n",
       "    </tr>\n",
       "    <tr>\n",
       "      <th>19</th>\n",
       "      <td>1524577839106</td>\n",
       "      <td>global_historical_riverdischarge_month_million...</td>\n",
       "      <td>TXTVGQDRRCSNNH2WUWJG3XHB</td>\n",
       "      <td>https://code.earthengine.google.com/?asset=pro...</td>\n",
       "      <td>1524599662527</td>\n",
       "      <td>COMPLETED</td>\n",
       "      <td>EXPORT_IMAGE</td>\n",
       "      <td>1524599838534</td>\n",
       "      <td>2.933450</td>\n",
       "      <td>363.723683</td>\n",
       "      <td>366.657133</td>\n",
       "      <td>19:54:22</td>\n",
       "    </tr>\n",
       "  </tbody>\n",
       "</table>\n",
       "</div>"
      ],
      "text/plain": [
       "    creation_timestamp_ms                                        description  \\\n",
       "0           1524577909915  global_historical_riverdischarge_month_million...   \n",
       "1           1524577906512  global_historical_riverdischarge_month_million...   \n",
       "2           1524577902508  global_historical_riverdischarge_month_million...   \n",
       "3           1524577898590  global_historical_riverdischarge_month_million...   \n",
       "4           1524577894652  global_historical_riverdischarge_month_million...   \n",
       "5           1524577890754  global_historical_riverdischarge_month_million...   \n",
       "6           1524577886817  global_historical_riverdischarge_month_million...   \n",
       "7           1524577882881  global_historical_riverdischarge_month_million...   \n",
       "8           1524577879054  global_historical_riverdischarge_month_million...   \n",
       "9           1524577875171  global_historical_riverdischarge_month_million...   \n",
       "10          1524577871128  global_historical_riverdischarge_month_million...   \n",
       "11          1524577867231  global_historical_riverdischarge_month_million...   \n",
       "12          1524577863404  global_historical_riverdischarge_month_million...   \n",
       "13          1524577859798  global_historical_riverdischarge_month_million...   \n",
       "14          1524577856174  global_historical_riverdischarge_month_million...   \n",
       "15          1524577853044  global_historical_riverdischarge_month_million...   \n",
       "16          1524577849326  global_historical_riverdischarge_month_million...   \n",
       "17          1524577846000  global_historical_riverdischarge_month_million...   \n",
       "18          1524577842348  global_historical_riverdischarge_month_million...   \n",
       "19          1524577839106  global_historical_riverdischarge_month_million...   \n",
       "\n",
       "                          id  \\\n",
       "0   OGNUAR4ZBDPKC2DYUAW44TWG   \n",
       "1   3YMP4UZWNBUVCCZAYK6KZAYY   \n",
       "2   ZR3LHGWIUZFVUEKOS7MWS3ZC   \n",
       "3   UDHOOEIIQFIBCYFGS3Z4P3L5   \n",
       "4   OBCZFCSRMI64HL3CBKQC6O46   \n",
       "5   QD4232MMZDDW6BLWXA5NNFAK   \n",
       "6   YCVMMHPKSC7EOV22K3JRIEU2   \n",
       "7   O76WAOS2WQZHXCNNWJXNKDMW   \n",
       "8   NNTJVY5EGIKFXX5Y7ZKA6ZA2   \n",
       "9   DH2M37QSH4V7RK3YJPVEJKQL   \n",
       "10  ER5ULOUZARR2SAV44BBYGLGW   \n",
       "11  GWECR5D435SP77D6OYTKMFEV   \n",
       "12  5WJRZX7NI4VZATXY4GHRGEP4   \n",
       "13  CKTTTPQLNQLPZT2WAWLYNKZO   \n",
       "14  3AIT5G76MAFAIBGAJQBFZHOD   \n",
       "15  V4YOG6K3WBGMHNSW7FMXHFO6   \n",
       "16  VPCHTVSNU3UHYJGZO7OCIOYJ   \n",
       "17  LQGDVN72UIU2K6AD3GWMN44Y   \n",
       "18  NRMFXNTB2D7YPNUPTF2MIYVY   \n",
       "19  TXTVGQDRRCSNNH2WUWJG3XHB   \n",
       "\n",
       "                                           output_url  start_timestamp_ms  \\\n",
       "0   https://code.earthengine.google.com/?asset=pro...       1524600405136   \n",
       "1   https://code.earthengine.google.com/?asset=pro...       1524600404277   \n",
       "2   https://code.earthengine.google.com/?asset=pro...       1524600296815   \n",
       "3   https://code.earthengine.google.com/?asset=pro...       1524600234429   \n",
       "4   https://code.earthengine.google.com/?asset=pro...       1524600224892   \n",
       "5   https://code.earthengine.google.com/?asset=pro...       1524600221133   \n",
       "6   https://code.earthengine.google.com/?asset=pro...       1524600217084   \n",
       "7   https://code.earthengine.google.com/?asset=pro...       1524600107607   \n",
       "8   https://code.earthengine.google.com/?asset=pro...       1524600056432   \n",
       "9   https://code.earthengine.google.com/?asset=pro...       1524600038496   \n",
       "10  https://code.earthengine.google.com/?asset=pro...       1524600034226   \n",
       "11  https://code.earthengine.google.com/?asset=pro...       1524600033075   \n",
       "12  https://code.earthengine.google.com/?asset=pro...       1524599923663   \n",
       "13  https://code.earthengine.google.com/?asset=pro...       1524599877047   \n",
       "14  https://code.earthengine.google.com/?asset=pro...       1524599843966   \n",
       "15  https://code.earthengine.google.com/?asset=pro...       1524599843197   \n",
       "16  https://code.earthengine.google.com/?asset=pro...       1524599780085   \n",
       "17  https://code.earthengine.google.com/?asset=pro...       1524599736325   \n",
       "18  https://code.earthengine.google.com/?asset=pro...       1524599667259   \n",
       "19  https://code.earthengine.google.com/?asset=pro...       1524599662527   \n",
       "\n",
       "        state     task_type  update_timestamp_ms  calctime(min)  \\\n",
       "0   COMPLETED  EXPORT_IMAGE        1524600595121       3.166417   \n",
       "1   COMPLETED  EXPORT_IMAGE        1524600599427       3.252500   \n",
       "2   COMPLETED  EXPORT_IMAGE        1524600476611       2.996600   \n",
       "3   COMPLETED  EXPORT_IMAGE        1524600408689       2.904333   \n",
       "4   COMPLETED  EXPORT_IMAGE        1524600402184       2.954867   \n",
       "5   COMPLETED  EXPORT_IMAGE        1524600400887       2.995900   \n",
       "6   COMPLETED  EXPORT_IMAGE        1524600400309       3.053750   \n",
       "7   COMPLETED  EXPORT_IMAGE        1524600292951       3.089067   \n",
       "8   COMPLETED  EXPORT_IMAGE        1524600228909       2.874617   \n",
       "9   COMPLETED  EXPORT_IMAGE        1524600220305       3.030150   \n",
       "10  COMPLETED  EXPORT_IMAGE        1524600213203       2.982950   \n",
       "11  COMPLETED  EXPORT_IMAGE        1524600211087       2.966867   \n",
       "12  COMPLETED  EXPORT_IMAGE        1524600104482       3.013650   \n",
       "13  COMPLETED  EXPORT_IMAGE        1524600051076       2.900483   \n",
       "14  COMPLETED  EXPORT_IMAGE        1524600031807       3.130683   \n",
       "15  COMPLETED  EXPORT_IMAGE        1524600031403       3.136767   \n",
       "16  COMPLETED  EXPORT_IMAGE        1524600030507       4.173700   \n",
       "17  COMPLETED  EXPORT_IMAGE        1524599918559       3.037233   \n",
       "18  COMPLETED  EXPORT_IMAGE        1524599840309       2.884167   \n",
       "19  COMPLETED  EXPORT_IMAGE        1524599838534       2.933450   \n",
       "\n",
       "    queuetime(min)  runtime(min) start_timestamp_UTC  \n",
       "0       374.920350    378.086767            20:06:45  \n",
       "1       374.962750    378.215250            20:06:44  \n",
       "2       373.238450    376.235050            20:04:56  \n",
       "3       372.263983    375.168317            20:03:54  \n",
       "4       372.170667    375.125533            20:03:44  \n",
       "5       372.172983    375.168883            20:03:41  \n",
       "6       372.171117    375.224867            20:03:37  \n",
       "7       370.412100    373.501167            20:01:47  \n",
       "8       369.622967    372.497583            20:00:56  \n",
       "9       369.388750    372.418900            20:00:38  \n",
       "10      369.384967    372.367917            20:00:34  \n",
       "11      369.430733    372.397600            20:00:33  \n",
       "12      367.670983    370.684633            19:58:43  \n",
       "13      366.954150    369.854633            19:57:57  \n",
       "14      366.463200    369.593883            19:57:23  \n",
       "15      366.502550    369.639317            19:57:23  \n",
       "16      365.512650    369.686350            19:56:20  \n",
       "17      364.838750    367.875983            19:55:36  \n",
       "18      363.748517    366.632683            19:54:27  \n",
       "19      363.723683    366.657133            19:54:22  "
      ]
     },
     "execution_count": 14,
     "metadata": {},
     "output_type": "execute_result"
    }
   ],
   "source": [
    "detailedTasks"
   ]
  },
  {
   "cell_type": "code",
   "execution_count": 15,
   "metadata": {
    "collapsed": true
   },
   "outputs": [],
   "source": [
    "if CANCELTASKS == 1:\n",
    "    pendingTasks = [task for task in taskList if task.config['state'] in (u'RUNNING',u'UNSUBMITTED',u'READY')]\n",
    "    for task in pendingTasks:\n",
    "        cancel_task(task)"
   ]
  },
  {
   "cell_type": "code",
   "execution_count": null,
   "metadata": {
    "collapsed": true
   },
   "outputs": [],
   "source": []
  }
 ],
 "metadata": {
  "kernelspec": {
   "display_name": "Python 35",
   "language": "python",
   "name": "python35"
  },
  "language_info": {
   "codemirror_mode": {
    "name": "ipython",
    "version": 3
   },
   "file_extension": ".py",
   "mimetype": "text/x-python",
   "name": "python",
   "nbconvert_exporter": "python",
   "pygments_lexer": "ipython3",
   "version": "3.5.4"
  }
 },
 "nbformat": 4,
 "nbformat_minor": 2
}
