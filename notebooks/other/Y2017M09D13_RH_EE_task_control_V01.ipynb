{
 "cells": [
  {
   "cell_type": "markdown",
   "metadata": {},
   "source": [
    "### This script allows to get better control over tasks in earth engine\n",
    "\n",
    "* Purpose of script: allows the user to list tasks and cancel all pending tasks\n",
    "* Author: Rutger Hofste\n",
    "* Kernel used: python27\n",
    "* Date created: 20170913"
   ]
  },
  {
   "cell_type": "code",
   "execution_count": 1,
   "metadata": {},
   "outputs": [
    {
     "name": "stdout",
     "output_type": "stream",
     "text": [
      "Output s3: s3://wri-projects/Aqueduct30/processData/Y2017M09D13_RH_EE_task_control_V01/output_V01/\n",
      "Output ec2: /volumes/data/Y2017M09D13_RH_EE_task_control_V01/output_V01/\n"
     ]
    }
   ],
   "source": [
    "SCRIPT_NAME = \"Y2017M09D13_RH_EE_task_control_V01\"\n",
    "OUTPUT_VERSION = 1\n",
    "OUTPUT_FILE_NAME = \"detailed_tasks\"\n",
    "\n",
    "\n",
    "ec2_output_path = (\"/volumes/data/{}/output_V{:02.0f}/\").format(SCRIPT_NAME,OUTPUT_VERSION)\n",
    "s3_output_path = \"s3://wri-projects/Aqueduct30/processData/{}/output_V{:02.0f}/\".format(SCRIPT_NAME,OUTPUT_VERSION)\n",
    "\n",
    "print(\"Output s3: \" + s3_output_path +\n",
    "      \"\\nOutput ec2: \" + ec2_output_path)\n"
   ]
  },
  {
   "cell_type": "code",
   "execution_count": 2,
   "metadata": {
    "collapsed": true
   },
   "outputs": [],
   "source": [
    "!rm -r {ec2_output_path}\n",
    "!mkdir -p {ec2_output_path}"
   ]
  },
  {
   "cell_type": "code",
   "execution_count": 3,
   "metadata": {},
   "outputs": [
    {
     "name": "stdout",
     "output_type": "stream",
     "text": [
      "Y2018M05D08 UTC 14:34\n"
     ]
    }
   ],
   "source": [
    "import time\n",
    "dateString = time.strftime(\"Y%YM%mD%d\")\n",
    "timeString = time.strftime(\"UTC %H:%M\")\n",
    "print(dateString,timeString)"
   ]
  },
  {
   "cell_type": "markdown",
   "metadata": {},
   "source": [
    "# Settings"
   ]
  },
  {
   "cell_type": "code",
   "execution_count": 4,
   "metadata": {
    "collapsed": true
   },
   "outputs": [],
   "source": [
    "MAXTASKS = 10\n",
    "CANCELTASKS = 0 # Cancels all pending tasks"
   ]
  },
  {
   "cell_type": "code",
   "execution_count": 5,
   "metadata": {
    "collapsed": true
   },
   "outputs": [],
   "source": [
    "import pandas as pd\n",
    "import ee\n",
    "from retrying import retry\n",
    "import datetime\n",
    "import random"
   ]
  },
  {
   "cell_type": "code",
   "execution_count": 6,
   "metadata": {
    "collapsed": true
   },
   "outputs": [],
   "source": [
    "ee.Initialize()"
   ]
  },
  {
   "cell_type": "markdown",
   "metadata": {},
   "source": [
    "# Functions"
   ]
  },
  {
   "cell_type": "code",
   "execution_count": 7,
   "metadata": {
    "collapsed": true
   },
   "outputs": [],
   "source": [
    "def get_tasks():\n",
    "    return ee.batch.Task.list()\n",
    "\n",
    "def cancel_task(task):\n",
    "    print(task)\n",
    "    random_time = random.random()\n",
    "    time.sleep(0.5+random_time*0.5)\n",
    "    if task.config['state'] in (u'RUNNING',u'UNSUBMITTED',u'READY') :\n",
    "        print('canceling %s' % task)\n",
    "        task.cancel()\n",
    "        \n",
    "        \n",
    "@retry(wait_exponential_multiplier=10000, wait_exponential_max=100000)\n",
    "def checkStatus(task):\n",
    "    return ee.batch.Task.status(task)\n",
    "           \n",
    "def get_details(taskList,MAXTASKS):\n",
    "    df = pd.DataFrame()\n",
    "    for i in range(0,min(len(taskList),MAXTASKS)):\n",
    "        dictNew = checkStatus(taskList[i])\n",
    "        dfNew = pd.DataFrame(dictNew, index=[i])\n",
    "        try:\n",
    "            dfNew[\"calctime(min)\"] = (dfNew[\"update_timestamp_ms\"]-dfNew[\"start_timestamp_ms\"])/(1000*60)\n",
    "            dfNew[\"queuetime(min)\"] = (dfNew[\"start_timestamp_ms\"]-dfNew[\"creation_timestamp_ms\"])/(1000*60)\n",
    "            dfNew[\"runtime(min)\"]= dfNew[\"queuetime(min)\"]+dfNew[\"calctime(min)\"]\n",
    "            dfNew[\"start_timestamp_UTC\"] = datetime.datetime.fromtimestamp(dfNew[\"start_timestamp_ms\"]/1000).strftime('%H:%M:%S')\n",
    "        except:\n",
    "            pass\n",
    "        df = df.append(dfNew)\n",
    "        print(i)\n",
    "    return df\n",
    "    \n"
   ]
  },
  {
   "cell_type": "code",
   "execution_count": 8,
   "metadata": {
    "collapsed": true
   },
   "outputs": [],
   "source": [
    "taskList = get_tasks()\n"
   ]
  },
  {
   "cell_type": "code",
   "execution_count": 9,
   "metadata": {},
   "outputs": [
    {
     "data": {
      "text/plain": [
       "list"
      ]
     },
     "execution_count": 9,
     "metadata": {},
     "output_type": "execute_result"
    }
   ],
   "source": [
    "type(taskList)"
   ]
  },
  {
   "cell_type": "code",
   "execution_count": 10,
   "metadata": {},
   "outputs": [
    {
     "data": {
      "text/plain": [
       "803"
      ]
     },
     "execution_count": 10,
     "metadata": {},
     "output_type": "execute_result"
    }
   ],
   "source": [
    "len(taskList)"
   ]
  },
  {
   "cell_type": "code",
   "execution_count": 11,
   "metadata": {},
   "outputs": [
    {
     "name": "stdout",
     "output_type": "stream",
     "text": [
      "0\n",
      "1\n",
      "2\n",
      "3\n",
      "4\n",
      "5\n",
      "6\n",
      "7\n",
      "8\n",
      "9\n"
     ]
    }
   ],
   "source": [
    "detailedTasks = get_details(taskList,MAXTASKS)"
   ]
  },
  {
   "cell_type": "code",
   "execution_count": null,
   "metadata": {
    "collapsed": true
   },
   "outputs": [],
   "source": []
  },
  {
   "cell_type": "code",
   "execution_count": 12,
   "metadata": {
    "collapsed": true
   },
   "outputs": [],
   "source": [
    "detailedTasks.to_csv(ec2_output_path + OUTPUT_FILE_NAME + \".csv\")\n",
    "detailedTasks.to_pickle(ec2_output_path + OUTPUT_FILE_NAME + \".pkl\")"
   ]
  },
  {
   "cell_type": "code",
   "execution_count": 13,
   "metadata": {},
   "outputs": [
    {
     "name": "stdout",
     "output_type": "stream",
     "text": [
      "upload: ../../../../data/Y2017M09D13_RH_EE_task_control_V01/output_V01/detailed_tasks.csv to s3://wri-projects/Aqueduct30/processData/Y2017M09D13_RH_EE_task_control_V01/output_V01/detailed_tasks.csv\n",
      "upload: ../../../../data/Y2017M09D13_RH_EE_task_control_V01/output_V01/detailed_tasks.pkl to s3://wri-projects/Aqueduct30/processData/Y2017M09D13_RH_EE_task_control_V01/output_V01/detailed_tasks.pkl\n"
     ]
    }
   ],
   "source": [
    "!aws s3 cp {ec2_output_path} {s3_output_path} --recursive"
   ]
  },
  {
   "cell_type": "markdown",
   "metadata": {},
   "source": [
    "# DANGER ZONE"
   ]
  },
  {
   "cell_type": "code",
   "execution_count": 14,
   "metadata": {},
   "outputs": [
    {
     "data": {
      "text/html": [
       "<div>\n",
       "<style scoped>\n",
       "    .dataframe tbody tr th:only-of-type {\n",
       "        vertical-align: middle;\n",
       "    }\n",
       "\n",
       "    .dataframe tbody tr th {\n",
       "        vertical-align: top;\n",
       "    }\n",
       "\n",
       "    .dataframe thead th {\n",
       "        text-align: right;\n",
       "    }\n",
       "</style>\n",
       "<table border=\"1\" class=\"dataframe\">\n",
       "  <thead>\n",
       "    <tr style=\"text-align: right;\">\n",
       "      <th></th>\n",
       "      <th>calctime(min)</th>\n",
       "      <th>creation_timestamp_ms</th>\n",
       "      <th>description</th>\n",
       "      <th>error_message</th>\n",
       "      <th>id</th>\n",
       "      <th>output_url</th>\n",
       "      <th>progress</th>\n",
       "      <th>queuetime(min)</th>\n",
       "      <th>runtime(min)</th>\n",
       "      <th>source_url</th>\n",
       "      <th>start_timestamp_UTC</th>\n",
       "      <th>start_timestamp_ms</th>\n",
       "      <th>state</th>\n",
       "      <th>task_type</th>\n",
       "      <th>update_timestamp_ms</th>\n",
       "    </tr>\n",
       "  </thead>\n",
       "  <tbody>\n",
       "    <tr>\n",
       "      <th>0</th>\n",
       "      <td>0.003067</td>\n",
       "      <td>1525789946875</td>\n",
       "      <td>test3</td>\n",
       "      <td>NaN</td>\n",
       "      <td>CMWBQOJLZP5DB2WZMC6QQJW2</td>\n",
       "      <td>NaN</td>\n",
       "      <td>0.0</td>\n",
       "      <td>0.066700</td>\n",
       "      <td>0.069767</td>\n",
       "      <td>https://code.earthengine.google.com/6c9909ae9b...</td>\n",
       "      <td>14:32:30</td>\n",
       "      <td>1525789950877</td>\n",
       "      <td>RUNNING</td>\n",
       "      <td>EXPORT_FEATURES</td>\n",
       "      <td>1525789951061</td>\n",
       "    </tr>\n",
       "    <tr>\n",
       "      <th>1</th>\n",
       "      <td>2.502667</td>\n",
       "      <td>1525788909830</td>\n",
       "      <td>NaN</td>\n",
       "      <td>NaN</td>\n",
       "      <td>IX4UCIRZBMGT7VPH3FNREJ6F</td>\n",
       "      <td>NaN</td>\n",
       "      <td>0.0</td>\n",
       "      <td>15.616133</td>\n",
       "      <td>18.118800</td>\n",
       "      <td>NaN</td>\n",
       "      <td>14:30:46</td>\n",
       "      <td>1525789846798</td>\n",
       "      <td>RUNNING</td>\n",
       "      <td>EXPORT_FEATURES</td>\n",
       "      <td>1525789996958</td>\n",
       "    </tr>\n",
       "    <tr>\n",
       "      <th>2</th>\n",
       "      <td>10.035067</td>\n",
       "      <td>1525787507798</td>\n",
       "      <td>NaN</td>\n",
       "      <td>NaN</td>\n",
       "      <td>AYT6V6PIFG2ET45HZNRDSAYW</td>\n",
       "      <td>NaN</td>\n",
       "      <td>NaN</td>\n",
       "      <td>19.915700</td>\n",
       "      <td>29.950767</td>\n",
       "      <td>NaN</td>\n",
       "      <td>14:11:42</td>\n",
       "      <td>1525788702740</td>\n",
       "      <td>CANCELLED</td>\n",
       "      <td>EXPORT_FEATURES</td>\n",
       "      <td>1525789304844</td>\n",
       "    </tr>\n",
       "    <tr>\n",
       "      <th>3</th>\n",
       "      <td>14.177950</td>\n",
       "      <td>1525781368639</td>\n",
       "      <td>validmaxfa_hybas_lev06_v1c_merged_fiona_30s_V04</td>\n",
       "      <td>NaN</td>\n",
       "      <td>5QBXF3EKT4D2ZHTNMJJWJ4PU</td>\n",
       "      <td>https://code.earthengine.google.com/?asset=pro...</td>\n",
       "      <td>NaN</td>\n",
       "      <td>0.039717</td>\n",
       "      <td>14.217667</td>\n",
       "      <td>NaN</td>\n",
       "      <td>12:09:31</td>\n",
       "      <td>1525781371022</td>\n",
       "      <td>COMPLETED</td>\n",
       "      <td>EXPORT_IMAGE</td>\n",
       "      <td>1525782221699</td>\n",
       "    </tr>\n",
       "    <tr>\n",
       "      <th>4</th>\n",
       "      <td>1.837533</td>\n",
       "      <td>1525780382944</td>\n",
       "      <td>validmaxfa_hybas_lev06_v1c_merged_fiona_30s_V04</td>\n",
       "      <td>NaN</td>\n",
       "      <td>S446CDAYNTIOULLY2Y3GBB6B</td>\n",
       "      <td>https://code.earthengine.google.com/?asset=pro...</td>\n",
       "      <td>NaN</td>\n",
       "      <td>0.069683</td>\n",
       "      <td>1.907217</td>\n",
       "      <td>NaN</td>\n",
       "      <td>11:53:07</td>\n",
       "      <td>1525780387125</td>\n",
       "      <td>COMPLETED</td>\n",
       "      <td>EXPORT_IMAGE</td>\n",
       "      <td>1525780497377</td>\n",
       "    </tr>\n",
       "    <tr>\n",
       "      <th>5</th>\n",
       "      <td>8.233300</td>\n",
       "      <td>1525445260026</td>\n",
       "      <td>test_test</td>\n",
       "      <td>NaN</td>\n",
       "      <td>PA543Y2T3NNJKPN5FDOX5ZL5</td>\n",
       "      <td>https://code.earthengine.google.com/?asset=use...</td>\n",
       "      <td>NaN</td>\n",
       "      <td>0.079650</td>\n",
       "      <td>8.312950</td>\n",
       "      <td>https://code.earthengine.google.com/196e55dbb8...</td>\n",
       "      <td>14:47:44</td>\n",
       "      <td>1525445264805</td>\n",
       "      <td>COMPLETED</td>\n",
       "      <td>EXPORT_FEATURES</td>\n",
       "      <td>1525445758803</td>\n",
       "    </tr>\n",
       "    <tr>\n",
       "      <th>6</th>\n",
       "      <td>5.481850</td>\n",
       "      <td>1525441407605</td>\n",
       "      <td>Asset ingestion: users/rutgerhofste/kilns</td>\n",
       "      <td>Cannot overwrite asset 'users/rutgerhofste/kil...</td>\n",
       "      <td>HQUCFTUZMOVMQ5C7WTOLH5UL</td>\n",
       "      <td>NaN</td>\n",
       "      <td>NaN</td>\n",
       "      <td>0.035767</td>\n",
       "      <td>5.517617</td>\n",
       "      <td>NaN</td>\n",
       "      <td>13:43:29</td>\n",
       "      <td>1525441409751</td>\n",
       "      <td>FAILED</td>\n",
       "      <td>INGEST</td>\n",
       "      <td>1525441738662</td>\n",
       "    </tr>\n",
       "    <tr>\n",
       "      <th>7</th>\n",
       "      <td>6.592267</td>\n",
       "      <td>1525441260294</td>\n",
       "      <td>Asset ingestion: users/rutgerhofste/kilns</td>\n",
       "      <td>NaN</td>\n",
       "      <td>6WXSTROGKPI6X3R65UYF42XG</td>\n",
       "      <td>https://code.earthengine.google.com/?asset=use...</td>\n",
       "      <td>NaN</td>\n",
       "      <td>0.035100</td>\n",
       "      <td>6.627367</td>\n",
       "      <td>NaN</td>\n",
       "      <td>13:41:02</td>\n",
       "      <td>1525441262400</td>\n",
       "      <td>COMPLETED</td>\n",
       "      <td>INGEST</td>\n",
       "      <td>1525441657936</td>\n",
       "    </tr>\n",
       "    <tr>\n",
       "      <th>8</th>\n",
       "      <td>12.671533</td>\n",
       "      <td>1525439061778</td>\n",
       "      <td>global_max_maskedaccumulateddrainagearea_km2_3...</td>\n",
       "      <td>NaN</td>\n",
       "      <td>MYQXD2C4RWY3GEVRQRECYTAQ</td>\n",
       "      <td>https://code.earthengine.google.com/?asset=pro...</td>\n",
       "      <td>NaN</td>\n",
       "      <td>0.092500</td>\n",
       "      <td>12.764033</td>\n",
       "      <td>NaN</td>\n",
       "      <td>13:04:27</td>\n",
       "      <td>1525439067328</td>\n",
       "      <td>COMPLETED</td>\n",
       "      <td>EXPORT_IMAGE</td>\n",
       "      <td>1525439827620</td>\n",
       "    </tr>\n",
       "    <tr>\n",
       "      <th>9</th>\n",
       "      <td>10.950933</td>\n",
       "      <td>1525439060078</td>\n",
       "      <td>global_count_maskedaccumulateddrainagearea_km2...</td>\n",
       "      <td>NaN</td>\n",
       "      <td>4PMAUCQQHGZADAOOBXWLGFFY</td>\n",
       "      <td>https://code.earthengine.google.com/?asset=pro...</td>\n",
       "      <td>NaN</td>\n",
       "      <td>0.054317</td>\n",
       "      <td>11.005250</td>\n",
       "      <td>NaN</td>\n",
       "      <td>13:04:23</td>\n",
       "      <td>1525439063337</td>\n",
       "      <td>COMPLETED</td>\n",
       "      <td>EXPORT_IMAGE</td>\n",
       "      <td>1525439720393</td>\n",
       "    </tr>\n",
       "  </tbody>\n",
       "</table>\n",
       "</div>"
      ],
      "text/plain": [
       "   calctime(min)  creation_timestamp_ms  \\\n",
       "0       0.003067          1525789946875   \n",
       "1       2.502667          1525788909830   \n",
       "2      10.035067          1525787507798   \n",
       "3      14.177950          1525781368639   \n",
       "4       1.837533          1525780382944   \n",
       "5       8.233300          1525445260026   \n",
       "6       5.481850          1525441407605   \n",
       "7       6.592267          1525441260294   \n",
       "8      12.671533          1525439061778   \n",
       "9      10.950933          1525439060078   \n",
       "\n",
       "                                         description  \\\n",
       "0                                              test3   \n",
       "1                                                NaN   \n",
       "2                                                NaN   \n",
       "3    validmaxfa_hybas_lev06_v1c_merged_fiona_30s_V04   \n",
       "4    validmaxfa_hybas_lev06_v1c_merged_fiona_30s_V04   \n",
       "5                                          test_test   \n",
       "6          Asset ingestion: users/rutgerhofste/kilns   \n",
       "7          Asset ingestion: users/rutgerhofste/kilns   \n",
       "8  global_max_maskedaccumulateddrainagearea_km2_3...   \n",
       "9  global_count_maskedaccumulateddrainagearea_km2...   \n",
       "\n",
       "                                       error_message  \\\n",
       "0                                                NaN   \n",
       "1                                                NaN   \n",
       "2                                                NaN   \n",
       "3                                                NaN   \n",
       "4                                                NaN   \n",
       "5                                                NaN   \n",
       "6  Cannot overwrite asset 'users/rutgerhofste/kil...   \n",
       "7                                                NaN   \n",
       "8                                                NaN   \n",
       "9                                                NaN   \n",
       "\n",
       "                         id  \\\n",
       "0  CMWBQOJLZP5DB2WZMC6QQJW2   \n",
       "1  IX4UCIRZBMGT7VPH3FNREJ6F   \n",
       "2  AYT6V6PIFG2ET45HZNRDSAYW   \n",
       "3  5QBXF3EKT4D2ZHTNMJJWJ4PU   \n",
       "4  S446CDAYNTIOULLY2Y3GBB6B   \n",
       "5  PA543Y2T3NNJKPN5FDOX5ZL5   \n",
       "6  HQUCFTUZMOVMQ5C7WTOLH5UL   \n",
       "7  6WXSTROGKPI6X3R65UYF42XG   \n",
       "8  MYQXD2C4RWY3GEVRQRECYTAQ   \n",
       "9  4PMAUCQQHGZADAOOBXWLGFFY   \n",
       "\n",
       "                                          output_url  progress  \\\n",
       "0                                                NaN       0.0   \n",
       "1                                                NaN       0.0   \n",
       "2                                                NaN       NaN   \n",
       "3  https://code.earthengine.google.com/?asset=pro...       NaN   \n",
       "4  https://code.earthengine.google.com/?asset=pro...       NaN   \n",
       "5  https://code.earthengine.google.com/?asset=use...       NaN   \n",
       "6                                                NaN       NaN   \n",
       "7  https://code.earthengine.google.com/?asset=use...       NaN   \n",
       "8  https://code.earthengine.google.com/?asset=pro...       NaN   \n",
       "9  https://code.earthengine.google.com/?asset=pro...       NaN   \n",
       "\n",
       "   queuetime(min)  runtime(min)  \\\n",
       "0        0.066700      0.069767   \n",
       "1       15.616133     18.118800   \n",
       "2       19.915700     29.950767   \n",
       "3        0.039717     14.217667   \n",
       "4        0.069683      1.907217   \n",
       "5        0.079650      8.312950   \n",
       "6        0.035767      5.517617   \n",
       "7        0.035100      6.627367   \n",
       "8        0.092500     12.764033   \n",
       "9        0.054317     11.005250   \n",
       "\n",
       "                                          source_url start_timestamp_UTC  \\\n",
       "0  https://code.earthengine.google.com/6c9909ae9b...            14:32:30   \n",
       "1                                                NaN            14:30:46   \n",
       "2                                                NaN            14:11:42   \n",
       "3                                                NaN            12:09:31   \n",
       "4                                                NaN            11:53:07   \n",
       "5  https://code.earthengine.google.com/196e55dbb8...            14:47:44   \n",
       "6                                                NaN            13:43:29   \n",
       "7                                                NaN            13:41:02   \n",
       "8                                                NaN            13:04:27   \n",
       "9                                                NaN            13:04:23   \n",
       "\n",
       "   start_timestamp_ms      state        task_type  update_timestamp_ms  \n",
       "0       1525789950877    RUNNING  EXPORT_FEATURES        1525789951061  \n",
       "1       1525789846798    RUNNING  EXPORT_FEATURES        1525789996958  \n",
       "2       1525788702740  CANCELLED  EXPORT_FEATURES        1525789304844  \n",
       "3       1525781371022  COMPLETED     EXPORT_IMAGE        1525782221699  \n",
       "4       1525780387125  COMPLETED     EXPORT_IMAGE        1525780497377  \n",
       "5       1525445264805  COMPLETED  EXPORT_FEATURES        1525445758803  \n",
       "6       1525441409751     FAILED           INGEST        1525441738662  \n",
       "7       1525441262400  COMPLETED           INGEST        1525441657936  \n",
       "8       1525439067328  COMPLETED     EXPORT_IMAGE        1525439827620  \n",
       "9       1525439063337  COMPLETED     EXPORT_IMAGE        1525439720393  "
      ]
     },
     "execution_count": 14,
     "metadata": {},
     "output_type": "execute_result"
    }
   ],
   "source": [
    "detailedTasks"
   ]
  },
  {
   "cell_type": "code",
   "execution_count": 15,
   "metadata": {
    "collapsed": true
   },
   "outputs": [],
   "source": [
    "if CANCELTASKS == 1:\n",
    "    pendingTasks = [task for task in taskList if task.config['state'] in (u'RUNNING',u'UNSUBMITTED',u'READY')]\n",
    "    for task in pendingTasks:\n",
    "        cancel_task(task)"
   ]
  },
  {
   "cell_type": "code",
   "execution_count": null,
   "metadata": {
    "collapsed": true
   },
   "outputs": [],
   "source": []
  }
 ],
 "metadata": {
  "kernelspec": {
   "display_name": "Python 35",
   "language": "python",
   "name": "python35"
  },
  "language_info": {
   "codemirror_mode": {
    "name": "ipython",
    "version": 3
   },
   "file_extension": ".py",
   "mimetype": "text/x-python",
   "name": "python",
   "nbconvert_exporter": "python",
   "pygments_lexer": "ipython3",
   "version": "3.5.4"
  }
 },
 "nbformat": 4,
 "nbformat_minor": 2
}
