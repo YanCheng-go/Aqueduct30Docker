{
 "cells": [
  {
   "cell_type": "markdown",
   "metadata": {},
   "source": [
    "### Y2018M02D13_RH_GDB_To_Tiff_V01\n",
    "\n",
    "* Purpose of script: Convert geodatabase to geotiffs and upload to GCS\n",
    "* Author: Rutger Hofste\n",
    "* Kernel used: python35\n",
    "* Date created: 20180213\n",
    "\n",
    "Data was shared by Tianyi Luo in GDB format. Rasters have been exported to Geotiff format and zipped. "
   ]
  },
  {
   "cell_type": "code",
   "execution_count": 68,
   "metadata": {
    "collapsed": true
   },
   "outputs": [],
   "source": [
    "import os\n",
    "if 'GDAL_DATA' not in os.environ:\n",
    "    os.environ['GDAL_DATA'] = r'/usr/share/gdal/2.1'\n",
    "from osgeo import gdal,ogr,osr\n",
    "'GDAL_DATA' in os.environ\n",
    "# If false, the GDAL_DATA variable is set incorrectly. You need this variable to obtain the spatial reference\n",
    "import pandas as pd\n",
    "import geopandas as gpd\n",
    "import matplotlib.pyplot as plt\n",
    "import time\n",
    "import subprocess\n",
    "import json\n",
    "%matplotlib notebook"
   ]
  },
  {
   "cell_type": "code",
   "execution_count": 62,
   "metadata": {},
   "outputs": [],
   "source": [
    "SCRIPT_NAME = \"Y2018M02D13_RH_GDB_To_Tiff_V01\"\n",
    "OUTPUT_VERSION = 1\n",
    "\n",
    "\n",
    "\n",
    "S3_INPUT_PATH = (\"s3://wri-projects/Aqueduct30/processData/{}/input/\").format(SCRIPT_NAME)\n",
    "S3_OUTPUT_PATH = (\"s3://wri-projects/Aqueduct30/processData/{}/output/\").format(SCRIPT_NAME)\n",
    "\n",
    "EC2_INPUT_PATH  = (\"/volumes/data/{}/input/\").format(SCRIPT_NAME)\n",
    "EC2_OUTPUT_PATH = (\"/volumes/data/{}/output/\").format(SCRIPT_NAME)\n",
    "\n",
    "INPUT_FILE_NAME = \"aq21demand.zip\"\n",
    "\n",
    "\n",
    "GCS_OUTPUT_PATH = \"gs://aqueduct30_v01/{}\".format(SCRIPT_NAME)\n",
    "\n",
    "EE_BASE = \"projects/WRI-Aquaduct/aqueduct21V01\"\n",
    "\n"
   ]
  },
  {
   "cell_type": "code",
   "execution_count": 19,
   "metadata": {},
   "outputs": [],
   "source": [
    "!rm -r {EC2_INPUT_PATH}\n",
    "!rm -r {EC2_OUTPUT_PATH}\n",
    "\n",
    "!mkdir -p {EC2_INPUT_PATH}\n",
    "!mkdir -p {EC2_OUTPUT_PATH}"
   ]
  },
  {
   "cell_type": "code",
   "execution_count": 20,
   "metadata": {},
   "outputs": [
    {
     "name": "stdout",
     "output_type": "stream",
     "text": [
      "download: s3://wri-projects/Aqueduct30/processData/Y2018M02D13_RH_GDB_To_Tiff_V01/input/aq21demand.zip to ../../../../data/Y2018M02D13_RH_GDB_To_Tiff_V01/input/aq21demand.zip\n"
     ]
    }
   ],
   "source": [
    "!aws s3 cp {S3_INPUT_PATH} {EC2_INPUT_PATH} --recursive"
   ]
  },
  {
   "cell_type": "markdown",
   "metadata": {},
   "source": [
    "Functions"
   ]
  },
  {
   "cell_type": "code",
   "execution_count": 53,
   "metadata": {
    "collapsed": true
   },
   "outputs": [],
   "source": [
    "outDict = {}\n",
    "def splitKey(key):\n",
    "    # will yield the root file code and extension of a set of keys\n",
    "    prefix, extension = key.split(\".\")\n",
    "    fileName = prefix.split(\"/\")[-1]\n",
    "    outDict = {\"fileName\":fileName,\"extension\":extension}\n",
    "    return outDict"
   ]
  },
  {
   "cell_type": "code",
   "execution_count": null,
   "metadata": {
    "collapsed": true
   },
   "outputs": [],
   "source": []
  },
  {
   "cell_type": "code",
   "execution_count": null,
   "metadata": {
    "collapsed": true
   },
   "outputs": [],
   "source": []
  },
  {
   "cell_type": "code",
   "execution_count": 22,
   "metadata": {
    "collapsed": true
   },
   "outputs": [],
   "source": [
    "file_location = \"{}{}\".format(EC2_INPUT_PATH, INPUT_FILE_NAME)"
   ]
  },
  {
   "cell_type": "code",
   "execution_count": 23,
   "metadata": {
    "collapsed": true
   },
   "outputs": [],
   "source": [
    "destination_folder = EC2_INPUT_PATH"
   ]
  },
  {
   "cell_type": "code",
   "execution_count": 24,
   "metadata": {},
   "outputs": [
    {
     "name": "stdout",
     "output_type": "stream",
     "text": [
      "/volumes/data/Y2018M02D13_RH_GDB_To_Tiff_V01/input/aq21demand.zip\n"
     ]
    }
   ],
   "source": [
    "print(file_location)"
   ]
  },
  {
   "cell_type": "code",
   "execution_count": 25,
   "metadata": {},
   "outputs": [
    {
     "name": "stdout",
     "output_type": "stream",
     "text": [
      "aq21demand.zip\r\n"
     ]
    }
   ],
   "source": [
    "! ls /volumes/data/Y2018M02D13_RH_GDB_To_Tiff_V01/input/"
   ]
  },
  {
   "cell_type": "code",
   "execution_count": 26,
   "metadata": {},
   "outputs": [
    {
     "name": "stdout",
     "output_type": "stream",
     "text": [
      "Archive:  /volumes/data/Y2018M02D13_RH_GDB_To_Tiff_V01/input/aq21demand.zip\n",
      "  inflating: /volumes/data/Y2018M02D13_RH_GDB_To_Tiff_V01/input/Ca.tif  \n",
      "  inflating: /volumes/data/Y2018M02D13_RH_GDB_To_Tiff_V01/input/Cd.tif  \n",
      "  inflating: /volumes/data/Y2018M02D13_RH_GDB_To_Tiff_V01/input/Ci.tif  \n",
      "  inflating: /volumes/data/Y2018M02D13_RH_GDB_To_Tiff_V01/input/Ct.tif  \n",
      "  inflating: /volumes/data/Y2018M02D13_RH_GDB_To_Tiff_V01/input/Ua.tif  \n",
      "  inflating: /volumes/data/Y2018M02D13_RH_GDB_To_Tiff_V01/input/Ud.tif  \n",
      "  inflating: /volumes/data/Y2018M02D13_RH_GDB_To_Tiff_V01/input/Ui.tif  \n",
      "  inflating: /volumes/data/Y2018M02D13_RH_GDB_To_Tiff_V01/input/Ut.tif  \n"
     ]
    }
   ],
   "source": [
    "! unzip {file_location} -d {destination_folder}"
   ]
  },
  {
   "cell_type": "code",
   "execution_count": 27,
   "metadata": {},
   "outputs": [
    {
     "name": "stdout",
     "output_type": "stream",
     "text": [
      "\n",
      "\n",
      "Updates are available for some Cloud SDK components.  To install them,\n",
      "please run:\n",
      "  $ gcloud components update\n",
      "\n",
      "gsutil version: 4.27\n"
     ]
    }
   ],
   "source": [
    "!gsutil version"
   ]
  },
  {
   "cell_type": "code",
   "execution_count": 28,
   "metadata": {},
   "outputs": [
    {
     "name": "stdout",
     "output_type": "stream",
     "text": [
      "Updated property [core/project].\r\n"
     ]
    }
   ],
   "source": [
    "!gcloud config set project aqueduct30"
   ]
  },
  {
   "cell_type": "code",
   "execution_count": 30,
   "metadata": {},
   "outputs": [
    {
     "name": "stdout",
     "output_type": "stream",
     "text": [
      "Copying file:///volumes/data/Y2018M02D13_RH_GDB_To_Tiff_V01/input/Ua.tif [Content-Type=image/tiff]...\n",
      "Copying file:///volumes/data/Y2018M02D13_RH_GDB_To_Tiff_V01/input/Ca.tif [Content-Type=image/tiff]...\n",
      "==> NOTE: You are uploading one or more large file(s), which would run\n",
      "significantly faster if you enable parallel composite uploads. This\n",
      "feature can be enabled by editing the\n",
      "\"parallel_composite_upload_threshold\" value in your .boto\n",
      "configuration file. However, note that if you do this large files will\n",
      "be uploaded as `composite objects\n",
      "<https://cloud.google.com/storage/docs/composite-objects>`_,which\n",
      "means that any user who downloads such objects will need to have a\n",
      "compiled crcmod installed (see \"gsutil help crcmod\"). This is because\n",
      "without a compiled crcmod, computing checksums on composite objects is\n",
      "so slow that gsutil disables downloads of composite objects.\n",
      "\n",
      "Copying file:///volumes/data/Y2018M02D13_RH_GDB_To_Tiff_V01/input/Ud.tif [Content-Type=image/tiff]...\n",
      "Copying file:///volumes/data/Y2018M02D13_RH_GDB_To_Tiff_V01/input/Ui.tif [Content-Type=image/tiff]...\n",
      "Copying file:///volumes/data/Y2018M02D13_RH_GDB_To_Tiff_V01/input/Ut.tif [Content-Type=image/tiff]...\n",
      "Catching up md5 for file:///volumes/data/Y2018M02D13_RH_GDB_To_Tiff_V01/input/Ua.tif...\n",
      "Catching up md5 for file:///volumes/data/Y2018M02D13_RH_GDB_To_Tiff_V01/input/Ut.tif...\n",
      "| [8/8 files][ 39.0 GiB/ 39.0 GiB] 100% Done  20.1 MiB/s ETA 00:00:00           \n",
      "Operation completed over 8 objects/39.0 GiB.                                     \n"
     ]
    }
   ],
   "source": [
    "!gsutil -m cp {EC2_INPUT_PATH}*.tif {GCS_OUTPUT_PATH}"
   ]
  },
  {
   "cell_type": "code",
   "execution_count": 31,
   "metadata": {},
   "outputs": [
    {
     "name": "stdout",
     "output_type": "stream",
     "text": [
      "gs://aqueduct30_v01/Y2018M02D13_RH_GDB_To_Tiff_V01\n"
     ]
    }
   ],
   "source": [
    "print(GCS_OUTPUT_PATH)"
   ]
  },
  {
   "cell_type": "code",
   "execution_count": 35,
   "metadata": {
    "collapsed": true
   },
   "outputs": [],
   "source": [
    "command = (\"earthengine create folder %s\") %EE_BASE"
   ]
  },
  {
   "cell_type": "code",
   "execution_count": 36,
   "metadata": {},
   "outputs": [
    {
     "name": "stdout",
     "output_type": "stream",
     "text": [
      "earthengine create folder projects/WRI-Aquaduct/aqueduct21V01\n"
     ]
    }
   ],
   "source": [
    "print(command)"
   ]
  },
  {
   "cell_type": "code",
   "execution_count": 37,
   "metadata": {},
   "outputs": [
    {
     "data": {
      "text/plain": [
       "b'Asset projects/WRI-Aquaduct/aqueduct21V01 already exists\\n'"
      ]
     },
     "execution_count": 37,
     "metadata": {},
     "output_type": "execute_result"
    }
   ],
   "source": [
    "subprocess.check_output(command,shell=True)"
   ]
  },
  {
   "cell_type": "code",
   "execution_count": 39,
   "metadata": {},
   "outputs": [],
   "source": [
    "command = (\"/opt/google-cloud-sdk/bin/gsutil ls %s\") %(GCS_OUTPUT_PATH)"
   ]
  },
  {
   "cell_type": "code",
   "execution_count": 40,
   "metadata": {
    "collapsed": true
   },
   "outputs": [],
   "source": [
    "keys = subprocess.check_output(command,shell=True)"
   ]
  },
  {
   "cell_type": "code",
   "execution_count": 41,
   "metadata": {
    "collapsed": true
   },
   "outputs": [],
   "source": [
    "keys = keys.decode('UTF-8').splitlines()"
   ]
  },
  {
   "cell_type": "code",
   "execution_count": 42,
   "metadata": {},
   "outputs": [
    {
     "name": "stdout",
     "output_type": "stream",
     "text": [
      "['gs://aqueduct30_v01/Y2018M02D13_RH_GDB_To_Tiff_V01/Ca.tif', 'gs://aqueduct30_v01/Y2018M02D13_RH_GDB_To_Tiff_V01/Cd.tif', 'gs://aqueduct30_v01/Y2018M02D13_RH_GDB_To_Tiff_V01/Ci.tif', 'gs://aqueduct30_v01/Y2018M02D13_RH_GDB_To_Tiff_V01/Ct.tif', 'gs://aqueduct30_v01/Y2018M02D13_RH_GDB_To_Tiff_V01/Ua.tif', 'gs://aqueduct30_v01/Y2018M02D13_RH_GDB_To_Tiff_V01/Ud.tif', 'gs://aqueduct30_v01/Y2018M02D13_RH_GDB_To_Tiff_V01/Ui.tif', 'gs://aqueduct30_v01/Y2018M02D13_RH_GDB_To_Tiff_V01/Ut.tif']\n"
     ]
    }
   ],
   "source": [
    "print(keys)"
   ]
  },
  {
   "cell_type": "code",
   "execution_count": 97,
   "metadata": {},
   "outputs": [],
   "source": [
    "df = pd.DataFrame()\n",
    "i = 0\n",
    "for key in keys:\n",
    "    i = i+1\n",
    "    outDict = splitKey(key)\n",
    "    df2 = pd.DataFrame(outDict,index=[i])\n",
    "    df2[\"source\"] = key\n",
    "    df = df.append(df2)  "
   ]
  },
  {
   "cell_type": "code",
   "execution_count": 104,
   "metadata": {
    "collapsed": true
   },
   "outputs": [],
   "source": [
    "properties = {}\n",
    "properties[\"script_used\"] = SCRIPT_NAME\n",
    "properties[\"ingested_by\"] = \"'Rutger Hofste'\"\n",
    "properties[\"aqueduct_version\"] = \"'2.1'\"\n",
    "properties[\"version\"] = OUTPUT_VERSION\n",
    "properties[\"units\"] = \"m3\""
   ]
  },
  {
   "cell_type": "code",
   "execution_count": 105,
   "metadata": {
    "collapsed": true
   },
   "outputs": [],
   "source": [
    "propertyString = \"\"\n",
    "for key, value in properties.items():\n",
    "    propertyString = propertyString + \" -p \" + str(key) + \"=\" + str(value)"
   ]
  },
  {
   "cell_type": "code",
   "execution_count": 106,
   "metadata": {},
   "outputs": [
    {
     "data": {
      "text/html": [
       "<div>\n",
       "<style>\n",
       "    .dataframe thead tr:only-child th {\n",
       "        text-align: right;\n",
       "    }\n",
       "\n",
       "    .dataframe thead th {\n",
       "        text-align: left;\n",
       "    }\n",
       "\n",
       "    .dataframe tbody tr th {\n",
       "        vertical-align: top;\n",
       "    }\n",
       "</style>\n",
       "<table border=\"1\" class=\"dataframe\">\n",
       "  <thead>\n",
       "    <tr style=\"text-align: right;\">\n",
       "      <th></th>\n",
       "      <th>extension</th>\n",
       "      <th>fileName</th>\n",
       "      <th>source</th>\n",
       "    </tr>\n",
       "  </thead>\n",
       "  <tbody>\n",
       "    <tr>\n",
       "      <th>1</th>\n",
       "      <td>tif</td>\n",
       "      <td>Ca</td>\n",
       "      <td>gs://aqueduct30_v01/Y2018M02D13_RH_GDB_To_Tiff...</td>\n",
       "    </tr>\n",
       "    <tr>\n",
       "      <th>2</th>\n",
       "      <td>tif</td>\n",
       "      <td>Cd</td>\n",
       "      <td>gs://aqueduct30_v01/Y2018M02D13_RH_GDB_To_Tiff...</td>\n",
       "    </tr>\n",
       "    <tr>\n",
       "      <th>3</th>\n",
       "      <td>tif</td>\n",
       "      <td>Ci</td>\n",
       "      <td>gs://aqueduct30_v01/Y2018M02D13_RH_GDB_To_Tiff...</td>\n",
       "    </tr>\n",
       "    <tr>\n",
       "      <th>4</th>\n",
       "      <td>tif</td>\n",
       "      <td>Ct</td>\n",
       "      <td>gs://aqueduct30_v01/Y2018M02D13_RH_GDB_To_Tiff...</td>\n",
       "    </tr>\n",
       "    <tr>\n",
       "      <th>5</th>\n",
       "      <td>tif</td>\n",
       "      <td>Ua</td>\n",
       "      <td>gs://aqueduct30_v01/Y2018M02D13_RH_GDB_To_Tiff...</td>\n",
       "    </tr>\n",
       "  </tbody>\n",
       "</table>\n",
       "</div>"
      ],
      "text/plain": [
       "  extension fileName                                             source\n",
       "1       tif       Ca  gs://aqueduct30_v01/Y2018M02D13_RH_GDB_To_Tiff...\n",
       "2       tif       Cd  gs://aqueduct30_v01/Y2018M02D13_RH_GDB_To_Tiff...\n",
       "3       tif       Ci  gs://aqueduct30_v01/Y2018M02D13_RH_GDB_To_Tiff...\n",
       "4       tif       Ct  gs://aqueduct30_v01/Y2018M02D13_RH_GDB_To_Tiff...\n",
       "5       tif       Ua  gs://aqueduct30_v01/Y2018M02D13_RH_GDB_To_Tiff..."
      ]
     },
     "execution_count": 106,
     "metadata": {},
     "output_type": "execute_result"
    }
   ],
   "source": [
    "df.head()"
   ]
  },
  {
   "cell_type": "code",
   "execution_count": 108,
   "metadata": {},
   "outputs": [
    {
     "name": "stdout",
     "output_type": "stream",
     "text": [
      "earthengine upload image --asset_id projects/WRI-Aquaduct/aqueduct21V01/Ca gs://aqueduct30_v01/Y2018M02D13_RH_GDB_To_Tiff_V01/Ca.tif  -p aqueduct_version='2.1' -p units=m3 -p script_used=Y2018M02D13_RH_GDB_To_Tiff_V01 -p version=1 -p ingested_by='Rutger Hofste'\n",
      "earthengine upload image --asset_id projects/WRI-Aquaduct/aqueduct21V01/Cd gs://aqueduct30_v01/Y2018M02D13_RH_GDB_To_Tiff_V01/Cd.tif  -p aqueduct_version='2.1' -p units=m3 -p script_used=Y2018M02D13_RH_GDB_To_Tiff_V01 -p version=1 -p ingested_by='Rutger Hofste'\n",
      "earthengine upload image --asset_id projects/WRI-Aquaduct/aqueduct21V01/Ci gs://aqueduct30_v01/Y2018M02D13_RH_GDB_To_Tiff_V01/Ci.tif  -p aqueduct_version='2.1' -p units=m3 -p script_used=Y2018M02D13_RH_GDB_To_Tiff_V01 -p version=1 -p ingested_by='Rutger Hofste'\n",
      "earthengine upload image --asset_id projects/WRI-Aquaduct/aqueduct21V01/Ct gs://aqueduct30_v01/Y2018M02D13_RH_GDB_To_Tiff_V01/Ct.tif  -p aqueduct_version='2.1' -p units=m3 -p script_used=Y2018M02D13_RH_GDB_To_Tiff_V01 -p version=1 -p ingested_by='Rutger Hofste'\n",
      "earthengine upload image --asset_id projects/WRI-Aquaduct/aqueduct21V01/Ua gs://aqueduct30_v01/Y2018M02D13_RH_GDB_To_Tiff_V01/Ua.tif  -p aqueduct_version='2.1' -p units=m3 -p script_used=Y2018M02D13_RH_GDB_To_Tiff_V01 -p version=1 -p ingested_by='Rutger Hofste'\n",
      "earthengine upload image --asset_id projects/WRI-Aquaduct/aqueduct21V01/Ud gs://aqueduct30_v01/Y2018M02D13_RH_GDB_To_Tiff_V01/Ud.tif  -p aqueduct_version='2.1' -p units=m3 -p script_used=Y2018M02D13_RH_GDB_To_Tiff_V01 -p version=1 -p ingested_by='Rutger Hofste'\n",
      "earthengine upload image --asset_id projects/WRI-Aquaduct/aqueduct21V01/Ui gs://aqueduct30_v01/Y2018M02D13_RH_GDB_To_Tiff_V01/Ui.tif  -p aqueduct_version='2.1' -p units=m3 -p script_used=Y2018M02D13_RH_GDB_To_Tiff_V01 -p version=1 -p ingested_by='Rutger Hofste'\n",
      "earthengine upload image --asset_id projects/WRI-Aquaduct/aqueduct21V01/Ut gs://aqueduct30_v01/Y2018M02D13_RH_GDB_To_Tiff_V01/Ut.tif  -p aqueduct_version='2.1' -p units=m3 -p script_used=Y2018M02D13_RH_GDB_To_Tiff_V01 -p version=1 -p ingested_by='Rutger Hofste'\n"
     ]
    }
   ],
   "source": [
    "for index, row in df.iterrows():\n",
    "    asset_id = EE_BASE + \"/\" + row[\"fileName\"]     \n",
    "    command =  \"earthengine upload image --asset_id {} {} {}\".format(asset_id, row[\"source\"], propertyString)\n",
    "    subprocess.check_output(command,shell=True)\n",
    "    print(command)"
   ]
  },
  {
   "cell_type": "code",
   "execution_count": null,
   "metadata": {
    "collapsed": true
   },
   "outputs": [],
   "source": []
  },
  {
   "cell_type": "code",
   "execution_count": null,
   "metadata": {
    "collapsed": true
   },
   "outputs": [],
   "source": []
  },
  {
   "cell_type": "code",
   "execution_count": null,
   "metadata": {
    "collapsed": true
   },
   "outputs": [],
   "source": []
  },
  {
   "cell_type": "code",
   "execution_count": null,
   "metadata": {
    "collapsed": true
   },
   "outputs": [],
   "source": []
  },
  {
   "cell_type": "code",
   "execution_count": null,
   "metadata": {
    "collapsed": true
   },
   "outputs": [],
   "source": []
  },
  {
   "cell_type": "code",
   "execution_count": null,
   "metadata": {
    "collapsed": true
   },
   "outputs": [],
   "source": []
  },
  {
   "cell_type": "code",
   "execution_count": null,
   "metadata": {
    "collapsed": true
   },
   "outputs": [],
   "source": []
  }
 ],
 "metadata": {
  "kernelspec": {
   "display_name": "Python 35",
   "language": "python",
   "name": "python35"
  },
  "language_info": {
   "codemirror_mode": {
    "name": "ipython",
    "version": 3
   },
   "file_extension": ".py",
   "mimetype": "text/x-python",
   "name": "python",
   "nbconvert_exporter": "python",
   "pygments_lexer": "ipython3",
   "version": "3.5.4"
  }
 },
 "nbformat": 4,
 "nbformat_minor": 2
}
