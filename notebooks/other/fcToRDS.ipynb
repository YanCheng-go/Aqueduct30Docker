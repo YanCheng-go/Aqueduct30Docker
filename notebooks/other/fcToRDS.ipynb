{
 "cells": [
  {
   "cell_type": "markdown",
   "metadata": {},
   "source": [
    "Goal is to create read / write functions for FeatureCollections to AWS RDS PostGreSQL \n",
    "\n",
    "\n",
    "This script contains the following options:\n",
    "\n",
    "* fc -> Geopandas \n",
    "* Geopandas -> postGIS\n",
    "\n",
    "* PostGIS -> GeoPandas \n",
    "* GeoPandas -> fc\n",
    "\n",
    "* fc -> pandas \n",
    "* pandas -> postgreSQL \n",
    "\n",
    "* postgresql -> Pandas\n",
    "* Pandas -> fc\n",
    "\n",
    "\n",
    "\n",
    "TODO:\n",
    "\n",
    "laatste stap: Geopandas - > Fc heeft probelemen met Geometry in GeoJSON\n",
    "\n",
    "\n"
   ]
  },
  {
   "cell_type": "code",
   "execution_count": 1,
   "metadata": {
    "collapsed": true
   },
   "outputs": [],
   "source": [
    "%matplotlib inline"
   ]
  },
  {
   "cell_type": "code",
   "execution_count": 2,
   "metadata": {
    "collapsed": true
   },
   "outputs": [],
   "source": [
    "import ee\n",
    "import pandas as pd\n",
    "import geopandas as gpd\n",
    "\n",
    "import folium\n",
    "import folium_gee\n",
    "import branca \n",
    "\n",
    "import shapely\n",
    "import shapely.wkt\n",
    "\n",
    "import boto3\n",
    "import botocore\n",
    "import sqlalchemy\n",
    "import geoalchemy2\n",
    "import geojson\n",
    "import geojsonio\n",
    "\n",
    "#from shapely.geometry.multipolygon import MultiPolygon\n",
    "#from shapely.geometry import shape"
   ]
  },
  {
   "cell_type": "code",
   "execution_count": 3,
   "metadata": {
    "collapsed": true
   },
   "outputs": [],
   "source": [
    "ee.Initialize()"
   ]
  },
  {
   "cell_type": "code",
   "execution_count": 4,
   "metadata": {
    "collapsed": true
   },
   "outputs": [],
   "source": [
    "# Database settings\n",
    "OUTPUT_VERSION= 1\n",
    "\n",
    "DATABASE_IDENTIFIER = \"aqueduct30v03\"\n",
    "DATABASE_NAME = \"database01\"\n",
    "TABLE_NAME = \"hydrobasin6_v%0.2d\" %(OUTPUT_VERSION)"
   ]
  },
  {
   "cell_type": "code",
   "execution_count": 19,
   "metadata": {
    "collapsed": true
   },
   "outputs": [],
   "source": [
    "def rdsConnect(database_identifier,database_name):\n",
    "    \"\"\"open a connection to AWS RDS\n",
    "    \n",
    "    in addition to specifying the arguments you need to store your password in a file called .password in the current working directory. \n",
    "    You can do this using the command line or Jupyter. Make sure to have your .gitignore file up to date.\n",
    "    \n",
    "    Args:\n",
    "        database_identifier (string) : database identifier used when you set up the AWS RDS instance\n",
    "        database_name (string) : the database name to connect to\n",
    "        \n",
    "    Returns:\n",
    "        engine (sqlalchemy.engine.base.Engine) : database engine\n",
    "        connection (sqlalchemy.engine.base.Connection) : database connection\n",
    "    \"\"\"\n",
    "    \n",
    "    \n",
    "    rds = boto3.client('rds')\n",
    "    F = open(\".password\",\"r\")\n",
    "    password = F.read().splitlines()[0]\n",
    "    F.close()\n",
    "    response = rds.describe_db_instances(DBInstanceIdentifier=\"%s\"%(database_identifier))\n",
    "    status = response[\"DBInstances\"][0][\"DBInstanceStatus\"]\n",
    "    print(\"Status:\",status)\n",
    "    endpoint = response[\"DBInstances\"][0][\"Endpoint\"][\"Address\"]\n",
    "    print(\"Endpoint:\",endpoint)\n",
    "    engine = sqlalchemy.create_engine('postgresql://rutgerhofste:%s@%s:5432/%s' %(password,endpoint,database_name))\n",
    "    connection = engine.connect()\n",
    "    return engine, connection\n",
    "\n",
    "\n",
    "def fcToGdf(fc):\n",
    "    \"\"\"converts a featurecollection to a geoPandas GeoDataFrame. Use this function only if all features have a geometry.  WARNING: Geometries are non-geodesic. Geodesic not yet supported\n",
    "    \n",
    "    Args:\n",
    "        fc (ee.FeatureCollection) : the earth engine feature collection to convert. Size is limited to memory (geopandas limitation)\n",
    "        crs (dictionary, optional) : the coordinate reference system in geopandas format. Defaults to {'init' :'epsg:4326'}\n",
    "        \n",
    "    Returns:\n",
    "        gdf (geoPandas.GeoDataFrame or pandas.DataFrame) : the corresponding (geo)dataframe. \n",
    "        \n",
    "    \"\"\"\n",
    "    crs = {'init' :'epsg:4326'}\n",
    "    \n",
    "    features = fc.getInfo()['features']\n",
    "    dictarr = []\n",
    "\n",
    "    for f in features:\n",
    "        geodesic = ee.Feature(f).geometry().edgesAreGeodesics()\n",
    "        if geodesic:\n",
    "            print(\"WARNING: Geodesic is True. Shapely cannot handle this, converting to planar\")\n",
    "        attr = f['properties']\n",
    "        attr['geometry'] = f['geometry']  \n",
    "        dictarr.append(attr)\n",
    "\n",
    "    gdf = gpd.GeoDataFrame(dictarr)\n",
    "    gdf['geometry'] = map(lambda s: shapely.geometry.shape(s), gdf.geometry)\n",
    "    gdf.crs = crs\n",
    "    return gdf\n",
    "\n",
    "\n",
    "def fcToDf(fc):\n",
    "    \"\"\"converts a featurecollection to a Pandas DataFrame. Use this function for featureCollections without geometries. For featureCollections with geometries, use fcToGdf()\n",
    "    \n",
    "    Args:\n",
    "        fc (ee.FeatureCollection) : the earth engine feature collection to convert. Size is limited to memory (geopandas limitation)\n",
    "        crs (dictionary, optional) : the coordinate reference system in geopandas format. Defaults to {'init' :'epsg:4326'}\n",
    "        \n",
    "    Returns:\n",
    "        df (pandas.DataFrame) : the corresponding dataframe. \n",
    "        \n",
    "    \"\"\"\n",
    "    \n",
    "    features = fc.getInfo()['features']\n",
    "    dictarr = []    \n",
    "    for f in features:\n",
    "        attr = f['properties']\n",
    "        dictarr.append(attr)\n",
    "    \n",
    "    df = pd.DataFrame(dictarr)\n",
    "    return df\n",
    "\n",
    "def gdfToPostGIS(connection, gdf,tableName,saveIndex = True):\n",
    "    \"\"\"this function uploads a geodataframe to table in AWS RDS.\n",
    "    \n",
    "    It handles combined polygon/multipolygon geometry and stores it in valid multipolygon in epsg 4326.\n",
    "    \n",
    "    Args:\n",
    "        connection (sqlalchemy.engine.base.Connection) : postGIS enabled database connection \n",
    "        gdf (geoPandas.GeoDataFrame) : input geoDataFrame\n",
    "        tableName (string) : postGIS table name (string)\n",
    "        saveIndex (boolean, optional) : save geoDataFrame index column in separate column in postgresql, otherwise discarded. Default is True\n",
    "        \n",
    "    Returns:\n",
    "        gdf (geoPandas.GeoDataFrame) : the geodataframe loaded from the database. Should match the input dataframe\n",
    "    \n",
    "    todo:\n",
    "        currently removes table if exists. Include option to break or append\n",
    "    \n",
    "    \"\"\"   \n",
    "    \n",
    "    gdf[\"type\"] = gdf.geometry.geom_type    \n",
    "    geomTypes = [\"Polygon\",\"MultiPolygon\"]\n",
    "    \n",
    "    for geomType in geomTypes:\n",
    "        gdfType = gdf.loc[gdf[\"type\"]== geomType]\n",
    "        geomTypeLower = str.lower(geomType)\n",
    "        gdfType['geom'] = gdfType['geometry'].apply(lambda x: geoalchemy2.WKTElement(x.wkt, srid=4326))\n",
    "        gdfType.drop([\"geometry\",\"type\"],1, inplace=True)      \n",
    "        print(\"Create table temp%s\" %(geomTypeLower)) \n",
    "        gdfType.to_sql(\n",
    "            name = \"temp%s\" %(geomTypeLower),\n",
    "            con = engine,\n",
    "            if_exists='replace',\n",
    "            index= saveIndex, \n",
    "            dtype={'geom': geoalchemy2.Geometry(str.upper(geomType), srid= 4326)}\n",
    "        )\n",
    "        \n",
    "    # Merge both tables and make valid\n",
    "    sql = []\n",
    "    sql.append(\"DROP TABLE IF EXISTS %s\"  %(tableName))\n",
    "    sql.append(\"ALTER TABLE temppolygon ALTER COLUMN geom type geometry(MultiPolygon, 4326) using ST_Multi(geom);\")\n",
    "    sql.append(\"CREATE TABLE %s AS (SELECT * FROM temppolygon UNION SELECT * FROM tempmultipolygon);\" %(tableName))\n",
    "    sql.append(\"UPDATE %s SET geom = st_makevalid(geom);\" %(tableName))\n",
    "    sql.append(\"DROP TABLE temppolygon,tempmultipolygon\")\n",
    "\n",
    "    for statement in sql:\n",
    "        print(statement)\n",
    "        result = connection.execute(statement)    \n",
    "    gdfFromSQL =gpd.GeoDataFrame.from_postgis(\"select * from %s\" %(tableName),connection,geom_col='geom' )\n",
    "    return gdfFromSQL\n",
    "\n",
    "\n",
    "def dfToPostgreSQL(connection, df,tableName,saveIndex = True):\n",
    "    \"\"\"this function uploads a dataframe to table in AWS RDS.\n",
    "       \n",
    "    Args:\n",
    "        connection (sqlalchemy.engine.base.Connection) :database connection \n",
    "        df (pandas.GeoDataFrame) : input dataFrame\n",
    "        tableName (string) : table name (string)\n",
    "        saveIndex (boolean, optional) : save geoDataFrame index column in separate column in postgresql, otherwise discarded. Default is True\n",
    "        \n",
    "    Returns:\n",
    "        gdf (geoPandas.GeoDataFrame) : the geodataframe loaded from the database. Should match the input dataframe\n",
    "    \n",
    "    todo:\n",
    "        currently removes table if exists. Include option to break or append\n",
    "    \n",
    "    \"\"\"  \n",
    "    df.to_sql(\n",
    "        name = tableName,\n",
    "        con = connection,\n",
    "        if_exists=\"replace\",\n",
    "        index = saveIndex,\n",
    "        chunkSize = None\n",
    "    )\n",
    "\n",
    "    return 1\n",
    "\n",
    "\n",
    "def postGisToGdf(connection,tableName):\n",
    "    \"\"\"this function gets a geoDataFrame from a postGIS database instance\n",
    "    \n",
    "    \n",
    "    Args:\n",
    "        connection (sqlalchemy.engine.base.Connection) : postGIS enabled database connection \n",
    "        tableName (string) : table name\n",
    " \n",
    "    Returns:\n",
    "        gdf (geoPandas.GeoDataFrame) : the geodataframe from PostGIS\n",
    "        \n",
    "    todo:\n",
    "        allow for SQL filtering\n",
    "    \n",
    "    \n",
    "    \"\"\"   \n",
    "    gdf =gpd.GeoDataFrame.from_postgis(\"select * from %s\" %(tableName),connection,geom_col='geom' )\n",
    "    gdf.crs =  {'init' :'epsg:4326'}\n",
    "    return gdf\n",
    "\n",
    "def postgreSQLToDf(connection,tableName):\n",
    "    \"\"\"this function gets a dataFrame from a postGIS database instance\n",
    "    \n",
    "    Args:\n",
    "        connection (sqlalchemy.engine.base.Connection) : postGIS enabled database connection \n",
    "        tableName (string) : table name\n",
    " \n",
    "    Returns:\n",
    "        df (pandas.DataFrame) : the dataframe from PostGIS\n",
    "        \n",
    "    todo:\n",
    "        allow for SQL filtering\n",
    "    \n",
    "    \n",
    "    \"\"\"   \n",
    "    df = pd.read_sql_query('select * from \"%s\"' %(tableName),con=engine )\n",
    "    return df\n",
    "\n",
    "\n",
    "def shapelyToEEFeature(row):\n",
    "    properties = row.drop([\"geometry\"]).to_dict()\n",
    "    geoJSONfeature = geojson.Feature(geometry=row[\"geometry\"], properties=properties)\n",
    "    return ee.Feature(geoJSONfeature)\n",
    "\n",
    "def noGeometryEEFeature(row):\n",
    "    properties = row.to_dict()\n",
    "    return ee.Feature(None,properties)\n",
    "    \n",
    "    \n",
    "def gdfToFc(gdf):\n",
    "    \"\"\"converts a geodataframe  to a featurecollection\n",
    "    \n",
    "    Args:\n",
    "        gdf (geoPandas.GeoDataFrame) : the input geodataframe\n",
    "        \n",
    "    Returns:\n",
    "        fc (ee.FeatureCollection) : feature collection (server side)  \n",
    "    \n",
    "    \n",
    "    \"\"\"\n",
    "    gdfCopy = gdf.copy()\n",
    "    gdfCopy[\"eeFeature\"] = gdfCopy.apply(shapelyToEEFeature,1)\n",
    "    featureList = gdfCopy[\"eeFeature\"].tolist()\n",
    "    fc =  ee.FeatureCollection(featureList)\n",
    "    return fc\n",
    "\n",
    "\n",
    "def dfToFc(df):\n",
    "    \"\"\"converts a dataframe  to a featurecollection without geometry\n",
    "    \n",
    "    Args:\n",
    "        df (pandas.dataFrame) : the input dataframe\n",
    "        \n",
    "    Returns:\n",
    "        fc (ee.FeatureCollection) : feature collection with empty geometry\n",
    "    \n",
    "    \n",
    "    \"\"\"\n",
    "    dfCopy = df.copy()\n",
    "    dfCopy[\"eeFeature\"] = gdfCopy.apply(noGeometryEEFeature,1)\n",
    "    featureList = dfCopy[\"eeFeature\"].tolist()\n",
    "    fc =  ee.FeatureCollection(featureList)\n",
    "    return fc\n",
    "    \n",
    "\n",
    "def shapelyToFoliumFeature(row):\n",
    "    \"\"\"converts a shapely feature to a folium (leaflet) feature. row needs to have a geometry column. CRS is 4326\n",
    "    \n",
    "    Args:\n",
    "        row (geoPandas.GeoDataFrame row) : the input geodataframe row. Appy this function to a geodataframe gdf.appy(function, 1)\n",
    "        \n",
    "    Returns:\n",
    "        foliumFeature  (folium feature) : foliumFeature with popup child.\n",
    "    \n",
    "    \"\"\"    \n",
    "\n",
    "    width, height = 310,110\n",
    "    dfTemp = pd.DataFrame(row.drop(\"geometry\"))\n",
    "    htmlTable = dfTemp.to_html()\n",
    "    iFrame = branca.element.IFrame(htmlTable, width=width, height=height)\n",
    "    geoJSONfeature = geojson.Feature(geometry=row[\"geometry\"], properties={})\n",
    "    foliumFeature = folium.features.GeoJson(geoJSONfeature)\n",
    "    foliumFeature.add_child(folium.Popup(iFrame))\n",
    "    return foliumFeature \n",
    "    \n",
    "\n",
    "    \n",
    "def defaultMap():\n",
    "    m = folium.Map(\n",
    "        location=[5, 52],\n",
    "        tiles='Mapbox Bright',\n",
    "        zoom_start=4\n",
    "    )\n",
    "    return m\n",
    "\n",
    "\n",
    "def gdfToFoliumGroup(gdf,name=\"noName\",m=None):\n",
    "    \"\"\"converts a geodataframe  to a folium featureGroup with the properties as a popup child\n",
    "    \n",
    "    Args:\n",
    "        gdf (geoPandas.GeoDataFrame) : the input geodataframe\n",
    "        name (string) : output folium feature group name\n",
    "        \n",
    "    Returns:\n",
    "        fc (ee.FeatureCollection) : feature collection (server side)  \n",
    "    \"\"\"\n",
    "     \n",
    "    featureGroup = folium.FeatureGroup(name=name)\n",
    "    if m:\n",
    "        pass\n",
    "    else:\n",
    "        m = defaultMap()\n",
    "    \n",
    "    features = gdf.apply(shapelyToFoliumFeature,1)   \n",
    "    map(lambda x: x.add_to(featureGroup),features)\n",
    "        \n",
    "    return featureGroup\n",
    "\n"
   ]
  },
  {
   "cell_type": "markdown",
   "metadata": {},
   "source": [
    "# Testing"
   ]
  },
  {
   "cell_type": "markdown",
   "metadata": {},
   "source": [
    "* fc -> Geopandas   \n",
    "* Geopandas -> postGIS\n",
    "\n",
    "* PostGIS -> GeoPandas \n",
    "* GeoPandas -> fc\n",
    "\n",
    "* fc -> pandas  \n",
    "* pandas -> postgreSQL \n",
    "\n",
    "* postgresql -> Pandas\n",
    "* Pandas -> fc\n"
   ]
  },
  {
   "cell_type": "code",
   "execution_count": 27,
   "metadata": {},
   "outputs": [
    {
     "name": "stdout",
     "output_type": "stream",
     "text": [
      "('Status:', 'available')\n",
      "('Endpoint:', 'aqueduct30v03.cgpnumwmfcqc.eu-central-1.rds.amazonaws.com')\n"
     ]
    }
   ],
   "source": [
    "engine, connection = rdsConnect(DATABASE_IDENTIFIER,DATABASE_NAME)"
   ]
  },
  {
   "cell_type": "code",
   "execution_count": 20,
   "metadata": {
    "collapsed": true
   },
   "outputs": [],
   "source": [
    "fc = ee.FeatureCollection(\"USDOS/LSIB_SIMPLE/2017\");\n",
    "fcEu = fc.filter(ee.Filter.eq(\"wld_rgn\",\"Europe\"))\n",
    "fcTest = fcEu.filter(ee.Filter.inList(\"country_co\",[\"PO\",\"NL\"]))"
   ]
  },
  {
   "cell_type": "code",
   "execution_count": 21,
   "metadata": {},
   "outputs": [
    {
     "name": "stdout",
     "output_type": "stream",
     "text": [
      "WARNING: Geodesic is True. Shapely cannot handle this, converting to planar\n",
      "WARNING: Geodesic is True. Shapely cannot handle this, converting to planar\n",
      "WARNING: Geodesic is True. Shapely cannot handle this, converting to planar\n"
     ]
    }
   ],
   "source": [
    "gdf = fcToGdf(fcTest)"
   ]
  },
  {
   "cell_type": "code",
   "execution_count": 22,
   "metadata": {},
   "outputs": [],
   "source": [
    "fcNoGeom = ee.FeatureCollection(\"ft:1LAkQiS-bB71VbzRG6jKPKCO6mQj3fKjLR2RD-68K\")"
   ]
  },
  {
   "cell_type": "code",
   "execution_count": 25,
   "metadata": {},
   "outputs": [],
   "source": [
    "df =fcToDf(fcNoGeom)"
   ]
  },
  {
   "cell_type": "code",
   "execution_count": 26,
   "metadata": {},
   "outputs": [
    {
     "data": {
      "text/html": [
       "<div>\n",
       "<style>\n",
       "    .dataframe thead tr:only-child th {\n",
       "        text-align: right;\n",
       "    }\n",
       "\n",
       "    .dataframe thead th {\n",
       "        text-align: left;\n",
       "    }\n",
       "\n",
       "    .dataframe tbody tr th {\n",
       "        vertical-align: top;\n",
       "    }\n",
       "</style>\n",
       "<table border=\"1\" class=\"dataframe\">\n",
       "  <thead>\n",
       "    <tr style=\"text-align: right;\">\n",
       "      <th></th>\n",
       "      <th>Age</th>\n",
       "      <th>Date</th>\n",
       "    </tr>\n",
       "  </thead>\n",
       "  <tbody>\n",
       "    <tr>\n",
       "      <th>0</th>\n",
       "      <td>28.0</td>\n",
       "      <td>1514764800000</td>\n",
       "    </tr>\n",
       "    <tr>\n",
       "      <th>1</th>\n",
       "      <td>29.0</td>\n",
       "      <td>1368316800000</td>\n",
       "    </tr>\n",
       "  </tbody>\n",
       "</table>\n",
       "</div>"
      ],
      "text/plain": [
       "    Age           Date\n",
       "0  28.0  1514764800000\n",
       "1  29.0  1368316800000"
      ]
     },
     "execution_count": 26,
     "metadata": {},
     "output_type": "execute_result"
    }
   ],
   "source": [
    "df"
   ]
  },
  {
   "cell_type": "code",
   "execution_count": 13,
   "metadata": {},
   "outputs": [
    {
     "name": "stdout",
     "output_type": "stream",
     "text": [
      "{u'geometry': {u'type': u'MultiPoint', u'geodesic': True, u'coordinates': []}, u'type': u'Feature', u'id': u'2', u'properties': {u'Date': 1514764800000, u'Age': 28.0}}\n"
     ]
    }
   ],
   "source": [
    "print(feature.getInfo())"
   ]
  },
  {
   "cell_type": "code",
   "execution_count": null,
   "metadata": {},
   "outputs": [],
   "source": [
    "fcTest.getInfo()"
   ]
  },
  {
   "cell_type": "code",
   "execution_count": 16,
   "metadata": {},
   "outputs": [
    {
     "data": {
      "text/plain": [
       "dict"
      ]
     },
     "execution_count": 16,
     "metadata": {},
     "output_type": "execute_result"
    }
   ],
   "source": [
    "type(geom)"
   ]
  },
  {
   "cell_type": "code",
   "execution_count": null,
   "metadata": {
    "collapsed": true
   },
   "outputs": [],
   "source": []
  },
  {
   "cell_type": "code",
   "execution_count": null,
   "metadata": {
    "collapsed": true
   },
   "outputs": [],
   "source": []
  },
  {
   "cell_type": "code",
   "execution_count": null,
   "metadata": {
    "collapsed": true
   },
   "outputs": [],
   "source": []
  },
  {
   "cell_type": "code",
   "execution_count": null,
   "metadata": {
    "collapsed": true
   },
   "outputs": [],
   "source": []
  },
  {
   "cell_type": "code",
   "execution_count": null,
   "metadata": {
    "collapsed": true
   },
   "outputs": [],
   "source": [
    "geometry = ee.Geometry.Polygon(coords=[[-180.0, -90.0], [180,  -90.0], [180, 90], [-180,90]], proj= ee.Projection('EPSG:4326'),geodesic=False )"
   ]
  },
  {
   "cell_type": "code",
   "execution_count": null,
   "metadata": {
    "collapsed": true
   },
   "outputs": [],
   "source": [
    "geometry2 = ee.Geometry.Polygon(coords=[[-180.0, -90.0], [180,  -90.0], [180, 90], [-180,90]], proj= ee.Projection('EPSG:4326'),geodesic=True )"
   ]
  },
  {
   "cell_type": "code",
   "execution_count": null,
   "metadata": {
    "collapsed": true
   },
   "outputs": [],
   "source": [
    "feature = ee.Feature(geometry,{\"rutger\":42})\n",
    "feature2  = ee.Feature(geometry2,{\"rutger\":42})"
   ]
  },
  {
   "cell_type": "code",
   "execution_count": null,
   "metadata": {
    "collapsed": true
   },
   "outputs": [],
   "source": [
    "fc1 = ee.FeatureCollection([feature])\n",
    "fc2 = ee.FeatureCollection([feature2])"
   ]
  },
  {
   "cell_type": "code",
   "execution_count": null,
   "metadata": {
    "collapsed": true
   },
   "outputs": [],
   "source": [
    "gdf1 = fcToGdf(fc1)\n",
    "gdf2 = fcToGdf(fc2)"
   ]
  },
  {
   "cell_type": "code",
   "execution_count": null,
   "metadata": {
    "collapsed": true
   },
   "outputs": [],
   "source": [
    "group1 = gdfToFoliumGroup(gdf1)"
   ]
  },
  {
   "cell_type": "code",
   "execution_count": null,
   "metadata": {
    "collapsed": true
   },
   "outputs": [],
   "source": [
    "group2 = gdfToFoliumGroup(gdf2)"
   ]
  },
  {
   "cell_type": "code",
   "execution_count": null,
   "metadata": {},
   "outputs": [],
   "source": [
    "m = defaultMap()\n",
    "group2.add_to(m)\n",
    "m"
   ]
  },
  {
   "cell_type": "code",
   "execution_count": null,
   "metadata": {
    "collapsed": true
   },
   "outputs": [],
   "source": []
  },
  {
   "cell_type": "code",
   "execution_count": null,
   "metadata": {
    "collapsed": true
   },
   "outputs": [],
   "source": []
  },
  {
   "cell_type": "markdown",
   "metadata": {},
   "source": [
    "Plot GDF on folium map with popups"
   ]
  },
  {
   "cell_type": "code",
   "execution_count": null,
   "metadata": {
    "collapsed": true
   },
   "outputs": [],
   "source": [
    "test = gdfToFoliumGroup(gdf)"
   ]
  },
  {
   "cell_type": "code",
   "execution_count": null,
   "metadata": {},
   "outputs": [],
   "source": [
    "m = defaultMap()\n",
    "featureGroup.add_to(m)\n",
    "m"
   ]
  }
 ],
 "metadata": {
  "kernelspec": {
   "display_name": "Python 27",
   "language": "python",
   "name": "python27"
  },
  "language_info": {
   "codemirror_mode": {
    "name": "ipython",
    "version": 2
   },
   "file_extension": ".py",
   "mimetype": "text/x-python",
   "name": "python",
   "nbconvert_exporter": "python",
   "pygments_lexer": "ipython2",
   "version": "2.7.14"
  }
 },
 "nbformat": 4,
 "nbformat_minor": 2
}
