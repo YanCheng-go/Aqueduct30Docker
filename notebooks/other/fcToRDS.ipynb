{
 "cells": [
  {
   "cell_type": "markdown",
   "metadata": {},
   "source": [
    "Goal is to create read / write functions for FeatureCollections to AWS RDS PostGreSQL \n",
    "\n",
    "\n",
    "This script contains the following options:\n",
    "\n",
    "fc -> Geopandas -> postGIS  \n",
    "PostGIS -> GeoPandas -> fc\n",
    "\n",
    "\n",
    "TODO:\n",
    "\n",
    "laatste stap: Geopandas - > Fc heeft probelemen met Geometry in GeoJSON\n",
    "\n",
    "\n"
   ]
  },
  {
   "cell_type": "code",
   "execution_count": 1,
   "metadata": {
    "collapsed": true
   },
   "outputs": [],
   "source": [
    "%matplotlib inline"
   ]
  },
  {
   "cell_type": "code",
   "execution_count": 2,
   "metadata": {},
   "outputs": [],
   "source": [
    "import ee\n",
    "import geopandas as gpd\n",
    "import folium\n",
    "\n",
    "import shapely\n",
    "\n",
    "import boto3\n",
    "import botocore\n",
    "import sqlalchemy\n",
    "import geoalchemy2\n",
    "import geojson\n",
    "\n",
    "#from shapely.geometry.multipolygon import MultiPolygon\n",
    "#from shapely.geometry import shape"
   ]
  },
  {
   "cell_type": "code",
   "execution_count": 7,
   "metadata": {
    "collapsed": true
   },
   "outputs": [],
   "source": [
    "ee.Initialize()"
   ]
  },
  {
   "cell_type": "code",
   "execution_count": 8,
   "metadata": {
    "collapsed": true
   },
   "outputs": [],
   "source": [
    "fc = ee.FeatureCollection(\"USDOS/LSIB_SIMPLE/2017\");       "
   ]
  },
  {
   "cell_type": "code",
   "execution_count": 9,
   "metadata": {
    "collapsed": true
   },
   "outputs": [],
   "source": [
    "fcEu = fc.filter(ee.Filter.eq(\"wld_rgn\",\"Europe\"))"
   ]
  },
  {
   "cell_type": "code",
   "execution_count": 10,
   "metadata": {
    "collapsed": true
   },
   "outputs": [],
   "source": [
    "# Database settings\n",
    "OUTPUT_VERSION= 1\n",
    "\n",
    "DATABASE_IDENTIFIER = \"aqueduct30v03\"\n",
    "DATABASE_NAME = \"database01\"\n",
    "TABLE_NAME = \"hydrobasin6_v%0.2d\" %(OUTPUT_VERSION)"
   ]
  },
  {
   "cell_type": "code",
   "execution_count": 11,
   "metadata": {
    "collapsed": true
   },
   "outputs": [],
   "source": [
    "def rdsConnect(database_identifier,database_name):\n",
    "    \"\"\"open a connection to AWS RDS\n",
    "    \n",
    "    in addition to specifying the arguments you need to store your password in a file called .password in the current working directory. \n",
    "    You can do this using the command line or Jupyter. Make sure to have your .gitignore file up to date.\n",
    "    \n",
    "    Args:\n",
    "        database_identifier (string) : database identifier used when you set up the AWS RDS instance\n",
    "        database_name (string) : the database name to connect to\n",
    "        \n",
    "    Returns:\n",
    "        engine (sqlalchemy.engine.base.Engine) : database engine\n",
    "        connection (sqlalchemy.engine.base.Connection) : database connection\n",
    "    \"\"\"\n",
    "    \n",
    "    \n",
    "    rds = boto3.client('rds')\n",
    "    F = open(\".password\",\"r\")\n",
    "    password = F.read().splitlines()[0]\n",
    "    F.close()\n",
    "    response = rds.describe_db_instances(DBInstanceIdentifier=\"%s\"%(database_identifier))\n",
    "    status = response[\"DBInstances\"][0][\"DBInstanceStatus\"]\n",
    "    print(\"Status:\",status)\n",
    "    endpoint = response[\"DBInstances\"][0][\"Endpoint\"][\"Address\"]\n",
    "    print(\"Endpoint:\",endpoint)\n",
    "    engine = sqlalchemy.create_engine('postgresql://rutgerhofste:%s@%s:5432/%s' %(password,endpoint,database_name))\n",
    "    connection = engine.connect()\n",
    "    return engine, connection\n",
    "\n",
    "\n",
    "def fcToGdf(fc, crs = {'init' :'epsg:4326'}):\n",
    "    \"\"\"converts a featurecollection to a geoPandas GeoDataFrame\n",
    "    \n",
    "    Args:\n",
    "        fc (ee.FeatureCollection) : the earth engine feature collection to convert. Size is limited to memory (geopandas limitation)\n",
    "        crs (dictionary, optional) : the coordinate reference system in geopandas format. Defaults to {'init' :'epsg:4326'}\n",
    "        \n",
    "    Returns:\n",
    "        gdf (geoPandas.GeoDataFrame) : the corresponding geodataframe\n",
    "    \n",
    "    \"\"\"\n",
    "    \n",
    "    features = fc.getInfo()['features']\n",
    "\n",
    "    dictarr = []\n",
    "\n",
    "    for f in features:\n",
    "        attr = f['properties']\n",
    "        attr['geometry'] = f['geometry']  \n",
    "        dictarr.append(attr)\n",
    "\n",
    "    gdf = gpd.GeoDataFrame(dictarr)\n",
    "    gdf['geometry'] = map(lambda s: shapely.geometry.shape(s), gdf.geometry)\n",
    "    gdf.crs = crs\n",
    "    return gdf\n",
    "\n",
    "\n",
    "def GdfToPostGIS(connection, gdf,tableName,saveIndex = True):\n",
    "    \"\"\"this function uploads a geodataframe to table in AWS RDS.\n",
    "    \n",
    "    It handles combined polygon/multipolygon geometry and stores it in valid multipolygon in epsg 4326.\n",
    "    \n",
    "    Args:\n",
    "        connection (sqlalchemy.engine.base.Connection) : postGIS enabled database connection \n",
    "        gdf (geoPandas.GeoDataFrame) : input geoDataFrame\n",
    "        tableName (string) : postGIS table name (string)\n",
    "        saveIndex (boolean, optional) : save geoDataFrame index column in separate column in postgresql, otherwise discarded. Default is True\n",
    "        \n",
    "    Returns:\n",
    "        gdf (geoPandas.GeoDataFrame) : the geodataframe loaded from the database. Should match the input dataframe\n",
    "    \n",
    "    todo:\n",
    "        currently removes table if exists. Include option to break or append\n",
    "    \n",
    "    \"\"\"   \n",
    "    \n",
    "    gdf[\"type\"] = gdf.geometry.geom_type    \n",
    "    geomTypes = [\"Polygon\",\"MultiPolygon\"]\n",
    "    \n",
    "    for geomType in geomTypes:\n",
    "        gdfType = gdf.loc[gdf[\"type\"]== geomType]\n",
    "        geomTypeLower = str.lower(geomType)\n",
    "        gdfType['geom'] = gdfType['geometry'].apply(lambda x: geoalchemy2.WKTElement(x.wkt, srid=4326))\n",
    "        gdfType.drop([\"geometry\",\"type\"],1, inplace=True)      \n",
    "        print(\"Create table temp%s\" %(geomTypeLower)) \n",
    "        gdfType.to_sql(\n",
    "            name = \"temp%s\" %(geomTypeLower),\n",
    "            con = engine,\n",
    "            if_exists='replace',\n",
    "            index= saveIndex, \n",
    "            dtype={'geom': geoalchemy2.Geometry(str.upper(geomType), srid= 4326)}\n",
    "        )\n",
    "        \n",
    "    # Merge both tables and make valid\n",
    "    sql = []\n",
    "    sql.append(\"DROP TABLE IF EXISTS %s\"  %(tableName))\n",
    "    sql.append(\"ALTER TABLE temppolygon ALTER COLUMN geom type geometry(MultiPolygon, 4326) using ST_Multi(geom);\")\n",
    "    sql.append(\"CREATE TABLE %s AS (SELECT * FROM temppolygon UNION SELECT * FROM tempmultipolygon);\" %(tableName))\n",
    "    sql.append(\"UPDATE %s SET geom = st_makevalid(geom);\" %(tableName))\n",
    "    sql.append(\"DROP TABLE temppolygon,tempmultipolygon\")\n",
    "\n",
    "    for statement in sql:\n",
    "        print(statement)\n",
    "        result = connection.execute(statement)    \n",
    "    gdfFromSQL =gpd.GeoDataFrame.from_postgis(\"select * from %s\" %(tableName),connection,geom_col='geom' )\n",
    "    return gdfFromSQL\n",
    "\n",
    "\n",
    "def PostGisToGdf(connection,tableName):\n",
    "    \"\"\"this function gets a geoDataFrame from a postGIS database instance\n",
    "    \n",
    "    \n",
    "    Args:\n",
    "        connection (sqlalchemy.engine.base.Connection) : postGIS enabled database connection \n",
    "        tableName (string) : table name\n",
    " \n",
    "    Returns:\n",
    "        gdf (geoPandas.GeoDataFrame) : the geodataframe from PostGIS\n",
    "        \n",
    "    todo:\n",
    "        allow for SQL filtering\n",
    "    \n",
    "    \n",
    "    \"\"\"   \n",
    "    gdf =gpd.GeoDataFrame.from_postgis(\"select * from %s\" %(tableName),connection,geom_col='geom' )\n",
    "    gdf.crs =  {'init' :'epsg:4326'}\n",
    "    return gdf\n",
    "\n",
    "def RowAddFeature(row):\n",
    "    \"\"\"Adds a column with ee features to a geodataframe row\n",
    "    \n",
    "    Args:\n",
    "        gdf row (geoDataFrame row) : the input row\n",
    "        \n",
    "    Returns:\n",
    "        gdf row (geoDataFrame row) : the input row with an added feature\n",
    "    \n",
    "    \"\"\"\n",
    "    geom = row[\"geom\"]\n",
    "    geomType = row[\"geom\"].geom_type\n",
    "    \n",
    "    if geomType == \"MultiPolygon\":\n",
    "        geometry = ee.Geometry.MultiPolygon(geom)\n",
    "    row[\"feature\"] = geomType\n",
    "    row[\"geometry\"]  = geometry\n",
    "    return row\n",
    "    \n",
    "    \n",
    "\n",
    "def gdfToFc(gdf):\n",
    "    \"\"\"converts a geodataframe  to a featurecollection\n",
    "    \n",
    "    Args:\n",
    "        gdf (geoPandas.GeoDataFrame) : the input geodataframe\n",
    "        \n",
    "    Returns:\n",
    "        fc (ee.FeatureCollection) : feature collection (server  side)  \n",
    "    \n",
    "    \n",
    "    \"\"\"\n",
    "    gdfCopy = gdf.copy()\n",
    "    gdfCopy[\"geomJSON\"]\n",
    "    \n",
    "    featureList = []\n",
    "    \n",
    "    \n",
    "    #geometry = ee.Geometry.Multipolygon([[-121.68, 39.91], [-97.38, 40.34]]);\n",
    "    #properties = {\"rutger\":42,\"freek\":26}\n",
    "    #feature = ee.Feature(geometry,properties)\n",
    "    \n",
    "    #featureList.append(feature)\n",
    "    \n",
    "    #fc = ee.FeatureCollection(featureList)\n",
    "    \n",
    "    return gdfCopy\n"
   ]
  },
  {
   "cell_type": "code",
   "execution_count": 12,
   "metadata": {},
   "outputs": [
    {
     "ename": "NameError",
     "evalue": "name 'gdf' is not defined",
     "output_type": "error",
     "traceback": [
      "\u001b[0;31m---------------------------------------------------\u001b[0m",
      "\u001b[0;31mNameError\u001b[0m         Traceback (most recent call last)",
      "\u001b[0;32m<ipython-input-12-4f5597ffff3c>\u001b[0m in \u001b[0;36m<module>\u001b[0;34m()\u001b[0m\n\u001b[0;32m----> 1\u001b[0;31m \u001b[0mgdf2\u001b[0m \u001b[0;34m=\u001b[0m \u001b[0mgdf\u001b[0m\u001b[0;34m.\u001b[0m\u001b[0mcopy\u001b[0m\u001b[0;34m(\u001b[0m\u001b[0;34m)\u001b[0m\u001b[0;34m\u001b[0m\u001b[0m\n\u001b[0m",
      "\u001b[0;31mNameError\u001b[0m: name 'gdf' is not defined"
     ]
    }
   ],
   "source": [
    "gdf2 = gdf.copy()"
   ]
  },
  {
   "cell_type": "code",
   "execution_count": null,
   "metadata": {},
   "outputs": [],
   "source": [
    "gdfCopy2 = gdfToFc(gdf)"
   ]
  },
  {
   "cell_type": "code",
   "execution_count": null,
   "metadata": {},
   "outputs": [],
   "source": [
    "gdfCopy2.head()"
   ]
  },
  {
   "cell_type": "code",
   "execution_count": null,
   "metadata": {},
   "outputs": [],
   "source": [
    "gdf.shape"
   ]
  },
  {
   "cell_type": "code",
   "execution_count": null,
   "metadata": {},
   "outputs": [],
   "source": [
    "gdfCopy2[\"JSON\"]  = gdfCopy2[\"geom\"].to_json()"
   ]
  },
  {
   "cell_type": "code",
   "execution_count": null,
   "metadata": {},
   "outputs": [],
   "source": [
    "gdfCopy2.head()"
   ]
  },
  {
   "cell_type": "raw",
   "metadata": {},
   "source": []
  },
  {
   "cell_type": "code",
   "execution_count": null,
   "metadata": {
    "collapsed": true
   },
   "outputs": [],
   "source": [
    "geom = row[\"JSON\"]"
   ]
  },
  {
   "cell_type": "code",
   "execution_count": null,
   "metadata": {},
   "outputs": [],
   "source": [
    "test = geojson.loads(geom)"
   ]
  },
  {
   "cell_type": "code",
   "execution_count": null,
   "metadata": {},
   "outputs": [],
   "source": [
    "print(len(test['features']))"
   ]
  },
  {
   "cell_type": "code",
   "execution_count": null,
   "metadata": {},
   "outputs": [],
   "source": [
    "type(test)"
   ]
  },
  {
   "cell_type": "code",
   "execution_count": null,
   "metadata": {},
   "outputs": [],
   "source": [
    "test2 = ee.Feature(test,{})"
   ]
  },
  {
   "cell_type": "code",
   "execution_count": null,
   "metadata": {},
   "outputs": [],
   "source": [
    "geomJSON = geom.to_JSON()"
   ]
  },
  {
   "cell_type": "code",
   "execution_count": null,
   "metadata": {},
   "outputs": [],
   "source": [
    "len(geom)"
   ]
  },
  {
   "cell_type": "code",
   "execution_count": null,
   "metadata": {},
   "outputs": [],
   "source": [
    "type(geom)"
   ]
  },
  {
   "cell_type": "code",
   "execution_count": null,
   "metadata": {},
   "outputs": [],
   "source": [
    "ee.Feature(geom,{\"rutger\":42})"
   ]
  },
  {
   "cell_type": "code",
   "execution_count": null,
   "metadata": {},
   "outputs": [],
   "source": []
  },
  {
   "cell_type": "code",
   "execution_count": null,
   "metadata": {},
   "outputs": [],
   "source": [
    "gdf2 = gdf.apply(RowAddFeature, axis=1)"
   ]
  },
  {
   "cell_type": "code",
   "execution_count": null,
   "metadata": {},
   "outputs": [],
   "source": [
    "gdf2.head()"
   ]
  },
  {
   "cell_type": "code",
   "execution_count": null,
   "metadata": {
    "collapsed": true
   },
   "outputs": [],
   "source": [
    "task = ee.batch.Export.table.toDrive(    \n",
    "    collection =  fcEu ,\n",
    "    description = \"description\" ,\n",
    "    fileNamePrefix = \"test01\",\n",
    "    fileFormat = \"KML\"\n",
    ")\n",
    "task.start()\n"
   ]
  },
  {
   "cell_type": "code",
   "execution_count": null,
   "metadata": {
    "collapsed": true
   },
   "outputs": [],
   "source": [
    "test = fcEu.getInfo()"
   ]
  },
  {
   "cell_type": "code",
   "execution_count": null,
   "metadata": {},
   "outputs": [],
   "source": [
    "test.keys()"
   ]
  },
  {
   "cell_type": "code",
   "execution_count": null,
   "metadata": {
    "collapsed": true
   },
   "outputs": [],
   "source": [
    "gdf = fcToGdf(fcEu)"
   ]
  },
  {
   "cell_type": "code",
   "execution_count": null,
   "metadata": {},
   "outputs": [],
   "source": [
    "gdfFromSQL = GdftoPostGIS(connection, gdf,\"test01\",True)"
   ]
  },
  {
   "cell_type": "code",
   "execution_count": null,
   "metadata": {},
   "outputs": [],
   "source": [
    "gdfFromSQL"
   ]
  },
  {
   "cell_type": "code",
   "execution_count": null,
   "metadata": {
    "collapsed": true
   },
   "outputs": [],
   "source": [
    "from sys import getsizeof"
   ]
  },
  {
   "cell_type": "code",
   "execution_count": null,
   "metadata": {
    "collapsed": true
   },
   "outputs": [],
   "source": [
    "features = test[\"features\"]"
   ]
  },
  {
   "cell_type": "code",
   "execution_count": null,
   "metadata": {},
   "outputs": [],
   "source": [
    "engine, connection = rdsConnect(DATABASE_IDENTIFIER,DATABASE_NAME)"
   ]
  },
  {
   "cell_type": "code",
   "execution_count": null,
   "metadata": {},
   "outputs": [],
   "source": [
    "type(engine)"
   ]
  },
  {
   "cell_type": "code",
   "execution_count": null,
   "metadata": {},
   "outputs": [],
   "source": [
    "type(connection)"
   ]
  },
  {
   "cell_type": "code",
   "execution_count": null,
   "metadata": {
    "collapsed": true
   },
   "outputs": [],
   "source": [
    "gdf = PostGisToGdf(connection,\"test01\")"
   ]
  },
  {
   "cell_type": "code",
   "execution_count": null,
   "metadata": {
    "collapsed": true
   },
   "outputs": [],
   "source": []
  },
  {
   "cell_type": "code",
   "execution_count": null,
   "metadata": {
    "collapsed": true
   },
   "outputs": [],
   "source": [
    "geoSeries = gpd.GeoSeries(geom2)\n",
    "geoSeries.crs = {'init' :'epsg:4326'}"
   ]
  },
  {
   "cell_type": "code",
   "execution_count": null,
   "metadata": {},
   "outputs": [],
   "source": [
    "geoSeries.plot()"
   ]
  },
  {
   "cell_type": "code",
   "execution_count": null,
   "metadata": {
    "collapsed": true
   },
   "outputs": [],
   "source": [
    "gdf = gpd.GeoDataFrame(geometry=geoSeries)"
   ]
  },
  {
   "cell_type": "code",
   "execution_count": null,
   "metadata": {
    "collapsed": true
   },
   "outputs": [],
   "source": [
    "world = gpd.read_file(gpd.datasets.get_path('naturalearth_lowres'))"
   ]
  },
  {
   "cell_type": "code",
   "execution_count": null,
   "metadata": {},
   "outputs": [],
   "source": [
    "world.head()"
   ]
  },
  {
   "cell_type": "code",
   "execution_count": null,
   "metadata": {
    "collapsed": true
   },
   "outputs": [],
   "source": [
    "geoSeriesJSON = geoSeries.to_json"
   ]
  },
  {
   "cell_type": "code",
   "execution_count": null,
   "metadata": {
    "collapsed": true
   },
   "outputs": [],
   "source": []
  },
  {
   "cell_type": "code",
   "execution_count": null,
   "metadata": {
    "collapsed": true
   },
   "outputs": [],
   "source": [
    "multiPolygon = folium.features.GeoJson(gdf)"
   ]
  },
  {
   "cell_type": "code",
   "execution_count": null,
   "metadata": {
    "collapsed": true
   },
   "outputs": [],
   "source": [
    "m = folium.Map([0, 0], zoom_start=3)\n"
   ]
  },
  {
   "cell_type": "code",
   "execution_count": null,
   "metadata": {},
   "outputs": [],
   "source": [
    "m.add_child(multiPolygon)"
   ]
  },
  {
   "cell_type": "code",
   "execution_count": null,
   "metadata": {
    "collapsed": true
   },
   "outputs": [],
   "source": [
    "m"
   ]
  },
  {
   "cell_type": "code",
   "execution_count": null,
   "metadata": {
    "collapsed": true
   },
   "outputs": [],
   "source": []
  }
 ],
 "metadata": {
  "kernelspec": {
   "display_name": "Python 27",
   "language": "python",
   "name": "python27"
  },
  "language_info": {
   "codemirror_mode": {
    "name": "ipython",
    "version": 2
   },
   "file_extension": ".py",
   "mimetype": "text/x-python",
   "name": "python",
   "nbconvert_exporter": "python",
   "pygments_lexer": "ipython2",
   "version": "2.7.14"
  }
 },
 "nbformat": 4,
 "nbformat_minor": 2
}
