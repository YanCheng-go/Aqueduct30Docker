{
 "cells": [
  {
   "cell_type": "code",
   "execution_count": 1,
   "metadata": {},
   "outputs": [
    {
     "name": "stdout",
     "output_type": "stream",
     "text": [
      "Input S3: s3://wri-projects/Aqueduct30/processData/Y2017M08D02_RH_Merge_HydroBasins_V02/output_V04 \n",
      "Output s3: s3://wri-projects/Aqueduct30/qaData/Y2018M06D05_RH_QA_Sample_Raster_Hydrobasins_V01/output_V01\n"
     ]
    }
   ],
   "source": [
    "\"\"\" Create rasterized zones at 30s and 5min resolution.  \n",
    "-------------------------------------------------------------------------------\n",
    "\n",
    "Author: Rutger Hofste\n",
    "Date: 20180605\n",
    "Kernel: python35\n",
    "Docker: rutgerhofste/gisdocker:ubuntu16.04\n",
    "\n",
    "Args:\n",
    "    TESTING (Boolean) : Toggle testing case.\n",
    "    SCRIPT_NAME (string) : Script name.\n",
    "    OUTPUT_VERSION (integer) : output version.\n",
    "\n",
    "\"\"\"\n",
    "\n",
    "SCRIPT_NAME = \"Y2018M06D05_RH_QA_Sample_Raster_Hydrobasins_V01\"\n",
    "OUTPUT_VERSION = 1\n",
    "OVERWRITE =1 \n",
    "\n",
    "# Nile Delta\n",
    "XMIN = 28\n",
    "YMIN = 27\n",
    "XMAX = 33\n",
    "YMAX = 32\n",
    "\n",
    "S3_INPUT_PATH =  \"s3://wri-projects/Aqueduct30/processData/Y2017M08D02_RH_Merge_HydroBasins_V02/output_V04\"\n",
    "\n",
    "ec2_input_path = \"/volumes/data/{}/input_V{:02.0f}\".format(SCRIPT_NAME,OUTPUT_VERSION)\n",
    "ec2_output_path = \"/volumes/data/{}/output_V{:02.0f}\".format(SCRIPT_NAME,OUTPUT_VERSION) \n",
    "s3_output_path = \"s3://wri-projects/Aqueduct30/qaData/{}/output_V{:02.0f}\".format(SCRIPT_NAME,OUTPUT_VERSION)\n",
    "\n",
    "print(\"Input S3: \" + S3_INPUT_PATH,\n",
    "      \"\\nOutput s3: \" + s3_output_path)"
   ]
  },
  {
   "cell_type": "code",
   "execution_count": 2,
   "metadata": {},
   "outputs": [
    {
     "name": "stdout",
     "output_type": "stream",
     "text": [
      "Y2018M06D05 UTC 11:16\n"
     ]
    },
    {
     "data": {
      "text/plain": [
       "'3.5.4 |Anaconda, Inc.| (default, Nov 20 2017, 18:44:38) \\n[GCC 7.2.0]'"
      ]
     },
     "execution_count": 2,
     "metadata": {},
     "output_type": "execute_result"
    }
   ],
   "source": [
    "import time, datetime, sys, logging\n",
    "dateString = time.strftime(\"Y%YM%mD%d\")\n",
    "timeString = time.strftime(\"UTC %H:%M\")\n",
    "start = datetime.datetime.now()\n",
    "print(dateString,timeString)\n",
    "sys.version"
   ]
  },
  {
   "cell_type": "code",
   "execution_count": 3,
   "metadata": {},
   "outputs": [],
   "source": [
    "if OVERWRITE:\n",
    "    !rm -r {ec2_input_path}\n",
    "    !rm -r {ec2_output_path}\n",
    "    !mkdir -p {ec2_input_path}\n",
    "    !mkdir -p {ec2_output_path}"
   ]
  },
  {
   "cell_type": "code",
   "execution_count": 4,
   "metadata": {},
   "outputs": [
    {
     "name": "stdout",
     "output_type": "stream",
     "text": [
      "download: s3://wri-projects/Aqueduct30/processData/Y2017M08D02_RH_Merge_HydroBasins_V02/output_V04/hybas_lev00_v1c_merged_fiona_V04.cpg to ../../../../data/Y2018M06D05_RH_QA_Sample_Raster_Hydrobasins_V01/input_V01/hybas_lev00_v1c_merged_fiona_V04.cpg\n",
      "download: s3://wri-projects/Aqueduct30/processData/Y2017M08D02_RH_Merge_HydroBasins_V02/output_V04/hybas_lev00_v1c_merged_fiona_V04.prj to ../../../../data/Y2018M06D05_RH_QA_Sample_Raster_Hydrobasins_V01/input_V01/hybas_lev00_v1c_merged_fiona_V04.prj\n",
      "download: s3://wri-projects/Aqueduct30/processData/Y2017M08D02_RH_Merge_HydroBasins_V02/output_V04/hybas_lev06_v1c_merged_fiona_5min_V04.tif to ../../../../data/Y2018M06D05_RH_QA_Sample_Raster_Hydrobasins_V01/input_V01/hybas_lev06_v1c_merged_fiona_5min_V04.tif\n",
      "download: s3://wri-projects/Aqueduct30/processData/Y2017M08D02_RH_Merge_HydroBasins_V02/output_V04/hybas_lev00_v1c_merged_fiona_5min_V04.tif to ../../../../data/Y2018M06D05_RH_QA_Sample_Raster_Hydrobasins_V01/input_V01/hybas_lev00_v1c_merged_fiona_5min_V04.tif\n",
      "download: s3://wri-projects/Aqueduct30/processData/Y2017M08D02_RH_Merge_HydroBasins_V02/output_V04/hybas_lev06_v1c_merged_fiona_V04.cpg to ../../../../data/Y2018M06D05_RH_QA_Sample_Raster_Hydrobasins_V01/input_V01/hybas_lev06_v1c_merged_fiona_V04.cpg\n",
      "download: s3://wri-projects/Aqueduct30/processData/Y2017M08D02_RH_Merge_HydroBasins_V02/output_V04/hybas_lev00_v1c_merged_fiona_V04.shx to ../../../../data/Y2018M06D05_RH_QA_Sample_Raster_Hydrobasins_V01/input_V01/hybas_lev00_v1c_merged_fiona_V04.shx\n",
      "download: s3://wri-projects/Aqueduct30/processData/Y2017M08D02_RH_Merge_HydroBasins_V02/output_V04/hybas_lev06_v1c_merged_fiona_V04.dbf to ../../../../data/Y2018M06D05_RH_QA_Sample_Raster_Hydrobasins_V01/input_V01/hybas_lev06_v1c_merged_fiona_V04.dbf\n",
      "download: s3://wri-projects/Aqueduct30/processData/Y2017M08D02_RH_Merge_HydroBasins_V02/output_V04/hybas_lev06_v1c_merged_fiona_30s_V04.tif to ../../../../data/Y2018M06D05_RH_QA_Sample_Raster_Hydrobasins_V01/input_V01/hybas_lev06_v1c_merged_fiona_30s_V04.tif\n",
      "download: s3://wri-projects/Aqueduct30/processData/Y2017M08D02_RH_Merge_HydroBasins_V02/output_V04/hybas_lev06_v1c_merged_fiona_V04.prj to ../../../../data/Y2018M06D05_RH_QA_Sample_Raster_Hydrobasins_V01/input_V01/hybas_lev06_v1c_merged_fiona_V04.prj\n",
      "download: s3://wri-projects/Aqueduct30/processData/Y2017M08D02_RH_Merge_HydroBasins_V02/output_V04/hybas_lev06_v1c_merged_fiona_V04.shx to ../../../../data/Y2018M06D05_RH_QA_Sample_Raster_Hydrobasins_V01/input_V01/hybas_lev06_v1c_merged_fiona_V04.shx\n",
      "download: s3://wri-projects/Aqueduct30/processData/Y2017M08D02_RH_Merge_HydroBasins_V02/output_V04/hybas_lev00_v1c_merged_fiona_30s_V04.tif to ../../../../data/Y2018M06D05_RH_QA_Sample_Raster_Hydrobasins_V01/input_V01/hybas_lev00_v1c_merged_fiona_30s_V04.tif\n",
      "download: s3://wri-projects/Aqueduct30/processData/Y2017M08D02_RH_Merge_HydroBasins_V02/output_V04/hybas_lev00_v1c_merged_fiona_V04.dbf to ../../../../data/Y2018M06D05_RH_QA_Sample_Raster_Hydrobasins_V01/input_V01/hybas_lev00_v1c_merged_fiona_V04.dbf\n",
      "download: s3://wri-projects/Aqueduct30/processData/Y2017M08D02_RH_Merge_HydroBasins_V02/output_V04/hybas_lev06_v1c_merged_fiona_V04.shp to ../../../../data/Y2018M06D05_RH_QA_Sample_Raster_Hydrobasins_V01/input_V01/hybas_lev06_v1c_merged_fiona_V04.shp\n",
      "download: s3://wri-projects/Aqueduct30/processData/Y2017M08D02_RH_Merge_HydroBasins_V02/output_V04/hybas_lev00_v1c_merged_fiona_V04.shp to ../../../../data/Y2018M06D05_RH_QA_Sample_Raster_Hydrobasins_V01/input_V01/hybas_lev00_v1c_merged_fiona_V04.shp\n"
     ]
    }
   ],
   "source": [
    "!aws s3 cp {S3_INPUT_PATH} {ec2_input_path} --recursive"
   ]
  },
  {
   "cell_type": "code",
   "execution_count": 5,
   "metadata": {
    "collapsed": true
   },
   "outputs": [],
   "source": [
    "import subprocess"
   ]
  },
  {
   "cell_type": "code",
   "execution_count": 6,
   "metadata": {
    "collapsed": true
   },
   "outputs": [],
   "source": [
    "file_names = [\"hybas_lev06_v1c_merged_fiona_30s_V04.tif\",\n",
    "              \"hybas_lev06_v1c_merged_fiona_5min_V04.tif\"]"
   ]
  },
  {
   "cell_type": "code",
   "execution_count": 7,
   "metadata": {
    "collapsed": true
   },
   "outputs": [],
   "source": [
    "# Uint will only work for level 6 but not with level 00"
   ]
  },
  {
   "cell_type": "code",
   "execution_count": null,
   "metadata": {
    "collapsed": true
   },
   "outputs": [],
   "source": []
  },
  {
   "cell_type": "code",
   "execution_count": 8,
   "metadata": {},
   "outputs": [
    {
     "name": "stdout",
     "output_type": "stream",
     "text": [
      "/opt/anaconda3/envs/python35/bin/gdalwarp -te 28 27 33 32 -ot Int32 /volumes/data/Y2018M06D05_RH_QA_Sample_Raster_Hydrobasins_V01/input_V01/hybas_lev06_v1c_merged_fiona_30s_V04.tif /volumes/data/Y2018M06D05_RH_QA_Sample_Raster_Hydrobasins_V01/output_V01/qa_hybas_lev06_v1c_merged_fiona_30s_V04.tif\n",
      "/opt/anaconda3/envs/python35/bin/gdalwarp -te 28 27 33 32 -ot Int32 /volumes/data/Y2018M06D05_RH_QA_Sample_Raster_Hydrobasins_V01/input_V01/hybas_lev06_v1c_merged_fiona_5min_V04.tif /volumes/data/Y2018M06D05_RH_QA_Sample_Raster_Hydrobasins_V01/output_V01/qa_hybas_lev06_v1c_merged_fiona_5min_V04.tif\n"
     ]
    }
   ],
   "source": [
    "for file_name in file_names:\n",
    "    command = \"/opt/anaconda3/envs/python35/bin/gdalwarp -te {} {} {} {} -ot Int32 {}/{} {}/{}\".format(XMIN,YMIN,XMAX,YMAX,ec2_input_path,file_name,ec2_output_path,\"qa_\" + file_name) \n",
    "    print(command)\n",
    "    result = subprocess.check_output(command,shell=True)"
   ]
  },
  {
   "cell_type": "code",
   "execution_count": 9,
   "metadata": {},
   "outputs": [
    {
     "name": "stdout",
     "output_type": "stream",
     "text": [
      "upload: ../../../../data/Y2018M06D05_RH_QA_Sample_Raster_Hydrobasins_V01/output_V01/qa_hybas_lev06_v1c_merged_fiona_5min_V04.tif to s3://wri-projects/Aqueduct30/qaData/Y2018M06D05_RH_QA_Sample_Raster_Hydrobasins_V01/output_V01/qa_hybas_lev06_v1c_merged_fiona_5min_V04.tif\n",
      "upload: ../../../../data/Y2018M06D05_RH_QA_Sample_Raster_Hydrobasins_V01/output_V01/qa_hybas_lev06_v1c_merged_fiona_30s_V04.tif to s3://wri-projects/Aqueduct30/qaData/Y2018M06D05_RH_QA_Sample_Raster_Hydrobasins_V01/output_V01/qa_hybas_lev06_v1c_merged_fiona_30s_V04.tif\n"
     ]
    }
   ],
   "source": [
    "!aws s3 cp {ec2_output_path} {s3_output_path} --recursive"
   ]
  },
  {
   "cell_type": "code",
   "execution_count": 10,
   "metadata": {},
   "outputs": [
    {
     "name": "stdout",
     "output_type": "stream",
     "text": [
      "0:01:24.514917\n"
     ]
    }
   ],
   "source": [
    "end = datetime.datetime.now()\n",
    "elapsed = end - start\n",
    "print(elapsed)"
   ]
  },
  {
   "cell_type": "markdown",
   "metadata": {},
   "source": [
    "Previous runs:  \n",
    "0:01:24.514917\n",
    "\n"
   ]
  },
  {
   "cell_type": "code",
   "execution_count": null,
   "metadata": {
    "collapsed": true
   },
   "outputs": [],
   "source": []
  }
 ],
 "metadata": {
  "kernelspec": {
   "display_name": "Python 35",
   "language": "python",
   "name": "python35"
  },
  "language_info": {
   "codemirror_mode": {
    "name": "ipython",
    "version": 3
   },
   "file_extension": ".py",
   "mimetype": "text/x-python",
   "name": "python",
   "nbconvert_exporter": "python",
   "pygments_lexer": "ipython3",
   "version": "3.5.4"
  }
 },
 "nbformat": 4,
 "nbformat_minor": 2
}
