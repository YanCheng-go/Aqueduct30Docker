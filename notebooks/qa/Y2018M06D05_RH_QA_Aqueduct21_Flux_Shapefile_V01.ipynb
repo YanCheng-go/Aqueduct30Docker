{
 "cells": [
  {
   "cell_type": "code",
   "execution_count": 1,
   "metadata": {},
   "outputs": [
    {
     "name": "stdout",
     "output_type": "stream",
     "text": [
      "Input : http://data.wri.org/Aqueduct/web/aqueduct_global_maps_21_shp.zip\n",
      "Output s3: s3://wri-projects/Aqueduct30/qaData/Y2018M06D05_RH_QA_Aqueduct21_Flux_Shapefile_V01/output_V01\n"
     ]
    }
   ],
   "source": [
    "\"\"\" Create Aqueduct 2.1 shapefile with fluxes. \n",
    "-------------------------------------------------------------------------------\n",
    "\n",
    "Author: Rutger Hofste\n",
    "Date: 20180605\n",
    "Kernel: python35\n",
    "Docker: rutgerhofste/gisdocker:ubuntu16.04\n",
    "\n",
    "Args:\n",
    "\n",
    "    TESTING (boolean) : Testing mode. Uses a smaller geography if enabled.\n",
    "    \n",
    "    SCRIPT_NAME (string) : Script name.\n",
    "    EE_INPUT_ZONES_PATH (string) : earthengine input path for zones.\n",
    "    EE_INPUT_VALUES_PATH (string) : earthengine input path for value images.\n",
    "    INPUT_VERSION_ZONES (integer) : input version for zones images.\n",
    "    INPUT_VERSION_VALUES (integer) : input version for value images.\n",
    "    OUTPUT_VERSION (integer) : output version. \n",
    "    EXTRA_PROPERTIES (dictionary) : Extra properties to store in the resulting\n",
    "        pandas dataframe. \n",
    "    \n",
    "\n",
    "Returns:\n",
    "\n",
    "\n",
    "\n",
    "\"\"\"\n",
    "\n",
    "SCRIPT_NAME = \"Y2018M06D05_RH_QA_Aqueduct21_Flux_Shapefile_V01\"\n",
    "OUTPUT_VERSION = 1\n",
    "OVERWRITE =1 \n",
    "\n",
    "AQUEDUCT21_URL = \"http://data.wri.org/Aqueduct/web/aqueduct_global_maps_21_shp.zip\"\n",
    "FILE_NAME = \"aqueduct21\"\n",
    "DETAILED_FILE_NAME = \"aqueduct_global_dl_20150409.shp\"\n",
    "\n",
    "\n",
    "ECKERT_IV_PROJ4_STRING = \"+proj=eck4 +lon_0=0 +x_0=0 +y_0=0 +datum=WGS84 +units=m +no_defs\"\n",
    "\n",
    "s3_output_path = \"s3://wri-projects/Aqueduct30/qaData/{}/output_V{:02.0f}\".format(SCRIPT_NAME,OUTPUT_VERSION)\n",
    "ec2_input_path = \"/volumes/data/{}/input_V{:02.0f}\".format(SCRIPT_NAME,OUTPUT_VERSION)\n",
    "ec2_output_path = \"/volumes/data/{}/output_V{:02.0f}\".format(SCRIPT_NAME,OUTPUT_VERSION) \n",
    "\n",
    "\n",
    "print(\"Input : \" + AQUEDUCT21_URL +\n",
    "      \"\\nOutput s3: \" + s3_output_path)"
   ]
  },
  {
   "cell_type": "code",
   "execution_count": 2,
   "metadata": {},
   "outputs": [
    {
     "name": "stdout",
     "output_type": "stream",
     "text": [
      "Y2018M06D05 UTC 15:00\n"
     ]
    },
    {
     "data": {
      "text/plain": [
       "'3.5.4 |Anaconda, Inc.| (default, Nov 20 2017, 18:44:38) \\n[GCC 7.2.0]'"
      ]
     },
     "execution_count": 2,
     "metadata": {},
     "output_type": "execute_result"
    }
   ],
   "source": [
    "import time, datetime, sys, logging\n",
    "dateString = time.strftime(\"Y%YM%mD%d\")\n",
    "timeString = time.strftime(\"UTC %H:%M\")\n",
    "start = datetime.datetime.now()\n",
    "print(dateString,timeString)\n",
    "sys.version"
   ]
  },
  {
   "cell_type": "code",
   "execution_count": 3,
   "metadata": {
    "collapsed": true
   },
   "outputs": [],
   "source": [
    "import subprocess\n",
    "import geopandas as gpd"
   ]
  },
  {
   "cell_type": "code",
   "execution_count": 4,
   "metadata": {},
   "outputs": [],
   "source": [
    "if OVERWRITE:\n",
    "    !rm -r {ec2_input_path}\n",
    "    !rm -r {ec2_output_path}\n",
    "    !mkdir -p {ec2_input_path}\n",
    "    !mkdir -p {ec2_output_path}"
   ]
  },
  {
   "cell_type": "code",
   "execution_count": 5,
   "metadata": {},
   "outputs": [
    {
     "data": {
      "text/plain": [
       "b''"
      ]
     },
     "execution_count": 5,
     "metadata": {},
     "output_type": "execute_result"
    }
   ],
   "source": [
    "command = \"wget -O {}/{}.zip {}\".format(ec2_input_path,FILE_NAME,AQUEDUCT21_URL)\n",
    "subprocess.check_output(command,shell=True)"
   ]
  },
  {
   "cell_type": "code",
   "execution_count": 6,
   "metadata": {},
   "outputs": [
    {
     "data": {
      "text/plain": [
       "b'Archive:  /volumes/data/Y2018M06D05_RH_QA_Aqueduct21_Flux_Shapefile_V01/input_V01/aqueduct21.zip\\n extracting: /volumes/data/Y2018M06D05_RH_QA_Aqueduct21_Flux_Shapefile_V01/input_V01/aqueduct_global_dl_20150409.cpg  \\n  inflating: /volumes/data/Y2018M06D05_RH_QA_Aqueduct21_Flux_Shapefile_V01/input_V01/aqueduct_global_dl_20150409.dbf  \\n  inflating: /volumes/data/Y2018M06D05_RH_QA_Aqueduct21_Flux_Shapefile_V01/input_V01/aqueduct_global_dl_20150409.prj  \\n  inflating: /volumes/data/Y2018M06D05_RH_QA_Aqueduct21_Flux_Shapefile_V01/input_V01/aqueduct_global_dl_20150409.shp  \\n  inflating: /volumes/data/Y2018M06D05_RH_QA_Aqueduct21_Flux_Shapefile_V01/input_V01/aqueduct_global_dl_20150409.shp.xml  \\n  inflating: /volumes/data/Y2018M06D05_RH_QA_Aqueduct21_Flux_Shapefile_V01/input_V01/aqueduct_global_dl_20150409.shx  \\n  inflating: /volumes/data/Y2018M06D05_RH_QA_Aqueduct21_Flux_Shapefile_V01/input_V01/aqueduct_global_maps_21.pdf  \\n  inflating: /volumes/data/Y2018M06D05_RH_QA_Aqueduct21_Flux_Shapefile_V01/input_V01/dictionary_20150409.xlsx  \\n'"
      ]
     },
     "execution_count": 6,
     "metadata": {},
     "output_type": "execute_result"
    }
   ],
   "source": [
    "command = \"unzip {}/{} -d {}\".format(ec2_input_path,FILE_NAME,ec2_input_path)\n",
    "subprocess.check_output(command,shell=True)"
   ]
  },
  {
   "cell_type": "code",
   "execution_count": 7,
   "metadata": {},
   "outputs": [],
   "source": [
    "input_file_path = \"{}/{}\".format(ec2_input_path,DETAILED_FILE_NAME)"
   ]
  },
  {
   "cell_type": "code",
   "execution_count": 8,
   "metadata": {},
   "outputs": [],
   "source": [
    "gdf = gpd.read_file(input_file_path)"
   ]
  },
  {
   "cell_type": "code",
   "execution_count": 9,
   "metadata": {},
   "outputs": [
    {
     "data": {
      "text/plain": [
       "{'init': 'epsg:4326'}"
      ]
     },
     "execution_count": 9,
     "metadata": {},
     "output_type": "execute_result"
    }
   ],
   "source": [
    "gdf.crs"
   ]
  },
  {
   "cell_type": "code",
   "execution_count": 10,
   "metadata": {},
   "outputs": [],
   "source": [
    "gdf_eckert4 = gdf.to_crs(ECKERT_IV_PROJ4_STRING)"
   ]
  },
  {
   "cell_type": "code",
   "execution_count": 11,
   "metadata": {
    "collapsed": true
   },
   "outputs": [],
   "source": [
    "gdf[\"area_m2\"] = gdf_eckert4.geometry.area"
   ]
  },
  {
   "cell_type": "code",
   "execution_count": 12,
   "metadata": {},
   "outputs": [],
   "source": [
    "gdf[\"WW_m\"] = gdf[\"WITHDRAWAL\"] / gdf[\"area_m2\"]"
   ]
  },
  {
   "cell_type": "code",
   "execution_count": 13,
   "metadata": {
    "collapsed": true
   },
   "outputs": [],
   "source": [
    "gdf[\"WN_m\"] = gdf[\"CONSUMPTIO\"] / gdf[\"area_m2\"]"
   ]
  },
  {
   "cell_type": "code",
   "execution_count": 14,
   "metadata": {
    "collapsed": true
   },
   "outputs": [],
   "source": [
    "gdf[\"BA_m\"] = gdf[\"BA\"] / gdf[\"area_m2\"]"
   ]
  },
  {
   "cell_type": "code",
   "execution_count": 15,
   "metadata": {
    "collapsed": true
   },
   "outputs": [],
   "source": [
    "gdf[\"BT_m\"] = gdf[\"BA\"] / gdf[\"area_m2\"]"
   ]
  },
  {
   "cell_type": "code",
   "execution_count": 16,
   "metadata": {
    "collapsed": true
   },
   "outputs": [],
   "source": [
    "output_file_path = \"{}/{}\".format(ec2_output_path,DETAILED_FILE_NAME)"
   ]
  },
  {
   "cell_type": "code",
   "execution_count": 17,
   "metadata": {},
   "outputs": [],
   "source": [
    "gdf.to_file(driver = 'ESRI Shapefile',filename=output_file_path)"
   ]
  },
  {
   "cell_type": "code",
   "execution_count": 21,
   "metadata": {},
   "outputs": [
    {
     "data": {
      "text/plain": [
       "'/volumes/data/Y2018M06D05_RH_QA_Aqueduct21_Flux_Shapefile_V01/output_V01/aqueduct_global_dl_20150409.shp'"
      ]
     },
     "execution_count": 21,
     "metadata": {},
     "output_type": "execute_result"
    }
   ],
   "source": [
    "output_file_path"
   ]
  },
  {
   "cell_type": "code",
   "execution_count": 22,
   "metadata": {},
   "outputs": [
    {
     "name": "stdout",
     "output_type": "stream",
     "text": [
      "upload: ../../../../data/Y2018M06D05_RH_QA_Aqueduct21_Flux_Shapefile_V01/output_V01/aqueduct_global_dl_20150409.cpg to s3://wri-projects/Aqueduct30/qaData/Y2018M06D05_RH_QA_Aqueduct21_Flux_Shapefile_V01/output_V01/aqueduct_global_dl_20150409.cpg\n",
      "upload: ../../../../data/Y2018M06D05_RH_QA_Aqueduct21_Flux_Shapefile_V01/output_V01/aqueduct_global_dl_20150409.prj to s3://wri-projects/Aqueduct30/qaData/Y2018M06D05_RH_QA_Aqueduct21_Flux_Shapefile_V01/output_V01/aqueduct_global_dl_20150409.prj\n",
      "upload: ../../../../data/Y2018M06D05_RH_QA_Aqueduct21_Flux_Shapefile_V01/output_V01/aqueduct_global_dl_20150409.shx to s3://wri-projects/Aqueduct30/qaData/Y2018M06D05_RH_QA_Aqueduct21_Flux_Shapefile_V01/output_V01/aqueduct_global_dl_20150409.shx\n",
      "upload: ../../../../data/Y2018M06D05_RH_QA_Aqueduct21_Flux_Shapefile_V01/output_V01/aqueduct_global_dl_20150409.dbf to s3://wri-projects/Aqueduct30/qaData/Y2018M06D05_RH_QA_Aqueduct21_Flux_Shapefile_V01/output_V01/aqueduct_global_dl_20150409.dbf\n",
      "upload: ../../../../data/Y2018M06D05_RH_QA_Aqueduct21_Flux_Shapefile_V01/output_V01/aqueduct_global_dl_20150409.shp to s3://wri-projects/Aqueduct30/qaData/Y2018M06D05_RH_QA_Aqueduct21_Flux_Shapefile_V01/output_V01/aqueduct_global_dl_20150409.shp\n"
     ]
    }
   ],
   "source": [
    "!aws s3 cp {ec2_output_path} {s3_output_path} --recursive"
   ]
  },
  {
   "cell_type": "code",
   "execution_count": 19,
   "metadata": {},
   "outputs": [
    {
     "name": "stdout",
     "output_type": "stream",
     "text": [
      "0:01:28.480824\n"
     ]
    }
   ],
   "source": [
    "end = datetime.datetime.now()\n",
    "elapsed = end - start\n",
    "print(elapsed)"
   ]
  },
  {
   "cell_type": "markdown",
   "metadata": {},
   "source": [
    "Previous runs:  \n",
    "0:01:28.480824"
   ]
  }
 ],
 "metadata": {
  "kernelspec": {
   "display_name": "Python 35",
   "language": "python",
   "name": "python35"
  },
  "language_info": {
   "codemirror_mode": {
    "name": "ipython",
    "version": 3
   },
   "file_extension": ".py",
   "mimetype": "text/x-python",
   "name": "python",
   "nbconvert_exporter": "python",
   "pygments_lexer": "ipython3",
   "version": "3.5.4"
  }
 },
 "nbformat": 4,
 "nbformat_minor": 2
}
