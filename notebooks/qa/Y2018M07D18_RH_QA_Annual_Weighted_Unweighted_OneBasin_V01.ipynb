{
 "cells": [
  {
   "cell_type": "code",
   "execution_count": 1,
   "metadata": {
    "collapsed": true
   },
   "outputs": [],
   "source": [
    "\"\"\" Compare weighted and unweighted annual results for one basin.\n",
    "-------------------------------------------------------------------------------\n",
    "\n",
    "Author: Rutger Hofste\n",
    "Date: 20180718\n",
    "Kernel: python35\n",
    "Docker: rutgerhofste/gisdocker:ubuntu16.04\n",
    "\n",
    "\"\"\"\n",
    "\n",
    "TESTING = 1\n",
    "OVERWRITE_OUTPUT = 1\n",
    "SCRIPT_NAME = 'Y2018M07D18_RH_QA_Annual_Weighted_Unweighted_OneBasin_V01'\n",
    "OUTPUT_VERSION = 1\n",
    "\n",
    "DATABASE_ENDPOINT = \"aqueduct30v05.cgpnumwmfcqc.eu-central-1.rds.amazonaws.com\"\n",
    "DATABASE_NAME = \"database01\"\n",
    "\n",
    "PROJECT_ID = \"aqueduct30\"\n",
    "INPUT_TABLE_NAME = \"Y2018M07D17_RH_RDS_To_S3_V01\"\n",
    "INPUT_DATASET_NAME = \"aqueduct30v01\"\n",
    "\n",
    "\n",
    "SUBBASIN_OF_INTEREST =  431700 #172111 233036 261492 431700\n",
    "\n",
    "COLUMNS_OF_INTEREST = [\"pfafid_30spfaf06\",\n",
    "                       \"temporal_resolution\",\n",
    "                       \"year\",\n",
    "                       \"month\",\n",
    "                       \"waterstress_label_dimensionless_30spfaf06\",\n",
    "                       \"waterstress_category_dimensionless_30spfaf06\",\n",
    "                       \"waterstress_score_dimensionless_30spfaf06\",\n",
    "                       \"waterstress_raw_dimensionless_30spfaf06\",\n",
    "                       \"avg1y_ols_ols10_weighted_waterstress_dimensionless_30spfaf06\",\n",
    "                       \"avg1y_ols_ols10_waterstress_dimensionless_30spfaf06\",\n",
    "                       \"ols_ols10_waterstress_dimensionless_30spfaf06\",\n",
    "                       \"ols_ols10_ptotww_m_30spfaf06\"]\n"
   ]
  },
  {
   "cell_type": "code",
   "execution_count": 2,
   "metadata": {},
   "outputs": [
    {
     "name": "stdout",
     "output_type": "stream",
     "text": [
      "Y2018M07D18 UTC 09:34\n"
     ]
    },
    {
     "data": {
      "text/plain": [
       "'3.5.4 |Anaconda, Inc.| (default, Nov 20 2017, 18:44:38) \\n[GCC 7.2.0]'"
      ]
     },
     "execution_count": 2,
     "metadata": {},
     "output_type": "execute_result"
    }
   ],
   "source": [
    "import time, datetime, sys\n",
    "dateString = time.strftime(\"Y%YM%mD%d\")\n",
    "timeString = time.strftime(\"UTC %H:%M\")\n",
    "start = datetime.datetime.now()\n",
    "print(dateString,timeString)\n",
    "sys.version"
   ]
  },
  {
   "cell_type": "code",
   "execution_count": 3,
   "metadata": {
    "collapsed": true
   },
   "outputs": [],
   "source": [
    "import os\n",
    "import pandas as pd\n",
    "\n",
    "os.environ[\"GOOGLE_APPLICATION_CREDENTIALS\"] = \"/.google.json\""
   ]
  },
  {
   "cell_type": "code",
   "execution_count": 4,
   "metadata": {
    "collapsed": true
   },
   "outputs": [],
   "source": [
    "sql = \"SELECT\"\n",
    "for column_of_interest in COLUMNS_OF_INTEREST:\n",
    "    sql += \" {},\".format(column_of_interest)\n",
    "sql = sql[:-1]\n",
    "sql += \" FROM {}.{}\".format(INPUT_DATASET_NAME,INPUT_TABLE_NAME)\n",
    "sql += \" WHERE year = 2014\"\n",
    "sql += \" AND pfafid_30spfaf06 = {}\".format(SUBBASIN_OF_INTEREST)\n",
    "sql += \" ORDER BY month\""
   ]
  },
  {
   "cell_type": "code",
   "execution_count": 5,
   "metadata": {},
   "outputs": [
    {
     "name": "stdout",
     "output_type": "stream",
     "text": [
      "SELECT pfafid_30spfaf06, temporal_resolution, year, month, waterstress_label_dimensionless_30spfaf06, waterstress_category_dimensionless_30spfaf06, waterstress_score_dimensionless_30spfaf06, waterstress_raw_dimensionless_30spfaf06, avg1y_ols_ols10_weighted_waterstress_dimensionless_30spfaf06, avg1y_ols_ols10_waterstress_dimensionless_30spfaf06, ols_ols10_waterstress_dimensionless_30spfaf06, ols_ols10_ptotww_m_30spfaf06 FROM aqueduct30v01.Y2018M07D17_RH_RDS_To_S3_V01 WHERE year = 2014 AND pfafid_30spfaf06 = 431700 ORDER BY month\n"
     ]
    }
   ],
   "source": [
    "print(sql)"
   ]
  },
  {
   "cell_type": "code",
   "execution_count": 6,
   "metadata": {},
   "outputs": [],
   "source": [
    "df = pd.read_gbq(query=sql,\n",
    "                 project_id=PROJECT_ID,\n",
    "                 dialect=\"standard\")"
   ]
  },
  {
   "cell_type": "code",
   "execution_count": 7,
   "metadata": {},
   "outputs": [
    {
     "data": {
      "text/plain": [
       "(13, 12)"
      ]
     },
     "execution_count": 7,
     "metadata": {},
     "output_type": "execute_result"
    }
   ],
   "source": [
    "df.shape"
   ]
  },
  {
   "cell_type": "code",
   "execution_count": 8,
   "metadata": {},
   "outputs": [
    {
     "data": {
      "text/html": [
       "<div>\n",
       "<style scoped>\n",
       "    .dataframe tbody tr th:only-of-type {\n",
       "        vertical-align: middle;\n",
       "    }\n",
       "\n",
       "    .dataframe tbody tr th {\n",
       "        vertical-align: top;\n",
       "    }\n",
       "\n",
       "    .dataframe thead th {\n",
       "        text-align: right;\n",
       "    }\n",
       "</style>\n",
       "<table border=\"1\" class=\"dataframe\">\n",
       "  <thead>\n",
       "    <tr style=\"text-align: right;\">\n",
       "      <th></th>\n",
       "      <th>pfafid_30spfaf06</th>\n",
       "      <th>temporal_resolution</th>\n",
       "      <th>year</th>\n",
       "      <th>month</th>\n",
       "      <th>waterstress_label_dimensionless_30spfaf06</th>\n",
       "      <th>waterstress_category_dimensionless_30spfaf06</th>\n",
       "      <th>waterstress_score_dimensionless_30spfaf06</th>\n",
       "      <th>waterstress_raw_dimensionless_30spfaf06</th>\n",
       "      <th>avg1y_ols_ols10_weighted_waterstress_dimensionless_30spfaf06</th>\n",
       "      <th>avg1y_ols_ols10_waterstress_dimensionless_30spfaf06</th>\n",
       "      <th>ols_ols10_waterstress_dimensionless_30spfaf06</th>\n",
       "      <th>ols_ols10_ptotww_m_30spfaf06</th>\n",
       "    </tr>\n",
       "  </thead>\n",
       "  <tbody>\n",
       "    <tr>\n",
       "      <th>0</th>\n",
       "      <td>431700</td>\n",
       "      <td>month</td>\n",
       "      <td>2014</td>\n",
       "      <td>1</td>\n",
       "      <td>High</td>\n",
       "      <td>3.0</td>\n",
       "      <td>3.527114</td>\n",
       "      <td>0.576417</td>\n",
       "      <td>-0.69267</td>\n",
       "      <td>-0.176987</td>\n",
       "      <td>0.576417</td>\n",
       "      <td>0.010177</td>\n",
       "    </tr>\n",
       "    <tr>\n",
       "      <th>1</th>\n",
       "      <td>431700</td>\n",
       "      <td>month</td>\n",
       "      <td>2014</td>\n",
       "      <td>2</td>\n",
       "      <td>Extremely High</td>\n",
       "      <td>4.0</td>\n",
       "      <td>5.000000</td>\n",
       "      <td>1.632456</td>\n",
       "      <td>-0.69267</td>\n",
       "      <td>-0.176987</td>\n",
       "      <td>1.632456</td>\n",
       "      <td>0.014456</td>\n",
       "    </tr>\n",
       "    <tr>\n",
       "      <th>2</th>\n",
       "      <td>431700</td>\n",
       "      <td>month</td>\n",
       "      <td>2014</td>\n",
       "      <td>3</td>\n",
       "      <td>Extremely High</td>\n",
       "      <td>4.0</td>\n",
       "      <td>5.000000</td>\n",
       "      <td>2.061124</td>\n",
       "      <td>-0.69267</td>\n",
       "      <td>-0.176987</td>\n",
       "      <td>2.061124</td>\n",
       "      <td>0.023768</td>\n",
       "    </tr>\n",
       "    <tr>\n",
       "      <th>3</th>\n",
       "      <td>431700</td>\n",
       "      <td>month</td>\n",
       "      <td>2014</td>\n",
       "      <td>4</td>\n",
       "      <td>Extremely High</td>\n",
       "      <td>4.0</td>\n",
       "      <td>4.913545</td>\n",
       "      <td>1.506934</td>\n",
       "      <td>-0.69267</td>\n",
       "      <td>-0.176987</td>\n",
       "      <td>1.506934</td>\n",
       "      <td>0.014845</td>\n",
       "    </tr>\n",
       "    <tr>\n",
       "      <th>4</th>\n",
       "      <td>431700</td>\n",
       "      <td>month</td>\n",
       "      <td>2014</td>\n",
       "      <td>5</td>\n",
       "      <td>Extremely High</td>\n",
       "      <td>4.0</td>\n",
       "      <td>4.783169</td>\n",
       "      <td>1.376726</td>\n",
       "      <td>-0.69267</td>\n",
       "      <td>-0.176987</td>\n",
       "      <td>1.376726</td>\n",
       "      <td>0.029877</td>\n",
       "    </tr>\n",
       "  </tbody>\n",
       "</table>\n",
       "</div>"
      ],
      "text/plain": [
       "   pfafid_30spfaf06 temporal_resolution  year  month  \\\n",
       "0            431700               month  2014      1   \n",
       "1            431700               month  2014      2   \n",
       "2            431700               month  2014      3   \n",
       "3            431700               month  2014      4   \n",
       "4            431700               month  2014      5   \n",
       "\n",
       "  waterstress_label_dimensionless_30spfaf06  \\\n",
       "0                                      High   \n",
       "1                            Extremely High   \n",
       "2                            Extremely High   \n",
       "3                            Extremely High   \n",
       "4                            Extremely High   \n",
       "\n",
       "   waterstress_category_dimensionless_30spfaf06  \\\n",
       "0                                           3.0   \n",
       "1                                           4.0   \n",
       "2                                           4.0   \n",
       "3                                           4.0   \n",
       "4                                           4.0   \n",
       "\n",
       "   waterstress_score_dimensionless_30spfaf06  \\\n",
       "0                                   3.527114   \n",
       "1                                   5.000000   \n",
       "2                                   5.000000   \n",
       "3                                   4.913545   \n",
       "4                                   4.783169   \n",
       "\n",
       "   waterstress_raw_dimensionless_30spfaf06  \\\n",
       "0                                 0.576417   \n",
       "1                                 1.632456   \n",
       "2                                 2.061124   \n",
       "3                                 1.506934   \n",
       "4                                 1.376726   \n",
       "\n",
       "   avg1y_ols_ols10_weighted_waterstress_dimensionless_30spfaf06  \\\n",
       "0                                           -0.69267              \n",
       "1                                           -0.69267              \n",
       "2                                           -0.69267              \n",
       "3                                           -0.69267              \n",
       "4                                           -0.69267              \n",
       "\n",
       "   avg1y_ols_ols10_waterstress_dimensionless_30spfaf06  \\\n",
       "0                                          -0.176987     \n",
       "1                                          -0.176987     \n",
       "2                                          -0.176987     \n",
       "3                                          -0.176987     \n",
       "4                                          -0.176987     \n",
       "\n",
       "   ols_ols10_waterstress_dimensionless_30spfaf06  ols_ols10_ptotww_m_30spfaf06  \n",
       "0                                       0.576417                      0.010177  \n",
       "1                                       1.632456                      0.014456  \n",
       "2                                       2.061124                      0.023768  \n",
       "3                                       1.506934                      0.014845  \n",
       "4                                       1.376726                      0.029877  "
      ]
     },
     "execution_count": 8,
     "metadata": {},
     "output_type": "execute_result"
    }
   ],
   "source": [
    "df.head()"
   ]
  },
  {
   "cell_type": "markdown",
   "metadata": {},
   "source": [
    "Weighted water stress calculated by multiplying the monthly water stress score with the total withdrawal. "
   ]
  },
  {
   "cell_type": "code",
   "execution_count": 9,
   "metadata": {
    "collapsed": true
   },
   "outputs": [],
   "source": [
    "df[\"ws_times_ptotww\"] = df[\"waterstress_raw_dimensionless_30spfaf06\"] * df[\"ols_ols10_ptotww_m_30spfaf06\"]"
   ]
  },
  {
   "cell_type": "code",
   "execution_count": 10,
   "metadata": {
    "collapsed": true
   },
   "outputs": [],
   "source": [
    "total_value = df[\"ws_times_ptotww\"].sum()"
   ]
  },
  {
   "cell_type": "code",
   "execution_count": 11,
   "metadata": {},
   "outputs": [],
   "source": [
    "total_weight = df[\"ols_ols10_ptotww_m_30spfaf06\"].sum()"
   ]
  },
  {
   "cell_type": "code",
   "execution_count": 12,
   "metadata": {},
   "outputs": [],
   "source": [
    "weighted_value_pandas = total_value/total_weight"
   ]
  },
  {
   "cell_type": "code",
   "execution_count": 13,
   "metadata": {
    "collapsed": true
   },
   "outputs": [],
   "source": [
    "weighted_value_postgis = df.loc[df[\"temporal_resolution\"] == \"year\"][\"avg1y_ols_ols10_weighted_waterstress_dimensionless_30spfaf06\"]"
   ]
  },
  {
   "cell_type": "code",
   "execution_count": 14,
   "metadata": {},
   "outputs": [
    {
     "name": "stdout",
     "output_type": "stream",
     "text": [
      "-0.692670032346 12   -0.69267\n",
      "Name: avg1y_ols_ols10_weighted_waterstress_dimensionless_30spfaf06, dtype: float64\n"
     ]
    }
   ],
   "source": [
    "print(weighted_value_pandas, weighted_value_postgis)"
   ]
  },
  {
   "cell_type": "code",
   "execution_count": 15,
   "metadata": {},
   "outputs": [
    {
     "name": "stdout",
     "output_type": "stream",
     "text": [
      "0:00:03.852083\n"
     ]
    }
   ],
   "source": [
    "end = datetime.datetime.now()\n",
    "elapsed = end - start\n",
    "print(elapsed)"
   ]
  },
  {
   "cell_type": "code",
   "execution_count": null,
   "metadata": {
    "collapsed": true
   },
   "outputs": [],
   "source": []
  }
 ],
 "metadata": {
  "kernelspec": {
   "display_name": "Python 35",
   "language": "python",
   "name": "python35"
  },
  "language_info": {
   "codemirror_mode": {
    "name": "ipython",
    "version": 3
   },
   "file_extension": ".py",
   "mimetype": "text/x-python",
   "name": "python",
   "nbconvert_exporter": "python",
   "pygments_lexer": "ipython3",
   "version": "3.5.4"
  }
 },
 "nbformat": 4,
 "nbformat_minor": 2
}
