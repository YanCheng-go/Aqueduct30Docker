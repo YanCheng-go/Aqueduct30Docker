{
 "cells": [
  {
   "cell_type": "markdown",
   "metadata": {},
   "source": [
    "# QA Steps for Aqueduct \n",
    "\n",
    "1. **Y2018M06D07_RH_QA_Create_Users_PostGIS_V01**  \n",
    "    Create users and manage permissions in database.\n",
    "\n",
    "\n",
    "1. **Y2018M06D05_RH_QA_Sample_Raster_Hydrobasins_V01**  \n",
    "    Create rasterized zones at 30s and 5min resolution.\n",
    "1. **Y2018M05D02_RH_Convert_Area_Raster_EE_GCS_S3_V01**  \n",
    "    Area rasters were created in ee, storing in gcs.\n",
    "1. **Y2018M06D04_RH_QA_download_sample_geotiffs_5min_V01**  \n",
    "    Store sample demand and riverdischarge geotiffs in S3 folder. \n",
    "1. **Y2018M06D04_RH_QA_Download_sample_dataframes_riverdischarge_V01**  \n",
    "    Download pickled dataframes and convert to csv of combined riverdischarge. \n",
    "1. **Y2018M06D05_Rh_QA_Zonal_Stats_Demand_EE_V01**  \n",
    "    Check output of zonal stats demand. Convert to CSV.\n",
    "1. **Y2018M05D15_RH_QA_Sum_Sinks_5min_EE_V01**  \n",
    "    Download pickled dataframes and convert to csv of sum sinks. \n",
    "1. **Y2018M06D04_RH_QA_ptot_riverdischarge_PostGIS_V01**  \n",
    "    Create a table with sample data from the ptot and riverdischarge results.\n",
    "1. **Y2018M06D05_RH_QA_Total_Demand_PostGIS_30sPfaf06_V01**  \n",
    "    For a specific sub basin, query a 10y series for demand and supply to check input for ma10.\n",
    "1. **Y2018M06D04_RH_QA_ma10_results_PostGIS_V02**  \n",
    "    Create a table with sample data from the ma 10 results.\n",
    "\n",
    "\n",
    "## Comparing AQ2.1\n",
    "    \n",
    "1. **Y2018M06D05_RH_QA_Aqueduct21_Flux_Shapefile_V01**  \n",
    "    Create Aqueduct 2.1 shapefile with fluxes. \n",
    "1. **Y2018M06D08_RH_QA_Aqueduct21_Demand_Ingest_EE_V01**\n",
    "    Convert Aqueduct 2.1 demand to geotiff. \n",
    "    \n",
    "   \n",
    "    \n",
    "    \n",
    "\n",
    "   "
   ]
  },
  {
   "cell_type": "code",
   "execution_count": null,
   "metadata": {
    "collapsed": true
   },
   "outputs": [],
   "source": []
  }
 ],
 "metadata": {
  "kernelspec": {
   "display_name": "Python 35",
   "language": "python",
   "name": "python35"
  },
  "language_info": {
   "codemirror_mode": {
    "name": "ipython",
    "version": 3
   },
   "file_extension": ".py",
   "mimetype": "text/x-python",
   "name": "python",
   "nbconvert_exporter": "python",
   "pygments_lexer": "ipython3",
   "version": "3.5.4"
  }
 },
 "nbformat": 4,
 "nbformat_minor": 2
}
