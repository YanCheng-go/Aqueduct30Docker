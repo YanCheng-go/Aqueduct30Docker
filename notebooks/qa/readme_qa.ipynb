{
 "cells": [
  {
   "cell_type": "markdown",
   "metadata": {},
   "source": [
    "# QA Steps for Aqueduct \n",
    "\n",
    "\n",
    "1. **Y2018M06D04_RH_QA_download_sample_geotiffs_5min_V01**  \n",
    "    Store sample demand and riverdischarge geotiffs in S3 folder. \n",
    "1. **Y2018M06D04_RH_QA_Download_sample_dataframes_riverdischarge_V01**  \n",
    "    Download pickled dataframes and convert to csv of combined riverdischarge. \n",
    "1. **Y2018M05D15_RH_QA_Sum_Sinks_5min_EE_V01**  \n",
    "    Download pickled dataframes and convert to csv of sum sinks. \n",
    "1. **Y2018M06D04_RH_QA_ptot_riverdischarge_PostGIS_V01**  \n",
    "    Create a table with sample data from the ptot and riverdischarge results.\n",
    "1. **Y2018M06D04_RH_QA_ma10_results_PostGIS_V01**  \n",
    "    Create a table with sample data from the ma 10 results.\n",
    "   \n"
   ]
  }
 ],
 "metadata": {
  "kernelspec": {
   "display_name": "Python 35",
   "language": "python",
   "name": "python35"
  },
  "language_info": {
   "codemirror_mode": {
    "name": "ipython",
    "version": 3
   },
   "file_extension": ".py",
   "mimetype": "text/x-python",
   "name": "python",
   "nbconvert_exporter": "python",
   "pygments_lexer": "ipython3",
   "version": "3.5.4"
  }
 },
 "nbformat": 4,
 "nbformat_minor": 2
}
