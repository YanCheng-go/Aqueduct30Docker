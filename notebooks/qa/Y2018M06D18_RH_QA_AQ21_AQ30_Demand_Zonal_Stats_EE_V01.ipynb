{
 "cells": [
  {
   "cell_type": "code",
   "execution_count": 1,
   "metadata": {},
   "outputs": [
    {
     "name": "stdout",
     "output_type": "stream",
     "text": [
      "\\Input_path_zones_aq21: projects/WRI-Aquaduct/Y2018M06D11_RH_QA_Ingest_Aq21_Flux_Shapefile_V01/output_V03/aqueduct21_flux\\Input_path_zones_aq21Projection: projects/WRI-Aquaduct/Y2018M06D19_RH_QA_Ingest_Aq21projection_Shapefile_V01/output_V01/aqueduct21projection_flux\n",
      "Input_path_zones_aq30: projects/WRI-Aquaduct/Y2018M04D20_RH_Ingest_HydroBasins_GCS_EE_V01/output_V02/hybas_lev06_v1c_merged_fiona_V04\n",
      "Input_path_values_aq21: projects/WRI-Aquaduct/Y2018M06D08_RH_QA_Aqueduct21_Demand_Ingest_GCS_EE_V01/output_V02/\n",
      "Output_path_gcs: aqueduct30_v01\n"
     ]
    }
   ],
   "source": [
    "\"\"\" Zonal statistics with Aq21 basins as zones and AQ 2.1 and AQ 3.0 as values. \n",
    "-------------------------------------------------------------------------------\n",
    "Zonal statistics for QA with the goal of comparing \n",
    "\n",
    "\n",
    "Author: Rutger Hofste\n",
    "Date: 20180618\n",
    "Kernel: python35\n",
    "Docker: rutgerhofste/gisdocker:ubuntu16.04\n",
    "\n",
    "Args:\n",
    "\n",
    "\n",
    "\"\"\"\n",
    "\n",
    "TESTING = 0\n",
    "OVERWRITE_INPUT = 1\n",
    "OVERWRITE_OUTPUT = 1\n",
    "SCRIPT_NAME = \"Y2018M06D18_RH_QA_AQ21_AQ30_Demand_Zonal_Stats_EE_V01\"\n",
    "OUTPUT_VERSION = 3\n",
    "\n",
    "INPUT_PATH_ZONES_AQ21 = \"projects/WRI-Aquaduct/Y2018M06D11_RH_QA_Ingest_Aq21_Flux_Shapefile_V01/output_V03/aqueduct21_flux\"\n",
    "INPUT_PATH_ZONES_AQ21PROJ = \"projects/WRI-Aquaduct/Y2018M06D19_RH_QA_Ingest_Aq21projection_Shapefile_V01/output_V01/aqueduct21projection_flux\"\n",
    "INPUT_PATH_ZONES_AQ30 = \"projects/WRI-Aquaduct/Y2018M04D20_RH_Ingest_HydroBasins_GCS_EE_V01/output_V02/hybas_lev06_v1c_merged_fiona_V04\"\n",
    "INPUT_PATH_VALUES_AQ21 = \"projects/WRI-Aquaduct/Y2018M06D08_RH_QA_Aqueduct21_Demand_Ingest_GCS_EE_V01/output_V02/\"\n",
    "\n",
    "BUCKET = \"aqueduct30_v01\"\n",
    "\n",
    "# Original Aqueduct 2.1 geodatabase crsTransform\n",
    "CRS_TRANSFORM_AQ21 = [\n",
    "    0.00833333333333333,\n",
    "    0,\n",
    "    -179.93746666666664,\n",
    "    0,\n",
    "    -0.00833333333333333,\n",
    "    74.99583666666666\n",
    "  ]\n",
    "\n",
    "print(\"\\Input_path_zones_aq21: \" + INPUT_PATH_ZONES_AQ21 +\n",
    "      \"\\Input_path_zones_aq21Projection: \" + INPUT_PATH_ZONES_AQ21PROJ +\n",
    "      \"\\nInput_path_zones_aq30: \" + INPUT_PATH_ZONES_AQ30 +\n",
    "      \"\\nInput_path_values_aq21: \" + INPUT_PATH_VALUES_AQ21 + \n",
    "      \"\\nOutput_path_gcs: \" + BUCKET)\n",
    "\n",
    "\n"
   ]
  },
  {
   "cell_type": "code",
   "execution_count": 2,
   "metadata": {},
   "outputs": [
    {
     "name": "stdout",
     "output_type": "stream",
     "text": [
      "Y2018M06D19 UTC 13:39\n"
     ]
    },
    {
     "data": {
      "text/plain": [
       "'3.5.4 |Anaconda, Inc.| (default, Nov 20 2017, 18:44:38) \\n[GCC 7.2.0]'"
      ]
     },
     "execution_count": 2,
     "metadata": {},
     "output_type": "execute_result"
    }
   ],
   "source": [
    "import time, datetime, sys, logging\n",
    "dateString = time.strftime(\"Y%YM%mD%d\")\n",
    "timeString = time.strftime(\"UTC %H:%M\")\n",
    "start = datetime.datetime.now()\n",
    "print(dateString,timeString)\n",
    "sys.version"
   ]
  },
  {
   "cell_type": "code",
   "execution_count": 3,
   "metadata": {
    "collapsed": true
   },
   "outputs": [],
   "source": [
    "import ee\n",
    "ee.Initialize()"
   ]
  },
  {
   "cell_type": "code",
   "execution_count": 4,
   "metadata": {
    "collapsed": true
   },
   "outputs": [],
   "source": [
    "def simplify_fc(f_in):\n",
    "    \"\"\" Gets rid of unnecessary data before export\n",
    "    \n",
    "    Args:\n",
    "        f_in (ee.Feature) : feature in. \n",
    "    \n",
    "    \"\"\"\n",
    "    \n",
    "    f_out = ee.Feature(None,{})    \n",
    "    f_out = f_out.copyProperties(source=f_in,\n",
    "                                  exclude=[])\n",
    "    return ee.Feature(f_out)\n",
    "    \n",
    "    "
   ]
  },
  {
   "cell_type": "code",
   "execution_count": 5,
   "metadata": {
    "collapsed": true
   },
   "outputs": [],
   "source": [
    "fc_aq21_zones = ee.FeatureCollection(INPUT_PATH_ZONES_AQ21)"
   ]
  },
  {
   "cell_type": "code",
   "execution_count": 6,
   "metadata": {
    "collapsed": true
   },
   "outputs": [],
   "source": [
    "fc_aq21proj_zones = ee.FeatureCollection(INPUT_PATH_ZONES_AQ21PROJ)"
   ]
  },
  {
   "cell_type": "code",
   "execution_count": 7,
   "metadata": {
    "collapsed": true
   },
   "outputs": [],
   "source": [
    "fc_aq30_zones = ee.FeatureCollection(INPUT_PATH_ZONES_AQ30)"
   ]
  },
  {
   "cell_type": "code",
   "execution_count": 8,
   "metadata": {
    "collapsed": true
   },
   "outputs": [],
   "source": [
    "aqueduct_versions = [\"aq21\",\"aq30\",\"aq21proj\"]\n",
    "sectors = [\"a\",\"d\",\"i\",\"t\"]\n",
    "demand_types = [\"c\",\"u\"]\n",
    "reducer = ee.Reducer.count().combine(ee.Reducer.sum(),\"\",True)\n",
    "\n",
    "if TESTING:\n",
    "    sectors = [\"t\"]\n",
    "    demand_types = [\"c\",\"u\"]\n",
    "    aqueduct_versions = [\"aq21\",\"aq30\",\"aq21proj\"]\n",
    "    "
   ]
  },
  {
   "cell_type": "code",
   "execution_count": 9,
   "metadata": {},
   "outputs": [
    {
     "name": "stdout",
     "output_type": "stream",
     "text": [
      "aq21 c a\n",
      "aq21 c d\n",
      "aq21 c i\n",
      "aq21 c t\n",
      "aq21 u a\n",
      "aq21 u d\n",
      "aq21 u i\n",
      "aq21 u t\n",
      "aq30 c a\n",
      "aq30 c d\n",
      "aq30 c i\n",
      "aq30 c t\n",
      "aq30 u a\n",
      "aq30 u d\n",
      "aq30 u i\n",
      "aq30 u t\n",
      "aq21proj c a\n",
      "aq21proj c d\n",
      "aq21proj c i\n",
      "aq21proj c t\n",
      "aq21proj u a\n",
      "aq21proj u d\n",
      "aq21proj u i\n",
      "aq21proj u t\n"
     ]
    }
   ],
   "source": [
    "for aqueduct_version in aqueduct_versions:    \n",
    "    if aqueduct_version == \"aq21\":\n",
    "        fc_zones = fc_aq21_zones\n",
    "    elif aqueduct_version == \"aq21proj\":\n",
    "        fc_zones = fc_aq21proj_zones\n",
    "    elif aqueduct_version == \"aq30\":\n",
    "        fc_zones = fc_aq30_zones\n",
    "    else:\n",
    "        break\n",
    "    \n",
    "    for demand_type in demand_types:\n",
    "        for sector in sectors:\n",
    "            print(aqueduct_version,demand_type,sector)\n",
    "            input_file_name = demand_type + sector        \n",
    "            i_demand = ee.Image(INPUT_PATH_VALUES_AQ21+input_file_name)\n",
    "            fc_reduced = i_demand.reduceRegions(collection =fc_zones,\n",
    "                                                reducer = reducer,\n",
    "                                                crsTransform =CRS_TRANSFORM_AQ21\n",
    "                                                )\n",
    "            fc_reduced = ee.FeatureCollection(fc_reduced)\n",
    "            \n",
    "            fc_reduced_simplified = ee.FeatureCollection(fc_reduced.map(simplify_fc))\n",
    "\n",
    "            file_name = \"zonal_stats_{}_{}\".format(input_file_name,aqueduct_version)\n",
    "            file_name_prefix = \"{}/output_V{:02.0f}/{}\".format(SCRIPT_NAME,OUTPUT_VERSION,file_name)\n",
    "\n",
    "            task = ee.batch.Export.table.toCloudStorage(collection=fc_reduced_simplified,\n",
    "                                                        description = file_name,\n",
    "                                                        bucket = BUCKET,\n",
    "                                                        fileNamePrefix = file_name_prefix,\n",
    "                                                        fileFormat = \"CSV\"\n",
    "                                                        )\n",
    "\n",
    "            task.start()\n",
    "        "
   ]
  },
  {
   "cell_type": "code",
   "execution_count": 10,
   "metadata": {},
   "outputs": [
    {
     "name": "stdout",
     "output_type": "stream",
     "text": [
      "0:00:40.154716\n"
     ]
    }
   ],
   "source": [
    "end = datetime.datetime.now()\n",
    "elapsed = end - start\n",
    "print(elapsed)"
   ]
  },
  {
   "cell_type": "markdown",
   "metadata": {},
   "source": [
    "Previous runs:  \n",
    "0:00:40.154716\n"
   ]
  },
  {
   "cell_type": "code",
   "execution_count": null,
   "metadata": {
    "collapsed": true
   },
   "outputs": [],
   "source": []
  }
 ],
 "metadata": {
  "kernelspec": {
   "display_name": "Python 35",
   "language": "python",
   "name": "python35"
  },
  "language_info": {
   "codemirror_mode": {
    "name": "ipython",
    "version": 3
   },
   "file_extension": ".py",
   "mimetype": "text/x-python",
   "name": "python",
   "nbconvert_exporter": "python",
   "pygments_lexer": "ipython3",
   "version": "3.5.4"
  }
 },
 "nbformat": 4,
 "nbformat_minor": 2
}
