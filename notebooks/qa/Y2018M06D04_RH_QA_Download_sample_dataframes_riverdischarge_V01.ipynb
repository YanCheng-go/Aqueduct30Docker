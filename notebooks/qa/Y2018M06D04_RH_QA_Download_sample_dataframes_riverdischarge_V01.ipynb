{
 "cells": [
  {
   "cell_type": "code",
   "execution_count": 1,
   "metadata": {},
   "outputs": [
    {
     "name": "stdout",
     "output_type": "stream",
     "text": [
      "Input S3: s3://wri-projects/Aqueduct30/processData/Y2018M05D16_RH_Final_Riverdischarge_30sPfaf06_V01/output_V07 \n",
      "Output s3: s3://wri-projects/Aqueduct30/qaData/Y2018M06D04_RH_QA_Download_sample_dataframes_riverdischarge_V01/output_V02\n"
     ]
    }
   ],
   "source": [
    "\"\"\" Download pickled dataframes and convert to csv of combined riverdischarge. \n",
    "-------------------------------------------------------------------------------\n",
    "\n",
    "Author: Rutger Hofste\n",
    "Date: 20180604\n",
    "Kernel: python35\n",
    "Docker: rutgerhofste/gisdocker:ubuntu16.04\n",
    "\n",
    "Args:\n",
    "    TESTING (Boolean) : Toggle testing case.\n",
    "    SCRIPT_NAME (string) : Script name.\n",
    "    OUTPUT_VERSION (integer) : output version.\n",
    "\n",
    "\"\"\"\n",
    "\n",
    "SCRIPT_NAME = \"Y2018M06D04_RH_QA_Download_sample_dataframes_riverdischarge_V01\"\n",
    "OUTPUT_VERSION = 2\n",
    "OVERWRITE =1 \n",
    "\n",
    "S3_INPUT_PATH = \"s3://wri-projects/Aqueduct30/processData/Y2018M05D16_RH_Final_Riverdischarge_30sPfaf06_V01/output_V07\"\n",
    "\n",
    "ec2_input_path = \"/volumes/data/{}/input_V{:02.0f}\".format(SCRIPT_NAME,OUTPUT_VERSION)\n",
    "ec2_output_path = \"/volumes/data/{}/output_V{:02.0f}\".format(SCRIPT_NAME,OUTPUT_VERSION) \n",
    "s3_output_path = \"s3://wri-projects/Aqueduct30/qaData/{}/output_V{:02.0f}\".format(SCRIPT_NAME,OUTPUT_VERSION)\n",
    "\n",
    "print(\"Input S3: \" + S3_INPUT_PATH,\n",
    "      \"\\nOutput s3: \" + s3_output_path)"
   ]
  },
  {
   "cell_type": "code",
   "execution_count": 2,
   "metadata": {},
   "outputs": [
    {
     "name": "stdout",
     "output_type": "stream",
     "text": [
      "Y2018M06D05 UTC 08:34\n"
     ]
    },
    {
     "data": {
      "text/plain": [
       "'3.5.4 |Anaconda, Inc.| (default, Nov 20 2017, 18:44:38) \\n[GCC 7.2.0]'"
      ]
     },
     "execution_count": 2,
     "metadata": {},
     "output_type": "execute_result"
    }
   ],
   "source": [
    "import time, datetime, sys, logging\n",
    "dateString = time.strftime(\"Y%YM%mD%d\")\n",
    "timeString = time.strftime(\"UTC %H:%M\")\n",
    "start = datetime.datetime.now()\n",
    "print(dateString,timeString)\n",
    "sys.version"
   ]
  },
  {
   "cell_type": "code",
   "execution_count": 3,
   "metadata": {
    "collapsed": true
   },
   "outputs": [],
   "source": [
    "import pandas as pd\n",
    "import os\n",
    "pd.set_option('display.max_columns', 500)"
   ]
  },
  {
   "cell_type": "code",
   "execution_count": 4,
   "metadata": {},
   "outputs": [
    {
     "name": "stdout",
     "output_type": "stream",
     "text": [
      "rm: cannot remove '/volumes/data/Y2018M06D04_RH_QA_Download_sample_dataframes_riverdischarge_V01/input_V02': No such file or directory\n",
      "rm: cannot remove '/volumes/data/Y2018M06D04_RH_QA_Download_sample_dataframes_riverdischarge_V01/output_V02': No such file or directory\n"
     ]
    }
   ],
   "source": [
    "if OVERWRITE:\n",
    "    !rm -r {ec2_input_path}\n",
    "    !rm -r {ec2_output_path}\n",
    "    !mkdir -p {ec2_input_path}\n",
    "    !mkdir -p {ec2_output_path}"
   ]
  },
  {
   "cell_type": "code",
   "execution_count": 5,
   "metadata": {
    "collapsed": true
   },
   "outputs": [],
   "source": [
    "temporal_resolution = \"month\"\n",
    "year = 1970\n",
    "month = 1"
   ]
  },
  {
   "cell_type": "code",
   "execution_count": 6,
   "metadata": {
    "collapsed": true
   },
   "outputs": [],
   "source": [
    "file_name = \"global_historical_combinedriverdischarge_{}_millionm3_30sPfaf06_1960_2014_I*Y{:04.0f}M{:02.0f}.pkl\".format(temporal_resolution,year,month)"
   ]
  },
  {
   "cell_type": "code",
   "execution_count": 7,
   "metadata": {},
   "outputs": [
    {
     "name": "stdout",
     "output_type": "stream",
     "text": [
      "download: s3://wri-projects/Aqueduct30/processData/Y2018M05D16_RH_Final_Riverdischarge_30sPfaf06_V01/output_V07/global_historical_combinedriverdischarge_month_millionm3_30sPfaf06_1960_2014_I120Y1970M01.pkl to ../../../../data/Y2018M06D04_RH_QA_Download_sample_dataframes_riverdischarge_V01/input_V02/global_historical_combinedriverdischarge_month_millionm3_30sPfaf06_1960_2014_I120Y1970M01.pkl\n"
     ]
    }
   ],
   "source": [
    "!aws s3 cp {S3_INPUT_PATH} {ec2_input_path} --recursive --exclude \"*\" --include {file_name}"
   ]
  },
  {
   "cell_type": "code",
   "execution_count": 8,
   "metadata": {
    "collapsed": true
   },
   "outputs": [],
   "source": [
    "file_names = os.listdir(ec2_input_path)"
   ]
  },
  {
   "cell_type": "code",
   "execution_count": 9,
   "metadata": {
    "collapsed": true
   },
   "outputs": [],
   "source": [
    "for file_name in file_names:\n",
    "    df = pd.read_pickle(ec2_input_path + \"/\" + file_name)\n",
    "    df.to_csv(ec2_output_path+\"/\"+file_name + \".csv\")    "
   ]
  },
  {
   "cell_type": "code",
   "execution_count": 10,
   "metadata": {},
   "outputs": [
    {
     "name": "stdout",
     "output_type": "stream",
     "text": [
      "upload: ../../../../data/Y2018M06D04_RH_QA_Download_sample_dataframes_riverdischarge_V01/output_V02/global_historical_combinedriverdischarge_month_millionm3_30sPfaf06_1960_2014_I120Y1970M01.pkl.csv to s3://wri-projects/Aqueduct30/qaData/Y2018M06D04_RH_QA_Download_sample_dataframes_riverdischarge_V01/output_V02/global_historical_combinedriverdischarge_month_millionm3_30sPfaf06_1960_2014_I120Y1970M01.pkl.csv\n"
     ]
    }
   ],
   "source": [
    "!aws s3 cp {ec2_output_path} {s3_output_path} --recursive"
   ]
  },
  {
   "cell_type": "code",
   "execution_count": 11,
   "metadata": {},
   "outputs": [
    {
     "name": "stdout",
     "output_type": "stream",
     "text": [
      "0:00:11.863053\n"
     ]
    }
   ],
   "source": [
    "end = datetime.datetime.now()\n",
    "elapsed = end - start\n",
    "print(elapsed)"
   ]
  },
  {
   "cell_type": "markdown",
   "metadata": {},
   "source": [
    "Previous runs:  \n",
    "0:00:11.863053\n",
    "\n",
    "\n"
   ]
  }
 ],
 "metadata": {
  "kernelspec": {
   "display_name": "Python 35",
   "language": "python",
   "name": "python35"
  },
  "language_info": {
   "codemirror_mode": {
    "name": "ipython",
    "version": 3
   },
   "file_extension": ".py",
   "mimetype": "text/x-python",
   "name": "python",
   "nbconvert_exporter": "python",
   "pygments_lexer": "ipython3",
   "version": "3.5.4"
  }
 },
 "nbformat": 4,
 "nbformat_minor": 2
}
