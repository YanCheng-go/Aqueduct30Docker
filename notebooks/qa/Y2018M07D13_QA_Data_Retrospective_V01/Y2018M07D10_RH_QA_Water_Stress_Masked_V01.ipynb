{
 "cells": [
  {
   "cell_type": "code",
   "execution_count": 2,
   "metadata": {},
   "outputs": [
    {
     "name": "stdout",
     "output_type": "stream",
     "text": [
      "Input table: y2018m07d12_rh_ws_categorization_label_postgis_v01_v03 \n",
      "Output table: qa.y2018m0710_rh_qa_water_stress_masked_v01_v01\n"
     ]
    }
   ],
   "source": [
    "\"\"\" Inspect waters stress after applying the aridlowwateruse once mask.\n",
    "-------------------------------------------------------------------------------\n",
    "\n",
    "15% of the basins is arid and lowwateruse. \n",
    "\n",
    "Warning: Aqueduct Categories rank from 1 - 5\n",
    "\n",
    "max(0,min(5,((np.log(r)-np.log(0.1))/np.log(2))+1))\n",
    "\n",
    "[-9999] NoData \n",
    "[-1] Arid and Low Wateruse\n",
    "[0-1) Low\n",
    "[1-2) Low to Medium\n",
    "[2-3) Medium to High\n",
    "[3-4) High \n",
    "[4-5] Extremely High\n",
    "\n",
    "raw values are converted to scores and can result to scores in range [0-5] \n",
    "including start and endpoint. To go from scores to categories (binned) \n",
    "\n",
    "\n",
    "Author: Rutger Hofste\n",
    "Date: 201807010\n",
    "Kernel: python35\n",
    "Docker: rutgerhofste/gisdocker:ubuntu16.04\n",
    "\n",
    "\"\"\"\n",
    "\n",
    "TESTING = 1\n",
    "OVERWRITE_OUTPUT = 1\n",
    "SCRIPT_NAME = 'Y2018M0710_RH_QA_Water_Stress_Masked_V01'\n",
    "OUTPUT_VERSION = 1\n",
    "\n",
    "DATABASE_ENDPOINT = \"aqueduct30v05.cgpnumwmfcqc.eu-central-1.rds.amazonaws.com\"\n",
    "DATABASE_NAME = \"database01\"\n",
    "\n",
    "INPUT_TABLE_NAME = 'y2018m07d12_rh_ws_categorization_label_postgis_v01_v03'\n",
    "OUTPUT_TABLE_NAME = SCRIPT_NAME.lower() + \"_v{:02.0f}\".format(OUTPUT_VERSION)\n",
    "\n",
    "OUTPUT_SCHEMA = \"qa\"\n",
    "\n",
    "print(\"Input table: \" + INPUT_TABLE_NAME,\n",
    "      \"\\nOutput table: \" + OUTPUT_SCHEMA +\".\"+ OUTPUT_TABLE_NAME)\n"
   ]
  },
  {
   "cell_type": "code",
   "execution_count": 3,
   "metadata": {},
   "outputs": [
    {
     "name": "stdout",
     "output_type": "stream",
     "text": [
      "Y2018M07D13 UTC 12:31\n"
     ]
    },
    {
     "data": {
      "text/plain": [
       "'3.5.4 |Anaconda, Inc.| (default, Nov 20 2017, 18:44:38) \\n[GCC 7.2.0]'"
      ]
     },
     "execution_count": 3,
     "metadata": {},
     "output_type": "execute_result"
    }
   ],
   "source": [
    "import time, datetime, sys\n",
    "dateString = time.strftime(\"Y%YM%mD%d\")\n",
    "timeString = time.strftime(\"UTC %H:%M\")\n",
    "start = datetime.datetime.now()\n",
    "print(dateString,timeString)\n",
    "sys.version"
   ]
  },
  {
   "cell_type": "code",
   "execution_count": 4,
   "metadata": {
    "collapsed": true
   },
   "outputs": [],
   "source": [
    "# imports\n",
    "import os\n",
    "import re\n",
    "import os\n",
    "import json\n",
    "import getpass\n",
    "import geojson\n",
    "import mapboxgl\n",
    "import sqlalchemy\n",
    "import numpy as np\n",
    "import pandas as pd\n",
    "import geopandas as gpd\n",
    "from bokeh.plotting import figure \n",
    "from bokeh.io import output_notebook, show\n",
    "from bokeh.models import HoverTool\n",
    "from datetime import timedelta\n",
    "%matplotlib inline\n",
    "pd.set_option('display.max_columns', 500)"
   ]
  },
  {
   "cell_type": "code",
   "execution_count": 5,
   "metadata": {},
   "outputs": [],
   "source": [
    "F = open(\"/.mapbox_public\",\"r\")\n",
    "token = F.read().splitlines()[0]\n",
    "F.close()\n",
    "os.environ[\"MAPBOX_ACCESS_TOKEN\"] = token\n",
    "\n",
    "F = open(\"/.password\",\"r\")\n",
    "password = F.read().splitlines()[0]\n",
    "F.close()\n",
    "\n",
    "engine = sqlalchemy.create_engine(\"postgresql://rutgerhofste:{}@{}:5432/{}\".format(password,DATABASE_ENDPOINT,DATABASE_NAME))\n",
    "#connection = engine.connect()"
   ]
  },
  {
   "cell_type": "code",
   "execution_count": null,
   "metadata": {
    "collapsed": true
   },
   "outputs": [],
   "source": [
    "def create_viz(case):\n",
    "    viz = mapboxgl.viz.ChoroplethViz(data = case[\"json\"], \n",
    "                                      vector_url='mapbox://rutgerhofste.hybas06_v04_V04',\n",
    "                                      vector_layer_name='hybas06_v04', # Warning should match name on mapbox.\n",
    "                                      vector_join_property='pfaf_id',\n",
    "                                      data_join_property=case[\"dimension\"],\n",
    "                                      color_property=case[\"measure\"],\n",
    "                                      color_function_type='match',\n",
    "                                      color_stops= case[\"color_stops\"],\n",
    "                                      line_color = 'rgba(0,0,0,0.05)',\n",
    "                                      line_width = 0.5,\n",
    "                                      opacity=0.7,\n",
    "                                      center=(5, 52),\n",
    "                                      zoom=4,\n",
    "                                      below_layer='waterway-label'\n",
    "                                      )\n",
    "    return viz"
   ]
  },
  {
   "cell_type": "code",
   "execution_count": 6,
   "metadata": {
    "collapsed": true
   },
   "outputs": [],
   "source": [
    "columns = [\"pfafid_30spfaf06\",\n",
    "           \"temporal_resolution\",\n",
    "           \"year\",\n",
    "           \"month\",\n",
    "           \"ols_ols10_aridandlowwateruse_boolean_30spfaf06\",\n",
    "           \"ols_ols10_waterstress_dimensionless_30spfaf06\",\n",
    "           \"avg1y_ols_ols10_waterstress_dimensionless_30spfaf06\",\n",
    "           \"waterstress_raw_dimensionless_30spfaf06\",\n",
    "           \"waterstress_score_dimensionless_30spfaf06\",\n",
    "           \"waterstress_category_dimensionless_30spfaf06\",\n",
    "           \"waterstress_label_dimensionless_30spfaf06\"]"
   ]
  },
  {
   "cell_type": "code",
   "execution_count": null,
   "metadata": {
    "collapsed": true
   },
   "outputs": [],
   "source": [
    "# Inspecting Annual results"
   ]
  },
  {
   "cell_type": "code",
   "execution_count": 7,
   "metadata": {
    "collapsed": true
   },
   "outputs": [],
   "source": [
    "sql = \"SELECT\"\n",
    "for column in columns:\n",
    "    sql += \" {},\".format(column)\n",
    "sql = sql[:-1]\n",
    "sql += \" FROM {}\".format(INPUT_TABLE_NAME)\n",
    "sql += \" WHERE pfafid_30spfaf06 = 161180\"\n",
    "\n",
    "#sql += \" WHERE year= 2014 AND temporal_resolution = 'year'\""
   ]
  },
  {
   "cell_type": "code",
   "execution_count": 8,
   "metadata": {},
   "outputs": [
    {
     "data": {
      "text/plain": [
       "'SELECT pfafid_30spfaf06, temporal_resolution, year, month, ols_ols10_aridandlowwateruse_boolean_30spfaf06, ols_ols10_waterstress_dimensionless_30spfaf06, avg1y_ols_ols10_waterstress_dimensionless_30spfaf06, waterstress_raw_dimensionless_30spfaf06, waterstress_score_dimensionless_30spfaf06, waterstress_category_dimensionless_30spfaf06, waterstress_label_dimensionless_30spfaf06 FROM y2018m07d12_rh_ws_categorization_label_postgis_v01_v03 WHERE pfafid_30spfaf06 = 161180'"
      ]
     },
     "execution_count": 8,
     "metadata": {},
     "output_type": "execute_result"
    }
   ],
   "source": [
    "sql"
   ]
  },
  {
   "cell_type": "code",
   "execution_count": null,
   "metadata": {
    "collapsed": true
   },
   "outputs": [],
   "source": [
    "#df = pd.read_sql(sql,engine)"
   ]
  },
  {
   "cell_type": "code",
   "execution_count": null,
   "metadata": {
    "collapsed": true
   },
   "outputs": [],
   "source": [
    "color_stops_category = [[-9999,'rgb(241,12,249)'],\n",
    "                        [-1,'rgb(128,128,128)'],\n",
    "                        #[-0.001,'rgb(255,0,84)'], \n",
    "                        [0,'rgb(255,255,153)'], # low\n",
    "                        [1,'rgb(255,230,0)'], # low to medium\n",
    "                        [2,'rgb(255,153,0)'], # Medium to High\n",
    "                        [3,'rgb(255,25,0)'], # High\n",
    "                        [4,'rgb(153,0,0)']]  # Extremely High"
   ]
  },
  {
   "cell_type": "code",
   "execution_count": 10,
   "metadata": {
    "collapsed": true
   },
   "outputs": [],
   "source": [
    "cases = {}"
   ]
  },
  {
   "cell_type": "markdown",
   "metadata": {
    "collapsed": true
   },
   "source": [
    "## Visualize Annual Results"
   ]
  },
  {
   "cell_type": "code",
   "execution_count": null,
   "metadata": {
    "collapsed": true
   },
   "outputs": [],
   "source": [
    "sql = \"SELECT\"\n",
    "for column in columns:\n",
    "    sql += \" {},\".format(column)\n",
    "sql = sql[:-1]\n",
    "sql += \" FROM {}\".format(INPUT_TABLE_NAME)\n",
    "sql += \" WHERE temporal_resolution = 'year\""
   ]
  },
  {
   "cell_type": "code",
   "execution_count": null,
   "metadata": {
    "collapsed": true
   },
   "outputs": [],
   "source": [
    "data = json.loads(df_small.to_json(orient='records'))"
   ]
  },
  {
   "cell_type": "code",
   "execution_count": null,
   "metadata": {},
   "outputs": [],
   "source": [
    "case = {}\n",
    "case[\"description\"] = \"Arid\"\n",
    "case[\"id\"] = \"annual_aridandlowateruse\"\n",
    "case[\"df\"] = df.copy()\n",
    "case[\"measure\"] = \"ols_ols10_aridandlowwateruse_boolean_30spfaf06\"\n",
    "case[\"dimension\"] = \"pfafid_30spfaf06\"\n",
    "\n",
    "df_temp = case[\"df\"][[case[\"dimension\"],case[\"measure\"]]]\n",
    "\n",
    "case[\"json\"] = json.loads(df_temp.to_json(orient='records'))\n",
    "\n",
    "case[\"color_stops\"] = color_stops = [[0,'rgb(255,255,255)'],\n",
    "                                     [1,'rgb(0,255,0)']]\n",
    "case[\"viz\"] = create_viz(case)\n",
    "\n",
    "cases[case[\"id\"]] = case"
   ]
  },
  {
   "cell_type": "code",
   "execution_count": null,
   "metadata": {},
   "outputs": [],
   "source": []
  },
  {
   "cell_type": "markdown",
   "metadata": {},
   "source": [
    "## Visualize Monthly Results\n",
    "          \n",
    "          \n",
    "The annual results are the average of the monthly (ols_ols10) water values. "
   ]
  },
  {
   "cell_type": "code",
   "execution_count": null,
   "metadata": {
    "collapsed": true
   },
   "outputs": [],
   "source": []
  },
  {
   "cell_type": "code",
   "execution_count": null,
   "metadata": {
    "collapsed": true
   },
   "outputs": [],
   "source": []
  },
  {
   "cell_type": "code",
   "execution_count": null,
   "metadata": {
    "collapsed": true
   },
   "outputs": [],
   "source": []
  },
  {
   "cell_type": "code",
   "execution_count": null,
   "metadata": {
    "collapsed": true
   },
   "outputs": [],
   "source": []
  },
  {
   "cell_type": "code",
   "execution_count": null,
   "metadata": {
    "collapsed": true
   },
   "outputs": [],
   "source": []
  },
  {
   "cell_type": "code",
   "execution_count": null,
   "metadata": {
    "collapsed": true
   },
   "outputs": [],
   "source": [
    "case = {}\n",
    "case[\"description\"] = \"Arid\"\n",
    "case[\"id\"] = \"annual_aridandlowateruse\"\n",
    "case[\"df\"] = df.copy()\n",
    "case[\"measure\"] = \"ols_ols10_aridandlowwateruse_boolean_30spfaf06\"\n",
    "case[\"dimension\"] = \"pfafid_30spfaf06\"\n",
    "\n",
    "df_temp = case[\"df\"][[case[\"dimension\"],case[\"measure\"]]]\n",
    "\n",
    "case[\"json\"] = json.loads(df_temp.to_json(orient='records'))\n",
    "\n",
    "case[\"color_stops\"] = color_stops = [[0,'rgb(255,255,255)'],\n",
    "                                     [1,'rgb(0,255,0)']]\n",
    "case[\"viz\"] = create_viz(case)\n",
    "\n",
    "cases[case[\"id\"]] = case"
   ]
  },
  {
   "cell_type": "code",
   "execution_count": null,
   "metadata": {
    "collapsed": true
   },
   "outputs": [],
   "source": [
    "viz = cases[\"annual_aridandlowateruse\"][\"viz\"]\n",
    "viz.show()"
   ]
  },
  {
   "cell_type": "code",
   "execution_count": null,
   "metadata": {
    "collapsed": true
   },
   "outputs": [],
   "source": [
    "def ws_r_to_s(r):\n",
    "    # Convert raw water stress value to score; Equation from Aqueduct 2.1.\n",
    "    return max(0,min(5,((np.log(r)-np.log(0.1))/np.log(2))+1))"
   ]
  },
  {
   "cell_type": "markdown",
   "metadata": {},
   "source": [
    "ws categories \n",
    "\n",
    "low [0 - 0.1)  \n",
    "low-medium [0.1 - 0.2)  \n",
    "medium-high [0.2 - 0.4)  \n",
    "high [0.4 - 0.8)  \n",
    "very high [0.8 - inf]  \n",
    "    \n",
    "\n"
   ]
  },
  {
   "cell_type": "code",
   "execution_count": null,
   "metadata": {
    "collapsed": true
   },
   "outputs": [],
   "source": [
    "labels_raw = [\"low [0 - 0.1)\",\n",
    "          \"low-medium [0.1 - 0.2)\",\n",
    "          \"medium-high [0.2 - 0.4)\",\n",
    "          \"high [0.4 - 0.8)\",\n",
    "          \"very high [0.8 - inf]\"]\n",
    "\n",
    "labels_scores = [\"low [0 - 1)\",\n",
    "                  \"low-medium [1 - 2)\",\n",
    "                  \"medium-high [2 - 3)\",\n",
    "                  \"high [3 - 4)\",\n",
    "                  \"very high [4 - 5]\"]\n",
    "\n",
    "\n",
    "bins_raw=[0,0.1,0.2,0.4,0.8,9999]\n",
    "bins_scores = [0,1,2,3,4,5]\n",
    "          "
   ]
  },
  {
   "cell_type": "code",
   "execution_count": null,
   "metadata": {
    "collapsed": true
   },
   "outputs": [],
   "source": []
  },
  {
   "cell_type": "code",
   "execution_count": null,
   "metadata": {
    "collapsed": true
   },
   "outputs": [],
   "source": [
    "df[\"ws_cat\"] = pd.cut(df[\"waterstress_score_dimensionless_30spfaf06\"],bins=bins_scores,right=False,labels=labels_scores)\n",
    "df[\"ws_cat\"] = np.where(df[\"ols_ols10_aridandlowwateruse_boolean_30spfaf06\"] == 1, \"arid and lowwateruse\", df[\"ws_cat\"])\n",
    "    "
   ]
  },
  {
   "cell_type": "code",
   "execution_count": null,
   "metadata": {
    "collapsed": true
   },
   "outputs": [],
   "source": [
    "df.head()"
   ]
  },
  {
   "cell_type": "code",
   "execution_count": null,
   "metadata": {
    "collapsed": true
   },
   "outputs": [],
   "source": [
    "case = {}\n",
    "case[\"description\"] = \"water stress\"\n",
    "case[\"id\"] = \"annual_waterstress\"\n",
    "case[\"df\"] = df.copy()\n",
    "case[\"measure\"] = \"ws_cat\"\n",
    "case[\"dimension\"] = \"pfafid_30spfaf06\"\n",
    "\n",
    "#df_temp = case[\"df\"][[case[\"dimension\"],case[\"measure\"]]]\n",
    "df_temp = case[\"df\"][[case[\"dimension\"],case[\"measure\"],'year']]\n",
    "\n",
    "case[\"json\"] = json.loads(df_temp.to_json(orient='records'))\n",
    "\n",
    "\n",
    "case[\"color_stops\"] = color_stops = [[-1,'rgb(128,128,128)'],\n",
    "                                     #[-0.001,'rgb(255,0,84)'], \n",
    "                                     [0,'rgb(255,255,153)'], # low\n",
    "                                     [0.2,'rgb(255,230,0)'], # low to medium\n",
    "                                     [0.4,'rgb(255,153,0)'], # Medium to High\n",
    "                                     [0.8,'rgb(255,25,0)'], # High\n",
    "                                     [1,'rgb(153,0,0)']]  # Extremely High\n",
    "\n",
    "case[\"color_stops\"] = color_stops = [[\"arid and lowwateruse\",'rgb(128,128,128)'],\n",
    "                                     [\"low [0 - 0.1)\",'rgb(255,255,153)'], # low\n",
    "                                     [\"low-medium [0.1 - 0.2)\",'rgb(255,230,0)'], # low to medium\n",
    "                                     [\"medium-high [0.2 - 0.4)\",'rgb(255,153,0)'], # Medium to High\n",
    "                                     [\"high [0.4 - 0.8)\",'rgb(255,25,0)'], # High\n",
    "                                     [\"very high [0.8 - inf]\",'rgb(153,0,0)']]  # Extremely High\n",
    "\n",
    "\n",
    "case[\"viz\"] = create_viz(case)\n",
    "\n",
    "cases[case[\"id\"]] = case"
   ]
  },
  {
   "cell_type": "code",
   "execution_count": null,
   "metadata": {
    "collapsed": true
   },
   "outputs": [],
   "source": [
    "case[\"json\"]"
   ]
  },
  {
   "cell_type": "code",
   "execution_count": null,
   "metadata": {
    "collapsed": true
   },
   "outputs": [],
   "source": [
    "safename = json.loads(df_temp.to_json(orient='records'))"
   ]
  },
  {
   "cell_type": "code",
   "execution_count": null,
   "metadata": {
    "collapsed": true
   },
   "outputs": [],
   "source": [
    "viz = mapboxgl.viz.ChoroplethViz(data = safename, \n",
    "                                  vector_url='mapbox://rutgerhofste.hybas06_v04_V04',\n",
    "                                  vector_layer_name='hybas06_v04', # Warning should match name on mapbox.\n",
    "                                  vector_join_property='pfaf_id',\n",
    "                                  data_join_property=case[\"dimension\"],\n",
    "                                  color_property=case[\"measure\"],\n",
    "                                  color_function_type='match',\n",
    "                                  color_stops= case[\"color_stops\"],\n",
    "                                  line_color = 'rgba(0,0,0,0.05)',\n",
    "                                  line_width = 0.5,\n",
    "                                  opacity=0.7,\n",
    "                                  center=(5, 52),\n",
    "                                  zoom=4,\n",
    "                                  below_layer='waterway-label'\n",
    "                                  )"
   ]
  },
  {
   "cell_type": "code",
   "execution_count": null,
   "metadata": {
    "collapsed": true
   },
   "outputs": [],
   "source": [
    "viz.show()"
   ]
  },
  {
   "cell_type": "code",
   "execution_count": null,
   "metadata": {},
   "outputs": [],
   "source": []
  },
  {
   "cell_type": "code",
   "execution_count": null,
   "metadata": {
    "collapsed": true
   },
   "outputs": [],
   "source": [
    "# Mapbox Settings\n",
    "color_stops_raw = [[-1,'rgb(128,128,128)'],\n",
    "                  #[-0.001,'rgb(255,0,84)'], \n",
    "                   [0,'rgb(255,255,153)'], # low\n",
    "                   [0.2,'rgb(255,230,0)'], # low to medium\n",
    "                   [0.4,'rgb(255,153,0)'], # Medium to High\n",
    "                   [0.8,'rgb(255,25,0)'], # High\n",
    "                   [1,'rgb(153,0,0)']]  # Extremely High\n",
    "\n",
    "color_stops_scores = [[-1,'rgb(128,128,128)'],\n",
    "                  #[-0.001,'rgb(255,0,84)'], \n",
    "                   [0,'rgb(255,255,153)'], # low\n",
    "                   [1,'rgb(255,230,0)'], # low to medium\n",
    "                   [2,'rgb(255,153,0)'], # Medium to High\n",
    "                   [3,'rgb(255,25,0)'], # High\n",
    "                   [4,'rgb(153,0,0)']]  # Extremely High\n",
    "\n",
    "# Pandas Settings:\n",
    "labels_raw = [\"low [0 - 0.1)\",\n",
    "              \"low-medium [0.1 - 0.2)\",\n",
    "              \"medium-high [0.2 - 0.4)\",\n",
    "              \"high [0.4 - 0.8)\",\n",
    "              \"very high [0.8 - inf]\"]\n",
    "\n",
    "labels_scores = [\"low [0 - 1)\",\n",
    "                 \"low-medium [1 - 2)\",\n",
    "                 \"medium-high [2 - 3)\",\n",
    "                 \"high [3 - 4)\",\n",
    "                 \"very high [4 - 5]\"]\n",
    "\n",
    "bins_raw=[0,0.1,0.2,0.4,0.8,9999]\n",
    "bins_scores = [-1,1,2,3,4,5]\n"
   ]
  }
 ],
 "metadata": {
  "kernelspec": {
   "display_name": "Python 35",
   "language": "python",
   "name": "python35"
  },
  "language_info": {
   "codemirror_mode": {
    "name": "ipython",
    "version": 3
   },
   "file_extension": ".py",
   "mimetype": "text/x-python",
   "name": "python",
   "nbconvert_exporter": "python",
   "pygments_lexer": "ipython3",
   "version": "3.5.4"
  }
 },
 "nbformat": 4,
 "nbformat_minor": 2
}
