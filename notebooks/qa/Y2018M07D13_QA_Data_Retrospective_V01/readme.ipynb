{
 "cells": [
  {
   "cell_type": "markdown",
   "metadata": {},
   "source": [
    "# Scripts to inspect\n",
    "\n",
    "1. **Y2018M07D02_RH_QA_Arid_Low_Method_V01**  \n",
    "    Compare several methods for setting arid and lowwateruse.\n",
    "1. **Y2018M07D09_RH_QA_Arid_Low_Method_Once_V01**  \n",
    "    Apply thresholds once based on full range ols.\n",
    "1. **Y2018M0710_RH_QA_Water_Stress_Masked_V01**  \n",
    "    Inspect waters stress after applying the aridlowwateruse once mask."
   ]
  },
  {
   "cell_type": "code",
   "execution_count": null,
   "metadata": {
    "collapsed": true
   },
   "outputs": [],
   "source": []
  }
 ],
 "metadata": {
  "kernelspec": {
   "display_name": "Python 35",
   "language": "python",
   "name": "python35"
  },
  "language_info": {
   "codemirror_mode": {
    "name": "ipython",
    "version": 3
   },
   "file_extension": ".py",
   "mimetype": "text/x-python",
   "name": "python",
   "nbconvert_exporter": "python",
   "pygments_lexer": "ipython3",
   "version": "3.5.4"
  }
 },
 "nbformat": 4,
 "nbformat_minor": 2
}
