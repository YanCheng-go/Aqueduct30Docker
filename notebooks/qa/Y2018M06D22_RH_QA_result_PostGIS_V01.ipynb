{
 "cells": [
  {
   "cell_type": "code",
   "execution_count": 1,
   "metadata": {},
   "outputs": [
    {
     "name": "stdout",
     "output_type": "stream",
     "text": [
      "\n",
      "Output ec2: /volumes/data/Y2018M06D22_RH_QA_result_PostGIS_V01/output_V03 \n",
      "Output s3: s3://wri-projects/Aqueduct30/qaData/Y2018M06D22_RH_QA_result_PostGIS_V01/output_V03/\n"
     ]
    }
   ],
   "source": [
    "\"\"\" Create table with result, raw ma10 and ols with geometries.\n",
    "-------------------------------------------------------------------------------\n",
    "\n",
    "Create postGIS table for selected basins with all ma_10 indicators\n",
    "\n",
    "Author: Rutger Hofste\n",
    "Date: 20180622\n",
    "Kernel: python35\n",
    "Docker: rutgerhofste/gisdocker:ubuntu16.04\n",
    "\n",
    "\"\"\"\n",
    "\n",
    "TESTING = 1\n",
    "OVERWRITE_OUTPUT = 1\n",
    "SCRIPT_NAME = 'Y2018M06D22_RH_QA_result_PostGIS_V01'\n",
    "OUTPUT_VERSION = 3\n",
    "\n",
    "DATABASE_ENDPOINT = \"aqueduct30v05.cgpnumwmfcqc.eu-central-1.rds.amazonaws.com\"\n",
    "DATABASE_NAME = \"database01\"\n",
    "\n",
    "INPUT_TABLE_NAME = 'y2018m06d28_rh_ws_full_range_ols_postgis_30spfaf06_v01_v02'\n",
    "GEOM_TABLE = 'hybas06_v04'\n",
    "OUTPUT_TABLE_NAME = SCRIPT_NAME.lower() + \"_v{:02.0f}\".format(OUTPUT_VERSION)\n",
    "OUTPUT_SCHEMA = \"test\"\n",
    "\n",
    "ec2_output_path = \"/volumes/data/{}/output_V{:02.0f}\".format(SCRIPT_NAME,OUTPUT_VERSION)\n",
    "s3_output_path = \"s3://wri-projects/Aqueduct30/qaData/{}/output_V{:02.0f}/\".format(SCRIPT_NAME,OUTPUT_VERSION)\n",
    "\n",
    "print(\"\\nOutput ec2: \" + ec2_output_path,\n",
    "      \"\\nOutput s3: \" + s3_output_path)\n"
   ]
  },
  {
   "cell_type": "code",
   "execution_count": 2,
   "metadata": {},
   "outputs": [
    {
     "name": "stdout",
     "output_type": "stream",
     "text": [
      "Y2018M06D28 UTC 16:15\n"
     ]
    },
    {
     "data": {
      "text/plain": [
       "'3.5.4 |Anaconda, Inc.| (default, Nov 20 2017, 18:44:38) \\n[GCC 7.2.0]'"
      ]
     },
     "execution_count": 2,
     "metadata": {},
     "output_type": "execute_result"
    }
   ],
   "source": [
    "import time, datetime, sys\n",
    "dateString = time.strftime(\"Y%YM%mD%d\")\n",
    "timeString = time.strftime(\"UTC %H:%M\")\n",
    "start = datetime.datetime.now()\n",
    "print(dateString,timeString)\n",
    "sys.version"
   ]
  },
  {
   "cell_type": "code",
   "execution_count": 3,
   "metadata": {},
   "outputs": [
    {
     "name": "stdout",
     "output_type": "stream",
     "text": [
      "rm: cannot remove '/volumes/data/Y2018M06D22_RH_QA_result_PostGIS_V01/output_V03': No such file or directory\r\n"
     ]
    }
   ],
   "source": [
    "if OVERWRITE_OUTPUT:\n",
    "    !rm -r {ec2_output_path}\n",
    "    !mkdir -p {ec2_output_path}\n",
    "else:\n",
    "    !mkdir -p {ec2_output_path}\n",
    "    "
   ]
  },
  {
   "cell_type": "code",
   "execution_count": 4,
   "metadata": {},
   "outputs": [],
   "source": [
    "# imports\n",
    "%matplotlib inline\n",
    "import re\n",
    "import os\n",
    "import random\n",
    "import numpy as np\n",
    "import pandas as pd\n",
    "import bokeh.palettes\n",
    "from datetime import timedelta\n",
    "from sqlalchemy import *\n",
    "from bokeh.plotting import figure \n",
    "from bokeh.io import output_notebook, show\n",
    "from bokeh.models import HoverTool\n",
    "\n",
    "pd.set_option('display.max_columns', 500)"
   ]
  },
  {
   "cell_type": "code",
   "execution_count": 5,
   "metadata": {
    "collapsed": true
   },
   "outputs": [],
   "source": [
    "F = open(\"/.password\",\"r\")\n",
    "password = F.read().splitlines()[0]\n",
    "F.close()\n",
    "\n",
    "engine = create_engine(\"postgresql://rutgerhofste:{}@{}:5432/{}\".format(password,DATABASE_ENDPOINT,DATABASE_NAME))"
   ]
  },
  {
   "cell_type": "code",
   "execution_count": 6,
   "metadata": {},
   "outputs": [
    {
     "name": "stdout",
     "output_type": "stream",
     "text": [
      "SELECT * FROM y2018m06d28_rh_ws_full_range_ols_postgis_30spfaf06_v01_v02 WHERE pfafid_30spfaf06 = 261492 AND temporal_resolution = 'year' LIMIT 100000\n"
     ]
    }
   ],
   "source": [
    "# What to compare\n",
    "\n",
    "sql = \"SELECT *\"\n",
    "sql +=\" FROM {}\".format(INPUT_TABLE_NAME)\n",
    "sql +=\" WHERE pfafid_30spfaf06 = 261492\"\n",
    "sql +=\" AND temporal_resolution = 'year'\"\n",
    "sql +=\" LIMIT 100000\"\n",
    "print(sql)\n",
    "df = pd.read_sql(sql,engine)\n",
    "\n"
   ]
  },
  {
   "cell_type": "code",
   "execution_count": null,
   "metadata": {},
   "outputs": [],
   "source": []
  },
  {
   "cell_type": "code",
   "execution_count": 7,
   "metadata": {},
   "outputs": [
    {
     "name": "stdout",
     "output_type": "stream",
     "text": [
      "/volumes/data/Y2018M06D22_RH_QA_result_PostGIS_V01/output_V03/full_range_ols_ws_year_Y2014.csv\n",
      "1\n",
      "/volumes/data/Y2018M06D22_RH_QA_result_PostGIS_V01/output_V03/full_range_ols_ws_month_Y2014M01.csv\n",
      "2\n",
      "/volumes/data/Y2018M06D22_RH_QA_result_PostGIS_V01/output_V03/full_range_ols_ws_month_Y2014M02.csv\n",
      "3\n",
      "/volumes/data/Y2018M06D22_RH_QA_result_PostGIS_V01/output_V03/full_range_ols_ws_month_Y2014M03.csv\n",
      "4\n",
      "/volumes/data/Y2018M06D22_RH_QA_result_PostGIS_V01/output_V03/full_range_ols_ws_month_Y2014M04.csv\n",
      "5\n",
      "/volumes/data/Y2018M06D22_RH_QA_result_PostGIS_V01/output_V03/full_range_ols_ws_month_Y2014M05.csv\n",
      "6\n",
      "/volumes/data/Y2018M06D22_RH_QA_result_PostGIS_V01/output_V03/full_range_ols_ws_month_Y2014M06.csv\n",
      "7\n",
      "/volumes/data/Y2018M06D22_RH_QA_result_PostGIS_V01/output_V03/full_range_ols_ws_month_Y2014M07.csv\n",
      "8\n",
      "/volumes/data/Y2018M06D22_RH_QA_result_PostGIS_V01/output_V03/full_range_ols_ws_month_Y2014M08.csv\n",
      "9\n",
      "/volumes/data/Y2018M06D22_RH_QA_result_PostGIS_V01/output_V03/full_range_ols_ws_month_Y2014M09.csv\n",
      "10\n",
      "/volumes/data/Y2018M06D22_RH_QA_result_PostGIS_V01/output_V03/full_range_ols_ws_month_Y2014M10.csv\n",
      "11\n",
      "/volumes/data/Y2018M06D22_RH_QA_result_PostGIS_V01/output_V03/full_range_ols_ws_month_Y2014M11.csv\n",
      "12\n",
      "/volumes/data/Y2018M06D22_RH_QA_result_PostGIS_V01/output_V03/full_range_ols_ws_month_Y2014M12.csv\n"
     ]
    }
   ],
   "source": [
    "# Select 2014 for annual and monthly ols full range water stress\n",
    "\n",
    "temporal_resolutions = [\"year\",\"month\"]\n",
    "\n",
    "year = 2014 \n",
    "\n",
    "dfs = {}\n",
    "\n",
    "for temporal_resolution in temporal_resolutions:\n",
    "    if temporal_resolution == 'year':\n",
    "        sql = \"SELECT *\"\n",
    "        sql +=\" FROM {}\".format(INPUT_TABLE_NAME)\n",
    "        sql +=\" WHERE\"\n",
    "        # filter\n",
    "        sql +=\" year = {:04.0f}\".format(year) \n",
    "        sql +=\" AND temporal_resolution = 'year'\"\n",
    "        sql +=\" LIMIT 100000\"\n",
    "        df = pd.read_sql(sql,engine)\n",
    "        \n",
    "        output_file_name = \"full_range_ols_ws_{}_Y{:04.0f}.csv\".format(temporal_resolution,year)\n",
    "        output_file_path = ec2_output_path + \"/\" + output_file_name\n",
    "        print(output_file_path)\n",
    "        \n",
    "        df = df.fillna(-9999)\n",
    "        df.to_csv(output_file_path)\n",
    "        dfs[output_file_name] = df\n",
    "    elif temporal_resolution == 'month':\n",
    "        for month in range(1,13):\n",
    "            print(month)\n",
    "            sql = \"SELECT *\"\n",
    "            sql +=\" FROM {}\".format(INPUT_TABLE_NAME)\n",
    "            sql +=\" WHERE\"\n",
    "            # filter\n",
    "            sql +=\" year = {:04.0f}\".format(year) \n",
    "            sql +=\" AND temporal_resolution = 'month'\"\n",
    "            sql +=\" AND month = {}\".format(month)\n",
    "            sql +=\" LIMIT 100000\"\n",
    "            df = pd.read_sql(sql,engine)\n",
    "            output_file_name = \"full_range_ols_ws_{}_Y{:04.0f}M{:02.0f}.csv\".format(temporal_resolution,year,month)\n",
    "            output_file_path = ec2_output_path + \"/\" + output_file_name\n",
    "            print(output_file_path)\n",
    "            \n",
    "            df = df.fillna(-9999)\n",
    "            df.to_csv(output_file_path)\n",
    "            dfs[output_file_name] = df\n",
    "    else:\n",
    "        break\n",
    "\n",
    "\n",
    "\n"
   ]
  },
  {
   "cell_type": "code",
   "execution_count": 8,
   "metadata": {},
   "outputs": [
    {
     "name": "stdout",
     "output_type": "stream",
     "text": [
      "upload: ../../../../data/Y2018M06D22_RH_QA_result_PostGIS_V01/output_V03/full_range_ols_ws_month_Y2014M01.csv to s3://wri-projects/Aqueduct30/qaData/Y2018M06D22_RH_QA_result_PostGIS_V01/output_V03/full_range_ols_ws_month_Y2014M01.csv\n",
      "upload: ../../../../data/Y2018M06D22_RH_QA_result_PostGIS_V01/output_V03/full_range_ols_ws_month_Y2014M02.csv to s3://wri-projects/Aqueduct30/qaData/Y2018M06D22_RH_QA_result_PostGIS_V01/output_V03/full_range_ols_ws_month_Y2014M02.csv\n",
      "upload: ../../../../data/Y2018M06D22_RH_QA_result_PostGIS_V01/output_V03/full_range_ols_ws_month_Y2014M03.csv to s3://wri-projects/Aqueduct30/qaData/Y2018M06D22_RH_QA_result_PostGIS_V01/output_V03/full_range_ols_ws_month_Y2014M03.csv\n",
      "upload: ../../../../data/Y2018M06D22_RH_QA_result_PostGIS_V01/output_V03/full_range_ols_ws_month_Y2014M05.csv to s3://wri-projects/Aqueduct30/qaData/Y2018M06D22_RH_QA_result_PostGIS_V01/output_V03/full_range_ols_ws_month_Y2014M05.csv\n",
      "upload: ../../../../data/Y2018M06D22_RH_QA_result_PostGIS_V01/output_V03/full_range_ols_ws_month_Y2014M04.csv to s3://wri-projects/Aqueduct30/qaData/Y2018M06D22_RH_QA_result_PostGIS_V01/output_V03/full_range_ols_ws_month_Y2014M04.csv\n",
      "upload: ../../../../data/Y2018M06D22_RH_QA_result_PostGIS_V01/output_V03/full_range_ols_ws_month_Y2014M07.csv to s3://wri-projects/Aqueduct30/qaData/Y2018M06D22_RH_QA_result_PostGIS_V01/output_V03/full_range_ols_ws_month_Y2014M07.csv\n",
      "upload: ../../../../data/Y2018M06D22_RH_QA_result_PostGIS_V01/output_V03/full_range_ols_ws_month_Y2014M08.csv to s3://wri-projects/Aqueduct30/qaData/Y2018M06D22_RH_QA_result_PostGIS_V01/output_V03/full_range_ols_ws_month_Y2014M08.csv\n",
      "upload: ../../../../data/Y2018M06D22_RH_QA_result_PostGIS_V01/output_V03/full_range_ols_ws_month_Y2014M09.csv to s3://wri-projects/Aqueduct30/qaData/Y2018M06D22_RH_QA_result_PostGIS_V01/output_V03/full_range_ols_ws_month_Y2014M09.csv\n",
      "upload: ../../../../data/Y2018M06D22_RH_QA_result_PostGIS_V01/output_V03/full_range_ols_ws_month_Y2014M06.csv to s3://wri-projects/Aqueduct30/qaData/Y2018M06D22_RH_QA_result_PostGIS_V01/output_V03/full_range_ols_ws_month_Y2014M06.csv\n",
      "upload: ../../../../data/Y2018M06D22_RH_QA_result_PostGIS_V01/output_V03/full_range_ols_ws_month_Y2014M10.csv to s3://wri-projects/Aqueduct30/qaData/Y2018M06D22_RH_QA_result_PostGIS_V01/output_V03/full_range_ols_ws_month_Y2014M10.csv\n",
      "upload: ../../../../data/Y2018M06D22_RH_QA_result_PostGIS_V01/output_V03/full_range_ols_ws_month_Y2014M12.csv to s3://wri-projects/Aqueduct30/qaData/Y2018M06D22_RH_QA_result_PostGIS_V01/output_V03/full_range_ols_ws_month_Y2014M12.csv\n",
      "upload: ../../../../data/Y2018M06D22_RH_QA_result_PostGIS_V01/output_V03/full_range_ols_ws_year_Y2014.csv to s3://wri-projects/Aqueduct30/qaData/Y2018M06D22_RH_QA_result_PostGIS_V01/output_V03/full_range_ols_ws_year_Y2014.csv\n",
      "upload: ../../../../data/Y2018M06D22_RH_QA_result_PostGIS_V01/output_V03/full_range_ols_ws_month_Y2014M11.csv to s3://wri-projects/Aqueduct30/qaData/Y2018M06D22_RH_QA_result_PostGIS_V01/output_V03/full_range_ols_ws_month_Y2014M11.csv\n"
     ]
    }
   ],
   "source": [
    "!aws s3 cp {ec2_output_path} {s3_output_path} --recursive"
   ]
  },
  {
   "cell_type": "code",
   "execution_count": null,
   "metadata": {
    "collapsed": true
   },
   "outputs": [],
   "source": []
  },
  {
   "cell_type": "code",
   "execution_count": null,
   "metadata": {
    "collapsed": true
   },
   "outputs": [],
   "source": []
  },
  {
   "cell_type": "code",
   "execution_count": null,
   "metadata": {},
   "outputs": [],
   "source": [
    "df = dfs[\"full_range_ols_ws_year_Y2014.csv\"]"
   ]
  },
  {
   "cell_type": "code",
   "execution_count": null,
   "metadata": {},
   "outputs": [],
   "source": [
    "df.dtypes"
   ]
  },
  {
   "cell_type": "code",
   "execution_count": null,
   "metadata": {},
   "outputs": [],
   "source": [
    "df2 = df.loc[df[\"ols_ols10_waterstress_dimensionless_30spfaf06\"] == -9999]"
   ]
  },
  {
   "cell_type": "code",
   "execution_count": null,
   "metadata": {},
   "outputs": [],
   "source": [
    "df2.dtypes"
   ]
  },
  {
   "cell_type": "code",
   "execution_count": null,
   "metadata": {},
   "outputs": [],
   "source": [
    "dfs.keys()"
   ]
  },
  {
   "cell_type": "code",
   "execution_count": null,
   "metadata": {},
   "outputs": [],
   "source": [
    "ax1 = df.plot.scatter(\"year\",\"waterstress_dimensionless_30spfaf06\")\n",
    "ax1.set_ylim(df[\"waterstress_dimensionless_30spfaf06\"].min(),df[\"waterstress_dimensionless_30spfaf06\"].max())"
   ]
  },
  {
   "cell_type": "code",
   "execution_count": null,
   "metadata": {},
   "outputs": [],
   "source": [
    "ax1 = df.plot.scatter(\"year\",\"ols10_waterstress_dimensionless_30spfaf06\")\n",
    "ax1.set_ylim(df[\"ols10_waterstress_dimensionless_30spfaf06\"].min(),df[\"ols10_waterstress_dimensionless_30spfaf06\"].max())"
   ]
  },
  {
   "cell_type": "code",
   "execution_count": null,
   "metadata": {},
   "outputs": [],
   "source": [
    "ax1 = df.plot.scatter(\"year\",\"ols_ols10_waterstress_dimensionless_30spfaf06\")\n",
    "ax1.set_ylim(df[\"ols_ols10_waterstress_dimensionless_30spfaf06\"].min(),df[\"ols_ols10_waterstress_dimensionless_30spfaf06\"].max())"
   ]
  },
  {
   "cell_type": "code",
   "execution_count": null,
   "metadata": {
    "collapsed": true
   },
   "outputs": [],
   "source": [
    "palette = bokeh.palettes.Category20"
   ]
  },
  {
   "cell_type": "code",
   "execution_count": null,
   "metadata": {},
   "outputs": [],
   "source": [
    "output_notebook()"
   ]
  },
  {
   "cell_type": "code",
   "execution_count": null,
   "metadata": {},
   "outputs": [],
   "source": [
    "p = figure(width=900, height=800)\n",
    "p.line(x = df[\"year\"], y = df[\"waterstress_dimensionless_30spfaf06\"],color=\"black\",legend= \"10_waterstress_dimensionless_30spfaf06\")\n",
    "p.line(x = df[\"year\"], y = df[\"ma10_waterstress_dimensionless_30spfaf06\"],color=\"blue\",legend= \"ma10_waterstress_dimensionless_30spfaf06\")\n",
    "p.line(x = df[\"year\"], y = df[\"ols10_waterstress_dimensionless_30spfaf06\"],color=\"red\",legend= \"ols10_waterstress_dimensionless_30spfaf06\")\n",
    "\n",
    "p.legend.location = \"top_left\"\n",
    "p.legend.click_policy=\"hide\"\n",
    "hover = HoverTool(tooltips = [('year', '@x'),\n",
    "                             ('value',  '@y')])\n",
    "p.add_tools(hover)\n",
    "\n",
    "show(p)"
   ]
  },
  {
   "cell_type": "code",
   "execution_count": null,
   "metadata": {
    "collapsed": true
   },
   "outputs": [],
   "source": []
  }
 ],
 "metadata": {
  "kernelspec": {
   "display_name": "Python 35",
   "language": "python",
   "name": "python35"
  },
  "language_info": {
   "codemirror_mode": {
    "name": "ipython",
    "version": 3
   },
   "file_extension": ".py",
   "mimetype": "text/x-python",
   "name": "python",
   "nbconvert_exporter": "python",
   "pygments_lexer": "ipython3",
   "version": "3.5.4"
  }
 },
 "nbformat": 4,
 "nbformat_minor": 2
}
