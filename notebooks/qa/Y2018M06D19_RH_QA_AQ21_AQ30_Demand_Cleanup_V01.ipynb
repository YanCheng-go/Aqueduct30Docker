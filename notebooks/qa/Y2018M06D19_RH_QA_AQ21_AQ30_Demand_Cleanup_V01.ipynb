{
 "cells": [
  {
   "cell_type": "code",
   "execution_count": 14,
   "metadata": {},
   "outputs": [
    {
     "name": "stdout",
     "output_type": "stream",
     "text": [
      "Input GCS : gs://aqueduct30_v01/Y2018M06D18_RH_QA_AQ21_AQ30_Demand_Zonal_Stats_EE_V01/output_V04\n",
      "Input ec2: /volumes/data/Y2018M06D19_RH_QA_AQ21_AQ30_Demand_Cleanup_V01/input_V07\n",
      "Output ec2: /volumes/data/Y2018M06D19_RH_QA_AQ21_AQ30_Demand_Cleanup_V01/output_V07\n",
      "Output s3: /volumes/data/Y2018M06D19_RH_QA_AQ21_AQ30_Demand_Cleanup_V01/output_V07\n"
     ]
    }
   ],
   "source": [
    "\"\"\" Combine zonal statistics of different indicators and calculate flux. \n",
    "-------------------------------------------------------------------------------\n",
    "zonal_stats_ca_aq21ee_export.csv\n",
    "\n",
    "Author: Rutger Hofste\n",
    "Date: 20180619\n",
    "Kernel: python35\n",
    "Docker: rutgerhofste/gisdocker:ubuntu16.04\n",
    "\n",
    "Args:\n",
    "\n",
    "\n",
    "\"\"\"\n",
    "\n",
    "OVERWRITE = 1\n",
    "TESTING = 0\n",
    "SCRIPT_NAME = \"Y2018M06D19_RH_QA_AQ21_AQ30_Demand_Cleanup_V01\"\n",
    "OUTPUT_VERSION = 7\n",
    "\n",
    "EXCLUDE_BASIN = 353020\n",
    "\n",
    "GCS_INPUT_PATH = \"gs://aqueduct30_v01/Y2018M06D18_RH_QA_AQ21_AQ30_Demand_Zonal_Stats_EE_V01/output_V04\"\n",
    "\n",
    "AQ21_SHAPEFILE_S3_INPUT_PATH = \"s3://wri-projects/Aqueduct30/qaData/Y2018M06D05_RH_QA_Aqueduct21_Flux_Shapefile_V01/output_V05\"\n",
    "AQ30_SHAPEFILE_S3_INPUT_PATH = \"s3://wri-projects/Aqueduct30/processData/Y2017M08D02_RH_Merge_HydroBasins_V02/output_V04/\"\n",
    "AQ21PROJ_SHAPEFILE_S3_INPUT_PATH = \"s3://wri-projects/Aqueduct30/qaData/Y2018M06D19_RH_QA_Download_Aq21projection_Shapefile_V01/output_V01\"\n",
    "\n",
    "AQ21_INPUT_FILE_NAME = \"aqueduct21_flux\"\n",
    "AQ30_INPUT_FILE_NAME = \"hybas_lev06_v1c_merged_fiona_V04\"\n",
    "AQ21PROJ_INPUT_FILE_NAME = \"aqueduct21projection_flux\"\n",
    "\n",
    "ECKERT_IV_PROJ4_STRING = \"+proj=eck4 +lon_0=0 +x_0=0 +y_0=0 +datum=WGS84 +units=m +no_defs\"\n",
    "\n",
    "ec2_input_path = \"/volumes/data/{}/input_V{:02.0f}\".format(SCRIPT_NAME,OUTPUT_VERSION)\n",
    "ec2_output_path = \"/volumes/data/{}/output_V{:02.0f}\".format(SCRIPT_NAME,OUTPUT_VERSION) \n",
    "s3_output_path = \"s3://wri-projects/Aqueduct30/qaData/{}/output_V{:02.0f}\".format(SCRIPT_NAME,OUTPUT_VERSION)\n",
    "\n",
    "print(\"Input GCS : \" + GCS_INPUT_PATH +\n",
    "      \"\\nInput ec2: \" + ec2_input_path + \n",
    "      \"\\nOutput ec2: \" + ec2_output_path +\n",
    "      \"\\nOutput s3: \" + ec2_output_path)"
   ]
  },
  {
   "cell_type": "code",
   "execution_count": 2,
   "metadata": {},
   "outputs": [
    {
     "name": "stdout",
     "output_type": "stream",
     "text": [
      "Y2018M06D21 UTC 08:49\n"
     ]
    },
    {
     "data": {
      "text/plain": [
       "'3.5.4 |Anaconda, Inc.| (default, Nov 20 2017, 18:44:38) \\n[GCC 7.2.0]'"
      ]
     },
     "execution_count": 2,
     "metadata": {},
     "output_type": "execute_result"
    }
   ],
   "source": [
    "import time, datetime, sys, logging\n",
    "dateString = time.strftime(\"Y%YM%mD%d\")\n",
    "timeString = time.strftime(\"UTC %H:%M\")\n",
    "start = datetime.datetime.now()\n",
    "print(dateString,timeString)\n",
    "sys.version"
   ]
  },
  {
   "cell_type": "code",
   "execution_count": 3,
   "metadata": {
    "collapsed": true
   },
   "outputs": [],
   "source": [
    "import geopandas as gpd\n",
    "import pandas as pd\n",
    "pd.set_option(\"display.max_columns\",500)"
   ]
  },
  {
   "cell_type": "code",
   "execution_count": 4,
   "metadata": {},
   "outputs": [
    {
     "name": "stdout",
     "output_type": "stream",
     "text": [
      "rm: cannot remove '/volumes/data/Y2018M06D19_RH_QA_AQ21_AQ30_Demand_Cleanup_V01/input_V07': No such file or directory\n",
      "rm: cannot remove '/volumes/data/Y2018M06D19_RH_QA_AQ21_AQ30_Demand_Cleanup_V01/output_V07': No such file or directory\n"
     ]
    }
   ],
   "source": [
    "if OVERWRITE:\n",
    "    !rm -r {ec2_input_path}\n",
    "    !rm -r {ec2_output_path}\n",
    "    !mkdir -p {ec2_input_path}\n",
    "    !mkdir -p {ec2_output_path}\n",
    "else: \n",
    "    !mkdir -p {ec2_input_path}\n",
    "    !mkdir -p {ec2_output_path}"
   ]
  },
  {
   "cell_type": "code",
   "execution_count": 5,
   "metadata": {},
   "outputs": [
    {
     "name": "stdout",
     "output_type": "stream",
     "text": [
      "download: s3://wri-projects/Aqueduct30/qaData/Y2018M06D05_RH_QA_Aqueduct21_Flux_Shapefile_V01/output_V05/aqueduct21_flux.cpg to ../../../../data/Y2018M06D19_RH_QA_AQ21_AQ30_Demand_Cleanup_V01/input_V07/aqueduct21_flux.cpg\n",
      "download: s3://wri-projects/Aqueduct30/qaData/Y2018M06D05_RH_QA_Aqueduct21_Flux_Shapefile_V01/output_V05/aqueduct21_flux.shx to ../../../../data/Y2018M06D19_RH_QA_AQ21_AQ30_Demand_Cleanup_V01/input_V07/aqueduct21_flux.shx\n",
      "download: s3://wri-projects/Aqueduct30/qaData/Y2018M06D05_RH_QA_Aqueduct21_Flux_Shapefile_V01/output_V05/aqueduct21_flux.prj to ../../../../data/Y2018M06D19_RH_QA_AQ21_AQ30_Demand_Cleanup_V01/input_V07/aqueduct21_flux.prj\n",
      "download: s3://wri-projects/Aqueduct30/qaData/Y2018M06D05_RH_QA_Aqueduct21_Flux_Shapefile_V01/output_V05/aqueduct21_flux.shp to ../../../../data/Y2018M06D19_RH_QA_AQ21_AQ30_Demand_Cleanup_V01/input_V07/aqueduct21_flux.shp\n",
      "download: s3://wri-projects/Aqueduct30/qaData/Y2018M06D05_RH_QA_Aqueduct21_Flux_Shapefile_V01/output_V05/aqueduct21_flux.dbf to ../../../../data/Y2018M06D19_RH_QA_AQ21_AQ30_Demand_Cleanup_V01/input_V07/aqueduct21_flux.dbf\n"
     ]
    }
   ],
   "source": [
    "# Aq 21 shapefile\n",
    "!aws s3 cp {AQ21_SHAPEFILE_S3_INPUT_PATH} {ec2_input_path} --recursive"
   ]
  },
  {
   "cell_type": "code",
   "execution_count": 6,
   "metadata": {},
   "outputs": [
    {
     "name": "stdout",
     "output_type": "stream",
     "text": [
      "download: s3://wri-projects/Aqueduct30/processData/Y2017M08D02_RH_Merge_HydroBasins_V02/output_V04/hybas_lev06_v1c_merged_fiona_V04.cpg to ../../../../data/Y2018M06D19_RH_QA_AQ21_AQ30_Demand_Cleanup_V01/input_V07/hybas_lev06_v1c_merged_fiona_V04.cpg\n",
      "download: s3://wri-projects/Aqueduct30/processData/Y2017M08D02_RH_Merge_HydroBasins_V02/output_V04/hybas_lev06_v1c_merged_fiona_V04.prj to ../../../../data/Y2018M06D19_RH_QA_AQ21_AQ30_Demand_Cleanup_V01/input_V07/hybas_lev06_v1c_merged_fiona_V04.prj\n",
      "download: s3://wri-projects/Aqueduct30/processData/Y2017M08D02_RH_Merge_HydroBasins_V02/output_V04/hybas_lev06_v1c_merged_fiona_V04.shx to ../../../../data/Y2018M06D19_RH_QA_AQ21_AQ30_Demand_Cleanup_V01/input_V07/hybas_lev06_v1c_merged_fiona_V04.shx\n",
      "download: s3://wri-projects/Aqueduct30/processData/Y2017M08D02_RH_Merge_HydroBasins_V02/output_V04/hybas_lev06_v1c_merged_fiona_V04.dbf to ../../../../data/Y2018M06D19_RH_QA_AQ21_AQ30_Demand_Cleanup_V01/input_V07/hybas_lev06_v1c_merged_fiona_V04.dbf\n",
      "download: s3://wri-projects/Aqueduct30/processData/Y2017M08D02_RH_Merge_HydroBasins_V02/output_V04/hybas_lev06_v1c_merged_fiona_V04.shp to ../../../../data/Y2018M06D19_RH_QA_AQ21_AQ30_Demand_Cleanup_V01/input_V07/hybas_lev06_v1c_merged_fiona_V04.shp\n"
     ]
    }
   ],
   "source": [
    "# Aq 30 shapefile\n",
    "!aws s3 cp {AQ30_SHAPEFILE_S3_INPUT_PATH} {ec2_input_path} --recursive --exclude \"*\" --include \"hybas_lev06_v1c_merged_fiona_V04*\""
   ]
  },
  {
   "cell_type": "code",
   "execution_count": 7,
   "metadata": {},
   "outputs": [
    {
     "name": "stdout",
     "output_type": "stream",
     "text": [
      "download: s3://wri-projects/Aqueduct30/qaData/Y2018M06D19_RH_QA_Download_Aq21projection_Shapefile_V01/output_V01/aqueduct21projection_flux.cpg to ../../../../data/Y2018M06D19_RH_QA_AQ21_AQ30_Demand_Cleanup_V01/input_V07/aqueduct21projection_flux.cpg\n",
      "download: s3://wri-projects/Aqueduct30/qaData/Y2018M06D19_RH_QA_Download_Aq21projection_Shapefile_V01/output_V01/aqueduct21projection_flux.prj to ../../../../data/Y2018M06D19_RH_QA_AQ21_AQ30_Demand_Cleanup_V01/input_V07/aqueduct21projection_flux.prj\n",
      "download: s3://wri-projects/Aqueduct30/qaData/Y2018M06D19_RH_QA_Download_Aq21projection_Shapefile_V01/output_V01/aqueduct21projection_flux.shx to ../../../../data/Y2018M06D19_RH_QA_AQ21_AQ30_Demand_Cleanup_V01/input_V07/aqueduct21projection_flux.shx\n",
      "download: s3://wri-projects/Aqueduct30/qaData/Y2018M06D19_RH_QA_Download_Aq21projection_Shapefile_V01/output_V01/aqueduct21projection_flux.dbf to ../../../../data/Y2018M06D19_RH_QA_AQ21_AQ30_Demand_Cleanup_V01/input_V07/aqueduct21projection_flux.dbf\n",
      "download: s3://wri-projects/Aqueduct30/qaData/Y2018M06D19_RH_QA_Download_Aq21projection_Shapefile_V01/output_V01/aqueduct21projection_flux.shp to ../../../../data/Y2018M06D19_RH_QA_AQ21_AQ30_Demand_Cleanup_V01/input_V07/aqueduct21projection_flux.shp\n"
     ]
    }
   ],
   "source": [
    "# Aq 21 proj shapefile\n",
    "!aws s3 cp {AQ21PROJ_SHAPEFILE_S3_INPUT_PATH} {ec2_input_path} --recursive"
   ]
  },
  {
   "cell_type": "code",
   "execution_count": 8,
   "metadata": {},
   "outputs": [
    {
     "name": "stdout",
     "output_type": "stream",
     "text": [
      "Copying gs://aqueduct30_v01/Y2018M06D18_RH_QA_AQ21_AQ30_Demand_Zonal_Stats_EE_V01/output_V04/zonal_stats_ca_aq21ee_export.csv...\n",
      "Copying gs://aqueduct30_v01/Y2018M06D18_RH_QA_AQ21_AQ30_Demand_Zonal_Stats_EE_V01/output_V04/zonal_stats_ca_aq21projee_export.csv...\n",
      "Copying gs://aqueduct30_v01/Y2018M06D18_RH_QA_AQ21_AQ30_Demand_Zonal_Stats_EE_V01/output_V04/zonal_stats_ca_aq30ee_export.csv...\n",
      "Copying gs://aqueduct30_v01/Y2018M06D18_RH_QA_AQ21_AQ30_Demand_Zonal_Stats_EE_V01/output_V04/zonal_stats_cd_aq21ee_export.csv...\n",
      "| [4 files][ 86.4 MiB/ 86.4 MiB]                                                \n",
      "==> NOTE: You are performing a sequence of gsutil operations that may\n",
      "run significantly faster if you instead use gsutil -m -o ... Please\n",
      "see the -m section under \"gsutil help options\" for further information\n",
      "about when gsutil -m can be advantageous.\n",
      "\n",
      "Copying gs://aqueduct30_v01/Y2018M06D18_RH_QA_AQ21_AQ30_Demand_Zonal_Stats_EE_V01/output_V04/zonal_stats_cd_aq21projee_export.csv...\n",
      "Copying gs://aqueduct30_v01/Y2018M06D18_RH_QA_AQ21_AQ30_Demand_Zonal_Stats_EE_V01/output_V04/zonal_stats_cd_aq30ee_export.csv...\n",
      "Copying gs://aqueduct30_v01/Y2018M06D18_RH_QA_AQ21_AQ30_Demand_Zonal_Stats_EE_V01/output_V04/zonal_stats_ci_aq21ee_export.csv...\n",
      "Copying gs://aqueduct30_v01/Y2018M06D18_RH_QA_AQ21_AQ30_Demand_Zonal_Stats_EE_V01/output_V04/zonal_stats_ci_aq21projee_export.csv...\n",
      "Copying gs://aqueduct30_v01/Y2018M06D18_RH_QA_AQ21_AQ30_Demand_Zonal_Stats_EE_V01/output_V04/zonal_stats_ci_aq30ee_export.csv...\n",
      "Copying gs://aqueduct30_v01/Y2018M06D18_RH_QA_AQ21_AQ30_Demand_Zonal_Stats_EE_V01/output_V04/zonal_stats_ct_aq21ee_export.csv...\n",
      "Copying gs://aqueduct30_v01/Y2018M06D18_RH_QA_AQ21_AQ30_Demand_Zonal_Stats_EE_V01/output_V04/zonal_stats_ct_aq21projee_export.csv...\n",
      "Copying gs://aqueduct30_v01/Y2018M06D18_RH_QA_AQ21_AQ30_Demand_Zonal_Stats_EE_V01/output_V04/zonal_stats_ct_aq30ee_export.csv...\n",
      "Copying gs://aqueduct30_v01/Y2018M06D18_RH_QA_AQ21_AQ30_Demand_Zonal_Stats_EE_V01/output_V04/zonal_stats_ua_aq21ee_export.csv...\n",
      "Copying gs://aqueduct30_v01/Y2018M06D18_RH_QA_AQ21_AQ30_Demand_Zonal_Stats_EE_V01/output_V04/zonal_stats_ua_aq21projee_export.csv...\n",
      "Copying gs://aqueduct30_v01/Y2018M06D18_RH_QA_AQ21_AQ30_Demand_Zonal_Stats_EE_V01/output_V04/zonal_stats_ua_aq30ee_export.csv...\n",
      "Copying gs://aqueduct30_v01/Y2018M06D18_RH_QA_AQ21_AQ30_Demand_Zonal_Stats_EE_V01/output_V04/zonal_stats_ud_aq21ee_export.csv...\n",
      "Copying gs://aqueduct30_v01/Y2018M06D18_RH_QA_AQ21_AQ30_Demand_Zonal_Stats_EE_V01/output_V04/zonal_stats_ud_aq21projee_export.csv...\n",
      "Copying gs://aqueduct30_v01/Y2018M06D18_RH_QA_AQ21_AQ30_Demand_Zonal_Stats_EE_V01/output_V04/zonal_stats_ud_aq30ee_export.csv...\n",
      "Copying gs://aqueduct30_v01/Y2018M06D18_RH_QA_AQ21_AQ30_Demand_Zonal_Stats_EE_V01/output_V04/zonal_stats_ui_aq21ee_export.csv...\n",
      "Copying gs://aqueduct30_v01/Y2018M06D18_RH_QA_AQ21_AQ30_Demand_Zonal_Stats_EE_V01/output_V04/zonal_stats_ui_aq21projee_export.csv...\n",
      "Copying gs://aqueduct30_v01/Y2018M06D18_RH_QA_AQ21_AQ30_Demand_Zonal_Stats_EE_V01/output_V04/zonal_stats_ui_aq30ee_export.csv...\n",
      "Copying gs://aqueduct30_v01/Y2018M06D18_RH_QA_AQ21_AQ30_Demand_Zonal_Stats_EE_V01/output_V04/zonal_stats_ut_aq21ee_export.csv...\n",
      "Copying gs://aqueduct30_v01/Y2018M06D18_RH_QA_AQ21_AQ30_Demand_Zonal_Stats_EE_V01/output_V04/zonal_stats_ut_aq21projee_export.csv...\n",
      "Copying gs://aqueduct30_v01/Y2018M06D18_RH_QA_AQ21_AQ30_Demand_Zonal_Stats_EE_V01/output_V04/zonal_stats_ut_aq30ee_export.csv...\n",
      "| [24 files][511.9 MiB/511.9 MiB]   14.6 MiB/s                                  \n",
      "==> NOTE: You are performing a sequence of gsutil operations that may\n",
      "run significantly faster if you instead use gsutil -m -o ... Please\n",
      "see the -m section under \"gsutil help options\" for further information\n",
      "about when gsutil -m can be advantageous.\n",
      "\n",
      "\n",
      "Operation completed over 24 objects/511.9 MiB.                                   \n"
     ]
    }
   ],
   "source": [
    "# Zonal Stats\n",
    "!gsutil cp {GCS_INPUT_PATH}/* {ec2_input_path}"
   ]
  },
  {
   "cell_type": "code",
   "execution_count": null,
   "metadata": {
    "collapsed": true
   },
   "outputs": [],
   "source": [
    "# Read Shapefiles of Aq2.1 \n",
    "\n",
    "aq21_input_file_path = \"{}/{}.shp\".format(ec2_input_path,AQ21_INPUT_FILE_NAME)\n",
    "gdf_aq21 = gpd.read_file(aq21_input_file_path )\n",
    "gdf_aq21 = gdf_aq21.set_index(\"GU\",drop=False)"
   ]
  },
  {
   "cell_type": "code",
   "execution_count": 17,
   "metadata": {
    "collapsed": true
   },
   "outputs": [],
   "source": [
    "#Aq3.0 \n",
    "aq30_input_file_path = \"{}/{}.shp\".format(ec2_input_path,AQ30_INPUT_FILE_NAME)\n",
    "gdf_aq30 = gpd.read_file(aq30_input_file_path)\n",
    "gdf_aq30 = gdf_aq30[gdf_aq30[\"PFAF_ID\"] != EXCLUDE_BASIN]\n",
    "gdf_aq30_eckert4 = gdf_aq30.to_crs(ECKERT_IV_PROJ4_STRING)\n",
    "gdf_aq30[\"area_m2\"] = gdf_aq30_eckert4.geometry.area\n",
    "gdf_aq30 = gdf_aq30.set_index(\"PFAF_ID\",drop=False)"
   ]
  },
  {
   "cell_type": "code",
   "execution_count": null,
   "metadata": {
    "collapsed": true
   },
   "outputs": [],
   "source": [
    "#Aq21proj\n",
    "aq21proj_input_file_path = \"{}/{}.shp\".format(ec2_input_path,AQ21PROJ_INPUT_FILE_NAME)\n",
    "gdf_aq21proj = gpd.read_file(aq21proj_input_file_path )\n",
    "gdf_aq21proj = gdf_aq21proj.set_index(\"BasinID\",drop=False)"
   ]
  },
  {
   "cell_type": "code",
   "execution_count": null,
   "metadata": {
    "collapsed": true
   },
   "outputs": [],
   "source": [
    "assert gdf_aq21proj.shape[0] == 15006"
   ]
  },
  {
   "cell_type": "code",
   "execution_count": 18,
   "metadata": {
    "collapsed": true
   },
   "outputs": [],
   "source": [
    "assert gdf_aq30.shape[0]== 16397-2 #(There is one basin with a shared PFAF_ID)"
   ]
  },
  {
   "cell_type": "code",
   "execution_count": null,
   "metadata": {
    "collapsed": true
   },
   "outputs": [],
   "source": []
  },
  {
   "cell_type": "code",
   "execution_count": 28,
   "metadata": {},
   "outputs": [
    {
     "name": "stdout",
     "output_type": "stream",
     "text": [
      "aq30 c a\n",
      "(16395, 17)\n",
      "aq30 c d\n",
      "(16395, 17)\n",
      "aq30 c i\n",
      "(16395, 17)\n",
      "aq30 c t\n",
      "(16395, 17)\n",
      "aq30 u a\n",
      "(16395, 17)\n",
      "aq30 u d\n",
      "(16395, 17)\n",
      "aq30 u i\n",
      "(16395, 17)\n",
      "aq30 u t\n",
      "(16395, 17)\n"
     ]
    }
   ],
   "source": [
    "aqueduct_versions = [\"aq21\",\"aq30\",\"aq21proj\"]\n",
    "sectors = [\"a\",\"d\",\"i\",\"t\"]\n",
    "demand_types = [\"c\",\"u\"]\n",
    "\n",
    "\n",
    "for aqueduct_version in aqueduct_versions:  \n",
    "    if aqueduct_version == \"aq21\":\n",
    "        gdf_left = gdf_aq21.copy()\n",
    "        index_name = \"GU\"\n",
    "    elif aqueduct_version == \"aq30\":\n",
    "        gdf_left = gdf_aq30.copy()\n",
    "        index_name = \"PFAF_ID\"\n",
    "    elif aqueduct_version == \"aq21proj\":\n",
    "        gdf_left = gdf_aq21proj.copy()\n",
    "        index_name = \"BasinID\"        \n",
    "    else:\n",
    "        break\n",
    "    \n",
    "    \n",
    "    gdf_merge = gdf_left.copy()    \n",
    "    \n",
    "    for demand_type in demand_types:\n",
    "        for sector in sectors:\n",
    "            print(aqueduct_version,demand_type,sector)\n",
    "            input_file_name = \"zonal_stats_{}{}_{}ee_export.csv\".format(demand_type,sector,aqueduct_version)\n",
    "            input_file_path = ec2_input_path + \"/\" + input_file_name\n",
    "            df_right = pd.read_csv(input_file_path)\n",
    "            \n",
    "            df_right = df_right[[\"sum\",\"count\",index_name]].copy()\n",
    "            df_right = df_right.set_index(index_name,drop=False)\n",
    "            \n",
    "            df_right = df_right.rename(columns={\"sum\":\"sum_{}{}_m3\".format(demand_type,sector),\n",
    "                                                \"count\":\"count_{}{}_dimensionless\".format(demand_type,sector)})\n",
    "            \n",
    "            gdf_merge  = gdf_merge.merge(right=df_right,\n",
    "                                         how=\"left\",\n",
    "                                         left_on = index_name,\n",
    "                                         right_on = index_name,\n",
    "                                         validate = \"one_to_one\")\n",
    "            gdf_merge[\"sum_{}{}_m\".format(demand_type,sector)] = gdf_merge[\"sum_{}{}_m3\".format(demand_type,sector)]/gdf_merge[\"area_m2\"]\n",
    "            print(df_merge.shape)\n",
    "            \n",
    "    gdf_to_disk = gdf_merge.copy()\n",
    "    #gdf_to_disk_geom_only = gdf_to_disk[[index_name,\"geometry\"]]\n",
    "    #df_to_disk = pd.DataFrame(gdf_to_disk.drop(\"geometry\",1))\n",
    "    #output_file_path_no_ext = \"{}/{}\".format(ec2_output_path,aqueduct_version)\n",
    "    \n",
    "    #gdf_to_disk.to_file(driver='ESRI Shapefile', filename=output_file_path_no_ext+\".shp\")\n",
    "    #gdf_to_disk_geom_only.to_file(driver='ESRI Shapefile', filename=output_file_path_no_ext+\"_geom_only.shp\")\n",
    "    #df_to_disk.to_csv(output_file_path_no_ext+\".csv\")\n",
    "    \n",
    "    "
   ]
  },
  {
   "cell_type": "code",
   "execution_count": null,
   "metadata": {
    "collapsed": true
   },
   "outputs": [],
   "source": [
    "!aws s3 cp {ec2_output_path} {s3_output_path} --recursive"
   ]
  },
  {
   "cell_type": "code",
   "execution_count": null,
   "metadata": {
    "collapsed": true
   },
   "outputs": [],
   "source": [
    "end = datetime.datetime.now()\n",
    "elapsed = end - start\n",
    "print(elapsed)"
   ]
  },
  {
   "cell_type": "markdown",
   "metadata": {},
   "source": [
    "Previous runs:  \n",
    "0:08:42.263441"
   ]
  },
  {
   "cell_type": "code",
   "execution_count": null,
   "metadata": {
    "collapsed": true
   },
   "outputs": [],
   "source": []
  }
 ],
 "metadata": {
  "kernelspec": {
   "display_name": "Python 35",
   "language": "python",
   "name": "python35"
  },
  "language_info": {
   "codemirror_mode": {
    "name": "ipython",
    "version": 3
   },
   "file_extension": ".py",
   "mimetype": "text/x-python",
   "name": "python",
   "nbconvert_exporter": "python",
   "pygments_lexer": "ipython3",
   "version": "3.5.4"
  }
 },
 "nbformat": 4,
 "nbformat_minor": 2
}
