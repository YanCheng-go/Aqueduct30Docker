{
 "cells": [
  {
   "cell_type": "code",
   "execution_count": 1,
   "metadata": {},
   "outputs": [
    {
     "name": "stdout",
     "output_type": "stream",
     "text": [
      "\n",
      "Input S3: s3://wri-projects/Aqueduct30/processData/Y2017M07D31_RH_Convert_NetCDF_Geotiff_V02/output_V02/\n",
      "Output S3: s3://wri-projects/Aqueduct30/qaData/Y2018M06D04_RH_QA_download_sample_geotiffs_5min_V01/output_V02/\n"
     ]
    }
   ],
   "source": [
    "\"\"\" Store sample demand and riverdischarge geotiffs in S3 folder. \n",
    "-------------------------------------------------------------------------------\n",
    "\n",
    "Author: Rutger Hofste\n",
    "Date: 20180604\n",
    "Kernel: python35\n",
    "Docker: rutgerhofste/gisdocker:ubuntu16.04\n",
    "\n",
    "\"\"\"\n",
    "\n",
    "SCRIPT_NAME = \"Y2018M06D04_RH_QA_download_sample_geotiffs_5min_V01\"\n",
    "OUTPUT_VERSION = 2\n",
    "\n",
    "S3_INPUT_PATH =  \"s3://wri-projects/Aqueduct30/processData/Y2017M07D31_RH_Convert_NetCDF_Geotiff_V02/output_V02/\"\n",
    "s3_output_path = \"s3://wri-projects/Aqueduct30/qaData/{}/output_V{:02.0f}/\".format(SCRIPT_NAME,OUTPUT_VERSION)\n",
    "\n",
    "print(\"\\nInput S3: \" + S3_INPUT_PATH +\n",
    "      \"\\nOutput S3: \" +  s3_output_path)"
   ]
  },
  {
   "cell_type": "code",
   "execution_count": 2,
   "metadata": {
    "collapsed": true
   },
   "outputs": [],
   "source": [
    "indicator = \"*\" #options: [\"riverdischarge\",\"PDomWW, \"*\" wildcard]\n",
    "temporal_resolution = \"month\"\n",
    "unit = \"*\" # option:  [\"m3second\" or \"milliom3\" to limit to supply or demand.]\n",
    "year = 2010\n",
    "month =  4\n"
   ]
  },
  {
   "cell_type": "code",
   "execution_count": 3,
   "metadata": {
    "collapsed": true
   },
   "outputs": [],
   "source": [
    "import re\n",
    "import os"
   ]
  },
  {
   "cell_type": "code",
   "execution_count": 4,
   "metadata": {
    "collapsed": true
   },
   "outputs": [],
   "source": [
    "filename = \"global_historical_{}_{}_{}_5min_1960_2014_I*Y{:04.0f}M{:02.0f}.tif\".format(indicator,temporal_resolution,unit,year,month)"
   ]
  },
  {
   "cell_type": "code",
   "execution_count": 5,
   "metadata": {},
   "outputs": [
    {
     "data": {
      "text/plain": [
       "'global_historical_*_month_*_5min_1960_2014_I*Y2010M04.tif'"
      ]
     },
     "execution_count": 5,
     "metadata": {},
     "output_type": "execute_result"
    }
   ],
   "source": [
    "filename"
   ]
  },
  {
   "cell_type": "code",
   "execution_count": 6,
   "metadata": {},
   "outputs": [
    {
     "name": "stdout",
     "output_type": "stream",
     "text": [
      "copy: s3://wri-projects/Aqueduct30/processData/Y2017M07D31_RH_Convert_NetCDF_Geotiff_V02/output_V02/global_historical_PDomWN_month_millionm3_5min_1960_2014_I603Y2010M04.tif to s3://wri-projects/Aqueduct30/qaData/Y2018M06D04_RH_QA_download_sample_geotiffs_5min_V01/output_V02/global_historical_PDomWN_month_millionm3_5min_1960_2014_I603Y2010M04.tif\n",
      "copy: s3://wri-projects/Aqueduct30/processData/Y2017M07D31_RH_Convert_NetCDF_Geotiff_V02/output_V02/global_historical_PDomWW_month_millionm3_5min_1960_2014_I603Y2010M04.tif to s3://wri-projects/Aqueduct30/qaData/Y2018M06D04_RH_QA_download_sample_geotiffs_5min_V01/output_V02/global_historical_PDomWW_month_millionm3_5min_1960_2014_I603Y2010M04.tif\n",
      "copy: s3://wri-projects/Aqueduct30/processData/Y2017M07D31_RH_Convert_NetCDF_Geotiff_V02/output_V02/global_historical_PIndWN_month_millionm3_5min_1960_2014_I603Y2010M04.tif to s3://wri-projects/Aqueduct30/qaData/Y2018M06D04_RH_QA_download_sample_geotiffs_5min_V01/output_V02/global_historical_PIndWN_month_millionm3_5min_1960_2014_I603Y2010M04.tif\n",
      "copy: s3://wri-projects/Aqueduct30/processData/Y2017M07D31_RH_Convert_NetCDF_Geotiff_V02/output_V02/global_historical_PIndWW_month_millionm3_5min_1960_2014_I603Y2010M04.tif to s3://wri-projects/Aqueduct30/qaData/Y2018M06D04_RH_QA_download_sample_geotiffs_5min_V01/output_V02/global_historical_PIndWW_month_millionm3_5min_1960_2014_I603Y2010M04.tif\n",
      "copy: s3://wri-projects/Aqueduct30/processData/Y2017M07D31_RH_Convert_NetCDF_Geotiff_V02/output_V02/global_historical_PIrrWN_month_millionm3_5min_1960_2014_I603Y2010M04.tif to s3://wri-projects/Aqueduct30/qaData/Y2018M06D04_RH_QA_download_sample_geotiffs_5min_V01/output_V02/global_historical_PIrrWN_month_millionm3_5min_1960_2014_I603Y2010M04.tif\n",
      "copy: s3://wri-projects/Aqueduct30/processData/Y2017M07D31_RH_Convert_NetCDF_Geotiff_V02/output_V02/global_historical_PIrrWW_month_millionm3_5min_1960_2014_I603Y2010M04.tif to s3://wri-projects/Aqueduct30/qaData/Y2018M06D04_RH_QA_download_sample_geotiffs_5min_V01/output_V02/global_historical_PIrrWW_month_millionm3_5min_1960_2014_I603Y2010M04.tif\n",
      "copy: s3://wri-projects/Aqueduct30/processData/Y2017M07D31_RH_Convert_NetCDF_Geotiff_V02/output_V02/global_historical_PLivWN_month_millionm3_5min_1960_2014_I603Y2010M04.tif to s3://wri-projects/Aqueduct30/qaData/Y2018M06D04_RH_QA_download_sample_geotiffs_5min_V01/output_V02/global_historical_PLivWN_month_millionm3_5min_1960_2014_I603Y2010M04.tif\n",
      "copy: s3://wri-projects/Aqueduct30/processData/Y2017M07D31_RH_Convert_NetCDF_Geotiff_V02/output_V02/global_historical_aqbasinwaterstress_month_dimensionless_5min_1960_2014_I603Y2010M04.tif to s3://wri-projects/Aqueduct30/qaData/Y2018M06D04_RH_QA_download_sample_geotiffs_5min_V01/output_V02/global_historical_aqbasinwaterstress_month_dimensionless_5min_1960_2014_I603Y2010M04.tif\n",
      "copy: s3://wri-projects/Aqueduct30/processData/Y2017M07D31_RH_Convert_NetCDF_Geotiff_V02/output_V02/global_historical_PLivWW_month_millionm3_5min_1960_2014_I603Y2010M04.tif to s3://wri-projects/Aqueduct30/qaData/Y2018M06D04_RH_QA_download_sample_geotiffs_5min_V01/output_V02/global_historical_PLivWW_month_millionm3_5min_1960_2014_I603Y2010M04.tif\n",
      "copy: s3://wri-projects/Aqueduct30/processData/Y2017M07D31_RH_Convert_NetCDF_Geotiff_V02/output_V02/global_historical_griddedwaterstress_month_dimensionless_5min_1960_2014_I603Y2010M04.tif to s3://wri-projects/Aqueduct30/qaData/Y2018M06D04_RH_QA_download_sample_geotiffs_5min_V01/output_V02/global_historical_griddedwaterstress_month_dimensionless_5min_1960_2014_I603Y2010M04.tif\n",
      "copy: s3://wri-projects/Aqueduct30/processData/Y2017M07D31_RH_Convert_NetCDF_Geotiff_V02/output_V02/global_historical_riverdischarge_month_m3second_5min_1960_2014_I603Y2010M04.tif to s3://wri-projects/Aqueduct30/qaData/Y2018M06D04_RH_QA_download_sample_geotiffs_5min_V01/output_V02/global_historical_riverdischarge_month_m3second_5min_1960_2014_I603Y2010M04.tif\n"
     ]
    }
   ],
   "source": [
    "!aws s3 cp {S3_INPUT_PATH} {s3_output_path} --recursive --exclude \"*\" --include {filename}"
   ]
  },
  {
   "cell_type": "markdown",
   "metadata": {
    "collapsed": true
   },
   "source": [
    "https://code.earthengine.google.com/6da1c9ab09c4296ebf814ca720cfee54"
   ]
  },
  {
   "cell_type": "code",
   "execution_count": null,
   "metadata": {
    "collapsed": true
   },
   "outputs": [],
   "source": []
  }
 ],
 "metadata": {
  "kernelspec": {
   "display_name": "Python 35",
   "language": "python",
   "name": "python35"
  },
  "language_info": {
   "codemirror_mode": {
    "name": "ipython",
    "version": 3
   },
   "file_extension": ".py",
   "mimetype": "text/x-python",
   "name": "python",
   "nbconvert_exporter": "python",
   "pygments_lexer": "ipython3",
   "version": "3.5.4"
  }
 },
 "nbformat": 4,
 "nbformat_minor": 2
}
