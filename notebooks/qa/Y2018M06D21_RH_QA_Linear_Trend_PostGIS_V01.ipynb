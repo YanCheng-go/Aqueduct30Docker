{
 "cells": [
  {
   "cell_type": "code",
   "execution_count": 1,
   "metadata": {},
   "outputs": [
    {
     "name": "stdout",
     "output_type": "stream",
     "text": [
      "Input Table:  y2018m06d01_rh_temporal_reducers_postgis_30spfaf06_v01_v01 \n",
      "Inout Table Hybas:  hybas06_v04 \n",
      "Output Table:  y2018m06d21_rh_qa_linear_trend_postgis_v01_v01\n"
     ]
    }
   ],
   "source": [
    "\"\"\" Check if linear trend is implemented correctly.\n",
    "-------------------------------------------------------------------------------\n",
    "\n",
    "Author: Rutger Hofste\n",
    "Date: 20180621\n",
    "Kernel: python35\n",
    "Docker: rutgerhofste/gisdocker:ubuntu16.04\n",
    "\n",
    "Args:\n",
    "    TESTING (Boolean) : Toggle testing case.\n",
    "    SCRIPT_NAME (string) : Script name.\n",
    "    OUTPUT_VERSION (integer) : output version.\n",
    "    DATABASE_ENDPOINT (string) : RDS or postGreSQL endpoint.\n",
    "    DATABASE_NAME (string) : Database name.\n",
    "    TABLE_NAME_AREA_30SPFAF06 (string) : Table name used for areas. Must exist\n",
    "        on same database as used in rest of script.\n",
    "    S3_INPUT_PATH_RIVERDISCHARGE (string) : AWS S3 input path for \n",
    "        riverdischarge.    \n",
    "    S3_INPUT_PATH_DEMAND (string) : AWS S3 input path for \n",
    "        demand.     \n",
    "\n",
    "\"\"\"\n",
    "\n",
    "\n",
    "OVERWRITE_OUTPUT = 1\n",
    "SCRIPT_NAME = 'Y2018M06D21_RH_QA_Linear_Trend_PostGIS_V01'\n",
    "OUTPUT_VERSION = 1\n",
    "\n",
    "DATABASE_ENDPOINT = \"aqueduct30v05.cgpnumwmfcqc.eu-central-1.rds.amazonaws.com\"\n",
    "DATABASE_NAME = \"database01\"\n",
    "\n",
    "INPUT_TABLE_NAME = 'y2018m06d01_rh_temporal_reducers_postgis_30spfaf06_v01_v01'\n",
    "OUTPUT_TABLE_NAME = SCRIPT_NAME.lower() + \"_v{:02.0f}\".format(OUTPUT_VERSION)\n",
    "OUTPUT_SCHEMA_NAME = \"test\"\n",
    "\n",
    "INPUT_TABLE_HYBAS = \"hybas06_v04\"\n",
    "\n",
    "TEST_BASIN_PFAF_ID = 231607\n",
    "MONTH = 5\n",
    "TEMPORAL_RESOLUTION = \"month\"\n",
    "\n",
    "print(\"Input Table: \" , INPUT_TABLE_NAME, \n",
    "      \"\\nInout Table Hybas: \", INPUT_TABLE_HYBAS,\n",
    "      \"\\nOutput Table: \" , OUTPUT_TABLE_NAME)"
   ]
  },
  {
   "cell_type": "code",
   "execution_count": 2,
   "metadata": {},
   "outputs": [
    {
     "name": "stdout",
     "output_type": "stream",
     "text": [
      "Y2018M06D22 UTC 10:58\n"
     ]
    },
    {
     "data": {
      "text/plain": [
       "'3.5.4 |Anaconda, Inc.| (default, Nov 20 2017, 18:44:38) \\n[GCC 7.2.0]'"
      ]
     },
     "execution_count": 2,
     "metadata": {},
     "output_type": "execute_result"
    }
   ],
   "source": [
    "import time, datetime, sys\n",
    "dateString = time.strftime(\"Y%YM%mD%d\")\n",
    "timeString = time.strftime(\"UTC %H:%M\")\n",
    "start = datetime.datetime.now()\n",
    "print(dateString,timeString)\n",
    "sys.version"
   ]
  },
  {
   "cell_type": "code",
   "execution_count": 91,
   "metadata": {
    "collapsed": true
   },
   "outputs": [],
   "source": [
    "# imports\n",
    "import re\n",
    "import os\n",
    "import numpy as np\n",
    "import pandas as pd\n",
    "import geopandas as gpd\n",
    "import matplotlib.pyplot as plt\n",
    "import aqueduct3\n",
    "from datetime import timedelta\n",
    "from sqlalchemy import *\n",
    "pd.set_option('display.max_columns', 500)\n",
    "\n",
    "from sklearn import linear_model\n",
    "%matplotlib inline"
   ]
  },
  {
   "cell_type": "code",
   "execution_count": 4,
   "metadata": {
    "collapsed": true
   },
   "outputs": [],
   "source": [
    "F = open(\"/.password\",\"r\")\n",
    "password = F.read().splitlines()[0]\n",
    "F.close()\n",
    "\n",
    "engine = create_engine(\"postgresql://rutgerhofste:{}@{}:5432/{}\".format(password,DATABASE_ENDPOINT,DATABASE_NAME))\n",
    "connection = engine.connect()"
   ]
  },
  {
   "cell_type": "markdown",
   "metadata": {},
   "source": [
    "# Raw Values"
   ]
  },
  {
   "cell_type": "code",
   "execution_count": 5,
   "metadata": {
    "collapsed": true
   },
   "outputs": [],
   "source": [
    "sql = (\"SELECT * FROM {} \"\n",
    "       \"WHERE pfafid_30spfaf06 = {} AND \"\n",
    "       \"month = {} AND \"\n",
    "       \"temporal_resolution = '{}'\".format(INPUT_TABLE_NAME,TEST_BASIN_PFAF_ID,MONTH,TEMPORAL_RESOLUTION))"
   ]
  },
  {
   "cell_type": "code",
   "execution_count": 6,
   "metadata": {},
   "outputs": [
    {
     "name": "stdout",
     "output_type": "stream",
     "text": [
      "SELECT * FROM y2018m06d01_rh_temporal_reducers_postgis_30spfaf06_v01_v01 WHERE pfafid_30spfaf06 = 231607 AND month = 5 AND temporal_resolution = 'month'\n"
     ]
    }
   ],
   "source": [
    "print(sql)"
   ]
  },
  {
   "cell_type": "code",
   "execution_count": 7,
   "metadata": {
    "collapsed": true
   },
   "outputs": [],
   "source": [
    "df_og = pd.read_sql(sql,connection)"
   ]
  },
  {
   "cell_type": "code",
   "execution_count": 8,
   "metadata": {},
   "outputs": [
    {
     "data": {
      "text/html": [
       "<div>\n",
       "<style scoped>\n",
       "    .dataframe tbody tr th:only-of-type {\n",
       "        vertical-align: middle;\n",
       "    }\n",
       "\n",
       "    .dataframe tbody tr th {\n",
       "        vertical-align: top;\n",
       "    }\n",
       "\n",
       "    .dataframe thead th {\n",
       "        text-align: right;\n",
       "    }\n",
       "</style>\n",
       "<table border=\"1\" class=\"dataframe\">\n",
       "  <thead>\n",
       "    <tr style=\"text-align: right;\">\n",
       "      <th></th>\n",
       "      <th>pfafid_30spfaf06</th>\n",
       "      <th>temporal_resolution</th>\n",
       "      <th>year</th>\n",
       "      <th>month</th>\n",
       "      <th>area_m2_30spfaf06</th>\n",
       "      <th>area_count_30spfaf06</th>\n",
       "      <th>pdomww_m_30spfaf06</th>\n",
       "      <th>pdomwn_m_30spfaf06</th>\n",
       "      <th>pindww_m_30spfaf06</th>\n",
       "      <th>pindwn_m_30spfaf06</th>\n",
       "      <th>pirrww_m_30spfaf06</th>\n",
       "      <th>pirrwn_m_30spfaf06</th>\n",
       "      <th>plivww_m_30spfaf06</th>\n",
       "      <th>plivwn_m_30spfaf06</th>\n",
       "      <th>ptotww_m_30spfaf06</th>\n",
       "      <th>ptotwn_m_30spfaf06</th>\n",
       "      <th>riverdischarge_m_30spfaf06</th>\n",
       "      <th>ma10_pdomww_m_30spfaf06</th>\n",
       "      <th>slope10_pdomww_m_30spfaf06</th>\n",
       "      <th>intercept10_pdomww_m_30spfaf06</th>\n",
       "      <th>ols10_pdomww_m_30spfaf06</th>\n",
       "      <th>ma10_pdomwn_m_30spfaf06</th>\n",
       "      <th>slope10_pdomwn_m_30spfaf06</th>\n",
       "      <th>intercept10_pdomwn_m_30spfaf06</th>\n",
       "      <th>ols10_pdomwn_m_30spfaf06</th>\n",
       "      <th>ma10_pindww_m_30spfaf06</th>\n",
       "      <th>slope10_pindww_m_30spfaf06</th>\n",
       "      <th>intercept10_pindww_m_30spfaf06</th>\n",
       "      <th>ols10_pindww_m_30spfaf06</th>\n",
       "      <th>ma10_pindwn_m_30spfaf06</th>\n",
       "      <th>slope10_pindwn_m_30spfaf06</th>\n",
       "      <th>intercept10_pindwn_m_30spfaf06</th>\n",
       "      <th>ols10_pindwn_m_30spfaf06</th>\n",
       "      <th>ma10_pirrww_m_30spfaf06</th>\n",
       "      <th>slope10_pirrww_m_30spfaf06</th>\n",
       "      <th>intercept10_pirrww_m_30spfaf06</th>\n",
       "      <th>ols10_pirrww_m_30spfaf06</th>\n",
       "      <th>ma10_pirrwn_m_30spfaf06</th>\n",
       "      <th>slope10_pirrwn_m_30spfaf06</th>\n",
       "      <th>intercept10_pirrwn_m_30spfaf06</th>\n",
       "      <th>ols10_pirrwn_m_30spfaf06</th>\n",
       "      <th>ma10_plivww_m_30spfaf06</th>\n",
       "      <th>slope10_plivww_m_30spfaf06</th>\n",
       "      <th>intercept10_plivww_m_30spfaf06</th>\n",
       "      <th>ols10_plivww_m_30spfaf06</th>\n",
       "      <th>ma10_plivwn_m_30spfaf06</th>\n",
       "      <th>slope10_plivwn_m_30spfaf06</th>\n",
       "      <th>intercept10_plivwn_m_30spfaf06</th>\n",
       "      <th>ols10_plivwn_m_30spfaf06</th>\n",
       "      <th>ma10_ptotww_m_30spfaf06</th>\n",
       "      <th>slope10_ptotww_m_30spfaf06</th>\n",
       "      <th>intercept10_ptotww_m_30spfaf06</th>\n",
       "      <th>ols10_ptotww_m_30spfaf06</th>\n",
       "      <th>ma10_ptotwn_m_30spfaf06</th>\n",
       "      <th>slope10_ptotwn_m_30spfaf06</th>\n",
       "      <th>intercept10_ptotwn_m_30spfaf06</th>\n",
       "      <th>ols10_ptotwn_m_30spfaf06</th>\n",
       "      <th>ma10_riverdischarge_m_30spfaf06</th>\n",
       "      <th>slope10_riverdischarge_m_30spfaf06</th>\n",
       "      <th>intercept10_riverdischarge_m_30spfaf06</th>\n",
       "      <th>ols10_riverdischarge_m_30spfaf06</th>\n",
       "    </tr>\n",
       "  </thead>\n",
       "  <tbody>\n",
       "    <tr>\n",
       "      <th>0</th>\n",
       "      <td>231607</td>\n",
       "      <td>month</td>\n",
       "      <td>1960</td>\n",
       "      <td>5</td>\n",
       "      <td>1.613991e+10</td>\n",
       "      <td>24502</td>\n",
       "      <td>0.000114</td>\n",
       "      <td>0.000082</td>\n",
       "      <td>0.000620</td>\n",
       "      <td>0.000186</td>\n",
       "      <td>0.000545</td>\n",
       "      <td>0.000297</td>\n",
       "      <td>0.000002</td>\n",
       "      <td>0.000002</td>\n",
       "      <td>0.001280</td>\n",
       "      <td>0.000567</td>\n",
       "      <td>0.033538</td>\n",
       "      <td>0.000114</td>\n",
       "      <td>NaN</td>\n",
       "      <td>NaN</td>\n",
       "      <td>NaN</td>\n",
       "      <td>0.000082</td>\n",
       "      <td>NaN</td>\n",
       "      <td>NaN</td>\n",
       "      <td>NaN</td>\n",
       "      <td>0.000620</td>\n",
       "      <td>NaN</td>\n",
       "      <td>NaN</td>\n",
       "      <td>NaN</td>\n",
       "      <td>0.000186</td>\n",
       "      <td>NaN</td>\n",
       "      <td>NaN</td>\n",
       "      <td>NaN</td>\n",
       "      <td>0.000545</td>\n",
       "      <td>NaN</td>\n",
       "      <td>NaN</td>\n",
       "      <td>NaN</td>\n",
       "      <td>0.000297</td>\n",
       "      <td>NaN</td>\n",
       "      <td>NaN</td>\n",
       "      <td>NaN</td>\n",
       "      <td>0.000002</td>\n",
       "      <td>NaN</td>\n",
       "      <td>NaN</td>\n",
       "      <td>NaN</td>\n",
       "      <td>0.000002</td>\n",
       "      <td>NaN</td>\n",
       "      <td>NaN</td>\n",
       "      <td>NaN</td>\n",
       "      <td>0.001280</td>\n",
       "      <td>NaN</td>\n",
       "      <td>NaN</td>\n",
       "      <td>NaN</td>\n",
       "      <td>0.000567</td>\n",
       "      <td>NaN</td>\n",
       "      <td>NaN</td>\n",
       "      <td>NaN</td>\n",
       "      <td>0.033538</td>\n",
       "      <td>NaN</td>\n",
       "      <td>NaN</td>\n",
       "      <td>NaN</td>\n",
       "    </tr>\n",
       "    <tr>\n",
       "      <th>1</th>\n",
       "      <td>231607</td>\n",
       "      <td>month</td>\n",
       "      <td>1961</td>\n",
       "      <td>5</td>\n",
       "      <td>1.613991e+10</td>\n",
       "      <td>24502</td>\n",
       "      <td>0.000120</td>\n",
       "      <td>0.000086</td>\n",
       "      <td>0.000646</td>\n",
       "      <td>0.000194</td>\n",
       "      <td>0.000999</td>\n",
       "      <td>0.000544</td>\n",
       "      <td>0.000002</td>\n",
       "      <td>0.000002</td>\n",
       "      <td>0.001767</td>\n",
       "      <td>0.000826</td>\n",
       "      <td>0.014333</td>\n",
       "      <td>0.000117</td>\n",
       "      <td>0.000006</td>\n",
       "      <td>-0.011730</td>\n",
       "      <td>0.000120</td>\n",
       "      <td>0.000084</td>\n",
       "      <td>0.000004</td>\n",
       "      <td>-0.007930</td>\n",
       "      <td>0.000086</td>\n",
       "      <td>0.000633</td>\n",
       "      <td>0.000027</td>\n",
       "      <td>-0.051708</td>\n",
       "      <td>0.000646</td>\n",
       "      <td>0.000190</td>\n",
       "      <td>0.000008</td>\n",
       "      <td>-0.015512</td>\n",
       "      <td>0.000194</td>\n",
       "      <td>0.000772</td>\n",
       "      <td>0.000454</td>\n",
       "      <td>-0.888801</td>\n",
       "      <td>0.000999</td>\n",
       "      <td>0.000421</td>\n",
       "      <td>0.000247</td>\n",
       "      <td>-0.484397</td>\n",
       "      <td>0.000544</td>\n",
       "      <td>0.000002</td>\n",
       "      <td>-7.708996e-08</td>\n",
       "      <td>0.000153</td>\n",
       "      <td>0.000002</td>\n",
       "      <td>0.000002</td>\n",
       "      <td>-7.708996e-08</td>\n",
       "      <td>0.000153</td>\n",
       "      <td>0.000002</td>\n",
       "      <td>0.001524</td>\n",
       "      <td>0.000486</td>\n",
       "      <td>-0.952086</td>\n",
       "      <td>0.001767</td>\n",
       "      <td>0.000696</td>\n",
       "      <td>0.000259</td>\n",
       "      <td>-0.507686</td>\n",
       "      <td>0.000826</td>\n",
       "      <td>0.023935</td>\n",
       "      <td>-0.019205</td>\n",
       "      <td>37.674540</td>\n",
       "      <td>0.014333</td>\n",
       "    </tr>\n",
       "    <tr>\n",
       "      <th>2</th>\n",
       "      <td>231607</td>\n",
       "      <td>month</td>\n",
       "      <td>1962</td>\n",
       "      <td>5</td>\n",
       "      <td>1.613991e+10</td>\n",
       "      <td>24502</td>\n",
       "      <td>0.000127</td>\n",
       "      <td>0.000086</td>\n",
       "      <td>0.000678</td>\n",
       "      <td>0.000136</td>\n",
       "      <td>0.000553</td>\n",
       "      <td>0.000301</td>\n",
       "      <td>0.000002</td>\n",
       "      <td>0.000002</td>\n",
       "      <td>0.001359</td>\n",
       "      <td>0.000524</td>\n",
       "      <td>0.031136</td>\n",
       "      <td>0.000120</td>\n",
       "      <td>0.000007</td>\n",
       "      <td>-0.012737</td>\n",
       "      <td>0.000127</td>\n",
       "      <td>0.000084</td>\n",
       "      <td>0.000002</td>\n",
       "      <td>-0.003840</td>\n",
       "      <td>0.000086</td>\n",
       "      <td>0.000648</td>\n",
       "      <td>0.000029</td>\n",
       "      <td>-0.056234</td>\n",
       "      <td>0.000677</td>\n",
       "      <td>0.000172</td>\n",
       "      <td>-0.000025</td>\n",
       "      <td>0.049563</td>\n",
       "      <td>0.000147</td>\n",
       "      <td>0.000699</td>\n",
       "      <td>0.000004</td>\n",
       "      <td>-0.006777</td>\n",
       "      <td>0.000703</td>\n",
       "      <td>0.000381</td>\n",
       "      <td>0.000002</td>\n",
       "      <td>-0.003694</td>\n",
       "      <td>0.000383</td>\n",
       "      <td>0.000002</td>\n",
       "      <td>-7.435336e-08</td>\n",
       "      <td>0.000148</td>\n",
       "      <td>0.000002</td>\n",
       "      <td>0.000002</td>\n",
       "      <td>-7.435336e-08</td>\n",
       "      <td>0.000148</td>\n",
       "      <td>0.000002</td>\n",
       "      <td>0.001469</td>\n",
       "      <td>0.000039</td>\n",
       "      <td>-0.075600</td>\n",
       "      <td>0.001508</td>\n",
       "      <td>0.000639</td>\n",
       "      <td>-0.000021</td>\n",
       "      <td>0.042177</td>\n",
       "      <td>0.000618</td>\n",
       "      <td>0.026336</td>\n",
       "      <td>-0.001201</td>\n",
       "      <td>2.380821</td>\n",
       "      <td>0.025135</td>\n",
       "    </tr>\n",
       "    <tr>\n",
       "      <th>3</th>\n",
       "      <td>231607</td>\n",
       "      <td>month</td>\n",
       "      <td>1963</td>\n",
       "      <td>5</td>\n",
       "      <td>1.613991e+10</td>\n",
       "      <td>24502</td>\n",
       "      <td>0.000135</td>\n",
       "      <td>0.000091</td>\n",
       "      <td>0.000713</td>\n",
       "      <td>0.000143</td>\n",
       "      <td>0.000713</td>\n",
       "      <td>0.000389</td>\n",
       "      <td>0.000002</td>\n",
       "      <td>0.000002</td>\n",
       "      <td>0.001563</td>\n",
       "      <td>0.000624</td>\n",
       "      <td>0.029650</td>\n",
       "      <td>0.000124</td>\n",
       "      <td>0.000007</td>\n",
       "      <td>-0.013664</td>\n",
       "      <td>0.000134</td>\n",
       "      <td>0.000086</td>\n",
       "      <td>0.000003</td>\n",
       "      <td>-0.005411</td>\n",
       "      <td>0.000090</td>\n",
       "      <td>0.000664</td>\n",
       "      <td>0.000031</td>\n",
       "      <td>-0.060267</td>\n",
       "      <td>0.000711</td>\n",
       "      <td>0.000164</td>\n",
       "      <td>-0.000019</td>\n",
       "      <td>0.037129</td>\n",
       "      <td>0.000136</td>\n",
       "      <td>0.000703</td>\n",
       "      <td>0.000006</td>\n",
       "      <td>-0.010837</td>\n",
       "      <td>0.000711</td>\n",
       "      <td>0.000383</td>\n",
       "      <td>0.000003</td>\n",
       "      <td>-0.005906</td>\n",
       "      <td>0.000388</td>\n",
       "      <td>0.000002</td>\n",
       "      <td>-7.235245e-08</td>\n",
       "      <td>0.000144</td>\n",
       "      <td>0.000002</td>\n",
       "      <td>0.000002</td>\n",
       "      <td>-7.235245e-08</td>\n",
       "      <td>0.000144</td>\n",
       "      <td>0.000002</td>\n",
       "      <td>0.001492</td>\n",
       "      <td>0.000044</td>\n",
       "      <td>-0.084623</td>\n",
       "      <td>0.001558</td>\n",
       "      <td>0.000635</td>\n",
       "      <td>-0.000013</td>\n",
       "      <td>0.025955</td>\n",
       "      <td>0.000616</td>\n",
       "      <td>0.027164</td>\n",
       "      <td>0.000514</td>\n",
       "      <td>-0.981078</td>\n",
       "      <td>0.027935</td>\n",
       "    </tr>\n",
       "    <tr>\n",
       "      <th>4</th>\n",
       "      <td>231607</td>\n",
       "      <td>month</td>\n",
       "      <td>1964</td>\n",
       "      <td>5</td>\n",
       "      <td>1.613991e+10</td>\n",
       "      <td>24502</td>\n",
       "      <td>0.000141</td>\n",
       "      <td>0.000095</td>\n",
       "      <td>0.000738</td>\n",
       "      <td>0.000148</td>\n",
       "      <td>0.001240</td>\n",
       "      <td>0.000676</td>\n",
       "      <td>0.000002</td>\n",
       "      <td>0.000002</td>\n",
       "      <td>0.002121</td>\n",
       "      <td>0.000920</td>\n",
       "      <td>0.035075</td>\n",
       "      <td>0.000127</td>\n",
       "      <td>0.000007</td>\n",
       "      <td>-0.013511</td>\n",
       "      <td>0.000141</td>\n",
       "      <td>0.000088</td>\n",
       "      <td>0.000003</td>\n",
       "      <td>-0.006255</td>\n",
       "      <td>0.000094</td>\n",
       "      <td>0.000679</td>\n",
       "      <td>0.000030</td>\n",
       "      <td>-0.058620</td>\n",
       "      <td>0.000739</td>\n",
       "      <td>0.000161</td>\n",
       "      <td>-0.000013</td>\n",
       "      <td>0.025304</td>\n",
       "      <td>0.000135</td>\n",
       "      <td>0.000810</td>\n",
       "      <td>0.000111</td>\n",
       "      <td>-0.216033</td>\n",
       "      <td>0.001031</td>\n",
       "      <td>0.000441</td>\n",
       "      <td>0.000060</td>\n",
       "      <td>-0.117738</td>\n",
       "      <td>0.000562</td>\n",
       "      <td>0.000002</td>\n",
       "      <td>-5.997660e-08</td>\n",
       "      <td>0.000120</td>\n",
       "      <td>0.000002</td>\n",
       "      <td>0.000002</td>\n",
       "      <td>-5.997660e-08</td>\n",
       "      <td>0.000120</td>\n",
       "      <td>0.000002</td>\n",
       "      <td>0.001618</td>\n",
       "      <td>0.000148</td>\n",
       "      <td>-0.288044</td>\n",
       "      <td>0.001913</td>\n",
       "      <td>0.000692</td>\n",
       "      <td>0.000051</td>\n",
       "      <td>-0.098569</td>\n",
       "      <td>0.000793</td>\n",
       "      <td>0.028746</td>\n",
       "      <td>0.001839</td>\n",
       "      <td>-3.579629</td>\n",
       "      <td>0.032425</td>\n",
       "    </tr>\n",
       "  </tbody>\n",
       "</table>\n",
       "</div>"
      ],
      "text/plain": [
       "   pfafid_30spfaf06 temporal_resolution  year  month  area_m2_30spfaf06  \\\n",
       "0            231607               month  1960      5       1.613991e+10   \n",
       "1            231607               month  1961      5       1.613991e+10   \n",
       "2            231607               month  1962      5       1.613991e+10   \n",
       "3            231607               month  1963      5       1.613991e+10   \n",
       "4            231607               month  1964      5       1.613991e+10   \n",
       "\n",
       "   area_count_30spfaf06  pdomww_m_30spfaf06  pdomwn_m_30spfaf06  \\\n",
       "0                 24502            0.000114            0.000082   \n",
       "1                 24502            0.000120            0.000086   \n",
       "2                 24502            0.000127            0.000086   \n",
       "3                 24502            0.000135            0.000091   \n",
       "4                 24502            0.000141            0.000095   \n",
       "\n",
       "   pindww_m_30spfaf06  pindwn_m_30spfaf06  pirrww_m_30spfaf06  \\\n",
       "0            0.000620            0.000186            0.000545   \n",
       "1            0.000646            0.000194            0.000999   \n",
       "2            0.000678            0.000136            0.000553   \n",
       "3            0.000713            0.000143            0.000713   \n",
       "4            0.000738            0.000148            0.001240   \n",
       "\n",
       "   pirrwn_m_30spfaf06  plivww_m_30spfaf06  plivwn_m_30spfaf06  \\\n",
       "0            0.000297            0.000002            0.000002   \n",
       "1            0.000544            0.000002            0.000002   \n",
       "2            0.000301            0.000002            0.000002   \n",
       "3            0.000389            0.000002            0.000002   \n",
       "4            0.000676            0.000002            0.000002   \n",
       "\n",
       "   ptotww_m_30spfaf06  ptotwn_m_30spfaf06  riverdischarge_m_30spfaf06  \\\n",
       "0            0.001280            0.000567                    0.033538   \n",
       "1            0.001767            0.000826                    0.014333   \n",
       "2            0.001359            0.000524                    0.031136   \n",
       "3            0.001563            0.000624                    0.029650   \n",
       "4            0.002121            0.000920                    0.035075   \n",
       "\n",
       "   ma10_pdomww_m_30spfaf06  slope10_pdomww_m_30spfaf06  \\\n",
       "0                 0.000114                         NaN   \n",
       "1                 0.000117                    0.000006   \n",
       "2                 0.000120                    0.000007   \n",
       "3                 0.000124                    0.000007   \n",
       "4                 0.000127                    0.000007   \n",
       "\n",
       "   intercept10_pdomww_m_30spfaf06  ols10_pdomww_m_30spfaf06  \\\n",
       "0                             NaN                       NaN   \n",
       "1                       -0.011730                  0.000120   \n",
       "2                       -0.012737                  0.000127   \n",
       "3                       -0.013664                  0.000134   \n",
       "4                       -0.013511                  0.000141   \n",
       "\n",
       "   ma10_pdomwn_m_30spfaf06  slope10_pdomwn_m_30spfaf06  \\\n",
       "0                 0.000082                         NaN   \n",
       "1                 0.000084                    0.000004   \n",
       "2                 0.000084                    0.000002   \n",
       "3                 0.000086                    0.000003   \n",
       "4                 0.000088                    0.000003   \n",
       "\n",
       "   intercept10_pdomwn_m_30spfaf06  ols10_pdomwn_m_30spfaf06  \\\n",
       "0                             NaN                       NaN   \n",
       "1                       -0.007930                  0.000086   \n",
       "2                       -0.003840                  0.000086   \n",
       "3                       -0.005411                  0.000090   \n",
       "4                       -0.006255                  0.000094   \n",
       "\n",
       "   ma10_pindww_m_30spfaf06  slope10_pindww_m_30spfaf06  \\\n",
       "0                 0.000620                         NaN   \n",
       "1                 0.000633                    0.000027   \n",
       "2                 0.000648                    0.000029   \n",
       "3                 0.000664                    0.000031   \n",
       "4                 0.000679                    0.000030   \n",
       "\n",
       "   intercept10_pindww_m_30spfaf06  ols10_pindww_m_30spfaf06  \\\n",
       "0                             NaN                       NaN   \n",
       "1                       -0.051708                  0.000646   \n",
       "2                       -0.056234                  0.000677   \n",
       "3                       -0.060267                  0.000711   \n",
       "4                       -0.058620                  0.000739   \n",
       "\n",
       "   ma10_pindwn_m_30spfaf06  slope10_pindwn_m_30spfaf06  \\\n",
       "0                 0.000186                         NaN   \n",
       "1                 0.000190                    0.000008   \n",
       "2                 0.000172                   -0.000025   \n",
       "3                 0.000164                   -0.000019   \n",
       "4                 0.000161                   -0.000013   \n",
       "\n",
       "   intercept10_pindwn_m_30spfaf06  ols10_pindwn_m_30spfaf06  \\\n",
       "0                             NaN                       NaN   \n",
       "1                       -0.015512                  0.000194   \n",
       "2                        0.049563                  0.000147   \n",
       "3                        0.037129                  0.000136   \n",
       "4                        0.025304                  0.000135   \n",
       "\n",
       "   ma10_pirrww_m_30spfaf06  slope10_pirrww_m_30spfaf06  \\\n",
       "0                 0.000545                         NaN   \n",
       "1                 0.000772                    0.000454   \n",
       "2                 0.000699                    0.000004   \n",
       "3                 0.000703                    0.000006   \n",
       "4                 0.000810                    0.000111   \n",
       "\n",
       "   intercept10_pirrww_m_30spfaf06  ols10_pirrww_m_30spfaf06  \\\n",
       "0                             NaN                       NaN   \n",
       "1                       -0.888801                  0.000999   \n",
       "2                       -0.006777                  0.000703   \n",
       "3                       -0.010837                  0.000711   \n",
       "4                       -0.216033                  0.001031   \n",
       "\n",
       "   ma10_pirrwn_m_30spfaf06  slope10_pirrwn_m_30spfaf06  \\\n",
       "0                 0.000297                         NaN   \n",
       "1                 0.000421                    0.000247   \n",
       "2                 0.000381                    0.000002   \n",
       "3                 0.000383                    0.000003   \n",
       "4                 0.000441                    0.000060   \n",
       "\n",
       "   intercept10_pirrwn_m_30spfaf06  ols10_pirrwn_m_30spfaf06  \\\n",
       "0                             NaN                       NaN   \n",
       "1                       -0.484397                  0.000544   \n",
       "2                       -0.003694                  0.000383   \n",
       "3                       -0.005906                  0.000388   \n",
       "4                       -0.117738                  0.000562   \n",
       "\n",
       "   ma10_plivww_m_30spfaf06  slope10_plivww_m_30spfaf06  \\\n",
       "0                 0.000002                         NaN   \n",
       "1                 0.000002               -7.708996e-08   \n",
       "2                 0.000002               -7.435336e-08   \n",
       "3                 0.000002               -7.235245e-08   \n",
       "4                 0.000002               -5.997660e-08   \n",
       "\n",
       "   intercept10_plivww_m_30spfaf06  ols10_plivww_m_30spfaf06  \\\n",
       "0                             NaN                       NaN   \n",
       "1                        0.000153                  0.000002   \n",
       "2                        0.000148                  0.000002   \n",
       "3                        0.000144                  0.000002   \n",
       "4                        0.000120                  0.000002   \n",
       "\n",
       "   ma10_plivwn_m_30spfaf06  slope10_plivwn_m_30spfaf06  \\\n",
       "0                 0.000002                         NaN   \n",
       "1                 0.000002               -7.708996e-08   \n",
       "2                 0.000002               -7.435336e-08   \n",
       "3                 0.000002               -7.235245e-08   \n",
       "4                 0.000002               -5.997660e-08   \n",
       "\n",
       "   intercept10_plivwn_m_30spfaf06  ols10_plivwn_m_30spfaf06  \\\n",
       "0                             NaN                       NaN   \n",
       "1                        0.000153                  0.000002   \n",
       "2                        0.000148                  0.000002   \n",
       "3                        0.000144                  0.000002   \n",
       "4                        0.000120                  0.000002   \n",
       "\n",
       "   ma10_ptotww_m_30spfaf06  slope10_ptotww_m_30spfaf06  \\\n",
       "0                 0.001280                         NaN   \n",
       "1                 0.001524                    0.000486   \n",
       "2                 0.001469                    0.000039   \n",
       "3                 0.001492                    0.000044   \n",
       "4                 0.001618                    0.000148   \n",
       "\n",
       "   intercept10_ptotww_m_30spfaf06  ols10_ptotww_m_30spfaf06  \\\n",
       "0                             NaN                       NaN   \n",
       "1                       -0.952086                  0.001767   \n",
       "2                       -0.075600                  0.001508   \n",
       "3                       -0.084623                  0.001558   \n",
       "4                       -0.288044                  0.001913   \n",
       "\n",
       "   ma10_ptotwn_m_30spfaf06  slope10_ptotwn_m_30spfaf06  \\\n",
       "0                 0.000567                         NaN   \n",
       "1                 0.000696                    0.000259   \n",
       "2                 0.000639                   -0.000021   \n",
       "3                 0.000635                   -0.000013   \n",
       "4                 0.000692                    0.000051   \n",
       "\n",
       "   intercept10_ptotwn_m_30spfaf06  ols10_ptotwn_m_30spfaf06  \\\n",
       "0                             NaN                       NaN   \n",
       "1                       -0.507686                  0.000826   \n",
       "2                        0.042177                  0.000618   \n",
       "3                        0.025955                  0.000616   \n",
       "4                       -0.098569                  0.000793   \n",
       "\n",
       "   ma10_riverdischarge_m_30spfaf06  slope10_riverdischarge_m_30spfaf06  \\\n",
       "0                         0.033538                                 NaN   \n",
       "1                         0.023935                           -0.019205   \n",
       "2                         0.026336                           -0.001201   \n",
       "3                         0.027164                            0.000514   \n",
       "4                         0.028746                            0.001839   \n",
       "\n",
       "   intercept10_riverdischarge_m_30spfaf06  ols10_riverdischarge_m_30spfaf06  \n",
       "0                                     NaN                               NaN  \n",
       "1                               37.674540                          0.014333  \n",
       "2                                2.380821                          0.025135  \n",
       "3                               -0.981078                          0.027935  \n",
       "4                               -3.579629                          0.032425  "
      ]
     },
     "execution_count": 8,
     "metadata": {},
     "output_type": "execute_result"
    }
   ],
   "source": [
    "df_og.head()"
   ]
  },
  {
   "cell_type": "code",
   "execution_count": 12,
   "metadata": {
    "collapsed": true
   },
   "outputs": [],
   "source": [
    "def simplify_df_raw(df):\n",
    "    df_out = df[[\"year\",\"ptotww_m_30spfaf06\",\"ptotwn_m_30spfaf06\",\"riverdischarge_m_30spfaf06\"]]\n",
    "    return df_out"
   ]
  },
  {
   "cell_type": "code",
   "execution_count": 13,
   "metadata": {
    "collapsed": true
   },
   "outputs": [],
   "source": [
    "df_raw = simplify_df_raw(df_og)"
   ]
  },
  {
   "cell_type": "code",
   "execution_count": 14,
   "metadata": {},
   "outputs": [
    {
     "data": {
      "text/html": [
       "<div>\n",
       "<style scoped>\n",
       "    .dataframe tbody tr th:only-of-type {\n",
       "        vertical-align: middle;\n",
       "    }\n",
       "\n",
       "    .dataframe tbody tr th {\n",
       "        vertical-align: top;\n",
       "    }\n",
       "\n",
       "    .dataframe thead th {\n",
       "        text-align: right;\n",
       "    }\n",
       "</style>\n",
       "<table border=\"1\" class=\"dataframe\">\n",
       "  <thead>\n",
       "    <tr style=\"text-align: right;\">\n",
       "      <th></th>\n",
       "      <th>year</th>\n",
       "      <th>ptotww_m_30spfaf06</th>\n",
       "      <th>ptotwn_m_30spfaf06</th>\n",
       "      <th>riverdischarge_m_30spfaf06</th>\n",
       "    </tr>\n",
       "  </thead>\n",
       "  <tbody>\n",
       "    <tr>\n",
       "      <th>0</th>\n",
       "      <td>1960</td>\n",
       "      <td>0.001280</td>\n",
       "      <td>0.000567</td>\n",
       "      <td>0.033538</td>\n",
       "    </tr>\n",
       "    <tr>\n",
       "      <th>1</th>\n",
       "      <td>1961</td>\n",
       "      <td>0.001767</td>\n",
       "      <td>0.000826</td>\n",
       "      <td>0.014333</td>\n",
       "    </tr>\n",
       "    <tr>\n",
       "      <th>2</th>\n",
       "      <td>1962</td>\n",
       "      <td>0.001359</td>\n",
       "      <td>0.000524</td>\n",
       "      <td>0.031136</td>\n",
       "    </tr>\n",
       "    <tr>\n",
       "      <th>3</th>\n",
       "      <td>1963</td>\n",
       "      <td>0.001563</td>\n",
       "      <td>0.000624</td>\n",
       "      <td>0.029650</td>\n",
       "    </tr>\n",
       "    <tr>\n",
       "      <th>4</th>\n",
       "      <td>1964</td>\n",
       "      <td>0.002121</td>\n",
       "      <td>0.000920</td>\n",
       "      <td>0.035075</td>\n",
       "    </tr>\n",
       "  </tbody>\n",
       "</table>\n",
       "</div>"
      ],
      "text/plain": [
       "   year  ptotww_m_30spfaf06  ptotwn_m_30spfaf06  riverdischarge_m_30spfaf06\n",
       "0  1960            0.001280            0.000567                    0.033538\n",
       "1  1961            0.001767            0.000826                    0.014333\n",
       "2  1962            0.001359            0.000524                    0.031136\n",
       "3  1963            0.001563            0.000624                    0.029650\n",
       "4  1964            0.002121            0.000920                    0.035075"
      ]
     },
     "execution_count": 14,
     "metadata": {},
     "output_type": "execute_result"
    }
   ],
   "source": [
    "df_raw.head()"
   ]
  },
  {
   "cell_type": "code",
   "execution_count": 15,
   "metadata": {
    "collapsed": true
   },
   "outputs": [],
   "source": [
    "df_raw = df_raw.sort_values(by=[\"year\"])"
   ]
  },
  {
   "cell_type": "code",
   "execution_count": 16,
   "metadata": {},
   "outputs": [
    {
     "data": {
      "text/plain": [
       "(0.0012804728147330999, 0.0079848467353448895)"
      ]
     },
     "execution_count": 16,
     "metadata": {},
     "output_type": "execute_result"
    },
    {
     "data": {
      "image/png": "[encoded data removed]",
      "text/plain": [
       "<Figure size 432x288 with 1 Axes>"
      ]
     },
     "metadata": {},
     "output_type": "display_data"
    }
   ],
   "source": [
    "ax1 = df_raw.plot.scatter(\"year\",\"ptotww_m_30spfaf06\")\n",
    "ax1.set_ylim(df_raw[\"ptotww_m_30spfaf06\"].min(),df_raw[\"ptotww_m_30spfaf06\"].max())"
   ]
  },
  {
   "cell_type": "code",
   "execution_count": 17,
   "metadata": {},
   "outputs": [
    {
     "data": {
      "text/plain": [
       "(0.0038965675346747902, 0.047979822017249797)"
      ]
     },
     "execution_count": 17,
     "metadata": {},
     "output_type": "execute_result"
    },
    {
     "data": {
      "image/png": "[encoded data removed]",
      "text/plain": [
       "<Figure size 432x288 with 1 Axes>"
      ]
     },
     "metadata": {},
     "output_type": "display_data"
    }
   ],
   "source": [
    "ax1 = df_raw.plot.scatter(\"year\",\"riverdischarge_m_30spfaf06\")\n",
    "ax1.set_ylim(df_raw[\"riverdischarge_m_30spfaf06\"].min(),df_raw[\"riverdischarge_m_30spfaf06\"].max())"
   ]
  },
  {
   "cell_type": "markdown",
   "metadata": {},
   "source": [
    "# Moving Average"
   ]
  },
  {
   "cell_type": "code",
   "execution_count": 22,
   "metadata": {
    "collapsed": true
   },
   "outputs": [],
   "source": [
    "def simplify_df_ma(df):\n",
    "    df_out = df[[\"year\",\"ma10_ptotww_m_30spfaf06\",\"ma10_ptotwn_m_30spfaf06\",\"ma10_riverdischarge_m_30spfaf06\"]]\n",
    "    return df_out"
   ]
  },
  {
   "cell_type": "code",
   "execution_count": 23,
   "metadata": {
    "collapsed": true
   },
   "outputs": [],
   "source": [
    "df_ma = simplify_df_ma(df_og)"
   ]
  },
  {
   "cell_type": "code",
   "execution_count": 24,
   "metadata": {},
   "outputs": [
    {
     "data": {
      "text/html": [
       "<div>\n",
       "<style scoped>\n",
       "    .dataframe tbody tr th:only-of-type {\n",
       "        vertical-align: middle;\n",
       "    }\n",
       "\n",
       "    .dataframe tbody tr th {\n",
       "        vertical-align: top;\n",
       "    }\n",
       "\n",
       "    .dataframe thead th {\n",
       "        text-align: right;\n",
       "    }\n",
       "</style>\n",
       "<table border=\"1\" class=\"dataframe\">\n",
       "  <thead>\n",
       "    <tr style=\"text-align: right;\">\n",
       "      <th></th>\n",
       "      <th>year</th>\n",
       "      <th>ma10_ptotww_m_30spfaf06</th>\n",
       "      <th>ma10_ptotwn_m_30spfaf06</th>\n",
       "      <th>ma10_riverdischarge_m_30spfaf06</th>\n",
       "    </tr>\n",
       "  </thead>\n",
       "  <tbody>\n",
       "    <tr>\n",
       "      <th>0</th>\n",
       "      <td>1960</td>\n",
       "      <td>0.001280</td>\n",
       "      <td>0.000567</td>\n",
       "      <td>0.033538</td>\n",
       "    </tr>\n",
       "    <tr>\n",
       "      <th>1</th>\n",
       "      <td>1961</td>\n",
       "      <td>0.001524</td>\n",
       "      <td>0.000696</td>\n",
       "      <td>0.023935</td>\n",
       "    </tr>\n",
       "    <tr>\n",
       "      <th>2</th>\n",
       "      <td>1962</td>\n",
       "      <td>0.001469</td>\n",
       "      <td>0.000639</td>\n",
       "      <td>0.026336</td>\n",
       "    </tr>\n",
       "    <tr>\n",
       "      <th>3</th>\n",
       "      <td>1963</td>\n",
       "      <td>0.001492</td>\n",
       "      <td>0.000635</td>\n",
       "      <td>0.027164</td>\n",
       "    </tr>\n",
       "    <tr>\n",
       "      <th>4</th>\n",
       "      <td>1964</td>\n",
       "      <td>0.001618</td>\n",
       "      <td>0.000692</td>\n",
       "      <td>0.028746</td>\n",
       "    </tr>\n",
       "  </tbody>\n",
       "</table>\n",
       "</div>"
      ],
      "text/plain": [
       "   year  ma10_ptotww_m_30spfaf06  ma10_ptotwn_m_30spfaf06  \\\n",
       "0  1960                 0.001280                 0.000567   \n",
       "1  1961                 0.001524                 0.000696   \n",
       "2  1962                 0.001469                 0.000639   \n",
       "3  1963                 0.001492                 0.000635   \n",
       "4  1964                 0.001618                 0.000692   \n",
       "\n",
       "   ma10_riverdischarge_m_30spfaf06  \n",
       "0                         0.033538  \n",
       "1                         0.023935  \n",
       "2                         0.026336  \n",
       "3                         0.027164  \n",
       "4                         0.028746  "
      ]
     },
     "execution_count": 24,
     "metadata": {},
     "output_type": "execute_result"
    }
   ],
   "source": [
    "df_ma.head()"
   ]
  },
  {
   "cell_type": "code",
   "execution_count": 25,
   "metadata": {
    "collapsed": true
   },
   "outputs": [],
   "source": [
    "df_ma = df_ma.sort_values(by=[\"year\"])"
   ]
  },
  {
   "cell_type": "code",
   "execution_count": 26,
   "metadata": {},
   "outputs": [
    {
     "data": {
      "text/plain": [
       "(0.0012804728147330999, 0.0052950611997794796)"
      ]
     },
     "execution_count": 26,
     "metadata": {},
     "output_type": "execute_result"
    },
    {
     "data": {
      "image/png": "[encoded data removed]",
      "text/plain": [
       "<Figure size 432x288 with 1 Axes>"
      ]
     },
     "metadata": {},
     "output_type": "display_data"
    }
   ],
   "source": [
    "ax1 = df_ma.plot.scatter(\"year\",\"ma10_ptotww_m_30spfaf06\")\n",
    "ax1.set_ylim(df_ma[\"ma10_ptotww_m_30spfaf06\"].min(),df_ma[\"ma10_ptotww_m_30spfaf06\"].max())"
   ]
  },
  {
   "cell_type": "code",
   "execution_count": 27,
   "metadata": {},
   "outputs": [
    {
     "data": {
      "text/plain": [
       "(0.014742369294132701, 0.033537676399587699)"
      ]
     },
     "execution_count": 27,
     "metadata": {},
     "output_type": "execute_result"
    },
    {
     "data": {
      "image/png": "[encoded data removed]",
      "text/plain": [
       "<Figure size 432x288 with 1 Axes>"
      ]
     },
     "metadata": {},
     "output_type": "display_data"
    }
   ],
   "source": [
    "ax1 = df_ma.plot.scatter(\"year\",\"ma10_riverdischarge_m_30spfaf06\")\n",
    "ax1.set_ylim(df_ma[\"ma10_riverdischarge_m_30spfaf06\"].min(),df_ma[\"ma10_riverdischarge_m_30spfaf06\"].max())"
   ]
  },
  {
   "cell_type": "markdown",
   "metadata": {},
   "source": [
    "# Combined"
   ]
  },
  {
   "cell_type": "code",
   "execution_count": 94,
   "metadata": {
    "collapsed": true
   },
   "outputs": [],
   "source": [
    "from bokeh.plotting import figure \n",
    "from bokeh.io import output_notebook, show\n",
    "from bokeh.models import HoverTool\n",
    "import random\n",
    "import bokeh.palettes"
   ]
  },
  {
   "cell_type": "code",
   "execution_count": 97,
   "metadata": {},
   "outputs": [],
   "source": [
    "palette = bokeh.palettes.Category20"
   ]
  },
  {
   "cell_type": "code",
   "execution_count": 104,
   "metadata": {},
   "outputs": [
    {
     "data": {
      "text/plain": [
       "['#1f77b4', '#aec7e8', '#ff7f0e']"
      ]
     },
     "execution_count": 104,
     "metadata": {},
     "output_type": "execute_result"
    }
   ],
   "source": []
  },
  {
   "cell_type": "code",
   "execution_count": 29,
   "metadata": {},
   "outputs": [
    {
     "data": {
      "text/html": [
       "\n",
       "    <div class=\"bk-root\">\n",
       "        <a href=\"https://bokeh.pydata.org\" target=\"_blank\" class=\"bk-logo bk-logo-small bk-logo-notebook\"></a>\n",
       "        <span id=\"c3ab2897-1123-4a61-a8c6-8ec8b671dc4a\">Loading BokehJS ...</span>\n",
       "    </div>"
      ]
     },
     "metadata": {},
     "output_type": "display_data"
    },
    {
     "data": {
      "application/javascript": [
       "\n",
       "(function(root) {\n",
       "  function now() {\n",
       "    return new Date();\n",
       "  }\n",
       "\n",
       "  var force = true;\n",
       "\n",
       "  if (typeof (root._bokeh_onload_callbacks) === \"undefined\" || force === true) {\n",
       "    root._bokeh_onload_callbacks = [];\n",
       "    root._bokeh_is_loading = undefined;\n",
       "  }\n",
       "\n",
       "  var JS_MIME_TYPE = 'application/javascript';\n",
       "  var HTML_MIME_TYPE = 'text/html';\n",
       "  var EXEC_MIME_TYPE = 'application/vnd.bokehjs_exec.v0+json';\n",
       "  var CLASS_NAME = 'output_bokeh rendered_html';\n",
       "\n",
       "  /**\n",
       "   * Render data to the DOM node\n",
       "   */\n",
       "  function render(props, node) {\n",
       "    var script = document.createElement(\"script\");\n",
       "    node.appendChild(script);\n",
       "  }\n",
       "\n",
       "  /**\n",
       "   * Handle when an output is cleared or removed\n",
       "   */\n",
       "  function handleClearOutput(event, handle) {\n",
       "    var cell = handle.cell;\n",
       "\n",
       "    var id = cell.output_area._bokeh_element_id;\n",
       "    var server_id = cell.output_area._bokeh_server_id;\n",
       "    // Clean up Bokeh references\n",
       "    if (id !== undefined) {\n",
       "      Bokeh.index[id].model.document.clear();\n",
       "      delete Bokeh.index[id];\n",
       "    }\n",
       "\n",
       "    if (server_id !== undefined) {\n",
       "      // Clean up Bokeh references\n",
       "      var cmd = \"from bokeh.io.state import curstate; print(curstate().uuid_to_server['\" + server_id + \"'].get_sessions()[0].document.roots[0]._id)\";\n",
       "      cell.notebook.kernel.execute(cmd, {\n",
       "        iopub: {\n",
       "          output: function(msg) {\n",
       "            var element_id = msg.content.text.trim();\n",
       "            Bokeh.index[element_id].model.document.clear();\n",
       "            delete Bokeh.index[element_id];\n",
       "          }\n",
       "        }\n",
       "      });\n",
       "      // Destroy server and session\n",
       "      var cmd = \"import bokeh.io.notebook as ion; ion.destroy_server('\" + server_id + \"')\";\n",
       "      cell.notebook.kernel.execute(cmd);\n",
       "    }\n",
       "  }\n",
       "\n",
       "  /**\n",
       "   * Handle when a new output is added\n",
       "   */\n",
       "  function handleAddOutput(event, handle) {\n",
       "    var output_area = handle.output_area;\n",
       "    var output = handle.output;\n",
       "\n",
       "    // limit handleAddOutput to display_data with EXEC_MIME_TYPE content only\n",
       "    if ((output.output_type != \"display_data\") || (!output.data.hasOwnProperty(EXEC_MIME_TYPE))) {\n",
       "      return\n",
       "    }\n",
       "\n",
       "    var toinsert = output_area.element.find(\".\" + CLASS_NAME.split(' ')[0]);\n",
       "\n",
       "    if (output.metadata[EXEC_MIME_TYPE][\"id\"] !== undefined) {\n",
       "      toinsert[toinsert.length - 1].firstChild.textContent = output.data[JS_MIME_TYPE];\n",
       "      // store reference to embed id on output_area\n",
       "      output_area._bokeh_element_id = output.metadata[EXEC_MIME_TYPE][\"id\"];\n",
       "    }\n",
       "    if (output.metadata[EXEC_MIME_TYPE][\"server_id\"] !== undefined) {\n",
       "      var bk_div = document.createElement(\"div\");\n",
       "      bk_div.innerHTML = output.data[HTML_MIME_TYPE];\n",
       "      var script_attrs = bk_div.children[0].attributes;\n",
       "      for (var i = 0; i < script_attrs.length; i++) {\n",
       "        toinsert[toinsert.length - 1].firstChild.setAttribute(script_attrs[i].name, script_attrs[i].value);\n",
       "      }\n",
       "      // store reference to server id on output_area\n",
       "      output_area._bokeh_server_id = output.metadata[EXEC_MIME_TYPE][\"server_id\"];\n",
       "    }\n",
       "  }\n",
       "\n",
       "  function register_renderer(events, OutputArea) {\n",
       "\n",
       "    function append_mime(data, metadata, element) {\n",
       "      // create a DOM node to render to\n",
       "      var toinsert = this.create_output_subarea(\n",
       "        metadata,\n",
       "        CLASS_NAME,\n",
       "        EXEC_MIME_TYPE\n",
       "      );\n",
       "      this.keyboard_manager.register_events(toinsert);\n",
       "      // Render to node\n",
       "      var props = {data: data, metadata: metadata[EXEC_MIME_TYPE]};\n",
       "      render(props, toinsert[toinsert.length - 1]);\n",
       "      element.append(toinsert);\n",
       "      return toinsert\n",
       "    }\n",
       "\n",
       "    /* Handle when an output is cleared or removed */\n",
       "    events.on('clear_output.CodeCell', handleClearOutput);\n",
       "    events.on('delete.Cell', handleClearOutput);\n",
       "\n",
       "    /* Handle when a new output is added */\n",
       "    events.on('output_added.OutputArea', handleAddOutput);\n",
       "\n",
       "    /**\n",
       "     * Register the mime type and append_mime function with output_area\n",
       "     */\n",
       "    OutputArea.prototype.register_mime_type(EXEC_MIME_TYPE, append_mime, {\n",
       "      /* Is output safe? */\n",
       "      safe: true,\n",
       "      /* Index of renderer in `output_area.display_order` */\n",
       "      index: 0\n",
       "    });\n",
       "  }\n",
       "\n",
       "  // register the mime type if in Jupyter Notebook environment and previously unregistered\n",
       "  if (root.Jupyter !== undefined) {\n",
       "    var events = require('base/js/events');\n",
       "    var OutputArea = require('notebook/js/outputarea').OutputArea;\n",
       "\n",
       "    if (OutputArea.prototype.mime_types().indexOf(EXEC_MIME_TYPE) == -1) {\n",
       "      register_renderer(events, OutputArea);\n",
       "    }\n",
       "  }\n",
       "\n",
       "  \n",
       "  if (typeof (root._bokeh_timeout) === \"undefined\" || force === true) {\n",
       "    root._bokeh_timeout = Date.now() + 5000;\n",
       "    root._bokeh_failed_load = false;\n",
       "  }\n",
       "\n",
       "  var NB_LOAD_WARNING = {'data': {'text/html':\n",
       "     \"<div style='background-color: #fdd'>\\n\"+\n",
       "     \"<p>\\n\"+\n",
       "     \"BokehJS does not appear to have successfully loaded. If loading BokehJS from CDN, this \\n\"+\n",
       "     \"may be due to a slow or bad network connection. Possible fixes:\\n\"+\n",
       "     \"</p>\\n\"+\n",
       "     \"<ul>\\n\"+\n",
       "     \"<li>re-rerun `output_notebook()` to attempt to load from CDN again, or</li>\\n\"+\n",
       "     \"<li>use INLINE resources instead, as so:</li>\\n\"+\n",
       "     \"</ul>\\n\"+\n",
       "     \"<code>\\n\"+\n",
       "     \"from bokeh.resources import INLINE\\n\"+\n",
       "     \"output_notebook(resources=INLINE)\\n\"+\n",
       "     \"</code>\\n\"+\n",
       "     \"</div>\"}};\n",
       "\n",
       "  function display_loaded() {\n",
       "    var el = document.getElementById(\"c3ab2897-1123-4a61-a8c6-8ec8b671dc4a\");\n",
       "    if (el != null) {\n",
       "      el.textContent = \"BokehJS is loading...\";\n",
       "    }\n",
       "    if (root.Bokeh !== undefined) {\n",
       "      if (el != null) {\n",
       "        el.textContent = \"BokehJS \" + root.Bokeh.version + \" successfully loaded.\";\n",
       "      }\n",
       "    } else if (Date.now() < root._bokeh_timeout) {\n",
       "      setTimeout(display_loaded, 100)\n",
       "    }\n",
       "  }\n",
       "\n",
       "\n",
       "  function run_callbacks() {\n",
       "    try {\n",
       "      root._bokeh_onload_callbacks.forEach(function(callback) { callback() });\n",
       "    }\n",
       "    finally {\n",
       "      delete root._bokeh_onload_callbacks\n",
       "    }\n",
       "    console.info(\"Bokeh: all callbacks have finished\");\n",
       "  }\n",
       "\n",
       "  function load_libs(js_urls, callback) {\n",
       "    root._bokeh_onload_callbacks.push(callback);\n",
       "    if (root._bokeh_is_loading > 0) {\n",
       "      console.log(\"Bokeh: BokehJS is being loaded, scheduling callback at\", now());\n",
       "      return null;\n",
       "    }\n",
       "    if (js_urls == null || js_urls.length === 0) {\n",
       "      run_callbacks();\n",
       "      return null;\n",
       "    }\n",
       "    console.log(\"Bokeh: BokehJS not loaded, scheduling load and callback at\", now());\n",
       "    root._bokeh_is_loading = js_urls.length;\n",
       "    for (var i = 0; i < js_urls.length; i++) {\n",
       "      var url = js_urls[i];\n",
       "      var s = document.createElement('script');\n",
       "      s.src = url;\n",
       "      s.async = false;\n",
       "      s.onreadystatechange = s.onload = function() {\n",
       "        root._bokeh_is_loading--;\n",
       "        if (root._bokeh_is_loading === 0) {\n",
       "          console.log(\"Bokeh: all BokehJS libraries loaded\");\n",
       "          run_callbacks()\n",
       "        }\n",
       "      };\n",
       "      s.onerror = function() {\n",
       "        console.warn(\"failed to load library \" + url);\n",
       "      };\n",
       "      console.log(\"Bokeh: injecting script tag for BokehJS library: \", url);\n",
       "      document.getElementsByTagName(\"head\")[0].appendChild(s);\n",
       "    }\n",
       "  };var element = document.getElementById(\"c3ab2897-1123-4a61-a8c6-8ec8b671dc4a\");\n",
       "  if (element == null) {\n",
       "    console.log(\"Bokeh: ERROR: autoload.js configured with elementid 'c3ab2897-1123-4a61-a8c6-8ec8b671dc4a' but no matching script tag was found. \")\n",
       "    return false;\n",
       "  }\n",
       "\n",
       "  var js_urls = [\"https://cdn.pydata.org/bokeh/release/bokeh-0.12.16.min.js\", \"https://cdn.pydata.org/bokeh/release/bokeh-widgets-0.12.16.min.js\", \"https://cdn.pydata.org/bokeh/release/bokeh-tables-0.12.16.min.js\", \"https://cdn.pydata.org/bokeh/release/bokeh-gl-0.12.16.min.js\"];\n",
       "\n",
       "  var inline_js = [\n",
       "    function(Bokeh) {\n",
       "      Bokeh.set_log_level(\"info\");\n",
       "    },\n",
       "    \n",
       "    function(Bokeh) {\n",
       "      \n",
       "    },\n",
       "    function(Bokeh) {\n",
       "      console.log(\"Bokeh: injecting CSS: https://cdn.pydata.org/bokeh/release/bokeh-0.12.16.min.css\");\n",
       "      Bokeh.embed.inject_css(\"https://cdn.pydata.org/bokeh/release/bokeh-0.12.16.min.css\");\n",
       "      console.log(\"Bokeh: injecting CSS: https://cdn.pydata.org/bokeh/release/bokeh-widgets-0.12.16.min.css\");\n",
       "      Bokeh.embed.inject_css(\"https://cdn.pydata.org/bokeh/release/bokeh-widgets-0.12.16.min.css\");\n",
       "      console.log(\"Bokeh: injecting CSS: https://cdn.pydata.org/bokeh/release/bokeh-tables-0.12.16.min.css\");\n",
       "      Bokeh.embed.inject_css(\"https://cdn.pydata.org/bokeh/release/bokeh-tables-0.12.16.min.css\");\n",
       "    }\n",
       "  ];\n",
       "\n",
       "  function run_inline_js() {\n",
       "    \n",
       "    if ((root.Bokeh !== undefined) || (force === true)) {\n",
       "      for (var i = 0; i < inline_js.length; i++) {\n",
       "        inline_js[i].call(root, root.Bokeh);\n",
       "      }if (force === true) {\n",
       "        display_loaded();\n",
       "      }} else if (Date.now() < root._bokeh_timeout) {\n",
       "      setTimeout(run_inline_js, 100);\n",
       "    } else if (!root._bokeh_failed_load) {\n",
       "      console.log(\"Bokeh: BokehJS failed to load within specified timeout.\");\n",
       "      root._bokeh_failed_load = true;\n",
       "    } else if (force !== true) {\n",
       "      var cell = $(document.getElementById(\"c3ab2897-1123-4a61-a8c6-8ec8b671dc4a\")).parents('.cell').data().cell;\n",
       "      cell.output_area.append_execute_result(NB_LOAD_WARNING)\n",
       "    }\n",
       "\n",
       "  }\n",
       "\n",
       "  if (root._bokeh_is_loading === 0) {\n",
       "    console.log(\"Bokeh: BokehJS loaded, going straight to plotting\");\n",
       "    run_inline_js();\n",
       "  } else {\n",
       "    load_libs(js_urls, function() {\n",
       "      console.log(\"Bokeh: BokehJS plotting callback run at\", now());\n",
       "      run_inline_js();\n",
       "    });\n",
       "  }\n",
       "}(window));"
      ],
      "application/vnd.bokehjs_load.v0+json": "\n(function(root) {\n  function now() {\n    return new Date();\n  }\n\n  var force = true;\n\n  if (typeof (root._bokeh_onload_callbacks) === \"undefined\" || force === true) {\n    root._bokeh_onload_callbacks = [];\n    root._bokeh_is_loading = undefined;\n  }\n\n  \n\n  \n  if (typeof (root._bokeh_timeout) === \"undefined\" || force === true) {\n    root._bokeh_timeout = Date.now() + 5000;\n    root._bokeh_failed_load = false;\n  }\n\n  var NB_LOAD_WARNING = {'data': {'text/html':\n     \"<div style='background-color: #fdd'>\\n\"+\n     \"<p>\\n\"+\n     \"BokehJS does not appear to have successfully loaded. If loading BokehJS from CDN, this \\n\"+\n     \"may be due to a slow or bad network connection. Possible fixes:\\n\"+\n     \"</p>\\n\"+\n     \"<ul>\\n\"+\n     \"<li>re-rerun `output_notebook()` to attempt to load from CDN again, or</li>\\n\"+\n     \"<li>use INLINE resources instead, as so:</li>\\n\"+\n     \"</ul>\\n\"+\n     \"<code>\\n\"+\n     \"from bokeh.resources import INLINE\\n\"+\n     \"output_notebook(resources=INLINE)\\n\"+\n     \"</code>\\n\"+\n     \"</div>\"}};\n\n  function display_loaded() {\n    var el = document.getElementById(\"c3ab2897-1123-4a61-a8c6-8ec8b671dc4a\");\n    if (el != null) {\n      el.textContent = \"BokehJS is loading...\";\n    }\n    if (root.Bokeh !== undefined) {\n      if (el != null) {\n        el.textContent = \"BokehJS \" + root.Bokeh.version + \" successfully loaded.\";\n      }\n    } else if (Date.now() < root._bokeh_timeout) {\n      setTimeout(display_loaded, 100)\n    }\n  }\n\n\n  function run_callbacks() {\n    try {\n      root._bokeh_onload_callbacks.forEach(function(callback) { callback() });\n    }\n    finally {\n      delete root._bokeh_onload_callbacks\n    }\n    console.info(\"Bokeh: all callbacks have finished\");\n  }\n\n  function load_libs(js_urls, callback) {\n    root._bokeh_onload_callbacks.push(callback);\n    if (root._bokeh_is_loading > 0) {\n      console.log(\"Bokeh: BokehJS is being loaded, scheduling callback at\", now());\n      return null;\n    }\n    if (js_urls == null || js_urls.length === 0) {\n      run_callbacks();\n      return null;\n    }\n    console.log(\"Bokeh: BokehJS not loaded, scheduling load and callback at\", now());\n    root._bokeh_is_loading = js_urls.length;\n    for (var i = 0; i < js_urls.length; i++) {\n      var url = js_urls[i];\n      var s = document.createElement('script');\n      s.src = url;\n      s.async = false;\n      s.onreadystatechange = s.onload = function() {\n        root._bokeh_is_loading--;\n        if (root._bokeh_is_loading === 0) {\n          console.log(\"Bokeh: all BokehJS libraries loaded\");\n          run_callbacks()\n        }\n      };\n      s.onerror = function() {\n        console.warn(\"failed to load library \" + url);\n      };\n      console.log(\"Bokeh: injecting script tag for BokehJS library: \", url);\n      document.getElementsByTagName(\"head\")[0].appendChild(s);\n    }\n  };var element = document.getElementById(\"c3ab2897-1123-4a61-a8c6-8ec8b671dc4a\");\n  if (element == null) {\n    console.log(\"Bokeh: ERROR: autoload.js configured with elementid 'c3ab2897-1123-4a61-a8c6-8ec8b671dc4a' but no matching script tag was found. \")\n    return false;\n  }\n\n  var js_urls = [\"https://cdn.pydata.org/bokeh/release/bokeh-0.12.16.min.js\", \"https://cdn.pydata.org/bokeh/release/bokeh-widgets-0.12.16.min.js\", \"https://cdn.pydata.org/bokeh/release/bokeh-tables-0.12.16.min.js\", \"https://cdn.pydata.org/bokeh/release/bokeh-gl-0.12.16.min.js\"];\n\n  var inline_js = [\n    function(Bokeh) {\n      Bokeh.set_log_level(\"info\");\n    },\n    \n    function(Bokeh) {\n      \n    },\n    function(Bokeh) {\n      console.log(\"Bokeh: injecting CSS: https://cdn.pydata.org/bokeh/release/bokeh-0.12.16.min.css\");\n      Bokeh.embed.inject_css(\"https://cdn.pydata.org/bokeh/release/bokeh-0.12.16.min.css\");\n      console.log(\"Bokeh: injecting CSS: https://cdn.pydata.org/bokeh/release/bokeh-widgets-0.12.16.min.css\");\n      Bokeh.embed.inject_css(\"https://cdn.pydata.org/bokeh/release/bokeh-widgets-0.12.16.min.css\");\n      console.log(\"Bokeh: injecting CSS: https://cdn.pydata.org/bokeh/release/bokeh-tables-0.12.16.min.css\");\n      Bokeh.embed.inject_css(\"https://cdn.pydata.org/bokeh/release/bokeh-tables-0.12.16.min.css\");\n    }\n  ];\n\n  function run_inline_js() {\n    \n    if ((root.Bokeh !== undefined) || (force === true)) {\n      for (var i = 0; i < inline_js.length; i++) {\n        inline_js[i].call(root, root.Bokeh);\n      }if (force === true) {\n        display_loaded();\n      }} else if (Date.now() < root._bokeh_timeout) {\n      setTimeout(run_inline_js, 100);\n    } else if (!root._bokeh_failed_load) {\n      console.log(\"Bokeh: BokehJS failed to load within specified timeout.\");\n      root._bokeh_failed_load = true;\n    } else if (force !== true) {\n      var cell = $(document.getElementById(\"c3ab2897-1123-4a61-a8c6-8ec8b671dc4a\")).parents('.cell').data().cell;\n      cell.output_area.append_execute_result(NB_LOAD_WARNING)\n    }\n\n  }\n\n  if (root._bokeh_is_loading === 0) {\n    console.log(\"Bokeh: BokehJS loaded, going straight to plotting\");\n    run_inline_js();\n  } else {\n    load_libs(js_urls, function() {\n      console.log(\"Bokeh: BokehJS plotting callback run at\", now());\n      run_inline_js();\n    });\n  }\n}(window));"
     },
     "metadata": {},
     "output_type": "display_data"
    }
   ],
   "source": [
    "output_notebook()"
   ]
  },
  {
   "cell_type": "code",
   "execution_count": null,
   "metadata": {
    "collapsed": true
   },
   "outputs": [],
   "source": []
  },
  {
   "cell_type": "code",
   "execution_count": 115,
   "metadata": {},
   "outputs": [],
   "source": [
    "def plot(indicators,df_og,raw_values=True,ma10_values=True,ols_values=True):\n",
    "    \"\"\" For a given basin, plots multiple results the same chart.    \n",
    "    -------------------------------------------------------------------------------\n",
    "    \n",
    "    df_og can be obtained from table \n",
    "    y2018m06d01_rh_temporal_reducers_postgis_30spfaf06_v01_v01 in the postGreSQL\n",
    "    Database\n",
    "    \n",
    "    maximum number of lines supported is 20 due to colorscheme.\n",
    "    \n",
    "    Args:\n",
    "        indicators (list) : list of string of indicators. Use basenames.\n",
    "            options include a.o. : ['ptotww','riverdischarge']\n",
    "        df_og (pd.DataFrame) : DataFrame with values.\n",
    "        raw_values (boolean) : Plot raw, monthly and yearly values.\n",
    "            defaults to True.\n",
    "        ma10_values (boolean) : Plot moving average values.\n",
    "            defaults to True.\n",
    "        ols_values (boolean) : Plot values based on regression.\n",
    "            defaults to True.\n",
    "\n",
    "    Returns:\n",
    "        p (Bokeh Plot): Bokeh plot. Use show(p)\n",
    "    \n",
    "    \"\"\"\n",
    "    p = figure(width=900, height=800)\n",
    "    \n",
    "    number_of_lines = len(indicators)*(raw_values+ma10_values+ols_values)\n",
    "    print(number_of_lines)\n",
    "    \n",
    "    i=0\n",
    "    \n",
    "    if raw_values:\n",
    "        for indicator in indicators:\n",
    "            p.line(x = df_og[\"year\"], y = df_og[indicator+'_m_30spfaf06'],line_color=palette[number_of_lines][i],legend= indicator+\"_m_30spfaf06\")\n",
    "            i += 1\n",
    "    if ma10_values:\n",
    "        for indicator in indicators:\n",
    "            p.line(x = df_og[\"year\"], y = df_og['ma10_'+indicator+'_m_30spfaf06'],line_color=palette[number_of_lines][i],legend=\"ma10_\"+indicator+\"_m_30spfaf06\")\n",
    "            i += 1\n",
    "    if ols_values:\n",
    "        for indicator in indicators:\n",
    "            p.line(x = df_og[\"year\"], y = df_og['ols10_'+indicator+'_m_30spfaf06'],line_color=palette[number_of_lines][i],legend=\"ols10_\"+indicator+\"_m_30spfaf06\")\n",
    "            i += 1\n",
    "    p.legend.location = \"top_left\"\n",
    "    p.legend.click_policy=\"hide\"\n",
    "    hover = HoverTool(tooltips = [('year', '@x'),\n",
    "                             ('value',  '@y')])\n",
    "    p.add_tools(hover)\n",
    "    \n",
    "    return p\n",
    "    "
   ]
  },
  {
   "cell_type": "code",
   "execution_count": 116,
   "metadata": {},
   "outputs": [],
   "source": [
    "sectors = [\"dom\",\"ind\",\"irr\",\"liv\",\"tot\"]\n",
    "demand_types = [\"ww\",\"wn\"]\n",
    "supply = [\"riverdischarge\"]\n",
    "\n",
    "indicators = []\n",
    "for sector in sectors:\n",
    "    for demand_type in demand_types:\n",
    "        demand_column_name = \"p{}{}\".format(sector,demand_type)\n",
    "        indicators.append(demand_column_name)\n",
    "supply_column_names = [\"{}\".format(supply[0])]   \n",
    "indicators = indicators + supply_column_names\n"
   ]
  },
  {
   "cell_type": "code",
   "execution_count": 117,
   "metadata": {},
   "outputs": [
    {
     "data": {
      "text/plain": [
       "['pdomww',\n",
       " 'pdomwn',\n",
       " 'pindww',\n",
       " 'pindwn',\n",
       " 'pirrww',\n",
       " 'pirrwn',\n",
       " 'plivww',\n",
       " 'plivwn',\n",
       " 'ptotww',\n",
       " 'ptotwn',\n",
       " 'riverdischarge']"
      ]
     },
     "execution_count": 117,
     "metadata": {},
     "output_type": "execute_result"
    }
   ],
   "source": [
    "indicators"
   ]
  },
  {
   "cell_type": "code",
   "execution_count": 124,
   "metadata": {
    "collapsed": true
   },
   "outputs": [],
   "source": [
    "indicators_filtered = [\"pirrww\",\"pirrwn\",\"riverdischarge\"]"
   ]
  },
  {
   "cell_type": "code",
   "execution_count": 125,
   "metadata": {},
   "outputs": [
    {
     "name": "stdout",
     "output_type": "stream",
     "text": [
      "9\n"
     ]
    },
    {
     "data": {
      "text/html": [
       "\n",
       "<div class=\"bk-root\">\n",
       "    <div class=\"bk-plotdiv\" id=\"ba1e8b28-394d-4069-a1de-76482bd3ae5d\"></div>\n",
       "</div>"
      ]
     },
     "metadata": {},
     "output_type": "display_data"
    },
    {
     "data": {
      "application/javascript": [
       "(function(root) {\n",
       "  function embed_document(root) {\n",
       "    \n",
       "  var docs_json = {\"0fb350ae-f965-4724-b015-2231f4a3e01c\":{\"roots\":{\"references\":[{\"attributes\":{\"data_source\":{\"id\":\"882eaa85-b9a2-4603-b9d1-6babe352847a\",\"type\":\"ColumnDataSource\"},\"glyph\":{\"id\":\"41d17240-fe97-4bfa-8d98-2528442ab6b1\",\"type\":\"Line\"},\"hover_glyph\":null,\"muted_glyph\":null,\"nonselection_glyph\":{\"id\":\"11b89dc4-f9dc-44be-a97e-8d6aa4893c58\",\"type\":\"Line\"},\"selection_glyph\":null,\"view\":{\"id\":\"815077ac-c421-4a34-99ef-e2d667058714\",\"type\":\"CDSView\"}},\"id\":\"f2915603-73ca-44ed-9750-22cbab3f76fb\",\"type\":\"GlyphRenderer\"},{\"attributes\":{\"callback\":null,\"data\":{\"x\":[1960,1961,1962,1963,1964,1965,1966,1967,1968,1969,1970,1971,1972,1973,1974,1975,1976,1977,1978,1979,1980,1981,1982,1983,1984,1985,1986,1987,1988,1989,1990,1991,1992,1993,1994,1995,1996,1997,1998,1999,2000,2001,2002,2003,2004,2005,2006,2007,2008,2009,2010,2011,2012,2013,2014],\"y\":{\"__ndarray__\":\"Q8wSwXzcQT+UCAX3pEtJP/k2K0KU5kY/MXtSAQsFRz/hjK6nfYtKP6kX/mb4sU8/WZBnETPOTj9wrWq2bDZNP040CoN4f0w/bmee/7dZSz+mCeIWZNdMPybKoHdZnko/CxFKUW6KSz+IlWrG5MNLP/wZoogHR0s/HYB0VTfjRj8wr4r95QlLP3v1xl15/0s/1tc2pnItSz+iMWvOlZhMP0ccIO/VcEs/YREDXVWPTD+JYh/Se/9NP9DwNUm9yk4/9+0mdTpKTD+pVqNqrINNP65VHWSEmUs/Lxf69pyMTT/oLYVq+kNOP09VbxUG3lA/PtzqQHwSUj/11oFnzF9TP8esSzRXXVc/CjvvZLA9Vz9goBT8LOVYPwvF/oPBLV8/6yhkXbcmXj/DKnvob2pdP4UaJXMWTl0/JZwafQgbXj85Z7OwEV9dP3c2TEaflFw/Nm0c3YVvWD/cRYTPoaJZP/QhVy1QXVg/EFcpls3jVz87DX73CedaPzBLaevnelo/KSL2r7v5Wj+IZUMV88BZPyZJPTxIEVo/EGQlld4+Wj/uQ6ZbSB9gP4XqD67MI18/cdyhzRFRYT8=\",\"dtype\":\"float64\",\"shape\":[55]}},\"selected\":{\"id\":\"1be65ee2-cfe5-46c8-871a-8d5fe1866d52\",\"type\":\"Selection\"},\"selection_policy\":{\"id\":\"e65c643d-0111-4c12-b6b6-ebb0dc4c441d\",\"type\":\"UnionRenderers\"}},\"id\":\"4b12f679-a254-43c8-a255-1ea45a903957\",\"type\":\"ColumnDataSource\"},{\"attributes\":{\"active_drag\":\"auto\",\"active_inspect\":\"auto\",\"active_scroll\":\"auto\",\"active_tap\":\"auto\",\"tools\":[{\"id\":\"7aba455a-1097-4e74-b50c-e996b71c3ddc\",\"type\":\"PanTool\"},{\"id\":\"6075b062-b8ef-44e2-bd24-d4618e68e269\",\"type\":\"WheelZoomTool\"},{\"id\":\"c6ae2e8d-0917-4245-8ad3-469fe5dedd95\",\"type\":\"BoxZoomTool\"},{\"id\":\"9b16e3de-11d5-4bb4-9c26-e8e07411ca04\",\"type\":\"SaveTool\"},{\"id\":\"0ca69e5d-b6bd-4872-9d3c-bacb75020182\",\"type\":\"ResetTool\"},{\"id\":\"cb8f185b-7f2c-4082-be73-add39a383afe\",\"type\":\"HelpTool\"},{\"id\":\"ec3ba759-dbda-4928-807d-03c26ceb52a3\",\"type\":\"HoverTool\"}]},\"id\":\"ab9ca737-6afb-4fe3-8234-64d5e254ebac\",\"type\":\"Toolbar\"},{\"attributes\":{},\"id\":\"f88adc62-cb3f-430d-8bb3-cd4a832fea4f\",\"type\":\"Selection\"},{\"attributes\":{},\"id\":\"0ca69e5d-b6bd-4872-9d3c-bacb75020182\",\"type\":\"ResetTool\"},{\"attributes\":{},\"id\":\"21192ec1-cbc2-4ef9-97f3-b749d244c228\",\"type\":\"UnionRenderers\"},{\"attributes\":{},\"id\":\"d54b9620-d4c0-4d02-82db-e8fce674ca1e\",\"type\":\"BasicTicker\"},{\"attributes\":{},\"id\":\"ef56d840-6292-4f21-bf8a-7b41c040e2e8\",\"type\":\"Selection\"},{\"attributes\":{},\"id\":\"2b55db61-4e15-40b5-acde-6bad8bc452c2\",\"type\":\"UnionRenderers\"},{\"attributes\":{\"label\":{\"value\":\"ma10_riverdischarge_m_30spfaf06\"},\"renderers\":[{\"id\":\"b139e861-c88c-4b12-9673-e5285272b04a\",\"type\":\"GlyphRenderer\"}]},\"id\":\"57baedfa-80fd-47e4-90e2-20794c1c7a98\",\"type\":\"LegendItem\"},{\"attributes\":{\"data_source\":{\"id\":\"4bc4e644-222a-494b-b27a-2044889382d0\",\"type\":\"ColumnDataSource\"},\"glyph\":{\"id\":\"ff69c42d-6404-48c2-8ec0-19b529f7ac77\",\"type\":\"Line\"},\"hover_glyph\":null,\"muted_glyph\":null,\"nonselection_glyph\":{\"id\":\"8951d434-48df-4214-95d5-522f6e3c03b5\",\"type\":\"Line\"},\"selection_glyph\":null,\"view\":{\"id\":\"2342c057-ddff-41e0-9360-32ef84015510\",\"type\":\"CDSView\"}},\"id\":\"73300f4f-1d53-44a7-8edd-561ed3f8b6ce\",\"type\":\"GlyphRenderer\"},{\"attributes\":{\"label\":{\"value\":\"pirrwn_m_30spfaf06\"},\"renderers\":[{\"id\":\"cf9bb455-9529-4ae9-8181-ce6fc366d3de\",\"type\":\"GlyphRenderer\"}]},\"id\":\"b6bbc6b8-4b53-48ec-9f4c-e33c6bc689c8\",\"type\":\"LegendItem\"},{\"attributes\":{\"label\":{\"value\":\"ma10_pirrww_m_30spfaf06\"},\"renderers\":[{\"id\":\"5689b4cd-3516-49f8-829c-6d5b5725f3a3\",\"type\":\"GlyphRenderer\"}]},\"id\":\"b429f3f9-ec1f-41e3-81be-a6f15e5c0f39\",\"type\":\"LegendItem\"},{\"attributes\":{},\"id\":\"b564dfb4-5add-43e1-82d8-01a7cc0302ed\",\"type\":\"BasicTickFormatter\"},{\"attributes\":{\"callback\":null},\"id\":\"62a90c53-f294-4c65-97ef-a78bedcdab2d\",\"type\":\"DataRange1d\"},{\"attributes\":{\"source\":{\"id\":\"9b6f2d05-20a6-41a1-bb85-b30c5cc35ac9\",\"type\":\"ColumnDataSource\"}},\"id\":\"b5302a67-4c4a-44ef-a94e-72896e9f0f57\",\"type\":\"CDSView\"},{\"attributes\":{\"bottom_units\":\"screen\",\"fill_alpha\":{\"value\":0.5},\"fill_color\":{\"value\":\"lightgrey\"},\"left_units\":\"screen\",\"level\":\"overlay\",\"line_alpha\":{\"value\":1.0},\"line_color\":{\"value\":\"black\"},\"line_dash\":[4,4],\"line_width\":{\"value\":2},\"plot\":null,\"render_mode\":\"css\",\"right_units\":\"screen\",\"top_units\":\"screen\"},\"id\":\"dedc5ff0-1fa1-494a-be03-9103908169a6\",\"type\":\"BoxAnnotation\"},{\"attributes\":{\"line_color\":\"#1f77b4\",\"x\":{\"field\":\"x\"},\"y\":{\"field\":\"y\"}},\"id\":\"41d17240-fe97-4bfa-8d98-2528442ab6b1\",\"type\":\"Line\"},{\"attributes\":{\"line_color\":\"#ff9896\",\"x\":{\"field\":\"x\"},\"y\":{\"field\":\"y\"}},\"id\":\"c5996aac-6ad9-49eb-9747-62255497b48f\",\"type\":\"Line\"},{\"attributes\":{},\"id\":\"623aac71-a140-4e7c-8b48-80920f85e2c0\",\"type\":\"UnionRenderers\"},{\"attributes\":{},\"id\":\"5c85e3b0-f16f-42c5-bb02-f2ac657af873\",\"type\":\"UnionRenderers\"},{\"attributes\":{},\"id\":\"7aba455a-1097-4e74-b50c-e996b71c3ddc\",\"type\":\"PanTool\"},{\"attributes\":{\"callback\":null,\"data\":{\"x\":[1960,1961,1962,1963,1964,1965,1966,1967,1968,1969,1970,1971,1972,1973,1974,1975,1976,1977,1978,1979,1980,1981,1982,1983,1984,1985,1986,1987,1988,1989,1990,1991,1992,1993,1994,1995,1996,1997,1998,1999,2000,2001,2002,2003,2004,2005,2006,2007,2008,2009,2010,2011,2012,2013,2014],\"y\":{\"__ndarray__\":\"AAAAAAAA+H/6/9nlqVqNP4yVRNsAvZk/zcy4FRKbnD/9UUIB95mgP//4vqcMupY/hvUI2b+gnj9V/hebIXeaP7e99DZIz5g/NAwZAZFOnz/3r0Ex+pufPwX55yuEJqI/wy+2Ye51oT/ZJgNfufmeP9mjkK0gjZ0/dxwB1kxflz8JzeMLq/6RP/iPpNnzuZI/B5u1pi/ilj85J4oID+ifP+rUUmlM7Zo/qvYJ2Ksqmj8NLSeqWIiWP/vwU27XU5A/vpM7BBJwkj94dxPF6Q2TP/9pcstzmIw/7J1ikTNYjD/UmWBrCxaTP36EJS2uXZQ/wqh4POUdlT/yLdGR/jmVP+3cgZJ1kI8/+MinRnTWhD/+OXTRHtCFP//HiF13p4A/TihOXAy9kD+6mDQHSgaUP4IkBQyKLZk//kCNEL0HlD+4/ccsN4qUP4gsrYea0Zs/e7EsAQ5+mD9N+Ezrv02ZPwmAK0BjuZ0/etuJedsikz8HhTvmJiWSP8U0bm6Wzpg/c7hV2tKFmT8uJyodX8GUP8a7k/XUS5g/JdtOBR8gmT+BPVPjxnaRP9VBdIGKO5U/4HpEeBVzlj8=\",\"dtype\":\"float64\",\"shape\":[55]}},\"selected\":{\"id\":\"798b8df3-9874-4cb3-95ee-22f8f80b2aa2\",\"type\":\"Selection\"},\"selection_policy\":{\"id\":\"12815c60-0a8a-4ecf-a088-6666bd4bdc63\",\"type\":\"UnionRenderers\"}},\"id\":\"fdfa1404-6af5-47e5-adad-c84b24d2cda8\",\"type\":\"ColumnDataSource\"},{\"attributes\":{},\"id\":\"00b39e34-e8f9-431a-be4b-50583f77bb35\",\"type\":\"Selection\"},{\"attributes\":{},\"id\":\"8a554f4b-9562-4fe2-b482-75973f895615\",\"type\":\"Selection\"},{\"attributes\":{\"label\":{\"value\":\"ols10_pirrwn_m_30spfaf06\"},\"renderers\":[{\"id\":\"37bacb3c-0793-4603-8b51-066b8f2508d3\",\"type\":\"GlyphRenderer\"}]},\"id\":\"a7772b77-13fe-401f-a3e9-8830b3d4bbde\",\"type\":\"LegendItem\"},{\"attributes\":{\"line_color\":\"#ffbb78\",\"x\":{\"field\":\"x\"},\"y\":{\"field\":\"y\"}},\"id\":\"5c5f30c5-37c1-4959-828a-b578e85903cd\",\"type\":\"Line\"},{\"attributes\":{\"line_alpha\":0.1,\"line_color\":\"#1f77b4\",\"x\":{\"field\":\"x\"},\"y\":{\"field\":\"y\"}},\"id\":\"8951d434-48df-4214-95d5-522f6e3c03b5\",\"type\":\"Line\"},{\"attributes\":{\"source\":{\"id\":\"4bc4e644-222a-494b-b27a-2044889382d0\",\"type\":\"ColumnDataSource\"}},\"id\":\"2342c057-ddff-41e0-9360-32ef84015510\",\"type\":\"CDSView\"},{\"attributes\":{\"callback\":null,\"data\":{\"x\":[1960,1961,1962,1963,1964,1965,1966,1967,1968,1969,1970,1971,1972,1973,1974,1975,1976,1977,1978,1979,1980,1981,1982,1983,1984,1985,1986,1987,1988,1989,1990,1991,1992,1993,1994,1995,1996,1997,1998,1999,2000,2001,2002,2003,2004,2005,2006,2007,2008,2009,2010,2011,2012,2013,2014],\"y\":{\"__ndarray__\":\"CzAV5wJ4Mz/E4OTec5I7P+M6SyI29jg/B9aFxGoXOT8fdunSFe88P/xefywdRkE/gZP6lfrJQD/SWl6ue9c/PyBbTzgQED8/t1JSqN/PPT850bN65W8/P/EEtSKkAz0/cI0kTvgEPj9YxUm0mkM+P1VZE5eAuz0/LelRuYvyOD/x7vKW3ng9P1DMCwiMhD4/8J34Tp6fPT/nCx4ncCs/P1uqvTUS6T0/+ivdjFohPz/bi2+YUVlAP0qLjtUXyEA/bd+WdQfWPj+Z7EGZ1xVAP1+U3vZpFT4/eMJd27YaQD/MC+DypX5AP4X1/mKlYkI/CZbPg96yQz/+vKIzLh5FPxIE/1epd0k/KEXlRylVST9IbdcBwyJLP5CIiJ4O/lA/kHlhU7NuUD/37gSfFghQP3UJxJxG8U8/kB4uTFVoUD81PyyN5AFQPyR1904eJ08/xiHxKIWiSj9F2KbnRPFLPxgASuyrjko/1D9PvTkKSj/sk6Vm31JNP35N9/cB3Uw/SZpM1j9nTT/ncKGyUBJMP0FbxLbgaUw/+LOaZJGbTD8svmf8vJJRP1EOXIGh+FA/yal9wwvgUj8=\",\"dtype\":\"float64\",\"shape\":[55]}},\"selected\":{\"id\":\"00b39e34-e8f9-431a-be4b-50583f77bb35\",\"type\":\"Selection\"},\"selection_policy\":{\"id\":\"8e88861d-21e6-4b27-b4eb-7fd5c370cbb3\",\"type\":\"UnionRenderers\"}},\"id\":\"27813aae-ade0-4cd5-8758-5be36260e4fb\",\"type\":\"ColumnDataSource\"},{\"attributes\":{\"line_alpha\":0.1,\"line_color\":\"#1f77b4\",\"x\":{\"field\":\"x\"},\"y\":{\"field\":\"y\"}},\"id\":\"eb452b5f-3026-4dc6-b37c-7c1f02a5a3c0\",\"type\":\"Line\"},{\"attributes\":{},\"id\":\"8e88861d-21e6-4b27-b4eb-7fd5c370cbb3\",\"type\":\"UnionRenderers\"},{\"attributes\":{\"callback\":null,\"data\":{\"x\":[1960,1961,1962,1963,1964,1965,1966,1967,1968,1969,1970,1971,1972,1973,1974,1975,1976,1977,1978,1979,1980,1981,1982,1983,1984,1985,1986,1987,1988,1989,1990,1991,1992,1993,1994,1995,1996,1997,1998,1999,2000,2001,2002,2003,2004,2005,2006,2007,2008,2009,2010,2011,2012,2013,2014],\"y\":{\"__ndarray__\":\"7t6jrtkroT/ENponhIKYPyd5L3q/95o/PhilivPQmz/iC3sFsm+dPziPPAsHcpo/ra5e6yqXnD+ZvtQbQXqbP7+EgqtZ7po/MdH+qT6znD/vJcbKlOWbPzHqjTucV58/2xFUDn7bnj8FhWktIMudPwAvtc0Tapw/5Ggoyz1MnT9jRaRfGNKZP3naPKY9AJs/jL1Mq9rnnD/85keoOAmdP0ZEOm1yBpw/hoAlfPl4mD+QJxb0FASXP/tCr+livZU/cHZgCStKlj97NptUQceWP4zYT9gW8Zc/45+KfrO2lj8TXhdOLSeVP57sUwWvnJE/yB3IzWENkj/uswvNRsmSP/3rLj8pNZI/QRZdslNukj99lNFQ1B6RPyPv3k8/MY4/ZxZSM30FkT81VSfsl6CRPwFcdSgMzJE/8QHcleV0kT975ycofxuRPwfFS4nKm5I/BNfpSFGHkz85IONZL2WVP4l/IQKvwpc/OCMvl52plz+TlPPmwy2VP1YUX1gsdpY/bOy/p5PXlT8Cn8+Ht8mWP2QJkXuZtZg/Nn/raXEslz+dn/BjWhuWP/5uwosPSpY/GSHnTEAilD8=\",\"dtype\":\"float64\",\"shape\":[55]}},\"selected\":{\"id\":\"f88adc62-cb3f-430d-8bb3-cd4a832fea4f\",\"type\":\"Selection\"},\"selection_policy\":{\"id\":\"2b55db61-4e15-40b5-acde-6bad8bc452c2\",\"type\":\"UnionRenderers\"}},\"id\":\"9b6f2d05-20a6-41a1-bb85-b30c5cc35ac9\",\"type\":\"ColumnDataSource\"},{\"attributes\":{},\"id\":\"6c7db1a4-ca8a-4023-afe7-acc7687c473c\",\"type\":\"Selection\"},{\"attributes\":{\"source\":{\"id\":\"fdfa1404-6af5-47e5-adad-c84b24d2cda8\",\"type\":\"ColumnDataSource\"}},\"id\":\"6b5c2a7b-3a32-4ab2-a404-a5b3bc6b47c8\",\"type\":\"CDSView\"},{\"attributes\":{\"label\":{\"value\":\"ols10_pirrww_m_30spfaf06\"},\"renderers\":[{\"id\":\"73300f4f-1d53-44a7-8edd-561ed3f8b6ce\",\"type\":\"GlyphRenderer\"}]},\"id\":\"291d7154-6610-4d3e-ae8b-06909f142479\",\"type\":\"LegendItem\"},{\"attributes\":{\"below\":[{\"id\":\"7a7f6c4f-e799-4e42-bc3b-34d8815beabb\",\"type\":\"LinearAxis\"}],\"left\":[{\"id\":\"dd2b801b-e5c8-48c0-a41d-e63e05ec3fa8\",\"type\":\"LinearAxis\"}],\"plot_height\":800,\"plot_width\":900,\"renderers\":[{\"id\":\"7a7f6c4f-e799-4e42-bc3b-34d8815beabb\",\"type\":\"LinearAxis\"},{\"id\":\"614e6e29-15c9-4746-8a90-620be9d14fe7\",\"type\":\"Grid\"},{\"id\":\"dd2b801b-e5c8-48c0-a41d-e63e05ec3fa8\",\"type\":\"LinearAxis\"},{\"id\":\"2594494b-a044-4ee3-9830-e4ff4223df46\",\"type\":\"Grid\"},{\"id\":\"dedc5ff0-1fa1-494a-be03-9103908169a6\",\"type\":\"BoxAnnotation\"},{\"id\":\"81fc441c-6e08-42d5-942e-be1d287492c2\",\"type\":\"Legend\"},{\"id\":\"f2915603-73ca-44ed-9750-22cbab3f76fb\",\"type\":\"GlyphRenderer\"},{\"id\":\"cf9bb455-9529-4ae9-8181-ce6fc366d3de\",\"type\":\"GlyphRenderer\"},{\"id\":\"c0d8f219-7413-4899-ab0a-6e29e365588e\",\"type\":\"GlyphRenderer\"},{\"id\":\"5689b4cd-3516-49f8-829c-6d5b5725f3a3\",\"type\":\"GlyphRenderer\"},{\"id\":\"8fdb4730-419f-4065-becf-51db9845673c\",\"type\":\"GlyphRenderer\"},{\"id\":\"b139e861-c88c-4b12-9673-e5285272b04a\",\"type\":\"GlyphRenderer\"},{\"id\":\"73300f4f-1d53-44a7-8edd-561ed3f8b6ce\",\"type\":\"GlyphRenderer\"},{\"id\":\"37bacb3c-0793-4603-8b51-066b8f2508d3\",\"type\":\"GlyphRenderer\"},{\"id\":\"2a06084a-be4f-4cf8-946b-35ea3ce52903\",\"type\":\"GlyphRenderer\"}],\"title\":{\"id\":\"47c22d36-1ecb-49a8-be16-61395f5b019e\",\"type\":\"Title\"},\"toolbar\":{\"id\":\"ab9ca737-6afb-4fe3-8234-64d5e254ebac\",\"type\":\"Toolbar\"},\"x_range\":{\"id\":\"f21f6f1f-421b-4205-83ec-f063f5b21e02\",\"type\":\"DataRange1d\"},\"x_scale\":{\"id\":\"395ff699-2eba-4a75-b1d4-7adff4e04855\",\"type\":\"LinearScale\"},\"y_range\":{\"id\":\"62a90c53-f294-4c65-97ef-a78bedcdab2d\",\"type\":\"DataRange1d\"},\"y_scale\":{\"id\":\"6cb46ecc-02ce-4226-b038-33cdaa6976f1\",\"type\":\"LinearScale\"}},\"id\":\"b91ac935-9b01-4fae-8034-e62fe7d3b816\",\"subtype\":\"Figure\",\"type\":\"Plot\"},{\"attributes\":{\"data_source\":{\"id\":\"9b6f2d05-20a6-41a1-bb85-b30c5cc35ac9\",\"type\":\"ColumnDataSource\"},\"glyph\":{\"id\":\"cba4be90-2adb-40f9-ad69-78819f879ac4\",\"type\":\"Line\"},\"hover_glyph\":null,\"muted_glyph\":null,\"nonselection_glyph\":{\"id\":\"0199e22f-ed9c-49db-a542-041c171b7ba1\",\"type\":\"Line\"},\"selection_glyph\":null,\"view\":{\"id\":\"b5302a67-4c4a-44ef-a94e-72896e9f0f57\",\"type\":\"CDSView\"}},\"id\":\"b139e861-c88c-4b12-9673-e5285272b04a\",\"type\":\"GlyphRenderer\"},{\"attributes\":{\"callback\":null,\"data\":{\"x\":[1960,1961,1962,1963,1964,1965,1966,1967,1968,1969,1970,1971,1972,1973,1974,1975,1976,1977,1978,1979,1980,1981,1982,1983,1984,1985,1986,1987,1988,1989,1990,1991,1992,1993,1994,1995,1996,1997,1998,1999,2000,2001,2002,2003,2004,2005,2006,2007,2008,2009,2010,2011,2012,2013,2014],\"y\":{\"__ndarray__\":\"CzAV5wJ4Mz/ISFprctZBPw7vF6m6vTM/mac1qwh7OT8a+zsG4SZGP5yStHv4Tk8/Pp27HVbCOz+VxT4/KbAzP+pd14e01Dg/hwZtmCqOMj+XEHKPHtxBPzItgc2u5CY/UkRzWwTLPT+r1qmoYO07PxLfK3RefkM/bIe1m8CILT/NdYGxZEBSPyhrN6rvJD4/VBwvmtbGLz8MqfGELgJBP0FRILGRIDc/5Kb7zSqlNz8pPcNh7btGP3zlirduSkI/Ii0zolVuJz95hRyv7Rw8P2mTyDhvEUo/b2hslIqyST+oSEUjGbI3PyplE3MU9VE/u222IISySD9QWT1FsgNKP+2AVzOvjmA/I3CJFm7xQD+RXAKsluNHP8Sq80n/omQ/vM52s5q8PT+dkjF9TK5BPzCv0IkUSDU/92YMXQhSVj9t+5A0tbFAP6P8clMGZUE/cMIeUcEMRT/ykKKJ6wROP9vVw7Q5EzQ/G8qA1OFXYz8zWI37YtpXP1SkxVRMJzo/jFc99HQKQD/8L2lVuVJPP+ki7l1VHUQ/znPSHe1VQz9epcvG9ZtlP8nTuOzF+kE/igmBAvUOWD8=\",\"dtype\":\"float64\",\"shape\":[55]}},\"selected\":{\"id\":\"6c7db1a4-ca8a-4023-afe7-acc7687c473c\",\"type\":\"Selection\"},\"selection_policy\":{\"id\":\"21192ec1-cbc2-4ef9-97f3-b749d244c228\",\"type\":\"UnionRenderers\"}},\"id\":\"7231a004-1670-473a-b779-aa4af6799824\",\"type\":\"ColumnDataSource\"},{\"attributes\":{\"callback\":null,\"data\":{\"x\":[1960,1961,1962,1963,1964,1965,1966,1967,1968,1969,1970,1971,1972,1973,1974,1975,1976,1977,1978,1979,1980,1981,1982,1983,1984,1985,1986,1987,1988,1989,1990,1991,1992,1993,1994,1995,1996,1997,1998,1999,2000,2001,2002,2003,2004,2005,2006,2007,2008,2009,2010,2011,2012,2013,2014],\"y\":{\"__ndarray__\":\"Q8wSwXzcQT9zonuWZl1QP9STd9hyHEI/yEfIPm9gRz/DaY8gpFJUP9/mxREvuVw/j2TgD5N3ST8DeYA5ABBCPzRrBujWx0Y/vTPUYPMFQT87kdvUmmJQPxiT1ejFADU/DFkUWUNVSz+xdA3SD59JPwsApetR4lE/vJWHR3gYOz/fji9omb5gP/Y32/vBp0s/qYXKeCcnPT+jtd/yUjVPP/xMyPC2N0U/YFxIP12xRT9ywhf2YdtUP5aBdzzPx1A/p8dnHQ9/NT/F4Z+6r8pJP6kYwa9q6lc/oWM93FuTVz8QJtQ/Or1FP/Gklx2BeWA/3mw3K3moVj+L+Ikh0N1XP1EO/fpmYW4/EyG2RZYWTz8p58+uoepVP8dXHUvJ7nI/rwBuWwpISz8udSNLkThQP3fhGhU9hkM/Py1jTzt6ZD/AuF5eqqFOP7ofBPOv6k8/n0Ac2s9PUz+whumaYopbP7f/GLLiakI/jtwq0QK/cT8WD4N9MOJlPxDAp6R5/kc/Ya8bcMhuTT82/MqToLxcP3I/8rQodFI/vx2Tcje9UT+Q6ehLMdNzP9Fhiz66flA/xUeJTmsSZj8=\",\"dtype\":\"float64\",\"shape\":[55]}},\"selected\":{\"id\":\"ef56d840-6292-4f21-bf8a-7b41c040e2e8\",\"type\":\"Selection\"},\"selection_policy\":{\"id\":\"623aac71-a140-4e7c-8b48-80920f85e2c0\",\"type\":\"UnionRenderers\"}},\"id\":\"882eaa85-b9a2-4603-b9d1-6babe352847a\",\"type\":\"ColumnDataSource\"},{\"attributes\":{},\"id\":\"681ce89b-cd75-4cea-9301-eb3f1292acb2\",\"type\":\"BasicTickFormatter\"},{\"attributes\":{\"click_policy\":\"hide\",\"items\":[{\"id\":\"4b36d859-ad30-4c11-8f0e-ec1ca62f58ca\",\"type\":\"LegendItem\"},{\"id\":\"b6bbc6b8-4b53-48ec-9f4c-e33c6bc689c8\",\"type\":\"LegendItem\"},{\"id\":\"023c87fd-4c68-4d05-ad8d-91e3e2249b23\",\"type\":\"LegendItem\"},{\"id\":\"b429f3f9-ec1f-41e3-81be-a6f15e5c0f39\",\"type\":\"LegendItem\"},{\"id\":\"ff18fa37-3f38-47da-b9d8-c0d2548c4ecb\",\"type\":\"LegendItem\"},{\"id\":\"57baedfa-80fd-47e4-90e2-20794c1c7a98\",\"type\":\"LegendItem\"},{\"id\":\"291d7154-6610-4d3e-ae8b-06909f142479\",\"type\":\"LegendItem\"},{\"id\":\"a7772b77-13fe-401f-a3e9-8830b3d4bbde\",\"type\":\"LegendItem\"},{\"id\":\"9d2bbf5d-6d8e-4413-822d-520bb03b2d83\",\"type\":\"LegendItem\"}],\"location\":\"top_left\",\"plot\":{\"id\":\"b91ac935-9b01-4fae-8034-e62fe7d3b816\",\"subtype\":\"Figure\",\"type\":\"Plot\"}},\"id\":\"81fc441c-6e08-42d5-942e-be1d287492c2\",\"type\":\"Legend\"},{\"attributes\":{\"overlay\":{\"id\":\"dedc5ff0-1fa1-494a-be03-9103908169a6\",\"type\":\"BoxAnnotation\"}},\"id\":\"c6ae2e8d-0917-4245-8ad3-469fe5dedd95\",\"type\":\"BoxZoomTool\"},{\"attributes\":{\"source\":{\"id\":\"f339d555-007b-42b3-9b93-1c375758fd49\",\"type\":\"ColumnDataSource\"}},\"id\":\"c25ad9b7-caa1-4a3a-a4cc-f5c0791e048b\",\"type\":\"CDSView\"},{\"attributes\":{},\"id\":\"798b8df3-9874-4cb3-95ee-22f8f80b2aa2\",\"type\":\"Selection\"},{\"attributes\":{\"callback\":null},\"id\":\"f21f6f1f-421b-4205-83ec-f063f5b21e02\",\"type\":\"DataRange1d\"},{\"attributes\":{\"line_color\":\"#9467bd\",\"x\":{\"field\":\"x\"},\"y\":{\"field\":\"y\"}},\"id\":\"8b91fc43-ac09-4ccf-8321-4ed250c2bf6e\",\"type\":\"Line\"},{\"attributes\":{\"callback\":null,\"data\":{\"x\":[1960,1961,1962,1963,1964,1965,1966,1967,1968,1969,1970,1971,1972,1973,1974,1975,1976,1977,1978,1979,1980,1981,1982,1983,1984,1985,1986,1987,1988,1989,1990,1991,1992,1993,1994,1995,1996,1997,1998,1999,2000,2001,2002,2003,2004,2005,2006,2007,2008,2009,2010,2011,2012,2013,2014],\"y\":{\"__ndarray__\":\"AAAAAAAA+H8BQKyWZl1QP6gqEE6PBkc/XeYN+hBPRz9xmWAi3uRQPwIKjzjf81c/7EBLzAV7VD8XL9azhrJQP2MLFi/iIE4/Q7m77DXeST/8WXXsrddJP/+JYNLZSEQ/hFO0gnXUQj/9Qd2Yg1VBP4Mg95G9rEY/hMyZ2DT3Rz964tY1PttTP4oPgUm4EFM/vkVT7K45UD/CjuP37s9PP4MK97EjGU4/gzma6oW5SD9sR3LxAAZNP4P+9EYFYU0/fIwKcjNzRz//TJ04eKNDP4n1tcLAulA/7xuaL7YcVD/EiURED0RRP/WpsrXRg1c/AoIRPIFDWD9rNGhp99FYP4tJhPf8tGM/hIBDfKCyYT/6U+EJV11fP/e0JK1aQ2c/PlXtpOuBYz+FQNQUnXFgPxIx+SaSY1Y/NdDFKm4kWz95ceKBKItUP/85Ps44nk0/fTBboQwLUj+Hxe9pZFZRPwOqwKyU1kU/iZ5J9xSmYj/3rW+xow5lP4iCkG0ZamE/coiIZOZrWz9p1XfQaNNeP5+TNGVnN1o/76MM0UhRVT9IgtzkGSFjP6Khm7GM4F8/C0iwtrX7Xz8=\",\"dtype\":\"float64\",\"shape\":[55]}},\"selected\":{\"id\":\"0a85a04f-c193-4862-a480-77b5359481ff\",\"type\":\"Selection\"},\"selection_policy\":{\"id\":\"1ea923e3-ebc6-42c6-a5fa-4151c3c226bb\",\"type\":\"UnionRenderers\"}},\"id\":\"4bc4e644-222a-494b-b27a-2044889382d0\",\"type\":\"ColumnDataSource\"},{\"attributes\":{\"line_alpha\":0.1,\"line_color\":\"#1f77b4\",\"x\":{\"field\":\"x\"},\"y\":{\"field\":\"y\"}},\"id\":\"98f7b069-3591-4ed6-b033-5cb914e96629\",\"type\":\"Line\"},{\"attributes\":{\"line_alpha\":0.1,\"line_color\":\"#1f77b4\",\"x\":{\"field\":\"x\"},\"y\":{\"field\":\"y\"}},\"id\":\"90ab4b88-752d-4fab-b453-0c048ff02585\",\"type\":\"Line\"},{\"attributes\":{\"line_color\":\"#d62728\",\"x\":{\"field\":\"x\"},\"y\":{\"field\":\"y\"}},\"id\":\"ff69c42d-6404-48c2-8ec0-19b529f7ac77\",\"type\":\"Line\"},{\"attributes\":{\"data_source\":{\"id\":\"fdfa1404-6af5-47e5-adad-c84b24d2cda8\",\"type\":\"ColumnDataSource\"},\"glyph\":{\"id\":\"8b91fc43-ac09-4ccf-8321-4ed250c2bf6e\",\"type\":\"Line\"},\"hover_glyph\":null,\"muted_glyph\":null,\"nonselection_glyph\":{\"id\":\"eb452b5f-3026-4dc6-b37c-7c1f02a5a3c0\",\"type\":\"Line\"},\"selection_glyph\":null,\"view\":{\"id\":\"6b5c2a7b-3a32-4ab2-a404-a5b3bc6b47c8\",\"type\":\"CDSView\"}},\"id\":\"2a06084a-be4f-4cf8-946b-35ea3ce52903\",\"type\":\"GlyphRenderer\"},{\"attributes\":{},\"id\":\"395ff699-2eba-4a75-b1d4-7adff4e04855\",\"type\":\"LinearScale\"},{\"attributes\":{},\"id\":\"1ea923e3-ebc6-42c6-a5fa-4151c3c226bb\",\"type\":\"UnionRenderers\"},{\"attributes\":{},\"id\":\"9b16e3de-11d5-4bb4-9c26-e8e07411ca04\",\"type\":\"SaveTool\"},{\"attributes\":{\"data_source\":{\"id\":\"4b12f679-a254-43c8-a255-1ea45a903957\",\"type\":\"ColumnDataSource\"},\"glyph\":{\"id\":\"5c5f30c5-37c1-4959-828a-b578e85903cd\",\"type\":\"Line\"},\"hover_glyph\":null,\"muted_glyph\":null,\"nonselection_glyph\":{\"id\":\"90ab4b88-752d-4fab-b453-0c048ff02585\",\"type\":\"Line\"},\"selection_glyph\":null,\"view\":{\"id\":\"ae718f2c-551c-4d04-9e77-df426bfe0a77\",\"type\":\"CDSView\"}},\"id\":\"5689b4cd-3516-49f8-829c-6d5b5725f3a3\",\"type\":\"GlyphRenderer\"},{\"attributes\":{},\"id\":\"0ccb8276-37d7-409e-a1fd-7fb6aae7a7c1\",\"type\":\"Selection\"},{\"attributes\":{\"dimension\":1,\"plot\":{\"id\":\"b91ac935-9b01-4fae-8034-e62fe7d3b816\",\"subtype\":\"Figure\",\"type\":\"Plot\"},\"ticker\":{\"id\":\"ac3b0b3c-af31-4df2-aa13-c4fa2d88c9a9\",\"type\":\"BasicTicker\"}},\"id\":\"2594494b-a044-4ee3-9830-e4ff4223df46\",\"type\":\"Grid\"},{\"attributes\":{\"callback\":null,\"data\":{\"x\":[1960,1961,1962,1963,1964,1965,1966,1967,1968,1969,1970,1971,1972,1973,1974,1975,1976,1977,1978,1979,1980,1981,1982,1983,1984,1985,1986,1987,1988,1989,1990,1991,1992,1993,1994,1995,1996,1997,1998,1999,2000,2001,2002,2003,2004,2005,2006,2007,2008,2009,2010,2011,2012,2013,2014],\"y\":{\"__ndarray__\":\"7t6jrtkroT9WX9njqVqNP+/9WR824p8/oPUFvI9cnj84bWn4VfWhP5A/CFBg+4Y/07UVFgG7pD9KLg9v3K+TP1+18Cgej5Y/38AuzqVPpj9MDBGlEE+aP50t3azPkKg/zIkXWwgJmz+bddzy5LiTP8t9xzMwIJY/J2OEDlRTlD+pJAjkL8J6P7MABTFRfZ8/8MnHLaDNpD8BkBa/e/amP6KxiFZSM5A/8GvV3cs1iz/KHvwUNvCIPx0fXivC13s/sICzcAGgmz8J5M/+MjaZP0VdEB7jUpI/4clQr281kz80Ag93AgCaP3dhFU0RCIU/1Z0SK06alD90k47n1/GUP0IBef/Nu3o/EFtKFTJjgj+y3oBCDwqNP9gL65eR4HM/lEj1R8XJoj8tPqXnekSZP0pGG9KMsps/NrI0shtyfD+rlAniTRyRP6Odetlk+qE/2+gV+G3Ejz/XCWK0RdybP9gT2BkCFqM/t0IZxLHrbz9z/S1bE3qJP7gd7KpHDKM/8rfj65WAlT+4JSqt7ZGQPzPey7OQKaI/QdZ9AjmZlD9v4PgAQ910P/UilEJZr50/DR0fv+udkD8=\",\"dtype\":\"float64\",\"shape\":[55]}},\"selected\":{\"id\":\"8a554f4b-9562-4fe2-b482-75973f895615\",\"type\":\"Selection\"},\"selection_policy\":{\"id\":\"fec02003-5465-4973-9cbc-7a3d966c446d\",\"type\":\"UnionRenderers\"}},\"id\":\"f339d555-007b-42b3-9b93-1c375758fd49\",\"type\":\"ColumnDataSource\"},{\"attributes\":{\"data_source\":{\"id\":\"7231a004-1670-473a-b779-aa4af6799824\",\"type\":\"ColumnDataSource\"},\"glyph\":{\"id\":\"e35f33f0-55b7-4fb4-b509-cfcccffb3581\",\"type\":\"Line\"},\"hover_glyph\":null,\"muted_glyph\":null,\"nonselection_glyph\":{\"id\":\"e8b27842-385c-46af-81e2-0f039de7f61b\",\"type\":\"Line\"},\"selection_glyph\":null,\"view\":{\"id\":\"52f95927-b067-4f9c-b8e4-8eaedd78d638\",\"type\":\"CDSView\"}},\"id\":\"cf9bb455-9529-4ae9-8181-ce6fc366d3de\",\"type\":\"GlyphRenderer\"},{\"attributes\":{},\"id\":\"6075b062-b8ef-44e2-bd24-d4618e68e269\",\"type\":\"WheelZoomTool\"},{\"attributes\":{},\"id\":\"ac3b0b3c-af31-4df2-aa13-c4fa2d88c9a9\",\"type\":\"BasicTicker\"},{\"attributes\":{},\"id\":\"fec02003-5465-4973-9cbc-7a3d966c446d\",\"type\":\"UnionRenderers\"},{\"attributes\":{\"source\":{\"id\":\"0402428c-6182-4937-805e-e6bc2bb5fccc\",\"type\":\"ColumnDataSource\"}},\"id\":\"e23a72f3-ac2a-4586-ab99-cc9d4d2a71e2\",\"type\":\"CDSView\"},{\"attributes\":{\"label\":{\"value\":\"ma10_pirrwn_m_30spfaf06\"},\"renderers\":[{\"id\":\"8fdb4730-419f-4065-becf-51db9845673c\",\"type\":\"GlyphRenderer\"}]},\"id\":\"ff18fa37-3f38-47da-b9d8-c0d2548c4ecb\",\"type\":\"LegendItem\"},{\"attributes\":{\"line_color\":\"#ff7f0e\",\"x\":{\"field\":\"x\"},\"y\":{\"field\":\"y\"}},\"id\":\"574b32ae-fbc7-4495-a9c6-a29ad5f909ba\",\"type\":\"Line\"},{\"attributes\":{\"formatter\":{\"id\":\"681ce89b-cd75-4cea-9301-eb3f1292acb2\",\"type\":\"BasicTickFormatter\"},\"plot\":{\"id\":\"b91ac935-9b01-4fae-8034-e62fe7d3b816\",\"subtype\":\"Figure\",\"type\":\"Plot\"},\"ticker\":{\"id\":\"d54b9620-d4c0-4d02-82db-e8fce674ca1e\",\"type\":\"BasicTicker\"}},\"id\":\"7a7f6c4f-e799-4e42-bc3b-34d8815beabb\",\"type\":\"LinearAxis\"},{\"attributes\":{\"line_alpha\":0.1,\"line_color\":\"#1f77b4\",\"x\":{\"field\":\"x\"},\"y\":{\"field\":\"y\"}},\"id\":\"a2a7a61a-1ab2-4f8c-bdab-e9d688b2b3d1\",\"type\":\"Line\"},{\"attributes\":{\"line_color\":\"#2ca02c\",\"x\":{\"field\":\"x\"},\"y\":{\"field\":\"y\"}},\"id\":\"57475ede-0b33-4885-9cc4-ac24546e451a\",\"type\":\"Line\"},{\"attributes\":{},\"id\":\"e65c643d-0111-4c12-b6b6-ebb0dc4c441d\",\"type\":\"UnionRenderers\"},{\"attributes\":{},\"id\":\"0a85a04f-c193-4862-a480-77b5359481ff\",\"type\":\"Selection\"},{\"attributes\":{\"source\":{\"id\":\"7231a004-1670-473a-b779-aa4af6799824\",\"type\":\"ColumnDataSource\"}},\"id\":\"52f95927-b067-4f9c-b8e4-8eaedd78d638\",\"type\":\"CDSView\"},{\"attributes\":{\"callback\":null,\"data\":{\"x\":[1960,1961,1962,1963,1964,1965,1966,1967,1968,1969,1970,1971,1972,1973,1974,1975,1976,1977,1978,1979,1980,1981,1982,1983,1984,1985,1986,1987,1988,1989,1990,1991,1992,1993,1994,1995,1996,1997,1998,1999,2000,2001,2002,2003,2004,2005,2006,2007,2008,2009,2010,2011,2012,2013,2014],\"y\":{\"__ndarray__\":\"AAAAAAAA+H8DwGVrctZBP6pqNAMSGTk/ymxEPBpoOT+BAMMfG2pCPwUM3Zm9G0o/BFZKFeVSRj+CmFzSOzNCP5NRo4qFa0A/xgLbtTUyPD/HOns6Fys8P/zrZyU1HDY/+A2C7UyGND/8WYL14+QyPwf+9dcqtzg/EyxqDmAfOj99sgktvKRFP3yFTR78x0Q/gjTz0oOvQT/kkSSicVZBP7y6NhZNZ0A/PG1YLi7zOj9X2/VJtKI/Pxy7+9L0AkA/CGoDPX2POT/4ilko8Wc1P0Gqp2wzPEI/fjzhixjsRT9jpnh63dFCPwTnumSaoUk/+0sPXIpySj+EekHa0g1LPwuf94kJe1U/FcUbK2JKUz8QpHyM/RdRP//izRVWW1k/jDSfnF9DVT9RvfCceuxRP3yzbZdpZ0g/QN9dDcqVTT8EGR6Ne2RGP/yXIqBPJEA/g/dCkMOqQz/9RsYB2eVCP/mB27O7zTc/CAGa2r9TVD8APn8SzPNWPxeYpBNU+1I/oMpL9LDjTT86OKV60cxQP7VLJDNuk0w//3qYsnA8Rz80NG8l19lUP7tetel/X1E/2OzFTk1uUT8=\",\"dtype\":\"float64\",\"shape\":[55]}},\"selected\":{\"id\":\"0ccb8276-37d7-409e-a1fd-7fb6aae7a7c1\",\"type\":\"Selection\"},\"selection_policy\":{\"id\":\"5c85e3b0-f16f-42c5-bb02-f2ac657af873\",\"type\":\"UnionRenderers\"}},\"id\":\"0402428c-6182-4937-805e-e6bc2bb5fccc\",\"type\":\"ColumnDataSource\"},{\"attributes\":{},\"id\":\"1be65ee2-cfe5-46c8-871a-8d5fe1866d52\",\"type\":\"Selection\"},{\"attributes\":{\"source\":{\"id\":\"27813aae-ade0-4cd5-8758-5be36260e4fb\",\"type\":\"ColumnDataSource\"}},\"id\":\"70021411-f457-4c2a-ab96-0fe8212ae9e2\",\"type\":\"CDSView\"},{\"attributes\":{\"line_color\":\"#aec7e8\",\"x\":{\"field\":\"x\"},\"y\":{\"field\":\"y\"}},\"id\":\"e35f33f0-55b7-4fb4-b509-cfcccffb3581\",\"type\":\"Line\"},{\"attributes\":{},\"id\":\"cb8f185b-7f2c-4082-be73-add39a383afe\",\"type\":\"HelpTool\"},{\"attributes\":{},\"id\":\"12815c60-0a8a-4ecf-a088-6666bd4bdc63\",\"type\":\"UnionRenderers\"},{\"attributes\":{\"data_source\":{\"id\":\"0402428c-6182-4937-805e-e6bc2bb5fccc\",\"type\":\"ColumnDataSource\"},\"glyph\":{\"id\":\"c5996aac-6ad9-49eb-9747-62255497b48f\",\"type\":\"Line\"},\"hover_glyph\":null,\"muted_glyph\":null,\"nonselection_glyph\":{\"id\":\"98f7b069-3591-4ed6-b033-5cb914e96629\",\"type\":\"Line\"},\"selection_glyph\":null,\"view\":{\"id\":\"e23a72f3-ac2a-4586-ab99-cc9d4d2a71e2\",\"type\":\"CDSView\"}},\"id\":\"37bacb3c-0793-4603-8b51-066b8f2508d3\",\"type\":\"GlyphRenderer\"},{\"attributes\":{\"source\":{\"id\":\"882eaa85-b9a2-4603-b9d1-6babe352847a\",\"type\":\"ColumnDataSource\"}},\"id\":\"815077ac-c421-4a34-99ef-e2d667058714\",\"type\":\"CDSView\"},{\"attributes\":{\"source\":{\"id\":\"4b12f679-a254-43c8-a255-1ea45a903957\",\"type\":\"ColumnDataSource\"}},\"id\":\"ae718f2c-551c-4d04-9e77-df426bfe0a77\",\"type\":\"CDSView\"},{\"attributes\":{},\"id\":\"6cb46ecc-02ce-4226-b038-33cdaa6976f1\",\"type\":\"LinearScale\"},{\"attributes\":{\"data_source\":{\"id\":\"f339d555-007b-42b3-9b93-1c375758fd49\",\"type\":\"ColumnDataSource\"},\"glyph\":{\"id\":\"574b32ae-fbc7-4495-a9c6-a29ad5f909ba\",\"type\":\"Line\"},\"hover_glyph\":null,\"muted_glyph\":null,\"nonselection_glyph\":{\"id\":\"21149991-e597-47aa-8241-93a028951b5c\",\"type\":\"Line\"},\"selection_glyph\":null,\"view\":{\"id\":\"c25ad9b7-caa1-4a3a-a4cc-f5c0791e048b\",\"type\":\"CDSView\"}},\"id\":\"c0d8f219-7413-4899-ab0a-6e29e365588e\",\"type\":\"GlyphRenderer\"},{\"attributes\":{\"data_source\":{\"id\":\"27813aae-ade0-4cd5-8758-5be36260e4fb\",\"type\":\"ColumnDataSource\"},\"glyph\":{\"id\":\"57475ede-0b33-4885-9cc4-ac24546e451a\",\"type\":\"Line\"},\"hover_glyph\":null,\"muted_glyph\":null,\"nonselection_glyph\":{\"id\":\"a2a7a61a-1ab2-4f8c-bdab-e9d688b2b3d1\",\"type\":\"Line\"},\"selection_glyph\":null,\"view\":{\"id\":\"70021411-f457-4c2a-ab96-0fe8212ae9e2\",\"type\":\"CDSView\"}},\"id\":\"8fdb4730-419f-4065-becf-51db9845673c\",\"type\":\"GlyphRenderer\"},{\"attributes\":{\"label\":{\"value\":\"pirrww_m_30spfaf06\"},\"renderers\":[{\"id\":\"f2915603-73ca-44ed-9750-22cbab3f76fb\",\"type\":\"GlyphRenderer\"}]},\"id\":\"4b36d859-ad30-4c11-8f0e-ec1ca62f58ca\",\"type\":\"LegendItem\"},{\"attributes\":{\"line_alpha\":0.1,\"line_color\":\"#1f77b4\",\"x\":{\"field\":\"x\"},\"y\":{\"field\":\"y\"}},\"id\":\"e8b27842-385c-46af-81e2-0f039de7f61b\",\"type\":\"Line\"},{\"attributes\":{\"label\":{\"value\":\"ols10_riverdischarge_m_30spfaf06\"},\"renderers\":[{\"id\":\"2a06084a-be4f-4cf8-946b-35ea3ce52903\",\"type\":\"GlyphRenderer\"}]},\"id\":\"9d2bbf5d-6d8e-4413-822d-520bb03b2d83\",\"type\":\"LegendItem\"},{\"attributes\":{\"line_alpha\":0.1,\"line_color\":\"#1f77b4\",\"x\":{\"field\":\"x\"},\"y\":{\"field\":\"y\"}},\"id\":\"11b89dc4-f9dc-44be-a97e-8d6aa4893c58\",\"type\":\"Line\"},{\"attributes\":{\"line_color\":\"#98df8a\",\"x\":{\"field\":\"x\"},\"y\":{\"field\":\"y\"}},\"id\":\"cba4be90-2adb-40f9-ad69-78819f879ac4\",\"type\":\"Line\"},{\"attributes\":{\"line_alpha\":0.1,\"line_color\":\"#1f77b4\",\"x\":{\"field\":\"x\"},\"y\":{\"field\":\"y\"}},\"id\":\"21149991-e597-47aa-8241-93a028951b5c\",\"type\":\"Line\"},{\"attributes\":{\"plot\":{\"id\":\"b91ac935-9b01-4fae-8034-e62fe7d3b816\",\"subtype\":\"Figure\",\"type\":\"Plot\"},\"ticker\":{\"id\":\"d54b9620-d4c0-4d02-82db-e8fce674ca1e\",\"type\":\"BasicTicker\"}},\"id\":\"614e6e29-15c9-4746-8a90-620be9d14fe7\",\"type\":\"Grid\"},{\"attributes\":{\"label\":{\"value\":\"riverdischarge_m_30spfaf06\"},\"renderers\":[{\"id\":\"c0d8f219-7413-4899-ab0a-6e29e365588e\",\"type\":\"GlyphRenderer\"}]},\"id\":\"023c87fd-4c68-4d05-ad8d-91e3e2249b23\",\"type\":\"LegendItem\"},{\"attributes\":{\"plot\":null,\"text\":\"\"},\"id\":\"47c22d36-1ecb-49a8-be16-61395f5b019e\",\"type\":\"Title\"},{\"attributes\":{\"callback\":null,\"renderers\":\"auto\",\"tooltips\":[[\"year\",\"@x\"],[\"value\",\"@y\"]]},\"id\":\"ec3ba759-dbda-4928-807d-03c26ceb52a3\",\"type\":\"HoverTool\"},{\"attributes\":{\"formatter\":{\"id\":\"b564dfb4-5add-43e1-82d8-01a7cc0302ed\",\"type\":\"BasicTickFormatter\"},\"plot\":{\"id\":\"b91ac935-9b01-4fae-8034-e62fe7d3b816\",\"subtype\":\"Figure\",\"type\":\"Plot\"},\"ticker\":{\"id\":\"ac3b0b3c-af31-4df2-aa13-c4fa2d88c9a9\",\"type\":\"BasicTicker\"}},\"id\":\"dd2b801b-e5c8-48c0-a41d-e63e05ec3fa8\",\"type\":\"LinearAxis\"},{\"attributes\":{\"line_alpha\":0.1,\"line_color\":\"#1f77b4\",\"x\":{\"field\":\"x\"},\"y\":{\"field\":\"y\"}},\"id\":\"0199e22f-ed9c-49db-a542-041c171b7ba1\",\"type\":\"Line\"}],\"root_ids\":[\"b91ac935-9b01-4fae-8034-e62fe7d3b816\"]},\"title\":\"Bokeh Application\",\"version\":\"0.12.16\"}};\n",
       "  var render_items = [{\"docid\":\"0fb350ae-f965-4724-b015-2231f4a3e01c\",\"elementid\":\"ba1e8b28-394d-4069-a1de-76482bd3ae5d\",\"modelid\":\"b91ac935-9b01-4fae-8034-e62fe7d3b816\"}];\n",
       "  root.Bokeh.embed.embed_items_notebook(docs_json, render_items);\n",
       "\n",
       "  }\n",
       "  if (root.Bokeh !== undefined) {\n",
       "    embed_document(root);\n",
       "  } else {\n",
       "    var attempts = 0;\n",
       "    var timer = setInterval(function(root) {\n",
       "      if (root.Bokeh !== undefined) {\n",
       "        embed_document(root);\n",
       "        clearInterval(timer);\n",
       "      }\n",
       "      attempts++;\n",
       "      if (attempts > 100) {\n",
       "        console.log(\"Bokeh: ERROR: Unable to run BokehJS code because BokehJS library is missing\")\n",
       "        clearInterval(timer);\n",
       "      }\n",
       "    }, 10, root)\n",
       "  }\n",
       "})(window);"
      ],
      "application/vnd.bokehjs_exec.v0+json": ""
     },
     "metadata": {
      "application/vnd.bokehjs_exec.v0+json": {
       "id": "b91ac935-9b01-4fae-8034-e62fe7d3b816"
      }
     },
     "output_type": "display_data"
    }
   ],
   "source": [
    "# number of lines =< 20\n",
    "\n",
    "p = plot(indicators_filtered,df_og,1,1,1)\n",
    "show(p)"
   ]
  },
  {
   "cell_type": "code",
   "execution_count": null,
   "metadata": {
    "collapsed": true
   },
   "outputs": [],
   "source": []
  },
  {
   "cell_type": "code",
   "execution_count": null,
   "metadata": {
    "collapsed": true
   },
   "outputs": [],
   "source": []
  },
  {
   "cell_type": "code",
   "execution_count": null,
   "metadata": {
    "collapsed": true
   },
   "outputs": [],
   "source": []
  },
  {
   "cell_type": "code",
   "execution_count": null,
   "metadata": {
    "collapsed": true
   },
   "outputs": [],
   "source": []
  },
  {
   "cell_type": "code",
   "execution_count": null,
   "metadata": {
    "collapsed": true
   },
   "outputs": [],
   "source": []
  },
  {
   "cell_type": "markdown",
   "metadata": {},
   "source": [
    "# Regression\n",
    "\n",
    "there are multiple options for linear regression. \n",
    "\n",
    "1. Withdrawal and river discharge separately: Use a moving window of 10 years, perform ols regression and determine the final year for each window.\n",
    "    Probably requires some thresholds for basins with a small number of valid years. (e.g. capped at max value, and minimum 0?)\n",
    "1. Use a linear trend for demand and a moving average for riverdischarge\n",
    "\n",
    "\n",
    "\n",
    "\n"
   ]
  },
  {
   "cell_type": "code",
   "execution_count": null,
   "metadata": {
    "collapsed": true
   },
   "outputs": [],
   "source": [
    "sql_reg = (\"SELECT year,month,pfafid_30spfaf06, temporal_resolution,ptotww_m_30spfaf06 \"\n",
    "\"FROM y2018m05d29_rh_total_demand_postgis_30spfaf06_v01_v02 \" \n",
    "\"WHERE pfafid_30spfaf06 = 231607 \"\n",
    "\"AND month = 5\")"
   ]
  },
  {
   "cell_type": "code",
   "execution_count": null,
   "metadata": {
    "collapsed": true
   },
   "outputs": [],
   "source": [
    "df_reg = pd.read_sql(sql_reg,connection)"
   ]
  },
  {
   "cell_type": "code",
   "execution_count": null,
   "metadata": {
    "collapsed": true
   },
   "outputs": [],
   "source": [
    "df_reg = df_reg.sort_values(by=[\"year\"])"
   ]
  },
  {
   "cell_type": "code",
   "execution_count": null,
   "metadata": {},
   "outputs": [],
   "source": [
    "df_reg.head()"
   ]
  },
  {
   "cell_type": "code",
   "execution_count": null,
   "metadata": {
    "collapsed": true
   },
   "outputs": [],
   "source": [
    "lm = linear_model.LinearRegression()"
   ]
  },
  {
   "cell_type": "code",
   "execution_count": null,
   "metadata": {
    "collapsed": true
   },
   "outputs": [],
   "source": [
    "# Fit line for year 1973 - 1982 (10 years)\n",
    "df_reg_selection = df_reg[(df_reg[\"year\"] >= 1973) & (df_reg[\"year\"] <= 1982)]"
   ]
  },
  {
   "cell_type": "code",
   "execution_count": null,
   "metadata": {},
   "outputs": [],
   "source": [
    "df_reg_selection"
   ]
  },
  {
   "cell_type": "code",
   "execution_count": null,
   "metadata": {
    "collapsed": true
   },
   "outputs": [],
   "source": [
    "import os"
   ]
  },
  {
   "cell_type": "code",
   "execution_count": null,
   "metadata": {},
   "outputs": [],
   "source": [
    "print(os.getcwd())"
   ]
  },
  {
   "cell_type": "code",
   "execution_count": null,
   "metadata": {
    "collapsed": true
   },
   "outputs": [],
   "source": [
    "df_reg_selection.to_csv(\"temp.csv\")"
   ]
  },
  {
   "cell_type": "code",
   "execution_count": null,
   "metadata": {
    "collapsed": true
   },
   "outputs": [],
   "source": [
    "# fit linear model. "
   ]
  },
  {
   "cell_type": "code",
   "execution_count": null,
   "metadata": {
    "collapsed": true
   },
   "outputs": [],
   "source": [
    "x = pd.DataFrame(df_reg_selection[\"year\"])\n",
    "target = pd.DataFrame(df_reg_selection[\"ptotww_m_30spfaf06\"])"
   ]
  },
  {
   "cell_type": "code",
   "execution_count": null,
   "metadata": {},
   "outputs": [],
   "source": [
    "lm.fit(x,target)"
   ]
  },
  {
   "cell_type": "code",
   "execution_count": null,
   "metadata": {
    "collapsed": true
   },
   "outputs": [],
   "source": [
    "df_lm = pd.DataFrame()"
   ]
  },
  {
   "cell_type": "code",
   "execution_count": null,
   "metadata": {
    "collapsed": true
   },
   "outputs": [],
   "source": [
    "coef = lm.coef_[0][0]"
   ]
  },
  {
   "cell_type": "code",
   "execution_count": null,
   "metadata": {
    "collapsed": true
   },
   "outputs": [],
   "source": [
    "intercept = lm.intercept_[0]"
   ]
  },
  {
   "cell_type": "code",
   "execution_count": null,
   "metadata": {
    "collapsed": true
   },
   "outputs": [],
   "source": [
    "# projected value for 1982\n",
    "y_p = 1982*coef + intercept"
   ]
  },
  {
   "cell_type": "code",
   "execution_count": null,
   "metadata": {},
   "outputs": [],
   "source": [
    "print(y_p,coef,intercept)"
   ]
  },
  {
   "cell_type": "code",
   "execution_count": null,
   "metadata": {},
   "outputs": [],
   "source": [
    "def create_ols_query(ols_window,con,input_table_name,output_table_name,input_columns, ols_columns):\n",
    "    \"\"\" Applies a moving average and saves the result in a new table. \n",
    "    -------------------------------------------------------------------------------\n",
    "    \n",
    "    Designed to work with aqueduct table structure that includes a year, month and\n",
    "    temporal_resolution column. Will not work with other tables.     \n",
    "    \n",
    "    \n",
    "    \n",
    "    Args:\n",
    "        ols_window (integer) : Ordinary Leas Squares Regression length.\n",
    "        con (sqlAlchemy) : Database Connection. \n",
    "        input_table_name (string) : Input table name.\n",
    "        output_table_name (string) : Output table name.\n",
    "        input_columns (list) : list of column names used in the query and saved to\n",
    "            output. e.g. year, month, pfafid etc. \n",
    "        mols_columns (list) : list of column names to apply the ols to.\n",
    "            should be present in input table. \n",
    "    \n",
    "    Returns:\n",
    "        sql (string) : SQL string in postgreSQL dialect.\n",
    "    \n",
    "    \n",
    "    \"\"\"\n",
    "    sql = \"CREATE TABLE {} AS \".format(output_table_name)\n",
    "    sql = sql + \"SELECT\"    \n",
    "    for input_column in input_columns:\n",
    "        sql = sql + \" {},\".format(input_column)\n",
    "    for ols_column in ols_columns:\n",
    "        sql = sql + \" regr_slope({},year) OVER (PARTITION BY pfafid_30spfaf06, month, temporal_resolution ORDER BY year ROWS BETWEEN {:01.0f} PRECEDING AND CURRENT ROW) AS slope{:02.0f}_{},\".format(ols_column,ols_window-1,ols_window,ols_column)\n",
    "        sql = sql + \" regr_intercept({},year) OVER (PARTITION BY pfafid_30spfaf06, month, temporal_resolution ORDER BY year ROWS BETWEEN {:01.0f} PRECEDING AND CURRENT ROW) AS intercept{:02.0f}_{},\".format(ols_column,ols_window-1,ols_window,ols_column)\n",
    "        sql = sql + (\" regr_slope({},year) OVER (PARTITION BY pfafid_30spfaf06, month, temporal_resolution ORDER BY year ROWS BETWEEN {:01.0f} PRECEDING AND CURRENT ROW) * year \"\n",
    "                     \"+ regr_intercept({},year) OVER (PARTITION BY pfafid_30spfaf06, month, temporal_resolution ORDER BY year ROWS BETWEEN {:01.0f} PRECEDING AND CURRENT ROW) AS ols{:02.0f}_{},\".format(ols_column,ols_window-1,ols_column,ols_window-1,ols_window,ols_column))\n",
    "    sql = sql[:-1]\n",
    "    sql = sql + \" FROM {}\".format(input_table_name)\n",
    "    return sql\n",
    "    "
   ]
  },
  {
   "cell_type": "code",
   "execution_count": null,
   "metadata": {
    "collapsed": true
   },
   "outputs": [],
   "source": [
    "input_columns = [\"pfafid_30spfaf06\",\n",
    "                 \"temporal_resolution\",\n",
    "                 \"year\",\n",
    "                 \"month\",\n",
    "                 \"area_m2_30spfaf06\",\n",
    "                 \"area_count_30spfaf06\"]"
   ]
  },
  {
   "cell_type": "code",
   "execution_count": null,
   "metadata": {},
   "outputs": [],
   "source": [
    "sectors = [\"dom\",\"ind\",\"irr\",\"liv\",\"tot\"]\n",
    "demand_types = [\"ww\",\"wn\"]\n",
    "supply = [\"riverdischarge\"]\n",
    "\n",
    "demand_column_names = []\n",
    "for sector in sectors:\n",
    "    for demand_type in demand_types:\n",
    "        demand_column_name = \"p{}{}_m_30spfaf06\".format(sector,demand_type)\n",
    "        demand_column_names.append(demand_column_name)\n",
    "supply_column_names = [\"{}_m_30spfaf06\".format(supply[0])]\n",
    "ols_columns = demand_column_names + supply_column_names\n",
    "ols_columns"
   ]
  },
  {
   "cell_type": "code",
   "execution_count": null,
   "metadata": {},
   "outputs": [],
   "source": [
    "sql = create_ols_query(ols_window=10,\n",
    "                       con=connection,\n",
    "                       input_table_name='y2018m05d29_rh_total_demand_postgis_30spfaf06_v01_v02',\n",
    "                       output_table_name= \"test01\",\n",
    "                       input_columns = input_columns,\n",
    "                       ols_columns=ols_columns)"
   ]
  },
  {
   "cell_type": "code",
   "execution_count": null,
   "metadata": {},
   "outputs": [],
   "source": [
    "sql = sql + \" WHERE pfafid_30spfaf06 = 231607 AND month = 5\""
   ]
  },
  {
   "cell_type": "code",
   "execution_count": null,
   "metadata": {},
   "outputs": [],
   "source": [
    "print(sql)"
   ]
  },
  {
   "cell_type": "code",
   "execution_count": null,
   "metadata": {},
   "outputs": [],
   "source": [
    "# check if I can accomplish the same using SQL\n",
    "SELECT year,month,pfafid_30spfaf06, temporal_resolution,ptotww_m_30spfaf06,\n",
    "    regr_slope(ptotww_m_30spfaf06,year) \n",
    "        OVER (PARTITION BY pfafid_30spfaf06, month, temporal_resolution ORDER BY year ROWS BETWEEN 9 PRECEDING AND CURRENT ROW) AS slope\n",
    "FROM y2018m05d29_rh_total_demand_postgis_30spfaf06_v01_v02 \n",
    "WHERE year > 1970 AND\n",
    "year < 1983 AND\n",
    "year > 1972 AND\n",
    "month = 5 AND\n",
    "temporal_resolution = 'month'AND\n",
    "pfafid_30spfaf06 = 231607"
   ]
  },
  {
   "cell_type": "code",
   "execution_count": null,
   "metadata": {
    "collapsed": true
   },
   "outputs": [],
   "source": []
  }
 ],
 "metadata": {
  "kernelspec": {
   "display_name": "Python 35",
   "language": "python",
   "name": "python35"
  },
  "language_info": {
   "codemirror_mode": {
    "name": "ipython",
    "version": 3
   },
   "file_extension": ".py",
   "mimetype": "text/x-python",
   "name": "python",
   "nbconvert_exporter": "python",
   "pygments_lexer": "ipython3",
   "version": "3.5.4"
  }
 },
 "nbformat": 4,
 "nbformat_minor": 2
}
