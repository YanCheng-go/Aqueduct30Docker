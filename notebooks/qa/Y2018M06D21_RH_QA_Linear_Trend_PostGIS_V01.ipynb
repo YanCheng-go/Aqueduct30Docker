{
 "cells": [
  {
   "cell_type": "code",
   "execution_count": 1,
   "metadata": {},
   "outputs": [
    {
     "name": "stdout",
     "output_type": "stream",
     "text": [
      "Input Table RAW:  y2018m05d29_rh_total_demand_postgis_30spfaf06_v01_v02 \n",
      "Input Table MA:  y2018m06d01_rh_moving_average_postgis_30spfaf06_v01_v03 \n",
      "Output Table:  y2018m06d21_rh_qa_linear_trend_postgis_v01_v01\n"
     ]
    }
   ],
   "source": [
    "\"\"\" Check if linear trend is implemented correctly.\n",
    "-------------------------------------------------------------------------------\n",
    "\n",
    "Author: Rutger Hofste\n",
    "Date: 20180621\n",
    "Kernel: python35\n",
    "Docker: rutgerhofste/gisdocker:ubuntu16.04\n",
    "\n",
    "Args:\n",
    "    TESTING (Boolean) : Toggle testing case.\n",
    "    SCRIPT_NAME (string) : Script name.\n",
    "    OUTPUT_VERSION (integer) : output version.\n",
    "    DATABASE_ENDPOINT (string) : RDS or postGreSQL endpoint.\n",
    "    DATABASE_NAME (string) : Database name.\n",
    "    TABLE_NAME_AREA_30SPFAF06 (string) : Table name used for areas. Must exist\n",
    "        on same database as used in rest of script.\n",
    "    S3_INPUT_PATH_RIVERDISCHARGE (string) : AWS S3 input path for \n",
    "        riverdischarge.    \n",
    "    S3_INPUT_PATH_DEMAND (string) : AWS S3 input path for \n",
    "        demand.     \n",
    "\n",
    "\"\"\"\n",
    "\n",
    "\n",
    "OVERWRITE_OUTPUT = 1\n",
    "SCRIPT_NAME = 'Y2018M06D21_RH_QA_Linear_Trend_PostGIS_V01'\n",
    "OUTPUT_VERSION = 1\n",
    "\n",
    "DATABASE_ENDPOINT = \"aqueduct30v05.cgpnumwmfcqc.eu-central-1.rds.amazonaws.com\"\n",
    "DATABASE_NAME = \"database01\"\n",
    "\n",
    "INPUT_TABLE_NAME_RAW = 'y2018m05d29_rh_total_demand_postgis_30spfaf06_v01_v02'\n",
    "INPUT_TABLE_NAME_MA = 'y2018m06d01_rh_moving_average_postgis_30spfaf06_v01_v03'\n",
    "OUTPUT_TABLE_NAME = SCRIPT_NAME.lower() + \"_v{:02.0f}\".format(OUTPUT_VERSION)\n",
    "OUTPUT_SCHEMA_NAME = \"test\"\n",
    "\n",
    "TEST_BASIN_PFAF_ID = 231607\n",
    "MONTH = 5\n",
    "TEMPORAL_RESOLUTION = \"month\"\n",
    "\n",
    "\n",
    "\n",
    "print(\"Input Table RAW: \" , INPUT_TABLE_NAME_RAW, \n",
    "      \"\\nInput Table MA: \", INPUT_TABLE_NAME_MA,\n",
    "      \"\\nOutput Table: \" , OUTPUT_TABLE_NAME)"
   ]
  },
  {
   "cell_type": "code",
   "execution_count": 2,
   "metadata": {},
   "outputs": [
    {
     "name": "stdout",
     "output_type": "stream",
     "text": [
      "Y2018M06D21 UTC 15:20\n"
     ]
    },
    {
     "data": {
      "text/plain": [
       "'3.5.4 |Anaconda, Inc.| (default, Nov 20 2017, 18:44:38) \\n[GCC 7.2.0]'"
      ]
     },
     "execution_count": 2,
     "metadata": {},
     "output_type": "execute_result"
    }
   ],
   "source": [
    "import time, datetime, sys\n",
    "dateString = time.strftime(\"Y%YM%mD%d\")\n",
    "timeString = time.strftime(\"UTC %H:%M\")\n",
    "start = datetime.datetime.now()\n",
    "print(dateString,timeString)\n",
    "sys.version"
   ]
  },
  {
   "cell_type": "code",
   "execution_count": 3,
   "metadata": {
    "collapsed": true
   },
   "outputs": [],
   "source": [
    "# imports\n",
    "import re\n",
    "import os\n",
    "import numpy as np\n",
    "import pandas as pd\n",
    "import matplotlib.pyplot as plt\n",
    "import aqueduct3\n",
    "from datetime import timedelta\n",
    "from sqlalchemy import *\n",
    "pd.set_option('display.max_columns', 500)\n",
    "\n",
    "from sklearn import linear_model\n",
    "%matplotlib inline"
   ]
  },
  {
   "cell_type": "code",
   "execution_count": null,
   "metadata": {
    "collapsed": true
   },
   "outputs": [],
   "source": []
  },
  {
   "cell_type": "code",
   "execution_count": 4,
   "metadata": {},
   "outputs": [],
   "source": [
    "F = open(\"/.password\",\"r\")\n",
    "password = F.read().splitlines()[0]\n",
    "F.close()\n",
    "\n",
    "engine = create_engine(\"postgresql://rutgerhofste:{}@{}:5432/{}\".format(password,DATABASE_ENDPOINT,DATABASE_NAME))\n",
    "connection = engine.connect()"
   ]
  },
  {
   "cell_type": "markdown",
   "metadata": {},
   "source": [
    "# Raw Values"
   ]
  },
  {
   "cell_type": "code",
   "execution_count": 5,
   "metadata": {},
   "outputs": [],
   "source": [
    "sql_raw = (\"SELECT * FROM {} \"\n",
    "           \"WHERE pfafid_30spfaf06 = {} AND \"\n",
    "           \"month = {} AND \"\n",
    "           \"temporal_resolution = '{}'\".format(INPUT_TABLE_NAME_RAW,TEST_BASIN_PFAF_ID,MONTH,TEMPORAL_RESOLUTION))"
   ]
  },
  {
   "cell_type": "code",
   "execution_count": 6,
   "metadata": {},
   "outputs": [
    {
     "name": "stdout",
     "output_type": "stream",
     "text": [
      "SELECT * FROM y2018m05d29_rh_total_demand_postgis_30spfaf06_v01_v02 WHERE pfafid_30spfaf06 = 231607 AND month = 5 AND temporal_resolution = 'month'\n"
     ]
    }
   ],
   "source": [
    "print(sql_raw)"
   ]
  },
  {
   "cell_type": "code",
   "execution_count": 7,
   "metadata": {},
   "outputs": [],
   "source": [
    "df_raw = pd.read_sql(sql_raw,connection)"
   ]
  },
  {
   "cell_type": "code",
   "execution_count": 8,
   "metadata": {},
   "outputs": [
    {
     "data": {
      "text/html": [
       "<div>\n",
       "<style scoped>\n",
       "    .dataframe tbody tr th:only-of-type {\n",
       "        vertical-align: middle;\n",
       "    }\n",
       "\n",
       "    .dataframe tbody tr th {\n",
       "        vertical-align: top;\n",
       "    }\n",
       "\n",
       "    .dataframe thead th {\n",
       "        text-align: right;\n",
       "    }\n",
       "</style>\n",
       "<table border=\"1\" class=\"dataframe\">\n",
       "  <thead>\n",
       "    <tr style=\"text-align: right;\">\n",
       "      <th></th>\n",
       "      <th>pfafid_30spfaf06</th>\n",
       "      <th>area_count_30spfaf06</th>\n",
       "      <th>area_m2_30spfaf06</th>\n",
       "      <th>month</th>\n",
       "      <th>pdomwn_count_30spfaf06</th>\n",
       "      <th>pdomwn_m_30spfaf06</th>\n",
       "      <th>pdomww_count_30spfaf06</th>\n",
       "      <th>pdomww_m_30spfaf06</th>\n",
       "      <th>pindwn_count_30spfaf06</th>\n",
       "      <th>pindwn_m_30spfaf06</th>\n",
       "      <th>pindww_count_30spfaf06</th>\n",
       "      <th>pindww_m_30spfaf06</th>\n",
       "      <th>pirrwn_count_30spfaf06</th>\n",
       "      <th>pirrwn_m_30spfaf06</th>\n",
       "      <th>pirrww_count_30spfaf06</th>\n",
       "      <th>pirrww_m_30spfaf06</th>\n",
       "      <th>plivwn_count_30spfaf06</th>\n",
       "      <th>plivwn_m_30spfaf06</th>\n",
       "      <th>plivww_count_30spfaf06</th>\n",
       "      <th>plivww_m_30spfaf06</th>\n",
       "      <th>riverdischarge_count_30spfaf06</th>\n",
       "      <th>riverdischarge_m_30spfaf06</th>\n",
       "      <th>temporal_resolution</th>\n",
       "      <th>year</th>\n",
       "      <th>input_file_name</th>\n",
       "      <th>datetime_stamp</th>\n",
       "      <th>ptotwn_m_30spfaf06</th>\n",
       "      <th>ptotww_m_30spfaf06</th>\n",
       "    </tr>\n",
       "  </thead>\n",
       "  <tbody>\n",
       "    <tr>\n",
       "      <th>0</th>\n",
       "      <td>231607</td>\n",
       "      <td>24502</td>\n",
       "      <td>1.613991e+10</td>\n",
       "      <td>5</td>\n",
       "      <td>24502</td>\n",
       "      <td>0.000201</td>\n",
       "      <td>24502</td>\n",
       "      <td>0.000280</td>\n",
       "      <td>24502</td>\n",
       "      <td>0.000401</td>\n",
       "      <td>24502</td>\n",
       "      <td>0.001338</td>\n",
       "      <td>24502</td>\n",
       "      <td>0.000242</td>\n",
       "      <td>24502</td>\n",
       "      <td>0.000445</td>\n",
       "      <td>24502</td>\n",
       "      <td>0.000002</td>\n",
       "      <td>24502</td>\n",
       "      <td>0.000002</td>\n",
       "      <td>24502.0</td>\n",
       "      <td>0.040631</td>\n",
       "      <td>month</td>\n",
       "      <td>1978</td>\n",
       "      <td>global_historical_merged_month_m_30sPfaf06_196...</td>\n",
       "      <td>2018-06-04 16:06:51.778354</td>\n",
       "      <td>0.000846</td>\n",
       "      <td>0.002065</td>\n",
       "    </tr>\n",
       "    <tr>\n",
       "      <th>1</th>\n",
       "      <td>231607</td>\n",
       "      <td>24502</td>\n",
       "      <td>1.613991e+10</td>\n",
       "      <td>5</td>\n",
       "      <td>24502</td>\n",
       "      <td>0.000370</td>\n",
       "      <td>24502</td>\n",
       "      <td>0.000560</td>\n",
       "      <td>24502</td>\n",
       "      <td>0.000450</td>\n",
       "      <td>24502</td>\n",
       "      <td>0.002249</td>\n",
       "      <td>24502</td>\n",
       "      <td>0.000916</td>\n",
       "      <td>24502</td>\n",
       "      <td>0.001681</td>\n",
       "      <td>24502</td>\n",
       "      <td>0.000003</td>\n",
       "      <td>24502</td>\n",
       "      <td>0.000003</td>\n",
       "      <td>24502.0</td>\n",
       "      <td>0.027207</td>\n",
       "      <td>month</td>\n",
       "      <td>2003</td>\n",
       "      <td>global_historical_merged_month_m_30sPfaf06_196...</td>\n",
       "      <td>2018-06-04 16:09:13.813702</td>\n",
       "      <td>0.001738</td>\n",
       "      <td>0.004493</td>\n",
       "    </tr>\n",
       "    <tr>\n",
       "      <th>2</th>\n",
       "      <td>231607</td>\n",
       "      <td>24502</td>\n",
       "      <td>1.613991e+10</td>\n",
       "      <td>5</td>\n",
       "      <td>24502</td>\n",
       "      <td>0.000216</td>\n",
       "      <td>24502</td>\n",
       "      <td>0.000304</td>\n",
       "      <td>24502</td>\n",
       "      <td>0.000423</td>\n",
       "      <td>24502</td>\n",
       "      <td>0.001409</td>\n",
       "      <td>24502</td>\n",
       "      <td>0.000694</td>\n",
       "      <td>24502</td>\n",
       "      <td>0.001273</td>\n",
       "      <td>24502</td>\n",
       "      <td>0.000002</td>\n",
       "      <td>24502</td>\n",
       "      <td>0.000002</td>\n",
       "      <td>24502.0</td>\n",
       "      <td>0.012177</td>\n",
       "      <td>month</td>\n",
       "      <td>1982</td>\n",
       "      <td>global_historical_merged_month_m_30sPfaf06_196...</td>\n",
       "      <td>2018-06-04 16:09:44.234319</td>\n",
       "      <td>0.001335</td>\n",
       "      <td>0.002988</td>\n",
       "    </tr>\n",
       "    <tr>\n",
       "      <th>3</th>\n",
       "      <td>231607</td>\n",
       "      <td>24502</td>\n",
       "      <td>1.613991e+10</td>\n",
       "      <td>5</td>\n",
       "      <td>24502</td>\n",
       "      <td>0.000209</td>\n",
       "      <td>24502</td>\n",
       "      <td>0.000294</td>\n",
       "      <td>24502</td>\n",
       "      <td>0.000406</td>\n",
       "      <td>24502</td>\n",
       "      <td>0.001354</td>\n",
       "      <td>24502</td>\n",
       "      <td>0.000179</td>\n",
       "      <td>24502</td>\n",
       "      <td>0.000328</td>\n",
       "      <td>24502</td>\n",
       "      <td>0.000002</td>\n",
       "      <td>24502</td>\n",
       "      <td>0.000002</td>\n",
       "      <td>24502.0</td>\n",
       "      <td>0.026978</td>\n",
       "      <td>month</td>\n",
       "      <td>1984</td>\n",
       "      <td>global_historical_merged_month_m_30sPfaf06_196...</td>\n",
       "      <td>2018-06-04 16:09:54.369852</td>\n",
       "      <td>0.000796</td>\n",
       "      <td>0.001979</td>\n",
       "    </tr>\n",
       "    <tr>\n",
       "      <th>4</th>\n",
       "      <td>231607</td>\n",
       "      <td>24502</td>\n",
       "      <td>1.613991e+10</td>\n",
       "      <td>5</td>\n",
       "      <td>24502</td>\n",
       "      <td>0.000320</td>\n",
       "      <td>24502</td>\n",
       "      <td>0.000485</td>\n",
       "      <td>24502</td>\n",
       "      <td>0.000408</td>\n",
       "      <td>24502</td>\n",
       "      <td>0.002042</td>\n",
       "      <td>24502</td>\n",
       "      <td>0.001362</td>\n",
       "      <td>24502</td>\n",
       "      <td>0.002500</td>\n",
       "      <td>24502</td>\n",
       "      <td>0.000003</td>\n",
       "      <td>24502</td>\n",
       "      <td>0.000003</td>\n",
       "      <td>24502.0</td>\n",
       "      <td>0.006945</td>\n",
       "      <td>month</td>\n",
       "      <td>1999</td>\n",
       "      <td>global_historical_merged_month_m_30sPfaf06_196...</td>\n",
       "      <td>2018-06-04 16:10:14.544299</td>\n",
       "      <td>0.002094</td>\n",
       "      <td>0.005029</td>\n",
       "    </tr>\n",
       "  </tbody>\n",
       "</table>\n",
       "</div>"
      ],
      "text/plain": [
       "   pfafid_30spfaf06  area_count_30spfaf06  area_m2_30spfaf06  month  \\\n",
       "0            231607                 24502       1.613991e+10      5   \n",
       "1            231607                 24502       1.613991e+10      5   \n",
       "2            231607                 24502       1.613991e+10      5   \n",
       "3            231607                 24502       1.613991e+10      5   \n",
       "4            231607                 24502       1.613991e+10      5   \n",
       "\n",
       "   pdomwn_count_30spfaf06  pdomwn_m_30spfaf06  pdomww_count_30spfaf06  \\\n",
       "0                   24502            0.000201                   24502   \n",
       "1                   24502            0.000370                   24502   \n",
       "2                   24502            0.000216                   24502   \n",
       "3                   24502            0.000209                   24502   \n",
       "4                   24502            0.000320                   24502   \n",
       "\n",
       "   pdomww_m_30spfaf06  pindwn_count_30spfaf06  pindwn_m_30spfaf06  \\\n",
       "0            0.000280                   24502            0.000401   \n",
       "1            0.000560                   24502            0.000450   \n",
       "2            0.000304                   24502            0.000423   \n",
       "3            0.000294                   24502            0.000406   \n",
       "4            0.000485                   24502            0.000408   \n",
       "\n",
       "   pindww_count_30spfaf06  pindww_m_30spfaf06  pirrwn_count_30spfaf06  \\\n",
       "0                   24502            0.001338                   24502   \n",
       "1                   24502            0.002249                   24502   \n",
       "2                   24502            0.001409                   24502   \n",
       "3                   24502            0.001354                   24502   \n",
       "4                   24502            0.002042                   24502   \n",
       "\n",
       "   pirrwn_m_30spfaf06  pirrww_count_30spfaf06  pirrww_m_30spfaf06  \\\n",
       "0            0.000242                   24502            0.000445   \n",
       "1            0.000916                   24502            0.001681   \n",
       "2            0.000694                   24502            0.001273   \n",
       "3            0.000179                   24502            0.000328   \n",
       "4            0.001362                   24502            0.002500   \n",
       "\n",
       "   plivwn_count_30spfaf06  plivwn_m_30spfaf06  plivww_count_30spfaf06  \\\n",
       "0                   24502            0.000002                   24502   \n",
       "1                   24502            0.000003                   24502   \n",
       "2                   24502            0.000002                   24502   \n",
       "3                   24502            0.000002                   24502   \n",
       "4                   24502            0.000003                   24502   \n",
       "\n",
       "   plivww_m_30spfaf06  riverdischarge_count_30spfaf06  \\\n",
       "0            0.000002                         24502.0   \n",
       "1            0.000003                         24502.0   \n",
       "2            0.000002                         24502.0   \n",
       "3            0.000002                         24502.0   \n",
       "4            0.000003                         24502.0   \n",
       "\n",
       "   riverdischarge_m_30spfaf06 temporal_resolution  year  \\\n",
       "0                    0.040631               month  1978   \n",
       "1                    0.027207               month  2003   \n",
       "2                    0.012177               month  1982   \n",
       "3                    0.026978               month  1984   \n",
       "4                    0.006945               month  1999   \n",
       "\n",
       "                                     input_file_name  \\\n",
       "0  global_historical_merged_month_m_30sPfaf06_196...   \n",
       "1  global_historical_merged_month_m_30sPfaf06_196...   \n",
       "2  global_historical_merged_month_m_30sPfaf06_196...   \n",
       "3  global_historical_merged_month_m_30sPfaf06_196...   \n",
       "4  global_historical_merged_month_m_30sPfaf06_196...   \n",
       "\n",
       "              datetime_stamp  ptotwn_m_30spfaf06  ptotww_m_30spfaf06  \n",
       "0 2018-06-04 16:06:51.778354            0.000846            0.002065  \n",
       "1 2018-06-04 16:09:13.813702            0.001738            0.004493  \n",
       "2 2018-06-04 16:09:44.234319            0.001335            0.002988  \n",
       "3 2018-06-04 16:09:54.369852            0.000796            0.001979  \n",
       "4 2018-06-04 16:10:14.544299            0.002094            0.005029  "
      ]
     },
     "execution_count": 8,
     "metadata": {},
     "output_type": "execute_result"
    }
   ],
   "source": [
    "df_raw.head()"
   ]
  },
  {
   "cell_type": "code",
   "execution_count": 9,
   "metadata": {},
   "outputs": [],
   "source": [
    "def simplify_df_raw(df):\n",
    "    df_out = df[[\"year\",\"ptotww_m_30spfaf06\",\"ptotwn_m_30spfaf06\",\"riverdischarge_m_30spfaf06\"]]\n",
    "    return df_out"
   ]
  },
  {
   "cell_type": "code",
   "execution_count": 10,
   "metadata": {},
   "outputs": [],
   "source": [
    "df_raw = simplify_df_raw(df_raw)"
   ]
  },
  {
   "cell_type": "code",
   "execution_count": 11,
   "metadata": {},
   "outputs": [
    {
     "data": {
      "text/html": [
       "<div>\n",
       "<style scoped>\n",
       "    .dataframe tbody tr th:only-of-type {\n",
       "        vertical-align: middle;\n",
       "    }\n",
       "\n",
       "    .dataframe tbody tr th {\n",
       "        vertical-align: top;\n",
       "    }\n",
       "\n",
       "    .dataframe thead th {\n",
       "        text-align: right;\n",
       "    }\n",
       "</style>\n",
       "<table border=\"1\" class=\"dataframe\">\n",
       "  <thead>\n",
       "    <tr style=\"text-align: right;\">\n",
       "      <th></th>\n",
       "      <th>year</th>\n",
       "      <th>ptotww_m_30spfaf06</th>\n",
       "      <th>ptotwn_m_30spfaf06</th>\n",
       "      <th>riverdischarge_m_30spfaf06</th>\n",
       "    </tr>\n",
       "  </thead>\n",
       "  <tbody>\n",
       "    <tr>\n",
       "      <th>0</th>\n",
       "      <td>1978</td>\n",
       "      <td>0.002065</td>\n",
       "      <td>0.000846</td>\n",
       "      <td>0.040631</td>\n",
       "    </tr>\n",
       "    <tr>\n",
       "      <th>1</th>\n",
       "      <td>2003</td>\n",
       "      <td>0.004493</td>\n",
       "      <td>0.001738</td>\n",
       "      <td>0.027207</td>\n",
       "    </tr>\n",
       "    <tr>\n",
       "      <th>2</th>\n",
       "      <td>1982</td>\n",
       "      <td>0.002988</td>\n",
       "      <td>0.001335</td>\n",
       "      <td>0.012177</td>\n",
       "    </tr>\n",
       "    <tr>\n",
       "      <th>3</th>\n",
       "      <td>1984</td>\n",
       "      <td>0.001979</td>\n",
       "      <td>0.000796</td>\n",
       "      <td>0.026978</td>\n",
       "    </tr>\n",
       "    <tr>\n",
       "      <th>4</th>\n",
       "      <td>1999</td>\n",
       "      <td>0.005029</td>\n",
       "      <td>0.002094</td>\n",
       "      <td>0.006945</td>\n",
       "    </tr>\n",
       "  </tbody>\n",
       "</table>\n",
       "</div>"
      ],
      "text/plain": [
       "   year  ptotww_m_30spfaf06  ptotwn_m_30spfaf06  riverdischarge_m_30spfaf06\n",
       "0  1978            0.002065            0.000846                    0.040631\n",
       "1  2003            0.004493            0.001738                    0.027207\n",
       "2  1982            0.002988            0.001335                    0.012177\n",
       "3  1984            0.001979            0.000796                    0.026978\n",
       "4  1999            0.005029            0.002094                    0.006945"
      ]
     },
     "execution_count": 11,
     "metadata": {},
     "output_type": "execute_result"
    }
   ],
   "source": [
    "df_raw.head()"
   ]
  },
  {
   "cell_type": "code",
   "execution_count": 12,
   "metadata": {},
   "outputs": [],
   "source": [
    "df_raw = df_raw.sort_values(by=[\"year\"])"
   ]
  },
  {
   "cell_type": "code",
   "execution_count": 13,
   "metadata": {},
   "outputs": [
    {
     "data": {
      "text/plain": [
       "(0.0012804728147330999, 0.0079848467353448895)"
      ]
     },
     "execution_count": 13,
     "metadata": {},
     "output_type": "execute_result"
    },
    {
     "data": {
      "image/png": "[encoded data removed]",
      "text/plain": [
       "<Figure size 432x288 with 1 Axes>"
      ]
     },
     "metadata": {},
     "output_type": "display_data"
    }
   ],
   "source": [
    "ax1 = df_raw.plot.scatter(\"year\",\"ptotww_m_30spfaf06\")\n",
    "ax1.set_ylim(df_raw[\"ptotww_m_30spfaf06\"].min(),df_raw[\"ptotww_m_30spfaf06\"].max())"
   ]
  },
  {
   "cell_type": "code",
   "execution_count": 14,
   "metadata": {},
   "outputs": [
    {
     "data": {
      "text/plain": [
       "(0.0038965675346747902, 0.047979822017249797)"
      ]
     },
     "execution_count": 14,
     "metadata": {},
     "output_type": "execute_result"
    },
    {
     "data": {
      "image/png": "[encoded data removed]",
      "text/plain": [
       "<Figure size 432x288 with 1 Axes>"
      ]
     },
     "metadata": {},
     "output_type": "display_data"
    }
   ],
   "source": [
    "ax1 = df_raw.plot.scatter(\"year\",\"riverdischarge_m_30spfaf06\")\n",
    "ax1.set_ylim(df_raw[\"riverdischarge_m_30spfaf06\"].min(),df_raw[\"riverdischarge_m_30spfaf06\"].max())"
   ]
  },
  {
   "cell_type": "markdown",
   "metadata": {},
   "source": [
    "# Moving Average"
   ]
  },
  {
   "cell_type": "code",
   "execution_count": 15,
   "metadata": {
    "collapsed": true
   },
   "outputs": [],
   "source": [
    "sql_ma = (\"SELECT * FROM {} \"\n",
    "           \"WHERE pfafid_30spfaf06 = {} AND \"\n",
    "           \"month = {} AND \"\n",
    "           \"temporal_resolution = '{}'\".format(INPUT_TABLE_NAME_MA,TEST_BASIN_PFAF_ID,MONTH,TEMPORAL_RESOLUTION))"
   ]
  },
  {
   "cell_type": "code",
   "execution_count": 16,
   "metadata": {},
   "outputs": [
    {
     "name": "stdout",
     "output_type": "stream",
     "text": [
      "SELECT * FROM y2018m06d01_rh_moving_average_postgis_30spfaf06_v01_v03 WHERE pfafid_30spfaf06 = 231607 AND month = 5 AND temporal_resolution = 'month'\n"
     ]
    }
   ],
   "source": [
    "print(sql_ma)"
   ]
  },
  {
   "cell_type": "code",
   "execution_count": 17,
   "metadata": {
    "collapsed": true
   },
   "outputs": [],
   "source": [
    "df_ma = pd.read_sql(sql_ma,connection)"
   ]
  },
  {
   "cell_type": "code",
   "execution_count": 18,
   "metadata": {},
   "outputs": [
    {
     "data": {
      "text/html": [
       "<div>\n",
       "<style scoped>\n",
       "    .dataframe tbody tr th:only-of-type {\n",
       "        vertical-align: middle;\n",
       "    }\n",
       "\n",
       "    .dataframe tbody tr th {\n",
       "        vertical-align: top;\n",
       "    }\n",
       "\n",
       "    .dataframe thead th {\n",
       "        text-align: right;\n",
       "    }\n",
       "</style>\n",
       "<table border=\"1\" class=\"dataframe\">\n",
       "  <thead>\n",
       "    <tr style=\"text-align: right;\">\n",
       "      <th></th>\n",
       "      <th>pfafid_30spfaf06</th>\n",
       "      <th>temporal_resolution</th>\n",
       "      <th>year</th>\n",
       "      <th>month</th>\n",
       "      <th>area_m2_30spfaf06</th>\n",
       "      <th>area_count_30spfaf06</th>\n",
       "      <th>ma10_pdomww_m_30spfaf06</th>\n",
       "      <th>ma10_pdomwn_m_30spfaf06</th>\n",
       "      <th>ma10_pindww_m_30spfaf06</th>\n",
       "      <th>ma10_pindwn_m_30spfaf06</th>\n",
       "      <th>ma10_pirrww_m_30spfaf06</th>\n",
       "      <th>ma10_pirrwn_m_30spfaf06</th>\n",
       "      <th>ma10_plivww_m_30spfaf06</th>\n",
       "      <th>ma10_plivwn_m_30spfaf06</th>\n",
       "      <th>ma10_ptotww_m_30spfaf06</th>\n",
       "      <th>ma10_ptotwn_m_30spfaf06</th>\n",
       "      <th>ma10_riverdischarge_m_30spfaf06</th>\n",
       "    </tr>\n",
       "  </thead>\n",
       "  <tbody>\n",
       "    <tr>\n",
       "      <th>0</th>\n",
       "      <td>231607</td>\n",
       "      <td>month</td>\n",
       "      <td>1960</td>\n",
       "      <td>5</td>\n",
       "      <td>1.613991e+10</td>\n",
       "      <td>24502</td>\n",
       "      <td>0.000114</td>\n",
       "      <td>0.000082</td>\n",
       "      <td>0.000620</td>\n",
       "      <td>0.000186</td>\n",
       "      <td>0.000545</td>\n",
       "      <td>0.000297</td>\n",
       "      <td>0.000002</td>\n",
       "      <td>0.000002</td>\n",
       "      <td>0.001280</td>\n",
       "      <td>0.000567</td>\n",
       "      <td>0.033538</td>\n",
       "    </tr>\n",
       "    <tr>\n",
       "      <th>1</th>\n",
       "      <td>231607</td>\n",
       "      <td>month</td>\n",
       "      <td>1961</td>\n",
       "      <td>5</td>\n",
       "      <td>1.613991e+10</td>\n",
       "      <td>24502</td>\n",
       "      <td>0.000117</td>\n",
       "      <td>0.000084</td>\n",
       "      <td>0.000633</td>\n",
       "      <td>0.000190</td>\n",
       "      <td>0.000772</td>\n",
       "      <td>0.000421</td>\n",
       "      <td>0.000002</td>\n",
       "      <td>0.000002</td>\n",
       "      <td>0.001524</td>\n",
       "      <td>0.000696</td>\n",
       "      <td>0.023935</td>\n",
       "    </tr>\n",
       "    <tr>\n",
       "      <th>2</th>\n",
       "      <td>231607</td>\n",
       "      <td>month</td>\n",
       "      <td>1962</td>\n",
       "      <td>5</td>\n",
       "      <td>1.613991e+10</td>\n",
       "      <td>24502</td>\n",
       "      <td>0.000120</td>\n",
       "      <td>0.000084</td>\n",
       "      <td>0.000648</td>\n",
       "      <td>0.000172</td>\n",
       "      <td>0.000699</td>\n",
       "      <td>0.000381</td>\n",
       "      <td>0.000002</td>\n",
       "      <td>0.000002</td>\n",
       "      <td>0.001469</td>\n",
       "      <td>0.000639</td>\n",
       "      <td>0.026336</td>\n",
       "    </tr>\n",
       "    <tr>\n",
       "      <th>3</th>\n",
       "      <td>231607</td>\n",
       "      <td>month</td>\n",
       "      <td>1963</td>\n",
       "      <td>5</td>\n",
       "      <td>1.613991e+10</td>\n",
       "      <td>24502</td>\n",
       "      <td>0.000124</td>\n",
       "      <td>0.000086</td>\n",
       "      <td>0.000664</td>\n",
       "      <td>0.000164</td>\n",
       "      <td>0.000703</td>\n",
       "      <td>0.000383</td>\n",
       "      <td>0.000002</td>\n",
       "      <td>0.000002</td>\n",
       "      <td>0.001492</td>\n",
       "      <td>0.000635</td>\n",
       "      <td>0.027164</td>\n",
       "    </tr>\n",
       "    <tr>\n",
       "      <th>4</th>\n",
       "      <td>231607</td>\n",
       "      <td>month</td>\n",
       "      <td>1964</td>\n",
       "      <td>5</td>\n",
       "      <td>1.613991e+10</td>\n",
       "      <td>24502</td>\n",
       "      <td>0.000127</td>\n",
       "      <td>0.000088</td>\n",
       "      <td>0.000679</td>\n",
       "      <td>0.000161</td>\n",
       "      <td>0.000810</td>\n",
       "      <td>0.000441</td>\n",
       "      <td>0.000002</td>\n",
       "      <td>0.000002</td>\n",
       "      <td>0.001618</td>\n",
       "      <td>0.000692</td>\n",
       "      <td>0.028746</td>\n",
       "    </tr>\n",
       "  </tbody>\n",
       "</table>\n",
       "</div>"
      ],
      "text/plain": [
       "   pfafid_30spfaf06 temporal_resolution  year  month  area_m2_30spfaf06  \\\n",
       "0            231607               month  1960      5       1.613991e+10   \n",
       "1            231607               month  1961      5       1.613991e+10   \n",
       "2            231607               month  1962      5       1.613991e+10   \n",
       "3            231607               month  1963      5       1.613991e+10   \n",
       "4            231607               month  1964      5       1.613991e+10   \n",
       "\n",
       "   area_count_30spfaf06  ma10_pdomww_m_30spfaf06  ma10_pdomwn_m_30spfaf06  \\\n",
       "0                 24502                 0.000114                 0.000082   \n",
       "1                 24502                 0.000117                 0.000084   \n",
       "2                 24502                 0.000120                 0.000084   \n",
       "3                 24502                 0.000124                 0.000086   \n",
       "4                 24502                 0.000127                 0.000088   \n",
       "\n",
       "   ma10_pindww_m_30spfaf06  ma10_pindwn_m_30spfaf06  ma10_pirrww_m_30spfaf06  \\\n",
       "0                 0.000620                 0.000186                 0.000545   \n",
       "1                 0.000633                 0.000190                 0.000772   \n",
       "2                 0.000648                 0.000172                 0.000699   \n",
       "3                 0.000664                 0.000164                 0.000703   \n",
       "4                 0.000679                 0.000161                 0.000810   \n",
       "\n",
       "   ma10_pirrwn_m_30spfaf06  ma10_plivww_m_30spfaf06  ma10_plivwn_m_30spfaf06  \\\n",
       "0                 0.000297                 0.000002                 0.000002   \n",
       "1                 0.000421                 0.000002                 0.000002   \n",
       "2                 0.000381                 0.000002                 0.000002   \n",
       "3                 0.000383                 0.000002                 0.000002   \n",
       "4                 0.000441                 0.000002                 0.000002   \n",
       "\n",
       "   ma10_ptotww_m_30spfaf06  ma10_ptotwn_m_30spfaf06  \\\n",
       "0                 0.001280                 0.000567   \n",
       "1                 0.001524                 0.000696   \n",
       "2                 0.001469                 0.000639   \n",
       "3                 0.001492                 0.000635   \n",
       "4                 0.001618                 0.000692   \n",
       "\n",
       "   ma10_riverdischarge_m_30spfaf06  \n",
       "0                         0.033538  \n",
       "1                         0.023935  \n",
       "2                         0.026336  \n",
       "3                         0.027164  \n",
       "4                         0.028746  "
      ]
     },
     "execution_count": 18,
     "metadata": {},
     "output_type": "execute_result"
    }
   ],
   "source": [
    "df_ma.head()"
   ]
  },
  {
   "cell_type": "code",
   "execution_count": 19,
   "metadata": {
    "collapsed": true
   },
   "outputs": [],
   "source": [
    "def simplify_df_ma(df):\n",
    "    df_out = df[[\"year\",\"ma10_ptotww_m_30spfaf06\",\"ma10_ptotwn_m_30spfaf06\",\"ma10_riverdischarge_m_30spfaf06\"]]\n",
    "    return df_out"
   ]
  },
  {
   "cell_type": "code",
   "execution_count": 20,
   "metadata": {},
   "outputs": [],
   "source": [
    "df_ma = simplify_df_ma(df_ma)"
   ]
  },
  {
   "cell_type": "code",
   "execution_count": 21,
   "metadata": {},
   "outputs": [
    {
     "data": {
      "text/html": [
       "<div>\n",
       "<style scoped>\n",
       "    .dataframe tbody tr th:only-of-type {\n",
       "        vertical-align: middle;\n",
       "    }\n",
       "\n",
       "    .dataframe tbody tr th {\n",
       "        vertical-align: top;\n",
       "    }\n",
       "\n",
       "    .dataframe thead th {\n",
       "        text-align: right;\n",
       "    }\n",
       "</style>\n",
       "<table border=\"1\" class=\"dataframe\">\n",
       "  <thead>\n",
       "    <tr style=\"text-align: right;\">\n",
       "      <th></th>\n",
       "      <th>year</th>\n",
       "      <th>ma10_ptotww_m_30spfaf06</th>\n",
       "      <th>ma10_ptotwn_m_30spfaf06</th>\n",
       "      <th>ma10_riverdischarge_m_30spfaf06</th>\n",
       "    </tr>\n",
       "  </thead>\n",
       "  <tbody>\n",
       "    <tr>\n",
       "      <th>0</th>\n",
       "      <td>1960</td>\n",
       "      <td>0.001280</td>\n",
       "      <td>0.000567</td>\n",
       "      <td>0.033538</td>\n",
       "    </tr>\n",
       "    <tr>\n",
       "      <th>1</th>\n",
       "      <td>1961</td>\n",
       "      <td>0.001524</td>\n",
       "      <td>0.000696</td>\n",
       "      <td>0.023935</td>\n",
       "    </tr>\n",
       "    <tr>\n",
       "      <th>2</th>\n",
       "      <td>1962</td>\n",
       "      <td>0.001469</td>\n",
       "      <td>0.000639</td>\n",
       "      <td>0.026336</td>\n",
       "    </tr>\n",
       "    <tr>\n",
       "      <th>3</th>\n",
       "      <td>1963</td>\n",
       "      <td>0.001492</td>\n",
       "      <td>0.000635</td>\n",
       "      <td>0.027164</td>\n",
       "    </tr>\n",
       "    <tr>\n",
       "      <th>4</th>\n",
       "      <td>1964</td>\n",
       "      <td>0.001618</td>\n",
       "      <td>0.000692</td>\n",
       "      <td>0.028746</td>\n",
       "    </tr>\n",
       "  </tbody>\n",
       "</table>\n",
       "</div>"
      ],
      "text/plain": [
       "   year  ma10_ptotww_m_30spfaf06  ma10_ptotwn_m_30spfaf06  \\\n",
       "0  1960                 0.001280                 0.000567   \n",
       "1  1961                 0.001524                 0.000696   \n",
       "2  1962                 0.001469                 0.000639   \n",
       "3  1963                 0.001492                 0.000635   \n",
       "4  1964                 0.001618                 0.000692   \n",
       "\n",
       "   ma10_riverdischarge_m_30spfaf06  \n",
       "0                         0.033538  \n",
       "1                         0.023935  \n",
       "2                         0.026336  \n",
       "3                         0.027164  \n",
       "4                         0.028746  "
      ]
     },
     "execution_count": 21,
     "metadata": {},
     "output_type": "execute_result"
    }
   ],
   "source": [
    "df_ma.head()"
   ]
  },
  {
   "cell_type": "code",
   "execution_count": 22,
   "metadata": {
    "collapsed": true
   },
   "outputs": [],
   "source": [
    "df_ma = df_ma.sort_values(by=[\"year\"])"
   ]
  },
  {
   "cell_type": "code",
   "execution_count": 23,
   "metadata": {},
   "outputs": [
    {
     "data": {
      "text/plain": [
       "(0.0012804728147330999, 0.0052950611997794796)"
      ]
     },
     "execution_count": 23,
     "metadata": {},
     "output_type": "execute_result"
    },
    {
     "data": {
      "image/png": "[encoded data removed]",
      "text/plain": [
       "<Figure size 432x288 with 1 Axes>"
      ]
     },
     "metadata": {},
     "output_type": "display_data"
    }
   ],
   "source": [
    "ax1 = df_ma.plot.scatter(\"year\",\"ma10_ptotww_m_30spfaf06\")\n",
    "ax1.set_ylim(df_ma[\"ma10_ptotww_m_30spfaf06\"].min(),df_ma[\"ma10_ptotww_m_30spfaf06\"].max())"
   ]
  },
  {
   "cell_type": "code",
   "execution_count": 24,
   "metadata": {},
   "outputs": [
    {
     "data": {
      "text/plain": [
       "(0.014742369294132701, 0.033537676399587699)"
      ]
     },
     "execution_count": 24,
     "metadata": {},
     "output_type": "execute_result"
    },
    {
     "data": {
      "image/png": "[encoded data removed]",
      "text/plain": [
       "<Figure size 432x288 with 1 Axes>"
      ]
     },
     "metadata": {},
     "output_type": "display_data"
    }
   ],
   "source": [
    "ax1 = df_ma.plot.scatter(\"year\",\"ma10_riverdischarge_m_30spfaf06\")\n",
    "ax1.set_ylim(df_ma[\"ma10_riverdischarge_m_30spfaf06\"].min(),df_ma[\"ma10_riverdischarge_m_30spfaf06\"].max())"
   ]
  },
  {
   "cell_type": "markdown",
   "metadata": {},
   "source": [
    "# Combined"
   ]
  },
  {
   "cell_type": "code",
   "execution_count": 25,
   "metadata": {},
   "outputs": [],
   "source": [
    "from bokeh.plotting import figure \n",
    "from bokeh.io import output_notebook, show\n",
    "from bokeh.models import HoverTool"
   ]
  },
  {
   "cell_type": "code",
   "execution_count": 26,
   "metadata": {},
   "outputs": [
    {
     "data": {
      "text/html": [
       "\n",
       "    <div class=\"bk-root\">\n",
       "        <a href=\"https://bokeh.pydata.org\" target=\"_blank\" class=\"bk-logo bk-logo-small bk-logo-notebook\"></a>\n",
       "        <span id=\"05ff498d-e1dc-483e-a079-f66832f9e8c6\">Loading BokehJS ...</span>\n",
       "    </div>"
      ]
     },
     "metadata": {},
     "output_type": "display_data"
    },
    {
     "data": {
      "application/javascript": [
       "\n",
       "(function(root) {\n",
       "  function now() {\n",
       "    return new Date();\n",
       "  }\n",
       "\n",
       "  var force = true;\n",
       "\n",
       "  if (typeof (root._bokeh_onload_callbacks) === \"undefined\" || force === true) {\n",
       "    root._bokeh_onload_callbacks = [];\n",
       "    root._bokeh_is_loading = undefined;\n",
       "  }\n",
       "\n",
       "  var JS_MIME_TYPE = 'application/javascript';\n",
       "  var HTML_MIME_TYPE = 'text/html';\n",
       "  var EXEC_MIME_TYPE = 'application/vnd.bokehjs_exec.v0+json';\n",
       "  var CLASS_NAME = 'output_bokeh rendered_html';\n",
       "\n",
       "  /**\n",
       "   * Render data to the DOM node\n",
       "   */\n",
       "  function render(props, node) {\n",
       "    var script = document.createElement(\"script\");\n",
       "    node.appendChild(script);\n",
       "  }\n",
       "\n",
       "  /**\n",
       "   * Handle when an output is cleared or removed\n",
       "   */\n",
       "  function handleClearOutput(event, handle) {\n",
       "    var cell = handle.cell;\n",
       "\n",
       "    var id = cell.output_area._bokeh_element_id;\n",
       "    var server_id = cell.output_area._bokeh_server_id;\n",
       "    // Clean up Bokeh references\n",
       "    if (id !== undefined) {\n",
       "      Bokeh.index[id].model.document.clear();\n",
       "      delete Bokeh.index[id];\n",
       "    }\n",
       "\n",
       "    if (server_id !== undefined) {\n",
       "      // Clean up Bokeh references\n",
       "      var cmd = \"from bokeh.io.state import curstate; print(curstate().uuid_to_server['\" + server_id + \"'].get_sessions()[0].document.roots[0]._id)\";\n",
       "      cell.notebook.kernel.execute(cmd, {\n",
       "        iopub: {\n",
       "          output: function(msg) {\n",
       "            var element_id = msg.content.text.trim();\n",
       "            Bokeh.index[element_id].model.document.clear();\n",
       "            delete Bokeh.index[element_id];\n",
       "          }\n",
       "        }\n",
       "      });\n",
       "      // Destroy server and session\n",
       "      var cmd = \"import bokeh.io.notebook as ion; ion.destroy_server('\" + server_id + \"')\";\n",
       "      cell.notebook.kernel.execute(cmd);\n",
       "    }\n",
       "  }\n",
       "\n",
       "  /**\n",
       "   * Handle when a new output is added\n",
       "   */\n",
       "  function handleAddOutput(event, handle) {\n",
       "    var output_area = handle.output_area;\n",
       "    var output = handle.output;\n",
       "\n",
       "    // limit handleAddOutput to display_data with EXEC_MIME_TYPE content only\n",
       "    if ((output.output_type != \"display_data\") || (!output.data.hasOwnProperty(EXEC_MIME_TYPE))) {\n",
       "      return\n",
       "    }\n",
       "\n",
       "    var toinsert = output_area.element.find(\".\" + CLASS_NAME.split(' ')[0]);\n",
       "\n",
       "    if (output.metadata[EXEC_MIME_TYPE][\"id\"] !== undefined) {\n",
       "      toinsert[toinsert.length - 1].firstChild.textContent = output.data[JS_MIME_TYPE];\n",
       "      // store reference to embed id on output_area\n",
       "      output_area._bokeh_element_id = output.metadata[EXEC_MIME_TYPE][\"id\"];\n",
       "    }\n",
       "    if (output.metadata[EXEC_MIME_TYPE][\"server_id\"] !== undefined) {\n",
       "      var bk_div = document.createElement(\"div\");\n",
       "      bk_div.innerHTML = output.data[HTML_MIME_TYPE];\n",
       "      var script_attrs = bk_div.children[0].attributes;\n",
       "      for (var i = 0; i < script_attrs.length; i++) {\n",
       "        toinsert[toinsert.length - 1].firstChild.setAttribute(script_attrs[i].name, script_attrs[i].value);\n",
       "      }\n",
       "      // store reference to server id on output_area\n",
       "      output_area._bokeh_server_id = output.metadata[EXEC_MIME_TYPE][\"server_id\"];\n",
       "    }\n",
       "  }\n",
       "\n",
       "  function register_renderer(events, OutputArea) {\n",
       "\n",
       "    function append_mime(data, metadata, element) {\n",
       "      // create a DOM node to render to\n",
       "      var toinsert = this.create_output_subarea(\n",
       "        metadata,\n",
       "        CLASS_NAME,\n",
       "        EXEC_MIME_TYPE\n",
       "      );\n",
       "      this.keyboard_manager.register_events(toinsert);\n",
       "      // Render to node\n",
       "      var props = {data: data, metadata: metadata[EXEC_MIME_TYPE]};\n",
       "      render(props, toinsert[toinsert.length - 1]);\n",
       "      element.append(toinsert);\n",
       "      return toinsert\n",
       "    }\n",
       "\n",
       "    /* Handle when an output is cleared or removed */\n",
       "    events.on('clear_output.CodeCell', handleClearOutput);\n",
       "    events.on('delete.Cell', handleClearOutput);\n",
       "\n",
       "    /* Handle when a new output is added */\n",
       "    events.on('output_added.OutputArea', handleAddOutput);\n",
       "\n",
       "    /**\n",
       "     * Register the mime type and append_mime function with output_area\n",
       "     */\n",
       "    OutputArea.prototype.register_mime_type(EXEC_MIME_TYPE, append_mime, {\n",
       "      /* Is output safe? */\n",
       "      safe: true,\n",
       "      /* Index of renderer in `output_area.display_order` */\n",
       "      index: 0\n",
       "    });\n",
       "  }\n",
       "\n",
       "  // register the mime type if in Jupyter Notebook environment and previously unregistered\n",
       "  if (root.Jupyter !== undefined) {\n",
       "    var events = require('base/js/events');\n",
       "    var OutputArea = require('notebook/js/outputarea').OutputArea;\n",
       "\n",
       "    if (OutputArea.prototype.mime_types().indexOf(EXEC_MIME_TYPE) == -1) {\n",
       "      register_renderer(events, OutputArea);\n",
       "    }\n",
       "  }\n",
       "\n",
       "  \n",
       "  if (typeof (root._bokeh_timeout) === \"undefined\" || force === true) {\n",
       "    root._bokeh_timeout = Date.now() + 5000;\n",
       "    root._bokeh_failed_load = false;\n",
       "  }\n",
       "\n",
       "  var NB_LOAD_WARNING = {'data': {'text/html':\n",
       "     \"<div style='background-color: #fdd'>\\n\"+\n",
       "     \"<p>\\n\"+\n",
       "     \"BokehJS does not appear to have successfully loaded. If loading BokehJS from CDN, this \\n\"+\n",
       "     \"may be due to a slow or bad network connection. Possible fixes:\\n\"+\n",
       "     \"</p>\\n\"+\n",
       "     \"<ul>\\n\"+\n",
       "     \"<li>re-rerun `output_notebook()` to attempt to load from CDN again, or</li>\\n\"+\n",
       "     \"<li>use INLINE resources instead, as so:</li>\\n\"+\n",
       "     \"</ul>\\n\"+\n",
       "     \"<code>\\n\"+\n",
       "     \"from bokeh.resources import INLINE\\n\"+\n",
       "     \"output_notebook(resources=INLINE)\\n\"+\n",
       "     \"</code>\\n\"+\n",
       "     \"</div>\"}};\n",
       "\n",
       "  function display_loaded() {\n",
       "    var el = document.getElementById(\"05ff498d-e1dc-483e-a079-f66832f9e8c6\");\n",
       "    if (el != null) {\n",
       "      el.textContent = \"BokehJS is loading...\";\n",
       "    }\n",
       "    if (root.Bokeh !== undefined) {\n",
       "      if (el != null) {\n",
       "        el.textContent = \"BokehJS \" + root.Bokeh.version + \" successfully loaded.\";\n",
       "      }\n",
       "    } else if (Date.now() < root._bokeh_timeout) {\n",
       "      setTimeout(display_loaded, 100)\n",
       "    }\n",
       "  }\n",
       "\n",
       "\n",
       "  function run_callbacks() {\n",
       "    try {\n",
       "      root._bokeh_onload_callbacks.forEach(function(callback) { callback() });\n",
       "    }\n",
       "    finally {\n",
       "      delete root._bokeh_onload_callbacks\n",
       "    }\n",
       "    console.info(\"Bokeh: all callbacks have finished\");\n",
       "  }\n",
       "\n",
       "  function load_libs(js_urls, callback) {\n",
       "    root._bokeh_onload_callbacks.push(callback);\n",
       "    if (root._bokeh_is_loading > 0) {\n",
       "      console.log(\"Bokeh: BokehJS is being loaded, scheduling callback at\", now());\n",
       "      return null;\n",
       "    }\n",
       "    if (js_urls == null || js_urls.length === 0) {\n",
       "      run_callbacks();\n",
       "      return null;\n",
       "    }\n",
       "    console.log(\"Bokeh: BokehJS not loaded, scheduling load and callback at\", now());\n",
       "    root._bokeh_is_loading = js_urls.length;\n",
       "    for (var i = 0; i < js_urls.length; i++) {\n",
       "      var url = js_urls[i];\n",
       "      var s = document.createElement('script');\n",
       "      s.src = url;\n",
       "      s.async = false;\n",
       "      s.onreadystatechange = s.onload = function() {\n",
       "        root._bokeh_is_loading--;\n",
       "        if (root._bokeh_is_loading === 0) {\n",
       "          console.log(\"Bokeh: all BokehJS libraries loaded\");\n",
       "          run_callbacks()\n",
       "        }\n",
       "      };\n",
       "      s.onerror = function() {\n",
       "        console.warn(\"failed to load library \" + url);\n",
       "      };\n",
       "      console.log(\"Bokeh: injecting script tag for BokehJS library: \", url);\n",
       "      document.getElementsByTagName(\"head\")[0].appendChild(s);\n",
       "    }\n",
       "  };var element = document.getElementById(\"05ff498d-e1dc-483e-a079-f66832f9e8c6\");\n",
       "  if (element == null) {\n",
       "    console.log(\"Bokeh: ERROR: autoload.js configured with elementid '05ff498d-e1dc-483e-a079-f66832f9e8c6' but no matching script tag was found. \")\n",
       "    return false;\n",
       "  }\n",
       "\n",
       "  var js_urls = [\"https://cdn.pydata.org/bokeh/release/bokeh-0.12.16.min.js\", \"https://cdn.pydata.org/bokeh/release/bokeh-widgets-0.12.16.min.js\", \"https://cdn.pydata.org/bokeh/release/bokeh-tables-0.12.16.min.js\", \"https://cdn.pydata.org/bokeh/release/bokeh-gl-0.12.16.min.js\"];\n",
       "\n",
       "  var inline_js = [\n",
       "    function(Bokeh) {\n",
       "      Bokeh.set_log_level(\"info\");\n",
       "    },\n",
       "    \n",
       "    function(Bokeh) {\n",
       "      \n",
       "    },\n",
       "    function(Bokeh) {\n",
       "      console.log(\"Bokeh: injecting CSS: https://cdn.pydata.org/bokeh/release/bokeh-0.12.16.min.css\");\n",
       "      Bokeh.embed.inject_css(\"https://cdn.pydata.org/bokeh/release/bokeh-0.12.16.min.css\");\n",
       "      console.log(\"Bokeh: injecting CSS: https://cdn.pydata.org/bokeh/release/bokeh-widgets-0.12.16.min.css\");\n",
       "      Bokeh.embed.inject_css(\"https://cdn.pydata.org/bokeh/release/bokeh-widgets-0.12.16.min.css\");\n",
       "      console.log(\"Bokeh: injecting CSS: https://cdn.pydata.org/bokeh/release/bokeh-tables-0.12.16.min.css\");\n",
       "      Bokeh.embed.inject_css(\"https://cdn.pydata.org/bokeh/release/bokeh-tables-0.12.16.min.css\");\n",
       "    }\n",
       "  ];\n",
       "\n",
       "  function run_inline_js() {\n",
       "    \n",
       "    if ((root.Bokeh !== undefined) || (force === true)) {\n",
       "      for (var i = 0; i < inline_js.length; i++) {\n",
       "        inline_js[i].call(root, root.Bokeh);\n",
       "      }if (force === true) {\n",
       "        display_loaded();\n",
       "      }} else if (Date.now() < root._bokeh_timeout) {\n",
       "      setTimeout(run_inline_js, 100);\n",
       "    } else if (!root._bokeh_failed_load) {\n",
       "      console.log(\"Bokeh: BokehJS failed to load within specified timeout.\");\n",
       "      root._bokeh_failed_load = true;\n",
       "    } else if (force !== true) {\n",
       "      var cell = $(document.getElementById(\"05ff498d-e1dc-483e-a079-f66832f9e8c6\")).parents('.cell').data().cell;\n",
       "      cell.output_area.append_execute_result(NB_LOAD_WARNING)\n",
       "    }\n",
       "\n",
       "  }\n",
       "\n",
       "  if (root._bokeh_is_loading === 0) {\n",
       "    console.log(\"Bokeh: BokehJS loaded, going straight to plotting\");\n",
       "    run_inline_js();\n",
       "  } else {\n",
       "    load_libs(js_urls, function() {\n",
       "      console.log(\"Bokeh: BokehJS plotting callback run at\", now());\n",
       "      run_inline_js();\n",
       "    });\n",
       "  }\n",
       "}(window));"
      ],
      "application/vnd.bokehjs_load.v0+json": "\n(function(root) {\n  function now() {\n    return new Date();\n  }\n\n  var force = true;\n\n  if (typeof (root._bokeh_onload_callbacks) === \"undefined\" || force === true) {\n    root._bokeh_onload_callbacks = [];\n    root._bokeh_is_loading = undefined;\n  }\n\n  \n\n  \n  if (typeof (root._bokeh_timeout) === \"undefined\" || force === true) {\n    root._bokeh_timeout = Date.now() + 5000;\n    root._bokeh_failed_load = false;\n  }\n\n  var NB_LOAD_WARNING = {'data': {'text/html':\n     \"<div style='background-color: #fdd'>\\n\"+\n     \"<p>\\n\"+\n     \"BokehJS does not appear to have successfully loaded. If loading BokehJS from CDN, this \\n\"+\n     \"may be due to a slow or bad network connection. Possible fixes:\\n\"+\n     \"</p>\\n\"+\n     \"<ul>\\n\"+\n     \"<li>re-rerun `output_notebook()` to attempt to load from CDN again, or</li>\\n\"+\n     \"<li>use INLINE resources instead, as so:</li>\\n\"+\n     \"</ul>\\n\"+\n     \"<code>\\n\"+\n     \"from bokeh.resources import INLINE\\n\"+\n     \"output_notebook(resources=INLINE)\\n\"+\n     \"</code>\\n\"+\n     \"</div>\"}};\n\n  function display_loaded() {\n    var el = document.getElementById(\"05ff498d-e1dc-483e-a079-f66832f9e8c6\");\n    if (el != null) {\n      el.textContent = \"BokehJS is loading...\";\n    }\n    if (root.Bokeh !== undefined) {\n      if (el != null) {\n        el.textContent = \"BokehJS \" + root.Bokeh.version + \" successfully loaded.\";\n      }\n    } else if (Date.now() < root._bokeh_timeout) {\n      setTimeout(display_loaded, 100)\n    }\n  }\n\n\n  function run_callbacks() {\n    try {\n      root._bokeh_onload_callbacks.forEach(function(callback) { callback() });\n    }\n    finally {\n      delete root._bokeh_onload_callbacks\n    }\n    console.info(\"Bokeh: all callbacks have finished\");\n  }\n\n  function load_libs(js_urls, callback) {\n    root._bokeh_onload_callbacks.push(callback);\n    if (root._bokeh_is_loading > 0) {\n      console.log(\"Bokeh: BokehJS is being loaded, scheduling callback at\", now());\n      return null;\n    }\n    if (js_urls == null || js_urls.length === 0) {\n      run_callbacks();\n      return null;\n    }\n    console.log(\"Bokeh: BokehJS not loaded, scheduling load and callback at\", now());\n    root._bokeh_is_loading = js_urls.length;\n    for (var i = 0; i < js_urls.length; i++) {\n      var url = js_urls[i];\n      var s = document.createElement('script');\n      s.src = url;\n      s.async = false;\n      s.onreadystatechange = s.onload = function() {\n        root._bokeh_is_loading--;\n        if (root._bokeh_is_loading === 0) {\n          console.log(\"Bokeh: all BokehJS libraries loaded\");\n          run_callbacks()\n        }\n      };\n      s.onerror = function() {\n        console.warn(\"failed to load library \" + url);\n      };\n      console.log(\"Bokeh: injecting script tag for BokehJS library: \", url);\n      document.getElementsByTagName(\"head\")[0].appendChild(s);\n    }\n  };var element = document.getElementById(\"05ff498d-e1dc-483e-a079-f66832f9e8c6\");\n  if (element == null) {\n    console.log(\"Bokeh: ERROR: autoload.js configured with elementid '05ff498d-e1dc-483e-a079-f66832f9e8c6' but no matching script tag was found. \")\n    return false;\n  }\n\n  var js_urls = [\"https://cdn.pydata.org/bokeh/release/bokeh-0.12.16.min.js\", \"https://cdn.pydata.org/bokeh/release/bokeh-widgets-0.12.16.min.js\", \"https://cdn.pydata.org/bokeh/release/bokeh-tables-0.12.16.min.js\", \"https://cdn.pydata.org/bokeh/release/bokeh-gl-0.12.16.min.js\"];\n\n  var inline_js = [\n    function(Bokeh) {\n      Bokeh.set_log_level(\"info\");\n    },\n    \n    function(Bokeh) {\n      \n    },\n    function(Bokeh) {\n      console.log(\"Bokeh: injecting CSS: https://cdn.pydata.org/bokeh/release/bokeh-0.12.16.min.css\");\n      Bokeh.embed.inject_css(\"https://cdn.pydata.org/bokeh/release/bokeh-0.12.16.min.css\");\n      console.log(\"Bokeh: injecting CSS: https://cdn.pydata.org/bokeh/release/bokeh-widgets-0.12.16.min.css\");\n      Bokeh.embed.inject_css(\"https://cdn.pydata.org/bokeh/release/bokeh-widgets-0.12.16.min.css\");\n      console.log(\"Bokeh: injecting CSS: https://cdn.pydata.org/bokeh/release/bokeh-tables-0.12.16.min.css\");\n      Bokeh.embed.inject_css(\"https://cdn.pydata.org/bokeh/release/bokeh-tables-0.12.16.min.css\");\n    }\n  ];\n\n  function run_inline_js() {\n    \n    if ((root.Bokeh !== undefined) || (force === true)) {\n      for (var i = 0; i < inline_js.length; i++) {\n        inline_js[i].call(root, root.Bokeh);\n      }if (force === true) {\n        display_loaded();\n      }} else if (Date.now() < root._bokeh_timeout) {\n      setTimeout(run_inline_js, 100);\n    } else if (!root._bokeh_failed_load) {\n      console.log(\"Bokeh: BokehJS failed to load within specified timeout.\");\n      root._bokeh_failed_load = true;\n    } else if (force !== true) {\n      var cell = $(document.getElementById(\"05ff498d-e1dc-483e-a079-f66832f9e8c6\")).parents('.cell').data().cell;\n      cell.output_area.append_execute_result(NB_LOAD_WARNING)\n    }\n\n  }\n\n  if (root._bokeh_is_loading === 0) {\n    console.log(\"Bokeh: BokehJS loaded, going straight to plotting\");\n    run_inline_js();\n  } else {\n    load_libs(js_urls, function() {\n      console.log(\"Bokeh: BokehJS plotting callback run at\", now());\n      run_inline_js();\n    });\n  }\n}(window));"
     },
     "metadata": {},
     "output_type": "display_data"
    }
   ],
   "source": [
    "output_notebook()"
   ]
  },
  {
   "cell_type": "code",
   "execution_count": 27,
   "metadata": {},
   "outputs": [
    {
     "data": {
      "text/html": [
       "\n",
       "<div class=\"bk-root\">\n",
       "    <div class=\"bk-plotdiv\" id=\"6cf9136a-11f5-4c74-9cd2-0ba0a1ef90c2\"></div>\n",
       "</div>"
      ]
     },
     "metadata": {},
     "output_type": "display_data"
    },
    {
     "data": {
      "application/javascript": [
       "(function(root) {\n",
       "  function embed_document(root) {\n",
       "    \n",
       "  var docs_json = {\"c12fc1ed-5fe1-42e5-85bf-d2b668865849\":{\"roots\":{\"references\":[{\"attributes\":{},\"id\":\"27c33d84-4547-4c01-ba9e-0b2b61d42177\",\"type\":\"WheelZoomTool\"},{\"attributes\":{},\"id\":\"e260d958-d387-4c9c-bd1b-12a64756966d\",\"type\":\"UnionRenderers\"},{\"attributes\":{\"line_color\":\"#01a8b7\",\"x\":{\"field\":\"x\"},\"y\":{\"field\":\"y\"}},\"id\":\"21996630-b1f5-4359-a55d-fc4664e95fbb\",\"type\":\"Line\"},{\"attributes\":{\"plot\":{\"id\":\"3cadb7cf-f832-4bd5-a237-40e389a26a17\",\"subtype\":\"Figure\",\"type\":\"Plot\"},\"ticker\":{\"id\":\"8b15eadb-9ded-419a-ab07-3646b65c28fd\",\"type\":\"BasicTicker\"}},\"id\":\"661f6c0e-65e8-4c89-b9fe-64899af32f9e\",\"type\":\"Grid\"},{\"attributes\":{\"line_color\":\"#349e17\",\"x\":{\"field\":\"x\"},\"y\":{\"field\":\"y\"}},\"id\":\"20328ff3-eea7-4c6f-8f51-2e35197af11e\",\"type\":\"Line\"},{\"attributes\":{\"line_alpha\":0.1,\"line_color\":\"#1f77b4\",\"x\":{\"field\":\"x\"},\"y\":{\"field\":\"y\"}},\"id\":\"88858c39-16a8-47b6-8278-051f4b7bdab9\",\"type\":\"Line\"},{\"attributes\":{\"source\":{\"id\":\"187e3ebe-fac9-433b-afe9-614ae6726800\",\"type\":\"ColumnDataSource\"}},\"id\":\"f20e1bab-b69d-4a11-80e3-bcfb71795594\",\"type\":\"CDSView\"},{\"attributes\":{},\"id\":\"c49f43a2-8255-4893-9ff7-cc4f5e5d62c2\",\"type\":\"ResetTool\"},{\"attributes\":{},\"id\":\"00833fc3-07bb-444b-a6a1-9f1bec7d1d9b\",\"type\":\"LinearScale\"},{\"attributes\":{\"source\":{\"id\":\"9428fb79-f792-4a82-acf4-b3308930ba52\",\"type\":\"ColumnDataSource\"}},\"id\":\"75468388-a1f2-4139-bea7-4a7395c83dd6\",\"type\":\"CDSView\"},{\"attributes\":{\"source\":{\"id\":\"d0a5f8d9-1b63-4784-9f63-4adb322161de\",\"type\":\"ColumnDataSource\"}},\"id\":\"8fbb12c7-cb43-4382-b346-548ddc755308\",\"type\":\"CDSView\"},{\"attributes\":{\"label\":{\"value\":\"ptotww_m_30spfaf06\"},\"renderers\":[{\"id\":\"f165bb11-452d-4d38-ae36-2a401c3983cc\",\"type\":\"GlyphRenderer\"}]},\"id\":\"255dbe81-397e-4b3e-b215-bfa6c7a98484\",\"type\":\"LegendItem\"},{\"attributes\":{},\"id\":\"e4c37504-6d65-497e-864b-b2739c32f9da\",\"type\":\"Selection\"},{\"attributes\":{},\"id\":\"d46c29a1-24e8-4b0a-ad67-1beefb032924\",\"type\":\"UnionRenderers\"},{\"attributes\":{\"callback\":null,\"data\":{\"x\":[1960,1961,1962,1963,1964,1965,1966,1967,1968,1969,1970,1971,1972,1973,1974,1975,1976,1977,1978,1979,1980,1981,1982,1983,1984,1985,1986,1987,1988,1989,1990,1991,1992,1993,1994,1995,1996,1997,1998,1999,2000,2001,2002,2003,2004,2005,2006,2007,2008,2009,2010,2011,2012,2013,2014],\"y\":{\"__ndarray__\":\"KGg2N7H6VD+7tYBExfZYPwTJ5DOjEFg/hlVrmyRzWD80sItbTYJaPy/4ME+mYF0/B23+Wfc+XT8h0QUzhL9cP3uOEiomoFw/+8Bsj4lPXD9WTBcLGZpdP/Z2i+0EDl0/bPGqQHAoXj9I75JkOwZfPyuC+iUsoV8/P4VTY+NVXj/SRCAzDaJgP0h3ZDlLUGE/EI50yWWfYT/PC3fQf5NiPxsxAu9C5WI/I82sIWSvYz9tRZ44y3dkP5wIllZO8WQ/l0uSVgeGZD+nNXlC/wBlP+kGDolk1GQ/SGWp1HqyZT+uyJPf+URmP0srIgZrd2c/iyUR67mFaD9EXfEA+LtpP6C9Ep1wXGw/lbVCn93fbD8AEOUlOkhuPwQ/xnM6C3E/zKrg8aUPcT+tCriQFxJxP4skFIVuNXE/Lt7cZGyOcT+QLUcRPWxxP6+WoNGRRHE/g9794H5IcD+gL3vczsVwP0vu652osnA/+R6LkfDLcD9RwjdLwchxPynu9o1T/nE/wIrIW41zcj/mJRGt421yPwn9ETuSynI/FB3obsYgcz9Wc7Tpkdh0P4A7gRLxt3Q/1hbvKkawdT8=\",\"dtype\":\"float64\",\"shape\":[55]}},\"selected\":{\"id\":\"429a7f25-2a61-42fd-8526-dbf6eac4f050\",\"type\":\"Selection\"},\"selection_policy\":{\"id\":\"31a24dce-80f1-44d5-8669-1880e3a739ae\",\"type\":\"UnionRenderers\"}},\"id\":\"d0a5f8d9-1b63-4784-9f63-4adb322161de\",\"type\":\"ColumnDataSource\"},{\"attributes\":{\"data_source\":{\"id\":\"5e5c62b5-c904-428d-967c-efbcf6999abd\",\"type\":\"ColumnDataSource\"},\"glyph\":{\"id\":\"20328ff3-eea7-4c6f-8f51-2e35197af11e\",\"type\":\"Line\"},\"hover_glyph\":null,\"muted_glyph\":null,\"nonselection_glyph\":{\"id\":\"28406b4d-62d9-4e1c-bbd4-73c7546635b2\",\"type\":\"Line\"},\"selection_glyph\":null,\"view\":{\"id\":\"2186afed-ab98-490d-b173-1482ee6c14e0\",\"type\":\"CDSView\"}},\"id\":\"f165bb11-452d-4d38-ae36-2a401c3983cc\",\"type\":\"GlyphRenderer\"},{\"attributes\":{\"active_drag\":\"auto\",\"active_inspect\":\"auto\",\"active_scroll\":\"auto\",\"active_tap\":\"auto\",\"tools\":[{\"id\":\"a70d55a8-4b8c-49a7-a622-fe7761e06454\",\"type\":\"PanTool\"},{\"id\":\"27c33d84-4547-4c01-ba9e-0b2b61d42177\",\"type\":\"WheelZoomTool\"},{\"id\":\"d685534e-35ec-4855-a148-490686a0e49a\",\"type\":\"BoxZoomTool\"},{\"id\":\"100a7627-ae1c-4e88-8e06-f66e36782660\",\"type\":\"SaveTool\"},{\"id\":\"c49f43a2-8255-4893-9ff7-cc4f5e5d62c2\",\"type\":\"ResetTool\"},{\"id\":\"addd65bd-75cc-4c19-8005-5f7fd58c8212\",\"type\":\"HelpTool\"},{\"id\":\"3371c715-67b9-4279-8757-3ebfc61a74b4\",\"type\":\"HoverTool\"}]},\"id\":\"c48fb76a-32f5-46ad-9cca-f6740110cd8f\",\"type\":\"Toolbar\"},{\"attributes\":{\"click_policy\":\"hide\",\"items\":[{\"id\":\"255dbe81-397e-4b3e-b215-bfa6c7a98484\",\"type\":\"LegendItem\"},{\"id\":\"18f0fb36-7be3-4c20-ad85-1f8865e3994a\",\"type\":\"LegendItem\"},{\"id\":\"53c57f3b-f329-45a8-b624-68ec83400073\",\"type\":\"LegendItem\"},{\"id\":\"9ad64abc-9863-4c80-9767-4b844b830273\",\"type\":\"LegendItem\"},{\"id\":\"afec9199-5299-4225-adf2-cfc4f36b7866\",\"type\":\"LegendItem\"},{\"id\":\"02eef761-32dd-4553-a886-f136260fd4fe\",\"type\":\"LegendItem\"}],\"location\":\"top_left\",\"plot\":{\"id\":\"3cadb7cf-f832-4bd5-a237-40e389a26a17\",\"subtype\":\"Figure\",\"type\":\"Plot\"}},\"id\":\"76df7877-8297-47ca-8812-b64fae1b273b\",\"type\":\"Legend\"},{\"attributes\":{},\"id\":\"a70d55a8-4b8c-49a7-a622-fe7761e06454\",\"type\":\"PanTool\"},{\"attributes\":{\"callback\":null,\"data\":{\"x\":[1960,1961,1962,1963,1964,1965,1966,1967,1968,1969,1970,1971,1972,1973,1974,1975,1976,1977,1978,1979,1980,1981,1982,1983,1984,1985,1986,1987,1988,1989,1990,1991,1992,1993,1994,1995,1996,1997,1998,1999,2000,2001,2002,2003,2004,2005,2006,2007,2008,2009,2010,2011,2012,2013,2014],\"y\":{\"__ndarray__\":\"7t6jrtkroT/ENponhIKYPyd5L3q/95o/PhilivPQmz/iC3sFsm+dPziPPAsHcpo/ra5e6yqXnD+ZvtQbQXqbP7+EgqtZ7po/MdH+qT6znD/vJcbKlOWbPzHqjTucV58/2xFUDn7bnj8FhWktIMudPwAvtc0Tapw/5Ggoyz1MnT9jRaRfGNKZP3naPKY9AJs/jL1Mq9rnnD/85keoOAmdP0ZEOm1yBpw/hoAlfPl4mD+QJxb0FASXP/tCr+livZU/cHZgCStKlj97NptUQceWP4zYT9gW8Zc/45+KfrO2lj8TXhdOLSeVP57sUwWvnJE/yB3IzWENkj/uswvNRsmSP/3rLj8pNZI/QRZdslNukj99lNFQ1B6RPyPv3k8/MY4/ZxZSM30FkT81VSfsl6CRPwFcdSgMzJE/8QHcleV0kT975ycofxuRPwfFS4nKm5I/BNfpSFGHkz85IONZL2WVP4l/IQKvwpc/OCMvl52plz+TlPPmwy2VP1YUX1gsdpY/bOy/p5PXlT8Cn8+Ht8mWP2QJkXuZtZg/Nn/raXEslz+dn/BjWhuWP/5uwosPSpY/GSHnTEAilD8=\",\"dtype\":\"float64\",\"shape\":[55]}},\"selected\":{\"id\":\"c9fd63ed-f248-42a7-b7d6-352d427c69c5\",\"type\":\"Selection\"},\"selection_policy\":{\"id\":\"e260d958-d387-4c9c-bd1b-12a64756966d\",\"type\":\"UnionRenderers\"}},\"id\":\"187e3ebe-fac9-433b-afe9-614ae6726800\",\"type\":\"ColumnDataSource\"},{\"attributes\":{\"label\":{\"value\":\"ma10_riverdischarge_m_30spfaf06\"},\"renderers\":[{\"id\":\"0ebf552b-5769-4c78-9853-883eabfe3256\",\"type\":\"GlyphRenderer\"}]},\"id\":\"02eef761-32dd-4553-a886-f136260fd4fe\",\"type\":\"LegendItem\"},{\"attributes\":{\"line_color\":\"#3fea10\",\"x\":{\"field\":\"x\"},\"y\":{\"field\":\"y\"}},\"id\":\"a1dbb929-7522-4c72-b8ec-69370f2e44f1\",\"type\":\"Line\"},{\"attributes\":{\"formatter\":{\"id\":\"26e6e32f-941a-432c-acfb-0cefe7dafa69\",\"type\":\"BasicTickFormatter\"},\"plot\":{\"id\":\"3cadb7cf-f832-4bd5-a237-40e389a26a17\",\"subtype\":\"Figure\",\"type\":\"Plot\"},\"ticker\":{\"id\":\"8b15eadb-9ded-419a-ab07-3646b65c28fd\",\"type\":\"BasicTicker\"}},\"id\":\"039f3710-13ae-44c3-80cd-a679f4ad0e79\",\"type\":\"LinearAxis\"},{\"attributes\":{\"label\":{\"value\":\"ma10_ptotwn_m_30spfaf06\"},\"renderers\":[{\"id\":\"d919d598-20ce-4760-a87c-c3e0429a2b6e\",\"type\":\"GlyphRenderer\"}]},\"id\":\"afec9199-5299-4225-adf2-cfc4f36b7866\",\"type\":\"LegendItem\"},{\"attributes\":{},\"id\":\"8b15eadb-9ded-419a-ab07-3646b65c28fd\",\"type\":\"BasicTicker\"},{\"attributes\":{\"data_source\":{\"id\":\"d0a5f8d9-1b63-4784-9f63-4adb322161de\",\"type\":\"ColumnDataSource\"},\"glyph\":{\"id\":\"a1dbb929-7522-4c72-b8ec-69370f2e44f1\",\"type\":\"Line\"},\"hover_glyph\":null,\"muted_glyph\":null,\"nonselection_glyph\":{\"id\":\"2e2535c1-4f31-44e1-9cc4-d5871112bab6\",\"type\":\"Line\"},\"selection_glyph\":null,\"view\":{\"id\":\"8fbb12c7-cb43-4382-b346-548ddc755308\",\"type\":\"CDSView\"}},\"id\":\"f9d4a27e-7efa-4086-a02d-5a4b9a641865\",\"type\":\"GlyphRenderer\"},{\"attributes\":{\"callback\":null},\"id\":\"f34b321b-afa5-4b98-b6d6-4f52a375c74c\",\"type\":\"DataRange1d\"},{\"attributes\":{\"source\":{\"id\":\"8aebf03d-9675-4c78-b65e-865d312ceb81\",\"type\":\"ColumnDataSource\"}},\"id\":\"71c5b31d-6ccd-4333-9fe5-672b926e8caa\",\"type\":\"CDSView\"},{\"attributes\":{\"data_source\":{\"id\":\"9428fb79-f792-4a82-acf4-b3308930ba52\",\"type\":\"ColumnDataSource\"},\"glyph\":{\"id\":\"66c6a793-32a7-4b0e-817a-fda8f3bdf552\",\"type\":\"Line\"},\"hover_glyph\":null,\"muted_glyph\":null,\"nonselection_glyph\":{\"id\":\"d44a617c-38fb-47fb-999b-0b07df38f9a3\",\"type\":\"Line\"},\"selection_glyph\":null,\"view\":{\"id\":\"75468388-a1f2-4139-bea7-4a7395c83dd6\",\"type\":\"CDSView\"}},\"id\":\"e545a540-4b3f-40c1-8940-c3c2c03d0f52\",\"type\":\"GlyphRenderer\"},{\"attributes\":{},\"id\":\"31a24dce-80f1-44d5-8669-1880e3a739ae\",\"type\":\"UnionRenderers\"},{\"attributes\":{},\"id\":\"c4f1b752-3db8-4dd6-87ec-28aaeeabc5fc\",\"type\":\"BasicTicker\"},{\"attributes\":{\"label\":{\"value\":\"riverdischarge_m_30spfaf06\"},\"renderers\":[{\"id\":\"e545a540-4b3f-40c1-8940-c3c2c03d0f52\",\"type\":\"GlyphRenderer\"}]},\"id\":\"53c57f3b-f329-45a8-b624-68ec83400073\",\"type\":\"LegendItem\"},{\"attributes\":{\"line_color\":\"#f4570e\",\"x\":{\"field\":\"x\"},\"y\":{\"field\":\"y\"}},\"id\":\"a02e7d7a-35eb-4dcb-8254-9751fc0c6912\",\"type\":\"Line\"},{\"attributes\":{\"callback\":null,\"data\":{\"x\":[1960,1961,1962,1963,1964,1965,1966,1967,1968,1969,1970,1971,1972,1973,1974,1975,1976,1977,1978,1979,1980,1981,1982,1983,1984,1985,1986,1987,1988,1989,1990,1991,1992,1993,1994,1995,1996,1997,1998,1999,2000,2001,2002,2003,2004,2005,2006,2007,2008,2009,2010,2011,2012,2013,2014],\"y\":{\"__ndarray__\":\"7t6jrtkroT9WX9njqVqNP+/9WR824p8/oPUFvI9cnj84bWn4VfWhP5A/CFBg+4Y/07UVFgG7pD9KLg9v3K+TP1+18Cgej5Y/38AuzqVPpj9MDBGlEE+aP50t3azPkKg/zIkXWwgJmz+bddzy5LiTP8t9xzMwIJY/J2OEDlRTlD+pJAjkL8J6P7MABTFRfZ8/8MnHLaDNpD8BkBa/e/amP6KxiFZSM5A/8GvV3cs1iz/KHvwUNvCIPx0fXivC13s/sICzcAGgmz8J5M/+MjaZP0VdEB7jUpI/4clQr281kz80Ag93AgCaP3dhFU0RCIU/1Z0SK06alD90k47n1/GUP0IBef/Nu3o/EFtKFTJjgj+y3oBCDwqNP9gL65eR4HM/lEj1R8XJoj8tPqXnekSZP0pGG9KMsps/NrI0shtyfD+rlAniTRyRP6Odetlk+qE/2+gV+G3Ejz/XCWK0RdybP9gT2BkCFqM/t0IZxLHrbz9z/S1bE3qJP7gd7KpHDKM/8rfj65WAlT+4JSqt7ZGQPzPey7OQKaI/QdZ9AjmZlD9v4PgAQ910P/UilEJZr50/DR0fv+udkD8=\",\"dtype\":\"float64\",\"shape\":[55]}},\"selected\":{\"id\":\"19b260d8-2a46-4378-b66b-395eb51b43cf\",\"type\":\"Selection\"},\"selection_policy\":{\"id\":\"d46c29a1-24e8-4b0a-ad67-1beefb032924\",\"type\":\"UnionRenderers\"}},\"id\":\"9428fb79-f792-4a82-acf4-b3308930ba52\",\"type\":\"ColumnDataSource\"},{\"attributes\":{\"label\":{\"value\":\"ma10_ptotww_m_30spfaf06\"},\"renderers\":[{\"id\":\"f9d4a27e-7efa-4086-a02d-5a4b9a641865\",\"type\":\"GlyphRenderer\"}]},\"id\":\"9ad64abc-9863-4c80-9767-4b844b830273\",\"type\":\"LegendItem\"},{\"attributes\":{\"line_alpha\":0.1,\"line_color\":\"#1f77b4\",\"x\":{\"field\":\"x\"},\"y\":{\"field\":\"y\"}},\"id\":\"2791b721-a98d-4d5f-bd37-62d98924375c\",\"type\":\"Line\"},{\"attributes\":{},\"id\":\"429a7f25-2a61-42fd-8526-dbf6eac4f050\",\"type\":\"Selection\"},{\"attributes\":{\"callback\":null,\"data\":{\"x\":[1960,1961,1962,1963,1964,1965,1966,1967,1968,1969,1970,1971,1972,1973,1974,1975,1976,1977,1978,1979,1980,1981,1982,1983,1984,1985,1986,1987,1988,1989,1990,1991,1992,1993,1994,1995,1996,1997,1998,1999,2000,2001,2002,2003,2004,2005,2006,2007,2008,2009,2010,2011,2012,2013,2014],\"y\":{\"__ndarray__\":\"KGg2N7H6VD9OA8tR2fJcP5bvrBJfRFY/Dfv+0aiaWT91jQYueF9hPwywtYgx3GU/tinPmt10XD+OjjkiXkNZP655eOI1pVs/BYaYHwh6WT8J7e8FJvJgP+itVCoQelc/1tvzKEimYD8Zc4ccTCJhP7ZrDPUrZmQ/VH7ldovHXj8dqwjcgeFsP1DAxk8bcGM/NiDdkaTpYD/YLOVVCEZmP6ZhXzfFI2Q/QW/UD1SiYz+ijmIOT3poP+sSNUhr4WU/uQnn9GU1YD/543fydDFkP7HX2J12I2s/vW/YQ/ocbD9cAgX/mqJmP16Duus5H3E/4Se1KNqybj+KnJbqwMBvPzQp2JOCX3k/rsIUXq0Daz+NkT43A0luP2kYgUHgH30/7ULpd9x7az8E7qus2k1sPyEHNxZmZWk/usORqSSZdD+rWwOhJwdsP6bSkvFfp2w/Ae/5WooNbz+ZjO+B9mZyP0V3DVQGymw/BP+4xa8cfj+tArN8FZ53P7etzfGjPnA/j6FLFfVGcT//0mfWg2B0P00VilxlonE/26km/7mxcT/iKrz8W1qAP2Ve7xmuIHE/Uk1RHlYYeD8=\",\"dtype\":\"float64\",\"shape\":[55]}},\"selected\":{\"id\":\"79addf4e-7454-4810-80dd-603fd72d93f6\",\"type\":\"Selection\"},\"selection_policy\":{\"id\":\"07472b1a-3d72-48b7-bc9b-57a091494e43\",\"type\":\"UnionRenderers\"}},\"id\":\"5e5c62b5-c904-428d-967c-efbcf6999abd\",\"type\":\"ColumnDataSource\"},{\"attributes\":{\"callback\":null},\"id\":\"4260eeb0-71ef-448f-b185-61acbf9d4c9f\",\"type\":\"DataRange1d\"},{\"attributes\":{\"line_alpha\":0.1,\"line_color\":\"#1f77b4\",\"x\":{\"field\":\"x\"},\"y\":{\"field\":\"y\"}},\"id\":\"28406b4d-62d9-4e1c-bbd4-73c7546635b2\",\"type\":\"Line\"},{\"attributes\":{\"overlay\":{\"id\":\"856a1b6c-a628-4499-bc64-de190f843cf6\",\"type\":\"BoxAnnotation\"}},\"id\":\"d685534e-35ec-4855-a148-490686a0e49a\",\"type\":\"BoxZoomTool\"},{\"attributes\":{},\"id\":\"addd65bd-75cc-4c19-8005-5f7fd58c8212\",\"type\":\"HelpTool\"},{\"attributes\":{\"callback\":null,\"data\":{\"x\":[1960,1961,1962,1963,1964,1965,1966,1967,1968,1969,1970,1971,1972,1973,1974,1975,1976,1977,1978,1979,1980,1981,1982,1983,1984,1985,1986,1987,1988,1989,1990,1991,1992,1993,1994,1995,1996,1997,1998,1999,2000,2001,2002,2003,2004,2005,2006,2007,2008,2009,2010,2011,2012,2013,2014],\"y\":{\"__ndarray__\":\"2UP5MjSRQj+KQ2/j1tBGP05f2/DV70Q/en/tydPQRD96SGlwXa9GP1vE2q2og0k/sJkKcygaST/e4vhp2VJIP2RERjNGAUg/c0xMTbZ5Rz+APTQYs2BIP8zqdV1OQkc/Pp8Is30gSD9tburCxa1IPyQOXEwwT0k/q2zOoVbeRz+nzhoySRBLP25xOEXIjEw/7GCNDFAtTT8GyfbuLypPP1xCCkBZxk8/7rZGA+S+UD83SUO0uqNRP4+GC6PBQ1I/EXTsjgq/UT986c/RZzdSP3/DMwUtqFE/efO8VqEvUj/4spvekV9SPzMskDLIQFM/rY6KcGDoUz8dSbII3K9UPxUJl9ph+VY/gZe4Sjv/Vj9wqp1yz/1XPy5qSG3Bj1s/pZpP3tVTWz+BlSWQSSlbP5CBWd4BTls/+XshY/nsWz9pXWvd8JlbP8A8ce2gPVs/GuRVj/UQWT/map/SxPdZPzhv3XX+llk/q8F2gfebWT9LArsFk41bP4j5WW3EuFs/4FgSB4VqXD/VLbiu2x1cP9oDQZSZp1w/VhI3kkchXT+VPr0fUVhgP/SNdD7yJWA/rce2l0osYT8=\",\"dtype\":\"float64\",\"shape\":[55]}},\"selected\":{\"id\":\"55a81cfa-7b58-4773-8bba-82546b766700\",\"type\":\"Selection\"},\"selection_policy\":{\"id\":\"dcc32be4-47f3-41fa-8a4a-2a998e40dbb0\",\"type\":\"UnionRenderers\"}},\"id\":\"da1cef9a-50e4-49d5-a822-576324137601\",\"type\":\"ColumnDataSource\"},{\"attributes\":{\"data_source\":{\"id\":\"187e3ebe-fac9-433b-afe9-614ae6726800\",\"type\":\"ColumnDataSource\"},\"glyph\":{\"id\":\"21996630-b1f5-4359-a55d-fc4664e95fbb\",\"type\":\"Line\"},\"hover_glyph\":null,\"muted_glyph\":null,\"nonselection_glyph\":{\"id\":\"88858c39-16a8-47b6-8278-051f4b7bdab9\",\"type\":\"Line\"},\"selection_glyph\":null,\"view\":{\"id\":\"f20e1bab-b69d-4a11-80e3-bcfb71795594\",\"type\":\"CDSView\"}},\"id\":\"0ebf552b-5769-4c78-9853-883eabfe3256\",\"type\":\"GlyphRenderer\"},{\"attributes\":{},\"id\":\"55a81cfa-7b58-4773-8bba-82546b766700\",\"type\":\"Selection\"},{\"attributes\":{},\"id\":\"26e6e32f-941a-432c-acfb-0cefe7dafa69\",\"type\":\"BasicTickFormatter\"},{\"attributes\":{\"callback\":null,\"renderers\":\"auto\",\"tooltips\":[[\"year\",\"@x\"],[\"value\",\"@y\"]]},\"id\":\"3371c715-67b9-4279-8757-3ebfc61a74b4\",\"type\":\"HoverTool\"},{\"attributes\":{},\"id\":\"8c0f0824-6bf3-4c42-bd1d-95ef41a7e7e6\",\"type\":\"BasicTickFormatter\"},{\"attributes\":{\"formatter\":{\"id\":\"8c0f0824-6bf3-4c42-bd1d-95ef41a7e7e6\",\"type\":\"BasicTickFormatter\"},\"plot\":{\"id\":\"3cadb7cf-f832-4bd5-a237-40e389a26a17\",\"subtype\":\"Figure\",\"type\":\"Plot\"},\"ticker\":{\"id\":\"c4f1b752-3db8-4dd6-87ec-28aaeeabc5fc\",\"type\":\"BasicTicker\"}},\"id\":\"abcacec3-fa78-40a5-be5b-9411fddc59bb\",\"type\":\"LinearAxis\"},{\"attributes\":{},\"id\":\"07472b1a-3d72-48b7-bc9b-57a091494e43\",\"type\":\"UnionRenderers\"},{\"attributes\":{\"line_color\":\"#003baa\",\"x\":{\"field\":\"x\"},\"y\":{\"field\":\"y\"}},\"id\":\"66c6a793-32a7-4b0e-817a-fda8f3bdf552\",\"type\":\"Line\"},{\"attributes\":{\"line_alpha\":0.1,\"line_color\":\"#1f77b4\",\"x\":{\"field\":\"x\"},\"y\":{\"field\":\"y\"}},\"id\":\"13a80ad4-90df-4d47-8126-cce7225eb985\",\"type\":\"Line\"},{\"attributes\":{\"below\":[{\"id\":\"039f3710-13ae-44c3-80cd-a679f4ad0e79\",\"type\":\"LinearAxis\"}],\"left\":[{\"id\":\"abcacec3-fa78-40a5-be5b-9411fddc59bb\",\"type\":\"LinearAxis\"}],\"plot_height\":500,\"plot_width\":800,\"renderers\":[{\"id\":\"039f3710-13ae-44c3-80cd-a679f4ad0e79\",\"type\":\"LinearAxis\"},{\"id\":\"661f6c0e-65e8-4c89-b9fe-64899af32f9e\",\"type\":\"Grid\"},{\"id\":\"abcacec3-fa78-40a5-be5b-9411fddc59bb\",\"type\":\"LinearAxis\"},{\"id\":\"2a66376c-222e-44fa-b074-e2edb7cc14bc\",\"type\":\"Grid\"},{\"id\":\"856a1b6c-a628-4499-bc64-de190f843cf6\",\"type\":\"BoxAnnotation\"},{\"id\":\"76df7877-8297-47ca-8812-b64fae1b273b\",\"type\":\"Legend\"},{\"id\":\"f165bb11-452d-4d38-ae36-2a401c3983cc\",\"type\":\"GlyphRenderer\"},{\"id\":\"e707f66f-3caf-4e28-835f-c881caee2a2f\",\"type\":\"GlyphRenderer\"},{\"id\":\"e545a540-4b3f-40c1-8940-c3c2c03d0f52\",\"type\":\"GlyphRenderer\"},{\"id\":\"f9d4a27e-7efa-4086-a02d-5a4b9a641865\",\"type\":\"GlyphRenderer\"},{\"id\":\"d919d598-20ce-4760-a87c-c3e0429a2b6e\",\"type\":\"GlyphRenderer\"},{\"id\":\"0ebf552b-5769-4c78-9853-883eabfe3256\",\"type\":\"GlyphRenderer\"}],\"title\":{\"id\":\"81988f77-f215-489a-97e6-479366a31c3a\",\"type\":\"Title\"},\"toolbar\":{\"id\":\"c48fb76a-32f5-46ad-9cca-f6740110cd8f\",\"type\":\"Toolbar\"},\"x_range\":{\"id\":\"4260eeb0-71ef-448f-b185-61acbf9d4c9f\",\"type\":\"DataRange1d\"},\"x_scale\":{\"id\":\"00833fc3-07bb-444b-a6a1-9f1bec7d1d9b\",\"type\":\"LinearScale\"},\"y_range\":{\"id\":\"f34b321b-afa5-4b98-b6d6-4f52a375c74c\",\"type\":\"DataRange1d\"},\"y_scale\":{\"id\":\"e227bf31-aebd-4c0e-aa3b-2b0ca08298a4\",\"type\":\"LinearScale\"}},\"id\":\"3cadb7cf-f832-4bd5-a237-40e389a26a17\",\"subtype\":\"Figure\",\"type\":\"Plot\"},{\"attributes\":{\"data_source\":{\"id\":\"8aebf03d-9675-4c78-b65e-865d312ceb81\",\"type\":\"ColumnDataSource\"},\"glyph\":{\"id\":\"5312b78b-0a62-4368-b272-43b962f1955a\",\"type\":\"Line\"},\"hover_glyph\":null,\"muted_glyph\":null,\"nonselection_glyph\":{\"id\":\"2791b721-a98d-4d5f-bd37-62d98924375c\",\"type\":\"Line\"},\"selection_glyph\":null,\"view\":{\"id\":\"71c5b31d-6ccd-4333-9fe5-672b926e8caa\",\"type\":\"CDSView\"}},\"id\":\"e707f66f-3caf-4e28-835f-c881caee2a2f\",\"type\":\"GlyphRenderer\"},{\"attributes\":{\"bottom_units\":\"screen\",\"fill_alpha\":{\"value\":0.5},\"fill_color\":{\"value\":\"lightgrey\"},\"left_units\":\"screen\",\"level\":\"overlay\",\"line_alpha\":{\"value\":1.0},\"line_color\":{\"value\":\"black\"},\"line_dash\":[4,4],\"line_width\":{\"value\":2},\"plot\":null,\"render_mode\":\"css\",\"right_units\":\"screen\",\"top_units\":\"screen\"},\"id\":\"856a1b6c-a628-4499-bc64-de190f843cf6\",\"type\":\"BoxAnnotation\"},{\"attributes\":{\"line_color\":\"#af4c1d\",\"x\":{\"field\":\"x\"},\"y\":{\"field\":\"y\"}},\"id\":\"5312b78b-0a62-4368-b272-43b962f1955a\",\"type\":\"Line\"},{\"attributes\":{},\"id\":\"e227bf31-aebd-4c0e-aa3b-2b0ca08298a4\",\"type\":\"LinearScale\"},{\"attributes\":{\"label\":{\"value\":\"ptotwn_m_30spfaf06\"},\"renderers\":[{\"id\":\"e707f66f-3caf-4e28-835f-c881caee2a2f\",\"type\":\"GlyphRenderer\"}]},\"id\":\"18f0fb36-7be3-4c20-ad85-1f8865e3994a\",\"type\":\"LegendItem\"},{\"attributes\":{\"line_alpha\":0.1,\"line_color\":\"#1f77b4\",\"x\":{\"field\":\"x\"},\"y\":{\"field\":\"y\"}},\"id\":\"d44a617c-38fb-47fb-999b-0b07df38f9a3\",\"type\":\"Line\"},{\"attributes\":{},\"id\":\"79addf4e-7454-4810-80dd-603fd72d93f6\",\"type\":\"Selection\"},{\"attributes\":{\"line_alpha\":0.1,\"line_color\":\"#1f77b4\",\"x\":{\"field\":\"x\"},\"y\":{\"field\":\"y\"}},\"id\":\"2e2535c1-4f31-44e1-9cc4-d5871112bab6\",\"type\":\"Line\"},{\"attributes\":{\"dimension\":1,\"plot\":{\"id\":\"3cadb7cf-f832-4bd5-a237-40e389a26a17\",\"subtype\":\"Figure\",\"type\":\"Plot\"},\"ticker\":{\"id\":\"c4f1b752-3db8-4dd6-87ec-28aaeeabc5fc\",\"type\":\"BasicTicker\"}},\"id\":\"2a66376c-222e-44fa-b074-e2edb7cc14bc\",\"type\":\"Grid\"},{\"attributes\":{},\"id\":\"c9fd63ed-f248-42a7-b7d6-352d427c69c5\",\"type\":\"Selection\"},{\"attributes\":{\"data_source\":{\"id\":\"da1cef9a-50e4-49d5-a822-576324137601\",\"type\":\"ColumnDataSource\"},\"glyph\":{\"id\":\"a02e7d7a-35eb-4dcb-8254-9751fc0c6912\",\"type\":\"Line\"},\"hover_glyph\":null,\"muted_glyph\":null,\"nonselection_glyph\":{\"id\":\"13a80ad4-90df-4d47-8126-cce7225eb985\",\"type\":\"Line\"},\"selection_glyph\":null,\"view\":{\"id\":\"ac88f7b2-82a6-4ccc-88f1-005740b5d765\",\"type\":\"CDSView\"}},\"id\":\"d919d598-20ce-4760-a87c-c3e0429a2b6e\",\"type\":\"GlyphRenderer\"},{\"attributes\":{},\"id\":\"dcc32be4-47f3-41fa-8a4a-2a998e40dbb0\",\"type\":\"UnionRenderers\"},{\"attributes\":{\"callback\":null,\"data\":{\"x\":[1960,1961,1962,1963,1964,1965,1966,1967,1968,1969,1970,1971,1972,1973,1974,1975,1976,1977,1978,1979,1980,1981,1982,1983,1984,1985,1986,1987,1988,1989,1990,1991,1992,1993,1994,1995,1996,1997,1998,1999,2000,2001,2002,2003,2004,2005,2006,2007,2008,2009,2010,2011,2012,2013,2014],\"y\":{\"__ndarray__\":\"2UP5MjSRQj88Q+WTeRBLP+CWswvULUE/6t8jVc1zRD+ebFgKhClOP8oXiXCQ1FM/iZkpEiehRj8543wqsN9CP25QsX2sdEU/7JSCN6e1Qj9mrgggFJdLP8sQ7JAUwT8/a6NuY63bST+P9/XznfhJP9ZUZLTWO1I/E+GJN6BAST+gtpJaUEpbP2if0nRT3lA/dqsCR/q5Sz/UUtAHM0tTP+O1ZaVY2FA/y93KBG+FUD/iB5WbOd5VP+pgzU2UPFM//Tdb1l8ZSj98h6e49FNRP3E7eVwEslU/Fn4upN4oVj8Ro2nkxHhPPz0OXU9SF1w/G5AtEUtkVz+5JFj2QlBYPxFEQue5XmY/UfEcrxJ3Uz/dWCB6ef5WP2KCqUG0g2o/ViHBxtBaUz8kSoqWY39UPzUKPICVK1E/b2uWv34mYT+sXhDY9SVUP37ckpYjtVQ/txJzIcL+Vj+SNPxPK3tcP86EjNq5NlM//x2oe5Gcaj9V1LX4cWVjP1jyv6JRL1Y/uMJvgRsdWD/+KKcLYE5fP+K6aM9gh1k/DW4vgu91WT8mnwpzJkxtP0BpTrbBi1g/uYLcadDaYz8=\",\"dtype\":\"float64\",\"shape\":[55]}},\"selected\":{\"id\":\"e4c37504-6d65-497e-864b-b2739c32f9da\",\"type\":\"Selection\"},\"selection_policy\":{\"id\":\"09a7e538-95b5-4a4c-8e84-092564b21585\",\"type\":\"UnionRenderers\"}},\"id\":\"8aebf03d-9675-4c78-b65e-865d312ceb81\",\"type\":\"ColumnDataSource\"},{\"attributes\":{},\"id\":\"100a7627-ae1c-4e88-8e06-f66e36782660\",\"type\":\"SaveTool\"},{\"attributes\":{},\"id\":\"19b260d8-2a46-4378-b66b-395eb51b43cf\",\"type\":\"Selection\"},{\"attributes\":{},\"id\":\"09a7e538-95b5-4a4c-8e84-092564b21585\",\"type\":\"UnionRenderers\"},{\"attributes\":{\"plot\":null,\"text\":\"\"},\"id\":\"81988f77-f215-489a-97e6-479366a31c3a\",\"type\":\"Title\"},{\"attributes\":{\"source\":{\"id\":\"5e5c62b5-c904-428d-967c-efbcf6999abd\",\"type\":\"ColumnDataSource\"}},\"id\":\"2186afed-ab98-490d-b173-1482ee6c14e0\",\"type\":\"CDSView\"},{\"attributes\":{\"source\":{\"id\":\"da1cef9a-50e4-49d5-a822-576324137601\",\"type\":\"ColumnDataSource\"}},\"id\":\"ac88f7b2-82a6-4ccc-88f1-005740b5d765\",\"type\":\"CDSView\"}],\"root_ids\":[\"3cadb7cf-f832-4bd5-a237-40e389a26a17\"]},\"title\":\"Bokeh Application\",\"version\":\"0.12.16\"}};\n",
       "  var render_items = [{\"docid\":\"c12fc1ed-5fe1-42e5-85bf-d2b668865849\",\"elementid\":\"6cf9136a-11f5-4c74-9cd2-0ba0a1ef90c2\",\"modelid\":\"3cadb7cf-f832-4bd5-a237-40e389a26a17\"}];\n",
       "  root.Bokeh.embed.embed_items_notebook(docs_json, render_items);\n",
       "\n",
       "  }\n",
       "  if (root.Bokeh !== undefined) {\n",
       "    embed_document(root);\n",
       "  } else {\n",
       "    var attempts = 0;\n",
       "    var timer = setInterval(function(root) {\n",
       "      if (root.Bokeh !== undefined) {\n",
       "        embed_document(root);\n",
       "        clearInterval(timer);\n",
       "      }\n",
       "      attempts++;\n",
       "      if (attempts > 100) {\n",
       "        console.log(\"Bokeh: ERROR: Unable to run BokehJS code because BokehJS library is missing\")\n",
       "        clearInterval(timer);\n",
       "      }\n",
       "    }, 10, root)\n",
       "  }\n",
       "})(window);"
      ],
      "application/vnd.bokehjs_exec.v0+json": ""
     },
     "metadata": {
      "application/vnd.bokehjs_exec.v0+json": {
       "id": "3cadb7cf-f832-4bd5-a237-40e389a26a17"
      }
     },
     "output_type": "display_data"
    }
   ],
   "source": [
    "p = figure(width=800, height=500)\n",
    "p.line(x = df_raw[\"year\"], y = df_raw['ptotww_m_30spfaf06'],line_color=\"#349e17\",legend=\"ptotww_m_30spfaf06\")\n",
    "p.line(x = df_raw[\"year\"], y = df_raw['ptotwn_m_30spfaf06'],line_color=\"#af4c1d\",legend=\"ptotwn_m_30spfaf06\")\n",
    "p.line(x = df_raw[\"year\"], y = df_raw['riverdischarge_m_30spfaf06'],line_color=\"#003baa\",legend=\"riverdischarge_m_30spfaf06\")\n",
    "p.line(x = df_ma[\"year\"], y = df_ma['ma10_ptotww_m_30spfaf06'],line_color=\"#3fea10\",legend=\"ma10_ptotww_m_30spfaf06\")\n",
    "p.line(x = df_ma[\"year\"], y = df_ma['ma10_ptotwn_m_30spfaf06'],line_color=\"#f4570e\",legend=\"ma10_ptotwn_m_30spfaf06\")\n",
    "p.line(x = df_ma[\"year\"], y = df_ma['ma10_riverdischarge_m_30spfaf06'],line_color=\"#01a8b7\",legend=\"ma10_riverdischarge_m_30spfaf06\")\n",
    "p.legend.location = \"top_left\"\n",
    "p.legend.click_policy=\"hide\"\n",
    "\n",
    "hover = HoverTool(tooltips = [('year', '@x'),\n",
    "                             ('value',  '@y')])\n",
    "\n",
    "p.add_tools(hover)\n",
    "show(p)"
   ]
  },
  {
   "cell_type": "markdown",
   "metadata": {},
   "source": [
    "# Regression\n",
    "\n",
    "there are multiple options for linear regression. \n",
    "\n",
    "1. Withdrawal and river discharge separately: Use a moving window of 10 years, perform ols regression and determine the final year for each window.\n",
    "    Probably requires some thresholds for basins with a small number of valid years. (e.g. capped at max value, and minimum 0?)\n",
    "1. Use a linear trend for demand and a moving average for riverdischarge\n",
    "\n",
    "\n",
    "\n",
    "\n"
   ]
  },
  {
   "cell_type": "code",
   "execution_count": 42,
   "metadata": {},
   "outputs": [],
   "source": [
    "sql_reg = (\"SELECT year,month,pfafid_30spfaf06, temporal_resolution,ptotww_m_30spfaf06 \"\n",
    "\"FROM y2018m05d29_rh_total_demand_postgis_30spfaf06_v01_v02 \" \n",
    "\"WHERE pfafid_30spfaf06 = 231607 \"\n",
    "\"AND month = 5\")"
   ]
  },
  {
   "cell_type": "code",
   "execution_count": 43,
   "metadata": {},
   "outputs": [],
   "source": [
    "df_reg = pd.read_sql(sql_reg,connection)"
   ]
  },
  {
   "cell_type": "code",
   "execution_count": 46,
   "metadata": {
    "collapsed": true
   },
   "outputs": [],
   "source": [
    "df_reg = df_reg.sort_values(by=[\"year\"])"
   ]
  },
  {
   "cell_type": "code",
   "execution_count": 47,
   "metadata": {},
   "outputs": [
    {
     "data": {
      "text/html": [
       "<div>\n",
       "<style scoped>\n",
       "    .dataframe tbody tr th:only-of-type {\n",
       "        vertical-align: middle;\n",
       "    }\n",
       "\n",
       "    .dataframe tbody tr th {\n",
       "        vertical-align: top;\n",
       "    }\n",
       "\n",
       "    .dataframe thead th {\n",
       "        text-align: right;\n",
       "    }\n",
       "</style>\n",
       "<table border=\"1\" class=\"dataframe\">\n",
       "  <thead>\n",
       "    <tr style=\"text-align: right;\">\n",
       "      <th></th>\n",
       "      <th>year</th>\n",
       "      <th>month</th>\n",
       "      <th>pfafid_30spfaf06</th>\n",
       "      <th>temporal_resolution</th>\n",
       "      <th>ptotww_m_30spfaf06</th>\n",
       "    </tr>\n",
       "  </thead>\n",
       "  <tbody>\n",
       "    <tr>\n",
       "      <th>8</th>\n",
       "      <td>1960</td>\n",
       "      <td>5</td>\n",
       "      <td>231607</td>\n",
       "      <td>month</td>\n",
       "      <td>0.001280</td>\n",
       "    </tr>\n",
       "    <tr>\n",
       "      <th>49</th>\n",
       "      <td>1961</td>\n",
       "      <td>5</td>\n",
       "      <td>231607</td>\n",
       "      <td>month</td>\n",
       "      <td>0.001767</td>\n",
       "    </tr>\n",
       "    <tr>\n",
       "      <th>53</th>\n",
       "      <td>1962</td>\n",
       "      <td>5</td>\n",
       "      <td>231607</td>\n",
       "      <td>month</td>\n",
       "      <td>0.001359</td>\n",
       "    </tr>\n",
       "    <tr>\n",
       "      <th>51</th>\n",
       "      <td>1963</td>\n",
       "      <td>5</td>\n",
       "      <td>231607</td>\n",
       "      <td>month</td>\n",
       "      <td>0.001563</td>\n",
       "    </tr>\n",
       "    <tr>\n",
       "      <th>7</th>\n",
       "      <td>1964</td>\n",
       "      <td>5</td>\n",
       "      <td>231607</td>\n",
       "      <td>month</td>\n",
       "      <td>0.002121</td>\n",
       "    </tr>\n",
       "  </tbody>\n",
       "</table>\n",
       "</div>"
      ],
      "text/plain": [
       "    year  month  pfafid_30spfaf06 temporal_resolution  ptotww_m_30spfaf06\n",
       "8   1960      5            231607               month            0.001280\n",
       "49  1961      5            231607               month            0.001767\n",
       "53  1962      5            231607               month            0.001359\n",
       "51  1963      5            231607               month            0.001563\n",
       "7   1964      5            231607               month            0.002121"
      ]
     },
     "execution_count": 47,
     "metadata": {},
     "output_type": "execute_result"
    }
   ],
   "source": [
    "df_reg.head()"
   ]
  },
  {
   "cell_type": "code",
   "execution_count": 38,
   "metadata": {},
   "outputs": [],
   "source": [
    "lm = linear_model.LinearRegression()"
   ]
  },
  {
   "cell_type": "code",
   "execution_count": 52,
   "metadata": {},
   "outputs": [],
   "source": [
    "# Fit line for year 1973 - 1982 (10 years)\n",
    "df_reg_selection = df_reg[(df_reg[\"year\"] >= 1973) & (df_reg[\"year\"] <= 1982)]"
   ]
  },
  {
   "cell_type": "code",
   "execution_count": 54,
   "metadata": {},
   "outputs": [
    {
     "data": {
      "text/html": [
       "<div>\n",
       "<style scoped>\n",
       "    .dataframe tbody tr th:only-of-type {\n",
       "        vertical-align: middle;\n",
       "    }\n",
       "\n",
       "    .dataframe tbody tr th {\n",
       "        vertical-align: top;\n",
       "    }\n",
       "\n",
       "    .dataframe thead th {\n",
       "        text-align: right;\n",
       "    }\n",
       "</style>\n",
       "<table border=\"1\" class=\"dataframe\">\n",
       "  <thead>\n",
       "    <tr style=\"text-align: right;\">\n",
       "      <th></th>\n",
       "      <th>year</th>\n",
       "      <th>month</th>\n",
       "      <th>pfafid_30spfaf06</th>\n",
       "      <th>temporal_resolution</th>\n",
       "      <th>ptotww_m_30spfaf06</th>\n",
       "    </tr>\n",
       "  </thead>\n",
       "  <tbody>\n",
       "    <tr>\n",
       "      <th>38</th>\n",
       "      <td>1973</td>\n",
       "      <td>5</td>\n",
       "      <td>231607</td>\n",
       "      <td>month</td>\n",
       "      <td>0.002092</td>\n",
       "    </tr>\n",
       "    <tr>\n",
       "      <th>10</th>\n",
       "      <td>1974</td>\n",
       "      <td>5</td>\n",
       "      <td>231607</td>\n",
       "      <td>month</td>\n",
       "      <td>0.002490</td>\n",
       "    </tr>\n",
       "    <tr>\n",
       "      <th>14</th>\n",
       "      <td>1975</td>\n",
       "      <td>5</td>\n",
       "      <td>231607</td>\n",
       "      <td>month</td>\n",
       "      <td>0.001879</td>\n",
       "    </tr>\n",
       "    <tr>\n",
       "      <th>52</th>\n",
       "      <td>1976</td>\n",
       "      <td>5</td>\n",
       "      <td>231607</td>\n",
       "      <td>month</td>\n",
       "      <td>0.003525</td>\n",
       "    </tr>\n",
       "    <tr>\n",
       "      <th>24</th>\n",
       "      <td>1977</td>\n",
       "      <td>5</td>\n",
       "      <td>231607</td>\n",
       "      <td>month</td>\n",
       "      <td>0.002373</td>\n",
       "    </tr>\n",
       "    <tr>\n",
       "      <th>0</th>\n",
       "      <td>1978</td>\n",
       "      <td>5</td>\n",
       "      <td>231607</td>\n",
       "      <td>month</td>\n",
       "      <td>0.002065</td>\n",
       "    </tr>\n",
       "    <tr>\n",
       "      <th>25</th>\n",
       "      <td>1979</td>\n",
       "      <td>5</td>\n",
       "      <td>231607</td>\n",
       "      <td>month</td>\n",
       "      <td>0.002719</td>\n",
       "    </tr>\n",
       "    <tr>\n",
       "      <th>37</th>\n",
       "      <td>1980</td>\n",
       "      <td>5</td>\n",
       "      <td>231607</td>\n",
       "      <td>month</td>\n",
       "      <td>0.002458</td>\n",
       "    </tr>\n",
       "    <tr>\n",
       "      <th>28</th>\n",
       "      <td>1981</td>\n",
       "      <td>5</td>\n",
       "      <td>231607</td>\n",
       "      <td>month</td>\n",
       "      <td>0.002397</td>\n",
       "    </tr>\n",
       "    <tr>\n",
       "      <th>2</th>\n",
       "      <td>1982</td>\n",
       "      <td>5</td>\n",
       "      <td>231607</td>\n",
       "      <td>month</td>\n",
       "      <td>0.002988</td>\n",
       "    </tr>\n",
       "  </tbody>\n",
       "</table>\n",
       "</div>"
      ],
      "text/plain": [
       "    year  month  pfafid_30spfaf06 temporal_resolution  ptotww_m_30spfaf06\n",
       "38  1973      5            231607               month            0.002092\n",
       "10  1974      5            231607               month            0.002490\n",
       "14  1975      5            231607               month            0.001879\n",
       "52  1976      5            231607               month            0.003525\n",
       "24  1977      5            231607               month            0.002373\n",
       "0   1978      5            231607               month            0.002065\n",
       "25  1979      5            231607               month            0.002719\n",
       "37  1980      5            231607               month            0.002458\n",
       "28  1981      5            231607               month            0.002397\n",
       "2   1982      5            231607               month            0.002988"
      ]
     },
     "execution_count": 54,
     "metadata": {},
     "output_type": "execute_result"
    }
   ],
   "source": [
    "df_reg_selection"
   ]
  },
  {
   "cell_type": "code",
   "execution_count": 70,
   "metadata": {
    "collapsed": true
   },
   "outputs": [],
   "source": [
    "import os"
   ]
  },
  {
   "cell_type": "code",
   "execution_count": 73,
   "metadata": {},
   "outputs": [
    {
     "name": "stdout",
     "output_type": "stream",
     "text": [
      "/volumes/repos/Aqueduct30Docker/notebooks/qa\n"
     ]
    }
   ],
   "source": [
    "print(os.getcwd())"
   ]
  },
  {
   "cell_type": "code",
   "execution_count": 69,
   "metadata": {},
   "outputs": [],
   "source": [
    "df_reg_selection.to_csv(\"temp.csv\")"
   ]
  },
  {
   "cell_type": "code",
   "execution_count": 59,
   "metadata": {
    "collapsed": true
   },
   "outputs": [],
   "source": [
    "# fit linear model. "
   ]
  },
  {
   "cell_type": "code",
   "execution_count": 64,
   "metadata": {
    "collapsed": true
   },
   "outputs": [],
   "source": [
    "x = pd.DataFrame(df_reg_selection[\"year\"])\n",
    "target = pd.DataFrame(df_reg_selection[\"ptotww_m_30spfaf06\"])"
   ]
  },
  {
   "cell_type": "code",
   "execution_count": 65,
   "metadata": {},
   "outputs": [
    {
     "data": {
      "text/plain": [
       "LinearRegression(copy_X=True, fit_intercept=True, n_jobs=1, normalize=False)"
      ]
     },
     "execution_count": 65,
     "metadata": {},
     "output_type": "execute_result"
    }
   ],
   "source": [
    "lm.fit(x,target)"
   ]
  },
  {
   "cell_type": "code",
   "execution_count": 90,
   "metadata": {},
   "outputs": [],
   "source": [
    "df_lm = pd.DataFrame()"
   ]
  },
  {
   "cell_type": "code",
   "execution_count": 97,
   "metadata": {},
   "outputs": [],
   "source": [
    "coef = lm.coef_[0][0]"
   ]
  },
  {
   "cell_type": "code",
   "execution_count": 98,
   "metadata": {},
   "outputs": [],
   "source": [
    "intercept = lm.intercept_[0]"
   ]
  },
  {
   "cell_type": "code",
   "execution_count": 99,
   "metadata": {
    "collapsed": true
   },
   "outputs": [],
   "source": [
    "# projected value for 1982\n",
    "y_p = 1982*coef + intercept"
   ]
  },
  {
   "cell_type": "code",
   "execution_count": 100,
   "metadata": {},
   "outputs": [
    {
     "name": "stdout",
     "output_type": "stream",
     "text": [
      "0.00270541029818 4.59737549865e-05 -0.088414572085\n"
     ]
    }
   ],
   "source": [
    "print(y_p,coef,intercept)"
   ]
  },
  {
   "cell_type": "code",
   "execution_count": 101,
   "metadata": {},
   "outputs": [
    {
     "ename": "SyntaxError",
     "evalue": "EOL while scanning string literal (<ipython-input-101-f77ace0ae007>, line 9)",
     "output_type": "error",
     "traceback": [
      "\u001b[0;36m  File \u001b[0;32m\"<ipython-input-101-f77ace0ae007>\"\u001b[0;36m, line \u001b[0;32m9\u001b[0m\n\u001b[0;31m    \"SELECT year,month,pfafid_30spfaf06, temporal_resolution,ptotww_m_30spfaf06,\u001b[0m\n\u001b[0m                                                                                ^\u001b[0m\n\u001b[0;31mSyntaxError\u001b[0m\u001b[0;31m:\u001b[0m EOL while scanning string literal\n"
     ]
    }
   ],
   "source": [
    "# check if I can accomplish the same using SQL\n",
    "SELECT year,month,pfafid_30spfaf06, temporal_resolution,ptotww_m_30spfaf06,\n",
    "    regr_slope(ptotww_m_30spfaf06,year) \n",
    "        OVER (PARTITION BY pfafid_30spfaf06, month, temporal_resolution ORDER BY year ROWS BETWEEN 9 PRECEDING AND CURRENT ROW) AS slope\n",
    "FROM y2018m05d29_rh_total_demand_postgis_30spfaf06_v01_v02 \n",
    "WHERE year > 1970 AND\n",
    "year < 1983 AND\n",
    "year > 1972 AND\n",
    "month = 5 AND\n",
    "temporal_resolution = 'month'AND\n",
    "pfafid_30spfaf06 = 231607"
   ]
  },
  {
   "cell_type": "code",
   "execution_count": null,
   "metadata": {
    "collapsed": true
   },
   "outputs": [],
   "source": []
  }
 ],
 "metadata": {
  "kernelspec": {
   "display_name": "Python 35",
   "language": "python",
   "name": "python35"
  },
  "language_info": {
   "codemirror_mode": {
    "name": "ipython",
    "version": 3
   },
   "file_extension": ".py",
   "mimetype": "text/x-python",
   "name": "python",
   "nbconvert_exporter": "python",
   "pygments_lexer": "ipython3",
   "version": "3.5.4"
  }
 },
 "nbformat": 4,
 "nbformat_minor": 2
}
