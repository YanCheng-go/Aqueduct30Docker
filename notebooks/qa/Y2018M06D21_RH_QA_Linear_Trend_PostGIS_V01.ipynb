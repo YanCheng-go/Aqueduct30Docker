{
 "cells": [
  {
   "cell_type": "code",
   "execution_count": 102,
   "metadata": {},
   "outputs": [
    {
     "name": "stdout",
     "output_type": "stream",
     "text": [
      "Input Table:  y2018m06d01_rh_temporal_reducers_postgis_30spfaf06_v01_v03 \n",
      "Inout Table Hybas:  hybas06_v04 \n",
      "Output Table:  y2018m06d21_rh_qa_linear_trend_postgis_v01_v01\n"
     ]
    }
   ],
   "source": [
    "\"\"\" Check if linear trend is implemented correctly.\n",
    "-------------------------------------------------------------------------------\n",
    "\n",
    "Author: Rutger Hofste\n",
    "Date: 20180621\n",
    "Kernel: python35\n",
    "Docker: rutgerhofste/gisdocker:ubuntu16.04\n",
    "\n",
    "Args:\n",
    "    TESTING (Boolean) : Toggle testing case.\n",
    "    SCRIPT_NAME (string) : Script name.\n",
    "    OUTPUT_VERSION (integer) : output version.\n",
    "    DATABASE_ENDPOINT (string) : RDS or postGreSQL endpoint.\n",
    "    DATABASE_NAME (string) : Database name.\n",
    "    TABLE_NAME_AREA_30SPFAF06 (string) : Table name used for areas. Must exist\n",
    "        on same database as used in rest of script.\n",
    "    S3_INPUT_PATH_RIVERDISCHARGE (string) : AWS S3 input path for \n",
    "        riverdischarge.    \n",
    "    S3_INPUT_PATH_DEMAND (string) : AWS S3 input path for \n",
    "        demand.     \n",
    "\n",
    "\"\"\"\n",
    "\n",
    "\n",
    "OVERWRITE_OUTPUT = 1\n",
    "SCRIPT_NAME = 'Y2018M06D21_RH_QA_Linear_Trend_PostGIS_V01'\n",
    "OUTPUT_VERSION = 1\n",
    "\n",
    "DATABASE_ENDPOINT = \"aqueduct30v05.cgpnumwmfcqc.eu-central-1.rds.amazonaws.com\"\n",
    "DATABASE_NAME = \"database01\"\n",
    "\n",
    "INPUT_TABLE_NAME = 'y2018m06d01_rh_temporal_reducers_postgis_30spfaf06_v01_v03'\n",
    "OUTPUT_TABLE_NAME = SCRIPT_NAME.lower() + \"_v{:02.0f}\".format(OUTPUT_VERSION)\n",
    "OUTPUT_SCHEMA_NAME = \"test\"\n",
    "\n",
    "INPUT_TABLE_HYBAS = \"hybas06_v04\"\n",
    "\n",
    "TEST_BASIN_PFAF_ID = 157650\n",
    "MONTH = 12\n",
    "TEMPORAL_RESOLUTION = \"year\"\n",
    "\n",
    "print(\"Input Table: \" , INPUT_TABLE_NAME, \n",
    "      \"\\nInout Table Hybas: \", INPUT_TABLE_HYBAS,\n",
    "      \"\\nOutput Table: \" , OUTPUT_TABLE_NAME)"
   ]
  },
  {
   "cell_type": "code",
   "execution_count": 103,
   "metadata": {},
   "outputs": [
    {
     "name": "stdout",
     "output_type": "stream",
     "text": [
      "Y2018M06D25 UTC 11:05\n"
     ]
    },
    {
     "data": {
      "text/plain": [
       "'3.5.4 |Anaconda, Inc.| (default, Nov 20 2017, 18:44:38) \\n[GCC 7.2.0]'"
      ]
     },
     "execution_count": 103,
     "metadata": {},
     "output_type": "execute_result"
    }
   ],
   "source": [
    "import time, datetime, sys\n",
    "dateString = time.strftime(\"Y%YM%mD%d\")\n",
    "timeString = time.strftime(\"UTC %H:%M\")\n",
    "start = datetime.datetime.now()\n",
    "print(dateString,timeString)\n",
    "sys.version"
   ]
  },
  {
   "cell_type": "code",
   "execution_count": 104,
   "metadata": {
    "collapsed": true
   },
   "outputs": [],
   "source": [
    "# imports\n",
    "import re\n",
    "import os\n",
    "import numpy as np\n",
    "import pandas as pd\n",
    "import geopandas as gpd\n",
    "import matplotlib.pyplot as plt\n",
    "import aqueduct3\n",
    "from datetime import timedelta\n",
    "from sqlalchemy import *\n",
    "pd.set_option('display.max_columns', 500)\n",
    "\n",
    "from sklearn import linear_model\n",
    "%matplotlib inline"
   ]
  },
  {
   "cell_type": "code",
   "execution_count": 105,
   "metadata": {
    "collapsed": true
   },
   "outputs": [],
   "source": [
    "F = open(\"/.password\",\"r\")\n",
    "password = F.read().splitlines()[0]\n",
    "F.close()\n",
    "\n",
    "engine = create_engine(\"postgresql://rutgerhofste:{}@{}:5432/{}\".format(password,DATABASE_ENDPOINT,DATABASE_NAME))\n",
    "connection = engine.connect()"
   ]
  },
  {
   "cell_type": "markdown",
   "metadata": {},
   "source": [
    "# Raw Values"
   ]
  },
  {
   "cell_type": "code",
   "execution_count": 106,
   "metadata": {
    "collapsed": true
   },
   "outputs": [],
   "source": [
    "sql = (\"SELECT * FROM {} \"\n",
    "       \"WHERE pfafid_30spfaf06 = {} AND \"\n",
    "       \"month = {} AND \"\n",
    "       \"temporal_resolution = '{}'\".format(INPUT_TABLE_NAME,TEST_BASIN_PFAF_ID,MONTH,TEMPORAL_RESOLUTION))"
   ]
  },
  {
   "cell_type": "code",
   "execution_count": 107,
   "metadata": {},
   "outputs": [
    {
     "name": "stdout",
     "output_type": "stream",
     "text": [
      "SELECT * FROM y2018m06d01_rh_temporal_reducers_postgis_30spfaf06_v01_v03 WHERE pfafid_30spfaf06 = 157650 AND month = 12 AND temporal_resolution = 'year'\n"
     ]
    }
   ],
   "source": [
    "print(sql)"
   ]
  },
  {
   "cell_type": "code",
   "execution_count": 108,
   "metadata": {
    "collapsed": true
   },
   "outputs": [],
   "source": [
    "df_og = pd.read_sql(sql,connection)"
   ]
  },
  {
   "cell_type": "code",
   "execution_count": 109,
   "metadata": {},
   "outputs": [
    {
     "data": {
      "text/html": [
       "<div>\n",
       "<style scoped>\n",
       "    .dataframe tbody tr th:only-of-type {\n",
       "        vertical-align: middle;\n",
       "    }\n",
       "\n",
       "    .dataframe tbody tr th {\n",
       "        vertical-align: top;\n",
       "    }\n",
       "\n",
       "    .dataframe thead th {\n",
       "        text-align: right;\n",
       "    }\n",
       "</style>\n",
       "<table border=\"1\" class=\"dataframe\">\n",
       "  <thead>\n",
       "    <tr style=\"text-align: right;\">\n",
       "      <th></th>\n",
       "      <th>pfafid_30spfaf06</th>\n",
       "      <th>temporal_resolution</th>\n",
       "      <th>year</th>\n",
       "      <th>month</th>\n",
       "      <th>area_m2_30spfaf06</th>\n",
       "      <th>area_count_30spfaf06</th>\n",
       "      <th>pdomww_m_30spfaf06</th>\n",
       "      <th>pdomwn_m_30spfaf06</th>\n",
       "      <th>pindww_m_30spfaf06</th>\n",
       "      <th>pindwn_m_30spfaf06</th>\n",
       "      <th>pirrww_m_30spfaf06</th>\n",
       "      <th>pirrwn_m_30spfaf06</th>\n",
       "      <th>plivww_m_30spfaf06</th>\n",
       "      <th>plivwn_m_30spfaf06</th>\n",
       "      <th>ptotww_m_30spfaf06</th>\n",
       "      <th>ptotwn_m_30spfaf06</th>\n",
       "      <th>riverdischarge_m_30spfaf06</th>\n",
       "      <th>ma10_pdomww_m_30spfaf06</th>\n",
       "      <th>min10_pdomww_m_30spfaf06</th>\n",
       "      <th>max10_pdomww_m_30spfaf06</th>\n",
       "      <th>slope10_pdomww_m_30spfaf06</th>\n",
       "      <th>intercept10_pdomww_m_30spfaf06</th>\n",
       "      <th>ols10_pdomww_m_30spfaf06</th>\n",
       "      <th>ma10_pdomwn_m_30spfaf06</th>\n",
       "      <th>min10_pdomwn_m_30spfaf06</th>\n",
       "      <th>max10_pdomwn_m_30spfaf06</th>\n",
       "      <th>slope10_pdomwn_m_30spfaf06</th>\n",
       "      <th>intercept10_pdomwn_m_30spfaf06</th>\n",
       "      <th>ols10_pdomwn_m_30spfaf06</th>\n",
       "      <th>ma10_pindww_m_30spfaf06</th>\n",
       "      <th>min10_pindww_m_30spfaf06</th>\n",
       "      <th>max10_pindww_m_30spfaf06</th>\n",
       "      <th>slope10_pindww_m_30spfaf06</th>\n",
       "      <th>intercept10_pindww_m_30spfaf06</th>\n",
       "      <th>ols10_pindww_m_30spfaf06</th>\n",
       "      <th>ma10_pindwn_m_30spfaf06</th>\n",
       "      <th>min10_pindwn_m_30spfaf06</th>\n",
       "      <th>max10_pindwn_m_30spfaf06</th>\n",
       "      <th>slope10_pindwn_m_30spfaf06</th>\n",
       "      <th>intercept10_pindwn_m_30spfaf06</th>\n",
       "      <th>ols10_pindwn_m_30spfaf06</th>\n",
       "      <th>ma10_pirrww_m_30spfaf06</th>\n",
       "      <th>min10_pirrww_m_30spfaf06</th>\n",
       "      <th>max10_pirrww_m_30spfaf06</th>\n",
       "      <th>slope10_pirrww_m_30spfaf06</th>\n",
       "      <th>intercept10_pirrww_m_30spfaf06</th>\n",
       "      <th>ols10_pirrww_m_30spfaf06</th>\n",
       "      <th>ma10_pirrwn_m_30spfaf06</th>\n",
       "      <th>min10_pirrwn_m_30spfaf06</th>\n",
       "      <th>max10_pirrwn_m_30spfaf06</th>\n",
       "      <th>slope10_pirrwn_m_30spfaf06</th>\n",
       "      <th>intercept10_pirrwn_m_30spfaf06</th>\n",
       "      <th>ols10_pirrwn_m_30spfaf06</th>\n",
       "      <th>ma10_plivww_m_30spfaf06</th>\n",
       "      <th>min10_plivww_m_30spfaf06</th>\n",
       "      <th>max10_plivww_m_30spfaf06</th>\n",
       "      <th>slope10_plivww_m_30spfaf06</th>\n",
       "      <th>intercept10_plivww_m_30spfaf06</th>\n",
       "      <th>ols10_plivww_m_30spfaf06</th>\n",
       "      <th>ma10_plivwn_m_30spfaf06</th>\n",
       "      <th>min10_plivwn_m_30spfaf06</th>\n",
       "      <th>max10_plivwn_m_30spfaf06</th>\n",
       "      <th>slope10_plivwn_m_30spfaf06</th>\n",
       "      <th>intercept10_plivwn_m_30spfaf06</th>\n",
       "      <th>ols10_plivwn_m_30spfaf06</th>\n",
       "      <th>ma10_ptotww_m_30spfaf06</th>\n",
       "      <th>min10_ptotww_m_30spfaf06</th>\n",
       "      <th>max10_ptotww_m_30spfaf06</th>\n",
       "      <th>slope10_ptotww_m_30spfaf06</th>\n",
       "      <th>intercept10_ptotww_m_30spfaf06</th>\n",
       "      <th>ols10_ptotww_m_30spfaf06</th>\n",
       "      <th>ma10_ptotwn_m_30spfaf06</th>\n",
       "      <th>min10_ptotwn_m_30spfaf06</th>\n",
       "      <th>max10_ptotwn_m_30spfaf06</th>\n",
       "      <th>slope10_ptotwn_m_30spfaf06</th>\n",
       "      <th>intercept10_ptotwn_m_30spfaf06</th>\n",
       "      <th>ols10_ptotwn_m_30spfaf06</th>\n",
       "      <th>ma10_riverdischarge_m_30spfaf06</th>\n",
       "      <th>min10_riverdischarge_m_30spfaf06</th>\n",
       "      <th>max10_riverdischarge_m_30spfaf06</th>\n",
       "      <th>slope10_riverdischarge_m_30spfaf06</th>\n",
       "      <th>intercept10_riverdischarge_m_30spfaf06</th>\n",
       "      <th>ols10_riverdischarge_m_30spfaf06</th>\n",
       "    </tr>\n",
       "  </thead>\n",
       "  <tbody>\n",
       "    <tr>\n",
       "      <th>0</th>\n",
       "      <td>157650</td>\n",
       "      <td>year</td>\n",
       "      <td>1960</td>\n",
       "      <td>12</td>\n",
       "      <td>5.397111e+08</td>\n",
       "      <td>699</td>\n",
       "      <td>0.0</td>\n",
       "      <td>0.0</td>\n",
       "      <td>0.0</td>\n",
       "      <td>0.0</td>\n",
       "      <td>0.0</td>\n",
       "      <td>0.0</td>\n",
       "      <td>6.128679e-12</td>\n",
       "      <td>6.128679e-12</td>\n",
       "      <td>6.128679e-12</td>\n",
       "      <td>6.128679e-12</td>\n",
       "      <td>0.000000e+00</td>\n",
       "      <td>0.0</td>\n",
       "      <td>0.0</td>\n",
       "      <td>0.0</td>\n",
       "      <td>NaN</td>\n",
       "      <td>NaN</td>\n",
       "      <td>NaN</td>\n",
       "      <td>0.0</td>\n",
       "      <td>0.0</td>\n",
       "      <td>0.0</td>\n",
       "      <td>NaN</td>\n",
       "      <td>NaN</td>\n",
       "      <td>NaN</td>\n",
       "      <td>0.0</td>\n",
       "      <td>0.0</td>\n",
       "      <td>0.0</td>\n",
       "      <td>NaN</td>\n",
       "      <td>NaN</td>\n",
       "      <td>NaN</td>\n",
       "      <td>0.0</td>\n",
       "      <td>0.0</td>\n",
       "      <td>0.0</td>\n",
       "      <td>NaN</td>\n",
       "      <td>NaN</td>\n",
       "      <td>NaN</td>\n",
       "      <td>0.0</td>\n",
       "      <td>0.0</td>\n",
       "      <td>0.0</td>\n",
       "      <td>NaN</td>\n",
       "      <td>NaN</td>\n",
       "      <td>NaN</td>\n",
       "      <td>0.0</td>\n",
       "      <td>0.0</td>\n",
       "      <td>0.0</td>\n",
       "      <td>NaN</td>\n",
       "      <td>NaN</td>\n",
       "      <td>NaN</td>\n",
       "      <td>6.128679e-12</td>\n",
       "      <td>6.128679e-12</td>\n",
       "      <td>6.128679e-12</td>\n",
       "      <td>NaN</td>\n",
       "      <td>NaN</td>\n",
       "      <td>NaN</td>\n",
       "      <td>6.128679e-12</td>\n",
       "      <td>6.128679e-12</td>\n",
       "      <td>6.128679e-12</td>\n",
       "      <td>NaN</td>\n",
       "      <td>NaN</td>\n",
       "      <td>NaN</td>\n",
       "      <td>6.128679e-12</td>\n",
       "      <td>6.128679e-12</td>\n",
       "      <td>6.128679e-12</td>\n",
       "      <td>NaN</td>\n",
       "      <td>NaN</td>\n",
       "      <td>NaN</td>\n",
       "      <td>6.128679e-12</td>\n",
       "      <td>6.128679e-12</td>\n",
       "      <td>6.128679e-12</td>\n",
       "      <td>NaN</td>\n",
       "      <td>NaN</td>\n",
       "      <td>NaN</td>\n",
       "      <td>0.000000</td>\n",
       "      <td>0.0</td>\n",
       "      <td>0.000000</td>\n",
       "      <td>NaN</td>\n",
       "      <td>NaN</td>\n",
       "      <td>NaN</td>\n",
       "    </tr>\n",
       "    <tr>\n",
       "      <th>1</th>\n",
       "      <td>157650</td>\n",
       "      <td>year</td>\n",
       "      <td>1961</td>\n",
       "      <td>12</td>\n",
       "      <td>5.397111e+08</td>\n",
       "      <td>699</td>\n",
       "      <td>0.0</td>\n",
       "      <td>0.0</td>\n",
       "      <td>0.0</td>\n",
       "      <td>0.0</td>\n",
       "      <td>0.0</td>\n",
       "      <td>0.0</td>\n",
       "      <td>7.660848e-12</td>\n",
       "      <td>7.660848e-12</td>\n",
       "      <td>7.660848e-12</td>\n",
       "      <td>7.660848e-12</td>\n",
       "      <td>0.000000e+00</td>\n",
       "      <td>0.0</td>\n",
       "      <td>0.0</td>\n",
       "      <td>0.0</td>\n",
       "      <td>0.0</td>\n",
       "      <td>0.0</td>\n",
       "      <td>0.0</td>\n",
       "      <td>0.0</td>\n",
       "      <td>0.0</td>\n",
       "      <td>0.0</td>\n",
       "      <td>0.0</td>\n",
       "      <td>0.0</td>\n",
       "      <td>0.0</td>\n",
       "      <td>0.0</td>\n",
       "      <td>0.0</td>\n",
       "      <td>0.0</td>\n",
       "      <td>0.0</td>\n",
       "      <td>0.0</td>\n",
       "      <td>0.0</td>\n",
       "      <td>0.0</td>\n",
       "      <td>0.0</td>\n",
       "      <td>0.0</td>\n",
       "      <td>0.0</td>\n",
       "      <td>0.0</td>\n",
       "      <td>0.0</td>\n",
       "      <td>0.0</td>\n",
       "      <td>0.0</td>\n",
       "      <td>0.0</td>\n",
       "      <td>0.0</td>\n",
       "      <td>0.0</td>\n",
       "      <td>0.0</td>\n",
       "      <td>0.0</td>\n",
       "      <td>0.0</td>\n",
       "      <td>0.0</td>\n",
       "      <td>0.0</td>\n",
       "      <td>0.0</td>\n",
       "      <td>0.0</td>\n",
       "      <td>6.894763e-12</td>\n",
       "      <td>6.128679e-12</td>\n",
       "      <td>7.660848e-12</td>\n",
       "      <td>1.532170e-12</td>\n",
       "      <td>-2.996924e-09</td>\n",
       "      <td>7.660848e-12</td>\n",
       "      <td>6.894763e-12</td>\n",
       "      <td>6.128679e-12</td>\n",
       "      <td>7.660848e-12</td>\n",
       "      <td>1.532170e-12</td>\n",
       "      <td>-2.996924e-09</td>\n",
       "      <td>7.660848e-12</td>\n",
       "      <td>6.894763e-12</td>\n",
       "      <td>6.128679e-12</td>\n",
       "      <td>7.660848e-12</td>\n",
       "      <td>1.532170e-12</td>\n",
       "      <td>-2.996924e-09</td>\n",
       "      <td>7.660848e-12</td>\n",
       "      <td>6.894763e-12</td>\n",
       "      <td>6.128679e-12</td>\n",
       "      <td>7.660848e-12</td>\n",
       "      <td>1.532170e-12</td>\n",
       "      <td>-2.996924e-09</td>\n",
       "      <td>7.660848e-12</td>\n",
       "      <td>0.000000</td>\n",
       "      <td>0.0</td>\n",
       "      <td>0.000000</td>\n",
       "      <td>0.000000</td>\n",
       "      <td>0.000000</td>\n",
       "      <td>0.000000</td>\n",
       "    </tr>\n",
       "    <tr>\n",
       "      <th>2</th>\n",
       "      <td>157650</td>\n",
       "      <td>year</td>\n",
       "      <td>1962</td>\n",
       "      <td>12</td>\n",
       "      <td>5.397111e+08</td>\n",
       "      <td>699</td>\n",
       "      <td>0.0</td>\n",
       "      <td>0.0</td>\n",
       "      <td>0.0</td>\n",
       "      <td>0.0</td>\n",
       "      <td>0.0</td>\n",
       "      <td>0.0</td>\n",
       "      <td>9.188831e-12</td>\n",
       "      <td>9.188831e-12</td>\n",
       "      <td>9.188831e-12</td>\n",
       "      <td>9.188831e-12</td>\n",
       "      <td>6.289199e-02</td>\n",
       "      <td>0.0</td>\n",
       "      <td>0.0</td>\n",
       "      <td>0.0</td>\n",
       "      <td>0.0</td>\n",
       "      <td>0.0</td>\n",
       "      <td>0.0</td>\n",
       "      <td>0.0</td>\n",
       "      <td>0.0</td>\n",
       "      <td>0.0</td>\n",
       "      <td>0.0</td>\n",
       "      <td>0.0</td>\n",
       "      <td>0.0</td>\n",
       "      <td>0.0</td>\n",
       "      <td>0.0</td>\n",
       "      <td>0.0</td>\n",
       "      <td>0.0</td>\n",
       "      <td>0.0</td>\n",
       "      <td>0.0</td>\n",
       "      <td>0.0</td>\n",
       "      <td>0.0</td>\n",
       "      <td>0.0</td>\n",
       "      <td>0.0</td>\n",
       "      <td>0.0</td>\n",
       "      <td>0.0</td>\n",
       "      <td>0.0</td>\n",
       "      <td>0.0</td>\n",
       "      <td>0.0</td>\n",
       "      <td>0.0</td>\n",
       "      <td>0.0</td>\n",
       "      <td>0.0</td>\n",
       "      <td>0.0</td>\n",
       "      <td>0.0</td>\n",
       "      <td>0.0</td>\n",
       "      <td>0.0</td>\n",
       "      <td>0.0</td>\n",
       "      <td>0.0</td>\n",
       "      <td>7.659453e-12</td>\n",
       "      <td>6.128679e-12</td>\n",
       "      <td>9.188831e-12</td>\n",
       "      <td>1.530076e-12</td>\n",
       "      <td>-2.992820e-09</td>\n",
       "      <td>9.189529e-12</td>\n",
       "      <td>7.659453e-12</td>\n",
       "      <td>6.128679e-12</td>\n",
       "      <td>9.188831e-12</td>\n",
       "      <td>1.530076e-12</td>\n",
       "      <td>-2.992820e-09</td>\n",
       "      <td>9.189529e-12</td>\n",
       "      <td>7.659453e-12</td>\n",
       "      <td>6.128679e-12</td>\n",
       "      <td>9.188831e-12</td>\n",
       "      <td>1.530076e-12</td>\n",
       "      <td>-2.992820e-09</td>\n",
       "      <td>9.189529e-12</td>\n",
       "      <td>7.659453e-12</td>\n",
       "      <td>6.128679e-12</td>\n",
       "      <td>9.188831e-12</td>\n",
       "      <td>1.530076e-12</td>\n",
       "      <td>-2.992820e-09</td>\n",
       "      <td>9.189529e-12</td>\n",
       "      <td>0.020964</td>\n",
       "      <td>0.0</td>\n",
       "      <td>0.062892</td>\n",
       "      <td>0.031446</td>\n",
       "      <td>-61.644636</td>\n",
       "      <td>0.052410</td>\n",
       "    </tr>\n",
       "    <tr>\n",
       "      <th>3</th>\n",
       "      <td>157650</td>\n",
       "      <td>year</td>\n",
       "      <td>1963</td>\n",
       "      <td>12</td>\n",
       "      <td>5.397111e+08</td>\n",
       "      <td>699</td>\n",
       "      <td>0.0</td>\n",
       "      <td>0.0</td>\n",
       "      <td>0.0</td>\n",
       "      <td>0.0</td>\n",
       "      <td>0.0</td>\n",
       "      <td>0.0</td>\n",
       "      <td>9.984220e-12</td>\n",
       "      <td>9.984220e-12</td>\n",
       "      <td>9.984220e-12</td>\n",
       "      <td>9.984220e-12</td>\n",
       "      <td>1.815957e-04</td>\n",
       "      <td>0.0</td>\n",
       "      <td>0.0</td>\n",
       "      <td>0.0</td>\n",
       "      <td>0.0</td>\n",
       "      <td>0.0</td>\n",
       "      <td>0.0</td>\n",
       "      <td>0.0</td>\n",
       "      <td>0.0</td>\n",
       "      <td>0.0</td>\n",
       "      <td>0.0</td>\n",
       "      <td>0.0</td>\n",
       "      <td>0.0</td>\n",
       "      <td>0.0</td>\n",
       "      <td>0.0</td>\n",
       "      <td>0.0</td>\n",
       "      <td>0.0</td>\n",
       "      <td>0.0</td>\n",
       "      <td>0.0</td>\n",
       "      <td>0.0</td>\n",
       "      <td>0.0</td>\n",
       "      <td>0.0</td>\n",
       "      <td>0.0</td>\n",
       "      <td>0.0</td>\n",
       "      <td>0.0</td>\n",
       "      <td>0.0</td>\n",
       "      <td>0.0</td>\n",
       "      <td>0.0</td>\n",
       "      <td>0.0</td>\n",
       "      <td>0.0</td>\n",
       "      <td>0.0</td>\n",
       "      <td>0.0</td>\n",
       "      <td>0.0</td>\n",
       "      <td>0.0</td>\n",
       "      <td>0.0</td>\n",
       "      <td>0.0</td>\n",
       "      <td>0.0</td>\n",
       "      <td>8.240645e-12</td>\n",
       "      <td>6.128679e-12</td>\n",
       "      <td>9.984220e-12</td>\n",
       "      <td>1.309461e-12</td>\n",
       "      <td>-2.560267e-09</td>\n",
       "      <td>1.020484e-11</td>\n",
       "      <td>8.240645e-12</td>\n",
       "      <td>6.128679e-12</td>\n",
       "      <td>9.984220e-12</td>\n",
       "      <td>1.309461e-12</td>\n",
       "      <td>-2.560267e-09</td>\n",
       "      <td>1.020484e-11</td>\n",
       "      <td>8.240645e-12</td>\n",
       "      <td>6.128679e-12</td>\n",
       "      <td>9.984220e-12</td>\n",
       "      <td>1.309461e-12</td>\n",
       "      <td>-2.560267e-09</td>\n",
       "      <td>1.020484e-11</td>\n",
       "      <td>8.240645e-12</td>\n",
       "      <td>6.128679e-12</td>\n",
       "      <td>9.984220e-12</td>\n",
       "      <td>1.309461e-12</td>\n",
       "      <td>-2.560267e-09</td>\n",
       "      <td>1.020484e-11</td>\n",
       "      <td>0.015768</td>\n",
       "      <td>0.0</td>\n",
       "      <td>0.062892</td>\n",
       "      <td>0.006344</td>\n",
       "      <td>-12.427356</td>\n",
       "      <td>0.025284</td>\n",
       "    </tr>\n",
       "    <tr>\n",
       "      <th>4</th>\n",
       "      <td>157650</td>\n",
       "      <td>year</td>\n",
       "      <td>1964</td>\n",
       "      <td>12</td>\n",
       "      <td>5.397111e+08</td>\n",
       "      <td>699</td>\n",
       "      <td>0.0</td>\n",
       "      <td>0.0</td>\n",
       "      <td>0.0</td>\n",
       "      <td>0.0</td>\n",
       "      <td>0.0</td>\n",
       "      <td>0.0</td>\n",
       "      <td>1.152276e-11</td>\n",
       "      <td>1.152276e-11</td>\n",
       "      <td>1.152276e-11</td>\n",
       "      <td>1.152276e-11</td>\n",
       "      <td>1.012434e-32</td>\n",
       "      <td>0.0</td>\n",
       "      <td>0.0</td>\n",
       "      <td>0.0</td>\n",
       "      <td>0.0</td>\n",
       "      <td>0.0</td>\n",
       "      <td>0.0</td>\n",
       "      <td>0.0</td>\n",
       "      <td>0.0</td>\n",
       "      <td>0.0</td>\n",
       "      <td>0.0</td>\n",
       "      <td>0.0</td>\n",
       "      <td>0.0</td>\n",
       "      <td>0.0</td>\n",
       "      <td>0.0</td>\n",
       "      <td>0.0</td>\n",
       "      <td>0.0</td>\n",
       "      <td>0.0</td>\n",
       "      <td>0.0</td>\n",
       "      <td>0.0</td>\n",
       "      <td>0.0</td>\n",
       "      <td>0.0</td>\n",
       "      <td>0.0</td>\n",
       "      <td>0.0</td>\n",
       "      <td>0.0</td>\n",
       "      <td>0.0</td>\n",
       "      <td>0.0</td>\n",
       "      <td>0.0</td>\n",
       "      <td>0.0</td>\n",
       "      <td>0.0</td>\n",
       "      <td>0.0</td>\n",
       "      <td>0.0</td>\n",
       "      <td>0.0</td>\n",
       "      <td>0.0</td>\n",
       "      <td>0.0</td>\n",
       "      <td>0.0</td>\n",
       "      <td>0.0</td>\n",
       "      <td>8.897067e-12</td>\n",
       "      <td>6.128679e-12</td>\n",
       "      <td>1.152276e-11</td>\n",
       "      <td>1.311153e-12</td>\n",
       "      <td>-2.563584e-09</td>\n",
       "      <td>1.151937e-11</td>\n",
       "      <td>8.897067e-12</td>\n",
       "      <td>6.128679e-12</td>\n",
       "      <td>1.152276e-11</td>\n",
       "      <td>1.311153e-12</td>\n",
       "      <td>-2.563584e-09</td>\n",
       "      <td>1.151937e-11</td>\n",
       "      <td>8.897067e-12</td>\n",
       "      <td>6.128679e-12</td>\n",
       "      <td>1.152276e-11</td>\n",
       "      <td>1.311153e-12</td>\n",
       "      <td>-2.563584e-09</td>\n",
       "      <td>1.151937e-11</td>\n",
       "      <td>8.897067e-12</td>\n",
       "      <td>6.128679e-12</td>\n",
       "      <td>1.152276e-11</td>\n",
       "      <td>1.311153e-12</td>\n",
       "      <td>-2.563584e-09</td>\n",
       "      <td>1.151937e-11</td>\n",
       "      <td>0.012615</td>\n",
       "      <td>0.0</td>\n",
       "      <td>0.062892</td>\n",
       "      <td>0.000018</td>\n",
       "      <td>-0.023014</td>\n",
       "      <td>0.012651</td>\n",
       "    </tr>\n",
       "  </tbody>\n",
       "</table>\n",
       "</div>"
      ],
      "text/plain": [
       "   pfafid_30spfaf06 temporal_resolution  year  month  area_m2_30spfaf06  \\\n",
       "0            157650                year  1960     12       5.397111e+08   \n",
       "1            157650                year  1961     12       5.397111e+08   \n",
       "2            157650                year  1962     12       5.397111e+08   \n",
       "3            157650                year  1963     12       5.397111e+08   \n",
       "4            157650                year  1964     12       5.397111e+08   \n",
       "\n",
       "   area_count_30spfaf06  pdomww_m_30spfaf06  pdomwn_m_30spfaf06  \\\n",
       "0                   699                 0.0                 0.0   \n",
       "1                   699                 0.0                 0.0   \n",
       "2                   699                 0.0                 0.0   \n",
       "3                   699                 0.0                 0.0   \n",
       "4                   699                 0.0                 0.0   \n",
       "\n",
       "   pindww_m_30spfaf06  pindwn_m_30spfaf06  pirrww_m_30spfaf06  \\\n",
       "0                 0.0                 0.0                 0.0   \n",
       "1                 0.0                 0.0                 0.0   \n",
       "2                 0.0                 0.0                 0.0   \n",
       "3                 0.0                 0.0                 0.0   \n",
       "4                 0.0                 0.0                 0.0   \n",
       "\n",
       "   pirrwn_m_30spfaf06  plivww_m_30spfaf06  plivwn_m_30spfaf06  \\\n",
       "0                 0.0        6.128679e-12        6.128679e-12   \n",
       "1                 0.0        7.660848e-12        7.660848e-12   \n",
       "2                 0.0        9.188831e-12        9.188831e-12   \n",
       "3                 0.0        9.984220e-12        9.984220e-12   \n",
       "4                 0.0        1.152276e-11        1.152276e-11   \n",
       "\n",
       "   ptotww_m_30spfaf06  ptotwn_m_30spfaf06  riverdischarge_m_30spfaf06  \\\n",
       "0        6.128679e-12        6.128679e-12                0.000000e+00   \n",
       "1        7.660848e-12        7.660848e-12                0.000000e+00   \n",
       "2        9.188831e-12        9.188831e-12                6.289199e-02   \n",
       "3        9.984220e-12        9.984220e-12                1.815957e-04   \n",
       "4        1.152276e-11        1.152276e-11                1.012434e-32   \n",
       "\n",
       "   ma10_pdomww_m_30spfaf06  min10_pdomww_m_30spfaf06  \\\n",
       "0                      0.0                       0.0   \n",
       "1                      0.0                       0.0   \n",
       "2                      0.0                       0.0   \n",
       "3                      0.0                       0.0   \n",
       "4                      0.0                       0.0   \n",
       "\n",
       "   max10_pdomww_m_30spfaf06  slope10_pdomww_m_30spfaf06  \\\n",
       "0                       0.0                         NaN   \n",
       "1                       0.0                         0.0   \n",
       "2                       0.0                         0.0   \n",
       "3                       0.0                         0.0   \n",
       "4                       0.0                         0.0   \n",
       "\n",
       "   intercept10_pdomww_m_30spfaf06  ols10_pdomww_m_30spfaf06  \\\n",
       "0                             NaN                       NaN   \n",
       "1                             0.0                       0.0   \n",
       "2                             0.0                       0.0   \n",
       "3                             0.0                       0.0   \n",
       "4                             0.0                       0.0   \n",
       "\n",
       "   ma10_pdomwn_m_30spfaf06  min10_pdomwn_m_30spfaf06  \\\n",
       "0                      0.0                       0.0   \n",
       "1                      0.0                       0.0   \n",
       "2                      0.0                       0.0   \n",
       "3                      0.0                       0.0   \n",
       "4                      0.0                       0.0   \n",
       "\n",
       "   max10_pdomwn_m_30spfaf06  slope10_pdomwn_m_30spfaf06  \\\n",
       "0                       0.0                         NaN   \n",
       "1                       0.0                         0.0   \n",
       "2                       0.0                         0.0   \n",
       "3                       0.0                         0.0   \n",
       "4                       0.0                         0.0   \n",
       "\n",
       "   intercept10_pdomwn_m_30spfaf06  ols10_pdomwn_m_30spfaf06  \\\n",
       "0                             NaN                       NaN   \n",
       "1                             0.0                       0.0   \n",
       "2                             0.0                       0.0   \n",
       "3                             0.0                       0.0   \n",
       "4                             0.0                       0.0   \n",
       "\n",
       "   ma10_pindww_m_30spfaf06  min10_pindww_m_30spfaf06  \\\n",
       "0                      0.0                       0.0   \n",
       "1                      0.0                       0.0   \n",
       "2                      0.0                       0.0   \n",
       "3                      0.0                       0.0   \n",
       "4                      0.0                       0.0   \n",
       "\n",
       "   max10_pindww_m_30spfaf06  slope10_pindww_m_30spfaf06  \\\n",
       "0                       0.0                         NaN   \n",
       "1                       0.0                         0.0   \n",
       "2                       0.0                         0.0   \n",
       "3                       0.0                         0.0   \n",
       "4                       0.0                         0.0   \n",
       "\n",
       "   intercept10_pindww_m_30spfaf06  ols10_pindww_m_30spfaf06  \\\n",
       "0                             NaN                       NaN   \n",
       "1                             0.0                       0.0   \n",
       "2                             0.0                       0.0   \n",
       "3                             0.0                       0.0   \n",
       "4                             0.0                       0.0   \n",
       "\n",
       "   ma10_pindwn_m_30spfaf06  min10_pindwn_m_30spfaf06  \\\n",
       "0                      0.0                       0.0   \n",
       "1                      0.0                       0.0   \n",
       "2                      0.0                       0.0   \n",
       "3                      0.0                       0.0   \n",
       "4                      0.0                       0.0   \n",
       "\n",
       "   max10_pindwn_m_30spfaf06  slope10_pindwn_m_30spfaf06  \\\n",
       "0                       0.0                         NaN   \n",
       "1                       0.0                         0.0   \n",
       "2                       0.0                         0.0   \n",
       "3                       0.0                         0.0   \n",
       "4                       0.0                         0.0   \n",
       "\n",
       "   intercept10_pindwn_m_30spfaf06  ols10_pindwn_m_30spfaf06  \\\n",
       "0                             NaN                       NaN   \n",
       "1                             0.0                       0.0   \n",
       "2                             0.0                       0.0   \n",
       "3                             0.0                       0.0   \n",
       "4                             0.0                       0.0   \n",
       "\n",
       "   ma10_pirrww_m_30spfaf06  min10_pirrww_m_30spfaf06  \\\n",
       "0                      0.0                       0.0   \n",
       "1                      0.0                       0.0   \n",
       "2                      0.0                       0.0   \n",
       "3                      0.0                       0.0   \n",
       "4                      0.0                       0.0   \n",
       "\n",
       "   max10_pirrww_m_30spfaf06  slope10_pirrww_m_30spfaf06  \\\n",
       "0                       0.0                         NaN   \n",
       "1                       0.0                         0.0   \n",
       "2                       0.0                         0.0   \n",
       "3                       0.0                         0.0   \n",
       "4                       0.0                         0.0   \n",
       "\n",
       "   intercept10_pirrww_m_30spfaf06  ols10_pirrww_m_30spfaf06  \\\n",
       "0                             NaN                       NaN   \n",
       "1                             0.0                       0.0   \n",
       "2                             0.0                       0.0   \n",
       "3                             0.0                       0.0   \n",
       "4                             0.0                       0.0   \n",
       "\n",
       "   ma10_pirrwn_m_30spfaf06  min10_pirrwn_m_30spfaf06  \\\n",
       "0                      0.0                       0.0   \n",
       "1                      0.0                       0.0   \n",
       "2                      0.0                       0.0   \n",
       "3                      0.0                       0.0   \n",
       "4                      0.0                       0.0   \n",
       "\n",
       "   max10_pirrwn_m_30spfaf06  slope10_pirrwn_m_30spfaf06  \\\n",
       "0                       0.0                         NaN   \n",
       "1                       0.0                         0.0   \n",
       "2                       0.0                         0.0   \n",
       "3                       0.0                         0.0   \n",
       "4                       0.0                         0.0   \n",
       "\n",
       "   intercept10_pirrwn_m_30spfaf06  ols10_pirrwn_m_30spfaf06  \\\n",
       "0                             NaN                       NaN   \n",
       "1                             0.0                       0.0   \n",
       "2                             0.0                       0.0   \n",
       "3                             0.0                       0.0   \n",
       "4                             0.0                       0.0   \n",
       "\n",
       "   ma10_plivww_m_30spfaf06  min10_plivww_m_30spfaf06  \\\n",
       "0             6.128679e-12              6.128679e-12   \n",
       "1             6.894763e-12              6.128679e-12   \n",
       "2             7.659453e-12              6.128679e-12   \n",
       "3             8.240645e-12              6.128679e-12   \n",
       "4             8.897067e-12              6.128679e-12   \n",
       "\n",
       "   max10_plivww_m_30spfaf06  slope10_plivww_m_30spfaf06  \\\n",
       "0              6.128679e-12                         NaN   \n",
       "1              7.660848e-12                1.532170e-12   \n",
       "2              9.188831e-12                1.530076e-12   \n",
       "3              9.984220e-12                1.309461e-12   \n",
       "4              1.152276e-11                1.311153e-12   \n",
       "\n",
       "   intercept10_plivww_m_30spfaf06  ols10_plivww_m_30spfaf06  \\\n",
       "0                             NaN                       NaN   \n",
       "1                   -2.996924e-09              7.660848e-12   \n",
       "2                   -2.992820e-09              9.189529e-12   \n",
       "3                   -2.560267e-09              1.020484e-11   \n",
       "4                   -2.563584e-09              1.151937e-11   \n",
       "\n",
       "   ma10_plivwn_m_30spfaf06  min10_plivwn_m_30spfaf06  \\\n",
       "0             6.128679e-12              6.128679e-12   \n",
       "1             6.894763e-12              6.128679e-12   \n",
       "2             7.659453e-12              6.128679e-12   \n",
       "3             8.240645e-12              6.128679e-12   \n",
       "4             8.897067e-12              6.128679e-12   \n",
       "\n",
       "   max10_plivwn_m_30spfaf06  slope10_plivwn_m_30spfaf06  \\\n",
       "0              6.128679e-12                         NaN   \n",
       "1              7.660848e-12                1.532170e-12   \n",
       "2              9.188831e-12                1.530076e-12   \n",
       "3              9.984220e-12                1.309461e-12   \n",
       "4              1.152276e-11                1.311153e-12   \n",
       "\n",
       "   intercept10_plivwn_m_30spfaf06  ols10_plivwn_m_30spfaf06  \\\n",
       "0                             NaN                       NaN   \n",
       "1                   -2.996924e-09              7.660848e-12   \n",
       "2                   -2.992820e-09              9.189529e-12   \n",
       "3                   -2.560267e-09              1.020484e-11   \n",
       "4                   -2.563584e-09              1.151937e-11   \n",
       "\n",
       "   ma10_ptotww_m_30spfaf06  min10_ptotww_m_30spfaf06  \\\n",
       "0             6.128679e-12              6.128679e-12   \n",
       "1             6.894763e-12              6.128679e-12   \n",
       "2             7.659453e-12              6.128679e-12   \n",
       "3             8.240645e-12              6.128679e-12   \n",
       "4             8.897067e-12              6.128679e-12   \n",
       "\n",
       "   max10_ptotww_m_30spfaf06  slope10_ptotww_m_30spfaf06  \\\n",
       "0              6.128679e-12                         NaN   \n",
       "1              7.660848e-12                1.532170e-12   \n",
       "2              9.188831e-12                1.530076e-12   \n",
       "3              9.984220e-12                1.309461e-12   \n",
       "4              1.152276e-11                1.311153e-12   \n",
       "\n",
       "   intercept10_ptotww_m_30spfaf06  ols10_ptotww_m_30spfaf06  \\\n",
       "0                             NaN                       NaN   \n",
       "1                   -2.996924e-09              7.660848e-12   \n",
       "2                   -2.992820e-09              9.189529e-12   \n",
       "3                   -2.560267e-09              1.020484e-11   \n",
       "4                   -2.563584e-09              1.151937e-11   \n",
       "\n",
       "   ma10_ptotwn_m_30spfaf06  min10_ptotwn_m_30spfaf06  \\\n",
       "0             6.128679e-12              6.128679e-12   \n",
       "1             6.894763e-12              6.128679e-12   \n",
       "2             7.659453e-12              6.128679e-12   \n",
       "3             8.240645e-12              6.128679e-12   \n",
       "4             8.897067e-12              6.128679e-12   \n",
       "\n",
       "   max10_ptotwn_m_30spfaf06  slope10_ptotwn_m_30spfaf06  \\\n",
       "0              6.128679e-12                         NaN   \n",
       "1              7.660848e-12                1.532170e-12   \n",
       "2              9.188831e-12                1.530076e-12   \n",
       "3              9.984220e-12                1.309461e-12   \n",
       "4              1.152276e-11                1.311153e-12   \n",
       "\n",
       "   intercept10_ptotwn_m_30spfaf06  ols10_ptotwn_m_30spfaf06  \\\n",
       "0                             NaN                       NaN   \n",
       "1                   -2.996924e-09              7.660848e-12   \n",
       "2                   -2.992820e-09              9.189529e-12   \n",
       "3                   -2.560267e-09              1.020484e-11   \n",
       "4                   -2.563584e-09              1.151937e-11   \n",
       "\n",
       "   ma10_riverdischarge_m_30spfaf06  min10_riverdischarge_m_30spfaf06  \\\n",
       "0                         0.000000                               0.0   \n",
       "1                         0.000000                               0.0   \n",
       "2                         0.020964                               0.0   \n",
       "3                         0.015768                               0.0   \n",
       "4                         0.012615                               0.0   \n",
       "\n",
       "   max10_riverdischarge_m_30spfaf06  slope10_riverdischarge_m_30spfaf06  \\\n",
       "0                          0.000000                                 NaN   \n",
       "1                          0.000000                            0.000000   \n",
       "2                          0.062892                            0.031446   \n",
       "3                          0.062892                            0.006344   \n",
       "4                          0.062892                            0.000018   \n",
       "\n",
       "   intercept10_riverdischarge_m_30spfaf06  ols10_riverdischarge_m_30spfaf06  \n",
       "0                                     NaN                               NaN  \n",
       "1                                0.000000                          0.000000  \n",
       "2                              -61.644636                          0.052410  \n",
       "3                              -12.427356                          0.025284  \n",
       "4                               -0.023014                          0.012651  "
      ]
     },
     "execution_count": 109,
     "metadata": {},
     "output_type": "execute_result"
    }
   ],
   "source": [
    "df_og.head()"
   ]
  },
  {
   "cell_type": "code",
   "execution_count": 110,
   "metadata": {
    "collapsed": true
   },
   "outputs": [],
   "source": [
    "def simplify_df_raw(df):\n",
    "    df_out = df[[\"year\",\"ptotww_m_30spfaf06\",\"ptotwn_m_30spfaf06\",\"riverdischarge_m_30spfaf06\"]]\n",
    "    return df_out"
   ]
  },
  {
   "cell_type": "code",
   "execution_count": 111,
   "metadata": {
    "collapsed": true
   },
   "outputs": [],
   "source": [
    "df_raw = simplify_df_raw(df_og)"
   ]
  },
  {
   "cell_type": "code",
   "execution_count": 112,
   "metadata": {},
   "outputs": [
    {
     "data": {
      "text/html": [
       "<div>\n",
       "<style scoped>\n",
       "    .dataframe tbody tr th:only-of-type {\n",
       "        vertical-align: middle;\n",
       "    }\n",
       "\n",
       "    .dataframe tbody tr th {\n",
       "        vertical-align: top;\n",
       "    }\n",
       "\n",
       "    .dataframe thead th {\n",
       "        text-align: right;\n",
       "    }\n",
       "</style>\n",
       "<table border=\"1\" class=\"dataframe\">\n",
       "  <thead>\n",
       "    <tr style=\"text-align: right;\">\n",
       "      <th></th>\n",
       "      <th>year</th>\n",
       "      <th>ptotww_m_30spfaf06</th>\n",
       "      <th>ptotwn_m_30spfaf06</th>\n",
       "      <th>riverdischarge_m_30spfaf06</th>\n",
       "    </tr>\n",
       "  </thead>\n",
       "  <tbody>\n",
       "    <tr>\n",
       "      <th>50</th>\n",
       "      <td>2010</td>\n",
       "      <td>6.907322e-10</td>\n",
       "      <td>6.907322e-10</td>\n",
       "      <td>0.061583</td>\n",
       "    </tr>\n",
       "    <tr>\n",
       "      <th>51</th>\n",
       "      <td>2011</td>\n",
       "      <td>5.461206e-10</td>\n",
       "      <td>5.461206e-10</td>\n",
       "      <td>0.067922</td>\n",
       "    </tr>\n",
       "    <tr>\n",
       "      <th>52</th>\n",
       "      <td>2012</td>\n",
       "      <td>5.257121e-10</td>\n",
       "      <td>5.257121e-10</td>\n",
       "      <td>0.064174</td>\n",
       "    </tr>\n",
       "    <tr>\n",
       "      <th>53</th>\n",
       "      <td>2013</td>\n",
       "      <td>6.684516e-10</td>\n",
       "      <td>6.684516e-10</td>\n",
       "      <td>0.000505</td>\n",
       "    </tr>\n",
       "    <tr>\n",
       "      <th>54</th>\n",
       "      <td>2014</td>\n",
       "      <td>6.771895e-10</td>\n",
       "      <td>6.771895e-10</td>\n",
       "      <td>0.000382</td>\n",
       "    </tr>\n",
       "  </tbody>\n",
       "</table>\n",
       "</div>"
      ],
      "text/plain": [
       "    year  ptotww_m_30spfaf06  ptotwn_m_30spfaf06  riverdischarge_m_30spfaf06\n",
       "50  2010        6.907322e-10        6.907322e-10                    0.061583\n",
       "51  2011        5.461206e-10        5.461206e-10                    0.067922\n",
       "52  2012        5.257121e-10        5.257121e-10                    0.064174\n",
       "53  2013        6.684516e-10        6.684516e-10                    0.000505\n",
       "54  2014        6.771895e-10        6.771895e-10                    0.000382"
      ]
     },
     "execution_count": 112,
     "metadata": {},
     "output_type": "execute_result"
    }
   ],
   "source": [
    "df_raw.tail()"
   ]
  },
  {
   "cell_type": "code",
   "execution_count": 113,
   "metadata": {
    "collapsed": true
   },
   "outputs": [],
   "source": [
    "df_raw = df_raw.sort_values(by=[\"year\"])"
   ]
  },
  {
   "cell_type": "code",
   "execution_count": 114,
   "metadata": {},
   "outputs": [
    {
     "data": {
      "text/plain": [
       "(6.1286785555459597e-12, 6.9073223367814902e-10)"
      ]
     },
     "execution_count": 114,
     "metadata": {},
     "output_type": "execute_result"
    },
    {
     "data": {
      "image/png": "[encoded data removed]",
      "text/plain": [
       "<Figure size 432x288 with 1 Axes>"
      ]
     },
     "metadata": {},
     "output_type": "display_data"
    }
   ],
   "source": [
    "ax1 = df_raw.plot.scatter(\"year\",\"ptotww_m_30spfaf06\")\n",
    "ax1.set_ylim(df_raw[\"ptotww_m_30spfaf06\"].min(),df_raw[\"ptotww_m_30spfaf06\"].max())"
   ]
  },
  {
   "cell_type": "code",
   "execution_count": 115,
   "metadata": {},
   "outputs": [
    {
     "data": {
      "text/plain": [
       "(0.0, 1.8562104020013099)"
      ]
     },
     "execution_count": 115,
     "metadata": {},
     "output_type": "execute_result"
    },
    {
     "data": {
      "image/png": "[encoded data removed]",
      "text/plain": [
       "<Figure size 432x288 with 1 Axes>"
      ]
     },
     "metadata": {},
     "output_type": "display_data"
    }
   ],
   "source": [
    "ax1 = df_raw.plot.scatter(\"year\",\"riverdischarge_m_30spfaf06\")\n",
    "ax1.set_ylim(df_raw[\"riverdischarge_m_30spfaf06\"].min(),df_raw[\"riverdischarge_m_30spfaf06\"].max())"
   ]
  },
  {
   "cell_type": "markdown",
   "metadata": {},
   "source": [
    "# Moving Average"
   ]
  },
  {
   "cell_type": "code",
   "execution_count": 116,
   "metadata": {
    "collapsed": true
   },
   "outputs": [],
   "source": [
    "def simplify_df_ma(df):\n",
    "    df_out = df[[\"year\",\"ma10_ptotww_m_30spfaf06\",\"ma10_ptotwn_m_30spfaf06\",\"ma10_riverdischarge_m_30spfaf06\"]]\n",
    "    return df_out"
   ]
  },
  {
   "cell_type": "code",
   "execution_count": 117,
   "metadata": {
    "collapsed": true
   },
   "outputs": [],
   "source": [
    "df_ma = simplify_df_ma(df_og)"
   ]
  },
  {
   "cell_type": "code",
   "execution_count": 118,
   "metadata": {},
   "outputs": [
    {
     "data": {
      "text/html": [
       "<div>\n",
       "<style scoped>\n",
       "    .dataframe tbody tr th:only-of-type {\n",
       "        vertical-align: middle;\n",
       "    }\n",
       "\n",
       "    .dataframe tbody tr th {\n",
       "        vertical-align: top;\n",
       "    }\n",
       "\n",
       "    .dataframe thead th {\n",
       "        text-align: right;\n",
       "    }\n",
       "</style>\n",
       "<table border=\"1\" class=\"dataframe\">\n",
       "  <thead>\n",
       "    <tr style=\"text-align: right;\">\n",
       "      <th></th>\n",
       "      <th>year</th>\n",
       "      <th>ma10_ptotww_m_30spfaf06</th>\n",
       "      <th>ma10_ptotwn_m_30spfaf06</th>\n",
       "      <th>ma10_riverdischarge_m_30spfaf06</th>\n",
       "    </tr>\n",
       "  </thead>\n",
       "  <tbody>\n",
       "    <tr>\n",
       "      <th>0</th>\n",
       "      <td>1960</td>\n",
       "      <td>6.128679e-12</td>\n",
       "      <td>6.128679e-12</td>\n",
       "      <td>0.000000</td>\n",
       "    </tr>\n",
       "    <tr>\n",
       "      <th>1</th>\n",
       "      <td>1961</td>\n",
       "      <td>6.894763e-12</td>\n",
       "      <td>6.894763e-12</td>\n",
       "      <td>0.000000</td>\n",
       "    </tr>\n",
       "    <tr>\n",
       "      <th>2</th>\n",
       "      <td>1962</td>\n",
       "      <td>7.659453e-12</td>\n",
       "      <td>7.659453e-12</td>\n",
       "      <td>0.020964</td>\n",
       "    </tr>\n",
       "    <tr>\n",
       "      <th>3</th>\n",
       "      <td>1963</td>\n",
       "      <td>8.240645e-12</td>\n",
       "      <td>8.240645e-12</td>\n",
       "      <td>0.015768</td>\n",
       "    </tr>\n",
       "    <tr>\n",
       "      <th>4</th>\n",
       "      <td>1964</td>\n",
       "      <td>8.897067e-12</td>\n",
       "      <td>8.897067e-12</td>\n",
       "      <td>0.012615</td>\n",
       "    </tr>\n",
       "  </tbody>\n",
       "</table>\n",
       "</div>"
      ],
      "text/plain": [
       "   year  ma10_ptotww_m_30spfaf06  ma10_ptotwn_m_30spfaf06  \\\n",
       "0  1960             6.128679e-12             6.128679e-12   \n",
       "1  1961             6.894763e-12             6.894763e-12   \n",
       "2  1962             7.659453e-12             7.659453e-12   \n",
       "3  1963             8.240645e-12             8.240645e-12   \n",
       "4  1964             8.897067e-12             8.897067e-12   \n",
       "\n",
       "   ma10_riverdischarge_m_30spfaf06  \n",
       "0                         0.000000  \n",
       "1                         0.000000  \n",
       "2                         0.020964  \n",
       "3                         0.015768  \n",
       "4                         0.012615  "
      ]
     },
     "execution_count": 118,
     "metadata": {},
     "output_type": "execute_result"
    }
   ],
   "source": [
    "df_ma.head()"
   ]
  },
  {
   "cell_type": "code",
   "execution_count": 119,
   "metadata": {
    "collapsed": true
   },
   "outputs": [],
   "source": [
    "df_ma = df_ma.sort_values(by=[\"year\"])"
   ]
  },
  {
   "cell_type": "code",
   "execution_count": 120,
   "metadata": {},
   "outputs": [
    {
     "data": {
      "text/plain": [
       "(6.1286785555459597e-12, 6.09478412032819e-10)"
      ]
     },
     "execution_count": 120,
     "metadata": {},
     "output_type": "execute_result"
    },
    {
     "data": {
      "image/png": "[encoded data removed]",
      "text/plain": [
       "<Figure size 432x288 with 1 Axes>"
      ]
     },
     "metadata": {},
     "output_type": "display_data"
    }
   ],
   "source": [
    "ax1 = df_ma.plot.scatter(\"year\",\"ma10_ptotww_m_30spfaf06\")\n",
    "ax1.set_ylim(df_ma[\"ma10_ptotww_m_30spfaf06\"].min(),df_ma[\"ma10_ptotww_m_30spfaf06\"].max())"
   ]
  },
  {
   "cell_type": "code",
   "execution_count": 121,
   "metadata": {},
   "outputs": [
    {
     "data": {
      "text/plain": [
       "(0.0, 0.33748726067295298)"
      ]
     },
     "execution_count": 121,
     "metadata": {},
     "output_type": "execute_result"
    },
    {
     "data": {
      "image/png": "[encoded data removed]",
      "text/plain": [
       "<Figure size 432x288 with 1 Axes>"
      ]
     },
     "metadata": {},
     "output_type": "display_data"
    }
   ],
   "source": [
    "ax1 = df_ma.plot.scatter(\"year\",\"ma10_riverdischarge_m_30spfaf06\")\n",
    "ax1.set_ylim(df_ma[\"ma10_riverdischarge_m_30spfaf06\"].min(),df_ma[\"ma10_riverdischarge_m_30spfaf06\"].max())"
   ]
  },
  {
   "cell_type": "markdown",
   "metadata": {},
   "source": [
    "# Combined"
   ]
  },
  {
   "cell_type": "code",
   "execution_count": 122,
   "metadata": {
    "collapsed": true
   },
   "outputs": [],
   "source": [
    "from bokeh.plotting import figure \n",
    "from bokeh.io import output_notebook, show\n",
    "from bokeh.models import HoverTool\n",
    "import random\n",
    "import bokeh.palettes"
   ]
  },
  {
   "cell_type": "code",
   "execution_count": 123,
   "metadata": {
    "collapsed": true
   },
   "outputs": [],
   "source": [
    "palette = bokeh.palettes.Category20"
   ]
  },
  {
   "cell_type": "code",
   "execution_count": 124,
   "metadata": {},
   "outputs": [
    {
     "data": {
      "text/html": [
       "\n",
       "    <div class=\"bk-root\">\n",
       "        <a href=\"https://bokeh.pydata.org\" target=\"_blank\" class=\"bk-logo bk-logo-small bk-logo-notebook\"></a>\n",
       "        <span id=\"279b3807-0245-4b1b-891c-d36e24550c24\">Loading BokehJS ...</span>\n",
       "    </div>"
      ]
     },
     "metadata": {},
     "output_type": "display_data"
    },
    {
     "data": {
      "application/javascript": [
       "\n",
       "(function(root) {\n",
       "  function now() {\n",
       "    return new Date();\n",
       "  }\n",
       "\n",
       "  var force = true;\n",
       "\n",
       "  if (typeof (root._bokeh_onload_callbacks) === \"undefined\" || force === true) {\n",
       "    root._bokeh_onload_callbacks = [];\n",
       "    root._bokeh_is_loading = undefined;\n",
       "  }\n",
       "\n",
       "  var JS_MIME_TYPE = 'application/javascript';\n",
       "  var HTML_MIME_TYPE = 'text/html';\n",
       "  var EXEC_MIME_TYPE = 'application/vnd.bokehjs_exec.v0+json';\n",
       "  var CLASS_NAME = 'output_bokeh rendered_html';\n",
       "\n",
       "  /**\n",
       "   * Render data to the DOM node\n",
       "   */\n",
       "  function render(props, node) {\n",
       "    var script = document.createElement(\"script\");\n",
       "    node.appendChild(script);\n",
       "  }\n",
       "\n",
       "  /**\n",
       "   * Handle when an output is cleared or removed\n",
       "   */\n",
       "  function handleClearOutput(event, handle) {\n",
       "    var cell = handle.cell;\n",
       "\n",
       "    var id = cell.output_area._bokeh_element_id;\n",
       "    var server_id = cell.output_area._bokeh_server_id;\n",
       "    // Clean up Bokeh references\n",
       "    if (id !== undefined) {\n",
       "      Bokeh.index[id].model.document.clear();\n",
       "      delete Bokeh.index[id];\n",
       "    }\n",
       "\n",
       "    if (server_id !== undefined) {\n",
       "      // Clean up Bokeh references\n",
       "      var cmd = \"from bokeh.io.state import curstate; print(curstate().uuid_to_server['\" + server_id + \"'].get_sessions()[0].document.roots[0]._id)\";\n",
       "      cell.notebook.kernel.execute(cmd, {\n",
       "        iopub: {\n",
       "          output: function(msg) {\n",
       "            var element_id = msg.content.text.trim();\n",
       "            Bokeh.index[element_id].model.document.clear();\n",
       "            delete Bokeh.index[element_id];\n",
       "          }\n",
       "        }\n",
       "      });\n",
       "      // Destroy server and session\n",
       "      var cmd = \"import bokeh.io.notebook as ion; ion.destroy_server('\" + server_id + \"')\";\n",
       "      cell.notebook.kernel.execute(cmd);\n",
       "    }\n",
       "  }\n",
       "\n",
       "  /**\n",
       "   * Handle when a new output is added\n",
       "   */\n",
       "  function handleAddOutput(event, handle) {\n",
       "    var output_area = handle.output_area;\n",
       "    var output = handle.output;\n",
       "\n",
       "    // limit handleAddOutput to display_data with EXEC_MIME_TYPE content only\n",
       "    if ((output.output_type != \"display_data\") || (!output.data.hasOwnProperty(EXEC_MIME_TYPE))) {\n",
       "      return\n",
       "    }\n",
       "\n",
       "    var toinsert = output_area.element.find(\".\" + CLASS_NAME.split(' ')[0]);\n",
       "\n",
       "    if (output.metadata[EXEC_MIME_TYPE][\"id\"] !== undefined) {\n",
       "      toinsert[toinsert.length - 1].firstChild.textContent = output.data[JS_MIME_TYPE];\n",
       "      // store reference to embed id on output_area\n",
       "      output_area._bokeh_element_id = output.metadata[EXEC_MIME_TYPE][\"id\"];\n",
       "    }\n",
       "    if (output.metadata[EXEC_MIME_TYPE][\"server_id\"] !== undefined) {\n",
       "      var bk_div = document.createElement(\"div\");\n",
       "      bk_div.innerHTML = output.data[HTML_MIME_TYPE];\n",
       "      var script_attrs = bk_div.children[0].attributes;\n",
       "      for (var i = 0; i < script_attrs.length; i++) {\n",
       "        toinsert[toinsert.length - 1].firstChild.setAttribute(script_attrs[i].name, script_attrs[i].value);\n",
       "      }\n",
       "      // store reference to server id on output_area\n",
       "      output_area._bokeh_server_id = output.metadata[EXEC_MIME_TYPE][\"server_id\"];\n",
       "    }\n",
       "  }\n",
       "\n",
       "  function register_renderer(events, OutputArea) {\n",
       "\n",
       "    function append_mime(data, metadata, element) {\n",
       "      // create a DOM node to render to\n",
       "      var toinsert = this.create_output_subarea(\n",
       "        metadata,\n",
       "        CLASS_NAME,\n",
       "        EXEC_MIME_TYPE\n",
       "      );\n",
       "      this.keyboard_manager.register_events(toinsert);\n",
       "      // Render to node\n",
       "      var props = {data: data, metadata: metadata[EXEC_MIME_TYPE]};\n",
       "      render(props, toinsert[toinsert.length - 1]);\n",
       "      element.append(toinsert);\n",
       "      return toinsert\n",
       "    }\n",
       "\n",
       "    /* Handle when an output is cleared or removed */\n",
       "    events.on('clear_output.CodeCell', handleClearOutput);\n",
       "    events.on('delete.Cell', handleClearOutput);\n",
       "\n",
       "    /* Handle when a new output is added */\n",
       "    events.on('output_added.OutputArea', handleAddOutput);\n",
       "\n",
       "    /**\n",
       "     * Register the mime type and append_mime function with output_area\n",
       "     */\n",
       "    OutputArea.prototype.register_mime_type(EXEC_MIME_TYPE, append_mime, {\n",
       "      /* Is output safe? */\n",
       "      safe: true,\n",
       "      /* Index of renderer in `output_area.display_order` */\n",
       "      index: 0\n",
       "    });\n",
       "  }\n",
       "\n",
       "  // register the mime type if in Jupyter Notebook environment and previously unregistered\n",
       "  if (root.Jupyter !== undefined) {\n",
       "    var events = require('base/js/events');\n",
       "    var OutputArea = require('notebook/js/outputarea').OutputArea;\n",
       "\n",
       "    if (OutputArea.prototype.mime_types().indexOf(EXEC_MIME_TYPE) == -1) {\n",
       "      register_renderer(events, OutputArea);\n",
       "    }\n",
       "  }\n",
       "\n",
       "  \n",
       "  if (typeof (root._bokeh_timeout) === \"undefined\" || force === true) {\n",
       "    root._bokeh_timeout = Date.now() + 5000;\n",
       "    root._bokeh_failed_load = false;\n",
       "  }\n",
       "\n",
       "  var NB_LOAD_WARNING = {'data': {'text/html':\n",
       "     \"<div style='background-color: #fdd'>\\n\"+\n",
       "     \"<p>\\n\"+\n",
       "     \"BokehJS does not appear to have successfully loaded. If loading BokehJS from CDN, this \\n\"+\n",
       "     \"may be due to a slow or bad network connection. Possible fixes:\\n\"+\n",
       "     \"</p>\\n\"+\n",
       "     \"<ul>\\n\"+\n",
       "     \"<li>re-rerun `output_notebook()` to attempt to load from CDN again, or</li>\\n\"+\n",
       "     \"<li>use INLINE resources instead, as so:</li>\\n\"+\n",
       "     \"</ul>\\n\"+\n",
       "     \"<code>\\n\"+\n",
       "     \"from bokeh.resources import INLINE\\n\"+\n",
       "     \"output_notebook(resources=INLINE)\\n\"+\n",
       "     \"</code>\\n\"+\n",
       "     \"</div>\"}};\n",
       "\n",
       "  function display_loaded() {\n",
       "    var el = document.getElementById(\"279b3807-0245-4b1b-891c-d36e24550c24\");\n",
       "    if (el != null) {\n",
       "      el.textContent = \"BokehJS is loading...\";\n",
       "    }\n",
       "    if (root.Bokeh !== undefined) {\n",
       "      if (el != null) {\n",
       "        el.textContent = \"BokehJS \" + root.Bokeh.version + \" successfully loaded.\";\n",
       "      }\n",
       "    } else if (Date.now() < root._bokeh_timeout) {\n",
       "      setTimeout(display_loaded, 100)\n",
       "    }\n",
       "  }\n",
       "\n",
       "\n",
       "  function run_callbacks() {\n",
       "    try {\n",
       "      root._bokeh_onload_callbacks.forEach(function(callback) { callback() });\n",
       "    }\n",
       "    finally {\n",
       "      delete root._bokeh_onload_callbacks\n",
       "    }\n",
       "    console.info(\"Bokeh: all callbacks have finished\");\n",
       "  }\n",
       "\n",
       "  function load_libs(js_urls, callback) {\n",
       "    root._bokeh_onload_callbacks.push(callback);\n",
       "    if (root._bokeh_is_loading > 0) {\n",
       "      console.log(\"Bokeh: BokehJS is being loaded, scheduling callback at\", now());\n",
       "      return null;\n",
       "    }\n",
       "    if (js_urls == null || js_urls.length === 0) {\n",
       "      run_callbacks();\n",
       "      return null;\n",
       "    }\n",
       "    console.log(\"Bokeh: BokehJS not loaded, scheduling load and callback at\", now());\n",
       "    root._bokeh_is_loading = js_urls.length;\n",
       "    for (var i = 0; i < js_urls.length; i++) {\n",
       "      var url = js_urls[i];\n",
       "      var s = document.createElement('script');\n",
       "      s.src = url;\n",
       "      s.async = false;\n",
       "      s.onreadystatechange = s.onload = function() {\n",
       "        root._bokeh_is_loading--;\n",
       "        if (root._bokeh_is_loading === 0) {\n",
       "          console.log(\"Bokeh: all BokehJS libraries loaded\");\n",
       "          run_callbacks()\n",
       "        }\n",
       "      };\n",
       "      s.onerror = function() {\n",
       "        console.warn(\"failed to load library \" + url);\n",
       "      };\n",
       "      console.log(\"Bokeh: injecting script tag for BokehJS library: \", url);\n",
       "      document.getElementsByTagName(\"head\")[0].appendChild(s);\n",
       "    }\n",
       "  };var element = document.getElementById(\"279b3807-0245-4b1b-891c-d36e24550c24\");\n",
       "  if (element == null) {\n",
       "    console.log(\"Bokeh: ERROR: autoload.js configured with elementid '279b3807-0245-4b1b-891c-d36e24550c24' but no matching script tag was found. \")\n",
       "    return false;\n",
       "  }\n",
       "\n",
       "  var js_urls = [\"https://cdn.pydata.org/bokeh/release/bokeh-0.12.16.min.js\", \"https://cdn.pydata.org/bokeh/release/bokeh-widgets-0.12.16.min.js\", \"https://cdn.pydata.org/bokeh/release/bokeh-tables-0.12.16.min.js\", \"https://cdn.pydata.org/bokeh/release/bokeh-gl-0.12.16.min.js\"];\n",
       "\n",
       "  var inline_js = [\n",
       "    function(Bokeh) {\n",
       "      Bokeh.set_log_level(\"info\");\n",
       "    },\n",
       "    \n",
       "    function(Bokeh) {\n",
       "      \n",
       "    },\n",
       "    function(Bokeh) {\n",
       "      console.log(\"Bokeh: injecting CSS: https://cdn.pydata.org/bokeh/release/bokeh-0.12.16.min.css\");\n",
       "      Bokeh.embed.inject_css(\"https://cdn.pydata.org/bokeh/release/bokeh-0.12.16.min.css\");\n",
       "      console.log(\"Bokeh: injecting CSS: https://cdn.pydata.org/bokeh/release/bokeh-widgets-0.12.16.min.css\");\n",
       "      Bokeh.embed.inject_css(\"https://cdn.pydata.org/bokeh/release/bokeh-widgets-0.12.16.min.css\");\n",
       "      console.log(\"Bokeh: injecting CSS: https://cdn.pydata.org/bokeh/release/bokeh-tables-0.12.16.min.css\");\n",
       "      Bokeh.embed.inject_css(\"https://cdn.pydata.org/bokeh/release/bokeh-tables-0.12.16.min.css\");\n",
       "    }\n",
       "  ];\n",
       "\n",
       "  function run_inline_js() {\n",
       "    \n",
       "    if ((root.Bokeh !== undefined) || (force === true)) {\n",
       "      for (var i = 0; i < inline_js.length; i++) {\n",
       "        inline_js[i].call(root, root.Bokeh);\n",
       "      }if (force === true) {\n",
       "        display_loaded();\n",
       "      }} else if (Date.now() < root._bokeh_timeout) {\n",
       "      setTimeout(run_inline_js, 100);\n",
       "    } else if (!root._bokeh_failed_load) {\n",
       "      console.log(\"Bokeh: BokehJS failed to load within specified timeout.\");\n",
       "      root._bokeh_failed_load = true;\n",
       "    } else if (force !== true) {\n",
       "      var cell = $(document.getElementById(\"279b3807-0245-4b1b-891c-d36e24550c24\")).parents('.cell').data().cell;\n",
       "      cell.output_area.append_execute_result(NB_LOAD_WARNING)\n",
       "    }\n",
       "\n",
       "  }\n",
       "\n",
       "  if (root._bokeh_is_loading === 0) {\n",
       "    console.log(\"Bokeh: BokehJS loaded, going straight to plotting\");\n",
       "    run_inline_js();\n",
       "  } else {\n",
       "    load_libs(js_urls, function() {\n",
       "      console.log(\"Bokeh: BokehJS plotting callback run at\", now());\n",
       "      run_inline_js();\n",
       "    });\n",
       "  }\n",
       "}(window));"
      ],
      "application/vnd.bokehjs_load.v0+json": "\n(function(root) {\n  function now() {\n    return new Date();\n  }\n\n  var force = true;\n\n  if (typeof (root._bokeh_onload_callbacks) === \"undefined\" || force === true) {\n    root._bokeh_onload_callbacks = [];\n    root._bokeh_is_loading = undefined;\n  }\n\n  \n\n  \n  if (typeof (root._bokeh_timeout) === \"undefined\" || force === true) {\n    root._bokeh_timeout = Date.now() + 5000;\n    root._bokeh_failed_load = false;\n  }\n\n  var NB_LOAD_WARNING = {'data': {'text/html':\n     \"<div style='background-color: #fdd'>\\n\"+\n     \"<p>\\n\"+\n     \"BokehJS does not appear to have successfully loaded. If loading BokehJS from CDN, this \\n\"+\n     \"may be due to a slow or bad network connection. Possible fixes:\\n\"+\n     \"</p>\\n\"+\n     \"<ul>\\n\"+\n     \"<li>re-rerun `output_notebook()` to attempt to load from CDN again, or</li>\\n\"+\n     \"<li>use INLINE resources instead, as so:</li>\\n\"+\n     \"</ul>\\n\"+\n     \"<code>\\n\"+\n     \"from bokeh.resources import INLINE\\n\"+\n     \"output_notebook(resources=INLINE)\\n\"+\n     \"</code>\\n\"+\n     \"</div>\"}};\n\n  function display_loaded() {\n    var el = document.getElementById(\"279b3807-0245-4b1b-891c-d36e24550c24\");\n    if (el != null) {\n      el.textContent = \"BokehJS is loading...\";\n    }\n    if (root.Bokeh !== undefined) {\n      if (el != null) {\n        el.textContent = \"BokehJS \" + root.Bokeh.version + \" successfully loaded.\";\n      }\n    } else if (Date.now() < root._bokeh_timeout) {\n      setTimeout(display_loaded, 100)\n    }\n  }\n\n\n  function run_callbacks() {\n    try {\n      root._bokeh_onload_callbacks.forEach(function(callback) { callback() });\n    }\n    finally {\n      delete root._bokeh_onload_callbacks\n    }\n    console.info(\"Bokeh: all callbacks have finished\");\n  }\n\n  function load_libs(js_urls, callback) {\n    root._bokeh_onload_callbacks.push(callback);\n    if (root._bokeh_is_loading > 0) {\n      console.log(\"Bokeh: BokehJS is being loaded, scheduling callback at\", now());\n      return null;\n    }\n    if (js_urls == null || js_urls.length === 0) {\n      run_callbacks();\n      return null;\n    }\n    console.log(\"Bokeh: BokehJS not loaded, scheduling load and callback at\", now());\n    root._bokeh_is_loading = js_urls.length;\n    for (var i = 0; i < js_urls.length; i++) {\n      var url = js_urls[i];\n      var s = document.createElement('script');\n      s.src = url;\n      s.async = false;\n      s.onreadystatechange = s.onload = function() {\n        root._bokeh_is_loading--;\n        if (root._bokeh_is_loading === 0) {\n          console.log(\"Bokeh: all BokehJS libraries loaded\");\n          run_callbacks()\n        }\n      };\n      s.onerror = function() {\n        console.warn(\"failed to load library \" + url);\n      };\n      console.log(\"Bokeh: injecting script tag for BokehJS library: \", url);\n      document.getElementsByTagName(\"head\")[0].appendChild(s);\n    }\n  };var element = document.getElementById(\"279b3807-0245-4b1b-891c-d36e24550c24\");\n  if (element == null) {\n    console.log(\"Bokeh: ERROR: autoload.js configured with elementid '279b3807-0245-4b1b-891c-d36e24550c24' but no matching script tag was found. \")\n    return false;\n  }\n\n  var js_urls = [\"https://cdn.pydata.org/bokeh/release/bokeh-0.12.16.min.js\", \"https://cdn.pydata.org/bokeh/release/bokeh-widgets-0.12.16.min.js\", \"https://cdn.pydata.org/bokeh/release/bokeh-tables-0.12.16.min.js\", \"https://cdn.pydata.org/bokeh/release/bokeh-gl-0.12.16.min.js\"];\n\n  var inline_js = [\n    function(Bokeh) {\n      Bokeh.set_log_level(\"info\");\n    },\n    \n    function(Bokeh) {\n      \n    },\n    function(Bokeh) {\n      console.log(\"Bokeh: injecting CSS: https://cdn.pydata.org/bokeh/release/bokeh-0.12.16.min.css\");\n      Bokeh.embed.inject_css(\"https://cdn.pydata.org/bokeh/release/bokeh-0.12.16.min.css\");\n      console.log(\"Bokeh: injecting CSS: https://cdn.pydata.org/bokeh/release/bokeh-widgets-0.12.16.min.css\");\n      Bokeh.embed.inject_css(\"https://cdn.pydata.org/bokeh/release/bokeh-widgets-0.12.16.min.css\");\n      console.log(\"Bokeh: injecting CSS: https://cdn.pydata.org/bokeh/release/bokeh-tables-0.12.16.min.css\");\n      Bokeh.embed.inject_css(\"https://cdn.pydata.org/bokeh/release/bokeh-tables-0.12.16.min.css\");\n    }\n  ];\n\n  function run_inline_js() {\n    \n    if ((root.Bokeh !== undefined) || (force === true)) {\n      for (var i = 0; i < inline_js.length; i++) {\n        inline_js[i].call(root, root.Bokeh);\n      }if (force === true) {\n        display_loaded();\n      }} else if (Date.now() < root._bokeh_timeout) {\n      setTimeout(run_inline_js, 100);\n    } else if (!root._bokeh_failed_load) {\n      console.log(\"Bokeh: BokehJS failed to load within specified timeout.\");\n      root._bokeh_failed_load = true;\n    } else if (force !== true) {\n      var cell = $(document.getElementById(\"279b3807-0245-4b1b-891c-d36e24550c24\")).parents('.cell').data().cell;\n      cell.output_area.append_execute_result(NB_LOAD_WARNING)\n    }\n\n  }\n\n  if (root._bokeh_is_loading === 0) {\n    console.log(\"Bokeh: BokehJS loaded, going straight to plotting\");\n    run_inline_js();\n  } else {\n    load_libs(js_urls, function() {\n      console.log(\"Bokeh: BokehJS plotting callback run at\", now());\n      run_inline_js();\n    });\n  }\n}(window));"
     },
     "metadata": {},
     "output_type": "display_data"
    }
   ],
   "source": [
    "output_notebook()"
   ]
  },
  {
   "cell_type": "code",
   "execution_count": 125,
   "metadata": {
    "collapsed": true
   },
   "outputs": [],
   "source": [
    "def plot(indicators,df_og,raw_values=True,ma10_values=True,ols_values=True):\n",
    "    \"\"\" For a given basin, plots multiple results the same chart.    \n",
    "    -------------------------------------------------------------------------------\n",
    "    \n",
    "    df_og can be obtained from table \n",
    "    y2018m06d01_rh_temporal_reducers_postgis_30spfaf06_v01_v01 in the postGreSQL\n",
    "    Database\n",
    "    \n",
    "    maximum number of lines supported is 20 due to colorscheme.\n",
    "    \n",
    "    Args:\n",
    "        indicators (list) : list of string of indicators. Use basenames.\n",
    "            options include a.o. : ['ptotww','riverdischarge']\n",
    "        df_og (pd.DataFrame) : DataFrame with values.\n",
    "        raw_values (boolean) : Plot raw, monthly and yearly values.\n",
    "            defaults to True.\n",
    "        ma10_values (boolean) : Plot moving average values.\n",
    "            defaults to True.\n",
    "        ols_values (boolean) : Plot values based on regression.\n",
    "            defaults to True.\n",
    "\n",
    "    Returns:\n",
    "        p (Bokeh Plot): Bokeh plot. Use show(p)\n",
    "    \n",
    "    \"\"\"\n",
    "    p = figure(width=900, height=800)\n",
    "    \n",
    "    number_of_lines = len(indicators)*(raw_values+ma10_values+ols_values)\n",
    "    print(number_of_lines)\n",
    "    \n",
    "    i=0\n",
    "    \n",
    "    if raw_values:\n",
    "        for indicator in indicators:\n",
    "            p.line(x = df_og[\"year\"], y = df_og[indicator+'_m_30spfaf06'],line_color=palette[number_of_lines][i],legend= indicator+\"_m_30spfaf06\")\n",
    "            i += 1\n",
    "    if ma10_values:\n",
    "        for indicator in indicators:\n",
    "            p.line(x = df_og[\"year\"], y = df_og['ma10_'+indicator+'_m_30spfaf06'],line_color=palette[number_of_lines][i],legend=\"ma10_\"+indicator+\"_m_30spfaf06\")\n",
    "            i += 1\n",
    "    if ols_values:\n",
    "        for indicator in indicators:\n",
    "            p.line(x = df_og[\"year\"], y = df_og['ols10_'+indicator+'_m_30spfaf06'],line_color=palette[number_of_lines][i],legend=\"ols10_\"+indicator+\"_m_30spfaf06\")\n",
    "            i += 1\n",
    "    p.legend.location = \"top_left\"\n",
    "    p.legend.click_policy=\"hide\"\n",
    "    hover = HoverTool(tooltips = [('year', '@x'),\n",
    "                             ('value',  '@y')])\n",
    "    p.add_tools(hover)\n",
    "    \n",
    "    return p\n",
    "    "
   ]
  },
  {
   "cell_type": "code",
   "execution_count": 126,
   "metadata": {
    "collapsed": true
   },
   "outputs": [],
   "source": [
    "sectors = [\"dom\",\"ind\",\"irr\",\"liv\",\"tot\"]\n",
    "demand_types = [\"ww\",\"wn\"]\n",
    "supply = [\"riverdischarge\"]\n",
    "\n",
    "indicators = []\n",
    "for sector in sectors:\n",
    "    for demand_type in demand_types:\n",
    "        demand_column_name = \"p{}{}\".format(sector,demand_type)\n",
    "        indicators.append(demand_column_name)\n",
    "supply_column_names = [\"{}\".format(supply[0])]   \n",
    "indicators = indicators + supply_column_names\n"
   ]
  },
  {
   "cell_type": "code",
   "execution_count": 127,
   "metadata": {},
   "outputs": [
    {
     "data": {
      "text/plain": [
       "['pdomww',\n",
       " 'pdomwn',\n",
       " 'pindww',\n",
       " 'pindwn',\n",
       " 'pirrww',\n",
       " 'pirrwn',\n",
       " 'plivww',\n",
       " 'plivwn',\n",
       " 'ptotww',\n",
       " 'ptotwn',\n",
       " 'riverdischarge']"
      ]
     },
     "execution_count": 127,
     "metadata": {},
     "output_type": "execute_result"
    }
   ],
   "source": [
    "indicators"
   ]
  },
  {
   "cell_type": "code",
   "execution_count": 128,
   "metadata": {
    "collapsed": true
   },
   "outputs": [],
   "source": [
    "indicators_filtered = [\"ptotww\",\"ptotwn\",\"riverdischarge\"]\n",
    "#indicators_filtered = [\"ptotww\",\"pdomww\",\"pindww\",\"pirrww\",\"plivww\"]\n",
    "#indicators_filtered = [\"ptotwn\",\"pdomwn\",\"pindwn\",\"pirrwn\",\"plivwn\"]\n",
    "#indicators_filtered = [\"ptotww\",\"ptotwn\",\"riverdischarge\"]"
   ]
  },
  {
   "cell_type": "code",
   "execution_count": 129,
   "metadata": {},
   "outputs": [
    {
     "name": "stdout",
     "output_type": "stream",
     "text": [
      "9\n"
     ]
    },
    {
     "data": {
      "text/html": [
       "\n",
       "<div class=\"bk-root\">\n",
       "    <div class=\"bk-plotdiv\" id=\"fc2f5616-4c4f-480c-abea-b7bf69550ab5\"></div>\n",
       "</div>"
      ]
     },
     "metadata": {},
     "output_type": "display_data"
    },
    {
     "data": {
      "application/javascript": [
       "(function(root) {\n",
       "  function embed_document(root) {\n",
       "    \n",
       "  var docs_json = {\"52d665a4-1fff-456c-b91d-53cbf7775bb5\":{\"roots\":{\"references\":[{\"attributes\":{\"data_source\":{\"id\":\"f591b641-20a6-433e-bd92-37121f1399ec\",\"type\":\"ColumnDataSource\"},\"glyph\":{\"id\":\"23c89aa2-556f-4434-b63b-3158ad3c64d6\",\"type\":\"Line\"},\"hover_glyph\":null,\"muted_glyph\":null,\"nonselection_glyph\":{\"id\":\"3e5b4db7-bf2b-4096-8c4b-d8bfa973f4b4\",\"type\":\"Line\"},\"selection_glyph\":null,\"view\":{\"id\":\"7473d74d-8495-43e1-8916-21368fdc92e8\",\"type\":\"CDSView\"}},\"id\":\"96659516-6d3f-4861-b898-b4127608373a\",\"type\":\"GlyphRenderer\"},{\"attributes\":{\"callback\":null,\"data\":{\"x\":[1960,1961,1962,1963,1964,1965,1966,1967,1968,1969,1970,1971,1972,1973,1974,1975,1976,1977,1978,1979,1980,1981,1982,1983,1984,1985,1986,1987,1988,1989,1990,1991,1992,1993,1994,1995,1996,1997,1998,1999,2000,2001,2002,2003,2004,2005,2006,2007,2008,2009,2010,2011,2012,2013,2014],\"y\":{\"__ndarray__\":\"AfhLU0f0mj3IgO+YrNigPeSleiXaNKQ9EaL4zp30pT2rxiwhvFapPbbqOYwrVa49yjsHFPdrsT3dQLJi5Hi1PRNKXHxSMbo9WRWPtRnzuj0djqVW/+G8PXw16UBSJLg9BRIy6zv2xj1xt3uipWjaPa17HGHpxNM9T8zauViv2j3Z907erjrcPakN6LVdJto9l2FKcQo42j1Z1/l/W1bdPRswzwcwu989egwWt9tz6D2H2XsrJgfpPZzbsg+edek9rOpwDPJp7D2L7IP/icTsPefdtCTENO49v5vIiIY27z1rwJi8cRfxPcKpkC6I2fM99foQt7679z00+e6aU+L4PXx82TUChfg95U/5naED9z2e7IP/icT8Pa/zZ8rkVgI+2eY0IYbiAT76ymfTZ0YBPiOXHy+5QgE+4hrwtMeeAT7Z5jQhhuIBPjHSJzvW+gE+MdInO9b6AT4x0ic71voBPnwU/4pyBwI+MdInO9b6AT4jlx8vuUIBPmakDE/fAQY+Tfg1qidbBj7lT/mdoQMHPv/6ELe+uwc+kxmeQLrDAj71tqB5NhACPmCJBxjD9wY+UvVGNJ9EBz4=\",\"dtype\":\"float64\",\"shape\":[55]}},\"selected\":{\"id\":\"53133684-9345-4b6f-a7e5-504dcb62dc52\",\"type\":\"Selection\"},\"selection_policy\":{\"id\":\"e76ce0cd-448e-4a7f-a292-fb6b2c2041b4\",\"type\":\"UnionRenderers\"}},\"id\":\"9aac2d7d-14e7-40dd-9236-e191fab1b0ab\",\"type\":\"ColumnDataSource\"},{\"attributes\":{\"source\":{\"id\":\"26877c20-73ea-470a-9228-7b66d837c393\",\"type\":\"ColumnDataSource\"}},\"id\":\"19060ef7-58b9-4117-8b7a-9e53ba01f264\",\"type\":\"CDSView\"},{\"attributes\":{},\"id\":\"53133684-9345-4b6f-a7e5-504dcb62dc52\",\"type\":\"Selection\"},{\"attributes\":{\"label\":{\"value\":\"ma10_riverdischarge_m_30spfaf06\"},\"renderers\":[{\"id\":\"96659516-6d3f-4861-b898-b4127608373a\",\"type\":\"GlyphRenderer\"}]},\"id\":\"d0d4ecbd-a2fa-4646-9e70-6165336bca6b\",\"type\":\"LegendItem\"},{\"attributes\":{\"line_alpha\":0.1,\"line_color\":\"#1f77b4\",\"x\":{\"field\":\"x\"},\"y\":{\"field\":\"y\"}},\"id\":\"3e5b4db7-bf2b-4096-8c4b-d8bfa973f4b4\",\"type\":\"Line\"},{\"attributes\":{\"formatter\":{\"id\":\"7cca8f23-32d0-4e76-8f7e-fe001e4bcf3d\",\"type\":\"BasicTickFormatter\"},\"plot\":{\"id\":\"e68766f3-8518-48c7-8fce-97f94ec9b994\",\"subtype\":\"Figure\",\"type\":\"Plot\"},\"ticker\":{\"id\":\"4536552d-6105-4fa5-ad9c-fa002a923a88\",\"type\":\"BasicTicker\"}},\"id\":\"6c7a1bd7-3070-4270-a8b9-bfe338c65d7a\",\"type\":\"LinearAxis\"},{\"attributes\":{\"data_source\":{\"id\":\"26877c20-73ea-470a-9228-7b66d837c393\",\"type\":\"ColumnDataSource\"},\"glyph\":{\"id\":\"554e09d4-34b8-409c-ba7f-8133b4a9f1f8\",\"type\":\"Line\"},\"hover_glyph\":null,\"muted_glyph\":null,\"nonselection_glyph\":{\"id\":\"f1cb9a56-fa02-45f3-ae1f-27fa01a8f829\",\"type\":\"Line\"},\"selection_glyph\":null,\"view\":{\"id\":\"19060ef7-58b9-4117-8b7a-9e53ba01f264\",\"type\":\"CDSView\"}},\"id\":\"81c4c548-59a2-47e5-826c-929fcd36b194\",\"type\":\"GlyphRenderer\"},{\"attributes\":{\"line_alpha\":0.1,\"line_color\":\"#1f77b4\",\"x\":{\"field\":\"x\"},\"y\":{\"field\":\"y\"}},\"id\":\"740dcd95-c084-4447-abb8-439d02251ad1\",\"type\":\"Line\"},{\"attributes\":{},\"id\":\"3389e4a5-1e69-413a-b4be-87b1890a6c78\",\"type\":\"BasicTicker\"},{\"attributes\":{},\"id\":\"459c3680-3b67-4654-8327-19ab47061989\",\"type\":\"Selection\"},{\"attributes\":{\"source\":{\"id\":\"b910f62a-579a-477a-8dca-c547e00156ca\",\"type\":\"ColumnDataSource\"}},\"id\":\"6df01b9b-3546-4d8c-aa96-1baa04db30ea\",\"type\":\"CDSView\"},{\"attributes\":{},\"id\":\"24f3965c-a1ff-4fcd-a5aa-201eda93e3ca\",\"type\":\"LinearScale\"},{\"attributes\":{\"label\":{\"value\":\"ptotwn_m_30spfaf06\"},\"renderers\":[{\"id\":\"f9544c90-3326-4311-b798-1405e02c926f\",\"type\":\"GlyphRenderer\"}]},\"id\":\"c2bc0cb8-51d8-417d-9016-cb4989bca76d\",\"type\":\"LegendItem\"},{\"attributes\":{\"label\":{\"value\":\"ptotww_m_30spfaf06\"},\"renderers\":[{\"id\":\"dfa639bc-365f-4e1a-8fea-8d8f506cc2ed\",\"type\":\"GlyphRenderer\"}]},\"id\":\"fc98cd7e-5a79-44d5-9777-e89814c153e6\",\"type\":\"LegendItem\"},{\"attributes\":{\"source\":{\"id\":\"f8926085-59cb-46d6-bbfa-5cb7ad5c82c4\",\"type\":\"ColumnDataSource\"}},\"id\":\"e6e76d43-2ad1-4f4c-a666-39d115d4604f\",\"type\":\"CDSView\"},{\"attributes\":{\"callback\":null},\"id\":\"186426f5-c318-4cf4-b877-a33725256e38\",\"type\":\"DataRange1d\"},{\"attributes\":{\"line_color\":\"#ffbb78\",\"x\":{\"field\":\"x\"},\"y\":{\"field\":\"y\"}},\"id\":\"4d7d6804-cbe5-4c91-aeed-1ad02bb5d7e1\",\"type\":\"Line\"},{\"attributes\":{\"dimension\":1,\"plot\":{\"id\":\"e68766f3-8518-48c7-8fce-97f94ec9b994\",\"subtype\":\"Figure\",\"type\":\"Plot\"},\"ticker\":{\"id\":\"4536552d-6105-4fa5-ad9c-fa002a923a88\",\"type\":\"BasicTicker\"}},\"id\":\"87b3a768-b8a3-48be-8178-f8a6ad0f0107\",\"type\":\"Grid\"},{\"attributes\":{\"line_color\":\"#9467bd\",\"x\":{\"field\":\"x\"},\"y\":{\"field\":\"y\"}},\"id\":\"066616af-5220-43b2-81f4-d953c07edd10\",\"type\":\"Line\"},{\"attributes\":{\"callback\":null,\"renderers\":\"auto\",\"tooltips\":[[\"year\",\"@x\"],[\"value\",\"@y\"]]},\"id\":\"bed7dedd-9f22-49e5-a1e1-b9aadc0caed7\",\"type\":\"HoverTool\"},{\"attributes\":{\"callback\":null,\"data\":{\"x\":[1960,1961,1962,1963,1964,1965,1966,1967,1968,1969,1970,1971,1972,1973,1974,1975,1976,1977,1978,1979,1980,1981,1982,1983,1984,1985,1986,1987,1988,1989,1990,1991,1992,1993,1994,1995,1996,1997,1998,1999,2000,2001,2002,2003,2004,2005,2006,2007,2008,2009,2010,2011,2012,2013,2014],\"y\":{\"__ndarray__\":\"AAAAAAAA+H/97wqZrNigPQMA8rU+NaQ9F+YM2s9wpj0cwn5/1FSpPfun2of3Uq09BBpLQfPLsD0KU9piOL+zPQ9SA8B/Z7c9AamAlkEcuj0NYMx0oeu8Pf3oKUXGOL09/uPDKmBDwj3+4TVy/VbPPX/9T2tVtdI9/csvgOpa1z398y57Q2bbPf7O6oAzoN09Dis++nn63j31aVkaxi/gPQnBQem+uuA992Zh+aVz4z2D8gpUh7/lPYFuMYxmoug9ABAsanM16z0O/dDQGpbtPQsSTPkaxu89eZ3Ge5yc8D34tmqdwFvxPUB5egmZo/I9hpqOlMey9D18ako86yb3PfjfpxrN2Pg9eU4IR/Vo+T19HclG9rH7PYI9AbFV9P89fB9isOdpAT4DatTZTiACPsF51FoydwI+gB/G+c26Aj7CQWzoxw0DPj2lKS2UMgM+IC6noLcAAz6hEjQDclgCPssvjgdw7QE++B/XnLIVAj6UX+wvGuwBPmwD/z/HTwM+YqXDInuPBD4/6fInpdQFPgC7tUykGwc+wXpnBGleBj7EKBXwNFgFPiGtCJaSAgY+m0wplFyEBj4=\",\"dtype\":\"float64\",\"shape\":[55]}},\"selected\":{\"id\":\"459c3680-3b67-4654-8327-19ab47061989\",\"type\":\"Selection\"},\"selection_policy\":{\"id\":\"4baa7599-93c1-4553-9481-0b5345796b3c\",\"type\":\"UnionRenderers\"}},\"id\":\"2adcfa7f-1048-4d5e-8181-e001b79dc325\",\"type\":\"ColumnDataSource\"},{\"attributes\":{\"callback\":null,\"data\":{\"x\":[1960,1961,1962,1963,1964,1965,1966,1967,1968,1969,1970,1971,1972,1973,1974,1975,1976,1977,1978,1979,1980,1981,1982,1983,1984,1985,1986,1987,1988,1989,1990,1991,1992,1993,1994,1995,1996,1997,1998,1999,2000,2001,2002,2003,2004,2005,2006,2007,2008,2009,2010,2011,2012,2013,2014],\"y\":{\"__ndarray__\":\"AfhLU0f0mj3JfJVC0FKePeJgBXjj16A9MDHCDRIfoj1/tQp4mpCjPQ/pZ/sHXKU9zY823ShJpz3sTTzaPL6pPescSogPtKw98+r4HhM5rz1k6nccbtOxPawPUBvUZbM9Gr7gLtX6tj1RGfbFBznAPU3gjVgLi8M9r8nRMy8fyD3b0XrSheXMPasokJLGhtA9wuMuwVh+0j3HGHGp58DUPWjgdK5fNNc9mkFAXtZ92z29hZYBW1nfPXJcPTpo5uA9y206kMHA4j3YFOOGpEvkPQ4FPsyV5+U91BOgXeu35z3UG679Z9PpPeO/MdoxVOw9dfydMS997z0kMIzFoQLxPVaLKK/5NfI9s+5e8UE98z2deuajA7L0PVisNBnE7PY9nQIDHtX9+D008ECOyeL6PZlhntH8oPw9oe+/iv0q/j2qBHzlHl//PUpxHORTPQA+UPO7zcLPAD5WRMCLdnUBPiOUeebH0gE+/sOMPpPJAT5roopZmLkBPl3r5+W9MgI+fFudWC+1Aj4zRx4jRT8DPmp85/791AM+Ih1AzBTpAz5nmrIFOOsDPrss/E7pagQ+M8PpXwfxBD4=\",\"dtype\":\"float64\",\"shape\":[55]}},\"selected\":{\"id\":\"6f975913-f8ad-496f-9cfb-e885280ad0e0\",\"type\":\"Selection\"},\"selection_policy\":{\"id\":\"f225e53d-85c2-4f0c-93e3-fd10ed4e494a\",\"type\":\"UnionRenderers\"}},\"id\":\"b910f62a-579a-477a-8dca-c547e00156ca\",\"type\":\"ColumnDataSource\"},{\"attributes\":{\"label\":{\"value\":\"ols10_ptotwn_m_30spfaf06\"},\"renderers\":[{\"id\":\"81c4c548-59a2-47e5-826c-929fcd36b194\",\"type\":\"GlyphRenderer\"}]},\"id\":\"94962484-e6b4-4ff2-89f6-43a177f213e8\",\"type\":\"LegendItem\"},{\"attributes\":{},\"id\":\"e5622b19-388a-470d-b297-f6dffc09e065\",\"type\":\"Selection\"},{\"attributes\":{\"callback\":null,\"data\":{\"x\":[1960,1961,1962,1963,1964,1965,1966,1967,1968,1969,1970,1971,1972,1973,1974,1975,1976,1977,1978,1979,1980,1981,1982,1983,1984,1985,1986,1987,1988,1989,1990,1991,1992,1993,1994,1995,1996,1997,1998,1999,2000,2001,2002,2003,2004,2005,2006,2007,2008,2009,2010,2011,2012,2013,2014],\"y\":{\"__ndarray__\":\"AAAAAAAA+H/97wqZrNigPQMA8rU+NaQ9F+YM2s9wpj0cwn5/1FSpPfun2of3Uq09BBpLQfPLsD0KU9piOL+zPQ9SA8B/Z7c9AamAlkEcuj0NYMx0oeu8Pf3oKUXGOL09/uPDKmBDwj3+4TVy/VbPPX/9T2tVtdI9/csvgOpa1z398y57Q2bbPf7O6oAzoN09Dis++nn63j31aVkaxi/gPQnBQem+uuA992Zh+aVz4z2D8gpUh7/lPYFuMYxmoug9ABAsanM16z0O/dDQGpbtPQsSTPkaxu89eZ3Ge5yc8D34tmqdwFvxPUB5egmZo/I9hpqOlMey9D18ako86yb3PfjfpxrN2Pg9eU4IR/Vo+T19HclG9rH7PYI9AbFV9P89fB9isOdpAT4DatTZTiACPsF51FoydwI+gB/G+c26Aj7CQWzoxw0DPj2lKS2UMgM+IC6noLcAAz6hEjQDclgCPssvjgdw7QE++B/XnLIVAj6UX+wvGuwBPmwD/z/HTwM+YqXDInuPBD4/6fInpdQFPgC7tUykGwc+wXpnBGleBj7EKBXwNFgFPiGtCJaSAgY+m0wplFyEBj4=\",\"dtype\":\"float64\",\"shape\":[55]}},\"selected\":{\"id\":\"6b5de057-8df7-4d3f-9572-a2aa910feb32\",\"type\":\"Selection\"},\"selection_policy\":{\"id\":\"0bc010ad-f735-4d62-94f9-caccbe41f49a\",\"type\":\"UnionRenderers\"}},\"id\":\"26877c20-73ea-470a-9228-7b66d837c393\",\"type\":\"ColumnDataSource\"},{\"attributes\":{},\"id\":\"e226e91f-1bfb-4e7a-aba6-0142530ac80d\",\"type\":\"UnionRenderers\"},{\"attributes\":{},\"id\":\"d8d6781d-baec-415a-a93a-ea565affbf6a\",\"type\":\"PanTool\"},{\"attributes\":{\"line_color\":\"#2ca02c\",\"x\":{\"field\":\"x\"},\"y\":{\"field\":\"y\"}},\"id\":\"4a260abb-b456-4510-88b0-f037dd484daf\",\"type\":\"Line\"},{\"attributes\":{\"callback\":null,\"data\":{\"x\":[1960,1961,1962,1963,1964,1965,1966,1967,1968,1969,1970,1971,1972,1973,1974,1975,1976,1977,1978,1979,1980,1981,1982,1983,1984,1985,1986,1987,1988,1989,1990,1991,1992,1993,1994,1995,1996,1997,1998,1999,2000,2001,2002,2003,2004,2005,2006,2007,2008,2009,2010,2011,2012,2013,2014],\"y\":{\"__ndarray__\":\"AAAAAAAAAAAAAAAAAAAAAP4vCJKwGbA/Gsbl+FbNJz/Vof5rx0hKOQAAAAAAAAAAQHNHlbJmyD/F9Mk/LQ76PgAAAAAAAAAAAAAAAAAAAAAAAAAAAAAAAAAAAAAAAAAAAAAAAAAAAAAAAAAAAAAAAJiUpGI7XEA5AAAAAAAAAAAAAAAAAAAAAAAAAAAAAAAACDfhwxDIMDkAAAAAAAAAAAAAAAAAAAAAAAAAAAAAAAAtqY2kBxBAOQAAAAAAAAAAAAAAAAAAAAAAAAAAAAAAAAAAAAAAAAAAAAAAAAAAAADGqm8R8/gwOUOdb1mlcTI5AAAAAAAAAAAAAAAAAAAAAAAAAAAAAAAAyqFSk1iIJjn1cb22u5HNP8XZQMvjWUE/bfFLXK9zTTnDqNcv7m0tOQAAAAAAAAAAAAAAAAAAAAAAAAAAAAAAAAAAAAAAAAAAmKyRc9OfYD92nieoHNmsP168k7P/o+w/YVdsGoaBrz8BhBsnKpPAP20AvlCzdrg/QnOxrQmz/T8fT3eRw0e2P9fNHgG+h68/woGtcV5jsT88fWk2tG2wP5oBxMMSi0A/yCCp/AMROT8=\",\"dtype\":\"float64\",\"shape\":[55]}},\"selected\":{\"id\":\"e5622b19-388a-470d-b297-f6dffc09e065\",\"type\":\"Selection\"},\"selection_policy\":{\"id\":\"b1d7b0b9-d110-4140-bdbe-1dd8a764019d\",\"type\":\"UnionRenderers\"}},\"id\":\"f8926085-59cb-46d6-bbfa-5cb7ad5c82c4\",\"type\":\"ColumnDataSource\"},{\"attributes\":{\"data_source\":{\"id\":\"2e908218-cd12-49ee-89b4-bec8b3f97dc9\",\"type\":\"ColumnDataSource\"},\"glyph\":{\"id\":\"c95d35f8-dbde-4bbf-98b0-746b687039c8\",\"type\":\"Line\"},\"hover_glyph\":null,\"muted_glyph\":null,\"nonselection_glyph\":{\"id\":\"378a3c40-ec4b-40e0-b531-5c6bac65fe39\",\"type\":\"Line\"},\"selection_glyph\":null,\"view\":{\"id\":\"31556f3e-8fd3-4ee6-af0d-1fa357b8287c\",\"type\":\"CDSView\"}},\"id\":\"dfa639bc-365f-4e1a-8fea-8d8f506cc2ed\",\"type\":\"GlyphRenderer\"},{\"attributes\":{},\"id\":\"75e10507-53d2-4ff4-b65b-26a2915e53b4\",\"type\":\"Selection\"},{\"attributes\":{\"callback\":null,\"data\":{\"x\":[1960,1961,1962,1963,1964,1965,1966,1967,1968,1969,1970,1971,1972,1973,1974,1975,1976,1977,1978,1979,1980,1981,1982,1983,1984,1985,1986,1987,1988,1989,1990,1991,1992,1993,1994,1995,1996,1997,1998,1999,2000,2001,2002,2003,2004,2005,2006,2007,2008,2009,2010,2011,2012,2013,2014],\"y\":{\"__ndarray__\":\"AAAAAAAA+H8AAAAAAAAAAAZY7J171ao//O/TyQbkmT+GmcV0yeiJPwGSoOUBtng//mG9g2g9tz8COamlIkawPwGJEFvEJqc/hMj0AX+UoD8C/6tQ7vySPwHQrXV6Q3M/AzDMxEcxbD8A+OMlaWR8vwbMKidKv5G/DEzXBHplnL/1O2IEqVHOvhnGpkn5yxc58pKUq2HsIzn16Bj42AsdOQDC/5juPhI59vuJ5xDI/TjH9SDMoIQkOfzzPxsAOhc5FHlKb+qXHzlHuWGIQOwUOf49/EItgQQ5/H+6W9HEurjpLmArC8oZOXSL59IVSCQ5B5iW96nTGTkFYqmSUC4GOWiHwwjmDRY5GdIRjyLlHTn+Tq1d/220PwFmh00yQLE//rGydAcJrD8CT05OqpGlP3MM4U+aNJ4/dcEoA+BFkT//h3/ZllxxPwG4oywpL4G/DvBPqojOlL/97/7ZrNeLvwOGYxvk3NQ/AfkneWrm0j/+RDodUDjSP/cClFZyVtA/AThrvymG6j8ClIiz+BTmPwICbjLeNOE/vT8qzmCW2D8ECGiWge/MP/u/onOnWas/+WcovlRgqj8=\",\"dtype\":\"float64\",\"shape\":[55]}},\"selected\":{\"id\":\"da6736a3-2a52-4642-871d-dd944fa13456\",\"type\":\"Selection\"},\"selection_policy\":{\"id\":\"d9bea23c-ac8c-4827-be92-3ec2d67927da\",\"type\":\"UnionRenderers\"}},\"id\":\"e707c18a-bc39-4100-b109-27f37c0d1675\",\"type\":\"ColumnDataSource\"},{\"attributes\":{},\"id\":\"a73aeb15-3934-428a-8349-acc537f4140f\",\"type\":\"WheelZoomTool\"},{\"attributes\":{\"line_alpha\":0.1,\"line_color\":\"#1f77b4\",\"x\":{\"field\":\"x\"},\"y\":{\"field\":\"y\"}},\"id\":\"fbf2a16a-66f1-437a-a758-83a653607727\",\"type\":\"Line\"},{\"attributes\":{},\"id\":\"d9bea23c-ac8c-4827-be92-3ec2d67927da\",\"type\":\"UnionRenderers\"},{\"attributes\":{\"data_source\":{\"id\":\"2adcfa7f-1048-4d5e-8181-e001b79dc325\",\"type\":\"ColumnDataSource\"},\"glyph\":{\"id\":\"3056feda-287c-4472-a111-e667c42eaa50\",\"type\":\"Line\"},\"hover_glyph\":null,\"muted_glyph\":null,\"nonselection_glyph\":{\"id\":\"2de42571-0990-4849-bbfb-1c1170fd438e\",\"type\":\"Line\"},\"selection_glyph\":null,\"view\":{\"id\":\"850b9fa1-6aaa-443a-99dc-3c0f2255ced9\",\"type\":\"CDSView\"}},\"id\":\"b9423527-8eb5-49a3-b795-1a76263eb9a3\",\"type\":\"GlyphRenderer\"},{\"attributes\":{\"line_alpha\":0.1,\"line_color\":\"#1f77b4\",\"x\":{\"field\":\"x\"},\"y\":{\"field\":\"y\"}},\"id\":\"564df9f0-4dda-4bc2-90a5-309b2233b101\",\"type\":\"Line\"},{\"attributes\":{\"source\":{\"id\":\"9aac2d7d-14e7-40dd-9236-e191fab1b0ab\",\"type\":\"ColumnDataSource\"}},\"id\":\"fb114b04-87e5-442f-9f99-7111b7a60a42\",\"type\":\"CDSView\"},{\"attributes\":{\"line_alpha\":0.1,\"line_color\":\"#1f77b4\",\"x\":{\"field\":\"x\"},\"y\":{\"field\":\"y\"}},\"id\":\"2de42571-0990-4849-bbfb-1c1170fd438e\",\"type\":\"Line\"},{\"attributes\":{\"data_source\":{\"id\":\"9aac2d7d-14e7-40dd-9236-e191fab1b0ab\",\"type\":\"ColumnDataSource\"},\"glyph\":{\"id\":\"6ff7931e-9249-43f8-9515-a3d4542212e7\",\"type\":\"Line\"},\"hover_glyph\":null,\"muted_glyph\":null,\"nonselection_glyph\":{\"id\":\"80bedab4-d5f1-4183-89f0-d9b295d7c54c\",\"type\":\"Line\"},\"selection_glyph\":null,\"view\":{\"id\":\"fb114b04-87e5-442f-9f99-7111b7a60a42\",\"type\":\"CDSView\"}},\"id\":\"f9544c90-3326-4311-b798-1405e02c926f\",\"type\":\"GlyphRenderer\"},{\"attributes\":{},\"id\":\"2ba8fab8-2a6f-40b9-920d-504021630b61\",\"type\":\"ResetTool\"},{\"attributes\":{\"label\":{\"value\":\"ols10_ptotww_m_30spfaf06\"},\"renderers\":[{\"id\":\"b9423527-8eb5-49a3-b795-1a76263eb9a3\",\"type\":\"GlyphRenderer\"}]},\"id\":\"1d536ebc-0314-4fec-a5c2-0f24aee448ce\",\"type\":\"LegendItem\"},{\"attributes\":{},\"id\":\"2510bb79-da24-4157-810e-d4972276eca4\",\"type\":\"BasicTickFormatter\"},{\"attributes\":{},\"id\":\"4baa7599-93c1-4553-9481-0b5345796b3c\",\"type\":\"UnionRenderers\"},{\"attributes\":{\"line_alpha\":0.1,\"line_color\":\"#1f77b4\",\"x\":{\"field\":\"x\"},\"y\":{\"field\":\"y\"}},\"id\":\"378a3c40-ec4b-40e0-b531-5c6bac65fe39\",\"type\":\"Line\"},{\"attributes\":{\"line_color\":\"#ff9896\",\"x\":{\"field\":\"x\"},\"y\":{\"field\":\"y\"}},\"id\":\"554e09d4-34b8-409c-ba7f-8133b4a9f1f8\",\"type\":\"Line\"},{\"attributes\":{\"source\":{\"id\":\"2e908218-cd12-49ee-89b4-bec8b3f97dc9\",\"type\":\"ColumnDataSource\"}},\"id\":\"31556f3e-8fd3-4ee6-af0d-1fa357b8287c\",\"type\":\"CDSView\"},{\"attributes\":{},\"id\":\"0bc010ad-f735-4d62-94f9-caccbe41f49a\",\"type\":\"UnionRenderers\"},{\"attributes\":{},\"id\":\"e2833533-3bfc-4363-8cfb-d13576f7965e\",\"type\":\"Selection\"},{\"attributes\":{\"line_alpha\":0.1,\"line_color\":\"#1f77b4\",\"x\":{\"field\":\"x\"},\"y\":{\"field\":\"y\"}},\"id\":\"f1cb9a56-fa02-45f3-ae1f-27fa01a8f829\",\"type\":\"Line\"},{\"attributes\":{\"label\":{\"value\":\"ols10_riverdischarge_m_30spfaf06\"},\"renderers\":[{\"id\":\"b64184b1-0fcb-4b08-b1c1-e6c5ea1efe0e\",\"type\":\"GlyphRenderer\"}]},\"id\":\"4f70a6a4-471b-46fa-b74a-6001e4886ead\",\"type\":\"LegendItem\"},{\"attributes\":{},\"id\":\"e76ce0cd-448e-4a7f-a292-fb6b2c2041b4\",\"type\":\"UnionRenderers\"},{\"attributes\":{\"source\":{\"id\":\"e707c18a-bc39-4100-b109-27f37c0d1675\",\"type\":\"ColumnDataSource\"}},\"id\":\"a5ac627b-b0e2-4473-93cc-46ab86149976\",\"type\":\"CDSView\"},{\"attributes\":{\"data_source\":{\"id\":\"f8926085-59cb-46d6-bbfa-5cb7ad5c82c4\",\"type\":\"ColumnDataSource\"},\"glyph\":{\"id\":\"fc2c597e-5e45-4874-b19e-78d4352316fa\",\"type\":\"Line\"},\"hover_glyph\":null,\"muted_glyph\":null,\"nonselection_glyph\":{\"id\":\"564df9f0-4dda-4bc2-90a5-309b2233b101\",\"type\":\"Line\"},\"selection_glyph\":null,\"view\":{\"id\":\"e6e76d43-2ad1-4f4c-a666-39d115d4604f\",\"type\":\"CDSView\"}},\"id\":\"b2f66189-ce5a-4433-a538-7e43a00e85f7\",\"type\":\"GlyphRenderer\"},{\"attributes\":{\"line_color\":\"#ff7f0e\",\"x\":{\"field\":\"x\"},\"y\":{\"field\":\"y\"}},\"id\":\"fc2c597e-5e45-4874-b19e-78d4352316fa\",\"type\":\"Line\"},{\"attributes\":{\"overlay\":{\"id\":\"062df3ab-a2f4-4bfb-a396-030d5a15b42e\",\"type\":\"BoxAnnotation\"}},\"id\":\"02495cdb-2207-45eb-a00b-618cfcf4994e\",\"type\":\"BoxZoomTool\"},{\"attributes\":{\"label\":{\"value\":\"ma10_ptotwn_m_30spfaf06\"},\"renderers\":[{\"id\":\"abb29671-a073-4b42-9ead-6392cf6570ee\",\"type\":\"GlyphRenderer\"}]},\"id\":\"2847d531-9c63-4ef0-8160-6c0aefaf0b0e\",\"type\":\"LegendItem\"},{\"attributes\":{\"callback\":null},\"id\":\"bbbc09ae-28b2-49c1-8e73-3a030515ab26\",\"type\":\"DataRange1d\"},{\"attributes\":{},\"id\":\"b1d7b0b9-d110-4140-bdbe-1dd8a764019d\",\"type\":\"UnionRenderers\"},{\"attributes\":{},\"id\":\"bc94e399-8dc5-4ac0-8f51-fde723048ad3\",\"type\":\"UnionRenderers\"},{\"attributes\":{\"callback\":null,\"data\":{\"x\":[1960,1961,1962,1963,1964,1965,1966,1967,1968,1969,1970,1971,1972,1973,1974,1975,1976,1977,1978,1979,1980,1981,1982,1983,1984,1985,1986,1987,1988,1989,1990,1991,1992,1993,1994,1995,1996,1997,1998,1999,2000,2001,2002,2003,2004,2005,2006,2007,2008,2009,2010,2011,2012,2013,2014],\"y\":{\"__ndarray__\":\"AAAAAAAAAAAAAAAAAAAAALHqChiWd5U/4KKEPZclkD/kN9TIvtWJP4AuBlJ0h4U/hblOQpGOoj9z4blSJz2gPxYf9ct+3pw/hTX2HXL7mT+FNfYdcvuZP4U19h1y+5k/+Lu/FsWKkz+MJ8FrAoaTP4wnwWsChpM/jCfBawKGkz8E9wczJNjEPiZUB9ErLQo544yqAwPNEznjjKoDA80TOeOMqgMDzRM544yqAwPNEzm5I0FdUVMgObkjQV1RUyA5Wp3+0QyQEzlanf7RDJATOVqd/tEMkBM5Wp3+0QyQEzna/p2KmqMTORakyhRDBBs5FqTKFEMEGzkWpMoUQwQbOTvT5btGVQw5/wmdrk6sEjnE9P1eyaeXP3b1BuKqtZc/dvUG4qq1lz929QbiqrWXP3b1BuKqtZc/dvUG4qq1lz929QbiqrWXP3b1BuKqtZc/6Pqrht3qlz+CGudB46+dP7t5MNWfa7g/dKTzKG77uT/b8cUwEEy9P5eLclJVvr8/zZ3jZszQ0z+hzLl9ZF/UP4+V8BBKxNQ/Lx/I05Iz1T+iC9oqZJnVP82JFpDnPdU/kZ2+S0MIzz8=\",\"dtype\":\"float64\",\"shape\":[55]}},\"selected\":{\"id\":\"3eecbd49-411f-4afd-90db-5b705cf6a79d\",\"type\":\"Selection\"},\"selection_policy\":{\"id\":\"0dc5372c-7b95-4d23-99c1-eaace5fb7d16\",\"type\":\"UnionRenderers\"}},\"id\":\"f591b641-20a6-433e-bd92-37121f1399ec\",\"type\":\"ColumnDataSource\"},{\"attributes\":{\"line_color\":\"#1f77b4\",\"x\":{\"field\":\"x\"},\"y\":{\"field\":\"y\"}},\"id\":\"c95d35f8-dbde-4bbf-98b0-746b687039c8\",\"type\":\"Line\"},{\"attributes\":{},\"id\":\"7cca8f23-32d0-4e76-8f7e-fe001e4bcf3d\",\"type\":\"BasicTickFormatter\"},{\"attributes\":{\"callback\":null,\"data\":{\"x\":[1960,1961,1962,1963,1964,1965,1966,1967,1968,1969,1970,1971,1972,1973,1974,1975,1976,1977,1978,1979,1980,1981,1982,1983,1984,1985,1986,1987,1988,1989,1990,1991,1992,1993,1994,1995,1996,1997,1998,1999,2000,2001,2002,2003,2004,2005,2006,2007,2008,2009,2010,2011,2012,2013,2014],\"y\":{\"__ndarray__\":\"AfhLU0f0mj3IgO+YrNigPeSleiXaNKQ9EaL4zp30pT2rxiwhvFapPbbqOYwrVa49yjsHFPdrsT3dQLJi5Hi1PRNKXHxSMbo9WRWPtRnzuj0djqVW/+G8PXw16UBSJLg9BRIy6zv2xj1xt3uipWjaPa17HGHpxNM9T8zauViv2j3Z907erjrcPakN6LVdJto9l2FKcQo42j1Z1/l/W1bdPRswzwcwu989egwWt9tz6D2H2XsrJgfpPZzbsg+edek9rOpwDPJp7D2L7IP/icTsPefdtCTENO49v5vIiIY27z1rwJi8cRfxPcKpkC6I2fM99foQt7679z00+e6aU+L4PXx82TUChfg95U/5naED9z2e7IP/icT8Pa/zZ8rkVgI+2eY0IYbiAT76ymfTZ0YBPiOXHy+5QgE+4hrwtMeeAT7Z5jQhhuIBPjHSJzvW+gE+MdInO9b6AT4x0ic71voBPnwU/4pyBwI+MdInO9b6AT4jlx8vuUIBPmakDE/fAQY+Tfg1qidbBj7lT/mdoQMHPv/6ELe+uwc+kxmeQLrDAj71tqB5NhACPmCJBxjD9wY+UvVGNJ9EBz4=\",\"dtype\":\"float64\",\"shape\":[55]}},\"selected\":{\"id\":\"75e10507-53d2-4ff4-b65b-26a2915e53b4\",\"type\":\"Selection\"},\"selection_policy\":{\"id\":\"e226e91f-1bfb-4e7a-aba6-0142530ac80d\",\"type\":\"UnionRenderers\"}},\"id\":\"2e908218-cd12-49ee-89b4-bec8b3f97dc9\",\"type\":\"ColumnDataSource\"},{\"attributes\":{},\"id\":\"81d5aaa0-255a-4f37-9ac5-5d34bd46dfa8\",\"type\":\"SaveTool\"},{\"attributes\":{},\"id\":\"2007d948-80aa-4a34-ada8-c7b8ab4344ec\",\"type\":\"HelpTool\"},{\"attributes\":{},\"id\":\"6f975913-f8ad-496f-9cfb-e885280ad0e0\",\"type\":\"Selection\"},{\"attributes\":{\"data_source\":{\"id\":\"e707c18a-bc39-4100-b109-27f37c0d1675\",\"type\":\"ColumnDataSource\"},\"glyph\":{\"id\":\"066616af-5220-43b2-81f4-d953c07edd10\",\"type\":\"Line\"},\"hover_glyph\":null,\"muted_glyph\":null,\"nonselection_glyph\":{\"id\":\"740dcd95-c084-4447-abb8-439d02251ad1\",\"type\":\"Line\"},\"selection_glyph\":null,\"view\":{\"id\":\"a5ac627b-b0e2-4473-93cc-46ab86149976\",\"type\":\"CDSView\"}},\"id\":\"b64184b1-0fcb-4b08-b1c1-e6c5ea1efe0e\",\"type\":\"GlyphRenderer\"},{\"attributes\":{\"callback\":null,\"data\":{\"x\":[1960,1961,1962,1963,1964,1965,1966,1967,1968,1969,1970,1971,1972,1973,1974,1975,1976,1977,1978,1979,1980,1981,1982,1983,1984,1985,1986,1987,1988,1989,1990,1991,1992,1993,1994,1995,1996,1997,1998,1999,2000,2001,2002,2003,2004,2005,2006,2007,2008,2009,2010,2011,2012,2013,2014],\"y\":{\"__ndarray__\":\"AfhLU0f0mj3JfJVC0FKePeJgBXjj16A9MDHCDRIfoj1/tQp4mpCjPQ/pZ/sHXKU9zY823ShJpz3sTTzaPL6pPescSogPtKw98+r4HhM5rz1k6nccbtOxPawPUBvUZbM9Gr7gLtX6tj1RGfbFBznAPU3gjVgLi8M9r8nRMy8fyD3b0XrSheXMPasokJLGhtA9wuMuwVh+0j3HGHGp58DUPWjgdK5fNNc9mkFAXtZ92z29hZYBW1nfPXJcPTpo5uA9y206kMHA4j3YFOOGpEvkPQ4FPsyV5+U91BOgXeu35z3UG679Z9PpPeO/MdoxVOw9dfydMS997z0kMIzFoQLxPVaLKK/5NfI9s+5e8UE98z2deuajA7L0PVisNBnE7PY9nQIDHtX9+D008ECOyeL6PZlhntH8oPw9oe+/iv0q/j2qBHzlHl//PUpxHORTPQA+UPO7zcLPAD5WRMCLdnUBPiOUeebH0gE+/sOMPpPJAT5roopZmLkBPl3r5+W9MgI+fFudWC+1Aj4zRx4jRT8DPmp85/791AM+Ih1AzBTpAz5nmrIFOOsDPrss/E7pagQ+M8PpXwfxBD4=\",\"dtype\":\"float64\",\"shape\":[55]}},\"selected\":{\"id\":\"e2833533-3bfc-4363-8cfb-d13576f7965e\",\"type\":\"Selection\"},\"selection_policy\":{\"id\":\"bc94e399-8dc5-4ac0-8f51-fde723048ad3\",\"type\":\"UnionRenderers\"}},\"id\":\"37aa2722-e9f9-4273-a981-9984a8b2a9ab\",\"type\":\"ColumnDataSource\"},{\"attributes\":{\"below\":[{\"id\":\"02ad7938-b041-427d-ad21-ae9f879d000f\",\"type\":\"LinearAxis\"}],\"left\":[{\"id\":\"6c7a1bd7-3070-4270-a8b9-bfe338c65d7a\",\"type\":\"LinearAxis\"}],\"plot_height\":800,\"plot_width\":900,\"renderers\":[{\"id\":\"02ad7938-b041-427d-ad21-ae9f879d000f\",\"type\":\"LinearAxis\"},{\"id\":\"58db0d8d-5431-4566-a44d-6f59c157a31d\",\"type\":\"Grid\"},{\"id\":\"6c7a1bd7-3070-4270-a8b9-bfe338c65d7a\",\"type\":\"LinearAxis\"},{\"id\":\"87b3a768-b8a3-48be-8178-f8a6ad0f0107\",\"type\":\"Grid\"},{\"id\":\"062df3ab-a2f4-4bfb-a396-030d5a15b42e\",\"type\":\"BoxAnnotation\"},{\"id\":\"c927f6fd-ae1a-4048-84c0-80d53d555f7b\",\"type\":\"Legend\"},{\"id\":\"dfa639bc-365f-4e1a-8fea-8d8f506cc2ed\",\"type\":\"GlyphRenderer\"},{\"id\":\"f9544c90-3326-4311-b798-1405e02c926f\",\"type\":\"GlyphRenderer\"},{\"id\":\"b2f66189-ce5a-4433-a538-7e43a00e85f7\",\"type\":\"GlyphRenderer\"},{\"id\":\"ddfee629-3320-480d-b76a-4340ccd85620\",\"type\":\"GlyphRenderer\"},{\"id\":\"abb29671-a073-4b42-9ead-6392cf6570ee\",\"type\":\"GlyphRenderer\"},{\"id\":\"96659516-6d3f-4861-b898-b4127608373a\",\"type\":\"GlyphRenderer\"},{\"id\":\"b9423527-8eb5-49a3-b795-1a76263eb9a3\",\"type\":\"GlyphRenderer\"},{\"id\":\"81c4c548-59a2-47e5-826c-929fcd36b194\",\"type\":\"GlyphRenderer\"},{\"id\":\"b64184b1-0fcb-4b08-b1c1-e6c5ea1efe0e\",\"type\":\"GlyphRenderer\"}],\"title\":{\"id\":\"f0bc4e78-78f2-4371-9450-a47aea26eaa5\",\"type\":\"Title\"},\"toolbar\":{\"id\":\"d0ac950a-0012-4009-be43-f556d421366f\",\"type\":\"Toolbar\"},\"x_range\":{\"id\":\"bbbc09ae-28b2-49c1-8e73-3a030515ab26\",\"type\":\"DataRange1d\"},\"x_scale\":{\"id\":\"9a288673-617a-4bf1-8b1f-84df72707cd9\",\"type\":\"LinearScale\"},\"y_range\":{\"id\":\"186426f5-c318-4cf4-b877-a33725256e38\",\"type\":\"DataRange1d\"},\"y_scale\":{\"id\":\"24f3965c-a1ff-4fcd-a5aa-201eda93e3ca\",\"type\":\"LinearScale\"}},\"id\":\"e68766f3-8518-48c7-8fce-97f94ec9b994\",\"subtype\":\"Figure\",\"type\":\"Plot\"},{\"attributes\":{\"plot\":null,\"text\":\"\"},\"id\":\"f0bc4e78-78f2-4371-9450-a47aea26eaa5\",\"type\":\"Title\"},{\"attributes\":{\"data_source\":{\"id\":\"37aa2722-e9f9-4273-a981-9984a8b2a9ab\",\"type\":\"ColumnDataSource\"},\"glyph\":{\"id\":\"4d7d6804-cbe5-4c91-aeed-1ad02bb5d7e1\",\"type\":\"Line\"},\"hover_glyph\":null,\"muted_glyph\":null,\"nonselection_glyph\":{\"id\":\"fbf2a16a-66f1-437a-a758-83a653607727\",\"type\":\"Line\"},\"selection_glyph\":null,\"view\":{\"id\":\"539a3e47-3f47-4f23-89d3-c831ae4b7b03\",\"type\":\"CDSView\"}},\"id\":\"ddfee629-3320-480d-b76a-4340ccd85620\",\"type\":\"GlyphRenderer\"},{\"attributes\":{},\"id\":\"9a288673-617a-4bf1-8b1f-84df72707cd9\",\"type\":\"LinearScale\"},{\"attributes\":{\"line_alpha\":0.1,\"line_color\":\"#1f77b4\",\"x\":{\"field\":\"x\"},\"y\":{\"field\":\"y\"}},\"id\":\"80bedab4-d5f1-4183-89f0-d9b295d7c54c\",\"type\":\"Line\"},{\"attributes\":{},\"id\":\"4536552d-6105-4fa5-ad9c-fa002a923a88\",\"type\":\"BasicTicker\"},{\"attributes\":{\"source\":{\"id\":\"2adcfa7f-1048-4d5e-8181-e001b79dc325\",\"type\":\"ColumnDataSource\"}},\"id\":\"850b9fa1-6aaa-443a-99dc-3c0f2255ced9\",\"type\":\"CDSView\"},{\"attributes\":{\"label\":{\"value\":\"riverdischarge_m_30spfaf06\"},\"renderers\":[{\"id\":\"b2f66189-ce5a-4433-a538-7e43a00e85f7\",\"type\":\"GlyphRenderer\"}]},\"id\":\"4190fe4e-e0ca-4d61-a0cd-55b0c3ebacb1\",\"type\":\"LegendItem\"},{\"attributes\":{},\"id\":\"f225e53d-85c2-4f0c-93e3-fd10ed4e494a\",\"type\":\"UnionRenderers\"},{\"attributes\":{},\"id\":\"6b5de057-8df7-4d3f-9572-a2aa910feb32\",\"type\":\"Selection\"},{\"attributes\":{\"line_alpha\":0.1,\"line_color\":\"#1f77b4\",\"x\":{\"field\":\"x\"},\"y\":{\"field\":\"y\"}},\"id\":\"0cf6060c-0da6-4d67-b76a-c91b0dbb0b54\",\"type\":\"Line\"},{\"attributes\":{\"source\":{\"id\":\"f591b641-20a6-433e-bd92-37121f1399ec\",\"type\":\"ColumnDataSource\"}},\"id\":\"7473d74d-8495-43e1-8916-21368fdc92e8\",\"type\":\"CDSView\"},{\"attributes\":{\"bottom_units\":\"screen\",\"fill_alpha\":{\"value\":0.5},\"fill_color\":{\"value\":\"lightgrey\"},\"left_units\":\"screen\",\"level\":\"overlay\",\"line_alpha\":{\"value\":1.0},\"line_color\":{\"value\":\"black\"},\"line_dash\":[4,4],\"line_width\":{\"value\":2},\"plot\":null,\"render_mode\":\"css\",\"right_units\":\"screen\",\"top_units\":\"screen\"},\"id\":\"062df3ab-a2f4-4bfb-a396-030d5a15b42e\",\"type\":\"BoxAnnotation\"},{\"attributes\":{\"plot\":{\"id\":\"e68766f3-8518-48c7-8fce-97f94ec9b994\",\"subtype\":\"Figure\",\"type\":\"Plot\"},\"ticker\":{\"id\":\"3389e4a5-1e69-413a-b4be-87b1890a6c78\",\"type\":\"BasicTicker\"}},\"id\":\"58db0d8d-5431-4566-a44d-6f59c157a31d\",\"type\":\"Grid\"},{\"attributes\":{\"formatter\":{\"id\":\"2510bb79-da24-4157-810e-d4972276eca4\",\"type\":\"BasicTickFormatter\"},\"plot\":{\"id\":\"e68766f3-8518-48c7-8fce-97f94ec9b994\",\"subtype\":\"Figure\",\"type\":\"Plot\"},\"ticker\":{\"id\":\"3389e4a5-1e69-413a-b4be-87b1890a6c78\",\"type\":\"BasicTicker\"}},\"id\":\"02ad7938-b041-427d-ad21-ae9f879d000f\",\"type\":\"LinearAxis\"},{\"attributes\":{\"data_source\":{\"id\":\"b910f62a-579a-477a-8dca-c547e00156ca\",\"type\":\"ColumnDataSource\"},\"glyph\":{\"id\":\"4a260abb-b456-4510-88b0-f037dd484daf\",\"type\":\"Line\"},\"hover_glyph\":null,\"muted_glyph\":null,\"nonselection_glyph\":{\"id\":\"0cf6060c-0da6-4d67-b76a-c91b0dbb0b54\",\"type\":\"Line\"},\"selection_glyph\":null,\"view\":{\"id\":\"6df01b9b-3546-4d8c-aa96-1baa04db30ea\",\"type\":\"CDSView\"}},\"id\":\"abb29671-a073-4b42-9ead-6392cf6570ee\",\"type\":\"GlyphRenderer\"},{\"attributes\":{\"line_color\":\"#98df8a\",\"x\":{\"field\":\"x\"},\"y\":{\"field\":\"y\"}},\"id\":\"23c89aa2-556f-4434-b63b-3158ad3c64d6\",\"type\":\"Line\"},{\"attributes\":{},\"id\":\"0dc5372c-7b95-4d23-99c1-eaace5fb7d16\",\"type\":\"UnionRenderers\"},{\"attributes\":{\"click_policy\":\"hide\",\"items\":[{\"id\":\"fc98cd7e-5a79-44d5-9777-e89814c153e6\",\"type\":\"LegendItem\"},{\"id\":\"c2bc0cb8-51d8-417d-9016-cb4989bca76d\",\"type\":\"LegendItem\"},{\"id\":\"4190fe4e-e0ca-4d61-a0cd-55b0c3ebacb1\",\"type\":\"LegendItem\"},{\"id\":\"3e546874-b12f-4387-87ce-a93761fe66b5\",\"type\":\"LegendItem\"},{\"id\":\"2847d531-9c63-4ef0-8160-6c0aefaf0b0e\",\"type\":\"LegendItem\"},{\"id\":\"d0d4ecbd-a2fa-4646-9e70-6165336bca6b\",\"type\":\"LegendItem\"},{\"id\":\"1d536ebc-0314-4fec-a5c2-0f24aee448ce\",\"type\":\"LegendItem\"},{\"id\":\"94962484-e6b4-4ff2-89f6-43a177f213e8\",\"type\":\"LegendItem\"},{\"id\":\"4f70a6a4-471b-46fa-b74a-6001e4886ead\",\"type\":\"LegendItem\"}],\"location\":\"top_left\",\"plot\":{\"id\":\"e68766f3-8518-48c7-8fce-97f94ec9b994\",\"subtype\":\"Figure\",\"type\":\"Plot\"}},\"id\":\"c927f6fd-ae1a-4048-84c0-80d53d555f7b\",\"type\":\"Legend\"},{\"attributes\":{\"line_color\":\"#aec7e8\",\"x\":{\"field\":\"x\"},\"y\":{\"field\":\"y\"}},\"id\":\"6ff7931e-9249-43f8-9515-a3d4542212e7\",\"type\":\"Line\"},{\"attributes\":{},\"id\":\"da6736a3-2a52-4642-871d-dd944fa13456\",\"type\":\"Selection\"},{\"attributes\":{\"active_drag\":\"auto\",\"active_inspect\":\"auto\",\"active_scroll\":\"auto\",\"active_tap\":\"auto\",\"tools\":[{\"id\":\"d8d6781d-baec-415a-a93a-ea565affbf6a\",\"type\":\"PanTool\"},{\"id\":\"a73aeb15-3934-428a-8349-acc537f4140f\",\"type\":\"WheelZoomTool\"},{\"id\":\"02495cdb-2207-45eb-a00b-618cfcf4994e\",\"type\":\"BoxZoomTool\"},{\"id\":\"81d5aaa0-255a-4f37-9ac5-5d34bd46dfa8\",\"type\":\"SaveTool\"},{\"id\":\"2ba8fab8-2a6f-40b9-920d-504021630b61\",\"type\":\"ResetTool\"},{\"id\":\"2007d948-80aa-4a34-ada8-c7b8ab4344ec\",\"type\":\"HelpTool\"},{\"id\":\"bed7dedd-9f22-49e5-a1e1-b9aadc0caed7\",\"type\":\"HoverTool\"}]},\"id\":\"d0ac950a-0012-4009-be43-f556d421366f\",\"type\":\"Toolbar\"},{\"attributes\":{},\"id\":\"3eecbd49-411f-4afd-90db-5b705cf6a79d\",\"type\":\"Selection\"},{\"attributes\":{\"line_color\":\"#d62728\",\"x\":{\"field\":\"x\"},\"y\":{\"field\":\"y\"}},\"id\":\"3056feda-287c-4472-a111-e667c42eaa50\",\"type\":\"Line\"},{\"attributes\":{\"source\":{\"id\":\"37aa2722-e9f9-4273-a981-9984a8b2a9ab\",\"type\":\"ColumnDataSource\"}},\"id\":\"539a3e47-3f47-4f23-89d3-c831ae4b7b03\",\"type\":\"CDSView\"},{\"attributes\":{\"label\":{\"value\":\"ma10_ptotww_m_30spfaf06\"},\"renderers\":[{\"id\":\"ddfee629-3320-480d-b76a-4340ccd85620\",\"type\":\"GlyphRenderer\"}]},\"id\":\"3e546874-b12f-4387-87ce-a93761fe66b5\",\"type\":\"LegendItem\"}],\"root_ids\":[\"e68766f3-8518-48c7-8fce-97f94ec9b994\"]},\"title\":\"Bokeh Application\",\"version\":\"0.12.16\"}};\n",
       "  var render_items = [{\"docid\":\"52d665a4-1fff-456c-b91d-53cbf7775bb5\",\"elementid\":\"fc2f5616-4c4f-480c-abea-b7bf69550ab5\",\"modelid\":\"e68766f3-8518-48c7-8fce-97f94ec9b994\"}];\n",
       "  root.Bokeh.embed.embed_items_notebook(docs_json, render_items);\n",
       "\n",
       "  }\n",
       "  if (root.Bokeh !== undefined) {\n",
       "    embed_document(root);\n",
       "  } else {\n",
       "    var attempts = 0;\n",
       "    var timer = setInterval(function(root) {\n",
       "      if (root.Bokeh !== undefined) {\n",
       "        embed_document(root);\n",
       "        clearInterval(timer);\n",
       "      }\n",
       "      attempts++;\n",
       "      if (attempts > 100) {\n",
       "        console.log(\"Bokeh: ERROR: Unable to run BokehJS code because BokehJS library is missing\")\n",
       "        clearInterval(timer);\n",
       "      }\n",
       "    }, 10, root)\n",
       "  }\n",
       "})(window);"
      ],
      "application/vnd.bokehjs_exec.v0+json": ""
     },
     "metadata": {
      "application/vnd.bokehjs_exec.v0+json": {
       "id": "e68766f3-8518-48c7-8fce-97f94ec9b994"
      }
     },
     "output_type": "display_data"
    }
   ],
   "source": [
    "# number of lines =< 20\n",
    "\n",
    "p = plot(indicators_filtered,df_og,1,1,1)\n",
    "show(p)"
   ]
  },
  {
   "cell_type": "code",
   "execution_count": null,
   "metadata": {
    "collapsed": true
   },
   "outputs": [],
   "source": []
  },
  {
   "cell_type": "code",
   "execution_count": null,
   "metadata": {
    "collapsed": true
   },
   "outputs": [],
   "source": []
  },
  {
   "cell_type": "code",
   "execution_count": null,
   "metadata": {
    "collapsed": true
   },
   "outputs": [],
   "source": []
  },
  {
   "cell_type": "code",
   "execution_count": null,
   "metadata": {
    "collapsed": true
   },
   "outputs": [],
   "source": []
  },
  {
   "cell_type": "code",
   "execution_count": null,
   "metadata": {
    "collapsed": true
   },
   "outputs": [],
   "source": []
  },
  {
   "cell_type": "markdown",
   "metadata": {},
   "source": [
    "# Regression\n",
    "\n",
    "there are multiple options for linear regression. \n",
    "\n",
    "1. Withdrawal and river discharge separately: Use a moving window of 10 years, perform ols regression and determine the final year for each window.\n",
    "    Probably requires some thresholds for basins with a small number of valid years. (e.g. capped at max value, and minimum 0?)\n",
    "1. Use a linear trend for demand and a moving average for riverdischarge\n",
    "\n",
    "\n",
    "\n",
    "\n"
   ]
  },
  {
   "cell_type": "code",
   "execution_count": null,
   "metadata": {
    "collapsed": true
   },
   "outputs": [],
   "source": [
    "sql_reg = (\"SELECT year,month,pfafid_30spfaf06, temporal_resolution,ptotww_m_30spfaf06 \"\n",
    "\"FROM y2018m05d29_rh_total_demand_postgis_30spfaf06_v01_v02 \" \n",
    "\"WHERE pfafid_30spfaf06 = 231607 \"\n",
    "\"AND month = 5\")"
   ]
  },
  {
   "cell_type": "code",
   "execution_count": null,
   "metadata": {
    "collapsed": true
   },
   "outputs": [],
   "source": [
    "df_reg = pd.read_sql(sql_reg,connection)"
   ]
  },
  {
   "cell_type": "code",
   "execution_count": null,
   "metadata": {
    "collapsed": true
   },
   "outputs": [],
   "source": [
    "df_reg = df_reg.sort_values(by=[\"year\"])"
   ]
  },
  {
   "cell_type": "code",
   "execution_count": null,
   "metadata": {
    "collapsed": true
   },
   "outputs": [],
   "source": [
    "df_reg.head()"
   ]
  },
  {
   "cell_type": "code",
   "execution_count": null,
   "metadata": {
    "collapsed": true
   },
   "outputs": [],
   "source": [
    "lm = linear_model.LinearRegression()"
   ]
  },
  {
   "cell_type": "code",
   "execution_count": null,
   "metadata": {
    "collapsed": true
   },
   "outputs": [],
   "source": [
    "# Fit line for year 1973 - 1982 (10 years)\n",
    "df_reg_selection = df_reg[(df_reg[\"year\"] >= 1973) & (df_reg[\"year\"] <= 1982)]"
   ]
  },
  {
   "cell_type": "code",
   "execution_count": null,
   "metadata": {
    "collapsed": true
   },
   "outputs": [],
   "source": [
    "df_reg_selection"
   ]
  },
  {
   "cell_type": "code",
   "execution_count": null,
   "metadata": {
    "collapsed": true
   },
   "outputs": [],
   "source": [
    "import os"
   ]
  },
  {
   "cell_type": "code",
   "execution_count": null,
   "metadata": {
    "collapsed": true
   },
   "outputs": [],
   "source": [
    "print(os.getcwd())"
   ]
  },
  {
   "cell_type": "code",
   "execution_count": null,
   "metadata": {
    "collapsed": true
   },
   "outputs": [],
   "source": [
    "df_reg_selection.to_csv(\"temp.csv\")"
   ]
  },
  {
   "cell_type": "code",
   "execution_count": null,
   "metadata": {
    "collapsed": true
   },
   "outputs": [],
   "source": [
    "# fit linear model. "
   ]
  },
  {
   "cell_type": "code",
   "execution_count": null,
   "metadata": {
    "collapsed": true
   },
   "outputs": [],
   "source": [
    "x = pd.DataFrame(df_reg_selection[\"year\"])\n",
    "target = pd.DataFrame(df_reg_selection[\"ptotww_m_30spfaf06\"])"
   ]
  },
  {
   "cell_type": "code",
   "execution_count": null,
   "metadata": {
    "collapsed": true
   },
   "outputs": [],
   "source": [
    "lm.fit(x,target)"
   ]
  },
  {
   "cell_type": "code",
   "execution_count": null,
   "metadata": {
    "collapsed": true
   },
   "outputs": [],
   "source": [
    "df_lm = pd.DataFrame()"
   ]
  },
  {
   "cell_type": "code",
   "execution_count": null,
   "metadata": {
    "collapsed": true
   },
   "outputs": [],
   "source": [
    "coef = lm.coef_[0][0]"
   ]
  },
  {
   "cell_type": "code",
   "execution_count": null,
   "metadata": {
    "collapsed": true
   },
   "outputs": [],
   "source": [
    "intercept = lm.intercept_[0]"
   ]
  },
  {
   "cell_type": "code",
   "execution_count": null,
   "metadata": {
    "collapsed": true
   },
   "outputs": [],
   "source": [
    "# projected value for 1982\n",
    "y_p = 1982*coef + intercept"
   ]
  },
  {
   "cell_type": "code",
   "execution_count": null,
   "metadata": {
    "collapsed": true
   },
   "outputs": [],
   "source": [
    "print(y_p,coef,intercept)"
   ]
  },
  {
   "cell_type": "code",
   "execution_count": null,
   "metadata": {
    "collapsed": true
   },
   "outputs": [],
   "source": [
    "def create_ols_query(ols_window,con,input_table_name,output_table_name,input_columns, ols_columns):\n",
    "    \"\"\" Applies a moving average and saves the result in a new table. \n",
    "    -------------------------------------------------------------------------------\n",
    "    \n",
    "    Designed to work with aqueduct table structure that includes a year, month and\n",
    "    temporal_resolution column. Will not work with other tables.     \n",
    "    \n",
    "    \n",
    "    \n",
    "    Args:\n",
    "        ols_window (integer) : Ordinary Leas Squares Regression length.\n",
    "        con (sqlAlchemy) : Database Connection. \n",
    "        input_table_name (string) : Input table name.\n",
    "        output_table_name (string) : Output table name.\n",
    "        input_columns (list) : list of column names used in the query and saved to\n",
    "            output. e.g. year, month, pfafid etc. \n",
    "        mols_columns (list) : list of column names to apply the ols to.\n",
    "            should be present in input table. \n",
    "    \n",
    "    Returns:\n",
    "        sql (string) : SQL string in postgreSQL dialect.\n",
    "    \n",
    "    \n",
    "    \"\"\"\n",
    "    sql = \"CREATE TABLE {} AS \".format(output_table_name)\n",
    "    sql = sql + \"SELECT\"    \n",
    "    for input_column in input_columns:\n",
    "        sql = sql + \" {},\".format(input_column)\n",
    "    for ols_column in ols_columns:\n",
    "        sql = sql + \" regr_slope({},year) OVER (PARTITION BY pfafid_30spfaf06, month, temporal_resolution ORDER BY year ROWS BETWEEN {:01.0f} PRECEDING AND CURRENT ROW) AS slope{:02.0f}_{},\".format(ols_column,ols_window-1,ols_window,ols_column)\n",
    "        sql = sql + \" regr_intercept({},year) OVER (PARTITION BY pfafid_30spfaf06, month, temporal_resolution ORDER BY year ROWS BETWEEN {:01.0f} PRECEDING AND CURRENT ROW) AS intercept{:02.0f}_{},\".format(ols_column,ols_window-1,ols_window,ols_column)\n",
    "        sql = sql + (\" regr_slope({},year) OVER (PARTITION BY pfafid_30spfaf06, month, temporal_resolution ORDER BY year ROWS BETWEEN {:01.0f} PRECEDING AND CURRENT ROW) * year \"\n",
    "                     \"+ regr_intercept({},year) OVER (PARTITION BY pfafid_30spfaf06, month, temporal_resolution ORDER BY year ROWS BETWEEN {:01.0f} PRECEDING AND CURRENT ROW) AS ols{:02.0f}_{},\".format(ols_column,ols_window-1,ols_column,ols_window-1,ols_window,ols_column))\n",
    "    sql = sql[:-1]\n",
    "    sql = sql + \" FROM {}\".format(input_table_name)\n",
    "    return sql\n",
    "    "
   ]
  },
  {
   "cell_type": "code",
   "execution_count": null,
   "metadata": {
    "collapsed": true
   },
   "outputs": [],
   "source": [
    "input_columns = [\"pfafid_30spfaf06\",\n",
    "                 \"temporal_resolution\",\n",
    "                 \"year\",\n",
    "                 \"month\",\n",
    "                 \"area_m2_30spfaf06\",\n",
    "                 \"area_count_30spfaf06\"]"
   ]
  },
  {
   "cell_type": "code",
   "execution_count": null,
   "metadata": {
    "collapsed": true
   },
   "outputs": [],
   "source": [
    "sectors = [\"dom\",\"ind\",\"irr\",\"liv\",\"tot\"]\n",
    "demand_types = [\"ww\",\"wn\"]\n",
    "supply = [\"riverdischarge\"]\n",
    "\n",
    "demand_column_names = []\n",
    "for sector in sectors:\n",
    "    for demand_type in demand_types:\n",
    "        demand_column_name = \"p{}{}_m_30spfaf06\".format(sector,demand_type)\n",
    "        demand_column_names.append(demand_column_name)\n",
    "supply_column_names = [\"{}_m_30spfaf06\".format(supply[0])]\n",
    "ols_columns = demand_column_names + supply_column_names\n",
    "ols_columns"
   ]
  },
  {
   "cell_type": "code",
   "execution_count": null,
   "metadata": {
    "collapsed": true
   },
   "outputs": [],
   "source": [
    "sql = create_ols_query(ols_window=10,\n",
    "                       con=connection,\n",
    "                       input_table_name='y2018m05d29_rh_total_demand_postgis_30spfaf06_v01_v02',\n",
    "                       output_table_name= \"test01\",\n",
    "                       input_columns = input_columns,\n",
    "                       ols_columns=ols_columns)"
   ]
  },
  {
   "cell_type": "code",
   "execution_count": null,
   "metadata": {
    "collapsed": true
   },
   "outputs": [],
   "source": [
    "sql = sql + \" WHERE pfafid_30spfaf06 = 231607 AND month = 5\""
   ]
  },
  {
   "cell_type": "code",
   "execution_count": null,
   "metadata": {
    "collapsed": true
   },
   "outputs": [],
   "source": [
    "print(sql)"
   ]
  },
  {
   "cell_type": "code",
   "execution_count": null,
   "metadata": {
    "collapsed": true
   },
   "outputs": [],
   "source": [
    "# check if I can accomplish the same using SQL\n",
    "SELECT year,month,pfafid_30spfaf06, temporal_resolution,ptotww_m_30spfaf06,\n",
    "    regr_slope(ptotww_m_30spfaf06,year) \n",
    "        OVER (PARTITION BY pfafid_30spfaf06, month, temporal_resolution ORDER BY year ROWS BETWEEN 9 PRECEDING AND CURRENT ROW) AS slope\n",
    "FROM y2018m05d29_rh_total_demand_postgis_30spfaf06_v01_v02 \n",
    "WHERE year > 1970 AND\n",
    "year < 1983 AND\n",
    "year > 1972 AND\n",
    "month = 5 AND\n",
    "temporal_resolution = 'month'AND\n",
    "pfafid_30spfaf06 = 231607"
   ]
  },
  {
   "cell_type": "code",
   "execution_count": null,
   "metadata": {
    "collapsed": true
   },
   "outputs": [],
   "source": []
  }
 ],
 "metadata": {
  "kernelspec": {
   "display_name": "Python 35",
   "language": "python",
   "name": "python35"
  },
  "language_info": {
   "codemirror_mode": {
    "name": "ipython",
    "version": 3
   },
   "file_extension": ".py",
   "mimetype": "text/x-python",
   "name": "python",
   "nbconvert_exporter": "python",
   "pygments_lexer": "ipython3",
   "version": "3.5.4"
  }
 },
 "nbformat": 4,
 "nbformat_minor": 2
}
