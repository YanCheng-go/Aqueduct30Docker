{
 "cells": [
  {
   "cell_type": "code",
   "execution_count": 1,
   "metadata": {},
   "outputs": [
    {
     "name": "stdout",
     "output_type": "stream",
     "text": [
      "Input Table Left:  y2018m06d04_rh_water_stress_postgis_30spfaf06_v01_v03 \n",
      "Input Table Right:  hybas06_v04 \n",
      "Output Table:  test.y2018m06d04_rh_qa_ma10_results_postgis_v03_v04\n"
     ]
    }
   ],
   "source": [
    "\"\"\" QA for water stress in several basin\n",
    "-------------------------------------------------------------------------------\n",
    "\n",
    "Create postGIS table for selected basins with all ma_10 indicators\n",
    "\n",
    "\n",
    "Author: Rutger Hofste\n",
    "Date: 20180604\n",
    "Kernel: python35\n",
    "Docker: rutgerhofste/gisdocker:ubuntu16.04\n",
    "\n",
    "\"\"\"\n",
    "\n",
    "\n",
    "TESTING = 1\n",
    "OVERWRITE_OUTPUT = 1\n",
    "SCRIPT_NAME = 'Y2018M06D04_RH_QA_ma10_results_PostGIS_V03'\n",
    "OUTPUT_VERSION = 4\n",
    "\n",
    "DATABASE_ENDPOINT = \"aqueduct30v05.cgpnumwmfcqc.eu-central-1.rds.amazonaws.com\"\n",
    "DATABASE_NAME = \"database01\"\n",
    "\n",
    "SIMPLIFY_COLUMN_NAMES = 1 # ForS Shapefile and ArcGIS use.\n",
    "\n",
    "INPUT_TABLE_LEFT_NAME = 'y2018m06d04_rh_water_stress_postgis_30spfaf06_v01_v03'\n",
    "INPUT_TABLE_RIGHT_NAME = 'hybas06_v04'\n",
    "OUTPUT_TABLE_NAME = SCRIPT_NAME.lower() + \"_v{:02.0f}\".format(OUTPUT_VERSION)\n",
    "OUTPUT_SCHEMA = \"test\"\n",
    "\n",
    "DICT = {}\n",
    "\"\"\"\n",
    "DICT[\"basin_172111\"] =  {\"TEMPORAL_RESOLUTION\":None,  # Option [ \"year\", \"month\"]\n",
    "                         \"YEAR_RANGE\":[1960,2014], # Options [1960:2014]\n",
    "                         \"MONTH_RANGE\":[1,12], # Options [1:12]\n",
    "                         \"PFAFID_RANGE\":[172111,172111]} # Options, list [111011:914900], includes 0 and end.\n",
    "\n",
    "DICT[\"global_year_2014\"] =  {\"TEMPORAL_RESOLUTION\":\"year\",  # Option [ \"year\", \"month\"]\n",
    "                             \"YEAR_RANGE\":[2014,2014], # Options [1960:2014]\n",
    "                             \"MONTH_RANGE\":[1,12], # Options [1:12]\n",
    "                             \"PFAFID_RANGE\":[111011,914900]} # Options, list [111011:914900], includes 0 and end.\n",
    "\n",
    "\"\"\"\n",
    "\n",
    "DICT[\"spain_2010\"] =  {\"TEMPORAL_RESOLUTION\":None,  # Option [ \"year\", \"month\"]\n",
    "                       \"YEAR_RANGE\":[2010,2010], # Options [1960:2014]\n",
    "                       \"MONTH_RANGE\":[1,12], # Options [1:12]\n",
    "                       \"PFAFID_RANGE\":[230000,240000]} # Options, list [111011:914900], includes 0 and end.\n",
    "\n",
    "\n",
    "print(\"Input Table Left: \" , INPUT_TABLE_LEFT_NAME, \n",
    "      \"\\nInput Table Right: \" , INPUT_TABLE_RIGHT_NAME, \n",
    "      \"\\nOutput Table: \" , OUTPUT_SCHEMA +\".\"+OUTPUT_TABLE_NAME)\n",
    "\n"
   ]
  },
  {
   "cell_type": "code",
   "execution_count": 2,
   "metadata": {},
   "outputs": [
    {
     "name": "stdout",
     "output_type": "stream",
     "text": [
      "Y2018M06D08 UTC 12:46\n"
     ]
    },
    {
     "data": {
      "text/plain": [
       "'3.5.4 |Anaconda, Inc.| (default, Nov 20 2017, 18:44:38) \\n[GCC 7.2.0]'"
      ]
     },
     "execution_count": 2,
     "metadata": {},
     "output_type": "execute_result"
    }
   ],
   "source": [
    "import time, datetime, sys\n",
    "dateString = time.strftime(\"Y%YM%mD%d\")\n",
    "timeString = time.strftime(\"UTC %H:%M\")\n",
    "start = datetime.datetime.now()\n",
    "print(dateString,timeString)\n",
    "sys.version"
   ]
  },
  {
   "cell_type": "code",
   "execution_count": 3,
   "metadata": {
    "collapsed": true
   },
   "outputs": [],
   "source": [
    "# imports\n",
    "import re\n",
    "import os\n",
    "import numpy as np\n",
    "import pandas as pd\n",
    "from datetime import timedelta\n",
    "from sqlalchemy import *\n",
    "pd.set_option('display.max_columns', 500)"
   ]
  },
  {
   "cell_type": "code",
   "execution_count": null,
   "metadata": {
    "collapsed": true
   },
   "outputs": [],
   "source": []
  },
  {
   "cell_type": "code",
   "execution_count": 4,
   "metadata": {
    "collapsed": true
   },
   "outputs": [],
   "source": [
    "F = open(\"/.password\",\"r\")\n",
    "password = F.read().splitlines()[0]\n",
    "F.close()\n",
    "\n",
    "engine = create_engine(\"postgresql://rutgerhofste:{}@{}:5432/{}\".format(password,DATABASE_ENDPOINT,DATABASE_NAME))\n",
    "connection = engine.connect()\n",
    "\n",
    "\n",
    "def create_sample_database():\n",
    "    sqls = []\n",
    "\n",
    "    if OVERWRITE_OUTPUT:\n",
    "        sqls.append(\"DROP TABLE IF EXISTS {}.{};\".format(OUTPUT_SCHEMA,OUTPUT_TABLE_NAME))\n",
    "        sqls.append(\"DROP TABLE IF EXISTS {}.temp_left\".format(OUTPUT_SCHEMA))\n",
    "\n",
    "\n",
    "\n",
    "    sql = \"\"\n",
    "    sql += \"CREATE TABLE {}.temp_left AS \".format(OUTPUT_SCHEMA)\n",
    "    sql += \"SELECT * FROM {} \".format(INPUT_TABLE_LEFT_NAME)\n",
    "\n",
    "    if TEMPORAL_RESOLUTION or YEAR_RANGE or MONTH_RANGE or PFAFID_RANGE:\n",
    "        sql += \"WHERE \"\n",
    "        if TEMPORAL_RESOLUTION:\n",
    "            sql += \"temporal_resolution = '{}' AND \".format(TEMPORAL_RESOLUTION)\n",
    "        if YEAR_RANGE:\n",
    "            sql += \"year >= {} AND \".format(YEAR_RANGE[0])\n",
    "            sql += \"year <= {} AND \".format(YEAR_RANGE[1])\n",
    "        if MONTH_RANGE:\n",
    "            sql += \"month >= {} AND \".format(MONTH_RANGE[0])\n",
    "            sql += \"month <= {} AND \".format(MONTH_RANGE[1])\n",
    "        if PFAFID_RANGE:\n",
    "            sql += \"pfafid_30spfaf06 >= {} AND \".format(PFAFID_RANGE[0])\n",
    "            sql += \"pfafid_30spfaf06 <= {} AND \".format(PFAFID_RANGE[1])\n",
    "        # remove trailing AND\n",
    "        sql = sql[:-4]\n",
    "\n",
    "    sqls.append(sql)\n",
    "\n",
    "\n",
    "    if SIMPLIFY_COLUMN_NAMES == 0:\n",
    "        sqls.append(\n",
    "        \"CREATE TABLE {}.{} AS \"\n",
    "        \"SELECT \"\n",
    "        \"l.pfafid_30spfaf06, \"\n",
    "        \"l.temporal_resolution, \"\n",
    "        \"l.year, \"\n",
    "        \"l.month, \"\n",
    "        \"l.area_m2_30spfaf06, \"\n",
    "        \"l.area_count_30spfaf06, \"\n",
    "        \"l.ma10_pdomww_m_30spfaf06, \"\n",
    "        \"l.ma10_pindww_m_30spfaf06, \"\n",
    "        \"l.ma10_pirrww_m_30spfaf06, \"\n",
    "        \"l.ma10_plivww_m_30spfaf06, \"\n",
    "        \"l.ma10_ptotww_m_30spfaf06, \"\n",
    "        \"l.ma10_pdomwn_m_30spfaf06, \"\n",
    "        \"l.ma10_pindwn_m_30spfaf06, \"\n",
    "        \"l.ma10_pirrwn_m_30spfaf06, \"\n",
    "        \"l.ma10_plivwn_m_30spfaf06, \"\n",
    "        \"l.ma10_ptotwn_m_30spfaf06, \"\n",
    "        \"l.ma10_riverdischarge_m_30spfaf06, \"\n",
    "        \"l.arid_boolean_30spfaf06, \"\n",
    "        \"l.lowwateruse_boolean_30spfaf06, \"\n",
    "        \"l.aridandlowwateruse_boolean_30spfaf06, \"\n",
    "        \"l.waterstress_dimensionless_30spfaf06, \"\n",
    "        \"r.pfaf_id, \"\n",
    "        \"r.coast, \"\n",
    "        \"r.geom ) \"\n",
    "        \"FROM {}.temp_left AS l \"\n",
    "        \"INNER JOIN {} AS r ON \"\n",
    "        \"r.pfaf_id = l.pfafid_30spfaf06 \".format(OUTPUT_SCHEMA,OUTPUT_TABLE_NAME,SIMPLIFY_TOLERANCE,OUTPUT_SCHEMA,INPUT_TABLE_RIGHT_NAME))\n",
    "    elif SIMPLIFY_COLUMN_NAMES == 1:\n",
    "        sqls.append(\n",
    "        \"CREATE TABLE {}.{} AS \"\n",
    "        \"SELECT \"\n",
    "        \"l.pfafid_30spfaf06 AS pfafid, \"\n",
    "        \"l.temporal_resolution AS temp_res, \"\n",
    "        \"l.year, \"\n",
    "        \"l.month, \"\n",
    "        \"l.area_m2_30spfaf06 AS area_m2, \"\n",
    "        \"l.area_count_30spfaf06 AS area_count, \"\n",
    "        \"l.ma10_pdomww_m_30spfaf06 AS pdomww_m, \"\n",
    "        \"l.ma10_pindww_m_30spfaf06 AS pindww_m, \"\n",
    "        \"l.ma10_pirrww_m_30spfaf06 AS pirrww_m, \"\n",
    "        \"l.ma10_plivww_m_30spfaf06 AS plivww_m, \"\n",
    "        \"l.ma10_ptotww_m_30spfaf06 AS ptotww_m, \"\n",
    "        \"l.ma10_pdomwn_m_30spfaf06 AS pdomwn_m, \"\n",
    "        \"l.ma10_pindwn_m_30spfaf06 AS pindwn_m, \"\n",
    "        \"l.ma10_pirrwn_m_30spfaf06 AS pirrwn_m, \"\n",
    "        \"l.ma10_plivwn_m_30spfaf06 AS plivwn_m, \"\n",
    "        \"l.ma10_ptotwn_m_30spfaf06 AS ptotwn_m, \"\n",
    "        \"l.ma10_riverdischarge_m_30spfaf06 AS q_m, \"\n",
    "        \"l.arid_boolean_30spfaf06 AS arid, \"\n",
    "        \"l.lowwateruse_boolean_30spfaf06 AS lowwatuse, \"\n",
    "        \"l.aridandlowwateruse_boolean_30spfaf06 AS aridlow, \"\n",
    "        \"l.waterstress_dimensionless_30spfaf06 AS ws_s, \"\n",
    "        \"r.pfaf_id, \"\n",
    "        \"r.coast, \"\n",
    "        \"r.geom \"\n",
    "        \"FROM {}.temp_left AS l \"\n",
    "        \"INNER JOIN {} AS r ON \"\n",
    "        \"r.pfaf_id = l.pfafid_30spfaf06 \".format(OUTPUT_SCHEMA,OUTPUT_TABLE_NAME,OUTPUT_SCHEMA,INPUT_TABLE_RIGHT_NAME))\n",
    "\n",
    "\n",
    "    sqls.append(\n",
    "    \"ALTER TABLE {}.{} ADD id BIGSERIAL PRIMARY KEY;\".format(OUTPUT_SCHEMA,OUTPUT_TABLE_NAME))\n",
    "    print(sqls)\n",
    "\n",
    "    for sql in sqls:\n",
    "        print(sql)\n",
    "        result = engine.execute(sql)   "
   ]
  },
  {
   "cell_type": "code",
   "execution_count": 5,
   "metadata": {},
   "outputs": [
    {
     "name": "stdout",
     "output_type": "stream",
     "text": [
      "['DROP TABLE IF EXISTS test.spain_2010;', 'DROP TABLE IF EXISTS test.temp_left', 'CREATE TABLE test.temp_left AS SELECT * FROM y2018m06d04_rh_water_stress_postgis_30spfaf06_v01_v03 WHERE year >= 2010 AND year <= 2010 AND month >= 1 AND month <= 12 AND pfafid_30spfaf06 >= 230000 AND pfafid_30spfaf06 <= 240000 ', 'CREATE TABLE test.spain_2010 AS SELECT l.pfafid_30spfaf06 AS pfafid, l.temporal_resolution AS temp_res, l.year, l.month, l.area_m2_30spfaf06 AS area_m2, l.area_count_30spfaf06 AS area_count, l.ma10_pdomww_m_30spfaf06 AS pdomww_m, l.ma10_pindww_m_30spfaf06 AS pindww_m, l.ma10_pirrww_m_30spfaf06 AS pirrww_m, l.ma10_plivww_m_30spfaf06 AS plivww_m, l.ma10_ptotww_m_30spfaf06 AS ptotww_m, l.ma10_pdomwn_m_30spfaf06 AS pdomwn_m, l.ma10_pindwn_m_30spfaf06 AS pindwn_m, l.ma10_pirrwn_m_30spfaf06 AS pirrwn_m, l.ma10_plivwn_m_30spfaf06 AS plivwn_m, l.ma10_ptotwn_m_30spfaf06 AS ptotwn_m, l.ma10_riverdischarge_m_30spfaf06 AS q_m, l.arid_boolean_30spfaf06 AS arid, l.lowwateruse_boolean_30spfaf06 AS lowwatuse, l.aridandlowwateruse_boolean_30spfaf06 AS aridlow, l.waterstress_dimensionless_30spfaf06 AS ws_s, r.pfaf_id, r.coast, r.geom FROM test.temp_left AS l INNER JOIN hybas06_v04 AS r ON r.pfaf_id = l.pfafid_30spfaf06 ', 'ALTER TABLE test.spain_2010 ADD id BIGSERIAL PRIMARY KEY;']\n",
      "DROP TABLE IF EXISTS test.spain_2010;\n",
      "DROP TABLE IF EXISTS test.temp_left\n",
      "CREATE TABLE test.temp_left AS SELECT * FROM y2018m06d04_rh_water_stress_postgis_30spfaf06_v01_v03 WHERE year >= 2010 AND year <= 2010 AND month >= 1 AND month <= 12 AND pfafid_30spfaf06 >= 230000 AND pfafid_30spfaf06 <= 240000 \n",
      "CREATE TABLE test.spain_2010 AS SELECT l.pfafid_30spfaf06 AS pfafid, l.temporal_resolution AS temp_res, l.year, l.month, l.area_m2_30spfaf06 AS area_m2, l.area_count_30spfaf06 AS area_count, l.ma10_pdomww_m_30spfaf06 AS pdomww_m, l.ma10_pindww_m_30spfaf06 AS pindww_m, l.ma10_pirrww_m_30spfaf06 AS pirrww_m, l.ma10_plivww_m_30spfaf06 AS plivww_m, l.ma10_ptotww_m_30spfaf06 AS ptotww_m, l.ma10_pdomwn_m_30spfaf06 AS pdomwn_m, l.ma10_pindwn_m_30spfaf06 AS pindwn_m, l.ma10_pirrwn_m_30spfaf06 AS pirrwn_m, l.ma10_plivwn_m_30spfaf06 AS plivwn_m, l.ma10_ptotwn_m_30spfaf06 AS ptotwn_m, l.ma10_riverdischarge_m_30spfaf06 AS q_m, l.arid_boolean_30spfaf06 AS arid, l.lowwateruse_boolean_30spfaf06 AS lowwatuse, l.aridandlowwateruse_boolean_30spfaf06 AS aridlow, l.waterstress_dimensionless_30spfaf06 AS ws_s, r.pfaf_id, r.coast, r.geom FROM test.temp_left AS l INNER JOIN hybas06_v04 AS r ON r.pfaf_id = l.pfafid_30spfaf06 \n",
      "ALTER TABLE test.spain_2010 ADD id BIGSERIAL PRIMARY KEY;\n"
     ]
    }
   ],
   "source": [
    "for key, value in DICT.items():\n",
    "    NESTED_DICT = DICT[key]\n",
    "    TEMPORAL_RESOLUTION = NESTED_DICT[\"TEMPORAL_RESOLUTION\"]\n",
    "    YEAR_RANGE = NESTED_DICT[\"YEAR_RANGE\"]\n",
    "    MONTH_RANGE= NESTED_DICT[\"MONTH_RANGE\"]\n",
    "    PFAFID_RANGE = NESTED_DICT[\"PFAFID_RANGE\"]\n",
    "    OUTPUT_TABLE_NAME = key\n",
    "    create_sample_database()"
   ]
  },
  {
   "cell_type": "code",
   "execution_count": 6,
   "metadata": {},
   "outputs": [
    {
     "name": "stdout",
     "output_type": "stream",
     "text": [
      "0:00:03.910516\n"
     ]
    }
   ],
   "source": [
    "end = datetime.datetime.now()\n",
    "elapsed = end - start\n",
    "print(elapsed)"
   ]
  },
  {
   "cell_type": "markdown",
   "metadata": {},
   "source": [
    "Previous runs:  \n",
    "0:00:03.647104  \n",
    "0:01:37.677627  \n",
    "0:05:18.544848  \n",
    "0:01:52.671324\n",
    "3:26:07.110533\n",
    "\n",
    "\n",
    "\n",
    "\n",
    "\n"
   ]
  },
  {
   "cell_type": "code",
   "execution_count": 7,
   "metadata": {
    "collapsed": true
   },
   "outputs": [],
   "source": [
    "engine.dispose()"
   ]
  },
  {
   "cell_type": "code",
   "execution_count": null,
   "metadata": {
    "collapsed": true
   },
   "outputs": [],
   "source": []
  }
 ],
 "metadata": {
  "kernelspec": {
   "display_name": "Python 35",
   "language": "python",
   "name": "python35"
  },
  "language_info": {
   "codemirror_mode": {
    "name": "ipython",
    "version": 3
   },
   "file_extension": ".py",
   "mimetype": "text/x-python",
   "name": "python",
   "nbconvert_exporter": "python",
   "pygments_lexer": "ipython3",
   "version": "3.5.4"
  }
 },
 "nbformat": 4,
 "nbformat_minor": 2
}
