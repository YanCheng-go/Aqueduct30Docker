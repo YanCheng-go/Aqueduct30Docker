{
 "cells": [
  {
   "cell_type": "code",
   "execution_count": 1,
   "metadata": {},
   "outputs": [
    {
     "name": "stdout",
     "output_type": "stream",
     "text": [
      "Input BQ Table : y2018m07d31_rh_inter_av_cat_label_v01_v02\n",
      "Output s3: s3://wri-projects/Aqueduct30/qaData/Y2018M08D08_RH_QA_IAV_Carto_V01/output_V02\n",
      "Output ec2: /volumes/data/Y2018M08D08_RH_QA_IAV_Carto_V01/output_V02\n",
      "CARTO_OUTPUT_TABLE_NAME: y2018m08d08_rh_qa_iav_carto_v01_v02\n"
     ]
    }
   ],
   "source": [
    "\"\"\"Queries inter annual variability and stores results in csv files and stores \n",
    "in Carto\n",
    "-------------------------------------------------------------------------------\n",
    "\n",
    "\"\"\"\n",
    "\n",
    "TESTING = 0\n",
    "OVERWRITE_OUTPUT = 1\n",
    "SCRIPT_NAME = 'Y2018M08D08_RH_QA_IAV_Carto_V01'\n",
    "OUTPUT_VERSION = 2\n",
    "\n",
    "BQ_PROJECT_ID = \"aqueduct30\"\n",
    "BQ_INPUT_DATASET_NAME = \"aqueduct30v01\"\n",
    "BQ_INPUT_TABLE_NAME = \"y2018m07d31_rh_inter_av_cat_label_v01_v02\"\n",
    "\n",
    "ec2_output_path = \"/volumes/data/{}/output_V{:02.0f}\".format(SCRIPT_NAME,OUTPUT_VERSION) \n",
    "s3_output_path = \"s3://wri-projects/Aqueduct30/qaData/{}/output_V{:02.0f}\".format(SCRIPT_NAME,OUTPUT_VERSION)\n",
    "\n",
    "CARTO_OUTPUT_TABLE_NAME = SCRIPT_NAME.lower() + \"_v{:02.0f}\".format(OUTPUT_VERSION)\n",
    "\n",
    "print(\"Input BQ Table : \" + BQ_INPUT_TABLE_NAME +\n",
    "      \"\\nOutput s3: \" + s3_output_path + \n",
    "      \"\\nOutput ec2: \" + ec2_output_path +\n",
    "      \"\\nCARTO_OUTPUT_TABLE_NAME: \" + CARTO_OUTPUT_TABLE_NAME)"
   ]
  },
  {
   "cell_type": "code",
   "execution_count": 2,
   "metadata": {},
   "outputs": [
    {
     "name": "stdout",
     "output_type": "stream",
     "text": [
      "Y2018M08D15 UTC 12:09\n"
     ]
    },
    {
     "data": {
      "text/plain": [
       "'3.5.4 |Anaconda, Inc.| (default, Nov 20 2017, 18:44:38) \\n[GCC 7.2.0]'"
      ]
     },
     "execution_count": 2,
     "metadata": {},
     "output_type": "execute_result"
    }
   ],
   "source": [
    "import time, datetime, sys\n",
    "dateString = time.strftime(\"Y%YM%mD%d\")\n",
    "timeString = time.strftime(\"UTC %H:%M\")\n",
    "start = datetime.datetime.now()\n",
    "print(dateString,timeString)\n",
    "sys.version"
   ]
  },
  {
   "cell_type": "code",
   "execution_count": 3,
   "metadata": {
    "collapsed": true
   },
   "outputs": [],
   "source": [
    "import os\n",
    "import sqlalchemy\n",
    "import cartoframes\n",
    "import pandas as pd\n",
    "import geopandas as gpd\n",
    "from google.cloud import bigquery\n",
    "%load_ext google.cloud.bigquery\n",
    "\n",
    "os.environ[\"GOOGLE_APPLICATION_CREDENTIALS\"] = \"/.google.json\"\n",
    "os.environ[\"GOOGLE_CLOUD_PROJECT\"] = \"aqueduct30\"\n",
    "client = bigquery.Client(project=BQ_PROJECT_ID)"
   ]
  },
  {
   "cell_type": "code",
   "execution_count": 4,
   "metadata": {
    "collapsed": true
   },
   "outputs": [],
   "source": [
    "F = open(\"/.carto_builder\",\"r\")\n",
    "carto_api_key = F.read().splitlines()[0]\n",
    "F.close()\n",
    "creds = cartoframes.Credentials(key=carto_api_key, \n",
    "                    username='wri-playground')\n",
    "cc = cartoframes.CartoContext(creds=creds)"
   ]
  },
  {
   "cell_type": "code",
   "execution_count": 5,
   "metadata": {
    "collapsed": true
   },
   "outputs": [],
   "source": [
    "!rm -r {ec2_output_path}\n",
    "!mkdir -p {ec2_output_path}"
   ]
  },
  {
   "cell_type": "code",
   "execution_count": 6,
   "metadata": {
    "collapsed": true
   },
   "outputs": [],
   "source": [
    "sql = \"\"\"\n",
    "SELECT\n",
    "  pfafid_30spfaf06,\n",
    "  temporal_resolution,\n",
    "  month,\n",
    "  year,\n",
    "  delta_id,\n",
    "  iav_riverdischarge_m_30spfaf06,\n",
    "  iav_riverdischarge_score_30spfaf06,\n",
    "  iav_riverdischarge_category_30spfaf06,\n",
    "  iav_riverdischarge_label_30spfaf06,\n",
    "  iav_riverdischarge_m_delta,\n",
    "  iav_riverdischarge_score_delta,\n",
    "  iav_riverdischarge_category_delta,\n",
    "  iav_riverdischarge_label_delta,\n",
    "  iav_riverdischarge_m_coalesced,\n",
    "  iav_riverdischarge_score_coalesced,\n",
    "  iav_riverdischarge_category_coalesced,\n",
    "  iav_riverdischarge_label_coalesced\n",
    "FROM\n",
    "  `aqueduct30.{}.{}`\n",
    "WHERE\n",
    "  year = 2014\n",
    "ORDER BY\n",
    "  pfafid_30spfaf06,\n",
    "  temporal_resolution,\n",
    "  year,\n",
    "  month\n",
    "\"\"\".format(BQ_INPUT_DATASET_NAME,BQ_INPUT_TABLE_NAME)"
   ]
  },
  {
   "cell_type": "code",
   "execution_count": 7,
   "metadata": {},
   "outputs": [
    {
     "name": "stdout",
     "output_type": "stream",
     "text": [
      "\n",
      "SELECT\n",
      "  pfafid_30spfaf06,\n",
      "  temporal_resolution,\n",
      "  month,\n",
      "  year,\n",
      "  delta_id,\n",
      "  iav_riverdischarge_m_30spfaf06,\n",
      "  iav_riverdischarge_score_30spfaf06,\n",
      "  iav_riverdischarge_category_30spfaf06,\n",
      "  iav_riverdischarge_label_30spfaf06,\n",
      "  iav_riverdischarge_m_delta,\n",
      "  iav_riverdischarge_score_delta,\n",
      "  iav_riverdischarge_category_delta,\n",
      "  iav_riverdischarge_label_delta,\n",
      "  iav_riverdischarge_m_coalesced,\n",
      "  iav_riverdischarge_score_coalesced,\n",
      "  iav_riverdischarge_category_coalesced,\n",
      "  iav_riverdischarge_label_coalesced\n",
      "FROM\n",
      "  `aqueduct30.aqueduct30v01.y2018m07d31_rh_inter_av_cat_label_v01_v02`\n",
      "WHERE\n",
      "  year = 2014\n",
      "ORDER BY\n",
      "  pfafid_30spfaf06,\n",
      "  temporal_resolution,\n",
      "  year,\n",
      "  month\n",
      "\n"
     ]
    }
   ],
   "source": [
    "print(sql)"
   ]
  },
  {
   "cell_type": "code",
   "execution_count": 8,
   "metadata": {
    "collapsed": true
   },
   "outputs": [],
   "source": [
    "df = pd.read_gbq(query=sql,dialect=\"standard\")"
   ]
  },
  {
   "cell_type": "code",
   "execution_count": 9,
   "metadata": {},
   "outputs": [
    {
     "data": {
      "text/plain": [
       "(213005, 17)"
      ]
     },
     "execution_count": 9,
     "metadata": {},
     "output_type": "execute_result"
    }
   ],
   "source": [
    "df.shape"
   ]
  },
  {
   "cell_type": "code",
   "execution_count": 10,
   "metadata": {
    "collapsed": true
   },
   "outputs": [],
   "source": [
    "temporal_resolutions = [\"month\",\"year\"]"
   ]
  },
  {
   "cell_type": "code",
   "execution_count": 11,
   "metadata": {},
   "outputs": [
    {
     "name": "stdout",
     "output_type": "stream",
     "text": [
      "Y2018M08D08_RH_QA_IAV_Carto_V01_V02_month_Y2014M01.csv\n",
      "Y2018M08D08_RH_QA_IAV_Carto_V01_V02_month_Y2014M02.csv\n",
      "Y2018M08D08_RH_QA_IAV_Carto_V01_V02_month_Y2014M03.csv\n",
      "Y2018M08D08_RH_QA_IAV_Carto_V01_V02_month_Y2014M04.csv\n",
      "Y2018M08D08_RH_QA_IAV_Carto_V01_V02_month_Y2014M05.csv\n",
      "Y2018M08D08_RH_QA_IAV_Carto_V01_V02_month_Y2014M06.csv\n",
      "Y2018M08D08_RH_QA_IAV_Carto_V01_V02_month_Y2014M07.csv\n",
      "Y2018M08D08_RH_QA_IAV_Carto_V01_V02_month_Y2014M08.csv\n",
      "Y2018M08D08_RH_QA_IAV_Carto_V01_V02_month_Y2014M09.csv\n",
      "Y2018M08D08_RH_QA_IAV_Carto_V01_V02_month_Y2014M10.csv\n",
      "Y2018M08D08_RH_QA_IAV_Carto_V01_V02_month_Y2014M11.csv\n",
      "Y2018M08D08_RH_QA_IAV_Carto_V01_V02_month_Y2014M12.csv\n",
      "Y2018M08D08_RH_QA_IAV_Carto_V01_V02_year_Y2014M12.csv\n"
     ]
    }
   ],
   "source": [
    "for temporal_resolution in temporal_resolutions:\n",
    "    if temporal_resolution == \"year\":\n",
    "        month = 12\n",
    "        df_selected = df.loc[(df[\"month\"]==month) & (df[\"temporal_resolution\"]==temporal_resolution)]\n",
    "        df_selected = df_selected.sort_index(axis=1)\n",
    "        output_file_name = \"{}_V{:02.0f}_{}_Y2014M{:02.0f}.csv\".format(SCRIPT_NAME,OUTPUT_VERSION,temporal_resolution,month)\n",
    "        print(output_file_name)\n",
    "        output_file_path = \"{}/{}\".format(ec2_output_path,output_file_name)\n",
    "        df_selected.to_csv(output_file_path)\n",
    "        \n",
    "    elif temporal_resolution == \"month\":\n",
    "        for month in range(1,13):\n",
    "            df_selected = df.loc[(df[\"month\"]==month) & (df[\"temporal_resolution\"]==temporal_resolution)]\n",
    "            df_selected = df_selected.sort_index(axis=1)\n",
    "            output_file_name = \"{}_V{:02.0f}_{}_Y2014M{:02.0f}.csv\".format(SCRIPT_NAME,OUTPUT_VERSION,temporal_resolution,month)\n",
    "            print(output_file_name)\n",
    "            output_file_path = \"{}/{}\".format(ec2_output_path,output_file_name)\n",
    "            df_selected.to_csv(output_file_path)"
   ]
  },
  {
   "cell_type": "code",
   "execution_count": 12,
   "metadata": {},
   "outputs": [
    {
     "name": "stdout",
     "output_type": "stream",
     "text": [
      "Table successfully written to CARTO: https://wri-playground.carto.com/dataset/y2018m08d08_rh_qa_iav_carto_v01_v02\n"
     ]
    }
   ],
   "source": [
    "# Upload result data to Carto\n",
    "cc.write(df=df,\n",
    "         table_name=CARTO_OUTPUT_TABLE_NAME,\n",
    "         overwrite=True,\n",
    "         privacy=\"public\")"
   ]
  },
  {
   "cell_type": "code",
   "execution_count": 13,
   "metadata": {},
   "outputs": [
    {
     "name": "stdout",
     "output_type": "stream",
     "text": [
      "upload: ../../../../../data/Y2018M08D08_RH_QA_IAV_Carto_V01/output_V02/Y2018M08D08_RH_QA_IAV_Carto_V01_V02_month_Y2014M05.csv to s3://wri-projects/Aqueduct30/qaData/Y2018M08D08_RH_QA_IAV_Carto_V01/output_V02/Y2018M08D08_RH_QA_IAV_Carto_V01_V02_month_Y2014M05.csv\n",
      "upload: ../../../../../data/Y2018M08D08_RH_QA_IAV_Carto_V01/output_V02/Y2018M08D08_RH_QA_IAV_Carto_V01_V02_month_Y2014M08.csv to s3://wri-projects/Aqueduct30/qaData/Y2018M08D08_RH_QA_IAV_Carto_V01/output_V02/Y2018M08D08_RH_QA_IAV_Carto_V01_V02_month_Y2014M08.csv\n",
      "upload: ../../../../../data/Y2018M08D08_RH_QA_IAV_Carto_V01/output_V02/Y2018M08D08_RH_QA_IAV_Carto_V01_V02_month_Y2014M10.csv to s3://wri-projects/Aqueduct30/qaData/Y2018M08D08_RH_QA_IAV_Carto_V01/output_V02/Y2018M08D08_RH_QA_IAV_Carto_V01_V02_month_Y2014M10.csv\n",
      "upload: ../../../../../data/Y2018M08D08_RH_QA_IAV_Carto_V01/output_V02/Y2018M08D08_RH_QA_IAV_Carto_V01_V02_month_Y2014M01.csv to s3://wri-projects/Aqueduct30/qaData/Y2018M08D08_RH_QA_IAV_Carto_V01/output_V02/Y2018M08D08_RH_QA_IAV_Carto_V01_V02_month_Y2014M01.csv\n",
      "upload: ../../../../../data/Y2018M08D08_RH_QA_IAV_Carto_V01/output_V02/Y2018M08D08_RH_QA_IAV_Carto_V01_V02_month_Y2014M09.csv to s3://wri-projects/Aqueduct30/qaData/Y2018M08D08_RH_QA_IAV_Carto_V01/output_V02/Y2018M08D08_RH_QA_IAV_Carto_V01_V02_month_Y2014M09.csv\n",
      "upload: ../../../../../data/Y2018M08D08_RH_QA_IAV_Carto_V01/output_V02/Y2018M08D08_RH_QA_IAV_Carto_V01_V02_month_Y2014M03.csv to s3://wri-projects/Aqueduct30/qaData/Y2018M08D08_RH_QA_IAV_Carto_V01/output_V02/Y2018M08D08_RH_QA_IAV_Carto_V01_V02_month_Y2014M03.csv\n",
      "upload: ../../../../../data/Y2018M08D08_RH_QA_IAV_Carto_V01/output_V02/Y2018M08D08_RH_QA_IAV_Carto_V01_V02_month_Y2014M07.csv to s3://wri-projects/Aqueduct30/qaData/Y2018M08D08_RH_QA_IAV_Carto_V01/output_V02/Y2018M08D08_RH_QA_IAV_Carto_V01_V02_month_Y2014M07.csv\n",
      "upload: ../../../../../data/Y2018M08D08_RH_QA_IAV_Carto_V01/output_V02/Y2018M08D08_RH_QA_IAV_Carto_V01_V02_month_Y2014M06.csv to s3://wri-projects/Aqueduct30/qaData/Y2018M08D08_RH_QA_IAV_Carto_V01/output_V02/Y2018M08D08_RH_QA_IAV_Carto_V01_V02_month_Y2014M06.csv\n",
      "upload: ../../../../../data/Y2018M08D08_RH_QA_IAV_Carto_V01/output_V02/Y2018M08D08_RH_QA_IAV_Carto_V01_V02_month_Y2014M11.csv to s3://wri-projects/Aqueduct30/qaData/Y2018M08D08_RH_QA_IAV_Carto_V01/output_V02/Y2018M08D08_RH_QA_IAV_Carto_V01_V02_month_Y2014M11.csv\n",
      "upload: ../../../../../data/Y2018M08D08_RH_QA_IAV_Carto_V01/output_V02/Y2018M08D08_RH_QA_IAV_Carto_V01_V02_month_Y2014M02.csv to s3://wri-projects/Aqueduct30/qaData/Y2018M08D08_RH_QA_IAV_Carto_V01/output_V02/Y2018M08D08_RH_QA_IAV_Carto_V01_V02_month_Y2014M02.csv\n",
      "upload: ../../../../../data/Y2018M08D08_RH_QA_IAV_Carto_V01/output_V02/Y2018M08D08_RH_QA_IAV_Carto_V01_V02_month_Y2014M04.csv to s3://wri-projects/Aqueduct30/qaData/Y2018M08D08_RH_QA_IAV_Carto_V01/output_V02/Y2018M08D08_RH_QA_IAV_Carto_V01_V02_month_Y2014M04.csv\n",
      "upload: ../../../../../data/Y2018M08D08_RH_QA_IAV_Carto_V01/output_V02/Y2018M08D08_RH_QA_IAV_Carto_V01_V02_month_Y2014M12.csv to s3://wri-projects/Aqueduct30/qaData/Y2018M08D08_RH_QA_IAV_Carto_V01/output_V02/Y2018M08D08_RH_QA_IAV_Carto_V01_V02_month_Y2014M12.csv\n",
      "upload: ../../../../../data/Y2018M08D08_RH_QA_IAV_Carto_V01/output_V02/Y2018M08D08_RH_QA_IAV_Carto_V01_V02_year_Y2014M12.csv to s3://wri-projects/Aqueduct30/qaData/Y2018M08D08_RH_QA_IAV_Carto_V01/output_V02/Y2018M08D08_RH_QA_IAV_Carto_V01_V02_year_Y2014M12.csv\n"
     ]
    }
   ],
   "source": [
    "!aws s3 cp {ec2_output_path} {s3_output_path} --recursive"
   ]
  },
  {
   "cell_type": "code",
   "execution_count": 14,
   "metadata": {},
   "outputs": [
    {
     "name": "stdout",
     "output_type": "stream",
     "text": [
      "0:01:10.100233\n"
     ]
    }
   ],
   "source": [
    "end = datetime.datetime.now()\n",
    "elapsed = end - start\n",
    "print(elapsed)"
   ]
  },
  {
   "cell_type": "markdown",
   "metadata": {},
   "source": [
    "Previous runs:   \n",
    "0:01:11.521969\n"
   ]
  },
  {
   "cell_type": "code",
   "execution_count": null,
   "metadata": {
    "collapsed": true
   },
   "outputs": [],
   "source": []
  }
 ],
 "metadata": {
  "kernelspec": {
   "display_name": "Python 35",
   "language": "python",
   "name": "python35"
  },
  "language_info": {
   "codemirror_mode": {
    "name": "ipython",
    "version": 3
   },
   "file_extension": ".py",
   "mimetype": "text/x-python",
   "name": "python",
   "nbconvert_exporter": "python",
   "pygments_lexer": "ipython3",
   "version": "3.5.4"
  }
 },
 "nbformat": 4,
 "nbformat_minor": 2
}
