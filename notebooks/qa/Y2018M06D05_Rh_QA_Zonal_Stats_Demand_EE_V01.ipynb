{
 "cells": [
  {
   "cell_type": "code",
   "execution_count": 4,
   "metadata": {},
   "outputs": [
    {
     "name": "stdout",
     "output_type": "stream",
     "text": [
      "Input S3: s3://wri-projects/Aqueduct30/processData/Y2018M04D22_RH_Zonal_Stats_Demand_EE_V01/output_V01 \n",
      "Output s3: s3://wri-projects/Aqueduct30/qaData/Y2018M06D05_Rh_QA_Zonal_Stats_Demand_EE_V01/output_V01\n"
     ]
    }
   ],
   "source": [
    "\"\"\" Check output of zonal stats demand. Convert to CSV.\n",
    "-------------------------------------------------------------------------------\n",
    "\n",
    "Author: Rutger Hofste\n",
    "Date: 20180605\n",
    "Kernel: python35\n",
    "Docker: rutgerhofste/gisdocker:ubuntu16.04\n",
    "\n",
    "\n",
    "Args:\n",
    "    TESTING (Boolean) : Toggle testing case.\n",
    "    SCRIPT_NAME (string) : Script name.\n",
    "    OUTPUT_VERSION (integer) : output version.\n",
    "\n",
    "\"\"\"\n",
    "\n",
    "SCRIPT_NAME = \"Y2018M06D05_Rh_QA_Zonal_Stats_Demand_EE_V01\"\n",
    "OUTPUT_VERSION = 1\n",
    "OVERWRITE =1 \n",
    "\n",
    "TEMPORAL_RESOLUTION = \"month\"\n",
    "YEAR = 1970\n",
    "MONTH = 1\n",
    "\n",
    "S3_INPUT_PATH = \"s3://wri-projects/Aqueduct30/processData/Y2018M04D22_RH_Zonal_Stats_Demand_EE_V01/output_V01\"\n",
    "\n",
    "s3_output_path = \"s3://wri-projects/Aqueduct30/qaData/{}/output_V{:02.0f}\".format(SCRIPT_NAME,OUTPUT_VERSION)\n",
    "\n",
    "\n",
    "print(\"Input S3: \" + S3_INPUT_PATH,\n",
    "      \"\\nOutput s3: \" + s3_output_path)\n",
    "\n"
   ]
  },
  {
   "cell_type": "code",
   "execution_count": 2,
   "metadata": {},
   "outputs": [
    {
     "name": "stdout",
     "output_type": "stream",
     "text": [
      "Y2018M06D05 UTC 11:48\n"
     ]
    },
    {
     "data": {
      "text/plain": [
       "'3.5.4 |Anaconda, Inc.| (default, Nov 20 2017, 18:44:38) \\n[GCC 7.2.0]'"
      ]
     },
     "execution_count": 2,
     "metadata": {},
     "output_type": "execute_result"
    }
   ],
   "source": [
    "import time, datetime, sys, logging\n",
    "dateString = time.strftime(\"Y%YM%mD%d\")\n",
    "timeString = time.strftime(\"UTC %H:%M\")\n",
    "start = datetime.datetime.now()\n",
    "print(dateString,timeString)\n",
    "sys.version"
   ]
  },
  {
   "cell_type": "code",
   "execution_count": 5,
   "metadata": {},
   "outputs": [],
   "source": [
    "file_name = \"global_historical_*_{}_m_5min_1960_2014_I*Y{:04.0f}M{:02.0f}_reduced_06_30s_mean.csv\".format(TEMPORAL_RESOLUTION,YEAR,MONTH)"
   ]
  },
  {
   "cell_type": "code",
   "execution_count": 7,
   "metadata": {},
   "outputs": [
    {
     "name": "stdout",
     "output_type": "stream",
     "text": [
      "copy: s3://wri-projects/Aqueduct30/processData/Y2018M04D22_RH_Zonal_Stats_Demand_EE_V01/output_V01/global_historical_PDomWN_month_m_5min_1960_2014_I120Y1970M01_reduced_06_30s_mean.csv to s3://wri-projects/Aqueduct30/qaData/Y2018M06D05_Rh_QA_Zonal_Stats_Demand_EE_V01/output_V01/global_historical_PDomWN_month_m_5min_1960_2014_I120Y1970M01_reduced_06_30s_mean.csv\n",
      "copy: s3://wri-projects/Aqueduct30/processData/Y2018M04D22_RH_Zonal_Stats_Demand_EE_V01/output_V01/global_historical_PDomWW_month_m_5min_1960_2014_I120Y1970M01_reduced_06_30s_mean.csv to s3://wri-projects/Aqueduct30/qaData/Y2018M06D05_Rh_QA_Zonal_Stats_Demand_EE_V01/output_V01/global_historical_PDomWW_month_m_5min_1960_2014_I120Y1970M01_reduced_06_30s_mean.csv\n",
      "copy: s3://wri-projects/Aqueduct30/processData/Y2018M04D22_RH_Zonal_Stats_Demand_EE_V01/output_V01/global_historical_PIndWN_month_m_5min_1960_2014_I120Y1970M01_reduced_06_30s_mean.csv to s3://wri-projects/Aqueduct30/qaData/Y2018M06D05_Rh_QA_Zonal_Stats_Demand_EE_V01/output_V01/global_historical_PIndWN_month_m_5min_1960_2014_I120Y1970M01_reduced_06_30s_mean.csv\n",
      "copy: s3://wri-projects/Aqueduct30/processData/Y2018M04D22_RH_Zonal_Stats_Demand_EE_V01/output_V01/global_historical_PIndWW_month_m_5min_1960_2014_I120Y1970M01_reduced_06_30s_mean.csv to s3://wri-projects/Aqueduct30/qaData/Y2018M06D05_Rh_QA_Zonal_Stats_Demand_EE_V01/output_V01/global_historical_PIndWW_month_m_5min_1960_2014_I120Y1970M01_reduced_06_30s_mean.csv\n",
      "copy: s3://wri-projects/Aqueduct30/processData/Y2018M04D22_RH_Zonal_Stats_Demand_EE_V01/output_V01/global_historical_PIrrWN_month_m_5min_1960_2014_I120Y1970M01_reduced_06_30s_mean.csv to s3://wri-projects/Aqueduct30/qaData/Y2018M06D05_Rh_QA_Zonal_Stats_Demand_EE_V01/output_V01/global_historical_PIrrWN_month_m_5min_1960_2014_I120Y1970M01_reduced_06_30s_mean.csv\n",
      "copy: s3://wri-projects/Aqueduct30/processData/Y2018M04D22_RH_Zonal_Stats_Demand_EE_V01/output_V01/global_historical_PIrrWW_month_m_5min_1960_2014_I120Y1970M01_reduced_06_30s_mean.csv to s3://wri-projects/Aqueduct30/qaData/Y2018M06D05_Rh_QA_Zonal_Stats_Demand_EE_V01/output_V01/global_historical_PIrrWW_month_m_5min_1960_2014_I120Y1970M01_reduced_06_30s_mean.csv\n",
      "copy: s3://wri-projects/Aqueduct30/processData/Y2018M04D22_RH_Zonal_Stats_Demand_EE_V01/output_V01/global_historical_PLivWW_month_m_5min_1960_2014_I120Y1970M01_reduced_06_30s_mean.csv to s3://wri-projects/Aqueduct30/qaData/Y2018M06D05_Rh_QA_Zonal_Stats_Demand_EE_V01/output_V01/global_historical_PLivWW_month_m_5min_1960_2014_I120Y1970M01_reduced_06_30s_mean.csv\n",
      "                                                                                   \n"
     ]
    }
   ],
   "source": [
    "!aws s3 cp {S3_INPUT_PATH} {s3_output_path} --recursive --exclude \"*\" --include {file_name}"
   ]
  },
  {
   "cell_type": "code",
   "execution_count": 8,
   "metadata": {},
   "outputs": [
    {
     "name": "stdout",
     "output_type": "stream",
     "text": [
      "0:05:30.247277\n"
     ]
    }
   ],
   "source": [
    "end = datetime.datetime.now()\n",
    "elapsed = end - start\n",
    "print(elapsed)"
   ]
  },
  {
   "cell_type": "markdown",
   "metadata": {},
   "source": [
    "Previous runs:  \n",
    "   "
   ]
  },
  {
   "cell_type": "code",
   "execution_count": null,
   "metadata": {
    "collapsed": true
   },
   "outputs": [],
   "source": []
  }
 ],
 "metadata": {
  "kernelspec": {
   "display_name": "Python 35",
   "language": "python",
   "name": "python35"
  },
  "language_info": {
   "codemirror_mode": {
    "name": "ipython",
    "version": 3
   },
   "file_extension": ".py",
   "mimetype": "text/x-python",
   "name": "python",
   "nbconvert_exporter": "python",
   "pygments_lexer": "ipython3",
   "version": "3.5.4"
  }
 },
 "nbformat": 4,
 "nbformat_minor": 2
}
