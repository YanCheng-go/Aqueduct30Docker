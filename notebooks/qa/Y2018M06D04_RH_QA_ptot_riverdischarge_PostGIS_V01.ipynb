{
 "cells": [
  {
   "cell_type": "code",
   "execution_count": 1,
   "metadata": {},
   "outputs": [
    {
     "name": "stdout",
     "output_type": "stream",
     "text": [
      "Input Table Left:  hybas06_v04 \n",
      "Input Table Right:  y2018m05d29_rh_total_demand_postgis_30spfaf06_v01_v01 \n",
      "Output Table:  test.y2018m06d04_rh_qa_ptot_riverdischarge_postgis_v0_v01\n"
     ]
    }
   ],
   "source": [
    "\"\"\" Create a table with sample data from the ptot and riverdischarge results.\n",
    "-------------------------------------------------------------------------------\n",
    "\n",
    "Author: Rutger Hofste\n",
    "Date: 20180604\n",
    "Kernel: python35\n",
    "Docker: rutgerhofste/gisdocker:ubuntu16.04\n",
    "\n",
    "\"\"\"\n",
    "\n",
    "\n",
    "TESTING = 1\n",
    "OVERWRITE_OUTPUT = 1\n",
    "SCRIPT_NAME = 'Y2018M06D04_RH_QA_ptot_riverdischarge_PostGIS_V01'\n",
    "OUTPUT_VERSION = 1\n",
    "\n",
    "DATABASE_ENDPOINT = \"aqueduct30v05.cgpnumwmfcqc.eu-central-1.rds.amazonaws.com\"\n",
    "DATABASE_NAME = \"database01\"\n",
    "\n",
    "INPUT_TABLE_LEFT_NAME = 'hybas06_v04'\n",
    "INPUT_TABLE_RIGHT_NAME = 'y2018m05d29_rh_total_demand_postgis_30spfaf06_v01_v02'\n",
    "OUTPUT_TABLE_NAME = SCRIPT_NAME.lower() + \"_v{:02.0f}\".format(OUTPUT_VERSION)\n",
    "OUTPUT_SCHEMA = \"test\"\n",
    "\n",
    "# Filter \n",
    "TEMPORAL_RESOLUTION = \"month\"\n",
    "YEAR = 1970\n",
    "MONTH = 1\n",
    "PFAFID_RANGE_MIN = 1\n",
    "PFAFID_RANGE_MAX = 200000\n",
    "\n",
    "print(\"Input Table Left: \" , INPUT_TABLE_LEFT_NAME, \n",
    "      \"\\nInput Table Right: \" , INPUT_TABLE_RIGHT_NAME, \n",
    "      \"\\nOutput Table: \" , OUTPUT_SCHEMA +\".\"+OUTPUT_TABLE_NAME)"
   ]
  },
  {
   "cell_type": "code",
   "execution_count": 2,
   "metadata": {},
   "outputs": [
    {
     "name": "stdout",
     "output_type": "stream",
     "text": [
      "Y2018M06D04 UTC 13:13\n"
     ]
    },
    {
     "data": {
      "text/plain": [
       "'3.5.4 |Anaconda, Inc.| (default, Nov 20 2017, 18:44:38) \\n[GCC 7.2.0]'"
      ]
     },
     "execution_count": 2,
     "metadata": {},
     "output_type": "execute_result"
    }
   ],
   "source": [
    "import time, datetime, sys\n",
    "dateString = time.strftime(\"Y%YM%mD%d\")\n",
    "timeString = time.strftime(\"UTC %H:%M\")\n",
    "start = datetime.datetime.now()\n",
    "print(dateString,timeString)\n",
    "sys.version"
   ]
  },
  {
   "cell_type": "code",
   "execution_count": 3,
   "metadata": {
    "collapsed": true
   },
   "outputs": [],
   "source": [
    "# imports\n",
    "import re\n",
    "import os\n",
    "import numpy as np\n",
    "import pandas as pd\n",
    "from datetime import timedelta\n",
    "from sqlalchemy import *\n",
    "pd.set_option('display.max_columns', 500)"
   ]
  },
  {
   "cell_type": "code",
   "execution_count": 4,
   "metadata": {
    "collapsed": true
   },
   "outputs": [],
   "source": [
    "F = open(\"/.password\",\"r\")\n",
    "password = F.read().splitlines()[0]\n",
    "F.close()\n",
    "\n",
    "engine = create_engine(\"postgresql://rutgerhofste:{}@{}:5432/{}\".format(password,DATABASE_ENDPOINT,DATABASE_NAME))\n",
    "connection = engine.connect()\n",
    "\n",
    "sqls = []\n",
    "\n",
    "if OVERWRITE_OUTPUT:\n",
    "    sqls.append(\"DROP TABLE IF EXISTS {}.{};\".format(OUTPUT_SCHEMA,OUTPUT_TABLE_NAME))\n",
    "    sqls.append(\"DROP TABLE IF EXISTS {}.temp_right\".format(OUTPUT_SCHEMA))"
   ]
  },
  {
   "cell_type": "code",
   "execution_count": 5,
   "metadata": {
    "collapsed": true
   },
   "outputs": [],
   "source": [
    "sqls.append(\n",
    "\"CREATE TABLE {}.temp_right AS \"\n",
    "\"SELECT * FROM {} \"\n",
    "\"WHERE \"\n",
    "\"pfafid_30spfaf06 > {} AND \"\n",
    "\"pfafid_30spfaf06 < {} AND \"\n",
    "\"temporal_resolution = '{}' AND \"\n",
    "\"year = {} AND \"\n",
    "\"month = {};\".format(OUTPUT_SCHEMA ,INPUT_TABLE_RIGHT_NAME,PFAFID_RANGE_MIN,PFAFID_RANGE_MAX,TEMPORAL_RESOLUTION,YEAR,MONTH))"
   ]
  },
  {
   "cell_type": "code",
   "execution_count": 6,
   "metadata": {
    "collapsed": true
   },
   "outputs": [],
   "source": [
    "sqls.append(\n",
    "\"CREATE TABLE {}.{} AS \"   \n",
    "\"SELECT \"\n",
    "\"hybas06_v04.pfaf_id, \"\n",
    "\"hybas06_v04.geom, \"\n",
    "\"month, \"\n",
    "\"year, \"\n",
    "\"area_m2_30spfaf06, \"\n",
    "\"area_count_30spfaf06, \"\n",
    "\"pdomww_m_30spfaf06, \"\n",
    "\"pindww_m_30spfaf06, \"\n",
    "\"pirrww_m_30spfaf06, \"\n",
    "\"plivww_m_30spfaf06, \"\n",
    "\"ptotww_m_30spfaf06, \"\n",
    "\"pdomwn_m_30spfaf06, \"\n",
    "\"pindwn_m_30spfaf06, \"\n",
    "\"pirrwn_m_30spfaf06, \"\n",
    "\"plivwn_m_30spfaf06, \"\n",
    "\"ptotwn_m_30spfaf06, \"\n",
    "\"riverdischarge_m_30spfaf06, \"\n",
    "\"pfafid_30spfaf06 \"\n",
    "\"FROM hybas06_v04 \"\n",
    "\"INNER JOIN test.temp_right ON test.temp_right.pfafid_30spfaf06 = hybas06_v04.pfaf_id\".format(OUTPUT_SCHEMA,OUTPUT_TABLE_NAME)\n",
    ")"
   ]
  },
  {
   "cell_type": "code",
   "execution_count": 7,
   "metadata": {},
   "outputs": [
    {
     "name": "stdout",
     "output_type": "stream",
     "text": [
      "DROP TABLE IF EXISTS test.y2018m06d04_rh_qa_ptot_riverdischarge_postgis_v0_v01;\n",
      "DROP TABLE IF EXISTS test.temp_right\n",
      "CREATE TABLE test.temp_right AS SELECT * FROM y2018m05d29_rh_total_demand_postgis_30spfaf06_v01_v01 WHERE pfafid_30spfaf06 > 1 AND pfafid_30spfaf06 < 200000 AND temporal_resolution = 'month' AND year = 1970 AND month = 1;\n",
      "CREATE TABLE test.y2018m06d04_rh_qa_ptot_riverdischarge_postgis_v0_v01 AS SELECT hybas06_v04.pfaf_id, hybas06_v04.geom, month, year, area_m2_30spfaf06, area_count_30spfaf06, pdomww_m_30spfaf06, pindww_m_30spfaf06, pirrww_m_30spfaf06, plivww_m_30spfaf06, ptotww_m_30spfaf06, pdomwn_m_30spfaf06, pindwn_m_30spfaf06, pirrwn_m_30spfaf06, plivwn_m_30spfaf06, ptotwn_m_30spfaf06, riverdischarge_m_30spfaf06, pfafid_30spfaf06 FROM hybas06_v04 INNER JOIN test.temp_right ON test.temp_right.pfafid_30spfaf06 = hybas06_v04.pfaf_id\n"
     ]
    }
   ],
   "source": [
    "for sql in sqls:\n",
    "    print(sql)\n",
    "    result = engine.execute(sql)   "
   ]
  },
  {
   "cell_type": "code",
   "execution_count": 8,
   "metadata": {},
   "outputs": [
    {
     "name": "stdout",
     "output_type": "stream",
     "text": [
      "0:00:50.867271\n"
     ]
    }
   ],
   "source": [
    "end = datetime.datetime.now()\n",
    "elapsed = end - start\n",
    "print(elapsed)"
   ]
  },
  {
   "cell_type": "markdown",
   "metadata": {},
   "source": [
    "Previous runs:"
   ]
  },
  {
   "cell_type": "code",
   "execution_count": 9,
   "metadata": {
    "collapsed": true
   },
   "outputs": [],
   "source": [
    "engine.dispose()"
   ]
  },
  {
   "cell_type": "code",
   "execution_count": null,
   "metadata": {
    "collapsed": true
   },
   "outputs": [],
   "source": []
  }
 ],
 "metadata": {
  "kernelspec": {
   "display_name": "Python 35",
   "language": "python",
   "name": "python35"
  },
  "language_info": {
   "codemirror_mode": {
    "name": "ipython",
    "version": 3
   },
   "file_extension": ".py",
   "mimetype": "text/x-python",
   "name": "python",
   "nbconvert_exporter": "python",
   "pygments_lexer": "ipython3",
   "version": "3.5.4"
  }
 },
 "nbformat": 4,
 "nbformat_minor": 2
}
