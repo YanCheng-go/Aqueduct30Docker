{
 "cells": [
  {
   "cell_type": "code",
   "execution_count": 1,
   "metadata": {},
   "outputs": [
    {
     "name": "stdout",
     "output_type": "stream",
     "text": [
      "\n",
      "CARTO_OUTPUT_TABLE_NAME: : y2018m08d06_rh_qa_carto_visualization_v01_v01\n"
     ]
    }
   ],
   "source": [
    "\"\"\" Create the SQL and CartoCss required for the visual in carto builder.\n",
    "-------------------------------------------------------------------------------\n",
    "\n",
    "\n",
    "\n",
    "\n",
    "\n",
    "\"\"\"\n",
    "\n",
    "SCRIPT_NAME = 'Y2018M08D06_RH_QA_Carto_Visualization_V01'\n",
    "OUTPUT_VERSION = 1\n",
    "\n",
    "CARTO_HYBAS_INPUT_TABLE_NAME = \"y2018m07d18_rh_upload_hydrobasin_carto_v01_simplified_v03\"\n",
    "CARTO_INPUT_TABLE_NAME = \"y2018m08d06_rh_qa_delta_ids_v01_v01\"\n",
    "CARTO_OUTPUT_TABLE_NAME = SCRIPT_NAME.lower() + \"_v{:02.0f}\".format(OUTPUT_VERSION)\n",
    "\n",
    "\n",
    "print(\"\\nCARTO_OUTPUT_TABLE_NAME: :\", CARTO_OUTPUT_TABLE_NAME)"
   ]
  },
  {
   "cell_type": "code",
   "execution_count": 2,
   "metadata": {},
   "outputs": [
    {
     "name": "stdout",
     "output_type": "stream",
     "text": [
      "Y2018M08D06 UTC 15:44\n"
     ]
    },
    {
     "data": {
      "text/plain": [
       "'3.5.4 |Anaconda, Inc.| (default, Nov 20 2017, 18:44:38) \\n[GCC 7.2.0]'"
      ]
     },
     "execution_count": 2,
     "metadata": {},
     "output_type": "execute_result"
    }
   ],
   "source": [
    "import time, datetime, sys\n",
    "dateString = time.strftime(\"Y%YM%mD%d\")\n",
    "timeString = time.strftime(\"UTC %H:%M\")\n",
    "start = datetime.datetime.now()\n",
    "print(dateString,timeString)\n",
    "sys.version"
   ]
  },
  {
   "cell_type": "code",
   "execution_count": 3,
   "metadata": {
    "collapsed": true
   },
   "outputs": [],
   "source": [
    "import cartoframes"
   ]
  },
  {
   "cell_type": "code",
   "execution_count": 4,
   "metadata": {
    "collapsed": true
   },
   "outputs": [],
   "source": [
    "F = open(\"/.carto_builder\",\"r\")\n",
    "carto_api_key = F.read().splitlines()[0]\n",
    "F.close()\n",
    "creds = cartoframes.Credentials(key=carto_api_key, \n",
    "                    username='wri-playground')\n",
    "cc = cartoframes.CartoContext(creds=creds)"
   ]
  },
  {
   "cell_type": "code",
   "execution_count": 5,
   "metadata": {
    "collapsed": true
   },
   "outputs": [],
   "source": [
    "base_sql = \"\"\"\n",
    "SELECT \n",
    "  l.cartodb_id,\n",
    "  l.pfaf_id,\n",
    "  l.the_geom_webmercator,\n",
    "  r.delta_id,\n",
    "  r.waterstress_label_dimensionless_coalesced,\n",
    "  r.waterstress_category_dimensionless_coalesced,\n",
    "  r.waterstress_score_dimensionless_coalesced,\n",
    "  r.waterstress_raw_dimensionless_coalesced,\n",
    "  r.waterstress_label_dimensionless_delta,\n",
    "  r.waterstress_category_dimensionless_delta,\n",
    "  r.waterstress_score_dimensionless_delta,\n",
    "  r.waterstress_raw_dimensionless_delta,\n",
    "  r.waterstress_label_dimensionless_30spfaf06,\n",
    "  r.waterstress_category_dimensionless_30spfaf06,\n",
    "  r.waterstress_score_dimensionless_30spfaf06,\n",
    "  r.waterstress_raw_dimensionless_30spfaf06\n",
    "FROM\n",
    "  {} l \n",
    "LEFT JOIN {} r\n",
    "  ON l.pfaf_id = r.pfafid_30spfaf06      \n",
    "\"\"\".format(CARTO_HYBAS_INPUT_TABLE_NAME,CARTO_INPUT_TABLE_NAME)"
   ]
  },
  {
   "cell_type": "code",
   "execution_count": 6,
   "metadata": {},
   "outputs": [],
   "source": [
    "def create_sql(base_sql,temporal_resolution,year,month):\n",
    "    sql = base_sql\n",
    "    sql += \" WHERE temporal_resolution = '{}'\".format(temporal_resolution)\n",
    "    sql += \" AND month = {}\".format(month)\n",
    "    sql += \" AND year = {}\".format(year)\n",
    "    return sql\n",
    "    "
   ]
  },
  {
   "cell_type": "code",
   "execution_count": 7,
   "metadata": {},
   "outputs": [],
   "source": [
    "temporal_resolutions = [\"month\",\"year\"]\n",
    "\n",
    "process_dict = {}\n",
    "\n",
    "for temporal_resolution in temporal_resolutions:\n",
    "    if temporal_resolution == \"year\":\n",
    "        month = 12\n",
    "        output_file_name = \"data_retrospective_20180811_{}_Y2014M{:02.0f}\".format(temporal_resolution,month)\n",
    "        output_file_name = output_file_name.lower()\n",
    "        query =  create_sql(base_sql,\"year\",2014,month)\n",
    "        process_dict[output_file_name] = query\n",
    "        \n",
    "    \n",
    "    elif temporal_resolution == \"month\":\n",
    "        for month in range(1,13):\n",
    "            output_file_name = \"data_retrospective_20180811_{}_Y2014M{:02.0f}\".format(temporal_resolution,month)\n",
    "            output_file_name = output_file_name.lower()\n",
    "            query =  create_sql(base_sql,temporal_resolution,2014,month)\n",
    "            process_dict[output_file_name] = query\n",
    "\n",
    "    "
   ]
  },
  {
   "cell_type": "code",
   "execution_count": 8,
   "metadata": {},
   "outputs": [
    {
     "name": "stdout",
     "output_type": "stream",
     "text": [
      "output_file_name:  data_retrospective_20180811_month_y2014m06\n",
      "query:  \n",
      "SELECT \n",
      "  l.cartodb_id,\n",
      "  l.pfaf_id,\n",
      "  l.the_geom_webmercator,\n",
      "  r.delta_id,\n",
      "  r.waterstress_label_dimensionless_coalesced,\n",
      "  r.waterstress_category_dimensionless_coalesced,\n",
      "  r.waterstress_score_dimensionless_coalesced,\n",
      "  r.waterstress_raw_dimensionless_coalesced,\n",
      "  r.waterstress_label_dimensionless_delta,\n",
      "  r.waterstress_category_dimensionless_delta,\n",
      "  r.waterstress_score_dimensionless_delta,\n",
      "  r.waterstress_raw_dimensionless_delta,\n",
      "  r.waterstress_label_dimensionless_30spfaf06,\n",
      "  r.waterstress_category_dimensionless_30spfaf06,\n",
      "  r.waterstress_score_dimensionless_30spfaf06,\n",
      "  r.waterstress_raw_dimensionless_30spfaf06\n",
      "FROM\n",
      "  y2018m07d18_rh_upload_hydrobasin_carto_v01_simplified_v03 l \n",
      "LEFT JOIN y2018m08d06_rh_qa_delta_ids_v01_v01 r\n",
      "  ON l.pfaf_id = r.pfafid_30spfaf06      \n",
      " WHERE temporal_resolution = 'month' AND month = 6 AND year = 2014\n",
      "Table successfully written to CARTO: https://wri-playground.carto.com/dataset/data_retrospective_20180811_month_y2014m06\n"
     ]
    },
    {
     "ename": "CartoException",
     "evalue": "Unterminated string starting at: line 1 column 7625332 (char 7625331)",
     "output_type": "error",
     "traceback": [
      "\u001b[0;31m---------------------------------------------------------------------------\u001b[0m",
      "\u001b[0;31mJSONDecodeError\u001b[0m                           Traceback (most recent call last)",
      "\u001b[0;32m/opt/anaconda3/envs/python35/lib/python3.5/site-packages/carto/sql.py\u001b[0m in \u001b[0;36msend\u001b[0;34m(self, sql, parse_json, do_post, format, **request_args)\u001b[0m\n\u001b[1;32m     83\u001b[0m \u001b[0;34m\u001b[0m\u001b[0m\n\u001b[0;32m---> 84\u001b[0;31m             \u001b[0;32mreturn\u001b[0m \u001b[0mself\u001b[0m\u001b[0;34m.\u001b[0m\u001b[0mauth_client\u001b[0m\u001b[0;34m.\u001b[0m\u001b[0mget_response_data\u001b[0m\u001b[0;34m(\u001b[0m\u001b[0mresp\u001b[0m\u001b[0;34m,\u001b[0m \u001b[0mparse_json\u001b[0m\u001b[0;34m)\u001b[0m\u001b[0;34m\u001b[0m\u001b[0m\n\u001b[0m\u001b[1;32m     85\u001b[0m         \u001b[0;32mexcept\u001b[0m \u001b[0mException\u001b[0m \u001b[0;32mas\u001b[0m \u001b[0me\u001b[0m\u001b[0;34m:\u001b[0m\u001b[0;34m\u001b[0m\u001b[0m\n",
      "\u001b[0;32m/opt/anaconda3/envs/python35/lib/python3.5/site-packages/pyrestcli/auth.py\u001b[0m in \u001b[0;36mget_response_data\u001b[0;34m(self, response, parse_json)\u001b[0m\n\u001b[1;32m     46\u001b[0m             \u001b[0;32mif\u001b[0m \u001b[0mparse_json\u001b[0m\u001b[0;34m:\u001b[0m\u001b[0;34m\u001b[0m\u001b[0m\n\u001b[0;32m---> 47\u001b[0;31m                 \u001b[0;32mreturn\u001b[0m \u001b[0mresponse\u001b[0m\u001b[0;34m.\u001b[0m\u001b[0mjson\u001b[0m\u001b[0;34m(\u001b[0m\u001b[0;34m)\u001b[0m\u001b[0;34m\u001b[0m\u001b[0m\n\u001b[0m\u001b[1;32m     48\u001b[0m             \u001b[0;32mreturn\u001b[0m \u001b[0mresponse\u001b[0m\u001b[0;34m.\u001b[0m\u001b[0mcontent\u001b[0m\u001b[0;34m\u001b[0m\u001b[0m\n",
      "\u001b[0;32m/opt/anaconda3/envs/python35/lib/python3.5/site-packages/requests/models.py\u001b[0m in \u001b[0;36mjson\u001b[0;34m(self, **kwargs)\u001b[0m\n\u001b[1;32m    891\u001b[0m                     \u001b[0;32mpass\u001b[0m\u001b[0;34m\u001b[0m\u001b[0m\n\u001b[0;32m--> 892\u001b[0;31m         \u001b[0;32mreturn\u001b[0m \u001b[0mcomplexjson\u001b[0m\u001b[0;34m.\u001b[0m\u001b[0mloads\u001b[0m\u001b[0;34m(\u001b[0m\u001b[0mself\u001b[0m\u001b[0;34m.\u001b[0m\u001b[0mtext\u001b[0m\u001b[0;34m,\u001b[0m \u001b[0;34m**\u001b[0m\u001b[0mkwargs\u001b[0m\u001b[0;34m)\u001b[0m\u001b[0;34m\u001b[0m\u001b[0m\n\u001b[0m\u001b[1;32m    893\u001b[0m \u001b[0;34m\u001b[0m\u001b[0m\n",
      "\u001b[0;32m/opt/anaconda3/envs/python35/lib/python3.5/json/__init__.py\u001b[0m in \u001b[0;36mloads\u001b[0;34m(s, encoding, cls, object_hook, parse_float, parse_int, parse_constant, object_pairs_hook, **kw)\u001b[0m\n\u001b[1;32m    318\u001b[0m             parse_constant is None and object_pairs_hook is None and not kw):\n\u001b[0;32m--> 319\u001b[0;31m         \u001b[0;32mreturn\u001b[0m \u001b[0m_default_decoder\u001b[0m\u001b[0;34m.\u001b[0m\u001b[0mdecode\u001b[0m\u001b[0;34m(\u001b[0m\u001b[0ms\u001b[0m\u001b[0;34m)\u001b[0m\u001b[0;34m\u001b[0m\u001b[0m\n\u001b[0m\u001b[1;32m    320\u001b[0m     \u001b[0;32mif\u001b[0m \u001b[0mcls\u001b[0m \u001b[0;32mis\u001b[0m \u001b[0;32mNone\u001b[0m\u001b[0;34m:\u001b[0m\u001b[0;34m\u001b[0m\u001b[0m\n",
      "\u001b[0;32m/opt/anaconda3/envs/python35/lib/python3.5/json/decoder.py\u001b[0m in \u001b[0;36mdecode\u001b[0;34m(self, s, _w)\u001b[0m\n\u001b[1;32m    338\u001b[0m         \"\"\"\n\u001b[0;32m--> 339\u001b[0;31m         \u001b[0mobj\u001b[0m\u001b[0;34m,\u001b[0m \u001b[0mend\u001b[0m \u001b[0;34m=\u001b[0m \u001b[0mself\u001b[0m\u001b[0;34m.\u001b[0m\u001b[0mraw_decode\u001b[0m\u001b[0;34m(\u001b[0m\u001b[0ms\u001b[0m\u001b[0;34m,\u001b[0m \u001b[0midx\u001b[0m\u001b[0;34m=\u001b[0m\u001b[0m_w\u001b[0m\u001b[0;34m(\u001b[0m\u001b[0ms\u001b[0m\u001b[0;34m,\u001b[0m \u001b[0;36m0\u001b[0m\u001b[0;34m)\u001b[0m\u001b[0;34m.\u001b[0m\u001b[0mend\u001b[0m\u001b[0;34m(\u001b[0m\u001b[0;34m)\u001b[0m\u001b[0;34m)\u001b[0m\u001b[0;34m\u001b[0m\u001b[0m\n\u001b[0m\u001b[1;32m    340\u001b[0m         \u001b[0mend\u001b[0m \u001b[0;34m=\u001b[0m \u001b[0m_w\u001b[0m\u001b[0;34m(\u001b[0m\u001b[0ms\u001b[0m\u001b[0;34m,\u001b[0m \u001b[0mend\u001b[0m\u001b[0;34m)\u001b[0m\u001b[0;34m.\u001b[0m\u001b[0mend\u001b[0m\u001b[0;34m(\u001b[0m\u001b[0;34m)\u001b[0m\u001b[0;34m\u001b[0m\u001b[0m\n",
      "\u001b[0;32m/opt/anaconda3/envs/python35/lib/python3.5/json/decoder.py\u001b[0m in \u001b[0;36mraw_decode\u001b[0;34m(self, s, idx)\u001b[0m\n\u001b[1;32m    354\u001b[0m         \u001b[0;32mtry\u001b[0m\u001b[0;34m:\u001b[0m\u001b[0;34m\u001b[0m\u001b[0m\n\u001b[0;32m--> 355\u001b[0;31m             \u001b[0mobj\u001b[0m\u001b[0;34m,\u001b[0m \u001b[0mend\u001b[0m \u001b[0;34m=\u001b[0m \u001b[0mself\u001b[0m\u001b[0;34m.\u001b[0m\u001b[0mscan_once\u001b[0m\u001b[0;34m(\u001b[0m\u001b[0ms\u001b[0m\u001b[0;34m,\u001b[0m \u001b[0midx\u001b[0m\u001b[0;34m)\u001b[0m\u001b[0;34m\u001b[0m\u001b[0m\n\u001b[0m\u001b[1;32m    356\u001b[0m         \u001b[0;32mexcept\u001b[0m \u001b[0mStopIteration\u001b[0m \u001b[0;32mas\u001b[0m \u001b[0merr\u001b[0m\u001b[0;34m:\u001b[0m\u001b[0;34m\u001b[0m\u001b[0m\n",
      "\u001b[0;31mJSONDecodeError\u001b[0m: Unterminated string starting at: line 1 column 7625332 (char 7625331)",
      "\nDuring handling of the above exception, another exception occurred:\n",
      "\u001b[0;31mCartoException\u001b[0m                            Traceback (most recent call last)",
      "\u001b[0;32m<ipython-input-8-42e20e2c7cd8>\u001b[0m in \u001b[0;36m<module>\u001b[0;34m()\u001b[0m\n\u001b[1;32m      3\u001b[0m     \u001b[0mprint\u001b[0m\u001b[0;34m(\u001b[0m\u001b[0;34m\"query: \"\u001b[0m\u001b[0;34m,\u001b[0m\u001b[0mquery\u001b[0m\u001b[0;34m)\u001b[0m\u001b[0;34m\u001b[0m\u001b[0m\n\u001b[1;32m      4\u001b[0m     cc.query(query=query,\n\u001b[0;32m----> 5\u001b[0;31m              table_name= output_file_name)\n\u001b[0m",
      "\u001b[0;32m/opt/anaconda3/envs/python35/lib/python3.5/site-packages/cartoframes/context.py\u001b[0m in \u001b[0;36mquery\u001b[0;34m(self, query, table_name, decode_geom)\u001b[0m\n\u001b[1;32m    755\u001b[0m                     table_name=final_table_name),\n\u001b[1;32m    756\u001b[0m                 \u001b[0mskipfields\u001b[0m\u001b[0;34m=\u001b[0m\u001b[0;34m'the_geom_webmercator'\u001b[0m\u001b[0;34m,\u001b[0m\u001b[0;34m\u001b[0m\u001b[0m\n\u001b[0;32m--> 757\u001b[0;31m                 **DEFAULT_SQL_ARGS)\n\u001b[0m\u001b[1;32m    758\u001b[0m         \u001b[0;32melse\u001b[0m\u001b[0;34m:\u001b[0m\u001b[0;34m\u001b[0m\u001b[0m\n\u001b[1;32m    759\u001b[0m             select_res = self.sql_client.send(\n",
      "\u001b[0;32m/opt/anaconda3/envs/python35/lib/python3.5/site-packages/carto/sql.py\u001b[0m in \u001b[0;36msend\u001b[0;34m(self, sql, parse_json, do_post, format, **request_args)\u001b[0m\n\u001b[1;32m     84\u001b[0m             \u001b[0;32mreturn\u001b[0m \u001b[0mself\u001b[0m\u001b[0;34m.\u001b[0m\u001b[0mauth_client\u001b[0m\u001b[0;34m.\u001b[0m\u001b[0mget_response_data\u001b[0m\u001b[0;34m(\u001b[0m\u001b[0mresp\u001b[0m\u001b[0;34m,\u001b[0m \u001b[0mparse_json\u001b[0m\u001b[0;34m)\u001b[0m\u001b[0;34m\u001b[0m\u001b[0m\n\u001b[1;32m     85\u001b[0m         \u001b[0;32mexcept\u001b[0m \u001b[0mException\u001b[0m \u001b[0;32mas\u001b[0m \u001b[0me\u001b[0m\u001b[0;34m:\u001b[0m\u001b[0;34m\u001b[0m\u001b[0m\n\u001b[0;32m---> 86\u001b[0;31m             \u001b[0;32mraise\u001b[0m \u001b[0mCartoException\u001b[0m\u001b[0;34m(\u001b[0m\u001b[0me\u001b[0m\u001b[0;34m)\u001b[0m\u001b[0;34m\u001b[0m\u001b[0m\n\u001b[0m\u001b[1;32m     87\u001b[0m \u001b[0;34m\u001b[0m\u001b[0m\n\u001b[1;32m     88\u001b[0m \u001b[0;34m\u001b[0m\u001b[0m\n",
      "\u001b[0;31mCartoException\u001b[0m: Unterminated string starting at: line 1 column 7625332 (char 7625331)"
     ]
    }
   ],
   "source": [
    "for output_file_name, query in process_dict.items():\n",
    "    print(\"output_file_name: \",output_file_name)\n",
    "    print(\"query: \",query)\n",
    "    cc.query(query=query,\n",
    "             table_name= output_file_name)"
   ]
  },
  {
   "cell_type": "code",
   "execution_count": 9,
   "metadata": {
    "collapsed": true
   },
   "outputs": [],
   "source": [
    "# carto css"
   ]
  },
  {
   "cell_type": "code",
   "execution_count": null,
   "metadata": {
    "collapsed": true
   },
   "outputs": [],
   "source": [
    "#layer {\n",
    "  polygon-fill: ramp([waterstress_raw_dimensionless_30spfaf06], (#4E4E4E,#ffff99, #ffe600, #ff9900, #ff1900, #990000,#808080), quantiles);\n",
    "}\n",
    "#layer::outline {\n",
    "  line-width: 1;\n",
    "  line-color: #FFFFFF;\n",
    "  line-opacity: 0.5;\n",
    "}"
   ]
  },
  {
   "cell_type": "code",
   "execution_count": null,
   "metadata": {
    "collapsed": true
   },
   "outputs": [],
   "source": []
  },
  {
   "cell_type": "code",
   "execution_count": null,
   "metadata": {
    "collapsed": true
   },
   "outputs": [],
   "source": []
  },
  {
   "cell_type": "code",
   "execution_count": null,
   "metadata": {},
   "outputs": [],
   "source": [
    "end = datetime.datetime.now()\n",
    "elapsed = end - start\n",
    "print(elapsed)"
   ]
  },
  {
   "cell_type": "markdown",
   "metadata": {},
   "source": [
    "Previous runs:  \n"
   ]
  }
 ],
 "metadata": {
  "kernelspec": {
   "display_name": "Python 35",
   "language": "python",
   "name": "python35"
  },
  "language_info": {
   "codemirror_mode": {
    "name": "ipython",
    "version": 3
   },
   "file_extension": ".py",
   "mimetype": "text/x-python",
   "name": "python",
   "nbconvert_exporter": "python",
   "pygments_lexer": "ipython3",
   "version": "3.5.4"
  }
 },
 "nbformat": 4,
 "nbformat_minor": 2
}
