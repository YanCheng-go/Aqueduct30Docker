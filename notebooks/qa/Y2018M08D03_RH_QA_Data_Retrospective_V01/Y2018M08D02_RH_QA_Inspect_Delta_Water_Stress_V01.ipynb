{
 "cells": [
  {
   "cell_type": "code",
   "execution_count": 2,
   "metadata": {},
   "outputs": [
    {
     "name": "stdout",
     "output_type": "stream",
     "text": [
      "\n",
      "BQ_INPUT_DATASET_NAME:  aqueduct30v01 \n",
      "BQ_OUTPUT_DATASET_NAME:  Y2018M08D03_RH_QA_Data_Retrospective_V01 \n",
      "BQ_INPUT_TABLE_NAME:  y2018m08d01_rh_intra_annual_variability_coef_var_v01_v01 \n",
      "BQ_OUTPUT_TABLE_NAME:  y2018m08d02_rh_qa_inspect_delta_water_stress_v01_v01\n"
     ]
    }
   ],
   "source": [
    "\"\"\" Water Stress in delta basins vs individual basins.\n",
    "-------------------------------------------------------------------------------\n",
    "\n",
    "\n",
    "\n",
    "\"\"\"\n",
    "\n",
    "TESTING = 0\n",
    "OVERWRITE_OUTPUT = 1\n",
    "SCRIPT_NAME = 'Y2018M08D02_RH_QA_Inspect_Delta_Water_Stress_V01'\n",
    "OUTPUT_VERSION = 1\n",
    "\n",
    "BQ_PROJECT_ID = \"aqueduct30\"\n",
    "BQ_INPUT_DATASET_NAME = \"aqueduct30v01\"\n",
    "BQ_OUTPUT_DATASET_NAME = \"Y2018M08D03_RH_QA_Data_Retrospective_V01\"\n",
    "BQ_INPUT_TABLE_NAME = \"y2018m08d01_rh_intra_annual_variability_coef_var_v01_v01\"\n",
    "BQ_OUTPUT_TABLE_NAME = \"{}_v{:02.0f}\".format(SCRIPT_NAME,OUTPUT_VERSION).lower()\n",
    "\n",
    "\n",
    "\n",
    "\n",
    "print(\"\\nBQ_INPUT_DATASET_NAME: \", BQ_INPUT_DATASET_NAME,\n",
    "      \"\\nBQ_OUTPUT_DATASET_NAME: \", BQ_OUTPUT_DATASET_NAME,\n",
    "      \"\\nBQ_INPUT_TABLE_NAME: \", BQ_INPUT_TABLE_NAME,\n",
    "      \"\\nBQ_OUTPUT_TABLE_NAME: \", BQ_OUTPUT_TABLE_NAME)"
   ]
  },
  {
   "cell_type": "code",
   "execution_count": 3,
   "metadata": {},
   "outputs": [
    {
     "name": "stdout",
     "output_type": "stream",
     "text": [
      "Y2018M08D02 UTC 12:58\n"
     ]
    },
    {
     "data": {
      "text/plain": [
       "'3.5.4 |Anaconda, Inc.| (default, Nov 20 2017, 18:44:38) \\n[GCC 7.2.0]'"
      ]
     },
     "execution_count": 3,
     "metadata": {},
     "output_type": "execute_result"
    }
   ],
   "source": [
    "import time, datetime, sys\n",
    "dateString = time.strftime(\"Y%YM%mD%d\")\n",
    "timeString = time.strftime(\"UTC %H:%M\")\n",
    "start = datetime.datetime.now()\n",
    "print(dateString,timeString)\n",
    "sys.version"
   ]
  },
  {
   "cell_type": "code",
   "execution_count": 24,
   "metadata": {},
   "outputs": [
    {
     "name": "stdout",
     "output_type": "stream",
     "text": [
      "The google.cloud.bigquery extension is already loaded. To reload it, use:\n",
      "  %reload_ext google.cloud.bigquery\n"
     ]
    }
   ],
   "source": [
    "import os\n",
    "import pandas as pd\n",
    "import geopandas as gpd\n",
    "from google.cloud import bigquery\n",
    "%load_ext google.cloud.bigquery\n",
    "\n",
    "os.environ[\"GOOGLE_APPLICATION_CREDENTIALS\"] = \"/.google.json\"\n",
    "os.environ[\"GOOGLE_CLOUD_PROJECT\"] = \"aqueduct30\"\n",
    "client = bigquery.Client(project=BQ_PROJECT_ID)"
   ]
  },
  {
   "cell_type": "code",
   "execution_count": 5,
   "metadata": {
    "collapsed": true
   },
   "outputs": [],
   "source": [
    "def pre_process_table(bq_output_dataset_name,bq_output_table_name,overwrite=False):\n",
    "    \"\"\" Checks if a bq table exists and deletes if necessary.\n",
    "    \n",
    "    Args:\n",
    "        bq_output_dataset_name (string): BQ Dataset name.\n",
    "        bq_output_table_name (string): BQ table name.\n",
    "    Returns:\n",
    "        1\n",
    "    \n",
    "    \"\"\"\n",
    "    \n",
    "    dataset_ref = client.dataset(bq_output_dataset_name)\n",
    "    tables_server = list(client.list_tables(dataset_ref))\n",
    "    tables_client = list(map(lambda x: x.table_id,tables_server))\n",
    "    table_exists = bq_output_table_name in tables_client\n",
    "    if table_exists:\n",
    "        print(\"Table {}{} exists\".format(bq_output_dataset_name,bq_output_table_name))\n",
    "        if overwrite:\n",
    "            table_ref = dataset_ref.table(bq_output_table_name)\n",
    "            client.delete_table(table_ref)\n",
    "            print(\"Overwrite True, deleting table {}{}\".format(bq_output_dataset_name,bq_output_table_name))\n",
    "        else:\n",
    "            print(\"Overwrite False, keeping table {}{}\".format(bq_output_dataset_name,bq_output_table_name))\n",
    "    else:\n",
    "        print(\"Table {}{} does not exist\".format(bq_output_dataset_name,bq_output_table_name))\n",
    "    return 1"
   ]
  },
  {
   "cell_type": "code",
   "execution_count": 7,
   "metadata": {
    "collapsed": true
   },
   "outputs": [],
   "source": [
    "dataset_ref = client.dataset(BQ_OUTPUT_DATASET_NAME)\n",
    "dataset = bigquery.Dataset(dataset_ref)\n",
    "dataset.location = 'US'\n",
    "dataset = client.create_dataset(dataset) "
   ]
  },
  {
   "cell_type": "code",
   "execution_count": 8,
   "metadata": {},
   "outputs": [
    {
     "name": "stdout",
     "output_type": "stream",
     "text": [
      "Table Y2018M08D03_RH_QA_Data_Retrospective_V01y2018m08d02_rh_qa_inspect_delta_water_stress_v01_v01 does not exist\n"
     ]
    },
    {
     "data": {
      "text/plain": [
       "1"
      ]
     },
     "execution_count": 8,
     "metadata": {},
     "output_type": "execute_result"
    }
   ],
   "source": [
    "pre_process_table(BQ_OUTPUT_DATASET_NAME,BQ_OUTPUT_TABLE_NAME,OVERWRITE_OUTPUT)"
   ]
  },
  {
   "cell_type": "code",
   "execution_count": 20,
   "metadata": {},
   "outputs": [],
   "source": [
    "sql = \"\"\"\n",
    "SELECT\n",
    "  delta_id,\n",
    "  pfafid_30spfaf06,\n",
    "  temporal_resolution,\n",
    "  year,\n",
    "  month,\n",
    "  waterstress_label_dimensionless_coalesced,\n",
    "  waterstress_category_dimensionless_coalesced,\n",
    "  waterstress_score_dimensionless_coalesced,\n",
    "  waterstress_raw_dimensionless_coalesced,\n",
    "  waterstress_label_dimensionless_delta,\n",
    "  waterstress_category_dimensionless_delta,\n",
    "  waterstress_score_dimensionless_delta,\n",
    "  waterstress_raw_dimensionless_delta,\n",
    "  waterstress_label_dimensionless_30spfaf06,\n",
    "  waterstress_category_dimensionless_30spfaf06,\n",
    "  waterstress_score_dimensionless_30spfaf06,\n",
    "  waterstress_raw_dimensionless_30spfaf06,\n",
    "  avg1y_ols_ols10_weighted_waterstress_dimensionless_30spfaf06,\n",
    "  avg1y_ols_ols10_waterstress_dimensionless_30spfaf06\n",
    "FROM\n",
    "  `aqueduct30.aqueduct30v01.y2018m07d30_rh_gcs_to_bq_v01_v02`\n",
    "WHERE\n",
    "  delta_id >=0 AND year = 2014\n",
    "ORDER BY \n",
    "  pfafid_30spfaf06,\n",
    "  temporal_resolution,\n",
    "  year,\n",
    "  month\n",
    "\"\"\""
   ]
  },
  {
   "cell_type": "code",
   "execution_count": 21,
   "metadata": {},
   "outputs": [],
   "source": [
    "df = pd.read_gbq(query=sql,dialect=\"standard\")"
   ]
  },
  {
   "cell_type": "code",
   "execution_count": 22,
   "metadata": {},
   "outputs": [
    {
     "data": {
      "text/plain": [
       "(2548, 19)"
      ]
     },
     "execution_count": 22,
     "metadata": {},
     "output_type": "execute_result"
    }
   ],
   "source": [
    "df.shape"
   ]
  },
  {
   "cell_type": "code",
   "execution_count": 23,
   "metadata": {},
   "outputs": [
    {
     "data": {
      "text/html": [
       "<div>\n",
       "<style scoped>\n",
       "    .dataframe tbody tr th:only-of-type {\n",
       "        vertical-align: middle;\n",
       "    }\n",
       "\n",
       "    .dataframe tbody tr th {\n",
       "        vertical-align: top;\n",
       "    }\n",
       "\n",
       "    .dataframe thead th {\n",
       "        text-align: right;\n",
       "    }\n",
       "</style>\n",
       "<table border=\"1\" class=\"dataframe\">\n",
       "  <thead>\n",
       "    <tr style=\"text-align: right;\">\n",
       "      <th></th>\n",
       "      <th>delta_id</th>\n",
       "      <th>pfafid_30spfaf06</th>\n",
       "      <th>temporal_resolution</th>\n",
       "      <th>year</th>\n",
       "      <th>month</th>\n",
       "      <th>waterstress_label_dimensionless_coalesced</th>\n",
       "      <th>waterstress_category_dimensionless_coalesced</th>\n",
       "      <th>waterstress_score_dimensionless_coalesced</th>\n",
       "      <th>waterstress_raw_dimensionless_coalesced</th>\n",
       "      <th>waterstress_label_dimensionless_delta</th>\n",
       "      <th>waterstress_category_dimensionless_delta</th>\n",
       "      <th>waterstress_score_dimensionless_delta</th>\n",
       "      <th>waterstress_raw_dimensionless_delta</th>\n",
       "      <th>waterstress_label_dimensionless_30spfaf06</th>\n",
       "      <th>waterstress_category_dimensionless_30spfaf06</th>\n",
       "      <th>waterstress_score_dimensionless_30spfaf06</th>\n",
       "      <th>waterstress_raw_dimensionless_30spfaf06</th>\n",
       "      <th>avg1y_ols_ols10_weighted_waterstress_dimensionless_30spfaf06</th>\n",
       "      <th>avg1y_ols_ols10_waterstress_dimensionless_30spfaf06</th>\n",
       "    </tr>\n",
       "  </thead>\n",
       "  <tbody>\n",
       "    <tr>\n",
       "      <th>0</th>\n",
       "      <td>63</td>\n",
       "      <td>117960</td>\n",
       "      <td>month</td>\n",
       "      <td>2014</td>\n",
       "      <td>1</td>\n",
       "      <td>Low</td>\n",
       "      <td>0.0</td>\n",
       "      <td>0.0</td>\n",
       "      <td>0.000177</td>\n",
       "      <td>Low</td>\n",
       "      <td>0.0</td>\n",
       "      <td>0.0</td>\n",
       "      <td>0.000177</td>\n",
       "      <td>Low</td>\n",
       "      <td>0.0</td>\n",
       "      <td>0.0</td>\n",
       "      <td>0.000249</td>\n",
       "      <td>0.000804</td>\n",
       "      <td>0.000769</td>\n",
       "    </tr>\n",
       "    <tr>\n",
       "      <th>1</th>\n",
       "      <td>63</td>\n",
       "      <td>117960</td>\n",
       "      <td>month</td>\n",
       "      <td>2014</td>\n",
       "      <td>2</td>\n",
       "      <td>Low</td>\n",
       "      <td>0.0</td>\n",
       "      <td>0.0</td>\n",
       "      <td>0.000179</td>\n",
       "      <td>Low</td>\n",
       "      <td>0.0</td>\n",
       "      <td>0.0</td>\n",
       "      <td>0.000179</td>\n",
       "      <td>Low</td>\n",
       "      <td>0.0</td>\n",
       "      <td>0.0</td>\n",
       "      <td>0.000254</td>\n",
       "      <td>0.000804</td>\n",
       "      <td>0.000769</td>\n",
       "    </tr>\n",
       "    <tr>\n",
       "      <th>2</th>\n",
       "      <td>63</td>\n",
       "      <td>117960</td>\n",
       "      <td>month</td>\n",
       "      <td>2014</td>\n",
       "      <td>3</td>\n",
       "      <td>Low</td>\n",
       "      <td>0.0</td>\n",
       "      <td>0.0</td>\n",
       "      <td>0.000154</td>\n",
       "      <td>Low</td>\n",
       "      <td>0.0</td>\n",
       "      <td>0.0</td>\n",
       "      <td>0.000154</td>\n",
       "      <td>Low</td>\n",
       "      <td>0.0</td>\n",
       "      <td>0.0</td>\n",
       "      <td>0.000216</td>\n",
       "      <td>0.000804</td>\n",
       "      <td>0.000769</td>\n",
       "    </tr>\n",
       "    <tr>\n",
       "      <th>3</th>\n",
       "      <td>63</td>\n",
       "      <td>117960</td>\n",
       "      <td>month</td>\n",
       "      <td>2014</td>\n",
       "      <td>4</td>\n",
       "      <td>Low</td>\n",
       "      <td>0.0</td>\n",
       "      <td>0.0</td>\n",
       "      <td>0.000282</td>\n",
       "      <td>Low</td>\n",
       "      <td>0.0</td>\n",
       "      <td>0.0</td>\n",
       "      <td>0.000282</td>\n",
       "      <td>Low</td>\n",
       "      <td>0.0</td>\n",
       "      <td>0.0</td>\n",
       "      <td>0.000392</td>\n",
       "      <td>0.000804</td>\n",
       "      <td>0.000769</td>\n",
       "    </tr>\n",
       "    <tr>\n",
       "      <th>4</th>\n",
       "      <td>63</td>\n",
       "      <td>117960</td>\n",
       "      <td>month</td>\n",
       "      <td>2014</td>\n",
       "      <td>5</td>\n",
       "      <td>Low</td>\n",
       "      <td>0.0</td>\n",
       "      <td>0.0</td>\n",
       "      <td>0.000411</td>\n",
       "      <td>Low</td>\n",
       "      <td>0.0</td>\n",
       "      <td>0.0</td>\n",
       "      <td>0.000411</td>\n",
       "      <td>Low</td>\n",
       "      <td>0.0</td>\n",
       "      <td>0.0</td>\n",
       "      <td>0.000509</td>\n",
       "      <td>0.000804</td>\n",
       "      <td>0.000769</td>\n",
       "    </tr>\n",
       "  </tbody>\n",
       "</table>\n",
       "</div>"
      ],
      "text/plain": [
       "   delta_id  pfafid_30spfaf06 temporal_resolution  year  month  \\\n",
       "0        63            117960               month  2014      1   \n",
       "1        63            117960               month  2014      2   \n",
       "2        63            117960               month  2014      3   \n",
       "3        63            117960               month  2014      4   \n",
       "4        63            117960               month  2014      5   \n",
       "\n",
       "  waterstress_label_dimensionless_coalesced  \\\n",
       "0                                       Low   \n",
       "1                                       Low   \n",
       "2                                       Low   \n",
       "3                                       Low   \n",
       "4                                       Low   \n",
       "\n",
       "   waterstress_category_dimensionless_coalesced  \\\n",
       "0                                           0.0   \n",
       "1                                           0.0   \n",
       "2                                           0.0   \n",
       "3                                           0.0   \n",
       "4                                           0.0   \n",
       "\n",
       "   waterstress_score_dimensionless_coalesced  \\\n",
       "0                                        0.0   \n",
       "1                                        0.0   \n",
       "2                                        0.0   \n",
       "3                                        0.0   \n",
       "4                                        0.0   \n",
       "\n",
       "   waterstress_raw_dimensionless_coalesced  \\\n",
       "0                                 0.000177   \n",
       "1                                 0.000179   \n",
       "2                                 0.000154   \n",
       "3                                 0.000282   \n",
       "4                                 0.000411   \n",
       "\n",
       "  waterstress_label_dimensionless_delta  \\\n",
       "0                                   Low   \n",
       "1                                   Low   \n",
       "2                                   Low   \n",
       "3                                   Low   \n",
       "4                                   Low   \n",
       "\n",
       "   waterstress_category_dimensionless_delta  \\\n",
       "0                                       0.0   \n",
       "1                                       0.0   \n",
       "2                                       0.0   \n",
       "3                                       0.0   \n",
       "4                                       0.0   \n",
       "\n",
       "   waterstress_score_dimensionless_delta  waterstress_raw_dimensionless_delta  \\\n",
       "0                                    0.0                             0.000177   \n",
       "1                                    0.0                             0.000179   \n",
       "2                                    0.0                             0.000154   \n",
       "3                                    0.0                             0.000282   \n",
       "4                                    0.0                             0.000411   \n",
       "\n",
       "  waterstress_label_dimensionless_30spfaf06  \\\n",
       "0                                       Low   \n",
       "1                                       Low   \n",
       "2                                       Low   \n",
       "3                                       Low   \n",
       "4                                       Low   \n",
       "\n",
       "   waterstress_category_dimensionless_30spfaf06  \\\n",
       "0                                           0.0   \n",
       "1                                           0.0   \n",
       "2                                           0.0   \n",
       "3                                           0.0   \n",
       "4                                           0.0   \n",
       "\n",
       "   waterstress_score_dimensionless_30spfaf06  \\\n",
       "0                                        0.0   \n",
       "1                                        0.0   \n",
       "2                                        0.0   \n",
       "3                                        0.0   \n",
       "4                                        0.0   \n",
       "\n",
       "   waterstress_raw_dimensionless_30spfaf06  \\\n",
       "0                                 0.000249   \n",
       "1                                 0.000254   \n",
       "2                                 0.000216   \n",
       "3                                 0.000392   \n",
       "4                                 0.000509   \n",
       "\n",
       "   avg1y_ols_ols10_weighted_waterstress_dimensionless_30spfaf06  \\\n",
       "0                                           0.000804              \n",
       "1                                           0.000804              \n",
       "2                                           0.000804              \n",
       "3                                           0.000804              \n",
       "4                                           0.000804              \n",
       "\n",
       "   avg1y_ols_ols10_waterstress_dimensionless_30spfaf06  \n",
       "0                                           0.000769    \n",
       "1                                           0.000769    \n",
       "2                                           0.000769    \n",
       "3                                           0.000769    \n",
       "4                                           0.000769    "
      ]
     },
     "execution_count": 23,
     "metadata": {},
     "output_type": "execute_result"
    }
   ],
   "source": [
    "df.head()"
   ]
  },
  {
   "cell_type": "code",
   "execution_count": null,
   "metadata": {
    "collapsed": true
   },
   "outputs": [],
   "source": []
  }
 ],
 "metadata": {
  "kernelspec": {
   "display_name": "Python 35",
   "language": "python",
   "name": "python35"
  },
  "language_info": {
   "codemirror_mode": {
    "name": "ipython",
    "version": 3
   },
   "file_extension": ".py",
   "mimetype": "text/x-python",
   "name": "python",
   "nbconvert_exporter": "python",
   "pygments_lexer": "ipython3",
   "version": "3.5.4"
  }
 },
 "nbformat": 4,
 "nbformat_minor": 2
}
