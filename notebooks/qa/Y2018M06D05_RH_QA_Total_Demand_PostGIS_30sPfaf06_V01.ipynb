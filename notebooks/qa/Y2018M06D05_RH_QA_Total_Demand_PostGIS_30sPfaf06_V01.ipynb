{
 "cells": [
  {
   "cell_type": "code",
   "execution_count": 1,
   "metadata": {},
   "outputs": [
    {
     "name": "stdout",
     "output_type": "stream",
     "text": [
      "Input Table:  y2018m05d29_rh_total_demand_postgis_30spfaf06_v01_v02 \n",
      "Output Table:  test.y2018m06d05_rh_qa_total_demand_postgis_30spfaf06_v01_v01\n"
     ]
    }
   ],
   "source": [
    "\"\"\" For a specific sub basin, query a 10y series for demand and supply to check\n",
    "input for ma10.\n",
    "-------------------------------------------------------------------------------\n",
    "\n",
    "Author: Rutger Hofste\n",
    "Date: 20180605\n",
    "Kernel: python35\n",
    "Docker: rutgerhofste/gisdocker:ubuntu16.04\n",
    "\n",
    "\"\"\"\n",
    "\n",
    "TESTING = 1\n",
    "OVERWRITE_OUTPUT = 1\n",
    "SCRIPT_NAME = 'Y2018M06D05_RH_QA_Total_Demand_PostGIS_30sPfaf06_V01'\n",
    "OUTPUT_VERSION = 1\n",
    "\n",
    "DATABASE_ENDPOINT = \"aqueduct30v05.cgpnumwmfcqc.eu-central-1.rds.amazonaws.com\"\n",
    "DATABASE_NAME = \"database01\"\n",
    "\n",
    "INPUT_TABLE_NAME = 'y2018m05d29_rh_total_demand_postgis_30spfaf06_v01_v02'\n",
    "OUTPUT_TABLE_NAME = SCRIPT_NAME.lower() + \"_v{:02.0f}\".format(OUTPUT_VERSION)\n",
    "OUTPUT_SCHEMA = \"test\"\n",
    "\n",
    "\n",
    "# Filter \n",
    "PFAF_ID = 172111\n",
    "TEMPORAL_RESOLUTION = \"month\"\n",
    "YEAR = 1970 #final year i.e. ma starting for year-9\n",
    "MONTH = 1\n",
    "\n",
    "\n",
    "print(\"Input Table: \" , INPUT_TABLE_NAME, \n",
    "      \"\\nOutput Table: \" , OUTPUT_SCHEMA +\".\"+OUTPUT_TABLE_NAME)\n",
    "\n"
   ]
  },
  {
   "cell_type": "code",
   "execution_count": 2,
   "metadata": {},
   "outputs": [
    {
     "name": "stdout",
     "output_type": "stream",
     "text": [
      "Y2018M06D05 UTC 08:55\n"
     ]
    },
    {
     "data": {
      "text/plain": [
       "'3.5.4 |Anaconda, Inc.| (default, Nov 20 2017, 18:44:38) \\n[GCC 7.2.0]'"
      ]
     },
     "execution_count": 2,
     "metadata": {},
     "output_type": "execute_result"
    }
   ],
   "source": [
    "import time, datetime, sys\n",
    "dateString = time.strftime(\"Y%YM%mD%d\")\n",
    "timeString = time.strftime(\"UTC %H:%M\")\n",
    "start = datetime.datetime.now()\n",
    "print(dateString,timeString)\n",
    "sys.version"
   ]
  },
  {
   "cell_type": "code",
   "execution_count": 3,
   "metadata": {
    "collapsed": true
   },
   "outputs": [],
   "source": [
    "# imports\n",
    "import re\n",
    "import os\n",
    "import numpy as np\n",
    "import pandas as pd\n",
    "from datetime import timedelta\n",
    "from sqlalchemy import *\n",
    "pd.set_option('display.max_columns', 500)"
   ]
  },
  {
   "cell_type": "code",
   "execution_count": 4,
   "metadata": {},
   "outputs": [],
   "source": [
    "F = open(\"/.password\",\"r\")\n",
    "password = F.read().splitlines()[0]\n",
    "F.close()\n",
    "\n",
    "engine = create_engine(\"postgresql://rutgerhofste:{}@{}:5432/{}\".format(password,DATABASE_ENDPOINT,DATABASE_NAME))\n",
    "connection = engine.connect()\n",
    "\n",
    "sqls = []\n",
    "\n",
    "if OVERWRITE_OUTPUT:\n",
    "    sqls.append(\"DROP TABLE IF EXISTS {}.{};\".format(OUTPUT_SCHEMA,OUTPUT_TABLE_NAME))"
   ]
  },
  {
   "cell_type": "code",
   "execution_count": 5,
   "metadata": {},
   "outputs": [],
   "source": [
    "sqls.append(\n",
    "\"CREATE TABLE {}.{} AS \"\n",
    "\"SELECT * FROM {} \"\n",
    "\"WHERE pfafid_30spfaf06 = {} AND \"\n",
    "\"temporal_resolution = '{}' AND \"\n",
    "\"year <= {} AND \"\n",
    "\"year >= {} AND \"\n",
    "\"month = {};\".format(OUTPUT_SCHEMA,OUTPUT_TABLE_NAME, INPUT_TABLE_NAME,PFAF_ID,TEMPORAL_RESOLUTION,YEAR,YEAR-9,MONTH)\n",
    ")"
   ]
  },
  {
   "cell_type": "code",
   "execution_count": 6,
   "metadata": {},
   "outputs": [
    {
     "data": {
      "text/plain": [
       "['DROP TABLE IF EXISTS test.y2018m06d05_rh_qa_total_demand_postgis_30spfaf06_v01_v01;',\n",
       " \"CREATE TABLE test.y2018m06d05_rh_qa_total_demand_postgis_30spfaf06_v01_v01 AS SELECT * FROM y2018m05d29_rh_total_demand_postgis_30spfaf06_v01_v02 WHERE pfafid_30spfaf06 = 172111 AND temporal_resolution = 'month' AND year <= 1970 AND year >= 1961 AND month = 1;\"]"
      ]
     },
     "execution_count": 6,
     "metadata": {},
     "output_type": "execute_result"
    }
   ],
   "source": [
    "sqls"
   ]
  },
  {
   "cell_type": "code",
   "execution_count": 7,
   "metadata": {},
   "outputs": [
    {
     "name": "stdout",
     "output_type": "stream",
     "text": [
      "DROP TABLE IF EXISTS test.y2018m06d05_rh_qa_total_demand_postgis_30spfaf06_v01_v01;\n",
      "CREATE TABLE test.y2018m06d05_rh_qa_total_demand_postgis_30spfaf06_v01_v01 AS SELECT * FROM y2018m05d29_rh_total_demand_postgis_30spfaf06_v01_v02 WHERE pfafid_30spfaf06 = 172111 AND temporal_resolution = 'month' AND year <= 1970 AND year >= 1961 AND month = 1;\n"
     ]
    }
   ],
   "source": [
    "for sql in sqls:\n",
    "    print(sql)\n",
    "    result = engine.execute(sql)   "
   ]
  },
  {
   "cell_type": "code",
   "execution_count": 8,
   "metadata": {},
   "outputs": [
    {
     "name": "stdout",
     "output_type": "stream",
     "text": [
      "0:01:22.151884\n"
     ]
    }
   ],
   "source": [
    "end = datetime.datetime.now()\n",
    "elapsed = end - start\n",
    "print(elapsed)"
   ]
  },
  {
   "cell_type": "code",
   "execution_count": null,
   "metadata": {
    "collapsed": true
   },
   "outputs": [],
   "source": []
  }
 ],
 "metadata": {
  "kernelspec": {
   "display_name": "Python 35",
   "language": "python",
   "name": "python35"
  },
  "language_info": {
   "codemirror_mode": {
    "name": "ipython",
    "version": 3
   },
   "file_extension": ".py",
   "mimetype": "text/x-python",
   "name": "python",
   "nbconvert_exporter": "python",
   "pygments_lexer": "ipython3",
   "version": "3.5.4"
  }
 },
 "nbformat": 4,
 "nbformat_minor": 2
}
