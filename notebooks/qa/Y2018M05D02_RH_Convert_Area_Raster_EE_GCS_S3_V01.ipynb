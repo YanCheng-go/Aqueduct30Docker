{
 "cells": [
  {
   "cell_type": "code",
   "execution_count": 1,
   "metadata": {},
   "outputs": [
    {
     "name": "stdout",
     "output_type": "stream",
     "text": [
      "Input ee : projects/WRI-Aquaduct/PCRGlobWB20_Aux_V02/\n",
      "Output gcs : gs://aqueduct30_v01/Y2018M05D02_RH_Convert_Area_Raster_EE_GCS_S3_V01/output_V07/\n"
     ]
    }
   ],
   "source": [
    "\"\"\" Area rasters were created in ee, storing in gcs and s3.\n",
    "-------------------------------------------------------------------------------\n",
    "Copy area rasters (5min and 30s) to Google Cloud Storage.\n",
    "\n",
    "Creates global rasters by default and sample rasters in testing mode. \n",
    "Sample rasters have dimensions as specified in aqueduct3.earthengine.\n",
    "\n",
    "The global raster at 30s will be split up in two parts.\n",
    "\n",
    "\n",
    "Author: Rutger Hofste\n",
    "Date: 20180502\n",
    "Kernel: python35\n",
    "Docker: rutgerhofste/gisdocker:ubuntu16.04\n",
    "\n",
    "Args:\n",
    "    TESTTING (boolean) : Toogle testing mode. \n",
    "    SCRIPT_NAME (string) : Script name.\n",
    "    EE_INPUT_PATH (string) : earthengine input path.\n",
    "    INPUT_FILE_NAMES (list) : List of strings with file_names to export.\n",
    "    OUTPUT_GCS_BUCKET (string) : Google Cloud Storage bucket.\n",
    "    OUTPUT_VERSION (integer) : output version.     \n",
    "\n",
    "Returns:\n",
    "\n",
    "\n",
    "\"\"\"\n",
    "TESTING = 0\n",
    "SCRIPT_NAME = \"Y2018M05D02_RH_Convert_Area_Raster_EE_GCS_S3_V01\"\n",
    "EE_INPUT_PATH = \"projects/WRI-Aquaduct/PCRGlobWB20_Aux_V02/\"\n",
    "INPUT_FILE_NAMES = [ \"global_area_m2_5min_V05\",\n",
    "                     \"global_area_m2_30s_V05\"]\n",
    "OUTPUT_GCS_BUCKET = \"aqueduct30_v01\"\n",
    "OUTPUT_VERSION = 7\n",
    "\n",
    "# Nile Delta\n",
    "XMIN = 28\n",
    "YMIN = 27\n",
    "XMAX = 33\n",
    "YMAX = 32\n",
    "\n",
    "# ETL\n",
    "gcs_output_path = \"gs://{}/{}/output_V{:02.0f}/\".format(OUTPUT_GCS_BUCKET,SCRIPT_NAME,OUTPUT_VERSION)\n",
    "\n",
    "\n",
    "print(\"Input ee : \" +  EE_INPUT_PATH +\n",
    "      \"\\nOutput gcs : \" + gcs_output_path)"
   ]
  },
  {
   "cell_type": "code",
   "execution_count": 2,
   "metadata": {},
   "outputs": [
    {
     "name": "stdout",
     "output_type": "stream",
     "text": [
      "Y2018M06D06 UTC 09:35\n"
     ]
    },
    {
     "data": {
      "text/plain": [
       "'3.5.4 |Anaconda, Inc.| (default, Nov 20 2017, 18:44:38) \\n[GCC 7.2.0]'"
      ]
     },
     "execution_count": 2,
     "metadata": {},
     "output_type": "execute_result"
    }
   ],
   "source": [
    "import time, datetime, sys\n",
    "dateString = time.strftime(\"Y%YM%mD%d\")\n",
    "timeString = time.strftime(\"UTC %H:%M\")\n",
    "start = datetime.datetime.now()\n",
    "print(dateString,timeString)\n",
    "sys.version"
   ]
  },
  {
   "cell_type": "code",
   "execution_count": 3,
   "metadata": {},
   "outputs": [
    {
     "name": "stdout",
     "output_type": "stream",
     "text": [
      "Y2018M05D02_RH_Convert_Area_Raster_EE_GCS_S3_V01/output_v07/global_area_m2_5min_V05\n",
      "Y2018M05D02_RH_Convert_Area_Raster_EE_GCS_S3_V01/output_v07/global_area_m2_30s_V05\n"
     ]
    }
   ],
   "source": [
    "import pandas as pd\n",
    "import ee\n",
    "import aqueduct3\n",
    "ee.Initialize()\n",
    "\n",
    "\n",
    "def main():\n",
    "    \n",
    "    geometry = ee.Geometry.Polygon(coords=[[XMIN, YMIN], [XMAX,  YMIN], [XMAX, YMAX], [XMIN,YMAX]], proj= ee.Projection('EPSG:4326'),geodesic=False )\n",
    "    \n",
    "    for file_name in INPUT_FILE_NAMES:\n",
    "        input_asset_id = EE_INPUT_PATH + file_name\n",
    "        if file_name == \"global_area_m2_5min_V05\":\n",
    "            spatial_resolution =  \"5min\"\n",
    "            if TESTING:\n",
    "                output_file_name = \"sample_area_m2_5min_V05\"\n",
    "            else:\n",
    "                output_file_name = \"global_area_m2_5min_V05\"\n",
    "        elif file_name == \"global_area_m2_30s_V05\":\n",
    "            spatial_resolution =  \"30s\"\n",
    "            if TESTING:\n",
    "                output_file_name = \"sample_area_m2_30s_V05\"\n",
    "            else:\n",
    "                output_file_name = \"global_area_m2_30s_V05\"\n",
    "        else:\n",
    "            raise Exception(\"File Name not recognized\")\n",
    "\n",
    "        output_file_name_prefix = \"{}/output_v{:02.0f}/{}\".format(SCRIPT_NAME,OUTPUT_VERSION,output_file_name)\n",
    "        print(output_file_name_prefix)\n",
    "        crs_transform = aqueduct3.earthengine.get_crs_transform(spatial_resolution)\n",
    "        dimensions = aqueduct3.earthengine.get_dimensions(spatial_resolution)\n",
    "        # Weird legacy stuff: \n",
    "        # https://groups.google.com/d/msg/google-earth-engine-developers/TViMuO3ObeM/cpNNg-eMDAAJ\n",
    "        geometry_client_side = geometry.getInfo()['coordinates']\n",
    "        crs = aqueduct3.earthengine.CRS\n",
    "\n",
    "        image = ee.Image(input_asset_id)\n",
    "        task = ee.batch.Export.image.toCloudStorage(\n",
    "                    image= image, \n",
    "                    description= file_name,\n",
    "                    bucket = OUTPUT_GCS_BUCKET,\n",
    "                    fileNamePrefix = output_file_name_prefix,\n",
    "                    region = geometry_client_side,\n",
    "                    crs = crs,\n",
    "                    crsTransform = crs_transform,\n",
    "                    maxPixels = 1e10)\n",
    "        task.start()\n",
    "\n",
    "if __name__ == \"__main__\":\n",
    "    main()"
   ]
  },
  {
   "cell_type": "code",
   "execution_count": 4,
   "metadata": {},
   "outputs": [
    {
     "name": "stdout",
     "output_type": "stream",
     "text": [
      "0:00:06.304283\n"
     ]
    }
   ],
   "source": [
    "end = datetime.datetime.now()\n",
    "elapsed = end - start\n",
    "print(elapsed)"
   ]
  },
  {
   "cell_type": "markdown",
   "metadata": {},
   "source": [
    "Previous runs:  \n",
    "0:00:06.296458\n"
   ]
  }
 ],
 "metadata": {
  "kernelspec": {
   "display_name": "Python 35",
   "language": "python",
   "name": "python35"
  },
  "language_info": {
   "codemirror_mode": {
    "name": "ipython",
    "version": 3
   },
   "file_extension": ".py",
   "mimetype": "text/x-python",
   "name": "python",
   "nbconvert_exporter": "python",
   "pygments_lexer": "ipython3",
   "version": "3.5.4"
  }
 },
 "nbformat": 4,
 "nbformat_minor": 2
}
