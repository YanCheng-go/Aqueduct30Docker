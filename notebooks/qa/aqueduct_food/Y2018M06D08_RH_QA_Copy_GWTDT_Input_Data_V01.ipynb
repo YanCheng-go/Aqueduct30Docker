{
 "cells": [
  {
   "cell_type": "code",
   "execution_count": 1,
   "metadata": {},
   "outputs": [
    {
     "name": "stdout",
     "output_type": "stream",
     "text": [
      "Input s3 : s3://wri-projects/Aqueduct30/rawData/Deltares/groundwater/Final_Oct_2017/\n",
      "Output s3: s3://wri-projects/Aqueduct30/qaData/aqueduct_food/Y2018M06D08_RH_QA_Copy_GWTDT_Input_Data_V01/output_V01\n"
     ]
    }
   ],
   "source": [
    "\"\"\" Copy the groundwater table declining trend data to S3. \n",
    "-------------------------------------------------------------------------------\n",
    "\n",
    "Aqueduct code / data has been moved to AWS / Github as of June 25th 2017. Prior\n",
    "to that, analyses were done locally and code was stored in Google Drive. Version\n",
    "control is therefore somewhat more difficult but luckily everything is \n",
    "annotated. \n",
    "\n",
    "Location of tables:\n",
    "wri-projects/Aqueduct30/qaData/groundwater_table_declining_trend/\n",
    "Y2018M06D08_RH_QA_Copy_GWTDT_Input_Data_V01/output_V01/data/tables\n",
    "\n",
    "Author: Rutger Hofste\n",
    "Date: 20180502\n",
    "Kernel: python35\n",
    "Docker: rutgerhofste/gisdocker:ubuntu16.04\n",
    "\n",
    "\n",
    "\"\"\"\n",
    "\n",
    "SCRIPT_NAME = \"Y2018M06D08_RH_QA_Copy_GWTDT_Input_Data_V01\"\n",
    "OUTPUT_VERSION = 1\n",
    "OVERWRITE =1\n",
    "\n",
    "S3_INPUT_PATH = \"s3://wri-projects/Aqueduct30/rawData/Deltares/groundwater/Final_Oct_2017/\"\n",
    "s3_output_path = \"s3://wri-projects/Aqueduct30/qaData/aqueduct_food/{}/output_V{:02.0f}\".format(SCRIPT_NAME,OUTPUT_VERSION)\n",
    "\n",
    "print(\"Input s3 : \" + S3_INPUT_PATH +\n",
    "      \"\\nOutput s3: \" + s3_output_path)"
   ]
  },
  {
   "cell_type": "code",
   "execution_count": 2,
   "metadata": {},
   "outputs": [
    {
     "name": "stdout",
     "output_type": "stream",
     "text": [
      "Y2018M06D08 UTC 10:44\n"
     ]
    },
    {
     "data": {
      "text/plain": [
       "'3.5.4 |Anaconda, Inc.| (default, Nov 20 2017, 18:44:38) \\n[GCC 7.2.0]'"
      ]
     },
     "execution_count": 2,
     "metadata": {},
     "output_type": "execute_result"
    }
   ],
   "source": [
    "import time, datetime, sys, logging\n",
    "dateString = time.strftime(\"Y%YM%mD%d\")\n",
    "timeString = time.strftime(\"UTC %H:%M\")\n",
    "start = datetime.datetime.now()\n",
    "print(dateString,timeString)\n",
    "sys.version"
   ]
  },
  {
   "cell_type": "code",
   "execution_count": 3,
   "metadata": {},
   "outputs": [
    {
     "name": "stdout",
     "output_type": "stream",
     "text": [
      "copy: s3://wri-projects/Aqueduct30/rawData/Deltares/groundwater/Final_Oct_2017/data/Spatial_Units/Aqueduct_States.cpg to s3://wri-projects/Aqueduct30/qaData/aqueduct_food/Y2018M06D08_RH_QA_Copy_GWTDT_Input_Data_V01/output_V01/data/Spatial_Units/Aqueduct_States.cpg\n",
      "copy: s3://wri-projects/Aqueduct30/rawData/Deltares/groundwater/Final_Oct_2017/data/Spatial_Units/Aqueduct_States.map.ovr to s3://wri-projects/Aqueduct30/qaData/aqueduct_food/Y2018M06D08_RH_QA_Copy_GWTDT_Input_Data_V01/output_V01/data/Spatial_Units/Aqueduct_States.map.ovr\n",
      "copy: s3://wri-projects/Aqueduct30/rawData/Deltares/groundwater/Final_Oct_2017/data/Spatial_Units/Aqueduct_States.map.aux.xml to s3://wri-projects/Aqueduct30/qaData/aqueduct_food/Y2018M06D08_RH_QA_Copy_GWTDT_Input_Data_V01/output_V01/data/Spatial_Units/Aqueduct_States.map.aux.xml\n",
      "copy: s3://wri-projects/Aqueduct30/rawData/Deltares/groundwater/Final_Oct_2017/data/Spatial_Units/Aqueduct_States.prj to s3://wri-projects/Aqueduct30/qaData/aqueduct_food/Y2018M06D08_RH_QA_Copy_GWTDT_Input_Data_V01/output_V01/data/Spatial_Units/Aqueduct_States.prj\n",
      "copy: s3://wri-projects/Aqueduct30/rawData/Deltares/groundwater/Final_Oct_2017/data/Spatial_Units/Aqueduct_States.sbx to s3://wri-projects/Aqueduct30/qaData/aqueduct_food/Y2018M06D08_RH_QA_Copy_GWTDT_Input_Data_V01/output_V01/data/Spatial_Units/Aqueduct_States.sbx\n",
      "copy: s3://wri-projects/Aqueduct30/rawData/Deltares/groundwater/Final_Oct_2017/data/Spatial_Units/Aqueduct_States.sbn to s3://wri-projects/Aqueduct30/qaData/aqueduct_food/Y2018M06D08_RH_QA_Copy_GWTDT_Input_Data_V01/output_V01/data/Spatial_Units/Aqueduct_States.sbn\n",
      "copy: s3://wri-projects/Aqueduct30/rawData/Deltares/groundwater/Final_Oct_2017/data/Spatial_Units/hybas_merged_custom_level6_V01.cpg to s3://wri-projects/Aqueduct30/qaData/aqueduct_food/Y2018M06D08_RH_QA_Copy_GWTDT_Input_Data_V01/output_V01/data/Spatial_Units/hybas_merged_custom_level6_V01.cpg\n",
      "copy: s3://wri-projects/Aqueduct30/rawData/Deltares/groundwater/Final_Oct_2017/data/Spatial_Units/Aqueduct_States.shx to s3://wri-projects/Aqueduct30/qaData/aqueduct_food/Y2018M06D08_RH_QA_Copy_GWTDT_Input_Data_V01/output_V01/data/Spatial_Units/Aqueduct_States.shx\n",
      "copy: s3://wri-projects/Aqueduct30/rawData/Deltares/groundwater/Final_Oct_2017/data/Spatial_Units/hybas_merged_custom_level6_V01.dbf to s3://wri-projects/Aqueduct30/qaData/aqueduct_food/Y2018M06D08_RH_QA_Copy_GWTDT_Input_Data_V01/output_V01/data/Spatial_Units/hybas_merged_custom_level6_V01.dbf\n",
      "copy: s3://wri-projects/Aqueduct30/rawData/Deltares/groundwater/Final_Oct_2017/data/Spatial_Units/hybas_merged_custom_level6_V01.prj to s3://wri-projects/Aqueduct30/qaData/aqueduct_food/Y2018M06D08_RH_QA_Copy_GWTDT_Input_Data_V01/output_V01/data/Spatial_Units/hybas_merged_custom_level6_V01.prj\n",
      "copy: s3://wri-projects/Aqueduct30/rawData/Deltares/groundwater/Final_Oct_2017/data/Spatial_Units/hybas_merged_custom_level6_V01.sbx to s3://wri-projects/Aqueduct30/qaData/aqueduct_food/Y2018M06D08_RH_QA_Copy_GWTDT_Input_Data_V01/output_V01/data/Spatial_Units/hybas_merged_custom_level6_V01.sbx\n",
      "copy: s3://wri-projects/Aqueduct30/rawData/Deltares/groundwater/Final_Oct_2017/data/Spatial_Units/hybas_merged_custom_level6_V01.sbn to s3://wri-projects/Aqueduct30/qaData/aqueduct_food/Y2018M06D08_RH_QA_Copy_GWTDT_Input_Data_V01/output_V01/data/Spatial_Units/hybas_merged_custom_level6_V01.sbn\n",
      "copy: s3://wri-projects/Aqueduct30/rawData/Deltares/groundwater/Final_Oct_2017/data/Spatial_Units/hybas_merged_custom_level6_V01.shp.xml to s3://wri-projects/Aqueduct30/qaData/aqueduct_food/Y2018M06D08_RH_QA_Copy_GWTDT_Input_Data_V01/output_V01/data/Spatial_Units/hybas_merged_custom_level6_V01.shp.xml\n",
      "copy: s3://wri-projects/Aqueduct30/rawData/Deltares/groundwater/Final_Oct_2017/data/Spatial_Units/hybas_merged_custom_level6_V01.shx to s3://wri-projects/Aqueduct30/qaData/aqueduct_food/Y2018M06D08_RH_QA_Copy_GWTDT_Input_Data_V01/output_V01/data/Spatial_Units/hybas_merged_custom_level6_V01.shx\n",
      "copy: s3://wri-projects/Aqueduct30/rawData/Deltares/groundwater/Final_Oct_2017/data/Spatial_Units/readme.txt to s3://wri-projects/Aqueduct30/qaData/aqueduct_food/Y2018M06D08_RH_QA_Copy_GWTDT_Input_Data_V01/output_V01/data/Spatial_Units/readme.txt\n",
      "copy: s3://wri-projects/Aqueduct30/rawData/Deltares/groundwater/Final_Oct_2017/data/Spatial_Units/Aqueduct_States.map to s3://wri-projects/Aqueduct30/qaData/aqueduct_food/Y2018M06D08_RH_QA_Copy_GWTDT_Input_Data_V01/output_V01/data/Spatial_Units/Aqueduct_States.map\n",
      "copy: s3://wri-projects/Aqueduct30/rawData/Deltares/groundwater/Final_Oct_2017/data/Spatial_Units/sed_extent.map.aux.xml to s3://wri-projects/Aqueduct30/qaData/aqueduct_food/Y2018M06D08_RH_QA_Copy_GWTDT_Input_Data_V01/output_V01/data/Spatial_Units/sed_extent.map.aux.xml\n",
      "copy: s3://wri-projects/Aqueduct30/rawData/Deltares/groundwater/Final_Oct_2017/data/Spatial_Units/sed_extent.map.ovr to s3://wri-projects/Aqueduct30/qaData/aqueduct_food/Y2018M06D08_RH_QA_Copy_GWTDT_Input_Data_V01/output_V01/data/Spatial_Units/sed_extent.map.ovr\n",
      "copy: s3://wri-projects/Aqueduct30/rawData/Deltares/groundwater/Final_Oct_2017/data/Spatial_Units/sed_extent.map.vat.cpg to s3://wri-projects/Aqueduct30/qaData/aqueduct_food/Y2018M06D08_RH_QA_Copy_GWTDT_Input_Data_V01/output_V01/data/Spatial_Units/sed_extent.map.vat.cpg\n",
      "copy: s3://wri-projects/Aqueduct30/rawData/Deltares/groundwater/Final_Oct_2017/data/Spatial_Units/Aqueduct_States.dbf to s3://wri-projects/Aqueduct30/qaData/aqueduct_food/Y2018M06D08_RH_QA_Copy_GWTDT_Input_Data_V01/output_V01/data/Spatial_Units/Aqueduct_States.dbf\n",
      "copy: s3://wri-projects/Aqueduct30/rawData/Deltares/groundwater/Final_Oct_2017/data/Spatial_Units/sed_extent.map.vat.dbf to s3://wri-projects/Aqueduct30/qaData/aqueduct_food/Y2018M06D08_RH_QA_Copy_GWTDT_Input_Data_V01/output_V01/data/Spatial_Units/sed_extent.map.vat.dbf\n",
      "copy: s3://wri-projects/Aqueduct30/rawData/Deltares/groundwater/Final_Oct_2017/data/Spatial_Units/whymap_wgs1984.sbx to s3://wri-projects/Aqueduct30/qaData/aqueduct_food/Y2018M06D08_RH_QA_Copy_GWTDT_Input_Data_V01/output_V01/data/Spatial_Units/whymap_wgs1984.sbx\n",
      "copy: s3://wri-projects/Aqueduct30/rawData/Deltares/groundwater/Final_Oct_2017/data/Spatial_Units/whymap_wgs1984.prj to s3://wri-projects/Aqueduct30/qaData/aqueduct_food/Y2018M06D08_RH_QA_Copy_GWTDT_Input_Data_V01/output_V01/data/Spatial_Units/whymap_wgs1984.prj\n",
      "copy: s3://wri-projects/Aqueduct30/rawData/Deltares/groundwater/Final_Oct_2017/data/Spatial_Units/whymap_wgs1984.sbn to s3://wri-projects/Aqueduct30/qaData/aqueduct_food/Y2018M06D08_RH_QA_Copy_GWTDT_Input_Data_V01/output_V01/data/Spatial_Units/whymap_wgs1984.sbn\n",
      "copy: s3://wri-projects/Aqueduct30/rawData/Deltares/groundwater/Final_Oct_2017/data/Spatial_Units/whymap_wgs1984.dbf to s3://wri-projects/Aqueduct30/qaData/aqueduct_food/Y2018M06D08_RH_QA_Copy_GWTDT_Input_Data_V01/output_V01/data/Spatial_Units/whymap_wgs1984.dbf\n",
      "copy: s3://wri-projects/Aqueduct30/rawData/Deltares/groundwater/Final_Oct_2017/data/Spatial_Units/whymap_wgs1984.shp.L01841.3112.4784.sr.lock to s3://wri-projects/Aqueduct30/qaData/aqueduct_food/Y2018M06D08_RH_QA_Copy_GWTDT_Input_Data_V01/output_V01/data/Spatial_Units/whymap_wgs1984.shp.L01841.3112.4784.sr.lock\n",
      "copy: s3://wri-projects/Aqueduct30/rawData/Deltares/groundwater/Final_Oct_2017/data/Spatial_Units/sed_extent.map to s3://wri-projects/Aqueduct30/qaData/aqueduct_food/Y2018M06D08_RH_QA_Copy_GWTDT_Input_Data_V01/output_V01/data/Spatial_Units/sed_extent.map\n",
      "copy: s3://wri-projects/Aqueduct30/rawData/Deltares/groundwater/Final_Oct_2017/data/Spatial_Units/whymap_wgs1984.shx to s3://wri-projects/Aqueduct30/qaData/aqueduct_food/Y2018M06D08_RH_QA_Copy_GWTDT_Input_Data_V01/output_V01/data/Spatial_Units/whymap_wgs1984.shx\n",
      "copy: s3://wri-projects/Aqueduct30/rawData/Deltares/groundwater/Final_Oct_2017/data/Spatial_Units/Aqueduct_States.shp to s3://wri-projects/Aqueduct30/qaData/aqueduct_food/Y2018M06D08_RH_QA_Copy_GWTDT_Input_Data_V01/output_V01/data/Spatial_Units/Aqueduct_States.shp\n",
      "copy: s3://wri-projects/Aqueduct30/rawData/Deltares/groundwater/Final_Oct_2017/data/Spatial_Units/whymap_wgs1984.shp.xml to s3://wri-projects/Aqueduct30/qaData/aqueduct_food/Y2018M06D08_RH_QA_Copy_GWTDT_Input_Data_V01/output_V01/data/Spatial_Units/whymap_wgs1984.shp.xml\n"
     ]
    },
    {
     "name": "stdout",
     "output_type": "stream",
     "text": [
      "copy: s3://wri-projects/Aqueduct30/rawData/Deltares/groundwater/Final_Oct_2017/data/Spatial_Units/whymap_wgs1984.shp to s3://wri-projects/Aqueduct30/qaData/aqueduct_food/Y2018M06D08_RH_QA_Copy_GWTDT_Input_Data_V01/output_V01/data/Spatial_Units/whymap_wgs1984.shp\n",
      "copy: s3://wri-projects/Aqueduct30/rawData/Deltares/groundwater/Final_Oct_2017/data/Spatial_Units/hybas_merged_custom_level6_V01.shp to s3://wri-projects/Aqueduct30/qaData/aqueduct_food/Y2018M06D08_RH_QA_Copy_GWTDT_Input_Data_V01/output_V01/data/Spatial_Units/hybas_merged_custom_level6_V01.shp\n",
      "copy: s3://wri-projects/Aqueduct30/rawData/Deltares/groundwater/Final_Oct_2017/data/groundwater_stress_1990-2014/aquifer_1990to2014.groundwater_stress.map to s3://wri-projects/Aqueduct30/qaData/aqueduct_food/Y2018M06D08_RH_QA_Copy_GWTDT_Input_Data_V01/output_V01/data/groundwater_stress_1990-2014/aquifer_1990to2014.groundwater_stress.map\n",
      "copy: s3://wri-projects/Aqueduct30/rawData/Deltares/groundwater/Final_Oct_2017/data/groundwater_stress_1990-2014/aquifer_1990to2014.groundwater_stress.nc to s3://wri-projects/Aqueduct30/qaData/aqueduct_food/Y2018M06D08_RH_QA_Copy_GWTDT_Input_Data_V01/output_V01/data/groundwater_stress_1990-2014/aquifer_1990to2014.groundwater_stress.nc\n",
      "copy: s3://wri-projects/Aqueduct30/rawData/Deltares/groundwater/Final_Oct_2017/data/groundwater_stress_1990-2014/drainage_1990to2014.groundwater_stress.map to s3://wri-projects/Aqueduct30/qaData/aqueduct_food/Y2018M06D08_RH_QA_Copy_GWTDT_Input_Data_V01/output_V01/data/groundwater_stress_1990-2014/drainage_1990to2014.groundwater_stress.map\n",
      "copy: s3://wri-projects/Aqueduct30/rawData/Deltares/groundwater/Final_Oct_2017/data/groundwater_stress_1990-2014/drainage_1990to2014.groundwater_stress.nc to s3://wri-projects/Aqueduct30/qaData/aqueduct_food/Y2018M06D08_RH_QA_Copy_GWTDT_Input_Data_V01/output_V01/data/groundwater_stress_1990-2014/drainage_1990to2014.groundwater_stress.nc\n",
      "copy: s3://wri-projects/Aqueduct30/rawData/Deltares/groundwater/Final_Oct_2017/data/groundwater_stress_1990-2014/pixel_1990to2014.groundwater_stress.map to s3://wri-projects/Aqueduct30/qaData/aqueduct_food/Y2018M06D08_RH_QA_Copy_GWTDT_Input_Data_V01/output_V01/data/groundwater_stress_1990-2014/pixel_1990to2014.groundwater_stress.map\n",
      "copy: s3://wri-projects/Aqueduct30/rawData/Deltares/groundwater/Final_Oct_2017/data/groundwater_stress_1990-2014/pixel_1990to2014.groundwater_stress.nc to s3://wri-projects/Aqueduct30/qaData/aqueduct_food/Y2018M06D08_RH_QA_Copy_GWTDT_Input_Data_V01/output_V01/data/groundwater_stress_1990-2014/pixel_1990to2014.groundwater_stress.nc\n",
      "copy: s3://wri-projects/Aqueduct30/rawData/Deltares/groundwater/Final_Oct_2017/data/groundwater_stress_1990-2014/state_1990to2014.groundwater_stress.nc to s3://wri-projects/Aqueduct30/qaData/aqueduct_food/Y2018M06D08_RH_QA_Copy_GWTDT_Input_Data_V01/output_V01/data/groundwater_stress_1990-2014/state_1990to2014.groundwater_stress.nc\n",
      "copy: s3://wri-projects/Aqueduct30/rawData/Deltares/groundwater/Final_Oct_2017/data/groundwater_head_changes_1990-2014/aquifer_1990to2014.monthly_groundwater_head_changes.nc to s3://wri-projects/Aqueduct30/qaData/aqueduct_food/Y2018M06D08_RH_QA_Copy_GWTDT_Input_Data_V01/output_V01/data/groundwater_head_changes_1990-2014/aquifer_1990to2014.monthly_groundwater_head_changes.nc\n",
      "copy: s3://wri-projects/Aqueduct30/rawData/Deltares/groundwater/Final_Oct_2017/data/groundwater_head_changes_1990-2014/state_1990to2014.monthly_groundwater_head_changes.nc to s3://wri-projects/Aqueduct30/qaData/aqueduct_food/Y2018M06D08_RH_QA_Copy_GWTDT_Input_Data_V01/output_V01/data/groundwater_head_changes_1990-2014/state_1990to2014.monthly_groundwater_head_changes.nc\n",
      "copy: s3://wri-projects/Aqueduct30/rawData/Deltares/groundwater/Final_Oct_2017/data/groundwater_stress_1990-2014/state_1990to2014.groundwater_stress.map to s3://wri-projects/Aqueduct30/qaData/aqueduct_food/Y2018M06D08_RH_QA_Copy_GWTDT_Input_Data_V01/output_V01/data/groundwater_stress_1990-2014/state_1990to2014.groundwater_stress.map\n",
      "copy: s3://wri-projects/Aqueduct30/rawData/Deltares/groundwater/Final_Oct_2017/data/groundwater_table_declining_trend_1990-2014/GTDT_Maps/Aquifer/R_Aquifers.map to s3://wri-projects/Aqueduct30/qaData/aqueduct_food/Y2018M06D08_RH_QA_Copy_GWTDT_Input_Data_V01/output_V01/data/groundwater_table_declining_trend_1990-2014/GTDT_Maps/Aquifer/R_Aquifers.map\n",
      "copy: s3://wri-projects/Aqueduct30/rawData/Deltares/groundwater/Final_Oct_2017/data/groundwater_table_declining_trend_1990-2014/GTDT_Maps/Aquifer/P_slope_aquifer.map to s3://wri-projects/Aqueduct30/qaData/aqueduct_food/Y2018M06D08_RH_QA_Copy_GWTDT_Input_Data_V01/output_V01/data/groundwater_table_declining_trend_1990-2014/GTDT_Maps/Aquifer/P_slope_aquifer.map\n",
      "copy: s3://wri-projects/Aqueduct30/rawData/Deltares/groundwater/Final_Oct_2017/data/groundwater_table_declining_trend_1990-2014/GTDT_Maps/Aquifer/Slope_Aquifers_cm_yr.map to s3://wri-projects/Aqueduct30/qaData/aqueduct_food/Y2018M06D08_RH_QA_Copy_GWTDT_Input_Data_V01/output_V01/data/groundwater_table_declining_trend_1990-2014/GTDT_Maps/Aquifer/Slope_Aquifers_cm_yr.map\n",
      "copy: s3://wri-projects/Aqueduct30/rawData/Deltares/groundwater/Final_Oct_2017/data/groundwater_table_declining_trend_1990-2014/GTDT_Maps/Hybas/P_slope_hybas_.map to s3://wri-projects/Aqueduct30/qaData/aqueduct_food/Y2018M06D08_RH_QA_Copy_GWTDT_Input_Data_V01/output_V01/data/groundwater_table_declining_trend_1990-2014/GTDT_Maps/Hybas/P_slope_hybas_.map\n",
      "copy: s3://wri-projects/Aqueduct30/rawData/Deltares/groundwater/Final_Oct_2017/data/groundwater_table_declining_trend_1990-2014/GTDT_Maps/Hybas/R_Hybas.map to s3://wri-projects/Aqueduct30/qaData/aqueduct_food/Y2018M06D08_RH_QA_Copy_GWTDT_Input_Data_V01/output_V01/data/groundwater_table_declining_trend_1990-2014/GTDT_Maps/Hybas/R_Hybas.map\n",
      "copy: s3://wri-projects/Aqueduct30/rawData/Deltares/groundwater/Final_Oct_2017/data/groundwater_table_declining_trend_1990-2014/GTDT_Maps/Hybas/Slope_Hybas6_cm_yr.map to s3://wri-projects/Aqueduct30/qaData/aqueduct_food/Y2018M06D08_RH_QA_Copy_GWTDT_Input_Data_V01/output_V01/data/groundwater_table_declining_trend_1990-2014/GTDT_Maps/Hybas/Slope_Hybas6_cm_yr.map\n",
      "copy: s3://wri-projects/Aqueduct30/rawData/Deltares/groundwater/Final_Oct_2017/data/groundwater_table_declining_trend_1990-2014/GTDT_Maps/States/P_slope_states_.map to s3://wri-projects/Aqueduct30/qaData/aqueduct_food/Y2018M06D08_RH_QA_Copy_GWTDT_Input_Data_V01/output_V01/data/groundwater_table_declining_trend_1990-2014/GTDT_Maps/States/P_slope_states_.map\n",
      "copy: s3://wri-projects/Aqueduct30/rawData/Deltares/groundwater/Final_Oct_2017/data/groundwater_table_declining_trend_1990-2014/aquifer_1990to2014.groundwater_trend_analysis.nc to s3://wri-projects/Aqueduct30/qaData/aqueduct_food/Y2018M06D08_RH_QA_Copy_GWTDT_Input_Data_V01/output_V01/data/groundwater_table_declining_trend_1990-2014/aquifer_1990to2014.groundwater_trend_analysis.nc\n",
      "copy: s3://wri-projects/Aqueduct30/rawData/Deltares/groundwater/Final_Oct_2017/data/groundwater_table_declining_trend_1990-2014/drainage_1990to2014.groundwater_trend_analysis.nc to s3://wri-projects/Aqueduct30/qaData/aqueduct_food/Y2018M06D08_RH_QA_Copy_GWTDT_Input_Data_V01/output_V01/data/groundwater_table_declining_trend_1990-2014/drainage_1990to2014.groundwater_trend_analysis.nc\n",
      "copy: s3://wri-projects/Aqueduct30/rawData/Deltares/groundwater/Final_Oct_2017/data/mountain_mask/mountainMask.tfw to s3://wri-projects/Aqueduct30/qaData/aqueduct_food/Y2018M06D08_RH_QA_Copy_GWTDT_Input_Data_V01/output_V01/data/mountain_mask/mountainMask.tfw\n",
      "copy: s3://wri-projects/Aqueduct30/rawData/Deltares/groundwater/Final_Oct_2017/data/groundwater_table_declining_trend_1990-2014/state_1990to2014.groundwater_trend_analysis.nc to s3://wri-projects/Aqueduct30/qaData/aqueduct_food/Y2018M06D08_RH_QA_Copy_GWTDT_Input_Data_V01/output_V01/data/groundwater_table_declining_trend_1990-2014/state_1990to2014.groundwater_trend_analysis.nc\n",
      "copy: s3://wri-projects/Aqueduct30/rawData/Deltares/groundwater/Final_Oct_2017/data/groundwater_table_declining_trend_1990-2014/GTDT_Maps/States/R_States.map to s3://wri-projects/Aqueduct30/qaData/aqueduct_food/Y2018M06D08_RH_QA_Copy_GWTDT_Input_Data_V01/output_V01/data/groundwater_table_declining_trend_1990-2014/GTDT_Maps/States/R_States.map\n"
     ]
    },
    {
     "name": "stdout",
     "output_type": "stream",
     "text": [
      "copy: s3://wri-projects/Aqueduct30/rawData/Deltares/groundwater/Final_Oct_2017/data/mountain_mask/mountainMask.tif.aux.xml to s3://wri-projects/Aqueduct30/qaData/aqueduct_food/Y2018M06D08_RH_QA_Copy_GWTDT_Input_Data_V01/output_V01/data/mountain_mask/mountainMask.tif.aux.xml\n",
      "copy: s3://wri-projects/Aqueduct30/rawData/Deltares/groundwater/Final_Oct_2017/data/mountain_mask/mountainMask.tif.vat.cpg to s3://wri-projects/Aqueduct30/qaData/aqueduct_food/Y2018M06D08_RH_QA_Copy_GWTDT_Input_Data_V01/output_V01/data/mountain_mask/mountainMask.tif.vat.cpg\n",
      "copy: s3://wri-projects/Aqueduct30/rawData/Deltares/groundwater/Final_Oct_2017/data/mountain_mask/mountainMask.tif.vat.dbf to s3://wri-projects/Aqueduct30/qaData/aqueduct_food/Y2018M06D08_RH_QA_Copy_GWTDT_Input_Data_V01/output_V01/data/mountain_mask/mountainMask.tif.vat.dbf\n",
      "copy: s3://wri-projects/Aqueduct30/rawData/Deltares/groundwater/Final_Oct_2017/data/groundwater_table_declining_trend_1990-2014/GTDT_Maps/States/Slope_States_cm_yr.map to s3://wri-projects/Aqueduct30/qaData/aqueduct_food/Y2018M06D08_RH_QA_Copy_GWTDT_Input_Data_V01/output_V01/data/groundwater_table_declining_trend_1990-2014/GTDT_Maps/States/Slope_States_cm_yr.map\n",
      "copy: s3://wri-projects/Aqueduct30/rawData/Deltares/groundwater/Final_Oct_2017/data/mountain_mask/mountainMask.tif to s3://wri-projects/Aqueduct30/qaData/aqueduct_food/Y2018M06D08_RH_QA_Copy_GWTDT_Input_Data_V01/output_V01/data/mountain_mask/mountainMask.tif\n",
      "copy: s3://wri-projects/Aqueduct30/rawData/Deltares/groundwater/Final_Oct_2017/data/mountain_mask/mountainMask.tif.ovr to s3://wri-projects/Aqueduct30/qaData/aqueduct_food/Y2018M06D08_RH_QA_Copy_GWTDT_Input_Data_V01/output_V01/data/mountain_mask/mountainMask.tif.ovr\n",
      "copy: s3://wri-projects/Aqueduct30/rawData/Deltares/groundwater/Final_Oct_2017/data/mountain_mask/mountainMask.tif.xml to s3://wri-projects/Aqueduct30/qaData/aqueduct_food/Y2018M06D08_RH_QA_Copy_GWTDT_Input_Data_V01/output_V01/data/mountain_mask/mountainMask.tif.xml\n",
      "copy: s3://wri-projects/Aqueduct30/rawData/Deltares/groundwater/Final_Oct_2017/data/mountain_mask/sed_extend/dem_average5min.map.aux.xml to s3://wri-projects/Aqueduct30/qaData/aqueduct_food/Y2018M06D08_RH_QA_Copy_GWTDT_Input_Data_V01/output_V01/data/mountain_mask/sed_extend/dem_average5min.map.aux.xml\n",
      "copy: s3://wri-projects/Aqueduct30/rawData/Deltares/groundwater/Final_Oct_2017/data/mountain_mask/sed_extend/dem_floodplain5min.map.aux.xml to s3://wri-projects/Aqueduct30/qaData/aqueduct_food/Y2018M06D08_RH_QA_Copy_GWTDT_Input_Data_V01/output_V01/data/mountain_mask/sed_extend/dem_floodplain5min.map.aux.xml\n",
      "copy: s3://wri-projects/Aqueduct30/rawData/Deltares/groundwater/Final_Oct_2017/data/mountain_mask/sed_extend/info/arc.dir to s3://wri-projects/Aqueduct30/qaData/aqueduct_food/Y2018M06D08_RH_QA_Copy_GWTDT_Input_Data_V01/output_V01/data/mountain_mask/sed_extend/info/arc.dir\n",
      "copy: s3://wri-projects/Aqueduct30/rawData/Deltares/groundwater/Final_Oct_2017/data/mountain_mask/sed_extend/info/arc0000.dat to s3://wri-projects/Aqueduct30/qaData/aqueduct_food/Y2018M06D08_RH_QA_Copy_GWTDT_Input_Data_V01/output_V01/data/mountain_mask/sed_extend/info/arc0000.dat\n",
      "copy: s3://wri-projects/Aqueduct30/rawData/Deltares/groundwater/Final_Oct_2017/data/mountain_mask/sed_extend/info/arc0000.nit to s3://wri-projects/Aqueduct30/qaData/aqueduct_food/Y2018M06D08_RH_QA_Copy_GWTDT_Input_Data_V01/output_V01/data/mountain_mask/sed_extend/info/arc0000.nit\n",
      "copy: s3://wri-projects/Aqueduct30/rawData/Deltares/groundwater/Final_Oct_2017/data/mountain_mask/sed_extend/info/arc0001.dat to s3://wri-projects/Aqueduct30/qaData/aqueduct_food/Y2018M06D08_RH_QA_Copy_GWTDT_Input_Data_V01/output_V01/data/mountain_mask/sed_extend/info/arc0001.dat\n",
      "copy: s3://wri-projects/Aqueduct30/rawData/Deltares/groundwater/Final_Oct_2017/data/groundwater_head_changes_1990-2014/drainage_1990to2014.monthly_groundwater_head_changes.nc to s3://wri-projects/Aqueduct30/qaData/aqueduct_food/Y2018M06D08_RH_QA_Copy_GWTDT_Input_Data_V01/output_V01/data/groundwater_head_changes_1990-2014/drainage_1990to2014.monthly_groundwater_head_changes.nc\n",
      "copy: s3://wri-projects/Aqueduct30/rawData/Deltares/groundwater/Final_Oct_2017/data/mountain_mask/sed_extend/info/arc0001.nit to s3://wri-projects/Aqueduct30/qaData/aqueduct_food/Y2018M06D08_RH_QA_Copy_GWTDT_Input_Data_V01/output_V01/data/mountain_mask/sed_extend/info/arc0001.nit\n",
      "copy: s3://wri-projects/Aqueduct30/rawData/Deltares/groundwater/Final_Oct_2017/data/mountain_mask/sed_extend/sed_extent.map.aux.xml to s3://wri-projects/Aqueduct30/qaData/aqueduct_food/Y2018M06D08_RH_QA_Copy_GWTDT_Input_Data_V01/output_V01/data/mountain_mask/sed_extend/sed_extent.map.aux.xml\n",
      "copy: s3://wri-projects/Aqueduct30/rawData/Deltares/groundwater/Final_Oct_2017/data/mountain_mask/sed_extend/sed_extent.map.vat.cpg to s3://wri-projects/Aqueduct30/qaData/aqueduct_food/Y2018M06D08_RH_QA_Copy_GWTDT_Input_Data_V01/output_V01/data/mountain_mask/sed_extend/sed_extent.map.vat.cpg\n",
      "copy: s3://wri-projects/Aqueduct30/rawData/Deltares/groundwater/Final_Oct_2017/data/mountain_mask/sed_extend/sed_extent.map.vat.dbf to s3://wri-projects/Aqueduct30/qaData/aqueduct_food/Y2018M06D08_RH_QA_Copy_GWTDT_Input_Data_V01/output_V01/data/mountain_mask/sed_extend/sed_extent.map.vat.dbf\n",
      "copy: s3://wri-projects/Aqueduct30/rawData/Deltares/groundwater/Final_Oct_2017/data/mountain_mask/sed_extend/dem_average5min.map to s3://wri-projects/Aqueduct30/qaData/aqueduct_food/Y2018M06D08_RH_QA_Copy_GWTDT_Input_Data_V01/output_V01/data/mountain_mask/sed_extend/dem_average5min.map\n",
      "copy: s3://wri-projects/Aqueduct30/rawData/Deltares/groundwater/Final_Oct_2017/data/mountain_mask/sed_extend/virtualOS.py to s3://wri-projects/Aqueduct30/qaData/aqueduct_food/Y2018M06D08_RH_QA_Copy_GWTDT_Input_Data_V01/output_V01/data/mountain_mask/sed_extend/virtualOS.py\n",
      "copy: s3://wri-projects/Aqueduct30/rawData/Deltares/groundwater/Final_Oct_2017/data/mountain_mask/sed_extend/virtualOS.pyc to s3://wri-projects/Aqueduct30/qaData/aqueduct_food/Y2018M06D08_RH_QA_Copy_GWTDT_Input_Data_V01/output_V01/data/mountain_mask/sed_extend/virtualOS.pyc\n",
      "copy: s3://wri-projects/Aqueduct30/rawData/Deltares/groundwater/Final_Oct_2017/data/tables/aquifer_table_sorted.txt to s3://wri-projects/Aqueduct30/qaData/aqueduct_food/Y2018M06D08_RH_QA_Copy_GWTDT_Input_Data_V01/output_V01/data/tables/aquifer_table_sorted.txt\n",
      "copy: s3://wri-projects/Aqueduct30/rawData/Deltares/groundwater/Final_Oct_2017/data/mountain_mask/sed_extend/dem_floodplain5min.map to s3://wri-projects/Aqueduct30/qaData/aqueduct_food/Y2018M06D08_RH_QA_Copy_GWTDT_Input_Data_V01/output_V01/data/mountain_mask/sed_extend/dem_floodplain5min.map\n",
      "copy: s3://wri-projects/Aqueduct30/rawData/Deltares/groundwater/Final_Oct_2017/data/tables/readme.txt to s3://wri-projects/Aqueduct30/qaData/aqueduct_food/Y2018M06D08_RH_QA_Copy_GWTDT_Input_Data_V01/output_V01/data/tables/readme.txt\n",
      "copy: s3://wri-projects/Aqueduct30/rawData/Deltares/groundwater/Final_Oct_2017/data/tables/state_table_sorted.txt to s3://wri-projects/Aqueduct30/qaData/aqueduct_food/Y2018M06D08_RH_QA_Copy_GWTDT_Input_Data_V01/output_V01/data/tables/state_table_sorted.txt\n",
      "copy: s3://wri-projects/Aqueduct30/rawData/Deltares/groundwater/Final_Oct_2017/docs/Lit_comparison_201708.xlsx to s3://wri-projects/Aqueduct30/qaData/aqueduct_food/Y2018M06D08_RH_QA_Copy_GWTDT_Input_Data_V01/output_V01/docs/Lit_comparison_201708.xlsx\n",
      "copy: s3://wri-projects/Aqueduct30/rawData/Deltares/groundwater/Final_Oct_2017/data/tables/hybas_table_sorted.txt to s3://wri-projects/Aqueduct30/qaData/aqueduct_food/Y2018M06D08_RH_QA_Copy_GWTDT_Input_Data_V01/output_V01/data/tables/hybas_table_sorted.txt\n",
      "copy: s3://wri-projects/Aqueduct30/rawData/Deltares/groundwater/Final_Oct_2017/docs/Memo Update Groundwater Risk indicators_DRAFT.docx to s3://wri-projects/Aqueduct30/qaData/aqueduct_food/Y2018M06D08_RH_QA_Copy_GWTDT_Input_Data_V01/output_V01/docs/Memo Update Groundwater Risk indicators_DRAFT.docx\n",
      "copy: s3://wri-projects/Aqueduct30/rawData/Deltares/groundwater/Final_Oct_2017/docs/RE Groundwater risk indicators - two suggestions.msg to s3://wri-projects/Aqueduct30/qaData/aqueduct_food/Y2018M06D08_RH_QA_Copy_GWTDT_Input_Data_V01/output_V01/docs/RE Groundwater risk indicators - two suggestions.msg\n"
     ]
    },
    {
     "name": "stdout",
     "output_type": "stream",
     "text": [
      "copy: s3://wri-projects/Aqueduct30/rawData/Deltares/groundwater/Final_Oct_2017/data/mountain_mask/sed_extend/sed_extent.map to s3://wri-projects/Aqueduct30/qaData/aqueduct_food/Y2018M06D08_RH_QA_Copy_GWTDT_Input_Data_V01/output_V01/data/mountain_mask/sed_extend/sed_extent.map\n",
      "copy: s3://wri-projects/Aqueduct30/rawData/Deltares/groundwater/Final_Oct_2017/docs/readme.docx to s3://wri-projects/Aqueduct30/qaData/aqueduct_food/Y2018M06D08_RH_QA_Copy_GWTDT_Input_Data_V01/output_V01/docs/readme.docx\n",
      "copy: s3://wri-projects/Aqueduct30/rawData/Deltares/groundwater/Final_Oct_2017/docs/Memo Update Groundwater Risk indicators_DRAFTRH_SCGR_MFS_EHS.docx to s3://wri-projects/Aqueduct30/qaData/aqueduct_food/Y2018M06D08_RH_QA_Copy_GWTDT_Input_Data_V01/output_V01/docs/Memo Update Groundwater Risk indicators_DRAFTRH_SCGR_MFS_EHS.docx\n",
      "copy: s3://wri-projects/Aqueduct30/rawData/Deltares/groundwater/Final_Oct_2017/docs/setup_global_rerun_continue_from_2011_with_more_daily_outputs.ini_2017-05-01T19.11.45.004122.ini to s3://wri-projects/Aqueduct30/qaData/aqueduct_food/Y2018M06D08_RH_QA_Copy_GWTDT_Input_Data_V01/output_V01/docs/setup_global_rerun_continue_from_2011_with_more_daily_outputs.ini_2017-05-01T19.11.45.004122.ini\n",
      "copy: s3://wri-projects/Aqueduct30/rawData/Deltares/groundwater/Final_Oct_2017/data/groundwater_head_changes_1990-2014/pixel_1990to2014.monthly_groundwater_head_changes.nc to s3://wri-projects/Aqueduct30/qaData/aqueduct_food/Y2018M06D08_RH_QA_Copy_GWTDT_Input_Data_V01/output_V01/data/groundwater_head_changes_1990-2014/pixel_1990to2014.monthly_groundwater_head_changes.nc\n"
     ]
    }
   ],
   "source": [
    "!aws s3 cp {S3_INPUT_PATH} {s3_output_path} --recursive"
   ]
  },
  {
   "cell_type": "code",
   "execution_count": 4,
   "metadata": {},
   "outputs": [
    {
     "name": "stdout",
     "output_type": "stream",
     "text": [
      "0:00:24.974237\n"
     ]
    }
   ],
   "source": [
    "end = datetime.datetime.now()\n",
    "elapsed = end - start\n",
    "print(elapsed)"
   ]
  },
  {
   "cell_type": "markdown",
   "metadata": {},
   "source": [
    "Previous runs:  \n",
    "0:00:26.164974\n"
   ]
  },
  {
   "cell_type": "code",
   "execution_count": null,
   "metadata": {
    "collapsed": true
   },
   "outputs": [],
   "source": []
  }
 ],
 "metadata": {
  "kernelspec": {
   "display_name": "Python 35",
   "language": "python",
   "name": "python35"
  },
  "language_info": {
   "codemirror_mode": {
    "name": "ipython",
    "version": 3
   },
   "file_extension": ".py",
   "mimetype": "text/x-python",
   "name": "python",
   "nbconvert_exporter": "python",
   "pygments_lexer": "ipython3",
   "version": "3.5.4"
  }
 },
 "nbformat": 4,
 "nbformat_minor": 2
}
