{
 "cells": [
  {
   "cell_type": "code",
   "execution_count": 1,
   "metadata": {},
   "outputs": [
    {
     "name": "stdout",
     "output_type": "stream",
     "text": [
      "Input s3 : s3://wri-projects/Aqueduct30/rawData/WRI/aqueduct_food_waterstress\n",
      "Output s3: s3://wri-projects/Aqueduct30/qaData/aqueduct_food/Y2018M06D08_RH_QA_Copy_Waterstress_Data_V01/output_V01\n"
     ]
    }
   ],
   "source": [
    "\"\"\" Copy water stress table to amazon S3.\n",
    "-------------------------------------------------------------------------------\n",
    "\n",
    "Aqueduct code / data has been moved to AWS / Github as of June 25th 2017. Prior\n",
    "to that, analyses were done locally and code was stored in Google Drive. Version\n",
    "control is therefore somewhat more difficult but luckily everything is \n",
    "annotated. \n",
    "\n",
    "Location of previous version of waterstress calculation:\n",
    "Google Drive\\02WRI\\Projects\\Aqueduct\\Data\\Aqueduct30\\45_calculateWS02\\\n",
    "calculatedWS03.csv\"\n",
    "\n",
    "Manually copying 45_calculateWS02 to amazon S3 \n",
    "\n",
    "Author: Rutger Hofste\n",
    "Date: 20180502\n",
    "Kernel: python35\n",
    "Docker: rutgerhofste/gisdocker:ubuntu16.04\n",
    "\n",
    "\n",
    "\"\"\"\n",
    "\n",
    "SCRIPT_NAME = \"Y2018M06D08_RH_QA_Copy_Waterstress_Data_V01\"\n",
    "OUTPUT_VERSION = 1\n",
    "OVERWRITE =1\n",
    "\n",
    "S3_INPUT_PATH = \"s3://wri-projects/Aqueduct30/rawData/WRI/aqueduct_food_waterstress\"\n",
    "s3_output_path = \"s3://wri-projects/Aqueduct30/qaData/aqueduct_food/{}/output_V{:02.0f}\".format(SCRIPT_NAME,OUTPUT_VERSION)\n",
    "\n",
    "print(\"Input s3 : \" + S3_INPUT_PATH +\n",
    "      \"\\nOutput s3: \" + s3_output_path)"
   ]
  },
  {
   "cell_type": "code",
   "execution_count": 2,
   "metadata": {},
   "outputs": [
    {
     "name": "stdout",
     "output_type": "stream",
     "text": [
      "Y2018M06D08 UTC 11:07\n"
     ]
    },
    {
     "data": {
      "text/plain": [
       "'3.5.4 |Anaconda, Inc.| (default, Nov 20 2017, 18:44:38) \\n[GCC 7.2.0]'"
      ]
     },
     "execution_count": 2,
     "metadata": {},
     "output_type": "execute_result"
    }
   ],
   "source": [
    "import time, datetime, sys, logging\n",
    "dateString = time.strftime(\"Y%YM%mD%d\")\n",
    "timeString = time.strftime(\"UTC %H:%M\")\n",
    "start = datetime.datetime.now()\n",
    "print(dateString,timeString)\n",
    "sys.version"
   ]
  },
  {
   "cell_type": "code",
   "execution_count": 3,
   "metadata": {},
   "outputs": [
    {
     "name": "stdout",
     "output_type": "stream",
     "text": [
      "copy: s3://wri-projects/Aqueduct30/rawData/WRI/aqueduct_food_waterstress/45_calculateWS02/.idea/25_calculateWS01.iml to s3://wri-projects/Aqueduct30/qaData/aqueduct_food/Y2018M06D08_RH_QA_Copy_Waterstress_Data_V01/output_V01/45_calculateWS02/.idea/25_calculateWS01.iml\n",
      "copy: s3://wri-projects/Aqueduct30/rawData/WRI/aqueduct_food_waterstress/45_calculateWS02/.idea/misc.xml to s3://wri-projects/Aqueduct30/qaData/aqueduct_food/Y2018M06D08_RH_QA_Copy_Waterstress_Data_V01/output_V01/45_calculateWS02/.idea/misc.xml\n",
      "copy: s3://wri-projects/Aqueduct30/rawData/WRI/aqueduct_food_waterstress/45_calculateWS02/calculateWS02.py to s3://wri-projects/Aqueduct30/qaData/aqueduct_food/Y2018M06D08_RH_QA_Copy_Waterstress_Data_V01/output_V01/45_calculateWS02/calculateWS02.py\n",
      "copy: s3://wri-projects/Aqueduct30/rawData/WRI/aqueduct_food_waterstress/45_calculateWS02/.idea/workspace.xml to s3://wri-projects/Aqueduct30/qaData/aqueduct_food/Y2018M06D08_RH_QA_Copy_Waterstress_Data_V01/output_V01/45_calculateWS02/.idea/workspace.xml\n",
      "copy: s3://wri-projects/Aqueduct30/rawData/WRI/aqueduct_food_waterstress/45_calculateWS02/calculatedWS02.csv to s3://wri-projects/Aqueduct30/qaData/aqueduct_food/Y2018M06D08_RH_QA_Copy_Waterstress_Data_V01/output_V01/45_calculateWS02/calculatedWS02.csv\n",
      "copy: s3://wri-projects/Aqueduct30/rawData/WRI/aqueduct_food_waterstress/45_calculateWS02/.idea/modules.xml to s3://wri-projects/Aqueduct30/qaData/aqueduct_food/Y2018M06D08_RH_QA_Copy_Waterstress_Data_V01/output_V01/45_calculateWS02/.idea/modules.xml\n",
      "copy: s3://wri-projects/Aqueduct30/rawData/WRI/aqueduct_food_waterstress/45_calculateWS02/calculatedWS03.csv to s3://wri-projects/Aqueduct30/qaData/aqueduct_food/Y2018M06D08_RH_QA_Copy_Waterstress_Data_V01/output_V01/45_calculateWS02/calculatedWS03.csv\n",
      "copy: s3://wri-projects/Aqueduct30/rawData/WRI/aqueduct_food_waterstress/45_calculateWS02/input/output02.csv to s3://wri-projects/Aqueduct30/qaData/aqueduct_food/Y2018M06D08_RH_QA_Copy_Waterstress_Data_V01/output_V01/45_calculateWS02/input/output02.csv\n",
      "copy: s3://wri-projects/Aqueduct30/rawData/WRI/aqueduct_food_waterstress/45_calculateWS02/input/output03.csv to s3://wri-projects/Aqueduct30/qaData/aqueduct_food/Y2018M06D08_RH_QA_Copy_Waterstress_Data_V01/output_V01/45_calculateWS02/input/output03.csv\n",
      "copy: s3://wri-projects/Aqueduct30/rawData/WRI/aqueduct_food_waterstress/45_calculateWS02/calculatedWS01.csv to s3://wri-projects/Aqueduct30/qaData/aqueduct_food/Y2018M06D08_RH_QA_Copy_Waterstress_Data_V01/output_V01/45_calculateWS02/calculatedWS01.csv\n"
     ]
    }
   ],
   "source": [
    "!aws s3 cp {S3_INPUT_PATH} {s3_output_path} --recursive"
   ]
  },
  {
   "cell_type": "code",
   "execution_count": 4,
   "metadata": {},
   "outputs": [
    {
     "name": "stdout",
     "output_type": "stream",
     "text": [
      "0:00:05.250798\n"
     ]
    }
   ],
   "source": [
    "end = datetime.datetime.now()\n",
    "elapsed = end - start\n",
    "print(elapsed)"
   ]
  }
 ],
 "metadata": {
  "kernelspec": {
   "display_name": "Python 35",
   "language": "python",
   "name": "python35"
  },
  "language_info": {
   "codemirror_mode": {
    "name": "ipython",
    "version": 3
   },
   "file_extension": ".py",
   "mimetype": "text/x-python",
   "name": "python",
   "nbconvert_exporter": "python",
   "pygments_lexer": "ipython3",
   "version": "3.5.4"
  }
 },
 "nbformat": 4,
 "nbformat_minor": 2
}
