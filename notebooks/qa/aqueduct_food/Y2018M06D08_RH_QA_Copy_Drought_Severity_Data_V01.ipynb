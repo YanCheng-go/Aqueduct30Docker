{
 "cells": [
  {
   "cell_type": "code",
   "execution_count": 1,
   "metadata": {
    "scrolled": true
   },
   "outputs": [
    {
     "name": "stdout",
     "output_type": "stream",
     "text": [
      "Input s3 : s3://wri-projects/Aqueduct30/processData/Y2017M08D08_RH_Convert_Indicators_ASC_Geotiff_V02/output_V07\n",
      "Output s3: s3://wri-projects/Aqueduct30/qaData/aqueduct_food/Y2018M06D08_RH_QA_Copy_Drought_Severity_Data_V01/output_V01\n"
     ]
    }
   ],
   "source": [
    "\"\"\" Copy drought severity geotiffs to S3.\n",
    "-------------------------------------------------------------------------------\n",
    "\n",
    "Drought Severity Soil Moisture was provided in .asc format. The files are\n",
    "converted to geotiff in the main aqueduct branch. See :\n",
    "https://github.com/wri/Aqueduct30Docker/blob/master/notebooks/production/readme.ipynb\n",
    "for the full processing steps. \n",
    "\n",
    "The file for drought severity soil moisture is:\n",
    "\"global_historical_droughtseveritystandardisedsoilmoisture_reduced_dimensionless_5min_1960_2014.tif\"\n",
    "\n",
    "\n",
    "Author: Rutger Hofste\n",
    "Date: 20180502\n",
    "Kernel: python35\n",
    "Docker: rutgerhofste/gisdocker:ubuntu16.04\n",
    "\n",
    "\n",
    "\"\"\"\n",
    "\n",
    "SCRIPT_NAME = \"Y2018M06D08_RH_QA_Copy_Drought_Severity_Data_V01\"\n",
    "OUTPUT_VERSION = 1\n",
    "OVERWRITE =1\n",
    "\n",
    "S3_INPUT_PATH = \"s3://wri-projects/Aqueduct30/processData/Y2017M08D08_RH_Convert_Indicators_ASC_Geotiff_V02/output_V07\"\n",
    "s3_output_path = \"s3://wri-projects/Aqueduct30/qaData/aqueduct_food/{}/output_V{:02.0f}\".format(SCRIPT_NAME,OUTPUT_VERSION)\n",
    "\n",
    "print(\"Input s3 : \" + S3_INPUT_PATH +\n",
    "      \"\\nOutput s3: \" + s3_output_path)"
   ]
  },
  {
   "cell_type": "code",
   "execution_count": 2,
   "metadata": {},
   "outputs": [
    {
     "name": "stdout",
     "output_type": "stream",
     "text": [
      "Y2018M06D08 UTC 10:44\n"
     ]
    },
    {
     "data": {
      "text/plain": [
       "'3.5.4 |Anaconda, Inc.| (default, Nov 20 2017, 18:44:38) \\n[GCC 7.2.0]'"
      ]
     },
     "execution_count": 2,
     "metadata": {},
     "output_type": "execute_result"
    }
   ],
   "source": [
    "import time, datetime, sys, logging\n",
    "dateString = time.strftime(\"Y%YM%mD%d\")\n",
    "timeString = time.strftime(\"UTC %H:%M\")\n",
    "start = datetime.datetime.now()\n",
    "print(dateString,timeString)\n",
    "sys.version"
   ]
  },
  {
   "cell_type": "code",
   "execution_count": 3,
   "metadata": {},
   "outputs": [
    {
     "name": "stdout",
     "output_type": "stream",
     "text": [
      "copy: s3://wri-projects/Aqueduct30/processData/Y2017M08D08_RH_Convert_Indicators_ASC_Geotiff_V02/output_V07/global_historical_q1seasonalvariabilitywatersupply_reduced_dimensionless_5min_1960-2014.tif to s3://wri-projects/Aqueduct30/qaData/aqueduct_food/Y2018M06D08_RH_QA_Copy_Drought_Severity_Data_V01/output_V01/global_historical_q1seasonalvariabilitywatersupply_reduced_dimensionless_5min_1960-2014.tif\n",
      "copy: s3://wri-projects/Aqueduct30/processData/Y2017M08D08_RH_Convert_Indicators_ASC_Geotiff_V02/output_V07/global_historical_droughtseveritystandardisedstreamflow_reduced_dimensionless_5min_1960_2014.tif to s3://wri-projects/Aqueduct30/qaData/aqueduct_food/Y2018M06D08_RH_QA_Copy_Drought_Severity_Data_V01/output_V01/global_historical_droughtseveritystandardisedstreamflow_reduced_dimensionless_5min_1960_2014.tif\n",
      "copy: s3://wri-projects/Aqueduct30/processData/Y2017M08D08_RH_Convert_Indicators_ASC_Geotiff_V02/output_V07/global_historical_environmentalflows_reduced_m3second_5min_1960_2014.tif to s3://wri-projects/Aqueduct30/qaData/aqueduct_food/Y2018M06D08_RH_QA_Copy_Drought_Severity_Data_V01/output_V01/global_historical_environmentalflows_reduced_m3second_5min_1960_2014.tif\n",
      "copy: s3://wri-projects/Aqueduct30/processData/Y2017M08D08_RH_Convert_Indicators_ASC_Geotiff_V02/output_V07/global_historical_droughtseveritystandardisedsoilmoisture_reduced_dimensionless_5min_1960_2014.tif to s3://wri-projects/Aqueduct30/qaData/aqueduct_food/Y2018M06D08_RH_QA_Copy_Drought_Severity_Data_V01/output_V01/global_historical_droughtseveritystandardisedsoilmoisture_reduced_dimensionless_5min_1960_2014.tif\n",
      "copy: s3://wri-projects/Aqueduct30/processData/Y2017M08D08_RH_Convert_Indicators_ASC_Geotiff_V02/output_V07/global_historical_q2seasonalvariabilitywatersupply_reduced_dimensionless_5min_1960-2014.tif to s3://wri-projects/Aqueduct30/qaData/aqueduct_food/Y2018M06D08_RH_QA_Copy_Drought_Severity_Data_V01/output_V01/global_historical_q2seasonalvariabilitywatersupply_reduced_dimensionless_5min_1960-2014.tif\n",
      "copy: s3://wri-projects/Aqueduct30/processData/Y2017M08D08_RH_Convert_Indicators_ASC_Geotiff_V02/output_V07/global_historical_interannualvariabilitywatersupply_reduced_dimensionless_5min_1960_2014.tif to s3://wri-projects/Aqueduct30/qaData/aqueduct_food/Y2018M06D08_RH_QA_Copy_Drought_Severity_Data_V01/output_V01/global_historical_interannualvariabilitywatersupply_reduced_dimensionless_5min_1960_2014.tif\n",
      "copy: s3://wri-projects/Aqueduct30/processData/Y2017M08D08_RH_Convert_Indicators_ASC_Geotiff_V02/output_V07/global_historical_q4seasonalvariabilitywatersupply_reduced_dimensionless_5min_1960-2014.tif to s3://wri-projects/Aqueduct30/qaData/aqueduct_food/Y2018M06D08_RH_QA_Copy_Drought_Severity_Data_V01/output_V01/global_historical_q4seasonalvariabilitywatersupply_reduced_dimensionless_5min_1960-2014.tif\n",
      "copy: s3://wri-projects/Aqueduct30/processData/Y2017M08D08_RH_Convert_Indicators_ASC_Geotiff_V02/output_V07/global_historical_q3seasonalvariabilitywatersupply_reduced_dimensionless_5min_1960-2014.tif to s3://wri-projects/Aqueduct30/qaData/aqueduct_food/Y2018M06D08_RH_QA_Copy_Drought_Severity_Data_V01/output_V01/global_historical_q3seasonalvariabilitywatersupply_reduced_dimensionless_5min_1960-2014.tif\n"
     ]
    }
   ],
   "source": [
    "!aws s3 cp {S3_INPUT_PATH} {s3_output_path} --recursive "
   ]
  },
  {
   "cell_type": "code",
   "execution_count": 4,
   "metadata": {},
   "outputs": [
    {
     "name": "stdout",
     "output_type": "stream",
     "text": [
      "0:00:03.333191\n"
     ]
    }
   ],
   "source": [
    "end = datetime.datetime.now()\n",
    "elapsed = end - start\n",
    "print(elapsed)"
   ]
  }
 ],
 "metadata": {
  "kernelspec": {
   "display_name": "Python 35",
   "language": "python",
   "name": "python35"
  },
  "language_info": {
   "codemirror_mode": {
    "name": "ipython",
    "version": 3
   },
   "file_extension": ".py",
   "mimetype": "text/x-python",
   "name": "python",
   "nbconvert_exporter": "python",
   "pygments_lexer": "ipython3",
   "version": "3.5.4"
  }
 },
 "nbformat": 4,
 "nbformat_minor": 2
}
