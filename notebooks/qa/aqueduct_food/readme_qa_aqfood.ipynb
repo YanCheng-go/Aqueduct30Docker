{
 "cells": [
  {
   "cell_type": "markdown",
   "metadata": {},
   "source": [
    "# Scripts for AQ Food QA\n",
    "-------------------------------------------------------------------------------\n",
    "\n",
    "a couple of scripts to make QA for Aqueduct Food Easier. The scripts will store \n",
    "relevant data in one place without the need to touch raw input data. \n",
    "\n",
    "The main clean up script written by Alicia can be found [here](https://github.com/resource-watch/notebooks/blob/develop/Aqueduct/lab/water_risk_cleanup.ipynb)\n",
    "\n",
    "\n",
    "## Groundwater Table Declining Trend\n",
    "\n",
    "1. **Y2018M06D08_RH_QA_Copy_GWTDT_Input_Data_V01**  \n",
    "    Copy the groundwater table declining trend data to S3. \n",
    "\n",
    "## Drought Severity Soil Moisture\n",
    "\n",
    "1. **Y2018M06D08_RH_QA_Copy_Drought_Severity_Data_V01**  \n",
    "    Copy drought severity geotiffs to S3.\n",
    "\n",
    "## Water Stress\n",
    "1. **Y2018M06D08_RH_QA_Copy_Waterstress_Data_V01**  \n",
    "    Copy water stress table to amazon S3.\n",
    "\n",
    "\n",
    "\n",
    "\n",
    "\n",
    "## IFPRI IMPACT\n",
    "\n",
    "Shared over email. Ask Vizzuality / Sara for version used.\n",
    "\n",
    "## SPAM \n",
    "Vizzuality downloaded the data directly:  \n",
    "http://spam05.harvestchoice.org/v2r0/csv/  \n",
    "sample data script:  \n",
    "https://github.com/resource-watch/notebooks/blob/develop/Aqueduct/lab/data_download.ipynb\n",
    "complete download:  \n",
    "https://github.com/resource-watch/notebooks/blob/develop/Aqueduct/lab/\n",
    "\n",
    "\n",
    "\n",
    "\n",
    "\n",
    "\n"
   ]
  },
  {
   "cell_type": "code",
   "execution_count": null,
   "metadata": {
    "collapsed": true
   },
   "outputs": [],
   "source": []
  }
 ],
 "metadata": {
  "kernelspec": {
   "display_name": "Python 35",
   "language": "python",
   "name": "python35"
  },
  "language_info": {
   "codemirror_mode": {
    "name": "ipython",
    "version": 3
   },
   "file_extension": ".py",
   "mimetype": "text/x-python",
   "name": "python",
   "nbconvert_exporter": "python",
   "pygments_lexer": "ipython3",
   "version": "3.5.4"
  }
 },
 "nbformat": 4,
 "nbformat_minor": 2
}
