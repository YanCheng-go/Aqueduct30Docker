{
 "cells": [
  {
   "cell_type": "code",
   "execution_count": 1,
   "metadata": {},
   "outputs": [
    {
     "name": "stdout",
     "output_type": "stream",
     "text": [
      "Input BQ Table : y2018m09d28_rh_dr_cat_label_v01_v02\n",
      "CARTO_OUTPUT_TABLE_NAME: y2018m09d28_rh_qa_dr_carto_v01_v02\n"
     ]
    }
   ],
   "source": [
    "\"\"\"Queries drought risk and stores in Carto.\n",
    "-------------------------------------------------------------------------------\n",
    "\n",
    "\"\"\"\n",
    "\n",
    "\n",
    "SCRIPT_NAME = 'Y2018M09D28_RH_QA_DR_Carto_V01'\n",
    "OUTPUT_VERSION = 2\n",
    "\n",
    "BQ_PROJECT_ID = \"aqueduct30\"\n",
    "BQ_INPUT_DATASET_NAME = \"aqueduct30v01\"\n",
    "BQ_INPUT_TABLE_NAME = \"y2018m09d28_rh_dr_cat_label_v01_v02\"\n",
    "\n",
    "CARTO_OUTPUT_TABLE_NAME = SCRIPT_NAME.lower() + \"_v{:02.0f}\".format(OUTPUT_VERSION)\n",
    "\n",
    "print(\"Input BQ Table : \" + BQ_INPUT_TABLE_NAME +\n",
    "      \"\\nCARTO_OUTPUT_TABLE_NAME: \" + CARTO_OUTPUT_TABLE_NAME)"
   ]
  },
  {
   "cell_type": "code",
   "execution_count": 2,
   "metadata": {},
   "outputs": [
    {
     "name": "stdout",
     "output_type": "stream",
     "text": [
      "Y2018M10D01 UTC 10:29\n"
     ]
    },
    {
     "data": {
      "text/plain": [
       "'3.5.4 |Anaconda, Inc.| (default, Nov 20 2017, 18:44:38) \\n[GCC 7.2.0]'"
      ]
     },
     "execution_count": 2,
     "metadata": {},
     "output_type": "execute_result"
    }
   ],
   "source": [
    "import time, datetime, sys\n",
    "dateString = time.strftime(\"Y%YM%mD%d\")\n",
    "timeString = time.strftime(\"UTC %H:%M\")\n",
    "start = datetime.datetime.now()\n",
    "print(dateString,timeString)\n",
    "sys.version"
   ]
  },
  {
   "cell_type": "code",
   "execution_count": 3,
   "metadata": {
    "collapsed": true
   },
   "outputs": [],
   "source": [
    "import os\n",
    "import sqlalchemy\n",
    "import cartoframes\n",
    "import pandas as pd\n",
    "import geopandas as gpd\n",
    "from google.cloud import bigquery\n",
    "%load_ext google.cloud.bigquery\n",
    "\n",
    "os.environ[\"GOOGLE_APPLICATION_CREDENTIALS\"] = \"/.google.json\"\n",
    "os.environ[\"GOOGLE_CLOUD_PROJECT\"] = \"aqueduct30\"\n",
    "client = bigquery.Client(project=BQ_PROJECT_ID)"
   ]
  },
  {
   "cell_type": "code",
   "execution_count": 4,
   "metadata": {
    "collapsed": true
   },
   "outputs": [],
   "source": [
    "F = open(\"/.carto_builder\",\"r\")\n",
    "carto_api_key = F.read().splitlines()[0]\n",
    "F.close()\n",
    "creds = cartoframes.Credentials(key=carto_api_key, \n",
    "                    username='wri-playground')\n",
    "cc = cartoframes.CartoContext(creds=creds)"
   ]
  },
  {
   "cell_type": "code",
   "execution_count": 5,
   "metadata": {
    "collapsed": true
   },
   "outputs": [],
   "source": [
    "sql = \"\"\"SELECT\n",
    "  PFAF_ID,\n",
    "  droughthazard_dimensionless,\n",
    "  droughthazard_count,\n",
    "  droughthazard_score,\n",
    "  droughthazard_cat,\n",
    "  droughthazard_label,\n",
    "  droughtrisk_dimensionless,\n",
    "  droughtrisk_count,\n",
    "  droughtrisk_score,\n",
    "  droughtrisk_cat,\n",
    "  droughtrisk_label,\n",
    "  droughtexposure_dimensionless,\n",
    "  droughtexposure_count,\n",
    "  droughtexposure_score,\n",
    "  droughtexposure_cat,\n",
    "  droughtexposure_label,\n",
    "  droughtvulnerability_dimensionless,\n",
    "  droughtvulnerability_count,\n",
    "  droughtvulnerability_score,\n",
    "  droughtvulnerability_cat,\n",
    "  droughtvulnerability_label\n",
    "FROM\n",
    "  `{}.{}`\n",
    "\"\"\".format(BQ_INPUT_DATASET_NAME,BQ_INPUT_TABLE_NAME)"
   ]
  },
  {
   "cell_type": "code",
   "execution_count": 6,
   "metadata": {},
   "outputs": [
    {
     "name": "stdout",
     "output_type": "stream",
     "text": [
      "SELECT\n",
      "  PFAF_ID,\n",
      "  droughthazard_dimensionless,\n",
      "  droughthazard_count,\n",
      "  droughthazard_score,\n",
      "  droughthazard_cat,\n",
      "  droughthazard_label,\n",
      "  droughtrisk_dimensionless,\n",
      "  droughtrisk_count,\n",
      "  droughtrisk_score,\n",
      "  droughtrisk_cat,\n",
      "  droughtrisk_label,\n",
      "  droughtexposure_dimensionless,\n",
      "  droughtexposure_count,\n",
      "  droughtexposure_score,\n",
      "  droughtexposure_cat,\n",
      "  droughtexposure_label,\n",
      "  droughtvulnerability_dimensionless,\n",
      "  droughtvulnerability_count,\n",
      "  droughtvulnerability_score,\n",
      "  droughtvulnerability_cat,\n",
      "  droughtvulnerability_label\n",
      "FROM\n",
      "  `aqueduct30v01.y2018m09d28_rh_dr_cat_label_v01_v02`\n",
      "\n"
     ]
    }
   ],
   "source": [
    "print(sql)"
   ]
  },
  {
   "cell_type": "code",
   "execution_count": 7,
   "metadata": {
    "collapsed": true
   },
   "outputs": [],
   "source": [
    "df = pd.read_gbq(query=sql,dialect=\"standard\")"
   ]
  },
  {
   "cell_type": "code",
   "execution_count": 8,
   "metadata": {},
   "outputs": [
    {
     "data": {
      "text/plain": [
       "(16396, 21)"
      ]
     },
     "execution_count": 8,
     "metadata": {},
     "output_type": "execute_result"
    }
   ],
   "source": [
    "df.shape"
   ]
  },
  {
   "cell_type": "code",
   "execution_count": 9,
   "metadata": {},
   "outputs": [
    {
     "name": "stdout",
     "output_type": "stream",
     "text": [
      "The following columns were changed in the CARTO copy of this dataframe:\n",
      "\u001b[1mPFAF_ID\u001b[0m -> \u001b[1mpfaf_id\u001b[0m\n",
      "Table successfully written to CARTO: https://wri-playground.carto.com/dataset/y2018m09d28_rh_qa_dr_carto_v01_v02\n"
     ]
    }
   ],
   "source": [
    "# Upload result data to Carto\n",
    "cc.write(df=df,\n",
    "         table_name=CARTO_OUTPUT_TABLE_NAME,\n",
    "         overwrite=True,\n",
    "         privacy=\"public\")"
   ]
  },
  {
   "cell_type": "code",
   "execution_count": 10,
   "metadata": {},
   "outputs": [
    {
     "name": "stdout",
     "output_type": "stream",
     "text": [
      "0:00:23.417738\n"
     ]
    }
   ],
   "source": [
    "end = datetime.datetime.now()\n",
    "elapsed = end - start\n",
    "print(elapsed)"
   ]
  },
  {
   "cell_type": "markdown",
   "metadata": {},
   "source": [
    "Previous runs:  \n",
    "0:00:21.165826"
   ]
  },
  {
   "cell_type": "code",
   "execution_count": null,
   "metadata": {
    "collapsed": true
   },
   "outputs": [],
   "source": []
  }
 ],
 "metadata": {
  "kernelspec": {
   "display_name": "Python 35",
   "language": "python",
   "name": "python35"
  },
  "language_info": {
   "codemirror_mode": {
    "name": "ipython",
    "version": 3
   },
   "file_extension": ".py",
   "mimetype": "text/x-python",
   "name": "python",
   "nbconvert_exporter": "python",
   "pygments_lexer": "ipython3",
   "version": "3.5.4"
  }
 },
 "nbformat": 4,
 "nbformat_minor": 2
}
