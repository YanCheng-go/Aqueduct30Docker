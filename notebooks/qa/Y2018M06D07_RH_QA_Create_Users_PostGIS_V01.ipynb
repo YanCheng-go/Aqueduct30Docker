{
 "cells": [
  {
   "cell_type": "code",
   "execution_count": null,
   "metadata": {
    "collapsed": true
   },
   "outputs": [],
   "source": [
    "\"\"\" Create users and manage permissions in database.\n",
    "-------------------------------------------------------------------------------\n",
    "\n",
    "Run the query in PGAdmin or using python. \n",
    "\n",
    "passwords sent using email to tianyi and sam.\n",
    "\n",
    "\n",
    "Author: Rutger Hofste\n",
    "Date: 20180607\n",
    "Kernel: python35\n",
    "Docker: rutgerhofste/gisdocker:ubuntu16.04\n",
    "\n",
    "\"\"\"\n"
   ]
  },
  {
   "cell_type": "code",
   "execution_count": null,
   "metadata": {
    "collapsed": true
   },
   "outputs": [],
   "source": []
  },
  {
   "cell_type": "code",
   "execution_count": null,
   "metadata": {
    "collapsed": true
   },
   "outputs": [],
   "source": [
    "CREATE USER tianyi WITH\n",
    "    LOGIN\n",
    "    NOSUPERUSER\n",
    "    NOCREATEDB\n",
    "    NOCREATEROLE\n",
    "    INHERIT\n",
    "    NOREPLICATION\n",
    "    CONNECTION LIMIT -1\n",
    "    PASSWORD 'xxxxxx';\n",
    "    \n",
    "GRANT USAGE ON SCHEMA test TO tianyi;\n",
    "GRANT ALL PRIVILEGES ON ALL TABLES IN SCHEMA test TO tianyi;\n",
    "\n",
    "ALTER DEFAULT PRIVILEGES IN SCHEMA test GRANT ALL ON TABLES to tianyi;\n",
    "\n"
   ]
  }
 ],
 "metadata": {
  "kernelspec": {
   "display_name": "Python 35",
   "language": "python",
   "name": "python35"
  },
  "language_info": {
   "codemirror_mode": {
    "name": "ipython",
    "version": 3
   },
   "file_extension": ".py",
   "mimetype": "text/x-python",
   "name": "python",
   "nbconvert_exporter": "python",
   "pygments_lexer": "ipython3",
   "version": "3.5.4"
  }
 },
 "nbformat": 4,
 "nbformat_minor": 2
}
