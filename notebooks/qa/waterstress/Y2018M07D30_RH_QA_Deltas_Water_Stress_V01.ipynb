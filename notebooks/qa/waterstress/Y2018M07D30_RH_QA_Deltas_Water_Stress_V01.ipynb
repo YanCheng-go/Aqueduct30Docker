{
 "cells": [
  {
   "cell_type": "code",
   "execution_count": 2,
   "metadata": {},
   "outputs": [],
   "source": [
    "\"\"\" Inspect result for water stress basins.\n",
    "-------------------------------------------------------------------------------\n",
    "\n",
    "Inspect the results of the aggregation by deltas on the water stress levels. \n",
    "\n",
    "- merge delta and pfaf data\n",
    "- upload to bq\n",
    "- inspect differences\n",
    "\n",
    "\n",
    "Author: Rutger Hofste\n",
    "Date: 20180730\n",
    "Kernel: python35\n",
    "Docker: rutgerhofste/gisdocker:ubuntu16.04\n",
    "\n",
    "\"\"\"\n",
    "\n",
    "SCRIPT_NAME = 'Y2018M07D30_RH_QA_Deltas_Water_Stress_V01'\n",
    "OUTPUT_VERSION = 1\n",
    "\n",
    "RDS_DATABASE_ENDPOINT = \"aqueduct30v05.cgpnumwmfcqc.eu-central-1.rds.amazonaws.com\"\n",
    "RDS_DATABASE_NAME = \"database01\"\n",
    "\n",
    "\n"
   ]
  },
  {
   "cell_type": "code",
   "execution_count": null,
   "metadata": {
    "collapsed": true
   },
   "outputs": [],
   "source": []
  }
 ],
 "metadata": {
  "kernelspec": {
   "display_name": "Python 35",
   "language": "python",
   "name": "python35"
  },
  "language_info": {
   "codemirror_mode": {
    "name": "ipython",
    "version": 3
   },
   "file_extension": ".py",
   "mimetype": "text/x-python",
   "name": "python",
   "nbconvert_exporter": "python",
   "pygments_lexer": "ipython3",
   "version": "3.5.4"
  }
 },
 "nbformat": 4,
 "nbformat_minor": 2
}
