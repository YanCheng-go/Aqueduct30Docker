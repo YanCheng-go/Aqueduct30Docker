{
 "cells": [
  {
   "cell_type": "code",
   "execution_count": 1,
   "metadata": {},
   "outputs": [
    {
     "data": {
      "text/plain": [
       "'\\nInspect Overall Water Risk per sector.\\n\\n\\n\\n'"
      ]
     },
     "execution_count": 1,
     "metadata": {},
     "output_type": "execute_result"
    }
   ],
   "source": [
    "\"\"\"\n",
    "Inspect Overall Water Risk per sector.\n",
    "\n",
    "\n",
    "\n",
    "\"\"\""
   ]
  },
  {
   "cell_type": "code",
   "execution_count": null,
   "metadata": {
    "collapsed": true
   },
   "outputs": [],
   "source": [
    "sql = \"\"\"\"\"\"\n",
    "SELECT\n",
    "  aq30_id,\n",
    "  string_id,\n",
    "  pfaf_id,\n",
    "  gid_1,\n",
    "  aqid,\n",
    "  area_km2,\n",
    "  name_1,\n",
    "  gid_0,\n",
    "  name_0,\n",
    "  delta_id,\n",
    "  bws_score,\n",
    "  bwd_score,\n",
    "  iav_score,\n",
    "  sev_score,\n",
    "  rfr_score,\n",
    "  cfr_score,\n",
    "  drr_score,\n",
    "  gtd_score,\n",
    "  ucw_score,\n",
    "  cep_score,\n",
    "  udw_score,\n",
    "  usa_score,\n",
    "  rri_score,\n",
    "  bws_def_weight,\n",
    "  bwd_def_weight,\n",
    "  iav_def_weight,\n",
    "  sev_def_weight,\n",
    "  rfr_def_weight,\n",
    "  cfr_def_weight,\n",
    "  drr_def_weight,\n",
    "  gtd_def_weight,\n",
    "  ucw_def_weight,\n",
    "  cep_def_weight,\n",
    "  udw_def_weight,\n",
    "  usa_def_weight,\n",
    "  rri_def_weight,\n",
    "  bws_def_weightedscore,\n",
    "  bwd_def_weightedscore,\n",
    "  iav_def_weightedscore,\n",
    "  sev_def_weightedscore,\n",
    "  rfr_def_weightedscore,\n",
    "  cfr_def_weightedscore,\n",
    "  drr_def_weightedscore,\n",
    "  gtd_def_weightedscore,\n",
    "  ucw_def_weightedscore,\n",
    "  cep_def_weightedscore,\n",
    "  udw_def_weightedscore,\n",
    "  usa_def_weightedscore,\n",
    "  rri_def_weightedscore,\n",
    "  def_weight_sum,\n",
    "  def_weightedscore_sum,\n",
    "  owr_def_score\n",
    "FROM\n",
    "  `aqueduct30.aqueduct30v01.y2018m12d11_rh_master_weights_gpd_v01_v01`\n",
    "WHERE string_id = '561400-AUS.11_1-2814'"
   ]
  }
 ],
 "metadata": {
  "kernelspec": {
   "display_name": "Python 35",
   "language": "python",
   "name": "python35"
  },
  "language_info": {
   "codemirror_mode": {
    "name": "ipython",
    "version": 3
   },
   "file_extension": ".py",
   "mimetype": "text/x-python",
   "name": "python",
   "nbconvert_exporter": "python",
   "pygments_lexer": "ipython3",
   "version": "3.5.4"
  }
 },
 "nbformat": 4,
 "nbformat_minor": 2
}
