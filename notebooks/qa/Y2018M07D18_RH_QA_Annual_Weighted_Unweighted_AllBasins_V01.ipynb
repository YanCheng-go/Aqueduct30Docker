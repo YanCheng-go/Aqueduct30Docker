{
 "cells": [
  {
   "cell_type": "code",
   "execution_count": 1,
   "metadata": {},
   "outputs": [
    {
     "name": "stdout",
     "output_type": "stream",
     "text": [
      "carto_output_table_name:  y2018m07d18_rh_qa_annual_weighted_unweighted_allbasins_v01_v01\n"
     ]
    }
   ],
   "source": [
    "\"\"\" Compare weighted and unweighted annual results for all basins.\n",
    "-------------------------------------------------------------------------------\n",
    "\n",
    "Issue: Mapbox GL does not (yet) support tooltips with multiple items when the \n",
    "data is joined locally thereby limiting performance for larger tables.\n",
    "This script will therefore use the cartoframes option. Note that this repo is \n",
    "in active developement so this code will likely break in the future.\n",
    "\n",
    "Steps:\n",
    "\n",
    "1. Query postGIS table from RDS\n",
    "1. Query result table from Bigquery\n",
    "1. Upload result data to Carto\n",
    "1. Join data in Carto\n",
    "1. Define tooltip\n",
    "1. Define plotting\n",
    "1. Plot. \n",
    "\n",
    "Unfortunately the plot area is very small and the tooltip's font size is huge.\n",
    "Visualizing using the webtool might be an alternative. \n",
    "\n",
    "Expected result: A Carto Map with 13 layers. An Annual layer and 12 months, \n",
    "stylized.\n",
    "\n",
    "using carto: Reaching account limits within notime. Probably easiest to switch \n",
    "back to shapefile plus csv files method. pff \n",
    "\n",
    "\n",
    "Author: Rutger Hofste\n",
    "Date: 20180718\n",
    "Kernel: python35\n",
    "Docker: rutgerhofste/gisdocker:ubuntu16.04\n",
    "\n",
    "\"\"\"\n",
    "\n",
    "TESTING = 1\n",
    "OVERWRITE_OUTPUT = 1\n",
    "SCRIPT_NAME = 'Y2018M07D18_RH_QA_Annual_Weighted_Unweighted_AllBasins_V01'\n",
    "OUTPUT_VERSION = 1\n",
    "\n",
    "RDS_DATABASE_ENDPOINT = \"aqueduct30v05.cgpnumwmfcqc.eu-central-1.rds.amazonaws.com\"\n",
    "RDS_DATABASE_NAME = \"database01\"\n",
    "\n",
    "BQ_PROJECT_ID = \"aqueduct30\"\n",
    "BQ_INPUT_TABLE_NAME = \"Y2018M07D17_RH_RDS_To_S3_V01\"\n",
    "BQ_INPUT_DATASET_NAME = \"aqueduct30v01\"\n",
    "\n",
    "CARTO_INPUT_TABLE_NAME_LEFT = \"y2018m07d18_rh_upload_hydrobasin_carto_v01_v01\"\n",
    "\n",
    "YEAR_OF_INTEREST = 2014\n",
    "\n",
    "COLUMNS_OF_INTEREST = [\"pfafid_30spfaf06\",\n",
    "                       \"temporal_resolution\",\n",
    "                       \"year\",\n",
    "                       \"month\",\n",
    "                       \"waterstress_label_dimensionless_30spfaf06\",\n",
    "                       \"waterstress_category_dimensionless_30spfaf06\",\n",
    "                       \"waterstress_score_dimensionless_30spfaf06\",\n",
    "                       \"waterstress_raw_dimensionless_30spfaf06\",\n",
    "                       \"avg1y_ols_ols10_weighted_waterstress_dimensionless_30spfaf06\",\n",
    "                       \"avg1y_ols_ols10_waterstress_dimensionless_30spfaf06\",\n",
    "                       \"ols_ols10_waterstress_dimensionless_30spfaf06\",\n",
    "                       \"ols_ols10_ptotww_m_30spfaf06\"]\n",
    "\n",
    "# tooltips are not scrollable so pick a limited number of items to visualize.\n",
    "COLUMNS_TO_VISUALIZE = [\"pfafid_30spfaf06\",\n",
    "                        \"waterstress_score_dimensionless_30spfaf06\",\n",
    "                        \"avg1y_ols_ols10_weighted_waterstress_dimensionless_30spfaf06\",\n",
    "                        \"avg1y_ols_ols10_waterstress_dimensionless_30spfaf06\"]\n",
    "\n",
    "COLOR_COLUMN = \"waterstress_score_dimensionless_30spfaf06\"\n",
    "\n",
    "\n",
    "carto_output_table_name = \"{}_V{:02.0f}\".format(SCRIPT_NAME,OUTPUT_VERSION).lower()\n",
    "\n",
    "print(\"carto_output_table_name: \",carto_output_table_name)\n",
    "\n",
    "\n"
   ]
  },
  {
   "cell_type": "code",
   "execution_count": 2,
   "metadata": {},
   "outputs": [
    {
     "name": "stdout",
     "output_type": "stream",
     "text": [
      "Y2018M07D20 UTC 14:40\n"
     ]
    },
    {
     "data": {
      "text/plain": [
       "'3.5.4 |Anaconda, Inc.| (default, Nov 20 2017, 18:44:38) \\n[GCC 7.2.0]'"
      ]
     },
     "execution_count": 2,
     "metadata": {},
     "output_type": "execute_result"
    }
   ],
   "source": [
    "import time, datetime, sys\n",
    "dateString = time.strftime(\"Y%YM%mD%d\")\n",
    "timeString = time.strftime(\"UTC %H:%M\")\n",
    "start = datetime.datetime.now()\n",
    "print(dateString,timeString)\n",
    "sys.version"
   ]
  },
  {
   "cell_type": "code",
   "execution_count": 3,
   "metadata": {
    "collapsed": true
   },
   "outputs": [],
   "source": [
    "%matplotlib inline\n",
    "import os\n",
    "import json\n",
    "import mapboxgl\n",
    "import sqlalchemy\n",
    "import pandas as pd\n",
    "import geopandas as gpd\n",
    "\n",
    "import cartoframes\n",
    "from cartoframes.contrib import vector\n",
    "\n",
    "#from cartoframes import CartoContext, Credentials\n",
    "\n",
    "\n",
    "os.environ[\"GOOGLE_APPLICATION_CREDENTIALS\"] = \"/.google.json\""
   ]
  },
  {
   "cell_type": "code",
   "execution_count": 4,
   "metadata": {
    "collapsed": true
   },
   "outputs": [],
   "source": [
    "F = open(\"/.carto_builder\",\"r\")\n",
    "carto_api_key = F.read().splitlines()[0]\n",
    "F.close()"
   ]
  },
  {
   "cell_type": "code",
   "execution_count": 5,
   "metadata": {
    "collapsed": true
   },
   "outputs": [],
   "source": [
    "creds = cartoframes.Credentials(key=carto_api_key, \n",
    "                    username='wri-playground')\n",
    "cc = cartoframes.CartoContext(creds=creds)"
   ]
  },
  {
   "cell_type": "code",
   "execution_count": 6,
   "metadata": {
    "collapsed": true
   },
   "outputs": [],
   "source": [
    "# Query postGIS table from RDS (already on Carto)"
   ]
  },
  {
   "cell_type": "code",
   "execution_count": 7,
   "metadata": {
    "collapsed": true
   },
   "outputs": [],
   "source": [
    "F = open(\"/.password\",\"r\")\n",
    "password = F.read().splitlines()[0]\n",
    "F.close()\n",
    "\n",
    "engine = sqlalchemy.create_engine(\"postgresql://rutgerhofste:{}@{}:5432/{}\".format(password,RDS_DATABASE_ENDPOINT,RDS_DATABASE_NAME))"
   ]
  },
  {
   "cell_type": "code",
   "execution_count": 8,
   "metadata": {
    "collapsed": true
   },
   "outputs": [],
   "source": [
    "# Query result table from Bigquery"
   ]
  },
  {
   "cell_type": "code",
   "execution_count": 9,
   "metadata": {
    "collapsed": true
   },
   "outputs": [],
   "source": [
    "sql = \"SELECT\"\n",
    "for column_of_interest in COLUMNS_OF_INTEREST:\n",
    "    sql += \" {},\".format(column_of_interest)\n",
    "sql = sql[:-1]\n",
    "sql += \" FROM {}.{}\".format(BQ_INPUT_DATASET_NAME,BQ_INPUT_TABLE_NAME)\n",
    "sql += \" WHERE year = 2014\"\n",
    "# sql += \" AND month = {}\".format(MONTH_OF_INTEREST)\n",
    "# sql += \" AND temporal_resolution = '{}'\".format(TEMPORAL_RESOLUTION_OF_INTEREST)"
   ]
  },
  {
   "cell_type": "code",
   "execution_count": 10,
   "metadata": {},
   "outputs": [
    {
     "name": "stdout",
     "output_type": "stream",
     "text": [
      "SELECT pfafid_30spfaf06, temporal_resolution, year, month, waterstress_label_dimensionless_30spfaf06, waterstress_category_dimensionless_30spfaf06, waterstress_score_dimensionless_30spfaf06, waterstress_raw_dimensionless_30spfaf06, avg1y_ols_ols10_weighted_waterstress_dimensionless_30spfaf06, avg1y_ols_ols10_waterstress_dimensionless_30spfaf06, ols_ols10_waterstress_dimensionless_30spfaf06, ols_ols10_ptotww_m_30spfaf06 FROM aqueduct30v01.Y2018M07D17_RH_RDS_To_S3_V01 WHERE year = 2014\n"
     ]
    }
   ],
   "source": [
    "print(sql)"
   ]
  },
  {
   "cell_type": "code",
   "execution_count": 11,
   "metadata": {
    "collapsed": true
   },
   "outputs": [],
   "source": [
    "df = pd.read_gbq(query=sql,\n",
    "                 project_id=BQ_PROJECT_ID,\n",
    "                 dialect=\"standard\")"
   ]
  },
  {
   "cell_type": "code",
   "execution_count": 12,
   "metadata": {},
   "outputs": [
    {
     "data": {
      "text/plain": [
       "(213005, 12)"
      ]
     },
     "execution_count": 12,
     "metadata": {},
     "output_type": "execute_result"
    }
   ],
   "source": [
    "df.shape"
   ]
  },
  {
   "cell_type": "code",
   "execution_count": 13,
   "metadata": {},
   "outputs": [
    {
     "name": "stdout",
     "output_type": "stream",
     "text": [
      "Table successfully written to CARTO: https://wri-playground.carto.com/dataset/y2018m07d18_rh_qa_annual_weighted_unweighted_allbasins_v01_v01\n"
     ]
    }
   ],
   "source": [
    "# Upload result data to Carto\n",
    "cc.write(df=df,\n",
    "         table_name=carto_output_table_name,\n",
    "         overwrite=True,\n",
    "         privacy=\"link\")"
   ]
  },
  {
   "cell_type": "code",
   "execution_count": 14,
   "metadata": {
    "collapsed": true
   },
   "outputs": [],
   "source": [
    "# There are now two tables on carto. One with the geometries, one with the results from BigQuery. Combining both\n",
    "columns_to_keep_left = [\"pfaf_id\",\n",
    "                        \"the_geom\",\n",
    "                        \"the_geom_webmercator\", #This column is a reprojection of the 'the_geom' column.\n",
    "                        \"cartodb_id\"]\n",
    "\n",
    "columns_to_keep_right = COLUMNS_OF_INTEREST # Same as for BigQuery\n",
    "\n",
    "left_on = \"pfaf_id\"\n",
    "right_on = \"pfafid_30spfaf06\""
   ]
  },
  {
   "cell_type": "code",
   "execution_count": 15,
   "metadata": {
    "collapsed": true
   },
   "outputs": [],
   "source": [
    "def create_query(temporal_resolution,year,month):\n",
    "    sql= \"SELECT\" \n",
    "    for column_to_keep_left in columns_to_keep_left:\n",
    "        sql += \" l.{},\".format(column_to_keep_left)\n",
    "    for column_to_keep_right in columns_to_keep_right:\n",
    "        sql += \" r.{},\".format(column_to_keep_right)\n",
    "    sql = sql[:-1]    \n",
    "    sql+= \" FROM {} l, {} r\".format(CARTO_INPUT_TABLE_NAME_LEFT,carto_output_table_name)\n",
    "    sql+= \" WHERE l.{} = r.{}\".format(left_on,right_on)\n",
    "    sql+= \" AND r.year = {}\".format(year)\n",
    "    sql+= \" AND r.month ={}\".format(month)\n",
    "    sql+= \" AND r.temporal_resolution = '{}'\".format(temporal_resolution)\n",
    "    \n",
    "    return sql\n",
    "\n"
   ]
  },
  {
   "cell_type": "code",
   "execution_count": 16,
   "metadata": {
    "collapsed": true
   },
   "outputs": [],
   "source": [
    "temporal_resolutions = [\"year\",\"month\"]\n",
    "year = YEAR_OF_INTEREST"
   ]
  },
  {
   "cell_type": "code",
   "execution_count": 17,
   "metadata": {},
   "outputs": [
    {
     "name": "stdout",
     "output_type": "stream",
     "text": [
      "year 2014 12 temp_table_year_y2014m12\n",
      "Table successfully written to CARTO: https://wri-playground.carto.com/dataset/temp_table_year_y2014m12\n",
      "month 2014 1 temp_table_month_y2014m1\n",
      "Table successfully written to CARTO: https://wri-playground.carto.com/dataset/temp_table_month_y2014m1\n",
      "month 2014 2 temp_table_month_y2014m2\n",
      "Table successfully written to CARTO: https://wri-playground.carto.com/dataset/temp_table_month_y2014m2\n",
      "month 2014 3 temp_table_month_y2014m3\n",
      "Table successfully written to CARTO: https://wri-playground.carto.com/dataset/temp_table_month_y2014m3\n",
      "month 2014 4 temp_table_month_y2014m4\n",
      "Table successfully written to CARTO: https://wri-playground.carto.com/dataset/temp_table_month_y2014m4\n",
      "month 2014 5 temp_table_month_y2014m5\n",
      "Table successfully written to CARTO: https://wri-playground.carto.com/dataset/temp_table_month_y2014m5\n",
      "month 2014 6 temp_table_month_y2014m6\n",
      "Table successfully written to CARTO: https://wri-playground.carto.com/dataset/temp_table_month_y2014m6\n",
      "month 2014 7 temp_table_month_y2014m7\n",
      "Table successfully written to CARTO: https://wri-playground.carto.com/dataset/temp_table_month_y2014m7\n",
      "month 2014 8 temp_table_month_y2014m8\n"
     ]
    },
    {
     "ename": "CartoException",
     "evalue": "Over CARTO account storage limit for user `wri-playground`. Try subsetting your DataFrame or dropping columns to reduce the data size.",
     "output_type": "error",
     "traceback": [
      "\u001b[0;31m---------------------------------------------------------------------------\u001b[0m",
      "\u001b[0;31mCartoException\u001b[0m                            Traceback (most recent call last)",
      "\u001b[0;32m<ipython-input-17-085608a69bb0>\u001b[0m in \u001b[0;36m<module>\u001b[0;34m()\u001b[0m\n\u001b[1;32m     16\u001b[0m             \u001b[0mprint\u001b[0m\u001b[0;34m(\u001b[0m\u001b[0mtemporal_resolution\u001b[0m\u001b[0;34m,\u001b[0m\u001b[0myear\u001b[0m\u001b[0;34m,\u001b[0m\u001b[0mmonth\u001b[0m\u001b[0;34m,\u001b[0m\u001b[0mtable_name\u001b[0m\u001b[0;34m)\u001b[0m\u001b[0;34m\u001b[0m\u001b[0m\n\u001b[1;32m     17\u001b[0m             cc.query(query=sql,\n\u001b[0;32m---> 18\u001b[0;31m                      table_name=table_name)\n\u001b[0m\u001b[1;32m     19\u001b[0m \u001b[0;34m\u001b[0m\u001b[0m\n\u001b[1;32m     20\u001b[0m \u001b[0;34m\u001b[0m\u001b[0m\n",
      "\u001b[0;32m/opt/anaconda3/envs/python35/lib/python3.5/site-packages/cartoframes/context.py\u001b[0m in \u001b[0;36mquery\u001b[0;34m(self, query, table_name, decode_geom)\u001b[0m\n\u001b[1;32m    740\u001b[0m                 \u001b[0mimport_job\u001b[0m \u001b[0;34m=\u001b[0m \u001b[0mself\u001b[0m\u001b[0;34m.\u001b[0m\u001b[0m_check_import\u001b[0m\u001b[0;34m(\u001b[0m\u001b[0mresp\u001b[0m\u001b[0;34m[\u001b[0m\u001b[0;34m'item_queue_id'\u001b[0m\u001b[0;34m]\u001b[0m\u001b[0;34m)\u001b[0m\u001b[0;34m\u001b[0m\u001b[0m\n\u001b[1;32m    741\u001b[0m                 \u001b[0mself\u001b[0m\u001b[0;34m.\u001b[0m\u001b[0m_debug_print\u001b[0m\u001b[0;34m(\u001b[0m\u001b[0mimport_job\u001b[0m\u001b[0;34m=\u001b[0m\u001b[0mimport_job\u001b[0m\u001b[0;34m)\u001b[0m\u001b[0;34m\u001b[0m\u001b[0m\n\u001b[0;32m--> 742\u001b[0;31m                 \u001b[0mfinal_table_name\u001b[0m \u001b[0;34m=\u001b[0m \u001b[0mself\u001b[0m\u001b[0;34m.\u001b[0m\u001b[0m_handle_import\u001b[0m\u001b[0;34m(\u001b[0m\u001b[0mimport_job\u001b[0m\u001b[0;34m,\u001b[0m \u001b[0mtable_name\u001b[0m\u001b[0;34m)\u001b[0m\u001b[0;34m\u001b[0m\u001b[0m\n\u001b[0m\u001b[1;32m    743\u001b[0m                 \u001b[0;32mif\u001b[0m \u001b[0mimport_job\u001b[0m\u001b[0;34m[\u001b[0m\u001b[0;34m'state'\u001b[0m\u001b[0;34m]\u001b[0m \u001b[0;34m==\u001b[0m \u001b[0;34m'complete'\u001b[0m\u001b[0;34m:\u001b[0m\u001b[0;34m\u001b[0m\u001b[0m\n\u001b[1;32m    744\u001b[0m \u001b[0;34m\u001b[0m\u001b[0m\n",
      "\u001b[0;32m/opt/anaconda3/envs/python35/lib/python3.5/site-packages/cartoframes/context.py\u001b[0m in \u001b[0;36m_handle_import\u001b[0;34m(self, import_job, table_name)\u001b[0m\n\u001b[1;32m    644\u001b[0m                                      \u001b[0;34m'DataFrame or dropping columns to reduce '\u001b[0m\u001b[0;34m\u001b[0m\u001b[0m\n\u001b[1;32m    645\u001b[0m                                      'the data size.'.format(\n\u001b[0;32m--> 646\u001b[0;31m                                          self.creds.username()))\n\u001b[0m\u001b[1;32m    647\u001b[0m             \u001b[0;32melif\u001b[0m \u001b[0mimport_job\u001b[0m\u001b[0;34m[\u001b[0m\u001b[0;34m'error_code'\u001b[0m\u001b[0;34m]\u001b[0m \u001b[0;34m==\u001b[0m \u001b[0;36m6668\u001b[0m\u001b[0;34m:\u001b[0m\u001b[0;34m\u001b[0m\u001b[0m\n\u001b[1;32m    648\u001b[0m                 raise CartoException('Too many rows in DataFrame. Try '\n",
      "\u001b[0;31mCartoException\u001b[0m: Over CARTO account storage limit for user `wri-playground`. Try subsetting your DataFrame or dropping columns to reduce the data size."
     ]
    }
   ],
   "source": [
    "for temporal_resolution in temporal_resolutions:\n",
    "    if temporal_resolution == \"year\":\n",
    "        month = 12\n",
    "        \n",
    "        sql = create_query(temporal_resolution,year,month)     \n",
    "        table_name = \"temp_table_{}_y{}m{}\".format(temporal_resolution,year,month)\n",
    "        print(temporal_resolution,year,month,table_name)\n",
    "        cc.query(query=sql,\n",
    "                 table_name=table_name)\n",
    "        \n",
    "        \n",
    "    else:\n",
    "        for month in range(1,12+1):\n",
    "            sql = create_query(temporal_resolution,year,month)\n",
    "            table_name = \"temp_table_{}_y{}m{}\".format(temporal_resolution,year,month)\n",
    "            print(temporal_resolution,year,month,table_name)\n",
    "            cc.query(query=sql,\n",
    "                     table_name=table_name)\n",
    "            \n",
    "            "
   ]
  },
  {
   "cell_type": "code",
   "execution_count": null,
   "metadata": {
    "collapsed": true
   },
   "outputs": [],
   "source": [
    "end = datetime.datetime.now()\n",
    "elapsed = end - start\n",
    "print(elapsed)"
   ]
  },
  {
   "cell_type": "code",
   "execution_count": null,
   "metadata": {
    "collapsed": true
   },
   "outputs": [],
   "source": []
  }
 ],
 "metadata": {
  "kernelspec": {
   "display_name": "Python 35",
   "language": "python",
   "name": "python35"
  },
  "language_info": {
   "codemirror_mode": {
    "name": "ipython",
    "version": 3
   },
   "file_extension": ".py",
   "mimetype": "text/x-python",
   "name": "python",
   "nbconvert_exporter": "python",
   "pygments_lexer": "ipython3",
   "version": "3.5.4"
  }
 },
 "nbformat": 4,
 "nbformat_minor": 2
}
