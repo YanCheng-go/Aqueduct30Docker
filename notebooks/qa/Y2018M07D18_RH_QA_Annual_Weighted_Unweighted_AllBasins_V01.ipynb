{
 "cells": [
  {
   "cell_type": "code",
   "execution_count": 1,
   "metadata": {},
   "outputs": [
    {
     "name": "stdout",
     "output_type": "stream",
     "text": [
      "carto_output_table_name:  y2018m07d18_rh_qa_annual_weighted_unweighted_onebasin_v01_v01\n"
     ]
    }
   ],
   "source": [
    "\"\"\" Compare weighted and unweighted annual results for all basins.\n",
    "-------------------------------------------------------------------------------\n",
    "\n",
    "Issue: Mapbox GL does not (yet) support tooltips with multiple items when the \n",
    "data is joined locally thereby limiting performance for larger tables.\n",
    "This script will therefore use the cartoframes option. Note that this repo is \n",
    "in active developement so this code will likely break in the future.\n",
    "\n",
    "Steps:\n",
    "\n",
    "1. Query postGIS table from RDS\n",
    "1. Query result table from Bigquery\n",
    "1. Upload result data to Carto\n",
    "1. Join data in Carto\n",
    "1. Define tooltip\n",
    "1. Define plotting\n",
    "1. Plot. \n",
    "\n",
    "\n",
    "Author: Rutger Hofste\n",
    "Date: 20180718\n",
    "Kernel: python35\n",
    "Docker: rutgerhofste/gisdocker:ubuntu16.04\n",
    "\n",
    "\"\"\"\n",
    "\n",
    "TESTING = 1\n",
    "OVERWRITE_OUTPUT = 1\n",
    "SCRIPT_NAME = 'Y2018M07D18_RH_QA_Annual_Weighted_Unweighted_OneBasin_V01'\n",
    "OUTPUT_VERSION = 1\n",
    "\n",
    "RDS_DATABASE_ENDPOINT = \"aqueduct30v05.cgpnumwmfcqc.eu-central-1.rds.amazonaws.com\"\n",
    "RDS_DATABASE_NAME = \"database01\"\n",
    "\n",
    "BQ_PROJECT_ID = \"aqueduct30\"\n",
    "BQ_INPUT_TABLE_NAME = \"Y2018M07D17_RH_RDS_To_S3_V01\"\n",
    "BQ_INPUT_DATASET_NAME = \"aqueduct30v01\"\n",
    "\n",
    "CARTO_INPUT_TABLE_NAME_LEFT = \"y2018m07d18_rh_upload_hydrobasin_carto_v01_v01\"\n",
    "\n",
    "YEAR_OF_INTEREST = 2014\n",
    "MONTH_OF_INTEREST = 12\n",
    "TEMPORAL_RESOLUTION_OF_INTEREST = 'year' #If year, then use month 12\n",
    "\n",
    "COLUMNS_OF_INTEREST = [\"pfafid_30spfaf06\",\n",
    "                       \"temporal_resolution\",\n",
    "                       \"year\",\n",
    "                       \"month\",\n",
    "                       \"waterstress_label_dimensionless_30spfaf06\",\n",
    "                       \"waterstress_category_dimensionless_30spfaf06\",\n",
    "                       \"waterstress_score_dimensionless_30spfaf06\",\n",
    "                       \"waterstress_raw_dimensionless_30spfaf06\",\n",
    "                       \"avg1y_ols_ols10_weighted_waterstress_dimensionless_30spfaf06\",\n",
    "                       \"avg1y_ols_ols10_waterstress_dimensionless_30spfaf06\",\n",
    "                       \"ols_ols10_waterstress_dimensionless_30spfaf06\",\n",
    "                       \"ols_ols10_ptotww_m_30spfaf06\"]\n",
    "\n",
    "carto_output_table_name = \"{}_V{:02.0f}\".format(SCRIPT_NAME,OUTPUT_VERSION).lower()\n",
    "\n",
    "print(\"carto_output_table_name: \",carto_output_table_name)\n",
    "\n",
    "\n"
   ]
  },
  {
   "cell_type": "code",
   "execution_count": 2,
   "metadata": {},
   "outputs": [
    {
     "name": "stdout",
     "output_type": "stream",
     "text": [
      "Y2018M07D19 UTC 10:14\n"
     ]
    },
    {
     "data": {
      "text/plain": [
       "'3.5.4 |Anaconda, Inc.| (default, Nov 20 2017, 18:44:38) \\n[GCC 7.2.0]'"
      ]
     },
     "execution_count": 2,
     "metadata": {},
     "output_type": "execute_result"
    }
   ],
   "source": [
    "import time, datetime, sys\n",
    "dateString = time.strftime(\"Y%YM%mD%d\")\n",
    "timeString = time.strftime(\"UTC %H:%M\")\n",
    "start = datetime.datetime.now()\n",
    "print(dateString,timeString)\n",
    "sys.version"
   ]
  },
  {
   "cell_type": "code",
   "execution_count": 3,
   "metadata": {
    "collapsed": true
   },
   "outputs": [],
   "source": [
    "%matplotlib inline\n",
    "import os\n",
    "import json\n",
    "import mapboxgl\n",
    "import sqlalchemy\n",
    "import pandas as pd\n",
    "import geopandas as gpd\n",
    "\n",
    "import cartoframes\n",
    "from cartoframes.contrib import vector\n",
    "\n",
    "#from cartoframes import CartoContext, Credentials\n",
    "\n",
    "\n",
    "os.environ[\"GOOGLE_APPLICATION_CREDENTIALS\"] = \"/.google.json\""
   ]
  },
  {
   "cell_type": "code",
   "execution_count": 4,
   "metadata": {
    "collapsed": true
   },
   "outputs": [],
   "source": [
    "F = open(\"/.carto\",\"r\")\n",
    "carto_api_key = F.read().splitlines()[0]\n",
    "F.close()"
   ]
  },
  {
   "cell_type": "code",
   "execution_count": 5,
   "metadata": {},
   "outputs": [],
   "source": [
    "creds = cartoframes.Credentials(key=carto_api_key, \n",
    "                    username='wri-01')\n",
    "cc = cartoframes.CartoContext(creds=creds)"
   ]
  },
  {
   "cell_type": "code",
   "execution_count": 6,
   "metadata": {
    "collapsed": true
   },
   "outputs": [],
   "source": [
    "# Query postGIS table from RDS (already on Carto)"
   ]
  },
  {
   "cell_type": "code",
   "execution_count": 7,
   "metadata": {
    "collapsed": true
   },
   "outputs": [],
   "source": [
    "F = open(\"/.password\",\"r\")\n",
    "password = F.read().splitlines()[0]\n",
    "F.close()\n",
    "\n",
    "engine = sqlalchemy.create_engine(\"postgresql://rutgerhofste:{}@{}:5432/{}\".format(password,RDS_DATABASE_ENDPOINT,RDS_DATABASE_NAME))"
   ]
  },
  {
   "cell_type": "code",
   "execution_count": 8,
   "metadata": {
    "collapsed": true
   },
   "outputs": [],
   "source": [
    "# Query result table from Bigquery"
   ]
  },
  {
   "cell_type": "code",
   "execution_count": 9,
   "metadata": {
    "collapsed": true
   },
   "outputs": [],
   "source": [
    "sql = \"SELECT\"\n",
    "for column_of_interest in COLUMNS_OF_INTEREST:\n",
    "    sql += \" {},\".format(column_of_interest)\n",
    "sql = sql[:-1]\n",
    "sql += \" FROM {}.{}\".format(BQ_INPUT_DATASET_NAME,BQ_INPUT_TABLE_NAME)\n",
    "sql += \" WHERE year = 2014\"\n",
    "sql += \" AND month = {}\".format(MONTH_OF_INTEREST)\n",
    "sql += \" AND temporal_resolution = '{}'\".format(TEMPORAL_RESOLUTION_OF_INTEREST)"
   ]
  },
  {
   "cell_type": "code",
   "execution_count": 10,
   "metadata": {},
   "outputs": [
    {
     "name": "stdout",
     "output_type": "stream",
     "text": [
      "SELECT pfafid_30spfaf06, temporal_resolution, year, month, waterstress_label_dimensionless_30spfaf06, waterstress_category_dimensionless_30spfaf06, waterstress_score_dimensionless_30spfaf06, waterstress_raw_dimensionless_30spfaf06, avg1y_ols_ols10_weighted_waterstress_dimensionless_30spfaf06, avg1y_ols_ols10_waterstress_dimensionless_30spfaf06, ols_ols10_waterstress_dimensionless_30spfaf06, ols_ols10_ptotww_m_30spfaf06 FROM aqueduct30v01.Y2018M07D17_RH_RDS_To_S3_V01 WHERE year = 2014 AND month = 12 AND temporal_resolution = 'year'\n"
     ]
    }
   ],
   "source": [
    "print(sql)"
   ]
  },
  {
   "cell_type": "code",
   "execution_count": 12,
   "metadata": {},
   "outputs": [],
   "source": [
    "df = pd.read_gbq(query=sql,\n",
    "                 project_id=BQ_PROJECT_ID,\n",
    "                 dialect=\"standard\")"
   ]
  },
  {
   "cell_type": "code",
   "execution_count": 14,
   "metadata": {},
   "outputs": [
    {
     "name": "stdout",
     "output_type": "stream",
     "text": [
      "Table successfully written to CARTO: https://wri-01.carto.com/dataset/y2018m07d18_rh_qa_annual_weighted_unweighted_onebasin_v01_v01\n"
     ]
    }
   ],
   "source": [
    "# Upload result data to Carto\n",
    "cc.write(df=df,\n",
    "         table_name=carto_output_table_name,\n",
    "         overwrite=True,\n",
    "         privacy=\"link\")"
   ]
  },
  {
   "cell_type": "code",
   "execution_count": 15,
   "metadata": {
    "collapsed": true
   },
   "outputs": [],
   "source": [
    "# There are now two tables on carto. One with the geometries, one with the results from BigQuery. Combining both\n",
    "columns_to_keep_left = [\"pfaf_id\",\n",
    "                        \"the_geom\",\n",
    "                        \"the_geom_webmercator\", #This column is a reprojection of the 'the_geom' column.\n",
    "                        \"cartodb_id\"]\n",
    "\n",
    "columns_to_keep_right = COLUMNS_OF_INTEREST # Same as for BigQuery\n",
    "\n",
    "left_on = \"pfaf_id\"\n",
    "right_on = \"pfafid_30spfaf06\""
   ]
  },
  {
   "cell_type": "code",
   "execution_count": 18,
   "metadata": {},
   "outputs": [],
   "source": [
    "sql= \"SELECT\" \n",
    "for column_to_keep_left in columns_to_keep_left:\n",
    "    sql += \" l.{},\".format(column_to_keep_left)\n",
    "for column_to_keep_right in columns_to_keep_right:\n",
    "    sql += \" r.{},\".format(column_to_keep_right)\n",
    "sql = sql[:-1]    \n",
    "sql+= \" FROM {} l, {} r\".format(CARTO_INPUT_TABLE_NAME_LEFT,carto_output_table_name)\n",
    "sql+= \" WHERE l.{} = r.{}\".format(left_on,right_on)\n",
    "\n",
    "\n"
   ]
  },
  {
   "cell_type": "code",
   "execution_count": 19,
   "metadata": {
    "scrolled": true
   },
   "outputs": [
    {
     "name": "stdout",
     "output_type": "stream",
     "text": [
      "SELECT l.pfaf_id, l.the_geom, l.the_geom_webmercator, l.cartodb_id, r.pfafid_30spfaf06, r.temporal_resolution, r.year, r.month, r.waterstress_label_dimensionless_30spfaf06, r.waterstress_category_dimensionless_30spfaf06, r.waterstress_score_dimensionless_30spfaf06, r.waterstress_raw_dimensionless_30spfaf06, r.avg1y_ols_ols10_weighted_waterstress_dimensionless_30spfaf06, r.avg1y_ols_ols10_waterstress_dimensionless_30spfaf06, r.ols_ols10_waterstress_dimensionless_30spfaf06, r.ols_ols10_ptotww_m_30spfaf06 FROM y2018m07d18_rh_upload_hydrobasin_carto_v01_v01 l, y2018m07d18_rh_qa_annual_weighted_unweighted_onebasin_v01_v01 r WHERE l.pfaf_id = r.pfafid_30spfaf06\n"
     ]
    }
   ],
   "source": [
    "print(sql)"
   ]
  },
  {
   "cell_type": "code",
   "execution_count": 31,
   "metadata": {},
   "outputs": [],
   "source": [
    "int_dict = {\"event\":'click',\n",
    "            \"cols\":['pfaf_id'] +\n",
    "                    COLUMNS_OF_INTEREST}"
   ]
  },
  {
   "cell_type": "code",
   "execution_count": 32,
   "metadata": {},
   "outputs": [
    {
     "data": {
      "text/plain": [
       "{'cols': ['pfaf_id',\n",
       "  'pfafid_30spfaf06',\n",
       "  'temporal_resolution',\n",
       "  'year',\n",
       "  'month',\n",
       "  'waterstress_label_dimensionless_30spfaf06',\n",
       "  'waterstress_category_dimensionless_30spfaf06',\n",
       "  'waterstress_score_dimensionless_30spfaf06',\n",
       "  'waterstress_raw_dimensionless_30spfaf06',\n",
       "  'avg1y_ols_ols10_weighted_waterstress_dimensionless_30spfaf06',\n",
       "  'avg1y_ols_ols10_waterstress_dimensionless_30spfaf06',\n",
       "  'ols_ols10_waterstress_dimensionless_30spfaf06',\n",
       "  'ols_ols10_ptotww_m_30spfaf06'],\n",
       " 'event': 'click'}"
      ]
     },
     "execution_count": 32,
     "metadata": {},
     "output_type": "execute_result"
    }
   ],
   "source": [
    "int_dict"
   ]
  },
  {
   "cell_type": "code",
   "execution_count": 33,
   "metadata": {
    "collapsed": true
   },
   "outputs": [],
   "source": [
    "vl_01 = vector.QueryLayer(query=sql,\n",
    "                          color=\"#9e9e9e\",\n",
    "                          size=None,\n",
    "                          time=None,\n",
    "                          strokeColor=\"#000000\",\n",
    "                          strokeWidth=None,\n",
    "                          interactivity=int_dict)"
   ]
  },
  {
   "cell_type": "code",
   "execution_count": 34,
   "metadata": {},
   "outputs": [
    {
     "data": {
      "text/html": [
       "<iframe srcdoc=\"<!DOCTYPE html>\n",
       "<html>\n",
       "<head>\n",
       "  <title>CARTO VL + CARTOframes</title>\n",
       "  <meta name=&quot;viewport&quot; content=&quot;width=device-width, initial-scale=1.0&quot;>\n",
       "  <meta charset=&quot;UTF-8&quot;>\n",
       "  <!-- Include CARTO VL JS -->\n",
       "  <script src=&quot;https://cartodb.github.io/carto-vl/dist/carto-vl.js&quot;></script>\n",
       "  <!-- Include Mapbox GL JS -->\n",
       "  <script src=&quot;https://cartodb-libs.global.ssl.fastly.net/mapbox-gl/v0.45.0-carto1/mapbox-gl.js&quot;></script>\n",
       "  <!-- Include Mapbox GL CSS -->\n",
       "  <link href=&quot;https://cartodb-libs.global.ssl.fastly.net/mapbox-gl/v0.45.0-carto1/mapbox-gl.css&quot; rel=&quot;stylesheet&quot; />\n",
       "  <link rel=&quot;stylesheet&quot; type=&quot;text/css&quot; href=&quot;https://cartodb.github.io/carto-vl/examples/style.css&quot;>\n",
       "  <style>\n",
       "    body {\n",
       "      margin: 0;\n",
       "      padding: 0;\n",
       "    }\n",
       "    #map {\n",
       "      position: absolute;\n",
       "      height: 100%;\n",
       "      width: 100%;\n",
       "    }\n",
       "  </style>\n",
       "</head>\n",
       "<body>\n",
       "  <div id=&quot;map&quot;></div>\n",
       "  <script>\n",
       "    const BASEMAPS = {\n",
       "        DarkMatter: 'https://basemaps.cartocdn.com/gl/dark-matter-gl-style/style.json',\n",
       "        Voyager: 'https://basemaps.cartocdn.com/gl/voyager-gl-style/style.json',\n",
       "        Positron: 'https://basemaps.cartocdn.com/gl/positron-gl-style/style.json',\n",
       "    };\n",
       "    const map = new mapboxgl.Map({\n",
       "      container: 'map',\n",
       "      style: BASEMAPS['DarkMatter'] || BASEMAPS['Voyager'],\n",
       "      zoom: 9,\n",
       "      dragRotate: false\n",
       "      });\n",
       "\n",
       "    let credentials = {&quot;api_key&quot;: &quot;0e5365cb1a299778e9df9c7bf6db489af8aa08e1&quot;, &quot;user&quot;: &quot;wri-01&quot;};\n",
       "    carto.setDefaultAuth({\n",
       "      user: credentials['user'],\n",
       "      apiKey: credentials['api_key'] || 'default_public'\n",
       "    });\n",
       "    var sources = [{&quot;source&quot;: &quot;SELECT l.pfaf_id, l.the_geom, l.the_geom_webmercator, l.cartodb_id, r.pfafid_30spfaf06, r.temporal_resolution, r.year, r.month, r.waterstress_label_dimensionless_30spfaf06, r.waterstress_category_dimensionless_30spfaf06, r.waterstress_score_dimensionless_30spfaf06, r.waterstress_raw_dimensionless_30spfaf06, r.avg1y_ols_ols10_weighted_waterstress_dimensionless_30spfaf06, r.avg1y_ols_ols10_waterstress_dimensionless_30spfaf06, r.ols_ols10_waterstress_dimensionless_30spfaf06, r.ols_ols10_ptotww_m_30spfaf06 FROM y2018m07d18_rh_upload_hydrobasin_carto_v01_v01 l, y2018m07d18_rh_qa_annual_weighted_unweighted_onebasin_v01_v01 r WHERE l.pfaf_id = r.pfafid_30spfaf06&quot;, &quot;interactivity&quot;: {&quot;header&quot;: null, &quot;event&quot;: &quot;click&quot;}, &quot;is_local&quot;: false, &quot;styling&quot;: &quot;@pfaf_id: $pfaf_id\\n@pfafid_30spfaf06: $pfafid_30spfaf06\\n@temporal_resolution: $temporal_resolution\\n@year: $year\\n@month: $month\\n@waterstress_label_dimensionless_30spfaf06: $waterstress_label_dimensionless_30spfaf06\\n@waterstress_category_dimensionless_30spfaf06: $waterstress_category_dimensionless_30spfaf06\\n@waterstress_score_dimensionless_30spfaf06: $waterstress_score_dimensionless_30spfaf06\\n@waterstress_raw_dimensionless_30spfaf06: $waterstress_raw_dimensionless_30spfaf06\\n@avg1y_ols_ols10_weighted_waterstress_dimensionless_30spfaf06: $avg1y_ols_ols10_weighted_waterstress_dimensionless_30spfaf06\\n@avg1y_ols_ols10_waterstress_dimensionless_30spfaf06: $avg1y_ols_ols10_waterstress_dimensionless_30spfaf06\\n@ols_ols10_waterstress_dimensionless_30spfaf06: $ols_ols10_waterstress_dimensionless_30spfaf06\\n@ols_ols10_ptotww_m_30spfaf06: $ols_ols10_ptotww_m_30spfaf06\\ncolor: #9e9e9e\\nstrokeColor: #000000&quot;}];\n",
       "\n",
       "    map.fitBounds([[-180, -55.9875], [180.000642903646, 83.6256427764894]], {animate: false});\n",
       "\n",
       "    sources.forEach((elem, idx) => {\n",
       "      let temp_source = null;\n",
       "      if (elem.is_local) {\n",
       "        let local_json = JSON.parse(elem.source);\n",
       "        temp_source = new carto.source.GeoJSON(local_json);\n",
       "      } else {\n",
       "        temp_source = new carto.source.SQL(elem.source);\n",
       "      }\n",
       "      let temp = new carto.Layer(\n",
       "          'layer' + idx,\n",
       "          temp_source,\n",
       "          new carto.Viz(elem['styling'])\n",
       "      );\n",
       "      var last_source = idx === 0 ? 'watername_ocean' : 'layer' + (idx - 1);\n",
       "      temp.addTo(map, last_source);\n",
       "      if (elem.interactivity) {\n",
       "        let interactivity = new carto.Interactivity(temp);\n",
       "        let tempPopup = new mapboxgl.Popup({\n",
       "                  closeButton: false,\n",
       "                  closeOnClick: false\n",
       "                });\n",
       "        if (elem.interactivity.event == 'click') {\n",
       "          setPopupsClick(tempPopup, interactivity, elem.interactivity.header);\n",
       "        } else if (elem.interactivity.event == 'hover') {\n",
       "          setPopupsHover(tempPopup, interactivity, elem.interactivity.header);\n",
       "        }\n",
       "      }\n",
       "    });\n",
       "    function setPopupsClick(tempPopup, intera, popupHeader) {\n",
       "      intera.off('featureHover', (event) => {\n",
       "          updatePopup(tempPopup, event, popupHeader)\n",
       "      });\n",
       "      intera.on('featureClick', (event) => {\n",
       "          updatePopup(tempPopup, event, popupHeader, popupHeader)\n",
       "      });\n",
       "    }\n",
       "    function setPopupsHover(tempPopup, intera, popupHeader) {\n",
       "      intera.off('featureClick', (event) => {\n",
       "          updatePopup(tempPopup, event, popupHeader)\n",
       "      });\n",
       "      intera.on('featureHover', (event) => {\n",
       "          updatePopup(tempPopup, event, popupHeader)\n",
       "      });\n",
       "    }\n",
       "    function updatePopup(layer_popup, event, popupHeader) {\n",
       "      if (event.features.length > 0) {\n",
       "        const vars = event.features[0].variables;\n",
       "        let popupHTML = popupHeader ? `<h1>${popupHeader}</h1>` : ``;\n",
       "        Object.keys(vars).forEach((varName) => {\n",
       "            popupHTML += `\n",
       "                <h3 class=&quot;h3&quot;>${varName}</h3>\n",
       "                <p class=&quot;description open-sans&quot;>${vars[varName].value}</p>\n",
       "            `;\n",
       "        });\n",
       "        layer_popup.setLngLat([event.coordinates.lng, event.coordinates.lat])\n",
       "             .setHTML(`<div>${popupHTML}</div>`);\n",
       "        if (!layer_popup.isOpen()) {\n",
       "          layer_popup.addTo(map);\n",
       "        }\n",
       "      } else {\n",
       "        layer_popup.remove();\n",
       "      }\n",
       "    }\n",
       "  </script>\n",
       "</body>\n",
       "</html>\n",
       "\" width=800 height=400></iframe>"
      ],
      "text/plain": [
       "<IPython.core.display.HTML object>"
      ]
     },
     "execution_count": 34,
     "metadata": {},
     "output_type": "execute_result"
    }
   ],
   "source": [
    "vector.vmap([vl_01],context=cc)"
   ]
  },
  {
   "cell_type": "code",
   "execution_count": null,
   "metadata": {
    "collapsed": true
   },
   "outputs": [],
   "source": []
  },
  {
   "cell_type": "code",
   "execution_count": null,
   "metadata": {
    "collapsed": true
   },
   "outputs": [],
   "source": []
  },
  {
   "cell_type": "code",
   "execution_count": null,
   "metadata": {
    "collapsed": true
   },
   "outputs": [],
   "source": []
  },
  {
   "cell_type": "code",
   "execution_count": null,
   "metadata": {
    "collapsed": true
   },
   "outputs": [],
   "source": []
  },
  {
   "cell_type": "code",
   "execution_count": null,
   "metadata": {
    "collapsed": true
   },
   "outputs": [],
   "source": [
    "carto_sql = \"SELECT * FROM y2018m07d18_rh_upload_hydrobasin_carto_v01_v01\""
   ]
  },
  {
   "cell_type": "code",
   "execution_count": null,
   "metadata": {
    "collapsed": true
   },
   "outputs": [],
   "source": [
    "v0 = vector.QueryLayer(query=carto_sql)"
   ]
  },
  {
   "cell_type": "code",
   "execution_count": null,
   "metadata": {},
   "outputs": [],
   "source": [
    "vector.vmap([v0 ], context=cc)"
   ]
  },
  {
   "cell_type": "code",
   "execution_count": null,
   "metadata": {},
   "outputs": [],
   "source": [
    "cc.map()"
   ]
  },
  {
   "cell_type": "code",
   "execution_count": null,
   "metadata": {
    "collapsed": true
   },
   "outputs": [],
   "source": [
    "from cartoframes.examples import read_taxi"
   ]
  },
  {
   "cell_type": "code",
   "execution_count": null,
   "metadata": {},
   "outputs": [],
   "source": [
    "cc.write(\n",
    "    read_taxi(),\n",
    "    'taxi_50k',\n",
    "    lnglat=('pickup_longitude', 'pickup_latitude')\n",
    ")"
   ]
  },
  {
   "cell_type": "code",
   "execution_count": null,
   "metadata": {},
   "outputs": [],
   "source": [
    "cc.map(\n",
    "    QueryLayer('''\n",
    "        SELECT\n",
    "            ST_Transform(the_geom, 3857) AS the_geom_webmercator,\n",
    "            the_geom,\n",
    "            cartodb_id,\n",
    "            ST_Length(the_geom::geography) AS distance\n",
    "        FROM (\n",
    "            SELECT\n",
    "                ST_MakeLine(\n",
    "                    CDB_LatLng(pickup_latitude, pickup_longitude),\n",
    "                    CDB_LatLng(dropoff_latitude, dropoff_longitude)\n",
    "                ) AS the_geom,\n",
    "                cartodb_id\n",
    "            FROM taxi_50k\n",
    "            WHERE pickup_latitude <> 0 AND dropoff_latitude <> 0\n",
    "        ) AS _w\n",
    "        ORDER BY 4 DESC''',\n",
    "        color='distance'),\n",
    "    zoom=11, lng=-73.9442, lat=40.7473,\n",
    "    interactive=False)"
   ]
  },
  {
   "cell_type": "code",
   "execution_count": null,
   "metadata": {
    "collapsed": true
   },
   "outputs": [],
   "source": []
  },
  {
   "cell_type": "code",
   "execution_count": null,
   "metadata": {
    "collapsed": true
   },
   "outputs": [],
   "source": [
    "gdf.shape[0]-df.shape[0]"
   ]
  },
  {
   "cell_type": "code",
   "execution_count": null,
   "metadata": {
    "collapsed": true
   },
   "outputs": [],
   "source": [
    "gdf2 = gdf.merge(df,\n",
    "                 how= \"left\",\n",
    "                 left_on=\"pfaf_id\",\n",
    "                 right_on=\"pfafid_30spfaf06\")"
   ]
  },
  {
   "cell_type": "code",
   "execution_count": null,
   "metadata": {
    "collapsed": true
   },
   "outputs": [],
   "source": [
    "test = gdf2.loc[pd.isna(gdf2[\"pfafid_30spfaf06\"])]"
   ]
  },
  {
   "cell_type": "code",
   "execution_count": null,
   "metadata": {
    "collapsed": true
   },
   "outputs": [],
   "source": [
    "test"
   ]
  },
  {
   "cell_type": "code",
   "execution_count": null,
   "metadata": {
    "collapsed": true
   },
   "outputs": [],
   "source": [
    "# 1. Upload to Carto"
   ]
  },
  {
   "cell_type": "code",
   "execution_count": null,
   "metadata": {
    "collapsed": true
   },
   "outputs": [],
   "source": [
    "gdf2_small = gdf2[0:1000]"
   ]
  },
  {
   "cell_type": "code",
   "execution_count": null,
   "metadata": {
    "collapsed": true
   },
   "outputs": [],
   "source": [
    "cc.write(gdf2,\n",
    "         encode_geom=True,\n",
    "         table_name='cartoframes_geopandas',\n",
    "         overwrite=True)"
   ]
  },
  {
   "cell_type": "code",
   "execution_count": null,
   "metadata": {
    "collapsed": true
   },
   "outputs": [],
   "source": []
  },
  {
   "cell_type": "code",
   "execution_count": null,
   "metadata": {
    "collapsed": true
   },
   "outputs": [],
   "source": []
  },
  {
   "cell_type": "code",
   "execution_count": null,
   "metadata": {
    "collapsed": true
   },
   "outputs": [],
   "source": []
  },
  {
   "cell_type": "code",
   "execution_count": null,
   "metadata": {
    "collapsed": true
   },
   "outputs": [],
   "source": []
  },
  {
   "cell_type": "code",
   "execution_count": null,
   "metadata": {
    "collapsed": true
   },
   "outputs": [],
   "source": [
    "F = open(\"/.mapbox_public\",\"r\")\n",
    "token = F.read().splitlines()[0]\n",
    "F.close()\n",
    "os.environ[\"MAPBOX_ACCESS_TOKEN\"] = token"
   ]
  },
  {
   "cell_type": "code",
   "execution_count": null,
   "metadata": {
    "collapsed": true
   },
   "outputs": [],
   "source": [
    "df.head()"
   ]
  },
  {
   "cell_type": "code",
   "execution_count": null,
   "metadata": {
    "collapsed": true
   },
   "outputs": [],
   "source": [
    "df[\"diff_weighted_nonweighted\"] = df[\"avg1y_ols_ols10_weighted_waterstress_dimensionless_30spfaf06\"] - df[\"avg1y_ols_ols10_waterstress_dimensionless_30spfaf06\"]"
   ]
  },
  {
   "cell_type": "code",
   "execution_count": null,
   "metadata": {
    "collapsed": true
   },
   "outputs": [],
   "source": [
    "data = json.loads(df.to_json(orient='records'))"
   ]
  },
  {
   "cell_type": "code",
   "execution_count": null,
   "metadata": {
    "collapsed": true
   },
   "outputs": [],
   "source": [
    "color_stops_raw = [[-0.0001,'rgb(241,12,249)'],\n",
    "                  #[-0.001,'rgb(255,0,84)'], \n",
    "                   [0,'rgb(255,255,153)'], # low\n",
    "                   [0.1,'rgb(255,230,0)'], # low to medium\n",
    "                   [0.2,'rgb(255,153,0)'], # Medium to High\n",
    "                   [0.4,'rgb(255,25,0)'], # High\n",
    "                   [0.8,'rgb(153,0,0)']]  # Extremely High"
   ]
  },
  {
   "cell_type": "code",
   "execution_count": null,
   "metadata": {
    "collapsed": true
   },
   "outputs": [],
   "source": [
    "viz = mapboxgl.viz.ChoroplethViz(data = data, \n",
    "                                 vector_url='mapbox://rutgerhofste.hybas06_v04_V04',\n",
    "                                 vector_layer_name='hybas06_v04', # Warning should match name on mapbox.\n",
    "                                 vector_join_property='pfaf_id',\n",
    "                                 data_join_property= \"pfafid_30spfaf06\",\n",
    "                                 color_property= \"avg1y_ols_ols10_waterstress_dimensionless_30spfaf06\",\n",
    "                                 color_stops= color_stops_raw,\n",
    "                                 line_color = 'rgba(0,0,0,0.05)',\n",
    "                                 line_width = 0.5,\n",
    "                                 opacity=0.7,\n",
    "                                 center=(5, 52),\n",
    "                                 zoom=4,\n",
    "                                 below_layer='waterway-label'\n",
    "                                 )"
   ]
  },
  {
   "cell_type": "code",
   "execution_count": null,
   "metadata": {
    "collapsed": true
   },
   "outputs": [],
   "source": [
    "viz.show()"
   ]
  },
  {
   "cell_type": "code",
   "execution_count": null,
   "metadata": {
    "collapsed": true
   },
   "outputs": [],
   "source": [
    "viz2 = mapboxgl.viz.ChoroplethViz(data = data, \n",
    "                                 vector_url='mapbox://rutgerhofste.hybas06_v04_V04',\n",
    "                                 vector_layer_name='hybas06_v04', # Warning should match name on mapbox.\n",
    "                                 vector_join_property='pfaf_id',\n",
    "                                 data_join_property= \"pfafid_30spfaf06\",\n",
    "                                 color_property= \"avg1y_ols_ols10_weighted_waterstress_dimensionless_30spfaf06\",\n",
    "                                 color_stops= color_stops_raw,\n",
    "                                 line_color = 'rgba(0,0,0,0.05)',\n",
    "                                 line_width = 0.5,\n",
    "                                 opacity=0.7,\n",
    "                                 center=(5, 52),\n",
    "                                 zoom=4,\n",
    "                                 below_layer='waterway-label'\n",
    "                                 )"
   ]
  },
  {
   "cell_type": "code",
   "execution_count": null,
   "metadata": {
    "collapsed": true
   },
   "outputs": [],
   "source": [
    "viz2.show()"
   ]
  },
  {
   "cell_type": "code",
   "execution_count": null,
   "metadata": {
    "collapsed": true
   },
   "outputs": [],
   "source": [
    "color_stops_dif = [[-1,'rgb(255,0,0)'],\n",
    "                   [0,'rgb(255,255,255)'], \n",
    "                   [1,'rgb(0,255,0)']]"
   ]
  },
  {
   "cell_type": "code",
   "execution_count": null,
   "metadata": {
    "collapsed": true
   },
   "outputs": [],
   "source": [
    "viz3 = mapboxgl.viz.ChoroplethViz(data = data, \n",
    "                                 vector_url='mapbox://rutgerhofste.hybas06_v04_V04',\n",
    "                                 vector_layer_name='hybas06_v04', # Warning should match name on mapbox.\n",
    "                                 vector_join_property='pfaf_id',\n",
    "                                 data_join_property= \"pfafid_30spfaf06\",\n",
    "                                 color_property= \"diff_weighted_nonweighted\",\n",
    "                                 color_stops= color_stops_dif,\n",
    "                                 line_color = 'rgba(0,0,0,0.05)',\n",
    "                                 line_width = 0.5,\n",
    "                                 opacity=0.7,\n",
    "                                 center=(5, 52),\n",
    "                                 zoom=4,\n",
    "                                 below_layer='waterway-label'\n",
    "                                 )"
   ]
  },
  {
   "cell_type": "code",
   "execution_count": null,
   "metadata": {
    "collapsed": true
   },
   "outputs": [],
   "source": [
    "viz3.show()"
   ]
  },
  {
   "cell_type": "code",
   "execution_count": null,
   "metadata": {
    "collapsed": true
   },
   "outputs": [],
   "source": []
  }
 ],
 "metadata": {
  "kernelspec": {
   "display_name": "Python 35",
   "language": "python",
   "name": "python35"
  },
  "language_info": {
   "codemirror_mode": {
    "name": "ipython",
    "version": 3
   },
   "file_extension": ".py",
   "mimetype": "text/x-python",
   "name": "python",
   "nbconvert_exporter": "python",
   "pygments_lexer": "ipython3",
   "version": "3.5.4"
  }
 },
 "nbformat": 4,
 "nbformat_minor": 2
}
