{
 "cells": [
  {
   "cell_type": "code",
   "execution_count": null,
   "metadata": {
    "collapsed": true
   },
   "outputs": [],
   "source": [
    "\"\"\" Compare weighted and unweighted annual results for all basins.\n",
    "-------------------------------------------------------------------------------\n",
    "\n",
    "Issue: Mapbox GL does not support tooltips with multiple items when the data \n",
    "is joined locally yet. Exploring the cartoframes option. For cartoframes \n",
    "I need to send the data to carto before visualizing. \n",
    "\n",
    "Steps:\n",
    "\n",
    "1. Query postGIS table from RDS\n",
    "1. Query result table from Bigquery\n",
    "1. Join results\n",
    "1. Upload to Carto\n",
    "1. Define tooltip\n",
    "1. Define plotting\n",
    "1. Plot. \n",
    "\n",
    "\n",
    "Author: Rutger Hofste\n",
    "Date: 20180718\n",
    "Kernel: python35\n",
    "Docker: rutgerhofste/gisdocker:ubuntu16.04\n",
    "\n",
    "\"\"\"\n",
    "\n",
    "TESTING = 1\n",
    "OVERWRITE_OUTPUT = 1\n",
    "SCRIPT_NAME = 'Y2018M07D18_RH_QA_Annual_Weighted_Unweighted_OneBasin_V01'\n",
    "OUTPUT_VERSION = 1\n",
    "\n",
    "DATABASE_ENDPOINT = \"aqueduct30v05.cgpnumwmfcqc.eu-central-1.rds.amazonaws.com\"\n",
    "DATABASE_NAME = \"database01\"\n",
    "\n",
    "PROJECT_ID = \"aqueduct30\"\n",
    "INPUT_TABLE_NAME = \"Y2018M07D17_RH_RDS_To_S3_V01\"\n",
    "INPUT_DATASET_NAME = \"aqueduct30v01\"\n",
    "\n",
    "POSTGIS_INPUT_TABLE_NAME = \"hybas06_v04\"\n",
    "\n",
    "YEAR_OF_INTEREST = 2014\n",
    "MONTH_OF_INTEREST = 12\n",
    "TEMPORAL_RESOLUTION_OF_INTEREST = 'year' #If year, then use month 12\n",
    "\n",
    "COLUMNS_OF_INTEREST = [\"pfafid_30spfaf06\",\n",
    "                       \"temporal_resolution\",\n",
    "                       \"year\",\n",
    "                       \"month\",\n",
    "                       \"waterstress_label_dimensionless_30spfaf06\",\n",
    "                       \"waterstress_category_dimensionless_30spfaf06\",\n",
    "                       \"waterstress_score_dimensionless_30spfaf06\",\n",
    "                       \"waterstress_raw_dimensionless_30spfaf06\",\n",
    "                       \"avg1y_ols_ols10_weighted_waterstress_dimensionless_30spfaf06\",\n",
    "                       \"avg1y_ols_ols10_waterstress_dimensionless_30spfaf06\",\n",
    "                       \"ols_ols10_waterstress_dimensionless_30spfaf06\",\n",
    "                       \"ols_ols10_ptotww_m_30spfaf06\"]"
   ]
  },
  {
   "cell_type": "code",
   "execution_count": null,
   "metadata": {},
   "outputs": [],
   "source": [
    "import time, datetime, sys\n",
    "dateString = time.strftime(\"Y%YM%mD%d\")\n",
    "timeString = time.strftime(\"UTC %H:%M\")\n",
    "start = datetime.datetime.now()\n",
    "print(dateString,timeString)\n",
    "sys.version"
   ]
  },
  {
   "cell_type": "code",
   "execution_count": null,
   "metadata": {
    "collapsed": true
   },
   "outputs": [],
   "source": [
    "%matplotlib inline\n",
    "import os\n",
    "import json\n",
    "import mapboxgl\n",
    "import sqlalchemy\n",
    "import pandas as pd\n",
    "import geopandas as gpd\n",
    "from cartoframes import CartoContext, Credentials\n",
    "from cartoframes.contrib import vector\n",
    "\n",
    "os.environ[\"GOOGLE_APPLICATION_CREDENTIALS\"] = \"/.google.json\""
   ]
  },
  {
   "cell_type": "code",
   "execution_count": null,
   "metadata": {
    "collapsed": true
   },
   "outputs": [],
   "source": [
    "F = open(\"/.carto\",\"r\")\n",
    "carto_api_key = F.read().splitlines()[0]\n",
    "F.close()"
   ]
  },
  {
   "cell_type": "code",
   "execution_count": null,
   "metadata": {
    "collapsed": true
   },
   "outputs": [],
   "source": [
    "creds = Credentials(key=carto_api_key, \n",
    "                    username='wri-01')\n",
    "cc = CartoContext(creds=creds)"
   ]
  },
  {
   "cell_type": "code",
   "execution_count": null,
   "metadata": {
    "collapsed": true
   },
   "outputs": [],
   "source": [
    "# Query postGIS table from RDS"
   ]
  },
  {
   "cell_type": "code",
   "execution_count": null,
   "metadata": {},
   "outputs": [],
   "source": [
    "F = open(\"/.password\",\"r\")\n",
    "password = F.read().splitlines()[0]\n",
    "F.close()\n",
    "\n",
    "engine = sqlalchemy.create_engine(\"postgresql://rutgerhofste:{}@{}:5432/{}\".format(password,DATABASE_ENDPOINT,DATABASE_NAME))"
   ]
  },
  {
   "cell_type": "code",
   "execution_count": null,
   "metadata": {
    "collapsed": true
   },
   "outputs": [],
   "source": []
  },
  {
   "cell_type": "code",
   "execution_count": null,
   "metadata": {
    "collapsed": true
   },
   "outputs": [],
   "source": [
    "sql = \"SELECT pfaf_id, sub_area, geom FROM {}\".format(POSTGIS_INPUT_TABLE_NAME)"
   ]
  },
  {
   "cell_type": "code",
   "execution_count": null,
   "metadata": {
    "collapsed": true
   },
   "outputs": [],
   "source": [
    "gdf =gpd.GeoDataFrame.from_postgis(sql,engine,geom_col='geom' )"
   ]
  },
  {
   "cell_type": "code",
   "execution_count": null,
   "metadata": {},
   "outputs": [],
   "source": [
    "# Query result table from Bigquery"
   ]
  },
  {
   "cell_type": "code",
   "execution_count": null,
   "metadata": {
    "collapsed": true
   },
   "outputs": [],
   "source": [
    "sql = \"SELECT\"\n",
    "for column_of_interest in COLUMNS_OF_INTEREST:\n",
    "    sql += \" {},\".format(column_of_interest)\n",
    "sql = sql[:-1]\n",
    "sql += \" FROM {}.{}\".format(INPUT_DATASET_NAME,INPUT_TABLE_NAME)\n",
    "sql += \" WHERE year = 2014\"\n",
    "sql += \" AND month = {}\".format(MONTH_OF_INTEREST)\n",
    "sql += \" AND temporal_resolution = '{}'\".format(TEMPORAL_RESOLUTION_OF_INTEREST)"
   ]
  },
  {
   "cell_type": "code",
   "execution_count": null,
   "metadata": {},
   "outputs": [],
   "source": [
    "print(sql)"
   ]
  },
  {
   "cell_type": "code",
   "execution_count": null,
   "metadata": {
    "collapsed": true
   },
   "outputs": [],
   "source": [
    "df = pd.read_gbq(query=sql,\n",
    "                 project_id=PROJECT_ID,\n",
    "                 dialect=\"standard\")"
   ]
  },
  {
   "cell_type": "code",
   "execution_count": null,
   "metadata": {},
   "outputs": [],
   "source": [
    "# Join results (11 tiny basins have noData)"
   ]
  },
  {
   "cell_type": "code",
   "execution_count": null,
   "metadata": {},
   "outputs": [],
   "source": [
    "gdf.shape[0]-df.shape[0]"
   ]
  },
  {
   "cell_type": "code",
   "execution_count": null,
   "metadata": {},
   "outputs": [],
   "source": [
    "gdf2 = gdf.merge(df,\n",
    "                 how= \"left\",\n",
    "                 left_on=\"pfaf_id\",\n",
    "                 right_on=\"pfafid_30spfaf06\")"
   ]
  },
  {
   "cell_type": "code",
   "execution_count": null,
   "metadata": {},
   "outputs": [],
   "source": [
    "test = gdf2.loc[pd.isna(gdf2[\"pfafid_30spfaf06\"])]"
   ]
  },
  {
   "cell_type": "code",
   "execution_count": null,
   "metadata": {},
   "outputs": [],
   "source": [
    "test"
   ]
  },
  {
   "cell_type": "code",
   "execution_count": null,
   "metadata": {
    "collapsed": true
   },
   "outputs": [],
   "source": [
    "# 1. Upload to Carto"
   ]
  },
  {
   "cell_type": "code",
   "execution_count": null,
   "metadata": {},
   "outputs": [],
   "source": [
    "gdf2_small = gdf2[0:1000]"
   ]
  },
  {
   "cell_type": "code",
   "execution_count": null,
   "metadata": {},
   "outputs": [],
   "source": [
    "cc.write(gdf2,\n",
    "         encode_geom=True,\n",
    "         table_name='cartoframes_geopandas',\n",
    "         overwrite=True)"
   ]
  },
  {
   "cell_type": "code",
   "execution_count": null,
   "metadata": {
    "collapsed": true
   },
   "outputs": [],
   "source": []
  },
  {
   "cell_type": "code",
   "execution_count": null,
   "metadata": {
    "collapsed": true
   },
   "outputs": [],
   "source": []
  },
  {
   "cell_type": "code",
   "execution_count": null,
   "metadata": {
    "collapsed": true
   },
   "outputs": [],
   "source": []
  },
  {
   "cell_type": "code",
   "execution_count": null,
   "metadata": {
    "collapsed": true
   },
   "outputs": [],
   "source": []
  },
  {
   "cell_type": "code",
   "execution_count": null,
   "metadata": {
    "collapsed": true
   },
   "outputs": [],
   "source": [
    "F = open(\"/.mapbox_public\",\"r\")\n",
    "token = F.read().splitlines()[0]\n",
    "F.close()\n",
    "os.environ[\"MAPBOX_ACCESS_TOKEN\"] = token"
   ]
  },
  {
   "cell_type": "code",
   "execution_count": null,
   "metadata": {},
   "outputs": [],
   "source": [
    "df.head()"
   ]
  },
  {
   "cell_type": "code",
   "execution_count": null,
   "metadata": {
    "collapsed": true
   },
   "outputs": [],
   "source": [
    "df[\"diff_weighted_nonweighted\"] = df[\"avg1y_ols_ols10_weighted_waterstress_dimensionless_30spfaf06\"] - df[\"avg1y_ols_ols10_waterstress_dimensionless_30spfaf06\"]"
   ]
  },
  {
   "cell_type": "code",
   "execution_count": null,
   "metadata": {
    "collapsed": true
   },
   "outputs": [],
   "source": [
    "data = json.loads(df.to_json(orient='records'))"
   ]
  },
  {
   "cell_type": "code",
   "execution_count": null,
   "metadata": {
    "collapsed": true
   },
   "outputs": [],
   "source": [
    "color_stops_raw = [[-0.0001,'rgb(241,12,249)'],\n",
    "                  #[-0.001,'rgb(255,0,84)'], \n",
    "                   [0,'rgb(255,255,153)'], # low\n",
    "                   [0.1,'rgb(255,230,0)'], # low to medium\n",
    "                   [0.2,'rgb(255,153,0)'], # Medium to High\n",
    "                   [0.4,'rgb(255,25,0)'], # High\n",
    "                   [0.8,'rgb(153,0,0)']]  # Extremely High"
   ]
  },
  {
   "cell_type": "code",
   "execution_count": null,
   "metadata": {},
   "outputs": [],
   "source": [
    "viz = mapboxgl.viz.ChoroplethViz(data = data, \n",
    "                                 vector_url='mapbox://rutgerhofste.hybas06_v04_V04',\n",
    "                                 vector_layer_name='hybas06_v04', # Warning should match name on mapbox.\n",
    "                                 vector_join_property='pfaf_id',\n",
    "                                 data_join_property= \"pfafid_30spfaf06\",\n",
    "                                 color_property= \"avg1y_ols_ols10_waterstress_dimensionless_30spfaf06\",\n",
    "                                 color_stops= color_stops_raw,\n",
    "                                 line_color = 'rgba(0,0,0,0.05)',\n",
    "                                 line_width = 0.5,\n",
    "                                 opacity=0.7,\n",
    "                                 center=(5, 52),\n",
    "                                 zoom=4,\n",
    "                                 below_layer='waterway-label'\n",
    "                                 )"
   ]
  },
  {
   "cell_type": "code",
   "execution_count": null,
   "metadata": {},
   "outputs": [],
   "source": [
    "viz.show()"
   ]
  },
  {
   "cell_type": "code",
   "execution_count": null,
   "metadata": {
    "collapsed": true
   },
   "outputs": [],
   "source": [
    "viz2 = mapboxgl.viz.ChoroplethViz(data = data, \n",
    "                                 vector_url='mapbox://rutgerhofste.hybas06_v04_V04',\n",
    "                                 vector_layer_name='hybas06_v04', # Warning should match name on mapbox.\n",
    "                                 vector_join_property='pfaf_id',\n",
    "                                 data_join_property= \"pfafid_30spfaf06\",\n",
    "                                 color_property= \"avg1y_ols_ols10_weighted_waterstress_dimensionless_30spfaf06\",\n",
    "                                 color_stops= color_stops_raw,\n",
    "                                 line_color = 'rgba(0,0,0,0.05)',\n",
    "                                 line_width = 0.5,\n",
    "                                 opacity=0.7,\n",
    "                                 center=(5, 52),\n",
    "                                 zoom=4,\n",
    "                                 below_layer='waterway-label'\n",
    "                                 )"
   ]
  },
  {
   "cell_type": "code",
   "execution_count": null,
   "metadata": {},
   "outputs": [],
   "source": [
    "viz2.show()"
   ]
  },
  {
   "cell_type": "code",
   "execution_count": null,
   "metadata": {
    "collapsed": true
   },
   "outputs": [],
   "source": [
    "color_stops_dif = [[-1,'rgb(255,0,0)'],\n",
    "                   [0,'rgb(255,255,255)'], \n",
    "                   [1,'rgb(0,255,0)']]"
   ]
  },
  {
   "cell_type": "code",
   "execution_count": null,
   "metadata": {
    "collapsed": true
   },
   "outputs": [],
   "source": [
    "viz3 = mapboxgl.viz.ChoroplethViz(data = data, \n",
    "                                 vector_url='mapbox://rutgerhofste.hybas06_v04_V04',\n",
    "                                 vector_layer_name='hybas06_v04', # Warning should match name on mapbox.\n",
    "                                 vector_join_property='pfaf_id',\n",
    "                                 data_join_property= \"pfafid_30spfaf06\",\n",
    "                                 color_property= \"diff_weighted_nonweighted\",\n",
    "                                 color_stops= color_stops_dif,\n",
    "                                 line_color = 'rgba(0,0,0,0.05)',\n",
    "                                 line_width = 0.5,\n",
    "                                 opacity=0.7,\n",
    "                                 center=(5, 52),\n",
    "                                 zoom=4,\n",
    "                                 below_layer='waterway-label'\n",
    "                                 )"
   ]
  },
  {
   "cell_type": "code",
   "execution_count": null,
   "metadata": {},
   "outputs": [],
   "source": [
    "viz3.show()"
   ]
  },
  {
   "cell_type": "code",
   "execution_count": null,
   "metadata": {
    "collapsed": true
   },
   "outputs": [],
   "source": []
  }
 ],
 "metadata": {
  "kernelspec": {
   "display_name": "Python 35",
   "language": "python",
   "name": "python35"
  },
  "language_info": {
   "codemirror_mode": {
    "name": "ipython",
    "version": 3
   },
   "file_extension": ".py",
   "mimetype": "text/x-python",
   "name": "python",
   "nbconvert_exporter": "python",
   "pygments_lexer": "ipython3",
   "version": "3.5.4"
  }
 },
 "nbformat": 4,
 "nbformat_minor": 2
}
