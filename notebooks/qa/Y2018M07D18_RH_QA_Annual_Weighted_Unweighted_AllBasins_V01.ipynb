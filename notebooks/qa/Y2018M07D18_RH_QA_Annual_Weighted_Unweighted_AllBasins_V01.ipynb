{
 "cells": [
  {
   "cell_type": "code",
   "execution_count": 1,
   "metadata": {},
   "outputs": [
    {
     "name": "stdout",
     "output_type": "stream",
     "text": [
      "carto_output_table_name:  y2018m07d18_rh_qa_annual_weighted_unweighted_onebasin_v01_v01\n"
     ]
    }
   ],
   "source": [
    "\"\"\" Compare weighted and unweighted annual results for all basins.\n",
    "-------------------------------------------------------------------------------\n",
    "\n",
    "Issue: Mapbox GL does not (yet) support tooltips with multiple items when the \n",
    "data is joined locally thereby limiting performance for larger tables.\n",
    "This script will therefore use the cartoframes option. Note that this repo is \n",
    "in active developement so this code will likely break in the future.\n",
    "\n",
    "Steps:\n",
    "\n",
    "1. Query postGIS table from RDS\n",
    "1. Query result table from Bigquery\n",
    "1. Upload result data to Carto\n",
    "1. Join data in Carto\n",
    "1. Define tooltip\n",
    "1. Define plotting\n",
    "1. Plot. \n",
    "\n",
    "Unfortunately the plot area is very small and the tooltip's font size is huge.\n",
    "Visualizing using the webtool might be an alternative. \n",
    "\n",
    "Expected result: A Carto Map with 13 layers. An Annual layer and 12 months, \n",
    "stylized.\n",
    "\n",
    "\n",
    "\n",
    "Author: Rutger Hofste\n",
    "Date: 20180718\n",
    "Kernel: python35\n",
    "Docker: rutgerhofste/gisdocker:ubuntu16.04\n",
    "\n",
    "\"\"\"\n",
    "\n",
    "TESTING = 1\n",
    "OVERWRITE_OUTPUT = 1\n",
    "SCRIPT_NAME = 'Y2018M07D18_RH_QA_Annual_Weighted_Unweighted_OneBasin_V01'\n",
    "OUTPUT_VERSION = 1\n",
    "\n",
    "RDS_DATABASE_ENDPOINT = \"aqueduct30v05.cgpnumwmfcqc.eu-central-1.rds.amazonaws.com\"\n",
    "RDS_DATABASE_NAME = \"database01\"\n",
    "\n",
    "BQ_PROJECT_ID = \"aqueduct30\"\n",
    "BQ_INPUT_TABLE_NAME = \"Y2018M07D17_RH_RDS_To_S3_V01\"\n",
    "BQ_INPUT_DATASET_NAME = \"aqueduct30v01\"\n",
    "\n",
    "CARTO_INPUT_TABLE_NAME_LEFT = \"y2018m07d18_rh_upload_hydrobasin_carto_v01_v01\"\n",
    "\n",
    "YEAR_OF_INTEREST = 2014\n",
    "\n",
    "COLUMNS_OF_INTEREST = [\"pfafid_30spfaf06\",\n",
    "                       \"temporal_resolution\",\n",
    "                       \"year\",\n",
    "                       \"month\",\n",
    "                       \"waterstress_label_dimensionless_30spfaf06\",\n",
    "                       \"waterstress_category_dimensionless_30spfaf06\",\n",
    "                       \"waterstress_score_dimensionless_30spfaf06\",\n",
    "                       \"waterstress_raw_dimensionless_30spfaf06\",\n",
    "                       \"avg1y_ols_ols10_weighted_waterstress_dimensionless_30spfaf06\",\n",
    "                       \"avg1y_ols_ols10_waterstress_dimensionless_30spfaf06\",\n",
    "                       \"ols_ols10_waterstress_dimensionless_30spfaf06\",\n",
    "                       \"ols_ols10_ptotww_m_30spfaf06\"]\n",
    "\n",
    "# tooltips are not scrollable so pick a limited number of items to visualize.\n",
    "COLUMNS_TO_VISUALIZE = [\"pfafid_30spfaf06\",\n",
    "                        \"waterstress_score_dimensionless_30spfaf06\",\n",
    "                        \"avg1y_ols_ols10_weighted_waterstress_dimensionless_30spfaf06\",\n",
    "                        \"avg1y_ols_ols10_waterstress_dimensionless_30spfaf06\"]\n",
    "\n",
    "COLOR_COLUMN = \"waterstress_score_dimensionless_30spfaf06\"\n",
    "\n",
    "\n",
    "carto_output_table_name = \"{}_V{:02.0f}\".format(SCRIPT_NAME,OUTPUT_VERSION).lower()\n",
    "\n",
    "print(\"carto_output_table_name: \",carto_output_table_name)\n",
    "\n",
    "\n"
   ]
  },
  {
   "cell_type": "code",
   "execution_count": 2,
   "metadata": {},
   "outputs": [
    {
     "name": "stdout",
     "output_type": "stream",
     "text": [
      "Y2018M07D19 UTC 19:44\n"
     ]
    },
    {
     "data": {
      "text/plain": [
       "'3.5.4 |Anaconda, Inc.| (default, Nov 20 2017, 18:44:38) \\n[GCC 7.2.0]'"
      ]
     },
     "execution_count": 2,
     "metadata": {},
     "output_type": "execute_result"
    }
   ],
   "source": [
    "import time, datetime, sys\n",
    "dateString = time.strftime(\"Y%YM%mD%d\")\n",
    "timeString = time.strftime(\"UTC %H:%M\")\n",
    "start = datetime.datetime.now()\n",
    "print(dateString,timeString)\n",
    "sys.version"
   ]
  },
  {
   "cell_type": "code",
   "execution_count": 3,
   "metadata": {
    "collapsed": true
   },
   "outputs": [],
   "source": [
    "%matplotlib inline\n",
    "import os\n",
    "import json\n",
    "import mapboxgl\n",
    "import sqlalchemy\n",
    "import pandas as pd\n",
    "import geopandas as gpd\n",
    "\n",
    "import cartoframes\n",
    "from cartoframes.contrib import vector\n",
    "\n",
    "#from cartoframes import CartoContext, Credentials\n",
    "\n",
    "\n",
    "os.environ[\"GOOGLE_APPLICATION_CREDENTIALS\"] = \"/.google.json\""
   ]
  },
  {
   "cell_type": "code",
   "execution_count": 4,
   "metadata": {
    "collapsed": true
   },
   "outputs": [],
   "source": [
    "F = open(\"/.carto_builder\",\"r\")\n",
    "carto_api_key = F.read().splitlines()[0]\n",
    "F.close()"
   ]
  },
  {
   "cell_type": "code",
   "execution_count": 5,
   "metadata": {
    "collapsed": true
   },
   "outputs": [],
   "source": [
    "creds = cartoframes.Credentials(key=carto_api_key, \n",
    "                    username='wri-playground')\n",
    "cc = cartoframes.CartoContext(creds=creds)"
   ]
  },
  {
   "cell_type": "code",
   "execution_count": 6,
   "metadata": {
    "collapsed": true
   },
   "outputs": [],
   "source": [
    "# Query postGIS table from RDS (already on Carto)"
   ]
  },
  {
   "cell_type": "code",
   "execution_count": 7,
   "metadata": {
    "collapsed": true
   },
   "outputs": [],
   "source": [
    "F = open(\"/.password\",\"r\")\n",
    "password = F.read().splitlines()[0]\n",
    "F.close()\n",
    "\n",
    "engine = sqlalchemy.create_engine(\"postgresql://rutgerhofste:{}@{}:5432/{}\".format(password,RDS_DATABASE_ENDPOINT,RDS_DATABASE_NAME))"
   ]
  },
  {
   "cell_type": "code",
   "execution_count": 8,
   "metadata": {
    "collapsed": true
   },
   "outputs": [],
   "source": [
    "# Query result table from Bigquery"
   ]
  },
  {
   "cell_type": "code",
   "execution_count": 9,
   "metadata": {
    "collapsed": true
   },
   "outputs": [],
   "source": [
    "sql = \"SELECT\"\n",
    "for column_of_interest in COLUMNS_OF_INTEREST:\n",
    "    sql += \" {},\".format(column_of_interest)\n",
    "sql = sql[:-1]\n",
    "sql += \" FROM {}.{}\".format(BQ_INPUT_DATASET_NAME,BQ_INPUT_TABLE_NAME)\n",
    "sql += \" WHERE year = 2014\"\n",
    "# sql += \" AND month = {}\".format(MONTH_OF_INTEREST)\n",
    "# sql += \" AND temporal_resolution = '{}'\".format(TEMPORAL_RESOLUTION_OF_INTEREST)"
   ]
  },
  {
   "cell_type": "code",
   "execution_count": 10,
   "metadata": {},
   "outputs": [
    {
     "name": "stdout",
     "output_type": "stream",
     "text": [
      "SELECT pfafid_30spfaf06, temporal_resolution, year, month, waterstress_label_dimensionless_30spfaf06, waterstress_category_dimensionless_30spfaf06, waterstress_score_dimensionless_30spfaf06, waterstress_raw_dimensionless_30spfaf06, avg1y_ols_ols10_weighted_waterstress_dimensionless_30spfaf06, avg1y_ols_ols10_waterstress_dimensionless_30spfaf06, ols_ols10_waterstress_dimensionless_30spfaf06, ols_ols10_ptotww_m_30spfaf06 FROM aqueduct30v01.Y2018M07D17_RH_RDS_To_S3_V01 WHERE year = 2014\n"
     ]
    }
   ],
   "source": [
    "print(sql)"
   ]
  },
  {
   "cell_type": "code",
   "execution_count": 11,
   "metadata": {
    "collapsed": true
   },
   "outputs": [],
   "source": [
    "df = pd.read_gbq(query=sql,\n",
    "                 project_id=BQ_PROJECT_ID,\n",
    "                 dialect=\"standard\")"
   ]
  },
  {
   "cell_type": "code",
   "execution_count": 12,
   "metadata": {},
   "outputs": [
    {
     "data": {
      "text/plain": [
       "(213005, 12)"
      ]
     },
     "execution_count": 12,
     "metadata": {},
     "output_type": "execute_result"
    }
   ],
   "source": [
    "df.shape"
   ]
  },
  {
   "cell_type": "code",
   "execution_count": 13,
   "metadata": {},
   "outputs": [
    {
     "name": "stdout",
     "output_type": "stream",
     "text": [
      "Table successfully written to CARTO: https://wri-playground.carto.com/dataset/y2018m07d18_rh_qa_annual_weighted_unweighted_onebasin_v01_v01\n"
     ]
    }
   ],
   "source": [
    "# Upload result data to Carto\n",
    "cc.write(df=df,\n",
    "         table_name=carto_output_table_name,\n",
    "         overwrite=True,\n",
    "         privacy=\"link\")"
   ]
  },
  {
   "cell_type": "code",
   "execution_count": null,
   "metadata": {
    "collapsed": true
   },
   "outputs": [],
   "source": [
    "# There are now two tables on carto. One with the geometries, one with the results from BigQuery. Combining both\n",
    "columns_to_keep_left = [\"pfaf_id\",\n",
    "                        \"the_geom\",\n",
    "                        \"the_geom_webmercator\", #This column is a reprojection of the 'the_geom' column.\n",
    "                        \"cartodb_id\"]\n",
    "\n",
    "columns_to_keep_right = COLUMNS_OF_INTEREST # Same as for BigQuery\n",
    "\n",
    "left_on = \"pfaf_id\"\n",
    "right_on = \"pfafid_30spfaf06\""
   ]
  },
  {
   "cell_type": "code",
   "execution_count": null,
   "metadata": {
    "collapsed": true
   },
   "outputs": [],
   "source": [
    "def create_query(temporal_resolution,year,month):\n",
    "    sql= \"SELECT\" \n",
    "    for column_to_keep_left in columns_to_keep_left:\n",
    "        sql += \" l.{},\".format(column_to_keep_left)\n",
    "    for column_to_keep_right in columns_to_keep_right:\n",
    "        sql += \" r.{},\".format(column_to_keep_right)\n",
    "    sql = sql[:-1]    \n",
    "    sql+= \" FROM {} l, {} r\".format(CARTO_INPUT_TABLE_NAME_LEFT,carto_output_table_name)\n",
    "    sql+= \" WHERE l.{} = r.{}\".format(left_on,right_on)\n",
    "    sql+= \" AND r.year = {}\".format(year)\n",
    "    sql+= \" AND r.temporal_resolution = '{}'\".format(temporal_resolution)\n",
    "    return sql\n",
    "\n"
   ]
  },
  {
   "cell_type": "code",
   "execution_count": null,
   "metadata": {
    "collapsed": true
   },
   "outputs": [],
   "source": [
    "temporal_resolutions = [\"year\",\"month\"]\n",
    "year = YEAR_OF_INTEREST"
   ]
  },
  {
   "cell_type": "code",
   "execution_count": null,
   "metadata": {},
   "outputs": [],
   "source": [
    "for temporal_resolution in temporal_resolutions:\n",
    "    if temporal_resolution == \"year\":\n",
    "        month = 12\n",
    "        print(temporal_resolution,year,month)\n",
    "        sql = create_query(temporal_resolution,year,month)\n",
    "        #cc.query(query=sql,\n",
    "        #         table_name=\"test\")\n",
    "        \n",
    "    else:\n",
    "        for month in range(1,12+1):\n",
    "            print(temporal_resolution,year,month)\n",
    "            sql = create_query(temporal_resolution,year,month)\n",
    "            #cc.query(query=sql,\n",
    "            #         table_name=\"test\")\n",
    "            "
   ]
  },
  {
   "cell_type": "code",
   "execution_count": null,
   "metadata": {},
   "outputs": [],
   "source": [
    "sql"
   ]
  },
  {
   "cell_type": "code",
   "execution_count": null,
   "metadata": {
    "collapsed": true
   },
   "outputs": [],
   "source": []
  },
  {
   "cell_type": "code",
   "execution_count": null,
   "metadata": {
    "collapsed": true,
    "scrolled": true
   },
   "outputs": [],
   "source": [
    "print(sql)"
   ]
  },
  {
   "cell_type": "code",
   "execution_count": null,
   "metadata": {
    "collapsed": true
   },
   "outputs": [],
   "source": [
    "interactivity_dict = {\"event\":'click',\n",
    "                      \"cols\": COLUMNS_TO_VISUALIZE}"
   ]
  },
  {
   "cell_type": "code",
   "execution_count": null,
   "metadata": {
    "collapsed": true
   },
   "outputs": [],
   "source": [
    "interactivity_dict"
   ]
  },
  {
   "cell_type": "code",
   "execution_count": null,
   "metadata": {
    "collapsed": true
   },
   "outputs": [],
   "source": [
    "cartoframes.styling.sunset(7)"
   ]
  },
  {
   "cell_type": "code",
   "execution_count": null,
   "metadata": {
    "collapsed": true
   },
   "outputs": [],
   "source": [
    "color_dict = {\"column\": \"pfafid_30spfaf06\",\n",
    "              \"scheme\": cartoframes.styling.sunset(3)}"
   ]
  },
  {
   "cell_type": "code",
   "execution_count": null,
   "metadata": {
    "collapsed": true
   },
   "outputs": [],
   "source": [
    "vl_01 = vector.QueryLayer(query=sql,\n",
    "                          color=color_dict,\n",
    "                          size=None,\n",
    "                          time=None,\n",
    "                          strokeColor=\"#000000\",\n",
    "                          strokeWidth=None,\n",
    "                          interactivity=interactivity_dict)"
   ]
  },
  {
   "cell_type": "code",
   "execution_count": null,
   "metadata": {
    "collapsed": true
   },
   "outputs": [],
   "source": [
    "vector.vmap([vl_01],context=cc)"
   ]
  },
  {
   "cell_type": "code",
   "execution_count": null,
   "metadata": {
    "collapsed": true
   },
   "outputs": [],
   "source": []
  },
  {
   "cell_type": "code",
   "execution_count": null,
   "metadata": {
    "collapsed": true
   },
   "outputs": [],
   "source": []
  },
  {
   "cell_type": "code",
   "execution_count": null,
   "metadata": {
    "collapsed": true
   },
   "outputs": [],
   "source": []
  },
  {
   "cell_type": "code",
   "execution_count": null,
   "metadata": {
    "collapsed": true
   },
   "outputs": [],
   "source": []
  },
  {
   "cell_type": "code",
   "execution_count": null,
   "metadata": {
    "collapsed": true
   },
   "outputs": [],
   "source": [
    "carto_sql = \"SELECT * FROM y2018m07d18_rh_upload_hydrobasin_carto_v01_v01\""
   ]
  },
  {
   "cell_type": "code",
   "execution_count": null,
   "metadata": {
    "collapsed": true
   },
   "outputs": [],
   "source": [
    "v0 = vector.QueryLayer(query=carto_sql)"
   ]
  },
  {
   "cell_type": "code",
   "execution_count": null,
   "metadata": {
    "collapsed": true
   },
   "outputs": [],
   "source": [
    "vector.vmap([v0 ], context=cc)"
   ]
  },
  {
   "cell_type": "code",
   "execution_count": null,
   "metadata": {
    "collapsed": true
   },
   "outputs": [],
   "source": [
    "cc.map()"
   ]
  },
  {
   "cell_type": "code",
   "execution_count": null,
   "metadata": {
    "collapsed": true
   },
   "outputs": [],
   "source": [
    "from cartoframes.examples import read_taxi"
   ]
  },
  {
   "cell_type": "code",
   "execution_count": null,
   "metadata": {
    "collapsed": true
   },
   "outputs": [],
   "source": [
    "cc.write(\n",
    "    read_taxi(),\n",
    "    'taxi_50k',\n",
    "    lnglat=('pickup_longitude', 'pickup_latitude')\n",
    ")"
   ]
  },
  {
   "cell_type": "code",
   "execution_count": null,
   "metadata": {
    "collapsed": true
   },
   "outputs": [],
   "source": [
    "cc.map(\n",
    "    QueryLayer('''\n",
    "        SELECT\n",
    "            ST_Transform(the_geom, 3857) AS the_geom_webmercator,\n",
    "            the_geom,\n",
    "            cartodb_id,\n",
    "            ST_Length(the_geom::geography) AS distance\n",
    "        FROM (\n",
    "            SELECT\n",
    "                ST_MakeLine(\n",
    "                    CDB_LatLng(pickup_latitude, pickup_longitude),\n",
    "                    CDB_LatLng(dropoff_latitude, dropoff_longitude)\n",
    "                ) AS the_geom,\n",
    "                cartodb_id\n",
    "            FROM taxi_50k\n",
    "            WHERE pickup_latitude <> 0 AND dropoff_latitude <> 0\n",
    "        ) AS _w\n",
    "        ORDER BY 4 DESC''',\n",
    "        color='distance'),\n",
    "    zoom=11, lng=-73.9442, lat=40.7473,\n",
    "    interactive=False)"
   ]
  },
  {
   "cell_type": "code",
   "execution_count": null,
   "metadata": {
    "collapsed": true
   },
   "outputs": [],
   "source": []
  },
  {
   "cell_type": "code",
   "execution_count": null,
   "metadata": {
    "collapsed": true
   },
   "outputs": [],
   "source": [
    "gdf.shape[0]-df.shape[0]"
   ]
  },
  {
   "cell_type": "code",
   "execution_count": null,
   "metadata": {
    "collapsed": true
   },
   "outputs": [],
   "source": [
    "gdf2 = gdf.merge(df,\n",
    "                 how= \"left\",\n",
    "                 left_on=\"pfaf_id\",\n",
    "                 right_on=\"pfafid_30spfaf06\")"
   ]
  },
  {
   "cell_type": "code",
   "execution_count": null,
   "metadata": {
    "collapsed": true
   },
   "outputs": [],
   "source": [
    "test = gdf2.loc[pd.isna(gdf2[\"pfafid_30spfaf06\"])]"
   ]
  },
  {
   "cell_type": "code",
   "execution_count": null,
   "metadata": {
    "collapsed": true
   },
   "outputs": [],
   "source": [
    "test"
   ]
  },
  {
   "cell_type": "code",
   "execution_count": null,
   "metadata": {
    "collapsed": true
   },
   "outputs": [],
   "source": [
    "# 1. Upload to Carto"
   ]
  },
  {
   "cell_type": "code",
   "execution_count": null,
   "metadata": {
    "collapsed": true
   },
   "outputs": [],
   "source": [
    "gdf2_small = gdf2[0:1000]"
   ]
  },
  {
   "cell_type": "code",
   "execution_count": null,
   "metadata": {
    "collapsed": true
   },
   "outputs": [],
   "source": [
    "cc.write(gdf2,\n",
    "         encode_geom=True,\n",
    "         table_name='cartoframes_geopandas',\n",
    "         overwrite=True)"
   ]
  },
  {
   "cell_type": "code",
   "execution_count": null,
   "metadata": {
    "collapsed": true
   },
   "outputs": [],
   "source": []
  },
  {
   "cell_type": "code",
   "execution_count": null,
   "metadata": {
    "collapsed": true
   },
   "outputs": [],
   "source": []
  },
  {
   "cell_type": "code",
   "execution_count": null,
   "metadata": {
    "collapsed": true
   },
   "outputs": [],
   "source": []
  },
  {
   "cell_type": "code",
   "execution_count": null,
   "metadata": {
    "collapsed": true
   },
   "outputs": [],
   "source": []
  },
  {
   "cell_type": "code",
   "execution_count": null,
   "metadata": {
    "collapsed": true
   },
   "outputs": [],
   "source": [
    "F = open(\"/.mapbox_public\",\"r\")\n",
    "token = F.read().splitlines()[0]\n",
    "F.close()\n",
    "os.environ[\"MAPBOX_ACCESS_TOKEN\"] = token"
   ]
  },
  {
   "cell_type": "code",
   "execution_count": null,
   "metadata": {
    "collapsed": true
   },
   "outputs": [],
   "source": [
    "df.head()"
   ]
  },
  {
   "cell_type": "code",
   "execution_count": null,
   "metadata": {
    "collapsed": true
   },
   "outputs": [],
   "source": [
    "df[\"diff_weighted_nonweighted\"] = df[\"avg1y_ols_ols10_weighted_waterstress_dimensionless_30spfaf06\"] - df[\"avg1y_ols_ols10_waterstress_dimensionless_30spfaf06\"]"
   ]
  },
  {
   "cell_type": "code",
   "execution_count": null,
   "metadata": {
    "collapsed": true
   },
   "outputs": [],
   "source": [
    "data = json.loads(df.to_json(orient='records'))"
   ]
  },
  {
   "cell_type": "code",
   "execution_count": null,
   "metadata": {
    "collapsed": true
   },
   "outputs": [],
   "source": [
    "color_stops_raw = [[-0.0001,'rgb(241,12,249)'],\n",
    "                  #[-0.001,'rgb(255,0,84)'], \n",
    "                   [0,'rgb(255,255,153)'], # low\n",
    "                   [0.1,'rgb(255,230,0)'], # low to medium\n",
    "                   [0.2,'rgb(255,153,0)'], # Medium to High\n",
    "                   [0.4,'rgb(255,25,0)'], # High\n",
    "                   [0.8,'rgb(153,0,0)']]  # Extremely High"
   ]
  },
  {
   "cell_type": "code",
   "execution_count": null,
   "metadata": {
    "collapsed": true
   },
   "outputs": [],
   "source": [
    "viz = mapboxgl.viz.ChoroplethViz(data = data, \n",
    "                                 vector_url='mapbox://rutgerhofste.hybas06_v04_V04',\n",
    "                                 vector_layer_name='hybas06_v04', # Warning should match name on mapbox.\n",
    "                                 vector_join_property='pfaf_id',\n",
    "                                 data_join_property= \"pfafid_30spfaf06\",\n",
    "                                 color_property= \"avg1y_ols_ols10_waterstress_dimensionless_30spfaf06\",\n",
    "                                 color_stops= color_stops_raw,\n",
    "                                 line_color = 'rgba(0,0,0,0.05)',\n",
    "                                 line_width = 0.5,\n",
    "                                 opacity=0.7,\n",
    "                                 center=(5, 52),\n",
    "                                 zoom=4,\n",
    "                                 below_layer='waterway-label'\n",
    "                                 )"
   ]
  },
  {
   "cell_type": "code",
   "execution_count": null,
   "metadata": {
    "collapsed": true
   },
   "outputs": [],
   "source": [
    "viz.show()"
   ]
  },
  {
   "cell_type": "code",
   "execution_count": null,
   "metadata": {
    "collapsed": true
   },
   "outputs": [],
   "source": [
    "viz2 = mapboxgl.viz.ChoroplethViz(data = data, \n",
    "                                 vector_url='mapbox://rutgerhofste.hybas06_v04_V04',\n",
    "                                 vector_layer_name='hybas06_v04', # Warning should match name on mapbox.\n",
    "                                 vector_join_property='pfaf_id',\n",
    "                                 data_join_property= \"pfafid_30spfaf06\",\n",
    "                                 color_property= \"avg1y_ols_ols10_weighted_waterstress_dimensionless_30spfaf06\",\n",
    "                                 color_stops= color_stops_raw,\n",
    "                                 line_color = 'rgba(0,0,0,0.05)',\n",
    "                                 line_width = 0.5,\n",
    "                                 opacity=0.7,\n",
    "                                 center=(5, 52),\n",
    "                                 zoom=4,\n",
    "                                 below_layer='waterway-label'\n",
    "                                 )"
   ]
  },
  {
   "cell_type": "code",
   "execution_count": null,
   "metadata": {
    "collapsed": true
   },
   "outputs": [],
   "source": [
    "viz2.show()"
   ]
  },
  {
   "cell_type": "code",
   "execution_count": null,
   "metadata": {
    "collapsed": true
   },
   "outputs": [],
   "source": [
    "color_stops_dif = [[-1,'rgb(255,0,0)'],\n",
    "                   [0,'rgb(255,255,255)'], \n",
    "                   [1,'rgb(0,255,0)']]"
   ]
  },
  {
   "cell_type": "code",
   "execution_count": null,
   "metadata": {
    "collapsed": true
   },
   "outputs": [],
   "source": [
    "viz3 = mapboxgl.viz.ChoroplethViz(data = data, \n",
    "                                 vector_url='mapbox://rutgerhofste.hybas06_v04_V04',\n",
    "                                 vector_layer_name='hybas06_v04', # Warning should match name on mapbox.\n",
    "                                 vector_join_property='pfaf_id',\n",
    "                                 data_join_property= \"pfafid_30spfaf06\",\n",
    "                                 color_property= \"diff_weighted_nonweighted\",\n",
    "                                 color_stops= color_stops_dif,\n",
    "                                 line_color = 'rgba(0,0,0,0.05)',\n",
    "                                 line_width = 0.5,\n",
    "                                 opacity=0.7,\n",
    "                                 center=(5, 52),\n",
    "                                 zoom=4,\n",
    "                                 below_layer='waterway-label'\n",
    "                                 )"
   ]
  },
  {
   "cell_type": "code",
   "execution_count": null,
   "metadata": {
    "collapsed": true
   },
   "outputs": [],
   "source": [
    "viz3.show()"
   ]
  },
  {
   "cell_type": "code",
   "execution_count": null,
   "metadata": {
    "collapsed": true
   },
   "outputs": [],
   "source": []
  }
 ],
 "metadata": {
  "kernelspec": {
   "display_name": "Python 35",
   "language": "python",
   "name": "python35"
  },
  "language_info": {
   "codemirror_mode": {
    "name": "ipython",
    "version": 3
   },
   "file_extension": ".py",
   "mimetype": "text/x-python",
   "name": "python",
   "nbconvert_exporter": "python",
   "pygments_lexer": "ipython3",
   "version": "3.5.4"
  }
 },
 "nbformat": 4,
 "nbformat_minor": 2
}
