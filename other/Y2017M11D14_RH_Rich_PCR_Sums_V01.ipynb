{
 "cells": [
  {
   "cell_type": "markdown",
   "metadata": {
    "collapsed": true
   },
   "source": [
    "this script was created per Rich's request. Goal is to calculate total volume of water withdrawal in 2014\n"
   ]
  },
  {
   "cell_type": "code",
   "execution_count": 1,
   "metadata": {
    "collapsed": true
   },
   "outputs": [],
   "source": [
    "import ee\n",
    "import pandas as pd\n",
    "import os"
   ]
  },
  {
   "cell_type": "code",
   "execution_count": 2,
   "metadata": {},
   "outputs": [],
   "source": [
    "ee.Initialize()"
   ]
  },
  {
   "cell_type": "code",
   "execution_count": 3,
   "metadata": {},
   "outputs": [],
   "source": [
    "SCRIPT_NAME = \"Y2017M11D14_RH_Rich_PCR_Sums_V01\"\n",
    "OUTPUT_VERSION =1 \n",
    "\n",
    "EC2_INPUT_PATH = \"/volumes/data/%s/input\" %(SCRIPT_NAME)\n",
    "EC2_OUTPUT_PATH = \"/volumes/data/%s/output\" %(SCRIPT_NAME)\n",
    "\n",
    "S3_OUTPUT_PATH = \"s3://wri-projects/Aqueduct30/processData/%s/output/\" %(SCRIPT_NAME)\n",
    "\n",
    "OUTPUT_FILE_NAME = \"Y2017M11D14_RH_Rich_PCR_Sums_V%0.2d\" %(OUTPUT_VERSION)"
   ]
  },
  {
   "cell_type": "code",
   "execution_count": 4,
   "metadata": {},
   "outputs": [],
   "source": [
    "!rm -r {EC2_OUTPUT_PATH}\n",
    "\n",
    "!mkdir -p {EC2_OUTPUT_PATH}"
   ]
  },
  {
   "cell_type": "code",
   "execution_count": 5,
   "metadata": {
    "collapsed": true
   },
   "outputs": [],
   "source": [
    "year = 2014\n",
    "timeFrame = \"year\" #annual\n"
   ]
  },
  {
   "cell_type": "code",
   "execution_count": 6,
   "metadata": {
    "collapsed": true
   },
   "outputs": [],
   "source": [
    "sectors = [\"Dom\",\"Ind\",\"Irr\",\"Liv\"]"
   ]
  },
  {
   "cell_type": "code",
   "execution_count": 7,
   "metadata": {
    "collapsed": true
   },
   "outputs": [],
   "source": [
    "demandTypes = [\"WW\",\"WN\"]"
   ]
  },
  {
   "cell_type": "code",
   "execution_count": 8,
   "metadata": {
    "collapsed": true
   },
   "outputs": [],
   "source": [
    "geometry = ee.Geometry.Polygon(coords=[[-180.0, -90.0], [180,  -90.0], [180, 90], [-180,90]], proj= ee.Projection('EPSG:4326'),geodesic=False )"
   ]
  },
  {
   "cell_type": "code",
   "execution_count": 9,
   "metadata": {
    "collapsed": true
   },
   "outputs": [],
   "source": [
    "scale = ee.Image(ee.ImageCollection(\"projects/WRI-Aquaduct/PCRGlobWB20V07/global_historical_PDomWN_year_millionm3_5min_1960_2014\").first()).projection().nominalScale().getInfo()"
   ]
  },
  {
   "cell_type": "code",
   "execution_count": null,
   "metadata": {},
   "outputs": [
    {
     "name": "stdout",
     "output_type": "stream",
     "text": [
      "9276.62397058\n"
     ]
    }
   ],
   "source": [
    "print(scale)"
   ]
  },
  {
   "cell_type": "code",
   "execution_count": null,
   "metadata": {},
   "outputs": [
    {
     "name": "stdout",
     "output_type": "stream",
     "text": [
      "1960\n",
      "1961\n",
      "1962\n",
      "1963\n",
      "1964\n",
      "1965\n",
      "1966\n",
      "1967\n",
      "1968\n",
      "1969\n"
     ]
    }
   ],
   "source": [
    "df = pd.DataFrame()\n",
    "fc = ee.FeatureCollection(ee.Feature(None,{}))\n",
    "for year in range(1960,2015):\n",
    "    \n",
    "    print(year)\n",
    "    for sector in sectors:\n",
    "        for demandType in demandTypes:\n",
    "            indicator = \"%s%s\" %(sector,demandType)\n",
    "            keyName = \"%s%sY%0.2d\" %(sector,demandType,year)\n",
    "            filePath = \"projects/WRI-Aquaduct/PCRGlobWB20V07/global_historical_P%s_year_millionm3_5min_1960_2014\" %(indicator)\n",
    "            ic = ee.ImageCollection(filePath)\n",
    "            imageYear = ee.Image(ic.filter(ee.Filter.eq(\"year\",year)).first())\n",
    "            sumYear = imageYear.reduceRegion(\n",
    "                geometry= geometry,\n",
    "                reducer= ee.Reducer.sum(),\n",
    "                scale= scale,\n",
    "                maxPixels= 1e10\n",
    "            )\n",
    "            df.at[year, indicator] = sumYear.get(\"b1\").getInfo()\n",
    "            \n",
    "               \n",
    "    "
   ]
  },
  {
   "cell_type": "code",
   "execution_count": null,
   "metadata": {},
   "outputs": [],
   "source": [
    "df"
   ]
  },
  {
   "cell_type": "code",
   "execution_count": null,
   "metadata": {},
   "outputs": [],
   "source": [
    "df.to_csv(os.path.join(EC2_OUTPUT_PATH,OUTPUT_FILENAME))"
   ]
  },
  {
   "cell_type": "code",
   "execution_count": null,
   "metadata": {
    "collapsed": true
   },
   "outputs": [],
   "source": [
    "!aws s3 cp {EC2_OUTPUT_PATH} {S3_OUTPUT_PATH} --recursive"
   ]
  },
  {
   "cell_type": "code",
   "execution_count": null,
   "metadata": {
    "collapsed": true
   },
   "outputs": [],
   "source": []
  }
 ],
 "metadata": {
  "kernelspec": {
   "display_name": "Python 27",
   "language": "python",
   "name": "python27"
  },
  "language_info": {
   "codemirror_mode": {
    "name": "ipython",
    "version": 2
   },
   "file_extension": ".py",
   "mimetype": "text/x-python",
   "name": "python",
   "nbconvert_exporter": "python",
   "pygments_lexer": "ipython2",
   "version": "2.7.13"
  }
 },
 "nbformat": 4,
 "nbformat_minor": 2
}
